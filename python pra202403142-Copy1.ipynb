{
 "cells": [
  {
   "cell_type": "code",
   "execution_count": 19,
   "id": "2c97a9c2",
   "metadata": {},
   "outputs": [
    {
     "name": "stdout",
     "output_type": "stream",
     "text": [
      "1\n"
     ]
    },
    {
     "ename": "NameError",
     "evalue": "name 'a' is not defined",
     "output_type": "error",
     "traceback": [
      "\u001b[1;31m---------------------------------------------------------------------------\u001b[0m",
      "\u001b[1;31mNameError\u001b[0m                                 Traceback (most recent call last)",
      "\u001b[1;32m~\\AppData\\Local\\Temp\\ipykernel_9552\\4035991380.py\u001b[0m in \u001b[0;36m<cell line: 2>\u001b[1;34m()\u001b[0m\n\u001b[0;32m      7\u001b[0m     \u001b[0mfirst\u001b[0m\u001b[1;33m=\u001b[0m \u001b[1;34m\"abcdefghijklmnopqrstuvwxyz \"\u001b[0m\u001b[1;33m\u001b[0m\u001b[1;33m\u001b[0m\u001b[0m\n\u001b[0;32m      8\u001b[0m     \u001b[0msecond\u001b[0m\u001b[1;33m=\u001b[0m \u001b[1;33m[\u001b[0m\u001b[1;34m'january'\u001b[0m\u001b[1;33m,\u001b[0m \u001b[1;34m'march'\u001b[0m\u001b[1;33m,\u001b[0m \u001b[1;34m'may'\u001b[0m\u001b[1;33m,\u001b[0m \u001b[1;34m'july'\u001b[0m\u001b[1;33m,\u001b[0m\u001b[1;34m'august'\u001b[0m\u001b[1;33m,\u001b[0m \u001b[1;34m'october'\u001b[0m\u001b[1;33m,\u001b[0m \u001b[1;34m'december'\u001b[0m\u001b[1;33m]\u001b[0m\u001b[1;33m\u001b[0m\u001b[1;33m\u001b[0m\u001b[0m\n\u001b[1;32m----> 9\u001b[1;33m     \u001b[0mresult\u001b[0m\u001b[1;33m=\u001b[0m \u001b[1;33m[\u001b[0m\u001b[0ma\u001b[0m\u001b[1;33m,\u001b[0m \u001b[0me\u001b[0m\u001b[1;33m,\u001b[0m \u001b[1;36m3\u001b[0m\u001b[1;33m,\u001b[0m \u001b[1;36m4\u001b[0m\u001b[1;33m,\u001b[0m \u001b[1;36m5\u001b[0m\u001b[1;33m,\u001b[0m \u001b[0mj\u001b[0m\u001b[1;33m,\u001b[0m \u001b[1;36m7\u001b[0m\u001b[1;33m,\u001b[0m \u001b[1;36m8\u001b[0m\u001b[1;33m,\u001b[0m \u001b[1;36m9\u001b[0m\u001b[1;33m,\u001b[0m \u001b[1;36m10\u001b[0m\u001b[1;33m]\u001b[0m\u001b[1;33m\u001b[0m\u001b[1;33m\u001b[0m\u001b[0m\n\u001b[0m\u001b[0;32m     10\u001b[0m \u001b[1;32mfor\u001b[0m \u001b[0mfirst\u001b[0m \u001b[1;32min\u001b[0m \u001b[0mx\u001b[0m\u001b[1;33m:\u001b[0m\u001b[1;33m\u001b[0m\u001b[1;33m\u001b[0m\u001b[0m\n\u001b[0;32m     11\u001b[0m     \u001b[0mprint\u001b[0m\u001b[1;33m(\u001b[0m\u001b[0mfirst\u001b[0m\u001b[1;33m)\u001b[0m\u001b[1;33m\u001b[0m\u001b[1;33m\u001b[0m\u001b[0m\n",
      "\u001b[1;31mNameError\u001b[0m: name 'a' is not defined"
     ]
    }
   ],
   "source": [
    "first = 1\n",
    "while first < 10:\n",
    "    # Loop Condition Expression\n",
    "    print(first)\n",
    "    first += 1  # adjusts the increase or decrease value of the loop variable.\n",
    "\n",
    "    first= \"abcdefghijklmnopqrstuvwxyz \"\n",
    "    second= ['january', 'march', 'may', 'july','august', 'october', 'december']\n",
    "    result= [a, e, 3, 4, 5, j, 7, 8, 9, 10] \n",
    "for first in x:\n",
    "    print(first)"
   ]
  },
  {
   "cell_type": "code",
   "execution_count": 35,
   "id": "ab815095",
   "metadata": {},
   "outputs": [
    {
     "ename": "SyntaxError",
     "evalue": "EOL while scanning string literal (3345061018.py, line 11)",
     "output_type": "error",
     "traceback": [
      "\u001b[1;36m  File \u001b[1;32m\"C:\\Users\\sng7065\\AppData\\Local\\Temp\\ipykernel_9552\\3345061018.py\"\u001b[1;36m, line \u001b[1;32m11\u001b[0m\n\u001b[1;33m    print(\"{0}*{1}={52: ^2}.”format(y, x, x * y), end=\" \")\u001b[0m\n\u001b[1;37m                                                          ^\u001b[0m\n\u001b[1;31mSyntaxError\u001b[0m\u001b[1;31m:\u001b[0m EOL while scanning string literal\n"
     ]
    }
   ],
   "source": [
    " for count in range(0, 21, 5):\n",
    "    addition += count # adds up the values\n",
    "    print('5 times cumulative result =',addition)\n",
    "# Output cumulative result\n",
    "\n",
    "names = [\"ram,\" \"raju,\" \"ravi\"]\n",
    "for index, x in enumerate(names): \n",
    "    \n",
    "    for x in range(6,68 ):\n",
    "        for y in range(1, 9):\n",
    "            print(\"{0}*{1}={52: ^2}.”format(y, x, x * y), end=\" \")"
   ]
  },
  {
   "cell_type": "code",
   "execution_count": 36,
   "id": "8403d01a",
   "metadata": {},
   "outputs": [
    {
     "name": "stdout",
     "output_type": "stream",
     "text": [
      "5 times cumulative result = 0\n",
      "5 times cumulative result = 5\n",
      "5 times cumulative result = 15\n",
      "5 times cumulative result = 30\n",
      "5 times cumulative result = 50\n",
      "1*6=6  2*6=12 3*6=18 4*6=24 5*6=30 6*6=36 7*6=42 8*6=48 \n",
      "1*7=7  2*7=14 3*7=21 4*7=28 5*7=35 6*7=42 7*7=49 8*7=56 \n",
      "1*8=8  2*8=16 3*8=24 4*8=32 5*8=40 6*8=48 7*8=56 8*8=64 \n",
      "1*9=9  2*9=18 3*9=27 4*9=36 5*9=45 6*9=54 7*9=63 8*9=72 \n",
      "1*10=10 2*10=20 3*10=30 4*10=40 5*10=50 6*10=60 7*10=70 8*10=80 \n",
      "1*11=11 2*11=22 3*11=33 4*11=44 5*11=55 6*11=66 7*11=77 8*11=88 \n",
      "1*12=12 2*12=24 3*12=36 4*12=48 5*12=60 6*12=72 7*12=84 8*12=96 \n",
      "1*13=13 2*13=26 3*13=39 4*13=52 5*13=65 6*13=78 7*13=91 8*13=104 \n",
      "1*14=14 2*14=28 3*14=42 4*14=56 5*14=70 6*14=84 7*14=98 8*14=112 \n",
      "1*15=15 2*15=30 3*15=45 4*15=60 5*15=75 6*15=90 7*15=105 8*15=120 \n",
      "1*16=16 2*16=32 3*16=48 4*16=64 5*16=80 6*16=96 7*16=112 8*16=128 \n",
      "1*17=17 2*17=34 3*17=51 4*17=68 5*17=85 6*17=102 7*17=119 8*17=136 \n",
      "1*18=18 2*18=36 3*18=54 4*18=72 5*18=90 6*18=108 7*18=126 8*18=144 \n",
      "1*19=19 2*19=38 3*19=57 4*19=76 5*19=95 6*19=114 7*19=133 8*19=152 \n",
      "1*20=20 2*20=40 3*20=60 4*20=80 5*20=100 6*20=120 7*20=140 8*20=160 \n",
      "1*21=21 2*21=42 3*21=63 4*21=84 5*21=105 6*21=126 7*21=147 8*21=168 \n",
      "1*22=22 2*22=44 3*22=66 4*22=88 5*22=110 6*22=132 7*22=154 8*22=176 \n",
      "1*23=23 2*23=46 3*23=69 4*23=92 5*23=115 6*23=138 7*23=161 8*23=184 \n",
      "1*24=24 2*24=48 3*24=72 4*24=96 5*24=120 6*24=144 7*24=168 8*24=192 \n",
      "1*25=25 2*25=50 3*25=75 4*25=100 5*25=125 6*25=150 7*25=175 8*25=200 \n",
      "1*26=26 2*26=52 3*26=78 4*26=104 5*26=130 6*26=156 7*26=182 8*26=208 \n",
      "1*27=27 2*27=54 3*27=81 4*27=108 5*27=135 6*27=162 7*27=189 8*27=216 \n",
      "1*28=28 2*28=56 3*28=84 4*28=112 5*28=140 6*28=168 7*28=196 8*28=224 \n",
      "1*29=29 2*29=58 3*29=87 4*29=116 5*29=145 6*29=174 7*29=203 8*29=232 \n",
      "1*30=30 2*30=60 3*30=90 4*30=120 5*30=150 6*30=180 7*30=210 8*30=240 \n",
      "1*31=31 2*31=62 3*31=93 4*31=124 5*31=155 6*31=186 7*31=217 8*31=248 \n",
      "1*32=32 2*32=64 3*32=96 4*32=128 5*32=160 6*32=192 7*32=224 8*32=256 \n",
      "1*33=33 2*33=66 3*33=99 4*33=132 5*33=165 6*33=198 7*33=231 8*33=264 \n",
      "1*34=34 2*34=68 3*34=102 4*34=136 5*34=170 6*34=204 7*34=238 8*34=272 \n",
      "1*35=35 2*35=70 3*35=105 4*35=140 5*35=175 6*35=210 7*35=245 8*35=280 \n",
      "1*36=36 2*36=72 3*36=108 4*36=144 5*36=180 6*36=216 7*36=252 8*36=288 \n",
      "1*37=37 2*37=74 3*37=111 4*37=148 5*37=185 6*37=222 7*37=259 8*37=296 \n",
      "1*38=38 2*38=76 3*38=114 4*38=152 5*38=190 6*38=228 7*38=266 8*38=304 \n",
      "1*39=39 2*39=78 3*39=117 4*39=156 5*39=195 6*39=234 7*39=273 8*39=312 \n",
      "1*40=40 2*40=80 3*40=120 4*40=160 5*40=200 6*40=240 7*40=280 8*40=320 \n",
      "1*41=41 2*41=82 3*41=123 4*41=164 5*41=205 6*41=246 7*41=287 8*41=328 \n",
      "1*42=42 2*42=84 3*42=126 4*42=168 5*42=210 6*42=252 7*42=294 8*42=336 \n",
      "1*43=43 2*43=86 3*43=129 4*43=172 5*43=215 6*43=258 7*43=301 8*43=344 \n",
      "1*44=44 2*44=88 3*44=132 4*44=176 5*44=220 6*44=264 7*44=308 8*44=352 \n",
      "1*45=45 2*45=90 3*45=135 4*45=180 5*45=225 6*45=270 7*45=315 8*45=360 \n",
      "1*46=46 2*46=92 3*46=138 4*46=184 5*46=230 6*46=276 7*46=322 8*46=368 \n",
      "1*47=47 2*47=94 3*47=141 4*47=188 5*47=235 6*47=282 7*47=329 8*47=376 \n",
      "1*48=48 2*48=96 3*48=144 4*48=192 5*48=240 6*48=288 7*48=336 8*48=384 \n",
      "1*49=49 2*49=98 3*49=147 4*49=196 5*49=245 6*49=294 7*49=343 8*49=392 \n",
      "1*50=50 2*50=100 3*50=150 4*50=200 5*50=250 6*50=300 7*50=350 8*50=400 \n",
      "1*51=51 2*51=102 3*51=153 4*51=204 5*51=255 6*51=306 7*51=357 8*51=408 \n",
      "1*52=52 2*52=104 3*52=156 4*52=208 5*52=260 6*52=312 7*52=364 8*52=416 \n",
      "1*53=53 2*53=106 3*53=159 4*53=212 5*53=265 6*53=318 7*53=371 8*53=424 \n",
      "1*54=54 2*54=108 3*54=162 4*54=216 5*54=270 6*54=324 7*54=378 8*54=432 \n",
      "1*55=55 2*55=110 3*55=165 4*55=220 5*55=275 6*55=330 7*55=385 8*55=440 \n",
      "1*56=56 2*56=112 3*56=168 4*56=224 5*56=280 6*56=336 7*56=392 8*56=448 \n",
      "1*57=57 2*57=114 3*57=171 4*57=228 5*57=285 6*57=342 7*57=399 8*57=456 \n",
      "1*58=58 2*58=116 3*58=174 4*58=232 5*58=290 6*58=348 7*58=406 8*58=464 \n",
      "1*59=59 2*59=118 3*59=177 4*59=236 5*59=295 6*59=354 7*59=413 8*59=472 \n",
      "1*60=60 2*60=120 3*60=180 4*60=240 5*60=300 6*60=360 7*60=420 8*60=480 \n",
      "1*61=61 2*61=122 3*61=183 4*61=244 5*61=305 6*61=366 7*61=427 8*61=488 \n",
      "1*62=62 2*62=124 3*62=186 4*62=248 5*62=310 6*62=372 7*62=434 8*62=496 \n",
      "1*63=63 2*63=126 3*63=189 4*63=252 5*63=315 6*63=378 7*63=441 8*63=504 \n",
      "1*64=64 2*64=128 3*64=192 4*64=256 5*64=320 6*64=384 7*64=448 8*64=512 \n",
      "1*65=65 2*65=130 3*65=195 4*65=260 5*65=325 6*65=390 7*65=455 8*65=520 \n",
      "1*66=66 2*66=132 3*66=198 4*66=264 5*66=330 6*66=396 7*66=462 8*66=528 \n",
      "1*67=67 2*67=134 3*67=201 4*67=268 5*67=335 6*67=402 7*67=469 8*67=536 \n",
      "1*6=6  2*6=12 3*6=18 4*6=24 5*6=30 6*6=36 7*6=42 8*6=48 \n",
      "1*7=7  2*7=14 3*7=21 4*7=28 5*7=35 6*7=42 7*7=49 8*7=56 \n",
      "1*8=8  2*8=16 3*8=24 4*8=32 5*8=40 6*8=48 7*8=56 8*8=64 \n",
      "1*9=9  2*9=18 3*9=27 4*9=36 5*9=45 6*9=54 7*9=63 8*9=72 \n",
      "1*10=10 2*10=20 3*10=30 4*10=40 5*10=50 6*10=60 7*10=70 8*10=80 \n",
      "1*11=11 2*11=22 3*11=33 4*11=44 5*11=55 6*11=66 7*11=77 8*11=88 \n",
      "1*12=12 2*12=24 3*12=36 4*12=48 5*12=60 6*12=72 7*12=84 8*12=96 \n",
      "1*13=13 2*13=26 3*13=39 4*13=52 5*13=65 6*13=78 7*13=91 8*13=104 \n",
      "1*14=14 2*14=28 3*14=42 4*14=56 5*14=70 6*14=84 7*14=98 8*14=112 \n",
      "1*15=15 2*15=30 3*15=45 4*15=60 5*15=75 6*15=90 7*15=105 8*15=120 \n",
      "1*16=16 2*16=32 3*16=48 4*16=64 5*16=80 6*16=96 7*16=112 8*16=128 \n",
      "1*17=17 2*17=34 3*17=51 4*17=68 5*17=85 6*17=102 7*17=119 8*17=136 \n",
      "1*18=18 2*18=36 3*18=54 4*18=72 5*18=90 6*18=108 7*18=126 8*18=144 \n",
      "1*19=19 2*19=38 3*19=57 4*19=76 5*19=95 6*19=114 7*19=133 8*19=152 \n",
      "1*20=20 2*20=40 3*20=60 4*20=80 5*20=100 6*20=120 7*20=140 8*20=160 \n",
      "1*21=21 2*21=42 3*21=63 4*21=84 5*21=105 6*21=126 7*21=147 8*21=168 \n",
      "1*22=22 2*22=44 3*22=66 4*22=88 5*22=110 6*22=132 7*22=154 8*22=176 \n",
      "1*23=23 2*23=46 3*23=69 4*23=92 5*23=115 6*23=138 7*23=161 8*23=184 \n",
      "1*24=24 2*24=48 3*24=72 4*24=96 5*24=120 6*24=144 7*24=168 8*24=192 \n",
      "1*25=25 2*25=50 3*25=75 4*25=100 5*25=125 6*25=150 7*25=175 8*25=200 \n",
      "1*26=26 2*26=52 3*26=78 4*26=104 5*26=130 6*26=156 7*26=182 8*26=208 \n",
      "1*27=27 2*27=54 3*27=81 4*27=108 5*27=135 6*27=162 7*27=189 8*27=216 \n",
      "1*28=28 2*28=56 3*28=84 4*28=112 5*28=140 6*28=168 7*28=196 8*28=224 \n",
      "1*29=29 2*29=58 3*29=87 4*29=116 5*29=145 6*29=174 7*29=203 8*29=232 \n",
      "1*30=30 2*30=60 3*30=90 4*30=120 5*30=150 6*30=180 7*30=210 8*30=240 \n",
      "1*31=31 2*31=62 3*31=93 4*31=124 5*31=155 6*31=186 7*31=217 8*31=248 \n",
      "1*32=32 2*32=64 3*32=96 4*32=128 5*32=160 6*32=192 7*32=224 8*32=256 \n",
      "1*33=33 2*33=66 3*33=99 4*33=132 5*33=165 6*33=198 7*33=231 8*33=264 \n",
      "1*34=34 2*34=68 3*34=102 4*34=136 5*34=170 6*34=204 7*34=238 8*34=272 \n",
      "1*35=35 2*35=70 3*35=105 4*35=140 5*35=175 6*35=210 7*35=245 8*35=280 \n",
      "1*36=36 2*36=72 3*36=108 4*36=144 5*36=180 6*36=216 7*36=252 8*36=288 \n",
      "1*37=37 2*37=74 3*37=111 4*37=148 5*37=185 6*37=222 7*37=259 8*37=296 \n",
      "1*38=38 2*38=76 3*38=114 4*38=152 5*38=190 6*38=228 7*38=266 8*38=304 \n",
      "1*39=39 2*39=78 3*39=117 4*39=156 5*39=195 6*39=234 7*39=273 8*39=312 \n",
      "1*40=40 2*40=80 3*40=120 4*40=160 5*40=200 6*40=240 7*40=280 8*40=320 \n",
      "1*41=41 2*41=82 3*41=123 4*41=164 5*41=205 6*41=246 7*41=287 8*41=328 \n",
      "1*42=42 2*42=84 3*42=126 4*42=168 5*42=210 6*42=252 7*42=294 8*42=336 \n",
      "1*43=43 2*43=86 3*43=129 4*43=172 5*43=215 6*43=258 7*43=301 8*43=344 \n",
      "1*44=44 2*44=88 3*44=132 4*44=176 5*44=220 6*44=264 7*44=308 8*44=352 \n",
      "1*45=45 2*45=90 3*45=135 4*45=180 5*45=225 6*45=270 7*45=315 8*45=360 \n",
      "1*46=46 2*46=92 3*46=138 4*46=184 5*46=230 6*46=276 7*46=322 8*46=368 \n",
      "1*47=47 2*47=94 3*47=141 4*47=188 5*47=235 6*47=282 7*47=329 8*47=376 \n",
      "1*48=48 2*48=96 3*48=144 4*48=192 5*48=240 6*48=288 7*48=336 8*48=384 \n",
      "1*49=49 2*49=98 3*49=147 4*49=196 5*49=245 6*49=294 7*49=343 8*49=392 \n",
      "1*50=50 2*50=100 3*50=150 4*50=200 5*50=250 6*50=300 7*50=350 8*50=400 \n",
      "1*51=51 2*51=102 3*51=153 4*51=204 5*51=255 6*51=306 7*51=357 8*51=408 \n",
      "1*52=52 2*52=104 3*52=156 4*52=208 5*52=260 6*52=312 7*52=364 8*52=416 \n",
      "1*53=53 2*53=106 3*53=159 4*53=212 5*53=265 6*53=318 7*53=371 8*53=424 \n",
      "1*54=54 2*54=108 3*54=162 4*54=216 5*54=270 6*54=324 7*54=378 8*54=432 \n",
      "1*55=55 2*55=110 3*55=165 4*55=220 5*55=275 6*55=330 7*55=385 8*55=440 \n",
      "1*56=56 2*56=112 3*56=168 4*56=224 5*56=280 6*56=336 7*56=392 8*56=448 \n",
      "1*57=57 2*57=114 3*57=171 4*57=228 5*57=285 6*57=342 7*57=399 8*57=456 \n",
      "1*58=58 2*58=116 3*58=174 4*58=232 5*58=290 6*58=348 7*58=406 8*58=464 \n",
      "1*59=59 2*59=118 3*59=177 4*59=236 5*59=295 6*59=354 7*59=413 8*59=472 \n",
      "1*60=60 2*60=120 3*60=180 4*60=240 5*60=300 6*60=360 7*60=420 8*60=480 \n",
      "1*61=61 2*61=122 3*61=183 4*61=244 5*61=305 6*61=366 7*61=427 8*61=488 \n",
      "1*62=62 2*62=124 3*62=186 4*62=248 5*62=310 6*62=372 7*62=434 8*62=496 \n",
      "1*63=63 2*63=126 3*63=189 4*63=252 5*63=315 6*63=378 7*63=441 8*63=504 \n",
      "1*64=64 2*64=128 3*64=192 4*64=256 5*64=320 6*64=384 7*64=448 8*64=512 \n",
      "1*65=65 2*65=130 3*65=195 4*65=260 5*65=325 6*65=390 7*65=455 8*65=520 \n",
      "1*66=66 2*66=132 3*66=198 4*66=264 5*66=330 6*66=396 7*66=462 8*66=528 \n",
      "1*67=67 2*67=134 3*67=201 4*67=268 5*67=335 6*67=402 7*67=469 8*67=536 \n",
      "1*6=6  2*6=12 3*6=18 4*6=24 5*6=30 6*6=36 7*6=42 8*6=48 \n",
      "1*7=7  2*7=14 3*7=21 4*7=28 5*7=35 6*7=42 7*7=49 8*7=56 \n",
      "1*8=8  2*8=16 3*8=24 4*8=32 5*8=40 6*8=48 7*8=56 8*8=64 \n",
      "1*9=9  2*9=18 3*9=27 4*9=36 5*9=45 6*9=54 7*9=63 8*9=72 \n",
      "1*10=10 2*10=20 3*10=30 4*10=40 5*10=50 6*10=60 7*10=70 8*10=80 \n",
      "1*11=11 2*11=22 3*11=33 4*11=44 5*11=55 6*11=66 7*11=77 8*11=88 \n",
      "1*12=12 2*12=24 3*12=36 4*12=48 5*12=60 6*12=72 7*12=84 8*12=96 \n",
      "1*13=13 2*13=26 3*13=39 4*13=52 5*13=65 6*13=78 7*13=91 8*13=104 \n",
      "1*14=14 2*14=28 3*14=42 4*14=56 5*14=70 6*14=84 7*14=98 8*14=112 \n",
      "1*15=15 2*15=30 3*15=45 4*15=60 5*15=75 6*15=90 7*15=105 8*15=120 \n",
      "1*16=16 2*16=32 3*16=48 4*16=64 5*16=80 6*16=96 7*16=112 8*16=128 \n",
      "1*17=17 2*17=34 3*17=51 4*17=68 5*17=85 6*17=102 7*17=119 8*17=136 \n",
      "1*18=18 2*18=36 3*18=54 4*18=72 5*18=90 6*18=108 7*18=126 8*18=144 \n",
      "1*19=19 2*19=38 3*19=57 4*19=76 5*19=95 6*19=114 7*19=133 8*19=152 \n",
      "1*20=20 2*20=40 3*20=60 4*20=80 5*20=100 6*20=120 7*20=140 8*20=160 \n",
      "1*21=21 2*21=42 3*21=63 4*21=84 5*21=105 6*21=126 7*21=147 8*21=168 \n",
      "1*22=22 2*22=44 3*22=66 4*22=88 5*22=110 6*22=132 7*22=154 8*22=176 \n",
      "1*23=23 2*23=46 3*23=69 4*23=92 5*23=115 6*23=138 7*23=161 8*23=184 \n",
      "1*24=24 2*24=48 3*24=72 4*24=96 5*24=120 6*24=144 7*24=168 8*24=192 \n",
      "1*25=25 2*25=50 3*25=75 4*25=100 5*25=125 6*25=150 7*25=175 8*25=200 \n",
      "1*26=26 2*26=52 3*26=78 4*26=104 5*26=130 6*26=156 7*26=182 8*26=208 \n",
      "1*27=27 2*27=54 3*27=81 4*27=108 5*27=135 6*27=162 7*27=189 8*27=216 \n",
      "1*28=28 2*28=56 3*28=84 4*28=112 5*28=140 6*28=168 7*28=196 8*28=224 \n",
      "1*29=29 2*29=58 3*29=87 4*29=116 5*29=145 6*29=174 7*29=203 8*29=232 \n",
      "1*30=30 2*30=60 3*30=90 4*30=120 5*30=150 6*30=180 7*30=210 8*30=240 \n",
      "1*31=31 2*31=62 3*31=93 4*31=124 5*31=155 6*31=186 7*31=217 8*31=248 \n",
      "1*32=32 2*32=64 3*32=96 4*32=128 5*32=160 6*32=192 7*32=224 8*32=256 \n",
      "1*33=33 2*33=66 3*33=99 4*33=132 5*33=165 6*33=198 7*33=231 8*33=264 \n",
      "1*34=34 2*34=68 3*34=102 4*34=136 5*34=170 6*34=204 7*34=238 8*34=272 \n",
      "1*35=35 2*35=70 3*35=105 4*35=140 5*35=175 6*35=210 7*35=245 8*35=280 \n",
      "1*36=36 2*36=72 3*36=108 4*36=144 5*36=180 6*36=216 7*36=252 8*36=288 \n",
      "1*37=37 2*37=74 3*37=111 4*37=148 5*37=185 6*37=222 7*37=259 8*37=296 \n",
      "1*38=38 2*38=76 3*38=114 4*38=152 5*38=190 6*38=228 7*38=266 8*38=304 \n",
      "1*39=39 2*39=78 3*39=117 4*39=156 5*39=195 6*39=234 7*39=273 8*39=312 \n",
      "1*40=40 2*40=80 3*40=120 4*40=160 5*40=200 6*40=240 7*40=280 8*40=320 \n",
      "1*41=41 2*41=82 3*41=123 4*41=164 5*41=205 6*41=246 7*41=287 8*41=328 \n",
      "1*42=42 2*42=84 3*42=126 4*42=168 5*42=210 6*42=252 7*42=294 8*42=336 \n",
      "1*43=43 2*43=86 3*43=129 4*43=172 5*43=215 6*43=258 7*43=301 8*43=344 \n",
      "1*44=44 2*44=88 3*44=132 4*44=176 5*44=220 6*44=264 7*44=308 8*44=352 \n",
      "1*45=45 2*45=90 3*45=135 4*45=180 5*45=225 6*45=270 7*45=315 8*45=360 \n",
      "1*46=46 2*46=92 3*46=138 4*46=184 5*46=230 6*46=276 7*46=322 8*46=368 \n",
      "1*47=47 2*47=94 3*47=141 4*47=188 5*47=235 6*47=282 7*47=329 8*47=376 \n",
      "1*48=48 2*48=96 3*48=144 4*48=192 5*48=240 6*48=288 7*48=336 8*48=384 \n",
      "1*49=49 2*49=98 3*49=147 4*49=196 5*49=245 6*49=294 7*49=343 8*49=392 \n",
      "1*50=50 2*50=100 3*50=150 4*50=200 5*50=250 6*50=300 7*50=350 8*50=400 \n",
      "1*51=51 2*51=102 3*51=153 4*51=204 5*51=255 6*51=306 7*51=357 8*51=408 \n",
      "1*52=52 2*52=104 3*52=156 4*52=208 5*52=260 6*52=312 7*52=364 8*52=416 \n",
      "1*53=53 2*53=106 3*53=159 4*53=212 5*53=265 6*53=318 7*53=371 8*53=424 \n",
      "1*54=54 2*54=108 3*54=162 4*54=216 5*54=270 6*54=324 7*54=378 8*54=432 \n",
      "1*55=55 2*55=110 3*55=165 4*55=220 5*55=275 6*55=330 7*55=385 8*55=440 \n",
      "1*56=56 2*56=112 3*56=168 4*56=224 5*56=280 6*56=336 7*56=392 8*56=448 \n",
      "1*57=57 2*57=114 3*57=171 4*57=228 5*57=285 6*57=342 7*57=399 8*57=456 \n",
      "1*58=58 2*58=116 3*58=174 4*58=232 5*58=290 6*58=348 7*58=406 8*58=464 \n",
      "1*59=59 2*59=118 3*59=177 4*59=236 5*59=295 6*59=354 7*59=413 8*59=472 \n",
      "1*60=60 2*60=120 3*60=180 4*60=240 5*60=300 6*60=360 7*60=420 8*60=480 \n",
      "1*61=61 2*61=122 3*61=183 4*61=244 5*61=305 6*61=366 7*61=427 8*61=488 \n",
      "1*62=62 2*62=124 3*62=186 4*62=248 5*62=310 6*62=372 7*62=434 8*62=496 \n",
      "1*63=63 2*63=126 3*63=189 4*63=252 5*63=315 6*63=378 7*63=441 8*63=504 \n",
      "1*64=64 2*64=128 3*64=192 4*64=256 5*64=320 6*64=384 7*64=448 8*64=512 \n",
      "1*65=65 2*65=130 3*65=195 4*65=260 5*65=325 6*65=390 7*65=455 8*65=520 \n",
      "1*66=66 2*66=132 3*66=198 4*66=264 5*66=330 6*66=396 7*66=462 8*66=528 \n",
      "1*67=67 2*67=134 3*67=201 4*67=268 5*67=335 6*67=402 7*67=469 8*67=536 \n"
     ]
    }
   ],
   "source": [
    "addition = 0  # Initialize addition variable\n",
    "\n",
    "# Loop to calculate cumulative result\n",
    "for count in range(0, 21, 5):\n",
    "    addition += count  # adds up the values\n",
    "    print('5 times cumulative result =', addition)\n",
    "\n",
    "# Output cumulative result\n",
    "\n",
    "names = [\"ram\", \"raju\", \"ravi\"]  # Corrected formatting\n",
    "\n",
    "for index, name in enumerate(names):\n",
    "    for x in range(6, 68):\n",
    "        for y in range(1, 9):\n",
    "            print(\"{0}*{1}={2:^2}\".format(y, x, x * y), end=\" \")\n",
    "        print()  # Print new line after each inner loop completes\n"
   ]
  },
  {
   "cell_type": "code",
   "execution_count": 62,
   "id": "466eea64",
   "metadata": {},
   "outputs": [
    {
     "name": "stdout",
     "output_type": "stream",
     "text": [
      "5 times cumulative result = 0\n",
      "5 times cumulative result = 5\n",
      "5 times cumulative result = 15\n",
      "5 times cumulative result = 30\n",
      "5 times cumulative result = 50\n"
     ]
    },
    {
     "ename": "IndexError",
     "evalue": "Replacement index 52 out of range for positional args tuple",
     "output_type": "error",
     "traceback": [
      "\u001b[1;31m---------------------------------------------------------------------------\u001b[0m",
      "\u001b[1;31mIndexError\u001b[0m                                Traceback (most recent call last)",
      "\u001b[1;32m~\\AppData\\Local\\Temp\\ipykernel_9552\\3425611627.py\u001b[0m in \u001b[0;36m<cell line: 15>\u001b[1;34m()\u001b[0m\n\u001b[0;32m     17\u001b[0m     \u001b[1;32mfor\u001b[0m \u001b[0mx\u001b[0m \u001b[1;32min\u001b[0m \u001b[0mrange\u001b[0m\u001b[1;33m(\u001b[0m\u001b[1;36m6\u001b[0m\u001b[1;33m,\u001b[0m\u001b[1;36m68\u001b[0m \u001b[1;33m)\u001b[0m\u001b[1;33m:\u001b[0m\u001b[1;33m\u001b[0m\u001b[1;33m\u001b[0m\u001b[0m\n\u001b[0;32m     18\u001b[0m         \u001b[1;32mfor\u001b[0m \u001b[0my\u001b[0m \u001b[1;32min\u001b[0m \u001b[0mrange\u001b[0m\u001b[1;33m(\u001b[0m\u001b[1;36m1\u001b[0m\u001b[1;33m,\u001b[0m \u001b[1;36m9\u001b[0m\u001b[1;33m)\u001b[0m\u001b[1;33m:\u001b[0m\u001b[1;33m\u001b[0m\u001b[1;33m\u001b[0m\u001b[0m\n\u001b[1;32m---> 19\u001b[1;33m             \u001b[0mprint\u001b[0m\u001b[1;33m(\u001b[0m\u001b[1;34m\"{0}*{1}={52: ^2}\"\u001b[0m\u001b[1;33m.\u001b[0m\u001b[0mformat\u001b[0m\u001b[1;33m(\u001b[0m\u001b[0my\u001b[0m\u001b[1;33m,\u001b[0m \u001b[0mx\u001b[0m\u001b[1;33m,\u001b[0m \u001b[0mx\u001b[0m \u001b[1;33m*\u001b[0m \u001b[0my\u001b[0m\u001b[1;33m)\u001b[0m\u001b[1;33m,\u001b[0m\u001b[0mend\u001b[0m\u001b[1;33m=\u001b[0m\u001b[1;34m\" \"\u001b[0m\u001b[1;33m)\u001b[0m\u001b[1;33m\u001b[0m\u001b[1;33m\u001b[0m\u001b[0m\n\u001b[0m\u001b[0;32m     20\u001b[0m         \u001b[0mprint\u001b[0m\u001b[1;33m(\u001b[0m\u001b[1;33m)\u001b[0m\u001b[1;33m\u001b[0m\u001b[1;33m\u001b[0m\u001b[0m\n",
      "\u001b[1;31mIndexError\u001b[0m: Replacement index 52 out of range for positional args tuple"
     ]
    }
   ],
   "source": [
    "# -*- coding: utf-8 -*-\n",
    "\"\"\"\n",
    " Accumulate multiples of 5 within a certain numerical range\n",
    "\"\"\"\n",
    "    \n",
    "addition = 0 # stores the accumulated result\n",
    "\n",
    " # enters for/in loop\n",
    "for count in range(0, 21, 5):\n",
    "    addition += count # adds up the values\n",
    "    print('5 times cumulative result =',addition)\n",
    "# Output cumulative result \n",
    "\n",
    "names = [\"ram,\" \"raju,\" \"ravi\"]\n",
    "for index, x in enumerate(names): \n",
    "    \n",
    "    for x in range(6,68 ):\n",
    "        for y in range(1, 9):\n",
    "            print(\"{0}*{1}={52: ^2}\".format(y, x, x * y),end=\" \") \n",
    "        print() "
   ]
  },
  {
   "cell_type": "code",
   "execution_count": 64,
   "id": "04dd6557",
   "metadata": {},
   "outputs": [
    {
     "ename": "SyntaxError",
     "evalue": "Missing parentheses in call to 'print'. Did you mean print(\"%s says: Honk! Honk!\" %self.makeAndModel)? (2935175444.py, line 9)",
     "output_type": "error",
     "traceback": [
      "\u001b[1;36m  File \u001b[1;32m\"C:\\Users\\sng7065\\AppData\\Local\\Temp\\ipykernel_9552\\2935175444.py\"\u001b[1;36m, line \u001b[1;32m9\u001b[0m\n\u001b[1;33m    print \"%s says: Honk! Honk!\" %self.makeAndModel\u001b[0m\n\u001b[1;37m          ^\u001b[0m\n\u001b[1;31mSyntaxError\u001b[0m\u001b[1;31m:\u001b[0m Missing parentheses in call to 'print'. Did you mean print(\"%s says: Honk! Honk!\" %self.makeAndModel)?\n"
     ]
    }
   ],
   "source": [
    "class Vehicle(object):\n",
    "    def __init__(self, makeAndModel, prodYear,\n",
    "airConditioning):\n",
    "        self.makeAndModel = makeAndModel\n",
    "        self.prodYear = prodYear\n",
    "        self.airConditioning = airConditioning\n",
    "        self.doors = 4\n",
    "    def honk(self):\n",
    "        print \"%s says: Honk! Honk!\" %self.makeAndModel "
   ]
  },
  {
   "cell_type": "code",
   "execution_count": 75,
   "id": "fe4dca00",
   "metadata": {},
   "outputs": [],
   "source": [
    "class Vehicle(object):\n",
    "    def __init__(self, makeAndModel, prodYear, airConditioning):\n",
    "        self.makeAndModel = makeAndModel\n",
    "        self.prodYear = prodYear\n",
    "        self.airConditioning = airConditioning\n",
    "        self.doors = 4\n",
    "    \n",
    "    def honk(self):\n",
    "        print(\"%s says: Honk! Honk!\" % self.makeAndModel)\n",
    "\n",
    "        \n"
   ]
  },
  {
   "cell_type": "code",
   "execution_count": 79,
   "id": "7824a4d2",
   "metadata": {},
   "outputs": [
    {
     "name": "stdout",
     "output_type": "stream",
     "text": [
      "Ferrari Laferrari says: Honk! Honk!\n"
     ]
    }
   ],
   "source": [
    "class SportsCar(Vehicle):\n",
    "    def _init_(self, makeAndModel, prodYear,airConditioning):\n",
    "        self.makeAndModel = makeAndModel\n",
    "        self.prodYear = prodYear \n",
    "        self.airConditioning = airConditioning\n",
    "        self.doors = 4 \n",
    "ferrari = SportsCar(\"Ferrari Laferrari\", 2016,True) \n",
    "ferrari.honk() "
   ]
  },
  {
   "cell_type": "code",
   "execution_count": 74,
   "id": "5c1a8d2c",
   "metadata": {},
   "outputs": [
    {
     "name": "stdout",
     "output_type": "stream",
     "text": [
      "Ferrari Laferrari says: Honk! Honk!\n"
     ]
    }
   ],
   "source": [
    "class SportsCar(Vehicle):\n",
    "    def __init__(self, makeAndModel, prodYear, airConditioning):\n",
    "        super().__init__(makeAndModel, prodYear, airConditioning)\n",
    "        self.doors = 2  # Sports cars typically have 2 doors\n",
    "\n",
    "# Create an instance of SportsCar\n",
    "ferrari = SportsCar(\"Ferrari Laferrari\", 2016, True)\n",
    "\n",
    "# Call the honk method\n",
    "ferrari.honk()\n"
   ]
  },
  {
   "cell_type": "code",
   "execution_count": 95,
   "id": "79236b18",
   "metadata": {},
   "outputs": [],
   "source": [
    "def __init__(self, makeAndModel, prodYear,airConditioning):\n",
    "    self.makeAndModel = makeAndModel\n",
    "    self.prodYear = prodYear\n",
    "    self.airConditioning = airConditioning\n",
    "    self.doors = 4\n",
    "def __init__(self, makeAndModel, prodYear,airConditioning, doors):\n",
    "    self.makeAndModel = makeAndModel\n",
    "    self.prodYear = prodYear\n",
    "    self.airConditioning = airConditioning\n",
    "    self.doors = doors \n",
    "    \n",
    "class Moped(Vehicle):\n",
    "    def __init__(self, makeAndModel, prodYear):\n",
    "        self.makeAndModel = makeAndModel\n",
    "        self.prodYear = prodYear\n",
    "        self.airConditioning = False\n",
    "        self.doors = 0 \n",
    "    \n",
    "def honk(self):\n",
    "    print (\"%s says: Beep! Beep!\" % self.makeAndModel )"
   ]
  },
  {
   "cell_type": "code",
   "execution_count": 98,
   "id": "a1a05cff",
   "metadata": {},
   "outputs": [
    {
     "name": "stdout",
     "output_type": "stream",
     "text": [
      "Toyota Camry says: Beep! Beep!\n",
      "Honda Super Cub says: Beep! Beep!\n"
     ]
    }
   ],
   "source": [
    "class Vehicle(object):\n",
    "    def __init__(self, makeAndModel, prodYear, airConditioning, doors=4):\n",
    "        self.makeAndModel = makeAndModel\n",
    "        self.prodYear = prodYear\n",
    "        self.airConditioning = airConditioning\n",
    "        self.doors = doors \n",
    "    \n",
    "    def honk(self):\n",
    "        print(\"%s says: Beep! Beep!\" % self.makeAndModel )\n",
    "\n",
    "class Moped(Vehicle):\n",
    "    def __init__(self, makeAndModel, prodYear):\n",
    "        super().__init__(makeAndModel, prodYear, False, 0)\n",
    "# Create an instance of Vehicle\n",
    "car = Vehicle(\"Toyota Camry\", 2020, True)\n",
    "# Call the honk method\n",
    "car.honk()\n",
    "\n",
    "# Create an instance of Moped\n",
    "moped = Moped(\"Honda Super Cub\", 2019)\n",
    "# Call the honk method\n",
    "moped.honk()\n"
   ]
  },
  {
   "cell_type": "code",
   "execution_count": 104,
   "id": "8e5bfa91",
   "metadata": {},
   "outputs": [
    {
     "ename": "SyntaxError",
     "evalue": "EOL while scanning string literal (2565673166.py, line 20)",
     "output_type": "error",
     "traceback": [
      "\u001b[1;36m  File \u001b[1;32m\"C:\\Users\\sng7065\\AppData\\Local\\Temp\\ipykernel_9552\\2565673166.py\"\u001b[1;36m, line \u001b[1;32m20\u001b[0m\n\u001b[1;33m    print('% 9s %.2fs %i %.3f %.3f %.3f %.3f %.3f\u001b[0m\n\u001b[1;37m                                                 ^\u001b[0m\n\u001b[1;31mSyntaxError\u001b[0m\u001b[1;31m:\u001b[0m EOL while scanning string literal\n"
     ]
    }
   ],
   "source": [
    "from time import time\n",
    "import numpy as np\n",
    "import matplotlib.pyplot as plt\n",
    "from sklearn import datasets\n",
    "np.random.seed()\n",
    "digits = datasets.load_digits()\n",
    "data = scale(digits.data)\n",
    "n_samples, n_features = data.shape\n",
    "n_digits = len(np.unique(digits.target))\n",
    "labels = digits.target\n",
    "sample_size = 300\n",
    "print(\"n_digits: %d, \\t n_samples %d, \\t n_features %d\"\n",
    "% (n_digits, n_samples, n_features))\n",
    "print(79 * '_')\n",
    "print('% 9s' % 'init'' time inertia homo compl v-meas ARI AMI silhouette')\n",
    "def bench_k_means(estimator, name, data):\n",
    "    t0 = time()\n",
    "estimator.fit(data)\n",
    "\n",
    "print('% 9s %.2fs %i %.3f %.3f %.3f %.3f %.3f\n",
    "%.3f'\n",
    "% (name, (time() - t0), estimator.inertia_,\n",
    "metrics.homogeneity_score(labels,\n",
    "estimator.labels_),\n",
    "metrics.completeness_score(labels,\n",
    "estimator.labels_),\n",
    "metrics.v_measure_score(labels,\n",
    "estimator.labels_),\n",
    "metrics.adjusted_rand_score(labels,\n",
    "estimator.labels_),\n",
    "metrics.silhouette_score(data, estimator.labels_,\n",
    "metric='euclidean',\n",
    "sample_size=sample_size)))\n",
    "(Source: K Means clustering – Implementing k\n",
    "Means. Adapted from\n",
    "https://techwithtim.net/tutorials/machinelearning-Python/k-means-2/ accessed in October\n",
    "2019) \n",
    "\n",
    "bench_k_means(KMeans(init='k-means++',\n",
    "n_clusters=n_digits, n_ init=10),\n",
    "name=\"k-means++\", data=data) print(79 * '_') "
   ]
  },
  {
   "cell_type": "code",
   "execution_count": 2,
   "id": "5a57f5c6",
   "metadata": {},
   "outputs": [
    {
     "ename": "ModuleNotFoundError",
     "evalue": "No module named 'sklearn'",
     "output_type": "error",
     "traceback": [
      "\u001b[1;31m---------------------------------------------------------------------------\u001b[0m",
      "\u001b[1;31mModuleNotFoundError\u001b[0m                       Traceback (most recent call last)",
      "\u001b[1;32m~\\AppData\\Local\\Temp\\ipykernel_1264\\3720618347.py\u001b[0m in \u001b[0;36m<cell line: 4>\u001b[1;34m()\u001b[0m\n\u001b[0;32m      2\u001b[0m \u001b[1;32mimport\u001b[0m \u001b[0mnumpy\u001b[0m \u001b[1;32mas\u001b[0m \u001b[0mnp\u001b[0m\u001b[1;33m\u001b[0m\u001b[1;33m\u001b[0m\u001b[0m\n\u001b[0;32m      3\u001b[0m \u001b[1;32mimport\u001b[0m \u001b[0mmatplotlib\u001b[0m\u001b[1;33m.\u001b[0m\u001b[0mpyplot\u001b[0m \u001b[1;32mas\u001b[0m \u001b[0mplt\u001b[0m\u001b[1;33m\u001b[0m\u001b[1;33m\u001b[0m\u001b[0m\n\u001b[1;32m----> 4\u001b[1;33m \u001b[1;32mfrom\u001b[0m \u001b[0msklearn\u001b[0m \u001b[1;32mimport\u001b[0m \u001b[0mdatasets\u001b[0m\u001b[1;33m\u001b[0m\u001b[1;33m\u001b[0m\u001b[0m\n\u001b[0m\u001b[0;32m      5\u001b[0m \u001b[1;32mfrom\u001b[0m \u001b[0msklearn\u001b[0m\u001b[1;33m.\u001b[0m\u001b[0mpreprocessing\u001b[0m \u001b[1;32mimport\u001b[0m \u001b[0mscale\u001b[0m\u001b[1;33m\u001b[0m\u001b[1;33m\u001b[0m\u001b[0m\n\u001b[0;32m      6\u001b[0m \u001b[1;32mfrom\u001b[0m \u001b[0msklearn\u001b[0m\u001b[1;33m.\u001b[0m\u001b[0mcluster\u001b[0m \u001b[1;32mimport\u001b[0m \u001b[0mKMeans\u001b[0m\u001b[1;33m\u001b[0m\u001b[1;33m\u001b[0m\u001b[0m\n",
      "\u001b[1;31mModuleNotFoundError\u001b[0m: No module named 'sklearn'"
     ]
    }
   ],
   "source": [
    "from time import time\n",
    "import numpy as np\n",
    "import matplotlib.pyplot as plt\n",
    "from sklearn import datasets\n",
    "from sklearn.preprocessing import scale\n",
    "from sklearn.cluster import KMeans\n",
    "from sklearn import metrics\n",
    "\n",
    "np.random.seed()\n",
    "\n",
    "digits = datasets.load_digits()\n",
    "data = scale(digits.data)\n",
    "n_samples, n_features = data.shape\n",
    "n_digits = len(np.unique(digits.target))\n",
    "labels = digits.target\n",
    "sample_size = 300\n",
    "\n",
    "print(\"n_digits: %d, \\t n_samples %d, \\t n_features %d\"\n",
    "      % (n_digits, n_samples, n_features))\n",
    "print(79 * '_')\n",
    "print('% 9s' % 'init'' time inertia homo compl v-meas ARI AMI silhouette')\n",
    "\n",
    "def bench_k_means(estimator, name, data):\n",
    "    t0 = time()\n",
    "    estimator.fit(data)\n",
    "    print('% 9s %.2fs %i %.3f %.3f %.3f %.3f %.3f %.3f'\n",
    "          % (name, (time() - t0), estimator.inertia_,\n",
    "             metrics.homogeneity_score(labels, estimator.labels_),\n",
    "             metrics.completeness_score(labels, estimator.labels_),\n",
    "             metrics.v_measure_score(labels, estimator.labels_),\n",
    "             metrics.adjusted_rand_score(labels, estimator.labels_),\n",
    "             metrics.adjusted_mutual_info_score(labels,  estimator.labels_),\n",
    "             metrics.silhouette_score(data, estimator.labels_,\n",
    "                                      metric='euclidean',\n",
    "                                      sample_size=sample_size)))\n",
    "\n",
    "bench_k_means(KMeans(init='k-means++',\n",
    "                     n_clusters=n_digits, n_init=10),\n",
    "              name=\"k-means++\", data=data)\n",
    "print(79 * '_')\n"
   ]
  },
  {
   "cell_type": "code",
   "execution_count": 1,
   "id": "fa93abab",
   "metadata": {},
   "outputs": [
    {
     "ename": "ModuleNotFoundError",
     "evalue": "No module named 'sklearn'",
     "output_type": "error",
     "traceback": [
      "\u001b[1;31m---------------------------------------------------------------------------\u001b[0m",
      "\u001b[1;31mModuleNotFoundError\u001b[0m                       Traceback (most recent call last)",
      "\u001b[1;32m~\\AppData\\Local\\Temp\\ipykernel_1264\\500811247.py\u001b[0m in \u001b[0;36m<cell line: 1>\u001b[1;34m()\u001b[0m\n\u001b[1;32m----> 1\u001b[1;33m \u001b[1;32mimport\u001b[0m \u001b[0msklearn\u001b[0m\u001b[1;33m\u001b[0m\u001b[1;33m\u001b[0m\u001b[0m\n\u001b[0m\u001b[0;32m      2\u001b[0m \u001b[0mprint\u001b[0m\u001b[1;33m(\u001b[0m\u001b[0msklearn\u001b[0m\u001b[1;33m.\u001b[0m\u001b[0m__version__\u001b[0m\u001b[1;33m)\u001b[0m\u001b[1;33m\u001b[0m\u001b[1;33m\u001b[0m\u001b[0m\n",
      "\u001b[1;31mModuleNotFoundError\u001b[0m: No module named 'sklearn'"
     ]
    }
   ],
   "source": [
    "import sklearn\n",
    "print(sklearn.__version__)\n"
   ]
  },
  {
   "cell_type": "code",
   "execution_count": null,
   "id": "21bb2b70",
   "metadata": {},
   "outputs": [],
   "source": []
  }
 ],
 "metadata": {
  "kernelspec": {
   "display_name": "Python 3 (ipykernel)",
   "language": "python",
   "name": "python3"
  },
  "language_info": {
   "codemirror_mode": {
    "name": "ipython",
    "version": 3
   },
   "file_extension": ".py",
   "mimetype": "text/x-python",
   "name": "python",
   "nbconvert_exporter": "python",
   "pygments_lexer": "ipython3",
   "version": "3.9.16"
  }
 },
 "nbformat": 4,
 "nbformat_minor": 5
}
