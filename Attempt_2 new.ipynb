{
 "cells": [
  {
   "cell_type": "markdown",
   "metadata": {},
   "source": [
    "Create Nodes and Relationships:\n",
    "Product Nodes: Each product has a node with properties like name, brand, etc.\n",
    "Ingredient Nodes: Each ingredient has a node with properties that indicate whether it is vegan, halal, etc.\n",
    "Contains Relationships: Create relationships from each Product node to its Ingredient nodes.\n",
    "\n",
    "Label Dietary Restrictions:\n",
    "Dietary Restriction Nodes: Create nodes for each dietary restriction (e.g., Vegan, Halal) for Yes and Maybe.\n",
    "Suitable_For Relationships: create relationships from Products to these nodes based on the ingredient properties.\n",
    "\n",
    "Allergens:\n",
    "Allergen Nodes: Create nodes for each allergen (e.g. soy, gluten), for yes & maybe.\n",
    "Contains_Allergen for relationship. Relationship property contains notes on freq.\n",
    "\n",
    "Source:\n",
    "Source Node: Showcase source Plant, Animal, Mineral, Synthetic. "
   ]
  },
  {
   "cell_type": "code",
   "execution_count": 6,
   "metadata": {},
   "outputs": [],
   "source": [
    "#libraries\n",
    "import sys\n",
    "from neo4j import GraphDatabase\n",
    "import pandas as pd\n",
    "import logging\n",
    "from datetime import datetime"
   ]
  },
  {
   "cell_type": "code",
   "execution_count": 7,
   "metadata": {},
   "outputs": [],
   "source": [
    "if len(sys.argv) > 1:\n",
    "    QueryFolder = sys.argv[1]\n",
    "\n",
    "# Connection to local database\n",
    "URI = \"bolt://localhost:7687\"\n",
    "AUTH = (\"neo4j\", \"1nonly1uNeed\")\n",
    "\n",
    "\n",
    "\n",
    "with GraphDatabase.driver(uri=URI, auth=AUTH) as driver:\n",
    "    driver.verify_connectivity()\n"
   ]
  },
  {
   "cell_type": "code",
   "execution_count": 8,
   "metadata": {},
   "outputs": [
    {
     "name": "stderr",
     "output_type": "stream",
     "text": [
      "C:\\Users\\apple\\AppData\\Local\\Temp\\ipykernel_10124\\1438698596.py:33: DeprecationWarning: Using a driver after it has been closed is deprecated. Future versions of the driver will raise an error.\n",
      "  with driver.session() as session:\n"
     ]
    }
   ],
   "source": [
    "# to reset the db entirely for a fresh start.\n",
    "# edit the match at the end to include the nodes to remove/ not remove. \n",
    "# deletes associated relationships.\n",
    "class Neo4jConnection:\n",
    "\n",
    "    def __init__(self, uri, user, pwd):\n",
    "        self.__uri = uri\n",
    "        self.__user = user\n",
    "        self.__password = pwd\n",
    "        self.__driver = None\n",
    "        try:\n",
    "            self.__driver = GraphDatabase.driver(self.__uri, auth=(self.__user, self.__password))\n",
    "            self.__driver.verify_connectivity()  # Verifying connectivity\n",
    "            print(\"Connected Successfully\")\n",
    "        except Exception as e:\n",
    "            print(\"Failed to create the driver:\", e)\n",
    "        \n",
    "    def close(self):\n",
    "        if self.__driver is not None:\n",
    "            self.__driver.close()\n",
    "\n",
    "    def reset_database(self):\n",
    "        with self.__driver.session() as session:\n",
    "            session.run(\"MATCH (n) DETACH DELETE n\")\n",
    "            print(\"Database reset successfully.\")\n",
    "\n",
    "    def query(self, cypher_query, parameters=None):\n",
    "        assert self.__driver is not None, \"Driver not initialized!\"\n",
    "        with self.__driver.session() as session:\n",
    "            return session.run(cypher_query, parameters)\n",
    "\n",
    "# delete specific nodes, change within the MATCH  \n",
    "with driver.session() as session:\n",
    "    session.run(\"MATCH (i:Ingredient) DETACH DELETE i\")\n",
    "    session.run(\"MATCH (i:Brand) DETACH DELETE i\")\n",
    "    session.run(\"MATCH (i:Product) DETACH DELETE i\")\n",
    "    session.run(\"MATCH (i:DietaryRestriction) DETACH DELETE i\")\n",
    "    session.run(\"MATCH (i:AlcoholStatus) DETACH DELETE i\")\n",
    "    session.run(\"MATCH (i:ProcessingType) DETACH DELETE i\")\n",
    "    session.run(\"MATCH (i:Allergen) DETACH DELETE i\")\n",
    "    session.run(\"MATCH (i:Category) DETACH DELETE i\")\n",
    "    session.run(\"MATCH (i:Intolerance) DETACH DELETE i\")\n",
    "    session.run(\"MATCH (i:ManufacturingStep) DETACH DELETE i\")\n",
    "    session.run(\"MATCH (i:Other) DETACH DELETE i\")\n",
    "    "
   ]
  },
  {
   "cell_type": "code",
   "execution_count": 9,
   "metadata": {},
   "outputs": [],
   "source": [
    "# setting up dataframes. \n",
    "\n",
    "# P&S 100 product list\n",
    "dfp = pd.read_csv('C:/Users/apple/Desktop/Neo4j/P&S_Pantry_100_items_v4.csv')\n",
    "\n",
    "# Ingredient db\n",
    "dfi = pd.read_csv('C:/Users/apple/Desktop/Neo4j/all_unique_ingredients_properties_v2.csv')\n",
    "\n",
    "#Allergen db\n",
    "dfa =pd.read_csv('C:/Users/apple/Desktop/Neo4j/Allergens_list.csv')\n",
    "\n",
    "# Ingredients are now products & their ingredients (l2)\n",
    "dfs =pd.read_csv('C:/Users/apple/Desktop/Neo4j/Ingredients of products DB.csv')\n",
    "\n",
    "# Primary ingredients \n",
    "dft =pd.read_csv('C:/Users/apple/Desktop/Neo4j/unique_ingredients_v2.csv')\n",
    "\n",
    "# Final Products manufacturing steps\n",
    "dfe =pd.read_csv('C:/Users/apple/Desktop/Neo4j/Product_Manufacturing_Steps.csv')"
   ]
  },
  {
   "cell_type": "code",
   "execution_count": 10,
   "metadata": {},
   "outputs": [
    {
     "name": "stdout",
     "output_type": "stream",
     "text": [
      "Connected Successfully\n"
     ]
    }
   ],
   "source": [
    "#Create the unique brands   \n",
    "unique_brands = dfp['Brand'].unique()\n",
    "\n",
    "# Connect to Neo4j\n",
    "with GraphDatabase.driver(uri=URI, auth=AUTH) as driver:\n",
    "    with driver.session() as session:\n",
    "\n",
    "        # Verify connectivity\n",
    "        session.run(\"RETURN 1\")\n",
    "        print(\"Connected Successfully\")\n",
    "\n",
    "        # Create unique Brand nodes\n",
    "        for brand in unique_brands:\n",
    "            session.run(\"MERGE (b:Brand {name: $brand})\", parameters={'brand': brand})"
   ]
  },
  {
   "cell_type": "code",
   "execution_count": 11,
   "metadata": {},
   "outputs": [
    {
     "name": "stderr",
     "output_type": "stream",
     "text": [
      "C:\\Users\\apple\\AppData\\Local\\Temp\\ipykernel_10124\\24983060.py:17: DeprecationWarning: write_transaction has been renamed to execute_write\n",
      "  session.write_transaction(create_product, row['Name'], row['Quantity'], row['Ingredients'], row['Brand'])\n"
     ]
    }
   ],
   "source": [
    "# Create the products, the quantity and ingredients are the properties. \n",
    "# The products have a relationship with the brand \"part of\". \n",
    "# The relationship starts at Product and ends with Brand.\n",
    "\n",
    "# Function to create product nodes and relationships\n",
    "def create_product(tx, name, quantity, ingredients, brand):\n",
    "    tx.run(\"MERGE (p:Product {name: $name, quantity: $quantity, ingredients: $ingredients}) \"\n",
    "           \"MERGE (b:Brand {name: $brand}) \"\n",
    "           \"MERGE (p)-[:PART_OF]->(b)\",\n",
    "           name=name, quantity=quantity, ingredients=ingredients, brand=brand)\n",
    "\n",
    "# Connect to Neo4j and create products\n",
    "with GraphDatabase.driver(uri=URI, auth=AUTH) as driver:\n",
    "    with driver.session() as session:\n",
    "        # Loop through DataFrame and create products\n",
    "        for index, row in dfp.iterrows():\n",
    "            session.write_transaction(create_product, row['Name'], row['Quantity'], row['Ingredients'], row['Brand'])"
   ]
  },
  {
   "cell_type": "code",
   "execution_count": 12,
   "metadata": {},
   "outputs": [
    {
     "name": "stderr",
     "output_type": "stream",
     "text": [
      "C:\\Users\\apple\\AppData\\Local\\Temp\\ipykernel_10124\\291556516.py:5: DeprecationWarning: Using a driver after it has been closed is deprecated. Future versions of the driver will raise an error.\n",
      "  with driver.session() as session:\n",
      "C:\\Users\\apple\\AppData\\Local\\Temp\\ipykernel_10124\\291556516.py:7: DeprecationWarning: write_transaction has been renamed to execute_write\n",
      "  session.write_transaction(add_ingredient, ingredient_name)\n"
     ]
    }
   ],
   "source": [
    "# Create ingredients from dfi\n",
    "def add_ingredient(tx, ingredient_name):\n",
    "    tx.run(\"CREATE (:Ingredient {name: $name})\", name=ingredient_name)\n",
    "\n",
    "with driver.session() as session:\n",
    "    for ingredient_name in dfi['U-Ingredients'].unique():  # Ensure unique ingredient names\n",
    "        session.write_transaction(add_ingredient, ingredient_name)\n"
   ]
  },
  {
   "cell_type": "code",
   "execution_count": 13,
   "metadata": {},
   "outputs": [
    {
     "name": "stderr",
     "output_type": "stream",
     "text": [
      "C:\\Users\\apple\\AppData\\Local\\Temp\\ipykernel_10124\\2380170666.py:17: DeprecationWarning: Using a driver after it has been closed is deprecated. Future versions of the driver will raise an error.\n",
      "  with driver.session() as session:\n",
      "C:\\Users\\apple\\AppData\\Local\\Temp\\ipykernel_10124\\2380170666.py:25: DeprecationWarning: write_transaction has been renamed to execute_write\n",
      "  session.write_transaction(add_ingredient_properties, ingredient_name, alt_name, related_ingredients, description, manufacturing)\n"
     ]
    }
   ],
   "source": [
    "# Take an existing ingredient node and updates it with additional properties, found in columns of dfi.\n",
    "\n",
    "def add_ingredient_properties(tx, ingredient_name, alt_name, related_ingredients, description, manufacturing):\n",
    "    tx.run(\"\"\"\n",
    "    MATCH (i:Ingredient {name: $name})\n",
    "    SET i.alternateName = $alt_name, \n",
    "        i.relatedIngredients = $related_ingredients, \n",
    "        i.description = $description, \n",
    "        i.manufacturing = $manufacturing\n",
    "    \"\"\", \n",
    "    name=ingredient_name, \n",
    "    alt_name=alt_name, \n",
    "    related_ingredients=related_ingredients, \n",
    "    description=description, \n",
    "    manufacturing=manufacturing)\n",
    "\n",
    "with driver.session() as session:\n",
    "    for index, row in dfi.iterrows():\n",
    "        ingredient_name = row['U-Ingredients']\n",
    "        alt_name = row['Alternate Name'] if pd.notna(row['Alternate Name']) else None\n",
    "        related_ingredients = row['Related Ingredients'] if pd.notna(row['Related Ingredients']) else None\n",
    "        description = row['Description'] if pd.notna(row['Description']) else None\n",
    "        manufacturing = row['Manufacturing'] if pd.notna(row['Manufacturing']) else None\n",
    "\n",
    "        session.write_transaction(add_ingredient_properties, ingredient_name, alt_name, related_ingredients, description, manufacturing)\n",
    "\n"
   ]
  },
  {
   "cell_type": "code",
   "execution_count": 14,
   "metadata": {},
   "outputs": [
    {
     "name": "stderr",
     "output_type": "stream",
     "text": [
      "C:\\Users\\apple\\AppData\\Local\\Temp\\ipykernel_10124\\2836830410.py:9: DeprecationWarning: Using a driver after it has been closed is deprecated. Future versions of the driver will raise an error.\n",
      "  with driver.session() as session:\n",
      "C:\\Users\\apple\\AppData\\Local\\Temp\\ipykernel_10124\\2836830410.py:16: DeprecationWarning: write_transaction has been renamed to execute_write\n",
      "  session.write_transaction(create_relationship, product_name, row[ingredient_col])\n"
     ]
    }
   ],
   "source": [
    "#create relationship between products and ingredients called \"made of\"\n",
    "def create_relationship(tx, product_name, ingredient_name):\n",
    "    query = (\n",
    "        \"MATCH (p:Product {name: $product_name}), (i:Ingredient {name: $ingredient_name}) \"\n",
    "        \"MERGE (p)-[:MADE_OF]->(i)\"\n",
    "    )\n",
    "    tx.run(query, product_name=product_name, ingredient_name=ingredient_name)\n",
    "\n",
    "with driver.session() as session:\n",
    "    # Iterate over each row in the DataFrame\n",
    "    for index, row in dfp.iterrows():\n",
    "        product_name = row[\"Name\"]  \n",
    "        for i in range(1, 151):  \n",
    "            ingredient_col = f\"Ingredient - {i}\"\n",
    "            if pd.notna(row[ingredient_col]):  # Check if the ingredient cell is not empty\n",
    "                session.write_transaction(create_relationship, product_name, row[ingredient_col])\n",
    "\n",
    "driver.close()"
   ]
  },
  {
   "cell_type": "code",
   "execution_count": 15,
   "metadata": {},
   "outputs": [
    {
     "name": "stderr",
     "output_type": "stream",
     "text": [
      "C:\\Users\\apple\\AppData\\Local\\Temp\\ipykernel_10124\\133347853.py:10: DeprecationWarning: Using a driver after it has been closed is deprecated. Future versions of the driver will raise an error.\n",
      "  with driver.session() as session:\n"
     ]
    }
   ],
   "source": [
    "# Dietary restriction categories with specific names\n",
    "nodes = [\n",
    "    \"Is_Halal\", \"Maybe_Halal\",\n",
    "    \"Is_Vegan\", \"Maybe_Vegan\",\n",
    "    \"Is_Vegetarian\", \"Maybe_Vegetarian\",\n",
    "    \"Is_Kosher\", \"Maybe_Kosher\"\n",
    "]\n",
    "\n",
    "# Create dietary restriction nodes with specific names\n",
    "with driver.session() as session:\n",
    "    for node_name in nodes:\n",
    "        session.run(\"CREATE (:DietaryRestriction {name: $name})\", name=node_name)\n"
   ]
  },
  {
   "cell_type": "code",
   "execution_count": 16,
   "metadata": {},
   "outputs": [],
   "source": [
    "# for the \"Maybe\", relationship called \"Maybe_Suitable_For\" with the \"maybe\" node for each dietary restriction. \n",
    "# the ingredient property for the dietary restriction is either \"Yes\" or \"Maybe\" for all the ingredients & contains atleast 1 \"Maybe\" and no \"No\"\n",
    "# Determines the dietary status ('Is', 'Maybe', or 'No') of each product for each restriction based on its ingredients.\n",
    "\n",
    "def determine_dietary_status(ingredient_list, dfi, restriction):\n",
    "    has_yes = False\n",
    "    has_maybe = False\n",
    "    \n",
    "    for ingredient in ingredient_list:\n",
    "        ingredient_row = dfi[dfi['U-Ingredients'].str.contains(ingredient, na=False, regex=False)]\n",
    "        if not ingredient_row.empty:\n",
    "            status = ingredient_row[restriction].values[0]\n",
    "            if status == 'No':\n",
    "                return 'No'\n",
    "            elif status == 'Yes':\n",
    "                has_yes = True\n",
    "            elif status == 'Maybe':\n",
    "                has_maybe = True\n",
    "    \n",
    "    # Determine the status based on the ingredients\n",
    "    if has_yes and not has_maybe:\n",
    "        return 'Is'\n",
    "    elif has_yes or has_maybe:  # It has a mix of 'Yes' and 'Maybe' or only 'Maybe'\n",
    "        return 'Maybe'\n",
    "    else:\n",
    "        return 'No'  # No ingredients or none are marked as 'Yes' or 'Maybe'\n",
    "\n"
   ]
  },
  {
   "cell_type": "code",
   "execution_count": 17,
   "metadata": {},
   "outputs": [
    {
     "name": "stderr",
     "output_type": "stream",
     "text": [
      "C:\\Users\\apple\\AppData\\Local\\Temp\\ipykernel_10124\\1290711878.py:17: DeprecationWarning: Using a driver after it has been closed is deprecated. Future versions of the driver will raise an error.\n",
      "  with driver.session() as session:\n",
      "C:\\Users\\apple\\AppData\\Local\\Temp\\ipykernel_10124\\1290711878.py:25: DeprecationWarning: write_transaction has been renamed to execute_write\n",
      "  session.write_transaction(create_dietary_relationship, product_name, restriction, status)\n"
     ]
    }
   ],
   "source": [
    "# Create relationships ('Is_Suitable_For' or 'Maybe_Suitable_For') from products to the dietary restriction nodes based on the status.\n",
    "# Add the Notes e.g. \"Halal Notes\" for \"Halal\" as a property of the relationship.\n",
    "# Dietary restrictions to check\n",
    "def create_dietary_relationship(tx, product_name, restriction, status):\n",
    "    node_name = f\"{status}_{restriction}\"\n",
    "    relationship_type = f\"{status}_Suitable_For\"\n",
    "    tx.run(\"\"\"\n",
    "    MATCH (p:Product {name: $product_name})\n",
    "    MATCH (d:DietaryRestriction {name: $node_name})\n",
    "    MERGE (p)-[:\"\"\" + relationship_type + \"\"\"]->(d)\n",
    "    \"\"\", product_name=product_name, node_name=node_name)\n",
    "\n",
    "# Dietary restrictions to check\n",
    "dietary_restrictions = ['Halal', 'Vegan', 'Vegetarian', 'Kosher']\n",
    "\n",
    "# Iterate over products and create relationships based on the determined status\n",
    "with driver.session() as session:\n",
    "    for index, product_row in dfp.iterrows():\n",
    "        product_name = product_row['Name']\n",
    "        ingredients = [ing.strip() for ing in product_row['Ingredients'].split(',')]\n",
    "        \n",
    "        for restriction in dietary_restrictions:\n",
    "            status = determine_dietary_status(ingredients, dfi, restriction)\n",
    "            if status != 'No':  # Proceed if status is 'Is' or 'Maybe'\n",
    "                session.write_transaction(create_dietary_relationship, product_name, restriction, status)"
   ]
  },
  {
   "cell_type": "code",
   "execution_count": 18,
   "metadata": {},
   "outputs": [
    {
     "name": "stderr",
     "output_type": "stream",
     "text": [
      "C:\\Users\\apple\\AppData\\Local\\Temp\\ipykernel_10124\\2431955814.py:20: DeprecationWarning: Using a driver after it has been closed is deprecated. Future versions of the driver will raise an error.\n",
      "  with driver.session() as session:\n",
      "C:\\Users\\apple\\AppData\\Local\\Temp\\ipykernel_10124\\2431955814.py:36: DeprecationWarning: write_transaction has been renamed to execute_write\n",
      "  session.write_transaction(add_notes_to_relationship, ingredient_name, restriction_node_name, row[restriction_column], row[note_column])\n"
     ]
    }
   ],
   "source": [
    "# add properties to the existing relationships between ingredients and dietary restrictions. \n",
    "# These properties will be based on the notes associated with each dietary restriction.\n",
    "\n",
    "# Function to add a property to a relationship based on the notes from the dfi DataFrame\n",
    "def add_notes_to_relationship(tx, ingredient_name, restriction, status, note):\n",
    "    # Only proceed if there is a note to add, and the status is 'Yes' or 'Maybe'\n",
    "    if note and status in ['Yes', 'Maybe']:\n",
    "        # Determine the relationship type based on the status\n",
    "        relationship_type = \"Is_Suitable_For\" if status == 'Yes' else \"Maybe_Suitable_For\"\n",
    "        \n",
    "        # Create a Cypher query to add the note to the relationship\n",
    "        query = f\"\"\"\n",
    "        MATCH (i:Ingredient {{name: $ingredient_name}})\n",
    "        MATCH (i)-[r:{relationship_type}]->(d:DietaryRestriction {{name: $restriction}})\n",
    "        SET r.notes = $note\n",
    "        \"\"\"\n",
    "        tx.run(query, ingredient_name=ingredient_name, restriction=restriction, note=note)\n",
    "\n",
    "# Assume we have a list of ingredients and their dietary statuses\n",
    "with driver.session() as session:\n",
    "    for index, row in dfi.iterrows():\n",
    "        ingredient_name = row['U-Ingredients']\n",
    "        # Iterate through each dietary restriction to add notes\n",
    "        for restriction in dietary_restrictions:\n",
    "            # Build the name of the restriction and note columns\n",
    "            restriction_column = restriction\n",
    "            note_column = restriction + ' Notes'\n",
    "            \n",
    "            # Skip if the column is empty or the status is not 'Yes' or 'Maybe'\n",
    "            if pd.isna(row[note_column]) or row[restriction_column] not in ['Yes', 'Maybe']:\n",
    "                continue\n",
    "        # Create the full name of the restriction node based on the status\n",
    "        restriction_node_name = (\"Is_\" if row[restriction_column] == 'Yes' else \"Maybe_\") + restriction\n",
    "        \n",
    "        # Add the note to the relationship\n",
    "        session.write_transaction(add_notes_to_relationship, ingredient_name, restriction_node_name, row[restriction_column], row[note_column])\n",
    "\n"
   ]
  },
  {
   "cell_type": "code",
   "execution_count": 19,
   "metadata": {},
   "outputs": [
    {
     "name": "stderr",
     "output_type": "stream",
     "text": [
      "C:\\Users\\apple\\AppData\\Local\\Temp\\ipykernel_10124\\1634919363.py:6: DeprecationWarning: Using a driver after it has been closed is deprecated. Future versions of the driver will raise an error.\n",
      "  with driver.session() as session:\n"
     ]
    }
   ],
   "source": [
    "# Create Nodes for Alcohol Status\n",
    "\n",
    "alcohol_statuses = [\"Contains_Alcohol\", \"Maybe_Contains_Alcohol\"]\n",
    "\n",
    "# Create alcohol status nodes\n",
    "with driver.session() as session:\n",
    "    for status in alcohol_statuses:\n",
    "        session.run(\"MERGE (:AlcoholStatus {name: $name})\", name=status)\n"
   ]
  },
  {
   "cell_type": "code",
   "execution_count": 20,
   "metadata": {},
   "outputs": [
    {
     "name": "stderr",
     "output_type": "stream",
     "text": [
      "C:\\Users\\apple\\AppData\\Local\\Temp\\ipykernel_10124\\1023264413.py:33: DeprecationWarning: Using a driver after it has been closed is deprecated. Future versions of the driver will raise an error.\n",
      "  with driver.session() as session:\n",
      "C:\\Users\\apple\\AppData\\Local\\Temp\\ipykernel_10124\\1023264413.py:40: DeprecationWarning: write_transaction has been renamed to execute_write\n",
      "  session.write_transaction(create_alcohol_relationship, product_name, alcohol_status)\n"
     ]
    }
   ],
   "source": [
    "# Link Products to the Appropriate Alcohol Status\n",
    "\n",
    "# Function to determine if a product contains or maybe contains alcohol\n",
    "def determine_alcohol_status(ingredient_list, dfi):\n",
    "    has_yes = False\n",
    "    has_maybe = False\n",
    "    \n",
    "    for ingredient in ingredient_list:\n",
    "        ingredient_row = dfi[dfi['U-Ingredients'].str.contains(ingredient, na=False, regex=False)]\n",
    "        if not ingredient_row.empty:\n",
    "            alcohol_status = ingredient_row['Alcohol'].values[0]\n",
    "            if alcohol_status == 'Yes':\n",
    "                has_yes = True\n",
    "            elif alcohol_status == 'Maybe':\n",
    "                has_maybe = True\n",
    "    \n",
    "    if has_yes:\n",
    "        return 'Contains_Alcohol'\n",
    "    elif has_maybe:\n",
    "        return 'Maybe_Contains_Alcohol'\n",
    "    else:\n",
    "        return None\n",
    "\n",
    "# Function to create a relationship to the appropriate alcohol status node\n",
    "def create_alcohol_relationship(tx, product_name, alcohol_status):\n",
    "    tx.run(\"\"\"\n",
    "    MATCH (p:Product {name: $product_name})\n",
    "    MATCH (a:AlcoholStatus {name: $alcohol_status})\n",
    "    MERGE (p)-[:Contains_Or_Maybe_Contains_Alcohol]->(a)\n",
    "    \"\"\", product_name=product_name, alcohol_status=alcohol_status)\n",
    "\n",
    "# Iterate over products and create relationships based on alcohol content\n",
    "with driver.session() as session:\n",
    "    for index, product_row in dfp.iterrows():\n",
    "        product_name = product_row['Name']\n",
    "        ingredients = [ing.strip() for ing in product_row['Ingredients'].split(',')]\n",
    "        \n",
    "        alcohol_status = determine_alcohol_status(ingredients, dfi)\n",
    "        if alcohol_status:\n",
    "            session.write_transaction(create_alcohol_relationship, product_name, alcohol_status)"
   ]
  },
  {
   "cell_type": "code",
   "execution_count": 21,
   "metadata": {},
   "outputs": [
    {
     "name": "stderr",
     "output_type": "stream",
     "text": [
      "C:\\Users\\apple\\AppData\\Local\\Temp\\ipykernel_10124\\3885222572.py:5: DeprecationWarning: Using a driver after it has been closed is deprecated. Future versions of the driver will raise an error.\n",
      "  with driver.session() as session:\n"
     ]
    }
   ],
   "source": [
    "# Processing types nodes\n",
    "processing_types = [\"Processed\", \"Ultra-Processed\", \"Raw\"]\n",
    "\n",
    "# Create processing type nodes\n",
    "with driver.session() as session:\n",
    "    for processing_type in processing_types:\n",
    "        session.run(\"MERGE (:ProcessingType {name: $name})\", name=processing_type)\n"
   ]
  },
  {
   "cell_type": "code",
   "execution_count": 22,
   "metadata": {},
   "outputs": [],
   "source": [
    "# I want to know if the product's processing level based on the ingredients Processing Level. I think the best way to do this would be to:\n",
    "#  •\tProduct is Raw because all the ingredients Processing “Raw”\n",
    "#  •\tProduct is Processed because all the ingredients Processing is either “Raw”\n",
    "#  •\tProduct is Ultra-Processed because it contains atleast one “Ultra-Processed” ingredient, the remainder ingredients can be a combination of “Raw” and “Processed” \n",
    "\n",
    "# Function to Determine the Product's Processing Level\n",
    "def determine_product_processing_level(ingredients, dfi):\n",
    "    has_raw = False\n",
    "    has_processed = False\n",
    "    has_ultra_processed = False\n",
    "    \n",
    "    for ingredient in ingredients:\n",
    "        ingredient_info = dfi[dfi['U-Ingredients'].str.contains(ingredient, na=False, regex=False)]\n",
    "        if not ingredient_info.empty:\n",
    "            processing_type = ingredient_info.iloc[0]['Processing']\n",
    "            if processing_type == 'Raw':\n",
    "                has_raw = True\n",
    "            elif processing_type == 'Processed':\n",
    "                has_processed = True\n",
    "            elif processing_type == 'Ultra-Processed':\n",
    "                has_ultra_processed = True\n",
    "    \n",
    "    # Determine the product's processing level\n",
    "    if has_ultra_processed:\n",
    "        return 'Ultra-Processed'\n",
    "    elif has_processed or (has_processed and has_raw):  # Any processed ingredient makes the product processed\n",
    "        return 'Processed'\n",
    "    elif has_raw and not (has_processed or has_ultra_processed):  # All ingredients are raw\n",
    "        return 'Raw'\n",
    "    else:\n",
    "        return None  # Default case if none match or no ingredients\n"
   ]
  },
  {
   "cell_type": "code",
   "execution_count": 23,
   "metadata": {},
   "outputs": [],
   "source": [
    "# Function to create a relationship to the appropriate processing type node\n",
    "def create_processing_relationship(tx, product_name, processing_level):\n",
    "    tx.run(\"\"\"\n",
    "    MATCH (p:Product {name: $product_name})\n",
    "    MERGE (pt:ProcessingType {name: $processing_level})\n",
    "    MERGE (p)-[:HAS_PROCESSING_LEVEL]->(pt)\n",
    "    \"\"\", parameters={'product_name': product_name, 'processing_level': processing_level})\n",
    "\n",
    "\n"
   ]
  },
  {
   "cell_type": "code",
   "execution_count": 24,
   "metadata": {},
   "outputs": [
    {
     "name": "stderr",
     "output_type": "stream",
     "text": [
      "C:\\Users\\apple\\AppData\\Local\\Temp\\ipykernel_10124\\414505372.py:2: DeprecationWarning: Using a driver after it has been closed is deprecated. Future versions of the driver will raise an error.\n",
      "  with driver.session() as session:\n",
      "C:\\Users\\apple\\AppData\\Local\\Temp\\ipykernel_10124\\414505372.py:10: DeprecationWarning: write_transaction has been renamed to execute_write\n",
      "  session.write_transaction(create_processing_relationship, product_name, processing_level)\n"
     ]
    }
   ],
   "source": [
    "# Iterate Over Products and Create Relationships\n",
    "with driver.session() as session:\n",
    "    for index, product_row in dfp.iterrows():\n",
    "        product_name = product_row['Name']\n",
    "        # Assume 'Ingredients' column is a string of ingredient names separated by commas\n",
    "        ingredients = [ing.strip() for ing in product_row['Ingredients'].split(',')]\n",
    "        \n",
    "        processing_level = determine_product_processing_level(ingredients, dfi)\n",
    "        if processing_level:  # Ensure processing_level is not None\n",
    "            session.write_transaction(create_processing_relationship, product_name, processing_level)\n",
    "\n"
   ]
  },
  {
   "cell_type": "markdown",
   "metadata": {},
   "source": [
    "Allergens should be considered a seperate node type.\n",
    "This allows the node to contain properties related to the allergen e.g. severity, incidence.\n",
    "The data model becomes clearer.\n",
    "I am seeing the need because manufacturing process can have cross contamination and then I can link this allergen node to it.\n",
    "\n",
    "This will increase the complexity of the query and may also slow down the query.\n",
    "There is then a risk of a double up, where an ingredient with the same name as the allergen exists. \n",
    "This can be refactored down the line."
   ]
  },
  {
   "cell_type": "code",
   "execution_count": 25,
   "metadata": {},
   "outputs": [
    {
     "name": "stderr",
     "output_type": "stream",
     "text": [
      "C:\\Users\\apple\\AppData\\Local\\Temp\\ipykernel_10124\\2751269177.py:26: DeprecationWarning: Using a driver after it has been closed is deprecated. Future versions of the driver will raise an error.\n",
      "  with driver.session() as session:\n",
      "C:\\Users\\apple\\AppData\\Local\\Temp\\ipykernel_10124\\2751269177.py:27: DeprecationWarning: write_transaction has been renamed to execute_write\n",
      "  session.write_transaction(create_or_update_ingredient_and_allergen_nodes, dfi)\n"
     ]
    }
   ],
   "source": [
    "# Allergens for each ingredient\n",
    "# Each Ingredient specific allergen is listed under the columns \"Allergen - 1\" and \"Allergen - 2\"\n",
    "# create Allergen nodes based on \"Allergen - 1\" and \"Allergen - 2\" columns the df \"dfi\"\n",
    "\n",
    "def create_or_update_ingredient_and_allergen_nodes(tx, dfi):\n",
    "    for index, row in dfi.iterrows():\n",
    "        # Create or update Ingredient node\n",
    "        tx.run(\"\"\"\n",
    "            MERGE (i:Ingredient {name: $ingredient_name})\n",
    "            ON CREATE SET i.description = $description\n",
    "            \"\"\", ingredient_name=row['U-Ingredients'], description=row['Description'])\n",
    "\n",
    "        # Create Allergen nodes from Allergen - 1 and Allergen - 2\n",
    "        for allergen_column in ['Allergen - 1', 'Allergen - 2']:\n",
    "            allergen_name = row[allergen_column]\n",
    "            if allergen_name and allergen_name != '-':\n",
    "                tx.run(\"\"\"\n",
    "                    MERGE (a:Allergen {name: $allergen_name})\n",
    "                    \"\"\", allergen_name=allergen_name)\n",
    "                # Create relationship between Ingredient and Allergen\n",
    "                tx.run(\"\"\"\n",
    "                    MATCH (i:Ingredient {name: $ingredient_name}), (a:Allergen {name: $allergen_name})\n",
    "                    MERGE (i)-[:CONTAINS_ALLERGEN]->(a)\n",
    "                    \"\"\", ingredient_name=row['U-Ingredients'], allergen_name=allergen_name)\n",
    "\n",
    "with driver.session() as session:\n",
    "    session.write_transaction(create_or_update_ingredient_and_allergen_nodes, dfi)\n",
    "\n",
    "\n"
   ]
  },
  {
   "cell_type": "code",
   "execution_count": 26,
   "metadata": {},
   "outputs": [
    {
     "name": "stderr",
     "output_type": "stream",
     "text": [
      "C:\\Users\\apple\\AppData\\Local\\Temp\\ipykernel_10124\\3500170047.py:47: DeprecationWarning: Using a driver after it has been closed is deprecated. Future versions of the driver will raise an error.\n",
      "  with driver.session() as session:\n",
      "C:\\Users\\apple\\AppData\\Local\\Temp\\ipykernel_10124\\3500170047.py:48: DeprecationWarning: write_transaction has been renamed to execute_write\n",
      "  session.write_transaction(create_ingredient_allergen_relationships, dfi)\n"
     ]
    },
    {
     "name": "stderr",
     "output_type": "stream",
     "text": [
      "C:\\Users\\apple\\AppData\\Local\\Temp\\ipykernel_10124\\3500170047.py:49: DeprecationWarning: write_transaction has been renamed to execute_write\n",
      "  session.write_transaction(update_product_with_ingredients, dfp)\n"
     ]
    }
   ],
   "source": [
    "# Relationship Creation and Updating Functions\n",
    "# Create or Update Relationships Between Ingredients and Allergens: Based on the CONTAINS_ALLERGEN relationship from the dfi data.\n",
    "# Update Product Nodes Based on Ingredient Allergens: For each Product node in dfp, update its allergen-related information based on the allergens present in its ingredients.\n",
    "\n",
    "def create_ingredient_allergen_relationships(tx, dfi):\n",
    "    for index, row in dfi.iterrows():\n",
    "        # Allergen information is in 'Allergen - 1' and 'Allergen - 2'\n",
    "        for allergen_column in ['Allergen - 1', 'Allergen - 2']:\n",
    "            allergen_name = row[allergen_column]\n",
    "            if allergen_name and allergen_name != '-':\n",
    "                # Create relationship\n",
    "                tx.run(\"\"\"\n",
    "                    MATCH (i:Ingredient {name: $ingredient_name})\n",
    "                    MATCH (a:Allergen {name: $allergen_name})\n",
    "                    MERGE (i)-[:CONTAINS_ALLERGEN]->(a)\n",
    "                    \"\"\", ingredient_name=row['U-Ingredients'], allergen_name=allergen_name)\n",
    "                \n",
    "def update_product_with_ingredients(tx, dfp):\n",
    "    for index, row in dfp.iterrows():\n",
    "        product_name = row['Name']  # Assuming the product name is in the 'Name' column\n",
    "        \n",
    "        # Create or update the Product node\n",
    "        tx.run(\"\"\"\n",
    "            MERGE (p:Product {name: $product_name})\n",
    "            ON CREATE SET p.brand = $brand, p.quantity = $quantity\n",
    "            ON MATCH SET p.brand = $brand, p.quantity = $quantity\n",
    "            \"\"\", product_name=product_name, brand=row['Brand'], quantity=row['Quantity'])\n",
    "\n",
    "        # Iterate over each ingredient column to associate the product with its ingredients\n",
    "        for i in range(1, 145):  # 145 ingredient columns considered from dfp\n",
    "            ingredient_name = row.get(f'Ingredient - {i}')\n",
    "            if ingredient_name and ingredient_name.strip():\n",
    "                # Create or update the Ingredient node\n",
    "                tx.run(\"\"\"\n",
    "                    MERGE (ing:Ingredient {name: $ingredient_name})\n",
    "                    \"\"\", ingredient_name=ingredient_name.strip())\n",
    "                \n",
    "                # Create or update the relationship between Product and Ingredient\n",
    "                tx.run(\"\"\"\n",
    "                    MATCH (p:Product {name: $product_name})\n",
    "                    MATCH (ing:Ingredient {name: $ingredient_name})\n",
    "                    MERGE (p)-[:MADE_OF]->(ing)\n",
    "                    \"\"\", product_name=product_name, ingredient_name=ingredient_name.strip())\n",
    "\n",
    "\n",
    "# write to Neo4j\n",
    "with driver.session() as session:\n",
    "    session.write_transaction(create_ingredient_allergen_relationships, dfi)\n",
    "    session.write_transaction(update_product_with_ingredients, dfp)\n"
   ]
  },
  {
   "cell_type": "markdown",
   "metadata": {},
   "source": [
    "#Cypher queries to test allergens. \n",
    "# check if the Ingredient nodes and Allergen nodes are created and properly related\n",
    "MATCH (i:Ingredient)-[:CONTAINS_ALLERGEN]->(a:Allergen)\n",
    "RETURN i.name, a.name LIMIT 10\n",
    "\n",
    "# check if the Product nodes are related to Ingredient nodes\n",
    "MATCH (p:Product)-[:MADE_OF]->(i:Ingredient)\n",
    "RETURN p.name, collect(i.name) LIMIT 10\n",
    "\n",
    "# find products that contain a specific allergen\n",
    "MATCH (p:Product)-[:MADE_OF]->(:Ingredient)-[:CONTAINS_ALLERGEN]->(a:Allergen {name: 'Peanut'})\n",
    "RETURN p.name\n",
    "\n",
    "# list all allergens for a specific product\n",
    "MATCH (p:Product {name: 'Some Product'})-[:MADE_OF]->(i:Ingredient)-[:CONTAINS_ALLERGEN]->(a:Allergen)\n",
    "RETURN a.name\n"
   ]
  },
  {
   "cell_type": "code",
   "execution_count": 27,
   "metadata": {},
   "outputs": [
    {
     "name": "stderr",
     "output_type": "stream",
     "text": [
      "C:\\Users\\apple\\AppData\\Local\\Temp\\ipykernel_10124\\4098167450.py:14: DeprecationWarning: Using a driver after it has been closed is deprecated. Future versions of the driver will raise an error.\n",
      "  with driver.session() as session:\n",
      "C:\\Users\\apple\\AppData\\Local\\Temp\\ipykernel_10124\\4098167450.py:16: DeprecationWarning: write_transaction has been renamed to execute_write\n",
      "  session.write_transaction(create_index, \"Product\", \"name\")\n"
     ]
    },
    {
     "name": "stderr",
     "output_type": "stream",
     "text": [
      "C:\\Users\\apple\\AppData\\Local\\Temp\\ipykernel_10124\\4098167450.py:19: DeprecationWarning: write_transaction has been renamed to execute_write\n",
      "  session.write_transaction(create_index, \"Ingredient\", \"name\")\n",
      "C:\\Users\\apple\\AppData\\Local\\Temp\\ipykernel_10124\\4098167450.py:22: DeprecationWarning: write_transaction has been renamed to execute_write\n",
      "  session.write_transaction(create_index, \"Allergen\", \"name\")\n"
     ]
    }
   ],
   "source": [
    "#Create Indexes to speed up queries for product, ingredient and allergen for now.\n",
    "\n",
    "# Define a function to create an index if it does not exist\n",
    "def create_index(tx, label, property):\n",
    "    query = (\n",
    "        f\"CREATE INDEX index_for_{label.lower()}_{property} IF NOT EXISTS \"\n",
    "        f\"FOR (n:{label}) \"\n",
    "        f\"ON (n.{property})\"\n",
    "    )\n",
    "    tx.run(query)\n",
    "\n",
    "# Define a function that calls the create_index function for different labels and properties\n",
    "def setup_indexes(driver):\n",
    "    with driver.session() as session:\n",
    "        # Create an index for the Product nodes\n",
    "        session.write_transaction(create_index, \"Product\", \"name\")\n",
    "        \n",
    "        # Create an index for the Ingredient nodes\n",
    "        session.write_transaction(create_index, \"Ingredient\", \"name\")\n",
    "        \n",
    "        # Create an index for the Allergen nodes\n",
    "        session.write_transaction(create_index, \"Allergen\", \"name\")\n",
    "\n",
    "# Assuming driver is already defined and connected to Neo4j\n",
    "setup_indexes(driver)"
   ]
  },
  {
   "cell_type": "markdown",
   "metadata": {},
   "source": [
    "#view indexes using cypher\n",
    "SHOW INDEXES\n",
    "\n",
    "# Working on Intolerances below\n",
    "applying probability to relationship. iteration 1  "
   ]
  },
  {
   "cell_type": "code",
   "execution_count": 28,
   "metadata": {},
   "outputs": [
    {
     "data": {
      "text/html": [
       "<div>\n",
       "<style scoped>\n",
       "    .dataframe tbody tr th:only-of-type {\n",
       "        vertical-align: middle;\n",
       "    }\n",
       "\n",
       "    .dataframe tbody tr th {\n",
       "        vertical-align: top;\n",
       "    }\n",
       "\n",
       "    .dataframe thead th {\n",
       "        text-align: right;\n",
       "    }\n",
       "</style>\n",
       "<table border=\"1\" class=\"dataframe\">\n",
       "  <thead>\n",
       "    <tr style=\"text-align: right;\">\n",
       "      <th></th>\n",
       "      <th>Intolerance</th>\n",
       "      <th>Rarity</th>\n",
       "      <th>Probability</th>\n",
       "    </tr>\n",
       "  </thead>\n",
       "  <tbody>\n",
       "    <tr>\n",
       "      <th>0</th>\n",
       "      <td>Fructose</td>\n",
       "      <td>Rare</td>\n",
       "      <td>0.10</td>\n",
       "    </tr>\n",
       "    <tr>\n",
       "      <th>1</th>\n",
       "      <td>Gluten</td>\n",
       "      <td>Common</td>\n",
       "      <td>0.50</td>\n",
       "    </tr>\n",
       "    <tr>\n",
       "      <th>2</th>\n",
       "      <td>Caffeine</td>\n",
       "      <td>Rare</td>\n",
       "      <td>0.10</td>\n",
       "    </tr>\n",
       "    <tr>\n",
       "      <th>3</th>\n",
       "      <td>Lactose</td>\n",
       "      <td>Common</td>\n",
       "      <td>0.50</td>\n",
       "    </tr>\n",
       "    <tr>\n",
       "      <th>4</th>\n",
       "      <td>Sulfites</td>\n",
       "      <td>Extremely Rare</td>\n",
       "      <td>0.01</td>\n",
       "    </tr>\n",
       "  </tbody>\n",
       "</table>\n",
       "</div>"
      ],
      "text/plain": [
       "  Intolerance          Rarity  Probability\n",
       "0    Fructose            Rare         0.10\n",
       "1      Gluten          Common         0.50\n",
       "2    Caffeine            Rare         0.10\n",
       "3     Lactose          Common         0.50\n",
       "4    Sulfites  Extremely Rare         0.01"
      ]
     },
     "execution_count": 28,
     "metadata": {},
     "output_type": "execute_result"
    }
   ],
   "source": [
    "# Given data as placeholder for probability of insensitivity.\n",
    "data = {\n",
    "    \"Intolerance\": [\"Fructose\", \"Gluten\", \"Caffeine\", \"Lactose\", \"Sulfites\"],\n",
    "    \"Rarity\": [\"Rare\", \"Common\", \"Rare\", \"Common\", \"Extremely Rare\"],\n",
    "    \"Probability\": [0.1, 0.5, 0.1, 0.5, 0.01]\n",
    "}\n",
    "\n",
    "# Create the DataFrame\n",
    "df_intolerances = pd.DataFrame(data)\n",
    "\n",
    "df_intolerances"
   ]
  },
  {
   "cell_type": "code",
   "execution_count": 29,
   "metadata": {},
   "outputs": [
    {
     "name": "stderr",
     "output_type": "stream",
     "text": [
      "C:\\Users\\apple\\AppData\\Local\\Temp\\ipykernel_10124\\2838313863.py:12: DeprecationWarning: Using a driver after it has been closed is deprecated. Future versions of the driver will raise an error.\n",
      "  with driver.session() as session:\n",
      "C:\\Users\\apple\\AppData\\Local\\Temp\\ipykernel_10124\\2838313863.py:13: DeprecationWarning: write_transaction has been renamed to execute_write\n",
      "  session.write_transaction(create_intolerance_nodes, df_intolerances)\n"
     ]
    }
   ],
   "source": [
    "#create the Intolerance nodes\n",
    "#Updates an existing or new Intolerance node with the rarity and probability properties\n",
    "\n",
    "def create_intolerance_nodes(tx, df_intolerances):\n",
    "    for index, row in df_intolerances.iterrows():\n",
    "        tx.run(\"\"\"\n",
    "            MERGE (intol:Intolerance {name: $name})\n",
    "            ON CREATE SET intol.rarity = $rarity, intol.probability = $probability\n",
    "            \"\"\", \n",
    "            name=row['Intolerance'], rarity=row['Rarity'], probability=row['Probability'])\n",
    "\n",
    "with driver.session() as session:\n",
    "    session.write_transaction(create_intolerance_nodes, df_intolerances)"
   ]
  },
  {
   "cell_type": "code",
   "execution_count": 30,
   "metadata": {},
   "outputs": [
    {
     "name": "stderr",
     "output_type": "stream",
     "text": [
      "C:\\Users\\apple\\AppData\\Local\\Temp\\ipykernel_10124\\3110226331.py:27: DeprecationWarning: Using a driver after it has been closed is deprecated. Future versions of the driver will raise an error.\n",
      "  with driver.session() as session:\n",
      "C:\\Users\\apple\\AppData\\Local\\Temp\\ipykernel_10124\\3110226331.py:28: DeprecationWarning: write_transaction has been renamed to execute_write\n",
      "  session.write_transaction(create_sensitivity_relationships, dfi, df_intolerances)\n"
     ]
    }
   ],
   "source": [
    "#create Sensitivity caused by relationship\n",
    "#function will associate each Ingredient with its respective Intolerance nodes.\n",
    "#set the probability property for the relationship.\n",
    "\n",
    "def create_sensitivity_relationships(tx, dfi, df_intolerances):\n",
    "    # Convert df_intolerances to a dictionary for quick lookups\n",
    "    intolerance_probability = df_intolerances.set_index('Intolerance')['Probability'].to_dict()\n",
    "    \n",
    "    for index, row in dfi.iterrows():\n",
    "        ingredient_name = row['U-Ingredients']\n",
    "        \n",
    "        # Check both intolerance columns\n",
    "        for col in ['Intolerance - 1', 'Intolerance - 2']:\n",
    "            intolerance_name = row.get(col)\n",
    "            if pd.notna(intolerance_name) and intolerance_name in intolerance_probability:\n",
    "                # Get the probability for this intolerance\n",
    "                probability = intolerance_probability[intolerance_name]\n",
    "                \n",
    "                # Create the Sensitivity caused by relationship\n",
    "                tx.run(\"\"\"\n",
    "                    MATCH (i:Ingredient {name: $ingredient_name})\n",
    "                    MATCH (intol:Intolerance {name: $intolerance_name})\n",
    "                    MERGE (i)-[r:SENSITIVITY_CAUSED_BY]->(intol)\n",
    "                    SET r.probability = $probability\n",
    "                    \"\"\", ingredient_name=ingredient_name, intolerance_name=intolerance_name, probability=probability)\n",
    "\n",
    "with driver.session() as session:\n",
    "    session.write_transaction(create_sensitivity_relationships, dfi, df_intolerances)"
   ]
  },
  {
   "cell_type": "code",
   "execution_count": 31,
   "metadata": {},
   "outputs": [],
   "source": [
    "#apparently i can find the list using python instead of cypher to verify its all worked.\n",
    "\n",
    "def find_products_with_intolerance(tx, intolerance_name):\n",
    "    query = \"\"\"\n",
    "    MATCH (p:Product)-[:MADE_OF]->(i:Ingredient)-[:SENSITIVITY_CAUSED_BY]->(intol:Intolerance {name: $intolerance_name})\n",
    "    RETURN p.name AS ProductName, collect(i.name) AS IngredientsCausingSensitivity\n",
    "    \"\"\"\n",
    "    results = tx.run(query, intolerance_name=intolerance_name)\n",
    "    return [(record[\"ProductName\"], record[\"IngredientsCausingSensitivity\"]) for record in results]\n"
   ]
  },
  {
   "cell_type": "code",
   "execution_count": 32,
   "metadata": {},
   "outputs": [
    {
     "name": "stderr",
     "output_type": "stream",
     "text": [
      "C:\\Users\\apple\\AppData\\Local\\Temp\\ipykernel_10124\\2939572601.py:4: DeprecationWarning: Using a driver after it has been closed is deprecated. Future versions of the driver will raise an error.\n",
      "  with driver.session() as session:\n",
      "C:\\Users\\apple\\AppData\\Local\\Temp\\ipykernel_10124\\2939572601.py:5: DeprecationWarning: read_transaction has been renamed to execute_read\n",
      "  products_with_intolerance = session.read_transaction(find_products_with_intolerance, intolerance_of_interest)\n"
     ]
    },
    {
     "name": "stdout",
     "output_type": "stream",
     "text": [
      "Product: Original Instant Coffee may cause sensitivity due to: ['Coffee Beans']\n",
      "Product: Classic Medium Roast Instant Freeze Dried Coffee Refill may cause sensitivity due to: ['Coffee Beans']\n",
      "Product: Instant Coffee Powder may cause sensitivity due to: ['Instant Coffee.']\n",
      "Product: Blend Instant Coffee may cause sensitivity due to: ['Instant Coffee.']\n",
      "Product: Blend Granulated Instant Coffee may cause sensitivity due to: ['Instant Coffee.']\n"
     ]
    }
   ],
   "source": [
    "# Replace 'Gluten' with the intolerance you're interested in\n",
    "intolerance_of_interest = 'Caffeine'\n",
    "\n",
    "with driver.session() as session:\n",
    "    products_with_intolerance = session.read_transaction(find_products_with_intolerance, intolerance_of_interest)\n",
    "\n",
    "for product, ingredients in products_with_intolerance:\n",
    "    print(f\"Product: {product} may cause sensitivity due to: {ingredients}\")\n"
   ]
  },
  {
   "cell_type": "markdown",
   "metadata": {},
   "source": [
    "#cypher queries to test the intolerance implementation\n",
    "\n",
    "# Retrieve all products that contain ingredients with gluten intolerance.\n",
    "\n",
    "MATCH (p:Product)-[:MADE_OF]->(i:Ingredient)-[:SENSITIVITY_CAUSED_BY]->(intol:Intolerance {name: 'Gluten'})\n",
    "RETURN p.name AS ProductName, collect(i.name) AS IngredientsWithGluten\n",
    "\n",
    "Next working on ingredient categorisation."
   ]
  },
  {
   "cell_type": "code",
   "execution_count": 33,
   "metadata": {},
   "outputs": [
    {
     "name": "stderr",
     "output_type": "stream",
     "text": [
      "C:\\Users\\apple\\AppData\\Local\\Temp\\ipykernel_10124\\1161548726.py:15: DeprecationWarning: Using a driver after it has been closed is deprecated. Future versions of the driver will raise an error.\n",
      "  with driver.session() as session:\n",
      "C:\\Users\\apple\\AppData\\Local\\Temp\\ipykernel_10124\\1161548726.py:16: DeprecationWarning: write_transaction has been renamed to execute_write\n",
      "  session.write_transaction(create_category_nodes, dfi)\n"
     ]
    }
   ],
   "source": [
    "\n",
    "\n",
    "# Function to create Category nodes from dfi\n",
    "def create_category_nodes(tx, dfi):\n",
    "    # Extract unique categories from both 'Category 1' and 'Category 2'\n",
    "    categories = set(dfi['Category 1'].dropna().unique().tolist() + dfi['Category 2'].dropna().unique().tolist())\n",
    "    \n",
    "    # Create nodes for each unique category\n",
    "    for category in categories:\n",
    "        if category:  # Ensure the category is not None or empty\n",
    "            tx.run(\"MERGE (c:Category {name: $category})\", category=category)\n",
    "\n",
    "\n",
    "\n",
    "# Function to execute the transaction\n",
    "def add_categories_to_db(dfi):\n",
    "    with driver.session() as session:\n",
    "        session.write_transaction(create_category_nodes, dfi)\n",
    "\n",
    "# Call the function with the dfi DataFrame\n",
    "add_categories_to_db(dfi)\n"
   ]
  },
  {
   "cell_type": "code",
   "execution_count": 34,
   "metadata": {},
   "outputs": [
    {
     "name": "stderr",
     "output_type": "stream",
     "text": [
      "C:\\Users\\apple\\AppData\\Local\\Temp\\ipykernel_10124\\943830235.py:15: DeprecationWarning: Using a driver after it has been closed is deprecated. Future versions of the driver will raise an error.\n",
      "  with driver.session() as session:\n",
      "C:\\Users\\apple\\AppData\\Local\\Temp\\ipykernel_10124\\943830235.py:16: DeprecationWarning: write_transaction has been renamed to execute_write\n",
      "  session.write_transaction(create_ingredient_category_relationships, dfi)\n"
     ]
    }
   ],
   "source": [
    "#Create Ingredient-Category Relationships\n",
    "def create_ingredient_category_relationships(tx, dfi):\n",
    "    for index, row in dfi.iterrows():\n",
    "        ingredient_name = row['U-Ingredients']\n",
    "        categories = [row['Category 1'], row['Category 2']]  # List of potential categories\n",
    "        \n",
    "        for category in categories:\n",
    "            if pd.notna(category):  # Check if the category is not NaN\n",
    "                tx.run(\"\"\"\n",
    "                    MATCH (i:Ingredient {name: $ingredient_name})\n",
    "                    MATCH (c:Category {name: $category})\n",
    "                    MERGE (i)-[:BELONGS_TO]->(c)\n",
    "                    \"\"\", ingredient_name=ingredient_name, category=category)\n",
    "\n",
    "with driver.session() as session:\n",
    "    session.write_transaction(create_ingredient_category_relationships, dfi)\n"
   ]
  },
  {
   "cell_type": "markdown",
   "metadata": {},
   "source": [
    "#Query Product Nodes Indirectly\n",
    "##### write a query that allows us to retrieve all products along with their associated categories through the ingredients.\n",
    "MATCH (p:Product)-[:MADE_OF]->(i:Ingredient)-[:BELONGS_TO]->(c:Category)\n",
    "RETURN p.name AS ProductName, collect(DISTINCT c.name) AS Categories\n",
    "\n",
    "#### Find Products Excluding a Specific Category\n",
    "MATCH (p:Product)\n",
    "WHERE NOT EXISTS {\n",
    "    (p)-[:MADE_OF]->(:Ingredient)-[:BELONGS_TO]->(:Category {name: 'Colorant'})\n",
    "}\n",
    "RETURN p.name AS ProductName\n",
    "\n",
    "#### List Ingredients of a Product by Category\n",
    "MATCH (p:Product {name: 'ProductName'})-[:MADE_OF]->(i:Ingredient)-[:BELONGS_TO]->(c:Category)\n",
    "RETURN i.name AS IngredientName, c.name AS CategoryName\n",
    "\n",
    "#### Identify Products with All Natural Ingredients:\n",
    "MATCH (p:Product)\n",
    "WHERE ALL(i IN [(p)-[:MADE_OF]->(ing:Ingredient) | ing] WHERE NOT (ing)-[:BELONGS_TO]->(:Category {name: 'Artificial'}))\n",
    "RETURN p.name AS ProductName\n"
   ]
  },
  {
   "cell_type": "code",
   "execution_count": 35,
   "metadata": {},
   "outputs": [],
   "source": [
    "# Data Cleaning 'dfs' DataFrame\n",
    "# Consolidate Ingredients\n",
    "# - Merge ingredients from 'Ingredient - 1' to 'Ingredient - 6' into one list.\n",
    "\n",
    "# Remove Duplicates\n",
    "# - Use a set or similar method to ensure unique ingredients.\n",
    "\n",
    "# Clean Data\n",
    "# - Trim whitespace and standardize case (e.g., title case) for ingredient names.\n",
    "\n",
    "\n"
   ]
  },
  {
   "cell_type": "code",
   "execution_count": 36,
   "metadata": {},
   "outputs": [],
   "source": [
    "# Define the columns that contain the ingredient information\n",
    "ingredient_columns = [\n",
    "    'Ingredient - 1', 'Ingredient - 2', 'Ingredient - 3',\n",
    "    'Ingredient - 4', 'Ingredient - 5', 'Ingredient - 6'\n",
    "]\n",
    "\n",
    "# Extract all ingredients from the defined columns into a single list\n",
    "all_ingredients = []\n",
    "for col in ingredient_columns:\n",
    "    # Append the non-null values from each column to the all_ingredients list\n",
    "    all_ingredients.extend(dfs[col].dropna().unique().tolist())\n",
    "\n",
    "# Remove duplicates by converting the list to a set and then back to a list\n",
    "unique_ingredients = list(set(all_ingredients))\n"
   ]
  },
  {
   "cell_type": "code",
   "execution_count": 37,
   "metadata": {},
   "outputs": [
    {
     "name": "stdout",
     "output_type": "stream",
     "text": [
      "['Sugars (glucose, sucrose)', 'Corn', 'Caramelized sugar', 'Lemon', 'Potassium Hydroxide', 'Chicken bones', 'Beets', 'cheese ingredients', 'Sodium Carbonate', 'garlic oil']\n",
      "File 'unique_ingredients.csv' has been created with the list of unique ingredients.\n"
     ]
    }
   ],
   "source": [
    "print(unique_ingredients[:10])  # Print the first 10 ingredients\n",
    "unique_ingredients = list(set(all_ingredients))\n",
    "\n",
    "# Create a DataFrame from the list\n",
    "dfU = pd.DataFrame(unique_ingredients, columns=['Ingredient'])\n",
    "\n",
    "# Specify the filename for your CSV\n",
    "filename = \"unique_ingredients.csv\"\n",
    "\n",
    "# Write the DataFrame to a CSV file\n",
    "dfU.to_csv(filename, index=False)\n",
    "\n",
    "print(f\"File '{filename}' has been created with the list of unique ingredients.\")"
   ]
  },
  {
   "cell_type": "code",
   "execution_count": 38,
   "metadata": {},
   "outputs": [],
   "source": [
    "\n",
    "# Step 1: Process Unique Second-Tier Ingredients\n",
    "# - In Neo4j, use MERGE to create nodes for these ingredients, avoiding duplicates.\n",
    "\n",
    "# Step 2: Process Manufacturing Steps\n",
    "# - Extract steps and descriptions from 'Manufacturing Step 1' to 'Manufacturing Step 5' and related columns.\n",
    "# - Create unique nodes for each step with descriptions as node properties.\n",
    "\n",
    "# Step 3: Create Relationships Between Ingredients and Manufacturing Steps\n",
    "# - For each 'dfs' entry, link new ingredient nodes to corresponding manufacturing steps.\n",
    "# - After the final step, connect to the Product node, matching the 'Product' column name with existing node names.\n"
   ]
  },
  {
   "cell_type": "code",
   "execution_count": 39,
   "metadata": {},
   "outputs": [
    {
     "name": "stderr",
     "output_type": "stream",
     "text": [
      "C:\\Users\\apple\\AppData\\Local\\Temp\\ipykernel_10124\\3323882052.py:7: DeprecationWarning: Using a driver after it has been closed is deprecated. Future versions of the driver will raise an error.\n",
      "  with driver.session() as session:\n",
      "C:\\Users\\apple\\AppData\\Local\\Temp\\ipykernel_10124\\3323882052.py:9: DeprecationWarning: write_transaction has been renamed to execute_write\n",
      "  session.write_transaction(add_ingredient, ingredient_name)\n"
     ]
    }
   ],
   "source": [
    "# Step 1\n",
    "def add_ingredient(tx, ingredient_name):\n",
    "    # Use MERGE to avoid creating duplicate nodes\n",
    "    tx.run(\"MERGE (:Ingredient {name: $name})\", name=ingredient_name)\n",
    "\n",
    "# Assuming unique_ingredients is the list of unique ingredient names extracted from the dfs DataFrame\n",
    "with driver.session() as session:\n",
    "    for ingredient_name in unique_ingredients:  # Iterate over unique ingredients\n",
    "        session.write_transaction(add_ingredient, ingredient_name)\n"
   ]
  },
  {
   "cell_type": "code",
   "execution_count": 40,
   "metadata": {},
   "outputs": [
    {
     "name": "stderr",
     "output_type": "stream",
     "text": [
      "C:\\Users\\apple\\AppData\\Local\\Temp\\ipykernel_10124\\3289840250.py:16: DeprecationWarning: Using a driver after it has been closed is deprecated. Future versions of the driver will raise an error.\n",
      "  with driver.session() as session:\n",
      "C:\\Users\\apple\\AppData\\Local\\Temp\\ipykernel_10124\\3289840250.py:19: DeprecationWarning: write_transaction has been renamed to execute_write\n",
      "  session.write_transaction(add_manufacturing_step, step_name)\n"
     ]
    },
    {
     "name": "stdout",
     "output_type": "stream",
     "text": [
      "Manufacturing step nodes have been created in the Neo4j database.\n"
     ]
    }
   ],
   "source": [
    "# Step 2: Process Manufacturing Steps\n",
    "# Create nodes for each unique manufacturing step, with the name and description properties \n",
    "\n",
    "def add_manufacturing_step(tx, step_name):\n",
    "    # Use MERGE to create a unique node for the manufacturing step with only a name\n",
    "    tx.run(\"\"\"\n",
    "        MERGE (:ManufacturingStep {name: $step_name})\n",
    "    \"\"\", step_name=step_name)\n",
    "\n",
    "# Extract unique manufacturing steps from the dfs DataFrame\n",
    "manufacturing_steps = set()\n",
    "for i in range(1, 6):  # Assuming there are 5 manufacturing steps columns\n",
    "    manufacturing_steps.update(dfs[f'Manufacturing Step {i}'].dropna().unique())\n",
    "\n",
    "# Create manufacturing step nodes in the Neo4j database\n",
    "with driver.session() as session:\n",
    "    for step_name in manufacturing_steps:\n",
    "        if step_name:  # Check if step_name is not empty or null\n",
    "            session.write_transaction(add_manufacturing_step, step_name)\n",
    "\n",
    "print(\"Manufacturing step nodes have been created in the Neo4j database.\")"
   ]
  },
  {
   "cell_type": "code",
   "execution_count": 41,
   "metadata": {},
   "outputs": [],
   "source": [
    "# Step 3: Create Relationships Between Ingredients and Manufacturing Steps\n",
    "# - For each 'dfs' entry, link new ingredient nodes to corresponding manufacturing steps.\n",
    "# - After the final step, connect to the Product node, matching the 'Product' column name with existing node names.\n",
    "# attempted a long script, doing everything, which failed horribly - so much for trying to save time. \n",
    "# its created errors, so the current db looks bad. However, if we dump it and restart this script then all will be fine. \n",
    "\n"
   ]
  },
  {
   "cell_type": "code",
   "execution_count": 42,
   "metadata": {},
   "outputs": [
    {
     "name": "stderr",
     "output_type": "stream",
     "text": [
      "C:\\Users\\apple\\AppData\\Local\\Temp\\ipykernel_10124\\837884510.py:15: DeprecationWarning: Using a driver after it has been closed is deprecated. Future versions of the driver will raise an error.\n",
      "  with driver.session() as session:\n",
      "C:\\Users\\apple\\AppData\\Local\\Temp\\ipykernel_10124\\837884510.py:22: DeprecationWarning: write_transaction has been renamed to execute_write\n",
      "  session.write_transaction(create_first_step_relationships, ingredient_name, first_step)\n"
     ]
    }
   ],
   "source": [
    "# Iterate over the dfs DataFrame.\n",
    "# For each ingredient, find its first manufacturing step.\n",
    "# Create a \"First_Step\" relationship from the ingredient node to the first manufacturing step node.\n",
    "\n",
    "def create_first_step_relationships(tx, ingredient_name, first_step):\n",
    "    if not first_step or pd.isna(first_step):\n",
    "        return\n",
    "    \n",
    "    tx.run(\"\"\"\n",
    "        MATCH (ing:Ingredient {name: $ingredient_name})\n",
    "        MATCH (step:ManufacturingStep {name: $first_step})\n",
    "        MERGE (ing)-[:First_Step]->(step)\n",
    "    \"\"\", ingredient_name=ingredient_name, first_step=first_step)\n",
    "\n",
    "with driver.session() as session:\n",
    "    for index, row in dfs.iterrows():\n",
    "        first_step = row['Manufacturing Step 1']  # Assuming this is the first manufacturing step\n",
    "        # Iterate over ingredient columns\n",
    "        for i in range(1, 7):  # Adjust the range as per your columns\n",
    "            ingredient_name = row.get(f'Ingredient - {i}')\n",
    "            if pd.notna(ingredient_name):\n",
    "                session.write_transaction(create_first_step_relationships, ingredient_name, first_step)\n",
    "\n"
   ]
  },
  {
   "cell_type": "markdown",
   "metadata": {},
   "source": [
    "This step involves populating the Neo4j graph database with sequential relationships between manufacturing steps for each product. These relationships are annotated with properties that provide context about the manufacturing process.\n",
    "##### Process\n",
    "1. **Data Iteration**:\n",
    "    \n",
    "    - The script iterates over each row in the `dfs` DataFrame.\n",
    "2. **Data Collection**:\n",
    "    \n",
    "    - Extracts a list of ingredients from `Ingredient - X` columns.\n",
    "    - Gathers manufacturing steps and their descriptions from `Manufacturing Step X` and `Manufacturing Step X Description` columns.\n",
    "3. **Data Cleaning**:\n",
    "    \n",
    "    - Filters out any `NaN` values to maintain data integrity.\n",
    "4. **Neo4j Session**:\n",
    "    \n",
    "    - Initiates a session to communicate with the Neo4j database.\n",
    "5. **Relationship Creation**:\n",
    "    \n",
    "    - Constructs relationships between consecutive manufacturing steps.\n",
    "    - Assigns a sequence label (`STEP_2`, `STEP_3`, etc.) to each relationship.\n",
    "    - Incorporates relationship properties:\n",
    "        - `product_identifier`: Ties the step to a specific product.\n",
    "        - `sequence_order`: Indicates the order of the step in the sequence.\n",
    "        - `description`: Describes the action taken at each step.\n",
    "        - `ingredients`: Lists the ingredients involved in the step.\n",
    "        - Metadata: Includes `created_by`, `created_at`, `source`, `equipment`, and `revision`."
   ]
  },
  {
   "cell_type": "code",
   "execution_count": 43,
   "metadata": {},
   "outputs": [
    {
     "name": "stderr",
     "output_type": "stream",
     "text": [
      "C:\\Users\\apple\\AppData\\Local\\Temp\\ipykernel_10124\\1365357593.py:21: DeprecationWarning: Using a driver after it has been closed is deprecated. Future versions of the driver will raise an error.\n",
      "  with driver.session() as session:\n",
      "C:\\Users\\apple\\AppData\\Local\\Temp\\ipykernel_10124\\1365357593.py:28: DeprecationWarning: write_transaction has been renamed to execute_write\n",
      "  session.write_transaction(create_sequential_step_relationships, steps)\n"
     ]
    }
   ],
   "source": [
    "def create_sequential_step_relationships(tx, steps_info):\n",
    "    for i in range(len(steps_info) - 1):\n",
    "        current_step = steps_info[i]\n",
    "        next_step = steps_info[i + 1]\n",
    "        \n",
    "        # Skip if any step is not defined\n",
    "        if pd.isna(current_step) or pd.isna(next_step):\n",
    "            continue\n",
    "\n",
    "        # Define relationship type based on sequence order\n",
    "        relationship_type = f\"STEP_{i + 2}\"\n",
    "\n",
    "        # Execute Cypher query to create relationship\n",
    "        tx.run(f\"\"\"\n",
    "            MATCH (current:ManufacturingStep {{name: $current_step}})\n",
    "            MATCH (next:ManufacturingStep {{name: $next_step}})\n",
    "            MERGE (current)-[r:{relationship_type}]->(next)\n",
    "        \"\"\", current_step=current_step, next_step=next_step)\n",
    "\n",
    "# Prepare data and execute the function for each product\n",
    "with driver.session() as session:\n",
    "    for index, row in dfs.iterrows():\n",
    "        # Collect all manufacturing steps for the current product row\n",
    "        steps = [row[f'Manufacturing Step {i}'] for i in range(1, 6)]\n",
    "        steps = [step for step in steps if not pd.isna(step)]  # Filter out any None or NaN values\n",
    "\n",
    "        # Create sequential relationships\n",
    "        session.write_transaction(create_sequential_step_relationships, steps)\n"
   ]
  },
  {
   "cell_type": "code",
   "execution_count": 44,
   "metadata": {},
   "outputs": [
    {
     "name": "stderr",
     "output_type": "stream",
     "text": [
      "C:\\Users\\apple\\AppData\\Local\\Temp\\ipykernel_10124\\4067986402.py:25: DeprecationWarning: Using a driver after it has been closed is deprecated. Future versions of the driver will raise an error.\n",
      "  with driver.session() as session:\n",
      "C:\\Users\\apple\\AppData\\Local\\Temp\\ipykernel_10124\\4067986402.py:33: DeprecationWarning: write_transaction has been renamed to execute_write\n",
      "  session.write_transaction(add_product_and_ingredient_info, product_name, ingredients, steps)\n"
     ]
    }
   ],
   "source": [
    "def add_product_and_ingredient_info(tx, product_name, ingredients, steps_info):\n",
    "    for i in range(len(steps_info) - 1):\n",
    "        current_step = steps_info[i]\n",
    "        next_step = steps_info[i + 1]\n",
    "        \n",
    "        # Skip if any step is not defined\n",
    "        if pd.isna(current_step) or pd.isna(next_step):\n",
    "            continue\n",
    "\n",
    "        # Define relationship type based on sequence order\n",
    "        relationship_type = f\"STEP_{i + 2}\"\n",
    "\n",
    "        # Execute Cypher query to add properties to existing relationship\n",
    "        tx.run(f\"\"\"\n",
    "            MATCH (current:ManufacturingStep {{name: $current_step}})-[r:{relationship_type}]->(next:ManufacturingStep {{name: $next_step}})\n",
    "            SET r.product = $product_name,\n",
    "                r.ingredients = $ingredients\n",
    "        \"\"\", current_step=current_step,\n",
    "            next_step=next_step,\n",
    "            product_name=product_name,\n",
    "            ingredients=ingredients\n",
    "        )\n",
    "\n",
    "# Prepare data and execute the function for each product\n",
    "with driver.session() as session:\n",
    "    for index, row in dfs.iterrows():\n",
    "        product_name = row['Product']\n",
    "        ingredients = [row[f'Ingredient - {i}'] for i in range(1, 7) if not pd.isna(row[f'Ingredient - {i}'])]\n",
    "        steps = [row[f'Manufacturing Step {i}'] for i in range(1, 6)]\n",
    "        steps = [step for step in steps if not pd.isna(step)]  # Filter out NaN values\n",
    "\n",
    "        # Add product and ingredient information to relationships\n",
    "        session.write_transaction(add_product_and_ingredient_info, product_name, ingredients, steps)\n"
   ]
  },
  {
   "cell_type": "code",
   "execution_count": 45,
   "metadata": {},
   "outputs": [
    {
     "name": "stderr",
     "output_type": "stream",
     "text": [
      "C:\\Users\\apple\\AppData\\Local\\Temp\\ipykernel_10124\\3363913836.py:16: DeprecationWarning: Using a driver after it has been closed is deprecated. Future versions of the driver will raise an error.\n",
      "  with driver.session() as session:\n",
      "C:\\Users\\apple\\AppData\\Local\\Temp\\ipykernel_10124\\3363913836.py:31: DeprecationWarning: write_transaction has been renamed to execute_write\n",
      "  session.write_transaction(create_to_make_relationship, ingredient_name, final_step)\n"
     ]
    }
   ],
   "source": [
    "# Link the Final Manufacturing Step to the Ingredient Product\n",
    "# For each ingredient, identify the final manufacturing step, this can be variable.\n",
    "# Connect the final manufacturing step to the ingredient node that represents the finished product.\n",
    "\n",
    "def create_to_make_relationship(tx, ingredient_name, final_step):\n",
    "    if not final_step or pd.isna(final_step):\n",
    "        return\n",
    "\n",
    "    # Create the \"To_Make\" relationship\n",
    "    tx.run(\"\"\"\n",
    "        MATCH (step:ManufacturingStep {name: $final_step}), (ing:Ingredient {name: $ingredient_name})\n",
    "        MERGE (step)-[:To_Make]->(ing)\n",
    "    \"\"\", final_step=final_step, ingredient_name=ingredient_name)\n",
    "\n",
    "# Execute the transaction for each row in the dataframe\n",
    "with driver.session() as session:\n",
    "    for index, row in dfs.iterrows():\n",
    "        # Extract the ingredient name\n",
    "        ingredient_name = row['Product']\n",
    "\n",
    "        # Identify the final manufacturing step\n",
    "        final_step = None\n",
    "        for i in range(5, 0, -1):  # Reverse loop from step 5 to 1\n",
    "            step = row[f'Manufacturing Step {i}']\n",
    "            if pd.notna(step):\n",
    "                final_step = step\n",
    "                break\n",
    "\n",
    "        # Create the \"To_Make\" relationship in Neo4j\n",
    "        if final_step:\n",
    "            session.write_transaction(create_to_make_relationship, ingredient_name, final_step)\n",
    "\n"
   ]
  },
  {
   "cell_type": "markdown",
   "metadata": {},
   "source": [
    "Create list of unique ingredients from dft\n",
    "Create primary ingredients as a seperate node\n",
    "if not a primary ingredient then merge to an ingredient node\n",
    "create manufacturing steps as manufacturing nodes\n",
    "create relationship from ingredient to manufacturing step\n",
    "create relationship between the manufacturing step\n",
    "the relationships have as properties the product, ingredient and the description of the manufacturing step.\n",
    "the last manufacturing step is linked to the product (which is an ingredient node)\n"
   ]
  },
  {
   "cell_type": "markdown",
   "metadata": {},
   "source": [
    "##### Step 1: Extract Unique Ingredients\n",
    "Process 'dft' to create a list of unique ingredients from 'Ingredients - 1' to 'Ingredients - 5'.\n",
    "Ensure there are no duplicates in comparison to existing ingredient nodes.\n",
    "\n",
    "##### Step 2: Create or Merge Ingredient Nodes\n",
    "For each ingredient, check the 'Primary Source' column.\n",
    "If 'Primary Source' is 'Yes', create a new 'PrimaryIngredient' node.\n",
    "If 'Primary Source' is 'No', merge with an existing 'Ingredient' node to avoid duplicates.\n",
    "Utilize the MERGE statement in Cypher to handle both creation and merging efficiently.\n",
    "\n",
    "##### Step 3: Link Ingredients to Manufacturing Steps\n",
    "For each row in 'dft', identify the sequence of manufacturing steps and descriptions.\n",
    "Create relationships between ingredient nodes and their corresponding manufacturing steps.\n",
    "The relationship should be named according to the step sequence (e.g., 'STEP_1').\n",
    "\n",
    "###### Properties for each relationship should include:\n",
    "- product_identifier: Corresponds to the name from 'Product' column.\n",
    "- sequence_order: Indicates the order of the manufacturing step.\n",
    "- description: Descriptive text from the respective 'Description Step #' column.\n",
    "- ingredients: A list of ingredients involved in each step, extracted from 'Ingredients - 1' to 'Ingredients - 5'.\n",
    "- Additional properties such as timestamp, quantity, parameters, variations, and metadata can be added as placeholders for future use.\n",
    "##### Step 4: Connect Manufacturing Steps\n",
    "Link each manufacturing step to the subsequent step to create a chain.\n",
    "The last step in the chain should be connected to the final product node with a 'TO_MAKE' relationship."
   ]
  },
  {
   "cell_type": "code",
   "execution_count": 46,
   "metadata": {},
   "outputs": [],
   "source": [
    "# Step 1: Extract unique ingredients\n",
    "# Combine all ingredient columns into one series and drop NaN values\n",
    "all_ingredients_series = pd.concat([dft[f'Ingredients - {i}'] for i in range(1, 6)]).dropna()\n",
    "\n",
    "# Get unique ingredients\n",
    "unique_ingredients = all_ingredients_series.unique().tolist()\n",
    "\n",
    "# Split into primary and non-primary ingredients\n",
    "primary_ingredients = dft[dft['Primary Source'] == 'Yes'][['Ingredients - 1', 'Ingredients - 2', 'Ingredients - 3', 'Ingredients - 4', 'Ingredients - 5']].melt()['value'].dropna().unique().tolist()\n",
    "non_primary_ingredients = list(set(unique_ingredients) - set(primary_ingredients))\n",
    "\n",
    "# Now there are two lists: \n",
    "# primary_ingredients contains all unique primary source ingredients\n",
    "# non_primary_ingredients contains all unique non-primary source ingredients"
   ]
  },
  {
   "cell_type": "code",
   "execution_count": 47,
   "metadata": {},
   "outputs": [
    {
     "name": "stderr",
     "output_type": "stream",
     "text": [
      "C:\\Users\\apple\\AppData\\Local\\Temp\\ipykernel_10124\\4009299719.py:12: DeprecationWarning: Using a driver after it has been closed is deprecated. Future versions of the driver will raise an error.\n",
      "  with driver.session() as session:\n",
      "C:\\Users\\apple\\AppData\\Local\\Temp\\ipykernel_10124\\4009299719.py:14: DeprecationWarning: write_transaction has been renamed to execute_write\n",
      "  session.write_transaction(create_primary_ingredient_nodes, primary_ingredients)\n"
     ]
    },
    {
     "name": "stderr",
     "output_type": "stream",
     "text": [
      "C:\\Users\\apple\\AppData\\Local\\Temp\\ipykernel_10124\\4009299719.py:17: DeprecationWarning: write_transaction has been renamed to execute_write\n",
      "  session.write_transaction(merge_non_primary_ingredient_nodes, non_primary_ingredients)\n"
     ]
    }
   ],
   "source": [
    "# Step 2: Create Primary Ingredient node & merge Ingredient node.\n",
    "\n",
    "def create_primary_ingredient_nodes(tx, primary_ingredients):\n",
    "    for ingredient in primary_ingredients:\n",
    "        tx.run(\"CREATE (:PrimaryIngredient {name: $ingredient_name})\", ingredient_name=ingredient)\n",
    "\n",
    "def merge_non_primary_ingredient_nodes(tx, non_primary_ingredients):\n",
    "    for ingredient in non_primary_ingredients:\n",
    "        tx.run(\"MERGE (:Ingredient {name: $ingredient_name})\", ingredient_name=ingredient)\n",
    "\n",
    "# Assuming you have two lists: primary_ingredients and non_primary_ingredients\n",
    "with driver.session() as session:\n",
    "    # Create nodes for primary ingredients\n",
    "    session.write_transaction(create_primary_ingredient_nodes, primary_ingredients)\n",
    "    \n",
    "    # Merge nodes for non-primary ingredients\n",
    "    session.write_transaction(merge_non_primary_ingredient_nodes, non_primary_ingredients)"
   ]
  },
  {
   "cell_type": "code",
   "execution_count": 48,
   "metadata": {},
   "outputs": [
    {
     "name": "stderr",
     "output_type": "stream",
     "text": [
      "C:\\Users\\apple\\AppData\\Local\\Temp\\ipykernel_10124\\23632003.py:23: DeprecationWarning: Using a driver after it has been closed is deprecated. Future versions of the driver will raise an error.\n",
      "  with driver.session() as session:\n",
      "C:\\Users\\apple\\AppData\\Local\\Temp\\ipykernel_10124\\23632003.py:24: DeprecationWarning: write_transaction has been renamed to execute_write\n",
      "  session.write_transaction(create_ingredient_to_step_relationships, dft)\n"
     ]
    }
   ],
   "source": [
    "# Step 3:\n",
    "\n",
    "def create_ingredient_to_step_relationships(tx, dft):\n",
    "    for index, row in dft.iterrows():\n",
    "        product_name = row['Product']\n",
    "        ingredients = [row[f'Ingredients - {i}'] for i in range(1, 6) if not pd.isna(row[f'Ingredients - {i}'])]\n",
    "        first_step = row['Manufacturing Step 1']\n",
    "        first_step_description = row['Description Step 1']\n",
    "\n",
    "        for ingredient in ingredients:\n",
    "            # Determine the label for the ingredient node based on 'Primary Source'\n",
    "            label = \"PrimaryIngredient\" if row['Primary Source'] == 'Yes' else \"Ingredient\"\n",
    "\n",
    "            tx.run(f\"\"\"\n",
    "                MATCH (ing:{label} {{name: $ingredient}})\n",
    "                MATCH (step:ManufacturingStep {{name: $first_step}})\n",
    "                MERGE (ing)-[r:PROCESSED_IN]->(step)\n",
    "                SET r.product = $product_name,\n",
    "                    r.step_description = $first_step_description\n",
    "            \"\"\", ingredient=ingredient, first_step=first_step, product_name=product_name, first_step_description=first_step_description)\n",
    "\n",
    "# Execute the transaction\n",
    "with driver.session() as session:\n",
    "    session.write_transaction(create_ingredient_to_step_relationships, dft)\n",
    "\n"
   ]
  },
  {
   "cell_type": "markdown",
   "metadata": {},
   "source": [
    "Extract Manufacturing Steps and Product Information:\n",
    "- Loop through each row in the 'dft' DataFrame.\n",
    "- For each product, identify the sequence of manufacturing steps and extract relevant information (names and descriptions).\n",
    "\n",
    "Create Sequential Relationships Between Manufacturing Steps:\n",
    "- For each product, link its manufacturing steps in sequence (e.g., STEP_1 to STEP_2, STEP_2 to STEP_3, and so on).\n",
    "- Include properties in these relationships, such as the step number and description.\n",
    "- Link Final Manufacturing Step to Product:\n",
    "\n",
    "Determine the final manufacturing step for each product.\n",
    "- Create a TO_MAKE relationship from this final step to the corresponding product node.\n",
    "- This relationship can carry properties indicating the final step and its description."
   ]
  },
  {
   "cell_type": "code",
   "execution_count": 49,
   "metadata": {},
   "outputs": [
    {
     "name": "stderr",
     "output_type": "stream",
     "text": [
      "C:\\Users\\apple\\AppData\\Local\\Temp\\ipykernel_10124\\2656296328.py:25: DeprecationWarning: Using a driver after it has been closed is deprecated. Future versions of the driver will raise an error.\n",
      "  with driver.session() as session:\n",
      "C:\\Users\\apple\\AppData\\Local\\Temp\\ipykernel_10124\\2656296328.py:26: DeprecationWarning: write_transaction has been renamed to execute_write\n",
      "  session.write_transaction(create_correct_step_relationships, dft)\n"
     ]
    }
   ],
   "source": [
    "# Create sequential relationships\n",
    "\n",
    "def create_correct_step_relationships(tx, dft):\n",
    "    for index, row in dft.iterrows():\n",
    "        product_name = row['Product']\n",
    "        ingredients = [row[f'Ingredients - {i}'] for i in range(1, 6) if not pd.isna(row[f'Ingredients - {i}'])]\n",
    "        steps = [(row[f'Manufacturing Step {i}'], row[f'Description Step {i}']) for i in range(1, 6) if not pd.isna(row[f'Manufacturing Step {i}'])]\n",
    "\n",
    "        # Create relationships between sequential steps\n",
    "        for i in range(len(steps) - 1):\n",
    "            current_step, current_description = steps[i]\n",
    "            next_step, next_description = steps[i + 1]\n",
    "            relationship_type = f\"STEP_{i+1}\"\n",
    "\n",
    "            tx.run(f\"\"\"\n",
    "                MATCH (current:ManufacturingStep {{name: $current_step}}), (next:ManufacturingStep {{name: $next_step}})\n",
    "                MERGE (current)-[r:{relationship_type}]->(next)\n",
    "                SET r.product_identifier = $product_name,\n",
    "                    r.sequence_order = $i + 1,\n",
    "                    r.description = $current_description,\n",
    "                    r.ingredients = $ingredients\n",
    "            \"\"\", current_step=current_step, next_step=next_step, product_name=product_name, i=i, current_description=current_description, ingredients=ingredients)\n",
    "\n",
    "# Execute the transaction\n",
    "with driver.session() as session:\n",
    "    session.write_transaction(create_correct_step_relationships, dft)\n",
    "\n",
    "\n"
   ]
  },
  {
   "cell_type": "code",
   "execution_count": 50,
   "metadata": {},
   "outputs": [
    {
     "name": "stderr",
     "output_type": "stream",
     "text": [
      "C:\\Users\\apple\\AppData\\Local\\Temp\\ipykernel_10124\\12548206.py:26: DeprecationWarning: Using a driver after it has been closed is deprecated. Future versions of the driver will raise an error.\n",
      "  with driver.session() as session:\n",
      "C:\\Users\\apple\\AppData\\Local\\Temp\\ipykernel_10124\\12548206.py:27: DeprecationWarning: write_transaction has been renamed to execute_write\n",
      "  session.write_transaction(link_final_step_to_product_as_ingredient, dft)\n"
     ]
    }
   ],
   "source": [
    "# link last manufacturing step to the product(dft) or ingredient node.\n",
    "\n",
    "def link_final_step_to_product_as_ingredient(tx, dft):\n",
    "    for index, row in dft.iterrows():\n",
    "        product_name = row['Product']\n",
    "        ingredients = [row[f'Ingredients - {i}'] for i in range(1, 6) if not pd.isna(row[f'Ingredients - {i}'])]\n",
    "        final_step = None\n",
    "        final_description = None\n",
    "\n",
    "        # Identify the last non-empty manufacturing step\n",
    "        for i in reversed(range(1, 6)):\n",
    "            if not pd.isna(row[f'Manufacturing Step {i}']):\n",
    "                final_step = row[f'Manufacturing Step {i}']\n",
    "                final_description = row[f'Description Step {i}']\n",
    "                break\n",
    "\n",
    "        if final_step:\n",
    "            # Create 'TO_MAKE' relationship from the final step to the product (Ingredient node)\n",
    "            tx.run(\"\"\"\n",
    "                MATCH (step:ManufacturingStep {name: $final_step}), (prod:Ingredient {name: $product_name})\n",
    "                MERGE (step)-[r:TO_MAKE]->(prod)\n",
    "                SET r.description = $final_description, r.ingredients = $ingredients\n",
    "            \"\"\", final_step=final_step, product_name=product_name, final_description=final_description, ingredients=ingredients)\n",
    "\n",
    "# Execute the transaction\n",
    "with driver.session() as session:\n",
    "    session.write_transaction(link_final_step_to_product_as_ingredient, dft)\n"
   ]
  },
  {
   "cell_type": "markdown",
   "metadata": {},
   "source": [
    "## Adding manufacturing steps to products\n",
    "\n",
    "#### Identifying Unique Manufacturing Steps: \n",
    "Extract unique manufacturing steps from the 'Manufacturing Step #' columns to ensure each step is represented once in the graph.\n",
    "\n",
    "#### Linking Products to Manufacturing Steps: \n",
    "For each product, create relationships to the manufacturing steps. These relationships will follow the sequence indicated by the step numbers.\n",
    "\n",
    "#### Adding Relationship Properties: \n",
    "Include properties from the 'Description Step #' columns in the relationships to maintain context.\n",
    "\n",
    "#### Incorporating Ingredients Information: \n",
    "Use the data from the 'Ingredients' column to add properties to the relationships, thus linking the product with the raw ingredients involved in its production."
   ]
  },
  {
   "cell_type": "code",
   "execution_count": 51,
   "metadata": {},
   "outputs": [],
   "source": [
    "\n",
    "# Extract unique manufacturing steps\n",
    "manufacturing_steps = set()\n",
    "for i in range(1, 9):  # We have 8 manufacturing steps\n",
    "    manufacturing_steps.update(dfe[f'Manufacturing Step {i}'].dropna().unique())\n",
    "\n",
    "# Now we have a set of unique manufacturing steps\n"
   ]
  },
  {
   "cell_type": "code",
   "execution_count": 52,
   "metadata": {},
   "outputs": [],
   "source": [
    "# Function to merge manufacturing step nodes\n",
    "def merge_manufacturing_step(tx, step_name, description):\n",
    "    tx.run(\"\"\"\n",
    "        MERGE (step:ManufacturingStep {name: $step_name})\n",
    "        ON CREATE SET step.description = $description\n",
    "    \"\"\", step_name=step_name, description=description)\n"
   ]
  },
  {
   "cell_type": "markdown",
   "metadata": {},
   "source": [
    "##### Properties of the relationship\n",
    "- description: A text description of the manufacturing step, providing details about the process at that step.\n",
    "- ingredients: A list or a string of ingredients involved in the manufacturing step, providing context for what is used or produced at that step.\n",
    "- Product: Name of the final product."
   ]
  },
  {
   "cell_type": "code",
   "execution_count": 53,
   "metadata": {},
   "outputs": [
    {
     "name": "stderr",
     "output_type": "stream",
     "text": [
      "C:\\Users\\apple\\AppData\\Local\\Temp\\ipykernel_10124\\1109305801.py:24: DeprecationWarning: Using a driver after it has been closed is deprecated. Future versions of the driver will raise an error.\n",
      "  with driver.session() as session:\n",
      "C:\\Users\\apple\\AppData\\Local\\Temp\\ipykernel_10124\\1109305801.py:29: DeprecationWarning: write_transaction has been renamed to execute_write\n",
      "  session.write_transaction(create_relationships, product_name, ingredients, steps_info)\n"
     ]
    }
   ],
   "source": [
    "# Create sequential relationships between manufacturing steps with the above properties\n",
    "def create_relationships(tx, product_name, ingredients, steps_info):\n",
    "    for i, step in enumerate(steps_info[:-1]):\n",
    "        next_step = steps_info[i + 1]\n",
    "        rel_type = f\"STEP_{i + 1}\"\n",
    "        tx.run(f\"\"\"\n",
    "            MATCH (s1:ManufacturingStep {{name: $step_name}}), (s2:ManufacturingStep {{name: $next_step_name}})\n",
    "            MERGE (s1)-[r:{rel_type}]->(s2)\n",
    "            SET r.product_identifier = $product_name,\n",
    "                r.sequence_order = $sequence_order,\n",
    "                r.description = $description,\n",
    "                r.ingredients = $ingredients\n",
    "            \"\"\",\n",
    "            step_name=step[0],\n",
    "            next_step_name=next_step[0],\n",
    "            product_name=product_name,\n",
    "            sequence_order=i + 1,\n",
    "            description=step[1],\n",
    "            ingredients=ingredients\n",
    "        )\n",
    "\n",
    "# Execute the transaction for each row in the dataframe\n",
    "def add_relationships_from_dataframe(df):\n",
    "    with driver.session() as session:\n",
    "        for index, row in df.iterrows():\n",
    "            product_name = row['Name']\n",
    "            ingredients = row['Ingredients'].split(', ')  # Assuming ingredients are comma-separated\n",
    "            steps_info = [(row[f'Manufacturing Step {i}'], row[f'Description Step {i}']) for i in range(1, 9) if not pd.isna(row[f'Manufacturing Step {i}'])]\n",
    "            session.write_transaction(create_relationships, product_name, ingredients, steps_info)\n",
    "\n",
    "#  dataframe 'dfe'\n",
    "add_relationships_from_dataframe(dfe)"
   ]
  },
  {
   "cell_type": "code",
   "execution_count": 54,
   "metadata": {},
   "outputs": [
    {
     "name": "stderr",
     "output_type": "stream",
     "text": [
      "C:\\Users\\apple\\AppData\\Local\\Temp\\ipykernel_10124\\3255757888.py:17: DeprecationWarning: Using a driver after it has been closed is deprecated. Future versions of the driver will raise an error.\n",
      "  with driver.session() as session:\n",
      "C:\\Users\\apple\\AppData\\Local\\Temp\\ipykernel_10124\\3255757888.py:21: DeprecationWarning: write_transaction has been renamed to execute_write\n",
      "  session.write_transaction(link_final_step_to_product, product_name, steps_info)\n"
     ]
    }
   ],
   "source": [
    "def link_final_step_to_product(tx, product_name, steps_info):\n",
    "    # Find the last non-null step\n",
    "    last_step = None\n",
    "    for step in reversed(steps_info):\n",
    "        if pd.notna(step[0]):\n",
    "            last_step = step\n",
    "            break\n",
    "\n",
    "    if last_step:\n",
    "        # Create a relationship from the last manufacturing step to the product\n",
    "        tx.run(\"\"\"\n",
    "            MATCH (step:ManufacturingStep {name: $step_name}), (prod:Product {name: $product_name})\n",
    "            MERGE (step)-[:PRODUCES]->(prod)\n",
    "            \"\"\", step_name=last_step[0], product_name=product_name)\n",
    "\n",
    "# Execute the transaction for each product\n",
    "with driver.session() as session:\n",
    "    for index, row in dfe.iterrows():\n",
    "        product_name = row['Name']\n",
    "        steps_info = [(row[f'Manufacturing Step {i}'], row[f'Description Step {i}']) for i in range(1, 9) if not pd.isna(row[f'Manufacturing Step {i}'])]\n",
    "        session.write_transaction(link_final_step_to_product, product_name, steps_info)\n"
   ]
  }
 ],
 "metadata": {
  "kernelspec": {
   "display_name": "Python 3 (ipykernel)",
   "language": "python",
   "name": "python3"
  },
  "language_info": {
   "codemirror_mode": {
    "name": "ipython",
    "version": 3
   },
   "file_extension": ".py",
   "mimetype": "text/x-python",
   "name": "python",
   "nbconvert_exporter": "python",
   "pygments_lexer": "ipython3",
   "version": "3.10.9"
  }
 },
 "nbformat": 4,
 "nbformat_minor": 2
}
