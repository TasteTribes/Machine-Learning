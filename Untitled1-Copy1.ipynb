{
 "cells": [
  {
   "cell_type": "code",
   "execution_count": 1,
   "id": "703cdff2",
   "metadata": {},
   "outputs": [
    {
     "ename": "IndentationError",
     "evalue": "unexpected indent (1763203019.py, line 11)",
     "output_type": "error",
     "traceback": [
      "\u001b[1;36m  File \u001b[1;32m\"C:\\Users\\sng7065\\AppData\\Local\\Temp\\ipykernel_5372\\1763203019.py\"\u001b[1;36m, line \u001b[1;32m11\u001b[0m\n\u001b[1;33m    print (\"current time: {}.” format (time.strftime (\"%h:% m:% s\"))\u001b[0m\n\u001b[1;37m    ^\u001b[0m\n\u001b[1;31mIndentationError\u001b[0m\u001b[1;31m:\u001b[0m unexpected indent\n"
     ]
    }
   ],
   "source": [
    " # -*- coding: utf-8 -*-\n",
    " \"\"\"\n",
    " Program Name: Detect the current time to decide which greeting to use\n",
    " Topic Requirements:\n",
    " Judging from the current time (24-hour system)\n",
    " 5~10:59, output \"good morning\"\n",
    " 11~17:59, output \"good afternoon\"\n",
    " 18~4:59, output \"good night\"\n",
    "\"\"\"\n",
    " import time\n",
    "     print (\"current time: {}.” format (time.strftime (\"%h:% m:% s\"))\n",
    " h = int( time.strftime(\"%H\") )\n",
    "            if h>5 and h < 11:\n",
    " print (\"good morning!\" )\n",
    " elif h >= 11 and h<18:\n",
    " print (\"good afternoon!\" )\n",
    " else:\n",
    " print (\"good night!\")\n",
    "          import time\n",
    "Time.strftime (\"%h:% m:% s\")\n",
    "# 18: 36: 16 (6:36:16 p.m. 24-hour)\n",
    "Time. strftime (\"%i:% m:% s\")\n",
    "# 06:36:16 (6: 36: 16 p.m. 12-hour system) format\n",
    "parameters to be set are enclosed in parentheses. \n",
    "          Available= int(input (\"Give a score:\")\n",
    "if available >= 60:\n",
    "print ('First Certificate of Conformity')\n",
    "if available >= 70:\n",
    "print ('Second Certificate of Conformity')\n",
    "if available >= 80:\n",
    "print ('Third Certificate of Conformity')\n",
    "if available >= 90:\n",
    "print ('Fourth Certificate of Conformity')\n",
    "if getScore == 100: \n"
   ]
  },
  {
   "cell_type": "code",
   "execution_count": null,
   "id": "735b8d7c",
   "metadata": {},
   "outputs": [],
   "source": [
    "# -*- coding: utf-8 -*-\n",
    "\"\"\"\n",
    "Program Name: Detect the current time to decide which greeting to use\n",
    "Topic Requirements:\n",
    "Judging from the current time (24-hour system)\n",
    "5~10:59, output \"good morning\"\n",
    "11~17:59, output \"good afternoon\"\n",
    "18~4:59, output \"good night\"\n",
    "\"\"\"\n",
    "\n",
    "import time\n",
    "\n",
    "print(\"current time: {}.\".format(time.strftime(\"%H:%M:%S\")))\n",
    "\n",
    "h = int(time.strftime(\"%H\"))\n",
    "\n",
    "if 5 <= h < 11:\n",
    "    print(\"good morning!\")\n",
    "elif 11 <= h < 18:\n",
    "    print(\"good afternoon!\")\n",
    "else:\n",
    "    print(\"good night!\")\n",
    "\n",
    "# Ask for user input\n",
    "available = int(input(\"Give a score:98 \"))\n",
    "if available >= 90:\n",
    "    print('Fourth Certificate of Conformity')\n",
    "elif available >= 80:\n",
    "    print('Third Certificate of Conformity')\n",
    "elif available >= 70:\n",
    "    print('Second Certificate of Conformity')\n",
    "elif available >= 60:\n",
    "    print('First Certificate of Conformity')\n"
   ]
  },
  {
   "cell_type": "code",
   "execution_count": null,
   "id": "d8646ca7",
   "metadata": {},
   "outputs": [],
   "source": [
    "first=1\n",
    "While first < 10: # Loop Condition Expression\n",
    "print( first)\n",
    "first += 1 # adjusts the increase or decrease\n",
    "value of the loop variable. \n"
   ]
  },
  {
   "cell_type": "code",
   "execution_count": null,
   "id": "631b9106",
   "metadata": {},
   "outputs": [],
   "source": []
  }
 ],
 "metadata": {
  "kernelspec": {
   "display_name": "Python 3 (ipykernel)",
   "language": "python",
   "name": "python3"
  },
  "language_info": {
   "codemirror_mode": {
    "name": "ipython",
    "version": 3
   },
   "file_extension": ".py",
   "mimetype": "text/x-python",
   "name": "python",
   "nbconvert_exporter": "python",
   "pygments_lexer": "ipython3",
   "version": "3.9.16"
  }
 },
 "nbformat": 4,
 "nbformat_minor": 5
}
