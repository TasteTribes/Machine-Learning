{
 "cells": [
  {
   "cell_type": "code",
   "execution_count": 4,
   "metadata": {},
   "outputs": [
    {
     "name": "stdout",
     "output_type": "stream",
     "text": [
      "Connectivity verified successfully.\n"
     ]
    }
   ],
   "source": [
    "from neo4j import GraphDatabase\n",
    "\n",
    "def get_neo4j_driver() -> GraphDatabase.driver:\n",
    "    \"\"\"Establishes and returns a Neo4j session for AuraDB.\"\"\"\n",
    "    neo4j_uri = 'neo4j+s://9d1381c2.databases.neo4j.io:7687'\n",
    "    neo4j_user = 'Shirley'\n",
    "    neo4j_password = 'Sxl19950312'\n",
    "    return GraphDatabase.driver(neo4j_uri, auth=(neo4j_user, neo4j_password))\n",
    "\n",
    "# Call the function to get the driver\n",
    "driver = get_neo4j_driver()\n",
    "\n",
    "# Open a session\n",
    "with driver.session() as session:\n",
    "    # Verify connectivity within the session\n",
    "    session.run(\"RETURN 1\")\n",
    "\n",
    "print(\"Connectivity verified successfully.\")\n",
    "\n",
    "\n",
    "from dash import Dash, dcc, html\n",
    "import plotly.express as px\n",
    "import pandas as pd\n",
    "\n",
    "\n",
    "# Define a Cypher query to retrieve the required data\n",
    "query = \"\"\"\n",
    "MATCH (n)\n",
    "RETURN n\n",
    "\"\"\"\n",
    "\n",
    "# Execute the query and process the results\n",
    "with driver.session() as session:\n",
    "    result = session.run(query)\n",
    "    neo4j_data = [record.data() for record in result]\n",
    "\n",
    "# Converting Neo4j Data to Pandas DataFrame Format\n",
    "df = pd.DataFrame(neo4j_data)\n",
    "\n",
    "#print(df)"
   ]
  },
  {
   "cell_type": "code",
   "execution_count": 5,
   "metadata": {},
   "outputs": [
    {
     "data": {
      "application/vnd.plotly.v1+json": {
       "config": {
        "plotlyServerURL": "https://plot.ly"
       },
       "data": [
        {
         "cells": {
          "values": [
           [
            "Sugar",
            "Salt",
            "Vegetable Oil",
            "Wheat Flour",
            "Flavour",
            "Emulsifier Soy Lecithin",
            "Citric Acid",
            "Water",
            "Flavour Enhancer 621",
            "Citric Acid",
            "Carbonated Water",
            "TBHQ",
            "Natural Flavour",
            "Cocoa Butter",
            "Ascorbic Acid",
            "Cocoa Mass",
            "Sodium Bicarbonate",
            "Milk Solids",
            "Natural Flavours",
            "Onion Powder",
            "Colouring Agent 150d",
            "Flavour Enhancer 635",
            "Cocoa Powder",
            "Flavours",
            "Potatoes",
            "Vitamin C",
            "Ammonium Bicarbonate",
            "Vegetable Fat",
            "Yeast Extract",
            "Phosphoric Acid",
            "Caffeine",
            "Potassium Chloride",
            "Cornstarch",
            "Folate",
            "Zinc",
            "Thiamin",
            "Riboflavin",
            "Milk",
            "Mineral Iron",
            "Polyglycerol Polyricinoleate",
            "Wheat",
            "Maltodextrin",
            "Reconstituted Fruit Juice Orange",
            "Full Cream Milk",
            "Fructose Syrup",
            "Reconstituted Apple Juice",
            "Canola Oil",
            "Onion",
            "Sunflower Oil",
            "Sodium Citrate",
            "Acesulfame Potassium",
            "Aspartame",
            "Fruit Peach",
            "Milk Whey Powder",
            "Tomatoes",
            "Reconstituted Fruit Juice Passionfruit",
            "Reconstituted Fruit Juice Pineapple",
            "Sodium Metabisulfite",
            "Citric Acid",
            "Soy",
            "Antioxidant 320",
            "Spices",
            "Dextrose",
            "Pear",
            "Antioxidant Rosemary Extract",
            "Antioxidant Tocopherols",
            "Acetic Acid",
            "Thickener Modified Corn Starch",
            "Reconstituted Fruit Juice Pear",
            "Natural Spring Water",
            "Reconstituted Mango Juice",
            "Mineral Salt 500",
            "Mineral Salt 501",
            "Parsley",
            "Guar Gum",
            "Herbs",
            "Pepper",
            "Garlic Powder",
            "Carrageenan",
            "Spice Extract",
            "Molasses",
            "Acetic Acid",
            "Citric Acid",
            "Sodium Diacetate",
            "Sodium Citrate",
            "Locust Bean Gum",
            "Xanthan Gum",
            "Raising Agent 450",
            "Potassium Citrate",
            "Calcium Lactate",
            "Malic Acid",
            "Potassium Citrate",
            "Carotene",
            "Milk Butter",
            "Flavours Soy",
            "Natural Vanilla Flavour",
            "Disodium Guanylate",
            "Anti Caking Agent 551",
            "Mineral Salt 508",
            "Mineral Salt 451",
            "Flavours Wheat",
            "Disodium Inosinate",
            "Turmeric",
            "Curcumin",
            "Antioxidant 307b",
            "Sodium Benzoate",
            "Yeast",
            "Glucose Syrup",
            "Antioxidant E307B",
            "Soybean Fibre",
            "Egg",
            "Emulsifier 442",
            "Milk Chocolate Chips",
            "Carmine",
            "Ammonium Carbonate",
            "Sodium Carbonate",
            "Palm Oil",
            "Sodium Bicarbonate",
            "Baking Powder",
            "Wheat Starch",
            "Desiccated Coconut",
            "Sorbitan Tristearate",
            "Wheat Glucose Syrup",
            "Sweetened Condensed Milk",
            "Reconstituted Lemon Juice",
            "Cocoa",
            "Thickener 1422",
            "Refined Fruit Juice",
            "Pectin",
            "Reconstituted Fruit Juice Peach Purée",
            "",
            "Pineapple",
            "Diced Peaches",
            "Diced Pears",
            "Reconstituted Refined Juice Concentrated Pear Juice",
            "Flavoured Milk",
            "Cheese Powder",
            "Australian Spring Water",
            "Paprika Oleoresins",
            "Acetic Acid",
            "Xanthan Gum",
            "Smoke Flavour",
            "Caramel I",
            "Tomato Paste",
            "Reconstituted Tomato Puree",
            "Coconut Extract",
            "Tomato Juice",
            "Potassium Sorbate",
            "Colouring Agent 160a",
            "Carbonated Mineral Water",
            "Fried Onion",
            "Citric Acid",
            "Acetic Acid",
            "Tapioca Starch",
            "Chilli",
            "Chilli Sauce",
            "Sesame Oil",
            "Soy Bean",
            "Sweet Soy Sauce",
            "Seasoning Oil",
            "Artificial Flavour",
            "Seasoning Powder",
            "Colour 101",
            "Guar Gum",
            "Sodium Bicarbonate",
            "Acidity Regulator 501",
            "Refined Palm Oil",
            "Reconstituted Lime Juice",
            "Preservative 1211",
            "Acidity Regulator 451",
            "Iodised Salt",
            "Dehydrated Vegetables",
            "Coriander",
            "Sulphites",
            "Natural Flavour Lemon Peel Extract",
            "Natural Flavour Botanical Extracts",
            "Natural Flavour Citrus Oils",
            "Natural Flavour Orange Peel Extract",
            "Carbonated Mineral Water",
            "Basil",
            "Quinine",
            "Gluten Wheat",
            "Cumin",
            "Potato Starch",
            "Flavour Celery",
            "Spice Ginger",
            "Spice Chilli Powder",
            "Spice Cardamom",
            "Burnt Sugar",
            "Guar Gum",
            "Homogenised Full Cream Milk",
            "Sardines",
            "Rice",
            "Skim Milk",
            "Acidity Regulator 339",
            "Guar Gum",
            "Caramel Color 150c",
            "Reconstituted Fruit Puree",
            "Apple Pulp",
            "Wheat Cornflour",
            "Pectin",
            "Tamarind Paste",
            "Clove",
            "Nutmeg",
            "Tomato Puree",
            "Durum Wheat Semolina",
            "Reconstituted Fruit Juice Apricot",
            "Syrup",
            "Fructose",
            "Maize Maltodextrin",
            "Ferric Ferrocyanide",
            "",
            "Carmine",
            "Reconstituted Apple Juice",
            "Carboxymethyl Cellulose",
            "Reconstituted Fruit Juice Blackcurrant",
            "Anthocyanins",
            "Reconstituted Fruit Juice Grape",
            "Reconstituted Fruit Juice Peach",
            "Guava Puree",
            "Vitamin A",
            "Reconstituted Fruit Juice Water Extracted Orange",
            "Pasteurised Homogenised Milk",
            "Cream",
            "Maize Thickener 1422",
            "Milk Lactose",
            "Xanthan Gum",
            "Vegetable Powder Tomato",
            "Buttermilk Powder",
            "Lactic Acid",
            "Paprika Extract",
            "Natural Strawberry Flavour",
            "Cochineal",
            "Refined Fruit Juice Apple",
            "Refined Fruit Juice Grape",
            "Refined Fruit Juice Peach",
            "Refined Fruit Juice Pear",
            "Natural Flavour Pineapple",
            "Natural Flavour Mango",
            "Jelly Natural Pineapple Flavour",
            "Apple",
            "Citric Acid",
            "Pineapple Juice",
            "Garam Masala",
            "Iron Oxides",
            "Vinegar",
            "Vegetable Powder Garlic",
            "Xanthan Gum",
            "Free Range Egg Yolk",
            "Gherkin",
            "Potassium Sorbate",
            "Dill",
            "Herb Extract",
            "Mustard Oil",
            "White Vinegar",
            "Reconstituted Fruit Puree Apple",
            "Reconstituted Fruit Puree Tomato Paste",
            "Tomato Powder",
            "Paprika",
            "Flavour Enhancer 620",
            "Turmeric",
            "Glucose",
            "Titanium Dioxide",
            "Carnauba Wax",
            "Ultramarines",
            "Plant Extract Carthamus",
            "Safflower Extract",
            "Ascorbic Acid",
            "Carminic Acid",
            "Lutein",
            "Antioxidant 385",
            "Processing Aid Wheat",
            "Choc Paste",
            "Golden Syrup",
            "Invert Sugar",
            "Acidity Regulator 331",
            "Milk Chocolate",
            "Caramel",
            "Biscuit",
            "Barley Malt Extract",
            "Egg White",
            "Sodium Citrate",
            "Plant Extract Gardenia",
            "Emulsifier 471",
            "Natural Flavour Lime Oils",
            "Sweetener 952",
            "Parsley Flakes",
            "Caramel III",
            "Flavour Sachet",
            "Vegetable Sachet",
            "Modified Starch 1420",
            "Mineral Salt 450",
            "Colouring Agent 100",
            "Soy Sauce Powder",
            "White Pepper",
            "Rosemary",
            "Colouring Agent 150c",
            "Caramel Color",
            "Natural Mineral Water",
            "Potassium Bicarbonate",
            "Natural Flavour Vanilla Extract",
            "Enzymes",
            "Mica",
            "Colouring Agent Titan White",
            "Beta carotene",
            "Red Beetroot Powder",
            "Black Carrot Extract",
            "Cultured Dextrose",
            "Maize Starch",
            "",
            "Polyethylene",
            "Synthetic Wax",
            "",
            "Bis-Diglyceryl Polyacyladipate-2",
            "",
            "Polybutene",
            "Silica",
            "Octyldodecanol",
            "Pentaerythrityl Tetra-di-t-butyl Hydroxyhydrocinnamate",
            "Colouring Agent Spirulina Extract",
            "Glazing Agent 414",
            "Polyglycerol polyricinoleate",
            "Milk Compound Chocolate",
            "Colouring Agent Caramel IV",
            "Dark Compound Chocolate Chips",
            "Cocoa Solids",
            "Wheaten Corn Flour",
            "Whole Egg Powder",
            "Annatto Extracts",
            "Dark Chocolate Chips",
            "Natural Flavour Vanilla",
            "Natural Flavour Butter",
            "Chocolate Chips",
            "Skim Milk Powder",
            "Strawberry",
            "Stabiliser 422",
            "Citric Acid",
            "Thickener 1414",
            "Clarified Pineapple Juice Concentrate"
           ],
           [
            66,
            50,
            29,
            27,
            25,
            22,
            19,
            18,
            16,
            16,
            14,
            14,
            13,
            12,
            12,
            12,
            12,
            12,
            12,
            12,
            11,
            11,
            11,
            10,
            10,
            10,
            10,
            10,
            10,
            10,
            9,
            9,
            9,
            9,
            8,
            8,
            8,
            8,
            8,
            8,
            7,
            7,
            7,
            7,
            7,
            7,
            7,
            6,
            6,
            6,
            6,
            6,
            5,
            5,
            5,
            5,
            5,
            5,
            5,
            5,
            5,
            5,
            4,
            4,
            4,
            4,
            4,
            4,
            4,
            4,
            4,
            4,
            4,
            4,
            4,
            4,
            4,
            4,
            3,
            3,
            3,
            3,
            3,
            3,
            3,
            3,
            3,
            3,
            3,
            3,
            3,
            3,
            3,
            3,
            3,
            3,
            3,
            3,
            3,
            3,
            3,
            3,
            3,
            3,
            3,
            3,
            3,
            3,
            2,
            2,
            2,
            2,
            2,
            2,
            2,
            2,
            2,
            2,
            2,
            2,
            2,
            2,
            2,
            2,
            2,
            2,
            2,
            2,
            2,
            2,
            2,
            2,
            2,
            2,
            2,
            2,
            2,
            2,
            2,
            2,
            2,
            2,
            2,
            2,
            2,
            2,
            2,
            2,
            2,
            2,
            2,
            2,
            2,
            2,
            2,
            2,
            2,
            2,
            2,
            2,
            2,
            2,
            2,
            2,
            2,
            2,
            2,
            2,
            2,
            2,
            2,
            2,
            2,
            2,
            2,
            2,
            2,
            2,
            2,
            2,
            2,
            2,
            2,
            2,
            2,
            2,
            2,
            2,
            2,
            1,
            1,
            1,
            1,
            1,
            1,
            1,
            1,
            1,
            1,
            1,
            1,
            1,
            1,
            1,
            1,
            1,
            1,
            1,
            1,
            1,
            1,
            1,
            1,
            1,
            1,
            1,
            1,
            1,
            1,
            1,
            1,
            1,
            1,
            1,
            1,
            1,
            1,
            1,
            1,
            1,
            1,
            1,
            1,
            1,
            1,
            1,
            1,
            1,
            1,
            1,
            1,
            1,
            1,
            1,
            1,
            1,
            1,
            1,
            1,
            1,
            1,
            1,
            1,
            1,
            1,
            1,
            1,
            1,
            1,
            1,
            1,
            1,
            1,
            1,
            1,
            1,
            1,
            1,
            1,
            1,
            1,
            1,
            1,
            1,
            1,
            1,
            1,
            1,
            1,
            1,
            1,
            1,
            1,
            1,
            1,
            1,
            1,
            1,
            1,
            1,
            1,
            1,
            1,
            1,
            1,
            1,
            1,
            1,
            1,
            1,
            1,
            1,
            1,
            1,
            1,
            1,
            1,
            1,
            1,
            1,
            1,
            1,
            1,
            1,
            1,
            1,
            1,
            1,
            1,
            1,
            1,
            1,
            1,
            1,
            1,
            1,
            1,
            1,
            1,
            1,
            1,
            1,
            1,
            1,
            1,
            1,
            1,
            1,
            1
           ],
           [
            [
             "Coca - Cola Classic  Soft Drink Multipack Cans",
             "Coca - Cola Classic  Soft Drink Mini Cans",
             "Coca - Cola Vanilla  Soft Drink Multipack Cans",
             "Indomie Mi Goreng Instant Noodles",
             "Maggi 2 Minute Chicken Flavour Instant Noodles",
             "Supreme Noodles Cup Chicken Flavour",
             "Fantastic Chicken Noodle Cup",
             "Fantastic Chicken Noodle Bowl",
             "Indomie Mi Goreng Noodle Cup",
             "Maggi 2 Minute Beef Flavour Instant Noodles",
             "Supreme Noodles Cup Beef Flavour",
             "Schweppes Indian Tonic Water Classic Mixers Bottle",
             "Schweppes Lime Soda Water With Lime Juice Bottle",
             "Schweppes Lemon Lime Natural Mineral Water Bottle",
             "Schweppes Orange Mango Natural Mineral Water Bottle",
             "Kitkat 4 Finger Milk Chocolate Bar",
             "Kitkat Chunky Original Chocolate Bar",
             "Cadbury Dairy Milk Caramello Koala Chocolate",
             "Mars Chocolate Bar With Nougat & Caramel",
             "Cadbury Dairy Milk Chocolate Roll",
             "Cadbury Dairy Milk Chocolate Bar",
             "Cadbury Twirl Chocolate Bar",
             "Cadbury Chomp Chocolate Bar",
             "Arnott's Premier Chocolate Chip Cookies",
             "Woolworths Chocolate Chip Cookies",
             "Woolworths The King Of Chunky Chocolate Chip Cookies",
             "Arnott's Mini Choc Chip Cookie Multipack Biscuits",
             "Oreo Original Mini Cookies Multipack",
             "Oreo Minis Cookies Variety Bags 18 Pack",
             "Cadbury Classic Choc Chip Cookies",
             "Cadbury Choc Centre Cookies",
             "Byron Bay Cookies Dotty Cookie Bites",
             "Oreo Original Cookies",
             "Golden Circle Golden Pash Fruit Drink",
             "Golden Circle Drinks Pine Orange Fruit Drink",
             "Golden Circle Drinks Sunshine Punch Fruit Drink",
             "Golden Circle Fruit Drinks Lunch Box Poppers Tropical Punch Multipack",
             "Oreo Double Stuff Cookies",
             "Oreo Original Cookies Family Pack",
             "Oreo Chocolate Cookies",
             "Oreo Grab & Go Original Cookies 9 Pack",
             "Oreo Neapolitan Double Stuff Cookies",
             "Woolworths Creamed Rice",
             "Woolworths Tomato Sauce Squeeze",
             "Woolworths Tomato Sauce",
             "Woolworths Barbecue Sauce Squeeze",
             "Masterfoods Tomato Sauce",
             "Masterfoods Barbecue Sauce",
             "Fountain Tomato Sauce Squeeze",
             "Fountain Barbecue Bbq Sauce Squeeze",
             "Woolworths Secret Burger Sauce",
             "Heinz Ketchup Tomato Sauce Ketchup",
             "Woolworths Barbecue Sauce",
             "Smith's Crinkle Cut Potato Chips Barbecue",
             "Smith's Crinkle Cut Potato Chips Chicken",
             "Thins Chips Chicken",
             "Smith's Crinkle Cut Potato Chips Salt & Vinegar",
             "Thins Chips Light & Tangy",
             "Thins Cheese & Onion Chips",
             "Woolworths Peach In Strawberry Jelly",
             "Woolworths Two Fruits In Tropical Jelly",
             "Woolworths Apple In Pineapple Jelly",
             "Dole Pineapple Slices In Syrup"
            ],
            [
             "Indomie Mi Goreng Instant Noodles",
             "Maggi 2 Minute Chicken Flavour Instant Noodles",
             "Supreme Noodles Cup Chicken Flavour",
             "Fantastic Chicken Noodle Cup",
             "Fantastic Chicken Noodle Bowl",
             "Indomie Mi Goreng Noodle Cup",
             "Maggi 2 Minute Beef Flavour Instant Noodles",
             "Supreme Noodles Cup Beef Flavour",
             "Kitkat 4 Finger Milk Chocolate Bar",
             "Kitkat Chunky Original Chocolate Bar",
             "Cadbury Dairy Milk Caramello Koala Chocolate",
             "Mars Chocolate Bar With Nougat & Caramel",
             "Cadbury Chomp Chocolate Bar",
             "Arnott's Premier Chocolate Chip Cookies",
             "Woolworths Chocolate Chip Cookies",
             "Woolworths The King Of Chunky Chocolate Chip Cookies",
             "Arnott's Mini Choc Chip Cookie Multipack Biscuits",
             "Oreo Original Mini Cookies Multipack",
             "Oreo Minis Cookies Variety Bags 18 Pack",
             "Cadbury Classic Choc Chip Cookies",
             "Cadbury Choc Centre Cookies",
             "Byron Bay Cookies Dotty Cookie Bites",
             "Oreo Original Cookies",
             "Oreo Double Stuff Cookies",
             "Oreo Original Cookies Family Pack",
             "Oreo Chocolate Cookies",
             "Oreo Grab & Go Original Cookies 9 Pack",
             "Deep Cove Sardines In Oil",
             "Woolworths Creamed Rice",
             "Woolworths Tomato Sauce Squeeze",
             "Woolworths Tomato Sauce",
             "Woolworths Barbecue Sauce Squeeze",
             "Masterfoods Tomato Sauce",
             "Masterfoods Barbecue Sauce",
             "Fountain Tomato Sauce Squeeze",
             "Fountain Barbecue Bbq Sauce Squeeze",
             "Woolworths Secret Burger Sauce",
             "Heinz Ketchup Tomato Sauce Ketchup",
             "Woolworths Barbecue Sauce",
             "Smith's Crinkle Cut Potato Chips Original",
             "Smith's Crinkle Cut Potato Chips Cheese & Onion",
             "Smith's Crinkle Cut Potato Chips Barbecue",
             "Smith's Crinkle Cut Potato Chips Chicken",
             "Thins Chips Salt & Vinegar",
             "Smith's Thinly Cut Potato Chips Original Share Pack",
             "Thins Chips Chicken",
             "Smith's Crinkle Cut Potato Chips Salt & Vinegar",
             "Thins Chips Light & Tangy",
             "Thins Cheese & Onion Chips"
            ],
            [
             "Maggi 2 Minute Chicken Flavour Instant Noodles",
             "Supreme Noodles Cup Chicken Flavour",
             "Fantastic Chicken Noodle Cup",
             "Fantastic Chicken Noodle Bowl",
             "Maggi 2 Minute Beef Flavour Instant Noodles",
             "Supreme Noodles Cup Beef Flavour",
             "Mars Chocolate Bar With Nougat & Caramel",
             "Cadbury Chomp Chocolate Bar",
             "Arnott's Premier Chocolate Chip Cookies",
             "Woolworths Chocolate Chip Cookies",
             "Woolworths The King Of Chunky Chocolate Chip Cookies",
             "Arnott's Mini Choc Chip Cookie Multipack Biscuits",
             "Oreo Original Mini Cookies Multipack",
             "Oreo Minis Cookies Variety Bags 18 Pack",
             "Cadbury Classic Choc Chip Cookies",
             "Cadbury Choc Centre Cookies",
             "Byron Bay Cookies Dotty Cookie Bites",
             "Oreo Original Cookies",
             "Oreo Double Stuff Cookies",
             "Oreo Original Cookies Family Pack",
             "Oreo Chocolate Cookies",
             "Oreo Grab & Go Original Cookies 9 Pack",
             "Oreo Neapolitan Double Stuff Cookies",
             "Deep Cove Sardines In Oil",
             "Thins Chips Salt & Vinegar",
             "Thins Chips Chicken",
             "Thins Chips Light & Tangy",
             "Thins Cheese & Onion Chips"
            ],
            [
             "Indomie Mi Goreng Instant Noodles",
             "Maggi 2 Minute Chicken Flavour Instant Noodles",
             "Supreme Noodles Cup Chicken Flavour",
             "Fantastic Chicken Noodle Cup",
             "Fantastic Chicken Noodle Bowl",
             "Indomie Mi Goreng Noodle Cup",
             "Maggi 2 Minute Beef Flavour Instant Noodles",
             "Supreme Noodles Cup Beef Flavour",
             "Kitkat 4 Finger Milk Chocolate Bar",
             "Kitkat Chunky Original Chocolate Bar",
             "Cadbury Chomp Chocolate Bar",
             "Arnott's Premier Chocolate Chip Cookies",
             "Woolworths Chocolate Chip Cookies",
             "Woolworths The King Of Chunky Chocolate Chip Cookies",
             "Arnott's Mini Choc Chip Cookie Multipack Biscuits",
             "Oreo Original Mini Cookies Multipack",
             "Oreo Minis Cookies Variety Bags 18 Pack",
             "Cadbury Classic Choc Chip Cookies",
             "Cadbury Choc Centre Cookies",
             "Byron Bay Cookies Dotty Cookie Bites",
             "Oreo Original Cookies",
             "Oreo Double Stuff Cookies",
             "Oreo Original Cookies Family Pack",
             "Oreo Chocolate Cookies",
             "Oreo Grab & Go Original Cookies 9 Pack",
             "Oreo Neapolitan Double Stuff Cookies"
            ],
            [
             "Coca - Cola Classic  Soft Drink Multipack Cans",
             "Coca - Cola Classic  Soft Drink Mini Cans",
             "Coca - Cola Vanilla  Soft Drink Multipack Cans",
             "Coca - Cola Zero Sugar Soft Drink Multipack Cans",
             "Coca - Cola Caffeine Free Zero Sugar Soft Drink Multipack Cans",
             "Coca - Cola Zero Sugar Soft Drink Mini Cans",
             "Maggi 2 Minute Beef Flavour Instant Noodles",
             "Kitkat 4 Finger Milk Chocolate Bar",
             "Kitkat Chunky Original Chocolate Bar",
             "Arnott's Premier Chocolate Chip Cookies",
             "Oreo Original Mini Cookies Multipack",
             "Oreo Minis Cookies Variety Bags 18 Pack",
             "Cadbury Classic Choc Chip Cookies",
             "Cadbury Choc Centre Cookies",
             "Byron Bay Cookies Dotty Cookie Bites",
             "Oreo Original Cookies",
             "Oreo Double Stuff Cookies",
             "Oreo Original Cookies Family Pack",
             "Oreo Chocolate Cookies",
             "Oreo Grab & Go Original Cookies 9 Pack",
             "Thins Chips Light & Tangy"
            ],
            [
             "Kitkat 4 Finger Milk Chocolate Bar",
             "Kitkat Chunky Original Chocolate Bar",
             "Cadbury Dairy Milk Caramello Koala Chocolate",
             "Mars Chocolate Bar With Nougat & Caramel",
             "Cadbury Dairy Milk Chocolate Roll",
             "Cadbury Dairy Milk Chocolate Bar",
             "Cadbury Twirl Chocolate Bar",
             "Cadbury Chomp Chocolate Bar",
             "Arnott's Premier Chocolate Chip Cookies",
             "Woolworths Chocolate Chip Cookies",
             "Woolworths The King Of Chunky Chocolate Chip Cookies",
             "Arnott's Mini Choc Chip Cookie Multipack Biscuits",
             "Oreo Original Mini Cookies Multipack",
             "Oreo Minis Cookies Variety Bags 18 Pack",
             "Cadbury Choc Centre Cookies",
             "Byron Bay Cookies Dotty Cookie Bites",
             "Oreo Original Cookies",
             "Oreo Double Stuff Cookies",
             "Oreo Original Cookies Family Pack",
             "Oreo Chocolate Cookies",
             "Oreo Grab & Go Original Cookies 9 Pack",
             "Oreo Neapolitan Double Stuff Cookies"
            ],
            [
             "Woolworths Apple Juice",
             "Woolworths Apple & Mango Juice",
             "Woolworths Orange Juice",
             "Woolworths Breakfast Juice",
             "Woolworths Apple & Blackcurrant Juice",
             "Woolworths Multivitamin Juice",
             "Woolworths Diced Italian Tomatoes",
             "Woolworths Tomato Sauce Squeeze",
             "Woolworths Tomato Sauce",
             "Woolworths Barbecue Sauce Squeeze",
             "Woolworths Secret Burger Sauce",
             "Woolworths Barbecue Sauce",
             "Woolworths Peach In Strawberry Jelly",
             "Woolworths Two Fruits In Juice Cups",
             "Woolworths Two Fruits In Juice",
             "Woolworths Two Fruits In Tropical Jelly",
             "Woolworths Apple In Pineapple Jelly"
            ],
            [
             "Indomie Mi Goreng Instant Noodles",
             "Indomie Mi Goreng Noodle Cup",
             "Golden Circle Golden Pash Fruit Drink",
             "Golden Circle Drinks Pine Orange Fruit Drink",
             "Golden Circle Drinks Sunshine Punch Fruit Drink",
             "Golden Circle Fruit Drinks Lunch Box Poppers Tropical Punch Multipack",
             "Essentials Coconut Cream",
             "Deep Cove Sardines In Oil",
             "Essentials Coconut Milk",
             "Masterfoods Barbecue Sauce",
             "Woolworths Secret Burger Sauce",
             "Woolworths Peach In Strawberry Jelly",
             "Woolworths Two Fruits In Juice Cups",
             "Woolworths Two Fruits In Juice",
             "Woolworths Two Fruits In Tropical Jelly",
             "Woolworths Apple In Pineapple Jelly",
             "Dole Pineapple Slices In Syrup",
             "Dole Pineapple Chunks In Juice"
            ],
            [
             "Indomie Mi Goreng Instant Noodles",
             "Maggi 2 Minute Chicken Flavour Instant Noodles",
             "Supreme Noodles Cup Chicken Flavour",
             "Fantastic Chicken Noodle Cup",
             "Fantastic Chicken Noodle Bowl",
             "Indomie Mi Goreng Noodle Cup",
             "Maggi 2 Minute Beef Flavour Instant Noodles",
             "Supreme Noodles Cup Beef Flavour",
             "Smith's Crinkle Cut Potato Chips Cheese & Onion",
             "Smith's Crinkle Cut Potato Chips Barbecue",
             "Smith's Crinkle Cut Potato Chips Chicken",
             "Thins Chips Salt & Vinegar",
             "Thins Chips Chicken",
             "Smith's Crinkle Cut Potato Chips Salt & Vinegar",
             "Thins Cheese & Onion Chips"
            ],
            [
             "Maggi 2 Minute Beef Flavour Instant Noodles",
             "Schweppes Zero Sugar Lime Infused Mineral Water Bottle",
             "Schweppes Raspberry Infused Natural Mineral Water Bottle",
             "Schweppes Lemon Lime Natural Mineral Water Bottle",
             "Schweppes Orange Mango Natural Mineral Water Bottle",
             "Golden Circle Golden Pash Fruit Drink",
             "Golden Circle Drinks Pine Orange Fruit Drink",
             "Golden Circle Drinks Sunshine Punch Fruit Drink",
             "Golden Circle Fruit Drinks Lunch Box Poppers Tropical Punch Multipack",
             "Masterfoods Tomato Sauce",
             "Masterfoods Barbecue Sauce",
             "Heinz Ketchup Tomato Sauce Ketchup",
             "Smith's Crinkle Cut Potato Chips Cheese & Onion",
             "Smith's Crinkle Cut Potato Chips Barbecue",
             "Thins Chips Chicken",
             "Smith's Crinkle Cut Potato Chips Salt & Vinegar"
            ],
            [
             "Coca - Cola Classic  Soft Drink Multipack Cans",
             "Coca - Cola Classic  Soft Drink Mini Cans",
             "Coca - Cola Vanilla  Soft Drink Multipack Cans",
             "Coca - Cola Zero Sugar Soft Drink Multipack Cans",
             "Coca - Cola Caffeine Free Zero Sugar Soft Drink Multipack Cans",
             "Coca - Cola Zero Sugar Soft Drink Mini Cans",
             "Schweppes Soda Water Bottle Classic Mixers",
             "Schweppes Indian Tonic Water Classic Mixers Bottle",
             "Schweppes Lime Soda Water With Lime Juice Bottle",
             "Schweppes Zero Sugar Classic Mixers Indian Tonic Water Bottle"
            ],
            [
             "Indomie Mi Goreng Instant Noodles",
             "Maggi 2 Minute Chicken Flavour Instant Noodles",
             "Fantastic Chicken Noodle Bowl",
             "Indomie Mi Goreng Noodle Cup",
             "Maggi 2 Minute Beef Flavour Instant Noodles",
             "Oreo Original Mini Cookies Multipack",
             "Oreo Minis Cookies Variety Bags 18 Pack",
             "Oreo Original Cookies",
             "Oreo Double Stuff Cookies",
             "Oreo Original Cookies Family Pack",
             "Oreo Chocolate Cookies",
             "Oreo Grab & Go Original Cookies 9 Pack",
             "Oreo Neapolitan Double Stuff Cookies"
            ],
            [
             "Woolworths Chocolate Chip Cookies",
             "Arnott's Mini Choc Chip Cookie Multipack Biscuits",
             "Woolworths Apple Juice",
             "Woolworths Apple & Mango Juice",
             "Woolworths Orange Juice",
             "Woolworths Apple & Blackcurrant Juice",
             "Golden Circle Drinks Pine Orange Fruit Drink",
             "Woolworths Tomato Sauce Squeeze",
             "Woolworths Tomato Sauce",
             "Fountain Tomato Sauce Squeeze",
             "Woolworths Barbecue Sauce",
             "Thins Chips Salt & Vinegar",
             "Thins Cheese & Onion Chips"
            ],
            [
             "Kitkat 4 Finger Milk Chocolate Bar",
             "Kitkat Chunky Original Chocolate Bar",
             "Cadbury Dairy Milk Caramello Koala Chocolate",
             "Mars Chocolate Bar With Nougat & Caramel",
             "Cadbury Dairy Milk Chocolate Roll",
             "Cadbury Dairy Milk Chocolate Bar",
             "Cadbury Twirl Chocolate Bar",
             "Arnott's Premier Chocolate Chip Cookies",
             "Woolworths The King Of Chunky Chocolate Chip Cookies",
             "Arnott's Mini Choc Chip Cookie Multipack Biscuits",
             "Cadbury Classic Choc Chip Cookies",
             "Cadbury Choc Centre Cookies"
            ],
            [
             "Smith's Crinkle Cut Potato Chips Original",
             "Smith's Crinkle Cut Potato Chips Chicken",
             "Smith's Thinly Cut Potato Chips Original Share Pack",
             "Smith's Crinkle Cut Potato Chips Salt & Vinegar",
             "Woolworths Peach In Strawberry Jelly",
             "Woolworths Two Fruits In Juice Cups",
             "Woolworths Two Fruits In Juice",
             "Woolworths Two Fruits In Tropical Jelly",
             "Woolworths Apple In Pineapple Jelly",
             "Goulburn Valley Two Fruits In Juice",
             "Goulburn Valley Two Fruits In Juice Fruit Cups In Juice"
            ],
            [
             "Kitkat 4 Finger Milk Chocolate Bar",
             "Kitkat Chunky Original Chocolate Bar",
             "Cadbury Dairy Milk Caramello Koala Chocolate",
             "Mars Chocolate Bar With Nougat & Caramel",
             "Cadbury Dairy Milk Chocolate Roll",
             "Cadbury Dairy Milk Chocolate Bar",
             "Cadbury Twirl Chocolate Bar",
             "Arnott's Premier Chocolate Chip Cookies",
             "Woolworths The King Of Chunky Chocolate Chip Cookies",
             "Arnott's Mini Choc Chip Cookie Multipack Biscuits",
             "Cadbury Classic Choc Chip Cookies",
             "Cadbury Choc Centre Cookies"
            ],
            [
             "Cadbury Chomp Chocolate Bar",
             "Oreo Original Mini Cookies Multipack",
             "Oreo Minis Cookies Variety Bags 18 Pack",
             "Cadbury Classic Choc Chip Cookies",
             "Cadbury Choc Centre Cookies",
             "Byron Bay Cookies Dotty Cookie Bites",
             "Oreo Original Cookies",
             "Oreo Double Stuff Cookies",
             "Oreo Original Cookies Family Pack",
             "Oreo Chocolate Cookies",
             "Oreo Grab & Go Original Cookies 9 Pack",
             "Oreo Neapolitan Double Stuff Cookies"
            ],
            [
             "Kitkat 4 Finger Milk Chocolate Bar",
             "Kitkat Chunky Original Chocolate Bar",
             "Cadbury Dairy Milk Caramello Koala Chocolate",
             "Mars Chocolate Bar With Nougat & Caramel",
             "Cadbury Dairy Milk Chocolate Roll",
             "Cadbury Dairy Milk Chocolate Bar",
             "Cadbury Twirl Chocolate Bar",
             "Cadbury Chomp Chocolate Bar",
             "Arnott's Premier Chocolate Chip Cookies",
             "Cadbury Classic Choc Chip Cookies",
             "Cadbury Choc Centre Cookies",
             "Byron Bay Cookies Dotty Cookie Bites"
            ],
            [
             "Schweppes Zero Sugar Lime Infused Mineral Water Bottle",
             "Schweppes Raspberry Infused Natural Mineral Water Bottle",
             "Schweppes Lemon Lime Natural Mineral Water Bottle",
             "Schweppes Orange Mango Natural Mineral Water Bottle",
             "Woolworths Breakfast Juice",
             "Woolworths Multivitamin Juice",
             "Golden Circle Golden Pash Fruit Drink",
             "Golden Circle Drinks Sunshine Punch Fruit Drink",
             "Golden Circle Fruit Drinks Lunch Box Poppers Tropical Punch Multipack",
             "Fountain Barbecue Bbq Sauce Squeeze",
             "Heinz Ketchup Tomato Sauce Ketchup",
             "Smith's Crinkle Cut Potato Chips Salt & Vinegar"
            ],
            [
             "Indomie Mi Goreng Instant Noodles",
             "Maggi 2 Minute Chicken Flavour Instant Noodles",
             "Supreme Noodles Cup Chicken Flavour",
             "Fantastic Chicken Noodle Cup",
             "Indomie Mi Goreng Noodle Cup",
             "Woolworths Secret Burger Sauce",
             "Smith's Crinkle Cut Potato Chips Cheese & Onion",
             "Smith's Crinkle Cut Potato Chips Barbecue",
             "Smith's Crinkle Cut Potato Chips Chicken",
             "Thins Chips Chicken",
             "Thins Chips Light & Tangy",
             "Thins Cheese & Onion Chips"
            ],
            [
             "Coca - Cola Classic  Soft Drink Multipack Cans",
             "Coca - Cola Classic  Soft Drink Mini Cans",
             "Coca - Cola Vanilla  Soft Drink Multipack Cans",
             "Coca - Cola Zero Sugar Soft Drink Multipack Cans",
             "Coca - Cola Caffeine Free Zero Sugar Soft Drink Multipack Cans",
             "Coca - Cola Zero Sugar Soft Drink Mini Cans",
             "Fountain Barbecue Bbq Sauce Squeeze"
            ],
            [
             "Maggi 2 Minute Chicken Flavour Instant Noodles",
             "Supreme Noodles Cup Chicken Flavour",
             "Fantastic Chicken Noodle Cup",
             "Maggi 2 Minute Beef Flavour Instant Noodles",
             "Supreme Noodles Cup Beef Flavour",
             "Smith's Crinkle Cut Potato Chips Barbecue",
             "Smith's Crinkle Cut Potato Chips Chicken",
             "Thins Chips Chicken",
             "Thins Chips Light & Tangy",
             "Thins Cheese & Onion Chips"
            ],
            [
             "Cadbury Chomp Chocolate Bar",
             "Oreo Original Mini Cookies Multipack",
             "Oreo Minis Cookies Variety Bags 18 Pack",
             "Cadbury Choc Centre Cookies",
             "Byron Bay Cookies Dotty Cookie Bites",
             "Oreo Original Cookies",
             "Oreo Double Stuff Cookies",
             "Oreo Original Cookies Family Pack",
             "Oreo Chocolate Cookies",
             "Oreo Grab & Go Original Cookies 9 Pack",
             "Oreo Neapolitan Double Stuff Cookies"
            ],
            [
             "Indomie Mi Goreng Noodle Cup",
             "Cadbury Dairy Milk Caramello Koala Chocolate",
             "Cadbury Dairy Milk Chocolate Roll",
             "Cadbury Dairy Milk Chocolate Bar",
             "Cadbury Twirl Chocolate Bar",
             "Cadbury Chomp Chocolate Bar",
             "Cadbury Choc Centre Cookies",
             "Oreo Neapolitan Double Stuff Cookies",
             "Smith's Crinkle Cut Potato Chips Barbecue",
             "Thins Chips Chicken"
            ],
            [
             "Smith's Crinkle Cut Potato Chips Original",
             "Smith's Crinkle Cut Potato Chips Cheese & Onion",
             "Smith's Crinkle Cut Potato Chips Barbecue",
             "Smith's Crinkle Cut Potato Chips Chicken",
             "Thins Chips Salt & Vinegar",
             "Smith's Thinly Cut Potato Chips Original Share Pack",
             "Thins Chips Chicken",
             "Smith's Crinkle Cut Potato Chips Salt & Vinegar",
             "Thins Chips Light & Tangy",
             "Thins Cheese & Onion Chips"
            ],
            [
             "Woolworths Apple Juice",
             "Woolworths Apple & Mango Juice",
             "Woolworths Orange Juice",
             "Woolworths Breakfast Juice",
             "Woolworths Apple & Blackcurrant Juice",
             "Woolworths Multivitamin Juice",
             "Golden Circle Golden Pash Fruit Drink",
             "Golden Circle Drinks Pine Orange Fruit Drink",
             "Golden Circle Drinks Sunshine Punch Fruit Drink",
             "Golden Circle Fruit Drinks Lunch Box Poppers Tropical Punch Multipack"
            ],
            [
             "Oreo Original Mini Cookies Multipack",
             "Oreo Minis Cookies Variety Bags 18 Pack",
             "Cadbury Classic Choc Chip Cookies",
             "Cadbury Choc Centre Cookies",
             "Oreo Original Cookies",
             "Oreo Double Stuff Cookies",
             "Oreo Original Cookies Family Pack",
             "Oreo Chocolate Cookies",
             "Oreo Grab & Go Original Cookies 9 Pack",
             "Oreo Neapolitan Double Stuff Cookies"
            ],
            [
             "Maggi 2 Minute Chicken Flavour Instant Noodles",
             "Maggi 2 Minute Beef Flavour Instant Noodles",
             "Kitkat 4 Finger Milk Chocolate Bar",
             "Kitkat Chunky Original Chocolate Bar",
             "Cadbury Dairy Milk Caramello Koala Chocolate",
             "Mars Chocolate Bar With Nougat & Caramel",
             "Cadbury Chomp Chocolate Bar",
             "Cadbury Classic Choc Chip Cookies",
             "Byron Bay Cookies Dotty Cookie Bites"
            ],
            [
             "Indomie Mi Goreng Instant Noodles",
             "Supreme Noodles Cup Chicken Flavour",
             "Fantastic Chicken Noodle Cup",
             "Fantastic Chicken Noodle Bowl",
             "Indomie Mi Goreng Noodle Cup",
             "Maggi 2 Minute Beef Flavour Instant Noodles",
             "Masterfoods Barbecue Sauce",
             "Smith's Crinkle Cut Potato Chips Cheese & Onion",
             "Smith's Crinkle Cut Potato Chips Chicken",
             "Thins Cheese & Onion Chips"
            ],
            [
             "Coca - Cola Classic  Soft Drink Multipack Cans",
             "Coca - Cola Classic  Soft Drink Mini Cans",
             "Coca - Cola Vanilla  Soft Drink Multipack Cans",
             "Coca - Cola Zero Sugar Soft Drink Multipack Cans",
             "Coca - Cola Caffeine Free Zero Sugar Soft Drink Multipack Cans",
             "Coca - Cola Zero Sugar Soft Drink Mini Cans"
            ],
            [
             "Coca - Cola Classic  Soft Drink Multipack Cans",
             "Coca - Cola Classic  Soft Drink Mini Cans",
             "Coca - Cola Vanilla  Soft Drink Multipack Cans",
             "Coca - Cola Zero Sugar Soft Drink Multipack Cans",
             "Coca - Cola Zero Sugar Soft Drink Mini Cans"
            ],
            [
             "Maggi 2 Minute Chicken Flavour Instant Noodles",
             "Maggi 2 Minute Beef Flavour Instant Noodles",
             "Smith's Crinkle Cut Potato Chips Cheese & Onion",
             "Smith's Crinkle Cut Potato Chips Barbecue",
             "Smith's Crinkle Cut Potato Chips Chicken",
             "Thins Chips Salt & Vinegar",
             "Thins Chips Chicken",
             "Smith's Crinkle Cut Potato Chips Salt & Vinegar",
             "Thins Cheese & Onion Chips"
            ],
            [
             "Oreo Original Mini Cookies Multipack",
             "Oreo Minis Cookies Variety Bags 18 Pack",
             "Byron Bay Cookies Dotty Cookie Bites",
             "Oreo Original Cookies",
             "Oreo Double Stuff Cookies",
             "Oreo Original Cookies Family Pack",
             "Oreo Chocolate Cookies",
             "Oreo Grab & Go Original Cookies 9 Pack",
             "Oreo Neapolitan Double Stuff Cookies"
            ],
            [
             "Oreo Original Mini Cookies Multipack",
             "Oreo Minis Cookies Variety Bags 18 Pack",
             "Oreo Original Cookies",
             "Woolworths Multivitamin Juice",
             "Oreo Double Stuff Cookies",
             "Oreo Original Cookies Family Pack",
             "Oreo Chocolate Cookies",
             "Oreo Grab & Go Original Cookies 9 Pack",
             "Oreo Neapolitan Double Stuff Cookies"
            ],
            [
             "Oreo Original Mini Cookies Multipack",
             "Oreo Minis Cookies Variety Bags 18 Pack",
             "Oreo Original Cookies",
             "Oreo Double Stuff Cookies",
             "Oreo Original Cookies Family Pack",
             "Oreo Chocolate Cookies",
             "Oreo Grab & Go Original Cookies 9 Pack",
             "Oreo Neapolitan Double Stuff Cookies"
            ],
            [
             "Oreo Original Mini Cookies Multipack",
             "Oreo Minis Cookies Variety Bags 18 Pack",
             "Oreo Original Cookies",
             "Oreo Double Stuff Cookies",
             "Oreo Original Cookies Family Pack",
             "Oreo Chocolate Cookies",
             "Oreo Grab & Go Original Cookies 9 Pack",
             "Oreo Neapolitan Double Stuff Cookies"
            ],
            [
             "Oreo Original Mini Cookies Multipack",
             "Oreo Minis Cookies Variety Bags 18 Pack",
             "Oreo Original Cookies",
             "Oreo Double Stuff Cookies",
             "Oreo Original Cookies Family Pack",
             "Oreo Chocolate Cookies",
             "Oreo Grab & Go Original Cookies 9 Pack",
             "Oreo Neapolitan Double Stuff Cookies"
            ],
            [
             "Kitkat 4 Finger Milk Chocolate Bar",
             "Kitkat Chunky Original Chocolate Bar",
             "Woolworths Chocolate Chip Cookies",
             "Dairy Farmers Full Cream Milk Full Cream Milk",
             "A2 Milk Full Cream Milk",
             "Woolworths Creamed Rice"
            ],
            [
             "Oreo Original Mini Cookies Multipack",
             "Oreo Minis Cookies Variety Bags 18 Pack",
             "Oreo Original Cookies",
             "Oreo Double Stuff Cookies",
             "Oreo Original Cookies Family Pack",
             "Oreo Chocolate Cookies",
             "Oreo Grab & Go Original Cookies 9 Pack",
             "Oreo Neapolitan Double Stuff Cookies"
            ],
            [
             "Kitkat 4 Finger Milk Chocolate Bar",
             "Kitkat Chunky Original Chocolate Bar",
             "Cadbury Dairy Milk Caramello Koala Chocolate",
             "Cadbury Dairy Milk Chocolate Roll",
             "Cadbury Dairy Milk Chocolate Bar",
             "Cadbury Twirl Chocolate Bar",
             "Cadbury Chomp Chocolate Bar",
             "Byron Bay Cookies Dotty Cookie Bites"
            ],
            [
             "Indomie Mi Goreng Instant Noodles",
             "Indomie Mi Goreng Noodle Cup",
             "Maggi 2 Minute Beef Flavour Instant Noodles",
             "Supreme Noodles Cup Beef Flavour",
             "Kitkat 4 Finger Milk Chocolate Bar",
             "Kitkat Chunky Original Chocolate Bar",
             "Woolworths Chocolate Chip Cookies"
            ],
            [
             "Maggi 2 Minute Chicken Flavour Instant Noodles",
             "Supreme Noodles Cup Chicken Flavour",
             "Fantastic Chicken Noodle Cup",
             "Oreo Neapolitan Double Stuff Cookies",
             "Smith's Crinkle Cut Potato Chips Cheese & Onion",
             "Smith's Crinkle Cut Potato Chips Barbecue",
             "Smith's Crinkle Cut Potato Chips Chicken"
            ],
            [
             "Schweppes Orange Mango Natural Mineral Water Bottle",
             "Woolworths Orange Juice",
             "Woolworths Breakfast Juice",
             "Woolworths Multivitamin Juice",
             "Golden Circle Drinks Pine Orange Fruit Drink",
             "Golden Circle Drinks Sunshine Punch Fruit Drink",
             "Golden Circle Fruit Drinks Lunch Box Poppers Tropical Punch Multipack"
            ],
            [
             "Cadbury Dairy Milk Caramello Koala Chocolate",
             "Cadbury Dairy Milk Chocolate Roll",
             "Cadbury Dairy Milk Chocolate Bar",
             "Cadbury Twirl Chocolate Bar",
             "Woolworths Full Cream Milk",
             "Pauls Farmhouse Gold Full Cream Milk"
            ],
            [
             "Oreo Original Mini Cookies Multipack",
             "Oreo Minis Cookies Variety Bags 18 Pack",
             "Oreo Original Cookies",
             "Oreo Double Stuff Cookies",
             "Oreo Original Cookies Family Pack",
             "Oreo Chocolate Cookies",
             "Oreo Neapolitan Double Stuff Cookies"
            ],
            [
             "Woolworths Apple & Mango Juice",
             "Woolworths Breakfast Juice",
             "Woolworths Apple & Blackcurrant Juice",
             "Woolworths Multivitamin Juice",
             "Golden Circle Golden Pash Fruit Drink",
             "Golden Circle Drinks Sunshine Punch Fruit Drink",
             "Golden Circle Fruit Drinks Lunch Box Poppers Tropical Punch Multipack"
            ],
            [
             "Woolworths Secret Burger Sauce",
             "Smith's Crinkle Cut Potato Chips Original",
             "Smith's Crinkle Cut Potato Chips Cheese & Onion",
             "Smith's Crinkle Cut Potato Chips Barbecue",
             "Smith's Crinkle Cut Potato Chips Chicken",
             "Smith's Thinly Cut Potato Chips Original Share Pack",
             "Smith's Crinkle Cut Potato Chips Salt & Vinegar"
            ],
            [
             "Indomie Mi Goreng Instant Noodles",
             "Maggi 2 Minute Chicken Flavour Instant Noodles",
             "Indomie Mi Goreng Noodle Cup",
             "Maggi 2 Minute Beef Flavour Instant Noodles",
             "Masterfoods Tomato Sauce",
             "Masterfoods Barbecue Sauce"
            ],
            [
             "Smith's Crinkle Cut Potato Chips Original",
             "Smith's Crinkle Cut Potato Chips Cheese & Onion",
             "Smith's Crinkle Cut Potato Chips Barbecue",
             "Smith's Crinkle Cut Potato Chips Chicken",
             "Smith's Thinly Cut Potato Chips Original Share Pack",
             "Smith's Crinkle Cut Potato Chips Salt & Vinegar"
            ],
            [
             "Coca - Cola Zero Sugar Soft Drink Multipack Cans",
             "Coca - Cola Caffeine Free Zero Sugar Soft Drink Multipack Cans",
             "Coca - Cola Zero Sugar Soft Drink Mini Cans",
             "Schweppes Zero Sugar Classic Mixers Indian Tonic Water Bottle"
            ],
            [
             "Coca - Cola Zero Sugar Soft Drink Multipack Cans",
             "Coca - Cola Caffeine Free Zero Sugar Soft Drink Multipack Cans",
             "Coca - Cola Zero Sugar Soft Drink Mini Cans",
             "Schweppes Zero Sugar Classic Mixers Indian Tonic Water Bottle"
            ],
            [
             "Coca - Cola Zero Sugar Soft Drink Multipack Cans",
             "Coca - Cola Caffeine Free Zero Sugar Soft Drink Multipack Cans",
             "Coca - Cola Zero Sugar Soft Drink Mini Cans",
             "Schweppes Zero Sugar Classic Mixers Indian Tonic Water Bottle"
            ],
            [
             "Woolworths Peach In Strawberry Jelly",
             "Woolworths Two Fruits In Juice Cups",
             "Woolworths Two Fruits In Juice",
             "Woolworths Two Fruits In Tropical Jelly"
            ],
            [
             "Woolworths Chocolate Chip Cookies",
             "Woolworths The King Of Chunky Chocolate Chip Cookies",
             "Smith's Crinkle Cut Potato Chips Cheese & Onion",
             "Thins Chips Light & Tangy",
             "Thins Cheese & Onion Chips"
            ],
            [
             "Woolworths Diced Italian Tomatoes",
             "Masterfoods Barbecue Sauce",
             "Fountain Barbecue Bbq Sauce Squeeze",
             "Heinz Ketchup Tomato Sauce Ketchup"
            ],
            [
             "Woolworths Breakfast Juice",
             "Woolworths Multivitamin Juice",
             "Golden Circle Golden Pash Fruit Drink",
             "Golden Circle Drinks Sunshine Punch Fruit Drink",
             "Golden Circle Fruit Drinks Lunch Box Poppers Tropical Punch Multipack"
            ],
            [
             "Woolworths Breakfast Juice",
             "Golden Circle Golden Pash Fruit Drink",
             "Golden Circle Drinks Pine Orange Fruit Drink",
             "Golden Circle Drinks Sunshine Punch Fruit Drink",
             "Golden Circle Fruit Drinks Lunch Box Poppers Tropical Punch Multipack"
            ],
            [
             "Indomie Mi Goreng Instant Noodles",
             "Indomie Mi Goreng Noodle Cup",
             "Schweppes Lime Soda Water With Lime Juice Bottle",
             "Schweppes Lemon Lime Natural Mineral Water Bottle",
             "Schweppes Orange Mango Natural Mineral Water Bottle"
            ],
            [
             "Schweppes Indian Tonic Water Classic Mixers Bottle",
             "Schweppes Zero Sugar Classic Mixers Indian Tonic Water Bottle",
             "Cadbury Chomp Chocolate Bar",
             "Oreo Minis Cookies Variety Bags 18 Pack",
             "Oreo Neapolitan Double Stuff Cookies"
            ],
            [
             "Supreme Noodles Cup Chicken Flavour",
             "Fantastic Chicken Noodle Cup",
             "Maggi 2 Minute Beef Flavour Instant Noodles",
             "Supreme Noodles Cup Beef Flavour",
             "Kitkat Chunky Original Chocolate Bar"
            ],
            [
             "Maggi 2 Minute Chicken Flavour Instant Noodles",
             "Fantastic Chicken Noodle Cup",
             "Maggi 2 Minute Beef Flavour Instant Noodles",
             "Supreme Noodles Cup Beef Flavour"
            ],
            [
             "Indomie Mi Goreng Instant Noodles",
             "Indomie Mi Goreng Noodle Cup",
             "Woolworths Barbecue Sauce Squeeze",
             "Fountain Barbecue Bbq Sauce Squeeze",
             "Woolworths Barbecue Sauce"
            ],
            [
             "Cadbury Classic Choc Chip Cookies",
             "Cadbury Choc Centre Cookies",
             "Smith's Crinkle Cut Potato Chips Cheese & Onion",
             "Smith's Crinkle Cut Potato Chips Salt & Vinegar"
            ],
            [
             "Woolworths Two Fruits In Juice Cups",
             "Woolworths Two Fruits In Juice",
             "Woolworths Two Fruits In Tropical Jelly"
            ],
            [
             "Smith's Crinkle Cut Potato Chips Original",
             "Smith's Crinkle Cut Potato Chips Chicken",
             "Smith's Thinly Cut Potato Chips Original Share Pack",
             "Smith's Crinkle Cut Potato Chips Salt & Vinegar"
            ],
            [
             "Smith's Crinkle Cut Potato Chips Original",
             "Smith's Crinkle Cut Potato Chips Chicken",
             "Smith's Thinly Cut Potato Chips Original Share Pack",
             "Smith's Crinkle Cut Potato Chips Salt & Vinegar"
            ],
            [
             "Woolworths Tomato Sauce Squeeze",
             "Woolworths Tomato Sauce",
             "Woolworths Barbecue Sauce Squeeze",
             "Woolworths Barbecue Sauce"
            ],
            [
             "Woolworths Tomato Sauce Squeeze",
             "Woolworths Tomato Sauce",
             "Woolworths Barbecue Sauce Squeeze",
             "Woolworths Barbecue Sauce"
            ],
            [
             "Woolworths Multivitamin Juice",
             "Golden Circle Golden Pash Fruit Drink",
             "Golden Circle Drinks Sunshine Punch Fruit Drink",
             "Golden Circle Fruit Drinks Lunch Box Poppers Tropical Punch Multipack"
            ],
            [
             "Woolworths Spring Water Bottles",
             "Woolworths Spring Water"
            ],
            [
             "Schweppes Orange Mango Natural Mineral Water Bottle",
             "Woolworths Apple & Mango Juice",
             "Woolworths Breakfast Juice",
             "Woolworths Multivitamin Juice"
            ],
            [
             "Maggi 2 Minute Chicken Flavour Instant Noodles",
             "Fantastic Chicken Noodle Bowl",
             "Maggi 2 Minute Beef Flavour Instant Noodles"
            ],
            [
             "Maggi 2 Minute Chicken Flavour Instant Noodles",
             "Fantastic Chicken Noodle Bowl",
             "Maggi 2 Minute Beef Flavour Instant Noodles"
            ],
            [
             "Maggi 2 Minute Chicken Flavour Instant Noodles",
             "Smith's Crinkle Cut Potato Chips Chicken",
             "Thins Chips Chicken",
             "Thins Cheese & Onion Chips"
            ],
            [
             "Maggi 2 Minute Chicken Flavour Instant Noodles",
             "Fantastic Chicken Noodle Bowl",
             "Maggi 2 Minute Beef Flavour Instant Noodles"
            ],
            [
             "Indomie Mi Goreng Instant Noodles",
             "Supreme Noodles Cup Chicken Flavour",
             "Fantastic Chicken Noodle Cup",
             "Indomie Mi Goreng Noodle Cup"
            ],
            [
             "Indomie Mi Goreng Instant Noodles",
             "Indomie Mi Goreng Noodle Cup",
             "Masterfoods Barbecue Sauce",
             "Thins Chips Chicken"
            ],
            [
             "Indomie Mi Goreng Instant Noodles",
             "Indomie Mi Goreng Noodle Cup",
             "Supreme Noodles Cup Beef Flavour",
             "Smith's Crinkle Cut Potato Chips Barbecue"
            ],
            [
             "Woolworths Peach In Strawberry Jelly",
             "Woolworths Two Fruits In Tropical Jelly",
             "Woolworths Apple In Pineapple Jelly"
            ],
            [
             "Woolworths Tomato Sauce Squeeze",
             "Woolworths Tomato Sauce",
             "Masterfoods Tomato Sauce"
            ],
            [
             "Woolworths Barbecue Sauce Squeeze",
             "Fountain Barbecue Bbq Sauce Squeeze",
             "Woolworths Barbecue Sauce"
            ],
            [
             "Masterfoods Tomato Sauce",
             "Masterfoods Barbecue Sauce",
             "Thins Chips Salt & Vinegar"
            ],
            [
             "Smith's Crinkle Cut Potato Chips Original",
             "Smith's Crinkle Cut Potato Chips Chicken",
             "Smith's Thinly Cut Potato Chips Original Share Pack"
            ],
            [
             "Smith's Crinkle Cut Potato Chips Barbecue",
             "Thins Chips Salt & Vinegar",
             "Smith's Crinkle Cut Potato Chips Salt & Vinegar"
            ],
            [
             "Woolworths Peach In Strawberry Jelly",
             "Woolworths Two Fruits In Tropical Jelly",
             "Woolworths Apple In Pineapple Jelly"
            ],
            [
             "Woolworths Peach In Strawberry Jelly",
             "Woolworths Two Fruits In Tropical Jelly",
             "Woolworths Apple In Pineapple Jelly"
            ],
            [
             "Woolworths Peach In Strawberry Jelly",
             "Woolworths Two Fruits In Tropical Jelly",
             "Woolworths Apple In Pineapple Jelly"
            ],
            [
             "Cadbury Classic Choc Chip Cookies",
             "Cadbury Choc Centre Cookies",
             "Byron Bay Cookies Dotty Cookie Bites"
            ],
            [
             "Woolworths Peach In Strawberry Jelly",
             "Woolworths Two Fruits In Tropical Jelly",
             "Woolworths Apple In Pineapple Jelly"
            ],
            [
             "Woolworths Peach In Strawberry Jelly",
             "Woolworths Two Fruits In Tropical Jelly",
             "Woolworths Apple In Pineapple Jelly"
            ],
            [
             "Woolworths Peach In Strawberry Jelly",
             "Woolworths Two Fruits In Tropical Jelly",
             "Woolworths Apple In Pineapple Jelly"
            ],
            [
             "Golden Circle Golden Pash Fruit Drink",
             "Golden Circle Drinks Sunshine Punch Fruit Drink",
             "Golden Circle Fruit Drinks Lunch Box Poppers Tropical Punch Multipack"
            ],
            [
             "Woolworths Secret Burger Sauce",
             "Woolworths Two Fruits In Tropical Jelly",
             "Woolworths Apple In Pineapple Jelly"
            ],
            [
             "Woolworths The King Of Chunky Chocolate Chip Cookies",
             "Arnott's Mini Choc Chip Cookie Multipack Biscuits",
             "Byron Bay Cookies Dotty Cookie Bites"
            ],
            [
             "Maggi 2 Minute Chicken Flavour Instant Noodles",
             "Fantastic Chicken Noodle Bowl"
            ],
            [
             "Woolworths The King Of Chunky Chocolate Chip Cookies",
             "Byron Bay Cookies Dotty Cookie Bites",
             "Woolworths Creamed Rice"
            ],
            [
             "Indomie Mi Goreng Instant Noodles",
             "Fantastic Chicken Noodle Bowl",
             "Indomie Mi Goreng Noodle Cup"
            ],
            [
             "Indomie Mi Goreng Instant Noodles",
             "Fantastic Chicken Noodle Bowl",
             "Indomie Mi Goreng Noodle Cup"
            ],
            [
             "Maggi 2 Minute Chicken Flavour Instant Noodles",
             "Maggi 2 Minute Beef Flavour Instant Noodles"
            ],
            [
             "Maggi 2 Minute Chicken Flavour Instant Noodles",
             "Maggi 2 Minute Beef Flavour Instant Noodles"
            ],
            [
             "Maggi 2 Minute Chicken Flavour Instant Noodles",
             "Fantastic Chicken Noodle Bowl"
            ],
            [
             "Indomie Mi Goreng Instant Noodles",
             "Fantastic Chicken Noodle Bowl",
             "Indomie Mi Goreng Noodle Cup"
            ],
            [
             "Maggi 2 Minute Chicken Flavour Instant Noodles",
             "Thins Cheese & Onion Chips"
            ],
            [
             "Supreme Noodles Cup Chicken Flavour",
             "Fantastic Chicken Noodle Cup",
             "Supreme Noodles Cup Beef Flavour"
            ],
            [
             "Fantastic Chicken Noodle Bowl",
             "Woolworths Chocolate Chip Cookies",
             "Woolworths The King Of Chunky Chocolate Chip Cookies"
            ],
            [
             "Schweppes Lime Soda Water With Lime Juice Bottle",
             "Schweppes Lemon Lime Natural Mineral Water Bottle",
             "Schweppes Orange Mango Natural Mineral Water Bottle"
            ],
            [
             "Kitkat 4 Finger Milk Chocolate Bar",
             "Kitkat Chunky Original Chocolate Bar",
             "Thins Cheese & Onion Chips"
            ],
            [
             "Cadbury Dairy Milk Caramello Koala Chocolate",
             "Cadbury Classic Choc Chip Cookies",
             "Masterfoods Barbecue Sauce"
            ],
            [
             "Arnott's Premier Chocolate Chip Cookies",
             "Arnott's Mini Choc Chip Cookie Multipack Biscuits"
            ],
            [
             "Cadbury Classic Choc Chip Cookies",
             "Cadbury Choc Centre Cookies"
            ],
            [
             "Cadbury Classic Choc Chip Cookies",
             "Byron Bay Cookies Dotty Cookie Bites"
            ],
            [
             "Cadbury Classic Choc Chip Cookies",
             "Cadbury Choc Centre Cookies"
            ],
            [
             "Cadbury Classic Choc Chip Cookies",
             "Cadbury Choc Centre Cookies"
            ],
            [
             "Oreo Minis Cookies Variety Bags 18 Pack",
             "Oreo Neapolitan Double Stuff Cookies"
            ],
            [
             "Woolworths Chocolate Chip Cookies",
             "Woolworths The King Of Chunky Chocolate Chip Cookies"
            ],
            [
             "Woolworths Chocolate Chip Cookies",
             "Woolworths The King Of Chunky Chocolate Chip Cookies"
            ],
            [
             "Woolworths Chocolate Chip Cookies",
             "Woolworths The King Of Chunky Chocolate Chip Cookies"
            ],
            [
             "Kitkat 4 Finger Milk Chocolate Bar",
             "Kitkat Chunky Original Chocolate Bar"
            ],
            [
             "Arnott's Premier Chocolate Chip Cookies",
             "Arnott's Mini Choc Chip Cookie Multipack Biscuits"
            ],
            [
             "Arnott's Premier Chocolate Chip Cookies",
             "Cadbury Choc Centre Cookies"
            ],
            [
             "Arnott's Premier Chocolate Chip Cookies",
             "Arnott's Mini Choc Chip Cookie Multipack Biscuits"
            ],
            [
             "Cadbury Chomp Chocolate Bar",
             "Byron Bay Cookies Dotty Cookie Bites"
            ],
            [
             "Mars Chocolate Bar With Nougat & Caramel",
             "Cadbury Chomp Chocolate Bar"
            ],
            [
             "Cadbury Dairy Milk Caramello Koala Chocolate",
             "Cadbury Chomp Chocolate Bar"
            ],
            [
             "Schweppes Lemon Lime Natural Mineral Water Bottle",
             "Woolworths Multivitamin Juice"
            ],
            [
             "Kitkat 4 Finger Milk Chocolate Bar",
             "Kitkat Chunky Original Chocolate Bar"
            ],
            [
             "Cadbury Classic Choc Chip Cookies",
             "Woolworths Secret Burger Sauce"
            ],
            [
             "Goulburn Valley Two Fruits In Juice",
             "Goulburn Valley Two Fruits In Juice Fruit Cups In Juice"
            ],
            [
             "Golden Circle Drinks Pine Orange Fruit Drink",
             "Golden Circle Drinks Sunshine Punch Fruit Drink"
            ],
            [
             "Golden Circle Drinks Sunshine Punch Fruit Drink",
             "Golden Circle Fruit Drinks Lunch Box Poppers Tropical Punch Multipack"
            ],
            [
             "Schweppes Lemon Lime Natural Mineral Water Bottle",
             "Schweppes Orange Mango Natural Mineral Water Bottle"
            ],
            [
             "Dole Pineapple Slices In Syrup",
             "Dole Pineapple Chunks In Juice"
            ],
            [
             "Goulburn Valley Two Fruits In Juice",
             "Goulburn Valley Two Fruits In Juice Fruit Cups In Juice"
            ],
            [
             "Goulburn Valley Two Fruits In Juice",
             "Goulburn Valley Two Fruits In Juice Fruit Cups In Juice"
            ],
            [
             "Woolworths Two Fruits In Juice Cups",
             "Woolworths Two Fruits In Juice"
            ],
            [
             "Smith's Crinkle Cut Potato Chips Cheese & Onion",
             "Smith's Crinkle Cut Potato Chips Chicken"
            ],
            [
             "Smith's Crinkle Cut Potato Chips Cheese & Onion",
             "Thins Cheese & Onion Chips"
            ],
            [
             "Frantelle Australian Still Spring Water Bottles Multipack",
             "Mount Franklin Spring Water Bottle"
            ],
            [
             "Woolworths Secret Burger Sauce",
             "Woolworths Two Fruits In Tropical Jelly"
            ],
            [
             "Fountain Tomato Sauce Squeeze",
             "Fountain Barbecue Bbq Sauce Squeeze"
            ],
            [
             "Woolworths Barbecue Sauce Squeeze",
             "Woolworths Barbecue Sauce"
            ],
            [
             "Woolworths Barbecue Sauce Squeeze",
             "Woolworths Barbecue Sauce"
            ],
            [
             "Woolworths Barbecue Sauce Squeeze",
             "Woolworths Barbecue Sauce"
            ],
            [
             "Woolworths Barbecue Sauce Squeeze",
             "Masterfoods Tomato Sauce"
            ],
            [
             "Woolworths Tomato Sauce Squeeze",
             "Woolworths Tomato Sauce"
            ],
            [
             "Essentials Coconut Cream",
             "Essentials Coconut Milk"
            ],
            [
             "Woolworths Diced Italian Tomatoes"
            ],
            [
             "Schweppes Lemon Lime Natural Mineral Water Bottle",
             "Schweppes Orange Mango Natural Mineral Water Bottle"
            ],
            [
             "Cadbury Classic Choc Chip Cookies",
             "Cadbury Choc Centre Cookies"
            ],
            [
             "Schweppes Lemon Lime Natural Mineral Water Bottle",
             "Schweppes Orange Mango Natural Mineral Water Bottle"
            ],
            [
             "Indomie Mi Goreng Instant Noodles",
             "Indomie Mi Goreng Noodle Cup"
            ],
            [
             "Indomie Mi Goreng Instant Noodles",
             "Indomie Mi Goreng Noodle Cup"
            ],
            [
             "Indomie Mi Goreng Instant Noodles",
             "Indomie Mi Goreng Noodle Cup"
            ],
            [
             "Indomie Mi Goreng Instant Noodles",
             "Indomie Mi Goreng Noodle Cup"
            ],
            [
             "Indomie Mi Goreng Instant Noodles",
             "Indomie Mi Goreng Noodle Cup"
            ],
            [
             "Indomie Mi Goreng Instant Noodles",
             "Indomie Mi Goreng Noodle Cup"
            ],
            [
             "Indomie Mi Goreng Instant Noodles",
             "Indomie Mi Goreng Noodle Cup"
            ],
            [
             "Indomie Mi Goreng Instant Noodles",
             "Indomie Mi Goreng Noodle Cup"
            ],
            [
             "Indomie Mi Goreng Instant Noodles",
             "Indomie Mi Goreng Noodle Cup"
            ],
            [
             "Indomie Mi Goreng Instant Noodles",
             "Indomie Mi Goreng Noodle Cup"
            ],
            [
             "Indomie Mi Goreng Instant Noodles",
             "Indomie Mi Goreng Noodle Cup"
            ],
            [
             "Indomie Mi Goreng Instant Noodles",
             "Indomie Mi Goreng Noodle Cup"
            ],
            [
             "Indomie Mi Goreng Instant Noodles",
             "Indomie Mi Goreng Noodle Cup"
            ],
            [
             "Indomie Mi Goreng Instant Noodles",
             "Indomie Mi Goreng Noodle Cup"
            ],
            [
             "Indomie Mi Goreng Instant Noodles",
             "Indomie Mi Goreng Noodle Cup"
            ],
            [
             "Indomie Mi Goreng Instant Noodles",
             "Indomie Mi Goreng Noodle Cup"
            ],
            [
             "Indomie Mi Goreng Instant Noodles",
             "Indomie Mi Goreng Noodle Cup"
            ],
            [
             "Schweppes Lime Soda Water With Lime Juice Bottle",
             "Schweppes Lemon Lime Natural Mineral Water Bottle"
            ],
            [
             "Indomie Mi Goreng Instant Noodles",
             "Indomie Mi Goreng Noodle Cup"
            ],
            [
             "Indomie Mi Goreng Instant Noodles",
             "Indomie Mi Goreng Noodle Cup"
            ],
            [
             "Maggi 2 Minute Chicken Flavour Instant Noodles",
             "Oreo Neapolitan Double Stuff Cookies"
            ],
            [
             "Fantastic Chicken Noodle Cup",
             "Fantastic Chicken Noodle Bowl"
            ],
            [
             "Maggi 2 Minute Chicken Flavour Instant Noodles"
            ],
            [
             "Schweppes Lime Soda Water With Lime Juice Bottle",
             "Schweppes Orange Mango Natural Mineral Water Bottle"
            ],
            [
             "Schweppes Indian Tonic Water Classic Mixers Bottle",
             "Schweppes Zero Sugar Classic Mixers Indian Tonic Water Bottle"
            ],
            [
             "Schweppes Indian Tonic Water Classic Mixers Bottle",
             "Schweppes Zero Sugar Classic Mixers Indian Tonic Water Bottle"
            ],
            [
             "Schweppes Indian Tonic Water Classic Mixers Bottle",
             "Schweppes Zero Sugar Classic Mixers Indian Tonic Water Bottle"
            ],
            [
             "Schweppes Indian Tonic Water Classic Mixers Bottle",
             "Schweppes Zero Sugar Classic Mixers Indian Tonic Water Bottle"
            ],
            [
             "Schweppes Zero Sugar Lime Infused Mineral Water Bottle",
             "Schweppes Raspberry Infused Natural Mineral Water Bottle"
            ],
            [
             "Fantastic Chicken Noodle Bowl",
             "Supreme Noodles Cup Beef Flavour"
            ],
            [
             "Schweppes Indian Tonic Water Classic Mixers Bottle",
             "Schweppes Zero Sugar Classic Mixers Indian Tonic Water Bottle"
            ],
            [
             "Supreme Noodles Cup Chicken Flavour",
             "Fantastic Chicken Noodle Cup"
            ],
            [
             "Maggi 2 Minute Chicken Flavour Instant Noodles"
            ],
            [
             "Maggi 2 Minute Chicken Flavour Instant Noodles",
             "Cadbury Classic Choc Chip Cookies"
            ],
            [
             "Maggi 2 Minute Chicken Flavour Instant Noodles"
            ],
            [
             "Maggi 2 Minute Chicken Flavour Instant Noodles"
            ],
            [
             "Maggi 2 Minute Chicken Flavour Instant Noodles"
            ],
            [
             "Maggi 2 Minute Chicken Flavour Instant Noodles"
            ],
            [
             "Maggi 2 Minute Chicken Flavour Instant Noodles",
             "Maggi 2 Minute Beef Flavour Instant Noodles"
            ],
            [
             "Essentials Coconut Cream"
            ],
            [
             "Woolworths Uht Full Cream Milk"
            ],
            [
             "Deep Cove Sardines In Oil"
            ],
            [
             "Woolworths Creamed Rice"
            ],
            [
             "Woolworths Creamed Rice"
            ],
            [
             "Woolworths Creamed Rice"
            ],
            [
             "Essentials Coconut Milk"
            ],
            [
             "Masterfoods Barbecue Sauce"
            ],
            [
             "Woolworths Barbecue Sauce Squeeze"
            ],
            [
             "Woolworths Barbecue Sauce Squeeze"
            ],
            [
             "Masterfoods Barbecue Sauce"
            ],
            [
             "Masterfoods Barbecue Sauce"
            ],
            [
             "Masterfoods Barbecue Sauce"
            ],
            [
             "Masterfoods Barbecue Sauce"
            ],
            [
             "Masterfoods Barbecue Sauce"
            ],
            [
             "Fountain Tomato Sauce Squeeze"
            ],
            [
             "Woolworths Lasagne Sheets"
            ],
            [
             "Woolworths Multivitamin Juice"
            ],
            [
             "Oreo Grab & Go Original Cookies 9 Pack"
            ],
            [
             "Oreo Grab & Go Original Cookies 9 Pack"
            ],
            [
             "Fountain Barbecue Bbq Sauce Squeeze"
            ],
            [
             "Rimmel Scandaleyes Eye Definer Brown"
            ],
            [
             "Rimmel Scandaleyes Eye Definer Brown"
            ],
            [
             "Rimmel Scandaleyes Eye Definer Brown"
            ],
            [
             "Woolworths Apple Juice"
            ],
            [
             "Woolworths Breakfast Juice"
            ],
            [
             "Woolworths Apple & Blackcurrant Juice"
            ],
            [
             "Woolworths Apple & Blackcurrant Juice"
            ],
            [
             "Woolworths Multivitamin Juice"
            ],
            [
             "Woolworths Multivitamin Juice"
            ],
            [
             "Woolworths Multivitamin Juice"
            ],
            [
             "Woolworths Multivitamin Juice"
            ],
            [
             "Golden Circle Drinks Sunshine Punch Fruit Drink"
            ],
            [
             "Norco Full Cream Milk"
            ],
            [
             "Pauls Farmhouse Gold Full Cream Milk"
            ],
            [
             "Fountain Barbecue Bbq Sauce Squeeze"
            ],
            [
             "Smith's Crinkle Cut Potato Chips Salt & Vinegar"
            ],
            [
             "Fountain Barbecue Bbq Sauce Squeeze"
            ],
            [
             "Thins Chips Light & Tangy"
            ],
            [
             "Thins Chips Light & Tangy"
            ],
            [
             "Thins Cheese & Onion Chips"
            ],
            [
             "Thins Cheese & Onion Chips"
            ],
            [
             "Woolworths Peach In Strawberry Jelly"
            ],
            [
             "Woolworths Peach In Strawberry Jelly"
            ],
            [
             "Woolworths Two Fruits In Juice"
            ],
            [
             "Woolworths Two Fruits In Juice"
            ],
            [
             "Woolworths Two Fruits In Juice"
            ],
            [
             "Woolworths Two Fruits In Juice"
            ],
            [
             "Woolworths Two Fruits In Tropical Jelly"
            ],
            [
             "Woolworths Two Fruits In Tropical Jelly"
            ],
            [
             "Woolworths Apple In Pineapple Jelly"
            ],
            [
             "Woolworths Apple In Pineapple Jelly"
            ],
            [
             "Dole Pineapple Slices In Syrup"
            ],
            [
             "Dole Pineapple Chunks In Juice"
            ],
            [
             "Thins Chips Light & Tangy"
            ],
            [
             "Rimmel Scandaleyes Eye Definer Brown"
            ],
            [
             "Woolworths Secret Burger Sauce"
            ],
            [
             "Thins Chips Chicken"
            ],
            [
             "Woolworths Secret Burger Sauce"
            ],
            [
             "Woolworths Secret Burger Sauce"
            ],
            [
             "Woolworths Secret Burger Sauce"
            ],
            [
             "Woolworths Secret Burger Sauce"
            ],
            [
             "Woolworths Secret Burger Sauce"
            ],
            [
             "Woolworths Secret Burger Sauce"
            ],
            [
             "Woolworths Secret Burger Sauce"
            ],
            [
             "Heinz Ketchup Tomato Sauce Ketchup"
            ],
            [
             "Woolworths Barbecue Sauce"
            ],
            [
             "Woolworths Barbecue Sauce"
            ],
            [
             "Smith's Crinkle Cut Potato Chips Barbecue"
            ],
            [
             "Smith's Crinkle Cut Potato Chips Barbecue"
            ],
            [
             "Smith's Crinkle Cut Potato Chips Chicken"
            ],
            [
             "Smith's Crinkle Cut Potato Chips Chicken"
            ],
            [
             "Thins Chips Chicken"
            ],
            [
             "Rimmel Scandaleyes Eye Definer Brown"
            ],
            [
             "Byron Bay Cookies Dotty Cookie Bites"
            ],
            [
             "Rimmel Scandaleyes Eye Definer Brown"
            ],
            [
             "Schweppes Lime Soda Water With Lime Juice Bottle"
            ],
            [
             "Schweppes Lemon Lime Natural Mineral Water Bottle"
            ],
            [
             "Schweppes Orange Mango Natural Mineral Water Bottle"
            ],
            [
             "Schweppes Orange Mango Natural Mineral Water Bottle"
            ],
            [
             "Schweppes Orange Mango Natural Mineral Water Bottle"
            ],
            [
             "Schweppes Orange Mango Natural Mineral Water Bottle"
            ],
            [
             "Kitkat 4 Finger Milk Chocolate Bar"
            ],
            [
             "Kitkat Chunky Original Chocolate Bar"
            ],
            [
             "Cadbury Dairy Milk Caramello Koala Chocolate"
            ],
            [
             "Cadbury Dairy Milk Caramello Koala Chocolate"
            ],
            [
             "Cadbury Dairy Milk Caramello Koala Chocolate"
            ],
            [
             "Twix Milk Chocolate Bar With Caramel Biscuit"
            ],
            [
             "Twix Milk Chocolate Bar With Caramel Biscuit"
            ],
            [
             "Twix Milk Chocolate Bar With Caramel Biscuit"
            ],
            [
             "Mars Chocolate Bar With Nougat & Caramel"
            ],
            [
             "Mars Chocolate Bar With Nougat & Caramel"
            ],
            [
             "Schweppes Lemon Lime Natural Mineral Water Bottle"
            ],
            [
             "Schweppes Lime Soda Water With Lime Juice Bottle"
            ],
            [
             "Cadbury Chomp Chocolate Bar"
            ],
            [
             "Schweppes Lime Soda Water With Lime Juice Bottle"
            ],
            [
             "Coca - Cola Caffeine Free Zero Sugar Soft Drink Multipack Cans"
            ],
            [
             "Maggi 2 Minute Chicken Flavour Instant Noodles"
            ],
            [
             "Maggi 2 Minute Chicken Flavour Instant Noodles"
            ],
            [
             "Fantastic Chicken Noodle Cup"
            ],
            [
             "Fantastic Chicken Noodle Cup"
            ],
            [
             "Fantastic Chicken Noodle Bowl"
            ],
            [
             "Fantastic Chicken Noodle Bowl"
            ],
            [
             "Fantastic Chicken Noodle Bowl"
            ],
            [
             "Maggi 2 Minute Beef Flavour Instant Noodles"
            ],
            [
             "Maggi 2 Minute Beef Flavour Instant Noodles"
            ],
            [
             "Maggi 2 Minute Beef Flavour Instant Noodles"
            ],
            [
             "Supreme Noodles Cup Beef Flavour"
            ],
            [
             "Supreme Noodles Cup Beef Flavour"
            ],
            [
             "Schweppes Natural Mineral Water Bottle Natural"
            ],
            [
             "Schweppes Soda Water Bottle Classic Mixers"
            ],
            [
             "Mars Chocolate Bar With Nougat & Caramel"
            ],
            [
             "Cadbury Chomp Chocolate Bar"
            ],
            [
             "Rimmel Scandaleyes Eye Definer Brown"
            ],
            [
             "Byron Bay Cookies Dotty Cookie Bites"
            ],
            [
             "Byron Bay Cookies Dotty Cookie Bites"
            ],
            [
             "Byron Bay Cookies Dotty Cookie Bites"
            ],
            [
             "Byron Bay Cookies Dotty Cookie Bites"
            ],
            [
             "Byron Bay Cookies Dotty Cookie Bites"
            ],
            [
             "Byron Bay Cookies Dotty Cookie Bites"
            ],
            [
             "Rimmel Scandaleyes Eye Definer Brown"
            ],
            [
             "Rimmel Scandaleyes Eye Definer Brown"
            ],
            [
             "Rimmel Scandaleyes Eye Definer Brown"
            ],
            [
             "Rimmel Scandaleyes Eye Definer Brown"
            ],
            [
             "Rimmel Scandaleyes Eye Definer Brown"
            ],
            [
             "Rimmel Scandaleyes Eye Definer Brown"
            ],
            [
             "Rimmel Scandaleyes Eye Definer Brown"
            ],
            [
             "Rimmel Scandaleyes Eye Definer Brown"
            ],
            [
             "Rimmel Scandaleyes Eye Definer Brown"
            ],
            [
             "Rimmel Scandaleyes Eye Definer Brown"
            ],
            [
             "Byron Bay Cookies Dotty Cookie Bites"
            ],
            [
             "Byron Bay Cookies Dotty Cookie Bites"
            ],
            [
             "Arnott's Premier Chocolate Chip Cookies"
            ],
            [
             "Byron Bay Cookies Dotty Cookie Bites"
            ],
            [
             "Arnott's Premier Chocolate Chip Cookies"
            ],
            [
             "Woolworths Chocolate Chip Cookies"
            ],
            [
             "Woolworths Chocolate Chip Cookies"
            ],
            [
             "Woolworths Chocolate Chip Cookies"
            ],
            [
             "Woolworths Chocolate Chip Cookies"
            ],
            [
             "Woolworths Chocolate Chip Cookies"
            ],
            [
             "Woolworths The King Of Chunky Chocolate Chip Cookies"
            ],
            [
             "Woolworths The King Of Chunky Chocolate Chip Cookies"
            ],
            [
             "Woolworths The King Of Chunky Chocolate Chip Cookies"
            ],
            [
             "Arnott's Mini Choc Chip Cookie Multipack Biscuits"
            ],
            [
             "Arnott's Mini Choc Chip Cookie Multipack Biscuits"
            ],
            [
             "Oreo Minis Cookies Variety Bags 18 Pack"
            ],
            [
             "Cadbury Classic Choc Chip Cookies"
            ],
            [
             "Cadbury Choc Centre Cookies"
            ],
            [
             "Cadbury Choc Centre Cookies"
            ],
            [
             "Dole Pineapple Chunks In Juice"
            ]
           ],
           [
            0.3188405797101449,
            0.24154589371980675,
            0.14009661835748793,
            0.13043478260869565,
            0.12077294685990338,
            0.10628019323671498,
            0.09178743961352658,
            0.08695652173913043,
            0.07729468599033816,
            0.07729468599033816,
            0.06763285024154589,
            0.06763285024154589,
            0.06280193236714976,
            0.057971014492753624,
            0.057971014492753624,
            0.057971014492753624,
            0.057971014492753624,
            0.057971014492753624,
            0.057971014492753624,
            0.057971014492753624,
            0.05314009661835749,
            0.05314009661835749,
            0.05314009661835749,
            0.04830917874396135,
            0.04830917874396135,
            0.04830917874396135,
            0.04830917874396135,
            0.04830917874396135,
            0.04830917874396135,
            0.04830917874396135,
            0.043478260869565216,
            0.043478260869565216,
            0.043478260869565216,
            0.043478260869565216,
            0.03864734299516908,
            0.03864734299516908,
            0.03864734299516908,
            0.03864734299516908,
            0.03864734299516908,
            0.03864734299516908,
            0.033816425120772944,
            0.033816425120772944,
            0.033816425120772944,
            0.033816425120772944,
            0.033816425120772944,
            0.033816425120772944,
            0.033816425120772944,
            0.028985507246376812,
            0.028985507246376812,
            0.028985507246376812,
            0.028985507246376812,
            0.028985507246376812,
            0.024154589371980676,
            0.024154589371980676,
            0.024154589371980676,
            0.024154589371980676,
            0.024154589371980676,
            0.024154589371980676,
            0.024154589371980676,
            0.024154589371980676,
            0.024154589371980676,
            0.024154589371980676,
            0.01932367149758454,
            0.01932367149758454,
            0.01932367149758454,
            0.01932367149758454,
            0.01932367149758454,
            0.01932367149758454,
            0.01932367149758454,
            0.01932367149758454,
            0.01932367149758454,
            0.01932367149758454,
            0.01932367149758454,
            0.01932367149758454,
            0.01932367149758454,
            0.01932367149758454,
            0.01932367149758454,
            0.01932367149758454,
            0.014492753623188406,
            0.014492753623188406,
            0.014492753623188406,
            0.014492753623188406,
            0.014492753623188406,
            0.014492753623188406,
            0.014492753623188406,
            0.014492753623188406,
            0.014492753623188406,
            0.014492753623188406,
            0.014492753623188406,
            0.014492753623188406,
            0.014492753623188406,
            0.014492753623188406,
            0.014492753623188406,
            0.014492753623188406,
            0.014492753623188406,
            0.014492753623188406,
            0.014492753623188406,
            0.014492753623188406,
            0.014492753623188406,
            0.014492753623188406,
            0.014492753623188406,
            0.014492753623188406,
            0.014492753623188406,
            0.014492753623188406,
            0.014492753623188406,
            0.014492753623188406,
            0.014492753623188406,
            0.014492753623188406,
            0.00966183574879227,
            0.00966183574879227,
            0.00966183574879227,
            0.00966183574879227,
            0.00966183574879227,
            0.00966183574879227,
            0.00966183574879227,
            0.00966183574879227,
            0.00966183574879227,
            0.00966183574879227,
            0.00966183574879227,
            0.00966183574879227,
            0.00966183574879227,
            0.00966183574879227,
            0.00966183574879227,
            0.00966183574879227,
            0.00966183574879227,
            0.00966183574879227,
            0.00966183574879227,
            0.00966183574879227,
            0.00966183574879227,
            0.00966183574879227,
            0.00966183574879227,
            0.00966183574879227,
            0.00966183574879227,
            0.00966183574879227,
            0.00966183574879227,
            0.00966183574879227,
            0.00966183574879227,
            0.00966183574879227,
            0.00966183574879227,
            0.00966183574879227,
            0.00966183574879227,
            0.00966183574879227,
            0.00966183574879227,
            0.00966183574879227,
            0.00966183574879227,
            0.00966183574879227,
            0.00966183574879227,
            0.00966183574879227,
            0.00966183574879227,
            0.00966183574879227,
            0.00966183574879227,
            0.00966183574879227,
            0.00966183574879227,
            0.00966183574879227,
            0.00966183574879227,
            0.00966183574879227,
            0.00966183574879227,
            0.00966183574879227,
            0.00966183574879227,
            0.00966183574879227,
            0.00966183574879227,
            0.00966183574879227,
            0.00966183574879227,
            0.00966183574879227,
            0.00966183574879227,
            0.00966183574879227,
            0.00966183574879227,
            0.00966183574879227,
            0.00966183574879227,
            0.00966183574879227,
            0.00966183574879227,
            0.00966183574879227,
            0.00966183574879227,
            0.00966183574879227,
            0.00966183574879227,
            0.00966183574879227,
            0.00966183574879227,
            0.00966183574879227,
            0.00966183574879227,
            0.00966183574879227,
            0.00966183574879227,
            0.00966183574879227,
            0.00966183574879227,
            0.00966183574879227,
            0.00966183574879227,
            0.00966183574879227,
            0.00966183574879227,
            0.00966183574879227,
            0.00966183574879227,
            0.004830917874396135,
            0.004830917874396135,
            0.004830917874396135,
            0.004830917874396135,
            0.004830917874396135,
            0.004830917874396135,
            0.004830917874396135,
            0.004830917874396135,
            0.004830917874396135,
            0.004830917874396135,
            0.004830917874396135,
            0.004830917874396135,
            0.004830917874396135,
            0.004830917874396135,
            0.004830917874396135,
            0.004830917874396135,
            0.004830917874396135,
            0.004830917874396135,
            0.004830917874396135,
            0.004830917874396135,
            0.004830917874396135,
            0.004830917874396135,
            0.004830917874396135,
            0.004830917874396135,
            0.004830917874396135,
            0.004830917874396135,
            0.004830917874396135,
            0.004830917874396135,
            0.004830917874396135,
            0.004830917874396135,
            0.004830917874396135,
            0.004830917874396135,
            0.004830917874396135,
            0.004830917874396135,
            0.004830917874396135,
            0.004830917874396135,
            0.004830917874396135,
            0.004830917874396135,
            0.004830917874396135,
            0.004830917874396135,
            0.004830917874396135,
            0.004830917874396135,
            0.004830917874396135,
            0.004830917874396135,
            0.004830917874396135,
            0.004830917874396135,
            0.004830917874396135,
            0.004830917874396135,
            0.004830917874396135,
            0.004830917874396135,
            0.004830917874396135,
            0.004830917874396135,
            0.004830917874396135,
            0.004830917874396135,
            0.004830917874396135,
            0.004830917874396135,
            0.004830917874396135,
            0.004830917874396135,
            0.004830917874396135,
            0.004830917874396135,
            0.004830917874396135,
            0.004830917874396135,
            0.004830917874396135,
            0.004830917874396135,
            0.004830917874396135,
            0.004830917874396135,
            0.004830917874396135,
            0.004830917874396135,
            0.004830917874396135,
            0.004830917874396135,
            0.004830917874396135,
            0.004830917874396135,
            0.004830917874396135,
            0.004830917874396135,
            0.004830917874396135,
            0.004830917874396135,
            0.004830917874396135,
            0.004830917874396135,
            0.004830917874396135,
            0.004830917874396135,
            0.004830917874396135,
            0.004830917874396135,
            0.004830917874396135,
            0.004830917874396135,
            0.004830917874396135,
            0.004830917874396135,
            0.004830917874396135,
            0.004830917874396135,
            0.004830917874396135,
            0.004830917874396135,
            0.004830917874396135,
            0.004830917874396135,
            0.004830917874396135,
            0.004830917874396135,
            0.004830917874396135,
            0.004830917874396135,
            0.004830917874396135,
            0.004830917874396135,
            0.004830917874396135,
            0.004830917874396135,
            0.004830917874396135,
            0.004830917874396135,
            0.004830917874396135,
            0.004830917874396135,
            0.004830917874396135,
            0.004830917874396135,
            0.004830917874396135,
            0.004830917874396135,
            0.004830917874396135,
            0.004830917874396135,
            0.004830917874396135,
            0.004830917874396135,
            0.004830917874396135,
            0.004830917874396135,
            0.004830917874396135,
            0.004830917874396135,
            0.004830917874396135,
            0.004830917874396135,
            0.004830917874396135,
            0.004830917874396135,
            0.004830917874396135,
            0.004830917874396135,
            0.004830917874396135,
            0.004830917874396135,
            0.004830917874396135,
            0.004830917874396135,
            0.004830917874396135,
            0.004830917874396135,
            0.004830917874396135,
            0.004830917874396135,
            0.004830917874396135,
            0.004830917874396135,
            0.004830917874396135,
            0.004830917874396135,
            0.004830917874396135,
            0.004830917874396135,
            0.004830917874396135,
            0.004830917874396135,
            0.004830917874396135,
            0.004830917874396135,
            0.004830917874396135,
            0.004830917874396135,
            0.004830917874396135,
            0.004830917874396135,
            0.004830917874396135,
            0.004830917874396135,
            0.004830917874396135,
            0.004830917874396135,
            0.004830917874396135,
            0.004830917874396135
           ],
           [
            "Group 264",
            "Group 237",
            "Group 288",
            "Group 298",
            "Group 97",
            "Group 94",
            "Group 55",
            "Group 295",
            "Group 100",
            "Group 55",
            "Group 43",
            "Group 272",
            "Group 157",
            "Group 60",
            "Group 22",
            "Group 61",
            "Group 247",
            "Group 146",
            "Group 168",
            "Group 176",
            "Group 68",
            "Group 101",
            "Group 62",
            "Group 104",
            "Group 202",
            "Group 294",
            "Group 8",
            "Group 287",
            "Group 307",
            "Group 188",
            "Group 34",
            "Group 198",
            "Group 74",
            "Group 107",
            "Group 308",
            "Group 275",
            "Group 233",
            "Group 140",
            "Group 148",
            "Group 195",
            "Group 296",
            "Group 138",
            "Group 211",
            "Group 113",
            "Group 111",
            "Group 207",
            "Group 36",
            "Group 175",
            "Group 266",
            "Group 249",
            "Group 2",
            "Group 23",
            "Group 112",
            "Group 147",
            "Group 284",
            "Group 212",
            "Group 216",
            "Group 251",
            "Group 55",
            "Group 253",
            "Group 14",
            "Group 261",
            "Group 83",
            "Group 184",
            "Group 17",
            "Group 18",
            "Group 3",
            "Group 278",
            "Group 215",
            "Group 170",
            "Group 223",
            "Group 151",
            "Group 152",
            "Group 181",
            "Group 122",
            "Group 125",
            "Group 187",
            "Group 115",
            "Group 49",
            "Group 259",
            "Group 155",
            "Group 3",
            "Group 55",
            "Group 250",
            "Group 249",
            "Group 132",
            "Group 305",
            "Group 206",
            "Group 199",
            "Group 35",
            "Group 137",
            "Group 199",
            "Group 48",
            "Group 141",
            "Group 105",
            "Group 172",
            "Group 87",
            "Group 12",
            "Group 153",
            "Group 150",
            "Group 106",
            "Group 88",
            "Group 285",
            "Group 78",
            "Group 13",
            "Group 246",
            "Group 306",
            "Group 119",
            "Group 16",
            "Group 256",
            "Group 90",
            "Group 92",
            "Group 143",
            "Group 45",
            "Group 9",
            "Group 248",
            "Group 177",
            "Group 247",
            "Group 25",
            "Group 300",
            "Group 82",
            "Group 252",
            "Group 299",
            "Group 268",
            "Group 221",
            "Group 59",
            "Group 277",
            "Group 227",
            "Group 185",
            "Group 214",
            "Group 1",
            "Group 189",
            "Group 84",
            "Group 85",
            "Group 224",
            "Group 103",
            "Group 50",
            "Group 24",
            "Group 180",
            "Group 3",
            "Group 305",
            "Group 245",
            "Group 40",
            "Group 281",
            "Group 225",
            "Group 64",
            "Group 280",
            "Group 200",
            "Group 69",
            "Group 42",
            "Group 109",
            "Group 55",
            "Group 3",
            "Group 274",
            "Group 51",
            "Group 52",
            "Group 241",
            "Group 254",
            "Group 267",
            "Group 239",
            "Group 21",
            "Group 240",
            "Group 65",
            "Group 122",
            "Group 247",
            "Group 7",
            "Group 232",
            "Group 222",
            "Group 203",
            "Group 6",
            "Group 128",
            "Group 81",
            "Group 73",
            "Group 265",
            "Group 161",
            "Group 158",
            "Group 160",
            "Group 164",
            "Group 42",
            "Group 27",
            "Group 205",
            "Group 120",
            "Group 77",
            "Group 201",
            "Group 98",
            "Group 260",
            "Group 258",
            "Group 257",
            "Group 32",
            "Group 122",
            "Group 126",
            "Group 238",
            "Group 234",
            "Group 243",
            "Group 5",
            "Group 122",
            "Group 39",
            "Group 218",
            "Group 20",
            "Group 297",
            "Group 185",
            "Group 273",
            "Group 57",
            "Group 173",
            "Group 283",
            "Group 89",
            "Group 208",
            "Group 271",
            "Group 110",
            "Group 134",
            "Group 96",
            "Group 1",
            "Group 45",
            "Group 207",
            "Group 44",
            "Group 209",
            "Group 11",
            "Group 210",
            "Group 213",
            "Group 123",
            "Group 293",
            "Group 217",
            "Group 183",
            "Group 75",
            "Group 136",
            "Group 145",
            "Group 305",
            "Group 290",
            "Group 33",
            "Group 131",
            "Group 179",
            "Group 171",
            "Group 58",
            "Group 228",
            "Group 229",
            "Group 230",
            "Group 231",
            "Group 165",
            "Group 163",
            "Group 130",
            "Group 19",
            "Group 55",
            "Group 190",
            "Group 114",
            "Group 129",
            "Group 292",
            "Group 289",
            "Group 305",
            "Group 108",
            "Group 116",
            "Group 200",
            "Group 86",
            "Group 124",
            "Group 156",
            "Group 303",
            "Group 219",
            "Group 220",
            "Group 282",
            "Group 178",
            "Group 99",
            "Group 285",
            "Group 118",
            "Group 279",
            "Group 47",
            "Group 286",
            "Group 191",
            "Group 236",
            "Group 22",
            "Group 46",
            "Group 133",
            "Group 15",
            "Group 204",
            "Group 53",
            "Group 121",
            "Group 127",
            "Group 4",
            "Group 142",
            "Group 37",
            "Group 30",
            "Group 26",
            "Group 91",
            "Group 249",
            "Group 192",
            "Group 93",
            "Group 162",
            "Group 269",
            "Group 182",
            "Group 41",
            "Group 102",
            "Group 291",
            "Group 154",
            "Group 149",
            "Group 66",
            "Group 255",
            "Group 302",
            "Group 235",
            "Group 67",
            "Group 38",
            "Group 169",
            "Group 197",
            "Group 167",
            "Group 95",
            "Group 139",
            "Group 72",
            "Group 28",
            "Group 226",
            "Group 31",
            "Group 76",
            "Group 135",
            "Group 1",
            "Group 194",
            "Group 270",
            "Group 1",
            "Group 29",
            "Group 1",
            "Group 193",
            "Group 242",
            "Group 174",
            "Group 186",
            "Group 71",
            "Group 117",
            "Group 196",
            "Group 144",
            "Group 70",
            "Group 80",
            "Group 63",
            "Group 301",
            "Group 304",
            "Group 10",
            "Group 79",
            "Group 166",
            "Group 159",
            "Group 54",
            "Group 244",
            "Group 263",
            "Group 262",
            "Group 55",
            "Group 276",
            "Group 56"
           ]
          ]
         },
         "header": {
          "values": [
           "HighFrequencyIngredientResearch",
           "Product Count",
           "Products",
           "Frequency Ratio",
           "Group"
          ]
         },
         "type": "table"
        }
       ],
       "layout": {
        "template": {
         "data": {
          "bar": [
           {
            "error_x": {
             "color": "#2a3f5f"
            },
            "error_y": {
             "color": "#2a3f5f"
            },
            "marker": {
             "line": {
              "color": "#E5ECF6",
              "width": 0.5
             },
             "pattern": {
              "fillmode": "overlay",
              "size": 10,
              "solidity": 0.2
             }
            },
            "type": "bar"
           }
          ],
          "barpolar": [
           {
            "marker": {
             "line": {
              "color": "#E5ECF6",
              "width": 0.5
             },
             "pattern": {
              "fillmode": "overlay",
              "size": 10,
              "solidity": 0.2
             }
            },
            "type": "barpolar"
           }
          ],
          "carpet": [
           {
            "aaxis": {
             "endlinecolor": "#2a3f5f",
             "gridcolor": "white",
             "linecolor": "white",
             "minorgridcolor": "white",
             "startlinecolor": "#2a3f5f"
            },
            "baxis": {
             "endlinecolor": "#2a3f5f",
             "gridcolor": "white",
             "linecolor": "white",
             "minorgridcolor": "white",
             "startlinecolor": "#2a3f5f"
            },
            "type": "carpet"
           }
          ],
          "choropleth": [
           {
            "colorbar": {
             "outlinewidth": 0,
             "ticks": ""
            },
            "type": "choropleth"
           }
          ],
          "contour": [
           {
            "colorbar": {
             "outlinewidth": 0,
             "ticks": ""
            },
            "colorscale": [
             [
              0,
              "#0d0887"
             ],
             [
              0.1111111111111111,
              "#46039f"
             ],
             [
              0.2222222222222222,
              "#7201a8"
             ],
             [
              0.3333333333333333,
              "#9c179e"
             ],
             [
              0.4444444444444444,
              "#bd3786"
             ],
             [
              0.5555555555555556,
              "#d8576b"
             ],
             [
              0.6666666666666666,
              "#ed7953"
             ],
             [
              0.7777777777777778,
              "#fb9f3a"
             ],
             [
              0.8888888888888888,
              "#fdca26"
             ],
             [
              1,
              "#f0f921"
             ]
            ],
            "type": "contour"
           }
          ],
          "contourcarpet": [
           {
            "colorbar": {
             "outlinewidth": 0,
             "ticks": ""
            },
            "type": "contourcarpet"
           }
          ],
          "heatmap": [
           {
            "colorbar": {
             "outlinewidth": 0,
             "ticks": ""
            },
            "colorscale": [
             [
              0,
              "#0d0887"
             ],
             [
              0.1111111111111111,
              "#46039f"
             ],
             [
              0.2222222222222222,
              "#7201a8"
             ],
             [
              0.3333333333333333,
              "#9c179e"
             ],
             [
              0.4444444444444444,
              "#bd3786"
             ],
             [
              0.5555555555555556,
              "#d8576b"
             ],
             [
              0.6666666666666666,
              "#ed7953"
             ],
             [
              0.7777777777777778,
              "#fb9f3a"
             ],
             [
              0.8888888888888888,
              "#fdca26"
             ],
             [
              1,
              "#f0f921"
             ]
            ],
            "type": "heatmap"
           }
          ],
          "heatmapgl": [
           {
            "colorbar": {
             "outlinewidth": 0,
             "ticks": ""
            },
            "colorscale": [
             [
              0,
              "#0d0887"
             ],
             [
              0.1111111111111111,
              "#46039f"
             ],
             [
              0.2222222222222222,
              "#7201a8"
             ],
             [
              0.3333333333333333,
              "#9c179e"
             ],
             [
              0.4444444444444444,
              "#bd3786"
             ],
             [
              0.5555555555555556,
              "#d8576b"
             ],
             [
              0.6666666666666666,
              "#ed7953"
             ],
             [
              0.7777777777777778,
              "#fb9f3a"
             ],
             [
              0.8888888888888888,
              "#fdca26"
             ],
             [
              1,
              "#f0f921"
             ]
            ],
            "type": "heatmapgl"
           }
          ],
          "histogram": [
           {
            "marker": {
             "pattern": {
              "fillmode": "overlay",
              "size": 10,
              "solidity": 0.2
             }
            },
            "type": "histogram"
           }
          ],
          "histogram2d": [
           {
            "colorbar": {
             "outlinewidth": 0,
             "ticks": ""
            },
            "colorscale": [
             [
              0,
              "#0d0887"
             ],
             [
              0.1111111111111111,
              "#46039f"
             ],
             [
              0.2222222222222222,
              "#7201a8"
             ],
             [
              0.3333333333333333,
              "#9c179e"
             ],
             [
              0.4444444444444444,
              "#bd3786"
             ],
             [
              0.5555555555555556,
              "#d8576b"
             ],
             [
              0.6666666666666666,
              "#ed7953"
             ],
             [
              0.7777777777777778,
              "#fb9f3a"
             ],
             [
              0.8888888888888888,
              "#fdca26"
             ],
             [
              1,
              "#f0f921"
             ]
            ],
            "type": "histogram2d"
           }
          ],
          "histogram2dcontour": [
           {
            "colorbar": {
             "outlinewidth": 0,
             "ticks": ""
            },
            "colorscale": [
             [
              0,
              "#0d0887"
             ],
             [
              0.1111111111111111,
              "#46039f"
             ],
             [
              0.2222222222222222,
              "#7201a8"
             ],
             [
              0.3333333333333333,
              "#9c179e"
             ],
             [
              0.4444444444444444,
              "#bd3786"
             ],
             [
              0.5555555555555556,
              "#d8576b"
             ],
             [
              0.6666666666666666,
              "#ed7953"
             ],
             [
              0.7777777777777778,
              "#fb9f3a"
             ],
             [
              0.8888888888888888,
              "#fdca26"
             ],
             [
              1,
              "#f0f921"
             ]
            ],
            "type": "histogram2dcontour"
           }
          ],
          "mesh3d": [
           {
            "colorbar": {
             "outlinewidth": 0,
             "ticks": ""
            },
            "type": "mesh3d"
           }
          ],
          "parcoords": [
           {
            "line": {
             "colorbar": {
              "outlinewidth": 0,
              "ticks": ""
             }
            },
            "type": "parcoords"
           }
          ],
          "pie": [
           {
            "automargin": true,
            "type": "pie"
           }
          ],
          "scatter": [
           {
            "fillpattern": {
             "fillmode": "overlay",
             "size": 10,
             "solidity": 0.2
            },
            "type": "scatter"
           }
          ],
          "scatter3d": [
           {
            "line": {
             "colorbar": {
              "outlinewidth": 0,
              "ticks": ""
             }
            },
            "marker": {
             "colorbar": {
              "outlinewidth": 0,
              "ticks": ""
             }
            },
            "type": "scatter3d"
           }
          ],
          "scattercarpet": [
           {
            "marker": {
             "colorbar": {
              "outlinewidth": 0,
              "ticks": ""
             }
            },
            "type": "scattercarpet"
           }
          ],
          "scattergeo": [
           {
            "marker": {
             "colorbar": {
              "outlinewidth": 0,
              "ticks": ""
             }
            },
            "type": "scattergeo"
           }
          ],
          "scattergl": [
           {
            "marker": {
             "colorbar": {
              "outlinewidth": 0,
              "ticks": ""
             }
            },
            "type": "scattergl"
           }
          ],
          "scattermapbox": [
           {
            "marker": {
             "colorbar": {
              "outlinewidth": 0,
              "ticks": ""
             }
            },
            "type": "scattermapbox"
           }
          ],
          "scatterpolar": [
           {
            "marker": {
             "colorbar": {
              "outlinewidth": 0,
              "ticks": ""
             }
            },
            "type": "scatterpolar"
           }
          ],
          "scatterpolargl": [
           {
            "marker": {
             "colorbar": {
              "outlinewidth": 0,
              "ticks": ""
             }
            },
            "type": "scatterpolargl"
           }
          ],
          "scatterternary": [
           {
            "marker": {
             "colorbar": {
              "outlinewidth": 0,
              "ticks": ""
             }
            },
            "type": "scatterternary"
           }
          ],
          "surface": [
           {
            "colorbar": {
             "outlinewidth": 0,
             "ticks": ""
            },
            "colorscale": [
             [
              0,
              "#0d0887"
             ],
             [
              0.1111111111111111,
              "#46039f"
             ],
             [
              0.2222222222222222,
              "#7201a8"
             ],
             [
              0.3333333333333333,
              "#9c179e"
             ],
             [
              0.4444444444444444,
              "#bd3786"
             ],
             [
              0.5555555555555556,
              "#d8576b"
             ],
             [
              0.6666666666666666,
              "#ed7953"
             ],
             [
              0.7777777777777778,
              "#fb9f3a"
             ],
             [
              0.8888888888888888,
              "#fdca26"
             ],
             [
              1,
              "#f0f921"
             ]
            ],
            "type": "surface"
           }
          ],
          "table": [
           {
            "cells": {
             "fill": {
              "color": "#EBF0F8"
             },
             "line": {
              "color": "white"
             }
            },
            "header": {
             "fill": {
              "color": "#C8D4E3"
             },
             "line": {
              "color": "white"
             }
            },
            "type": "table"
           }
          ]
         },
         "layout": {
          "annotationdefaults": {
           "arrowcolor": "#2a3f5f",
           "arrowhead": 0,
           "arrowwidth": 1
          },
          "autotypenumbers": "strict",
          "coloraxis": {
           "colorbar": {
            "outlinewidth": 0,
            "ticks": ""
           }
          },
          "colorscale": {
           "diverging": [
            [
             0,
             "#8e0152"
            ],
            [
             0.1,
             "#c51b7d"
            ],
            [
             0.2,
             "#de77ae"
            ],
            [
             0.3,
             "#f1b6da"
            ],
            [
             0.4,
             "#fde0ef"
            ],
            [
             0.5,
             "#f7f7f7"
            ],
            [
             0.6,
             "#e6f5d0"
            ],
            [
             0.7,
             "#b8e186"
            ],
            [
             0.8,
             "#7fbc41"
            ],
            [
             0.9,
             "#4d9221"
            ],
            [
             1,
             "#276419"
            ]
           ],
           "sequential": [
            [
             0,
             "#0d0887"
            ],
            [
             0.1111111111111111,
             "#46039f"
            ],
            [
             0.2222222222222222,
             "#7201a8"
            ],
            [
             0.3333333333333333,
             "#9c179e"
            ],
            [
             0.4444444444444444,
             "#bd3786"
            ],
            [
             0.5555555555555556,
             "#d8576b"
            ],
            [
             0.6666666666666666,
             "#ed7953"
            ],
            [
             0.7777777777777778,
             "#fb9f3a"
            ],
            [
             0.8888888888888888,
             "#fdca26"
            ],
            [
             1,
             "#f0f921"
            ]
           ],
           "sequentialminus": [
            [
             0,
             "#0d0887"
            ],
            [
             0.1111111111111111,
             "#46039f"
            ],
            [
             0.2222222222222222,
             "#7201a8"
            ],
            [
             0.3333333333333333,
             "#9c179e"
            ],
            [
             0.4444444444444444,
             "#bd3786"
            ],
            [
             0.5555555555555556,
             "#d8576b"
            ],
            [
             0.6666666666666666,
             "#ed7953"
            ],
            [
             0.7777777777777778,
             "#fb9f3a"
            ],
            [
             0.8888888888888888,
             "#fdca26"
            ],
            [
             1,
             "#f0f921"
            ]
           ]
          },
          "colorway": [
           "#636efa",
           "#EF553B",
           "#00cc96",
           "#ab63fa",
           "#FFA15A",
           "#19d3f3",
           "#FF6692",
           "#B6E880",
           "#FF97FF",
           "#FECB52"
          ],
          "font": {
           "color": "#2a3f5f"
          },
          "geo": {
           "bgcolor": "white",
           "lakecolor": "white",
           "landcolor": "#E5ECF6",
           "showlakes": true,
           "showland": true,
           "subunitcolor": "white"
          },
          "hoverlabel": {
           "align": "left"
          },
          "hovermode": "closest",
          "mapbox": {
           "style": "light"
          },
          "paper_bgcolor": "white",
          "plot_bgcolor": "#E5ECF6",
          "polar": {
           "angularaxis": {
            "gridcolor": "white",
            "linecolor": "white",
            "ticks": ""
           },
           "bgcolor": "#E5ECF6",
           "radialaxis": {
            "gridcolor": "white",
            "linecolor": "white",
            "ticks": ""
           }
          },
          "scene": {
           "xaxis": {
            "backgroundcolor": "#E5ECF6",
            "gridcolor": "white",
            "gridwidth": 2,
            "linecolor": "white",
            "showbackground": true,
            "ticks": "",
            "zerolinecolor": "white"
           },
           "yaxis": {
            "backgroundcolor": "#E5ECF6",
            "gridcolor": "white",
            "gridwidth": 2,
            "linecolor": "white",
            "showbackground": true,
            "ticks": "",
            "zerolinecolor": "white"
           },
           "zaxis": {
            "backgroundcolor": "#E5ECF6",
            "gridcolor": "white",
            "gridwidth": 2,
            "linecolor": "white",
            "showbackground": true,
            "ticks": "",
            "zerolinecolor": "white"
           }
          },
          "shapedefaults": {
           "line": {
            "color": "#2a3f5f"
           }
          },
          "ternary": {
           "aaxis": {
            "gridcolor": "white",
            "linecolor": "white",
            "ticks": ""
           },
           "baxis": {
            "gridcolor": "white",
            "linecolor": "white",
            "ticks": ""
           },
           "bgcolor": "#E5ECF6",
           "caxis": {
            "gridcolor": "white",
            "linecolor": "white",
            "ticks": ""
           }
          },
          "title": {
           "x": 0.05
          },
          "xaxis": {
           "automargin": true,
           "gridcolor": "white",
           "linecolor": "white",
           "ticks": "",
           "title": {
            "standoff": 15
           },
           "zerolinecolor": "white",
           "zerolinewidth": 2
          },
          "yaxis": {
           "automargin": true,
           "gridcolor": "white",
           "linecolor": "white",
           "ticks": "",
           "title": {
            "standoff": 15
           },
           "zerolinecolor": "white",
           "zerolinewidth": 2
          }
         }
        },
        "title": {
         "text": "High Frequency Ingredient Research and Associated Products (Sorted by Frequency Ratio)"
        }
       }
      }
     },
     "metadata": {},
     "output_type": "display_data"
    },
    {
     "name": "stdout",
     "output_type": "stream",
     "text": [
      "           HighFrequencyIngredientResearch  Product Count  \\\n",
      "0                                    Sugar             66   \n",
      "1                                     Salt             50   \n",
      "2                            Vegetable Oil             29   \n",
      "3                              Wheat Flour             27   \n",
      "4                                  Flavour             25   \n",
      "..                                     ...            ...   \n",
      "334                             Strawberry              1   \n",
      "335                         Stabiliser 422              1   \n",
      "336                            Citric Acid              1   \n",
      "337                         Thickener 1414              1   \n",
      "338  Clarified Pineapple Juice Concentrate              1   \n",
      "\n",
      "                                              Products  Frequency Ratio  \\\n",
      "0    [Coca - Cola Classic  Soft Drink Multipack Can...         0.318841   \n",
      "1    [Indomie Mi Goreng Instant Noodles, Maggi 2 Mi...         0.241546   \n",
      "2    [Maggi 2 Minute Chicken Flavour Instant Noodle...         0.140097   \n",
      "3    [Indomie Mi Goreng Instant Noodles, Maggi 2 Mi...         0.130435   \n",
      "4    [Coca - Cola Classic  Soft Drink Multipack Can...         0.120773   \n",
      "..                                                 ...              ...   \n",
      "334          [Oreo Minis Cookies Variety Bags 18 Pack]         0.004831   \n",
      "335                [Cadbury Classic Choc Chip Cookies]         0.004831   \n",
      "336                      [Cadbury Choc Centre Cookies]         0.004831   \n",
      "337                      [Cadbury Choc Centre Cookies]         0.004831   \n",
      "338                   [Dole Pineapple Chunks In Juice]         0.004831   \n",
      "\n",
      "         Group  \n",
      "0    Group 264  \n",
      "1    Group 237  \n",
      "2    Group 288  \n",
      "3    Group 298  \n",
      "4     Group 97  \n",
      "..         ...  \n",
      "334  Group 263  \n",
      "335  Group 262  \n",
      "336   Group 55  \n",
      "337  Group 276  \n",
      "338   Group 56  \n",
      "\n",
      "[339 rows x 5 columns]\n"
     ]
    }
   ],
   "source": [
    "from neo4j import GraphDatabase\n",
    "import pandas as pd\n",
    "import plotly.graph_objects as go\n",
    "\n",
    "\n",
    "query = \"\"\"\n",
    "MATCH (p:Product)-[:HAS_RECIPE]->(r:Recipe)-[:USES_INGREDIENT]->(i:Ingredient)-[:HAS_RESEARCH]->(res:IngredientResearch)\n",
    "WITH res, COUNT(DISTINCT p) AS productCount, COLLECT(DISTINCT p.name) AS products, COUNT(DISTINCT i) AS ingredientCount\n",
    "MATCH (allProducts:Product)\n",
    "WITH res, productCount, products, ingredientCount, COUNT(allProducts) AS totalProductCount\n",
    "WITH res, productCount, products, ingredientCount, totalProductCount, toFloat(productCount) / toFloat(totalProductCount) AS frequencyRatio\n",
    "RETURN res.ingredient_name AS HighFrequencyIngredientResearch, productCount, products, frequencyRatio\n",
    "ORDER BY frequencyRatio DESC\n",
    "\"\"\"\n",
    "\n",
    "with driver.session() as session:\n",
    "    result = session.run(query)\n",
    "    data = [record.data() for record in result]\n",
    "    df = pd.DataFrame(data)\n",
    "\n",
    "# The results are sorted according to the value of the frequency ratio (ratio) from highest to lowest.\n",
    "df.sort_values(by='frequencyRatio', ascending=False, inplace=True)\n",
    "\n",
    "# Assign a group name to each group（group）\n",
    "df['group'] = 'Group ' + (df['HighFrequencyIngredientResearch'].rank(ascending=True, method='dense').astype(int)).astype(str)\n",
    "\n",
    "\n",
    "fig_data = go.Table(\n",
    "    header=dict(values=['HighFrequencyIngredientResearch', 'Product Count', 'Products', 'Frequency Ratio', 'Group']),\n",
    "    cells=dict(values=[df['HighFrequencyIngredientResearch'], df['productCount'], df['products'], df['frequencyRatio'], df['group']])\n",
    ")\n",
    "\n",
    "\n",
    "fig_layout = go.Layout(\n",
    "    title='High Frequency Ingredient Research and Associated Products (Sorted by Frequency Ratio)',\n",
    ")\n",
    "\n",
    "\n",
    "fig = go.Figure(data=fig_data, layout=fig_layout)\n",
    "fig.show()\n",
    "\n",
    "# Storing the results in a new DataFrame\n",
    "data_lists = fig_data.cells.values\n",
    "new_df = pd.DataFrame({\n",
    "    'HighFrequencyIngredientResearch': data_lists[0],\n",
    "    'Product Count': data_lists[1],\n",
    "    'Products': data_lists[2],\n",
    "    'Frequency Ratio': data_lists[3],\n",
    "    'Group': data_lists[4]\n",
    "})\n",
    "\n",
    "print(new_df)"
   ]
  },
  {
   "cell_type": "code",
   "execution_count": 9,
   "metadata": {},
   "outputs": [
    {
     "data": {
      "application/vnd.plotly.v1+json": {
       "config": {
        "plotlyServerURL": "https://plot.ly"
       },
       "data": [
        {
         "cells": {
          "values": [
           [
            "Sugar",
            "Salt",
            "Vegetable Oil",
            "Wheat Flour",
            "Flavour",
            "Emulsifier Soy Lecithin",
            "Citric Acid",
            "Water",
            "Flavour Enhancer 621",
            "Citric Acid",
            "Carbonated Water",
            "TBHQ",
            "Natural Flavour",
            "Cocoa Butter",
            "Ascorbic Acid",
            "Cocoa Mass",
            "Sodium Bicarbonate",
            "Milk Solids",
            "Natural Flavours",
            "Onion Powder",
            "Colouring Agent 150d",
            "Flavour Enhancer 635",
            "Cocoa Powder",
            "Flavours",
            "Potatoes",
            "Vitamin C",
            "Ammonium Bicarbonate",
            "Vegetable Fat",
            "Yeast Extract",
            "Phosphoric Acid",
            "Caffeine",
            "Potassium Chloride",
            "Cornstarch",
            "Folate",
            "Zinc",
            "Thiamin",
            "Riboflavin",
            "Milk",
            "Mineral Iron",
            "Polyglycerol Polyricinoleate",
            "Wheat",
            "Maltodextrin",
            "Reconstituted Fruit Juice Orange",
            "Full Cream Milk",
            "Fructose Syrup",
            "Reconstituted Apple Juice",
            "Canola Oil",
            "Onion",
            "Sunflower Oil",
            "Sodium Citrate",
            "Acesulfame Potassium",
            "Aspartame",
            "Fruit Peach",
            "Milk Whey Powder",
            "Tomatoes",
            "Reconstituted Fruit Juice Passionfruit",
            "Reconstituted Fruit Juice Pineapple",
            "Sodium Metabisulfite",
            "Citric Acid",
            "Soy",
            "Antioxidant 320",
            "Spices",
            "Dextrose",
            "Pear",
            "Antioxidant Rosemary Extract",
            "Antioxidant Tocopherols",
            "Acetic Acid",
            "Thickener Modified Corn Starch",
            "Reconstituted Fruit Juice Pear",
            "Natural Spring Water",
            "Reconstituted Mango Juice",
            "Mineral Salt 500",
            "Mineral Salt 501",
            "Parsley",
            "Guar Gum",
            "Herbs",
            "Pepper",
            "Garlic Powder",
            "Carrageenan",
            "Spice Extract",
            "Molasses",
            "Acetic Acid",
            "Citric Acid",
            "Sodium Diacetate",
            "Sodium Citrate",
            "Locust Bean Gum",
            "Xanthan Gum",
            "Raising Agent 450",
            "Potassium Citrate",
            "Calcium Lactate",
            "Malic Acid",
            "Potassium Citrate",
            "Carotene",
            "Milk Butter",
            "Flavours Soy",
            "Natural Vanilla Flavour",
            "Disodium Guanylate",
            "Anti Caking Agent 551",
            "Mineral Salt 508",
            "Mineral Salt 451",
            "Flavours Wheat",
            "Disodium Inosinate",
            "Turmeric",
            "Curcumin",
            "Antioxidant 307b",
            "Sodium Benzoate",
            "Yeast",
            "Glucose Syrup",
            "Antioxidant E307B",
            "Soybean Fibre",
            "Egg",
            "Emulsifier 442",
            "Milk Chocolate Chips",
            "Carmine",
            "Ammonium Carbonate",
            "Sodium Carbonate",
            "Palm Oil",
            "Sodium Bicarbonate",
            "Baking Powder",
            "Wheat Starch",
            "Desiccated Coconut",
            "Sorbitan Tristearate",
            "Wheat Glucose Syrup",
            "Sweetened Condensed Milk",
            "Reconstituted Lemon Juice",
            "Cocoa",
            "Thickener 1422",
            "Refined Fruit Juice",
            "Pectin",
            "Reconstituted Fruit Juice Peach Purée",
            "",
            "Pineapple",
            "Diced Peaches",
            "Diced Pears",
            "Reconstituted Refined Juice Concentrated Pear Juice",
            "Flavoured Milk",
            "Cheese Powder",
            "Australian Spring Water",
            "Paprika Oleoresins",
            "Acetic Acid",
            "Xanthan Gum",
            "Smoke Flavour",
            "Caramel I",
            "Tomato Paste",
            "Reconstituted Tomato Puree",
            "Coconut Extract",
            "Tomato Juice",
            "Potassium Sorbate",
            "Colouring Agent 160a",
            "Carbonated Mineral Water",
            "Fried Onion",
            "Citric Acid",
            "Acetic Acid",
            "Tapioca Starch",
            "Chilli",
            "Chilli Sauce",
            "Sesame Oil",
            "Soy Bean",
            "Sweet Soy Sauce",
            "Seasoning Oil",
            "Artificial Flavour",
            "Seasoning Powder",
            "Colour 101",
            "Guar Gum",
            "Sodium Bicarbonate",
            "Acidity Regulator 501",
            "Refined Palm Oil",
            "Reconstituted Lime Juice",
            "Preservative 1211",
            "Acidity Regulator 451",
            "Iodised Salt",
            "Dehydrated Vegetables",
            "Coriander",
            "Sulphites",
            "Natural Flavour Lemon Peel Extract",
            "Natural Flavour Botanical Extracts",
            "Natural Flavour Citrus Oils",
            "Natural Flavour Orange Peel Extract",
            "Carbonated Mineral Water",
            "Basil",
            "Quinine",
            "Gluten Wheat",
            "Cumin",
            "Potato Starch",
            "Flavour Celery",
            "Spice Ginger",
            "Spice Chilli Powder",
            "Spice Cardamom",
            "Burnt Sugar",
            "Guar Gum",
            "Homogenised Full Cream Milk",
            "Sardines",
            "Rice",
            "Skim Milk",
            "Acidity Regulator 339",
            "Guar Gum",
            "Caramel Color 150c",
            "Reconstituted Fruit Puree",
            "Apple Pulp",
            "Wheat Cornflour",
            "Pectin",
            "Tamarind Paste",
            "Clove",
            "Nutmeg",
            "Tomato Puree",
            "Durum Wheat Semolina",
            "Reconstituted Fruit Juice Apricot",
            "Syrup",
            "Fructose",
            "Maize Maltodextrin",
            "Ferric Ferrocyanide",
            "",
            "Carmine",
            "Reconstituted Apple Juice",
            "Carboxymethyl Cellulose",
            "Reconstituted Fruit Juice Blackcurrant",
            "Anthocyanins",
            "Reconstituted Fruit Juice Grape",
            "Reconstituted Fruit Juice Peach",
            "Guava Puree",
            "Vitamin A",
            "Reconstituted Fruit Juice Water Extracted Orange",
            "Pasteurised Homogenised Milk",
            "Cream",
            "Maize Thickener 1422",
            "Milk Lactose",
            "Xanthan Gum",
            "Vegetable Powder Tomato",
            "Buttermilk Powder",
            "Lactic Acid",
            "Paprika Extract",
            "Natural Strawberry Flavour",
            "Cochineal",
            "Refined Fruit Juice Apple",
            "Refined Fruit Juice Grape",
            "Refined Fruit Juice Peach",
            "Refined Fruit Juice Pear",
            "Natural Flavour Pineapple",
            "Natural Flavour Mango",
            "Jelly Natural Pineapple Flavour",
            "Apple",
            "Citric Acid",
            "Pineapple Juice",
            "Garam Masala",
            "Iron Oxides",
            "Vinegar",
            "Vegetable Powder Garlic",
            "Xanthan Gum",
            "Free Range Egg Yolk",
            "Gherkin",
            "Potassium Sorbate",
            "Dill",
            "Herb Extract",
            "Mustard Oil",
            "White Vinegar",
            "Reconstituted Fruit Puree Apple",
            "Reconstituted Fruit Puree Tomato Paste",
            "Tomato Powder",
            "Paprika",
            "Flavour Enhancer 620",
            "Turmeric",
            "Glucose",
            "Titanium Dioxide",
            "Carnauba Wax",
            "Ultramarines",
            "Plant Extract Carthamus",
            "Safflower Extract",
            "Ascorbic Acid",
            "Carminic Acid",
            "Lutein",
            "Antioxidant 385",
            "Processing Aid Wheat",
            "Choc Paste",
            "Golden Syrup",
            "Invert Sugar",
            "Acidity Regulator 331",
            "Milk Chocolate",
            "Caramel",
            "Biscuit",
            "Barley Malt Extract",
            "Egg White",
            "Sodium Citrate",
            "Plant Extract Gardenia",
            "Emulsifier 471",
            "Natural Flavour Lime Oils",
            "Sweetener 952",
            "Parsley Flakes",
            "Caramel III",
            "Flavour Sachet",
            "Vegetable Sachet",
            "Modified Starch 1420",
            "Mineral Salt 450",
            "Colouring Agent 100",
            "Soy Sauce Powder",
            "White Pepper",
            "Rosemary",
            "Colouring Agent 150c",
            "Caramel Color",
            "Natural Mineral Water",
            "Potassium Bicarbonate",
            "Natural Flavour Vanilla Extract",
            "Enzymes",
            "Mica",
            "Colouring Agent Titan White",
            "Beta carotene",
            "Red Beetroot Powder",
            "Black Carrot Extract",
            "Cultured Dextrose",
            "Maize Starch",
            "",
            "Polyethylene",
            "Synthetic Wax",
            "",
            "Bis-Diglyceryl Polyacyladipate-2",
            "",
            "Polybutene",
            "Silica",
            "Octyldodecanol",
            "Pentaerythrityl Tetra-di-t-butyl Hydroxyhydrocinnamate",
            "Colouring Agent Spirulina Extract",
            "Glazing Agent 414",
            "Polyglycerol polyricinoleate",
            "Milk Compound Chocolate",
            "Colouring Agent Caramel IV",
            "Dark Compound Chocolate Chips",
            "Cocoa Solids",
            "Wheaten Corn Flour",
            "Whole Egg Powder",
            "Annatto Extracts",
            "Dark Chocolate Chips",
            "Natural Flavour Vanilla",
            "Natural Flavour Butter",
            "Chocolate Chips",
            "Skim Milk Powder",
            "Strawberry",
            "Stabiliser 422",
            "Citric Acid",
            "Thickener 1414",
            "Clarified Pineapple Juice Concentrate"
           ],
           [
            66,
            50,
            29,
            27,
            25,
            22,
            19,
            18,
            16,
            16,
            14,
            14,
            13,
            12,
            12,
            12,
            12,
            12,
            12,
            12,
            11,
            11,
            11,
            10,
            10,
            10,
            10,
            10,
            10,
            10,
            9,
            9,
            9,
            9,
            8,
            8,
            8,
            8,
            8,
            8,
            7,
            7,
            7,
            7,
            7,
            7,
            7,
            6,
            6,
            6,
            6,
            6,
            5,
            5,
            5,
            5,
            5,
            5,
            5,
            5,
            5,
            5,
            4,
            4,
            4,
            4,
            4,
            4,
            4,
            4,
            4,
            4,
            4,
            4,
            4,
            4,
            4,
            4,
            3,
            3,
            3,
            3,
            3,
            3,
            3,
            3,
            3,
            3,
            3,
            3,
            3,
            3,
            3,
            3,
            3,
            3,
            3,
            3,
            3,
            3,
            3,
            3,
            3,
            3,
            3,
            3,
            3,
            3,
            2,
            2,
            2,
            2,
            2,
            2,
            2,
            2,
            2,
            2,
            2,
            2,
            2,
            2,
            2,
            2,
            2,
            2,
            2,
            2,
            2,
            2,
            2,
            2,
            2,
            2,
            2,
            2,
            2,
            2,
            2,
            2,
            2,
            2,
            2,
            2,
            2,
            2,
            2,
            2,
            2,
            2,
            2,
            2,
            2,
            2,
            2,
            2,
            2,
            2,
            2,
            2,
            2,
            2,
            2,
            2,
            2,
            2,
            2,
            2,
            2,
            2,
            2,
            2,
            2,
            2,
            2,
            2,
            2,
            2,
            2,
            2,
            2,
            2,
            2,
            2,
            2,
            2,
            2,
            2,
            2,
            1,
            1,
            1,
            1,
            1,
            1,
            1,
            1,
            1,
            1,
            1,
            1,
            1,
            1,
            1,
            1,
            1,
            1,
            1,
            1,
            1,
            1,
            1,
            1,
            1,
            1,
            1,
            1,
            1,
            1,
            1,
            1,
            1,
            1,
            1,
            1,
            1,
            1,
            1,
            1,
            1,
            1,
            1,
            1,
            1,
            1,
            1,
            1,
            1,
            1,
            1,
            1,
            1,
            1,
            1,
            1,
            1,
            1,
            1,
            1,
            1,
            1,
            1,
            1,
            1,
            1,
            1,
            1,
            1,
            1,
            1,
            1,
            1,
            1,
            1,
            1,
            1,
            1,
            1,
            1,
            1,
            1,
            1,
            1,
            1,
            1,
            1,
            1,
            1,
            1,
            1,
            1,
            1,
            1,
            1,
            1,
            1,
            1,
            1,
            1,
            1,
            1,
            1,
            1,
            1,
            1,
            1,
            1,
            1,
            1,
            1,
            1,
            1,
            1,
            1,
            1,
            1,
            1,
            1,
            1,
            1,
            1,
            1,
            1,
            1,
            1,
            1,
            1,
            1,
            1,
            1,
            1,
            1,
            1,
            1,
            1,
            1,
            1,
            1,
            1,
            1,
            1,
            1,
            1,
            1,
            1,
            1,
            1,
            1,
            1
           ],
           [
            [
             "Coca - Cola Classic  Soft Drink Multipack Cans",
             "Coca - Cola Classic  Soft Drink Mini Cans",
             "Coca - Cola Vanilla  Soft Drink Multipack Cans",
             "Indomie Mi Goreng Instant Noodles",
             "Maggi 2 Minute Chicken Flavour Instant Noodles",
             "Supreme Noodles Cup Chicken Flavour",
             "Fantastic Chicken Noodle Cup",
             "Fantastic Chicken Noodle Bowl",
             "Indomie Mi Goreng Noodle Cup",
             "Maggi 2 Minute Beef Flavour Instant Noodles",
             "Supreme Noodles Cup Beef Flavour",
             "Schweppes Indian Tonic Water Classic Mixers Bottle",
             "Schweppes Lime Soda Water With Lime Juice Bottle",
             "Schweppes Lemon Lime Natural Mineral Water Bottle",
             "Schweppes Orange Mango Natural Mineral Water Bottle",
             "Kitkat 4 Finger Milk Chocolate Bar",
             "Kitkat Chunky Original Chocolate Bar",
             "Cadbury Dairy Milk Caramello Koala Chocolate",
             "Mars Chocolate Bar With Nougat & Caramel",
             "Cadbury Dairy Milk Chocolate Roll",
             "Cadbury Dairy Milk Chocolate Bar",
             "Cadbury Twirl Chocolate Bar",
             "Cadbury Chomp Chocolate Bar",
             "Arnott's Premier Chocolate Chip Cookies",
             "Woolworths Chocolate Chip Cookies",
             "Woolworths The King Of Chunky Chocolate Chip Cookies",
             "Arnott's Mini Choc Chip Cookie Multipack Biscuits",
             "Oreo Original Mini Cookies Multipack",
             "Oreo Minis Cookies Variety Bags 18 Pack",
             "Cadbury Classic Choc Chip Cookies",
             "Cadbury Choc Centre Cookies",
             "Byron Bay Cookies Dotty Cookie Bites",
             "Oreo Original Cookies",
             "Golden Circle Golden Pash Fruit Drink",
             "Golden Circle Drinks Pine Orange Fruit Drink",
             "Golden Circle Drinks Sunshine Punch Fruit Drink",
             "Golden Circle Fruit Drinks Lunch Box Poppers Tropical Punch Multipack",
             "Oreo Double Stuff Cookies",
             "Oreo Original Cookies Family Pack",
             "Oreo Chocolate Cookies",
             "Oreo Grab & Go Original Cookies 9 Pack",
             "Oreo Neapolitan Double Stuff Cookies",
             "Woolworths Creamed Rice",
             "Woolworths Tomato Sauce Squeeze",
             "Woolworths Tomato Sauce",
             "Woolworths Barbecue Sauce Squeeze",
             "Masterfoods Tomato Sauce",
             "Masterfoods Barbecue Sauce",
             "Fountain Tomato Sauce Squeeze",
             "Fountain Barbecue Bbq Sauce Squeeze",
             "Woolworths Secret Burger Sauce",
             "Heinz Ketchup Tomato Sauce Ketchup",
             "Woolworths Barbecue Sauce",
             "Smith's Crinkle Cut Potato Chips Barbecue",
             "Smith's Crinkle Cut Potato Chips Chicken",
             "Thins Chips Chicken",
             "Smith's Crinkle Cut Potato Chips Salt & Vinegar",
             "Thins Chips Light & Tangy",
             "Thins Cheese & Onion Chips",
             "Woolworths Peach In Strawberry Jelly",
             "Woolworths Two Fruits In Tropical Jelly",
             "Woolworths Apple In Pineapple Jelly",
             "Dole Pineapple Slices In Syrup"
            ],
            [
             "Indomie Mi Goreng Instant Noodles",
             "Maggi 2 Minute Chicken Flavour Instant Noodles",
             "Supreme Noodles Cup Chicken Flavour",
             "Fantastic Chicken Noodle Cup",
             "Fantastic Chicken Noodle Bowl",
             "Indomie Mi Goreng Noodle Cup",
             "Maggi 2 Minute Beef Flavour Instant Noodles",
             "Supreme Noodles Cup Beef Flavour",
             "Kitkat 4 Finger Milk Chocolate Bar",
             "Kitkat Chunky Original Chocolate Bar",
             "Cadbury Dairy Milk Caramello Koala Chocolate",
             "Mars Chocolate Bar With Nougat & Caramel",
             "Cadbury Chomp Chocolate Bar",
             "Arnott's Premier Chocolate Chip Cookies",
             "Woolworths Chocolate Chip Cookies",
             "Woolworths The King Of Chunky Chocolate Chip Cookies",
             "Arnott's Mini Choc Chip Cookie Multipack Biscuits",
             "Oreo Original Mini Cookies Multipack",
             "Oreo Minis Cookies Variety Bags 18 Pack",
             "Cadbury Classic Choc Chip Cookies",
             "Cadbury Choc Centre Cookies",
             "Byron Bay Cookies Dotty Cookie Bites",
             "Oreo Original Cookies",
             "Oreo Double Stuff Cookies",
             "Oreo Original Cookies Family Pack",
             "Oreo Chocolate Cookies",
             "Oreo Grab & Go Original Cookies 9 Pack",
             "Deep Cove Sardines In Oil",
             "Woolworths Creamed Rice",
             "Woolworths Tomato Sauce Squeeze",
             "Woolworths Tomato Sauce",
             "Woolworths Barbecue Sauce Squeeze",
             "Masterfoods Tomato Sauce",
             "Masterfoods Barbecue Sauce",
             "Fountain Tomato Sauce Squeeze",
             "Fountain Barbecue Bbq Sauce Squeeze",
             "Woolworths Secret Burger Sauce",
             "Heinz Ketchup Tomato Sauce Ketchup",
             "Woolworths Barbecue Sauce",
             "Smith's Crinkle Cut Potato Chips Original",
             "Smith's Crinkle Cut Potato Chips Cheese & Onion",
             "Smith's Crinkle Cut Potato Chips Barbecue",
             "Smith's Crinkle Cut Potato Chips Chicken",
             "Thins Chips Salt & Vinegar",
             "Smith's Thinly Cut Potato Chips Original Share Pack",
             "Thins Chips Chicken",
             "Smith's Crinkle Cut Potato Chips Salt & Vinegar",
             "Thins Chips Light & Tangy",
             "Thins Cheese & Onion Chips"
            ],
            [
             "Maggi 2 Minute Chicken Flavour Instant Noodles",
             "Supreme Noodles Cup Chicken Flavour",
             "Fantastic Chicken Noodle Cup",
             "Fantastic Chicken Noodle Bowl",
             "Maggi 2 Minute Beef Flavour Instant Noodles",
             "Supreme Noodles Cup Beef Flavour",
             "Mars Chocolate Bar With Nougat & Caramel",
             "Cadbury Chomp Chocolate Bar",
             "Arnott's Premier Chocolate Chip Cookies",
             "Woolworths Chocolate Chip Cookies",
             "Woolworths The King Of Chunky Chocolate Chip Cookies",
             "Arnott's Mini Choc Chip Cookie Multipack Biscuits",
             "Oreo Original Mini Cookies Multipack",
             "Oreo Minis Cookies Variety Bags 18 Pack",
             "Cadbury Classic Choc Chip Cookies",
             "Cadbury Choc Centre Cookies",
             "Byron Bay Cookies Dotty Cookie Bites",
             "Oreo Original Cookies",
             "Oreo Double Stuff Cookies",
             "Oreo Original Cookies Family Pack",
             "Oreo Chocolate Cookies",
             "Oreo Grab & Go Original Cookies 9 Pack",
             "Oreo Neapolitan Double Stuff Cookies",
             "Deep Cove Sardines In Oil",
             "Thins Chips Salt & Vinegar",
             "Thins Chips Chicken",
             "Thins Chips Light & Tangy",
             "Thins Cheese & Onion Chips"
            ],
            [
             "Indomie Mi Goreng Instant Noodles",
             "Maggi 2 Minute Chicken Flavour Instant Noodles",
             "Supreme Noodles Cup Chicken Flavour",
             "Fantastic Chicken Noodle Cup",
             "Fantastic Chicken Noodle Bowl",
             "Indomie Mi Goreng Noodle Cup",
             "Maggi 2 Minute Beef Flavour Instant Noodles",
             "Supreme Noodles Cup Beef Flavour",
             "Kitkat 4 Finger Milk Chocolate Bar",
             "Kitkat Chunky Original Chocolate Bar",
             "Cadbury Chomp Chocolate Bar",
             "Arnott's Premier Chocolate Chip Cookies",
             "Woolworths Chocolate Chip Cookies",
             "Woolworths The King Of Chunky Chocolate Chip Cookies",
             "Arnott's Mini Choc Chip Cookie Multipack Biscuits",
             "Oreo Original Mini Cookies Multipack",
             "Oreo Minis Cookies Variety Bags 18 Pack",
             "Cadbury Classic Choc Chip Cookies",
             "Cadbury Choc Centre Cookies",
             "Byron Bay Cookies Dotty Cookie Bites",
             "Oreo Original Cookies",
             "Oreo Double Stuff Cookies",
             "Oreo Original Cookies Family Pack",
             "Oreo Chocolate Cookies",
             "Oreo Grab & Go Original Cookies 9 Pack",
             "Oreo Neapolitan Double Stuff Cookies"
            ],
            [
             "Coca - Cola Classic  Soft Drink Multipack Cans",
             "Coca - Cola Classic  Soft Drink Mini Cans",
             "Coca - Cola Vanilla  Soft Drink Multipack Cans",
             "Coca - Cola Zero Sugar Soft Drink Multipack Cans",
             "Coca - Cola Caffeine Free Zero Sugar Soft Drink Multipack Cans",
             "Coca - Cola Zero Sugar Soft Drink Mini Cans",
             "Maggi 2 Minute Beef Flavour Instant Noodles",
             "Kitkat 4 Finger Milk Chocolate Bar",
             "Kitkat Chunky Original Chocolate Bar",
             "Arnott's Premier Chocolate Chip Cookies",
             "Oreo Original Mini Cookies Multipack",
             "Oreo Minis Cookies Variety Bags 18 Pack",
             "Cadbury Classic Choc Chip Cookies",
             "Cadbury Choc Centre Cookies",
             "Byron Bay Cookies Dotty Cookie Bites",
             "Oreo Original Cookies",
             "Oreo Double Stuff Cookies",
             "Oreo Original Cookies Family Pack",
             "Oreo Chocolate Cookies",
             "Oreo Grab & Go Original Cookies 9 Pack",
             "Thins Chips Light & Tangy"
            ],
            [
             "Kitkat 4 Finger Milk Chocolate Bar",
             "Kitkat Chunky Original Chocolate Bar",
             "Cadbury Dairy Milk Caramello Koala Chocolate",
             "Mars Chocolate Bar With Nougat & Caramel",
             "Cadbury Dairy Milk Chocolate Roll",
             "Cadbury Dairy Milk Chocolate Bar",
             "Cadbury Twirl Chocolate Bar",
             "Cadbury Chomp Chocolate Bar",
             "Arnott's Premier Chocolate Chip Cookies",
             "Woolworths Chocolate Chip Cookies",
             "Woolworths The King Of Chunky Chocolate Chip Cookies",
             "Arnott's Mini Choc Chip Cookie Multipack Biscuits",
             "Oreo Original Mini Cookies Multipack",
             "Oreo Minis Cookies Variety Bags 18 Pack",
             "Cadbury Choc Centre Cookies",
             "Byron Bay Cookies Dotty Cookie Bites",
             "Oreo Original Cookies",
             "Oreo Double Stuff Cookies",
             "Oreo Original Cookies Family Pack",
             "Oreo Chocolate Cookies",
             "Oreo Grab & Go Original Cookies 9 Pack",
             "Oreo Neapolitan Double Stuff Cookies"
            ],
            [
             "Woolworths Apple Juice",
             "Woolworths Apple & Mango Juice",
             "Woolworths Orange Juice",
             "Woolworths Breakfast Juice",
             "Woolworths Apple & Blackcurrant Juice",
             "Woolworths Multivitamin Juice",
             "Woolworths Diced Italian Tomatoes",
             "Woolworths Tomato Sauce Squeeze",
             "Woolworths Tomato Sauce",
             "Woolworths Barbecue Sauce Squeeze",
             "Woolworths Secret Burger Sauce",
             "Woolworths Barbecue Sauce",
             "Woolworths Peach In Strawberry Jelly",
             "Woolworths Two Fruits In Juice Cups",
             "Woolworths Two Fruits In Juice",
             "Woolworths Two Fruits In Tropical Jelly",
             "Woolworths Apple In Pineapple Jelly"
            ],
            [
             "Indomie Mi Goreng Instant Noodles",
             "Indomie Mi Goreng Noodle Cup",
             "Golden Circle Golden Pash Fruit Drink",
             "Golden Circle Drinks Pine Orange Fruit Drink",
             "Golden Circle Drinks Sunshine Punch Fruit Drink",
             "Golden Circle Fruit Drinks Lunch Box Poppers Tropical Punch Multipack",
             "Essentials Coconut Cream",
             "Deep Cove Sardines In Oil",
             "Essentials Coconut Milk",
             "Masterfoods Barbecue Sauce",
             "Woolworths Secret Burger Sauce",
             "Woolworths Peach In Strawberry Jelly",
             "Woolworths Two Fruits In Juice Cups",
             "Woolworths Two Fruits In Juice",
             "Woolworths Two Fruits In Tropical Jelly",
             "Woolworths Apple In Pineapple Jelly",
             "Dole Pineapple Slices In Syrup",
             "Dole Pineapple Chunks In Juice"
            ],
            [
             "Indomie Mi Goreng Instant Noodles",
             "Maggi 2 Minute Chicken Flavour Instant Noodles",
             "Supreme Noodles Cup Chicken Flavour",
             "Fantastic Chicken Noodle Cup",
             "Fantastic Chicken Noodle Bowl",
             "Indomie Mi Goreng Noodle Cup",
             "Maggi 2 Minute Beef Flavour Instant Noodles",
             "Supreme Noodles Cup Beef Flavour",
             "Smith's Crinkle Cut Potato Chips Cheese & Onion",
             "Smith's Crinkle Cut Potato Chips Barbecue",
             "Smith's Crinkle Cut Potato Chips Chicken",
             "Thins Chips Salt & Vinegar",
             "Thins Chips Chicken",
             "Smith's Crinkle Cut Potato Chips Salt & Vinegar",
             "Thins Cheese & Onion Chips"
            ],
            [
             "Maggi 2 Minute Beef Flavour Instant Noodles",
             "Schweppes Zero Sugar Lime Infused Mineral Water Bottle",
             "Schweppes Raspberry Infused Natural Mineral Water Bottle",
             "Schweppes Lemon Lime Natural Mineral Water Bottle",
             "Schweppes Orange Mango Natural Mineral Water Bottle",
             "Golden Circle Golden Pash Fruit Drink",
             "Golden Circle Drinks Pine Orange Fruit Drink",
             "Golden Circle Drinks Sunshine Punch Fruit Drink",
             "Golden Circle Fruit Drinks Lunch Box Poppers Tropical Punch Multipack",
             "Masterfoods Tomato Sauce",
             "Masterfoods Barbecue Sauce",
             "Heinz Ketchup Tomato Sauce Ketchup",
             "Smith's Crinkle Cut Potato Chips Cheese & Onion",
             "Smith's Crinkle Cut Potato Chips Barbecue",
             "Thins Chips Chicken",
             "Smith's Crinkle Cut Potato Chips Salt & Vinegar"
            ],
            [
             "Coca - Cola Classic  Soft Drink Multipack Cans",
             "Coca - Cola Classic  Soft Drink Mini Cans",
             "Coca - Cola Vanilla  Soft Drink Multipack Cans",
             "Coca - Cola Zero Sugar Soft Drink Multipack Cans",
             "Coca - Cola Caffeine Free Zero Sugar Soft Drink Multipack Cans",
             "Coca - Cola Zero Sugar Soft Drink Mini Cans",
             "Schweppes Soda Water Bottle Classic Mixers",
             "Schweppes Indian Tonic Water Classic Mixers Bottle",
             "Schweppes Lime Soda Water With Lime Juice Bottle",
             "Schweppes Zero Sugar Classic Mixers Indian Tonic Water Bottle"
            ],
            [
             "Indomie Mi Goreng Instant Noodles",
             "Maggi 2 Minute Chicken Flavour Instant Noodles",
             "Fantastic Chicken Noodle Bowl",
             "Indomie Mi Goreng Noodle Cup",
             "Maggi 2 Minute Beef Flavour Instant Noodles",
             "Oreo Original Mini Cookies Multipack",
             "Oreo Minis Cookies Variety Bags 18 Pack",
             "Oreo Original Cookies",
             "Oreo Double Stuff Cookies",
             "Oreo Original Cookies Family Pack",
             "Oreo Chocolate Cookies",
             "Oreo Grab & Go Original Cookies 9 Pack",
             "Oreo Neapolitan Double Stuff Cookies"
            ],
            [
             "Woolworths Chocolate Chip Cookies",
             "Arnott's Mini Choc Chip Cookie Multipack Biscuits",
             "Woolworths Apple Juice",
             "Woolworths Apple & Mango Juice",
             "Woolworths Orange Juice",
             "Woolworths Apple & Blackcurrant Juice",
             "Golden Circle Drinks Pine Orange Fruit Drink",
             "Woolworths Tomato Sauce Squeeze",
             "Woolworths Tomato Sauce",
             "Fountain Tomato Sauce Squeeze",
             "Woolworths Barbecue Sauce",
             "Thins Chips Salt & Vinegar",
             "Thins Cheese & Onion Chips"
            ],
            [
             "Kitkat 4 Finger Milk Chocolate Bar",
             "Kitkat Chunky Original Chocolate Bar",
             "Cadbury Dairy Milk Caramello Koala Chocolate",
             "Mars Chocolate Bar With Nougat & Caramel",
             "Cadbury Dairy Milk Chocolate Roll",
             "Cadbury Dairy Milk Chocolate Bar",
             "Cadbury Twirl Chocolate Bar",
             "Arnott's Premier Chocolate Chip Cookies",
             "Woolworths The King Of Chunky Chocolate Chip Cookies",
             "Arnott's Mini Choc Chip Cookie Multipack Biscuits",
             "Cadbury Classic Choc Chip Cookies",
             "Cadbury Choc Centre Cookies"
            ],
            [
             "Smith's Crinkle Cut Potato Chips Original",
             "Smith's Crinkle Cut Potato Chips Chicken",
             "Smith's Thinly Cut Potato Chips Original Share Pack",
             "Smith's Crinkle Cut Potato Chips Salt & Vinegar",
             "Woolworths Peach In Strawberry Jelly",
             "Woolworths Two Fruits In Juice Cups",
             "Woolworths Two Fruits In Juice",
             "Woolworths Two Fruits In Tropical Jelly",
             "Woolworths Apple In Pineapple Jelly",
             "Goulburn Valley Two Fruits In Juice",
             "Goulburn Valley Two Fruits In Juice Fruit Cups In Juice"
            ],
            [
             "Kitkat 4 Finger Milk Chocolate Bar",
             "Kitkat Chunky Original Chocolate Bar",
             "Cadbury Dairy Milk Caramello Koala Chocolate",
             "Mars Chocolate Bar With Nougat & Caramel",
             "Cadbury Dairy Milk Chocolate Roll",
             "Cadbury Dairy Milk Chocolate Bar",
             "Cadbury Twirl Chocolate Bar",
             "Arnott's Premier Chocolate Chip Cookies",
             "Woolworths The King Of Chunky Chocolate Chip Cookies",
             "Arnott's Mini Choc Chip Cookie Multipack Biscuits",
             "Cadbury Classic Choc Chip Cookies",
             "Cadbury Choc Centre Cookies"
            ],
            [
             "Cadbury Chomp Chocolate Bar",
             "Oreo Original Mini Cookies Multipack",
             "Oreo Minis Cookies Variety Bags 18 Pack",
             "Cadbury Classic Choc Chip Cookies",
             "Cadbury Choc Centre Cookies",
             "Byron Bay Cookies Dotty Cookie Bites",
             "Oreo Original Cookies",
             "Oreo Double Stuff Cookies",
             "Oreo Original Cookies Family Pack",
             "Oreo Chocolate Cookies",
             "Oreo Grab & Go Original Cookies 9 Pack",
             "Oreo Neapolitan Double Stuff Cookies"
            ],
            [
             "Kitkat 4 Finger Milk Chocolate Bar",
             "Kitkat Chunky Original Chocolate Bar",
             "Cadbury Dairy Milk Caramello Koala Chocolate",
             "Mars Chocolate Bar With Nougat & Caramel",
             "Cadbury Dairy Milk Chocolate Roll",
             "Cadbury Dairy Milk Chocolate Bar",
             "Cadbury Twirl Chocolate Bar",
             "Cadbury Chomp Chocolate Bar",
             "Arnott's Premier Chocolate Chip Cookies",
             "Cadbury Classic Choc Chip Cookies",
             "Cadbury Choc Centre Cookies",
             "Byron Bay Cookies Dotty Cookie Bites"
            ],
            [
             "Schweppes Zero Sugar Lime Infused Mineral Water Bottle",
             "Schweppes Raspberry Infused Natural Mineral Water Bottle",
             "Schweppes Lemon Lime Natural Mineral Water Bottle",
             "Schweppes Orange Mango Natural Mineral Water Bottle",
             "Woolworths Breakfast Juice",
             "Woolworths Multivitamin Juice",
             "Golden Circle Golden Pash Fruit Drink",
             "Golden Circle Drinks Sunshine Punch Fruit Drink",
             "Golden Circle Fruit Drinks Lunch Box Poppers Tropical Punch Multipack",
             "Fountain Barbecue Bbq Sauce Squeeze",
             "Heinz Ketchup Tomato Sauce Ketchup",
             "Smith's Crinkle Cut Potato Chips Salt & Vinegar"
            ],
            [
             "Indomie Mi Goreng Instant Noodles",
             "Maggi 2 Minute Chicken Flavour Instant Noodles",
             "Supreme Noodles Cup Chicken Flavour",
             "Fantastic Chicken Noodle Cup",
             "Indomie Mi Goreng Noodle Cup",
             "Woolworths Secret Burger Sauce",
             "Smith's Crinkle Cut Potato Chips Cheese & Onion",
             "Smith's Crinkle Cut Potato Chips Barbecue",
             "Smith's Crinkle Cut Potato Chips Chicken",
             "Thins Chips Chicken",
             "Thins Chips Light & Tangy",
             "Thins Cheese & Onion Chips"
            ],
            [
             "Coca - Cola Classic  Soft Drink Multipack Cans",
             "Coca - Cola Classic  Soft Drink Mini Cans",
             "Coca - Cola Vanilla  Soft Drink Multipack Cans",
             "Coca - Cola Zero Sugar Soft Drink Multipack Cans",
             "Coca - Cola Caffeine Free Zero Sugar Soft Drink Multipack Cans",
             "Coca - Cola Zero Sugar Soft Drink Mini Cans",
             "Fountain Barbecue Bbq Sauce Squeeze"
            ],
            [
             "Maggi 2 Minute Chicken Flavour Instant Noodles",
             "Supreme Noodles Cup Chicken Flavour",
             "Fantastic Chicken Noodle Cup",
             "Maggi 2 Minute Beef Flavour Instant Noodles",
             "Supreme Noodles Cup Beef Flavour",
             "Smith's Crinkle Cut Potato Chips Barbecue",
             "Smith's Crinkle Cut Potato Chips Chicken",
             "Thins Chips Chicken",
             "Thins Chips Light & Tangy",
             "Thins Cheese & Onion Chips"
            ],
            [
             "Cadbury Chomp Chocolate Bar",
             "Oreo Original Mini Cookies Multipack",
             "Oreo Minis Cookies Variety Bags 18 Pack",
             "Cadbury Choc Centre Cookies",
             "Byron Bay Cookies Dotty Cookie Bites",
             "Oreo Original Cookies",
             "Oreo Double Stuff Cookies",
             "Oreo Original Cookies Family Pack",
             "Oreo Chocolate Cookies",
             "Oreo Grab & Go Original Cookies 9 Pack",
             "Oreo Neapolitan Double Stuff Cookies"
            ],
            [
             "Indomie Mi Goreng Noodle Cup",
             "Cadbury Dairy Milk Caramello Koala Chocolate",
             "Cadbury Dairy Milk Chocolate Roll",
             "Cadbury Dairy Milk Chocolate Bar",
             "Cadbury Twirl Chocolate Bar",
             "Cadbury Chomp Chocolate Bar",
             "Cadbury Choc Centre Cookies",
             "Oreo Neapolitan Double Stuff Cookies",
             "Smith's Crinkle Cut Potato Chips Barbecue",
             "Thins Chips Chicken"
            ],
            [
             "Smith's Crinkle Cut Potato Chips Original",
             "Smith's Crinkle Cut Potato Chips Cheese & Onion",
             "Smith's Crinkle Cut Potato Chips Barbecue",
             "Smith's Crinkle Cut Potato Chips Chicken",
             "Thins Chips Salt & Vinegar",
             "Smith's Thinly Cut Potato Chips Original Share Pack",
             "Thins Chips Chicken",
             "Smith's Crinkle Cut Potato Chips Salt & Vinegar",
             "Thins Chips Light & Tangy",
             "Thins Cheese & Onion Chips"
            ],
            [
             "Woolworths Apple Juice",
             "Woolworths Apple & Mango Juice",
             "Woolworths Orange Juice",
             "Woolworths Breakfast Juice",
             "Woolworths Apple & Blackcurrant Juice",
             "Woolworths Multivitamin Juice",
             "Golden Circle Golden Pash Fruit Drink",
             "Golden Circle Drinks Pine Orange Fruit Drink",
             "Golden Circle Drinks Sunshine Punch Fruit Drink",
             "Golden Circle Fruit Drinks Lunch Box Poppers Tropical Punch Multipack"
            ],
            [
             "Oreo Original Mini Cookies Multipack",
             "Oreo Minis Cookies Variety Bags 18 Pack",
             "Cadbury Classic Choc Chip Cookies",
             "Cadbury Choc Centre Cookies",
             "Oreo Original Cookies",
             "Oreo Double Stuff Cookies",
             "Oreo Original Cookies Family Pack",
             "Oreo Chocolate Cookies",
             "Oreo Grab & Go Original Cookies 9 Pack",
             "Oreo Neapolitan Double Stuff Cookies"
            ],
            [
             "Maggi 2 Minute Chicken Flavour Instant Noodles",
             "Maggi 2 Minute Beef Flavour Instant Noodles",
             "Kitkat 4 Finger Milk Chocolate Bar",
             "Kitkat Chunky Original Chocolate Bar",
             "Cadbury Dairy Milk Caramello Koala Chocolate",
             "Mars Chocolate Bar With Nougat & Caramel",
             "Cadbury Chomp Chocolate Bar",
             "Cadbury Classic Choc Chip Cookies",
             "Byron Bay Cookies Dotty Cookie Bites"
            ],
            [
             "Indomie Mi Goreng Instant Noodles",
             "Supreme Noodles Cup Chicken Flavour",
             "Fantastic Chicken Noodle Cup",
             "Fantastic Chicken Noodle Bowl",
             "Indomie Mi Goreng Noodle Cup",
             "Maggi 2 Minute Beef Flavour Instant Noodles",
             "Masterfoods Barbecue Sauce",
             "Smith's Crinkle Cut Potato Chips Cheese & Onion",
             "Smith's Crinkle Cut Potato Chips Chicken",
             "Thins Cheese & Onion Chips"
            ],
            [
             "Coca - Cola Classic  Soft Drink Multipack Cans",
             "Coca - Cola Classic  Soft Drink Mini Cans",
             "Coca - Cola Vanilla  Soft Drink Multipack Cans",
             "Coca - Cola Zero Sugar Soft Drink Multipack Cans",
             "Coca - Cola Caffeine Free Zero Sugar Soft Drink Multipack Cans",
             "Coca - Cola Zero Sugar Soft Drink Mini Cans"
            ],
            [
             "Coca - Cola Classic  Soft Drink Multipack Cans",
             "Coca - Cola Classic  Soft Drink Mini Cans",
             "Coca - Cola Vanilla  Soft Drink Multipack Cans",
             "Coca - Cola Zero Sugar Soft Drink Multipack Cans",
             "Coca - Cola Zero Sugar Soft Drink Mini Cans"
            ],
            [
             "Maggi 2 Minute Chicken Flavour Instant Noodles",
             "Maggi 2 Minute Beef Flavour Instant Noodles",
             "Smith's Crinkle Cut Potato Chips Cheese & Onion",
             "Smith's Crinkle Cut Potato Chips Barbecue",
             "Smith's Crinkle Cut Potato Chips Chicken",
             "Thins Chips Salt & Vinegar",
             "Thins Chips Chicken",
             "Smith's Crinkle Cut Potato Chips Salt & Vinegar",
             "Thins Cheese & Onion Chips"
            ],
            [
             "Oreo Original Mini Cookies Multipack",
             "Oreo Minis Cookies Variety Bags 18 Pack",
             "Byron Bay Cookies Dotty Cookie Bites",
             "Oreo Original Cookies",
             "Oreo Double Stuff Cookies",
             "Oreo Original Cookies Family Pack",
             "Oreo Chocolate Cookies",
             "Oreo Grab & Go Original Cookies 9 Pack",
             "Oreo Neapolitan Double Stuff Cookies"
            ],
            [
             "Oreo Original Mini Cookies Multipack",
             "Oreo Minis Cookies Variety Bags 18 Pack",
             "Oreo Original Cookies",
             "Woolworths Multivitamin Juice",
             "Oreo Double Stuff Cookies",
             "Oreo Original Cookies Family Pack",
             "Oreo Chocolate Cookies",
             "Oreo Grab & Go Original Cookies 9 Pack",
             "Oreo Neapolitan Double Stuff Cookies"
            ],
            [
             "Oreo Original Mini Cookies Multipack",
             "Oreo Minis Cookies Variety Bags 18 Pack",
             "Oreo Original Cookies",
             "Oreo Double Stuff Cookies",
             "Oreo Original Cookies Family Pack",
             "Oreo Chocolate Cookies",
             "Oreo Grab & Go Original Cookies 9 Pack",
             "Oreo Neapolitan Double Stuff Cookies"
            ],
            [
             "Oreo Original Mini Cookies Multipack",
             "Oreo Minis Cookies Variety Bags 18 Pack",
             "Oreo Original Cookies",
             "Oreo Double Stuff Cookies",
             "Oreo Original Cookies Family Pack",
             "Oreo Chocolate Cookies",
             "Oreo Grab & Go Original Cookies 9 Pack",
             "Oreo Neapolitan Double Stuff Cookies"
            ],
            [
             "Oreo Original Mini Cookies Multipack",
             "Oreo Minis Cookies Variety Bags 18 Pack",
             "Oreo Original Cookies",
             "Oreo Double Stuff Cookies",
             "Oreo Original Cookies Family Pack",
             "Oreo Chocolate Cookies",
             "Oreo Grab & Go Original Cookies 9 Pack",
             "Oreo Neapolitan Double Stuff Cookies"
            ],
            [
             "Kitkat 4 Finger Milk Chocolate Bar",
             "Kitkat Chunky Original Chocolate Bar",
             "Woolworths Chocolate Chip Cookies",
             "Dairy Farmers Full Cream Milk Full Cream Milk",
             "A2 Milk Full Cream Milk",
             "Woolworths Creamed Rice"
            ],
            [
             "Oreo Original Mini Cookies Multipack",
             "Oreo Minis Cookies Variety Bags 18 Pack",
             "Oreo Original Cookies",
             "Oreo Double Stuff Cookies",
             "Oreo Original Cookies Family Pack",
             "Oreo Chocolate Cookies",
             "Oreo Grab & Go Original Cookies 9 Pack",
             "Oreo Neapolitan Double Stuff Cookies"
            ],
            [
             "Kitkat 4 Finger Milk Chocolate Bar",
             "Kitkat Chunky Original Chocolate Bar",
             "Cadbury Dairy Milk Caramello Koala Chocolate",
             "Cadbury Dairy Milk Chocolate Roll",
             "Cadbury Dairy Milk Chocolate Bar",
             "Cadbury Twirl Chocolate Bar",
             "Cadbury Chomp Chocolate Bar",
             "Byron Bay Cookies Dotty Cookie Bites"
            ],
            [
             "Indomie Mi Goreng Instant Noodles",
             "Indomie Mi Goreng Noodle Cup",
             "Maggi 2 Minute Beef Flavour Instant Noodles",
             "Supreme Noodles Cup Beef Flavour",
             "Kitkat 4 Finger Milk Chocolate Bar",
             "Kitkat Chunky Original Chocolate Bar",
             "Woolworths Chocolate Chip Cookies"
            ],
            [
             "Maggi 2 Minute Chicken Flavour Instant Noodles",
             "Supreme Noodles Cup Chicken Flavour",
             "Fantastic Chicken Noodle Cup",
             "Oreo Neapolitan Double Stuff Cookies",
             "Smith's Crinkle Cut Potato Chips Cheese & Onion",
             "Smith's Crinkle Cut Potato Chips Barbecue",
             "Smith's Crinkle Cut Potato Chips Chicken"
            ],
            [
             "Schweppes Orange Mango Natural Mineral Water Bottle",
             "Woolworths Orange Juice",
             "Woolworths Breakfast Juice",
             "Woolworths Multivitamin Juice",
             "Golden Circle Drinks Pine Orange Fruit Drink",
             "Golden Circle Drinks Sunshine Punch Fruit Drink",
             "Golden Circle Fruit Drinks Lunch Box Poppers Tropical Punch Multipack"
            ],
            [
             "Cadbury Dairy Milk Caramello Koala Chocolate",
             "Cadbury Dairy Milk Chocolate Roll",
             "Cadbury Dairy Milk Chocolate Bar",
             "Cadbury Twirl Chocolate Bar",
             "Woolworths Full Cream Milk",
             "Pauls Farmhouse Gold Full Cream Milk"
            ],
            [
             "Oreo Original Mini Cookies Multipack",
             "Oreo Minis Cookies Variety Bags 18 Pack",
             "Oreo Original Cookies",
             "Oreo Double Stuff Cookies",
             "Oreo Original Cookies Family Pack",
             "Oreo Chocolate Cookies",
             "Oreo Neapolitan Double Stuff Cookies"
            ],
            [
             "Woolworths Apple & Mango Juice",
             "Woolworths Breakfast Juice",
             "Woolworths Apple & Blackcurrant Juice",
             "Woolworths Multivitamin Juice",
             "Golden Circle Golden Pash Fruit Drink",
             "Golden Circle Drinks Sunshine Punch Fruit Drink",
             "Golden Circle Fruit Drinks Lunch Box Poppers Tropical Punch Multipack"
            ],
            [
             "Woolworths Secret Burger Sauce",
             "Smith's Crinkle Cut Potato Chips Original",
             "Smith's Crinkle Cut Potato Chips Cheese & Onion",
             "Smith's Crinkle Cut Potato Chips Barbecue",
             "Smith's Crinkle Cut Potato Chips Chicken",
             "Smith's Thinly Cut Potato Chips Original Share Pack",
             "Smith's Crinkle Cut Potato Chips Salt & Vinegar"
            ],
            [
             "Indomie Mi Goreng Instant Noodles",
             "Maggi 2 Minute Chicken Flavour Instant Noodles",
             "Indomie Mi Goreng Noodle Cup",
             "Maggi 2 Minute Beef Flavour Instant Noodles",
             "Masterfoods Tomato Sauce",
             "Masterfoods Barbecue Sauce"
            ],
            [
             "Smith's Crinkle Cut Potato Chips Original",
             "Smith's Crinkle Cut Potato Chips Cheese & Onion",
             "Smith's Crinkle Cut Potato Chips Barbecue",
             "Smith's Crinkle Cut Potato Chips Chicken",
             "Smith's Thinly Cut Potato Chips Original Share Pack",
             "Smith's Crinkle Cut Potato Chips Salt & Vinegar"
            ],
            [
             "Coca - Cola Zero Sugar Soft Drink Multipack Cans",
             "Coca - Cola Caffeine Free Zero Sugar Soft Drink Multipack Cans",
             "Coca - Cola Zero Sugar Soft Drink Mini Cans",
             "Schweppes Zero Sugar Classic Mixers Indian Tonic Water Bottle"
            ],
            [
             "Coca - Cola Zero Sugar Soft Drink Multipack Cans",
             "Coca - Cola Caffeine Free Zero Sugar Soft Drink Multipack Cans",
             "Coca - Cola Zero Sugar Soft Drink Mini Cans",
             "Schweppes Zero Sugar Classic Mixers Indian Tonic Water Bottle"
            ],
            [
             "Coca - Cola Zero Sugar Soft Drink Multipack Cans",
             "Coca - Cola Caffeine Free Zero Sugar Soft Drink Multipack Cans",
             "Coca - Cola Zero Sugar Soft Drink Mini Cans",
             "Schweppes Zero Sugar Classic Mixers Indian Tonic Water Bottle"
            ],
            [
             "Woolworths Peach In Strawberry Jelly",
             "Woolworths Two Fruits In Juice Cups",
             "Woolworths Two Fruits In Juice",
             "Woolworths Two Fruits In Tropical Jelly"
            ],
            [
             "Woolworths Chocolate Chip Cookies",
             "Woolworths The King Of Chunky Chocolate Chip Cookies",
             "Smith's Crinkle Cut Potato Chips Cheese & Onion",
             "Thins Chips Light & Tangy",
             "Thins Cheese & Onion Chips"
            ],
            [
             "Woolworths Diced Italian Tomatoes",
             "Masterfoods Barbecue Sauce",
             "Fountain Barbecue Bbq Sauce Squeeze",
             "Heinz Ketchup Tomato Sauce Ketchup"
            ],
            [
             "Woolworths Breakfast Juice",
             "Woolworths Multivitamin Juice",
             "Golden Circle Golden Pash Fruit Drink",
             "Golden Circle Drinks Sunshine Punch Fruit Drink",
             "Golden Circle Fruit Drinks Lunch Box Poppers Tropical Punch Multipack"
            ],
            [
             "Woolworths Breakfast Juice",
             "Golden Circle Golden Pash Fruit Drink",
             "Golden Circle Drinks Pine Orange Fruit Drink",
             "Golden Circle Drinks Sunshine Punch Fruit Drink",
             "Golden Circle Fruit Drinks Lunch Box Poppers Tropical Punch Multipack"
            ],
            [
             "Indomie Mi Goreng Instant Noodles",
             "Indomie Mi Goreng Noodle Cup",
             "Schweppes Lime Soda Water With Lime Juice Bottle",
             "Schweppes Lemon Lime Natural Mineral Water Bottle",
             "Schweppes Orange Mango Natural Mineral Water Bottle"
            ],
            [
             "Schweppes Indian Tonic Water Classic Mixers Bottle",
             "Schweppes Zero Sugar Classic Mixers Indian Tonic Water Bottle",
             "Cadbury Chomp Chocolate Bar",
             "Oreo Minis Cookies Variety Bags 18 Pack",
             "Oreo Neapolitan Double Stuff Cookies"
            ],
            [
             "Supreme Noodles Cup Chicken Flavour",
             "Fantastic Chicken Noodle Cup",
             "Maggi 2 Minute Beef Flavour Instant Noodles",
             "Supreme Noodles Cup Beef Flavour",
             "Kitkat Chunky Original Chocolate Bar"
            ],
            [
             "Maggi 2 Minute Chicken Flavour Instant Noodles",
             "Fantastic Chicken Noodle Cup",
             "Maggi 2 Minute Beef Flavour Instant Noodles",
             "Supreme Noodles Cup Beef Flavour"
            ],
            [
             "Indomie Mi Goreng Instant Noodles",
             "Indomie Mi Goreng Noodle Cup",
             "Woolworths Barbecue Sauce Squeeze",
             "Fountain Barbecue Bbq Sauce Squeeze",
             "Woolworths Barbecue Sauce"
            ],
            [
             "Cadbury Classic Choc Chip Cookies",
             "Cadbury Choc Centre Cookies",
             "Smith's Crinkle Cut Potato Chips Cheese & Onion",
             "Smith's Crinkle Cut Potato Chips Salt & Vinegar"
            ],
            [
             "Woolworths Two Fruits In Juice Cups",
             "Woolworths Two Fruits In Juice",
             "Woolworths Two Fruits In Tropical Jelly"
            ],
            [
             "Smith's Crinkle Cut Potato Chips Original",
             "Smith's Crinkle Cut Potato Chips Chicken",
             "Smith's Thinly Cut Potato Chips Original Share Pack",
             "Smith's Crinkle Cut Potato Chips Salt & Vinegar"
            ],
            [
             "Smith's Crinkle Cut Potato Chips Original",
             "Smith's Crinkle Cut Potato Chips Chicken",
             "Smith's Thinly Cut Potato Chips Original Share Pack",
             "Smith's Crinkle Cut Potato Chips Salt & Vinegar"
            ],
            [
             "Woolworths Tomato Sauce Squeeze",
             "Woolworths Tomato Sauce",
             "Woolworths Barbecue Sauce Squeeze",
             "Woolworths Barbecue Sauce"
            ],
            [
             "Woolworths Tomato Sauce Squeeze",
             "Woolworths Tomato Sauce",
             "Woolworths Barbecue Sauce Squeeze",
             "Woolworths Barbecue Sauce"
            ],
            [
             "Woolworths Multivitamin Juice",
             "Golden Circle Golden Pash Fruit Drink",
             "Golden Circle Drinks Sunshine Punch Fruit Drink",
             "Golden Circle Fruit Drinks Lunch Box Poppers Tropical Punch Multipack"
            ],
            [
             "Woolworths Spring Water Bottles",
             "Woolworths Spring Water"
            ],
            [
             "Schweppes Orange Mango Natural Mineral Water Bottle",
             "Woolworths Apple & Mango Juice",
             "Woolworths Breakfast Juice",
             "Woolworths Multivitamin Juice"
            ],
            [
             "Maggi 2 Minute Chicken Flavour Instant Noodles",
             "Fantastic Chicken Noodle Bowl",
             "Maggi 2 Minute Beef Flavour Instant Noodles"
            ],
            [
             "Maggi 2 Minute Chicken Flavour Instant Noodles",
             "Fantastic Chicken Noodle Bowl",
             "Maggi 2 Minute Beef Flavour Instant Noodles"
            ],
            [
             "Maggi 2 Minute Chicken Flavour Instant Noodles",
             "Smith's Crinkle Cut Potato Chips Chicken",
             "Thins Chips Chicken",
             "Thins Cheese & Onion Chips"
            ],
            [
             "Maggi 2 Minute Chicken Flavour Instant Noodles",
             "Fantastic Chicken Noodle Bowl",
             "Maggi 2 Minute Beef Flavour Instant Noodles"
            ],
            [
             "Indomie Mi Goreng Instant Noodles",
             "Supreme Noodles Cup Chicken Flavour",
             "Fantastic Chicken Noodle Cup",
             "Indomie Mi Goreng Noodle Cup"
            ],
            [
             "Indomie Mi Goreng Instant Noodles",
             "Indomie Mi Goreng Noodle Cup",
             "Masterfoods Barbecue Sauce",
             "Thins Chips Chicken"
            ],
            [
             "Indomie Mi Goreng Instant Noodles",
             "Indomie Mi Goreng Noodle Cup",
             "Supreme Noodles Cup Beef Flavour",
             "Smith's Crinkle Cut Potato Chips Barbecue"
            ],
            [
             "Woolworths Peach In Strawberry Jelly",
             "Woolworths Two Fruits In Tropical Jelly",
             "Woolworths Apple In Pineapple Jelly"
            ],
            [
             "Woolworths Tomato Sauce Squeeze",
             "Woolworths Tomato Sauce",
             "Masterfoods Tomato Sauce"
            ],
            [
             "Woolworths Barbecue Sauce Squeeze",
             "Fountain Barbecue Bbq Sauce Squeeze",
             "Woolworths Barbecue Sauce"
            ],
            [
             "Masterfoods Tomato Sauce",
             "Masterfoods Barbecue Sauce",
             "Thins Chips Salt & Vinegar"
            ],
            [
             "Smith's Crinkle Cut Potato Chips Original",
             "Smith's Crinkle Cut Potato Chips Chicken",
             "Smith's Thinly Cut Potato Chips Original Share Pack"
            ],
            [
             "Smith's Crinkle Cut Potato Chips Barbecue",
             "Thins Chips Salt & Vinegar",
             "Smith's Crinkle Cut Potato Chips Salt & Vinegar"
            ],
            [
             "Woolworths Peach In Strawberry Jelly",
             "Woolworths Two Fruits In Tropical Jelly",
             "Woolworths Apple In Pineapple Jelly"
            ],
            [
             "Woolworths Peach In Strawberry Jelly",
             "Woolworths Two Fruits In Tropical Jelly",
             "Woolworths Apple In Pineapple Jelly"
            ],
            [
             "Woolworths Peach In Strawberry Jelly",
             "Woolworths Two Fruits In Tropical Jelly",
             "Woolworths Apple In Pineapple Jelly"
            ],
            [
             "Cadbury Classic Choc Chip Cookies",
             "Cadbury Choc Centre Cookies",
             "Byron Bay Cookies Dotty Cookie Bites"
            ],
            [
             "Woolworths Peach In Strawberry Jelly",
             "Woolworths Two Fruits In Tropical Jelly",
             "Woolworths Apple In Pineapple Jelly"
            ],
            [
             "Woolworths Peach In Strawberry Jelly",
             "Woolworths Two Fruits In Tropical Jelly",
             "Woolworths Apple In Pineapple Jelly"
            ],
            [
             "Woolworths Peach In Strawberry Jelly",
             "Woolworths Two Fruits In Tropical Jelly",
             "Woolworths Apple In Pineapple Jelly"
            ],
            [
             "Golden Circle Golden Pash Fruit Drink",
             "Golden Circle Drinks Sunshine Punch Fruit Drink",
             "Golden Circle Fruit Drinks Lunch Box Poppers Tropical Punch Multipack"
            ],
            [
             "Woolworths Secret Burger Sauce",
             "Woolworths Two Fruits In Tropical Jelly",
             "Woolworths Apple In Pineapple Jelly"
            ],
            [
             "Woolworths The King Of Chunky Chocolate Chip Cookies",
             "Arnott's Mini Choc Chip Cookie Multipack Biscuits",
             "Byron Bay Cookies Dotty Cookie Bites"
            ],
            [
             "Maggi 2 Minute Chicken Flavour Instant Noodles",
             "Fantastic Chicken Noodle Bowl"
            ],
            [
             "Woolworths The King Of Chunky Chocolate Chip Cookies",
             "Byron Bay Cookies Dotty Cookie Bites",
             "Woolworths Creamed Rice"
            ],
            [
             "Indomie Mi Goreng Instant Noodles",
             "Fantastic Chicken Noodle Bowl",
             "Indomie Mi Goreng Noodle Cup"
            ],
            [
             "Indomie Mi Goreng Instant Noodles",
             "Fantastic Chicken Noodle Bowl",
             "Indomie Mi Goreng Noodle Cup"
            ],
            [
             "Maggi 2 Minute Chicken Flavour Instant Noodles",
             "Maggi 2 Minute Beef Flavour Instant Noodles"
            ],
            [
             "Maggi 2 Minute Chicken Flavour Instant Noodles",
             "Maggi 2 Minute Beef Flavour Instant Noodles"
            ],
            [
             "Maggi 2 Minute Chicken Flavour Instant Noodles",
             "Fantastic Chicken Noodle Bowl"
            ],
            [
             "Indomie Mi Goreng Instant Noodles",
             "Fantastic Chicken Noodle Bowl",
             "Indomie Mi Goreng Noodle Cup"
            ],
            [
             "Maggi 2 Minute Chicken Flavour Instant Noodles",
             "Thins Cheese & Onion Chips"
            ],
            [
             "Supreme Noodles Cup Chicken Flavour",
             "Fantastic Chicken Noodle Cup",
             "Supreme Noodles Cup Beef Flavour"
            ],
            [
             "Fantastic Chicken Noodle Bowl",
             "Woolworths Chocolate Chip Cookies",
             "Woolworths The King Of Chunky Chocolate Chip Cookies"
            ],
            [
             "Schweppes Lime Soda Water With Lime Juice Bottle",
             "Schweppes Lemon Lime Natural Mineral Water Bottle",
             "Schweppes Orange Mango Natural Mineral Water Bottle"
            ],
            [
             "Kitkat 4 Finger Milk Chocolate Bar",
             "Kitkat Chunky Original Chocolate Bar",
             "Thins Cheese & Onion Chips"
            ],
            [
             "Cadbury Dairy Milk Caramello Koala Chocolate",
             "Cadbury Classic Choc Chip Cookies",
             "Masterfoods Barbecue Sauce"
            ],
            [
             "Arnott's Premier Chocolate Chip Cookies",
             "Arnott's Mini Choc Chip Cookie Multipack Biscuits"
            ],
            [
             "Cadbury Classic Choc Chip Cookies",
             "Cadbury Choc Centre Cookies"
            ],
            [
             "Cadbury Classic Choc Chip Cookies",
             "Byron Bay Cookies Dotty Cookie Bites"
            ],
            [
             "Cadbury Classic Choc Chip Cookies",
             "Cadbury Choc Centre Cookies"
            ],
            [
             "Cadbury Classic Choc Chip Cookies",
             "Cadbury Choc Centre Cookies"
            ],
            [
             "Oreo Minis Cookies Variety Bags 18 Pack",
             "Oreo Neapolitan Double Stuff Cookies"
            ],
            [
             "Woolworths Chocolate Chip Cookies",
             "Woolworths The King Of Chunky Chocolate Chip Cookies"
            ],
            [
             "Woolworths Chocolate Chip Cookies",
             "Woolworths The King Of Chunky Chocolate Chip Cookies"
            ],
            [
             "Woolworths Chocolate Chip Cookies",
             "Woolworths The King Of Chunky Chocolate Chip Cookies"
            ],
            [
             "Kitkat 4 Finger Milk Chocolate Bar",
             "Kitkat Chunky Original Chocolate Bar"
            ],
            [
             "Arnott's Premier Chocolate Chip Cookies",
             "Arnott's Mini Choc Chip Cookie Multipack Biscuits"
            ],
            [
             "Arnott's Premier Chocolate Chip Cookies",
             "Cadbury Choc Centre Cookies"
            ],
            [
             "Arnott's Premier Chocolate Chip Cookies",
             "Arnott's Mini Choc Chip Cookie Multipack Biscuits"
            ],
            [
             "Cadbury Chomp Chocolate Bar",
             "Byron Bay Cookies Dotty Cookie Bites"
            ],
            [
             "Mars Chocolate Bar With Nougat & Caramel",
             "Cadbury Chomp Chocolate Bar"
            ],
            [
             "Cadbury Dairy Milk Caramello Koala Chocolate",
             "Cadbury Chomp Chocolate Bar"
            ],
            [
             "Schweppes Lemon Lime Natural Mineral Water Bottle",
             "Woolworths Multivitamin Juice"
            ],
            [
             "Kitkat 4 Finger Milk Chocolate Bar",
             "Kitkat Chunky Original Chocolate Bar"
            ],
            [
             "Cadbury Classic Choc Chip Cookies",
             "Woolworths Secret Burger Sauce"
            ],
            [
             "Goulburn Valley Two Fruits In Juice",
             "Goulburn Valley Two Fruits In Juice Fruit Cups In Juice"
            ],
            [
             "Golden Circle Drinks Pine Orange Fruit Drink",
             "Golden Circle Drinks Sunshine Punch Fruit Drink"
            ],
            [
             "Golden Circle Drinks Sunshine Punch Fruit Drink",
             "Golden Circle Fruit Drinks Lunch Box Poppers Tropical Punch Multipack"
            ],
            [
             "Schweppes Lemon Lime Natural Mineral Water Bottle",
             "Schweppes Orange Mango Natural Mineral Water Bottle"
            ],
            [
             "Dole Pineapple Slices In Syrup",
             "Dole Pineapple Chunks In Juice"
            ],
            [
             "Goulburn Valley Two Fruits In Juice",
             "Goulburn Valley Two Fruits In Juice Fruit Cups In Juice"
            ],
            [
             "Goulburn Valley Two Fruits In Juice",
             "Goulburn Valley Two Fruits In Juice Fruit Cups In Juice"
            ],
            [
             "Woolworths Two Fruits In Juice Cups",
             "Woolworths Two Fruits In Juice"
            ],
            [
             "Smith's Crinkle Cut Potato Chips Cheese & Onion",
             "Smith's Crinkle Cut Potato Chips Chicken"
            ],
            [
             "Smith's Crinkle Cut Potato Chips Cheese & Onion",
             "Thins Cheese & Onion Chips"
            ],
            [
             "Frantelle Australian Still Spring Water Bottles Multipack",
             "Mount Franklin Spring Water Bottle"
            ],
            [
             "Woolworths Secret Burger Sauce",
             "Woolworths Two Fruits In Tropical Jelly"
            ],
            [
             "Fountain Tomato Sauce Squeeze",
             "Fountain Barbecue Bbq Sauce Squeeze"
            ],
            [
             "Woolworths Barbecue Sauce Squeeze",
             "Woolworths Barbecue Sauce"
            ],
            [
             "Woolworths Barbecue Sauce Squeeze",
             "Woolworths Barbecue Sauce"
            ],
            [
             "Woolworths Barbecue Sauce Squeeze",
             "Woolworths Barbecue Sauce"
            ],
            [
             "Woolworths Barbecue Sauce Squeeze",
             "Masterfoods Tomato Sauce"
            ],
            [
             "Woolworths Tomato Sauce Squeeze",
             "Woolworths Tomato Sauce"
            ],
            [
             "Essentials Coconut Cream",
             "Essentials Coconut Milk"
            ],
            [
             "Woolworths Diced Italian Tomatoes"
            ],
            [
             "Schweppes Lemon Lime Natural Mineral Water Bottle",
             "Schweppes Orange Mango Natural Mineral Water Bottle"
            ],
            [
             "Cadbury Classic Choc Chip Cookies",
             "Cadbury Choc Centre Cookies"
            ],
            [
             "Schweppes Lemon Lime Natural Mineral Water Bottle",
             "Schweppes Orange Mango Natural Mineral Water Bottle"
            ],
            [
             "Indomie Mi Goreng Instant Noodles",
             "Indomie Mi Goreng Noodle Cup"
            ],
            [
             "Indomie Mi Goreng Instant Noodles",
             "Indomie Mi Goreng Noodle Cup"
            ],
            [
             "Indomie Mi Goreng Instant Noodles",
             "Indomie Mi Goreng Noodle Cup"
            ],
            [
             "Indomie Mi Goreng Instant Noodles",
             "Indomie Mi Goreng Noodle Cup"
            ],
            [
             "Indomie Mi Goreng Instant Noodles",
             "Indomie Mi Goreng Noodle Cup"
            ],
            [
             "Indomie Mi Goreng Instant Noodles",
             "Indomie Mi Goreng Noodle Cup"
            ],
            [
             "Indomie Mi Goreng Instant Noodles",
             "Indomie Mi Goreng Noodle Cup"
            ],
            [
             "Indomie Mi Goreng Instant Noodles",
             "Indomie Mi Goreng Noodle Cup"
            ],
            [
             "Indomie Mi Goreng Instant Noodles",
             "Indomie Mi Goreng Noodle Cup"
            ],
            [
             "Indomie Mi Goreng Instant Noodles",
             "Indomie Mi Goreng Noodle Cup"
            ],
            [
             "Indomie Mi Goreng Instant Noodles",
             "Indomie Mi Goreng Noodle Cup"
            ],
            [
             "Indomie Mi Goreng Instant Noodles",
             "Indomie Mi Goreng Noodle Cup"
            ],
            [
             "Indomie Mi Goreng Instant Noodles",
             "Indomie Mi Goreng Noodle Cup"
            ],
            [
             "Indomie Mi Goreng Instant Noodles",
             "Indomie Mi Goreng Noodle Cup"
            ],
            [
             "Indomie Mi Goreng Instant Noodles",
             "Indomie Mi Goreng Noodle Cup"
            ],
            [
             "Indomie Mi Goreng Instant Noodles",
             "Indomie Mi Goreng Noodle Cup"
            ],
            [
             "Indomie Mi Goreng Instant Noodles",
             "Indomie Mi Goreng Noodle Cup"
            ],
            [
             "Schweppes Lime Soda Water With Lime Juice Bottle",
             "Schweppes Lemon Lime Natural Mineral Water Bottle"
            ],
            [
             "Indomie Mi Goreng Instant Noodles",
             "Indomie Mi Goreng Noodle Cup"
            ],
            [
             "Indomie Mi Goreng Instant Noodles",
             "Indomie Mi Goreng Noodle Cup"
            ],
            [
             "Maggi 2 Minute Chicken Flavour Instant Noodles",
             "Oreo Neapolitan Double Stuff Cookies"
            ],
            [
             "Fantastic Chicken Noodle Cup",
             "Fantastic Chicken Noodle Bowl"
            ],
            [
             "Maggi 2 Minute Chicken Flavour Instant Noodles"
            ],
            [
             "Schweppes Lime Soda Water With Lime Juice Bottle",
             "Schweppes Orange Mango Natural Mineral Water Bottle"
            ],
            [
             "Schweppes Indian Tonic Water Classic Mixers Bottle",
             "Schweppes Zero Sugar Classic Mixers Indian Tonic Water Bottle"
            ],
            [
             "Schweppes Indian Tonic Water Classic Mixers Bottle",
             "Schweppes Zero Sugar Classic Mixers Indian Tonic Water Bottle"
            ],
            [
             "Schweppes Indian Tonic Water Classic Mixers Bottle",
             "Schweppes Zero Sugar Classic Mixers Indian Tonic Water Bottle"
            ],
            [
             "Schweppes Indian Tonic Water Classic Mixers Bottle",
             "Schweppes Zero Sugar Classic Mixers Indian Tonic Water Bottle"
            ],
            [
             "Schweppes Zero Sugar Lime Infused Mineral Water Bottle",
             "Schweppes Raspberry Infused Natural Mineral Water Bottle"
            ],
            [
             "Fantastic Chicken Noodle Bowl",
             "Supreme Noodles Cup Beef Flavour"
            ],
            [
             "Schweppes Indian Tonic Water Classic Mixers Bottle",
             "Schweppes Zero Sugar Classic Mixers Indian Tonic Water Bottle"
            ],
            [
             "Supreme Noodles Cup Chicken Flavour",
             "Fantastic Chicken Noodle Cup"
            ],
            [
             "Maggi 2 Minute Chicken Flavour Instant Noodles"
            ],
            [
             "Maggi 2 Minute Chicken Flavour Instant Noodles",
             "Cadbury Classic Choc Chip Cookies"
            ],
            [
             "Maggi 2 Minute Chicken Flavour Instant Noodles"
            ],
            [
             "Maggi 2 Minute Chicken Flavour Instant Noodles"
            ],
            [
             "Maggi 2 Minute Chicken Flavour Instant Noodles"
            ],
            [
             "Maggi 2 Minute Chicken Flavour Instant Noodles"
            ],
            [
             "Maggi 2 Minute Chicken Flavour Instant Noodles",
             "Maggi 2 Minute Beef Flavour Instant Noodles"
            ],
            [
             "Essentials Coconut Cream"
            ],
            [
             "Woolworths Uht Full Cream Milk"
            ],
            [
             "Deep Cove Sardines In Oil"
            ],
            [
             "Woolworths Creamed Rice"
            ],
            [
             "Woolworths Creamed Rice"
            ],
            [
             "Woolworths Creamed Rice"
            ],
            [
             "Essentials Coconut Milk"
            ],
            [
             "Masterfoods Barbecue Sauce"
            ],
            [
             "Woolworths Barbecue Sauce Squeeze"
            ],
            [
             "Woolworths Barbecue Sauce Squeeze"
            ],
            [
             "Masterfoods Barbecue Sauce"
            ],
            [
             "Masterfoods Barbecue Sauce"
            ],
            [
             "Masterfoods Barbecue Sauce"
            ],
            [
             "Masterfoods Barbecue Sauce"
            ],
            [
             "Masterfoods Barbecue Sauce"
            ],
            [
             "Fountain Tomato Sauce Squeeze"
            ],
            [
             "Woolworths Lasagne Sheets"
            ],
            [
             "Woolworths Multivitamin Juice"
            ],
            [
             "Oreo Grab & Go Original Cookies 9 Pack"
            ],
            [
             "Oreo Grab & Go Original Cookies 9 Pack"
            ],
            [
             "Fountain Barbecue Bbq Sauce Squeeze"
            ],
            [
             "Rimmel Scandaleyes Eye Definer Brown"
            ],
            [
             "Rimmel Scandaleyes Eye Definer Brown"
            ],
            [
             "Rimmel Scandaleyes Eye Definer Brown"
            ],
            [
             "Woolworths Apple Juice"
            ],
            [
             "Woolworths Breakfast Juice"
            ],
            [
             "Woolworths Apple & Blackcurrant Juice"
            ],
            [
             "Woolworths Apple & Blackcurrant Juice"
            ],
            [
             "Woolworths Multivitamin Juice"
            ],
            [
             "Woolworths Multivitamin Juice"
            ],
            [
             "Woolworths Multivitamin Juice"
            ],
            [
             "Woolworths Multivitamin Juice"
            ],
            [
             "Golden Circle Drinks Sunshine Punch Fruit Drink"
            ],
            [
             "Norco Full Cream Milk"
            ],
            [
             "Pauls Farmhouse Gold Full Cream Milk"
            ],
            [
             "Fountain Barbecue Bbq Sauce Squeeze"
            ],
            [
             "Smith's Crinkle Cut Potato Chips Salt & Vinegar"
            ],
            [
             "Fountain Barbecue Bbq Sauce Squeeze"
            ],
            [
             "Thins Chips Light & Tangy"
            ],
            [
             "Thins Chips Light & Tangy"
            ],
            [
             "Thins Cheese & Onion Chips"
            ],
            [
             "Thins Cheese & Onion Chips"
            ],
            [
             "Woolworths Peach In Strawberry Jelly"
            ],
            [
             "Woolworths Peach In Strawberry Jelly"
            ],
            [
             "Woolworths Two Fruits In Juice"
            ],
            [
             "Woolworths Two Fruits In Juice"
            ],
            [
             "Woolworths Two Fruits In Juice"
            ],
            [
             "Woolworths Two Fruits In Juice"
            ],
            [
             "Woolworths Two Fruits In Tropical Jelly"
            ],
            [
             "Woolworths Two Fruits In Tropical Jelly"
            ],
            [
             "Woolworths Apple In Pineapple Jelly"
            ],
            [
             "Woolworths Apple In Pineapple Jelly"
            ],
            [
             "Dole Pineapple Slices In Syrup"
            ],
            [
             "Dole Pineapple Chunks In Juice"
            ],
            [
             "Thins Chips Light & Tangy"
            ],
            [
             "Rimmel Scandaleyes Eye Definer Brown"
            ],
            [
             "Woolworths Secret Burger Sauce"
            ],
            [
             "Thins Chips Chicken"
            ],
            [
             "Woolworths Secret Burger Sauce"
            ],
            [
             "Woolworths Secret Burger Sauce"
            ],
            [
             "Woolworths Secret Burger Sauce"
            ],
            [
             "Woolworths Secret Burger Sauce"
            ],
            [
             "Woolworths Secret Burger Sauce"
            ],
            [
             "Woolworths Secret Burger Sauce"
            ],
            [
             "Woolworths Secret Burger Sauce"
            ],
            [
             "Heinz Ketchup Tomato Sauce Ketchup"
            ],
            [
             "Woolworths Barbecue Sauce"
            ],
            [
             "Woolworths Barbecue Sauce"
            ],
            [
             "Smith's Crinkle Cut Potato Chips Barbecue"
            ],
            [
             "Smith's Crinkle Cut Potato Chips Barbecue"
            ],
            [
             "Smith's Crinkle Cut Potato Chips Chicken"
            ],
            [
             "Smith's Crinkle Cut Potato Chips Chicken"
            ],
            [
             "Thins Chips Chicken"
            ],
            [
             "Rimmel Scandaleyes Eye Definer Brown"
            ],
            [
             "Byron Bay Cookies Dotty Cookie Bites"
            ],
            [
             "Rimmel Scandaleyes Eye Definer Brown"
            ],
            [
             "Schweppes Lime Soda Water With Lime Juice Bottle"
            ],
            [
             "Schweppes Lemon Lime Natural Mineral Water Bottle"
            ],
            [
             "Schweppes Orange Mango Natural Mineral Water Bottle"
            ],
            [
             "Schweppes Orange Mango Natural Mineral Water Bottle"
            ],
            [
             "Schweppes Orange Mango Natural Mineral Water Bottle"
            ],
            [
             "Schweppes Orange Mango Natural Mineral Water Bottle"
            ],
            [
             "Kitkat 4 Finger Milk Chocolate Bar"
            ],
            [
             "Kitkat Chunky Original Chocolate Bar"
            ],
            [
             "Cadbury Dairy Milk Caramello Koala Chocolate"
            ],
            [
             "Cadbury Dairy Milk Caramello Koala Chocolate"
            ],
            [
             "Cadbury Dairy Milk Caramello Koala Chocolate"
            ],
            [
             "Twix Milk Chocolate Bar With Caramel Biscuit"
            ],
            [
             "Twix Milk Chocolate Bar With Caramel Biscuit"
            ],
            [
             "Twix Milk Chocolate Bar With Caramel Biscuit"
            ],
            [
             "Mars Chocolate Bar With Nougat & Caramel"
            ],
            [
             "Mars Chocolate Bar With Nougat & Caramel"
            ],
            [
             "Schweppes Lemon Lime Natural Mineral Water Bottle"
            ],
            [
             "Schweppes Lime Soda Water With Lime Juice Bottle"
            ],
            [
             "Cadbury Chomp Chocolate Bar"
            ],
            [
             "Schweppes Lime Soda Water With Lime Juice Bottle"
            ],
            [
             "Coca - Cola Caffeine Free Zero Sugar Soft Drink Multipack Cans"
            ],
            [
             "Maggi 2 Minute Chicken Flavour Instant Noodles"
            ],
            [
             "Maggi 2 Minute Chicken Flavour Instant Noodles"
            ],
            [
             "Fantastic Chicken Noodle Cup"
            ],
            [
             "Fantastic Chicken Noodle Cup"
            ],
            [
             "Fantastic Chicken Noodle Bowl"
            ],
            [
             "Fantastic Chicken Noodle Bowl"
            ],
            [
             "Fantastic Chicken Noodle Bowl"
            ],
            [
             "Maggi 2 Minute Beef Flavour Instant Noodles"
            ],
            [
             "Maggi 2 Minute Beef Flavour Instant Noodles"
            ],
            [
             "Maggi 2 Minute Beef Flavour Instant Noodles"
            ],
            [
             "Supreme Noodles Cup Beef Flavour"
            ],
            [
             "Supreme Noodles Cup Beef Flavour"
            ],
            [
             "Schweppes Natural Mineral Water Bottle Natural"
            ],
            [
             "Schweppes Soda Water Bottle Classic Mixers"
            ],
            [
             "Mars Chocolate Bar With Nougat & Caramel"
            ],
            [
             "Cadbury Chomp Chocolate Bar"
            ],
            [
             "Rimmel Scandaleyes Eye Definer Brown"
            ],
            [
             "Byron Bay Cookies Dotty Cookie Bites"
            ],
            [
             "Byron Bay Cookies Dotty Cookie Bites"
            ],
            [
             "Byron Bay Cookies Dotty Cookie Bites"
            ],
            [
             "Byron Bay Cookies Dotty Cookie Bites"
            ],
            [
             "Byron Bay Cookies Dotty Cookie Bites"
            ],
            [
             "Byron Bay Cookies Dotty Cookie Bites"
            ],
            [
             "Rimmel Scandaleyes Eye Definer Brown"
            ],
            [
             "Rimmel Scandaleyes Eye Definer Brown"
            ],
            [
             "Rimmel Scandaleyes Eye Definer Brown"
            ],
            [
             "Rimmel Scandaleyes Eye Definer Brown"
            ],
            [
             "Rimmel Scandaleyes Eye Definer Brown"
            ],
            [
             "Rimmel Scandaleyes Eye Definer Brown"
            ],
            [
             "Rimmel Scandaleyes Eye Definer Brown"
            ],
            [
             "Rimmel Scandaleyes Eye Definer Brown"
            ],
            [
             "Rimmel Scandaleyes Eye Definer Brown"
            ],
            [
             "Rimmel Scandaleyes Eye Definer Brown"
            ],
            [
             "Byron Bay Cookies Dotty Cookie Bites"
            ],
            [
             "Byron Bay Cookies Dotty Cookie Bites"
            ],
            [
             "Arnott's Premier Chocolate Chip Cookies"
            ],
            [
             "Byron Bay Cookies Dotty Cookie Bites"
            ],
            [
             "Arnott's Premier Chocolate Chip Cookies"
            ],
            [
             "Woolworths Chocolate Chip Cookies"
            ],
            [
             "Woolworths Chocolate Chip Cookies"
            ],
            [
             "Woolworths Chocolate Chip Cookies"
            ],
            [
             "Woolworths Chocolate Chip Cookies"
            ],
            [
             "Woolworths Chocolate Chip Cookies"
            ],
            [
             "Woolworths The King Of Chunky Chocolate Chip Cookies"
            ],
            [
             "Woolworths The King Of Chunky Chocolate Chip Cookies"
            ],
            [
             "Woolworths The King Of Chunky Chocolate Chip Cookies"
            ],
            [
             "Arnott's Mini Choc Chip Cookie Multipack Biscuits"
            ],
            [
             "Arnott's Mini Choc Chip Cookie Multipack Biscuits"
            ],
            [
             "Oreo Minis Cookies Variety Bags 18 Pack"
            ],
            [
             "Cadbury Classic Choc Chip Cookies"
            ],
            [
             "Cadbury Choc Centre Cookies"
            ],
            [
             "Cadbury Choc Centre Cookies"
            ],
            [
             "Dole Pineapple Chunks In Juice"
            ]
           ],
           [
            0.3188405797101449,
            0.24154589371980675,
            0.14009661835748793,
            0.13043478260869565,
            0.12077294685990338,
            0.10628019323671498,
            0.09178743961352658,
            0.08695652173913043,
            0.07729468599033816,
            0.07729468599033816,
            0.06763285024154589,
            0.06763285024154589,
            0.06280193236714976,
            0.057971014492753624,
            0.057971014492753624,
            0.057971014492753624,
            0.057971014492753624,
            0.057971014492753624,
            0.057971014492753624,
            0.057971014492753624,
            0.05314009661835749,
            0.05314009661835749,
            0.05314009661835749,
            0.04830917874396135,
            0.04830917874396135,
            0.04830917874396135,
            0.04830917874396135,
            0.04830917874396135,
            0.04830917874396135,
            0.04830917874396135,
            0.043478260869565216,
            0.043478260869565216,
            0.043478260869565216,
            0.043478260869565216,
            0.03864734299516908,
            0.03864734299516908,
            0.03864734299516908,
            0.03864734299516908,
            0.03864734299516908,
            0.03864734299516908,
            0.033816425120772944,
            0.033816425120772944,
            0.033816425120772944,
            0.033816425120772944,
            0.033816425120772944,
            0.033816425120772944,
            0.033816425120772944,
            0.028985507246376812,
            0.028985507246376812,
            0.028985507246376812,
            0.028985507246376812,
            0.028985507246376812,
            0.024154589371980676,
            0.024154589371980676,
            0.024154589371980676,
            0.024154589371980676,
            0.024154589371980676,
            0.024154589371980676,
            0.024154589371980676,
            0.024154589371980676,
            0.024154589371980676,
            0.024154589371980676,
            0.01932367149758454,
            0.01932367149758454,
            0.01932367149758454,
            0.01932367149758454,
            0.01932367149758454,
            0.01932367149758454,
            0.01932367149758454,
            0.01932367149758454,
            0.01932367149758454,
            0.01932367149758454,
            0.01932367149758454,
            0.01932367149758454,
            0.01932367149758454,
            0.01932367149758454,
            0.01932367149758454,
            0.01932367149758454,
            0.014492753623188406,
            0.014492753623188406,
            0.014492753623188406,
            0.014492753623188406,
            0.014492753623188406,
            0.014492753623188406,
            0.014492753623188406,
            0.014492753623188406,
            0.014492753623188406,
            0.014492753623188406,
            0.014492753623188406,
            0.014492753623188406,
            0.014492753623188406,
            0.014492753623188406,
            0.014492753623188406,
            0.014492753623188406,
            0.014492753623188406,
            0.014492753623188406,
            0.014492753623188406,
            0.014492753623188406,
            0.014492753623188406,
            0.014492753623188406,
            0.014492753623188406,
            0.014492753623188406,
            0.014492753623188406,
            0.014492753623188406,
            0.014492753623188406,
            0.014492753623188406,
            0.014492753623188406,
            0.014492753623188406,
            0.00966183574879227,
            0.00966183574879227,
            0.00966183574879227,
            0.00966183574879227,
            0.00966183574879227,
            0.00966183574879227,
            0.00966183574879227,
            0.00966183574879227,
            0.00966183574879227,
            0.00966183574879227,
            0.00966183574879227,
            0.00966183574879227,
            0.00966183574879227,
            0.00966183574879227,
            0.00966183574879227,
            0.00966183574879227,
            0.00966183574879227,
            0.00966183574879227,
            0.00966183574879227,
            0.00966183574879227,
            0.00966183574879227,
            0.00966183574879227,
            0.00966183574879227,
            0.00966183574879227,
            0.00966183574879227,
            0.00966183574879227,
            0.00966183574879227,
            0.00966183574879227,
            0.00966183574879227,
            0.00966183574879227,
            0.00966183574879227,
            0.00966183574879227,
            0.00966183574879227,
            0.00966183574879227,
            0.00966183574879227,
            0.00966183574879227,
            0.00966183574879227,
            0.00966183574879227,
            0.00966183574879227,
            0.00966183574879227,
            0.00966183574879227,
            0.00966183574879227,
            0.00966183574879227,
            0.00966183574879227,
            0.00966183574879227,
            0.00966183574879227,
            0.00966183574879227,
            0.00966183574879227,
            0.00966183574879227,
            0.00966183574879227,
            0.00966183574879227,
            0.00966183574879227,
            0.00966183574879227,
            0.00966183574879227,
            0.00966183574879227,
            0.00966183574879227,
            0.00966183574879227,
            0.00966183574879227,
            0.00966183574879227,
            0.00966183574879227,
            0.00966183574879227,
            0.00966183574879227,
            0.00966183574879227,
            0.00966183574879227,
            0.00966183574879227,
            0.00966183574879227,
            0.00966183574879227,
            0.00966183574879227,
            0.00966183574879227,
            0.00966183574879227,
            0.00966183574879227,
            0.00966183574879227,
            0.00966183574879227,
            0.00966183574879227,
            0.00966183574879227,
            0.00966183574879227,
            0.00966183574879227,
            0.00966183574879227,
            0.00966183574879227,
            0.00966183574879227,
            0.00966183574879227,
            0.004830917874396135,
            0.004830917874396135,
            0.004830917874396135,
            0.004830917874396135,
            0.004830917874396135,
            0.004830917874396135,
            0.004830917874396135,
            0.004830917874396135,
            0.004830917874396135,
            0.004830917874396135,
            0.004830917874396135,
            0.004830917874396135,
            0.004830917874396135,
            0.004830917874396135,
            0.004830917874396135,
            0.004830917874396135,
            0.004830917874396135,
            0.004830917874396135,
            0.004830917874396135,
            0.004830917874396135,
            0.004830917874396135,
            0.004830917874396135,
            0.004830917874396135,
            0.004830917874396135,
            0.004830917874396135,
            0.004830917874396135,
            0.004830917874396135,
            0.004830917874396135,
            0.004830917874396135,
            0.004830917874396135,
            0.004830917874396135,
            0.004830917874396135,
            0.004830917874396135,
            0.004830917874396135,
            0.004830917874396135,
            0.004830917874396135,
            0.004830917874396135,
            0.004830917874396135,
            0.004830917874396135,
            0.004830917874396135,
            0.004830917874396135,
            0.004830917874396135,
            0.004830917874396135,
            0.004830917874396135,
            0.004830917874396135,
            0.004830917874396135,
            0.004830917874396135,
            0.004830917874396135,
            0.004830917874396135,
            0.004830917874396135,
            0.004830917874396135,
            0.004830917874396135,
            0.004830917874396135,
            0.004830917874396135,
            0.004830917874396135,
            0.004830917874396135,
            0.004830917874396135,
            0.004830917874396135,
            0.004830917874396135,
            0.004830917874396135,
            0.004830917874396135,
            0.004830917874396135,
            0.004830917874396135,
            0.004830917874396135,
            0.004830917874396135,
            0.004830917874396135,
            0.004830917874396135,
            0.004830917874396135,
            0.004830917874396135,
            0.004830917874396135,
            0.004830917874396135,
            0.004830917874396135,
            0.004830917874396135,
            0.004830917874396135,
            0.004830917874396135,
            0.004830917874396135,
            0.004830917874396135,
            0.004830917874396135,
            0.004830917874396135,
            0.004830917874396135,
            0.004830917874396135,
            0.004830917874396135,
            0.004830917874396135,
            0.004830917874396135,
            0.004830917874396135,
            0.004830917874396135,
            0.004830917874396135,
            0.004830917874396135,
            0.004830917874396135,
            0.004830917874396135,
            0.004830917874396135,
            0.004830917874396135,
            0.004830917874396135,
            0.004830917874396135,
            0.004830917874396135,
            0.004830917874396135,
            0.004830917874396135,
            0.004830917874396135,
            0.004830917874396135,
            0.004830917874396135,
            0.004830917874396135,
            0.004830917874396135,
            0.004830917874396135,
            0.004830917874396135,
            0.004830917874396135,
            0.004830917874396135,
            0.004830917874396135,
            0.004830917874396135,
            0.004830917874396135,
            0.004830917874396135,
            0.004830917874396135,
            0.004830917874396135,
            0.004830917874396135,
            0.004830917874396135,
            0.004830917874396135,
            0.004830917874396135,
            0.004830917874396135,
            0.004830917874396135,
            0.004830917874396135,
            0.004830917874396135,
            0.004830917874396135,
            0.004830917874396135,
            0.004830917874396135,
            0.004830917874396135,
            0.004830917874396135,
            0.004830917874396135,
            0.004830917874396135,
            0.004830917874396135,
            0.004830917874396135,
            0.004830917874396135,
            0.004830917874396135,
            0.004830917874396135,
            0.004830917874396135,
            0.004830917874396135,
            0.004830917874396135,
            0.004830917874396135,
            0.004830917874396135,
            0.004830917874396135,
            0.004830917874396135,
            0.004830917874396135,
            0.004830917874396135,
            0.004830917874396135,
            0.004830917874396135,
            0.004830917874396135,
            0.004830917874396135,
            0.004830917874396135,
            0.004830917874396135,
            0.004830917874396135,
            0.004830917874396135,
            0.004830917874396135
           ],
           [
            "Group 1",
            "Group 2",
            "Group 3",
            "Group 4",
            "Group 5",
            "Group 6",
            "Group 7",
            "Group 8",
            "Group 9",
            "Group 10",
            "Group 11",
            "Group 12",
            "Group 13",
            "Group 14",
            "Group 15",
            "Group 16",
            "Group 17",
            "Group 18",
            "Group 19",
            "Group 20",
            "Group 21",
            "Group 22",
            "Group 23",
            "Group 24",
            "Group 25",
            "Group 26",
            "Group 27",
            "Group 28",
            "Group 29",
            "Group 30",
            "Group 31",
            "Group 32",
            "Group 33",
            "Group 34",
            "Group 35",
            "Group 36",
            "Group 37",
            "Group 38",
            "Group 39",
            "Group 40",
            "Group 41",
            "Group 42",
            "Group 43",
            "Group 44",
            "Group 45",
            "Group 46",
            "Group 47",
            "Group 48",
            "Group 49",
            "Group 50",
            "Group 51",
            "Group 52",
            "Group 53",
            "Group 54",
            "Group 55",
            "Group 56",
            "Group 57",
            "Group 58",
            "Group 59",
            "Group 60",
            "Group 61",
            "Group 62",
            "Group 63",
            "Group 64",
            "Group 65",
            "Group 66",
            "Group 67",
            "Group 68",
            "Group 69",
            "Group 70",
            "Group 71",
            "Group 72",
            "Group 73",
            "Group 74",
            "Group 75",
            "Group 76",
            "Group 77",
            "Group 78",
            "Group 79",
            "Group 80",
            "Group 81",
            "Group 82",
            "Group 83",
            "Group 84",
            "Group 85",
            "Group 86",
            "Group 87",
            "Group 88",
            "Group 89",
            "Group 90",
            "Group 91",
            "Group 92",
            "Group 93",
            "Group 94",
            "Group 95",
            "Group 96",
            "Group 97",
            "Group 98",
            "Group 99",
            "Group 100",
            "Group 101",
            "Group 102",
            "Group 103",
            "Group 104",
            "Group 105",
            "Group 106",
            "Group 107",
            "Group 108",
            "Group 109",
            "Group 110",
            "Group 111",
            "Group 112",
            "Group 113",
            "Group 114",
            "Group 115",
            "Group 116",
            "Group 117",
            "Group 118",
            "Group 119",
            "Group 120",
            "Group 121",
            "Group 122",
            "Group 123",
            "Group 124",
            "Group 125",
            "Group 126",
            "Group 127",
            "Group 128",
            "Group 129",
            "Group 130",
            "Group 131",
            "Group 132",
            "Group 133",
            "Group 134",
            "Group 135",
            "Group 136",
            "Group 137",
            "Group 138",
            "Group 139",
            "Group 140",
            "Group 141",
            "Group 142",
            "Group 143",
            "Group 144",
            "Group 145",
            "Group 146",
            "Group 147",
            "Group 148",
            "Group 149",
            "Group 150",
            "Group 151",
            "Group 152",
            "Group 153",
            "Group 154",
            "Group 155",
            "Group 156",
            "Group 157",
            "Group 158",
            "Group 159",
            "Group 160",
            "Group 161",
            "Group 162",
            "Group 163",
            "Group 164",
            "Group 165",
            "Group 166",
            "Group 167",
            "Group 168",
            "Group 169",
            "Group 170",
            "Group 171",
            "Group 172",
            "Group 173",
            "Group 174",
            "Group 175",
            "Group 176",
            "Group 177",
            "Group 178",
            "Group 179",
            "Group 180",
            "Group 181",
            "Group 182",
            "Group 183",
            "Group 184",
            "Group 185",
            "Group 186",
            "Group 187",
            "Group 188",
            "Group 189",
            "Group 190",
            "Group 191",
            "Group 192",
            "Group 193",
            "Group 194",
            "Group 195",
            "Group 196",
            "Group 197",
            "Group 198",
            "Group 199",
            "Group 200",
            "Group 201",
            "Group 202",
            "Group 203",
            "Group 204",
            "Group 205",
            "Group 206",
            "Group 207",
            "Group 208",
            "Group 209",
            "Group 210",
            "Group 211",
            "Group 212",
            "Group 213",
            "Group 214",
            "Group 215",
            "Group 216",
            "Group 217",
            "Group 218",
            "Group 219",
            "Group 220",
            "Group 221",
            "Group 222",
            "Group 223",
            "Group 224",
            "Group 225",
            "Group 226",
            "Group 227",
            "Group 228",
            "Group 229",
            "Group 230",
            "Group 231",
            "Group 232",
            "Group 233",
            "Group 234",
            "Group 235",
            "Group 236",
            "Group 237",
            "Group 238",
            "Group 239",
            "Group 240",
            "Group 241",
            "Group 242",
            "Group 243",
            "Group 244",
            "Group 245",
            "Group 246",
            "Group 247",
            "Group 248",
            "Group 249",
            "Group 250",
            "Group 251",
            "Group 252",
            "Group 253",
            "Group 254",
            "Group 255",
            "Group 256",
            "Group 257",
            "Group 258",
            "Group 259",
            "Group 260",
            "Group 261",
            "Group 262",
            "Group 263",
            "Group 264",
            "Group 265",
            "Group 266",
            "Group 267",
            "Group 268",
            "Group 269",
            "Group 270",
            "Group 271",
            "Group 272",
            "Group 273",
            "Group 274",
            "Group 275",
            "Group 276",
            "Group 277",
            "Group 278",
            "Group 279",
            "Group 280",
            "Group 281",
            "Group 282",
            "Group 283",
            "Group 284",
            "Group 285",
            "Group 286",
            "Group 287",
            "Group 288",
            "Group 289",
            "Group 290",
            "Group 291",
            "Group 292",
            "Group 293",
            "Group 294",
            "Group 295",
            "Group 296",
            "Group 297",
            "Group 298",
            "Group 299",
            "Group 300",
            "Group 301",
            "Group 302",
            "Group 303",
            "Group 304",
            "Group 305",
            "Group 306",
            "Group 307",
            "Group 308",
            "Group 309",
            "Group 310",
            "Group 311",
            "Group 312",
            "Group 313",
            "Group 314",
            "Group 315",
            "Group 316",
            "Group 317",
            "Group 318",
            "Group 319",
            "Group 320",
            "Group 321",
            "Group 322",
            "Group 323",
            "Group 324",
            "Group 325",
            "Group 326",
            "Group 327",
            "Group 328",
            "Group 329",
            "Group 330",
            "Group 331",
            "Group 332",
            "Group 333",
            "Group 334",
            "Group 335",
            "Group 336",
            "Group 337",
            "Group 338",
            "Group 339"
           ]
          ]
         },
         "header": {
          "values": [
           "HighFrequencyIngredientResearch",
           "Product Count",
           "Products",
           "Frequency Ratio",
           "Group"
          ]
         },
         "type": "table"
        }
       ],
       "layout": {
        "template": {
         "data": {
          "bar": [
           {
            "error_x": {
             "color": "#2a3f5f"
            },
            "error_y": {
             "color": "#2a3f5f"
            },
            "marker": {
             "line": {
              "color": "#E5ECF6",
              "width": 0.5
             },
             "pattern": {
              "fillmode": "overlay",
              "size": 10,
              "solidity": 0.2
             }
            },
            "type": "bar"
           }
          ],
          "barpolar": [
           {
            "marker": {
             "line": {
              "color": "#E5ECF6",
              "width": 0.5
             },
             "pattern": {
              "fillmode": "overlay",
              "size": 10,
              "solidity": 0.2
             }
            },
            "type": "barpolar"
           }
          ],
          "carpet": [
           {
            "aaxis": {
             "endlinecolor": "#2a3f5f",
             "gridcolor": "white",
             "linecolor": "white",
             "minorgridcolor": "white",
             "startlinecolor": "#2a3f5f"
            },
            "baxis": {
             "endlinecolor": "#2a3f5f",
             "gridcolor": "white",
             "linecolor": "white",
             "minorgridcolor": "white",
             "startlinecolor": "#2a3f5f"
            },
            "type": "carpet"
           }
          ],
          "choropleth": [
           {
            "colorbar": {
             "outlinewidth": 0,
             "ticks": ""
            },
            "type": "choropleth"
           }
          ],
          "contour": [
           {
            "colorbar": {
             "outlinewidth": 0,
             "ticks": ""
            },
            "colorscale": [
             [
              0,
              "#0d0887"
             ],
             [
              0.1111111111111111,
              "#46039f"
             ],
             [
              0.2222222222222222,
              "#7201a8"
             ],
             [
              0.3333333333333333,
              "#9c179e"
             ],
             [
              0.4444444444444444,
              "#bd3786"
             ],
             [
              0.5555555555555556,
              "#d8576b"
             ],
             [
              0.6666666666666666,
              "#ed7953"
             ],
             [
              0.7777777777777778,
              "#fb9f3a"
             ],
             [
              0.8888888888888888,
              "#fdca26"
             ],
             [
              1,
              "#f0f921"
             ]
            ],
            "type": "contour"
           }
          ],
          "contourcarpet": [
           {
            "colorbar": {
             "outlinewidth": 0,
             "ticks": ""
            },
            "type": "contourcarpet"
           }
          ],
          "heatmap": [
           {
            "colorbar": {
             "outlinewidth": 0,
             "ticks": ""
            },
            "colorscale": [
             [
              0,
              "#0d0887"
             ],
             [
              0.1111111111111111,
              "#46039f"
             ],
             [
              0.2222222222222222,
              "#7201a8"
             ],
             [
              0.3333333333333333,
              "#9c179e"
             ],
             [
              0.4444444444444444,
              "#bd3786"
             ],
             [
              0.5555555555555556,
              "#d8576b"
             ],
             [
              0.6666666666666666,
              "#ed7953"
             ],
             [
              0.7777777777777778,
              "#fb9f3a"
             ],
             [
              0.8888888888888888,
              "#fdca26"
             ],
             [
              1,
              "#f0f921"
             ]
            ],
            "type": "heatmap"
           }
          ],
          "heatmapgl": [
           {
            "colorbar": {
             "outlinewidth": 0,
             "ticks": ""
            },
            "colorscale": [
             [
              0,
              "#0d0887"
             ],
             [
              0.1111111111111111,
              "#46039f"
             ],
             [
              0.2222222222222222,
              "#7201a8"
             ],
             [
              0.3333333333333333,
              "#9c179e"
             ],
             [
              0.4444444444444444,
              "#bd3786"
             ],
             [
              0.5555555555555556,
              "#d8576b"
             ],
             [
              0.6666666666666666,
              "#ed7953"
             ],
             [
              0.7777777777777778,
              "#fb9f3a"
             ],
             [
              0.8888888888888888,
              "#fdca26"
             ],
             [
              1,
              "#f0f921"
             ]
            ],
            "type": "heatmapgl"
           }
          ],
          "histogram": [
           {
            "marker": {
             "pattern": {
              "fillmode": "overlay",
              "size": 10,
              "solidity": 0.2
             }
            },
            "type": "histogram"
           }
          ],
          "histogram2d": [
           {
            "colorbar": {
             "outlinewidth": 0,
             "ticks": ""
            },
            "colorscale": [
             [
              0,
              "#0d0887"
             ],
             [
              0.1111111111111111,
              "#46039f"
             ],
             [
              0.2222222222222222,
              "#7201a8"
             ],
             [
              0.3333333333333333,
              "#9c179e"
             ],
             [
              0.4444444444444444,
              "#bd3786"
             ],
             [
              0.5555555555555556,
              "#d8576b"
             ],
             [
              0.6666666666666666,
              "#ed7953"
             ],
             [
              0.7777777777777778,
              "#fb9f3a"
             ],
             [
              0.8888888888888888,
              "#fdca26"
             ],
             [
              1,
              "#f0f921"
             ]
            ],
            "type": "histogram2d"
           }
          ],
          "histogram2dcontour": [
           {
            "colorbar": {
             "outlinewidth": 0,
             "ticks": ""
            },
            "colorscale": [
             [
              0,
              "#0d0887"
             ],
             [
              0.1111111111111111,
              "#46039f"
             ],
             [
              0.2222222222222222,
              "#7201a8"
             ],
             [
              0.3333333333333333,
              "#9c179e"
             ],
             [
              0.4444444444444444,
              "#bd3786"
             ],
             [
              0.5555555555555556,
              "#d8576b"
             ],
             [
              0.6666666666666666,
              "#ed7953"
             ],
             [
              0.7777777777777778,
              "#fb9f3a"
             ],
             [
              0.8888888888888888,
              "#fdca26"
             ],
             [
              1,
              "#f0f921"
             ]
            ],
            "type": "histogram2dcontour"
           }
          ],
          "mesh3d": [
           {
            "colorbar": {
             "outlinewidth": 0,
             "ticks": ""
            },
            "type": "mesh3d"
           }
          ],
          "parcoords": [
           {
            "line": {
             "colorbar": {
              "outlinewidth": 0,
              "ticks": ""
             }
            },
            "type": "parcoords"
           }
          ],
          "pie": [
           {
            "automargin": true,
            "type": "pie"
           }
          ],
          "scatter": [
           {
            "fillpattern": {
             "fillmode": "overlay",
             "size": 10,
             "solidity": 0.2
            },
            "type": "scatter"
           }
          ],
          "scatter3d": [
           {
            "line": {
             "colorbar": {
              "outlinewidth": 0,
              "ticks": ""
             }
            },
            "marker": {
             "colorbar": {
              "outlinewidth": 0,
              "ticks": ""
             }
            },
            "type": "scatter3d"
           }
          ],
          "scattercarpet": [
           {
            "marker": {
             "colorbar": {
              "outlinewidth": 0,
              "ticks": ""
             }
            },
            "type": "scattercarpet"
           }
          ],
          "scattergeo": [
           {
            "marker": {
             "colorbar": {
              "outlinewidth": 0,
              "ticks": ""
             }
            },
            "type": "scattergeo"
           }
          ],
          "scattergl": [
           {
            "marker": {
             "colorbar": {
              "outlinewidth": 0,
              "ticks": ""
             }
            },
            "type": "scattergl"
           }
          ],
          "scattermapbox": [
           {
            "marker": {
             "colorbar": {
              "outlinewidth": 0,
              "ticks": ""
             }
            },
            "type": "scattermapbox"
           }
          ],
          "scatterpolar": [
           {
            "marker": {
             "colorbar": {
              "outlinewidth": 0,
              "ticks": ""
             }
            },
            "type": "scatterpolar"
           }
          ],
          "scatterpolargl": [
           {
            "marker": {
             "colorbar": {
              "outlinewidth": 0,
              "ticks": ""
             }
            },
            "type": "scatterpolargl"
           }
          ],
          "scatterternary": [
           {
            "marker": {
             "colorbar": {
              "outlinewidth": 0,
              "ticks": ""
             }
            },
            "type": "scatterternary"
           }
          ],
          "surface": [
           {
            "colorbar": {
             "outlinewidth": 0,
             "ticks": ""
            },
            "colorscale": [
             [
              0,
              "#0d0887"
             ],
             [
              0.1111111111111111,
              "#46039f"
             ],
             [
              0.2222222222222222,
              "#7201a8"
             ],
             [
              0.3333333333333333,
              "#9c179e"
             ],
             [
              0.4444444444444444,
              "#bd3786"
             ],
             [
              0.5555555555555556,
              "#d8576b"
             ],
             [
              0.6666666666666666,
              "#ed7953"
             ],
             [
              0.7777777777777778,
              "#fb9f3a"
             ],
             [
              0.8888888888888888,
              "#fdca26"
             ],
             [
              1,
              "#f0f921"
             ]
            ],
            "type": "surface"
           }
          ],
          "table": [
           {
            "cells": {
             "fill": {
              "color": "#EBF0F8"
             },
             "line": {
              "color": "white"
             }
            },
            "header": {
             "fill": {
              "color": "#C8D4E3"
             },
             "line": {
              "color": "white"
             }
            },
            "type": "table"
           }
          ]
         },
         "layout": {
          "annotationdefaults": {
           "arrowcolor": "#2a3f5f",
           "arrowhead": 0,
           "arrowwidth": 1
          },
          "autotypenumbers": "strict",
          "coloraxis": {
           "colorbar": {
            "outlinewidth": 0,
            "ticks": ""
           }
          },
          "colorscale": {
           "diverging": [
            [
             0,
             "#8e0152"
            ],
            [
             0.1,
             "#c51b7d"
            ],
            [
             0.2,
             "#de77ae"
            ],
            [
             0.3,
             "#f1b6da"
            ],
            [
             0.4,
             "#fde0ef"
            ],
            [
             0.5,
             "#f7f7f7"
            ],
            [
             0.6,
             "#e6f5d0"
            ],
            [
             0.7,
             "#b8e186"
            ],
            [
             0.8,
             "#7fbc41"
            ],
            [
             0.9,
             "#4d9221"
            ],
            [
             1,
             "#276419"
            ]
           ],
           "sequential": [
            [
             0,
             "#0d0887"
            ],
            [
             0.1111111111111111,
             "#46039f"
            ],
            [
             0.2222222222222222,
             "#7201a8"
            ],
            [
             0.3333333333333333,
             "#9c179e"
            ],
            [
             0.4444444444444444,
             "#bd3786"
            ],
            [
             0.5555555555555556,
             "#d8576b"
            ],
            [
             0.6666666666666666,
             "#ed7953"
            ],
            [
             0.7777777777777778,
             "#fb9f3a"
            ],
            [
             0.8888888888888888,
             "#fdca26"
            ],
            [
             1,
             "#f0f921"
            ]
           ],
           "sequentialminus": [
            [
             0,
             "#0d0887"
            ],
            [
             0.1111111111111111,
             "#46039f"
            ],
            [
             0.2222222222222222,
             "#7201a8"
            ],
            [
             0.3333333333333333,
             "#9c179e"
            ],
            [
             0.4444444444444444,
             "#bd3786"
            ],
            [
             0.5555555555555556,
             "#d8576b"
            ],
            [
             0.6666666666666666,
             "#ed7953"
            ],
            [
             0.7777777777777778,
             "#fb9f3a"
            ],
            [
             0.8888888888888888,
             "#fdca26"
            ],
            [
             1,
             "#f0f921"
            ]
           ]
          },
          "colorway": [
           "#636efa",
           "#EF553B",
           "#00cc96",
           "#ab63fa",
           "#FFA15A",
           "#19d3f3",
           "#FF6692",
           "#B6E880",
           "#FF97FF",
           "#FECB52"
          ],
          "font": {
           "color": "#2a3f5f"
          },
          "geo": {
           "bgcolor": "white",
           "lakecolor": "white",
           "landcolor": "#E5ECF6",
           "showlakes": true,
           "showland": true,
           "subunitcolor": "white"
          },
          "hoverlabel": {
           "align": "left"
          },
          "hovermode": "closest",
          "mapbox": {
           "style": "light"
          },
          "paper_bgcolor": "white",
          "plot_bgcolor": "#E5ECF6",
          "polar": {
           "angularaxis": {
            "gridcolor": "white",
            "linecolor": "white",
            "ticks": ""
           },
           "bgcolor": "#E5ECF6",
           "radialaxis": {
            "gridcolor": "white",
            "linecolor": "white",
            "ticks": ""
           }
          },
          "scene": {
           "xaxis": {
            "backgroundcolor": "#E5ECF6",
            "gridcolor": "white",
            "gridwidth": 2,
            "linecolor": "white",
            "showbackground": true,
            "ticks": "",
            "zerolinecolor": "white"
           },
           "yaxis": {
            "backgroundcolor": "#E5ECF6",
            "gridcolor": "white",
            "gridwidth": 2,
            "linecolor": "white",
            "showbackground": true,
            "ticks": "",
            "zerolinecolor": "white"
           },
           "zaxis": {
            "backgroundcolor": "#E5ECF6",
            "gridcolor": "white",
            "gridwidth": 2,
            "linecolor": "white",
            "showbackground": true,
            "ticks": "",
            "zerolinecolor": "white"
           }
          },
          "shapedefaults": {
           "line": {
            "color": "#2a3f5f"
           }
          },
          "ternary": {
           "aaxis": {
            "gridcolor": "white",
            "linecolor": "white",
            "ticks": ""
           },
           "baxis": {
            "gridcolor": "white",
            "linecolor": "white",
            "ticks": ""
           },
           "bgcolor": "#E5ECF6",
           "caxis": {
            "gridcolor": "white",
            "linecolor": "white",
            "ticks": ""
           }
          },
          "title": {
           "x": 0.05
          },
          "xaxis": {
           "automargin": true,
           "gridcolor": "white",
           "linecolor": "white",
           "ticks": "",
           "title": {
            "standoff": 15
           },
           "zerolinecolor": "white",
           "zerolinewidth": 2
          },
          "yaxis": {
           "automargin": true,
           "gridcolor": "white",
           "linecolor": "white",
           "ticks": "",
           "title": {
            "standoff": 15
           },
           "zerolinecolor": "white",
           "zerolinewidth": 2
          }
         }
        },
        "title": {
         "text": "High Frequency Ingredient Research and Associated Products (Sorted by Frequency Ratio)"
        }
       }
      }
     },
     "metadata": {},
     "output_type": "display_data"
    }
   ],
   "source": [
    "from neo4j import GraphDatabase\n",
    "import pandas as pd\n",
    "import plotly.graph_objects as go\n",
    "\n",
    "\n",
    "query = \"\"\"\n",
    "MATCH (p:Product)-[:HAS_RECIPE]->(r:Recipe)-[:USES_INGREDIENT]->(i:Ingredient)-[:HAS_RESEARCH]->(res:IngredientResearch)\n",
    "WITH res, COUNT(DISTINCT p) AS productCount, COLLECT(DISTINCT p.name) AS products, COUNT(DISTINCT i) AS ingredientCount\n",
    "MATCH (allProducts:Product)\n",
    "WITH res, productCount, products, ingredientCount, COUNT(allProducts) AS totalProductCount\n",
    "WITH res, productCount, products, ingredientCount, totalProductCount, toFloat(productCount) / toFloat(totalProductCount) AS frequencyRatio\n",
    "RETURN res.ingredient_name AS HighFrequencyIngredientResearch, productCount, products, frequencyRatio\n",
    "ORDER BY frequencyRatio DESC\n",
    "\"\"\"\n",
    "\n",
    "with driver.session() as session:\n",
    "    result = session.run(query)\n",
    "    data = [record.data() for record in result]\n",
    "    df = pd.DataFrame(data)\n",
    "\n",
    "\n",
    "df.sort_values(by='frequencyRatio', ascending=False, inplace=True)\n",
    "\n",
    "\n",
    "group_names = [f'Group {i+1}' for i in range(len(df))]\n",
    "df['group'] = pd.Series(group_names, index=df.index)\n",
    "\n",
    "\n",
    "fig_data = go.Table(\n",
    "    header=dict(values=['HighFrequencyIngredientResearch', 'Product Count', 'Products', 'Frequency Ratio', 'Group']),\n",
    "    cells=dict(values=[df['HighFrequencyIngredientResearch'], df['productCount'], df['products'], df['frequencyRatio'], df['group']])\n",
    ")\n",
    "\n",
    "\n",
    "fig_layout = go.Layout(\n",
    "    title='High Frequency Ingredient Research and Associated Products (Sorted by Frequency Ratio)',\n",
    ")\n",
    "\n",
    "\n",
    "fig = go.Figure(data=fig_data, layout=fig_layout)\n",
    "fig.show()"
   ]
  },
  {
   "cell_type": "code",
   "execution_count": 1,
   "metadata": {},
   "outputs": [
    {
     "ename": "NameError",
     "evalue": "name 'driver' is not defined",
     "output_type": "error",
     "traceback": [
      "\u001b[1;31m---------------------------------------------------------------------------\u001b[0m",
      "\u001b[1;31mNameError\u001b[0m                                 Traceback (most recent call last)",
      "Cell \u001b[1;32mIn[1], line 12\u001b[0m\n\u001b[0;32m      8\u001b[0m     data \u001b[38;5;241m=\u001b[39m [(record[\u001b[38;5;124m\"\u001b[39m\u001b[38;5;124mproduct1\u001b[39m\u001b[38;5;124m\"\u001b[39m], record[\u001b[38;5;124m\"\u001b[39m\u001b[38;5;124mproduct2\u001b[39m\u001b[38;5;124m\"\u001b[39m], record[\u001b[38;5;124m\"\u001b[39m\u001b[38;5;124mco_occurrences\u001b[39m\u001b[38;5;124m\"\u001b[39m]) \u001b[38;5;28;01mfor\u001b[39;00m record \u001b[38;5;129;01min\u001b[39;00m result]\n\u001b[0;32m      9\u001b[0m     \u001b[38;5;28;01mreturn\u001b[39;00m data\n\u001b[1;32m---> 12\u001b[0m \u001b[38;5;28;01mwith\u001b[39;00m \u001b[43mdriver\u001b[49m\u001b[38;5;241m.\u001b[39msession() \u001b[38;5;28;01mas\u001b[39;00m session: \n\u001b[0;32m     13\u001b[0m     data \u001b[38;5;241m=\u001b[39m session\u001b[38;5;241m.\u001b[39mread_transaction(get_data) \n\u001b[0;32m     16\u001b[0m df \u001b[38;5;241m=\u001b[39m pd\u001b[38;5;241m.\u001b[39mDataFrame(data, columns\u001b[38;5;241m=\u001b[39m[\u001b[38;5;124m'\u001b[39m\u001b[38;5;124mProduct1\u001b[39m\u001b[38;5;124m'\u001b[39m, \u001b[38;5;124m'\u001b[39m\u001b[38;5;124mProduct2\u001b[39m\u001b[38;5;124m'\u001b[39m, \u001b[38;5;124m'\u001b[39m\u001b[38;5;124mCo-Occurrences\u001b[39m\u001b[38;5;124m'\u001b[39m])\n",
      "\u001b[1;31mNameError\u001b[0m: name 'driver' is not defined"
     ]
    }
   ],
   "source": [
    "\n",
    "def get_data(tx):\n",
    "    query = \"\"\"\n",
    "    MATCH (p1:Product)-[:HAS_RECIPE]->(:Recipe)-[:USES_INGREDIENT]->(:Ingredient)-[:HAS_RESEARCH]->(res:IngredientResearch)<-[:HAS_RESEARCH]-(:Ingredient)<-[:USES_INGREDIENT]-(:Recipe)<-[:HAS_RECIPE]-(p2:Product)\n",
    "    WHERE id(p1) < id(p2)\n",
    "    RETURN p1.name AS product1, p2.name AS product2, COUNT(DISTINCT res.ingredient_name) AS co_occurrences\n",
    "    \"\"\"\n",
    "    result = tx.run(query)\n",
    "    data = [(record[\"product1\"], record[\"product2\"], record[\"co_occurrences\"]) for record in result]\n",
    "    return data\n",
    "\n",
    "\n",
    "with driver.session() as session: \n",
    "    data = session.read_transaction(get_data) \n",
    "\n",
    "\n",
    "df = pd.DataFrame(data, columns=['Product1', 'Product2', 'Co-Occurrences'])\n",
    "\n",
    "\n",
    "co_occurrence_matrix = df.pivot(index='Product1', columns='Product2', values='Co-Occurrences').fillna(0)\n",
    "\n",
    "\n",
    "clustering = AgglomerativeClustering(n_clusters=5).fit(co_occurrence_matrix)\n",
    "\n",
    "\n",
    "df['Group'] = clustering.labels_\n",
    "\n",
    "\n",
    "table_data = go.Table( \n",
    "    header=dict(values=['Product1', 'Product2', 'Co-Occurrences', 'Group']), \n",
    "    cells=dict(values=[df['Product1'], df['Product2'], df['Co-Occurrences'], df['Group']]) \n",
    ") \n",
    "\n",
    "\n",
    "layout = go.Layout(title='Product Co-Occurrences Groups') \n",
    "fig = go.Figure(data=table_data, layout=layout) \n",
    "fig.show()\n"
   ]
  },
  {
   "cell_type": "code",
   "execution_count": 98,
   "metadata": {},
   "outputs": [
    {
     "name": "stdout",
     "output_type": "stream",
     "text": [
      "Shape of co-occurrence matrix: (0, 0)\n",
      "Co-occurrence matrix:\n",
      "Empty DataFrame\n",
      "Columns: []\n",
      "Index: []\n"
     ]
    }
   ],
   "source": [
    "print(\"Shape of co-occurrence matrix:\", co_occurrence_matrix.shape)\n",
    "print(\"Co-occurrence matrix:\")\n",
    "print(co_occurrence_matrix)\n"
   ]
  },
  {
   "cell_type": "code",
   "execution_count": 103,
   "metadata": {},
   "outputs": [
    {
     "data": {
      "application/vnd.plotly.v1+json": {
       "config": {
        "plotlyServerURL": "https://plot.ly"
       },
       "data": [
        {
         "cells": {
          "values": [
           [
            5,
            5,
            4,
            3,
            2,
            2,
            2,
            2,
            2,
            2,
            2,
            1,
            1,
            1,
            1,
            1,
            1,
            1,
            1,
            1,
            1,
            1,
            1,
            1,
            1,
            1,
            1,
            1,
            1,
            1,
            1,
            1,
            1,
            1,
            1,
            1,
            1,
            1,
            1,
            1,
            1,
            1,
            1,
            1,
            1,
            1,
            1,
            1,
            1,
            1,
            1,
            1,
            1,
            1,
            1,
            1,
            1,
            1,
            1,
            1,
            1,
            1,
            1,
            1,
            1,
            1,
            1,
            1,
            1,
            1,
            1,
            1,
            1,
            1,
            1,
            1,
            1,
            1,
            1
           ],
           [
            [
             "Carbonated Water",
             "Sugar",
             "Colouring Agent 150d",
             "Phosphoric Acid",
             "Flavour",
             "Caffeine"
            ],
            [
             "Sugar",
             "Flavour",
             "Wheat Flour",
             "Salt",
             "TBHQ",
             "Vegetable Oil",
             "Emulsifier Soy Lecithin",
             "Cocoa Powder",
             "Sodium Bicarbonate",
             "Fructose Syrup",
             "Cornstarch",
             "Ammonium Bicarbonate",
             "Mineral Iron",
             "Zinc",
             "Riboflavin",
             "Thiamin",
             "Folate"
            ],
            [
             "Carbonated Water",
             "Colouring Agent 150d",
             "Phosphoric Acid",
             "Flavour",
             "Caffeine",
             "Sodium Citrate",
             "Aspartame",
             "Acesulfame Potassium"
            ],
            [
             "Sugar",
             "Flavours",
             "Milk Solids",
             "Cocoa Butter",
             "Emulsifier Soy Lecithin",
             "Cocoa Mass",
             "Polyglycerol Polyricinoleate",
             "Full Cream Milk"
            ],
            [
             "Carbonated Mineral Water",
             "Citric Acid",
             "Natural Flavours"
            ],
            [
             "Citric Acid",
             "Tomato Juice",
             "Tomatoes"
            ],
            [
             "Water",
             "Coconut Extract",
             "Guar Gum"
            ],
            [
             "Sugar",
             "Salt",
             "Natural Flavour",
             "Citric Acid",
             "Reconstituted Tomato Puree",
             "Thickener Modified Corn Starch",
             "Acetic Acid",
             "Spice Extract"
            ],
            [
             "Salt",
             "Canola Oil",
             "Potatoes",
             "Sunflower Oil",
             "Antioxidant Tocopherols",
             "Ascorbic Acid",
             "Antioxidant Rosemary Extract",
             "Citric Acid"
            ],
            [
             "Water",
             "Citric Acid",
             "Ascorbic Acid",
             "Fruit Peach",
             "Pear",
             "Reconstituted Refined Juice Concentrated Pear Juice"
            ],
            [
             "Ascorbic Acid",
             "Diced Pears",
             "Diced Peaches",
             "Refined Fruit Juice"
            ],
            [
             "Carbonated Water",
             "Colouring Agent 150d",
             "Phosphoric Acid",
             "Flavour",
             "Sodium Citrate",
             "Aspartame",
             "Acesulfame Potassium",
             "Sweetener 952"
            ],
            [
             "Sugar",
             "Wheat Flour",
             "Refined Palm Oil",
             "Salt",
             "Acidity Regulator 451",
             "Acidity Regulator 501",
             "Sodium Bicarbonate",
             "Guar Gum",
             "Colour 101",
             "Seasoning Powder",
             "Flavour Enhancer 621",
             "Disodium Guanylate",
             "Garlic Powder",
             "Onion Powder",
             "Yeast Extract",
             "Artificial Flavour",
             "Pepper",
             "Anti Caking Agent 551",
             "Seasoning Oil",
             "Onion",
             "Sweet Soy Sauce",
             "Water",
             "Wheat",
             "Soy Bean",
             "Spices",
             "Sesame Oil",
             "Chilli Sauce",
             "Chilli",
             "Tapioca Starch",
             "Acetic Acid",
             "Citric Acid",
             "Herbs",
             "Preservative 1211",
             "Sodium Metabisulfite",
             "Fried Onion",
             "TBHQ",
             "Disodium Inosinate"
            ],
            [
             "Sugar",
             "Wheat Flour",
             "Salt",
             "Flavour Enhancer 621",
             "Onion Powder",
             "TBHQ",
             "Vegetable Oil",
             "Antioxidant 320",
             "Mineral Salt 508",
             "Mineral Salt 451",
             "Flavour Enhancer 635",
             "Guar Gum",
             "Iodised Salt",
             "Maltodextrin",
             "Flavours Wheat",
             "Flavours Soy",
             "Vegetable Fat",
             "Parsley Flakes",
             "Turmeric",
             "Caramel III",
             "Coriander",
             "Cumin",
             "Spice Cardamom",
             "Spice Chilli Powder",
             "Spice Ginger",
             "Flavour Celery",
             "Mineral Salt 501",
             "Mineral Salt 500"
            ],
            [
             "Sugar",
             "Wheat Flour",
             "Salt",
             "Flavour Enhancer 621",
             "Onion",
             "TBHQ",
             "Vegetable Oil",
             "Antioxidant 320",
             "Mineral Salt 508",
             "Mineral Salt 451",
             "Flavour Enhancer 635",
             "Guar Gum",
             "Flavours Wheat",
             "Flavours Soy",
             "Vegetable Fat",
             "Turmeric",
             "Coriander",
             "Cumin",
             "Spice Cardamom",
             "Spice Chilli Powder",
             "Spice Ginger",
             "Potassium Chloride",
             "Flavour Celery",
             "Potato Starch",
             "Parsley",
             "Burnt Sugar",
             "Mineral Salt 501",
             "Mineral Salt 500"
            ],
            [
             "Sugar",
             "Wheat Flour",
             "Salt",
             "Flavour Enhancer 621",
             "Onion Powder",
             "Yeast Extract",
             "Herbs",
             "Vegetable Oil",
             "Flavour Enhancer 635",
             "Maltodextrin",
             "Gluten Wheat",
             "Soy",
             "Curcumin"
            ],
            [
             "Sugar",
             "Wheat Flour",
             "Salt",
             "Flavour Enhancer 621",
             "Onion Powder",
             "Yeast Extract",
             "Herbs",
             "Vegetable Oil",
             "Antioxidant 320",
             "Flavour Enhancer 635",
             "Maltodextrin",
             "Gluten Wheat",
             "Soy",
             "Curcumin",
             "Flavour Sachet",
             "Vegetable Sachet",
             "Dehydrated Vegetables"
            ],
            [
             "Sugar",
             "Wheat Flour",
             "Salt",
             "Flavour Enhancer 621",
             "Disodium Guanylate",
             "Yeast Extract",
             "Anti Caking Agent 551",
             "TBHQ",
             "Vegetable Oil",
             "Guar Gum",
             "Flavours Wheat",
             "Flavours Soy",
             "Dehydrated Vegetables",
             "Modified Starch 1420",
             "Mineral Salt 501",
             "Mineral Salt 500",
             "Mineral Salt 450",
             "Disodium Inosinate",
             "Basil",
             "Colouring Agent 100",
             "Antioxidant 307b"
            ],
            [
             "Sugar",
             "Wheat Flour",
             "Refined Palm Oil",
             "Salt",
             "Acidity Regulator 451",
             "Acidity Regulator 501",
             "Sodium Bicarbonate",
             "Guar Gum",
             "Colour 101",
             "Seasoning Powder",
             "Flavour Enhancer 621",
             "Disodium Guanylate",
             "Garlic Powder",
             "Onion Powder",
             "Yeast Extract",
             "Artificial Flavour",
             "Pepper",
             "Anti Caking Agent 551",
             "Seasoning Oil",
             "Onion",
             "Sweet Soy Sauce",
             "Water",
             "Wheat",
             "Soy Bean",
             "Spices",
             "Sesame Oil",
             "Chilli Sauce",
             "Chilli",
             "Tapioca Starch",
             "Acetic Acid",
             "Citric Acid",
             "Herbs",
             "Preservative 1211",
             "Sodium Metabisulfite",
             "Fried Onion",
             "TBHQ",
             "Disodium Inosinate",
             "Flavours"
            ],
            [
             "Sugar",
             "Flavour",
             "Wheat Flour",
             "Salt",
             "Flavour Enhancer 621",
             "Yeast Extract",
             "Onion",
             "Wheat",
             "TBHQ",
             "Vegetable Oil",
             "Antioxidant 320",
             "Mineral Salt 508",
             "Mineral Salt 451",
             "Flavour Enhancer 635",
             "Guar Gum",
             "Vegetable Fat",
             "Potassium Chloride",
             "Burnt Sugar",
             "Soy",
             "Mineral Salt 501",
             "Mineral Salt 500",
             "Soy Sauce Powder",
             "White Pepper",
             "Rosemary",
             "Citric Acid"
            ],
            [
             "Sugar",
             "Wheat Flour",
             "Salt",
             "Flavour Enhancer 621",
             "Garlic Powder",
             "Wheat",
             "Vegetable Oil",
             "Antioxidant 320",
             "Flavour Enhancer 635",
             "Soy",
             "Curcumin",
             "Basil",
             "Colouring Agent 150c",
             "Caramel Color"
            ],
            [
             "Carbonated Water",
             "Potassium Bicarbonate"
            ],
            [
             "Carbonated Water",
             "Sugar",
             "Citric Acid",
             "Natural Flavour Orange Peel Extract",
             "Natural Flavour Citrus Oils",
             "Natural Flavour Botanical Extracts",
             "Natural Flavour Lemon Peel Extract",
             "Quinine"
            ],
            [
             "Carbonated Water",
             "Sugar",
             "Sodium Metabisulfite",
             "Natural Flavour Lime Oils",
             "Sodium Benzoate",
             "Plant Extract Gardenia",
             "Plant Extract Carthamus",
             "Sulphites",
             "Reconstituted Lime Juice"
            ],
            [
             "Carbonated Water",
             "Sodium Citrate",
             "Aspartame",
             "Acesulfame Potassium",
             "Citric Acid",
             "Natural Flavour Orange Peel Extract",
             "Natural Flavour Citrus Oils",
             "Natural Flavour Botanical Extracts",
             "Natural Flavour Lemon Peel Extract",
             "Quinine"
            ],
            [
             "Sugar",
             "Sodium Metabisulfite",
             "Citric Acid",
             "Natural Flavours",
             "Sodium Benzoate",
             "Carbonated Mineral Water",
             "",
             "Reconstituted Lime Juice",
             "Sodium Citrate",
             "Potassium Sorbate",
             "Safflower Extract",
             "Reconstituted Lemon Juice"
            ],
            [
             "Sugar",
             "Sodium Metabisulfite",
             "Citric Acid",
             "Natural Flavours",
             "Sodium Benzoate",
             "Sulphites",
             "Carbonated Mineral Water",
             "",
             "Potassium Sorbate",
             "Ascorbic Acid",
             "Carminic Acid",
             "Lutein",
             "Antioxidant 385",
             "Reconstituted Mango Juice",
             "Reconstituted Fruit Juice Orange"
            ],
            [
             "Sugar",
             "Flavour",
             "Wheat Flour",
             "Salt",
             "Wheat",
             "Vegetable Fat",
             "Milk Solids",
             "Cocoa Butter",
             "Emulsifier Soy Lecithin",
             "Cocoa Mass",
             "Milk",
             "Polyglycerol Polyricinoleate",
             "Cocoa",
             "Sodium Bicarbonate",
             "Yeast",
             "Processing Aid Wheat"
            ],
            [
             "Sugar",
             "Flavour",
             "Wheat Flour",
             "Salt",
             "Wheat",
             "Vegetable Fat",
             "Soy",
             "Milk Solids",
             "Cocoa Butter",
             "Emulsifier Soy Lecithin",
             "Cocoa Mass",
             "Milk",
             "Polyglycerol Polyricinoleate",
             "Cocoa",
             "Sodium Bicarbonate",
             "Yeast",
             "Choc Paste"
            ],
            [
             "Sugar",
             "Salt",
             "Vegetable Fat",
             "Flavours",
             "Milk Solids",
             "Cocoa Butter",
             "Emulsifier Soy Lecithin",
             "Cocoa Mass",
             "Polyglycerol Polyricinoleate",
             "Full Cream Milk",
             "Glucose Syrup",
             "Sweetened Condensed Milk",
             "Golden Syrup",
             "Invert Sugar",
             "Acidity Regulator 331"
            ],
            [
             "Milk Chocolate",
             "Caramel",
             "Biscuit"
            ],
            [
             "Sugar",
             "Salt",
             "Vegetable Oil",
             "Vegetable Fat",
             "Milk Solids",
             "Cocoa Butter",
             "Emulsifier Soy Lecithin",
             "Cocoa Mass",
             "Wheat Glucose Syrup",
             "Barley Malt Extract",
             "Egg White",
             "Natural Flavour Vanilla Extract"
            ],
            [
             "Sugar",
             "Wheat Flour",
             "Salt",
             "Vegetable Oil",
             "Vegetable Fat",
             "Flavours",
             "Citric Acid",
             "Milk Solids",
             "Emulsifier Soy Lecithin",
             "Polyglycerol Polyricinoleate",
             "Sweetened Condensed Milk",
             "Wheat Glucose Syrup",
             "Cocoa Powder",
             "Sorbitan Tristearate",
             "Emulsifier 471",
             "Sodium Bicarbonate",
             "Enzymes"
            ],
            [
             "Sugar",
             "Flavour",
             "Wheat Flour",
             "Salt",
             "Vegetable Oil",
             "Milk Solids",
             "Cocoa Butter",
             "Emulsifier Soy Lecithin",
             "Cocoa Mass",
             "Polyglycerol polyricinoleate",
             "Desiccated Coconut",
             "Wheat Starch",
             "Baking Powder",
             "Colouring Agent Caramel IV",
             "Antioxidant E307B"
            ],
            [
             "Sugar",
             "Wheat Flour",
             "Salt",
             "Wheat",
             "Vegetable Oil",
             "Antioxidant 307b",
             "Emulsifier Soy Lecithin",
             "Milk",
             "Dark Compound Chocolate Chips",
             "Palm Oil",
             "Cocoa Solids",
             "Natural Flavour",
             "Wheaten Corn Flour",
             "Whole Egg Powder",
             "Milk Whey Powder",
             "Annatto Extracts",
             "Sodium Carbonate",
             "Ammonium Carbonate"
            ],
            [
             "Sugar",
             "Wheat Flour",
             "Salt",
             "Vegetable Oil",
             "Antioxidant 307b",
             "Cocoa Butter",
             "Emulsifier Soy Lecithin",
             "Cocoa Mass",
             "Palm Oil",
             "Milk Whey Powder",
             "Dark Chocolate Chips",
             "Natural Vanilla Flavour",
             "Milk Butter",
             "Natural Flavour Vanilla",
             "Natural Flavour Butter",
             "Sodium Carbonate",
             "Ammonium Carbonate"
            ],
            [
             "Sugar",
             "Wheat Flour",
             "Salt",
             "Vegetable Oil",
             "Cocoa Butter",
             "Emulsifier Soy Lecithin",
             "Cocoa Mass",
             "Desiccated Coconut",
             "Baking Powder",
             "Antioxidant E307B",
             "Natural Flavour",
             "Milk Butter",
             "Chocolate Chips",
             "Skim Milk Powder"
            ],
            [
             "Sugar",
             "Flavour",
             "Wheat Flour",
             "Salt",
             "TBHQ",
             "Vegetable Oil",
             "Citric Acid",
             "Emulsifier Soy Lecithin",
             "Cocoa Powder",
             "Sodium Bicarbonate",
             "Fructose Syrup",
             "Cornstarch",
             "Ammonium Bicarbonate",
             "Mineral Iron",
             "Zinc",
             "Riboflavin",
             "Thiamin",
             "Folate",
             "Strawberry",
             "Carmine"
            ],
            [
             "Sugar",
             "Flavour",
             "Wheat Flour",
             "Salt",
             "Vegetable Oil",
             "Vegetable Fat",
             "Potato Starch",
             "Milk Solids",
             "Cocoa Butter",
             "Cocoa Mass",
             "Glucose Syrup",
             "Sodium Bicarbonate",
             "Ammonium Bicarbonate",
             "Milk Chocolate Chips",
             "Dextrose",
             "Emulsifier 442",
             "Egg",
             "Stabiliser 422",
             "Soybean Fibre",
             "Thickener 1422",
             "Raising Agent 450",
             "Colouring Agent 160a"
            ],
            [
             "Sugar",
             "Flavour",
             "Wheat Flour",
             "Salt",
             "Vegetable Oil",
             "Flavours",
             "Milk Solids",
             "Cocoa Butter",
             "Emulsifier Soy Lecithin",
             "Cocoa Mass",
             "Cocoa Powder",
             "Sodium Bicarbonate",
             "Wheat Starch",
             "Ammonium Bicarbonate",
             "Milk Chocolate Chips",
             "Dextrose",
             "Emulsifier 442",
             "Soybean Fibre",
             "Raising Agent 450",
             "Colouring Agent 160a",
             "Citric Acid",
             "Thickener 1414"
            ],
            [
             "Sugar",
             "Flavour",
             "Wheat Flour",
             "Salt",
             "Vegetable Oil",
             "Vegetable Fat",
             "Milk Solids",
             "Emulsifier Soy Lecithin",
             "Polyglycerol Polyricinoleate",
             "Cocoa Powder",
             "Sorbitan Tristearate",
             "Sodium Bicarbonate",
             "Natural Vanilla Flavour",
             "Milk Butter",
             "Cornstarch",
             "Egg",
             "Raising Agent 450",
             "Milk Compound Chocolate",
             "Glazing Agent 414",
             "Carnauba Wax",
             "Colouring Agent Titan White",
             "Colouring Agent Spirulina Extract",
             "Beta carotene",
             "Red Beetroot Powder",
             "Black Carrot Extract",
             "Cultured Dextrose",
             "Maize Starch"
            ],
            [
             "",
             "Polyethylene",
             "Synthetic Wax",
             "Bis-Diglyceryl Polyacyladipate-2",
             "Polybutene",
             "Silica",
             "Octyldodecanol",
             "Pentaerythrityl Tetra-di-t-butyl Hydroxyhydrocinnamate",
             "Mica",
             "Ultramarines",
             "Iron Oxides",
             "Titanium Dioxide",
             "Ferric Ferrocyanide",
             "Carmine"
            ],
            [
             "Natural Flavour",
             "Reconstituted Apple Juice",
             "Citric Acid",
             "Vitamin C"
            ],
            [
             "Natural Flavour",
             "Citric Acid",
             "Vitamin C",
             "Reconstituted Apple Juice",
             "Reconstituted Mango Juice"
            ],
            [
             "Natural Flavour",
             "Citric Acid",
             "Vitamin C",
             "Reconstituted Fruit Juice Orange"
            ],
            [
             "Natural Flavours",
             "Citric Acid",
             "Vitamin C",
             "Reconstituted Apple Juice",
             "Reconstituted Mango Juice",
             "Reconstituted Fruit Juice Orange",
             "Reconstituted Fruit Juice Pineapple",
             "Reconstituted Fruit Juice Passionfruit",
             "Carboxymethyl Cellulose"
            ],
            [
             "Natural Flavour",
             "Citric Acid",
             "Vitamin C",
             "Reconstituted Apple Juice",
             "Reconstituted Fruit Juice Blackcurrant",
             "Anthocyanins"
            ],
            [
             "Natural Flavours",
             "Folate",
             "Citric Acid",
             "Vitamin C",
             "Reconstituted Apple Juice",
             "Reconstituted Mango Juice",
             "Reconstituted Fruit Juice Orange",
             "Reconstituted Fruit Juice Passionfruit",
             "Reconstituted Fruit Juice Grape",
             "Reconstituted Fruit Juice Apricot",
             "Reconstituted Fruit Juice Peach",
             "Reconstituted Fruit Juice Pear",
             "Reconstituted Lemon Juice",
             "Guava Puree",
             "Vitamin A"
            ],
            [
             "Sugar",
             "Water",
             "Citric Acid",
             "Natural Flavours",
             "Vitamin C",
             "Reconstituted Apple Juice",
             "Reconstituted Fruit Juice Pineapple",
             "Reconstituted Fruit Juice Passionfruit",
             "Reconstituted Fruit Juice Pear",
             "Potassium Citrate"
            ],
            [
             "Sugar",
             "Water",
             "Citric Acid",
             "Natural Flavour",
             "Vitamin C",
             "Reconstituted Fruit Juice Orange",
             "Reconstituted Fruit Juice Pineapple",
             "Pectin"
            ],
            [
             "Sugar",
             "Water",
             "Citric Acid",
             "Natural Flavours",
             "Vitamin C",
             "Reconstituted Apple Juice",
             "Reconstituted Fruit Juice Orange",
             "Reconstituted Fruit Juice Pineapple",
             "Reconstituted Fruit Juice Passionfruit",
             "Reconstituted Fruit Juice Pear",
             "Potassium Citrate",
             "Pectin",
             "Reconstituted Fruit Juice Water Extracted Orange",
             "Reconstituted Fruit Juice Peach Purée"
            ],
            [
             "Sugar",
             "Water",
             "Citric Acid",
             "Natural Flavours",
             "Vitamin C",
             "Reconstituted Apple Juice",
             "Reconstituted Fruit Juice Orange",
             "Reconstituted Fruit Juice Pineapple",
             "Reconstituted Fruit Juice Passionfruit",
             "Reconstituted Fruit Juice Pear",
             "Potassium Citrate",
             "Reconstituted Fruit Juice Peach Purée"
            ],
            [
             "Full Cream Milk",
             "Cream"
            ],
            [
             "Sugar",
             "Flavour",
             "Wheat Flour",
             "Salt",
             "TBHQ",
             "Vegetable Oil",
             "Emulsifier Soy Lecithin",
             "Cocoa Powder",
             "Sodium Bicarbonate",
             "Cornstarch",
             "Ammonium Bicarbonate",
             "Mineral Iron",
             "Zinc",
             "Riboflavin",
             "Thiamin",
             "Folate",
             "Fructose",
             "Syrup"
            ],
            [
             "Sugar",
             "Wheat Flour",
             "TBHQ",
             "Vegetable Oil",
             "Iodised Salt",
             "Maltodextrin",
             "Flavours",
             "Citric Acid",
             "Emulsifier Soy Lecithin",
             "Cocoa Powder",
             "Sodium Bicarbonate",
             "Fructose Syrup",
             "Cornstarch",
             "Ammonium Bicarbonate",
             "Mineral Iron",
             "Zinc",
             "Riboflavin",
             "Thiamin",
             "Folate",
             "Carmine"
            ],
            [
             "Salt",
             "Water",
             "Vegetable Oil",
             "Sardines"
            ],
            [
             "Sugar",
             "Salt",
             "Milk",
             "Natural Vanilla Flavour",
             "Rice",
             "Skim Milk",
             "Acidity Regulator 339"
            ],
            [
             "Sugar",
             "Salt",
             "Spices",
             "Citric Acid",
             "Thickener Modified Corn Starch",
             "Acetic Acid",
             "Reconstituted Fruit Puree",
             "Apple Pulp",
             "Tomato Paste",
             "Molasses",
             "Caramel I",
             "Smoke Flavour",
             "Xanthan Gum"
            ],
            [
             "Sugar",
             "Salt",
             "Onion",
             "Citric Acid",
             "Spice Extract",
             "Tomato Paste",
             "Acetic Acid"
            ],
            [
             "Sugar",
             "Salt",
             "Yeast Extract",
             "Pepper",
             "Onion",
             "Water",
             "Citric Acid",
             "Glucose Syrup",
             "Acetic Acid",
             "Tomatoes",
             "Wheat Cornflour",
             "Caramel Color 150c",
             "Pectin",
             "Tamarind Paste",
             "Clove",
             "Nutmeg"
            ],
            [
             "Sugar",
             "Salt",
             "Natural Flavour",
             "Tomato Puree",
             "Acetic Acid"
            ],
            [
             "Sugar",
             "Colouring Agent 150d",
             "Salt",
             "Spices",
             "Natural Flavours",
             "Molasses",
             "Tomatoes",
             "Acetic Acid",
             "Maize Thickener 1422",
             "Maize Maltodextrin",
             "Xanthan Gum"
            ],
            [
             "Sugar",
             "Salt",
             "Onion Powder",
             "Water",
             "Thickener 1422",
             "Citric Acid",
             "Canola Oil",
             "Vinegar",
             "Xanthan Gum",
             "Free Range Egg Yolk",
             "Gherkin",
             "Carotene",
             "Paprika Oleoresins",
             "Potassium Sorbate",
             "Dill",
             "Herb Extract",
             "Mustard Oil"
            ],
            [
             "Sugar",
             "Salt",
             "Citric Acid",
             "Natural Flavours",
             "Tomatoes",
             "White Vinegar"
            ],
            [
             "Sugar",
             "Salt",
             "Spices",
             "Natural Flavour",
             "Citric Acid",
             "Thickener Modified Corn Starch",
             "Acetic Acid",
             "Molasses",
             "Caramel I",
             "Smoke Flavour",
             "Xanthan Gum",
             "Reconstituted Fruit Puree Apple",
             "Reconstituted Fruit Puree Tomato Paste"
            ],
            [
             "Salt",
             "Flavour Enhancer 621",
             "Onion Powder",
             "Yeast Extract",
             "Maltodextrin",
             "Potassium Chloride",
             "Citric Acid",
             "Milk Whey Powder",
             "Dextrose",
             "Canola Oil",
             "Potatoes",
             "Sunflower Oil",
             "Cheese Powder",
             "Flavoured Milk"
            ],
            [
             "Sugar",
             "Salt",
             "Flavour Enhancer 621",
             "Garlic Powder",
             "Onion Powder",
             "Flavour Enhancer 635",
             "Maltodextrin",
             "Potassium Chloride",
             "Flavours",
             "Citric Acid",
             "Canola Oil",
             "Potatoes",
             "Sunflower Oil",
             "Tomato Powder",
             "Sodium Diacetate",
             "Paprika"
            ],
            [
             "Sugar",
             "Salt",
             "Flavour Enhancer 621",
             "Onion Powder",
             "Yeast Extract",
             "Flavour Enhancer 635",
             "Maltodextrin",
             "Potassium Chloride",
             "Parsley",
             "Canola Oil",
             "Potatoes",
             "Sunflower Oil",
             "Antioxidant Tocopherols",
             "Ascorbic Acid",
             "Antioxidant Rosemary Extract",
             "Citric Acid",
             "Flavoured Milk",
             "Flavour Enhancer 620",
             "Turmeric"
            ],
            [
             "Salt",
             "Flavour Enhancer 621",
             "Vegetable Oil",
             "Potassium Chloride",
             "Natural Flavour",
             "Acetic Acid",
             "Potatoes",
             "Sodium Diacetate"
            ],
            [
             "Sugar",
             "Salt",
             "Flavour Enhancer 621",
             "Onion Powder",
             "Pepper",
             "Vegetable Oil",
             "Flavour Enhancer 635",
             "Potassium Chloride",
             "Parsley",
             "Flavours",
             "Citric Acid",
             "Potatoes",
             "Glucose",
             "Vegetable Powder Garlic"
            ],
            [
             "Sugar",
             "Salt",
             "Flavour Enhancer 621",
             "Potassium Chloride",
             "Citric Acid",
             "Natural Flavours",
             "Dextrose",
             "Canola Oil",
             "Potatoes",
             "Sunflower Oil",
             "Antioxidant Tocopherols",
             "Ascorbic Acid",
             "Antioxidant Rosemary Extract",
             "Sodium Diacetate",
             "Milk Lactose"
            ],
            [
             "Sugar",
             "Flavour",
             "Salt",
             "Onion Powder",
             "Vegetable Oil",
             "Flavour Enhancer 635",
             "Milk Whey Powder",
             "Potatoes",
             "Vegetable Powder Tomato",
             "Garam Masala",
             "Buttermilk Powder"
            ],
            [
             "Sugar",
             "Salt",
             "Flavour Enhancer 621",
             "Onion Powder",
             "Yeast Extract",
             "Vegetable Oil",
             "Flavour Enhancer 635",
             "Turmeric",
             "Potassium Chloride",
             "Parsley",
             "Yeast",
             "Natural Flavour",
             "Milk Whey Powder",
             "Potatoes",
             "Cheese Powder",
             "Lactic Acid",
             "Paprika Extract"
            ],
            [
             "Sugar",
             "Water",
             "Citric Acid",
             "Ascorbic Acid",
             "Carrageenan",
             "Locust Bean Gum",
             "Xanthan Gum",
             "Sodium Citrate",
             "Potassium Citrate",
             "Calcium Lactate",
             "Malic Acid",
             "Natural Strawberry Flavour",
             "Cochineal",
             "Fruit Peach"
            ],
            [
             "Citric Acid",
             "Ascorbic Acid",
             "Fruit Peach",
             "Pear",
             "Refined Fruit Juice Apple",
             "Refined Fruit Juice Grape",
             "Refined Fruit Juice Peach",
             "Refined Fruit Juice Pear"
            ],
            [
             "Sugar",
             "Water",
             "Citric Acid",
             "Carotene",
             "Paprika Oleoresins",
             "Ascorbic Acid",
             "Carrageenan",
             "Locust Bean Gum",
             "Xanthan Gum",
             "Sodium Citrate",
             "Potassium Citrate",
             "Calcium Lactate",
             "Malic Acid",
             "Fruit Peach",
             "Pear",
             "Natural Flavour Pineapple",
             "Natural Flavour Mango"
            ],
            [
             "Sugar",
             "Water",
             "Citric Acid",
             "Carotene",
             "Ascorbic Acid",
             "Carrageenan",
             "Locust Bean Gum",
             "Xanthan Gum",
             "Sodium Citrate",
             "Potassium Citrate",
             "Calcium Lactate",
             "Malic Acid",
             "Jelly Natural Pineapple Flavour",
             "Apple"
            ],
            [
             "Sugar",
             "Water",
             "Pineapple",
             "Citric Acid"
            ],
            [
             "Water",
             "Pineapple",
             "Pineapple Juice",
             "Clarified Pineapple Juice Concentrate"
            ]
           ]
          ]
         },
         "header": {
          "values": [
           "Frequency",
           "Ingredient Research List"
          ]
         },
         "type": "table"
        }
       ],
       "layout": {
        "template": {
         "data": {
          "bar": [
           {
            "error_x": {
             "color": "#2a3f5f"
            },
            "error_y": {
             "color": "#2a3f5f"
            },
            "marker": {
             "line": {
              "color": "#E5ECF6",
              "width": 0.5
             },
             "pattern": {
              "fillmode": "overlay",
              "size": 10,
              "solidity": 0.2
             }
            },
            "type": "bar"
           }
          ],
          "barpolar": [
           {
            "marker": {
             "line": {
              "color": "#E5ECF6",
              "width": 0.5
             },
             "pattern": {
              "fillmode": "overlay",
              "size": 10,
              "solidity": 0.2
             }
            },
            "type": "barpolar"
           }
          ],
          "carpet": [
           {
            "aaxis": {
             "endlinecolor": "#2a3f5f",
             "gridcolor": "white",
             "linecolor": "white",
             "minorgridcolor": "white",
             "startlinecolor": "#2a3f5f"
            },
            "baxis": {
             "endlinecolor": "#2a3f5f",
             "gridcolor": "white",
             "linecolor": "white",
             "minorgridcolor": "white",
             "startlinecolor": "#2a3f5f"
            },
            "type": "carpet"
           }
          ],
          "choropleth": [
           {
            "colorbar": {
             "outlinewidth": 0,
             "ticks": ""
            },
            "type": "choropleth"
           }
          ],
          "contour": [
           {
            "colorbar": {
             "outlinewidth": 0,
             "ticks": ""
            },
            "colorscale": [
             [
              0,
              "#0d0887"
             ],
             [
              0.1111111111111111,
              "#46039f"
             ],
             [
              0.2222222222222222,
              "#7201a8"
             ],
             [
              0.3333333333333333,
              "#9c179e"
             ],
             [
              0.4444444444444444,
              "#bd3786"
             ],
             [
              0.5555555555555556,
              "#d8576b"
             ],
             [
              0.6666666666666666,
              "#ed7953"
             ],
             [
              0.7777777777777778,
              "#fb9f3a"
             ],
             [
              0.8888888888888888,
              "#fdca26"
             ],
             [
              1,
              "#f0f921"
             ]
            ],
            "type": "contour"
           }
          ],
          "contourcarpet": [
           {
            "colorbar": {
             "outlinewidth": 0,
             "ticks": ""
            },
            "type": "contourcarpet"
           }
          ],
          "heatmap": [
           {
            "colorbar": {
             "outlinewidth": 0,
             "ticks": ""
            },
            "colorscale": [
             [
              0,
              "#0d0887"
             ],
             [
              0.1111111111111111,
              "#46039f"
             ],
             [
              0.2222222222222222,
              "#7201a8"
             ],
             [
              0.3333333333333333,
              "#9c179e"
             ],
             [
              0.4444444444444444,
              "#bd3786"
             ],
             [
              0.5555555555555556,
              "#d8576b"
             ],
             [
              0.6666666666666666,
              "#ed7953"
             ],
             [
              0.7777777777777778,
              "#fb9f3a"
             ],
             [
              0.8888888888888888,
              "#fdca26"
             ],
             [
              1,
              "#f0f921"
             ]
            ],
            "type": "heatmap"
           }
          ],
          "heatmapgl": [
           {
            "colorbar": {
             "outlinewidth": 0,
             "ticks": ""
            },
            "colorscale": [
             [
              0,
              "#0d0887"
             ],
             [
              0.1111111111111111,
              "#46039f"
             ],
             [
              0.2222222222222222,
              "#7201a8"
             ],
             [
              0.3333333333333333,
              "#9c179e"
             ],
             [
              0.4444444444444444,
              "#bd3786"
             ],
             [
              0.5555555555555556,
              "#d8576b"
             ],
             [
              0.6666666666666666,
              "#ed7953"
             ],
             [
              0.7777777777777778,
              "#fb9f3a"
             ],
             [
              0.8888888888888888,
              "#fdca26"
             ],
             [
              1,
              "#f0f921"
             ]
            ],
            "type": "heatmapgl"
           }
          ],
          "histogram": [
           {
            "marker": {
             "pattern": {
              "fillmode": "overlay",
              "size": 10,
              "solidity": 0.2
             }
            },
            "type": "histogram"
           }
          ],
          "histogram2d": [
           {
            "colorbar": {
             "outlinewidth": 0,
             "ticks": ""
            },
            "colorscale": [
             [
              0,
              "#0d0887"
             ],
             [
              0.1111111111111111,
              "#46039f"
             ],
             [
              0.2222222222222222,
              "#7201a8"
             ],
             [
              0.3333333333333333,
              "#9c179e"
             ],
             [
              0.4444444444444444,
              "#bd3786"
             ],
             [
              0.5555555555555556,
              "#d8576b"
             ],
             [
              0.6666666666666666,
              "#ed7953"
             ],
             [
              0.7777777777777778,
              "#fb9f3a"
             ],
             [
              0.8888888888888888,
              "#fdca26"
             ],
             [
              1,
              "#f0f921"
             ]
            ],
            "type": "histogram2d"
           }
          ],
          "histogram2dcontour": [
           {
            "colorbar": {
             "outlinewidth": 0,
             "ticks": ""
            },
            "colorscale": [
             [
              0,
              "#0d0887"
             ],
             [
              0.1111111111111111,
              "#46039f"
             ],
             [
              0.2222222222222222,
              "#7201a8"
             ],
             [
              0.3333333333333333,
              "#9c179e"
             ],
             [
              0.4444444444444444,
              "#bd3786"
             ],
             [
              0.5555555555555556,
              "#d8576b"
             ],
             [
              0.6666666666666666,
              "#ed7953"
             ],
             [
              0.7777777777777778,
              "#fb9f3a"
             ],
             [
              0.8888888888888888,
              "#fdca26"
             ],
             [
              1,
              "#f0f921"
             ]
            ],
            "type": "histogram2dcontour"
           }
          ],
          "mesh3d": [
           {
            "colorbar": {
             "outlinewidth": 0,
             "ticks": ""
            },
            "type": "mesh3d"
           }
          ],
          "parcoords": [
           {
            "line": {
             "colorbar": {
              "outlinewidth": 0,
              "ticks": ""
             }
            },
            "type": "parcoords"
           }
          ],
          "pie": [
           {
            "automargin": true,
            "type": "pie"
           }
          ],
          "scatter": [
           {
            "fillpattern": {
             "fillmode": "overlay",
             "size": 10,
             "solidity": 0.2
            },
            "type": "scatter"
           }
          ],
          "scatter3d": [
           {
            "line": {
             "colorbar": {
              "outlinewidth": 0,
              "ticks": ""
             }
            },
            "marker": {
             "colorbar": {
              "outlinewidth": 0,
              "ticks": ""
             }
            },
            "type": "scatter3d"
           }
          ],
          "scattercarpet": [
           {
            "marker": {
             "colorbar": {
              "outlinewidth": 0,
              "ticks": ""
             }
            },
            "type": "scattercarpet"
           }
          ],
          "scattergeo": [
           {
            "marker": {
             "colorbar": {
              "outlinewidth": 0,
              "ticks": ""
             }
            },
            "type": "scattergeo"
           }
          ],
          "scattergl": [
           {
            "marker": {
             "colorbar": {
              "outlinewidth": 0,
              "ticks": ""
             }
            },
            "type": "scattergl"
           }
          ],
          "scattermapbox": [
           {
            "marker": {
             "colorbar": {
              "outlinewidth": 0,
              "ticks": ""
             }
            },
            "type": "scattermapbox"
           }
          ],
          "scatterpolar": [
           {
            "marker": {
             "colorbar": {
              "outlinewidth": 0,
              "ticks": ""
             }
            },
            "type": "scatterpolar"
           }
          ],
          "scatterpolargl": [
           {
            "marker": {
             "colorbar": {
              "outlinewidth": 0,
              "ticks": ""
             }
            },
            "type": "scatterpolargl"
           }
          ],
          "scatterternary": [
           {
            "marker": {
             "colorbar": {
              "outlinewidth": 0,
              "ticks": ""
             }
            },
            "type": "scatterternary"
           }
          ],
          "surface": [
           {
            "colorbar": {
             "outlinewidth": 0,
             "ticks": ""
            },
            "colorscale": [
             [
              0,
              "#0d0887"
             ],
             [
              0.1111111111111111,
              "#46039f"
             ],
             [
              0.2222222222222222,
              "#7201a8"
             ],
             [
              0.3333333333333333,
              "#9c179e"
             ],
             [
              0.4444444444444444,
              "#bd3786"
             ],
             [
              0.5555555555555556,
              "#d8576b"
             ],
             [
              0.6666666666666666,
              "#ed7953"
             ],
             [
              0.7777777777777778,
              "#fb9f3a"
             ],
             [
              0.8888888888888888,
              "#fdca26"
             ],
             [
              1,
              "#f0f921"
             ]
            ],
            "type": "surface"
           }
          ],
          "table": [
           {
            "cells": {
             "fill": {
              "color": "#EBF0F8"
             },
             "line": {
              "color": "white"
             }
            },
            "header": {
             "fill": {
              "color": "#C8D4E3"
             },
             "line": {
              "color": "white"
             }
            },
            "type": "table"
           }
          ]
         },
         "layout": {
          "annotationdefaults": {
           "arrowcolor": "#2a3f5f",
           "arrowhead": 0,
           "arrowwidth": 1
          },
          "autotypenumbers": "strict",
          "coloraxis": {
           "colorbar": {
            "outlinewidth": 0,
            "ticks": ""
           }
          },
          "colorscale": {
           "diverging": [
            [
             0,
             "#8e0152"
            ],
            [
             0.1,
             "#c51b7d"
            ],
            [
             0.2,
             "#de77ae"
            ],
            [
             0.3,
             "#f1b6da"
            ],
            [
             0.4,
             "#fde0ef"
            ],
            [
             0.5,
             "#f7f7f7"
            ],
            [
             0.6,
             "#e6f5d0"
            ],
            [
             0.7,
             "#b8e186"
            ],
            [
             0.8,
             "#7fbc41"
            ],
            [
             0.9,
             "#4d9221"
            ],
            [
             1,
             "#276419"
            ]
           ],
           "sequential": [
            [
             0,
             "#0d0887"
            ],
            [
             0.1111111111111111,
             "#46039f"
            ],
            [
             0.2222222222222222,
             "#7201a8"
            ],
            [
             0.3333333333333333,
             "#9c179e"
            ],
            [
             0.4444444444444444,
             "#bd3786"
            ],
            [
             0.5555555555555556,
             "#d8576b"
            ],
            [
             0.6666666666666666,
             "#ed7953"
            ],
            [
             0.7777777777777778,
             "#fb9f3a"
            ],
            [
             0.8888888888888888,
             "#fdca26"
            ],
            [
             1,
             "#f0f921"
            ]
           ],
           "sequentialminus": [
            [
             0,
             "#0d0887"
            ],
            [
             0.1111111111111111,
             "#46039f"
            ],
            [
             0.2222222222222222,
             "#7201a8"
            ],
            [
             0.3333333333333333,
             "#9c179e"
            ],
            [
             0.4444444444444444,
             "#bd3786"
            ],
            [
             0.5555555555555556,
             "#d8576b"
            ],
            [
             0.6666666666666666,
             "#ed7953"
            ],
            [
             0.7777777777777778,
             "#fb9f3a"
            ],
            [
             0.8888888888888888,
             "#fdca26"
            ],
            [
             1,
             "#f0f921"
            ]
           ]
          },
          "colorway": [
           "#636efa",
           "#EF553B",
           "#00cc96",
           "#ab63fa",
           "#FFA15A",
           "#19d3f3",
           "#FF6692",
           "#B6E880",
           "#FF97FF",
           "#FECB52"
          ],
          "font": {
           "color": "#2a3f5f"
          },
          "geo": {
           "bgcolor": "white",
           "lakecolor": "white",
           "landcolor": "#E5ECF6",
           "showlakes": true,
           "showland": true,
           "subunitcolor": "white"
          },
          "hoverlabel": {
           "align": "left"
          },
          "hovermode": "closest",
          "mapbox": {
           "style": "light"
          },
          "paper_bgcolor": "white",
          "plot_bgcolor": "#E5ECF6",
          "polar": {
           "angularaxis": {
            "gridcolor": "white",
            "linecolor": "white",
            "ticks": ""
           },
           "bgcolor": "#E5ECF6",
           "radialaxis": {
            "gridcolor": "white",
            "linecolor": "white",
            "ticks": ""
           }
          },
          "scene": {
           "xaxis": {
            "backgroundcolor": "#E5ECF6",
            "gridcolor": "white",
            "gridwidth": 2,
            "linecolor": "white",
            "showbackground": true,
            "ticks": "",
            "zerolinecolor": "white"
           },
           "yaxis": {
            "backgroundcolor": "#E5ECF6",
            "gridcolor": "white",
            "gridwidth": 2,
            "linecolor": "white",
            "showbackground": true,
            "ticks": "",
            "zerolinecolor": "white"
           },
           "zaxis": {
            "backgroundcolor": "#E5ECF6",
            "gridcolor": "white",
            "gridwidth": 2,
            "linecolor": "white",
            "showbackground": true,
            "ticks": "",
            "zerolinecolor": "white"
           }
          },
          "shapedefaults": {
           "line": {
            "color": "#2a3f5f"
           }
          },
          "ternary": {
           "aaxis": {
            "gridcolor": "white",
            "linecolor": "white",
            "ticks": ""
           },
           "baxis": {
            "gridcolor": "white",
            "linecolor": "white",
            "ticks": ""
           },
           "bgcolor": "#E5ECF6",
           "caxis": {
            "gridcolor": "white",
            "linecolor": "white",
            "ticks": ""
           }
          },
          "title": {
           "x": 0.05
          },
          "xaxis": {
           "automargin": true,
           "gridcolor": "white",
           "linecolor": "white",
           "ticks": "",
           "title": {
            "standoff": 15
           },
           "zerolinecolor": "white",
           "zerolinewidth": 2
          },
          "yaxis": {
           "automargin": true,
           "gridcolor": "white",
           "linecolor": "white",
           "ticks": "",
           "title": {
            "standoff": 15
           },
           "zerolinecolor": "white",
           "zerolinewidth": 2
          }
         }
        },
        "title": {
         "text": "High Frequency Ingredient Research and Associated Products (Sorted by Frequency)"
        }
       }
      }
     },
     "metadata": {},
     "output_type": "display_data"
    }
   ],
   "source": [
    "import plotly.graph_objects as go\n",
    "import pandas as pd\n",
    "\n",
    "\n",
    "query = \"\"\"\n",
    "MATCH (p:Product)-[:HAS_RECIPE]->(:Recipe)-[:USES_INGREDIENT]->(:Ingredient)-[:HAS_RESEARCH]->(res1:IngredientResearch)\n",
    "WITH p, COLLECT(DISTINCT res1.ingredient_name) AS ingredientResearchList\n",
    "WHERE size(ingredientResearchList) >= 2\n",
    "RETURN ingredientResearchList, COUNT(*) AS frequency\n",
    "ORDER BY frequency DESC\n",
    "\n",
    "\"\"\"\n",
    "\n",
    "with driver.session() as session:\n",
    "    result = session.run(query)\n",
    "    data = [record.data() for record in result]\n",
    "    df = pd.DataFrame(data)\n",
    "\n",
    "import plotly.graph_objects as go\n",
    "\n",
    "\n",
    "\n",
    "\n",
    "table_data = go.Table(\n",
    "    header=dict(values=['Frequency', 'Ingredient Research List']),\n",
    "    cells=dict(values=[df['frequency'], df['ingredientResearchList']])\n",
    ")\n",
    "\n",
    "\n",
    "layout = go.Layout(title='High Frequency Ingredient Research and Associated Products (Sorted by Frequency)')\n",
    "fig = go.Figure(data=table_data, layout=layout)\n",
    "fig.show()\n"
   ]
  },
  {
   "cell_type": "code",
   "execution_count": null,
   "metadata": {},
   "outputs": [],
   "source": [
    "from neo4j import GraphDatabase\n",
    "\n",
    "\n",
    "# Define functions to create group nodes\n",
    "def create_group(tx, group_name):\n",
    "    tx.run(\"CREATE (:Group {name: $group_name})\", group_name=group_name)\n",
    "\n",
    "# Define functions to create relationships\n",
    "def create_relationship(tx, product_name, group_name):\n",
    "    tx.run(\"\"\"\n",
    "    MATCH (p:Product {name: $product_name})\n",
    "    MATCH (g:Group {name: $group_name})\n",
    "    CREATE (p)-[:GROUP_TO]->(g)\n",
    "    \"\"\", product_name=product_name, group_name=group_name)\n",
    "\n",
    "# Extracting grouping information from a DataFrame and saving it to a Neo4j database\n",
    "with driver.session() as session:\n",
    "    for group_name, products in new_df.groupby('Group'):\n",
    "        # Create group nodes\n",
    "        session.write_transaction(create_group, group_name)\n",
    "        \n",
    "        # Create relationships for each product\n",
    "        for product in products['Products']:\n",
    "            session.write_transaction(create_relationship, product, group_name)"
   ]
  },
  {
   "cell_type": "code",
   "execution_count": 10,
   "metadata": {},
   "outputs": [
    {
     "name": "stderr",
     "output_type": "stream",
     "text": [
      "C:\\Users\\apple\\AppData\\Local\\Temp\\ipykernel_11100\\3432810751.py:19: DeprecationWarning:\n",
      "\n",
      "write_transaction has been renamed to execute_write\n",
      "\n",
      "C:\\Users\\apple\\AppData\\Local\\Temp\\ipykernel_11100\\3432810751.py:23: DeprecationWarning:\n",
      "\n",
      "write_transaction has been renamed to execute_write\n",
      "\n"
     ]
    }
   ],
   "source": [
    "# Define function to create group nodes\n",
    "def create_group(tx, group_name):\n",
    "    tx.run(\"MERGE (:Group {name: $group_name})\", group_name=group_name)\n",
    "\n",
    "# Define function to create relationships\n",
    "def create_relationships(tx, group_name, product_names):\n",
    "    query = \"\"\"\n",
    "        MATCH (g:Group {name: $group_name})\n",
    "        UNWIND $product_names AS product_name\n",
    "        MATCH (p:Product {name: product_name})\n",
    "        MERGE (p)-[:GROUPS_TO]->(g)\n",
    "    \"\"\"\n",
    "    tx.run(query, group_name=group_name, product_names=product_names)\n",
    "\n",
    "# Extracting grouping information from the DataFrame and saving it to the Neo4j database\n",
    "with driver.session() as session:\n",
    "    for group_name, group_data in new_df.groupby('Group'):\n",
    "        # Create group nodes\n",
    "        session.write_transaction(create_group, group_name)\n",
    "        \n",
    "        # Create relationships for products in each group\n",
    "        product_names = group_data['Products'].explode().tolist()\n",
    "        session.write_transaction(create_relationships, group_name, product_names)"
   ]
  },
  {
   "cell_type": "code",
   "execution_count": 18,
   "metadata": {},
   "outputs": [
    {
     "name": "stderr",
     "output_type": "stream",
     "text": [
      "C:\\Users\\apple\\AppData\\Local\\Temp\\ipykernel_10132\\1320609309.py:20: DeprecationWarning:\n",
      "\n",
      "read_transaction has been renamed to execute_read\n",
      "\n"
     ]
    },
    {
     "name": "stdout",
     "output_type": "stream",
     "text": [
      "                                              Product  Group\n",
      "0                              Woolworths Apple Juice      0\n",
      "1                        Indomie Mi Goreng Noodle Cup      7\n",
      "2     Smith's Crinkle Cut Potato Chips Salt & Vinegar      0\n",
      "3          Schweppes Soda Water Bottle Classic Mixers      2\n",
      "4      Schweppes Natural Mineral Water Bottle Natural      3\n",
      "..                                                ...    ...\n",
      "98       Golden Circle Drinks Pine Orange Fruit Drink      0\n",
      "99                                Thins Chips Chicken      7\n",
      "100  Schweppes Lime Soda Water With Lime Juice Bottle      2\n",
      "101      Cadbury Dairy Milk Caramello Koala Chocolate      4\n",
      "102                   Woolworths Tomato Sauce Squeeze      0\n",
      "\n",
      "[103 rows x 2 columns]\n"
     ]
    },
    {
     "data": {
      "application/vnd.plotly.v1+json": {
       "config": {
        "plotlyServerURL": "https://plot.ly"
       },
       "data": [
        {
         "cells": {
          "values": [
           [
            "Woolworths Apple Juice",
            "Indomie Mi Goreng Noodle Cup",
            "Smith's Crinkle Cut Potato Chips Salt & Vinegar",
            "Schweppes Soda Water Bottle Classic Mixers",
            "Schweppes Natural Mineral Water Bottle Natural",
            "Woolworths The King Of Chunky Chocolate Chip Cookies",
            "Masterfoods Barbecue Sauce",
            "Oreo Original Cookies Family Pack",
            "Oreo Neapolitan Double Stuff Cookies",
            "Woolworths Full Cream Milk",
            "Arnott's Premier Chocolate Chip Cookies",
            "Twix Milk Chocolate Bar With Caramel Biscuit",
            "Woolworths Apple In Pineapple Jelly",
            "Woolworths Chocolate Chip Cookies",
            "Woolworths Apple & Blackcurrant Juice",
            "Kitkat 4 Finger Milk Chocolate Bar",
            "Thins Chips Salt & Vinegar",
            "A2 Milk Full Cream Milk",
            "Coca - Cola Zero Sugar Soft Drink Mini Cans",
            "Indomie Mi Goreng Instant Noodles",
            "Schweppes Orange Mango Natural Mineral Water Bottle",
            "Frantelle Australian Still Spring Water Bottles Multipack",
            "Fantastic Chicken Noodle Cup",
            "Oreo Original Cookies",
            "Woolworths Creamed Rice",
            "Thins Cheese & Onion Chips",
            "Woolworths Two Fruits In Juice Cups",
            "Schweppes Lemon Lime Natural Mineral Water Bottle",
            "Essentials Coconut Cream",
            "Coca - Cola Caffeine Free Zero Sugar Soft Drink Multipack Cans",
            "Woolworths Orange Juice",
            "Woolworths Barbecue Sauce",
            "Fantastic Chicken Noodle Bowl",
            "Coca - Cola Classic  Soft Drink Mini Cans",
            "Schweppes Indian Tonic Water Classic Mixers Bottle",
            "Oreo Chocolate Cookies",
            "Golden Circle Drinks Sunshine Punch Fruit Drink",
            "Woolworths Peach In Strawberry Jelly",
            "Goulburn Valley Two Fruits In Juice Fruit Cups In Juice",
            "Schweppes Zero Sugar Lime Infused Mineral Water Bottle",
            "Smith's Crinkle Cut Potato Chips Chicken",
            "Coca - Cola Vanilla  Soft Drink Multipack Cans",
            "Golden Circle Golden Pash Fruit Drink",
            "Woolworths Tomato Sauce",
            "Cadbury Dairy Milk Chocolate Bar",
            "Woolworths Secret Burger Sauce",
            "Woolworths Apple & Mango Juice",
            "Oreo Double Stuff Cookies",
            "Schweppes Raspberry Infused Natural Mineral Water Bottle",
            "Heinz Ketchup Tomato Sauce Ketchup",
            "Woolworths Two Fruits In Juice",
            "Smith's Crinkle Cut Potato Chips Barbecue",
            "Coca - Cola Classic  Soft Drink Multipack Cans",
            "Dole Pineapple Slices In Syrup",
            "Oreo Minis Cookies Variety Bags 18 Pack",
            "Rimmel Scandaleyes Eye Definer Brown",
            "Deep Cove Sardines In Oil",
            "Woolworths Spring Water Bottles",
            "Woolworths Multivitamin Juice",
            "Pauls Farmhouse Gold Full Cream Milk",
            "Thins Chips Light & Tangy",
            "Maggi 2 Minute Beef Flavour Instant Noodles",
            "Oreo Original Mini Cookies Multipack",
            "Goulburn Valley Two Fruits In Juice",
            "Woolworths Uht Full Cream Milk",
            "Supreme Noodles Cup Chicken Flavour",
            "Mars Chocolate Bar With Nougat & Caramel",
            "Oreo Grab & Go Original Cookies 9 Pack",
            "Norco Full Cream Milk",
            "Dole Pineapple Chunks In Juice",
            "Woolworths Lasagne Sheets",
            "Cadbury Classic Choc Chip Cookies",
            "Woolworths Two Fruits In Tropical Jelly",
            "Cadbury Choc Centre Cookies",
            "Woolworths Diced Italian Tomatoes",
            "Fountain Tomato Sauce Squeeze",
            "Cadbury Twirl Chocolate Bar",
            "Woolworths Spring Water",
            "Woolworths Breakfast Juice",
            "Dairy Farmers Full Cream Milk Full Cream Milk",
            "Smith's Thinly Cut Potato Chips Original Share Pack",
            "Smith's Crinkle Cut Potato Chips Cheese & Onion",
            "Byron Bay Cookies Dotty Cookie Bites",
            "Smith's Crinkle Cut Potato Chips Original",
            "Kitkat Chunky Original Chocolate Bar",
            "Coca - Cola Zero Sugar Soft Drink Multipack Cans",
            "Cadbury Chomp Chocolate Bar",
            "Masterfoods Tomato Sauce",
            "Schweppes Zero Sugar Classic Mixers Indian Tonic Water Bottle",
            "Fountain Barbecue Bbq Sauce Squeeze",
            "Mount Franklin Spring Water Bottle",
            "Maggi 2 Minute Chicken Flavour Instant Noodles",
            "Woolworths Barbecue Sauce Squeeze",
            "Cadbury Dairy Milk Chocolate Roll",
            "Essentials Coconut Milk",
            "Golden Circle Fruit Drinks Lunch Box Poppers Tropical Punch Multipack",
            "Supreme Noodles Cup Beef Flavour",
            "Arnott's Mini Choc Chip Cookie Multipack Biscuits",
            "Golden Circle Drinks Pine Orange Fruit Drink",
            "Thins Chips Chicken",
            "Schweppes Lime Soda Water With Lime Juice Bottle",
            "Cadbury Dairy Milk Caramello Koala Chocolate",
            "Woolworths Tomato Sauce Squeeze"
           ],
           [
            0,
            7,
            0,
            2,
            3,
            4,
            0,
            4,
            4,
            4,
            4,
            6,
            0,
            0,
            4,
            4,
            7,
            4,
            2,
            7,
            0,
            8,
            7,
            4,
            4,
            7,
            0,
            0,
            0,
            2,
            0,
            0,
            7,
            2,
            0,
            4,
            0,
            0,
            0,
            0,
            7,
            2,
            0,
            0,
            4,
            0,
            0,
            4,
            0,
            0,
            0,
            7,
            2,
            0,
            4,
            0,
            0,
            9,
            0,
            4,
            7,
            7,
            4,
            0,
            10,
            7,
            4,
            4,
            1,
            0,
            5,
            4,
            0,
            4,
            0,
            7,
            4,
            9,
            0,
            4,
            0,
            7,
            4,
            0,
            4,
            2,
            4,
            0,
            0,
            2,
            8,
            7,
            0,
            4,
            0,
            0,
            7,
            4,
            0,
            7,
            2,
            4,
            0
           ]
          ]
         },
         "header": {
          "values": [
           "Product",
           "Group"
          ]
         },
         "type": "table"
        }
       ],
       "layout": {
        "template": {
         "data": {
          "bar": [
           {
            "error_x": {
             "color": "#2a3f5f"
            },
            "error_y": {
             "color": "#2a3f5f"
            },
            "marker": {
             "line": {
              "color": "#E5ECF6",
              "width": 0.5
             },
             "pattern": {
              "fillmode": "overlay",
              "size": 10,
              "solidity": 0.2
             }
            },
            "type": "bar"
           }
          ],
          "barpolar": [
           {
            "marker": {
             "line": {
              "color": "#E5ECF6",
              "width": 0.5
             },
             "pattern": {
              "fillmode": "overlay",
              "size": 10,
              "solidity": 0.2
             }
            },
            "type": "barpolar"
           }
          ],
          "carpet": [
           {
            "aaxis": {
             "endlinecolor": "#2a3f5f",
             "gridcolor": "white",
             "linecolor": "white",
             "minorgridcolor": "white",
             "startlinecolor": "#2a3f5f"
            },
            "baxis": {
             "endlinecolor": "#2a3f5f",
             "gridcolor": "white",
             "linecolor": "white",
             "minorgridcolor": "white",
             "startlinecolor": "#2a3f5f"
            },
            "type": "carpet"
           }
          ],
          "choropleth": [
           {
            "colorbar": {
             "outlinewidth": 0,
             "ticks": ""
            },
            "type": "choropleth"
           }
          ],
          "contour": [
           {
            "colorbar": {
             "outlinewidth": 0,
             "ticks": ""
            },
            "colorscale": [
             [
              0,
              "#0d0887"
             ],
             [
              0.1111111111111111,
              "#46039f"
             ],
             [
              0.2222222222222222,
              "#7201a8"
             ],
             [
              0.3333333333333333,
              "#9c179e"
             ],
             [
              0.4444444444444444,
              "#bd3786"
             ],
             [
              0.5555555555555556,
              "#d8576b"
             ],
             [
              0.6666666666666666,
              "#ed7953"
             ],
             [
              0.7777777777777778,
              "#fb9f3a"
             ],
             [
              0.8888888888888888,
              "#fdca26"
             ],
             [
              1,
              "#f0f921"
             ]
            ],
            "type": "contour"
           }
          ],
          "contourcarpet": [
           {
            "colorbar": {
             "outlinewidth": 0,
             "ticks": ""
            },
            "type": "contourcarpet"
           }
          ],
          "heatmap": [
           {
            "colorbar": {
             "outlinewidth": 0,
             "ticks": ""
            },
            "colorscale": [
             [
              0,
              "#0d0887"
             ],
             [
              0.1111111111111111,
              "#46039f"
             ],
             [
              0.2222222222222222,
              "#7201a8"
             ],
             [
              0.3333333333333333,
              "#9c179e"
             ],
             [
              0.4444444444444444,
              "#bd3786"
             ],
             [
              0.5555555555555556,
              "#d8576b"
             ],
             [
              0.6666666666666666,
              "#ed7953"
             ],
             [
              0.7777777777777778,
              "#fb9f3a"
             ],
             [
              0.8888888888888888,
              "#fdca26"
             ],
             [
              1,
              "#f0f921"
             ]
            ],
            "type": "heatmap"
           }
          ],
          "heatmapgl": [
           {
            "colorbar": {
             "outlinewidth": 0,
             "ticks": ""
            },
            "colorscale": [
             [
              0,
              "#0d0887"
             ],
             [
              0.1111111111111111,
              "#46039f"
             ],
             [
              0.2222222222222222,
              "#7201a8"
             ],
             [
              0.3333333333333333,
              "#9c179e"
             ],
             [
              0.4444444444444444,
              "#bd3786"
             ],
             [
              0.5555555555555556,
              "#d8576b"
             ],
             [
              0.6666666666666666,
              "#ed7953"
             ],
             [
              0.7777777777777778,
              "#fb9f3a"
             ],
             [
              0.8888888888888888,
              "#fdca26"
             ],
             [
              1,
              "#f0f921"
             ]
            ],
            "type": "heatmapgl"
           }
          ],
          "histogram": [
           {
            "marker": {
             "pattern": {
              "fillmode": "overlay",
              "size": 10,
              "solidity": 0.2
             }
            },
            "type": "histogram"
           }
          ],
          "histogram2d": [
           {
            "colorbar": {
             "outlinewidth": 0,
             "ticks": ""
            },
            "colorscale": [
             [
              0,
              "#0d0887"
             ],
             [
              0.1111111111111111,
              "#46039f"
             ],
             [
              0.2222222222222222,
              "#7201a8"
             ],
             [
              0.3333333333333333,
              "#9c179e"
             ],
             [
              0.4444444444444444,
              "#bd3786"
             ],
             [
              0.5555555555555556,
              "#d8576b"
             ],
             [
              0.6666666666666666,
              "#ed7953"
             ],
             [
              0.7777777777777778,
              "#fb9f3a"
             ],
             [
              0.8888888888888888,
              "#fdca26"
             ],
             [
              1,
              "#f0f921"
             ]
            ],
            "type": "histogram2d"
           }
          ],
          "histogram2dcontour": [
           {
            "colorbar": {
             "outlinewidth": 0,
             "ticks": ""
            },
            "colorscale": [
             [
              0,
              "#0d0887"
             ],
             [
              0.1111111111111111,
              "#46039f"
             ],
             [
              0.2222222222222222,
              "#7201a8"
             ],
             [
              0.3333333333333333,
              "#9c179e"
             ],
             [
              0.4444444444444444,
              "#bd3786"
             ],
             [
              0.5555555555555556,
              "#d8576b"
             ],
             [
              0.6666666666666666,
              "#ed7953"
             ],
             [
              0.7777777777777778,
              "#fb9f3a"
             ],
             [
              0.8888888888888888,
              "#fdca26"
             ],
             [
              1,
              "#f0f921"
             ]
            ],
            "type": "histogram2dcontour"
           }
          ],
          "mesh3d": [
           {
            "colorbar": {
             "outlinewidth": 0,
             "ticks": ""
            },
            "type": "mesh3d"
           }
          ],
          "parcoords": [
           {
            "line": {
             "colorbar": {
              "outlinewidth": 0,
              "ticks": ""
             }
            },
            "type": "parcoords"
           }
          ],
          "pie": [
           {
            "automargin": true,
            "type": "pie"
           }
          ],
          "scatter": [
           {
            "fillpattern": {
             "fillmode": "overlay",
             "size": 10,
             "solidity": 0.2
            },
            "type": "scatter"
           }
          ],
          "scatter3d": [
           {
            "line": {
             "colorbar": {
              "outlinewidth": 0,
              "ticks": ""
             }
            },
            "marker": {
             "colorbar": {
              "outlinewidth": 0,
              "ticks": ""
             }
            },
            "type": "scatter3d"
           }
          ],
          "scattercarpet": [
           {
            "marker": {
             "colorbar": {
              "outlinewidth": 0,
              "ticks": ""
             }
            },
            "type": "scattercarpet"
           }
          ],
          "scattergeo": [
           {
            "marker": {
             "colorbar": {
              "outlinewidth": 0,
              "ticks": ""
             }
            },
            "type": "scattergeo"
           }
          ],
          "scattergl": [
           {
            "marker": {
             "colorbar": {
              "outlinewidth": 0,
              "ticks": ""
             }
            },
            "type": "scattergl"
           }
          ],
          "scattermapbox": [
           {
            "marker": {
             "colorbar": {
              "outlinewidth": 0,
              "ticks": ""
             }
            },
            "type": "scattermapbox"
           }
          ],
          "scatterpolar": [
           {
            "marker": {
             "colorbar": {
              "outlinewidth": 0,
              "ticks": ""
             }
            },
            "type": "scatterpolar"
           }
          ],
          "scatterpolargl": [
           {
            "marker": {
             "colorbar": {
              "outlinewidth": 0,
              "ticks": ""
             }
            },
            "type": "scatterpolargl"
           }
          ],
          "scatterternary": [
           {
            "marker": {
             "colorbar": {
              "outlinewidth": 0,
              "ticks": ""
             }
            },
            "type": "scatterternary"
           }
          ],
          "surface": [
           {
            "colorbar": {
             "outlinewidth": 0,
             "ticks": ""
            },
            "colorscale": [
             [
              0,
              "#0d0887"
             ],
             [
              0.1111111111111111,
              "#46039f"
             ],
             [
              0.2222222222222222,
              "#7201a8"
             ],
             [
              0.3333333333333333,
              "#9c179e"
             ],
             [
              0.4444444444444444,
              "#bd3786"
             ],
             [
              0.5555555555555556,
              "#d8576b"
             ],
             [
              0.6666666666666666,
              "#ed7953"
             ],
             [
              0.7777777777777778,
              "#fb9f3a"
             ],
             [
              0.8888888888888888,
              "#fdca26"
             ],
             [
              1,
              "#f0f921"
             ]
            ],
            "type": "surface"
           }
          ],
          "table": [
           {
            "cells": {
             "fill": {
              "color": "#EBF0F8"
             },
             "line": {
              "color": "white"
             }
            },
            "header": {
             "fill": {
              "color": "#C8D4E3"
             },
             "line": {
              "color": "white"
             }
            },
            "type": "table"
           }
          ]
         },
         "layout": {
          "annotationdefaults": {
           "arrowcolor": "#2a3f5f",
           "arrowhead": 0,
           "arrowwidth": 1
          },
          "autotypenumbers": "strict",
          "coloraxis": {
           "colorbar": {
            "outlinewidth": 0,
            "ticks": ""
           }
          },
          "colorscale": {
           "diverging": [
            [
             0,
             "#8e0152"
            ],
            [
             0.1,
             "#c51b7d"
            ],
            [
             0.2,
             "#de77ae"
            ],
            [
             0.3,
             "#f1b6da"
            ],
            [
             0.4,
             "#fde0ef"
            ],
            [
             0.5,
             "#f7f7f7"
            ],
            [
             0.6,
             "#e6f5d0"
            ],
            [
             0.7,
             "#b8e186"
            ],
            [
             0.8,
             "#7fbc41"
            ],
            [
             0.9,
             "#4d9221"
            ],
            [
             1,
             "#276419"
            ]
           ],
           "sequential": [
            [
             0,
             "#0d0887"
            ],
            [
             0.1111111111111111,
             "#46039f"
            ],
            [
             0.2222222222222222,
             "#7201a8"
            ],
            [
             0.3333333333333333,
             "#9c179e"
            ],
            [
             0.4444444444444444,
             "#bd3786"
            ],
            [
             0.5555555555555556,
             "#d8576b"
            ],
            [
             0.6666666666666666,
             "#ed7953"
            ],
            [
             0.7777777777777778,
             "#fb9f3a"
            ],
            [
             0.8888888888888888,
             "#fdca26"
            ],
            [
             1,
             "#f0f921"
            ]
           ],
           "sequentialminus": [
            [
             0,
             "#0d0887"
            ],
            [
             0.1111111111111111,
             "#46039f"
            ],
            [
             0.2222222222222222,
             "#7201a8"
            ],
            [
             0.3333333333333333,
             "#9c179e"
            ],
            [
             0.4444444444444444,
             "#bd3786"
            ],
            [
             0.5555555555555556,
             "#d8576b"
            ],
            [
             0.6666666666666666,
             "#ed7953"
            ],
            [
             0.7777777777777778,
             "#fb9f3a"
            ],
            [
             0.8888888888888888,
             "#fdca26"
            ],
            [
             1,
             "#f0f921"
            ]
           ]
          },
          "colorway": [
           "#636efa",
           "#EF553B",
           "#00cc96",
           "#ab63fa",
           "#FFA15A",
           "#19d3f3",
           "#FF6692",
           "#B6E880",
           "#FF97FF",
           "#FECB52"
          ],
          "font": {
           "color": "#2a3f5f"
          },
          "geo": {
           "bgcolor": "white",
           "lakecolor": "white",
           "landcolor": "#E5ECF6",
           "showlakes": true,
           "showland": true,
           "subunitcolor": "white"
          },
          "hoverlabel": {
           "align": "left"
          },
          "hovermode": "closest",
          "mapbox": {
           "style": "light"
          },
          "paper_bgcolor": "white",
          "plot_bgcolor": "#E5ECF6",
          "polar": {
           "angularaxis": {
            "gridcolor": "white",
            "linecolor": "white",
            "ticks": ""
           },
           "bgcolor": "#E5ECF6",
           "radialaxis": {
            "gridcolor": "white",
            "linecolor": "white",
            "ticks": ""
           }
          },
          "scene": {
           "xaxis": {
            "backgroundcolor": "#E5ECF6",
            "gridcolor": "white",
            "gridwidth": 2,
            "linecolor": "white",
            "showbackground": true,
            "ticks": "",
            "zerolinecolor": "white"
           },
           "yaxis": {
            "backgroundcolor": "#E5ECF6",
            "gridcolor": "white",
            "gridwidth": 2,
            "linecolor": "white",
            "showbackground": true,
            "ticks": "",
            "zerolinecolor": "white"
           },
           "zaxis": {
            "backgroundcolor": "#E5ECF6",
            "gridcolor": "white",
            "gridwidth": 2,
            "linecolor": "white",
            "showbackground": true,
            "ticks": "",
            "zerolinecolor": "white"
           }
          },
          "shapedefaults": {
           "line": {
            "color": "#2a3f5f"
           }
          },
          "ternary": {
           "aaxis": {
            "gridcolor": "white",
            "linecolor": "white",
            "ticks": ""
           },
           "baxis": {
            "gridcolor": "white",
            "linecolor": "white",
            "ticks": ""
           },
           "bgcolor": "#E5ECF6",
           "caxis": {
            "gridcolor": "white",
            "linecolor": "white",
            "ticks": ""
           }
          },
          "title": {
           "x": 0.05
          },
          "xaxis": {
           "automargin": true,
           "gridcolor": "white",
           "linecolor": "white",
           "ticks": "",
           "title": {
            "standoff": 15
           },
           "zerolinecolor": "white",
           "zerolinewidth": 2
          },
          "yaxis": {
           "automargin": true,
           "gridcolor": "white",
           "linecolor": "white",
           "ticks": "",
           "title": {
            "standoff": 15
           },
           "zerolinecolor": "white",
           "zerolinewidth": 2
          }
         }
        },
        "title": {
         "text": "Product Groups"
        }
       }
      }
     },
     "metadata": {},
     "output_type": "display_data"
    }
   ],
   "source": [
    "from neo4j import GraphDatabase\n",
    "import pandas as pd\n",
    "import networkx as nx\n",
    "from community import community_louvain\n",
    "import matplotlib.pyplot as plt\n",
    "%matplotlib inline\n",
    "\n",
    "\n",
    "\n",
    "def get_data(tx):\n",
    "    query = \"\"\"\n",
    "        MATCH (p:Product)-[:HAS_RECIPE]->(r:Recipe)-[:USES_INGREDIENT]->(i:Ingredient)-[:HAS_RESEARCH]->(res:IngredientResearch)\n",
    "        RETURN p.name AS product, res.ingredient_name AS ingredientResearch\n",
    "    \"\"\"\n",
    "    result = tx.run(query)\n",
    "    data = [(record[\"product\"], record[\"ingredientResearch\"]) for record in result if record[\"product\"] is not None and record[\"ingredientResearch\"] is not None]\n",
    "    return data\n",
    "\n",
    "with driver.session() as session:\n",
    "    data = session.read_transaction(get_data)\n",
    "\n",
    "# Constructing a two-part diagram\n",
    "bipartite_graph = nx.Graph()\n",
    "products = set([product for product, ingredientResearch in data])\n",
    "ingredients = set([ingredient for product, ingredient in data])\n",
    "\n",
    "bipartite_graph.add_nodes_from(products, bipartite=0)\n",
    "bipartite_graph.add_nodes_from(ingredients, bipartite=1)\n",
    "bipartite_graph.add_edges_from(data)\n",
    "\n",
    "# Generate a projection of the product\n",
    "product_nodes = {node for node, data in bipartite_graph.nodes(data=True) if data['bipartite'] == 0}\n",
    "product_graph = nx.bipartite.projected_graph(bipartite_graph, product_nodes, multigraph=True)\n",
    "\n",
    "# Run Louvain's algorithm for community detection\n",
    "communities = community_louvain.best_partition(product_graph)\n",
    "\n",
    "# Store the results in a DataFrame\n",
    "product_groups = pd.DataFrame({'Product': list(products), 'Group': [communities[node] for node in product_graph.nodes()]})\n",
    "print(product_groups)\n",
    "\n",
    "import plotly.graph_objects as go\n",
    "\n",
    "\n",
    "table_data = go.Table(\n",
    "    header=dict(values=['Product', 'Group']),\n",
    "    cells=dict(values=[product_groups['Product'], product_groups['Group']])\n",
    ")\n",
    "\n",
    "\n",
    "layout = go.Layout(title='Product Groups')\n",
    "\n",
    "\n",
    "fig = go.Figure(data=table_data, layout=layout)\n",
    "fig.show()\n",
    "\n",
    "\n"
   ]
  },
  {
   "cell_type": "code",
   "execution_count": 4,
   "metadata": {},
   "outputs": [
    {
     "data": {
      "application/vnd.plotly.v1+json": {
       "config": {
        "plotlyServerURL": "https://plot.ly"
       },
       "data": [
        {
         "cells": {
          "values": [
           [
            0,
            1,
            2,
            3,
            4,
            5,
            6,
            7,
            8,
            9,
            10
           ],
           [
            "Woolworths Apple Juice, Smith's Crinkle Cut Potato Chips Salt & Vinegar, Masterfoods Barbecue Sauce, Woolworths Apple In Pineapple Jelly, Woolworths Chocolate Chip Cookies, Schweppes Orange Mango Natural Mineral Water Bottle, Woolworths Two Fruits In Juice Cups, Schweppes Lemon Lime Natural Mineral Water Bottle, Essentials Coconut Cream, Woolworths Orange Juice, Woolworths Barbecue Sauce, Schweppes Indian Tonic Water Classic Mixers Bottle, Golden Circle Drinks Sunshine Punch Fruit Drink, Woolworths Peach In Strawberry Jelly, Goulburn Valley Two Fruits In Juice Fruit Cups In Juice, Schweppes Zero Sugar Lime Infused Mineral Water Bottle, Golden Circle Golden Pash Fruit Drink, Woolworths Tomato Sauce, Woolworths Secret Burger Sauce, Woolworths Apple & Mango Juice, Schweppes Raspberry Infused Natural Mineral Water Bottle, Heinz Ketchup Tomato Sauce Ketchup, Woolworths Two Fruits In Juice, Dole Pineapple Slices In Syrup, Rimmel Scandaleyes Eye Definer Brown, Deep Cove Sardines In Oil, Woolworths Multivitamin Juice, Goulburn Valley Two Fruits In Juice, Dole Pineapple Chunks In Juice, Woolworths Two Fruits In Tropical Jelly, Woolworths Diced Italian Tomatoes, Woolworths Breakfast Juice, Smith's Thinly Cut Potato Chips Original Share Pack, Smith's Crinkle Cut Potato Chips Original, Masterfoods Tomato Sauce, Schweppes Zero Sugar Classic Mixers Indian Tonic Water Bottle, Woolworths Barbecue Sauce Squeeze, Essentials Coconut Milk, Golden Circle Fruit Drinks Lunch Box Poppers Tropical Punch Multipack, Golden Circle Drinks Pine Orange Fruit Drink, Woolworths Tomato Sauce Squeeze",
            "Norco Full Cream Milk",
            "Schweppes Soda Water Bottle Classic Mixers, Coca - Cola Zero Sugar Soft Drink Mini Cans, Coca - Cola Caffeine Free Zero Sugar Soft Drink Multipack Cans, Coca - Cola Classic  Soft Drink Mini Cans, Coca - Cola Vanilla  Soft Drink Multipack Cans, Coca - Cola Classic  Soft Drink Multipack Cans, Coca - Cola Zero Sugar Soft Drink Multipack Cans, Fountain Barbecue Bbq Sauce Squeeze, Schweppes Lime Soda Water With Lime Juice Bottle",
            "Schweppes Natural Mineral Water Bottle Natural",
            "Woolworths Lasagne Sheets",
            "Woolworths The King Of Chunky Chocolate Chip Cookies, Oreo Original Cookies Family Pack, Oreo Neapolitan Double Stuff Cookies, Woolworths Full Cream Milk, Arnott's Premier Chocolate Chip Cookies, Woolworths Apple & Blackcurrant Juice, Kitkat 4 Finger Milk Chocolate Bar, A2 Milk Full Cream Milk, Oreo Original Cookies, Woolworths Creamed Rice, Oreo Chocolate Cookies, Cadbury Dairy Milk Chocolate Bar, Oreo Double Stuff Cookies, Oreo Minis Cookies Variety Bags 18 Pack, Pauls Farmhouse Gold Full Cream Milk, Oreo Original Mini Cookies Multipack, Mars Chocolate Bar With Nougat & Caramel, Oreo Grab & Go Original Cookies 9 Pack, Cadbury Classic Choc Chip Cookies, Cadbury Choc Centre Cookies, Cadbury Twirl Chocolate Bar, Dairy Farmers Full Cream Milk Full Cream Milk, Byron Bay Cookies Dotty Cookie Bites, Kitkat Chunky Original Chocolate Bar, Cadbury Chomp Chocolate Bar, Cadbury Dairy Milk Chocolate Roll, Arnott's Mini Choc Chip Cookie Multipack Biscuits, Cadbury Dairy Milk Caramello Koala Chocolate",
            "Twix Milk Chocolate Bar With Caramel Biscuit",
            "Indomie Mi Goreng Noodle Cup, Thins Chips Salt & Vinegar, Indomie Mi Goreng Instant Noodles, Fantastic Chicken Noodle Cup, Thins Cheese & Onion Chips, Fantastic Chicken Noodle Bowl, Smith's Crinkle Cut Potato Chips Chicken, Smith's Crinkle Cut Potato Chips Barbecue, Thins Chips Light & Tangy, Maggi 2 Minute Beef Flavour Instant Noodles, Supreme Noodles Cup Chicken Flavour, Fountain Tomato Sauce Squeeze, Smith's Crinkle Cut Potato Chips Cheese & Onion, Maggi 2 Minute Chicken Flavour Instant Noodles, Supreme Noodles Cup Beef Flavour, Thins Chips Chicken",
            "Frantelle Australian Still Spring Water Bottles Multipack, Mount Franklin Spring Water Bottle",
            "Woolworths Spring Water Bottles, Woolworths Spring Water",
            "Woolworths Uht Full Cream Milk"
           ]
          ]
         },
         "header": {
          "values": [
           "Group",
           "Products"
          ]
         },
         "type": "table"
        }
       ],
       "layout": {
        "template": {
         "data": {
          "bar": [
           {
            "error_x": {
             "color": "#2a3f5f"
            },
            "error_y": {
             "color": "#2a3f5f"
            },
            "marker": {
             "line": {
              "color": "#E5ECF6",
              "width": 0.5
             },
             "pattern": {
              "fillmode": "overlay",
              "size": 10,
              "solidity": 0.2
             }
            },
            "type": "bar"
           }
          ],
          "barpolar": [
           {
            "marker": {
             "line": {
              "color": "#E5ECF6",
              "width": 0.5
             },
             "pattern": {
              "fillmode": "overlay",
              "size": 10,
              "solidity": 0.2
             }
            },
            "type": "barpolar"
           }
          ],
          "carpet": [
           {
            "aaxis": {
             "endlinecolor": "#2a3f5f",
             "gridcolor": "white",
             "linecolor": "white",
             "minorgridcolor": "white",
             "startlinecolor": "#2a3f5f"
            },
            "baxis": {
             "endlinecolor": "#2a3f5f",
             "gridcolor": "white",
             "linecolor": "white",
             "minorgridcolor": "white",
             "startlinecolor": "#2a3f5f"
            },
            "type": "carpet"
           }
          ],
          "choropleth": [
           {
            "colorbar": {
             "outlinewidth": 0,
             "ticks": ""
            },
            "type": "choropleth"
           }
          ],
          "contour": [
           {
            "colorbar": {
             "outlinewidth": 0,
             "ticks": ""
            },
            "colorscale": [
             [
              0,
              "#0d0887"
             ],
             [
              0.1111111111111111,
              "#46039f"
             ],
             [
              0.2222222222222222,
              "#7201a8"
             ],
             [
              0.3333333333333333,
              "#9c179e"
             ],
             [
              0.4444444444444444,
              "#bd3786"
             ],
             [
              0.5555555555555556,
              "#d8576b"
             ],
             [
              0.6666666666666666,
              "#ed7953"
             ],
             [
              0.7777777777777778,
              "#fb9f3a"
             ],
             [
              0.8888888888888888,
              "#fdca26"
             ],
             [
              1,
              "#f0f921"
             ]
            ],
            "type": "contour"
           }
          ],
          "contourcarpet": [
           {
            "colorbar": {
             "outlinewidth": 0,
             "ticks": ""
            },
            "type": "contourcarpet"
           }
          ],
          "heatmap": [
           {
            "colorbar": {
             "outlinewidth": 0,
             "ticks": ""
            },
            "colorscale": [
             [
              0,
              "#0d0887"
             ],
             [
              0.1111111111111111,
              "#46039f"
             ],
             [
              0.2222222222222222,
              "#7201a8"
             ],
             [
              0.3333333333333333,
              "#9c179e"
             ],
             [
              0.4444444444444444,
              "#bd3786"
             ],
             [
              0.5555555555555556,
              "#d8576b"
             ],
             [
              0.6666666666666666,
              "#ed7953"
             ],
             [
              0.7777777777777778,
              "#fb9f3a"
             ],
             [
              0.8888888888888888,
              "#fdca26"
             ],
             [
              1,
              "#f0f921"
             ]
            ],
            "type": "heatmap"
           }
          ],
          "heatmapgl": [
           {
            "colorbar": {
             "outlinewidth": 0,
             "ticks": ""
            },
            "colorscale": [
             [
              0,
              "#0d0887"
             ],
             [
              0.1111111111111111,
              "#46039f"
             ],
             [
              0.2222222222222222,
              "#7201a8"
             ],
             [
              0.3333333333333333,
              "#9c179e"
             ],
             [
              0.4444444444444444,
              "#bd3786"
             ],
             [
              0.5555555555555556,
              "#d8576b"
             ],
             [
              0.6666666666666666,
              "#ed7953"
             ],
             [
              0.7777777777777778,
              "#fb9f3a"
             ],
             [
              0.8888888888888888,
              "#fdca26"
             ],
             [
              1,
              "#f0f921"
             ]
            ],
            "type": "heatmapgl"
           }
          ],
          "histogram": [
           {
            "marker": {
             "pattern": {
              "fillmode": "overlay",
              "size": 10,
              "solidity": 0.2
             }
            },
            "type": "histogram"
           }
          ],
          "histogram2d": [
           {
            "colorbar": {
             "outlinewidth": 0,
             "ticks": ""
            },
            "colorscale": [
             [
              0,
              "#0d0887"
             ],
             [
              0.1111111111111111,
              "#46039f"
             ],
             [
              0.2222222222222222,
              "#7201a8"
             ],
             [
              0.3333333333333333,
              "#9c179e"
             ],
             [
              0.4444444444444444,
              "#bd3786"
             ],
             [
              0.5555555555555556,
              "#d8576b"
             ],
             [
              0.6666666666666666,
              "#ed7953"
             ],
             [
              0.7777777777777778,
              "#fb9f3a"
             ],
             [
              0.8888888888888888,
              "#fdca26"
             ],
             [
              1,
              "#f0f921"
             ]
            ],
            "type": "histogram2d"
           }
          ],
          "histogram2dcontour": [
           {
            "colorbar": {
             "outlinewidth": 0,
             "ticks": ""
            },
            "colorscale": [
             [
              0,
              "#0d0887"
             ],
             [
              0.1111111111111111,
              "#46039f"
             ],
             [
              0.2222222222222222,
              "#7201a8"
             ],
             [
              0.3333333333333333,
              "#9c179e"
             ],
             [
              0.4444444444444444,
              "#bd3786"
             ],
             [
              0.5555555555555556,
              "#d8576b"
             ],
             [
              0.6666666666666666,
              "#ed7953"
             ],
             [
              0.7777777777777778,
              "#fb9f3a"
             ],
             [
              0.8888888888888888,
              "#fdca26"
             ],
             [
              1,
              "#f0f921"
             ]
            ],
            "type": "histogram2dcontour"
           }
          ],
          "mesh3d": [
           {
            "colorbar": {
             "outlinewidth": 0,
             "ticks": ""
            },
            "type": "mesh3d"
           }
          ],
          "parcoords": [
           {
            "line": {
             "colorbar": {
              "outlinewidth": 0,
              "ticks": ""
             }
            },
            "type": "parcoords"
           }
          ],
          "pie": [
           {
            "automargin": true,
            "type": "pie"
           }
          ],
          "scatter": [
           {
            "fillpattern": {
             "fillmode": "overlay",
             "size": 10,
             "solidity": 0.2
            },
            "type": "scatter"
           }
          ],
          "scatter3d": [
           {
            "line": {
             "colorbar": {
              "outlinewidth": 0,
              "ticks": ""
             }
            },
            "marker": {
             "colorbar": {
              "outlinewidth": 0,
              "ticks": ""
             }
            },
            "type": "scatter3d"
           }
          ],
          "scattercarpet": [
           {
            "marker": {
             "colorbar": {
              "outlinewidth": 0,
              "ticks": ""
             }
            },
            "type": "scattercarpet"
           }
          ],
          "scattergeo": [
           {
            "marker": {
             "colorbar": {
              "outlinewidth": 0,
              "ticks": ""
             }
            },
            "type": "scattergeo"
           }
          ],
          "scattergl": [
           {
            "marker": {
             "colorbar": {
              "outlinewidth": 0,
              "ticks": ""
             }
            },
            "type": "scattergl"
           }
          ],
          "scattermapbox": [
           {
            "marker": {
             "colorbar": {
              "outlinewidth": 0,
              "ticks": ""
             }
            },
            "type": "scattermapbox"
           }
          ],
          "scatterpolar": [
           {
            "marker": {
             "colorbar": {
              "outlinewidth": 0,
              "ticks": ""
             }
            },
            "type": "scatterpolar"
           }
          ],
          "scatterpolargl": [
           {
            "marker": {
             "colorbar": {
              "outlinewidth": 0,
              "ticks": ""
             }
            },
            "type": "scatterpolargl"
           }
          ],
          "scatterternary": [
           {
            "marker": {
             "colorbar": {
              "outlinewidth": 0,
              "ticks": ""
             }
            },
            "type": "scatterternary"
           }
          ],
          "surface": [
           {
            "colorbar": {
             "outlinewidth": 0,
             "ticks": ""
            },
            "colorscale": [
             [
              0,
              "#0d0887"
             ],
             [
              0.1111111111111111,
              "#46039f"
             ],
             [
              0.2222222222222222,
              "#7201a8"
             ],
             [
              0.3333333333333333,
              "#9c179e"
             ],
             [
              0.4444444444444444,
              "#bd3786"
             ],
             [
              0.5555555555555556,
              "#d8576b"
             ],
             [
              0.6666666666666666,
              "#ed7953"
             ],
             [
              0.7777777777777778,
              "#fb9f3a"
             ],
             [
              0.8888888888888888,
              "#fdca26"
             ],
             [
              1,
              "#f0f921"
             ]
            ],
            "type": "surface"
           }
          ],
          "table": [
           {
            "cells": {
             "fill": {
              "color": "#EBF0F8"
             },
             "line": {
              "color": "white"
             }
            },
            "header": {
             "fill": {
              "color": "#C8D4E3"
             },
             "line": {
              "color": "white"
             }
            },
            "type": "table"
           }
          ]
         },
         "layout": {
          "annotationdefaults": {
           "arrowcolor": "#2a3f5f",
           "arrowhead": 0,
           "arrowwidth": 1
          },
          "autotypenumbers": "strict",
          "coloraxis": {
           "colorbar": {
            "outlinewidth": 0,
            "ticks": ""
           }
          },
          "colorscale": {
           "diverging": [
            [
             0,
             "#8e0152"
            ],
            [
             0.1,
             "#c51b7d"
            ],
            [
             0.2,
             "#de77ae"
            ],
            [
             0.3,
             "#f1b6da"
            ],
            [
             0.4,
             "#fde0ef"
            ],
            [
             0.5,
             "#f7f7f7"
            ],
            [
             0.6,
             "#e6f5d0"
            ],
            [
             0.7,
             "#b8e186"
            ],
            [
             0.8,
             "#7fbc41"
            ],
            [
             0.9,
             "#4d9221"
            ],
            [
             1,
             "#276419"
            ]
           ],
           "sequential": [
            [
             0,
             "#0d0887"
            ],
            [
             0.1111111111111111,
             "#46039f"
            ],
            [
             0.2222222222222222,
             "#7201a8"
            ],
            [
             0.3333333333333333,
             "#9c179e"
            ],
            [
             0.4444444444444444,
             "#bd3786"
            ],
            [
             0.5555555555555556,
             "#d8576b"
            ],
            [
             0.6666666666666666,
             "#ed7953"
            ],
            [
             0.7777777777777778,
             "#fb9f3a"
            ],
            [
             0.8888888888888888,
             "#fdca26"
            ],
            [
             1,
             "#f0f921"
            ]
           ],
           "sequentialminus": [
            [
             0,
             "#0d0887"
            ],
            [
             0.1111111111111111,
             "#46039f"
            ],
            [
             0.2222222222222222,
             "#7201a8"
            ],
            [
             0.3333333333333333,
             "#9c179e"
            ],
            [
             0.4444444444444444,
             "#bd3786"
            ],
            [
             0.5555555555555556,
             "#d8576b"
            ],
            [
             0.6666666666666666,
             "#ed7953"
            ],
            [
             0.7777777777777778,
             "#fb9f3a"
            ],
            [
             0.8888888888888888,
             "#fdca26"
            ],
            [
             1,
             "#f0f921"
            ]
           ]
          },
          "colorway": [
           "#636efa",
           "#EF553B",
           "#00cc96",
           "#ab63fa",
           "#FFA15A",
           "#19d3f3",
           "#FF6692",
           "#B6E880",
           "#FF97FF",
           "#FECB52"
          ],
          "font": {
           "color": "#2a3f5f"
          },
          "geo": {
           "bgcolor": "white",
           "lakecolor": "white",
           "landcolor": "#E5ECF6",
           "showlakes": true,
           "showland": true,
           "subunitcolor": "white"
          },
          "hoverlabel": {
           "align": "left"
          },
          "hovermode": "closest",
          "mapbox": {
           "style": "light"
          },
          "paper_bgcolor": "white",
          "plot_bgcolor": "#E5ECF6",
          "polar": {
           "angularaxis": {
            "gridcolor": "white",
            "linecolor": "white",
            "ticks": ""
           },
           "bgcolor": "#E5ECF6",
           "radialaxis": {
            "gridcolor": "white",
            "linecolor": "white",
            "ticks": ""
           }
          },
          "scene": {
           "xaxis": {
            "backgroundcolor": "#E5ECF6",
            "gridcolor": "white",
            "gridwidth": 2,
            "linecolor": "white",
            "showbackground": true,
            "ticks": "",
            "zerolinecolor": "white"
           },
           "yaxis": {
            "backgroundcolor": "#E5ECF6",
            "gridcolor": "white",
            "gridwidth": 2,
            "linecolor": "white",
            "showbackground": true,
            "ticks": "",
            "zerolinecolor": "white"
           },
           "zaxis": {
            "backgroundcolor": "#E5ECF6",
            "gridcolor": "white",
            "gridwidth": 2,
            "linecolor": "white",
            "showbackground": true,
            "ticks": "",
            "zerolinecolor": "white"
           }
          },
          "shapedefaults": {
           "line": {
            "color": "#2a3f5f"
           }
          },
          "ternary": {
           "aaxis": {
            "gridcolor": "white",
            "linecolor": "white",
            "ticks": ""
           },
           "baxis": {
            "gridcolor": "white",
            "linecolor": "white",
            "ticks": ""
           },
           "bgcolor": "#E5ECF6",
           "caxis": {
            "gridcolor": "white",
            "linecolor": "white",
            "ticks": ""
           }
          },
          "title": {
           "x": 0.05
          },
          "xaxis": {
           "automargin": true,
           "gridcolor": "white",
           "linecolor": "white",
           "ticks": "",
           "title": {
            "standoff": 15
           },
           "zerolinecolor": "white",
           "zerolinewidth": 2
          },
          "yaxis": {
           "automargin": true,
           "gridcolor": "white",
           "linecolor": "white",
           "ticks": "",
           "title": {
            "standoff": 15
           },
           "zerolinecolor": "white",
           "zerolinewidth": 2
          }
         }
        },
        "title": {
         "text": "Product Groups (Products Sorted by Group Number)"
        }
       }
      }
     },
     "metadata": {},
     "output_type": "display_data"
    }
   ],
   "source": [
    "# Grouping products by cluster and linking product names\n",
    "grouped_products = product_groups.groupby('Group')['Product'].apply(lambda x: ', '.join(x)).reset_index()\n",
    "\n",
    "# Sort products according to the group's serial number\n",
    "grouped_products.sort_values(by='Group', inplace=True)\n",
    "\n",
    "# Create a new DataFrame with each row containing a group and the corresponding products\n",
    "new_product_groups = pd.DataFrame({'Group': grouped_products['Group'], 'Products': grouped_products['Product']})\n",
    "\n",
    "# Create the table\n",
    "table_data = go.Table(\n",
    "    header=dict(values=['Group', 'Products']),\n",
    "    cells=dict(values=[new_product_groups['Group'], new_product_groups['Products']])\n",
    ")\n",
    "\n",
    "\n",
    "layout = go.Layout(title='Product Groups (Products Sorted by Group Number)')\n",
    "\n",
    "\n",
    "fig = go.Figure(data=table_data, layout=layout)\n",
    "fig.show()\n"
   ]
  },
  {
   "cell_type": "code",
   "execution_count": 8,
   "metadata": {},
   "outputs": [
    {
     "name": "stderr",
     "output_type": "stream",
     "text": [
      "C:\\Users\\apple\\AppData\\Local\\Temp\\ipykernel_10132\\872215197.py:18: DeprecationWarning:\n",
      "\n",
      "read_transaction has been renamed to execute_read\n",
      "\n",
      "c:\\Users\\apple\\anaconda3\\lib\\site-packages\\sklearn\\cluster\\_kmeans.py:870: FutureWarning:\n",
      "\n",
      "The default value of `n_init` will change from 10 to 'auto' in 1.4. Set the value of `n_init` explicitly to suppress the warning\n",
      "\n"
     ]
    },
    {
     "data": {
      "application/vnd.plotly.v1+json": {
       "config": {
        "plotlyServerURL": "https://plot.ly"
       },
       "data": [
        {
         "cells": {
          "values": [
           [
            0,
            1,
            2,
            3,
            4,
            5,
            6,
            7,
            8,
            9
           ],
           [
            "Schweppes Orange Mango Natural Mineral Water Bottle, Woolworths Apple Juice, Woolworths Apple & Mango Juice, Woolworths Orange Juice, Woolworths Breakfast Juice, Woolworths Apple & Blackcurrant Juice, Woolworths Multivitamin Juice, Golden Circle Golden Pash Fruit Drink, Golden Circle Drinks Pine Orange Fruit Drink, Golden Circle Drinks Sunshine Punch Fruit Drink, Golden Circle Fruit Drinks Lunch Box Poppers Tropical Punch Multipack, Woolworths Two Fruits In Juice Cups, Woolworths Two Fruits In Juice, Goulburn Valley Two Fruits In Juice, Dole Pineapple Chunks In Juice, Goulburn Valley Two Fruits In Juice Fruit Cups In Juice",
            "Oreo Original Mini Cookies Multipack, Oreo Minis Cookies Variety Bags 18 Pack, Oreo Original Cookies, Oreo Double Stuff Cookies, Oreo Original Cookies Family Pack, Oreo Chocolate Cookies, Oreo Grab & Go Original Cookies 9 Pack, Oreo Neapolitan Double Stuff Cookies",
            "Essentials Coconut Cream, Essentials Coconut Milk, Woolworths Secret Burger Sauce, Woolworths Peach In Strawberry Jelly, Woolworths Two Fruits In Tropical Jelly, Woolworths Apple In Pineapple Jelly",
            "Woolworths Full Cream Milk, Norco Full Cream Milk, Pauls Farmhouse Gold Full Cream Milk, Woolworths Uht Full Cream Milk",
            "Kitkat 4 Finger Milk Chocolate Bar, Kitkat Chunky Original Chocolate Bar, Cadbury Dairy Milk Caramello Koala Chocolate, Mars Chocolate Bar With Nougat & Caramel, Cadbury Dairy Milk Chocolate Roll, Cadbury Dairy Milk Chocolate Bar, Cadbury Twirl Chocolate Bar, Cadbury Chomp Chocolate Bar, Dairy Farmers Full Cream Milk Full Cream Milk, A2 Milk Full Cream Milk",
            "Schweppes Zero Sugar Lime Infused Mineral Water Bottle, Schweppes Raspberry Infused Natural Mineral Water Bottle, Schweppes Natural Mineral Water Bottle Natural, Schweppes Soda Water Bottle Classic Mixers, Schweppes Indian Tonic Water Classic Mixers Bottle, Schweppes Lime Soda Water With Lime Juice Bottle, Schweppes Zero Sugar Classic Mixers Indian Tonic Water Bottle, Schweppes Lemon Lime Natural Mineral Water Bottle, Rimmel Scandaleyes Eye Definer Brown, Woolworths Lasagne Sheets, Deep Cove Sardines In Oil, Heinz Ketchup Tomato Sauce Ketchup, Woolworths Spring Water Bottles, Woolworths Spring Water, Frantelle Australian Still Spring Water Bottles Multipack, Mount Franklin Spring Water Bottle, Dole Pineapple Slices In Syrup",
            "Twix Milk Chocolate Bar With Caramel Biscuit, Arnott's Premier Chocolate Chip Cookies, Woolworths Chocolate Chip Cookies, Woolworths The King Of Chunky Chocolate Chip Cookies, Arnott's Mini Choc Chip Cookie Multipack Biscuits, Cadbury Classic Choc Chip Cookies, Cadbury Choc Centre Cookies, Byron Bay Cookies Dotty Cookie Bites, Woolworths Creamed Rice",
            "Indomie Mi Goreng Instant Noodles, Maggi 2 Minute Chicken Flavour Instant Noodles, Supreme Noodles Cup Chicken Flavour, Fantastic Chicken Noodle Cup, Fantastic Chicken Noodle Bowl, Indomie Mi Goreng Noodle Cup, Maggi 2 Minute Beef Flavour Instant Noodles, Supreme Noodles Cup Beef Flavour, Smith's Crinkle Cut Potato Chips Original, Smith's Crinkle Cut Potato Chips Cheese & Onion, Smith's Crinkle Cut Potato Chips Barbecue, Smith's Crinkle Cut Potato Chips Chicken, Thins Chips Salt & Vinegar, Smith's Thinly Cut Potato Chips Original Share Pack, Thins Chips Chicken, Smith's Crinkle Cut Potato Chips Salt & Vinegar, Thins Chips Light & Tangy, Thins Cheese & Onion Chips",
            "Coca - Cola Classic  Soft Drink Multipack Cans, Coca - Cola Classic  Soft Drink Mini Cans, Coca - Cola Vanilla  Soft Drink Multipack Cans, Coca - Cola Zero Sugar Soft Drink Multipack Cans, Coca - Cola Caffeine Free Zero Sugar Soft Drink Multipack Cans, Coca - Cola Zero Sugar Soft Drink Mini Cans, Fountain Barbecue Bbq Sauce Squeeze",
            "Woolworths Diced Italian Tomatoes, Woolworths Tomato Sauce Squeeze, Woolworths Tomato Sauce, Woolworths Barbecue Sauce Squeeze, Masterfoods Tomato Sauce, Masterfoods Barbecue Sauce, Fountain Tomato Sauce Squeeze, Woolworths Barbecue Sauce"
           ]
          ]
         },
         "header": {
          "values": [
           "Cluster",
           "Products"
          ]
         },
         "type": "table"
        }
       ],
       "layout": {
        "template": {
         "data": {
          "bar": [
           {
            "error_x": {
             "color": "#2a3f5f"
            },
            "error_y": {
             "color": "#2a3f5f"
            },
            "marker": {
             "line": {
              "color": "#E5ECF6",
              "width": 0.5
             },
             "pattern": {
              "fillmode": "overlay",
              "size": 10,
              "solidity": 0.2
             }
            },
            "type": "bar"
           }
          ],
          "barpolar": [
           {
            "marker": {
             "line": {
              "color": "#E5ECF6",
              "width": 0.5
             },
             "pattern": {
              "fillmode": "overlay",
              "size": 10,
              "solidity": 0.2
             }
            },
            "type": "barpolar"
           }
          ],
          "carpet": [
           {
            "aaxis": {
             "endlinecolor": "#2a3f5f",
             "gridcolor": "white",
             "linecolor": "white",
             "minorgridcolor": "white",
             "startlinecolor": "#2a3f5f"
            },
            "baxis": {
             "endlinecolor": "#2a3f5f",
             "gridcolor": "white",
             "linecolor": "white",
             "minorgridcolor": "white",
             "startlinecolor": "#2a3f5f"
            },
            "type": "carpet"
           }
          ],
          "choropleth": [
           {
            "colorbar": {
             "outlinewidth": 0,
             "ticks": ""
            },
            "type": "choropleth"
           }
          ],
          "contour": [
           {
            "colorbar": {
             "outlinewidth": 0,
             "ticks": ""
            },
            "colorscale": [
             [
              0,
              "#0d0887"
             ],
             [
              0.1111111111111111,
              "#46039f"
             ],
             [
              0.2222222222222222,
              "#7201a8"
             ],
             [
              0.3333333333333333,
              "#9c179e"
             ],
             [
              0.4444444444444444,
              "#bd3786"
             ],
             [
              0.5555555555555556,
              "#d8576b"
             ],
             [
              0.6666666666666666,
              "#ed7953"
             ],
             [
              0.7777777777777778,
              "#fb9f3a"
             ],
             [
              0.8888888888888888,
              "#fdca26"
             ],
             [
              1,
              "#f0f921"
             ]
            ],
            "type": "contour"
           }
          ],
          "contourcarpet": [
           {
            "colorbar": {
             "outlinewidth": 0,
             "ticks": ""
            },
            "type": "contourcarpet"
           }
          ],
          "heatmap": [
           {
            "colorbar": {
             "outlinewidth": 0,
             "ticks": ""
            },
            "colorscale": [
             [
              0,
              "#0d0887"
             ],
             [
              0.1111111111111111,
              "#46039f"
             ],
             [
              0.2222222222222222,
              "#7201a8"
             ],
             [
              0.3333333333333333,
              "#9c179e"
             ],
             [
              0.4444444444444444,
              "#bd3786"
             ],
             [
              0.5555555555555556,
              "#d8576b"
             ],
             [
              0.6666666666666666,
              "#ed7953"
             ],
             [
              0.7777777777777778,
              "#fb9f3a"
             ],
             [
              0.8888888888888888,
              "#fdca26"
             ],
             [
              1,
              "#f0f921"
             ]
            ],
            "type": "heatmap"
           }
          ],
          "heatmapgl": [
           {
            "colorbar": {
             "outlinewidth": 0,
             "ticks": ""
            },
            "colorscale": [
             [
              0,
              "#0d0887"
             ],
             [
              0.1111111111111111,
              "#46039f"
             ],
             [
              0.2222222222222222,
              "#7201a8"
             ],
             [
              0.3333333333333333,
              "#9c179e"
             ],
             [
              0.4444444444444444,
              "#bd3786"
             ],
             [
              0.5555555555555556,
              "#d8576b"
             ],
             [
              0.6666666666666666,
              "#ed7953"
             ],
             [
              0.7777777777777778,
              "#fb9f3a"
             ],
             [
              0.8888888888888888,
              "#fdca26"
             ],
             [
              1,
              "#f0f921"
             ]
            ],
            "type": "heatmapgl"
           }
          ],
          "histogram": [
           {
            "marker": {
             "pattern": {
              "fillmode": "overlay",
              "size": 10,
              "solidity": 0.2
             }
            },
            "type": "histogram"
           }
          ],
          "histogram2d": [
           {
            "colorbar": {
             "outlinewidth": 0,
             "ticks": ""
            },
            "colorscale": [
             [
              0,
              "#0d0887"
             ],
             [
              0.1111111111111111,
              "#46039f"
             ],
             [
              0.2222222222222222,
              "#7201a8"
             ],
             [
              0.3333333333333333,
              "#9c179e"
             ],
             [
              0.4444444444444444,
              "#bd3786"
             ],
             [
              0.5555555555555556,
              "#d8576b"
             ],
             [
              0.6666666666666666,
              "#ed7953"
             ],
             [
              0.7777777777777778,
              "#fb9f3a"
             ],
             [
              0.8888888888888888,
              "#fdca26"
             ],
             [
              1,
              "#f0f921"
             ]
            ],
            "type": "histogram2d"
           }
          ],
          "histogram2dcontour": [
           {
            "colorbar": {
             "outlinewidth": 0,
             "ticks": ""
            },
            "colorscale": [
             [
              0,
              "#0d0887"
             ],
             [
              0.1111111111111111,
              "#46039f"
             ],
             [
              0.2222222222222222,
              "#7201a8"
             ],
             [
              0.3333333333333333,
              "#9c179e"
             ],
             [
              0.4444444444444444,
              "#bd3786"
             ],
             [
              0.5555555555555556,
              "#d8576b"
             ],
             [
              0.6666666666666666,
              "#ed7953"
             ],
             [
              0.7777777777777778,
              "#fb9f3a"
             ],
             [
              0.8888888888888888,
              "#fdca26"
             ],
             [
              1,
              "#f0f921"
             ]
            ],
            "type": "histogram2dcontour"
           }
          ],
          "mesh3d": [
           {
            "colorbar": {
             "outlinewidth": 0,
             "ticks": ""
            },
            "type": "mesh3d"
           }
          ],
          "parcoords": [
           {
            "line": {
             "colorbar": {
              "outlinewidth": 0,
              "ticks": ""
             }
            },
            "type": "parcoords"
           }
          ],
          "pie": [
           {
            "automargin": true,
            "type": "pie"
           }
          ],
          "scatter": [
           {
            "fillpattern": {
             "fillmode": "overlay",
             "size": 10,
             "solidity": 0.2
            },
            "type": "scatter"
           }
          ],
          "scatter3d": [
           {
            "line": {
             "colorbar": {
              "outlinewidth": 0,
              "ticks": ""
             }
            },
            "marker": {
             "colorbar": {
              "outlinewidth": 0,
              "ticks": ""
             }
            },
            "type": "scatter3d"
           }
          ],
          "scattercarpet": [
           {
            "marker": {
             "colorbar": {
              "outlinewidth": 0,
              "ticks": ""
             }
            },
            "type": "scattercarpet"
           }
          ],
          "scattergeo": [
           {
            "marker": {
             "colorbar": {
              "outlinewidth": 0,
              "ticks": ""
             }
            },
            "type": "scattergeo"
           }
          ],
          "scattergl": [
           {
            "marker": {
             "colorbar": {
              "outlinewidth": 0,
              "ticks": ""
             }
            },
            "type": "scattergl"
           }
          ],
          "scattermapbox": [
           {
            "marker": {
             "colorbar": {
              "outlinewidth": 0,
              "ticks": ""
             }
            },
            "type": "scattermapbox"
           }
          ],
          "scatterpolar": [
           {
            "marker": {
             "colorbar": {
              "outlinewidth": 0,
              "ticks": ""
             }
            },
            "type": "scatterpolar"
           }
          ],
          "scatterpolargl": [
           {
            "marker": {
             "colorbar": {
              "outlinewidth": 0,
              "ticks": ""
             }
            },
            "type": "scatterpolargl"
           }
          ],
          "scatterternary": [
           {
            "marker": {
             "colorbar": {
              "outlinewidth": 0,
              "ticks": ""
             }
            },
            "type": "scatterternary"
           }
          ],
          "surface": [
           {
            "colorbar": {
             "outlinewidth": 0,
             "ticks": ""
            },
            "colorscale": [
             [
              0,
              "#0d0887"
             ],
             [
              0.1111111111111111,
              "#46039f"
             ],
             [
              0.2222222222222222,
              "#7201a8"
             ],
             [
              0.3333333333333333,
              "#9c179e"
             ],
             [
              0.4444444444444444,
              "#bd3786"
             ],
             [
              0.5555555555555556,
              "#d8576b"
             ],
             [
              0.6666666666666666,
              "#ed7953"
             ],
             [
              0.7777777777777778,
              "#fb9f3a"
             ],
             [
              0.8888888888888888,
              "#fdca26"
             ],
             [
              1,
              "#f0f921"
             ]
            ],
            "type": "surface"
           }
          ],
          "table": [
           {
            "cells": {
             "fill": {
              "color": "#EBF0F8"
             },
             "line": {
              "color": "white"
             }
            },
            "header": {
             "fill": {
              "color": "#C8D4E3"
             },
             "line": {
              "color": "white"
             }
            },
            "type": "table"
           }
          ]
         },
         "layout": {
          "annotationdefaults": {
           "arrowcolor": "#2a3f5f",
           "arrowhead": 0,
           "arrowwidth": 1
          },
          "autotypenumbers": "strict",
          "coloraxis": {
           "colorbar": {
            "outlinewidth": 0,
            "ticks": ""
           }
          },
          "colorscale": {
           "diverging": [
            [
             0,
             "#8e0152"
            ],
            [
             0.1,
             "#c51b7d"
            ],
            [
             0.2,
             "#de77ae"
            ],
            [
             0.3,
             "#f1b6da"
            ],
            [
             0.4,
             "#fde0ef"
            ],
            [
             0.5,
             "#f7f7f7"
            ],
            [
             0.6,
             "#e6f5d0"
            ],
            [
             0.7,
             "#b8e186"
            ],
            [
             0.8,
             "#7fbc41"
            ],
            [
             0.9,
             "#4d9221"
            ],
            [
             1,
             "#276419"
            ]
           ],
           "sequential": [
            [
             0,
             "#0d0887"
            ],
            [
             0.1111111111111111,
             "#46039f"
            ],
            [
             0.2222222222222222,
             "#7201a8"
            ],
            [
             0.3333333333333333,
             "#9c179e"
            ],
            [
             0.4444444444444444,
             "#bd3786"
            ],
            [
             0.5555555555555556,
             "#d8576b"
            ],
            [
             0.6666666666666666,
             "#ed7953"
            ],
            [
             0.7777777777777778,
             "#fb9f3a"
            ],
            [
             0.8888888888888888,
             "#fdca26"
            ],
            [
             1,
             "#f0f921"
            ]
           ],
           "sequentialminus": [
            [
             0,
             "#0d0887"
            ],
            [
             0.1111111111111111,
             "#46039f"
            ],
            [
             0.2222222222222222,
             "#7201a8"
            ],
            [
             0.3333333333333333,
             "#9c179e"
            ],
            [
             0.4444444444444444,
             "#bd3786"
            ],
            [
             0.5555555555555556,
             "#d8576b"
            ],
            [
             0.6666666666666666,
             "#ed7953"
            ],
            [
             0.7777777777777778,
             "#fb9f3a"
            ],
            [
             0.8888888888888888,
             "#fdca26"
            ],
            [
             1,
             "#f0f921"
            ]
           ]
          },
          "colorway": [
           "#636efa",
           "#EF553B",
           "#00cc96",
           "#ab63fa",
           "#FFA15A",
           "#19d3f3",
           "#FF6692",
           "#B6E880",
           "#FF97FF",
           "#FECB52"
          ],
          "font": {
           "color": "#2a3f5f"
          },
          "geo": {
           "bgcolor": "white",
           "lakecolor": "white",
           "landcolor": "#E5ECF6",
           "showlakes": true,
           "showland": true,
           "subunitcolor": "white"
          },
          "hoverlabel": {
           "align": "left"
          },
          "hovermode": "closest",
          "mapbox": {
           "style": "light"
          },
          "paper_bgcolor": "white",
          "plot_bgcolor": "#E5ECF6",
          "polar": {
           "angularaxis": {
            "gridcolor": "white",
            "linecolor": "white",
            "ticks": ""
           },
           "bgcolor": "#E5ECF6",
           "radialaxis": {
            "gridcolor": "white",
            "linecolor": "white",
            "ticks": ""
           }
          },
          "scene": {
           "xaxis": {
            "backgroundcolor": "#E5ECF6",
            "gridcolor": "white",
            "gridwidth": 2,
            "linecolor": "white",
            "showbackground": true,
            "ticks": "",
            "zerolinecolor": "white"
           },
           "yaxis": {
            "backgroundcolor": "#E5ECF6",
            "gridcolor": "white",
            "gridwidth": 2,
            "linecolor": "white",
            "showbackground": true,
            "ticks": "",
            "zerolinecolor": "white"
           },
           "zaxis": {
            "backgroundcolor": "#E5ECF6",
            "gridcolor": "white",
            "gridwidth": 2,
            "linecolor": "white",
            "showbackground": true,
            "ticks": "",
            "zerolinecolor": "white"
           }
          },
          "shapedefaults": {
           "line": {
            "color": "#2a3f5f"
           }
          },
          "ternary": {
           "aaxis": {
            "gridcolor": "white",
            "linecolor": "white",
            "ticks": ""
           },
           "baxis": {
            "gridcolor": "white",
            "linecolor": "white",
            "ticks": ""
           },
           "bgcolor": "#E5ECF6",
           "caxis": {
            "gridcolor": "white",
            "linecolor": "white",
            "ticks": ""
           }
          },
          "title": {
           "x": 0.05
          },
          "xaxis": {
           "automargin": true,
           "gridcolor": "white",
           "linecolor": "white",
           "ticks": "",
           "title": {
            "standoff": 15
           },
           "zerolinecolor": "white",
           "zerolinewidth": 2
          },
          "yaxis": {
           "automargin": true,
           "gridcolor": "white",
           "linecolor": "white",
           "ticks": "",
           "title": {
            "standoff": 15
           },
           "zerolinecolor": "white",
           "zerolinewidth": 2
          }
         }
        },
        "title": {
         "text": "Product Clusters (Products Sorted by Cluster)"
        }
       }
      }
     },
     "metadata": {},
     "output_type": "display_data"
    }
   ],
   "source": [
    "from neo4j import GraphDatabase\n",
    "import pandas as pd\n",
    "from sklearn.feature_extraction.text import TfidfVectorizer\n",
    "from sklearn.cluster import KMeans\n",
    "\n",
    "\n",
    "def get_data(tx):\n",
    "    query = \"\"\"\n",
    "        MATCH (p:Product)-[:HAS_RECIPE]->(:Recipe)-[:USES_INGREDIENT]->(i:Ingredient)-[:HAS_RESEARCH]->(res:IngredientResearch)\n",
    "        RETURN p.name AS product, COLLECT(res.ingredient_name) AS ingredients\n",
    "    \"\"\"\n",
    "    result = tx.run(query)\n",
    "    data = [(record[\"product\"], record[\"ingredients\"]) for record in result]\n",
    "    return data\n",
    "\n",
    "with driver.session() as session:\n",
    "    data = session.read_transaction(get_data)\n",
    "\n",
    "# Converting data to DataFrame\n",
    "df = pd.DataFrame(data, columns=['Product', 'Ingredients'])\n",
    "\n",
    "# Feature extraction and pre-processing of constituent data\n",
    "tfidf_vectorizer = TfidfVectorizer()\n",
    "ingredient_features = tfidf_vectorizer.fit_transform(df['Ingredients'].apply(lambda x: ', '.join(x)))\n",
    "\n",
    "# Clustering using the K-means algorithm\n",
    "num_clusters = 10 # Assuming the number of clusters is 5\n",
    "kmeans = KMeans(n_clusters=num_clusters)\n",
    "kmeans.fit(ingredient_features)\n",
    "\n",
    "# Get the cluster labels for each product\n",
    "product_labels = kmeans.labels_\n",
    "\n",
    "# Adding Cluster Labels to a DataFrame\n",
    "df['Cluster'] = product_labels\n",
    "\n",
    "# Grouping products based on cluster labels\n",
    "grouped_products = df.groupby('Cluster')['Product'].apply(lambda x: ', '.join(x)).reset_index()\n",
    "\n",
    "# Create a new DataFrame with each row containing a group and the corresponding products\n",
    "new_product_groups = pd.DataFrame({'Cluster': grouped_products['Cluster'], 'Products': grouped_products['Product']})\n",
    "\n",
    "# Create the table\n",
    "table_data = go.Table(\n",
    "    header=dict(values=['Cluster', 'Products']),\n",
    "    cells=dict(values=[new_product_groups['Cluster'], new_product_groups['Products']])\n",
    ")\n",
    "\n",
    "\n",
    "layout = go.Layout(title='Product Clusters (Products Sorted by Cluster)')\n",
    "\n",
    "\n",
    "fig = go.Figure(data=table_data, layout=layout)\n",
    "fig.show()\n"
   ]
  },
  {
   "cell_type": "code",
   "execution_count": 23,
   "metadata": {},
   "outputs": [
    {
     "name": "stderr",
     "output_type": "stream",
     "text": [
      "C:\\Users\\apple\\AppData\\Local\\Temp\\ipykernel_10132\\2393537965.py:15: DeprecationWarning:\n",
      "\n",
      "read_transaction has been renamed to execute_read\n",
      "\n"
     ]
    },
    {
     "name": "stdout",
     "output_type": "stream",
     "text": [
      "                                               Product  Group\n",
      "0       Coca - Cola Classic  Soft Drink Multipack Cans      0\n",
      "1                                     Carbonated Water      0\n",
      "2                                                Sugar      0\n",
      "3                                 Colouring Agent 150d      0\n",
      "4                                      Phosphoric Acid      0\n",
      "..                                                 ...    ...\n",
      "406                                          Pineapple     36\n",
      "407                     Dole Pineapple Chunks In Juice     37\n",
      "408                                    Pineapple Juice     37\n",
      "409              Clarified Pineapple Juice Concentrate     37\n",
      "410  Goulburn Valley Two Fruits In Juice Fruit Cups...     37\n",
      "\n",
      "[411 rows x 2 columns]\n"
     ]
    },
    {
     "data": {
      "application/vnd.plotly.v1+json": {
       "config": {
        "plotlyServerURL": "https://plot.ly"
       },
       "data": [
        {
         "cells": {
          "values": [
           [
            "Coca - Cola Classic  Soft Drink Multipack Cans",
            "Carbonated Water",
            "Sugar",
            "Colouring Agent 150d",
            "Phosphoric Acid",
            "Flavour",
            "Caffeine",
            "Coca - Cola Classic  Soft Drink Mini Cans",
            "Coca - Cola Vanilla  Soft Drink Multipack Cans",
            "Coca - Cola Zero Sugar Soft Drink Multipack Cans",
            "Sodium Citrate",
            "Aspartame",
            "Acesulfame Potassium",
            "Coca - Cola Caffeine Free Zero Sugar Soft Drink Multipack Cans",
            "Sweetener 952",
            "Coca - Cola Zero Sugar Soft Drink Mini Cans",
            "Indomie Mi Goreng Instant Noodles",
            "Wheat Flour",
            "Refined Palm Oil",
            "Salt",
            "Acidity Regulator 451",
            "Acidity Regulator 501",
            "Sodium Bicarbonate",
            "Guar Gum",
            "Colour 101",
            "Seasoning Powder",
            "Flavour Enhancer 621",
            "Disodium Guanylate",
            "Garlic Powder",
            "Onion Powder",
            "Yeast Extract",
            "Artificial Flavour",
            "Pepper",
            "Anti Caking Agent 551",
            "Seasoning Oil",
            "Onion",
            "Sweet Soy Sauce",
            "Water",
            "Wheat",
            "Soy Bean",
            "Spices",
            "Sesame Oil",
            "Chilli Sauce",
            "Chilli",
            "Tapioca Starch",
            "Acetic Acid",
            "Citric Acid",
            "Herbs",
            "Preservative 1211",
            "Sodium Metabisulfite",
            "Fried Onion",
            "TBHQ",
            "Disodium Inosinate",
            "Maggi 2 Minute Chicken Flavour Instant Noodles",
            "Vegetable Oil",
            "Antioxidant 320",
            "Mineral Salt 508",
            "Mineral Salt 451",
            "Flavour Enhancer 635",
            "Iodised Salt",
            "Maltodextrin",
            "Flavours Wheat",
            "Flavours Soy",
            "Vegetable Fat",
            "Parsley Flakes",
            "Turmeric",
            "Caramel III",
            "Coriander",
            "Cumin",
            "Spice Cardamom",
            "Spice Chilli Powder",
            "Spice Ginger",
            "Flavour Celery",
            "Mineral Salt 501",
            "Mineral Salt 500",
            "Potassium Chloride",
            "Potato Starch",
            "Parsley",
            "Burnt Sugar",
            "Supreme Noodles Cup Chicken Flavour",
            "Gluten Wheat",
            "Soy",
            "Curcumin",
            "Fantastic Chicken Noodle Cup",
            "Flavour Sachet",
            "Vegetable Sachet",
            "Dehydrated Vegetables",
            "Fantastic Chicken Noodle Bowl",
            "Modified Starch 1420",
            "Mineral Salt 450",
            "Basil",
            "Colouring Agent 100",
            "Antioxidant 307b",
            "Indomie Mi Goreng Noodle Cup",
            "Flavours",
            "Maggi 2 Minute Beef Flavour Instant Noodles",
            "Soy Sauce Powder",
            "White Pepper",
            "Rosemary",
            "Supreme Noodles Cup Beef Flavour",
            "Colouring Agent 150c",
            "Caramel Color",
            "Schweppes Zero Sugar Lime Infused Mineral Water Bottle",
            "Carbonated Mineral Water",
            "Natural Flavours",
            "Schweppes Raspberry Infused Natural Mineral Water Bottle",
            "Schweppes Natural Mineral Water Bottle Natural",
            "Natural Mineral Water",
            "Schweppes Soda Water Bottle Classic Mixers",
            "Potassium Bicarbonate",
            "Schweppes Indian Tonic Water Classic Mixers Bottle",
            "Natural Flavour Orange Peel Extract",
            "Natural Flavour Citrus Oils",
            "Natural Flavour Botanical Extracts",
            "Natural Flavour Lemon Peel Extract",
            "Quinine",
            "Schweppes Lime Soda Water With Lime Juice Bottle",
            "Natural Flavour Lime Oils",
            "Sodium Benzoate",
            "Plant Extract Gardenia",
            "Plant Extract Carthamus",
            "Sulphites",
            "Reconstituted Lime Juice",
            "Schweppes Zero Sugar Classic Mixers Indian Tonic Water Bottle",
            "Schweppes Lemon Lime Natural Mineral Water Bottle",
            "",
            "Potassium Sorbate",
            "Safflower Extract",
            "Reconstituted Lemon Juice",
            "Schweppes Orange Mango Natural Mineral Water Bottle",
            "Ascorbic Acid",
            "Carminic Acid",
            "Lutein",
            "Antioxidant 385",
            "Reconstituted Mango Juice",
            "Reconstituted Fruit Juice Orange",
            "Kitkat 4 Finger Milk Chocolate Bar",
            "Milk Solids",
            "Cocoa Butter",
            "Emulsifier Soy Lecithin",
            "Cocoa Mass",
            "Milk",
            "Polyglycerol Polyricinoleate",
            "Cocoa",
            "Yeast",
            "Processing Aid Wheat",
            "Kitkat Chunky Original Chocolate Bar",
            "Choc Paste",
            "Cadbury Dairy Milk Caramello Koala Chocolate",
            "Full Cream Milk",
            "Glucose Syrup",
            "Sweetened Condensed Milk",
            "Golden Syrup",
            "Invert Sugar",
            "Acidity Regulator 331",
            "Twix Milk Chocolate Bar With Caramel Biscuit",
            "Milk Chocolate",
            "Caramel",
            "Biscuit",
            "Mars Chocolate Bar With Nougat & Caramel",
            "Wheat Glucose Syrup",
            "Barley Malt Extract",
            "Egg White",
            "Natural Flavour Vanilla Extract",
            "Cadbury Dairy Milk Chocolate Roll",
            "Cadbury Dairy Milk Chocolate Bar",
            "Cadbury Twirl Chocolate Bar",
            "Cadbury Chomp Chocolate Bar",
            "Cocoa Powder",
            "Sorbitan Tristearate",
            "Emulsifier 471",
            "Enzymes",
            "Arnott's Premier Chocolate Chip Cookies",
            "Polyglycerol polyricinoleate",
            "Desiccated Coconut",
            "Wheat Starch",
            "Baking Powder",
            "Colouring Agent Caramel IV",
            "Antioxidant E307B",
            "Woolworths Chocolate Chip Cookies",
            "Dark Compound Chocolate Chips",
            "Palm Oil",
            "Cocoa Solids",
            "Natural Flavour",
            "Wheaten Corn Flour",
            "Whole Egg Powder",
            "Milk Whey Powder",
            "Annatto Extracts",
            "Sodium Carbonate",
            "Ammonium Carbonate",
            "Woolworths The King Of Chunky Chocolate Chip Cookies",
            "Dark Chocolate Chips",
            "Natural Vanilla Flavour",
            "Milk Butter",
            "Natural Flavour Vanilla",
            "Natural Flavour Butter",
            "Arnott's Mini Choc Chip Cookie Multipack Biscuits",
            "Chocolate Chips",
            "Skim Milk Powder",
            "Oreo Original Mini Cookies Multipack",
            "Fructose Syrup",
            "Cornstarch",
            "Ammonium Bicarbonate",
            "Mineral Iron",
            "Zinc",
            "Riboflavin",
            "Thiamin",
            "Folate",
            "Oreo Minis Cookies Variety Bags 18 Pack",
            "Strawberry",
            "Carmine",
            "Cadbury Classic Choc Chip Cookies",
            "Milk Chocolate Chips",
            "Dextrose",
            "Emulsifier 442",
            "Egg",
            "Stabiliser 422",
            "Soybean Fibre",
            "Thickener 1422",
            "Raising Agent 450",
            "Colouring Agent 160a",
            "Cadbury Choc Centre Cookies",
            "Thickener 1414",
            "Byron Bay Cookies Dotty Cookie Bites",
            "Milk Compound Chocolate",
            "Glazing Agent 414",
            "Carnauba Wax",
            "Colouring Agent Titan White",
            "Colouring Agent Spirulina Extract",
            "Beta carotene",
            "Red Beetroot Powder",
            "Black Carrot Extract",
            "Cultured Dextrose",
            "Maize Starch",
            "Oreo Original Cookies",
            "Rimmel Scandaleyes Eye Definer Brown",
            "Polyethylene",
            "Synthetic Wax",
            "Bis-Diglyceryl Polyacyladipate-2",
            "Polybutene",
            "Silica",
            "Octyldodecanol",
            "Pentaerythrityl Tetra-di-t-butyl Hydroxyhydrocinnamate",
            "Mica",
            "Ultramarines",
            "Iron Oxides",
            "Titanium Dioxide",
            "Ferric Ferrocyanide",
            "Woolworths Apple Juice",
            "Reconstituted Apple Juice",
            "Vitamin C",
            "Woolworths Apple & Mango Juice",
            "Woolworths Orange Juice",
            "Woolworths Breakfast Juice",
            "Reconstituted Fruit Juice Pineapple",
            "Reconstituted Fruit Juice Passionfruit",
            "Carboxymethyl Cellulose",
            "Woolworths Apple & Blackcurrant Juice",
            "Reconstituted Fruit Juice Blackcurrant",
            "Anthocyanins",
            "Woolworths Multivitamin Juice",
            "Reconstituted Fruit Juice Grape",
            "Reconstituted Fruit Juice Apricot",
            "Reconstituted Fruit Juice Peach",
            "Reconstituted Fruit Juice Pear",
            "Guava Puree",
            "Vitamin A",
            "Golden Circle Golden Pash Fruit Drink",
            "Potassium Citrate",
            "Golden Circle Drinks Pine Orange Fruit Drink",
            "Pectin",
            "Golden Circle Drinks Sunshine Punch Fruit Drink",
            "Reconstituted Fruit Juice Water Extracted Orange",
            "Reconstituted Fruit Juice Peach Purée",
            "Golden Circle Fruit Drinks Lunch Box Poppers Tropical Punch Multipack",
            "Woolworths Full Cream Milk",
            "Dairy Farmers Full Cream Milk Full Cream Milk",
            "Norco Full Cream Milk",
            "Pasteurised Homogenised Milk",
            "A2 Milk Full Cream Milk",
            "Pauls Farmhouse Gold Full Cream Milk",
            "Cream",
            "Oreo Double Stuff Cookies",
            "Oreo Original Cookies Family Pack",
            "Oreo Chocolate Cookies",
            "Oreo Grab & Go Original Cookies 9 Pack",
            "Fructose",
            "Syrup",
            "Oreo Neapolitan Double Stuff Cookies",
            "Woolworths Diced Italian Tomatoes",
            "Tomato Juice",
            "Tomatoes",
            "Woolworths Lasagne Sheets",
            "Durum Wheat Semolina",
            "Essentials Coconut Cream",
            "Coconut Extract",
            "Woolworths Uht Full Cream Milk",
            "Homogenised Full Cream Milk",
            "Deep Cove Sardines In Oil",
            "Sardines",
            "Woolworths Creamed Rice",
            "Rice",
            "Skim Milk",
            "Acidity Regulator 339",
            "Essentials Coconut Milk",
            "Woolworths Tomato Sauce Squeeze",
            "Reconstituted Tomato Puree",
            "Thickener Modified Corn Starch",
            "Spice Extract",
            "Woolworths Tomato Sauce",
            "Woolworths Barbecue Sauce Squeeze",
            "Reconstituted Fruit Puree",
            "Apple Pulp",
            "Tomato Paste",
            "Molasses",
            "Caramel I",
            "Smoke Flavour",
            "Xanthan Gum",
            "Masterfoods Tomato Sauce",
            "Masterfoods Barbecue Sauce",
            "Wheat Cornflour",
            "Caramel Color 150c",
            "Tamarind Paste",
            "Clove",
            "Nutmeg",
            "Fountain Tomato Sauce Squeeze",
            "Tomato Puree",
            "Fountain Barbecue Bbq Sauce Squeeze",
            "Maize Thickener 1422",
            "Maize Maltodextrin",
            "Woolworths Secret Burger Sauce",
            "Canola Oil",
            "Vinegar",
            "Free Range Egg Yolk",
            "Gherkin",
            "Carotene",
            "Paprika Oleoresins",
            "Dill",
            "Herb Extract",
            "Mustard Oil",
            "Heinz Ketchup Tomato Sauce Ketchup",
            "White Vinegar",
            "Woolworths Barbecue Sauce",
            "Reconstituted Fruit Puree Apple",
            "Reconstituted Fruit Puree Tomato Paste",
            "Woolworths Spring Water Bottles",
            "Natural Spring Water",
            "Woolworths Spring Water",
            "Frantelle Australian Still Spring Water Bottles Multipack",
            "Australian Spring Water",
            "Mount Franklin Spring Water Bottle",
            "Smith's Crinkle Cut Potato Chips Original",
            "Potatoes",
            "Sunflower Oil",
            "Antioxidant Tocopherols",
            "Antioxidant Rosemary Extract",
            "Smith's Crinkle Cut Potato Chips Cheese & Onion",
            "Cheese Powder",
            "Flavoured Milk",
            "Smith's Crinkle Cut Potato Chips Barbecue",
            "Tomato Powder",
            "Sodium Diacetate",
            "Paprika",
            "Smith's Crinkle Cut Potato Chips Chicken",
            "Flavour Enhancer 620",
            "Thins Chips Salt & Vinegar",
            "Smith's Thinly Cut Potato Chips Original Share Pack",
            "Thins Chips Chicken",
            "Glucose",
            "Vegetable Powder Garlic",
            "Smith's Crinkle Cut Potato Chips Salt & Vinegar",
            "Milk Lactose",
            "Thins Chips Light & Tangy",
            "Vegetable Powder Tomato",
            "Garam Masala",
            "Buttermilk Powder",
            "Thins Cheese & Onion Chips",
            "Lactic Acid",
            "Paprika Extract",
            "Woolworths Peach In Strawberry Jelly",
            "Carrageenan",
            "Locust Bean Gum",
            "Calcium Lactate",
            "Malic Acid",
            "Natural Strawberry Flavour",
            "Cochineal",
            "Fruit Peach",
            "Woolworths Two Fruits In Juice Cups",
            "Pear",
            "Reconstituted Refined Juice Concentrated Pear Juice",
            "Woolworths Two Fruits In Juice",
            "Refined Fruit Juice Apple",
            "Refined Fruit Juice Grape",
            "Refined Fruit Juice Peach",
            "Refined Fruit Juice Pear",
            "Woolworths Two Fruits In Tropical Jelly",
            "Natural Flavour Pineapple",
            "Natural Flavour Mango",
            "Woolworths Apple In Pineapple Jelly",
            "Jelly Natural Pineapple Flavour",
            "Apple",
            "Goulburn Valley Two Fruits In Juice",
            "Diced Pears",
            "Diced Peaches",
            "Refined Fruit Juice",
            "Dole Pineapple Slices In Syrup",
            "Pineapple",
            "Dole Pineapple Chunks In Juice",
            "Pineapple Juice",
            "Clarified Pineapple Juice Concentrate",
            "Goulburn Valley Two Fruits In Juice Fruit Cups In Juice"
           ],
           [
            0,
            0,
            0,
            0,
            0,
            1,
            1,
            1,
            1,
            1,
            1,
            1,
            1,
            1,
            1,
            1,
            1,
            1,
            1,
            1,
            1,
            2,
            2,
            2,
            2,
            2,
            2,
            2,
            2,
            2,
            2,
            2,
            2,
            2,
            2,
            2,
            2,
            2,
            2,
            2,
            2,
            2,
            2,
            2,
            2,
            2,
            2,
            2,
            2,
            2,
            2,
            2,
            2,
            2,
            2,
            2,
            2,
            2,
            2,
            2,
            2,
            2,
            2,
            2,
            2,
            2,
            2,
            2,
            2,
            3,
            3,
            3,
            3,
            3,
            3,
            3,
            3,
            3,
            3,
            3,
            3,
            3,
            3,
            3,
            3,
            3,
            3,
            3,
            3,
            3,
            3,
            3,
            3,
            3,
            4,
            4,
            4,
            4,
            4,
            4,
            4,
            4,
            4,
            4,
            4,
            4,
            4,
            4,
            4,
            4,
            4,
            4,
            4,
            4,
            4,
            4,
            4,
            4,
            4,
            4,
            4,
            4,
            4,
            4,
            4,
            4,
            4,
            4,
            4,
            4,
            4,
            4,
            4,
            4,
            4,
            4,
            4,
            4,
            4,
            4,
            4,
            4,
            4,
            4,
            4,
            4,
            4,
            4,
            4,
            4,
            5,
            5,
            5,
            5,
            6,
            6,
            6,
            6,
            6,
            6,
            6,
            6,
            6,
            6,
            6,
            6,
            6,
            6,
            6,
            6,
            6,
            6,
            6,
            6,
            6,
            6,
            6,
            6,
            6,
            6,
            6,
            6,
            6,
            6,
            6,
            6,
            6,
            6,
            6,
            6,
            7,
            7,
            7,
            7,
            7,
            7,
            7,
            7,
            7,
            7,
            7,
            8,
            8,
            8,
            8,
            8,
            8,
            8,
            9,
            9,
            9,
            9,
            9,
            9,
            9,
            9,
            9,
            9,
            9,
            9,
            9,
            9,
            9,
            9,
            9,
            10,
            10,
            10,
            10,
            10,
            10,
            10,
            10,
            10,
            11,
            11,
            11,
            11,
            11,
            11,
            11,
            12,
            12,
            12,
            12,
            12,
            12,
            12,
            12,
            12,
            12,
            12,
            12,
            13,
            13,
            13,
            13,
            13,
            13,
            13,
            13,
            14,
            14,
            14,
            14,
            14,
            14,
            14,
            14,
            14,
            14,
            14,
            14,
            14,
            14,
            14,
            14,
            14,
            14,
            14,
            14,
            14,
            14,
            14,
            14,
            14,
            14,
            14,
            14,
            15,
            15,
            16,
            16,
            17,
            17,
            17,
            17,
            17,
            17,
            17,
            17,
            17,
            17,
            17,
            17,
            17,
            17,
            17,
            17,
            17,
            17,
            17,
            17,
            17,
            18,
            18,
            18,
            18,
            18,
            18,
            18,
            18,
            19,
            19,
            19,
            19,
            19,
            19,
            19,
            20,
            20,
            20,
            20,
            21,
            21,
            21,
            21,
            21,
            21,
            22,
            22,
            22,
            22,
            22,
            22,
            23,
            23,
            23,
            23,
            23,
            23,
            23,
            23,
            24,
            24,
            24,
            24,
            24,
            24,
            24,
            24,
            24,
            24,
            24,
            24,
            24,
            25,
            25,
            26,
            26,
            27,
            27,
            28,
            28,
            28,
            29,
            29,
            30,
            30,
            31,
            31,
            31,
            32,
            32,
            32,
            32,
            32,
            32,
            32,
            32,
            33,
            33,
            33,
            34,
            34,
            34,
            35,
            35,
            35,
            35,
            35,
            35,
            36,
            36,
            36,
            36,
            36,
            37,
            37,
            37,
            37
           ]
          ]
         },
         "header": {
          "values": [
           "Product",
           "Group"
          ]
         },
         "type": "table"
        }
       ],
       "layout": {
        "template": {
         "data": {
          "bar": [
           {
            "error_x": {
             "color": "#2a3f5f"
            },
            "error_y": {
             "color": "#2a3f5f"
            },
            "marker": {
             "line": {
              "color": "#E5ECF6",
              "width": 0.5
             },
             "pattern": {
              "fillmode": "overlay",
              "size": 10,
              "solidity": 0.2
             }
            },
            "type": "bar"
           }
          ],
          "barpolar": [
           {
            "marker": {
             "line": {
              "color": "#E5ECF6",
              "width": 0.5
             },
             "pattern": {
              "fillmode": "overlay",
              "size": 10,
              "solidity": 0.2
             }
            },
            "type": "barpolar"
           }
          ],
          "carpet": [
           {
            "aaxis": {
             "endlinecolor": "#2a3f5f",
             "gridcolor": "white",
             "linecolor": "white",
             "minorgridcolor": "white",
             "startlinecolor": "#2a3f5f"
            },
            "baxis": {
             "endlinecolor": "#2a3f5f",
             "gridcolor": "white",
             "linecolor": "white",
             "minorgridcolor": "white",
             "startlinecolor": "#2a3f5f"
            },
            "type": "carpet"
           }
          ],
          "choropleth": [
           {
            "colorbar": {
             "outlinewidth": 0,
             "ticks": ""
            },
            "type": "choropleth"
           }
          ],
          "contour": [
           {
            "colorbar": {
             "outlinewidth": 0,
             "ticks": ""
            },
            "colorscale": [
             [
              0,
              "#0d0887"
             ],
             [
              0.1111111111111111,
              "#46039f"
             ],
             [
              0.2222222222222222,
              "#7201a8"
             ],
             [
              0.3333333333333333,
              "#9c179e"
             ],
             [
              0.4444444444444444,
              "#bd3786"
             ],
             [
              0.5555555555555556,
              "#d8576b"
             ],
             [
              0.6666666666666666,
              "#ed7953"
             ],
             [
              0.7777777777777778,
              "#fb9f3a"
             ],
             [
              0.8888888888888888,
              "#fdca26"
             ],
             [
              1,
              "#f0f921"
             ]
            ],
            "type": "contour"
           }
          ],
          "contourcarpet": [
           {
            "colorbar": {
             "outlinewidth": 0,
             "ticks": ""
            },
            "type": "contourcarpet"
           }
          ],
          "heatmap": [
           {
            "colorbar": {
             "outlinewidth": 0,
             "ticks": ""
            },
            "colorscale": [
             [
              0,
              "#0d0887"
             ],
             [
              0.1111111111111111,
              "#46039f"
             ],
             [
              0.2222222222222222,
              "#7201a8"
             ],
             [
              0.3333333333333333,
              "#9c179e"
             ],
             [
              0.4444444444444444,
              "#bd3786"
             ],
             [
              0.5555555555555556,
              "#d8576b"
             ],
             [
              0.6666666666666666,
              "#ed7953"
             ],
             [
              0.7777777777777778,
              "#fb9f3a"
             ],
             [
              0.8888888888888888,
              "#fdca26"
             ],
             [
              1,
              "#f0f921"
             ]
            ],
            "type": "heatmap"
           }
          ],
          "heatmapgl": [
           {
            "colorbar": {
             "outlinewidth": 0,
             "ticks": ""
            },
            "colorscale": [
             [
              0,
              "#0d0887"
             ],
             [
              0.1111111111111111,
              "#46039f"
             ],
             [
              0.2222222222222222,
              "#7201a8"
             ],
             [
              0.3333333333333333,
              "#9c179e"
             ],
             [
              0.4444444444444444,
              "#bd3786"
             ],
             [
              0.5555555555555556,
              "#d8576b"
             ],
             [
              0.6666666666666666,
              "#ed7953"
             ],
             [
              0.7777777777777778,
              "#fb9f3a"
             ],
             [
              0.8888888888888888,
              "#fdca26"
             ],
             [
              1,
              "#f0f921"
             ]
            ],
            "type": "heatmapgl"
           }
          ],
          "histogram": [
           {
            "marker": {
             "pattern": {
              "fillmode": "overlay",
              "size": 10,
              "solidity": 0.2
             }
            },
            "type": "histogram"
           }
          ],
          "histogram2d": [
           {
            "colorbar": {
             "outlinewidth": 0,
             "ticks": ""
            },
            "colorscale": [
             [
              0,
              "#0d0887"
             ],
             [
              0.1111111111111111,
              "#46039f"
             ],
             [
              0.2222222222222222,
              "#7201a8"
             ],
             [
              0.3333333333333333,
              "#9c179e"
             ],
             [
              0.4444444444444444,
              "#bd3786"
             ],
             [
              0.5555555555555556,
              "#d8576b"
             ],
             [
              0.6666666666666666,
              "#ed7953"
             ],
             [
              0.7777777777777778,
              "#fb9f3a"
             ],
             [
              0.8888888888888888,
              "#fdca26"
             ],
             [
              1,
              "#f0f921"
             ]
            ],
            "type": "histogram2d"
           }
          ],
          "histogram2dcontour": [
           {
            "colorbar": {
             "outlinewidth": 0,
             "ticks": ""
            },
            "colorscale": [
             [
              0,
              "#0d0887"
             ],
             [
              0.1111111111111111,
              "#46039f"
             ],
             [
              0.2222222222222222,
              "#7201a8"
             ],
             [
              0.3333333333333333,
              "#9c179e"
             ],
             [
              0.4444444444444444,
              "#bd3786"
             ],
             [
              0.5555555555555556,
              "#d8576b"
             ],
             [
              0.6666666666666666,
              "#ed7953"
             ],
             [
              0.7777777777777778,
              "#fb9f3a"
             ],
             [
              0.8888888888888888,
              "#fdca26"
             ],
             [
              1,
              "#f0f921"
             ]
            ],
            "type": "histogram2dcontour"
           }
          ],
          "mesh3d": [
           {
            "colorbar": {
             "outlinewidth": 0,
             "ticks": ""
            },
            "type": "mesh3d"
           }
          ],
          "parcoords": [
           {
            "line": {
             "colorbar": {
              "outlinewidth": 0,
              "ticks": ""
             }
            },
            "type": "parcoords"
           }
          ],
          "pie": [
           {
            "automargin": true,
            "type": "pie"
           }
          ],
          "scatter": [
           {
            "fillpattern": {
             "fillmode": "overlay",
             "size": 10,
             "solidity": 0.2
            },
            "type": "scatter"
           }
          ],
          "scatter3d": [
           {
            "line": {
             "colorbar": {
              "outlinewidth": 0,
              "ticks": ""
             }
            },
            "marker": {
             "colorbar": {
              "outlinewidth": 0,
              "ticks": ""
             }
            },
            "type": "scatter3d"
           }
          ],
          "scattercarpet": [
           {
            "marker": {
             "colorbar": {
              "outlinewidth": 0,
              "ticks": ""
             }
            },
            "type": "scattercarpet"
           }
          ],
          "scattergeo": [
           {
            "marker": {
             "colorbar": {
              "outlinewidth": 0,
              "ticks": ""
             }
            },
            "type": "scattergeo"
           }
          ],
          "scattergl": [
           {
            "marker": {
             "colorbar": {
              "outlinewidth": 0,
              "ticks": ""
             }
            },
            "type": "scattergl"
           }
          ],
          "scattermapbox": [
           {
            "marker": {
             "colorbar": {
              "outlinewidth": 0,
              "ticks": ""
             }
            },
            "type": "scattermapbox"
           }
          ],
          "scatterpolar": [
           {
            "marker": {
             "colorbar": {
              "outlinewidth": 0,
              "ticks": ""
             }
            },
            "type": "scatterpolar"
           }
          ],
          "scatterpolargl": [
           {
            "marker": {
             "colorbar": {
              "outlinewidth": 0,
              "ticks": ""
             }
            },
            "type": "scatterpolargl"
           }
          ],
          "scatterternary": [
           {
            "marker": {
             "colorbar": {
              "outlinewidth": 0,
              "ticks": ""
             }
            },
            "type": "scatterternary"
           }
          ],
          "surface": [
           {
            "colorbar": {
             "outlinewidth": 0,
             "ticks": ""
            },
            "colorscale": [
             [
              0,
              "#0d0887"
             ],
             [
              0.1111111111111111,
              "#46039f"
             ],
             [
              0.2222222222222222,
              "#7201a8"
             ],
             [
              0.3333333333333333,
              "#9c179e"
             ],
             [
              0.4444444444444444,
              "#bd3786"
             ],
             [
              0.5555555555555556,
              "#d8576b"
             ],
             [
              0.6666666666666666,
              "#ed7953"
             ],
             [
              0.7777777777777778,
              "#fb9f3a"
             ],
             [
              0.8888888888888888,
              "#fdca26"
             ],
             [
              1,
              "#f0f921"
             ]
            ],
            "type": "surface"
           }
          ],
          "table": [
           {
            "cells": {
             "fill": {
              "color": "#EBF0F8"
             },
             "line": {
              "color": "white"
             }
            },
            "header": {
             "fill": {
              "color": "#C8D4E3"
             },
             "line": {
              "color": "white"
             }
            },
            "type": "table"
           }
          ]
         },
         "layout": {
          "annotationdefaults": {
           "arrowcolor": "#2a3f5f",
           "arrowhead": 0,
           "arrowwidth": 1
          },
          "autotypenumbers": "strict",
          "coloraxis": {
           "colorbar": {
            "outlinewidth": 0,
            "ticks": ""
           }
          },
          "colorscale": {
           "diverging": [
            [
             0,
             "#8e0152"
            ],
            [
             0.1,
             "#c51b7d"
            ],
            [
             0.2,
             "#de77ae"
            ],
            [
             0.3,
             "#f1b6da"
            ],
            [
             0.4,
             "#fde0ef"
            ],
            [
             0.5,
             "#f7f7f7"
            ],
            [
             0.6,
             "#e6f5d0"
            ],
            [
             0.7,
             "#b8e186"
            ],
            [
             0.8,
             "#7fbc41"
            ],
            [
             0.9,
             "#4d9221"
            ],
            [
             1,
             "#276419"
            ]
           ],
           "sequential": [
            [
             0,
             "#0d0887"
            ],
            [
             0.1111111111111111,
             "#46039f"
            ],
            [
             0.2222222222222222,
             "#7201a8"
            ],
            [
             0.3333333333333333,
             "#9c179e"
            ],
            [
             0.4444444444444444,
             "#bd3786"
            ],
            [
             0.5555555555555556,
             "#d8576b"
            ],
            [
             0.6666666666666666,
             "#ed7953"
            ],
            [
             0.7777777777777778,
             "#fb9f3a"
            ],
            [
             0.8888888888888888,
             "#fdca26"
            ],
            [
             1,
             "#f0f921"
            ]
           ],
           "sequentialminus": [
            [
             0,
             "#0d0887"
            ],
            [
             0.1111111111111111,
             "#46039f"
            ],
            [
             0.2222222222222222,
             "#7201a8"
            ],
            [
             0.3333333333333333,
             "#9c179e"
            ],
            [
             0.4444444444444444,
             "#bd3786"
            ],
            [
             0.5555555555555556,
             "#d8576b"
            ],
            [
             0.6666666666666666,
             "#ed7953"
            ],
            [
             0.7777777777777778,
             "#fb9f3a"
            ],
            [
             0.8888888888888888,
             "#fdca26"
            ],
            [
             1,
             "#f0f921"
            ]
           ]
          },
          "colorway": [
           "#636efa",
           "#EF553B",
           "#00cc96",
           "#ab63fa",
           "#FFA15A",
           "#19d3f3",
           "#FF6692",
           "#B6E880",
           "#FF97FF",
           "#FECB52"
          ],
          "font": {
           "color": "#2a3f5f"
          },
          "geo": {
           "bgcolor": "white",
           "lakecolor": "white",
           "landcolor": "#E5ECF6",
           "showlakes": true,
           "showland": true,
           "subunitcolor": "white"
          },
          "hoverlabel": {
           "align": "left"
          },
          "hovermode": "closest",
          "mapbox": {
           "style": "light"
          },
          "paper_bgcolor": "white",
          "plot_bgcolor": "#E5ECF6",
          "polar": {
           "angularaxis": {
            "gridcolor": "white",
            "linecolor": "white",
            "ticks": ""
           },
           "bgcolor": "#E5ECF6",
           "radialaxis": {
            "gridcolor": "white",
            "linecolor": "white",
            "ticks": ""
           }
          },
          "scene": {
           "xaxis": {
            "backgroundcolor": "#E5ECF6",
            "gridcolor": "white",
            "gridwidth": 2,
            "linecolor": "white",
            "showbackground": true,
            "ticks": "",
            "zerolinecolor": "white"
           },
           "yaxis": {
            "backgroundcolor": "#E5ECF6",
            "gridcolor": "white",
            "gridwidth": 2,
            "linecolor": "white",
            "showbackground": true,
            "ticks": "",
            "zerolinecolor": "white"
           },
           "zaxis": {
            "backgroundcolor": "#E5ECF6",
            "gridcolor": "white",
            "gridwidth": 2,
            "linecolor": "white",
            "showbackground": true,
            "ticks": "",
            "zerolinecolor": "white"
           }
          },
          "shapedefaults": {
           "line": {
            "color": "#2a3f5f"
           }
          },
          "ternary": {
           "aaxis": {
            "gridcolor": "white",
            "linecolor": "white",
            "ticks": ""
           },
           "baxis": {
            "gridcolor": "white",
            "linecolor": "white",
            "ticks": ""
           },
           "bgcolor": "#E5ECF6",
           "caxis": {
            "gridcolor": "white",
            "linecolor": "white",
            "ticks": ""
           }
          },
          "title": {
           "x": 0.05
          },
          "xaxis": {
           "automargin": true,
           "gridcolor": "white",
           "linecolor": "white",
           "ticks": "",
           "title": {
            "standoff": 15
           },
           "zerolinecolor": "white",
           "zerolinewidth": 2
          },
          "yaxis": {
           "automargin": true,
           "gridcolor": "white",
           "linecolor": "white",
           "ticks": "",
           "title": {
            "standoff": 15
           },
           "zerolinecolor": "white",
           "zerolinewidth": 2
          }
         }
        },
        "title": {
         "text": "Product Groups Detected by Label Propagation"
        }
       }
      }
     },
     "metadata": {},
     "output_type": "display_data"
    },
    {
     "data": {
      "application/vnd.plotly.v1+json": {
       "config": {
        "plotlyServerURL": "https://plot.ly"
       },
       "data": [
        {
         "cells": {
          "values": [
           [
            0,
            1,
            2,
            3,
            4,
            5,
            6,
            7,
            8,
            9,
            10,
            11,
            12,
            13,
            14,
            15,
            16,
            17,
            18,
            19,
            20,
            21,
            22,
            23,
            24,
            25,
            26,
            27,
            28,
            29,
            30,
            31,
            32,
            33,
            34,
            35,
            36,
            37
           ],
           [
            "Coca - Cola Classic  Soft Drink Multipack Cans, Carbonated Water, Sugar, Colouring Agent 150d, Phosphoric Acid",
            "Flavour, Caffeine, Coca - Cola Classic  Soft Drink Mini Cans, Coca - Cola Vanilla  Soft Drink Multipack Cans, Coca - Cola Zero Sugar Soft Drink Multipack Cans, Sodium Citrate, Aspartame, Acesulfame Potassium, Coca - Cola Caffeine Free Zero Sugar Soft Drink Multipack Cans, Sweetener 952, Coca - Cola Zero Sugar Soft Drink Mini Cans, Indomie Mi Goreng Instant Noodles, Wheat Flour, Refined Palm Oil, Salt, Acidity Regulator 451",
            "Acidity Regulator 501, Sodium Bicarbonate, Guar Gum, Colour 101, Seasoning Powder, Flavour Enhancer 621, Disodium Guanylate, Garlic Powder, Onion Powder, Yeast Extract, Artificial Flavour, Pepper, Anti Caking Agent 551, Seasoning Oil, Onion, Sweet Soy Sauce, Water, Wheat, Soy Bean, Spices, Sesame Oil, Chilli Sauce, Chilli, Tapioca Starch, Acetic Acid, Citric Acid, Herbs, Preservative 1211, Sodium Metabisulfite, Fried Onion, TBHQ, Disodium Inosinate, Maggi 2 Minute Chicken Flavour Instant Noodles, Vegetable Oil, Antioxidant 320, Mineral Salt 508, Mineral Salt 451, Flavour Enhancer 635, Iodised Salt, Maltodextrin, Flavours Wheat, Flavours Soy, Vegetable Fat, Parsley Flakes, Turmeric, Caramel III, Coriander, Cumin",
            "Spice Cardamom, Spice Chilli Powder, Spice Ginger, Flavour Celery, Mineral Salt 501, Mineral Salt 500, Potassium Chloride, Potato Starch, Parsley, Burnt Sugar, Supreme Noodles Cup Chicken Flavour, Gluten Wheat, Soy, Curcumin, Fantastic Chicken Noodle Cup, Flavour Sachet, Vegetable Sachet, Dehydrated Vegetables, Fantastic Chicken Noodle Bowl, Modified Starch 1420, Mineral Salt 450, Basil, Colouring Agent 100, Antioxidant 307b, Indomie Mi Goreng Noodle Cup",
            "Flavours, Maggi 2 Minute Beef Flavour Instant Noodles, Soy Sauce Powder, White Pepper, Rosemary, Supreme Noodles Cup Beef Flavour, Colouring Agent 150c, Caramel Color, Schweppes Zero Sugar Lime Infused Mineral Water Bottle, Carbonated Mineral Water, Natural Flavours, Schweppes Raspberry Infused Natural Mineral Water Bottle, Schweppes Natural Mineral Water Bottle Natural, Natural Mineral Water, Schweppes Soda Water Bottle Classic Mixers, Potassium Bicarbonate, Schweppes Indian Tonic Water Classic Mixers Bottle, Natural Flavour Orange Peel Extract, Natural Flavour Citrus Oils, Natural Flavour Botanical Extracts, Natural Flavour Lemon Peel Extract, Quinine, Schweppes Lime Soda Water With Lime Juice Bottle, Natural Flavour Lime Oils, Sodium Benzoate, Plant Extract Gardenia, Plant Extract Carthamus, Sulphites, Reconstituted Lime Juice, Schweppes Zero Sugar Classic Mixers Indian Tonic Water Bottle, Schweppes Lemon Lime Natural Mineral Water Bottle, , Potassium Sorbate, Safflower Extract, Reconstituted Lemon Juice, Schweppes Orange Mango Natural Mineral Water Bottle, Ascorbic Acid, Carminic Acid, Lutein, Antioxidant 385, Reconstituted Mango Juice, Reconstituted Fruit Juice Orange, Kitkat 4 Finger Milk Chocolate Bar, Milk Solids, Cocoa Butter, Emulsifier Soy Lecithin, Cocoa Mass, Milk, Polyglycerol Polyricinoleate, Cocoa, Yeast, Processing Aid Wheat, Kitkat Chunky Original Chocolate Bar, Choc Paste, Cadbury Dairy Milk Caramello Koala Chocolate, Full Cream Milk",
            "Glucose Syrup, Sweetened Condensed Milk, Golden Syrup, Invert Sugar",
            "Acidity Regulator 331, Twix Milk Chocolate Bar With Caramel Biscuit, Milk Chocolate, Caramel, Biscuit, Mars Chocolate Bar With Nougat & Caramel, Wheat Glucose Syrup, Barley Malt Extract, Egg White, Natural Flavour Vanilla Extract, Cadbury Dairy Milk Chocolate Roll, Cadbury Dairy Milk Chocolate Bar, Cadbury Twirl Chocolate Bar, Cadbury Chomp Chocolate Bar, Cocoa Powder, Sorbitan Tristearate, Emulsifier 471, Enzymes, Arnott's Premier Chocolate Chip Cookies, Polyglycerol polyricinoleate, Desiccated Coconut, Wheat Starch, Baking Powder, Colouring Agent Caramel IV, Antioxidant E307B, Woolworths Chocolate Chip Cookies, Dark Compound Chocolate Chips, Palm Oil, Cocoa Solids, Natural Flavour, Wheaten Corn Flour, Whole Egg Powder, Milk Whey Powder, Annatto Extracts, Sodium Carbonate, Ammonium Carbonate",
            "Woolworths The King Of Chunky Chocolate Chip Cookies, Dark Chocolate Chips, Natural Vanilla Flavour, Milk Butter, Natural Flavour Vanilla, Natural Flavour Butter, Arnott's Mini Choc Chip Cookie Multipack Biscuits, Chocolate Chips, Skim Milk Powder, Oreo Original Mini Cookies Multipack, Fructose Syrup",
            "Cornstarch, Ammonium Bicarbonate, Mineral Iron, Zinc, Riboflavin, Thiamin, Folate",
            "Oreo Minis Cookies Variety Bags 18 Pack, Strawberry, Carmine, Cadbury Classic Choc Chip Cookies, Milk Chocolate Chips, Dextrose, Emulsifier 442, Egg, Stabiliser 422, Soybean Fibre, Thickener 1422, Raising Agent 450, Colouring Agent 160a, Cadbury Choc Centre Cookies, Thickener 1414, Byron Bay Cookies Dotty Cookie Bites, Milk Compound Chocolate",
            "Glazing Agent 414, Carnauba Wax, Colouring Agent Titan White, Colouring Agent Spirulina Extract, Beta carotene, Red Beetroot Powder, Black Carrot Extract, Cultured Dextrose, Maize Starch",
            "Oreo Original Cookies, Rimmel Scandaleyes Eye Definer Brown, Polyethylene, Synthetic Wax, Bis-Diglyceryl Polyacyladipate-2, Polybutene, Silica",
            "Octyldodecanol, Pentaerythrityl Tetra-di-t-butyl Hydroxyhydrocinnamate, Mica, Ultramarines, Iron Oxides, Titanium Dioxide, Ferric Ferrocyanide, Woolworths Apple Juice, Reconstituted Apple Juice, Vitamin C, Woolworths Apple & Mango Juice, Woolworths Orange Juice",
            "Woolworths Breakfast Juice, Reconstituted Fruit Juice Pineapple, Reconstituted Fruit Juice Passionfruit, Carboxymethyl Cellulose, Woolworths Apple & Blackcurrant Juice, Reconstituted Fruit Juice Blackcurrant, Anthocyanins, Woolworths Multivitamin Juice",
            "Reconstituted Fruit Juice Grape, Reconstituted Fruit Juice Apricot, Reconstituted Fruit Juice Peach, Reconstituted Fruit Juice Pear, Guava Puree, Vitamin A, Golden Circle Golden Pash Fruit Drink, Potassium Citrate, Golden Circle Drinks Pine Orange Fruit Drink, Pectin, Golden Circle Drinks Sunshine Punch Fruit Drink, Reconstituted Fruit Juice Water Extracted Orange, Reconstituted Fruit Juice Peach Purée, Golden Circle Fruit Drinks Lunch Box Poppers Tropical Punch Multipack, Woolworths Full Cream Milk, Dairy Farmers Full Cream Milk Full Cream Milk, Norco Full Cream Milk, Pasteurised Homogenised Milk, A2 Milk Full Cream Milk, Pauls Farmhouse Gold Full Cream Milk, Cream, Oreo Double Stuff Cookies, Oreo Original Cookies Family Pack, Oreo Chocolate Cookies, Oreo Grab & Go Original Cookies 9 Pack, Fructose, Syrup, Oreo Neapolitan Double Stuff Cookies",
            "Woolworths Diced Italian Tomatoes, Tomato Juice",
            "Tomatoes, Woolworths Lasagne Sheets",
            "Durum Wheat Semolina, Essentials Coconut Cream, Coconut Extract, Woolworths Uht Full Cream Milk, Homogenised Full Cream Milk, Deep Cove Sardines In Oil, Sardines, Woolworths Creamed Rice, Rice, Skim Milk, Acidity Regulator 339, Essentials Coconut Milk, Woolworths Tomato Sauce Squeeze, Reconstituted Tomato Puree, Thickener Modified Corn Starch, Spice Extract, Woolworths Tomato Sauce, Woolworths Barbecue Sauce Squeeze, Reconstituted Fruit Puree, Apple Pulp, Tomato Paste",
            "Molasses, Caramel I, Smoke Flavour, Xanthan Gum, Masterfoods Tomato Sauce, Masterfoods Barbecue Sauce, Wheat Cornflour, Caramel Color 150c",
            "Tamarind Paste, Clove, Nutmeg, Fountain Tomato Sauce Squeeze, Tomato Puree, Fountain Barbecue Bbq Sauce Squeeze, Maize Thickener 1422",
            "Maize Maltodextrin, Woolworths Secret Burger Sauce, Canola Oil, Vinegar",
            "Free Range Egg Yolk, Gherkin, Carotene, Paprika Oleoresins, Dill, Herb Extract",
            "Mustard Oil, Heinz Ketchup Tomato Sauce Ketchup, White Vinegar, Woolworths Barbecue Sauce, Reconstituted Fruit Puree Apple, Reconstituted Fruit Puree Tomato Paste",
            "Woolworths Spring Water Bottles, Natural Spring Water, Woolworths Spring Water, Frantelle Australian Still Spring Water Bottles Multipack, Australian Spring Water, Mount Franklin Spring Water Bottle, Smith's Crinkle Cut Potato Chips Original, Potatoes",
            "Sunflower Oil, Antioxidant Tocopherols, Antioxidant Rosemary Extract, Smith's Crinkle Cut Potato Chips Cheese & Onion, Cheese Powder, Flavoured Milk, Smith's Crinkle Cut Potato Chips Barbecue, Tomato Powder, Sodium Diacetate, Paprika, Smith's Crinkle Cut Potato Chips Chicken, Flavour Enhancer 620, Thins Chips Salt & Vinegar",
            "Smith's Thinly Cut Potato Chips Original Share Pack, Thins Chips Chicken",
            "Glucose, Vegetable Powder Garlic",
            "Smith's Crinkle Cut Potato Chips Salt & Vinegar, Milk Lactose",
            "Thins Chips Light & Tangy, Vegetable Powder Tomato, Garam Masala",
            "Buttermilk Powder, Thins Cheese & Onion Chips",
            "Lactic Acid, Paprika Extract",
            "Woolworths Peach In Strawberry Jelly, Carrageenan, Locust Bean Gum",
            "Calcium Lactate, Malic Acid, Natural Strawberry Flavour, Cochineal, Fruit Peach, Woolworths Two Fruits In Juice Cups, Pear, Reconstituted Refined Juice Concentrated Pear Juice",
            "Woolworths Two Fruits In Juice, Refined Fruit Juice Apple, Refined Fruit Juice Grape",
            "Refined Fruit Juice Peach, Refined Fruit Juice Pear, Woolworths Two Fruits In Tropical Jelly",
            "Natural Flavour Pineapple, Natural Flavour Mango, Woolworths Apple In Pineapple Jelly, Jelly Natural Pineapple Flavour, Apple, Goulburn Valley Two Fruits In Juice",
            "Diced Pears, Diced Peaches, Refined Fruit Juice, Dole Pineapple Slices In Syrup, Pineapple",
            "Dole Pineapple Chunks In Juice, Pineapple Juice, Clarified Pineapple Juice Concentrate, Goulburn Valley Two Fruits In Juice Fruit Cups In Juice"
           ]
          ]
         },
         "header": {
          "values": [
           "Group",
           "Products"
          ]
         },
         "type": "table"
        }
       ],
       "layout": {
        "template": {
         "data": {
          "bar": [
           {
            "error_x": {
             "color": "#2a3f5f"
            },
            "error_y": {
             "color": "#2a3f5f"
            },
            "marker": {
             "line": {
              "color": "#E5ECF6",
              "width": 0.5
             },
             "pattern": {
              "fillmode": "overlay",
              "size": 10,
              "solidity": 0.2
             }
            },
            "type": "bar"
           }
          ],
          "barpolar": [
           {
            "marker": {
             "line": {
              "color": "#E5ECF6",
              "width": 0.5
             },
             "pattern": {
              "fillmode": "overlay",
              "size": 10,
              "solidity": 0.2
             }
            },
            "type": "barpolar"
           }
          ],
          "carpet": [
           {
            "aaxis": {
             "endlinecolor": "#2a3f5f",
             "gridcolor": "white",
             "linecolor": "white",
             "minorgridcolor": "white",
             "startlinecolor": "#2a3f5f"
            },
            "baxis": {
             "endlinecolor": "#2a3f5f",
             "gridcolor": "white",
             "linecolor": "white",
             "minorgridcolor": "white",
             "startlinecolor": "#2a3f5f"
            },
            "type": "carpet"
           }
          ],
          "choropleth": [
           {
            "colorbar": {
             "outlinewidth": 0,
             "ticks": ""
            },
            "type": "choropleth"
           }
          ],
          "contour": [
           {
            "colorbar": {
             "outlinewidth": 0,
             "ticks": ""
            },
            "colorscale": [
             [
              0,
              "#0d0887"
             ],
             [
              0.1111111111111111,
              "#46039f"
             ],
             [
              0.2222222222222222,
              "#7201a8"
             ],
             [
              0.3333333333333333,
              "#9c179e"
             ],
             [
              0.4444444444444444,
              "#bd3786"
             ],
             [
              0.5555555555555556,
              "#d8576b"
             ],
             [
              0.6666666666666666,
              "#ed7953"
             ],
             [
              0.7777777777777778,
              "#fb9f3a"
             ],
             [
              0.8888888888888888,
              "#fdca26"
             ],
             [
              1,
              "#f0f921"
             ]
            ],
            "type": "contour"
           }
          ],
          "contourcarpet": [
           {
            "colorbar": {
             "outlinewidth": 0,
             "ticks": ""
            },
            "type": "contourcarpet"
           }
          ],
          "heatmap": [
           {
            "colorbar": {
             "outlinewidth": 0,
             "ticks": ""
            },
            "colorscale": [
             [
              0,
              "#0d0887"
             ],
             [
              0.1111111111111111,
              "#46039f"
             ],
             [
              0.2222222222222222,
              "#7201a8"
             ],
             [
              0.3333333333333333,
              "#9c179e"
             ],
             [
              0.4444444444444444,
              "#bd3786"
             ],
             [
              0.5555555555555556,
              "#d8576b"
             ],
             [
              0.6666666666666666,
              "#ed7953"
             ],
             [
              0.7777777777777778,
              "#fb9f3a"
             ],
             [
              0.8888888888888888,
              "#fdca26"
             ],
             [
              1,
              "#f0f921"
             ]
            ],
            "type": "heatmap"
           }
          ],
          "heatmapgl": [
           {
            "colorbar": {
             "outlinewidth": 0,
             "ticks": ""
            },
            "colorscale": [
             [
              0,
              "#0d0887"
             ],
             [
              0.1111111111111111,
              "#46039f"
             ],
             [
              0.2222222222222222,
              "#7201a8"
             ],
             [
              0.3333333333333333,
              "#9c179e"
             ],
             [
              0.4444444444444444,
              "#bd3786"
             ],
             [
              0.5555555555555556,
              "#d8576b"
             ],
             [
              0.6666666666666666,
              "#ed7953"
             ],
             [
              0.7777777777777778,
              "#fb9f3a"
             ],
             [
              0.8888888888888888,
              "#fdca26"
             ],
             [
              1,
              "#f0f921"
             ]
            ],
            "type": "heatmapgl"
           }
          ],
          "histogram": [
           {
            "marker": {
             "pattern": {
              "fillmode": "overlay",
              "size": 10,
              "solidity": 0.2
             }
            },
            "type": "histogram"
           }
          ],
          "histogram2d": [
           {
            "colorbar": {
             "outlinewidth": 0,
             "ticks": ""
            },
            "colorscale": [
             [
              0,
              "#0d0887"
             ],
             [
              0.1111111111111111,
              "#46039f"
             ],
             [
              0.2222222222222222,
              "#7201a8"
             ],
             [
              0.3333333333333333,
              "#9c179e"
             ],
             [
              0.4444444444444444,
              "#bd3786"
             ],
             [
              0.5555555555555556,
              "#d8576b"
             ],
             [
              0.6666666666666666,
              "#ed7953"
             ],
             [
              0.7777777777777778,
              "#fb9f3a"
             ],
             [
              0.8888888888888888,
              "#fdca26"
             ],
             [
              1,
              "#f0f921"
             ]
            ],
            "type": "histogram2d"
           }
          ],
          "histogram2dcontour": [
           {
            "colorbar": {
             "outlinewidth": 0,
             "ticks": ""
            },
            "colorscale": [
             [
              0,
              "#0d0887"
             ],
             [
              0.1111111111111111,
              "#46039f"
             ],
             [
              0.2222222222222222,
              "#7201a8"
             ],
             [
              0.3333333333333333,
              "#9c179e"
             ],
             [
              0.4444444444444444,
              "#bd3786"
             ],
             [
              0.5555555555555556,
              "#d8576b"
             ],
             [
              0.6666666666666666,
              "#ed7953"
             ],
             [
              0.7777777777777778,
              "#fb9f3a"
             ],
             [
              0.8888888888888888,
              "#fdca26"
             ],
             [
              1,
              "#f0f921"
             ]
            ],
            "type": "histogram2dcontour"
           }
          ],
          "mesh3d": [
           {
            "colorbar": {
             "outlinewidth": 0,
             "ticks": ""
            },
            "type": "mesh3d"
           }
          ],
          "parcoords": [
           {
            "line": {
             "colorbar": {
              "outlinewidth": 0,
              "ticks": ""
             }
            },
            "type": "parcoords"
           }
          ],
          "pie": [
           {
            "automargin": true,
            "type": "pie"
           }
          ],
          "scatter": [
           {
            "fillpattern": {
             "fillmode": "overlay",
             "size": 10,
             "solidity": 0.2
            },
            "type": "scatter"
           }
          ],
          "scatter3d": [
           {
            "line": {
             "colorbar": {
              "outlinewidth": 0,
              "ticks": ""
             }
            },
            "marker": {
             "colorbar": {
              "outlinewidth": 0,
              "ticks": ""
             }
            },
            "type": "scatter3d"
           }
          ],
          "scattercarpet": [
           {
            "marker": {
             "colorbar": {
              "outlinewidth": 0,
              "ticks": ""
             }
            },
            "type": "scattercarpet"
           }
          ],
          "scattergeo": [
           {
            "marker": {
             "colorbar": {
              "outlinewidth": 0,
              "ticks": ""
             }
            },
            "type": "scattergeo"
           }
          ],
          "scattergl": [
           {
            "marker": {
             "colorbar": {
              "outlinewidth": 0,
              "ticks": ""
             }
            },
            "type": "scattergl"
           }
          ],
          "scattermapbox": [
           {
            "marker": {
             "colorbar": {
              "outlinewidth": 0,
              "ticks": ""
             }
            },
            "type": "scattermapbox"
           }
          ],
          "scatterpolar": [
           {
            "marker": {
             "colorbar": {
              "outlinewidth": 0,
              "ticks": ""
             }
            },
            "type": "scatterpolar"
           }
          ],
          "scatterpolargl": [
           {
            "marker": {
             "colorbar": {
              "outlinewidth": 0,
              "ticks": ""
             }
            },
            "type": "scatterpolargl"
           }
          ],
          "scatterternary": [
           {
            "marker": {
             "colorbar": {
              "outlinewidth": 0,
              "ticks": ""
             }
            },
            "type": "scatterternary"
           }
          ],
          "surface": [
           {
            "colorbar": {
             "outlinewidth": 0,
             "ticks": ""
            },
            "colorscale": [
             [
              0,
              "#0d0887"
             ],
             [
              0.1111111111111111,
              "#46039f"
             ],
             [
              0.2222222222222222,
              "#7201a8"
             ],
             [
              0.3333333333333333,
              "#9c179e"
             ],
             [
              0.4444444444444444,
              "#bd3786"
             ],
             [
              0.5555555555555556,
              "#d8576b"
             ],
             [
              0.6666666666666666,
              "#ed7953"
             ],
             [
              0.7777777777777778,
              "#fb9f3a"
             ],
             [
              0.8888888888888888,
              "#fdca26"
             ],
             [
              1,
              "#f0f921"
             ]
            ],
            "type": "surface"
           }
          ],
          "table": [
           {
            "cells": {
             "fill": {
              "color": "#EBF0F8"
             },
             "line": {
              "color": "white"
             }
            },
            "header": {
             "fill": {
              "color": "#C8D4E3"
             },
             "line": {
              "color": "white"
             }
            },
            "type": "table"
           }
          ]
         },
         "layout": {
          "annotationdefaults": {
           "arrowcolor": "#2a3f5f",
           "arrowhead": 0,
           "arrowwidth": 1
          },
          "autotypenumbers": "strict",
          "coloraxis": {
           "colorbar": {
            "outlinewidth": 0,
            "ticks": ""
           }
          },
          "colorscale": {
           "diverging": [
            [
             0,
             "#8e0152"
            ],
            [
             0.1,
             "#c51b7d"
            ],
            [
             0.2,
             "#de77ae"
            ],
            [
             0.3,
             "#f1b6da"
            ],
            [
             0.4,
             "#fde0ef"
            ],
            [
             0.5,
             "#f7f7f7"
            ],
            [
             0.6,
             "#e6f5d0"
            ],
            [
             0.7,
             "#b8e186"
            ],
            [
             0.8,
             "#7fbc41"
            ],
            [
             0.9,
             "#4d9221"
            ],
            [
             1,
             "#276419"
            ]
           ],
           "sequential": [
            [
             0,
             "#0d0887"
            ],
            [
             0.1111111111111111,
             "#46039f"
            ],
            [
             0.2222222222222222,
             "#7201a8"
            ],
            [
             0.3333333333333333,
             "#9c179e"
            ],
            [
             0.4444444444444444,
             "#bd3786"
            ],
            [
             0.5555555555555556,
             "#d8576b"
            ],
            [
             0.6666666666666666,
             "#ed7953"
            ],
            [
             0.7777777777777778,
             "#fb9f3a"
            ],
            [
             0.8888888888888888,
             "#fdca26"
            ],
            [
             1,
             "#f0f921"
            ]
           ],
           "sequentialminus": [
            [
             0,
             "#0d0887"
            ],
            [
             0.1111111111111111,
             "#46039f"
            ],
            [
             0.2222222222222222,
             "#7201a8"
            ],
            [
             0.3333333333333333,
             "#9c179e"
            ],
            [
             0.4444444444444444,
             "#bd3786"
            ],
            [
             0.5555555555555556,
             "#d8576b"
            ],
            [
             0.6666666666666666,
             "#ed7953"
            ],
            [
             0.7777777777777778,
             "#fb9f3a"
            ],
            [
             0.8888888888888888,
             "#fdca26"
            ],
            [
             1,
             "#f0f921"
            ]
           ]
          },
          "colorway": [
           "#636efa",
           "#EF553B",
           "#00cc96",
           "#ab63fa",
           "#FFA15A",
           "#19d3f3",
           "#FF6692",
           "#B6E880",
           "#FF97FF",
           "#FECB52"
          ],
          "font": {
           "color": "#2a3f5f"
          },
          "geo": {
           "bgcolor": "white",
           "lakecolor": "white",
           "landcolor": "#E5ECF6",
           "showlakes": true,
           "showland": true,
           "subunitcolor": "white"
          },
          "hoverlabel": {
           "align": "left"
          },
          "hovermode": "closest",
          "mapbox": {
           "style": "light"
          },
          "paper_bgcolor": "white",
          "plot_bgcolor": "#E5ECF6",
          "polar": {
           "angularaxis": {
            "gridcolor": "white",
            "linecolor": "white",
            "ticks": ""
           },
           "bgcolor": "#E5ECF6",
           "radialaxis": {
            "gridcolor": "white",
            "linecolor": "white",
            "ticks": ""
           }
          },
          "scene": {
           "xaxis": {
            "backgroundcolor": "#E5ECF6",
            "gridcolor": "white",
            "gridwidth": 2,
            "linecolor": "white",
            "showbackground": true,
            "ticks": "",
            "zerolinecolor": "white"
           },
           "yaxis": {
            "backgroundcolor": "#E5ECF6",
            "gridcolor": "white",
            "gridwidth": 2,
            "linecolor": "white",
            "showbackground": true,
            "ticks": "",
            "zerolinecolor": "white"
           },
           "zaxis": {
            "backgroundcolor": "#E5ECF6",
            "gridcolor": "white",
            "gridwidth": 2,
            "linecolor": "white",
            "showbackground": true,
            "ticks": "",
            "zerolinecolor": "white"
           }
          },
          "shapedefaults": {
           "line": {
            "color": "#2a3f5f"
           }
          },
          "ternary": {
           "aaxis": {
            "gridcolor": "white",
            "linecolor": "white",
            "ticks": ""
           },
           "baxis": {
            "gridcolor": "white",
            "linecolor": "white",
            "ticks": ""
           },
           "bgcolor": "#E5ECF6",
           "caxis": {
            "gridcolor": "white",
            "linecolor": "white",
            "ticks": ""
           }
          },
          "title": {
           "x": 0.05
          },
          "xaxis": {
           "automargin": true,
           "gridcolor": "white",
           "linecolor": "white",
           "ticks": "",
           "title": {
            "standoff": 15
           },
           "zerolinecolor": "white",
           "zerolinewidth": 2
          },
          "yaxis": {
           "automargin": true,
           "gridcolor": "white",
           "linecolor": "white",
           "ticks": "",
           "title": {
            "standoff": 15
           },
           "zerolinecolor": "white",
           "zerolinewidth": 2
          }
         }
        },
        "title": {
         "text": "Products Grouped by Group"
        }
       }
      }
     },
     "metadata": {},
     "output_type": "display_data"
    }
   ],
   "source": [
    "from neo4j import GraphDatabase\n",
    "import networkx as nx\n",
    "\n",
    "\n",
    "def get_data(tx):\n",
    "    query = \"\"\"\n",
    "        MATCH (p:Product)-[:HAS_RECIPE]->(r:Recipe)-[:USES_INGREDIENT]->(i:Ingredient)-[:HAS_RESEARCH]->(res:IngredientResearch)\n",
    "        RETURN p.name AS product, res.ingredient_name AS ingredientResearch\n",
    "    \"\"\"\n",
    "    result = tx.run(query)\n",
    "    data = [(record[\"product\"], record[\"ingredientResearch\"]) for record in result if record[\"product\"] is not None and record[\"ingredientResearch\"] is not None]\n",
    "    return data\n",
    "\n",
    "with driver.session() as session:\n",
    "    data = session.read_transaction(get_data)\n",
    "\n",
    "\n",
    "\n",
    "G = nx.Graph()\n",
    "G.add_edges_from(data)\n",
    "\n",
    "\n",
    "\n",
    "communities = list(nx.algorithms.community.label_propagation_communities(G))\n",
    "\n",
    "\n",
    "product_groups = pd.DataFrame({'Product': list(G.nodes()), 'Group': [idx for idx, com in enumerate(communities) for node in com]})\n",
    "print(product_groups)\n",
    "\n",
    "import plotly.graph_objects as go\n",
    "\n",
    "\n",
    "fig = go.Figure(data=[go.Table(\n",
    "    header=dict(values=['Product', 'Group']),\n",
    "    cells=dict(values=[product_groups['Product'], product_groups['Group']])\n",
    ")])\n",
    "\n",
    "\n",
    "fig.update_layout(title='Product Groups Detected by Label Propagation')\n",
    "\n",
    "\n",
    "fig.show()\n",
    "\n",
    "# Group the product_groups DataFrame by the Group column and concatenate the product names within each group\n",
    "grouped_products = product_groups.groupby('Group')['Product'].apply(lambda x: ', '.join(x)).reset_index()\n",
    "\n",
    "# \n",
    "fig = go.Figure(data=[go.Table(\n",
    "    header=dict(values=['Group', 'Products']),\n",
    "    cells=dict(values=[grouped_products['Group'], grouped_products['Product']])\n",
    ")])\n",
    "\n",
    "\n",
    "fig.update_layout(title='Products Grouped by Group')\n",
    "\n",
    "\n",
    "fig.show()\n",
    "\n"
   ]
  },
  {
   "cell_type": "code",
   "execution_count": 22,
   "metadata": {},
   "outputs": [
    {
     "name": "stderr",
     "output_type": "stream",
     "text": [
      "C:\\Users\\apple\\AppData\\Local\\Temp\\ipykernel_10132\\1767895270.py:19: DeprecationWarning:\n",
      "\n",
      "read_transaction has been renamed to execute_read\n",
      "\n"
     ]
    },
    {
     "name": "stdout",
     "output_type": "stream",
     "text": [
      "                                               Product  Group\n",
      "0       Coca - Cola Classic  Soft Drink Multipack Cans      0\n",
      "1                                     Carbonated Water      0\n",
      "2                                                Sugar      0\n",
      "3                                 Colouring Agent 150d      0\n",
      "4                                      Phosphoric Acid      0\n",
      "..                                                 ...    ...\n",
      "406                                          Pineapple     36\n",
      "407                     Dole Pineapple Chunks In Juice     37\n",
      "408                                    Pineapple Juice     37\n",
      "409              Clarified Pineapple Juice Concentrate     37\n",
      "410  Goulburn Valley Two Fruits In Juice Fruit Cups...     37\n",
      "\n",
      "[411 rows x 2 columns]\n"
     ]
    },
    {
     "data": {
      "application/vnd.plotly.v1+json": {
       "config": {
        "plotlyServerURL": "https://plot.ly"
       },
       "data": [
        {
         "cells": {
          "values": [
           [
            "Coca - Cola Classic  Soft Drink Multipack Cans",
            "Carbonated Water",
            "Sugar",
            "Colouring Agent 150d",
            "Phosphoric Acid",
            "Flavour",
            "Caffeine",
            "Coca - Cola Classic  Soft Drink Mini Cans",
            "Coca - Cola Vanilla  Soft Drink Multipack Cans",
            "Coca - Cola Zero Sugar Soft Drink Multipack Cans",
            "Sodium Citrate",
            "Aspartame",
            "Acesulfame Potassium",
            "Coca - Cola Caffeine Free Zero Sugar Soft Drink Multipack Cans",
            "Sweetener 952",
            "Coca - Cola Zero Sugar Soft Drink Mini Cans",
            "Indomie Mi Goreng Instant Noodles",
            "Wheat Flour",
            "Refined Palm Oil",
            "Salt",
            "Acidity Regulator 451",
            "Acidity Regulator 501",
            "Sodium Bicarbonate",
            "Guar Gum",
            "Colour 101",
            "Seasoning Powder",
            "Flavour Enhancer 621",
            "Disodium Guanylate",
            "Garlic Powder",
            "Onion Powder",
            "Yeast Extract",
            "Artificial Flavour",
            "Pepper",
            "Anti Caking Agent 551",
            "Seasoning Oil",
            "Onion",
            "Sweet Soy Sauce",
            "Water",
            "Wheat",
            "Soy Bean",
            "Spices",
            "Sesame Oil",
            "Chilli Sauce",
            "Chilli",
            "Tapioca Starch",
            "Acetic Acid",
            "Citric Acid",
            "Herbs",
            "Preservative 1211",
            "Sodium Metabisulfite",
            "Fried Onion",
            "TBHQ",
            "Disodium Inosinate",
            "Maggi 2 Minute Chicken Flavour Instant Noodles",
            "Vegetable Oil",
            "Antioxidant 320",
            "Mineral Salt 508",
            "Mineral Salt 451",
            "Flavour Enhancer 635",
            "Iodised Salt",
            "Maltodextrin",
            "Flavours Wheat",
            "Flavours Soy",
            "Vegetable Fat",
            "Parsley Flakes",
            "Turmeric",
            "Caramel III",
            "Coriander",
            "Cumin",
            "Spice Cardamom",
            "Spice Chilli Powder",
            "Spice Ginger",
            "Flavour Celery",
            "Mineral Salt 501",
            "Mineral Salt 500",
            "Potassium Chloride",
            "Potato Starch",
            "Parsley",
            "Burnt Sugar",
            "Supreme Noodles Cup Chicken Flavour",
            "Gluten Wheat",
            "Soy",
            "Curcumin",
            "Fantastic Chicken Noodle Cup",
            "Flavour Sachet",
            "Vegetable Sachet",
            "Dehydrated Vegetables",
            "Fantastic Chicken Noodle Bowl",
            "Modified Starch 1420",
            "Mineral Salt 450",
            "Basil",
            "Colouring Agent 100",
            "Antioxidant 307b",
            "Indomie Mi Goreng Noodle Cup",
            "Flavours",
            "Maggi 2 Minute Beef Flavour Instant Noodles",
            "Soy Sauce Powder",
            "White Pepper",
            "Rosemary",
            "Supreme Noodles Cup Beef Flavour",
            "Colouring Agent 150c",
            "Caramel Color",
            "Schweppes Zero Sugar Lime Infused Mineral Water Bottle",
            "Carbonated Mineral Water",
            "Natural Flavours",
            "Schweppes Raspberry Infused Natural Mineral Water Bottle",
            "Schweppes Natural Mineral Water Bottle Natural",
            "Natural Mineral Water",
            "Schweppes Soda Water Bottle Classic Mixers",
            "Potassium Bicarbonate",
            "Schweppes Indian Tonic Water Classic Mixers Bottle",
            "Natural Flavour Orange Peel Extract",
            "Natural Flavour Citrus Oils",
            "Natural Flavour Botanical Extracts",
            "Natural Flavour Lemon Peel Extract",
            "Quinine",
            "Schweppes Lime Soda Water With Lime Juice Bottle",
            "Natural Flavour Lime Oils",
            "Sodium Benzoate",
            "Plant Extract Gardenia",
            "Plant Extract Carthamus",
            "Sulphites",
            "Reconstituted Lime Juice",
            "Schweppes Zero Sugar Classic Mixers Indian Tonic Water Bottle",
            "Schweppes Lemon Lime Natural Mineral Water Bottle",
            "",
            "Potassium Sorbate",
            "Safflower Extract",
            "Reconstituted Lemon Juice",
            "Schweppes Orange Mango Natural Mineral Water Bottle",
            "Ascorbic Acid",
            "Carminic Acid",
            "Lutein",
            "Antioxidant 385",
            "Reconstituted Mango Juice",
            "Reconstituted Fruit Juice Orange",
            "Kitkat 4 Finger Milk Chocolate Bar",
            "Milk Solids",
            "Cocoa Butter",
            "Emulsifier Soy Lecithin",
            "Cocoa Mass",
            "Milk",
            "Polyglycerol Polyricinoleate",
            "Cocoa",
            "Yeast",
            "Processing Aid Wheat",
            "Kitkat Chunky Original Chocolate Bar",
            "Choc Paste",
            "Cadbury Dairy Milk Caramello Koala Chocolate",
            "Full Cream Milk",
            "Glucose Syrup",
            "Sweetened Condensed Milk",
            "Golden Syrup",
            "Invert Sugar",
            "Acidity Regulator 331",
            "Twix Milk Chocolate Bar With Caramel Biscuit",
            "Milk Chocolate",
            "Caramel",
            "Biscuit",
            "Mars Chocolate Bar With Nougat & Caramel",
            "Wheat Glucose Syrup",
            "Barley Malt Extract",
            "Egg White",
            "Natural Flavour Vanilla Extract",
            "Cadbury Dairy Milk Chocolate Roll",
            "Cadbury Dairy Milk Chocolate Bar",
            "Cadbury Twirl Chocolate Bar",
            "Cadbury Chomp Chocolate Bar",
            "Cocoa Powder",
            "Sorbitan Tristearate",
            "Emulsifier 471",
            "Enzymes",
            "Arnott's Premier Chocolate Chip Cookies",
            "Polyglycerol polyricinoleate",
            "Desiccated Coconut",
            "Wheat Starch",
            "Baking Powder",
            "Colouring Agent Caramel IV",
            "Antioxidant E307B",
            "Woolworths Chocolate Chip Cookies",
            "Dark Compound Chocolate Chips",
            "Palm Oil",
            "Cocoa Solids",
            "Natural Flavour",
            "Wheaten Corn Flour",
            "Whole Egg Powder",
            "Milk Whey Powder",
            "Annatto Extracts",
            "Sodium Carbonate",
            "Ammonium Carbonate",
            "Woolworths The King Of Chunky Chocolate Chip Cookies",
            "Dark Chocolate Chips",
            "Natural Vanilla Flavour",
            "Milk Butter",
            "Natural Flavour Vanilla",
            "Natural Flavour Butter",
            "Arnott's Mini Choc Chip Cookie Multipack Biscuits",
            "Chocolate Chips",
            "Skim Milk Powder",
            "Oreo Original Mini Cookies Multipack",
            "Fructose Syrup",
            "Cornstarch",
            "Ammonium Bicarbonate",
            "Mineral Iron",
            "Zinc",
            "Riboflavin",
            "Thiamin",
            "Folate",
            "Oreo Minis Cookies Variety Bags 18 Pack",
            "Strawberry",
            "Carmine",
            "Cadbury Classic Choc Chip Cookies",
            "Milk Chocolate Chips",
            "Dextrose",
            "Emulsifier 442",
            "Egg",
            "Stabiliser 422",
            "Soybean Fibre",
            "Thickener 1422",
            "Raising Agent 450",
            "Colouring Agent 160a",
            "Cadbury Choc Centre Cookies",
            "Thickener 1414",
            "Byron Bay Cookies Dotty Cookie Bites",
            "Milk Compound Chocolate",
            "Glazing Agent 414",
            "Carnauba Wax",
            "Colouring Agent Titan White",
            "Colouring Agent Spirulina Extract",
            "Beta carotene",
            "Red Beetroot Powder",
            "Black Carrot Extract",
            "Cultured Dextrose",
            "Maize Starch",
            "Oreo Original Cookies",
            "Rimmel Scandaleyes Eye Definer Brown",
            "Polyethylene",
            "Synthetic Wax",
            "Bis-Diglyceryl Polyacyladipate-2",
            "Polybutene",
            "Silica",
            "Octyldodecanol",
            "Pentaerythrityl Tetra-di-t-butyl Hydroxyhydrocinnamate",
            "Mica",
            "Ultramarines",
            "Iron Oxides",
            "Titanium Dioxide",
            "Ferric Ferrocyanide",
            "Woolworths Apple Juice",
            "Reconstituted Apple Juice",
            "Vitamin C",
            "Woolworths Apple & Mango Juice",
            "Woolworths Orange Juice",
            "Woolworths Breakfast Juice",
            "Reconstituted Fruit Juice Pineapple",
            "Reconstituted Fruit Juice Passionfruit",
            "Carboxymethyl Cellulose",
            "Woolworths Apple & Blackcurrant Juice",
            "Reconstituted Fruit Juice Blackcurrant",
            "Anthocyanins",
            "Woolworths Multivitamin Juice",
            "Reconstituted Fruit Juice Grape",
            "Reconstituted Fruit Juice Apricot",
            "Reconstituted Fruit Juice Peach",
            "Reconstituted Fruit Juice Pear",
            "Guava Puree",
            "Vitamin A",
            "Golden Circle Golden Pash Fruit Drink",
            "Potassium Citrate",
            "Golden Circle Drinks Pine Orange Fruit Drink",
            "Pectin",
            "Golden Circle Drinks Sunshine Punch Fruit Drink",
            "Reconstituted Fruit Juice Water Extracted Orange",
            "Reconstituted Fruit Juice Peach Purée",
            "Golden Circle Fruit Drinks Lunch Box Poppers Tropical Punch Multipack",
            "Woolworths Full Cream Milk",
            "Dairy Farmers Full Cream Milk Full Cream Milk",
            "Norco Full Cream Milk",
            "Pasteurised Homogenised Milk",
            "A2 Milk Full Cream Milk",
            "Pauls Farmhouse Gold Full Cream Milk",
            "Cream",
            "Oreo Double Stuff Cookies",
            "Oreo Original Cookies Family Pack",
            "Oreo Chocolate Cookies",
            "Oreo Grab & Go Original Cookies 9 Pack",
            "Fructose",
            "Syrup",
            "Oreo Neapolitan Double Stuff Cookies",
            "Woolworths Diced Italian Tomatoes",
            "Tomato Juice",
            "Tomatoes",
            "Woolworths Lasagne Sheets",
            "Durum Wheat Semolina",
            "Essentials Coconut Cream",
            "Coconut Extract",
            "Woolworths Uht Full Cream Milk",
            "Homogenised Full Cream Milk",
            "Deep Cove Sardines In Oil",
            "Sardines",
            "Woolworths Creamed Rice",
            "Rice",
            "Skim Milk",
            "Acidity Regulator 339",
            "Essentials Coconut Milk",
            "Woolworths Tomato Sauce Squeeze",
            "Reconstituted Tomato Puree",
            "Thickener Modified Corn Starch",
            "Spice Extract",
            "Woolworths Tomato Sauce",
            "Woolworths Barbecue Sauce Squeeze",
            "Reconstituted Fruit Puree",
            "Apple Pulp",
            "Tomato Paste",
            "Molasses",
            "Caramel I",
            "Smoke Flavour",
            "Xanthan Gum",
            "Masterfoods Tomato Sauce",
            "Masterfoods Barbecue Sauce",
            "Wheat Cornflour",
            "Caramel Color 150c",
            "Tamarind Paste",
            "Clove",
            "Nutmeg",
            "Fountain Tomato Sauce Squeeze",
            "Tomato Puree",
            "Fountain Barbecue Bbq Sauce Squeeze",
            "Maize Thickener 1422",
            "Maize Maltodextrin",
            "Woolworths Secret Burger Sauce",
            "Canola Oil",
            "Vinegar",
            "Free Range Egg Yolk",
            "Gherkin",
            "Carotene",
            "Paprika Oleoresins",
            "Dill",
            "Herb Extract",
            "Mustard Oil",
            "Heinz Ketchup Tomato Sauce Ketchup",
            "White Vinegar",
            "Woolworths Barbecue Sauce",
            "Reconstituted Fruit Puree Apple",
            "Reconstituted Fruit Puree Tomato Paste",
            "Woolworths Spring Water Bottles",
            "Natural Spring Water",
            "Woolworths Spring Water",
            "Frantelle Australian Still Spring Water Bottles Multipack",
            "Australian Spring Water",
            "Mount Franklin Spring Water Bottle",
            "Smith's Crinkle Cut Potato Chips Original",
            "Potatoes",
            "Sunflower Oil",
            "Antioxidant Tocopherols",
            "Antioxidant Rosemary Extract",
            "Smith's Crinkle Cut Potato Chips Cheese & Onion",
            "Cheese Powder",
            "Flavoured Milk",
            "Smith's Crinkle Cut Potato Chips Barbecue",
            "Tomato Powder",
            "Sodium Diacetate",
            "Paprika",
            "Smith's Crinkle Cut Potato Chips Chicken",
            "Flavour Enhancer 620",
            "Thins Chips Salt & Vinegar",
            "Smith's Thinly Cut Potato Chips Original Share Pack",
            "Thins Chips Chicken",
            "Glucose",
            "Vegetable Powder Garlic",
            "Smith's Crinkle Cut Potato Chips Salt & Vinegar",
            "Milk Lactose",
            "Thins Chips Light & Tangy",
            "Vegetable Powder Tomato",
            "Garam Masala",
            "Buttermilk Powder",
            "Thins Cheese & Onion Chips",
            "Lactic Acid",
            "Paprika Extract",
            "Woolworths Peach In Strawberry Jelly",
            "Carrageenan",
            "Locust Bean Gum",
            "Calcium Lactate",
            "Malic Acid",
            "Natural Strawberry Flavour",
            "Cochineal",
            "Fruit Peach",
            "Woolworths Two Fruits In Juice Cups",
            "Pear",
            "Reconstituted Refined Juice Concentrated Pear Juice",
            "Woolworths Two Fruits In Juice",
            "Refined Fruit Juice Apple",
            "Refined Fruit Juice Grape",
            "Refined Fruit Juice Peach",
            "Refined Fruit Juice Pear",
            "Woolworths Two Fruits In Tropical Jelly",
            "Natural Flavour Pineapple",
            "Natural Flavour Mango",
            "Woolworths Apple In Pineapple Jelly",
            "Jelly Natural Pineapple Flavour",
            "Apple",
            "Goulburn Valley Two Fruits In Juice",
            "Diced Pears",
            "Diced Peaches",
            "Refined Fruit Juice",
            "Dole Pineapple Slices In Syrup",
            "Pineapple",
            "Dole Pineapple Chunks In Juice",
            "Pineapple Juice",
            "Clarified Pineapple Juice Concentrate",
            "Goulburn Valley Two Fruits In Juice Fruit Cups In Juice"
           ],
           [
            0,
            0,
            0,
            0,
            0,
            1,
            1,
            1,
            1,
            1,
            1,
            1,
            1,
            1,
            1,
            1,
            1,
            1,
            1,
            1,
            1,
            2,
            2,
            2,
            2,
            2,
            2,
            2,
            2,
            2,
            2,
            2,
            2,
            2,
            2,
            2,
            2,
            2,
            2,
            2,
            2,
            2,
            2,
            2,
            2,
            2,
            2,
            2,
            2,
            2,
            2,
            2,
            2,
            2,
            2,
            2,
            2,
            2,
            2,
            2,
            2,
            2,
            2,
            2,
            2,
            2,
            2,
            2,
            2,
            3,
            3,
            3,
            3,
            3,
            3,
            3,
            3,
            3,
            3,
            3,
            3,
            3,
            3,
            3,
            3,
            3,
            3,
            3,
            3,
            3,
            3,
            3,
            3,
            3,
            4,
            4,
            4,
            4,
            4,
            4,
            4,
            4,
            4,
            4,
            4,
            4,
            4,
            4,
            4,
            4,
            4,
            4,
            4,
            4,
            4,
            4,
            4,
            4,
            4,
            4,
            4,
            4,
            4,
            4,
            4,
            4,
            4,
            4,
            4,
            4,
            4,
            4,
            4,
            4,
            4,
            4,
            4,
            4,
            4,
            4,
            4,
            4,
            4,
            4,
            4,
            4,
            4,
            4,
            4,
            4,
            5,
            5,
            5,
            5,
            6,
            6,
            6,
            6,
            6,
            6,
            6,
            6,
            6,
            6,
            6,
            6,
            6,
            6,
            6,
            6,
            6,
            6,
            6,
            6,
            6,
            6,
            6,
            6,
            6,
            6,
            6,
            6,
            6,
            6,
            6,
            6,
            6,
            6,
            6,
            6,
            7,
            7,
            7,
            7,
            7,
            7,
            7,
            7,
            7,
            7,
            7,
            8,
            8,
            8,
            8,
            8,
            8,
            8,
            9,
            9,
            9,
            9,
            9,
            9,
            9,
            9,
            9,
            9,
            9,
            9,
            9,
            9,
            9,
            9,
            9,
            10,
            10,
            10,
            10,
            10,
            10,
            10,
            10,
            10,
            11,
            11,
            11,
            11,
            11,
            11,
            11,
            12,
            12,
            12,
            12,
            12,
            12,
            12,
            12,
            12,
            12,
            12,
            12,
            13,
            13,
            13,
            13,
            13,
            13,
            13,
            13,
            14,
            14,
            14,
            14,
            14,
            14,
            14,
            14,
            14,
            14,
            14,
            14,
            14,
            14,
            14,
            14,
            14,
            14,
            14,
            14,
            14,
            14,
            14,
            14,
            14,
            14,
            14,
            14,
            15,
            15,
            16,
            16,
            17,
            17,
            17,
            17,
            17,
            17,
            17,
            17,
            17,
            17,
            17,
            17,
            17,
            17,
            17,
            17,
            17,
            17,
            17,
            17,
            17,
            18,
            18,
            18,
            18,
            18,
            18,
            18,
            18,
            19,
            19,
            19,
            19,
            19,
            19,
            19,
            20,
            20,
            20,
            20,
            21,
            21,
            21,
            21,
            21,
            21,
            22,
            22,
            22,
            22,
            22,
            22,
            23,
            23,
            23,
            23,
            23,
            23,
            23,
            23,
            24,
            24,
            24,
            24,
            24,
            24,
            24,
            24,
            24,
            24,
            24,
            24,
            24,
            25,
            25,
            26,
            26,
            27,
            27,
            28,
            28,
            28,
            29,
            29,
            30,
            30,
            31,
            31,
            31,
            32,
            32,
            32,
            32,
            32,
            32,
            32,
            32,
            33,
            33,
            33,
            34,
            34,
            34,
            35,
            35,
            35,
            35,
            35,
            35,
            36,
            36,
            36,
            36,
            36,
            37,
            37,
            37,
            37
           ]
          ]
         },
         "header": {
          "values": [
           "Product",
           "Group"
          ]
         },
         "type": "table"
        }
       ],
       "layout": {
        "template": {
         "data": {
          "bar": [
           {
            "error_x": {
             "color": "#2a3f5f"
            },
            "error_y": {
             "color": "#2a3f5f"
            },
            "marker": {
             "line": {
              "color": "#E5ECF6",
              "width": 0.5
             },
             "pattern": {
              "fillmode": "overlay",
              "size": 10,
              "solidity": 0.2
             }
            },
            "type": "bar"
           }
          ],
          "barpolar": [
           {
            "marker": {
             "line": {
              "color": "#E5ECF6",
              "width": 0.5
             },
             "pattern": {
              "fillmode": "overlay",
              "size": 10,
              "solidity": 0.2
             }
            },
            "type": "barpolar"
           }
          ],
          "carpet": [
           {
            "aaxis": {
             "endlinecolor": "#2a3f5f",
             "gridcolor": "white",
             "linecolor": "white",
             "minorgridcolor": "white",
             "startlinecolor": "#2a3f5f"
            },
            "baxis": {
             "endlinecolor": "#2a3f5f",
             "gridcolor": "white",
             "linecolor": "white",
             "minorgridcolor": "white",
             "startlinecolor": "#2a3f5f"
            },
            "type": "carpet"
           }
          ],
          "choropleth": [
           {
            "colorbar": {
             "outlinewidth": 0,
             "ticks": ""
            },
            "type": "choropleth"
           }
          ],
          "contour": [
           {
            "colorbar": {
             "outlinewidth": 0,
             "ticks": ""
            },
            "colorscale": [
             [
              0,
              "#0d0887"
             ],
             [
              0.1111111111111111,
              "#46039f"
             ],
             [
              0.2222222222222222,
              "#7201a8"
             ],
             [
              0.3333333333333333,
              "#9c179e"
             ],
             [
              0.4444444444444444,
              "#bd3786"
             ],
             [
              0.5555555555555556,
              "#d8576b"
             ],
             [
              0.6666666666666666,
              "#ed7953"
             ],
             [
              0.7777777777777778,
              "#fb9f3a"
             ],
             [
              0.8888888888888888,
              "#fdca26"
             ],
             [
              1,
              "#f0f921"
             ]
            ],
            "type": "contour"
           }
          ],
          "contourcarpet": [
           {
            "colorbar": {
             "outlinewidth": 0,
             "ticks": ""
            },
            "type": "contourcarpet"
           }
          ],
          "heatmap": [
           {
            "colorbar": {
             "outlinewidth": 0,
             "ticks": ""
            },
            "colorscale": [
             [
              0,
              "#0d0887"
             ],
             [
              0.1111111111111111,
              "#46039f"
             ],
             [
              0.2222222222222222,
              "#7201a8"
             ],
             [
              0.3333333333333333,
              "#9c179e"
             ],
             [
              0.4444444444444444,
              "#bd3786"
             ],
             [
              0.5555555555555556,
              "#d8576b"
             ],
             [
              0.6666666666666666,
              "#ed7953"
             ],
             [
              0.7777777777777778,
              "#fb9f3a"
             ],
             [
              0.8888888888888888,
              "#fdca26"
             ],
             [
              1,
              "#f0f921"
             ]
            ],
            "type": "heatmap"
           }
          ],
          "heatmapgl": [
           {
            "colorbar": {
             "outlinewidth": 0,
             "ticks": ""
            },
            "colorscale": [
             [
              0,
              "#0d0887"
             ],
             [
              0.1111111111111111,
              "#46039f"
             ],
             [
              0.2222222222222222,
              "#7201a8"
             ],
             [
              0.3333333333333333,
              "#9c179e"
             ],
             [
              0.4444444444444444,
              "#bd3786"
             ],
             [
              0.5555555555555556,
              "#d8576b"
             ],
             [
              0.6666666666666666,
              "#ed7953"
             ],
             [
              0.7777777777777778,
              "#fb9f3a"
             ],
             [
              0.8888888888888888,
              "#fdca26"
             ],
             [
              1,
              "#f0f921"
             ]
            ],
            "type": "heatmapgl"
           }
          ],
          "histogram": [
           {
            "marker": {
             "pattern": {
              "fillmode": "overlay",
              "size": 10,
              "solidity": 0.2
             }
            },
            "type": "histogram"
           }
          ],
          "histogram2d": [
           {
            "colorbar": {
             "outlinewidth": 0,
             "ticks": ""
            },
            "colorscale": [
             [
              0,
              "#0d0887"
             ],
             [
              0.1111111111111111,
              "#46039f"
             ],
             [
              0.2222222222222222,
              "#7201a8"
             ],
             [
              0.3333333333333333,
              "#9c179e"
             ],
             [
              0.4444444444444444,
              "#bd3786"
             ],
             [
              0.5555555555555556,
              "#d8576b"
             ],
             [
              0.6666666666666666,
              "#ed7953"
             ],
             [
              0.7777777777777778,
              "#fb9f3a"
             ],
             [
              0.8888888888888888,
              "#fdca26"
             ],
             [
              1,
              "#f0f921"
             ]
            ],
            "type": "histogram2d"
           }
          ],
          "histogram2dcontour": [
           {
            "colorbar": {
             "outlinewidth": 0,
             "ticks": ""
            },
            "colorscale": [
             [
              0,
              "#0d0887"
             ],
             [
              0.1111111111111111,
              "#46039f"
             ],
             [
              0.2222222222222222,
              "#7201a8"
             ],
             [
              0.3333333333333333,
              "#9c179e"
             ],
             [
              0.4444444444444444,
              "#bd3786"
             ],
             [
              0.5555555555555556,
              "#d8576b"
             ],
             [
              0.6666666666666666,
              "#ed7953"
             ],
             [
              0.7777777777777778,
              "#fb9f3a"
             ],
             [
              0.8888888888888888,
              "#fdca26"
             ],
             [
              1,
              "#f0f921"
             ]
            ],
            "type": "histogram2dcontour"
           }
          ],
          "mesh3d": [
           {
            "colorbar": {
             "outlinewidth": 0,
             "ticks": ""
            },
            "type": "mesh3d"
           }
          ],
          "parcoords": [
           {
            "line": {
             "colorbar": {
              "outlinewidth": 0,
              "ticks": ""
             }
            },
            "type": "parcoords"
           }
          ],
          "pie": [
           {
            "automargin": true,
            "type": "pie"
           }
          ],
          "scatter": [
           {
            "fillpattern": {
             "fillmode": "overlay",
             "size": 10,
             "solidity": 0.2
            },
            "type": "scatter"
           }
          ],
          "scatter3d": [
           {
            "line": {
             "colorbar": {
              "outlinewidth": 0,
              "ticks": ""
             }
            },
            "marker": {
             "colorbar": {
              "outlinewidth": 0,
              "ticks": ""
             }
            },
            "type": "scatter3d"
           }
          ],
          "scattercarpet": [
           {
            "marker": {
             "colorbar": {
              "outlinewidth": 0,
              "ticks": ""
             }
            },
            "type": "scattercarpet"
           }
          ],
          "scattergeo": [
           {
            "marker": {
             "colorbar": {
              "outlinewidth": 0,
              "ticks": ""
             }
            },
            "type": "scattergeo"
           }
          ],
          "scattergl": [
           {
            "marker": {
             "colorbar": {
              "outlinewidth": 0,
              "ticks": ""
             }
            },
            "type": "scattergl"
           }
          ],
          "scattermapbox": [
           {
            "marker": {
             "colorbar": {
              "outlinewidth": 0,
              "ticks": ""
             }
            },
            "type": "scattermapbox"
           }
          ],
          "scatterpolar": [
           {
            "marker": {
             "colorbar": {
              "outlinewidth": 0,
              "ticks": ""
             }
            },
            "type": "scatterpolar"
           }
          ],
          "scatterpolargl": [
           {
            "marker": {
             "colorbar": {
              "outlinewidth": 0,
              "ticks": ""
             }
            },
            "type": "scatterpolargl"
           }
          ],
          "scatterternary": [
           {
            "marker": {
             "colorbar": {
              "outlinewidth": 0,
              "ticks": ""
             }
            },
            "type": "scatterternary"
           }
          ],
          "surface": [
           {
            "colorbar": {
             "outlinewidth": 0,
             "ticks": ""
            },
            "colorscale": [
             [
              0,
              "#0d0887"
             ],
             [
              0.1111111111111111,
              "#46039f"
             ],
             [
              0.2222222222222222,
              "#7201a8"
             ],
             [
              0.3333333333333333,
              "#9c179e"
             ],
             [
              0.4444444444444444,
              "#bd3786"
             ],
             [
              0.5555555555555556,
              "#d8576b"
             ],
             [
              0.6666666666666666,
              "#ed7953"
             ],
             [
              0.7777777777777778,
              "#fb9f3a"
             ],
             [
              0.8888888888888888,
              "#fdca26"
             ],
             [
              1,
              "#f0f921"
             ]
            ],
            "type": "surface"
           }
          ],
          "table": [
           {
            "cells": {
             "fill": {
              "color": "#EBF0F8"
             },
             "line": {
              "color": "white"
             }
            },
            "header": {
             "fill": {
              "color": "#C8D4E3"
             },
             "line": {
              "color": "white"
             }
            },
            "type": "table"
           }
          ]
         },
         "layout": {
          "annotationdefaults": {
           "arrowcolor": "#2a3f5f",
           "arrowhead": 0,
           "arrowwidth": 1
          },
          "autotypenumbers": "strict",
          "coloraxis": {
           "colorbar": {
            "outlinewidth": 0,
            "ticks": ""
           }
          },
          "colorscale": {
           "diverging": [
            [
             0,
             "#8e0152"
            ],
            [
             0.1,
             "#c51b7d"
            ],
            [
             0.2,
             "#de77ae"
            ],
            [
             0.3,
             "#f1b6da"
            ],
            [
             0.4,
             "#fde0ef"
            ],
            [
             0.5,
             "#f7f7f7"
            ],
            [
             0.6,
             "#e6f5d0"
            ],
            [
             0.7,
             "#b8e186"
            ],
            [
             0.8,
             "#7fbc41"
            ],
            [
             0.9,
             "#4d9221"
            ],
            [
             1,
             "#276419"
            ]
           ],
           "sequential": [
            [
             0,
             "#0d0887"
            ],
            [
             0.1111111111111111,
             "#46039f"
            ],
            [
             0.2222222222222222,
             "#7201a8"
            ],
            [
             0.3333333333333333,
             "#9c179e"
            ],
            [
             0.4444444444444444,
             "#bd3786"
            ],
            [
             0.5555555555555556,
             "#d8576b"
            ],
            [
             0.6666666666666666,
             "#ed7953"
            ],
            [
             0.7777777777777778,
             "#fb9f3a"
            ],
            [
             0.8888888888888888,
             "#fdca26"
            ],
            [
             1,
             "#f0f921"
            ]
           ],
           "sequentialminus": [
            [
             0,
             "#0d0887"
            ],
            [
             0.1111111111111111,
             "#46039f"
            ],
            [
             0.2222222222222222,
             "#7201a8"
            ],
            [
             0.3333333333333333,
             "#9c179e"
            ],
            [
             0.4444444444444444,
             "#bd3786"
            ],
            [
             0.5555555555555556,
             "#d8576b"
            ],
            [
             0.6666666666666666,
             "#ed7953"
            ],
            [
             0.7777777777777778,
             "#fb9f3a"
            ],
            [
             0.8888888888888888,
             "#fdca26"
            ],
            [
             1,
             "#f0f921"
            ]
           ]
          },
          "colorway": [
           "#636efa",
           "#EF553B",
           "#00cc96",
           "#ab63fa",
           "#FFA15A",
           "#19d3f3",
           "#FF6692",
           "#B6E880",
           "#FF97FF",
           "#FECB52"
          ],
          "font": {
           "color": "#2a3f5f"
          },
          "geo": {
           "bgcolor": "white",
           "lakecolor": "white",
           "landcolor": "#E5ECF6",
           "showlakes": true,
           "showland": true,
           "subunitcolor": "white"
          },
          "hoverlabel": {
           "align": "left"
          },
          "hovermode": "closest",
          "mapbox": {
           "style": "light"
          },
          "paper_bgcolor": "white",
          "plot_bgcolor": "#E5ECF6",
          "polar": {
           "angularaxis": {
            "gridcolor": "white",
            "linecolor": "white",
            "ticks": ""
           },
           "bgcolor": "#E5ECF6",
           "radialaxis": {
            "gridcolor": "white",
            "linecolor": "white",
            "ticks": ""
           }
          },
          "scene": {
           "xaxis": {
            "backgroundcolor": "#E5ECF6",
            "gridcolor": "white",
            "gridwidth": 2,
            "linecolor": "white",
            "showbackground": true,
            "ticks": "",
            "zerolinecolor": "white"
           },
           "yaxis": {
            "backgroundcolor": "#E5ECF6",
            "gridcolor": "white",
            "gridwidth": 2,
            "linecolor": "white",
            "showbackground": true,
            "ticks": "",
            "zerolinecolor": "white"
           },
           "zaxis": {
            "backgroundcolor": "#E5ECF6",
            "gridcolor": "white",
            "gridwidth": 2,
            "linecolor": "white",
            "showbackground": true,
            "ticks": "",
            "zerolinecolor": "white"
           }
          },
          "shapedefaults": {
           "line": {
            "color": "#2a3f5f"
           }
          },
          "ternary": {
           "aaxis": {
            "gridcolor": "white",
            "linecolor": "white",
            "ticks": ""
           },
           "baxis": {
            "gridcolor": "white",
            "linecolor": "white",
            "ticks": ""
           },
           "bgcolor": "#E5ECF6",
           "caxis": {
            "gridcolor": "white",
            "linecolor": "white",
            "ticks": ""
           }
          },
          "title": {
           "x": 0.05
          },
          "xaxis": {
           "automargin": true,
           "gridcolor": "white",
           "linecolor": "white",
           "ticks": "",
           "title": {
            "standoff": 15
           },
           "zerolinecolor": "white",
           "zerolinewidth": 2
          },
          "yaxis": {
           "automargin": true,
           "gridcolor": "white",
           "linecolor": "white",
           "ticks": "",
           "title": {
            "standoff": 15
           },
           "zerolinecolor": "white",
           "zerolinewidth": 2
          }
         }
        },
        "title": {
         "text": "Product Groups"
        }
       }
      }
     },
     "metadata": {},
     "output_type": "display_data"
    }
   ],
   "source": [
    "from neo4j import GraphDatabase\n",
    "import networkx as nx\n",
    "import pandas as pd\n",
    "from community import community_louvain\n",
    "import matplotlib.pyplot as plt\n",
    "%matplotlib inline\n",
    "\n",
    "\n",
    "def get_data(tx):\n",
    "    query = \"\"\"\n",
    "        MATCH (p:Product)-[:HAS_RECIPE]->(r:Recipe)-[:USES_INGREDIENT]->(i:Ingredient)-[:HAS_RESEARCH]->(res:IngredientResearch)\n",
    "        RETURN p.name AS product, res.ingredient_name AS ingredientResearch\n",
    "    \"\"\"\n",
    "    result = tx.run(query)\n",
    "    data = [(record[\"product\"], record[\"ingredientResearch\"]) for record in result if record[\"product\"] is not None and record[\"ingredientResearch\"] is not None]\n",
    "    return data\n",
    "\n",
    "with driver.session() as session:\n",
    "    data = session.read_transaction(get_data)\n",
    "\n",
    "\n",
    "G = nx.DiGraph()\n",
    "G.add_edges_from(data)\n",
    "\n",
    "\n",
    "undirected_graph = G.to_undirected()\n",
    "\n",
    "\n",
    "communities = list(nx.algorithms.community.label_propagation_communities(undirected_graph))\n",
    "\n",
    "\n",
    "product_groups = pd.DataFrame({'Product': list(undirected_graph.nodes()), 'Group': [idx for idx, com in enumerate(communities) for node in com]})\n",
    "print(product_groups)\n",
    "\n",
    "import plotly.graph_objects as go\n",
    "\n",
    "table_data = go.Table(\n",
    "    header=dict(values=['Product', 'Group']),\n",
    "    cells=dict(values=[product_groups['Product'], product_groups['Group']])\n",
    ")\n",
    "\n",
    "layout = go.Layout(title='Product Groups')\n",
    "\n",
    "fig = go.Figure(data=table_data, layout=layout)\n",
    "fig.show()\n"
   ]
  },
  {
   "cell_type": "code",
   "execution_count": 24,
   "metadata": {},
   "outputs": [
    {
     "data": {
      "application/vnd.plotly.v1+json": {
       "config": {
        "plotlyServerURL": "https://plot.ly"
       },
       "data": [
        {
         "cells": {
          "values": [
           [
            0,
            1,
            2,
            3,
            4,
            5,
            6,
            7,
            8,
            9,
            10,
            11,
            12,
            13,
            14,
            15,
            16,
            17,
            18,
            19,
            20,
            21,
            22,
            23,
            24,
            25,
            26,
            27,
            28,
            29,
            30,
            31,
            32,
            33,
            34,
            35,
            36,
            37
           ],
           [
            "Coca - Cola Classic  Soft Drink Multipack Cans, Carbonated Water, Sugar, Colouring Agent 150d, Phosphoric Acid",
            "Flavour, Caffeine, Coca - Cola Classic  Soft Drink Mini Cans, Coca - Cola Vanilla  Soft Drink Multipack Cans, Coca - Cola Zero Sugar Soft Drink Multipack Cans, Sodium Citrate, Aspartame, Acesulfame Potassium, Coca - Cola Caffeine Free Zero Sugar Soft Drink Multipack Cans, Sweetener 952, Coca - Cola Zero Sugar Soft Drink Mini Cans, Indomie Mi Goreng Instant Noodles, Wheat Flour, Refined Palm Oil, Salt, Acidity Regulator 451",
            "Acidity Regulator 501, Sodium Bicarbonate, Guar Gum, Colour 101, Seasoning Powder, Flavour Enhancer 621, Disodium Guanylate, Garlic Powder, Onion Powder, Yeast Extract, Artificial Flavour, Pepper, Anti Caking Agent 551, Seasoning Oil, Onion, Sweet Soy Sauce, Water, Wheat, Soy Bean, Spices, Sesame Oil, Chilli Sauce, Chilli, Tapioca Starch, Acetic Acid, Citric Acid, Herbs, Preservative 1211, Sodium Metabisulfite, Fried Onion, TBHQ, Disodium Inosinate, Maggi 2 Minute Chicken Flavour Instant Noodles, Vegetable Oil, Antioxidant 320, Mineral Salt 508, Mineral Salt 451, Flavour Enhancer 635, Iodised Salt, Maltodextrin, Flavours Wheat, Flavours Soy, Vegetable Fat, Parsley Flakes, Turmeric, Caramel III, Coriander, Cumin",
            "Spice Cardamom, Spice Chilli Powder, Spice Ginger, Flavour Celery, Mineral Salt 501, Mineral Salt 500, Potassium Chloride, Potato Starch, Parsley, Burnt Sugar, Supreme Noodles Cup Chicken Flavour, Gluten Wheat, Soy, Curcumin, Fantastic Chicken Noodle Cup, Flavour Sachet, Vegetable Sachet, Dehydrated Vegetables, Fantastic Chicken Noodle Bowl, Modified Starch 1420, Mineral Salt 450, Basil, Colouring Agent 100, Antioxidant 307b, Indomie Mi Goreng Noodle Cup",
            "Flavours, Maggi 2 Minute Beef Flavour Instant Noodles, Soy Sauce Powder, White Pepper, Rosemary, Supreme Noodles Cup Beef Flavour, Colouring Agent 150c, Caramel Color, Schweppes Zero Sugar Lime Infused Mineral Water Bottle, Carbonated Mineral Water, Natural Flavours, Schweppes Raspberry Infused Natural Mineral Water Bottle, Schweppes Natural Mineral Water Bottle Natural, Natural Mineral Water, Schweppes Soda Water Bottle Classic Mixers, Potassium Bicarbonate, Schweppes Indian Tonic Water Classic Mixers Bottle, Natural Flavour Orange Peel Extract, Natural Flavour Citrus Oils, Natural Flavour Botanical Extracts, Natural Flavour Lemon Peel Extract, Quinine, Schweppes Lime Soda Water With Lime Juice Bottle, Natural Flavour Lime Oils, Sodium Benzoate, Plant Extract Gardenia, Plant Extract Carthamus, Sulphites, Reconstituted Lime Juice, Schweppes Zero Sugar Classic Mixers Indian Tonic Water Bottle, Schweppes Lemon Lime Natural Mineral Water Bottle, , Potassium Sorbate, Safflower Extract, Reconstituted Lemon Juice, Schweppes Orange Mango Natural Mineral Water Bottle, Ascorbic Acid, Carminic Acid, Lutein, Antioxidant 385, Reconstituted Mango Juice, Reconstituted Fruit Juice Orange, Kitkat 4 Finger Milk Chocolate Bar, Milk Solids, Cocoa Butter, Emulsifier Soy Lecithin, Cocoa Mass, Milk, Polyglycerol Polyricinoleate, Cocoa, Yeast, Processing Aid Wheat, Kitkat Chunky Original Chocolate Bar, Choc Paste, Cadbury Dairy Milk Caramello Koala Chocolate, Full Cream Milk",
            "Glucose Syrup, Sweetened Condensed Milk, Golden Syrup, Invert Sugar",
            "Acidity Regulator 331, Twix Milk Chocolate Bar With Caramel Biscuit, Milk Chocolate, Caramel, Biscuit, Mars Chocolate Bar With Nougat & Caramel, Wheat Glucose Syrup, Barley Malt Extract, Egg White, Natural Flavour Vanilla Extract, Cadbury Dairy Milk Chocolate Roll, Cadbury Dairy Milk Chocolate Bar, Cadbury Twirl Chocolate Bar, Cadbury Chomp Chocolate Bar, Cocoa Powder, Sorbitan Tristearate, Emulsifier 471, Enzymes, Arnott's Premier Chocolate Chip Cookies, Polyglycerol polyricinoleate, Desiccated Coconut, Wheat Starch, Baking Powder, Colouring Agent Caramel IV, Antioxidant E307B, Woolworths Chocolate Chip Cookies, Dark Compound Chocolate Chips, Palm Oil, Cocoa Solids, Natural Flavour, Wheaten Corn Flour, Whole Egg Powder, Milk Whey Powder, Annatto Extracts, Sodium Carbonate, Ammonium Carbonate",
            "Woolworths The King Of Chunky Chocolate Chip Cookies, Dark Chocolate Chips, Natural Vanilla Flavour, Milk Butter, Natural Flavour Vanilla, Natural Flavour Butter, Arnott's Mini Choc Chip Cookie Multipack Biscuits, Chocolate Chips, Skim Milk Powder, Oreo Original Mini Cookies Multipack, Fructose Syrup",
            "Cornstarch, Ammonium Bicarbonate, Mineral Iron, Zinc, Riboflavin, Thiamin, Folate",
            "Oreo Minis Cookies Variety Bags 18 Pack, Strawberry, Carmine, Cadbury Classic Choc Chip Cookies, Milk Chocolate Chips, Dextrose, Emulsifier 442, Egg, Stabiliser 422, Soybean Fibre, Thickener 1422, Raising Agent 450, Colouring Agent 160a, Cadbury Choc Centre Cookies, Thickener 1414, Byron Bay Cookies Dotty Cookie Bites, Milk Compound Chocolate",
            "Glazing Agent 414, Carnauba Wax, Colouring Agent Titan White, Colouring Agent Spirulina Extract, Beta carotene, Red Beetroot Powder, Black Carrot Extract, Cultured Dextrose, Maize Starch",
            "Oreo Original Cookies, Rimmel Scandaleyes Eye Definer Brown, Polyethylene, Synthetic Wax, Bis-Diglyceryl Polyacyladipate-2, Polybutene, Silica",
            "Octyldodecanol, Pentaerythrityl Tetra-di-t-butyl Hydroxyhydrocinnamate, Mica, Ultramarines, Iron Oxides, Titanium Dioxide, Ferric Ferrocyanide, Woolworths Apple Juice, Reconstituted Apple Juice, Vitamin C, Woolworths Apple & Mango Juice, Woolworths Orange Juice",
            "Woolworths Breakfast Juice, Reconstituted Fruit Juice Pineapple, Reconstituted Fruit Juice Passionfruit, Carboxymethyl Cellulose, Woolworths Apple & Blackcurrant Juice, Reconstituted Fruit Juice Blackcurrant, Anthocyanins, Woolworths Multivitamin Juice",
            "Reconstituted Fruit Juice Grape, Reconstituted Fruit Juice Apricot, Reconstituted Fruit Juice Peach, Reconstituted Fruit Juice Pear, Guava Puree, Vitamin A, Golden Circle Golden Pash Fruit Drink, Potassium Citrate, Golden Circle Drinks Pine Orange Fruit Drink, Pectin, Golden Circle Drinks Sunshine Punch Fruit Drink, Reconstituted Fruit Juice Water Extracted Orange, Reconstituted Fruit Juice Peach Purée, Golden Circle Fruit Drinks Lunch Box Poppers Tropical Punch Multipack, Woolworths Full Cream Milk, Dairy Farmers Full Cream Milk Full Cream Milk, Norco Full Cream Milk, Pasteurised Homogenised Milk, A2 Milk Full Cream Milk, Pauls Farmhouse Gold Full Cream Milk, Cream, Oreo Double Stuff Cookies, Oreo Original Cookies Family Pack, Oreo Chocolate Cookies, Oreo Grab & Go Original Cookies 9 Pack, Fructose, Syrup, Oreo Neapolitan Double Stuff Cookies",
            "Woolworths Diced Italian Tomatoes, Tomato Juice",
            "Tomatoes, Woolworths Lasagne Sheets",
            "Durum Wheat Semolina, Essentials Coconut Cream, Coconut Extract, Woolworths Uht Full Cream Milk, Homogenised Full Cream Milk, Deep Cove Sardines In Oil, Sardines, Woolworths Creamed Rice, Rice, Skim Milk, Acidity Regulator 339, Essentials Coconut Milk, Woolworths Tomato Sauce Squeeze, Reconstituted Tomato Puree, Thickener Modified Corn Starch, Spice Extract, Woolworths Tomato Sauce, Woolworths Barbecue Sauce Squeeze, Reconstituted Fruit Puree, Apple Pulp, Tomato Paste",
            "Molasses, Caramel I, Smoke Flavour, Xanthan Gum, Masterfoods Tomato Sauce, Masterfoods Barbecue Sauce, Wheat Cornflour, Caramel Color 150c",
            "Tamarind Paste, Clove, Nutmeg, Fountain Tomato Sauce Squeeze, Tomato Puree, Fountain Barbecue Bbq Sauce Squeeze, Maize Thickener 1422",
            "Maize Maltodextrin, Woolworths Secret Burger Sauce, Canola Oil, Vinegar",
            "Free Range Egg Yolk, Gherkin, Carotene, Paprika Oleoresins, Dill, Herb Extract",
            "Mustard Oil, Heinz Ketchup Tomato Sauce Ketchup, White Vinegar, Woolworths Barbecue Sauce, Reconstituted Fruit Puree Apple, Reconstituted Fruit Puree Tomato Paste",
            "Woolworths Spring Water Bottles, Natural Spring Water, Woolworths Spring Water, Frantelle Australian Still Spring Water Bottles Multipack, Australian Spring Water, Mount Franklin Spring Water Bottle, Smith's Crinkle Cut Potato Chips Original, Potatoes",
            "Sunflower Oil, Antioxidant Tocopherols, Antioxidant Rosemary Extract, Smith's Crinkle Cut Potato Chips Cheese & Onion, Cheese Powder, Flavoured Milk, Smith's Crinkle Cut Potato Chips Barbecue, Tomato Powder, Sodium Diacetate, Paprika, Smith's Crinkle Cut Potato Chips Chicken, Flavour Enhancer 620, Thins Chips Salt & Vinegar",
            "Smith's Thinly Cut Potato Chips Original Share Pack, Thins Chips Chicken",
            "Glucose, Vegetable Powder Garlic",
            "Smith's Crinkle Cut Potato Chips Salt & Vinegar, Milk Lactose",
            "Thins Chips Light & Tangy, Vegetable Powder Tomato, Garam Masala",
            "Buttermilk Powder, Thins Cheese & Onion Chips",
            "Lactic Acid, Paprika Extract",
            "Woolworths Peach In Strawberry Jelly, Carrageenan, Locust Bean Gum",
            "Calcium Lactate, Malic Acid, Natural Strawberry Flavour, Cochineal, Fruit Peach, Woolworths Two Fruits In Juice Cups, Pear, Reconstituted Refined Juice Concentrated Pear Juice",
            "Woolworths Two Fruits In Juice, Refined Fruit Juice Apple, Refined Fruit Juice Grape",
            "Refined Fruit Juice Peach, Refined Fruit Juice Pear, Woolworths Two Fruits In Tropical Jelly",
            "Natural Flavour Pineapple, Natural Flavour Mango, Woolworths Apple In Pineapple Jelly, Jelly Natural Pineapple Flavour, Apple, Goulburn Valley Two Fruits In Juice",
            "Diced Pears, Diced Peaches, Refined Fruit Juice, Dole Pineapple Slices In Syrup, Pineapple",
            "Dole Pineapple Chunks In Juice, Pineapple Juice, Clarified Pineapple Juice Concentrate, Goulburn Valley Two Fruits In Juice Fruit Cups In Juice"
           ]
          ]
         },
         "header": {
          "values": [
           "Group",
           "Products"
          ]
         },
         "type": "table"
        }
       ],
       "layout": {
        "template": {
         "data": {
          "bar": [
           {
            "error_x": {
             "color": "#2a3f5f"
            },
            "error_y": {
             "color": "#2a3f5f"
            },
            "marker": {
             "line": {
              "color": "#E5ECF6",
              "width": 0.5
             },
             "pattern": {
              "fillmode": "overlay",
              "size": 10,
              "solidity": 0.2
             }
            },
            "type": "bar"
           }
          ],
          "barpolar": [
           {
            "marker": {
             "line": {
              "color": "#E5ECF6",
              "width": 0.5
             },
             "pattern": {
              "fillmode": "overlay",
              "size": 10,
              "solidity": 0.2
             }
            },
            "type": "barpolar"
           }
          ],
          "carpet": [
           {
            "aaxis": {
             "endlinecolor": "#2a3f5f",
             "gridcolor": "white",
             "linecolor": "white",
             "minorgridcolor": "white",
             "startlinecolor": "#2a3f5f"
            },
            "baxis": {
             "endlinecolor": "#2a3f5f",
             "gridcolor": "white",
             "linecolor": "white",
             "minorgridcolor": "white",
             "startlinecolor": "#2a3f5f"
            },
            "type": "carpet"
           }
          ],
          "choropleth": [
           {
            "colorbar": {
             "outlinewidth": 0,
             "ticks": ""
            },
            "type": "choropleth"
           }
          ],
          "contour": [
           {
            "colorbar": {
             "outlinewidth": 0,
             "ticks": ""
            },
            "colorscale": [
             [
              0,
              "#0d0887"
             ],
             [
              0.1111111111111111,
              "#46039f"
             ],
             [
              0.2222222222222222,
              "#7201a8"
             ],
             [
              0.3333333333333333,
              "#9c179e"
             ],
             [
              0.4444444444444444,
              "#bd3786"
             ],
             [
              0.5555555555555556,
              "#d8576b"
             ],
             [
              0.6666666666666666,
              "#ed7953"
             ],
             [
              0.7777777777777778,
              "#fb9f3a"
             ],
             [
              0.8888888888888888,
              "#fdca26"
             ],
             [
              1,
              "#f0f921"
             ]
            ],
            "type": "contour"
           }
          ],
          "contourcarpet": [
           {
            "colorbar": {
             "outlinewidth": 0,
             "ticks": ""
            },
            "type": "contourcarpet"
           }
          ],
          "heatmap": [
           {
            "colorbar": {
             "outlinewidth": 0,
             "ticks": ""
            },
            "colorscale": [
             [
              0,
              "#0d0887"
             ],
             [
              0.1111111111111111,
              "#46039f"
             ],
             [
              0.2222222222222222,
              "#7201a8"
             ],
             [
              0.3333333333333333,
              "#9c179e"
             ],
             [
              0.4444444444444444,
              "#bd3786"
             ],
             [
              0.5555555555555556,
              "#d8576b"
             ],
             [
              0.6666666666666666,
              "#ed7953"
             ],
             [
              0.7777777777777778,
              "#fb9f3a"
             ],
             [
              0.8888888888888888,
              "#fdca26"
             ],
             [
              1,
              "#f0f921"
             ]
            ],
            "type": "heatmap"
           }
          ],
          "heatmapgl": [
           {
            "colorbar": {
             "outlinewidth": 0,
             "ticks": ""
            },
            "colorscale": [
             [
              0,
              "#0d0887"
             ],
             [
              0.1111111111111111,
              "#46039f"
             ],
             [
              0.2222222222222222,
              "#7201a8"
             ],
             [
              0.3333333333333333,
              "#9c179e"
             ],
             [
              0.4444444444444444,
              "#bd3786"
             ],
             [
              0.5555555555555556,
              "#d8576b"
             ],
             [
              0.6666666666666666,
              "#ed7953"
             ],
             [
              0.7777777777777778,
              "#fb9f3a"
             ],
             [
              0.8888888888888888,
              "#fdca26"
             ],
             [
              1,
              "#f0f921"
             ]
            ],
            "type": "heatmapgl"
           }
          ],
          "histogram": [
           {
            "marker": {
             "pattern": {
              "fillmode": "overlay",
              "size": 10,
              "solidity": 0.2
             }
            },
            "type": "histogram"
           }
          ],
          "histogram2d": [
           {
            "colorbar": {
             "outlinewidth": 0,
             "ticks": ""
            },
            "colorscale": [
             [
              0,
              "#0d0887"
             ],
             [
              0.1111111111111111,
              "#46039f"
             ],
             [
              0.2222222222222222,
              "#7201a8"
             ],
             [
              0.3333333333333333,
              "#9c179e"
             ],
             [
              0.4444444444444444,
              "#bd3786"
             ],
             [
              0.5555555555555556,
              "#d8576b"
             ],
             [
              0.6666666666666666,
              "#ed7953"
             ],
             [
              0.7777777777777778,
              "#fb9f3a"
             ],
             [
              0.8888888888888888,
              "#fdca26"
             ],
             [
              1,
              "#f0f921"
             ]
            ],
            "type": "histogram2d"
           }
          ],
          "histogram2dcontour": [
           {
            "colorbar": {
             "outlinewidth": 0,
             "ticks": ""
            },
            "colorscale": [
             [
              0,
              "#0d0887"
             ],
             [
              0.1111111111111111,
              "#46039f"
             ],
             [
              0.2222222222222222,
              "#7201a8"
             ],
             [
              0.3333333333333333,
              "#9c179e"
             ],
             [
              0.4444444444444444,
              "#bd3786"
             ],
             [
              0.5555555555555556,
              "#d8576b"
             ],
             [
              0.6666666666666666,
              "#ed7953"
             ],
             [
              0.7777777777777778,
              "#fb9f3a"
             ],
             [
              0.8888888888888888,
              "#fdca26"
             ],
             [
              1,
              "#f0f921"
             ]
            ],
            "type": "histogram2dcontour"
           }
          ],
          "mesh3d": [
           {
            "colorbar": {
             "outlinewidth": 0,
             "ticks": ""
            },
            "type": "mesh3d"
           }
          ],
          "parcoords": [
           {
            "line": {
             "colorbar": {
              "outlinewidth": 0,
              "ticks": ""
             }
            },
            "type": "parcoords"
           }
          ],
          "pie": [
           {
            "automargin": true,
            "type": "pie"
           }
          ],
          "scatter": [
           {
            "fillpattern": {
             "fillmode": "overlay",
             "size": 10,
             "solidity": 0.2
            },
            "type": "scatter"
           }
          ],
          "scatter3d": [
           {
            "line": {
             "colorbar": {
              "outlinewidth": 0,
              "ticks": ""
             }
            },
            "marker": {
             "colorbar": {
              "outlinewidth": 0,
              "ticks": ""
             }
            },
            "type": "scatter3d"
           }
          ],
          "scattercarpet": [
           {
            "marker": {
             "colorbar": {
              "outlinewidth": 0,
              "ticks": ""
             }
            },
            "type": "scattercarpet"
           }
          ],
          "scattergeo": [
           {
            "marker": {
             "colorbar": {
              "outlinewidth": 0,
              "ticks": ""
             }
            },
            "type": "scattergeo"
           }
          ],
          "scattergl": [
           {
            "marker": {
             "colorbar": {
              "outlinewidth": 0,
              "ticks": ""
             }
            },
            "type": "scattergl"
           }
          ],
          "scattermapbox": [
           {
            "marker": {
             "colorbar": {
              "outlinewidth": 0,
              "ticks": ""
             }
            },
            "type": "scattermapbox"
           }
          ],
          "scatterpolar": [
           {
            "marker": {
             "colorbar": {
              "outlinewidth": 0,
              "ticks": ""
             }
            },
            "type": "scatterpolar"
           }
          ],
          "scatterpolargl": [
           {
            "marker": {
             "colorbar": {
              "outlinewidth": 0,
              "ticks": ""
             }
            },
            "type": "scatterpolargl"
           }
          ],
          "scatterternary": [
           {
            "marker": {
             "colorbar": {
              "outlinewidth": 0,
              "ticks": ""
             }
            },
            "type": "scatterternary"
           }
          ],
          "surface": [
           {
            "colorbar": {
             "outlinewidth": 0,
             "ticks": ""
            },
            "colorscale": [
             [
              0,
              "#0d0887"
             ],
             [
              0.1111111111111111,
              "#46039f"
             ],
             [
              0.2222222222222222,
              "#7201a8"
             ],
             [
              0.3333333333333333,
              "#9c179e"
             ],
             [
              0.4444444444444444,
              "#bd3786"
             ],
             [
              0.5555555555555556,
              "#d8576b"
             ],
             [
              0.6666666666666666,
              "#ed7953"
             ],
             [
              0.7777777777777778,
              "#fb9f3a"
             ],
             [
              0.8888888888888888,
              "#fdca26"
             ],
             [
              1,
              "#f0f921"
             ]
            ],
            "type": "surface"
           }
          ],
          "table": [
           {
            "cells": {
             "fill": {
              "color": "#EBF0F8"
             },
             "line": {
              "color": "white"
             }
            },
            "header": {
             "fill": {
              "color": "#C8D4E3"
             },
             "line": {
              "color": "white"
             }
            },
            "type": "table"
           }
          ]
         },
         "layout": {
          "annotationdefaults": {
           "arrowcolor": "#2a3f5f",
           "arrowhead": 0,
           "arrowwidth": 1
          },
          "autotypenumbers": "strict",
          "coloraxis": {
           "colorbar": {
            "outlinewidth": 0,
            "ticks": ""
           }
          },
          "colorscale": {
           "diverging": [
            [
             0,
             "#8e0152"
            ],
            [
             0.1,
             "#c51b7d"
            ],
            [
             0.2,
             "#de77ae"
            ],
            [
             0.3,
             "#f1b6da"
            ],
            [
             0.4,
             "#fde0ef"
            ],
            [
             0.5,
             "#f7f7f7"
            ],
            [
             0.6,
             "#e6f5d0"
            ],
            [
             0.7,
             "#b8e186"
            ],
            [
             0.8,
             "#7fbc41"
            ],
            [
             0.9,
             "#4d9221"
            ],
            [
             1,
             "#276419"
            ]
           ],
           "sequential": [
            [
             0,
             "#0d0887"
            ],
            [
             0.1111111111111111,
             "#46039f"
            ],
            [
             0.2222222222222222,
             "#7201a8"
            ],
            [
             0.3333333333333333,
             "#9c179e"
            ],
            [
             0.4444444444444444,
             "#bd3786"
            ],
            [
             0.5555555555555556,
             "#d8576b"
            ],
            [
             0.6666666666666666,
             "#ed7953"
            ],
            [
             0.7777777777777778,
             "#fb9f3a"
            ],
            [
             0.8888888888888888,
             "#fdca26"
            ],
            [
             1,
             "#f0f921"
            ]
           ],
           "sequentialminus": [
            [
             0,
             "#0d0887"
            ],
            [
             0.1111111111111111,
             "#46039f"
            ],
            [
             0.2222222222222222,
             "#7201a8"
            ],
            [
             0.3333333333333333,
             "#9c179e"
            ],
            [
             0.4444444444444444,
             "#bd3786"
            ],
            [
             0.5555555555555556,
             "#d8576b"
            ],
            [
             0.6666666666666666,
             "#ed7953"
            ],
            [
             0.7777777777777778,
             "#fb9f3a"
            ],
            [
             0.8888888888888888,
             "#fdca26"
            ],
            [
             1,
             "#f0f921"
            ]
           ]
          },
          "colorway": [
           "#636efa",
           "#EF553B",
           "#00cc96",
           "#ab63fa",
           "#FFA15A",
           "#19d3f3",
           "#FF6692",
           "#B6E880",
           "#FF97FF",
           "#FECB52"
          ],
          "font": {
           "color": "#2a3f5f"
          },
          "geo": {
           "bgcolor": "white",
           "lakecolor": "white",
           "landcolor": "#E5ECF6",
           "showlakes": true,
           "showland": true,
           "subunitcolor": "white"
          },
          "hoverlabel": {
           "align": "left"
          },
          "hovermode": "closest",
          "mapbox": {
           "style": "light"
          },
          "paper_bgcolor": "white",
          "plot_bgcolor": "#E5ECF6",
          "polar": {
           "angularaxis": {
            "gridcolor": "white",
            "linecolor": "white",
            "ticks": ""
           },
           "bgcolor": "#E5ECF6",
           "radialaxis": {
            "gridcolor": "white",
            "linecolor": "white",
            "ticks": ""
           }
          },
          "scene": {
           "xaxis": {
            "backgroundcolor": "#E5ECF6",
            "gridcolor": "white",
            "gridwidth": 2,
            "linecolor": "white",
            "showbackground": true,
            "ticks": "",
            "zerolinecolor": "white"
           },
           "yaxis": {
            "backgroundcolor": "#E5ECF6",
            "gridcolor": "white",
            "gridwidth": 2,
            "linecolor": "white",
            "showbackground": true,
            "ticks": "",
            "zerolinecolor": "white"
           },
           "zaxis": {
            "backgroundcolor": "#E5ECF6",
            "gridcolor": "white",
            "gridwidth": 2,
            "linecolor": "white",
            "showbackground": true,
            "ticks": "",
            "zerolinecolor": "white"
           }
          },
          "shapedefaults": {
           "line": {
            "color": "#2a3f5f"
           }
          },
          "ternary": {
           "aaxis": {
            "gridcolor": "white",
            "linecolor": "white",
            "ticks": ""
           },
           "baxis": {
            "gridcolor": "white",
            "linecolor": "white",
            "ticks": ""
           },
           "bgcolor": "#E5ECF6",
           "caxis": {
            "gridcolor": "white",
            "linecolor": "white",
            "ticks": ""
           }
          },
          "title": {
           "x": 0.05
          },
          "xaxis": {
           "automargin": true,
           "gridcolor": "white",
           "linecolor": "white",
           "ticks": "",
           "title": {
            "standoff": 15
           },
           "zerolinecolor": "white",
           "zerolinewidth": 2
          },
          "yaxis": {
           "automargin": true,
           "gridcolor": "white",
           "linecolor": "white",
           "ticks": "",
           "title": {
            "standoff": 15
           },
           "zerolinecolor": "white",
           "zerolinewidth": 2
          }
         }
        },
        "title": {
         "text": "Products Grouped by Group"
        }
       }
      }
     },
     "metadata": {},
     "output_type": "display_data"
    }
   ],
   "source": [
    "# Extract product names from raw data\n",
    "products = set(product_groups['Product'])\n",
    "\n",
    "# Group the product_groups DataFrame by the Group column and concatenate the product names in each group\n",
    "grouped_products = product_groups.groupby('Group')['Product'].apply(lambda x: ', '.join(x)).reset_index()\n",
    "\n",
    "\n",
    "fig = go.Figure(data=[go.Table(\n",
    "    header=dict(values=['Group', 'Products']),\n",
    "    cells=dict(values=[grouped_products['Group'], grouped_products['Product']])\n",
    ")])\n",
    "\n",
    "\n",
    "fig.update_layout(title='Products Grouped by Group')\n",
    "\n",
    "fig.show()\n"
   ]
  },
  {
   "cell_type": "code",
   "execution_count": 32,
   "metadata": {},
   "outputs": [
    {
     "name": "stdout",
     "output_type": "stream",
     "text": [
      "Louvain Modularity Score: 0.7019335248120844\n",
      "Label Propagation Modularity Score: 0.6312799054792684\n"
     ]
    }
   ],
   "source": [
    "import networkx as nx\n",
    "import community  \n",
    "\n",
    "\n",
    "\n",
    "# Community allocation results using Louvain's algorithm\n",
    "louvain_partition = community.best_partition(G)\n",
    "\n",
    "# Community allocation results using Label Propagation algorithm\n",
    "label_propagation_communities = list(nx.algorithms.community.label_propagation_communities(G))\n",
    "\n",
    "# Construct a mapping of the communities that each node belongs to\n",
    "louvain_community_mapping = {node: community for node, community in louvain_partition.items()}\n",
    "label_propagation_mapping = {node: idx for idx, community in enumerate(label_propagation_communities) for node in community}\n",
    "\n",
    "# Caculate Modularity Score\n",
    "def calculate_modularity_score(partition_mapping):\n",
    "    modularity_score = 0\n",
    "    m = G.number_of_edges()  # total number of sides\n",
    "    for community in set(partition_mapping.values()):\n",
    "        # Getting nodes in the community\n",
    "        community_nodes = [node for node, com in partition_mapping.items() if com == community]\n",
    "        # Calculate the number of edges in the community\n",
    "        internal_edges = G.subgraph(community_nodes).number_of_edges()\n",
    "        # Calculate Modularity Score contributions within the community\n",
    "        modularity_score += internal_edges / m - (G.subgraph(community_nodes).number_of_nodes() / (2 * m)) ** 2\n",
    "    return modularity_score\n",
    "\n",
    "# Calculate Modularity Score using Louvain's Algorithm\n",
    "louvain_modularity_score = calculate_modularity_score(louvain_community_mapping)\n",
    "print(\"Louvain Modularity Score:\", louvain_modularity_score)\n",
    "\n",
    "# Calculate Modularity Score using Label Propagation Algorithm\n",
    "label_propagation_modularity_score = calculate_modularity_score(label_propagation_mapping)\n",
    "print(\"Label Propagation Modularity Score:\", label_propagation_modularity_score)\n"
   ]
  },
  {
   "cell_type": "code",
   "execution_count": 41,
   "metadata": {},
   "outputs": [
    {
     "name": "stderr",
     "output_type": "stream",
     "text": [
      "C:\\Users\\apple\\AppData\\Local\\Temp\\ipykernel_10132\\3941705149.py:18: DeprecationWarning:\n",
      "\n",
      "read_transaction has been renamed to execute_read\n",
      "\n"
     ]
    },
    {
     "name": "stdout",
     "output_type": "stream",
     "text": [
      "                                               Product  Group\n",
      "0       Coca - Cola Classic  Soft Drink Multipack Cans      0\n",
      "1                                     Carbonated Water      0\n",
      "2                                                Sugar      0\n",
      "3                                 Colouring Agent 150d      0\n",
      "4                                      Phosphoric Acid      0\n",
      "..                                                 ...    ...\n",
      "406                                          Pineapple     36\n",
      "407                     Dole Pineapple Chunks In Juice     37\n",
      "408                                    Pineapple Juice     37\n",
      "409              Clarified Pineapple Juice Concentrate     37\n",
      "410  Goulburn Valley Two Fruits In Juice Fruit Cups...     37\n",
      "\n",
      "[411 rows x 2 columns]\n"
     ]
    },
    {
     "data": {
      "application/vnd.plotly.v1+json": {
       "config": {
        "plotlyServerURL": "https://plot.ly"
       },
       "data": [
        {
         "cells": {
          "values": [
           [
            "Coca - Cola Classic  Soft Drink Multipack Cans",
            "Carbonated Water",
            "Sugar",
            "Colouring Agent 150d",
            "Phosphoric Acid",
            "Flavour",
            "Caffeine",
            "Coca - Cola Classic  Soft Drink Mini Cans",
            "Coca - Cola Vanilla  Soft Drink Multipack Cans",
            "Coca - Cola Zero Sugar Soft Drink Multipack Cans",
            "Sodium Citrate",
            "Aspartame",
            "Acesulfame Potassium",
            "Coca - Cola Caffeine Free Zero Sugar Soft Drink Multipack Cans",
            "Sweetener 952",
            "Coca - Cola Zero Sugar Soft Drink Mini Cans",
            "Indomie Mi Goreng Instant Noodles",
            "Wheat Flour",
            "Refined Palm Oil",
            "Salt",
            "Acidity Regulator 451",
            "Acidity Regulator 501",
            "Sodium Bicarbonate",
            "Guar Gum",
            "Colour 101",
            "Seasoning Powder",
            "Flavour Enhancer 621",
            "Disodium Guanylate",
            "Garlic Powder",
            "Onion Powder",
            "Yeast Extract",
            "Artificial Flavour",
            "Pepper",
            "Anti Caking Agent 551",
            "Seasoning Oil",
            "Onion",
            "Sweet Soy Sauce",
            "Water",
            "Wheat",
            "Soy Bean",
            "Spices",
            "Sesame Oil",
            "Chilli Sauce",
            "Chilli",
            "Tapioca Starch",
            "Acetic Acid",
            "Citric Acid",
            "Herbs",
            "Preservative 1211",
            "Sodium Metabisulfite",
            "Fried Onion",
            "TBHQ",
            "Disodium Inosinate",
            "Maggi 2 Minute Chicken Flavour Instant Noodles",
            "Vegetable Oil",
            "Antioxidant 320",
            "Mineral Salt 508",
            "Mineral Salt 451",
            "Flavour Enhancer 635",
            "Iodised Salt",
            "Maltodextrin",
            "Flavours Wheat",
            "Flavours Soy",
            "Vegetable Fat",
            "Parsley Flakes",
            "Turmeric",
            "Caramel III",
            "Coriander",
            "Cumin",
            "Spice Cardamom",
            "Spice Chilli Powder",
            "Spice Ginger",
            "Flavour Celery",
            "Mineral Salt 501",
            "Mineral Salt 500",
            "Potassium Chloride",
            "Potato Starch",
            "Parsley",
            "Burnt Sugar",
            "Supreme Noodles Cup Chicken Flavour",
            "Gluten Wheat",
            "Soy",
            "Curcumin",
            "Fantastic Chicken Noodle Cup",
            "Flavour Sachet",
            "Vegetable Sachet",
            "Dehydrated Vegetables",
            "Fantastic Chicken Noodle Bowl",
            "Modified Starch 1420",
            "Mineral Salt 450",
            "Basil",
            "Colouring Agent 100",
            "Antioxidant 307b",
            "Indomie Mi Goreng Noodle Cup",
            "Flavours",
            "Maggi 2 Minute Beef Flavour Instant Noodles",
            "Soy Sauce Powder",
            "White Pepper",
            "Rosemary",
            "Supreme Noodles Cup Beef Flavour",
            "Colouring Agent 150c",
            "Caramel Color",
            "Schweppes Zero Sugar Lime Infused Mineral Water Bottle",
            "Carbonated Mineral Water",
            "Natural Flavours",
            "Schweppes Raspberry Infused Natural Mineral Water Bottle",
            "Schweppes Natural Mineral Water Bottle Natural",
            "Natural Mineral Water",
            "Schweppes Soda Water Bottle Classic Mixers",
            "Potassium Bicarbonate",
            "Schweppes Indian Tonic Water Classic Mixers Bottle",
            "Natural Flavour Orange Peel Extract",
            "Natural Flavour Citrus Oils",
            "Natural Flavour Botanical Extracts",
            "Natural Flavour Lemon Peel Extract",
            "Quinine",
            "Schweppes Lime Soda Water With Lime Juice Bottle",
            "Natural Flavour Lime Oils",
            "Sodium Benzoate",
            "Plant Extract Gardenia",
            "Plant Extract Carthamus",
            "Sulphites",
            "Reconstituted Lime Juice",
            "Schweppes Zero Sugar Classic Mixers Indian Tonic Water Bottle",
            "Schweppes Lemon Lime Natural Mineral Water Bottle",
            "",
            "Potassium Sorbate",
            "Safflower Extract",
            "Reconstituted Lemon Juice",
            "Schweppes Orange Mango Natural Mineral Water Bottle",
            "Ascorbic Acid",
            "Carminic Acid",
            "Lutein",
            "Antioxidant 385",
            "Reconstituted Mango Juice",
            "Reconstituted Fruit Juice Orange",
            "Kitkat 4 Finger Milk Chocolate Bar",
            "Milk Solids",
            "Cocoa Butter",
            "Emulsifier Soy Lecithin",
            "Cocoa Mass",
            "Milk",
            "Polyglycerol Polyricinoleate",
            "Cocoa",
            "Yeast",
            "Processing Aid Wheat",
            "Kitkat Chunky Original Chocolate Bar",
            "Choc Paste",
            "Cadbury Dairy Milk Caramello Koala Chocolate",
            "Full Cream Milk",
            "Glucose Syrup",
            "Sweetened Condensed Milk",
            "Golden Syrup",
            "Invert Sugar",
            "Acidity Regulator 331",
            "Twix Milk Chocolate Bar With Caramel Biscuit",
            "Milk Chocolate",
            "Caramel",
            "Biscuit",
            "Mars Chocolate Bar With Nougat & Caramel",
            "Wheat Glucose Syrup",
            "Barley Malt Extract",
            "Egg White",
            "Natural Flavour Vanilla Extract",
            "Cadbury Dairy Milk Chocolate Roll",
            "Cadbury Dairy Milk Chocolate Bar",
            "Cadbury Twirl Chocolate Bar",
            "Cadbury Chomp Chocolate Bar",
            "Cocoa Powder",
            "Sorbitan Tristearate",
            "Emulsifier 471",
            "Enzymes",
            "Arnott's Premier Chocolate Chip Cookies",
            "Polyglycerol polyricinoleate",
            "Desiccated Coconut",
            "Wheat Starch",
            "Baking Powder",
            "Colouring Agent Caramel IV",
            "Antioxidant E307B",
            "Woolworths Chocolate Chip Cookies",
            "Dark Compound Chocolate Chips",
            "Palm Oil",
            "Cocoa Solids",
            "Natural Flavour",
            "Wheaten Corn Flour",
            "Whole Egg Powder",
            "Milk Whey Powder",
            "Annatto Extracts",
            "Sodium Carbonate",
            "Ammonium Carbonate",
            "Woolworths The King Of Chunky Chocolate Chip Cookies",
            "Dark Chocolate Chips",
            "Natural Vanilla Flavour",
            "Milk Butter",
            "Natural Flavour Vanilla",
            "Natural Flavour Butter",
            "Arnott's Mini Choc Chip Cookie Multipack Biscuits",
            "Chocolate Chips",
            "Skim Milk Powder",
            "Oreo Original Mini Cookies Multipack",
            "Fructose Syrup",
            "Cornstarch",
            "Ammonium Bicarbonate",
            "Mineral Iron",
            "Zinc",
            "Riboflavin",
            "Thiamin",
            "Folate",
            "Oreo Minis Cookies Variety Bags 18 Pack",
            "Strawberry",
            "Carmine",
            "Cadbury Classic Choc Chip Cookies",
            "Milk Chocolate Chips",
            "Dextrose",
            "Emulsifier 442",
            "Egg",
            "Stabiliser 422",
            "Soybean Fibre",
            "Thickener 1422",
            "Raising Agent 450",
            "Colouring Agent 160a",
            "Cadbury Choc Centre Cookies",
            "Thickener 1414",
            "Byron Bay Cookies Dotty Cookie Bites",
            "Milk Compound Chocolate",
            "Glazing Agent 414",
            "Carnauba Wax",
            "Colouring Agent Titan White",
            "Colouring Agent Spirulina Extract",
            "Beta carotene",
            "Red Beetroot Powder",
            "Black Carrot Extract",
            "Cultured Dextrose",
            "Maize Starch",
            "Oreo Original Cookies",
            "Rimmel Scandaleyes Eye Definer Brown",
            "Polyethylene",
            "Synthetic Wax",
            "Bis-Diglyceryl Polyacyladipate-2",
            "Polybutene",
            "Silica",
            "Octyldodecanol",
            "Pentaerythrityl Tetra-di-t-butyl Hydroxyhydrocinnamate",
            "Mica",
            "Ultramarines",
            "Iron Oxides",
            "Titanium Dioxide",
            "Ferric Ferrocyanide",
            "Woolworths Apple Juice",
            "Reconstituted Apple Juice",
            "Vitamin C",
            "Woolworths Apple & Mango Juice",
            "Woolworths Orange Juice",
            "Woolworths Breakfast Juice",
            "Reconstituted Fruit Juice Pineapple",
            "Reconstituted Fruit Juice Passionfruit",
            "Carboxymethyl Cellulose",
            "Woolworths Apple & Blackcurrant Juice",
            "Reconstituted Fruit Juice Blackcurrant",
            "Anthocyanins",
            "Woolworths Multivitamin Juice",
            "Reconstituted Fruit Juice Grape",
            "Reconstituted Fruit Juice Apricot",
            "Reconstituted Fruit Juice Peach",
            "Reconstituted Fruit Juice Pear",
            "Guava Puree",
            "Vitamin A",
            "Golden Circle Golden Pash Fruit Drink",
            "Potassium Citrate",
            "Golden Circle Drinks Pine Orange Fruit Drink",
            "Pectin",
            "Golden Circle Drinks Sunshine Punch Fruit Drink",
            "Reconstituted Fruit Juice Water Extracted Orange",
            "Reconstituted Fruit Juice Peach Purée",
            "Golden Circle Fruit Drinks Lunch Box Poppers Tropical Punch Multipack",
            "Woolworths Full Cream Milk",
            "Dairy Farmers Full Cream Milk Full Cream Milk",
            "Norco Full Cream Milk",
            "Pasteurised Homogenised Milk",
            "A2 Milk Full Cream Milk",
            "Pauls Farmhouse Gold Full Cream Milk",
            "Cream",
            "Oreo Double Stuff Cookies",
            "Oreo Original Cookies Family Pack",
            "Oreo Chocolate Cookies",
            "Oreo Grab & Go Original Cookies 9 Pack",
            "Fructose",
            "Syrup",
            "Oreo Neapolitan Double Stuff Cookies",
            "Woolworths Diced Italian Tomatoes",
            "Tomato Juice",
            "Tomatoes",
            "Woolworths Lasagne Sheets",
            "Durum Wheat Semolina",
            "Essentials Coconut Cream",
            "Coconut Extract",
            "Woolworths Uht Full Cream Milk",
            "Homogenised Full Cream Milk",
            "Deep Cove Sardines In Oil",
            "Sardines",
            "Woolworths Creamed Rice",
            "Rice",
            "Skim Milk",
            "Acidity Regulator 339",
            "Essentials Coconut Milk",
            "Woolworths Tomato Sauce Squeeze",
            "Reconstituted Tomato Puree",
            "Thickener Modified Corn Starch",
            "Spice Extract",
            "Woolworths Tomato Sauce",
            "Woolworths Barbecue Sauce Squeeze",
            "Reconstituted Fruit Puree",
            "Apple Pulp",
            "Tomato Paste",
            "Molasses",
            "Caramel I",
            "Smoke Flavour",
            "Xanthan Gum",
            "Masterfoods Tomato Sauce",
            "Masterfoods Barbecue Sauce",
            "Wheat Cornflour",
            "Caramel Color 150c",
            "Tamarind Paste",
            "Clove",
            "Nutmeg",
            "Fountain Tomato Sauce Squeeze",
            "Tomato Puree",
            "Fountain Barbecue Bbq Sauce Squeeze",
            "Maize Thickener 1422",
            "Maize Maltodextrin",
            "Woolworths Secret Burger Sauce",
            "Canola Oil",
            "Vinegar",
            "Free Range Egg Yolk",
            "Gherkin",
            "Carotene",
            "Paprika Oleoresins",
            "Dill",
            "Herb Extract",
            "Mustard Oil",
            "Heinz Ketchup Tomato Sauce Ketchup",
            "White Vinegar",
            "Woolworths Barbecue Sauce",
            "Reconstituted Fruit Puree Apple",
            "Reconstituted Fruit Puree Tomato Paste",
            "Woolworths Spring Water Bottles",
            "Natural Spring Water",
            "Woolworths Spring Water",
            "Frantelle Australian Still Spring Water Bottles Multipack",
            "Australian Spring Water",
            "Mount Franklin Spring Water Bottle",
            "Smith's Crinkle Cut Potato Chips Original",
            "Potatoes",
            "Sunflower Oil",
            "Antioxidant Tocopherols",
            "Antioxidant Rosemary Extract",
            "Smith's Crinkle Cut Potato Chips Cheese & Onion",
            "Cheese Powder",
            "Flavoured Milk",
            "Smith's Crinkle Cut Potato Chips Barbecue",
            "Tomato Powder",
            "Sodium Diacetate",
            "Paprika",
            "Smith's Crinkle Cut Potato Chips Chicken",
            "Flavour Enhancer 620",
            "Thins Chips Salt & Vinegar",
            "Smith's Thinly Cut Potato Chips Original Share Pack",
            "Thins Chips Chicken",
            "Glucose",
            "Vegetable Powder Garlic",
            "Smith's Crinkle Cut Potato Chips Salt & Vinegar",
            "Milk Lactose",
            "Thins Chips Light & Tangy",
            "Vegetable Powder Tomato",
            "Garam Masala",
            "Buttermilk Powder",
            "Thins Cheese & Onion Chips",
            "Lactic Acid",
            "Paprika Extract",
            "Woolworths Peach In Strawberry Jelly",
            "Carrageenan",
            "Locust Bean Gum",
            "Calcium Lactate",
            "Malic Acid",
            "Natural Strawberry Flavour",
            "Cochineal",
            "Fruit Peach",
            "Woolworths Two Fruits In Juice Cups",
            "Pear",
            "Reconstituted Refined Juice Concentrated Pear Juice",
            "Woolworths Two Fruits In Juice",
            "Refined Fruit Juice Apple",
            "Refined Fruit Juice Grape",
            "Refined Fruit Juice Peach",
            "Refined Fruit Juice Pear",
            "Woolworths Two Fruits In Tropical Jelly",
            "Natural Flavour Pineapple",
            "Natural Flavour Mango",
            "Woolworths Apple In Pineapple Jelly",
            "Jelly Natural Pineapple Flavour",
            "Apple",
            "Goulburn Valley Two Fruits In Juice",
            "Diced Pears",
            "Diced Peaches",
            "Refined Fruit Juice",
            "Dole Pineapple Slices In Syrup",
            "Pineapple",
            "Dole Pineapple Chunks In Juice",
            "Pineapple Juice",
            "Clarified Pineapple Juice Concentrate",
            "Goulburn Valley Two Fruits In Juice Fruit Cups In Juice"
           ],
           [
            0,
            0,
            0,
            0,
            0,
            1,
            1,
            1,
            1,
            1,
            1,
            1,
            1,
            1,
            1,
            1,
            1,
            1,
            1,
            1,
            1,
            2,
            2,
            2,
            2,
            2,
            2,
            2,
            2,
            2,
            2,
            2,
            2,
            2,
            2,
            2,
            2,
            2,
            2,
            2,
            2,
            2,
            2,
            2,
            2,
            2,
            2,
            2,
            2,
            2,
            2,
            2,
            2,
            2,
            2,
            2,
            2,
            2,
            2,
            2,
            2,
            2,
            2,
            2,
            2,
            2,
            2,
            2,
            2,
            3,
            3,
            3,
            3,
            3,
            3,
            3,
            3,
            3,
            3,
            3,
            3,
            3,
            3,
            3,
            3,
            3,
            3,
            3,
            3,
            3,
            3,
            3,
            3,
            3,
            4,
            4,
            4,
            4,
            4,
            4,
            4,
            4,
            4,
            4,
            4,
            4,
            4,
            4,
            4,
            4,
            4,
            4,
            4,
            4,
            4,
            4,
            4,
            4,
            4,
            4,
            4,
            4,
            4,
            4,
            4,
            4,
            4,
            4,
            4,
            4,
            4,
            4,
            4,
            4,
            4,
            4,
            4,
            4,
            4,
            4,
            4,
            4,
            4,
            4,
            4,
            4,
            4,
            4,
            4,
            4,
            5,
            5,
            5,
            5,
            6,
            6,
            6,
            6,
            6,
            6,
            6,
            6,
            6,
            6,
            6,
            6,
            6,
            6,
            6,
            6,
            6,
            6,
            6,
            6,
            6,
            6,
            6,
            6,
            6,
            6,
            6,
            6,
            6,
            6,
            6,
            6,
            6,
            6,
            6,
            6,
            7,
            7,
            7,
            7,
            7,
            7,
            7,
            7,
            7,
            7,
            7,
            8,
            8,
            8,
            8,
            8,
            8,
            8,
            9,
            9,
            9,
            9,
            9,
            9,
            9,
            9,
            9,
            9,
            9,
            9,
            9,
            9,
            9,
            9,
            9,
            10,
            10,
            10,
            10,
            10,
            10,
            10,
            10,
            10,
            11,
            11,
            11,
            11,
            11,
            11,
            11,
            12,
            12,
            12,
            12,
            12,
            12,
            12,
            12,
            12,
            12,
            12,
            12,
            13,
            13,
            13,
            13,
            13,
            13,
            13,
            13,
            14,
            14,
            14,
            14,
            14,
            14,
            14,
            14,
            14,
            14,
            14,
            14,
            14,
            14,
            14,
            14,
            14,
            14,
            14,
            14,
            14,
            14,
            14,
            14,
            14,
            14,
            14,
            14,
            15,
            15,
            16,
            16,
            17,
            17,
            17,
            17,
            17,
            17,
            17,
            17,
            17,
            17,
            17,
            17,
            17,
            17,
            17,
            17,
            17,
            17,
            17,
            17,
            17,
            18,
            18,
            18,
            18,
            18,
            18,
            18,
            18,
            19,
            19,
            19,
            19,
            19,
            19,
            19,
            20,
            20,
            20,
            20,
            21,
            21,
            21,
            21,
            21,
            21,
            22,
            22,
            22,
            22,
            22,
            22,
            23,
            23,
            23,
            23,
            23,
            23,
            23,
            23,
            24,
            24,
            24,
            24,
            24,
            24,
            24,
            24,
            24,
            24,
            24,
            24,
            24,
            25,
            25,
            26,
            26,
            27,
            27,
            28,
            28,
            28,
            29,
            29,
            30,
            30,
            31,
            31,
            31,
            32,
            32,
            32,
            32,
            32,
            32,
            32,
            32,
            33,
            33,
            33,
            34,
            34,
            34,
            35,
            35,
            35,
            35,
            35,
            35,
            36,
            36,
            36,
            36,
            36,
            37,
            37,
            37,
            37
           ]
          ]
         },
         "header": {
          "values": [
           "Product",
           "Group"
          ]
         },
         "type": "table"
        }
       ],
       "layout": {
        "template": {
         "data": {
          "bar": [
           {
            "error_x": {
             "color": "#2a3f5f"
            },
            "error_y": {
             "color": "#2a3f5f"
            },
            "marker": {
             "line": {
              "color": "#E5ECF6",
              "width": 0.5
             },
             "pattern": {
              "fillmode": "overlay",
              "size": 10,
              "solidity": 0.2
             }
            },
            "type": "bar"
           }
          ],
          "barpolar": [
           {
            "marker": {
             "line": {
              "color": "#E5ECF6",
              "width": 0.5
             },
             "pattern": {
              "fillmode": "overlay",
              "size": 10,
              "solidity": 0.2
             }
            },
            "type": "barpolar"
           }
          ],
          "carpet": [
           {
            "aaxis": {
             "endlinecolor": "#2a3f5f",
             "gridcolor": "white",
             "linecolor": "white",
             "minorgridcolor": "white",
             "startlinecolor": "#2a3f5f"
            },
            "baxis": {
             "endlinecolor": "#2a3f5f",
             "gridcolor": "white",
             "linecolor": "white",
             "minorgridcolor": "white",
             "startlinecolor": "#2a3f5f"
            },
            "type": "carpet"
           }
          ],
          "choropleth": [
           {
            "colorbar": {
             "outlinewidth": 0,
             "ticks": ""
            },
            "type": "choropleth"
           }
          ],
          "contour": [
           {
            "colorbar": {
             "outlinewidth": 0,
             "ticks": ""
            },
            "colorscale": [
             [
              0,
              "#0d0887"
             ],
             [
              0.1111111111111111,
              "#46039f"
             ],
             [
              0.2222222222222222,
              "#7201a8"
             ],
             [
              0.3333333333333333,
              "#9c179e"
             ],
             [
              0.4444444444444444,
              "#bd3786"
             ],
             [
              0.5555555555555556,
              "#d8576b"
             ],
             [
              0.6666666666666666,
              "#ed7953"
             ],
             [
              0.7777777777777778,
              "#fb9f3a"
             ],
             [
              0.8888888888888888,
              "#fdca26"
             ],
             [
              1,
              "#f0f921"
             ]
            ],
            "type": "contour"
           }
          ],
          "contourcarpet": [
           {
            "colorbar": {
             "outlinewidth": 0,
             "ticks": ""
            },
            "type": "contourcarpet"
           }
          ],
          "heatmap": [
           {
            "colorbar": {
             "outlinewidth": 0,
             "ticks": ""
            },
            "colorscale": [
             [
              0,
              "#0d0887"
             ],
             [
              0.1111111111111111,
              "#46039f"
             ],
             [
              0.2222222222222222,
              "#7201a8"
             ],
             [
              0.3333333333333333,
              "#9c179e"
             ],
             [
              0.4444444444444444,
              "#bd3786"
             ],
             [
              0.5555555555555556,
              "#d8576b"
             ],
             [
              0.6666666666666666,
              "#ed7953"
             ],
             [
              0.7777777777777778,
              "#fb9f3a"
             ],
             [
              0.8888888888888888,
              "#fdca26"
             ],
             [
              1,
              "#f0f921"
             ]
            ],
            "type": "heatmap"
           }
          ],
          "heatmapgl": [
           {
            "colorbar": {
             "outlinewidth": 0,
             "ticks": ""
            },
            "colorscale": [
             [
              0,
              "#0d0887"
             ],
             [
              0.1111111111111111,
              "#46039f"
             ],
             [
              0.2222222222222222,
              "#7201a8"
             ],
             [
              0.3333333333333333,
              "#9c179e"
             ],
             [
              0.4444444444444444,
              "#bd3786"
             ],
             [
              0.5555555555555556,
              "#d8576b"
             ],
             [
              0.6666666666666666,
              "#ed7953"
             ],
             [
              0.7777777777777778,
              "#fb9f3a"
             ],
             [
              0.8888888888888888,
              "#fdca26"
             ],
             [
              1,
              "#f0f921"
             ]
            ],
            "type": "heatmapgl"
           }
          ],
          "histogram": [
           {
            "marker": {
             "pattern": {
              "fillmode": "overlay",
              "size": 10,
              "solidity": 0.2
             }
            },
            "type": "histogram"
           }
          ],
          "histogram2d": [
           {
            "colorbar": {
             "outlinewidth": 0,
             "ticks": ""
            },
            "colorscale": [
             [
              0,
              "#0d0887"
             ],
             [
              0.1111111111111111,
              "#46039f"
             ],
             [
              0.2222222222222222,
              "#7201a8"
             ],
             [
              0.3333333333333333,
              "#9c179e"
             ],
             [
              0.4444444444444444,
              "#bd3786"
             ],
             [
              0.5555555555555556,
              "#d8576b"
             ],
             [
              0.6666666666666666,
              "#ed7953"
             ],
             [
              0.7777777777777778,
              "#fb9f3a"
             ],
             [
              0.8888888888888888,
              "#fdca26"
             ],
             [
              1,
              "#f0f921"
             ]
            ],
            "type": "histogram2d"
           }
          ],
          "histogram2dcontour": [
           {
            "colorbar": {
             "outlinewidth": 0,
             "ticks": ""
            },
            "colorscale": [
             [
              0,
              "#0d0887"
             ],
             [
              0.1111111111111111,
              "#46039f"
             ],
             [
              0.2222222222222222,
              "#7201a8"
             ],
             [
              0.3333333333333333,
              "#9c179e"
             ],
             [
              0.4444444444444444,
              "#bd3786"
             ],
             [
              0.5555555555555556,
              "#d8576b"
             ],
             [
              0.6666666666666666,
              "#ed7953"
             ],
             [
              0.7777777777777778,
              "#fb9f3a"
             ],
             [
              0.8888888888888888,
              "#fdca26"
             ],
             [
              1,
              "#f0f921"
             ]
            ],
            "type": "histogram2dcontour"
           }
          ],
          "mesh3d": [
           {
            "colorbar": {
             "outlinewidth": 0,
             "ticks": ""
            },
            "type": "mesh3d"
           }
          ],
          "parcoords": [
           {
            "line": {
             "colorbar": {
              "outlinewidth": 0,
              "ticks": ""
             }
            },
            "type": "parcoords"
           }
          ],
          "pie": [
           {
            "automargin": true,
            "type": "pie"
           }
          ],
          "scatter": [
           {
            "fillpattern": {
             "fillmode": "overlay",
             "size": 10,
             "solidity": 0.2
            },
            "type": "scatter"
           }
          ],
          "scatter3d": [
           {
            "line": {
             "colorbar": {
              "outlinewidth": 0,
              "ticks": ""
             }
            },
            "marker": {
             "colorbar": {
              "outlinewidth": 0,
              "ticks": ""
             }
            },
            "type": "scatter3d"
           }
          ],
          "scattercarpet": [
           {
            "marker": {
             "colorbar": {
              "outlinewidth": 0,
              "ticks": ""
             }
            },
            "type": "scattercarpet"
           }
          ],
          "scattergeo": [
           {
            "marker": {
             "colorbar": {
              "outlinewidth": 0,
              "ticks": ""
             }
            },
            "type": "scattergeo"
           }
          ],
          "scattergl": [
           {
            "marker": {
             "colorbar": {
              "outlinewidth": 0,
              "ticks": ""
             }
            },
            "type": "scattergl"
           }
          ],
          "scattermapbox": [
           {
            "marker": {
             "colorbar": {
              "outlinewidth": 0,
              "ticks": ""
             }
            },
            "type": "scattermapbox"
           }
          ],
          "scatterpolar": [
           {
            "marker": {
             "colorbar": {
              "outlinewidth": 0,
              "ticks": ""
             }
            },
            "type": "scatterpolar"
           }
          ],
          "scatterpolargl": [
           {
            "marker": {
             "colorbar": {
              "outlinewidth": 0,
              "ticks": ""
             }
            },
            "type": "scatterpolargl"
           }
          ],
          "scatterternary": [
           {
            "marker": {
             "colorbar": {
              "outlinewidth": 0,
              "ticks": ""
             }
            },
            "type": "scatterternary"
           }
          ],
          "surface": [
           {
            "colorbar": {
             "outlinewidth": 0,
             "ticks": ""
            },
            "colorscale": [
             [
              0,
              "#0d0887"
             ],
             [
              0.1111111111111111,
              "#46039f"
             ],
             [
              0.2222222222222222,
              "#7201a8"
             ],
             [
              0.3333333333333333,
              "#9c179e"
             ],
             [
              0.4444444444444444,
              "#bd3786"
             ],
             [
              0.5555555555555556,
              "#d8576b"
             ],
             [
              0.6666666666666666,
              "#ed7953"
             ],
             [
              0.7777777777777778,
              "#fb9f3a"
             ],
             [
              0.8888888888888888,
              "#fdca26"
             ],
             [
              1,
              "#f0f921"
             ]
            ],
            "type": "surface"
           }
          ],
          "table": [
           {
            "cells": {
             "fill": {
              "color": "#EBF0F8"
             },
             "line": {
              "color": "white"
             }
            },
            "header": {
             "fill": {
              "color": "#C8D4E3"
             },
             "line": {
              "color": "white"
             }
            },
            "type": "table"
           }
          ]
         },
         "layout": {
          "annotationdefaults": {
           "arrowcolor": "#2a3f5f",
           "arrowhead": 0,
           "arrowwidth": 1
          },
          "autotypenumbers": "strict",
          "coloraxis": {
           "colorbar": {
            "outlinewidth": 0,
            "ticks": ""
           }
          },
          "colorscale": {
           "diverging": [
            [
             0,
             "#8e0152"
            ],
            [
             0.1,
             "#c51b7d"
            ],
            [
             0.2,
             "#de77ae"
            ],
            [
             0.3,
             "#f1b6da"
            ],
            [
             0.4,
             "#fde0ef"
            ],
            [
             0.5,
             "#f7f7f7"
            ],
            [
             0.6,
             "#e6f5d0"
            ],
            [
             0.7,
             "#b8e186"
            ],
            [
             0.8,
             "#7fbc41"
            ],
            [
             0.9,
             "#4d9221"
            ],
            [
             1,
             "#276419"
            ]
           ],
           "sequential": [
            [
             0,
             "#0d0887"
            ],
            [
             0.1111111111111111,
             "#46039f"
            ],
            [
             0.2222222222222222,
             "#7201a8"
            ],
            [
             0.3333333333333333,
             "#9c179e"
            ],
            [
             0.4444444444444444,
             "#bd3786"
            ],
            [
             0.5555555555555556,
             "#d8576b"
            ],
            [
             0.6666666666666666,
             "#ed7953"
            ],
            [
             0.7777777777777778,
             "#fb9f3a"
            ],
            [
             0.8888888888888888,
             "#fdca26"
            ],
            [
             1,
             "#f0f921"
            ]
           ],
           "sequentialminus": [
            [
             0,
             "#0d0887"
            ],
            [
             0.1111111111111111,
             "#46039f"
            ],
            [
             0.2222222222222222,
             "#7201a8"
            ],
            [
             0.3333333333333333,
             "#9c179e"
            ],
            [
             0.4444444444444444,
             "#bd3786"
            ],
            [
             0.5555555555555556,
             "#d8576b"
            ],
            [
             0.6666666666666666,
             "#ed7953"
            ],
            [
             0.7777777777777778,
             "#fb9f3a"
            ],
            [
             0.8888888888888888,
             "#fdca26"
            ],
            [
             1,
             "#f0f921"
            ]
           ]
          },
          "colorway": [
           "#636efa",
           "#EF553B",
           "#00cc96",
           "#ab63fa",
           "#FFA15A",
           "#19d3f3",
           "#FF6692",
           "#B6E880",
           "#FF97FF",
           "#FECB52"
          ],
          "font": {
           "color": "#2a3f5f"
          },
          "geo": {
           "bgcolor": "white",
           "lakecolor": "white",
           "landcolor": "#E5ECF6",
           "showlakes": true,
           "showland": true,
           "subunitcolor": "white"
          },
          "hoverlabel": {
           "align": "left"
          },
          "hovermode": "closest",
          "mapbox": {
           "style": "light"
          },
          "paper_bgcolor": "white",
          "plot_bgcolor": "#E5ECF6",
          "polar": {
           "angularaxis": {
            "gridcolor": "white",
            "linecolor": "white",
            "ticks": ""
           },
           "bgcolor": "#E5ECF6",
           "radialaxis": {
            "gridcolor": "white",
            "linecolor": "white",
            "ticks": ""
           }
          },
          "scene": {
           "xaxis": {
            "backgroundcolor": "#E5ECF6",
            "gridcolor": "white",
            "gridwidth": 2,
            "linecolor": "white",
            "showbackground": true,
            "ticks": "",
            "zerolinecolor": "white"
           },
           "yaxis": {
            "backgroundcolor": "#E5ECF6",
            "gridcolor": "white",
            "gridwidth": 2,
            "linecolor": "white",
            "showbackground": true,
            "ticks": "",
            "zerolinecolor": "white"
           },
           "zaxis": {
            "backgroundcolor": "#E5ECF6",
            "gridcolor": "white",
            "gridwidth": 2,
            "linecolor": "white",
            "showbackground": true,
            "ticks": "",
            "zerolinecolor": "white"
           }
          },
          "shapedefaults": {
           "line": {
            "color": "#2a3f5f"
           }
          },
          "ternary": {
           "aaxis": {
            "gridcolor": "white",
            "linecolor": "white",
            "ticks": ""
           },
           "baxis": {
            "gridcolor": "white",
            "linecolor": "white",
            "ticks": ""
           },
           "bgcolor": "#E5ECF6",
           "caxis": {
            "gridcolor": "white",
            "linecolor": "white",
            "ticks": ""
           }
          },
          "title": {
           "x": 0.05
          },
          "xaxis": {
           "automargin": true,
           "gridcolor": "white",
           "linecolor": "white",
           "ticks": "",
           "title": {
            "standoff": 15
           },
           "zerolinecolor": "white",
           "zerolinewidth": 2
          },
          "yaxis": {
           "automargin": true,
           "gridcolor": "white",
           "linecolor": "white",
           "ticks": "",
           "title": {
            "standoff": 15
           },
           "zerolinecolor": "white",
           "zerolinewidth": 2
          }
         }
        },
        "title": {
         "text": "Product Groups"
        }
       }
      }
     },
     "metadata": {},
     "output_type": "display_data"
    }
   ],
   "source": [
    "from neo4j import GraphDatabase \n",
    "import networkx as nx \n",
    "import pandas as pd \n",
    "from community import community_louvain \n",
    "import matplotlib.pyplot as plt \n",
    "%matplotlib inline \n",
    "\n",
    "def get_data(tx):\n",
    "    query = \"\"\"\n",
    "        MATCH (p:Product)-[:HAS_RECIPE]->(r:Recipe)-[:USES_INGREDIENT]->(i:Ingredient)-[:HAS_RESEARCH]->(res:IngredientResearch)\n",
    "        RETURN p.name AS product, res.ingredient_name AS ingredientResearch\n",
    "    \"\"\"\n",
    "    result = tx.run(query)\n",
    "    data = [(record[\"product\"], record[\"ingredientResearch\"]) for record in result if record[\"product\"] is not None and record[\"ingredientResearch\"] is not None]\n",
    "    return data\n",
    "\n",
    "with driver.session() as session: \n",
    "    data = session.read_transaction(get_data) \n",
    "\n",
    "G = nx.Graph() \n",
    "\n",
    "\n",
    "G.add_edges_from(data)\n",
    "\n",
    "communities = list(nx.algorithms.community.label_propagation_communities(G)) \n",
    "\n",
    "product_groups = pd.DataFrame({'Product': list(G.nodes()), 'Group': [idx for idx, com in enumerate(communities) for node in com]}) \n",
    "print(product_groups) \n",
    "\n",
    "import plotly.graph_objects as go \n",
    "\n",
    "table_data = go.Table( \n",
    "    header=dict(values=['Product', 'Group']), \n",
    "    cells=dict(values=[product_groups['Product'], product_groups['Group']]) \n",
    ") \n",
    "\n",
    "layout = go.Layout(title='Product Groups') \n",
    "fig = go.Figure(data=table_data, layout=layout) \n",
    "fig.show()\n"
   ]
  },
  {
   "cell_type": "code",
   "execution_count": 9,
   "metadata": {},
   "outputs": [
    {
     "name": "stderr",
     "output_type": "stream",
     "text": [
      "C:\\Users\\apple\\AppData\\Local\\Temp\\ipykernel_15092\\3746739646.py:18: DeprecationWarning:\n",
      "\n",
      "read_transaction has been renamed to execute_read\n",
      "\n"
     ]
    },
    {
     "name": "stdout",
     "output_type": "stream",
     "text": [
      "                                               Product  Group\n",
      "0       Coca - Cola Classic  Soft Drink Multipack Cans      0\n",
      "1                                     Carbonated Water      0\n",
      "2                                                Sugar      0\n",
      "3                                 Colouring Agent 150d      0\n",
      "4                                      Phosphoric Acid      0\n",
      "..                                                 ...    ...\n",
      "406                                          Pineapple     36\n",
      "407                     Dole Pineapple Chunks In Juice     37\n",
      "408                                    Pineapple Juice     37\n",
      "409              Clarified Pineapple Juice Concentrate     37\n",
      "410  Goulburn Valley Two Fruits In Juice Fruit Cups...     37\n",
      "\n",
      "[411 rows x 2 columns]\n"
     ]
    },
    {
     "data": {
      "application/vnd.plotly.v1+json": {
       "config": {
        "plotlyServerURL": "https://plot.ly"
       },
       "data": [
        {
         "cells": {
          "values": [
           [
            "Coca - Cola Classic  Soft Drink Multipack Cans",
            "Carbonated Water",
            "Sugar",
            "Colouring Agent 150d",
            "Phosphoric Acid",
            "Flavour",
            "Caffeine",
            "Coca - Cola Classic  Soft Drink Mini Cans",
            "Coca - Cola Vanilla  Soft Drink Multipack Cans",
            "Coca - Cola Zero Sugar Soft Drink Multipack Cans",
            "Sodium Citrate",
            "Aspartame",
            "Acesulfame Potassium",
            "Coca - Cola Caffeine Free Zero Sugar Soft Drink Multipack Cans",
            "Sweetener 952",
            "Coca - Cola Zero Sugar Soft Drink Mini Cans",
            "Indomie Mi Goreng Instant Noodles",
            "Wheat Flour",
            "Refined Palm Oil",
            "Salt",
            "Acidity Regulator 451",
            "Acidity Regulator 501",
            "Sodium Bicarbonate",
            "Guar Gum",
            "Colour 101",
            "Seasoning Powder",
            "Flavour Enhancer 621",
            "Disodium Guanylate",
            "Garlic Powder",
            "Onion Powder",
            "Yeast Extract",
            "Artificial Flavour",
            "Pepper",
            "Anti Caking Agent 551",
            "Seasoning Oil",
            "Onion",
            "Sweet Soy Sauce",
            "Water",
            "Wheat",
            "Soy Bean",
            "Spices",
            "Sesame Oil",
            "Chilli Sauce",
            "Chilli",
            "Tapioca Starch",
            "Acetic Acid",
            "Citric Acid",
            "Herbs",
            "Preservative 1211",
            "Sodium Metabisulfite",
            "Fried Onion",
            "TBHQ",
            "Disodium Inosinate",
            "Maggi 2 Minute Chicken Flavour Instant Noodles",
            "Vegetable Oil",
            "Antioxidant 320",
            "Mineral Salt 508",
            "Mineral Salt 451",
            "Flavour Enhancer 635",
            "Iodised Salt",
            "Maltodextrin",
            "Flavours Wheat",
            "Flavours Soy",
            "Vegetable Fat",
            "Parsley Flakes",
            "Turmeric",
            "Caramel III",
            "Coriander",
            "Cumin",
            "Spice Cardamom",
            "Spice Chilli Powder",
            "Spice Ginger",
            "Flavour Celery",
            "Mineral Salt 501",
            "Mineral Salt 500",
            "Potassium Chloride",
            "Potato Starch",
            "Parsley",
            "Burnt Sugar",
            "Supreme Noodles Cup Chicken Flavour",
            "Gluten Wheat",
            "Soy",
            "Curcumin",
            "Fantastic Chicken Noodle Cup",
            "Flavour Sachet",
            "Vegetable Sachet",
            "Dehydrated Vegetables",
            "Fantastic Chicken Noodle Bowl",
            "Modified Starch 1420",
            "Mineral Salt 450",
            "Basil",
            "Colouring Agent 100",
            "Antioxidant 307b",
            "Indomie Mi Goreng Noodle Cup",
            "Flavours",
            "Maggi 2 Minute Beef Flavour Instant Noodles",
            "Soy Sauce Powder",
            "White Pepper",
            "Rosemary",
            "Supreme Noodles Cup Beef Flavour",
            "Colouring Agent 150c",
            "Caramel Color",
            "Schweppes Zero Sugar Lime Infused Mineral Water Bottle",
            "Carbonated Mineral Water",
            "Natural Flavours",
            "Schweppes Raspberry Infused Natural Mineral Water Bottle",
            "Schweppes Natural Mineral Water Bottle Natural",
            "Natural Mineral Water",
            "Schweppes Soda Water Bottle Classic Mixers",
            "Potassium Bicarbonate",
            "Schweppes Indian Tonic Water Classic Mixers Bottle",
            "Natural Flavour Orange Peel Extract",
            "Natural Flavour Citrus Oils",
            "Natural Flavour Botanical Extracts",
            "Natural Flavour Lemon Peel Extract",
            "Quinine",
            "Schweppes Lime Soda Water With Lime Juice Bottle",
            "Natural Flavour Lime Oils",
            "Sodium Benzoate",
            "Plant Extract Gardenia",
            "Plant Extract Carthamus",
            "Sulphites",
            "Reconstituted Lime Juice",
            "Schweppes Zero Sugar Classic Mixers Indian Tonic Water Bottle",
            "Schweppes Lemon Lime Natural Mineral Water Bottle",
            "",
            "Potassium Sorbate",
            "Safflower Extract",
            "Reconstituted Lemon Juice",
            "Schweppes Orange Mango Natural Mineral Water Bottle",
            "Ascorbic Acid",
            "Carminic Acid",
            "Lutein",
            "Antioxidant 385",
            "Reconstituted Mango Juice",
            "Reconstituted Fruit Juice Orange",
            "Kitkat 4 Finger Milk Chocolate Bar",
            "Milk Solids",
            "Cocoa Butter",
            "Emulsifier Soy Lecithin",
            "Cocoa Mass",
            "Milk",
            "Polyglycerol Polyricinoleate",
            "Cocoa",
            "Yeast",
            "Processing Aid Wheat",
            "Kitkat Chunky Original Chocolate Bar",
            "Choc Paste",
            "Cadbury Dairy Milk Caramello Koala Chocolate",
            "Full Cream Milk",
            "Glucose Syrup",
            "Sweetened Condensed Milk",
            "Golden Syrup",
            "Invert Sugar",
            "Acidity Regulator 331",
            "Twix Milk Chocolate Bar With Caramel Biscuit",
            "Milk Chocolate",
            "Caramel",
            "Biscuit",
            "Mars Chocolate Bar With Nougat & Caramel",
            "Wheat Glucose Syrup",
            "Barley Malt Extract",
            "Egg White",
            "Natural Flavour Vanilla Extract",
            "Cadbury Dairy Milk Chocolate Roll",
            "Cadbury Dairy Milk Chocolate Bar",
            "Cadbury Twirl Chocolate Bar",
            "Cadbury Chomp Chocolate Bar",
            "Cocoa Powder",
            "Sorbitan Tristearate",
            "Emulsifier 471",
            "Enzymes",
            "Arnott's Premier Chocolate Chip Cookies",
            "Polyglycerol polyricinoleate",
            "Desiccated Coconut",
            "Wheat Starch",
            "Baking Powder",
            "Colouring Agent Caramel IV",
            "Antioxidant E307B",
            "Woolworths Chocolate Chip Cookies",
            "Dark Compound Chocolate Chips",
            "Palm Oil",
            "Cocoa Solids",
            "Natural Flavour",
            "Wheaten Corn Flour",
            "Whole Egg Powder",
            "Milk Whey Powder",
            "Annatto Extracts",
            "Sodium Carbonate",
            "Ammonium Carbonate",
            "Woolworths The King Of Chunky Chocolate Chip Cookies",
            "Dark Chocolate Chips",
            "Natural Vanilla Flavour",
            "Milk Butter",
            "Natural Flavour Vanilla",
            "Natural Flavour Butter",
            "Arnott's Mini Choc Chip Cookie Multipack Biscuits",
            "Chocolate Chips",
            "Skim Milk Powder",
            "Oreo Original Mini Cookies Multipack",
            "Fructose Syrup",
            "Cornstarch",
            "Ammonium Bicarbonate",
            "Mineral Iron",
            "Zinc",
            "Riboflavin",
            "Thiamin",
            "Folate",
            "Oreo Minis Cookies Variety Bags 18 Pack",
            "Strawberry",
            "Carmine",
            "Cadbury Classic Choc Chip Cookies",
            "Milk Chocolate Chips",
            "Dextrose",
            "Emulsifier 442",
            "Egg",
            "Stabiliser 422",
            "Soybean Fibre",
            "Thickener 1422",
            "Raising Agent 450",
            "Colouring Agent 160a",
            "Cadbury Choc Centre Cookies",
            "Thickener 1414",
            "Byron Bay Cookies Dotty Cookie Bites",
            "Milk Compound Chocolate",
            "Glazing Agent 414",
            "Carnauba Wax",
            "Colouring Agent Titan White",
            "Colouring Agent Spirulina Extract",
            "Beta carotene",
            "Red Beetroot Powder",
            "Black Carrot Extract",
            "Cultured Dextrose",
            "Maize Starch",
            "Oreo Original Cookies",
            "Rimmel Scandaleyes Eye Definer Brown",
            "Polyethylene",
            "Synthetic Wax",
            "Bis-Diglyceryl Polyacyladipate-2",
            "Polybutene",
            "Silica",
            "Octyldodecanol",
            "Pentaerythrityl Tetra-di-t-butyl Hydroxyhydrocinnamate",
            "Mica",
            "Ultramarines",
            "Iron Oxides",
            "Titanium Dioxide",
            "Ferric Ferrocyanide",
            "Woolworths Apple Juice",
            "Reconstituted Apple Juice",
            "Vitamin C",
            "Woolworths Apple & Mango Juice",
            "Woolworths Orange Juice",
            "Woolworths Breakfast Juice",
            "Reconstituted Fruit Juice Pineapple",
            "Reconstituted Fruit Juice Passionfruit",
            "Carboxymethyl Cellulose",
            "Woolworths Apple & Blackcurrant Juice",
            "Reconstituted Fruit Juice Blackcurrant",
            "Anthocyanins",
            "Woolworths Multivitamin Juice",
            "Reconstituted Fruit Juice Grape",
            "Reconstituted Fruit Juice Apricot",
            "Reconstituted Fruit Juice Peach",
            "Reconstituted Fruit Juice Pear",
            "Guava Puree",
            "Vitamin A",
            "Golden Circle Golden Pash Fruit Drink",
            "Potassium Citrate",
            "Golden Circle Drinks Pine Orange Fruit Drink",
            "Pectin",
            "Golden Circle Drinks Sunshine Punch Fruit Drink",
            "Reconstituted Fruit Juice Water Extracted Orange",
            "Reconstituted Fruit Juice Peach Purée",
            "Golden Circle Fruit Drinks Lunch Box Poppers Tropical Punch Multipack",
            "Woolworths Full Cream Milk",
            "Dairy Farmers Full Cream Milk Full Cream Milk",
            "Norco Full Cream Milk",
            "Pasteurised Homogenised Milk",
            "A2 Milk Full Cream Milk",
            "Pauls Farmhouse Gold Full Cream Milk",
            "Cream",
            "Oreo Double Stuff Cookies",
            "Oreo Original Cookies Family Pack",
            "Oreo Chocolate Cookies",
            "Oreo Grab & Go Original Cookies 9 Pack",
            "Fructose",
            "Syrup",
            "Oreo Neapolitan Double Stuff Cookies",
            "Woolworths Diced Italian Tomatoes",
            "Tomato Juice",
            "Tomatoes",
            "Woolworths Lasagne Sheets",
            "Durum Wheat Semolina",
            "Essentials Coconut Cream",
            "Coconut Extract",
            "Woolworths Uht Full Cream Milk",
            "Homogenised Full Cream Milk",
            "Deep Cove Sardines In Oil",
            "Sardines",
            "Woolworths Creamed Rice",
            "Rice",
            "Skim Milk",
            "Acidity Regulator 339",
            "Essentials Coconut Milk",
            "Woolworths Tomato Sauce Squeeze",
            "Reconstituted Tomato Puree",
            "Thickener Modified Corn Starch",
            "Spice Extract",
            "Woolworths Tomato Sauce",
            "Woolworths Barbecue Sauce Squeeze",
            "Reconstituted Fruit Puree",
            "Apple Pulp",
            "Tomato Paste",
            "Molasses",
            "Caramel I",
            "Smoke Flavour",
            "Xanthan Gum",
            "Masterfoods Tomato Sauce",
            "Masterfoods Barbecue Sauce",
            "Wheat Cornflour",
            "Caramel Color 150c",
            "Tamarind Paste",
            "Clove",
            "Nutmeg",
            "Fountain Tomato Sauce Squeeze",
            "Tomato Puree",
            "Fountain Barbecue Bbq Sauce Squeeze",
            "Maize Thickener 1422",
            "Maize Maltodextrin",
            "Woolworths Secret Burger Sauce",
            "Canola Oil",
            "Vinegar",
            "Free Range Egg Yolk",
            "Gherkin",
            "Carotene",
            "Paprika Oleoresins",
            "Dill",
            "Herb Extract",
            "Mustard Oil",
            "Heinz Ketchup Tomato Sauce Ketchup",
            "White Vinegar",
            "Woolworths Barbecue Sauce",
            "Reconstituted Fruit Puree Apple",
            "Reconstituted Fruit Puree Tomato Paste",
            "Woolworths Spring Water Bottles",
            "Natural Spring Water",
            "Woolworths Spring Water",
            "Frantelle Australian Still Spring Water Bottles Multipack",
            "Australian Spring Water",
            "Mount Franklin Spring Water Bottle",
            "Smith's Crinkle Cut Potato Chips Original",
            "Potatoes",
            "Sunflower Oil",
            "Antioxidant Tocopherols",
            "Antioxidant Rosemary Extract",
            "Smith's Crinkle Cut Potato Chips Cheese & Onion",
            "Cheese Powder",
            "Flavoured Milk",
            "Smith's Crinkle Cut Potato Chips Barbecue",
            "Tomato Powder",
            "Sodium Diacetate",
            "Paprika",
            "Smith's Crinkle Cut Potato Chips Chicken",
            "Flavour Enhancer 620",
            "Thins Chips Salt & Vinegar",
            "Smith's Thinly Cut Potato Chips Original Share Pack",
            "Thins Chips Chicken",
            "Glucose",
            "Vegetable Powder Garlic",
            "Smith's Crinkle Cut Potato Chips Salt & Vinegar",
            "Milk Lactose",
            "Thins Chips Light & Tangy",
            "Vegetable Powder Tomato",
            "Garam Masala",
            "Buttermilk Powder",
            "Thins Cheese & Onion Chips",
            "Lactic Acid",
            "Paprika Extract",
            "Woolworths Peach In Strawberry Jelly",
            "Carrageenan",
            "Locust Bean Gum",
            "Calcium Lactate",
            "Malic Acid",
            "Natural Strawberry Flavour",
            "Cochineal",
            "Fruit Peach",
            "Woolworths Two Fruits In Juice Cups",
            "Pear",
            "Reconstituted Refined Juice Concentrated Pear Juice",
            "Woolworths Two Fruits In Juice",
            "Refined Fruit Juice Apple",
            "Refined Fruit Juice Grape",
            "Refined Fruit Juice Peach",
            "Refined Fruit Juice Pear",
            "Woolworths Two Fruits In Tropical Jelly",
            "Natural Flavour Pineapple",
            "Natural Flavour Mango",
            "Woolworths Apple In Pineapple Jelly",
            "Jelly Natural Pineapple Flavour",
            "Apple",
            "Goulburn Valley Two Fruits In Juice",
            "Diced Pears",
            "Diced Peaches",
            "Refined Fruit Juice",
            "Dole Pineapple Slices In Syrup",
            "Pineapple",
            "Dole Pineapple Chunks In Juice",
            "Pineapple Juice",
            "Clarified Pineapple Juice Concentrate",
            "Goulburn Valley Two Fruits In Juice Fruit Cups In Juice"
           ],
           [
            0,
            0,
            0,
            0,
            0,
            1,
            1,
            1,
            1,
            1,
            1,
            1,
            1,
            1,
            1,
            1,
            1,
            1,
            1,
            1,
            1,
            2,
            2,
            2,
            2,
            2,
            2,
            2,
            2,
            2,
            2,
            2,
            2,
            2,
            2,
            2,
            2,
            2,
            2,
            2,
            2,
            2,
            2,
            2,
            2,
            2,
            2,
            2,
            2,
            2,
            2,
            2,
            2,
            2,
            2,
            2,
            2,
            2,
            2,
            2,
            2,
            2,
            2,
            2,
            2,
            2,
            2,
            2,
            2,
            3,
            3,
            3,
            3,
            3,
            3,
            3,
            3,
            3,
            3,
            3,
            3,
            3,
            3,
            3,
            3,
            3,
            3,
            3,
            3,
            3,
            3,
            3,
            3,
            3,
            4,
            4,
            4,
            4,
            4,
            4,
            4,
            4,
            4,
            4,
            4,
            4,
            4,
            4,
            4,
            4,
            4,
            4,
            4,
            4,
            4,
            4,
            4,
            4,
            4,
            4,
            4,
            4,
            4,
            4,
            4,
            4,
            4,
            4,
            4,
            4,
            4,
            4,
            4,
            4,
            4,
            4,
            4,
            4,
            4,
            4,
            4,
            4,
            4,
            4,
            4,
            4,
            4,
            4,
            4,
            4,
            5,
            5,
            5,
            5,
            6,
            6,
            6,
            6,
            6,
            6,
            6,
            6,
            6,
            6,
            6,
            6,
            6,
            6,
            6,
            6,
            6,
            6,
            6,
            6,
            6,
            6,
            6,
            6,
            6,
            6,
            6,
            6,
            6,
            6,
            6,
            6,
            6,
            6,
            6,
            6,
            7,
            7,
            7,
            7,
            7,
            7,
            7,
            7,
            7,
            7,
            7,
            8,
            8,
            8,
            8,
            8,
            8,
            8,
            9,
            9,
            9,
            9,
            9,
            9,
            9,
            9,
            9,
            9,
            9,
            9,
            9,
            9,
            9,
            9,
            9,
            10,
            10,
            10,
            10,
            10,
            10,
            10,
            10,
            10,
            11,
            11,
            11,
            11,
            11,
            11,
            11,
            12,
            12,
            12,
            12,
            12,
            12,
            12,
            12,
            12,
            12,
            12,
            12,
            13,
            13,
            13,
            13,
            13,
            13,
            13,
            13,
            14,
            14,
            14,
            14,
            14,
            14,
            14,
            14,
            14,
            14,
            14,
            14,
            14,
            14,
            14,
            14,
            14,
            14,
            14,
            14,
            14,
            14,
            14,
            14,
            14,
            14,
            14,
            14,
            15,
            15,
            16,
            16,
            17,
            17,
            17,
            17,
            17,
            17,
            17,
            17,
            17,
            17,
            17,
            17,
            17,
            17,
            17,
            17,
            17,
            17,
            17,
            17,
            17,
            18,
            18,
            18,
            18,
            18,
            18,
            18,
            18,
            19,
            19,
            19,
            19,
            19,
            19,
            19,
            20,
            20,
            20,
            20,
            21,
            21,
            21,
            21,
            21,
            21,
            22,
            22,
            22,
            22,
            22,
            22,
            23,
            23,
            23,
            23,
            23,
            23,
            23,
            23,
            24,
            24,
            24,
            24,
            24,
            24,
            24,
            24,
            24,
            24,
            24,
            24,
            24,
            25,
            25,
            26,
            26,
            27,
            27,
            28,
            28,
            28,
            29,
            29,
            30,
            30,
            31,
            31,
            31,
            32,
            32,
            32,
            32,
            32,
            32,
            32,
            32,
            33,
            33,
            33,
            34,
            34,
            34,
            35,
            35,
            35,
            35,
            35,
            35,
            36,
            36,
            36,
            36,
            36,
            37,
            37,
            37,
            37
           ]
          ]
         },
         "header": {
          "values": [
           "Product",
           "Group"
          ]
         },
         "type": "table"
        }
       ],
       "layout": {
        "template": {
         "data": {
          "bar": [
           {
            "error_x": {
             "color": "#2a3f5f"
            },
            "error_y": {
             "color": "#2a3f5f"
            },
            "marker": {
             "line": {
              "color": "#E5ECF6",
              "width": 0.5
             },
             "pattern": {
              "fillmode": "overlay",
              "size": 10,
              "solidity": 0.2
             }
            },
            "type": "bar"
           }
          ],
          "barpolar": [
           {
            "marker": {
             "line": {
              "color": "#E5ECF6",
              "width": 0.5
             },
             "pattern": {
              "fillmode": "overlay",
              "size": 10,
              "solidity": 0.2
             }
            },
            "type": "barpolar"
           }
          ],
          "carpet": [
           {
            "aaxis": {
             "endlinecolor": "#2a3f5f",
             "gridcolor": "white",
             "linecolor": "white",
             "minorgridcolor": "white",
             "startlinecolor": "#2a3f5f"
            },
            "baxis": {
             "endlinecolor": "#2a3f5f",
             "gridcolor": "white",
             "linecolor": "white",
             "minorgridcolor": "white",
             "startlinecolor": "#2a3f5f"
            },
            "type": "carpet"
           }
          ],
          "choropleth": [
           {
            "colorbar": {
             "outlinewidth": 0,
             "ticks": ""
            },
            "type": "choropleth"
           }
          ],
          "contour": [
           {
            "colorbar": {
             "outlinewidth": 0,
             "ticks": ""
            },
            "colorscale": [
             [
              0,
              "#0d0887"
             ],
             [
              0.1111111111111111,
              "#46039f"
             ],
             [
              0.2222222222222222,
              "#7201a8"
             ],
             [
              0.3333333333333333,
              "#9c179e"
             ],
             [
              0.4444444444444444,
              "#bd3786"
             ],
             [
              0.5555555555555556,
              "#d8576b"
             ],
             [
              0.6666666666666666,
              "#ed7953"
             ],
             [
              0.7777777777777778,
              "#fb9f3a"
             ],
             [
              0.8888888888888888,
              "#fdca26"
             ],
             [
              1,
              "#f0f921"
             ]
            ],
            "type": "contour"
           }
          ],
          "contourcarpet": [
           {
            "colorbar": {
             "outlinewidth": 0,
             "ticks": ""
            },
            "type": "contourcarpet"
           }
          ],
          "heatmap": [
           {
            "colorbar": {
             "outlinewidth": 0,
             "ticks": ""
            },
            "colorscale": [
             [
              0,
              "#0d0887"
             ],
             [
              0.1111111111111111,
              "#46039f"
             ],
             [
              0.2222222222222222,
              "#7201a8"
             ],
             [
              0.3333333333333333,
              "#9c179e"
             ],
             [
              0.4444444444444444,
              "#bd3786"
             ],
             [
              0.5555555555555556,
              "#d8576b"
             ],
             [
              0.6666666666666666,
              "#ed7953"
             ],
             [
              0.7777777777777778,
              "#fb9f3a"
             ],
             [
              0.8888888888888888,
              "#fdca26"
             ],
             [
              1,
              "#f0f921"
             ]
            ],
            "type": "heatmap"
           }
          ],
          "heatmapgl": [
           {
            "colorbar": {
             "outlinewidth": 0,
             "ticks": ""
            },
            "colorscale": [
             [
              0,
              "#0d0887"
             ],
             [
              0.1111111111111111,
              "#46039f"
             ],
             [
              0.2222222222222222,
              "#7201a8"
             ],
             [
              0.3333333333333333,
              "#9c179e"
             ],
             [
              0.4444444444444444,
              "#bd3786"
             ],
             [
              0.5555555555555556,
              "#d8576b"
             ],
             [
              0.6666666666666666,
              "#ed7953"
             ],
             [
              0.7777777777777778,
              "#fb9f3a"
             ],
             [
              0.8888888888888888,
              "#fdca26"
             ],
             [
              1,
              "#f0f921"
             ]
            ],
            "type": "heatmapgl"
           }
          ],
          "histogram": [
           {
            "marker": {
             "pattern": {
              "fillmode": "overlay",
              "size": 10,
              "solidity": 0.2
             }
            },
            "type": "histogram"
           }
          ],
          "histogram2d": [
           {
            "colorbar": {
             "outlinewidth": 0,
             "ticks": ""
            },
            "colorscale": [
             [
              0,
              "#0d0887"
             ],
             [
              0.1111111111111111,
              "#46039f"
             ],
             [
              0.2222222222222222,
              "#7201a8"
             ],
             [
              0.3333333333333333,
              "#9c179e"
             ],
             [
              0.4444444444444444,
              "#bd3786"
             ],
             [
              0.5555555555555556,
              "#d8576b"
             ],
             [
              0.6666666666666666,
              "#ed7953"
             ],
             [
              0.7777777777777778,
              "#fb9f3a"
             ],
             [
              0.8888888888888888,
              "#fdca26"
             ],
             [
              1,
              "#f0f921"
             ]
            ],
            "type": "histogram2d"
           }
          ],
          "histogram2dcontour": [
           {
            "colorbar": {
             "outlinewidth": 0,
             "ticks": ""
            },
            "colorscale": [
             [
              0,
              "#0d0887"
             ],
             [
              0.1111111111111111,
              "#46039f"
             ],
             [
              0.2222222222222222,
              "#7201a8"
             ],
             [
              0.3333333333333333,
              "#9c179e"
             ],
             [
              0.4444444444444444,
              "#bd3786"
             ],
             [
              0.5555555555555556,
              "#d8576b"
             ],
             [
              0.6666666666666666,
              "#ed7953"
             ],
             [
              0.7777777777777778,
              "#fb9f3a"
             ],
             [
              0.8888888888888888,
              "#fdca26"
             ],
             [
              1,
              "#f0f921"
             ]
            ],
            "type": "histogram2dcontour"
           }
          ],
          "mesh3d": [
           {
            "colorbar": {
             "outlinewidth": 0,
             "ticks": ""
            },
            "type": "mesh3d"
           }
          ],
          "parcoords": [
           {
            "line": {
             "colorbar": {
              "outlinewidth": 0,
              "ticks": ""
             }
            },
            "type": "parcoords"
           }
          ],
          "pie": [
           {
            "automargin": true,
            "type": "pie"
           }
          ],
          "scatter": [
           {
            "fillpattern": {
             "fillmode": "overlay",
             "size": 10,
             "solidity": 0.2
            },
            "type": "scatter"
           }
          ],
          "scatter3d": [
           {
            "line": {
             "colorbar": {
              "outlinewidth": 0,
              "ticks": ""
             }
            },
            "marker": {
             "colorbar": {
              "outlinewidth": 0,
              "ticks": ""
             }
            },
            "type": "scatter3d"
           }
          ],
          "scattercarpet": [
           {
            "marker": {
             "colorbar": {
              "outlinewidth": 0,
              "ticks": ""
             }
            },
            "type": "scattercarpet"
           }
          ],
          "scattergeo": [
           {
            "marker": {
             "colorbar": {
              "outlinewidth": 0,
              "ticks": ""
             }
            },
            "type": "scattergeo"
           }
          ],
          "scattergl": [
           {
            "marker": {
             "colorbar": {
              "outlinewidth": 0,
              "ticks": ""
             }
            },
            "type": "scattergl"
           }
          ],
          "scattermapbox": [
           {
            "marker": {
             "colorbar": {
              "outlinewidth": 0,
              "ticks": ""
             }
            },
            "type": "scattermapbox"
           }
          ],
          "scatterpolar": [
           {
            "marker": {
             "colorbar": {
              "outlinewidth": 0,
              "ticks": ""
             }
            },
            "type": "scatterpolar"
           }
          ],
          "scatterpolargl": [
           {
            "marker": {
             "colorbar": {
              "outlinewidth": 0,
              "ticks": ""
             }
            },
            "type": "scatterpolargl"
           }
          ],
          "scatterternary": [
           {
            "marker": {
             "colorbar": {
              "outlinewidth": 0,
              "ticks": ""
             }
            },
            "type": "scatterternary"
           }
          ],
          "surface": [
           {
            "colorbar": {
             "outlinewidth": 0,
             "ticks": ""
            },
            "colorscale": [
             [
              0,
              "#0d0887"
             ],
             [
              0.1111111111111111,
              "#46039f"
             ],
             [
              0.2222222222222222,
              "#7201a8"
             ],
             [
              0.3333333333333333,
              "#9c179e"
             ],
             [
              0.4444444444444444,
              "#bd3786"
             ],
             [
              0.5555555555555556,
              "#d8576b"
             ],
             [
              0.6666666666666666,
              "#ed7953"
             ],
             [
              0.7777777777777778,
              "#fb9f3a"
             ],
             [
              0.8888888888888888,
              "#fdca26"
             ],
             [
              1,
              "#f0f921"
             ]
            ],
            "type": "surface"
           }
          ],
          "table": [
           {
            "cells": {
             "fill": {
              "color": "#EBF0F8"
             },
             "line": {
              "color": "white"
             }
            },
            "header": {
             "fill": {
              "color": "#C8D4E3"
             },
             "line": {
              "color": "white"
             }
            },
            "type": "table"
           }
          ]
         },
         "layout": {
          "annotationdefaults": {
           "arrowcolor": "#2a3f5f",
           "arrowhead": 0,
           "arrowwidth": 1
          },
          "autotypenumbers": "strict",
          "coloraxis": {
           "colorbar": {
            "outlinewidth": 0,
            "ticks": ""
           }
          },
          "colorscale": {
           "diverging": [
            [
             0,
             "#8e0152"
            ],
            [
             0.1,
             "#c51b7d"
            ],
            [
             0.2,
             "#de77ae"
            ],
            [
             0.3,
             "#f1b6da"
            ],
            [
             0.4,
             "#fde0ef"
            ],
            [
             0.5,
             "#f7f7f7"
            ],
            [
             0.6,
             "#e6f5d0"
            ],
            [
             0.7,
             "#b8e186"
            ],
            [
             0.8,
             "#7fbc41"
            ],
            [
             0.9,
             "#4d9221"
            ],
            [
             1,
             "#276419"
            ]
           ],
           "sequential": [
            [
             0,
             "#0d0887"
            ],
            [
             0.1111111111111111,
             "#46039f"
            ],
            [
             0.2222222222222222,
             "#7201a8"
            ],
            [
             0.3333333333333333,
             "#9c179e"
            ],
            [
             0.4444444444444444,
             "#bd3786"
            ],
            [
             0.5555555555555556,
             "#d8576b"
            ],
            [
             0.6666666666666666,
             "#ed7953"
            ],
            [
             0.7777777777777778,
             "#fb9f3a"
            ],
            [
             0.8888888888888888,
             "#fdca26"
            ],
            [
             1,
             "#f0f921"
            ]
           ],
           "sequentialminus": [
            [
             0,
             "#0d0887"
            ],
            [
             0.1111111111111111,
             "#46039f"
            ],
            [
             0.2222222222222222,
             "#7201a8"
            ],
            [
             0.3333333333333333,
             "#9c179e"
            ],
            [
             0.4444444444444444,
             "#bd3786"
            ],
            [
             0.5555555555555556,
             "#d8576b"
            ],
            [
             0.6666666666666666,
             "#ed7953"
            ],
            [
             0.7777777777777778,
             "#fb9f3a"
            ],
            [
             0.8888888888888888,
             "#fdca26"
            ],
            [
             1,
             "#f0f921"
            ]
           ]
          },
          "colorway": [
           "#636efa",
           "#EF553B",
           "#00cc96",
           "#ab63fa",
           "#FFA15A",
           "#19d3f3",
           "#FF6692",
           "#B6E880",
           "#FF97FF",
           "#FECB52"
          ],
          "font": {
           "color": "#2a3f5f"
          },
          "geo": {
           "bgcolor": "white",
           "lakecolor": "white",
           "landcolor": "#E5ECF6",
           "showlakes": true,
           "showland": true,
           "subunitcolor": "white"
          },
          "hoverlabel": {
           "align": "left"
          },
          "hovermode": "closest",
          "mapbox": {
           "style": "light"
          },
          "paper_bgcolor": "white",
          "plot_bgcolor": "#E5ECF6",
          "polar": {
           "angularaxis": {
            "gridcolor": "white",
            "linecolor": "white",
            "ticks": ""
           },
           "bgcolor": "#E5ECF6",
           "radialaxis": {
            "gridcolor": "white",
            "linecolor": "white",
            "ticks": ""
           }
          },
          "scene": {
           "xaxis": {
            "backgroundcolor": "#E5ECF6",
            "gridcolor": "white",
            "gridwidth": 2,
            "linecolor": "white",
            "showbackground": true,
            "ticks": "",
            "zerolinecolor": "white"
           },
           "yaxis": {
            "backgroundcolor": "#E5ECF6",
            "gridcolor": "white",
            "gridwidth": 2,
            "linecolor": "white",
            "showbackground": true,
            "ticks": "",
            "zerolinecolor": "white"
           },
           "zaxis": {
            "backgroundcolor": "#E5ECF6",
            "gridcolor": "white",
            "gridwidth": 2,
            "linecolor": "white",
            "showbackground": true,
            "ticks": "",
            "zerolinecolor": "white"
           }
          },
          "shapedefaults": {
           "line": {
            "color": "#2a3f5f"
           }
          },
          "ternary": {
           "aaxis": {
            "gridcolor": "white",
            "linecolor": "white",
            "ticks": ""
           },
           "baxis": {
            "gridcolor": "white",
            "linecolor": "white",
            "ticks": ""
           },
           "bgcolor": "#E5ECF6",
           "caxis": {
            "gridcolor": "white",
            "linecolor": "white",
            "ticks": ""
           }
          },
          "title": {
           "x": 0.05
          },
          "xaxis": {
           "automargin": true,
           "gridcolor": "white",
           "linecolor": "white",
           "ticks": "",
           "title": {
            "standoff": 15
           },
           "zerolinecolor": "white",
           "zerolinewidth": 2
          },
          "yaxis": {
           "automargin": true,
           "gridcolor": "white",
           "linecolor": "white",
           "ticks": "",
           "title": {
            "standoff": 15
           },
           "zerolinecolor": "white",
           "zerolinewidth": 2
          }
         }
        },
        "title": {
         "text": "Product Groups"
        }
       }
      }
     },
     "metadata": {},
     "output_type": "display_data"
    }
   ],
   "source": [
    "import networkx as nx\n",
    "import pandas as pd\n",
    "from neo4j import GraphDatabase\n",
    "import plotly.graph_objects as go\n",
    "\n",
    "\n",
    "def get_data(tx):\n",
    "    query = \"\"\"\n",
    "        MATCH (p:Product)-[:HAS_RECIPE]->(r:Recipe)-[:USES_INGREDIENT]->(i:Ingredient)-[:HAS_RESEARCH]->(res:IngredientResearch)\n",
    "        RETURN p.name AS product, res.ingredient_name AS ingredientResearch\n",
    "    \"\"\"\n",
    "    result = tx.run(query)\n",
    "    data = [(record[\"product\"], record[\"ingredientResearch\"]) for record in result if record[\"product\"] is not None and record[\"ingredientResearch\"] is not None]\n",
    "    return data\n",
    "\n",
    "\n",
    "with driver.session() as session: \n",
    "    data = session.read_transaction(get_data) \n",
    "\n",
    "\n",
    "G = nx.Graph() \n",
    "\n",
    "# Add only the product name to the graphic\n",
    "products = set() \n",
    "for record in data:\n",
    "    product, ingredient_research = record\n",
    "    if product not in products:\n",
    "        G.add_node(product)\n",
    "        products.add(product)\n",
    "    G.add_edge(product, ingredient_research)\n",
    "\n",
    "# Detecting communities using hashtag propagation algorithms\n",
    "communities = list(nx.algorithms.community.label_propagation_communities(G)) \n",
    "\n",
    "# Convert results to DataFrame\n",
    "product_groups = pd.DataFrame({'Product': list(G.nodes()), 'Group': [idx for idx, com in enumerate(communities) for node in com]}) \n",
    "print(product_groups) \n",
    "\n",
    "# Create a table to display product groupings\n",
    "table_data = go.Table( \n",
    "    header=dict(values=['Product', 'Group']), \n",
    "    cells=dict(values=[product_groups['Product'], product_groups['Group']]) \n",
    ") \n",
    "\n",
    "\n",
    "layout = go.Layout(title='Product Groups') \n",
    "fig = go.Figure(data=table_data, layout=layout) \n",
    "fig.show()\n"
   ]
  },
  {
   "cell_type": "code",
   "execution_count": 5,
   "metadata": {},
   "outputs": [
    {
     "name": "stderr",
     "output_type": "stream",
     "text": [
      "C:\\Users\\apple\\AppData\\Local\\Temp\\ipykernel_15092\\2386259917.py:18: DeprecationWarning: read_transaction has been renamed to execute_read\n",
      "  data = session.read_transaction(get_data)\n"
     ]
    },
    {
     "name": "stdout",
     "output_type": "stream",
     "text": [
      "                                               Product  Group\n",
      "0       Coca - Cola Classic  Soft Drink Multipack Cans      0\n",
      "1            Coca - Cola Classic  Soft Drink Mini Cans      0\n",
      "2       Coca - Cola Vanilla  Soft Drink Multipack Cans      0\n",
      "3     Coca - Cola Zero Sugar Soft Drink Multipack Cans      0\n",
      "4    Coca - Cola Caffeine Free Zero Sugar Soft Drin...      0\n",
      "..                                                 ...    ...\n",
      "406                                      Diced Peaches     36\n",
      "407                                Refined Fruit Juice     37\n",
      "408                                          Pineapple     37\n",
      "409                                    Pineapple Juice     37\n",
      "410              Clarified Pineapple Juice Concentrate     37\n",
      "\n",
      "[411 rows x 2 columns]\n"
     ]
    },
    {
     "data": {
      "application/vnd.plotly.v1+json": {
       "config": {
        "plotlyServerURL": "https://plot.ly"
       },
       "data": [
        {
         "cells": {
          "values": [
           [
            "Coca - Cola Classic  Soft Drink Multipack Cans",
            "Coca - Cola Classic  Soft Drink Mini Cans",
            "Coca - Cola Vanilla  Soft Drink Multipack Cans",
            "Coca - Cola Zero Sugar Soft Drink Multipack Cans",
            "Coca - Cola Caffeine Free Zero Sugar Soft Drink Multipack Cans",
            "Coca - Cola Zero Sugar Soft Drink Mini Cans",
            "Indomie Mi Goreng Instant Noodles",
            "Maggi 2 Minute Chicken Flavour Instant Noodles",
            "Supreme Noodles Cup Chicken Flavour",
            "Fantastic Chicken Noodle Cup",
            "Fantastic Chicken Noodle Bowl",
            "Indomie Mi Goreng Noodle Cup",
            "Maggi 2 Minute Beef Flavour Instant Noodles",
            "Supreme Noodles Cup Beef Flavour",
            "Schweppes Zero Sugar Lime Infused Mineral Water Bottle",
            "Schweppes Raspberry Infused Natural Mineral Water Bottle",
            "Schweppes Natural Mineral Water Bottle Natural",
            "Schweppes Soda Water Bottle Classic Mixers",
            "Schweppes Indian Tonic Water Classic Mixers Bottle",
            "Schweppes Lime Soda Water With Lime Juice Bottle",
            "Schweppes Zero Sugar Classic Mixers Indian Tonic Water Bottle",
            "Schweppes Lemon Lime Natural Mineral Water Bottle",
            "Schweppes Orange Mango Natural Mineral Water Bottle",
            "Kitkat 4 Finger Milk Chocolate Bar",
            "Kitkat Chunky Original Chocolate Bar",
            "Cadbury Dairy Milk Caramello Koala Chocolate",
            "Twix Milk Chocolate Bar With Caramel Biscuit",
            "Mars Chocolate Bar With Nougat & Caramel",
            "Cadbury Dairy Milk Chocolate Roll",
            "Cadbury Dairy Milk Chocolate Bar",
            "Cadbury Twirl Chocolate Bar",
            "Cadbury Chomp Chocolate Bar",
            "Arnott's Premier Chocolate Chip Cookies",
            "Woolworths Chocolate Chip Cookies",
            "Woolworths The King Of Chunky Chocolate Chip Cookies",
            "Arnott's Mini Choc Chip Cookie Multipack Biscuits",
            "Oreo Original Mini Cookies Multipack",
            "Oreo Minis Cookies Variety Bags 18 Pack",
            "Cadbury Classic Choc Chip Cookies",
            "Cadbury Choc Centre Cookies",
            "Byron Bay Cookies Dotty Cookie Bites",
            "Oreo Original Cookies",
            "Rimmel Scandaleyes Eye Definer Brown",
            "Woolworths Apple Juice",
            "Woolworths Apple & Mango Juice",
            "Woolworths Orange Juice",
            "Woolworths Breakfast Juice",
            "Woolworths Apple & Blackcurrant Juice",
            "Woolworths Multivitamin Juice",
            "Golden Circle Golden Pash Fruit Drink",
            "Golden Circle Drinks Pine Orange Fruit Drink",
            "Golden Circle Drinks Sunshine Punch Fruit Drink",
            "Golden Circle Fruit Drinks Lunch Box Poppers Tropical Punch Multipack",
            "Woolworths Full Cream Milk",
            "Dairy Farmers Full Cream Milk Full Cream Milk",
            "Norco Full Cream Milk",
            "A2 Milk Full Cream Milk",
            "Pauls Farmhouse Gold Full Cream Milk",
            "Oreo Double Stuff Cookies",
            "Oreo Original Cookies Family Pack",
            "Oreo Chocolate Cookies",
            "Oreo Grab & Go Original Cookies 9 Pack",
            "Oreo Neapolitan Double Stuff Cookies",
            "Woolworths Diced Italian Tomatoes",
            "Woolworths Lasagne Sheets",
            "Essentials Coconut Cream",
            "Woolworths Uht Full Cream Milk",
            "Deep Cove Sardines In Oil",
            "Woolworths Creamed Rice",
            "Essentials Coconut Milk",
            "Woolworths Tomato Sauce Squeeze",
            "Woolworths Tomato Sauce",
            "Woolworths Barbecue Sauce Squeeze",
            "Masterfoods Tomato Sauce",
            "Masterfoods Barbecue Sauce",
            "Fountain Tomato Sauce Squeeze",
            "Fountain Barbecue Bbq Sauce Squeeze",
            "Woolworths Secret Burger Sauce",
            "Heinz Ketchup Tomato Sauce Ketchup",
            "Woolworths Barbecue Sauce",
            "Woolworths Spring Water Bottles",
            "Woolworths Spring Water",
            "Frantelle Australian Still Spring Water Bottles Multipack",
            "Mount Franklin Spring Water Bottle",
            "Smith's Crinkle Cut Potato Chips Original",
            "Smith's Crinkle Cut Potato Chips Cheese & Onion",
            "Smith's Crinkle Cut Potato Chips Barbecue",
            "Smith's Crinkle Cut Potato Chips Chicken",
            "Thins Chips Salt & Vinegar",
            "Smith's Thinly Cut Potato Chips Original Share Pack",
            "Thins Chips Chicken",
            "Smith's Crinkle Cut Potato Chips Salt & Vinegar",
            "Thins Chips Light & Tangy",
            "Thins Cheese & Onion Chips",
            "Woolworths Peach In Strawberry Jelly",
            "Woolworths Two Fruits In Juice Cups",
            "Woolworths Two Fruits In Juice",
            "Woolworths Two Fruits In Tropical Jelly",
            "Woolworths Apple In Pineapple Jelly",
            "Goulburn Valley Two Fruits In Juice",
            "Dole Pineapple Slices In Syrup",
            "Dole Pineapple Chunks In Juice",
            "Goulburn Valley Two Fruits In Juice Fruit Cups In Juice",
            "Carbonated Water",
            "Sugar",
            "Colouring Agent 150d",
            "Phosphoric Acid",
            "Flavour",
            "Caffeine",
            "Sodium Citrate",
            "Aspartame",
            "Acesulfame Potassium",
            "Sweetener 952",
            "Wheat Flour",
            "Refined Palm Oil",
            "Salt",
            "Acidity Regulator 451",
            "Acidity Regulator 501",
            "Sodium Bicarbonate",
            "Guar Gum",
            "Colour 101",
            "Seasoning Powder",
            "Flavour Enhancer 621",
            "Disodium Guanylate",
            "Garlic Powder",
            "Onion Powder",
            "Yeast Extract",
            "Artificial Flavour",
            "Pepper",
            "Anti Caking Agent 551",
            "Seasoning Oil",
            "Onion",
            "Sweet Soy Sauce",
            "Water",
            "Wheat",
            "Soy Bean",
            "Spices",
            "Sesame Oil",
            "Chilli Sauce",
            "Chilli",
            "Tapioca Starch",
            "Acetic Acid",
            "Citric Acid",
            "Herbs",
            "Preservative 1211",
            "Sodium Metabisulfite",
            "Fried Onion",
            "TBHQ",
            "Disodium Inosinate",
            "Vegetable Oil",
            "Antioxidant 320",
            "Mineral Salt 508",
            "Mineral Salt 451",
            "Flavour Enhancer 635",
            "Iodised Salt",
            "Maltodextrin",
            "Flavours Wheat",
            "Flavours Soy",
            "Vegetable Fat",
            "Parsley Flakes",
            "Turmeric",
            "Caramel III",
            "Coriander",
            "Cumin",
            "Spice Cardamom",
            "Spice Chilli Powder",
            "Spice Ginger",
            "Flavour Celery",
            "Mineral Salt 501",
            "Mineral Salt 500",
            "Potassium Chloride",
            "Potato Starch",
            "Parsley",
            "Burnt Sugar",
            "Gluten Wheat",
            "Soy",
            "Curcumin",
            "Flavour Sachet",
            "Vegetable Sachet",
            "Dehydrated Vegetables",
            "Modified Starch 1420",
            "Mineral Salt 450",
            "Basil",
            "Colouring Agent 100",
            "Antioxidant 307b",
            "Flavours",
            "Soy Sauce Powder",
            "White Pepper",
            "Rosemary",
            "Colouring Agent 150c",
            "Caramel Color",
            "Carbonated Mineral Water",
            "Natural Flavours",
            "Natural Mineral Water",
            "Potassium Bicarbonate",
            "Natural Flavour Orange Peel Extract",
            "Natural Flavour Citrus Oils",
            "Natural Flavour Botanical Extracts",
            "Natural Flavour Lemon Peel Extract",
            "Quinine",
            "Natural Flavour Lime Oils",
            "Sodium Benzoate",
            "Plant Extract Gardenia",
            "Plant Extract Carthamus",
            "Sulphites",
            "Reconstituted Lime Juice",
            "",
            "Potassium Sorbate",
            "Safflower Extract",
            "Reconstituted Lemon Juice",
            "Ascorbic Acid",
            "Carminic Acid",
            "Lutein",
            "Antioxidant 385",
            "Reconstituted Mango Juice",
            "Reconstituted Fruit Juice Orange",
            "Milk Solids",
            "Cocoa Butter",
            "Emulsifier Soy Lecithin",
            "Cocoa Mass",
            "Milk",
            "Polyglycerol Polyricinoleate",
            "Cocoa",
            "Yeast",
            "Processing Aid Wheat",
            "Choc Paste",
            "Full Cream Milk",
            "Glucose Syrup",
            "Sweetened Condensed Milk",
            "Golden Syrup",
            "Invert Sugar",
            "Acidity Regulator 331",
            "Milk Chocolate",
            "Caramel",
            "Biscuit",
            "Wheat Glucose Syrup",
            "Barley Malt Extract",
            "Egg White",
            "Natural Flavour Vanilla Extract",
            "Cocoa Powder",
            "Sorbitan Tristearate",
            "Emulsifier 471",
            "Enzymes",
            "Polyglycerol polyricinoleate",
            "Desiccated Coconut",
            "Wheat Starch",
            "Baking Powder",
            "Colouring Agent Caramel IV",
            "Antioxidant E307B",
            "Dark Compound Chocolate Chips",
            "Palm Oil",
            "Cocoa Solids",
            "Natural Flavour",
            "Wheaten Corn Flour",
            "Whole Egg Powder",
            "Milk Whey Powder",
            "Annatto Extracts",
            "Sodium Carbonate",
            "Ammonium Carbonate",
            "Dark Chocolate Chips",
            "Natural Vanilla Flavour",
            "Milk Butter",
            "Natural Flavour Vanilla",
            "Natural Flavour Butter",
            "Chocolate Chips",
            "Skim Milk Powder",
            "Fructose Syrup",
            "Cornstarch",
            "Ammonium Bicarbonate",
            "Mineral Iron",
            "Zinc",
            "Riboflavin",
            "Thiamin",
            "Folate",
            "Strawberry",
            "Carmine",
            "Milk Chocolate Chips",
            "Dextrose",
            "Emulsifier 442",
            "Egg",
            "Stabiliser 422",
            "Soybean Fibre",
            "Thickener 1422",
            "Raising Agent 450",
            "Colouring Agent 160a",
            "Thickener 1414",
            "Milk Compound Chocolate",
            "Glazing Agent 414",
            "Carnauba Wax",
            "Colouring Agent Titan White",
            "Colouring Agent Spirulina Extract",
            "Beta carotene",
            "Red Beetroot Powder",
            "Black Carrot Extract",
            "Cultured Dextrose",
            "Maize Starch",
            "Polyethylene",
            "Synthetic Wax",
            "Bis-Diglyceryl Polyacyladipate-2",
            "Polybutene",
            "Silica",
            "Octyldodecanol",
            "Pentaerythrityl Tetra-di-t-butyl Hydroxyhydrocinnamate",
            "Mica",
            "Ultramarines",
            "Iron Oxides",
            "Titanium Dioxide",
            "Ferric Ferrocyanide",
            "Reconstituted Apple Juice",
            "Vitamin C",
            "Reconstituted Fruit Juice Pineapple",
            "Reconstituted Fruit Juice Passionfruit",
            "Carboxymethyl Cellulose",
            "Reconstituted Fruit Juice Blackcurrant",
            "Anthocyanins",
            "Reconstituted Fruit Juice Grape",
            "Reconstituted Fruit Juice Apricot",
            "Reconstituted Fruit Juice Peach",
            "Reconstituted Fruit Juice Pear",
            "Guava Puree",
            "Vitamin A",
            "Potassium Citrate",
            "Pectin",
            "Reconstituted Fruit Juice Water Extracted Orange",
            "Reconstituted Fruit Juice Peach Purée",
            "Pasteurised Homogenised Milk",
            "Cream",
            "Fructose",
            "Syrup",
            "Tomato Juice",
            "Tomatoes",
            "Durum Wheat Semolina",
            "Coconut Extract",
            "Homogenised Full Cream Milk",
            "Sardines",
            "Rice",
            "Skim Milk",
            "Acidity Regulator 339",
            "Reconstituted Tomato Puree",
            "Thickener Modified Corn Starch",
            "Spice Extract",
            "Reconstituted Fruit Puree",
            "Apple Pulp",
            "Tomato Paste",
            "Molasses",
            "Caramel I",
            "Smoke Flavour",
            "Xanthan Gum",
            "Wheat Cornflour",
            "Caramel Color 150c",
            "Tamarind Paste",
            "Clove",
            "Nutmeg",
            "Tomato Puree",
            "Maize Thickener 1422",
            "Maize Maltodextrin",
            "Canola Oil",
            "Vinegar",
            "Free Range Egg Yolk",
            "Gherkin",
            "Carotene",
            "Paprika Oleoresins",
            "Dill",
            "Herb Extract",
            "Mustard Oil",
            "White Vinegar",
            "Reconstituted Fruit Puree Apple",
            "Reconstituted Fruit Puree Tomato Paste",
            "Natural Spring Water",
            "Australian Spring Water",
            "Potatoes",
            "Sunflower Oil",
            "Antioxidant Tocopherols",
            "Antioxidant Rosemary Extract",
            "Cheese Powder",
            "Flavoured Milk",
            "Tomato Powder",
            "Sodium Diacetate",
            "Paprika",
            "Flavour Enhancer 620",
            "Glucose",
            "Vegetable Powder Garlic",
            "Milk Lactose",
            "Vegetable Powder Tomato",
            "Garam Masala",
            "Buttermilk Powder",
            "Lactic Acid",
            "Paprika Extract",
            "Carrageenan",
            "Locust Bean Gum",
            "Calcium Lactate",
            "Malic Acid",
            "Natural Strawberry Flavour",
            "Cochineal",
            "Fruit Peach",
            "Pear",
            "Reconstituted Refined Juice Concentrated Pear Juice",
            "Refined Fruit Juice Apple",
            "Refined Fruit Juice Grape",
            "Refined Fruit Juice Peach",
            "Refined Fruit Juice Pear",
            "Natural Flavour Pineapple",
            "Natural Flavour Mango",
            "Jelly Natural Pineapple Flavour",
            "Apple",
            "Diced Pears",
            "Diced Peaches",
            "Refined Fruit Juice",
            "Pineapple",
            "Pineapple Juice",
            "Clarified Pineapple Juice Concentrate"
           ],
           [
            0,
            0,
            0,
            0,
            0,
            1,
            1,
            1,
            1,
            1,
            1,
            1,
            1,
            1,
            1,
            1,
            1,
            1,
            1,
            1,
            1,
            2,
            2,
            2,
            2,
            2,
            2,
            2,
            2,
            2,
            2,
            2,
            2,
            2,
            2,
            2,
            2,
            2,
            2,
            2,
            2,
            2,
            2,
            2,
            2,
            2,
            3,
            3,
            3,
            3,
            3,
            3,
            3,
            3,
            3,
            3,
            3,
            3,
            3,
            3,
            3,
            3,
            3,
            3,
            3,
            3,
            3,
            3,
            3,
            3,
            3,
            3,
            3,
            3,
            3,
            3,
            3,
            3,
            3,
            3,
            3,
            3,
            3,
            3,
            3,
            3,
            3,
            3,
            3,
            3,
            3,
            3,
            3,
            3,
            3,
            3,
            3,
            3,
            3,
            3,
            3,
            3,
            4,
            4,
            4,
            4,
            4,
            4,
            4,
            5,
            5,
            5,
            5,
            5,
            5,
            5,
            5,
            5,
            6,
            6,
            6,
            6,
            6,
            6,
            6,
            6,
            6,
            6,
            6,
            6,
            6,
            6,
            6,
            6,
            6,
            6,
            6,
            6,
            6,
            6,
            6,
            6,
            6,
            6,
            6,
            6,
            6,
            6,
            6,
            6,
            6,
            6,
            6,
            6,
            7,
            7,
            8,
            8,
            9,
            9,
            9,
            9,
            9,
            9,
            9,
            9,
            9,
            9,
            9,
            9,
            9,
            9,
            9,
            9,
            9,
            10,
            10,
            10,
            10,
            10,
            10,
            10,
            10,
            10,
            10,
            10,
            10,
            10,
            10,
            10,
            10,
            10,
            10,
            10,
            10,
            10,
            10,
            10,
            10,
            10,
            10,
            10,
            10,
            10,
            10,
            10,
            10,
            10,
            10,
            10,
            10,
            10,
            10,
            10,
            10,
            10,
            10,
            10,
            10,
            10,
            10,
            10,
            10,
            11,
            11,
            11,
            11,
            11,
            11,
            11,
            11,
            11,
            11,
            11,
            11,
            11,
            11,
            11,
            11,
            11,
            11,
            11,
            11,
            11,
            11,
            11,
            11,
            11,
            11,
            11,
            11,
            12,
            12,
            12,
            12,
            13,
            13,
            13,
            13,
            13,
            13,
            14,
            14,
            14,
            14,
            14,
            14,
            14,
            14,
            15,
            15,
            15,
            15,
            15,
            15,
            16,
            16,
            16,
            16,
            16,
            16,
            16,
            16,
            16,
            16,
            16,
            16,
            17,
            17,
            17,
            17,
            17,
            17,
            17,
            17,
            17,
            17,
            17,
            17,
            17,
            18,
            18,
            18,
            18,
            18,
            18,
            18,
            18,
            19,
            19,
            20,
            20,
            21,
            21,
            22,
            22,
            23,
            23,
            23,
            23,
            24,
            24,
            25,
            25,
            25,
            25,
            25,
            25,
            25,
            26,
            26,
            26,
            26,
            26,
            26,
            26,
            26,
            26,
            26,
            26,
            27,
            27,
            27,
            27,
            27,
            27,
            27,
            28,
            28,
            28,
            29,
            29,
            29,
            29,
            29,
            29,
            29,
            29,
            30,
            30,
            30,
            31,
            31,
            31,
            32,
            32,
            32,
            33,
            33,
            33,
            33,
            33,
            33,
            33,
            33,
            34,
            34,
            34,
            34,
            34,
            34,
            34,
            34,
            34,
            34,
            34,
            34,
            34,
            34,
            34,
            34,
            34,
            34,
            34,
            34,
            34,
            35,
            35,
            35,
            35,
            35,
            35,
            36,
            36,
            36,
            36,
            36,
            37,
            37,
            37,
            37
           ]
          ]
         },
         "header": {
          "values": [
           "Product",
           "Group"
          ]
         },
         "type": "table"
        }
       ],
       "layout": {
        "template": {
         "data": {
          "bar": [
           {
            "error_x": {
             "color": "#2a3f5f"
            },
            "error_y": {
             "color": "#2a3f5f"
            },
            "marker": {
             "line": {
              "color": "#E5ECF6",
              "width": 0.5
             },
             "pattern": {
              "fillmode": "overlay",
              "size": 10,
              "solidity": 0.2
             }
            },
            "type": "bar"
           }
          ],
          "barpolar": [
           {
            "marker": {
             "line": {
              "color": "#E5ECF6",
              "width": 0.5
             },
             "pattern": {
              "fillmode": "overlay",
              "size": 10,
              "solidity": 0.2
             }
            },
            "type": "barpolar"
           }
          ],
          "carpet": [
           {
            "aaxis": {
             "endlinecolor": "#2a3f5f",
             "gridcolor": "white",
             "linecolor": "white",
             "minorgridcolor": "white",
             "startlinecolor": "#2a3f5f"
            },
            "baxis": {
             "endlinecolor": "#2a3f5f",
             "gridcolor": "white",
             "linecolor": "white",
             "minorgridcolor": "white",
             "startlinecolor": "#2a3f5f"
            },
            "type": "carpet"
           }
          ],
          "choropleth": [
           {
            "colorbar": {
             "outlinewidth": 0,
             "ticks": ""
            },
            "type": "choropleth"
           }
          ],
          "contour": [
           {
            "colorbar": {
             "outlinewidth": 0,
             "ticks": ""
            },
            "colorscale": [
             [
              0,
              "#0d0887"
             ],
             [
              0.1111111111111111,
              "#46039f"
             ],
             [
              0.2222222222222222,
              "#7201a8"
             ],
             [
              0.3333333333333333,
              "#9c179e"
             ],
             [
              0.4444444444444444,
              "#bd3786"
             ],
             [
              0.5555555555555556,
              "#d8576b"
             ],
             [
              0.6666666666666666,
              "#ed7953"
             ],
             [
              0.7777777777777778,
              "#fb9f3a"
             ],
             [
              0.8888888888888888,
              "#fdca26"
             ],
             [
              1,
              "#f0f921"
             ]
            ],
            "type": "contour"
           }
          ],
          "contourcarpet": [
           {
            "colorbar": {
             "outlinewidth": 0,
             "ticks": ""
            },
            "type": "contourcarpet"
           }
          ],
          "heatmap": [
           {
            "colorbar": {
             "outlinewidth": 0,
             "ticks": ""
            },
            "colorscale": [
             [
              0,
              "#0d0887"
             ],
             [
              0.1111111111111111,
              "#46039f"
             ],
             [
              0.2222222222222222,
              "#7201a8"
             ],
             [
              0.3333333333333333,
              "#9c179e"
             ],
             [
              0.4444444444444444,
              "#bd3786"
             ],
             [
              0.5555555555555556,
              "#d8576b"
             ],
             [
              0.6666666666666666,
              "#ed7953"
             ],
             [
              0.7777777777777778,
              "#fb9f3a"
             ],
             [
              0.8888888888888888,
              "#fdca26"
             ],
             [
              1,
              "#f0f921"
             ]
            ],
            "type": "heatmap"
           }
          ],
          "heatmapgl": [
           {
            "colorbar": {
             "outlinewidth": 0,
             "ticks": ""
            },
            "colorscale": [
             [
              0,
              "#0d0887"
             ],
             [
              0.1111111111111111,
              "#46039f"
             ],
             [
              0.2222222222222222,
              "#7201a8"
             ],
             [
              0.3333333333333333,
              "#9c179e"
             ],
             [
              0.4444444444444444,
              "#bd3786"
             ],
             [
              0.5555555555555556,
              "#d8576b"
             ],
             [
              0.6666666666666666,
              "#ed7953"
             ],
             [
              0.7777777777777778,
              "#fb9f3a"
             ],
             [
              0.8888888888888888,
              "#fdca26"
             ],
             [
              1,
              "#f0f921"
             ]
            ],
            "type": "heatmapgl"
           }
          ],
          "histogram": [
           {
            "marker": {
             "pattern": {
              "fillmode": "overlay",
              "size": 10,
              "solidity": 0.2
             }
            },
            "type": "histogram"
           }
          ],
          "histogram2d": [
           {
            "colorbar": {
             "outlinewidth": 0,
             "ticks": ""
            },
            "colorscale": [
             [
              0,
              "#0d0887"
             ],
             [
              0.1111111111111111,
              "#46039f"
             ],
             [
              0.2222222222222222,
              "#7201a8"
             ],
             [
              0.3333333333333333,
              "#9c179e"
             ],
             [
              0.4444444444444444,
              "#bd3786"
             ],
             [
              0.5555555555555556,
              "#d8576b"
             ],
             [
              0.6666666666666666,
              "#ed7953"
             ],
             [
              0.7777777777777778,
              "#fb9f3a"
             ],
             [
              0.8888888888888888,
              "#fdca26"
             ],
             [
              1,
              "#f0f921"
             ]
            ],
            "type": "histogram2d"
           }
          ],
          "histogram2dcontour": [
           {
            "colorbar": {
             "outlinewidth": 0,
             "ticks": ""
            },
            "colorscale": [
             [
              0,
              "#0d0887"
             ],
             [
              0.1111111111111111,
              "#46039f"
             ],
             [
              0.2222222222222222,
              "#7201a8"
             ],
             [
              0.3333333333333333,
              "#9c179e"
             ],
             [
              0.4444444444444444,
              "#bd3786"
             ],
             [
              0.5555555555555556,
              "#d8576b"
             ],
             [
              0.6666666666666666,
              "#ed7953"
             ],
             [
              0.7777777777777778,
              "#fb9f3a"
             ],
             [
              0.8888888888888888,
              "#fdca26"
             ],
             [
              1,
              "#f0f921"
             ]
            ],
            "type": "histogram2dcontour"
           }
          ],
          "mesh3d": [
           {
            "colorbar": {
             "outlinewidth": 0,
             "ticks": ""
            },
            "type": "mesh3d"
           }
          ],
          "parcoords": [
           {
            "line": {
             "colorbar": {
              "outlinewidth": 0,
              "ticks": ""
             }
            },
            "type": "parcoords"
           }
          ],
          "pie": [
           {
            "automargin": true,
            "type": "pie"
           }
          ],
          "scatter": [
           {
            "fillpattern": {
             "fillmode": "overlay",
             "size": 10,
             "solidity": 0.2
            },
            "type": "scatter"
           }
          ],
          "scatter3d": [
           {
            "line": {
             "colorbar": {
              "outlinewidth": 0,
              "ticks": ""
             }
            },
            "marker": {
             "colorbar": {
              "outlinewidth": 0,
              "ticks": ""
             }
            },
            "type": "scatter3d"
           }
          ],
          "scattercarpet": [
           {
            "marker": {
             "colorbar": {
              "outlinewidth": 0,
              "ticks": ""
             }
            },
            "type": "scattercarpet"
           }
          ],
          "scattergeo": [
           {
            "marker": {
             "colorbar": {
              "outlinewidth": 0,
              "ticks": ""
             }
            },
            "type": "scattergeo"
           }
          ],
          "scattergl": [
           {
            "marker": {
             "colorbar": {
              "outlinewidth": 0,
              "ticks": ""
             }
            },
            "type": "scattergl"
           }
          ],
          "scattermapbox": [
           {
            "marker": {
             "colorbar": {
              "outlinewidth": 0,
              "ticks": ""
             }
            },
            "type": "scattermapbox"
           }
          ],
          "scatterpolar": [
           {
            "marker": {
             "colorbar": {
              "outlinewidth": 0,
              "ticks": ""
             }
            },
            "type": "scatterpolar"
           }
          ],
          "scatterpolargl": [
           {
            "marker": {
             "colorbar": {
              "outlinewidth": 0,
              "ticks": ""
             }
            },
            "type": "scatterpolargl"
           }
          ],
          "scatterternary": [
           {
            "marker": {
             "colorbar": {
              "outlinewidth": 0,
              "ticks": ""
             }
            },
            "type": "scatterternary"
           }
          ],
          "surface": [
           {
            "colorbar": {
             "outlinewidth": 0,
             "ticks": ""
            },
            "colorscale": [
             [
              0,
              "#0d0887"
             ],
             [
              0.1111111111111111,
              "#46039f"
             ],
             [
              0.2222222222222222,
              "#7201a8"
             ],
             [
              0.3333333333333333,
              "#9c179e"
             ],
             [
              0.4444444444444444,
              "#bd3786"
             ],
             [
              0.5555555555555556,
              "#d8576b"
             ],
             [
              0.6666666666666666,
              "#ed7953"
             ],
             [
              0.7777777777777778,
              "#fb9f3a"
             ],
             [
              0.8888888888888888,
              "#fdca26"
             ],
             [
              1,
              "#f0f921"
             ]
            ],
            "type": "surface"
           }
          ],
          "table": [
           {
            "cells": {
             "fill": {
              "color": "#EBF0F8"
             },
             "line": {
              "color": "white"
             }
            },
            "header": {
             "fill": {
              "color": "#C8D4E3"
             },
             "line": {
              "color": "white"
             }
            },
            "type": "table"
           }
          ]
         },
         "layout": {
          "annotationdefaults": {
           "arrowcolor": "#2a3f5f",
           "arrowhead": 0,
           "arrowwidth": 1
          },
          "autotypenumbers": "strict",
          "coloraxis": {
           "colorbar": {
            "outlinewidth": 0,
            "ticks": ""
           }
          },
          "colorscale": {
           "diverging": [
            [
             0,
             "#8e0152"
            ],
            [
             0.1,
             "#c51b7d"
            ],
            [
             0.2,
             "#de77ae"
            ],
            [
             0.3,
             "#f1b6da"
            ],
            [
             0.4,
             "#fde0ef"
            ],
            [
             0.5,
             "#f7f7f7"
            ],
            [
             0.6,
             "#e6f5d0"
            ],
            [
             0.7,
             "#b8e186"
            ],
            [
             0.8,
             "#7fbc41"
            ],
            [
             0.9,
             "#4d9221"
            ],
            [
             1,
             "#276419"
            ]
           ],
           "sequential": [
            [
             0,
             "#0d0887"
            ],
            [
             0.1111111111111111,
             "#46039f"
            ],
            [
             0.2222222222222222,
             "#7201a8"
            ],
            [
             0.3333333333333333,
             "#9c179e"
            ],
            [
             0.4444444444444444,
             "#bd3786"
            ],
            [
             0.5555555555555556,
             "#d8576b"
            ],
            [
             0.6666666666666666,
             "#ed7953"
            ],
            [
             0.7777777777777778,
             "#fb9f3a"
            ],
            [
             0.8888888888888888,
             "#fdca26"
            ],
            [
             1,
             "#f0f921"
            ]
           ],
           "sequentialminus": [
            [
             0,
             "#0d0887"
            ],
            [
             0.1111111111111111,
             "#46039f"
            ],
            [
             0.2222222222222222,
             "#7201a8"
            ],
            [
             0.3333333333333333,
             "#9c179e"
            ],
            [
             0.4444444444444444,
             "#bd3786"
            ],
            [
             0.5555555555555556,
             "#d8576b"
            ],
            [
             0.6666666666666666,
             "#ed7953"
            ],
            [
             0.7777777777777778,
             "#fb9f3a"
            ],
            [
             0.8888888888888888,
             "#fdca26"
            ],
            [
             1,
             "#f0f921"
            ]
           ]
          },
          "colorway": [
           "#636efa",
           "#EF553B",
           "#00cc96",
           "#ab63fa",
           "#FFA15A",
           "#19d3f3",
           "#FF6692",
           "#B6E880",
           "#FF97FF",
           "#FECB52"
          ],
          "font": {
           "color": "#2a3f5f"
          },
          "geo": {
           "bgcolor": "white",
           "lakecolor": "white",
           "landcolor": "#E5ECF6",
           "showlakes": true,
           "showland": true,
           "subunitcolor": "white"
          },
          "hoverlabel": {
           "align": "left"
          },
          "hovermode": "closest",
          "mapbox": {
           "style": "light"
          },
          "paper_bgcolor": "white",
          "plot_bgcolor": "#E5ECF6",
          "polar": {
           "angularaxis": {
            "gridcolor": "white",
            "linecolor": "white",
            "ticks": ""
           },
           "bgcolor": "#E5ECF6",
           "radialaxis": {
            "gridcolor": "white",
            "linecolor": "white",
            "ticks": ""
           }
          },
          "scene": {
           "xaxis": {
            "backgroundcolor": "#E5ECF6",
            "gridcolor": "white",
            "gridwidth": 2,
            "linecolor": "white",
            "showbackground": true,
            "ticks": "",
            "zerolinecolor": "white"
           },
           "yaxis": {
            "backgroundcolor": "#E5ECF6",
            "gridcolor": "white",
            "gridwidth": 2,
            "linecolor": "white",
            "showbackground": true,
            "ticks": "",
            "zerolinecolor": "white"
           },
           "zaxis": {
            "backgroundcolor": "#E5ECF6",
            "gridcolor": "white",
            "gridwidth": 2,
            "linecolor": "white",
            "showbackground": true,
            "ticks": "",
            "zerolinecolor": "white"
           }
          },
          "shapedefaults": {
           "line": {
            "color": "#2a3f5f"
           }
          },
          "ternary": {
           "aaxis": {
            "gridcolor": "white",
            "linecolor": "white",
            "ticks": ""
           },
           "baxis": {
            "gridcolor": "white",
            "linecolor": "white",
            "ticks": ""
           },
           "bgcolor": "#E5ECF6",
           "caxis": {
            "gridcolor": "white",
            "linecolor": "white",
            "ticks": ""
           }
          },
          "title": {
           "x": 0.05
          },
          "xaxis": {
           "automargin": true,
           "gridcolor": "white",
           "linecolor": "white",
           "ticks": "",
           "title": {
            "standoff": 15
           },
           "zerolinecolor": "white",
           "zerolinewidth": 2
          },
          "yaxis": {
           "automargin": true,
           "gridcolor": "white",
           "linecolor": "white",
           "ticks": "",
           "title": {
            "standoff": 15
           },
           "zerolinecolor": "white",
           "zerolinewidth": 2
          }
         }
        },
        "title": {
         "text": "Product Groups"
        }
       }
      }
     },
     "metadata": {},
     "output_type": "display_data"
    },
    {
     "data": {
      "application/vnd.plotly.v1+json": {
       "config": {
        "plotlyServerURL": "https://plot.ly"
       },
       "data": [
        {
         "cells": {
          "values": [
           [
            0,
            1,
            2,
            3,
            4,
            5,
            6,
            7,
            8,
            9,
            10,
            11,
            12,
            13,
            14,
            15,
            16,
            17,
            18,
            19,
            20,
            21,
            22,
            23,
            24,
            25,
            26,
            27,
            28,
            29,
            30,
            31,
            32,
            33,
            34,
            35,
            36,
            37
           ],
           [
            "Coca - Cola Classic  Soft Drink Multipack Cans, Coca - Cola Classic  Soft Drink Mini Cans, Coca - Cola Vanilla  Soft Drink Multipack Cans, Coca - Cola Zero Sugar Soft Drink Multipack Cans, Coca - Cola Caffeine Free Zero Sugar Soft Drink Multipack Cans",
            "Coca - Cola Zero Sugar Soft Drink Mini Cans, Indomie Mi Goreng Instant Noodles, Maggi 2 Minute Chicken Flavour Instant Noodles, Supreme Noodles Cup Chicken Flavour, Fantastic Chicken Noodle Cup, Fantastic Chicken Noodle Bowl, Indomie Mi Goreng Noodle Cup, Maggi 2 Minute Beef Flavour Instant Noodles, Supreme Noodles Cup Beef Flavour, Schweppes Zero Sugar Lime Infused Mineral Water Bottle, Schweppes Raspberry Infused Natural Mineral Water Bottle, Schweppes Natural Mineral Water Bottle Natural, Schweppes Soda Water Bottle Classic Mixers, Schweppes Indian Tonic Water Classic Mixers Bottle, Schweppes Lime Soda Water With Lime Juice Bottle, Schweppes Zero Sugar Classic Mixers Indian Tonic Water Bottle",
            "Schweppes Lemon Lime Natural Mineral Water Bottle, Schweppes Orange Mango Natural Mineral Water Bottle, Kitkat 4 Finger Milk Chocolate Bar, Kitkat Chunky Original Chocolate Bar, Cadbury Dairy Milk Caramello Koala Chocolate, Twix Milk Chocolate Bar With Caramel Biscuit, Mars Chocolate Bar With Nougat & Caramel, Cadbury Dairy Milk Chocolate Roll, Cadbury Dairy Milk Chocolate Bar, Cadbury Twirl Chocolate Bar, Cadbury Chomp Chocolate Bar, Arnott's Premier Chocolate Chip Cookies, Woolworths Chocolate Chip Cookies, Woolworths The King Of Chunky Chocolate Chip Cookies, Arnott's Mini Choc Chip Cookie Multipack Biscuits, Oreo Original Mini Cookies Multipack, Oreo Minis Cookies Variety Bags 18 Pack, Cadbury Classic Choc Chip Cookies, Cadbury Choc Centre Cookies, Byron Bay Cookies Dotty Cookie Bites, Oreo Original Cookies, Rimmel Scandaleyes Eye Definer Brown, Woolworths Apple Juice, Woolworths Apple & Mango Juice, Woolworths Orange Juice",
            "Woolworths Breakfast Juice, Woolworths Apple & Blackcurrant Juice, Woolworths Multivitamin Juice, Golden Circle Golden Pash Fruit Drink, Golden Circle Drinks Pine Orange Fruit Drink, Golden Circle Drinks Sunshine Punch Fruit Drink, Golden Circle Fruit Drinks Lunch Box Poppers Tropical Punch Multipack, Woolworths Full Cream Milk, Dairy Farmers Full Cream Milk Full Cream Milk, Norco Full Cream Milk, A2 Milk Full Cream Milk, Pauls Farmhouse Gold Full Cream Milk, Oreo Double Stuff Cookies, Oreo Original Cookies Family Pack, Oreo Chocolate Cookies, Oreo Grab & Go Original Cookies 9 Pack, Oreo Neapolitan Double Stuff Cookies, Woolworths Diced Italian Tomatoes, Woolworths Lasagne Sheets, Essentials Coconut Cream, Woolworths Uht Full Cream Milk, Deep Cove Sardines In Oil, Woolworths Creamed Rice, Essentials Coconut Milk, Woolworths Tomato Sauce Squeeze, Woolworths Tomato Sauce, Woolworths Barbecue Sauce Squeeze, Masterfoods Tomato Sauce, Masterfoods Barbecue Sauce, Fountain Tomato Sauce Squeeze, Fountain Barbecue Bbq Sauce Squeeze, Woolworths Secret Burger Sauce, Heinz Ketchup Tomato Sauce Ketchup, Woolworths Barbecue Sauce, Woolworths Spring Water Bottles, Woolworths Spring Water, Frantelle Australian Still Spring Water Bottles Multipack, Mount Franklin Spring Water Bottle, Smith's Crinkle Cut Potato Chips Original, Smith's Crinkle Cut Potato Chips Cheese & Onion, Smith's Crinkle Cut Potato Chips Barbecue, Smith's Crinkle Cut Potato Chips Chicken, Thins Chips Salt & Vinegar, Smith's Thinly Cut Potato Chips Original Share Pack, Thins Chips Chicken, Smith's Crinkle Cut Potato Chips Salt & Vinegar, Thins Chips Light & Tangy, Thins Cheese & Onion Chips, Woolworths Peach In Strawberry Jelly, Woolworths Two Fruits In Juice Cups, Woolworths Two Fruits In Juice, Woolworths Two Fruits In Tropical Jelly, Woolworths Apple In Pineapple Jelly, Goulburn Valley Two Fruits In Juice, Dole Pineapple Slices In Syrup, Dole Pineapple Chunks In Juice",
            "Goulburn Valley Two Fruits In Juice Fruit Cups In Juice, Carbonated Water, Sugar, Colouring Agent 150d, Phosphoric Acid, Flavour, Caffeine",
            "Sodium Citrate, Aspartame, Acesulfame Potassium, Sweetener 952, Wheat Flour, Refined Palm Oil, Salt, Acidity Regulator 451, Acidity Regulator 501",
            "Sodium Bicarbonate, Guar Gum, Colour 101, Seasoning Powder, Flavour Enhancer 621, Disodium Guanylate, Garlic Powder, Onion Powder, Yeast Extract, Artificial Flavour, Pepper, Anti Caking Agent 551, Seasoning Oil, Onion, Sweet Soy Sauce, Water, Wheat, Soy Bean, Spices, Sesame Oil, Chilli Sauce, Chilli, Tapioca Starch, Acetic Acid, Citric Acid, Herbs, Preservative 1211, Sodium Metabisulfite, Fried Onion, TBHQ, Disodium Inosinate, Vegetable Oil, Antioxidant 320, Mineral Salt 508, Mineral Salt 451, Flavour Enhancer 635",
            "Iodised Salt, Maltodextrin",
            "Flavours Wheat, Flavours Soy",
            "Vegetable Fat, Parsley Flakes, Turmeric, Caramel III, Coriander, Cumin, Spice Cardamom, Spice Chilli Powder, Spice Ginger, Flavour Celery, Mineral Salt 501, Mineral Salt 500, Potassium Chloride, Potato Starch, Parsley, Burnt Sugar, Gluten Wheat",
            "Soy, Curcumin, Flavour Sachet, Vegetable Sachet, Dehydrated Vegetables, Modified Starch 1420, Mineral Salt 450, Basil, Colouring Agent 100, Antioxidant 307b, Flavours, Soy Sauce Powder, White Pepper, Rosemary, Colouring Agent 150c, Caramel Color, Carbonated Mineral Water, Natural Flavours, Natural Mineral Water, Potassium Bicarbonate, Natural Flavour Orange Peel Extract, Natural Flavour Citrus Oils, Natural Flavour Botanical Extracts, Natural Flavour Lemon Peel Extract, Quinine, Natural Flavour Lime Oils, Sodium Benzoate, Plant Extract Gardenia, Plant Extract Carthamus, Sulphites, Reconstituted Lime Juice, , Potassium Sorbate, Safflower Extract, Reconstituted Lemon Juice, Ascorbic Acid, Carminic Acid, Lutein, Antioxidant 385, Reconstituted Mango Juice, Reconstituted Fruit Juice Orange, Milk Solids, Cocoa Butter, Emulsifier Soy Lecithin, Cocoa Mass, Milk, Polyglycerol Polyricinoleate, Cocoa",
            "Yeast, Processing Aid Wheat, Choc Paste, Full Cream Milk, Glucose Syrup, Sweetened Condensed Milk, Golden Syrup, Invert Sugar, Acidity Regulator 331, Milk Chocolate, Caramel, Biscuit, Wheat Glucose Syrup, Barley Malt Extract, Egg White, Natural Flavour Vanilla Extract, Cocoa Powder, Sorbitan Tristearate, Emulsifier 471, Enzymes, Polyglycerol polyricinoleate, Desiccated Coconut, Wheat Starch, Baking Powder, Colouring Agent Caramel IV, Antioxidant E307B, Dark Compound Chocolate Chips, Palm Oil",
            "Cocoa Solids, Natural Flavour, Wheaten Corn Flour, Whole Egg Powder",
            "Milk Whey Powder, Annatto Extracts, Sodium Carbonate, Ammonium Carbonate, Dark Chocolate Chips, Natural Vanilla Flavour",
            "Milk Butter, Natural Flavour Vanilla, Natural Flavour Butter, Chocolate Chips, Skim Milk Powder, Fructose Syrup, Cornstarch, Ammonium Bicarbonate",
            "Mineral Iron, Zinc, Riboflavin, Thiamin, Folate, Strawberry",
            "Carmine, Milk Chocolate Chips, Dextrose, Emulsifier 442, Egg, Stabiliser 422, Soybean Fibre, Thickener 1422, Raising Agent 450, Colouring Agent 160a, Thickener 1414, Milk Compound Chocolate",
            "Glazing Agent 414, Carnauba Wax, Colouring Agent Titan White, Colouring Agent Spirulina Extract, Beta carotene, Red Beetroot Powder, Black Carrot Extract, Cultured Dextrose, Maize Starch, Polyethylene, Synthetic Wax, Bis-Diglyceryl Polyacyladipate-2, Polybutene",
            "Silica, Octyldodecanol, Pentaerythrityl Tetra-di-t-butyl Hydroxyhydrocinnamate, Mica, Ultramarines, Iron Oxides, Titanium Dioxide, Ferric Ferrocyanide",
            "Reconstituted Apple Juice, Vitamin C",
            "Reconstituted Fruit Juice Pineapple, Reconstituted Fruit Juice Passionfruit",
            "Carboxymethyl Cellulose, Reconstituted Fruit Juice Blackcurrant",
            "Anthocyanins, Reconstituted Fruit Juice Grape",
            "Reconstituted Fruit Juice Apricot, Reconstituted Fruit Juice Peach, Reconstituted Fruit Juice Pear, Guava Puree",
            "Vitamin A, Potassium Citrate",
            "Pectin, Reconstituted Fruit Juice Water Extracted Orange, Reconstituted Fruit Juice Peach Purée, Pasteurised Homogenised Milk, Cream, Fructose, Syrup",
            "Tomato Juice, Tomatoes, Durum Wheat Semolina, Coconut Extract, Homogenised Full Cream Milk, Sardines, Rice, Skim Milk, Acidity Regulator 339, Reconstituted Tomato Puree, Thickener Modified Corn Starch",
            "Spice Extract, Reconstituted Fruit Puree, Apple Pulp, Tomato Paste, Molasses, Caramel I, Smoke Flavour",
            "Xanthan Gum, Wheat Cornflour, Caramel Color 150c",
            "Tamarind Paste, Clove, Nutmeg, Tomato Puree, Maize Thickener 1422, Maize Maltodextrin, Canola Oil, Vinegar",
            "Free Range Egg Yolk, Gherkin, Carotene",
            "Paprika Oleoresins, Dill, Herb Extract",
            "Mustard Oil, White Vinegar, Reconstituted Fruit Puree Apple",
            "Reconstituted Fruit Puree Tomato Paste, Natural Spring Water, Australian Spring Water, Potatoes, Sunflower Oil, Antioxidant Tocopherols, Antioxidant Rosemary Extract, Cheese Powder",
            "Flavoured Milk, Tomato Powder, Sodium Diacetate, Paprika, Flavour Enhancer 620, Glucose, Vegetable Powder Garlic, Milk Lactose, Vegetable Powder Tomato, Garam Masala, Buttermilk Powder, Lactic Acid, Paprika Extract, Carrageenan, Locust Bean Gum, Calcium Lactate, Malic Acid, Natural Strawberry Flavour, Cochineal, Fruit Peach, Pear",
            "Reconstituted Refined Juice Concentrated Pear Juice, Refined Fruit Juice Apple, Refined Fruit Juice Grape, Refined Fruit Juice Peach, Refined Fruit Juice Pear, Natural Flavour Pineapple",
            "Natural Flavour Mango, Jelly Natural Pineapple Flavour, Apple, Diced Pears, Diced Peaches",
            "Refined Fruit Juice, Pineapple, Pineapple Juice, Clarified Pineapple Juice Concentrate"
           ]
          ]
         },
         "header": {
          "values": [
           "Group",
           "Products"
          ]
         },
         "type": "table"
        }
       ],
       "layout": {
        "template": {
         "data": {
          "bar": [
           {
            "error_x": {
             "color": "#2a3f5f"
            },
            "error_y": {
             "color": "#2a3f5f"
            },
            "marker": {
             "line": {
              "color": "#E5ECF6",
              "width": 0.5
             },
             "pattern": {
              "fillmode": "overlay",
              "size": 10,
              "solidity": 0.2
             }
            },
            "type": "bar"
           }
          ],
          "barpolar": [
           {
            "marker": {
             "line": {
              "color": "#E5ECF6",
              "width": 0.5
             },
             "pattern": {
              "fillmode": "overlay",
              "size": 10,
              "solidity": 0.2
             }
            },
            "type": "barpolar"
           }
          ],
          "carpet": [
           {
            "aaxis": {
             "endlinecolor": "#2a3f5f",
             "gridcolor": "white",
             "linecolor": "white",
             "minorgridcolor": "white",
             "startlinecolor": "#2a3f5f"
            },
            "baxis": {
             "endlinecolor": "#2a3f5f",
             "gridcolor": "white",
             "linecolor": "white",
             "minorgridcolor": "white",
             "startlinecolor": "#2a3f5f"
            },
            "type": "carpet"
           }
          ],
          "choropleth": [
           {
            "colorbar": {
             "outlinewidth": 0,
             "ticks": ""
            },
            "type": "choropleth"
           }
          ],
          "contour": [
           {
            "colorbar": {
             "outlinewidth": 0,
             "ticks": ""
            },
            "colorscale": [
             [
              0,
              "#0d0887"
             ],
             [
              0.1111111111111111,
              "#46039f"
             ],
             [
              0.2222222222222222,
              "#7201a8"
             ],
             [
              0.3333333333333333,
              "#9c179e"
             ],
             [
              0.4444444444444444,
              "#bd3786"
             ],
             [
              0.5555555555555556,
              "#d8576b"
             ],
             [
              0.6666666666666666,
              "#ed7953"
             ],
             [
              0.7777777777777778,
              "#fb9f3a"
             ],
             [
              0.8888888888888888,
              "#fdca26"
             ],
             [
              1,
              "#f0f921"
             ]
            ],
            "type": "contour"
           }
          ],
          "contourcarpet": [
           {
            "colorbar": {
             "outlinewidth": 0,
             "ticks": ""
            },
            "type": "contourcarpet"
           }
          ],
          "heatmap": [
           {
            "colorbar": {
             "outlinewidth": 0,
             "ticks": ""
            },
            "colorscale": [
             [
              0,
              "#0d0887"
             ],
             [
              0.1111111111111111,
              "#46039f"
             ],
             [
              0.2222222222222222,
              "#7201a8"
             ],
             [
              0.3333333333333333,
              "#9c179e"
             ],
             [
              0.4444444444444444,
              "#bd3786"
             ],
             [
              0.5555555555555556,
              "#d8576b"
             ],
             [
              0.6666666666666666,
              "#ed7953"
             ],
             [
              0.7777777777777778,
              "#fb9f3a"
             ],
             [
              0.8888888888888888,
              "#fdca26"
             ],
             [
              1,
              "#f0f921"
             ]
            ],
            "type": "heatmap"
           }
          ],
          "heatmapgl": [
           {
            "colorbar": {
             "outlinewidth": 0,
             "ticks": ""
            },
            "colorscale": [
             [
              0,
              "#0d0887"
             ],
             [
              0.1111111111111111,
              "#46039f"
             ],
             [
              0.2222222222222222,
              "#7201a8"
             ],
             [
              0.3333333333333333,
              "#9c179e"
             ],
             [
              0.4444444444444444,
              "#bd3786"
             ],
             [
              0.5555555555555556,
              "#d8576b"
             ],
             [
              0.6666666666666666,
              "#ed7953"
             ],
             [
              0.7777777777777778,
              "#fb9f3a"
             ],
             [
              0.8888888888888888,
              "#fdca26"
             ],
             [
              1,
              "#f0f921"
             ]
            ],
            "type": "heatmapgl"
           }
          ],
          "histogram": [
           {
            "marker": {
             "pattern": {
              "fillmode": "overlay",
              "size": 10,
              "solidity": 0.2
             }
            },
            "type": "histogram"
           }
          ],
          "histogram2d": [
           {
            "colorbar": {
             "outlinewidth": 0,
             "ticks": ""
            },
            "colorscale": [
             [
              0,
              "#0d0887"
             ],
             [
              0.1111111111111111,
              "#46039f"
             ],
             [
              0.2222222222222222,
              "#7201a8"
             ],
             [
              0.3333333333333333,
              "#9c179e"
             ],
             [
              0.4444444444444444,
              "#bd3786"
             ],
             [
              0.5555555555555556,
              "#d8576b"
             ],
             [
              0.6666666666666666,
              "#ed7953"
             ],
             [
              0.7777777777777778,
              "#fb9f3a"
             ],
             [
              0.8888888888888888,
              "#fdca26"
             ],
             [
              1,
              "#f0f921"
             ]
            ],
            "type": "histogram2d"
           }
          ],
          "histogram2dcontour": [
           {
            "colorbar": {
             "outlinewidth": 0,
             "ticks": ""
            },
            "colorscale": [
             [
              0,
              "#0d0887"
             ],
             [
              0.1111111111111111,
              "#46039f"
             ],
             [
              0.2222222222222222,
              "#7201a8"
             ],
             [
              0.3333333333333333,
              "#9c179e"
             ],
             [
              0.4444444444444444,
              "#bd3786"
             ],
             [
              0.5555555555555556,
              "#d8576b"
             ],
             [
              0.6666666666666666,
              "#ed7953"
             ],
             [
              0.7777777777777778,
              "#fb9f3a"
             ],
             [
              0.8888888888888888,
              "#fdca26"
             ],
             [
              1,
              "#f0f921"
             ]
            ],
            "type": "histogram2dcontour"
           }
          ],
          "mesh3d": [
           {
            "colorbar": {
             "outlinewidth": 0,
             "ticks": ""
            },
            "type": "mesh3d"
           }
          ],
          "parcoords": [
           {
            "line": {
             "colorbar": {
              "outlinewidth": 0,
              "ticks": ""
             }
            },
            "type": "parcoords"
           }
          ],
          "pie": [
           {
            "automargin": true,
            "type": "pie"
           }
          ],
          "scatter": [
           {
            "fillpattern": {
             "fillmode": "overlay",
             "size": 10,
             "solidity": 0.2
            },
            "type": "scatter"
           }
          ],
          "scatter3d": [
           {
            "line": {
             "colorbar": {
              "outlinewidth": 0,
              "ticks": ""
             }
            },
            "marker": {
             "colorbar": {
              "outlinewidth": 0,
              "ticks": ""
             }
            },
            "type": "scatter3d"
           }
          ],
          "scattercarpet": [
           {
            "marker": {
             "colorbar": {
              "outlinewidth": 0,
              "ticks": ""
             }
            },
            "type": "scattercarpet"
           }
          ],
          "scattergeo": [
           {
            "marker": {
             "colorbar": {
              "outlinewidth": 0,
              "ticks": ""
             }
            },
            "type": "scattergeo"
           }
          ],
          "scattergl": [
           {
            "marker": {
             "colorbar": {
              "outlinewidth": 0,
              "ticks": ""
             }
            },
            "type": "scattergl"
           }
          ],
          "scattermapbox": [
           {
            "marker": {
             "colorbar": {
              "outlinewidth": 0,
              "ticks": ""
             }
            },
            "type": "scattermapbox"
           }
          ],
          "scatterpolar": [
           {
            "marker": {
             "colorbar": {
              "outlinewidth": 0,
              "ticks": ""
             }
            },
            "type": "scatterpolar"
           }
          ],
          "scatterpolargl": [
           {
            "marker": {
             "colorbar": {
              "outlinewidth": 0,
              "ticks": ""
             }
            },
            "type": "scatterpolargl"
           }
          ],
          "scatterternary": [
           {
            "marker": {
             "colorbar": {
              "outlinewidth": 0,
              "ticks": ""
             }
            },
            "type": "scatterternary"
           }
          ],
          "surface": [
           {
            "colorbar": {
             "outlinewidth": 0,
             "ticks": ""
            },
            "colorscale": [
             [
              0,
              "#0d0887"
             ],
             [
              0.1111111111111111,
              "#46039f"
             ],
             [
              0.2222222222222222,
              "#7201a8"
             ],
             [
              0.3333333333333333,
              "#9c179e"
             ],
             [
              0.4444444444444444,
              "#bd3786"
             ],
             [
              0.5555555555555556,
              "#d8576b"
             ],
             [
              0.6666666666666666,
              "#ed7953"
             ],
             [
              0.7777777777777778,
              "#fb9f3a"
             ],
             [
              0.8888888888888888,
              "#fdca26"
             ],
             [
              1,
              "#f0f921"
             ]
            ],
            "type": "surface"
           }
          ],
          "table": [
           {
            "cells": {
             "fill": {
              "color": "#EBF0F8"
             },
             "line": {
              "color": "white"
             }
            },
            "header": {
             "fill": {
              "color": "#C8D4E3"
             },
             "line": {
              "color": "white"
             }
            },
            "type": "table"
           }
          ]
         },
         "layout": {
          "annotationdefaults": {
           "arrowcolor": "#2a3f5f",
           "arrowhead": 0,
           "arrowwidth": 1
          },
          "autotypenumbers": "strict",
          "coloraxis": {
           "colorbar": {
            "outlinewidth": 0,
            "ticks": ""
           }
          },
          "colorscale": {
           "diverging": [
            [
             0,
             "#8e0152"
            ],
            [
             0.1,
             "#c51b7d"
            ],
            [
             0.2,
             "#de77ae"
            ],
            [
             0.3,
             "#f1b6da"
            ],
            [
             0.4,
             "#fde0ef"
            ],
            [
             0.5,
             "#f7f7f7"
            ],
            [
             0.6,
             "#e6f5d0"
            ],
            [
             0.7,
             "#b8e186"
            ],
            [
             0.8,
             "#7fbc41"
            ],
            [
             0.9,
             "#4d9221"
            ],
            [
             1,
             "#276419"
            ]
           ],
           "sequential": [
            [
             0,
             "#0d0887"
            ],
            [
             0.1111111111111111,
             "#46039f"
            ],
            [
             0.2222222222222222,
             "#7201a8"
            ],
            [
             0.3333333333333333,
             "#9c179e"
            ],
            [
             0.4444444444444444,
             "#bd3786"
            ],
            [
             0.5555555555555556,
             "#d8576b"
            ],
            [
             0.6666666666666666,
             "#ed7953"
            ],
            [
             0.7777777777777778,
             "#fb9f3a"
            ],
            [
             0.8888888888888888,
             "#fdca26"
            ],
            [
             1,
             "#f0f921"
            ]
           ],
           "sequentialminus": [
            [
             0,
             "#0d0887"
            ],
            [
             0.1111111111111111,
             "#46039f"
            ],
            [
             0.2222222222222222,
             "#7201a8"
            ],
            [
             0.3333333333333333,
             "#9c179e"
            ],
            [
             0.4444444444444444,
             "#bd3786"
            ],
            [
             0.5555555555555556,
             "#d8576b"
            ],
            [
             0.6666666666666666,
             "#ed7953"
            ],
            [
             0.7777777777777778,
             "#fb9f3a"
            ],
            [
             0.8888888888888888,
             "#fdca26"
            ],
            [
             1,
             "#f0f921"
            ]
           ]
          },
          "colorway": [
           "#636efa",
           "#EF553B",
           "#00cc96",
           "#ab63fa",
           "#FFA15A",
           "#19d3f3",
           "#FF6692",
           "#B6E880",
           "#FF97FF",
           "#FECB52"
          ],
          "font": {
           "color": "#2a3f5f"
          },
          "geo": {
           "bgcolor": "white",
           "lakecolor": "white",
           "landcolor": "#E5ECF6",
           "showlakes": true,
           "showland": true,
           "subunitcolor": "white"
          },
          "hoverlabel": {
           "align": "left"
          },
          "hovermode": "closest",
          "mapbox": {
           "style": "light"
          },
          "paper_bgcolor": "white",
          "plot_bgcolor": "#E5ECF6",
          "polar": {
           "angularaxis": {
            "gridcolor": "white",
            "linecolor": "white",
            "ticks": ""
           },
           "bgcolor": "#E5ECF6",
           "radialaxis": {
            "gridcolor": "white",
            "linecolor": "white",
            "ticks": ""
           }
          },
          "scene": {
           "xaxis": {
            "backgroundcolor": "#E5ECF6",
            "gridcolor": "white",
            "gridwidth": 2,
            "linecolor": "white",
            "showbackground": true,
            "ticks": "",
            "zerolinecolor": "white"
           },
           "yaxis": {
            "backgroundcolor": "#E5ECF6",
            "gridcolor": "white",
            "gridwidth": 2,
            "linecolor": "white",
            "showbackground": true,
            "ticks": "",
            "zerolinecolor": "white"
           },
           "zaxis": {
            "backgroundcolor": "#E5ECF6",
            "gridcolor": "white",
            "gridwidth": 2,
            "linecolor": "white",
            "showbackground": true,
            "ticks": "",
            "zerolinecolor": "white"
           }
          },
          "shapedefaults": {
           "line": {
            "color": "#2a3f5f"
           }
          },
          "ternary": {
           "aaxis": {
            "gridcolor": "white",
            "linecolor": "white",
            "ticks": ""
           },
           "baxis": {
            "gridcolor": "white",
            "linecolor": "white",
            "ticks": ""
           },
           "bgcolor": "#E5ECF6",
           "caxis": {
            "gridcolor": "white",
            "linecolor": "white",
            "ticks": ""
           }
          },
          "title": {
           "x": 0.05
          },
          "xaxis": {
           "automargin": true,
           "gridcolor": "white",
           "linecolor": "white",
           "ticks": "",
           "title": {
            "standoff": 15
           },
           "zerolinecolor": "white",
           "zerolinewidth": 2
          },
          "yaxis": {
           "automargin": true,
           "gridcolor": "white",
           "linecolor": "white",
           "ticks": "",
           "title": {
            "standoff": 15
           },
           "zerolinecolor": "white",
           "zerolinewidth": 2
          }
         }
        },
        "title": {
         "text": "Products Grouped by Group"
        }
       }
      }
     },
     "metadata": {},
     "output_type": "display_data"
    }
   ],
   "source": [
    "import networkx as nx\n",
    "import pandas as pd\n",
    "from neo4j import GraphDatabase\n",
    "import plotly.graph_objects as go\n",
    "\n",
    "\n",
    "def get_data(tx):\n",
    "    query = \"\"\"\n",
    "        MATCH (p:Product)-[:HAS_RECIPE]->(r:Recipe)-[:USES_INGREDIENT]->(i:Ingredient)-[:HAS_RESEARCH]->(res:IngredientResearch)\n",
    "        RETURN p.name AS product, res.ingredient_name AS ingredientResearch\n",
    "    \"\"\"\n",
    "    result = tx.run(query)\n",
    "    data = [(record[\"product\"], record[\"ingredientResearch\"]) for record in result if record[\"product\"] is not None and record[\"ingredientResearch\"] is not None]\n",
    "    return data\n",
    "\n",
    "\n",
    "with driver.session() as session: \n",
    "    data = session.read_transaction(get_data) \n",
    "\n",
    "\n",
    "G = nx.Graph() \n",
    "\n",
    "# Add only the product name to the graphic\n",
    "products = set() \n",
    "for record in data:\n",
    "    product, ingredient_research = record\n",
    "    G.add_node(product)  # Add product names as nodes\n",
    "\n",
    "# Add data to the graph, assuming all edges have a weight of 1\n",
    "G.add_edges_from(data)\n",
    "\n",
    "# Detecting communities using hashtag propagation algorithms\n",
    "communities = list(nx.algorithms.community.label_propagation_communities(G)) \n",
    "\n",
    "# Convert results to DataFrame\n",
    "product_groups = pd.DataFrame({'Product': list(G.nodes()), 'Group': [idx for idx, com in enumerate(communities) for node in com]}) \n",
    "print(product_groups) \n",
    "\n",
    "# Create a table to display product groupings\n",
    "table_data = go.Table( \n",
    "    header=dict(values=['Product', 'Group']), \n",
    "    cells=dict(values=[product_groups['Product'], product_groups['Group']]) \n",
    ") \n",
    "\n",
    "\n",
    "layout = go.Layout(title='Product Groups') \n",
    "fig = go.Figure(data=table_data, layout=layout) \n",
    "fig.show()\n",
    "\n",
    "# Extract product names from raw data\n",
    "products = set(product_groups['Product'])\n",
    "\n",
    "# Group the product_groups DataFrame by the Group column and concatenate the product names in each group\n",
    "grouped_products = product_groups.groupby('Group')['Product'].apply(lambda x: ', '.join(x)).reset_index()\n",
    "\n",
    "\n",
    "fig = go.Figure(data=[go.Table(\n",
    "    header=dict(values=['Group', 'Products']),\n",
    "    cells=dict(values=[grouped_products['Group'], grouped_products['Product']])\n",
    ")])\n",
    "\n",
    "\n",
    "fig.update_layout(title='Products Grouped by Group')\n",
    "\n",
    "fig.show()"
   ]
  },
  {
   "cell_type": "code",
   "execution_count": 10,
   "metadata": {},
   "outputs": [
    {
     "name": "stderr",
     "output_type": "stream",
     "text": [
      "C:\\Users\\apple\\AppData\\Local\\Temp\\ipykernel_15092\\2167372598.py:14: DeprecationWarning:\n",
      "\n",
      "read_transaction has been renamed to execute_read\n",
      "\n"
     ]
    },
    {
     "ename": "NameError",
     "evalue": "name 'community' is not defined",
     "output_type": "error",
     "traceback": [
      "\u001b[1;31m---------------------------------------------------------------------------\u001b[0m",
      "\u001b[1;31mNameError\u001b[0m                                 Traceback (most recent call last)",
      "Cell \u001b[1;32mIn[10], line 32\u001b[0m\n\u001b[0;32m     29\u001b[0m     bipartite_graph\u001b[38;5;241m.\u001b[39madd_edge(product, ingredient_research)\n\u001b[0;32m     31\u001b[0m \u001b[38;5;66;03m# Detecting communities using modular optimisation algorithms\u001b[39;00m\n\u001b[1;32m---> 32\u001b[0m partition \u001b[38;5;241m=\u001b[39m \u001b[43mcommunity\u001b[49m\u001b[38;5;241m.\u001b[39mbest_partition(bipartite_graph)\n\u001b[0;32m     34\u001b[0m \u001b[38;5;66;03m# Convert results to DataFrame\u001b[39;00m\n\u001b[0;32m     35\u001b[0m product_groups \u001b[38;5;241m=\u001b[39m pd\u001b[38;5;241m.\u001b[39mDataFrame({\u001b[38;5;124m'\u001b[39m\u001b[38;5;124mProduct\u001b[39m\u001b[38;5;124m'\u001b[39m: \u001b[38;5;28mlist\u001b[39m(partition\u001b[38;5;241m.\u001b[39mkeys()), \u001b[38;5;124m'\u001b[39m\u001b[38;5;124mGroup\u001b[39m\u001b[38;5;124m'\u001b[39m: \u001b[38;5;28mlist\u001b[39m(partition\u001b[38;5;241m.\u001b[39mvalues())})\n",
      "\u001b[1;31mNameError\u001b[0m: name 'community' is not defined"
     ]
    }
   ],
   "source": [
    "\n",
    "def get_data(tx):\n",
    "    query = \"\"\"\n",
    "        MATCH (p:Product)-[:HAS_RECIPE]->(:Recipe)-[:USES_INGREDIENT]->(:Ingredient)-[:HAS_RESEARCH]->(res:IngredientResearch)\n",
    "        RETURN p.name AS product, res.ingredient_name AS ingredientResearch\n",
    "    \"\"\"\n",
    "    result = tx.run(query)\n",
    "    data = [(record[\"product\"], record[\"ingredientResearch\"]) for record in result if record[\"product\"] is not None and record[\"ingredientResearch\"] is not None]\n",
    "    return data\n",
    "\n",
    "\n",
    "\n",
    "\n",
    "with driver.session() as session:\n",
    "    data = session.read_transaction(get_data)\n",
    "\n",
    "# Create the bipartite graph\n",
    "bipartite_graph = nx.Graph()\n",
    "\n",
    "# Add data to a bipartite graph\n",
    "products = set()  # Used to store product names to avoid duplicate additions\n",
    "for record in data:\n",
    "    product, ingredient_research = record\n",
    "    if product not in products:\n",
    "        bipartite_graph.add_node(product, bipartite='product')\n",
    "        products.add(product)\n",
    "    if ingredient_research not in products:\n",
    "        bipartite_graph.add_node(ingredient_research, bipartite='ingredientResearch')\n",
    "        products.add(ingredient_research)\n",
    "    bipartite_graph.add_edge(product, ingredient_research)\n",
    "\n",
    "# Detecting communities using modular optimisation algorithms\n",
    "partition = community.best_partition(bipartite_graph)\n",
    "\n",
    "# Convert results to DataFrame\n",
    "product_groups = pd.DataFrame({'Product': list(partition.keys()), 'Group': list(partition.values())})\n",
    "\n",
    "# Keep only the name of the product and not include the name of the ingredient study\n",
    "product_groups = product_groups[product_groups['Product'].apply(lambda x: bipartite_graph.nodes[x]['bipartite'] == 'product')]\n",
    "\n",
    "print(product_groups)\n",
    "\n",
    "# Create a table to display product groupings\n",
    "table_data = go.Table(\n",
    "    header=dict(values=['Product', 'Group']),\n",
    "    cells=dict(values=[product_groups['Product'], product_groups['Group']])\n",
    ")\n",
    "\n",
    "\n",
    "layout = go.Layout(title='Product group')\n",
    "fig = go.Figure(data=table_data, layout=layout)\n",
    "fig.show()\n",
    "\n",
    "# Extract product names from raw data\n",
    "products = set(product_groups['Product'])\n",
    "\n",
    "# Group the product_groups DataFrame by the Group column and concatenate the product names in each group\n",
    "grouped_products = product_groups.groupby('Group')['Product'].apply(lambda x: ', '.join(x)).reset_index()\n",
    "\n",
    "\n",
    "fig = go.Figure(data=[go.Table(\n",
    "    header=dict(values=['Group', 'Products']),\n",
    "    cells=dict(values=[grouped_products['Group'], grouped_products['Product']])\n",
    ")])\n",
    "\n",
    "\n",
    "fig.update_layout(title='Products Grouped by Group' )\n",
    "\n",
    "fig.show()"
   ]
  }
 ],
 "metadata": {
  "kernelspec": {
   "display_name": "base",
   "language": "python",
   "name": "python3"
  },
  "language_info": {
   "codemirror_mode": {
    "name": "ipython",
    "version": 3
   },
   "file_extension": ".py",
   "mimetype": "text/x-python",
   "name": "python",
   "nbconvert_exporter": "python",
   "pygments_lexer": "ipython3",
   "version": "3.10.9"
  }
 },
 "nbformat": 4,
 "nbformat_minor": 2
}
