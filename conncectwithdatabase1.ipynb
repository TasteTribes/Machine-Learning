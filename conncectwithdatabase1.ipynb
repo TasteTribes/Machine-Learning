{
 "cells": [
  {
   "cell_type": "code",
   "execution_count": 1,
   "metadata": {},
   "outputs": [
    {
     "name": "stdout",
     "output_type": "stream",
     "text": [
      "Connectivity verified successfully.\n"
     ]
    }
   ],
   "source": [
    "from neo4j import GraphDatabase\n",
    "\n",
    "def get_neo4j_driver() -> GraphDatabase.driver:\n",
    "    \"\"\"Establishes and returns a Neo4j session for AuraDB.\"\"\"\n",
    "    neo4j_uri = 'neo4j+s://9d1381c2.databases.neo4j.io:7687'\n",
    "    neo4j_user = 'Shirley'\n",
    "    neo4j_password = 'Sxl19950312'\n",
    "    return GraphDatabase.driver(neo4j_uri, auth=(neo4j_user, neo4j_password))\n",
    "\n",
    "# Call the function to get the driver\n",
    "driver = get_neo4j_driver()\n",
    "\n",
    "# Open a session\n",
    "with driver.session() as session:\n",
    "    # Verify connectivity within the session\n",
    "    session.run(\"RETURN 1\")\n",
    "\n",
    "print(\"Connectivity verified successfully.\")\n",
    "       \n"
   ]
  },
  {
   "cell_type": "code",
   "execution_count": null,
   "metadata": {},
   "outputs": [],
   "source": [
    "import plotly.graph_objects as go\n",
    "\n",
    "# Identify Cypher query，query all \n",
    "query = \"\"\"\n",
    "MATCH (n)\n",
    "RETURN n\n",
    "\"\"\"\n",
    "\n",
    "# Execute the query and process the results\n",
    "with driver.session() as session:\n",
    "    result = session.run(query)\n",
    "    nodes = [record['n'] for record in result]\n",
    "\n",
    "# Extracting attribute information of a node\n",
    "node_names = [node['name'] for node in nodes]\n",
    "node_ids = [node.id for node in nodes]\n",
    "\n",
    "# Create Plotly Scatter\n",
    "fig = go.Figure(data=go.Scatter(x=node_names, y=node_ids, mode='markers', text=node_names))\n",
    "fig.update_layout(title='Visualization', xaxis_title='Names', yaxis_title='IDs')\n",
    "\n",
    "# show outcomes\n",
    "fig.show()\n"
   ]
  },
  {
   "cell_type": "code",
   "execution_count": null,
   "metadata": {},
   "outputs": [],
   "source": [
    "with driver.session() as session:\n",
    "    result = session.run(query)\n",
    "    for record in result:\n",
    "        node = record['n']\n",
    "        for key, value in node.items():\n",
    "            print(f\"{key}: {value}\")\n",
    "\n"
   ]
  }
 ],
 "metadata": {
  "kernelspec": {
   "display_name": "base",
   "language": "python",
   "name": "python3"
  },
  "language_info": {
   "codemirror_mode": {
    "name": "ipython",
    "version": 3
   },
   "file_extension": ".py",
   "mimetype": "text/x-python",
   "name": "python",
   "nbconvert_exporter": "python",
   "pygments_lexer": "ipython3",
   "version": "3.10.9"
  }
 },
 "nbformat": 4,
 "nbformat_minor": 2
}
