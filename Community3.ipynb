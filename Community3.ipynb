{
 "cells": [
  {
   "cell_type": "code",
   "execution_count": 1,
   "metadata": {},
   "outputs": [
    {
     "name": "stdout",
     "output_type": "stream",
     "text": [
      "Connectivity verified successfully.\n"
     ]
    }
   ],
   "source": [
    "from neo4j import GraphDatabase\n",
    "\n",
    "def get_neo4j_driver() -> GraphDatabase.driver:\n",
    "    \"\"\"Establishes and returns a Neo4j session for AuraDB.\"\"\"\n",
    "    neo4j_uri = 'neo4j+s://9d1381c2.databases.neo4j.io:7687'\n",
    "    neo4j_user = 'Shirley'\n",
    "    neo4j_password = 'Sxl19950312'\n",
    "    return GraphDatabase.driver(neo4j_uri, auth=(neo4j_user, neo4j_password))\n",
    "\n",
    "# Call the function to get the driver\n",
    "driver = get_neo4j_driver()\n",
    "\n",
    "# Open a session\n",
    "with driver.session() as session:\n",
    "    # Verify connectivity within the session\n",
    "    session.run(\"RETURN 1\")\n",
    "\n",
    "print(\"Connectivity verified successfully.\")\n",
    "\n",
    "\n",
    "from dash import Dash, dcc, html\n",
    "import plotly.express as px\n",
    "import pandas as pd\n",
    "\n",
    "\n",
    "# Define a Cypher query to retrieve the required data\n",
    "query = \"\"\"\n",
    "MATCH (n)\n",
    "RETURN n\n",
    "\"\"\"\n",
    "\n",
    "# Execute the query and process the results\n",
    "with driver.session() as session:\n",
    "    result = session.run(query)\n",
    "    neo4j_data = [record.data() for record in result]\n",
    "\n",
    "# Converting Neo4j Data to Pandas DataFrame Format\n",
    "df = pd.DataFrame(neo4j_data)\n",
    "\n",
    "#print(df)"
   ]
  },
  {
   "cell_type": "code",
   "execution_count": 3,
   "metadata": {},
   "outputs": [],
   "source": [
    "# DELET :GROUPS_TO RELATIONSHIP\n",
    "with driver.session() as session:\n",
    "    session.run(\"MATCH (:Product)-[r:GROUPS_TO]->(:Group) DELETE r\")\n",
    "\n",
    "# DELECT Group NODE\n",
    "with driver.session() as session:\n",
    "    session.run(\"MATCH (g:Group) DELETE g\")\n"
   ]
  },
  {
   "cell_type": "code",
   "execution_count": 7,
   "metadata": {},
   "outputs": [
    {
     "name": "stderr",
     "output_type": "stream",
     "text": [
      "C:\\Users\\apple\\AppData\\Local\\Temp\\ipykernel_10648\\2503101607.py:24: DeprecationWarning:\n",
      "\n",
      "read_transaction has been renamed to execute_read\n",
      "\n"
     ]
    },
    {
     "data": {
      "application/vnd.plotly.v1+json": {
       "config": {
        "plotlyServerURL": "https://plot.ly"
       },
       "data": [
        {
         "cells": {
          "values": [
           [
            "Golden Circle Golden Pash Fruit Drink",
            "Supreme Noodles Cup Chicken Flavour",
            "Thins Chips Chicken",
            "Fantastic Chicken Noodle Cup",
            "Fountain Barbecue Bbq Sauce Squeeze",
            "Goulburn Valley Two Fruits In Juice Fruit Cups In Juice",
            "Woolworths Breakfast Juice",
            "Golden Circle Drinks Sunshine Punch Fruit Drink",
            "Woolworths Chocolate Chip Cookies",
            "Cadbury Chomp Chocolate Bar",
            "Schweppes Raspberry Infused Natural Mineral Water Bottle",
            "Schweppes Indian Tonic Water Classic Mixers Bottle",
            "Fantastic Chicken Noodle Bowl",
            "Woolworths Peach In Strawberry Jelly",
            "Woolworths Barbecue Sauce Squeeze",
            "Masterfoods Barbecue Sauce",
            "Pauls Farmhouse Gold Full Cream Milk",
            "Oreo Chocolate Cookies",
            "Golden Circle Fruit Drinks Lunch Box Poppers Tropical Punch Multipack",
            "Coca - Cola Caffeine Free Zero Sugar Soft Drink Multipack Cans",
            "Coca - Cola Vanilla  Soft Drink Multipack Cans",
            "Oreo Neapolitan Double Stuff Cookies",
            "Woolworths Spring Water",
            "Woolworths Two Fruits In Tropical Jelly",
            "Dole Pineapple Chunks In Juice",
            "Woolworths Tomato Sauce Squeeze",
            "Goulburn Valley Two Fruits In Juice",
            "Golden Circle Drinks Pine Orange Fruit Drink",
            "Smith's Crinkle Cut Potato Chips Cheese & Onion",
            "Schweppes Soda Water Bottle Classic Mixers",
            "A2 Milk Full Cream Milk",
            "Maggi 2 Minute Beef Flavour Instant Noodles",
            "Woolworths Two Fruits In Juice",
            "Maggi 2 Minute Chicken Flavour Instant Noodles",
            "Coca - Cola Zero Sugar Soft Drink Multipack Cans",
            "Woolworths Apple In Pineapple Jelly",
            "Rimmel Scandaleyes Eye Definer Brown",
            "Schweppes Orange Mango Natural Mineral Water Bottle",
            "Woolworths Orange Juice",
            "Oreo Minis Cookies Variety Bags 18 Pack",
            "Woolworths Multivitamin Juice",
            "Kitkat 4 Finger Milk Chocolate Bar",
            "Smith's Crinkle Cut Potato Chips Original",
            "Coca - Cola Zero Sugar Soft Drink Mini Cans",
            "Dairy Farmers Full Cream Milk Full Cream Milk",
            "Woolworths The King Of Chunky Chocolate Chip Cookies",
            "Oreo Grab & Go Original Cookies 9 Pack",
            "Woolworths Tomato Sauce",
            "Byron Bay Cookies Dotty Cookie Bites",
            "Woolworths Diced Italian Tomatoes",
            "Thins Chips Salt & Vinegar",
            "Deep Cove Sardines In Oil",
            "Supreme Noodles Cup Beef Flavour",
            "Schweppes Lime Soda Water With Lime Juice Bottle",
            "Mars Chocolate Bar With Nougat & Caramel",
            "Woolworths Apple & Blackcurrant Juice",
            "Coca - Cola Classic  Soft Drink Multipack Cans",
            "Woolworths Uht Full Cream Milk",
            "Woolworths Apple & Mango Juice",
            "Smith's Thinly Cut Potato Chips Original Share Pack",
            "Mount Franklin Spring Water Bottle",
            "Masterfoods Tomato Sauce",
            "Kitkat Chunky Original Chocolate Bar",
            "Woolworths Two Fruits In Juice Cups",
            "Cadbury Dairy Milk Caramello Koala Chocolate",
            "Oreo Original Mini Cookies Multipack",
            "Smith's Crinkle Cut Potato Chips Barbecue",
            "Schweppes Lemon Lime Natural Mineral Water Bottle",
            "Cadbury Dairy Milk Chocolate Roll",
            "Frantelle Australian Still Spring Water Bottles Multipack",
            "Woolworths Creamed Rice",
            "Indomie Mi Goreng Instant Noodles",
            "Coca - Cola Classic  Soft Drink Mini Cans",
            "Woolworths Apple Juice",
            "Woolworths Barbecue Sauce",
            "Smith's Crinkle Cut Potato Chips Salt & Vinegar",
            "Thins Cheese & Onion Chips",
            "Smith's Crinkle Cut Potato Chips Chicken",
            "Dole Pineapple Slices In Syrup",
            "Woolworths Secret Burger Sauce",
            "Oreo Double Stuff Cookies",
            "Schweppes Zero Sugar Classic Mixers Indian Tonic Water Bottle",
            "Indomie Mi Goreng Noodle Cup",
            "Oreo Original Cookies",
            "Woolworths Spring Water Bottles",
            "Thins Chips Light & Tangy",
            "Arnott's Mini Choc Chip Cookie Multipack Biscuits",
            "Cadbury Dairy Milk Chocolate Bar",
            "Essentials Coconut Cream",
            "Arnott's Premier Chocolate Chip Cookies",
            "Schweppes Natural Mineral Water Bottle Natural",
            "Cadbury Twirl Chocolate Bar",
            "Woolworths Lasagne Sheets",
            "Cadbury Choc Centre Cookies",
            "Oreo Original Cookies Family Pack",
            "Twix Milk Chocolate Bar With Caramel Biscuit",
            "Fountain Tomato Sauce Squeeze",
            "Schweppes Zero Sugar Lime Infused Mineral Water Bottle",
            "Woolworths Full Cream Milk",
            "Cadbury Classic Choc Chip Cookies",
            "Essentials Coconut Milk",
            "Norco Full Cream Milk",
            "Heinz Ketchup Tomato Sauce Ketchup"
           ],
           [
            0,
            2,
            2,
            2,
            3,
            0,
            0,
            0,
            1,
            1,
            0,
            0,
            2,
            0,
            0,
            0,
            1,
            1,
            0,
            3,
            3,
            1,
            0,
            0,
            0,
            0,
            0,
            0,
            2,
            3,
            1,
            2,
            0,
            2,
            3,
            0,
            0,
            0,
            0,
            1,
            0,
            1,
            0,
            3,
            1,
            1,
            1,
            0,
            1,
            0,
            2,
            0,
            2,
            3,
            1,
            0,
            3,
            4,
            0,
            0,
            0,
            0,
            1,
            0,
            1,
            1,
            2,
            0,
            1,
            0,
            1,
            2,
            3,
            0,
            0,
            2,
            2,
            2,
            0,
            0,
            1,
            0,
            2,
            1,
            0,
            2,
            1,
            1,
            0,
            1,
            0,
            1,
            2,
            1,
            1,
            1,
            2,
            0,
            1,
            1,
            0,
            1,
            0
           ]
          ]
         },
         "header": {
          "values": [
           "Product",
           "Group"
          ]
         },
         "type": "table"
        }
       ],
       "layout": {
        "template": {
         "data": {
          "bar": [
           {
            "error_x": {
             "color": "#2a3f5f"
            },
            "error_y": {
             "color": "#2a3f5f"
            },
            "marker": {
             "line": {
              "color": "#E5ECF6",
              "width": 0.5
             },
             "pattern": {
              "fillmode": "overlay",
              "size": 10,
              "solidity": 0.2
             }
            },
            "type": "bar"
           }
          ],
          "barpolar": [
           {
            "marker": {
             "line": {
              "color": "#E5ECF6",
              "width": 0.5
             },
             "pattern": {
              "fillmode": "overlay",
              "size": 10,
              "solidity": 0.2
             }
            },
            "type": "barpolar"
           }
          ],
          "carpet": [
           {
            "aaxis": {
             "endlinecolor": "#2a3f5f",
             "gridcolor": "white",
             "linecolor": "white",
             "minorgridcolor": "white",
             "startlinecolor": "#2a3f5f"
            },
            "baxis": {
             "endlinecolor": "#2a3f5f",
             "gridcolor": "white",
             "linecolor": "white",
             "minorgridcolor": "white",
             "startlinecolor": "#2a3f5f"
            },
            "type": "carpet"
           }
          ],
          "choropleth": [
           {
            "colorbar": {
             "outlinewidth": 0,
             "ticks": ""
            },
            "type": "choropleth"
           }
          ],
          "contour": [
           {
            "colorbar": {
             "outlinewidth": 0,
             "ticks": ""
            },
            "colorscale": [
             [
              0,
              "#0d0887"
             ],
             [
              0.1111111111111111,
              "#46039f"
             ],
             [
              0.2222222222222222,
              "#7201a8"
             ],
             [
              0.3333333333333333,
              "#9c179e"
             ],
             [
              0.4444444444444444,
              "#bd3786"
             ],
             [
              0.5555555555555556,
              "#d8576b"
             ],
             [
              0.6666666666666666,
              "#ed7953"
             ],
             [
              0.7777777777777778,
              "#fb9f3a"
             ],
             [
              0.8888888888888888,
              "#fdca26"
             ],
             [
              1,
              "#f0f921"
             ]
            ],
            "type": "contour"
           }
          ],
          "contourcarpet": [
           {
            "colorbar": {
             "outlinewidth": 0,
             "ticks": ""
            },
            "type": "contourcarpet"
           }
          ],
          "heatmap": [
           {
            "colorbar": {
             "outlinewidth": 0,
             "ticks": ""
            },
            "colorscale": [
             [
              0,
              "#0d0887"
             ],
             [
              0.1111111111111111,
              "#46039f"
             ],
             [
              0.2222222222222222,
              "#7201a8"
             ],
             [
              0.3333333333333333,
              "#9c179e"
             ],
             [
              0.4444444444444444,
              "#bd3786"
             ],
             [
              0.5555555555555556,
              "#d8576b"
             ],
             [
              0.6666666666666666,
              "#ed7953"
             ],
             [
              0.7777777777777778,
              "#fb9f3a"
             ],
             [
              0.8888888888888888,
              "#fdca26"
             ],
             [
              1,
              "#f0f921"
             ]
            ],
            "type": "heatmap"
           }
          ],
          "heatmapgl": [
           {
            "colorbar": {
             "outlinewidth": 0,
             "ticks": ""
            },
            "colorscale": [
             [
              0,
              "#0d0887"
             ],
             [
              0.1111111111111111,
              "#46039f"
             ],
             [
              0.2222222222222222,
              "#7201a8"
             ],
             [
              0.3333333333333333,
              "#9c179e"
             ],
             [
              0.4444444444444444,
              "#bd3786"
             ],
             [
              0.5555555555555556,
              "#d8576b"
             ],
             [
              0.6666666666666666,
              "#ed7953"
             ],
             [
              0.7777777777777778,
              "#fb9f3a"
             ],
             [
              0.8888888888888888,
              "#fdca26"
             ],
             [
              1,
              "#f0f921"
             ]
            ],
            "type": "heatmapgl"
           }
          ],
          "histogram": [
           {
            "marker": {
             "pattern": {
              "fillmode": "overlay",
              "size": 10,
              "solidity": 0.2
             }
            },
            "type": "histogram"
           }
          ],
          "histogram2d": [
           {
            "colorbar": {
             "outlinewidth": 0,
             "ticks": ""
            },
            "colorscale": [
             [
              0,
              "#0d0887"
             ],
             [
              0.1111111111111111,
              "#46039f"
             ],
             [
              0.2222222222222222,
              "#7201a8"
             ],
             [
              0.3333333333333333,
              "#9c179e"
             ],
             [
              0.4444444444444444,
              "#bd3786"
             ],
             [
              0.5555555555555556,
              "#d8576b"
             ],
             [
              0.6666666666666666,
              "#ed7953"
             ],
             [
              0.7777777777777778,
              "#fb9f3a"
             ],
             [
              0.8888888888888888,
              "#fdca26"
             ],
             [
              1,
              "#f0f921"
             ]
            ],
            "type": "histogram2d"
           }
          ],
          "histogram2dcontour": [
           {
            "colorbar": {
             "outlinewidth": 0,
             "ticks": ""
            },
            "colorscale": [
             [
              0,
              "#0d0887"
             ],
             [
              0.1111111111111111,
              "#46039f"
             ],
             [
              0.2222222222222222,
              "#7201a8"
             ],
             [
              0.3333333333333333,
              "#9c179e"
             ],
             [
              0.4444444444444444,
              "#bd3786"
             ],
             [
              0.5555555555555556,
              "#d8576b"
             ],
             [
              0.6666666666666666,
              "#ed7953"
             ],
             [
              0.7777777777777778,
              "#fb9f3a"
             ],
             [
              0.8888888888888888,
              "#fdca26"
             ],
             [
              1,
              "#f0f921"
             ]
            ],
            "type": "histogram2dcontour"
           }
          ],
          "mesh3d": [
           {
            "colorbar": {
             "outlinewidth": 0,
             "ticks": ""
            },
            "type": "mesh3d"
           }
          ],
          "parcoords": [
           {
            "line": {
             "colorbar": {
              "outlinewidth": 0,
              "ticks": ""
             }
            },
            "type": "parcoords"
           }
          ],
          "pie": [
           {
            "automargin": true,
            "type": "pie"
           }
          ],
          "scatter": [
           {
            "fillpattern": {
             "fillmode": "overlay",
             "size": 10,
             "solidity": 0.2
            },
            "type": "scatter"
           }
          ],
          "scatter3d": [
           {
            "line": {
             "colorbar": {
              "outlinewidth": 0,
              "ticks": ""
             }
            },
            "marker": {
             "colorbar": {
              "outlinewidth": 0,
              "ticks": ""
             }
            },
            "type": "scatter3d"
           }
          ],
          "scattercarpet": [
           {
            "marker": {
             "colorbar": {
              "outlinewidth": 0,
              "ticks": ""
             }
            },
            "type": "scattercarpet"
           }
          ],
          "scattergeo": [
           {
            "marker": {
             "colorbar": {
              "outlinewidth": 0,
              "ticks": ""
             }
            },
            "type": "scattergeo"
           }
          ],
          "scattergl": [
           {
            "marker": {
             "colorbar": {
              "outlinewidth": 0,
              "ticks": ""
             }
            },
            "type": "scattergl"
           }
          ],
          "scattermapbox": [
           {
            "marker": {
             "colorbar": {
              "outlinewidth": 0,
              "ticks": ""
             }
            },
            "type": "scattermapbox"
           }
          ],
          "scatterpolar": [
           {
            "marker": {
             "colorbar": {
              "outlinewidth": 0,
              "ticks": ""
             }
            },
            "type": "scatterpolar"
           }
          ],
          "scatterpolargl": [
           {
            "marker": {
             "colorbar": {
              "outlinewidth": 0,
              "ticks": ""
             }
            },
            "type": "scatterpolargl"
           }
          ],
          "scatterternary": [
           {
            "marker": {
             "colorbar": {
              "outlinewidth": 0,
              "ticks": ""
             }
            },
            "type": "scatterternary"
           }
          ],
          "surface": [
           {
            "colorbar": {
             "outlinewidth": 0,
             "ticks": ""
            },
            "colorscale": [
             [
              0,
              "#0d0887"
             ],
             [
              0.1111111111111111,
              "#46039f"
             ],
             [
              0.2222222222222222,
              "#7201a8"
             ],
             [
              0.3333333333333333,
              "#9c179e"
             ],
             [
              0.4444444444444444,
              "#bd3786"
             ],
             [
              0.5555555555555556,
              "#d8576b"
             ],
             [
              0.6666666666666666,
              "#ed7953"
             ],
             [
              0.7777777777777778,
              "#fb9f3a"
             ],
             [
              0.8888888888888888,
              "#fdca26"
             ],
             [
              1,
              "#f0f921"
             ]
            ],
            "type": "surface"
           }
          ],
          "table": [
           {
            "cells": {
             "fill": {
              "color": "#EBF0F8"
             },
             "line": {
              "color": "white"
             }
            },
            "header": {
             "fill": {
              "color": "#C8D4E3"
             },
             "line": {
              "color": "white"
             }
            },
            "type": "table"
           }
          ]
         },
         "layout": {
          "annotationdefaults": {
           "arrowcolor": "#2a3f5f",
           "arrowhead": 0,
           "arrowwidth": 1
          },
          "autotypenumbers": "strict",
          "coloraxis": {
           "colorbar": {
            "outlinewidth": 0,
            "ticks": ""
           }
          },
          "colorscale": {
           "diverging": [
            [
             0,
             "#8e0152"
            ],
            [
             0.1,
             "#c51b7d"
            ],
            [
             0.2,
             "#de77ae"
            ],
            [
             0.3,
             "#f1b6da"
            ],
            [
             0.4,
             "#fde0ef"
            ],
            [
             0.5,
             "#f7f7f7"
            ],
            [
             0.6,
             "#e6f5d0"
            ],
            [
             0.7,
             "#b8e186"
            ],
            [
             0.8,
             "#7fbc41"
            ],
            [
             0.9,
             "#4d9221"
            ],
            [
             1,
             "#276419"
            ]
           ],
           "sequential": [
            [
             0,
             "#0d0887"
            ],
            [
             0.1111111111111111,
             "#46039f"
            ],
            [
             0.2222222222222222,
             "#7201a8"
            ],
            [
             0.3333333333333333,
             "#9c179e"
            ],
            [
             0.4444444444444444,
             "#bd3786"
            ],
            [
             0.5555555555555556,
             "#d8576b"
            ],
            [
             0.6666666666666666,
             "#ed7953"
            ],
            [
             0.7777777777777778,
             "#fb9f3a"
            ],
            [
             0.8888888888888888,
             "#fdca26"
            ],
            [
             1,
             "#f0f921"
            ]
           ],
           "sequentialminus": [
            [
             0,
             "#0d0887"
            ],
            [
             0.1111111111111111,
             "#46039f"
            ],
            [
             0.2222222222222222,
             "#7201a8"
            ],
            [
             0.3333333333333333,
             "#9c179e"
            ],
            [
             0.4444444444444444,
             "#bd3786"
            ],
            [
             0.5555555555555556,
             "#d8576b"
            ],
            [
             0.6666666666666666,
             "#ed7953"
            ],
            [
             0.7777777777777778,
             "#fb9f3a"
            ],
            [
             0.8888888888888888,
             "#fdca26"
            ],
            [
             1,
             "#f0f921"
            ]
           ]
          },
          "colorway": [
           "#636efa",
           "#EF553B",
           "#00cc96",
           "#ab63fa",
           "#FFA15A",
           "#19d3f3",
           "#FF6692",
           "#B6E880",
           "#FF97FF",
           "#FECB52"
          ],
          "font": {
           "color": "#2a3f5f"
          },
          "geo": {
           "bgcolor": "white",
           "lakecolor": "white",
           "landcolor": "#E5ECF6",
           "showlakes": true,
           "showland": true,
           "subunitcolor": "white"
          },
          "hoverlabel": {
           "align": "left"
          },
          "hovermode": "closest",
          "mapbox": {
           "style": "light"
          },
          "paper_bgcolor": "white",
          "plot_bgcolor": "#E5ECF6",
          "polar": {
           "angularaxis": {
            "gridcolor": "white",
            "linecolor": "white",
            "ticks": ""
           },
           "bgcolor": "#E5ECF6",
           "radialaxis": {
            "gridcolor": "white",
            "linecolor": "white",
            "ticks": ""
           }
          },
          "scene": {
           "xaxis": {
            "backgroundcolor": "#E5ECF6",
            "gridcolor": "white",
            "gridwidth": 2,
            "linecolor": "white",
            "showbackground": true,
            "ticks": "",
            "zerolinecolor": "white"
           },
           "yaxis": {
            "backgroundcolor": "#E5ECF6",
            "gridcolor": "white",
            "gridwidth": 2,
            "linecolor": "white",
            "showbackground": true,
            "ticks": "",
            "zerolinecolor": "white"
           },
           "zaxis": {
            "backgroundcolor": "#E5ECF6",
            "gridcolor": "white",
            "gridwidth": 2,
            "linecolor": "white",
            "showbackground": true,
            "ticks": "",
            "zerolinecolor": "white"
           }
          },
          "shapedefaults": {
           "line": {
            "color": "#2a3f5f"
           }
          },
          "ternary": {
           "aaxis": {
            "gridcolor": "white",
            "linecolor": "white",
            "ticks": ""
           },
           "baxis": {
            "gridcolor": "white",
            "linecolor": "white",
            "ticks": ""
           },
           "bgcolor": "#E5ECF6",
           "caxis": {
            "gridcolor": "white",
            "linecolor": "white",
            "ticks": ""
           }
          },
          "title": {
           "x": 0.05
          },
          "xaxis": {
           "automargin": true,
           "gridcolor": "white",
           "linecolor": "white",
           "ticks": "",
           "title": {
            "standoff": 15
           },
           "zerolinecolor": "white",
           "zerolinewidth": 2
          },
          "yaxis": {
           "automargin": true,
           "gridcolor": "white",
           "linecolor": "white",
           "ticks": "",
           "title": {
            "standoff": 15
           },
           "zerolinecolor": "white",
           "zerolinewidth": 2
          }
         }
        },
        "title": {
         "text": "Product Groups"
        }
       }
      }
     },
     "metadata": {},
     "output_type": "display_data"
    },
    {
     "data": {
      "application/vnd.plotly.v1+json": {
       "config": {
        "plotlyServerURL": "https://plot.ly"
       },
       "data": [
        {
         "cells": {
          "values": [
           [
            0,
            1,
            2,
            3,
            4
           ],
           [
            "Golden Circle Golden Pash Fruit Drink, Goulburn Valley Two Fruits In Juice Fruit Cups In Juice, Woolworths Breakfast Juice, Golden Circle Drinks Sunshine Punch Fruit Drink, Schweppes Raspberry Infused Natural Mineral Water Bottle, Schweppes Indian Tonic Water Classic Mixers Bottle, Woolworths Peach In Strawberry Jelly, Woolworths Barbecue Sauce Squeeze, Masterfoods Barbecue Sauce, Golden Circle Fruit Drinks Lunch Box Poppers Tropical Punch Multipack, Woolworths Spring Water, Woolworths Two Fruits In Tropical Jelly, Dole Pineapple Chunks In Juice, Woolworths Tomato Sauce Squeeze, Goulburn Valley Two Fruits In Juice, Golden Circle Drinks Pine Orange Fruit Drink, Woolworths Two Fruits In Juice, Woolworths Apple In Pineapple Jelly, Rimmel Scandaleyes Eye Definer Brown, Schweppes Orange Mango Natural Mineral Water Bottle, Woolworths Orange Juice, Woolworths Multivitamin Juice, Smith's Crinkle Cut Potato Chips Original, Woolworths Tomato Sauce, Woolworths Diced Italian Tomatoes, Deep Cove Sardines In Oil, Woolworths Apple & Blackcurrant Juice, Woolworths Apple & Mango Juice, Smith's Thinly Cut Potato Chips Original Share Pack, Mount Franklin Spring Water Bottle, Masterfoods Tomato Sauce, Woolworths Two Fruits In Juice Cups, Schweppes Lemon Lime Natural Mineral Water Bottle, Frantelle Australian Still Spring Water Bottles Multipack, Woolworths Apple Juice, Woolworths Barbecue Sauce, Dole Pineapple Slices In Syrup, Woolworths Secret Burger Sauce, Schweppes Zero Sugar Classic Mixers Indian Tonic Water Bottle, Woolworths Spring Water Bottles, Essentials Coconut Cream, Schweppes Natural Mineral Water Bottle Natural, Schweppes Zero Sugar Lime Infused Mineral Water Bottle, Essentials Coconut Milk, Heinz Ketchup Tomato Sauce Ketchup",
            "Woolworths Chocolate Chip Cookies, Cadbury Chomp Chocolate Bar, Pauls Farmhouse Gold Full Cream Milk, Oreo Chocolate Cookies, Oreo Neapolitan Double Stuff Cookies, A2 Milk Full Cream Milk, Oreo Minis Cookies Variety Bags 18 Pack, Kitkat 4 Finger Milk Chocolate Bar, Dairy Farmers Full Cream Milk Full Cream Milk, Woolworths The King Of Chunky Chocolate Chip Cookies, Oreo Grab & Go Original Cookies 9 Pack, Byron Bay Cookies Dotty Cookie Bites, Mars Chocolate Bar With Nougat & Caramel, Kitkat Chunky Original Chocolate Bar, Cadbury Dairy Milk Caramello Koala Chocolate, Oreo Original Mini Cookies Multipack, Cadbury Dairy Milk Chocolate Roll, Woolworths Creamed Rice, Oreo Double Stuff Cookies, Oreo Original Cookies, Arnott's Mini Choc Chip Cookie Multipack Biscuits, Cadbury Dairy Milk Chocolate Bar, Arnott's Premier Chocolate Chip Cookies, Cadbury Twirl Chocolate Bar, Cadbury Choc Centre Cookies, Oreo Original Cookies Family Pack, Twix Milk Chocolate Bar With Caramel Biscuit, Woolworths Full Cream Milk, Cadbury Classic Choc Chip Cookies, Norco Full Cream Milk",
            "Supreme Noodles Cup Chicken Flavour, Thins Chips Chicken, Fantastic Chicken Noodle Cup, Fantastic Chicken Noodle Bowl, Smith's Crinkle Cut Potato Chips Cheese & Onion, Maggi 2 Minute Beef Flavour Instant Noodles, Maggi 2 Minute Chicken Flavour Instant Noodles, Thins Chips Salt & Vinegar, Supreme Noodles Cup Beef Flavour, Smith's Crinkle Cut Potato Chips Barbecue, Indomie Mi Goreng Instant Noodles, Smith's Crinkle Cut Potato Chips Salt & Vinegar, Thins Cheese & Onion Chips, Smith's Crinkle Cut Potato Chips Chicken, Indomie Mi Goreng Noodle Cup, Thins Chips Light & Tangy, Woolworths Lasagne Sheets, Fountain Tomato Sauce Squeeze",
            "Fountain Barbecue Bbq Sauce Squeeze, Coca - Cola Caffeine Free Zero Sugar Soft Drink Multipack Cans, Coca - Cola Vanilla  Soft Drink Multipack Cans, Schweppes Soda Water Bottle Classic Mixers, Coca - Cola Zero Sugar Soft Drink Multipack Cans, Coca - Cola Zero Sugar Soft Drink Mini Cans, Schweppes Lime Soda Water With Lime Juice Bottle, Coca - Cola Classic  Soft Drink Multipack Cans, Coca - Cola Classic  Soft Drink Mini Cans",
            "Woolworths Uht Full Cream Milk"
           ]
          ]
         },
         "header": {
          "values": [
           "Group",
           "Products"
          ]
         },
         "type": "table"
        }
       ],
       "layout": {
        "template": {
         "data": {
          "bar": [
           {
            "error_x": {
             "color": "#2a3f5f"
            },
            "error_y": {
             "color": "#2a3f5f"
            },
            "marker": {
             "line": {
              "color": "#E5ECF6",
              "width": 0.5
             },
             "pattern": {
              "fillmode": "overlay",
              "size": 10,
              "solidity": 0.2
             }
            },
            "type": "bar"
           }
          ],
          "barpolar": [
           {
            "marker": {
             "line": {
              "color": "#E5ECF6",
              "width": 0.5
             },
             "pattern": {
              "fillmode": "overlay",
              "size": 10,
              "solidity": 0.2
             }
            },
            "type": "barpolar"
           }
          ],
          "carpet": [
           {
            "aaxis": {
             "endlinecolor": "#2a3f5f",
             "gridcolor": "white",
             "linecolor": "white",
             "minorgridcolor": "white",
             "startlinecolor": "#2a3f5f"
            },
            "baxis": {
             "endlinecolor": "#2a3f5f",
             "gridcolor": "white",
             "linecolor": "white",
             "minorgridcolor": "white",
             "startlinecolor": "#2a3f5f"
            },
            "type": "carpet"
           }
          ],
          "choropleth": [
           {
            "colorbar": {
             "outlinewidth": 0,
             "ticks": ""
            },
            "type": "choropleth"
           }
          ],
          "contour": [
           {
            "colorbar": {
             "outlinewidth": 0,
             "ticks": ""
            },
            "colorscale": [
             [
              0,
              "#0d0887"
             ],
             [
              0.1111111111111111,
              "#46039f"
             ],
             [
              0.2222222222222222,
              "#7201a8"
             ],
             [
              0.3333333333333333,
              "#9c179e"
             ],
             [
              0.4444444444444444,
              "#bd3786"
             ],
             [
              0.5555555555555556,
              "#d8576b"
             ],
             [
              0.6666666666666666,
              "#ed7953"
             ],
             [
              0.7777777777777778,
              "#fb9f3a"
             ],
             [
              0.8888888888888888,
              "#fdca26"
             ],
             [
              1,
              "#f0f921"
             ]
            ],
            "type": "contour"
           }
          ],
          "contourcarpet": [
           {
            "colorbar": {
             "outlinewidth": 0,
             "ticks": ""
            },
            "type": "contourcarpet"
           }
          ],
          "heatmap": [
           {
            "colorbar": {
             "outlinewidth": 0,
             "ticks": ""
            },
            "colorscale": [
             [
              0,
              "#0d0887"
             ],
             [
              0.1111111111111111,
              "#46039f"
             ],
             [
              0.2222222222222222,
              "#7201a8"
             ],
             [
              0.3333333333333333,
              "#9c179e"
             ],
             [
              0.4444444444444444,
              "#bd3786"
             ],
             [
              0.5555555555555556,
              "#d8576b"
             ],
             [
              0.6666666666666666,
              "#ed7953"
             ],
             [
              0.7777777777777778,
              "#fb9f3a"
             ],
             [
              0.8888888888888888,
              "#fdca26"
             ],
             [
              1,
              "#f0f921"
             ]
            ],
            "type": "heatmap"
           }
          ],
          "heatmapgl": [
           {
            "colorbar": {
             "outlinewidth": 0,
             "ticks": ""
            },
            "colorscale": [
             [
              0,
              "#0d0887"
             ],
             [
              0.1111111111111111,
              "#46039f"
             ],
             [
              0.2222222222222222,
              "#7201a8"
             ],
             [
              0.3333333333333333,
              "#9c179e"
             ],
             [
              0.4444444444444444,
              "#bd3786"
             ],
             [
              0.5555555555555556,
              "#d8576b"
             ],
             [
              0.6666666666666666,
              "#ed7953"
             ],
             [
              0.7777777777777778,
              "#fb9f3a"
             ],
             [
              0.8888888888888888,
              "#fdca26"
             ],
             [
              1,
              "#f0f921"
             ]
            ],
            "type": "heatmapgl"
           }
          ],
          "histogram": [
           {
            "marker": {
             "pattern": {
              "fillmode": "overlay",
              "size": 10,
              "solidity": 0.2
             }
            },
            "type": "histogram"
           }
          ],
          "histogram2d": [
           {
            "colorbar": {
             "outlinewidth": 0,
             "ticks": ""
            },
            "colorscale": [
             [
              0,
              "#0d0887"
             ],
             [
              0.1111111111111111,
              "#46039f"
             ],
             [
              0.2222222222222222,
              "#7201a8"
             ],
             [
              0.3333333333333333,
              "#9c179e"
             ],
             [
              0.4444444444444444,
              "#bd3786"
             ],
             [
              0.5555555555555556,
              "#d8576b"
             ],
             [
              0.6666666666666666,
              "#ed7953"
             ],
             [
              0.7777777777777778,
              "#fb9f3a"
             ],
             [
              0.8888888888888888,
              "#fdca26"
             ],
             [
              1,
              "#f0f921"
             ]
            ],
            "type": "histogram2d"
           }
          ],
          "histogram2dcontour": [
           {
            "colorbar": {
             "outlinewidth": 0,
             "ticks": ""
            },
            "colorscale": [
             [
              0,
              "#0d0887"
             ],
             [
              0.1111111111111111,
              "#46039f"
             ],
             [
              0.2222222222222222,
              "#7201a8"
             ],
             [
              0.3333333333333333,
              "#9c179e"
             ],
             [
              0.4444444444444444,
              "#bd3786"
             ],
             [
              0.5555555555555556,
              "#d8576b"
             ],
             [
              0.6666666666666666,
              "#ed7953"
             ],
             [
              0.7777777777777778,
              "#fb9f3a"
             ],
             [
              0.8888888888888888,
              "#fdca26"
             ],
             [
              1,
              "#f0f921"
             ]
            ],
            "type": "histogram2dcontour"
           }
          ],
          "mesh3d": [
           {
            "colorbar": {
             "outlinewidth": 0,
             "ticks": ""
            },
            "type": "mesh3d"
           }
          ],
          "parcoords": [
           {
            "line": {
             "colorbar": {
              "outlinewidth": 0,
              "ticks": ""
             }
            },
            "type": "parcoords"
           }
          ],
          "pie": [
           {
            "automargin": true,
            "type": "pie"
           }
          ],
          "scatter": [
           {
            "fillpattern": {
             "fillmode": "overlay",
             "size": 10,
             "solidity": 0.2
            },
            "type": "scatter"
           }
          ],
          "scatter3d": [
           {
            "line": {
             "colorbar": {
              "outlinewidth": 0,
              "ticks": ""
             }
            },
            "marker": {
             "colorbar": {
              "outlinewidth": 0,
              "ticks": ""
             }
            },
            "type": "scatter3d"
           }
          ],
          "scattercarpet": [
           {
            "marker": {
             "colorbar": {
              "outlinewidth": 0,
              "ticks": ""
             }
            },
            "type": "scattercarpet"
           }
          ],
          "scattergeo": [
           {
            "marker": {
             "colorbar": {
              "outlinewidth": 0,
              "ticks": ""
             }
            },
            "type": "scattergeo"
           }
          ],
          "scattergl": [
           {
            "marker": {
             "colorbar": {
              "outlinewidth": 0,
              "ticks": ""
             }
            },
            "type": "scattergl"
           }
          ],
          "scattermapbox": [
           {
            "marker": {
             "colorbar": {
              "outlinewidth": 0,
              "ticks": ""
             }
            },
            "type": "scattermapbox"
           }
          ],
          "scatterpolar": [
           {
            "marker": {
             "colorbar": {
              "outlinewidth": 0,
              "ticks": ""
             }
            },
            "type": "scatterpolar"
           }
          ],
          "scatterpolargl": [
           {
            "marker": {
             "colorbar": {
              "outlinewidth": 0,
              "ticks": ""
             }
            },
            "type": "scatterpolargl"
           }
          ],
          "scatterternary": [
           {
            "marker": {
             "colorbar": {
              "outlinewidth": 0,
              "ticks": ""
             }
            },
            "type": "scatterternary"
           }
          ],
          "surface": [
           {
            "colorbar": {
             "outlinewidth": 0,
             "ticks": ""
            },
            "colorscale": [
             [
              0,
              "#0d0887"
             ],
             [
              0.1111111111111111,
              "#46039f"
             ],
             [
              0.2222222222222222,
              "#7201a8"
             ],
             [
              0.3333333333333333,
              "#9c179e"
             ],
             [
              0.4444444444444444,
              "#bd3786"
             ],
             [
              0.5555555555555556,
              "#d8576b"
             ],
             [
              0.6666666666666666,
              "#ed7953"
             ],
             [
              0.7777777777777778,
              "#fb9f3a"
             ],
             [
              0.8888888888888888,
              "#fdca26"
             ],
             [
              1,
              "#f0f921"
             ]
            ],
            "type": "surface"
           }
          ],
          "table": [
           {
            "cells": {
             "fill": {
              "color": "#EBF0F8"
             },
             "line": {
              "color": "white"
             }
            },
            "header": {
             "fill": {
              "color": "#C8D4E3"
             },
             "line": {
              "color": "white"
             }
            },
            "type": "table"
           }
          ]
         },
         "layout": {
          "annotationdefaults": {
           "arrowcolor": "#2a3f5f",
           "arrowhead": 0,
           "arrowwidth": 1
          },
          "autotypenumbers": "strict",
          "coloraxis": {
           "colorbar": {
            "outlinewidth": 0,
            "ticks": ""
           }
          },
          "colorscale": {
           "diverging": [
            [
             0,
             "#8e0152"
            ],
            [
             0.1,
             "#c51b7d"
            ],
            [
             0.2,
             "#de77ae"
            ],
            [
             0.3,
             "#f1b6da"
            ],
            [
             0.4,
             "#fde0ef"
            ],
            [
             0.5,
             "#f7f7f7"
            ],
            [
             0.6,
             "#e6f5d0"
            ],
            [
             0.7,
             "#b8e186"
            ],
            [
             0.8,
             "#7fbc41"
            ],
            [
             0.9,
             "#4d9221"
            ],
            [
             1,
             "#276419"
            ]
           ],
           "sequential": [
            [
             0,
             "#0d0887"
            ],
            [
             0.1111111111111111,
             "#46039f"
            ],
            [
             0.2222222222222222,
             "#7201a8"
            ],
            [
             0.3333333333333333,
             "#9c179e"
            ],
            [
             0.4444444444444444,
             "#bd3786"
            ],
            [
             0.5555555555555556,
             "#d8576b"
            ],
            [
             0.6666666666666666,
             "#ed7953"
            ],
            [
             0.7777777777777778,
             "#fb9f3a"
            ],
            [
             0.8888888888888888,
             "#fdca26"
            ],
            [
             1,
             "#f0f921"
            ]
           ],
           "sequentialminus": [
            [
             0,
             "#0d0887"
            ],
            [
             0.1111111111111111,
             "#46039f"
            ],
            [
             0.2222222222222222,
             "#7201a8"
            ],
            [
             0.3333333333333333,
             "#9c179e"
            ],
            [
             0.4444444444444444,
             "#bd3786"
            ],
            [
             0.5555555555555556,
             "#d8576b"
            ],
            [
             0.6666666666666666,
             "#ed7953"
            ],
            [
             0.7777777777777778,
             "#fb9f3a"
            ],
            [
             0.8888888888888888,
             "#fdca26"
            ],
            [
             1,
             "#f0f921"
            ]
           ]
          },
          "colorway": [
           "#636efa",
           "#EF553B",
           "#00cc96",
           "#ab63fa",
           "#FFA15A",
           "#19d3f3",
           "#FF6692",
           "#B6E880",
           "#FF97FF",
           "#FECB52"
          ],
          "font": {
           "color": "#2a3f5f"
          },
          "geo": {
           "bgcolor": "white",
           "lakecolor": "white",
           "landcolor": "#E5ECF6",
           "showlakes": true,
           "showland": true,
           "subunitcolor": "white"
          },
          "hoverlabel": {
           "align": "left"
          },
          "hovermode": "closest",
          "mapbox": {
           "style": "light"
          },
          "paper_bgcolor": "white",
          "plot_bgcolor": "#E5ECF6",
          "polar": {
           "angularaxis": {
            "gridcolor": "white",
            "linecolor": "white",
            "ticks": ""
           },
           "bgcolor": "#E5ECF6",
           "radialaxis": {
            "gridcolor": "white",
            "linecolor": "white",
            "ticks": ""
           }
          },
          "scene": {
           "xaxis": {
            "backgroundcolor": "#E5ECF6",
            "gridcolor": "white",
            "gridwidth": 2,
            "linecolor": "white",
            "showbackground": true,
            "ticks": "",
            "zerolinecolor": "white"
           },
           "yaxis": {
            "backgroundcolor": "#E5ECF6",
            "gridcolor": "white",
            "gridwidth": 2,
            "linecolor": "white",
            "showbackground": true,
            "ticks": "",
            "zerolinecolor": "white"
           },
           "zaxis": {
            "backgroundcolor": "#E5ECF6",
            "gridcolor": "white",
            "gridwidth": 2,
            "linecolor": "white",
            "showbackground": true,
            "ticks": "",
            "zerolinecolor": "white"
           }
          },
          "shapedefaults": {
           "line": {
            "color": "#2a3f5f"
           }
          },
          "ternary": {
           "aaxis": {
            "gridcolor": "white",
            "linecolor": "white",
            "ticks": ""
           },
           "baxis": {
            "gridcolor": "white",
            "linecolor": "white",
            "ticks": ""
           },
           "bgcolor": "#E5ECF6",
           "caxis": {
            "gridcolor": "white",
            "linecolor": "white",
            "ticks": ""
           }
          },
          "title": {
           "x": 0.05
          },
          "xaxis": {
           "automargin": true,
           "gridcolor": "white",
           "linecolor": "white",
           "ticks": "",
           "title": {
            "standoff": 15
           },
           "zerolinecolor": "white",
           "zerolinewidth": 2
          },
          "yaxis": {
           "automargin": true,
           "gridcolor": "white",
           "linecolor": "white",
           "ticks": "",
           "title": {
            "standoff": 15
           },
           "zerolinecolor": "white",
           "zerolinewidth": 2
          }
         }
        },
        "title": {
         "text": "Product Groups (Products Sorted by Group Number)"
        }
       }
      }
     },
     "metadata": {},
     "output_type": "display_data"
    }
   ],
   "source": [
    "from neo4j import GraphDatabase\n",
    "import pandas as pd\n",
    "import networkx as nx\n",
    "from community import community_louvain\n",
    "import matplotlib.pyplot as plt\n",
    "%matplotlib inline\n",
    "\n",
    "import plotly.graph_objects as go\n",
    "import community as community_louvain\n",
    "\n",
    "\n",
    "\n",
    "def get_data(tx):\n",
    "    query = \"\"\"\n",
    "        MATCH (p:Product)-[:STOCKED_IN]->(c:Category),\n",
    "              (p)-[:HAS_RECIPE]->(r:Recipe)-[:USES_INGREDIENT]->(i:Ingredient)-[:HAS_RESEARCH]->(res:IngredientResearch)\n",
    "        RETURN p.name AS product, res.ingredient_name AS ingredientResearch, COLLECT(c.name) AS categories\n",
    "    \"\"\"\n",
    "    result = tx.run(query)\n",
    "    data = [(record[\"product\"], record[\"ingredientResearch\"], record[\"categories\"]) for record in result if record[\"product\"] is not None and record[\"ingredientResearch\"] is not None and record[\"categories\"] is not None]\n",
    "    return data\n",
    "\n",
    "with driver.session() as session:\n",
    "    data = session.read_transaction(get_data)\n",
    "\n",
    "# Constructing a bipartite graph\n",
    "bipartite_graph = nx.Graph()\n",
    "products = set()\n",
    "ingredients = set()\n",
    "\n",
    "for product, ingredientResearch, categories in data:\n",
    "    products.add(product)\n",
    "    ingredients.add(ingredientResearch)\n",
    "    for category in categories:\n",
    "        ingredients.add(category)\n",
    "    bipartite_graph.add_node(product, bipartite=0)\n",
    "    bipartite_graph.add_node(ingredientResearch, bipartite=1)\n",
    "    for category in categories:\n",
    "        bipartite_graph.add_node(category, bipartite=1)\n",
    "        bipartite_graph.add_edge(product, category)\n",
    "    bipartite_graph.add_edge(product, ingredientResearch)\n",
    "\n",
    "# Generate a projection of the product\n",
    "product_nodes = {node for node, data in bipartite_graph.nodes(data=True) if data['bipartite'] == 0}\n",
    "product_graph = nx.bipartite.projected_graph(bipartite_graph, product_nodes, multigraph=True)\n",
    "\n",
    "# Run Louvain's algorithm for community detection\n",
    "communities = community_louvain.best_partition(product_graph)\n",
    "\n",
    "# Store the results in a DataFrame\n",
    "product_groups = pd.DataFrame({'Product': list(products), 'Group': [communities[node] for node in product_graph.nodes()]})\n",
    "\n",
    "# Create a list using Plotly\n",
    "table_data = go.Table(\n",
    "    header=dict(values=['Product', 'Group']),\n",
    "    cells=dict(values=[product_groups['Product'], product_groups['Group']])\n",
    ")\n",
    "\n",
    "# Layout for the list\n",
    "layout = go.Layout(title='Product Groups')\n",
    "\n",
    "# Create figure\n",
    "fig = go.Figure(data=table_data, layout=layout)\n",
    "\n",
    "# Show the figure\n",
    "fig.show()\n",
    "\n",
    "# Grouping products by cluster and linking product names\n",
    "grouped_products = product_groups.groupby('Group')['Product'].apply(lambda x: ', '.join(x)).reset_index()\n",
    "\n",
    "# Sort products according to the group's serial number\n",
    "grouped_products.sort_values(by='Group', inplace=True)\n",
    "\n",
    "# Create a new DataFrame with each row containing a group and the corresponding products\n",
    "new_product_groups = pd.DataFrame({'Group': grouped_products['Group'], 'Products': grouped_products['Product']})\n",
    "\n",
    "# Create the table\n",
    "table_data = go.Table(\n",
    "    header=dict(values=['Group', 'Products']),\n",
    "    cells=dict(values=[new_product_groups['Group'], new_product_groups['Products']])\n",
    ")\n",
    "\n",
    "\n",
    "layout = go.Layout(title='Product Groups (Products Sorted by Group Number)')\n",
    "\n",
    "\n",
    "fig = go.Figure(data=table_data, layout=layout)\n",
    "fig.show()"
   ]
  },
  {
   "cell_type": "code",
   "execution_count": 23,
   "metadata": {},
   "outputs": [
    {
     "data": {
      "application/vnd.plotly.v1+json": {
       "config": {
        "plotlyServerURL": "https://plot.ly"
       },
       "data": [
        {
         "labels": [
          "Community 0",
          "Community 1",
          "Community 2",
          "Community 3",
          "Community 4",
          "Community 5"
         ],
         "type": "pie",
         "values": [
          24,
          11,
          20,
          2,
          26,
          20
         ]
        }
       ],
       "layout": {
        "template": {
         "data": {
          "bar": [
           {
            "error_x": {
             "color": "#2a3f5f"
            },
            "error_y": {
             "color": "#2a3f5f"
            },
            "marker": {
             "line": {
              "color": "#E5ECF6",
              "width": 0.5
             },
             "pattern": {
              "fillmode": "overlay",
              "size": 10,
              "solidity": 0.2
             }
            },
            "type": "bar"
           }
          ],
          "barpolar": [
           {
            "marker": {
             "line": {
              "color": "#E5ECF6",
              "width": 0.5
             },
             "pattern": {
              "fillmode": "overlay",
              "size": 10,
              "solidity": 0.2
             }
            },
            "type": "barpolar"
           }
          ],
          "carpet": [
           {
            "aaxis": {
             "endlinecolor": "#2a3f5f",
             "gridcolor": "white",
             "linecolor": "white",
             "minorgridcolor": "white",
             "startlinecolor": "#2a3f5f"
            },
            "baxis": {
             "endlinecolor": "#2a3f5f",
             "gridcolor": "white",
             "linecolor": "white",
             "minorgridcolor": "white",
             "startlinecolor": "#2a3f5f"
            },
            "type": "carpet"
           }
          ],
          "choropleth": [
           {
            "colorbar": {
             "outlinewidth": 0,
             "ticks": ""
            },
            "type": "choropleth"
           }
          ],
          "contour": [
           {
            "colorbar": {
             "outlinewidth": 0,
             "ticks": ""
            },
            "colorscale": [
             [
              0,
              "#0d0887"
             ],
             [
              0.1111111111111111,
              "#46039f"
             ],
             [
              0.2222222222222222,
              "#7201a8"
             ],
             [
              0.3333333333333333,
              "#9c179e"
             ],
             [
              0.4444444444444444,
              "#bd3786"
             ],
             [
              0.5555555555555556,
              "#d8576b"
             ],
             [
              0.6666666666666666,
              "#ed7953"
             ],
             [
              0.7777777777777778,
              "#fb9f3a"
             ],
             [
              0.8888888888888888,
              "#fdca26"
             ],
             [
              1,
              "#f0f921"
             ]
            ],
            "type": "contour"
           }
          ],
          "contourcarpet": [
           {
            "colorbar": {
             "outlinewidth": 0,
             "ticks": ""
            },
            "type": "contourcarpet"
           }
          ],
          "heatmap": [
           {
            "colorbar": {
             "outlinewidth": 0,
             "ticks": ""
            },
            "colorscale": [
             [
              0,
              "#0d0887"
             ],
             [
              0.1111111111111111,
              "#46039f"
             ],
             [
              0.2222222222222222,
              "#7201a8"
             ],
             [
              0.3333333333333333,
              "#9c179e"
             ],
             [
              0.4444444444444444,
              "#bd3786"
             ],
             [
              0.5555555555555556,
              "#d8576b"
             ],
             [
              0.6666666666666666,
              "#ed7953"
             ],
             [
              0.7777777777777778,
              "#fb9f3a"
             ],
             [
              0.8888888888888888,
              "#fdca26"
             ],
             [
              1,
              "#f0f921"
             ]
            ],
            "type": "heatmap"
           }
          ],
          "heatmapgl": [
           {
            "colorbar": {
             "outlinewidth": 0,
             "ticks": ""
            },
            "colorscale": [
             [
              0,
              "#0d0887"
             ],
             [
              0.1111111111111111,
              "#46039f"
             ],
             [
              0.2222222222222222,
              "#7201a8"
             ],
             [
              0.3333333333333333,
              "#9c179e"
             ],
             [
              0.4444444444444444,
              "#bd3786"
             ],
             [
              0.5555555555555556,
              "#d8576b"
             ],
             [
              0.6666666666666666,
              "#ed7953"
             ],
             [
              0.7777777777777778,
              "#fb9f3a"
             ],
             [
              0.8888888888888888,
              "#fdca26"
             ],
             [
              1,
              "#f0f921"
             ]
            ],
            "type": "heatmapgl"
           }
          ],
          "histogram": [
           {
            "marker": {
             "pattern": {
              "fillmode": "overlay",
              "size": 10,
              "solidity": 0.2
             }
            },
            "type": "histogram"
           }
          ],
          "histogram2d": [
           {
            "colorbar": {
             "outlinewidth": 0,
             "ticks": ""
            },
            "colorscale": [
             [
              0,
              "#0d0887"
             ],
             [
              0.1111111111111111,
              "#46039f"
             ],
             [
              0.2222222222222222,
              "#7201a8"
             ],
             [
              0.3333333333333333,
              "#9c179e"
             ],
             [
              0.4444444444444444,
              "#bd3786"
             ],
             [
              0.5555555555555556,
              "#d8576b"
             ],
             [
              0.6666666666666666,
              "#ed7953"
             ],
             [
              0.7777777777777778,
              "#fb9f3a"
             ],
             [
              0.8888888888888888,
              "#fdca26"
             ],
             [
              1,
              "#f0f921"
             ]
            ],
            "type": "histogram2d"
           }
          ],
          "histogram2dcontour": [
           {
            "colorbar": {
             "outlinewidth": 0,
             "ticks": ""
            },
            "colorscale": [
             [
              0,
              "#0d0887"
             ],
             [
              0.1111111111111111,
              "#46039f"
             ],
             [
              0.2222222222222222,
              "#7201a8"
             ],
             [
              0.3333333333333333,
              "#9c179e"
             ],
             [
              0.4444444444444444,
              "#bd3786"
             ],
             [
              0.5555555555555556,
              "#d8576b"
             ],
             [
              0.6666666666666666,
              "#ed7953"
             ],
             [
              0.7777777777777778,
              "#fb9f3a"
             ],
             [
              0.8888888888888888,
              "#fdca26"
             ],
             [
              1,
              "#f0f921"
             ]
            ],
            "type": "histogram2dcontour"
           }
          ],
          "mesh3d": [
           {
            "colorbar": {
             "outlinewidth": 0,
             "ticks": ""
            },
            "type": "mesh3d"
           }
          ],
          "parcoords": [
           {
            "line": {
             "colorbar": {
              "outlinewidth": 0,
              "ticks": ""
             }
            },
            "type": "parcoords"
           }
          ],
          "pie": [
           {
            "automargin": true,
            "type": "pie"
           }
          ],
          "scatter": [
           {
            "fillpattern": {
             "fillmode": "overlay",
             "size": 10,
             "solidity": 0.2
            },
            "type": "scatter"
           }
          ],
          "scatter3d": [
           {
            "line": {
             "colorbar": {
              "outlinewidth": 0,
              "ticks": ""
             }
            },
            "marker": {
             "colorbar": {
              "outlinewidth": 0,
              "ticks": ""
             }
            },
            "type": "scatter3d"
           }
          ],
          "scattercarpet": [
           {
            "marker": {
             "colorbar": {
              "outlinewidth": 0,
              "ticks": ""
             }
            },
            "type": "scattercarpet"
           }
          ],
          "scattergeo": [
           {
            "marker": {
             "colorbar": {
              "outlinewidth": 0,
              "ticks": ""
             }
            },
            "type": "scattergeo"
           }
          ],
          "scattergl": [
           {
            "marker": {
             "colorbar": {
              "outlinewidth": 0,
              "ticks": ""
             }
            },
            "type": "scattergl"
           }
          ],
          "scattermapbox": [
           {
            "marker": {
             "colorbar": {
              "outlinewidth": 0,
              "ticks": ""
             }
            },
            "type": "scattermapbox"
           }
          ],
          "scatterpolar": [
           {
            "marker": {
             "colorbar": {
              "outlinewidth": 0,
              "ticks": ""
             }
            },
            "type": "scatterpolar"
           }
          ],
          "scatterpolargl": [
           {
            "marker": {
             "colorbar": {
              "outlinewidth": 0,
              "ticks": ""
             }
            },
            "type": "scatterpolargl"
           }
          ],
          "scatterternary": [
           {
            "marker": {
             "colorbar": {
              "outlinewidth": 0,
              "ticks": ""
             }
            },
            "type": "scatterternary"
           }
          ],
          "surface": [
           {
            "colorbar": {
             "outlinewidth": 0,
             "ticks": ""
            },
            "colorscale": [
             [
              0,
              "#0d0887"
             ],
             [
              0.1111111111111111,
              "#46039f"
             ],
             [
              0.2222222222222222,
              "#7201a8"
             ],
             [
              0.3333333333333333,
              "#9c179e"
             ],
             [
              0.4444444444444444,
              "#bd3786"
             ],
             [
              0.5555555555555556,
              "#d8576b"
             ],
             [
              0.6666666666666666,
              "#ed7953"
             ],
             [
              0.7777777777777778,
              "#fb9f3a"
             ],
             [
              0.8888888888888888,
              "#fdca26"
             ],
             [
              1,
              "#f0f921"
             ]
            ],
            "type": "surface"
           }
          ],
          "table": [
           {
            "cells": {
             "fill": {
              "color": "#EBF0F8"
             },
             "line": {
              "color": "white"
             }
            },
            "header": {
             "fill": {
              "color": "#C8D4E3"
             },
             "line": {
              "color": "white"
             }
            },
            "type": "table"
           }
          ]
         },
         "layout": {
          "annotationdefaults": {
           "arrowcolor": "#2a3f5f",
           "arrowhead": 0,
           "arrowwidth": 1
          },
          "autotypenumbers": "strict",
          "coloraxis": {
           "colorbar": {
            "outlinewidth": 0,
            "ticks": ""
           }
          },
          "colorscale": {
           "diverging": [
            [
             0,
             "#8e0152"
            ],
            [
             0.1,
             "#c51b7d"
            ],
            [
             0.2,
             "#de77ae"
            ],
            [
             0.3,
             "#f1b6da"
            ],
            [
             0.4,
             "#fde0ef"
            ],
            [
             0.5,
             "#f7f7f7"
            ],
            [
             0.6,
             "#e6f5d0"
            ],
            [
             0.7,
             "#b8e186"
            ],
            [
             0.8,
             "#7fbc41"
            ],
            [
             0.9,
             "#4d9221"
            ],
            [
             1,
             "#276419"
            ]
           ],
           "sequential": [
            [
             0,
             "#0d0887"
            ],
            [
             0.1111111111111111,
             "#46039f"
            ],
            [
             0.2222222222222222,
             "#7201a8"
            ],
            [
             0.3333333333333333,
             "#9c179e"
            ],
            [
             0.4444444444444444,
             "#bd3786"
            ],
            [
             0.5555555555555556,
             "#d8576b"
            ],
            [
             0.6666666666666666,
             "#ed7953"
            ],
            [
             0.7777777777777778,
             "#fb9f3a"
            ],
            [
             0.8888888888888888,
             "#fdca26"
            ],
            [
             1,
             "#f0f921"
            ]
           ],
           "sequentialminus": [
            [
             0,
             "#0d0887"
            ],
            [
             0.1111111111111111,
             "#46039f"
            ],
            [
             0.2222222222222222,
             "#7201a8"
            ],
            [
             0.3333333333333333,
             "#9c179e"
            ],
            [
             0.4444444444444444,
             "#bd3786"
            ],
            [
             0.5555555555555556,
             "#d8576b"
            ],
            [
             0.6666666666666666,
             "#ed7953"
            ],
            [
             0.7777777777777778,
             "#fb9f3a"
            ],
            [
             0.8888888888888888,
             "#fdca26"
            ],
            [
             1,
             "#f0f921"
            ]
           ]
          },
          "colorway": [
           "#636efa",
           "#EF553B",
           "#00cc96",
           "#ab63fa",
           "#FFA15A",
           "#19d3f3",
           "#FF6692",
           "#B6E880",
           "#FF97FF",
           "#FECB52"
          ],
          "font": {
           "color": "#2a3f5f"
          },
          "geo": {
           "bgcolor": "white",
           "lakecolor": "white",
           "landcolor": "#E5ECF6",
           "showlakes": true,
           "showland": true,
           "subunitcolor": "white"
          },
          "hoverlabel": {
           "align": "left"
          },
          "hovermode": "closest",
          "mapbox": {
           "style": "light"
          },
          "paper_bgcolor": "white",
          "plot_bgcolor": "#E5ECF6",
          "polar": {
           "angularaxis": {
            "gridcolor": "white",
            "linecolor": "white",
            "ticks": ""
           },
           "bgcolor": "#E5ECF6",
           "radialaxis": {
            "gridcolor": "white",
            "linecolor": "white",
            "ticks": ""
           }
          },
          "scene": {
           "xaxis": {
            "backgroundcolor": "#E5ECF6",
            "gridcolor": "white",
            "gridwidth": 2,
            "linecolor": "white",
            "showbackground": true,
            "ticks": "",
            "zerolinecolor": "white"
           },
           "yaxis": {
            "backgroundcolor": "#E5ECF6",
            "gridcolor": "white",
            "gridwidth": 2,
            "linecolor": "white",
            "showbackground": true,
            "ticks": "",
            "zerolinecolor": "white"
           },
           "zaxis": {
            "backgroundcolor": "#E5ECF6",
            "gridcolor": "white",
            "gridwidth": 2,
            "linecolor": "white",
            "showbackground": true,
            "ticks": "",
            "zerolinecolor": "white"
           }
          },
          "shapedefaults": {
           "line": {
            "color": "#2a3f5f"
           }
          },
          "ternary": {
           "aaxis": {
            "gridcolor": "white",
            "linecolor": "white",
            "ticks": ""
           },
           "baxis": {
            "gridcolor": "white",
            "linecolor": "white",
            "ticks": ""
           },
           "bgcolor": "#E5ECF6",
           "caxis": {
            "gridcolor": "white",
            "linecolor": "white",
            "ticks": ""
           }
          },
          "title": {
           "x": 0.05
          },
          "xaxis": {
           "automargin": true,
           "gridcolor": "white",
           "linecolor": "white",
           "ticks": "",
           "title": {
            "standoff": 15
           },
           "zerolinecolor": "white",
           "zerolinewidth": 2
          },
          "yaxis": {
           "automargin": true,
           "gridcolor": "white",
           "linecolor": "white",
           "ticks": "",
           "title": {
            "standoff": 15
           },
           "zerolinecolor": "white",
           "zerolinewidth": 2
          }
         }
        },
        "title": {
         "text": "Product Communities Based on Ingredient Research"
        }
       }
      }
     },
     "metadata": {},
     "output_type": "display_data"
    }
   ],
   "source": [
    "import pandas as pd\n",
    "import networkx as nx\n",
    "from community import community_louvain\n",
    "import plotly.graph_objs as go\n",
    "\n",
    "\n",
    "from neo4j import GraphDatabase\n",
    "\n",
    "with driver.session() as session:\n",
    "    # Run the Cypher query and get the results\n",
    "    result = session.run(\"MATCH (p:Product)-[:STOCKED_IN]->(c:Category), \"\n",
    "                         \"(p)-[:HAS_RECIPE]->(r:Recipe)-[:USES_INGREDIENT]->(i:Ingredient)-[:HAS_RESEARCH]->(res:IngredientResearch) \"\n",
    "                         \"RETURN p.name AS product, res.ingredient_name AS ingredientResearch, COLLECT(c.name) AS categories\")\n",
    "\n",
    "    # Convert results to Pandas DataFrame\n",
    "    data = []\n",
    "    for record in result:\n",
    "        data.append({'product': record['product'], 'ingredientResearch': record['ingredientResearch'], 'categories': record['categories']})\n",
    "    df = pd.DataFrame(data)\n",
    "\n",
    "    # Build a product network based on raw material research\n",
    "    product_net = nx.Graph()\n",
    "\n",
    "    for _, row in df.iterrows():\n",
    "        product = row['product']\n",
    "        ingredient = row['ingredientResearch']\n",
    "        categories = row['categories']\n",
    "        \n",
    "        # Add node\n",
    "        product_net.add_node(product, ingredient=ingredient, categories=categories)\n",
    "        \n",
    "        # Add edge\n",
    "        for other_product in product_net.nodes():\n",
    "            if other_product != product and ingredient in product_net.nodes[other_product]['ingredient']:\n",
    "                product_net.add_edge(product, other_product, weight=1)\n",
    "\n",
    "    # Community testing based on raw material research\n",
    "    ingredient_partition = community_louvain.best_partition(product_net)\n",
    "\n",
    "    # Visual communities\n",
    "    ingredient_communities = sorted(set(ingredient_partition.values()))\n",
    "\n",
    "    trace = go.Pie(labels=[f'Community {i}' for i in ingredient_communities],\n",
    "                   values=[len([k for k, v in ingredient_partition.items() if v == c]) for c in ingredient_communities])\n",
    "\n",
    "    fig = go.Figure(data=[trace])\n",
    "    fig.update_layout(title='Product Communities Based on Ingredient Research')\n",
    "    fig.show()\n",
    "\n"
   ]
  },
  {
   "cell_type": "code",
   "execution_count": 60,
   "metadata": {},
   "outputs": [
    {
     "data": {
      "application/vnd.plotly.v1+json": {
       "config": {
        "plotlyServerURL": "https://plot.ly"
       },
       "data": [
        {
         "cells": {
          "align": [
           "center",
           "left"
          ],
          "fill": {
           "color": [
            [
             "#f2f2f2",
             "white",
             "#f2f2f2",
             "white",
             "#f2f2f2",
             "white",
             "#f2f2f2",
             "white",
             "#f2f2f2",
             "white",
             "#f2f2f2",
             "white",
             "#f2f2f2",
             "white"
            ]
           ]
          },
          "font": {
           "size": 10
          },
          "height": 50,
          "values": [
           [
            "<b>Community 0</b>",
            "<b>Community 1</b>",
            "<b>Community 2</b>",
            "<b>Community 3</b>",
            "<b>Community 4</b>",
            "<b>Community 5</b>",
            "<b>Community 6</b>"
           ],
           [
            "Coca - Cola Classic  Soft Drink Multipack Cans<br>Coca - Cola Zero Sugar Soft Drink Multipack Cans<br>Coca - Cola Classic  Soft Drink Mini Cans<br>Coca - Cola Caffeine Free Zero Sugar Soft Drink Multipack Cans<br>Coca - Cola Vanilla  Soft Drink Multipack Cans<br>Coca - Cola Zero Sugar Soft Drink Mini Cans<br>Schweppes Soda Water Bottle Classic Mixers<br>Schweppes Indian Tonic Water Classic Mixers Bottle<br>Schweppes Lime Soda Water With Lime Juice Bottle<br>Schweppes Zero Sugar Classic Mixers Indian Tonic Water Bottle<br>Schweppes Lemon Lime Natural Mineral Water Bottle<br>Schweppes Orange Mango Natural Mineral Water Bottle<br>Rimmel Scandaleyes Eye Definer Brown",
            "Indomie Mi Goreng Instant Noodles<br>Maggi 2 Minute Chicken Flavour Instant Noodles<br>Supreme Noodles Cup Chicken Flavour<br>Fantastic Chicken Noodle Cup<br>Fantastic Chicken Noodle Bowl<br>Supreme Noodles Cup Beef Flavour<br>Woolworths Lasagne Sheets<br>Kitkat 4 Finger Milk Chocolate Bar<br>Kitkat Chunky Original Chocolate Bar<br>Twix Milk Chocolate Bar With Caramel Biscuit<br>Woolworths Chocolate Chip Cookies<br>Woolworths The King Of Chunky Chocolate Chip Cookies",
            "Indomie Mi Goreng Noodle Cup<br>Schweppes Zero Sugar Lime Infused Mineral Water Bottle<br>Schweppes Raspberry Infused Natural Mineral Water Bottle<br>Cadbury Dairy Milk Caramello Koala Chocolate<br>Mars Chocolate Bar With Nougat & Caramel<br>Cadbury Chomp Chocolate Bar<br>Arnott's Premier Chocolate Chip Cookies<br>Oreo Original Mini Cookies Multipack<br>Oreo Minis Cookies Variety Bags 18 Pack<br>Cadbury Classic Choc Chip Cookies<br>Cadbury Choc Centre Cookies<br>Byron Bay Cookies Dotty Cookie Bites<br>Oreo Original Cookies<br>Oreo Double Stuff Cookies<br>Oreo Original Cookies Family Pack<br>Oreo Chocolate Cookies<br>Oreo Grab & Go Original Cookies 9 Pack<br>Oreo Neapolitan Double Stuff Cookies<br>Woolworths Apple Juice<br>Woolworths Apple & Mango Juice<br>Woolworths Orange Juice<br>Woolworths Breakfast Juice<br>Woolworths Apple & Blackcurrant Juice<br>Woolworths Multivitamin Juice<br>Thins Chips Light & Tangy<br>Thins Cheese & Onion Chips",
            "Maggi 2 Minute Beef Flavour Instant Noodles<br>Woolworths Diced Italian Tomatoes<br>Dole Pineapple Slices In Syrup<br>Woolworths Tomato Sauce Squeeze<br>Woolworths Barbecue Sauce Squeeze<br>Masterfoods Tomato Sauce<br>Woolworths Tomato Sauce<br>Fountain Tomato Sauce Squeeze<br>Fountain Barbecue Bbq Sauce Squeeze<br>Heinz Ketchup Tomato Sauce Ketchup<br>Woolworths Barbecue Sauce<br>Smith's Crinkle Cut Potato Chips Original<br>Smith's Crinkle Cut Potato Chips Cheese & Onion<br>Smith's Crinkle Cut Potato Chips Barbecue<br>Smith's Crinkle Cut Potato Chips Chicken<br>Thins Chips Salt & Vinegar<br>Smith's Thinly Cut Potato Chips Original Share Pack<br>Thins Chips Chicken<br>Smith's Crinkle Cut Potato Chips Salt & Vinegar",
            "Goulburn Valley Two Fruits In Juice<br>Goulburn Valley Two Fruits In Juice Fruit Cups In Juice",
            "Schweppes Natural Mineral Water Bottle Natural<br>Woolworths Spring Water Bottles<br>Woolworths Spring Water<br>Frantelle Australian Still Spring Water Bottles Multipack<br>Mount Franklin Spring Water Bottle<br>Golden Circle Golden Pash Fruit Drink<br>Golden Circle Drinks Pine Orange Fruit Drink<br>Golden Circle Drinks Sunshine Punch Fruit Drink<br>Golden Circle Fruit Drinks Lunch Box Poppers Tropical Punch Multipack<br>Essentials Coconut Cream<br>Essentials Coconut Milk<br>Woolworths Peach In Strawberry Jelly<br>Woolworths Two Fruits In Juice Cups<br>Woolworths Two Fruits In Juice<br>Woolworths Two Fruits In Tropical Jelly<br>Woolworths Apple In Pineapple Jelly<br>Dole Pineapple Chunks In Juice<br>Deep Cove Sardines In Oil<br>Masterfoods Barbecue Sauce<br>Woolworths Secret Burger Sauce",
            "Cadbury Dairy Milk Chocolate Roll<br>Cadbury Dairy Milk Chocolate Bar<br>Cadbury Twirl Chocolate Bar<br>Arnott's Mini Choc Chip Cookie Multipack Biscuits<br>Woolworths Full Cream Milk<br>Dairy Farmers Full Cream Milk Full Cream Milk<br>Norco Full Cream Milk<br>A2 Milk Full Cream Milk<br>Pauls Farmhouse Gold Full Cream Milk<br>Woolworths Uht Full Cream Milk<br>Woolworths Creamed Rice"
           ]
          ]
         },
         "header": {
          "values": [
           "Community",
           "Products"
          ]
         },
         "type": "table"
        }
       ],
       "layout": {
        "height": 600,
        "template": {
         "data": {
          "bar": [
           {
            "error_x": {
             "color": "#2a3f5f"
            },
            "error_y": {
             "color": "#2a3f5f"
            },
            "marker": {
             "line": {
              "color": "#E5ECF6",
              "width": 0.5
             },
             "pattern": {
              "fillmode": "overlay",
              "size": 10,
              "solidity": 0.2
             }
            },
            "type": "bar"
           }
          ],
          "barpolar": [
           {
            "marker": {
             "line": {
              "color": "#E5ECF6",
              "width": 0.5
             },
             "pattern": {
              "fillmode": "overlay",
              "size": 10,
              "solidity": 0.2
             }
            },
            "type": "barpolar"
           }
          ],
          "carpet": [
           {
            "aaxis": {
             "endlinecolor": "#2a3f5f",
             "gridcolor": "white",
             "linecolor": "white",
             "minorgridcolor": "white",
             "startlinecolor": "#2a3f5f"
            },
            "baxis": {
             "endlinecolor": "#2a3f5f",
             "gridcolor": "white",
             "linecolor": "white",
             "minorgridcolor": "white",
             "startlinecolor": "#2a3f5f"
            },
            "type": "carpet"
           }
          ],
          "choropleth": [
           {
            "colorbar": {
             "outlinewidth": 0,
             "ticks": ""
            },
            "type": "choropleth"
           }
          ],
          "contour": [
           {
            "colorbar": {
             "outlinewidth": 0,
             "ticks": ""
            },
            "colorscale": [
             [
              0,
              "#0d0887"
             ],
             [
              0.1111111111111111,
              "#46039f"
             ],
             [
              0.2222222222222222,
              "#7201a8"
             ],
             [
              0.3333333333333333,
              "#9c179e"
             ],
             [
              0.4444444444444444,
              "#bd3786"
             ],
             [
              0.5555555555555556,
              "#d8576b"
             ],
             [
              0.6666666666666666,
              "#ed7953"
             ],
             [
              0.7777777777777778,
              "#fb9f3a"
             ],
             [
              0.8888888888888888,
              "#fdca26"
             ],
             [
              1,
              "#f0f921"
             ]
            ],
            "type": "contour"
           }
          ],
          "contourcarpet": [
           {
            "colorbar": {
             "outlinewidth": 0,
             "ticks": ""
            },
            "type": "contourcarpet"
           }
          ],
          "heatmap": [
           {
            "colorbar": {
             "outlinewidth": 0,
             "ticks": ""
            },
            "colorscale": [
             [
              0,
              "#0d0887"
             ],
             [
              0.1111111111111111,
              "#46039f"
             ],
             [
              0.2222222222222222,
              "#7201a8"
             ],
             [
              0.3333333333333333,
              "#9c179e"
             ],
             [
              0.4444444444444444,
              "#bd3786"
             ],
             [
              0.5555555555555556,
              "#d8576b"
             ],
             [
              0.6666666666666666,
              "#ed7953"
             ],
             [
              0.7777777777777778,
              "#fb9f3a"
             ],
             [
              0.8888888888888888,
              "#fdca26"
             ],
             [
              1,
              "#f0f921"
             ]
            ],
            "type": "heatmap"
           }
          ],
          "heatmapgl": [
           {
            "colorbar": {
             "outlinewidth": 0,
             "ticks": ""
            },
            "colorscale": [
             [
              0,
              "#0d0887"
             ],
             [
              0.1111111111111111,
              "#46039f"
             ],
             [
              0.2222222222222222,
              "#7201a8"
             ],
             [
              0.3333333333333333,
              "#9c179e"
             ],
             [
              0.4444444444444444,
              "#bd3786"
             ],
             [
              0.5555555555555556,
              "#d8576b"
             ],
             [
              0.6666666666666666,
              "#ed7953"
             ],
             [
              0.7777777777777778,
              "#fb9f3a"
             ],
             [
              0.8888888888888888,
              "#fdca26"
             ],
             [
              1,
              "#f0f921"
             ]
            ],
            "type": "heatmapgl"
           }
          ],
          "histogram": [
           {
            "marker": {
             "pattern": {
              "fillmode": "overlay",
              "size": 10,
              "solidity": 0.2
             }
            },
            "type": "histogram"
           }
          ],
          "histogram2d": [
           {
            "colorbar": {
             "outlinewidth": 0,
             "ticks": ""
            },
            "colorscale": [
             [
              0,
              "#0d0887"
             ],
             [
              0.1111111111111111,
              "#46039f"
             ],
             [
              0.2222222222222222,
              "#7201a8"
             ],
             [
              0.3333333333333333,
              "#9c179e"
             ],
             [
              0.4444444444444444,
              "#bd3786"
             ],
             [
              0.5555555555555556,
              "#d8576b"
             ],
             [
              0.6666666666666666,
              "#ed7953"
             ],
             [
              0.7777777777777778,
              "#fb9f3a"
             ],
             [
              0.8888888888888888,
              "#fdca26"
             ],
             [
              1,
              "#f0f921"
             ]
            ],
            "type": "histogram2d"
           }
          ],
          "histogram2dcontour": [
           {
            "colorbar": {
             "outlinewidth": 0,
             "ticks": ""
            },
            "colorscale": [
             [
              0,
              "#0d0887"
             ],
             [
              0.1111111111111111,
              "#46039f"
             ],
             [
              0.2222222222222222,
              "#7201a8"
             ],
             [
              0.3333333333333333,
              "#9c179e"
             ],
             [
              0.4444444444444444,
              "#bd3786"
             ],
             [
              0.5555555555555556,
              "#d8576b"
             ],
             [
              0.6666666666666666,
              "#ed7953"
             ],
             [
              0.7777777777777778,
              "#fb9f3a"
             ],
             [
              0.8888888888888888,
              "#fdca26"
             ],
             [
              1,
              "#f0f921"
             ]
            ],
            "type": "histogram2dcontour"
           }
          ],
          "mesh3d": [
           {
            "colorbar": {
             "outlinewidth": 0,
             "ticks": ""
            },
            "type": "mesh3d"
           }
          ],
          "parcoords": [
           {
            "line": {
             "colorbar": {
              "outlinewidth": 0,
              "ticks": ""
             }
            },
            "type": "parcoords"
           }
          ],
          "pie": [
           {
            "automargin": true,
            "type": "pie"
           }
          ],
          "scatter": [
           {
            "fillpattern": {
             "fillmode": "overlay",
             "size": 10,
             "solidity": 0.2
            },
            "type": "scatter"
           }
          ],
          "scatter3d": [
           {
            "line": {
             "colorbar": {
              "outlinewidth": 0,
              "ticks": ""
             }
            },
            "marker": {
             "colorbar": {
              "outlinewidth": 0,
              "ticks": ""
             }
            },
            "type": "scatter3d"
           }
          ],
          "scattercarpet": [
           {
            "marker": {
             "colorbar": {
              "outlinewidth": 0,
              "ticks": ""
             }
            },
            "type": "scattercarpet"
           }
          ],
          "scattergeo": [
           {
            "marker": {
             "colorbar": {
              "outlinewidth": 0,
              "ticks": ""
             }
            },
            "type": "scattergeo"
           }
          ],
          "scattergl": [
           {
            "marker": {
             "colorbar": {
              "outlinewidth": 0,
              "ticks": ""
             }
            },
            "type": "scattergl"
           }
          ],
          "scattermapbox": [
           {
            "marker": {
             "colorbar": {
              "outlinewidth": 0,
              "ticks": ""
             }
            },
            "type": "scattermapbox"
           }
          ],
          "scatterpolar": [
           {
            "marker": {
             "colorbar": {
              "outlinewidth": 0,
              "ticks": ""
             }
            },
            "type": "scatterpolar"
           }
          ],
          "scatterpolargl": [
           {
            "marker": {
             "colorbar": {
              "outlinewidth": 0,
              "ticks": ""
             }
            },
            "type": "scatterpolargl"
           }
          ],
          "scatterternary": [
           {
            "marker": {
             "colorbar": {
              "outlinewidth": 0,
              "ticks": ""
             }
            },
            "type": "scatterternary"
           }
          ],
          "surface": [
           {
            "colorbar": {
             "outlinewidth": 0,
             "ticks": ""
            },
            "colorscale": [
             [
              0,
              "#0d0887"
             ],
             [
              0.1111111111111111,
              "#46039f"
             ],
             [
              0.2222222222222222,
              "#7201a8"
             ],
             [
              0.3333333333333333,
              "#9c179e"
             ],
             [
              0.4444444444444444,
              "#bd3786"
             ],
             [
              0.5555555555555556,
              "#d8576b"
             ],
             [
              0.6666666666666666,
              "#ed7953"
             ],
             [
              0.7777777777777778,
              "#fb9f3a"
             ],
             [
              0.8888888888888888,
              "#fdca26"
             ],
             [
              1,
              "#f0f921"
             ]
            ],
            "type": "surface"
           }
          ],
          "table": [
           {
            "cells": {
             "fill": {
              "color": "#EBF0F8"
             },
             "line": {
              "color": "white"
             }
            },
            "header": {
             "fill": {
              "color": "#C8D4E3"
             },
             "line": {
              "color": "white"
             }
            },
            "type": "table"
           }
          ]
         },
         "layout": {
          "annotationdefaults": {
           "arrowcolor": "#2a3f5f",
           "arrowhead": 0,
           "arrowwidth": 1
          },
          "autotypenumbers": "strict",
          "coloraxis": {
           "colorbar": {
            "outlinewidth": 0,
            "ticks": ""
           }
          },
          "colorscale": {
           "diverging": [
            [
             0,
             "#8e0152"
            ],
            [
             0.1,
             "#c51b7d"
            ],
            [
             0.2,
             "#de77ae"
            ],
            [
             0.3,
             "#f1b6da"
            ],
            [
             0.4,
             "#fde0ef"
            ],
            [
             0.5,
             "#f7f7f7"
            ],
            [
             0.6,
             "#e6f5d0"
            ],
            [
             0.7,
             "#b8e186"
            ],
            [
             0.8,
             "#7fbc41"
            ],
            [
             0.9,
             "#4d9221"
            ],
            [
             1,
             "#276419"
            ]
           ],
           "sequential": [
            [
             0,
             "#0d0887"
            ],
            [
             0.1111111111111111,
             "#46039f"
            ],
            [
             0.2222222222222222,
             "#7201a8"
            ],
            [
             0.3333333333333333,
             "#9c179e"
            ],
            [
             0.4444444444444444,
             "#bd3786"
            ],
            [
             0.5555555555555556,
             "#d8576b"
            ],
            [
             0.6666666666666666,
             "#ed7953"
            ],
            [
             0.7777777777777778,
             "#fb9f3a"
            ],
            [
             0.8888888888888888,
             "#fdca26"
            ],
            [
             1,
             "#f0f921"
            ]
           ],
           "sequentialminus": [
            [
             0,
             "#0d0887"
            ],
            [
             0.1111111111111111,
             "#46039f"
            ],
            [
             0.2222222222222222,
             "#7201a8"
            ],
            [
             0.3333333333333333,
             "#9c179e"
            ],
            [
             0.4444444444444444,
             "#bd3786"
            ],
            [
             0.5555555555555556,
             "#d8576b"
            ],
            [
             0.6666666666666666,
             "#ed7953"
            ],
            [
             0.7777777777777778,
             "#fb9f3a"
            ],
            [
             0.8888888888888888,
             "#fdca26"
            ],
            [
             1,
             "#f0f921"
            ]
           ]
          },
          "colorway": [
           "#636efa",
           "#EF553B",
           "#00cc96",
           "#ab63fa",
           "#FFA15A",
           "#19d3f3",
           "#FF6692",
           "#B6E880",
           "#FF97FF",
           "#FECB52"
          ],
          "font": {
           "color": "#2a3f5f"
          },
          "geo": {
           "bgcolor": "white",
           "lakecolor": "white",
           "landcolor": "#E5ECF6",
           "showlakes": true,
           "showland": true,
           "subunitcolor": "white"
          },
          "hoverlabel": {
           "align": "left"
          },
          "hovermode": "closest",
          "mapbox": {
           "style": "light"
          },
          "paper_bgcolor": "white",
          "plot_bgcolor": "#E5ECF6",
          "polar": {
           "angularaxis": {
            "gridcolor": "white",
            "linecolor": "white",
            "ticks": ""
           },
           "bgcolor": "#E5ECF6",
           "radialaxis": {
            "gridcolor": "white",
            "linecolor": "white",
            "ticks": ""
           }
          },
          "scene": {
           "xaxis": {
            "backgroundcolor": "#E5ECF6",
            "gridcolor": "white",
            "gridwidth": 2,
            "linecolor": "white",
            "showbackground": true,
            "ticks": "",
            "zerolinecolor": "white"
           },
           "yaxis": {
            "backgroundcolor": "#E5ECF6",
            "gridcolor": "white",
            "gridwidth": 2,
            "linecolor": "white",
            "showbackground": true,
            "ticks": "",
            "zerolinecolor": "white"
           },
           "zaxis": {
            "backgroundcolor": "#E5ECF6",
            "gridcolor": "white",
            "gridwidth": 2,
            "linecolor": "white",
            "showbackground": true,
            "ticks": "",
            "zerolinecolor": "white"
           }
          },
          "shapedefaults": {
           "line": {
            "color": "#2a3f5f"
           }
          },
          "ternary": {
           "aaxis": {
            "gridcolor": "white",
            "linecolor": "white",
            "ticks": ""
           },
           "baxis": {
            "gridcolor": "white",
            "linecolor": "white",
            "ticks": ""
           },
           "bgcolor": "#E5ECF6",
           "caxis": {
            "gridcolor": "white",
            "linecolor": "white",
            "ticks": ""
           }
          },
          "title": {
           "x": 0.05
          },
          "xaxis": {
           "automargin": true,
           "gridcolor": "white",
           "linecolor": "white",
           "ticks": "",
           "title": {
            "standoff": 15
           },
           "zerolinecolor": "white",
           "zerolinewidth": 2
          },
          "yaxis": {
           "automargin": true,
           "gridcolor": "white",
           "linecolor": "white",
           "ticks": "",
           "title": {
            "standoff": 15
           },
           "zerolinecolor": "white",
           "zerolinewidth": 2
          }
         }
        },
        "title": {
         "text": "Product Communities Based on Ingredient Research"
        },
        "width": 1000
       }
      }
     },
     "metadata": {},
     "output_type": "display_data"
    }
   ],
   "source": [
    "import pandas as pd\n",
    "import networkx as nx\n",
    "from community import community_louvain\n",
    "import plotly.graph_objs as go\n",
    "\n",
    "\n",
    "from neo4j import GraphDatabase\n",
    "\n",
    "\n",
    "\n",
    "with driver.session() as session:\n",
    "    # Run the Cypher query and get the results\n",
    "    result = session.run(\"MATCH (p:Product)-[:STOCKED_IN]->(c:Category), \"\n",
    "                         \"(p)-[:HAS_RECIPE]->(r:Recipe)-[:USES_INGREDIENT]->(i:Ingredient)-[:HAS_RESEARCH]->(res:IngredientResearch) \"\n",
    "                         \"RETURN p.name AS product, res.ingredient_name AS ingredientResearch, COLLECT(c.name) AS categories\")\n",
    "\n",
    "    # Convert results to Pandas DataFrame\n",
    "    data = []\n",
    "    for record in result:\n",
    "        data.append({'product': record['product'], 'ingredientResearch': record['ingredientResearch'], 'categories': record['categories']})\n",
    "    df = pd.DataFrame(data)\n",
    "\n",
    "    # Build a product network based on raw material research\n",
    "    product_net = nx.Graph()\n",
    "\n",
    "    for _, row in df.iterrows():\n",
    "        product = row['product']\n",
    "        ingredient = row['ingredientResearch']\n",
    "        categories = row['categories']\n",
    "        \n",
    "        # Add node\n",
    "        product_net.add_node(product, ingredient=ingredient, categories=categories)\n",
    "        \n",
    "        # Add edge\n",
    "        for other_product in product_net.nodes():\n",
    "            if other_product != product and ingredient in product_net.nodes[other_product]['ingredient']:\n",
    "                product_net.add_edge(product, other_product, weight=1)\n",
    "\n",
    "    # Community testing based on raw material research\n",
    "    ingredient_partition = community_louvain.best_partition(product_net)\n",
    "\n",
    "    # Build community lists\n",
    "    communities = {}\n",
    "    for node, community in ingredient_partition.items():\n",
    "        if community not in communities:\n",
    "            communities[community] = []\n",
    "        communities[community].append(node)\n",
    "\n",
    "    # Create the table data\n",
    "    table_data = []\n",
    "    for community, products in sorted(communities.items()):\n",
    "        row = [f\"<b>Community {community}</b>\"] + [\"<br>\".join(products)]\n",
    "        table_data.append(row)\n",
    "\n",
    "    # Create table\n",
    "    table = go.Table(\n",
    "        header=dict(values=[\"Community\", \"Products\"]),\n",
    "        cells=dict(values=[list(zip(*table_data))[0], list(zip(*table_data))[1]],\n",
    "                   fill_color=[['#f2f2f2', 'white'] * len(table_data)],\n",
    "                   align=['center', 'left'],\n",
    "                   font=dict(size=10),\n",
    "                   height=50)\n",
    "    )\n",
    "\n",
    "    # Create layout\n",
    "    layout = go.Layout(title=\"Product Communities Based on Ingredient Research\",\n",
    "                       width=1000, height=600)\n",
    "\n",
    "    # Create the figure\n",
    "    fig = go.Figure(data=[table], layout=layout)\n",
    "    fig.show()\n"
   ]
  },
  {
   "cell_type": "code",
   "execution_count": 51,
   "metadata": {},
   "outputs": [
    {
     "data": {
      "application/vnd.plotly.v1+json": {
       "config": {
        "plotlyServerURL": "https://plot.ly"
       },
       "data": [
        {
         "cells": {
          "align": [
           "center",
           "left"
          ],
          "fill": {
           "color": [
            [
             "#f2f2f2",
             "white",
             "#f2f2f2",
             "white",
             "#f2f2f2",
             "white",
             "#f2f2f2",
             "white",
             "#f2f2f2",
             "white",
             "#f2f2f2",
             "white",
             "#f2f2f2",
             "white",
             "#f2f2f2",
             "white",
             "#f2f2f2",
             "white",
             "#f2f2f2",
             "white",
             "#f2f2f2",
             "white",
             "#f2f2f2",
             "white",
             "#f2f2f2",
             "white",
             "#f2f2f2",
             "white",
             "#f2f2f2",
             "white",
             "#f2f2f2",
             "white",
             "#f2f2f2",
             "white",
             "#f2f2f2",
             "white",
             "#f2f2f2",
             "white",
             "#f2f2f2",
             "white",
             "#f2f2f2",
             "white",
             "#f2f2f2",
             "white",
             "#f2f2f2",
             "white",
             "#f2f2f2",
             "white",
             "#f2f2f2",
             "white",
             "#f2f2f2",
             "white",
             "#f2f2f2",
             "white",
             "#f2f2f2",
             "white",
             "#f2f2f2",
             "white",
             "#f2f2f2",
             "white",
             "#f2f2f2",
             "white",
             "#f2f2f2",
             "white",
             "#f2f2f2",
             "white",
             "#f2f2f2",
             "white"
            ]
           ]
          },
          "font": {
           "size": 11
          },
          "height": 80,
          "values": [
           [
            "<b>Community 0</b>",
            "<b>Community 1</b>",
            "<b>Community 2</b>",
            "<b>Community 3</b>",
            "<b>Community 4</b>",
            "<b>Community 5</b>",
            "<b>Community 6</b>",
            "<b>Community 7</b>",
            "<b>Community 8</b>",
            "<b>Community 9</b>",
            "<b>Community 10</b>",
            "<b>Community 11</b>",
            "<b>Community 12</b>",
            "<b>Community 13</b>",
            "<b>Community 14</b>",
            "<b>Community 15</b>",
            "<b>Community 16</b>",
            "<b>Community 17</b>",
            "<b>Community 18</b>",
            "<b>Community 19</b>",
            "<b>Community 20</b>",
            "<b>Community 21</b>",
            "<b>Community 22</b>",
            "<b>Community 23</b>",
            "<b>Community 24</b>",
            "<b>Community 25</b>",
            "<b>Community 26</b>",
            "<b>Community 27</b>",
            "<b>Community 28</b>",
            "<b>Community 29</b>",
            "<b>Community 30</b>",
            "<b>Community 31</b>",
            "<b>Community 32</b>",
            "<b>Community 33</b>"
           ],
           [
            "Coca - Cola Classic  Soft Drink Multipack Cans<br>Coca - Cola Zero Sugar Soft Drink Multipack Cans<br>Coca - Cola Classic  Soft Drink Mini Cans<br>Coca - Cola Caffeine Free Zero Sugar Soft Drink Multipack Cans<br>Coca - Cola Vanilla  Soft Drink Multipack Cans<br>Coca - Cola Zero Sugar Soft Drink Mini Cans<br>Schweppes Soda Water Bottle Classic Mixers<br>Schweppes Indian Tonic Water Classic Mixers Bottle<br>Schweppes Lime Soda Water With Lime Juice Bottle<br>Schweppes Zero Sugar Classic Mixers Indian Tonic Water Bottle<br>Schweppes Lemon Lime Natural Mineral Water Bottle<br>Schweppes Orange Mango Natural Mineral Water Bottle",
            "Heinz Ketchup Tomato Sauce Ketchup",
            "Indomie Mi Goreng Instant Noodles<br>Maggi 2 Minute Chicken Flavour Instant Noodles<br>Supreme Noodles Cup Chicken Flavour<br>Fantastic Chicken Noodle Cup<br>Fantastic Chicken Noodle Bowl<br>Indomie Mi Goreng Noodle Cup<br>Maggi 2 Minute Beef Flavour Instant Noodles<br>Supreme Noodles Cup Beef Flavour",
            "Woolworths Lasagne Sheets",
            "Schweppes Zero Sugar Lime Infused Mineral Water Bottle<br>Schweppes Raspberry Infused Natural Mineral Water Bottle",
            "Schweppes Natural Mineral Water Bottle Natural",
            "Woolworths Spring Water Bottles<br>Woolworths Spring Water",
            "Frantelle Australian Still Spring Water Bottles Multipack<br>Mount Franklin Spring Water Bottle",
            "Kitkat 4 Finger Milk Chocolate Bar<br>Kitkat Chunky Original Chocolate Bar",
            "Cadbury Dairy Milk Caramello Koala Chocolate",
            "Twix Milk Chocolate Bar With Caramel Biscuit",
            "Mars Chocolate Bar With Nougat & Caramel",
            "Cadbury Dairy Milk Chocolate Roll<br>Cadbury Dairy Milk Chocolate Bar<br>Cadbury Twirl Chocolate Bar",
            "Cadbury Chomp Chocolate Bar",
            "Arnott's Premier Chocolate Chip Cookies<br>Arnott's Mini Choc Chip Cookie Multipack Biscuits",
            "Woolworths Chocolate Chip Cookies<br>Woolworths The King Of Chunky Chocolate Chip Cookies",
            "Oreo Original Mini Cookies Multipack<br>Oreo Minis Cookies Variety Bags 18 Pack<br>Oreo Original Cookies<br>Oreo Double Stuff Cookies<br>Oreo Original Cookies Family Pack<br>Oreo Chocolate Cookies<br>Oreo Grab & Go Original Cookies 9 Pack<br>Oreo Neapolitan Double Stuff Cookies",
            "Cadbury Classic Choc Chip Cookies<br>Cadbury Choc Centre Cookies",
            "Byron Bay Cookies Dotty Cookie Bites",
            "Rimmel Scandaleyes Eye Definer Brown",
            "Woolworths Apple Juice<br>Woolworths Apple & Mango Juice<br>Woolworths Orange Juice<br>Woolworths Breakfast Juice<br>Woolworths Apple & Blackcurrant Juice<br>Woolworths Multivitamin Juice<br>Golden Circle Golden Pash Fruit Drink<br>Golden Circle Drinks Pine Orange Fruit Drink<br>Golden Circle Drinks Sunshine Punch Fruit Drink<br>Golden Circle Fruit Drinks Lunch Box Poppers Tropical Punch Multipack",
            "Woolworths Full Cream Milk<br>Dairy Farmers Full Cream Milk Full Cream Milk<br>Norco Full Cream Milk<br>A2 Milk Full Cream Milk<br>Pauls Farmhouse Gold Full Cream Milk",
            "Woolworths Diced Italian Tomatoes",
            "Essentials Coconut Cream<br>Essentials Coconut Milk",
            "Woolworths Uht Full Cream Milk",
            "Woolworths Creamed Rice",
            "Woolworths Peach In Strawberry Jelly<br>Woolworths Two Fruits In Juice Cups<br>Woolworths Two Fruits In Juice<br>Woolworths Two Fruits In Tropical Jelly",
            "Woolworths Apple In Pineapple Jelly",
            "Goulburn Valley Two Fruits In Juice<br>Goulburn Valley Two Fruits In Juice Fruit Cups In Juice",
            "Dole Pineapple Slices In Syrup",
            "Dole Pineapple Chunks In Juice",
            "Deep Cove Sardines In Oil",
            "Woolworths Tomato Sauce Squeeze<br>Woolworths Barbecue Sauce Squeeze<br>Masterfoods Tomato Sauce<br>Woolworths Tomato Sauce<br>Masterfoods Barbecue Sauce<br>Fountain Tomato Sauce Squeeze<br>Fountain Barbecue Bbq Sauce Squeeze<br>Woolworths Secret Burger Sauce<br>Woolworths Barbecue Sauce",
            "Smith's Crinkle Cut Potato Chips Original<br>Smith's Crinkle Cut Potato Chips Cheese & Onion<br>Smith's Crinkle Cut Potato Chips Barbecue<br>Smith's Crinkle Cut Potato Chips Chicken<br>Thins Chips Salt & Vinegar<br>Smith's Thinly Cut Potato Chips Original Share Pack<br>Thins Chips Chicken<br>Smith's Crinkle Cut Potato Chips Salt & Vinegar<br>Thins Chips Light & Tangy<br>Thins Cheese & Onion Chips"
           ]
          ]
         },
         "header": {
          "values": [
           "Community",
           "Products"
          ]
         },
         "type": "table"
        }
       ],
       "layout": {
        "height": 600,
        "template": {
         "data": {
          "bar": [
           {
            "error_x": {
             "color": "#2a3f5f"
            },
            "error_y": {
             "color": "#2a3f5f"
            },
            "marker": {
             "line": {
              "color": "#E5ECF6",
              "width": 0.5
             },
             "pattern": {
              "fillmode": "overlay",
              "size": 10,
              "solidity": 0.2
             }
            },
            "type": "bar"
           }
          ],
          "barpolar": [
           {
            "marker": {
             "line": {
              "color": "#E5ECF6",
              "width": 0.5
             },
             "pattern": {
              "fillmode": "overlay",
              "size": 10,
              "solidity": 0.2
             }
            },
            "type": "barpolar"
           }
          ],
          "carpet": [
           {
            "aaxis": {
             "endlinecolor": "#2a3f5f",
             "gridcolor": "white",
             "linecolor": "white",
             "minorgridcolor": "white",
             "startlinecolor": "#2a3f5f"
            },
            "baxis": {
             "endlinecolor": "#2a3f5f",
             "gridcolor": "white",
             "linecolor": "white",
             "minorgridcolor": "white",
             "startlinecolor": "#2a3f5f"
            },
            "type": "carpet"
           }
          ],
          "choropleth": [
           {
            "colorbar": {
             "outlinewidth": 0,
             "ticks": ""
            },
            "type": "choropleth"
           }
          ],
          "contour": [
           {
            "colorbar": {
             "outlinewidth": 0,
             "ticks": ""
            },
            "colorscale": [
             [
              0,
              "#0d0887"
             ],
             [
              0.1111111111111111,
              "#46039f"
             ],
             [
              0.2222222222222222,
              "#7201a8"
             ],
             [
              0.3333333333333333,
              "#9c179e"
             ],
             [
              0.4444444444444444,
              "#bd3786"
             ],
             [
              0.5555555555555556,
              "#d8576b"
             ],
             [
              0.6666666666666666,
              "#ed7953"
             ],
             [
              0.7777777777777778,
              "#fb9f3a"
             ],
             [
              0.8888888888888888,
              "#fdca26"
             ],
             [
              1,
              "#f0f921"
             ]
            ],
            "type": "contour"
           }
          ],
          "contourcarpet": [
           {
            "colorbar": {
             "outlinewidth": 0,
             "ticks": ""
            },
            "type": "contourcarpet"
           }
          ],
          "heatmap": [
           {
            "colorbar": {
             "outlinewidth": 0,
             "ticks": ""
            },
            "colorscale": [
             [
              0,
              "#0d0887"
             ],
             [
              0.1111111111111111,
              "#46039f"
             ],
             [
              0.2222222222222222,
              "#7201a8"
             ],
             [
              0.3333333333333333,
              "#9c179e"
             ],
             [
              0.4444444444444444,
              "#bd3786"
             ],
             [
              0.5555555555555556,
              "#d8576b"
             ],
             [
              0.6666666666666666,
              "#ed7953"
             ],
             [
              0.7777777777777778,
              "#fb9f3a"
             ],
             [
              0.8888888888888888,
              "#fdca26"
             ],
             [
              1,
              "#f0f921"
             ]
            ],
            "type": "heatmap"
           }
          ],
          "heatmapgl": [
           {
            "colorbar": {
             "outlinewidth": 0,
             "ticks": ""
            },
            "colorscale": [
             [
              0,
              "#0d0887"
             ],
             [
              0.1111111111111111,
              "#46039f"
             ],
             [
              0.2222222222222222,
              "#7201a8"
             ],
             [
              0.3333333333333333,
              "#9c179e"
             ],
             [
              0.4444444444444444,
              "#bd3786"
             ],
             [
              0.5555555555555556,
              "#d8576b"
             ],
             [
              0.6666666666666666,
              "#ed7953"
             ],
             [
              0.7777777777777778,
              "#fb9f3a"
             ],
             [
              0.8888888888888888,
              "#fdca26"
             ],
             [
              1,
              "#f0f921"
             ]
            ],
            "type": "heatmapgl"
           }
          ],
          "histogram": [
           {
            "marker": {
             "pattern": {
              "fillmode": "overlay",
              "size": 10,
              "solidity": 0.2
             }
            },
            "type": "histogram"
           }
          ],
          "histogram2d": [
           {
            "colorbar": {
             "outlinewidth": 0,
             "ticks": ""
            },
            "colorscale": [
             [
              0,
              "#0d0887"
             ],
             [
              0.1111111111111111,
              "#46039f"
             ],
             [
              0.2222222222222222,
              "#7201a8"
             ],
             [
              0.3333333333333333,
              "#9c179e"
             ],
             [
              0.4444444444444444,
              "#bd3786"
             ],
             [
              0.5555555555555556,
              "#d8576b"
             ],
             [
              0.6666666666666666,
              "#ed7953"
             ],
             [
              0.7777777777777778,
              "#fb9f3a"
             ],
             [
              0.8888888888888888,
              "#fdca26"
             ],
             [
              1,
              "#f0f921"
             ]
            ],
            "type": "histogram2d"
           }
          ],
          "histogram2dcontour": [
           {
            "colorbar": {
             "outlinewidth": 0,
             "ticks": ""
            },
            "colorscale": [
             [
              0,
              "#0d0887"
             ],
             [
              0.1111111111111111,
              "#46039f"
             ],
             [
              0.2222222222222222,
              "#7201a8"
             ],
             [
              0.3333333333333333,
              "#9c179e"
             ],
             [
              0.4444444444444444,
              "#bd3786"
             ],
             [
              0.5555555555555556,
              "#d8576b"
             ],
             [
              0.6666666666666666,
              "#ed7953"
             ],
             [
              0.7777777777777778,
              "#fb9f3a"
             ],
             [
              0.8888888888888888,
              "#fdca26"
             ],
             [
              1,
              "#f0f921"
             ]
            ],
            "type": "histogram2dcontour"
           }
          ],
          "mesh3d": [
           {
            "colorbar": {
             "outlinewidth": 0,
             "ticks": ""
            },
            "type": "mesh3d"
           }
          ],
          "parcoords": [
           {
            "line": {
             "colorbar": {
              "outlinewidth": 0,
              "ticks": ""
             }
            },
            "type": "parcoords"
           }
          ],
          "pie": [
           {
            "automargin": true,
            "type": "pie"
           }
          ],
          "scatter": [
           {
            "fillpattern": {
             "fillmode": "overlay",
             "size": 10,
             "solidity": 0.2
            },
            "type": "scatter"
           }
          ],
          "scatter3d": [
           {
            "line": {
             "colorbar": {
              "outlinewidth": 0,
              "ticks": ""
             }
            },
            "marker": {
             "colorbar": {
              "outlinewidth": 0,
              "ticks": ""
             }
            },
            "type": "scatter3d"
           }
          ],
          "scattercarpet": [
           {
            "marker": {
             "colorbar": {
              "outlinewidth": 0,
              "ticks": ""
             }
            },
            "type": "scattercarpet"
           }
          ],
          "scattergeo": [
           {
            "marker": {
             "colorbar": {
              "outlinewidth": 0,
              "ticks": ""
             }
            },
            "type": "scattergeo"
           }
          ],
          "scattergl": [
           {
            "marker": {
             "colorbar": {
              "outlinewidth": 0,
              "ticks": ""
             }
            },
            "type": "scattergl"
           }
          ],
          "scattermapbox": [
           {
            "marker": {
             "colorbar": {
              "outlinewidth": 0,
              "ticks": ""
             }
            },
            "type": "scattermapbox"
           }
          ],
          "scatterpolar": [
           {
            "marker": {
             "colorbar": {
              "outlinewidth": 0,
              "ticks": ""
             }
            },
            "type": "scatterpolar"
           }
          ],
          "scatterpolargl": [
           {
            "marker": {
             "colorbar": {
              "outlinewidth": 0,
              "ticks": ""
             }
            },
            "type": "scatterpolargl"
           }
          ],
          "scatterternary": [
           {
            "marker": {
             "colorbar": {
              "outlinewidth": 0,
              "ticks": ""
             }
            },
            "type": "scatterternary"
           }
          ],
          "surface": [
           {
            "colorbar": {
             "outlinewidth": 0,
             "ticks": ""
            },
            "colorscale": [
             [
              0,
              "#0d0887"
             ],
             [
              0.1111111111111111,
              "#46039f"
             ],
             [
              0.2222222222222222,
              "#7201a8"
             ],
             [
              0.3333333333333333,
              "#9c179e"
             ],
             [
              0.4444444444444444,
              "#bd3786"
             ],
             [
              0.5555555555555556,
              "#d8576b"
             ],
             [
              0.6666666666666666,
              "#ed7953"
             ],
             [
              0.7777777777777778,
              "#fb9f3a"
             ],
             [
              0.8888888888888888,
              "#fdca26"
             ],
             [
              1,
              "#f0f921"
             ]
            ],
            "type": "surface"
           }
          ],
          "table": [
           {
            "cells": {
             "fill": {
              "color": "#EBF0F8"
             },
             "line": {
              "color": "white"
             }
            },
            "header": {
             "fill": {
              "color": "#C8D4E3"
             },
             "line": {
              "color": "white"
             }
            },
            "type": "table"
           }
          ]
         },
         "layout": {
          "annotationdefaults": {
           "arrowcolor": "#2a3f5f",
           "arrowhead": 0,
           "arrowwidth": 1
          },
          "autotypenumbers": "strict",
          "coloraxis": {
           "colorbar": {
            "outlinewidth": 0,
            "ticks": ""
           }
          },
          "colorscale": {
           "diverging": [
            [
             0,
             "#8e0152"
            ],
            [
             0.1,
             "#c51b7d"
            ],
            [
             0.2,
             "#de77ae"
            ],
            [
             0.3,
             "#f1b6da"
            ],
            [
             0.4,
             "#fde0ef"
            ],
            [
             0.5,
             "#f7f7f7"
            ],
            [
             0.6,
             "#e6f5d0"
            ],
            [
             0.7,
             "#b8e186"
            ],
            [
             0.8,
             "#7fbc41"
            ],
            [
             0.9,
             "#4d9221"
            ],
            [
             1,
             "#276419"
            ]
           ],
           "sequential": [
            [
             0,
             "#0d0887"
            ],
            [
             0.1111111111111111,
             "#46039f"
            ],
            [
             0.2222222222222222,
             "#7201a8"
            ],
            [
             0.3333333333333333,
             "#9c179e"
            ],
            [
             0.4444444444444444,
             "#bd3786"
            ],
            [
             0.5555555555555556,
             "#d8576b"
            ],
            [
             0.6666666666666666,
             "#ed7953"
            ],
            [
             0.7777777777777778,
             "#fb9f3a"
            ],
            [
             0.8888888888888888,
             "#fdca26"
            ],
            [
             1,
             "#f0f921"
            ]
           ],
           "sequentialminus": [
            [
             0,
             "#0d0887"
            ],
            [
             0.1111111111111111,
             "#46039f"
            ],
            [
             0.2222222222222222,
             "#7201a8"
            ],
            [
             0.3333333333333333,
             "#9c179e"
            ],
            [
             0.4444444444444444,
             "#bd3786"
            ],
            [
             0.5555555555555556,
             "#d8576b"
            ],
            [
             0.6666666666666666,
             "#ed7953"
            ],
            [
             0.7777777777777778,
             "#fb9f3a"
            ],
            [
             0.8888888888888888,
             "#fdca26"
            ],
            [
             1,
             "#f0f921"
            ]
           ]
          },
          "colorway": [
           "#636efa",
           "#EF553B",
           "#00cc96",
           "#ab63fa",
           "#FFA15A",
           "#19d3f3",
           "#FF6692",
           "#B6E880",
           "#FF97FF",
           "#FECB52"
          ],
          "font": {
           "color": "#2a3f5f"
          },
          "geo": {
           "bgcolor": "white",
           "lakecolor": "white",
           "landcolor": "#E5ECF6",
           "showlakes": true,
           "showland": true,
           "subunitcolor": "white"
          },
          "hoverlabel": {
           "align": "left"
          },
          "hovermode": "closest",
          "mapbox": {
           "style": "light"
          },
          "paper_bgcolor": "white",
          "plot_bgcolor": "#E5ECF6",
          "polar": {
           "angularaxis": {
            "gridcolor": "white",
            "linecolor": "white",
            "ticks": ""
           },
           "bgcolor": "#E5ECF6",
           "radialaxis": {
            "gridcolor": "white",
            "linecolor": "white",
            "ticks": ""
           }
          },
          "scene": {
           "xaxis": {
            "backgroundcolor": "#E5ECF6",
            "gridcolor": "white",
            "gridwidth": 2,
            "linecolor": "white",
            "showbackground": true,
            "ticks": "",
            "zerolinecolor": "white"
           },
           "yaxis": {
            "backgroundcolor": "#E5ECF6",
            "gridcolor": "white",
            "gridwidth": 2,
            "linecolor": "white",
            "showbackground": true,
            "ticks": "",
            "zerolinecolor": "white"
           },
           "zaxis": {
            "backgroundcolor": "#E5ECF6",
            "gridcolor": "white",
            "gridwidth": 2,
            "linecolor": "white",
            "showbackground": true,
            "ticks": "",
            "zerolinecolor": "white"
           }
          },
          "shapedefaults": {
           "line": {
            "color": "#2a3f5f"
           }
          },
          "ternary": {
           "aaxis": {
            "gridcolor": "white",
            "linecolor": "white",
            "ticks": ""
           },
           "baxis": {
            "gridcolor": "white",
            "linecolor": "white",
            "ticks": ""
           },
           "bgcolor": "#E5ECF6",
           "caxis": {
            "gridcolor": "white",
            "linecolor": "white",
            "ticks": ""
           }
          },
          "title": {
           "x": 0.05
          },
          "xaxis": {
           "automargin": true,
           "gridcolor": "white",
           "linecolor": "white",
           "ticks": "",
           "title": {
            "standoff": 15
           },
           "zerolinecolor": "white",
           "zerolinewidth": 2
          },
          "yaxis": {
           "automargin": true,
           "gridcolor": "white",
           "linecolor": "white",
           "ticks": "",
           "title": {
            "standoff": 15
           },
           "zerolinecolor": "white",
           "zerolinewidth": 2
          }
         }
        },
        "title": {
         "text": "Product Communities Based on Ingredient Research and Category"
        },
        "width": 1000
       }
      }
     },
     "metadata": {},
     "output_type": "display_data"
    }
   ],
   "source": [
    "import pandas as pd\n",
    "import networkx as nx\n",
    "from community import community_louvain\n",
    "import plotly.graph_objs as go\n",
    "\n",
    "\n",
    "from neo4j import GraphDatabase\n",
    "\n",
    "\n",
    "with driver.session() as session:\n",
    "    # Run the Cypher query and get the results\n",
    "    result = session.run(\"MATCH (p:Product)-[:STOCKED_IN]->(c:Category), \"\n",
    "                         \"(p)-[:HAS_RECIPE]->(r:Recipe)-[:USES_INGREDIENT]->(i:Ingredient)-[:HAS_RESEARCH]->(res:IngredientResearch) \"\n",
    "                         \"RETURN p.name AS product, res.ingredient_name AS ingredientResearch, COLLECT(c.name) AS categories\")\n",
    "\n",
    "    # Convert results to Pandas DataFrame\n",
    "    data = []\n",
    "    for record in result:\n",
    "        data.append({'product': record['product'], 'ingredientResearch': record['ingredientResearch'], 'categories': record['categories']})\n",
    "    df = pd.DataFrame(data)\n",
    "\n",
    "    # Build product networks based on raw material research and product categories\n",
    "    product_net = nx.Graph()\n",
    "\n",
    "    for _, row in df.iterrows():\n",
    "        product = row['product']\n",
    "        ingredient = row['ingredientResearch']\n",
    "        categories = row['categories']\n",
    "        \n",
    "        # Add node\n",
    "        product_net.add_node(product, ingredient=ingredient, categories=categories)\n",
    "        \n",
    "        # Add edge\n",
    "        for other_product in product_net.nodes():\n",
    "            if other_product != product and ingredient in product_net.nodes[other_product]['ingredient'] and any(c in product_net.nodes[other_product]['categories'] for c in categories):\n",
    "                product_net.add_edge(product, other_product, weight=1)\n",
    "\n",
    "    # Community testing based on ingredient research and product categories\n",
    "    ingredient_partition = community_louvain.best_partition(product_net)\n",
    "\n",
    "    # Build community lists\n",
    "    communities = {}\n",
    "    for node, community in ingredient_partition.items():\n",
    "        if community not in communities:\n",
    "            communities[community] = []\n",
    "        communities[community].append(node)\n",
    "\n",
    "    # Create the table data\n",
    "    table_data = []\n",
    "    for community, products in sorted(communities.items()):\n",
    "        row = [f\"<b>Community {community}</b>\"] + [\"<br>\".join(products)]\n",
    "        table_data.append(row)\n",
    "\n",
    "    # Create the table\n",
    "    table = go.Table(\n",
    "        header=dict(values=[\"Community\", \"Products\"]),\n",
    "        cells=dict(values=[list(zip(*table_data))[0], list(zip(*table_data))[1]],\n",
    "                   fill_color=[['#f2f2f2', 'white'] * len(table_data)],\n",
    "                   align=['center', 'left'],\n",
    "                   font=dict(size=11),\n",
    "                   height=80)\n",
    "    )\n",
    "\n",
    "    # Create the layout\n",
    "    layout = go.Layout(title=\"Product Communities Based on Ingredient Research and Category\",\n",
    "                       width=1000, height=600)\n",
    "\n",
    "    # Create the figure\n",
    "    fig = go.Figure(data=[table], layout=layout)\n",
    "    fig.show()\n",
    "\n"
   ]
  },
  {
   "cell_type": "code",
   "execution_count": null,
   "metadata": {},
   "outputs": [],
   "source": []
  },
  {
   "cell_type": "code",
   "execution_count": 49,
   "metadata": {},
   "outputs": [
    {
     "data": {
      "application/vnd.plotly.v1+json": {
       "config": {
        "plotlyServerURL": "https://plot.ly"
       },
       "data": [
        {
         "cells": {
          "align": [
           "center",
           "left"
          ],
          "fill": {
           "color": [
            [
             "#f2f2f2",
             "white",
             "#f2f2f2",
             "white",
             "#f2f2f2",
             "white",
             "#f2f2f2",
             "white",
             "#f2f2f2",
             "white",
             "#f2f2f2",
             "white",
             "#f2f2f2",
             "white",
             "#f2f2f2",
             "white",
             "#f2f2f2",
             "white",
             "#f2f2f2",
             "white",
             "#f2f2f2",
             "white",
             "#f2f2f2",
             "white",
             "#f2f2f2",
             "white",
             "#f2f2f2",
             "white",
             "#f2f2f2",
             "white",
             "#f2f2f2",
             "white",
             "#f2f2f2",
             "white",
             "#f2f2f2",
             "white",
             "#f2f2f2",
             "white",
             "#f2f2f2",
             "white",
             "#f2f2f2",
             "white",
             "#f2f2f2",
             "white",
             "#f2f2f2",
             "white",
             "#f2f2f2",
             "white",
             "#f2f2f2",
             "white",
             "#f2f2f2",
             "white",
             "#f2f2f2",
             "white",
             "#f2f2f2",
             "white",
             "#f2f2f2",
             "white",
             "#f2f2f2",
             "white",
             "#f2f2f2",
             "white",
             "#f2f2f2",
             "white",
             "#f2f2f2",
             "white",
             "#f2f2f2",
             "white",
             "#f2f2f2",
             "white",
             "#f2f2f2",
             "white"
            ]
           ]
          },
          "font": {
           "size": 10
          },
          "height": 50,
          "values": [
           [
            "<b>Community 0</b>",
            "<b>Community 1</b>",
            "<b>Community 2</b>",
            "<b>Community 3</b>",
            "<b>Community 4</b>",
            "<b>Community 5</b>",
            "<b>Community 6</b>",
            "<b>Community 7</b>",
            "<b>Community 8</b>",
            "<b>Community 9</b>",
            "<b>Community 10</b>",
            "<b>Community 11</b>",
            "<b>Community 12</b>",
            "<b>Community 13</b>",
            "<b>Community 14</b>",
            "<b>Community 15</b>",
            "<b>Community 16</b>",
            "<b>Community 17</b>",
            "<b>Community 18</b>",
            "<b>Community 19</b>",
            "<b>Community 20</b>",
            "<b>Community 21</b>",
            "<b>Community 22</b>",
            "<b>Community 23</b>",
            "<b>Community 24</b>",
            "<b>Community 25</b>",
            "<b>Community 26</b>",
            "<b>Community 27</b>",
            "<b>Community 28</b>",
            "<b>Community 29</b>",
            "<b>Community 30</b>",
            "<b>Community 31</b>",
            "<b>Community 32</b>",
            "<b>Community 33</b>",
            "<b>Community 34</b>",
            "<b>Community 35</b>"
           ],
           [
            "Coca - Cola Zero Sugar Soft Drink Multipack Cans<br>Coca - Cola Classic  Soft Drink Multipack Cans<br>Coca - Cola Caffeine Free Zero Sugar Soft Drink Multipack Cans<br>Coca - Cola Classic  Soft Drink Mini Cans<br>Coca - Cola Vanilla  Soft Drink Multipack Cans<br>Coca - Cola Zero Sugar Soft Drink Mini Cans<br>Schweppes Soda Water Bottle Classic Mixers<br>Schweppes Zero Sugar Classic Mixers Indian Tonic Water Bottle<br>Schweppes Orange Mango Natural Mineral Water Bottle<br>Schweppes Indian Tonic Water Classic Mixers Bottle<br>Schweppes Lemon Lime Natural Mineral Water Bottle<br>Schweppes Lime Soda Water With Lime Juice Bottle",
            "Indomie Mi Goreng Instant Noodles<br>Supreme Noodles Cup Chicken Flavour<br>Maggi 2 Minute Beef Flavour Instant Noodles<br>Indomie Mi Goreng Noodle Cup<br>Supreme Noodles Cup Beef Flavour<br>Fantastic Chicken Noodle Cup<br>Fantastic Chicken Noodle Bowl<br>Maggi 2 Minute Chicken Flavour Instant Noodles",
            "Woolworths Lasagne Sheets",
            "Schweppes Raspberry Infused Natural Mineral Water Bottle<br>Schweppes Zero Sugar Lime Infused Mineral Water Bottle",
            "Schweppes Natural Mineral Water Bottle Natural",
            "Woolworths Spring Water Bottles<br>Woolworths Spring Water",
            "Frantelle Australian Still Spring Water Bottles Multipack<br>Mount Franklin Spring Water Bottle",
            "Kitkat 4 Finger Milk Chocolate Bar<br>Kitkat Chunky Original Chocolate Bar",
            "Cadbury Dairy Milk Caramello Koala Chocolate",
            "Twix Milk Chocolate Bar With Caramel Biscuit",
            "Mars Chocolate Bar With Nougat & Caramel",
            "Cadbury Dairy Milk Chocolate Bar<br>Cadbury Twirl Chocolate Bar<br>Cadbury Dairy Milk Chocolate Roll",
            "Cadbury Chomp Chocolate Bar",
            "Arnott's Premier Chocolate Chip Cookies<br>Arnott's Mini Choc Chip Cookie Multipack Biscuits",
            "Woolworths Chocolate Chip Cookies<br>Woolworths The King Of Chunky Chocolate Chip Cookies",
            "Oreo Original Mini Cookies Multipack<br>Oreo Double Stuff Cookies<br>Oreo Grab & Go Original Cookies 9 Pack<br>Oreo Neapolitan Double Stuff Cookies<br>Oreo Minis Cookies Variety Bags 18 Pack<br>Oreo Original Cookies Family Pack<br>Oreo Chocolate Cookies<br>Oreo Original Cookies",
            "Cadbury Choc Centre Cookies<br>Cadbury Classic Choc Chip Cookies",
            "Byron Bay Cookies Dotty Cookie Bites",
            "Rimmel Scandaleyes Eye Definer Brown",
            "Golden Circle Fruit Drinks Lunch Box Poppers Tropical Punch Multipack<br>Woolworths Apple & Blackcurrant Juice<br>Golden Circle Drinks Sunshine Punch Fruit Drink<br>Woolworths Apple Juice<br>Golden Circle Golden Pash Fruit Drink<br>Golden Circle Drinks Pine Orange Fruit Drink<br>Woolworths Orange Juice<br>Woolworths Multivitamin Juice<br>Woolworths Apple & Mango Juice<br>Woolworths Breakfast Juice",
            "Woolworths Full Cream Milk<br>Dairy Farmers Full Cream Milk Full Cream Milk<br>A2 Milk Full Cream Milk<br>Norco Full Cream Milk<br>Pauls Farmhouse Gold Full Cream Milk",
            "Woolworths Diced Italian Tomatoes",
            "Essentials Coconut Cream<br>Essentials Coconut Milk",
            "Woolworths Uht Full Cream Milk",
            "Woolworths Creamed Rice",
            "Woolworths Two Fruits In Juice Cups<br>Woolworths Peach In Strawberry Jelly<br>Woolworths Two Fruits In Tropical Jelly<br>Woolworths Two Fruits In Juice",
            "Woolworths Apple In Pineapple Jelly",
            "Goulburn Valley Two Fruits In Juice Fruit Cups In Juice<br>Goulburn Valley Two Fruits In Juice",
            "Dole Pineapple Slices In Syrup",
            "Dole Pineapple Chunks In Juice",
            "Deep Cove Sardines In Oil",
            "Woolworths Tomato Sauce<br>Masterfoods Tomato Sauce<br>Woolworths Tomato Sauce Squeeze<br>Woolworths Barbecue Sauce<br>Woolworths Barbecue Sauce Squeeze<br>Masterfoods Barbecue Sauce<br>Fountain Barbecue Bbq Sauce Squeeze<br>Fountain Tomato Sauce Squeeze<br>Woolworths Secret Burger Sauce",
            "Heinz Ketchup Tomato Sauce Ketchup",
            "Smith's Crinkle Cut Potato Chips Original<br>Smith's Crinkle Cut Potato Chips Salt & Vinegar<br>Smith's Crinkle Cut Potato Chips Barbecue<br>Thins Chips Salt & Vinegar<br>Thins Chips Chicken<br>Smith's Thinly Cut Potato Chips Original Share Pack",
            "Thins Chips Light & Tangy<br>Smith's Crinkle Cut Potato Chips Cheese & Onion",
            "Thins Cheese & Onion Chips<br>Smith's Crinkle Cut Potato Chips Chicken"
           ]
          ]
         },
         "header": {
          "values": [
           "Community",
           "Products"
          ]
         },
         "type": "table"
        }
       ],
       "layout": {
        "height": 600,
        "template": {
         "data": {
          "bar": [
           {
            "error_x": {
             "color": "#2a3f5f"
            },
            "error_y": {
             "color": "#2a3f5f"
            },
            "marker": {
             "line": {
              "color": "#E5ECF6",
              "width": 0.5
             },
             "pattern": {
              "fillmode": "overlay",
              "size": 10,
              "solidity": 0.2
             }
            },
            "type": "bar"
           }
          ],
          "barpolar": [
           {
            "marker": {
             "line": {
              "color": "#E5ECF6",
              "width": 0.5
             },
             "pattern": {
              "fillmode": "overlay",
              "size": 10,
              "solidity": 0.2
             }
            },
            "type": "barpolar"
           }
          ],
          "carpet": [
           {
            "aaxis": {
             "endlinecolor": "#2a3f5f",
             "gridcolor": "white",
             "linecolor": "white",
             "minorgridcolor": "white",
             "startlinecolor": "#2a3f5f"
            },
            "baxis": {
             "endlinecolor": "#2a3f5f",
             "gridcolor": "white",
             "linecolor": "white",
             "minorgridcolor": "white",
             "startlinecolor": "#2a3f5f"
            },
            "type": "carpet"
           }
          ],
          "choropleth": [
           {
            "colorbar": {
             "outlinewidth": 0,
             "ticks": ""
            },
            "type": "choropleth"
           }
          ],
          "contour": [
           {
            "colorbar": {
             "outlinewidth": 0,
             "ticks": ""
            },
            "colorscale": [
             [
              0,
              "#0d0887"
             ],
             [
              0.1111111111111111,
              "#46039f"
             ],
             [
              0.2222222222222222,
              "#7201a8"
             ],
             [
              0.3333333333333333,
              "#9c179e"
             ],
             [
              0.4444444444444444,
              "#bd3786"
             ],
             [
              0.5555555555555556,
              "#d8576b"
             ],
             [
              0.6666666666666666,
              "#ed7953"
             ],
             [
              0.7777777777777778,
              "#fb9f3a"
             ],
             [
              0.8888888888888888,
              "#fdca26"
             ],
             [
              1,
              "#f0f921"
             ]
            ],
            "type": "contour"
           }
          ],
          "contourcarpet": [
           {
            "colorbar": {
             "outlinewidth": 0,
             "ticks": ""
            },
            "type": "contourcarpet"
           }
          ],
          "heatmap": [
           {
            "colorbar": {
             "outlinewidth": 0,
             "ticks": ""
            },
            "colorscale": [
             [
              0,
              "#0d0887"
             ],
             [
              0.1111111111111111,
              "#46039f"
             ],
             [
              0.2222222222222222,
              "#7201a8"
             ],
             [
              0.3333333333333333,
              "#9c179e"
             ],
             [
              0.4444444444444444,
              "#bd3786"
             ],
             [
              0.5555555555555556,
              "#d8576b"
             ],
             [
              0.6666666666666666,
              "#ed7953"
             ],
             [
              0.7777777777777778,
              "#fb9f3a"
             ],
             [
              0.8888888888888888,
              "#fdca26"
             ],
             [
              1,
              "#f0f921"
             ]
            ],
            "type": "heatmap"
           }
          ],
          "heatmapgl": [
           {
            "colorbar": {
             "outlinewidth": 0,
             "ticks": ""
            },
            "colorscale": [
             [
              0,
              "#0d0887"
             ],
             [
              0.1111111111111111,
              "#46039f"
             ],
             [
              0.2222222222222222,
              "#7201a8"
             ],
             [
              0.3333333333333333,
              "#9c179e"
             ],
             [
              0.4444444444444444,
              "#bd3786"
             ],
             [
              0.5555555555555556,
              "#d8576b"
             ],
             [
              0.6666666666666666,
              "#ed7953"
             ],
             [
              0.7777777777777778,
              "#fb9f3a"
             ],
             [
              0.8888888888888888,
              "#fdca26"
             ],
             [
              1,
              "#f0f921"
             ]
            ],
            "type": "heatmapgl"
           }
          ],
          "histogram": [
           {
            "marker": {
             "pattern": {
              "fillmode": "overlay",
              "size": 10,
              "solidity": 0.2
             }
            },
            "type": "histogram"
           }
          ],
          "histogram2d": [
           {
            "colorbar": {
             "outlinewidth": 0,
             "ticks": ""
            },
            "colorscale": [
             [
              0,
              "#0d0887"
             ],
             [
              0.1111111111111111,
              "#46039f"
             ],
             [
              0.2222222222222222,
              "#7201a8"
             ],
             [
              0.3333333333333333,
              "#9c179e"
             ],
             [
              0.4444444444444444,
              "#bd3786"
             ],
             [
              0.5555555555555556,
              "#d8576b"
             ],
             [
              0.6666666666666666,
              "#ed7953"
             ],
             [
              0.7777777777777778,
              "#fb9f3a"
             ],
             [
              0.8888888888888888,
              "#fdca26"
             ],
             [
              1,
              "#f0f921"
             ]
            ],
            "type": "histogram2d"
           }
          ],
          "histogram2dcontour": [
           {
            "colorbar": {
             "outlinewidth": 0,
             "ticks": ""
            },
            "colorscale": [
             [
              0,
              "#0d0887"
             ],
             [
              0.1111111111111111,
              "#46039f"
             ],
             [
              0.2222222222222222,
              "#7201a8"
             ],
             [
              0.3333333333333333,
              "#9c179e"
             ],
             [
              0.4444444444444444,
              "#bd3786"
             ],
             [
              0.5555555555555556,
              "#d8576b"
             ],
             [
              0.6666666666666666,
              "#ed7953"
             ],
             [
              0.7777777777777778,
              "#fb9f3a"
             ],
             [
              0.8888888888888888,
              "#fdca26"
             ],
             [
              1,
              "#f0f921"
             ]
            ],
            "type": "histogram2dcontour"
           }
          ],
          "mesh3d": [
           {
            "colorbar": {
             "outlinewidth": 0,
             "ticks": ""
            },
            "type": "mesh3d"
           }
          ],
          "parcoords": [
           {
            "line": {
             "colorbar": {
              "outlinewidth": 0,
              "ticks": ""
             }
            },
            "type": "parcoords"
           }
          ],
          "pie": [
           {
            "automargin": true,
            "type": "pie"
           }
          ],
          "scatter": [
           {
            "fillpattern": {
             "fillmode": "overlay",
             "size": 10,
             "solidity": 0.2
            },
            "type": "scatter"
           }
          ],
          "scatter3d": [
           {
            "line": {
             "colorbar": {
              "outlinewidth": 0,
              "ticks": ""
             }
            },
            "marker": {
             "colorbar": {
              "outlinewidth": 0,
              "ticks": ""
             }
            },
            "type": "scatter3d"
           }
          ],
          "scattercarpet": [
           {
            "marker": {
             "colorbar": {
              "outlinewidth": 0,
              "ticks": ""
             }
            },
            "type": "scattercarpet"
           }
          ],
          "scattergeo": [
           {
            "marker": {
             "colorbar": {
              "outlinewidth": 0,
              "ticks": ""
             }
            },
            "type": "scattergeo"
           }
          ],
          "scattergl": [
           {
            "marker": {
             "colorbar": {
              "outlinewidth": 0,
              "ticks": ""
             }
            },
            "type": "scattergl"
           }
          ],
          "scattermapbox": [
           {
            "marker": {
             "colorbar": {
              "outlinewidth": 0,
              "ticks": ""
             }
            },
            "type": "scattermapbox"
           }
          ],
          "scatterpolar": [
           {
            "marker": {
             "colorbar": {
              "outlinewidth": 0,
              "ticks": ""
             }
            },
            "type": "scatterpolar"
           }
          ],
          "scatterpolargl": [
           {
            "marker": {
             "colorbar": {
              "outlinewidth": 0,
              "ticks": ""
             }
            },
            "type": "scatterpolargl"
           }
          ],
          "scatterternary": [
           {
            "marker": {
             "colorbar": {
              "outlinewidth": 0,
              "ticks": ""
             }
            },
            "type": "scatterternary"
           }
          ],
          "surface": [
           {
            "colorbar": {
             "outlinewidth": 0,
             "ticks": ""
            },
            "colorscale": [
             [
              0,
              "#0d0887"
             ],
             [
              0.1111111111111111,
              "#46039f"
             ],
             [
              0.2222222222222222,
              "#7201a8"
             ],
             [
              0.3333333333333333,
              "#9c179e"
             ],
             [
              0.4444444444444444,
              "#bd3786"
             ],
             [
              0.5555555555555556,
              "#d8576b"
             ],
             [
              0.6666666666666666,
              "#ed7953"
             ],
             [
              0.7777777777777778,
              "#fb9f3a"
             ],
             [
              0.8888888888888888,
              "#fdca26"
             ],
             [
              1,
              "#f0f921"
             ]
            ],
            "type": "surface"
           }
          ],
          "table": [
           {
            "cells": {
             "fill": {
              "color": "#EBF0F8"
             },
             "line": {
              "color": "white"
             }
            },
            "header": {
             "fill": {
              "color": "#C8D4E3"
             },
             "line": {
              "color": "white"
             }
            },
            "type": "table"
           }
          ]
         },
         "layout": {
          "annotationdefaults": {
           "arrowcolor": "#2a3f5f",
           "arrowhead": 0,
           "arrowwidth": 1
          },
          "autotypenumbers": "strict",
          "coloraxis": {
           "colorbar": {
            "outlinewidth": 0,
            "ticks": ""
           }
          },
          "colorscale": {
           "diverging": [
            [
             0,
             "#8e0152"
            ],
            [
             0.1,
             "#c51b7d"
            ],
            [
             0.2,
             "#de77ae"
            ],
            [
             0.3,
             "#f1b6da"
            ],
            [
             0.4,
             "#fde0ef"
            ],
            [
             0.5,
             "#f7f7f7"
            ],
            [
             0.6,
             "#e6f5d0"
            ],
            [
             0.7,
             "#b8e186"
            ],
            [
             0.8,
             "#7fbc41"
            ],
            [
             0.9,
             "#4d9221"
            ],
            [
             1,
             "#276419"
            ]
           ],
           "sequential": [
            [
             0,
             "#0d0887"
            ],
            [
             0.1111111111111111,
             "#46039f"
            ],
            [
             0.2222222222222222,
             "#7201a8"
            ],
            [
             0.3333333333333333,
             "#9c179e"
            ],
            [
             0.4444444444444444,
             "#bd3786"
            ],
            [
             0.5555555555555556,
             "#d8576b"
            ],
            [
             0.6666666666666666,
             "#ed7953"
            ],
            [
             0.7777777777777778,
             "#fb9f3a"
            ],
            [
             0.8888888888888888,
             "#fdca26"
            ],
            [
             1,
             "#f0f921"
            ]
           ],
           "sequentialminus": [
            [
             0,
             "#0d0887"
            ],
            [
             0.1111111111111111,
             "#46039f"
            ],
            [
             0.2222222222222222,
             "#7201a8"
            ],
            [
             0.3333333333333333,
             "#9c179e"
            ],
            [
             0.4444444444444444,
             "#bd3786"
            ],
            [
             0.5555555555555556,
             "#d8576b"
            ],
            [
             0.6666666666666666,
             "#ed7953"
            ],
            [
             0.7777777777777778,
             "#fb9f3a"
            ],
            [
             0.8888888888888888,
             "#fdca26"
            ],
            [
             1,
             "#f0f921"
            ]
           ]
          },
          "colorway": [
           "#636efa",
           "#EF553B",
           "#00cc96",
           "#ab63fa",
           "#FFA15A",
           "#19d3f3",
           "#FF6692",
           "#B6E880",
           "#FF97FF",
           "#FECB52"
          ],
          "font": {
           "color": "#2a3f5f"
          },
          "geo": {
           "bgcolor": "white",
           "lakecolor": "white",
           "landcolor": "#E5ECF6",
           "showlakes": true,
           "showland": true,
           "subunitcolor": "white"
          },
          "hoverlabel": {
           "align": "left"
          },
          "hovermode": "closest",
          "mapbox": {
           "style": "light"
          },
          "paper_bgcolor": "white",
          "plot_bgcolor": "#E5ECF6",
          "polar": {
           "angularaxis": {
            "gridcolor": "white",
            "linecolor": "white",
            "ticks": ""
           },
           "bgcolor": "#E5ECF6",
           "radialaxis": {
            "gridcolor": "white",
            "linecolor": "white",
            "ticks": ""
           }
          },
          "scene": {
           "xaxis": {
            "backgroundcolor": "#E5ECF6",
            "gridcolor": "white",
            "gridwidth": 2,
            "linecolor": "white",
            "showbackground": true,
            "ticks": "",
            "zerolinecolor": "white"
           },
           "yaxis": {
            "backgroundcolor": "#E5ECF6",
            "gridcolor": "white",
            "gridwidth": 2,
            "linecolor": "white",
            "showbackground": true,
            "ticks": "",
            "zerolinecolor": "white"
           },
           "zaxis": {
            "backgroundcolor": "#E5ECF6",
            "gridcolor": "white",
            "gridwidth": 2,
            "linecolor": "white",
            "showbackground": true,
            "ticks": "",
            "zerolinecolor": "white"
           }
          },
          "shapedefaults": {
           "line": {
            "color": "#2a3f5f"
           }
          },
          "ternary": {
           "aaxis": {
            "gridcolor": "white",
            "linecolor": "white",
            "ticks": ""
           },
           "baxis": {
            "gridcolor": "white",
            "linecolor": "white",
            "ticks": ""
           },
           "bgcolor": "#E5ECF6",
           "caxis": {
            "gridcolor": "white",
            "linecolor": "white",
            "ticks": ""
           }
          },
          "title": {
           "x": 0.05
          },
          "xaxis": {
           "automargin": true,
           "gridcolor": "white",
           "linecolor": "white",
           "ticks": "",
           "title": {
            "standoff": 15
           },
           "zerolinecolor": "white",
           "zerolinewidth": 2
          },
          "yaxis": {
           "automargin": true,
           "gridcolor": "white",
           "linecolor": "white",
           "ticks": "",
           "title": {
            "standoff": 15
           },
           "zerolinecolor": "white",
           "zerolinewidth": 2
          }
         }
        },
        "title": {
         "text": "Product Communities Based on Ingredient Research and Category (Label Propagation)"
        },
        "width": 1000
       }
      }
     },
     "metadata": {},
     "output_type": "display_data"
    }
   ],
   "source": [
    "\n",
    "import pandas as pd\n",
    "import networkx as nx\n",
    "from networkx.algorithms.community import label_propagation_communities\n",
    "import plotly.graph_objs as go\n",
    "\n",
    "\n",
    "\n",
    "\n",
    "with driver.session() as session:\n",
    "    \n",
    "    result = session.run(\"MATCH (p:Product)-[:STOCKED_IN]->(c:Category), \"\n",
    "                         \"(p)-[:HAS_RECIPE]->(r:Recipe)-[:USES_INGREDIENT]->(i:Ingredient)-[:HAS_RESEARCH]->(res:IngredientResearch) \"\n",
    "                         \"RETURN p.name AS product, res.ingredient_name AS ingredientResearch, COLLECT(c.name) AS categories\")\n",
    "\n",
    "   # Convert results to Pandas DataFrame\n",
    "    data = []\n",
    "    for record in result:\n",
    "        data.append({'product': record['product'], 'ingredientResearch': record['ingredientResearch'], 'categories': record['categories']})\n",
    "    df = pd.DataFrame(data)\n",
    "\n",
    "    # Build product networks based on raw material research and product categories\n",
    "    product_net = nx.Graph()\n",
    "\n",
    "    for _, row in df.iterrows():\n",
    "        product = row['product']\n",
    "        ingredient = row['ingredientResearch']\n",
    "        categories = row['categories']\n",
    "        \n",
    "        # Add node\n",
    "        product_net.add_node(product, ingredient=ingredient, categories=categories)\n",
    "        \n",
    "        # Add edge\n",
    "        for other_product in product_net.nodes():\n",
    "            if other_product != product and ingredient in product_net.nodes[other_product]['ingredient'] and any(c in product_net.nodes[other_product]['categories'] for c in categories):\n",
    "                product_net.add_edge(product, other_product, weight=1)\n",
    "\n",
    "    # Community Detection Using the Label Propagation Algorithm\n",
    "    communities = label_propagation_communities(product_net)\n",
    "\n",
    "    # Convert communities to dictionary format\n",
    "    community_dict = {}\n",
    "    for i, community in enumerate(communities):\n",
    "        community_dict[i] = list(community)\n",
    "\n",
    "    # Create the table data\n",
    "    table_data = []\n",
    "    for community, products in sorted(community_dict.items()):\n",
    "        row = [f\"<b>Community {community}</b>\"] + [\"<br>\".join(products)]\n",
    "        table_data.append(row)\n",
    "\n",
    "    # Create the table\n",
    "    table = go.Table(\n",
    "        header=dict(values=[\"Community\", \"Products\"]),\n",
    "        cells=dict(values=[list(zip(*table_data))[0], list(zip(*table_data))[1]],\n",
    "                   fill_color=[['#f2f2f2', 'white'] * len(table_data)],\n",
    "                   align=['center', 'left'],\n",
    "                   font=dict(size=10),\n",
    "                   height=50)\n",
    "    )\n",
    "\n",
    "    # Create the layout\n",
    "    layout = go.Layout(title=\"Product Communities Based on Ingredient Research and Category (Label Propagation)\",\n",
    "                       width=1000, height=600)\n",
    "\n",
    "    # Create the figure\n",
    "    fig = go.Figure(data=[table], layout=layout)\n",
    "    fig.show()\n",
    "\n"
   ]
  },
  {
   "cell_type": "code",
   "execution_count": 13,
   "metadata": {},
   "outputs": [
    {
     "name": "stderr",
     "output_type": "stream",
     "text": [
      "c:\\Users\\apple\\anaconda3\\lib\\site-packages\\sklearn\\cluster\\_kmeans.py:870: FutureWarning:\n",
      "\n",
      "The default value of `n_init` will change from 10 to 'auto' in 1.4. Set the value of `n_init` explicitly to suppress the warning\n",
      "\n"
     ]
    },
    {
     "data": {
      "application/vnd.plotly.v1+json": {
       "config": {
        "plotlyServerURL": "https://plot.ly"
       },
       "data": [
        {
         "cells": {
          "align": [
           "center",
           "left"
          ],
          "fill": {
           "color": [
            [
             "#f2f2f2",
             "white",
             "#f2f2f2",
             "white",
             "#f2f2f2",
             "white",
             "#f2f2f2",
             "white",
             "#f2f2f2",
             "white",
             "#f2f2f2",
             "white"
            ]
           ]
          },
          "font": {
           "size": 12
          },
          "height": 30,
          "values": [
           [
            "<b>community 0</b>",
            "<b>community 1</b>",
            "<b>community 2</b>",
            "<b>community 3</b>",
            "<b>community 4</b>",
            "<b>community 5</b>"
           ],
           [
            "Smith's Crinkle Cut Potato Chips Original<br>Smith's Crinkle Cut Potato Chips Cheese & Onion<br>Smith's Crinkle Cut Potato Chips Barbecue<br>Smith's Crinkle Cut Potato Chips Chicken<br>Thins Chips Salt & Vinegar<br>Smith's Thinly Cut Potato Chips Original Share Pack<br>Thins Chips Chicken<br>Smith's Crinkle Cut Potato Chips Salt & Vinegar<br>Thins Chips Light & Tangy<br>Thins Cheese & Onion Chips",
            "Indomie Mi Goreng Instant Noodles<br>Maggi 2 Minute Chicken Flavour Instant Noodles<br>Supreme Noodles Cup Chicken Flavour<br>Fantastic Chicken Noodle Cup<br>Fantastic Chicken Noodle Bowl<br>Indomie Mi Goreng Noodle Cup<br>Maggi 2 Minute Beef Flavour Instant Noodles<br>Supreme Noodles Cup Beef Flavour<br>Woolworths Lasagne Sheets",
            "Arnott's Premier Chocolate Chip Cookies<br>Woolworths Chocolate Chip Cookies<br>Woolworths The King Of Chunky Chocolate Chip Cookies<br>Arnott's Mini Choc Chip Cookie Multipack Biscuits<br>Oreo Original Mini Cookies Multipack<br>Oreo Minis Cookies Variety Bags 18 Pack<br>Cadbury Classic Choc Chip Cookies<br>Cadbury Choc Centre Cookies<br>Byron Bay Cookies Dotty Cookie Bites<br>Oreo Original Cookies<br>Oreo Double Stuff Cookies<br>Oreo Original Cookies Family Pack<br>Oreo Chocolate Cookies<br>Oreo Grab & Go Original Cookies 9 Pack<br>Oreo Neapolitan Double Stuff Cookies",
            "Coca - Cola Classic  Soft Drink Multipack Cans<br>Coca - Cola Zero Sugar Soft Drink Multipack Cans<br>Coca - Cola Classic  Soft Drink Mini Cans<br>Coca - Cola Caffeine Free Zero Sugar Soft Drink Multipack Cans<br>Coca - Cola Vanilla  Soft Drink Multipack Cans<br>Coca - Cola Zero Sugar Soft Drink Mini Cans<br>Schweppes Soda Water Bottle Classic Mixers<br>Schweppes Indian Tonic Water Classic Mixers Bottle<br>Schweppes Lime Soda Water With Lime Juice Bottle<br>Schweppes Zero Sugar Classic Mixers Indian Tonic Water Bottle<br>Schweppes Lemon Lime Natural Mineral Water Bottle<br>Schweppes Orange Mango Natural Mineral Water Bottle<br>Schweppes Zero Sugar Lime Infused Mineral Water Bottle<br>Schweppes Raspberry Infused Natural Mineral Water Bottle<br>Schweppes Natural Mineral Water Bottle Natural<br>Woolworths Spring Water Bottles<br>Woolworths Spring Water<br>Frantelle Australian Still Spring Water Bottles Multipack<br>Mount Franklin Spring Water Bottle<br>Rimmel Scandaleyes Eye Definer Brown<br>Woolworths Apple Juice<br>Woolworths Apple & Mango Juice<br>Woolworths Orange Juice<br>Woolworths Breakfast Juice<br>Woolworths Apple & Blackcurrant Juice<br>Woolworths Multivitamin Juice<br>Golden Circle Golden Pash Fruit Drink<br>Golden Circle Drinks Pine Orange Fruit Drink<br>Golden Circle Drinks Sunshine Punch Fruit Drink<br>Golden Circle Fruit Drinks Lunch Box Poppers Tropical Punch Multipack<br>Woolworths Full Cream Milk<br>Dairy Farmers Full Cream Milk Full Cream Milk<br>Norco Full Cream Milk<br>A2 Milk Full Cream Milk<br>Pauls Farmhouse Gold Full Cream Milk<br>Woolworths Diced Italian Tomatoes<br>Essentials Coconut Cream<br>Essentials Coconut Milk<br>Woolworths Uht Full Cream Milk<br>Woolworths Creamed Rice<br>Woolworths Peach In Strawberry Jelly<br>Woolworths Two Fruits In Juice Cups<br>Woolworths Two Fruits In Juice<br>Woolworths Two Fruits In Tropical Jelly<br>Woolworths Apple In Pineapple Jelly<br>Goulburn Valley Two Fruits In Juice<br>Dole Pineapple Slices In Syrup<br>Dole Pineapple Chunks In Juice<br>Goulburn Valley Two Fruits In Juice Fruit Cups In Juice<br>Deep Cove Sardines In Oil",
            "Kitkat 4 Finger Milk Chocolate Bar<br>Kitkat Chunky Original Chocolate Bar<br>Cadbury Dairy Milk Caramello Koala Chocolate<br>Twix Milk Chocolate Bar With Caramel Biscuit<br>Mars Chocolate Bar With Nougat & Caramel<br>Cadbury Dairy Milk Chocolate Roll<br>Cadbury Chomp Chocolate Bar<br>Cadbury Dairy Milk Chocolate Bar<br>Cadbury Twirl Chocolate Bar",
            "Woolworths Tomato Sauce Squeeze<br>Woolworths Barbecue Sauce Squeeze<br>Masterfoods Tomato Sauce<br>Woolworths Tomato Sauce<br>Masterfoods Barbecue Sauce<br>Fountain Tomato Sauce Squeeze<br>Fountain Barbecue Bbq Sauce Squeeze<br>Woolworths Secret Burger Sauce<br>Heinz Ketchup Tomato Sauce Ketchup<br>Woolworths Barbecue Sauce"
           ]
          ]
         },
         "header": {
          "values": [
           "community",
           "Products"
          ]
         },
         "type": "table"
        }
       ],
       "layout": {
        "height": 600,
        "template": {
         "data": {
          "bar": [
           {
            "error_x": {
             "color": "#2a3f5f"
            },
            "error_y": {
             "color": "#2a3f5f"
            },
            "marker": {
             "line": {
              "color": "#E5ECF6",
              "width": 0.5
             },
             "pattern": {
              "fillmode": "overlay",
              "size": 10,
              "solidity": 0.2
             }
            },
            "type": "bar"
           }
          ],
          "barpolar": [
           {
            "marker": {
             "line": {
              "color": "#E5ECF6",
              "width": 0.5
             },
             "pattern": {
              "fillmode": "overlay",
              "size": 10,
              "solidity": 0.2
             }
            },
            "type": "barpolar"
           }
          ],
          "carpet": [
           {
            "aaxis": {
             "endlinecolor": "#2a3f5f",
             "gridcolor": "white",
             "linecolor": "white",
             "minorgridcolor": "white",
             "startlinecolor": "#2a3f5f"
            },
            "baxis": {
             "endlinecolor": "#2a3f5f",
             "gridcolor": "white",
             "linecolor": "white",
             "minorgridcolor": "white",
             "startlinecolor": "#2a3f5f"
            },
            "type": "carpet"
           }
          ],
          "choropleth": [
           {
            "colorbar": {
             "outlinewidth": 0,
             "ticks": ""
            },
            "type": "choropleth"
           }
          ],
          "contour": [
           {
            "colorbar": {
             "outlinewidth": 0,
             "ticks": ""
            },
            "colorscale": [
             [
              0,
              "#0d0887"
             ],
             [
              0.1111111111111111,
              "#46039f"
             ],
             [
              0.2222222222222222,
              "#7201a8"
             ],
             [
              0.3333333333333333,
              "#9c179e"
             ],
             [
              0.4444444444444444,
              "#bd3786"
             ],
             [
              0.5555555555555556,
              "#d8576b"
             ],
             [
              0.6666666666666666,
              "#ed7953"
             ],
             [
              0.7777777777777778,
              "#fb9f3a"
             ],
             [
              0.8888888888888888,
              "#fdca26"
             ],
             [
              1,
              "#f0f921"
             ]
            ],
            "type": "contour"
           }
          ],
          "contourcarpet": [
           {
            "colorbar": {
             "outlinewidth": 0,
             "ticks": ""
            },
            "type": "contourcarpet"
           }
          ],
          "heatmap": [
           {
            "colorbar": {
             "outlinewidth": 0,
             "ticks": ""
            },
            "colorscale": [
             [
              0,
              "#0d0887"
             ],
             [
              0.1111111111111111,
              "#46039f"
             ],
             [
              0.2222222222222222,
              "#7201a8"
             ],
             [
              0.3333333333333333,
              "#9c179e"
             ],
             [
              0.4444444444444444,
              "#bd3786"
             ],
             [
              0.5555555555555556,
              "#d8576b"
             ],
             [
              0.6666666666666666,
              "#ed7953"
             ],
             [
              0.7777777777777778,
              "#fb9f3a"
             ],
             [
              0.8888888888888888,
              "#fdca26"
             ],
             [
              1,
              "#f0f921"
             ]
            ],
            "type": "heatmap"
           }
          ],
          "heatmapgl": [
           {
            "colorbar": {
             "outlinewidth": 0,
             "ticks": ""
            },
            "colorscale": [
             [
              0,
              "#0d0887"
             ],
             [
              0.1111111111111111,
              "#46039f"
             ],
             [
              0.2222222222222222,
              "#7201a8"
             ],
             [
              0.3333333333333333,
              "#9c179e"
             ],
             [
              0.4444444444444444,
              "#bd3786"
             ],
             [
              0.5555555555555556,
              "#d8576b"
             ],
             [
              0.6666666666666666,
              "#ed7953"
             ],
             [
              0.7777777777777778,
              "#fb9f3a"
             ],
             [
              0.8888888888888888,
              "#fdca26"
             ],
             [
              1,
              "#f0f921"
             ]
            ],
            "type": "heatmapgl"
           }
          ],
          "histogram": [
           {
            "marker": {
             "pattern": {
              "fillmode": "overlay",
              "size": 10,
              "solidity": 0.2
             }
            },
            "type": "histogram"
           }
          ],
          "histogram2d": [
           {
            "colorbar": {
             "outlinewidth": 0,
             "ticks": ""
            },
            "colorscale": [
             [
              0,
              "#0d0887"
             ],
             [
              0.1111111111111111,
              "#46039f"
             ],
             [
              0.2222222222222222,
              "#7201a8"
             ],
             [
              0.3333333333333333,
              "#9c179e"
             ],
             [
              0.4444444444444444,
              "#bd3786"
             ],
             [
              0.5555555555555556,
              "#d8576b"
             ],
             [
              0.6666666666666666,
              "#ed7953"
             ],
             [
              0.7777777777777778,
              "#fb9f3a"
             ],
             [
              0.8888888888888888,
              "#fdca26"
             ],
             [
              1,
              "#f0f921"
             ]
            ],
            "type": "histogram2d"
           }
          ],
          "histogram2dcontour": [
           {
            "colorbar": {
             "outlinewidth": 0,
             "ticks": ""
            },
            "colorscale": [
             [
              0,
              "#0d0887"
             ],
             [
              0.1111111111111111,
              "#46039f"
             ],
             [
              0.2222222222222222,
              "#7201a8"
             ],
             [
              0.3333333333333333,
              "#9c179e"
             ],
             [
              0.4444444444444444,
              "#bd3786"
             ],
             [
              0.5555555555555556,
              "#d8576b"
             ],
             [
              0.6666666666666666,
              "#ed7953"
             ],
             [
              0.7777777777777778,
              "#fb9f3a"
             ],
             [
              0.8888888888888888,
              "#fdca26"
             ],
             [
              1,
              "#f0f921"
             ]
            ],
            "type": "histogram2dcontour"
           }
          ],
          "mesh3d": [
           {
            "colorbar": {
             "outlinewidth": 0,
             "ticks": ""
            },
            "type": "mesh3d"
           }
          ],
          "parcoords": [
           {
            "line": {
             "colorbar": {
              "outlinewidth": 0,
              "ticks": ""
             }
            },
            "type": "parcoords"
           }
          ],
          "pie": [
           {
            "automargin": true,
            "type": "pie"
           }
          ],
          "scatter": [
           {
            "fillpattern": {
             "fillmode": "overlay",
             "size": 10,
             "solidity": 0.2
            },
            "type": "scatter"
           }
          ],
          "scatter3d": [
           {
            "line": {
             "colorbar": {
              "outlinewidth": 0,
              "ticks": ""
             }
            },
            "marker": {
             "colorbar": {
              "outlinewidth": 0,
              "ticks": ""
             }
            },
            "type": "scatter3d"
           }
          ],
          "scattercarpet": [
           {
            "marker": {
             "colorbar": {
              "outlinewidth": 0,
              "ticks": ""
             }
            },
            "type": "scattercarpet"
           }
          ],
          "scattergeo": [
           {
            "marker": {
             "colorbar": {
              "outlinewidth": 0,
              "ticks": ""
             }
            },
            "type": "scattergeo"
           }
          ],
          "scattergl": [
           {
            "marker": {
             "colorbar": {
              "outlinewidth": 0,
              "ticks": ""
             }
            },
            "type": "scattergl"
           }
          ],
          "scattermapbox": [
           {
            "marker": {
             "colorbar": {
              "outlinewidth": 0,
              "ticks": ""
             }
            },
            "type": "scattermapbox"
           }
          ],
          "scatterpolar": [
           {
            "marker": {
             "colorbar": {
              "outlinewidth": 0,
              "ticks": ""
             }
            },
            "type": "scatterpolar"
           }
          ],
          "scatterpolargl": [
           {
            "marker": {
             "colorbar": {
              "outlinewidth": 0,
              "ticks": ""
             }
            },
            "type": "scatterpolargl"
           }
          ],
          "scatterternary": [
           {
            "marker": {
             "colorbar": {
              "outlinewidth": 0,
              "ticks": ""
             }
            },
            "type": "scatterternary"
           }
          ],
          "surface": [
           {
            "colorbar": {
             "outlinewidth": 0,
             "ticks": ""
            },
            "colorscale": [
             [
              0,
              "#0d0887"
             ],
             [
              0.1111111111111111,
              "#46039f"
             ],
             [
              0.2222222222222222,
              "#7201a8"
             ],
             [
              0.3333333333333333,
              "#9c179e"
             ],
             [
              0.4444444444444444,
              "#bd3786"
             ],
             [
              0.5555555555555556,
              "#d8576b"
             ],
             [
              0.6666666666666666,
              "#ed7953"
             ],
             [
              0.7777777777777778,
              "#fb9f3a"
             ],
             [
              0.8888888888888888,
              "#fdca26"
             ],
             [
              1,
              "#f0f921"
             ]
            ],
            "type": "surface"
           }
          ],
          "table": [
           {
            "cells": {
             "fill": {
              "color": "#EBF0F8"
             },
             "line": {
              "color": "white"
             }
            },
            "header": {
             "fill": {
              "color": "#C8D4E3"
             },
             "line": {
              "color": "white"
             }
            },
            "type": "table"
           }
          ]
         },
         "layout": {
          "annotationdefaults": {
           "arrowcolor": "#2a3f5f",
           "arrowhead": 0,
           "arrowwidth": 1
          },
          "autotypenumbers": "strict",
          "coloraxis": {
           "colorbar": {
            "outlinewidth": 0,
            "ticks": ""
           }
          },
          "colorscale": {
           "diverging": [
            [
             0,
             "#8e0152"
            ],
            [
             0.1,
             "#c51b7d"
            ],
            [
             0.2,
             "#de77ae"
            ],
            [
             0.3,
             "#f1b6da"
            ],
            [
             0.4,
             "#fde0ef"
            ],
            [
             0.5,
             "#f7f7f7"
            ],
            [
             0.6,
             "#e6f5d0"
            ],
            [
             0.7,
             "#b8e186"
            ],
            [
             0.8,
             "#7fbc41"
            ],
            [
             0.9,
             "#4d9221"
            ],
            [
             1,
             "#276419"
            ]
           ],
           "sequential": [
            [
             0,
             "#0d0887"
            ],
            [
             0.1111111111111111,
             "#46039f"
            ],
            [
             0.2222222222222222,
             "#7201a8"
            ],
            [
             0.3333333333333333,
             "#9c179e"
            ],
            [
             0.4444444444444444,
             "#bd3786"
            ],
            [
             0.5555555555555556,
             "#d8576b"
            ],
            [
             0.6666666666666666,
             "#ed7953"
            ],
            [
             0.7777777777777778,
             "#fb9f3a"
            ],
            [
             0.8888888888888888,
             "#fdca26"
            ],
            [
             1,
             "#f0f921"
            ]
           ],
           "sequentialminus": [
            [
             0,
             "#0d0887"
            ],
            [
             0.1111111111111111,
             "#46039f"
            ],
            [
             0.2222222222222222,
             "#7201a8"
            ],
            [
             0.3333333333333333,
             "#9c179e"
            ],
            [
             0.4444444444444444,
             "#bd3786"
            ],
            [
             0.5555555555555556,
             "#d8576b"
            ],
            [
             0.6666666666666666,
             "#ed7953"
            ],
            [
             0.7777777777777778,
             "#fb9f3a"
            ],
            [
             0.8888888888888888,
             "#fdca26"
            ],
            [
             1,
             "#f0f921"
            ]
           ]
          },
          "colorway": [
           "#636efa",
           "#EF553B",
           "#00cc96",
           "#ab63fa",
           "#FFA15A",
           "#19d3f3",
           "#FF6692",
           "#B6E880",
           "#FF97FF",
           "#FECB52"
          ],
          "font": {
           "color": "#2a3f5f"
          },
          "geo": {
           "bgcolor": "white",
           "lakecolor": "white",
           "landcolor": "#E5ECF6",
           "showlakes": true,
           "showland": true,
           "subunitcolor": "white"
          },
          "hoverlabel": {
           "align": "left"
          },
          "hovermode": "closest",
          "mapbox": {
           "style": "light"
          },
          "paper_bgcolor": "white",
          "plot_bgcolor": "#E5ECF6",
          "polar": {
           "angularaxis": {
            "gridcolor": "white",
            "linecolor": "white",
            "ticks": ""
           },
           "bgcolor": "#E5ECF6",
           "radialaxis": {
            "gridcolor": "white",
            "linecolor": "white",
            "ticks": ""
           }
          },
          "scene": {
           "xaxis": {
            "backgroundcolor": "#E5ECF6",
            "gridcolor": "white",
            "gridwidth": 2,
            "linecolor": "white",
            "showbackground": true,
            "ticks": "",
            "zerolinecolor": "white"
           },
           "yaxis": {
            "backgroundcolor": "#E5ECF6",
            "gridcolor": "white",
            "gridwidth": 2,
            "linecolor": "white",
            "showbackground": true,
            "ticks": "",
            "zerolinecolor": "white"
           },
           "zaxis": {
            "backgroundcolor": "#E5ECF6",
            "gridcolor": "white",
            "gridwidth": 2,
            "linecolor": "white",
            "showbackground": true,
            "ticks": "",
            "zerolinecolor": "white"
           }
          },
          "shapedefaults": {
           "line": {
            "color": "#2a3f5f"
           }
          },
          "ternary": {
           "aaxis": {
            "gridcolor": "white",
            "linecolor": "white",
            "ticks": ""
           },
           "baxis": {
            "gridcolor": "white",
            "linecolor": "white",
            "ticks": ""
           },
           "bgcolor": "#E5ECF6",
           "caxis": {
            "gridcolor": "white",
            "linecolor": "white",
            "ticks": ""
           }
          },
          "title": {
           "x": 0.05
          },
          "xaxis": {
           "automargin": true,
           "gridcolor": "white",
           "linecolor": "white",
           "ticks": "",
           "title": {
            "standoff": 15
           },
           "zerolinecolor": "white",
           "zerolinewidth": 2
          },
          "yaxis": {
           "automargin": true,
           "gridcolor": "white",
           "linecolor": "white",
           "ticks": "",
           "title": {
            "standoff": 15
           },
           "zerolinecolor": "white",
           "zerolinewidth": 2
          }
         }
        },
        "title": {
         "text": "Product communities Based on Ingredient Research and Category (K-means)"
        },
        "width": 1000
       }
      }
     },
     "metadata": {},
     "output_type": "display_data"
    }
   ],
   "source": [
    "import pandas as pd\n",
    "from sklearn.cluster import KMeans\n",
    "from sklearn.preprocessing import MultiLabelBinarizer\n",
    "import plotly.graph_objs as go\n",
    "\n",
    "\n",
    "from neo4j import GraphDatabase\n",
    "\n",
    "\n",
    "with driver.session() as session:\n",
    "   \n",
    "    result = session.run(\"MATCH (p:Product)-[:STOCKED_IN]->(c:Category), \"\n",
    "                         \"(p)-[:HAS_RECIPE]->(r:Recipe)-[:USES_INGREDIENT]->(i:Ingredient)-[:HAS_RESEARCH]->(res:IngredientResearch) \"\n",
    "                         \"RETURN p.name AS product, res.ingredient_name AS ingredientResearch, COLLECT(c.name) AS categories\")\n",
    "\n",
    "    # Convert results to Pandas DataFrame\n",
    "    data = []\n",
    "    for record in result:\n",
    "        data.append({'product': record['product'], 'ingredientResearch': record['ingredientResearch'], 'categories': record['categories']})\n",
    "    df = pd.DataFrame(data)\n",
    "\n",
    "    # Solo heat coding of raw material research and product categories\n",
    "    mlb = MultiLabelBinarizer()\n",
    "    ingredient_encoded = pd.DataFrame(mlb.fit_transform(df['ingredientResearch'].apply(lambda x: [x])),\n",
    "                                      columns=mlb.classes_, index=df.index)\n",
    "    category_encoded = pd.DataFrame(mlb.fit_transform(df['categories']),\n",
    "                                    columns=mlb.classes_, index=df.index)\n",
    "\n",
    "    # Splicing of coded raw material studies and product categories\n",
    "    features = pd.concat([ingredient_encoded, category_encoded], axis=1)\n",
    "\n",
    "    # Clustering using the K-means algorithm\n",
    "    kmeans = KMeans(n_clusters=6, random_state=50)\n",
    "    clusters = kmeans.fit_predict(features)\n",
    "\n",
    "    # Add the clustering results to the DataFrame\n",
    "    df['community'] = clusters\n",
    "\n",
    "    # Create table data\n",
    "    table_data = []\n",
    "    for community in sorted(df['community'].unique()):\n",
    "        products = df[df['community'] == community]['product'].unique().tolist()\n",
    "        row = [f\"<b>community {community}</b>\"] + [\"<br>\".join(products)]\n",
    "        table_data.append(row)\n",
    "\n",
    "    \n",
    "    table = go.Table(\n",
    "        header=dict(values=[\"community\", \"Products\"]),\n",
    "        cells=dict(values=[list(zip(*table_data))[0], list(zip(*table_data))[1]],\n",
    "                   fill_color=[['#f2f2f2', 'white'] * len(table_data)],\n",
    "                   align=['center', 'left'],\n",
    "                   font=dict(size=12),\n",
    "                   height=30)\n",
    "    )\n",
    "\n",
    "    \n",
    "    layout = go.Layout(title=\"Product communities Based on Ingredient Research and Category (K-means)\",\n",
    "                       width=1000, height=600)\n",
    "\n",
    "   \n",
    "    fig = go.Figure(data=[table], layout=layout)\n",
    "    fig.show()\n",
    "\n"
   ]
  },
  {
   "cell_type": "code",
   "execution_count": 16,
   "metadata": {},
   "outputs": [
    {
     "name": "stderr",
     "output_type": "stream",
     "text": [
      "c:\\Users\\apple\\anaconda3\\lib\\site-packages\\sklearn\\cluster\\_kmeans.py:870: FutureWarning:\n",
      "\n",
      "The default value of `n_init` will change from 10 to 'auto' in 1.4. Set the value of `n_init` explicitly to suppress the warning\n",
      "\n",
      "c:\\Users\\apple\\anaconda3\\lib\\site-packages\\sklearn\\preprocessing\\_label.py:895: UserWarning:\n",
      "\n",
      "unknown class(es) ['', 'Acesulfame Potassium', 'Acidity Regulator 339', 'Anthocyanins', 'Antioxidant 385', 'Apple', 'Ascorbic Acid', 'Aspartame', 'Australian Spring Water', 'Bis-Diglyceryl Polyacyladipate-2', 'Caffeine', 'Calcium Lactate', 'Carbonated Mineral Water', 'Carbonated Water', 'Carboxymethyl Cellulose', 'Carmine', 'Carminic Acid', 'Carotene', 'Carrageenan', 'Citric Acid', 'Clarified Pineapple Juice Concentrate', 'Cochineal', 'Coconut Extract', 'Colouring Agent 150d', 'Cream', 'Diced Peaches', 'Diced Pears', 'Ferric Ferrocyanide', 'Flavour', 'Folate', 'Fruit Peach', 'Full Cream Milk', 'Guar Gum', 'Guava Puree', 'Homogenised Full Cream Milk', 'Iron Oxides', 'Jelly Natural Pineapple Flavour', 'Locust Bean Gum', 'Lutein', 'Malic Acid', 'Mica', 'Milk', 'Natural Flavour', 'Natural Flavour Botanical Extracts', 'Natural Flavour Citrus Oils', 'Natural Flavour Lemon Peel Extract', 'Natural Flavour Lime Oils', 'Natural Flavour Mango', 'Natural Flavour Orange Peel Extract', 'Natural Flavour Pineapple', 'Natural Flavours', 'Natural Mineral Water', 'Natural Spring Water', 'Natural Strawberry Flavour', 'Natural Vanilla Flavour', 'Octyldodecanol', 'Paprika Oleoresins', 'Pasteurised Homogenised Milk', 'Pear', 'Pectin', 'Pentaerythrityl Tetra-di-t-butyl Hydroxyhydrocinnamate', 'Phosphoric Acid', 'Pineapple', 'Pineapple Juice', 'Plant Extract Carthamus', 'Plant Extract Gardenia', 'Polybutene', 'Polyethylene', 'Potassium Bicarbonate', 'Potassium Citrate', 'Potassium Sorbate', 'Quinine', 'Reconstituted Apple Juice', 'Reconstituted Fruit Juice Apricot', 'Reconstituted Fruit Juice Blackcurrant', 'Reconstituted Fruit Juice Grape', 'Reconstituted Fruit Juice Orange', 'Reconstituted Fruit Juice Passionfruit', 'Reconstituted Fruit Juice Peach', 'Reconstituted Fruit Juice Peach Purée', 'Reconstituted Fruit Juice Pear', 'Reconstituted Fruit Juice Pineapple', 'Reconstituted Fruit Juice Water Extracted Orange', 'Reconstituted Lemon Juice', 'Reconstituted Lime Juice', 'Reconstituted Mango Juice', 'Reconstituted Refined Juice Concentrated Pear Juice', 'Refined Fruit Juice', 'Refined Fruit Juice Apple', 'Refined Fruit Juice Grape', 'Refined Fruit Juice Peach', 'Refined Fruit Juice Pear', 'Rice', 'Safflower Extract', 'Salt', 'Sardines', 'Silica', 'Skim Milk', 'Sodium Benzoate', 'Sodium Citrate', 'Sodium Metabisulfite', 'Sugar', 'Sulphites', 'Sweetener 952', 'Synthetic Wax', 'Titanium Dioxide', 'Tomato Juice', 'Tomatoes', 'Ultramarines', 'Vegetable Oil', 'Vitamin A', 'Vitamin C', 'Water', 'Xanthan Gum'] will be ignored\n",
      "\n",
      "c:\\Users\\apple\\anaconda3\\lib\\site-packages\\sklearn\\cluster\\_kmeans.py:870: FutureWarning:\n",
      "\n",
      "The default value of `n_init` will change from 10 to 'auto' in 1.4. Set the value of `n_init` explicitly to suppress the warning\n",
      "\n",
      "c:\\Users\\apple\\anaconda3\\lib\\site-packages\\sklearn\\cluster\\_kmeans.py:1382: UserWarning:\n",
      "\n",
      "KMeans is known to have a memory leak on Windows with MKL, when there are less chunks than available threads. You can avoid it by setting the environment variable OMP_NUM_THREADS=2.\n",
      "\n"
     ]
    },
    {
     "data": {
      "application/vnd.plotly.v1+json": {
       "config": {
        "plotlyServerURL": "https://plot.ly"
       },
       "data": [
        {
         "cells": {
          "align": [
           "center",
           "left"
          ],
          "fill": {
           "color": [
            [
             "#f2f2f2",
             "white",
             "#f2f2f2",
             "white",
             "#f2f2f2",
             "white",
             "#f2f2f2",
             "white",
             "#f2f2f2",
             "white",
             "#f2f2f2",
             "white",
             "#f2f2f2",
             "white",
             "#f2f2f2",
             "white"
            ]
           ]
          },
          "font": {
           "size": 12
          },
          "height": 30,
          "values": [
           [
            "<b>Community 0</b>",
            "<b>Community 1</b>",
            "<b>Community 2</b>",
            "<b>Community 4</b>",
            "<b>Community 5</b>",
            "<b>Community 6</b>",
            "<b>Community 7</b>",
            "<b>Community 8</b>"
           ],
           [
            "Smith's Crinkle Cut Potato Chips Original<br>Smith's Crinkle Cut Potato Chips Cheese & Onion<br>Smith's Crinkle Cut Potato Chips Barbecue<br>Smith's Crinkle Cut Potato Chips Chicken<br>Thins Chips Salt & Vinegar<br>Smith's Thinly Cut Potato Chips Original Share Pack<br>Thins Chips Chicken<br>Smith's Crinkle Cut Potato Chips Salt & Vinegar<br>Thins Chips Light & Tangy<br>Thins Cheese & Onion Chips",
            "Indomie Mi Goreng Instant Noodles<br>Maggi 2 Minute Chicken Flavour Instant Noodles<br>Supreme Noodles Cup Chicken Flavour<br>Fantastic Chicken Noodle Cup<br>Fantastic Chicken Noodle Bowl<br>Indomie Mi Goreng Noodle Cup<br>Maggi 2 Minute Beef Flavour Instant Noodles<br>Supreme Noodles Cup Beef Flavour<br>Woolworths Lasagne Sheets",
            "Arnott's Premier Chocolate Chip Cookies<br>Woolworths Chocolate Chip Cookies<br>Woolworths The King Of Chunky Chocolate Chip Cookies<br>Arnott's Mini Choc Chip Cookie Multipack Biscuits<br>Oreo Original Mini Cookies Multipack<br>Oreo Minis Cookies Variety Bags 18 Pack<br>Cadbury Classic Choc Chip Cookies<br>Cadbury Choc Centre Cookies<br>Byron Bay Cookies Dotty Cookie Bites<br>Oreo Original Cookies<br>Oreo Double Stuff Cookies<br>Oreo Original Cookies Family Pack<br>Oreo Chocolate Cookies<br>Oreo Grab & Go Original Cookies 9 Pack<br>Oreo Neapolitan Double Stuff Cookies",
            "Kitkat 4 Finger Milk Chocolate Bar<br>Kitkat Chunky Original Chocolate Bar<br>Cadbury Dairy Milk Caramello Koala Chocolate<br>Twix Milk Chocolate Bar With Caramel Biscuit<br>Mars Chocolate Bar With Nougat & Caramel<br>Cadbury Dairy Milk Chocolate Roll<br>Cadbury Chomp Chocolate Bar<br>Cadbury Dairy Milk Chocolate Bar<br>Cadbury Twirl Chocolate Bar",
            "Woolworths Tomato Sauce Squeeze<br>Woolworths Barbecue Sauce Squeeze<br>Masterfoods Tomato Sauce<br>Woolworths Tomato Sauce<br>Masterfoods Barbecue Sauce<br>Fountain Tomato Sauce Squeeze<br>Fountain Barbecue Bbq Sauce Squeeze<br>Woolworths Secret Burger Sauce<br>Heinz Ketchup Tomato Sauce Ketchup<br>Woolworths Barbecue Sauce",
            "Schweppes Zero Sugar Lime Infused Mineral Water Bottle<br>Schweppes Raspberry Infused Natural Mineral Water Bottle<br>Schweppes Natural Mineral Water Bottle Natural<br>Woolworths Spring Water Bottles<br>Woolworths Spring Water<br>Frantelle Australian Still Spring Water Bottles Multipack<br>Mount Franklin Spring Water Bottle<br>Rimmel Scandaleyes Eye Definer Brown<br>Woolworths Apple Juice<br>Woolworths Apple & Mango Juice<br>Woolworths Orange Juice<br>Woolworths Breakfast Juice<br>Woolworths Apple & Blackcurrant Juice<br>Woolworths Multivitamin Juice<br>Golden Circle Golden Pash Fruit Drink<br>Golden Circle Drinks Pine Orange Fruit Drink<br>Golden Circle Drinks Sunshine Punch Fruit Drink<br>Golden Circle Fruit Drinks Lunch Box Poppers Tropical Punch Multipack<br>Woolworths Full Cream Milk<br>Dairy Farmers Full Cream Milk Full Cream Milk<br>Norco Full Cream Milk<br>A2 Milk Full Cream Milk<br>Pauls Farmhouse Gold Full Cream Milk<br>Woolworths Diced Italian Tomatoes<br>Essentials Coconut Cream<br>Essentials Coconut Milk<br>Woolworths Uht Full Cream Milk<br>Deep Cove Sardines In Oil",
            "Coca - Cola Classic  Soft Drink Multipack Cans<br>Coca - Cola Zero Sugar Soft Drink Multipack Cans<br>Coca - Cola Classic  Soft Drink Mini Cans<br>Coca - Cola Caffeine Free Zero Sugar Soft Drink Multipack Cans<br>Coca - Cola Vanilla  Soft Drink Multipack Cans<br>Coca - Cola Zero Sugar Soft Drink Mini Cans<br>Schweppes Soda Water Bottle Classic Mixers<br>Schweppes Indian Tonic Water Classic Mixers Bottle<br>Schweppes Lime Soda Water With Lime Juice Bottle<br>Schweppes Zero Sugar Classic Mixers Indian Tonic Water Bottle<br>Schweppes Lemon Lime Natural Mineral Water Bottle<br>Schweppes Orange Mango Natural Mineral Water Bottle",
            "Woolworths Creamed Rice<br>Woolworths Peach In Strawberry Jelly<br>Woolworths Two Fruits In Juice Cups<br>Woolworths Two Fruits In Juice<br>Woolworths Two Fruits In Tropical Jelly<br>Woolworths Apple In Pineapple Jelly<br>Goulburn Valley Two Fruits In Juice<br>Dole Pineapple Slices In Syrup<br>Dole Pineapple Chunks In Juice<br>Goulburn Valley Two Fruits In Juice Fruit Cups In Juice"
           ]
          ]
         },
         "header": {
          "values": [
           "Community",
           "Products"
          ]
         },
         "type": "table"
        }
       ],
       "layout": {
        "height": 600,
        "template": {
         "data": {
          "bar": [
           {
            "error_x": {
             "color": "#2a3f5f"
            },
            "error_y": {
             "color": "#2a3f5f"
            },
            "marker": {
             "line": {
              "color": "#E5ECF6",
              "width": 0.5
             },
             "pattern": {
              "fillmode": "overlay",
              "size": 10,
              "solidity": 0.2
             }
            },
            "type": "bar"
           }
          ],
          "barpolar": [
           {
            "marker": {
             "line": {
              "color": "#E5ECF6",
              "width": 0.5
             },
             "pattern": {
              "fillmode": "overlay",
              "size": 10,
              "solidity": 0.2
             }
            },
            "type": "barpolar"
           }
          ],
          "carpet": [
           {
            "aaxis": {
             "endlinecolor": "#2a3f5f",
             "gridcolor": "white",
             "linecolor": "white",
             "minorgridcolor": "white",
             "startlinecolor": "#2a3f5f"
            },
            "baxis": {
             "endlinecolor": "#2a3f5f",
             "gridcolor": "white",
             "linecolor": "white",
             "minorgridcolor": "white",
             "startlinecolor": "#2a3f5f"
            },
            "type": "carpet"
           }
          ],
          "choropleth": [
           {
            "colorbar": {
             "outlinewidth": 0,
             "ticks": ""
            },
            "type": "choropleth"
           }
          ],
          "contour": [
           {
            "colorbar": {
             "outlinewidth": 0,
             "ticks": ""
            },
            "colorscale": [
             [
              0,
              "#0d0887"
             ],
             [
              0.1111111111111111,
              "#46039f"
             ],
             [
              0.2222222222222222,
              "#7201a8"
             ],
             [
              0.3333333333333333,
              "#9c179e"
             ],
             [
              0.4444444444444444,
              "#bd3786"
             ],
             [
              0.5555555555555556,
              "#d8576b"
             ],
             [
              0.6666666666666666,
              "#ed7953"
             ],
             [
              0.7777777777777778,
              "#fb9f3a"
             ],
             [
              0.8888888888888888,
              "#fdca26"
             ],
             [
              1,
              "#f0f921"
             ]
            ],
            "type": "contour"
           }
          ],
          "contourcarpet": [
           {
            "colorbar": {
             "outlinewidth": 0,
             "ticks": ""
            },
            "type": "contourcarpet"
           }
          ],
          "heatmap": [
           {
            "colorbar": {
             "outlinewidth": 0,
             "ticks": ""
            },
            "colorscale": [
             [
              0,
              "#0d0887"
             ],
             [
              0.1111111111111111,
              "#46039f"
             ],
             [
              0.2222222222222222,
              "#7201a8"
             ],
             [
              0.3333333333333333,
              "#9c179e"
             ],
             [
              0.4444444444444444,
              "#bd3786"
             ],
             [
              0.5555555555555556,
              "#d8576b"
             ],
             [
              0.6666666666666666,
              "#ed7953"
             ],
             [
              0.7777777777777778,
              "#fb9f3a"
             ],
             [
              0.8888888888888888,
              "#fdca26"
             ],
             [
              1,
              "#f0f921"
             ]
            ],
            "type": "heatmap"
           }
          ],
          "heatmapgl": [
           {
            "colorbar": {
             "outlinewidth": 0,
             "ticks": ""
            },
            "colorscale": [
             [
              0,
              "#0d0887"
             ],
             [
              0.1111111111111111,
              "#46039f"
             ],
             [
              0.2222222222222222,
              "#7201a8"
             ],
             [
              0.3333333333333333,
              "#9c179e"
             ],
             [
              0.4444444444444444,
              "#bd3786"
             ],
             [
              0.5555555555555556,
              "#d8576b"
             ],
             [
              0.6666666666666666,
              "#ed7953"
             ],
             [
              0.7777777777777778,
              "#fb9f3a"
             ],
             [
              0.8888888888888888,
              "#fdca26"
             ],
             [
              1,
              "#f0f921"
             ]
            ],
            "type": "heatmapgl"
           }
          ],
          "histogram": [
           {
            "marker": {
             "pattern": {
              "fillmode": "overlay",
              "size": 10,
              "solidity": 0.2
             }
            },
            "type": "histogram"
           }
          ],
          "histogram2d": [
           {
            "colorbar": {
             "outlinewidth": 0,
             "ticks": ""
            },
            "colorscale": [
             [
              0,
              "#0d0887"
             ],
             [
              0.1111111111111111,
              "#46039f"
             ],
             [
              0.2222222222222222,
              "#7201a8"
             ],
             [
              0.3333333333333333,
              "#9c179e"
             ],
             [
              0.4444444444444444,
              "#bd3786"
             ],
             [
              0.5555555555555556,
              "#d8576b"
             ],
             [
              0.6666666666666666,
              "#ed7953"
             ],
             [
              0.7777777777777778,
              "#fb9f3a"
             ],
             [
              0.8888888888888888,
              "#fdca26"
             ],
             [
              1,
              "#f0f921"
             ]
            ],
            "type": "histogram2d"
           }
          ],
          "histogram2dcontour": [
           {
            "colorbar": {
             "outlinewidth": 0,
             "ticks": ""
            },
            "colorscale": [
             [
              0,
              "#0d0887"
             ],
             [
              0.1111111111111111,
              "#46039f"
             ],
             [
              0.2222222222222222,
              "#7201a8"
             ],
             [
              0.3333333333333333,
              "#9c179e"
             ],
             [
              0.4444444444444444,
              "#bd3786"
             ],
             [
              0.5555555555555556,
              "#d8576b"
             ],
             [
              0.6666666666666666,
              "#ed7953"
             ],
             [
              0.7777777777777778,
              "#fb9f3a"
             ],
             [
              0.8888888888888888,
              "#fdca26"
             ],
             [
              1,
              "#f0f921"
             ]
            ],
            "type": "histogram2dcontour"
           }
          ],
          "mesh3d": [
           {
            "colorbar": {
             "outlinewidth": 0,
             "ticks": ""
            },
            "type": "mesh3d"
           }
          ],
          "parcoords": [
           {
            "line": {
             "colorbar": {
              "outlinewidth": 0,
              "ticks": ""
             }
            },
            "type": "parcoords"
           }
          ],
          "pie": [
           {
            "automargin": true,
            "type": "pie"
           }
          ],
          "scatter": [
           {
            "fillpattern": {
             "fillmode": "overlay",
             "size": 10,
             "solidity": 0.2
            },
            "type": "scatter"
           }
          ],
          "scatter3d": [
           {
            "line": {
             "colorbar": {
              "outlinewidth": 0,
              "ticks": ""
             }
            },
            "marker": {
             "colorbar": {
              "outlinewidth": 0,
              "ticks": ""
             }
            },
            "type": "scatter3d"
           }
          ],
          "scattercarpet": [
           {
            "marker": {
             "colorbar": {
              "outlinewidth": 0,
              "ticks": ""
             }
            },
            "type": "scattercarpet"
           }
          ],
          "scattergeo": [
           {
            "marker": {
             "colorbar": {
              "outlinewidth": 0,
              "ticks": ""
             }
            },
            "type": "scattergeo"
           }
          ],
          "scattergl": [
           {
            "marker": {
             "colorbar": {
              "outlinewidth": 0,
              "ticks": ""
             }
            },
            "type": "scattergl"
           }
          ],
          "scattermapbox": [
           {
            "marker": {
             "colorbar": {
              "outlinewidth": 0,
              "ticks": ""
             }
            },
            "type": "scattermapbox"
           }
          ],
          "scatterpolar": [
           {
            "marker": {
             "colorbar": {
              "outlinewidth": 0,
              "ticks": ""
             }
            },
            "type": "scatterpolar"
           }
          ],
          "scatterpolargl": [
           {
            "marker": {
             "colorbar": {
              "outlinewidth": 0,
              "ticks": ""
             }
            },
            "type": "scatterpolargl"
           }
          ],
          "scatterternary": [
           {
            "marker": {
             "colorbar": {
              "outlinewidth": 0,
              "ticks": ""
             }
            },
            "type": "scatterternary"
           }
          ],
          "surface": [
           {
            "colorbar": {
             "outlinewidth": 0,
             "ticks": ""
            },
            "colorscale": [
             [
              0,
              "#0d0887"
             ],
             [
              0.1111111111111111,
              "#46039f"
             ],
             [
              0.2222222222222222,
              "#7201a8"
             ],
             [
              0.3333333333333333,
              "#9c179e"
             ],
             [
              0.4444444444444444,
              "#bd3786"
             ],
             [
              0.5555555555555556,
              "#d8576b"
             ],
             [
              0.6666666666666666,
              "#ed7953"
             ],
             [
              0.7777777777777778,
              "#fb9f3a"
             ],
             [
              0.8888888888888888,
              "#fdca26"
             ],
             [
              1,
              "#f0f921"
             ]
            ],
            "type": "surface"
           }
          ],
          "table": [
           {
            "cells": {
             "fill": {
              "color": "#EBF0F8"
             },
             "line": {
              "color": "white"
             }
            },
            "header": {
             "fill": {
              "color": "#C8D4E3"
             },
             "line": {
              "color": "white"
             }
            },
            "type": "table"
           }
          ]
         },
         "layout": {
          "annotationdefaults": {
           "arrowcolor": "#2a3f5f",
           "arrowhead": 0,
           "arrowwidth": 1
          },
          "autotypenumbers": "strict",
          "coloraxis": {
           "colorbar": {
            "outlinewidth": 0,
            "ticks": ""
           }
          },
          "colorscale": {
           "diverging": [
            [
             0,
             "#8e0152"
            ],
            [
             0.1,
             "#c51b7d"
            ],
            [
             0.2,
             "#de77ae"
            ],
            [
             0.3,
             "#f1b6da"
            ],
            [
             0.4,
             "#fde0ef"
            ],
            [
             0.5,
             "#f7f7f7"
            ],
            [
             0.6,
             "#e6f5d0"
            ],
            [
             0.7,
             "#b8e186"
            ],
            [
             0.8,
             "#7fbc41"
            ],
            [
             0.9,
             "#4d9221"
            ],
            [
             1,
             "#276419"
            ]
           ],
           "sequential": [
            [
             0,
             "#0d0887"
            ],
            [
             0.1111111111111111,
             "#46039f"
            ],
            [
             0.2222222222222222,
             "#7201a8"
            ],
            [
             0.3333333333333333,
             "#9c179e"
            ],
            [
             0.4444444444444444,
             "#bd3786"
            ],
            [
             0.5555555555555556,
             "#d8576b"
            ],
            [
             0.6666666666666666,
             "#ed7953"
            ],
            [
             0.7777777777777778,
             "#fb9f3a"
            ],
            [
             0.8888888888888888,
             "#fdca26"
            ],
            [
             1,
             "#f0f921"
            ]
           ],
           "sequentialminus": [
            [
             0,
             "#0d0887"
            ],
            [
             0.1111111111111111,
             "#46039f"
            ],
            [
             0.2222222222222222,
             "#7201a8"
            ],
            [
             0.3333333333333333,
             "#9c179e"
            ],
            [
             0.4444444444444444,
             "#bd3786"
            ],
            [
             0.5555555555555556,
             "#d8576b"
            ],
            [
             0.6666666666666666,
             "#ed7953"
            ],
            [
             0.7777777777777778,
             "#fb9f3a"
            ],
            [
             0.8888888888888888,
             "#fdca26"
            ],
            [
             1,
             "#f0f921"
            ]
           ]
          },
          "colorway": [
           "#636efa",
           "#EF553B",
           "#00cc96",
           "#ab63fa",
           "#FFA15A",
           "#19d3f3",
           "#FF6692",
           "#B6E880",
           "#FF97FF",
           "#FECB52"
          ],
          "font": {
           "color": "#2a3f5f"
          },
          "geo": {
           "bgcolor": "white",
           "lakecolor": "white",
           "landcolor": "#E5ECF6",
           "showlakes": true,
           "showland": true,
           "subunitcolor": "white"
          },
          "hoverlabel": {
           "align": "left"
          },
          "hovermode": "closest",
          "mapbox": {
           "style": "light"
          },
          "paper_bgcolor": "white",
          "plot_bgcolor": "#E5ECF6",
          "polar": {
           "angularaxis": {
            "gridcolor": "white",
            "linecolor": "white",
            "ticks": ""
           },
           "bgcolor": "#E5ECF6",
           "radialaxis": {
            "gridcolor": "white",
            "linecolor": "white",
            "ticks": ""
           }
          },
          "scene": {
           "xaxis": {
            "backgroundcolor": "#E5ECF6",
            "gridcolor": "white",
            "gridwidth": 2,
            "linecolor": "white",
            "showbackground": true,
            "ticks": "",
            "zerolinecolor": "white"
           },
           "yaxis": {
            "backgroundcolor": "#E5ECF6",
            "gridcolor": "white",
            "gridwidth": 2,
            "linecolor": "white",
            "showbackground": true,
            "ticks": "",
            "zerolinecolor": "white"
           },
           "zaxis": {
            "backgroundcolor": "#E5ECF6",
            "gridcolor": "white",
            "gridwidth": 2,
            "linecolor": "white",
            "showbackground": true,
            "ticks": "",
            "zerolinecolor": "white"
           }
          },
          "shapedefaults": {
           "line": {
            "color": "#2a3f5f"
           }
          },
          "ternary": {
           "aaxis": {
            "gridcolor": "white",
            "linecolor": "white",
            "ticks": ""
           },
           "baxis": {
            "gridcolor": "white",
            "linecolor": "white",
            "ticks": ""
           },
           "bgcolor": "#E5ECF6",
           "caxis": {
            "gridcolor": "white",
            "linecolor": "white",
            "ticks": ""
           }
          },
          "title": {
           "x": 0.05
          },
          "xaxis": {
           "automargin": true,
           "gridcolor": "white",
           "linecolor": "white",
           "ticks": "",
           "title": {
            "standoff": 15
           },
           "zerolinecolor": "white",
           "zerolinewidth": 2
          },
          "yaxis": {
           "automargin": true,
           "gridcolor": "white",
           "linecolor": "white",
           "ticks": "",
           "title": {
            "standoff": 15
           },
           "zerolinecolor": "white",
           "zerolinewidth": 2
          }
         }
        },
        "title": {
         "text": "Product Communities Based on Ingredient Research and Category (K-means)"
        },
        "width": 1000
       }
      }
     },
     "metadata": {},
     "output_type": "display_data"
    }
   ],
   "source": [
    "import pandas as pd\n",
    "from sklearn.cluster import KMeans\n",
    "from sklearn.preprocessing import MultiLabelBinarizer\n",
    "import plotly.graph_objects as go\n",
    "\n",
    "# ... (data loading and preprocessing code remains the same)\n",
    "\n",
    "# Clustering using the K-means algorithm\n",
    "kmeans = KMeans(n_clusters=6, random_state=50)\n",
    "clusters = kmeans.fit_predict(features)\n",
    "\n",
    "# Add the clustering results to the DataFrame\n",
    "df['community'] = clusters\n",
    "\n",
    "# Filter products in community 3\n",
    "community_3_df = df[df['community'] == 3]\n",
    "\n",
    "if len(community_3_df) > 0:  # Check if there are products in community 3\n",
    "    # One-hot encoding of ingredient research and product categories for community 3\n",
    "    community_3_ingredient_encoded = pd.DataFrame(mlb.transform(community_3_df['ingredientResearch'].apply(lambda x: [x])), \n",
    "                                                  columns=mlb.classes_, index=community_3_df.index)\n",
    "    community_3_category_encoded = pd.DataFrame(mlb.transform(community_3_df['categories']), \n",
    "                                                columns=mlb.classes_, index=community_3_df.index)\n",
    "\n",
    "    # Concatenate encoded ingredient research and product categories for community 3\n",
    "    community_3_features = pd.concat([community_3_ingredient_encoded, community_3_category_encoded], axis=1)\n",
    "\n",
    "    # Clustering using the K-means algorithm for community 3\n",
    "    sub_kmeans = KMeans(n_clusters=3, random_state=50)  # Adjust the number of clusters as needed\n",
    "    sub_clusters = sub_kmeans.fit_predict(community_3_features)\n",
    "\n",
    "    # Update the community labels for the subdivided community 3\n",
    "    df.loc[df['community'] == 3, 'community'] = sub_clusters + 6  # 6, 7, 8\n",
    "\n",
    "# Create table data\n",
    "table_data = []\n",
    "for community in sorted(df['community'].unique()):\n",
    "    products = df[df['community'] == community]['product'].unique().tolist()\n",
    "    row = [f\"<b>Community {community}</b>\"] + [\"<br>\".join(products)]\n",
    "    table_data.append(row)\n",
    "\n",
    "# Create the table\n",
    "table = go.Table(\n",
    "    header=dict(values=[\"Community\", \"Products\"]),\n",
    "    cells=dict(values=[list(zip(*table_data))[0], list(zip(*table_data))[1]],\n",
    "               fill_color=[['#f2f2f2', 'white'] * len(table_data)],\n",
    "               align=['center', 'left'],\n",
    "               font=dict(size=12),\n",
    "               height=30)\n",
    ")\n",
    "\n",
    "# Create the layout\n",
    "layout = go.Layout(title=\"Product Communities Based on Ingredient Research and Category (K-means)\", \n",
    "                   width=1000, height=600)\n",
    "\n",
    "# Create the figure\n",
    "fig = go.Figure(data=[table], layout=layout)\n",
    "\n",
    "# Show the figure\n",
    "fig.show()"
   ]
  },
  {
   "cell_type": "code",
   "execution_count": 7,
   "metadata": {},
   "outputs": [
    {
     "data": {
      "application/vnd.plotly.v1+json": {
       "config": {
        "plotlyServerURL": "https://plot.ly"
       },
       "data": [
        {
         "cells": {
          "align": [
           "center",
           "left"
          ],
          "fill": {
           "color": [
            [
             "#f2f2f2",
             "white",
             "#f2f2f2",
             "white",
             "#f2f2f2",
             "white",
             "#f2f2f2",
             "white",
             "#f2f2f2",
             "white",
             "#f2f2f2",
             "white",
             "#f2f2f2",
             "white",
             "#f2f2f2",
             "white",
             "#f2f2f2",
             "white"
            ]
           ]
          },
          "font": {
           "size": 12
          },
          "height": 30,
          "values": [
           [
            "<b>community 0</b>",
            "<b>community 1</b>",
            "<b>community 2</b>",
            "<b>community 3</b>",
            "<b>community 4</b>",
            "<b>community 5</b>",
            "<b>community 6</b>",
            "<b>community 7</b>",
            "<b>community 8</b>"
           ],
           [
            "Arnott's Premier Chocolate Chip Cookies<br>Woolworths Chocolate Chip Cookies<br>Woolworths The King Of Chunky Chocolate Chip Cookies<br>Arnott's Mini Choc Chip Cookie Multipack Biscuits<br>Oreo Original Mini Cookies Multipack<br>Oreo Minis Cookies Variety Bags 18 Pack<br>Cadbury Classic Choc Chip Cookies<br>Cadbury Choc Centre Cookies<br>Byron Bay Cookies Dotty Cookie Bites<br>Oreo Original Cookies<br>Oreo Double Stuff Cookies<br>Oreo Original Cookies Family Pack<br>Oreo Chocolate Cookies<br>Oreo Grab & Go Original Cookies 9 Pack<br>Oreo Neapolitan Double Stuff Cookies",
            "Schweppes Zero Sugar Lime Infused Mineral Water Bottle<br>Schweppes Raspberry Infused Natural Mineral Water Bottle<br>Schweppes Natural Mineral Water Bottle Natural<br>Woolworths Spring Water Bottles<br>Woolworths Spring Water<br>Frantelle Australian Still Spring Water Bottles Multipack<br>Mount Franklin Spring Water Bottle<br>Rimmel Scandaleyes Eye Definer Brown<br>Woolworths Full Cream Milk<br>Dairy Farmers Full Cream Milk Full Cream Milk<br>Norco Full Cream Milk<br>A2 Milk Full Cream Milk<br>Pauls Farmhouse Gold Full Cream Milk<br>Woolworths Diced Italian Tomatoes<br>Essentials Coconut Cream<br>Essentials Coconut Milk<br>Woolworths Uht Full Cream Milk<br>Deep Cove Sardines In Oil",
            "Woolworths Tomato Sauce Squeeze<br>Woolworths Barbecue Sauce Squeeze<br>Masterfoods Tomato Sauce<br>Woolworths Tomato Sauce<br>Masterfoods Barbecue Sauce<br>Fountain Tomato Sauce Squeeze<br>Fountain Barbecue Bbq Sauce Squeeze<br>Woolworths Secret Burger Sauce<br>Heinz Ketchup Tomato Sauce Ketchup<br>Woolworths Barbecue Sauce",
            "Smith's Crinkle Cut Potato Chips Original<br>Smith's Crinkle Cut Potato Chips Cheese & Onion<br>Smith's Crinkle Cut Potato Chips Barbecue<br>Smith's Crinkle Cut Potato Chips Chicken<br>Thins Chips Salt & Vinegar<br>Smith's Thinly Cut Potato Chips Original Share Pack<br>Thins Chips Chicken<br>Smith's Crinkle Cut Potato Chips Salt & Vinegar<br>Thins Chips Light & Tangy<br>Thins Cheese & Onion Chips",
            "Kitkat 4 Finger Milk Chocolate Bar<br>Kitkat Chunky Original Chocolate Bar<br>Cadbury Dairy Milk Caramello Koala Chocolate<br>Twix Milk Chocolate Bar With Caramel Biscuit<br>Mars Chocolate Bar With Nougat & Caramel<br>Cadbury Dairy Milk Chocolate Roll<br>Cadbury Chomp Chocolate Bar<br>Cadbury Dairy Milk Chocolate Bar<br>Cadbury Twirl Chocolate Bar",
            "Indomie Mi Goreng Instant Noodles<br>Maggi 2 Minute Chicken Flavour Instant Noodles<br>Supreme Noodles Cup Chicken Flavour<br>Fantastic Chicken Noodle Cup<br>Fantastic Chicken Noodle Bowl<br>Indomie Mi Goreng Noodle Cup<br>Maggi 2 Minute Beef Flavour Instant Noodles<br>Supreme Noodles Cup Beef Flavour<br>Woolworths Lasagne Sheets",
            "Coca - Cola Classic  Soft Drink Multipack Cans<br>Coca - Cola Zero Sugar Soft Drink Multipack Cans<br>Coca - Cola Classic  Soft Drink Mini Cans<br>Coca - Cola Caffeine Free Zero Sugar Soft Drink Multipack Cans<br>Coca - Cola Vanilla  Soft Drink Multipack Cans<br>Coca - Cola Zero Sugar Soft Drink Mini Cans<br>Schweppes Soda Water Bottle Classic Mixers<br>Schweppes Indian Tonic Water Classic Mixers Bottle<br>Schweppes Lime Soda Water With Lime Juice Bottle<br>Schweppes Zero Sugar Classic Mixers Indian Tonic Water Bottle<br>Schweppes Lemon Lime Natural Mineral Water Bottle<br>Schweppes Orange Mango Natural Mineral Water Bottle",
            "Woolworths Apple Juice<br>Woolworths Apple & Mango Juice<br>Woolworths Orange Juice<br>Woolworths Breakfast Juice<br>Woolworths Apple & Blackcurrant Juice<br>Woolworths Multivitamin Juice<br>Golden Circle Golden Pash Fruit Drink<br>Golden Circle Drinks Pine Orange Fruit Drink<br>Golden Circle Drinks Sunshine Punch Fruit Drink<br>Golden Circle Fruit Drinks Lunch Box Poppers Tropical Punch Multipack",
            "Woolworths Creamed Rice<br>Woolworths Peach In Strawberry Jelly<br>Woolworths Two Fruits In Juice Cups<br>Woolworths Two Fruits In Juice<br>Woolworths Two Fruits In Tropical Jelly<br>Woolworths Apple In Pineapple Jelly<br>Goulburn Valley Two Fruits In Juice<br>Dole Pineapple Slices In Syrup<br>Dole Pineapple Chunks In Juice<br>Goulburn Valley Two Fruits In Juice Fruit Cups In Juice"
           ]
          ]
         },
         "header": {
          "values": [
           "community",
           "Products"
          ]
         },
         "type": "table"
        }
       ],
       "layout": {
        "height": 600,
        "template": {
         "data": {
          "bar": [
           {
            "error_x": {
             "color": "#2a3f5f"
            },
            "error_y": {
             "color": "#2a3f5f"
            },
            "marker": {
             "line": {
              "color": "#E5ECF6",
              "width": 0.5
             },
             "pattern": {
              "fillmode": "overlay",
              "size": 10,
              "solidity": 0.2
             }
            },
            "type": "bar"
           }
          ],
          "barpolar": [
           {
            "marker": {
             "line": {
              "color": "#E5ECF6",
              "width": 0.5
             },
             "pattern": {
              "fillmode": "overlay",
              "size": 10,
              "solidity": 0.2
             }
            },
            "type": "barpolar"
           }
          ],
          "carpet": [
           {
            "aaxis": {
             "endlinecolor": "#2a3f5f",
             "gridcolor": "white",
             "linecolor": "white",
             "minorgridcolor": "white",
             "startlinecolor": "#2a3f5f"
            },
            "baxis": {
             "endlinecolor": "#2a3f5f",
             "gridcolor": "white",
             "linecolor": "white",
             "minorgridcolor": "white",
             "startlinecolor": "#2a3f5f"
            },
            "type": "carpet"
           }
          ],
          "choropleth": [
           {
            "colorbar": {
             "outlinewidth": 0,
             "ticks": ""
            },
            "type": "choropleth"
           }
          ],
          "contour": [
           {
            "colorbar": {
             "outlinewidth": 0,
             "ticks": ""
            },
            "colorscale": [
             [
              0,
              "#0d0887"
             ],
             [
              0.1111111111111111,
              "#46039f"
             ],
             [
              0.2222222222222222,
              "#7201a8"
             ],
             [
              0.3333333333333333,
              "#9c179e"
             ],
             [
              0.4444444444444444,
              "#bd3786"
             ],
             [
              0.5555555555555556,
              "#d8576b"
             ],
             [
              0.6666666666666666,
              "#ed7953"
             ],
             [
              0.7777777777777778,
              "#fb9f3a"
             ],
             [
              0.8888888888888888,
              "#fdca26"
             ],
             [
              1,
              "#f0f921"
             ]
            ],
            "type": "contour"
           }
          ],
          "contourcarpet": [
           {
            "colorbar": {
             "outlinewidth": 0,
             "ticks": ""
            },
            "type": "contourcarpet"
           }
          ],
          "heatmap": [
           {
            "colorbar": {
             "outlinewidth": 0,
             "ticks": ""
            },
            "colorscale": [
             [
              0,
              "#0d0887"
             ],
             [
              0.1111111111111111,
              "#46039f"
             ],
             [
              0.2222222222222222,
              "#7201a8"
             ],
             [
              0.3333333333333333,
              "#9c179e"
             ],
             [
              0.4444444444444444,
              "#bd3786"
             ],
             [
              0.5555555555555556,
              "#d8576b"
             ],
             [
              0.6666666666666666,
              "#ed7953"
             ],
             [
              0.7777777777777778,
              "#fb9f3a"
             ],
             [
              0.8888888888888888,
              "#fdca26"
             ],
             [
              1,
              "#f0f921"
             ]
            ],
            "type": "heatmap"
           }
          ],
          "heatmapgl": [
           {
            "colorbar": {
             "outlinewidth": 0,
             "ticks": ""
            },
            "colorscale": [
             [
              0,
              "#0d0887"
             ],
             [
              0.1111111111111111,
              "#46039f"
             ],
             [
              0.2222222222222222,
              "#7201a8"
             ],
             [
              0.3333333333333333,
              "#9c179e"
             ],
             [
              0.4444444444444444,
              "#bd3786"
             ],
             [
              0.5555555555555556,
              "#d8576b"
             ],
             [
              0.6666666666666666,
              "#ed7953"
             ],
             [
              0.7777777777777778,
              "#fb9f3a"
             ],
             [
              0.8888888888888888,
              "#fdca26"
             ],
             [
              1,
              "#f0f921"
             ]
            ],
            "type": "heatmapgl"
           }
          ],
          "histogram": [
           {
            "marker": {
             "pattern": {
              "fillmode": "overlay",
              "size": 10,
              "solidity": 0.2
             }
            },
            "type": "histogram"
           }
          ],
          "histogram2d": [
           {
            "colorbar": {
             "outlinewidth": 0,
             "ticks": ""
            },
            "colorscale": [
             [
              0,
              "#0d0887"
             ],
             [
              0.1111111111111111,
              "#46039f"
             ],
             [
              0.2222222222222222,
              "#7201a8"
             ],
             [
              0.3333333333333333,
              "#9c179e"
             ],
             [
              0.4444444444444444,
              "#bd3786"
             ],
             [
              0.5555555555555556,
              "#d8576b"
             ],
             [
              0.6666666666666666,
              "#ed7953"
             ],
             [
              0.7777777777777778,
              "#fb9f3a"
             ],
             [
              0.8888888888888888,
              "#fdca26"
             ],
             [
              1,
              "#f0f921"
             ]
            ],
            "type": "histogram2d"
           }
          ],
          "histogram2dcontour": [
           {
            "colorbar": {
             "outlinewidth": 0,
             "ticks": ""
            },
            "colorscale": [
             [
              0,
              "#0d0887"
             ],
             [
              0.1111111111111111,
              "#46039f"
             ],
             [
              0.2222222222222222,
              "#7201a8"
             ],
             [
              0.3333333333333333,
              "#9c179e"
             ],
             [
              0.4444444444444444,
              "#bd3786"
             ],
             [
              0.5555555555555556,
              "#d8576b"
             ],
             [
              0.6666666666666666,
              "#ed7953"
             ],
             [
              0.7777777777777778,
              "#fb9f3a"
             ],
             [
              0.8888888888888888,
              "#fdca26"
             ],
             [
              1,
              "#f0f921"
             ]
            ],
            "type": "histogram2dcontour"
           }
          ],
          "mesh3d": [
           {
            "colorbar": {
             "outlinewidth": 0,
             "ticks": ""
            },
            "type": "mesh3d"
           }
          ],
          "parcoords": [
           {
            "line": {
             "colorbar": {
              "outlinewidth": 0,
              "ticks": ""
             }
            },
            "type": "parcoords"
           }
          ],
          "pie": [
           {
            "automargin": true,
            "type": "pie"
           }
          ],
          "scatter": [
           {
            "fillpattern": {
             "fillmode": "overlay",
             "size": 10,
             "solidity": 0.2
            },
            "type": "scatter"
           }
          ],
          "scatter3d": [
           {
            "line": {
             "colorbar": {
              "outlinewidth": 0,
              "ticks": ""
             }
            },
            "marker": {
             "colorbar": {
              "outlinewidth": 0,
              "ticks": ""
             }
            },
            "type": "scatter3d"
           }
          ],
          "scattercarpet": [
           {
            "marker": {
             "colorbar": {
              "outlinewidth": 0,
              "ticks": ""
             }
            },
            "type": "scattercarpet"
           }
          ],
          "scattergeo": [
           {
            "marker": {
             "colorbar": {
              "outlinewidth": 0,
              "ticks": ""
             }
            },
            "type": "scattergeo"
           }
          ],
          "scattergl": [
           {
            "marker": {
             "colorbar": {
              "outlinewidth": 0,
              "ticks": ""
             }
            },
            "type": "scattergl"
           }
          ],
          "scattermapbox": [
           {
            "marker": {
             "colorbar": {
              "outlinewidth": 0,
              "ticks": ""
             }
            },
            "type": "scattermapbox"
           }
          ],
          "scatterpolar": [
           {
            "marker": {
             "colorbar": {
              "outlinewidth": 0,
              "ticks": ""
             }
            },
            "type": "scatterpolar"
           }
          ],
          "scatterpolargl": [
           {
            "marker": {
             "colorbar": {
              "outlinewidth": 0,
              "ticks": ""
             }
            },
            "type": "scatterpolargl"
           }
          ],
          "scatterternary": [
           {
            "marker": {
             "colorbar": {
              "outlinewidth": 0,
              "ticks": ""
             }
            },
            "type": "scatterternary"
           }
          ],
          "surface": [
           {
            "colorbar": {
             "outlinewidth": 0,
             "ticks": ""
            },
            "colorscale": [
             [
              0,
              "#0d0887"
             ],
             [
              0.1111111111111111,
              "#46039f"
             ],
             [
              0.2222222222222222,
              "#7201a8"
             ],
             [
              0.3333333333333333,
              "#9c179e"
             ],
             [
              0.4444444444444444,
              "#bd3786"
             ],
             [
              0.5555555555555556,
              "#d8576b"
             ],
             [
              0.6666666666666666,
              "#ed7953"
             ],
             [
              0.7777777777777778,
              "#fb9f3a"
             ],
             [
              0.8888888888888888,
              "#fdca26"
             ],
             [
              1,
              "#f0f921"
             ]
            ],
            "type": "surface"
           }
          ],
          "table": [
           {
            "cells": {
             "fill": {
              "color": "#EBF0F8"
             },
             "line": {
              "color": "white"
             }
            },
            "header": {
             "fill": {
              "color": "#C8D4E3"
             },
             "line": {
              "color": "white"
             }
            },
            "type": "table"
           }
          ]
         },
         "layout": {
          "annotationdefaults": {
           "arrowcolor": "#2a3f5f",
           "arrowhead": 0,
           "arrowwidth": 1
          },
          "autotypenumbers": "strict",
          "coloraxis": {
           "colorbar": {
            "outlinewidth": 0,
            "ticks": ""
           }
          },
          "colorscale": {
           "diverging": [
            [
             0,
             "#8e0152"
            ],
            [
             0.1,
             "#c51b7d"
            ],
            [
             0.2,
             "#de77ae"
            ],
            [
             0.3,
             "#f1b6da"
            ],
            [
             0.4,
             "#fde0ef"
            ],
            [
             0.5,
             "#f7f7f7"
            ],
            [
             0.6,
             "#e6f5d0"
            ],
            [
             0.7,
             "#b8e186"
            ],
            [
             0.8,
             "#7fbc41"
            ],
            [
             0.9,
             "#4d9221"
            ],
            [
             1,
             "#276419"
            ]
           ],
           "sequential": [
            [
             0,
             "#0d0887"
            ],
            [
             0.1111111111111111,
             "#46039f"
            ],
            [
             0.2222222222222222,
             "#7201a8"
            ],
            [
             0.3333333333333333,
             "#9c179e"
            ],
            [
             0.4444444444444444,
             "#bd3786"
            ],
            [
             0.5555555555555556,
             "#d8576b"
            ],
            [
             0.6666666666666666,
             "#ed7953"
            ],
            [
             0.7777777777777778,
             "#fb9f3a"
            ],
            [
             0.8888888888888888,
             "#fdca26"
            ],
            [
             1,
             "#f0f921"
            ]
           ],
           "sequentialminus": [
            [
             0,
             "#0d0887"
            ],
            [
             0.1111111111111111,
             "#46039f"
            ],
            [
             0.2222222222222222,
             "#7201a8"
            ],
            [
             0.3333333333333333,
             "#9c179e"
            ],
            [
             0.4444444444444444,
             "#bd3786"
            ],
            [
             0.5555555555555556,
             "#d8576b"
            ],
            [
             0.6666666666666666,
             "#ed7953"
            ],
            [
             0.7777777777777778,
             "#fb9f3a"
            ],
            [
             0.8888888888888888,
             "#fdca26"
            ],
            [
             1,
             "#f0f921"
            ]
           ]
          },
          "colorway": [
           "#636efa",
           "#EF553B",
           "#00cc96",
           "#ab63fa",
           "#FFA15A",
           "#19d3f3",
           "#FF6692",
           "#B6E880",
           "#FF97FF",
           "#FECB52"
          ],
          "font": {
           "color": "#2a3f5f"
          },
          "geo": {
           "bgcolor": "white",
           "lakecolor": "white",
           "landcolor": "#E5ECF6",
           "showlakes": true,
           "showland": true,
           "subunitcolor": "white"
          },
          "hoverlabel": {
           "align": "left"
          },
          "hovermode": "closest",
          "mapbox": {
           "style": "light"
          },
          "paper_bgcolor": "white",
          "plot_bgcolor": "#E5ECF6",
          "polar": {
           "angularaxis": {
            "gridcolor": "white",
            "linecolor": "white",
            "ticks": ""
           },
           "bgcolor": "#E5ECF6",
           "radialaxis": {
            "gridcolor": "white",
            "linecolor": "white",
            "ticks": ""
           }
          },
          "scene": {
           "xaxis": {
            "backgroundcolor": "#E5ECF6",
            "gridcolor": "white",
            "gridwidth": 2,
            "linecolor": "white",
            "showbackground": true,
            "ticks": "",
            "zerolinecolor": "white"
           },
           "yaxis": {
            "backgroundcolor": "#E5ECF6",
            "gridcolor": "white",
            "gridwidth": 2,
            "linecolor": "white",
            "showbackground": true,
            "ticks": "",
            "zerolinecolor": "white"
           },
           "zaxis": {
            "backgroundcolor": "#E5ECF6",
            "gridcolor": "white",
            "gridwidth": 2,
            "linecolor": "white",
            "showbackground": true,
            "ticks": "",
            "zerolinecolor": "white"
           }
          },
          "shapedefaults": {
           "line": {
            "color": "#2a3f5f"
           }
          },
          "ternary": {
           "aaxis": {
            "gridcolor": "white",
            "linecolor": "white",
            "ticks": ""
           },
           "baxis": {
            "gridcolor": "white",
            "linecolor": "white",
            "ticks": ""
           },
           "bgcolor": "#E5ECF6",
           "caxis": {
            "gridcolor": "white",
            "linecolor": "white",
            "ticks": ""
           }
          },
          "title": {
           "x": 0.05
          },
          "xaxis": {
           "automargin": true,
           "gridcolor": "white",
           "linecolor": "white",
           "ticks": "",
           "title": {
            "standoff": 15
           },
           "zerolinecolor": "white",
           "zerolinewidth": 2
          },
          "yaxis": {
           "automargin": true,
           "gridcolor": "white",
           "linecolor": "white",
           "ticks": "",
           "title": {
            "standoff": 15
           },
           "zerolinecolor": "white",
           "zerolinewidth": 2
          }
         }
        },
        "title": {
         "text": "Product communities Based on Ingredient Research and Category (Hierarchical Clustering)"
        },
        "width": 1000
       }
      }
     },
     "metadata": {},
     "output_type": "display_data"
    }
   ],
   "source": [
    "from sklearn.cluster import AgglomerativeClustering\n",
    "import pandas as pd\n",
    "\n",
    "\n",
    "n_clusters = 9 \n",
    "hierarchical_clustering = AgglomerativeClustering(n_clusters=n_clusters)\n",
    "\n",
    "\n",
    "clusters = hierarchical_clustering.fit_predict(features)\n",
    "\n",
    "\n",
    "df['community'] = clusters\n",
    "\n",
    "\n",
    "table_data = []\n",
    "for community in sorted(df['community'].unique()):\n",
    "    products = df[df['community'] == community]['product'].unique().tolist()\n",
    "    row = [f\"<b>community {community}</b>\"] + [\"<br>\".join(products)]\n",
    "    table_data.append(row)\n",
    "\n",
    "\n",
    "table = go.Table(\n",
    "    header=dict(values=[\"community\", \"Products\"]),\n",
    "    cells=dict(values=[list(zip(*table_data))[0], list(zip(*table_data))[1]],\n",
    "               fill_color=[['#f2f2f2', 'white'] * len(table_data)],\n",
    "               align=['center', 'left'],\n",
    "               font=dict(size=12),\n",
    "               height=30)\n",
    ")\n",
    "\n",
    "\n",
    "layout = go.Layout(title=\"Product communities Based on Ingredient Research and Category (Hierarchical Clustering)\",\n",
    "                   width=1000, height=600)\n",
    "\n",
    "\n",
    "fig = go.Figure(data=[table], layout=layout)\n",
    "fig.show()\n"
   ]
  },
  {
   "cell_type": "code",
   "execution_count": 58,
   "metadata": {},
   "outputs": [
    {
     "name": "stdout",
     "output_type": "stream",
     "text": [
      "Louvain Modularity: 0.8628892733564012\n",
      "Label Propagation Modularity: 0.8447231833910034\n"
     ]
    },
    {
     "name": "stderr",
     "output_type": "stream",
     "text": [
      "c:\\Users\\apple\\anaconda3\\lib\\site-packages\\sklearn\\cluster\\_kmeans.py:870: FutureWarning:\n",
      "\n",
      "The default value of `n_init` will change from 10 to 'auto' in 1.4. Set the value of `n_init` explicitly to suppress the warning\n",
      "\n"
     ]
    },
    {
     "name": "stdout",
     "output_type": "stream",
     "text": [
      "K-means Modularity: 0.79465830449827\n"
     ]
    }
   ],
   "source": [
    "import pandas as pd\n",
    "import networkx as nx\n",
    "from community import community_louvain\n",
    "from networkx.algorithms.community import label_propagation_communities\n",
    "from sklearn.cluster import KMeans\n",
    "from sklearn.preprocessing import MultiLabelBinarizer\n",
    "from sklearn.metrics import silhouette_score\n",
    "\n",
    "\n",
    "from neo4j import GraphDatabase\n",
    "\n",
    "\n",
    "\n",
    "with driver.session() as session:\n",
    "    # Run a Cypher query and get the results\n",
    "    result = session.run(\"MATCH (p:Product)-[:STOCKED_IN]->(c:Category), \"\n",
    "                         \"(p)-[:HAS_RECIPE]->(r:Recipe)-[:USES_INGREDIENT]->(i:Ingredient)-[:HAS_RESEARCH]->(res:IngredientResearch) \"\n",
    "                         \"RETURN p.name AS product, res.ingredient_name AS ingredientResearch, COLLECT(c.name) AS categories\")\n",
    "\n",
    "    # Convert results to Pandas DataFrame\n",
    "    data = []\n",
    "    for record in result:\n",
    "        data.append({'product': record['product'], 'ingredientResearch': record['ingredientResearch'], 'categories': record['categories']})\n",
    "    df = pd.DataFrame(data)\n",
    "\n",
    "    # Build product networks based on raw material research and product categories\n",
    "    product_net = nx.Graph()\n",
    "\n",
    "    for _, row in df.iterrows():\n",
    "        product = row['product']\n",
    "        ingredient = row['ingredientResearch']\n",
    "        categories = row['categories']\n",
    "        \n",
    "        # Add node\n",
    "        product_net.add_node(product, ingredient=ingredient, categories=categories)\n",
    "        \n",
    "        # Add an edge\n",
    "        for other_product in product_net.nodes():\n",
    "            if other_product != product and ingredient in product_net.nodes[other_product]['ingredient'] and any(c in product_net.nodes[other_product]['categories'] for c in categories):\n",
    "                product_net.add_edge(product, other_product, weight=1)\n",
    "\n",
    "    # Louvain algorithm\n",
    "    louvain_partition = community_louvain.best_partition(product_net)\n",
    "    louvain_modularity = community_louvain.modularity(louvain_partition, product_net)\n",
    "    print(f\"Louvain Modularity: {louvain_modularity}\")\n",
    "\n",
    "    # Label Propagation algorithm\n",
    "    lp_communities = label_propagation_communities(product_net)\n",
    "    lp_partition = {node: i for i, community in enumerate(lp_communities) for node in community}\n",
    "    lp_modularity = nx.algorithms.community.modularity(product_net, lp_communities)\n",
    "    print(f\"Label Propagation Modularity: {lp_modularity}\")\n",
    "\n",
    "    # K-means algorithm\n",
    "    # Unique heat coding for raw material studies and product categories\n",
    "    mlb = MultiLabelBinarizer()\n",
    "    ingredient_encoded = pd.DataFrame(mlb.fit_transform(df['ingredientResearch'].apply(lambda x: [x])),\n",
    "                                      columns=mlb.classes_, index=df.index)\n",
    "    category_encoded = pd.DataFrame(mlb.fit_transform(df['categories']),\n",
    "                                    columns=mlb.classes_, index=df.index)\n",
    "\n",
    "    # Splicing of coded raw material studies and product categories\n",
    "    features = pd.concat([ingredient_encoded, category_encoded], axis=1)\n",
    "\n",
    "    # Clustering using the K-means algorithm\n",
    "    kmeans = KMeans(n_clusters=6, random_state=42)\n",
    "    clusters = kmeans.fit_predict(features)\n",
    "\n",
    "    # Add the clustering results to the DataFrame\n",
    "    df['cluster'] = clusters\n",
    "\n",
    "    # Calculate the modularity of K-means\n",
    "    kmeans_partition = {product: cluster for product, cluster in zip(df['product'], df['cluster'])}\n",
    "    kmeans_modularity = nx.algorithms.community.modularity(product_net, [set(df[df['cluster'] == c]['product']) for c in df['cluster'].unique()])\n",
    "    print(f\"K-means Modularity: {kmeans_modularity}\")\n",
    "\n"
   ]
  },
  {
   "cell_type": "code",
   "execution_count": 62,
   "metadata": {},
   "outputs": [
    {
     "name": "stderr",
     "output_type": "stream",
     "text": [
      "c:\\Users\\apple\\anaconda3\\lib\\site-packages\\sklearn\\cluster\\_kmeans.py:870: FutureWarning:\n",
      "\n",
      "The default value of `n_init` will change from 10 to 'auto' in 1.4. Set the value of `n_init` explicitly to suppress the warning\n",
      "\n"
     ]
    }
   ],
   "source": [
    "#import pandas as pd\n",
    "#from sklearn.cluster import KMeans\n",
    "#from sklearn.preprocessing import MultiLabelBinarizer\n",
    "#from neo4j import GraphDatabase\n",
    "\n",
    "#with driver.session() as session:\n",
    "    \n",
    "#    result = session.run(\"MATCH (p:Product)-[:STOCKED_IN]->(c:Category), \"\n",
    "#                         \"(p)-[:HAS_RECIPE]->(r:Recipe)-[:USES_INGREDIENT]->(i:Ingredient)-[:HAS_RESEARCH]->(res:IngredientResearch) \"\n",
    "#                         \"RETURN p.name AS product, res.ingredient_name AS ingredientResearch, COLLECT(c.name) AS categories\")\n",
    "\n",
    "    \n",
    "#    data = []\n",
    "#    for record in result:\n",
    "#        data.append({'product': record['product'], 'ingredientResearch': record['ingredientResearch'], 'categories': record['categories']})\n",
    "#    df = pd.DataFrame(data)\n",
    "\n",
    "    \n",
    "#   mlb = MultiLabelBinarizer()\n",
    "#    ingredient_encoded = pd.DataFrame(mlb.fit_transform(df['ingredientResearch'].apply(lambda x: [x])),\n",
    "#                                      columns=mlb.classes_, index=df.index)\n",
    "#    category_encoded = pd.DataFrame(mlb.fit_transform(df['categories']),\n",
    "#                                    columns=mlb.classes_, index=df.index)\n",
    "\n",
    "    \n",
    "#    features = pd.concat([ingredient_encoded, category_encoded], axis=1)\n",
    "\n",
    "    \n",
    "#    kmeans = KMeans(n_clusters=6, random_state=42)\n",
    "#    clusters = kmeans.fit_predict(features)\n",
    "\n",
    "#    # Add the clustering results to the DataFrame\n",
    "#    df['cluster'] = clusters\n",
    "\n",
    "#    # Create dictionaries of community names and descriptions\n",
    "#    community_info = {\n",
    "#        0: {'name': 'Community1', 'description': 'This community is related to drinks.'},\n",
    "#        1: {'name': 'Community2', 'description': 'This community is related to snacks.'},\n",
    "#        2: {'name': 'Community3', 'description': 'This community is related to dairy products.'},\n",
    "#        3: {'name': 'Community4', 'description': 'This community is related to baked goods.'},\n",
    "#        4: {'name': 'Community5', 'description': 'This community is related to condiments.'},\n",
    "#        5: {'name': 'Community6', 'description': 'This community is related to frozen foods.'}\n",
    "#    }\n",
    "\n",
    "#    # Creating a Community node in Neo4j\n",
    "#    for cluster_id, info in community_info.items():\n",
    "#        query = \"MERGE (c:Community {id: $cluster_id, name: $name, description: $description})\"\n",
    "#        session.run(query, cluster_id=cluster_id, name=info['name'], description=info['description'])\n",
    "\n",
    "#    # Create a relationship between the Product node and the Community node.\n",
    "#    for _, row in df.iterrows():\n",
    "#        product = row['product']\n",
    "#        cluster_id = row['cluster']\n",
    "#        query = \"MATCH (p:Product {name: $product}), (c:Community {id: $cluster_id}) MERGE (p)-[:COMMUNITY_TO]->(c)\"\n",
    "#        session.run(query, product=product, cluster_id=cluster_id)\n",
    "\n"
   ]
  },
  {
   "cell_type": "code",
   "execution_count": 65,
   "metadata": {},
   "outputs": [
    {
     "name": "stderr",
     "output_type": "stream",
     "text": [
      "c:\\Users\\apple\\anaconda3\\lib\\site-packages\\sklearn\\cluster\\_kmeans.py:870: FutureWarning:\n",
      "\n",
      "The default value of `n_init` will change from 10 to 'auto' in 1.4. Set the value of `n_init` explicitly to suppress the warning\n",
      "\n"
     ]
    }
   ],
   "source": [
    "import pandas as pd\n",
    "from sklearn.cluster import KMeans\n",
    "from sklearn.preprocessing import MultiLabelBinarizer\n",
    "\n",
    "from neo4j import GraphDatabase\n",
    "\n",
    "with driver.session() as session:\n",
    "\n",
    "    result = session.run(\"MATCH (p:Product)-[:STOCKED_IN]->(c:Category), \"\n",
    "                         \"(p)-[:HAS_RECIPE]->(r:Recipe)-[:USES_INGREDIENT]->(i:Ingredient)-[:HAS_RESEARCH]->(res:IngredientResearch) \"\n",
    "                         \"RETURN p.name AS product, res.ingredient_name AS ingredientResearch, COLLECT(c.name) AS categories\")\n",
    "\n",
    "    \n",
    "    data = []\n",
    "    for record in result:\n",
    "        data.append({'product': record['product'], 'ingredientResearch': record['ingredientResearch'], 'categories': record['categories']})\n",
    "    df = pd.DataFrame(data)\n",
    "\n",
    "\n",
    "    mlb = MultiLabelBinarizer()\n",
    "    ingredient_encoded = pd.DataFrame(mlb.fit_transform(df['ingredientResearch'].apply(lambda x: [x])),\n",
    "                                      columns=mlb.classes_, index=df.index)\n",
    "    category_encoded = pd.DataFrame(mlb.fit_transform(df['categories']),\n",
    "                                    columns=mlb.classes_, index=df.index)\n",
    "\n",
    "   \n",
    "    features = pd.concat([ingredient_encoded, category_encoded], axis=1)\n",
    "\n",
    "    \n",
    "    kmeans = KMeans(n_clusters=7, random_state=42)\n",
    "    clusters = kmeans.fit_predict(features)\n",
    "\n",
    "    df['cluster'] = clusters\n",
    "\n",
    "     # Create table data\n",
    "    table_data = []\n",
    "    for community in sorted(df['community'].unique()):\n",
    "        products = df[df['community'] == community]['product'].unique().tolist()\n",
    "        row = [f\"<b>community {community}</b>\"] + [\"<br>\".join(products)]\n",
    "        table_data.append(row)\n",
    "\n",
    "    \n",
    "    table = go.Table(\n",
    "        header=dict(values=[\"community\", \"Products\"]),\n",
    "        cells=dict(values=[list(zip(*table_data))[0], list(zip(*table_data))[1]],\n",
    "                   fill_color=[['#f2f2f2', 'white'] * len(table_data)],\n",
    "                   align=['center', 'left'],\n",
    "                   font=dict(size=12),\n",
    "                   height=30)\n",
    "    )\n",
    "\n",
    "    \n",
    "    layout = go.Layout(title=\"Product communities Based on Ingredient Research and Category (K-means)\",\n",
    "                       width=1000, height=600)\n",
    "\n",
    "   \n",
    "    fig = go.Figure(data=[table], layout=layout)\n",
    "    fig.show()\n",
    "\n",
    "    community_info = {\n",
    "        0: {'name': 'Community1', 'description': 'This community is related to drinks.'},\n",
    "        1: {'name': 'Community2', 'description': 'This community is related to snacks.'},\n",
    "        2: {'name': 'Community3', 'description': 'This community is related to dairy products.'},\n",
    "        3: {'name': 'Community4', 'description': 'This community is related to baked goods.'},\n",
    "        4: {'name': 'Community5', 'description': 'This community is related to condiments.'},\n",
    "        5: {'name': 'Community6', 'description': 'This community is related to frozen foods.'},\n",
    "        6: {'name': 'Community7', 'description': 'This community is related to frozen food.'}\n",
    "    }\n",
    "\n",
    "    for cluster_id, info in community_info.items():\n",
    "        query = \"MERGE (c:Community {name: $name, description: $description})\"\n",
    "        session.run(query, name=info['name'], description=info['description'])\n",
    "\n",
    "    for _, row in df.iterrows():\n",
    "        product = row['product']\n",
    "        cluster_name = community_info[row['cluster']]['name']\n",
    "        query = \"MATCH (p:Product {name: $product}), (c:Community {name: $cluster_name}) MERGE (p)-[:BELONGS_TO]->(c)\"\n",
    "        session.run(query, product=product, cluster_name=cluster_name)\n",
    "\n"
   ]
  },
  {
   "cell_type": "code",
   "execution_count": 22,
   "metadata": {},
   "outputs": [
    {
     "name": "stderr",
     "output_type": "stream",
     "text": [
      "c:\\Users\\apple\\anaconda3\\lib\\site-packages\\sklearn\\cluster\\_kmeans.py:870: FutureWarning:\n",
      "\n",
      "The default value of `n_init` will change from 10 to 'auto' in 1.4. Set the value of `n_init` explicitly to suppress the warning\n",
      "\n"
     ]
    }
   ],
   "source": [
    "#The final one\n",
    "\n",
    "import pandas as pd\n",
    "from sklearn.cluster import KMeans\n",
    "from sklearn.preprocessing import MultiLabelBinarizer\n",
    "\n",
    "\n",
    "from neo4j import GraphDatabase\n",
    "\n",
    "\n",
    "\n",
    "with driver.session() as session:\n",
    "    \n",
    "    session.run(\"MATCH (c:Community) DETACH DELETE c\")\n",
    "    session.run(\"MATCH (p:Product)-[r:BELONGS_TO]->() DELETE r\")\n",
    "    session.run(\"MATCH (p:Product)-[r:COMMUNITY_TO]->() DELETE r\")\n",
    "\n",
    "    # Run the Cypher query and get the results\n",
    "    result = session.run(\"MATCH (p:Product)-[:STOCKED_IN]->(c:Category), \"\n",
    "                         \"(p)-[:HAS_RECIPE]->(r:Recipe)-[:USES_INGREDIENT]->(i:Ingredient)-[:HAS_RESEARCH]->(res:IngredientResearch) \"\n",
    "                         \"RETURN p.name AS product, res.ingredient_name AS ingredientResearch, COLLECT(c.name) AS categories\")\n",
    "\n",
    "    # Convert results to Pandas DataFrame\n",
    "    data = []\n",
    "    for record in result:\n",
    "        data.append({'product': record['product'], 'ingredientResearch': record['ingredientResearch'], 'categories': record['categories']})\n",
    "    df = pd.DataFrame(data)\n",
    "\n",
    "    # Solo heat coding of raw material research and product categories\n",
    "    mlb = MultiLabelBinarizer()\n",
    "    ingredient_encoded = pd.DataFrame(mlb.fit_transform(df['ingredientResearch'].apply(lambda x: [x])),\n",
    "                                      columns=mlb.classes_, index=df.index)\n",
    "    category_encoded = pd.DataFrame(mlb.fit_transform(df['categories']),\n",
    "                                    columns=mlb.classes_, index=df.index)\n",
    "\n",
    "    # Splicing of coded raw material studies and product categories\n",
    "    features = pd.concat([ingredient_encoded, category_encoded], axis=1)\n",
    "\n",
    "    # Use K-means algorithm for clustering, change the number of clusters to 8.\n",
    "    kmeans = KMeans(n_clusters=8, random_state=42)\n",
    "    clusters = kmeans.fit_predict(features)\n",
    "\n",
    "    # Add the clustering results to the DataFrame\n",
    "    df['cluster'] = clusters\n",
    "\n",
    "    # Update the dictionary of community names and descriptions\n",
    "    community_info = {\n",
    "        0: {'name': 'Fruit juice drinks', 'description': 'This community is related to Fruit juice drinks.'},\n",
    "        1: {'name': 'Cookies', 'description': 'This community is related to Cookies.'},\n",
    "        2: {'name': 'Sauce', 'description': 'This community is related to Sauce.'},\n",
    "        3: {'name': 'Bar', 'description': 'This community is related to Bar.'},\n",
    "        4: {'name': 'Noodles', 'description': 'This community is related to Noodles.'},\n",
    "        5: {'name': 'Chips', 'description': 'This community is related to Chips.'},\n",
    "        6: {'name': 'Carbonated and Bottle drinks', 'description': 'This community is related to Can and Bottle.'},\n",
    "        7: {'name': 'Others drinks', 'description': 'This community is related to Others drinks.'}\n",
    "    }\n",
    "\n",
    "    # Creating a Community node in Neo4j\n",
    "    for cluster_id, info in community_info.items():\n",
    "        query = \"MERGE (c:Community {name: $name, description: $description})\"\n",
    "        session.run(query, name=info['name'], description=info['description'])\n",
    "\n",
    "    # Create a relationship between the Product node and the Community node.\n",
    "    for _, row in df.iterrows():\n",
    "        product = row['product']\n",
    "        cluster_name = community_info[row['cluster']]['name']\n",
    "        query = \"MATCH (p:Product {name: $product}), (c:Community {name: $cluster_name}) MERGE (p)-[:COMMUNITY_TO]->(c)\"\n",
    "        session.run(query, product=product, cluster_name=cluster_name)\n",
    "\n"
   ]
  }
 ],
 "metadata": {
  "kernelspec": {
   "display_name": "base",
   "language": "python",
   "name": "python3"
  },
  "language_info": {
   "codemirror_mode": {
    "name": "ipython",
    "version": 3
   },
   "file_extension": ".py",
   "mimetype": "text/x-python",
   "name": "python",
   "nbconvert_exporter": "python",
   "pygments_lexer": "ipython3",
   "version": "3.10.9"
  }
 },
 "nbformat": 4,
 "nbformat_minor": 2
}
