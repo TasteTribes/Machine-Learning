{
 "cells": [
  {
   "cell_type": "code",
   "execution_count": 1,
   "metadata": {},
   "outputs": [
    {
     "name": "stdout",
     "output_type": "stream",
     "text": [
      "Connectivity verified successfully.\n"
     ]
    }
   ],
   "source": [
    "from neo4j import GraphDatabase\n",
    "\n",
    "def get_neo4j_driver() -> GraphDatabase.driver:\n",
    "    \"\"\"Establishes and returns a Neo4j session for AuraDB.\"\"\"\n",
    "    neo4j_uri = 'neo4j+s://9d1381c2.databases.neo4j.io:7687'\n",
    "    neo4j_user = 'Shirley'\n",
    "    neo4j_password = 'Sxl19950312'\n",
    "    return GraphDatabase.driver(neo4j_uri, auth=(neo4j_user, neo4j_password))\n",
    "\n",
    "# Call the function to get the driver\n",
    "driver = get_neo4j_driver()\n",
    "\n",
    "# Open a session\n",
    "with driver.session() as session:\n",
    "    # Verify connectivity within the session\n",
    "    session.run(\"RETURN 1\")\n",
    "\n",
    "print(\"Connectivity verified successfully.\")\n",
    "\n",
    "\n",
    "from dash import Dash, dcc, html\n",
    "import plotly.express as px\n",
    "import pandas as pd\n",
    "\n",
    "\n",
    "# Define a Cypher query to retrieve the required data\n",
    "query = \"\"\"\n",
    "MATCH (n)\n",
    "RETURN n\n",
    "\"\"\"\n",
    "\n",
    "# Execute the query and process the results\n",
    "with driver.session() as session:\n",
    "    result = session.run(query)\n",
    "    neo4j_data = [record.data() for record in result]\n",
    "\n",
    "# Converting Neo4j Data to Pandas DataFrame Format\n",
    "df = pd.DataFrame(neo4j_data)\n",
    "\n",
    "#print(df)"
   ]
  },
  {
   "cell_type": "code",
   "execution_count": 2,
   "metadata": {},
   "outputs": [
    {
     "ename": "GdsNotFound",
     "evalue": "The Graph Data Science library is not correctly installed on the Neo4j server.\n                    Please refer to https://neo4j.com/docs/graph-data-science/current/installation/.\n                    ",
     "output_type": "error",
     "traceback": [
      "\u001b[1;31m---------------------------------------------------------------------------\u001b[0m",
      "\u001b[1;31mCypherSyntaxError\u001b[0m                         Traceback (most recent call last)",
      "File \u001b[1;32mc:\\Users\\apple\\anaconda3\\lib\\site-packages\\graphdatascience\\query_runner\\neo4j_query_runner.py:188\u001b[0m, in \u001b[0;36mNeo4jQueryRunner.server_version\u001b[1;34m(self)\u001b[0m\n\u001b[0;32m    187\u001b[0m \u001b[38;5;28;01mtry\u001b[39;00m:\n\u001b[1;32m--> 188\u001b[0m     server_version_string \u001b[38;5;241m=\u001b[39m \u001b[38;5;28;43mself\u001b[39;49m\u001b[38;5;241;43m.\u001b[39;49m\u001b[43mrun_cypher\u001b[49m\u001b[43m(\u001b[49m\u001b[38;5;124;43m\"\u001b[39;49m\u001b[38;5;124;43mRETURN gds.version()\u001b[39;49m\u001b[38;5;124;43m\"\u001b[39;49m\u001b[43m,\u001b[49m\u001b[43m \u001b[49m\u001b[43mcustom_error\u001b[49m\u001b[38;5;241;43m=\u001b[39;49m\u001b[38;5;28;43;01mFalse\u001b[39;49;00m\u001b[43m)\u001b[49m\u001b[38;5;241m.\u001b[39msqueeze()\n\u001b[0;32m    189\u001b[0m     \u001b[38;5;28;01mreturn\u001b[39;00m ServerVersion\u001b[38;5;241m.\u001b[39mfrom_string(server_version_string)\n",
      "File \u001b[1;32mc:\\Users\\apple\\anaconda3\\lib\\site-packages\\graphdatascience\\query_runner\\neo4j_query_runner.py:111\u001b[0m, in \u001b[0;36mNeo4jQueryRunner.run_cypher\u001b[1;34m(self, query, params, database, custom_error)\u001b[0m\n\u001b[0;32m    110\u001b[0m     \u001b[38;5;28;01melse\u001b[39;00m:\n\u001b[1;32m--> 111\u001b[0m         \u001b[38;5;28;01mraise\u001b[39;00m e\n\u001b[0;32m    113\u001b[0m \u001b[38;5;66;03m# Though pandas support may be experimental in the `neo4j` package, it should always\u001b[39;00m\n\u001b[0;32m    114\u001b[0m \u001b[38;5;66;03m# be supported in the `graphdatascience` package.\u001b[39;00m\n",
      "File \u001b[1;32mc:\\Users\\apple\\anaconda3\\lib\\site-packages\\graphdatascience\\query_runner\\neo4j_query_runner.py:106\u001b[0m, in \u001b[0;36mNeo4jQueryRunner.run_cypher\u001b[1;34m(self, query, params, database, custom_error)\u001b[0m\n\u001b[0;32m    105\u001b[0m \u001b[38;5;28;01mtry\u001b[39;00m:\n\u001b[1;32m--> 106\u001b[0m     result \u001b[38;5;241m=\u001b[39m \u001b[43msession\u001b[49m\u001b[38;5;241;43m.\u001b[39;49m\u001b[43mrun\u001b[49m\u001b[43m(\u001b[49m\u001b[43mquery\u001b[49m\u001b[43m,\u001b[49m\u001b[43m \u001b[49m\u001b[43mparams\u001b[49m\u001b[43m)\u001b[49m\n\u001b[0;32m    107\u001b[0m \u001b[38;5;28;01mexcept\u001b[39;00m \u001b[38;5;167;01mException\u001b[39;00m \u001b[38;5;28;01mas\u001b[39;00m e:\n",
      "File \u001b[1;32mc:\\Users\\apple\\anaconda3\\lib\\site-packages\\neo4j\\_sync\\work\\session.py:313\u001b[0m, in \u001b[0;36mSession.run\u001b[1;34m(self, query, parameters, **kwargs)\u001b[0m\n\u001b[0;32m    312\u001b[0m parameters \u001b[38;5;241m=\u001b[39m \u001b[38;5;28mdict\u001b[39m(parameters \u001b[38;5;129;01mor\u001b[39;00m {}, \u001b[38;5;241m*\u001b[39m\u001b[38;5;241m*\u001b[39mkwargs)\n\u001b[1;32m--> 313\u001b[0m \u001b[38;5;28;43mself\u001b[39;49m\u001b[38;5;241;43m.\u001b[39;49m\u001b[43m_auto_result\u001b[49m\u001b[38;5;241;43m.\u001b[39;49m\u001b[43m_run\u001b[49m\u001b[43m(\u001b[49m\n\u001b[0;32m    314\u001b[0m \u001b[43m    \u001b[49m\u001b[43mquery\u001b[49m\u001b[43m,\u001b[49m\u001b[43m \u001b[49m\u001b[43mparameters\u001b[49m\u001b[43m,\u001b[49m\u001b[43m \u001b[49m\u001b[38;5;28;43mself\u001b[39;49m\u001b[38;5;241;43m.\u001b[39;49m\u001b[43m_config\u001b[49m\u001b[38;5;241;43m.\u001b[39;49m\u001b[43mdatabase\u001b[49m\u001b[43m,\u001b[49m\n\u001b[0;32m    315\u001b[0m \u001b[43m    \u001b[49m\u001b[38;5;28;43mself\u001b[39;49m\u001b[38;5;241;43m.\u001b[39;49m\u001b[43m_config\u001b[49m\u001b[38;5;241;43m.\u001b[39;49m\u001b[43mimpersonated_user\u001b[49m\u001b[43m,\u001b[49m\u001b[43m \u001b[49m\u001b[38;5;28;43mself\u001b[39;49m\u001b[38;5;241;43m.\u001b[39;49m\u001b[43m_config\u001b[49m\u001b[38;5;241;43m.\u001b[39;49m\u001b[43mdefault_access_mode\u001b[49m\u001b[43m,\u001b[49m\n\u001b[0;32m    316\u001b[0m \u001b[43m    \u001b[49m\u001b[43mbookmarks\u001b[49m\u001b[43m,\u001b[49m\u001b[43m \u001b[49m\u001b[38;5;28;43mself\u001b[39;49m\u001b[38;5;241;43m.\u001b[39;49m\u001b[43m_config\u001b[49m\u001b[38;5;241;43m.\u001b[39;49m\u001b[43mnotifications_min_severity\u001b[49m\u001b[43m,\u001b[49m\n\u001b[0;32m    317\u001b[0m \u001b[43m    \u001b[49m\u001b[38;5;28;43mself\u001b[39;49m\u001b[38;5;241;43m.\u001b[39;49m\u001b[43m_config\u001b[49m\u001b[38;5;241;43m.\u001b[39;49m\u001b[43mnotifications_disabled_categories\u001b[49m\u001b[43m,\u001b[49m\n\u001b[0;32m    318\u001b[0m \u001b[43m\u001b[49m\u001b[43m)\u001b[49m\n\u001b[0;32m    320\u001b[0m \u001b[38;5;28;01mreturn\u001b[39;00m \u001b[38;5;28mself\u001b[39m\u001b[38;5;241m.\u001b[39m_auto_result\n",
      "File \u001b[1;32mc:\\Users\\apple\\anaconda3\\lib\\site-packages\\neo4j\\_sync\\work\\result.py:181\u001b[0m, in \u001b[0;36mResult._run\u001b[1;34m(self, query, parameters, db, imp_user, access_mode, bookmarks, notifications_min_severity, notifications_disabled_categories)\u001b[0m\n\u001b[0;32m    180\u001b[0m \u001b[38;5;28mself\u001b[39m\u001b[38;5;241m.\u001b[39m_connection\u001b[38;5;241m.\u001b[39msend_all()\n\u001b[1;32m--> 181\u001b[0m \u001b[38;5;28;43mself\u001b[39;49m\u001b[38;5;241;43m.\u001b[39;49m\u001b[43m_attach\u001b[49m\u001b[43m(\u001b[49m\u001b[43m)\u001b[49m\n",
      "File \u001b[1;32mc:\\Users\\apple\\anaconda3\\lib\\site-packages\\neo4j\\_sync\\work\\result.py:301\u001b[0m, in \u001b[0;36mResult._attach\u001b[1;34m(self)\u001b[0m\n\u001b[0;32m    300\u001b[0m \u001b[38;5;28;01mwhile\u001b[39;00m \u001b[38;5;28mself\u001b[39m\u001b[38;5;241m.\u001b[39m_attached \u001b[38;5;129;01mis\u001b[39;00m \u001b[38;5;28;01mFalse\u001b[39;00m:\n\u001b[1;32m--> 301\u001b[0m     \u001b[38;5;28;43mself\u001b[39;49m\u001b[38;5;241;43m.\u001b[39;49m\u001b[43m_connection\u001b[49m\u001b[38;5;241;43m.\u001b[39;49m\u001b[43mfetch_message\u001b[49m\u001b[43m(\u001b[49m\u001b[43m)\u001b[49m\n",
      "File \u001b[1;32mc:\\Users\\apple\\anaconda3\\lib\\site-packages\\neo4j\\_sync\\io\\_common.py:178\u001b[0m, in \u001b[0;36mConnectionErrorHandler.__getattr__.<locals>.outer.<locals>.inner\u001b[1;34m(*args, **kwargs)\u001b[0m\n\u001b[0;32m    177\u001b[0m \u001b[38;5;28;01mtry\u001b[39;00m:\n\u001b[1;32m--> 178\u001b[0m     func(\u001b[38;5;241m*\u001b[39margs, \u001b[38;5;241m*\u001b[39m\u001b[38;5;241m*\u001b[39mkwargs)\n\u001b[0;32m    179\u001b[0m \u001b[38;5;28;01mexcept\u001b[39;00m (Neo4jError, ServiceUnavailable, SessionExpired) \u001b[38;5;28;01mas\u001b[39;00m exc:\n",
      "File \u001b[1;32mc:\\Users\\apple\\anaconda3\\lib\\site-packages\\neo4j\\_sync\\io\\_bolt.py:849\u001b[0m, in \u001b[0;36mBolt.fetch_message\u001b[1;34m(self)\u001b[0m\n\u001b[0;32m    846\u001b[0m tag, fields \u001b[38;5;241m=\u001b[39m \u001b[38;5;28mself\u001b[39m\u001b[38;5;241m.\u001b[39minbox\u001b[38;5;241m.\u001b[39mpop(\n\u001b[0;32m    847\u001b[0m     hydration_hooks\u001b[38;5;241m=\u001b[39m\u001b[38;5;28mself\u001b[39m\u001b[38;5;241m.\u001b[39mresponses[\u001b[38;5;241m0\u001b[39m]\u001b[38;5;241m.\u001b[39mhydration_hooks\n\u001b[0;32m    848\u001b[0m )\n\u001b[1;32m--> 849\u001b[0m res \u001b[38;5;241m=\u001b[39m \u001b[38;5;28;43mself\u001b[39;49m\u001b[38;5;241;43m.\u001b[39;49m\u001b[43m_process_message\u001b[49m\u001b[43m(\u001b[49m\u001b[43mtag\u001b[49m\u001b[43m,\u001b[49m\u001b[43m \u001b[49m\u001b[43mfields\u001b[49m\u001b[43m)\u001b[49m\n\u001b[0;32m    850\u001b[0m \u001b[38;5;28mself\u001b[39m\u001b[38;5;241m.\u001b[39midle_since \u001b[38;5;241m=\u001b[39m monotonic()\n",
      "File \u001b[1;32mc:\\Users\\apple\\anaconda3\\lib\\site-packages\\neo4j\\_sync\\io\\_bolt5.py:369\u001b[0m, in \u001b[0;36mBolt5x0._process_message\u001b[1;34m(self, tag, fields)\u001b[0m\n\u001b[0;32m    368\u001b[0m \u001b[38;5;28;01mtry\u001b[39;00m:\n\u001b[1;32m--> 369\u001b[0m     \u001b[43mresponse\u001b[49m\u001b[38;5;241;43m.\u001b[39;49m\u001b[43mon_failure\u001b[49m\u001b[43m(\u001b[49m\u001b[43msummary_metadata\u001b[49m\u001b[43m \u001b[49m\u001b[38;5;129;43;01mor\u001b[39;49;00m\u001b[43m \u001b[49m\u001b[43m{\u001b[49m\u001b[43m}\u001b[49m\u001b[43m)\u001b[49m\n\u001b[0;32m    370\u001b[0m \u001b[38;5;28;01mexcept\u001b[39;00m (ServiceUnavailable, DatabaseUnavailable):\n",
      "File \u001b[1;32mc:\\Users\\apple\\anaconda3\\lib\\site-packages\\neo4j\\_sync\\io\\_common.py:245\u001b[0m, in \u001b[0;36mResponse.on_failure\u001b[1;34m(self, metadata)\u001b[0m\n\u001b[0;32m    244\u001b[0m Util\u001b[38;5;241m.\u001b[39mcallback(handler)\n\u001b[1;32m--> 245\u001b[0m \u001b[38;5;28;01mraise\u001b[39;00m Neo4jError\u001b[38;5;241m.\u001b[39mhydrate(\u001b[38;5;241m*\u001b[39m\u001b[38;5;241m*\u001b[39mmetadata)\n",
      "\u001b[1;31mCypherSyntaxError\u001b[0m: {code: Neo.ClientError.Statement.SyntaxError} {message: Unknown function 'gds.version' (line 1, column 8 (offset: 7))\n\"RETURN gds.version()\"\n        ^}",
      "\nDuring handling of the above exception, another exception occurred:\n",
      "\u001b[1;31mGdsNotFound\u001b[0m                               Traceback (most recent call last)",
      "Cell \u001b[1;32mIn[2], line 8\u001b[0m\n\u001b[0;32m      2\u001b[0m \u001b[38;5;28;01mfrom\u001b[39;00m \u001b[38;5;21;01mgraphdatascience\u001b[39;00m \u001b[38;5;28;01mimport\u001b[39;00m GraphDataScience\n\u001b[0;32m      5\u001b[0m driver \u001b[38;5;241m=\u001b[39m GraphDatabase\u001b[38;5;241m.\u001b[39mdriver(\u001b[38;5;124m\"\u001b[39m\u001b[38;5;124mneo4j+s://9d1381c2.databases.neo4j.io:7687\u001b[39m\u001b[38;5;124m\"\u001b[39m, auth\u001b[38;5;241m=\u001b[39m(\u001b[38;5;124m\"\u001b[39m\u001b[38;5;124mShirley\u001b[39m\u001b[38;5;124m\"\u001b[39m, \u001b[38;5;124m\"\u001b[39m\u001b[38;5;124mSxl19950312\u001b[39m\u001b[38;5;124m\"\u001b[39m))\n\u001b[1;32m----> 8\u001b[0m gds \u001b[38;5;241m=\u001b[39m \u001b[43mGraphDataScience\u001b[49m\u001b[43m(\u001b[49m\u001b[43mdriver\u001b[49m\u001b[43m)\u001b[49m  \n\u001b[0;32m     11\u001b[0m \u001b[38;5;28mprint\u001b[39m(gds\u001b[38;5;241m.\u001b[39mversion())\n\u001b[0;32m     12\u001b[0m \u001b[38;5;28;01massert\u001b[39;00m gds\u001b[38;5;241m.\u001b[39mversion()\n",
      "File \u001b[1;32mc:\\Users\\apple\\anaconda3\\lib\\site-packages\\graphdatascience\\graph_data_science.py:70\u001b[0m, in \u001b[0;36mGraphDataScience.__init__\u001b[1;34m(self, endpoint, auth, aura_ds, database, arrow, arrow_disable_server_verification, arrow_tls_root_certs, bookmarks)\u001b[0m\n\u001b[0;32m     68\u001b[0m     \u001b[38;5;28mself\u001b[39m\u001b[38;5;241m.\u001b[39m_query_runner \u001b[38;5;241m=\u001b[39m endpoint\n\u001b[0;32m     69\u001b[0m \u001b[38;5;28;01melse\u001b[39;00m:\n\u001b[1;32m---> 70\u001b[0m     \u001b[38;5;28mself\u001b[39m\u001b[38;5;241m.\u001b[39m_query_runner \u001b[38;5;241m=\u001b[39m \u001b[43mNeo4jQueryRunner\u001b[49m\u001b[38;5;241;43m.\u001b[39;49m\u001b[43mcreate\u001b[49m\u001b[43m(\u001b[49m\u001b[43mendpoint\u001b[49m\u001b[43m,\u001b[49m\u001b[43m \u001b[49m\u001b[43mauth\u001b[49m\u001b[43m,\u001b[49m\u001b[43m \u001b[49m\u001b[43maura_ds\u001b[49m\u001b[43m,\u001b[49m\u001b[43m \u001b[49m\u001b[43mdatabase\u001b[49m\u001b[43m,\u001b[49m\u001b[43m \u001b[49m\u001b[43mbookmarks\u001b[49m\u001b[43m)\u001b[49m\n\u001b[0;32m     72\u001b[0m \u001b[38;5;28mself\u001b[39m\u001b[38;5;241m.\u001b[39m_server_version \u001b[38;5;241m=\u001b[39m \u001b[38;5;28mself\u001b[39m\u001b[38;5;241m.\u001b[39m_query_runner\u001b[38;5;241m.\u001b[39mserver_version()\n\u001b[0;32m     74\u001b[0m \u001b[38;5;28;01mif\u001b[39;00m arrow \u001b[38;5;129;01mand\u001b[39;00m \u001b[38;5;28mself\u001b[39m\u001b[38;5;241m.\u001b[39m_server_version \u001b[38;5;241m>\u001b[39m\u001b[38;5;241m=\u001b[39m ServerVersion(\u001b[38;5;241m2\u001b[39m, \u001b[38;5;241m1\u001b[39m, \u001b[38;5;241m0\u001b[39m):\n",
      "File \u001b[1;32mc:\\Users\\apple\\anaconda3\\lib\\site-packages\\graphdatascience\\query_runner\\neo4j_query_runner.py:58\u001b[0m, in \u001b[0;36mNeo4jQueryRunner.create\u001b[1;34m(endpoint, auth, aura_ds, database, bookmarks, server_version)\u001b[0m\n\u001b[0;32m     48\u001b[0m     query_runner \u001b[38;5;241m=\u001b[39m Neo4jQueryRunner(\n\u001b[0;32m     49\u001b[0m         driver,\n\u001b[0;32m     50\u001b[0m         auto_close\u001b[38;5;241m=\u001b[39m\u001b[38;5;28;01mTrue\u001b[39;00m,\n\u001b[1;32m   (...)\u001b[0m\n\u001b[0;32m     54\u001b[0m         database\u001b[38;5;241m=\u001b[39mdatabase,\n\u001b[0;32m     55\u001b[0m     )\n\u001b[0;32m     57\u001b[0m \u001b[38;5;28;01melif\u001b[39;00m \u001b[38;5;28misinstance\u001b[39m(endpoint, neo4j\u001b[38;5;241m.\u001b[39mDriver):\n\u001b[1;32m---> 58\u001b[0m     query_runner \u001b[38;5;241m=\u001b[39m \u001b[43mNeo4jQueryRunner\u001b[49m\u001b[43m(\u001b[49m\u001b[43mendpoint\u001b[49m\u001b[43m,\u001b[49m\u001b[43m \u001b[49m\u001b[43mauto_close\u001b[49m\u001b[38;5;241;43m=\u001b[39;49m\u001b[38;5;28;43;01mFalse\u001b[39;49;00m\u001b[43m,\u001b[49m\u001b[43m \u001b[49m\u001b[43mbookmarks\u001b[49m\u001b[38;5;241;43m=\u001b[39;49m\u001b[43mbookmarks\u001b[49m\u001b[43m,\u001b[49m\u001b[43m \u001b[49m\u001b[43mdatabase\u001b[49m\u001b[38;5;241;43m=\u001b[39;49m\u001b[43mdatabase\u001b[49m\u001b[43m)\u001b[49m\n\u001b[0;32m     60\u001b[0m \u001b[38;5;28;01melse\u001b[39;00m:\n\u001b[0;32m     61\u001b[0m     \u001b[38;5;28;01mraise\u001b[39;00m \u001b[38;5;167;01mValueError\u001b[39;00m(\u001b[38;5;124mf\u001b[39m\u001b[38;5;124m\"\u001b[39m\u001b[38;5;124mInvalid endpoint type: \u001b[39m\u001b[38;5;132;01m{\u001b[39;00m\u001b[38;5;28mtype\u001b[39m(endpoint)\u001b[38;5;132;01m}\u001b[39;00m\u001b[38;5;124m\"\u001b[39m)\n",
      "File \u001b[1;32mc:\\Users\\apple\\anaconda3\\lib\\site-packages\\graphdatascience\\query_runner\\neo4j_query_runner.py:87\u001b[0m, in \u001b[0;36mNeo4jQueryRunner.__init__\u001b[1;34m(self, driver, config, database, auto_close, bookmarks, server_version)\u001b[0m\n\u001b[0;32m     85\u001b[0m \u001b[38;5;28mself\u001b[39m\u001b[38;5;241m.\u001b[39m_bookmarks \u001b[38;5;241m=\u001b[39m bookmarks\n\u001b[0;32m     86\u001b[0m \u001b[38;5;28mself\u001b[39m\u001b[38;5;241m.\u001b[39m_last_bookmarks: Optional[Any] \u001b[38;5;241m=\u001b[39m \u001b[38;5;28;01mNone\u001b[39;00m\n\u001b[1;32m---> 87\u001b[0m \u001b[38;5;28mself\u001b[39m\u001b[38;5;241m.\u001b[39m_server_version \u001b[38;5;241m=\u001b[39m server_version \u001b[38;5;28;01mif\u001b[39;00m server_version \u001b[38;5;28;01melse\u001b[39;00m \u001b[38;5;28;43mself\u001b[39;49m\u001b[38;5;241;43m.\u001b[39;49m\u001b[43mserver_version\u001b[49m\u001b[43m(\u001b[49m\u001b[43m)\u001b[49m\n",
      "File \u001b[1;32mc:\\Users\\apple\\anaconda3\\lib\\site-packages\\graphdatascience\\query_runner\\neo4j_query_runner.py:198\u001b[0m, in \u001b[0;36mNeo4jQueryRunner.server_version\u001b[1;34m(self)\u001b[0m\n\u001b[0;32m    194\u001b[0m     \u001b[38;5;28mself\u001b[39m\u001b[38;5;241m.\u001b[39m_driver\u001b[38;5;241m.\u001b[39mclose()\n\u001b[0;32m    195\u001b[0m     \u001b[38;5;66;03m# if isinstance(endpoint, str):\u001b[39;00m\n\u001b[0;32m    196\u001b[0m     \u001b[38;5;66;03m#    driver.close()\u001b[39;00m\n\u001b[1;32m--> 198\u001b[0m     \u001b[38;5;28;01mraise\u001b[39;00m GdsNotFound(\n\u001b[0;32m    199\u001b[0m         \u001b[38;5;124;03m\"\"\"The Graph Data Science library is not correctly installed on the Neo4j server.\u001b[39;00m\n\u001b[0;32m    200\u001b[0m \u001b[38;5;124;03m        Please refer to https://neo4j.com/docs/graph-data-science/current/installation/.\u001b[39;00m\n\u001b[0;32m    201\u001b[0m \u001b[38;5;124;03m        \"\"\"\u001b[39;00m\n\u001b[0;32m    202\u001b[0m     )\n\u001b[0;32m    204\u001b[0m \u001b[38;5;28;01mraise\u001b[39;00m UnableToConnectError(e)\n",
      "\u001b[1;31mGdsNotFound\u001b[0m: The Graph Data Science library is not correctly installed on the Neo4j server.\n                    Please refer to https://neo4j.com/docs/graph-data-science/current/installation/.\n                    "
     ]
    }
   ],
   "source": [
    "from neo4j import GraphDatabase\n",
    "\n",
    "with driver.session() as session:\n",
    "    result = session.run(query)\n",
    "    neo4j_data = [record.data() for record in result]\n",
    "\n",
    "def get_ingredient_ratios(tx):\n",
    "    query = \"\"\"\n",
    "    MATCH (p:ManufacturingProcess)-[r:USED_RATIO]->(i:Ingredient)\n",
    "    RETURN i.name, r.ratio\n",
    "    \"\"\"\n",
    "    result = tx.run(query)\n",
    "    return [(record[\"i.name\"], record[\"r.ratio\"]) for record in result]\n",
    "\n",
    "def cluster_products_by_ingredient_ratios(tx, min_ratio):\n",
    "    query = \"\"\"\n",
    "    MATCH (p:ManufacturingProcess)-[r:USED_RATIO]->(i:Ingredient)\n",
    "    WITH p, i.name as ingredient, r.ratio as ratio\n",
    "    ORDER BY ratio DESC\n",
    "    WITH collect({ingredient: ingredient, ratio: ratio}) as ingredient_ratios, p\n",
    "    WITH [x in ingredient_ratios WHERE x.ratio >= $min_ratio] as common_ingredients, collect(p) as products\n",
    "    RETURN common_ingredients, products\n",
    "    \"\"\"\n",
    "    result = tx.run(query, min_ratio=min_ratio)\n",
    "    return [(record[\"common_ingredients\"], record[\"products\"]) for record in result]\n",
    "\n",
    "with driver.session() as session:\n",
    "    print(\"Ingredient ratios:\")\n",
    "    for name, ratio in session.read_transaction(get_ingredient_ratios):\n",
    "        print(f\"{name}: {ratio}\")\n",
    "\n",
    "    print(\"\\nProduct clusters by high ingredient ratios (min ratio = 0.3):\")\n",
    "    for ingredients, products in session.read_transaction(cluster_products_by_ingredient_ratios, 0.3):\n",
    "        print(f\"Common high-ratio ingredients: {[i['ingredient'] for i in ingredients]}\")\n",
    "        for product in products:\n",
    "            print(f\"  - {product['description']}\")\n",
    "        print()\n",
    "\n",
    "driver.close()"
   ]
  },
  {
   "cell_type": "code",
   "execution_count": null,
   "metadata": {},
   "outputs": [],
   "source": [
    "from neo4j import GraphDatabase\n",
    "\n",
    "\n",
    "def calculate_research_ratios(tx):\n",
    "    query = \"\"\"\n",
    "    MATCH (p:Product)-[:HAS_RECIPE]->()-[:USES_INGREDIENT]->()-[r:HAS_RESEARCH]->(res:IngredientResearch)\n",
    "    WITH res, count(distinct p) as product_count, count(r) as total_count\n",
    "    RETURN res.name AS research, toFloat(product_count) / toFloat(total_count) AS ratio\n",
    "    ORDER BY ratio DESC\n",
    "    \"\"\"\n",
    "    result = tx.run(query)\n",
    "    return [(record[\"research\"], record[\"ratio\"]) for record in result]\n",
    "\n",
    "def group_researches_by_frequency(tx):\n",
    "    query = \"\"\"\n",
    "    MATCH (p:Product)-[:HAS_RECIPE]->()-[:USES_INGREDIENT]->()-[r:HAS_RESEARCH]->(res:IngredientResearch)\n",
    "    WITH res, count(distinct p) as product_count, count(r) as total_count, toFloat(product_count) / toFloat(total_count) AS ratio\n",
    "    RETURN\n",
    "      CASE\n",
    "        WHEN ratio > 0.8 THEN 'High Frequency'\n",
    "        WHEN ratio > 0.5 THEN 'Medium Frequency'\n",
    "        ELSE 'Low Frequency'\n",
    "      END AS frequency_group,\n",
    "      collect(res.name) AS researches,\n",
    "      collect(ratio) AS ratios\n",
    "    \"\"\"\n",
    "    result = tx.run(query)\n",
    "    return [(record[\"frequency_group\"], record[\"researches\"], record[\"ratios\"]) for record in result]\n",
    "\n",
    "with driver.session() as session:\n",
    "    print(\"IngredientResearch ratios:\")\n",
    "    for research, ratio in session.read_transaction(calculate_research_ratios):\n",
    "        print(f\"{research}: {ratio}\")\n",
    "\n",
    "    print(\"\\nIngredientResearch groups by frequency:\")\n",
    "    for group, researches, ratios in session.read_transaction(group_researches_by_frequency):\n",
    "        print(f\"{group}:\")\n",
    "        for research, ratio in zip(researches, ratios):\n",
    "            print(f\"  {research}: {ratio}\")\n",
    "\n",
    "driver.close()"
   ]
  },
  {
   "cell_type": "code",
   "execution_count": null,
   "metadata": {},
   "outputs": [],
   "source": [
    "query = \"\"\"\n",
    "\n",
    "MATCH (p:Product)-[:HAS_RECIPE]->(r:Recipe)-[:USES_INGREDIENT]->(i:Ingredient)-[:HAS_RESEARCH]->(res:IngredientResearch)\n",
    "WITH res, COUNT(DISTINCT p) AS productCount\n",
    "\n",
    "MATCH (allProducts:Product)\n",
    "WITH res, productCount, COUNT(allProducts) AS totalProductCount\n",
    "RETURN res.ingredient_name AS IngredientResearch, toFloat(productCount) / toFloat(totalProductCount) AS FrequencyRatio\n",
    "\n",
    "ORDER BY FrequencyRatio DESC\n",
    "\n",
    "#All details the ratio more than 0.1\n",
    "\n",
    "MATCH (p:Product)-[:HAS_RECIPE]->(r:Recipe)-[:USES_INGREDIENT]->(i:Ingredient)-[:HAS_RESEARCH]->(res:IngredientResearch)\n",
    "WITH res, COUNT(DISTINCT p) AS productCount\n",
    "RETURN res.ingredient_name AS IngredientResearch, productCount\n",
    "\n",
    "ORDER BY productCount DESC\n",
    "\n",
    "\n",
    "\n",
    "MATCH (p:Product)-[:HAS_RECIPE]->(r:Recipe)-[:USES_INGREDIENT]->(i:Ingredient)-[:HAS_RESEARCH]->(res:IngredientResearch)\n",
    "WITH res, COUNT(DISTINCT p) AS productCount, COUNT(DISTINCT i) AS ingredientCount\n",
    "\n",
    "MATCH (allProducts:Product)\n",
    "WITH res, productCount, ingredientCount, COUNT(allProducts) AS totalProductCount\n",
    "WITH res, productCount, ingredientCount, totalProductCount, toFloat(productCount) / toFloat(totalProductCount) AS frequencyRatio, 0.1 AS threshold\n",
    "\n",
    "\n",
    "WHERE frequencyRatio > threshold\n",
    "RETURN res.ingredient_name AS HighFrequencyIngredientResearch, productCount, ingredientCount, frequencyRatio\n",
    "\n",
    "ORDER BY frequencyRatio DESC\n",
    "\n",
    "\n",
    "#All ratios not only more than 0.1\n",
    "\n",
    "MATCH (p:Product)-[:HAS_RECIPE]->(r:Recipe)-[:USES_INGREDIENT]->(i:Ingredient)-[:HAS_RESEARCH]->(res:IngredientResearch)\n",
    "WITH res, COUNT(DISTINCT p) AS productCount, COLLECT(DISTINCT p.name) AS products, COUNT(DISTINCT i) AS ingredientCount\n",
    "\n",
    "MATCH (p:Product)-[:HAS_RECIPE]->(r:Recipe)-[:USES_INGREDIENT]->(i:Ingredient)-[:HAS_RESEARCH]->(res:IngredientResearch)\n",
    "WITH res, COUNT(DISTINCT p) AS productCount, COLLECT(DISTINCT p.name) AS products, COUNT(DISTINCT i) AS ingredientCount\n",
    "\n",
    "MATCH (allProducts:Product)\n",
    "WITH res, productCount, products, ingredientCount, COUNT(allProducts) AS totalProductCount\n",
    "WITH res, productCount, products, ingredientCount, totalProductCount, toFloat(productCount) / toFloat(totalProductCount) AS frequencyRatio\n",
    "RETURN res.ingredient_name AS HighFrequencyIngredientResearch, productCount, products, frequencyRatio\n",
    "ORDER BY frequencyRatio DESC\n",
    "\n",
    "\n",
    "\"\"\""
   ]
  },
  {
   "cell_type": "code",
   "execution_count": 2,
   "metadata": {},
   "outputs": [
    {
     "name": "stderr",
     "output_type": "stream",
     "text": [
      "Failed to write data to connection ResolvedIPv4Address(('34.126.171.25', 7687)) (ResolvedIPv4Address(('34.126.171.25', 7687)))\n",
      "Failed to write data to connection IPv4Address(('9d1381c2.databases.neo4j.io', 7687)) (ResolvedIPv4Address(('34.126.171.25', 7687)))\n"
     ]
    },
    {
     "data": {
      "application/vnd.plotly.v1+json": {
       "config": {
        "plotlyServerURL": "https://plot.ly"
       },
       "data": [
        {
         "type": "bar",
         "x": [
          "Sugar",
          "Flavour",
          "Wheat Flour",
          "Salt",
          "Vegetable Oil",
          "Emulsifier Soy Lecithin"
         ],
         "y": [
          0.3188405797101449,
          0.12077294685990338,
          0.13043478260869565,
          0.24154589371980675,
          0.14009661835748793,
          0.10628019323671498
         ]
        }
       ],
       "layout": {
        "template": {
         "data": {
          "bar": [
           {
            "error_x": {
             "color": "#2a3f5f"
            },
            "error_y": {
             "color": "#2a3f5f"
            },
            "marker": {
             "line": {
              "color": "#E5ECF6",
              "width": 0.5
             },
             "pattern": {
              "fillmode": "overlay",
              "size": 10,
              "solidity": 0.2
             }
            },
            "type": "bar"
           }
          ],
          "barpolar": [
           {
            "marker": {
             "line": {
              "color": "#E5ECF6",
              "width": 0.5
             },
             "pattern": {
              "fillmode": "overlay",
              "size": 10,
              "solidity": 0.2
             }
            },
            "type": "barpolar"
           }
          ],
          "carpet": [
           {
            "aaxis": {
             "endlinecolor": "#2a3f5f",
             "gridcolor": "white",
             "linecolor": "white",
             "minorgridcolor": "white",
             "startlinecolor": "#2a3f5f"
            },
            "baxis": {
             "endlinecolor": "#2a3f5f",
             "gridcolor": "white",
             "linecolor": "white",
             "minorgridcolor": "white",
             "startlinecolor": "#2a3f5f"
            },
            "type": "carpet"
           }
          ],
          "choropleth": [
           {
            "colorbar": {
             "outlinewidth": 0,
             "ticks": ""
            },
            "type": "choropleth"
           }
          ],
          "contour": [
           {
            "colorbar": {
             "outlinewidth": 0,
             "ticks": ""
            },
            "colorscale": [
             [
              0,
              "#0d0887"
             ],
             [
              0.1111111111111111,
              "#46039f"
             ],
             [
              0.2222222222222222,
              "#7201a8"
             ],
             [
              0.3333333333333333,
              "#9c179e"
             ],
             [
              0.4444444444444444,
              "#bd3786"
             ],
             [
              0.5555555555555556,
              "#d8576b"
             ],
             [
              0.6666666666666666,
              "#ed7953"
             ],
             [
              0.7777777777777778,
              "#fb9f3a"
             ],
             [
              0.8888888888888888,
              "#fdca26"
             ],
             [
              1,
              "#f0f921"
             ]
            ],
            "type": "contour"
           }
          ],
          "contourcarpet": [
           {
            "colorbar": {
             "outlinewidth": 0,
             "ticks": ""
            },
            "type": "contourcarpet"
           }
          ],
          "heatmap": [
           {
            "colorbar": {
             "outlinewidth": 0,
             "ticks": ""
            },
            "colorscale": [
             [
              0,
              "#0d0887"
             ],
             [
              0.1111111111111111,
              "#46039f"
             ],
             [
              0.2222222222222222,
              "#7201a8"
             ],
             [
              0.3333333333333333,
              "#9c179e"
             ],
             [
              0.4444444444444444,
              "#bd3786"
             ],
             [
              0.5555555555555556,
              "#d8576b"
             ],
             [
              0.6666666666666666,
              "#ed7953"
             ],
             [
              0.7777777777777778,
              "#fb9f3a"
             ],
             [
              0.8888888888888888,
              "#fdca26"
             ],
             [
              1,
              "#f0f921"
             ]
            ],
            "type": "heatmap"
           }
          ],
          "heatmapgl": [
           {
            "colorbar": {
             "outlinewidth": 0,
             "ticks": ""
            },
            "colorscale": [
             [
              0,
              "#0d0887"
             ],
             [
              0.1111111111111111,
              "#46039f"
             ],
             [
              0.2222222222222222,
              "#7201a8"
             ],
             [
              0.3333333333333333,
              "#9c179e"
             ],
             [
              0.4444444444444444,
              "#bd3786"
             ],
             [
              0.5555555555555556,
              "#d8576b"
             ],
             [
              0.6666666666666666,
              "#ed7953"
             ],
             [
              0.7777777777777778,
              "#fb9f3a"
             ],
             [
              0.8888888888888888,
              "#fdca26"
             ],
             [
              1,
              "#f0f921"
             ]
            ],
            "type": "heatmapgl"
           }
          ],
          "histogram": [
           {
            "marker": {
             "pattern": {
              "fillmode": "overlay",
              "size": 10,
              "solidity": 0.2
             }
            },
            "type": "histogram"
           }
          ],
          "histogram2d": [
           {
            "colorbar": {
             "outlinewidth": 0,
             "ticks": ""
            },
            "colorscale": [
             [
              0,
              "#0d0887"
             ],
             [
              0.1111111111111111,
              "#46039f"
             ],
             [
              0.2222222222222222,
              "#7201a8"
             ],
             [
              0.3333333333333333,
              "#9c179e"
             ],
             [
              0.4444444444444444,
              "#bd3786"
             ],
             [
              0.5555555555555556,
              "#d8576b"
             ],
             [
              0.6666666666666666,
              "#ed7953"
             ],
             [
              0.7777777777777778,
              "#fb9f3a"
             ],
             [
              0.8888888888888888,
              "#fdca26"
             ],
             [
              1,
              "#f0f921"
             ]
            ],
            "type": "histogram2d"
           }
          ],
          "histogram2dcontour": [
           {
            "colorbar": {
             "outlinewidth": 0,
             "ticks": ""
            },
            "colorscale": [
             [
              0,
              "#0d0887"
             ],
             [
              0.1111111111111111,
              "#46039f"
             ],
             [
              0.2222222222222222,
              "#7201a8"
             ],
             [
              0.3333333333333333,
              "#9c179e"
             ],
             [
              0.4444444444444444,
              "#bd3786"
             ],
             [
              0.5555555555555556,
              "#d8576b"
             ],
             [
              0.6666666666666666,
              "#ed7953"
             ],
             [
              0.7777777777777778,
              "#fb9f3a"
             ],
             [
              0.8888888888888888,
              "#fdca26"
             ],
             [
              1,
              "#f0f921"
             ]
            ],
            "type": "histogram2dcontour"
           }
          ],
          "mesh3d": [
           {
            "colorbar": {
             "outlinewidth": 0,
             "ticks": ""
            },
            "type": "mesh3d"
           }
          ],
          "parcoords": [
           {
            "line": {
             "colorbar": {
              "outlinewidth": 0,
              "ticks": ""
             }
            },
            "type": "parcoords"
           }
          ],
          "pie": [
           {
            "automargin": true,
            "type": "pie"
           }
          ],
          "scatter": [
           {
            "fillpattern": {
             "fillmode": "overlay",
             "size": 10,
             "solidity": 0.2
            },
            "type": "scatter"
           }
          ],
          "scatter3d": [
           {
            "line": {
             "colorbar": {
              "outlinewidth": 0,
              "ticks": ""
             }
            },
            "marker": {
             "colorbar": {
              "outlinewidth": 0,
              "ticks": ""
             }
            },
            "type": "scatter3d"
           }
          ],
          "scattercarpet": [
           {
            "marker": {
             "colorbar": {
              "outlinewidth": 0,
              "ticks": ""
             }
            },
            "type": "scattercarpet"
           }
          ],
          "scattergeo": [
           {
            "marker": {
             "colorbar": {
              "outlinewidth": 0,
              "ticks": ""
             }
            },
            "type": "scattergeo"
           }
          ],
          "scattergl": [
           {
            "marker": {
             "colorbar": {
              "outlinewidth": 0,
              "ticks": ""
             }
            },
            "type": "scattergl"
           }
          ],
          "scattermapbox": [
           {
            "marker": {
             "colorbar": {
              "outlinewidth": 0,
              "ticks": ""
             }
            },
            "type": "scattermapbox"
           }
          ],
          "scatterpolar": [
           {
            "marker": {
             "colorbar": {
              "outlinewidth": 0,
              "ticks": ""
             }
            },
            "type": "scatterpolar"
           }
          ],
          "scatterpolargl": [
           {
            "marker": {
             "colorbar": {
              "outlinewidth": 0,
              "ticks": ""
             }
            },
            "type": "scatterpolargl"
           }
          ],
          "scatterternary": [
           {
            "marker": {
             "colorbar": {
              "outlinewidth": 0,
              "ticks": ""
             }
            },
            "type": "scatterternary"
           }
          ],
          "surface": [
           {
            "colorbar": {
             "outlinewidth": 0,
             "ticks": ""
            },
            "colorscale": [
             [
              0,
              "#0d0887"
             ],
             [
              0.1111111111111111,
              "#46039f"
             ],
             [
              0.2222222222222222,
              "#7201a8"
             ],
             [
              0.3333333333333333,
              "#9c179e"
             ],
             [
              0.4444444444444444,
              "#bd3786"
             ],
             [
              0.5555555555555556,
              "#d8576b"
             ],
             [
              0.6666666666666666,
              "#ed7953"
             ],
             [
              0.7777777777777778,
              "#fb9f3a"
             ],
             [
              0.8888888888888888,
              "#fdca26"
             ],
             [
              1,
              "#f0f921"
             ]
            ],
            "type": "surface"
           }
          ],
          "table": [
           {
            "cells": {
             "fill": {
              "color": "#EBF0F8"
             },
             "line": {
              "color": "white"
             }
            },
            "header": {
             "fill": {
              "color": "#C8D4E3"
             },
             "line": {
              "color": "white"
             }
            },
            "type": "table"
           }
          ]
         },
         "layout": {
          "annotationdefaults": {
           "arrowcolor": "#2a3f5f",
           "arrowhead": 0,
           "arrowwidth": 1
          },
          "autotypenumbers": "strict",
          "coloraxis": {
           "colorbar": {
            "outlinewidth": 0,
            "ticks": ""
           }
          },
          "colorscale": {
           "diverging": [
            [
             0,
             "#8e0152"
            ],
            [
             0.1,
             "#c51b7d"
            ],
            [
             0.2,
             "#de77ae"
            ],
            [
             0.3,
             "#f1b6da"
            ],
            [
             0.4,
             "#fde0ef"
            ],
            [
             0.5,
             "#f7f7f7"
            ],
            [
             0.6,
             "#e6f5d0"
            ],
            [
             0.7,
             "#b8e186"
            ],
            [
             0.8,
             "#7fbc41"
            ],
            [
             0.9,
             "#4d9221"
            ],
            [
             1,
             "#276419"
            ]
           ],
           "sequential": [
            [
             0,
             "#0d0887"
            ],
            [
             0.1111111111111111,
             "#46039f"
            ],
            [
             0.2222222222222222,
             "#7201a8"
            ],
            [
             0.3333333333333333,
             "#9c179e"
            ],
            [
             0.4444444444444444,
             "#bd3786"
            ],
            [
             0.5555555555555556,
             "#d8576b"
            ],
            [
             0.6666666666666666,
             "#ed7953"
            ],
            [
             0.7777777777777778,
             "#fb9f3a"
            ],
            [
             0.8888888888888888,
             "#fdca26"
            ],
            [
             1,
             "#f0f921"
            ]
           ],
           "sequentialminus": [
            [
             0,
             "#0d0887"
            ],
            [
             0.1111111111111111,
             "#46039f"
            ],
            [
             0.2222222222222222,
             "#7201a8"
            ],
            [
             0.3333333333333333,
             "#9c179e"
            ],
            [
             0.4444444444444444,
             "#bd3786"
            ],
            [
             0.5555555555555556,
             "#d8576b"
            ],
            [
             0.6666666666666666,
             "#ed7953"
            ],
            [
             0.7777777777777778,
             "#fb9f3a"
            ],
            [
             0.8888888888888888,
             "#fdca26"
            ],
            [
             1,
             "#f0f921"
            ]
           ]
          },
          "colorway": [
           "#636efa",
           "#EF553B",
           "#00cc96",
           "#ab63fa",
           "#FFA15A",
           "#19d3f3",
           "#FF6692",
           "#B6E880",
           "#FF97FF",
           "#FECB52"
          ],
          "font": {
           "color": "#2a3f5f"
          },
          "geo": {
           "bgcolor": "white",
           "lakecolor": "white",
           "landcolor": "#E5ECF6",
           "showlakes": true,
           "showland": true,
           "subunitcolor": "white"
          },
          "hoverlabel": {
           "align": "left"
          },
          "hovermode": "closest",
          "mapbox": {
           "style": "light"
          },
          "paper_bgcolor": "white",
          "plot_bgcolor": "#E5ECF6",
          "polar": {
           "angularaxis": {
            "gridcolor": "white",
            "linecolor": "white",
            "ticks": ""
           },
           "bgcolor": "#E5ECF6",
           "radialaxis": {
            "gridcolor": "white",
            "linecolor": "white",
            "ticks": ""
           }
          },
          "scene": {
           "xaxis": {
            "backgroundcolor": "#E5ECF6",
            "gridcolor": "white",
            "gridwidth": 2,
            "linecolor": "white",
            "showbackground": true,
            "ticks": "",
            "zerolinecolor": "white"
           },
           "yaxis": {
            "backgroundcolor": "#E5ECF6",
            "gridcolor": "white",
            "gridwidth": 2,
            "linecolor": "white",
            "showbackground": true,
            "ticks": "",
            "zerolinecolor": "white"
           },
           "zaxis": {
            "backgroundcolor": "#E5ECF6",
            "gridcolor": "white",
            "gridwidth": 2,
            "linecolor": "white",
            "showbackground": true,
            "ticks": "",
            "zerolinecolor": "white"
           }
          },
          "shapedefaults": {
           "line": {
            "color": "#2a3f5f"
           }
          },
          "ternary": {
           "aaxis": {
            "gridcolor": "white",
            "linecolor": "white",
            "ticks": ""
           },
           "baxis": {
            "gridcolor": "white",
            "linecolor": "white",
            "ticks": ""
           },
           "bgcolor": "#E5ECF6",
           "caxis": {
            "gridcolor": "white",
            "linecolor": "white",
            "ticks": ""
           }
          },
          "title": {
           "x": 0.05
          },
          "xaxis": {
           "automargin": true,
           "gridcolor": "white",
           "linecolor": "white",
           "ticks": "",
           "title": {
            "standoff": 15
           },
           "zerolinecolor": "white",
           "zerolinewidth": 2
          },
          "yaxis": {
           "automargin": true,
           "gridcolor": "white",
           "linecolor": "white",
           "ticks": "",
           "title": {
            "standoff": 15
           },
           "zerolinecolor": "white",
           "zerolinewidth": 2
          }
         }
        },
        "title": {
         "text": "High Frequency Ingredient Research"
        },
        "xaxis": {
         "title": {
          "text": "Ingredient Research"
         }
        },
        "yaxis": {
         "title": {
          "text": "Frequency Ratio"
         }
        }
       }
      }
     },
     "metadata": {},
     "output_type": "display_data"
    }
   ],
   "source": [
    "from neo4j import GraphDatabase\n",
    "import plotly.graph_objects as go\n",
    "\n",
    "with driver.session() as session:\n",
    "    result = session.run(query)\n",
    "    neo4j_data = [record.data() for record in result]\n",
    "\n",
    "\n",
    "df = pd.DataFrame(neo4j_data)\n",
    "\n",
    "# Define your Cypher query\n",
    "query = \"\"\"\n",
    "MATCH (p:Product)-[:HAS_RECIPE]->(r:Recipe)-[:USES_INGREDIENT]->(i:Ingredient)-[:HAS_RESEARCH]->(res:IngredientResearch)\n",
    "WITH res, COUNT(DISTINCT p) AS productCount, COUNT(DISTINCT i) AS ingredientCount\n",
    "\n",
    "MATCH (allProducts:Product)\n",
    "WITH res, productCount, ingredientCount, COUNT(allProducts) AS totalProductCount\n",
    "WITH res, productCount, ingredientCount, totalProductCount, toFloat(productCount) / toFloat(totalProductCount) AS frequencyRatio, 0.1 AS threshold\n",
    "\n",
    "\n",
    "WHERE frequencyRatio > threshold\n",
    "RETURN res.ingredient_name AS HighFrequencyIngredientResearch, productCount, ingredientCount, frequencyRatio\n",
    "\"\"\"\n",
    "\n",
    "# Execute the query\n",
    "with driver.session() as session:\n",
    "    result = session.run(query)\n",
    "    data = result.data()\n",
    "\n",
    "# Process the results for visualization\n",
    "ingredient_names = [row['HighFrequencyIngredientResearch'] for row in data]\n",
    "product_counts = [row['productCount'] for row in data]\n",
    "ingredient_counts = [row['ingredientCount'] for row in data]\n",
    "frequency_ratios = [row['frequencyRatio'] for row in data]\n",
    "\n",
    "# Create a Plotly bar plot\n",
    "fig = go.Figure(data=[go.Bar(x=ingredient_names, y=frequency_ratios)])\n",
    "fig.update_layout(title='High Frequency Ingredient Research', xaxis_title='Ingredient Research', yaxis_title='Frequency Ratio')\n",
    "\n",
    "# Show the plot\n",
    "fig.show()\n"
   ]
  },
  {
   "cell_type": "code",
   "execution_count": 3,
   "metadata": {},
   "outputs": [
    {
     "name": "stdout",
     "output_type": "stream",
     "text": [
      "    HighFrequencyIngredientResearch  \\\n",
      "0                                     \n",
      "1              Acesulfame Potassium   \n",
      "2                       Acetic Acid   \n",
      "3             Acidity Regulator 331   \n",
      "4             Acidity Regulator 339   \n",
      "..                              ...   \n",
      "303                Whole Egg Powder   \n",
      "304                     Xanthan Gum   \n",
      "305                           Yeast   \n",
      "306                   Yeast Extract   \n",
      "307                            Zinc   \n",
      "\n",
      "                                              Products  \n",
      "0    [[Rimmel Scandaleyes Eye Definer Brown, Rimmel...  \n",
      "1    [[Coca - Cola Caffeine Free Zero Sugar Soft Dr...  \n",
      "2    [[Fountain Barbecue Bbq Sauce Squeeze, Fountai...  \n",
      "3     [[Cadbury Dairy Milk Caramello Koala Chocolate]]  \n",
      "4                          [[Woolworths Creamed Rice]]  \n",
      "..                                                 ...  \n",
      "303              [[Woolworths Chocolate Chip Cookies]]  \n",
      "304  [[Fountain Barbecue Bbq Sauce Squeeze, Woolwor...  \n",
      "305  [[Kitkat 4 Finger Milk Chocolate Bar, Kitkat C...  \n",
      "306  [[Fantastic Chicken Noodle Bowl, Fantastic Chi...  \n",
      "307  [[Oreo Chocolate Cookies, Oreo Double Stuff Co...  \n",
      "\n",
      "[308 rows x 2 columns]\n"
     ]
    }
   ],
   "source": [
    "from neo4j import GraphDatabase\n",
    "import pandas as pd\n",
    "\n",
    "\n",
    "\n",
    "# Define your Cypher query\n",
    "query = \"\"\"\n",
    "MATCH (p:Product)-[:HAS_RECIPE]->(:Recipe)-[:USES_INGREDIENT]->(:Ingredient)-[:HAS_RESEARCH]->(res:IngredientResearch)\n",
    "WITH res, p\n",
    "ORDER BY p.name, res.ingredient_name\n",
    "\n",
    "RETURN res.ingredient_name AS HighFrequencyIngredientResearch, COLLECT(p.name) AS Products\n",
    "\"\"\"\n",
    "\n",
    "# Execute the query\n",
    "with driver.session() as session:\n",
    "    result = session.run(query)\n",
    "    data = result.data()\n",
    "\n",
    "# Create a DataFrame from the results\n",
    "df = pd.DataFrame(data)\n",
    "\n",
    "# Group products by HighFrequencyIngredientResearch\n",
    "grouped_products = df.groupby('HighFrequencyIngredientResearch')['Products'].apply(list).reset_index()\n",
    "\n",
    "# Print the grouped products\n",
    "print(grouped_products)\n"
   ]
  },
  {
   "cell_type": "code",
   "execution_count": 16,
   "metadata": {},
   "outputs": [
    {
     "data": {
      "application/vnd.plotly.v1+json": {
       "config": {
        "plotlyServerURL": "https://plot.ly"
       },
       "data": [
        {
         "mode": "markers",
         "name": "Emulsifier Soy Lecithin",
         "type": "scatter",
         "x": [
          22
         ],
         "y": [
          "Emulsifier Soy Lecithin"
         ]
        },
        {
         "mode": "markers",
         "name": "Flavour",
         "type": "scatter",
         "x": [
          25
         ],
         "y": [
          "Flavour"
         ]
        },
        {
         "mode": "markers",
         "name": "Salt",
         "type": "scatter",
         "x": [
          50
         ],
         "y": [
          "Salt"
         ]
        },
        {
         "mode": "markers",
         "name": "Sugar",
         "type": "scatter",
         "x": [
          66
         ],
         "y": [
          "Sugar"
         ]
        },
        {
         "mode": "markers",
         "name": "Vegetable Oil",
         "type": "scatter",
         "x": [
          29
         ],
         "y": [
          "Vegetable Oil"
         ]
        },
        {
         "mode": "markers",
         "name": "Wheat Flour",
         "type": "scatter",
         "x": [
          27
         ],
         "y": [
          "Wheat Flour"
         ]
        }
       ],
       "layout": {
        "template": {
         "data": {
          "bar": [
           {
            "error_x": {
             "color": "#2a3f5f"
            },
            "error_y": {
             "color": "#2a3f5f"
            },
            "marker": {
             "line": {
              "color": "#E5ECF6",
              "width": 0.5
             },
             "pattern": {
              "fillmode": "overlay",
              "size": 10,
              "solidity": 0.2
             }
            },
            "type": "bar"
           }
          ],
          "barpolar": [
           {
            "marker": {
             "line": {
              "color": "#E5ECF6",
              "width": 0.5
             },
             "pattern": {
              "fillmode": "overlay",
              "size": 10,
              "solidity": 0.2
             }
            },
            "type": "barpolar"
           }
          ],
          "carpet": [
           {
            "aaxis": {
             "endlinecolor": "#2a3f5f",
             "gridcolor": "white",
             "linecolor": "white",
             "minorgridcolor": "white",
             "startlinecolor": "#2a3f5f"
            },
            "baxis": {
             "endlinecolor": "#2a3f5f",
             "gridcolor": "white",
             "linecolor": "white",
             "minorgridcolor": "white",
             "startlinecolor": "#2a3f5f"
            },
            "type": "carpet"
           }
          ],
          "choropleth": [
           {
            "colorbar": {
             "outlinewidth": 0,
             "ticks": ""
            },
            "type": "choropleth"
           }
          ],
          "contour": [
           {
            "colorbar": {
             "outlinewidth": 0,
             "ticks": ""
            },
            "colorscale": [
             [
              0,
              "#0d0887"
             ],
             [
              0.1111111111111111,
              "#46039f"
             ],
             [
              0.2222222222222222,
              "#7201a8"
             ],
             [
              0.3333333333333333,
              "#9c179e"
             ],
             [
              0.4444444444444444,
              "#bd3786"
             ],
             [
              0.5555555555555556,
              "#d8576b"
             ],
             [
              0.6666666666666666,
              "#ed7953"
             ],
             [
              0.7777777777777778,
              "#fb9f3a"
             ],
             [
              0.8888888888888888,
              "#fdca26"
             ],
             [
              1,
              "#f0f921"
             ]
            ],
            "type": "contour"
           }
          ],
          "contourcarpet": [
           {
            "colorbar": {
             "outlinewidth": 0,
             "ticks": ""
            },
            "type": "contourcarpet"
           }
          ],
          "heatmap": [
           {
            "colorbar": {
             "outlinewidth": 0,
             "ticks": ""
            },
            "colorscale": [
             [
              0,
              "#0d0887"
             ],
             [
              0.1111111111111111,
              "#46039f"
             ],
             [
              0.2222222222222222,
              "#7201a8"
             ],
             [
              0.3333333333333333,
              "#9c179e"
             ],
             [
              0.4444444444444444,
              "#bd3786"
             ],
             [
              0.5555555555555556,
              "#d8576b"
             ],
             [
              0.6666666666666666,
              "#ed7953"
             ],
             [
              0.7777777777777778,
              "#fb9f3a"
             ],
             [
              0.8888888888888888,
              "#fdca26"
             ],
             [
              1,
              "#f0f921"
             ]
            ],
            "type": "heatmap"
           }
          ],
          "heatmapgl": [
           {
            "colorbar": {
             "outlinewidth": 0,
             "ticks": ""
            },
            "colorscale": [
             [
              0,
              "#0d0887"
             ],
             [
              0.1111111111111111,
              "#46039f"
             ],
             [
              0.2222222222222222,
              "#7201a8"
             ],
             [
              0.3333333333333333,
              "#9c179e"
             ],
             [
              0.4444444444444444,
              "#bd3786"
             ],
             [
              0.5555555555555556,
              "#d8576b"
             ],
             [
              0.6666666666666666,
              "#ed7953"
             ],
             [
              0.7777777777777778,
              "#fb9f3a"
             ],
             [
              0.8888888888888888,
              "#fdca26"
             ],
             [
              1,
              "#f0f921"
             ]
            ],
            "type": "heatmapgl"
           }
          ],
          "histogram": [
           {
            "marker": {
             "pattern": {
              "fillmode": "overlay",
              "size": 10,
              "solidity": 0.2
             }
            },
            "type": "histogram"
           }
          ],
          "histogram2d": [
           {
            "colorbar": {
             "outlinewidth": 0,
             "ticks": ""
            },
            "colorscale": [
             [
              0,
              "#0d0887"
             ],
             [
              0.1111111111111111,
              "#46039f"
             ],
             [
              0.2222222222222222,
              "#7201a8"
             ],
             [
              0.3333333333333333,
              "#9c179e"
             ],
             [
              0.4444444444444444,
              "#bd3786"
             ],
             [
              0.5555555555555556,
              "#d8576b"
             ],
             [
              0.6666666666666666,
              "#ed7953"
             ],
             [
              0.7777777777777778,
              "#fb9f3a"
             ],
             [
              0.8888888888888888,
              "#fdca26"
             ],
             [
              1,
              "#f0f921"
             ]
            ],
            "type": "histogram2d"
           }
          ],
          "histogram2dcontour": [
           {
            "colorbar": {
             "outlinewidth": 0,
             "ticks": ""
            },
            "colorscale": [
             [
              0,
              "#0d0887"
             ],
             [
              0.1111111111111111,
              "#46039f"
             ],
             [
              0.2222222222222222,
              "#7201a8"
             ],
             [
              0.3333333333333333,
              "#9c179e"
             ],
             [
              0.4444444444444444,
              "#bd3786"
             ],
             [
              0.5555555555555556,
              "#d8576b"
             ],
             [
              0.6666666666666666,
              "#ed7953"
             ],
             [
              0.7777777777777778,
              "#fb9f3a"
             ],
             [
              0.8888888888888888,
              "#fdca26"
             ],
             [
              1,
              "#f0f921"
             ]
            ],
            "type": "histogram2dcontour"
           }
          ],
          "mesh3d": [
           {
            "colorbar": {
             "outlinewidth": 0,
             "ticks": ""
            },
            "type": "mesh3d"
           }
          ],
          "parcoords": [
           {
            "line": {
             "colorbar": {
              "outlinewidth": 0,
              "ticks": ""
             }
            },
            "type": "parcoords"
           }
          ],
          "pie": [
           {
            "automargin": true,
            "type": "pie"
           }
          ],
          "scatter": [
           {
            "fillpattern": {
             "fillmode": "overlay",
             "size": 10,
             "solidity": 0.2
            },
            "type": "scatter"
           }
          ],
          "scatter3d": [
           {
            "line": {
             "colorbar": {
              "outlinewidth": 0,
              "ticks": ""
             }
            },
            "marker": {
             "colorbar": {
              "outlinewidth": 0,
              "ticks": ""
             }
            },
            "type": "scatter3d"
           }
          ],
          "scattercarpet": [
           {
            "marker": {
             "colorbar": {
              "outlinewidth": 0,
              "ticks": ""
             }
            },
            "type": "scattercarpet"
           }
          ],
          "scattergeo": [
           {
            "marker": {
             "colorbar": {
              "outlinewidth": 0,
              "ticks": ""
             }
            },
            "type": "scattergeo"
           }
          ],
          "scattergl": [
           {
            "marker": {
             "colorbar": {
              "outlinewidth": 0,
              "ticks": ""
             }
            },
            "type": "scattergl"
           }
          ],
          "scattermapbox": [
           {
            "marker": {
             "colorbar": {
              "outlinewidth": 0,
              "ticks": ""
             }
            },
            "type": "scattermapbox"
           }
          ],
          "scatterpolar": [
           {
            "marker": {
             "colorbar": {
              "outlinewidth": 0,
              "ticks": ""
             }
            },
            "type": "scatterpolar"
           }
          ],
          "scatterpolargl": [
           {
            "marker": {
             "colorbar": {
              "outlinewidth": 0,
              "ticks": ""
             }
            },
            "type": "scatterpolargl"
           }
          ],
          "scatterternary": [
           {
            "marker": {
             "colorbar": {
              "outlinewidth": 0,
              "ticks": ""
             }
            },
            "type": "scatterternary"
           }
          ],
          "surface": [
           {
            "colorbar": {
             "outlinewidth": 0,
             "ticks": ""
            },
            "colorscale": [
             [
              0,
              "#0d0887"
             ],
             [
              0.1111111111111111,
              "#46039f"
             ],
             [
              0.2222222222222222,
              "#7201a8"
             ],
             [
              0.3333333333333333,
              "#9c179e"
             ],
             [
              0.4444444444444444,
              "#bd3786"
             ],
             [
              0.5555555555555556,
              "#d8576b"
             ],
             [
              0.6666666666666666,
              "#ed7953"
             ],
             [
              0.7777777777777778,
              "#fb9f3a"
             ],
             [
              0.8888888888888888,
              "#fdca26"
             ],
             [
              1,
              "#f0f921"
             ]
            ],
            "type": "surface"
           }
          ],
          "table": [
           {
            "cells": {
             "fill": {
              "color": "#EBF0F8"
             },
             "line": {
              "color": "white"
             }
            },
            "header": {
             "fill": {
              "color": "#C8D4E3"
             },
             "line": {
              "color": "white"
             }
            },
            "type": "table"
           }
          ]
         },
         "layout": {
          "annotationdefaults": {
           "arrowcolor": "#2a3f5f",
           "arrowhead": 0,
           "arrowwidth": 1
          },
          "autotypenumbers": "strict",
          "coloraxis": {
           "colorbar": {
            "outlinewidth": 0,
            "ticks": ""
           }
          },
          "colorscale": {
           "diverging": [
            [
             0,
             "#8e0152"
            ],
            [
             0.1,
             "#c51b7d"
            ],
            [
             0.2,
             "#de77ae"
            ],
            [
             0.3,
             "#f1b6da"
            ],
            [
             0.4,
             "#fde0ef"
            ],
            [
             0.5,
             "#f7f7f7"
            ],
            [
             0.6,
             "#e6f5d0"
            ],
            [
             0.7,
             "#b8e186"
            ],
            [
             0.8,
             "#7fbc41"
            ],
            [
             0.9,
             "#4d9221"
            ],
            [
             1,
             "#276419"
            ]
           ],
           "sequential": [
            [
             0,
             "#0d0887"
            ],
            [
             0.1111111111111111,
             "#46039f"
            ],
            [
             0.2222222222222222,
             "#7201a8"
            ],
            [
             0.3333333333333333,
             "#9c179e"
            ],
            [
             0.4444444444444444,
             "#bd3786"
            ],
            [
             0.5555555555555556,
             "#d8576b"
            ],
            [
             0.6666666666666666,
             "#ed7953"
            ],
            [
             0.7777777777777778,
             "#fb9f3a"
            ],
            [
             0.8888888888888888,
             "#fdca26"
            ],
            [
             1,
             "#f0f921"
            ]
           ],
           "sequentialminus": [
            [
             0,
             "#0d0887"
            ],
            [
             0.1111111111111111,
             "#46039f"
            ],
            [
             0.2222222222222222,
             "#7201a8"
            ],
            [
             0.3333333333333333,
             "#9c179e"
            ],
            [
             0.4444444444444444,
             "#bd3786"
            ],
            [
             0.5555555555555556,
             "#d8576b"
            ],
            [
             0.6666666666666666,
             "#ed7953"
            ],
            [
             0.7777777777777778,
             "#fb9f3a"
            ],
            [
             0.8888888888888888,
             "#fdca26"
            ],
            [
             1,
             "#f0f921"
            ]
           ]
          },
          "colorway": [
           "#636efa",
           "#EF553B",
           "#00cc96",
           "#ab63fa",
           "#FFA15A",
           "#19d3f3",
           "#FF6692",
           "#B6E880",
           "#FF97FF",
           "#FECB52"
          ],
          "font": {
           "color": "#2a3f5f"
          },
          "geo": {
           "bgcolor": "white",
           "lakecolor": "white",
           "landcolor": "#E5ECF6",
           "showlakes": true,
           "showland": true,
           "subunitcolor": "white"
          },
          "hoverlabel": {
           "align": "left"
          },
          "hovermode": "closest",
          "mapbox": {
           "style": "light"
          },
          "paper_bgcolor": "white",
          "plot_bgcolor": "#E5ECF6",
          "polar": {
           "angularaxis": {
            "gridcolor": "white",
            "linecolor": "white",
            "ticks": ""
           },
           "bgcolor": "#E5ECF6",
           "radialaxis": {
            "gridcolor": "white",
            "linecolor": "white",
            "ticks": ""
           }
          },
          "scene": {
           "xaxis": {
            "backgroundcolor": "#E5ECF6",
            "gridcolor": "white",
            "gridwidth": 2,
            "linecolor": "white",
            "showbackground": true,
            "ticks": "",
            "zerolinecolor": "white"
           },
           "yaxis": {
            "backgroundcolor": "#E5ECF6",
            "gridcolor": "white",
            "gridwidth": 2,
            "linecolor": "white",
            "showbackground": true,
            "ticks": "",
            "zerolinecolor": "white"
           },
           "zaxis": {
            "backgroundcolor": "#E5ECF6",
            "gridcolor": "white",
            "gridwidth": 2,
            "linecolor": "white",
            "showbackground": true,
            "ticks": "",
            "zerolinecolor": "white"
           }
          },
          "shapedefaults": {
           "line": {
            "color": "#2a3f5f"
           }
          },
          "ternary": {
           "aaxis": {
            "gridcolor": "white",
            "linecolor": "white",
            "ticks": ""
           },
           "baxis": {
            "gridcolor": "white",
            "linecolor": "white",
            "ticks": ""
           },
           "bgcolor": "#E5ECF6",
           "caxis": {
            "gridcolor": "white",
            "linecolor": "white",
            "ticks": ""
           }
          },
          "title": {
           "x": 0.05
          },
          "xaxis": {
           "automargin": true,
           "gridcolor": "white",
           "linecolor": "white",
           "ticks": "",
           "title": {
            "standoff": 15
           },
           "zerolinecolor": "white",
           "zerolinewidth": 2
          },
          "yaxis": {
           "automargin": true,
           "gridcolor": "white",
           "linecolor": "white",
           "ticks": "",
           "title": {
            "standoff": 15
           },
           "zerolinecolor": "white",
           "zerolinewidth": 2
          }
         }
        },
        "title": {
         "text": "Products Grouped by High Frequency Ingredient Research"
        },
        "xaxis": {
         "title": {
          "text": "Products Count"
         }
        },
        "yaxis": {
         "title": {
          "text": "High Frequency Ingredient Research"
         }
        }
       }
      }
     },
     "metadata": {},
     "output_type": "display_data"
    }
   ],
   "source": [
    "import plotly.graph_objects as go\n",
    "import pandas as pd\n",
    "from neo4j import GraphDatabase\n",
    "\n",
    "\n",
    "# Define your Cypher query\n",
    "query = \"\"\"\n",
    "MATCH (p:Product)-[:HAS_RECIPE]->(r:Recipe)-[:USES_INGREDIENT]->(i:Ingredient)-[:HAS_RESEARCH]->(res:IngredientResearch)\n",
    "WITH res, COUNT(DISTINCT p) AS productCount, COUNT(DISTINCT i) AS ingredientCount\n",
    "\n",
    "MATCH (allProducts:Product)\n",
    "WITH res, productCount, ingredientCount, COUNT(allProducts) AS totalProductCount\n",
    "WITH res, productCount, ingredientCount, totalProductCount, toFloat(productCount) / toFloat(totalProductCount) AS frequencyRatio, 0.1 AS threshold\n",
    "\n",
    "WHERE frequencyRatio > threshold\n",
    "RETURN res.ingredient_name AS HighFrequencyIngredientResearch, productCount, ingredientCount, frequencyRatio\n",
    "\"\"\"\n",
    "\n",
    "# Execute the query\n",
    "with driver.session() as session:\n",
    "    result = session.run(query)\n",
    "    data = result.data()\n",
    "\n",
    "# Create a DataFrame from the results\n",
    "df = pd.DataFrame(data)\n",
    "\n",
    "# Group products by HighFrequencyIngredientResearch\n",
    "grouped_products = df.groupby('HighFrequencyIngredientResearch')['productCount'].apply(list).reset_index()\n",
    "\n",
    "# Create a Plotly scatter plot\n",
    "fig = go.Figure()\n",
    "\n",
    "for index, row in grouped_products.iterrows():\n",
    "    x = row['productCount']\n",
    "    y = [row['HighFrequencyIngredientResearch']] * len(x)\n",
    "    fig.add_trace(go.Scatter(x=x, y=y, mode='markers', name=row['HighFrequencyIngredientResearch']))\n",
    "\n",
    "fig.update_layout(title='Products Grouped by High Frequency Ingredient Research', xaxis_title='Products Count', yaxis_title='High Frequency Ingredient Research')\n",
    "\n",
    "# Show the plot\n",
    "fig.show()\n",
    "\n"
   ]
  },
  {
   "cell_type": "code",
   "execution_count": 29,
   "metadata": {},
   "outputs": [
    {
     "data": {
      "application/vnd.plotly.v1+json": {
       "config": {
        "plotlyServerURL": "https://plot.ly"
       },
       "data": [
        {
         "mode": "markers",
         "name": "Sugar",
         "type": "scatter",
         "x": [
          "Coca - Cola Classic  Soft Drink Multipack Cans"
         ],
         "y": [
          "Sugar"
         ]
        },
        {
         "mode": "markers",
         "name": "Sugar",
         "type": "scatter",
         "x": [
          "Coca - Cola Classic  Soft Drink Multipack Cans"
         ],
         "y": [
          "Sugar"
         ]
        },
        {
         "mode": "markers",
         "name": "Sugar",
         "type": "scatter",
         "x": [
          "Coca - Cola Classic  Soft Drink Multipack Cans"
         ],
         "y": [
          "Sugar"
         ]
        },
        {
         "mode": "markers",
         "name": "Sugar",
         "type": "scatter",
         "x": [
          "Coca - Cola Classic  Soft Drink Mini Cans"
         ],
         "y": [
          "Sugar"
         ]
        },
        {
         "mode": "markers",
         "name": "Sugar",
         "type": "scatter",
         "x": [
          "Coca - Cola Vanilla  Soft Drink Multipack Cans"
         ],
         "y": [
          "Sugar"
         ]
        },
        {
         "mode": "markers",
         "name": "Sugar",
         "type": "scatter",
         "x": [
          "Indomie Mi Goreng Instant Noodles"
         ],
         "y": [
          "Sugar"
         ]
        },
        {
         "mode": "markers",
         "name": "Sugar",
         "type": "scatter",
         "x": [
          "Maggi 2 Minute Chicken Flavour Instant Noodles"
         ],
         "y": [
          "Sugar"
         ]
        },
        {
         "mode": "markers",
         "name": "Sugar",
         "type": "scatter",
         "x": [
          "Maggi 2 Minute Chicken Flavour Instant Noodles"
         ],
         "y": [
          "Sugar"
         ]
        },
        {
         "mode": "markers",
         "name": "Sugar",
         "type": "scatter",
         "x": [
          "Supreme Noodles Cup Chicken Flavour"
         ],
         "y": [
          "Sugar"
         ]
        },
        {
         "mode": "markers",
         "name": "Sugar",
         "type": "scatter",
         "x": [
          "Fantastic Chicken Noodle Cup"
         ],
         "y": [
          "Sugar"
         ]
        },
        {
         "mode": "markers",
         "name": "Sugar",
         "type": "scatter",
         "x": [
          "Fantastic Chicken Noodle Bowl"
         ],
         "y": [
          "Sugar"
         ]
        },
        {
         "mode": "markers",
         "name": "Sugar",
         "type": "scatter",
         "x": [
          "Indomie Mi Goreng Noodle Cup"
         ],
         "y": [
          "Sugar"
         ]
        },
        {
         "mode": "markers",
         "name": "Sugar",
         "type": "scatter",
         "x": [
          "Maggi 2 Minute Beef Flavour Instant Noodles"
         ],
         "y": [
          "Sugar"
         ]
        },
        {
         "mode": "markers",
         "name": "Sugar",
         "type": "scatter",
         "x": [
          "Supreme Noodles Cup Beef Flavour"
         ],
         "y": [
          "Sugar"
         ]
        },
        {
         "mode": "markers",
         "name": "Sugar",
         "type": "scatter",
         "x": [
          "Schweppes Indian Tonic Water Classic Mixers Bottle"
         ],
         "y": [
          "Sugar"
         ]
        },
        {
         "mode": "markers",
         "name": "Sugar",
         "type": "scatter",
         "x": [
          "Schweppes Lime Soda Water With Lime Juice Bottle"
         ],
         "y": [
          "Sugar"
         ]
        },
        {
         "mode": "markers",
         "name": "Sugar",
         "type": "scatter",
         "x": [
          "Schweppes Lemon Lime Natural Mineral Water Bottle"
         ],
         "y": [
          "Sugar"
         ]
        },
        {
         "mode": "markers",
         "name": "Sugar",
         "type": "scatter",
         "x": [
          "Schweppes Orange Mango Natural Mineral Water Bottle"
         ],
         "y": [
          "Sugar"
         ]
        },
        {
         "mode": "markers",
         "name": "Sugar",
         "type": "scatter",
         "x": [
          "Kitkat 4 Finger Milk Chocolate Bar"
         ],
         "y": [
          "Sugar"
         ]
        },
        {
         "mode": "markers",
         "name": "Sugar",
         "type": "scatter",
         "x": [
          "Kitkat Chunky Original Chocolate Bar"
         ],
         "y": [
          "Sugar"
         ]
        },
        {
         "mode": "markers",
         "name": "Sugar",
         "type": "scatter",
         "x": [
          "Cadbury Dairy Milk Caramello Koala Chocolate"
         ],
         "y": [
          "Sugar"
         ]
        },
        {
         "mode": "markers",
         "name": "Sugar",
         "type": "scatter",
         "x": [
          "Mars Chocolate Bar With Nougat & Caramel"
         ],
         "y": [
          "Sugar"
         ]
        },
        {
         "mode": "markers",
         "name": "Sugar",
         "type": "scatter",
         "x": [
          "Cadbury Dairy Milk Chocolate Roll"
         ],
         "y": [
          "Sugar"
         ]
        },
        {
         "mode": "markers",
         "name": "Sugar",
         "type": "scatter",
         "x": [
          "Cadbury Dairy Milk Chocolate Bar"
         ],
         "y": [
          "Sugar"
         ]
        },
        {
         "mode": "markers",
         "name": "Sugar",
         "type": "scatter",
         "x": [
          "Cadbury Twirl Chocolate Bar"
         ],
         "y": [
          "Sugar"
         ]
        },
        {
         "mode": "markers",
         "name": "Sugar",
         "type": "scatter",
         "x": [
          "Cadbury Chomp Chocolate Bar"
         ],
         "y": [
          "Sugar"
         ]
        },
        {
         "mode": "markers",
         "name": "Sugar",
         "type": "scatter",
         "x": [
          "Arnott's Premier Chocolate Chip Cookies"
         ],
         "y": [
          "Sugar"
         ]
        },
        {
         "mode": "markers",
         "name": "Sugar",
         "type": "scatter",
         "x": [
          "Woolworths Chocolate Chip Cookies"
         ],
         "y": [
          "Sugar"
         ]
        },
        {
         "mode": "markers",
         "name": "Sugar",
         "type": "scatter",
         "x": [
          "Woolworths The King Of Chunky Chocolate Chip Cookies"
         ],
         "y": [
          "Sugar"
         ]
        },
        {
         "mode": "markers",
         "name": "Sugar",
         "type": "scatter",
         "x": [
          "Arnott's Mini Choc Chip Cookie Multipack Biscuits"
         ],
         "y": [
          "Sugar"
         ]
        },
        {
         "mode": "markers",
         "name": "Sugar",
         "type": "scatter",
         "x": [
          "Oreo Original Mini Cookies Multipack"
         ],
         "y": [
          "Sugar"
         ]
        },
        {
         "mode": "markers",
         "name": "Sugar",
         "type": "scatter",
         "x": [
          "Oreo Minis Cookies Variety Bags 18 Pack"
         ],
         "y": [
          "Sugar"
         ]
        },
        {
         "mode": "markers",
         "name": "Sugar",
         "type": "scatter",
         "x": [
          "Cadbury Classic Choc Chip Cookies"
         ],
         "y": [
          "Sugar"
         ]
        },
        {
         "mode": "markers",
         "name": "Sugar",
         "type": "scatter",
         "x": [
          "Cadbury Choc Centre Cookies"
         ],
         "y": [
          "Sugar"
         ]
        },
        {
         "mode": "markers",
         "name": "Sugar",
         "type": "scatter",
         "x": [
          "Byron Bay Cookies Dotty Cookie Bites"
         ],
         "y": [
          "Sugar"
         ]
        },
        {
         "mode": "markers",
         "name": "Sugar",
         "type": "scatter",
         "x": [
          "Oreo Original Cookies"
         ],
         "y": [
          "Sugar"
         ]
        },
        {
         "mode": "markers",
         "name": "Sugar",
         "type": "scatter",
         "x": [
          "Golden Circle Golden Pash Fruit Drink"
         ],
         "y": [
          "Sugar"
         ]
        },
        {
         "mode": "markers",
         "name": "Sugar",
         "type": "scatter",
         "x": [
          "Golden Circle Drinks Pine Orange Fruit Drink"
         ],
         "y": [
          "Sugar"
         ]
        },
        {
         "mode": "markers",
         "name": "Sugar",
         "type": "scatter",
         "x": [
          "Golden Circle Drinks Sunshine Punch Fruit Drink"
         ],
         "y": [
          "Sugar"
         ]
        },
        {
         "mode": "markers",
         "name": "Sugar",
         "type": "scatter",
         "x": [
          "Golden Circle Fruit Drinks Lunch Box Poppers Tropical Punch Multipack"
         ],
         "y": [
          "Sugar"
         ]
        },
        {
         "mode": "markers",
         "name": "Sugar",
         "type": "scatter",
         "x": [
          "Oreo Double Stuff Cookies"
         ],
         "y": [
          "Sugar"
         ]
        },
        {
         "mode": "markers",
         "name": "Sugar",
         "type": "scatter",
         "x": [
          "Oreo Original Cookies Family Pack"
         ],
         "y": [
          "Sugar"
         ]
        },
        {
         "mode": "markers",
         "name": "Sugar",
         "type": "scatter",
         "x": [
          "Oreo Chocolate Cookies"
         ],
         "y": [
          "Sugar"
         ]
        },
        {
         "mode": "markers",
         "name": "Sugar",
         "type": "scatter",
         "x": [
          "Oreo Grab & Go Original Cookies 9 Pack"
         ],
         "y": [
          "Sugar"
         ]
        },
        {
         "mode": "markers",
         "name": "Sugar",
         "type": "scatter",
         "x": [
          "Oreo Neapolitan Double Stuff Cookies"
         ],
         "y": [
          "Sugar"
         ]
        },
        {
         "mode": "markers",
         "name": "Sugar",
         "type": "scatter",
         "x": [
          "Woolworths Creamed Rice"
         ],
         "y": [
          "Sugar"
         ]
        },
        {
         "mode": "markers",
         "name": "Sugar",
         "type": "scatter",
         "x": [
          "Woolworths Tomato Sauce Squeeze"
         ],
         "y": [
          "Sugar"
         ]
        },
        {
         "mode": "markers",
         "name": "Sugar",
         "type": "scatter",
         "x": [
          "Woolworths Tomato Sauce"
         ],
         "y": [
          "Sugar"
         ]
        },
        {
         "mode": "markers",
         "name": "Sugar",
         "type": "scatter",
         "x": [
          "Woolworths Barbecue Sauce Squeeze"
         ],
         "y": [
          "Sugar"
         ]
        },
        {
         "mode": "markers",
         "name": "Sugar",
         "type": "scatter",
         "x": [
          "Masterfoods Tomato Sauce"
         ],
         "y": [
          "Sugar"
         ]
        },
        {
         "mode": "markers",
         "name": "Sugar",
         "type": "scatter",
         "x": [
          "Masterfoods Barbecue Sauce"
         ],
         "y": [
          "Sugar"
         ]
        },
        {
         "mode": "markers",
         "name": "Sugar",
         "type": "scatter",
         "x": [
          "Fountain Tomato Sauce Squeeze"
         ],
         "y": [
          "Sugar"
         ]
        },
        {
         "mode": "markers",
         "name": "Sugar",
         "type": "scatter",
         "x": [
          "Fountain Barbecue Bbq Sauce Squeeze"
         ],
         "y": [
          "Sugar"
         ]
        },
        {
         "mode": "markers",
         "name": "Sugar",
         "type": "scatter",
         "x": [
          "Woolworths Secret Burger Sauce"
         ],
         "y": [
          "Sugar"
         ]
        },
        {
         "mode": "markers",
         "name": "Sugar",
         "type": "scatter",
         "x": [
          "Heinz Ketchup Tomato Sauce Ketchup"
         ],
         "y": [
          "Sugar"
         ]
        },
        {
         "mode": "markers",
         "name": "Sugar",
         "type": "scatter",
         "x": [
          "Woolworths Barbecue Sauce"
         ],
         "y": [
          "Sugar"
         ]
        },
        {
         "mode": "markers",
         "name": "Sugar",
         "type": "scatter",
         "x": [
          "Smith's Crinkle Cut Potato Chips Barbecue"
         ],
         "y": [
          "Sugar"
         ]
        },
        {
         "mode": "markers",
         "name": "Sugar",
         "type": "scatter",
         "x": [
          "Smith's Crinkle Cut Potato Chips Chicken"
         ],
         "y": [
          "Sugar"
         ]
        },
        {
         "mode": "markers",
         "name": "Sugar",
         "type": "scatter",
         "x": [
          "Thins Chips Chicken"
         ],
         "y": [
          "Sugar"
         ]
        },
        {
         "mode": "markers",
         "name": "Sugar",
         "type": "scatter",
         "x": [
          "Smith's Crinkle Cut Potato Chips Salt & Vinegar"
         ],
         "y": [
          "Sugar"
         ]
        },
        {
         "mode": "markers",
         "name": "Sugar",
         "type": "scatter",
         "x": [
          "Thins Chips Light & Tangy"
         ],
         "y": [
          "Sugar"
         ]
        },
        {
         "mode": "markers",
         "name": "Sugar",
         "type": "scatter",
         "x": [
          "Thins Cheese & Onion Chips"
         ],
         "y": [
          "Sugar"
         ]
        },
        {
         "mode": "markers",
         "name": "Sugar",
         "type": "scatter",
         "x": [
          "Woolworths Peach In Strawberry Jelly"
         ],
         "y": [
          "Sugar"
         ]
        },
        {
         "mode": "markers",
         "name": "Sugar",
         "type": "scatter",
         "x": [
          "Woolworths Two Fruits In Tropical Jelly"
         ],
         "y": [
          "Sugar"
         ]
        },
        {
         "mode": "markers",
         "name": "Sugar",
         "type": "scatter",
         "x": [
          "Woolworths Apple In Pineapple Jelly"
         ],
         "y": [
          "Sugar"
         ]
        },
        {
         "mode": "markers",
         "name": "Sugar",
         "type": "scatter",
         "x": [
          "Dole Pineapple Slices In Syrup"
         ],
         "y": [
          "Sugar"
         ]
        },
        {
         "mode": "markers",
         "name": "Flavour",
         "type": "scatter",
         "x": [
          "Coca - Cola Classic  Soft Drink Multipack Cans"
         ],
         "y": [
          "Flavour"
         ]
        },
        {
         "mode": "markers",
         "name": "Flavour",
         "type": "scatter",
         "x": [
          "Coca - Cola Classic  Soft Drink Multipack Cans"
         ],
         "y": [
          "Flavour"
         ]
        },
        {
         "mode": "markers",
         "name": "Flavour",
         "type": "scatter",
         "x": [
          "Coca - Cola Classic  Soft Drink Multipack Cans"
         ],
         "y": [
          "Flavour"
         ]
        },
        {
         "mode": "markers",
         "name": "Flavour",
         "type": "scatter",
         "x": [
          "Coca - Cola Classic  Soft Drink Mini Cans"
         ],
         "y": [
          "Flavour"
         ]
        },
        {
         "mode": "markers",
         "name": "Flavour",
         "type": "scatter",
         "x": [
          "Coca - Cola Vanilla  Soft Drink Multipack Cans"
         ],
         "y": [
          "Flavour"
         ]
        },
        {
         "mode": "markers",
         "name": "Flavour",
         "type": "scatter",
         "x": [
          "Coca - Cola Zero Sugar Soft Drink Multipack Cans"
         ],
         "y": [
          "Flavour"
         ]
        },
        {
         "mode": "markers",
         "name": "Flavour",
         "type": "scatter",
         "x": [
          "Coca - Cola Zero Sugar Soft Drink Multipack Cans"
         ],
         "y": [
          "Flavour"
         ]
        },
        {
         "mode": "markers",
         "name": "Flavour",
         "type": "scatter",
         "x": [
          "Coca - Cola Zero Sugar Soft Drink Multipack Cans"
         ],
         "y": [
          "Flavour"
         ]
        },
        {
         "mode": "markers",
         "name": "Flavour",
         "type": "scatter",
         "x": [
          "Coca - Cola Caffeine Free Zero Sugar Soft Drink Multipack Cans"
         ],
         "y": [
          "Flavour"
         ]
        },
        {
         "mode": "markers",
         "name": "Flavour",
         "type": "scatter",
         "x": [
          "Coca - Cola Zero Sugar Soft Drink Mini Cans"
         ],
         "y": [
          "Flavour"
         ]
        },
        {
         "mode": "markers",
         "name": "Flavour",
         "type": "scatter",
         "x": [
          "Maggi 2 Minute Beef Flavour Instant Noodles"
         ],
         "y": [
          "Flavour"
         ]
        },
        {
         "mode": "markers",
         "name": "Flavour",
         "type": "scatter",
         "x": [
          "Kitkat 4 Finger Milk Chocolate Bar"
         ],
         "y": [
          "Flavour"
         ]
        },
        {
         "mode": "markers",
         "name": "Flavour",
         "type": "scatter",
         "x": [
          "Kitkat Chunky Original Chocolate Bar"
         ],
         "y": [
          "Flavour"
         ]
        },
        {
         "mode": "markers",
         "name": "Flavour",
         "type": "scatter",
         "x": [
          "Arnott's Premier Chocolate Chip Cookies"
         ],
         "y": [
          "Flavour"
         ]
        },
        {
         "mode": "markers",
         "name": "Flavour",
         "type": "scatter",
         "x": [
          "Oreo Original Mini Cookies Multipack"
         ],
         "y": [
          "Flavour"
         ]
        },
        {
         "mode": "markers",
         "name": "Flavour",
         "type": "scatter",
         "x": [
          "Oreo Minis Cookies Variety Bags 18 Pack"
         ],
         "y": [
          "Flavour"
         ]
        },
        {
         "mode": "markers",
         "name": "Flavour",
         "type": "scatter",
         "x": [
          "Cadbury Classic Choc Chip Cookies"
         ],
         "y": [
          "Flavour"
         ]
        },
        {
         "mode": "markers",
         "name": "Flavour",
         "type": "scatter",
         "x": [
          "Cadbury Choc Centre Cookies"
         ],
         "y": [
          "Flavour"
         ]
        },
        {
         "mode": "markers",
         "name": "Flavour",
         "type": "scatter",
         "x": [
          "Byron Bay Cookies Dotty Cookie Bites"
         ],
         "y": [
          "Flavour"
         ]
        },
        {
         "mode": "markers",
         "name": "Flavour",
         "type": "scatter",
         "x": [
          "Oreo Original Cookies"
         ],
         "y": [
          "Flavour"
         ]
        },
        {
         "mode": "markers",
         "name": "Flavour",
         "type": "scatter",
         "x": [
          "Oreo Double Stuff Cookies"
         ],
         "y": [
          "Flavour"
         ]
        },
        {
         "mode": "markers",
         "name": "Flavour",
         "type": "scatter",
         "x": [
          "Oreo Original Cookies Family Pack"
         ],
         "y": [
          "Flavour"
         ]
        },
        {
         "mode": "markers",
         "name": "Flavour",
         "type": "scatter",
         "x": [
          "Oreo Chocolate Cookies"
         ],
         "y": [
          "Flavour"
         ]
        },
        {
         "mode": "markers",
         "name": "Flavour",
         "type": "scatter",
         "x": [
          "Oreo Grab & Go Original Cookies 9 Pack"
         ],
         "y": [
          "Flavour"
         ]
        },
        {
         "mode": "markers",
         "name": "Flavour",
         "type": "scatter",
         "x": [
          "Thins Chips Light & Tangy"
         ],
         "y": [
          "Flavour"
         ]
        },
        {
         "mode": "markers",
         "name": "Wheat Flour",
         "type": "scatter",
         "x": [
          "Indomie Mi Goreng Instant Noodles"
         ],
         "y": [
          "Wheat Flour"
         ]
        },
        {
         "mode": "markers",
         "name": "Wheat Flour",
         "type": "scatter",
         "x": [
          "Maggi 2 Minute Chicken Flavour Instant Noodles"
         ],
         "y": [
          "Wheat Flour"
         ]
        },
        {
         "mode": "markers",
         "name": "Wheat Flour",
         "type": "scatter",
         "x": [
          "Maggi 2 Minute Chicken Flavour Instant Noodles"
         ],
         "y": [
          "Wheat Flour"
         ]
        },
        {
         "mode": "markers",
         "name": "Wheat Flour",
         "type": "scatter",
         "x": [
          "Supreme Noodles Cup Chicken Flavour"
         ],
         "y": [
          "Wheat Flour"
         ]
        },
        {
         "mode": "markers",
         "name": "Wheat Flour",
         "type": "scatter",
         "x": [
          "Fantastic Chicken Noodle Cup"
         ],
         "y": [
          "Wheat Flour"
         ]
        },
        {
         "mode": "markers",
         "name": "Wheat Flour",
         "type": "scatter",
         "x": [
          "Fantastic Chicken Noodle Bowl"
         ],
         "y": [
          "Wheat Flour"
         ]
        },
        {
         "mode": "markers",
         "name": "Wheat Flour",
         "type": "scatter",
         "x": [
          "Indomie Mi Goreng Noodle Cup"
         ],
         "y": [
          "Wheat Flour"
         ]
        },
        {
         "mode": "markers",
         "name": "Wheat Flour",
         "type": "scatter",
         "x": [
          "Maggi 2 Minute Beef Flavour Instant Noodles"
         ],
         "y": [
          "Wheat Flour"
         ]
        },
        {
         "mode": "markers",
         "name": "Wheat Flour",
         "type": "scatter",
         "x": [
          "Supreme Noodles Cup Beef Flavour"
         ],
         "y": [
          "Wheat Flour"
         ]
        },
        {
         "mode": "markers",
         "name": "Wheat Flour",
         "type": "scatter",
         "x": [
          "Kitkat 4 Finger Milk Chocolate Bar"
         ],
         "y": [
          "Wheat Flour"
         ]
        },
        {
         "mode": "markers",
         "name": "Wheat Flour",
         "type": "scatter",
         "x": [
          "Kitkat Chunky Original Chocolate Bar"
         ],
         "y": [
          "Wheat Flour"
         ]
        },
        {
         "mode": "markers",
         "name": "Wheat Flour",
         "type": "scatter",
         "x": [
          "Cadbury Chomp Chocolate Bar"
         ],
         "y": [
          "Wheat Flour"
         ]
        },
        {
         "mode": "markers",
         "name": "Wheat Flour",
         "type": "scatter",
         "x": [
          "Arnott's Premier Chocolate Chip Cookies"
         ],
         "y": [
          "Wheat Flour"
         ]
        },
        {
         "mode": "markers",
         "name": "Wheat Flour",
         "type": "scatter",
         "x": [
          "Woolworths Chocolate Chip Cookies"
         ],
         "y": [
          "Wheat Flour"
         ]
        },
        {
         "mode": "markers",
         "name": "Wheat Flour",
         "type": "scatter",
         "x": [
          "Woolworths The King Of Chunky Chocolate Chip Cookies"
         ],
         "y": [
          "Wheat Flour"
         ]
        },
        {
         "mode": "markers",
         "name": "Wheat Flour",
         "type": "scatter",
         "x": [
          "Arnott's Mini Choc Chip Cookie Multipack Biscuits"
         ],
         "y": [
          "Wheat Flour"
         ]
        },
        {
         "mode": "markers",
         "name": "Wheat Flour",
         "type": "scatter",
         "x": [
          "Oreo Original Mini Cookies Multipack"
         ],
         "y": [
          "Wheat Flour"
         ]
        },
        {
         "mode": "markers",
         "name": "Wheat Flour",
         "type": "scatter",
         "x": [
          "Oreo Minis Cookies Variety Bags 18 Pack"
         ],
         "y": [
          "Wheat Flour"
         ]
        },
        {
         "mode": "markers",
         "name": "Wheat Flour",
         "type": "scatter",
         "x": [
          "Cadbury Classic Choc Chip Cookies"
         ],
         "y": [
          "Wheat Flour"
         ]
        },
        {
         "mode": "markers",
         "name": "Wheat Flour",
         "type": "scatter",
         "x": [
          "Cadbury Choc Centre Cookies"
         ],
         "y": [
          "Wheat Flour"
         ]
        },
        {
         "mode": "markers",
         "name": "Wheat Flour",
         "type": "scatter",
         "x": [
          "Byron Bay Cookies Dotty Cookie Bites"
         ],
         "y": [
          "Wheat Flour"
         ]
        },
        {
         "mode": "markers",
         "name": "Wheat Flour",
         "type": "scatter",
         "x": [
          "Oreo Original Cookies"
         ],
         "y": [
          "Wheat Flour"
         ]
        },
        {
         "mode": "markers",
         "name": "Wheat Flour",
         "type": "scatter",
         "x": [
          "Oreo Double Stuff Cookies"
         ],
         "y": [
          "Wheat Flour"
         ]
        },
        {
         "mode": "markers",
         "name": "Wheat Flour",
         "type": "scatter",
         "x": [
          "Oreo Original Cookies Family Pack"
         ],
         "y": [
          "Wheat Flour"
         ]
        },
        {
         "mode": "markers",
         "name": "Wheat Flour",
         "type": "scatter",
         "x": [
          "Oreo Chocolate Cookies"
         ],
         "y": [
          "Wheat Flour"
         ]
        },
        {
         "mode": "markers",
         "name": "Wheat Flour",
         "type": "scatter",
         "x": [
          "Oreo Grab & Go Original Cookies 9 Pack"
         ],
         "y": [
          "Wheat Flour"
         ]
        },
        {
         "mode": "markers",
         "name": "Wheat Flour",
         "type": "scatter",
         "x": [
          "Oreo Neapolitan Double Stuff Cookies"
         ],
         "y": [
          "Wheat Flour"
         ]
        },
        {
         "mode": "markers",
         "name": "Salt",
         "type": "scatter",
         "x": [
          "Indomie Mi Goreng Instant Noodles"
         ],
         "y": [
          "Salt"
         ]
        },
        {
         "mode": "markers",
         "name": "Salt",
         "type": "scatter",
         "x": [
          "Maggi 2 Minute Chicken Flavour Instant Noodles"
         ],
         "y": [
          "Salt"
         ]
        },
        {
         "mode": "markers",
         "name": "Salt",
         "type": "scatter",
         "x": [
          "Maggi 2 Minute Chicken Flavour Instant Noodles"
         ],
         "y": [
          "Salt"
         ]
        },
        {
         "mode": "markers",
         "name": "Salt",
         "type": "scatter",
         "x": [
          "Supreme Noodles Cup Chicken Flavour"
         ],
         "y": [
          "Salt"
         ]
        },
        {
         "mode": "markers",
         "name": "Salt",
         "type": "scatter",
         "x": [
          "Fantastic Chicken Noodle Cup"
         ],
         "y": [
          "Salt"
         ]
        },
        {
         "mode": "markers",
         "name": "Salt",
         "type": "scatter",
         "x": [
          "Fantastic Chicken Noodle Bowl"
         ],
         "y": [
          "Salt"
         ]
        },
        {
         "mode": "markers",
         "name": "Salt",
         "type": "scatter",
         "x": [
          "Indomie Mi Goreng Noodle Cup"
         ],
         "y": [
          "Salt"
         ]
        },
        {
         "mode": "markers",
         "name": "Salt",
         "type": "scatter",
         "x": [
          "Maggi 2 Minute Beef Flavour Instant Noodles"
         ],
         "y": [
          "Salt"
         ]
        },
        {
         "mode": "markers",
         "name": "Salt",
         "type": "scatter",
         "x": [
          "Supreme Noodles Cup Beef Flavour"
         ],
         "y": [
          "Salt"
         ]
        },
        {
         "mode": "markers",
         "name": "Salt",
         "type": "scatter",
         "x": [
          "Kitkat 4 Finger Milk Chocolate Bar"
         ],
         "y": [
          "Salt"
         ]
        },
        {
         "mode": "markers",
         "name": "Salt",
         "type": "scatter",
         "x": [
          "Kitkat Chunky Original Chocolate Bar"
         ],
         "y": [
          "Salt"
         ]
        },
        {
         "mode": "markers",
         "name": "Salt",
         "type": "scatter",
         "x": [
          "Cadbury Dairy Milk Caramello Koala Chocolate"
         ],
         "y": [
          "Salt"
         ]
        },
        {
         "mode": "markers",
         "name": "Salt",
         "type": "scatter",
         "x": [
          "Mars Chocolate Bar With Nougat & Caramel"
         ],
         "y": [
          "Salt"
         ]
        },
        {
         "mode": "markers",
         "name": "Salt",
         "type": "scatter",
         "x": [
          "Cadbury Chomp Chocolate Bar"
         ],
         "y": [
          "Salt"
         ]
        },
        {
         "mode": "markers",
         "name": "Salt",
         "type": "scatter",
         "x": [
          "Arnott's Premier Chocolate Chip Cookies"
         ],
         "y": [
          "Salt"
         ]
        },
        {
         "mode": "markers",
         "name": "Salt",
         "type": "scatter",
         "x": [
          "Woolworths Chocolate Chip Cookies"
         ],
         "y": [
          "Salt"
         ]
        },
        {
         "mode": "markers",
         "name": "Salt",
         "type": "scatter",
         "x": [
          "Woolworths The King Of Chunky Chocolate Chip Cookies"
         ],
         "y": [
          "Salt"
         ]
        },
        {
         "mode": "markers",
         "name": "Salt",
         "type": "scatter",
         "x": [
          "Arnott's Mini Choc Chip Cookie Multipack Biscuits"
         ],
         "y": [
          "Salt"
         ]
        },
        {
         "mode": "markers",
         "name": "Salt",
         "type": "scatter",
         "x": [
          "Oreo Original Mini Cookies Multipack"
         ],
         "y": [
          "Salt"
         ]
        },
        {
         "mode": "markers",
         "name": "Salt",
         "type": "scatter",
         "x": [
          "Oreo Minis Cookies Variety Bags 18 Pack"
         ],
         "y": [
          "Salt"
         ]
        },
        {
         "mode": "markers",
         "name": "Salt",
         "type": "scatter",
         "x": [
          "Cadbury Classic Choc Chip Cookies"
         ],
         "y": [
          "Salt"
         ]
        },
        {
         "mode": "markers",
         "name": "Salt",
         "type": "scatter",
         "x": [
          "Cadbury Choc Centre Cookies"
         ],
         "y": [
          "Salt"
         ]
        },
        {
         "mode": "markers",
         "name": "Salt",
         "type": "scatter",
         "x": [
          "Byron Bay Cookies Dotty Cookie Bites"
         ],
         "y": [
          "Salt"
         ]
        },
        {
         "mode": "markers",
         "name": "Salt",
         "type": "scatter",
         "x": [
          "Oreo Original Cookies"
         ],
         "y": [
          "Salt"
         ]
        },
        {
         "mode": "markers",
         "name": "Salt",
         "type": "scatter",
         "x": [
          "Oreo Double Stuff Cookies"
         ],
         "y": [
          "Salt"
         ]
        },
        {
         "mode": "markers",
         "name": "Salt",
         "type": "scatter",
         "x": [
          "Oreo Original Cookies Family Pack"
         ],
         "y": [
          "Salt"
         ]
        },
        {
         "mode": "markers",
         "name": "Salt",
         "type": "scatter",
         "x": [
          "Oreo Chocolate Cookies"
         ],
         "y": [
          "Salt"
         ]
        },
        {
         "mode": "markers",
         "name": "Salt",
         "type": "scatter",
         "x": [
          "Oreo Grab & Go Original Cookies 9 Pack"
         ],
         "y": [
          "Salt"
         ]
        },
        {
         "mode": "markers",
         "name": "Salt",
         "type": "scatter",
         "x": [
          "Deep Cove Sardines In Oil"
         ],
         "y": [
          "Salt"
         ]
        },
        {
         "mode": "markers",
         "name": "Salt",
         "type": "scatter",
         "x": [
          "Woolworths Creamed Rice"
         ],
         "y": [
          "Salt"
         ]
        },
        {
         "mode": "markers",
         "name": "Salt",
         "type": "scatter",
         "x": [
          "Woolworths Tomato Sauce Squeeze"
         ],
         "y": [
          "Salt"
         ]
        },
        {
         "mode": "markers",
         "name": "Salt",
         "type": "scatter",
         "x": [
          "Woolworths Tomato Sauce"
         ],
         "y": [
          "Salt"
         ]
        },
        {
         "mode": "markers",
         "name": "Salt",
         "type": "scatter",
         "x": [
          "Woolworths Barbecue Sauce Squeeze"
         ],
         "y": [
          "Salt"
         ]
        },
        {
         "mode": "markers",
         "name": "Salt",
         "type": "scatter",
         "x": [
          "Masterfoods Tomato Sauce"
         ],
         "y": [
          "Salt"
         ]
        },
        {
         "mode": "markers",
         "name": "Salt",
         "type": "scatter",
         "x": [
          "Masterfoods Barbecue Sauce"
         ],
         "y": [
          "Salt"
         ]
        },
        {
         "mode": "markers",
         "name": "Salt",
         "type": "scatter",
         "x": [
          "Fountain Tomato Sauce Squeeze"
         ],
         "y": [
          "Salt"
         ]
        },
        {
         "mode": "markers",
         "name": "Salt",
         "type": "scatter",
         "x": [
          "Fountain Barbecue Bbq Sauce Squeeze"
         ],
         "y": [
          "Salt"
         ]
        },
        {
         "mode": "markers",
         "name": "Salt",
         "type": "scatter",
         "x": [
          "Woolworths Secret Burger Sauce"
         ],
         "y": [
          "Salt"
         ]
        },
        {
         "mode": "markers",
         "name": "Salt",
         "type": "scatter",
         "x": [
          "Heinz Ketchup Tomato Sauce Ketchup"
         ],
         "y": [
          "Salt"
         ]
        },
        {
         "mode": "markers",
         "name": "Salt",
         "type": "scatter",
         "x": [
          "Woolworths Barbecue Sauce"
         ],
         "y": [
          "Salt"
         ]
        },
        {
         "mode": "markers",
         "name": "Salt",
         "type": "scatter",
         "x": [
          "Smith's Crinkle Cut Potato Chips Original"
         ],
         "y": [
          "Salt"
         ]
        },
        {
         "mode": "markers",
         "name": "Salt",
         "type": "scatter",
         "x": [
          "Smith's Crinkle Cut Potato Chips Cheese & Onion"
         ],
         "y": [
          "Salt"
         ]
        },
        {
         "mode": "markers",
         "name": "Salt",
         "type": "scatter",
         "x": [
          "Smith's Crinkle Cut Potato Chips Barbecue"
         ],
         "y": [
          "Salt"
         ]
        },
        {
         "mode": "markers",
         "name": "Salt",
         "type": "scatter",
         "x": [
          "Smith's Crinkle Cut Potato Chips Chicken"
         ],
         "y": [
          "Salt"
         ]
        },
        {
         "mode": "markers",
         "name": "Salt",
         "type": "scatter",
         "x": [
          "Thins Chips Salt & Vinegar"
         ],
         "y": [
          "Salt"
         ]
        },
        {
         "mode": "markers",
         "name": "Salt",
         "type": "scatter",
         "x": [
          "Smith's Thinly Cut Potato Chips Original Share Pack"
         ],
         "y": [
          "Salt"
         ]
        },
        {
         "mode": "markers",
         "name": "Salt",
         "type": "scatter",
         "x": [
          "Thins Chips Chicken"
         ],
         "y": [
          "Salt"
         ]
        },
        {
         "mode": "markers",
         "name": "Salt",
         "type": "scatter",
         "x": [
          "Smith's Crinkle Cut Potato Chips Salt & Vinegar"
         ],
         "y": [
          "Salt"
         ]
        },
        {
         "mode": "markers",
         "name": "Salt",
         "type": "scatter",
         "x": [
          "Thins Chips Light & Tangy"
         ],
         "y": [
          "Salt"
         ]
        },
        {
         "mode": "markers",
         "name": "Salt",
         "type": "scatter",
         "x": [
          "Thins Cheese & Onion Chips"
         ],
         "y": [
          "Salt"
         ]
        },
        {
         "mode": "markers",
         "name": "Vegetable Oil",
         "type": "scatter",
         "x": [
          "Maggi 2 Minute Chicken Flavour Instant Noodles"
         ],
         "y": [
          "Vegetable Oil"
         ]
        },
        {
         "mode": "markers",
         "name": "Vegetable Oil",
         "type": "scatter",
         "x": [
          "Maggi 2 Minute Chicken Flavour Instant Noodles"
         ],
         "y": [
          "Vegetable Oil"
         ]
        },
        {
         "mode": "markers",
         "name": "Vegetable Oil",
         "type": "scatter",
         "x": [
          "Supreme Noodles Cup Chicken Flavour"
         ],
         "y": [
          "Vegetable Oil"
         ]
        },
        {
         "mode": "markers",
         "name": "Vegetable Oil",
         "type": "scatter",
         "x": [
          "Fantastic Chicken Noodle Cup"
         ],
         "y": [
          "Vegetable Oil"
         ]
        },
        {
         "mode": "markers",
         "name": "Vegetable Oil",
         "type": "scatter",
         "x": [
          "Fantastic Chicken Noodle Bowl"
         ],
         "y": [
          "Vegetable Oil"
         ]
        },
        {
         "mode": "markers",
         "name": "Vegetable Oil",
         "type": "scatter",
         "x": [
          "Maggi 2 Minute Beef Flavour Instant Noodles"
         ],
         "y": [
          "Vegetable Oil"
         ]
        },
        {
         "mode": "markers",
         "name": "Vegetable Oil",
         "type": "scatter",
         "x": [
          "Supreme Noodles Cup Beef Flavour"
         ],
         "y": [
          "Vegetable Oil"
         ]
        },
        {
         "mode": "markers",
         "name": "Vegetable Oil",
         "type": "scatter",
         "x": [
          "Mars Chocolate Bar With Nougat & Caramel"
         ],
         "y": [
          "Vegetable Oil"
         ]
        },
        {
         "mode": "markers",
         "name": "Vegetable Oil",
         "type": "scatter",
         "x": [
          "Cadbury Chomp Chocolate Bar"
         ],
         "y": [
          "Vegetable Oil"
         ]
        },
        {
         "mode": "markers",
         "name": "Vegetable Oil",
         "type": "scatter",
         "x": [
          "Arnott's Premier Chocolate Chip Cookies"
         ],
         "y": [
          "Vegetable Oil"
         ]
        },
        {
         "mode": "markers",
         "name": "Vegetable Oil",
         "type": "scatter",
         "x": [
          "Woolworths Chocolate Chip Cookies"
         ],
         "y": [
          "Vegetable Oil"
         ]
        },
        {
         "mode": "markers",
         "name": "Vegetable Oil",
         "type": "scatter",
         "x": [
          "Woolworths The King Of Chunky Chocolate Chip Cookies"
         ],
         "y": [
          "Vegetable Oil"
         ]
        },
        {
         "mode": "markers",
         "name": "Vegetable Oil",
         "type": "scatter",
         "x": [
          "Arnott's Mini Choc Chip Cookie Multipack Biscuits"
         ],
         "y": [
          "Vegetable Oil"
         ]
        },
        {
         "mode": "markers",
         "name": "Vegetable Oil",
         "type": "scatter",
         "x": [
          "Oreo Original Mini Cookies Multipack"
         ],
         "y": [
          "Vegetable Oil"
         ]
        },
        {
         "mode": "markers",
         "name": "Vegetable Oil",
         "type": "scatter",
         "x": [
          "Oreo Minis Cookies Variety Bags 18 Pack"
         ],
         "y": [
          "Vegetable Oil"
         ]
        },
        {
         "mode": "markers",
         "name": "Vegetable Oil",
         "type": "scatter",
         "x": [
          "Cadbury Classic Choc Chip Cookies"
         ],
         "y": [
          "Vegetable Oil"
         ]
        },
        {
         "mode": "markers",
         "name": "Vegetable Oil",
         "type": "scatter",
         "x": [
          "Cadbury Choc Centre Cookies"
         ],
         "y": [
          "Vegetable Oil"
         ]
        },
        {
         "mode": "markers",
         "name": "Vegetable Oil",
         "type": "scatter",
         "x": [
          "Byron Bay Cookies Dotty Cookie Bites"
         ],
         "y": [
          "Vegetable Oil"
         ]
        },
        {
         "mode": "markers",
         "name": "Vegetable Oil",
         "type": "scatter",
         "x": [
          "Oreo Original Cookies"
         ],
         "y": [
          "Vegetable Oil"
         ]
        },
        {
         "mode": "markers",
         "name": "Vegetable Oil",
         "type": "scatter",
         "x": [
          "Oreo Double Stuff Cookies"
         ],
         "y": [
          "Vegetable Oil"
         ]
        },
        {
         "mode": "markers",
         "name": "Vegetable Oil",
         "type": "scatter",
         "x": [
          "Oreo Original Cookies Family Pack"
         ],
         "y": [
          "Vegetable Oil"
         ]
        },
        {
         "mode": "markers",
         "name": "Vegetable Oil",
         "type": "scatter",
         "x": [
          "Oreo Chocolate Cookies"
         ],
         "y": [
          "Vegetable Oil"
         ]
        },
        {
         "mode": "markers",
         "name": "Vegetable Oil",
         "type": "scatter",
         "x": [
          "Oreo Grab & Go Original Cookies 9 Pack"
         ],
         "y": [
          "Vegetable Oil"
         ]
        },
        {
         "mode": "markers",
         "name": "Vegetable Oil",
         "type": "scatter",
         "x": [
          "Oreo Neapolitan Double Stuff Cookies"
         ],
         "y": [
          "Vegetable Oil"
         ]
        },
        {
         "mode": "markers",
         "name": "Vegetable Oil",
         "type": "scatter",
         "x": [
          "Deep Cove Sardines In Oil"
         ],
         "y": [
          "Vegetable Oil"
         ]
        },
        {
         "mode": "markers",
         "name": "Vegetable Oil",
         "type": "scatter",
         "x": [
          "Thins Chips Salt & Vinegar"
         ],
         "y": [
          "Vegetable Oil"
         ]
        },
        {
         "mode": "markers",
         "name": "Vegetable Oil",
         "type": "scatter",
         "x": [
          "Thins Chips Chicken"
         ],
         "y": [
          "Vegetable Oil"
         ]
        },
        {
         "mode": "markers",
         "name": "Vegetable Oil",
         "type": "scatter",
         "x": [
          "Thins Chips Light & Tangy"
         ],
         "y": [
          "Vegetable Oil"
         ]
        },
        {
         "mode": "markers",
         "name": "Vegetable Oil",
         "type": "scatter",
         "x": [
          "Thins Cheese & Onion Chips"
         ],
         "y": [
          "Vegetable Oil"
         ]
        },
        {
         "mode": "markers",
         "name": "Emulsifier Soy Lecithin",
         "type": "scatter",
         "x": [
          "Kitkat 4 Finger Milk Chocolate Bar"
         ],
         "y": [
          "Emulsifier Soy Lecithin"
         ]
        },
        {
         "mode": "markers",
         "name": "Emulsifier Soy Lecithin",
         "type": "scatter",
         "x": [
          "Kitkat Chunky Original Chocolate Bar"
         ],
         "y": [
          "Emulsifier Soy Lecithin"
         ]
        },
        {
         "mode": "markers",
         "name": "Emulsifier Soy Lecithin",
         "type": "scatter",
         "x": [
          "Cadbury Dairy Milk Caramello Koala Chocolate"
         ],
         "y": [
          "Emulsifier Soy Lecithin"
         ]
        },
        {
         "mode": "markers",
         "name": "Emulsifier Soy Lecithin",
         "type": "scatter",
         "x": [
          "Mars Chocolate Bar With Nougat & Caramel"
         ],
         "y": [
          "Emulsifier Soy Lecithin"
         ]
        },
        {
         "mode": "markers",
         "name": "Emulsifier Soy Lecithin",
         "type": "scatter",
         "x": [
          "Cadbury Dairy Milk Chocolate Roll"
         ],
         "y": [
          "Emulsifier Soy Lecithin"
         ]
        },
        {
         "mode": "markers",
         "name": "Emulsifier Soy Lecithin",
         "type": "scatter",
         "x": [
          "Cadbury Dairy Milk Chocolate Bar"
         ],
         "y": [
          "Emulsifier Soy Lecithin"
         ]
        },
        {
         "mode": "markers",
         "name": "Emulsifier Soy Lecithin",
         "type": "scatter",
         "x": [
          "Cadbury Twirl Chocolate Bar"
         ],
         "y": [
          "Emulsifier Soy Lecithin"
         ]
        },
        {
         "mode": "markers",
         "name": "Emulsifier Soy Lecithin",
         "type": "scatter",
         "x": [
          "Cadbury Chomp Chocolate Bar"
         ],
         "y": [
          "Emulsifier Soy Lecithin"
         ]
        },
        {
         "mode": "markers",
         "name": "Emulsifier Soy Lecithin",
         "type": "scatter",
         "x": [
          "Arnott's Premier Chocolate Chip Cookies"
         ],
         "y": [
          "Emulsifier Soy Lecithin"
         ]
        },
        {
         "mode": "markers",
         "name": "Emulsifier Soy Lecithin",
         "type": "scatter",
         "x": [
          "Woolworths Chocolate Chip Cookies"
         ],
         "y": [
          "Emulsifier Soy Lecithin"
         ]
        },
        {
         "mode": "markers",
         "name": "Emulsifier Soy Lecithin",
         "type": "scatter",
         "x": [
          "Woolworths The King Of Chunky Chocolate Chip Cookies"
         ],
         "y": [
          "Emulsifier Soy Lecithin"
         ]
        },
        {
         "mode": "markers",
         "name": "Emulsifier Soy Lecithin",
         "type": "scatter",
         "x": [
          "Arnott's Mini Choc Chip Cookie Multipack Biscuits"
         ],
         "y": [
          "Emulsifier Soy Lecithin"
         ]
        },
        {
         "mode": "markers",
         "name": "Emulsifier Soy Lecithin",
         "type": "scatter",
         "x": [
          "Oreo Original Mini Cookies Multipack"
         ],
         "y": [
          "Emulsifier Soy Lecithin"
         ]
        },
        {
         "mode": "markers",
         "name": "Emulsifier Soy Lecithin",
         "type": "scatter",
         "x": [
          "Oreo Minis Cookies Variety Bags 18 Pack"
         ],
         "y": [
          "Emulsifier Soy Lecithin"
         ]
        },
        {
         "mode": "markers",
         "name": "Emulsifier Soy Lecithin",
         "type": "scatter",
         "x": [
          "Cadbury Choc Centre Cookies"
         ],
         "y": [
          "Emulsifier Soy Lecithin"
         ]
        },
        {
         "mode": "markers",
         "name": "Emulsifier Soy Lecithin",
         "type": "scatter",
         "x": [
          "Byron Bay Cookies Dotty Cookie Bites"
         ],
         "y": [
          "Emulsifier Soy Lecithin"
         ]
        },
        {
         "mode": "markers",
         "name": "Emulsifier Soy Lecithin",
         "type": "scatter",
         "x": [
          "Oreo Original Cookies"
         ],
         "y": [
          "Emulsifier Soy Lecithin"
         ]
        },
        {
         "mode": "markers",
         "name": "Emulsifier Soy Lecithin",
         "type": "scatter",
         "x": [
          "Oreo Double Stuff Cookies"
         ],
         "y": [
          "Emulsifier Soy Lecithin"
         ]
        },
        {
         "mode": "markers",
         "name": "Emulsifier Soy Lecithin",
         "type": "scatter",
         "x": [
          "Oreo Original Cookies Family Pack"
         ],
         "y": [
          "Emulsifier Soy Lecithin"
         ]
        },
        {
         "mode": "markers",
         "name": "Emulsifier Soy Lecithin",
         "type": "scatter",
         "x": [
          "Oreo Chocolate Cookies"
         ],
         "y": [
          "Emulsifier Soy Lecithin"
         ]
        },
        {
         "mode": "markers",
         "name": "Emulsifier Soy Lecithin",
         "type": "scatter",
         "x": [
          "Oreo Grab & Go Original Cookies 9 Pack"
         ],
         "y": [
          "Emulsifier Soy Lecithin"
         ]
        },
        {
         "mode": "markers",
         "name": "Emulsifier Soy Lecithin",
         "type": "scatter",
         "x": [
          "Oreo Neapolitan Double Stuff Cookies"
         ],
         "y": [
          "Emulsifier Soy Lecithin"
         ]
        }
       ],
       "layout": {
        "template": {
         "data": {
          "bar": [
           {
            "error_x": {
             "color": "#2a3f5f"
            },
            "error_y": {
             "color": "#2a3f5f"
            },
            "marker": {
             "line": {
              "color": "#E5ECF6",
              "width": 0.5
             },
             "pattern": {
              "fillmode": "overlay",
              "size": 10,
              "solidity": 0.2
             }
            },
            "type": "bar"
           }
          ],
          "barpolar": [
           {
            "marker": {
             "line": {
              "color": "#E5ECF6",
              "width": 0.5
             },
             "pattern": {
              "fillmode": "overlay",
              "size": 10,
              "solidity": 0.2
             }
            },
            "type": "barpolar"
           }
          ],
          "carpet": [
           {
            "aaxis": {
             "endlinecolor": "#2a3f5f",
             "gridcolor": "white",
             "linecolor": "white",
             "minorgridcolor": "white",
             "startlinecolor": "#2a3f5f"
            },
            "baxis": {
             "endlinecolor": "#2a3f5f",
             "gridcolor": "white",
             "linecolor": "white",
             "minorgridcolor": "white",
             "startlinecolor": "#2a3f5f"
            },
            "type": "carpet"
           }
          ],
          "choropleth": [
           {
            "colorbar": {
             "outlinewidth": 0,
             "ticks": ""
            },
            "type": "choropleth"
           }
          ],
          "contour": [
           {
            "colorbar": {
             "outlinewidth": 0,
             "ticks": ""
            },
            "colorscale": [
             [
              0,
              "#0d0887"
             ],
             [
              0.1111111111111111,
              "#46039f"
             ],
             [
              0.2222222222222222,
              "#7201a8"
             ],
             [
              0.3333333333333333,
              "#9c179e"
             ],
             [
              0.4444444444444444,
              "#bd3786"
             ],
             [
              0.5555555555555556,
              "#d8576b"
             ],
             [
              0.6666666666666666,
              "#ed7953"
             ],
             [
              0.7777777777777778,
              "#fb9f3a"
             ],
             [
              0.8888888888888888,
              "#fdca26"
             ],
             [
              1,
              "#f0f921"
             ]
            ],
            "type": "contour"
           }
          ],
          "contourcarpet": [
           {
            "colorbar": {
             "outlinewidth": 0,
             "ticks": ""
            },
            "type": "contourcarpet"
           }
          ],
          "heatmap": [
           {
            "colorbar": {
             "outlinewidth": 0,
             "ticks": ""
            },
            "colorscale": [
             [
              0,
              "#0d0887"
             ],
             [
              0.1111111111111111,
              "#46039f"
             ],
             [
              0.2222222222222222,
              "#7201a8"
             ],
             [
              0.3333333333333333,
              "#9c179e"
             ],
             [
              0.4444444444444444,
              "#bd3786"
             ],
             [
              0.5555555555555556,
              "#d8576b"
             ],
             [
              0.6666666666666666,
              "#ed7953"
             ],
             [
              0.7777777777777778,
              "#fb9f3a"
             ],
             [
              0.8888888888888888,
              "#fdca26"
             ],
             [
              1,
              "#f0f921"
             ]
            ],
            "type": "heatmap"
           }
          ],
          "heatmapgl": [
           {
            "colorbar": {
             "outlinewidth": 0,
             "ticks": ""
            },
            "colorscale": [
             [
              0,
              "#0d0887"
             ],
             [
              0.1111111111111111,
              "#46039f"
             ],
             [
              0.2222222222222222,
              "#7201a8"
             ],
             [
              0.3333333333333333,
              "#9c179e"
             ],
             [
              0.4444444444444444,
              "#bd3786"
             ],
             [
              0.5555555555555556,
              "#d8576b"
             ],
             [
              0.6666666666666666,
              "#ed7953"
             ],
             [
              0.7777777777777778,
              "#fb9f3a"
             ],
             [
              0.8888888888888888,
              "#fdca26"
             ],
             [
              1,
              "#f0f921"
             ]
            ],
            "type": "heatmapgl"
           }
          ],
          "histogram": [
           {
            "marker": {
             "pattern": {
              "fillmode": "overlay",
              "size": 10,
              "solidity": 0.2
             }
            },
            "type": "histogram"
           }
          ],
          "histogram2d": [
           {
            "colorbar": {
             "outlinewidth": 0,
             "ticks": ""
            },
            "colorscale": [
             [
              0,
              "#0d0887"
             ],
             [
              0.1111111111111111,
              "#46039f"
             ],
             [
              0.2222222222222222,
              "#7201a8"
             ],
             [
              0.3333333333333333,
              "#9c179e"
             ],
             [
              0.4444444444444444,
              "#bd3786"
             ],
             [
              0.5555555555555556,
              "#d8576b"
             ],
             [
              0.6666666666666666,
              "#ed7953"
             ],
             [
              0.7777777777777778,
              "#fb9f3a"
             ],
             [
              0.8888888888888888,
              "#fdca26"
             ],
             [
              1,
              "#f0f921"
             ]
            ],
            "type": "histogram2d"
           }
          ],
          "histogram2dcontour": [
           {
            "colorbar": {
             "outlinewidth": 0,
             "ticks": ""
            },
            "colorscale": [
             [
              0,
              "#0d0887"
             ],
             [
              0.1111111111111111,
              "#46039f"
             ],
             [
              0.2222222222222222,
              "#7201a8"
             ],
             [
              0.3333333333333333,
              "#9c179e"
             ],
             [
              0.4444444444444444,
              "#bd3786"
             ],
             [
              0.5555555555555556,
              "#d8576b"
             ],
             [
              0.6666666666666666,
              "#ed7953"
             ],
             [
              0.7777777777777778,
              "#fb9f3a"
             ],
             [
              0.8888888888888888,
              "#fdca26"
             ],
             [
              1,
              "#f0f921"
             ]
            ],
            "type": "histogram2dcontour"
           }
          ],
          "mesh3d": [
           {
            "colorbar": {
             "outlinewidth": 0,
             "ticks": ""
            },
            "type": "mesh3d"
           }
          ],
          "parcoords": [
           {
            "line": {
             "colorbar": {
              "outlinewidth": 0,
              "ticks": ""
             }
            },
            "type": "parcoords"
           }
          ],
          "pie": [
           {
            "automargin": true,
            "type": "pie"
           }
          ],
          "scatter": [
           {
            "fillpattern": {
             "fillmode": "overlay",
             "size": 10,
             "solidity": 0.2
            },
            "type": "scatter"
           }
          ],
          "scatter3d": [
           {
            "line": {
             "colorbar": {
              "outlinewidth": 0,
              "ticks": ""
             }
            },
            "marker": {
             "colorbar": {
              "outlinewidth": 0,
              "ticks": ""
             }
            },
            "type": "scatter3d"
           }
          ],
          "scattercarpet": [
           {
            "marker": {
             "colorbar": {
              "outlinewidth": 0,
              "ticks": ""
             }
            },
            "type": "scattercarpet"
           }
          ],
          "scattergeo": [
           {
            "marker": {
             "colorbar": {
              "outlinewidth": 0,
              "ticks": ""
             }
            },
            "type": "scattergeo"
           }
          ],
          "scattergl": [
           {
            "marker": {
             "colorbar": {
              "outlinewidth": 0,
              "ticks": ""
             }
            },
            "type": "scattergl"
           }
          ],
          "scattermapbox": [
           {
            "marker": {
             "colorbar": {
              "outlinewidth": 0,
              "ticks": ""
             }
            },
            "type": "scattermapbox"
           }
          ],
          "scatterpolar": [
           {
            "marker": {
             "colorbar": {
              "outlinewidth": 0,
              "ticks": ""
             }
            },
            "type": "scatterpolar"
           }
          ],
          "scatterpolargl": [
           {
            "marker": {
             "colorbar": {
              "outlinewidth": 0,
              "ticks": ""
             }
            },
            "type": "scatterpolargl"
           }
          ],
          "scatterternary": [
           {
            "marker": {
             "colorbar": {
              "outlinewidth": 0,
              "ticks": ""
             }
            },
            "type": "scatterternary"
           }
          ],
          "surface": [
           {
            "colorbar": {
             "outlinewidth": 0,
             "ticks": ""
            },
            "colorscale": [
             [
              0,
              "#0d0887"
             ],
             [
              0.1111111111111111,
              "#46039f"
             ],
             [
              0.2222222222222222,
              "#7201a8"
             ],
             [
              0.3333333333333333,
              "#9c179e"
             ],
             [
              0.4444444444444444,
              "#bd3786"
             ],
             [
              0.5555555555555556,
              "#d8576b"
             ],
             [
              0.6666666666666666,
              "#ed7953"
             ],
             [
              0.7777777777777778,
              "#fb9f3a"
             ],
             [
              0.8888888888888888,
              "#fdca26"
             ],
             [
              1,
              "#f0f921"
             ]
            ],
            "type": "surface"
           }
          ],
          "table": [
           {
            "cells": {
             "fill": {
              "color": "#EBF0F8"
             },
             "line": {
              "color": "white"
             }
            },
            "header": {
             "fill": {
              "color": "#C8D4E3"
             },
             "line": {
              "color": "white"
             }
            },
            "type": "table"
           }
          ]
         },
         "layout": {
          "annotationdefaults": {
           "arrowcolor": "#2a3f5f",
           "arrowhead": 0,
           "arrowwidth": 1
          },
          "autotypenumbers": "strict",
          "coloraxis": {
           "colorbar": {
            "outlinewidth": 0,
            "ticks": ""
           }
          },
          "colorscale": {
           "diverging": [
            [
             0,
             "#8e0152"
            ],
            [
             0.1,
             "#c51b7d"
            ],
            [
             0.2,
             "#de77ae"
            ],
            [
             0.3,
             "#f1b6da"
            ],
            [
             0.4,
             "#fde0ef"
            ],
            [
             0.5,
             "#f7f7f7"
            ],
            [
             0.6,
             "#e6f5d0"
            ],
            [
             0.7,
             "#b8e186"
            ],
            [
             0.8,
             "#7fbc41"
            ],
            [
             0.9,
             "#4d9221"
            ],
            [
             1,
             "#276419"
            ]
           ],
           "sequential": [
            [
             0,
             "#0d0887"
            ],
            [
             0.1111111111111111,
             "#46039f"
            ],
            [
             0.2222222222222222,
             "#7201a8"
            ],
            [
             0.3333333333333333,
             "#9c179e"
            ],
            [
             0.4444444444444444,
             "#bd3786"
            ],
            [
             0.5555555555555556,
             "#d8576b"
            ],
            [
             0.6666666666666666,
             "#ed7953"
            ],
            [
             0.7777777777777778,
             "#fb9f3a"
            ],
            [
             0.8888888888888888,
             "#fdca26"
            ],
            [
             1,
             "#f0f921"
            ]
           ],
           "sequentialminus": [
            [
             0,
             "#0d0887"
            ],
            [
             0.1111111111111111,
             "#46039f"
            ],
            [
             0.2222222222222222,
             "#7201a8"
            ],
            [
             0.3333333333333333,
             "#9c179e"
            ],
            [
             0.4444444444444444,
             "#bd3786"
            ],
            [
             0.5555555555555556,
             "#d8576b"
            ],
            [
             0.6666666666666666,
             "#ed7953"
            ],
            [
             0.7777777777777778,
             "#fb9f3a"
            ],
            [
             0.8888888888888888,
             "#fdca26"
            ],
            [
             1,
             "#f0f921"
            ]
           ]
          },
          "colorway": [
           "#636efa",
           "#EF553B",
           "#00cc96",
           "#ab63fa",
           "#FFA15A",
           "#19d3f3",
           "#FF6692",
           "#B6E880",
           "#FF97FF",
           "#FECB52"
          ],
          "font": {
           "color": "#2a3f5f"
          },
          "geo": {
           "bgcolor": "white",
           "lakecolor": "white",
           "landcolor": "#E5ECF6",
           "showlakes": true,
           "showland": true,
           "subunitcolor": "white"
          },
          "hoverlabel": {
           "align": "left"
          },
          "hovermode": "closest",
          "mapbox": {
           "style": "light"
          },
          "paper_bgcolor": "white",
          "plot_bgcolor": "#E5ECF6",
          "polar": {
           "angularaxis": {
            "gridcolor": "white",
            "linecolor": "white",
            "ticks": ""
           },
           "bgcolor": "#E5ECF6",
           "radialaxis": {
            "gridcolor": "white",
            "linecolor": "white",
            "ticks": ""
           }
          },
          "scene": {
           "xaxis": {
            "backgroundcolor": "#E5ECF6",
            "gridcolor": "white",
            "gridwidth": 2,
            "linecolor": "white",
            "showbackground": true,
            "ticks": "",
            "zerolinecolor": "white"
           },
           "yaxis": {
            "backgroundcolor": "#E5ECF6",
            "gridcolor": "white",
            "gridwidth": 2,
            "linecolor": "white",
            "showbackground": true,
            "ticks": "",
            "zerolinecolor": "white"
           },
           "zaxis": {
            "backgroundcolor": "#E5ECF6",
            "gridcolor": "white",
            "gridwidth": 2,
            "linecolor": "white",
            "showbackground": true,
            "ticks": "",
            "zerolinecolor": "white"
           }
          },
          "shapedefaults": {
           "line": {
            "color": "#2a3f5f"
           }
          },
          "ternary": {
           "aaxis": {
            "gridcolor": "white",
            "linecolor": "white",
            "ticks": ""
           },
           "baxis": {
            "gridcolor": "white",
            "linecolor": "white",
            "ticks": ""
           },
           "bgcolor": "#E5ECF6",
           "caxis": {
            "gridcolor": "white",
            "linecolor": "white",
            "ticks": ""
           }
          },
          "title": {
           "x": 0.05
          },
          "xaxis": {
           "automargin": true,
           "gridcolor": "white",
           "linecolor": "white",
           "ticks": "",
           "title": {
            "standoff": 15
           },
           "zerolinecolor": "white",
           "zerolinewidth": 2
          },
          "yaxis": {
           "automargin": true,
           "gridcolor": "white",
           "linecolor": "white",
           "ticks": "",
           "title": {
            "standoff": 15
           },
           "zerolinecolor": "white",
           "zerolinewidth": 2
          }
         }
        },
        "title": {
         "text": "Products Grouped by High Frequency Ingredient Research"
        },
        "xaxis": {
         "title": {
          "text": "Products"
         }
        },
        "yaxis": {
         "title": {
          "text": "High Frequency Ingredient Research"
         }
        }
       }
      }
     },
     "metadata": {},
     "output_type": "display_data"
    }
   ],
   "source": [
    "import plotly.graph_objects as go\n",
    "from neo4j import GraphDatabase\n",
    "\n",
    "\n",
    "\n",
    "\n",
    "query = \"\"\"\n",
    "MATCH (p:Product)-[:HAS_RECIPE]->(r:Recipe)-[:USES_INGREDIENT]->(i:Ingredient)-[:HAS_RESEARCH]->(res:IngredientResearch)\n",
    "WITH res, COUNT(DISTINCT p) AS productCount, COUNT(DISTINCT i) AS ingredientCount, COLLECT(p.name) AS Products\n",
    "\n",
    "MATCH (allProducts:Product)\n",
    "WITH res, productCount, ingredientCount, COUNT(allProducts) AS totalProductCount, Products\n",
    "WITH res, productCount, ingredientCount, totalProductCount, toFloat(productCount) / toFloat(totalProductCount) AS frequencyRatio, 0.1 AS threshold, Products\n",
    "\n",
    "WHERE frequencyRatio > threshold\n",
    "RETURN res.ingredient_name AS HighFrequencyIngredientResearch, productCount, ingredientCount, frequencyRatio, Products\n",
    "\"\"\"\n",
    "\n",
    "\n",
    "with driver.session() as session:\n",
    "    result = session.run(query)\n",
    "    data = result.data()\n",
    "\n",
    "\n",
    "fig = go.Figure()\n",
    "\n",
    "for record in data:\n",
    "    ingredient_research = record['HighFrequencyIngredientResearch']\n",
    "    products = record['Products']\n",
    "    for product in products:\n",
    "        fig.add_trace(go.Scatter(x=[product], y=[ingredient_research], mode='markers', name=ingredient_research))\n",
    "\n",
    "fig.update_layout(title='Products Grouped by High Frequency Ingredient Research', xaxis_title='Products', yaxis_title='High Frequency Ingredient Research')\n",
    "\n",
    "\n",
    "fig.show()\n"
   ]
  },
  {
   "cell_type": "code",
   "execution_count": 41,
   "metadata": {},
   "outputs": [
    {
     "name": "stdout",
     "output_type": "stream",
     "text": [
      "HighFrequencyIngredientResearch：Sugar\n",
      "Product list：\n",
      "Coca - Cola Classic  Soft Drink Multipack Cans\n",
      "Coca - Cola Classic  Soft Drink Multipack Cans\n",
      "Coca - Cola Classic  Soft Drink Multipack Cans\n",
      "Coca - Cola Classic  Soft Drink Mini Cans\n",
      "Coca - Cola Vanilla  Soft Drink Multipack Cans\n",
      "Indomie Mi Goreng Instant Noodles\n",
      "Maggi 2 Minute Chicken Flavour Instant Noodles\n",
      "Maggi 2 Minute Chicken Flavour Instant Noodles\n",
      "Supreme Noodles Cup Chicken Flavour\n",
      "Fantastic Chicken Noodle Cup\n",
      "Fantastic Chicken Noodle Bowl\n",
      "Indomie Mi Goreng Noodle Cup\n",
      "Maggi 2 Minute Beef Flavour Instant Noodles\n",
      "Supreme Noodles Cup Beef Flavour\n",
      "Schweppes Indian Tonic Water Classic Mixers Bottle\n",
      "Schweppes Lime Soda Water With Lime Juice Bottle\n",
      "Schweppes Lemon Lime Natural Mineral Water Bottle\n",
      "Schweppes Orange Mango Natural Mineral Water Bottle\n",
      "Kitkat 4 Finger Milk Chocolate Bar\n",
      "Kitkat Chunky Original Chocolate Bar\n",
      "Cadbury Dairy Milk Caramello Koala Chocolate\n",
      "Mars Chocolate Bar With Nougat & Caramel\n",
      "Cadbury Dairy Milk Chocolate Roll\n",
      "Cadbury Dairy Milk Chocolate Bar\n",
      "Cadbury Twirl Chocolate Bar\n",
      "Cadbury Chomp Chocolate Bar\n",
      "Arnott's Premier Chocolate Chip Cookies\n",
      "Woolworths Chocolate Chip Cookies\n",
      "Woolworths The King Of Chunky Chocolate Chip Cookies\n",
      "Arnott's Mini Choc Chip Cookie Multipack Biscuits\n",
      "Oreo Original Mini Cookies Multipack\n",
      "Oreo Minis Cookies Variety Bags 18 Pack\n",
      "Cadbury Classic Choc Chip Cookies\n",
      "Cadbury Choc Centre Cookies\n",
      "Byron Bay Cookies Dotty Cookie Bites\n",
      "Oreo Original Cookies\n",
      "Golden Circle Golden Pash Fruit Drink\n",
      "Golden Circle Drinks Pine Orange Fruit Drink\n",
      "Golden Circle Drinks Sunshine Punch Fruit Drink\n",
      "Golden Circle Fruit Drinks Lunch Box Poppers Tropical Punch Multipack\n",
      "Oreo Double Stuff Cookies\n",
      "Oreo Original Cookies Family Pack\n",
      "Oreo Chocolate Cookies\n",
      "Oreo Grab & Go Original Cookies 9 Pack\n",
      "Oreo Neapolitan Double Stuff Cookies\n",
      "Woolworths Creamed Rice\n",
      "Woolworths Tomato Sauce Squeeze\n",
      "Woolworths Tomato Sauce\n",
      "Woolworths Barbecue Sauce Squeeze\n",
      "Masterfoods Tomato Sauce\n",
      "Masterfoods Barbecue Sauce\n",
      "Fountain Tomato Sauce Squeeze\n",
      "Fountain Barbecue Bbq Sauce Squeeze\n",
      "Woolworths Secret Burger Sauce\n",
      "Heinz Ketchup Tomato Sauce Ketchup\n",
      "Woolworths Barbecue Sauce\n",
      "Smith's Crinkle Cut Potato Chips Barbecue\n",
      "Smith's Crinkle Cut Potato Chips Chicken\n",
      "Thins Chips Chicken\n",
      "Smith's Crinkle Cut Potato Chips Salt & Vinegar\n",
      "Thins Chips Light & Tangy\n",
      "Thins Cheese & Onion Chips\n",
      "Woolworths Peach In Strawberry Jelly\n",
      "Woolworths Two Fruits In Tropical Jelly\n",
      "Woolworths Apple In Pineapple Jelly\n",
      "Dole Pineapple Slices In Syrup\n",
      "\n",
      "HighFrequencyIngredientResearch：Flavour\n",
      "Product list：\n",
      "Coca - Cola Classic  Soft Drink Multipack Cans\n",
      "Coca - Cola Classic  Soft Drink Multipack Cans\n",
      "Coca - Cola Classic  Soft Drink Multipack Cans\n",
      "Coca - Cola Classic  Soft Drink Mini Cans\n",
      "Coca - Cola Vanilla  Soft Drink Multipack Cans\n",
      "Coca - Cola Zero Sugar Soft Drink Multipack Cans\n",
      "Coca - Cola Zero Sugar Soft Drink Multipack Cans\n",
      "Coca - Cola Zero Sugar Soft Drink Multipack Cans\n",
      "Coca - Cola Caffeine Free Zero Sugar Soft Drink Multipack Cans\n",
      "Coca - Cola Zero Sugar Soft Drink Mini Cans\n",
      "Maggi 2 Minute Beef Flavour Instant Noodles\n",
      "Kitkat 4 Finger Milk Chocolate Bar\n",
      "Kitkat Chunky Original Chocolate Bar\n",
      "Arnott's Premier Chocolate Chip Cookies\n",
      "Oreo Original Mini Cookies Multipack\n",
      "Oreo Minis Cookies Variety Bags 18 Pack\n",
      "Cadbury Classic Choc Chip Cookies\n",
      "Cadbury Choc Centre Cookies\n",
      "Byron Bay Cookies Dotty Cookie Bites\n",
      "Oreo Original Cookies\n",
      "Oreo Double Stuff Cookies\n",
      "Oreo Original Cookies Family Pack\n",
      "Oreo Chocolate Cookies\n",
      "Oreo Grab & Go Original Cookies 9 Pack\n",
      "Thins Chips Light & Tangy\n",
      "\n",
      "HighFrequencyIngredientResearch：Wheat Flour\n",
      "Product list：\n",
      "Indomie Mi Goreng Instant Noodles\n",
      "Maggi 2 Minute Chicken Flavour Instant Noodles\n",
      "Maggi 2 Minute Chicken Flavour Instant Noodles\n",
      "Supreme Noodles Cup Chicken Flavour\n",
      "Fantastic Chicken Noodle Cup\n",
      "Fantastic Chicken Noodle Bowl\n",
      "Indomie Mi Goreng Noodle Cup\n",
      "Maggi 2 Minute Beef Flavour Instant Noodles\n",
      "Supreme Noodles Cup Beef Flavour\n",
      "Kitkat 4 Finger Milk Chocolate Bar\n",
      "Kitkat Chunky Original Chocolate Bar\n",
      "Cadbury Chomp Chocolate Bar\n",
      "Arnott's Premier Chocolate Chip Cookies\n",
      "Woolworths Chocolate Chip Cookies\n",
      "Woolworths The King Of Chunky Chocolate Chip Cookies\n",
      "Arnott's Mini Choc Chip Cookie Multipack Biscuits\n",
      "Oreo Original Mini Cookies Multipack\n",
      "Oreo Minis Cookies Variety Bags 18 Pack\n",
      "Cadbury Classic Choc Chip Cookies\n",
      "Cadbury Choc Centre Cookies\n",
      "Byron Bay Cookies Dotty Cookie Bites\n",
      "Oreo Original Cookies\n",
      "Oreo Double Stuff Cookies\n",
      "Oreo Original Cookies Family Pack\n",
      "Oreo Chocolate Cookies\n",
      "Oreo Grab & Go Original Cookies 9 Pack\n",
      "Oreo Neapolitan Double Stuff Cookies\n",
      "\n",
      "HighFrequencyIngredientResearch：Salt\n",
      "Product list：\n",
      "Indomie Mi Goreng Instant Noodles\n",
      "Maggi 2 Minute Chicken Flavour Instant Noodles\n",
      "Maggi 2 Minute Chicken Flavour Instant Noodles\n",
      "Supreme Noodles Cup Chicken Flavour\n",
      "Fantastic Chicken Noodle Cup\n",
      "Fantastic Chicken Noodle Bowl\n",
      "Indomie Mi Goreng Noodle Cup\n",
      "Maggi 2 Minute Beef Flavour Instant Noodles\n",
      "Supreme Noodles Cup Beef Flavour\n",
      "Kitkat 4 Finger Milk Chocolate Bar\n",
      "Kitkat Chunky Original Chocolate Bar\n",
      "Cadbury Dairy Milk Caramello Koala Chocolate\n",
      "Mars Chocolate Bar With Nougat & Caramel\n",
      "Cadbury Chomp Chocolate Bar\n",
      "Arnott's Premier Chocolate Chip Cookies\n",
      "Woolworths Chocolate Chip Cookies\n",
      "Woolworths The King Of Chunky Chocolate Chip Cookies\n",
      "Arnott's Mini Choc Chip Cookie Multipack Biscuits\n",
      "Oreo Original Mini Cookies Multipack\n",
      "Oreo Minis Cookies Variety Bags 18 Pack\n",
      "Cadbury Classic Choc Chip Cookies\n",
      "Cadbury Choc Centre Cookies\n",
      "Byron Bay Cookies Dotty Cookie Bites\n",
      "Oreo Original Cookies\n",
      "Oreo Double Stuff Cookies\n",
      "Oreo Original Cookies Family Pack\n",
      "Oreo Chocolate Cookies\n",
      "Oreo Grab & Go Original Cookies 9 Pack\n",
      "Deep Cove Sardines In Oil\n",
      "Woolworths Creamed Rice\n",
      "Woolworths Tomato Sauce Squeeze\n",
      "Woolworths Tomato Sauce\n",
      "Woolworths Barbecue Sauce Squeeze\n",
      "Masterfoods Tomato Sauce\n",
      "Masterfoods Barbecue Sauce\n",
      "Fountain Tomato Sauce Squeeze\n",
      "Fountain Barbecue Bbq Sauce Squeeze\n",
      "Woolworths Secret Burger Sauce\n",
      "Heinz Ketchup Tomato Sauce Ketchup\n",
      "Woolworths Barbecue Sauce\n",
      "Smith's Crinkle Cut Potato Chips Original\n",
      "Smith's Crinkle Cut Potato Chips Cheese & Onion\n",
      "Smith's Crinkle Cut Potato Chips Barbecue\n",
      "Smith's Crinkle Cut Potato Chips Chicken\n",
      "Thins Chips Salt & Vinegar\n",
      "Smith's Thinly Cut Potato Chips Original Share Pack\n",
      "Thins Chips Chicken\n",
      "Smith's Crinkle Cut Potato Chips Salt & Vinegar\n",
      "Thins Chips Light & Tangy\n",
      "Thins Cheese & Onion Chips\n",
      "\n",
      "HighFrequencyIngredientResearch：Vegetable Oil\n",
      "Product list：\n",
      "Maggi 2 Minute Chicken Flavour Instant Noodles\n",
      "Maggi 2 Minute Chicken Flavour Instant Noodles\n",
      "Supreme Noodles Cup Chicken Flavour\n",
      "Fantastic Chicken Noodle Cup\n",
      "Fantastic Chicken Noodle Bowl\n",
      "Maggi 2 Minute Beef Flavour Instant Noodles\n",
      "Supreme Noodles Cup Beef Flavour\n",
      "Mars Chocolate Bar With Nougat & Caramel\n",
      "Cadbury Chomp Chocolate Bar\n",
      "Arnott's Premier Chocolate Chip Cookies\n",
      "Woolworths Chocolate Chip Cookies\n",
      "Woolworths The King Of Chunky Chocolate Chip Cookies\n",
      "Arnott's Mini Choc Chip Cookie Multipack Biscuits\n",
      "Oreo Original Mini Cookies Multipack\n",
      "Oreo Minis Cookies Variety Bags 18 Pack\n",
      "Cadbury Classic Choc Chip Cookies\n",
      "Cadbury Choc Centre Cookies\n",
      "Byron Bay Cookies Dotty Cookie Bites\n",
      "Oreo Original Cookies\n",
      "Oreo Double Stuff Cookies\n",
      "Oreo Original Cookies Family Pack\n",
      "Oreo Chocolate Cookies\n",
      "Oreo Grab & Go Original Cookies 9 Pack\n",
      "Oreo Neapolitan Double Stuff Cookies\n",
      "Deep Cove Sardines In Oil\n",
      "Thins Chips Salt & Vinegar\n",
      "Thins Chips Chicken\n",
      "Thins Chips Light & Tangy\n",
      "Thins Cheese & Onion Chips\n",
      "\n",
      "HighFrequencyIngredientResearch：Emulsifier Soy Lecithin\n",
      "Product list：\n",
      "Kitkat 4 Finger Milk Chocolate Bar\n",
      "Kitkat Chunky Original Chocolate Bar\n",
      "Cadbury Dairy Milk Caramello Koala Chocolate\n",
      "Mars Chocolate Bar With Nougat & Caramel\n",
      "Cadbury Dairy Milk Chocolate Roll\n",
      "Cadbury Dairy Milk Chocolate Bar\n",
      "Cadbury Twirl Chocolate Bar\n",
      "Cadbury Chomp Chocolate Bar\n",
      "Arnott's Premier Chocolate Chip Cookies\n",
      "Woolworths Chocolate Chip Cookies\n",
      "Woolworths The King Of Chunky Chocolate Chip Cookies\n",
      "Arnott's Mini Choc Chip Cookie Multipack Biscuits\n",
      "Oreo Original Mini Cookies Multipack\n",
      "Oreo Minis Cookies Variety Bags 18 Pack\n",
      "Cadbury Choc Centre Cookies\n",
      "Byron Bay Cookies Dotty Cookie Bites\n",
      "Oreo Original Cookies\n",
      "Oreo Double Stuff Cookies\n",
      "Oreo Original Cookies Family Pack\n",
      "Oreo Chocolate Cookies\n",
      "Oreo Grab & Go Original Cookies 9 Pack\n",
      "Oreo Neapolitan Double Stuff Cookies\n",
      "\n"
     ]
    }
   ],
   "source": [
    "from neo4j import GraphDatabase\n",
    "\n",
    "\n",
    "\n",
    "\n",
    "query = \"\"\"\n",
    "MATCH (p:Product)-[:HAS_RECIPE]->(r:Recipe)-[:USES_INGREDIENT]->(i:Ingredient)-[:HAS_RESEARCH]->(res:IngredientResearch)\n",
    "WITH res, COUNT(DISTINCT p) AS productCount, COUNT(DISTINCT i) AS ingredientCount\n",
    "\n",
    "MATCH (allProducts:Product)\n",
    "WITH res, productCount, ingredientCount, COUNT(allProducts) AS totalProductCount\n",
    "WITH res, productCount, ingredientCount, totalProductCount, toFloat(productCount) / toFloat(totalProductCount) AS frequencyRatio, 0.1 AS threshold\n",
    "WHERE frequencyRatio > threshold\n",
    "MATCH (p:Product)-[:HAS_RECIPE]->(:Recipe)-[:USES_INGREDIENT]->(:Ingredient)-[:HAS_RESEARCH]->(res)\n",
    "RETURN res.ingredient_name AS HighFrequencyIngredientResearch, collect(p.name) AS Products\n",
    "\n",
    "\"\"\"\n",
    "\n",
    "\n",
    "with driver.session() as session:\n",
    "    result = session.run(query)\n",
    "    data = result.data()\n",
    "\n",
    "grouped_products = {}\n",
    "\n",
    "\n",
    "for record in data:\n",
    "    ingredient_research = record['HighFrequencyIngredientResearch']\n",
    "    products = record['Products']\n",
    "    grouped_products[ingredient_research] = products\n",
    "\n",
    "\n",
    "for ingredient_research, products in grouped_products.items():\n",
    "    print(f\"HighFrequencyIngredientResearch：{ingredient_research}\")\n",
    "    print(\"Product list：\")\n",
    "    for product in products:\n",
    "        print(product)\n",
    "    print()\n"
   ]
  },
  {
   "cell_type": "code",
   "execution_count": 85,
   "metadata": {},
   "outputs": [
    {
     "data": {
      "application/vnd.plotly.v1+json": {
       "config": {
        "plotlyServerURL": "https://plot.ly"
       },
       "data": [
        {
         "cells": {
          "align": "left",
          "fill": {
           "color": "lavender"
          },
          "values": [
           [
            "Sugar"
           ],
           [
            "Coca - Cola Classic  Soft Drink Multipack Cans, Coca - Cola Classic  Soft Drink Multipack Cans, Coca - Cola Classic  Soft Drink Multipack Cans, Coca - Cola Classic  Soft Drink Mini Cans, Coca - Cola Vanilla  Soft Drink Multipack Cans, Indomie Mi Goreng Instant Noodles, Maggi 2 Minute Chicken Flavour Instant Noodles, Maggi 2 Minute Chicken Flavour Instant Noodles, Supreme Noodles Cup Chicken Flavour, Fantastic Chicken Noodle Cup, Fantastic Chicken Noodle Bowl, Indomie Mi Goreng Noodle Cup, Maggi 2 Minute Beef Flavour Instant Noodles, Supreme Noodles Cup Beef Flavour, Schweppes Indian Tonic Water Classic Mixers Bottle, Schweppes Lime Soda Water With Lime Juice Bottle, Schweppes Lemon Lime Natural Mineral Water Bottle, Schweppes Orange Mango Natural Mineral Water Bottle, Kitkat 4 Finger Milk Chocolate Bar, Kitkat Chunky Original Chocolate Bar, Cadbury Dairy Milk Caramello Koala Chocolate, Mars Chocolate Bar With Nougat & Caramel, Cadbury Dairy Milk Chocolate Roll, Cadbury Dairy Milk Chocolate Bar, Cadbury Twirl Chocolate Bar, Cadbury Chomp Chocolate Bar, Arnott's Premier Chocolate Chip Cookies, Woolworths Chocolate Chip Cookies, Woolworths The King Of Chunky Chocolate Chip Cookies, Arnott's Mini Choc Chip Cookie Multipack Biscuits, Oreo Original Mini Cookies Multipack, Oreo Minis Cookies Variety Bags 18 Pack, Cadbury Classic Choc Chip Cookies, Cadbury Choc Centre Cookies, Byron Bay Cookies Dotty Cookie Bites, Oreo Original Cookies, Golden Circle Golden Pash Fruit Drink, Golden Circle Drinks Pine Orange Fruit Drink, Golden Circle Drinks Sunshine Punch Fruit Drink, Golden Circle Fruit Drinks Lunch Box Poppers Tropical Punch Multipack, Oreo Double Stuff Cookies, Oreo Original Cookies Family Pack, Oreo Chocolate Cookies, Oreo Grab & Go Original Cookies 9 Pack, Oreo Neapolitan Double Stuff Cookies, Woolworths Creamed Rice, Woolworths Tomato Sauce Squeeze, Woolworths Tomato Sauce, Woolworths Barbecue Sauce Squeeze, Masterfoods Tomato Sauce, Masterfoods Barbecue Sauce, Fountain Tomato Sauce Squeeze, Fountain Barbecue Bbq Sauce Squeeze, Woolworths Secret Burger Sauce, Heinz Ketchup Tomato Sauce Ketchup, Woolworths Barbecue Sauce, Smith's Crinkle Cut Potato Chips Barbecue, Smith's Crinkle Cut Potato Chips Chicken, Thins Chips Chicken, Smith's Crinkle Cut Potato Chips Salt & Vinegar, Thins Chips Light & Tangy, Thins Cheese & Onion Chips, Woolworths Peach In Strawberry Jelly, Woolworths Two Fruits In Tropical Jelly, Woolworths Apple In Pineapple Jelly, Dole Pineapple Slices In Syrup"
           ]
          ]
         },
         "header": {
          "align": "left",
          "fill": {
           "color": "paleturquoise"
          },
          "values": [
           "HighFrequencyIngredientResearch",
           "Products"
          ]
         },
         "type": "table"
        },
        {
         "cells": {
          "align": "left",
          "fill": {
           "color": "lavender"
          },
          "values": [
           [
            "Flavour"
           ],
           [
            "Coca - Cola Classic  Soft Drink Multipack Cans, Coca - Cola Classic  Soft Drink Multipack Cans, Coca - Cola Classic  Soft Drink Multipack Cans, Coca - Cola Classic  Soft Drink Mini Cans, Coca - Cola Vanilla  Soft Drink Multipack Cans, Coca - Cola Zero Sugar Soft Drink Multipack Cans, Coca - Cola Zero Sugar Soft Drink Multipack Cans, Coca - Cola Zero Sugar Soft Drink Multipack Cans, Coca - Cola Caffeine Free Zero Sugar Soft Drink Multipack Cans, Coca - Cola Zero Sugar Soft Drink Mini Cans, Maggi 2 Minute Beef Flavour Instant Noodles, Kitkat 4 Finger Milk Chocolate Bar, Kitkat Chunky Original Chocolate Bar, Arnott's Premier Chocolate Chip Cookies, Oreo Original Mini Cookies Multipack, Oreo Minis Cookies Variety Bags 18 Pack, Cadbury Classic Choc Chip Cookies, Cadbury Choc Centre Cookies, Byron Bay Cookies Dotty Cookie Bites, Oreo Original Cookies, Oreo Double Stuff Cookies, Oreo Original Cookies Family Pack, Oreo Chocolate Cookies, Oreo Grab & Go Original Cookies 9 Pack, Thins Chips Light & Tangy"
           ]
          ]
         },
         "header": {
          "align": "left",
          "fill": {
           "color": "paleturquoise"
          },
          "values": [
           "HighFrequencyIngredientResearch",
           "Products"
          ]
         },
         "type": "table"
        },
        {
         "cells": {
          "align": "left",
          "fill": {
           "color": "lavender"
          },
          "values": [
           [
            "Wheat Flour"
           ],
           [
            "Indomie Mi Goreng Instant Noodles, Maggi 2 Minute Chicken Flavour Instant Noodles, Maggi 2 Minute Chicken Flavour Instant Noodles, Supreme Noodles Cup Chicken Flavour, Fantastic Chicken Noodle Cup, Fantastic Chicken Noodle Bowl, Indomie Mi Goreng Noodle Cup, Maggi 2 Minute Beef Flavour Instant Noodles, Supreme Noodles Cup Beef Flavour, Kitkat 4 Finger Milk Chocolate Bar, Kitkat Chunky Original Chocolate Bar, Cadbury Chomp Chocolate Bar, Arnott's Premier Chocolate Chip Cookies, Woolworths Chocolate Chip Cookies, Woolworths The King Of Chunky Chocolate Chip Cookies, Arnott's Mini Choc Chip Cookie Multipack Biscuits, Oreo Original Mini Cookies Multipack, Oreo Minis Cookies Variety Bags 18 Pack, Cadbury Classic Choc Chip Cookies, Cadbury Choc Centre Cookies, Byron Bay Cookies Dotty Cookie Bites, Oreo Original Cookies, Oreo Double Stuff Cookies, Oreo Original Cookies Family Pack, Oreo Chocolate Cookies, Oreo Grab & Go Original Cookies 9 Pack, Oreo Neapolitan Double Stuff Cookies"
           ]
          ]
         },
         "header": {
          "align": "left",
          "fill": {
           "color": "paleturquoise"
          },
          "values": [
           "HighFrequencyIngredientResearch",
           "Products"
          ]
         },
         "type": "table"
        },
        {
         "cells": {
          "align": "left",
          "fill": {
           "color": "lavender"
          },
          "values": [
           [
            "Salt"
           ],
           [
            "Indomie Mi Goreng Instant Noodles, Maggi 2 Minute Chicken Flavour Instant Noodles, Maggi 2 Minute Chicken Flavour Instant Noodles, Supreme Noodles Cup Chicken Flavour, Fantastic Chicken Noodle Cup, Fantastic Chicken Noodle Bowl, Indomie Mi Goreng Noodle Cup, Maggi 2 Minute Beef Flavour Instant Noodles, Supreme Noodles Cup Beef Flavour, Kitkat 4 Finger Milk Chocolate Bar, Kitkat Chunky Original Chocolate Bar, Cadbury Dairy Milk Caramello Koala Chocolate, Mars Chocolate Bar With Nougat & Caramel, Cadbury Chomp Chocolate Bar, Arnott's Premier Chocolate Chip Cookies, Woolworths Chocolate Chip Cookies, Woolworths The King Of Chunky Chocolate Chip Cookies, Arnott's Mini Choc Chip Cookie Multipack Biscuits, Oreo Original Mini Cookies Multipack, Oreo Minis Cookies Variety Bags 18 Pack, Cadbury Classic Choc Chip Cookies, Cadbury Choc Centre Cookies, Byron Bay Cookies Dotty Cookie Bites, Oreo Original Cookies, Oreo Double Stuff Cookies, Oreo Original Cookies Family Pack, Oreo Chocolate Cookies, Oreo Grab & Go Original Cookies 9 Pack, Deep Cove Sardines In Oil, Woolworths Creamed Rice, Woolworths Tomato Sauce Squeeze, Woolworths Tomato Sauce, Woolworths Barbecue Sauce Squeeze, Masterfoods Tomato Sauce, Masterfoods Barbecue Sauce, Fountain Tomato Sauce Squeeze, Fountain Barbecue Bbq Sauce Squeeze, Woolworths Secret Burger Sauce, Heinz Ketchup Tomato Sauce Ketchup, Woolworths Barbecue Sauce, Smith's Crinkle Cut Potato Chips Original, Smith's Crinkle Cut Potato Chips Cheese & Onion, Smith's Crinkle Cut Potato Chips Barbecue, Smith's Crinkle Cut Potato Chips Chicken, Thins Chips Salt & Vinegar, Smith's Thinly Cut Potato Chips Original Share Pack, Thins Chips Chicken, Smith's Crinkle Cut Potato Chips Salt & Vinegar, Thins Chips Light & Tangy, Thins Cheese & Onion Chips"
           ]
          ]
         },
         "header": {
          "align": "left",
          "fill": {
           "color": "paleturquoise"
          },
          "values": [
           "HighFrequencyIngredientResearch",
           "Products"
          ]
         },
         "type": "table"
        },
        {
         "cells": {
          "align": "left",
          "fill": {
           "color": "lavender"
          },
          "values": [
           [
            "Vegetable Oil"
           ],
           [
            "Maggi 2 Minute Chicken Flavour Instant Noodles, Maggi 2 Minute Chicken Flavour Instant Noodles, Supreme Noodles Cup Chicken Flavour, Fantastic Chicken Noodle Cup, Fantastic Chicken Noodle Bowl, Maggi 2 Minute Beef Flavour Instant Noodles, Supreme Noodles Cup Beef Flavour, Mars Chocolate Bar With Nougat & Caramel, Cadbury Chomp Chocolate Bar, Arnott's Premier Chocolate Chip Cookies, Woolworths Chocolate Chip Cookies, Woolworths The King Of Chunky Chocolate Chip Cookies, Arnott's Mini Choc Chip Cookie Multipack Biscuits, Oreo Original Mini Cookies Multipack, Oreo Minis Cookies Variety Bags 18 Pack, Cadbury Classic Choc Chip Cookies, Cadbury Choc Centre Cookies, Byron Bay Cookies Dotty Cookie Bites, Oreo Original Cookies, Oreo Double Stuff Cookies, Oreo Original Cookies Family Pack, Oreo Chocolate Cookies, Oreo Grab & Go Original Cookies 9 Pack, Oreo Neapolitan Double Stuff Cookies, Deep Cove Sardines In Oil, Thins Chips Salt & Vinegar, Thins Chips Chicken, Thins Chips Light & Tangy, Thins Cheese & Onion Chips"
           ]
          ]
         },
         "header": {
          "align": "left",
          "fill": {
           "color": "paleturquoise"
          },
          "values": [
           "HighFrequencyIngredientResearch",
           "Products"
          ]
         },
         "type": "table"
        },
        {
         "cells": {
          "align": "left",
          "fill": {
           "color": "lavender"
          },
          "values": [
           [
            "Emulsifier Soy Lecithin"
           ],
           [
            "Kitkat 4 Finger Milk Chocolate Bar, Kitkat Chunky Original Chocolate Bar, Cadbury Dairy Milk Caramello Koala Chocolate, Mars Chocolate Bar With Nougat & Caramel, Cadbury Dairy Milk Chocolate Roll, Cadbury Dairy Milk Chocolate Bar, Cadbury Twirl Chocolate Bar, Cadbury Chomp Chocolate Bar, Arnott's Premier Chocolate Chip Cookies, Woolworths Chocolate Chip Cookies, Woolworths The King Of Chunky Chocolate Chip Cookies, Arnott's Mini Choc Chip Cookie Multipack Biscuits, Oreo Original Mini Cookies Multipack, Oreo Minis Cookies Variety Bags 18 Pack, Cadbury Choc Centre Cookies, Byron Bay Cookies Dotty Cookie Bites, Oreo Original Cookies, Oreo Double Stuff Cookies, Oreo Original Cookies Family Pack, Oreo Chocolate Cookies, Oreo Grab & Go Original Cookies 9 Pack, Oreo Neapolitan Double Stuff Cookies"
           ]
          ]
         },
         "header": {
          "align": "left",
          "fill": {
           "color": "paleturquoise"
          },
          "values": [
           "HighFrequencyIngredientResearch",
           "Products"
          ]
         },
         "type": "table"
        }
       ],
       "layout": {
        "template": {
         "data": {
          "bar": [
           {
            "error_x": {
             "color": "#2a3f5f"
            },
            "error_y": {
             "color": "#2a3f5f"
            },
            "marker": {
             "line": {
              "color": "#E5ECF6",
              "width": 0.5
             },
             "pattern": {
              "fillmode": "overlay",
              "size": 10,
              "solidity": 0.2
             }
            },
            "type": "bar"
           }
          ],
          "barpolar": [
           {
            "marker": {
             "line": {
              "color": "#E5ECF6",
              "width": 0.5
             },
             "pattern": {
              "fillmode": "overlay",
              "size": 10,
              "solidity": 0.2
             }
            },
            "type": "barpolar"
           }
          ],
          "carpet": [
           {
            "aaxis": {
             "endlinecolor": "#2a3f5f",
             "gridcolor": "white",
             "linecolor": "white",
             "minorgridcolor": "white",
             "startlinecolor": "#2a3f5f"
            },
            "baxis": {
             "endlinecolor": "#2a3f5f",
             "gridcolor": "white",
             "linecolor": "white",
             "minorgridcolor": "white",
             "startlinecolor": "#2a3f5f"
            },
            "type": "carpet"
           }
          ],
          "choropleth": [
           {
            "colorbar": {
             "outlinewidth": 0,
             "ticks": ""
            },
            "type": "choropleth"
           }
          ],
          "contour": [
           {
            "colorbar": {
             "outlinewidth": 0,
             "ticks": ""
            },
            "colorscale": [
             [
              0,
              "#0d0887"
             ],
             [
              0.1111111111111111,
              "#46039f"
             ],
             [
              0.2222222222222222,
              "#7201a8"
             ],
             [
              0.3333333333333333,
              "#9c179e"
             ],
             [
              0.4444444444444444,
              "#bd3786"
             ],
             [
              0.5555555555555556,
              "#d8576b"
             ],
             [
              0.6666666666666666,
              "#ed7953"
             ],
             [
              0.7777777777777778,
              "#fb9f3a"
             ],
             [
              0.8888888888888888,
              "#fdca26"
             ],
             [
              1,
              "#f0f921"
             ]
            ],
            "type": "contour"
           }
          ],
          "contourcarpet": [
           {
            "colorbar": {
             "outlinewidth": 0,
             "ticks": ""
            },
            "type": "contourcarpet"
           }
          ],
          "heatmap": [
           {
            "colorbar": {
             "outlinewidth": 0,
             "ticks": ""
            },
            "colorscale": [
             [
              0,
              "#0d0887"
             ],
             [
              0.1111111111111111,
              "#46039f"
             ],
             [
              0.2222222222222222,
              "#7201a8"
             ],
             [
              0.3333333333333333,
              "#9c179e"
             ],
             [
              0.4444444444444444,
              "#bd3786"
             ],
             [
              0.5555555555555556,
              "#d8576b"
             ],
             [
              0.6666666666666666,
              "#ed7953"
             ],
             [
              0.7777777777777778,
              "#fb9f3a"
             ],
             [
              0.8888888888888888,
              "#fdca26"
             ],
             [
              1,
              "#f0f921"
             ]
            ],
            "type": "heatmap"
           }
          ],
          "heatmapgl": [
           {
            "colorbar": {
             "outlinewidth": 0,
             "ticks": ""
            },
            "colorscale": [
             [
              0,
              "#0d0887"
             ],
             [
              0.1111111111111111,
              "#46039f"
             ],
             [
              0.2222222222222222,
              "#7201a8"
             ],
             [
              0.3333333333333333,
              "#9c179e"
             ],
             [
              0.4444444444444444,
              "#bd3786"
             ],
             [
              0.5555555555555556,
              "#d8576b"
             ],
             [
              0.6666666666666666,
              "#ed7953"
             ],
             [
              0.7777777777777778,
              "#fb9f3a"
             ],
             [
              0.8888888888888888,
              "#fdca26"
             ],
             [
              1,
              "#f0f921"
             ]
            ],
            "type": "heatmapgl"
           }
          ],
          "histogram": [
           {
            "marker": {
             "pattern": {
              "fillmode": "overlay",
              "size": 10,
              "solidity": 0.2
             }
            },
            "type": "histogram"
           }
          ],
          "histogram2d": [
           {
            "colorbar": {
             "outlinewidth": 0,
             "ticks": ""
            },
            "colorscale": [
             [
              0,
              "#0d0887"
             ],
             [
              0.1111111111111111,
              "#46039f"
             ],
             [
              0.2222222222222222,
              "#7201a8"
             ],
             [
              0.3333333333333333,
              "#9c179e"
             ],
             [
              0.4444444444444444,
              "#bd3786"
             ],
             [
              0.5555555555555556,
              "#d8576b"
             ],
             [
              0.6666666666666666,
              "#ed7953"
             ],
             [
              0.7777777777777778,
              "#fb9f3a"
             ],
             [
              0.8888888888888888,
              "#fdca26"
             ],
             [
              1,
              "#f0f921"
             ]
            ],
            "type": "histogram2d"
           }
          ],
          "histogram2dcontour": [
           {
            "colorbar": {
             "outlinewidth": 0,
             "ticks": ""
            },
            "colorscale": [
             [
              0,
              "#0d0887"
             ],
             [
              0.1111111111111111,
              "#46039f"
             ],
             [
              0.2222222222222222,
              "#7201a8"
             ],
             [
              0.3333333333333333,
              "#9c179e"
             ],
             [
              0.4444444444444444,
              "#bd3786"
             ],
             [
              0.5555555555555556,
              "#d8576b"
             ],
             [
              0.6666666666666666,
              "#ed7953"
             ],
             [
              0.7777777777777778,
              "#fb9f3a"
             ],
             [
              0.8888888888888888,
              "#fdca26"
             ],
             [
              1,
              "#f0f921"
             ]
            ],
            "type": "histogram2dcontour"
           }
          ],
          "mesh3d": [
           {
            "colorbar": {
             "outlinewidth": 0,
             "ticks": ""
            },
            "type": "mesh3d"
           }
          ],
          "parcoords": [
           {
            "line": {
             "colorbar": {
              "outlinewidth": 0,
              "ticks": ""
             }
            },
            "type": "parcoords"
           }
          ],
          "pie": [
           {
            "automargin": true,
            "type": "pie"
           }
          ],
          "scatter": [
           {
            "fillpattern": {
             "fillmode": "overlay",
             "size": 10,
             "solidity": 0.2
            },
            "type": "scatter"
           }
          ],
          "scatter3d": [
           {
            "line": {
             "colorbar": {
              "outlinewidth": 0,
              "ticks": ""
             }
            },
            "marker": {
             "colorbar": {
              "outlinewidth": 0,
              "ticks": ""
             }
            },
            "type": "scatter3d"
           }
          ],
          "scattercarpet": [
           {
            "marker": {
             "colorbar": {
              "outlinewidth": 0,
              "ticks": ""
             }
            },
            "type": "scattercarpet"
           }
          ],
          "scattergeo": [
           {
            "marker": {
             "colorbar": {
              "outlinewidth": 0,
              "ticks": ""
             }
            },
            "type": "scattergeo"
           }
          ],
          "scattergl": [
           {
            "marker": {
             "colorbar": {
              "outlinewidth": 0,
              "ticks": ""
             }
            },
            "type": "scattergl"
           }
          ],
          "scattermapbox": [
           {
            "marker": {
             "colorbar": {
              "outlinewidth": 0,
              "ticks": ""
             }
            },
            "type": "scattermapbox"
           }
          ],
          "scatterpolar": [
           {
            "marker": {
             "colorbar": {
              "outlinewidth": 0,
              "ticks": ""
             }
            },
            "type": "scatterpolar"
           }
          ],
          "scatterpolargl": [
           {
            "marker": {
             "colorbar": {
              "outlinewidth": 0,
              "ticks": ""
             }
            },
            "type": "scatterpolargl"
           }
          ],
          "scatterternary": [
           {
            "marker": {
             "colorbar": {
              "outlinewidth": 0,
              "ticks": ""
             }
            },
            "type": "scatterternary"
           }
          ],
          "surface": [
           {
            "colorbar": {
             "outlinewidth": 0,
             "ticks": ""
            },
            "colorscale": [
             [
              0,
              "#0d0887"
             ],
             [
              0.1111111111111111,
              "#46039f"
             ],
             [
              0.2222222222222222,
              "#7201a8"
             ],
             [
              0.3333333333333333,
              "#9c179e"
             ],
             [
              0.4444444444444444,
              "#bd3786"
             ],
             [
              0.5555555555555556,
              "#d8576b"
             ],
             [
              0.6666666666666666,
              "#ed7953"
             ],
             [
              0.7777777777777778,
              "#fb9f3a"
             ],
             [
              0.8888888888888888,
              "#fdca26"
             ],
             [
              1,
              "#f0f921"
             ]
            ],
            "type": "surface"
           }
          ],
          "table": [
           {
            "cells": {
             "fill": {
              "color": "#EBF0F8"
             },
             "line": {
              "color": "white"
             }
            },
            "header": {
             "fill": {
              "color": "#C8D4E3"
             },
             "line": {
              "color": "white"
             }
            },
            "type": "table"
           }
          ]
         },
         "layout": {
          "annotationdefaults": {
           "arrowcolor": "#2a3f5f",
           "arrowhead": 0,
           "arrowwidth": 1
          },
          "autotypenumbers": "strict",
          "coloraxis": {
           "colorbar": {
            "outlinewidth": 0,
            "ticks": ""
           }
          },
          "colorscale": {
           "diverging": [
            [
             0,
             "#8e0152"
            ],
            [
             0.1,
             "#c51b7d"
            ],
            [
             0.2,
             "#de77ae"
            ],
            [
             0.3,
             "#f1b6da"
            ],
            [
             0.4,
             "#fde0ef"
            ],
            [
             0.5,
             "#f7f7f7"
            ],
            [
             0.6,
             "#e6f5d0"
            ],
            [
             0.7,
             "#b8e186"
            ],
            [
             0.8,
             "#7fbc41"
            ],
            [
             0.9,
             "#4d9221"
            ],
            [
             1,
             "#276419"
            ]
           ],
           "sequential": [
            [
             0,
             "#0d0887"
            ],
            [
             0.1111111111111111,
             "#46039f"
            ],
            [
             0.2222222222222222,
             "#7201a8"
            ],
            [
             0.3333333333333333,
             "#9c179e"
            ],
            [
             0.4444444444444444,
             "#bd3786"
            ],
            [
             0.5555555555555556,
             "#d8576b"
            ],
            [
             0.6666666666666666,
             "#ed7953"
            ],
            [
             0.7777777777777778,
             "#fb9f3a"
            ],
            [
             0.8888888888888888,
             "#fdca26"
            ],
            [
             1,
             "#f0f921"
            ]
           ],
           "sequentialminus": [
            [
             0,
             "#0d0887"
            ],
            [
             0.1111111111111111,
             "#46039f"
            ],
            [
             0.2222222222222222,
             "#7201a8"
            ],
            [
             0.3333333333333333,
             "#9c179e"
            ],
            [
             0.4444444444444444,
             "#bd3786"
            ],
            [
             0.5555555555555556,
             "#d8576b"
            ],
            [
             0.6666666666666666,
             "#ed7953"
            ],
            [
             0.7777777777777778,
             "#fb9f3a"
            ],
            [
             0.8888888888888888,
             "#fdca26"
            ],
            [
             1,
             "#f0f921"
            ]
           ]
          },
          "colorway": [
           "#636efa",
           "#EF553B",
           "#00cc96",
           "#ab63fa",
           "#FFA15A",
           "#19d3f3",
           "#FF6692",
           "#B6E880",
           "#FF97FF",
           "#FECB52"
          ],
          "font": {
           "color": "#2a3f5f"
          },
          "geo": {
           "bgcolor": "white",
           "lakecolor": "white",
           "landcolor": "#E5ECF6",
           "showlakes": true,
           "showland": true,
           "subunitcolor": "white"
          },
          "hoverlabel": {
           "align": "left"
          },
          "hovermode": "closest",
          "mapbox": {
           "style": "light"
          },
          "paper_bgcolor": "white",
          "plot_bgcolor": "#E5ECF6",
          "polar": {
           "angularaxis": {
            "gridcolor": "white",
            "linecolor": "white",
            "ticks": ""
           },
           "bgcolor": "#E5ECF6",
           "radialaxis": {
            "gridcolor": "white",
            "linecolor": "white",
            "ticks": ""
           }
          },
          "scene": {
           "xaxis": {
            "backgroundcolor": "#E5ECF6",
            "gridcolor": "white",
            "gridwidth": 2,
            "linecolor": "white",
            "showbackground": true,
            "ticks": "",
            "zerolinecolor": "white"
           },
           "yaxis": {
            "backgroundcolor": "#E5ECF6",
            "gridcolor": "white",
            "gridwidth": 2,
            "linecolor": "white",
            "showbackground": true,
            "ticks": "",
            "zerolinecolor": "white"
           },
           "zaxis": {
            "backgroundcolor": "#E5ECF6",
            "gridcolor": "white",
            "gridwidth": 2,
            "linecolor": "white",
            "showbackground": true,
            "ticks": "",
            "zerolinecolor": "white"
           }
          },
          "shapedefaults": {
           "line": {
            "color": "#2a3f5f"
           }
          },
          "ternary": {
           "aaxis": {
            "gridcolor": "white",
            "linecolor": "white",
            "ticks": ""
           },
           "baxis": {
            "gridcolor": "white",
            "linecolor": "white",
            "ticks": ""
           },
           "bgcolor": "#E5ECF6",
           "caxis": {
            "gridcolor": "white",
            "linecolor": "white",
            "ticks": ""
           }
          },
          "title": {
           "x": 0.05
          },
          "xaxis": {
           "automargin": true,
           "gridcolor": "white",
           "linecolor": "white",
           "ticks": "",
           "title": {
            "standoff": 15
           },
           "zerolinecolor": "white",
           "zerolinewidth": 2
          },
          "yaxis": {
           "automargin": true,
           "gridcolor": "white",
           "linecolor": "white",
           "ticks": "",
           "title": {
            "standoff": 15
           },
           "zerolinecolor": "white",
           "zerolinewidth": 2
          }
         }
        },
        "title": {
         "text": "High Frequency Ingredient Research and Associated Products"
        }
       }
      }
     },
     "metadata": {},
     "output_type": "display_data"
    }
   ],
   "source": [
    "import plotly.graph_objects as go\n",
    "from neo4j import GraphDatabase\n",
    "\n",
    "\n",
    "\n",
    "query = \"\"\"\n",
    "MATCH (p:Product)\n",
    "WITH count(p) AS totalProductCount\n",
    "MATCH (p:Product)-[:HAS_RECIPE]->(:Recipe)-[:USES_INGREDIENT]->(:Ingredient)-[:HAS_RESEARCH]->(res:IngredientResearch)\n",
    "WITH res, COUNT(DISTINCT p) AS productCount, totalProductCount, 0.1 AS threshold\n",
    "WITH res, productCount, totalProductCount, toFloat(productCount) / toFloat(totalProductCount) AS frequencyRatio, threshold\n",
    "WHERE frequencyRatio > threshold\n",
    "MATCH (p:Product)-[:HAS_RECIPE]->(:Recipe)-[:USES_INGREDIENT]->(:Ingredient)-[:HAS_RESEARCH]->(res)\n",
    "RETURN res.ingredient_name AS HighFrequencyIngredientResearch, collect(p.name) AS Products\n",
    "\n",
    "\"\"\"\n",
    "\n",
    "\n",
    "with driver.session() as session:\n",
    "    result = session.run(query)\n",
    "    data = result.data()\n",
    "\n",
    "\n",
    "high_frequency_ingredient_research = []\n",
    "product_lists = []\n",
    "\n",
    "for record in data:\n",
    "    high_frequency_ingredient_research.append(record['HighFrequencyIngredientResearch'])\n",
    "    product_lists.append(record['Products'])\n",
    "\n",
    "\n",
    "fig = go.Figure()\n",
    "\n",
    "for ingredient_research, products in zip(high_frequency_ingredient_research, product_lists):\n",
    "    fig.add_trace(go.Table(\n",
    "        header=dict(values=['HighFrequencyIngredientResearch', 'Products'],\n",
    "                    fill_color='paleturquoise',\n",
    "                    align='left'),\n",
    "        cells=dict(values=[[ingredient_research], [\", \".join(products)]],\n",
    "                   fill_color='lavender',\n",
    "                   align='left'))\n",
    "    )\n",
    "\n",
    "fig.update_layout(title='High Frequency Ingredient Research and Associated Products')\n",
    "\n",
    "\n",
    "fig.show()\n"
   ]
  },
  {
   "cell_type": "code",
   "execution_count": 86,
   "metadata": {},
   "outputs": [
    {
     "data": {
      "application/vnd.plotly.v1+json": {
       "config": {
        "plotlyServerURL": "https://plot.ly"
       },
       "data": [
        {
         "cells": {
          "values": [
           [
            "Wheat Flour",
            "Vegetable Oil",
            "Sugar",
            "Salt",
            "Flavour",
            "Emulsifier Soy Lecithin"
           ],
           [
            [
             "Indomie Mi Goreng Instant Noodles",
             "Maggi 2 Minute Chicken Flavour Instant Noodles",
             "Maggi 2 Minute Chicken Flavour Instant Noodles",
             "Supreme Noodles Cup Chicken Flavour",
             "Fantastic Chicken Noodle Cup",
             "Fantastic Chicken Noodle Bowl",
             "Indomie Mi Goreng Noodle Cup",
             "Maggi 2 Minute Beef Flavour Instant Noodles",
             "Supreme Noodles Cup Beef Flavour",
             "Kitkat 4 Finger Milk Chocolate Bar",
             "Kitkat Chunky Original Chocolate Bar",
             "Cadbury Chomp Chocolate Bar",
             "Arnott's Premier Chocolate Chip Cookies",
             "Woolworths Chocolate Chip Cookies",
             "Woolworths The King Of Chunky Chocolate Chip Cookies",
             "Arnott's Mini Choc Chip Cookie Multipack Biscuits",
             "Oreo Original Mini Cookies Multipack",
             "Oreo Minis Cookies Variety Bags 18 Pack",
             "Cadbury Classic Choc Chip Cookies",
             "Cadbury Choc Centre Cookies",
             "Byron Bay Cookies Dotty Cookie Bites",
             "Oreo Original Cookies",
             "Oreo Double Stuff Cookies",
             "Oreo Original Cookies Family Pack",
             "Oreo Chocolate Cookies",
             "Oreo Grab & Go Original Cookies 9 Pack",
             "Oreo Neapolitan Double Stuff Cookies"
            ],
            [
             "Maggi 2 Minute Chicken Flavour Instant Noodles",
             "Maggi 2 Minute Chicken Flavour Instant Noodles",
             "Supreme Noodles Cup Chicken Flavour",
             "Fantastic Chicken Noodle Cup",
             "Fantastic Chicken Noodle Bowl",
             "Maggi 2 Minute Beef Flavour Instant Noodles",
             "Supreme Noodles Cup Beef Flavour",
             "Mars Chocolate Bar With Nougat & Caramel",
             "Cadbury Chomp Chocolate Bar",
             "Arnott's Premier Chocolate Chip Cookies",
             "Woolworths Chocolate Chip Cookies",
             "Woolworths The King Of Chunky Chocolate Chip Cookies",
             "Arnott's Mini Choc Chip Cookie Multipack Biscuits",
             "Oreo Original Mini Cookies Multipack",
             "Oreo Minis Cookies Variety Bags 18 Pack",
             "Cadbury Classic Choc Chip Cookies",
             "Cadbury Choc Centre Cookies",
             "Byron Bay Cookies Dotty Cookie Bites",
             "Oreo Original Cookies",
             "Oreo Double Stuff Cookies",
             "Oreo Original Cookies Family Pack",
             "Oreo Chocolate Cookies",
             "Oreo Grab & Go Original Cookies 9 Pack",
             "Oreo Neapolitan Double Stuff Cookies",
             "Deep Cove Sardines In Oil",
             "Thins Chips Salt & Vinegar",
             "Thins Chips Chicken",
             "Thins Chips Light & Tangy",
             "Thins Cheese & Onion Chips"
            ],
            [
             "Coca - Cola Classic  Soft Drink Multipack Cans",
             "Coca - Cola Classic  Soft Drink Multipack Cans",
             "Coca - Cola Classic  Soft Drink Multipack Cans",
             "Coca - Cola Classic  Soft Drink Mini Cans",
             "Coca - Cola Vanilla  Soft Drink Multipack Cans",
             "Indomie Mi Goreng Instant Noodles",
             "Maggi 2 Minute Chicken Flavour Instant Noodles",
             "Maggi 2 Minute Chicken Flavour Instant Noodles",
             "Supreme Noodles Cup Chicken Flavour",
             "Fantastic Chicken Noodle Cup",
             "Fantastic Chicken Noodle Bowl",
             "Indomie Mi Goreng Noodle Cup",
             "Maggi 2 Minute Beef Flavour Instant Noodles",
             "Supreme Noodles Cup Beef Flavour",
             "Schweppes Indian Tonic Water Classic Mixers Bottle",
             "Schweppes Lime Soda Water With Lime Juice Bottle",
             "Schweppes Lemon Lime Natural Mineral Water Bottle",
             "Schweppes Orange Mango Natural Mineral Water Bottle",
             "Kitkat 4 Finger Milk Chocolate Bar",
             "Kitkat Chunky Original Chocolate Bar",
             "Cadbury Dairy Milk Caramello Koala Chocolate",
             "Mars Chocolate Bar With Nougat & Caramel",
             "Cadbury Dairy Milk Chocolate Roll",
             "Cadbury Dairy Milk Chocolate Bar",
             "Cadbury Twirl Chocolate Bar",
             "Cadbury Chomp Chocolate Bar",
             "Arnott's Premier Chocolate Chip Cookies",
             "Woolworths Chocolate Chip Cookies",
             "Woolworths The King Of Chunky Chocolate Chip Cookies",
             "Arnott's Mini Choc Chip Cookie Multipack Biscuits",
             "Oreo Original Mini Cookies Multipack",
             "Oreo Minis Cookies Variety Bags 18 Pack",
             "Cadbury Classic Choc Chip Cookies",
             "Cadbury Choc Centre Cookies",
             "Byron Bay Cookies Dotty Cookie Bites",
             "Oreo Original Cookies",
             "Golden Circle Golden Pash Fruit Drink",
             "Golden Circle Drinks Pine Orange Fruit Drink",
             "Golden Circle Drinks Sunshine Punch Fruit Drink",
             "Golden Circle Fruit Drinks Lunch Box Poppers Tropical Punch Multipack",
             "Oreo Double Stuff Cookies",
             "Oreo Original Cookies Family Pack",
             "Oreo Chocolate Cookies",
             "Oreo Grab & Go Original Cookies 9 Pack",
             "Oreo Neapolitan Double Stuff Cookies",
             "Woolworths Creamed Rice",
             "Woolworths Tomato Sauce Squeeze",
             "Woolworths Tomato Sauce",
             "Woolworths Barbecue Sauce Squeeze",
             "Masterfoods Tomato Sauce",
             "Masterfoods Barbecue Sauce",
             "Fountain Tomato Sauce Squeeze",
             "Fountain Barbecue Bbq Sauce Squeeze",
             "Woolworths Secret Burger Sauce",
             "Heinz Ketchup Tomato Sauce Ketchup",
             "Woolworths Barbecue Sauce",
             "Smith's Crinkle Cut Potato Chips Barbecue",
             "Smith's Crinkle Cut Potato Chips Chicken",
             "Thins Chips Chicken",
             "Smith's Crinkle Cut Potato Chips Salt & Vinegar",
             "Thins Chips Light & Tangy",
             "Thins Cheese & Onion Chips",
             "Woolworths Peach In Strawberry Jelly",
             "Woolworths Two Fruits In Tropical Jelly",
             "Woolworths Apple In Pineapple Jelly",
             "Dole Pineapple Slices In Syrup"
            ],
            [
             "Indomie Mi Goreng Instant Noodles",
             "Maggi 2 Minute Chicken Flavour Instant Noodles",
             "Maggi 2 Minute Chicken Flavour Instant Noodles",
             "Supreme Noodles Cup Chicken Flavour",
             "Fantastic Chicken Noodle Cup",
             "Fantastic Chicken Noodle Bowl",
             "Indomie Mi Goreng Noodle Cup",
             "Maggi 2 Minute Beef Flavour Instant Noodles",
             "Supreme Noodles Cup Beef Flavour",
             "Kitkat 4 Finger Milk Chocolate Bar",
             "Kitkat Chunky Original Chocolate Bar",
             "Cadbury Dairy Milk Caramello Koala Chocolate",
             "Mars Chocolate Bar With Nougat & Caramel",
             "Cadbury Chomp Chocolate Bar",
             "Arnott's Premier Chocolate Chip Cookies",
             "Woolworths Chocolate Chip Cookies",
             "Woolworths The King Of Chunky Chocolate Chip Cookies",
             "Arnott's Mini Choc Chip Cookie Multipack Biscuits",
             "Oreo Original Mini Cookies Multipack",
             "Oreo Minis Cookies Variety Bags 18 Pack",
             "Cadbury Classic Choc Chip Cookies",
             "Cadbury Choc Centre Cookies",
             "Byron Bay Cookies Dotty Cookie Bites",
             "Oreo Original Cookies",
             "Oreo Double Stuff Cookies",
             "Oreo Original Cookies Family Pack",
             "Oreo Chocolate Cookies",
             "Oreo Grab & Go Original Cookies 9 Pack",
             "Deep Cove Sardines In Oil",
             "Woolworths Creamed Rice",
             "Woolworths Tomato Sauce Squeeze",
             "Woolworths Tomato Sauce",
             "Woolworths Barbecue Sauce Squeeze",
             "Masterfoods Tomato Sauce",
             "Masterfoods Barbecue Sauce",
             "Fountain Tomato Sauce Squeeze",
             "Fountain Barbecue Bbq Sauce Squeeze",
             "Woolworths Secret Burger Sauce",
             "Heinz Ketchup Tomato Sauce Ketchup",
             "Woolworths Barbecue Sauce",
             "Smith's Crinkle Cut Potato Chips Original",
             "Smith's Crinkle Cut Potato Chips Cheese & Onion",
             "Smith's Crinkle Cut Potato Chips Barbecue",
             "Smith's Crinkle Cut Potato Chips Chicken",
             "Thins Chips Salt & Vinegar",
             "Smith's Thinly Cut Potato Chips Original Share Pack",
             "Thins Chips Chicken",
             "Smith's Crinkle Cut Potato Chips Salt & Vinegar",
             "Thins Chips Light & Tangy",
             "Thins Cheese & Onion Chips"
            ],
            [
             "Coca - Cola Classic  Soft Drink Multipack Cans",
             "Coca - Cola Classic  Soft Drink Multipack Cans",
             "Coca - Cola Classic  Soft Drink Multipack Cans",
             "Coca - Cola Classic  Soft Drink Mini Cans",
             "Coca - Cola Vanilla  Soft Drink Multipack Cans",
             "Coca - Cola Zero Sugar Soft Drink Multipack Cans",
             "Coca - Cola Zero Sugar Soft Drink Multipack Cans",
             "Coca - Cola Zero Sugar Soft Drink Multipack Cans",
             "Coca - Cola Caffeine Free Zero Sugar Soft Drink Multipack Cans",
             "Coca - Cola Zero Sugar Soft Drink Mini Cans",
             "Maggi 2 Minute Beef Flavour Instant Noodles",
             "Kitkat 4 Finger Milk Chocolate Bar",
             "Kitkat Chunky Original Chocolate Bar",
             "Arnott's Premier Chocolate Chip Cookies",
             "Oreo Original Mini Cookies Multipack",
             "Oreo Minis Cookies Variety Bags 18 Pack",
             "Cadbury Classic Choc Chip Cookies",
             "Cadbury Choc Centre Cookies",
             "Byron Bay Cookies Dotty Cookie Bites",
             "Oreo Original Cookies",
             "Oreo Double Stuff Cookies",
             "Oreo Original Cookies Family Pack",
             "Oreo Chocolate Cookies",
             "Oreo Grab & Go Original Cookies 9 Pack",
             "Thins Chips Light & Tangy"
            ],
            [
             "Kitkat 4 Finger Milk Chocolate Bar",
             "Kitkat Chunky Original Chocolate Bar",
             "Cadbury Dairy Milk Caramello Koala Chocolate",
             "Mars Chocolate Bar With Nougat & Caramel",
             "Cadbury Dairy Milk Chocolate Roll",
             "Cadbury Dairy Milk Chocolate Bar",
             "Cadbury Twirl Chocolate Bar",
             "Cadbury Chomp Chocolate Bar",
             "Arnott's Premier Chocolate Chip Cookies",
             "Woolworths Chocolate Chip Cookies",
             "Woolworths The King Of Chunky Chocolate Chip Cookies",
             "Arnott's Mini Choc Chip Cookie Multipack Biscuits",
             "Oreo Original Mini Cookies Multipack",
             "Oreo Minis Cookies Variety Bags 18 Pack",
             "Cadbury Choc Centre Cookies",
             "Byron Bay Cookies Dotty Cookie Bites",
             "Oreo Original Cookies",
             "Oreo Double Stuff Cookies",
             "Oreo Original Cookies Family Pack",
             "Oreo Chocolate Cookies",
             "Oreo Grab & Go Original Cookies 9 Pack",
             "Oreo Neapolitan Double Stuff Cookies"
            ]
           ],
           [
            "Group 1",
            "Group 2",
            "Group 3",
            "Group 4",
            "Group 5",
            "Group 6"
           ]
          ]
         },
         "header": {
          "values": [
           "HighFrequencyIngredientResearch",
           "Products",
           "GroupNumber"
          ]
         },
         "type": "table"
        }
       ],
       "layout": {
        "template": {
         "data": {
          "bar": [
           {
            "error_x": {
             "color": "#2a3f5f"
            },
            "error_y": {
             "color": "#2a3f5f"
            },
            "marker": {
             "line": {
              "color": "#E5ECF6",
              "width": 0.5
             },
             "pattern": {
              "fillmode": "overlay",
              "size": 10,
              "solidity": 0.2
             }
            },
            "type": "bar"
           }
          ],
          "barpolar": [
           {
            "marker": {
             "line": {
              "color": "#E5ECF6",
              "width": 0.5
             },
             "pattern": {
              "fillmode": "overlay",
              "size": 10,
              "solidity": 0.2
             }
            },
            "type": "barpolar"
           }
          ],
          "carpet": [
           {
            "aaxis": {
             "endlinecolor": "#2a3f5f",
             "gridcolor": "white",
             "linecolor": "white",
             "minorgridcolor": "white",
             "startlinecolor": "#2a3f5f"
            },
            "baxis": {
             "endlinecolor": "#2a3f5f",
             "gridcolor": "white",
             "linecolor": "white",
             "minorgridcolor": "white",
             "startlinecolor": "#2a3f5f"
            },
            "type": "carpet"
           }
          ],
          "choropleth": [
           {
            "colorbar": {
             "outlinewidth": 0,
             "ticks": ""
            },
            "type": "choropleth"
           }
          ],
          "contour": [
           {
            "colorbar": {
             "outlinewidth": 0,
             "ticks": ""
            },
            "colorscale": [
             [
              0,
              "#0d0887"
             ],
             [
              0.1111111111111111,
              "#46039f"
             ],
             [
              0.2222222222222222,
              "#7201a8"
             ],
             [
              0.3333333333333333,
              "#9c179e"
             ],
             [
              0.4444444444444444,
              "#bd3786"
             ],
             [
              0.5555555555555556,
              "#d8576b"
             ],
             [
              0.6666666666666666,
              "#ed7953"
             ],
             [
              0.7777777777777778,
              "#fb9f3a"
             ],
             [
              0.8888888888888888,
              "#fdca26"
             ],
             [
              1,
              "#f0f921"
             ]
            ],
            "type": "contour"
           }
          ],
          "contourcarpet": [
           {
            "colorbar": {
             "outlinewidth": 0,
             "ticks": ""
            },
            "type": "contourcarpet"
           }
          ],
          "heatmap": [
           {
            "colorbar": {
             "outlinewidth": 0,
             "ticks": ""
            },
            "colorscale": [
             [
              0,
              "#0d0887"
             ],
             [
              0.1111111111111111,
              "#46039f"
             ],
             [
              0.2222222222222222,
              "#7201a8"
             ],
             [
              0.3333333333333333,
              "#9c179e"
             ],
             [
              0.4444444444444444,
              "#bd3786"
             ],
             [
              0.5555555555555556,
              "#d8576b"
             ],
             [
              0.6666666666666666,
              "#ed7953"
             ],
             [
              0.7777777777777778,
              "#fb9f3a"
             ],
             [
              0.8888888888888888,
              "#fdca26"
             ],
             [
              1,
              "#f0f921"
             ]
            ],
            "type": "heatmap"
           }
          ],
          "heatmapgl": [
           {
            "colorbar": {
             "outlinewidth": 0,
             "ticks": ""
            },
            "colorscale": [
             [
              0,
              "#0d0887"
             ],
             [
              0.1111111111111111,
              "#46039f"
             ],
             [
              0.2222222222222222,
              "#7201a8"
             ],
             [
              0.3333333333333333,
              "#9c179e"
             ],
             [
              0.4444444444444444,
              "#bd3786"
             ],
             [
              0.5555555555555556,
              "#d8576b"
             ],
             [
              0.6666666666666666,
              "#ed7953"
             ],
             [
              0.7777777777777778,
              "#fb9f3a"
             ],
             [
              0.8888888888888888,
              "#fdca26"
             ],
             [
              1,
              "#f0f921"
             ]
            ],
            "type": "heatmapgl"
           }
          ],
          "histogram": [
           {
            "marker": {
             "pattern": {
              "fillmode": "overlay",
              "size": 10,
              "solidity": 0.2
             }
            },
            "type": "histogram"
           }
          ],
          "histogram2d": [
           {
            "colorbar": {
             "outlinewidth": 0,
             "ticks": ""
            },
            "colorscale": [
             [
              0,
              "#0d0887"
             ],
             [
              0.1111111111111111,
              "#46039f"
             ],
             [
              0.2222222222222222,
              "#7201a8"
             ],
             [
              0.3333333333333333,
              "#9c179e"
             ],
             [
              0.4444444444444444,
              "#bd3786"
             ],
             [
              0.5555555555555556,
              "#d8576b"
             ],
             [
              0.6666666666666666,
              "#ed7953"
             ],
             [
              0.7777777777777778,
              "#fb9f3a"
             ],
             [
              0.8888888888888888,
              "#fdca26"
             ],
             [
              1,
              "#f0f921"
             ]
            ],
            "type": "histogram2d"
           }
          ],
          "histogram2dcontour": [
           {
            "colorbar": {
             "outlinewidth": 0,
             "ticks": ""
            },
            "colorscale": [
             [
              0,
              "#0d0887"
             ],
             [
              0.1111111111111111,
              "#46039f"
             ],
             [
              0.2222222222222222,
              "#7201a8"
             ],
             [
              0.3333333333333333,
              "#9c179e"
             ],
             [
              0.4444444444444444,
              "#bd3786"
             ],
             [
              0.5555555555555556,
              "#d8576b"
             ],
             [
              0.6666666666666666,
              "#ed7953"
             ],
             [
              0.7777777777777778,
              "#fb9f3a"
             ],
             [
              0.8888888888888888,
              "#fdca26"
             ],
             [
              1,
              "#f0f921"
             ]
            ],
            "type": "histogram2dcontour"
           }
          ],
          "mesh3d": [
           {
            "colorbar": {
             "outlinewidth": 0,
             "ticks": ""
            },
            "type": "mesh3d"
           }
          ],
          "parcoords": [
           {
            "line": {
             "colorbar": {
              "outlinewidth": 0,
              "ticks": ""
             }
            },
            "type": "parcoords"
           }
          ],
          "pie": [
           {
            "automargin": true,
            "type": "pie"
           }
          ],
          "scatter": [
           {
            "fillpattern": {
             "fillmode": "overlay",
             "size": 10,
             "solidity": 0.2
            },
            "type": "scatter"
           }
          ],
          "scatter3d": [
           {
            "line": {
             "colorbar": {
              "outlinewidth": 0,
              "ticks": ""
             }
            },
            "marker": {
             "colorbar": {
              "outlinewidth": 0,
              "ticks": ""
             }
            },
            "type": "scatter3d"
           }
          ],
          "scattercarpet": [
           {
            "marker": {
             "colorbar": {
              "outlinewidth": 0,
              "ticks": ""
             }
            },
            "type": "scattercarpet"
           }
          ],
          "scattergeo": [
           {
            "marker": {
             "colorbar": {
              "outlinewidth": 0,
              "ticks": ""
             }
            },
            "type": "scattergeo"
           }
          ],
          "scattergl": [
           {
            "marker": {
             "colorbar": {
              "outlinewidth": 0,
              "ticks": ""
             }
            },
            "type": "scattergl"
           }
          ],
          "scattermapbox": [
           {
            "marker": {
             "colorbar": {
              "outlinewidth": 0,
              "ticks": ""
             }
            },
            "type": "scattermapbox"
           }
          ],
          "scatterpolar": [
           {
            "marker": {
             "colorbar": {
              "outlinewidth": 0,
              "ticks": ""
             }
            },
            "type": "scatterpolar"
           }
          ],
          "scatterpolargl": [
           {
            "marker": {
             "colorbar": {
              "outlinewidth": 0,
              "ticks": ""
             }
            },
            "type": "scatterpolargl"
           }
          ],
          "scatterternary": [
           {
            "marker": {
             "colorbar": {
              "outlinewidth": 0,
              "ticks": ""
             }
            },
            "type": "scatterternary"
           }
          ],
          "surface": [
           {
            "colorbar": {
             "outlinewidth": 0,
             "ticks": ""
            },
            "colorscale": [
             [
              0,
              "#0d0887"
             ],
             [
              0.1111111111111111,
              "#46039f"
             ],
             [
              0.2222222222222222,
              "#7201a8"
             ],
             [
              0.3333333333333333,
              "#9c179e"
             ],
             [
              0.4444444444444444,
              "#bd3786"
             ],
             [
              0.5555555555555556,
              "#d8576b"
             ],
             [
              0.6666666666666666,
              "#ed7953"
             ],
             [
              0.7777777777777778,
              "#fb9f3a"
             ],
             [
              0.8888888888888888,
              "#fdca26"
             ],
             [
              1,
              "#f0f921"
             ]
            ],
            "type": "surface"
           }
          ],
          "table": [
           {
            "cells": {
             "fill": {
              "color": "#EBF0F8"
             },
             "line": {
              "color": "white"
             }
            },
            "header": {
             "fill": {
              "color": "#C8D4E3"
             },
             "line": {
              "color": "white"
             }
            },
            "type": "table"
           }
          ]
         },
         "layout": {
          "annotationdefaults": {
           "arrowcolor": "#2a3f5f",
           "arrowhead": 0,
           "arrowwidth": 1
          },
          "autotypenumbers": "strict",
          "coloraxis": {
           "colorbar": {
            "outlinewidth": 0,
            "ticks": ""
           }
          },
          "colorscale": {
           "diverging": [
            [
             0,
             "#8e0152"
            ],
            [
             0.1,
             "#c51b7d"
            ],
            [
             0.2,
             "#de77ae"
            ],
            [
             0.3,
             "#f1b6da"
            ],
            [
             0.4,
             "#fde0ef"
            ],
            [
             0.5,
             "#f7f7f7"
            ],
            [
             0.6,
             "#e6f5d0"
            ],
            [
             0.7,
             "#b8e186"
            ],
            [
             0.8,
             "#7fbc41"
            ],
            [
             0.9,
             "#4d9221"
            ],
            [
             1,
             "#276419"
            ]
           ],
           "sequential": [
            [
             0,
             "#0d0887"
            ],
            [
             0.1111111111111111,
             "#46039f"
            ],
            [
             0.2222222222222222,
             "#7201a8"
            ],
            [
             0.3333333333333333,
             "#9c179e"
            ],
            [
             0.4444444444444444,
             "#bd3786"
            ],
            [
             0.5555555555555556,
             "#d8576b"
            ],
            [
             0.6666666666666666,
             "#ed7953"
            ],
            [
             0.7777777777777778,
             "#fb9f3a"
            ],
            [
             0.8888888888888888,
             "#fdca26"
            ],
            [
             1,
             "#f0f921"
            ]
           ],
           "sequentialminus": [
            [
             0,
             "#0d0887"
            ],
            [
             0.1111111111111111,
             "#46039f"
            ],
            [
             0.2222222222222222,
             "#7201a8"
            ],
            [
             0.3333333333333333,
             "#9c179e"
            ],
            [
             0.4444444444444444,
             "#bd3786"
            ],
            [
             0.5555555555555556,
             "#d8576b"
            ],
            [
             0.6666666666666666,
             "#ed7953"
            ],
            [
             0.7777777777777778,
             "#fb9f3a"
            ],
            [
             0.8888888888888888,
             "#fdca26"
            ],
            [
             1,
             "#f0f921"
            ]
           ]
          },
          "colorway": [
           "#636efa",
           "#EF553B",
           "#00cc96",
           "#ab63fa",
           "#FFA15A",
           "#19d3f3",
           "#FF6692",
           "#B6E880",
           "#FF97FF",
           "#FECB52"
          ],
          "font": {
           "color": "#2a3f5f"
          },
          "geo": {
           "bgcolor": "white",
           "lakecolor": "white",
           "landcolor": "#E5ECF6",
           "showlakes": true,
           "showland": true,
           "subunitcolor": "white"
          },
          "hoverlabel": {
           "align": "left"
          },
          "hovermode": "closest",
          "mapbox": {
           "style": "light"
          },
          "paper_bgcolor": "white",
          "plot_bgcolor": "#E5ECF6",
          "polar": {
           "angularaxis": {
            "gridcolor": "white",
            "linecolor": "white",
            "ticks": ""
           },
           "bgcolor": "#E5ECF6",
           "radialaxis": {
            "gridcolor": "white",
            "linecolor": "white",
            "ticks": ""
           }
          },
          "scene": {
           "xaxis": {
            "backgroundcolor": "#E5ECF6",
            "gridcolor": "white",
            "gridwidth": 2,
            "linecolor": "white",
            "showbackground": true,
            "ticks": "",
            "zerolinecolor": "white"
           },
           "yaxis": {
            "backgroundcolor": "#E5ECF6",
            "gridcolor": "white",
            "gridwidth": 2,
            "linecolor": "white",
            "showbackground": true,
            "ticks": "",
            "zerolinecolor": "white"
           },
           "zaxis": {
            "backgroundcolor": "#E5ECF6",
            "gridcolor": "white",
            "gridwidth": 2,
            "linecolor": "white",
            "showbackground": true,
            "ticks": "",
            "zerolinecolor": "white"
           }
          },
          "shapedefaults": {
           "line": {
            "color": "#2a3f5f"
           }
          },
          "ternary": {
           "aaxis": {
            "gridcolor": "white",
            "linecolor": "white",
            "ticks": ""
           },
           "baxis": {
            "gridcolor": "white",
            "linecolor": "white",
            "ticks": ""
           },
           "bgcolor": "#E5ECF6",
           "caxis": {
            "gridcolor": "white",
            "linecolor": "white",
            "ticks": ""
           }
          },
          "title": {
           "x": 0.05
          },
          "xaxis": {
           "automargin": true,
           "gridcolor": "white",
           "linecolor": "white",
           "ticks": "",
           "title": {
            "standoff": 15
           },
           "zerolinecolor": "white",
           "zerolinewidth": 2
          },
          "yaxis": {
           "automargin": true,
           "gridcolor": "white",
           "linecolor": "white",
           "ticks": "",
           "title": {
            "standoff": 15
           },
           "zerolinecolor": "white",
           "zerolinewidth": 2
          }
         }
        },
        "title": {
         "text": "High Frequency Ingredient Research and Associated Products by Group (Descending Order)"
        }
       }
      }
     },
     "metadata": {},
     "output_type": "display_data"
    }
   ],
   "source": [
    "import plotly.graph_objects as go\n",
    "import pandas as pd\n",
    "from neo4j import GraphDatabase\n",
    "\n",
    "with driver.session() as session:\n",
    "    result = session.run(query)\n",
    "    neo4j_data = [record.data() for record in result]\n",
    "\n",
    "df = pd.DataFrame(neo4j_data)\n",
    "\n",
    "\n",
    "query = \"\"\"\n",
    "MATCH (p:Product)\n",
    "WITH count(p) AS totalProductCount\n",
    "MATCH (p:Product)-[:HAS_RECIPE]->(:Recipe)-[:USES_INGREDIENT]->(:Ingredient)-[:HAS_RESEARCH]->(res:IngredientResearch)\n",
    "WITH res, COUNT(DISTINCT p) AS productCount, totalProductCount, 0.1 AS threshold\n",
    "WITH res, productCount, totalProductCount, toFloat(productCount) / toFloat(totalProductCount) AS frequencyRatio, threshold\n",
    "WHERE frequencyRatio > threshold\n",
    "MATCH (p:Product)-[:HAS_RECIPE]->(:Recipe)-[:USES_INGREDIENT]->(:Ingredient)-[:HAS_RESEARCH]->(res)\n",
    "RETURN res.ingredient_name AS HighFrequencyIngredientResearch, collect(p.name) AS Products\n",
    "\"\"\"\n",
    "\n",
    "\n",
    "\n",
    "df['GroupNumber'] = df.groupby('HighFrequencyIngredientResearch').ngroup() + 1\n",
    "df['GroupNumber'] = df['GroupNumber'].max() - df['GroupNumber'] + 1\n",
    "df['GroupNumber'] = 'Group ' + df['GroupNumber'].astype(str)\n",
    "\n",
    "\n",
    "df.sort_values(by='HighFrequencyIngredientResearch', ascending=False, inplace=True)\n",
    "\n",
    "fig_data = [go.Table(\n",
    "    header=dict(values=['HighFrequencyIngredientResearch', 'Products', 'GroupNumber']),\n",
    "    cells=dict(values=[df['HighFrequencyIngredientResearch'], df['Products'], df['GroupNumber']])\n",
    ")]\n",
    "\n",
    "fig_layout = go.Layout(\n",
    "    title='High Frequency Ingredient Research and Associated Products by Group (Descending Order)'\n",
    ")\n",
    "\n",
    "fig = go.Figure(data=fig_data, layout=fig_layout)\n",
    "fig.show()\n"
   ]
  },
  {
   "cell_type": "code",
   "execution_count": 92,
   "metadata": {},
   "outputs": [
    {
     "data": {
      "application/vnd.plotly.v1+json": {
       "config": {
        "plotlyServerURL": "https://plot.ly"
       },
       "data": [
        {
         "cells": {
          "values": [
           [
            "Wheat Flour",
            "Vegetable Oil",
            "Sugar",
            "Salt",
            "Flavour",
            "Emulsifier Soy Lecithin"
           ],
           [
            [
             "Indomie Mi Goreng Instant Noodles",
             "Maggi 2 Minute Chicken Flavour Instant Noodles",
             "Maggi 2 Minute Chicken Flavour Instant Noodles",
             "Supreme Noodles Cup Chicken Flavour",
             "Fantastic Chicken Noodle Cup",
             "Fantastic Chicken Noodle Bowl",
             "Indomie Mi Goreng Noodle Cup",
             "Maggi 2 Minute Beef Flavour Instant Noodles",
             "Supreme Noodles Cup Beef Flavour",
             "Kitkat 4 Finger Milk Chocolate Bar",
             "Kitkat Chunky Original Chocolate Bar",
             "Cadbury Chomp Chocolate Bar",
             "Arnott's Premier Chocolate Chip Cookies",
             "Woolworths Chocolate Chip Cookies",
             "Woolworths The King Of Chunky Chocolate Chip Cookies",
             "Arnott's Mini Choc Chip Cookie Multipack Biscuits",
             "Oreo Original Mini Cookies Multipack",
             "Oreo Minis Cookies Variety Bags 18 Pack",
             "Cadbury Classic Choc Chip Cookies",
             "Cadbury Choc Centre Cookies",
             "Byron Bay Cookies Dotty Cookie Bites",
             "Oreo Original Cookies",
             "Oreo Double Stuff Cookies",
             "Oreo Original Cookies Family Pack",
             "Oreo Chocolate Cookies",
             "Oreo Grab & Go Original Cookies 9 Pack",
             "Oreo Neapolitan Double Stuff Cookies"
            ],
            [
             "Maggi 2 Minute Chicken Flavour Instant Noodles",
             "Maggi 2 Minute Chicken Flavour Instant Noodles",
             "Supreme Noodles Cup Chicken Flavour",
             "Fantastic Chicken Noodle Cup",
             "Fantastic Chicken Noodle Bowl",
             "Maggi 2 Minute Beef Flavour Instant Noodles",
             "Supreme Noodles Cup Beef Flavour",
             "Mars Chocolate Bar With Nougat & Caramel",
             "Cadbury Chomp Chocolate Bar",
             "Arnott's Premier Chocolate Chip Cookies",
             "Woolworths Chocolate Chip Cookies",
             "Woolworths The King Of Chunky Chocolate Chip Cookies",
             "Arnott's Mini Choc Chip Cookie Multipack Biscuits",
             "Oreo Original Mini Cookies Multipack",
             "Oreo Minis Cookies Variety Bags 18 Pack",
             "Cadbury Classic Choc Chip Cookies",
             "Cadbury Choc Centre Cookies",
             "Byron Bay Cookies Dotty Cookie Bites",
             "Oreo Original Cookies",
             "Oreo Double Stuff Cookies",
             "Oreo Original Cookies Family Pack",
             "Oreo Chocolate Cookies",
             "Oreo Grab & Go Original Cookies 9 Pack",
             "Oreo Neapolitan Double Stuff Cookies",
             "Deep Cove Sardines In Oil",
             "Thins Chips Salt & Vinegar",
             "Thins Chips Chicken",
             "Thins Chips Light & Tangy",
             "Thins Cheese & Onion Chips"
            ],
            [
             "Coca - Cola Classic  Soft Drink Multipack Cans",
             "Coca - Cola Classic  Soft Drink Multipack Cans",
             "Coca - Cola Classic  Soft Drink Multipack Cans",
             "Coca - Cola Classic  Soft Drink Mini Cans",
             "Coca - Cola Vanilla  Soft Drink Multipack Cans",
             "Indomie Mi Goreng Instant Noodles",
             "Maggi 2 Minute Chicken Flavour Instant Noodles",
             "Maggi 2 Minute Chicken Flavour Instant Noodles",
             "Supreme Noodles Cup Chicken Flavour",
             "Fantastic Chicken Noodle Cup",
             "Fantastic Chicken Noodle Bowl",
             "Indomie Mi Goreng Noodle Cup",
             "Maggi 2 Minute Beef Flavour Instant Noodles",
             "Supreme Noodles Cup Beef Flavour",
             "Schweppes Indian Tonic Water Classic Mixers Bottle",
             "Schweppes Lime Soda Water With Lime Juice Bottle",
             "Schweppes Lemon Lime Natural Mineral Water Bottle",
             "Schweppes Orange Mango Natural Mineral Water Bottle",
             "Kitkat 4 Finger Milk Chocolate Bar",
             "Kitkat Chunky Original Chocolate Bar",
             "Cadbury Dairy Milk Caramello Koala Chocolate",
             "Mars Chocolate Bar With Nougat & Caramel",
             "Cadbury Dairy Milk Chocolate Roll",
             "Cadbury Dairy Milk Chocolate Bar",
             "Cadbury Twirl Chocolate Bar",
             "Cadbury Chomp Chocolate Bar",
             "Arnott's Premier Chocolate Chip Cookies",
             "Woolworths Chocolate Chip Cookies",
             "Woolworths The King Of Chunky Chocolate Chip Cookies",
             "Arnott's Mini Choc Chip Cookie Multipack Biscuits",
             "Oreo Original Mini Cookies Multipack",
             "Oreo Minis Cookies Variety Bags 18 Pack",
             "Cadbury Classic Choc Chip Cookies",
             "Cadbury Choc Centre Cookies",
             "Byron Bay Cookies Dotty Cookie Bites",
             "Oreo Original Cookies",
             "Golden Circle Golden Pash Fruit Drink",
             "Golden Circle Drinks Pine Orange Fruit Drink",
             "Golden Circle Drinks Sunshine Punch Fruit Drink",
             "Golden Circle Fruit Drinks Lunch Box Poppers Tropical Punch Multipack",
             "Oreo Double Stuff Cookies",
             "Oreo Original Cookies Family Pack",
             "Oreo Chocolate Cookies",
             "Oreo Grab & Go Original Cookies 9 Pack",
             "Oreo Neapolitan Double Stuff Cookies",
             "Woolworths Creamed Rice",
             "Woolworths Tomato Sauce Squeeze",
             "Woolworths Tomato Sauce",
             "Woolworths Barbecue Sauce Squeeze",
             "Masterfoods Tomato Sauce",
             "Masterfoods Barbecue Sauce",
             "Fountain Tomato Sauce Squeeze",
             "Fountain Barbecue Bbq Sauce Squeeze",
             "Woolworths Secret Burger Sauce",
             "Heinz Ketchup Tomato Sauce Ketchup",
             "Woolworths Barbecue Sauce",
             "Smith's Crinkle Cut Potato Chips Barbecue",
             "Smith's Crinkle Cut Potato Chips Chicken",
             "Thins Chips Chicken",
             "Smith's Crinkle Cut Potato Chips Salt & Vinegar",
             "Thins Chips Light & Tangy",
             "Thins Cheese & Onion Chips",
             "Woolworths Peach In Strawberry Jelly",
             "Woolworths Two Fruits In Tropical Jelly",
             "Woolworths Apple In Pineapple Jelly",
             "Dole Pineapple Slices In Syrup"
            ],
            [
             "Indomie Mi Goreng Instant Noodles",
             "Maggi 2 Minute Chicken Flavour Instant Noodles",
             "Maggi 2 Minute Chicken Flavour Instant Noodles",
             "Supreme Noodles Cup Chicken Flavour",
             "Fantastic Chicken Noodle Cup",
             "Fantastic Chicken Noodle Bowl",
             "Indomie Mi Goreng Noodle Cup",
             "Maggi 2 Minute Beef Flavour Instant Noodles",
             "Supreme Noodles Cup Beef Flavour",
             "Kitkat 4 Finger Milk Chocolate Bar",
             "Kitkat Chunky Original Chocolate Bar",
             "Cadbury Dairy Milk Caramello Koala Chocolate",
             "Mars Chocolate Bar With Nougat & Caramel",
             "Cadbury Chomp Chocolate Bar",
             "Arnott's Premier Chocolate Chip Cookies",
             "Woolworths Chocolate Chip Cookies",
             "Woolworths The King Of Chunky Chocolate Chip Cookies",
             "Arnott's Mini Choc Chip Cookie Multipack Biscuits",
             "Oreo Original Mini Cookies Multipack",
             "Oreo Minis Cookies Variety Bags 18 Pack",
             "Cadbury Classic Choc Chip Cookies",
             "Cadbury Choc Centre Cookies",
             "Byron Bay Cookies Dotty Cookie Bites",
             "Oreo Original Cookies",
             "Oreo Double Stuff Cookies",
             "Oreo Original Cookies Family Pack",
             "Oreo Chocolate Cookies",
             "Oreo Grab & Go Original Cookies 9 Pack",
             "Deep Cove Sardines In Oil",
             "Woolworths Creamed Rice",
             "Woolworths Tomato Sauce Squeeze",
             "Woolworths Tomato Sauce",
             "Woolworths Barbecue Sauce Squeeze",
             "Masterfoods Tomato Sauce",
             "Masterfoods Barbecue Sauce",
             "Fountain Tomato Sauce Squeeze",
             "Fountain Barbecue Bbq Sauce Squeeze",
             "Woolworths Secret Burger Sauce",
             "Heinz Ketchup Tomato Sauce Ketchup",
             "Woolworths Barbecue Sauce",
             "Smith's Crinkle Cut Potato Chips Original",
             "Smith's Crinkle Cut Potato Chips Cheese & Onion",
             "Smith's Crinkle Cut Potato Chips Barbecue",
             "Smith's Crinkle Cut Potato Chips Chicken",
             "Thins Chips Salt & Vinegar",
             "Smith's Thinly Cut Potato Chips Original Share Pack",
             "Thins Chips Chicken",
             "Smith's Crinkle Cut Potato Chips Salt & Vinegar",
             "Thins Chips Light & Tangy",
             "Thins Cheese & Onion Chips"
            ],
            [
             "Coca - Cola Classic  Soft Drink Multipack Cans",
             "Coca - Cola Classic  Soft Drink Multipack Cans",
             "Coca - Cola Classic  Soft Drink Multipack Cans",
             "Coca - Cola Classic  Soft Drink Mini Cans",
             "Coca - Cola Vanilla  Soft Drink Multipack Cans",
             "Coca - Cola Zero Sugar Soft Drink Multipack Cans",
             "Coca - Cola Zero Sugar Soft Drink Multipack Cans",
             "Coca - Cola Zero Sugar Soft Drink Multipack Cans",
             "Coca - Cola Caffeine Free Zero Sugar Soft Drink Multipack Cans",
             "Coca - Cola Zero Sugar Soft Drink Mini Cans",
             "Maggi 2 Minute Beef Flavour Instant Noodles",
             "Kitkat 4 Finger Milk Chocolate Bar",
             "Kitkat Chunky Original Chocolate Bar",
             "Arnott's Premier Chocolate Chip Cookies",
             "Oreo Original Mini Cookies Multipack",
             "Oreo Minis Cookies Variety Bags 18 Pack",
             "Cadbury Classic Choc Chip Cookies",
             "Cadbury Choc Centre Cookies",
             "Byron Bay Cookies Dotty Cookie Bites",
             "Oreo Original Cookies",
             "Oreo Double Stuff Cookies",
             "Oreo Original Cookies Family Pack",
             "Oreo Chocolate Cookies",
             "Oreo Grab & Go Original Cookies 9 Pack",
             "Thins Chips Light & Tangy"
            ],
            [
             "Kitkat 4 Finger Milk Chocolate Bar",
             "Kitkat Chunky Original Chocolate Bar",
             "Cadbury Dairy Milk Caramello Koala Chocolate",
             "Mars Chocolate Bar With Nougat & Caramel",
             "Cadbury Dairy Milk Chocolate Roll",
             "Cadbury Dairy Milk Chocolate Bar",
             "Cadbury Twirl Chocolate Bar",
             "Cadbury Chomp Chocolate Bar",
             "Arnott's Premier Chocolate Chip Cookies",
             "Woolworths Chocolate Chip Cookies",
             "Woolworths The King Of Chunky Chocolate Chip Cookies",
             "Arnott's Mini Choc Chip Cookie Multipack Biscuits",
             "Oreo Original Mini Cookies Multipack",
             "Oreo Minis Cookies Variety Bags 18 Pack",
             "Cadbury Choc Centre Cookies",
             "Byron Bay Cookies Dotty Cookie Bites",
             "Oreo Original Cookies",
             "Oreo Double Stuff Cookies",
             "Oreo Original Cookies Family Pack",
             "Oreo Chocolate Cookies",
             "Oreo Grab & Go Original Cookies 9 Pack",
             "Oreo Neapolitan Double Stuff Cookies"
            ]
           ],
           [
            "Group 1",
            "Group 2",
            "Group 3",
            "Group 4",
            "Group 5",
            "Group 6"
           ]
          ]
         },
         "header": {
          "values": [
           "HighFrequencyIngredientResearch",
           "Products",
           "GroupNumber"
          ]
         },
         "type": "table"
        }
       ],
       "layout": {
        "template": {
         "data": {
          "bar": [
           {
            "error_x": {
             "color": "#2a3f5f"
            },
            "error_y": {
             "color": "#2a3f5f"
            },
            "marker": {
             "line": {
              "color": "#E5ECF6",
              "width": 0.5
             },
             "pattern": {
              "fillmode": "overlay",
              "size": 10,
              "solidity": 0.2
             }
            },
            "type": "bar"
           }
          ],
          "barpolar": [
           {
            "marker": {
             "line": {
              "color": "#E5ECF6",
              "width": 0.5
             },
             "pattern": {
              "fillmode": "overlay",
              "size": 10,
              "solidity": 0.2
             }
            },
            "type": "barpolar"
           }
          ],
          "carpet": [
           {
            "aaxis": {
             "endlinecolor": "#2a3f5f",
             "gridcolor": "white",
             "linecolor": "white",
             "minorgridcolor": "white",
             "startlinecolor": "#2a3f5f"
            },
            "baxis": {
             "endlinecolor": "#2a3f5f",
             "gridcolor": "white",
             "linecolor": "white",
             "minorgridcolor": "white",
             "startlinecolor": "#2a3f5f"
            },
            "type": "carpet"
           }
          ],
          "choropleth": [
           {
            "colorbar": {
             "outlinewidth": 0,
             "ticks": ""
            },
            "type": "choropleth"
           }
          ],
          "contour": [
           {
            "colorbar": {
             "outlinewidth": 0,
             "ticks": ""
            },
            "colorscale": [
             [
              0,
              "#0d0887"
             ],
             [
              0.1111111111111111,
              "#46039f"
             ],
             [
              0.2222222222222222,
              "#7201a8"
             ],
             [
              0.3333333333333333,
              "#9c179e"
             ],
             [
              0.4444444444444444,
              "#bd3786"
             ],
             [
              0.5555555555555556,
              "#d8576b"
             ],
             [
              0.6666666666666666,
              "#ed7953"
             ],
             [
              0.7777777777777778,
              "#fb9f3a"
             ],
             [
              0.8888888888888888,
              "#fdca26"
             ],
             [
              1,
              "#f0f921"
             ]
            ],
            "type": "contour"
           }
          ],
          "contourcarpet": [
           {
            "colorbar": {
             "outlinewidth": 0,
             "ticks": ""
            },
            "type": "contourcarpet"
           }
          ],
          "heatmap": [
           {
            "colorbar": {
             "outlinewidth": 0,
             "ticks": ""
            },
            "colorscale": [
             [
              0,
              "#0d0887"
             ],
             [
              0.1111111111111111,
              "#46039f"
             ],
             [
              0.2222222222222222,
              "#7201a8"
             ],
             [
              0.3333333333333333,
              "#9c179e"
             ],
             [
              0.4444444444444444,
              "#bd3786"
             ],
             [
              0.5555555555555556,
              "#d8576b"
             ],
             [
              0.6666666666666666,
              "#ed7953"
             ],
             [
              0.7777777777777778,
              "#fb9f3a"
             ],
             [
              0.8888888888888888,
              "#fdca26"
             ],
             [
              1,
              "#f0f921"
             ]
            ],
            "type": "heatmap"
           }
          ],
          "heatmapgl": [
           {
            "colorbar": {
             "outlinewidth": 0,
             "ticks": ""
            },
            "colorscale": [
             [
              0,
              "#0d0887"
             ],
             [
              0.1111111111111111,
              "#46039f"
             ],
             [
              0.2222222222222222,
              "#7201a8"
             ],
             [
              0.3333333333333333,
              "#9c179e"
             ],
             [
              0.4444444444444444,
              "#bd3786"
             ],
             [
              0.5555555555555556,
              "#d8576b"
             ],
             [
              0.6666666666666666,
              "#ed7953"
             ],
             [
              0.7777777777777778,
              "#fb9f3a"
             ],
             [
              0.8888888888888888,
              "#fdca26"
             ],
             [
              1,
              "#f0f921"
             ]
            ],
            "type": "heatmapgl"
           }
          ],
          "histogram": [
           {
            "marker": {
             "pattern": {
              "fillmode": "overlay",
              "size": 10,
              "solidity": 0.2
             }
            },
            "type": "histogram"
           }
          ],
          "histogram2d": [
           {
            "colorbar": {
             "outlinewidth": 0,
             "ticks": ""
            },
            "colorscale": [
             [
              0,
              "#0d0887"
             ],
             [
              0.1111111111111111,
              "#46039f"
             ],
             [
              0.2222222222222222,
              "#7201a8"
             ],
             [
              0.3333333333333333,
              "#9c179e"
             ],
             [
              0.4444444444444444,
              "#bd3786"
             ],
             [
              0.5555555555555556,
              "#d8576b"
             ],
             [
              0.6666666666666666,
              "#ed7953"
             ],
             [
              0.7777777777777778,
              "#fb9f3a"
             ],
             [
              0.8888888888888888,
              "#fdca26"
             ],
             [
              1,
              "#f0f921"
             ]
            ],
            "type": "histogram2d"
           }
          ],
          "histogram2dcontour": [
           {
            "colorbar": {
             "outlinewidth": 0,
             "ticks": ""
            },
            "colorscale": [
             [
              0,
              "#0d0887"
             ],
             [
              0.1111111111111111,
              "#46039f"
             ],
             [
              0.2222222222222222,
              "#7201a8"
             ],
             [
              0.3333333333333333,
              "#9c179e"
             ],
             [
              0.4444444444444444,
              "#bd3786"
             ],
             [
              0.5555555555555556,
              "#d8576b"
             ],
             [
              0.6666666666666666,
              "#ed7953"
             ],
             [
              0.7777777777777778,
              "#fb9f3a"
             ],
             [
              0.8888888888888888,
              "#fdca26"
             ],
             [
              1,
              "#f0f921"
             ]
            ],
            "type": "histogram2dcontour"
           }
          ],
          "mesh3d": [
           {
            "colorbar": {
             "outlinewidth": 0,
             "ticks": ""
            },
            "type": "mesh3d"
           }
          ],
          "parcoords": [
           {
            "line": {
             "colorbar": {
              "outlinewidth": 0,
              "ticks": ""
             }
            },
            "type": "parcoords"
           }
          ],
          "pie": [
           {
            "automargin": true,
            "type": "pie"
           }
          ],
          "scatter": [
           {
            "fillpattern": {
             "fillmode": "overlay",
             "size": 10,
             "solidity": 0.2
            },
            "type": "scatter"
           }
          ],
          "scatter3d": [
           {
            "line": {
             "colorbar": {
              "outlinewidth": 0,
              "ticks": ""
             }
            },
            "marker": {
             "colorbar": {
              "outlinewidth": 0,
              "ticks": ""
             }
            },
            "type": "scatter3d"
           }
          ],
          "scattercarpet": [
           {
            "marker": {
             "colorbar": {
              "outlinewidth": 0,
              "ticks": ""
             }
            },
            "type": "scattercarpet"
           }
          ],
          "scattergeo": [
           {
            "marker": {
             "colorbar": {
              "outlinewidth": 0,
              "ticks": ""
             }
            },
            "type": "scattergeo"
           }
          ],
          "scattergl": [
           {
            "marker": {
             "colorbar": {
              "outlinewidth": 0,
              "ticks": ""
             }
            },
            "type": "scattergl"
           }
          ],
          "scattermapbox": [
           {
            "marker": {
             "colorbar": {
              "outlinewidth": 0,
              "ticks": ""
             }
            },
            "type": "scattermapbox"
           }
          ],
          "scatterpolar": [
           {
            "marker": {
             "colorbar": {
              "outlinewidth": 0,
              "ticks": ""
             }
            },
            "type": "scatterpolar"
           }
          ],
          "scatterpolargl": [
           {
            "marker": {
             "colorbar": {
              "outlinewidth": 0,
              "ticks": ""
             }
            },
            "type": "scatterpolargl"
           }
          ],
          "scatterternary": [
           {
            "marker": {
             "colorbar": {
              "outlinewidth": 0,
              "ticks": ""
             }
            },
            "type": "scatterternary"
           }
          ],
          "surface": [
           {
            "colorbar": {
             "outlinewidth": 0,
             "ticks": ""
            },
            "colorscale": [
             [
              0,
              "#0d0887"
             ],
             [
              0.1111111111111111,
              "#46039f"
             ],
             [
              0.2222222222222222,
              "#7201a8"
             ],
             [
              0.3333333333333333,
              "#9c179e"
             ],
             [
              0.4444444444444444,
              "#bd3786"
             ],
             [
              0.5555555555555556,
              "#d8576b"
             ],
             [
              0.6666666666666666,
              "#ed7953"
             ],
             [
              0.7777777777777778,
              "#fb9f3a"
             ],
             [
              0.8888888888888888,
              "#fdca26"
             ],
             [
              1,
              "#f0f921"
             ]
            ],
            "type": "surface"
           }
          ],
          "table": [
           {
            "cells": {
             "fill": {
              "color": "#EBF0F8"
             },
             "line": {
              "color": "white"
             }
            },
            "header": {
             "fill": {
              "color": "#C8D4E3"
             },
             "line": {
              "color": "white"
             }
            },
            "type": "table"
           }
          ]
         },
         "layout": {
          "annotationdefaults": {
           "arrowcolor": "#2a3f5f",
           "arrowhead": 0,
           "arrowwidth": 1
          },
          "autotypenumbers": "strict",
          "coloraxis": {
           "colorbar": {
            "outlinewidth": 0,
            "ticks": ""
           }
          },
          "colorscale": {
           "diverging": [
            [
             0,
             "#8e0152"
            ],
            [
             0.1,
             "#c51b7d"
            ],
            [
             0.2,
             "#de77ae"
            ],
            [
             0.3,
             "#f1b6da"
            ],
            [
             0.4,
             "#fde0ef"
            ],
            [
             0.5,
             "#f7f7f7"
            ],
            [
             0.6,
             "#e6f5d0"
            ],
            [
             0.7,
             "#b8e186"
            ],
            [
             0.8,
             "#7fbc41"
            ],
            [
             0.9,
             "#4d9221"
            ],
            [
             1,
             "#276419"
            ]
           ],
           "sequential": [
            [
             0,
             "#0d0887"
            ],
            [
             0.1111111111111111,
             "#46039f"
            ],
            [
             0.2222222222222222,
             "#7201a8"
            ],
            [
             0.3333333333333333,
             "#9c179e"
            ],
            [
             0.4444444444444444,
             "#bd3786"
            ],
            [
             0.5555555555555556,
             "#d8576b"
            ],
            [
             0.6666666666666666,
             "#ed7953"
            ],
            [
             0.7777777777777778,
             "#fb9f3a"
            ],
            [
             0.8888888888888888,
             "#fdca26"
            ],
            [
             1,
             "#f0f921"
            ]
           ],
           "sequentialminus": [
            [
             0,
             "#0d0887"
            ],
            [
             0.1111111111111111,
             "#46039f"
            ],
            [
             0.2222222222222222,
             "#7201a8"
            ],
            [
             0.3333333333333333,
             "#9c179e"
            ],
            [
             0.4444444444444444,
             "#bd3786"
            ],
            [
             0.5555555555555556,
             "#d8576b"
            ],
            [
             0.6666666666666666,
             "#ed7953"
            ],
            [
             0.7777777777777778,
             "#fb9f3a"
            ],
            [
             0.8888888888888888,
             "#fdca26"
            ],
            [
             1,
             "#f0f921"
            ]
           ]
          },
          "colorway": [
           "#636efa",
           "#EF553B",
           "#00cc96",
           "#ab63fa",
           "#FFA15A",
           "#19d3f3",
           "#FF6692",
           "#B6E880",
           "#FF97FF",
           "#FECB52"
          ],
          "font": {
           "color": "#2a3f5f"
          },
          "geo": {
           "bgcolor": "white",
           "lakecolor": "white",
           "landcolor": "#E5ECF6",
           "showlakes": true,
           "showland": true,
           "subunitcolor": "white"
          },
          "hoverlabel": {
           "align": "left"
          },
          "hovermode": "closest",
          "mapbox": {
           "style": "light"
          },
          "paper_bgcolor": "white",
          "plot_bgcolor": "#E5ECF6",
          "polar": {
           "angularaxis": {
            "gridcolor": "white",
            "linecolor": "white",
            "ticks": ""
           },
           "bgcolor": "#E5ECF6",
           "radialaxis": {
            "gridcolor": "white",
            "linecolor": "white",
            "ticks": ""
           }
          },
          "scene": {
           "xaxis": {
            "backgroundcolor": "#E5ECF6",
            "gridcolor": "white",
            "gridwidth": 2,
            "linecolor": "white",
            "showbackground": true,
            "ticks": "",
            "zerolinecolor": "white"
           },
           "yaxis": {
            "backgroundcolor": "#E5ECF6",
            "gridcolor": "white",
            "gridwidth": 2,
            "linecolor": "white",
            "showbackground": true,
            "ticks": "",
            "zerolinecolor": "white"
           },
           "zaxis": {
            "backgroundcolor": "#E5ECF6",
            "gridcolor": "white",
            "gridwidth": 2,
            "linecolor": "white",
            "showbackground": true,
            "ticks": "",
            "zerolinecolor": "white"
           }
          },
          "shapedefaults": {
           "line": {
            "color": "#2a3f5f"
           }
          },
          "ternary": {
           "aaxis": {
            "gridcolor": "white",
            "linecolor": "white",
            "ticks": ""
           },
           "baxis": {
            "gridcolor": "white",
            "linecolor": "white",
            "ticks": ""
           },
           "bgcolor": "#E5ECF6",
           "caxis": {
            "gridcolor": "white",
            "linecolor": "white",
            "ticks": ""
           }
          },
          "title": {
           "x": 0.05
          },
          "xaxis": {
           "automargin": true,
           "gridcolor": "white",
           "linecolor": "white",
           "ticks": "",
           "title": {
            "standoff": 15
           },
           "zerolinecolor": "white",
           "zerolinewidth": 2
          },
          "yaxis": {
           "automargin": true,
           "gridcolor": "white",
           "linecolor": "white",
           "ticks": "",
           "title": {
            "standoff": 15
           },
           "zerolinecolor": "white",
           "zerolinewidth": 2
          }
         }
        },
        "title": {
         "text": "High Frequency Ingredient Research and Associated Products by Group (Descending Order)"
        }
       }
      }
     },
     "metadata": {},
     "output_type": "display_data"
    }
   ],
   "source": [
    "import plotly.graph_objects as go\n",
    "import pandas as pd\n",
    "from neo4j import GraphDatabase\n",
    "\n",
    "with driver.session() as session:\n",
    "    result = session.run(query)\n",
    "    neo4j_data = [record.data() for record in result]\n",
    "\n",
    "df = pd.DataFrame(neo4j_data)\n",
    "\n",
    "\n",
    "query = \"\"\"\n",
    "MATCH (p:Product)-[:HAS_RECIPE]->(r:Recipe)-[:USES_INGREDIENT]->(i:Ingredient)-[:HAS_RESEARCH]->(res:IngredientResearch)\n",
    "WITH res, COUNT(DISTINCT p) AS productCount, COLLECT(DISTINCT p.name) AS products, COUNT(DISTINCT i) AS ingredientCount\n",
    "\n",
    "MATCH (allProducts:Product)\n",
    "WITH res, productCount, products, ingredientCount, COUNT(allProducts) AS totalProductCount\n",
    "WITH res, productCount, products, ingredientCount, totalProductCount, toFloat(productCount) / toFloat(totalProductCount) AS frequencyRatio\n",
    "RETURN res.ingredient_name AS HighFrequencyIngredientResearch, productCount, products, ingredientCount, frequencyRatio\n",
    "ORDER BY frequencyRatio DESC\n",
    "\n",
    "\"\"\"\n",
    "\n",
    "import plotly.graph_objects as go\n",
    "import pandas as pd\n",
    "\n",
    "\n",
    "\n",
    "df = pd.DataFrame(data)\n",
    "\n",
    "\n",
    "df['GroupNumber'] = df.groupby('HighFrequencyIngredientResearch').ngroup() + 1\n",
    "df['GroupNumber'] = df['GroupNumber'].max() - df['GroupNumber'] + 1\n",
    "df['GroupNumber'] = 'Group ' + df['GroupNumber'].astype(str)\n",
    "df.sort_values(by='HighFrequencyIngredientResearch', ascending=False, inplace=True)\n",
    "\n",
    "\n",
    "fig_data = [go.Table(\n",
    "    header=dict(values=['HighFrequencyIngredientResearch', 'Products', 'GroupNumber']),\n",
    "    cells=dict(values=[df['HighFrequencyIngredientResearch'], df['Products'], df['GroupNumber']])\n",
    ")]\n",
    "\n",
    "\n",
    "fig_layout = go.Layout(\n",
    "    title='High Frequency Ingredient Research and Associated Products by Group (Descending Order)'\n",
    ")\n",
    "\n",
    "\n",
    "fig = go.Figure(data=fig_data, layout=fig_layout)\n",
    "fig.show()\n",
    "\n"
   ]
  },
  {
   "cell_type": "code",
   "execution_count": 95,
   "metadata": {},
   "outputs": [
    {
     "data": {
      "application/vnd.plotly.v1+json": {
       "config": {
        "plotlyServerURL": "https://plot.ly"
       },
       "data": [
        {
         "cells": {
          "values": [
           [
            "Zinc",
            "Yeast Extract",
            "Yeast",
            "Xanthan Gum",
            "Xanthan Gum",
            "Xanthan Gum",
            "Xanthan Gum",
            "Whole Egg Powder",
            "White Vinegar",
            "White Pepper",
            "Wheaten Corn Flour",
            "Wheat Starch",
            "Wheat Glucose Syrup",
            "Wheat Flour",
            "Wheat Cornflour",
            "Wheat",
            "Water",
            "Vitamin C",
            "Vitamin A",
            "Vinegar",
            "Vegetable Sachet",
            "Vegetable Powder Tomato",
            "Vegetable Powder Garlic",
            "Vegetable Oil",
            "Vegetable Fat",
            "Ultramarines",
            "Turmeric",
            "Turmeric",
            "Tomatoes",
            "Tomato Puree",
            "Tomato Powder",
            "Tomato Paste",
            "Tomato Juice",
            "Titanium Dioxide",
            "Thickener Modified Corn Starch",
            "Thickener 1422",
            "Thickener 1414",
            "Thiamin",
            "Tapioca Starch",
            "Tamarind Paste",
            "TBHQ",
            "Syrup",
            "Synthetic Wax",
            "Sweetener 952",
            "Sweetened Condensed Milk",
            "Sweet Soy Sauce",
            "Sunflower Oil",
            "Sulphites",
            "Sugar",
            "Strawberry",
            "Stabiliser 422",
            "Spices",
            "Spice Ginger",
            "Spice Extract",
            "Spice Chilli Powder",
            "Spice Cardamom",
            "Soybean Fibre",
            "Soy Sauce Powder",
            "Soy Bean",
            "Soy",
            "Sorbitan Tristearate",
            "Sodium Metabisulfite",
            "Sodium Diacetate",
            "Sodium Citrate",
            "Sodium Citrate",
            "Sodium Citrate",
            "Sodium Carbonate",
            "Sodium Bicarbonate",
            "Sodium Bicarbonate",
            "Sodium Bicarbonate",
            "Sodium Benzoate",
            "Smoke Flavour",
            "Skim Milk Powder",
            "Skim Milk",
            "Silica",
            "Sesame Oil",
            "Seasoning Powder",
            "Seasoning Oil",
            "Sardines",
            "Salt",
            "Safflower Extract",
            "Rosemary",
            "Rice",
            "Riboflavin",
            "Refined Palm Oil",
            "Refined Fruit Juice Pear",
            "Refined Fruit Juice Peach",
            "Refined Fruit Juice Grape",
            "Refined Fruit Juice Apple",
            "Refined Fruit Juice",
            "Red Beetroot Powder",
            "Reconstituted Tomato Puree",
            "Reconstituted Refined Juice Concentrated Pear Juice",
            "Reconstituted Mango Juice",
            "Reconstituted Lime Juice",
            "Reconstituted Lemon Juice",
            "Reconstituted Fruit Puree Tomato Paste",
            "Reconstituted Fruit Puree Apple",
            "Reconstituted Fruit Puree",
            "Reconstituted Fruit Juice Water Extracted Orange",
            "Reconstituted Fruit Juice Pineapple",
            "Reconstituted Fruit Juice Pear",
            "Reconstituted Fruit Juice Peach Purée",
            "Reconstituted Fruit Juice Peach",
            "Reconstituted Fruit Juice Passionfruit",
            "Reconstituted Fruit Juice Orange",
            "Reconstituted Fruit Juice Grape",
            "Reconstituted Fruit Juice Blackcurrant",
            "Reconstituted Fruit Juice Apricot",
            "Reconstituted Apple Juice",
            "Reconstituted Apple Juice",
            "Raising Agent 450",
            "Quinine",
            "Processing Aid Wheat",
            "Preservative 1211",
            "Potatoes",
            "Potato Starch",
            "Potassium Sorbate",
            "Potassium Sorbate",
            "Potassium Citrate",
            "Potassium Citrate",
            "Potassium Chloride",
            "Potassium Bicarbonate",
            "Polyglycerol polyricinoleate",
            "Polyglycerol Polyricinoleate",
            "Polyethylene",
            "Polybutene",
            "Plant Extract Gardenia",
            "Plant Extract Carthamus",
            "Pineapple Juice",
            "Pineapple",
            "Phosphoric Acid",
            "Pepper",
            "Pentaerythrityl Tetra-di-t-butyl Hydroxyhydrocinnamate",
            "Pectin",
            "Pectin",
            "Pear",
            "Pasteurised Homogenised Milk",
            "Parsley Flakes",
            "Parsley",
            "Paprika Oleoresins",
            "Paprika Extract",
            "Paprika",
            "Palm Oil",
            "Onion Powder",
            "Onion",
            "Octyldodecanol",
            "Nutmeg",
            "Natural Vanilla Flavour",
            "Natural Strawberry Flavour",
            "Natural Spring Water",
            "Natural Mineral Water",
            "Natural Flavours",
            "Natural Flavour Vanilla Extract",
            "Natural Flavour Vanilla",
            "Natural Flavour Pineapple",
            "Natural Flavour Orange Peel Extract",
            "Natural Flavour Mango",
            "Natural Flavour Lime Oils",
            "Natural Flavour Lemon Peel Extract",
            "Natural Flavour Citrus Oils",
            "Natural Flavour Butter",
            "Natural Flavour Botanical Extracts",
            "Natural Flavour",
            "Mustard Oil",
            "Molasses",
            "Modified Starch 1420",
            "Mineral Salt 508",
            "Mineral Salt 501",
            "Mineral Salt 500",
            "Mineral Salt 451",
            "Mineral Salt 450",
            "Mineral Iron",
            "Milk Whey Powder",
            "Milk Solids",
            "Milk Lactose",
            "Milk Compound Chocolate",
            "Milk Chocolate Chips",
            "Milk Chocolate",
            "Milk Butter",
            "Milk",
            "Mica",
            "Maltodextrin",
            "Malic Acid",
            "Maize Thickener 1422",
            "Maize Starch",
            "Maize Maltodextrin",
            "Lutein",
            "Locust Bean Gum",
            "Lactic Acid",
            "Jelly Natural Pineapple Flavour",
            "Iron Oxides",
            "Iodised Salt",
            "Invert Sugar",
            "Homogenised Full Cream Milk",
            "Herbs",
            "Herb Extract",
            "Guava Puree",
            "Guar Gum",
            "Guar Gum",
            "Guar Gum",
            "Guar Gum",
            "Golden Syrup",
            "Gluten Wheat",
            "Glucose Syrup",
            "Glucose",
            "Glazing Agent 414",
            "Gherkin",
            "Garlic Powder",
            "Garam Masala",
            "Full Cream Milk",
            "Fruit Peach",
            "Fructose Syrup",
            "Fructose",
            "Fried Onion",
            "Free Range Egg Yolk",
            "Folate",
            "Flavours Wheat",
            "Flavours Soy",
            "Flavours",
            "Flavoured Milk",
            "Flavour Sachet",
            "Flavour Enhancer 635",
            "Flavour Enhancer 621",
            "Flavour Enhancer 620",
            "Flavour Celery",
            "Flavour",
            "Ferric Ferrocyanide",
            "Enzymes",
            "Emulsifier Soy Lecithin",
            "Emulsifier 471",
            "Emulsifier 442",
            "Egg White",
            "Egg",
            "Durum Wheat Semolina",
            "Disodium Inosinate",
            "Disodium Guanylate",
            "Dill",
            "Diced Pears",
            "Diced Peaches",
            "Dextrose",
            "Desiccated Coconut",
            "Dehydrated Vegetables",
            "Dark Compound Chocolate Chips",
            "Dark Chocolate Chips",
            "Curcumin",
            "Cumin",
            "Cultured Dextrose",
            "Cream",
            "Cornstarch",
            "Coriander",
            "Colouring Agent Titan White",
            "Colouring Agent Spirulina Extract",
            "Colouring Agent Caramel IV",
            "Colouring Agent 160a",
            "Colouring Agent 150d",
            "Colouring Agent 150c",
            "Colouring Agent 100",
            "Colour 101",
            "Coconut Extract",
            "Cocoa Solids",
            "Cocoa Powder",
            "Cocoa Mass",
            "Cocoa Butter",
            "Cocoa",
            "Cochineal",
            "Clove",
            "Clarified Pineapple Juice Concentrate",
            "Citric Acid",
            "Citric Acid",
            "Citric Acid",
            "Citric Acid",
            "Citric Acid",
            "Citric Acid",
            "Citric Acid",
            "Chocolate Chips",
            "Choc Paste",
            "Chilli Sauce",
            "Chilli",
            "Cheese Powder",
            "Carrageenan",
            "Carotene",
            "Carnauba Wax",
            "Carminic Acid",
            "Carmine",
            "Carmine",
            "Carboxymethyl Cellulose",
            "Carbonated Water",
            "Carbonated Mineral Water",
            "Carbonated Mineral Water",
            "Caramel III",
            "Caramel I",
            "Caramel Color 150c",
            "Caramel Color",
            "Caramel",
            "Canola Oil",
            "Calcium Lactate",
            "Caffeine",
            "Buttermilk Powder",
            "Burnt Sugar",
            "Black Carrot Extract",
            "Biscuit",
            "Bis-Diglyceryl Polyacyladipate-2",
            "Beta carotene",
            "Basil",
            "Barley Malt Extract",
            "Baking Powder",
            "Australian Spring Water",
            "Aspartame",
            "Ascorbic Acid",
            "Ascorbic Acid",
            "Artificial Flavour",
            "Apple Pulp",
            "Apple",
            "Antioxidant Tocopherols",
            "Antioxidant Rosemary Extract",
            "Antioxidant E307B",
            "Antioxidant 385",
            "Antioxidant 320",
            "Antioxidant 307b",
            "Anti Caking Agent 551",
            "Anthocyanins",
            "Annatto Extracts",
            "Ammonium Carbonate",
            "Ammonium Bicarbonate",
            "Acidity Regulator 501",
            "Acidity Regulator 451",
            "Acidity Regulator 339",
            "Acidity Regulator 331",
            "Acetic Acid",
            "Acetic Acid",
            "Acetic Acid",
            "Acetic Acid",
            "Acesulfame Potassium",
            "",
            "",
            "",
            "",
            ""
           ],
           [
            8,
            10,
            3,
            1,
            3,
            2,
            1,
            1,
            1,
            1,
            1,
            2,
            2,
            27,
            1,
            7,
            18,
            10,
            1,
            1,
            1,
            1,
            1,
            29,
            10,
            1,
            3,
            1,
            5,
            1,
            1,
            2,
            2,
            1,
            4,
            2,
            1,
            8,
            2,
            1,
            14,
            1,
            1,
            1,
            2,
            2,
            6,
            2,
            66,
            1,
            1,
            5,
            2,
            3,
            2,
            2,
            2,
            1,
            2,
            5,
            2,
            5,
            3,
            6,
            1,
            3,
            2,
            12,
            2,
            2,
            3,
            2,
            1,
            1,
            1,
            2,
            2,
            2,
            1,
            50,
            1,
            1,
            1,
            8,
            2,
            1,
            1,
            1,
            1,
            2,
            1,
            2,
            2,
            4,
            2,
            2,
            1,
            1,
            1,
            1,
            5,
            4,
            2,
            1,
            5,
            7,
            1,
            1,
            1,
            7,
            1,
            3,
            2,
            1,
            2,
            10,
            2,
            1,
            2,
            3,
            3,
            9,
            1,
            1,
            8,
            1,
            1,
            1,
            1,
            1,
            2,
            10,
            4,
            1,
            2,
            1,
            4,
            1,
            1,
            4,
            2,
            1,
            1,
            2,
            12,
            6,
            1,
            1,
            3,
            1,
            4,
            1,
            12,
            1,
            1,
            1,
            2,
            1,
            1,
            2,
            2,
            1,
            2,
            13,
            1,
            3,
            1,
            3,
            4,
            4,
            3,
            1,
            8,
            5,
            12,
            1,
            1,
            2,
            1,
            3,
            8,
            1,
            7,
            3,
            1,
            1,
            1,
            1,
            3,
            1,
            1,
            1,
            2,
            1,
            1,
            4,
            1,
            1,
            2,
            4,
            1,
            1,
            1,
            2,
            3,
            1,
            1,
            1,
            4,
            1,
            7,
            5,
            7,
            1,
            2,
            1,
            9,
            3,
            3,
            10,
            2,
            1,
            11,
            16,
            1,
            2,
            25,
            1,
            1,
            22,
            1,
            2,
            1,
            2,
            1,
            3,
            3,
            1,
            2,
            2,
            4,
            2,
            2,
            1,
            1,
            3,
            2,
            1,
            1,
            9,
            2,
            1,
            1,
            1,
            2,
            11,
            1,
            1,
            2,
            2,
            1,
            11,
            12,
            12,
            2,
            1,
            1,
            1,
            3,
            19,
            1,
            16,
            2,
            5,
            1,
            1,
            1,
            2,
            2,
            2,
            3,
            3,
            1,
            1,
            2,
            1,
            1,
            14,
            2,
            2,
            1,
            2,
            1,
            1,
            1,
            7,
            3,
            9,
            1,
            2,
            1,
            1,
            1,
            1,
            2,
            1,
            2,
            2,
            6,
            1,
            12,
            2,
            1,
            1,
            4,
            4,
            2,
            1,
            5,
            3,
            3,
            1,
            1,
            2,
            10,
            2,
            2,
            1,
            1,
            4,
            3,
            2,
            2,
            6,
            1,
            1,
            1,
            2,
            1
           ],
           [
            [
             "Oreo Original Mini Cookies Multipack",
             "Oreo Minis Cookies Variety Bags 18 Pack",
             "Oreo Original Cookies",
             "Oreo Double Stuff Cookies",
             "Oreo Original Cookies Family Pack",
             "Oreo Chocolate Cookies",
             "Oreo Grab & Go Original Cookies 9 Pack",
             "Oreo Neapolitan Double Stuff Cookies"
            ],
            [
             "Indomie Mi Goreng Instant Noodles",
             "Supreme Noodles Cup Chicken Flavour",
             "Fantastic Chicken Noodle Cup",
             "Fantastic Chicken Noodle Bowl",
             "Indomie Mi Goreng Noodle Cup",
             "Maggi 2 Minute Beef Flavour Instant Noodles",
             "Masterfoods Barbecue Sauce",
             "Smith's Crinkle Cut Potato Chips Cheese & Onion",
             "Smith's Crinkle Cut Potato Chips Chicken",
             "Thins Cheese & Onion Chips"
            ],
            [
             "Kitkat 4 Finger Milk Chocolate Bar",
             "Kitkat Chunky Original Chocolate Bar",
             "Thins Cheese & Onion Chips"
            ],
            [
             "Woolworths Secret Burger Sauce"
            ],
            [
             "Woolworths Peach In Strawberry Jelly",
             "Woolworths Two Fruits In Tropical Jelly",
             "Woolworths Apple In Pineapple Jelly"
            ],
            [
             "Woolworths Barbecue Sauce Squeeze",
             "Woolworths Barbecue Sauce"
            ],
            [
             "Fountain Barbecue Bbq Sauce Squeeze"
            ],
            [
             "Woolworths Chocolate Chip Cookies"
            ],
            [
             "Heinz Ketchup Tomato Sauce Ketchup"
            ],
            [
             "Maggi 2 Minute Beef Flavour Instant Noodles"
            ],
            [
             "Woolworths Chocolate Chip Cookies"
            ],
            [
             "Arnott's Premier Chocolate Chip Cookies",
             "Cadbury Choc Centre Cookies"
            ],
            [
             "Mars Chocolate Bar With Nougat & Caramel",
             "Cadbury Chomp Chocolate Bar"
            ],
            [
             "Indomie Mi Goreng Instant Noodles",
             "Maggi 2 Minute Chicken Flavour Instant Noodles",
             "Supreme Noodles Cup Chicken Flavour",
             "Fantastic Chicken Noodle Cup",
             "Fantastic Chicken Noodle Bowl",
             "Indomie Mi Goreng Noodle Cup",
             "Maggi 2 Minute Beef Flavour Instant Noodles",
             "Supreme Noodles Cup Beef Flavour",
             "Kitkat 4 Finger Milk Chocolate Bar",
             "Kitkat Chunky Original Chocolate Bar",
             "Cadbury Chomp Chocolate Bar",
             "Arnott's Premier Chocolate Chip Cookies",
             "Woolworths Chocolate Chip Cookies",
             "Woolworths The King Of Chunky Chocolate Chip Cookies",
             "Arnott's Mini Choc Chip Cookie Multipack Biscuits",
             "Oreo Original Mini Cookies Multipack",
             "Oreo Minis Cookies Variety Bags 18 Pack",
             "Cadbury Classic Choc Chip Cookies",
             "Cadbury Choc Centre Cookies",
             "Byron Bay Cookies Dotty Cookie Bites",
             "Oreo Original Cookies",
             "Oreo Double Stuff Cookies",
             "Oreo Original Cookies Family Pack",
             "Oreo Chocolate Cookies",
             "Oreo Grab & Go Original Cookies 9 Pack",
             "Oreo Neapolitan Double Stuff Cookies"
            ],
            [
             "Masterfoods Barbecue Sauce"
            ],
            [
             "Indomie Mi Goreng Instant Noodles",
             "Indomie Mi Goreng Noodle Cup",
             "Maggi 2 Minute Beef Flavour Instant Noodles",
             "Supreme Noodles Cup Beef Flavour",
             "Kitkat 4 Finger Milk Chocolate Bar",
             "Kitkat Chunky Original Chocolate Bar",
             "Woolworths Chocolate Chip Cookies"
            ],
            [
             "Indomie Mi Goreng Instant Noodles",
             "Indomie Mi Goreng Noodle Cup",
             "Golden Circle Golden Pash Fruit Drink",
             "Golden Circle Drinks Pine Orange Fruit Drink",
             "Golden Circle Drinks Sunshine Punch Fruit Drink",
             "Golden Circle Fruit Drinks Lunch Box Poppers Tropical Punch Multipack",
             "Essentials Coconut Cream",
             "Deep Cove Sardines In Oil",
             "Essentials Coconut Milk",
             "Masterfoods Barbecue Sauce",
             "Woolworths Secret Burger Sauce",
             "Woolworths Peach In Strawberry Jelly",
             "Woolworths Two Fruits In Juice Cups",
             "Woolworths Two Fruits In Juice",
             "Woolworths Two Fruits In Tropical Jelly",
             "Woolworths Apple In Pineapple Jelly",
             "Dole Pineapple Slices In Syrup",
             "Dole Pineapple Chunks In Juice"
            ],
            [
             "Woolworths Apple Juice",
             "Woolworths Apple & Mango Juice",
             "Woolworths Orange Juice",
             "Woolworths Breakfast Juice",
             "Woolworths Apple & Blackcurrant Juice",
             "Woolworths Multivitamin Juice",
             "Golden Circle Golden Pash Fruit Drink",
             "Golden Circle Drinks Pine Orange Fruit Drink",
             "Golden Circle Drinks Sunshine Punch Fruit Drink",
             "Golden Circle Fruit Drinks Lunch Box Poppers Tropical Punch Multipack"
            ],
            [
             "Woolworths Multivitamin Juice"
            ],
            [
             "Woolworths Secret Burger Sauce"
            ],
            [
             "Fantastic Chicken Noodle Cup"
            ],
            [
             "Thins Chips Light & Tangy"
            ],
            [
             "Thins Chips Chicken"
            ],
            [
             "Maggi 2 Minute Chicken Flavour Instant Noodles",
             "Supreme Noodles Cup Chicken Flavour",
             "Fantastic Chicken Noodle Cup",
             "Fantastic Chicken Noodle Bowl",
             "Maggi 2 Minute Beef Flavour Instant Noodles",
             "Supreme Noodles Cup Beef Flavour",
             "Mars Chocolate Bar With Nougat & Caramel",
             "Cadbury Chomp Chocolate Bar",
             "Arnott's Premier Chocolate Chip Cookies",
             "Woolworths Chocolate Chip Cookies",
             "Woolworths The King Of Chunky Chocolate Chip Cookies",
             "Arnott's Mini Choc Chip Cookie Multipack Biscuits",
             "Oreo Original Mini Cookies Multipack",
             "Oreo Minis Cookies Variety Bags 18 Pack",
             "Cadbury Classic Choc Chip Cookies",
             "Cadbury Choc Centre Cookies",
             "Byron Bay Cookies Dotty Cookie Bites",
             "Oreo Original Cookies",
             "Oreo Double Stuff Cookies",
             "Oreo Original Cookies Family Pack",
             "Oreo Chocolate Cookies",
             "Oreo Grab & Go Original Cookies 9 Pack",
             "Oreo Neapolitan Double Stuff Cookies",
             "Deep Cove Sardines In Oil",
             "Thins Chips Salt & Vinegar",
             "Thins Chips Chicken",
             "Thins Chips Light & Tangy",
             "Thins Cheese & Onion Chips"
            ],
            [
             "Maggi 2 Minute Chicken Flavour Instant Noodles",
             "Maggi 2 Minute Beef Flavour Instant Noodles",
             "Kitkat 4 Finger Milk Chocolate Bar",
             "Kitkat Chunky Original Chocolate Bar",
             "Cadbury Dairy Milk Caramello Koala Chocolate",
             "Mars Chocolate Bar With Nougat & Caramel",
             "Cadbury Chomp Chocolate Bar",
             "Cadbury Classic Choc Chip Cookies",
             "Byron Bay Cookies Dotty Cookie Bites"
            ],
            [
             "Rimmel Scandaleyes Eye Definer Brown"
            ],
            [
             "Maggi 2 Minute Chicken Flavour Instant Noodles",
             "Thins Cheese & Onion Chips"
            ],
            [
             "Smith's Crinkle Cut Potato Chips Chicken"
            ],
            [
             "Woolworths Diced Italian Tomatoes",
             "Masterfoods Barbecue Sauce",
             "Fountain Barbecue Bbq Sauce Squeeze",
             "Heinz Ketchup Tomato Sauce Ketchup"
            ],
            [
             "Fountain Tomato Sauce Squeeze"
            ],
            [
             "Smith's Crinkle Cut Potato Chips Barbecue"
            ],
            [
             "Woolworths Barbecue Sauce Squeeze",
             "Masterfoods Tomato Sauce"
            ],
            [
             "Woolworths Diced Italian Tomatoes"
            ],
            [
             "Rimmel Scandaleyes Eye Definer Brown"
            ],
            [
             "Woolworths Tomato Sauce Squeeze",
             "Woolworths Tomato Sauce",
             "Woolworths Barbecue Sauce Squeeze",
             "Woolworths Barbecue Sauce"
            ],
            [
             "Cadbury Classic Choc Chip Cookies",
             "Woolworths Secret Burger Sauce"
            ],
            [
             "Cadbury Choc Centre Cookies"
            ],
            [
             "Oreo Original Mini Cookies Multipack",
             "Oreo Minis Cookies Variety Bags 18 Pack",
             "Oreo Original Cookies",
             "Oreo Double Stuff Cookies",
             "Oreo Original Cookies Family Pack",
             "Oreo Chocolate Cookies",
             "Oreo Grab & Go Original Cookies 9 Pack",
             "Oreo Neapolitan Double Stuff Cookies"
            ],
            [
             "Indomie Mi Goreng Instant Noodles",
             "Indomie Mi Goreng Noodle Cup"
            ],
            [
             "Masterfoods Barbecue Sauce"
            ],
            [
             "Indomie Mi Goreng Instant Noodles",
             "Maggi 2 Minute Chicken Flavour Instant Noodles",
             "Fantastic Chicken Noodle Bowl",
             "Indomie Mi Goreng Noodle Cup",
             "Maggi 2 Minute Beef Flavour Instant Noodles",
             "Oreo Original Mini Cookies Multipack",
             "Oreo Minis Cookies Variety Bags 18 Pack",
             "Oreo Original Cookies",
             "Oreo Double Stuff Cookies",
             "Oreo Original Cookies Family Pack",
             "Oreo Chocolate Cookies",
             "Oreo Grab & Go Original Cookies 9 Pack",
             "Oreo Neapolitan Double Stuff Cookies"
            ],
            [
             "Oreo Grab & Go Original Cookies 9 Pack"
            ],
            [
             "Rimmel Scandaleyes Eye Definer Brown"
            ],
            [
             "Coca - Cola Caffeine Free Zero Sugar Soft Drink Multipack Cans"
            ],
            [
             "Cadbury Dairy Milk Caramello Koala Chocolate",
             "Cadbury Chomp Chocolate Bar"
            ],
            [
             "Indomie Mi Goreng Instant Noodles",
             "Indomie Mi Goreng Noodle Cup"
            ],
            [
             "Smith's Crinkle Cut Potato Chips Original",
             "Smith's Crinkle Cut Potato Chips Cheese & Onion",
             "Smith's Crinkle Cut Potato Chips Barbecue",
             "Smith's Crinkle Cut Potato Chips Chicken",
             "Smith's Thinly Cut Potato Chips Original Share Pack",
             "Smith's Crinkle Cut Potato Chips Salt & Vinegar"
            ],
            [
             "Schweppes Lime Soda Water With Lime Juice Bottle",
             "Schweppes Orange Mango Natural Mineral Water Bottle"
            ],
            [
             "Coca - Cola Classic  Soft Drink Multipack Cans",
             "Coca - Cola Classic  Soft Drink Mini Cans",
             "Coca - Cola Vanilla  Soft Drink Multipack Cans",
             "Indomie Mi Goreng Instant Noodles",
             "Maggi 2 Minute Chicken Flavour Instant Noodles",
             "Supreme Noodles Cup Chicken Flavour",
             "Fantastic Chicken Noodle Cup",
             "Fantastic Chicken Noodle Bowl",
             "Indomie Mi Goreng Noodle Cup",
             "Maggi 2 Minute Beef Flavour Instant Noodles",
             "Supreme Noodles Cup Beef Flavour",
             "Schweppes Indian Tonic Water Classic Mixers Bottle",
             "Schweppes Lime Soda Water With Lime Juice Bottle",
             "Schweppes Lemon Lime Natural Mineral Water Bottle",
             "Schweppes Orange Mango Natural Mineral Water Bottle",
             "Kitkat 4 Finger Milk Chocolate Bar",
             "Kitkat Chunky Original Chocolate Bar",
             "Cadbury Dairy Milk Caramello Koala Chocolate",
             "Mars Chocolate Bar With Nougat & Caramel",
             "Cadbury Dairy Milk Chocolate Roll",
             "Cadbury Dairy Milk Chocolate Bar",
             "Cadbury Twirl Chocolate Bar",
             "Cadbury Chomp Chocolate Bar",
             "Arnott's Premier Chocolate Chip Cookies",
             "Woolworths Chocolate Chip Cookies",
             "Woolworths The King Of Chunky Chocolate Chip Cookies",
             "Arnott's Mini Choc Chip Cookie Multipack Biscuits",
             "Oreo Original Mini Cookies Multipack",
             "Oreo Minis Cookies Variety Bags 18 Pack",
             "Cadbury Classic Choc Chip Cookies",
             "Cadbury Choc Centre Cookies",
             "Byron Bay Cookies Dotty Cookie Bites",
             "Oreo Original Cookies",
             "Golden Circle Golden Pash Fruit Drink",
             "Golden Circle Drinks Pine Orange Fruit Drink",
             "Golden Circle Drinks Sunshine Punch Fruit Drink",
             "Golden Circle Fruit Drinks Lunch Box Poppers Tropical Punch Multipack",
             "Oreo Double Stuff Cookies",
             "Oreo Original Cookies Family Pack",
             "Oreo Chocolate Cookies",
             "Oreo Grab & Go Original Cookies 9 Pack",
             "Oreo Neapolitan Double Stuff Cookies",
             "Woolworths Creamed Rice",
             "Woolworths Tomato Sauce Squeeze",
             "Woolworths Tomato Sauce",
             "Woolworths Barbecue Sauce Squeeze",
             "Masterfoods Tomato Sauce",
             "Masterfoods Barbecue Sauce",
             "Fountain Tomato Sauce Squeeze",
             "Fountain Barbecue Bbq Sauce Squeeze",
             "Woolworths Secret Burger Sauce",
             "Heinz Ketchup Tomato Sauce Ketchup",
             "Woolworths Barbecue Sauce",
             "Smith's Crinkle Cut Potato Chips Barbecue",
             "Smith's Crinkle Cut Potato Chips Chicken",
             "Thins Chips Chicken",
             "Smith's Crinkle Cut Potato Chips Salt & Vinegar",
             "Thins Chips Light & Tangy",
             "Thins Cheese & Onion Chips",
             "Woolworths Peach In Strawberry Jelly",
             "Woolworths Two Fruits In Tropical Jelly",
             "Woolworths Apple In Pineapple Jelly",
             "Dole Pineapple Slices In Syrup"
            ],
            [
             "Oreo Minis Cookies Variety Bags 18 Pack"
            ],
            [
             "Cadbury Classic Choc Chip Cookies"
            ],
            [
             "Indomie Mi Goreng Instant Noodles",
             "Indomie Mi Goreng Noodle Cup",
             "Woolworths Barbecue Sauce Squeeze",
             "Fountain Barbecue Bbq Sauce Squeeze",
             "Woolworths Barbecue Sauce"
            ],
            [
             "Maggi 2 Minute Chicken Flavour Instant Noodles"
            ],
            [
             "Woolworths Tomato Sauce Squeeze",
             "Woolworths Tomato Sauce",
             "Masterfoods Tomato Sauce"
            ],
            [
             "Maggi 2 Minute Chicken Flavour Instant Noodles"
            ],
            [
             "Maggi 2 Minute Chicken Flavour Instant Noodles"
            ],
            [
             "Cadbury Classic Choc Chip Cookies",
             "Cadbury Choc Centre Cookies"
            ],
            [
             "Maggi 2 Minute Beef Flavour Instant Noodles"
            ],
            [
             "Indomie Mi Goreng Instant Noodles",
             "Indomie Mi Goreng Noodle Cup"
            ],
            [
             "Supreme Noodles Cup Chicken Flavour",
             "Fantastic Chicken Noodle Cup",
             "Maggi 2 Minute Beef Flavour Instant Noodles",
             "Supreme Noodles Cup Beef Flavour",
             "Kitkat Chunky Original Chocolate Bar"
            ],
            [
             "Cadbury Chomp Chocolate Bar",
             "Byron Bay Cookies Dotty Cookie Bites"
            ],
            [
             "Indomie Mi Goreng Instant Noodles",
             "Indomie Mi Goreng Noodle Cup",
             "Schweppes Lime Soda Water With Lime Juice Bottle",
             "Schweppes Lemon Lime Natural Mineral Water Bottle",
             "Schweppes Orange Mango Natural Mineral Water Bottle"
            ],
            [
             "Smith's Crinkle Cut Potato Chips Barbecue",
             "Thins Chips Salt & Vinegar",
             "Smith's Crinkle Cut Potato Chips Salt & Vinegar"
            ],
            [
             "Coca - Cola Zero Sugar Soft Drink Multipack Cans",
             "Coca - Cola Caffeine Free Zero Sugar Soft Drink Multipack Cans",
             "Coca - Cola Zero Sugar Soft Drink Mini Cans",
             "Schweppes Zero Sugar Classic Mixers Indian Tonic Water Bottle"
            ],
            [
             "Schweppes Lemon Lime Natural Mineral Water Bottle"
            ],
            [
             "Woolworths Peach In Strawberry Jelly",
             "Woolworths Two Fruits In Tropical Jelly",
             "Woolworths Apple In Pineapple Jelly"
            ],
            [
             "Woolworths Chocolate Chip Cookies",
             "Woolworths The King Of Chunky Chocolate Chip Cookies"
            ],
            [
             "Cadbury Chomp Chocolate Bar",
             "Oreo Original Mini Cookies Multipack",
             "Oreo Minis Cookies Variety Bags 18 Pack",
             "Cadbury Classic Choc Chip Cookies",
             "Cadbury Choc Centre Cookies",
             "Byron Bay Cookies Dotty Cookie Bites",
             "Oreo Original Cookies",
             "Oreo Double Stuff Cookies",
             "Oreo Original Cookies Family Pack",
             "Oreo Chocolate Cookies",
             "Oreo Grab & Go Original Cookies 9 Pack",
             "Oreo Neapolitan Double Stuff Cookies"
            ],
            [
             "Kitkat 4 Finger Milk Chocolate Bar",
             "Kitkat Chunky Original Chocolate Bar"
            ],
            [
             "Indomie Mi Goreng Instant Noodles",
             "Indomie Mi Goreng Noodle Cup"
            ],
            [
             "Schweppes Lime Soda Water With Lime Juice Bottle",
             "Schweppes Lemon Lime Natural Mineral Water Bottle",
             "Schweppes Orange Mango Natural Mineral Water Bottle"
            ],
            [
             "Woolworths Barbecue Sauce Squeeze",
             "Woolworths Barbecue Sauce"
            ],
            [
             "Arnott's Mini Choc Chip Cookie Multipack Biscuits"
            ],
            [
             "Woolworths Creamed Rice"
            ],
            [
             "Rimmel Scandaleyes Eye Definer Brown"
            ],
            [
             "Indomie Mi Goreng Instant Noodles",
             "Indomie Mi Goreng Noodle Cup"
            ],
            [
             "Indomie Mi Goreng Instant Noodles",
             "Indomie Mi Goreng Noodle Cup"
            ],
            [
             "Indomie Mi Goreng Instant Noodles",
             "Indomie Mi Goreng Noodle Cup"
            ],
            [
             "Deep Cove Sardines In Oil"
            ],
            [
             "Indomie Mi Goreng Instant Noodles",
             "Maggi 2 Minute Chicken Flavour Instant Noodles",
             "Supreme Noodles Cup Chicken Flavour",
             "Fantastic Chicken Noodle Cup",
             "Fantastic Chicken Noodle Bowl",
             "Indomie Mi Goreng Noodle Cup",
             "Maggi 2 Minute Beef Flavour Instant Noodles",
             "Supreme Noodles Cup Beef Flavour",
             "Kitkat 4 Finger Milk Chocolate Bar",
             "Kitkat Chunky Original Chocolate Bar",
             "Cadbury Dairy Milk Caramello Koala Chocolate",
             "Mars Chocolate Bar With Nougat & Caramel",
             "Cadbury Chomp Chocolate Bar",
             "Arnott's Premier Chocolate Chip Cookies",
             "Woolworths Chocolate Chip Cookies",
             "Woolworths The King Of Chunky Chocolate Chip Cookies",
             "Arnott's Mini Choc Chip Cookie Multipack Biscuits",
             "Oreo Original Mini Cookies Multipack",
             "Oreo Minis Cookies Variety Bags 18 Pack",
             "Cadbury Classic Choc Chip Cookies",
             "Cadbury Choc Centre Cookies",
             "Byron Bay Cookies Dotty Cookie Bites",
             "Oreo Original Cookies",
             "Oreo Double Stuff Cookies",
             "Oreo Original Cookies Family Pack",
             "Oreo Chocolate Cookies",
             "Oreo Grab & Go Original Cookies 9 Pack",
             "Deep Cove Sardines In Oil",
             "Woolworths Creamed Rice",
             "Woolworths Tomato Sauce Squeeze",
             "Woolworths Tomato Sauce",
             "Woolworths Barbecue Sauce Squeeze",
             "Masterfoods Tomato Sauce",
             "Masterfoods Barbecue Sauce",
             "Fountain Tomato Sauce Squeeze",
             "Fountain Barbecue Bbq Sauce Squeeze",
             "Woolworths Secret Burger Sauce",
             "Heinz Ketchup Tomato Sauce Ketchup",
             "Woolworths Barbecue Sauce",
             "Smith's Crinkle Cut Potato Chips Original",
             "Smith's Crinkle Cut Potato Chips Cheese & Onion",
             "Smith's Crinkle Cut Potato Chips Barbecue",
             "Smith's Crinkle Cut Potato Chips Chicken",
             "Thins Chips Salt & Vinegar",
             "Smith's Thinly Cut Potato Chips Original Share Pack",
             "Thins Chips Chicken",
             "Smith's Crinkle Cut Potato Chips Salt & Vinegar",
             "Thins Chips Light & Tangy",
             "Thins Cheese & Onion Chips"
            ],
            [
             "Schweppes Lemon Lime Natural Mineral Water Bottle"
            ],
            [
             "Maggi 2 Minute Beef Flavour Instant Noodles"
            ],
            [
             "Woolworths Creamed Rice"
            ],
            [
             "Oreo Original Mini Cookies Multipack",
             "Oreo Minis Cookies Variety Bags 18 Pack",
             "Oreo Original Cookies",
             "Oreo Double Stuff Cookies",
             "Oreo Original Cookies Family Pack",
             "Oreo Chocolate Cookies",
             "Oreo Grab & Go Original Cookies 9 Pack",
             "Oreo Neapolitan Double Stuff Cookies"
            ],
            [
             "Indomie Mi Goreng Instant Noodles",
             "Indomie Mi Goreng Noodle Cup"
            ],
            [
             "Woolworths Two Fruits In Juice"
            ],
            [
             "Woolworths Two Fruits In Juice"
            ],
            [
             "Woolworths Two Fruits In Juice"
            ],
            [
             "Woolworths Two Fruits In Juice"
            ],
            [
             "Goulburn Valley Two Fruits In Juice",
             "Goulburn Valley Two Fruits In Juice Fruit Cups In Juice"
            ],
            [
             "Byron Bay Cookies Dotty Cookie Bites"
            ],
            [
             "Woolworths Tomato Sauce Squeeze",
             "Woolworths Tomato Sauce"
            ],
            [
             "Woolworths Two Fruits In Juice Cups",
             "Woolworths Two Fruits In Juice"
            ],
            [
             "Schweppes Orange Mango Natural Mineral Water Bottle",
             "Woolworths Apple & Mango Juice",
             "Woolworths Breakfast Juice",
             "Woolworths Multivitamin Juice"
            ],
            [
             "Schweppes Lime Soda Water With Lime Juice Bottle",
             "Schweppes Lemon Lime Natural Mineral Water Bottle"
            ],
            [
             "Schweppes Lemon Lime Natural Mineral Water Bottle",
             "Woolworths Multivitamin Juice"
            ],
            [
             "Woolworths Barbecue Sauce"
            ],
            [
             "Woolworths Barbecue Sauce"
            ],
            [
             "Woolworths Barbecue Sauce Squeeze"
            ],
            [
             "Golden Circle Drinks Sunshine Punch Fruit Drink"
            ],
            [
             "Woolworths Breakfast Juice",
             "Golden Circle Golden Pash Fruit Drink",
             "Golden Circle Drinks Pine Orange Fruit Drink",
             "Golden Circle Drinks Sunshine Punch Fruit Drink",
             "Golden Circle Fruit Drinks Lunch Box Poppers Tropical Punch Multipack"
            ],
            [
             "Woolworths Multivitamin Juice",
             "Golden Circle Golden Pash Fruit Drink",
             "Golden Circle Drinks Sunshine Punch Fruit Drink",
             "Golden Circle Fruit Drinks Lunch Box Poppers Tropical Punch Multipack"
            ],
            [
             "Golden Circle Drinks Sunshine Punch Fruit Drink",
             "Golden Circle Fruit Drinks Lunch Box Poppers Tropical Punch Multipack"
            ],
            [
             "Woolworths Multivitamin Juice"
            ],
            [
             "Woolworths Breakfast Juice",
             "Woolworths Multivitamin Juice",
             "Golden Circle Golden Pash Fruit Drink",
             "Golden Circle Drinks Sunshine Punch Fruit Drink",
             "Golden Circle Fruit Drinks Lunch Box Poppers Tropical Punch Multipack"
            ],
            [
             "Schweppes Orange Mango Natural Mineral Water Bottle",
             "Woolworths Orange Juice",
             "Woolworths Breakfast Juice",
             "Woolworths Multivitamin Juice",
             "Golden Circle Drinks Pine Orange Fruit Drink",
             "Golden Circle Drinks Sunshine Punch Fruit Drink",
             "Golden Circle Fruit Drinks Lunch Box Poppers Tropical Punch Multipack"
            ],
            [
             "Woolworths Multivitamin Juice"
            ],
            [
             "Woolworths Apple & Blackcurrant Juice"
            ],
            [
             "Woolworths Multivitamin Juice"
            ],
            [
             "Woolworths Apple & Mango Juice",
             "Woolworths Breakfast Juice",
             "Woolworths Apple & Blackcurrant Juice",
             "Woolworths Multivitamin Juice",
             "Golden Circle Golden Pash Fruit Drink",
             "Golden Circle Drinks Sunshine Punch Fruit Drink",
             "Golden Circle Fruit Drinks Lunch Box Poppers Tropical Punch Multipack"
            ],
            [
             "Woolworths Apple Juice"
            ],
            [
             "Cadbury Classic Choc Chip Cookies",
             "Cadbury Choc Centre Cookies",
             "Byron Bay Cookies Dotty Cookie Bites"
            ],
            [
             "Schweppes Indian Tonic Water Classic Mixers Bottle",
             "Schweppes Zero Sugar Classic Mixers Indian Tonic Water Bottle"
            ],
            [
             "Kitkat 4 Finger Milk Chocolate Bar"
            ],
            [
             "Indomie Mi Goreng Instant Noodles",
             "Indomie Mi Goreng Noodle Cup"
            ],
            [
             "Smith's Crinkle Cut Potato Chips Original",
             "Smith's Crinkle Cut Potato Chips Cheese & Onion",
             "Smith's Crinkle Cut Potato Chips Barbecue",
             "Smith's Crinkle Cut Potato Chips Chicken",
             "Thins Chips Salt & Vinegar",
             "Smith's Thinly Cut Potato Chips Original Share Pack",
             "Thins Chips Chicken",
             "Smith's Crinkle Cut Potato Chips Salt & Vinegar",
             "Thins Chips Light & Tangy",
             "Thins Cheese & Onion Chips"
            ],
            [
             "Maggi 2 Minute Chicken Flavour Instant Noodles",
             "Cadbury Classic Choc Chip Cookies"
            ],
            [
             "Woolworths Secret Burger Sauce"
            ],
            [
             "Schweppes Lemon Lime Natural Mineral Water Bottle",
             "Schweppes Orange Mango Natural Mineral Water Bottle"
            ],
            [
             "Woolworths Peach In Strawberry Jelly",
             "Woolworths Two Fruits In Tropical Jelly",
             "Woolworths Apple In Pineapple Jelly"
            ],
            [
             "Golden Circle Golden Pash Fruit Drink",
             "Golden Circle Drinks Sunshine Punch Fruit Drink",
             "Golden Circle Fruit Drinks Lunch Box Poppers Tropical Punch Multipack"
            ],
            [
             "Maggi 2 Minute Chicken Flavour Instant Noodles",
             "Maggi 2 Minute Beef Flavour Instant Noodles",
             "Smith's Crinkle Cut Potato Chips Cheese & Onion",
             "Smith's Crinkle Cut Potato Chips Barbecue",
             "Smith's Crinkle Cut Potato Chips Chicken",
             "Thins Chips Salt & Vinegar",
             "Thins Chips Chicken",
             "Smith's Crinkle Cut Potato Chips Salt & Vinegar",
             "Thins Cheese & Onion Chips"
            ],
            [
             "Schweppes Soda Water Bottle Classic Mixers"
            ],
            [
             "Arnott's Premier Chocolate Chip Cookies"
            ],
            [
             "Kitkat 4 Finger Milk Chocolate Bar",
             "Kitkat Chunky Original Chocolate Bar",
             "Cadbury Dairy Milk Caramello Koala Chocolate",
             "Cadbury Dairy Milk Chocolate Roll",
             "Cadbury Dairy Milk Chocolate Bar",
             "Cadbury Twirl Chocolate Bar",
             "Cadbury Chomp Chocolate Bar",
             "Byron Bay Cookies Dotty Cookie Bites"
            ],
            [
             "Rimmel Scandaleyes Eye Definer Brown"
            ],
            [
             "Rimmel Scandaleyes Eye Definer Brown"
            ],
            [
             "Schweppes Lime Soda Water With Lime Juice Bottle"
            ],
            [
             "Schweppes Lime Soda Water With Lime Juice Bottle"
            ],
            [
             "Dole Pineapple Chunks In Juice"
            ],
            [
             "Dole Pineapple Slices In Syrup",
             "Dole Pineapple Chunks In Juice"
            ],
            [
             "Coca - Cola Classic  Soft Drink Multipack Cans",
             "Coca - Cola Classic  Soft Drink Mini Cans",
             "Coca - Cola Vanilla  Soft Drink Multipack Cans",
             "Coca - Cola Zero Sugar Soft Drink Multipack Cans",
             "Coca - Cola Caffeine Free Zero Sugar Soft Drink Multipack Cans",
             "Coca - Cola Zero Sugar Soft Drink Mini Cans"
            ],
            [
             "Indomie Mi Goreng Instant Noodles",
             "Indomie Mi Goreng Noodle Cup",
             "Masterfoods Barbecue Sauce",
             "Thins Chips Chicken"
            ],
            [
             "Rimmel Scandaleyes Eye Definer Brown"
            ],
            [
             "Golden Circle Drinks Pine Orange Fruit Drink",
             "Golden Circle Drinks Sunshine Punch Fruit Drink"
            ],
            [
             "Masterfoods Barbecue Sauce"
            ],
            [
             "Woolworths Two Fruits In Juice Cups",
             "Woolworths Two Fruits In Juice",
             "Woolworths Two Fruits In Tropical Jelly"
            ],
            [
             "Norco Full Cream Milk"
            ],
            [
             "Maggi 2 Minute Chicken Flavour Instant Noodles"
            ],
            [
             "Maggi 2 Minute Chicken Flavour Instant Noodles",
             "Smith's Crinkle Cut Potato Chips Chicken",
             "Thins Chips Chicken",
             "Thins Cheese & Onion Chips"
            ],
            [
             "Woolworths Secret Burger Sauce",
             "Woolworths Two Fruits In Tropical Jelly"
            ],
            [
             "Thins Cheese & Onion Chips"
            ],
            [
             "Smith's Crinkle Cut Potato Chips Barbecue"
            ],
            [
             "Woolworths Chocolate Chip Cookies",
             "Woolworths The King Of Chunky Chocolate Chip Cookies"
            ],
            [
             "Indomie Mi Goreng Instant Noodles",
             "Maggi 2 Minute Chicken Flavour Instant Noodles",
             "Supreme Noodles Cup Chicken Flavour",
             "Fantastic Chicken Noodle Cup",
             "Indomie Mi Goreng Noodle Cup",
             "Woolworths Secret Burger Sauce",
             "Smith's Crinkle Cut Potato Chips Cheese & Onion",
             "Smith's Crinkle Cut Potato Chips Barbecue",
             "Smith's Crinkle Cut Potato Chips Chicken",
             "Thins Chips Chicken",
             "Thins Chips Light & Tangy",
             "Thins Cheese & Onion Chips"
            ],
            [
             "Indomie Mi Goreng Instant Noodles",
             "Maggi 2 Minute Chicken Flavour Instant Noodles",
             "Indomie Mi Goreng Noodle Cup",
             "Maggi 2 Minute Beef Flavour Instant Noodles",
             "Masterfoods Tomato Sauce",
             "Masterfoods Barbecue Sauce"
            ],
            [
             "Rimmel Scandaleyes Eye Definer Brown"
            ],
            [
             "Masterfoods Barbecue Sauce"
            ],
            [
             "Woolworths The King Of Chunky Chocolate Chip Cookies",
             "Byron Bay Cookies Dotty Cookie Bites",
             "Woolworths Creamed Rice"
            ],
            [
             "Woolworths Peach In Strawberry Jelly"
            ],
            [
             "Woolworths Spring Water Bottles",
             "Woolworths Spring Water"
            ],
            [
             "Schweppes Natural Mineral Water Bottle Natural"
            ],
            [
             "Schweppes Zero Sugar Lime Infused Mineral Water Bottle",
             "Schweppes Raspberry Infused Natural Mineral Water Bottle",
             "Schweppes Lemon Lime Natural Mineral Water Bottle",
             "Schweppes Orange Mango Natural Mineral Water Bottle",
             "Woolworths Breakfast Juice",
             "Woolworths Multivitamin Juice",
             "Golden Circle Golden Pash Fruit Drink",
             "Golden Circle Drinks Sunshine Punch Fruit Drink",
             "Golden Circle Fruit Drinks Lunch Box Poppers Tropical Punch Multipack",
             "Fountain Barbecue Bbq Sauce Squeeze",
             "Heinz Ketchup Tomato Sauce Ketchup",
             "Smith's Crinkle Cut Potato Chips Salt & Vinegar"
            ],
            [
             "Mars Chocolate Bar With Nougat & Caramel"
            ],
            [
             "Woolworths The King Of Chunky Chocolate Chip Cookies"
            ],
            [
             "Woolworths Two Fruits In Tropical Jelly"
            ],
            [
             "Schweppes Indian Tonic Water Classic Mixers Bottle",
             "Schweppes Zero Sugar Classic Mixers Indian Tonic Water Bottle"
            ],
            [
             "Woolworths Two Fruits In Tropical Jelly"
            ],
            [
             "Schweppes Lime Soda Water With Lime Juice Bottle"
            ],
            [
             "Schweppes Indian Tonic Water Classic Mixers Bottle",
             "Schweppes Zero Sugar Classic Mixers Indian Tonic Water Bottle"
            ],
            [
             "Schweppes Indian Tonic Water Classic Mixers Bottle",
             "Schweppes Zero Sugar Classic Mixers Indian Tonic Water Bottle"
            ],
            [
             "Woolworths The King Of Chunky Chocolate Chip Cookies"
            ],
            [
             "Schweppes Indian Tonic Water Classic Mixers Bottle",
             "Schweppes Zero Sugar Classic Mixers Indian Tonic Water Bottle"
            ],
            [
             "Woolworths Chocolate Chip Cookies",
             "Arnott's Mini Choc Chip Cookie Multipack Biscuits",
             "Woolworths Apple Juice",
             "Woolworths Apple & Mango Juice",
             "Woolworths Orange Juice",
             "Woolworths Apple & Blackcurrant Juice",
             "Golden Circle Drinks Pine Orange Fruit Drink",
             "Woolworths Tomato Sauce Squeeze",
             "Woolworths Tomato Sauce",
             "Fountain Tomato Sauce Squeeze",
             "Woolworths Barbecue Sauce",
             "Thins Chips Salt & Vinegar",
             "Thins Cheese & Onion Chips"
            ],
            [
             "Woolworths Secret Burger Sauce"
            ],
            [
             "Woolworths Barbecue Sauce Squeeze",
             "Fountain Barbecue Bbq Sauce Squeeze",
             "Woolworths Barbecue Sauce"
            ],
            [
             "Fantastic Chicken Noodle Bowl"
            ],
            [
             "Maggi 2 Minute Chicken Flavour Instant Noodles",
             "Maggi 2 Minute Beef Flavour Instant Noodles"
            ],
            [
             "Maggi 2 Minute Chicken Flavour Instant Noodles",
             "Fantastic Chicken Noodle Bowl",
             "Maggi 2 Minute Beef Flavour Instant Noodles"
            ],
            [
             "Maggi 2 Minute Chicken Flavour Instant Noodles",
             "Fantastic Chicken Noodle Bowl",
             "Maggi 2 Minute Beef Flavour Instant Noodles"
            ],
            [
             "Maggi 2 Minute Chicken Flavour Instant Noodles",
             "Maggi 2 Minute Beef Flavour Instant Noodles"
            ],
            [
             "Fantastic Chicken Noodle Bowl"
            ],
            [
             "Oreo Original Mini Cookies Multipack",
             "Oreo Minis Cookies Variety Bags 18 Pack",
             "Oreo Original Cookies",
             "Oreo Double Stuff Cookies",
             "Oreo Original Cookies Family Pack",
             "Oreo Chocolate Cookies",
             "Oreo Grab & Go Original Cookies 9 Pack",
             "Oreo Neapolitan Double Stuff Cookies"
            ],
            [
             "Woolworths Chocolate Chip Cookies",
             "Woolworths The King Of Chunky Chocolate Chip Cookies",
             "Smith's Crinkle Cut Potato Chips Cheese & Onion",
             "Thins Chips Light & Tangy",
             "Thins Cheese & Onion Chips"
            ],
            [
             "Kitkat 4 Finger Milk Chocolate Bar",
             "Kitkat Chunky Original Chocolate Bar",
             "Cadbury Dairy Milk Caramello Koala Chocolate",
             "Mars Chocolate Bar With Nougat & Caramel",
             "Cadbury Dairy Milk Chocolate Roll",
             "Cadbury Dairy Milk Chocolate Bar",
             "Cadbury Twirl Chocolate Bar",
             "Cadbury Chomp Chocolate Bar",
             "Arnott's Premier Chocolate Chip Cookies",
             "Cadbury Classic Choc Chip Cookies",
             "Cadbury Choc Centre Cookies",
             "Byron Bay Cookies Dotty Cookie Bites"
            ],
            [
             "Smith's Crinkle Cut Potato Chips Salt & Vinegar"
            ],
            [
             "Byron Bay Cookies Dotty Cookie Bites"
            ],
            [
             "Cadbury Classic Choc Chip Cookies",
             "Cadbury Choc Centre Cookies"
            ],
            [
             "Twix Milk Chocolate Bar With Caramel Biscuit"
            ],
            [
             "Woolworths The King Of Chunky Chocolate Chip Cookies",
             "Arnott's Mini Choc Chip Cookie Multipack Biscuits",
             "Byron Bay Cookies Dotty Cookie Bites"
            ],
            [
             "Kitkat 4 Finger Milk Chocolate Bar",
             "Kitkat Chunky Original Chocolate Bar",
             "Woolworths Chocolate Chip Cookies",
             "Dairy Farmers Full Cream Milk Full Cream Milk",
             "A2 Milk Full Cream Milk",
             "Woolworths Creamed Rice"
            ],
            [
             "Rimmel Scandaleyes Eye Definer Brown"
            ],
            [
             "Maggi 2 Minute Chicken Flavour Instant Noodles",
             "Supreme Noodles Cup Chicken Flavour",
             "Fantastic Chicken Noodle Cup",
             "Oreo Neapolitan Double Stuff Cookies",
             "Smith's Crinkle Cut Potato Chips Cheese & Onion",
             "Smith's Crinkle Cut Potato Chips Barbecue",
             "Smith's Crinkle Cut Potato Chips Chicken"
            ],
            [
             "Woolworths Peach In Strawberry Jelly",
             "Woolworths Two Fruits In Tropical Jelly",
             "Woolworths Apple In Pineapple Jelly"
            ],
            [
             "Fountain Barbecue Bbq Sauce Squeeze"
            ],
            [
             "Byron Bay Cookies Dotty Cookie Bites"
            ],
            [
             "Fountain Barbecue Bbq Sauce Squeeze"
            ],
            [
             "Schweppes Orange Mango Natural Mineral Water Bottle"
            ],
            [
             "Woolworths Peach In Strawberry Jelly",
             "Woolworths Two Fruits In Tropical Jelly",
             "Woolworths Apple In Pineapple Jelly"
            ],
            [
             "Thins Cheese & Onion Chips"
            ],
            [
             "Woolworths Apple In Pineapple Jelly"
            ],
            [
             "Rimmel Scandaleyes Eye Definer Brown"
            ],
            [
             "Maggi 2 Minute Chicken Flavour Instant Noodles",
             "Oreo Neapolitan Double Stuff Cookies"
            ],
            [
             "Cadbury Dairy Milk Caramello Koala Chocolate"
            ],
            [
             "Woolworths Uht Full Cream Milk"
            ],
            [
             "Indomie Mi Goreng Instant Noodles",
             "Supreme Noodles Cup Chicken Flavour",
             "Fantastic Chicken Noodle Cup",
             "Indomie Mi Goreng Noodle Cup"
            ],
            [
             "Woolworths Secret Burger Sauce"
            ],
            [
             "Woolworths Multivitamin Juice"
            ],
            [
             "Indomie Mi Goreng Instant Noodles",
             "Indomie Mi Goreng Noodle Cup"
            ],
            [
             "Maggi 2 Minute Chicken Flavour Instant Noodles",
             "Fantastic Chicken Noodle Bowl",
             "Maggi 2 Minute Beef Flavour Instant Noodles"
            ],
            [
             "Essentials Coconut Cream"
            ],
            [
             "Essentials Coconut Milk"
            ],
            [
             "Cadbury Dairy Milk Caramello Koala Chocolate"
            ],
            [
             "Supreme Noodles Cup Chicken Flavour",
             "Fantastic Chicken Noodle Cup"
            ],
            [
             "Cadbury Dairy Milk Caramello Koala Chocolate",
             "Cadbury Classic Choc Chip Cookies",
             "Masterfoods Barbecue Sauce"
            ],
            [
             "Thins Chips Chicken"
            ],
            [
             "Byron Bay Cookies Dotty Cookie Bites"
            ],
            [
             "Woolworths Secret Burger Sauce"
            ],
            [
             "Indomie Mi Goreng Instant Noodles",
             "Indomie Mi Goreng Noodle Cup",
             "Supreme Noodles Cup Beef Flavour",
             "Smith's Crinkle Cut Potato Chips Barbecue"
            ],
            [
             "Thins Chips Light & Tangy"
            ],
            [
             "Cadbury Dairy Milk Caramello Koala Chocolate",
             "Cadbury Dairy Milk Chocolate Roll",
             "Cadbury Dairy Milk Chocolate Bar",
             "Cadbury Twirl Chocolate Bar",
             "Woolworths Full Cream Milk",
             "Pauls Farmhouse Gold Full Cream Milk"
            ],
            [
             "Woolworths Peach In Strawberry Jelly",
             "Woolworths Two Fruits In Juice Cups",
             "Woolworths Two Fruits In Juice",
             "Woolworths Two Fruits In Tropical Jelly"
            ],
            [
             "Oreo Original Mini Cookies Multipack",
             "Oreo Minis Cookies Variety Bags 18 Pack",
             "Oreo Original Cookies",
             "Oreo Double Stuff Cookies",
             "Oreo Original Cookies Family Pack",
             "Oreo Chocolate Cookies",
             "Oreo Neapolitan Double Stuff Cookies"
            ],
            [
             "Oreo Grab & Go Original Cookies 9 Pack"
            ],
            [
             "Indomie Mi Goreng Instant Noodles",
             "Indomie Mi Goreng Noodle Cup"
            ],
            [
             "Woolworths Secret Burger Sauce"
            ],
            [
             "Oreo Original Mini Cookies Multipack",
             "Oreo Minis Cookies Variety Bags 18 Pack",
             "Oreo Original Cookies",
             "Woolworths Multivitamin Juice",
             "Oreo Double Stuff Cookies",
             "Oreo Original Cookies Family Pack",
             "Oreo Chocolate Cookies",
             "Oreo Grab & Go Original Cookies 9 Pack",
             "Oreo Neapolitan Double Stuff Cookies"
            ],
            [
             "Maggi 2 Minute Chicken Flavour Instant Noodles",
             "Fantastic Chicken Noodle Bowl"
            ],
            [
             "Maggi 2 Minute Chicken Flavour Instant Noodles",
             "Fantastic Chicken Noodle Bowl"
            ],
            [
             "Indomie Mi Goreng Noodle Cup",
             "Cadbury Dairy Milk Caramello Koala Chocolate",
             "Cadbury Dairy Milk Chocolate Roll",
             "Cadbury Dairy Milk Chocolate Bar",
             "Cadbury Twirl Chocolate Bar",
             "Cadbury Chomp Chocolate Bar",
             "Cadbury Choc Centre Cookies",
             "Oreo Neapolitan Double Stuff Cookies",
             "Smith's Crinkle Cut Potato Chips Barbecue",
             "Thins Chips Chicken"
            ],
            [
             "Smith's Crinkle Cut Potato Chips Cheese & Onion",
             "Smith's Crinkle Cut Potato Chips Chicken"
            ],
            [
             "Fantastic Chicken Noodle Cup"
            ],
            [
             "Maggi 2 Minute Chicken Flavour Instant Noodles",
             "Supreme Noodles Cup Chicken Flavour",
             "Fantastic Chicken Noodle Cup",
             "Maggi 2 Minute Beef Flavour Instant Noodles",
             "Supreme Noodles Cup Beef Flavour",
             "Smith's Crinkle Cut Potato Chips Barbecue",
             "Smith's Crinkle Cut Potato Chips Chicken",
             "Thins Chips Chicken",
             "Thins Chips Light & Tangy",
             "Thins Cheese & Onion Chips"
            ],
            [
             "Indomie Mi Goreng Instant Noodles",
             "Maggi 2 Minute Chicken Flavour Instant Noodles",
             "Supreme Noodles Cup Chicken Flavour",
             "Fantastic Chicken Noodle Cup",
             "Fantastic Chicken Noodle Bowl",
             "Indomie Mi Goreng Noodle Cup",
             "Maggi 2 Minute Beef Flavour Instant Noodles",
             "Supreme Noodles Cup Beef Flavour",
             "Smith's Crinkle Cut Potato Chips Cheese & Onion",
             "Smith's Crinkle Cut Potato Chips Barbecue",
             "Smith's Crinkle Cut Potato Chips Chicken",
             "Thins Chips Salt & Vinegar",
             "Thins Chips Chicken",
             "Smith's Crinkle Cut Potato Chips Salt & Vinegar",
             "Thins Cheese & Onion Chips"
            ],
            [
             "Smith's Crinkle Cut Potato Chips Chicken"
            ],
            [
             "Maggi 2 Minute Chicken Flavour Instant Noodles"
            ],
            [
             "Coca - Cola Classic  Soft Drink Multipack Cans",
             "Coca - Cola Classic  Soft Drink Mini Cans",
             "Coca - Cola Vanilla  Soft Drink Multipack Cans",
             "Coca - Cola Zero Sugar Soft Drink Multipack Cans",
             "Coca - Cola Caffeine Free Zero Sugar Soft Drink Multipack Cans",
             "Coca - Cola Zero Sugar Soft Drink Mini Cans",
             "Maggi 2 Minute Beef Flavour Instant Noodles",
             "Kitkat 4 Finger Milk Chocolate Bar",
             "Kitkat Chunky Original Chocolate Bar",
             "Arnott's Premier Chocolate Chip Cookies",
             "Oreo Original Mini Cookies Multipack",
             "Oreo Minis Cookies Variety Bags 18 Pack",
             "Cadbury Classic Choc Chip Cookies",
             "Cadbury Choc Centre Cookies",
             "Byron Bay Cookies Dotty Cookie Bites",
             "Oreo Original Cookies",
             "Oreo Double Stuff Cookies",
             "Oreo Original Cookies Family Pack",
             "Oreo Chocolate Cookies",
             "Oreo Grab & Go Original Cookies 9 Pack",
             "Thins Chips Light & Tangy"
            ],
            [
             "Rimmel Scandaleyes Eye Definer Brown"
            ],
            [
             "Cadbury Chomp Chocolate Bar"
            ],
            [
             "Kitkat 4 Finger Milk Chocolate Bar",
             "Kitkat Chunky Original Chocolate Bar",
             "Cadbury Dairy Milk Caramello Koala Chocolate",
             "Mars Chocolate Bar With Nougat & Caramel",
             "Cadbury Dairy Milk Chocolate Roll",
             "Cadbury Dairy Milk Chocolate Bar",
             "Cadbury Twirl Chocolate Bar",
             "Cadbury Chomp Chocolate Bar",
             "Arnott's Premier Chocolate Chip Cookies",
             "Woolworths Chocolate Chip Cookies",
             "Woolworths The King Of Chunky Chocolate Chip Cookies",
             "Arnott's Mini Choc Chip Cookie Multipack Biscuits",
             "Oreo Original Mini Cookies Multipack",
             "Oreo Minis Cookies Variety Bags 18 Pack",
             "Cadbury Choc Centre Cookies",
             "Byron Bay Cookies Dotty Cookie Bites",
             "Oreo Original Cookies",
             "Oreo Double Stuff Cookies",
             "Oreo Original Cookies Family Pack",
             "Oreo Chocolate Cookies",
             "Oreo Grab & Go Original Cookies 9 Pack",
             "Oreo Neapolitan Double Stuff Cookies"
            ],
            [
             "Cadbury Chomp Chocolate Bar"
            ],
            [
             "Cadbury Classic Choc Chip Cookies",
             "Cadbury Choc Centre Cookies"
            ],
            [
             "Mars Chocolate Bar With Nougat & Caramel"
            ],
            [
             "Cadbury Classic Choc Chip Cookies",
             "Byron Bay Cookies Dotty Cookie Bites"
            ],
            [
             "Woolworths Lasagne Sheets"
            ],
            [
             "Indomie Mi Goreng Instant Noodles",
             "Fantastic Chicken Noodle Bowl",
             "Indomie Mi Goreng Noodle Cup"
            ],
            [
             "Indomie Mi Goreng Instant Noodles",
             "Fantastic Chicken Noodle Bowl",
             "Indomie Mi Goreng Noodle Cup"
            ],
            [
             "Woolworths Secret Burger Sauce"
            ],
            [
             "Goulburn Valley Two Fruits In Juice",
             "Goulburn Valley Two Fruits In Juice Fruit Cups In Juice"
            ],
            [
             "Goulburn Valley Two Fruits In Juice",
             "Goulburn Valley Two Fruits In Juice Fruit Cups In Juice"
            ],
            [
             "Cadbury Classic Choc Chip Cookies",
             "Cadbury Choc Centre Cookies",
             "Smith's Crinkle Cut Potato Chips Cheese & Onion",
             "Smith's Crinkle Cut Potato Chips Salt & Vinegar"
            ],
            [
             "Arnott's Premier Chocolate Chip Cookies",
             "Arnott's Mini Choc Chip Cookie Multipack Biscuits"
            ],
            [
             "Fantastic Chicken Noodle Cup",
             "Fantastic Chicken Noodle Bowl"
            ],
            [
             "Woolworths Chocolate Chip Cookies"
            ],
            [
             "Woolworths The King Of Chunky Chocolate Chip Cookies"
            ],
            [
             "Supreme Noodles Cup Chicken Flavour",
             "Fantastic Chicken Noodle Cup",
             "Supreme Noodles Cup Beef Flavour"
            ],
            [
             "Maggi 2 Minute Chicken Flavour Instant Noodles"
            ],
            [
             "Byron Bay Cookies Dotty Cookie Bites"
            ],
            [
             "Pauls Farmhouse Gold Full Cream Milk"
            ],
            [
             "Oreo Original Mini Cookies Multipack",
             "Oreo Minis Cookies Variety Bags 18 Pack",
             "Byron Bay Cookies Dotty Cookie Bites",
             "Oreo Original Cookies",
             "Oreo Double Stuff Cookies",
             "Oreo Original Cookies Family Pack",
             "Oreo Chocolate Cookies",
             "Oreo Grab & Go Original Cookies 9 Pack",
             "Oreo Neapolitan Double Stuff Cookies"
            ],
            [
             "Maggi 2 Minute Chicken Flavour Instant Noodles"
            ],
            [
             "Byron Bay Cookies Dotty Cookie Bites"
            ],
            [
             "Byron Bay Cookies Dotty Cookie Bites"
            ],
            [
             "Arnott's Premier Chocolate Chip Cookies"
            ],
            [
             "Cadbury Classic Choc Chip Cookies",
             "Cadbury Choc Centre Cookies"
            ],
            [
             "Coca - Cola Classic  Soft Drink Multipack Cans",
             "Coca - Cola Classic  Soft Drink Mini Cans",
             "Coca - Cola Vanilla  Soft Drink Multipack Cans",
             "Coca - Cola Zero Sugar Soft Drink Multipack Cans",
             "Coca - Cola Caffeine Free Zero Sugar Soft Drink Multipack Cans",
             "Coca - Cola Zero Sugar Soft Drink Mini Cans",
             "Fountain Barbecue Bbq Sauce Squeeze"
            ],
            [
             "Supreme Noodles Cup Beef Flavour"
            ],
            [
             "Fantastic Chicken Noodle Bowl"
            ],
            [
             "Indomie Mi Goreng Instant Noodles",
             "Indomie Mi Goreng Noodle Cup"
            ],
            [
             "Essentials Coconut Cream",
             "Essentials Coconut Milk"
            ],
            [
             "Woolworths Chocolate Chip Cookies"
            ],
            [
             "Cadbury Chomp Chocolate Bar",
             "Oreo Original Mini Cookies Multipack",
             "Oreo Minis Cookies Variety Bags 18 Pack",
             "Cadbury Choc Centre Cookies",
             "Byron Bay Cookies Dotty Cookie Bites",
             "Oreo Original Cookies",
             "Oreo Double Stuff Cookies",
             "Oreo Original Cookies Family Pack",
             "Oreo Chocolate Cookies",
             "Oreo Grab & Go Original Cookies 9 Pack",
             "Oreo Neapolitan Double Stuff Cookies"
            ],
            [
             "Kitkat 4 Finger Milk Chocolate Bar",
             "Kitkat Chunky Original Chocolate Bar",
             "Cadbury Dairy Milk Caramello Koala Chocolate",
             "Mars Chocolate Bar With Nougat & Caramel",
             "Cadbury Dairy Milk Chocolate Roll",
             "Cadbury Dairy Milk Chocolate Bar",
             "Cadbury Twirl Chocolate Bar",
             "Arnott's Premier Chocolate Chip Cookies",
             "Woolworths The King Of Chunky Chocolate Chip Cookies",
             "Arnott's Mini Choc Chip Cookie Multipack Biscuits",
             "Cadbury Classic Choc Chip Cookies",
             "Cadbury Choc Centre Cookies"
            ],
            [
             "Kitkat 4 Finger Milk Chocolate Bar",
             "Kitkat Chunky Original Chocolate Bar",
             "Cadbury Dairy Milk Caramello Koala Chocolate",
             "Mars Chocolate Bar With Nougat & Caramel",
             "Cadbury Dairy Milk Chocolate Roll",
             "Cadbury Dairy Milk Chocolate Bar",
             "Cadbury Twirl Chocolate Bar",
             "Arnott's Premier Chocolate Chip Cookies",
             "Woolworths The King Of Chunky Chocolate Chip Cookies",
             "Arnott's Mini Choc Chip Cookie Multipack Biscuits",
             "Cadbury Classic Choc Chip Cookies",
             "Cadbury Choc Centre Cookies"
            ],
            [
             "Kitkat 4 Finger Milk Chocolate Bar",
             "Kitkat Chunky Original Chocolate Bar"
            ],
            [
             "Woolworths Peach In Strawberry Jelly"
            ],
            [
             "Masterfoods Barbecue Sauce"
            ],
            [
             "Dole Pineapple Chunks In Juice"
            ],
            [
             "Smith's Crinkle Cut Potato Chips Original",
             "Smith's Crinkle Cut Potato Chips Chicken",
             "Smith's Thinly Cut Potato Chips Original Share Pack"
            ],
            [
             "Woolworths Apple Juice",
             "Woolworths Apple & Mango Juice",
             "Woolworths Orange Juice",
             "Woolworths Breakfast Juice",
             "Woolworths Apple & Blackcurrant Juice",
             "Woolworths Multivitamin Juice",
             "Woolworths Diced Italian Tomatoes",
             "Woolworths Tomato Sauce Squeeze",
             "Woolworths Tomato Sauce",
             "Woolworths Barbecue Sauce Squeeze",
             "Woolworths Secret Burger Sauce",
             "Woolworths Barbecue Sauce",
             "Woolworths Peach In Strawberry Jelly",
             "Woolworths Two Fruits In Juice Cups",
             "Woolworths Two Fruits In Juice",
             "Woolworths Two Fruits In Tropical Jelly",
             "Woolworths Apple In Pineapple Jelly"
            ],
            [
             "Dole Pineapple Slices In Syrup"
            ],
            [
             "Maggi 2 Minute Beef Flavour Instant Noodles",
             "Schweppes Zero Sugar Lime Infused Mineral Water Bottle",
             "Schweppes Raspberry Infused Natural Mineral Water Bottle",
             "Schweppes Lemon Lime Natural Mineral Water Bottle",
             "Schweppes Orange Mango Natural Mineral Water Bottle",
             "Golden Circle Golden Pash Fruit Drink",
             "Golden Circle Drinks Pine Orange Fruit Drink",
             "Golden Circle Drinks Sunshine Punch Fruit Drink",
             "Golden Circle Fruit Drinks Lunch Box Poppers Tropical Punch Multipack",
             "Masterfoods Tomato Sauce",
             "Masterfoods Barbecue Sauce",
             "Heinz Ketchup Tomato Sauce Ketchup",
             "Smith's Crinkle Cut Potato Chips Cheese & Onion",
             "Smith's Crinkle Cut Potato Chips Barbecue",
             "Thins Chips Chicken",
             "Smith's Crinkle Cut Potato Chips Salt & Vinegar"
            ],
            [
             "Indomie Mi Goreng Instant Noodles",
             "Indomie Mi Goreng Noodle Cup"
            ],
            [
             "Schweppes Indian Tonic Water Classic Mixers Bottle",
             "Schweppes Zero Sugar Classic Mixers Indian Tonic Water Bottle",
             "Cadbury Chomp Chocolate Bar",
             "Oreo Minis Cookies Variety Bags 18 Pack",
             "Oreo Neapolitan Double Stuff Cookies"
            ],
            [
             "Cadbury Choc Centre Cookies"
            ],
            [
             "Arnott's Mini Choc Chip Cookie Multipack Biscuits"
            ],
            [
             "Kitkat Chunky Original Chocolate Bar"
            ],
            [
             "Indomie Mi Goreng Instant Noodles",
             "Indomie Mi Goreng Noodle Cup"
            ],
            [
             "Indomie Mi Goreng Instant Noodles",
             "Indomie Mi Goreng Noodle Cup"
            ],
            [
             "Smith's Crinkle Cut Potato Chips Cheese & Onion",
             "Thins Cheese & Onion Chips"
            ],
            [
             "Woolworths Peach In Strawberry Jelly",
             "Woolworths Two Fruits In Tropical Jelly",
             "Woolworths Apple In Pineapple Jelly"
            ],
            [
             "Woolworths Secret Burger Sauce",
             "Woolworths Two Fruits In Tropical Jelly",
             "Woolworths Apple In Pineapple Jelly"
            ],
            [
             "Byron Bay Cookies Dotty Cookie Bites"
            ],
            [
             "Schweppes Orange Mango Natural Mineral Water Bottle"
            ],
            [
             "Oreo Minis Cookies Variety Bags 18 Pack",
             "Oreo Neapolitan Double Stuff Cookies"
            ],
            [
             "Rimmel Scandaleyes Eye Definer Brown"
            ],
            [
             "Woolworths Breakfast Juice"
            ],
            [
             "Coca - Cola Classic  Soft Drink Multipack Cans",
             "Coca - Cola Classic  Soft Drink Mini Cans",
             "Coca - Cola Vanilla  Soft Drink Multipack Cans",
             "Coca - Cola Zero Sugar Soft Drink Multipack Cans",
             "Coca - Cola Caffeine Free Zero Sugar Soft Drink Multipack Cans",
             "Coca - Cola Zero Sugar Soft Drink Mini Cans",
             "Schweppes Soda Water Bottle Classic Mixers",
             "Schweppes Indian Tonic Water Classic Mixers Bottle",
             "Schweppes Lime Soda Water With Lime Juice Bottle",
             "Schweppes Zero Sugar Classic Mixers Indian Tonic Water Bottle"
            ],
            [
             "Schweppes Zero Sugar Lime Infused Mineral Water Bottle",
             "Schweppes Raspberry Infused Natural Mineral Water Bottle"
            ],
            [
             "Schweppes Lemon Lime Natural Mineral Water Bottle",
             "Schweppes Orange Mango Natural Mineral Water Bottle"
            ],
            [
             "Maggi 2 Minute Chicken Flavour Instant Noodles"
            ],
            [
             "Woolworths Barbecue Sauce Squeeze",
             "Woolworths Barbecue Sauce"
            ],
            [
             "Masterfoods Barbecue Sauce"
            ],
            [
             "Supreme Noodles Cup Beef Flavour"
            ],
            [
             "Twix Milk Chocolate Bar With Caramel Biscuit"
            ],
            [
             "Woolworths Secret Burger Sauce",
             "Smith's Crinkle Cut Potato Chips Original",
             "Smith's Crinkle Cut Potato Chips Cheese & Onion",
             "Smith's Crinkle Cut Potato Chips Barbecue",
             "Smith's Crinkle Cut Potato Chips Chicken",
             "Smith's Thinly Cut Potato Chips Original Share Pack",
             "Smith's Crinkle Cut Potato Chips Salt & Vinegar"
            ],
            [
             "Woolworths Peach In Strawberry Jelly",
             "Woolworths Two Fruits In Tropical Jelly",
             "Woolworths Apple In Pineapple Jelly"
            ],
            [
             "Coca - Cola Classic  Soft Drink Multipack Cans",
             "Coca - Cola Classic  Soft Drink Mini Cans",
             "Coca - Cola Vanilla  Soft Drink Multipack Cans",
             "Coca - Cola Zero Sugar Soft Drink Multipack Cans",
             "Coca - Cola Zero Sugar Soft Drink Mini Cans"
            ],
            [
             "Thins Chips Light & Tangy"
            ],
            [
             "Maggi 2 Minute Chicken Flavour Instant Noodles",
             "Maggi 2 Minute Beef Flavour Instant Noodles"
            ],
            [
             "Byron Bay Cookies Dotty Cookie Bites"
            ],
            [
             "Twix Milk Chocolate Bar With Caramel Biscuit"
            ],
            [
             "Rimmel Scandaleyes Eye Definer Brown"
            ],
            [
             "Byron Bay Cookies Dotty Cookie Bites"
            ],
            [
             "Fantastic Chicken Noodle Bowl",
             "Supreme Noodles Cup Beef Flavour"
            ],
            [
             "Mars Chocolate Bar With Nougat & Caramel"
            ],
            [
             "Arnott's Premier Chocolate Chip Cookies",
             "Arnott's Mini Choc Chip Cookie Multipack Biscuits"
            ],
            [
             "Frantelle Australian Still Spring Water Bottles Multipack",
             "Mount Franklin Spring Water Bottle"
            ],
            [
             "Coca - Cola Zero Sugar Soft Drink Multipack Cans",
             "Coca - Cola Caffeine Free Zero Sugar Soft Drink Multipack Cans",
             "Coca - Cola Zero Sugar Soft Drink Mini Cans",
             "Schweppes Zero Sugar Classic Mixers Indian Tonic Water Bottle"
            ],
            [
             "Schweppes Orange Mango Natural Mineral Water Bottle"
            ],
            [
             "Smith's Crinkle Cut Potato Chips Original",
             "Smith's Crinkle Cut Potato Chips Chicken",
             "Smith's Thinly Cut Potato Chips Original Share Pack",
             "Smith's Crinkle Cut Potato Chips Salt & Vinegar",
             "Woolworths Peach In Strawberry Jelly",
             "Woolworths Two Fruits In Juice Cups",
             "Woolworths Two Fruits In Juice",
             "Woolworths Two Fruits In Tropical Jelly",
             "Woolworths Apple In Pineapple Jelly",
             "Goulburn Valley Two Fruits In Juice",
             "Goulburn Valley Two Fruits In Juice Fruit Cups In Juice"
            ],
            [
             "Indomie Mi Goreng Instant Noodles",
             "Indomie Mi Goreng Noodle Cup"
            ],
            [
             "Woolworths Barbecue Sauce Squeeze"
            ],
            [
             "Woolworths Apple In Pineapple Jelly"
            ],
            [
             "Smith's Crinkle Cut Potato Chips Original",
             "Smith's Crinkle Cut Potato Chips Chicken",
             "Smith's Thinly Cut Potato Chips Original Share Pack",
             "Smith's Crinkle Cut Potato Chips Salt & Vinegar"
            ],
            [
             "Smith's Crinkle Cut Potato Chips Original",
             "Smith's Crinkle Cut Potato Chips Chicken",
             "Smith's Thinly Cut Potato Chips Original Share Pack",
             "Smith's Crinkle Cut Potato Chips Salt & Vinegar"
            ],
            [
             "Arnott's Premier Chocolate Chip Cookies",
             "Arnott's Mini Choc Chip Cookie Multipack Biscuits"
            ],
            [
             "Schweppes Orange Mango Natural Mineral Water Bottle"
            ],
            [
             "Maggi 2 Minute Chicken Flavour Instant Noodles",
             "Fantastic Chicken Noodle Cup",
             "Maggi 2 Minute Beef Flavour Instant Noodles",
             "Supreme Noodles Cup Beef Flavour"
            ],
            [
             "Fantastic Chicken Noodle Bowl",
             "Woolworths Chocolate Chip Cookies",
             "Woolworths The King Of Chunky Chocolate Chip Cookies"
            ],
            [
             "Indomie Mi Goreng Instant Noodles",
             "Fantastic Chicken Noodle Bowl",
             "Indomie Mi Goreng Noodle Cup"
            ],
            [
             "Woolworths Apple & Blackcurrant Juice"
            ],
            [
             "Woolworths Chocolate Chip Cookies"
            ],
            [
             "Woolworths Chocolate Chip Cookies",
             "Woolworths The King Of Chunky Chocolate Chip Cookies"
            ],
            [
             "Oreo Original Mini Cookies Multipack",
             "Oreo Minis Cookies Variety Bags 18 Pack",
             "Cadbury Classic Choc Chip Cookies",
             "Cadbury Choc Centre Cookies",
             "Oreo Original Cookies",
             "Oreo Double Stuff Cookies",
             "Oreo Original Cookies Family Pack",
             "Oreo Chocolate Cookies",
             "Oreo Grab & Go Original Cookies 9 Pack",
             "Oreo Neapolitan Double Stuff Cookies"
            ],
            [
             "Indomie Mi Goreng Instant Noodles",
             "Indomie Mi Goreng Noodle Cup"
            ],
            [
             "Indomie Mi Goreng Instant Noodles",
             "Indomie Mi Goreng Noodle Cup"
            ],
            [
             "Woolworths Creamed Rice"
            ],
            [
             "Cadbury Dairy Milk Caramello Koala Chocolate"
            ],
            [
             "Woolworths Tomato Sauce Squeeze",
             "Woolworths Tomato Sauce",
             "Woolworths Barbecue Sauce Squeeze",
             "Woolworths Barbecue Sauce"
            ],
            [
             "Masterfoods Tomato Sauce",
             "Masterfoods Barbecue Sauce",
             "Thins Chips Salt & Vinegar"
            ],
            [
             "Indomie Mi Goreng Instant Noodles",
             "Indomie Mi Goreng Noodle Cup"
            ],
            [
             "Fountain Tomato Sauce Squeeze",
             "Fountain Barbecue Bbq Sauce Squeeze"
            ],
            [
             "Coca - Cola Zero Sugar Soft Drink Multipack Cans",
             "Coca - Cola Caffeine Free Zero Sugar Soft Drink Multipack Cans",
             "Coca - Cola Zero Sugar Soft Drink Mini Cans",
             "Schweppes Zero Sugar Classic Mixers Indian Tonic Water Bottle"
            ],
            [
             "Rimmel Scandaleyes Eye Definer Brown"
            ],
            [
             "Rimmel Scandaleyes Eye Definer Brown"
            ],
            [
             "Rimmel Scandaleyes Eye Definer Brown"
            ],
            [
             "Schweppes Lemon Lime Natural Mineral Water Bottle",
             "Schweppes Orange Mango Natural Mineral Water Bottle"
            ],
            [
             "Rimmel Scandaleyes Eye Definer Brown"
            ]
           ],
           [
            0.03864734299516908,
            0.04830917874396135,
            0.014492753623188406,
            0.004830917874396135,
            0.014492753623188406,
            0.00966183574879227,
            0.004830917874396135,
            0.004830917874396135,
            0.004830917874396135,
            0.004830917874396135,
            0.004830917874396135,
            0.00966183574879227,
            0.00966183574879227,
            0.13043478260869565,
            0.004830917874396135,
            0.033816425120772944,
            0.08695652173913043,
            0.04830917874396135,
            0.004830917874396135,
            0.004830917874396135,
            0.004830917874396135,
            0.004830917874396135,
            0.004830917874396135,
            0.14009661835748793,
            0.04830917874396135,
            0.004830917874396135,
            0.014492753623188406,
            0.004830917874396135,
            0.024154589371980676,
            0.004830917874396135,
            0.004830917874396135,
            0.00966183574879227,
            0.00966183574879227,
            0.004830917874396135,
            0.01932367149758454,
            0.00966183574879227,
            0.004830917874396135,
            0.03864734299516908,
            0.00966183574879227,
            0.004830917874396135,
            0.06763285024154589,
            0.004830917874396135,
            0.004830917874396135,
            0.004830917874396135,
            0.00966183574879227,
            0.00966183574879227,
            0.028985507246376812,
            0.00966183574879227,
            0.3188405797101449,
            0.004830917874396135,
            0.004830917874396135,
            0.024154589371980676,
            0.00966183574879227,
            0.014492753623188406,
            0.00966183574879227,
            0.00966183574879227,
            0.00966183574879227,
            0.004830917874396135,
            0.00966183574879227,
            0.024154589371980676,
            0.00966183574879227,
            0.024154589371980676,
            0.014492753623188406,
            0.028985507246376812,
            0.004830917874396135,
            0.014492753623188406,
            0.00966183574879227,
            0.057971014492753624,
            0.00966183574879227,
            0.00966183574879227,
            0.014492753623188406,
            0.00966183574879227,
            0.004830917874396135,
            0.004830917874396135,
            0.004830917874396135,
            0.00966183574879227,
            0.00966183574879227,
            0.00966183574879227,
            0.004830917874396135,
            0.24154589371980675,
            0.004830917874396135,
            0.004830917874396135,
            0.004830917874396135,
            0.03864734299516908,
            0.00966183574879227,
            0.004830917874396135,
            0.004830917874396135,
            0.004830917874396135,
            0.004830917874396135,
            0.00966183574879227,
            0.004830917874396135,
            0.00966183574879227,
            0.00966183574879227,
            0.01932367149758454,
            0.00966183574879227,
            0.00966183574879227,
            0.004830917874396135,
            0.004830917874396135,
            0.004830917874396135,
            0.004830917874396135,
            0.024154589371980676,
            0.01932367149758454,
            0.00966183574879227,
            0.004830917874396135,
            0.024154589371980676,
            0.033816425120772944,
            0.004830917874396135,
            0.004830917874396135,
            0.004830917874396135,
            0.033816425120772944,
            0.004830917874396135,
            0.014492753623188406,
            0.00966183574879227,
            0.004830917874396135,
            0.00966183574879227,
            0.04830917874396135,
            0.00966183574879227,
            0.004830917874396135,
            0.00966183574879227,
            0.014492753623188406,
            0.014492753623188406,
            0.043478260869565216,
            0.004830917874396135,
            0.004830917874396135,
            0.03864734299516908,
            0.004830917874396135,
            0.004830917874396135,
            0.004830917874396135,
            0.004830917874396135,
            0.004830917874396135,
            0.00966183574879227,
            0.04830917874396135,
            0.01932367149758454,
            0.004830917874396135,
            0.00966183574879227,
            0.004830917874396135,
            0.01932367149758454,
            0.004830917874396135,
            0.004830917874396135,
            0.01932367149758454,
            0.00966183574879227,
            0.004830917874396135,
            0.004830917874396135,
            0.00966183574879227,
            0.057971014492753624,
            0.028985507246376812,
            0.004830917874396135,
            0.004830917874396135,
            0.014492753623188406,
            0.004830917874396135,
            0.01932367149758454,
            0.004830917874396135,
            0.057971014492753624,
            0.004830917874396135,
            0.004830917874396135,
            0.004830917874396135,
            0.00966183574879227,
            0.004830917874396135,
            0.004830917874396135,
            0.00966183574879227,
            0.00966183574879227,
            0.004830917874396135,
            0.00966183574879227,
            0.06280193236714976,
            0.004830917874396135,
            0.014492753623188406,
            0.004830917874396135,
            0.014492753623188406,
            0.01932367149758454,
            0.01932367149758454,
            0.014492753623188406,
            0.004830917874396135,
            0.03864734299516908,
            0.024154589371980676,
            0.057971014492753624,
            0.004830917874396135,
            0.004830917874396135,
            0.00966183574879227,
            0.004830917874396135,
            0.014492753623188406,
            0.03864734299516908,
            0.004830917874396135,
            0.033816425120772944,
            0.014492753623188406,
            0.004830917874396135,
            0.004830917874396135,
            0.004830917874396135,
            0.004830917874396135,
            0.014492753623188406,
            0.004830917874396135,
            0.004830917874396135,
            0.004830917874396135,
            0.00966183574879227,
            0.004830917874396135,
            0.004830917874396135,
            0.01932367149758454,
            0.004830917874396135,
            0.004830917874396135,
            0.00966183574879227,
            0.01932367149758454,
            0.004830917874396135,
            0.004830917874396135,
            0.004830917874396135,
            0.00966183574879227,
            0.014492753623188406,
            0.004830917874396135,
            0.004830917874396135,
            0.004830917874396135,
            0.01932367149758454,
            0.004830917874396135,
            0.033816425120772944,
            0.024154589371980676,
            0.033816425120772944,
            0.004830917874396135,
            0.00966183574879227,
            0.004830917874396135,
            0.043478260869565216,
            0.014492753623188406,
            0.014492753623188406,
            0.04830917874396135,
            0.00966183574879227,
            0.004830917874396135,
            0.05314009661835749,
            0.07729468599033816,
            0.004830917874396135,
            0.00966183574879227,
            0.12077294685990338,
            0.004830917874396135,
            0.004830917874396135,
            0.10628019323671498,
            0.004830917874396135,
            0.00966183574879227,
            0.004830917874396135,
            0.00966183574879227,
            0.004830917874396135,
            0.014492753623188406,
            0.014492753623188406,
            0.004830917874396135,
            0.00966183574879227,
            0.00966183574879227,
            0.01932367149758454,
            0.00966183574879227,
            0.00966183574879227,
            0.004830917874396135,
            0.004830917874396135,
            0.014492753623188406,
            0.00966183574879227,
            0.004830917874396135,
            0.004830917874396135,
            0.043478260869565216,
            0.00966183574879227,
            0.004830917874396135,
            0.004830917874396135,
            0.004830917874396135,
            0.00966183574879227,
            0.05314009661835749,
            0.004830917874396135,
            0.004830917874396135,
            0.00966183574879227,
            0.00966183574879227,
            0.004830917874396135,
            0.05314009661835749,
            0.057971014492753624,
            0.057971014492753624,
            0.00966183574879227,
            0.004830917874396135,
            0.004830917874396135,
            0.004830917874396135,
            0.014492753623188406,
            0.09178743961352658,
            0.004830917874396135,
            0.07729468599033816,
            0.00966183574879227,
            0.024154589371980676,
            0.004830917874396135,
            0.004830917874396135,
            0.004830917874396135,
            0.00966183574879227,
            0.00966183574879227,
            0.00966183574879227,
            0.014492753623188406,
            0.014492753623188406,
            0.004830917874396135,
            0.004830917874396135,
            0.00966183574879227,
            0.004830917874396135,
            0.004830917874396135,
            0.06763285024154589,
            0.00966183574879227,
            0.00966183574879227,
            0.004830917874396135,
            0.00966183574879227,
            0.004830917874396135,
            0.004830917874396135,
            0.004830917874396135,
            0.033816425120772944,
            0.014492753623188406,
            0.043478260869565216,
            0.004830917874396135,
            0.00966183574879227,
            0.004830917874396135,
            0.004830917874396135,
            0.004830917874396135,
            0.004830917874396135,
            0.00966183574879227,
            0.004830917874396135,
            0.00966183574879227,
            0.00966183574879227,
            0.028985507246376812,
            0.004830917874396135,
            0.057971014492753624,
            0.00966183574879227,
            0.004830917874396135,
            0.004830917874396135,
            0.01932367149758454,
            0.01932367149758454,
            0.00966183574879227,
            0.004830917874396135,
            0.024154589371980676,
            0.014492753623188406,
            0.014492753623188406,
            0.004830917874396135,
            0.004830917874396135,
            0.00966183574879227,
            0.04830917874396135,
            0.00966183574879227,
            0.00966183574879227,
            0.004830917874396135,
            0.004830917874396135,
            0.01932367149758454,
            0.014492753623188406,
            0.00966183574879227,
            0.00966183574879227,
            0.028985507246376812,
            0.004830917874396135,
            0.004830917874396135,
            0.004830917874396135,
            0.00966183574879227,
            0.004830917874396135
           ],
           [
            "Group 1",
            "Group 2",
            "Group 3",
            "Group 4",
            "Group 4",
            "Group 4",
            "Group 4",
            "Group 5",
            "Group 6",
            "Group 7",
            "Group 8",
            "Group 9",
            "Group 10",
            "Group 11",
            "Group 12",
            "Group 13",
            "Group 14",
            "Group 15",
            "Group 16",
            "Group 17",
            "Group 18",
            "Group 19",
            "Group 20",
            "Group 21",
            "Group 22",
            "Group 23",
            "Group 24",
            "Group 24",
            "Group 25",
            "Group 26",
            "Group 27",
            "Group 28",
            "Group 29",
            "Group 30",
            "Group 31",
            "Group 32",
            "Group 33",
            "Group 34",
            "Group 35",
            "Group 36",
            "Group 37",
            "Group 38",
            "Group 39",
            "Group 40",
            "Group 41",
            "Group 42",
            "Group 43",
            "Group 44",
            "Group 45",
            "Group 46",
            "Group 47",
            "Group 48",
            "Group 49",
            "Group 50",
            "Group 51",
            "Group 52",
            "Group 53",
            "Group 54",
            "Group 55",
            "Group 56",
            "Group 57",
            "Group 58",
            "Group 59",
            "Group 60",
            "Group 60",
            "Group 60",
            "Group 61",
            "Group 62",
            "Group 62",
            "Group 62",
            "Group 63",
            "Group 64",
            "Group 65",
            "Group 66",
            "Group 67",
            "Group 68",
            "Group 69",
            "Group 70",
            "Group 71",
            "Group 72",
            "Group 73",
            "Group 74",
            "Group 75",
            "Group 76",
            "Group 77",
            "Group 78",
            "Group 79",
            "Group 80",
            "Group 81",
            "Group 82",
            "Group 83",
            "Group 84",
            "Group 85",
            "Group 86",
            "Group 87",
            "Group 88",
            "Group 89",
            "Group 90",
            "Group 91",
            "Group 92",
            "Group 93",
            "Group 94",
            "Group 95",
            "Group 96",
            "Group 97",
            "Group 98",
            "Group 99",
            "Group 100",
            "Group 101",
            "Group 102",
            "Group 102",
            "Group 103",
            "Group 104",
            "Group 105",
            "Group 106",
            "Group 107",
            "Group 108",
            "Group 109",
            "Group 109",
            "Group 110",
            "Group 110",
            "Group 111",
            "Group 112",
            "Group 113",
            "Group 114",
            "Group 115",
            "Group 116",
            "Group 117",
            "Group 118",
            "Group 119",
            "Group 120",
            "Group 121",
            "Group 122",
            "Group 123",
            "Group 124",
            "Group 124",
            "Group 125",
            "Group 126",
            "Group 127",
            "Group 128",
            "Group 129",
            "Group 130",
            "Group 131",
            "Group 132",
            "Group 133",
            "Group 134",
            "Group 135",
            "Group 136",
            "Group 137",
            "Group 138",
            "Group 139",
            "Group 140",
            "Group 141",
            "Group 142",
            "Group 143",
            "Group 144",
            "Group 145",
            "Group 146",
            "Group 147",
            "Group 148",
            "Group 149",
            "Group 150",
            "Group 151",
            "Group 152",
            "Group 153",
            "Group 154",
            "Group 155",
            "Group 156",
            "Group 157",
            "Group 158",
            "Group 159",
            "Group 160",
            "Group 161",
            "Group 162",
            "Group 163",
            "Group 164",
            "Group 165",
            "Group 166",
            "Group 167",
            "Group 168",
            "Group 169",
            "Group 170",
            "Group 171",
            "Group 172",
            "Group 173",
            "Group 174",
            "Group 175",
            "Group 176",
            "Group 177",
            "Group 178",
            "Group 179",
            "Group 180",
            "Group 181",
            "Group 182",
            "Group 183",
            "Group 184",
            "Group 185",
            "Group 186",
            "Group 187",
            "Group 187",
            "Group 187",
            "Group 187",
            "Group 188",
            "Group 189",
            "Group 190",
            "Group 191",
            "Group 192",
            "Group 193",
            "Group 194",
            "Group 195",
            "Group 196",
            "Group 197",
            "Group 198",
            "Group 199",
            "Group 200",
            "Group 201",
            "Group 202",
            "Group 203",
            "Group 204",
            "Group 205",
            "Group 206",
            "Group 207",
            "Group 208",
            "Group 209",
            "Group 210",
            "Group 211",
            "Group 212",
            "Group 213",
            "Group 214",
            "Group 215",
            "Group 216",
            "Group 217",
            "Group 218",
            "Group 219",
            "Group 220",
            "Group 221",
            "Group 222",
            "Group 223",
            "Group 224",
            "Group 225",
            "Group 226",
            "Group 227",
            "Group 228",
            "Group 229",
            "Group 230",
            "Group 231",
            "Group 232",
            "Group 233",
            "Group 234",
            "Group 235",
            "Group 236",
            "Group 237",
            "Group 238",
            "Group 239",
            "Group 240",
            "Group 241",
            "Group 242",
            "Group 243",
            "Group 244",
            "Group 245",
            "Group 246",
            "Group 247",
            "Group 248",
            "Group 249",
            "Group 250",
            "Group 251",
            "Group 252",
            "Group 253",
            "Group 254",
            "Group 254",
            "Group 254",
            "Group 254",
            "Group 254",
            "Group 254",
            "Group 254",
            "Group 255",
            "Group 256",
            "Group 257",
            "Group 258",
            "Group 259",
            "Group 260",
            "Group 261",
            "Group 262",
            "Group 263",
            "Group 264",
            "Group 264",
            "Group 265",
            "Group 266",
            "Group 267",
            "Group 267",
            "Group 268",
            "Group 269",
            "Group 270",
            "Group 271",
            "Group 272",
            "Group 273",
            "Group 274",
            "Group 275",
            "Group 276",
            "Group 277",
            "Group 278",
            "Group 279",
            "Group 280",
            "Group 281",
            "Group 282",
            "Group 283",
            "Group 284",
            "Group 285",
            "Group 286",
            "Group 287",
            "Group 287",
            "Group 288",
            "Group 289",
            "Group 290",
            "Group 291",
            "Group 292",
            "Group 293",
            "Group 294",
            "Group 295",
            "Group 296",
            "Group 297",
            "Group 298",
            "Group 299",
            "Group 300",
            "Group 301",
            "Group 302",
            "Group 303",
            "Group 304",
            "Group 305",
            "Group 306",
            "Group 306",
            "Group 306",
            "Group 306",
            "Group 307",
            "Group 308",
            "Group 308",
            "Group 308",
            "Group 308",
            "Group 308"
           ]
          ]
         },
         "header": {
          "values": [
           "HighFrequencyIngredientResearch",
           "Product Count",
           "Products",
           "Frequency Ratio",
           "GroupNumber"
          ]
         },
         "type": "table"
        }
       ],
       "layout": {
        "template": {
         "data": {
          "bar": [
           {
            "error_x": {
             "color": "#2a3f5f"
            },
            "error_y": {
             "color": "#2a3f5f"
            },
            "marker": {
             "line": {
              "color": "#E5ECF6",
              "width": 0.5
             },
             "pattern": {
              "fillmode": "overlay",
              "size": 10,
              "solidity": 0.2
             }
            },
            "type": "bar"
           }
          ],
          "barpolar": [
           {
            "marker": {
             "line": {
              "color": "#E5ECF6",
              "width": 0.5
             },
             "pattern": {
              "fillmode": "overlay",
              "size": 10,
              "solidity": 0.2
             }
            },
            "type": "barpolar"
           }
          ],
          "carpet": [
           {
            "aaxis": {
             "endlinecolor": "#2a3f5f",
             "gridcolor": "white",
             "linecolor": "white",
             "minorgridcolor": "white",
             "startlinecolor": "#2a3f5f"
            },
            "baxis": {
             "endlinecolor": "#2a3f5f",
             "gridcolor": "white",
             "linecolor": "white",
             "minorgridcolor": "white",
             "startlinecolor": "#2a3f5f"
            },
            "type": "carpet"
           }
          ],
          "choropleth": [
           {
            "colorbar": {
             "outlinewidth": 0,
             "ticks": ""
            },
            "type": "choropleth"
           }
          ],
          "contour": [
           {
            "colorbar": {
             "outlinewidth": 0,
             "ticks": ""
            },
            "colorscale": [
             [
              0,
              "#0d0887"
             ],
             [
              0.1111111111111111,
              "#46039f"
             ],
             [
              0.2222222222222222,
              "#7201a8"
             ],
             [
              0.3333333333333333,
              "#9c179e"
             ],
             [
              0.4444444444444444,
              "#bd3786"
             ],
             [
              0.5555555555555556,
              "#d8576b"
             ],
             [
              0.6666666666666666,
              "#ed7953"
             ],
             [
              0.7777777777777778,
              "#fb9f3a"
             ],
             [
              0.8888888888888888,
              "#fdca26"
             ],
             [
              1,
              "#f0f921"
             ]
            ],
            "type": "contour"
           }
          ],
          "contourcarpet": [
           {
            "colorbar": {
             "outlinewidth": 0,
             "ticks": ""
            },
            "type": "contourcarpet"
           }
          ],
          "heatmap": [
           {
            "colorbar": {
             "outlinewidth": 0,
             "ticks": ""
            },
            "colorscale": [
             [
              0,
              "#0d0887"
             ],
             [
              0.1111111111111111,
              "#46039f"
             ],
             [
              0.2222222222222222,
              "#7201a8"
             ],
             [
              0.3333333333333333,
              "#9c179e"
             ],
             [
              0.4444444444444444,
              "#bd3786"
             ],
             [
              0.5555555555555556,
              "#d8576b"
             ],
             [
              0.6666666666666666,
              "#ed7953"
             ],
             [
              0.7777777777777778,
              "#fb9f3a"
             ],
             [
              0.8888888888888888,
              "#fdca26"
             ],
             [
              1,
              "#f0f921"
             ]
            ],
            "type": "heatmap"
           }
          ],
          "heatmapgl": [
           {
            "colorbar": {
             "outlinewidth": 0,
             "ticks": ""
            },
            "colorscale": [
             [
              0,
              "#0d0887"
             ],
             [
              0.1111111111111111,
              "#46039f"
             ],
             [
              0.2222222222222222,
              "#7201a8"
             ],
             [
              0.3333333333333333,
              "#9c179e"
             ],
             [
              0.4444444444444444,
              "#bd3786"
             ],
             [
              0.5555555555555556,
              "#d8576b"
             ],
             [
              0.6666666666666666,
              "#ed7953"
             ],
             [
              0.7777777777777778,
              "#fb9f3a"
             ],
             [
              0.8888888888888888,
              "#fdca26"
             ],
             [
              1,
              "#f0f921"
             ]
            ],
            "type": "heatmapgl"
           }
          ],
          "histogram": [
           {
            "marker": {
             "pattern": {
              "fillmode": "overlay",
              "size": 10,
              "solidity": 0.2
             }
            },
            "type": "histogram"
           }
          ],
          "histogram2d": [
           {
            "colorbar": {
             "outlinewidth": 0,
             "ticks": ""
            },
            "colorscale": [
             [
              0,
              "#0d0887"
             ],
             [
              0.1111111111111111,
              "#46039f"
             ],
             [
              0.2222222222222222,
              "#7201a8"
             ],
             [
              0.3333333333333333,
              "#9c179e"
             ],
             [
              0.4444444444444444,
              "#bd3786"
             ],
             [
              0.5555555555555556,
              "#d8576b"
             ],
             [
              0.6666666666666666,
              "#ed7953"
             ],
             [
              0.7777777777777778,
              "#fb9f3a"
             ],
             [
              0.8888888888888888,
              "#fdca26"
             ],
             [
              1,
              "#f0f921"
             ]
            ],
            "type": "histogram2d"
           }
          ],
          "histogram2dcontour": [
           {
            "colorbar": {
             "outlinewidth": 0,
             "ticks": ""
            },
            "colorscale": [
             [
              0,
              "#0d0887"
             ],
             [
              0.1111111111111111,
              "#46039f"
             ],
             [
              0.2222222222222222,
              "#7201a8"
             ],
             [
              0.3333333333333333,
              "#9c179e"
             ],
             [
              0.4444444444444444,
              "#bd3786"
             ],
             [
              0.5555555555555556,
              "#d8576b"
             ],
             [
              0.6666666666666666,
              "#ed7953"
             ],
             [
              0.7777777777777778,
              "#fb9f3a"
             ],
             [
              0.8888888888888888,
              "#fdca26"
             ],
             [
              1,
              "#f0f921"
             ]
            ],
            "type": "histogram2dcontour"
           }
          ],
          "mesh3d": [
           {
            "colorbar": {
             "outlinewidth": 0,
             "ticks": ""
            },
            "type": "mesh3d"
           }
          ],
          "parcoords": [
           {
            "line": {
             "colorbar": {
              "outlinewidth": 0,
              "ticks": ""
             }
            },
            "type": "parcoords"
           }
          ],
          "pie": [
           {
            "automargin": true,
            "type": "pie"
           }
          ],
          "scatter": [
           {
            "fillpattern": {
             "fillmode": "overlay",
             "size": 10,
             "solidity": 0.2
            },
            "type": "scatter"
           }
          ],
          "scatter3d": [
           {
            "line": {
             "colorbar": {
              "outlinewidth": 0,
              "ticks": ""
             }
            },
            "marker": {
             "colorbar": {
              "outlinewidth": 0,
              "ticks": ""
             }
            },
            "type": "scatter3d"
           }
          ],
          "scattercarpet": [
           {
            "marker": {
             "colorbar": {
              "outlinewidth": 0,
              "ticks": ""
             }
            },
            "type": "scattercarpet"
           }
          ],
          "scattergeo": [
           {
            "marker": {
             "colorbar": {
              "outlinewidth": 0,
              "ticks": ""
             }
            },
            "type": "scattergeo"
           }
          ],
          "scattergl": [
           {
            "marker": {
             "colorbar": {
              "outlinewidth": 0,
              "ticks": ""
             }
            },
            "type": "scattergl"
           }
          ],
          "scattermapbox": [
           {
            "marker": {
             "colorbar": {
              "outlinewidth": 0,
              "ticks": ""
             }
            },
            "type": "scattermapbox"
           }
          ],
          "scatterpolar": [
           {
            "marker": {
             "colorbar": {
              "outlinewidth": 0,
              "ticks": ""
             }
            },
            "type": "scatterpolar"
           }
          ],
          "scatterpolargl": [
           {
            "marker": {
             "colorbar": {
              "outlinewidth": 0,
              "ticks": ""
             }
            },
            "type": "scatterpolargl"
           }
          ],
          "scatterternary": [
           {
            "marker": {
             "colorbar": {
              "outlinewidth": 0,
              "ticks": ""
             }
            },
            "type": "scatterternary"
           }
          ],
          "surface": [
           {
            "colorbar": {
             "outlinewidth": 0,
             "ticks": ""
            },
            "colorscale": [
             [
              0,
              "#0d0887"
             ],
             [
              0.1111111111111111,
              "#46039f"
             ],
             [
              0.2222222222222222,
              "#7201a8"
             ],
             [
              0.3333333333333333,
              "#9c179e"
             ],
             [
              0.4444444444444444,
              "#bd3786"
             ],
             [
              0.5555555555555556,
              "#d8576b"
             ],
             [
              0.6666666666666666,
              "#ed7953"
             ],
             [
              0.7777777777777778,
              "#fb9f3a"
             ],
             [
              0.8888888888888888,
              "#fdca26"
             ],
             [
              1,
              "#f0f921"
             ]
            ],
            "type": "surface"
           }
          ],
          "table": [
           {
            "cells": {
             "fill": {
              "color": "#EBF0F8"
             },
             "line": {
              "color": "white"
             }
            },
            "header": {
             "fill": {
              "color": "#C8D4E3"
             },
             "line": {
              "color": "white"
             }
            },
            "type": "table"
           }
          ]
         },
         "layout": {
          "annotationdefaults": {
           "arrowcolor": "#2a3f5f",
           "arrowhead": 0,
           "arrowwidth": 1
          },
          "autotypenumbers": "strict",
          "coloraxis": {
           "colorbar": {
            "outlinewidth": 0,
            "ticks": ""
           }
          },
          "colorscale": {
           "diverging": [
            [
             0,
             "#8e0152"
            ],
            [
             0.1,
             "#c51b7d"
            ],
            [
             0.2,
             "#de77ae"
            ],
            [
             0.3,
             "#f1b6da"
            ],
            [
             0.4,
             "#fde0ef"
            ],
            [
             0.5,
             "#f7f7f7"
            ],
            [
             0.6,
             "#e6f5d0"
            ],
            [
             0.7,
             "#b8e186"
            ],
            [
             0.8,
             "#7fbc41"
            ],
            [
             0.9,
             "#4d9221"
            ],
            [
             1,
             "#276419"
            ]
           ],
           "sequential": [
            [
             0,
             "#0d0887"
            ],
            [
             0.1111111111111111,
             "#46039f"
            ],
            [
             0.2222222222222222,
             "#7201a8"
            ],
            [
             0.3333333333333333,
             "#9c179e"
            ],
            [
             0.4444444444444444,
             "#bd3786"
            ],
            [
             0.5555555555555556,
             "#d8576b"
            ],
            [
             0.6666666666666666,
             "#ed7953"
            ],
            [
             0.7777777777777778,
             "#fb9f3a"
            ],
            [
             0.8888888888888888,
             "#fdca26"
            ],
            [
             1,
             "#f0f921"
            ]
           ],
           "sequentialminus": [
            [
             0,
             "#0d0887"
            ],
            [
             0.1111111111111111,
             "#46039f"
            ],
            [
             0.2222222222222222,
             "#7201a8"
            ],
            [
             0.3333333333333333,
             "#9c179e"
            ],
            [
             0.4444444444444444,
             "#bd3786"
            ],
            [
             0.5555555555555556,
             "#d8576b"
            ],
            [
             0.6666666666666666,
             "#ed7953"
            ],
            [
             0.7777777777777778,
             "#fb9f3a"
            ],
            [
             0.8888888888888888,
             "#fdca26"
            ],
            [
             1,
             "#f0f921"
            ]
           ]
          },
          "colorway": [
           "#636efa",
           "#EF553B",
           "#00cc96",
           "#ab63fa",
           "#FFA15A",
           "#19d3f3",
           "#FF6692",
           "#B6E880",
           "#FF97FF",
           "#FECB52"
          ],
          "font": {
           "color": "#2a3f5f"
          },
          "geo": {
           "bgcolor": "white",
           "lakecolor": "white",
           "landcolor": "#E5ECF6",
           "showlakes": true,
           "showland": true,
           "subunitcolor": "white"
          },
          "hoverlabel": {
           "align": "left"
          },
          "hovermode": "closest",
          "mapbox": {
           "style": "light"
          },
          "paper_bgcolor": "white",
          "plot_bgcolor": "#E5ECF6",
          "polar": {
           "angularaxis": {
            "gridcolor": "white",
            "linecolor": "white",
            "ticks": ""
           },
           "bgcolor": "#E5ECF6",
           "radialaxis": {
            "gridcolor": "white",
            "linecolor": "white",
            "ticks": ""
           }
          },
          "scene": {
           "xaxis": {
            "backgroundcolor": "#E5ECF6",
            "gridcolor": "white",
            "gridwidth": 2,
            "linecolor": "white",
            "showbackground": true,
            "ticks": "",
            "zerolinecolor": "white"
           },
           "yaxis": {
            "backgroundcolor": "#E5ECF6",
            "gridcolor": "white",
            "gridwidth": 2,
            "linecolor": "white",
            "showbackground": true,
            "ticks": "",
            "zerolinecolor": "white"
           },
           "zaxis": {
            "backgroundcolor": "#E5ECF6",
            "gridcolor": "white",
            "gridwidth": 2,
            "linecolor": "white",
            "showbackground": true,
            "ticks": "",
            "zerolinecolor": "white"
           }
          },
          "shapedefaults": {
           "line": {
            "color": "#2a3f5f"
           }
          },
          "ternary": {
           "aaxis": {
            "gridcolor": "white",
            "linecolor": "white",
            "ticks": ""
           },
           "baxis": {
            "gridcolor": "white",
            "linecolor": "white",
            "ticks": ""
           },
           "bgcolor": "#E5ECF6",
           "caxis": {
            "gridcolor": "white",
            "linecolor": "white",
            "ticks": ""
           }
          },
          "title": {
           "x": 0.05
          },
          "xaxis": {
           "automargin": true,
           "gridcolor": "white",
           "linecolor": "white",
           "ticks": "",
           "title": {
            "standoff": 15
           },
           "zerolinecolor": "white",
           "zerolinewidth": 2
          },
          "yaxis": {
           "automargin": true,
           "gridcolor": "white",
           "linecolor": "white",
           "ticks": "",
           "title": {
            "standoff": 15
           },
           "zerolinecolor": "white",
           "zerolinewidth": 2
          }
         }
        },
        "title": {
         "text": "High Frequency Ingredient Research and Associated Products"
        }
       }
      }
     },
     "metadata": {},
     "output_type": "display_data"
    }
   ],
   "source": [
    "from neo4j import GraphDatabase\n",
    "import pandas as pd\n",
    "import plotly.graph_objects as go\n",
    "\n",
    "\n",
    "query = \"\"\"\n",
    "MATCH (p:Product)-[:HAS_RECIPE]->(r:Recipe)-[:USES_INGREDIENT]->(i:Ingredient)-[:HAS_RESEARCH]->(res:IngredientResearch)\n",
    "WITH res, COUNT(DISTINCT p) AS productCount, COLLECT(DISTINCT p.name) AS products, COUNT(DISTINCT i) AS ingredientCount\n",
    "\n",
    "MATCH (allProducts:Product)\n",
    "WITH res, productCount, products, ingredientCount, COUNT(allProducts) AS totalProductCount\n",
    "WITH res, productCount, products, ingredientCount, totalProductCount, toFloat(productCount) / toFloat(totalProductCount) AS frequencyRatio\n",
    "RETURN res.ingredient_name AS HighFrequencyIngredientResearch, productCount, products, frequencyRatio\n",
    "ORDER BY frequencyRatio DESC\n",
    "\"\"\"\n",
    "\n",
    "with driver.session() as session:\n",
    "    result = session.run(query)\n",
    "    data = [record.data() for record in result]\n",
    "\n",
    "df = pd.DataFrame(data)\n",
    "\n",
    "\n",
    "df['GroupNumber'] = df.groupby('HighFrequencyIngredientResearch').ngroup() + 1\n",
    "df['GroupNumber'] = df['GroupNumber'].max() - df['GroupNumber'] + 1\n",
    "df['GroupNumber'] = 'Group ' + df['GroupNumber'].astype(str)\n",
    "df.sort_values(by='HighFrequencyIngredientResearch', ascending=False, inplace=True)\n",
    "\n",
    "\n",
    "fig_data = go.Table(\n",
    "    header=dict(values=['HighFrequencyIngredientResearch', 'Product Count', 'Products', 'Frequency Ratio', 'GroupNumber']),\n",
    "    cells=dict(values=[df['HighFrequencyIngredientResearch'], df['productCount'], df['products'], df['frequencyRatio'],df['GroupNumber']])\n",
    ")\n",
    "\n",
    "\n",
    "fig_layout = go.Layout(\n",
    "    title='High Frequency Ingredient Research and Associated Products',\n",
    ")\n",
    "\n",
    "\n",
    "fig = go.Figure(data=fig_data, layout=fig_layout)\n",
    "fig.show()\n"
   ]
  },
  {
   "cell_type": "code",
   "execution_count": 98,
   "metadata": {},
   "outputs": [
    {
     "data": {
      "application/vnd.plotly.v1+json": {
       "config": {
        "plotlyServerURL": "https://plot.ly"
       },
       "data": [
        {
         "cells": {
          "values": [
           [
            "Sugar",
            "Salt",
            "Vegetable Oil",
            "Wheat Flour",
            "Flavour",
            "Emulsifier Soy Lecithin",
            "Citric Acid",
            "Water",
            "Flavour Enhancer 621",
            "Citric Acid",
            "Carbonated Water",
            "TBHQ",
            "Natural Flavour",
            "Cocoa Butter",
            "Ascorbic Acid",
            "Cocoa Mass",
            "Sodium Bicarbonate",
            "Milk Solids",
            "Natural Flavours",
            "Onion Powder",
            "Colouring Agent 150d",
            "Flavour Enhancer 635",
            "Cocoa Powder",
            "Flavours",
            "Potatoes",
            "Vitamin C",
            "Ammonium Bicarbonate",
            "Vegetable Fat",
            "Yeast Extract",
            "Phosphoric Acid",
            "Caffeine",
            "Potassium Chloride",
            "Cornstarch",
            "Folate",
            "Zinc",
            "Thiamin",
            "Riboflavin",
            "Milk",
            "Mineral Iron",
            "Polyglycerol Polyricinoleate",
            "Wheat",
            "Maltodextrin",
            "Reconstituted Fruit Juice Orange",
            "Full Cream Milk",
            "Fructose Syrup",
            "Reconstituted Apple Juice",
            "Canola Oil",
            "Onion",
            "Sunflower Oil",
            "Sodium Citrate",
            "Acesulfame Potassium",
            "Aspartame",
            "Fruit Peach",
            "Milk Whey Powder",
            "Tomatoes",
            "Reconstituted Fruit Juice Passionfruit",
            "Reconstituted Fruit Juice Pineapple",
            "Sodium Metabisulfite",
            "Citric Acid",
            "Soy",
            "Antioxidant 320",
            "Spices",
            "Dextrose",
            "Pear",
            "Antioxidant Rosemary Extract",
            "Antioxidant Tocopherols",
            "Acetic Acid",
            "Thickener Modified Corn Starch",
            "Reconstituted Fruit Juice Pear",
            "Natural Spring Water",
            "Reconstituted Mango Juice",
            "Mineral Salt 500",
            "Mineral Salt 501",
            "Parsley",
            "Guar Gum",
            "Herbs",
            "Pepper",
            "Garlic Powder",
            "Carrageenan",
            "Spice Extract",
            "Molasses",
            "Acetic Acid",
            "Citric Acid",
            "Sodium Diacetate",
            "Sodium Citrate",
            "Locust Bean Gum",
            "Xanthan Gum",
            "Raising Agent 450",
            "Potassium Citrate",
            "Calcium Lactate",
            "Malic Acid",
            "Potassium Citrate",
            "Carotene",
            "Milk Butter",
            "Flavours Soy",
            "Natural Vanilla Flavour",
            "Disodium Guanylate",
            "Anti Caking Agent 551",
            "Mineral Salt 508",
            "Mineral Salt 451",
            "Flavours Wheat",
            "Disodium Inosinate",
            "Turmeric",
            "Curcumin",
            "Antioxidant 307b",
            "Sodium Benzoate",
            "Yeast",
            "Glucose Syrup",
            "Antioxidant E307B",
            "Soybean Fibre",
            "Egg",
            "Emulsifier 442",
            "Milk Chocolate Chips",
            "Carmine",
            "Ammonium Carbonate",
            "Sodium Carbonate",
            "Palm Oil",
            "Sodium Bicarbonate",
            "Baking Powder",
            "Wheat Starch",
            "Desiccated Coconut",
            "Sorbitan Tristearate",
            "Wheat Glucose Syrup",
            "Sweetened Condensed Milk",
            "Reconstituted Lemon Juice",
            "Cocoa",
            "Thickener 1422",
            "Refined Fruit Juice",
            "Pectin",
            "Reconstituted Fruit Juice Peach Purée",
            "",
            "Pineapple",
            "Diced Peaches",
            "Diced Pears",
            "Reconstituted Refined Juice Concentrated Pear Juice",
            "Flavoured Milk",
            "Cheese Powder",
            "Australian Spring Water",
            "Paprika Oleoresins",
            "Acetic Acid",
            "Xanthan Gum",
            "Smoke Flavour",
            "Caramel I",
            "Tomato Paste",
            "Reconstituted Tomato Puree",
            "Coconut Extract",
            "Tomato Juice",
            "Potassium Sorbate",
            "Colouring Agent 160a",
            "Carbonated Mineral Water",
            "Fried Onion",
            "Citric Acid",
            "Acetic Acid",
            "Tapioca Starch",
            "Chilli",
            "Chilli Sauce",
            "Sesame Oil",
            "Soy Bean",
            "Sweet Soy Sauce",
            "Seasoning Oil",
            "Artificial Flavour",
            "Seasoning Powder",
            "Colour 101",
            "Guar Gum",
            "Sodium Bicarbonate",
            "Acidity Regulator 501",
            "Refined Palm Oil",
            "Reconstituted Lime Juice",
            "Preservative 1211",
            "Acidity Regulator 451",
            "Iodised Salt",
            "Dehydrated Vegetables",
            "Coriander",
            "Sulphites",
            "Natural Flavour Lemon Peel Extract",
            "Natural Flavour Botanical Extracts",
            "Natural Flavour Citrus Oils",
            "Natural Flavour Orange Peel Extract",
            "Carbonated Mineral Water",
            "Basil",
            "Quinine",
            "Gluten Wheat",
            "Cumin",
            "Potato Starch",
            "Flavour Celery",
            "Spice Ginger",
            "Spice Chilli Powder",
            "Spice Cardamom",
            "Burnt Sugar",
            "Guar Gum",
            "Homogenised Full Cream Milk",
            "Sardines",
            "Rice",
            "Skim Milk",
            "Acidity Regulator 339",
            "Guar Gum",
            "Caramel Color 150c",
            "Reconstituted Fruit Puree",
            "Apple Pulp",
            "Wheat Cornflour",
            "Pectin",
            "Tamarind Paste",
            "Clove",
            "Nutmeg",
            "Tomato Puree",
            "Durum Wheat Semolina",
            "Reconstituted Fruit Juice Apricot",
            "Syrup",
            "Fructose",
            "Maize Maltodextrin",
            "Ferric Ferrocyanide",
            "",
            "Carmine",
            "Reconstituted Apple Juice",
            "Carboxymethyl Cellulose",
            "Reconstituted Fruit Juice Blackcurrant",
            "Anthocyanins",
            "Reconstituted Fruit Juice Grape",
            "Reconstituted Fruit Juice Peach",
            "Guava Puree",
            "Vitamin A",
            "Reconstituted Fruit Juice Water Extracted Orange",
            "Pasteurised Homogenised Milk",
            "Cream",
            "Maize Thickener 1422",
            "Milk Lactose",
            "Xanthan Gum",
            "Vegetable Powder Tomato",
            "Buttermilk Powder",
            "Lactic Acid",
            "Paprika Extract",
            "Natural Strawberry Flavour",
            "Cochineal",
            "Refined Fruit Juice Apple",
            "Refined Fruit Juice Grape",
            "Refined Fruit Juice Peach",
            "Refined Fruit Juice Pear",
            "Natural Flavour Pineapple",
            "Natural Flavour Mango",
            "Jelly Natural Pineapple Flavour",
            "Apple",
            "Citric Acid",
            "Pineapple Juice",
            "Garam Masala",
            "Iron Oxides",
            "Vinegar",
            "Vegetable Powder Garlic",
            "Xanthan Gum",
            "Free Range Egg Yolk",
            "Gherkin",
            "Potassium Sorbate",
            "Dill",
            "Herb Extract",
            "Mustard Oil",
            "White Vinegar",
            "Reconstituted Fruit Puree Apple",
            "Reconstituted Fruit Puree Tomato Paste",
            "Tomato Powder",
            "Paprika",
            "Flavour Enhancer 620",
            "Turmeric",
            "Glucose",
            "Titanium Dioxide",
            "Carnauba Wax",
            "Ultramarines",
            "Plant Extract Carthamus",
            "Safflower Extract",
            "Ascorbic Acid",
            "Carminic Acid",
            "Lutein",
            "Antioxidant 385",
            "Processing Aid Wheat",
            "Choc Paste",
            "Golden Syrup",
            "Invert Sugar",
            "Acidity Regulator 331",
            "Milk Chocolate",
            "Caramel",
            "Biscuit",
            "Barley Malt Extract",
            "Egg White",
            "Sodium Citrate",
            "Plant Extract Gardenia",
            "Emulsifier 471",
            "Natural Flavour Lime Oils",
            "Sweetener 952",
            "Parsley Flakes",
            "Caramel III",
            "Flavour Sachet",
            "Vegetable Sachet",
            "Modified Starch 1420",
            "Mineral Salt 450",
            "Colouring Agent 100",
            "Soy Sauce Powder",
            "White Pepper",
            "Rosemary",
            "Colouring Agent 150c",
            "Caramel Color",
            "Natural Mineral Water",
            "Potassium Bicarbonate",
            "Natural Flavour Vanilla Extract",
            "Enzymes",
            "Mica",
            "Colouring Agent Titan White",
            "Beta carotene",
            "Red Beetroot Powder",
            "Black Carrot Extract",
            "Cultured Dextrose",
            "Maize Starch",
            "",
            "Polyethylene",
            "Synthetic Wax",
            "",
            "Bis-Diglyceryl Polyacyladipate-2",
            "",
            "Polybutene",
            "Silica",
            "Octyldodecanol",
            "Pentaerythrityl Tetra-di-t-butyl Hydroxyhydrocinnamate",
            "Colouring Agent Spirulina Extract",
            "Glazing Agent 414",
            "Polyglycerol polyricinoleate",
            "Milk Compound Chocolate",
            "Colouring Agent Caramel IV",
            "Dark Compound Chocolate Chips",
            "Cocoa Solids",
            "Wheaten Corn Flour",
            "Whole Egg Powder",
            "Annatto Extracts",
            "Dark Chocolate Chips",
            "Natural Flavour Vanilla",
            "Natural Flavour Butter",
            "Chocolate Chips",
            "Skim Milk Powder",
            "Strawberry",
            "Stabiliser 422",
            "Citric Acid",
            "Thickener 1414",
            "Clarified Pineapple Juice Concentrate"
           ],
           [
            66,
            50,
            29,
            27,
            25,
            22,
            19,
            18,
            16,
            16,
            14,
            14,
            13,
            12,
            12,
            12,
            12,
            12,
            12,
            12,
            11,
            11,
            11,
            10,
            10,
            10,
            10,
            10,
            10,
            10,
            9,
            9,
            9,
            9,
            8,
            8,
            8,
            8,
            8,
            8,
            7,
            7,
            7,
            7,
            7,
            7,
            7,
            6,
            6,
            6,
            6,
            6,
            5,
            5,
            5,
            5,
            5,
            5,
            5,
            5,
            5,
            5,
            4,
            4,
            4,
            4,
            4,
            4,
            4,
            4,
            4,
            4,
            4,
            4,
            4,
            4,
            4,
            4,
            3,
            3,
            3,
            3,
            3,
            3,
            3,
            3,
            3,
            3,
            3,
            3,
            3,
            3,
            3,
            3,
            3,
            3,
            3,
            3,
            3,
            3,
            3,
            3,
            3,
            3,
            3,
            3,
            3,
            3,
            2,
            2,
            2,
            2,
            2,
            2,
            2,
            2,
            2,
            2,
            2,
            2,
            2,
            2,
            2,
            2,
            2,
            2,
            2,
            2,
            2,
            2,
            2,
            2,
            2,
            2,
            2,
            2,
            2,
            2,
            2,
            2,
            2,
            2,
            2,
            2,
            2,
            2,
            2,
            2,
            2,
            2,
            2,
            2,
            2,
            2,
            2,
            2,
            2,
            2,
            2,
            2,
            2,
            2,
            2,
            2,
            2,
            2,
            2,
            2,
            2,
            2,
            2,
            2,
            2,
            2,
            2,
            2,
            2,
            2,
            2,
            2,
            2,
            2,
            2,
            2,
            2,
            2,
            2,
            2,
            2,
            1,
            1,
            1,
            1,
            1,
            1,
            1,
            1,
            1,
            1,
            1,
            1,
            1,
            1,
            1,
            1,
            1,
            1,
            1,
            1,
            1,
            1,
            1,
            1,
            1,
            1,
            1,
            1,
            1,
            1,
            1,
            1,
            1,
            1,
            1,
            1,
            1,
            1,
            1,
            1,
            1,
            1,
            1,
            1,
            1,
            1,
            1,
            1,
            1,
            1,
            1,
            1,
            1,
            1,
            1,
            1,
            1,
            1,
            1,
            1,
            1,
            1,
            1,
            1,
            1,
            1,
            1,
            1,
            1,
            1,
            1,
            1,
            1,
            1,
            1,
            1,
            1,
            1,
            1,
            1,
            1,
            1,
            1,
            1,
            1,
            1,
            1,
            1,
            1,
            1,
            1,
            1,
            1,
            1,
            1,
            1,
            1,
            1,
            1,
            1,
            1,
            1,
            1,
            1,
            1,
            1,
            1,
            1,
            1,
            1,
            1,
            1,
            1,
            1,
            1,
            1,
            1,
            1,
            1,
            1,
            1,
            1,
            1,
            1,
            1,
            1,
            1,
            1,
            1,
            1,
            1,
            1,
            1,
            1,
            1,
            1,
            1,
            1,
            1,
            1,
            1,
            1,
            1,
            1,
            1,
            1,
            1,
            1,
            1,
            1
           ],
           [
            [
             "Coca - Cola Classic  Soft Drink Multipack Cans",
             "Coca - Cola Classic  Soft Drink Mini Cans",
             "Coca - Cola Vanilla  Soft Drink Multipack Cans",
             "Indomie Mi Goreng Instant Noodles",
             "Maggi 2 Minute Chicken Flavour Instant Noodles",
             "Supreme Noodles Cup Chicken Flavour",
             "Fantastic Chicken Noodle Cup",
             "Fantastic Chicken Noodle Bowl",
             "Indomie Mi Goreng Noodle Cup",
             "Maggi 2 Minute Beef Flavour Instant Noodles",
             "Supreme Noodles Cup Beef Flavour",
             "Schweppes Indian Tonic Water Classic Mixers Bottle",
             "Schweppes Lime Soda Water With Lime Juice Bottle",
             "Schweppes Lemon Lime Natural Mineral Water Bottle",
             "Schweppes Orange Mango Natural Mineral Water Bottle",
             "Kitkat 4 Finger Milk Chocolate Bar",
             "Kitkat Chunky Original Chocolate Bar",
             "Cadbury Dairy Milk Caramello Koala Chocolate",
             "Mars Chocolate Bar With Nougat & Caramel",
             "Cadbury Dairy Milk Chocolate Roll",
             "Cadbury Dairy Milk Chocolate Bar",
             "Cadbury Twirl Chocolate Bar",
             "Cadbury Chomp Chocolate Bar",
             "Arnott's Premier Chocolate Chip Cookies",
             "Woolworths Chocolate Chip Cookies",
             "Woolworths The King Of Chunky Chocolate Chip Cookies",
             "Arnott's Mini Choc Chip Cookie Multipack Biscuits",
             "Oreo Original Mini Cookies Multipack",
             "Oreo Minis Cookies Variety Bags 18 Pack",
             "Cadbury Classic Choc Chip Cookies",
             "Cadbury Choc Centre Cookies",
             "Byron Bay Cookies Dotty Cookie Bites",
             "Oreo Original Cookies",
             "Golden Circle Golden Pash Fruit Drink",
             "Golden Circle Drinks Pine Orange Fruit Drink",
             "Golden Circle Drinks Sunshine Punch Fruit Drink",
             "Golden Circle Fruit Drinks Lunch Box Poppers Tropical Punch Multipack",
             "Oreo Double Stuff Cookies",
             "Oreo Original Cookies Family Pack",
             "Oreo Chocolate Cookies",
             "Oreo Grab & Go Original Cookies 9 Pack",
             "Oreo Neapolitan Double Stuff Cookies",
             "Woolworths Creamed Rice",
             "Woolworths Tomato Sauce Squeeze",
             "Woolworths Tomato Sauce",
             "Woolworths Barbecue Sauce Squeeze",
             "Masterfoods Tomato Sauce",
             "Masterfoods Barbecue Sauce",
             "Fountain Tomato Sauce Squeeze",
             "Fountain Barbecue Bbq Sauce Squeeze",
             "Woolworths Secret Burger Sauce",
             "Heinz Ketchup Tomato Sauce Ketchup",
             "Woolworths Barbecue Sauce",
             "Smith's Crinkle Cut Potato Chips Barbecue",
             "Smith's Crinkle Cut Potato Chips Chicken",
             "Thins Chips Chicken",
             "Smith's Crinkle Cut Potato Chips Salt & Vinegar",
             "Thins Chips Light & Tangy",
             "Thins Cheese & Onion Chips",
             "Woolworths Peach In Strawberry Jelly",
             "Woolworths Two Fruits In Tropical Jelly",
             "Woolworths Apple In Pineapple Jelly",
             "Dole Pineapple Slices In Syrup"
            ],
            [
             "Indomie Mi Goreng Instant Noodles",
             "Maggi 2 Minute Chicken Flavour Instant Noodles",
             "Supreme Noodles Cup Chicken Flavour",
             "Fantastic Chicken Noodle Cup",
             "Fantastic Chicken Noodle Bowl",
             "Indomie Mi Goreng Noodle Cup",
             "Maggi 2 Minute Beef Flavour Instant Noodles",
             "Supreme Noodles Cup Beef Flavour",
             "Kitkat 4 Finger Milk Chocolate Bar",
             "Kitkat Chunky Original Chocolate Bar",
             "Cadbury Dairy Milk Caramello Koala Chocolate",
             "Mars Chocolate Bar With Nougat & Caramel",
             "Cadbury Chomp Chocolate Bar",
             "Arnott's Premier Chocolate Chip Cookies",
             "Woolworths Chocolate Chip Cookies",
             "Woolworths The King Of Chunky Chocolate Chip Cookies",
             "Arnott's Mini Choc Chip Cookie Multipack Biscuits",
             "Oreo Original Mini Cookies Multipack",
             "Oreo Minis Cookies Variety Bags 18 Pack",
             "Cadbury Classic Choc Chip Cookies",
             "Cadbury Choc Centre Cookies",
             "Byron Bay Cookies Dotty Cookie Bites",
             "Oreo Original Cookies",
             "Oreo Double Stuff Cookies",
             "Oreo Original Cookies Family Pack",
             "Oreo Chocolate Cookies",
             "Oreo Grab & Go Original Cookies 9 Pack",
             "Deep Cove Sardines In Oil",
             "Woolworths Creamed Rice",
             "Woolworths Tomato Sauce Squeeze",
             "Woolworths Tomato Sauce",
             "Woolworths Barbecue Sauce Squeeze",
             "Masterfoods Tomato Sauce",
             "Masterfoods Barbecue Sauce",
             "Fountain Tomato Sauce Squeeze",
             "Fountain Barbecue Bbq Sauce Squeeze",
             "Woolworths Secret Burger Sauce",
             "Heinz Ketchup Tomato Sauce Ketchup",
             "Woolworths Barbecue Sauce",
             "Smith's Crinkle Cut Potato Chips Original",
             "Smith's Crinkle Cut Potato Chips Cheese & Onion",
             "Smith's Crinkle Cut Potato Chips Barbecue",
             "Smith's Crinkle Cut Potato Chips Chicken",
             "Thins Chips Salt & Vinegar",
             "Smith's Thinly Cut Potato Chips Original Share Pack",
             "Thins Chips Chicken",
             "Smith's Crinkle Cut Potato Chips Salt & Vinegar",
             "Thins Chips Light & Tangy",
             "Thins Cheese & Onion Chips"
            ],
            [
             "Maggi 2 Minute Chicken Flavour Instant Noodles",
             "Supreme Noodles Cup Chicken Flavour",
             "Fantastic Chicken Noodle Cup",
             "Fantastic Chicken Noodle Bowl",
             "Maggi 2 Minute Beef Flavour Instant Noodles",
             "Supreme Noodles Cup Beef Flavour",
             "Mars Chocolate Bar With Nougat & Caramel",
             "Cadbury Chomp Chocolate Bar",
             "Arnott's Premier Chocolate Chip Cookies",
             "Woolworths Chocolate Chip Cookies",
             "Woolworths The King Of Chunky Chocolate Chip Cookies",
             "Arnott's Mini Choc Chip Cookie Multipack Biscuits",
             "Oreo Original Mini Cookies Multipack",
             "Oreo Minis Cookies Variety Bags 18 Pack",
             "Cadbury Classic Choc Chip Cookies",
             "Cadbury Choc Centre Cookies",
             "Byron Bay Cookies Dotty Cookie Bites",
             "Oreo Original Cookies",
             "Oreo Double Stuff Cookies",
             "Oreo Original Cookies Family Pack",
             "Oreo Chocolate Cookies",
             "Oreo Grab & Go Original Cookies 9 Pack",
             "Oreo Neapolitan Double Stuff Cookies",
             "Deep Cove Sardines In Oil",
             "Thins Chips Salt & Vinegar",
             "Thins Chips Chicken",
             "Thins Chips Light & Tangy",
             "Thins Cheese & Onion Chips"
            ],
            [
             "Indomie Mi Goreng Instant Noodles",
             "Maggi 2 Minute Chicken Flavour Instant Noodles",
             "Supreme Noodles Cup Chicken Flavour",
             "Fantastic Chicken Noodle Cup",
             "Fantastic Chicken Noodle Bowl",
             "Indomie Mi Goreng Noodle Cup",
             "Maggi 2 Minute Beef Flavour Instant Noodles",
             "Supreme Noodles Cup Beef Flavour",
             "Kitkat 4 Finger Milk Chocolate Bar",
             "Kitkat Chunky Original Chocolate Bar",
             "Cadbury Chomp Chocolate Bar",
             "Arnott's Premier Chocolate Chip Cookies",
             "Woolworths Chocolate Chip Cookies",
             "Woolworths The King Of Chunky Chocolate Chip Cookies",
             "Arnott's Mini Choc Chip Cookie Multipack Biscuits",
             "Oreo Original Mini Cookies Multipack",
             "Oreo Minis Cookies Variety Bags 18 Pack",
             "Cadbury Classic Choc Chip Cookies",
             "Cadbury Choc Centre Cookies",
             "Byron Bay Cookies Dotty Cookie Bites",
             "Oreo Original Cookies",
             "Oreo Double Stuff Cookies",
             "Oreo Original Cookies Family Pack",
             "Oreo Chocolate Cookies",
             "Oreo Grab & Go Original Cookies 9 Pack",
             "Oreo Neapolitan Double Stuff Cookies"
            ],
            [
             "Coca - Cola Classic  Soft Drink Multipack Cans",
             "Coca - Cola Classic  Soft Drink Mini Cans",
             "Coca - Cola Vanilla  Soft Drink Multipack Cans",
             "Coca - Cola Zero Sugar Soft Drink Multipack Cans",
             "Coca - Cola Caffeine Free Zero Sugar Soft Drink Multipack Cans",
             "Coca - Cola Zero Sugar Soft Drink Mini Cans",
             "Maggi 2 Minute Beef Flavour Instant Noodles",
             "Kitkat 4 Finger Milk Chocolate Bar",
             "Kitkat Chunky Original Chocolate Bar",
             "Arnott's Premier Chocolate Chip Cookies",
             "Oreo Original Mini Cookies Multipack",
             "Oreo Minis Cookies Variety Bags 18 Pack",
             "Cadbury Classic Choc Chip Cookies",
             "Cadbury Choc Centre Cookies",
             "Byron Bay Cookies Dotty Cookie Bites",
             "Oreo Original Cookies",
             "Oreo Double Stuff Cookies",
             "Oreo Original Cookies Family Pack",
             "Oreo Chocolate Cookies",
             "Oreo Grab & Go Original Cookies 9 Pack",
             "Thins Chips Light & Tangy"
            ],
            [
             "Kitkat 4 Finger Milk Chocolate Bar",
             "Kitkat Chunky Original Chocolate Bar",
             "Cadbury Dairy Milk Caramello Koala Chocolate",
             "Mars Chocolate Bar With Nougat & Caramel",
             "Cadbury Dairy Milk Chocolate Roll",
             "Cadbury Dairy Milk Chocolate Bar",
             "Cadbury Twirl Chocolate Bar",
             "Cadbury Chomp Chocolate Bar",
             "Arnott's Premier Chocolate Chip Cookies",
             "Woolworths Chocolate Chip Cookies",
             "Woolworths The King Of Chunky Chocolate Chip Cookies",
             "Arnott's Mini Choc Chip Cookie Multipack Biscuits",
             "Oreo Original Mini Cookies Multipack",
             "Oreo Minis Cookies Variety Bags 18 Pack",
             "Cadbury Choc Centre Cookies",
             "Byron Bay Cookies Dotty Cookie Bites",
             "Oreo Original Cookies",
             "Oreo Double Stuff Cookies",
             "Oreo Original Cookies Family Pack",
             "Oreo Chocolate Cookies",
             "Oreo Grab & Go Original Cookies 9 Pack",
             "Oreo Neapolitan Double Stuff Cookies"
            ],
            [
             "Woolworths Apple Juice",
             "Woolworths Apple & Mango Juice",
             "Woolworths Orange Juice",
             "Woolworths Breakfast Juice",
             "Woolworths Apple & Blackcurrant Juice",
             "Woolworths Multivitamin Juice",
             "Woolworths Diced Italian Tomatoes",
             "Woolworths Tomato Sauce Squeeze",
             "Woolworths Tomato Sauce",
             "Woolworths Barbecue Sauce Squeeze",
             "Woolworths Secret Burger Sauce",
             "Woolworths Barbecue Sauce",
             "Woolworths Peach In Strawberry Jelly",
             "Woolworths Two Fruits In Juice Cups",
             "Woolworths Two Fruits In Juice",
             "Woolworths Two Fruits In Tropical Jelly",
             "Woolworths Apple In Pineapple Jelly"
            ],
            [
             "Indomie Mi Goreng Instant Noodles",
             "Indomie Mi Goreng Noodle Cup",
             "Golden Circle Golden Pash Fruit Drink",
             "Golden Circle Drinks Pine Orange Fruit Drink",
             "Golden Circle Drinks Sunshine Punch Fruit Drink",
             "Golden Circle Fruit Drinks Lunch Box Poppers Tropical Punch Multipack",
             "Essentials Coconut Cream",
             "Deep Cove Sardines In Oil",
             "Essentials Coconut Milk",
             "Masterfoods Barbecue Sauce",
             "Woolworths Secret Burger Sauce",
             "Woolworths Peach In Strawberry Jelly",
             "Woolworths Two Fruits In Juice Cups",
             "Woolworths Two Fruits In Juice",
             "Woolworths Two Fruits In Tropical Jelly",
             "Woolworths Apple In Pineapple Jelly",
             "Dole Pineapple Slices In Syrup",
             "Dole Pineapple Chunks In Juice"
            ],
            [
             "Indomie Mi Goreng Instant Noodles",
             "Maggi 2 Minute Chicken Flavour Instant Noodles",
             "Supreme Noodles Cup Chicken Flavour",
             "Fantastic Chicken Noodle Cup",
             "Fantastic Chicken Noodle Bowl",
             "Indomie Mi Goreng Noodle Cup",
             "Maggi 2 Minute Beef Flavour Instant Noodles",
             "Supreme Noodles Cup Beef Flavour",
             "Smith's Crinkle Cut Potato Chips Cheese & Onion",
             "Smith's Crinkle Cut Potato Chips Barbecue",
             "Smith's Crinkle Cut Potato Chips Chicken",
             "Thins Chips Salt & Vinegar",
             "Thins Chips Chicken",
             "Smith's Crinkle Cut Potato Chips Salt & Vinegar",
             "Thins Cheese & Onion Chips"
            ],
            [
             "Maggi 2 Minute Beef Flavour Instant Noodles",
             "Schweppes Zero Sugar Lime Infused Mineral Water Bottle",
             "Schweppes Raspberry Infused Natural Mineral Water Bottle",
             "Schweppes Lemon Lime Natural Mineral Water Bottle",
             "Schweppes Orange Mango Natural Mineral Water Bottle",
             "Golden Circle Golden Pash Fruit Drink",
             "Golden Circle Drinks Pine Orange Fruit Drink",
             "Golden Circle Drinks Sunshine Punch Fruit Drink",
             "Golden Circle Fruit Drinks Lunch Box Poppers Tropical Punch Multipack",
             "Masterfoods Tomato Sauce",
             "Masterfoods Barbecue Sauce",
             "Heinz Ketchup Tomato Sauce Ketchup",
             "Smith's Crinkle Cut Potato Chips Cheese & Onion",
             "Smith's Crinkle Cut Potato Chips Barbecue",
             "Thins Chips Chicken",
             "Smith's Crinkle Cut Potato Chips Salt & Vinegar"
            ],
            [
             "Coca - Cola Classic  Soft Drink Multipack Cans",
             "Coca - Cola Classic  Soft Drink Mini Cans",
             "Coca - Cola Vanilla  Soft Drink Multipack Cans",
             "Coca - Cola Zero Sugar Soft Drink Multipack Cans",
             "Coca - Cola Caffeine Free Zero Sugar Soft Drink Multipack Cans",
             "Coca - Cola Zero Sugar Soft Drink Mini Cans",
             "Schweppes Soda Water Bottle Classic Mixers",
             "Schweppes Indian Tonic Water Classic Mixers Bottle",
             "Schweppes Lime Soda Water With Lime Juice Bottle",
             "Schweppes Zero Sugar Classic Mixers Indian Tonic Water Bottle"
            ],
            [
             "Indomie Mi Goreng Instant Noodles",
             "Maggi 2 Minute Chicken Flavour Instant Noodles",
             "Fantastic Chicken Noodle Bowl",
             "Indomie Mi Goreng Noodle Cup",
             "Maggi 2 Minute Beef Flavour Instant Noodles",
             "Oreo Original Mini Cookies Multipack",
             "Oreo Minis Cookies Variety Bags 18 Pack",
             "Oreo Original Cookies",
             "Oreo Double Stuff Cookies",
             "Oreo Original Cookies Family Pack",
             "Oreo Chocolate Cookies",
             "Oreo Grab & Go Original Cookies 9 Pack",
             "Oreo Neapolitan Double Stuff Cookies"
            ],
            [
             "Woolworths Chocolate Chip Cookies",
             "Arnott's Mini Choc Chip Cookie Multipack Biscuits",
             "Woolworths Apple Juice",
             "Woolworths Apple & Mango Juice",
             "Woolworths Orange Juice",
             "Woolworths Apple & Blackcurrant Juice",
             "Golden Circle Drinks Pine Orange Fruit Drink",
             "Woolworths Tomato Sauce Squeeze",
             "Woolworths Tomato Sauce",
             "Fountain Tomato Sauce Squeeze",
             "Woolworths Barbecue Sauce",
             "Thins Chips Salt & Vinegar",
             "Thins Cheese & Onion Chips"
            ],
            [
             "Kitkat 4 Finger Milk Chocolate Bar",
             "Kitkat Chunky Original Chocolate Bar",
             "Cadbury Dairy Milk Caramello Koala Chocolate",
             "Mars Chocolate Bar With Nougat & Caramel",
             "Cadbury Dairy Milk Chocolate Roll",
             "Cadbury Dairy Milk Chocolate Bar",
             "Cadbury Twirl Chocolate Bar",
             "Arnott's Premier Chocolate Chip Cookies",
             "Woolworths The King Of Chunky Chocolate Chip Cookies",
             "Arnott's Mini Choc Chip Cookie Multipack Biscuits",
             "Cadbury Classic Choc Chip Cookies",
             "Cadbury Choc Centre Cookies"
            ],
            [
             "Smith's Crinkle Cut Potato Chips Original",
             "Smith's Crinkle Cut Potato Chips Chicken",
             "Smith's Thinly Cut Potato Chips Original Share Pack",
             "Smith's Crinkle Cut Potato Chips Salt & Vinegar",
             "Woolworths Peach In Strawberry Jelly",
             "Woolworths Two Fruits In Juice Cups",
             "Woolworths Two Fruits In Juice",
             "Woolworths Two Fruits In Tropical Jelly",
             "Woolworths Apple In Pineapple Jelly",
             "Goulburn Valley Two Fruits In Juice",
             "Goulburn Valley Two Fruits In Juice Fruit Cups In Juice"
            ],
            [
             "Kitkat 4 Finger Milk Chocolate Bar",
             "Kitkat Chunky Original Chocolate Bar",
             "Cadbury Dairy Milk Caramello Koala Chocolate",
             "Mars Chocolate Bar With Nougat & Caramel",
             "Cadbury Dairy Milk Chocolate Roll",
             "Cadbury Dairy Milk Chocolate Bar",
             "Cadbury Twirl Chocolate Bar",
             "Arnott's Premier Chocolate Chip Cookies",
             "Woolworths The King Of Chunky Chocolate Chip Cookies",
             "Arnott's Mini Choc Chip Cookie Multipack Biscuits",
             "Cadbury Classic Choc Chip Cookies",
             "Cadbury Choc Centre Cookies"
            ],
            [
             "Cadbury Chomp Chocolate Bar",
             "Oreo Original Mini Cookies Multipack",
             "Oreo Minis Cookies Variety Bags 18 Pack",
             "Cadbury Classic Choc Chip Cookies",
             "Cadbury Choc Centre Cookies",
             "Byron Bay Cookies Dotty Cookie Bites",
             "Oreo Original Cookies",
             "Oreo Double Stuff Cookies",
             "Oreo Original Cookies Family Pack",
             "Oreo Chocolate Cookies",
             "Oreo Grab & Go Original Cookies 9 Pack",
             "Oreo Neapolitan Double Stuff Cookies"
            ],
            [
             "Kitkat 4 Finger Milk Chocolate Bar",
             "Kitkat Chunky Original Chocolate Bar",
             "Cadbury Dairy Milk Caramello Koala Chocolate",
             "Mars Chocolate Bar With Nougat & Caramel",
             "Cadbury Dairy Milk Chocolate Roll",
             "Cadbury Dairy Milk Chocolate Bar",
             "Cadbury Twirl Chocolate Bar",
             "Cadbury Chomp Chocolate Bar",
             "Arnott's Premier Chocolate Chip Cookies",
             "Cadbury Classic Choc Chip Cookies",
             "Cadbury Choc Centre Cookies",
             "Byron Bay Cookies Dotty Cookie Bites"
            ],
            [
             "Schweppes Zero Sugar Lime Infused Mineral Water Bottle",
             "Schweppes Raspberry Infused Natural Mineral Water Bottle",
             "Schweppes Lemon Lime Natural Mineral Water Bottle",
             "Schweppes Orange Mango Natural Mineral Water Bottle",
             "Woolworths Breakfast Juice",
             "Woolworths Multivitamin Juice",
             "Golden Circle Golden Pash Fruit Drink",
             "Golden Circle Drinks Sunshine Punch Fruit Drink",
             "Golden Circle Fruit Drinks Lunch Box Poppers Tropical Punch Multipack",
             "Fountain Barbecue Bbq Sauce Squeeze",
             "Heinz Ketchup Tomato Sauce Ketchup",
             "Smith's Crinkle Cut Potato Chips Salt & Vinegar"
            ],
            [
             "Indomie Mi Goreng Instant Noodles",
             "Maggi 2 Minute Chicken Flavour Instant Noodles",
             "Supreme Noodles Cup Chicken Flavour",
             "Fantastic Chicken Noodle Cup",
             "Indomie Mi Goreng Noodle Cup",
             "Woolworths Secret Burger Sauce",
             "Smith's Crinkle Cut Potato Chips Cheese & Onion",
             "Smith's Crinkle Cut Potato Chips Barbecue",
             "Smith's Crinkle Cut Potato Chips Chicken",
             "Thins Chips Chicken",
             "Thins Chips Light & Tangy",
             "Thins Cheese & Onion Chips"
            ],
            [
             "Coca - Cola Classic  Soft Drink Multipack Cans",
             "Coca - Cola Classic  Soft Drink Mini Cans",
             "Coca - Cola Vanilla  Soft Drink Multipack Cans",
             "Coca - Cola Zero Sugar Soft Drink Multipack Cans",
             "Coca - Cola Caffeine Free Zero Sugar Soft Drink Multipack Cans",
             "Coca - Cola Zero Sugar Soft Drink Mini Cans",
             "Fountain Barbecue Bbq Sauce Squeeze"
            ],
            [
             "Maggi 2 Minute Chicken Flavour Instant Noodles",
             "Supreme Noodles Cup Chicken Flavour",
             "Fantastic Chicken Noodle Cup",
             "Maggi 2 Minute Beef Flavour Instant Noodles",
             "Supreme Noodles Cup Beef Flavour",
             "Smith's Crinkle Cut Potato Chips Barbecue",
             "Smith's Crinkle Cut Potato Chips Chicken",
             "Thins Chips Chicken",
             "Thins Chips Light & Tangy",
             "Thins Cheese & Onion Chips"
            ],
            [
             "Cadbury Chomp Chocolate Bar",
             "Oreo Original Mini Cookies Multipack",
             "Oreo Minis Cookies Variety Bags 18 Pack",
             "Cadbury Choc Centre Cookies",
             "Byron Bay Cookies Dotty Cookie Bites",
             "Oreo Original Cookies",
             "Oreo Double Stuff Cookies",
             "Oreo Original Cookies Family Pack",
             "Oreo Chocolate Cookies",
             "Oreo Grab & Go Original Cookies 9 Pack",
             "Oreo Neapolitan Double Stuff Cookies"
            ],
            [
             "Indomie Mi Goreng Noodle Cup",
             "Cadbury Dairy Milk Caramello Koala Chocolate",
             "Cadbury Dairy Milk Chocolate Roll",
             "Cadbury Dairy Milk Chocolate Bar",
             "Cadbury Twirl Chocolate Bar",
             "Cadbury Chomp Chocolate Bar",
             "Cadbury Choc Centre Cookies",
             "Oreo Neapolitan Double Stuff Cookies",
             "Smith's Crinkle Cut Potato Chips Barbecue",
             "Thins Chips Chicken"
            ],
            [
             "Smith's Crinkle Cut Potato Chips Original",
             "Smith's Crinkle Cut Potato Chips Cheese & Onion",
             "Smith's Crinkle Cut Potato Chips Barbecue",
             "Smith's Crinkle Cut Potato Chips Chicken",
             "Thins Chips Salt & Vinegar",
             "Smith's Thinly Cut Potato Chips Original Share Pack",
             "Thins Chips Chicken",
             "Smith's Crinkle Cut Potato Chips Salt & Vinegar",
             "Thins Chips Light & Tangy",
             "Thins Cheese & Onion Chips"
            ],
            [
             "Woolworths Apple Juice",
             "Woolworths Apple & Mango Juice",
             "Woolworths Orange Juice",
             "Woolworths Breakfast Juice",
             "Woolworths Apple & Blackcurrant Juice",
             "Woolworths Multivitamin Juice",
             "Golden Circle Golden Pash Fruit Drink",
             "Golden Circle Drinks Pine Orange Fruit Drink",
             "Golden Circle Drinks Sunshine Punch Fruit Drink",
             "Golden Circle Fruit Drinks Lunch Box Poppers Tropical Punch Multipack"
            ],
            [
             "Oreo Original Mini Cookies Multipack",
             "Oreo Minis Cookies Variety Bags 18 Pack",
             "Cadbury Classic Choc Chip Cookies",
             "Cadbury Choc Centre Cookies",
             "Oreo Original Cookies",
             "Oreo Double Stuff Cookies",
             "Oreo Original Cookies Family Pack",
             "Oreo Chocolate Cookies",
             "Oreo Grab & Go Original Cookies 9 Pack",
             "Oreo Neapolitan Double Stuff Cookies"
            ],
            [
             "Maggi 2 Minute Chicken Flavour Instant Noodles",
             "Maggi 2 Minute Beef Flavour Instant Noodles",
             "Kitkat 4 Finger Milk Chocolate Bar",
             "Kitkat Chunky Original Chocolate Bar",
             "Cadbury Dairy Milk Caramello Koala Chocolate",
             "Mars Chocolate Bar With Nougat & Caramel",
             "Cadbury Chomp Chocolate Bar",
             "Cadbury Classic Choc Chip Cookies",
             "Byron Bay Cookies Dotty Cookie Bites"
            ],
            [
             "Indomie Mi Goreng Instant Noodles",
             "Supreme Noodles Cup Chicken Flavour",
             "Fantastic Chicken Noodle Cup",
             "Fantastic Chicken Noodle Bowl",
             "Indomie Mi Goreng Noodle Cup",
             "Maggi 2 Minute Beef Flavour Instant Noodles",
             "Masterfoods Barbecue Sauce",
             "Smith's Crinkle Cut Potato Chips Cheese & Onion",
             "Smith's Crinkle Cut Potato Chips Chicken",
             "Thins Cheese & Onion Chips"
            ],
            [
             "Coca - Cola Classic  Soft Drink Multipack Cans",
             "Coca - Cola Classic  Soft Drink Mini Cans",
             "Coca - Cola Vanilla  Soft Drink Multipack Cans",
             "Coca - Cola Zero Sugar Soft Drink Multipack Cans",
             "Coca - Cola Caffeine Free Zero Sugar Soft Drink Multipack Cans",
             "Coca - Cola Zero Sugar Soft Drink Mini Cans"
            ],
            [
             "Coca - Cola Classic  Soft Drink Multipack Cans",
             "Coca - Cola Classic  Soft Drink Mini Cans",
             "Coca - Cola Vanilla  Soft Drink Multipack Cans",
             "Coca - Cola Zero Sugar Soft Drink Multipack Cans",
             "Coca - Cola Zero Sugar Soft Drink Mini Cans"
            ],
            [
             "Maggi 2 Minute Chicken Flavour Instant Noodles",
             "Maggi 2 Minute Beef Flavour Instant Noodles",
             "Smith's Crinkle Cut Potato Chips Cheese & Onion",
             "Smith's Crinkle Cut Potato Chips Barbecue",
             "Smith's Crinkle Cut Potato Chips Chicken",
             "Thins Chips Salt & Vinegar",
             "Thins Chips Chicken",
             "Smith's Crinkle Cut Potato Chips Salt & Vinegar",
             "Thins Cheese & Onion Chips"
            ],
            [
             "Oreo Original Mini Cookies Multipack",
             "Oreo Minis Cookies Variety Bags 18 Pack",
             "Byron Bay Cookies Dotty Cookie Bites",
             "Oreo Original Cookies",
             "Oreo Double Stuff Cookies",
             "Oreo Original Cookies Family Pack",
             "Oreo Chocolate Cookies",
             "Oreo Grab & Go Original Cookies 9 Pack",
             "Oreo Neapolitan Double Stuff Cookies"
            ],
            [
             "Oreo Original Mini Cookies Multipack",
             "Oreo Minis Cookies Variety Bags 18 Pack",
             "Oreo Original Cookies",
             "Woolworths Multivitamin Juice",
             "Oreo Double Stuff Cookies",
             "Oreo Original Cookies Family Pack",
             "Oreo Chocolate Cookies",
             "Oreo Grab & Go Original Cookies 9 Pack",
             "Oreo Neapolitan Double Stuff Cookies"
            ],
            [
             "Oreo Original Mini Cookies Multipack",
             "Oreo Minis Cookies Variety Bags 18 Pack",
             "Oreo Original Cookies",
             "Oreo Double Stuff Cookies",
             "Oreo Original Cookies Family Pack",
             "Oreo Chocolate Cookies",
             "Oreo Grab & Go Original Cookies 9 Pack",
             "Oreo Neapolitan Double Stuff Cookies"
            ],
            [
             "Oreo Original Mini Cookies Multipack",
             "Oreo Minis Cookies Variety Bags 18 Pack",
             "Oreo Original Cookies",
             "Oreo Double Stuff Cookies",
             "Oreo Original Cookies Family Pack",
             "Oreo Chocolate Cookies",
             "Oreo Grab & Go Original Cookies 9 Pack",
             "Oreo Neapolitan Double Stuff Cookies"
            ],
            [
             "Oreo Original Mini Cookies Multipack",
             "Oreo Minis Cookies Variety Bags 18 Pack",
             "Oreo Original Cookies",
             "Oreo Double Stuff Cookies",
             "Oreo Original Cookies Family Pack",
             "Oreo Chocolate Cookies",
             "Oreo Grab & Go Original Cookies 9 Pack",
             "Oreo Neapolitan Double Stuff Cookies"
            ],
            [
             "Kitkat 4 Finger Milk Chocolate Bar",
             "Kitkat Chunky Original Chocolate Bar",
             "Woolworths Chocolate Chip Cookies",
             "Dairy Farmers Full Cream Milk Full Cream Milk",
             "A2 Milk Full Cream Milk",
             "Woolworths Creamed Rice"
            ],
            [
             "Oreo Original Mini Cookies Multipack",
             "Oreo Minis Cookies Variety Bags 18 Pack",
             "Oreo Original Cookies",
             "Oreo Double Stuff Cookies",
             "Oreo Original Cookies Family Pack",
             "Oreo Chocolate Cookies",
             "Oreo Grab & Go Original Cookies 9 Pack",
             "Oreo Neapolitan Double Stuff Cookies"
            ],
            [
             "Kitkat 4 Finger Milk Chocolate Bar",
             "Kitkat Chunky Original Chocolate Bar",
             "Cadbury Dairy Milk Caramello Koala Chocolate",
             "Cadbury Dairy Milk Chocolate Roll",
             "Cadbury Dairy Milk Chocolate Bar",
             "Cadbury Twirl Chocolate Bar",
             "Cadbury Chomp Chocolate Bar",
             "Byron Bay Cookies Dotty Cookie Bites"
            ],
            [
             "Indomie Mi Goreng Instant Noodles",
             "Indomie Mi Goreng Noodle Cup",
             "Maggi 2 Minute Beef Flavour Instant Noodles",
             "Supreme Noodles Cup Beef Flavour",
             "Kitkat 4 Finger Milk Chocolate Bar",
             "Kitkat Chunky Original Chocolate Bar",
             "Woolworths Chocolate Chip Cookies"
            ],
            [
             "Maggi 2 Minute Chicken Flavour Instant Noodles",
             "Supreme Noodles Cup Chicken Flavour",
             "Fantastic Chicken Noodle Cup",
             "Oreo Neapolitan Double Stuff Cookies",
             "Smith's Crinkle Cut Potato Chips Cheese & Onion",
             "Smith's Crinkle Cut Potato Chips Barbecue",
             "Smith's Crinkle Cut Potato Chips Chicken"
            ],
            [
             "Schweppes Orange Mango Natural Mineral Water Bottle",
             "Woolworths Orange Juice",
             "Woolworths Breakfast Juice",
             "Woolworths Multivitamin Juice",
             "Golden Circle Drinks Pine Orange Fruit Drink",
             "Golden Circle Drinks Sunshine Punch Fruit Drink",
             "Golden Circle Fruit Drinks Lunch Box Poppers Tropical Punch Multipack"
            ],
            [
             "Cadbury Dairy Milk Caramello Koala Chocolate",
             "Cadbury Dairy Milk Chocolate Roll",
             "Cadbury Dairy Milk Chocolate Bar",
             "Cadbury Twirl Chocolate Bar",
             "Woolworths Full Cream Milk",
             "Pauls Farmhouse Gold Full Cream Milk"
            ],
            [
             "Oreo Original Mini Cookies Multipack",
             "Oreo Minis Cookies Variety Bags 18 Pack",
             "Oreo Original Cookies",
             "Oreo Double Stuff Cookies",
             "Oreo Original Cookies Family Pack",
             "Oreo Chocolate Cookies",
             "Oreo Neapolitan Double Stuff Cookies"
            ],
            [
             "Woolworths Apple & Mango Juice",
             "Woolworths Breakfast Juice",
             "Woolworths Apple & Blackcurrant Juice",
             "Woolworths Multivitamin Juice",
             "Golden Circle Golden Pash Fruit Drink",
             "Golden Circle Drinks Sunshine Punch Fruit Drink",
             "Golden Circle Fruit Drinks Lunch Box Poppers Tropical Punch Multipack"
            ],
            [
             "Woolworths Secret Burger Sauce",
             "Smith's Crinkle Cut Potato Chips Original",
             "Smith's Crinkle Cut Potato Chips Cheese & Onion",
             "Smith's Crinkle Cut Potato Chips Barbecue",
             "Smith's Crinkle Cut Potato Chips Chicken",
             "Smith's Thinly Cut Potato Chips Original Share Pack",
             "Smith's Crinkle Cut Potato Chips Salt & Vinegar"
            ],
            [
             "Indomie Mi Goreng Instant Noodles",
             "Maggi 2 Minute Chicken Flavour Instant Noodles",
             "Indomie Mi Goreng Noodle Cup",
             "Maggi 2 Minute Beef Flavour Instant Noodles",
             "Masterfoods Tomato Sauce",
             "Masterfoods Barbecue Sauce"
            ],
            [
             "Smith's Crinkle Cut Potato Chips Original",
             "Smith's Crinkle Cut Potato Chips Cheese & Onion",
             "Smith's Crinkle Cut Potato Chips Barbecue",
             "Smith's Crinkle Cut Potato Chips Chicken",
             "Smith's Thinly Cut Potato Chips Original Share Pack",
             "Smith's Crinkle Cut Potato Chips Salt & Vinegar"
            ],
            [
             "Coca - Cola Zero Sugar Soft Drink Multipack Cans",
             "Coca - Cola Caffeine Free Zero Sugar Soft Drink Multipack Cans",
             "Coca - Cola Zero Sugar Soft Drink Mini Cans",
             "Schweppes Zero Sugar Classic Mixers Indian Tonic Water Bottle"
            ],
            [
             "Coca - Cola Zero Sugar Soft Drink Multipack Cans",
             "Coca - Cola Caffeine Free Zero Sugar Soft Drink Multipack Cans",
             "Coca - Cola Zero Sugar Soft Drink Mini Cans",
             "Schweppes Zero Sugar Classic Mixers Indian Tonic Water Bottle"
            ],
            [
             "Coca - Cola Zero Sugar Soft Drink Multipack Cans",
             "Coca - Cola Caffeine Free Zero Sugar Soft Drink Multipack Cans",
             "Coca - Cola Zero Sugar Soft Drink Mini Cans",
             "Schweppes Zero Sugar Classic Mixers Indian Tonic Water Bottle"
            ],
            [
             "Woolworths Peach In Strawberry Jelly",
             "Woolworths Two Fruits In Juice Cups",
             "Woolworths Two Fruits In Juice",
             "Woolworths Two Fruits In Tropical Jelly"
            ],
            [
             "Woolworths Chocolate Chip Cookies",
             "Woolworths The King Of Chunky Chocolate Chip Cookies",
             "Smith's Crinkle Cut Potato Chips Cheese & Onion",
             "Thins Chips Light & Tangy",
             "Thins Cheese & Onion Chips"
            ],
            [
             "Woolworths Diced Italian Tomatoes",
             "Masterfoods Barbecue Sauce",
             "Fountain Barbecue Bbq Sauce Squeeze",
             "Heinz Ketchup Tomato Sauce Ketchup"
            ],
            [
             "Woolworths Breakfast Juice",
             "Woolworths Multivitamin Juice",
             "Golden Circle Golden Pash Fruit Drink",
             "Golden Circle Drinks Sunshine Punch Fruit Drink",
             "Golden Circle Fruit Drinks Lunch Box Poppers Tropical Punch Multipack"
            ],
            [
             "Woolworths Breakfast Juice",
             "Golden Circle Golden Pash Fruit Drink",
             "Golden Circle Drinks Pine Orange Fruit Drink",
             "Golden Circle Drinks Sunshine Punch Fruit Drink",
             "Golden Circle Fruit Drinks Lunch Box Poppers Tropical Punch Multipack"
            ],
            [
             "Indomie Mi Goreng Instant Noodles",
             "Indomie Mi Goreng Noodle Cup",
             "Schweppes Lime Soda Water With Lime Juice Bottle",
             "Schweppes Lemon Lime Natural Mineral Water Bottle",
             "Schweppes Orange Mango Natural Mineral Water Bottle"
            ],
            [
             "Schweppes Indian Tonic Water Classic Mixers Bottle",
             "Schweppes Zero Sugar Classic Mixers Indian Tonic Water Bottle",
             "Cadbury Chomp Chocolate Bar",
             "Oreo Minis Cookies Variety Bags 18 Pack",
             "Oreo Neapolitan Double Stuff Cookies"
            ],
            [
             "Supreme Noodles Cup Chicken Flavour",
             "Fantastic Chicken Noodle Cup",
             "Maggi 2 Minute Beef Flavour Instant Noodles",
             "Supreme Noodles Cup Beef Flavour",
             "Kitkat Chunky Original Chocolate Bar"
            ],
            [
             "Maggi 2 Minute Chicken Flavour Instant Noodles",
             "Fantastic Chicken Noodle Cup",
             "Maggi 2 Minute Beef Flavour Instant Noodles",
             "Supreme Noodles Cup Beef Flavour"
            ],
            [
             "Indomie Mi Goreng Instant Noodles",
             "Indomie Mi Goreng Noodle Cup",
             "Woolworths Barbecue Sauce Squeeze",
             "Fountain Barbecue Bbq Sauce Squeeze",
             "Woolworths Barbecue Sauce"
            ],
            [
             "Cadbury Classic Choc Chip Cookies",
             "Cadbury Choc Centre Cookies",
             "Smith's Crinkle Cut Potato Chips Cheese & Onion",
             "Smith's Crinkle Cut Potato Chips Salt & Vinegar"
            ],
            [
             "Woolworths Two Fruits In Juice Cups",
             "Woolworths Two Fruits In Juice",
             "Woolworths Two Fruits In Tropical Jelly"
            ],
            [
             "Smith's Crinkle Cut Potato Chips Original",
             "Smith's Crinkle Cut Potato Chips Chicken",
             "Smith's Thinly Cut Potato Chips Original Share Pack",
             "Smith's Crinkle Cut Potato Chips Salt & Vinegar"
            ],
            [
             "Smith's Crinkle Cut Potato Chips Original",
             "Smith's Crinkle Cut Potato Chips Chicken",
             "Smith's Thinly Cut Potato Chips Original Share Pack",
             "Smith's Crinkle Cut Potato Chips Salt & Vinegar"
            ],
            [
             "Woolworths Tomato Sauce Squeeze",
             "Woolworths Tomato Sauce",
             "Woolworths Barbecue Sauce Squeeze",
             "Woolworths Barbecue Sauce"
            ],
            [
             "Woolworths Tomato Sauce Squeeze",
             "Woolworths Tomato Sauce",
             "Woolworths Barbecue Sauce Squeeze",
             "Woolworths Barbecue Sauce"
            ],
            [
             "Woolworths Multivitamin Juice",
             "Golden Circle Golden Pash Fruit Drink",
             "Golden Circle Drinks Sunshine Punch Fruit Drink",
             "Golden Circle Fruit Drinks Lunch Box Poppers Tropical Punch Multipack"
            ],
            [
             "Woolworths Spring Water Bottles",
             "Woolworths Spring Water"
            ],
            [
             "Schweppes Orange Mango Natural Mineral Water Bottle",
             "Woolworths Apple & Mango Juice",
             "Woolworths Breakfast Juice",
             "Woolworths Multivitamin Juice"
            ],
            [
             "Maggi 2 Minute Chicken Flavour Instant Noodles",
             "Fantastic Chicken Noodle Bowl",
             "Maggi 2 Minute Beef Flavour Instant Noodles"
            ],
            [
             "Maggi 2 Minute Chicken Flavour Instant Noodles",
             "Fantastic Chicken Noodle Bowl",
             "Maggi 2 Minute Beef Flavour Instant Noodles"
            ],
            [
             "Maggi 2 Minute Chicken Flavour Instant Noodles",
             "Smith's Crinkle Cut Potato Chips Chicken",
             "Thins Chips Chicken",
             "Thins Cheese & Onion Chips"
            ],
            [
             "Maggi 2 Minute Chicken Flavour Instant Noodles",
             "Fantastic Chicken Noodle Bowl",
             "Maggi 2 Minute Beef Flavour Instant Noodles"
            ],
            [
             "Indomie Mi Goreng Instant Noodles",
             "Supreme Noodles Cup Chicken Flavour",
             "Fantastic Chicken Noodle Cup",
             "Indomie Mi Goreng Noodle Cup"
            ],
            [
             "Indomie Mi Goreng Instant Noodles",
             "Indomie Mi Goreng Noodle Cup",
             "Masterfoods Barbecue Sauce",
             "Thins Chips Chicken"
            ],
            [
             "Indomie Mi Goreng Instant Noodles",
             "Indomie Mi Goreng Noodle Cup",
             "Supreme Noodles Cup Beef Flavour",
             "Smith's Crinkle Cut Potato Chips Barbecue"
            ],
            [
             "Woolworths Peach In Strawberry Jelly",
             "Woolworths Two Fruits In Tropical Jelly",
             "Woolworths Apple In Pineapple Jelly"
            ],
            [
             "Woolworths Tomato Sauce Squeeze",
             "Woolworths Tomato Sauce",
             "Masterfoods Tomato Sauce"
            ],
            [
             "Woolworths Barbecue Sauce Squeeze",
             "Fountain Barbecue Bbq Sauce Squeeze",
             "Woolworths Barbecue Sauce"
            ],
            [
             "Masterfoods Tomato Sauce",
             "Masterfoods Barbecue Sauce",
             "Thins Chips Salt & Vinegar"
            ],
            [
             "Smith's Crinkle Cut Potato Chips Original",
             "Smith's Crinkle Cut Potato Chips Chicken",
             "Smith's Thinly Cut Potato Chips Original Share Pack"
            ],
            [
             "Smith's Crinkle Cut Potato Chips Barbecue",
             "Thins Chips Salt & Vinegar",
             "Smith's Crinkle Cut Potato Chips Salt & Vinegar"
            ],
            [
             "Woolworths Peach In Strawberry Jelly",
             "Woolworths Two Fruits In Tropical Jelly",
             "Woolworths Apple In Pineapple Jelly"
            ],
            [
             "Woolworths Peach In Strawberry Jelly",
             "Woolworths Two Fruits In Tropical Jelly",
             "Woolworths Apple In Pineapple Jelly"
            ],
            [
             "Woolworths Peach In Strawberry Jelly",
             "Woolworths Two Fruits In Tropical Jelly",
             "Woolworths Apple In Pineapple Jelly"
            ],
            [
             "Cadbury Classic Choc Chip Cookies",
             "Cadbury Choc Centre Cookies",
             "Byron Bay Cookies Dotty Cookie Bites"
            ],
            [
             "Woolworths Peach In Strawberry Jelly",
             "Woolworths Two Fruits In Tropical Jelly",
             "Woolworths Apple In Pineapple Jelly"
            ],
            [
             "Woolworths Peach In Strawberry Jelly",
             "Woolworths Two Fruits In Tropical Jelly",
             "Woolworths Apple In Pineapple Jelly"
            ],
            [
             "Woolworths Peach In Strawberry Jelly",
             "Woolworths Two Fruits In Tropical Jelly",
             "Woolworths Apple In Pineapple Jelly"
            ],
            [
             "Golden Circle Golden Pash Fruit Drink",
             "Golden Circle Drinks Sunshine Punch Fruit Drink",
             "Golden Circle Fruit Drinks Lunch Box Poppers Tropical Punch Multipack"
            ],
            [
             "Woolworths Secret Burger Sauce",
             "Woolworths Two Fruits In Tropical Jelly",
             "Woolworths Apple In Pineapple Jelly"
            ],
            [
             "Woolworths The King Of Chunky Chocolate Chip Cookies",
             "Arnott's Mini Choc Chip Cookie Multipack Biscuits",
             "Byron Bay Cookies Dotty Cookie Bites"
            ],
            [
             "Maggi 2 Minute Chicken Flavour Instant Noodles",
             "Fantastic Chicken Noodle Bowl"
            ],
            [
             "Woolworths The King Of Chunky Chocolate Chip Cookies",
             "Byron Bay Cookies Dotty Cookie Bites",
             "Woolworths Creamed Rice"
            ],
            [
             "Indomie Mi Goreng Instant Noodles",
             "Fantastic Chicken Noodle Bowl",
             "Indomie Mi Goreng Noodle Cup"
            ],
            [
             "Indomie Mi Goreng Instant Noodles",
             "Fantastic Chicken Noodle Bowl",
             "Indomie Mi Goreng Noodle Cup"
            ],
            [
             "Maggi 2 Minute Chicken Flavour Instant Noodles",
             "Maggi 2 Minute Beef Flavour Instant Noodles"
            ],
            [
             "Maggi 2 Minute Chicken Flavour Instant Noodles",
             "Maggi 2 Minute Beef Flavour Instant Noodles"
            ],
            [
             "Maggi 2 Minute Chicken Flavour Instant Noodles",
             "Fantastic Chicken Noodle Bowl"
            ],
            [
             "Indomie Mi Goreng Instant Noodles",
             "Fantastic Chicken Noodle Bowl",
             "Indomie Mi Goreng Noodle Cup"
            ],
            [
             "Maggi 2 Minute Chicken Flavour Instant Noodles",
             "Thins Cheese & Onion Chips"
            ],
            [
             "Supreme Noodles Cup Chicken Flavour",
             "Fantastic Chicken Noodle Cup",
             "Supreme Noodles Cup Beef Flavour"
            ],
            [
             "Fantastic Chicken Noodle Bowl",
             "Woolworths Chocolate Chip Cookies",
             "Woolworths The King Of Chunky Chocolate Chip Cookies"
            ],
            [
             "Schweppes Lime Soda Water With Lime Juice Bottle",
             "Schweppes Lemon Lime Natural Mineral Water Bottle",
             "Schweppes Orange Mango Natural Mineral Water Bottle"
            ],
            [
             "Kitkat 4 Finger Milk Chocolate Bar",
             "Kitkat Chunky Original Chocolate Bar",
             "Thins Cheese & Onion Chips"
            ],
            [
             "Cadbury Dairy Milk Caramello Koala Chocolate",
             "Cadbury Classic Choc Chip Cookies",
             "Masterfoods Barbecue Sauce"
            ],
            [
             "Arnott's Premier Chocolate Chip Cookies",
             "Arnott's Mini Choc Chip Cookie Multipack Biscuits"
            ],
            [
             "Cadbury Classic Choc Chip Cookies",
             "Cadbury Choc Centre Cookies"
            ],
            [
             "Cadbury Classic Choc Chip Cookies",
             "Byron Bay Cookies Dotty Cookie Bites"
            ],
            [
             "Cadbury Classic Choc Chip Cookies",
             "Cadbury Choc Centre Cookies"
            ],
            [
             "Cadbury Classic Choc Chip Cookies",
             "Cadbury Choc Centre Cookies"
            ],
            [
             "Oreo Minis Cookies Variety Bags 18 Pack",
             "Oreo Neapolitan Double Stuff Cookies"
            ],
            [
             "Woolworths Chocolate Chip Cookies",
             "Woolworths The King Of Chunky Chocolate Chip Cookies"
            ],
            [
             "Woolworths Chocolate Chip Cookies",
             "Woolworths The King Of Chunky Chocolate Chip Cookies"
            ],
            [
             "Woolworths Chocolate Chip Cookies",
             "Woolworths The King Of Chunky Chocolate Chip Cookies"
            ],
            [
             "Kitkat 4 Finger Milk Chocolate Bar",
             "Kitkat Chunky Original Chocolate Bar"
            ],
            [
             "Arnott's Premier Chocolate Chip Cookies",
             "Arnott's Mini Choc Chip Cookie Multipack Biscuits"
            ],
            [
             "Arnott's Premier Chocolate Chip Cookies",
             "Cadbury Choc Centre Cookies"
            ],
            [
             "Arnott's Premier Chocolate Chip Cookies",
             "Arnott's Mini Choc Chip Cookie Multipack Biscuits"
            ],
            [
             "Cadbury Chomp Chocolate Bar",
             "Byron Bay Cookies Dotty Cookie Bites"
            ],
            [
             "Mars Chocolate Bar With Nougat & Caramel",
             "Cadbury Chomp Chocolate Bar"
            ],
            [
             "Cadbury Dairy Milk Caramello Koala Chocolate",
             "Cadbury Chomp Chocolate Bar"
            ],
            [
             "Schweppes Lemon Lime Natural Mineral Water Bottle",
             "Woolworths Multivitamin Juice"
            ],
            [
             "Kitkat 4 Finger Milk Chocolate Bar",
             "Kitkat Chunky Original Chocolate Bar"
            ],
            [
             "Cadbury Classic Choc Chip Cookies",
             "Woolworths Secret Burger Sauce"
            ],
            [
             "Goulburn Valley Two Fruits In Juice",
             "Goulburn Valley Two Fruits In Juice Fruit Cups In Juice"
            ],
            [
             "Golden Circle Drinks Pine Orange Fruit Drink",
             "Golden Circle Drinks Sunshine Punch Fruit Drink"
            ],
            [
             "Golden Circle Drinks Sunshine Punch Fruit Drink",
             "Golden Circle Fruit Drinks Lunch Box Poppers Tropical Punch Multipack"
            ],
            [
             "Schweppes Lemon Lime Natural Mineral Water Bottle",
             "Schweppes Orange Mango Natural Mineral Water Bottle"
            ],
            [
             "Dole Pineapple Slices In Syrup",
             "Dole Pineapple Chunks In Juice"
            ],
            [
             "Goulburn Valley Two Fruits In Juice",
             "Goulburn Valley Two Fruits In Juice Fruit Cups In Juice"
            ],
            [
             "Goulburn Valley Two Fruits In Juice",
             "Goulburn Valley Two Fruits In Juice Fruit Cups In Juice"
            ],
            [
             "Woolworths Two Fruits In Juice Cups",
             "Woolworths Two Fruits In Juice"
            ],
            [
             "Smith's Crinkle Cut Potato Chips Cheese & Onion",
             "Smith's Crinkle Cut Potato Chips Chicken"
            ],
            [
             "Smith's Crinkle Cut Potato Chips Cheese & Onion",
             "Thins Cheese & Onion Chips"
            ],
            [
             "Frantelle Australian Still Spring Water Bottles Multipack",
             "Mount Franklin Spring Water Bottle"
            ],
            [
             "Woolworths Secret Burger Sauce",
             "Woolworths Two Fruits In Tropical Jelly"
            ],
            [
             "Fountain Tomato Sauce Squeeze",
             "Fountain Barbecue Bbq Sauce Squeeze"
            ],
            [
             "Woolworths Barbecue Sauce Squeeze",
             "Woolworths Barbecue Sauce"
            ],
            [
             "Woolworths Barbecue Sauce Squeeze",
             "Woolworths Barbecue Sauce"
            ],
            [
             "Woolworths Barbecue Sauce Squeeze",
             "Woolworths Barbecue Sauce"
            ],
            [
             "Woolworths Barbecue Sauce Squeeze",
             "Masterfoods Tomato Sauce"
            ],
            [
             "Woolworths Tomato Sauce Squeeze",
             "Woolworths Tomato Sauce"
            ],
            [
             "Essentials Coconut Cream",
             "Essentials Coconut Milk"
            ],
            [
             "Woolworths Diced Italian Tomatoes"
            ],
            [
             "Schweppes Lemon Lime Natural Mineral Water Bottle",
             "Schweppes Orange Mango Natural Mineral Water Bottle"
            ],
            [
             "Cadbury Classic Choc Chip Cookies",
             "Cadbury Choc Centre Cookies"
            ],
            [
             "Schweppes Lemon Lime Natural Mineral Water Bottle",
             "Schweppes Orange Mango Natural Mineral Water Bottle"
            ],
            [
             "Indomie Mi Goreng Instant Noodles",
             "Indomie Mi Goreng Noodle Cup"
            ],
            [
             "Indomie Mi Goreng Instant Noodles",
             "Indomie Mi Goreng Noodle Cup"
            ],
            [
             "Indomie Mi Goreng Instant Noodles",
             "Indomie Mi Goreng Noodle Cup"
            ],
            [
             "Indomie Mi Goreng Instant Noodles",
             "Indomie Mi Goreng Noodle Cup"
            ],
            [
             "Indomie Mi Goreng Instant Noodles",
             "Indomie Mi Goreng Noodle Cup"
            ],
            [
             "Indomie Mi Goreng Instant Noodles",
             "Indomie Mi Goreng Noodle Cup"
            ],
            [
             "Indomie Mi Goreng Instant Noodles",
             "Indomie Mi Goreng Noodle Cup"
            ],
            [
             "Indomie Mi Goreng Instant Noodles",
             "Indomie Mi Goreng Noodle Cup"
            ],
            [
             "Indomie Mi Goreng Instant Noodles",
             "Indomie Mi Goreng Noodle Cup"
            ],
            [
             "Indomie Mi Goreng Instant Noodles",
             "Indomie Mi Goreng Noodle Cup"
            ],
            [
             "Indomie Mi Goreng Instant Noodles",
             "Indomie Mi Goreng Noodle Cup"
            ],
            [
             "Indomie Mi Goreng Instant Noodles",
             "Indomie Mi Goreng Noodle Cup"
            ],
            [
             "Indomie Mi Goreng Instant Noodles",
             "Indomie Mi Goreng Noodle Cup"
            ],
            [
             "Indomie Mi Goreng Instant Noodles",
             "Indomie Mi Goreng Noodle Cup"
            ],
            [
             "Indomie Mi Goreng Instant Noodles",
             "Indomie Mi Goreng Noodle Cup"
            ],
            [
             "Indomie Mi Goreng Instant Noodles",
             "Indomie Mi Goreng Noodle Cup"
            ],
            [
             "Indomie Mi Goreng Instant Noodles",
             "Indomie Mi Goreng Noodle Cup"
            ],
            [
             "Schweppes Lime Soda Water With Lime Juice Bottle",
             "Schweppes Lemon Lime Natural Mineral Water Bottle"
            ],
            [
             "Indomie Mi Goreng Instant Noodles",
             "Indomie Mi Goreng Noodle Cup"
            ],
            [
             "Indomie Mi Goreng Instant Noodles",
             "Indomie Mi Goreng Noodle Cup"
            ],
            [
             "Maggi 2 Minute Chicken Flavour Instant Noodles",
             "Oreo Neapolitan Double Stuff Cookies"
            ],
            [
             "Fantastic Chicken Noodle Cup",
             "Fantastic Chicken Noodle Bowl"
            ],
            [
             "Maggi 2 Minute Chicken Flavour Instant Noodles"
            ],
            [
             "Schweppes Lime Soda Water With Lime Juice Bottle",
             "Schweppes Orange Mango Natural Mineral Water Bottle"
            ],
            [
             "Schweppes Indian Tonic Water Classic Mixers Bottle",
             "Schweppes Zero Sugar Classic Mixers Indian Tonic Water Bottle"
            ],
            [
             "Schweppes Indian Tonic Water Classic Mixers Bottle",
             "Schweppes Zero Sugar Classic Mixers Indian Tonic Water Bottle"
            ],
            [
             "Schweppes Indian Tonic Water Classic Mixers Bottle",
             "Schweppes Zero Sugar Classic Mixers Indian Tonic Water Bottle"
            ],
            [
             "Schweppes Indian Tonic Water Classic Mixers Bottle",
             "Schweppes Zero Sugar Classic Mixers Indian Tonic Water Bottle"
            ],
            [
             "Schweppes Zero Sugar Lime Infused Mineral Water Bottle",
             "Schweppes Raspberry Infused Natural Mineral Water Bottle"
            ],
            [
             "Fantastic Chicken Noodle Bowl",
             "Supreme Noodles Cup Beef Flavour"
            ],
            [
             "Schweppes Indian Tonic Water Classic Mixers Bottle",
             "Schweppes Zero Sugar Classic Mixers Indian Tonic Water Bottle"
            ],
            [
             "Supreme Noodles Cup Chicken Flavour",
             "Fantastic Chicken Noodle Cup"
            ],
            [
             "Maggi 2 Minute Chicken Flavour Instant Noodles"
            ],
            [
             "Maggi 2 Minute Chicken Flavour Instant Noodles",
             "Cadbury Classic Choc Chip Cookies"
            ],
            [
             "Maggi 2 Minute Chicken Flavour Instant Noodles"
            ],
            [
             "Maggi 2 Minute Chicken Flavour Instant Noodles"
            ],
            [
             "Maggi 2 Minute Chicken Flavour Instant Noodles"
            ],
            [
             "Maggi 2 Minute Chicken Flavour Instant Noodles"
            ],
            [
             "Maggi 2 Minute Chicken Flavour Instant Noodles",
             "Maggi 2 Minute Beef Flavour Instant Noodles"
            ],
            [
             "Essentials Coconut Cream"
            ],
            [
             "Woolworths Uht Full Cream Milk"
            ],
            [
             "Deep Cove Sardines In Oil"
            ],
            [
             "Woolworths Creamed Rice"
            ],
            [
             "Woolworths Creamed Rice"
            ],
            [
             "Woolworths Creamed Rice"
            ],
            [
             "Essentials Coconut Milk"
            ],
            [
             "Masterfoods Barbecue Sauce"
            ],
            [
             "Woolworths Barbecue Sauce Squeeze"
            ],
            [
             "Woolworths Barbecue Sauce Squeeze"
            ],
            [
             "Masterfoods Barbecue Sauce"
            ],
            [
             "Masterfoods Barbecue Sauce"
            ],
            [
             "Masterfoods Barbecue Sauce"
            ],
            [
             "Masterfoods Barbecue Sauce"
            ],
            [
             "Masterfoods Barbecue Sauce"
            ],
            [
             "Fountain Tomato Sauce Squeeze"
            ],
            [
             "Woolworths Lasagne Sheets"
            ],
            [
             "Woolworths Multivitamin Juice"
            ],
            [
             "Oreo Grab & Go Original Cookies 9 Pack"
            ],
            [
             "Oreo Grab & Go Original Cookies 9 Pack"
            ],
            [
             "Fountain Barbecue Bbq Sauce Squeeze"
            ],
            [
             "Rimmel Scandaleyes Eye Definer Brown"
            ],
            [
             "Rimmel Scandaleyes Eye Definer Brown"
            ],
            [
             "Rimmel Scandaleyes Eye Definer Brown"
            ],
            [
             "Woolworths Apple Juice"
            ],
            [
             "Woolworths Breakfast Juice"
            ],
            [
             "Woolworths Apple & Blackcurrant Juice"
            ],
            [
             "Woolworths Apple & Blackcurrant Juice"
            ],
            [
             "Woolworths Multivitamin Juice"
            ],
            [
             "Woolworths Multivitamin Juice"
            ],
            [
             "Woolworths Multivitamin Juice"
            ],
            [
             "Woolworths Multivitamin Juice"
            ],
            [
             "Golden Circle Drinks Sunshine Punch Fruit Drink"
            ],
            [
             "Norco Full Cream Milk"
            ],
            [
             "Pauls Farmhouse Gold Full Cream Milk"
            ],
            [
             "Fountain Barbecue Bbq Sauce Squeeze"
            ],
            [
             "Smith's Crinkle Cut Potato Chips Salt & Vinegar"
            ],
            [
             "Fountain Barbecue Bbq Sauce Squeeze"
            ],
            [
             "Thins Chips Light & Tangy"
            ],
            [
             "Thins Chips Light & Tangy"
            ],
            [
             "Thins Cheese & Onion Chips"
            ],
            [
             "Thins Cheese & Onion Chips"
            ],
            [
             "Woolworths Peach In Strawberry Jelly"
            ],
            [
             "Woolworths Peach In Strawberry Jelly"
            ],
            [
             "Woolworths Two Fruits In Juice"
            ],
            [
             "Woolworths Two Fruits In Juice"
            ],
            [
             "Woolworths Two Fruits In Juice"
            ],
            [
             "Woolworths Two Fruits In Juice"
            ],
            [
             "Woolworths Two Fruits In Tropical Jelly"
            ],
            [
             "Woolworths Two Fruits In Tropical Jelly"
            ],
            [
             "Woolworths Apple In Pineapple Jelly"
            ],
            [
             "Woolworths Apple In Pineapple Jelly"
            ],
            [
             "Dole Pineapple Slices In Syrup"
            ],
            [
             "Dole Pineapple Chunks In Juice"
            ],
            [
             "Thins Chips Light & Tangy"
            ],
            [
             "Rimmel Scandaleyes Eye Definer Brown"
            ],
            [
             "Woolworths Secret Burger Sauce"
            ],
            [
             "Thins Chips Chicken"
            ],
            [
             "Woolworths Secret Burger Sauce"
            ],
            [
             "Woolworths Secret Burger Sauce"
            ],
            [
             "Woolworths Secret Burger Sauce"
            ],
            [
             "Woolworths Secret Burger Sauce"
            ],
            [
             "Woolworths Secret Burger Sauce"
            ],
            [
             "Woolworths Secret Burger Sauce"
            ],
            [
             "Woolworths Secret Burger Sauce"
            ],
            [
             "Heinz Ketchup Tomato Sauce Ketchup"
            ],
            [
             "Woolworths Barbecue Sauce"
            ],
            [
             "Woolworths Barbecue Sauce"
            ],
            [
             "Smith's Crinkle Cut Potato Chips Barbecue"
            ],
            [
             "Smith's Crinkle Cut Potato Chips Barbecue"
            ],
            [
             "Smith's Crinkle Cut Potato Chips Chicken"
            ],
            [
             "Smith's Crinkle Cut Potato Chips Chicken"
            ],
            [
             "Thins Chips Chicken"
            ],
            [
             "Rimmel Scandaleyes Eye Definer Brown"
            ],
            [
             "Byron Bay Cookies Dotty Cookie Bites"
            ],
            [
             "Rimmel Scandaleyes Eye Definer Brown"
            ],
            [
             "Schweppes Lime Soda Water With Lime Juice Bottle"
            ],
            [
             "Schweppes Lemon Lime Natural Mineral Water Bottle"
            ],
            [
             "Schweppes Orange Mango Natural Mineral Water Bottle"
            ],
            [
             "Schweppes Orange Mango Natural Mineral Water Bottle"
            ],
            [
             "Schweppes Orange Mango Natural Mineral Water Bottle"
            ],
            [
             "Schweppes Orange Mango Natural Mineral Water Bottle"
            ],
            [
             "Kitkat 4 Finger Milk Chocolate Bar"
            ],
            [
             "Kitkat Chunky Original Chocolate Bar"
            ],
            [
             "Cadbury Dairy Milk Caramello Koala Chocolate"
            ],
            [
             "Cadbury Dairy Milk Caramello Koala Chocolate"
            ],
            [
             "Cadbury Dairy Milk Caramello Koala Chocolate"
            ],
            [
             "Twix Milk Chocolate Bar With Caramel Biscuit"
            ],
            [
             "Twix Milk Chocolate Bar With Caramel Biscuit"
            ],
            [
             "Twix Milk Chocolate Bar With Caramel Biscuit"
            ],
            [
             "Mars Chocolate Bar With Nougat & Caramel"
            ],
            [
             "Mars Chocolate Bar With Nougat & Caramel"
            ],
            [
             "Schweppes Lemon Lime Natural Mineral Water Bottle"
            ],
            [
             "Schweppes Lime Soda Water With Lime Juice Bottle"
            ],
            [
             "Cadbury Chomp Chocolate Bar"
            ],
            [
             "Schweppes Lime Soda Water With Lime Juice Bottle"
            ],
            [
             "Coca - Cola Caffeine Free Zero Sugar Soft Drink Multipack Cans"
            ],
            [
             "Maggi 2 Minute Chicken Flavour Instant Noodles"
            ],
            [
             "Maggi 2 Minute Chicken Flavour Instant Noodles"
            ],
            [
             "Fantastic Chicken Noodle Cup"
            ],
            [
             "Fantastic Chicken Noodle Cup"
            ],
            [
             "Fantastic Chicken Noodle Bowl"
            ],
            [
             "Fantastic Chicken Noodle Bowl"
            ],
            [
             "Fantastic Chicken Noodle Bowl"
            ],
            [
             "Maggi 2 Minute Beef Flavour Instant Noodles"
            ],
            [
             "Maggi 2 Minute Beef Flavour Instant Noodles"
            ],
            [
             "Maggi 2 Minute Beef Flavour Instant Noodles"
            ],
            [
             "Supreme Noodles Cup Beef Flavour"
            ],
            [
             "Supreme Noodles Cup Beef Flavour"
            ],
            [
             "Schweppes Natural Mineral Water Bottle Natural"
            ],
            [
             "Schweppes Soda Water Bottle Classic Mixers"
            ],
            [
             "Mars Chocolate Bar With Nougat & Caramel"
            ],
            [
             "Cadbury Chomp Chocolate Bar"
            ],
            [
             "Rimmel Scandaleyes Eye Definer Brown"
            ],
            [
             "Byron Bay Cookies Dotty Cookie Bites"
            ],
            [
             "Byron Bay Cookies Dotty Cookie Bites"
            ],
            [
             "Byron Bay Cookies Dotty Cookie Bites"
            ],
            [
             "Byron Bay Cookies Dotty Cookie Bites"
            ],
            [
             "Byron Bay Cookies Dotty Cookie Bites"
            ],
            [
             "Byron Bay Cookies Dotty Cookie Bites"
            ],
            [
             "Rimmel Scandaleyes Eye Definer Brown"
            ],
            [
             "Rimmel Scandaleyes Eye Definer Brown"
            ],
            [
             "Rimmel Scandaleyes Eye Definer Brown"
            ],
            [
             "Rimmel Scandaleyes Eye Definer Brown"
            ],
            [
             "Rimmel Scandaleyes Eye Definer Brown"
            ],
            [
             "Rimmel Scandaleyes Eye Definer Brown"
            ],
            [
             "Rimmel Scandaleyes Eye Definer Brown"
            ],
            [
             "Rimmel Scandaleyes Eye Definer Brown"
            ],
            [
             "Rimmel Scandaleyes Eye Definer Brown"
            ],
            [
             "Rimmel Scandaleyes Eye Definer Brown"
            ],
            [
             "Byron Bay Cookies Dotty Cookie Bites"
            ],
            [
             "Byron Bay Cookies Dotty Cookie Bites"
            ],
            [
             "Arnott's Premier Chocolate Chip Cookies"
            ],
            [
             "Byron Bay Cookies Dotty Cookie Bites"
            ],
            [
             "Arnott's Premier Chocolate Chip Cookies"
            ],
            [
             "Woolworths Chocolate Chip Cookies"
            ],
            [
             "Woolworths Chocolate Chip Cookies"
            ],
            [
             "Woolworths Chocolate Chip Cookies"
            ],
            [
             "Woolworths Chocolate Chip Cookies"
            ],
            [
             "Woolworths Chocolate Chip Cookies"
            ],
            [
             "Woolworths The King Of Chunky Chocolate Chip Cookies"
            ],
            [
             "Woolworths The King Of Chunky Chocolate Chip Cookies"
            ],
            [
             "Woolworths The King Of Chunky Chocolate Chip Cookies"
            ],
            [
             "Arnott's Mini Choc Chip Cookie Multipack Biscuits"
            ],
            [
             "Arnott's Mini Choc Chip Cookie Multipack Biscuits"
            ],
            [
             "Oreo Minis Cookies Variety Bags 18 Pack"
            ],
            [
             "Cadbury Classic Choc Chip Cookies"
            ],
            [
             "Cadbury Choc Centre Cookies"
            ],
            [
             "Cadbury Choc Centre Cookies"
            ],
            [
             "Dole Pineapple Chunks In Juice"
            ]
           ],
           [
            0.3188405797101449,
            0.24154589371980675,
            0.14009661835748793,
            0.13043478260869565,
            0.12077294685990338,
            0.10628019323671498,
            0.09178743961352658,
            0.08695652173913043,
            0.07729468599033816,
            0.07729468599033816,
            0.06763285024154589,
            0.06763285024154589,
            0.06280193236714976,
            0.057971014492753624,
            0.057971014492753624,
            0.057971014492753624,
            0.057971014492753624,
            0.057971014492753624,
            0.057971014492753624,
            0.057971014492753624,
            0.05314009661835749,
            0.05314009661835749,
            0.05314009661835749,
            0.04830917874396135,
            0.04830917874396135,
            0.04830917874396135,
            0.04830917874396135,
            0.04830917874396135,
            0.04830917874396135,
            0.04830917874396135,
            0.043478260869565216,
            0.043478260869565216,
            0.043478260869565216,
            0.043478260869565216,
            0.03864734299516908,
            0.03864734299516908,
            0.03864734299516908,
            0.03864734299516908,
            0.03864734299516908,
            0.03864734299516908,
            0.033816425120772944,
            0.033816425120772944,
            0.033816425120772944,
            0.033816425120772944,
            0.033816425120772944,
            0.033816425120772944,
            0.033816425120772944,
            0.028985507246376812,
            0.028985507246376812,
            0.028985507246376812,
            0.028985507246376812,
            0.028985507246376812,
            0.024154589371980676,
            0.024154589371980676,
            0.024154589371980676,
            0.024154589371980676,
            0.024154589371980676,
            0.024154589371980676,
            0.024154589371980676,
            0.024154589371980676,
            0.024154589371980676,
            0.024154589371980676,
            0.01932367149758454,
            0.01932367149758454,
            0.01932367149758454,
            0.01932367149758454,
            0.01932367149758454,
            0.01932367149758454,
            0.01932367149758454,
            0.01932367149758454,
            0.01932367149758454,
            0.01932367149758454,
            0.01932367149758454,
            0.01932367149758454,
            0.01932367149758454,
            0.01932367149758454,
            0.01932367149758454,
            0.01932367149758454,
            0.014492753623188406,
            0.014492753623188406,
            0.014492753623188406,
            0.014492753623188406,
            0.014492753623188406,
            0.014492753623188406,
            0.014492753623188406,
            0.014492753623188406,
            0.014492753623188406,
            0.014492753623188406,
            0.014492753623188406,
            0.014492753623188406,
            0.014492753623188406,
            0.014492753623188406,
            0.014492753623188406,
            0.014492753623188406,
            0.014492753623188406,
            0.014492753623188406,
            0.014492753623188406,
            0.014492753623188406,
            0.014492753623188406,
            0.014492753623188406,
            0.014492753623188406,
            0.014492753623188406,
            0.014492753623188406,
            0.014492753623188406,
            0.014492753623188406,
            0.014492753623188406,
            0.014492753623188406,
            0.014492753623188406,
            0.00966183574879227,
            0.00966183574879227,
            0.00966183574879227,
            0.00966183574879227,
            0.00966183574879227,
            0.00966183574879227,
            0.00966183574879227,
            0.00966183574879227,
            0.00966183574879227,
            0.00966183574879227,
            0.00966183574879227,
            0.00966183574879227,
            0.00966183574879227,
            0.00966183574879227,
            0.00966183574879227,
            0.00966183574879227,
            0.00966183574879227,
            0.00966183574879227,
            0.00966183574879227,
            0.00966183574879227,
            0.00966183574879227,
            0.00966183574879227,
            0.00966183574879227,
            0.00966183574879227,
            0.00966183574879227,
            0.00966183574879227,
            0.00966183574879227,
            0.00966183574879227,
            0.00966183574879227,
            0.00966183574879227,
            0.00966183574879227,
            0.00966183574879227,
            0.00966183574879227,
            0.00966183574879227,
            0.00966183574879227,
            0.00966183574879227,
            0.00966183574879227,
            0.00966183574879227,
            0.00966183574879227,
            0.00966183574879227,
            0.00966183574879227,
            0.00966183574879227,
            0.00966183574879227,
            0.00966183574879227,
            0.00966183574879227,
            0.00966183574879227,
            0.00966183574879227,
            0.00966183574879227,
            0.00966183574879227,
            0.00966183574879227,
            0.00966183574879227,
            0.00966183574879227,
            0.00966183574879227,
            0.00966183574879227,
            0.00966183574879227,
            0.00966183574879227,
            0.00966183574879227,
            0.00966183574879227,
            0.00966183574879227,
            0.00966183574879227,
            0.00966183574879227,
            0.00966183574879227,
            0.00966183574879227,
            0.00966183574879227,
            0.00966183574879227,
            0.00966183574879227,
            0.00966183574879227,
            0.00966183574879227,
            0.00966183574879227,
            0.00966183574879227,
            0.00966183574879227,
            0.00966183574879227,
            0.00966183574879227,
            0.00966183574879227,
            0.00966183574879227,
            0.00966183574879227,
            0.00966183574879227,
            0.00966183574879227,
            0.00966183574879227,
            0.00966183574879227,
            0.00966183574879227,
            0.004830917874396135,
            0.004830917874396135,
            0.004830917874396135,
            0.004830917874396135,
            0.004830917874396135,
            0.004830917874396135,
            0.004830917874396135,
            0.004830917874396135,
            0.004830917874396135,
            0.004830917874396135,
            0.004830917874396135,
            0.004830917874396135,
            0.004830917874396135,
            0.004830917874396135,
            0.004830917874396135,
            0.004830917874396135,
            0.004830917874396135,
            0.004830917874396135,
            0.004830917874396135,
            0.004830917874396135,
            0.004830917874396135,
            0.004830917874396135,
            0.004830917874396135,
            0.004830917874396135,
            0.004830917874396135,
            0.004830917874396135,
            0.004830917874396135,
            0.004830917874396135,
            0.004830917874396135,
            0.004830917874396135,
            0.004830917874396135,
            0.004830917874396135,
            0.004830917874396135,
            0.004830917874396135,
            0.004830917874396135,
            0.004830917874396135,
            0.004830917874396135,
            0.004830917874396135,
            0.004830917874396135,
            0.004830917874396135,
            0.004830917874396135,
            0.004830917874396135,
            0.004830917874396135,
            0.004830917874396135,
            0.004830917874396135,
            0.004830917874396135,
            0.004830917874396135,
            0.004830917874396135,
            0.004830917874396135,
            0.004830917874396135,
            0.004830917874396135,
            0.004830917874396135,
            0.004830917874396135,
            0.004830917874396135,
            0.004830917874396135,
            0.004830917874396135,
            0.004830917874396135,
            0.004830917874396135,
            0.004830917874396135,
            0.004830917874396135,
            0.004830917874396135,
            0.004830917874396135,
            0.004830917874396135,
            0.004830917874396135,
            0.004830917874396135,
            0.004830917874396135,
            0.004830917874396135,
            0.004830917874396135,
            0.004830917874396135,
            0.004830917874396135,
            0.004830917874396135,
            0.004830917874396135,
            0.004830917874396135,
            0.004830917874396135,
            0.004830917874396135,
            0.004830917874396135,
            0.004830917874396135,
            0.004830917874396135,
            0.004830917874396135,
            0.004830917874396135,
            0.004830917874396135,
            0.004830917874396135,
            0.004830917874396135,
            0.004830917874396135,
            0.004830917874396135,
            0.004830917874396135,
            0.004830917874396135,
            0.004830917874396135,
            0.004830917874396135,
            0.004830917874396135,
            0.004830917874396135,
            0.004830917874396135,
            0.004830917874396135,
            0.004830917874396135,
            0.004830917874396135,
            0.004830917874396135,
            0.004830917874396135,
            0.004830917874396135,
            0.004830917874396135,
            0.004830917874396135,
            0.004830917874396135,
            0.004830917874396135,
            0.004830917874396135,
            0.004830917874396135,
            0.004830917874396135,
            0.004830917874396135,
            0.004830917874396135,
            0.004830917874396135,
            0.004830917874396135,
            0.004830917874396135,
            0.004830917874396135,
            0.004830917874396135,
            0.004830917874396135,
            0.004830917874396135,
            0.004830917874396135,
            0.004830917874396135,
            0.004830917874396135,
            0.004830917874396135,
            0.004830917874396135,
            0.004830917874396135,
            0.004830917874396135,
            0.004830917874396135,
            0.004830917874396135,
            0.004830917874396135,
            0.004830917874396135,
            0.004830917874396135,
            0.004830917874396135,
            0.004830917874396135,
            0.004830917874396135,
            0.004830917874396135,
            0.004830917874396135,
            0.004830917874396135,
            0.004830917874396135,
            0.004830917874396135,
            0.004830917874396135,
            0.004830917874396135,
            0.004830917874396135,
            0.004830917874396135,
            0.004830917874396135,
            0.004830917874396135,
            0.004830917874396135,
            0.004830917874396135,
            0.004830917874396135,
            0.004830917874396135,
            0.004830917874396135,
            0.004830917874396135,
            0.004830917874396135,
            0.004830917874396135,
            0.004830917874396135,
            0.004830917874396135
           ],
           [
            "Group 1",
            "Group 2",
            "Group 3",
            "Group 4",
            "Group 5",
            "Group 6",
            "Group 7",
            "Group 8",
            "Group 9",
            "Group 9",
            "Group 10",
            "Group 10",
            "Group 11",
            "Group 12",
            "Group 12",
            "Group 12",
            "Group 12",
            "Group 12",
            "Group 12",
            "Group 12",
            "Group 13",
            "Group 13",
            "Group 13",
            "Group 14",
            "Group 14",
            "Group 14",
            "Group 14",
            "Group 14",
            "Group 14",
            "Group 14",
            "Group 15",
            "Group 15",
            "Group 15",
            "Group 15",
            "Group 16",
            "Group 16",
            "Group 16",
            "Group 16",
            "Group 16",
            "Group 16",
            "Group 17",
            "Group 17",
            "Group 17",
            "Group 17",
            "Group 17",
            "Group 17",
            "Group 17",
            "Group 18",
            "Group 18",
            "Group 18",
            "Group 18",
            "Group 18",
            "Group 19",
            "Group 19",
            "Group 19",
            "Group 19",
            "Group 19",
            "Group 19",
            "Group 19",
            "Group 19",
            "Group 19",
            "Group 19",
            "Group 20",
            "Group 20",
            "Group 20",
            "Group 20",
            "Group 20",
            "Group 20",
            "Group 20",
            "Group 20",
            "Group 20",
            "Group 20",
            "Group 20",
            "Group 20",
            "Group 20",
            "Group 20",
            "Group 20",
            "Group 20",
            "Group 21",
            "Group 21",
            "Group 21",
            "Group 21",
            "Group 21",
            "Group 21",
            "Group 21",
            "Group 21",
            "Group 21",
            "Group 21",
            "Group 21",
            "Group 21",
            "Group 21",
            "Group 21",
            "Group 21",
            "Group 21",
            "Group 21",
            "Group 21",
            "Group 21",
            "Group 21",
            "Group 21",
            "Group 21",
            "Group 21",
            "Group 21",
            "Group 21",
            "Group 21",
            "Group 21",
            "Group 21",
            "Group 21",
            "Group 21",
            "Group 22",
            "Group 22",
            "Group 22",
            "Group 22",
            "Group 22",
            "Group 22",
            "Group 22",
            "Group 22",
            "Group 22",
            "Group 22",
            "Group 22",
            "Group 22",
            "Group 22",
            "Group 22",
            "Group 22",
            "Group 22",
            "Group 22",
            "Group 22",
            "Group 22",
            "Group 22",
            "Group 22",
            "Group 22",
            "Group 22",
            "Group 22",
            "Group 22",
            "Group 22",
            "Group 22",
            "Group 22",
            "Group 22",
            "Group 22",
            "Group 22",
            "Group 22",
            "Group 22",
            "Group 22",
            "Group 22",
            "Group 22",
            "Group 22",
            "Group 22",
            "Group 22",
            "Group 22",
            "Group 22",
            "Group 22",
            "Group 22",
            "Group 22",
            "Group 22",
            "Group 22",
            "Group 22",
            "Group 22",
            "Group 22",
            "Group 22",
            "Group 22",
            "Group 22",
            "Group 22",
            "Group 22",
            "Group 22",
            "Group 22",
            "Group 22",
            "Group 22",
            "Group 22",
            "Group 22",
            "Group 22",
            "Group 22",
            "Group 22",
            "Group 22",
            "Group 22",
            "Group 22",
            "Group 22",
            "Group 22",
            "Group 22",
            "Group 22",
            "Group 22",
            "Group 22",
            "Group 22",
            "Group 22",
            "Group 22",
            "Group 22",
            "Group 22",
            "Group 22",
            "Group 22",
            "Group 22",
            "Group 22",
            "Group 23",
            "Group 23",
            "Group 23",
            "Group 23",
            "Group 23",
            "Group 23",
            "Group 23",
            "Group 23",
            "Group 23",
            "Group 23",
            "Group 23",
            "Group 23",
            "Group 23",
            "Group 23",
            "Group 23",
            "Group 23",
            "Group 23",
            "Group 23",
            "Group 23",
            "Group 23",
            "Group 23",
            "Group 23",
            "Group 23",
            "Group 23",
            "Group 23",
            "Group 23",
            "Group 23",
            "Group 23",
            "Group 23",
            "Group 23",
            "Group 23",
            "Group 23",
            "Group 23",
            "Group 23",
            "Group 23",
            "Group 23",
            "Group 23",
            "Group 23",
            "Group 23",
            "Group 23",
            "Group 23",
            "Group 23",
            "Group 23",
            "Group 23",
            "Group 23",
            "Group 23",
            "Group 23",
            "Group 23",
            "Group 23",
            "Group 23",
            "Group 23",
            "Group 23",
            "Group 23",
            "Group 23",
            "Group 23",
            "Group 23",
            "Group 23",
            "Group 23",
            "Group 23",
            "Group 23",
            "Group 23",
            "Group 23",
            "Group 23",
            "Group 23",
            "Group 23",
            "Group 23",
            "Group 23",
            "Group 23",
            "Group 23",
            "Group 23",
            "Group 23",
            "Group 23",
            "Group 23",
            "Group 23",
            "Group 23",
            "Group 23",
            "Group 23",
            "Group 23",
            "Group 23",
            "Group 23",
            "Group 23",
            "Group 23",
            "Group 23",
            "Group 23",
            "Group 23",
            "Group 23",
            "Group 23",
            "Group 23",
            "Group 23",
            "Group 23",
            "Group 23",
            "Group 23",
            "Group 23",
            "Group 23",
            "Group 23",
            "Group 23",
            "Group 23",
            "Group 23",
            "Group 23",
            "Group 23",
            "Group 23",
            "Group 23",
            "Group 23",
            "Group 23",
            "Group 23",
            "Group 23",
            "Group 23",
            "Group 23",
            "Group 23",
            "Group 23",
            "Group 23",
            "Group 23",
            "Group 23",
            "Group 23",
            "Group 23",
            "Group 23",
            "Group 23",
            "Group 23",
            "Group 23",
            "Group 23",
            "Group 23",
            "Group 23",
            "Group 23",
            "Group 23",
            "Group 23",
            "Group 23",
            "Group 23",
            "Group 23",
            "Group 23",
            "Group 23",
            "Group 23",
            "Group 23",
            "Group 23",
            "Group 23",
            "Group 23",
            "Group 23",
            "Group 23",
            "Group 23",
            "Group 23",
            "Group 23",
            "Group 23",
            "Group 23",
            "Group 23",
            "Group 23",
            "Group 23",
            "Group 23",
            "Group 23",
            "Group 23",
            "Group 23",
            "Group 23"
           ]
          ]
         },
         "header": {
          "values": [
           "HighFrequencyIngredientResearch",
           "Product Count",
           "Products",
           "Frequency Ratio",
           "Group"
          ]
         },
         "type": "table"
        }
       ],
       "layout": {
        "template": {
         "data": {
          "bar": [
           {
            "error_x": {
             "color": "#2a3f5f"
            },
            "error_y": {
             "color": "#2a3f5f"
            },
            "marker": {
             "line": {
              "color": "#E5ECF6",
              "width": 0.5
             },
             "pattern": {
              "fillmode": "overlay",
              "size": 10,
              "solidity": 0.2
             }
            },
            "type": "bar"
           }
          ],
          "barpolar": [
           {
            "marker": {
             "line": {
              "color": "#E5ECF6",
              "width": 0.5
             },
             "pattern": {
              "fillmode": "overlay",
              "size": 10,
              "solidity": 0.2
             }
            },
            "type": "barpolar"
           }
          ],
          "carpet": [
           {
            "aaxis": {
             "endlinecolor": "#2a3f5f",
             "gridcolor": "white",
             "linecolor": "white",
             "minorgridcolor": "white",
             "startlinecolor": "#2a3f5f"
            },
            "baxis": {
             "endlinecolor": "#2a3f5f",
             "gridcolor": "white",
             "linecolor": "white",
             "minorgridcolor": "white",
             "startlinecolor": "#2a3f5f"
            },
            "type": "carpet"
           }
          ],
          "choropleth": [
           {
            "colorbar": {
             "outlinewidth": 0,
             "ticks": ""
            },
            "type": "choropleth"
           }
          ],
          "contour": [
           {
            "colorbar": {
             "outlinewidth": 0,
             "ticks": ""
            },
            "colorscale": [
             [
              0,
              "#0d0887"
             ],
             [
              0.1111111111111111,
              "#46039f"
             ],
             [
              0.2222222222222222,
              "#7201a8"
             ],
             [
              0.3333333333333333,
              "#9c179e"
             ],
             [
              0.4444444444444444,
              "#bd3786"
             ],
             [
              0.5555555555555556,
              "#d8576b"
             ],
             [
              0.6666666666666666,
              "#ed7953"
             ],
             [
              0.7777777777777778,
              "#fb9f3a"
             ],
             [
              0.8888888888888888,
              "#fdca26"
             ],
             [
              1,
              "#f0f921"
             ]
            ],
            "type": "contour"
           }
          ],
          "contourcarpet": [
           {
            "colorbar": {
             "outlinewidth": 0,
             "ticks": ""
            },
            "type": "contourcarpet"
           }
          ],
          "heatmap": [
           {
            "colorbar": {
             "outlinewidth": 0,
             "ticks": ""
            },
            "colorscale": [
             [
              0,
              "#0d0887"
             ],
             [
              0.1111111111111111,
              "#46039f"
             ],
             [
              0.2222222222222222,
              "#7201a8"
             ],
             [
              0.3333333333333333,
              "#9c179e"
             ],
             [
              0.4444444444444444,
              "#bd3786"
             ],
             [
              0.5555555555555556,
              "#d8576b"
             ],
             [
              0.6666666666666666,
              "#ed7953"
             ],
             [
              0.7777777777777778,
              "#fb9f3a"
             ],
             [
              0.8888888888888888,
              "#fdca26"
             ],
             [
              1,
              "#f0f921"
             ]
            ],
            "type": "heatmap"
           }
          ],
          "heatmapgl": [
           {
            "colorbar": {
             "outlinewidth": 0,
             "ticks": ""
            },
            "colorscale": [
             [
              0,
              "#0d0887"
             ],
             [
              0.1111111111111111,
              "#46039f"
             ],
             [
              0.2222222222222222,
              "#7201a8"
             ],
             [
              0.3333333333333333,
              "#9c179e"
             ],
             [
              0.4444444444444444,
              "#bd3786"
             ],
             [
              0.5555555555555556,
              "#d8576b"
             ],
             [
              0.6666666666666666,
              "#ed7953"
             ],
             [
              0.7777777777777778,
              "#fb9f3a"
             ],
             [
              0.8888888888888888,
              "#fdca26"
             ],
             [
              1,
              "#f0f921"
             ]
            ],
            "type": "heatmapgl"
           }
          ],
          "histogram": [
           {
            "marker": {
             "pattern": {
              "fillmode": "overlay",
              "size": 10,
              "solidity": 0.2
             }
            },
            "type": "histogram"
           }
          ],
          "histogram2d": [
           {
            "colorbar": {
             "outlinewidth": 0,
             "ticks": ""
            },
            "colorscale": [
             [
              0,
              "#0d0887"
             ],
             [
              0.1111111111111111,
              "#46039f"
             ],
             [
              0.2222222222222222,
              "#7201a8"
             ],
             [
              0.3333333333333333,
              "#9c179e"
             ],
             [
              0.4444444444444444,
              "#bd3786"
             ],
             [
              0.5555555555555556,
              "#d8576b"
             ],
             [
              0.6666666666666666,
              "#ed7953"
             ],
             [
              0.7777777777777778,
              "#fb9f3a"
             ],
             [
              0.8888888888888888,
              "#fdca26"
             ],
             [
              1,
              "#f0f921"
             ]
            ],
            "type": "histogram2d"
           }
          ],
          "histogram2dcontour": [
           {
            "colorbar": {
             "outlinewidth": 0,
             "ticks": ""
            },
            "colorscale": [
             [
              0,
              "#0d0887"
             ],
             [
              0.1111111111111111,
              "#46039f"
             ],
             [
              0.2222222222222222,
              "#7201a8"
             ],
             [
              0.3333333333333333,
              "#9c179e"
             ],
             [
              0.4444444444444444,
              "#bd3786"
             ],
             [
              0.5555555555555556,
              "#d8576b"
             ],
             [
              0.6666666666666666,
              "#ed7953"
             ],
             [
              0.7777777777777778,
              "#fb9f3a"
             ],
             [
              0.8888888888888888,
              "#fdca26"
             ],
             [
              1,
              "#f0f921"
             ]
            ],
            "type": "histogram2dcontour"
           }
          ],
          "mesh3d": [
           {
            "colorbar": {
             "outlinewidth": 0,
             "ticks": ""
            },
            "type": "mesh3d"
           }
          ],
          "parcoords": [
           {
            "line": {
             "colorbar": {
              "outlinewidth": 0,
              "ticks": ""
             }
            },
            "type": "parcoords"
           }
          ],
          "pie": [
           {
            "automargin": true,
            "type": "pie"
           }
          ],
          "scatter": [
           {
            "fillpattern": {
             "fillmode": "overlay",
             "size": 10,
             "solidity": 0.2
            },
            "type": "scatter"
           }
          ],
          "scatter3d": [
           {
            "line": {
             "colorbar": {
              "outlinewidth": 0,
              "ticks": ""
             }
            },
            "marker": {
             "colorbar": {
              "outlinewidth": 0,
              "ticks": ""
             }
            },
            "type": "scatter3d"
           }
          ],
          "scattercarpet": [
           {
            "marker": {
             "colorbar": {
              "outlinewidth": 0,
              "ticks": ""
             }
            },
            "type": "scattercarpet"
           }
          ],
          "scattergeo": [
           {
            "marker": {
             "colorbar": {
              "outlinewidth": 0,
              "ticks": ""
             }
            },
            "type": "scattergeo"
           }
          ],
          "scattergl": [
           {
            "marker": {
             "colorbar": {
              "outlinewidth": 0,
              "ticks": ""
             }
            },
            "type": "scattergl"
           }
          ],
          "scattermapbox": [
           {
            "marker": {
             "colorbar": {
              "outlinewidth": 0,
              "ticks": ""
             }
            },
            "type": "scattermapbox"
           }
          ],
          "scatterpolar": [
           {
            "marker": {
             "colorbar": {
              "outlinewidth": 0,
              "ticks": ""
             }
            },
            "type": "scatterpolar"
           }
          ],
          "scatterpolargl": [
           {
            "marker": {
             "colorbar": {
              "outlinewidth": 0,
              "ticks": ""
             }
            },
            "type": "scatterpolargl"
           }
          ],
          "scatterternary": [
           {
            "marker": {
             "colorbar": {
              "outlinewidth": 0,
              "ticks": ""
             }
            },
            "type": "scatterternary"
           }
          ],
          "surface": [
           {
            "colorbar": {
             "outlinewidth": 0,
             "ticks": ""
            },
            "colorscale": [
             [
              0,
              "#0d0887"
             ],
             [
              0.1111111111111111,
              "#46039f"
             ],
             [
              0.2222222222222222,
              "#7201a8"
             ],
             [
              0.3333333333333333,
              "#9c179e"
             ],
             [
              0.4444444444444444,
              "#bd3786"
             ],
             [
              0.5555555555555556,
              "#d8576b"
             ],
             [
              0.6666666666666666,
              "#ed7953"
             ],
             [
              0.7777777777777778,
              "#fb9f3a"
             ],
             [
              0.8888888888888888,
              "#fdca26"
             ],
             [
              1,
              "#f0f921"
             ]
            ],
            "type": "surface"
           }
          ],
          "table": [
           {
            "cells": {
             "fill": {
              "color": "#EBF0F8"
             },
             "line": {
              "color": "white"
             }
            },
            "header": {
             "fill": {
              "color": "#C8D4E3"
             },
             "line": {
              "color": "white"
             }
            },
            "type": "table"
           }
          ]
         },
         "layout": {
          "annotationdefaults": {
           "arrowcolor": "#2a3f5f",
           "arrowhead": 0,
           "arrowwidth": 1
          },
          "autotypenumbers": "strict",
          "coloraxis": {
           "colorbar": {
            "outlinewidth": 0,
            "ticks": ""
           }
          },
          "colorscale": {
           "diverging": [
            [
             0,
             "#8e0152"
            ],
            [
             0.1,
             "#c51b7d"
            ],
            [
             0.2,
             "#de77ae"
            ],
            [
             0.3,
             "#f1b6da"
            ],
            [
             0.4,
             "#fde0ef"
            ],
            [
             0.5,
             "#f7f7f7"
            ],
            [
             0.6,
             "#e6f5d0"
            ],
            [
             0.7,
             "#b8e186"
            ],
            [
             0.8,
             "#7fbc41"
            ],
            [
             0.9,
             "#4d9221"
            ],
            [
             1,
             "#276419"
            ]
           ],
           "sequential": [
            [
             0,
             "#0d0887"
            ],
            [
             0.1111111111111111,
             "#46039f"
            ],
            [
             0.2222222222222222,
             "#7201a8"
            ],
            [
             0.3333333333333333,
             "#9c179e"
            ],
            [
             0.4444444444444444,
             "#bd3786"
            ],
            [
             0.5555555555555556,
             "#d8576b"
            ],
            [
             0.6666666666666666,
             "#ed7953"
            ],
            [
             0.7777777777777778,
             "#fb9f3a"
            ],
            [
             0.8888888888888888,
             "#fdca26"
            ],
            [
             1,
             "#f0f921"
            ]
           ],
           "sequentialminus": [
            [
             0,
             "#0d0887"
            ],
            [
             0.1111111111111111,
             "#46039f"
            ],
            [
             0.2222222222222222,
             "#7201a8"
            ],
            [
             0.3333333333333333,
             "#9c179e"
            ],
            [
             0.4444444444444444,
             "#bd3786"
            ],
            [
             0.5555555555555556,
             "#d8576b"
            ],
            [
             0.6666666666666666,
             "#ed7953"
            ],
            [
             0.7777777777777778,
             "#fb9f3a"
            ],
            [
             0.8888888888888888,
             "#fdca26"
            ],
            [
             1,
             "#f0f921"
            ]
           ]
          },
          "colorway": [
           "#636efa",
           "#EF553B",
           "#00cc96",
           "#ab63fa",
           "#FFA15A",
           "#19d3f3",
           "#FF6692",
           "#B6E880",
           "#FF97FF",
           "#FECB52"
          ],
          "font": {
           "color": "#2a3f5f"
          },
          "geo": {
           "bgcolor": "white",
           "lakecolor": "white",
           "landcolor": "#E5ECF6",
           "showlakes": true,
           "showland": true,
           "subunitcolor": "white"
          },
          "hoverlabel": {
           "align": "left"
          },
          "hovermode": "closest",
          "mapbox": {
           "style": "light"
          },
          "paper_bgcolor": "white",
          "plot_bgcolor": "#E5ECF6",
          "polar": {
           "angularaxis": {
            "gridcolor": "white",
            "linecolor": "white",
            "ticks": ""
           },
           "bgcolor": "#E5ECF6",
           "radialaxis": {
            "gridcolor": "white",
            "linecolor": "white",
            "ticks": ""
           }
          },
          "scene": {
           "xaxis": {
            "backgroundcolor": "#E5ECF6",
            "gridcolor": "white",
            "gridwidth": 2,
            "linecolor": "white",
            "showbackground": true,
            "ticks": "",
            "zerolinecolor": "white"
           },
           "yaxis": {
            "backgroundcolor": "#E5ECF6",
            "gridcolor": "white",
            "gridwidth": 2,
            "linecolor": "white",
            "showbackground": true,
            "ticks": "",
            "zerolinecolor": "white"
           },
           "zaxis": {
            "backgroundcolor": "#E5ECF6",
            "gridcolor": "white",
            "gridwidth": 2,
            "linecolor": "white",
            "showbackground": true,
            "ticks": "",
            "zerolinecolor": "white"
           }
          },
          "shapedefaults": {
           "line": {
            "color": "#2a3f5f"
           }
          },
          "ternary": {
           "aaxis": {
            "gridcolor": "white",
            "linecolor": "white",
            "ticks": ""
           },
           "baxis": {
            "gridcolor": "white",
            "linecolor": "white",
            "ticks": ""
           },
           "bgcolor": "#E5ECF6",
           "caxis": {
            "gridcolor": "white",
            "linecolor": "white",
            "ticks": ""
           }
          },
          "title": {
           "x": 0.05
          },
          "xaxis": {
           "automargin": true,
           "gridcolor": "white",
           "linecolor": "white",
           "ticks": "",
           "title": {
            "standoff": 15
           },
           "zerolinecolor": "white",
           "zerolinewidth": 2
          },
          "yaxis": {
           "automargin": true,
           "gridcolor": "white",
           "linecolor": "white",
           "ticks": "",
           "title": {
            "standoff": 15
           },
           "zerolinecolor": "white",
           "zerolinewidth": 2
          }
         }
        },
        "title": {
         "text": "High Frequency Ingredient Research and Associated Products (Sorted by Frequency Ratio)"
        }
       }
      }
     },
     "metadata": {},
     "output_type": "display_data"
    }
   ],
   "source": [
    "from neo4j import GraphDatabase\n",
    "import pandas as pd\n",
    "import plotly.graph_objects as go\n",
    "\n",
    "\n",
    "query = \"\"\"\n",
    "MATCH (p:Product)-[:HAS_RECIPE]->(r:Recipe)-[:USES_INGREDIENT]->(i:Ingredient)-[:HAS_RESEARCH]->(res:IngredientResearch)\n",
    "WITH res, COUNT(DISTINCT p) AS productCount, COLLECT(DISTINCT p.name) AS products, COUNT(DISTINCT i) AS ingredientCount\n",
    "\n",
    "MATCH (allProducts:Product)\n",
    "WITH res, productCount, products, ingredientCount, COUNT(allProducts) AS totalProductCount\n",
    "WITH res, productCount, products, ingredientCount, totalProductCount, toFloat(productCount) / toFloat(totalProductCount) AS frequencyRatio\n",
    "RETURN res.ingredient_name AS HighFrequencyIngredientResearch, productCount, products, frequencyRatio\n",
    "ORDER BY frequencyRatio DESC\n",
    "\"\"\"\n",
    "\n",
    "with driver.session() as session:\n",
    "    result = session.run(query)\n",
    "    data = [record.data() for record in result]\n",
    "\n",
    "df = pd.DataFrame(data)\n",
    "\n",
    "\n",
    "df.sort_values(by='frequencyRatio', ascending=False, inplace=True)\n",
    "\n",
    "\n",
    "df['group'] = 'Group ' + (df['frequencyRatio'].rank(ascending=False, method='dense').astype(int)).astype(str)\n",
    "\n",
    "\n",
    "fig_data = go.Table(\n",
    "    header=dict(values=['HighFrequencyIngredientResearch', 'Product Count', 'Products', 'Frequency Ratio', 'Group']),\n",
    "    cells=dict(values=[df['HighFrequencyIngredientResearch'], df['productCount'], df['products'], df['frequencyRatio'], df['group']])\n",
    ")\n",
    "\n",
    "\n",
    "fig_layout = go.Layout(\n",
    "    title='High Frequency Ingredient Research and Associated Products (Sorted by Frequency Ratio)',\n",
    ")\n",
    "\n",
    "\n",
    "fig = go.Figure(data=fig_data, layout=fig_layout)\n",
    "fig.show()\n"
   ]
  },
  {
   "cell_type": "code",
   "execution_count": null,
   "metadata": {},
   "outputs": [],
   "source": [
    "from neo4j import GraphDatabase\n",
    "import pandas as pd\n",
    "import plotly.graph_objects as go\n",
    "\n",
    "\n",
    "query = \"\"\"\n",
    "MATCH (p:Product)-[:HAS_RECIPE]->(r:Recipe)-[:USES_INGREDIENT]->(i:Ingredient)-[:HAS_RESEARCH]->(res:IngredientResearch)\n",
    "WITH res, COUNT(DISTINCT p) AS productCount, COLLECT(DISTINCT p.name) AS products, COUNT(DISTINCT i) AS ingredientCount\n",
    "\n",
    "MATCH (allProducts:Product)\n",
    "WITH res, productCount, products, ingredientCount, COUNT(allProducts) AS totalProductCount\n",
    "WITH res, productCount, products, ingredientCount, totalProductCount, toFloat(productCount) / toFloat(totalProductCount) AS frequencyRatio\n",
    "RETURN res.ingredient_name AS HighFrequencyIngredientResearch, productCount, products, frequencyRatio\n",
    "ORDER BY frequencyRatio DESC\n",
    "\"\"\"\n",
    "\n",
    "with driver.session() as session:\n",
    "    result = session.run(query)\n",
    "    data = [record.data() for record in result]\n",
    "\n",
    "df = pd.DataFrame(data)\n",
    "\n",
    "\n",
    "fig_data = go.Table(\n",
    "    header=dict(values=['HighFrequencyIngredientResearch', 'Product Count', 'Products', 'Frequency Ratio']),\n",
    "    cells=dict(values=[df['HighFrequencyIngredientResearch'], df['productCount'], df['products'], df['frequencyRatio']])\n",
    ")\n",
    "\n",
    "\n",
    "fig_layout = go.Layout(\n",
    "    title='High Frequency Ingredient Research and Associated Products',\n",
    ")\n",
    "\n",
    "\n",
    "fig = go.Figure(data=fig_data, layout=fig_layout)\n",
    "fig.show()\n"
   ]
  },
  {
   "cell_type": "code",
   "execution_count": 9,
   "metadata": {},
   "outputs": [
    {
     "data": {
      "application/vnd.plotly.v1+json": {
       "config": {
        "plotlyServerURL": "https://plot.ly"
       },
       "data": [
        {
         "cells": {
          "values": [
           [
            "Sugar",
            "Salt",
            "Vegetable Oil",
            "Wheat Flour",
            "Flavour",
            "Emulsifier Soy Lecithin",
            "Citric Acid",
            "Water",
            "Flavour Enhancer 621",
            "Citric Acid",
            "Carbonated Water",
            "TBHQ",
            "Natural Flavour",
            "Cocoa Butter",
            "Ascorbic Acid",
            "Cocoa Mass",
            "Sodium Bicarbonate",
            "Milk Solids",
            "Natural Flavours",
            "Onion Powder",
            "Colouring Agent 150d",
            "Flavour Enhancer 635",
            "Cocoa Powder",
            "Flavours",
            "Potatoes",
            "Vitamin C",
            "Ammonium Bicarbonate",
            "Vegetable Fat",
            "Yeast Extract",
            "Phosphoric Acid",
            "Caffeine",
            "Potassium Chloride",
            "Cornstarch",
            "Folate",
            "Zinc",
            "Thiamin",
            "Riboflavin",
            "Milk",
            "Mineral Iron",
            "Polyglycerol Polyricinoleate",
            "Wheat",
            "Maltodextrin",
            "Reconstituted Fruit Juice Orange",
            "Full Cream Milk",
            "Fructose Syrup",
            "Reconstituted Apple Juice",
            "Canola Oil",
            "Onion",
            "Sunflower Oil",
            "Sodium Citrate",
            "Acesulfame Potassium",
            "Aspartame",
            "Fruit Peach",
            "Milk Whey Powder",
            "Tomatoes",
            "Reconstituted Fruit Juice Passionfruit",
            "Reconstituted Fruit Juice Pineapple",
            "Sodium Metabisulfite",
            "Citric Acid",
            "Soy",
            "Antioxidant 320",
            "Spices",
            "Dextrose",
            "Pear",
            "Antioxidant Rosemary Extract",
            "Antioxidant Tocopherols",
            "Acetic Acid",
            "Thickener Modified Corn Starch",
            "Reconstituted Fruit Juice Pear",
            "Natural Spring Water",
            "Reconstituted Mango Juice",
            "Mineral Salt 500",
            "Mineral Salt 501",
            "Parsley",
            "Guar Gum",
            "Herbs",
            "Pepper",
            "Garlic Powder",
            "Carrageenan",
            "Spice Extract",
            "Molasses",
            "Acetic Acid",
            "Citric Acid",
            "Sodium Diacetate",
            "Sodium Citrate",
            "Locust Bean Gum",
            "Xanthan Gum",
            "Raising Agent 450",
            "Potassium Citrate",
            "Calcium Lactate",
            "Malic Acid",
            "Potassium Citrate",
            "Carotene",
            "Milk Butter",
            "Flavours Soy",
            "Natural Vanilla Flavour",
            "Disodium Guanylate",
            "Anti Caking Agent 551",
            "Mineral Salt 508",
            "Mineral Salt 451",
            "Flavours Wheat",
            "Disodium Inosinate",
            "Turmeric",
            "Curcumin",
            "Antioxidant 307b",
            "Sodium Benzoate",
            "Yeast",
            "Glucose Syrup",
            "Antioxidant E307B",
            "Soybean Fibre",
            "Egg",
            "Emulsifier 442",
            "Milk Chocolate Chips",
            "Carmine",
            "Ammonium Carbonate",
            "Sodium Carbonate",
            "Palm Oil",
            "Sodium Bicarbonate",
            "Baking Powder",
            "Wheat Starch",
            "Desiccated Coconut",
            "Sorbitan Tristearate",
            "Wheat Glucose Syrup",
            "Sweetened Condensed Milk",
            "Reconstituted Lemon Juice",
            "Cocoa",
            "Thickener 1422",
            "Refined Fruit Juice",
            "Pectin",
            "Reconstituted Fruit Juice Peach Purée",
            "",
            "Pineapple",
            "Diced Peaches",
            "Diced Pears",
            "Reconstituted Refined Juice Concentrated Pear Juice",
            "Flavoured Milk",
            "Cheese Powder",
            "Australian Spring Water",
            "Paprika Oleoresins",
            "Acetic Acid",
            "Xanthan Gum",
            "Smoke Flavour",
            "Caramel I",
            "Tomato Paste",
            "Reconstituted Tomato Puree",
            "Coconut Extract",
            "Tomato Juice",
            "Potassium Sorbate",
            "Colouring Agent 160a",
            "Carbonated Mineral Water",
            "Fried Onion",
            "Citric Acid",
            "Acetic Acid",
            "Tapioca Starch",
            "Chilli",
            "Chilli Sauce",
            "Sesame Oil",
            "Soy Bean",
            "Sweet Soy Sauce",
            "Seasoning Oil",
            "Artificial Flavour",
            "Seasoning Powder",
            "Colour 101",
            "Guar Gum",
            "Sodium Bicarbonate",
            "Acidity Regulator 501",
            "Refined Palm Oil",
            "Reconstituted Lime Juice",
            "Preservative 1211",
            "Acidity Regulator 451",
            "Iodised Salt",
            "Dehydrated Vegetables",
            "Coriander",
            "Sulphites",
            "Natural Flavour Lemon Peel Extract",
            "Natural Flavour Botanical Extracts",
            "Natural Flavour Citrus Oils",
            "Natural Flavour Orange Peel Extract",
            "Carbonated Mineral Water",
            "Basil",
            "Quinine",
            "Gluten Wheat",
            "Cumin",
            "Potato Starch",
            "Flavour Celery",
            "Spice Ginger",
            "Spice Chilli Powder",
            "Spice Cardamom",
            "Burnt Sugar",
            "Guar Gum",
            "Homogenised Full Cream Milk",
            "Sardines",
            "Rice",
            "Skim Milk",
            "Acidity Regulator 339",
            "Guar Gum",
            "Caramel Color 150c",
            "Reconstituted Fruit Puree",
            "Apple Pulp",
            "Wheat Cornflour",
            "Pectin",
            "Tamarind Paste",
            "Clove",
            "Nutmeg",
            "Tomato Puree",
            "Durum Wheat Semolina",
            "Reconstituted Fruit Juice Apricot",
            "Syrup",
            "Fructose",
            "Maize Maltodextrin",
            "Ferric Ferrocyanide",
            "",
            "Carmine",
            "Reconstituted Apple Juice",
            "Carboxymethyl Cellulose",
            "Reconstituted Fruit Juice Blackcurrant",
            "Anthocyanins",
            "Reconstituted Fruit Juice Grape",
            "Reconstituted Fruit Juice Peach",
            "Guava Puree",
            "Vitamin A",
            "Reconstituted Fruit Juice Water Extracted Orange",
            "Pasteurised Homogenised Milk",
            "Cream",
            "Maize Thickener 1422",
            "Milk Lactose",
            "Xanthan Gum",
            "Vegetable Powder Tomato",
            "Buttermilk Powder",
            "Lactic Acid",
            "Paprika Extract",
            "Natural Strawberry Flavour",
            "Cochineal",
            "Refined Fruit Juice Apple",
            "Refined Fruit Juice Grape",
            "Refined Fruit Juice Peach",
            "Refined Fruit Juice Pear",
            "Natural Flavour Pineapple",
            "Natural Flavour Mango",
            "Jelly Natural Pineapple Flavour",
            "Apple",
            "Citric Acid",
            "Pineapple Juice",
            "Garam Masala",
            "Iron Oxides",
            "Vinegar",
            "Vegetable Powder Garlic",
            "Xanthan Gum",
            "Free Range Egg Yolk",
            "Gherkin",
            "Potassium Sorbate",
            "Dill",
            "Herb Extract",
            "Mustard Oil",
            "White Vinegar",
            "Reconstituted Fruit Puree Apple",
            "Reconstituted Fruit Puree Tomato Paste",
            "Tomato Powder",
            "Paprika",
            "Flavour Enhancer 620",
            "Turmeric",
            "Glucose",
            "Titanium Dioxide",
            "Carnauba Wax",
            "Ultramarines",
            "Plant Extract Carthamus",
            "Safflower Extract",
            "Ascorbic Acid",
            "Carminic Acid",
            "Lutein",
            "Antioxidant 385",
            "Processing Aid Wheat",
            "Choc Paste",
            "Golden Syrup",
            "Invert Sugar",
            "Acidity Regulator 331",
            "Milk Chocolate",
            "Caramel",
            "Biscuit",
            "Barley Malt Extract",
            "Egg White",
            "Sodium Citrate",
            "Plant Extract Gardenia",
            "Emulsifier 471",
            "Natural Flavour Lime Oils",
            "Sweetener 952",
            "Parsley Flakes",
            "Caramel III",
            "Flavour Sachet",
            "Vegetable Sachet",
            "Modified Starch 1420",
            "Mineral Salt 450",
            "Colouring Agent 100",
            "Soy Sauce Powder",
            "White Pepper",
            "Rosemary",
            "Colouring Agent 150c",
            "Caramel Color",
            "Natural Mineral Water",
            "Potassium Bicarbonate",
            "Natural Flavour Vanilla Extract",
            "Enzymes",
            "Mica",
            "Colouring Agent Titan White",
            "Beta carotene",
            "Red Beetroot Powder",
            "Black Carrot Extract",
            "Cultured Dextrose",
            "Maize Starch",
            "",
            "Polyethylene",
            "Synthetic Wax",
            "",
            "Bis-Diglyceryl Polyacyladipate-2",
            "",
            "Polybutene",
            "Silica",
            "Octyldodecanol",
            "Pentaerythrityl Tetra-di-t-butyl Hydroxyhydrocinnamate",
            "Colouring Agent Spirulina Extract",
            "Glazing Agent 414",
            "Polyglycerol polyricinoleate",
            "Milk Compound Chocolate",
            "Colouring Agent Caramel IV",
            "Dark Compound Chocolate Chips",
            "Cocoa Solids",
            "Wheaten Corn Flour",
            "Whole Egg Powder",
            "Annatto Extracts",
            "Dark Chocolate Chips",
            "Natural Flavour Vanilla",
            "Natural Flavour Butter",
            "Chocolate Chips",
            "Skim Milk Powder",
            "Strawberry",
            "Stabiliser 422",
            "Citric Acid",
            "Thickener 1414",
            "Clarified Pineapple Juice Concentrate"
           ],
           [
            66,
            50,
            29,
            27,
            25,
            22,
            19,
            18,
            16,
            16,
            14,
            14,
            13,
            12,
            12,
            12,
            12,
            12,
            12,
            12,
            11,
            11,
            11,
            10,
            10,
            10,
            10,
            10,
            10,
            10,
            9,
            9,
            9,
            9,
            8,
            8,
            8,
            8,
            8,
            8,
            7,
            7,
            7,
            7,
            7,
            7,
            7,
            6,
            6,
            6,
            6,
            6,
            5,
            5,
            5,
            5,
            5,
            5,
            5,
            5,
            5,
            5,
            4,
            4,
            4,
            4,
            4,
            4,
            4,
            4,
            4,
            4,
            4,
            4,
            4,
            4,
            4,
            4,
            3,
            3,
            3,
            3,
            3,
            3,
            3,
            3,
            3,
            3,
            3,
            3,
            3,
            3,
            3,
            3,
            3,
            3,
            3,
            3,
            3,
            3,
            3,
            3,
            3,
            3,
            3,
            3,
            3,
            3,
            2,
            2,
            2,
            2,
            2,
            2,
            2,
            2,
            2,
            2,
            2,
            2,
            2,
            2,
            2,
            2,
            2,
            2,
            2,
            2,
            2,
            2,
            2,
            2,
            2,
            2,
            2,
            2,
            2,
            2,
            2,
            2,
            2,
            2,
            2,
            2,
            2,
            2,
            2,
            2,
            2,
            2,
            2,
            2,
            2,
            2,
            2,
            2,
            2,
            2,
            2,
            2,
            2,
            2,
            2,
            2,
            2,
            2,
            2,
            2,
            2,
            2,
            2,
            2,
            2,
            2,
            2,
            2,
            2,
            2,
            2,
            2,
            2,
            2,
            2,
            2,
            2,
            2,
            2,
            2,
            2,
            1,
            1,
            1,
            1,
            1,
            1,
            1,
            1,
            1,
            1,
            1,
            1,
            1,
            1,
            1,
            1,
            1,
            1,
            1,
            1,
            1,
            1,
            1,
            1,
            1,
            1,
            1,
            1,
            1,
            1,
            1,
            1,
            1,
            1,
            1,
            1,
            1,
            1,
            1,
            1,
            1,
            1,
            1,
            1,
            1,
            1,
            1,
            1,
            1,
            1,
            1,
            1,
            1,
            1,
            1,
            1,
            1,
            1,
            1,
            1,
            1,
            1,
            1,
            1,
            1,
            1,
            1,
            1,
            1,
            1,
            1,
            1,
            1,
            1,
            1,
            1,
            1,
            1,
            1,
            1,
            1,
            1,
            1,
            1,
            1,
            1,
            1,
            1,
            1,
            1,
            1,
            1,
            1,
            1,
            1,
            1,
            1,
            1,
            1,
            1,
            1,
            1,
            1,
            1,
            1,
            1,
            1,
            1,
            1,
            1,
            1,
            1,
            1,
            1,
            1,
            1,
            1,
            1,
            1,
            1,
            1,
            1,
            1,
            1,
            1,
            1,
            1,
            1,
            1,
            1,
            1,
            1,
            1,
            1,
            1,
            1,
            1,
            1,
            1,
            1,
            1,
            1,
            1,
            1,
            1,
            1,
            1,
            1,
            1,
            1
           ],
           [
            [
             "Coca - Cola Classic  Soft Drink Multipack Cans",
             "Coca - Cola Classic  Soft Drink Mini Cans",
             "Coca - Cola Vanilla  Soft Drink Multipack Cans",
             "Indomie Mi Goreng Instant Noodles",
             "Maggi 2 Minute Chicken Flavour Instant Noodles",
             "Supreme Noodles Cup Chicken Flavour",
             "Fantastic Chicken Noodle Cup",
             "Fantastic Chicken Noodle Bowl",
             "Indomie Mi Goreng Noodle Cup",
             "Maggi 2 Minute Beef Flavour Instant Noodles",
             "Supreme Noodles Cup Beef Flavour",
             "Schweppes Indian Tonic Water Classic Mixers Bottle",
             "Schweppes Lime Soda Water With Lime Juice Bottle",
             "Schweppes Lemon Lime Natural Mineral Water Bottle",
             "Schweppes Orange Mango Natural Mineral Water Bottle",
             "Kitkat 4 Finger Milk Chocolate Bar",
             "Kitkat Chunky Original Chocolate Bar",
             "Cadbury Dairy Milk Caramello Koala Chocolate",
             "Mars Chocolate Bar With Nougat & Caramel",
             "Cadbury Dairy Milk Chocolate Roll",
             "Cadbury Dairy Milk Chocolate Bar",
             "Cadbury Twirl Chocolate Bar",
             "Cadbury Chomp Chocolate Bar",
             "Arnott's Premier Chocolate Chip Cookies",
             "Woolworths Chocolate Chip Cookies",
             "Woolworths The King Of Chunky Chocolate Chip Cookies",
             "Arnott's Mini Choc Chip Cookie Multipack Biscuits",
             "Oreo Original Mini Cookies Multipack",
             "Oreo Minis Cookies Variety Bags 18 Pack",
             "Cadbury Classic Choc Chip Cookies",
             "Cadbury Choc Centre Cookies",
             "Byron Bay Cookies Dotty Cookie Bites",
             "Oreo Original Cookies",
             "Golden Circle Golden Pash Fruit Drink",
             "Golden Circle Drinks Pine Orange Fruit Drink",
             "Golden Circle Drinks Sunshine Punch Fruit Drink",
             "Golden Circle Fruit Drinks Lunch Box Poppers Tropical Punch Multipack",
             "Oreo Double Stuff Cookies",
             "Oreo Original Cookies Family Pack",
             "Oreo Chocolate Cookies",
             "Oreo Grab & Go Original Cookies 9 Pack",
             "Oreo Neapolitan Double Stuff Cookies",
             "Woolworths Creamed Rice",
             "Woolworths Tomato Sauce Squeeze",
             "Woolworths Tomato Sauce",
             "Woolworths Barbecue Sauce Squeeze",
             "Masterfoods Tomato Sauce",
             "Masterfoods Barbecue Sauce",
             "Fountain Tomato Sauce Squeeze",
             "Fountain Barbecue Bbq Sauce Squeeze",
             "Woolworths Secret Burger Sauce",
             "Heinz Ketchup Tomato Sauce Ketchup",
             "Woolworths Barbecue Sauce",
             "Smith's Crinkle Cut Potato Chips Barbecue",
             "Smith's Crinkle Cut Potato Chips Chicken",
             "Thins Chips Chicken",
             "Smith's Crinkle Cut Potato Chips Salt & Vinegar",
             "Thins Chips Light & Tangy",
             "Thins Cheese & Onion Chips",
             "Woolworths Peach In Strawberry Jelly",
             "Woolworths Two Fruits In Tropical Jelly",
             "Woolworths Apple In Pineapple Jelly",
             "Dole Pineapple Slices In Syrup"
            ],
            [
             "Indomie Mi Goreng Instant Noodles",
             "Maggi 2 Minute Chicken Flavour Instant Noodles",
             "Supreme Noodles Cup Chicken Flavour",
             "Fantastic Chicken Noodle Cup",
             "Fantastic Chicken Noodle Bowl",
             "Indomie Mi Goreng Noodle Cup",
             "Maggi 2 Minute Beef Flavour Instant Noodles",
             "Supreme Noodles Cup Beef Flavour",
             "Kitkat 4 Finger Milk Chocolate Bar",
             "Kitkat Chunky Original Chocolate Bar",
             "Cadbury Dairy Milk Caramello Koala Chocolate",
             "Mars Chocolate Bar With Nougat & Caramel",
             "Cadbury Chomp Chocolate Bar",
             "Arnott's Premier Chocolate Chip Cookies",
             "Woolworths Chocolate Chip Cookies",
             "Woolworths The King Of Chunky Chocolate Chip Cookies",
             "Arnott's Mini Choc Chip Cookie Multipack Biscuits",
             "Oreo Original Mini Cookies Multipack",
             "Oreo Minis Cookies Variety Bags 18 Pack",
             "Cadbury Classic Choc Chip Cookies",
             "Cadbury Choc Centre Cookies",
             "Byron Bay Cookies Dotty Cookie Bites",
             "Oreo Original Cookies",
             "Oreo Double Stuff Cookies",
             "Oreo Original Cookies Family Pack",
             "Oreo Chocolate Cookies",
             "Oreo Grab & Go Original Cookies 9 Pack",
             "Deep Cove Sardines In Oil",
             "Woolworths Creamed Rice",
             "Woolworths Tomato Sauce Squeeze",
             "Woolworths Tomato Sauce",
             "Woolworths Barbecue Sauce Squeeze",
             "Masterfoods Tomato Sauce",
             "Masterfoods Barbecue Sauce",
             "Fountain Tomato Sauce Squeeze",
             "Fountain Barbecue Bbq Sauce Squeeze",
             "Woolworths Secret Burger Sauce",
             "Heinz Ketchup Tomato Sauce Ketchup",
             "Woolworths Barbecue Sauce",
             "Smith's Crinkle Cut Potato Chips Original",
             "Smith's Crinkle Cut Potato Chips Cheese & Onion",
             "Smith's Crinkle Cut Potato Chips Barbecue",
             "Smith's Crinkle Cut Potato Chips Chicken",
             "Thins Chips Salt & Vinegar",
             "Smith's Thinly Cut Potato Chips Original Share Pack",
             "Thins Chips Chicken",
             "Smith's Crinkle Cut Potato Chips Salt & Vinegar",
             "Thins Chips Light & Tangy",
             "Thins Cheese & Onion Chips"
            ],
            [
             "Maggi 2 Minute Chicken Flavour Instant Noodles",
             "Supreme Noodles Cup Chicken Flavour",
             "Fantastic Chicken Noodle Cup",
             "Fantastic Chicken Noodle Bowl",
             "Maggi 2 Minute Beef Flavour Instant Noodles",
             "Supreme Noodles Cup Beef Flavour",
             "Mars Chocolate Bar With Nougat & Caramel",
             "Cadbury Chomp Chocolate Bar",
             "Arnott's Premier Chocolate Chip Cookies",
             "Woolworths Chocolate Chip Cookies",
             "Woolworths The King Of Chunky Chocolate Chip Cookies",
             "Arnott's Mini Choc Chip Cookie Multipack Biscuits",
             "Oreo Original Mini Cookies Multipack",
             "Oreo Minis Cookies Variety Bags 18 Pack",
             "Cadbury Classic Choc Chip Cookies",
             "Cadbury Choc Centre Cookies",
             "Byron Bay Cookies Dotty Cookie Bites",
             "Oreo Original Cookies",
             "Oreo Double Stuff Cookies",
             "Oreo Original Cookies Family Pack",
             "Oreo Chocolate Cookies",
             "Oreo Grab & Go Original Cookies 9 Pack",
             "Oreo Neapolitan Double Stuff Cookies",
             "Deep Cove Sardines In Oil",
             "Thins Chips Salt & Vinegar",
             "Thins Chips Chicken",
             "Thins Chips Light & Tangy",
             "Thins Cheese & Onion Chips"
            ],
            [
             "Indomie Mi Goreng Instant Noodles",
             "Maggi 2 Minute Chicken Flavour Instant Noodles",
             "Supreme Noodles Cup Chicken Flavour",
             "Fantastic Chicken Noodle Cup",
             "Fantastic Chicken Noodle Bowl",
             "Indomie Mi Goreng Noodle Cup",
             "Maggi 2 Minute Beef Flavour Instant Noodles",
             "Supreme Noodles Cup Beef Flavour",
             "Kitkat 4 Finger Milk Chocolate Bar",
             "Kitkat Chunky Original Chocolate Bar",
             "Cadbury Chomp Chocolate Bar",
             "Arnott's Premier Chocolate Chip Cookies",
             "Woolworths Chocolate Chip Cookies",
             "Woolworths The King Of Chunky Chocolate Chip Cookies",
             "Arnott's Mini Choc Chip Cookie Multipack Biscuits",
             "Oreo Original Mini Cookies Multipack",
             "Oreo Minis Cookies Variety Bags 18 Pack",
             "Cadbury Classic Choc Chip Cookies",
             "Cadbury Choc Centre Cookies",
             "Byron Bay Cookies Dotty Cookie Bites",
             "Oreo Original Cookies",
             "Oreo Double Stuff Cookies",
             "Oreo Original Cookies Family Pack",
             "Oreo Chocolate Cookies",
             "Oreo Grab & Go Original Cookies 9 Pack",
             "Oreo Neapolitan Double Stuff Cookies"
            ],
            [
             "Coca - Cola Classic  Soft Drink Multipack Cans",
             "Coca - Cola Classic  Soft Drink Mini Cans",
             "Coca - Cola Vanilla  Soft Drink Multipack Cans",
             "Coca - Cola Zero Sugar Soft Drink Multipack Cans",
             "Coca - Cola Caffeine Free Zero Sugar Soft Drink Multipack Cans",
             "Coca - Cola Zero Sugar Soft Drink Mini Cans",
             "Maggi 2 Minute Beef Flavour Instant Noodles",
             "Kitkat 4 Finger Milk Chocolate Bar",
             "Kitkat Chunky Original Chocolate Bar",
             "Arnott's Premier Chocolate Chip Cookies",
             "Oreo Original Mini Cookies Multipack",
             "Oreo Minis Cookies Variety Bags 18 Pack",
             "Cadbury Classic Choc Chip Cookies",
             "Cadbury Choc Centre Cookies",
             "Byron Bay Cookies Dotty Cookie Bites",
             "Oreo Original Cookies",
             "Oreo Double Stuff Cookies",
             "Oreo Original Cookies Family Pack",
             "Oreo Chocolate Cookies",
             "Oreo Grab & Go Original Cookies 9 Pack",
             "Thins Chips Light & Tangy"
            ],
            [
             "Kitkat 4 Finger Milk Chocolate Bar",
             "Kitkat Chunky Original Chocolate Bar",
             "Cadbury Dairy Milk Caramello Koala Chocolate",
             "Mars Chocolate Bar With Nougat & Caramel",
             "Cadbury Dairy Milk Chocolate Roll",
             "Cadbury Dairy Milk Chocolate Bar",
             "Cadbury Twirl Chocolate Bar",
             "Cadbury Chomp Chocolate Bar",
             "Arnott's Premier Chocolate Chip Cookies",
             "Woolworths Chocolate Chip Cookies",
             "Woolworths The King Of Chunky Chocolate Chip Cookies",
             "Arnott's Mini Choc Chip Cookie Multipack Biscuits",
             "Oreo Original Mini Cookies Multipack",
             "Oreo Minis Cookies Variety Bags 18 Pack",
             "Cadbury Choc Centre Cookies",
             "Byron Bay Cookies Dotty Cookie Bites",
             "Oreo Original Cookies",
             "Oreo Double Stuff Cookies",
             "Oreo Original Cookies Family Pack",
             "Oreo Chocolate Cookies",
             "Oreo Grab & Go Original Cookies 9 Pack",
             "Oreo Neapolitan Double Stuff Cookies"
            ],
            [
             "Woolworths Apple Juice",
             "Woolworths Apple & Mango Juice",
             "Woolworths Orange Juice",
             "Woolworths Breakfast Juice",
             "Woolworths Apple & Blackcurrant Juice",
             "Woolworths Multivitamin Juice",
             "Woolworths Diced Italian Tomatoes",
             "Woolworths Tomato Sauce Squeeze",
             "Woolworths Tomato Sauce",
             "Woolworths Barbecue Sauce Squeeze",
             "Woolworths Secret Burger Sauce",
             "Woolworths Barbecue Sauce",
             "Woolworths Peach In Strawberry Jelly",
             "Woolworths Two Fruits In Juice Cups",
             "Woolworths Two Fruits In Juice",
             "Woolworths Two Fruits In Tropical Jelly",
             "Woolworths Apple In Pineapple Jelly"
            ],
            [
             "Indomie Mi Goreng Instant Noodles",
             "Indomie Mi Goreng Noodle Cup",
             "Golden Circle Golden Pash Fruit Drink",
             "Golden Circle Drinks Pine Orange Fruit Drink",
             "Golden Circle Drinks Sunshine Punch Fruit Drink",
             "Golden Circle Fruit Drinks Lunch Box Poppers Tropical Punch Multipack",
             "Essentials Coconut Cream",
             "Deep Cove Sardines In Oil",
             "Essentials Coconut Milk",
             "Masterfoods Barbecue Sauce",
             "Woolworths Secret Burger Sauce",
             "Woolworths Peach In Strawberry Jelly",
             "Woolworths Two Fruits In Juice Cups",
             "Woolworths Two Fruits In Juice",
             "Woolworths Two Fruits In Tropical Jelly",
             "Woolworths Apple In Pineapple Jelly",
             "Dole Pineapple Slices In Syrup",
             "Dole Pineapple Chunks In Juice"
            ],
            [
             "Indomie Mi Goreng Instant Noodles",
             "Maggi 2 Minute Chicken Flavour Instant Noodles",
             "Supreme Noodles Cup Chicken Flavour",
             "Fantastic Chicken Noodle Cup",
             "Fantastic Chicken Noodle Bowl",
             "Indomie Mi Goreng Noodle Cup",
             "Maggi 2 Minute Beef Flavour Instant Noodles",
             "Supreme Noodles Cup Beef Flavour",
             "Smith's Crinkle Cut Potato Chips Cheese & Onion",
             "Smith's Crinkle Cut Potato Chips Barbecue",
             "Smith's Crinkle Cut Potato Chips Chicken",
             "Thins Chips Salt & Vinegar",
             "Thins Chips Chicken",
             "Smith's Crinkle Cut Potato Chips Salt & Vinegar",
             "Thins Cheese & Onion Chips"
            ],
            [
             "Maggi 2 Minute Beef Flavour Instant Noodles",
             "Schweppes Zero Sugar Lime Infused Mineral Water Bottle",
             "Schweppes Raspberry Infused Natural Mineral Water Bottle",
             "Schweppes Lemon Lime Natural Mineral Water Bottle",
             "Schweppes Orange Mango Natural Mineral Water Bottle",
             "Golden Circle Golden Pash Fruit Drink",
             "Golden Circle Drinks Pine Orange Fruit Drink",
             "Golden Circle Drinks Sunshine Punch Fruit Drink",
             "Golden Circle Fruit Drinks Lunch Box Poppers Tropical Punch Multipack",
             "Masterfoods Tomato Sauce",
             "Masterfoods Barbecue Sauce",
             "Heinz Ketchup Tomato Sauce Ketchup",
             "Smith's Crinkle Cut Potato Chips Cheese & Onion",
             "Smith's Crinkle Cut Potato Chips Barbecue",
             "Thins Chips Chicken",
             "Smith's Crinkle Cut Potato Chips Salt & Vinegar"
            ],
            [
             "Coca - Cola Classic  Soft Drink Multipack Cans",
             "Coca - Cola Classic  Soft Drink Mini Cans",
             "Coca - Cola Vanilla  Soft Drink Multipack Cans",
             "Coca - Cola Zero Sugar Soft Drink Multipack Cans",
             "Coca - Cola Caffeine Free Zero Sugar Soft Drink Multipack Cans",
             "Coca - Cola Zero Sugar Soft Drink Mini Cans",
             "Schweppes Soda Water Bottle Classic Mixers",
             "Schweppes Indian Tonic Water Classic Mixers Bottle",
             "Schweppes Lime Soda Water With Lime Juice Bottle",
             "Schweppes Zero Sugar Classic Mixers Indian Tonic Water Bottle"
            ],
            [
             "Indomie Mi Goreng Instant Noodles",
             "Maggi 2 Minute Chicken Flavour Instant Noodles",
             "Fantastic Chicken Noodle Bowl",
             "Indomie Mi Goreng Noodle Cup",
             "Maggi 2 Minute Beef Flavour Instant Noodles",
             "Oreo Original Mini Cookies Multipack",
             "Oreo Minis Cookies Variety Bags 18 Pack",
             "Oreo Original Cookies",
             "Oreo Double Stuff Cookies",
             "Oreo Original Cookies Family Pack",
             "Oreo Chocolate Cookies",
             "Oreo Grab & Go Original Cookies 9 Pack",
             "Oreo Neapolitan Double Stuff Cookies"
            ],
            [
             "Woolworths Chocolate Chip Cookies",
             "Arnott's Mini Choc Chip Cookie Multipack Biscuits",
             "Woolworths Apple Juice",
             "Woolworths Apple & Mango Juice",
             "Woolworths Orange Juice",
             "Woolworths Apple & Blackcurrant Juice",
             "Golden Circle Drinks Pine Orange Fruit Drink",
             "Woolworths Tomato Sauce Squeeze",
             "Woolworths Tomato Sauce",
             "Fountain Tomato Sauce Squeeze",
             "Woolworths Barbecue Sauce",
             "Thins Chips Salt & Vinegar",
             "Thins Cheese & Onion Chips"
            ],
            [
             "Kitkat 4 Finger Milk Chocolate Bar",
             "Kitkat Chunky Original Chocolate Bar",
             "Cadbury Dairy Milk Caramello Koala Chocolate",
             "Mars Chocolate Bar With Nougat & Caramel",
             "Cadbury Dairy Milk Chocolate Roll",
             "Cadbury Dairy Milk Chocolate Bar",
             "Cadbury Twirl Chocolate Bar",
             "Arnott's Premier Chocolate Chip Cookies",
             "Woolworths The King Of Chunky Chocolate Chip Cookies",
             "Arnott's Mini Choc Chip Cookie Multipack Biscuits",
             "Cadbury Classic Choc Chip Cookies",
             "Cadbury Choc Centre Cookies"
            ],
            [
             "Smith's Crinkle Cut Potato Chips Original",
             "Smith's Crinkle Cut Potato Chips Chicken",
             "Smith's Thinly Cut Potato Chips Original Share Pack",
             "Smith's Crinkle Cut Potato Chips Salt & Vinegar",
             "Woolworths Peach In Strawberry Jelly",
             "Woolworths Two Fruits In Juice Cups",
             "Woolworths Two Fruits In Juice",
             "Woolworths Two Fruits In Tropical Jelly",
             "Woolworths Apple In Pineapple Jelly",
             "Goulburn Valley Two Fruits In Juice",
             "Goulburn Valley Two Fruits In Juice Fruit Cups In Juice"
            ],
            [
             "Kitkat 4 Finger Milk Chocolate Bar",
             "Kitkat Chunky Original Chocolate Bar",
             "Cadbury Dairy Milk Caramello Koala Chocolate",
             "Mars Chocolate Bar With Nougat & Caramel",
             "Cadbury Dairy Milk Chocolate Roll",
             "Cadbury Dairy Milk Chocolate Bar",
             "Cadbury Twirl Chocolate Bar",
             "Arnott's Premier Chocolate Chip Cookies",
             "Woolworths The King Of Chunky Chocolate Chip Cookies",
             "Arnott's Mini Choc Chip Cookie Multipack Biscuits",
             "Cadbury Classic Choc Chip Cookies",
             "Cadbury Choc Centre Cookies"
            ],
            [
             "Cadbury Chomp Chocolate Bar",
             "Oreo Original Mini Cookies Multipack",
             "Oreo Minis Cookies Variety Bags 18 Pack",
             "Cadbury Classic Choc Chip Cookies",
             "Cadbury Choc Centre Cookies",
             "Byron Bay Cookies Dotty Cookie Bites",
             "Oreo Original Cookies",
             "Oreo Double Stuff Cookies",
             "Oreo Original Cookies Family Pack",
             "Oreo Chocolate Cookies",
             "Oreo Grab & Go Original Cookies 9 Pack",
             "Oreo Neapolitan Double Stuff Cookies"
            ],
            [
             "Kitkat 4 Finger Milk Chocolate Bar",
             "Kitkat Chunky Original Chocolate Bar",
             "Cadbury Dairy Milk Caramello Koala Chocolate",
             "Mars Chocolate Bar With Nougat & Caramel",
             "Cadbury Dairy Milk Chocolate Roll",
             "Cadbury Dairy Milk Chocolate Bar",
             "Cadbury Twirl Chocolate Bar",
             "Cadbury Chomp Chocolate Bar",
             "Arnott's Premier Chocolate Chip Cookies",
             "Cadbury Classic Choc Chip Cookies",
             "Cadbury Choc Centre Cookies",
             "Byron Bay Cookies Dotty Cookie Bites"
            ],
            [
             "Schweppes Zero Sugar Lime Infused Mineral Water Bottle",
             "Schweppes Raspberry Infused Natural Mineral Water Bottle",
             "Schweppes Lemon Lime Natural Mineral Water Bottle",
             "Schweppes Orange Mango Natural Mineral Water Bottle",
             "Woolworths Breakfast Juice",
             "Woolworths Multivitamin Juice",
             "Golden Circle Golden Pash Fruit Drink",
             "Golden Circle Drinks Sunshine Punch Fruit Drink",
             "Golden Circle Fruit Drinks Lunch Box Poppers Tropical Punch Multipack",
             "Fountain Barbecue Bbq Sauce Squeeze",
             "Heinz Ketchup Tomato Sauce Ketchup",
             "Smith's Crinkle Cut Potato Chips Salt & Vinegar"
            ],
            [
             "Indomie Mi Goreng Instant Noodles",
             "Maggi 2 Minute Chicken Flavour Instant Noodles",
             "Supreme Noodles Cup Chicken Flavour",
             "Fantastic Chicken Noodle Cup",
             "Indomie Mi Goreng Noodle Cup",
             "Woolworths Secret Burger Sauce",
             "Smith's Crinkle Cut Potato Chips Cheese & Onion",
             "Smith's Crinkle Cut Potato Chips Barbecue",
             "Smith's Crinkle Cut Potato Chips Chicken",
             "Thins Chips Chicken",
             "Thins Chips Light & Tangy",
             "Thins Cheese & Onion Chips"
            ],
            [
             "Coca - Cola Classic  Soft Drink Multipack Cans",
             "Coca - Cola Classic  Soft Drink Mini Cans",
             "Coca - Cola Vanilla  Soft Drink Multipack Cans",
             "Coca - Cola Zero Sugar Soft Drink Multipack Cans",
             "Coca - Cola Caffeine Free Zero Sugar Soft Drink Multipack Cans",
             "Coca - Cola Zero Sugar Soft Drink Mini Cans",
             "Fountain Barbecue Bbq Sauce Squeeze"
            ],
            [
             "Maggi 2 Minute Chicken Flavour Instant Noodles",
             "Supreme Noodles Cup Chicken Flavour",
             "Fantastic Chicken Noodle Cup",
             "Maggi 2 Minute Beef Flavour Instant Noodles",
             "Supreme Noodles Cup Beef Flavour",
             "Smith's Crinkle Cut Potato Chips Barbecue",
             "Smith's Crinkle Cut Potato Chips Chicken",
             "Thins Chips Chicken",
             "Thins Chips Light & Tangy",
             "Thins Cheese & Onion Chips"
            ],
            [
             "Cadbury Chomp Chocolate Bar",
             "Oreo Original Mini Cookies Multipack",
             "Oreo Minis Cookies Variety Bags 18 Pack",
             "Cadbury Choc Centre Cookies",
             "Byron Bay Cookies Dotty Cookie Bites",
             "Oreo Original Cookies",
             "Oreo Double Stuff Cookies",
             "Oreo Original Cookies Family Pack",
             "Oreo Chocolate Cookies",
             "Oreo Grab & Go Original Cookies 9 Pack",
             "Oreo Neapolitan Double Stuff Cookies"
            ],
            [
             "Indomie Mi Goreng Noodle Cup",
             "Cadbury Dairy Milk Caramello Koala Chocolate",
             "Cadbury Dairy Milk Chocolate Roll",
             "Cadbury Dairy Milk Chocolate Bar",
             "Cadbury Twirl Chocolate Bar",
             "Cadbury Chomp Chocolate Bar",
             "Cadbury Choc Centre Cookies",
             "Oreo Neapolitan Double Stuff Cookies",
             "Smith's Crinkle Cut Potato Chips Barbecue",
             "Thins Chips Chicken"
            ],
            [
             "Smith's Crinkle Cut Potato Chips Original",
             "Smith's Crinkle Cut Potato Chips Cheese & Onion",
             "Smith's Crinkle Cut Potato Chips Barbecue",
             "Smith's Crinkle Cut Potato Chips Chicken",
             "Thins Chips Salt & Vinegar",
             "Smith's Thinly Cut Potato Chips Original Share Pack",
             "Thins Chips Chicken",
             "Smith's Crinkle Cut Potato Chips Salt & Vinegar",
             "Thins Chips Light & Tangy",
             "Thins Cheese & Onion Chips"
            ],
            [
             "Woolworths Apple Juice",
             "Woolworths Apple & Mango Juice",
             "Woolworths Orange Juice",
             "Woolworths Breakfast Juice",
             "Woolworths Apple & Blackcurrant Juice",
             "Woolworths Multivitamin Juice",
             "Golden Circle Golden Pash Fruit Drink",
             "Golden Circle Drinks Pine Orange Fruit Drink",
             "Golden Circle Drinks Sunshine Punch Fruit Drink",
             "Golden Circle Fruit Drinks Lunch Box Poppers Tropical Punch Multipack"
            ],
            [
             "Oreo Original Mini Cookies Multipack",
             "Oreo Minis Cookies Variety Bags 18 Pack",
             "Cadbury Classic Choc Chip Cookies",
             "Cadbury Choc Centre Cookies",
             "Oreo Original Cookies",
             "Oreo Double Stuff Cookies",
             "Oreo Original Cookies Family Pack",
             "Oreo Chocolate Cookies",
             "Oreo Grab & Go Original Cookies 9 Pack",
             "Oreo Neapolitan Double Stuff Cookies"
            ],
            [
             "Maggi 2 Minute Chicken Flavour Instant Noodles",
             "Maggi 2 Minute Beef Flavour Instant Noodles",
             "Kitkat 4 Finger Milk Chocolate Bar",
             "Kitkat Chunky Original Chocolate Bar",
             "Cadbury Dairy Milk Caramello Koala Chocolate",
             "Mars Chocolate Bar With Nougat & Caramel",
             "Cadbury Chomp Chocolate Bar",
             "Cadbury Classic Choc Chip Cookies",
             "Byron Bay Cookies Dotty Cookie Bites"
            ],
            [
             "Indomie Mi Goreng Instant Noodles",
             "Supreme Noodles Cup Chicken Flavour",
             "Fantastic Chicken Noodle Cup",
             "Fantastic Chicken Noodle Bowl",
             "Indomie Mi Goreng Noodle Cup",
             "Maggi 2 Minute Beef Flavour Instant Noodles",
             "Masterfoods Barbecue Sauce",
             "Smith's Crinkle Cut Potato Chips Cheese & Onion",
             "Smith's Crinkle Cut Potato Chips Chicken",
             "Thins Cheese & Onion Chips"
            ],
            [
             "Coca - Cola Classic  Soft Drink Multipack Cans",
             "Coca - Cola Classic  Soft Drink Mini Cans",
             "Coca - Cola Vanilla  Soft Drink Multipack Cans",
             "Coca - Cola Zero Sugar Soft Drink Multipack Cans",
             "Coca - Cola Caffeine Free Zero Sugar Soft Drink Multipack Cans",
             "Coca - Cola Zero Sugar Soft Drink Mini Cans"
            ],
            [
             "Coca - Cola Classic  Soft Drink Multipack Cans",
             "Coca - Cola Classic  Soft Drink Mini Cans",
             "Coca - Cola Vanilla  Soft Drink Multipack Cans",
             "Coca - Cola Zero Sugar Soft Drink Multipack Cans",
             "Coca - Cola Zero Sugar Soft Drink Mini Cans"
            ],
            [
             "Maggi 2 Minute Chicken Flavour Instant Noodles",
             "Maggi 2 Minute Beef Flavour Instant Noodles",
             "Smith's Crinkle Cut Potato Chips Cheese & Onion",
             "Smith's Crinkle Cut Potato Chips Barbecue",
             "Smith's Crinkle Cut Potato Chips Chicken",
             "Thins Chips Salt & Vinegar",
             "Thins Chips Chicken",
             "Smith's Crinkle Cut Potato Chips Salt & Vinegar",
             "Thins Cheese & Onion Chips"
            ],
            [
             "Oreo Original Mini Cookies Multipack",
             "Oreo Minis Cookies Variety Bags 18 Pack",
             "Byron Bay Cookies Dotty Cookie Bites",
             "Oreo Original Cookies",
             "Oreo Double Stuff Cookies",
             "Oreo Original Cookies Family Pack",
             "Oreo Chocolate Cookies",
             "Oreo Grab & Go Original Cookies 9 Pack",
             "Oreo Neapolitan Double Stuff Cookies"
            ],
            [
             "Oreo Original Mini Cookies Multipack",
             "Oreo Minis Cookies Variety Bags 18 Pack",
             "Oreo Original Cookies",
             "Woolworths Multivitamin Juice",
             "Oreo Double Stuff Cookies",
             "Oreo Original Cookies Family Pack",
             "Oreo Chocolate Cookies",
             "Oreo Grab & Go Original Cookies 9 Pack",
             "Oreo Neapolitan Double Stuff Cookies"
            ],
            [
             "Oreo Original Mini Cookies Multipack",
             "Oreo Minis Cookies Variety Bags 18 Pack",
             "Oreo Original Cookies",
             "Oreo Double Stuff Cookies",
             "Oreo Original Cookies Family Pack",
             "Oreo Chocolate Cookies",
             "Oreo Grab & Go Original Cookies 9 Pack",
             "Oreo Neapolitan Double Stuff Cookies"
            ],
            [
             "Oreo Original Mini Cookies Multipack",
             "Oreo Minis Cookies Variety Bags 18 Pack",
             "Oreo Original Cookies",
             "Oreo Double Stuff Cookies",
             "Oreo Original Cookies Family Pack",
             "Oreo Chocolate Cookies",
             "Oreo Grab & Go Original Cookies 9 Pack",
             "Oreo Neapolitan Double Stuff Cookies"
            ],
            [
             "Oreo Original Mini Cookies Multipack",
             "Oreo Minis Cookies Variety Bags 18 Pack",
             "Oreo Original Cookies",
             "Oreo Double Stuff Cookies",
             "Oreo Original Cookies Family Pack",
             "Oreo Chocolate Cookies",
             "Oreo Grab & Go Original Cookies 9 Pack",
             "Oreo Neapolitan Double Stuff Cookies"
            ],
            [
             "Kitkat 4 Finger Milk Chocolate Bar",
             "Kitkat Chunky Original Chocolate Bar",
             "Woolworths Chocolate Chip Cookies",
             "Dairy Farmers Full Cream Milk Full Cream Milk",
             "A2 Milk Full Cream Milk",
             "Woolworths Creamed Rice"
            ],
            [
             "Oreo Original Mini Cookies Multipack",
             "Oreo Minis Cookies Variety Bags 18 Pack",
             "Oreo Original Cookies",
             "Oreo Double Stuff Cookies",
             "Oreo Original Cookies Family Pack",
             "Oreo Chocolate Cookies",
             "Oreo Grab & Go Original Cookies 9 Pack",
             "Oreo Neapolitan Double Stuff Cookies"
            ],
            [
             "Kitkat 4 Finger Milk Chocolate Bar",
             "Kitkat Chunky Original Chocolate Bar",
             "Cadbury Dairy Milk Caramello Koala Chocolate",
             "Cadbury Dairy Milk Chocolate Roll",
             "Cadbury Dairy Milk Chocolate Bar",
             "Cadbury Twirl Chocolate Bar",
             "Cadbury Chomp Chocolate Bar",
             "Byron Bay Cookies Dotty Cookie Bites"
            ],
            [
             "Indomie Mi Goreng Instant Noodles",
             "Indomie Mi Goreng Noodle Cup",
             "Maggi 2 Minute Beef Flavour Instant Noodles",
             "Supreme Noodles Cup Beef Flavour",
             "Kitkat 4 Finger Milk Chocolate Bar",
             "Kitkat Chunky Original Chocolate Bar",
             "Woolworths Chocolate Chip Cookies"
            ],
            [
             "Maggi 2 Minute Chicken Flavour Instant Noodles",
             "Supreme Noodles Cup Chicken Flavour",
             "Fantastic Chicken Noodle Cup",
             "Oreo Neapolitan Double Stuff Cookies",
             "Smith's Crinkle Cut Potato Chips Cheese & Onion",
             "Smith's Crinkle Cut Potato Chips Barbecue",
             "Smith's Crinkle Cut Potato Chips Chicken"
            ],
            [
             "Schweppes Orange Mango Natural Mineral Water Bottle",
             "Woolworths Orange Juice",
             "Woolworths Breakfast Juice",
             "Woolworths Multivitamin Juice",
             "Golden Circle Drinks Pine Orange Fruit Drink",
             "Golden Circle Drinks Sunshine Punch Fruit Drink",
             "Golden Circle Fruit Drinks Lunch Box Poppers Tropical Punch Multipack"
            ],
            [
             "Cadbury Dairy Milk Caramello Koala Chocolate",
             "Cadbury Dairy Milk Chocolate Roll",
             "Cadbury Dairy Milk Chocolate Bar",
             "Cadbury Twirl Chocolate Bar",
             "Woolworths Full Cream Milk",
             "Pauls Farmhouse Gold Full Cream Milk"
            ],
            [
             "Oreo Original Mini Cookies Multipack",
             "Oreo Minis Cookies Variety Bags 18 Pack",
             "Oreo Original Cookies",
             "Oreo Double Stuff Cookies",
             "Oreo Original Cookies Family Pack",
             "Oreo Chocolate Cookies",
             "Oreo Neapolitan Double Stuff Cookies"
            ],
            [
             "Woolworths Apple & Mango Juice",
             "Woolworths Breakfast Juice",
             "Woolworths Apple & Blackcurrant Juice",
             "Woolworths Multivitamin Juice",
             "Golden Circle Golden Pash Fruit Drink",
             "Golden Circle Drinks Sunshine Punch Fruit Drink",
             "Golden Circle Fruit Drinks Lunch Box Poppers Tropical Punch Multipack"
            ],
            [
             "Woolworths Secret Burger Sauce",
             "Smith's Crinkle Cut Potato Chips Original",
             "Smith's Crinkle Cut Potato Chips Cheese & Onion",
             "Smith's Crinkle Cut Potato Chips Barbecue",
             "Smith's Crinkle Cut Potato Chips Chicken",
             "Smith's Thinly Cut Potato Chips Original Share Pack",
             "Smith's Crinkle Cut Potato Chips Salt & Vinegar"
            ],
            [
             "Indomie Mi Goreng Instant Noodles",
             "Maggi 2 Minute Chicken Flavour Instant Noodles",
             "Indomie Mi Goreng Noodle Cup",
             "Maggi 2 Minute Beef Flavour Instant Noodles",
             "Masterfoods Tomato Sauce",
             "Masterfoods Barbecue Sauce"
            ],
            [
             "Smith's Crinkle Cut Potato Chips Original",
             "Smith's Crinkle Cut Potato Chips Cheese & Onion",
             "Smith's Crinkle Cut Potato Chips Barbecue",
             "Smith's Crinkle Cut Potato Chips Chicken",
             "Smith's Thinly Cut Potato Chips Original Share Pack",
             "Smith's Crinkle Cut Potato Chips Salt & Vinegar"
            ],
            [
             "Coca - Cola Zero Sugar Soft Drink Multipack Cans",
             "Coca - Cola Caffeine Free Zero Sugar Soft Drink Multipack Cans",
             "Coca - Cola Zero Sugar Soft Drink Mini Cans",
             "Schweppes Zero Sugar Classic Mixers Indian Tonic Water Bottle"
            ],
            [
             "Coca - Cola Zero Sugar Soft Drink Multipack Cans",
             "Coca - Cola Caffeine Free Zero Sugar Soft Drink Multipack Cans",
             "Coca - Cola Zero Sugar Soft Drink Mini Cans",
             "Schweppes Zero Sugar Classic Mixers Indian Tonic Water Bottle"
            ],
            [
             "Coca - Cola Zero Sugar Soft Drink Multipack Cans",
             "Coca - Cola Caffeine Free Zero Sugar Soft Drink Multipack Cans",
             "Coca - Cola Zero Sugar Soft Drink Mini Cans",
             "Schweppes Zero Sugar Classic Mixers Indian Tonic Water Bottle"
            ],
            [
             "Woolworths Peach In Strawberry Jelly",
             "Woolworths Two Fruits In Juice Cups",
             "Woolworths Two Fruits In Juice",
             "Woolworths Two Fruits In Tropical Jelly"
            ],
            [
             "Woolworths Chocolate Chip Cookies",
             "Woolworths The King Of Chunky Chocolate Chip Cookies",
             "Smith's Crinkle Cut Potato Chips Cheese & Onion",
             "Thins Chips Light & Tangy",
             "Thins Cheese & Onion Chips"
            ],
            [
             "Woolworths Diced Italian Tomatoes",
             "Masterfoods Barbecue Sauce",
             "Fountain Barbecue Bbq Sauce Squeeze",
             "Heinz Ketchup Tomato Sauce Ketchup"
            ],
            [
             "Woolworths Breakfast Juice",
             "Woolworths Multivitamin Juice",
             "Golden Circle Golden Pash Fruit Drink",
             "Golden Circle Drinks Sunshine Punch Fruit Drink",
             "Golden Circle Fruit Drinks Lunch Box Poppers Tropical Punch Multipack"
            ],
            [
             "Woolworths Breakfast Juice",
             "Golden Circle Golden Pash Fruit Drink",
             "Golden Circle Drinks Pine Orange Fruit Drink",
             "Golden Circle Drinks Sunshine Punch Fruit Drink",
             "Golden Circle Fruit Drinks Lunch Box Poppers Tropical Punch Multipack"
            ],
            [
             "Indomie Mi Goreng Instant Noodles",
             "Indomie Mi Goreng Noodle Cup",
             "Schweppes Lime Soda Water With Lime Juice Bottle",
             "Schweppes Lemon Lime Natural Mineral Water Bottle",
             "Schweppes Orange Mango Natural Mineral Water Bottle"
            ],
            [
             "Schweppes Indian Tonic Water Classic Mixers Bottle",
             "Schweppes Zero Sugar Classic Mixers Indian Tonic Water Bottle",
             "Cadbury Chomp Chocolate Bar",
             "Oreo Minis Cookies Variety Bags 18 Pack",
             "Oreo Neapolitan Double Stuff Cookies"
            ],
            [
             "Supreme Noodles Cup Chicken Flavour",
             "Fantastic Chicken Noodle Cup",
             "Maggi 2 Minute Beef Flavour Instant Noodles",
             "Supreme Noodles Cup Beef Flavour",
             "Kitkat Chunky Original Chocolate Bar"
            ],
            [
             "Maggi 2 Minute Chicken Flavour Instant Noodles",
             "Fantastic Chicken Noodle Cup",
             "Maggi 2 Minute Beef Flavour Instant Noodles",
             "Supreme Noodles Cup Beef Flavour"
            ],
            [
             "Indomie Mi Goreng Instant Noodles",
             "Indomie Mi Goreng Noodle Cup",
             "Woolworths Barbecue Sauce Squeeze",
             "Fountain Barbecue Bbq Sauce Squeeze",
             "Woolworths Barbecue Sauce"
            ],
            [
             "Cadbury Classic Choc Chip Cookies",
             "Cadbury Choc Centre Cookies",
             "Smith's Crinkle Cut Potato Chips Cheese & Onion",
             "Smith's Crinkle Cut Potato Chips Salt & Vinegar"
            ],
            [
             "Woolworths Two Fruits In Juice Cups",
             "Woolworths Two Fruits In Juice",
             "Woolworths Two Fruits In Tropical Jelly"
            ],
            [
             "Smith's Crinkle Cut Potato Chips Original",
             "Smith's Crinkle Cut Potato Chips Chicken",
             "Smith's Thinly Cut Potato Chips Original Share Pack",
             "Smith's Crinkle Cut Potato Chips Salt & Vinegar"
            ],
            [
             "Smith's Crinkle Cut Potato Chips Original",
             "Smith's Crinkle Cut Potato Chips Chicken",
             "Smith's Thinly Cut Potato Chips Original Share Pack",
             "Smith's Crinkle Cut Potato Chips Salt & Vinegar"
            ],
            [
             "Woolworths Tomato Sauce Squeeze",
             "Woolworths Tomato Sauce",
             "Woolworths Barbecue Sauce Squeeze",
             "Woolworths Barbecue Sauce"
            ],
            [
             "Woolworths Tomato Sauce Squeeze",
             "Woolworths Tomato Sauce",
             "Woolworths Barbecue Sauce Squeeze",
             "Woolworths Barbecue Sauce"
            ],
            [
             "Woolworths Multivitamin Juice",
             "Golden Circle Golden Pash Fruit Drink",
             "Golden Circle Drinks Sunshine Punch Fruit Drink",
             "Golden Circle Fruit Drinks Lunch Box Poppers Tropical Punch Multipack"
            ],
            [
             "Woolworths Spring Water Bottles",
             "Woolworths Spring Water"
            ],
            [
             "Schweppes Orange Mango Natural Mineral Water Bottle",
             "Woolworths Apple & Mango Juice",
             "Woolworths Breakfast Juice",
             "Woolworths Multivitamin Juice"
            ],
            [
             "Maggi 2 Minute Chicken Flavour Instant Noodles",
             "Fantastic Chicken Noodle Bowl",
             "Maggi 2 Minute Beef Flavour Instant Noodles"
            ],
            [
             "Maggi 2 Minute Chicken Flavour Instant Noodles",
             "Fantastic Chicken Noodle Bowl",
             "Maggi 2 Minute Beef Flavour Instant Noodles"
            ],
            [
             "Maggi 2 Minute Chicken Flavour Instant Noodles",
             "Smith's Crinkle Cut Potato Chips Chicken",
             "Thins Chips Chicken",
             "Thins Cheese & Onion Chips"
            ],
            [
             "Maggi 2 Minute Chicken Flavour Instant Noodles",
             "Fantastic Chicken Noodle Bowl",
             "Maggi 2 Minute Beef Flavour Instant Noodles"
            ],
            [
             "Indomie Mi Goreng Instant Noodles",
             "Supreme Noodles Cup Chicken Flavour",
             "Fantastic Chicken Noodle Cup",
             "Indomie Mi Goreng Noodle Cup"
            ],
            [
             "Indomie Mi Goreng Instant Noodles",
             "Indomie Mi Goreng Noodle Cup",
             "Masterfoods Barbecue Sauce",
             "Thins Chips Chicken"
            ],
            [
             "Indomie Mi Goreng Instant Noodles",
             "Indomie Mi Goreng Noodle Cup",
             "Supreme Noodles Cup Beef Flavour",
             "Smith's Crinkle Cut Potato Chips Barbecue"
            ],
            [
             "Woolworths Peach In Strawberry Jelly",
             "Woolworths Two Fruits In Tropical Jelly",
             "Woolworths Apple In Pineapple Jelly"
            ],
            [
             "Woolworths Tomato Sauce Squeeze",
             "Woolworths Tomato Sauce",
             "Masterfoods Tomato Sauce"
            ],
            [
             "Woolworths Barbecue Sauce Squeeze",
             "Fountain Barbecue Bbq Sauce Squeeze",
             "Woolworths Barbecue Sauce"
            ],
            [
             "Masterfoods Tomato Sauce",
             "Masterfoods Barbecue Sauce",
             "Thins Chips Salt & Vinegar"
            ],
            [
             "Smith's Crinkle Cut Potato Chips Original",
             "Smith's Crinkle Cut Potato Chips Chicken",
             "Smith's Thinly Cut Potato Chips Original Share Pack"
            ],
            [
             "Smith's Crinkle Cut Potato Chips Barbecue",
             "Thins Chips Salt & Vinegar",
             "Smith's Crinkle Cut Potato Chips Salt & Vinegar"
            ],
            [
             "Woolworths Peach In Strawberry Jelly",
             "Woolworths Two Fruits In Tropical Jelly",
             "Woolworths Apple In Pineapple Jelly"
            ],
            [
             "Woolworths Peach In Strawberry Jelly",
             "Woolworths Two Fruits In Tropical Jelly",
             "Woolworths Apple In Pineapple Jelly"
            ],
            [
             "Woolworths Peach In Strawberry Jelly",
             "Woolworths Two Fruits In Tropical Jelly",
             "Woolworths Apple In Pineapple Jelly"
            ],
            [
             "Cadbury Classic Choc Chip Cookies",
             "Cadbury Choc Centre Cookies",
             "Byron Bay Cookies Dotty Cookie Bites"
            ],
            [
             "Woolworths Peach In Strawberry Jelly",
             "Woolworths Two Fruits In Tropical Jelly",
             "Woolworths Apple In Pineapple Jelly"
            ],
            [
             "Woolworths Peach In Strawberry Jelly",
             "Woolworths Two Fruits In Tropical Jelly",
             "Woolworths Apple In Pineapple Jelly"
            ],
            [
             "Woolworths Peach In Strawberry Jelly",
             "Woolworths Two Fruits In Tropical Jelly",
             "Woolworths Apple In Pineapple Jelly"
            ],
            [
             "Golden Circle Golden Pash Fruit Drink",
             "Golden Circle Drinks Sunshine Punch Fruit Drink",
             "Golden Circle Fruit Drinks Lunch Box Poppers Tropical Punch Multipack"
            ],
            [
             "Woolworths Secret Burger Sauce",
             "Woolworths Two Fruits In Tropical Jelly",
             "Woolworths Apple In Pineapple Jelly"
            ],
            [
             "Woolworths The King Of Chunky Chocolate Chip Cookies",
             "Arnott's Mini Choc Chip Cookie Multipack Biscuits",
             "Byron Bay Cookies Dotty Cookie Bites"
            ],
            [
             "Maggi 2 Minute Chicken Flavour Instant Noodles",
             "Fantastic Chicken Noodle Bowl"
            ],
            [
             "Woolworths The King Of Chunky Chocolate Chip Cookies",
             "Byron Bay Cookies Dotty Cookie Bites",
             "Woolworths Creamed Rice"
            ],
            [
             "Indomie Mi Goreng Instant Noodles",
             "Fantastic Chicken Noodle Bowl",
             "Indomie Mi Goreng Noodle Cup"
            ],
            [
             "Indomie Mi Goreng Instant Noodles",
             "Fantastic Chicken Noodle Bowl",
             "Indomie Mi Goreng Noodle Cup"
            ],
            [
             "Maggi 2 Minute Chicken Flavour Instant Noodles",
             "Maggi 2 Minute Beef Flavour Instant Noodles"
            ],
            [
             "Maggi 2 Minute Chicken Flavour Instant Noodles",
             "Maggi 2 Minute Beef Flavour Instant Noodles"
            ],
            [
             "Maggi 2 Minute Chicken Flavour Instant Noodles",
             "Fantastic Chicken Noodle Bowl"
            ],
            [
             "Indomie Mi Goreng Instant Noodles",
             "Fantastic Chicken Noodle Bowl",
             "Indomie Mi Goreng Noodle Cup"
            ],
            [
             "Maggi 2 Minute Chicken Flavour Instant Noodles",
             "Thins Cheese & Onion Chips"
            ],
            [
             "Supreme Noodles Cup Chicken Flavour",
             "Fantastic Chicken Noodle Cup",
             "Supreme Noodles Cup Beef Flavour"
            ],
            [
             "Fantastic Chicken Noodle Bowl",
             "Woolworths Chocolate Chip Cookies",
             "Woolworths The King Of Chunky Chocolate Chip Cookies"
            ],
            [
             "Schweppes Lime Soda Water With Lime Juice Bottle",
             "Schweppes Lemon Lime Natural Mineral Water Bottle",
             "Schweppes Orange Mango Natural Mineral Water Bottle"
            ],
            [
             "Kitkat 4 Finger Milk Chocolate Bar",
             "Kitkat Chunky Original Chocolate Bar",
             "Thins Cheese & Onion Chips"
            ],
            [
             "Cadbury Dairy Milk Caramello Koala Chocolate",
             "Cadbury Classic Choc Chip Cookies",
             "Masterfoods Barbecue Sauce"
            ],
            [
             "Arnott's Premier Chocolate Chip Cookies",
             "Arnott's Mini Choc Chip Cookie Multipack Biscuits"
            ],
            [
             "Cadbury Classic Choc Chip Cookies",
             "Cadbury Choc Centre Cookies"
            ],
            [
             "Cadbury Classic Choc Chip Cookies",
             "Byron Bay Cookies Dotty Cookie Bites"
            ],
            [
             "Cadbury Classic Choc Chip Cookies",
             "Cadbury Choc Centre Cookies"
            ],
            [
             "Cadbury Classic Choc Chip Cookies",
             "Cadbury Choc Centre Cookies"
            ],
            [
             "Oreo Minis Cookies Variety Bags 18 Pack",
             "Oreo Neapolitan Double Stuff Cookies"
            ],
            [
             "Woolworths Chocolate Chip Cookies",
             "Woolworths The King Of Chunky Chocolate Chip Cookies"
            ],
            [
             "Woolworths Chocolate Chip Cookies",
             "Woolworths The King Of Chunky Chocolate Chip Cookies"
            ],
            [
             "Woolworths Chocolate Chip Cookies",
             "Woolworths The King Of Chunky Chocolate Chip Cookies"
            ],
            [
             "Kitkat 4 Finger Milk Chocolate Bar",
             "Kitkat Chunky Original Chocolate Bar"
            ],
            [
             "Arnott's Premier Chocolate Chip Cookies",
             "Arnott's Mini Choc Chip Cookie Multipack Biscuits"
            ],
            [
             "Arnott's Premier Chocolate Chip Cookies",
             "Cadbury Choc Centre Cookies"
            ],
            [
             "Arnott's Premier Chocolate Chip Cookies",
             "Arnott's Mini Choc Chip Cookie Multipack Biscuits"
            ],
            [
             "Cadbury Chomp Chocolate Bar",
             "Byron Bay Cookies Dotty Cookie Bites"
            ],
            [
             "Mars Chocolate Bar With Nougat & Caramel",
             "Cadbury Chomp Chocolate Bar"
            ],
            [
             "Cadbury Dairy Milk Caramello Koala Chocolate",
             "Cadbury Chomp Chocolate Bar"
            ],
            [
             "Schweppes Lemon Lime Natural Mineral Water Bottle",
             "Woolworths Multivitamin Juice"
            ],
            [
             "Kitkat 4 Finger Milk Chocolate Bar",
             "Kitkat Chunky Original Chocolate Bar"
            ],
            [
             "Cadbury Classic Choc Chip Cookies",
             "Woolworths Secret Burger Sauce"
            ],
            [
             "Goulburn Valley Two Fruits In Juice",
             "Goulburn Valley Two Fruits In Juice Fruit Cups In Juice"
            ],
            [
             "Golden Circle Drinks Pine Orange Fruit Drink",
             "Golden Circle Drinks Sunshine Punch Fruit Drink"
            ],
            [
             "Golden Circle Drinks Sunshine Punch Fruit Drink",
             "Golden Circle Fruit Drinks Lunch Box Poppers Tropical Punch Multipack"
            ],
            [
             "Schweppes Lemon Lime Natural Mineral Water Bottle",
             "Schweppes Orange Mango Natural Mineral Water Bottle"
            ],
            [
             "Dole Pineapple Slices In Syrup",
             "Dole Pineapple Chunks In Juice"
            ],
            [
             "Goulburn Valley Two Fruits In Juice",
             "Goulburn Valley Two Fruits In Juice Fruit Cups In Juice"
            ],
            [
             "Goulburn Valley Two Fruits In Juice",
             "Goulburn Valley Two Fruits In Juice Fruit Cups In Juice"
            ],
            [
             "Woolworths Two Fruits In Juice Cups",
             "Woolworths Two Fruits In Juice"
            ],
            [
             "Smith's Crinkle Cut Potato Chips Cheese & Onion",
             "Smith's Crinkle Cut Potato Chips Chicken"
            ],
            [
             "Smith's Crinkle Cut Potato Chips Cheese & Onion",
             "Thins Cheese & Onion Chips"
            ],
            [
             "Frantelle Australian Still Spring Water Bottles Multipack",
             "Mount Franklin Spring Water Bottle"
            ],
            [
             "Woolworths Secret Burger Sauce",
             "Woolworths Two Fruits In Tropical Jelly"
            ],
            [
             "Fountain Tomato Sauce Squeeze",
             "Fountain Barbecue Bbq Sauce Squeeze"
            ],
            [
             "Woolworths Barbecue Sauce Squeeze",
             "Woolworths Barbecue Sauce"
            ],
            [
             "Woolworths Barbecue Sauce Squeeze",
             "Woolworths Barbecue Sauce"
            ],
            [
             "Woolworths Barbecue Sauce Squeeze",
             "Woolworths Barbecue Sauce"
            ],
            [
             "Woolworths Barbecue Sauce Squeeze",
             "Masterfoods Tomato Sauce"
            ],
            [
             "Woolworths Tomato Sauce Squeeze",
             "Woolworths Tomato Sauce"
            ],
            [
             "Essentials Coconut Cream",
             "Essentials Coconut Milk"
            ],
            [
             "Woolworths Diced Italian Tomatoes"
            ],
            [
             "Schweppes Lemon Lime Natural Mineral Water Bottle",
             "Schweppes Orange Mango Natural Mineral Water Bottle"
            ],
            [
             "Cadbury Classic Choc Chip Cookies",
             "Cadbury Choc Centre Cookies"
            ],
            [
             "Schweppes Lemon Lime Natural Mineral Water Bottle",
             "Schweppes Orange Mango Natural Mineral Water Bottle"
            ],
            [
             "Indomie Mi Goreng Instant Noodles",
             "Indomie Mi Goreng Noodle Cup"
            ],
            [
             "Indomie Mi Goreng Instant Noodles",
             "Indomie Mi Goreng Noodle Cup"
            ],
            [
             "Indomie Mi Goreng Instant Noodles",
             "Indomie Mi Goreng Noodle Cup"
            ],
            [
             "Indomie Mi Goreng Instant Noodles",
             "Indomie Mi Goreng Noodle Cup"
            ],
            [
             "Indomie Mi Goreng Instant Noodles",
             "Indomie Mi Goreng Noodle Cup"
            ],
            [
             "Indomie Mi Goreng Instant Noodles",
             "Indomie Mi Goreng Noodle Cup"
            ],
            [
             "Indomie Mi Goreng Instant Noodles",
             "Indomie Mi Goreng Noodle Cup"
            ],
            [
             "Indomie Mi Goreng Instant Noodles",
             "Indomie Mi Goreng Noodle Cup"
            ],
            [
             "Indomie Mi Goreng Instant Noodles",
             "Indomie Mi Goreng Noodle Cup"
            ],
            [
             "Indomie Mi Goreng Instant Noodles",
             "Indomie Mi Goreng Noodle Cup"
            ],
            [
             "Indomie Mi Goreng Instant Noodles",
             "Indomie Mi Goreng Noodle Cup"
            ],
            [
             "Indomie Mi Goreng Instant Noodles",
             "Indomie Mi Goreng Noodle Cup"
            ],
            [
             "Indomie Mi Goreng Instant Noodles",
             "Indomie Mi Goreng Noodle Cup"
            ],
            [
             "Indomie Mi Goreng Instant Noodles",
             "Indomie Mi Goreng Noodle Cup"
            ],
            [
             "Indomie Mi Goreng Instant Noodles",
             "Indomie Mi Goreng Noodle Cup"
            ],
            [
             "Indomie Mi Goreng Instant Noodles",
             "Indomie Mi Goreng Noodle Cup"
            ],
            [
             "Indomie Mi Goreng Instant Noodles",
             "Indomie Mi Goreng Noodle Cup"
            ],
            [
             "Schweppes Lime Soda Water With Lime Juice Bottle",
             "Schweppes Lemon Lime Natural Mineral Water Bottle"
            ],
            [
             "Indomie Mi Goreng Instant Noodles",
             "Indomie Mi Goreng Noodle Cup"
            ],
            [
             "Indomie Mi Goreng Instant Noodles",
             "Indomie Mi Goreng Noodle Cup"
            ],
            [
             "Maggi 2 Minute Chicken Flavour Instant Noodles",
             "Oreo Neapolitan Double Stuff Cookies"
            ],
            [
             "Fantastic Chicken Noodle Cup",
             "Fantastic Chicken Noodle Bowl"
            ],
            [
             "Maggi 2 Minute Chicken Flavour Instant Noodles"
            ],
            [
             "Schweppes Lime Soda Water With Lime Juice Bottle",
             "Schweppes Orange Mango Natural Mineral Water Bottle"
            ],
            [
             "Schweppes Indian Tonic Water Classic Mixers Bottle",
             "Schweppes Zero Sugar Classic Mixers Indian Tonic Water Bottle"
            ],
            [
             "Schweppes Indian Tonic Water Classic Mixers Bottle",
             "Schweppes Zero Sugar Classic Mixers Indian Tonic Water Bottle"
            ],
            [
             "Schweppes Indian Tonic Water Classic Mixers Bottle",
             "Schweppes Zero Sugar Classic Mixers Indian Tonic Water Bottle"
            ],
            [
             "Schweppes Indian Tonic Water Classic Mixers Bottle",
             "Schweppes Zero Sugar Classic Mixers Indian Tonic Water Bottle"
            ],
            [
             "Schweppes Zero Sugar Lime Infused Mineral Water Bottle",
             "Schweppes Raspberry Infused Natural Mineral Water Bottle"
            ],
            [
             "Fantastic Chicken Noodle Bowl",
             "Supreme Noodles Cup Beef Flavour"
            ],
            [
             "Schweppes Indian Tonic Water Classic Mixers Bottle",
             "Schweppes Zero Sugar Classic Mixers Indian Tonic Water Bottle"
            ],
            [
             "Supreme Noodles Cup Chicken Flavour",
             "Fantastic Chicken Noodle Cup"
            ],
            [
             "Maggi 2 Minute Chicken Flavour Instant Noodles"
            ],
            [
             "Maggi 2 Minute Chicken Flavour Instant Noodles",
             "Cadbury Classic Choc Chip Cookies"
            ],
            [
             "Maggi 2 Minute Chicken Flavour Instant Noodles"
            ],
            [
             "Maggi 2 Minute Chicken Flavour Instant Noodles"
            ],
            [
             "Maggi 2 Minute Chicken Flavour Instant Noodles"
            ],
            [
             "Maggi 2 Minute Chicken Flavour Instant Noodles"
            ],
            [
             "Maggi 2 Minute Chicken Flavour Instant Noodles",
             "Maggi 2 Minute Beef Flavour Instant Noodles"
            ],
            [
             "Essentials Coconut Cream"
            ],
            [
             "Woolworths Uht Full Cream Milk"
            ],
            [
             "Deep Cove Sardines In Oil"
            ],
            [
             "Woolworths Creamed Rice"
            ],
            [
             "Woolworths Creamed Rice"
            ],
            [
             "Woolworths Creamed Rice"
            ],
            [
             "Essentials Coconut Milk"
            ],
            [
             "Masterfoods Barbecue Sauce"
            ],
            [
             "Woolworths Barbecue Sauce Squeeze"
            ],
            [
             "Woolworths Barbecue Sauce Squeeze"
            ],
            [
             "Masterfoods Barbecue Sauce"
            ],
            [
             "Masterfoods Barbecue Sauce"
            ],
            [
             "Masterfoods Barbecue Sauce"
            ],
            [
             "Masterfoods Barbecue Sauce"
            ],
            [
             "Masterfoods Barbecue Sauce"
            ],
            [
             "Fountain Tomato Sauce Squeeze"
            ],
            [
             "Woolworths Lasagne Sheets"
            ],
            [
             "Woolworths Multivitamin Juice"
            ],
            [
             "Oreo Grab & Go Original Cookies 9 Pack"
            ],
            [
             "Oreo Grab & Go Original Cookies 9 Pack"
            ],
            [
             "Fountain Barbecue Bbq Sauce Squeeze"
            ],
            [
             "Rimmel Scandaleyes Eye Definer Brown"
            ],
            [
             "Rimmel Scandaleyes Eye Definer Brown"
            ],
            [
             "Rimmel Scandaleyes Eye Definer Brown"
            ],
            [
             "Woolworths Apple Juice"
            ],
            [
             "Woolworths Breakfast Juice"
            ],
            [
             "Woolworths Apple & Blackcurrant Juice"
            ],
            [
             "Woolworths Apple & Blackcurrant Juice"
            ],
            [
             "Woolworths Multivitamin Juice"
            ],
            [
             "Woolworths Multivitamin Juice"
            ],
            [
             "Woolworths Multivitamin Juice"
            ],
            [
             "Woolworths Multivitamin Juice"
            ],
            [
             "Golden Circle Drinks Sunshine Punch Fruit Drink"
            ],
            [
             "Norco Full Cream Milk"
            ],
            [
             "Pauls Farmhouse Gold Full Cream Milk"
            ],
            [
             "Fountain Barbecue Bbq Sauce Squeeze"
            ],
            [
             "Smith's Crinkle Cut Potato Chips Salt & Vinegar"
            ],
            [
             "Fountain Barbecue Bbq Sauce Squeeze"
            ],
            [
             "Thins Chips Light & Tangy"
            ],
            [
             "Thins Chips Light & Tangy"
            ],
            [
             "Thins Cheese & Onion Chips"
            ],
            [
             "Thins Cheese & Onion Chips"
            ],
            [
             "Woolworths Peach In Strawberry Jelly"
            ],
            [
             "Woolworths Peach In Strawberry Jelly"
            ],
            [
             "Woolworths Two Fruits In Juice"
            ],
            [
             "Woolworths Two Fruits In Juice"
            ],
            [
             "Woolworths Two Fruits In Juice"
            ],
            [
             "Woolworths Two Fruits In Juice"
            ],
            [
             "Woolworths Two Fruits In Tropical Jelly"
            ],
            [
             "Woolworths Two Fruits In Tropical Jelly"
            ],
            [
             "Woolworths Apple In Pineapple Jelly"
            ],
            [
             "Woolworths Apple In Pineapple Jelly"
            ],
            [
             "Dole Pineapple Slices In Syrup"
            ],
            [
             "Dole Pineapple Chunks In Juice"
            ],
            [
             "Thins Chips Light & Tangy"
            ],
            [
             "Rimmel Scandaleyes Eye Definer Brown"
            ],
            [
             "Woolworths Secret Burger Sauce"
            ],
            [
             "Thins Chips Chicken"
            ],
            [
             "Woolworths Secret Burger Sauce"
            ],
            [
             "Woolworths Secret Burger Sauce"
            ],
            [
             "Woolworths Secret Burger Sauce"
            ],
            [
             "Woolworths Secret Burger Sauce"
            ],
            [
             "Woolworths Secret Burger Sauce"
            ],
            [
             "Woolworths Secret Burger Sauce"
            ],
            [
             "Woolworths Secret Burger Sauce"
            ],
            [
             "Heinz Ketchup Tomato Sauce Ketchup"
            ],
            [
             "Woolworths Barbecue Sauce"
            ],
            [
             "Woolworths Barbecue Sauce"
            ],
            [
             "Smith's Crinkle Cut Potato Chips Barbecue"
            ],
            [
             "Smith's Crinkle Cut Potato Chips Barbecue"
            ],
            [
             "Smith's Crinkle Cut Potato Chips Chicken"
            ],
            [
             "Smith's Crinkle Cut Potato Chips Chicken"
            ],
            [
             "Thins Chips Chicken"
            ],
            [
             "Rimmel Scandaleyes Eye Definer Brown"
            ],
            [
             "Byron Bay Cookies Dotty Cookie Bites"
            ],
            [
             "Rimmel Scandaleyes Eye Definer Brown"
            ],
            [
             "Schweppes Lime Soda Water With Lime Juice Bottle"
            ],
            [
             "Schweppes Lemon Lime Natural Mineral Water Bottle"
            ],
            [
             "Schweppes Orange Mango Natural Mineral Water Bottle"
            ],
            [
             "Schweppes Orange Mango Natural Mineral Water Bottle"
            ],
            [
             "Schweppes Orange Mango Natural Mineral Water Bottle"
            ],
            [
             "Schweppes Orange Mango Natural Mineral Water Bottle"
            ],
            [
             "Kitkat 4 Finger Milk Chocolate Bar"
            ],
            [
             "Kitkat Chunky Original Chocolate Bar"
            ],
            [
             "Cadbury Dairy Milk Caramello Koala Chocolate"
            ],
            [
             "Cadbury Dairy Milk Caramello Koala Chocolate"
            ],
            [
             "Cadbury Dairy Milk Caramello Koala Chocolate"
            ],
            [
             "Twix Milk Chocolate Bar With Caramel Biscuit"
            ],
            [
             "Twix Milk Chocolate Bar With Caramel Biscuit"
            ],
            [
             "Twix Milk Chocolate Bar With Caramel Biscuit"
            ],
            [
             "Mars Chocolate Bar With Nougat & Caramel"
            ],
            [
             "Mars Chocolate Bar With Nougat & Caramel"
            ],
            [
             "Schweppes Lemon Lime Natural Mineral Water Bottle"
            ],
            [
             "Schweppes Lime Soda Water With Lime Juice Bottle"
            ],
            [
             "Cadbury Chomp Chocolate Bar"
            ],
            [
             "Schweppes Lime Soda Water With Lime Juice Bottle"
            ],
            [
             "Coca - Cola Caffeine Free Zero Sugar Soft Drink Multipack Cans"
            ],
            [
             "Maggi 2 Minute Chicken Flavour Instant Noodles"
            ],
            [
             "Maggi 2 Minute Chicken Flavour Instant Noodles"
            ],
            [
             "Fantastic Chicken Noodle Cup"
            ],
            [
             "Fantastic Chicken Noodle Cup"
            ],
            [
             "Fantastic Chicken Noodle Bowl"
            ],
            [
             "Fantastic Chicken Noodle Bowl"
            ],
            [
             "Fantastic Chicken Noodle Bowl"
            ],
            [
             "Maggi 2 Minute Beef Flavour Instant Noodles"
            ],
            [
             "Maggi 2 Minute Beef Flavour Instant Noodles"
            ],
            [
             "Maggi 2 Minute Beef Flavour Instant Noodles"
            ],
            [
             "Supreme Noodles Cup Beef Flavour"
            ],
            [
             "Supreme Noodles Cup Beef Flavour"
            ],
            [
             "Schweppes Natural Mineral Water Bottle Natural"
            ],
            [
             "Schweppes Soda Water Bottle Classic Mixers"
            ],
            [
             "Mars Chocolate Bar With Nougat & Caramel"
            ],
            [
             "Cadbury Chomp Chocolate Bar"
            ],
            [
             "Rimmel Scandaleyes Eye Definer Brown"
            ],
            [
             "Byron Bay Cookies Dotty Cookie Bites"
            ],
            [
             "Byron Bay Cookies Dotty Cookie Bites"
            ],
            [
             "Byron Bay Cookies Dotty Cookie Bites"
            ],
            [
             "Byron Bay Cookies Dotty Cookie Bites"
            ],
            [
             "Byron Bay Cookies Dotty Cookie Bites"
            ],
            [
             "Byron Bay Cookies Dotty Cookie Bites"
            ],
            [
             "Rimmel Scandaleyes Eye Definer Brown"
            ],
            [
             "Rimmel Scandaleyes Eye Definer Brown"
            ],
            [
             "Rimmel Scandaleyes Eye Definer Brown"
            ],
            [
             "Rimmel Scandaleyes Eye Definer Brown"
            ],
            [
             "Rimmel Scandaleyes Eye Definer Brown"
            ],
            [
             "Rimmel Scandaleyes Eye Definer Brown"
            ],
            [
             "Rimmel Scandaleyes Eye Definer Brown"
            ],
            [
             "Rimmel Scandaleyes Eye Definer Brown"
            ],
            [
             "Rimmel Scandaleyes Eye Definer Brown"
            ],
            [
             "Rimmel Scandaleyes Eye Definer Brown"
            ],
            [
             "Byron Bay Cookies Dotty Cookie Bites"
            ],
            [
             "Byron Bay Cookies Dotty Cookie Bites"
            ],
            [
             "Arnott's Premier Chocolate Chip Cookies"
            ],
            [
             "Byron Bay Cookies Dotty Cookie Bites"
            ],
            [
             "Arnott's Premier Chocolate Chip Cookies"
            ],
            [
             "Woolworths Chocolate Chip Cookies"
            ],
            [
             "Woolworths Chocolate Chip Cookies"
            ],
            [
             "Woolworths Chocolate Chip Cookies"
            ],
            [
             "Woolworths Chocolate Chip Cookies"
            ],
            [
             "Woolworths Chocolate Chip Cookies"
            ],
            [
             "Woolworths The King Of Chunky Chocolate Chip Cookies"
            ],
            [
             "Woolworths The King Of Chunky Chocolate Chip Cookies"
            ],
            [
             "Woolworths The King Of Chunky Chocolate Chip Cookies"
            ],
            [
             "Arnott's Mini Choc Chip Cookie Multipack Biscuits"
            ],
            [
             "Arnott's Mini Choc Chip Cookie Multipack Biscuits"
            ],
            [
             "Oreo Minis Cookies Variety Bags 18 Pack"
            ],
            [
             "Cadbury Classic Choc Chip Cookies"
            ],
            [
             "Cadbury Choc Centre Cookies"
            ],
            [
             "Cadbury Choc Centre Cookies"
            ],
            [
             "Dole Pineapple Chunks In Juice"
            ]
           ],
           [
            0.3188405797101449,
            0.24154589371980675,
            0.14009661835748793,
            0.13043478260869565,
            0.12077294685990338,
            0.10628019323671498,
            0.09178743961352658,
            0.08695652173913043,
            0.07729468599033816,
            0.07729468599033816,
            0.06763285024154589,
            0.06763285024154589,
            0.06280193236714976,
            0.057971014492753624,
            0.057971014492753624,
            0.057971014492753624,
            0.057971014492753624,
            0.057971014492753624,
            0.057971014492753624,
            0.057971014492753624,
            0.05314009661835749,
            0.05314009661835749,
            0.05314009661835749,
            0.04830917874396135,
            0.04830917874396135,
            0.04830917874396135,
            0.04830917874396135,
            0.04830917874396135,
            0.04830917874396135,
            0.04830917874396135,
            0.043478260869565216,
            0.043478260869565216,
            0.043478260869565216,
            0.043478260869565216,
            0.03864734299516908,
            0.03864734299516908,
            0.03864734299516908,
            0.03864734299516908,
            0.03864734299516908,
            0.03864734299516908,
            0.033816425120772944,
            0.033816425120772944,
            0.033816425120772944,
            0.033816425120772944,
            0.033816425120772944,
            0.033816425120772944,
            0.033816425120772944,
            0.028985507246376812,
            0.028985507246376812,
            0.028985507246376812,
            0.028985507246376812,
            0.028985507246376812,
            0.024154589371980676,
            0.024154589371980676,
            0.024154589371980676,
            0.024154589371980676,
            0.024154589371980676,
            0.024154589371980676,
            0.024154589371980676,
            0.024154589371980676,
            0.024154589371980676,
            0.024154589371980676,
            0.01932367149758454,
            0.01932367149758454,
            0.01932367149758454,
            0.01932367149758454,
            0.01932367149758454,
            0.01932367149758454,
            0.01932367149758454,
            0.01932367149758454,
            0.01932367149758454,
            0.01932367149758454,
            0.01932367149758454,
            0.01932367149758454,
            0.01932367149758454,
            0.01932367149758454,
            0.01932367149758454,
            0.01932367149758454,
            0.014492753623188406,
            0.014492753623188406,
            0.014492753623188406,
            0.014492753623188406,
            0.014492753623188406,
            0.014492753623188406,
            0.014492753623188406,
            0.014492753623188406,
            0.014492753623188406,
            0.014492753623188406,
            0.014492753623188406,
            0.014492753623188406,
            0.014492753623188406,
            0.014492753623188406,
            0.014492753623188406,
            0.014492753623188406,
            0.014492753623188406,
            0.014492753623188406,
            0.014492753623188406,
            0.014492753623188406,
            0.014492753623188406,
            0.014492753623188406,
            0.014492753623188406,
            0.014492753623188406,
            0.014492753623188406,
            0.014492753623188406,
            0.014492753623188406,
            0.014492753623188406,
            0.014492753623188406,
            0.014492753623188406,
            0.00966183574879227,
            0.00966183574879227,
            0.00966183574879227,
            0.00966183574879227,
            0.00966183574879227,
            0.00966183574879227,
            0.00966183574879227,
            0.00966183574879227,
            0.00966183574879227,
            0.00966183574879227,
            0.00966183574879227,
            0.00966183574879227,
            0.00966183574879227,
            0.00966183574879227,
            0.00966183574879227,
            0.00966183574879227,
            0.00966183574879227,
            0.00966183574879227,
            0.00966183574879227,
            0.00966183574879227,
            0.00966183574879227,
            0.00966183574879227,
            0.00966183574879227,
            0.00966183574879227,
            0.00966183574879227,
            0.00966183574879227,
            0.00966183574879227,
            0.00966183574879227,
            0.00966183574879227,
            0.00966183574879227,
            0.00966183574879227,
            0.00966183574879227,
            0.00966183574879227,
            0.00966183574879227,
            0.00966183574879227,
            0.00966183574879227,
            0.00966183574879227,
            0.00966183574879227,
            0.00966183574879227,
            0.00966183574879227,
            0.00966183574879227,
            0.00966183574879227,
            0.00966183574879227,
            0.00966183574879227,
            0.00966183574879227,
            0.00966183574879227,
            0.00966183574879227,
            0.00966183574879227,
            0.00966183574879227,
            0.00966183574879227,
            0.00966183574879227,
            0.00966183574879227,
            0.00966183574879227,
            0.00966183574879227,
            0.00966183574879227,
            0.00966183574879227,
            0.00966183574879227,
            0.00966183574879227,
            0.00966183574879227,
            0.00966183574879227,
            0.00966183574879227,
            0.00966183574879227,
            0.00966183574879227,
            0.00966183574879227,
            0.00966183574879227,
            0.00966183574879227,
            0.00966183574879227,
            0.00966183574879227,
            0.00966183574879227,
            0.00966183574879227,
            0.00966183574879227,
            0.00966183574879227,
            0.00966183574879227,
            0.00966183574879227,
            0.00966183574879227,
            0.00966183574879227,
            0.00966183574879227,
            0.00966183574879227,
            0.00966183574879227,
            0.00966183574879227,
            0.00966183574879227,
            0.004830917874396135,
            0.004830917874396135,
            0.004830917874396135,
            0.004830917874396135,
            0.004830917874396135,
            0.004830917874396135,
            0.004830917874396135,
            0.004830917874396135,
            0.004830917874396135,
            0.004830917874396135,
            0.004830917874396135,
            0.004830917874396135,
            0.004830917874396135,
            0.004830917874396135,
            0.004830917874396135,
            0.004830917874396135,
            0.004830917874396135,
            0.004830917874396135,
            0.004830917874396135,
            0.004830917874396135,
            0.004830917874396135,
            0.004830917874396135,
            0.004830917874396135,
            0.004830917874396135,
            0.004830917874396135,
            0.004830917874396135,
            0.004830917874396135,
            0.004830917874396135,
            0.004830917874396135,
            0.004830917874396135,
            0.004830917874396135,
            0.004830917874396135,
            0.004830917874396135,
            0.004830917874396135,
            0.004830917874396135,
            0.004830917874396135,
            0.004830917874396135,
            0.004830917874396135,
            0.004830917874396135,
            0.004830917874396135,
            0.004830917874396135,
            0.004830917874396135,
            0.004830917874396135,
            0.004830917874396135,
            0.004830917874396135,
            0.004830917874396135,
            0.004830917874396135,
            0.004830917874396135,
            0.004830917874396135,
            0.004830917874396135,
            0.004830917874396135,
            0.004830917874396135,
            0.004830917874396135,
            0.004830917874396135,
            0.004830917874396135,
            0.004830917874396135,
            0.004830917874396135,
            0.004830917874396135,
            0.004830917874396135,
            0.004830917874396135,
            0.004830917874396135,
            0.004830917874396135,
            0.004830917874396135,
            0.004830917874396135,
            0.004830917874396135,
            0.004830917874396135,
            0.004830917874396135,
            0.004830917874396135,
            0.004830917874396135,
            0.004830917874396135,
            0.004830917874396135,
            0.004830917874396135,
            0.004830917874396135,
            0.004830917874396135,
            0.004830917874396135,
            0.004830917874396135,
            0.004830917874396135,
            0.004830917874396135,
            0.004830917874396135,
            0.004830917874396135,
            0.004830917874396135,
            0.004830917874396135,
            0.004830917874396135,
            0.004830917874396135,
            0.004830917874396135,
            0.004830917874396135,
            0.004830917874396135,
            0.004830917874396135,
            0.004830917874396135,
            0.004830917874396135,
            0.004830917874396135,
            0.004830917874396135,
            0.004830917874396135,
            0.004830917874396135,
            0.004830917874396135,
            0.004830917874396135,
            0.004830917874396135,
            0.004830917874396135,
            0.004830917874396135,
            0.004830917874396135,
            0.004830917874396135,
            0.004830917874396135,
            0.004830917874396135,
            0.004830917874396135,
            0.004830917874396135,
            0.004830917874396135,
            0.004830917874396135,
            0.004830917874396135,
            0.004830917874396135,
            0.004830917874396135,
            0.004830917874396135,
            0.004830917874396135,
            0.004830917874396135,
            0.004830917874396135,
            0.004830917874396135,
            0.004830917874396135,
            0.004830917874396135,
            0.004830917874396135,
            0.004830917874396135,
            0.004830917874396135,
            0.004830917874396135,
            0.004830917874396135,
            0.004830917874396135,
            0.004830917874396135,
            0.004830917874396135,
            0.004830917874396135,
            0.004830917874396135,
            0.004830917874396135,
            0.004830917874396135,
            0.004830917874396135,
            0.004830917874396135,
            0.004830917874396135,
            0.004830917874396135,
            0.004830917874396135,
            0.004830917874396135,
            0.004830917874396135,
            0.004830917874396135,
            0.004830917874396135,
            0.004830917874396135,
            0.004830917874396135,
            0.004830917874396135,
            0.004830917874396135,
            0.004830917874396135,
            0.004830917874396135,
            0.004830917874396135,
            0.004830917874396135,
            0.004830917874396135,
            0.004830917874396135,
            0.004830917874396135,
            0.004830917874396135
           ],
           [
            "Group 45",
            "Group 72",
            "Group 21",
            "Group 11",
            "Group 212",
            "Group 215",
            "Group 254",
            "Group 14",
            "Group 209",
            "Group 254",
            "Group 266",
            "Group 37",
            "Group 152",
            "Group 249",
            "Group 287",
            "Group 248",
            "Group 62",
            "Group 163",
            "Group 141",
            "Group 133",
            "Group 241",
            "Group 208",
            "Group 247",
            "Group 205",
            "Group 107",
            "Group 15",
            "Group 301",
            "Group 22",
            "Group 2",
            "Group 121",
            "Group 275",
            "Group 111",
            "Group 235",
            "Group 202",
            "Group 1",
            "Group 34",
            "Group 76",
            "Group 169",
            "Group 161",
            "Group 114",
            "Group 13",
            "Group 171",
            "Group 98",
            "Group 196",
            "Group 198",
            "Group 102",
            "Group 273",
            "Group 134",
            "Group 43",
            "Group 60",
            "Group 307",
            "Group 286",
            "Group 197",
            "Group 162",
            "Group 25",
            "Group 97",
            "Group 93",
            "Group 58",
            "Group 254",
            "Group 56",
            "Group 295",
            "Group 48",
            "Group 226",
            "Group 125",
            "Group 292",
            "Group 291",
            "Group 306",
            "Group 31",
            "Group 94",
            "Group 139",
            "Group 86",
            "Group 158",
            "Group 157",
            "Group 128",
            "Group 187",
            "Group 184",
            "Group 122",
            "Group 194",
            "Group 260",
            "Group 50",
            "Group 154",
            "Group 306",
            "Group 254",
            "Group 59",
            "Group 60",
            "Group 177",
            "Group 4",
            "Group 103",
            "Group 110",
            "Group 274",
            "Group 172",
            "Group 110",
            "Group 261",
            "Group 168",
            "Group 204",
            "Group 137",
            "Group 222",
            "Group 297",
            "Group 156",
            "Group 159",
            "Group 203",
            "Group 221",
            "Group 24",
            "Group 231",
            "Group 296",
            "Group 63",
            "Group 3",
            "Group 190",
            "Group 293",
            "Group 53",
            "Group 219",
            "Group 217",
            "Group 166",
            "Group 264",
            "Group 300",
            "Group 61",
            "Group 132",
            "Group 62",
            "Group 284",
            "Group 9",
            "Group 227",
            "Group 57",
            "Group 10",
            "Group 41",
            "Group 88",
            "Group 250",
            "Group 32",
            "Group 82",
            "Group 124",
            "Group 95",
            "Group 308",
            "Group 120",
            "Group 225",
            "Group 224",
            "Group 85",
            "Group 206",
            "Group 259",
            "Group 285",
            "Group 129",
            "Group 306",
            "Group 4",
            "Group 64",
            "Group 269",
            "Group 28",
            "Group 84",
            "Group 245",
            "Group 29",
            "Group 109",
            "Group 240",
            "Group 267",
            "Group 200",
            "Group 254",
            "Group 306",
            "Group 35",
            "Group 258",
            "Group 257",
            "Group 68",
            "Group 55",
            "Group 42",
            "Group 70",
            "Group 288",
            "Group 69",
            "Group 244",
            "Group 187",
            "Group 62",
            "Group 302",
            "Group 77",
            "Group 87",
            "Group 106",
            "Group 303",
            "Group 181",
            "Group 228",
            "Group 236",
            "Group 44",
            "Group 148",
            "Group 151",
            "Group 149",
            "Group 145",
            "Group 267",
            "Group 282",
            "Group 104",
            "Group 189",
            "Group 232",
            "Group 108",
            "Group 211",
            "Group 49",
            "Group 51",
            "Group 52",
            "Group 277",
            "Group 187",
            "Group 183",
            "Group 71",
            "Group 75",
            "Group 66",
            "Group 304",
            "Group 187",
            "Group 270",
            "Group 91",
            "Group 289",
            "Group 12",
            "Group 124",
            "Group 36",
            "Group 252",
            "Group 136",
            "Group 26",
            "Group 220",
            "Group 101",
            "Group 38",
            "Group 199",
            "Group 175",
            "Group 213",
            "Group 308",
            "Group 264",
            "Group 102",
            "Group 265",
            "Group 100",
            "Group 298",
            "Group 99",
            "Group 96",
            "Group 186",
            "Group 16",
            "Group 92",
            "Group 126",
            "Group 234",
            "Group 173",
            "Group 164",
            "Group 4",
            "Group 19",
            "Group 276",
            "Group 178",
            "Group 130",
            "Group 138",
            "Group 251",
            "Group 81",
            "Group 80",
            "Group 79",
            "Group 78",
            "Group 144",
            "Group 146",
            "Group 179",
            "Group 290",
            "Group 254",
            "Group 119",
            "Group 195",
            "Group 180",
            "Group 17",
            "Group 20",
            "Group 4",
            "Group 201",
            "Group 193",
            "Group 109",
            "Group 223",
            "Group 185",
            "Group 153",
            "Group 6",
            "Group 90",
            "Group 89",
            "Group 27",
            "Group 131",
            "Group 210",
            "Group 24",
            "Group 191",
            "Group 30",
            "Group 262",
            "Group 23",
            "Group 118",
            "Group 73",
            "Group 287",
            "Group 263",
            "Group 176",
            "Group 294",
            "Group 105",
            "Group 256",
            "Group 188",
            "Group 182",
            "Group 305",
            "Group 167",
            "Group 272",
            "Group 279",
            "Group 283",
            "Group 218",
            "Group 60",
            "Group 117",
            "Group 216",
            "Group 147",
            "Group 40",
            "Group 127",
            "Group 268",
            "Group 207",
            "Group 18",
            "Group 155",
            "Group 160",
            "Group 243",
            "Group 54",
            "Group 7",
            "Group 74",
            "Group 242",
            "Group 271",
            "Group 140",
            "Group 112",
            "Group 142",
            "Group 214",
            "Group 170",
            "Group 237",
            "Group 281",
            "Group 83",
            "Group 278",
            "Group 233",
            "Group 174",
            "Group 308",
            "Group 115",
            "Group 39",
            "Group 308",
            "Group 280",
            "Group 308",
            "Group 116",
            "Group 67",
            "Group 135",
            "Group 123",
            "Group 238",
            "Group 192",
            "Group 113",
            "Group 165",
            "Group 239",
            "Group 229",
            "Group 246",
            "Group 8",
            "Group 5",
            "Group 299",
            "Group 230",
            "Group 143",
            "Group 150",
            "Group 255",
            "Group 65",
            "Group 46",
            "Group 47",
            "Group 254",
            "Group 33",
            "Group 253"
           ]
          ]
         },
         "header": {
          "values": [
           "HighFrequencyIngredientResearch",
           "Product Count",
           "Products",
           "Frequency Ratio",
           "Group"
          ]
         },
         "type": "table"
        }
       ],
       "layout": {
        "template": {
         "data": {
          "bar": [
           {
            "error_x": {
             "color": "#2a3f5f"
            },
            "error_y": {
             "color": "#2a3f5f"
            },
            "marker": {
             "line": {
              "color": "#E5ECF6",
              "width": 0.5
             },
             "pattern": {
              "fillmode": "overlay",
              "size": 10,
              "solidity": 0.2
             }
            },
            "type": "bar"
           }
          ],
          "barpolar": [
           {
            "marker": {
             "line": {
              "color": "#E5ECF6",
              "width": 0.5
             },
             "pattern": {
              "fillmode": "overlay",
              "size": 10,
              "solidity": 0.2
             }
            },
            "type": "barpolar"
           }
          ],
          "carpet": [
           {
            "aaxis": {
             "endlinecolor": "#2a3f5f",
             "gridcolor": "white",
             "linecolor": "white",
             "minorgridcolor": "white",
             "startlinecolor": "#2a3f5f"
            },
            "baxis": {
             "endlinecolor": "#2a3f5f",
             "gridcolor": "white",
             "linecolor": "white",
             "minorgridcolor": "white",
             "startlinecolor": "#2a3f5f"
            },
            "type": "carpet"
           }
          ],
          "choropleth": [
           {
            "colorbar": {
             "outlinewidth": 0,
             "ticks": ""
            },
            "type": "choropleth"
           }
          ],
          "contour": [
           {
            "colorbar": {
             "outlinewidth": 0,
             "ticks": ""
            },
            "colorscale": [
             [
              0,
              "#0d0887"
             ],
             [
              0.1111111111111111,
              "#46039f"
             ],
             [
              0.2222222222222222,
              "#7201a8"
             ],
             [
              0.3333333333333333,
              "#9c179e"
             ],
             [
              0.4444444444444444,
              "#bd3786"
             ],
             [
              0.5555555555555556,
              "#d8576b"
             ],
             [
              0.6666666666666666,
              "#ed7953"
             ],
             [
              0.7777777777777778,
              "#fb9f3a"
             ],
             [
              0.8888888888888888,
              "#fdca26"
             ],
             [
              1,
              "#f0f921"
             ]
            ],
            "type": "contour"
           }
          ],
          "contourcarpet": [
           {
            "colorbar": {
             "outlinewidth": 0,
             "ticks": ""
            },
            "type": "contourcarpet"
           }
          ],
          "heatmap": [
           {
            "colorbar": {
             "outlinewidth": 0,
             "ticks": ""
            },
            "colorscale": [
             [
              0,
              "#0d0887"
             ],
             [
              0.1111111111111111,
              "#46039f"
             ],
             [
              0.2222222222222222,
              "#7201a8"
             ],
             [
              0.3333333333333333,
              "#9c179e"
             ],
             [
              0.4444444444444444,
              "#bd3786"
             ],
             [
              0.5555555555555556,
              "#d8576b"
             ],
             [
              0.6666666666666666,
              "#ed7953"
             ],
             [
              0.7777777777777778,
              "#fb9f3a"
             ],
             [
              0.8888888888888888,
              "#fdca26"
             ],
             [
              1,
              "#f0f921"
             ]
            ],
            "type": "heatmap"
           }
          ],
          "heatmapgl": [
           {
            "colorbar": {
             "outlinewidth": 0,
             "ticks": ""
            },
            "colorscale": [
             [
              0,
              "#0d0887"
             ],
             [
              0.1111111111111111,
              "#46039f"
             ],
             [
              0.2222222222222222,
              "#7201a8"
             ],
             [
              0.3333333333333333,
              "#9c179e"
             ],
             [
              0.4444444444444444,
              "#bd3786"
             ],
             [
              0.5555555555555556,
              "#d8576b"
             ],
             [
              0.6666666666666666,
              "#ed7953"
             ],
             [
              0.7777777777777778,
              "#fb9f3a"
             ],
             [
              0.8888888888888888,
              "#fdca26"
             ],
             [
              1,
              "#f0f921"
             ]
            ],
            "type": "heatmapgl"
           }
          ],
          "histogram": [
           {
            "marker": {
             "pattern": {
              "fillmode": "overlay",
              "size": 10,
              "solidity": 0.2
             }
            },
            "type": "histogram"
           }
          ],
          "histogram2d": [
           {
            "colorbar": {
             "outlinewidth": 0,
             "ticks": ""
            },
            "colorscale": [
             [
              0,
              "#0d0887"
             ],
             [
              0.1111111111111111,
              "#46039f"
             ],
             [
              0.2222222222222222,
              "#7201a8"
             ],
             [
              0.3333333333333333,
              "#9c179e"
             ],
             [
              0.4444444444444444,
              "#bd3786"
             ],
             [
              0.5555555555555556,
              "#d8576b"
             ],
             [
              0.6666666666666666,
              "#ed7953"
             ],
             [
              0.7777777777777778,
              "#fb9f3a"
             ],
             [
              0.8888888888888888,
              "#fdca26"
             ],
             [
              1,
              "#f0f921"
             ]
            ],
            "type": "histogram2d"
           }
          ],
          "histogram2dcontour": [
           {
            "colorbar": {
             "outlinewidth": 0,
             "ticks": ""
            },
            "colorscale": [
             [
              0,
              "#0d0887"
             ],
             [
              0.1111111111111111,
              "#46039f"
             ],
             [
              0.2222222222222222,
              "#7201a8"
             ],
             [
              0.3333333333333333,
              "#9c179e"
             ],
             [
              0.4444444444444444,
              "#bd3786"
             ],
             [
              0.5555555555555556,
              "#d8576b"
             ],
             [
              0.6666666666666666,
              "#ed7953"
             ],
             [
              0.7777777777777778,
              "#fb9f3a"
             ],
             [
              0.8888888888888888,
              "#fdca26"
             ],
             [
              1,
              "#f0f921"
             ]
            ],
            "type": "histogram2dcontour"
           }
          ],
          "mesh3d": [
           {
            "colorbar": {
             "outlinewidth": 0,
             "ticks": ""
            },
            "type": "mesh3d"
           }
          ],
          "parcoords": [
           {
            "line": {
             "colorbar": {
              "outlinewidth": 0,
              "ticks": ""
             }
            },
            "type": "parcoords"
           }
          ],
          "pie": [
           {
            "automargin": true,
            "type": "pie"
           }
          ],
          "scatter": [
           {
            "fillpattern": {
             "fillmode": "overlay",
             "size": 10,
             "solidity": 0.2
            },
            "type": "scatter"
           }
          ],
          "scatter3d": [
           {
            "line": {
             "colorbar": {
              "outlinewidth": 0,
              "ticks": ""
             }
            },
            "marker": {
             "colorbar": {
              "outlinewidth": 0,
              "ticks": ""
             }
            },
            "type": "scatter3d"
           }
          ],
          "scattercarpet": [
           {
            "marker": {
             "colorbar": {
              "outlinewidth": 0,
              "ticks": ""
             }
            },
            "type": "scattercarpet"
           }
          ],
          "scattergeo": [
           {
            "marker": {
             "colorbar": {
              "outlinewidth": 0,
              "ticks": ""
             }
            },
            "type": "scattergeo"
           }
          ],
          "scattergl": [
           {
            "marker": {
             "colorbar": {
              "outlinewidth": 0,
              "ticks": ""
             }
            },
            "type": "scattergl"
           }
          ],
          "scattermapbox": [
           {
            "marker": {
             "colorbar": {
              "outlinewidth": 0,
              "ticks": ""
             }
            },
            "type": "scattermapbox"
           }
          ],
          "scatterpolar": [
           {
            "marker": {
             "colorbar": {
              "outlinewidth": 0,
              "ticks": ""
             }
            },
            "type": "scatterpolar"
           }
          ],
          "scatterpolargl": [
           {
            "marker": {
             "colorbar": {
              "outlinewidth": 0,
              "ticks": ""
             }
            },
            "type": "scatterpolargl"
           }
          ],
          "scatterternary": [
           {
            "marker": {
             "colorbar": {
              "outlinewidth": 0,
              "ticks": ""
             }
            },
            "type": "scatterternary"
           }
          ],
          "surface": [
           {
            "colorbar": {
             "outlinewidth": 0,
             "ticks": ""
            },
            "colorscale": [
             [
              0,
              "#0d0887"
             ],
             [
              0.1111111111111111,
              "#46039f"
             ],
             [
              0.2222222222222222,
              "#7201a8"
             ],
             [
              0.3333333333333333,
              "#9c179e"
             ],
             [
              0.4444444444444444,
              "#bd3786"
             ],
             [
              0.5555555555555556,
              "#d8576b"
             ],
             [
              0.6666666666666666,
              "#ed7953"
             ],
             [
              0.7777777777777778,
              "#fb9f3a"
             ],
             [
              0.8888888888888888,
              "#fdca26"
             ],
             [
              1,
              "#f0f921"
             ]
            ],
            "type": "surface"
           }
          ],
          "table": [
           {
            "cells": {
             "fill": {
              "color": "#EBF0F8"
             },
             "line": {
              "color": "white"
             }
            },
            "header": {
             "fill": {
              "color": "#C8D4E3"
             },
             "line": {
              "color": "white"
             }
            },
            "type": "table"
           }
          ]
         },
         "layout": {
          "annotationdefaults": {
           "arrowcolor": "#2a3f5f",
           "arrowhead": 0,
           "arrowwidth": 1
          },
          "autotypenumbers": "strict",
          "coloraxis": {
           "colorbar": {
            "outlinewidth": 0,
            "ticks": ""
           }
          },
          "colorscale": {
           "diverging": [
            [
             0,
             "#8e0152"
            ],
            [
             0.1,
             "#c51b7d"
            ],
            [
             0.2,
             "#de77ae"
            ],
            [
             0.3,
             "#f1b6da"
            ],
            [
             0.4,
             "#fde0ef"
            ],
            [
             0.5,
             "#f7f7f7"
            ],
            [
             0.6,
             "#e6f5d0"
            ],
            [
             0.7,
             "#b8e186"
            ],
            [
             0.8,
             "#7fbc41"
            ],
            [
             0.9,
             "#4d9221"
            ],
            [
             1,
             "#276419"
            ]
           ],
           "sequential": [
            [
             0,
             "#0d0887"
            ],
            [
             0.1111111111111111,
             "#46039f"
            ],
            [
             0.2222222222222222,
             "#7201a8"
            ],
            [
             0.3333333333333333,
             "#9c179e"
            ],
            [
             0.4444444444444444,
             "#bd3786"
            ],
            [
             0.5555555555555556,
             "#d8576b"
            ],
            [
             0.6666666666666666,
             "#ed7953"
            ],
            [
             0.7777777777777778,
             "#fb9f3a"
            ],
            [
             0.8888888888888888,
             "#fdca26"
            ],
            [
             1,
             "#f0f921"
            ]
           ],
           "sequentialminus": [
            [
             0,
             "#0d0887"
            ],
            [
             0.1111111111111111,
             "#46039f"
            ],
            [
             0.2222222222222222,
             "#7201a8"
            ],
            [
             0.3333333333333333,
             "#9c179e"
            ],
            [
             0.4444444444444444,
             "#bd3786"
            ],
            [
             0.5555555555555556,
             "#d8576b"
            ],
            [
             0.6666666666666666,
             "#ed7953"
            ],
            [
             0.7777777777777778,
             "#fb9f3a"
            ],
            [
             0.8888888888888888,
             "#fdca26"
            ],
            [
             1,
             "#f0f921"
            ]
           ]
          },
          "colorway": [
           "#636efa",
           "#EF553B",
           "#00cc96",
           "#ab63fa",
           "#FFA15A",
           "#19d3f3",
           "#FF6692",
           "#B6E880",
           "#FF97FF",
           "#FECB52"
          ],
          "font": {
           "color": "#2a3f5f"
          },
          "geo": {
           "bgcolor": "white",
           "lakecolor": "white",
           "landcolor": "#E5ECF6",
           "showlakes": true,
           "showland": true,
           "subunitcolor": "white"
          },
          "hoverlabel": {
           "align": "left"
          },
          "hovermode": "closest",
          "mapbox": {
           "style": "light"
          },
          "paper_bgcolor": "white",
          "plot_bgcolor": "#E5ECF6",
          "polar": {
           "angularaxis": {
            "gridcolor": "white",
            "linecolor": "white",
            "ticks": ""
           },
           "bgcolor": "#E5ECF6",
           "radialaxis": {
            "gridcolor": "white",
            "linecolor": "white",
            "ticks": ""
           }
          },
          "scene": {
           "xaxis": {
            "backgroundcolor": "#E5ECF6",
            "gridcolor": "white",
            "gridwidth": 2,
            "linecolor": "white",
            "showbackground": true,
            "ticks": "",
            "zerolinecolor": "white"
           },
           "yaxis": {
            "backgroundcolor": "#E5ECF6",
            "gridcolor": "white",
            "gridwidth": 2,
            "linecolor": "white",
            "showbackground": true,
            "ticks": "",
            "zerolinecolor": "white"
           },
           "zaxis": {
            "backgroundcolor": "#E5ECF6",
            "gridcolor": "white",
            "gridwidth": 2,
            "linecolor": "white",
            "showbackground": true,
            "ticks": "",
            "zerolinecolor": "white"
           }
          },
          "shapedefaults": {
           "line": {
            "color": "#2a3f5f"
           }
          },
          "ternary": {
           "aaxis": {
            "gridcolor": "white",
            "linecolor": "white",
            "ticks": ""
           },
           "baxis": {
            "gridcolor": "white",
            "linecolor": "white",
            "ticks": ""
           },
           "bgcolor": "#E5ECF6",
           "caxis": {
            "gridcolor": "white",
            "linecolor": "white",
            "ticks": ""
           }
          },
          "title": {
           "x": 0.05
          },
          "xaxis": {
           "automargin": true,
           "gridcolor": "white",
           "linecolor": "white",
           "ticks": "",
           "title": {
            "standoff": 15
           },
           "zerolinecolor": "white",
           "zerolinewidth": 2
          },
          "yaxis": {
           "automargin": true,
           "gridcolor": "white",
           "linecolor": "white",
           "ticks": "",
           "title": {
            "standoff": 15
           },
           "zerolinecolor": "white",
           "zerolinewidth": 2
          }
         }
        },
        "title": {
         "text": "High Frequency Ingredient Research and Associated Products (Sorted by Frequency Ratio)"
        }
       }
      }
     },
     "metadata": {},
     "output_type": "display_data"
    },
    {
     "name": "stdout",
     "output_type": "stream",
     "text": [
      "           HighFrequencyIngredientResearch  Product Count  \\\n",
      "0                                    Sugar             66   \n",
      "1                                     Salt             50   \n",
      "2                            Vegetable Oil             29   \n",
      "3                              Wheat Flour             27   \n",
      "4                                  Flavour             25   \n",
      "..                                     ...            ...   \n",
      "334                             Strawberry              1   \n",
      "335                         Stabiliser 422              1   \n",
      "336                            Citric Acid              1   \n",
      "337                         Thickener 1414              1   \n",
      "338  Clarified Pineapple Juice Concentrate              1   \n",
      "\n",
      "                                              Products  Frequency Ratio  \\\n",
      "0    [Coca - Cola Classic  Soft Drink Multipack Can...         0.318841   \n",
      "1    [Indomie Mi Goreng Instant Noodles, Maggi 2 Mi...         0.241546   \n",
      "2    [Maggi 2 Minute Chicken Flavour Instant Noodle...         0.140097   \n",
      "3    [Indomie Mi Goreng Instant Noodles, Maggi 2 Mi...         0.130435   \n",
      "4    [Coca - Cola Classic  Soft Drink Multipack Can...         0.120773   \n",
      "..                                                 ...              ...   \n",
      "334          [Oreo Minis Cookies Variety Bags 18 Pack]         0.004831   \n",
      "335                [Cadbury Classic Choc Chip Cookies]         0.004831   \n",
      "336                      [Cadbury Choc Centre Cookies]         0.004831   \n",
      "337                      [Cadbury Choc Centre Cookies]         0.004831   \n",
      "338                   [Dole Pineapple Chunks In Juice]         0.004831   \n",
      "\n",
      "         Group  \n",
      "0     Group 45  \n",
      "1     Group 72  \n",
      "2     Group 21  \n",
      "3     Group 11  \n",
      "4    Group 212  \n",
      "..         ...  \n",
      "334   Group 46  \n",
      "335   Group 47  \n",
      "336  Group 254  \n",
      "337   Group 33  \n",
      "338  Group 253  \n",
      "\n",
      "[339 rows x 5 columns]\n"
     ]
    }
   ],
   "source": [
    "from neo4j import GraphDatabase\n",
    "import pandas as pd\n",
    "import plotly.graph_objects as go\n",
    "\n",
    "\n",
    "query = \"\"\"\n",
    "MATCH (p:Product)-[:HAS_RECIPE]->(r:Recipe)-[:USES_INGREDIENT]->(i:Ingredient)-[:HAS_RESEARCH]->(res:IngredientResearch)\n",
    "WITH res, COUNT(DISTINCT p) AS productCount, COLLECT(DISTINCT p.name) AS products, COUNT(DISTINCT i) AS ingredientCount\n",
    "MATCH (allProducts:Product)\n",
    "WITH res, productCount, products, ingredientCount, COUNT(allProducts) AS totalProductCount\n",
    "WITH res, productCount, products, ingredientCount, totalProductCount, toFloat(productCount) / toFloat(totalProductCount) AS frequencyRatio\n",
    "RETURN res.ingredient_name AS HighFrequencyIngredientResearch, productCount, products, frequencyRatio\n",
    "ORDER BY frequencyRatio DESC\n",
    "\"\"\"\n",
    "\n",
    "with driver.session() as session:\n",
    "    result = session.run(query)\n",
    "    data = [record.data() for record in result]\n",
    "    df = pd.DataFrame(data)\n",
    "\n",
    "# The results are sorted according to the value of the frequency ratio (ratio) from highest to lowest.\n",
    "df.sort_values(by='frequencyRatio', ascending=False, inplace=True)\n",
    "\n",
    "# Assign a group name to each group（group）\n",
    "df['group'] = 'Group ' + (df['HighFrequencyIngredientResearch'].rank(ascending=True, method='dense').astype(int)).astype(str)\n",
    "\n",
    "\n",
    "fig_data = go.Table(\n",
    "    header=dict(values=['HighFrequencyIngredientResearch', 'Product Count', 'Products', 'Frequency Ratio', 'Group']),\n",
    "    cells=dict(values=[df['HighFrequencyIngredientResearch'], df['productCount'], df['products'], df['frequencyRatio'], df['group']])\n",
    ")\n",
    "\n",
    "\n",
    "fig_layout = go.Layout(\n",
    "    title='High Frequency Ingredient Research and Associated Products (Sorted by Frequency Ratio)',\n",
    ")\n",
    "\n",
    "\n",
    "fig = go.Figure(data=fig_data, layout=fig_layout)\n",
    "fig.show()\n",
    "\n",
    "# Storing the results in a new DataFrame\n",
    "data_lists = fig_data.cells.values\n",
    "new_df = pd.DataFrame({\n",
    "    'HighFrequencyIngredientResearch': data_lists[0],\n",
    "    'Product Count': data_lists[1],\n",
    "    'Products': data_lists[2],\n",
    "    'Frequency Ratio': data_lists[3],\n",
    "    'Group': data_lists[4]\n",
    "})\n",
    "\n",
    "print(new_df)"
   ]
  },
  {
   "cell_type": "code",
   "execution_count": 12,
   "metadata": {},
   "outputs": [
    {
     "ename": "TypeError",
     "evalue": "GraphDatabase.driver() missing 1 required positional argument: 'uri'",
     "output_type": "error",
     "traceback": [
      "\u001b[1;31m---------------------------------------------------------------------------\u001b[0m",
      "\u001b[1;31mTypeError\u001b[0m                                 Traceback (most recent call last)",
      "Cell \u001b[1;32mIn[12], line 12\u001b[0m\n\u001b[0;32m      9\u001b[0m     tx\u001b[38;5;241m.\u001b[39mrun(\u001b[38;5;124m\"\u001b[39m\u001b[38;5;124mCREATE (:Group \u001b[39m\u001b[38;5;124m{\u001b[39m\u001b[38;5;124mname: $name})\u001b[39m\u001b[38;5;124m\"\u001b[39m, name\u001b[38;5;241m=\u001b[39mGroup_name)\n\u001b[0;32m     11\u001b[0m \u001b[38;5;66;03m# Connect to Neo4j and create groupss\u001b[39;00m\n\u001b[1;32m---> 12\u001b[0m \u001b[38;5;28;01mwith\u001b[39;00m \u001b[43mGraphDatabase\u001b[49m\u001b[38;5;241;43m.\u001b[39;49m\u001b[43mdriver\u001b[49m\u001b[43m(\u001b[49m\u001b[43m)\u001b[49m \u001b[38;5;28;01mas\u001b[39;00m driver:\n\u001b[0;32m     13\u001b[0m     \u001b[38;5;28;01mwith\u001b[39;00m driver\u001b[38;5;241m.\u001b[39msession() \u001b[38;5;28;01mas\u001b[39;00m session:\n\u001b[0;32m     14\u001b[0m         \u001b[38;5;28;01mfor\u001b[39;00m ingredient_name \u001b[38;5;129;01min\u001b[39;00m df[\u001b[38;5;124m'\u001b[39m\u001b[38;5;124mU-Groups\u001b[39m\u001b[38;5;124m'\u001b[39m]\u001b[38;5;241m.\u001b[39munique():  \u001b[38;5;66;03m# Ensure unique group names\u001b[39;00m\n",
      "\u001b[1;31mTypeError\u001b[0m: GraphDatabase.driver() missing 1 required positional argument: 'uri'"
     ]
    }
   ],
   "source": [
    "with driver.session() as session:\n",
    "    result = session.run(query)\n",
    "    data = [record.data() for record in result]\n",
    "\n",
    "df = pd.DataFrame(data)\n",
    "\n",
    "# Create groups from dfi\n",
    "def add_group(tx, group_name):\n",
    "    tx.run(\"CREATE (:Group {name: $name})\", name=Group_name)\n",
    "\n",
    "# Connect to Neo4j and create groupss\n",
    "with GraphDatabase.driver() as driver:\n",
    "    with driver.session() as session:\n",
    "        for ingredient_name in df['U-Groups'].unique():  # Ensure unique group names\n",
    "            session.execute_write(add_group, group_name)\n",
    "\n",
    "\n",
    "            "
   ]
  },
  {
   "cell_type": "code",
   "execution_count": 15,
   "metadata": {},
   "outputs": [
    {
     "ename": "KeyError",
     "evalue": "'product_name'",
     "output_type": "error",
     "traceback": [
      "\u001b[1;31m---------------------------------------------------------------------------\u001b[0m",
      "\u001b[1;31mKeyError\u001b[0m                                  Traceback (most recent call last)",
      "File \u001b[1;32mc:\\Users\\apple\\anaconda3\\lib\\site-packages\\pandas\\core\\indexes\\base.py:3802\u001b[0m, in \u001b[0;36mIndex.get_loc\u001b[1;34m(self, key, method, tolerance)\u001b[0m\n\u001b[0;32m   3801\u001b[0m \u001b[38;5;28;01mtry\u001b[39;00m:\n\u001b[1;32m-> 3802\u001b[0m     \u001b[38;5;28;01mreturn\u001b[39;00m \u001b[38;5;28;43mself\u001b[39;49m\u001b[38;5;241;43m.\u001b[39;49m\u001b[43m_engine\u001b[49m\u001b[38;5;241;43m.\u001b[39;49m\u001b[43mget_loc\u001b[49m\u001b[43m(\u001b[49m\u001b[43mcasted_key\u001b[49m\u001b[43m)\u001b[49m\n\u001b[0;32m   3803\u001b[0m \u001b[38;5;28;01mexcept\u001b[39;00m \u001b[38;5;167;01mKeyError\u001b[39;00m \u001b[38;5;28;01mas\u001b[39;00m err:\n",
      "File \u001b[1;32mc:\\Users\\apple\\anaconda3\\lib\\site-packages\\pandas\\_libs\\index.pyx:138\u001b[0m, in \u001b[0;36mpandas._libs.index.IndexEngine.get_loc\u001b[1;34m()\u001b[0m\n",
      "File \u001b[1;32mc:\\Users\\apple\\anaconda3\\lib\\site-packages\\pandas\\_libs\\index.pyx:165\u001b[0m, in \u001b[0;36mpandas._libs.index.IndexEngine.get_loc\u001b[1;34m()\u001b[0m\n",
      "File \u001b[1;32mpandas\\_libs\\hashtable_class_helper.pxi:5745\u001b[0m, in \u001b[0;36mpandas._libs.hashtable.PyObjectHashTable.get_item\u001b[1;34m()\u001b[0m\n",
      "File \u001b[1;32mpandas\\_libs\\hashtable_class_helper.pxi:5753\u001b[0m, in \u001b[0;36mpandas._libs.hashtable.PyObjectHashTable.get_item\u001b[1;34m()\u001b[0m\n",
      "\u001b[1;31mKeyError\u001b[0m: 'product_name'",
      "\nThe above exception was the direct cause of the following exception:\n",
      "\u001b[1;31mKeyError\u001b[0m                                  Traceback (most recent call last)",
      "Cell \u001b[1;32mIn[15], line 12\u001b[0m\n\u001b[0;32m      9\u001b[0m \u001b[38;5;28;01mwith\u001b[39;00m driver\u001b[38;5;241m.\u001b[39msession() \u001b[38;5;28;01mas\u001b[39;00m session:\n\u001b[0;32m     10\u001b[0m     \u001b[38;5;66;03m# Iterate over each row in the DataFrame\u001b[39;00m\n\u001b[0;32m     11\u001b[0m     \u001b[38;5;28;01mfor\u001b[39;00m index, row \u001b[38;5;129;01min\u001b[39;00m new_df\u001b[38;5;241m.\u001b[39miterrows():\n\u001b[1;32m---> 12\u001b[0m         product_name \u001b[38;5;241m=\u001b[39m \u001b[43mrow\u001b[49m\u001b[43m[\u001b[49m\u001b[38;5;124;43m\"\u001b[39;49m\u001b[38;5;124;43mproduct_name\u001b[39;49m\u001b[38;5;124;43m\"\u001b[39;49m\u001b[43m]\u001b[49m  \n\u001b[0;32m     13\u001b[0m         \u001b[38;5;28;01mfor\u001b[39;00m i \u001b[38;5;129;01min\u001b[39;00m \u001b[38;5;28mrange\u001b[39m(\u001b[38;5;241m1\u001b[39m, \u001b[38;5;241m151\u001b[39m):  \n\u001b[0;32m     14\u001b[0m             group_col \u001b[38;5;241m=\u001b[39m \u001b[38;5;124mf\u001b[39m\u001b[38;5;124m\"\u001b[39m\u001b[38;5;124mGroup - \u001b[39m\u001b[38;5;132;01m{\u001b[39;00mi\u001b[38;5;132;01m}\u001b[39;00m\u001b[38;5;124m\"\u001b[39m\n",
      "File \u001b[1;32mc:\\Users\\apple\\anaconda3\\lib\\site-packages\\pandas\\core\\series.py:981\u001b[0m, in \u001b[0;36mSeries.__getitem__\u001b[1;34m(self, key)\u001b[0m\n\u001b[0;32m    978\u001b[0m     \u001b[38;5;28;01mreturn\u001b[39;00m \u001b[38;5;28mself\u001b[39m\u001b[38;5;241m.\u001b[39m_values[key]\n\u001b[0;32m    980\u001b[0m \u001b[38;5;28;01melif\u001b[39;00m key_is_scalar:\n\u001b[1;32m--> 981\u001b[0m     \u001b[38;5;28;01mreturn\u001b[39;00m \u001b[38;5;28;43mself\u001b[39;49m\u001b[38;5;241;43m.\u001b[39;49m\u001b[43m_get_value\u001b[49m\u001b[43m(\u001b[49m\u001b[43mkey\u001b[49m\u001b[43m)\u001b[49m\n\u001b[0;32m    983\u001b[0m \u001b[38;5;28;01mif\u001b[39;00m is_hashable(key):\n\u001b[0;32m    984\u001b[0m     \u001b[38;5;66;03m# Otherwise index.get_value will raise InvalidIndexError\u001b[39;00m\n\u001b[0;32m    985\u001b[0m     \u001b[38;5;28;01mtry\u001b[39;00m:\n\u001b[0;32m    986\u001b[0m         \u001b[38;5;66;03m# For labels that don't resolve as scalars like tuples and frozensets\u001b[39;00m\n",
      "File \u001b[1;32mc:\\Users\\apple\\anaconda3\\lib\\site-packages\\pandas\\core\\series.py:1089\u001b[0m, in \u001b[0;36mSeries._get_value\u001b[1;34m(self, label, takeable)\u001b[0m\n\u001b[0;32m   1086\u001b[0m     \u001b[38;5;28;01mreturn\u001b[39;00m \u001b[38;5;28mself\u001b[39m\u001b[38;5;241m.\u001b[39m_values[label]\n\u001b[0;32m   1088\u001b[0m \u001b[38;5;66;03m# Similar to Index.get_value, but we do not fall back to positional\u001b[39;00m\n\u001b[1;32m-> 1089\u001b[0m loc \u001b[38;5;241m=\u001b[39m \u001b[38;5;28;43mself\u001b[39;49m\u001b[38;5;241;43m.\u001b[39;49m\u001b[43mindex\u001b[49m\u001b[38;5;241;43m.\u001b[39;49m\u001b[43mget_loc\u001b[49m\u001b[43m(\u001b[49m\u001b[43mlabel\u001b[49m\u001b[43m)\u001b[49m\n\u001b[0;32m   1090\u001b[0m \u001b[38;5;28;01mreturn\u001b[39;00m \u001b[38;5;28mself\u001b[39m\u001b[38;5;241m.\u001b[39mindex\u001b[38;5;241m.\u001b[39m_get_values_for_loc(\u001b[38;5;28mself\u001b[39m, loc, label)\n",
      "File \u001b[1;32mc:\\Users\\apple\\anaconda3\\lib\\site-packages\\pandas\\core\\indexes\\base.py:3804\u001b[0m, in \u001b[0;36mIndex.get_loc\u001b[1;34m(self, key, method, tolerance)\u001b[0m\n\u001b[0;32m   3802\u001b[0m     \u001b[38;5;28;01mreturn\u001b[39;00m \u001b[38;5;28mself\u001b[39m\u001b[38;5;241m.\u001b[39m_engine\u001b[38;5;241m.\u001b[39mget_loc(casted_key)\n\u001b[0;32m   3803\u001b[0m \u001b[38;5;28;01mexcept\u001b[39;00m \u001b[38;5;167;01mKeyError\u001b[39;00m \u001b[38;5;28;01mas\u001b[39;00m err:\n\u001b[1;32m-> 3804\u001b[0m     \u001b[38;5;28;01mraise\u001b[39;00m \u001b[38;5;167;01mKeyError\u001b[39;00m(key) \u001b[38;5;28;01mfrom\u001b[39;00m \u001b[38;5;21;01merr\u001b[39;00m\n\u001b[0;32m   3805\u001b[0m \u001b[38;5;28;01mexcept\u001b[39;00m \u001b[38;5;167;01mTypeError\u001b[39;00m:\n\u001b[0;32m   3806\u001b[0m     \u001b[38;5;66;03m# If we have a listlike key, _check_indexing_error will raise\u001b[39;00m\n\u001b[0;32m   3807\u001b[0m     \u001b[38;5;66;03m#  InvalidIndexError. Otherwise we fall through and re-raise\u001b[39;00m\n\u001b[0;32m   3808\u001b[0m     \u001b[38;5;66;03m#  the TypeError.\u001b[39;00m\n\u001b[0;32m   3809\u001b[0m     \u001b[38;5;28mself\u001b[39m\u001b[38;5;241m.\u001b[39m_check_indexing_error(key)\n",
      "\u001b[1;31mKeyError\u001b[0m: 'product_name'"
     ]
    }
   ],
   "source": [
    "#create relationship between products and ingredients called \"made of\"\n",
    "def create_relationship(tx, product_name, group_name):\n",
    "    query = (\n",
    "        \"MATCH (p:Product {name: $product_name}), (gi:Group {name: $group_name}) \"\n",
    "        \"MERGE (p)-[:GROUP_OF]->(gi)\"\n",
    "    )\n",
    "    tx.run(query, product_name=product_name, group_name=group_name)\n",
    "\n",
    "with driver.session() as session:\n",
    "    # Iterate over each row in the DataFrame\n",
    "    for index, row in new_df.iterrows():\n",
    "        product_name = row[\"Name\"]  \n",
    "        for i in range(1, 151):  \n",
    "            group_col = f\"Group - {i}\"\n",
    "            if pd.notna(row[group_col]):  # Check if the ingredient cell is not empty\n",
    "                session.write_transaction(create_relationship, product_name, row[group_col])\n",
    "\n"
   ]
  },
  {
   "cell_type": "code",
   "execution_count": 42,
   "metadata": {},
   "outputs": [
    {
     "data": {
      "application/vnd.plotly.v1+json": {
       "config": {
        "plotlyServerURL": "https://plot.ly"
       },
       "data": [
        {
         "marker": {
          "color": "skyblue"
         },
         "mode": "markers",
         "type": "scatter",
         "x": [
          0.3188405797101449,
          0.12077294685990338,
          0.13043478260869565,
          0.24154589371980675,
          0.14009661835748793,
          0.10628019323671498
         ],
         "y": [
          "Sugar",
          "Flavour",
          "Wheat Flour",
          "Salt",
          "Vegetable Oil",
          "Emulsifier Soy Lecithin"
         ]
        }
       ],
       "layout": {
        "template": {
         "data": {
          "bar": [
           {
            "error_x": {
             "color": "#2a3f5f"
            },
            "error_y": {
             "color": "#2a3f5f"
            },
            "marker": {
             "line": {
              "color": "#E5ECF6",
              "width": 0.5
             },
             "pattern": {
              "fillmode": "overlay",
              "size": 10,
              "solidity": 0.2
             }
            },
            "type": "bar"
           }
          ],
          "barpolar": [
           {
            "marker": {
             "line": {
              "color": "#E5ECF6",
              "width": 0.5
             },
             "pattern": {
              "fillmode": "overlay",
              "size": 10,
              "solidity": 0.2
             }
            },
            "type": "barpolar"
           }
          ],
          "carpet": [
           {
            "aaxis": {
             "endlinecolor": "#2a3f5f",
             "gridcolor": "white",
             "linecolor": "white",
             "minorgridcolor": "white",
             "startlinecolor": "#2a3f5f"
            },
            "baxis": {
             "endlinecolor": "#2a3f5f",
             "gridcolor": "white",
             "linecolor": "white",
             "minorgridcolor": "white",
             "startlinecolor": "#2a3f5f"
            },
            "type": "carpet"
           }
          ],
          "choropleth": [
           {
            "colorbar": {
             "outlinewidth": 0,
             "ticks": ""
            },
            "type": "choropleth"
           }
          ],
          "contour": [
           {
            "colorbar": {
             "outlinewidth": 0,
             "ticks": ""
            },
            "colorscale": [
             [
              0,
              "#0d0887"
             ],
             [
              0.1111111111111111,
              "#46039f"
             ],
             [
              0.2222222222222222,
              "#7201a8"
             ],
             [
              0.3333333333333333,
              "#9c179e"
             ],
             [
              0.4444444444444444,
              "#bd3786"
             ],
             [
              0.5555555555555556,
              "#d8576b"
             ],
             [
              0.6666666666666666,
              "#ed7953"
             ],
             [
              0.7777777777777778,
              "#fb9f3a"
             ],
             [
              0.8888888888888888,
              "#fdca26"
             ],
             [
              1,
              "#f0f921"
             ]
            ],
            "type": "contour"
           }
          ],
          "contourcarpet": [
           {
            "colorbar": {
             "outlinewidth": 0,
             "ticks": ""
            },
            "type": "contourcarpet"
           }
          ],
          "heatmap": [
           {
            "colorbar": {
             "outlinewidth": 0,
             "ticks": ""
            },
            "colorscale": [
             [
              0,
              "#0d0887"
             ],
             [
              0.1111111111111111,
              "#46039f"
             ],
             [
              0.2222222222222222,
              "#7201a8"
             ],
             [
              0.3333333333333333,
              "#9c179e"
             ],
             [
              0.4444444444444444,
              "#bd3786"
             ],
             [
              0.5555555555555556,
              "#d8576b"
             ],
             [
              0.6666666666666666,
              "#ed7953"
             ],
             [
              0.7777777777777778,
              "#fb9f3a"
             ],
             [
              0.8888888888888888,
              "#fdca26"
             ],
             [
              1,
              "#f0f921"
             ]
            ],
            "type": "heatmap"
           }
          ],
          "heatmapgl": [
           {
            "colorbar": {
             "outlinewidth": 0,
             "ticks": ""
            },
            "colorscale": [
             [
              0,
              "#0d0887"
             ],
             [
              0.1111111111111111,
              "#46039f"
             ],
             [
              0.2222222222222222,
              "#7201a8"
             ],
             [
              0.3333333333333333,
              "#9c179e"
             ],
             [
              0.4444444444444444,
              "#bd3786"
             ],
             [
              0.5555555555555556,
              "#d8576b"
             ],
             [
              0.6666666666666666,
              "#ed7953"
             ],
             [
              0.7777777777777778,
              "#fb9f3a"
             ],
             [
              0.8888888888888888,
              "#fdca26"
             ],
             [
              1,
              "#f0f921"
             ]
            ],
            "type": "heatmapgl"
           }
          ],
          "histogram": [
           {
            "marker": {
             "pattern": {
              "fillmode": "overlay",
              "size": 10,
              "solidity": 0.2
             }
            },
            "type": "histogram"
           }
          ],
          "histogram2d": [
           {
            "colorbar": {
             "outlinewidth": 0,
             "ticks": ""
            },
            "colorscale": [
             [
              0,
              "#0d0887"
             ],
             [
              0.1111111111111111,
              "#46039f"
             ],
             [
              0.2222222222222222,
              "#7201a8"
             ],
             [
              0.3333333333333333,
              "#9c179e"
             ],
             [
              0.4444444444444444,
              "#bd3786"
             ],
             [
              0.5555555555555556,
              "#d8576b"
             ],
             [
              0.6666666666666666,
              "#ed7953"
             ],
             [
              0.7777777777777778,
              "#fb9f3a"
             ],
             [
              0.8888888888888888,
              "#fdca26"
             ],
             [
              1,
              "#f0f921"
             ]
            ],
            "type": "histogram2d"
           }
          ],
          "histogram2dcontour": [
           {
            "colorbar": {
             "outlinewidth": 0,
             "ticks": ""
            },
            "colorscale": [
             [
              0,
              "#0d0887"
             ],
             [
              0.1111111111111111,
              "#46039f"
             ],
             [
              0.2222222222222222,
              "#7201a8"
             ],
             [
              0.3333333333333333,
              "#9c179e"
             ],
             [
              0.4444444444444444,
              "#bd3786"
             ],
             [
              0.5555555555555556,
              "#d8576b"
             ],
             [
              0.6666666666666666,
              "#ed7953"
             ],
             [
              0.7777777777777778,
              "#fb9f3a"
             ],
             [
              0.8888888888888888,
              "#fdca26"
             ],
             [
              1,
              "#f0f921"
             ]
            ],
            "type": "histogram2dcontour"
           }
          ],
          "mesh3d": [
           {
            "colorbar": {
             "outlinewidth": 0,
             "ticks": ""
            },
            "type": "mesh3d"
           }
          ],
          "parcoords": [
           {
            "line": {
             "colorbar": {
              "outlinewidth": 0,
              "ticks": ""
             }
            },
            "type": "parcoords"
           }
          ],
          "pie": [
           {
            "automargin": true,
            "type": "pie"
           }
          ],
          "scatter": [
           {
            "fillpattern": {
             "fillmode": "overlay",
             "size": 10,
             "solidity": 0.2
            },
            "type": "scatter"
           }
          ],
          "scatter3d": [
           {
            "line": {
             "colorbar": {
              "outlinewidth": 0,
              "ticks": ""
             }
            },
            "marker": {
             "colorbar": {
              "outlinewidth": 0,
              "ticks": ""
             }
            },
            "type": "scatter3d"
           }
          ],
          "scattercarpet": [
           {
            "marker": {
             "colorbar": {
              "outlinewidth": 0,
              "ticks": ""
             }
            },
            "type": "scattercarpet"
           }
          ],
          "scattergeo": [
           {
            "marker": {
             "colorbar": {
              "outlinewidth": 0,
              "ticks": ""
             }
            },
            "type": "scattergeo"
           }
          ],
          "scattergl": [
           {
            "marker": {
             "colorbar": {
              "outlinewidth": 0,
              "ticks": ""
             }
            },
            "type": "scattergl"
           }
          ],
          "scattermapbox": [
           {
            "marker": {
             "colorbar": {
              "outlinewidth": 0,
              "ticks": ""
             }
            },
            "type": "scattermapbox"
           }
          ],
          "scatterpolar": [
           {
            "marker": {
             "colorbar": {
              "outlinewidth": 0,
              "ticks": ""
             }
            },
            "type": "scatterpolar"
           }
          ],
          "scatterpolargl": [
           {
            "marker": {
             "colorbar": {
              "outlinewidth": 0,
              "ticks": ""
             }
            },
            "type": "scatterpolargl"
           }
          ],
          "scatterternary": [
           {
            "marker": {
             "colorbar": {
              "outlinewidth": 0,
              "ticks": ""
             }
            },
            "type": "scatterternary"
           }
          ],
          "surface": [
           {
            "colorbar": {
             "outlinewidth": 0,
             "ticks": ""
            },
            "colorscale": [
             [
              0,
              "#0d0887"
             ],
             [
              0.1111111111111111,
              "#46039f"
             ],
             [
              0.2222222222222222,
              "#7201a8"
             ],
             [
              0.3333333333333333,
              "#9c179e"
             ],
             [
              0.4444444444444444,
              "#bd3786"
             ],
             [
              0.5555555555555556,
              "#d8576b"
             ],
             [
              0.6666666666666666,
              "#ed7953"
             ],
             [
              0.7777777777777778,
              "#fb9f3a"
             ],
             [
              0.8888888888888888,
              "#fdca26"
             ],
             [
              1,
              "#f0f921"
             ]
            ],
            "type": "surface"
           }
          ],
          "table": [
           {
            "cells": {
             "fill": {
              "color": "#EBF0F8"
             },
             "line": {
              "color": "white"
             }
            },
            "header": {
             "fill": {
              "color": "#C8D4E3"
             },
             "line": {
              "color": "white"
             }
            },
            "type": "table"
           }
          ]
         },
         "layout": {
          "annotationdefaults": {
           "arrowcolor": "#2a3f5f",
           "arrowhead": 0,
           "arrowwidth": 1
          },
          "autotypenumbers": "strict",
          "coloraxis": {
           "colorbar": {
            "outlinewidth": 0,
            "ticks": ""
           }
          },
          "colorscale": {
           "diverging": [
            [
             0,
             "#8e0152"
            ],
            [
             0.1,
             "#c51b7d"
            ],
            [
             0.2,
             "#de77ae"
            ],
            [
             0.3,
             "#f1b6da"
            ],
            [
             0.4,
             "#fde0ef"
            ],
            [
             0.5,
             "#f7f7f7"
            ],
            [
             0.6,
             "#e6f5d0"
            ],
            [
             0.7,
             "#b8e186"
            ],
            [
             0.8,
             "#7fbc41"
            ],
            [
             0.9,
             "#4d9221"
            ],
            [
             1,
             "#276419"
            ]
           ],
           "sequential": [
            [
             0,
             "#0d0887"
            ],
            [
             0.1111111111111111,
             "#46039f"
            ],
            [
             0.2222222222222222,
             "#7201a8"
            ],
            [
             0.3333333333333333,
             "#9c179e"
            ],
            [
             0.4444444444444444,
             "#bd3786"
            ],
            [
             0.5555555555555556,
             "#d8576b"
            ],
            [
             0.6666666666666666,
             "#ed7953"
            ],
            [
             0.7777777777777778,
             "#fb9f3a"
            ],
            [
             0.8888888888888888,
             "#fdca26"
            ],
            [
             1,
             "#f0f921"
            ]
           ],
           "sequentialminus": [
            [
             0,
             "#0d0887"
            ],
            [
             0.1111111111111111,
             "#46039f"
            ],
            [
             0.2222222222222222,
             "#7201a8"
            ],
            [
             0.3333333333333333,
             "#9c179e"
            ],
            [
             0.4444444444444444,
             "#bd3786"
            ],
            [
             0.5555555555555556,
             "#d8576b"
            ],
            [
             0.6666666666666666,
             "#ed7953"
            ],
            [
             0.7777777777777778,
             "#fb9f3a"
            ],
            [
             0.8888888888888888,
             "#fdca26"
            ],
            [
             1,
             "#f0f921"
            ]
           ]
          },
          "colorway": [
           "#636efa",
           "#EF553B",
           "#00cc96",
           "#ab63fa",
           "#FFA15A",
           "#19d3f3",
           "#FF6692",
           "#B6E880",
           "#FF97FF",
           "#FECB52"
          ],
          "font": {
           "color": "#2a3f5f"
          },
          "geo": {
           "bgcolor": "white",
           "lakecolor": "white",
           "landcolor": "#E5ECF6",
           "showlakes": true,
           "showland": true,
           "subunitcolor": "white"
          },
          "hoverlabel": {
           "align": "left"
          },
          "hovermode": "closest",
          "mapbox": {
           "style": "light"
          },
          "paper_bgcolor": "white",
          "plot_bgcolor": "#E5ECF6",
          "polar": {
           "angularaxis": {
            "gridcolor": "white",
            "linecolor": "white",
            "ticks": ""
           },
           "bgcolor": "#E5ECF6",
           "radialaxis": {
            "gridcolor": "white",
            "linecolor": "white",
            "ticks": ""
           }
          },
          "scene": {
           "xaxis": {
            "backgroundcolor": "#E5ECF6",
            "gridcolor": "white",
            "gridwidth": 2,
            "linecolor": "white",
            "showbackground": true,
            "ticks": "",
            "zerolinecolor": "white"
           },
           "yaxis": {
            "backgroundcolor": "#E5ECF6",
            "gridcolor": "white",
            "gridwidth": 2,
            "linecolor": "white",
            "showbackground": true,
            "ticks": "",
            "zerolinecolor": "white"
           },
           "zaxis": {
            "backgroundcolor": "#E5ECF6",
            "gridcolor": "white",
            "gridwidth": 2,
            "linecolor": "white",
            "showbackground": true,
            "ticks": "",
            "zerolinecolor": "white"
           }
          },
          "shapedefaults": {
           "line": {
            "color": "#2a3f5f"
           }
          },
          "ternary": {
           "aaxis": {
            "gridcolor": "white",
            "linecolor": "white",
            "ticks": ""
           },
           "baxis": {
            "gridcolor": "white",
            "linecolor": "white",
            "ticks": ""
           },
           "bgcolor": "#E5ECF6",
           "caxis": {
            "gridcolor": "white",
            "linecolor": "white",
            "ticks": ""
           }
          },
          "title": {
           "x": 0.05
          },
          "xaxis": {
           "automargin": true,
           "gridcolor": "white",
           "linecolor": "white",
           "ticks": "",
           "title": {
            "standoff": 15
           },
           "zerolinecolor": "white",
           "zerolinewidth": 2
          },
          "yaxis": {
           "automargin": true,
           "gridcolor": "white",
           "linecolor": "white",
           "ticks": "",
           "title": {
            "standoff": 15
           },
           "zerolinecolor": "white",
           "zerolinewidth": 2
          }
         }
        },
        "title": {
         "text": "High Frequency Ingredient Research"
        },
        "xaxis": {
         "title": {
          "text": "Frequency Ratio"
         }
        },
        "yaxis": {
         "categoryorder": "total ascending",
         "title": {
          "text": "Ingredient Research"
         }
        }
       }
      }
     },
     "metadata": {},
     "output_type": "display_data"
    }
   ],
   "source": [
    "import plotly.graph_objects as go\n",
    "from neo4j import GraphDatabase\n",
    "\n",
    "\n",
    "\n",
    "query = \"\"\"\n",
    "MATCH (p:Product)-[:HAS_RECIPE]->(r:Recipe)-[:USES_INGREDIENT]->(i:Ingredient)-[:HAS_RESEARCH]->(res:IngredientResearch)\n",
    "WITH res, COUNT(DISTINCT p) AS productCount, COUNT(DISTINCT i) AS ingredientCount\n",
    "\n",
    "MATCH (allProducts:Product)\n",
    "WITH res, productCount, ingredientCount, COUNT(allProducts) AS totalProductCount\n",
    "WITH res, productCount, ingredientCount, totalProductCount, toFloat(productCount) / toFloat(totalProductCount) AS frequencyRatio\n",
    "WHERE frequencyRatio > 0.1\n",
    "MATCH (p:Product)-[:HAS_RECIPE]->(:Recipe)-[:USES_INGREDIENT]->(:Ingredient)-[:HAS_RESEARCH]->(res)\n",
    "RETURN res.ingredient_name AS HighFrequencyIngredientResearch, collect(p.name) AS Products, frequencyRatio\n",
    "\n",
    "\"\"\"\n",
    "\n",
    "\n",
    "with driver.session() as session:\n",
    "    result = session.run(query)\n",
    "    data = result.data()\n",
    "\n",
    "ingredient_researches = [record['HighFrequencyIngredientResearch'] for record in data]\n",
    "product_counts = [record['frequencyRatio'] for record in data]\n",
    "\n",
    "\n",
    "fig = go.Figure(data=go.Scatter(x=product_counts, y=ingredient_researches, mode='markers', marker=dict(color='skyblue')))\n",
    "fig.update_layout(title='High Frequency Ingredient Research', xaxis_title='Frequency Ratio', yaxis_title='Ingredient Research')\n",
    "fig.update_yaxes(categoryorder='total ascending')\n",
    "\n",
    "\n",
    "fig.show()\n"
   ]
  },
  {
   "cell_type": "code",
   "execution_count": 17,
   "metadata": {},
   "outputs": [
    {
     "name": "stderr",
     "output_type": "stream",
     "text": [
      "C:\\Users\\apple\\AppData\\Local\\Temp\\ipykernel_11588\\319053344.py:20: DeprecationWarning:\n",
      "\n",
      "write_transaction has been renamed to execute_write\n",
      "\n",
      "C:\\Users\\apple\\AppData\\Local\\Temp\\ipykernel_11588\\319053344.py:24: DeprecationWarning:\n",
      "\n",
      "write_transaction has been renamed to execute_write\n",
      "\n"
     ]
    }
   ],
   "source": [
    "from neo4j import GraphDatabase\n",
    "\n",
    "\n",
    "# Define functions to create group nodes\n",
    "def create_group(tx, group_name):\n",
    "    tx.run(\"CREATE (:Group {name: $group_name})\", group_name=group_name)\n",
    "\n",
    "# Define functions to create relationships\n",
    "def create_relationship(tx, product_name, group_name):\n",
    "    tx.run(\"\"\"\n",
    "    MATCH (p:Product {name: $product_name})\n",
    "    MATCH (g:Group {name: $group_name})\n",
    "    CREATE (p)-[:GROUP_TO]->(g)\n",
    "    \"\"\", product_name=product_name, group_name=group_name)\n",
    "\n",
    "# Extracting grouping information from a DataFrame and saving it to a Neo4j database\n",
    "with driver.session() as session:\n",
    "    for group_name, products in new_df.groupby('Group'):\n",
    "        # Create group nodes\n",
    "        session.write_transaction(create_group, group_name)\n",
    "        \n",
    "        # Create relationships for each product\n",
    "        for product in products['Products']:\n",
    "            session.write_transaction(create_relationship, product, group_name)\n"
   ]
  }
 ],
 "metadata": {
  "kernelspec": {
   "display_name": "base",
   "language": "python",
   "name": "python3"
  },
  "language_info": {
   "codemirror_mode": {
    "name": "ipython",
    "version": 3
   },
   "file_extension": ".py",
   "mimetype": "text/x-python",
   "name": "python",
   "nbconvert_exporter": "python",
   "pygments_lexer": "ipython3",
   "version": "3.10.9"
  }
 },
 "nbformat": 4,
 "nbformat_minor": 2
}
