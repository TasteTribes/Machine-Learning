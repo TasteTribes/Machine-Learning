{
 "cells": [
  {
   "cell_type": "code",
   "execution_count": null,
   "id": "b9e6ae21",
   "metadata": {},
   "outputs": [],
   "source": [
    "thanks = 'Thank You'\n",
    "print (thanks) # to print the complete string\n",
    "\n",
    "print (thanks[0]) # to print the first character\n",
    "of the string\n",
    "print (thanks[2:7]) # to print the 3rd to the 7th\n",
    "character of the string\n",
    "print (thanks[4:]) # to print from the 5th\n",
    "character of the string\n",
    "print (thanks * 2) # to print the string two times\n",
    "print (thanks + \"\\tAgain!\") # to print a\n",
    "concatenated string"
   ]
  },
  {
   "cell_type": "code",
   "execution_count": null,
   "id": "60f558c7",
   "metadata": {},
   "outputs": [],
   "source": [
    "thanks = 'Thank You'\n",
    "print (thanks) # to print the complete string"
   ]
  },
  {
   "cell_type": "code",
   "execution_count": null,
   "id": "fbf0ecaa",
   "metadata": {},
   "outputs": [],
   "source": [
    " # -*- coding: utf-8 -*-\n",
    " \"\"\"\n",
    " Program Name: Detect the current time to decide which greeting to use\n",
    " Topic Requirements:\n",
    " Judging from the current time (24-hour system)\n",
    " 5~10:59, output \"good morning\"\n",
    " 11~17:59, output \"good afternoon\"\n",
    " 18~4:59, output \"good night\"\n",
    "\"\"\"\n",
    " import time\n",
    "     print (\"current time: {}.” format (time.strftime (\"%h:% m:% s\"))\n",
    " h = int( time.strftime(\"%H\") )\n",
    "            if h>5 and h < 11:\n",
    " print (\"good morning!\" )\n",
    " elif h >= 11 and h<18:\n",
    " print (\"good afternoon!\" )\n",
    " else:\n",
    " print (\"good night!\")\n",
    "          import time\n",
    "Time.strftime (\"%h:% m:% s\")\n",
    "# 18: 36: 16 (6:36:16 p.m. 24-hour)\n",
    "Time. strftime (\"%i:% m:% s\")\n",
    "# 06:36:16 (6: 36: 16 p.m. 12-hour system) format\n",
    "parameters to be set are enclosed in parentheses. \n",
    "          Available= int(input (\"Give a score:\")\n",
    "if available >= 60:\n",
    "print ('First Certificate of Conformity')\n",
    "if available >= 70:\n",
    "print ('Second Certificate of Conformity')\n",
    "if available >= 80:\n",
    "print ('Third Certificate of Conformity')\n",
    "if available >= 90:\n",
    "print ('Fourth Certificate of Conformity')\n",
    "if getScore == 100: "
   ]
  },
  {
   "cell_type": "code",
   "execution_count": null,
   "id": "038a2a1d",
   "metadata": {},
   "outputs": [],
   "source": []
  }
 ],
 "metadata": {
  "kernelspec": {
   "display_name": "Python 3.9 (XPython)",
   "language": "python",
   "name": "xpython"
  }
 },
 "nbformat": 4,
 "nbformat_minor": 5
}
