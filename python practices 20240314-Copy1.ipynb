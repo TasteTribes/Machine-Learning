{
 "cells": [
  {
   "cell_type": "code",
   "execution_count": 1,
   "id": "4e53c52b",
   "metadata": {},
   "outputs": [
    {
     "name": "stdout",
     "output_type": "stream",
     "text": [
      "Thank You\n"
     ]
    }
   ],
   "source": [
    "thanks = 'Thank You'\n",
    "print (thanks) # to print the complete string"
   ]
  },
  {
   "cell_type": "code",
   "execution_count": 4,
   "id": "c6903e1f",
   "metadata": {},
   "outputs": [
    {
     "name": "stdout",
     "output_type": "stream",
     "text": [
      "T\n",
      "ank Y\n",
      "k You\n",
      "Thank YouThank You\n",
      "Thank You\tAgain!\n"
     ]
    }
   ],
   "source": [
    "print (thanks[0]) # to print the first characterof the string\n",
    "print (thanks[2:7]) # to print the 3rd to the 7thcharacter of the string\n",
    "print (thanks[4:]) # to print from the 5thcharacter of the string\n",
    "print (thanks * 2) # to print the string two times\n",
    "print (thanks + \"\\tAgain!\") # to print a concatenated string"
   ]
  },
  {
   "cell_type": "code",
   "execution_count": 6,
   "id": "bbe720b5",
   "metadata": {},
   "outputs": [
    {
     "ename": "SyntaxError",
     "evalue": "invalid character '“' (U+201C) (2166063535.py, line 2)",
     "output_type": "error",
     "traceback": [
      "\u001b[1;36m  File \u001b[1;32m\"C:\\Users\\sng7065\\AppData\\Local\\Temp\\ipykernel_22096\\2166063535.py\"\u001b[1;36m, line \u001b[1;32m2\u001b[0m\n\u001b[1;33m    print(“ result of z is ”, z)\u001b[0m\n\u001b[1;37m          ^\u001b[0m\n\u001b[1;31mSyntaxError\u001b[0m\u001b[1;31m:\u001b[0m invalid character '“' (U+201C)\n"
     ]
    }
   ],
   "source": [
    "z = x + y\n",
    "print(' result of z is '', z)\n",
    "z = x – y\n",
    "print(“ result of z is ”, z)\n",
    "z = x * y\n",
    "print(“ result of z is ”, z)\n",
    "z = x / y\n",
    "print(“ result of z is ”, z)\n",
    "z = x % y\n",
    "print(“ result of z is ”, z) "
   ]
  },
  {
   "cell_type": "code",
   "execution_count": 13,
   "id": "88bb768f",
   "metadata": {},
   "outputs": [
    {
     "ename": "SyntaxError",
     "evalue": "invalid character '–' (U+2013) (553203202.py, line 6)",
     "output_type": "error",
     "traceback": [
      "\u001b[1;36m  File \u001b[1;32m\"C:\\Users\\sng7065\\AppData\\Local\\Temp\\ipykernel_22096\\553203202.py\"\u001b[1;36m, line \u001b[1;32m6\u001b[0m\n\u001b[1;33m    z = x – y\u001b[0m\n\u001b[1;37m          ^\u001b[0m\n\u001b[1;31mSyntaxError\u001b[0m\u001b[1;31m:\u001b[0m invalid character '–' (U+2013)\n"
     ]
    }
   ],
   "source": [
    "x = 25\n",
    "y = 30\n",
    "z = 0;\n",
    "z = x + y\n",
    "print( \"result of z is\", z)\n"
   ]
  },
  {
   "cell_type": "code",
   "execution_count": 19,
   "id": "45f8b69c",
   "metadata": {},
   "outputs": [
    {
     "name": "stdout",
     "output_type": "stream",
     "text": [
      " result of z is -5\n"
     ]
    }
   ],
   "source": [
    "x = 25\n",
    "y = 30\n",
    "z = 0;\n",
    "z = x - y\n",
    "print(\" result of z is\" , z)\n"
   ]
  },
  {
   "cell_type": "code",
   "execution_count": 20,
   "id": "356b099b",
   "metadata": {},
   "outputs": [
    {
     "name": "stdout",
     "output_type": "stream",
     "text": [
      "value of c is 1024\n"
     ]
    }
   ],
   "source": [
    "a = 4\n",
    "b = 5\n",
    "c = a**b;\n",
    "print(\"value of c is\", c)\n"
   ]
  },
  {
   "cell_type": "code",
   "execution_count": 24,
   "id": "79373b4a",
   "metadata": {},
   "outputs": [
    {
     "ename": "SyntaxError",
     "evalue": "invalid syntax (3615182709.py, line 3)",
     "output_type": "error",
     "traceback": [
      "\u001b[1;36m  File \u001b[1;32m\"C:\\Users\\sng7065\\AppData\\Local\\Temp\\ipykernel_22096\\3615182709.py\"\u001b[1;36m, line \u001b[1;32m3\u001b[0m\n\u001b[1;33m    if ( i == j )\u001b[0m\n\u001b[1;37m                 ^\u001b[0m\n\u001b[1;31mSyntaxError\u001b[0m\u001b[1;31m:\u001b[0m invalid syntax\n"
     ]
    }
   ],
   "source": [
    "i = 10\n",
    "j = 15\n",
    "if ( i == j )\n",
    " print(\"i is equal to j\")\n",
    "else\n",
    " print(\"i is not equal to j\")   \n",
    "    \n",
    "if ( i != i)\n",
    " print(“i is not equal to j”)\n",
    "else\n",
    " print(“i is equal to j”)\n",
    "if ( i > j)\n",
    " print(“i is greater than j”)\n",
    "else\n",
    " print(“i is not greater than j”)\n",
    "if ( i < j)\n",
    " print(“i is less than j”)\n",
    "else\n",
    " print(“i is not less than j”)\n",
    "if ( i >= j)\n",
    " print(“i is greater than or equal to j”)\n",
    "else \n",
    " print(“i is neither greater than nor equal to\n",
    "j”)\n",
    "if ( i <= j)\n",
    " print (“i is less than or equal to j”)\n",
    "else\n",
    " print(“i is neither less than nor equal to j”)"
   ]
  },
  {
   "cell_type": "code",
   "execution_count": 31,
   "id": "e6c8b97a",
   "metadata": {},
   "outputs": [
    {
     "name": "stdout",
     "output_type": "stream",
     "text": [
      "i is not equal to j\n"
     ]
    }
   ],
   "source": [
    "i = 10\n",
    "j = 15\n",
    "if i == j:\n",
    " print(\"i is equal to j\")\n",
    "\n",
    "else:\n",
    " print(\"i is not equal to j\")   \n",
    "    "
   ]
  },
  {
   "cell_type": "code",
   "execution_count": 33,
   "id": "414d6f53",
   "metadata": {},
   "outputs": [
    {
     "name": "stdout",
     "output_type": "stream",
     "text": [
      "a= 50 : 0b110010 b= 17 : 0b10001\n"
     ]
    }
   ],
   "source": [
    "a = 50 # 50 = 0011 0010\n",
    "b = 17 # 17 = 0001 0001\n",
    "print('a=', a, ':', bin(a), 'b=', b, ':', bin(b))"
   ]
  },
  {
   "cell_type": "code",
   "execution_count": 34,
   "id": "45d54aa4",
   "metadata": {},
   "outputs": [
    {
     "ename": "SyntaxError",
     "evalue": "invalid syntax (1870333165.py, line 3)",
     "output_type": "error",
     "traceback": [
      "\u001b[1;36m  File \u001b[1;32m\"C:\\Users\\sng7065\\AppData\\Local\\Temp\\ipykernel_22096\\1870333165.py\"\u001b[1;36m, line \u001b[1;32m3\u001b[0m\n\u001b[1;33m    if i < 30 AND i > 18:\u001b[0m\n\u001b[1;37m              ^\u001b[0m\n\u001b[1;31mSyntaxError\u001b[0m\u001b[1;31m:\u001b[0m invalid syntax\n"
     ]
    }
   ],
   "source": [
    ">>> i = 25\n",
    "# Logical AND Example\n",
    ">>> if i < 30 AND i > 18:\n",
    "print (\" Condition is fulfilled \")\n",
    "else:\n",
    "print(\" Condition is not fulfilled \") "
   ]
  },
  {
   "cell_type": "code",
   "execution_count": 41,
   "id": "0cd36f57",
   "metadata": {},
   "outputs": [
    {
     "name": "stdout",
     "output_type": "stream",
     "text": [
      "Name: Mary\n",
      "Age: 30\n"
     ]
    }
   ],
   "source": [
    " def printdetails(name, age):\n",
    "    print (\"Name:\", name)\n",
    "    print (\"Age:\", age)\n",
    "    return;\n",
    "\n",
    "printdetails(name = \"Mary\", age = 30); "
   ]
  },
  {
   "cell_type": "code",
   "execution_count": 43,
   "id": "3e330d3d",
   "metadata": {},
   "outputs": [
    {
     "ename": "SyntaxError",
     "evalue": "Missing parentheses in call to 'print'. Did you mean print(input)? (3245174882.py, line 3)",
     "output_type": "error",
     "traceback": [
      "\u001b[1;36m  File \u001b[1;32m\"C:\\Users\\sng7065\\AppData\\Local\\Temp\\ipykernel_22096\\3245174882.py\"\u001b[1;36m, line \u001b[1;32m3\u001b[0m\n\u001b[1;33m    print input\u001b[0m\n\u001b[1;37m          ^\u001b[0m\n\u001b[1;31mSyntaxError\u001b[0m\u001b[1;31m:\u001b[0m Missing parentheses in call to 'print'. Did you mean print(input)?\n"
     ]
    }
   ],
   "source": [
    "#Language = \"Python\"\n",
    "#def printString( input ) :\n",
    "  # print input\n",
    "#def multiply ( x, y ) :\n",
    "#return x * y\n",
    "#def power( x, y):\n",
    "#return x ** y\n",
    "#printString( Language ) # returns Python\n",
    "#z = multiply( 10, 20 )\n",
    "#print z# returns 200 - which is equal to 10 * 20\n",
    "#print power( 10, 2 ) # returns 100 - which is\n",
    "#equal to 10 ** 2 "
   ]
  },
  {
   "cell_type": "code",
   "execution_count": 44,
   "id": "81a5842a",
   "metadata": {},
   "outputs": [
    {
     "name": "stdout",
     "output_type": "stream",
     "text": [
      "Python\n",
      "200\n",
      "100\n"
     ]
    }
   ],
   "source": [
    "Language = \"Python\"\n",
    "\n",
    "def printString(input):\n",
    "    print(input)\n",
    "\n",
    "def multiply(x, y):\n",
    "    return x * y\n",
    "\n",
    "def power(x, y):\n",
    "    return x ** y\n",
    "\n",
    "printString(Language)  # returns Python\n",
    "z = multiply(10, 20)\n",
    "print(z)  # returns 200 - which is equal to 10 * 20\n",
    "print(power(10, 2))  # returns 100 - which is equal to 10 ** 2\n"
   ]
  },
  {
   "cell_type": "code",
   "execution_count": 45,
   "id": "6989ad00",
   "metadata": {},
   "outputs": [
    {
     "ename": "NameError",
     "evalue": "name 'raw_input' is not defined",
     "output_type": "error",
     "traceback": [
      "\u001b[1;31m---------------------------------------------------------------------------\u001b[0m",
      "\u001b[1;31mNameError\u001b[0m                                 Traceback (most recent call last)",
      "\u001b[1;32m~\\AppData\\Local\\Temp\\ipykernel_22096\\2276868109.py\u001b[0m in \u001b[0;36m<cell line: 1>\u001b[1;34m()\u001b[0m\n\u001b[1;32m----> 1\u001b[1;33m \u001b[0mname\u001b[0m \u001b[1;33m=\u001b[0m \u001b[0mraw_input\u001b[0m\u001b[1;33m(\u001b[0m \u001b[1;34m\"\\n Please enter your name : \"\u001b[0m \u001b[1;33m)\u001b[0m\u001b[1;33m\u001b[0m\u001b[1;33m\u001b[0m\u001b[0m\n\u001b[0m",
      "\u001b[1;31mNameError\u001b[0m: name 'raw_input' is not defined"
     ]
    }
   ],
   "source": [
    "name = raw_input( \"\\n Please enter your name : \" )"
   ]
  },
  {
   "cell_type": "code",
   "execution_count": 46,
   "id": "15571ea1",
   "metadata": {},
   "outputs": [
    {
     "name": "stdout",
     "output_type": "stream",
     "text": [
      "Hello and welcome\n",
      "Hope you have a great time\n",
      "Begin\n",
      "End\n"
     ]
    }
   ],
   "source": [
    "def welcome_message():\n",
    "    print(\"Hello and welcome\")\n",
    "    print(\"Hope you have a great time\")\n",
    "    print(\"Begin\")\n",
    "welcome_message()\n",
    "print(\"End\") "
   ]
  },
  {
   "cell_type": "code",
   "execution_count": 57,
   "id": "29f61e29",
   "metadata": {},
   "outputs": [
    {
     "name": "stdout",
     "output_type": "stream",
     "text": [
      "Begin\n",
      "Hello and welcome {Fred}!\n",
      "Hope you have a great time\n",
      "End\n"
     ]
    }
   ],
   "source": [
    "def welcome_message(Fred):\n",
    "    print(\"Begin\")\n",
    "    print(\"Hello and welcome {Fred}!\")\n",
    "    print(\"Hope you have a great time\")\n",
    "    print(\"End\")\n",
    "welcome_message('Fred') "
   ]
  },
  {
   "cell_type": "code",
   "execution_count": 58,
   "id": "929a39c8",
   "metadata": {},
   "outputs": [
    {
     "name": "stdout",
     "output_type": "stream",
     "text": [
      "Begin\n",
      "Hello and welcome {name} {last_name}!\n",
      "Hope you have a great time\n",
      "End\n"
     ]
    }
   ],
   "source": [
    "def welcome_message(name, last_name):\n",
    "    print(\"Hello and welcome {name} {last_name}!\")\n",
    "    print(\"Hope you have a great time\")\n",
    "print(\"Begin\")\n",
    "welcome_message('Fred', 'William')\n",
    "print(\"End\") "
   ]
  },
  {
   "cell_type": "code",
   "execution_count": 60,
   "id": "e077132d",
   "metadata": {},
   "outputs": [
    {
     "name": "stdout",
     "output_type": "stream",
     "text": [
      "Begin\n",
      "Hello and welcome {name} {last_name}!\n",
      "Hope you have a great time\n",
      "End\n"
     ]
    }
   ],
   "source": [
    "print(\"Begin\")\n",
    "welcome_message(last_name='William', name='Fred')\n",
    "print(\"End\")"
   ]
  },
  {
   "cell_type": "code",
   "execution_count": null,
   "id": "69c6be1f",
   "metadata": {},
   "outputs": [],
   "source": [
    "Insurance = 1000\n",
    "age = int(input('Your age: 25'))\n",
    "is_old = age > 40\n",
    "is_young = age <= 28\n",
    "has_license = input('Do you have a license? ')\n",
    "if has_license.lower() == 'Yes':\n",
    "     has_license = True\n",
    "elif has_license.lower() != 'Yes':\n",
    "     has_license = False\n",
    "if is_old and has_license:\n",
    "    Insurance = Insurance / 2\n",
    "    print(\"Your insurance cost is ${Insurance}\")\n",
    "elif is_young and has_license:\n",
    "    Insurance = Insurance // 1.50\n",
    "    print(\"You will need to pay ${Insurance}\")\n",
    "else:\n",
    "    print('You are not eligible for insurance at this time') "
   ]
  },
  {
   "cell_type": "code",
   "execution_count": null,
   "id": "f8a52666",
   "metadata": {},
   "outputs": [],
   "source": [
    " # -*- coding: utf-8 -*-\n",
    " \"\"\"\n",
    " Program Name: Detect the current time to decide which greeting to use\n",
    " Topic Requirements:\n",
    " Judging from the current time (24-hour system)\n",
    " 5~10:59, output \"good morning\"\n",
    " 11~17:59, output \"good afternoon\"\n",
    " 18~4:59, output \"good night\"\n",
    "\"\"\"\n",
    " import time\n",
    "     print (\"current time: {}.” format (time.strftime (\"%h:% m:% s\"))\n",
    " h = int( time.strftime(\"%H\") )\n",
    "            if h>5 and h < 11:\n",
    " print (\"good morning!\" )\n",
    " elif h >= 11 and h<18:\n",
    " print (\"good afternoon!\" )\n",
    " else:\n",
    " print (\"good night!\")\n",
    "          import time\n",
    "Time.strftime (\"%h:% m:% s\")\n",
    "# 18: 36: 16 (6:36:16 p.m. 24-hour)\n",
    "Time. strftime (\"%i:% m:% s\")\n",
    "# 06:36:16 (6: 36: 16 p.m. 12-hour system) format\n",
    "parameters to be set are enclosed in parentheses. \n",
    "          Available= int(input (\"Give a score:\")\n",
    "if available >= 60:\n",
    "print ('First Certificate of Conformity')\n",
    "if available >= 70:\n",
    "print ('Second Certificate of Conformity')\n",
    "if available >= 80:\n",
    "print ('Third Certificate of Conformity')\n",
    "if available >= 90:\n",
    "print ('Fourth Certificate of Conformity')\n",
    "if getScore == 100: "
   ]
  },
  {
   "cell_type": "code",
   "execution_count": null,
   "id": "6d50f1e9",
   "metadata": {},
   "outputs": [],
   "source": []
  }
 ],
 "metadata": {
  "kernelspec": {
   "display_name": "Python 3 (ipykernel)",
   "language": "python",
   "name": "python3"
  },
  "language_info": {
   "codemirror_mode": {
    "name": "ipython",
    "version": 3
   },
   "file_extension": ".py",
   "mimetype": "text/x-python",
   "name": "python",
   "nbconvert_exporter": "python",
   "pygments_lexer": "ipython3",
   "version": "3.9.16"
  }
 },
 "nbformat": 4,
 "nbformat_minor": 5
}
