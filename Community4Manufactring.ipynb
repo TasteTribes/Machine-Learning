{
 "cells": [
  {
   "cell_type": "code",
   "execution_count": 2,
   "metadata": {},
   "outputs": [
    {
     "name": "stdout",
     "output_type": "stream",
     "text": [
      "Connectivity verified successfully.\n"
     ]
    }
   ],
   "source": [
    "from neo4j import GraphDatabase\n",
    "\n",
    "def get_neo4j_driver() -> GraphDatabase.driver:\n",
    "    \"\"\"Establishes and returns a Neo4j session for AuraDB.\"\"\"\n",
    "    neo4j_uri = 'neo4j+s://9d1381c2.databases.neo4j.io:7687'\n",
    "    neo4j_user = 'Shirley'\n",
    "    neo4j_password = 'Sxl19950312'\n",
    "    return GraphDatabase.driver(neo4j_uri, auth=(neo4j_user, neo4j_password))\n",
    "\n",
    "# Call the function to get the driver\n",
    "driver = get_neo4j_driver()\n",
    "\n",
    "# Open a session\n",
    "with driver.session() as session:\n",
    "    # Verify connectivity within the session\n",
    "    session.run(\"RETURN 1\")\n",
    "\n",
    "print(\"Connectivity verified successfully.\")\n",
    "\n",
    "\n",
    "from dash import Dash, dcc, html\n",
    "import plotly.express as px\n",
    "import pandas as pd\n",
    "\n",
    "\n",
    "# Define a Cypher query to retrieve the required data\n",
    "query = \"\"\"\n",
    "MATCH (n)\n",
    "RETURN n\n",
    "\"\"\"\n",
    "\n",
    "# Execute the query and process the results\n",
    "with driver.session() as session:\n",
    "    result = session.run(query)\n",
    "    neo4j_data = [record.data() for record in result]\n",
    "\n",
    "# Converting Neo4j Data to Pandas DataFrame Format\n",
    "df = pd.DataFrame(neo4j_data)\n",
    "\n",
    "#print(df)"
   ]
  },
  {
   "cell_type": "code",
   "execution_count": 25,
   "metadata": {},
   "outputs": [
    {
     "data": {
      "application/vnd.plotly.v1+json": {
       "config": {
        "plotlyServerURL": "https://plot.ly"
       },
       "data": [
        {
         "cells": {
          "align": [
           "center",
           "left"
          ],
          "fill": {
           "color": [
            [
             "#f2f2f2",
             "white",
             "#f2f2f2",
             "white",
             "#f2f2f2",
             "white",
             "#f2f2f2",
             "white",
             "#f2f2f2",
             "white",
             "#f2f2f2",
             "white",
             "#f2f2f2",
             "white",
             "#f2f2f2",
             "white",
             "#f2f2f2",
             "white",
             "#f2f2f2",
             "white",
             "#f2f2f2",
             "white",
             "#f2f2f2",
             "white",
             "#f2f2f2",
             "white",
             "#f2f2f2",
             "white",
             "#f2f2f2",
             "white",
             "#f2f2f2",
             "white",
             "#f2f2f2",
             "white",
             "#f2f2f2",
             "white",
             "#f2f2f2",
             "white",
             "#f2f2f2",
             "white",
             "#f2f2f2",
             "white",
             "#f2f2f2",
             "white",
             "#f2f2f2",
             "white",
             "#f2f2f2",
             "white",
             "#f2f2f2",
             "white",
             "#f2f2f2",
             "white",
             "#f2f2f2",
             "white",
             "#f2f2f2",
             "white",
             "#f2f2f2",
             "white",
             "#f2f2f2",
             "white",
             "#f2f2f2",
             "white",
             "#f2f2f2",
             "white",
             "#f2f2f2",
             "white",
             "#f2f2f2",
             "white",
             "#f2f2f2",
             "white",
             "#f2f2f2",
             "white",
             "#f2f2f2",
             "white",
             "#f2f2f2",
             "white",
             "#f2f2f2",
             "white",
             "#f2f2f2",
             "white",
             "#f2f2f2",
             "white",
             "#f2f2f2",
             "white",
             "#f2f2f2",
             "white",
             "#f2f2f2",
             "white",
             "#f2f2f2",
             "white",
             "#f2f2f2",
             "white",
             "#f2f2f2",
             "white",
             "#f2f2f2",
             "white",
             "#f2f2f2",
             "white",
             "#f2f2f2",
             "white",
             "#f2f2f2",
             "white",
             "#f2f2f2",
             "white",
             "#f2f2f2",
             "white",
             "#f2f2f2",
             "white",
             "#f2f2f2",
             "white",
             "#f2f2f2",
             "white",
             "#f2f2f2",
             "white",
             "#f2f2f2",
             "white",
             "#f2f2f2",
             "white",
             "#f2f2f2",
             "white",
             "#f2f2f2",
             "white",
             "#f2f2f2",
             "white",
             "#f2f2f2",
             "white",
             "#f2f2f2",
             "white",
             "#f2f2f2",
             "white",
             "#f2f2f2",
             "white",
             "#f2f2f2",
             "white",
             "#f2f2f2",
             "white",
             "#f2f2f2",
             "white",
             "#f2f2f2",
             "white",
             "#f2f2f2",
             "white",
             "#f2f2f2",
             "white",
             "#f2f2f2",
             "white",
             "#f2f2f2",
             "white",
             "#f2f2f2",
             "white",
             "#f2f2f2",
             "white",
             "#f2f2f2",
             "white",
             "#f2f2f2",
             "white",
             "#f2f2f2",
             "white",
             "#f2f2f2",
             "white",
             "#f2f2f2",
             "white",
             "#f2f2f2",
             "white",
             "#f2f2f2",
             "white",
             "#f2f2f2",
             "white",
             "#f2f2f2",
             "white",
             "#f2f2f2",
             "white",
             "#f2f2f2",
             "white",
             "#f2f2f2",
             "white",
             "#f2f2f2",
             "white",
             "#f2f2f2",
             "white",
             "#f2f2f2",
             "white"
            ]
           ]
          },
          "font": {
           "size": 11
          },
          "height": 80,
          "values": [
           [
            "<b>Community 0</b>",
            "<b>Community 1</b>",
            "<b>Community 2</b>",
            "<b>Community 3</b>",
            "<b>Community 4</b>",
            "<b>Community 5</b>",
            "<b>Community 6</b>",
            "<b>Community 7</b>",
            "<b>Community 8</b>",
            "<b>Community 9</b>",
            "<b>Community 10</b>",
            "<b>Community 11</b>",
            "<b>Community 12</b>",
            "<b>Community 13</b>",
            "<b>Community 14</b>",
            "<b>Community 15</b>",
            "<b>Community 16</b>",
            "<b>Community 17</b>",
            "<b>Community 18</b>",
            "<b>Community 19</b>",
            "<b>Community 20</b>",
            "<b>Community 21</b>",
            "<b>Community 22</b>",
            "<b>Community 23</b>",
            "<b>Community 24</b>",
            "<b>Community 25</b>",
            "<b>Community 26</b>",
            "<b>Community 27</b>",
            "<b>Community 28</b>",
            "<b>Community 29</b>",
            "<b>Community 30</b>",
            "<b>Community 31</b>",
            "<b>Community 32</b>",
            "<b>Community 33</b>",
            "<b>Community 34</b>",
            "<b>Community 35</b>",
            "<b>Community 36</b>",
            "<b>Community 37</b>",
            "<b>Community 38</b>",
            "<b>Community 39</b>",
            "<b>Community 40</b>",
            "<b>Community 41</b>",
            "<b>Community 42</b>",
            "<b>Community 43</b>",
            "<b>Community 44</b>",
            "<b>Community 45</b>",
            "<b>Community 46</b>",
            "<b>Community 47</b>",
            "<b>Community 48</b>",
            "<b>Community 49</b>",
            "<b>Community 50</b>",
            "<b>Community 51</b>",
            "<b>Community 52</b>",
            "<b>Community 53</b>",
            "<b>Community 54</b>",
            "<b>Community 55</b>",
            "<b>Community 56</b>",
            "<b>Community 57</b>",
            "<b>Community 58</b>",
            "<b>Community 59</b>",
            "<b>Community 60</b>",
            "<b>Community 61</b>",
            "<b>Community 62</b>",
            "<b>Community 63</b>",
            "<b>Community 64</b>",
            "<b>Community 65</b>",
            "<b>Community 66</b>",
            "<b>Community 67</b>",
            "<b>Community 68</b>",
            "<b>Community 69</b>",
            "<b>Community 70</b>",
            "<b>Community 71</b>",
            "<b>Community 72</b>",
            "<b>Community 73</b>",
            "<b>Community 74</b>",
            "<b>Community 75</b>",
            "<b>Community 76</b>",
            "<b>Community 77</b>",
            "<b>Community 78</b>",
            "<b>Community 79</b>",
            "<b>Community 80</b>",
            "<b>Community 81</b>",
            "<b>Community 82</b>",
            "<b>Community 83</b>",
            "<b>Community 84</b>",
            "<b>Community 85</b>",
            "<b>Community 86</b>",
            "<b>Community 87</b>",
            "<b>Community 88</b>",
            "<b>Community 89</b>",
            "<b>Community 90</b>"
           ],
           [
            "Coca - Cola Classic  Soft Drink Multipack Cans",
            "Coca - Cola Classic  Soft Drink Mini Cans",
            "Coca - Cola Vanilla  Soft Drink Multipack Cans",
            "Coca - Cola Zero Sugar Soft Drink Multipack Cans",
            "Coca - Cola Caffeine Free Zero Sugar Soft Drink Multipack Cans",
            "Coca - Cola Zero Sugar Soft Drink Mini Cans",
            "Goulburn Valley Two Fruits In Juice Fruit Cups In Juice",
            "Maggi 2 Minute Chicken Flavour Instant Noodles",
            "Supreme Noodles Cup Chicken Flavour",
            "Fantastic Chicken Noodle Cup",
            "Fantastic Chicken Noodle Bowl",
            "Indomie Mi Goreng Noodle Cup",
            "Maggi 2 Minute Beef Flavour Instant Noodles",
            "Supreme Noodles Cup Beef Flavour",
            "Schweppes Zero Sugar Lime Infused Mineral Water Bottle",
            "Schweppes Raspberry Infused Natural Mineral Water Bottle",
            "Schweppes Natural Mineral Water Bottle Natural",
            "Schweppes Soda Water Bottle Classic Mixers",
            "Schweppes Indian Tonic Water Classic Mixers Bottle",
            "Schweppes Lime Soda Water With Lime Juice Bottle",
            "Schweppes Zero Sugar Classic Mixers Indian Tonic Water Bottle",
            "Schweppes Lemon Lime Natural Mineral Water Bottle",
            "Schweppes Orange Mango Natural Mineral Water Bottle",
            "Kitkat 4 Finger Milk Chocolate Bar",
            "Kitkat Chunky Original Chocolate Bar",
            "Cadbury Dairy Milk Caramello Koala Chocolate",
            "Twix Milk Chocolate Bar With Caramel Biscuit",
            "Mars Chocolate Bar With Nougat & Caramel",
            "Cadbury Dairy Milk Chocolate Roll",
            "Cadbury Dairy Milk Chocolate Bar",
            "Cadbury Twirl Chocolate Bar",
            "Cadbury Chomp Chocolate Bar",
            "Arnott's Premier Chocolate Chip Cookies",
            "Woolworths Chocolate Chip Cookies",
            "Woolworths The King Of Chunky Chocolate Chip Cookies",
            "Arnott's Mini Choc Chip Cookie Multipack Biscuits",
            "Oreo Original Mini Cookies Multipack",
            "Indomie Mi Goreng Instant Noodles<br>Oreo Minis Cookies Variety Bags 18 Pack<br>Oreo Original Cookies<br>Woolworths Apple & Mango Juice<br>Golden Circle Fruit Drinks Lunch Box Poppers Tropical Punch Multipack",
            "Cadbury Classic Choc Chip Cookies",
            "Cadbury Choc Centre Cookies",
            "Byron Bay Cookies Dotty Cookie Bites",
            "Rimmel Scandaleyes Eye Definer Brown",
            "Woolworths Apple Juice",
            "Woolworths Orange Juice",
            "Woolworths Breakfast Juice",
            "Woolworths Apple & Blackcurrant Juice",
            "Woolworths Multivitamin Juice",
            "Golden Circle Golden Pash Fruit Drink<br>Golden Circle Drinks Sunshine Punch Fruit Drink<br>Woolworths Secret Burger Sauce<br>Smith's Crinkle Cut Potato Chips Barbecue<br>Smith's Thinly Cut Potato Chips Original Share Pack<br>Woolworths Two Fruits In Juice Cups<br>Woolworths Two Fruits In Juice<br>Woolworths Two Fruits In Tropical Jelly",
            "Golden Circle Drinks Pine Orange Fruit Drink",
            "Woolworths Full Cream Milk",
            "Dairy Farmers Full Cream Milk Full Cream Milk",
            "Norco Full Cream Milk",
            "A2 Milk Full Cream Milk",
            "Pauls Farmhouse Gold Full Cream Milk",
            "Oreo Double Stuff Cookies",
            "Oreo Original Cookies Family Pack",
            "Oreo Chocolate Cookies",
            "Oreo Grab & Go Original Cookies 9 Pack",
            "Oreo Neapolitan Double Stuff Cookies",
            "Woolworths Diced Italian Tomatoes",
            "Woolworths Lasagne Sheets",
            "Essentials Coconut Cream",
            "Woolworths Uht Full Cream Milk",
            "Deep Cove Sardines In Oil",
            "Woolworths Creamed Rice",
            "Essentials Coconut Milk",
            "Woolworths Tomato Sauce Squeeze",
            "Woolworths Tomato Sauce",
            "Woolworths Barbecue Sauce Squeeze",
            "Masterfoods Tomato Sauce",
            "Masterfoods Barbecue Sauce",
            "Fountain Tomato Sauce Squeeze",
            "Fountain Barbecue Bbq Sauce Squeeze",
            "Heinz Ketchup Tomato Sauce Ketchup",
            "Woolworths Barbecue Sauce",
            "Woolworths Spring Water Bottles",
            "Woolworths Spring Water",
            "Frantelle Australian Still Spring Water Bottles Multipack",
            "Mount Franklin Spring Water Bottle",
            "Smith's Crinkle Cut Potato Chips Original",
            "Smith's Crinkle Cut Potato Chips Cheese & Onion",
            "Smith's Crinkle Cut Potato Chips Chicken",
            "Thins Chips Salt & Vinegar",
            "Thins Chips Chicken",
            "Smith's Crinkle Cut Potato Chips Salt & Vinegar",
            "Thins Chips Light & Tangy",
            "Woolworths Peach In Strawberry Jelly",
            "Woolworths Apple In Pineapple Jelly",
            "Goulburn Valley Two Fruits In Juice",
            "Dole Pineapple Slices In Syrup",
            "Dole Pineapple Chunks In Juice"
           ]
          ]
         },
         "header": {
          "values": [
           "Community",
           "Products"
          ]
         },
         "type": "table"
        }
       ],
       "layout": {
        "height": 600,
        "template": {
         "data": {
          "bar": [
           {
            "error_x": {
             "color": "#2a3f5f"
            },
            "error_y": {
             "color": "#2a3f5f"
            },
            "marker": {
             "line": {
              "color": "#E5ECF6",
              "width": 0.5
             },
             "pattern": {
              "fillmode": "overlay",
              "size": 10,
              "solidity": 0.2
             }
            },
            "type": "bar"
           }
          ],
          "barpolar": [
           {
            "marker": {
             "line": {
              "color": "#E5ECF6",
              "width": 0.5
             },
             "pattern": {
              "fillmode": "overlay",
              "size": 10,
              "solidity": 0.2
             }
            },
            "type": "barpolar"
           }
          ],
          "carpet": [
           {
            "aaxis": {
             "endlinecolor": "#2a3f5f",
             "gridcolor": "white",
             "linecolor": "white",
             "minorgridcolor": "white",
             "startlinecolor": "#2a3f5f"
            },
            "baxis": {
             "endlinecolor": "#2a3f5f",
             "gridcolor": "white",
             "linecolor": "white",
             "minorgridcolor": "white",
             "startlinecolor": "#2a3f5f"
            },
            "type": "carpet"
           }
          ],
          "choropleth": [
           {
            "colorbar": {
             "outlinewidth": 0,
             "ticks": ""
            },
            "type": "choropleth"
           }
          ],
          "contour": [
           {
            "colorbar": {
             "outlinewidth": 0,
             "ticks": ""
            },
            "colorscale": [
             [
              0,
              "#0d0887"
             ],
             [
              0.1111111111111111,
              "#46039f"
             ],
             [
              0.2222222222222222,
              "#7201a8"
             ],
             [
              0.3333333333333333,
              "#9c179e"
             ],
             [
              0.4444444444444444,
              "#bd3786"
             ],
             [
              0.5555555555555556,
              "#d8576b"
             ],
             [
              0.6666666666666666,
              "#ed7953"
             ],
             [
              0.7777777777777778,
              "#fb9f3a"
             ],
             [
              0.8888888888888888,
              "#fdca26"
             ],
             [
              1,
              "#f0f921"
             ]
            ],
            "type": "contour"
           }
          ],
          "contourcarpet": [
           {
            "colorbar": {
             "outlinewidth": 0,
             "ticks": ""
            },
            "type": "contourcarpet"
           }
          ],
          "heatmap": [
           {
            "colorbar": {
             "outlinewidth": 0,
             "ticks": ""
            },
            "colorscale": [
             [
              0,
              "#0d0887"
             ],
             [
              0.1111111111111111,
              "#46039f"
             ],
             [
              0.2222222222222222,
              "#7201a8"
             ],
             [
              0.3333333333333333,
              "#9c179e"
             ],
             [
              0.4444444444444444,
              "#bd3786"
             ],
             [
              0.5555555555555556,
              "#d8576b"
             ],
             [
              0.6666666666666666,
              "#ed7953"
             ],
             [
              0.7777777777777778,
              "#fb9f3a"
             ],
             [
              0.8888888888888888,
              "#fdca26"
             ],
             [
              1,
              "#f0f921"
             ]
            ],
            "type": "heatmap"
           }
          ],
          "heatmapgl": [
           {
            "colorbar": {
             "outlinewidth": 0,
             "ticks": ""
            },
            "colorscale": [
             [
              0,
              "#0d0887"
             ],
             [
              0.1111111111111111,
              "#46039f"
             ],
             [
              0.2222222222222222,
              "#7201a8"
             ],
             [
              0.3333333333333333,
              "#9c179e"
             ],
             [
              0.4444444444444444,
              "#bd3786"
             ],
             [
              0.5555555555555556,
              "#d8576b"
             ],
             [
              0.6666666666666666,
              "#ed7953"
             ],
             [
              0.7777777777777778,
              "#fb9f3a"
             ],
             [
              0.8888888888888888,
              "#fdca26"
             ],
             [
              1,
              "#f0f921"
             ]
            ],
            "type": "heatmapgl"
           }
          ],
          "histogram": [
           {
            "marker": {
             "pattern": {
              "fillmode": "overlay",
              "size": 10,
              "solidity": 0.2
             }
            },
            "type": "histogram"
           }
          ],
          "histogram2d": [
           {
            "colorbar": {
             "outlinewidth": 0,
             "ticks": ""
            },
            "colorscale": [
             [
              0,
              "#0d0887"
             ],
             [
              0.1111111111111111,
              "#46039f"
             ],
             [
              0.2222222222222222,
              "#7201a8"
             ],
             [
              0.3333333333333333,
              "#9c179e"
             ],
             [
              0.4444444444444444,
              "#bd3786"
             ],
             [
              0.5555555555555556,
              "#d8576b"
             ],
             [
              0.6666666666666666,
              "#ed7953"
             ],
             [
              0.7777777777777778,
              "#fb9f3a"
             ],
             [
              0.8888888888888888,
              "#fdca26"
             ],
             [
              1,
              "#f0f921"
             ]
            ],
            "type": "histogram2d"
           }
          ],
          "histogram2dcontour": [
           {
            "colorbar": {
             "outlinewidth": 0,
             "ticks": ""
            },
            "colorscale": [
             [
              0,
              "#0d0887"
             ],
             [
              0.1111111111111111,
              "#46039f"
             ],
             [
              0.2222222222222222,
              "#7201a8"
             ],
             [
              0.3333333333333333,
              "#9c179e"
             ],
             [
              0.4444444444444444,
              "#bd3786"
             ],
             [
              0.5555555555555556,
              "#d8576b"
             ],
             [
              0.6666666666666666,
              "#ed7953"
             ],
             [
              0.7777777777777778,
              "#fb9f3a"
             ],
             [
              0.8888888888888888,
              "#fdca26"
             ],
             [
              1,
              "#f0f921"
             ]
            ],
            "type": "histogram2dcontour"
           }
          ],
          "mesh3d": [
           {
            "colorbar": {
             "outlinewidth": 0,
             "ticks": ""
            },
            "type": "mesh3d"
           }
          ],
          "parcoords": [
           {
            "line": {
             "colorbar": {
              "outlinewidth": 0,
              "ticks": ""
             }
            },
            "type": "parcoords"
           }
          ],
          "pie": [
           {
            "automargin": true,
            "type": "pie"
           }
          ],
          "scatter": [
           {
            "fillpattern": {
             "fillmode": "overlay",
             "size": 10,
             "solidity": 0.2
            },
            "type": "scatter"
           }
          ],
          "scatter3d": [
           {
            "line": {
             "colorbar": {
              "outlinewidth": 0,
              "ticks": ""
             }
            },
            "marker": {
             "colorbar": {
              "outlinewidth": 0,
              "ticks": ""
             }
            },
            "type": "scatter3d"
           }
          ],
          "scattercarpet": [
           {
            "marker": {
             "colorbar": {
              "outlinewidth": 0,
              "ticks": ""
             }
            },
            "type": "scattercarpet"
           }
          ],
          "scattergeo": [
           {
            "marker": {
             "colorbar": {
              "outlinewidth": 0,
              "ticks": ""
             }
            },
            "type": "scattergeo"
           }
          ],
          "scattergl": [
           {
            "marker": {
             "colorbar": {
              "outlinewidth": 0,
              "ticks": ""
             }
            },
            "type": "scattergl"
           }
          ],
          "scattermapbox": [
           {
            "marker": {
             "colorbar": {
              "outlinewidth": 0,
              "ticks": ""
             }
            },
            "type": "scattermapbox"
           }
          ],
          "scatterpolar": [
           {
            "marker": {
             "colorbar": {
              "outlinewidth": 0,
              "ticks": ""
             }
            },
            "type": "scatterpolar"
           }
          ],
          "scatterpolargl": [
           {
            "marker": {
             "colorbar": {
              "outlinewidth": 0,
              "ticks": ""
             }
            },
            "type": "scatterpolargl"
           }
          ],
          "scatterternary": [
           {
            "marker": {
             "colorbar": {
              "outlinewidth": 0,
              "ticks": ""
             }
            },
            "type": "scatterternary"
           }
          ],
          "surface": [
           {
            "colorbar": {
             "outlinewidth": 0,
             "ticks": ""
            },
            "colorscale": [
             [
              0,
              "#0d0887"
             ],
             [
              0.1111111111111111,
              "#46039f"
             ],
             [
              0.2222222222222222,
              "#7201a8"
             ],
             [
              0.3333333333333333,
              "#9c179e"
             ],
             [
              0.4444444444444444,
              "#bd3786"
             ],
             [
              0.5555555555555556,
              "#d8576b"
             ],
             [
              0.6666666666666666,
              "#ed7953"
             ],
             [
              0.7777777777777778,
              "#fb9f3a"
             ],
             [
              0.8888888888888888,
              "#fdca26"
             ],
             [
              1,
              "#f0f921"
             ]
            ],
            "type": "surface"
           }
          ],
          "table": [
           {
            "cells": {
             "fill": {
              "color": "#EBF0F8"
             },
             "line": {
              "color": "white"
             }
            },
            "header": {
             "fill": {
              "color": "#C8D4E3"
             },
             "line": {
              "color": "white"
             }
            },
            "type": "table"
           }
          ]
         },
         "layout": {
          "annotationdefaults": {
           "arrowcolor": "#2a3f5f",
           "arrowhead": 0,
           "arrowwidth": 1
          },
          "autotypenumbers": "strict",
          "coloraxis": {
           "colorbar": {
            "outlinewidth": 0,
            "ticks": ""
           }
          },
          "colorscale": {
           "diverging": [
            [
             0,
             "#8e0152"
            ],
            [
             0.1,
             "#c51b7d"
            ],
            [
             0.2,
             "#de77ae"
            ],
            [
             0.3,
             "#f1b6da"
            ],
            [
             0.4,
             "#fde0ef"
            ],
            [
             0.5,
             "#f7f7f7"
            ],
            [
             0.6,
             "#e6f5d0"
            ],
            [
             0.7,
             "#b8e186"
            ],
            [
             0.8,
             "#7fbc41"
            ],
            [
             0.9,
             "#4d9221"
            ],
            [
             1,
             "#276419"
            ]
           ],
           "sequential": [
            [
             0,
             "#0d0887"
            ],
            [
             0.1111111111111111,
             "#46039f"
            ],
            [
             0.2222222222222222,
             "#7201a8"
            ],
            [
             0.3333333333333333,
             "#9c179e"
            ],
            [
             0.4444444444444444,
             "#bd3786"
            ],
            [
             0.5555555555555556,
             "#d8576b"
            ],
            [
             0.6666666666666666,
             "#ed7953"
            ],
            [
             0.7777777777777778,
             "#fb9f3a"
            ],
            [
             0.8888888888888888,
             "#fdca26"
            ],
            [
             1,
             "#f0f921"
            ]
           ],
           "sequentialminus": [
            [
             0,
             "#0d0887"
            ],
            [
             0.1111111111111111,
             "#46039f"
            ],
            [
             0.2222222222222222,
             "#7201a8"
            ],
            [
             0.3333333333333333,
             "#9c179e"
            ],
            [
             0.4444444444444444,
             "#bd3786"
            ],
            [
             0.5555555555555556,
             "#d8576b"
            ],
            [
             0.6666666666666666,
             "#ed7953"
            ],
            [
             0.7777777777777778,
             "#fb9f3a"
            ],
            [
             0.8888888888888888,
             "#fdca26"
            ],
            [
             1,
             "#f0f921"
            ]
           ]
          },
          "colorway": [
           "#636efa",
           "#EF553B",
           "#00cc96",
           "#ab63fa",
           "#FFA15A",
           "#19d3f3",
           "#FF6692",
           "#B6E880",
           "#FF97FF",
           "#FECB52"
          ],
          "font": {
           "color": "#2a3f5f"
          },
          "geo": {
           "bgcolor": "white",
           "lakecolor": "white",
           "landcolor": "#E5ECF6",
           "showlakes": true,
           "showland": true,
           "subunitcolor": "white"
          },
          "hoverlabel": {
           "align": "left"
          },
          "hovermode": "closest",
          "mapbox": {
           "style": "light"
          },
          "paper_bgcolor": "white",
          "plot_bgcolor": "#E5ECF6",
          "polar": {
           "angularaxis": {
            "gridcolor": "white",
            "linecolor": "white",
            "ticks": ""
           },
           "bgcolor": "#E5ECF6",
           "radialaxis": {
            "gridcolor": "white",
            "linecolor": "white",
            "ticks": ""
           }
          },
          "scene": {
           "xaxis": {
            "backgroundcolor": "#E5ECF6",
            "gridcolor": "white",
            "gridwidth": 2,
            "linecolor": "white",
            "showbackground": true,
            "ticks": "",
            "zerolinecolor": "white"
           },
           "yaxis": {
            "backgroundcolor": "#E5ECF6",
            "gridcolor": "white",
            "gridwidth": 2,
            "linecolor": "white",
            "showbackground": true,
            "ticks": "",
            "zerolinecolor": "white"
           },
           "zaxis": {
            "backgroundcolor": "#E5ECF6",
            "gridcolor": "white",
            "gridwidth": 2,
            "linecolor": "white",
            "showbackground": true,
            "ticks": "",
            "zerolinecolor": "white"
           }
          },
          "shapedefaults": {
           "line": {
            "color": "#2a3f5f"
           }
          },
          "ternary": {
           "aaxis": {
            "gridcolor": "white",
            "linecolor": "white",
            "ticks": ""
           },
           "baxis": {
            "gridcolor": "white",
            "linecolor": "white",
            "ticks": ""
           },
           "bgcolor": "#E5ECF6",
           "caxis": {
            "gridcolor": "white",
            "linecolor": "white",
            "ticks": ""
           }
          },
          "title": {
           "x": 0.05
          },
          "xaxis": {
           "automargin": true,
           "gridcolor": "white",
           "linecolor": "white",
           "ticks": "",
           "title": {
            "standoff": 15
           },
           "zerolinecolor": "white",
           "zerolinewidth": 2
          },
          "yaxis": {
           "automargin": true,
           "gridcolor": "white",
           "linecolor": "white",
           "ticks": "",
           "title": {
            "standoff": 15
           },
           "zerolinecolor": "white",
           "zerolinewidth": 2
          }
         }
        },
        "title": {
         "text": "Product Communities Based on Manufacturing Process"
        },
        "width": 1000
       }
      }
     },
     "metadata": {},
     "output_type": "display_data"
    }
   ],
   "source": [
    "with driver.session() as session:\n",
    "    \n",
    "    result = session.run(\"MATCH (p)-[:HAS_RECIPE]->(r:Recipe)-[:HAS_MANUFACTURING_PROCESS]->(i:ManufacturingProcess)\"\n",
    "                         \"RETURN p.name AS product, i.Step AS manufacturing_process\")\n",
    "                        \n",
    "\n",
    "   \n",
    "    df = pd.DataFrame([record.values() for record in result], columns=result.keys())\n",
    "\n",
    "    \n",
    "    product_net = nx.Graph()\n",
    "\n",
    "    for _, row in df.iterrows():\n",
    "        product = row['product']\n",
    "        manufacturing_process = row['manufacturing_process']\n",
    "        \n",
    "        \n",
    "        product_net.add_node(product, manufacturing_process=manufacturing_process)\n",
    "        \n",
    "        \n",
    "        for other_product, data in product_net.nodes(data=True):\n",
    "            other_manufacturing_process = data.get('manufacturing_process')\n",
    "            if other_manufacturing_process and other_product != product and manufacturing_process and manufacturing_process in other_manufacturing_process:\n",
    "              product_net.add_edge(product, other_product, weight=1)\n",
    "\n",
    "\n",
    "\n",
    "    \n",
    "    manufacturing_process_partition = community_louvain.best_partition(product_net)\n",
    "\n",
    "   \n",
    "    communities = {}\n",
    "    for node, community in manufacturing_process_partition.items():\n",
    "        if community not in communities:\n",
    "            communities[community] = []\n",
    "        communities[community].append(node)\n",
    "\n",
    "    \n",
    "    table_data = []\n",
    "    for community, products in sorted(communities.items()):\n",
    "        row = [f\"<b>Community {community}</b>\"] + [\"<br>\".join(products)]\n",
    "        table_data.append(row)\n",
    "\n",
    "   \n",
    "    table = go.Table(\n",
    "        header=dict(values=[\"Community\", \"Products\"]),\n",
    "        cells=dict(values=[list(zip(*table_data))[0], list(zip(*table_data))[1]] if table_data else [[]] * 2,  \n",
    "                   fill_color=[['#f2f2f2', 'white'] * len(table_data)],\n",
    "                   align=['center', 'left'],\n",
    "                   font=dict(size=11),\n",
    "                   height=80)\n",
    "    )\n",
    "\n",
    "    \n",
    "    layout = go.Layout(title=\"Product Communities Based on Manufacturing Process\",\n",
    "                       width=1000, height=600)\n",
    "\n",
    "    \n",
    "    fig = go.Figure(data=[table], layout=layout)\n",
    "    fig.show()\n"
   ]
  },
  {
   "cell_type": "code",
   "execution_count": 26,
   "metadata": {},
   "outputs": [
    {
     "data": {
      "application/vnd.plotly.v1+json": {
       "config": {
        "plotlyServerURL": "https://plot.ly"
       },
       "data": [
        {
         "cells": {
          "align": [
           "center",
           "left"
          ],
          "fill": {
           "color": [
            [
             "#f2f2f2",
             "white",
             "#f2f2f2",
             "white",
             "#f2f2f2",
             "white",
             "#f2f2f2",
             "white",
             "#f2f2f2",
             "white",
             "#f2f2f2",
             "white",
             "#f2f2f2",
             "white",
             "#f2f2f2",
             "white",
             "#f2f2f2",
             "white",
             "#f2f2f2",
             "white",
             "#f2f2f2",
             "white",
             "#f2f2f2",
             "white",
             "#f2f2f2",
             "white",
             "#f2f2f2",
             "white",
             "#f2f2f2",
             "white",
             "#f2f2f2",
             "white",
             "#f2f2f2",
             "white",
             "#f2f2f2",
             "white",
             "#f2f2f2",
             "white",
             "#f2f2f2",
             "white",
             "#f2f2f2",
             "white",
             "#f2f2f2",
             "white",
             "#f2f2f2",
             "white",
             "#f2f2f2",
             "white",
             "#f2f2f2",
             "white",
             "#f2f2f2",
             "white",
             "#f2f2f2",
             "white",
             "#f2f2f2",
             "white",
             "#f2f2f2",
             "white",
             "#f2f2f2",
             "white",
             "#f2f2f2",
             "white",
             "#f2f2f2",
             "white",
             "#f2f2f2",
             "white",
             "#f2f2f2",
             "white",
             "#f2f2f2",
             "white",
             "#f2f2f2",
             "white",
             "#f2f2f2",
             "white",
             "#f2f2f2",
             "white",
             "#f2f2f2",
             "white",
             "#f2f2f2",
             "white",
             "#f2f2f2",
             "white",
             "#f2f2f2",
             "white",
             "#f2f2f2",
             "white",
             "#f2f2f2",
             "white",
             "#f2f2f2",
             "white",
             "#f2f2f2",
             "white",
             "#f2f2f2",
             "white",
             "#f2f2f2",
             "white",
             "#f2f2f2",
             "white",
             "#f2f2f2",
             "white",
             "#f2f2f2",
             "white",
             "#f2f2f2",
             "white",
             "#f2f2f2",
             "white",
             "#f2f2f2",
             "white",
             "#f2f2f2",
             "white",
             "#f2f2f2",
             "white",
             "#f2f2f2",
             "white",
             "#f2f2f2",
             "white",
             "#f2f2f2",
             "white",
             "#f2f2f2",
             "white",
             "#f2f2f2",
             "white",
             "#f2f2f2",
             "white",
             "#f2f2f2",
             "white",
             "#f2f2f2",
             "white",
             "#f2f2f2",
             "white",
             "#f2f2f2",
             "white",
             "#f2f2f2",
             "white",
             "#f2f2f2",
             "white",
             "#f2f2f2",
             "white",
             "#f2f2f2",
             "white",
             "#f2f2f2",
             "white",
             "#f2f2f2",
             "white",
             "#f2f2f2",
             "white",
             "#f2f2f2",
             "white",
             "#f2f2f2",
             "white",
             "#f2f2f2",
             "white",
             "#f2f2f2",
             "white",
             "#f2f2f2",
             "white",
             "#f2f2f2",
             "white",
             "#f2f2f2",
             "white",
             "#f2f2f2",
             "white",
             "#f2f2f2",
             "white",
             "#f2f2f2",
             "white",
             "#f2f2f2",
             "white",
             "#f2f2f2",
             "white",
             "#f2f2f2",
             "white",
             "#f2f2f2",
             "white",
             "#f2f2f2",
             "white",
             "#f2f2f2",
             "white",
             "#f2f2f2",
             "white",
             "#f2f2f2",
             "white",
             "#f2f2f2",
             "white",
             "#f2f2f2",
             "white",
             "#f2f2f2",
             "white",
             "#f2f2f2",
             "white",
             "#f2f2f2",
             "white",
             "#f2f2f2",
             "white",
             "#f2f2f2",
             "white",
             "#f2f2f2",
             "white",
             "#f2f2f2",
             "white",
             "#f2f2f2",
             "white",
             "#f2f2f2",
             "white"
            ]
           ]
          },
          "font": {
           "size": 11
          },
          "height": 80,
          "values": [
           [
            "<b>Community 0</b>",
            "<b>Community 1</b>",
            "<b>Community 2</b>",
            "<b>Community 3</b>",
            "<b>Community 4</b>",
            "<b>Community 5</b>",
            "<b>Community 6</b>",
            "<b>Community 7</b>",
            "<b>Community 8</b>",
            "<b>Community 9</b>",
            "<b>Community 10</b>",
            "<b>Community 11</b>",
            "<b>Community 12</b>",
            "<b>Community 13</b>",
            "<b>Community 14</b>",
            "<b>Community 15</b>",
            "<b>Community 16</b>",
            "<b>Community 17</b>",
            "<b>Community 18</b>",
            "<b>Community 19</b>",
            "<b>Community 20</b>",
            "<b>Community 21</b>",
            "<b>Community 22</b>",
            "<b>Community 23</b>",
            "<b>Community 24</b>",
            "<b>Community 25</b>",
            "<b>Community 26</b>",
            "<b>Community 27</b>",
            "<b>Community 28</b>",
            "<b>Community 29</b>",
            "<b>Community 30</b>",
            "<b>Community 31</b>",
            "<b>Community 32</b>",
            "<b>Community 33</b>",
            "<b>Community 34</b>",
            "<b>Community 35</b>",
            "<b>Community 36</b>",
            "<b>Community 37</b>",
            "<b>Community 38</b>",
            "<b>Community 39</b>",
            "<b>Community 40</b>",
            "<b>Community 41</b>",
            "<b>Community 42</b>",
            "<b>Community 43</b>",
            "<b>Community 44</b>",
            "<b>Community 45</b>",
            "<b>Community 46</b>",
            "<b>Community 47</b>",
            "<b>Community 48</b>",
            "<b>Community 49</b>",
            "<b>Community 50</b>",
            "<b>Community 51</b>",
            "<b>Community 52</b>",
            "<b>Community 53</b>",
            "<b>Community 54</b>",
            "<b>Community 55</b>",
            "<b>Community 56</b>",
            "<b>Community 57</b>",
            "<b>Community 58</b>",
            "<b>Community 59</b>",
            "<b>Community 60</b>",
            "<b>Community 61</b>",
            "<b>Community 62</b>",
            "<b>Community 63</b>",
            "<b>Community 64</b>",
            "<b>Community 65</b>",
            "<b>Community 66</b>",
            "<b>Community 67</b>",
            "<b>Community 68</b>",
            "<b>Community 69</b>",
            "<b>Community 70</b>",
            "<b>Community 71</b>",
            "<b>Community 72</b>",
            "<b>Community 73</b>",
            "<b>Community 74</b>",
            "<b>Community 75</b>",
            "<b>Community 76</b>",
            "<b>Community 77</b>",
            "<b>Community 78</b>",
            "<b>Community 79</b>",
            "<b>Community 80</b>",
            "<b>Community 81</b>",
            "<b>Community 82</b>",
            "<b>Community 83</b>",
            "<b>Community 84</b>",
            "<b>Community 85</b>",
            "<b>Community 86</b>",
            "<b>Community 87</b>",
            "<b>Community 88</b>",
            "<b>Community 89</b>",
            "<b>Community 90</b>",
            "<b>Community 91</b>",
            "<b>Community 92</b>",
            "<b>Community 93</b>",
            "<b>Community 94</b>",
            "<b>Community 95</b>",
            "<b>Community 96</b>",
            "<b>Community 97</b>",
            "<b>Community 98</b>",
            "<b>Community 99</b>",
            "<b>Community 100</b>",
            "<b>Community 101</b>"
           ],
           [
            "Coca - Cola Classic  Soft Drink Multipack Cans",
            "Coca - Cola Classic  Soft Drink Mini Cans",
            "Coca - Cola Vanilla  Soft Drink Multipack Cans",
            "Coca - Cola Zero Sugar Soft Drink Multipack Cans",
            "Coca - Cola Caffeine Free Zero Sugar Soft Drink Multipack Cans",
            "Coca - Cola Zero Sugar Soft Drink Mini Cans",
            "Indomie Mi Goreng Instant Noodles",
            "Maggi 2 Minute Chicken Flavour Instant Noodles",
            "Supreme Noodles Cup Chicken Flavour",
            "Fantastic Chicken Noodle Cup",
            "Fantastic Chicken Noodle Bowl",
            "Indomie Mi Goreng Noodle Cup",
            "Maggi 2 Minute Beef Flavour Instant Noodles",
            "Supreme Noodles Cup Beef Flavour",
            "Schweppes Zero Sugar Lime Infused Mineral Water Bottle",
            "Schweppes Raspberry Infused Natural Mineral Water Bottle",
            "Schweppes Natural Mineral Water Bottle Natural",
            "Schweppes Soda Water Bottle Classic Mixers",
            "Schweppes Indian Tonic Water Classic Mixers Bottle",
            "Schweppes Lime Soda Water With Lime Juice Bottle",
            "Schweppes Zero Sugar Classic Mixers Indian Tonic Water Bottle",
            "Schweppes Lemon Lime Natural Mineral Water Bottle",
            "Schweppes Orange Mango Natural Mineral Water Bottle",
            "Kitkat 4 Finger Milk Chocolate Bar",
            "Kitkat Chunky Original Chocolate Bar",
            "Cadbury Dairy Milk Caramello Koala Chocolate",
            "Twix Milk Chocolate Bar With Caramel Biscuit",
            "Mars Chocolate Bar With Nougat & Caramel",
            "Cadbury Dairy Milk Chocolate Roll",
            "Cadbury Dairy Milk Chocolate Bar",
            "Cadbury Twirl Chocolate Bar",
            "Cadbury Chomp Chocolate Bar",
            "Arnott's Premier Chocolate Chip Cookies",
            "Woolworths Chocolate Chip Cookies",
            "Woolworths The King Of Chunky Chocolate Chip Cookies",
            "Arnott's Mini Choc Chip Cookie Multipack Biscuits",
            "Oreo Original Mini Cookies Multipack",
            "Oreo Minis Cookies Variety Bags 18 Pack",
            "Cadbury Classic Choc Chip Cookies",
            "Cadbury Choc Centre Cookies",
            "Byron Bay Cookies Dotty Cookie Bites",
            "Oreo Original Cookies",
            "Rimmel Scandaleyes Eye Definer Brown",
            "Woolworths Apple Juice",
            "Woolworths Apple & Mango Juice",
            "Woolworths Orange Juice",
            "Woolworths Breakfast Juice",
            "Woolworths Apple & Blackcurrant Juice",
            "Woolworths Multivitamin Juice",
            "Golden Circle Golden Pash Fruit Drink",
            "Golden Circle Drinks Pine Orange Fruit Drink",
            "Golden Circle Drinks Sunshine Punch Fruit Drink",
            "Golden Circle Fruit Drinks Lunch Box Poppers Tropical Punch Multipack",
            "Woolworths Full Cream Milk",
            "Dairy Farmers Full Cream Milk Full Cream Milk",
            "Norco Full Cream Milk",
            "A2 Milk Full Cream Milk",
            "Pauls Farmhouse Gold Full Cream Milk",
            "Oreo Double Stuff Cookies",
            "Oreo Original Cookies Family Pack",
            "Oreo Chocolate Cookies",
            "Oreo Grab & Go Original Cookies 9 Pack",
            "Oreo Neapolitan Double Stuff Cookies",
            "Woolworths Diced Italian Tomatoes",
            "Woolworths Lasagne Sheets",
            "Essentials Coconut Cream",
            "Woolworths Uht Full Cream Milk",
            "Deep Cove Sardines In Oil",
            "Woolworths Creamed Rice",
            "Essentials Coconut Milk",
            "Woolworths Tomato Sauce Squeeze",
            "Woolworths Tomato Sauce",
            "Woolworths Barbecue Sauce Squeeze",
            "Masterfoods Tomato Sauce",
            "Masterfoods Barbecue Sauce",
            "Fountain Tomato Sauce Squeeze",
            "Fountain Barbecue Bbq Sauce Squeeze",
            "Woolworths Secret Burger Sauce",
            "Heinz Ketchup Tomato Sauce Ketchup",
            "Woolworths Barbecue Sauce",
            "Woolworths Spring Water Bottles",
            "Woolworths Spring Water",
            "Frantelle Australian Still Spring Water Bottles Multipack",
            "Mount Franklin Spring Water Bottle",
            "Smith's Crinkle Cut Potato Chips Original",
            "Smith's Crinkle Cut Potato Chips Cheese & Onion",
            "Smith's Crinkle Cut Potato Chips Barbecue",
            "Smith's Crinkle Cut Potato Chips Chicken",
            "Thins Chips Salt & Vinegar",
            "Smith's Thinly Cut Potato Chips Original Share Pack",
            "Thins Chips Chicken",
            "Smith's Crinkle Cut Potato Chips Salt & Vinegar",
            "Thins Chips Light & Tangy",
            "Woolworths Peach In Strawberry Jelly",
            "Woolworths Two Fruits In Juice Cups",
            "Woolworths Two Fruits In Juice",
            "Woolworths Two Fruits In Tropical Jelly",
            "Woolworths Apple In Pineapple Jelly",
            "Goulburn Valley Two Fruits In Juice",
            "Dole Pineapple Slices In Syrup",
            "Dole Pineapple Chunks In Juice",
            "Goulburn Valley Two Fruits In Juice Fruit Cups In Juice"
           ]
          ]
         },
         "header": {
          "values": [
           "Community",
           "Products"
          ]
         },
         "type": "table"
        }
       ],
       "layout": {
        "height": 600,
        "template": {
         "data": {
          "bar": [
           {
            "error_x": {
             "color": "#2a3f5f"
            },
            "error_y": {
             "color": "#2a3f5f"
            },
            "marker": {
             "line": {
              "color": "#E5ECF6",
              "width": 0.5
             },
             "pattern": {
              "fillmode": "overlay",
              "size": 10,
              "solidity": 0.2
             }
            },
            "type": "bar"
           }
          ],
          "barpolar": [
           {
            "marker": {
             "line": {
              "color": "#E5ECF6",
              "width": 0.5
             },
             "pattern": {
              "fillmode": "overlay",
              "size": 10,
              "solidity": 0.2
             }
            },
            "type": "barpolar"
           }
          ],
          "carpet": [
           {
            "aaxis": {
             "endlinecolor": "#2a3f5f",
             "gridcolor": "white",
             "linecolor": "white",
             "minorgridcolor": "white",
             "startlinecolor": "#2a3f5f"
            },
            "baxis": {
             "endlinecolor": "#2a3f5f",
             "gridcolor": "white",
             "linecolor": "white",
             "minorgridcolor": "white",
             "startlinecolor": "#2a3f5f"
            },
            "type": "carpet"
           }
          ],
          "choropleth": [
           {
            "colorbar": {
             "outlinewidth": 0,
             "ticks": ""
            },
            "type": "choropleth"
           }
          ],
          "contour": [
           {
            "colorbar": {
             "outlinewidth": 0,
             "ticks": ""
            },
            "colorscale": [
             [
              0,
              "#0d0887"
             ],
             [
              0.1111111111111111,
              "#46039f"
             ],
             [
              0.2222222222222222,
              "#7201a8"
             ],
             [
              0.3333333333333333,
              "#9c179e"
             ],
             [
              0.4444444444444444,
              "#bd3786"
             ],
             [
              0.5555555555555556,
              "#d8576b"
             ],
             [
              0.6666666666666666,
              "#ed7953"
             ],
             [
              0.7777777777777778,
              "#fb9f3a"
             ],
             [
              0.8888888888888888,
              "#fdca26"
             ],
             [
              1,
              "#f0f921"
             ]
            ],
            "type": "contour"
           }
          ],
          "contourcarpet": [
           {
            "colorbar": {
             "outlinewidth": 0,
             "ticks": ""
            },
            "type": "contourcarpet"
           }
          ],
          "heatmap": [
           {
            "colorbar": {
             "outlinewidth": 0,
             "ticks": ""
            },
            "colorscale": [
             [
              0,
              "#0d0887"
             ],
             [
              0.1111111111111111,
              "#46039f"
             ],
             [
              0.2222222222222222,
              "#7201a8"
             ],
             [
              0.3333333333333333,
              "#9c179e"
             ],
             [
              0.4444444444444444,
              "#bd3786"
             ],
             [
              0.5555555555555556,
              "#d8576b"
             ],
             [
              0.6666666666666666,
              "#ed7953"
             ],
             [
              0.7777777777777778,
              "#fb9f3a"
             ],
             [
              0.8888888888888888,
              "#fdca26"
             ],
             [
              1,
              "#f0f921"
             ]
            ],
            "type": "heatmap"
           }
          ],
          "heatmapgl": [
           {
            "colorbar": {
             "outlinewidth": 0,
             "ticks": ""
            },
            "colorscale": [
             [
              0,
              "#0d0887"
             ],
             [
              0.1111111111111111,
              "#46039f"
             ],
             [
              0.2222222222222222,
              "#7201a8"
             ],
             [
              0.3333333333333333,
              "#9c179e"
             ],
             [
              0.4444444444444444,
              "#bd3786"
             ],
             [
              0.5555555555555556,
              "#d8576b"
             ],
             [
              0.6666666666666666,
              "#ed7953"
             ],
             [
              0.7777777777777778,
              "#fb9f3a"
             ],
             [
              0.8888888888888888,
              "#fdca26"
             ],
             [
              1,
              "#f0f921"
             ]
            ],
            "type": "heatmapgl"
           }
          ],
          "histogram": [
           {
            "marker": {
             "pattern": {
              "fillmode": "overlay",
              "size": 10,
              "solidity": 0.2
             }
            },
            "type": "histogram"
           }
          ],
          "histogram2d": [
           {
            "colorbar": {
             "outlinewidth": 0,
             "ticks": ""
            },
            "colorscale": [
             [
              0,
              "#0d0887"
             ],
             [
              0.1111111111111111,
              "#46039f"
             ],
             [
              0.2222222222222222,
              "#7201a8"
             ],
             [
              0.3333333333333333,
              "#9c179e"
             ],
             [
              0.4444444444444444,
              "#bd3786"
             ],
             [
              0.5555555555555556,
              "#d8576b"
             ],
             [
              0.6666666666666666,
              "#ed7953"
             ],
             [
              0.7777777777777778,
              "#fb9f3a"
             ],
             [
              0.8888888888888888,
              "#fdca26"
             ],
             [
              1,
              "#f0f921"
             ]
            ],
            "type": "histogram2d"
           }
          ],
          "histogram2dcontour": [
           {
            "colorbar": {
             "outlinewidth": 0,
             "ticks": ""
            },
            "colorscale": [
             [
              0,
              "#0d0887"
             ],
             [
              0.1111111111111111,
              "#46039f"
             ],
             [
              0.2222222222222222,
              "#7201a8"
             ],
             [
              0.3333333333333333,
              "#9c179e"
             ],
             [
              0.4444444444444444,
              "#bd3786"
             ],
             [
              0.5555555555555556,
              "#d8576b"
             ],
             [
              0.6666666666666666,
              "#ed7953"
             ],
             [
              0.7777777777777778,
              "#fb9f3a"
             ],
             [
              0.8888888888888888,
              "#fdca26"
             ],
             [
              1,
              "#f0f921"
             ]
            ],
            "type": "histogram2dcontour"
           }
          ],
          "mesh3d": [
           {
            "colorbar": {
             "outlinewidth": 0,
             "ticks": ""
            },
            "type": "mesh3d"
           }
          ],
          "parcoords": [
           {
            "line": {
             "colorbar": {
              "outlinewidth": 0,
              "ticks": ""
             }
            },
            "type": "parcoords"
           }
          ],
          "pie": [
           {
            "automargin": true,
            "type": "pie"
           }
          ],
          "scatter": [
           {
            "fillpattern": {
             "fillmode": "overlay",
             "size": 10,
             "solidity": 0.2
            },
            "type": "scatter"
           }
          ],
          "scatter3d": [
           {
            "line": {
             "colorbar": {
              "outlinewidth": 0,
              "ticks": ""
             }
            },
            "marker": {
             "colorbar": {
              "outlinewidth": 0,
              "ticks": ""
             }
            },
            "type": "scatter3d"
           }
          ],
          "scattercarpet": [
           {
            "marker": {
             "colorbar": {
              "outlinewidth": 0,
              "ticks": ""
             }
            },
            "type": "scattercarpet"
           }
          ],
          "scattergeo": [
           {
            "marker": {
             "colorbar": {
              "outlinewidth": 0,
              "ticks": ""
             }
            },
            "type": "scattergeo"
           }
          ],
          "scattergl": [
           {
            "marker": {
             "colorbar": {
              "outlinewidth": 0,
              "ticks": ""
             }
            },
            "type": "scattergl"
           }
          ],
          "scattermapbox": [
           {
            "marker": {
             "colorbar": {
              "outlinewidth": 0,
              "ticks": ""
             }
            },
            "type": "scattermapbox"
           }
          ],
          "scatterpolar": [
           {
            "marker": {
             "colorbar": {
              "outlinewidth": 0,
              "ticks": ""
             }
            },
            "type": "scatterpolar"
           }
          ],
          "scatterpolargl": [
           {
            "marker": {
             "colorbar": {
              "outlinewidth": 0,
              "ticks": ""
             }
            },
            "type": "scatterpolargl"
           }
          ],
          "scatterternary": [
           {
            "marker": {
             "colorbar": {
              "outlinewidth": 0,
              "ticks": ""
             }
            },
            "type": "scatterternary"
           }
          ],
          "surface": [
           {
            "colorbar": {
             "outlinewidth": 0,
             "ticks": ""
            },
            "colorscale": [
             [
              0,
              "#0d0887"
             ],
             [
              0.1111111111111111,
              "#46039f"
             ],
             [
              0.2222222222222222,
              "#7201a8"
             ],
             [
              0.3333333333333333,
              "#9c179e"
             ],
             [
              0.4444444444444444,
              "#bd3786"
             ],
             [
              0.5555555555555556,
              "#d8576b"
             ],
             [
              0.6666666666666666,
              "#ed7953"
             ],
             [
              0.7777777777777778,
              "#fb9f3a"
             ],
             [
              0.8888888888888888,
              "#fdca26"
             ],
             [
              1,
              "#f0f921"
             ]
            ],
            "type": "surface"
           }
          ],
          "table": [
           {
            "cells": {
             "fill": {
              "color": "#EBF0F8"
             },
             "line": {
              "color": "white"
             }
            },
            "header": {
             "fill": {
              "color": "#C8D4E3"
             },
             "line": {
              "color": "white"
             }
            },
            "type": "table"
           }
          ]
         },
         "layout": {
          "annotationdefaults": {
           "arrowcolor": "#2a3f5f",
           "arrowhead": 0,
           "arrowwidth": 1
          },
          "autotypenumbers": "strict",
          "coloraxis": {
           "colorbar": {
            "outlinewidth": 0,
            "ticks": ""
           }
          },
          "colorscale": {
           "diverging": [
            [
             0,
             "#8e0152"
            ],
            [
             0.1,
             "#c51b7d"
            ],
            [
             0.2,
             "#de77ae"
            ],
            [
             0.3,
             "#f1b6da"
            ],
            [
             0.4,
             "#fde0ef"
            ],
            [
             0.5,
             "#f7f7f7"
            ],
            [
             0.6,
             "#e6f5d0"
            ],
            [
             0.7,
             "#b8e186"
            ],
            [
             0.8,
             "#7fbc41"
            ],
            [
             0.9,
             "#4d9221"
            ],
            [
             1,
             "#276419"
            ]
           ],
           "sequential": [
            [
             0,
             "#0d0887"
            ],
            [
             0.1111111111111111,
             "#46039f"
            ],
            [
             0.2222222222222222,
             "#7201a8"
            ],
            [
             0.3333333333333333,
             "#9c179e"
            ],
            [
             0.4444444444444444,
             "#bd3786"
            ],
            [
             0.5555555555555556,
             "#d8576b"
            ],
            [
             0.6666666666666666,
             "#ed7953"
            ],
            [
             0.7777777777777778,
             "#fb9f3a"
            ],
            [
             0.8888888888888888,
             "#fdca26"
            ],
            [
             1,
             "#f0f921"
            ]
           ],
           "sequentialminus": [
            [
             0,
             "#0d0887"
            ],
            [
             0.1111111111111111,
             "#46039f"
            ],
            [
             0.2222222222222222,
             "#7201a8"
            ],
            [
             0.3333333333333333,
             "#9c179e"
            ],
            [
             0.4444444444444444,
             "#bd3786"
            ],
            [
             0.5555555555555556,
             "#d8576b"
            ],
            [
             0.6666666666666666,
             "#ed7953"
            ],
            [
             0.7777777777777778,
             "#fb9f3a"
            ],
            [
             0.8888888888888888,
             "#fdca26"
            ],
            [
             1,
             "#f0f921"
            ]
           ]
          },
          "colorway": [
           "#636efa",
           "#EF553B",
           "#00cc96",
           "#ab63fa",
           "#FFA15A",
           "#19d3f3",
           "#FF6692",
           "#B6E880",
           "#FF97FF",
           "#FECB52"
          ],
          "font": {
           "color": "#2a3f5f"
          },
          "geo": {
           "bgcolor": "white",
           "lakecolor": "white",
           "landcolor": "#E5ECF6",
           "showlakes": true,
           "showland": true,
           "subunitcolor": "white"
          },
          "hoverlabel": {
           "align": "left"
          },
          "hovermode": "closest",
          "mapbox": {
           "style": "light"
          },
          "paper_bgcolor": "white",
          "plot_bgcolor": "#E5ECF6",
          "polar": {
           "angularaxis": {
            "gridcolor": "white",
            "linecolor": "white",
            "ticks": ""
           },
           "bgcolor": "#E5ECF6",
           "radialaxis": {
            "gridcolor": "white",
            "linecolor": "white",
            "ticks": ""
           }
          },
          "scene": {
           "xaxis": {
            "backgroundcolor": "#E5ECF6",
            "gridcolor": "white",
            "gridwidth": 2,
            "linecolor": "white",
            "showbackground": true,
            "ticks": "",
            "zerolinecolor": "white"
           },
           "yaxis": {
            "backgroundcolor": "#E5ECF6",
            "gridcolor": "white",
            "gridwidth": 2,
            "linecolor": "white",
            "showbackground": true,
            "ticks": "",
            "zerolinecolor": "white"
           },
           "zaxis": {
            "backgroundcolor": "#E5ECF6",
            "gridcolor": "white",
            "gridwidth": 2,
            "linecolor": "white",
            "showbackground": true,
            "ticks": "",
            "zerolinecolor": "white"
           }
          },
          "shapedefaults": {
           "line": {
            "color": "#2a3f5f"
           }
          },
          "ternary": {
           "aaxis": {
            "gridcolor": "white",
            "linecolor": "white",
            "ticks": ""
           },
           "baxis": {
            "gridcolor": "white",
            "linecolor": "white",
            "ticks": ""
           },
           "bgcolor": "#E5ECF6",
           "caxis": {
            "gridcolor": "white",
            "linecolor": "white",
            "ticks": ""
           }
          },
          "title": {
           "x": 0.05
          },
          "xaxis": {
           "automargin": true,
           "gridcolor": "white",
           "linecolor": "white",
           "ticks": "",
           "title": {
            "standoff": 15
           },
           "zerolinecolor": "white",
           "zerolinewidth": 2
          },
          "yaxis": {
           "automargin": true,
           "gridcolor": "white",
           "linecolor": "white",
           "ticks": "",
           "title": {
            "standoff": 15
           },
           "zerolinecolor": "white",
           "zerolinewidth": 2
          }
         }
        },
        "title": {
         "text": "Product Communities"
        },
        "width": 1000
       }
      }
     },
     "metadata": {},
     "output_type": "display_data"
    }
   ],
   "source": [
    "import pandas as pd\n",
    "import networkx as nx\n",
    "import plotly.graph_objs as go\n",
    "from networkx.algorithms.community import label_propagation_communities\n",
    "\n",
    "from neo4j import GraphDatabase\n",
    "\n",
    "\n",
    "\n",
    "\n",
    "with driver.session() as session:\n",
    "    result = session.run(\"MATCH (p)-[:HAS_RECIPE]->(r:Recipe)-[:HAS_MANUFACTURING_PROCESS]->(i:ManufacturingProcess)\"\n",
    "                         \"RETURN p.name AS product, i.Step AS manufacturing_process\")\n",
    "    \n",
    "    \n",
    "    df = pd.DataFrame([record.values() for record in result], columns=result.keys())\n",
    "\n",
    "# Create teh product net\n",
    "product_net = nx.Graph()\n",
    "\n",
    "for _, row in df.iterrows():\n",
    "    product = row['product']\n",
    "    manufacturing_process = row['manufacturing_process']\n",
    "    \n",
    "    # Add node\n",
    "    product_net.add_node(product, manufacturing_process=manufacturing_process)\n",
    "\n",
    "# Detecting Communities Using Label Propagation Algorithms\n",
    "communities = list(label_propagation_communities(product_net))\n",
    "\n",
    "# Create the table data\n",
    "table_data = []\n",
    "for i, community in enumerate(communities):\n",
    "    row = [f\"<b>Community {i}</b>\"] + [\"<br>\".join(community)]\n",
    "    table_data.append(row)\n",
    "\n",
    "# Create the table\n",
    "table = go.Table(\n",
    "    header=dict(values=[\"Community\", \"Products\"]),\n",
    "    cells=dict(values=[list(zip(*table_data))[0], list(zip(*table_data))[1]] if table_data else [[]] * 2,  \n",
    "               fill_color=[['#f2f2f2', 'white'] * len(table_data)],\n",
    "               align=['center', 'left'],\n",
    "               font=dict(size=11),\n",
    "               height=80)\n",
    ")\n",
    "\n",
    "# Create the layout\n",
    "layout = go.Layout(title=\"Product Communities\",\n",
    "                   width=1000, height=600)\n",
    "\n",
    "# Create the figure\n",
    "fig = go.Figure(data=[table], layout=layout)\n",
    "fig.show()\n"
   ]
  },
  {
   "cell_type": "code",
   "execution_count": 27,
   "metadata": {},
   "outputs": [
    {
     "name": "stderr",
     "output_type": "stream",
     "text": [
      "c:\\Users\\apple\\anaconda3\\lib\\site-packages\\sklearn\\cluster\\_kmeans.py:870: FutureWarning:\n",
      "\n",
      "The default value of `n_init` will change from 10 to 'auto' in 1.4. Set the value of `n_init` explicitly to suppress the warning\n",
      "\n",
      "c:\\Users\\apple\\anaconda3\\lib\\site-packages\\sklearn\\cluster\\_kmeans.py:1382: UserWarning:\n",
      "\n",
      "KMeans is known to have a memory leak on Windows with MKL, when there are less chunks than available threads. You can avoid it by setting the environment variable OMP_NUM_THREADS=1.\n",
      "\n"
     ]
    },
    {
     "data": {
      "application/vnd.plotly.v1+json": {
       "config": {
        "plotlyServerURL": "https://plot.ly"
       },
       "data": [
        {
         "cells": {
          "align": [
           "center",
           "left"
          ],
          "fill": {
           "color": [
            [
             "#f2f2f2",
             "white",
             "#f2f2f2",
             "white",
             "#f2f2f2",
             "white",
             "#f2f2f2",
             "white",
             "#f2f2f2",
             "white"
            ]
           ]
          },
          "font": {
           "size": 11
          },
          "height": 80,
          "values": [
           [
            "<b>Cluster 0</b>",
            "<b>Cluster 1</b>",
            "<b>Cluster 2</b>",
            "<b>Cluster 3</b>",
            "<b>Cluster 4</b>"
           ],
           [
            "Coca - Cola Classic  Soft Drink Multipack Cans<br>Coca - Cola Classic  Soft Drink Multipack Cans<br>Coca - Cola Classic  Soft Drink Multipack Cans<br>Coca - Cola Classic  Soft Drink Mini Cans<br>Coca - Cola Vanilla  Soft Drink Multipack Cans<br>Coca - Cola Zero Sugar Soft Drink Multipack Cans<br>Coca - Cola Zero Sugar Soft Drink Multipack Cans<br>Coca - Cola Zero Sugar Soft Drink Multipack Cans<br>Coca - Cola Caffeine Free Zero Sugar Soft Drink Multipack Cans<br>Coca - Cola Zero Sugar Soft Drink Mini Cans<br>Indomie Mi Goreng Instant Noodles<br>Indomie Mi Goreng Instant Noodles<br>Indomie Mi Goreng Instant Noodles<br>Indomie Mi Goreng Instant Noodles<br>Maggi 2 Minute Chicken Flavour Instant Noodles<br>Maggi 2 Minute Chicken Flavour Instant Noodles<br>Supreme Noodles Cup Chicken Flavour<br>Fantastic Chicken Noodle Cup<br>Fantastic Chicken Noodle Bowl<br>Indomie Mi Goreng Noodle Cup<br>Maggi 2 Minute Beef Flavour Instant Noodles<br>Supreme Noodles Cup Beef Flavour<br>Schweppes Zero Sugar Lime Infused Mineral Water Bottle<br>Schweppes Raspberry Infused Natural Mineral Water Bottle<br>Schweppes Natural Mineral Water Bottle Natural<br>Schweppes Soda Water Bottle Classic Mixers<br>Schweppes Indian Tonic Water Classic Mixers Bottle<br>Schweppes Lime Soda Water With Lime Juice Bottle<br>Schweppes Zero Sugar Classic Mixers Indian Tonic Water Bottle<br>Schweppes Lemon Lime Natural Mineral Water Bottle<br>Schweppes Orange Mango Natural Mineral Water Bottle<br>Kitkat 4 Finger Milk Chocolate Bar<br>Kitkat Chunky Original Chocolate Bar<br>Cadbury Dairy Milk Caramello Koala Chocolate<br>Twix Milk Chocolate Bar With Caramel Biscuit<br>Mars Chocolate Bar With Nougat & Caramel<br>Cadbury Dairy Milk Chocolate Roll<br>Cadbury Dairy Milk Chocolate Bar<br>Cadbury Twirl Chocolate Bar<br>Cadbury Chomp Chocolate Bar<br>Arnott's Premier Chocolate Chip Cookies<br>Woolworths Chocolate Chip Cookies<br>Woolworths The King Of Chunky Chocolate Chip Cookies<br>Arnott's Mini Choc Chip Cookie Multipack Biscuits<br>Oreo Original Mini Cookies Multipack<br>Oreo Minis Cookies Variety Bags 18 Pack<br>Oreo Minis Cookies Variety Bags 18 Pack<br>Cadbury Classic Choc Chip Cookies<br>Cadbury Choc Centre Cookies<br>Byron Bay Cookies Dotty Cookie Bites<br>Oreo Original Cookies<br>Oreo Original Cookies<br>Oreo Original Cookies<br>Oreo Original Cookies<br>Oreo Original Cookies<br>Rimmel Scandaleyes Eye Definer Brown<br>Woolworths Apple Juice<br>Woolworths Apple & Mango Juice<br>Woolworths Apple & Mango Juice<br>Woolworths Apple & Mango Juice<br>Woolworths Orange Juice<br>Woolworths Breakfast Juice<br>Woolworths Apple & Blackcurrant Juice<br>Woolworths Multivitamin Juice<br>Golden Circle Golden Pash Fruit Drink<br>Golden Circle Golden Pash Fruit Drink<br>Golden Circle Drinks Pine Orange Fruit Drink<br>Golden Circle Drinks Sunshine Punch Fruit Drink<br>Golden Circle Drinks Sunshine Punch Fruit Drink<br>Golden Circle Fruit Drinks Lunch Box Poppers Tropical Punch Multipack<br>Golden Circle Fruit Drinks Lunch Box Poppers Tropical Punch Multipack<br>Golden Circle Fruit Drinks Lunch Box Poppers Tropical Punch Multipack<br>Woolworths Full Cream Milk<br>Woolworths Full Cream Milk<br>Dairy Farmers Full Cream Milk Full Cream Milk<br>Dairy Farmers Full Cream Milk Full Cream Milk<br>Norco Full Cream Milk<br>A2 Milk Full Cream Milk<br>A2 Milk Full Cream Milk<br>Pauls Farmhouse Gold Full Cream Milk<br>Oreo Double Stuff Cookies<br>Oreo Original Cookies Family Pack<br>Oreo Chocolate Cookies<br>Oreo Grab & Go Original Cookies 9 Pack<br>Oreo Neapolitan Double Stuff Cookies<br>Woolworths Diced Italian Tomatoes<br>Woolworths Diced Italian Tomatoes<br>Woolworths Lasagne Sheets<br>Essentials Coconut Cream<br>Woolworths Uht Full Cream Milk<br>Deep Cove Sardines In Oil<br>Woolworths Creamed Rice<br>Essentials Coconut Milk<br>Woolworths Tomato Sauce Squeeze<br>Woolworths Tomato Sauce<br>Woolworths Barbecue Sauce Squeeze<br>Masterfoods Tomato Sauce<br>Masterfoods Barbecue Sauce<br>Fountain Tomato Sauce Squeeze<br>Fountain Barbecue Bbq Sauce Squeeze<br>Woolworths Secret Burger Sauce<br>Woolworths Secret Burger Sauce<br>Heinz Ketchup Tomato Sauce Ketchup<br>Woolworths Barbecue Sauce<br>Woolworths Spring Water Bottles<br>Woolworths Spring Water<br>Woolworths Spring Water<br>Woolworths Spring Water<br>Frantelle Australian Still Spring Water Bottles Multipack<br>Mount Franklin Spring Water Bottle<br>Smith's Crinkle Cut Potato Chips Original<br>Smith's Crinkle Cut Potato Chips Cheese & Onion<br>Smith's Crinkle Cut Potato Chips Barbecue<br>Smith's Crinkle Cut Potato Chips Barbecue<br>Smith's Crinkle Cut Potato Chips Chicken<br>Thins Chips Salt & Vinegar<br>Smith's Thinly Cut Potato Chips Original Share Pack<br>Smith's Thinly Cut Potato Chips Original Share Pack<br>Thins Chips Chicken<br>Smith's Crinkle Cut Potato Chips Salt & Vinegar<br>Thins Chips Light & Tangy<br>Woolworths Peach In Strawberry Jelly<br>Woolworths Two Fruits In Juice Cups<br>Woolworths Two Fruits In Juice Cups<br>Woolworths Two Fruits In Juice<br>Woolworths Two Fruits In Juice<br>Woolworths Two Fruits In Juice<br>Woolworths Two Fruits In Tropical Jelly<br>Woolworths Two Fruits In Tropical Jelly<br>Woolworths Apple In Pineapple Jelly<br>Goulburn Valley Two Fruits In Juice<br>Dole Pineapple Slices In Syrup<br>Dole Pineapple Chunks In Juice<br>Goulburn Valley Two Fruits In Juice Fruit Cups In Juice",
            "Indomie Mi Goreng Instant Noodles<br>Oreo Minis Cookies Variety Bags 18 Pack<br>Oreo Original Cookies<br>Woolworths Apple & Mango Juice<br>Golden Circle Golden Pash Fruit Drink<br>Golden Circle Drinks Sunshine Punch Fruit Drink<br>Golden Circle Fruit Drinks Lunch Box Poppers Tropical Punch Multipack<br>Woolworths Secret Burger Sauce<br>Smith's Crinkle Cut Potato Chips Barbecue<br>Smith's Thinly Cut Potato Chips Original Share Pack<br>Woolworths Two Fruits In Juice Cups<br>Woolworths Two Fruits In Juice<br>Woolworths Two Fruits In Tropical Jelly",
            "Indomie Mi Goreng Instant Noodles<br>Oreo Minis Cookies Variety Bags 18 Pack<br>Oreo Original Cookies<br>Woolworths Apple & Mango Juice<br>Golden Circle Golden Pash Fruit Drink<br>Golden Circle Drinks Sunshine Punch Fruit Drink<br>Golden Circle Fruit Drinks Lunch Box Poppers Tropical Punch Multipack<br>Woolworths Secret Burger Sauce<br>Smith's Crinkle Cut Potato Chips Barbecue<br>Smith's Thinly Cut Potato Chips Original Share Pack<br>Woolworths Two Fruits In Juice Cups<br>Woolworths Two Fruits In Juice<br>Woolworths Two Fruits In Tropical Jelly",
            "Indomie Mi Goreng Instant Noodles<br>Oreo Original Cookies<br>Woolworths Apple & Mango Juice<br>Golden Circle Fruit Drinks Lunch Box Poppers Tropical Punch Multipack<br>Woolworths Two Fruits In Juice Cups<br>Woolworths Two Fruits In Juice",
            "Indomie Mi Goreng Instant Noodles<br>Oreo Minis Cookies Variety Bags 18 Pack<br>Oreo Original Cookies<br>Woolworths Apple & Mango Juice<br>Golden Circle Golden Pash Fruit Drink<br>Golden Circle Drinks Sunshine Punch Fruit Drink<br>Golden Circle Fruit Drinks Lunch Box Poppers Tropical Punch Multipack<br>Smith's Crinkle Cut Potato Chips Barbecue<br>Smith's Thinly Cut Potato Chips Original Share Pack<br>Woolworths Two Fruits In Juice Cups<br>Woolworths Two Fruits In Juice<br>Woolworths Two Fruits In Tropical Jelly"
           ]
          ]
         },
         "header": {
          "values": [
           "Cluster",
           "Products"
          ]
         },
         "type": "table"
        }
       ],
       "layout": {
        "height": 600,
        "template": {
         "data": {
          "bar": [
           {
            "error_x": {
             "color": "#2a3f5f"
            },
            "error_y": {
             "color": "#2a3f5f"
            },
            "marker": {
             "line": {
              "color": "#E5ECF6",
              "width": 0.5
             },
             "pattern": {
              "fillmode": "overlay",
              "size": 10,
              "solidity": 0.2
             }
            },
            "type": "bar"
           }
          ],
          "barpolar": [
           {
            "marker": {
             "line": {
              "color": "#E5ECF6",
              "width": 0.5
             },
             "pattern": {
              "fillmode": "overlay",
              "size": 10,
              "solidity": 0.2
             }
            },
            "type": "barpolar"
           }
          ],
          "carpet": [
           {
            "aaxis": {
             "endlinecolor": "#2a3f5f",
             "gridcolor": "white",
             "linecolor": "white",
             "minorgridcolor": "white",
             "startlinecolor": "#2a3f5f"
            },
            "baxis": {
             "endlinecolor": "#2a3f5f",
             "gridcolor": "white",
             "linecolor": "white",
             "minorgridcolor": "white",
             "startlinecolor": "#2a3f5f"
            },
            "type": "carpet"
           }
          ],
          "choropleth": [
           {
            "colorbar": {
             "outlinewidth": 0,
             "ticks": ""
            },
            "type": "choropleth"
           }
          ],
          "contour": [
           {
            "colorbar": {
             "outlinewidth": 0,
             "ticks": ""
            },
            "colorscale": [
             [
              0,
              "#0d0887"
             ],
             [
              0.1111111111111111,
              "#46039f"
             ],
             [
              0.2222222222222222,
              "#7201a8"
             ],
             [
              0.3333333333333333,
              "#9c179e"
             ],
             [
              0.4444444444444444,
              "#bd3786"
             ],
             [
              0.5555555555555556,
              "#d8576b"
             ],
             [
              0.6666666666666666,
              "#ed7953"
             ],
             [
              0.7777777777777778,
              "#fb9f3a"
             ],
             [
              0.8888888888888888,
              "#fdca26"
             ],
             [
              1,
              "#f0f921"
             ]
            ],
            "type": "contour"
           }
          ],
          "contourcarpet": [
           {
            "colorbar": {
             "outlinewidth": 0,
             "ticks": ""
            },
            "type": "contourcarpet"
           }
          ],
          "heatmap": [
           {
            "colorbar": {
             "outlinewidth": 0,
             "ticks": ""
            },
            "colorscale": [
             [
              0,
              "#0d0887"
             ],
             [
              0.1111111111111111,
              "#46039f"
             ],
             [
              0.2222222222222222,
              "#7201a8"
             ],
             [
              0.3333333333333333,
              "#9c179e"
             ],
             [
              0.4444444444444444,
              "#bd3786"
             ],
             [
              0.5555555555555556,
              "#d8576b"
             ],
             [
              0.6666666666666666,
              "#ed7953"
             ],
             [
              0.7777777777777778,
              "#fb9f3a"
             ],
             [
              0.8888888888888888,
              "#fdca26"
             ],
             [
              1,
              "#f0f921"
             ]
            ],
            "type": "heatmap"
           }
          ],
          "heatmapgl": [
           {
            "colorbar": {
             "outlinewidth": 0,
             "ticks": ""
            },
            "colorscale": [
             [
              0,
              "#0d0887"
             ],
             [
              0.1111111111111111,
              "#46039f"
             ],
             [
              0.2222222222222222,
              "#7201a8"
             ],
             [
              0.3333333333333333,
              "#9c179e"
             ],
             [
              0.4444444444444444,
              "#bd3786"
             ],
             [
              0.5555555555555556,
              "#d8576b"
             ],
             [
              0.6666666666666666,
              "#ed7953"
             ],
             [
              0.7777777777777778,
              "#fb9f3a"
             ],
             [
              0.8888888888888888,
              "#fdca26"
             ],
             [
              1,
              "#f0f921"
             ]
            ],
            "type": "heatmapgl"
           }
          ],
          "histogram": [
           {
            "marker": {
             "pattern": {
              "fillmode": "overlay",
              "size": 10,
              "solidity": 0.2
             }
            },
            "type": "histogram"
           }
          ],
          "histogram2d": [
           {
            "colorbar": {
             "outlinewidth": 0,
             "ticks": ""
            },
            "colorscale": [
             [
              0,
              "#0d0887"
             ],
             [
              0.1111111111111111,
              "#46039f"
             ],
             [
              0.2222222222222222,
              "#7201a8"
             ],
             [
              0.3333333333333333,
              "#9c179e"
             ],
             [
              0.4444444444444444,
              "#bd3786"
             ],
             [
              0.5555555555555556,
              "#d8576b"
             ],
             [
              0.6666666666666666,
              "#ed7953"
             ],
             [
              0.7777777777777778,
              "#fb9f3a"
             ],
             [
              0.8888888888888888,
              "#fdca26"
             ],
             [
              1,
              "#f0f921"
             ]
            ],
            "type": "histogram2d"
           }
          ],
          "histogram2dcontour": [
           {
            "colorbar": {
             "outlinewidth": 0,
             "ticks": ""
            },
            "colorscale": [
             [
              0,
              "#0d0887"
             ],
             [
              0.1111111111111111,
              "#46039f"
             ],
             [
              0.2222222222222222,
              "#7201a8"
             ],
             [
              0.3333333333333333,
              "#9c179e"
             ],
             [
              0.4444444444444444,
              "#bd3786"
             ],
             [
              0.5555555555555556,
              "#d8576b"
             ],
             [
              0.6666666666666666,
              "#ed7953"
             ],
             [
              0.7777777777777778,
              "#fb9f3a"
             ],
             [
              0.8888888888888888,
              "#fdca26"
             ],
             [
              1,
              "#f0f921"
             ]
            ],
            "type": "histogram2dcontour"
           }
          ],
          "mesh3d": [
           {
            "colorbar": {
             "outlinewidth": 0,
             "ticks": ""
            },
            "type": "mesh3d"
           }
          ],
          "parcoords": [
           {
            "line": {
             "colorbar": {
              "outlinewidth": 0,
              "ticks": ""
             }
            },
            "type": "parcoords"
           }
          ],
          "pie": [
           {
            "automargin": true,
            "type": "pie"
           }
          ],
          "scatter": [
           {
            "fillpattern": {
             "fillmode": "overlay",
             "size": 10,
             "solidity": 0.2
            },
            "type": "scatter"
           }
          ],
          "scatter3d": [
           {
            "line": {
             "colorbar": {
              "outlinewidth": 0,
              "ticks": ""
             }
            },
            "marker": {
             "colorbar": {
              "outlinewidth": 0,
              "ticks": ""
             }
            },
            "type": "scatter3d"
           }
          ],
          "scattercarpet": [
           {
            "marker": {
             "colorbar": {
              "outlinewidth": 0,
              "ticks": ""
             }
            },
            "type": "scattercarpet"
           }
          ],
          "scattergeo": [
           {
            "marker": {
             "colorbar": {
              "outlinewidth": 0,
              "ticks": ""
             }
            },
            "type": "scattergeo"
           }
          ],
          "scattergl": [
           {
            "marker": {
             "colorbar": {
              "outlinewidth": 0,
              "ticks": ""
             }
            },
            "type": "scattergl"
           }
          ],
          "scattermapbox": [
           {
            "marker": {
             "colorbar": {
              "outlinewidth": 0,
              "ticks": ""
             }
            },
            "type": "scattermapbox"
           }
          ],
          "scatterpolar": [
           {
            "marker": {
             "colorbar": {
              "outlinewidth": 0,
              "ticks": ""
             }
            },
            "type": "scatterpolar"
           }
          ],
          "scatterpolargl": [
           {
            "marker": {
             "colorbar": {
              "outlinewidth": 0,
              "ticks": ""
             }
            },
            "type": "scatterpolargl"
           }
          ],
          "scatterternary": [
           {
            "marker": {
             "colorbar": {
              "outlinewidth": 0,
              "ticks": ""
             }
            },
            "type": "scatterternary"
           }
          ],
          "surface": [
           {
            "colorbar": {
             "outlinewidth": 0,
             "ticks": ""
            },
            "colorscale": [
             [
              0,
              "#0d0887"
             ],
             [
              0.1111111111111111,
              "#46039f"
             ],
             [
              0.2222222222222222,
              "#7201a8"
             ],
             [
              0.3333333333333333,
              "#9c179e"
             ],
             [
              0.4444444444444444,
              "#bd3786"
             ],
             [
              0.5555555555555556,
              "#d8576b"
             ],
             [
              0.6666666666666666,
              "#ed7953"
             ],
             [
              0.7777777777777778,
              "#fb9f3a"
             ],
             [
              0.8888888888888888,
              "#fdca26"
             ],
             [
              1,
              "#f0f921"
             ]
            ],
            "type": "surface"
           }
          ],
          "table": [
           {
            "cells": {
             "fill": {
              "color": "#EBF0F8"
             },
             "line": {
              "color": "white"
             }
            },
            "header": {
             "fill": {
              "color": "#C8D4E3"
             },
             "line": {
              "color": "white"
             }
            },
            "type": "table"
           }
          ]
         },
         "layout": {
          "annotationdefaults": {
           "arrowcolor": "#2a3f5f",
           "arrowhead": 0,
           "arrowwidth": 1
          },
          "autotypenumbers": "strict",
          "coloraxis": {
           "colorbar": {
            "outlinewidth": 0,
            "ticks": ""
           }
          },
          "colorscale": {
           "diverging": [
            [
             0,
             "#8e0152"
            ],
            [
             0.1,
             "#c51b7d"
            ],
            [
             0.2,
             "#de77ae"
            ],
            [
             0.3,
             "#f1b6da"
            ],
            [
             0.4,
             "#fde0ef"
            ],
            [
             0.5,
             "#f7f7f7"
            ],
            [
             0.6,
             "#e6f5d0"
            ],
            [
             0.7,
             "#b8e186"
            ],
            [
             0.8,
             "#7fbc41"
            ],
            [
             0.9,
             "#4d9221"
            ],
            [
             1,
             "#276419"
            ]
           ],
           "sequential": [
            [
             0,
             "#0d0887"
            ],
            [
             0.1111111111111111,
             "#46039f"
            ],
            [
             0.2222222222222222,
             "#7201a8"
            ],
            [
             0.3333333333333333,
             "#9c179e"
            ],
            [
             0.4444444444444444,
             "#bd3786"
            ],
            [
             0.5555555555555556,
             "#d8576b"
            ],
            [
             0.6666666666666666,
             "#ed7953"
            ],
            [
             0.7777777777777778,
             "#fb9f3a"
            ],
            [
             0.8888888888888888,
             "#fdca26"
            ],
            [
             1,
             "#f0f921"
            ]
           ],
           "sequentialminus": [
            [
             0,
             "#0d0887"
            ],
            [
             0.1111111111111111,
             "#46039f"
            ],
            [
             0.2222222222222222,
             "#7201a8"
            ],
            [
             0.3333333333333333,
             "#9c179e"
            ],
            [
             0.4444444444444444,
             "#bd3786"
            ],
            [
             0.5555555555555556,
             "#d8576b"
            ],
            [
             0.6666666666666666,
             "#ed7953"
            ],
            [
             0.7777777777777778,
             "#fb9f3a"
            ],
            [
             0.8888888888888888,
             "#fdca26"
            ],
            [
             1,
             "#f0f921"
            ]
           ]
          },
          "colorway": [
           "#636efa",
           "#EF553B",
           "#00cc96",
           "#ab63fa",
           "#FFA15A",
           "#19d3f3",
           "#FF6692",
           "#B6E880",
           "#FF97FF",
           "#FECB52"
          ],
          "font": {
           "color": "#2a3f5f"
          },
          "geo": {
           "bgcolor": "white",
           "lakecolor": "white",
           "landcolor": "#E5ECF6",
           "showlakes": true,
           "showland": true,
           "subunitcolor": "white"
          },
          "hoverlabel": {
           "align": "left"
          },
          "hovermode": "closest",
          "mapbox": {
           "style": "light"
          },
          "paper_bgcolor": "white",
          "plot_bgcolor": "#E5ECF6",
          "polar": {
           "angularaxis": {
            "gridcolor": "white",
            "linecolor": "white",
            "ticks": ""
           },
           "bgcolor": "#E5ECF6",
           "radialaxis": {
            "gridcolor": "white",
            "linecolor": "white",
            "ticks": ""
           }
          },
          "scene": {
           "xaxis": {
            "backgroundcolor": "#E5ECF6",
            "gridcolor": "white",
            "gridwidth": 2,
            "linecolor": "white",
            "showbackground": true,
            "ticks": "",
            "zerolinecolor": "white"
           },
           "yaxis": {
            "backgroundcolor": "#E5ECF6",
            "gridcolor": "white",
            "gridwidth": 2,
            "linecolor": "white",
            "showbackground": true,
            "ticks": "",
            "zerolinecolor": "white"
           },
           "zaxis": {
            "backgroundcolor": "#E5ECF6",
            "gridcolor": "white",
            "gridwidth": 2,
            "linecolor": "white",
            "showbackground": true,
            "ticks": "",
            "zerolinecolor": "white"
           }
          },
          "shapedefaults": {
           "line": {
            "color": "#2a3f5f"
           }
          },
          "ternary": {
           "aaxis": {
            "gridcolor": "white",
            "linecolor": "white",
            "ticks": ""
           },
           "baxis": {
            "gridcolor": "white",
            "linecolor": "white",
            "ticks": ""
           },
           "bgcolor": "#E5ECF6",
           "caxis": {
            "gridcolor": "white",
            "linecolor": "white",
            "ticks": ""
           }
          },
          "title": {
           "x": 0.05
          },
          "xaxis": {
           "automargin": true,
           "gridcolor": "white",
           "linecolor": "white",
           "ticks": "",
           "title": {
            "standoff": 15
           },
           "zerolinecolor": "white",
           "zerolinewidth": 2
          },
          "yaxis": {
           "automargin": true,
           "gridcolor": "white",
           "linecolor": "white",
           "ticks": "",
           "title": {
            "standoff": 15
           },
           "zerolinecolor": "white",
           "zerolinewidth": 2
          }
         }
        },
        "title": {
         "text": "Product Clusters"
        },
        "width": 1000
       }
      }
     },
     "metadata": {},
     "output_type": "display_data"
    }
   ],
   "source": [
    "import pandas as pd\n",
    "import networkx as nx\n",
    "import plotly.graph_objs as go\n",
    "from sklearn.cluster import KMeans\n",
    "from sklearn.preprocessing import StandardScaler\n",
    "import numpy as np\n",
    "\n",
    "from neo4j import GraphDatabase\n",
    "\n",
    "\n",
    "with driver.session() as session:\n",
    "    result = session.run(\"MATCH (p)-[:HAS_RECIPE]->(r:Recipe)-[:HAS_MANUFACTURING_PROCESS]->(i:ManufacturingProcess)\"\n",
    "                         \"RETURN p.name AS product, i.Step AS manufacturing_process\")\n",
    "    \n",
    "\n",
    "    df = pd.DataFrame([record.values() for record in result], columns=result.keys())\n",
    "\n",
    "# Creating feature vectors\n",
    "# Simple examples are used here, you may need to create more complex feature vectors depending on the situation\n",
    "X = pd.get_dummies(df['manufacturing_process'])\n",
    "\n",
    "# Standardised feature vectors\n",
    "scaler = StandardScaler()\n",
    "X_scaled = scaler.fit_transform(X)\n",
    "\n",
    "# Clustering using the K-Means algorithm\n",
    "kmeans = KMeans(n_clusters=5)  # Assuming 5 communities\n",
    "kmeans.fit(X_scaled)\n",
    "clusters = kmeans.labels_\n",
    "\n",
    "# Add clustering results to DataFrame\n",
    "df['cluster'] = clusters\n",
    "\n",
    "# Create community lists\n",
    "communities = {}\n",
    "for cluster in set(clusters):\n",
    "    communities[cluster] = df[df['cluster'] == cluster]['product'].tolist()\n",
    "\n",
    "# Create the data\n",
    "table_data = []\n",
    "for cluster, products in sorted(communities.items()):\n",
    "    row = [f\"<b>Cluster {cluster}</b>\"] + [\"<br>\".join(products)]\n",
    "    table_data.append(row)\n",
    "\n",
    "# Create the table\n",
    "table = go.Table(\n",
    "    header=dict(values=[\"Cluster\", \"Products\"]),\n",
    "    cells=dict(values=[list(zip(*table_data))[0], list(zip(*table_data))[1]] if table_data else [[]] * 2,  \n",
    "               fill_color=[['#f2f2f2', 'white'] * len(table_data)],\n",
    "               align=['center', 'left'],\n",
    "               font=dict(size=11),\n",
    "               height=80)\n",
    ")\n",
    "\n",
    "# Create the Layout\n",
    "layout = go.Layout(title=\"Product Clusters\",\n",
    "                   width=1000, height=600)\n",
    "\n",
    "# Create the figure\n",
    "fig = go.Figure(data=[table], layout=layout)\n",
    "fig.show()\n"
   ]
  },
  {
   "cell_type": "code",
   "execution_count": 10,
   "metadata": {},
   "outputs": [
    {
     "name": "stderr",
     "output_type": "stream",
     "text": [
      "C:\\Users\\apple\\AppData\\Local\\Temp\\ipykernel_6040\\2200818171.py:33: DeprecationWarning: Using a driver after it has been closed is deprecated. Future versions of the driver will raise an error.\n",
      "  with driver.session() as session:\n",
      "C:\\Users\\apple\\AppData\\Local\\Temp\\ipykernel_6040\\2200818171.py:35: DeprecationWarning: write_transaction has been renamed to execute_write\n",
      "  session.write_transaction(create_manufacturing_process_community_nodes)\n",
      "C:\\Users\\apple\\AppData\\Local\\Temp\\ipykernel_6040\\2200818171.py:38: DeprecationWarning: write_transaction has been renamed to execute_write\n",
      "  session.write_transaction(create_product_community_relationships)\n"
     ]
    }
   ],
   "source": [
    "from neo4j import GraphDatabase\n",
    "\n",
    "\n",
    "# Define the manufacturing process community and its corresponding keywords\n",
    "manufacturing_process_communities = {\n",
    "        \"Mix\": [\"mix\"],\n",
    "        \"Baked\": [\"bak\"],\n",
    "        \"Fried\": [\"fried\"],\n",
    "        \"Pasteurized\": [\"pasteur\"],\n",
    "        \"Canned\": [\"can\"],\n",
    "        \"Dried\": [\"dry\"]\n",
    "}\n",
    "\n",
    "\n",
    "def create_manufacturing_process_community_nodes(tx):\n",
    "    # Create nodes for each manufacturing process community and add the community name as a name attribute to the node\n",
    "    for community in manufacturing_process_communities.keys():\n",
    "        tx.run(\"MERGE (c:ManufacturingProcessCommunity {name: $community})\",\n",
    "               community=community)\n",
    "\n",
    "def create_product_community_relationships(tx):\n",
    "    # Create relationships between product and manufacturing process communities\n",
    "    for community, keywords in manufacturing_process_communities.items():\n",
    "        query = \"\"\"\n",
    "        MATCH (p:Product)-[:HAS_RECIPE]->(r:Recipe)-[:HAS_MANUFACTURING_PROCESS]->(mp:ManufacturingProcess)\n",
    "        WHERE \"\"\" + \" OR \".join([\"toLower(mp.Description) CONTAINS '\" + keyword + \"'\" for keyword in keywords]) + \"\"\"\n",
    "        WITH p, collect(mp) as processes\n",
    "        MATCH (c:ManufacturingProcessCommunity {name: $community})\n",
    "        MERGE (p)-[:MANUFACTURED_BY]->(c)\n",
    "        \"\"\"\n",
    "        tx.run(query, community=community)\n",
    "\n",
    "with driver.session() as session:\n",
    "    # Create a manufacturing process community node and add the community name to the node as a name attribute\n",
    "    session.write_transaction(create_manufacturing_process_community_nodes)\n",
    "    \n",
    "    # Create relationships between product and manufacturing process communities\n",
    "    session.write_transaction(create_product_community_relationships)\n",
    "\n",
    "\n"
   ]
  }
 ],
 "metadata": {
  "kernelspec": {
   "display_name": "base",
   "language": "python",
   "name": "python3"
  },
  "language_info": {
   "codemirror_mode": {
    "name": "ipython",
    "version": 3
   },
   "file_extension": ".py",
   "mimetype": "text/x-python",
   "name": "python",
   "nbconvert_exporter": "python",
   "pygments_lexer": "ipython3",
   "version": "3.10.9"
  }
 },
 "nbformat": 4,
 "nbformat_minor": 2
}
