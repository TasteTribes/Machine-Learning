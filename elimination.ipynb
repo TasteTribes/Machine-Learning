{
 "cells": [
  {
   "cell_type": "code",
   "execution_count": 1,
   "metadata": {},
   "outputs": [
    {
     "name": "stdout",
     "output_type": "stream",
     "text": [
      "Connectivity verified successfully.\n"
     ]
    }
   ],
   "source": [
    "from neo4j import GraphDatabase\n",
    "\n",
    "def get_neo4j_driver() -> GraphDatabase.driver:\n",
    "    \"\"\"Establishes and returns a Neo4j session for AuraDB.\"\"\"\n",
    "    neo4j_uri = 'neo4j+s://9d1381c2.databases.neo4j.io:7687'\n",
    "    neo4j_user = 'Shirley'\n",
    "    neo4j_password = 'Sxl19950312'\n",
    "    return GraphDatabase.driver(neo4j_uri, auth=(neo4j_user, neo4j_password))\n",
    "\n",
    "# Call the function to get the driver\n",
    "driver = get_neo4j_driver()\n",
    "\n",
    "# Open a session\n",
    "with driver.session() as session:\n",
    "    # Verify connectivity within the session\n",
    "    session.run(\"RETURN 1\")\n",
    "\n",
    "print(\"Connectivity verified successfully.\")\n",
    "\n",
    "\n",
    "from dash import Dash, dcc, html\n",
    "import plotly.express as px\n",
    "import pandas as pd\n",
    "\n",
    "\n",
    "# Define a Cypher query to retrieve the required data\n",
    "query = \"\"\"\n",
    "MATCH (n)\n",
    "RETURN n\n",
    "\"\"\"\n",
    "\n",
    "# Execute the query and process the results\n",
    "with driver.session() as session:\n",
    "    result = session.run(query)\n",
    "    neo4j_data = [record.data() for record in result]\n",
    "\n",
    "# Converting Neo4j Data to Pandas DataFrame Format\n",
    "df = pd.DataFrame(neo4j_data)\n",
    "\n",
    "#print(df)"
   ]
  },
  {
   "cell_type": "code",
   "execution_count": 25,
   "metadata": {},
   "outputs": [
    {
     "data": {
      "application/vnd.plotly.v1+json": {
       "config": {
        "plotlyServerURL": "https://plot.ly"
       },
       "data": [
        {
         "text": [
          "Natural Flavour, Reconstituted Apple Juice, Citric Acid, Vitamin C",
          "Natural Flavour, Citric Acid, Vitamin C, Reconstituted Apple Juice, Reconstituted Mango Juice",
          "Natural Flavour, Citric Acid, Vitamin C, Reconstituted Fruit Juice Orange",
          "Natural Flavours, Citric Acid, Vitamin C, Reconstituted Apple Juice, Reconstituted Mango Juice, Reconstituted Fruit Juice Orange, Reconstituted Fruit Juice Pineapple, Reconstituted Fruit Juice Passionfruit, Carboxymethyl Cellulose",
          "Natural Flavour, Citric Acid, Vitamin C, Reconstituted Apple Juice, Reconstituted Fruit Juice Blackcurrant, Anthocyanins",
          "Natural Flavours, Folate, Citric Acid, Vitamin C, Reconstituted Apple Juice, Reconstituted Mango Juice, Reconstituted Fruit Juice Orange, Reconstituted Fruit Juice Passionfruit, Reconstituted Fruit Juice Grape, Reconstituted Fruit Juice Apricot, Reconstituted Fruit Juice Peach, Reconstituted Fruit Juice Pear, Reconstituted Lemon Juice, Guava Puree, Vitamin A",
          "Sugar, Water, Citric Acid, Natural Flavours, Vitamin C, Reconstituted Apple Juice, Reconstituted Fruit Juice Pineapple, Reconstituted Fruit Juice Passionfruit, Reconstituted Fruit Juice Pear, Potassium Citrate",
          "Sugar, Water, Citric Acid, Natural Flavour, Vitamin C, Reconstituted Fruit Juice Orange, Reconstituted Fruit Juice Pineapple, Pectin",
          "Sugar, Water, Citric Acid, Natural Flavours, Vitamin C, Reconstituted Apple Juice, Reconstituted Fruit Juice Orange, Reconstituted Fruit Juice Pineapple, Reconstituted Fruit Juice Passionfruit, Reconstituted Fruit Juice Pear, Potassium Citrate, Pectin, Reconstituted Fruit Juice Water Extracted Orange, Reconstituted Fruit Juice Peach Purée",
          "Sugar, Water, Citric Acid, Natural Flavours, Vitamin C, Reconstituted Apple Juice, Reconstituted Fruit Juice Orange, Reconstituted Fruit Juice Pineapple, Reconstituted Fruit Juice Passionfruit, Reconstituted Fruit Juice Pear, Potassium Citrate, Reconstituted Fruit Juice Peach Purée"
         ],
         "textposition": "auto",
         "type": "bar",
         "x": [
          "Woolworths Apple Juice",
          "Woolworths Apple & Mango Juice",
          "Woolworths Orange Juice",
          "Woolworths Breakfast Juice",
          "Woolworths Apple & Blackcurrant Juice",
          "Woolworths Multivitamin Juice",
          "Golden Circle Golden Pash Fruit Drink",
          "Golden Circle Drinks Pine Orange Fruit Drink",
          "Golden Circle Drinks Sunshine Punch Fruit Drink",
          "Golden Circle Fruit Drinks Lunch Box Poppers Tropical Punch Multipack"
         ],
         "y": [
          1,
          1,
          1,
          1,
          1,
          1,
          1,
          1,
          1,
          1
         ]
        }
       ],
       "layout": {
        "showlegend": false,
        "template": {
         "data": {
          "bar": [
           {
            "error_x": {
             "color": "#2a3f5f"
            },
            "error_y": {
             "color": "#2a3f5f"
            },
            "marker": {
             "line": {
              "color": "#E5ECF6",
              "width": 0.5
             },
             "pattern": {
              "fillmode": "overlay",
              "size": 10,
              "solidity": 0.2
             }
            },
            "type": "bar"
           }
          ],
          "barpolar": [
           {
            "marker": {
             "line": {
              "color": "#E5ECF6",
              "width": 0.5
             },
             "pattern": {
              "fillmode": "overlay",
              "size": 10,
              "solidity": 0.2
             }
            },
            "type": "barpolar"
           }
          ],
          "carpet": [
           {
            "aaxis": {
             "endlinecolor": "#2a3f5f",
             "gridcolor": "white",
             "linecolor": "white",
             "minorgridcolor": "white",
             "startlinecolor": "#2a3f5f"
            },
            "baxis": {
             "endlinecolor": "#2a3f5f",
             "gridcolor": "white",
             "linecolor": "white",
             "minorgridcolor": "white",
             "startlinecolor": "#2a3f5f"
            },
            "type": "carpet"
           }
          ],
          "choropleth": [
           {
            "colorbar": {
             "outlinewidth": 0,
             "ticks": ""
            },
            "type": "choropleth"
           }
          ],
          "contour": [
           {
            "colorbar": {
             "outlinewidth": 0,
             "ticks": ""
            },
            "colorscale": [
             [
              0,
              "#0d0887"
             ],
             [
              0.1111111111111111,
              "#46039f"
             ],
             [
              0.2222222222222222,
              "#7201a8"
             ],
             [
              0.3333333333333333,
              "#9c179e"
             ],
             [
              0.4444444444444444,
              "#bd3786"
             ],
             [
              0.5555555555555556,
              "#d8576b"
             ],
             [
              0.6666666666666666,
              "#ed7953"
             ],
             [
              0.7777777777777778,
              "#fb9f3a"
             ],
             [
              0.8888888888888888,
              "#fdca26"
             ],
             [
              1,
              "#f0f921"
             ]
            ],
            "type": "contour"
           }
          ],
          "contourcarpet": [
           {
            "colorbar": {
             "outlinewidth": 0,
             "ticks": ""
            },
            "type": "contourcarpet"
           }
          ],
          "heatmap": [
           {
            "colorbar": {
             "outlinewidth": 0,
             "ticks": ""
            },
            "colorscale": [
             [
              0,
              "#0d0887"
             ],
             [
              0.1111111111111111,
              "#46039f"
             ],
             [
              0.2222222222222222,
              "#7201a8"
             ],
             [
              0.3333333333333333,
              "#9c179e"
             ],
             [
              0.4444444444444444,
              "#bd3786"
             ],
             [
              0.5555555555555556,
              "#d8576b"
             ],
             [
              0.6666666666666666,
              "#ed7953"
             ],
             [
              0.7777777777777778,
              "#fb9f3a"
             ],
             [
              0.8888888888888888,
              "#fdca26"
             ],
             [
              1,
              "#f0f921"
             ]
            ],
            "type": "heatmap"
           }
          ],
          "heatmapgl": [
           {
            "colorbar": {
             "outlinewidth": 0,
             "ticks": ""
            },
            "colorscale": [
             [
              0,
              "#0d0887"
             ],
             [
              0.1111111111111111,
              "#46039f"
             ],
             [
              0.2222222222222222,
              "#7201a8"
             ],
             [
              0.3333333333333333,
              "#9c179e"
             ],
             [
              0.4444444444444444,
              "#bd3786"
             ],
             [
              0.5555555555555556,
              "#d8576b"
             ],
             [
              0.6666666666666666,
              "#ed7953"
             ],
             [
              0.7777777777777778,
              "#fb9f3a"
             ],
             [
              0.8888888888888888,
              "#fdca26"
             ],
             [
              1,
              "#f0f921"
             ]
            ],
            "type": "heatmapgl"
           }
          ],
          "histogram": [
           {
            "marker": {
             "pattern": {
              "fillmode": "overlay",
              "size": 10,
              "solidity": 0.2
             }
            },
            "type": "histogram"
           }
          ],
          "histogram2d": [
           {
            "colorbar": {
             "outlinewidth": 0,
             "ticks": ""
            },
            "colorscale": [
             [
              0,
              "#0d0887"
             ],
             [
              0.1111111111111111,
              "#46039f"
             ],
             [
              0.2222222222222222,
              "#7201a8"
             ],
             [
              0.3333333333333333,
              "#9c179e"
             ],
             [
              0.4444444444444444,
              "#bd3786"
             ],
             [
              0.5555555555555556,
              "#d8576b"
             ],
             [
              0.6666666666666666,
              "#ed7953"
             ],
             [
              0.7777777777777778,
              "#fb9f3a"
             ],
             [
              0.8888888888888888,
              "#fdca26"
             ],
             [
              1,
              "#f0f921"
             ]
            ],
            "type": "histogram2d"
           }
          ],
          "histogram2dcontour": [
           {
            "colorbar": {
             "outlinewidth": 0,
             "ticks": ""
            },
            "colorscale": [
             [
              0,
              "#0d0887"
             ],
             [
              0.1111111111111111,
              "#46039f"
             ],
             [
              0.2222222222222222,
              "#7201a8"
             ],
             [
              0.3333333333333333,
              "#9c179e"
             ],
             [
              0.4444444444444444,
              "#bd3786"
             ],
             [
              0.5555555555555556,
              "#d8576b"
             ],
             [
              0.6666666666666666,
              "#ed7953"
             ],
             [
              0.7777777777777778,
              "#fb9f3a"
             ],
             [
              0.8888888888888888,
              "#fdca26"
             ],
             [
              1,
              "#f0f921"
             ]
            ],
            "type": "histogram2dcontour"
           }
          ],
          "mesh3d": [
           {
            "colorbar": {
             "outlinewidth": 0,
             "ticks": ""
            },
            "type": "mesh3d"
           }
          ],
          "parcoords": [
           {
            "line": {
             "colorbar": {
              "outlinewidth": 0,
              "ticks": ""
             }
            },
            "type": "parcoords"
           }
          ],
          "pie": [
           {
            "automargin": true,
            "type": "pie"
           }
          ],
          "scatter": [
           {
            "fillpattern": {
             "fillmode": "overlay",
             "size": 10,
             "solidity": 0.2
            },
            "type": "scatter"
           }
          ],
          "scatter3d": [
           {
            "line": {
             "colorbar": {
              "outlinewidth": 0,
              "ticks": ""
             }
            },
            "marker": {
             "colorbar": {
              "outlinewidth": 0,
              "ticks": ""
             }
            },
            "type": "scatter3d"
           }
          ],
          "scattercarpet": [
           {
            "marker": {
             "colorbar": {
              "outlinewidth": 0,
              "ticks": ""
             }
            },
            "type": "scattercarpet"
           }
          ],
          "scattergeo": [
           {
            "marker": {
             "colorbar": {
              "outlinewidth": 0,
              "ticks": ""
             }
            },
            "type": "scattergeo"
           }
          ],
          "scattergl": [
           {
            "marker": {
             "colorbar": {
              "outlinewidth": 0,
              "ticks": ""
             }
            },
            "type": "scattergl"
           }
          ],
          "scattermapbox": [
           {
            "marker": {
             "colorbar": {
              "outlinewidth": 0,
              "ticks": ""
             }
            },
            "type": "scattermapbox"
           }
          ],
          "scatterpolar": [
           {
            "marker": {
             "colorbar": {
              "outlinewidth": 0,
              "ticks": ""
             }
            },
            "type": "scatterpolar"
           }
          ],
          "scatterpolargl": [
           {
            "marker": {
             "colorbar": {
              "outlinewidth": 0,
              "ticks": ""
             }
            },
            "type": "scatterpolargl"
           }
          ],
          "scatterternary": [
           {
            "marker": {
             "colorbar": {
              "outlinewidth": 0,
              "ticks": ""
             }
            },
            "type": "scatterternary"
           }
          ],
          "surface": [
           {
            "colorbar": {
             "outlinewidth": 0,
             "ticks": ""
            },
            "colorscale": [
             [
              0,
              "#0d0887"
             ],
             [
              0.1111111111111111,
              "#46039f"
             ],
             [
              0.2222222222222222,
              "#7201a8"
             ],
             [
              0.3333333333333333,
              "#9c179e"
             ],
             [
              0.4444444444444444,
              "#bd3786"
             ],
             [
              0.5555555555555556,
              "#d8576b"
             ],
             [
              0.6666666666666666,
              "#ed7953"
             ],
             [
              0.7777777777777778,
              "#fb9f3a"
             ],
             [
              0.8888888888888888,
              "#fdca26"
             ],
             [
              1,
              "#f0f921"
             ]
            ],
            "type": "surface"
           }
          ],
          "table": [
           {
            "cells": {
             "fill": {
              "color": "#EBF0F8"
             },
             "line": {
              "color": "white"
             }
            },
            "header": {
             "fill": {
              "color": "#C8D4E3"
             },
             "line": {
              "color": "white"
             }
            },
            "type": "table"
           }
          ]
         },
         "layout": {
          "annotationdefaults": {
           "arrowcolor": "#2a3f5f",
           "arrowhead": 0,
           "arrowwidth": 1
          },
          "autotypenumbers": "strict",
          "coloraxis": {
           "colorbar": {
            "outlinewidth": 0,
            "ticks": ""
           }
          },
          "colorscale": {
           "diverging": [
            [
             0,
             "#8e0152"
            ],
            [
             0.1,
             "#c51b7d"
            ],
            [
             0.2,
             "#de77ae"
            ],
            [
             0.3,
             "#f1b6da"
            ],
            [
             0.4,
             "#fde0ef"
            ],
            [
             0.5,
             "#f7f7f7"
            ],
            [
             0.6,
             "#e6f5d0"
            ],
            [
             0.7,
             "#b8e186"
            ],
            [
             0.8,
             "#7fbc41"
            ],
            [
             0.9,
             "#4d9221"
            ],
            [
             1,
             "#276419"
            ]
           ],
           "sequential": [
            [
             0,
             "#0d0887"
            ],
            [
             0.1111111111111111,
             "#46039f"
            ],
            [
             0.2222222222222222,
             "#7201a8"
            ],
            [
             0.3333333333333333,
             "#9c179e"
            ],
            [
             0.4444444444444444,
             "#bd3786"
            ],
            [
             0.5555555555555556,
             "#d8576b"
            ],
            [
             0.6666666666666666,
             "#ed7953"
            ],
            [
             0.7777777777777778,
             "#fb9f3a"
            ],
            [
             0.8888888888888888,
             "#fdca26"
            ],
            [
             1,
             "#f0f921"
            ]
           ],
           "sequentialminus": [
            [
             0,
             "#0d0887"
            ],
            [
             0.1111111111111111,
             "#46039f"
            ],
            [
             0.2222222222222222,
             "#7201a8"
            ],
            [
             0.3333333333333333,
             "#9c179e"
            ],
            [
             0.4444444444444444,
             "#bd3786"
            ],
            [
             0.5555555555555556,
             "#d8576b"
            ],
            [
             0.6666666666666666,
             "#ed7953"
            ],
            [
             0.7777777777777778,
             "#fb9f3a"
            ],
            [
             0.8888888888888888,
             "#fdca26"
            ],
            [
             1,
             "#f0f921"
            ]
           ]
          },
          "colorway": [
           "#636efa",
           "#EF553B",
           "#00cc96",
           "#ab63fa",
           "#FFA15A",
           "#19d3f3",
           "#FF6692",
           "#B6E880",
           "#FF97FF",
           "#FECB52"
          ],
          "font": {
           "color": "#2a3f5f"
          },
          "geo": {
           "bgcolor": "white",
           "lakecolor": "white",
           "landcolor": "#E5ECF6",
           "showlakes": true,
           "showland": true,
           "subunitcolor": "white"
          },
          "hoverlabel": {
           "align": "left"
          },
          "hovermode": "closest",
          "mapbox": {
           "style": "light"
          },
          "paper_bgcolor": "white",
          "plot_bgcolor": "#E5ECF6",
          "polar": {
           "angularaxis": {
            "gridcolor": "white",
            "linecolor": "white",
            "ticks": ""
           },
           "bgcolor": "#E5ECF6",
           "radialaxis": {
            "gridcolor": "white",
            "linecolor": "white",
            "ticks": ""
           }
          },
          "scene": {
           "xaxis": {
            "backgroundcolor": "#E5ECF6",
            "gridcolor": "white",
            "gridwidth": 2,
            "linecolor": "white",
            "showbackground": true,
            "ticks": "",
            "zerolinecolor": "white"
           },
           "yaxis": {
            "backgroundcolor": "#E5ECF6",
            "gridcolor": "white",
            "gridwidth": 2,
            "linecolor": "white",
            "showbackground": true,
            "ticks": "",
            "zerolinecolor": "white"
           },
           "zaxis": {
            "backgroundcolor": "#E5ECF6",
            "gridcolor": "white",
            "gridwidth": 2,
            "linecolor": "white",
            "showbackground": true,
            "ticks": "",
            "zerolinecolor": "white"
           }
          },
          "shapedefaults": {
           "line": {
            "color": "#2a3f5f"
           }
          },
          "ternary": {
           "aaxis": {
            "gridcolor": "white",
            "linecolor": "white",
            "ticks": ""
           },
           "baxis": {
            "gridcolor": "white",
            "linecolor": "white",
            "ticks": ""
           },
           "bgcolor": "#E5ECF6",
           "caxis": {
            "gridcolor": "white",
            "linecolor": "white",
            "ticks": ""
           }
          },
          "title": {
           "x": 0.05
          },
          "xaxis": {
           "automargin": true,
           "gridcolor": "white",
           "linecolor": "white",
           "ticks": "",
           "title": {
            "standoff": 15
           },
           "zerolinecolor": "white",
           "zerolinewidth": 2
          },
          "yaxis": {
           "automargin": true,
           "gridcolor": "white",
           "linecolor": "white",
           "ticks": "",
           "title": {
            "standoff": 15
           },
           "zerolinecolor": "white",
           "zerolinewidth": 2
          }
         }
        },
        "title": {
         "text": "Fruit Juice Drinks with Apple"
        },
        "xaxis": {
         "title": {
          "text": "Product"
         }
        },
        "yaxis": {
         "title": {
          "text": "Count"
         }
        }
       }
      }
     },
     "metadata": {},
     "output_type": "display_data"
    }
   ],
   "source": [
    "from neo4j import GraphDatabase\n",
    "import plotly.graph_objects as go\n",
    "\n",
    "\n",
    "# Define Cypher queries\n",
    "query = '''\n",
    "MATCH (p:Product)-[:COMMUNITY_TO]->(c:Community {name: \"Fruit juice drinks\"}),\n",
    "      (p)-[:HAS_RECIPE]->(r:Recipe)-[:USES_INGREDIENT]->(i:Ingredient)-[:HAS_RESEARCH]->(res:IngredientResearch)\n",
    "WHERE NOT EXISTS {\n",
    "  MATCH (p)-[:HAS_RECIPE]->(:Recipe)-[:USES_INGREDIENT]->(i:Ingredient)-[:HAS_RESEARCH]->(:IngredientResearch{ingredient_name :\"apple\"})\n",
    "}\n",
    "RETURN p.name AS product, COLLECT(res.ingredient_name) AS ingredients\n",
    "'''\n",
    "\n",
    "# Execute queries and process results\n",
    "with driver.session() as session:\n",
    "    results = session.run(query)\n",
    "    data = [record.data() for record in results]\n",
    "\n",
    "# Extract product names and ingredient lists\n",
    "products = [result['product'] for result in data]\n",
    "ingredients = [', '.join(result['ingredients']) for result in data]\n",
    "\n",
    "# Create bar chart\n",
    "fig = go.Figure(data=[go.Bar(x=products, y=[1] * len(products), text=ingredients, textposition='auto')])\n",
    "\n",
    "# Setting up the chart layout\n",
    "fig.update_layout(\n",
    "    title=\"Fruit Juice Drinks with Apple\",\n",
    "    xaxis_title=\"Product\",\n",
    "    yaxis_title=\"Count\",\n",
    "    showlegend=False\n",
    ")\n",
    "\n",
    "#show fig\n",
    "fig.show()"
   ]
  },
  {
   "cell_type": "code",
   "execution_count": 6,
   "metadata": {},
   "outputs": [
    {
     "name": "stderr",
     "output_type": "stream",
     "text": [
      "C:\\Users\\apple\\AppData\\Local\\Temp\\ipykernel_13268\\360157394.py:15: DeprecationWarning:\n",
      "\n",
      "read_transaction has been renamed to execute_read\n",
      "\n"
     ]
    },
    {
     "data": {
      "application/vnd.plotly.v1+json": {
       "config": {
        "plotlyServerURL": "https://plot.ly"
       },
       "data": [
        {
         "type": "bar",
         "x": [
          "Coca - Cola Classic  Soft Drink Multipack Cans",
          "Coca - Cola Classic  Soft Drink Mini Cans",
          "Coca - Cola Vanilla  Soft Drink Multipack Cans",
          "Coca - Cola Zero Sugar Soft Drink Multipack Cans",
          "Coca - Cola Caffeine Free Zero Sugar Soft Drink Multipack Cans",
          "Coca - Cola Zero Sugar Soft Drink Mini Cans",
          "Indomie Mi Goreng Instant Noodles",
          "Maggi 2 Minute Chicken Flavour Instant Noodles",
          "Supreme Noodles Cup Chicken Flavour",
          "Fantastic Chicken Noodle Cup",
          "Fantastic Chicken Noodle Bowl",
          "Indomie Mi Goreng Noodle Cup",
          "Maggi 2 Minute Beef Flavour Instant Noodles",
          "Supreme Noodles Cup Beef Flavour",
          "Schweppes Zero Sugar Lime Infused Mineral Water Bottle",
          "Schweppes Raspberry Infused Natural Mineral Water Bottle",
          "Schweppes Natural Mineral Water Bottle Natural",
          "Schweppes Soda Water Bottle Classic Mixers",
          "Schweppes Indian Tonic Water Classic Mixers Bottle",
          "Schweppes Lime Soda Water With Lime Juice Bottle",
          "Schweppes Zero Sugar Classic Mixers Indian Tonic Water Bottle",
          "Schweppes Lemon Lime Natural Mineral Water Bottle",
          "Schweppes Orange Mango Natural Mineral Water Bottle",
          "Kitkat 4 Finger Milk Chocolate Bar",
          "Kitkat Chunky Original Chocolate Bar",
          "Cadbury Dairy Milk Caramello Koala Chocolate",
          "Twix Milk Chocolate Bar With Caramel Biscuit",
          "Mars Chocolate Bar With Nougat & Caramel",
          "Cadbury Dairy Milk Chocolate Roll",
          "Cadbury Dairy Milk Chocolate Bar",
          "Cadbury Twirl Chocolate Bar",
          "Cadbury Chomp Chocolate Bar",
          "Arnott's Premier Chocolate Chip Cookies",
          "Woolworths Chocolate Chip Cookies",
          "Woolworths The King Of Chunky Chocolate Chip Cookies",
          "Arnott's Mini Choc Chip Cookie Multipack Biscuits",
          "Oreo Original Mini Cookies Multipack",
          "Oreo Minis Cookies Variety Bags 18 Pack",
          "Cadbury Classic Choc Chip Cookies",
          "Cadbury Choc Centre Cookies",
          "Byron Bay Cookies Dotty Cookie Bites",
          "Oreo Original Cookies",
          "Rimmel Scandaleyes Eye Definer Brown",
          "Woolworths Apple Juice",
          "Woolworths Apple & Mango Juice",
          "Woolworths Orange Juice",
          "Woolworths Breakfast Juice",
          "Woolworths Apple & Blackcurrant Juice",
          "Woolworths Multivitamin Juice",
          "Golden Circle Golden Pash Fruit Drink",
          "Golden Circle Drinks Pine Orange Fruit Drink",
          "Golden Circle Drinks Sunshine Punch Fruit Drink",
          "Golden Circle Fruit Drinks Lunch Box Poppers Tropical Punch Multipack",
          "Woolworths Full Cream Milk",
          "Dairy Farmers Full Cream Milk Full Cream Milk",
          "Norco Full Cream Milk",
          "A2 Milk Full Cream Milk",
          "Pauls Farmhouse Gold Full Cream Milk",
          "Oreo Double Stuff Cookies",
          "Oreo Original Cookies Family Pack",
          "Oreo Chocolate Cookies",
          "Oreo Grab & Go Original Cookies 9 Pack",
          "Oreo Neapolitan Double Stuff Cookies",
          "Woolworths Diced Italian Tomatoes",
          "Woolworths Lasagne Sheets",
          "Essentials Coconut Cream",
          "Woolworths Uht Full Cream Milk",
          "Deep Cove Sardines In Oil",
          "Woolworths Creamed Rice",
          "Essentials Coconut Milk",
          "Woolworths Tomato Sauce Squeeze",
          "Woolworths Tomato Sauce",
          "Woolworths Barbecue Sauce Squeeze",
          "Masterfoods Tomato Sauce",
          "Masterfoods Barbecue Sauce",
          "Fountain Tomato Sauce Squeeze",
          "Fountain Barbecue Bbq Sauce Squeeze",
          "Woolworths Secret Burger Sauce",
          "Heinz Ketchup Tomato Sauce Ketchup",
          "Woolworths Barbecue Sauce",
          "Woolworths Spring Water Bottles",
          "Woolworths Spring Water",
          "Frantelle Australian Still Spring Water Bottles Multipack",
          "Mount Franklin Spring Water Bottle",
          "Smith's Crinkle Cut Potato Chips Original",
          "Smith's Crinkle Cut Potato Chips Cheese & Onion",
          "Smith's Crinkle Cut Potato Chips Barbecue",
          "Smith's Crinkle Cut Potato Chips Chicken",
          "Thins Chips Salt & Vinegar",
          "Smith's Thinly Cut Potato Chips Original Share Pack",
          "Thins Chips Chicken",
          "Smith's Crinkle Cut Potato Chips Salt & Vinegar",
          "Thins Chips Light & Tangy",
          "Thins Cheese & Onion Chips",
          "Woolworths Peach In Strawberry Jelly",
          "Woolworths Two Fruits In Juice Cups",
          "Woolworths Two Fruits In Juice",
          "Woolworths Two Fruits In Tropical Jelly",
          "Woolworths Apple In Pineapple Jelly",
          "Goulburn Valley Two Fruits In Juice",
          "Dole Pineapple Slices In Syrup",
          "Dole Pineapple Chunks In Juice",
          "Goulburn Valley Two Fruits In Juice Fruit Cups In Juice"
         ],
         "y": [
          18,
          6,
          6,
          24,
          8,
          8,
          37,
          56,
          13,
          17,
          21,
          38,
          25,
          14,
          3,
          3,
          1,
          2,
          8,
          9,
          10,
          12,
          15,
          16,
          17,
          15,
          3,
          12,
          8,
          8,
          8,
          17,
          15,
          18,
          17,
          14,
          17,
          20,
          22,
          22,
          27,
          17,
          17,
          4,
          5,
          4,
          9,
          6,
          15,
          10,
          8,
          14,
          12,
          2,
          2,
          1,
          2,
          2,
          17,
          17,
          17,
          18,
          20,
          6,
          1,
          3,
          1,
          4,
          7,
          3,
          8,
          8,
          13,
          7,
          16,
          5,
          11,
          17,
          6,
          13,
          1,
          3,
          1,
          1,
          8,
          14,
          16,
          19,
          8,
          8,
          14,
          15,
          11,
          17,
          14,
          6,
          14,
          17,
          14,
          4,
          4,
          4,
          4
         ]
        }
       ],
       "layout": {
        "template": {
         "data": {
          "bar": [
           {
            "error_x": {
             "color": "#2a3f5f"
            },
            "error_y": {
             "color": "#2a3f5f"
            },
            "marker": {
             "line": {
              "color": "#E5ECF6",
              "width": 0.5
             },
             "pattern": {
              "fillmode": "overlay",
              "size": 10,
              "solidity": 0.2
             }
            },
            "type": "bar"
           }
          ],
          "barpolar": [
           {
            "marker": {
             "line": {
              "color": "#E5ECF6",
              "width": 0.5
             },
             "pattern": {
              "fillmode": "overlay",
              "size": 10,
              "solidity": 0.2
             }
            },
            "type": "barpolar"
           }
          ],
          "carpet": [
           {
            "aaxis": {
             "endlinecolor": "#2a3f5f",
             "gridcolor": "white",
             "linecolor": "white",
             "minorgridcolor": "white",
             "startlinecolor": "#2a3f5f"
            },
            "baxis": {
             "endlinecolor": "#2a3f5f",
             "gridcolor": "white",
             "linecolor": "white",
             "minorgridcolor": "white",
             "startlinecolor": "#2a3f5f"
            },
            "type": "carpet"
           }
          ],
          "choropleth": [
           {
            "colorbar": {
             "outlinewidth": 0,
             "ticks": ""
            },
            "type": "choropleth"
           }
          ],
          "contour": [
           {
            "colorbar": {
             "outlinewidth": 0,
             "ticks": ""
            },
            "colorscale": [
             [
              0,
              "#0d0887"
             ],
             [
              0.1111111111111111,
              "#46039f"
             ],
             [
              0.2222222222222222,
              "#7201a8"
             ],
             [
              0.3333333333333333,
              "#9c179e"
             ],
             [
              0.4444444444444444,
              "#bd3786"
             ],
             [
              0.5555555555555556,
              "#d8576b"
             ],
             [
              0.6666666666666666,
              "#ed7953"
             ],
             [
              0.7777777777777778,
              "#fb9f3a"
             ],
             [
              0.8888888888888888,
              "#fdca26"
             ],
             [
              1,
              "#f0f921"
             ]
            ],
            "type": "contour"
           }
          ],
          "contourcarpet": [
           {
            "colorbar": {
             "outlinewidth": 0,
             "ticks": ""
            },
            "type": "contourcarpet"
           }
          ],
          "heatmap": [
           {
            "colorbar": {
             "outlinewidth": 0,
             "ticks": ""
            },
            "colorscale": [
             [
              0,
              "#0d0887"
             ],
             [
              0.1111111111111111,
              "#46039f"
             ],
             [
              0.2222222222222222,
              "#7201a8"
             ],
             [
              0.3333333333333333,
              "#9c179e"
             ],
             [
              0.4444444444444444,
              "#bd3786"
             ],
             [
              0.5555555555555556,
              "#d8576b"
             ],
             [
              0.6666666666666666,
              "#ed7953"
             ],
             [
              0.7777777777777778,
              "#fb9f3a"
             ],
             [
              0.8888888888888888,
              "#fdca26"
             ],
             [
              1,
              "#f0f921"
             ]
            ],
            "type": "heatmap"
           }
          ],
          "heatmapgl": [
           {
            "colorbar": {
             "outlinewidth": 0,
             "ticks": ""
            },
            "colorscale": [
             [
              0,
              "#0d0887"
             ],
             [
              0.1111111111111111,
              "#46039f"
             ],
             [
              0.2222222222222222,
              "#7201a8"
             ],
             [
              0.3333333333333333,
              "#9c179e"
             ],
             [
              0.4444444444444444,
              "#bd3786"
             ],
             [
              0.5555555555555556,
              "#d8576b"
             ],
             [
              0.6666666666666666,
              "#ed7953"
             ],
             [
              0.7777777777777778,
              "#fb9f3a"
             ],
             [
              0.8888888888888888,
              "#fdca26"
             ],
             [
              1,
              "#f0f921"
             ]
            ],
            "type": "heatmapgl"
           }
          ],
          "histogram": [
           {
            "marker": {
             "pattern": {
              "fillmode": "overlay",
              "size": 10,
              "solidity": 0.2
             }
            },
            "type": "histogram"
           }
          ],
          "histogram2d": [
           {
            "colorbar": {
             "outlinewidth": 0,
             "ticks": ""
            },
            "colorscale": [
             [
              0,
              "#0d0887"
             ],
             [
              0.1111111111111111,
              "#46039f"
             ],
             [
              0.2222222222222222,
              "#7201a8"
             ],
             [
              0.3333333333333333,
              "#9c179e"
             ],
             [
              0.4444444444444444,
              "#bd3786"
             ],
             [
              0.5555555555555556,
              "#d8576b"
             ],
             [
              0.6666666666666666,
              "#ed7953"
             ],
             [
              0.7777777777777778,
              "#fb9f3a"
             ],
             [
              0.8888888888888888,
              "#fdca26"
             ],
             [
              1,
              "#f0f921"
             ]
            ],
            "type": "histogram2d"
           }
          ],
          "histogram2dcontour": [
           {
            "colorbar": {
             "outlinewidth": 0,
             "ticks": ""
            },
            "colorscale": [
             [
              0,
              "#0d0887"
             ],
             [
              0.1111111111111111,
              "#46039f"
             ],
             [
              0.2222222222222222,
              "#7201a8"
             ],
             [
              0.3333333333333333,
              "#9c179e"
             ],
             [
              0.4444444444444444,
              "#bd3786"
             ],
             [
              0.5555555555555556,
              "#d8576b"
             ],
             [
              0.6666666666666666,
              "#ed7953"
             ],
             [
              0.7777777777777778,
              "#fb9f3a"
             ],
             [
              0.8888888888888888,
              "#fdca26"
             ],
             [
              1,
              "#f0f921"
             ]
            ],
            "type": "histogram2dcontour"
           }
          ],
          "mesh3d": [
           {
            "colorbar": {
             "outlinewidth": 0,
             "ticks": ""
            },
            "type": "mesh3d"
           }
          ],
          "parcoords": [
           {
            "line": {
             "colorbar": {
              "outlinewidth": 0,
              "ticks": ""
             }
            },
            "type": "parcoords"
           }
          ],
          "pie": [
           {
            "automargin": true,
            "type": "pie"
           }
          ],
          "scatter": [
           {
            "fillpattern": {
             "fillmode": "overlay",
             "size": 10,
             "solidity": 0.2
            },
            "type": "scatter"
           }
          ],
          "scatter3d": [
           {
            "line": {
             "colorbar": {
              "outlinewidth": 0,
              "ticks": ""
             }
            },
            "marker": {
             "colorbar": {
              "outlinewidth": 0,
              "ticks": ""
             }
            },
            "type": "scatter3d"
           }
          ],
          "scattercarpet": [
           {
            "marker": {
             "colorbar": {
              "outlinewidth": 0,
              "ticks": ""
             }
            },
            "type": "scattercarpet"
           }
          ],
          "scattergeo": [
           {
            "marker": {
             "colorbar": {
              "outlinewidth": 0,
              "ticks": ""
             }
            },
            "type": "scattergeo"
           }
          ],
          "scattergl": [
           {
            "marker": {
             "colorbar": {
              "outlinewidth": 0,
              "ticks": ""
             }
            },
            "type": "scattergl"
           }
          ],
          "scattermapbox": [
           {
            "marker": {
             "colorbar": {
              "outlinewidth": 0,
              "ticks": ""
             }
            },
            "type": "scattermapbox"
           }
          ],
          "scatterpolar": [
           {
            "marker": {
             "colorbar": {
              "outlinewidth": 0,
              "ticks": ""
             }
            },
            "type": "scatterpolar"
           }
          ],
          "scatterpolargl": [
           {
            "marker": {
             "colorbar": {
              "outlinewidth": 0,
              "ticks": ""
             }
            },
            "type": "scatterpolargl"
           }
          ],
          "scatterternary": [
           {
            "marker": {
             "colorbar": {
              "outlinewidth": 0,
              "ticks": ""
             }
            },
            "type": "scatterternary"
           }
          ],
          "surface": [
           {
            "colorbar": {
             "outlinewidth": 0,
             "ticks": ""
            },
            "colorscale": [
             [
              0,
              "#0d0887"
             ],
             [
              0.1111111111111111,
              "#46039f"
             ],
             [
              0.2222222222222222,
              "#7201a8"
             ],
             [
              0.3333333333333333,
              "#9c179e"
             ],
             [
              0.4444444444444444,
              "#bd3786"
             ],
             [
              0.5555555555555556,
              "#d8576b"
             ],
             [
              0.6666666666666666,
              "#ed7953"
             ],
             [
              0.7777777777777778,
              "#fb9f3a"
             ],
             [
              0.8888888888888888,
              "#fdca26"
             ],
             [
              1,
              "#f0f921"
             ]
            ],
            "type": "surface"
           }
          ],
          "table": [
           {
            "cells": {
             "fill": {
              "color": "#EBF0F8"
             },
             "line": {
              "color": "white"
             }
            },
            "header": {
             "fill": {
              "color": "#C8D4E3"
             },
             "line": {
              "color": "white"
             }
            },
            "type": "table"
           }
          ]
         },
         "layout": {
          "annotationdefaults": {
           "arrowcolor": "#2a3f5f",
           "arrowhead": 0,
           "arrowwidth": 1
          },
          "autotypenumbers": "strict",
          "coloraxis": {
           "colorbar": {
            "outlinewidth": 0,
            "ticks": ""
           }
          },
          "colorscale": {
           "diverging": [
            [
             0,
             "#8e0152"
            ],
            [
             0.1,
             "#c51b7d"
            ],
            [
             0.2,
             "#de77ae"
            ],
            [
             0.3,
             "#f1b6da"
            ],
            [
             0.4,
             "#fde0ef"
            ],
            [
             0.5,
             "#f7f7f7"
            ],
            [
             0.6,
             "#e6f5d0"
            ],
            [
             0.7,
             "#b8e186"
            ],
            [
             0.8,
             "#7fbc41"
            ],
            [
             0.9,
             "#4d9221"
            ],
            [
             1,
             "#276419"
            ]
           ],
           "sequential": [
            [
             0,
             "#0d0887"
            ],
            [
             0.1111111111111111,
             "#46039f"
            ],
            [
             0.2222222222222222,
             "#7201a8"
            ],
            [
             0.3333333333333333,
             "#9c179e"
            ],
            [
             0.4444444444444444,
             "#bd3786"
            ],
            [
             0.5555555555555556,
             "#d8576b"
            ],
            [
             0.6666666666666666,
             "#ed7953"
            ],
            [
             0.7777777777777778,
             "#fb9f3a"
            ],
            [
             0.8888888888888888,
             "#fdca26"
            ],
            [
             1,
             "#f0f921"
            ]
           ],
           "sequentialminus": [
            [
             0,
             "#0d0887"
            ],
            [
             0.1111111111111111,
             "#46039f"
            ],
            [
             0.2222222222222222,
             "#7201a8"
            ],
            [
             0.3333333333333333,
             "#9c179e"
            ],
            [
             0.4444444444444444,
             "#bd3786"
            ],
            [
             0.5555555555555556,
             "#d8576b"
            ],
            [
             0.6666666666666666,
             "#ed7953"
            ],
            [
             0.7777777777777778,
             "#fb9f3a"
            ],
            [
             0.8888888888888888,
             "#fdca26"
            ],
            [
             1,
             "#f0f921"
            ]
           ]
          },
          "colorway": [
           "#636efa",
           "#EF553B",
           "#00cc96",
           "#ab63fa",
           "#FFA15A",
           "#19d3f3",
           "#FF6692",
           "#B6E880",
           "#FF97FF",
           "#FECB52"
          ],
          "font": {
           "color": "#2a3f5f"
          },
          "geo": {
           "bgcolor": "white",
           "lakecolor": "white",
           "landcolor": "#E5ECF6",
           "showlakes": true,
           "showland": true,
           "subunitcolor": "white"
          },
          "hoverlabel": {
           "align": "left"
          },
          "hovermode": "closest",
          "mapbox": {
           "style": "light"
          },
          "paper_bgcolor": "white",
          "plot_bgcolor": "#E5ECF6",
          "polar": {
           "angularaxis": {
            "gridcolor": "white",
            "linecolor": "white",
            "ticks": ""
           },
           "bgcolor": "#E5ECF6",
           "radialaxis": {
            "gridcolor": "white",
            "linecolor": "white",
            "ticks": ""
           }
          },
          "scene": {
           "xaxis": {
            "backgroundcolor": "#E5ECF6",
            "gridcolor": "white",
            "gridwidth": 2,
            "linecolor": "white",
            "showbackground": true,
            "ticks": "",
            "zerolinecolor": "white"
           },
           "yaxis": {
            "backgroundcolor": "#E5ECF6",
            "gridcolor": "white",
            "gridwidth": 2,
            "linecolor": "white",
            "showbackground": true,
            "ticks": "",
            "zerolinecolor": "white"
           },
           "zaxis": {
            "backgroundcolor": "#E5ECF6",
            "gridcolor": "white",
            "gridwidth": 2,
            "linecolor": "white",
            "showbackground": true,
            "ticks": "",
            "zerolinecolor": "white"
           }
          },
          "shapedefaults": {
           "line": {
            "color": "#2a3f5f"
           }
          },
          "ternary": {
           "aaxis": {
            "gridcolor": "white",
            "linecolor": "white",
            "ticks": ""
           },
           "baxis": {
            "gridcolor": "white",
            "linecolor": "white",
            "ticks": ""
           },
           "bgcolor": "#E5ECF6",
           "caxis": {
            "gridcolor": "white",
            "linecolor": "white",
            "ticks": ""
           }
          },
          "title": {
           "x": 0.05
          },
          "xaxis": {
           "automargin": true,
           "gridcolor": "white",
           "linecolor": "white",
           "ticks": "",
           "title": {
            "standoff": 15
           },
           "zerolinecolor": "white",
           "zerolinewidth": 2
          },
          "yaxis": {
           "automargin": true,
           "gridcolor": "white",
           "linecolor": "white",
           "ticks": "",
           "title": {
            "standoff": 15
           },
           "zerolinecolor": "white",
           "zerolinewidth": 2
          }
         }
        },
        "title": {
         "text": "Number of Product and IngredientResearch"
        },
        "xaxis": {
         "tickangle": -45,
         "title": {
          "text": "Product"
         }
        },
        "yaxis": {
         "title": {
          "text": "Number of IngredientResearch"
         }
        }
       }
      }
     },
     "metadata": {},
     "output_type": "display_data"
    }
   ],
   "source": [
    "from neo4j import GraphDatabase\n",
    "import plotly.graph_objects as go\n",
    "\n",
    "# 定义查询函数\n",
    "def run_query(tx):\n",
    "    query = \"\"\"\n",
    "    MATCH (p:Product)-[:HAS_RECIPE]->(:Recipe)-[:USES_INGREDIENT]->(:Ingredient)-[:HAS_RESEARCH]->(ir:IngredientResearch)\n",
    "    RETURN p.name AS product, ir.ingredient_name AS ingredient\n",
    "    \"\"\"\n",
    "    result = tx.run(query)\n",
    "    return [(record[\"product\"], record[\"ingredient\"]) for record in result]\n",
    "\n",
    "# 执行查询并获取结果\n",
    "with driver.session() as session:\n",
    "    results = session.read_transaction(run_query)\n",
    "\n",
    "# 统计每个产品的配料研究数量\n",
    "product_counts = {}\n",
    "for product, ingredient in results:\n",
    "    if product not in product_counts:\n",
    "        product_counts[product] = 0\n",
    "    product_counts[product] += 1\n",
    "\n",
    "# 准备数据\n",
    "products = list(product_counts.keys())\n",
    "counts = list(product_counts.values())\n",
    "\n",
    "# 创建条形图\n",
    "fig = go.Figure(data=[go.Bar(x=products, y=counts)])\n",
    "\n",
    "# 更新布局\n",
    "fig.update_layout(\n",
    "    title='Number of Product and IngredientResearch',\n",
    "    xaxis_title='Product',\n",
    "    yaxis_title='Number of IngredientResearch',\n",
    "    xaxis_tickangle=-45\n",
    ")\n",
    "\n",
    "# 显示图形\n",
    "fig.show()"
   ]
  },
  {
   "cell_type": "code",
   "execution_count": 4,
   "metadata": {},
   "outputs": [
    {
     "ename": "NameError",
     "evalue": "name 'data' is not defined",
     "output_type": "error",
     "traceback": [
      "\u001b[1;31m---------------------------------------------------------------------------\u001b[0m",
      "\u001b[1;31mNameError\u001b[0m                                 Traceback (most recent call last)",
      "Cell \u001b[1;32mIn[4], line 2\u001b[0m\n\u001b[0;32m      1\u001b[0m \u001b[38;5;66;03m# Extract product names and ingredient lists\u001b[39;00m\n\u001b[1;32m----> 2\u001b[0m products \u001b[38;5;241m=\u001b[39m [result[\u001b[38;5;124m'\u001b[39m\u001b[38;5;124mproduct\u001b[39m\u001b[38;5;124m'\u001b[39m] \u001b[38;5;28;01mfor\u001b[39;00m result \u001b[38;5;129;01min\u001b[39;00m \u001b[43mdata\u001b[49m]\n\u001b[0;32m      3\u001b[0m ingredients \u001b[38;5;241m=\u001b[39m [\u001b[38;5;124m'\u001b[39m\u001b[38;5;124m, \u001b[39m\u001b[38;5;124m'\u001b[39m\u001b[38;5;241m.\u001b[39mjoin(result[\u001b[38;5;124m'\u001b[39m\u001b[38;5;124mingredients\u001b[39m\u001b[38;5;124m'\u001b[39m]) \u001b[38;5;28;01mfor\u001b[39;00m result \u001b[38;5;129;01min\u001b[39;00m data]\n\u001b[0;32m      5\u001b[0m \u001b[38;5;66;03m# Create the figure\u001b[39;00m\n",
      "\u001b[1;31mNameError\u001b[0m: name 'data' is not defined"
     ]
    }
   ],
   "source": [
    "# Extract product names and ingredient lists\n",
    "products = [result['product'] for result in data]\n",
    "ingredients = [', '.join(result['ingredients']) for result in data]\n",
    "\n",
    "# Create the figure\n",
    "fig = go.Figure(data=[go.Table(\n",
    "    header=dict(values=[\"Product\", \"Ingredients\"]),\n",
    "    cells=dict(values=[products, ingredients])\n",
    ")])\n",
    "\n",
    "# set up the layout\n",
    "fig.update_layout(\n",
    "    title=\"Fruit Juice Drinks with Apple\",\n",
    "    height=400\n",
    ")\n",
    "\n",
    "# show chart\n",
    "fig.show()"
   ]
  },
  {
   "cell_type": "code",
   "execution_count": 10,
   "metadata": {},
   "outputs": [
    {
     "name": "stderr",
     "output_type": "stream",
     "text": [
      "C:\\Users\\apple\\AppData\\Local\\Temp\\ipykernel_13268\\985950102.py:15: DeprecationWarning:\n",
      "\n",
      "read_transaction has been renamed to execute_read\n",
      "\n"
     ]
    },
    {
     "data": {
      "application/vnd.plotly.v1+json": {
       "config": {
        "plotlyServerURL": "https://plot.ly"
       },
       "data": [
        {
         "hovertext": [
          "Maggi 2 Minute Chicken Flavour Instant Noodles",
          "Indomie Mi Goreng Noodle Cup",
          "Indomie Mi Goreng Instant Noodles",
          "Byron Bay Cookies Dotty Cookie Bites",
          "Maggi 2 Minute Beef Flavour Instant Noodles",
          "Coca - Cola Zero Sugar Soft Drink Multipack Cans",
          "Cadbury Classic Choc Chip Cookies",
          "Cadbury Choc Centre Cookies",
          "Fantastic Chicken Noodle Bowl",
          "Oreo Minis Cookies Variety Bags 18 Pack"
         ],
         "type": "bar",
         "x": [
          "Maggi 2 Minute Chick...",
          "Indomie Mi Goreng No...",
          "Indomie Mi Goreng In...",
          "Byron Bay Cookies Do...",
          "Maggi 2 Minute Beef ...",
          "Coca - Cola Zero Sug...",
          "Cadbury Classic Choc...",
          "Cadbury Choc Centre ...",
          "Fantastic Chicken No...",
          "Oreo Minis Cookies V..."
         ],
         "y": [
          56,
          38,
          37,
          27,
          25,
          24,
          22,
          22,
          21,
          20
         ]
        }
       ],
       "layout": {
        "height": 600,
        "hovermode": "x",
        "template": {
         "data": {
          "bar": [
           {
            "error_x": {
             "color": "#2a3f5f"
            },
            "error_y": {
             "color": "#2a3f5f"
            },
            "marker": {
             "line": {
              "color": "#E5ECF6",
              "width": 0.5
             },
             "pattern": {
              "fillmode": "overlay",
              "size": 10,
              "solidity": 0.2
             }
            },
            "type": "bar"
           }
          ],
          "barpolar": [
           {
            "marker": {
             "line": {
              "color": "#E5ECF6",
              "width": 0.5
             },
             "pattern": {
              "fillmode": "overlay",
              "size": 10,
              "solidity": 0.2
             }
            },
            "type": "barpolar"
           }
          ],
          "carpet": [
           {
            "aaxis": {
             "endlinecolor": "#2a3f5f",
             "gridcolor": "white",
             "linecolor": "white",
             "minorgridcolor": "white",
             "startlinecolor": "#2a3f5f"
            },
            "baxis": {
             "endlinecolor": "#2a3f5f",
             "gridcolor": "white",
             "linecolor": "white",
             "minorgridcolor": "white",
             "startlinecolor": "#2a3f5f"
            },
            "type": "carpet"
           }
          ],
          "choropleth": [
           {
            "colorbar": {
             "outlinewidth": 0,
             "ticks": ""
            },
            "type": "choropleth"
           }
          ],
          "contour": [
           {
            "colorbar": {
             "outlinewidth": 0,
             "ticks": ""
            },
            "colorscale": [
             [
              0,
              "#0d0887"
             ],
             [
              0.1111111111111111,
              "#46039f"
             ],
             [
              0.2222222222222222,
              "#7201a8"
             ],
             [
              0.3333333333333333,
              "#9c179e"
             ],
             [
              0.4444444444444444,
              "#bd3786"
             ],
             [
              0.5555555555555556,
              "#d8576b"
             ],
             [
              0.6666666666666666,
              "#ed7953"
             ],
             [
              0.7777777777777778,
              "#fb9f3a"
             ],
             [
              0.8888888888888888,
              "#fdca26"
             ],
             [
              1,
              "#f0f921"
             ]
            ],
            "type": "contour"
           }
          ],
          "contourcarpet": [
           {
            "colorbar": {
             "outlinewidth": 0,
             "ticks": ""
            },
            "type": "contourcarpet"
           }
          ],
          "heatmap": [
           {
            "colorbar": {
             "outlinewidth": 0,
             "ticks": ""
            },
            "colorscale": [
             [
              0,
              "#0d0887"
             ],
             [
              0.1111111111111111,
              "#46039f"
             ],
             [
              0.2222222222222222,
              "#7201a8"
             ],
             [
              0.3333333333333333,
              "#9c179e"
             ],
             [
              0.4444444444444444,
              "#bd3786"
             ],
             [
              0.5555555555555556,
              "#d8576b"
             ],
             [
              0.6666666666666666,
              "#ed7953"
             ],
             [
              0.7777777777777778,
              "#fb9f3a"
             ],
             [
              0.8888888888888888,
              "#fdca26"
             ],
             [
              1,
              "#f0f921"
             ]
            ],
            "type": "heatmap"
           }
          ],
          "heatmapgl": [
           {
            "colorbar": {
             "outlinewidth": 0,
             "ticks": ""
            },
            "colorscale": [
             [
              0,
              "#0d0887"
             ],
             [
              0.1111111111111111,
              "#46039f"
             ],
             [
              0.2222222222222222,
              "#7201a8"
             ],
             [
              0.3333333333333333,
              "#9c179e"
             ],
             [
              0.4444444444444444,
              "#bd3786"
             ],
             [
              0.5555555555555556,
              "#d8576b"
             ],
             [
              0.6666666666666666,
              "#ed7953"
             ],
             [
              0.7777777777777778,
              "#fb9f3a"
             ],
             [
              0.8888888888888888,
              "#fdca26"
             ],
             [
              1,
              "#f0f921"
             ]
            ],
            "type": "heatmapgl"
           }
          ],
          "histogram": [
           {
            "marker": {
             "pattern": {
              "fillmode": "overlay",
              "size": 10,
              "solidity": 0.2
             }
            },
            "type": "histogram"
           }
          ],
          "histogram2d": [
           {
            "colorbar": {
             "outlinewidth": 0,
             "ticks": ""
            },
            "colorscale": [
             [
              0,
              "#0d0887"
             ],
             [
              0.1111111111111111,
              "#46039f"
             ],
             [
              0.2222222222222222,
              "#7201a8"
             ],
             [
              0.3333333333333333,
              "#9c179e"
             ],
             [
              0.4444444444444444,
              "#bd3786"
             ],
             [
              0.5555555555555556,
              "#d8576b"
             ],
             [
              0.6666666666666666,
              "#ed7953"
             ],
             [
              0.7777777777777778,
              "#fb9f3a"
             ],
             [
              0.8888888888888888,
              "#fdca26"
             ],
             [
              1,
              "#f0f921"
             ]
            ],
            "type": "histogram2d"
           }
          ],
          "histogram2dcontour": [
           {
            "colorbar": {
             "outlinewidth": 0,
             "ticks": ""
            },
            "colorscale": [
             [
              0,
              "#0d0887"
             ],
             [
              0.1111111111111111,
              "#46039f"
             ],
             [
              0.2222222222222222,
              "#7201a8"
             ],
             [
              0.3333333333333333,
              "#9c179e"
             ],
             [
              0.4444444444444444,
              "#bd3786"
             ],
             [
              0.5555555555555556,
              "#d8576b"
             ],
             [
              0.6666666666666666,
              "#ed7953"
             ],
             [
              0.7777777777777778,
              "#fb9f3a"
             ],
             [
              0.8888888888888888,
              "#fdca26"
             ],
             [
              1,
              "#f0f921"
             ]
            ],
            "type": "histogram2dcontour"
           }
          ],
          "mesh3d": [
           {
            "colorbar": {
             "outlinewidth": 0,
             "ticks": ""
            },
            "type": "mesh3d"
           }
          ],
          "parcoords": [
           {
            "line": {
             "colorbar": {
              "outlinewidth": 0,
              "ticks": ""
             }
            },
            "type": "parcoords"
           }
          ],
          "pie": [
           {
            "automargin": true,
            "type": "pie"
           }
          ],
          "scatter": [
           {
            "fillpattern": {
             "fillmode": "overlay",
             "size": 10,
             "solidity": 0.2
            },
            "type": "scatter"
           }
          ],
          "scatter3d": [
           {
            "line": {
             "colorbar": {
              "outlinewidth": 0,
              "ticks": ""
             }
            },
            "marker": {
             "colorbar": {
              "outlinewidth": 0,
              "ticks": ""
             }
            },
            "type": "scatter3d"
           }
          ],
          "scattercarpet": [
           {
            "marker": {
             "colorbar": {
              "outlinewidth": 0,
              "ticks": ""
             }
            },
            "type": "scattercarpet"
           }
          ],
          "scattergeo": [
           {
            "marker": {
             "colorbar": {
              "outlinewidth": 0,
              "ticks": ""
             }
            },
            "type": "scattergeo"
           }
          ],
          "scattergl": [
           {
            "marker": {
             "colorbar": {
              "outlinewidth": 0,
              "ticks": ""
             }
            },
            "type": "scattergl"
           }
          ],
          "scattermapbox": [
           {
            "marker": {
             "colorbar": {
              "outlinewidth": 0,
              "ticks": ""
             }
            },
            "type": "scattermapbox"
           }
          ],
          "scatterpolar": [
           {
            "marker": {
             "colorbar": {
              "outlinewidth": 0,
              "ticks": ""
             }
            },
            "type": "scatterpolar"
           }
          ],
          "scatterpolargl": [
           {
            "marker": {
             "colorbar": {
              "outlinewidth": 0,
              "ticks": ""
             }
            },
            "type": "scatterpolargl"
           }
          ],
          "scatterternary": [
           {
            "marker": {
             "colorbar": {
              "outlinewidth": 0,
              "ticks": ""
             }
            },
            "type": "scatterternary"
           }
          ],
          "surface": [
           {
            "colorbar": {
             "outlinewidth": 0,
             "ticks": ""
            },
            "colorscale": [
             [
              0,
              "#0d0887"
             ],
             [
              0.1111111111111111,
              "#46039f"
             ],
             [
              0.2222222222222222,
              "#7201a8"
             ],
             [
              0.3333333333333333,
              "#9c179e"
             ],
             [
              0.4444444444444444,
              "#bd3786"
             ],
             [
              0.5555555555555556,
              "#d8576b"
             ],
             [
              0.6666666666666666,
              "#ed7953"
             ],
             [
              0.7777777777777778,
              "#fb9f3a"
             ],
             [
              0.8888888888888888,
              "#fdca26"
             ],
             [
              1,
              "#f0f921"
             ]
            ],
            "type": "surface"
           }
          ],
          "table": [
           {
            "cells": {
             "fill": {
              "color": "#EBF0F8"
             },
             "line": {
              "color": "white"
             }
            },
            "header": {
             "fill": {
              "color": "#C8D4E3"
             },
             "line": {
              "color": "white"
             }
            },
            "type": "table"
           }
          ]
         },
         "layout": {
          "annotationdefaults": {
           "arrowcolor": "#2a3f5f",
           "arrowhead": 0,
           "arrowwidth": 1
          },
          "autotypenumbers": "strict",
          "coloraxis": {
           "colorbar": {
            "outlinewidth": 0,
            "ticks": ""
           }
          },
          "colorscale": {
           "diverging": [
            [
             0,
             "#8e0152"
            ],
            [
             0.1,
             "#c51b7d"
            ],
            [
             0.2,
             "#de77ae"
            ],
            [
             0.3,
             "#f1b6da"
            ],
            [
             0.4,
             "#fde0ef"
            ],
            [
             0.5,
             "#f7f7f7"
            ],
            [
             0.6,
             "#e6f5d0"
            ],
            [
             0.7,
             "#b8e186"
            ],
            [
             0.8,
             "#7fbc41"
            ],
            [
             0.9,
             "#4d9221"
            ],
            [
             1,
             "#276419"
            ]
           ],
           "sequential": [
            [
             0,
             "#0d0887"
            ],
            [
             0.1111111111111111,
             "#46039f"
            ],
            [
             0.2222222222222222,
             "#7201a8"
            ],
            [
             0.3333333333333333,
             "#9c179e"
            ],
            [
             0.4444444444444444,
             "#bd3786"
            ],
            [
             0.5555555555555556,
             "#d8576b"
            ],
            [
             0.6666666666666666,
             "#ed7953"
            ],
            [
             0.7777777777777778,
             "#fb9f3a"
            ],
            [
             0.8888888888888888,
             "#fdca26"
            ],
            [
             1,
             "#f0f921"
            ]
           ],
           "sequentialminus": [
            [
             0,
             "#0d0887"
            ],
            [
             0.1111111111111111,
             "#46039f"
            ],
            [
             0.2222222222222222,
             "#7201a8"
            ],
            [
             0.3333333333333333,
             "#9c179e"
            ],
            [
             0.4444444444444444,
             "#bd3786"
            ],
            [
             0.5555555555555556,
             "#d8576b"
            ],
            [
             0.6666666666666666,
             "#ed7953"
            ],
            [
             0.7777777777777778,
             "#fb9f3a"
            ],
            [
             0.8888888888888888,
             "#fdca26"
            ],
            [
             1,
             "#f0f921"
            ]
           ]
          },
          "colorway": [
           "#636efa",
           "#EF553B",
           "#00cc96",
           "#ab63fa",
           "#FFA15A",
           "#19d3f3",
           "#FF6692",
           "#B6E880",
           "#FF97FF",
           "#FECB52"
          ],
          "font": {
           "color": "#2a3f5f"
          },
          "geo": {
           "bgcolor": "white",
           "lakecolor": "white",
           "landcolor": "#E5ECF6",
           "showlakes": true,
           "showland": true,
           "subunitcolor": "white"
          },
          "hoverlabel": {
           "align": "left"
          },
          "hovermode": "closest",
          "mapbox": {
           "style": "light"
          },
          "paper_bgcolor": "white",
          "plot_bgcolor": "#E5ECF6",
          "polar": {
           "angularaxis": {
            "gridcolor": "white",
            "linecolor": "white",
            "ticks": ""
           },
           "bgcolor": "#E5ECF6",
           "radialaxis": {
            "gridcolor": "white",
            "linecolor": "white",
            "ticks": ""
           }
          },
          "scene": {
           "xaxis": {
            "backgroundcolor": "#E5ECF6",
            "gridcolor": "white",
            "gridwidth": 2,
            "linecolor": "white",
            "showbackground": true,
            "ticks": "",
            "zerolinecolor": "white"
           },
           "yaxis": {
            "backgroundcolor": "#E5ECF6",
            "gridcolor": "white",
            "gridwidth": 2,
            "linecolor": "white",
            "showbackground": true,
            "ticks": "",
            "zerolinecolor": "white"
           },
           "zaxis": {
            "backgroundcolor": "#E5ECF6",
            "gridcolor": "white",
            "gridwidth": 2,
            "linecolor": "white",
            "showbackground": true,
            "ticks": "",
            "zerolinecolor": "white"
           }
          },
          "shapedefaults": {
           "line": {
            "color": "#2a3f5f"
           }
          },
          "ternary": {
           "aaxis": {
            "gridcolor": "white",
            "linecolor": "white",
            "ticks": ""
           },
           "baxis": {
            "gridcolor": "white",
            "linecolor": "white",
            "ticks": ""
           },
           "bgcolor": "#E5ECF6",
           "caxis": {
            "gridcolor": "white",
            "linecolor": "white",
            "ticks": ""
           }
          },
          "title": {
           "x": 0.05
          },
          "xaxis": {
           "automargin": true,
           "gridcolor": "white",
           "linecolor": "white",
           "ticks": "",
           "title": {
            "standoff": 15
           },
           "zerolinecolor": "white",
           "zerolinewidth": 2
          },
          "yaxis": {
           "automargin": true,
           "gridcolor": "white",
           "linecolor": "white",
           "ticks": "",
           "title": {
            "standoff": 15
           },
           "zerolinecolor": "white",
           "zerolinewidth": 2
          }
         }
        },
        "title": {
         "text": "Top 10 Products by Ingredient Research Count"
        },
        "width": 1000,
        "xaxis": {
         "tickangle": -45,
         "title": {
          "text": "Product"
         }
        },
        "yaxis": {
         "title": {
          "text": "Ingredient Research Count"
         }
        }
       }
      }
     },
     "metadata": {},
     "output_type": "display_data"
    }
   ],
   "source": [
    "from neo4j import GraphDatabase\n",
    "import plotly.graph_objects as go\n",
    "\n",
    "# 定义查询函数\n",
    "def run_query(tx):\n",
    "    query = \"\"\"\n",
    "    MATCH (p:Product)-[:HAS_RECIPE]->(:Recipe)-[:USES_INGREDIENT]->(:Ingredient)-[:HAS_RESEARCH]->(ir:IngredientResearch)\n",
    "    RETURN p.name AS product, ir.ingredient_name AS ingredient\n",
    "    \"\"\"\n",
    "    result = tx.run(query)\n",
    "    return [(record[\"product\"], record[\"ingredient\"]) for record in result]\n",
    "\n",
    "# 执行查询并获取结果\n",
    "with driver.session() as session:\n",
    "    results = session.read_transaction(run_query)\n",
    "\n",
    "# 统计每个产品的配料研究数量\n",
    "product_counts = {}\n",
    "for product, ingredient in results:\n",
    "    if product not in product_counts:\n",
    "        product_counts[product] = 0\n",
    "    product_counts[product] += 1\n",
    "\n",
    "# 按照配料研究数量对产品进行排序,只保留前10个产品\n",
    "top_products = sorted(product_counts, key=product_counts.get, reverse=True)[:10]\n",
    "\n",
    "# 准备数据\n",
    "products = [p[:20] + '...' if len(p) > 20 else p for p in top_products]\n",
    "counts = [product_counts[p] for p in top_products]\n",
    "\n",
    "# 创建条形图\n",
    "fig = go.Figure(data=[go.Bar(x=products, y=counts, hovertext=top_products)])\n",
    "\n",
    "# 更新布局\n",
    "fig.update_layout(\n",
    "    title='Top 10 Products by Ingredient Research Count',\n",
    "    xaxis_title='Product',\n",
    "    yaxis_title='Ingredient Research Count',\n",
    "    xaxis_tickangle=-45,\n",
    "    height=600,\n",
    "    width=1000,\n",
    "    hovermode='x'\n",
    ")\n",
    "\n",
    "# 显示图形\n",
    "fig.show()"
   ]
  },
  {
   "cell_type": "code",
   "execution_count": 11,
   "metadata": {},
   "outputs": [
    {
     "name": "stderr",
     "output_type": "stream",
     "text": [
      "C:\\Users\\apple\\AppData\\Local\\Temp\\ipykernel_13268\\3223695225.py:15: DeprecationWarning:\n",
      "\n",
      "read_transaction has been renamed to execute_read\n",
      "\n"
     ]
    },
    {
     "data": {
      "application/vnd.plotly.v1+json": {
       "config": {
        "plotlyServerURL": "https://plot.ly"
       },
       "data": [
        {
         "hovertext": [
          "Maggi 2 Minute Chicken Flavour Instant Noodles",
          "Indomie Mi Goreng Noodle Cup",
          "Indomie Mi Goreng Instant Noodles",
          "Byron Bay Cookies Dotty Cookie Bites",
          "Maggi 2 Minute Beef Flavour Instant Noodles",
          "Coca - Cola Zero Sugar Soft Drink Multipack Cans",
          "Cadbury Classic Choc Chip Cookies",
          "Cadbury Choc Centre Cookies",
          "Fantastic Chicken Noodle Bowl",
          "Oreo Minis Cookies Variety Bags 18 Pack"
         ],
         "marker": {
          "color": [
           "#1f77b4",
           "#ff7f0e",
           "#2ca02c",
           "#d62728",
           "#9467bd",
           "#8c564b",
           "#e377c2",
           "#7f7f7f",
           "#bcbd22",
           "#17becf"
          ]
         },
         "type": "bar",
         "x": [
          "Maggi 2 Minute Chick...",
          "Indomie Mi Goreng No...",
          "Indomie Mi Goreng In...",
          "Byron Bay Cookies Do...",
          "Maggi 2 Minute Beef ...",
          "Coca - Cola Zero Sug...",
          "Cadbury Classic Choc...",
          "Cadbury Choc Centre ...",
          "Fantastic Chicken No...",
          "Oreo Minis Cookies V..."
         ],
         "y": [
          56,
          38,
          37,
          27,
          25,
          24,
          22,
          22,
          21,
          20
         ]
        }
       ],
       "layout": {
        "height": 600,
        "hovermode": "x",
        "legend": {
         "orientation": "h",
         "title": {
          "text": "Products"
         },
         "x": 1,
         "xanchor": "right",
         "y": 1.02,
         "yanchor": "bottom"
        },
        "template": {
         "data": {
          "bar": [
           {
            "error_x": {
             "color": "#2a3f5f"
            },
            "error_y": {
             "color": "#2a3f5f"
            },
            "marker": {
             "line": {
              "color": "#E5ECF6",
              "width": 0.5
             },
             "pattern": {
              "fillmode": "overlay",
              "size": 10,
              "solidity": 0.2
             }
            },
            "type": "bar"
           }
          ],
          "barpolar": [
           {
            "marker": {
             "line": {
              "color": "#E5ECF6",
              "width": 0.5
             },
             "pattern": {
              "fillmode": "overlay",
              "size": 10,
              "solidity": 0.2
             }
            },
            "type": "barpolar"
           }
          ],
          "carpet": [
           {
            "aaxis": {
             "endlinecolor": "#2a3f5f",
             "gridcolor": "white",
             "linecolor": "white",
             "minorgridcolor": "white",
             "startlinecolor": "#2a3f5f"
            },
            "baxis": {
             "endlinecolor": "#2a3f5f",
             "gridcolor": "white",
             "linecolor": "white",
             "minorgridcolor": "white",
             "startlinecolor": "#2a3f5f"
            },
            "type": "carpet"
           }
          ],
          "choropleth": [
           {
            "colorbar": {
             "outlinewidth": 0,
             "ticks": ""
            },
            "type": "choropleth"
           }
          ],
          "contour": [
           {
            "colorbar": {
             "outlinewidth": 0,
             "ticks": ""
            },
            "colorscale": [
             [
              0,
              "#0d0887"
             ],
             [
              0.1111111111111111,
              "#46039f"
             ],
             [
              0.2222222222222222,
              "#7201a8"
             ],
             [
              0.3333333333333333,
              "#9c179e"
             ],
             [
              0.4444444444444444,
              "#bd3786"
             ],
             [
              0.5555555555555556,
              "#d8576b"
             ],
             [
              0.6666666666666666,
              "#ed7953"
             ],
             [
              0.7777777777777778,
              "#fb9f3a"
             ],
             [
              0.8888888888888888,
              "#fdca26"
             ],
             [
              1,
              "#f0f921"
             ]
            ],
            "type": "contour"
           }
          ],
          "contourcarpet": [
           {
            "colorbar": {
             "outlinewidth": 0,
             "ticks": ""
            },
            "type": "contourcarpet"
           }
          ],
          "heatmap": [
           {
            "colorbar": {
             "outlinewidth": 0,
             "ticks": ""
            },
            "colorscale": [
             [
              0,
              "#0d0887"
             ],
             [
              0.1111111111111111,
              "#46039f"
             ],
             [
              0.2222222222222222,
              "#7201a8"
             ],
             [
              0.3333333333333333,
              "#9c179e"
             ],
             [
              0.4444444444444444,
              "#bd3786"
             ],
             [
              0.5555555555555556,
              "#d8576b"
             ],
             [
              0.6666666666666666,
              "#ed7953"
             ],
             [
              0.7777777777777778,
              "#fb9f3a"
             ],
             [
              0.8888888888888888,
              "#fdca26"
             ],
             [
              1,
              "#f0f921"
             ]
            ],
            "type": "heatmap"
           }
          ],
          "heatmapgl": [
           {
            "colorbar": {
             "outlinewidth": 0,
             "ticks": ""
            },
            "colorscale": [
             [
              0,
              "#0d0887"
             ],
             [
              0.1111111111111111,
              "#46039f"
             ],
             [
              0.2222222222222222,
              "#7201a8"
             ],
             [
              0.3333333333333333,
              "#9c179e"
             ],
             [
              0.4444444444444444,
              "#bd3786"
             ],
             [
              0.5555555555555556,
              "#d8576b"
             ],
             [
              0.6666666666666666,
              "#ed7953"
             ],
             [
              0.7777777777777778,
              "#fb9f3a"
             ],
             [
              0.8888888888888888,
              "#fdca26"
             ],
             [
              1,
              "#f0f921"
             ]
            ],
            "type": "heatmapgl"
           }
          ],
          "histogram": [
           {
            "marker": {
             "pattern": {
              "fillmode": "overlay",
              "size": 10,
              "solidity": 0.2
             }
            },
            "type": "histogram"
           }
          ],
          "histogram2d": [
           {
            "colorbar": {
             "outlinewidth": 0,
             "ticks": ""
            },
            "colorscale": [
             [
              0,
              "#0d0887"
             ],
             [
              0.1111111111111111,
              "#46039f"
             ],
             [
              0.2222222222222222,
              "#7201a8"
             ],
             [
              0.3333333333333333,
              "#9c179e"
             ],
             [
              0.4444444444444444,
              "#bd3786"
             ],
             [
              0.5555555555555556,
              "#d8576b"
             ],
             [
              0.6666666666666666,
              "#ed7953"
             ],
             [
              0.7777777777777778,
              "#fb9f3a"
             ],
             [
              0.8888888888888888,
              "#fdca26"
             ],
             [
              1,
              "#f0f921"
             ]
            ],
            "type": "histogram2d"
           }
          ],
          "histogram2dcontour": [
           {
            "colorbar": {
             "outlinewidth": 0,
             "ticks": ""
            },
            "colorscale": [
             [
              0,
              "#0d0887"
             ],
             [
              0.1111111111111111,
              "#46039f"
             ],
             [
              0.2222222222222222,
              "#7201a8"
             ],
             [
              0.3333333333333333,
              "#9c179e"
             ],
             [
              0.4444444444444444,
              "#bd3786"
             ],
             [
              0.5555555555555556,
              "#d8576b"
             ],
             [
              0.6666666666666666,
              "#ed7953"
             ],
             [
              0.7777777777777778,
              "#fb9f3a"
             ],
             [
              0.8888888888888888,
              "#fdca26"
             ],
             [
              1,
              "#f0f921"
             ]
            ],
            "type": "histogram2dcontour"
           }
          ],
          "mesh3d": [
           {
            "colorbar": {
             "outlinewidth": 0,
             "ticks": ""
            },
            "type": "mesh3d"
           }
          ],
          "parcoords": [
           {
            "line": {
             "colorbar": {
              "outlinewidth": 0,
              "ticks": ""
             }
            },
            "type": "parcoords"
           }
          ],
          "pie": [
           {
            "automargin": true,
            "type": "pie"
           }
          ],
          "scatter": [
           {
            "fillpattern": {
             "fillmode": "overlay",
             "size": 10,
             "solidity": 0.2
            },
            "type": "scatter"
           }
          ],
          "scatter3d": [
           {
            "line": {
             "colorbar": {
              "outlinewidth": 0,
              "ticks": ""
             }
            },
            "marker": {
             "colorbar": {
              "outlinewidth": 0,
              "ticks": ""
             }
            },
            "type": "scatter3d"
           }
          ],
          "scattercarpet": [
           {
            "marker": {
             "colorbar": {
              "outlinewidth": 0,
              "ticks": ""
             }
            },
            "type": "scattercarpet"
           }
          ],
          "scattergeo": [
           {
            "marker": {
             "colorbar": {
              "outlinewidth": 0,
              "ticks": ""
             }
            },
            "type": "scattergeo"
           }
          ],
          "scattergl": [
           {
            "marker": {
             "colorbar": {
              "outlinewidth": 0,
              "ticks": ""
             }
            },
            "type": "scattergl"
           }
          ],
          "scattermapbox": [
           {
            "marker": {
             "colorbar": {
              "outlinewidth": 0,
              "ticks": ""
             }
            },
            "type": "scattermapbox"
           }
          ],
          "scatterpolar": [
           {
            "marker": {
             "colorbar": {
              "outlinewidth": 0,
              "ticks": ""
             }
            },
            "type": "scatterpolar"
           }
          ],
          "scatterpolargl": [
           {
            "marker": {
             "colorbar": {
              "outlinewidth": 0,
              "ticks": ""
             }
            },
            "type": "scatterpolargl"
           }
          ],
          "scatterternary": [
           {
            "marker": {
             "colorbar": {
              "outlinewidth": 0,
              "ticks": ""
             }
            },
            "type": "scatterternary"
           }
          ],
          "surface": [
           {
            "colorbar": {
             "outlinewidth": 0,
             "ticks": ""
            },
            "colorscale": [
             [
              0,
              "#0d0887"
             ],
             [
              0.1111111111111111,
              "#46039f"
             ],
             [
              0.2222222222222222,
              "#7201a8"
             ],
             [
              0.3333333333333333,
              "#9c179e"
             ],
             [
              0.4444444444444444,
              "#bd3786"
             ],
             [
              0.5555555555555556,
              "#d8576b"
             ],
             [
              0.6666666666666666,
              "#ed7953"
             ],
             [
              0.7777777777777778,
              "#fb9f3a"
             ],
             [
              0.8888888888888888,
              "#fdca26"
             ],
             [
              1,
              "#f0f921"
             ]
            ],
            "type": "surface"
           }
          ],
          "table": [
           {
            "cells": {
             "fill": {
              "color": "#EBF0F8"
             },
             "line": {
              "color": "white"
             }
            },
            "header": {
             "fill": {
              "color": "#C8D4E3"
             },
             "line": {
              "color": "white"
             }
            },
            "type": "table"
           }
          ]
         },
         "layout": {
          "annotationdefaults": {
           "arrowcolor": "#2a3f5f",
           "arrowhead": 0,
           "arrowwidth": 1
          },
          "autotypenumbers": "strict",
          "coloraxis": {
           "colorbar": {
            "outlinewidth": 0,
            "ticks": ""
           }
          },
          "colorscale": {
           "diverging": [
            [
             0,
             "#8e0152"
            ],
            [
             0.1,
             "#c51b7d"
            ],
            [
             0.2,
             "#de77ae"
            ],
            [
             0.3,
             "#f1b6da"
            ],
            [
             0.4,
             "#fde0ef"
            ],
            [
             0.5,
             "#f7f7f7"
            ],
            [
             0.6,
             "#e6f5d0"
            ],
            [
             0.7,
             "#b8e186"
            ],
            [
             0.8,
             "#7fbc41"
            ],
            [
             0.9,
             "#4d9221"
            ],
            [
             1,
             "#276419"
            ]
           ],
           "sequential": [
            [
             0,
             "#0d0887"
            ],
            [
             0.1111111111111111,
             "#46039f"
            ],
            [
             0.2222222222222222,
             "#7201a8"
            ],
            [
             0.3333333333333333,
             "#9c179e"
            ],
            [
             0.4444444444444444,
             "#bd3786"
            ],
            [
             0.5555555555555556,
             "#d8576b"
            ],
            [
             0.6666666666666666,
             "#ed7953"
            ],
            [
             0.7777777777777778,
             "#fb9f3a"
            ],
            [
             0.8888888888888888,
             "#fdca26"
            ],
            [
             1,
             "#f0f921"
            ]
           ],
           "sequentialminus": [
            [
             0,
             "#0d0887"
            ],
            [
             0.1111111111111111,
             "#46039f"
            ],
            [
             0.2222222222222222,
             "#7201a8"
            ],
            [
             0.3333333333333333,
             "#9c179e"
            ],
            [
             0.4444444444444444,
             "#bd3786"
            ],
            [
             0.5555555555555556,
             "#d8576b"
            ],
            [
             0.6666666666666666,
             "#ed7953"
            ],
            [
             0.7777777777777778,
             "#fb9f3a"
            ],
            [
             0.8888888888888888,
             "#fdca26"
            ],
            [
             1,
             "#f0f921"
            ]
           ]
          },
          "colorway": [
           "#636efa",
           "#EF553B",
           "#00cc96",
           "#ab63fa",
           "#FFA15A",
           "#19d3f3",
           "#FF6692",
           "#B6E880",
           "#FF97FF",
           "#FECB52"
          ],
          "font": {
           "color": "#2a3f5f"
          },
          "geo": {
           "bgcolor": "white",
           "lakecolor": "white",
           "landcolor": "#E5ECF6",
           "showlakes": true,
           "showland": true,
           "subunitcolor": "white"
          },
          "hoverlabel": {
           "align": "left"
          },
          "hovermode": "closest",
          "mapbox": {
           "style": "light"
          },
          "paper_bgcolor": "white",
          "plot_bgcolor": "#E5ECF6",
          "polar": {
           "angularaxis": {
            "gridcolor": "white",
            "linecolor": "white",
            "ticks": ""
           },
           "bgcolor": "#E5ECF6",
           "radialaxis": {
            "gridcolor": "white",
            "linecolor": "white",
            "ticks": ""
           }
          },
          "scene": {
           "xaxis": {
            "backgroundcolor": "#E5ECF6",
            "gridcolor": "white",
            "gridwidth": 2,
            "linecolor": "white",
            "showbackground": true,
            "ticks": "",
            "zerolinecolor": "white"
           },
           "yaxis": {
            "backgroundcolor": "#E5ECF6",
            "gridcolor": "white",
            "gridwidth": 2,
            "linecolor": "white",
            "showbackground": true,
            "ticks": "",
            "zerolinecolor": "white"
           },
           "zaxis": {
            "backgroundcolor": "#E5ECF6",
            "gridcolor": "white",
            "gridwidth": 2,
            "linecolor": "white",
            "showbackground": true,
            "ticks": "",
            "zerolinecolor": "white"
           }
          },
          "shapedefaults": {
           "line": {
            "color": "#2a3f5f"
           }
          },
          "ternary": {
           "aaxis": {
            "gridcolor": "white",
            "linecolor": "white",
            "ticks": ""
           },
           "baxis": {
            "gridcolor": "white",
            "linecolor": "white",
            "ticks": ""
           },
           "bgcolor": "#E5ECF6",
           "caxis": {
            "gridcolor": "white",
            "linecolor": "white",
            "ticks": ""
           }
          },
          "title": {
           "x": 0.05
          },
          "xaxis": {
           "automargin": true,
           "gridcolor": "white",
           "linecolor": "white",
           "ticks": "",
           "title": {
            "standoff": 15
           },
           "zerolinecolor": "white",
           "zerolinewidth": 2
          },
          "yaxis": {
           "automargin": true,
           "gridcolor": "white",
           "linecolor": "white",
           "ticks": "",
           "title": {
            "standoff": 15
           },
           "zerolinecolor": "white",
           "zerolinewidth": 2
          }
         }
        },
        "title": {
         "text": "Top 10 Products by Ingredient Research Count"
        },
        "width": 1000,
        "xaxis": {
         "tickangle": -45,
         "title": {
          "text": "Product"
         }
        },
        "yaxis": {
         "title": {
          "text": "Ingredient Research Count"
         }
        }
       }
      }
     },
     "metadata": {},
     "output_type": "display_data"
    }
   ],
   "source": [
    "from neo4j import GraphDatabase\n",
    "import plotly.graph_objects as go\n",
    "\n",
    "# 定义查询函数\n",
    "def run_query(tx):\n",
    "    query = \"\"\"\n",
    "    MATCH (p:Product)-[:HAS_RECIPE]->(:Recipe)-[:USES_INGREDIENT]->(:Ingredient)-[:HAS_RESEARCH]->(ir:IngredientResearch)\n",
    "    RETURN p.name AS product, ir.ingredient_name AS ingredient\n",
    "    \"\"\"\n",
    "    result = tx.run(query)\n",
    "    return [(record[\"product\"], record[\"ingredient\"]) for record in result]\n",
    "\n",
    "# 执行查询并获取结果\n",
    "with driver.session() as session:\n",
    "    results = session.read_transaction(run_query)\n",
    "\n",
    "# 统计每个产品的配料研究数量\n",
    "product_counts = {}\n",
    "for product, ingredient in results:\n",
    "    if product not in product_counts:\n",
    "        product_counts[product] = 0\n",
    "    product_counts[product] += 1\n",
    "\n",
    "# 按照配料研究数量对产品进行排序,只保留前10个产品\n",
    "top_products = sorted(product_counts, key=product_counts.get, reverse=True)[:10]\n",
    "\n",
    "# 准备数据\n",
    "products = [p[:20] + '...' if len(p) > 20 else p for p in top_products]\n",
    "counts = [product_counts[p] for p in top_products]\n",
    "\n",
    "# 为每个产品分配一个颜色\n",
    "colors = ['#1f77b4', '#ff7f0e', '#2ca02c', '#d62728', '#9467bd', '#8c564b', '#e377c2', '#7f7f7f', '#bcbd22', '#17becf']\n",
    "product_colors = dict(zip(products, colors))\n",
    "\n",
    "# 创建条形图\n",
    "fig = go.Figure(data=[go.Bar(x=products, y=counts, hovertext=top_products, marker_color=[product_colors[p] for p in products])])\n",
    "\n",
    "# 创建图例\n",
    "fig.update_layout(\n",
    "    legend=dict(\n",
    "        title='Products',\n",
    "        orientation='h',\n",
    "        yanchor='bottom',\n",
    "        y=1.02,\n",
    "        xanchor='right',\n",
    "        x=1\n",
    "    )\n",
    ")\n",
    "\n",
    "# 更新布局\n",
    "fig.update_layout(\n",
    "    title='Top 10 Products by Ingredient Research Count',\n",
    "    xaxis_title='Product',\n",
    "    yaxis_title='Ingredient Research Count',\n",
    "    xaxis_tickangle=-45,\n",
    "    height=600,\n",
    "    width=1000,\n",
    "    hovermode='x'\n",
    ")\n",
    "\n",
    "# 显示图形\n",
    "fig.show()"
   ]
  },
  {
   "cell_type": "code",
   "execution_count": 21,
   "metadata": {},
   "outputs": [
    {
     "name": "stderr",
     "output_type": "stream",
     "text": [
      "C:\\Users\\apple\\AppData\\Local\\Temp\\ipykernel_13268\\437073310.py:15: DeprecationWarning:\n",
      "\n",
      "read_transaction has been renamed to execute_read\n",
      "\n"
     ]
    },
    {
     "ename": "AttributeError",
     "evalue": "module 'plotly.graph_objects' has no attribute 'BAR'",
     "output_type": "error",
     "traceback": [
      "\u001b[1;31m---------------------------------------------------------------------------\u001b[0m",
      "\u001b[1;31mAttributeError\u001b[0m                            Traceback (most recent call last)",
      "Cell \u001b[1;32mIn[21], line 29\u001b[0m\n\u001b[0;32m     26\u001b[0m counts \u001b[38;5;241m=\u001b[39m \u001b[38;5;28mlist\u001b[39m(product_counts\u001b[38;5;241m.\u001b[39mvalues())\n\u001b[0;32m     28\u001b[0m \u001b[38;5;66;03m# 创建散点图\u001b[39;00m\n\u001b[1;32m---> 29\u001b[0m fig \u001b[38;5;241m=\u001b[39m go\u001b[38;5;241m.\u001b[39mFigure(data\u001b[38;5;241m=\u001b[39m\u001b[43mgo\u001b[49m\u001b[38;5;241;43m.\u001b[39;49m\u001b[43mBAR\u001b[49m(\n\u001b[0;32m     30\u001b[0m     x\u001b[38;5;241m=\u001b[39mproducts,\n\u001b[0;32m     31\u001b[0m     y\u001b[38;5;241m=\u001b[39mcounts,\n\u001b[0;32m     32\u001b[0m     mode\u001b[38;5;241m=\u001b[39m\u001b[38;5;124m'\u001b[39m\u001b[38;5;124mmarkers\u001b[39m\u001b[38;5;124m'\u001b[39m,\n\u001b[0;32m     33\u001b[0m     marker\u001b[38;5;241m=\u001b[39m\u001b[38;5;28mdict\u001b[39m(\n\u001b[0;32m     34\u001b[0m         size\u001b[38;5;241m=\u001b[39m\u001b[38;5;241m10\u001b[39m,\n\u001b[0;32m     35\u001b[0m         color\u001b[38;5;241m=\u001b[39mcounts,\n\u001b[0;32m     36\u001b[0m         colorscale\u001b[38;5;241m=\u001b[39m\u001b[38;5;124m'\u001b[39m\u001b[38;5;124mViridis\u001b[39m\u001b[38;5;124m'\u001b[39m,\n\u001b[0;32m     37\u001b[0m         showscale\u001b[38;5;241m=\u001b[39m\u001b[38;5;28;01mTrue\u001b[39;00m\n\u001b[0;32m     38\u001b[0m     ),\n\u001b[0;32m     39\u001b[0m     text\u001b[38;5;241m=\u001b[39m[\u001b[38;5;124mf\u001b[39m\u001b[38;5;124m\"\u001b[39m\u001b[38;5;132;01m{\u001b[39;00mproduct\u001b[38;5;132;01m}\u001b[39;00m\u001b[38;5;124m<br>IngredientResearch: \u001b[39m\u001b[38;5;132;01m{\u001b[39;00mcount\u001b[38;5;132;01m}\u001b[39;00m\u001b[38;5;124m\"\u001b[39m \u001b[38;5;28;01mfor\u001b[39;00m product, count \u001b[38;5;129;01min\u001b[39;00m \u001b[38;5;28mzip\u001b[39m(products, counts)],\n\u001b[0;32m     40\u001b[0m     hoverinfo\u001b[38;5;241m=\u001b[39m\u001b[38;5;124m'\u001b[39m\u001b[38;5;124mtext\u001b[39m\u001b[38;5;124m'\u001b[39m\n\u001b[0;32m     41\u001b[0m ))\n\u001b[0;32m     43\u001b[0m \u001b[38;5;66;03m# 更新布局\u001b[39;00m\n\u001b[0;32m     44\u001b[0m fig\u001b[38;5;241m.\u001b[39mupdate_layout(\n\u001b[0;32m     45\u001b[0m     title\u001b[38;5;241m=\u001b[39m\u001b[38;5;124m'\u001b[39m\u001b[38;5;124mThe number of IngredientResearch per Product\u001b[39m\u001b[38;5;124m'\u001b[39m,\n\u001b[0;32m     46\u001b[0m     xaxis_title\u001b[38;5;241m=\u001b[39m\u001b[38;5;124m'\u001b[39m\u001b[38;5;124mProduct\u001b[39m\u001b[38;5;124m'\u001b[39m,\n\u001b[1;32m   (...)\u001b[0m\n\u001b[0;32m     51\u001b[0m     hovermode\u001b[38;5;241m=\u001b[39m\u001b[38;5;124m'\u001b[39m\u001b[38;5;124mclosest\u001b[39m\u001b[38;5;124m'\u001b[39m\n\u001b[0;32m     52\u001b[0m )\n",
      "File \u001b[1;32mc:\\Users\\apple\\anaconda3\\lib\\site-packages\\plotly\\graph_objects\\__init__.py:299\u001b[0m, in \u001b[0;36m__getattr__\u001b[1;34m(import_name)\u001b[0m\n\u001b[0;32m    295\u001b[0m         \u001b[38;5;28;01mfrom\u001b[39;00m \u001b[38;5;21;01m.\u001b[39;00m\u001b[38;5;21;01m.\u001b[39;00m\u001b[38;5;21;01mmissing_ipywidgets\u001b[39;00m \u001b[38;5;28;01mimport\u001b[39;00m FigureWidget\n\u001b[0;32m    297\u001b[0m         \u001b[38;5;28;01mreturn\u001b[39;00m FigureWidget\n\u001b[1;32m--> 299\u001b[0m \u001b[38;5;28;01mreturn\u001b[39;00m \u001b[43morig_getattr\u001b[49m\u001b[43m(\u001b[49m\u001b[43mimport_name\u001b[49m\u001b[43m)\u001b[49m\n",
      "File \u001b[1;32mc:\\Users\\apple\\anaconda3\\lib\\site-packages\\_plotly_utils\\importers.py:39\u001b[0m, in \u001b[0;36mrelative_import.<locals>.__getattr__\u001b[1;34m(import_name)\u001b[0m\n\u001b[0;32m     36\u001b[0m     class_module \u001b[38;5;241m=\u001b[39m importlib\u001b[38;5;241m.\u001b[39mimport_module(rel_module, parent_name)\n\u001b[0;32m     37\u001b[0m     \u001b[38;5;28;01mreturn\u001b[39;00m \u001b[38;5;28mgetattr\u001b[39m(class_module, class_name)\n\u001b[1;32m---> 39\u001b[0m \u001b[38;5;28;01mraise\u001b[39;00m \u001b[38;5;167;01mAttributeError\u001b[39;00m(\n\u001b[0;32m     40\u001b[0m     \u001b[38;5;124m\"\u001b[39m\u001b[38;5;124mmodule \u001b[39m\u001b[38;5;132;01m{__name__!r}\u001b[39;00m\u001b[38;5;124m has no attribute \u001b[39m\u001b[38;5;132;01m{name!r}\u001b[39;00m\u001b[38;5;124m\"\u001b[39m\u001b[38;5;241m.\u001b[39mformat(\n\u001b[0;32m     41\u001b[0m         name\u001b[38;5;241m=\u001b[39mimport_name, \u001b[38;5;18m__name__\u001b[39m\u001b[38;5;241m=\u001b[39mparent_name\n\u001b[0;32m     42\u001b[0m     )\n\u001b[0;32m     43\u001b[0m )\n",
      "\u001b[1;31mAttributeError\u001b[0m: module 'plotly.graph_objects' has no attribute 'BAR'"
     ]
    }
   ],
   "source": [
    "from neo4j import GraphDatabase\n",
    "import plotly.graph_objects as go\n",
    "\n",
    "# 定义查询函数\n",
    "def run_query(tx):\n",
    "    query = \"\"\"\n",
    "    MATCH (p:Product)-[:HAS_RECIPE]->(:Recipe)-[:USES_INGREDIENT]->(:Ingredient)-[:HAS_RESEARCH]->(ir:IngredientResearch)\n",
    "    RETURN p.name AS product, ir.ingredient_name AS ingredient\n",
    "    \"\"\"\n",
    "    result = tx.run(query)\n",
    "    return [(record[\"product\"], record[\"ingredient\"]) for record in result]\n",
    "\n",
    "# 执行查询并获取结果\n",
    "with driver.session() as session:\n",
    "    results = session.read_transaction(run_query)\n",
    "\n",
    "# 统计每个产品的配料研究数量\n",
    "product_counts = {}\n",
    "for product, ingredient in results:\n",
    "    if product not in product_counts:\n",
    "        product_counts[product] = 0\n",
    "    product_counts[product] += 1\n",
    "\n",
    "# 准备数据\n",
    "products = list(product_counts.keys())\n",
    "counts = list(product_counts.values())\n",
    "\n",
    "# 创建散点图\n",
    "fig = go.Figure(data=go.Scatter(\n",
    "    x=products,\n",
    "    y=counts,\n",
    "    mode='markers',\n",
    "    marker=dict(\n",
    "        size=10,\n",
    "        color=counts,\n",
    "        colorscale='Viridis',\n",
    "        showscale=True\n",
    "    ),\n",
    "    text=[f\"{product}<br>IngredientResearch: {count}\" for product, count in zip(products, counts)],\n",
    "    hoverinfo='text'\n",
    "))\n",
    "\n",
    "# 更新布局\n",
    "fig.update_layout(\n",
    "    title='The number of IngredientResearch per Product',\n",
    "    xaxis_title='Product',\n",
    "    yaxis_title='Number of IngredientResearch',\n",
    "    xaxis_tickangle=-45,\n",
    "    height=700,\n",
    "    width=1100,\n",
    "    hovermode='closest'\n",
    ")\n",
    "\n",
    "# 显示图形\n",
    "fig.show()"
   ]
  },
  {
   "cell_type": "code",
   "execution_count": 22,
   "metadata": {},
   "outputs": [
    {
     "name": "stderr",
     "output_type": "stream",
     "text": [
      "C:\\Users\\apple\\AppData\\Local\\Temp\\ipykernel_13268\\1976103598.py:15: DeprecationWarning:\n",
      "\n",
      "read_transaction has been renamed to execute_read\n",
      "\n"
     ]
    },
    {
     "data": {
      "application/vnd.plotly.v1+json": {
       "config": {
        "plotlyServerURL": "https://plot.ly"
       },
       "data": [
        {
         "hoverinfo": "text",
         "hovertext": [
          "Coca - Cola Classic  Soft Drink Multipack Cans<br>IngredientResearch: 18",
          "Coca - Cola Classic  Soft Drink Mini Cans<br>IngredientResearch: 6",
          "Coca - Cola Vanilla  Soft Drink Multipack Cans<br>IngredientResearch: 6",
          "Coca - Cola Zero Sugar Soft Drink Multipack Cans<br>IngredientResearch: 24",
          "Coca - Cola Caffeine Free Zero Sugar Soft Drink Multipack Cans<br>IngredientResearch: 8",
          "Coca - Cola Zero Sugar Soft Drink Mini Cans<br>IngredientResearch: 8",
          "Indomie Mi Goreng Instant Noodles<br>IngredientResearch: 37",
          "Maggi 2 Minute Chicken Flavour Instant Noodles<br>IngredientResearch: 56",
          "Supreme Noodles Cup Chicken Flavour<br>IngredientResearch: 13",
          "Fantastic Chicken Noodle Cup<br>IngredientResearch: 17",
          "Fantastic Chicken Noodle Bowl<br>IngredientResearch: 21",
          "Indomie Mi Goreng Noodle Cup<br>IngredientResearch: 38",
          "Maggi 2 Minute Beef Flavour Instant Noodles<br>IngredientResearch: 25",
          "Supreme Noodles Cup Beef Flavour<br>IngredientResearch: 14",
          "Schweppes Zero Sugar Lime Infused Mineral Water Bottle<br>IngredientResearch: 3",
          "Schweppes Raspberry Infused Natural Mineral Water Bottle<br>IngredientResearch: 3",
          "Schweppes Natural Mineral Water Bottle Natural<br>IngredientResearch: 1",
          "Schweppes Soda Water Bottle Classic Mixers<br>IngredientResearch: 2",
          "Schweppes Indian Tonic Water Classic Mixers Bottle<br>IngredientResearch: 8",
          "Schweppes Lime Soda Water With Lime Juice Bottle<br>IngredientResearch: 9",
          "Schweppes Zero Sugar Classic Mixers Indian Tonic Water Bottle<br>IngredientResearch: 10",
          "Schweppes Lemon Lime Natural Mineral Water Bottle<br>IngredientResearch: 12",
          "Schweppes Orange Mango Natural Mineral Water Bottle<br>IngredientResearch: 15",
          "Kitkat 4 Finger Milk Chocolate Bar<br>IngredientResearch: 16",
          "Kitkat Chunky Original Chocolate Bar<br>IngredientResearch: 17",
          "Cadbury Dairy Milk Caramello Koala Chocolate<br>IngredientResearch: 15",
          "Twix Milk Chocolate Bar With Caramel Biscuit<br>IngredientResearch: 3",
          "Mars Chocolate Bar With Nougat & Caramel<br>IngredientResearch: 12",
          "Cadbury Dairy Milk Chocolate Roll<br>IngredientResearch: 8",
          "Cadbury Dairy Milk Chocolate Bar<br>IngredientResearch: 8",
          "Cadbury Twirl Chocolate Bar<br>IngredientResearch: 8",
          "Cadbury Chomp Chocolate Bar<br>IngredientResearch: 17",
          "Arnott's Premier Chocolate Chip Cookies<br>IngredientResearch: 15",
          "Woolworths Chocolate Chip Cookies<br>IngredientResearch: 18",
          "Woolworths The King Of Chunky Chocolate Chip Cookies<br>IngredientResearch: 17",
          "Arnott's Mini Choc Chip Cookie Multipack Biscuits<br>IngredientResearch: 14",
          "Oreo Original Mini Cookies Multipack<br>IngredientResearch: 17",
          "Oreo Minis Cookies Variety Bags 18 Pack<br>IngredientResearch: 20",
          "Cadbury Classic Choc Chip Cookies<br>IngredientResearch: 22",
          "Cadbury Choc Centre Cookies<br>IngredientResearch: 22",
          "Byron Bay Cookies Dotty Cookie Bites<br>IngredientResearch: 27",
          "Oreo Original Cookies<br>IngredientResearch: 17",
          "Rimmel Scandaleyes Eye Definer Brown<br>IngredientResearch: 17",
          "Woolworths Apple Juice<br>IngredientResearch: 4",
          "Woolworths Apple & Mango Juice<br>IngredientResearch: 5",
          "Woolworths Orange Juice<br>IngredientResearch: 4",
          "Woolworths Breakfast Juice<br>IngredientResearch: 9",
          "Woolworths Apple & Blackcurrant Juice<br>IngredientResearch: 6",
          "Woolworths Multivitamin Juice<br>IngredientResearch: 15",
          "Golden Circle Golden Pash Fruit Drink<br>IngredientResearch: 10",
          "Golden Circle Drinks Pine Orange Fruit Drink<br>IngredientResearch: 8",
          "Golden Circle Drinks Sunshine Punch Fruit Drink<br>IngredientResearch: 14",
          "Golden Circle Fruit Drinks Lunch Box Poppers Tropical Punch Multipack<br>IngredientResearch: 12",
          "Woolworths Full Cream Milk<br>IngredientResearch: 2",
          "Dairy Farmers Full Cream Milk Full Cream Milk<br>IngredientResearch: 2",
          "Norco Full Cream Milk<br>IngredientResearch: 1",
          "A2 Milk Full Cream Milk<br>IngredientResearch: 2",
          "Pauls Farmhouse Gold Full Cream Milk<br>IngredientResearch: 2",
          "Oreo Double Stuff Cookies<br>IngredientResearch: 17",
          "Oreo Original Cookies Family Pack<br>IngredientResearch: 17",
          "Oreo Chocolate Cookies<br>IngredientResearch: 17",
          "Oreo Grab & Go Original Cookies 9 Pack<br>IngredientResearch: 18",
          "Oreo Neapolitan Double Stuff Cookies<br>IngredientResearch: 20",
          "Woolworths Diced Italian Tomatoes<br>IngredientResearch: 6",
          "Woolworths Lasagne Sheets<br>IngredientResearch: 1",
          "Essentials Coconut Cream<br>IngredientResearch: 3",
          "Woolworths Uht Full Cream Milk<br>IngredientResearch: 1",
          "Deep Cove Sardines In Oil<br>IngredientResearch: 4",
          "Woolworths Creamed Rice<br>IngredientResearch: 7",
          "Essentials Coconut Milk<br>IngredientResearch: 3",
          "Woolworths Tomato Sauce Squeeze<br>IngredientResearch: 8",
          "Woolworths Tomato Sauce<br>IngredientResearch: 8",
          "Woolworths Barbecue Sauce Squeeze<br>IngredientResearch: 13",
          "Masterfoods Tomato Sauce<br>IngredientResearch: 7",
          "Masterfoods Barbecue Sauce<br>IngredientResearch: 16",
          "Fountain Tomato Sauce Squeeze<br>IngredientResearch: 5",
          "Fountain Barbecue Bbq Sauce Squeeze<br>IngredientResearch: 11",
          "Woolworths Secret Burger Sauce<br>IngredientResearch: 17",
          "Heinz Ketchup Tomato Sauce Ketchup<br>IngredientResearch: 6",
          "Woolworths Barbecue Sauce<br>IngredientResearch: 13",
          "Woolworths Spring Water Bottles<br>IngredientResearch: 1",
          "Woolworths Spring Water<br>IngredientResearch: 3",
          "Frantelle Australian Still Spring Water Bottles Multipack<br>IngredientResearch: 1",
          "Mount Franklin Spring Water Bottle<br>IngredientResearch: 1",
          "Smith's Crinkle Cut Potato Chips Original<br>IngredientResearch: 8",
          "Smith's Crinkle Cut Potato Chips Cheese & Onion<br>IngredientResearch: 14",
          "Smith's Crinkle Cut Potato Chips Barbecue<br>IngredientResearch: 16",
          "Smith's Crinkle Cut Potato Chips Chicken<br>IngredientResearch: 19",
          "Thins Chips Salt & Vinegar<br>IngredientResearch: 8",
          "Smith's Thinly Cut Potato Chips Original Share Pack<br>IngredientResearch: 8",
          "Thins Chips Chicken<br>IngredientResearch: 14",
          "Smith's Crinkle Cut Potato Chips Salt & Vinegar<br>IngredientResearch: 15",
          "Thins Chips Light & Tangy<br>IngredientResearch: 11",
          "Thins Cheese & Onion Chips<br>IngredientResearch: 17",
          "Woolworths Peach In Strawberry Jelly<br>IngredientResearch: 14",
          "Woolworths Two Fruits In Juice Cups<br>IngredientResearch: 6",
          "Woolworths Two Fruits In Juice<br>IngredientResearch: 14",
          "Woolworths Two Fruits In Tropical Jelly<br>IngredientResearch: 17",
          "Woolworths Apple In Pineapple Jelly<br>IngredientResearch: 14",
          "Goulburn Valley Two Fruits In Juice<br>IngredientResearch: 4",
          "Dole Pineapple Slices In Syrup<br>IngredientResearch: 4",
          "Dole Pineapple Chunks In Juice<br>IngredientResearch: 4",
          "Goulburn Valley Two Fruits In Juice Fruit Cups In Juice<br>IngredientResearch: 4"
         ],
         "marker": {
          "color": [
           18,
           6,
           6,
           24,
           8,
           8,
           37,
           56,
           13,
           17,
           21,
           38,
           25,
           14,
           3,
           3,
           1,
           2,
           8,
           9,
           10,
           12,
           15,
           16,
           17,
           15,
           3,
           12,
           8,
           8,
           8,
           17,
           15,
           18,
           17,
           14,
           17,
           20,
           22,
           22,
           27,
           17,
           17,
           4,
           5,
           4,
           9,
           6,
           15,
           10,
           8,
           14,
           12,
           2,
           2,
           1,
           2,
           2,
           17,
           17,
           17,
           18,
           20,
           6,
           1,
           3,
           1,
           4,
           7,
           3,
           8,
           8,
           13,
           7,
           16,
           5,
           11,
           17,
           6,
           13,
           1,
           3,
           1,
           1,
           8,
           14,
           16,
           19,
           8,
           8,
           14,
           15,
           11,
           17,
           14,
           6,
           14,
           17,
           14,
           4,
           4,
           4,
           4
          ],
          "colorscale": [
           [
            0,
            "#440154"
           ],
           [
            0.1111111111111111,
            "#482878"
           ],
           [
            0.2222222222222222,
            "#3e4989"
           ],
           [
            0.3333333333333333,
            "#31688e"
           ],
           [
            0.4444444444444444,
            "#26828e"
           ],
           [
            0.5555555555555556,
            "#1f9e89"
           ],
           [
            0.6666666666666666,
            "#35b779"
           ],
           [
            0.7777777777777778,
            "#6ece58"
           ],
           [
            0.8888888888888888,
            "#b5de2b"
           ],
           [
            1,
            "#fde725"
           ]
          ]
         },
         "text": [
          "18",
          "6",
          "6",
          "24",
          "8",
          "8",
          "37",
          "56",
          "13",
          "17",
          "21",
          "38",
          "25",
          "14",
          "3",
          "3",
          "1",
          "2",
          "8",
          "9",
          "10",
          "12",
          "15",
          "16",
          "17",
          "15",
          "3",
          "12",
          "8",
          "8",
          "8",
          "17",
          "15",
          "18",
          "17",
          "14",
          "17",
          "20",
          "22",
          "22",
          "27",
          "17",
          "17",
          "4",
          "5",
          "4",
          "9",
          "6",
          "15",
          "10",
          "8",
          "14",
          "12",
          "2",
          "2",
          "1",
          "2",
          "2",
          "17",
          "17",
          "17",
          "18",
          "20",
          "6",
          "1",
          "3",
          "1",
          "4",
          "7",
          "3",
          "8",
          "8",
          "13",
          "7",
          "16",
          "5",
          "11",
          "17",
          "6",
          "13",
          "1",
          "3",
          "1",
          "1",
          "8",
          "14",
          "16",
          "19",
          "8",
          "8",
          "14",
          "15",
          "11",
          "17",
          "14",
          "6",
          "14",
          "17",
          "14",
          "4",
          "4",
          "4",
          "4"
         ],
         "textposition": "outside",
         "type": "bar",
         "x": [
          "Coca - Cola Classic  Soft Drink Multipack Cans",
          "Coca - Cola Classic  Soft Drink Mini Cans",
          "Coca - Cola Vanilla  Soft Drink Multipack Cans",
          "Coca - Cola Zero Sugar Soft Drink Multipack Cans",
          "Coca - Cola Caffeine Free Zero Sugar Soft Drink Multipack Cans",
          "Coca - Cola Zero Sugar Soft Drink Mini Cans",
          "Indomie Mi Goreng Instant Noodles",
          "Maggi 2 Minute Chicken Flavour Instant Noodles",
          "Supreme Noodles Cup Chicken Flavour",
          "Fantastic Chicken Noodle Cup",
          "Fantastic Chicken Noodle Bowl",
          "Indomie Mi Goreng Noodle Cup",
          "Maggi 2 Minute Beef Flavour Instant Noodles",
          "Supreme Noodles Cup Beef Flavour",
          "Schweppes Zero Sugar Lime Infused Mineral Water Bottle",
          "Schweppes Raspberry Infused Natural Mineral Water Bottle",
          "Schweppes Natural Mineral Water Bottle Natural",
          "Schweppes Soda Water Bottle Classic Mixers",
          "Schweppes Indian Tonic Water Classic Mixers Bottle",
          "Schweppes Lime Soda Water With Lime Juice Bottle",
          "Schweppes Zero Sugar Classic Mixers Indian Tonic Water Bottle",
          "Schweppes Lemon Lime Natural Mineral Water Bottle",
          "Schweppes Orange Mango Natural Mineral Water Bottle",
          "Kitkat 4 Finger Milk Chocolate Bar",
          "Kitkat Chunky Original Chocolate Bar",
          "Cadbury Dairy Milk Caramello Koala Chocolate",
          "Twix Milk Chocolate Bar With Caramel Biscuit",
          "Mars Chocolate Bar With Nougat & Caramel",
          "Cadbury Dairy Milk Chocolate Roll",
          "Cadbury Dairy Milk Chocolate Bar",
          "Cadbury Twirl Chocolate Bar",
          "Cadbury Chomp Chocolate Bar",
          "Arnott's Premier Chocolate Chip Cookies",
          "Woolworths Chocolate Chip Cookies",
          "Woolworths The King Of Chunky Chocolate Chip Cookies",
          "Arnott's Mini Choc Chip Cookie Multipack Biscuits",
          "Oreo Original Mini Cookies Multipack",
          "Oreo Minis Cookies Variety Bags 18 Pack",
          "Cadbury Classic Choc Chip Cookies",
          "Cadbury Choc Centre Cookies",
          "Byron Bay Cookies Dotty Cookie Bites",
          "Oreo Original Cookies",
          "Rimmel Scandaleyes Eye Definer Brown",
          "Woolworths Apple Juice",
          "Woolworths Apple & Mango Juice",
          "Woolworths Orange Juice",
          "Woolworths Breakfast Juice",
          "Woolworths Apple & Blackcurrant Juice",
          "Woolworths Multivitamin Juice",
          "Golden Circle Golden Pash Fruit Drink",
          "Golden Circle Drinks Pine Orange Fruit Drink",
          "Golden Circle Drinks Sunshine Punch Fruit Drink",
          "Golden Circle Fruit Drinks Lunch Box Poppers Tropical Punch Multipack",
          "Woolworths Full Cream Milk",
          "Dairy Farmers Full Cream Milk Full Cream Milk",
          "Norco Full Cream Milk",
          "A2 Milk Full Cream Milk",
          "Pauls Farmhouse Gold Full Cream Milk",
          "Oreo Double Stuff Cookies",
          "Oreo Original Cookies Family Pack",
          "Oreo Chocolate Cookies",
          "Oreo Grab & Go Original Cookies 9 Pack",
          "Oreo Neapolitan Double Stuff Cookies",
          "Woolworths Diced Italian Tomatoes",
          "Woolworths Lasagne Sheets",
          "Essentials Coconut Cream",
          "Woolworths Uht Full Cream Milk",
          "Deep Cove Sardines In Oil",
          "Woolworths Creamed Rice",
          "Essentials Coconut Milk",
          "Woolworths Tomato Sauce Squeeze",
          "Woolworths Tomato Sauce",
          "Woolworths Barbecue Sauce Squeeze",
          "Masterfoods Tomato Sauce",
          "Masterfoods Barbecue Sauce",
          "Fountain Tomato Sauce Squeeze",
          "Fountain Barbecue Bbq Sauce Squeeze",
          "Woolworths Secret Burger Sauce",
          "Heinz Ketchup Tomato Sauce Ketchup",
          "Woolworths Barbecue Sauce",
          "Woolworths Spring Water Bottles",
          "Woolworths Spring Water",
          "Frantelle Australian Still Spring Water Bottles Multipack",
          "Mount Franklin Spring Water Bottle",
          "Smith's Crinkle Cut Potato Chips Original",
          "Smith's Crinkle Cut Potato Chips Cheese & Onion",
          "Smith's Crinkle Cut Potato Chips Barbecue",
          "Smith's Crinkle Cut Potato Chips Chicken",
          "Thins Chips Salt & Vinegar",
          "Smith's Thinly Cut Potato Chips Original Share Pack",
          "Thins Chips Chicken",
          "Smith's Crinkle Cut Potato Chips Salt & Vinegar",
          "Thins Chips Light & Tangy",
          "Thins Cheese & Onion Chips",
          "Woolworths Peach In Strawberry Jelly",
          "Woolworths Two Fruits In Juice Cups",
          "Woolworths Two Fruits In Juice",
          "Woolworths Two Fruits In Tropical Jelly",
          "Woolworths Apple In Pineapple Jelly",
          "Goulburn Valley Two Fruits In Juice",
          "Dole Pineapple Slices In Syrup",
          "Dole Pineapple Chunks In Juice",
          "Goulburn Valley Two Fruits In Juice Fruit Cups In Juice"
         ],
         "y": [
          18,
          6,
          6,
          24,
          8,
          8,
          37,
          56,
          13,
          17,
          21,
          38,
          25,
          14,
          3,
          3,
          1,
          2,
          8,
          9,
          10,
          12,
          15,
          16,
          17,
          15,
          3,
          12,
          8,
          8,
          8,
          17,
          15,
          18,
          17,
          14,
          17,
          20,
          22,
          22,
          27,
          17,
          17,
          4,
          5,
          4,
          9,
          6,
          15,
          10,
          8,
          14,
          12,
          2,
          2,
          1,
          2,
          2,
          17,
          17,
          17,
          18,
          20,
          6,
          1,
          3,
          1,
          4,
          7,
          3,
          8,
          8,
          13,
          7,
          16,
          5,
          11,
          17,
          6,
          13,
          1,
          3,
          1,
          1,
          8,
          14,
          16,
          19,
          8,
          8,
          14,
          15,
          11,
          17,
          14,
          6,
          14,
          17,
          14,
          4,
          4,
          4,
          4
         ]
        }
       ],
       "layout": {
        "coloraxis": {
         "colorbar": {
          "title": {
           "text": "IngredientResearch"
          }
         },
         "showscale": true
        },
        "height": 600,
        "hovermode": "closest",
        "template": {
         "data": {
          "bar": [
           {
            "error_x": {
             "color": "#2a3f5f"
            },
            "error_y": {
             "color": "#2a3f5f"
            },
            "marker": {
             "line": {
              "color": "#E5ECF6",
              "width": 0.5
             },
             "pattern": {
              "fillmode": "overlay",
              "size": 10,
              "solidity": 0.2
             }
            },
            "type": "bar"
           }
          ],
          "barpolar": [
           {
            "marker": {
             "line": {
              "color": "#E5ECF6",
              "width": 0.5
             },
             "pattern": {
              "fillmode": "overlay",
              "size": 10,
              "solidity": 0.2
             }
            },
            "type": "barpolar"
           }
          ],
          "carpet": [
           {
            "aaxis": {
             "endlinecolor": "#2a3f5f",
             "gridcolor": "white",
             "linecolor": "white",
             "minorgridcolor": "white",
             "startlinecolor": "#2a3f5f"
            },
            "baxis": {
             "endlinecolor": "#2a3f5f",
             "gridcolor": "white",
             "linecolor": "white",
             "minorgridcolor": "white",
             "startlinecolor": "#2a3f5f"
            },
            "type": "carpet"
           }
          ],
          "choropleth": [
           {
            "colorbar": {
             "outlinewidth": 0,
             "ticks": ""
            },
            "type": "choropleth"
           }
          ],
          "contour": [
           {
            "colorbar": {
             "outlinewidth": 0,
             "ticks": ""
            },
            "colorscale": [
             [
              0,
              "#0d0887"
             ],
             [
              0.1111111111111111,
              "#46039f"
             ],
             [
              0.2222222222222222,
              "#7201a8"
             ],
             [
              0.3333333333333333,
              "#9c179e"
             ],
             [
              0.4444444444444444,
              "#bd3786"
             ],
             [
              0.5555555555555556,
              "#d8576b"
             ],
             [
              0.6666666666666666,
              "#ed7953"
             ],
             [
              0.7777777777777778,
              "#fb9f3a"
             ],
             [
              0.8888888888888888,
              "#fdca26"
             ],
             [
              1,
              "#f0f921"
             ]
            ],
            "type": "contour"
           }
          ],
          "contourcarpet": [
           {
            "colorbar": {
             "outlinewidth": 0,
             "ticks": ""
            },
            "type": "contourcarpet"
           }
          ],
          "heatmap": [
           {
            "colorbar": {
             "outlinewidth": 0,
             "ticks": ""
            },
            "colorscale": [
             [
              0,
              "#0d0887"
             ],
             [
              0.1111111111111111,
              "#46039f"
             ],
             [
              0.2222222222222222,
              "#7201a8"
             ],
             [
              0.3333333333333333,
              "#9c179e"
             ],
             [
              0.4444444444444444,
              "#bd3786"
             ],
             [
              0.5555555555555556,
              "#d8576b"
             ],
             [
              0.6666666666666666,
              "#ed7953"
             ],
             [
              0.7777777777777778,
              "#fb9f3a"
             ],
             [
              0.8888888888888888,
              "#fdca26"
             ],
             [
              1,
              "#f0f921"
             ]
            ],
            "type": "heatmap"
           }
          ],
          "heatmapgl": [
           {
            "colorbar": {
             "outlinewidth": 0,
             "ticks": ""
            },
            "colorscale": [
             [
              0,
              "#0d0887"
             ],
             [
              0.1111111111111111,
              "#46039f"
             ],
             [
              0.2222222222222222,
              "#7201a8"
             ],
             [
              0.3333333333333333,
              "#9c179e"
             ],
             [
              0.4444444444444444,
              "#bd3786"
             ],
             [
              0.5555555555555556,
              "#d8576b"
             ],
             [
              0.6666666666666666,
              "#ed7953"
             ],
             [
              0.7777777777777778,
              "#fb9f3a"
             ],
             [
              0.8888888888888888,
              "#fdca26"
             ],
             [
              1,
              "#f0f921"
             ]
            ],
            "type": "heatmapgl"
           }
          ],
          "histogram": [
           {
            "marker": {
             "pattern": {
              "fillmode": "overlay",
              "size": 10,
              "solidity": 0.2
             }
            },
            "type": "histogram"
           }
          ],
          "histogram2d": [
           {
            "colorbar": {
             "outlinewidth": 0,
             "ticks": ""
            },
            "colorscale": [
             [
              0,
              "#0d0887"
             ],
             [
              0.1111111111111111,
              "#46039f"
             ],
             [
              0.2222222222222222,
              "#7201a8"
             ],
             [
              0.3333333333333333,
              "#9c179e"
             ],
             [
              0.4444444444444444,
              "#bd3786"
             ],
             [
              0.5555555555555556,
              "#d8576b"
             ],
             [
              0.6666666666666666,
              "#ed7953"
             ],
             [
              0.7777777777777778,
              "#fb9f3a"
             ],
             [
              0.8888888888888888,
              "#fdca26"
             ],
             [
              1,
              "#f0f921"
             ]
            ],
            "type": "histogram2d"
           }
          ],
          "histogram2dcontour": [
           {
            "colorbar": {
             "outlinewidth": 0,
             "ticks": ""
            },
            "colorscale": [
             [
              0,
              "#0d0887"
             ],
             [
              0.1111111111111111,
              "#46039f"
             ],
             [
              0.2222222222222222,
              "#7201a8"
             ],
             [
              0.3333333333333333,
              "#9c179e"
             ],
             [
              0.4444444444444444,
              "#bd3786"
             ],
             [
              0.5555555555555556,
              "#d8576b"
             ],
             [
              0.6666666666666666,
              "#ed7953"
             ],
             [
              0.7777777777777778,
              "#fb9f3a"
             ],
             [
              0.8888888888888888,
              "#fdca26"
             ],
             [
              1,
              "#f0f921"
             ]
            ],
            "type": "histogram2dcontour"
           }
          ],
          "mesh3d": [
           {
            "colorbar": {
             "outlinewidth": 0,
             "ticks": ""
            },
            "type": "mesh3d"
           }
          ],
          "parcoords": [
           {
            "line": {
             "colorbar": {
              "outlinewidth": 0,
              "ticks": ""
             }
            },
            "type": "parcoords"
           }
          ],
          "pie": [
           {
            "automargin": true,
            "type": "pie"
           }
          ],
          "scatter": [
           {
            "fillpattern": {
             "fillmode": "overlay",
             "size": 10,
             "solidity": 0.2
            },
            "type": "scatter"
           }
          ],
          "scatter3d": [
           {
            "line": {
             "colorbar": {
              "outlinewidth": 0,
              "ticks": ""
             }
            },
            "marker": {
             "colorbar": {
              "outlinewidth": 0,
              "ticks": ""
             }
            },
            "type": "scatter3d"
           }
          ],
          "scattercarpet": [
           {
            "marker": {
             "colorbar": {
              "outlinewidth": 0,
              "ticks": ""
             }
            },
            "type": "scattercarpet"
           }
          ],
          "scattergeo": [
           {
            "marker": {
             "colorbar": {
              "outlinewidth": 0,
              "ticks": ""
             }
            },
            "type": "scattergeo"
           }
          ],
          "scattergl": [
           {
            "marker": {
             "colorbar": {
              "outlinewidth": 0,
              "ticks": ""
             }
            },
            "type": "scattergl"
           }
          ],
          "scattermapbox": [
           {
            "marker": {
             "colorbar": {
              "outlinewidth": 0,
              "ticks": ""
             }
            },
            "type": "scattermapbox"
           }
          ],
          "scatterpolar": [
           {
            "marker": {
             "colorbar": {
              "outlinewidth": 0,
              "ticks": ""
             }
            },
            "type": "scatterpolar"
           }
          ],
          "scatterpolargl": [
           {
            "marker": {
             "colorbar": {
              "outlinewidth": 0,
              "ticks": ""
             }
            },
            "type": "scatterpolargl"
           }
          ],
          "scatterternary": [
           {
            "marker": {
             "colorbar": {
              "outlinewidth": 0,
              "ticks": ""
             }
            },
            "type": "scatterternary"
           }
          ],
          "surface": [
           {
            "colorbar": {
             "outlinewidth": 0,
             "ticks": ""
            },
            "colorscale": [
             [
              0,
              "#0d0887"
             ],
             [
              0.1111111111111111,
              "#46039f"
             ],
             [
              0.2222222222222222,
              "#7201a8"
             ],
             [
              0.3333333333333333,
              "#9c179e"
             ],
             [
              0.4444444444444444,
              "#bd3786"
             ],
             [
              0.5555555555555556,
              "#d8576b"
             ],
             [
              0.6666666666666666,
              "#ed7953"
             ],
             [
              0.7777777777777778,
              "#fb9f3a"
             ],
             [
              0.8888888888888888,
              "#fdca26"
             ],
             [
              1,
              "#f0f921"
             ]
            ],
            "type": "surface"
           }
          ],
          "table": [
           {
            "cells": {
             "fill": {
              "color": "#EBF0F8"
             },
             "line": {
              "color": "white"
             }
            },
            "header": {
             "fill": {
              "color": "#C8D4E3"
             },
             "line": {
              "color": "white"
             }
            },
            "type": "table"
           }
          ]
         },
         "layout": {
          "annotationdefaults": {
           "arrowcolor": "#2a3f5f",
           "arrowhead": 0,
           "arrowwidth": 1
          },
          "autotypenumbers": "strict",
          "coloraxis": {
           "colorbar": {
            "outlinewidth": 0,
            "ticks": ""
           }
          },
          "colorscale": {
           "diverging": [
            [
             0,
             "#8e0152"
            ],
            [
             0.1,
             "#c51b7d"
            ],
            [
             0.2,
             "#de77ae"
            ],
            [
             0.3,
             "#f1b6da"
            ],
            [
             0.4,
             "#fde0ef"
            ],
            [
             0.5,
             "#f7f7f7"
            ],
            [
             0.6,
             "#e6f5d0"
            ],
            [
             0.7,
             "#b8e186"
            ],
            [
             0.8,
             "#7fbc41"
            ],
            [
             0.9,
             "#4d9221"
            ],
            [
             1,
             "#276419"
            ]
           ],
           "sequential": [
            [
             0,
             "#0d0887"
            ],
            [
             0.1111111111111111,
             "#46039f"
            ],
            [
             0.2222222222222222,
             "#7201a8"
            ],
            [
             0.3333333333333333,
             "#9c179e"
            ],
            [
             0.4444444444444444,
             "#bd3786"
            ],
            [
             0.5555555555555556,
             "#d8576b"
            ],
            [
             0.6666666666666666,
             "#ed7953"
            ],
            [
             0.7777777777777778,
             "#fb9f3a"
            ],
            [
             0.8888888888888888,
             "#fdca26"
            ],
            [
             1,
             "#f0f921"
            ]
           ],
           "sequentialminus": [
            [
             0,
             "#0d0887"
            ],
            [
             0.1111111111111111,
             "#46039f"
            ],
            [
             0.2222222222222222,
             "#7201a8"
            ],
            [
             0.3333333333333333,
             "#9c179e"
            ],
            [
             0.4444444444444444,
             "#bd3786"
            ],
            [
             0.5555555555555556,
             "#d8576b"
            ],
            [
             0.6666666666666666,
             "#ed7953"
            ],
            [
             0.7777777777777778,
             "#fb9f3a"
            ],
            [
             0.8888888888888888,
             "#fdca26"
            ],
            [
             1,
             "#f0f921"
            ]
           ]
          },
          "colorway": [
           "#636efa",
           "#EF553B",
           "#00cc96",
           "#ab63fa",
           "#FFA15A",
           "#19d3f3",
           "#FF6692",
           "#B6E880",
           "#FF97FF",
           "#FECB52"
          ],
          "font": {
           "color": "#2a3f5f"
          },
          "geo": {
           "bgcolor": "white",
           "lakecolor": "white",
           "landcolor": "#E5ECF6",
           "showlakes": true,
           "showland": true,
           "subunitcolor": "white"
          },
          "hoverlabel": {
           "align": "left"
          },
          "hovermode": "closest",
          "mapbox": {
           "style": "light"
          },
          "paper_bgcolor": "white",
          "plot_bgcolor": "#E5ECF6",
          "polar": {
           "angularaxis": {
            "gridcolor": "white",
            "linecolor": "white",
            "ticks": ""
           },
           "bgcolor": "#E5ECF6",
           "radialaxis": {
            "gridcolor": "white",
            "linecolor": "white",
            "ticks": ""
           }
          },
          "scene": {
           "xaxis": {
            "backgroundcolor": "#E5ECF6",
            "gridcolor": "white",
            "gridwidth": 2,
            "linecolor": "white",
            "showbackground": true,
            "ticks": "",
            "zerolinecolor": "white"
           },
           "yaxis": {
            "backgroundcolor": "#E5ECF6",
            "gridcolor": "white",
            "gridwidth": 2,
            "linecolor": "white",
            "showbackground": true,
            "ticks": "",
            "zerolinecolor": "white"
           },
           "zaxis": {
            "backgroundcolor": "#E5ECF6",
            "gridcolor": "white",
            "gridwidth": 2,
            "linecolor": "white",
            "showbackground": true,
            "ticks": "",
            "zerolinecolor": "white"
           }
          },
          "shapedefaults": {
           "line": {
            "color": "#2a3f5f"
           }
          },
          "ternary": {
           "aaxis": {
            "gridcolor": "white",
            "linecolor": "white",
            "ticks": ""
           },
           "baxis": {
            "gridcolor": "white",
            "linecolor": "white",
            "ticks": ""
           },
           "bgcolor": "#E5ECF6",
           "caxis": {
            "gridcolor": "white",
            "linecolor": "white",
            "ticks": ""
           }
          },
          "title": {
           "x": 0.05
          },
          "xaxis": {
           "automargin": true,
           "gridcolor": "white",
           "linecolor": "white",
           "ticks": "",
           "title": {
            "standoff": 15
           },
           "zerolinecolor": "white",
           "zerolinewidth": 2
          },
          "yaxis": {
           "automargin": true,
           "gridcolor": "white",
           "linecolor": "white",
           "ticks": "",
           "title": {
            "standoff": 15
           },
           "zerolinecolor": "white",
           "zerolinewidth": 2
          }
         }
        },
        "title": {
         "text": "IngredientResearch per Product"
        },
        "width": 1000,
        "xaxis": {
         "tickangle": -45,
         "title": {
          "text": "Product"
         }
        },
        "yaxis": {
         "title": {
          "text": "IngredientResearch"
         }
        }
       }
      }
     },
     "metadata": {},
     "output_type": "display_data"
    }
   ],
   "source": [
    "from neo4j import GraphDatabase\n",
    "import plotly.graph_objects as go\n",
    "\n",
    "# 定义查询函数\n",
    "def run_query(tx):\n",
    "    query = \"\"\"\n",
    "    MATCH (p:Product)-[:HAS_RECIPE]->(:Recipe)-[:USES_INGREDIENT]->(:Ingredient)-[:HAS_RESEARCH]->(ir:IngredientResearch)\n",
    "    RETURN p.name AS product, ir.ingredient_name AS ingredient\n",
    "    \"\"\"\n",
    "    result = tx.run(query)\n",
    "    return [(record[\"product\"], record[\"ingredient\"]) for record in result]\n",
    "\n",
    "# 执行查询并获取结果\n",
    "with driver.session() as session:\n",
    "    results = session.read_transaction(run_query)\n",
    "\n",
    "# 统计每个产品的配料研究数量\n",
    "product_counts = {}\n",
    "for product, ingredient in results:\n",
    "    if product not in product_counts:\n",
    "        product_counts[product] = 0\n",
    "    product_counts[product] += 1\n",
    "\n",
    "# 准备数据\n",
    "products = list(product_counts.keys())\n",
    "counts = list(product_counts.values())\n",
    "\n",
    "# 创建条形图\n",
    "fig = go.Figure(data=[go.Bar(\n",
    "    x=products, \n",
    "    y=counts,\n",
    "    text=counts,\n",
    "    textposition='outside',\n",
    "    hoverinfo='text',\n",
    "    hovertext=[f\"{product}<br>IngredientResearch: {count}\" for product, count in zip(products, counts)],\n",
    "    marker_color=counts,\n",
    "    marker_colorscale='Viridis'\n",
    ")])\n",
    "\n",
    "# 更新布局\n",
    "fig.update_layout(\n",
    "    title='IngredientResearch per Product',\n",
    "    xaxis_title='Product',\n",
    "    yaxis_title='IngredientResearch',\n",
    "    xaxis_tickangle=-45,\n",
    "    height=600,\n",
    "    width=1000,\n",
    "    hovermode='closest',\n",
    "    coloraxis_showscale=True,\n",
    "    coloraxis_colorbar=dict(title=\"IngredientResearch\")\n",
    ")\n",
    "\n",
    "# 显示图形\n",
    "fig.show()"
   ]
  },
  {
   "cell_type": "code",
   "execution_count": 24,
   "metadata": {},
   "outputs": [
    {
     "data": {
      "application/vnd.plotly.v1+json": {
       "config": {
        "plotlyServerURL": "https://plot.ly"
       },
       "data": [
        {
         "cells": {
          "values": [
           [
            "Woolworths Orange Juice"
           ],
           [
            "Natural Flavour, Citric Acid, Vitamin C, Reconstituted Fruit Juice Orange"
           ]
          ]
         },
         "header": {
          "values": [
           "Product",
           "Ingredients"
          ]
         },
         "type": "table"
        }
       ],
       "layout": {
        "height": 400,
        "template": {
         "data": {
          "bar": [
           {
            "error_x": {
             "color": "#2a3f5f"
            },
            "error_y": {
             "color": "#2a3f5f"
            },
            "marker": {
             "line": {
              "color": "#E5ECF6",
              "width": 0.5
             },
             "pattern": {
              "fillmode": "overlay",
              "size": 10,
              "solidity": 0.2
             }
            },
            "type": "bar"
           }
          ],
          "barpolar": [
           {
            "marker": {
             "line": {
              "color": "#E5ECF6",
              "width": 0.5
             },
             "pattern": {
              "fillmode": "overlay",
              "size": 10,
              "solidity": 0.2
             }
            },
            "type": "barpolar"
           }
          ],
          "carpet": [
           {
            "aaxis": {
             "endlinecolor": "#2a3f5f",
             "gridcolor": "white",
             "linecolor": "white",
             "minorgridcolor": "white",
             "startlinecolor": "#2a3f5f"
            },
            "baxis": {
             "endlinecolor": "#2a3f5f",
             "gridcolor": "white",
             "linecolor": "white",
             "minorgridcolor": "white",
             "startlinecolor": "#2a3f5f"
            },
            "type": "carpet"
           }
          ],
          "choropleth": [
           {
            "colorbar": {
             "outlinewidth": 0,
             "ticks": ""
            },
            "type": "choropleth"
           }
          ],
          "contour": [
           {
            "colorbar": {
             "outlinewidth": 0,
             "ticks": ""
            },
            "colorscale": [
             [
              0,
              "#0d0887"
             ],
             [
              0.1111111111111111,
              "#46039f"
             ],
             [
              0.2222222222222222,
              "#7201a8"
             ],
             [
              0.3333333333333333,
              "#9c179e"
             ],
             [
              0.4444444444444444,
              "#bd3786"
             ],
             [
              0.5555555555555556,
              "#d8576b"
             ],
             [
              0.6666666666666666,
              "#ed7953"
             ],
             [
              0.7777777777777778,
              "#fb9f3a"
             ],
             [
              0.8888888888888888,
              "#fdca26"
             ],
             [
              1,
              "#f0f921"
             ]
            ],
            "type": "contour"
           }
          ],
          "contourcarpet": [
           {
            "colorbar": {
             "outlinewidth": 0,
             "ticks": ""
            },
            "type": "contourcarpet"
           }
          ],
          "heatmap": [
           {
            "colorbar": {
             "outlinewidth": 0,
             "ticks": ""
            },
            "colorscale": [
             [
              0,
              "#0d0887"
             ],
             [
              0.1111111111111111,
              "#46039f"
             ],
             [
              0.2222222222222222,
              "#7201a8"
             ],
             [
              0.3333333333333333,
              "#9c179e"
             ],
             [
              0.4444444444444444,
              "#bd3786"
             ],
             [
              0.5555555555555556,
              "#d8576b"
             ],
             [
              0.6666666666666666,
              "#ed7953"
             ],
             [
              0.7777777777777778,
              "#fb9f3a"
             ],
             [
              0.8888888888888888,
              "#fdca26"
             ],
             [
              1,
              "#f0f921"
             ]
            ],
            "type": "heatmap"
           }
          ],
          "heatmapgl": [
           {
            "colorbar": {
             "outlinewidth": 0,
             "ticks": ""
            },
            "colorscale": [
             [
              0,
              "#0d0887"
             ],
             [
              0.1111111111111111,
              "#46039f"
             ],
             [
              0.2222222222222222,
              "#7201a8"
             ],
             [
              0.3333333333333333,
              "#9c179e"
             ],
             [
              0.4444444444444444,
              "#bd3786"
             ],
             [
              0.5555555555555556,
              "#d8576b"
             ],
             [
              0.6666666666666666,
              "#ed7953"
             ],
             [
              0.7777777777777778,
              "#fb9f3a"
             ],
             [
              0.8888888888888888,
              "#fdca26"
             ],
             [
              1,
              "#f0f921"
             ]
            ],
            "type": "heatmapgl"
           }
          ],
          "histogram": [
           {
            "marker": {
             "pattern": {
              "fillmode": "overlay",
              "size": 10,
              "solidity": 0.2
             }
            },
            "type": "histogram"
           }
          ],
          "histogram2d": [
           {
            "colorbar": {
             "outlinewidth": 0,
             "ticks": ""
            },
            "colorscale": [
             [
              0,
              "#0d0887"
             ],
             [
              0.1111111111111111,
              "#46039f"
             ],
             [
              0.2222222222222222,
              "#7201a8"
             ],
             [
              0.3333333333333333,
              "#9c179e"
             ],
             [
              0.4444444444444444,
              "#bd3786"
             ],
             [
              0.5555555555555556,
              "#d8576b"
             ],
             [
              0.6666666666666666,
              "#ed7953"
             ],
             [
              0.7777777777777778,
              "#fb9f3a"
             ],
             [
              0.8888888888888888,
              "#fdca26"
             ],
             [
              1,
              "#f0f921"
             ]
            ],
            "type": "histogram2d"
           }
          ],
          "histogram2dcontour": [
           {
            "colorbar": {
             "outlinewidth": 0,
             "ticks": ""
            },
            "colorscale": [
             [
              0,
              "#0d0887"
             ],
             [
              0.1111111111111111,
              "#46039f"
             ],
             [
              0.2222222222222222,
              "#7201a8"
             ],
             [
              0.3333333333333333,
              "#9c179e"
             ],
             [
              0.4444444444444444,
              "#bd3786"
             ],
             [
              0.5555555555555556,
              "#d8576b"
             ],
             [
              0.6666666666666666,
              "#ed7953"
             ],
             [
              0.7777777777777778,
              "#fb9f3a"
             ],
             [
              0.8888888888888888,
              "#fdca26"
             ],
             [
              1,
              "#f0f921"
             ]
            ],
            "type": "histogram2dcontour"
           }
          ],
          "mesh3d": [
           {
            "colorbar": {
             "outlinewidth": 0,
             "ticks": ""
            },
            "type": "mesh3d"
           }
          ],
          "parcoords": [
           {
            "line": {
             "colorbar": {
              "outlinewidth": 0,
              "ticks": ""
             }
            },
            "type": "parcoords"
           }
          ],
          "pie": [
           {
            "automargin": true,
            "type": "pie"
           }
          ],
          "scatter": [
           {
            "fillpattern": {
             "fillmode": "overlay",
             "size": 10,
             "solidity": 0.2
            },
            "type": "scatter"
           }
          ],
          "scatter3d": [
           {
            "line": {
             "colorbar": {
              "outlinewidth": 0,
              "ticks": ""
             }
            },
            "marker": {
             "colorbar": {
              "outlinewidth": 0,
              "ticks": ""
             }
            },
            "type": "scatter3d"
           }
          ],
          "scattercarpet": [
           {
            "marker": {
             "colorbar": {
              "outlinewidth": 0,
              "ticks": ""
             }
            },
            "type": "scattercarpet"
           }
          ],
          "scattergeo": [
           {
            "marker": {
             "colorbar": {
              "outlinewidth": 0,
              "ticks": ""
             }
            },
            "type": "scattergeo"
           }
          ],
          "scattergl": [
           {
            "marker": {
             "colorbar": {
              "outlinewidth": 0,
              "ticks": ""
             }
            },
            "type": "scattergl"
           }
          ],
          "scattermapbox": [
           {
            "marker": {
             "colorbar": {
              "outlinewidth": 0,
              "ticks": ""
             }
            },
            "type": "scattermapbox"
           }
          ],
          "scatterpolar": [
           {
            "marker": {
             "colorbar": {
              "outlinewidth": 0,
              "ticks": ""
             }
            },
            "type": "scatterpolar"
           }
          ],
          "scatterpolargl": [
           {
            "marker": {
             "colorbar": {
              "outlinewidth": 0,
              "ticks": ""
             }
            },
            "type": "scatterpolargl"
           }
          ],
          "scatterternary": [
           {
            "marker": {
             "colorbar": {
              "outlinewidth": 0,
              "ticks": ""
             }
            },
            "type": "scatterternary"
           }
          ],
          "surface": [
           {
            "colorbar": {
             "outlinewidth": 0,
             "ticks": ""
            },
            "colorscale": [
             [
              0,
              "#0d0887"
             ],
             [
              0.1111111111111111,
              "#46039f"
             ],
             [
              0.2222222222222222,
              "#7201a8"
             ],
             [
              0.3333333333333333,
              "#9c179e"
             ],
             [
              0.4444444444444444,
              "#bd3786"
             ],
             [
              0.5555555555555556,
              "#d8576b"
             ],
             [
              0.6666666666666666,
              "#ed7953"
             ],
             [
              0.7777777777777778,
              "#fb9f3a"
             ],
             [
              0.8888888888888888,
              "#fdca26"
             ],
             [
              1,
              "#f0f921"
             ]
            ],
            "type": "surface"
           }
          ],
          "table": [
           {
            "cells": {
             "fill": {
              "color": "#EBF0F8"
             },
             "line": {
              "color": "white"
             }
            },
            "header": {
             "fill": {
              "color": "#C8D4E3"
             },
             "line": {
              "color": "white"
             }
            },
            "type": "table"
           }
          ]
         },
         "layout": {
          "annotationdefaults": {
           "arrowcolor": "#2a3f5f",
           "arrowhead": 0,
           "arrowwidth": 1
          },
          "autotypenumbers": "strict",
          "coloraxis": {
           "colorbar": {
            "outlinewidth": 0,
            "ticks": ""
           }
          },
          "colorscale": {
           "diverging": [
            [
             0,
             "#8e0152"
            ],
            [
             0.1,
             "#c51b7d"
            ],
            [
             0.2,
             "#de77ae"
            ],
            [
             0.3,
             "#f1b6da"
            ],
            [
             0.4,
             "#fde0ef"
            ],
            [
             0.5,
             "#f7f7f7"
            ],
            [
             0.6,
             "#e6f5d0"
            ],
            [
             0.7,
             "#b8e186"
            ],
            [
             0.8,
             "#7fbc41"
            ],
            [
             0.9,
             "#4d9221"
            ],
            [
             1,
             "#276419"
            ]
           ],
           "sequential": [
            [
             0,
             "#0d0887"
            ],
            [
             0.1111111111111111,
             "#46039f"
            ],
            [
             0.2222222222222222,
             "#7201a8"
            ],
            [
             0.3333333333333333,
             "#9c179e"
            ],
            [
             0.4444444444444444,
             "#bd3786"
            ],
            [
             0.5555555555555556,
             "#d8576b"
            ],
            [
             0.6666666666666666,
             "#ed7953"
            ],
            [
             0.7777777777777778,
             "#fb9f3a"
            ],
            [
             0.8888888888888888,
             "#fdca26"
            ],
            [
             1,
             "#f0f921"
            ]
           ],
           "sequentialminus": [
            [
             0,
             "#0d0887"
            ],
            [
             0.1111111111111111,
             "#46039f"
            ],
            [
             0.2222222222222222,
             "#7201a8"
            ],
            [
             0.3333333333333333,
             "#9c179e"
            ],
            [
             0.4444444444444444,
             "#bd3786"
            ],
            [
             0.5555555555555556,
             "#d8576b"
            ],
            [
             0.6666666666666666,
             "#ed7953"
            ],
            [
             0.7777777777777778,
             "#fb9f3a"
            ],
            [
             0.8888888888888888,
             "#fdca26"
            ],
            [
             1,
             "#f0f921"
            ]
           ]
          },
          "colorway": [
           "#636efa",
           "#EF553B",
           "#00cc96",
           "#ab63fa",
           "#FFA15A",
           "#19d3f3",
           "#FF6692",
           "#B6E880",
           "#FF97FF",
           "#FECB52"
          ],
          "font": {
           "color": "#2a3f5f"
          },
          "geo": {
           "bgcolor": "white",
           "lakecolor": "white",
           "landcolor": "#E5ECF6",
           "showlakes": true,
           "showland": true,
           "subunitcolor": "white"
          },
          "hoverlabel": {
           "align": "left"
          },
          "hovermode": "closest",
          "mapbox": {
           "style": "light"
          },
          "paper_bgcolor": "white",
          "plot_bgcolor": "#E5ECF6",
          "polar": {
           "angularaxis": {
            "gridcolor": "white",
            "linecolor": "white",
            "ticks": ""
           },
           "bgcolor": "#E5ECF6",
           "radialaxis": {
            "gridcolor": "white",
            "linecolor": "white",
            "ticks": ""
           }
          },
          "scene": {
           "xaxis": {
            "backgroundcolor": "#E5ECF6",
            "gridcolor": "white",
            "gridwidth": 2,
            "linecolor": "white",
            "showbackground": true,
            "ticks": "",
            "zerolinecolor": "white"
           },
           "yaxis": {
            "backgroundcolor": "#E5ECF6",
            "gridcolor": "white",
            "gridwidth": 2,
            "linecolor": "white",
            "showbackground": true,
            "ticks": "",
            "zerolinecolor": "white"
           },
           "zaxis": {
            "backgroundcolor": "#E5ECF6",
            "gridcolor": "white",
            "gridwidth": 2,
            "linecolor": "white",
            "showbackground": true,
            "ticks": "",
            "zerolinecolor": "white"
           }
          },
          "shapedefaults": {
           "line": {
            "color": "#2a3f5f"
           }
          },
          "ternary": {
           "aaxis": {
            "gridcolor": "white",
            "linecolor": "white",
            "ticks": ""
           },
           "baxis": {
            "gridcolor": "white",
            "linecolor": "white",
            "ticks": ""
           },
           "bgcolor": "#E5ECF6",
           "caxis": {
            "gridcolor": "white",
            "linecolor": "white",
            "ticks": ""
           }
          },
          "title": {
           "x": 0.05
          },
          "xaxis": {
           "automargin": true,
           "gridcolor": "white",
           "linecolor": "white",
           "ticks": "",
           "title": {
            "standoff": 15
           },
           "zerolinecolor": "white",
           "zerolinewidth": 2
          },
          "yaxis": {
           "automargin": true,
           "gridcolor": "white",
           "linecolor": "white",
           "ticks": "",
           "title": {
            "standoff": 15
           },
           "zerolinecolor": "white",
           "zerolinewidth": 2
          }
         }
        },
        "title": {
         "text": "Fruit Juice Drinks without Apple"
        }
       }
      }
     },
     "metadata": {},
     "output_type": "display_data"
    }
   ],
   "source": [
    "from neo4j import GraphDatabase\n",
    "import plotly.graph_objects as go\n",
    "\n",
    "\n",
    "query = \"\"\"\n",
    "MATCH (p:Product)-[:COMMUNITY_TO]->(c:Community {name: \"Fruit juice drinks\"})\n",
    "WHERE NOT EXISTS {\n",
    "  MATCH (p)-[:HAS_RECIPE]->(:Recipe)-[:USES_INGREDIENT]->(:Ingredient)-[:HAS_RESEARCH]->(r:IngredientResearch)\n",
    "  WHERE toLower(r.ingredient_name) CONTAINS 'apple'\n",
    "}\n",
    "WITH COLLECT(p) AS products\n",
    "// Part 2: Finding the ingredients in these products\n",
    "UNWIND products AS p\n",
    "MATCH (p)-[:HAS_RECIPE]->(r:Recipe)-[:USES_INGREDIENT]->(i:Ingredient)-[:HAS_RESEARCH]->(res:IngredientResearch)\n",
    "RETURN p.name AS product, COLLECT(res.ingredient_name) AS ingredients\n",
    "\"\"\"\n",
    "\n",
    "\n",
    "\n",
    "# Execute queries and process results\n",
    "with driver.session() as session:\n",
    "    results = session.run(query)\n",
    "    data = [record.data() for record in results]\n",
    "\n",
    "# Extract product names and ingredient lists\n",
    "products = [result['product'] for result in data]\n",
    "ingredients = [', '.join(result['ingredients']) for result in data]\n",
    "\n",
    "# Create a list diagram\n",
    "fig = go.Figure(data=[go.Table(\n",
    "    header=dict(values=[\"Product\", \"Ingredients\"]),\n",
    "    cells=dict(values=[products, ingredients])\n",
    ")])\n",
    "\n",
    "# Setting up the chart layout\n",
    "fig.update_layout(\n",
    "    title=\"Fruit Juice Drinks without Apple\",\n",
    "    height=400\n",
    ")\n",
    "\n",
    "# show chart\n",
    "fig.show()"
   ]
  },
  {
   "cell_type": "code",
   "execution_count": 33,
   "metadata": {},
   "outputs": [
    {
     "data": {
      "application/vnd.plotly.v1+json": {
       "config": {
        "plotlyServerURL": "https://plot.ly"
       },
       "data": [
        {
         "cells": {
          "values": [
           [
            "Indomie Mi Goreng Instant Noodles",
            "Maggi 2 Minute Chicken Flavour Instant Noodles",
            "Supreme Noodles Cup Chicken Flavour",
            "Fantastic Chicken Noodle Cup",
            "Fantastic Chicken Noodle Bowl",
            "Indomie Mi Goreng Noodle Cup",
            "Maggi 2 Minute Beef Flavour Instant Noodles",
            "Supreme Noodles Cup Beef Flavour",
            "Woolworths Lasagne Sheets"
           ],
           [
            "Sugar, Wheat Flour, Refined Palm Oil, Salt, Acidity Regulator 451, Acidity Regulator 501, Sodium Bicarbonate, Guar Gum, Colour 101, Seasoning Powder, Flavour Enhancer 621, Disodium Guanylate, Garlic Powder, Onion Powder, Yeast Extract, Artificial Flavour, Pepper, Anti Caking Agent 551, Seasoning Oil, Onion, Sweet Soy Sauce, Water, Wheat, Soy Bean, Spices, Sesame Oil, Chilli Sauce, Chilli, Tapioca Starch, Acetic Acid, Citric Acid, Herbs, Preservative 1211, Sodium Metabisulfite, Fried Onion, TBHQ, Disodium Inosinate",
            "Sugar, Wheat Flour, Salt, Flavour Enhancer 621, Onion Powder, TBHQ, Vegetable Oil, Antioxidant 320, Mineral Salt 508, Mineral Salt 451, Flavour Enhancer 635, Guar Gum, Iodised Salt, Maltodextrin, Flavours Wheat, Flavours Soy, Vegetable Fat, Parsley Flakes, Turmeric, Caramel III, Coriander, Cumin, Spice Cardamom, Spice Chilli Powder, Spice Ginger, Flavour Celery, Mineral Salt 501, Mineral Salt 500, Sugar, Wheat Flour, Salt, Flavour Enhancer 621, Onion, TBHQ, Vegetable Oil, Antioxidant 320, Mineral Salt 508, Mineral Salt 451, Flavour Enhancer 635, Guar Gum, Flavours Wheat, Flavours Soy, Vegetable Fat, Turmeric, Coriander, Cumin, Spice Cardamom, Spice Chilli Powder, Spice Ginger, Potassium Chloride, Flavour Celery, Potato Starch, Parsley, Burnt Sugar, Mineral Salt 501, Mineral Salt 500",
            "Sugar, Wheat Flour, Salt, Flavour Enhancer 621, Onion Powder, Yeast Extract, Herbs, Vegetable Oil, Flavour Enhancer 635, Maltodextrin, Gluten Wheat, Soy, Curcumin",
            "Sugar, Wheat Flour, Salt, Flavour Enhancer 621, Onion Powder, Yeast Extract, Herbs, Vegetable Oil, Antioxidant 320, Flavour Enhancer 635, Maltodextrin, Gluten Wheat, Soy, Curcumin, Flavour Sachet, Vegetable Sachet, Dehydrated Vegetables",
            "Sugar, Wheat Flour, Salt, Flavour Enhancer 621, Disodium Guanylate, Yeast Extract, Anti Caking Agent 551, TBHQ, Vegetable Oil, Guar Gum, Flavours Wheat, Flavours Soy, Dehydrated Vegetables, Modified Starch 1420, Mineral Salt 501, Mineral Salt 500, Mineral Salt 450, Disodium Inosinate, Basil, Colouring Agent 100, Antioxidant 307b",
            "Sugar, Wheat Flour, Refined Palm Oil, Salt, Acidity Regulator 451, Acidity Regulator 501, Sodium Bicarbonate, Guar Gum, Colour 101, Seasoning Powder, Flavour Enhancer 621, Disodium Guanylate, Garlic Powder, Onion Powder, Yeast Extract, Artificial Flavour, Pepper, Anti Caking Agent 551, Seasoning Oil, Onion, Sweet Soy Sauce, Water, Wheat, Soy Bean, Spices, Sesame Oil, Chilli Sauce, Chilli, Tapioca Starch, Acetic Acid, Citric Acid, Herbs, Preservative 1211, Sodium Metabisulfite, Fried Onion, TBHQ, Disodium Inosinate, Flavours",
            "Sugar, Flavour, Wheat Flour, Salt, Flavour Enhancer 621, Yeast Extract, Onion, Wheat, TBHQ, Vegetable Oil, Antioxidant 320, Mineral Salt 508, Mineral Salt 451, Flavour Enhancer 635, Guar Gum, Vegetable Fat, Potassium Chloride, Burnt Sugar, Soy, Mineral Salt 501, Mineral Salt 500, Soy Sauce Powder, White Pepper, Rosemary, Citric Acid",
            "Sugar, Wheat Flour, Salt, Flavour Enhancer 621, Garlic Powder, Wheat, Vegetable Oil, Antioxidant 320, Flavour Enhancer 635, Soy, Curcumin, Basil, Colouring Agent 150c, Caramel Color",
            "Durum Wheat Semolina"
           ]
          ]
         },
         "header": {
          "values": [
           "Product",
           "Ingredients"
          ]
         },
         "type": "table"
        }
       ],
       "layout": {
        "height": 400,
        "template": {
         "data": {
          "bar": [
           {
            "error_x": {
             "color": "#2a3f5f"
            },
            "error_y": {
             "color": "#2a3f5f"
            },
            "marker": {
             "line": {
              "color": "#E5ECF6",
              "width": 0.5
             },
             "pattern": {
              "fillmode": "overlay",
              "size": 10,
              "solidity": 0.2
             }
            },
            "type": "bar"
           }
          ],
          "barpolar": [
           {
            "marker": {
             "line": {
              "color": "#E5ECF6",
              "width": 0.5
             },
             "pattern": {
              "fillmode": "overlay",
              "size": 10,
              "solidity": 0.2
             }
            },
            "type": "barpolar"
           }
          ],
          "carpet": [
           {
            "aaxis": {
             "endlinecolor": "#2a3f5f",
             "gridcolor": "white",
             "linecolor": "white",
             "minorgridcolor": "white",
             "startlinecolor": "#2a3f5f"
            },
            "baxis": {
             "endlinecolor": "#2a3f5f",
             "gridcolor": "white",
             "linecolor": "white",
             "minorgridcolor": "white",
             "startlinecolor": "#2a3f5f"
            },
            "type": "carpet"
           }
          ],
          "choropleth": [
           {
            "colorbar": {
             "outlinewidth": 0,
             "ticks": ""
            },
            "type": "choropleth"
           }
          ],
          "contour": [
           {
            "colorbar": {
             "outlinewidth": 0,
             "ticks": ""
            },
            "colorscale": [
             [
              0,
              "#0d0887"
             ],
             [
              0.1111111111111111,
              "#46039f"
             ],
             [
              0.2222222222222222,
              "#7201a8"
             ],
             [
              0.3333333333333333,
              "#9c179e"
             ],
             [
              0.4444444444444444,
              "#bd3786"
             ],
             [
              0.5555555555555556,
              "#d8576b"
             ],
             [
              0.6666666666666666,
              "#ed7953"
             ],
             [
              0.7777777777777778,
              "#fb9f3a"
             ],
             [
              0.8888888888888888,
              "#fdca26"
             ],
             [
              1,
              "#f0f921"
             ]
            ],
            "type": "contour"
           }
          ],
          "contourcarpet": [
           {
            "colorbar": {
             "outlinewidth": 0,
             "ticks": ""
            },
            "type": "contourcarpet"
           }
          ],
          "heatmap": [
           {
            "colorbar": {
             "outlinewidth": 0,
             "ticks": ""
            },
            "colorscale": [
             [
              0,
              "#0d0887"
             ],
             [
              0.1111111111111111,
              "#46039f"
             ],
             [
              0.2222222222222222,
              "#7201a8"
             ],
             [
              0.3333333333333333,
              "#9c179e"
             ],
             [
              0.4444444444444444,
              "#bd3786"
             ],
             [
              0.5555555555555556,
              "#d8576b"
             ],
             [
              0.6666666666666666,
              "#ed7953"
             ],
             [
              0.7777777777777778,
              "#fb9f3a"
             ],
             [
              0.8888888888888888,
              "#fdca26"
             ],
             [
              1,
              "#f0f921"
             ]
            ],
            "type": "heatmap"
           }
          ],
          "heatmapgl": [
           {
            "colorbar": {
             "outlinewidth": 0,
             "ticks": ""
            },
            "colorscale": [
             [
              0,
              "#0d0887"
             ],
             [
              0.1111111111111111,
              "#46039f"
             ],
             [
              0.2222222222222222,
              "#7201a8"
             ],
             [
              0.3333333333333333,
              "#9c179e"
             ],
             [
              0.4444444444444444,
              "#bd3786"
             ],
             [
              0.5555555555555556,
              "#d8576b"
             ],
             [
              0.6666666666666666,
              "#ed7953"
             ],
             [
              0.7777777777777778,
              "#fb9f3a"
             ],
             [
              0.8888888888888888,
              "#fdca26"
             ],
             [
              1,
              "#f0f921"
             ]
            ],
            "type": "heatmapgl"
           }
          ],
          "histogram": [
           {
            "marker": {
             "pattern": {
              "fillmode": "overlay",
              "size": 10,
              "solidity": 0.2
             }
            },
            "type": "histogram"
           }
          ],
          "histogram2d": [
           {
            "colorbar": {
             "outlinewidth": 0,
             "ticks": ""
            },
            "colorscale": [
             [
              0,
              "#0d0887"
             ],
             [
              0.1111111111111111,
              "#46039f"
             ],
             [
              0.2222222222222222,
              "#7201a8"
             ],
             [
              0.3333333333333333,
              "#9c179e"
             ],
             [
              0.4444444444444444,
              "#bd3786"
             ],
             [
              0.5555555555555556,
              "#d8576b"
             ],
             [
              0.6666666666666666,
              "#ed7953"
             ],
             [
              0.7777777777777778,
              "#fb9f3a"
             ],
             [
              0.8888888888888888,
              "#fdca26"
             ],
             [
              1,
              "#f0f921"
             ]
            ],
            "type": "histogram2d"
           }
          ],
          "histogram2dcontour": [
           {
            "colorbar": {
             "outlinewidth": 0,
             "ticks": ""
            },
            "colorscale": [
             [
              0,
              "#0d0887"
             ],
             [
              0.1111111111111111,
              "#46039f"
             ],
             [
              0.2222222222222222,
              "#7201a8"
             ],
             [
              0.3333333333333333,
              "#9c179e"
             ],
             [
              0.4444444444444444,
              "#bd3786"
             ],
             [
              0.5555555555555556,
              "#d8576b"
             ],
             [
              0.6666666666666666,
              "#ed7953"
             ],
             [
              0.7777777777777778,
              "#fb9f3a"
             ],
             [
              0.8888888888888888,
              "#fdca26"
             ],
             [
              1,
              "#f0f921"
             ]
            ],
            "type": "histogram2dcontour"
           }
          ],
          "mesh3d": [
           {
            "colorbar": {
             "outlinewidth": 0,
             "ticks": ""
            },
            "type": "mesh3d"
           }
          ],
          "parcoords": [
           {
            "line": {
             "colorbar": {
              "outlinewidth": 0,
              "ticks": ""
             }
            },
            "type": "parcoords"
           }
          ],
          "pie": [
           {
            "automargin": true,
            "type": "pie"
           }
          ],
          "scatter": [
           {
            "fillpattern": {
             "fillmode": "overlay",
             "size": 10,
             "solidity": 0.2
            },
            "type": "scatter"
           }
          ],
          "scatter3d": [
           {
            "line": {
             "colorbar": {
              "outlinewidth": 0,
              "ticks": ""
             }
            },
            "marker": {
             "colorbar": {
              "outlinewidth": 0,
              "ticks": ""
             }
            },
            "type": "scatter3d"
           }
          ],
          "scattercarpet": [
           {
            "marker": {
             "colorbar": {
              "outlinewidth": 0,
              "ticks": ""
             }
            },
            "type": "scattercarpet"
           }
          ],
          "scattergeo": [
           {
            "marker": {
             "colorbar": {
              "outlinewidth": 0,
              "ticks": ""
             }
            },
            "type": "scattergeo"
           }
          ],
          "scattergl": [
           {
            "marker": {
             "colorbar": {
              "outlinewidth": 0,
              "ticks": ""
             }
            },
            "type": "scattergl"
           }
          ],
          "scattermapbox": [
           {
            "marker": {
             "colorbar": {
              "outlinewidth": 0,
              "ticks": ""
             }
            },
            "type": "scattermapbox"
           }
          ],
          "scatterpolar": [
           {
            "marker": {
             "colorbar": {
              "outlinewidth": 0,
              "ticks": ""
             }
            },
            "type": "scatterpolar"
           }
          ],
          "scatterpolargl": [
           {
            "marker": {
             "colorbar": {
              "outlinewidth": 0,
              "ticks": ""
             }
            },
            "type": "scatterpolargl"
           }
          ],
          "scatterternary": [
           {
            "marker": {
             "colorbar": {
              "outlinewidth": 0,
              "ticks": ""
             }
            },
            "type": "scatterternary"
           }
          ],
          "surface": [
           {
            "colorbar": {
             "outlinewidth": 0,
             "ticks": ""
            },
            "colorscale": [
             [
              0,
              "#0d0887"
             ],
             [
              0.1111111111111111,
              "#46039f"
             ],
             [
              0.2222222222222222,
              "#7201a8"
             ],
             [
              0.3333333333333333,
              "#9c179e"
             ],
             [
              0.4444444444444444,
              "#bd3786"
             ],
             [
              0.5555555555555556,
              "#d8576b"
             ],
             [
              0.6666666666666666,
              "#ed7953"
             ],
             [
              0.7777777777777778,
              "#fb9f3a"
             ],
             [
              0.8888888888888888,
              "#fdca26"
             ],
             [
              1,
              "#f0f921"
             ]
            ],
            "type": "surface"
           }
          ],
          "table": [
           {
            "cells": {
             "fill": {
              "color": "#EBF0F8"
             },
             "line": {
              "color": "white"
             }
            },
            "header": {
             "fill": {
              "color": "#C8D4E3"
             },
             "line": {
              "color": "white"
             }
            },
            "type": "table"
           }
          ]
         },
         "layout": {
          "annotationdefaults": {
           "arrowcolor": "#2a3f5f",
           "arrowhead": 0,
           "arrowwidth": 1
          },
          "autotypenumbers": "strict",
          "coloraxis": {
           "colorbar": {
            "outlinewidth": 0,
            "ticks": ""
           }
          },
          "colorscale": {
           "diverging": [
            [
             0,
             "#8e0152"
            ],
            [
             0.1,
             "#c51b7d"
            ],
            [
             0.2,
             "#de77ae"
            ],
            [
             0.3,
             "#f1b6da"
            ],
            [
             0.4,
             "#fde0ef"
            ],
            [
             0.5,
             "#f7f7f7"
            ],
            [
             0.6,
             "#e6f5d0"
            ],
            [
             0.7,
             "#b8e186"
            ],
            [
             0.8,
             "#7fbc41"
            ],
            [
             0.9,
             "#4d9221"
            ],
            [
             1,
             "#276419"
            ]
           ],
           "sequential": [
            [
             0,
             "#0d0887"
            ],
            [
             0.1111111111111111,
             "#46039f"
            ],
            [
             0.2222222222222222,
             "#7201a8"
            ],
            [
             0.3333333333333333,
             "#9c179e"
            ],
            [
             0.4444444444444444,
             "#bd3786"
            ],
            [
             0.5555555555555556,
             "#d8576b"
            ],
            [
             0.6666666666666666,
             "#ed7953"
            ],
            [
             0.7777777777777778,
             "#fb9f3a"
            ],
            [
             0.8888888888888888,
             "#fdca26"
            ],
            [
             1,
             "#f0f921"
            ]
           ],
           "sequentialminus": [
            [
             0,
             "#0d0887"
            ],
            [
             0.1111111111111111,
             "#46039f"
            ],
            [
             0.2222222222222222,
             "#7201a8"
            ],
            [
             0.3333333333333333,
             "#9c179e"
            ],
            [
             0.4444444444444444,
             "#bd3786"
            ],
            [
             0.5555555555555556,
             "#d8576b"
            ],
            [
             0.6666666666666666,
             "#ed7953"
            ],
            [
             0.7777777777777778,
             "#fb9f3a"
            ],
            [
             0.8888888888888888,
             "#fdca26"
            ],
            [
             1,
             "#f0f921"
            ]
           ]
          },
          "colorway": [
           "#636efa",
           "#EF553B",
           "#00cc96",
           "#ab63fa",
           "#FFA15A",
           "#19d3f3",
           "#FF6692",
           "#B6E880",
           "#FF97FF",
           "#FECB52"
          ],
          "font": {
           "color": "#2a3f5f"
          },
          "geo": {
           "bgcolor": "white",
           "lakecolor": "white",
           "landcolor": "#E5ECF6",
           "showlakes": true,
           "showland": true,
           "subunitcolor": "white"
          },
          "hoverlabel": {
           "align": "left"
          },
          "hovermode": "closest",
          "mapbox": {
           "style": "light"
          },
          "paper_bgcolor": "white",
          "plot_bgcolor": "#E5ECF6",
          "polar": {
           "angularaxis": {
            "gridcolor": "white",
            "linecolor": "white",
            "ticks": ""
           },
           "bgcolor": "#E5ECF6",
           "radialaxis": {
            "gridcolor": "white",
            "linecolor": "white",
            "ticks": ""
           }
          },
          "scene": {
           "xaxis": {
            "backgroundcolor": "#E5ECF6",
            "gridcolor": "white",
            "gridwidth": 2,
            "linecolor": "white",
            "showbackground": true,
            "ticks": "",
            "zerolinecolor": "white"
           },
           "yaxis": {
            "backgroundcolor": "#E5ECF6",
            "gridcolor": "white",
            "gridwidth": 2,
            "linecolor": "white",
            "showbackground": true,
            "ticks": "",
            "zerolinecolor": "white"
           },
           "zaxis": {
            "backgroundcolor": "#E5ECF6",
            "gridcolor": "white",
            "gridwidth": 2,
            "linecolor": "white",
            "showbackground": true,
            "ticks": "",
            "zerolinecolor": "white"
           }
          },
          "shapedefaults": {
           "line": {
            "color": "#2a3f5f"
           }
          },
          "ternary": {
           "aaxis": {
            "gridcolor": "white",
            "linecolor": "white",
            "ticks": ""
           },
           "baxis": {
            "gridcolor": "white",
            "linecolor": "white",
            "ticks": ""
           },
           "bgcolor": "#E5ECF6",
           "caxis": {
            "gridcolor": "white",
            "linecolor": "white",
            "ticks": ""
           }
          },
          "title": {
           "x": 0.05
          },
          "xaxis": {
           "automargin": true,
           "gridcolor": "white",
           "linecolor": "white",
           "ticks": "",
           "title": {
            "standoff": 15
           },
           "zerolinecolor": "white",
           "zerolinewidth": 2
          },
          "yaxis": {
           "automargin": true,
           "gridcolor": "white",
           "linecolor": "white",
           "ticks": "",
           "title": {
            "standoff": 15
           },
           "zerolinecolor": "white",
           "zerolinewidth": 2
          }
         }
        },
        "title": {
         "text": "Fruit Juice Drinks without Apple"
        }
       }
      }
     },
     "metadata": {},
     "output_type": "display_data"
    }
   ],
   "source": [
    "from neo4j import GraphDatabase\n",
    "import plotly.graph_objects as go\n",
    "\n",
    "\n",
    "query = \"\"\"\n",
    "MATCH (p:Product)-[:COMMUNITY_TO]->(c:Community {name: \"Noodles\"})\n",
    "WHERE NOT EXISTS {\n",
    "  MATCH (p)-[:HAS_RECIPE]->(:Recipe)-[:USES_INGREDIENT]->(:Ingredient)-[:HAS_RESEARCH]->(r:IngredientResearch)\n",
    "  WHERE toLower(r.ingredient_name) CONTAINS 'soy'\n",
    "}\n",
    "AND NOT EXISTS {\n",
    "  MATCH (p)-[:HAS_RECIPE]->(:Recipe)-[:USES_INGREDIENT]->(:Ingredient)-[:HAS_RESEARCH]->(r:IngredientResearch)\n",
    "  WHERE toLower(r.ingredient_name) CONTAINS 'spicies'\n",
    "}\n",
    "WITH COLLECT(p) AS products\n",
    "\n",
    "UNWIND products AS p\n",
    "MATCH (p)-[:HAS_RECIPE]->(r:Recipe)-->(i:Ingredient)-[:HAS_RESEARCH]->(res:IngredientResearch)\n",
    "RETURN p.name AS product, COLLECT(res.ingredient_name) AS ingredients\n",
    "\"\"\"\n",
    "\n",
    "\n",
    "\n",
    "# Execute queries and process results\n",
    "with driver.session() as session:\n",
    "    results = session.run(query)\n",
    "    data = [record.data() for record in results]\n",
    "\n",
    "# Extract product names and ingredient lists\n",
    "products = [result['product'] for result in data]\n",
    "ingredients = [', '.join(result['ingredients']) for result in data]\n",
    "\n",
    "# Create a list diagram\n",
    "fig = go.Figure(data=[go.Table(\n",
    "    header=dict(values=[\"Product\", \"Ingredients\"]),\n",
    "    cells=dict(values=[products, ingredients])\n",
    ")])\n",
    "\n",
    "# Setting up the chart layout\n",
    "fig.update_layout(\n",
    "    title=\"Fruit Juice Drinks without Apple\",\n",
    "    height=400\n",
    ")\n",
    "\n",
    "# show chart\n",
    "fig.show()"
   ]
  },
  {
   "cell_type": "code",
   "execution_count": 38,
   "metadata": {},
   "outputs": [
    {
     "data": {
      "application/vnd.plotly.v1+json": {
       "config": {
        "plotlyServerURL": "https://plot.ly"
       },
       "data": [
        {
         "cells": {
          "values": [
           [
            "Gluten"
           ],
           [
            "Wheat Flour, Seasoning Powder, Maltodextrin, Flavours Wheat, Gluten Wheat, Caramel Color, Biscuit, Barley Malt Extract, Durum Wheat Semolina, Wheat Cornflour"
           ],
           [
            "Indomie Mi Goreng Instant Noodles, Maggi 2 Minute Chicken Flavour Instant Noodles, Supreme Noodles Cup Chicken Flavour, Fantastic Chicken Noodle Cup, Fantastic Chicken Noodle Bowl, Indomie Mi Goreng Noodle Cup, Maggi 2 Minute Beef Flavour Instant Noodles, Supreme Noodles Cup Beef Flavour, Kitkat 4 Finger Milk Chocolate Bar, Kitkat Chunky Original Chocolate Bar, Cadbury Chomp Chocolate Bar, Arnott's Premier Chocolate Chip Cookies, Woolworths Chocolate Chip Cookies, Woolworths The King Of Chunky Chocolate Chip Cookies, Arnott's Mini Choc Chip Cookie Multipack Biscuits, Oreo Original Mini Cookies Multipack, Oreo Minis Cookies Variety Bags 18 Pack, Cadbury Classic Choc Chip Cookies, Cadbury Choc Centre Cookies, Byron Bay Cookies Dotty Cookie Bites, Oreo Original Cookies, Oreo Double Stuff Cookies, Oreo Original Cookies Family Pack, Oreo Chocolate Cookies, Oreo Grab & Go Original Cookies 9 Pack, Oreo Neapolitan Double Stuff Cookies, Smith's Crinkle Cut Potato Chips Cheese & Onion, Smith's Crinkle Cut Potato Chips Barbecue, Smith's Crinkle Cut Potato Chips Chicken, Twix Milk Chocolate Bar With Caramel Biscuit, Mars Chocolate Bar With Nougat & Caramel, Woolworths Lasagne Sheets, Masterfoods Barbecue Sauce"
           ]
          ]
         },
         "header": {
          "values": [
           "Allergen",
           "Ingredient Research",
           "Products"
          ]
         },
         "type": "table"
        }
       ],
       "layout": {
        "height": 400,
        "template": {
         "data": {
          "bar": [
           {
            "error_x": {
             "color": "#2a3f5f"
            },
            "error_y": {
             "color": "#2a3f5f"
            },
            "marker": {
             "line": {
              "color": "#E5ECF6",
              "width": 0.5
             },
             "pattern": {
              "fillmode": "overlay",
              "size": 10,
              "solidity": 0.2
             }
            },
            "type": "bar"
           }
          ],
          "barpolar": [
           {
            "marker": {
             "line": {
              "color": "#E5ECF6",
              "width": 0.5
             },
             "pattern": {
              "fillmode": "overlay",
              "size": 10,
              "solidity": 0.2
             }
            },
            "type": "barpolar"
           }
          ],
          "carpet": [
           {
            "aaxis": {
             "endlinecolor": "#2a3f5f",
             "gridcolor": "white",
             "linecolor": "white",
             "minorgridcolor": "white",
             "startlinecolor": "#2a3f5f"
            },
            "baxis": {
             "endlinecolor": "#2a3f5f",
             "gridcolor": "white",
             "linecolor": "white",
             "minorgridcolor": "white",
             "startlinecolor": "#2a3f5f"
            },
            "type": "carpet"
           }
          ],
          "choropleth": [
           {
            "colorbar": {
             "outlinewidth": 0,
             "ticks": ""
            },
            "type": "choropleth"
           }
          ],
          "contour": [
           {
            "colorbar": {
             "outlinewidth": 0,
             "ticks": ""
            },
            "colorscale": [
             [
              0,
              "#0d0887"
             ],
             [
              0.1111111111111111,
              "#46039f"
             ],
             [
              0.2222222222222222,
              "#7201a8"
             ],
             [
              0.3333333333333333,
              "#9c179e"
             ],
             [
              0.4444444444444444,
              "#bd3786"
             ],
             [
              0.5555555555555556,
              "#d8576b"
             ],
             [
              0.6666666666666666,
              "#ed7953"
             ],
             [
              0.7777777777777778,
              "#fb9f3a"
             ],
             [
              0.8888888888888888,
              "#fdca26"
             ],
             [
              1,
              "#f0f921"
             ]
            ],
            "type": "contour"
           }
          ],
          "contourcarpet": [
           {
            "colorbar": {
             "outlinewidth": 0,
             "ticks": ""
            },
            "type": "contourcarpet"
           }
          ],
          "heatmap": [
           {
            "colorbar": {
             "outlinewidth": 0,
             "ticks": ""
            },
            "colorscale": [
             [
              0,
              "#0d0887"
             ],
             [
              0.1111111111111111,
              "#46039f"
             ],
             [
              0.2222222222222222,
              "#7201a8"
             ],
             [
              0.3333333333333333,
              "#9c179e"
             ],
             [
              0.4444444444444444,
              "#bd3786"
             ],
             [
              0.5555555555555556,
              "#d8576b"
             ],
             [
              0.6666666666666666,
              "#ed7953"
             ],
             [
              0.7777777777777778,
              "#fb9f3a"
             ],
             [
              0.8888888888888888,
              "#fdca26"
             ],
             [
              1,
              "#f0f921"
             ]
            ],
            "type": "heatmap"
           }
          ],
          "heatmapgl": [
           {
            "colorbar": {
             "outlinewidth": 0,
             "ticks": ""
            },
            "colorscale": [
             [
              0,
              "#0d0887"
             ],
             [
              0.1111111111111111,
              "#46039f"
             ],
             [
              0.2222222222222222,
              "#7201a8"
             ],
             [
              0.3333333333333333,
              "#9c179e"
             ],
             [
              0.4444444444444444,
              "#bd3786"
             ],
             [
              0.5555555555555556,
              "#d8576b"
             ],
             [
              0.6666666666666666,
              "#ed7953"
             ],
             [
              0.7777777777777778,
              "#fb9f3a"
             ],
             [
              0.8888888888888888,
              "#fdca26"
             ],
             [
              1,
              "#f0f921"
             ]
            ],
            "type": "heatmapgl"
           }
          ],
          "histogram": [
           {
            "marker": {
             "pattern": {
              "fillmode": "overlay",
              "size": 10,
              "solidity": 0.2
             }
            },
            "type": "histogram"
           }
          ],
          "histogram2d": [
           {
            "colorbar": {
             "outlinewidth": 0,
             "ticks": ""
            },
            "colorscale": [
             [
              0,
              "#0d0887"
             ],
             [
              0.1111111111111111,
              "#46039f"
             ],
             [
              0.2222222222222222,
              "#7201a8"
             ],
             [
              0.3333333333333333,
              "#9c179e"
             ],
             [
              0.4444444444444444,
              "#bd3786"
             ],
             [
              0.5555555555555556,
              "#d8576b"
             ],
             [
              0.6666666666666666,
              "#ed7953"
             ],
             [
              0.7777777777777778,
              "#fb9f3a"
             ],
             [
              0.8888888888888888,
              "#fdca26"
             ],
             [
              1,
              "#f0f921"
             ]
            ],
            "type": "histogram2d"
           }
          ],
          "histogram2dcontour": [
           {
            "colorbar": {
             "outlinewidth": 0,
             "ticks": ""
            },
            "colorscale": [
             [
              0,
              "#0d0887"
             ],
             [
              0.1111111111111111,
              "#46039f"
             ],
             [
              0.2222222222222222,
              "#7201a8"
             ],
             [
              0.3333333333333333,
              "#9c179e"
             ],
             [
              0.4444444444444444,
              "#bd3786"
             ],
             [
              0.5555555555555556,
              "#d8576b"
             ],
             [
              0.6666666666666666,
              "#ed7953"
             ],
             [
              0.7777777777777778,
              "#fb9f3a"
             ],
             [
              0.8888888888888888,
              "#fdca26"
             ],
             [
              1,
              "#f0f921"
             ]
            ],
            "type": "histogram2dcontour"
           }
          ],
          "mesh3d": [
           {
            "colorbar": {
             "outlinewidth": 0,
             "ticks": ""
            },
            "type": "mesh3d"
           }
          ],
          "parcoords": [
           {
            "line": {
             "colorbar": {
              "outlinewidth": 0,
              "ticks": ""
             }
            },
            "type": "parcoords"
           }
          ],
          "pie": [
           {
            "automargin": true,
            "type": "pie"
           }
          ],
          "scatter": [
           {
            "fillpattern": {
             "fillmode": "overlay",
             "size": 10,
             "solidity": 0.2
            },
            "type": "scatter"
           }
          ],
          "scatter3d": [
           {
            "line": {
             "colorbar": {
              "outlinewidth": 0,
              "ticks": ""
             }
            },
            "marker": {
             "colorbar": {
              "outlinewidth": 0,
              "ticks": ""
             }
            },
            "type": "scatter3d"
           }
          ],
          "scattercarpet": [
           {
            "marker": {
             "colorbar": {
              "outlinewidth": 0,
              "ticks": ""
             }
            },
            "type": "scattercarpet"
           }
          ],
          "scattergeo": [
           {
            "marker": {
             "colorbar": {
              "outlinewidth": 0,
              "ticks": ""
             }
            },
            "type": "scattergeo"
           }
          ],
          "scattergl": [
           {
            "marker": {
             "colorbar": {
              "outlinewidth": 0,
              "ticks": ""
             }
            },
            "type": "scattergl"
           }
          ],
          "scattermapbox": [
           {
            "marker": {
             "colorbar": {
              "outlinewidth": 0,
              "ticks": ""
             }
            },
            "type": "scattermapbox"
           }
          ],
          "scatterpolar": [
           {
            "marker": {
             "colorbar": {
              "outlinewidth": 0,
              "ticks": ""
             }
            },
            "type": "scatterpolar"
           }
          ],
          "scatterpolargl": [
           {
            "marker": {
             "colorbar": {
              "outlinewidth": 0,
              "ticks": ""
             }
            },
            "type": "scatterpolargl"
           }
          ],
          "scatterternary": [
           {
            "marker": {
             "colorbar": {
              "outlinewidth": 0,
              "ticks": ""
             }
            },
            "type": "scatterternary"
           }
          ],
          "surface": [
           {
            "colorbar": {
             "outlinewidth": 0,
             "ticks": ""
            },
            "colorscale": [
             [
              0,
              "#0d0887"
             ],
             [
              0.1111111111111111,
              "#46039f"
             ],
             [
              0.2222222222222222,
              "#7201a8"
             ],
             [
              0.3333333333333333,
              "#9c179e"
             ],
             [
              0.4444444444444444,
              "#bd3786"
             ],
             [
              0.5555555555555556,
              "#d8576b"
             ],
             [
              0.6666666666666666,
              "#ed7953"
             ],
             [
              0.7777777777777778,
              "#fb9f3a"
             ],
             [
              0.8888888888888888,
              "#fdca26"
             ],
             [
              1,
              "#f0f921"
             ]
            ],
            "type": "surface"
           }
          ],
          "table": [
           {
            "cells": {
             "fill": {
              "color": "#EBF0F8"
             },
             "line": {
              "color": "white"
             }
            },
            "header": {
             "fill": {
              "color": "#C8D4E3"
             },
             "line": {
              "color": "white"
             }
            },
            "type": "table"
           }
          ]
         },
         "layout": {
          "annotationdefaults": {
           "arrowcolor": "#2a3f5f",
           "arrowhead": 0,
           "arrowwidth": 1
          },
          "autotypenumbers": "strict",
          "coloraxis": {
           "colorbar": {
            "outlinewidth": 0,
            "ticks": ""
           }
          },
          "colorscale": {
           "diverging": [
            [
             0,
             "#8e0152"
            ],
            [
             0.1,
             "#c51b7d"
            ],
            [
             0.2,
             "#de77ae"
            ],
            [
             0.3,
             "#f1b6da"
            ],
            [
             0.4,
             "#fde0ef"
            ],
            [
             0.5,
             "#f7f7f7"
            ],
            [
             0.6,
             "#e6f5d0"
            ],
            [
             0.7,
             "#b8e186"
            ],
            [
             0.8,
             "#7fbc41"
            ],
            [
             0.9,
             "#4d9221"
            ],
            [
             1,
             "#276419"
            ]
           ],
           "sequential": [
            [
             0,
             "#0d0887"
            ],
            [
             0.1111111111111111,
             "#46039f"
            ],
            [
             0.2222222222222222,
             "#7201a8"
            ],
            [
             0.3333333333333333,
             "#9c179e"
            ],
            [
             0.4444444444444444,
             "#bd3786"
            ],
            [
             0.5555555555555556,
             "#d8576b"
            ],
            [
             0.6666666666666666,
             "#ed7953"
            ],
            [
             0.7777777777777778,
             "#fb9f3a"
            ],
            [
             0.8888888888888888,
             "#fdca26"
            ],
            [
             1,
             "#f0f921"
            ]
           ],
           "sequentialminus": [
            [
             0,
             "#0d0887"
            ],
            [
             0.1111111111111111,
             "#46039f"
            ],
            [
             0.2222222222222222,
             "#7201a8"
            ],
            [
             0.3333333333333333,
             "#9c179e"
            ],
            [
             0.4444444444444444,
             "#bd3786"
            ],
            [
             0.5555555555555556,
             "#d8576b"
            ],
            [
             0.6666666666666666,
             "#ed7953"
            ],
            [
             0.7777777777777778,
             "#fb9f3a"
            ],
            [
             0.8888888888888888,
             "#fdca26"
            ],
            [
             1,
             "#f0f921"
            ]
           ]
          },
          "colorway": [
           "#636efa",
           "#EF553B",
           "#00cc96",
           "#ab63fa",
           "#FFA15A",
           "#19d3f3",
           "#FF6692",
           "#B6E880",
           "#FF97FF",
           "#FECB52"
          ],
          "font": {
           "color": "#2a3f5f"
          },
          "geo": {
           "bgcolor": "white",
           "lakecolor": "white",
           "landcolor": "#E5ECF6",
           "showlakes": true,
           "showland": true,
           "subunitcolor": "white"
          },
          "hoverlabel": {
           "align": "left"
          },
          "hovermode": "closest",
          "mapbox": {
           "style": "light"
          },
          "paper_bgcolor": "white",
          "plot_bgcolor": "#E5ECF6",
          "polar": {
           "angularaxis": {
            "gridcolor": "white",
            "linecolor": "white",
            "ticks": ""
           },
           "bgcolor": "#E5ECF6",
           "radialaxis": {
            "gridcolor": "white",
            "linecolor": "white",
            "ticks": ""
           }
          },
          "scene": {
           "xaxis": {
            "backgroundcolor": "#E5ECF6",
            "gridcolor": "white",
            "gridwidth": 2,
            "linecolor": "white",
            "showbackground": true,
            "ticks": "",
            "zerolinecolor": "white"
           },
           "yaxis": {
            "backgroundcolor": "#E5ECF6",
            "gridcolor": "white",
            "gridwidth": 2,
            "linecolor": "white",
            "showbackground": true,
            "ticks": "",
            "zerolinecolor": "white"
           },
           "zaxis": {
            "backgroundcolor": "#E5ECF6",
            "gridcolor": "white",
            "gridwidth": 2,
            "linecolor": "white",
            "showbackground": true,
            "ticks": "",
            "zerolinecolor": "white"
           }
          },
          "shapedefaults": {
           "line": {
            "color": "#2a3f5f"
           }
          },
          "ternary": {
           "aaxis": {
            "gridcolor": "white",
            "linecolor": "white",
            "ticks": ""
           },
           "baxis": {
            "gridcolor": "white",
            "linecolor": "white",
            "ticks": ""
           },
           "bgcolor": "#E5ECF6",
           "caxis": {
            "gridcolor": "white",
            "linecolor": "white",
            "ticks": ""
           }
          },
          "title": {
           "x": 0.05
          },
          "xaxis": {
           "automargin": true,
           "gridcolor": "white",
           "linecolor": "white",
           "ticks": "",
           "title": {
            "standoff": 15
           },
           "zerolinecolor": "white",
           "zerolinewidth": 2
          },
          "yaxis": {
           "automargin": true,
           "gridcolor": "white",
           "linecolor": "white",
           "ticks": "",
           "title": {
            "standoff": 15
           },
           "zerolinecolor": "white",
           "zerolinewidth": 2
          }
         }
        },
        "title": {
         "text": "Gluten Allergen Information"
        }
       }
      }
     },
     "metadata": {},
     "output_type": "display_data"
    }
   ],
   "source": [
    "from neo4j import GraphDatabase\n",
    "import plotly.graph_objects as go\n",
    "\n",
    "\n",
    "query = \"\"\"\n",
    "MATCH (a:Allergen)\n",
    "WHERE toLower(a.name) = 'gluten'\n",
    "WITH a\n",
    "MATCH (a)<-[:HAS_ALLERGEN]-(res:IngredientResearch)<-[:HAS_RESEARCH]-(i:Ingredient)<-[:USES_INGREDIENT]-(r:Recipe)<-[:HAS_RECIPE]-(p:Product)\n",
    "RETURN a.name AS allergen, COLLECT(DISTINCT res.ingredient_name) AS ingredientresearch, COLLECT(DISTINCT p.name) AS products\n",
    "\"\"\"\n",
    "\n",
    "with driver.session() as session:\n",
    "    results = session.run(query)\n",
    "    data = [record.data() for record in results]\n",
    "\n",
    "allergens = [result['allergen'] for result in data]\n",
    "ingredient_research = [', '.join(result['ingredientresearch']) for result in data]\n",
    "products = [', '.join(result['products']) for result in data]\n",
    "\n",
    "fig = go.Figure(data=[go.Table(\n",
    "    header=dict(values=[\"Allergen\", \"Ingredient Research\", \"Products\"]),\n",
    "    cells=dict(values=[allergens, ingredient_research, products])\n",
    ")])\n",
    "\n",
    "fig.update_layout(\n",
    "    title=\"Gluten Allergen Information\",\n",
    "    height=400\n",
    ")\n",
    "\n",
    "fig.show()"
   ]
  },
  {
   "cell_type": "code",
   "execution_count": 5,
   "metadata": {},
   "outputs": [
    {
     "ename": "CypherSyntaxError",
     "evalue": "{code: Neo.ClientError.Statement.SyntaxError} {message: Invalid input 'MATCH': expected \"(\", \"ALL\", \"ANY\" or \"SHORTEST\" (line 5, column 7 (offset: 66))\n\"MATCH MATCH (p:Product)-[:HAS_RECIPE]->(:Recipe)-[:USES_INGREDIENT]->(:Ingredient)-[:HAS_RESEARCH]->(:IngredientResearch)-[:has_ingredients]->(:IngredientSource)-[:SOURCED_FROM]->(t3:T3IngredientResearch)-[:HAS_ALLERGEN_INFO]->(a)\"\n       ^}",
     "output_type": "error",
     "traceback": [
      "\u001b[1;31m---------------------------------------------------------------------------\u001b[0m",
      "\u001b[1;31mCypherSyntaxError\u001b[0m                         Traceback (most recent call last)",
      "Cell \u001b[1;32mIn[5], line 14\u001b[0m\n\u001b[0;32m      5\u001b[0m query \u001b[38;5;241m=\u001b[39m \u001b[38;5;124m\"\"\"\u001b[39m\n\u001b[0;32m      6\u001b[0m \u001b[38;5;124mMATCH (a:Allergen)\u001b[39m\n\u001b[0;32m      7\u001b[0m \u001b[38;5;124mWHERE toLower(a.name) = \u001b[39m\u001b[38;5;124m'\u001b[39m\u001b[38;5;124mgluten\u001b[39m\u001b[38;5;124m'\u001b[39m\n\u001b[1;32m   (...)\u001b[0m\n\u001b[0;32m     10\u001b[0m \u001b[38;5;124mRETURN a.name AS allergen, COLLECT(DISTINCT p.name) AS products\u001b[39m\n\u001b[0;32m     11\u001b[0m \u001b[38;5;124m\"\"\"\u001b[39m\n\u001b[0;32m     13\u001b[0m \u001b[38;5;28;01mwith\u001b[39;00m driver\u001b[38;5;241m.\u001b[39msession() \u001b[38;5;28;01mas\u001b[39;00m session:\n\u001b[1;32m---> 14\u001b[0m     results \u001b[38;5;241m=\u001b[39m \u001b[43msession\u001b[49m\u001b[38;5;241;43m.\u001b[39;49m\u001b[43mrun\u001b[49m\u001b[43m(\u001b[49m\u001b[43mquery\u001b[49m\u001b[43m)\u001b[49m\n\u001b[0;32m     15\u001b[0m     data \u001b[38;5;241m=\u001b[39m [record\u001b[38;5;241m.\u001b[39mdata() \u001b[38;5;28;01mfor\u001b[39;00m record \u001b[38;5;129;01min\u001b[39;00m results]\n\u001b[0;32m     17\u001b[0m allergens \u001b[38;5;241m=\u001b[39m [result[\u001b[38;5;124m'\u001b[39m\u001b[38;5;124mallergen\u001b[39m\u001b[38;5;124m'\u001b[39m] \u001b[38;5;28;01mfor\u001b[39;00m result \u001b[38;5;129;01min\u001b[39;00m data]\n",
      "File \u001b[1;32mc:\\Users\\apple\\anaconda3\\lib\\site-packages\\neo4j\\_sync\\work\\session.py:313\u001b[0m, in \u001b[0;36mSession.run\u001b[1;34m(self, query, parameters, **kwargs)\u001b[0m\n\u001b[0;32m    311\u001b[0m bookmarks \u001b[38;5;241m=\u001b[39m \u001b[38;5;28mself\u001b[39m\u001b[38;5;241m.\u001b[39m_get_bookmarks()\n\u001b[0;32m    312\u001b[0m parameters \u001b[38;5;241m=\u001b[39m \u001b[38;5;28mdict\u001b[39m(parameters \u001b[38;5;129;01mor\u001b[39;00m {}, \u001b[38;5;241m*\u001b[39m\u001b[38;5;241m*\u001b[39mkwargs)\n\u001b[1;32m--> 313\u001b[0m \u001b[38;5;28;43mself\u001b[39;49m\u001b[38;5;241;43m.\u001b[39;49m\u001b[43m_auto_result\u001b[49m\u001b[38;5;241;43m.\u001b[39;49m\u001b[43m_run\u001b[49m\u001b[43m(\u001b[49m\n\u001b[0;32m    314\u001b[0m \u001b[43m    \u001b[49m\u001b[43mquery\u001b[49m\u001b[43m,\u001b[49m\u001b[43m \u001b[49m\u001b[43mparameters\u001b[49m\u001b[43m,\u001b[49m\u001b[43m \u001b[49m\u001b[38;5;28;43mself\u001b[39;49m\u001b[38;5;241;43m.\u001b[39;49m\u001b[43m_config\u001b[49m\u001b[38;5;241;43m.\u001b[39;49m\u001b[43mdatabase\u001b[49m\u001b[43m,\u001b[49m\n\u001b[0;32m    315\u001b[0m \u001b[43m    \u001b[49m\u001b[38;5;28;43mself\u001b[39;49m\u001b[38;5;241;43m.\u001b[39;49m\u001b[43m_config\u001b[49m\u001b[38;5;241;43m.\u001b[39;49m\u001b[43mimpersonated_user\u001b[49m\u001b[43m,\u001b[49m\u001b[43m \u001b[49m\u001b[38;5;28;43mself\u001b[39;49m\u001b[38;5;241;43m.\u001b[39;49m\u001b[43m_config\u001b[49m\u001b[38;5;241;43m.\u001b[39;49m\u001b[43mdefault_access_mode\u001b[49m\u001b[43m,\u001b[49m\n\u001b[0;32m    316\u001b[0m \u001b[43m    \u001b[49m\u001b[43mbookmarks\u001b[49m\u001b[43m,\u001b[49m\u001b[43m \u001b[49m\u001b[38;5;28;43mself\u001b[39;49m\u001b[38;5;241;43m.\u001b[39;49m\u001b[43m_config\u001b[49m\u001b[38;5;241;43m.\u001b[39;49m\u001b[43mnotifications_min_severity\u001b[49m\u001b[43m,\u001b[49m\n\u001b[0;32m    317\u001b[0m \u001b[43m    \u001b[49m\u001b[38;5;28;43mself\u001b[39;49m\u001b[38;5;241;43m.\u001b[39;49m\u001b[43m_config\u001b[49m\u001b[38;5;241;43m.\u001b[39;49m\u001b[43mnotifications_disabled_categories\u001b[49m\u001b[43m,\u001b[49m\n\u001b[0;32m    318\u001b[0m \u001b[43m\u001b[49m\u001b[43m)\u001b[49m\n\u001b[0;32m    320\u001b[0m \u001b[38;5;28;01mreturn\u001b[39;00m \u001b[38;5;28mself\u001b[39m\u001b[38;5;241m.\u001b[39m_auto_result\n",
      "File \u001b[1;32mc:\\Users\\apple\\anaconda3\\lib\\site-packages\\neo4j\\_sync\\work\\result.py:181\u001b[0m, in \u001b[0;36mResult._run\u001b[1;34m(self, query, parameters, db, imp_user, access_mode, bookmarks, notifications_min_severity, notifications_disabled_categories)\u001b[0m\n\u001b[0;32m    179\u001b[0m \u001b[38;5;28mself\u001b[39m\u001b[38;5;241m.\u001b[39m_pull()\n\u001b[0;32m    180\u001b[0m \u001b[38;5;28mself\u001b[39m\u001b[38;5;241m.\u001b[39m_connection\u001b[38;5;241m.\u001b[39msend_all()\n\u001b[1;32m--> 181\u001b[0m \u001b[38;5;28;43mself\u001b[39;49m\u001b[38;5;241;43m.\u001b[39;49m\u001b[43m_attach\u001b[49m\u001b[43m(\u001b[49m\u001b[43m)\u001b[49m\n",
      "File \u001b[1;32mc:\\Users\\apple\\anaconda3\\lib\\site-packages\\neo4j\\_sync\\work\\result.py:301\u001b[0m, in \u001b[0;36mResult._attach\u001b[1;34m(self)\u001b[0m\n\u001b[0;32m    299\u001b[0m \u001b[38;5;28;01mif\u001b[39;00m \u001b[38;5;28mself\u001b[39m\u001b[38;5;241m.\u001b[39m_exhausted \u001b[38;5;129;01mis\u001b[39;00m \u001b[38;5;28;01mFalse\u001b[39;00m:\n\u001b[0;32m    300\u001b[0m     \u001b[38;5;28;01mwhile\u001b[39;00m \u001b[38;5;28mself\u001b[39m\u001b[38;5;241m.\u001b[39m_attached \u001b[38;5;129;01mis\u001b[39;00m \u001b[38;5;28;01mFalse\u001b[39;00m:\n\u001b[1;32m--> 301\u001b[0m         \u001b[38;5;28;43mself\u001b[39;49m\u001b[38;5;241;43m.\u001b[39;49m\u001b[43m_connection\u001b[49m\u001b[38;5;241;43m.\u001b[39;49m\u001b[43mfetch_message\u001b[49m\u001b[43m(\u001b[49m\u001b[43m)\u001b[49m\n",
      "File \u001b[1;32mc:\\Users\\apple\\anaconda3\\lib\\site-packages\\neo4j\\_sync\\io\\_common.py:178\u001b[0m, in \u001b[0;36mConnectionErrorHandler.__getattr__.<locals>.outer.<locals>.inner\u001b[1;34m(*args, **kwargs)\u001b[0m\n\u001b[0;32m    176\u001b[0m \u001b[38;5;28;01mdef\u001b[39;00m \u001b[38;5;21minner\u001b[39m(\u001b[38;5;241m*\u001b[39margs, \u001b[38;5;241m*\u001b[39m\u001b[38;5;241m*\u001b[39mkwargs):\n\u001b[0;32m    177\u001b[0m     \u001b[38;5;28;01mtry\u001b[39;00m:\n\u001b[1;32m--> 178\u001b[0m         func(\u001b[38;5;241m*\u001b[39margs, \u001b[38;5;241m*\u001b[39m\u001b[38;5;241m*\u001b[39mkwargs)\n\u001b[0;32m    179\u001b[0m     \u001b[38;5;28;01mexcept\u001b[39;00m (Neo4jError, ServiceUnavailable, SessionExpired) \u001b[38;5;28;01mas\u001b[39;00m exc:\n\u001b[0;32m    180\u001b[0m         \u001b[38;5;28;01massert\u001b[39;00m \u001b[38;5;129;01mnot\u001b[39;00m asyncio\u001b[38;5;241m.\u001b[39miscoroutinefunction(\u001b[38;5;28mself\u001b[39m\u001b[38;5;241m.\u001b[39m__on_error)\n",
      "File \u001b[1;32mc:\\Users\\apple\\anaconda3\\lib\\site-packages\\neo4j\\_sync\\io\\_bolt.py:849\u001b[0m, in \u001b[0;36mBolt.fetch_message\u001b[1;34m(self)\u001b[0m\n\u001b[0;32m    845\u001b[0m \u001b[38;5;66;03m# Receive exactly one message\u001b[39;00m\n\u001b[0;32m    846\u001b[0m tag, fields \u001b[38;5;241m=\u001b[39m \u001b[38;5;28mself\u001b[39m\u001b[38;5;241m.\u001b[39minbox\u001b[38;5;241m.\u001b[39mpop(\n\u001b[0;32m    847\u001b[0m     hydration_hooks\u001b[38;5;241m=\u001b[39m\u001b[38;5;28mself\u001b[39m\u001b[38;5;241m.\u001b[39mresponses[\u001b[38;5;241m0\u001b[39m]\u001b[38;5;241m.\u001b[39mhydration_hooks\n\u001b[0;32m    848\u001b[0m )\n\u001b[1;32m--> 849\u001b[0m res \u001b[38;5;241m=\u001b[39m \u001b[38;5;28;43mself\u001b[39;49m\u001b[38;5;241;43m.\u001b[39;49m\u001b[43m_process_message\u001b[49m\u001b[43m(\u001b[49m\u001b[43mtag\u001b[49m\u001b[43m,\u001b[49m\u001b[43m \u001b[49m\u001b[43mfields\u001b[49m\u001b[43m)\u001b[49m\n\u001b[0;32m    850\u001b[0m \u001b[38;5;28mself\u001b[39m\u001b[38;5;241m.\u001b[39midle_since \u001b[38;5;241m=\u001b[39m monotonic()\n\u001b[0;32m    851\u001b[0m \u001b[38;5;28;01mreturn\u001b[39;00m res\n",
      "File \u001b[1;32mc:\\Users\\apple\\anaconda3\\lib\\site-packages\\neo4j\\_sync\\io\\_bolt5.py:369\u001b[0m, in \u001b[0;36mBolt5x0._process_message\u001b[1;34m(self, tag, fields)\u001b[0m\n\u001b[0;32m    367\u001b[0m \u001b[38;5;28mself\u001b[39m\u001b[38;5;241m.\u001b[39m_server_state_manager\u001b[38;5;241m.\u001b[39mstate \u001b[38;5;241m=\u001b[39m \u001b[38;5;28mself\u001b[39m\u001b[38;5;241m.\u001b[39mbolt_states\u001b[38;5;241m.\u001b[39mFAILED\n\u001b[0;32m    368\u001b[0m \u001b[38;5;28;01mtry\u001b[39;00m:\n\u001b[1;32m--> 369\u001b[0m     \u001b[43mresponse\u001b[49m\u001b[38;5;241;43m.\u001b[39;49m\u001b[43mon_failure\u001b[49m\u001b[43m(\u001b[49m\u001b[43msummary_metadata\u001b[49m\u001b[43m \u001b[49m\u001b[38;5;129;43;01mor\u001b[39;49;00m\u001b[43m \u001b[49m\u001b[43m{\u001b[49m\u001b[43m}\u001b[49m\u001b[43m)\u001b[49m\n\u001b[0;32m    370\u001b[0m \u001b[38;5;28;01mexcept\u001b[39;00m (ServiceUnavailable, DatabaseUnavailable):\n\u001b[0;32m    371\u001b[0m     \u001b[38;5;28;01mif\u001b[39;00m \u001b[38;5;28mself\u001b[39m\u001b[38;5;241m.\u001b[39mpool:\n",
      "File \u001b[1;32mc:\\Users\\apple\\anaconda3\\lib\\site-packages\\neo4j\\_sync\\io\\_common.py:245\u001b[0m, in \u001b[0;36mResponse.on_failure\u001b[1;34m(self, metadata)\u001b[0m\n\u001b[0;32m    243\u001b[0m handler \u001b[38;5;241m=\u001b[39m \u001b[38;5;28mself\u001b[39m\u001b[38;5;241m.\u001b[39mhandlers\u001b[38;5;241m.\u001b[39mget(\u001b[38;5;124m\"\u001b[39m\u001b[38;5;124mon_summary\u001b[39m\u001b[38;5;124m\"\u001b[39m)\n\u001b[0;32m    244\u001b[0m Util\u001b[38;5;241m.\u001b[39mcallback(handler)\n\u001b[1;32m--> 245\u001b[0m \u001b[38;5;28;01mraise\u001b[39;00m Neo4jError\u001b[38;5;241m.\u001b[39mhydrate(\u001b[38;5;241m*\u001b[39m\u001b[38;5;241m*\u001b[39mmetadata)\n",
      "\u001b[1;31mCypherSyntaxError\u001b[0m: {code: Neo.ClientError.Statement.SyntaxError} {message: Invalid input 'MATCH': expected \"(\", \"ALL\", \"ANY\" or \"SHORTEST\" (line 5, column 7 (offset: 66))\n\"MATCH MATCH (p:Product)-[:HAS_RECIPE]->(:Recipe)-[:USES_INGREDIENT]->(:Ingredient)-[:HAS_RESEARCH]->(:IngredientResearch)-[:has_ingredients]->(:IngredientSource)-[:SOURCED_FROM]->(t3:T3IngredientResearch)-[:HAS_ALLERGEN_INFO]->(a)\"\n       ^}"
     ]
    }
   ],
   "source": [
    "from neo4j import GraphDatabase\n",
    "import plotly.graph_objects as go\n",
    "\n",
    "\n",
    "query = \"\"\"\n",
    "MATCH (a:Allergen)\n",
    "WHERE toLower(a.name) = 'gluten'\n",
    "WITH a\n",
    "MATCH MATCH (p:Product)-[:HAS_RECIPE]->(:Recipe)-[:USES_INGREDIENT]->(:Ingredient)-[:HAS_RESEARCH]->(:IngredientResearch)-[:has_ingredients]->(:IngredientSource)-[:SOURCED_FROM]->(t3:T3IngredientResearch)-[:HAS_ALLERGEN_INFO]->(a)\n",
    "RETURN a.name AS allergen, COLLECT(DISTINCT p.name) AS products\n",
    "\"\"\"\n",
    "\n",
    "with driver.session() as session:\n",
    "    results = session.run(query)\n",
    "    data = [record.data() for record in results]\n",
    "\n",
    "allergens = [result['allergen'] for result in data]\n",
    "ingredient_research = [', '.join(result['ingredientresearch']) for result in data]\n",
    "products = [', '.join(result['products']) for result in data]\n",
    "\n",
    "fig = go.Figure(data=[go.Table(\n",
    "    header=dict(values=[\"Allergen\", \"Ingredient Research\", \"Products\"]),\n",
    "    cells=dict(values=[allergens, ingredient_research, products])\n",
    ")])\n",
    "\n",
    "fig.update_layout(\n",
    "    title=\"Gluten Allergen Information\",\n",
    "    height=400\n",
    ")\n",
    "\n",
    "fig.show()"
   ]
  },
  {
   "cell_type": "code",
   "execution_count": 3,
   "metadata": {},
   "outputs": [
    {
     "name": "stdout",
     "output_type": "stream",
     "text": [
      "Group: Gluten Free\n",
      "Products: Coca - Cola Classic  Soft Drink Multipack Cans, Coca - Cola Classic  Soft Drink Multipack Cans, Coca - Cola Zero Sugar Soft Drink Multipack Cans, Coca - Cola Classic  Soft Drink Multipack Cans, Coca - Cola Zero Sugar Soft Drink Multipack Cans, Coca - Cola Zero Sugar Soft Drink Multipack Cans, Coca - Cola Classic  Soft Drink Mini Cans, Coca - Cola Caffeine Free Zero Sugar Soft Drink Multipack Cans, Coca - Cola Vanilla  Soft Drink Multipack Cans, Coca - Cola Zero Sugar Soft Drink Mini Cans, Indomena Instant Noodles Chicken Flavoured, Schweppes Zero Sugar Lime Infused Mineral Water Bottle, Schweppes Raspberry Infused Natural Mineral Water Bottle, Schweppes Natural Mineral Water Bottle Natural, Schweppes Soda Water Bottle Classic Mixers, Schweppes Indian Tonic Water Classic Mixers Bottle, Schweppes Lime Soda Water With Lime Juice Bottle, Schweppes Zero Sugar Classic Mixers Indian Tonic Water Bottle, Schweppes Lemon Lime Natural Mineral Water Bottle, Schweppes Orange Mango Natural Mineral Water Bottle, Cadbury Dairy Milk Caramello Koala Chocolate, Twix Milk Chocolate Bar With Caramel Biscuit, Mars Chocolate Bar With Nougat & Caramel, Cadbury Dairy Milk Chocolate Roll, Cadbury Dairy Milk Chocolate Bar, Cadbury Twirl Chocolate Bar, Cadbury Curly Wurly Chocolate Bar, Rimmel Scandaleyes Eye Definer Brown, Skin Republic Hyaluronic Acid & Collagen Face Mask, Woolworths Apple Juice, Woolworths Apple & Mango Juice, Woolworths Orange Juice, Woolworths Breakfast Juice, Woolworths Apple & Blackcurrant Juice, Woolworths Multivitamin Juice, Golden Circle Golden Pash Fruit Drink, Golden Circle Drinks Pine Orange Fruit Drink, Golden Circle Drinks Sunshine Punch Fruit Drink, Golden Circle Fruit Drinks Lunch Box Poppers Tropical Punch Multipack, Woolworths Full Cream Milk, Woolworths Full Cream Milk, Dairy Farmers Full Cream Milk Full Cream Milk, Woolworths Full Cream Milk, Norco Full Cream Milk, Dairy Farmers Full Cream Milk Full Cream Milk, A2 Milk Full Cream Milk, Pauls Farmhouse Gold Full Cream Milk, Dairy Farmers Full Cream Milk, A2 Milk Full Cream Milk, Oreo Double Stuff Mint Cookies, Oreo Milk Chocolate Wafer Sticks Biscuits Large Multipack, Woolworths Diced Italian Tomatoes, Woolworths Lasagne Sheets, Essentials Coconut Cream, Woolworths Uht Full Cream Milk, Woolworths Pineapple Slices In Juice, Deep Cove Sardines In Oil, Woolworths Creamed Rice, Woolworths Diced Italian Tomatoes, Essentials Coconut Milk, Woolworths Tomato Sauce Squeeze, Woolworths Barbecue Sauce Squeeze, Masterfoods Tomato Sauce, Woolworths Tomato Sauce, Masterfoods Barbecue Sauce, Fountain Tomato Sauce Squeeze, Fountain Barbecue Bbq Sauce Squeeze, Woolworths Secret Burger Sauce, Heinz Ketchup Tomato Sauce Ketchup, Woolworths Barbecue Sauce, Woolworths Spring Water Bottles, Woolworths Spring Water, Woolworths Spring Water Minis, Nu Pure Still Spring Water, Woolworths Spring Water, Australian Mountain Waters Natural Spring Water, Pureau Pure Water Water, Frantelle Australian Still Spring Water Bottles Multipack, Woolworths Spring Water, Mount Franklin Spring Water Bottle, Smith's Crinkle Cut Potato Chips Original, Smith's Crinkle Cut Potato Chips Cheese & Onion, Smith's Crinkle Cut Potato Chips Barbecue, Smith's Crinkle Cut Potato Chips Chicken, Thins Chips Salt & Vinegar, Smith's Thinly Cut Potato Chips Original Share Pack, Thins Chips Chicken, Smith's Crinkle Cut Potato Chips Salt & Vinegar, Thins Chips Light & Tangy, Thins Cheese & Onion Chips, Woolworths Peach In Strawberry Jelly, Woolworths Two Fruits In Juice Cups, Woolworths Two Fruits In Juice, Woolworths Two Fruits In Tropical Jelly, Woolworths Two Fruits In Juice, Woolworths Apple In Pineapple Jelly, Goulburn Valley Two Fruits In Juice, Dole Pineapple Slices In Syrup, Dole Pineapple Chunks In Juice, Goulburn Valley Two Fruits In Juice Fruit Cups In Juice, Woolworths Red Watermelon Cut Quarter, The Odd Bunch Pear Prepacked, Woolworths Fresh Pink Lady Apples Punnet, Maggi 2 Minute Chicken Flavour Instant Noodles, Maggi 2 Minute Chicken Flavour Instant Noodles, Supreme Noodles Cup Chicken Flavour, Fantastic Chicken Noodle Cup, Fantastic Chicken Noodle Bowl, Maggi 2 Minute Beef Flavour Instant Noodles, Supreme Noodles Cup Beef Flavour, Kitkat 4 Finger Milk Chocolate Bar, Kitkat Chunky Original Chocolate Bar, Cadbury Chomp Chocolate Bar, Arnott's Premier Chocolate Chip Cookies, Woolworths Chocolate Chip Cookies, Woolworths The King Of Chunky Chocolate Chip Cookies, Arnott's Mini Choc Chip Cookie Multipack Biscuits, Oreo Original Mini Cookies Multipack, Oreo Minis Cookies Variety Bags 18 Pack, Cadbury Classic Choc Chip Cookies, Cadbury Choc Centre Cookies, Byron Bay Cookies Dotty Cookie Bites, Oreo Original Cookies, Oreo Double Stuff Cookies, Oreo Original Cookies Family Pack, Oreo Chocolate Cookies, Oreo Grab & Go Original Cookies 9 Pack, Oreo Neapolitan Double Stuff Cookies, Indomie Mi Goreng Instant Noodles, Indomie Mi Goreng Noodle Cup\n"
     ]
    }
   ],
   "source": [
    "from neo4j import GraphDatabase\n",
    "\n",
    "\n",
    "query = \"\"\"\n",
    "MATCH (a:Allergen {name: 'Gluten'})\n",
    "MATCH (p:Product)\n",
    "WHERE NOT EXISTS {\n",
    "  MATCH (p)-[:HAS_RECIPE]->(:Recipe)-[:USES_INGREDIENT]->(:Ingredient)-[:HAS_RESEARCH]->(:IngredientResearch)-[:HAS_ALLERGEN]->(a)\n",
    "}\n",
    "AND NOT EXISTS {\n",
    "  MATCH (p)-[:HAS_RECIPE]->(:Recipe)-[:USES_INGREDIENT]->(:Ingredient)-[:HAS_RESEARCH]->(:IngredientResearch)-[:has_ingredients]->(:IngredientSource)-[:SOURCED_FROM]->(t3:T3IngredientResearch)-[:HAS_ALLERGEN_INFO]->(a)\n",
    "}\n",
    "WITH COLLECT(DISTINCT p) AS products\n",
    "MERGE (gf:GlutenFree {name: 'Gluten Free'})\n",
    "FOREACH (p IN products | MERGE (p)-[:GLUTENFREE_TO]->(gf))\n",
    "RETURN gf.name AS group, [p IN products | p.name] AS products\n",
    "\"\"\"\n",
    "\n",
    "\n",
    "with driver.session() as session:\n",
    "    result = session.run(query)\n",
    "    record = result.single()\n",
    "    group_name = record['group']\n",
    "    product_names = record['products']\n",
    "\n",
    "\n",
    "product_names = [p for p in product_names if p is not None]\n",
    "\n",
    "\n",
    "print(f\"Group: {group_name}\")\n",
    "print(f\"Products: {', '.join(product_names)}\")"
   ]
  },
  {
   "cell_type": "code",
   "execution_count": 13,
   "metadata": {},
   "outputs": [
    {
     "data": {
      "application/vnd.plotly.v1+json": {
       "config": {
        "plotlyServerURL": "https://plot.ly"
       },
       "data": [
        {
         "cells": {
          "values": [
           [
            "Gluten Free"
           ],
           [
            "Coca - Cola Classic  Soft Drink Multipack Cans, Coca - Cola Classic  Soft Drink Multipack Cans, Coca - Cola Zero Sugar Soft Drink Multipack Cans, Coca - Cola Classic  Soft Drink Multipack Cans, Coca - Cola Zero Sugar Soft Drink Multipack Cans, Coca - Cola Zero Sugar Soft Drink Multipack Cans, Coca - Cola Classic  Soft Drink Mini Cans, Coca - Cola Caffeine Free Zero Sugar Soft Drink Multipack Cans, Coca - Cola Vanilla  Soft Drink Multipack Cans, Coca - Cola Zero Sugar Soft Drink Mini Cans, Indomena Instant Noodles Chicken Flavoured, Schweppes Zero Sugar Lime Infused Mineral Water Bottle, Schweppes Raspberry Infused Natural Mineral Water Bottle, Schweppes Natural Mineral Water Bottle Natural, Schweppes Soda Water Bottle Classic Mixers, Schweppes Indian Tonic Water Classic Mixers Bottle, Schweppes Lime Soda Water With Lime Juice Bottle, Schweppes Zero Sugar Classic Mixers Indian Tonic Water Bottle, Schweppes Lemon Lime Natural Mineral Water Bottle, Schweppes Orange Mango Natural Mineral Water Bottle, Cadbury Dairy Milk Caramello Koala Chocolate, Cadbury Dairy Milk Chocolate Roll, Cadbury Dairy Milk Chocolate Bar, Cadbury Twirl Chocolate Bar, Cadbury Curly Wurly Chocolate Bar, Rimmel Scandaleyes Eye Definer Brown, Skin Republic Hyaluronic Acid & Collagen Face Mask, Woolworths Apple Juice, Woolworths Apple & Mango Juice, Woolworths Orange Juice, Woolworths Breakfast Juice, Woolworths Apple & Blackcurrant Juice, Woolworths Multivitamin Juice, Golden Circle Golden Pash Fruit Drink, Golden Circle Drinks Pine Orange Fruit Drink, Golden Circle Drinks Sunshine Punch Fruit Drink, Golden Circle Fruit Drinks Lunch Box Poppers Tropical Punch Multipack, Woolworths Full Cream Milk, Woolworths Full Cream Milk, Dairy Farmers Full Cream Milk Full Cream Milk, Woolworths Full Cream Milk, Norco Full Cream Milk, Dairy Farmers Full Cream Milk Full Cream Milk, A2 Milk Full Cream Milk, Pauls Farmhouse Gold Full Cream Milk, Dairy Farmers Full Cream Milk, A2 Milk Full Cream Milk, Oreo Double Stuff Mint Cookies, Oreo Milk Chocolate Wafer Sticks Biscuits Large Multipack, Woolworths Diced Italian Tomatoes, Essentials Coconut Cream, Woolworths Uht Full Cream Milk, Woolworths Pineapple Slices In Juice, Deep Cove Sardines In Oil, Woolworths Creamed Rice, Woolworths Diced Italian Tomatoes, Essentials Coconut Milk, Woolworths Tomato Sauce Squeeze, Woolworths Barbecue Sauce Squeeze, Masterfoods Tomato Sauce, Woolworths Tomato Sauce, Fountain Tomato Sauce Squeeze, Fountain Barbecue Bbq Sauce Squeeze, Heinz Ketchup Tomato Sauce Ketchup, Woolworths Barbecue Sauce, Woolworths Spring Water Bottles, Woolworths Spring Water, Woolworths Spring Water Minis, Nu Pure Still Spring Water, Woolworths Spring Water, Australian Mountain Waters Natural Spring Water, Pureau Pure Water Water, Frantelle Australian Still Spring Water Bottles Multipack, Woolworths Spring Water, Mount Franklin Spring Water Bottle, Smith's Crinkle Cut Potato Chips Original, Thins Chips Salt & Vinegar, Smith's Thinly Cut Potato Chips Original Share Pack, Thins Chips Chicken, Smith's Crinkle Cut Potato Chips Salt & Vinegar, Thins Chips Light & Tangy, Thins Cheese & Onion Chips, Woolworths Two Fruits In Juice Cups, Woolworths Two Fruits In Juice, Woolworths Two Fruits In Juice, Goulburn Valley Two Fruits In Juice, Dole Pineapple Slices In Syrup, Dole Pineapple Chunks In Juice, Goulburn Valley Two Fruits In Juice Fruit Cups In Juice, Woolworths Red Watermelon Cut Quarter, The Odd Bunch Pear Prepacked, Woolworths Fresh Pink Lady Apples Punnet"
           ]
          ]
         },
         "header": {
          "values": [
           "Group",
           "Products"
          ]
         },
         "type": "table"
        }
       ],
       "layout": {
        "height": 400,
        "template": {
         "data": {
          "bar": [
           {
            "error_x": {
             "color": "#2a3f5f"
            },
            "error_y": {
             "color": "#2a3f5f"
            },
            "marker": {
             "line": {
              "color": "#E5ECF6",
              "width": 0.5
             },
             "pattern": {
              "fillmode": "overlay",
              "size": 10,
              "solidity": 0.2
             }
            },
            "type": "bar"
           }
          ],
          "barpolar": [
           {
            "marker": {
             "line": {
              "color": "#E5ECF6",
              "width": 0.5
             },
             "pattern": {
              "fillmode": "overlay",
              "size": 10,
              "solidity": 0.2
             }
            },
            "type": "barpolar"
           }
          ],
          "carpet": [
           {
            "aaxis": {
             "endlinecolor": "#2a3f5f",
             "gridcolor": "white",
             "linecolor": "white",
             "minorgridcolor": "white",
             "startlinecolor": "#2a3f5f"
            },
            "baxis": {
             "endlinecolor": "#2a3f5f",
             "gridcolor": "white",
             "linecolor": "white",
             "minorgridcolor": "white",
             "startlinecolor": "#2a3f5f"
            },
            "type": "carpet"
           }
          ],
          "choropleth": [
           {
            "colorbar": {
             "outlinewidth": 0,
             "ticks": ""
            },
            "type": "choropleth"
           }
          ],
          "contour": [
           {
            "colorbar": {
             "outlinewidth": 0,
             "ticks": ""
            },
            "colorscale": [
             [
              0,
              "#0d0887"
             ],
             [
              0.1111111111111111,
              "#46039f"
             ],
             [
              0.2222222222222222,
              "#7201a8"
             ],
             [
              0.3333333333333333,
              "#9c179e"
             ],
             [
              0.4444444444444444,
              "#bd3786"
             ],
             [
              0.5555555555555556,
              "#d8576b"
             ],
             [
              0.6666666666666666,
              "#ed7953"
             ],
             [
              0.7777777777777778,
              "#fb9f3a"
             ],
             [
              0.8888888888888888,
              "#fdca26"
             ],
             [
              1,
              "#f0f921"
             ]
            ],
            "type": "contour"
           }
          ],
          "contourcarpet": [
           {
            "colorbar": {
             "outlinewidth": 0,
             "ticks": ""
            },
            "type": "contourcarpet"
           }
          ],
          "heatmap": [
           {
            "colorbar": {
             "outlinewidth": 0,
             "ticks": ""
            },
            "colorscale": [
             [
              0,
              "#0d0887"
             ],
             [
              0.1111111111111111,
              "#46039f"
             ],
             [
              0.2222222222222222,
              "#7201a8"
             ],
             [
              0.3333333333333333,
              "#9c179e"
             ],
             [
              0.4444444444444444,
              "#bd3786"
             ],
             [
              0.5555555555555556,
              "#d8576b"
             ],
             [
              0.6666666666666666,
              "#ed7953"
             ],
             [
              0.7777777777777778,
              "#fb9f3a"
             ],
             [
              0.8888888888888888,
              "#fdca26"
             ],
             [
              1,
              "#f0f921"
             ]
            ],
            "type": "heatmap"
           }
          ],
          "heatmapgl": [
           {
            "colorbar": {
             "outlinewidth": 0,
             "ticks": ""
            },
            "colorscale": [
             [
              0,
              "#0d0887"
             ],
             [
              0.1111111111111111,
              "#46039f"
             ],
             [
              0.2222222222222222,
              "#7201a8"
             ],
             [
              0.3333333333333333,
              "#9c179e"
             ],
             [
              0.4444444444444444,
              "#bd3786"
             ],
             [
              0.5555555555555556,
              "#d8576b"
             ],
             [
              0.6666666666666666,
              "#ed7953"
             ],
             [
              0.7777777777777778,
              "#fb9f3a"
             ],
             [
              0.8888888888888888,
              "#fdca26"
             ],
             [
              1,
              "#f0f921"
             ]
            ],
            "type": "heatmapgl"
           }
          ],
          "histogram": [
           {
            "marker": {
             "pattern": {
              "fillmode": "overlay",
              "size": 10,
              "solidity": 0.2
             }
            },
            "type": "histogram"
           }
          ],
          "histogram2d": [
           {
            "colorbar": {
             "outlinewidth": 0,
             "ticks": ""
            },
            "colorscale": [
             [
              0,
              "#0d0887"
             ],
             [
              0.1111111111111111,
              "#46039f"
             ],
             [
              0.2222222222222222,
              "#7201a8"
             ],
             [
              0.3333333333333333,
              "#9c179e"
             ],
             [
              0.4444444444444444,
              "#bd3786"
             ],
             [
              0.5555555555555556,
              "#d8576b"
             ],
             [
              0.6666666666666666,
              "#ed7953"
             ],
             [
              0.7777777777777778,
              "#fb9f3a"
             ],
             [
              0.8888888888888888,
              "#fdca26"
             ],
             [
              1,
              "#f0f921"
             ]
            ],
            "type": "histogram2d"
           }
          ],
          "histogram2dcontour": [
           {
            "colorbar": {
             "outlinewidth": 0,
             "ticks": ""
            },
            "colorscale": [
             [
              0,
              "#0d0887"
             ],
             [
              0.1111111111111111,
              "#46039f"
             ],
             [
              0.2222222222222222,
              "#7201a8"
             ],
             [
              0.3333333333333333,
              "#9c179e"
             ],
             [
              0.4444444444444444,
              "#bd3786"
             ],
             [
              0.5555555555555556,
              "#d8576b"
             ],
             [
              0.6666666666666666,
              "#ed7953"
             ],
             [
              0.7777777777777778,
              "#fb9f3a"
             ],
             [
              0.8888888888888888,
              "#fdca26"
             ],
             [
              1,
              "#f0f921"
             ]
            ],
            "type": "histogram2dcontour"
           }
          ],
          "mesh3d": [
           {
            "colorbar": {
             "outlinewidth": 0,
             "ticks": ""
            },
            "type": "mesh3d"
           }
          ],
          "parcoords": [
           {
            "line": {
             "colorbar": {
              "outlinewidth": 0,
              "ticks": ""
             }
            },
            "type": "parcoords"
           }
          ],
          "pie": [
           {
            "automargin": true,
            "type": "pie"
           }
          ],
          "scatter": [
           {
            "fillpattern": {
             "fillmode": "overlay",
             "size": 10,
             "solidity": 0.2
            },
            "type": "scatter"
           }
          ],
          "scatter3d": [
           {
            "line": {
             "colorbar": {
              "outlinewidth": 0,
              "ticks": ""
             }
            },
            "marker": {
             "colorbar": {
              "outlinewidth": 0,
              "ticks": ""
             }
            },
            "type": "scatter3d"
           }
          ],
          "scattercarpet": [
           {
            "marker": {
             "colorbar": {
              "outlinewidth": 0,
              "ticks": ""
             }
            },
            "type": "scattercarpet"
           }
          ],
          "scattergeo": [
           {
            "marker": {
             "colorbar": {
              "outlinewidth": 0,
              "ticks": ""
             }
            },
            "type": "scattergeo"
           }
          ],
          "scattergl": [
           {
            "marker": {
             "colorbar": {
              "outlinewidth": 0,
              "ticks": ""
             }
            },
            "type": "scattergl"
           }
          ],
          "scattermapbox": [
           {
            "marker": {
             "colorbar": {
              "outlinewidth": 0,
              "ticks": ""
             }
            },
            "type": "scattermapbox"
           }
          ],
          "scatterpolar": [
           {
            "marker": {
             "colorbar": {
              "outlinewidth": 0,
              "ticks": ""
             }
            },
            "type": "scatterpolar"
           }
          ],
          "scatterpolargl": [
           {
            "marker": {
             "colorbar": {
              "outlinewidth": 0,
              "ticks": ""
             }
            },
            "type": "scatterpolargl"
           }
          ],
          "scatterternary": [
           {
            "marker": {
             "colorbar": {
              "outlinewidth": 0,
              "ticks": ""
             }
            },
            "type": "scatterternary"
           }
          ],
          "surface": [
           {
            "colorbar": {
             "outlinewidth": 0,
             "ticks": ""
            },
            "colorscale": [
             [
              0,
              "#0d0887"
             ],
             [
              0.1111111111111111,
              "#46039f"
             ],
             [
              0.2222222222222222,
              "#7201a8"
             ],
             [
              0.3333333333333333,
              "#9c179e"
             ],
             [
              0.4444444444444444,
              "#bd3786"
             ],
             [
              0.5555555555555556,
              "#d8576b"
             ],
             [
              0.6666666666666666,
              "#ed7953"
             ],
             [
              0.7777777777777778,
              "#fb9f3a"
             ],
             [
              0.8888888888888888,
              "#fdca26"
             ],
             [
              1,
              "#f0f921"
             ]
            ],
            "type": "surface"
           }
          ],
          "table": [
           {
            "cells": {
             "fill": {
              "color": "#EBF0F8"
             },
             "line": {
              "color": "white"
             }
            },
            "header": {
             "fill": {
              "color": "#C8D4E3"
             },
             "line": {
              "color": "white"
             }
            },
            "type": "table"
           }
          ]
         },
         "layout": {
          "annotationdefaults": {
           "arrowcolor": "#2a3f5f",
           "arrowhead": 0,
           "arrowwidth": 1
          },
          "autotypenumbers": "strict",
          "coloraxis": {
           "colorbar": {
            "outlinewidth": 0,
            "ticks": ""
           }
          },
          "colorscale": {
           "diverging": [
            [
             0,
             "#8e0152"
            ],
            [
             0.1,
             "#c51b7d"
            ],
            [
             0.2,
             "#de77ae"
            ],
            [
             0.3,
             "#f1b6da"
            ],
            [
             0.4,
             "#fde0ef"
            ],
            [
             0.5,
             "#f7f7f7"
            ],
            [
             0.6,
             "#e6f5d0"
            ],
            [
             0.7,
             "#b8e186"
            ],
            [
             0.8,
             "#7fbc41"
            ],
            [
             0.9,
             "#4d9221"
            ],
            [
             1,
             "#276419"
            ]
           ],
           "sequential": [
            [
             0,
             "#0d0887"
            ],
            [
             0.1111111111111111,
             "#46039f"
            ],
            [
             0.2222222222222222,
             "#7201a8"
            ],
            [
             0.3333333333333333,
             "#9c179e"
            ],
            [
             0.4444444444444444,
             "#bd3786"
            ],
            [
             0.5555555555555556,
             "#d8576b"
            ],
            [
             0.6666666666666666,
             "#ed7953"
            ],
            [
             0.7777777777777778,
             "#fb9f3a"
            ],
            [
             0.8888888888888888,
             "#fdca26"
            ],
            [
             1,
             "#f0f921"
            ]
           ],
           "sequentialminus": [
            [
             0,
             "#0d0887"
            ],
            [
             0.1111111111111111,
             "#46039f"
            ],
            [
             0.2222222222222222,
             "#7201a8"
            ],
            [
             0.3333333333333333,
             "#9c179e"
            ],
            [
             0.4444444444444444,
             "#bd3786"
            ],
            [
             0.5555555555555556,
             "#d8576b"
            ],
            [
             0.6666666666666666,
             "#ed7953"
            ],
            [
             0.7777777777777778,
             "#fb9f3a"
            ],
            [
             0.8888888888888888,
             "#fdca26"
            ],
            [
             1,
             "#f0f921"
            ]
           ]
          },
          "colorway": [
           "#636efa",
           "#EF553B",
           "#00cc96",
           "#ab63fa",
           "#FFA15A",
           "#19d3f3",
           "#FF6692",
           "#B6E880",
           "#FF97FF",
           "#FECB52"
          ],
          "font": {
           "color": "#2a3f5f"
          },
          "geo": {
           "bgcolor": "white",
           "lakecolor": "white",
           "landcolor": "#E5ECF6",
           "showlakes": true,
           "showland": true,
           "subunitcolor": "white"
          },
          "hoverlabel": {
           "align": "left"
          },
          "hovermode": "closest",
          "mapbox": {
           "style": "light"
          },
          "paper_bgcolor": "white",
          "plot_bgcolor": "#E5ECF6",
          "polar": {
           "angularaxis": {
            "gridcolor": "white",
            "linecolor": "white",
            "ticks": ""
           },
           "bgcolor": "#E5ECF6",
           "radialaxis": {
            "gridcolor": "white",
            "linecolor": "white",
            "ticks": ""
           }
          },
          "scene": {
           "xaxis": {
            "backgroundcolor": "#E5ECF6",
            "gridcolor": "white",
            "gridwidth": 2,
            "linecolor": "white",
            "showbackground": true,
            "ticks": "",
            "zerolinecolor": "white"
           },
           "yaxis": {
            "backgroundcolor": "#E5ECF6",
            "gridcolor": "white",
            "gridwidth": 2,
            "linecolor": "white",
            "showbackground": true,
            "ticks": "",
            "zerolinecolor": "white"
           },
           "zaxis": {
            "backgroundcolor": "#E5ECF6",
            "gridcolor": "white",
            "gridwidth": 2,
            "linecolor": "white",
            "showbackground": true,
            "ticks": "",
            "zerolinecolor": "white"
           }
          },
          "shapedefaults": {
           "line": {
            "color": "#2a3f5f"
           }
          },
          "ternary": {
           "aaxis": {
            "gridcolor": "white",
            "linecolor": "white",
            "ticks": ""
           },
           "baxis": {
            "gridcolor": "white",
            "linecolor": "white",
            "ticks": ""
           },
           "bgcolor": "#E5ECF6",
           "caxis": {
            "gridcolor": "white",
            "linecolor": "white",
            "ticks": ""
           }
          },
          "title": {
           "x": 0.05
          },
          "xaxis": {
           "automargin": true,
           "gridcolor": "white",
           "linecolor": "white",
           "ticks": "",
           "title": {
            "standoff": 15
           },
           "zerolinecolor": "white",
           "zerolinewidth": 2
          },
          "yaxis": {
           "automargin": true,
           "gridcolor": "white",
           "linecolor": "white",
           "ticks": "",
           "title": {
            "standoff": 15
           },
           "zerolinecolor": "white",
           "zerolinewidth": 2
          }
         }
        },
        "title": {
         "text": "Gluten-Free Products"
        }
       }
      }
     },
     "metadata": {},
     "output_type": "display_data"
    }
   ],
   "source": [
    "from neo4j import GraphDatabase\n",
    "import plotly.graph_objects as go\n",
    "\n",
    "def get_gluten_free_products(driver):\n",
    "    query = \"\"\"\n",
    "    MATCH (gf)\n",
    "    WHERE gf:GlutenFree OR gf.name = 'Gluten Free'\n",
    "    DETACH DELETE gf\n",
    "    WITH gf\n",
    "    MATCH (p:Product)\n",
    "    WHERE NOT EXISTS {\n",
    "        MATCH (p)-[:HAS_RECIPE]->(:Recipe)-[:USES_INGREDIENT]->(:Ingredient)-[:HAS_RESEARCH]->(:IngredientResearch)-[:HAS_ALLERGEN]->(:Allergen {name: 'Gluten'})\n",
    "    }\n",
    "    AND NOT EXISTS {\n",
    "        MATCH (p)-[:HAS_RECIPE]->(:Recipe)-[:USES_INGREDIENT]->(:Ingredient)-[:HAS_RESEARCH]->(:IngredientResearch)-[:has_ingredients]->(:IngredientSource)-[:SOURCED_FROM]->(:T3IngredientResearch)-[:HAS_ALLERGEN_INFO]->(:Allergen {name: 'Gluten'})\n",
    "    }\n",
    "    WITH COLLECT(DISTINCT p) AS products\n",
    "    MERGE (gf:GlutenFree {name: 'Gluten Free'})\n",
    "    ON CREATE SET gf.created_at = timestamp()\n",
    "    WITH gf, products\n",
    "    UNWIND products AS p\n",
    "    MERGE (p)-[:GLUTENFREE_TO]->(gf)\n",
    "    ON CREATE SET p.updated_at = timestamp()\n",
    "    RETURN gf.name AS group, [p IN products | p.name] AS products\n",
    "    \"\"\"\n",
    "\n",
    "    with driver.session() as session:\n",
    "        result = session.run(query)\n",
    "        record = result.single()\n",
    "        if record:\n",
    "            group_name = record['group']\n",
    "            product_names = record['products']\n",
    "            return group_name, product_names\n",
    "        else:\n",
    "            return None, []\n",
    "\n",
    "def visualize_gluten_free_products(group_name, product_names):\n",
    "    product_names = [p for p in product_names if p is not None]\n",
    "    fig = go.Figure(data=[go.Table(\n",
    "        header=dict(values=[\"Group\", \"Products\"]),\n",
    "        cells=dict(values=[[group_name], [', '.join(product_names)]])\n",
    "    )])\n",
    "    fig.update_layout(\n",
    "        title=\"Gluten-Free Products\",\n",
    "        height=400\n",
    "    )\n",
    "    fig.show()\n",
    "\n",
    "# 连接到Neo4j数据库\n",
    "driver = GraphDatabase.driver(\"neo4j+s://9d1381c2.databases.neo4j.io:7687\", auth=(\"Shirley\", \"Sxl19950312\"))\n",
    "\n",
    "# 获取无Gluten产品\n",
    "group_name, product_names = get_gluten_free_products(driver)\n",
    "\n",
    "# 可视化无Gluten产品\n",
    "if group_name and product_names:\n",
    "    visualize_gluten_free_products(group_name, product_names)\n",
    "else:\n",
    "    print(\"No gluten-free products found.\")"
   ]
  },
  {
   "cell_type": "code",
   "execution_count": 5,
   "metadata": {},
   "outputs": [
    {
     "data": {
      "application/vnd.plotly.v1+json": {
       "config": {
        "plotlyServerURL": "https://plot.ly"
       },
       "data": [
        {
         "cells": {
          "values": [
           [
            "Casein"
           ],
           [
            "Pasteurised Homogenised Milk"
           ],
           [
            "Norco Full Cream Milk"
           ]
          ]
         },
         "header": {
          "values": [
           "Allergen",
           "Ingredient Research",
           "Products"
          ]
         },
         "type": "table"
        }
       ],
       "layout": {
        "height": 400,
        "template": {
         "data": {
          "bar": [
           {
            "error_x": {
             "color": "#2a3f5f"
            },
            "error_y": {
             "color": "#2a3f5f"
            },
            "marker": {
             "line": {
              "color": "#E5ECF6",
              "width": 0.5
             },
             "pattern": {
              "fillmode": "overlay",
              "size": 10,
              "solidity": 0.2
             }
            },
            "type": "bar"
           }
          ],
          "barpolar": [
           {
            "marker": {
             "line": {
              "color": "#E5ECF6",
              "width": 0.5
             },
             "pattern": {
              "fillmode": "overlay",
              "size": 10,
              "solidity": 0.2
             }
            },
            "type": "barpolar"
           }
          ],
          "carpet": [
           {
            "aaxis": {
             "endlinecolor": "#2a3f5f",
             "gridcolor": "white",
             "linecolor": "white",
             "minorgridcolor": "white",
             "startlinecolor": "#2a3f5f"
            },
            "baxis": {
             "endlinecolor": "#2a3f5f",
             "gridcolor": "white",
             "linecolor": "white",
             "minorgridcolor": "white",
             "startlinecolor": "#2a3f5f"
            },
            "type": "carpet"
           }
          ],
          "choropleth": [
           {
            "colorbar": {
             "outlinewidth": 0,
             "ticks": ""
            },
            "type": "choropleth"
           }
          ],
          "contour": [
           {
            "colorbar": {
             "outlinewidth": 0,
             "ticks": ""
            },
            "colorscale": [
             [
              0,
              "#0d0887"
             ],
             [
              0.1111111111111111,
              "#46039f"
             ],
             [
              0.2222222222222222,
              "#7201a8"
             ],
             [
              0.3333333333333333,
              "#9c179e"
             ],
             [
              0.4444444444444444,
              "#bd3786"
             ],
             [
              0.5555555555555556,
              "#d8576b"
             ],
             [
              0.6666666666666666,
              "#ed7953"
             ],
             [
              0.7777777777777778,
              "#fb9f3a"
             ],
             [
              0.8888888888888888,
              "#fdca26"
             ],
             [
              1,
              "#f0f921"
             ]
            ],
            "type": "contour"
           }
          ],
          "contourcarpet": [
           {
            "colorbar": {
             "outlinewidth": 0,
             "ticks": ""
            },
            "type": "contourcarpet"
           }
          ],
          "heatmap": [
           {
            "colorbar": {
             "outlinewidth": 0,
             "ticks": ""
            },
            "colorscale": [
             [
              0,
              "#0d0887"
             ],
             [
              0.1111111111111111,
              "#46039f"
             ],
             [
              0.2222222222222222,
              "#7201a8"
             ],
             [
              0.3333333333333333,
              "#9c179e"
             ],
             [
              0.4444444444444444,
              "#bd3786"
             ],
             [
              0.5555555555555556,
              "#d8576b"
             ],
             [
              0.6666666666666666,
              "#ed7953"
             ],
             [
              0.7777777777777778,
              "#fb9f3a"
             ],
             [
              0.8888888888888888,
              "#fdca26"
             ],
             [
              1,
              "#f0f921"
             ]
            ],
            "type": "heatmap"
           }
          ],
          "heatmapgl": [
           {
            "colorbar": {
             "outlinewidth": 0,
             "ticks": ""
            },
            "colorscale": [
             [
              0,
              "#0d0887"
             ],
             [
              0.1111111111111111,
              "#46039f"
             ],
             [
              0.2222222222222222,
              "#7201a8"
             ],
             [
              0.3333333333333333,
              "#9c179e"
             ],
             [
              0.4444444444444444,
              "#bd3786"
             ],
             [
              0.5555555555555556,
              "#d8576b"
             ],
             [
              0.6666666666666666,
              "#ed7953"
             ],
             [
              0.7777777777777778,
              "#fb9f3a"
             ],
             [
              0.8888888888888888,
              "#fdca26"
             ],
             [
              1,
              "#f0f921"
             ]
            ],
            "type": "heatmapgl"
           }
          ],
          "histogram": [
           {
            "marker": {
             "pattern": {
              "fillmode": "overlay",
              "size": 10,
              "solidity": 0.2
             }
            },
            "type": "histogram"
           }
          ],
          "histogram2d": [
           {
            "colorbar": {
             "outlinewidth": 0,
             "ticks": ""
            },
            "colorscale": [
             [
              0,
              "#0d0887"
             ],
             [
              0.1111111111111111,
              "#46039f"
             ],
             [
              0.2222222222222222,
              "#7201a8"
             ],
             [
              0.3333333333333333,
              "#9c179e"
             ],
             [
              0.4444444444444444,
              "#bd3786"
             ],
             [
              0.5555555555555556,
              "#d8576b"
             ],
             [
              0.6666666666666666,
              "#ed7953"
             ],
             [
              0.7777777777777778,
              "#fb9f3a"
             ],
             [
              0.8888888888888888,
              "#fdca26"
             ],
             [
              1,
              "#f0f921"
             ]
            ],
            "type": "histogram2d"
           }
          ],
          "histogram2dcontour": [
           {
            "colorbar": {
             "outlinewidth": 0,
             "ticks": ""
            },
            "colorscale": [
             [
              0,
              "#0d0887"
             ],
             [
              0.1111111111111111,
              "#46039f"
             ],
             [
              0.2222222222222222,
              "#7201a8"
             ],
             [
              0.3333333333333333,
              "#9c179e"
             ],
             [
              0.4444444444444444,
              "#bd3786"
             ],
             [
              0.5555555555555556,
              "#d8576b"
             ],
             [
              0.6666666666666666,
              "#ed7953"
             ],
             [
              0.7777777777777778,
              "#fb9f3a"
             ],
             [
              0.8888888888888888,
              "#fdca26"
             ],
             [
              1,
              "#f0f921"
             ]
            ],
            "type": "histogram2dcontour"
           }
          ],
          "mesh3d": [
           {
            "colorbar": {
             "outlinewidth": 0,
             "ticks": ""
            },
            "type": "mesh3d"
           }
          ],
          "parcoords": [
           {
            "line": {
             "colorbar": {
              "outlinewidth": 0,
              "ticks": ""
             }
            },
            "type": "parcoords"
           }
          ],
          "pie": [
           {
            "automargin": true,
            "type": "pie"
           }
          ],
          "scatter": [
           {
            "fillpattern": {
             "fillmode": "overlay",
             "size": 10,
             "solidity": 0.2
            },
            "type": "scatter"
           }
          ],
          "scatter3d": [
           {
            "line": {
             "colorbar": {
              "outlinewidth": 0,
              "ticks": ""
             }
            },
            "marker": {
             "colorbar": {
              "outlinewidth": 0,
              "ticks": ""
             }
            },
            "type": "scatter3d"
           }
          ],
          "scattercarpet": [
           {
            "marker": {
             "colorbar": {
              "outlinewidth": 0,
              "ticks": ""
             }
            },
            "type": "scattercarpet"
           }
          ],
          "scattergeo": [
           {
            "marker": {
             "colorbar": {
              "outlinewidth": 0,
              "ticks": ""
             }
            },
            "type": "scattergeo"
           }
          ],
          "scattergl": [
           {
            "marker": {
             "colorbar": {
              "outlinewidth": 0,
              "ticks": ""
             }
            },
            "type": "scattergl"
           }
          ],
          "scattermapbox": [
           {
            "marker": {
             "colorbar": {
              "outlinewidth": 0,
              "ticks": ""
             }
            },
            "type": "scattermapbox"
           }
          ],
          "scatterpolar": [
           {
            "marker": {
             "colorbar": {
              "outlinewidth": 0,
              "ticks": ""
             }
            },
            "type": "scatterpolar"
           }
          ],
          "scatterpolargl": [
           {
            "marker": {
             "colorbar": {
              "outlinewidth": 0,
              "ticks": ""
             }
            },
            "type": "scatterpolargl"
           }
          ],
          "scatterternary": [
           {
            "marker": {
             "colorbar": {
              "outlinewidth": 0,
              "ticks": ""
             }
            },
            "type": "scatterternary"
           }
          ],
          "surface": [
           {
            "colorbar": {
             "outlinewidth": 0,
             "ticks": ""
            },
            "colorscale": [
             [
              0,
              "#0d0887"
             ],
             [
              0.1111111111111111,
              "#46039f"
             ],
             [
              0.2222222222222222,
              "#7201a8"
             ],
             [
              0.3333333333333333,
              "#9c179e"
             ],
             [
              0.4444444444444444,
              "#bd3786"
             ],
             [
              0.5555555555555556,
              "#d8576b"
             ],
             [
              0.6666666666666666,
              "#ed7953"
             ],
             [
              0.7777777777777778,
              "#fb9f3a"
             ],
             [
              0.8888888888888888,
              "#fdca26"
             ],
             [
              1,
              "#f0f921"
             ]
            ],
            "type": "surface"
           }
          ],
          "table": [
           {
            "cells": {
             "fill": {
              "color": "#EBF0F8"
             },
             "line": {
              "color": "white"
             }
            },
            "header": {
             "fill": {
              "color": "#C8D4E3"
             },
             "line": {
              "color": "white"
             }
            },
            "type": "table"
           }
          ]
         },
         "layout": {
          "annotationdefaults": {
           "arrowcolor": "#2a3f5f",
           "arrowhead": 0,
           "arrowwidth": 1
          },
          "autotypenumbers": "strict",
          "coloraxis": {
           "colorbar": {
            "outlinewidth": 0,
            "ticks": ""
           }
          },
          "colorscale": {
           "diverging": [
            [
             0,
             "#8e0152"
            ],
            [
             0.1,
             "#c51b7d"
            ],
            [
             0.2,
             "#de77ae"
            ],
            [
             0.3,
             "#f1b6da"
            ],
            [
             0.4,
             "#fde0ef"
            ],
            [
             0.5,
             "#f7f7f7"
            ],
            [
             0.6,
             "#e6f5d0"
            ],
            [
             0.7,
             "#b8e186"
            ],
            [
             0.8,
             "#7fbc41"
            ],
            [
             0.9,
             "#4d9221"
            ],
            [
             1,
             "#276419"
            ]
           ],
           "sequential": [
            [
             0,
             "#0d0887"
            ],
            [
             0.1111111111111111,
             "#46039f"
            ],
            [
             0.2222222222222222,
             "#7201a8"
            ],
            [
             0.3333333333333333,
             "#9c179e"
            ],
            [
             0.4444444444444444,
             "#bd3786"
            ],
            [
             0.5555555555555556,
             "#d8576b"
            ],
            [
             0.6666666666666666,
             "#ed7953"
            ],
            [
             0.7777777777777778,
             "#fb9f3a"
            ],
            [
             0.8888888888888888,
             "#fdca26"
            ],
            [
             1,
             "#f0f921"
            ]
           ],
           "sequentialminus": [
            [
             0,
             "#0d0887"
            ],
            [
             0.1111111111111111,
             "#46039f"
            ],
            [
             0.2222222222222222,
             "#7201a8"
            ],
            [
             0.3333333333333333,
             "#9c179e"
            ],
            [
             0.4444444444444444,
             "#bd3786"
            ],
            [
             0.5555555555555556,
             "#d8576b"
            ],
            [
             0.6666666666666666,
             "#ed7953"
            ],
            [
             0.7777777777777778,
             "#fb9f3a"
            ],
            [
             0.8888888888888888,
             "#fdca26"
            ],
            [
             1,
             "#f0f921"
            ]
           ]
          },
          "colorway": [
           "#636efa",
           "#EF553B",
           "#00cc96",
           "#ab63fa",
           "#FFA15A",
           "#19d3f3",
           "#FF6692",
           "#B6E880",
           "#FF97FF",
           "#FECB52"
          ],
          "font": {
           "color": "#2a3f5f"
          },
          "geo": {
           "bgcolor": "white",
           "lakecolor": "white",
           "landcolor": "#E5ECF6",
           "showlakes": true,
           "showland": true,
           "subunitcolor": "white"
          },
          "hoverlabel": {
           "align": "left"
          },
          "hovermode": "closest",
          "mapbox": {
           "style": "light"
          },
          "paper_bgcolor": "white",
          "plot_bgcolor": "#E5ECF6",
          "polar": {
           "angularaxis": {
            "gridcolor": "white",
            "linecolor": "white",
            "ticks": ""
           },
           "bgcolor": "#E5ECF6",
           "radialaxis": {
            "gridcolor": "white",
            "linecolor": "white",
            "ticks": ""
           }
          },
          "scene": {
           "xaxis": {
            "backgroundcolor": "#E5ECF6",
            "gridcolor": "white",
            "gridwidth": 2,
            "linecolor": "white",
            "showbackground": true,
            "ticks": "",
            "zerolinecolor": "white"
           },
           "yaxis": {
            "backgroundcolor": "#E5ECF6",
            "gridcolor": "white",
            "gridwidth": 2,
            "linecolor": "white",
            "showbackground": true,
            "ticks": "",
            "zerolinecolor": "white"
           },
           "zaxis": {
            "backgroundcolor": "#E5ECF6",
            "gridcolor": "white",
            "gridwidth": 2,
            "linecolor": "white",
            "showbackground": true,
            "ticks": "",
            "zerolinecolor": "white"
           }
          },
          "shapedefaults": {
           "line": {
            "color": "#2a3f5f"
           }
          },
          "ternary": {
           "aaxis": {
            "gridcolor": "white",
            "linecolor": "white",
            "ticks": ""
           },
           "baxis": {
            "gridcolor": "white",
            "linecolor": "white",
            "ticks": ""
           },
           "bgcolor": "#E5ECF6",
           "caxis": {
            "gridcolor": "white",
            "linecolor": "white",
            "ticks": ""
           }
          },
          "title": {
           "x": 0.05
          },
          "xaxis": {
           "automargin": true,
           "gridcolor": "white",
           "linecolor": "white",
           "ticks": "",
           "title": {
            "standoff": 15
           },
           "zerolinecolor": "white",
           "zerolinewidth": 2
          },
          "yaxis": {
           "automargin": true,
           "gridcolor": "white",
           "linecolor": "white",
           "ticks": "",
           "title": {
            "standoff": 15
           },
           "zerolinecolor": "white",
           "zerolinewidth": 2
          }
         }
        },
        "title": {
         "text": "Casein Allergen Information"
        }
       }
      }
     },
     "metadata": {},
     "output_type": "display_data"
    }
   ],
   "source": [
    "from neo4j import GraphDatabase\n",
    "import plotly.graph_objects as go\n",
    "\n",
    "\n",
    "query = \"\"\"\n",
    "MATCH (a:Allergen)\n",
    "WHERE toLower(a.name) = 'casein'\n",
    "WITH a\n",
    "MATCH (a)<-[:HAS_ALLERGEN]-(res:IngredientResearch)<-[:HAS_RESEARCH]-(i:Ingredient)<-[:USES_INGREDIENT]-(r:Recipe)<-[:HAS_RECIPE]-(p:Product)\n",
    "RETURN a.name AS allergen, COLLECT(DISTINCT res.ingredient_name) AS ingredientresearch, COLLECT(DISTINCT p.name) AS products\n",
    "\"\"\"\n",
    "\n",
    "with driver.session() as session:\n",
    "    results = session.run(query)\n",
    "    data = [record.data() for record in results]\n",
    "\n",
    "allergens = [result['allergen'] for result in data]\n",
    "ingredient_research = [', '.join(result['ingredientresearch']) for result in data]\n",
    "products = [', '.join(result['products']) for result in data]\n",
    "\n",
    "fig = go.Figure(data=[go.Table(\n",
    "    header=dict(values=[\"Allergen\", \"Ingredient Research\", \"Products\"]),\n",
    "    cells=dict(values=[allergens, ingredient_research, products])\n",
    ")])\n",
    "\n",
    "fig.update_layout(\n",
    "    title=\"Casein Allergen Information\",\n",
    "    height=400\n",
    ")\n",
    "\n",
    "fig.show()"
   ]
  },
  {
   "cell_type": "code",
   "execution_count": 14,
   "metadata": {},
   "outputs": [
    {
     "name": "stdout",
     "output_type": "stream",
     "text": [
      "Group: Casein Free\n",
      "Products: Coca - Cola Classic  Soft Drink Multipack Cans, Coca - Cola Classic  Soft Drink Multipack Cans, Coca - Cola Zero Sugar Soft Drink Multipack Cans, Coca - Cola Classic  Soft Drink Multipack Cans, Coca - Cola Zero Sugar Soft Drink Multipack Cans, Coca - Cola Zero Sugar Soft Drink Multipack Cans, Coca - Cola Classic  Soft Drink Mini Cans, Coca - Cola Caffeine Free Zero Sugar Soft Drink Multipack Cans, Coca - Cola Vanilla  Soft Drink Multipack Cans, Coca - Cola Zero Sugar Soft Drink Mini Cans, Indomie Mi Goreng Instant Noodles, Maggi 2 Minute Chicken Flavour Instant Noodles, Maggi 2 Minute Chicken Flavour Instant Noodles, Supreme Noodles Cup Chicken Flavour, Fantastic Chicken Noodle Cup, Fantastic Chicken Noodle Bowl, Indomie Mi Goreng Noodle Cup, Maggi 2 Minute Beef Flavour Instant Noodles, Supreme Noodles Cup Beef Flavour, Indomena Instant Noodles Chicken Flavoured, Schweppes Zero Sugar Lime Infused Mineral Water Bottle, Schweppes Raspberry Infused Natural Mineral Water Bottle, Schweppes Natural Mineral Water Bottle Natural, Schweppes Soda Water Bottle Classic Mixers, Schweppes Indian Tonic Water Classic Mixers Bottle, Schweppes Lime Soda Water With Lime Juice Bottle, Schweppes Zero Sugar Classic Mixers Indian Tonic Water Bottle, Schweppes Lemon Lime Natural Mineral Water Bottle, Schweppes Orange Mango Natural Mineral Water Bottle, Kitkat 4 Finger Milk Chocolate Bar, Kitkat Chunky Original Chocolate Bar, Cadbury Dairy Milk Caramello Koala Chocolate, Twix Milk Chocolate Bar With Caramel Biscuit, Mars Chocolate Bar With Nougat & Caramel, Cadbury Dairy Milk Chocolate Roll, Cadbury Chomp Chocolate Bar, Cadbury Dairy Milk Chocolate Bar, Cadbury Twirl Chocolate Bar, Cadbury Curly Wurly Chocolate Bar, Arnott's Premier Chocolate Chip Cookies, Woolworths Chocolate Chip Cookies, Woolworths The King Of Chunky Chocolate Chip Cookies, Arnott's Mini Choc Chip Cookie Multipack Biscuits, Oreo Original Mini Cookies Multipack, Oreo Minis Cookies Variety Bags 18 Pack, Cadbury Classic Choc Chip Cookies, Cadbury Choc Centre Cookies, Byron Bay Cookies Dotty Cookie Bites, Oreo Original Cookies, Rimmel Scandaleyes Eye Definer Brown, Skin Republic Hyaluronic Acid & Collagen Face Mask, Woolworths Apple Juice, Woolworths Apple & Mango Juice, Woolworths Orange Juice, Woolworths Breakfast Juice, Woolworths Apple & Blackcurrant Juice, Woolworths Multivitamin Juice, Golden Circle Golden Pash Fruit Drink, Golden Circle Drinks Pine Orange Fruit Drink, Golden Circle Drinks Sunshine Punch Fruit Drink, Golden Circle Fruit Drinks Lunch Box Poppers Tropical Punch Multipack, Woolworths Full Cream Milk, Woolworths Full Cream Milk, Dairy Farmers Full Cream Milk Full Cream Milk, Woolworths Full Cream Milk, Dairy Farmers Full Cream Milk Full Cream Milk, A2 Milk Full Cream Milk, Pauls Farmhouse Gold Full Cream Milk, Dairy Farmers Full Cream Milk, A2 Milk Full Cream Milk, Oreo Double Stuff Cookies, Oreo Original Cookies Family Pack, Oreo Chocolate Cookies, Oreo Grab & Go Original Cookies 9 Pack, Oreo Double Stuff Mint Cookies, Oreo Neapolitan Double Stuff Cookies, Oreo Milk Chocolate Wafer Sticks Biscuits Large Multipack, Woolworths Diced Italian Tomatoes, Woolworths Lasagne Sheets, Essentials Coconut Cream, Woolworths Uht Full Cream Milk, Woolworths Pineapple Slices In Juice, Deep Cove Sardines In Oil, Woolworths Creamed Rice, Woolworths Diced Italian Tomatoes, Essentials Coconut Milk, Woolworths Tomato Sauce Squeeze, Woolworths Barbecue Sauce Squeeze, Masterfoods Tomato Sauce, Woolworths Tomato Sauce, Masterfoods Barbecue Sauce, Fountain Tomato Sauce Squeeze, Fountain Barbecue Bbq Sauce Squeeze, Woolworths Secret Burger Sauce, Heinz Ketchup Tomato Sauce Ketchup, Woolworths Barbecue Sauce, Woolworths Spring Water Bottles, Woolworths Spring Water, Woolworths Spring Water Minis, Nu Pure Still Spring Water, Woolworths Spring Water, Australian Mountain Waters Natural Spring Water, Pureau Pure Water Water, Frantelle Australian Still Spring Water Bottles Multipack, Woolworths Spring Water, Mount Franklin Spring Water Bottle, Smith's Crinkle Cut Potato Chips Original, Smith's Crinkle Cut Potato Chips Cheese & Onion, Smith's Crinkle Cut Potato Chips Barbecue, Smith's Crinkle Cut Potato Chips Chicken, Thins Chips Salt & Vinegar, Smith's Thinly Cut Potato Chips Original Share Pack, Thins Chips Chicken, Smith's Crinkle Cut Potato Chips Salt & Vinegar, Thins Chips Light & Tangy, Thins Cheese & Onion Chips, Woolworths Peach In Strawberry Jelly, Woolworths Two Fruits In Juice Cups, Woolworths Two Fruits In Juice, Woolworths Two Fruits In Tropical Jelly, Woolworths Two Fruits In Juice, Woolworths Apple In Pineapple Jelly, Goulburn Valley Two Fruits In Juice, Dole Pineapple Slices In Syrup, Dole Pineapple Chunks In Juice, Goulburn Valley Two Fruits In Juice Fruit Cups In Juice, Woolworths Red Watermelon Cut Quarter, The Odd Bunch Pear Prepacked, Woolworths Fresh Pink Lady Apples Punnet\n"
     ]
    },
    {
     "name": "stderr",
     "output_type": "stream",
     "text": [
      "c:\\Users\\apple\\anaconda3\\lib\\site-packages\\neo4j\\_sync\\work\\result.py:500: UserWarning:\n",
      "\n",
      "Expected a result with a single record, but found multiple.\n",
      "\n"
     ]
    }
   ],
   "source": [
    "#Final\n",
    "\n",
    "from neo4j import GraphDatabase\n",
    "\n",
    "query = \"\"\"\n",
    "MATCH (cf)\n",
    "WHERE cf:CaseinFree OR cf.name = 'Casein Free'\n",
    "DETACH DELETE cf\n",
    "WITH cf\n",
    "MATCH (p:Product)\n",
    "WHERE NOT EXISTS {\n",
    "    MATCH (p)-[:HAS_RECIPE]->(:Recipe)-[:USES_INGREDIENT]->(:Ingredient)-[:HAS_RESEARCH]->(:IngredientResearch)-[:HAS_ALLERGEN]->(:Allergen {name: 'Casein'})\n",
    "}\n",
    "AND NOT EXISTS {\n",
    "    MATCH (p)-[:HAS_RECIPE]->(:Recipe)-[:USES_INGREDIENT]->(:Ingredient)-[:HAS_RESEARCH]->(:IngredientResearch)-[:has_ingredients]->(:IngredientSource)-[:SOURCED_FROM]->(:T3IngredientResearch)-[:HAS_ALLERGEN_INFO]->(:Allergen {name: 'Casein'})\n",
    "}\n",
    "WITH COLLECT(DISTINCT p) AS products\n",
    "MERGE (cf:CaseinFree {name: 'Casein Free'})\n",
    "ON CREATE SET cf.created_at = timestamp()\n",
    "WITH cf, products\n",
    "UNWIND products AS p\n",
    "MERGE (p)-[:CASEINFREE_TO]->(cf)\n",
    "ON CREATE SET p.updated_at = timestamp()\n",
    "RETURN cf.name AS group, [p IN products | p.name] AS products\n",
    "\"\"\"\n",
    "\n",
    "with driver.session() as session:\n",
    "    result = session.run(query)\n",
    "    record = result.single()\n",
    "    group_name = record['group']\n",
    "    product_names = record['products']\n",
    "    product_names = [p for p in product_names if p is not None]\n",
    "    print(f\"Group: {group_name}\")\n",
    "    print(f\"Products: {', '.join(product_names)}\")"
   ]
  },
  {
   "cell_type": "code",
   "execution_count": 6,
   "metadata": {},
   "outputs": [
    {
     "name": "stdout",
     "output_type": "stream",
     "text": [
      "Group: Casein Free\n",
      "Products: Coca - Cola Classic  Soft Drink Multipack Cans, Coca - Cola Classic  Soft Drink Multipack Cans, Coca - Cola Zero Sugar Soft Drink Multipack Cans, Coca - Cola Classic  Soft Drink Multipack Cans, Coca - Cola Zero Sugar Soft Drink Multipack Cans, Coca - Cola Zero Sugar Soft Drink Multipack Cans, Coca - Cola Classic  Soft Drink Mini Cans, Coca - Cola Caffeine Free Zero Sugar Soft Drink Multipack Cans, Coca - Cola Vanilla  Soft Drink Multipack Cans, Coca - Cola Zero Sugar Soft Drink Mini Cans, Indomie Mi Goreng Instant Noodles, Maggi 2 Minute Chicken Flavour Instant Noodles, Maggi 2 Minute Chicken Flavour Instant Noodles, Supreme Noodles Cup Chicken Flavour, Fantastic Chicken Noodle Cup, Fantastic Chicken Noodle Bowl, Indomie Mi Goreng Noodle Cup, Maggi 2 Minute Beef Flavour Instant Noodles, Supreme Noodles Cup Beef Flavour, Indomena Instant Noodles Chicken Flavoured, Schweppes Zero Sugar Lime Infused Mineral Water Bottle, Schweppes Raspberry Infused Natural Mineral Water Bottle, Schweppes Natural Mineral Water Bottle Natural, Schweppes Soda Water Bottle Classic Mixers, Schweppes Indian Tonic Water Classic Mixers Bottle, Schweppes Lime Soda Water With Lime Juice Bottle, Schweppes Zero Sugar Classic Mixers Indian Tonic Water Bottle, Schweppes Lemon Lime Natural Mineral Water Bottle, Schweppes Orange Mango Natural Mineral Water Bottle, Kitkat 4 Finger Milk Chocolate Bar, Kitkat Chunky Original Chocolate Bar, Cadbury Dairy Milk Caramello Koala Chocolate, Twix Milk Chocolate Bar With Caramel Biscuit, Mars Chocolate Bar With Nougat & Caramel, Cadbury Dairy Milk Chocolate Roll, Cadbury Chomp Chocolate Bar, Cadbury Dairy Milk Chocolate Bar, Cadbury Twirl Chocolate Bar, Cadbury Curly Wurly Chocolate Bar, Arnott's Premier Chocolate Chip Cookies, Woolworths Chocolate Chip Cookies, Woolworths The King Of Chunky Chocolate Chip Cookies, Arnott's Mini Choc Chip Cookie Multipack Biscuits, Oreo Original Mini Cookies Multipack, Oreo Minis Cookies Variety Bags 18 Pack, Cadbury Classic Choc Chip Cookies, Cadbury Choc Centre Cookies, Byron Bay Cookies Dotty Cookie Bites, Oreo Original Cookies, Rimmel Scandaleyes Eye Definer Brown, Skin Republic Hyaluronic Acid & Collagen Face Mask, Woolworths Apple Juice, Woolworths Apple & Mango Juice, Woolworths Orange Juice, Woolworths Breakfast Juice, Woolworths Apple & Blackcurrant Juice, Woolworths Multivitamin Juice, Golden Circle Golden Pash Fruit Drink, Golden Circle Drinks Pine Orange Fruit Drink, Golden Circle Drinks Sunshine Punch Fruit Drink, Golden Circle Fruit Drinks Lunch Box Poppers Tropical Punch Multipack, Woolworths Full Cream Milk, Woolworths Full Cream Milk, Dairy Farmers Full Cream Milk Full Cream Milk, Woolworths Full Cream Milk, Dairy Farmers Full Cream Milk Full Cream Milk, A2 Milk Full Cream Milk, Pauls Farmhouse Gold Full Cream Milk, Dairy Farmers Full Cream Milk, A2 Milk Full Cream Milk, Oreo Double Stuff Cookies, Oreo Original Cookies Family Pack, Oreo Chocolate Cookies, Oreo Grab & Go Original Cookies 9 Pack, Oreo Double Stuff Mint Cookies, Oreo Neapolitan Double Stuff Cookies, Oreo Milk Chocolate Wafer Sticks Biscuits Large Multipack, Woolworths Diced Italian Tomatoes, Woolworths Lasagne Sheets, Essentials Coconut Cream, Woolworths Uht Full Cream Milk, Woolworths Pineapple Slices In Juice, Deep Cove Sardines In Oil, Woolworths Creamed Rice, Woolworths Diced Italian Tomatoes, Essentials Coconut Milk, Woolworths Tomato Sauce Squeeze, Woolworths Barbecue Sauce Squeeze, Masterfoods Tomato Sauce, Woolworths Tomato Sauce, Masterfoods Barbecue Sauce, Fountain Tomato Sauce Squeeze, Fountain Barbecue Bbq Sauce Squeeze, Woolworths Secret Burger Sauce, Heinz Ketchup Tomato Sauce Ketchup, Woolworths Barbecue Sauce, Woolworths Spring Water Bottles, Woolworths Spring Water, Woolworths Spring Water Minis, Nu Pure Still Spring Water, Woolworths Spring Water, Australian Mountain Waters Natural Spring Water, Pureau Pure Water Water, Frantelle Australian Still Spring Water Bottles Multipack, Woolworths Spring Water, Mount Franklin Spring Water Bottle, Smith's Crinkle Cut Potato Chips Original, Smith's Crinkle Cut Potato Chips Cheese & Onion, Smith's Crinkle Cut Potato Chips Barbecue, Smith's Crinkle Cut Potato Chips Chicken, Thins Chips Salt & Vinegar, Smith's Thinly Cut Potato Chips Original Share Pack, Thins Chips Chicken, Smith's Crinkle Cut Potato Chips Salt & Vinegar, Thins Chips Light & Tangy, Thins Cheese & Onion Chips, Woolworths Peach In Strawberry Jelly, Woolworths Two Fruits In Juice Cups, Woolworths Two Fruits In Juice, Woolworths Two Fruits In Tropical Jelly, Woolworths Two Fruits In Juice, Woolworths Apple In Pineapple Jelly, Goulburn Valley Two Fruits In Juice, Dole Pineapple Slices In Syrup, Dole Pineapple Chunks In Juice, Goulburn Valley Two Fruits In Juice Fruit Cups In Juice, Woolworths Red Watermelon Cut Quarter, The Odd Bunch Pear Prepacked, Woolworths Fresh Pink Lady Apples Punnet\n"
     ]
    }
   ],
   "source": [
    "from neo4j import GraphDatabase\n",
    "\n",
    "\n",
    "\n",
    "query = \"\"\"\n",
    "MATCH (a:Allergen {name: 'Casein'})\n",
    "MATCH (p:Product)\n",
    "WHERE NOT EXISTS {\n",
    "  MATCH (p)-[:HAS_RECIPE]->(:Recipe)-[:USES_INGREDIENT]->(:Ingredient)-[:HAS_RESEARCH]->(:IngredientResearch)-[:HAS_ALLERGEN]->(a)\n",
    "}\n",
    "AND NOT EXISTS {\n",
    "  MATCH (p)-[:HAS_RECIPE]->(:Recipe)-[:USES_INGREDIENT]->(:Ingredient)-[:HAS_RESEARCH]->(:IngredientResearch)-[:has_ingredients]->(:IngredientSource)-[:SOURCED_FROM]->(t3:T3IngredientResearch)-[:HAS_ALLERGEN_INFO]->(a)\n",
    "}\n",
    "WITH COLLECT(DISTINCT p) AS products\n",
    "MERGE (cf:CaseinFree {name: 'Casein Free'})\n",
    "FOREACH (p IN products | MERGE (p)-[:CASEINFREE_TO]->(cf))\n",
    "RETURN cf.name AS group, [p IN products | p.name] AS products\n",
    "\"\"\"\n",
    "\n",
    "\n",
    "with driver.session() as session:\n",
    "    result = session.run(query)\n",
    "    record = result.single()\n",
    "    group_name = record['group']\n",
    "    product_names = record['products']\n",
    "\n",
    "\n",
    "product_names = [p for p in product_names if p is not None]\n",
    "\n",
    "\n",
    "print(f\"Group: {group_name}\")\n",
    "print(f\"Products: {', '.join(product_names)}\")"
   ]
  },
  {
   "cell_type": "code",
   "execution_count": null,
   "metadata": {},
   "outputs": [],
   "source": [
    "query = \"\"\"\n",
    "MATCH (gfcf)\n",
    "WHERE gfcf:GlutenFreeAndCaseinFree OR gfcf.name = 'Gluten Free and Casein Free'\n",
    "DETACH DELETE gfcf\n",
    "WITH gfcf\n",
    "MATCH (p:Product)\n",
    "WHERE NOT EXISTS {\n",
    "    MATCH (p)-[:HAS_RECIPE]->(:Recipe)-[:USES_INGREDIENT]->(:Ingredient)-[:HAS_RESEARCH]->(:IngredientResearch)-[:HAS_ALLERGEN]->(:Allergen {name: 'Gluten'})\n",
    "}\n",
    "AND NOT EXISTS {\n",
    "    MATCH (p)-[:HAS_RECIPE]->(:Recipe)-[:USES_INGREDIENT]->(:Ingredient)-[:HAS_RESEARCH]->(:IngredientResearch)-[:has_ingredients]->(:IngredientSource)-[:SOURCED_FROM]->(:T3IngredientResearch)-[:HAS_ALLERGEN_INFO]->(:Allergen {name: 'Gluten'})\n",
    "}\n",
    "AND NOT EXISTS {\n",
    "    MATCH (p)-[:HAS_RECIPE]->(:Recipe)-[:USES_INGREDIENT]->(:Ingredient)-[:HAS_RESEARCH]->(:IngredientResearch)-[:HAS_ALLERGEN]->(:Allergen {name: 'Casein'})\n",
    "}\n",
    "AND NOT EXISTS {\n",
    "    MATCH (p)-[:HAS_RECIPE]->(:Recipe)-[:USES_INGREDIENT]->(:Ingredient)-[:HAS_RESEARCH]->(:IngredientResearch)-[:has_ingredients]->(:IngredientSource)-[:SOURCED_FROM]->(:T3IngredientResearch)-[:HAS_ALLERGEN_INFO]->(:Allergen {name: 'Casein'})\n",
    "}\n",
    "WITH COLLECT(DISTINCT p) AS products\n",
    "MERGE (gfcf:GlutenFreeAndCaseinFree {name: 'Gluten Free and Casein Free'})\n",
    "ON CREATE SET gfcf.created_at = timestamp()\n",
    "WITH gfcf, products\n",
    "UNWIND products AS p\n",
    "MERGE (p)-[:GLUTENFREECASEINFREE_TO]->(gfcf)\n",
    "ON CREATE SET p.updated_at = timestamp()\n",
    "RETURN gfcf.name AS group, [p IN products | p.name] AS products\n",
    "\"\"\""
   ]
  },
  {
   "cell_type": "code",
   "execution_count": null,
   "metadata": {},
   "outputs": [
    {
     "data": {
      "application/vnd.plotly.v1+json": {
       "config": {
        "plotlyServerURL": "https://plot.ly"
       },
       "data": [
        {
         "cells": {
          "values": [
           [
            "Gluten Free"
           ],
           [
            "Coca - Cola Classic  Soft Drink Multipack Cans, Coca - Cola Classic  Soft Drink Multipack Cans, Coca - Cola Zero Sugar Soft Drink Multipack Cans, Coca - Cola Classic  Soft Drink Multipack Cans, Coca - Cola Zero Sugar Soft Drink Multipack Cans, Coca - Cola Zero Sugar Soft Drink Multipack Cans, Coca - Cola Classic  Soft Drink Mini Cans, Coca - Cola Caffeine Free Zero Sugar Soft Drink Multipack Cans, Coca - Cola Vanilla  Soft Drink Multipack Cans, Coca - Cola Zero Sugar Soft Drink Mini Cans, Indomena Instant Noodles Chicken Flavoured, Schweppes Zero Sugar Lime Infused Mineral Water Bottle, Schweppes Raspberry Infused Natural Mineral Water Bottle, Schweppes Natural Mineral Water Bottle Natural, Schweppes Soda Water Bottle Classic Mixers, Schweppes Indian Tonic Water Classic Mixers Bottle, Schweppes Lime Soda Water With Lime Juice Bottle, Schweppes Zero Sugar Classic Mixers Indian Tonic Water Bottle, Schweppes Lemon Lime Natural Mineral Water Bottle, Schweppes Orange Mango Natural Mineral Water Bottle, Cadbury Dairy Milk Caramello Koala Chocolate, Cadbury Dairy Milk Chocolate Roll, Cadbury Dairy Milk Chocolate Bar, Cadbury Twirl Chocolate Bar, Cadbury Curly Wurly Chocolate Bar, Rimmel Scandaleyes Eye Definer Brown, Skin Republic Hyaluronic Acid & Collagen Face Mask, Woolworths Apple Juice, Woolworths Apple & Mango Juice, Woolworths Orange Juice, Woolworths Breakfast Juice, Woolworths Apple & Blackcurrant Juice, Woolworths Multivitamin Juice, Golden Circle Golden Pash Fruit Drink, Golden Circle Drinks Pine Orange Fruit Drink, Golden Circle Drinks Sunshine Punch Fruit Drink, Golden Circle Fruit Drinks Lunch Box Poppers Tropical Punch Multipack, Woolworths Full Cream Milk, Woolworths Full Cream Milk, Dairy Farmers Full Cream Milk Full Cream Milk, Woolworths Full Cream Milk, Norco Full Cream Milk, Dairy Farmers Full Cream Milk Full Cream Milk, A2 Milk Full Cream Milk, Pauls Farmhouse Gold Full Cream Milk, Dairy Farmers Full Cream Milk, A2 Milk Full Cream Milk, Oreo Double Stuff Mint Cookies, Oreo Milk Chocolate Wafer Sticks Biscuits Large Multipack, Woolworths Diced Italian Tomatoes, Essentials Coconut Cream, Woolworths Uht Full Cream Milk, Woolworths Pineapple Slices In Juice, Deep Cove Sardines In Oil, Woolworths Creamed Rice, Woolworths Diced Italian Tomatoes, Essentials Coconut Milk, Woolworths Tomato Sauce Squeeze, Woolworths Barbecue Sauce Squeeze, Masterfoods Tomato Sauce, Woolworths Tomato Sauce, Fountain Tomato Sauce Squeeze, Fountain Barbecue Bbq Sauce Squeeze, Heinz Ketchup Tomato Sauce Ketchup, Woolworths Barbecue Sauce, Woolworths Spring Water Bottles, Woolworths Spring Water, Woolworths Spring Water Minis, Nu Pure Still Spring Water, Woolworths Spring Water, Australian Mountain Waters Natural Spring Water, Pureau Pure Water Water, Frantelle Australian Still Spring Water Bottles Multipack, Woolworths Spring Water, Mount Franklin Spring Water Bottle, Smith's Crinkle Cut Potato Chips Original, Thins Chips Salt & Vinegar, Smith's Thinly Cut Potato Chips Original Share Pack, Thins Chips Chicken, Smith's Crinkle Cut Potato Chips Salt & Vinegar, Thins Chips Light & Tangy, Thins Cheese & Onion Chips, Woolworths Two Fruits In Juice Cups, Woolworths Two Fruits In Juice, Woolworths Two Fruits In Juice, Goulburn Valley Two Fruits In Juice, Dole Pineapple Slices In Syrup, Dole Pineapple Chunks In Juice, Goulburn Valley Two Fruits In Juice Fruit Cups In Juice, Woolworths Red Watermelon Cut Quarter, The Odd Bunch Pear Prepacked, Woolworths Fresh Pink Lady Apples Punnet"
           ]
          ]
         },
         "header": {
          "values": [
           "Group",
           "Products"
          ]
         },
         "type": "table"
        }
       ],
       "layout": {
        "height": 400,
        "template": {
         "data": {
          "bar": [
           {
            "error_x": {
             "color": "#2a3f5f"
            },
            "error_y": {
             "color": "#2a3f5f"
            },
            "marker": {
             "line": {
              "color": "#E5ECF6",
              "width": 0.5
             },
             "pattern": {
              "fillmode": "overlay",
              "size": 10,
              "solidity": 0.2
             }
            },
            "type": "bar"
           }
          ],
          "barpolar": [
           {
            "marker": {
             "line": {
              "color": "#E5ECF6",
              "width": 0.5
             },
             "pattern": {
              "fillmode": "overlay",
              "size": 10,
              "solidity": 0.2
             }
            },
            "type": "barpolar"
           }
          ],
          "carpet": [
           {
            "aaxis": {
             "endlinecolor": "#2a3f5f",
             "gridcolor": "white",
             "linecolor": "white",
             "minorgridcolor": "white",
             "startlinecolor": "#2a3f5f"
            },
            "baxis": {
             "endlinecolor": "#2a3f5f",
             "gridcolor": "white",
             "linecolor": "white",
             "minorgridcolor": "white",
             "startlinecolor": "#2a3f5f"
            },
            "type": "carpet"
           }
          ],
          "choropleth": [
           {
            "colorbar": {
             "outlinewidth": 0,
             "ticks": ""
            },
            "type": "choropleth"
           }
          ],
          "contour": [
           {
            "colorbar": {
             "outlinewidth": 0,
             "ticks": ""
            },
            "colorscale": [
             [
              0,
              "#0d0887"
             ],
             [
              0.1111111111111111,
              "#46039f"
             ],
             [
              0.2222222222222222,
              "#7201a8"
             ],
             [
              0.3333333333333333,
              "#9c179e"
             ],
             [
              0.4444444444444444,
              "#bd3786"
             ],
             [
              0.5555555555555556,
              "#d8576b"
             ],
             [
              0.6666666666666666,
              "#ed7953"
             ],
             [
              0.7777777777777778,
              "#fb9f3a"
             ],
             [
              0.8888888888888888,
              "#fdca26"
             ],
             [
              1,
              "#f0f921"
             ]
            ],
            "type": "contour"
           }
          ],
          "contourcarpet": [
           {
            "colorbar": {
             "outlinewidth": 0,
             "ticks": ""
            },
            "type": "contourcarpet"
           }
          ],
          "heatmap": [
           {
            "colorbar": {
             "outlinewidth": 0,
             "ticks": ""
            },
            "colorscale": [
             [
              0,
              "#0d0887"
             ],
             [
              0.1111111111111111,
              "#46039f"
             ],
             [
              0.2222222222222222,
              "#7201a8"
             ],
             [
              0.3333333333333333,
              "#9c179e"
             ],
             [
              0.4444444444444444,
              "#bd3786"
             ],
             [
              0.5555555555555556,
              "#d8576b"
             ],
             [
              0.6666666666666666,
              "#ed7953"
             ],
             [
              0.7777777777777778,
              "#fb9f3a"
             ],
             [
              0.8888888888888888,
              "#fdca26"
             ],
             [
              1,
              "#f0f921"
             ]
            ],
            "type": "heatmap"
           }
          ],
          "heatmapgl": [
           {
            "colorbar": {
             "outlinewidth": 0,
             "ticks": ""
            },
            "colorscale": [
             [
              0,
              "#0d0887"
             ],
             [
              0.1111111111111111,
              "#46039f"
             ],
             [
              0.2222222222222222,
              "#7201a8"
             ],
             [
              0.3333333333333333,
              "#9c179e"
             ],
             [
              0.4444444444444444,
              "#bd3786"
             ],
             [
              0.5555555555555556,
              "#d8576b"
             ],
             [
              0.6666666666666666,
              "#ed7953"
             ],
             [
              0.7777777777777778,
              "#fb9f3a"
             ],
             [
              0.8888888888888888,
              "#fdca26"
             ],
             [
              1,
              "#f0f921"
             ]
            ],
            "type": "heatmapgl"
           }
          ],
          "histogram": [
           {
            "marker": {
             "pattern": {
              "fillmode": "overlay",
              "size": 10,
              "solidity": 0.2
             }
            },
            "type": "histogram"
           }
          ],
          "histogram2d": [
           {
            "colorbar": {
             "outlinewidth": 0,
             "ticks": ""
            },
            "colorscale": [
             [
              0,
              "#0d0887"
             ],
             [
              0.1111111111111111,
              "#46039f"
             ],
             [
              0.2222222222222222,
              "#7201a8"
             ],
             [
              0.3333333333333333,
              "#9c179e"
             ],
             [
              0.4444444444444444,
              "#bd3786"
             ],
             [
              0.5555555555555556,
              "#d8576b"
             ],
             [
              0.6666666666666666,
              "#ed7953"
             ],
             [
              0.7777777777777778,
              "#fb9f3a"
             ],
             [
              0.8888888888888888,
              "#fdca26"
             ],
             [
              1,
              "#f0f921"
             ]
            ],
            "type": "histogram2d"
           }
          ],
          "histogram2dcontour": [
           {
            "colorbar": {
             "outlinewidth": 0,
             "ticks": ""
            },
            "colorscale": [
             [
              0,
              "#0d0887"
             ],
             [
              0.1111111111111111,
              "#46039f"
             ],
             [
              0.2222222222222222,
              "#7201a8"
             ],
             [
              0.3333333333333333,
              "#9c179e"
             ],
             [
              0.4444444444444444,
              "#bd3786"
             ],
             [
              0.5555555555555556,
              "#d8576b"
             ],
             [
              0.6666666666666666,
              "#ed7953"
             ],
             [
              0.7777777777777778,
              "#fb9f3a"
             ],
             [
              0.8888888888888888,
              "#fdca26"
             ],
             [
              1,
              "#f0f921"
             ]
            ],
            "type": "histogram2dcontour"
           }
          ],
          "mesh3d": [
           {
            "colorbar": {
             "outlinewidth": 0,
             "ticks": ""
            },
            "type": "mesh3d"
           }
          ],
          "parcoords": [
           {
            "line": {
             "colorbar": {
              "outlinewidth": 0,
              "ticks": ""
             }
            },
            "type": "parcoords"
           }
          ],
          "pie": [
           {
            "automargin": true,
            "type": "pie"
           }
          ],
          "scatter": [
           {
            "fillpattern": {
             "fillmode": "overlay",
             "size": 10,
             "solidity": 0.2
            },
            "type": "scatter"
           }
          ],
          "scatter3d": [
           {
            "line": {
             "colorbar": {
              "outlinewidth": 0,
              "ticks": ""
             }
            },
            "marker": {
             "colorbar": {
              "outlinewidth": 0,
              "ticks": ""
             }
            },
            "type": "scatter3d"
           }
          ],
          "scattercarpet": [
           {
            "marker": {
             "colorbar": {
              "outlinewidth": 0,
              "ticks": ""
             }
            },
            "type": "scattercarpet"
           }
          ],
          "scattergeo": [
           {
            "marker": {
             "colorbar": {
              "outlinewidth": 0,
              "ticks": ""
             }
            },
            "type": "scattergeo"
           }
          ],
          "scattergl": [
           {
            "marker": {
             "colorbar": {
              "outlinewidth": 0,
              "ticks": ""
             }
            },
            "type": "scattergl"
           }
          ],
          "scattermapbox": [
           {
            "marker": {
             "colorbar": {
              "outlinewidth": 0,
              "ticks": ""
             }
            },
            "type": "scattermapbox"
           }
          ],
          "scatterpolar": [
           {
            "marker": {
             "colorbar": {
              "outlinewidth": 0,
              "ticks": ""
             }
            },
            "type": "scatterpolar"
           }
          ],
          "scatterpolargl": [
           {
            "marker": {
             "colorbar": {
              "outlinewidth": 0,
              "ticks": ""
             }
            },
            "type": "scatterpolargl"
           }
          ],
          "scatterternary": [
           {
            "marker": {
             "colorbar": {
              "outlinewidth": 0,
              "ticks": ""
             }
            },
            "type": "scatterternary"
           }
          ],
          "surface": [
           {
            "colorbar": {
             "outlinewidth": 0,
             "ticks": ""
            },
            "colorscale": [
             [
              0,
              "#0d0887"
             ],
             [
              0.1111111111111111,
              "#46039f"
             ],
             [
              0.2222222222222222,
              "#7201a8"
             ],
             [
              0.3333333333333333,
              "#9c179e"
             ],
             [
              0.4444444444444444,
              "#bd3786"
             ],
             [
              0.5555555555555556,
              "#d8576b"
             ],
             [
              0.6666666666666666,
              "#ed7953"
             ],
             [
              0.7777777777777778,
              "#fb9f3a"
             ],
             [
              0.8888888888888888,
              "#fdca26"
             ],
             [
              1,
              "#f0f921"
             ]
            ],
            "type": "surface"
           }
          ],
          "table": [
           {
            "cells": {
             "fill": {
              "color": "#EBF0F8"
             },
             "line": {
              "color": "white"
             }
            },
            "header": {
             "fill": {
              "color": "#C8D4E3"
             },
             "line": {
              "color": "white"
             }
            },
            "type": "table"
           }
          ]
         },
         "layout": {
          "annotationdefaults": {
           "arrowcolor": "#2a3f5f",
           "arrowhead": 0,
           "arrowwidth": 1
          },
          "autotypenumbers": "strict",
          "coloraxis": {
           "colorbar": {
            "outlinewidth": 0,
            "ticks": ""
           }
          },
          "colorscale": {
           "diverging": [
            [
             0,
             "#8e0152"
            ],
            [
             0.1,
             "#c51b7d"
            ],
            [
             0.2,
             "#de77ae"
            ],
            [
             0.3,
             "#f1b6da"
            ],
            [
             0.4,
             "#fde0ef"
            ],
            [
             0.5,
             "#f7f7f7"
            ],
            [
             0.6,
             "#e6f5d0"
            ],
            [
             0.7,
             "#b8e186"
            ],
            [
             0.8,
             "#7fbc41"
            ],
            [
             0.9,
             "#4d9221"
            ],
            [
             1,
             "#276419"
            ]
           ],
           "sequential": [
            [
             0,
             "#0d0887"
            ],
            [
             0.1111111111111111,
             "#46039f"
            ],
            [
             0.2222222222222222,
             "#7201a8"
            ],
            [
             0.3333333333333333,
             "#9c179e"
            ],
            [
             0.4444444444444444,
             "#bd3786"
            ],
            [
             0.5555555555555556,
             "#d8576b"
            ],
            [
             0.6666666666666666,
             "#ed7953"
            ],
            [
             0.7777777777777778,
             "#fb9f3a"
            ],
            [
             0.8888888888888888,
             "#fdca26"
            ],
            [
             1,
             "#f0f921"
            ]
           ],
           "sequentialminus": [
            [
             0,
             "#0d0887"
            ],
            [
             0.1111111111111111,
             "#46039f"
            ],
            [
             0.2222222222222222,
             "#7201a8"
            ],
            [
             0.3333333333333333,
             "#9c179e"
            ],
            [
             0.4444444444444444,
             "#bd3786"
            ],
            [
             0.5555555555555556,
             "#d8576b"
            ],
            [
             0.6666666666666666,
             "#ed7953"
            ],
            [
             0.7777777777777778,
             "#fb9f3a"
            ],
            [
             0.8888888888888888,
             "#fdca26"
            ],
            [
             1,
             "#f0f921"
            ]
           ]
          },
          "colorway": [
           "#636efa",
           "#EF553B",
           "#00cc96",
           "#ab63fa",
           "#FFA15A",
           "#19d3f3",
           "#FF6692",
           "#B6E880",
           "#FF97FF",
           "#FECB52"
          ],
          "font": {
           "color": "#2a3f5f"
          },
          "geo": {
           "bgcolor": "white",
           "lakecolor": "white",
           "landcolor": "#E5ECF6",
           "showlakes": true,
           "showland": true,
           "subunitcolor": "white"
          },
          "hoverlabel": {
           "align": "left"
          },
          "hovermode": "closest",
          "mapbox": {
           "style": "light"
          },
          "paper_bgcolor": "white",
          "plot_bgcolor": "#E5ECF6",
          "polar": {
           "angularaxis": {
            "gridcolor": "white",
            "linecolor": "white",
            "ticks": ""
           },
           "bgcolor": "#E5ECF6",
           "radialaxis": {
            "gridcolor": "white",
            "linecolor": "white",
            "ticks": ""
           }
          },
          "scene": {
           "xaxis": {
            "backgroundcolor": "#E5ECF6",
            "gridcolor": "white",
            "gridwidth": 2,
            "linecolor": "white",
            "showbackground": true,
            "ticks": "",
            "zerolinecolor": "white"
           },
           "yaxis": {
            "backgroundcolor": "#E5ECF6",
            "gridcolor": "white",
            "gridwidth": 2,
            "linecolor": "white",
            "showbackground": true,
            "ticks": "",
            "zerolinecolor": "white"
           },
           "zaxis": {
            "backgroundcolor": "#E5ECF6",
            "gridcolor": "white",
            "gridwidth": 2,
            "linecolor": "white",
            "showbackground": true,
            "ticks": "",
            "zerolinecolor": "white"
           }
          },
          "shapedefaults": {
           "line": {
            "color": "#2a3f5f"
           }
          },
          "ternary": {
           "aaxis": {
            "gridcolor": "white",
            "linecolor": "white",
            "ticks": ""
           },
           "baxis": {
            "gridcolor": "white",
            "linecolor": "white",
            "ticks": ""
           },
           "bgcolor": "#E5ECF6",
           "caxis": {
            "gridcolor": "white",
            "linecolor": "white",
            "ticks": ""
           }
          },
          "title": {
           "x": 0.05
          },
          "xaxis": {
           "automargin": true,
           "gridcolor": "white",
           "linecolor": "white",
           "ticks": "",
           "title": {
            "standoff": 15
           },
           "zerolinecolor": "white",
           "zerolinewidth": 2
          },
          "yaxis": {
           "automargin": true,
           "gridcolor": "white",
           "linecolor": "white",
           "ticks": "",
           "title": {
            "standoff": 15
           },
           "zerolinecolor": "white",
           "zerolinewidth": 2
          }
         }
        },
        "title": {
         "text": "Gluten-Free Products"
        }
       }
      }
     },
     "metadata": {},
     "output_type": "display_data"
    }
   ],
   "source": [
    "from neo4j import GraphDatabase\n",
    "import plotly.graph_objects as go\n",
    "\n",
    "def get_gluten_free_products(driver):\n",
    "    query = \"\"\"\n",
    "    MATCH (gf)\n",
    "    WHERE gf:GlutenFree OR gf.name = 'Gluten Free'\n",
    "    DETACH DELETE gf\n",
    "    WITH gf\n",
    "    MATCH (p:Product)\n",
    "    WHERE NOT EXISTS {\n",
    "        MATCH (p)-[:HAS_RECIPE]->(:Recipe)-[:USES_INGREDIENT]->(:Ingredient)-[:HAS_RESEARCH]->(:IngredientResearch)-[:HAS_ALLERGEN]->(:Allergen {name: 'Gluten'})\n",
    "    }\n",
    "    AND NOT EXISTS {\n",
    "        MATCH (p)-[:HAS_RECIPE]->(:Recipe)-[:USES_INGREDIENT]->(:Ingredient)-[:HAS_RESEARCH]->(:IngredientResearch)-[:has_ingredients]->(:IngredientSource)-[:SOURCED_FROM]->(:T3IngredientResearch)-[:HAS_ALLERGEN_INFO]->(:Allergen {name: 'Gluten'})\n",
    "    }\n",
    "    WITH COLLECT(DISTINCT p) AS products\n",
    "    MERGE (gf:GlutenFree {name: 'Gluten Free'})\n",
    "    ON CREATE SET gf.created_at = timestamp()\n",
    "    WITH gf, products\n",
    "    UNWIND products AS p\n",
    "    MERGE (p)-[:GLUTENFREE_TO]->(gf)\n",
    "    ON CREATE SET p.updated_at = timestamp()\n",
    "    RETURN gf.name AS group, [p IN products | p.name] AS products\n",
    "    \"\"\"\n",
    "\n",
    "    with driver.session() as session:\n",
    "        result = session.run(query)\n",
    "        record = result.single()\n",
    "        if record:\n",
    "            group_name = record['group']\n",
    "            product_names = record['products']\n",
    "            return group_name, product_names\n",
    "        else:\n",
    "            return None, []\n",
    "\n",
    "def visualize_gluten_free_products(group_name, product_names):\n",
    "    product_names = [p for p in product_names if p is not None]\n",
    "    fig = go.Figure(data=[go.Table(\n",
    "        header=dict(values=[\"Group\", \"Products\"]),\n",
    "        cells=dict(values=[[group_name], [', '.join(product_names)]])\n",
    "    )])\n",
    "    fig.update_layout(\n",
    "        title=\"Gluten-Free Products\",\n",
    "        height=400\n",
    "    )\n",
    "    fig.show()\n",
    "\n",
    "# 连接到Neo4j数据库\n",
    "driver = GraphDatabase.driver(\"neo4j+s://9d1381c2.databases.neo4j.io:7687\", auth=(\"Shirley\", \"Sxl19950312\"))\n",
    "\n",
    "# 获取无Gluten产品\n",
    "group_name, product_names = get_gluten_free_products(driver)\n",
    "\n",
    "# 可视化无Gluten产品\n",
    "if group_name and product_names:\n",
    "    visualize_gluten_free_products(group_name, product_names)\n",
    "else:\n",
    "    print(\"No gluten-free products found.\")"
   ]
  }
 ],
 "metadata": {
  "kernelspec": {
   "display_name": "base",
   "language": "python",
   "name": "python3"
  },
  "language_info": {
   "codemirror_mode": {
    "name": "ipython",
    "version": 3
   },
   "file_extension": ".py",
   "mimetype": "text/x-python",
   "name": "python",
   "nbconvert_exporter": "python",
   "pygments_lexer": "ipython3",
   "version": "3.10.9"
  }
 },
 "nbformat": 4,
 "nbformat_minor": 2
}
