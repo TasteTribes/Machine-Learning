{
 "cells": [
  {
   "cell_type": "code",
   "execution_count": 1,
   "metadata": {},
   "outputs": [
    {
     "name": "stdout",
     "output_type": "stream",
     "text": [
      "Connectivity verified successfully.\n"
     ]
    }
   ],
   "source": [
    "from neo4j import GraphDatabase\n",
    "\n",
    "def get_neo4j_driver() -> GraphDatabase.driver:\n",
    "    \"\"\"Establishes and returns a Neo4j session for AuraDB.\"\"\"\n",
    "    neo4j_uri = 'neo4j+s://9d1381c2.databases.neo4j.io:7687'\n",
    "    neo4j_user = 'Shirley'\n",
    "    neo4j_password = 'Sxl19950312'\n",
    "    return GraphDatabase.driver(neo4j_uri, auth=(neo4j_user, neo4j_password))\n",
    "\n",
    "# Call the function to get the driver\n",
    "driver = get_neo4j_driver()\n",
    "\n",
    "# Open a session\n",
    "with driver.session() as session:\n",
    "    # Verify connectivity within the session\n",
    "    session.run(\"RETURN 1\")\n",
    "\n",
    "print(\"Connectivity verified successfully.\")\n",
    "\n",
    "\n",
    "from dash import Dash, dcc, html\n",
    "import plotly.express as px\n",
    "import pandas as pd\n",
    "\n",
    "\n",
    "# Define a Cypher query to retrieve the required data\n",
    "query = \"\"\"\n",
    "MATCH (n)\n",
    "RETURN n\n",
    "\"\"\"\n",
    "\n",
    "# Execute the query and process the results\n",
    "with driver.session() as session:\n",
    "    result = session.run(query)\n",
    "    neo4j_data = [record.data() for record in result]\n",
    "\n",
    "# Converting Neo4j Data to Pandas DataFrame Format\n",
    "df = pd.DataFrame(neo4j_data)\n",
    "\n",
    "#print(df)"
   ]
  },
  {
   "cell_type": "code",
   "execution_count": 2,
   "metadata": {},
   "outputs": [
    {
     "data": {
      "application/vnd.plotly.v1+json": {
       "config": {
        "plotlyServerURL": "https://plot.ly"
       },
       "data": [
        {
         "hovertemplate": "Ingredients=%{y}<br>Product=%{x}<extra></extra>",
         "legendgroup": "Carbonated Water",
         "marker": {
          "color": "#636efa",
          "symbol": "circle"
         },
         "mode": "markers",
         "name": "Carbonated Water",
         "showlegend": true,
         "type": "scattergl",
         "x": [
          "Coca - Cola Classic  Soft Drink Multipack Cans",
          "Coca - Cola Classic  Soft Drink Multipack Cans",
          "Coca - Cola Classic  Soft Drink Multipack Cans",
          "Coca - Cola Classic  Soft Drink Mini Cans",
          "Coca - Cola Vanilla  Soft Drink Multipack Cans",
          "Coca - Cola Zero Sugar Soft Drink Multipack Cans",
          "Coca - Cola Zero Sugar Soft Drink Multipack Cans",
          "Coca - Cola Zero Sugar Soft Drink Multipack Cans",
          "Coca - Cola Caffeine Free Zero Sugar Soft Drink Multipack Cans",
          "Coca - Cola Zero Sugar Soft Drink Mini Cans",
          "Schweppes Soda Water Bottle Classic Mixers",
          "Schweppes Indian Tonic Water Classic Mixers Bottle",
          "Schweppes Lime Soda Water With Lime Juice Bottle",
          "Schweppes Zero Sugar Classic Mixers Indian Tonic Water Bottle"
         ],
         "xaxis": "x",
         "y": [
          "Carbonated Water",
          "Carbonated Water",
          "Carbonated Water",
          "Carbonated Water",
          "Carbonated Water",
          "Carbonated Water",
          "Carbonated Water",
          "Carbonated Water",
          "Carbonated Water",
          "Carbonated Water",
          "Carbonated Water",
          "Carbonated Water",
          "Carbonated Water",
          "Carbonated Water"
         ],
         "yaxis": "y"
        },
        {
         "hovertemplate": "Ingredients=%{y}<br>Product=%{x}<extra></extra>",
         "legendgroup": "Sugar",
         "marker": {
          "color": "#EF553B",
          "symbol": "circle"
         },
         "mode": "markers",
         "name": "Sugar",
         "showlegend": true,
         "type": "scattergl",
         "x": [
          "Coca - Cola Classic  Soft Drink Multipack Cans",
          "Coca - Cola Classic  Soft Drink Multipack Cans",
          "Coca - Cola Classic  Soft Drink Multipack Cans",
          "Coca - Cola Classic  Soft Drink Mini Cans",
          "Coca - Cola Vanilla  Soft Drink Multipack Cans",
          "Indomie Mi Goreng Instant Noodles",
          "Maggi 2 Minute Chicken Flavour Instant Noodles",
          "Maggi 2 Minute Chicken Flavour Instant Noodles",
          "Supreme Noodles Cup Chicken Flavour",
          "Fantastic Chicken Noodle Cup",
          "Fantastic Chicken Noodle Bowl",
          "Indomie Mi Goreng Noodle Cup",
          "Maggi 2 Minute Beef Flavour Instant Noodles",
          "Supreme Noodles Cup Beef Flavour",
          "Schweppes Indian Tonic Water Classic Mixers Bottle",
          "Schweppes Lime Soda Water With Lime Juice Bottle",
          "Schweppes Lemon Lime Natural Mineral Water Bottle",
          "Schweppes Orange Mango Natural Mineral Water Bottle",
          "Kitkat 4 Finger Milk Chocolate Bar",
          "Kitkat Chunky Original Chocolate Bar",
          "Cadbury Dairy Milk Caramello Koala Chocolate",
          "Mars Chocolate Bar With Nougat & Caramel",
          "Cadbury Dairy Milk Chocolate Roll",
          "Cadbury Dairy Milk Chocolate Bar",
          "Cadbury Twirl Chocolate Bar",
          "Cadbury Chomp Chocolate Bar",
          "Arnott's Premier Chocolate Chip Cookies",
          "Woolworths Chocolate Chip Cookies",
          "Woolworths The King Of Chunky Chocolate Chip Cookies",
          "Arnott's Mini Choc Chip Cookie Multipack Biscuits",
          "Oreo Original Mini Cookies Multipack",
          "Oreo Minis Cookies Variety Bags 18 Pack",
          "Cadbury Classic Choc Chip Cookies",
          "Cadbury Choc Centre Cookies",
          "Byron Bay Cookies Dotty Cookie Bites",
          "Oreo Original Cookies",
          "Golden Circle Golden Pash Fruit Drink",
          "Golden Circle Drinks Pine Orange Fruit Drink",
          "Golden Circle Drinks Sunshine Punch Fruit Drink",
          "Golden Circle Fruit Drinks Lunch Box Poppers Tropical Punch Multipack",
          "Oreo Double Stuff Cookies",
          "Oreo Original Cookies Family Pack",
          "Oreo Chocolate Cookies",
          "Oreo Grab & Go Original Cookies 9 Pack",
          "Oreo Neapolitan Double Stuff Cookies",
          "Woolworths Creamed Rice",
          "Woolworths Tomato Sauce Squeeze",
          "Woolworths Tomato Sauce",
          "Woolworths Barbecue Sauce Squeeze",
          "Masterfoods Tomato Sauce",
          "Masterfoods Barbecue Sauce",
          "Fountain Tomato Sauce Squeeze",
          "Fountain Barbecue Bbq Sauce Squeeze",
          "Woolworths Secret Burger Sauce",
          "Heinz Ketchup Tomato Sauce Ketchup",
          "Woolworths Barbecue Sauce",
          "Smith's Crinkle Cut Potato Chips Barbecue",
          "Smith's Crinkle Cut Potato Chips Chicken",
          "Thins Chips Chicken",
          "Smith's Crinkle Cut Potato Chips Salt & Vinegar",
          "Thins Chips Light & Tangy",
          "Thins Cheese & Onion Chips",
          "Woolworths Peach In Strawberry Jelly",
          "Woolworths Two Fruits In Tropical Jelly",
          "Woolworths Apple In Pineapple Jelly",
          "Dole Pineapple Slices In Syrup"
         ],
         "xaxis": "x",
         "y": [
          "Sugar",
          "Sugar",
          "Sugar",
          "Sugar",
          "Sugar",
          "Sugar",
          "Sugar",
          "Sugar",
          "Sugar",
          "Sugar",
          "Sugar",
          "Sugar",
          "Sugar",
          "Sugar",
          "Sugar",
          "Sugar",
          "Sugar",
          "Sugar",
          "Sugar",
          "Sugar",
          "Sugar",
          "Sugar",
          "Sugar",
          "Sugar",
          "Sugar",
          "Sugar",
          "Sugar",
          "Sugar",
          "Sugar",
          "Sugar",
          "Sugar",
          "Sugar",
          "Sugar",
          "Sugar",
          "Sugar",
          "Sugar",
          "Sugar",
          "Sugar",
          "Sugar",
          "Sugar",
          "Sugar",
          "Sugar",
          "Sugar",
          "Sugar",
          "Sugar",
          "Sugar",
          "Sugar",
          "Sugar",
          "Sugar",
          "Sugar",
          "Sugar",
          "Sugar",
          "Sugar",
          "Sugar",
          "Sugar",
          "Sugar",
          "Sugar",
          "Sugar",
          "Sugar",
          "Sugar",
          "Sugar",
          "Sugar",
          "Sugar",
          "Sugar",
          "Sugar",
          "Sugar"
         ],
         "yaxis": "y"
        },
        {
         "hovertemplate": "Ingredients=%{y}<br>Product=%{x}<extra></extra>",
         "legendgroup": "Colouring Agent 150d",
         "marker": {
          "color": "#00cc96",
          "symbol": "circle"
         },
         "mode": "markers",
         "name": "Colouring Agent 150d",
         "showlegend": true,
         "type": "scattergl",
         "x": [
          "Coca - Cola Classic  Soft Drink Multipack Cans",
          "Coca - Cola Classic  Soft Drink Multipack Cans",
          "Coca - Cola Classic  Soft Drink Multipack Cans",
          "Coca - Cola Classic  Soft Drink Mini Cans",
          "Coca - Cola Vanilla  Soft Drink Multipack Cans",
          "Coca - Cola Zero Sugar Soft Drink Multipack Cans",
          "Coca - Cola Zero Sugar Soft Drink Multipack Cans",
          "Coca - Cola Zero Sugar Soft Drink Multipack Cans",
          "Coca - Cola Caffeine Free Zero Sugar Soft Drink Multipack Cans",
          "Coca - Cola Zero Sugar Soft Drink Mini Cans",
          "Fountain Barbecue Bbq Sauce Squeeze"
         ],
         "xaxis": "x",
         "y": [
          "Colouring Agent 150d",
          "Colouring Agent 150d",
          "Colouring Agent 150d",
          "Colouring Agent 150d",
          "Colouring Agent 150d",
          "Colouring Agent 150d",
          "Colouring Agent 150d",
          "Colouring Agent 150d",
          "Colouring Agent 150d",
          "Colouring Agent 150d",
          "Colouring Agent 150d"
         ],
         "yaxis": "y"
        },
        {
         "hovertemplate": "Ingredients=%{y}<br>Product=%{x}<extra></extra>",
         "legendgroup": "Phosphoric Acid",
         "marker": {
          "color": "#ab63fa",
          "symbol": "circle"
         },
         "mode": "markers",
         "name": "Phosphoric Acid",
         "showlegend": true,
         "type": "scattergl",
         "x": [
          "Coca - Cola Classic  Soft Drink Multipack Cans",
          "Coca - Cola Classic  Soft Drink Multipack Cans",
          "Coca - Cola Classic  Soft Drink Multipack Cans",
          "Coca - Cola Classic  Soft Drink Mini Cans",
          "Coca - Cola Vanilla  Soft Drink Multipack Cans",
          "Coca - Cola Zero Sugar Soft Drink Multipack Cans",
          "Coca - Cola Zero Sugar Soft Drink Multipack Cans",
          "Coca - Cola Zero Sugar Soft Drink Multipack Cans",
          "Coca - Cola Caffeine Free Zero Sugar Soft Drink Multipack Cans",
          "Coca - Cola Zero Sugar Soft Drink Mini Cans"
         ],
         "xaxis": "x",
         "y": [
          "Phosphoric Acid",
          "Phosphoric Acid",
          "Phosphoric Acid",
          "Phosphoric Acid",
          "Phosphoric Acid",
          "Phosphoric Acid",
          "Phosphoric Acid",
          "Phosphoric Acid",
          "Phosphoric Acid",
          "Phosphoric Acid"
         ],
         "yaxis": "y"
        },
        {
         "hovertemplate": "Ingredients=%{y}<br>Product=%{x}<extra></extra>",
         "legendgroup": "Flavour",
         "marker": {
          "color": "#FFA15A",
          "symbol": "circle"
         },
         "mode": "markers",
         "name": "Flavour",
         "showlegend": true,
         "type": "scattergl",
         "x": [
          "Coca - Cola Classic  Soft Drink Multipack Cans",
          "Coca - Cola Classic  Soft Drink Multipack Cans",
          "Coca - Cola Classic  Soft Drink Multipack Cans",
          "Coca - Cola Classic  Soft Drink Mini Cans",
          "Coca - Cola Vanilla  Soft Drink Multipack Cans",
          "Coca - Cola Zero Sugar Soft Drink Multipack Cans",
          "Coca - Cola Zero Sugar Soft Drink Multipack Cans",
          "Coca - Cola Zero Sugar Soft Drink Multipack Cans",
          "Coca - Cola Caffeine Free Zero Sugar Soft Drink Multipack Cans",
          "Coca - Cola Zero Sugar Soft Drink Mini Cans",
          "Maggi 2 Minute Beef Flavour Instant Noodles",
          "Kitkat 4 Finger Milk Chocolate Bar",
          "Kitkat Chunky Original Chocolate Bar",
          "Arnott's Premier Chocolate Chip Cookies",
          "Oreo Original Mini Cookies Multipack",
          "Oreo Minis Cookies Variety Bags 18 Pack",
          "Cadbury Classic Choc Chip Cookies",
          "Cadbury Choc Centre Cookies",
          "Byron Bay Cookies Dotty Cookie Bites",
          "Oreo Original Cookies",
          "Oreo Double Stuff Cookies",
          "Oreo Original Cookies Family Pack",
          "Oreo Chocolate Cookies",
          "Oreo Grab & Go Original Cookies 9 Pack",
          "Thins Chips Light & Tangy"
         ],
         "xaxis": "x",
         "y": [
          "Flavour",
          "Flavour",
          "Flavour",
          "Flavour",
          "Flavour",
          "Flavour",
          "Flavour",
          "Flavour",
          "Flavour",
          "Flavour",
          "Flavour",
          "Flavour",
          "Flavour",
          "Flavour",
          "Flavour",
          "Flavour",
          "Flavour",
          "Flavour",
          "Flavour",
          "Flavour",
          "Flavour",
          "Flavour",
          "Flavour",
          "Flavour",
          "Flavour"
         ],
         "yaxis": "y"
        },
        {
         "hovertemplate": "Ingredients=%{y}<br>Product=%{x}<extra></extra>",
         "legendgroup": "Caffeine",
         "marker": {
          "color": "#19d3f3",
          "symbol": "circle"
         },
         "mode": "markers",
         "name": "Caffeine",
         "showlegend": true,
         "type": "scattergl",
         "x": [
          "Coca - Cola Classic  Soft Drink Multipack Cans",
          "Coca - Cola Classic  Soft Drink Multipack Cans",
          "Coca - Cola Classic  Soft Drink Multipack Cans",
          "Coca - Cola Classic  Soft Drink Mini Cans",
          "Coca - Cola Vanilla  Soft Drink Multipack Cans",
          "Coca - Cola Zero Sugar Soft Drink Multipack Cans",
          "Coca - Cola Zero Sugar Soft Drink Multipack Cans",
          "Coca - Cola Zero Sugar Soft Drink Multipack Cans",
          "Coca - Cola Zero Sugar Soft Drink Mini Cans"
         ],
         "xaxis": "x",
         "y": [
          "Caffeine",
          "Caffeine",
          "Caffeine",
          "Caffeine",
          "Caffeine",
          "Caffeine",
          "Caffeine",
          "Caffeine",
          "Caffeine"
         ],
         "yaxis": "y"
        },
        {
         "hovertemplate": "Ingredients=%{y}<br>Product=%{x}<extra></extra>",
         "legendgroup": "Sodium Citrate",
         "marker": {
          "color": "#FF6692",
          "symbol": "circle"
         },
         "mode": "markers",
         "name": "Sodium Citrate",
         "showlegend": true,
         "type": "scattergl",
         "x": [
          "Coca - Cola Zero Sugar Soft Drink Multipack Cans",
          "Coca - Cola Zero Sugar Soft Drink Multipack Cans",
          "Coca - Cola Zero Sugar Soft Drink Multipack Cans",
          "Coca - Cola Caffeine Free Zero Sugar Soft Drink Multipack Cans",
          "Coca - Cola Zero Sugar Soft Drink Mini Cans",
          "Schweppes Zero Sugar Classic Mixers Indian Tonic Water Bottle",
          "Schweppes Lemon Lime Natural Mineral Water Bottle",
          "Woolworths Peach In Strawberry Jelly",
          "Woolworths Two Fruits In Tropical Jelly",
          "Woolworths Apple In Pineapple Jelly"
         ],
         "xaxis": "x",
         "y": [
          "Sodium Citrate",
          "Sodium Citrate",
          "Sodium Citrate",
          "Sodium Citrate",
          "Sodium Citrate",
          "Sodium Citrate",
          "Sodium Citrate",
          "Sodium Citrate",
          "Sodium Citrate",
          "Sodium Citrate"
         ],
         "yaxis": "y"
        },
        {
         "hovertemplate": "Ingredients=%{y}<br>Product=%{x}<extra></extra>",
         "legendgroup": "Aspartame",
         "marker": {
          "color": "#B6E880",
          "symbol": "circle"
         },
         "mode": "markers",
         "name": "Aspartame",
         "showlegend": true,
         "type": "scattergl",
         "x": [
          "Coca - Cola Zero Sugar Soft Drink Multipack Cans",
          "Coca - Cola Zero Sugar Soft Drink Multipack Cans",
          "Coca - Cola Zero Sugar Soft Drink Multipack Cans",
          "Coca - Cola Caffeine Free Zero Sugar Soft Drink Multipack Cans",
          "Coca - Cola Zero Sugar Soft Drink Mini Cans",
          "Schweppes Zero Sugar Classic Mixers Indian Tonic Water Bottle"
         ],
         "xaxis": "x",
         "y": [
          "Aspartame",
          "Aspartame",
          "Aspartame",
          "Aspartame",
          "Aspartame",
          "Aspartame"
         ],
         "yaxis": "y"
        },
        {
         "hovertemplate": "Ingredients=%{y}<br>Product=%{x}<extra></extra>",
         "legendgroup": "Acesulfame Potassium",
         "marker": {
          "color": "#FF97FF",
          "symbol": "circle"
         },
         "mode": "markers",
         "name": "Acesulfame Potassium",
         "showlegend": true,
         "type": "scattergl",
         "x": [
          "Coca - Cola Zero Sugar Soft Drink Multipack Cans",
          "Coca - Cola Zero Sugar Soft Drink Multipack Cans",
          "Coca - Cola Zero Sugar Soft Drink Multipack Cans",
          "Coca - Cola Caffeine Free Zero Sugar Soft Drink Multipack Cans",
          "Coca - Cola Zero Sugar Soft Drink Mini Cans",
          "Schweppes Zero Sugar Classic Mixers Indian Tonic Water Bottle"
         ],
         "xaxis": "x",
         "y": [
          "Acesulfame Potassium",
          "Acesulfame Potassium",
          "Acesulfame Potassium",
          "Acesulfame Potassium",
          "Acesulfame Potassium",
          "Acesulfame Potassium"
         ],
         "yaxis": "y"
        },
        {
         "hovertemplate": "Ingredients=%{y}<br>Product=%{x}<extra></extra>",
         "legendgroup": "Sweetener 952",
         "marker": {
          "color": "#FECB52",
          "symbol": "circle"
         },
         "mode": "markers",
         "name": "Sweetener 952",
         "showlegend": true,
         "type": "scattergl",
         "x": [
          "Coca - Cola Caffeine Free Zero Sugar Soft Drink Multipack Cans"
         ],
         "xaxis": "x",
         "y": [
          "Sweetener 952"
         ],
         "yaxis": "y"
        },
        {
         "hovertemplate": "Ingredients=%{y}<br>Product=%{x}<extra></extra>",
         "legendgroup": "Wheat Flour",
         "marker": {
          "color": "#636efa",
          "symbol": "circle"
         },
         "mode": "markers",
         "name": "Wheat Flour",
         "showlegend": true,
         "type": "scattergl",
         "x": [
          "Indomie Mi Goreng Instant Noodles",
          "Maggi 2 Minute Chicken Flavour Instant Noodles",
          "Maggi 2 Minute Chicken Flavour Instant Noodles",
          "Supreme Noodles Cup Chicken Flavour",
          "Fantastic Chicken Noodle Cup",
          "Fantastic Chicken Noodle Bowl",
          "Indomie Mi Goreng Noodle Cup",
          "Maggi 2 Minute Beef Flavour Instant Noodles",
          "Supreme Noodles Cup Beef Flavour",
          "Kitkat 4 Finger Milk Chocolate Bar",
          "Kitkat Chunky Original Chocolate Bar",
          "Cadbury Chomp Chocolate Bar",
          "Arnott's Premier Chocolate Chip Cookies",
          "Woolworths Chocolate Chip Cookies",
          "Woolworths The King Of Chunky Chocolate Chip Cookies",
          "Arnott's Mini Choc Chip Cookie Multipack Biscuits",
          "Oreo Original Mini Cookies Multipack",
          "Oreo Minis Cookies Variety Bags 18 Pack",
          "Cadbury Classic Choc Chip Cookies",
          "Cadbury Choc Centre Cookies",
          "Byron Bay Cookies Dotty Cookie Bites",
          "Oreo Original Cookies",
          "Oreo Double Stuff Cookies",
          "Oreo Original Cookies Family Pack",
          "Oreo Chocolate Cookies",
          "Oreo Grab & Go Original Cookies 9 Pack",
          "Oreo Neapolitan Double Stuff Cookies"
         ],
         "xaxis": "x",
         "y": [
          "Wheat Flour",
          "Wheat Flour",
          "Wheat Flour",
          "Wheat Flour",
          "Wheat Flour",
          "Wheat Flour",
          "Wheat Flour",
          "Wheat Flour",
          "Wheat Flour",
          "Wheat Flour",
          "Wheat Flour",
          "Wheat Flour",
          "Wheat Flour",
          "Wheat Flour",
          "Wheat Flour",
          "Wheat Flour",
          "Wheat Flour",
          "Wheat Flour",
          "Wheat Flour",
          "Wheat Flour",
          "Wheat Flour",
          "Wheat Flour",
          "Wheat Flour",
          "Wheat Flour",
          "Wheat Flour",
          "Wheat Flour",
          "Wheat Flour"
         ],
         "yaxis": "y"
        },
        {
         "hovertemplate": "Ingredients=%{y}<br>Product=%{x}<extra></extra>",
         "legendgroup": "Refined Palm Oil",
         "marker": {
          "color": "#EF553B",
          "symbol": "circle"
         },
         "mode": "markers",
         "name": "Refined Palm Oil",
         "showlegend": true,
         "type": "scattergl",
         "x": [
          "Indomie Mi Goreng Instant Noodles",
          "Indomie Mi Goreng Noodle Cup"
         ],
         "xaxis": "x",
         "y": [
          "Refined Palm Oil",
          "Refined Palm Oil"
         ],
         "yaxis": "y"
        },
        {
         "hovertemplate": "Ingredients=%{y}<br>Product=%{x}<extra></extra>",
         "legendgroup": "Salt",
         "marker": {
          "color": "#00cc96",
          "symbol": "circle"
         },
         "mode": "markers",
         "name": "Salt",
         "showlegend": true,
         "type": "scattergl",
         "x": [
          "Indomie Mi Goreng Instant Noodles",
          "Maggi 2 Minute Chicken Flavour Instant Noodles",
          "Maggi 2 Minute Chicken Flavour Instant Noodles",
          "Supreme Noodles Cup Chicken Flavour",
          "Fantastic Chicken Noodle Cup",
          "Fantastic Chicken Noodle Bowl",
          "Indomie Mi Goreng Noodle Cup",
          "Maggi 2 Minute Beef Flavour Instant Noodles",
          "Supreme Noodles Cup Beef Flavour",
          "Kitkat 4 Finger Milk Chocolate Bar",
          "Kitkat Chunky Original Chocolate Bar",
          "Cadbury Dairy Milk Caramello Koala Chocolate",
          "Mars Chocolate Bar With Nougat & Caramel",
          "Cadbury Chomp Chocolate Bar",
          "Arnott's Premier Chocolate Chip Cookies",
          "Woolworths Chocolate Chip Cookies",
          "Woolworths The King Of Chunky Chocolate Chip Cookies",
          "Arnott's Mini Choc Chip Cookie Multipack Biscuits",
          "Oreo Original Mini Cookies Multipack",
          "Oreo Minis Cookies Variety Bags 18 Pack",
          "Cadbury Classic Choc Chip Cookies",
          "Cadbury Choc Centre Cookies",
          "Byron Bay Cookies Dotty Cookie Bites",
          "Oreo Original Cookies",
          "Oreo Double Stuff Cookies",
          "Oreo Original Cookies Family Pack",
          "Oreo Chocolate Cookies",
          "Oreo Grab & Go Original Cookies 9 Pack",
          "Deep Cove Sardines In Oil",
          "Woolworths Creamed Rice",
          "Woolworths Tomato Sauce Squeeze",
          "Woolworths Tomato Sauce",
          "Woolworths Barbecue Sauce Squeeze",
          "Masterfoods Tomato Sauce",
          "Masterfoods Barbecue Sauce",
          "Fountain Tomato Sauce Squeeze",
          "Fountain Barbecue Bbq Sauce Squeeze",
          "Woolworths Secret Burger Sauce",
          "Heinz Ketchup Tomato Sauce Ketchup",
          "Woolworths Barbecue Sauce",
          "Smith's Crinkle Cut Potato Chips Original",
          "Smith's Crinkle Cut Potato Chips Cheese & Onion",
          "Smith's Crinkle Cut Potato Chips Barbecue",
          "Smith's Crinkle Cut Potato Chips Chicken",
          "Thins Chips Salt & Vinegar",
          "Smith's Thinly Cut Potato Chips Original Share Pack",
          "Thins Chips Chicken",
          "Smith's Crinkle Cut Potato Chips Salt & Vinegar",
          "Thins Chips Light & Tangy",
          "Thins Cheese & Onion Chips"
         ],
         "xaxis": "x",
         "y": [
          "Salt",
          "Salt",
          "Salt",
          "Salt",
          "Salt",
          "Salt",
          "Salt",
          "Salt",
          "Salt",
          "Salt",
          "Salt",
          "Salt",
          "Salt",
          "Salt",
          "Salt",
          "Salt",
          "Salt",
          "Salt",
          "Salt",
          "Salt",
          "Salt",
          "Salt",
          "Salt",
          "Salt",
          "Salt",
          "Salt",
          "Salt",
          "Salt",
          "Salt",
          "Salt",
          "Salt",
          "Salt",
          "Salt",
          "Salt",
          "Salt",
          "Salt",
          "Salt",
          "Salt",
          "Salt",
          "Salt",
          "Salt",
          "Salt",
          "Salt",
          "Salt",
          "Salt",
          "Salt",
          "Salt",
          "Salt",
          "Salt",
          "Salt"
         ],
         "yaxis": "y"
        },
        {
         "hovertemplate": "Ingredients=%{y}<br>Product=%{x}<extra></extra>",
         "legendgroup": "Acidity Regulator 451",
         "marker": {
          "color": "#ab63fa",
          "symbol": "circle"
         },
         "mode": "markers",
         "name": "Acidity Regulator 451",
         "showlegend": true,
         "type": "scattergl",
         "x": [
          "Indomie Mi Goreng Instant Noodles",
          "Indomie Mi Goreng Noodle Cup"
         ],
         "xaxis": "x",
         "y": [
          "Acidity Regulator 451",
          "Acidity Regulator 451"
         ],
         "yaxis": "y"
        },
        {
         "hovertemplate": "Ingredients=%{y}<br>Product=%{x}<extra></extra>",
         "legendgroup": "Acidity Regulator 501",
         "marker": {
          "color": "#FFA15A",
          "symbol": "circle"
         },
         "mode": "markers",
         "name": "Acidity Regulator 501",
         "showlegend": true,
         "type": "scattergl",
         "x": [
          "Indomie Mi Goreng Instant Noodles",
          "Indomie Mi Goreng Noodle Cup"
         ],
         "xaxis": "x",
         "y": [
          "Acidity Regulator 501",
          "Acidity Regulator 501"
         ],
         "yaxis": "y"
        },
        {
         "hovertemplate": "Ingredients=%{y}<br>Product=%{x}<extra></extra>",
         "legendgroup": "Sodium Bicarbonate",
         "marker": {
          "color": "#19d3f3",
          "symbol": "circle"
         },
         "mode": "markers",
         "name": "Sodium Bicarbonate",
         "showlegend": true,
         "type": "scattergl",
         "x": [
          "Indomie Mi Goreng Instant Noodles",
          "Indomie Mi Goreng Noodle Cup",
          "Kitkat 4 Finger Milk Chocolate Bar",
          "Kitkat Chunky Original Chocolate Bar",
          "Cadbury Chomp Chocolate Bar",
          "Oreo Original Mini Cookies Multipack",
          "Oreo Minis Cookies Variety Bags 18 Pack",
          "Cadbury Classic Choc Chip Cookies",
          "Cadbury Choc Centre Cookies",
          "Byron Bay Cookies Dotty Cookie Bites",
          "Oreo Original Cookies",
          "Oreo Double Stuff Cookies",
          "Oreo Original Cookies Family Pack",
          "Oreo Chocolate Cookies",
          "Oreo Grab & Go Original Cookies 9 Pack",
          "Oreo Neapolitan Double Stuff Cookies"
         ],
         "xaxis": "x",
         "y": [
          "Sodium Bicarbonate",
          "Sodium Bicarbonate",
          "Sodium Bicarbonate",
          "Sodium Bicarbonate",
          "Sodium Bicarbonate",
          "Sodium Bicarbonate",
          "Sodium Bicarbonate",
          "Sodium Bicarbonate",
          "Sodium Bicarbonate",
          "Sodium Bicarbonate",
          "Sodium Bicarbonate",
          "Sodium Bicarbonate",
          "Sodium Bicarbonate",
          "Sodium Bicarbonate",
          "Sodium Bicarbonate",
          "Sodium Bicarbonate"
         ],
         "yaxis": "y"
        },
        {
         "hovertemplate": "Ingredients=%{y}<br>Product=%{x}<extra></extra>",
         "legendgroup": "Guar Gum",
         "marker": {
          "color": "#FF6692",
          "symbol": "circle"
         },
         "mode": "markers",
         "name": "Guar Gum",
         "showlegend": true,
         "type": "scattergl",
         "x": [
          "Indomie Mi Goreng Instant Noodles",
          "Maggi 2 Minute Chicken Flavour Instant Noodles",
          "Maggi 2 Minute Chicken Flavour Instant Noodles",
          "Fantastic Chicken Noodle Bowl",
          "Indomie Mi Goreng Noodle Cup",
          "Maggi 2 Minute Beef Flavour Instant Noodles",
          "Essentials Coconut Cream",
          "Essentials Coconut Milk"
         ],
         "xaxis": "x",
         "y": [
          "Guar Gum",
          "Guar Gum",
          "Guar Gum",
          "Guar Gum",
          "Guar Gum",
          "Guar Gum",
          "Guar Gum",
          "Guar Gum"
         ],
         "yaxis": "y"
        },
        {
         "hovertemplate": "Ingredients=%{y}<br>Product=%{x}<extra></extra>",
         "legendgroup": "Colour 101",
         "marker": {
          "color": "#B6E880",
          "symbol": "circle"
         },
         "mode": "markers",
         "name": "Colour 101",
         "showlegend": true,
         "type": "scattergl",
         "x": [
          "Indomie Mi Goreng Instant Noodles",
          "Indomie Mi Goreng Noodle Cup"
         ],
         "xaxis": "x",
         "y": [
          "Colour 101",
          "Colour 101"
         ],
         "yaxis": "y"
        },
        {
         "hovertemplate": "Ingredients=%{y}<br>Product=%{x}<extra></extra>",
         "legendgroup": "Seasoning Powder",
         "marker": {
          "color": "#FF97FF",
          "symbol": "circle"
         },
         "mode": "markers",
         "name": "Seasoning Powder",
         "showlegend": true,
         "type": "scattergl",
         "x": [
          "Indomie Mi Goreng Instant Noodles",
          "Indomie Mi Goreng Noodle Cup"
         ],
         "xaxis": "x",
         "y": [
          "Seasoning Powder",
          "Seasoning Powder"
         ],
         "yaxis": "y"
        },
        {
         "hovertemplate": "Ingredients=%{y}<br>Product=%{x}<extra></extra>",
         "legendgroup": "Flavour Enhancer 621",
         "marker": {
          "color": "#FECB52",
          "symbol": "circle"
         },
         "mode": "markers",
         "name": "Flavour Enhancer 621",
         "showlegend": true,
         "type": "scattergl",
         "x": [
          "Indomie Mi Goreng Instant Noodles",
          "Maggi 2 Minute Chicken Flavour Instant Noodles",
          "Maggi 2 Minute Chicken Flavour Instant Noodles",
          "Supreme Noodles Cup Chicken Flavour",
          "Fantastic Chicken Noodle Cup",
          "Fantastic Chicken Noodle Bowl",
          "Indomie Mi Goreng Noodle Cup",
          "Maggi 2 Minute Beef Flavour Instant Noodles",
          "Supreme Noodles Cup Beef Flavour",
          "Smith's Crinkle Cut Potato Chips Cheese & Onion",
          "Smith's Crinkle Cut Potato Chips Barbecue",
          "Smith's Crinkle Cut Potato Chips Chicken",
          "Thins Chips Salt & Vinegar",
          "Thins Chips Chicken",
          "Smith's Crinkle Cut Potato Chips Salt & Vinegar",
          "Thins Cheese & Onion Chips"
         ],
         "xaxis": "x",
         "y": [
          "Flavour Enhancer 621",
          "Flavour Enhancer 621",
          "Flavour Enhancer 621",
          "Flavour Enhancer 621",
          "Flavour Enhancer 621",
          "Flavour Enhancer 621",
          "Flavour Enhancer 621",
          "Flavour Enhancer 621",
          "Flavour Enhancer 621",
          "Flavour Enhancer 621",
          "Flavour Enhancer 621",
          "Flavour Enhancer 621",
          "Flavour Enhancer 621",
          "Flavour Enhancer 621",
          "Flavour Enhancer 621",
          "Flavour Enhancer 621"
         ],
         "yaxis": "y"
        },
        {
         "hovertemplate": "Ingredients=%{y}<br>Product=%{x}<extra></extra>",
         "legendgroup": "Disodium Guanylate",
         "marker": {
          "color": "#636efa",
          "symbol": "circle"
         },
         "mode": "markers",
         "name": "Disodium Guanylate",
         "showlegend": true,
         "type": "scattergl",
         "x": [
          "Indomie Mi Goreng Instant Noodles",
          "Fantastic Chicken Noodle Bowl",
          "Indomie Mi Goreng Noodle Cup"
         ],
         "xaxis": "x",
         "y": [
          "Disodium Guanylate",
          "Disodium Guanylate",
          "Disodium Guanylate"
         ],
         "yaxis": "y"
        },
        {
         "hovertemplate": "Ingredients=%{y}<br>Product=%{x}<extra></extra>",
         "legendgroup": "Garlic Powder",
         "marker": {
          "color": "#EF553B",
          "symbol": "circle"
         },
         "mode": "markers",
         "name": "Garlic Powder",
         "showlegend": true,
         "type": "scattergl",
         "x": [
          "Indomie Mi Goreng Instant Noodles",
          "Indomie Mi Goreng Noodle Cup",
          "Supreme Noodles Cup Beef Flavour",
          "Smith's Crinkle Cut Potato Chips Barbecue"
         ],
         "xaxis": "x",
         "y": [
          "Garlic Powder",
          "Garlic Powder",
          "Garlic Powder",
          "Garlic Powder"
         ],
         "yaxis": "y"
        },
        {
         "hovertemplate": "Ingredients=%{y}<br>Product=%{x}<extra></extra>",
         "legendgroup": "Onion Powder",
         "marker": {
          "color": "#00cc96",
          "symbol": "circle"
         },
         "mode": "markers",
         "name": "Onion Powder",
         "showlegend": true,
         "type": "scattergl",
         "x": [
          "Indomie Mi Goreng Instant Noodles",
          "Maggi 2 Minute Chicken Flavour Instant Noodles",
          "Supreme Noodles Cup Chicken Flavour",
          "Fantastic Chicken Noodle Cup",
          "Indomie Mi Goreng Noodle Cup",
          "Woolworths Secret Burger Sauce",
          "Smith's Crinkle Cut Potato Chips Cheese & Onion",
          "Smith's Crinkle Cut Potato Chips Barbecue",
          "Smith's Crinkle Cut Potato Chips Chicken",
          "Thins Chips Chicken",
          "Thins Chips Light & Tangy",
          "Thins Cheese & Onion Chips"
         ],
         "xaxis": "x",
         "y": [
          "Onion Powder",
          "Onion Powder",
          "Onion Powder",
          "Onion Powder",
          "Onion Powder",
          "Onion Powder",
          "Onion Powder",
          "Onion Powder",
          "Onion Powder",
          "Onion Powder",
          "Onion Powder",
          "Onion Powder"
         ],
         "yaxis": "y"
        },
        {
         "hovertemplate": "Ingredients=%{y}<br>Product=%{x}<extra></extra>",
         "legendgroup": "Yeast Extract",
         "marker": {
          "color": "#ab63fa",
          "symbol": "circle"
         },
         "mode": "markers",
         "name": "Yeast Extract",
         "showlegend": true,
         "type": "scattergl",
         "x": [
          "Indomie Mi Goreng Instant Noodles",
          "Supreme Noodles Cup Chicken Flavour",
          "Fantastic Chicken Noodle Cup",
          "Fantastic Chicken Noodle Bowl",
          "Indomie Mi Goreng Noodle Cup",
          "Maggi 2 Minute Beef Flavour Instant Noodles",
          "Masterfoods Barbecue Sauce",
          "Smith's Crinkle Cut Potato Chips Cheese & Onion",
          "Smith's Crinkle Cut Potato Chips Chicken",
          "Thins Cheese & Onion Chips"
         ],
         "xaxis": "x",
         "y": [
          "Yeast Extract",
          "Yeast Extract",
          "Yeast Extract",
          "Yeast Extract",
          "Yeast Extract",
          "Yeast Extract",
          "Yeast Extract",
          "Yeast Extract",
          "Yeast Extract",
          "Yeast Extract"
         ],
         "yaxis": "y"
        },
        {
         "hovertemplate": "Ingredients=%{y}<br>Product=%{x}<extra></extra>",
         "legendgroup": "Artificial Flavour",
         "marker": {
          "color": "#FFA15A",
          "symbol": "circle"
         },
         "mode": "markers",
         "name": "Artificial Flavour",
         "showlegend": true,
         "type": "scattergl",
         "x": [
          "Indomie Mi Goreng Instant Noodles",
          "Indomie Mi Goreng Noodle Cup"
         ],
         "xaxis": "x",
         "y": [
          "Artificial Flavour",
          "Artificial Flavour"
         ],
         "yaxis": "y"
        },
        {
         "hovertemplate": "Ingredients=%{y}<br>Product=%{x}<extra></extra>",
         "legendgroup": "Pepper",
         "marker": {
          "color": "#19d3f3",
          "symbol": "circle"
         },
         "mode": "markers",
         "name": "Pepper",
         "showlegend": true,
         "type": "scattergl",
         "x": [
          "Indomie Mi Goreng Instant Noodles",
          "Indomie Mi Goreng Noodle Cup",
          "Masterfoods Barbecue Sauce",
          "Thins Chips Chicken"
         ],
         "xaxis": "x",
         "y": [
          "Pepper",
          "Pepper",
          "Pepper",
          "Pepper"
         ],
         "yaxis": "y"
        },
        {
         "hovertemplate": "Ingredients=%{y}<br>Product=%{x}<extra></extra>",
         "legendgroup": "Anti Caking Agent 551",
         "marker": {
          "color": "#FF6692",
          "symbol": "circle"
         },
         "mode": "markers",
         "name": "Anti Caking Agent 551",
         "showlegend": true,
         "type": "scattergl",
         "x": [
          "Indomie Mi Goreng Instant Noodles",
          "Fantastic Chicken Noodle Bowl",
          "Indomie Mi Goreng Noodle Cup"
         ],
         "xaxis": "x",
         "y": [
          "Anti Caking Agent 551",
          "Anti Caking Agent 551",
          "Anti Caking Agent 551"
         ],
         "yaxis": "y"
        },
        {
         "hovertemplate": "Ingredients=%{y}<br>Product=%{x}<extra></extra>",
         "legendgroup": "Seasoning Oil",
         "marker": {
          "color": "#B6E880",
          "symbol": "circle"
         },
         "mode": "markers",
         "name": "Seasoning Oil",
         "showlegend": true,
         "type": "scattergl",
         "x": [
          "Indomie Mi Goreng Instant Noodles",
          "Indomie Mi Goreng Noodle Cup"
         ],
         "xaxis": "x",
         "y": [
          "Seasoning Oil",
          "Seasoning Oil"
         ],
         "yaxis": "y"
        },
        {
         "hovertemplate": "Ingredients=%{y}<br>Product=%{x}<extra></extra>",
         "legendgroup": "Onion",
         "marker": {
          "color": "#FF97FF",
          "symbol": "circle"
         },
         "mode": "markers",
         "name": "Onion",
         "showlegend": true,
         "type": "scattergl",
         "x": [
          "Indomie Mi Goreng Instant Noodles",
          "Maggi 2 Minute Chicken Flavour Instant Noodles",
          "Indomie Mi Goreng Noodle Cup",
          "Maggi 2 Minute Beef Flavour Instant Noodles",
          "Masterfoods Tomato Sauce",
          "Masterfoods Barbecue Sauce"
         ],
         "xaxis": "x",
         "y": [
          "Onion",
          "Onion",
          "Onion",
          "Onion",
          "Onion",
          "Onion"
         ],
         "yaxis": "y"
        },
        {
         "hovertemplate": "Ingredients=%{y}<br>Product=%{x}<extra></extra>",
         "legendgroup": "Sweet Soy Sauce",
         "marker": {
          "color": "#FECB52",
          "symbol": "circle"
         },
         "mode": "markers",
         "name": "Sweet Soy Sauce",
         "showlegend": true,
         "type": "scattergl",
         "x": [
          "Indomie Mi Goreng Instant Noodles",
          "Indomie Mi Goreng Noodle Cup"
         ],
         "xaxis": "x",
         "y": [
          "Sweet Soy Sauce",
          "Sweet Soy Sauce"
         ],
         "yaxis": "y"
        },
        {
         "hovertemplate": "Ingredients=%{y}<br>Product=%{x}<extra></extra>",
         "legendgroup": "Water",
         "marker": {
          "color": "#636efa",
          "symbol": "circle"
         },
         "mode": "markers",
         "name": "Water",
         "showlegend": true,
         "type": "scattergl",
         "x": [
          "Indomie Mi Goreng Instant Noodles",
          "Indomie Mi Goreng Noodle Cup",
          "Golden Circle Golden Pash Fruit Drink",
          "Golden Circle Drinks Pine Orange Fruit Drink",
          "Golden Circle Drinks Sunshine Punch Fruit Drink",
          "Golden Circle Fruit Drinks Lunch Box Poppers Tropical Punch Multipack",
          "Essentials Coconut Cream",
          "Deep Cove Sardines In Oil",
          "Essentials Coconut Milk",
          "Masterfoods Barbecue Sauce",
          "Woolworths Secret Burger Sauce",
          "Woolworths Peach In Strawberry Jelly",
          "Woolworths Two Fruits In Juice Cups",
          "Woolworths Two Fruits In Juice",
          "Woolworths Two Fruits In Tropical Jelly",
          "Woolworths Apple In Pineapple Jelly",
          "Dole Pineapple Slices In Syrup",
          "Dole Pineapple Chunks In Juice"
         ],
         "xaxis": "x",
         "y": [
          "Water",
          "Water",
          "Water",
          "Water",
          "Water",
          "Water",
          "Water",
          "Water",
          "Water",
          "Water",
          "Water",
          "Water",
          "Water",
          "Water",
          "Water",
          "Water",
          "Water",
          "Water"
         ],
         "yaxis": "y"
        },
        {
         "hovertemplate": "Ingredients=%{y}<br>Product=%{x}<extra></extra>",
         "legendgroup": "Wheat",
         "marker": {
          "color": "#EF553B",
          "symbol": "circle"
         },
         "mode": "markers",
         "name": "Wheat",
         "showlegend": true,
         "type": "scattergl",
         "x": [
          "Indomie Mi Goreng Instant Noodles",
          "Indomie Mi Goreng Noodle Cup",
          "Maggi 2 Minute Beef Flavour Instant Noodles",
          "Supreme Noodles Cup Beef Flavour",
          "Kitkat 4 Finger Milk Chocolate Bar",
          "Kitkat Chunky Original Chocolate Bar",
          "Woolworths Chocolate Chip Cookies"
         ],
         "xaxis": "x",
         "y": [
          "Wheat",
          "Wheat",
          "Wheat",
          "Wheat",
          "Wheat",
          "Wheat",
          "Wheat"
         ],
         "yaxis": "y"
        },
        {
         "hovertemplate": "Ingredients=%{y}<br>Product=%{x}<extra></extra>",
         "legendgroup": "Soy Bean",
         "marker": {
          "color": "#00cc96",
          "symbol": "circle"
         },
         "mode": "markers",
         "name": "Soy Bean",
         "showlegend": true,
         "type": "scattergl",
         "x": [
          "Indomie Mi Goreng Instant Noodles",
          "Indomie Mi Goreng Noodle Cup"
         ],
         "xaxis": "x",
         "y": [
          "Soy Bean",
          "Soy Bean"
         ],
         "yaxis": "y"
        },
        {
         "hovertemplate": "Ingredients=%{y}<br>Product=%{x}<extra></extra>",
         "legendgroup": "Spices",
         "marker": {
          "color": "#ab63fa",
          "symbol": "circle"
         },
         "mode": "markers",
         "name": "Spices",
         "showlegend": true,
         "type": "scattergl",
         "x": [
          "Indomie Mi Goreng Instant Noodles",
          "Indomie Mi Goreng Noodle Cup",
          "Woolworths Barbecue Sauce Squeeze",
          "Fountain Barbecue Bbq Sauce Squeeze",
          "Woolworths Barbecue Sauce"
         ],
         "xaxis": "x",
         "y": [
          "Spices",
          "Spices",
          "Spices",
          "Spices",
          "Spices"
         ],
         "yaxis": "y"
        },
        {
         "hovertemplate": "Ingredients=%{y}<br>Product=%{x}<extra></extra>",
         "legendgroup": "Sesame Oil",
         "marker": {
          "color": "#FFA15A",
          "symbol": "circle"
         },
         "mode": "markers",
         "name": "Sesame Oil",
         "showlegend": true,
         "type": "scattergl",
         "x": [
          "Indomie Mi Goreng Instant Noodles",
          "Indomie Mi Goreng Noodle Cup"
         ],
         "xaxis": "x",
         "y": [
          "Sesame Oil",
          "Sesame Oil"
         ],
         "yaxis": "y"
        },
        {
         "hovertemplate": "Ingredients=%{y}<br>Product=%{x}<extra></extra>",
         "legendgroup": "Chilli Sauce",
         "marker": {
          "color": "#19d3f3",
          "symbol": "circle"
         },
         "mode": "markers",
         "name": "Chilli Sauce",
         "showlegend": true,
         "type": "scattergl",
         "x": [
          "Indomie Mi Goreng Instant Noodles",
          "Indomie Mi Goreng Noodle Cup"
         ],
         "xaxis": "x",
         "y": [
          "Chilli Sauce",
          "Chilli Sauce"
         ],
         "yaxis": "y"
        },
        {
         "hovertemplate": "Ingredients=%{y}<br>Product=%{x}<extra></extra>",
         "legendgroup": "Chilli",
         "marker": {
          "color": "#FF6692",
          "symbol": "circle"
         },
         "mode": "markers",
         "name": "Chilli",
         "showlegend": true,
         "type": "scattergl",
         "x": [
          "Indomie Mi Goreng Instant Noodles",
          "Indomie Mi Goreng Noodle Cup"
         ],
         "xaxis": "x",
         "y": [
          "Chilli",
          "Chilli"
         ],
         "yaxis": "y"
        },
        {
         "hovertemplate": "Ingredients=%{y}<br>Product=%{x}<extra></extra>",
         "legendgroup": "Tapioca Starch",
         "marker": {
          "color": "#B6E880",
          "symbol": "circle"
         },
         "mode": "markers",
         "name": "Tapioca Starch",
         "showlegend": true,
         "type": "scattergl",
         "x": [
          "Indomie Mi Goreng Instant Noodles",
          "Indomie Mi Goreng Noodle Cup"
         ],
         "xaxis": "x",
         "y": [
          "Tapioca Starch",
          "Tapioca Starch"
         ],
         "yaxis": "y"
        },
        {
         "hovertemplate": "Ingredients=%{y}<br>Product=%{x}<extra></extra>",
         "legendgroup": "Acetic Acid",
         "marker": {
          "color": "#FF97FF",
          "symbol": "circle"
         },
         "mode": "markers",
         "name": "Acetic Acid",
         "showlegend": true,
         "type": "scattergl",
         "x": [
          "Indomie Mi Goreng Instant Noodles",
          "Indomie Mi Goreng Noodle Cup",
          "Woolworths Tomato Sauce Squeeze",
          "Woolworths Tomato Sauce",
          "Woolworths Barbecue Sauce Squeeze",
          "Masterfoods Tomato Sauce",
          "Masterfoods Barbecue Sauce",
          "Fountain Tomato Sauce Squeeze",
          "Fountain Barbecue Bbq Sauce Squeeze",
          "Woolworths Barbecue Sauce",
          "Thins Chips Salt & Vinegar"
         ],
         "xaxis": "x",
         "y": [
          "Acetic Acid",
          "Acetic Acid",
          "Acetic Acid",
          "Acetic Acid",
          "Acetic Acid",
          "Acetic Acid",
          "Acetic Acid",
          "Acetic Acid",
          "Acetic Acid",
          "Acetic Acid",
          "Acetic Acid"
         ],
         "yaxis": "y"
        },
        {
         "hovertemplate": "Ingredients=%{y}<br>Product=%{x}<extra></extra>",
         "legendgroup": "Citric Acid",
         "marker": {
          "color": "#FECB52",
          "symbol": "circle"
         },
         "mode": "markers",
         "name": "Citric Acid",
         "showlegend": true,
         "type": "scattergl",
         "x": [
          "Indomie Mi Goreng Instant Noodles",
          "Indomie Mi Goreng Noodle Cup",
          "Maggi 2 Minute Beef Flavour Instant Noodles",
          "Schweppes Zero Sugar Lime Infused Mineral Water Bottle",
          "Schweppes Raspberry Infused Natural Mineral Water Bottle",
          "Schweppes Indian Tonic Water Classic Mixers Bottle",
          "Schweppes Zero Sugar Classic Mixers Indian Tonic Water Bottle",
          "Schweppes Lemon Lime Natural Mineral Water Bottle",
          "Schweppes Orange Mango Natural Mineral Water Bottle",
          "Cadbury Chomp Chocolate Bar",
          "Oreo Minis Cookies Variety Bags 18 Pack",
          "Cadbury Choc Centre Cookies",
          "Woolworths Apple Juice",
          "Woolworths Apple & Mango Juice",
          "Woolworths Orange Juice",
          "Woolworths Breakfast Juice",
          "Woolworths Apple & Blackcurrant Juice",
          "Woolworths Multivitamin Juice",
          "Golden Circle Golden Pash Fruit Drink",
          "Golden Circle Drinks Pine Orange Fruit Drink",
          "Golden Circle Drinks Sunshine Punch Fruit Drink",
          "Golden Circle Fruit Drinks Lunch Box Poppers Tropical Punch Multipack",
          "Oreo Neapolitan Double Stuff Cookies",
          "Woolworths Diced Italian Tomatoes",
          "Woolworths Diced Italian Tomatoes",
          "Woolworths Tomato Sauce Squeeze",
          "Woolworths Tomato Sauce",
          "Woolworths Barbecue Sauce Squeeze",
          "Masterfoods Tomato Sauce",
          "Masterfoods Barbecue Sauce",
          "Woolworths Secret Burger Sauce",
          "Heinz Ketchup Tomato Sauce Ketchup",
          "Woolworths Barbecue Sauce",
          "Smith's Crinkle Cut Potato Chips Original",
          "Smith's Crinkle Cut Potato Chips Cheese & Onion",
          "Smith's Crinkle Cut Potato Chips Barbecue",
          "Smith's Crinkle Cut Potato Chips Chicken",
          "Smith's Thinly Cut Potato Chips Original Share Pack",
          "Thins Chips Chicken",
          "Smith's Crinkle Cut Potato Chips Salt & Vinegar",
          "Woolworths Peach In Strawberry Jelly",
          "Woolworths Two Fruits In Juice Cups",
          "Woolworths Two Fruits In Juice",
          "Woolworths Two Fruits In Juice",
          "Woolworths Two Fruits In Tropical Jelly",
          "Woolworths Apple In Pineapple Jelly",
          "Dole Pineapple Slices In Syrup"
         ],
         "xaxis": "x",
         "y": [
          "Citric Acid",
          "Citric Acid",
          "Citric Acid",
          "Citric Acid",
          "Citric Acid",
          "Citric Acid",
          "Citric Acid",
          "Citric Acid",
          "Citric Acid",
          "Citric Acid",
          "Citric Acid",
          "Citric Acid",
          "Citric Acid",
          "Citric Acid",
          "Citric Acid",
          "Citric Acid",
          "Citric Acid",
          "Citric Acid",
          "Citric Acid",
          "Citric Acid",
          "Citric Acid",
          "Citric Acid",
          "Citric Acid",
          "Citric Acid",
          "Citric Acid",
          "Citric Acid",
          "Citric Acid",
          "Citric Acid",
          "Citric Acid",
          "Citric Acid",
          "Citric Acid",
          "Citric Acid",
          "Citric Acid",
          "Citric Acid",
          "Citric Acid",
          "Citric Acid",
          "Citric Acid",
          "Citric Acid",
          "Citric Acid",
          "Citric Acid",
          "Citric Acid",
          "Citric Acid",
          "Citric Acid",
          "Citric Acid",
          "Citric Acid",
          "Citric Acid",
          "Citric Acid"
         ],
         "yaxis": "y"
        },
        {
         "hovertemplate": "Ingredients=%{y}<br>Product=%{x}<extra></extra>",
         "legendgroup": "Herbs",
         "marker": {
          "color": "#636efa",
          "symbol": "circle"
         },
         "mode": "markers",
         "name": "Herbs",
         "showlegend": true,
         "type": "scattergl",
         "x": [
          "Indomie Mi Goreng Instant Noodles",
          "Supreme Noodles Cup Chicken Flavour",
          "Fantastic Chicken Noodle Cup",
          "Indomie Mi Goreng Noodle Cup"
         ],
         "xaxis": "x",
         "y": [
          "Herbs",
          "Herbs",
          "Herbs",
          "Herbs"
         ],
         "yaxis": "y"
        },
        {
         "hovertemplate": "Ingredients=%{y}<br>Product=%{x}<extra></extra>",
         "legendgroup": "Preservative 1211",
         "marker": {
          "color": "#EF553B",
          "symbol": "circle"
         },
         "mode": "markers",
         "name": "Preservative 1211",
         "showlegend": true,
         "type": "scattergl",
         "x": [
          "Indomie Mi Goreng Instant Noodles",
          "Indomie Mi Goreng Noodle Cup"
         ],
         "xaxis": "x",
         "y": [
          "Preservative 1211",
          "Preservative 1211"
         ],
         "yaxis": "y"
        },
        {
         "hovertemplate": "Ingredients=%{y}<br>Product=%{x}<extra></extra>",
         "legendgroup": "Sodium Metabisulfite",
         "marker": {
          "color": "#00cc96",
          "symbol": "circle"
         },
         "mode": "markers",
         "name": "Sodium Metabisulfite",
         "showlegend": true,
         "type": "scattergl",
         "x": [
          "Indomie Mi Goreng Instant Noodles",
          "Indomie Mi Goreng Noodle Cup",
          "Schweppes Lime Soda Water With Lime Juice Bottle",
          "Schweppes Lemon Lime Natural Mineral Water Bottle",
          "Schweppes Orange Mango Natural Mineral Water Bottle"
         ],
         "xaxis": "x",
         "y": [
          "Sodium Metabisulfite",
          "Sodium Metabisulfite",
          "Sodium Metabisulfite",
          "Sodium Metabisulfite",
          "Sodium Metabisulfite"
         ],
         "yaxis": "y"
        },
        {
         "hovertemplate": "Ingredients=%{y}<br>Product=%{x}<extra></extra>",
         "legendgroup": "Fried Onion",
         "marker": {
          "color": "#ab63fa",
          "symbol": "circle"
         },
         "mode": "markers",
         "name": "Fried Onion",
         "showlegend": true,
         "type": "scattergl",
         "x": [
          "Indomie Mi Goreng Instant Noodles",
          "Indomie Mi Goreng Noodle Cup"
         ],
         "xaxis": "x",
         "y": [
          "Fried Onion",
          "Fried Onion"
         ],
         "yaxis": "y"
        },
        {
         "hovertemplate": "Ingredients=%{y}<br>Product=%{x}<extra></extra>",
         "legendgroup": "TBHQ",
         "marker": {
          "color": "#FFA15A",
          "symbol": "circle"
         },
         "mode": "markers",
         "name": "TBHQ",
         "showlegend": true,
         "type": "scattergl",
         "x": [
          "Indomie Mi Goreng Instant Noodles",
          "Maggi 2 Minute Chicken Flavour Instant Noodles",
          "Maggi 2 Minute Chicken Flavour Instant Noodles",
          "Fantastic Chicken Noodle Bowl",
          "Indomie Mi Goreng Noodle Cup",
          "Maggi 2 Minute Beef Flavour Instant Noodles",
          "Oreo Original Mini Cookies Multipack",
          "Oreo Minis Cookies Variety Bags 18 Pack",
          "Oreo Original Cookies",
          "Oreo Double Stuff Cookies",
          "Oreo Original Cookies Family Pack",
          "Oreo Chocolate Cookies",
          "Oreo Grab & Go Original Cookies 9 Pack",
          "Oreo Neapolitan Double Stuff Cookies"
         ],
         "xaxis": "x",
         "y": [
          "TBHQ",
          "TBHQ",
          "TBHQ",
          "TBHQ",
          "TBHQ",
          "TBHQ",
          "TBHQ",
          "TBHQ",
          "TBHQ",
          "TBHQ",
          "TBHQ",
          "TBHQ",
          "TBHQ",
          "TBHQ"
         ],
         "yaxis": "y"
        },
        {
         "hovertemplate": "Ingredients=%{y}<br>Product=%{x}<extra></extra>",
         "legendgroup": "Disodium Inosinate",
         "marker": {
          "color": "#19d3f3",
          "symbol": "circle"
         },
         "mode": "markers",
         "name": "Disodium Inosinate",
         "showlegend": true,
         "type": "scattergl",
         "x": [
          "Indomie Mi Goreng Instant Noodles",
          "Fantastic Chicken Noodle Bowl",
          "Indomie Mi Goreng Noodle Cup"
         ],
         "xaxis": "x",
         "y": [
          "Disodium Inosinate",
          "Disodium Inosinate",
          "Disodium Inosinate"
         ],
         "yaxis": "y"
        },
        {
         "hovertemplate": "Ingredients=%{y}<br>Product=%{x}<extra></extra>",
         "legendgroup": "Vegetable Oil",
         "marker": {
          "color": "#FF6692",
          "symbol": "circle"
         },
         "mode": "markers",
         "name": "Vegetable Oil",
         "showlegend": true,
         "type": "scattergl",
         "x": [
          "Maggi 2 Minute Chicken Flavour Instant Noodles",
          "Maggi 2 Minute Chicken Flavour Instant Noodles",
          "Supreme Noodles Cup Chicken Flavour",
          "Fantastic Chicken Noodle Cup",
          "Fantastic Chicken Noodle Bowl",
          "Maggi 2 Minute Beef Flavour Instant Noodles",
          "Supreme Noodles Cup Beef Flavour",
          "Mars Chocolate Bar With Nougat & Caramel",
          "Cadbury Chomp Chocolate Bar",
          "Arnott's Premier Chocolate Chip Cookies",
          "Woolworths Chocolate Chip Cookies",
          "Woolworths The King Of Chunky Chocolate Chip Cookies",
          "Arnott's Mini Choc Chip Cookie Multipack Biscuits",
          "Oreo Original Mini Cookies Multipack",
          "Oreo Minis Cookies Variety Bags 18 Pack",
          "Cadbury Classic Choc Chip Cookies",
          "Cadbury Choc Centre Cookies",
          "Byron Bay Cookies Dotty Cookie Bites",
          "Oreo Original Cookies",
          "Oreo Double Stuff Cookies",
          "Oreo Original Cookies Family Pack",
          "Oreo Chocolate Cookies",
          "Oreo Grab & Go Original Cookies 9 Pack",
          "Oreo Neapolitan Double Stuff Cookies",
          "Deep Cove Sardines In Oil",
          "Thins Chips Salt & Vinegar",
          "Thins Chips Chicken",
          "Thins Chips Light & Tangy",
          "Thins Cheese & Onion Chips"
         ],
         "xaxis": "x",
         "y": [
          "Vegetable Oil",
          "Vegetable Oil",
          "Vegetable Oil",
          "Vegetable Oil",
          "Vegetable Oil",
          "Vegetable Oil",
          "Vegetable Oil",
          "Vegetable Oil",
          "Vegetable Oil",
          "Vegetable Oil",
          "Vegetable Oil",
          "Vegetable Oil",
          "Vegetable Oil",
          "Vegetable Oil",
          "Vegetable Oil",
          "Vegetable Oil",
          "Vegetable Oil",
          "Vegetable Oil",
          "Vegetable Oil",
          "Vegetable Oil",
          "Vegetable Oil",
          "Vegetable Oil",
          "Vegetable Oil",
          "Vegetable Oil",
          "Vegetable Oil",
          "Vegetable Oil",
          "Vegetable Oil",
          "Vegetable Oil",
          "Vegetable Oil"
         ],
         "yaxis": "y"
        },
        {
         "hovertemplate": "Ingredients=%{y}<br>Product=%{x}<extra></extra>",
         "legendgroup": "Antioxidant 320",
         "marker": {
          "color": "#B6E880",
          "symbol": "circle"
         },
         "mode": "markers",
         "name": "Antioxidant 320",
         "showlegend": true,
         "type": "scattergl",
         "x": [
          "Maggi 2 Minute Chicken Flavour Instant Noodles",
          "Maggi 2 Minute Chicken Flavour Instant Noodles",
          "Fantastic Chicken Noodle Cup",
          "Maggi 2 Minute Beef Flavour Instant Noodles",
          "Supreme Noodles Cup Beef Flavour"
         ],
         "xaxis": "x",
         "y": [
          "Antioxidant 320",
          "Antioxidant 320",
          "Antioxidant 320",
          "Antioxidant 320",
          "Antioxidant 320"
         ],
         "yaxis": "y"
        },
        {
         "hovertemplate": "Ingredients=%{y}<br>Product=%{x}<extra></extra>",
         "legendgroup": "Mineral Salt 508",
         "marker": {
          "color": "#FF97FF",
          "symbol": "circle"
         },
         "mode": "markers",
         "name": "Mineral Salt 508",
         "showlegend": true,
         "type": "scattergl",
         "x": [
          "Maggi 2 Minute Chicken Flavour Instant Noodles",
          "Maggi 2 Minute Chicken Flavour Instant Noodles",
          "Maggi 2 Minute Beef Flavour Instant Noodles"
         ],
         "xaxis": "x",
         "y": [
          "Mineral Salt 508",
          "Mineral Salt 508",
          "Mineral Salt 508"
         ],
         "yaxis": "y"
        },
        {
         "hovertemplate": "Ingredients=%{y}<br>Product=%{x}<extra></extra>",
         "legendgroup": "Mineral Salt 451",
         "marker": {
          "color": "#FECB52",
          "symbol": "circle"
         },
         "mode": "markers",
         "name": "Mineral Salt 451",
         "showlegend": true,
         "type": "scattergl",
         "x": [
          "Maggi 2 Minute Chicken Flavour Instant Noodles",
          "Maggi 2 Minute Chicken Flavour Instant Noodles",
          "Maggi 2 Minute Beef Flavour Instant Noodles"
         ],
         "xaxis": "x",
         "y": [
          "Mineral Salt 451",
          "Mineral Salt 451",
          "Mineral Salt 451"
         ],
         "yaxis": "y"
        },
        {
         "hovertemplate": "Ingredients=%{y}<br>Product=%{x}<extra></extra>",
         "legendgroup": "Flavour Enhancer 635",
         "marker": {
          "color": "#636efa",
          "symbol": "circle"
         },
         "mode": "markers",
         "name": "Flavour Enhancer 635",
         "showlegend": true,
         "type": "scattergl",
         "x": [
          "Maggi 2 Minute Chicken Flavour Instant Noodles",
          "Maggi 2 Minute Chicken Flavour Instant Noodles",
          "Supreme Noodles Cup Chicken Flavour",
          "Fantastic Chicken Noodle Cup",
          "Maggi 2 Minute Beef Flavour Instant Noodles",
          "Supreme Noodles Cup Beef Flavour",
          "Smith's Crinkle Cut Potato Chips Barbecue",
          "Smith's Crinkle Cut Potato Chips Chicken",
          "Thins Chips Chicken",
          "Thins Chips Light & Tangy",
          "Thins Cheese & Onion Chips"
         ],
         "xaxis": "x",
         "y": [
          "Flavour Enhancer 635",
          "Flavour Enhancer 635",
          "Flavour Enhancer 635",
          "Flavour Enhancer 635",
          "Flavour Enhancer 635",
          "Flavour Enhancer 635",
          "Flavour Enhancer 635",
          "Flavour Enhancer 635",
          "Flavour Enhancer 635",
          "Flavour Enhancer 635",
          "Flavour Enhancer 635"
         ],
         "yaxis": "y"
        },
        {
         "hovertemplate": "Ingredients=%{y}<br>Product=%{x}<extra></extra>",
         "legendgroup": "Iodised Salt",
         "marker": {
          "color": "#EF553B",
          "symbol": "circle"
         },
         "mode": "markers",
         "name": "Iodised Salt",
         "showlegend": true,
         "type": "scattergl",
         "x": [
          "Maggi 2 Minute Chicken Flavour Instant Noodles",
          "Oreo Neapolitan Double Stuff Cookies"
         ],
         "xaxis": "x",
         "y": [
          "Iodised Salt",
          "Iodised Salt"
         ],
         "yaxis": "y"
        },
        {
         "hovertemplate": "Ingredients=%{y}<br>Product=%{x}<extra></extra>",
         "legendgroup": "Maltodextrin",
         "marker": {
          "color": "#00cc96",
          "symbol": "circle"
         },
         "mode": "markers",
         "name": "Maltodextrin",
         "showlegend": true,
         "type": "scattergl",
         "x": [
          "Maggi 2 Minute Chicken Flavour Instant Noodles",
          "Supreme Noodles Cup Chicken Flavour",
          "Fantastic Chicken Noodle Cup",
          "Oreo Neapolitan Double Stuff Cookies",
          "Smith's Crinkle Cut Potato Chips Cheese & Onion",
          "Smith's Crinkle Cut Potato Chips Barbecue",
          "Smith's Crinkle Cut Potato Chips Chicken"
         ],
         "xaxis": "x",
         "y": [
          "Maltodextrin",
          "Maltodextrin",
          "Maltodextrin",
          "Maltodextrin",
          "Maltodextrin",
          "Maltodextrin",
          "Maltodextrin"
         ],
         "yaxis": "y"
        },
        {
         "hovertemplate": "Ingredients=%{y}<br>Product=%{x}<extra></extra>",
         "legendgroup": "Flavours Wheat",
         "marker": {
          "color": "#ab63fa",
          "symbol": "circle"
         },
         "mode": "markers",
         "name": "Flavours Wheat",
         "showlegend": true,
         "type": "scattergl",
         "x": [
          "Maggi 2 Minute Chicken Flavour Instant Noodles",
          "Maggi 2 Minute Chicken Flavour Instant Noodles",
          "Fantastic Chicken Noodle Bowl"
         ],
         "xaxis": "x",
         "y": [
          "Flavours Wheat",
          "Flavours Wheat",
          "Flavours Wheat"
         ],
         "yaxis": "y"
        },
        {
         "hovertemplate": "Ingredients=%{y}<br>Product=%{x}<extra></extra>",
         "legendgroup": "Flavours Soy",
         "marker": {
          "color": "#FFA15A",
          "symbol": "circle"
         },
         "mode": "markers",
         "name": "Flavours Soy",
         "showlegend": true,
         "type": "scattergl",
         "x": [
          "Maggi 2 Minute Chicken Flavour Instant Noodles",
          "Maggi 2 Minute Chicken Flavour Instant Noodles",
          "Fantastic Chicken Noodle Bowl"
         ],
         "xaxis": "x",
         "y": [
          "Flavours Soy",
          "Flavours Soy",
          "Flavours Soy"
         ],
         "yaxis": "y"
        },
        {
         "hovertemplate": "Ingredients=%{y}<br>Product=%{x}<extra></extra>",
         "legendgroup": "Vegetable Fat",
         "marker": {
          "color": "#19d3f3",
          "symbol": "circle"
         },
         "mode": "markers",
         "name": "Vegetable Fat",
         "showlegend": true,
         "type": "scattergl",
         "x": [
          "Maggi 2 Minute Chicken Flavour Instant Noodles",
          "Maggi 2 Minute Chicken Flavour Instant Noodles",
          "Maggi 2 Minute Beef Flavour Instant Noodles",
          "Kitkat 4 Finger Milk Chocolate Bar",
          "Kitkat Chunky Original Chocolate Bar",
          "Cadbury Dairy Milk Caramello Koala Chocolate",
          "Mars Chocolate Bar With Nougat & Caramel",
          "Cadbury Chomp Chocolate Bar",
          "Cadbury Classic Choc Chip Cookies",
          "Byron Bay Cookies Dotty Cookie Bites"
         ],
         "xaxis": "x",
         "y": [
          "Vegetable Fat",
          "Vegetable Fat",
          "Vegetable Fat",
          "Vegetable Fat",
          "Vegetable Fat",
          "Vegetable Fat",
          "Vegetable Fat",
          "Vegetable Fat",
          "Vegetable Fat",
          "Vegetable Fat"
         ],
         "yaxis": "y"
        },
        {
         "hovertemplate": "Ingredients=%{y}<br>Product=%{x}<extra></extra>",
         "legendgroup": "Parsley Flakes",
         "marker": {
          "color": "#FF6692",
          "symbol": "circle"
         },
         "mode": "markers",
         "name": "Parsley Flakes",
         "showlegend": true,
         "type": "scattergl",
         "x": [
          "Maggi 2 Minute Chicken Flavour Instant Noodles"
         ],
         "xaxis": "x",
         "y": [
          "Parsley Flakes"
         ],
         "yaxis": "y"
        },
        {
         "hovertemplate": "Ingredients=%{y}<br>Product=%{x}<extra></extra>",
         "legendgroup": "Turmeric",
         "marker": {
          "color": "#B6E880",
          "symbol": "circle"
         },
         "mode": "markers",
         "name": "Turmeric",
         "showlegend": true,
         "type": "scattergl",
         "x": [
          "Maggi 2 Minute Chicken Flavour Instant Noodles",
          "Maggi 2 Minute Chicken Flavour Instant Noodles",
          "Smith's Crinkle Cut Potato Chips Chicken",
          "Thins Cheese & Onion Chips"
         ],
         "xaxis": "x",
         "y": [
          "Turmeric",
          "Turmeric",
          "Turmeric",
          "Turmeric"
         ],
         "yaxis": "y"
        },
        {
         "hovertemplate": "Ingredients=%{y}<br>Product=%{x}<extra></extra>",
         "legendgroup": "Caramel III",
         "marker": {
          "color": "#FF97FF",
          "symbol": "circle"
         },
         "mode": "markers",
         "name": "Caramel III",
         "showlegend": true,
         "type": "scattergl",
         "x": [
          "Maggi 2 Minute Chicken Flavour Instant Noodles"
         ],
         "xaxis": "x",
         "y": [
          "Caramel III"
         ],
         "yaxis": "y"
        },
        {
         "hovertemplate": "Ingredients=%{y}<br>Product=%{x}<extra></extra>",
         "legendgroup": "Coriander",
         "marker": {
          "color": "#FECB52",
          "symbol": "circle"
         },
         "mode": "markers",
         "name": "Coriander",
         "showlegend": true,
         "type": "scattergl",
         "x": [
          "Maggi 2 Minute Chicken Flavour Instant Noodles",
          "Maggi 2 Minute Chicken Flavour Instant Noodles"
         ],
         "xaxis": "x",
         "y": [
          "Coriander",
          "Coriander"
         ],
         "yaxis": "y"
        },
        {
         "hovertemplate": "Ingredients=%{y}<br>Product=%{x}<extra></extra>",
         "legendgroup": "Cumin",
         "marker": {
          "color": "#636efa",
          "symbol": "circle"
         },
         "mode": "markers",
         "name": "Cumin",
         "showlegend": true,
         "type": "scattergl",
         "x": [
          "Maggi 2 Minute Chicken Flavour Instant Noodles",
          "Maggi 2 Minute Chicken Flavour Instant Noodles"
         ],
         "xaxis": "x",
         "y": [
          "Cumin",
          "Cumin"
         ],
         "yaxis": "y"
        },
        {
         "hovertemplate": "Ingredients=%{y}<br>Product=%{x}<extra></extra>",
         "legendgroup": "Spice Cardamom",
         "marker": {
          "color": "#EF553B",
          "symbol": "circle"
         },
         "mode": "markers",
         "name": "Spice Cardamom",
         "showlegend": true,
         "type": "scattergl",
         "x": [
          "Maggi 2 Minute Chicken Flavour Instant Noodles",
          "Maggi 2 Minute Chicken Flavour Instant Noodles"
         ],
         "xaxis": "x",
         "y": [
          "Spice Cardamom",
          "Spice Cardamom"
         ],
         "yaxis": "y"
        },
        {
         "hovertemplate": "Ingredients=%{y}<br>Product=%{x}<extra></extra>",
         "legendgroup": "Spice Chilli Powder",
         "marker": {
          "color": "#00cc96",
          "symbol": "circle"
         },
         "mode": "markers",
         "name": "Spice Chilli Powder",
         "showlegend": true,
         "type": "scattergl",
         "x": [
          "Maggi 2 Minute Chicken Flavour Instant Noodles",
          "Maggi 2 Minute Chicken Flavour Instant Noodles"
         ],
         "xaxis": "x",
         "y": [
          "Spice Chilli Powder",
          "Spice Chilli Powder"
         ],
         "yaxis": "y"
        },
        {
         "hovertemplate": "Ingredients=%{y}<br>Product=%{x}<extra></extra>",
         "legendgroup": "Spice Ginger",
         "marker": {
          "color": "#ab63fa",
          "symbol": "circle"
         },
         "mode": "markers",
         "name": "Spice Ginger",
         "showlegend": true,
         "type": "scattergl",
         "x": [
          "Maggi 2 Minute Chicken Flavour Instant Noodles",
          "Maggi 2 Minute Chicken Flavour Instant Noodles"
         ],
         "xaxis": "x",
         "y": [
          "Spice Ginger",
          "Spice Ginger"
         ],
         "yaxis": "y"
        },
        {
         "hovertemplate": "Ingredients=%{y}<br>Product=%{x}<extra></extra>",
         "legendgroup": "Flavour Celery",
         "marker": {
          "color": "#FFA15A",
          "symbol": "circle"
         },
         "mode": "markers",
         "name": "Flavour Celery",
         "showlegend": true,
         "type": "scattergl",
         "x": [
          "Maggi 2 Minute Chicken Flavour Instant Noodles",
          "Maggi 2 Minute Chicken Flavour Instant Noodles"
         ],
         "xaxis": "x",
         "y": [
          "Flavour Celery",
          "Flavour Celery"
         ],
         "yaxis": "y"
        },
        {
         "hovertemplate": "Ingredients=%{y}<br>Product=%{x}<extra></extra>",
         "legendgroup": "Mineral Salt 501",
         "marker": {
          "color": "#19d3f3",
          "symbol": "circle"
         },
         "mode": "markers",
         "name": "Mineral Salt 501",
         "showlegend": true,
         "type": "scattergl",
         "x": [
          "Maggi 2 Minute Chicken Flavour Instant Noodles",
          "Maggi 2 Minute Chicken Flavour Instant Noodles",
          "Fantastic Chicken Noodle Bowl",
          "Maggi 2 Minute Beef Flavour Instant Noodles"
         ],
         "xaxis": "x",
         "y": [
          "Mineral Salt 501",
          "Mineral Salt 501",
          "Mineral Salt 501",
          "Mineral Salt 501"
         ],
         "yaxis": "y"
        },
        {
         "hovertemplate": "Ingredients=%{y}<br>Product=%{x}<extra></extra>",
         "legendgroup": "Mineral Salt 500",
         "marker": {
          "color": "#FF6692",
          "symbol": "circle"
         },
         "mode": "markers",
         "name": "Mineral Salt 500",
         "showlegend": true,
         "type": "scattergl",
         "x": [
          "Maggi 2 Minute Chicken Flavour Instant Noodles",
          "Maggi 2 Minute Chicken Flavour Instant Noodles",
          "Fantastic Chicken Noodle Bowl",
          "Maggi 2 Minute Beef Flavour Instant Noodles"
         ],
         "xaxis": "x",
         "y": [
          "Mineral Salt 500",
          "Mineral Salt 500",
          "Mineral Salt 500",
          "Mineral Salt 500"
         ],
         "yaxis": "y"
        },
        {
         "hovertemplate": "Ingredients=%{y}<br>Product=%{x}<extra></extra>",
         "legendgroup": "Potassium Chloride",
         "marker": {
          "color": "#B6E880",
          "symbol": "circle"
         },
         "mode": "markers",
         "name": "Potassium Chloride",
         "showlegend": true,
         "type": "scattergl",
         "x": [
          "Maggi 2 Minute Chicken Flavour Instant Noodles",
          "Maggi 2 Minute Beef Flavour Instant Noodles",
          "Smith's Crinkle Cut Potato Chips Cheese & Onion",
          "Smith's Crinkle Cut Potato Chips Barbecue",
          "Smith's Crinkle Cut Potato Chips Chicken",
          "Thins Chips Salt & Vinegar",
          "Thins Chips Chicken",
          "Smith's Crinkle Cut Potato Chips Salt & Vinegar",
          "Thins Cheese & Onion Chips"
         ],
         "xaxis": "x",
         "y": [
          "Potassium Chloride",
          "Potassium Chloride",
          "Potassium Chloride",
          "Potassium Chloride",
          "Potassium Chloride",
          "Potassium Chloride",
          "Potassium Chloride",
          "Potassium Chloride",
          "Potassium Chloride"
         ],
         "yaxis": "y"
        },
        {
         "hovertemplate": "Ingredients=%{y}<br>Product=%{x}<extra></extra>",
         "legendgroup": "Potato Starch",
         "marker": {
          "color": "#FF97FF",
          "symbol": "circle"
         },
         "mode": "markers",
         "name": "Potato Starch",
         "showlegend": true,
         "type": "scattergl",
         "x": [
          "Maggi 2 Minute Chicken Flavour Instant Noodles",
          "Cadbury Classic Choc Chip Cookies"
         ],
         "xaxis": "x",
         "y": [
          "Potato Starch",
          "Potato Starch"
         ],
         "yaxis": "y"
        },
        {
         "hovertemplate": "Ingredients=%{y}<br>Product=%{x}<extra></extra>",
         "legendgroup": "Parsley",
         "marker": {
          "color": "#FECB52",
          "symbol": "circle"
         },
         "mode": "markers",
         "name": "Parsley",
         "showlegend": true,
         "type": "scattergl",
         "x": [
          "Maggi 2 Minute Chicken Flavour Instant Noodles",
          "Smith's Crinkle Cut Potato Chips Chicken",
          "Thins Chips Chicken",
          "Thins Cheese & Onion Chips"
         ],
         "xaxis": "x",
         "y": [
          "Parsley",
          "Parsley",
          "Parsley",
          "Parsley"
         ],
         "yaxis": "y"
        },
        {
         "hovertemplate": "Ingredients=%{y}<br>Product=%{x}<extra></extra>",
         "legendgroup": "Burnt Sugar",
         "marker": {
          "color": "#636efa",
          "symbol": "circle"
         },
         "mode": "markers",
         "name": "Burnt Sugar",
         "showlegend": true,
         "type": "scattergl",
         "x": [
          "Maggi 2 Minute Chicken Flavour Instant Noodles",
          "Maggi 2 Minute Beef Flavour Instant Noodles"
         ],
         "xaxis": "x",
         "y": [
          "Burnt Sugar",
          "Burnt Sugar"
         ],
         "yaxis": "y"
        },
        {
         "hovertemplate": "Ingredients=%{y}<br>Product=%{x}<extra></extra>",
         "legendgroup": "Gluten Wheat",
         "marker": {
          "color": "#EF553B",
          "symbol": "circle"
         },
         "mode": "markers",
         "name": "Gluten Wheat",
         "showlegend": true,
         "type": "scattergl",
         "x": [
          "Supreme Noodles Cup Chicken Flavour",
          "Fantastic Chicken Noodle Cup"
         ],
         "xaxis": "x",
         "y": [
          "Gluten Wheat",
          "Gluten Wheat"
         ],
         "yaxis": "y"
        },
        {
         "hovertemplate": "Ingredients=%{y}<br>Product=%{x}<extra></extra>",
         "legendgroup": "Soy",
         "marker": {
          "color": "#00cc96",
          "symbol": "circle"
         },
         "mode": "markers",
         "name": "Soy",
         "showlegend": true,
         "type": "scattergl",
         "x": [
          "Supreme Noodles Cup Chicken Flavour",
          "Fantastic Chicken Noodle Cup",
          "Maggi 2 Minute Beef Flavour Instant Noodles",
          "Supreme Noodles Cup Beef Flavour",
          "Kitkat Chunky Original Chocolate Bar"
         ],
         "xaxis": "x",
         "y": [
          "Soy",
          "Soy",
          "Soy",
          "Soy",
          "Soy"
         ],
         "yaxis": "y"
        },
        {
         "hovertemplate": "Ingredients=%{y}<br>Product=%{x}<extra></extra>",
         "legendgroup": "Curcumin",
         "marker": {
          "color": "#ab63fa",
          "symbol": "circle"
         },
         "mode": "markers",
         "name": "Curcumin",
         "showlegend": true,
         "type": "scattergl",
         "x": [
          "Supreme Noodles Cup Chicken Flavour",
          "Fantastic Chicken Noodle Cup",
          "Supreme Noodles Cup Beef Flavour"
         ],
         "xaxis": "x",
         "y": [
          "Curcumin",
          "Curcumin",
          "Curcumin"
         ],
         "yaxis": "y"
        },
        {
         "hovertemplate": "Ingredients=%{y}<br>Product=%{x}<extra></extra>",
         "legendgroup": "Flavour Sachet",
         "marker": {
          "color": "#FFA15A",
          "symbol": "circle"
         },
         "mode": "markers",
         "name": "Flavour Sachet",
         "showlegend": true,
         "type": "scattergl",
         "x": [
          "Fantastic Chicken Noodle Cup"
         ],
         "xaxis": "x",
         "y": [
          "Flavour Sachet"
         ],
         "yaxis": "y"
        },
        {
         "hovertemplate": "Ingredients=%{y}<br>Product=%{x}<extra></extra>",
         "legendgroup": "Vegetable Sachet",
         "marker": {
          "color": "#19d3f3",
          "symbol": "circle"
         },
         "mode": "markers",
         "name": "Vegetable Sachet",
         "showlegend": true,
         "type": "scattergl",
         "x": [
          "Fantastic Chicken Noodle Cup"
         ],
         "xaxis": "x",
         "y": [
          "Vegetable Sachet"
         ],
         "yaxis": "y"
        },
        {
         "hovertemplate": "Ingredients=%{y}<br>Product=%{x}<extra></extra>",
         "legendgroup": "Dehydrated Vegetables",
         "marker": {
          "color": "#FF6692",
          "symbol": "circle"
         },
         "mode": "markers",
         "name": "Dehydrated Vegetables",
         "showlegend": true,
         "type": "scattergl",
         "x": [
          "Fantastic Chicken Noodle Cup",
          "Fantastic Chicken Noodle Bowl"
         ],
         "xaxis": "x",
         "y": [
          "Dehydrated Vegetables",
          "Dehydrated Vegetables"
         ],
         "yaxis": "y"
        },
        {
         "hovertemplate": "Ingredients=%{y}<br>Product=%{x}<extra></extra>",
         "legendgroup": "Modified Starch 1420",
         "marker": {
          "color": "#B6E880",
          "symbol": "circle"
         },
         "mode": "markers",
         "name": "Modified Starch 1420",
         "showlegend": true,
         "type": "scattergl",
         "x": [
          "Fantastic Chicken Noodle Bowl"
         ],
         "xaxis": "x",
         "y": [
          "Modified Starch 1420"
         ],
         "yaxis": "y"
        },
        {
         "hovertemplate": "Ingredients=%{y}<br>Product=%{x}<extra></extra>",
         "legendgroup": "Mineral Salt 450",
         "marker": {
          "color": "#FF97FF",
          "symbol": "circle"
         },
         "mode": "markers",
         "name": "Mineral Salt 450",
         "showlegend": true,
         "type": "scattergl",
         "x": [
          "Fantastic Chicken Noodle Bowl"
         ],
         "xaxis": "x",
         "y": [
          "Mineral Salt 450"
         ],
         "yaxis": "y"
        },
        {
         "hovertemplate": "Ingredients=%{y}<br>Product=%{x}<extra></extra>",
         "legendgroup": "Basil",
         "marker": {
          "color": "#FECB52",
          "symbol": "circle"
         },
         "mode": "markers",
         "name": "Basil",
         "showlegend": true,
         "type": "scattergl",
         "x": [
          "Fantastic Chicken Noodle Bowl",
          "Supreme Noodles Cup Beef Flavour"
         ],
         "xaxis": "x",
         "y": [
          "Basil",
          "Basil"
         ],
         "yaxis": "y"
        },
        {
         "hovertemplate": "Ingredients=%{y}<br>Product=%{x}<extra></extra>",
         "legendgroup": "Colouring Agent 100",
         "marker": {
          "color": "#636efa",
          "symbol": "circle"
         },
         "mode": "markers",
         "name": "Colouring Agent 100",
         "showlegend": true,
         "type": "scattergl",
         "x": [
          "Fantastic Chicken Noodle Bowl"
         ],
         "xaxis": "x",
         "y": [
          "Colouring Agent 100"
         ],
         "yaxis": "y"
        },
        {
         "hovertemplate": "Ingredients=%{y}<br>Product=%{x}<extra></extra>",
         "legendgroup": "Antioxidant 307b",
         "marker": {
          "color": "#EF553B",
          "symbol": "circle"
         },
         "mode": "markers",
         "name": "Antioxidant 307b",
         "showlegend": true,
         "type": "scattergl",
         "x": [
          "Fantastic Chicken Noodle Bowl",
          "Woolworths Chocolate Chip Cookies",
          "Woolworths The King Of Chunky Chocolate Chip Cookies"
         ],
         "xaxis": "x",
         "y": [
          "Antioxidant 307b",
          "Antioxidant 307b",
          "Antioxidant 307b"
         ],
         "yaxis": "y"
        },
        {
         "hovertemplate": "Ingredients=%{y}<br>Product=%{x}<extra></extra>",
         "legendgroup": "Flavours",
         "marker": {
          "color": "#00cc96",
          "symbol": "circle"
         },
         "mode": "markers",
         "name": "Flavours",
         "showlegend": true,
         "type": "scattergl",
         "x": [
          "Indomie Mi Goreng Noodle Cup",
          "Cadbury Dairy Milk Caramello Koala Chocolate",
          "Cadbury Dairy Milk Chocolate Roll",
          "Cadbury Dairy Milk Chocolate Bar",
          "Cadbury Twirl Chocolate Bar",
          "Cadbury Chomp Chocolate Bar",
          "Cadbury Choc Centre Cookies",
          "Oreo Neapolitan Double Stuff Cookies",
          "Smith's Crinkle Cut Potato Chips Barbecue",
          "Thins Chips Chicken"
         ],
         "xaxis": "x",
         "y": [
          "Flavours",
          "Flavours",
          "Flavours",
          "Flavours",
          "Flavours",
          "Flavours",
          "Flavours",
          "Flavours",
          "Flavours",
          "Flavours"
         ],
         "yaxis": "y"
        },
        {
         "hovertemplate": "Ingredients=%{y}<br>Product=%{x}<extra></extra>",
         "legendgroup": "Soy Sauce Powder",
         "marker": {
          "color": "#ab63fa",
          "symbol": "circle"
         },
         "mode": "markers",
         "name": "Soy Sauce Powder",
         "showlegend": true,
         "type": "scattergl",
         "x": [
          "Maggi 2 Minute Beef Flavour Instant Noodles"
         ],
         "xaxis": "x",
         "y": [
          "Soy Sauce Powder"
         ],
         "yaxis": "y"
        },
        {
         "hovertemplate": "Ingredients=%{y}<br>Product=%{x}<extra></extra>",
         "legendgroup": "White Pepper",
         "marker": {
          "color": "#FFA15A",
          "symbol": "circle"
         },
         "mode": "markers",
         "name": "White Pepper",
         "showlegend": true,
         "type": "scattergl",
         "x": [
          "Maggi 2 Minute Beef Flavour Instant Noodles"
         ],
         "xaxis": "x",
         "y": [
          "White Pepper"
         ],
         "yaxis": "y"
        },
        {
         "hovertemplate": "Ingredients=%{y}<br>Product=%{x}<extra></extra>",
         "legendgroup": "Rosemary",
         "marker": {
          "color": "#19d3f3",
          "symbol": "circle"
         },
         "mode": "markers",
         "name": "Rosemary",
         "showlegend": true,
         "type": "scattergl",
         "x": [
          "Maggi 2 Minute Beef Flavour Instant Noodles"
         ],
         "xaxis": "x",
         "y": [
          "Rosemary"
         ],
         "yaxis": "y"
        },
        {
         "hovertemplate": "Ingredients=%{y}<br>Product=%{x}<extra></extra>",
         "legendgroup": "Colouring Agent 150c",
         "marker": {
          "color": "#FF6692",
          "symbol": "circle"
         },
         "mode": "markers",
         "name": "Colouring Agent 150c",
         "showlegend": true,
         "type": "scattergl",
         "x": [
          "Supreme Noodles Cup Beef Flavour"
         ],
         "xaxis": "x",
         "y": [
          "Colouring Agent 150c"
         ],
         "yaxis": "y"
        },
        {
         "hovertemplate": "Ingredients=%{y}<br>Product=%{x}<extra></extra>",
         "legendgroup": "Caramel Color",
         "marker": {
          "color": "#B6E880",
          "symbol": "circle"
         },
         "mode": "markers",
         "name": "Caramel Color",
         "showlegend": true,
         "type": "scattergl",
         "x": [
          "Supreme Noodles Cup Beef Flavour"
         ],
         "xaxis": "x",
         "y": [
          "Caramel Color"
         ],
         "yaxis": "y"
        },
        {
         "hovertemplate": "Ingredients=%{y}<br>Product=%{x}<extra></extra>",
         "legendgroup": "Carbonated Mineral Water",
         "marker": {
          "color": "#FF97FF",
          "symbol": "circle"
         },
         "mode": "markers",
         "name": "Carbonated Mineral Water",
         "showlegend": true,
         "type": "scattergl",
         "x": [
          "Schweppes Zero Sugar Lime Infused Mineral Water Bottle",
          "Schweppes Raspberry Infused Natural Mineral Water Bottle",
          "Schweppes Lemon Lime Natural Mineral Water Bottle",
          "Schweppes Orange Mango Natural Mineral Water Bottle"
         ],
         "xaxis": "x",
         "y": [
          "Carbonated Mineral Water",
          "Carbonated Mineral Water",
          "Carbonated Mineral Water",
          "Carbonated Mineral Water"
         ],
         "yaxis": "y"
        },
        {
         "hovertemplate": "Ingredients=%{y}<br>Product=%{x}<extra></extra>",
         "legendgroup": "Natural Flavours",
         "marker": {
          "color": "#FECB52",
          "symbol": "circle"
         },
         "mode": "markers",
         "name": "Natural Flavours",
         "showlegend": true,
         "type": "scattergl",
         "x": [
          "Schweppes Zero Sugar Lime Infused Mineral Water Bottle",
          "Schweppes Raspberry Infused Natural Mineral Water Bottle",
          "Schweppes Lemon Lime Natural Mineral Water Bottle",
          "Schweppes Orange Mango Natural Mineral Water Bottle",
          "Woolworths Breakfast Juice",
          "Woolworths Multivitamin Juice",
          "Golden Circle Golden Pash Fruit Drink",
          "Golden Circle Drinks Sunshine Punch Fruit Drink",
          "Golden Circle Fruit Drinks Lunch Box Poppers Tropical Punch Multipack",
          "Fountain Barbecue Bbq Sauce Squeeze",
          "Heinz Ketchup Tomato Sauce Ketchup",
          "Smith's Crinkle Cut Potato Chips Salt & Vinegar"
         ],
         "xaxis": "x",
         "y": [
          "Natural Flavours",
          "Natural Flavours",
          "Natural Flavours",
          "Natural Flavours",
          "Natural Flavours",
          "Natural Flavours",
          "Natural Flavours",
          "Natural Flavours",
          "Natural Flavours",
          "Natural Flavours",
          "Natural Flavours",
          "Natural Flavours"
         ],
         "yaxis": "y"
        },
        {
         "hovertemplate": "Ingredients=%{y}<br>Product=%{x}<extra></extra>",
         "legendgroup": "Natural Mineral Water",
         "marker": {
          "color": "#636efa",
          "symbol": "circle"
         },
         "mode": "markers",
         "name": "Natural Mineral Water",
         "showlegend": true,
         "type": "scattergl",
         "x": [
          "Schweppes Natural Mineral Water Bottle Natural"
         ],
         "xaxis": "x",
         "y": [
          "Natural Mineral Water"
         ],
         "yaxis": "y"
        },
        {
         "hovertemplate": "Ingredients=%{y}<br>Product=%{x}<extra></extra>",
         "legendgroup": "Potassium Bicarbonate",
         "marker": {
          "color": "#EF553B",
          "symbol": "circle"
         },
         "mode": "markers",
         "name": "Potassium Bicarbonate",
         "showlegend": true,
         "type": "scattergl",
         "x": [
          "Schweppes Soda Water Bottle Classic Mixers"
         ],
         "xaxis": "x",
         "y": [
          "Potassium Bicarbonate"
         ],
         "yaxis": "y"
        },
        {
         "hovertemplate": "Ingredients=%{y}<br>Product=%{x}<extra></extra>",
         "legendgroup": "Natural Flavour Orange Peel Extract",
         "marker": {
          "color": "#00cc96",
          "symbol": "circle"
         },
         "mode": "markers",
         "name": "Natural Flavour Orange Peel Extract",
         "showlegend": true,
         "type": "scattergl",
         "x": [
          "Schweppes Indian Tonic Water Classic Mixers Bottle",
          "Schweppes Zero Sugar Classic Mixers Indian Tonic Water Bottle"
         ],
         "xaxis": "x",
         "y": [
          "Natural Flavour Orange Peel Extract",
          "Natural Flavour Orange Peel Extract"
         ],
         "yaxis": "y"
        },
        {
         "hovertemplate": "Ingredients=%{y}<br>Product=%{x}<extra></extra>",
         "legendgroup": "Natural Flavour Citrus Oils",
         "marker": {
          "color": "#ab63fa",
          "symbol": "circle"
         },
         "mode": "markers",
         "name": "Natural Flavour Citrus Oils",
         "showlegend": true,
         "type": "scattergl",
         "x": [
          "Schweppes Indian Tonic Water Classic Mixers Bottle",
          "Schweppes Zero Sugar Classic Mixers Indian Tonic Water Bottle"
         ],
         "xaxis": "x",
         "y": [
          "Natural Flavour Citrus Oils",
          "Natural Flavour Citrus Oils"
         ],
         "yaxis": "y"
        },
        {
         "hovertemplate": "Ingredients=%{y}<br>Product=%{x}<extra></extra>",
         "legendgroup": "Natural Flavour Botanical Extracts",
         "marker": {
          "color": "#FFA15A",
          "symbol": "circle"
         },
         "mode": "markers",
         "name": "Natural Flavour Botanical Extracts",
         "showlegend": true,
         "type": "scattergl",
         "x": [
          "Schweppes Indian Tonic Water Classic Mixers Bottle",
          "Schweppes Zero Sugar Classic Mixers Indian Tonic Water Bottle"
         ],
         "xaxis": "x",
         "y": [
          "Natural Flavour Botanical Extracts",
          "Natural Flavour Botanical Extracts"
         ],
         "yaxis": "y"
        },
        {
         "hovertemplate": "Ingredients=%{y}<br>Product=%{x}<extra></extra>",
         "legendgroup": "Natural Flavour Lemon Peel Extract",
         "marker": {
          "color": "#19d3f3",
          "symbol": "circle"
         },
         "mode": "markers",
         "name": "Natural Flavour Lemon Peel Extract",
         "showlegend": true,
         "type": "scattergl",
         "x": [
          "Schweppes Indian Tonic Water Classic Mixers Bottle",
          "Schweppes Zero Sugar Classic Mixers Indian Tonic Water Bottle"
         ],
         "xaxis": "x",
         "y": [
          "Natural Flavour Lemon Peel Extract",
          "Natural Flavour Lemon Peel Extract"
         ],
         "yaxis": "y"
        },
        {
         "hovertemplate": "Ingredients=%{y}<br>Product=%{x}<extra></extra>",
         "legendgroup": "Quinine",
         "marker": {
          "color": "#FF6692",
          "symbol": "circle"
         },
         "mode": "markers",
         "name": "Quinine",
         "showlegend": true,
         "type": "scattergl",
         "x": [
          "Schweppes Indian Tonic Water Classic Mixers Bottle",
          "Schweppes Zero Sugar Classic Mixers Indian Tonic Water Bottle"
         ],
         "xaxis": "x",
         "y": [
          "Quinine",
          "Quinine"
         ],
         "yaxis": "y"
        },
        {
         "hovertemplate": "Ingredients=%{y}<br>Product=%{x}<extra></extra>",
         "legendgroup": "Natural Flavour Lime Oils",
         "marker": {
          "color": "#B6E880",
          "symbol": "circle"
         },
         "mode": "markers",
         "name": "Natural Flavour Lime Oils",
         "showlegend": true,
         "type": "scattergl",
         "x": [
          "Schweppes Lime Soda Water With Lime Juice Bottle"
         ],
         "xaxis": "x",
         "y": [
          "Natural Flavour Lime Oils"
         ],
         "yaxis": "y"
        },
        {
         "hovertemplate": "Ingredients=%{y}<br>Product=%{x}<extra></extra>",
         "legendgroup": "Sodium Benzoate",
         "marker": {
          "color": "#FF97FF",
          "symbol": "circle"
         },
         "mode": "markers",
         "name": "Sodium Benzoate",
         "showlegend": true,
         "type": "scattergl",
         "x": [
          "Schweppes Lime Soda Water With Lime Juice Bottle",
          "Schweppes Lemon Lime Natural Mineral Water Bottle",
          "Schweppes Orange Mango Natural Mineral Water Bottle"
         ],
         "xaxis": "x",
         "y": [
          "Sodium Benzoate",
          "Sodium Benzoate",
          "Sodium Benzoate"
         ],
         "yaxis": "y"
        },
        {
         "hovertemplate": "Ingredients=%{y}<br>Product=%{x}<extra></extra>",
         "legendgroup": "Plant Extract Gardenia",
         "marker": {
          "color": "#FECB52",
          "symbol": "circle"
         },
         "mode": "markers",
         "name": "Plant Extract Gardenia",
         "showlegend": true,
         "type": "scattergl",
         "x": [
          "Schweppes Lime Soda Water With Lime Juice Bottle"
         ],
         "xaxis": "x",
         "y": [
          "Plant Extract Gardenia"
         ],
         "yaxis": "y"
        },
        {
         "hovertemplate": "Ingredients=%{y}<br>Product=%{x}<extra></extra>",
         "legendgroup": "Plant Extract Carthamus",
         "marker": {
          "color": "#636efa",
          "symbol": "circle"
         },
         "mode": "markers",
         "name": "Plant Extract Carthamus",
         "showlegend": true,
         "type": "scattergl",
         "x": [
          "Schweppes Lime Soda Water With Lime Juice Bottle"
         ],
         "xaxis": "x",
         "y": [
          "Plant Extract Carthamus"
         ],
         "yaxis": "y"
        },
        {
         "hovertemplate": "Ingredients=%{y}<br>Product=%{x}<extra></extra>",
         "legendgroup": "Sulphites",
         "marker": {
          "color": "#EF553B",
          "symbol": "circle"
         },
         "mode": "markers",
         "name": "Sulphites",
         "showlegend": true,
         "type": "scattergl",
         "x": [
          "Schweppes Lime Soda Water With Lime Juice Bottle",
          "Schweppes Orange Mango Natural Mineral Water Bottle"
         ],
         "xaxis": "x",
         "y": [
          "Sulphites",
          "Sulphites"
         ],
         "yaxis": "y"
        },
        {
         "hovertemplate": "Ingredients=%{y}<br>Product=%{x}<extra></extra>",
         "legendgroup": "Reconstituted Lime Juice",
         "marker": {
          "color": "#00cc96",
          "symbol": "circle"
         },
         "mode": "markers",
         "name": "Reconstituted Lime Juice",
         "showlegend": true,
         "type": "scattergl",
         "x": [
          "Schweppes Lime Soda Water With Lime Juice Bottle",
          "Schweppes Lemon Lime Natural Mineral Water Bottle"
         ],
         "xaxis": "x",
         "y": [
          "Reconstituted Lime Juice",
          "Reconstituted Lime Juice"
         ],
         "yaxis": "y"
        },
        {
         "hovertemplate": "Ingredients=%{y}<br>Product=%{x}<extra></extra>",
         "legendgroup": "",
         "marker": {
          "color": "#ab63fa",
          "symbol": "circle"
         },
         "mode": "markers",
         "name": "",
         "showlegend": false,
         "type": "scattergl",
         "x": [
          "Schweppes Lemon Lime Natural Mineral Water Bottle",
          "Schweppes Orange Mango Natural Mineral Water Bottle",
          "Rimmel Scandaleyes Eye Definer Brown",
          "Rimmel Scandaleyes Eye Definer Brown",
          "Rimmel Scandaleyes Eye Definer Brown",
          "Rimmel Scandaleyes Eye Definer Brown"
         ],
         "xaxis": "x",
         "y": [
          "",
          "",
          "",
          "",
          "",
          ""
         ],
         "yaxis": "y"
        },
        {
         "hovertemplate": "Ingredients=%{y}<br>Product=%{x}<extra></extra>",
         "legendgroup": "Potassium Sorbate",
         "marker": {
          "color": "#FFA15A",
          "symbol": "circle"
         },
         "mode": "markers",
         "name": "Potassium Sorbate",
         "showlegend": true,
         "type": "scattergl",
         "x": [
          "Schweppes Lemon Lime Natural Mineral Water Bottle",
          "Schweppes Orange Mango Natural Mineral Water Bottle",
          "Woolworths Secret Burger Sauce"
         ],
         "xaxis": "x",
         "y": [
          "Potassium Sorbate",
          "Potassium Sorbate",
          "Potassium Sorbate"
         ],
         "yaxis": "y"
        },
        {
         "hovertemplate": "Ingredients=%{y}<br>Product=%{x}<extra></extra>",
         "legendgroup": "Safflower Extract",
         "marker": {
          "color": "#19d3f3",
          "symbol": "circle"
         },
         "mode": "markers",
         "name": "Safflower Extract",
         "showlegend": true,
         "type": "scattergl",
         "x": [
          "Schweppes Lemon Lime Natural Mineral Water Bottle"
         ],
         "xaxis": "x",
         "y": [
          "Safflower Extract"
         ],
         "yaxis": "y"
        },
        {
         "hovertemplate": "Ingredients=%{y}<br>Product=%{x}<extra></extra>",
         "legendgroup": "Reconstituted Lemon Juice",
         "marker": {
          "color": "#FF6692",
          "symbol": "circle"
         },
         "mode": "markers",
         "name": "Reconstituted Lemon Juice",
         "showlegend": true,
         "type": "scattergl",
         "x": [
          "Schweppes Lemon Lime Natural Mineral Water Bottle",
          "Woolworths Multivitamin Juice"
         ],
         "xaxis": "x",
         "y": [
          "Reconstituted Lemon Juice",
          "Reconstituted Lemon Juice"
         ],
         "yaxis": "y"
        },
        {
         "hovertemplate": "Ingredients=%{y}<br>Product=%{x}<extra></extra>",
         "legendgroup": "Ascorbic Acid",
         "marker": {
          "color": "#B6E880",
          "symbol": "circle"
         },
         "mode": "markers",
         "name": "Ascorbic Acid",
         "showlegend": true,
         "type": "scattergl",
         "x": [
          "Schweppes Orange Mango Natural Mineral Water Bottle",
          "Smith's Crinkle Cut Potato Chips Original",
          "Smith's Crinkle Cut Potato Chips Chicken",
          "Smith's Thinly Cut Potato Chips Original Share Pack",
          "Smith's Crinkle Cut Potato Chips Salt & Vinegar",
          "Woolworths Peach In Strawberry Jelly",
          "Woolworths Two Fruits In Juice Cups",
          "Woolworths Two Fruits In Juice",
          "Woolworths Two Fruits In Juice",
          "Woolworths Two Fruits In Tropical Jelly",
          "Woolworths Apple In Pineapple Jelly",
          "Goulburn Valley Two Fruits In Juice",
          "Goulburn Valley Two Fruits In Juice Fruit Cups In Juice"
         ],
         "xaxis": "x",
         "y": [
          "Ascorbic Acid",
          "Ascorbic Acid",
          "Ascorbic Acid",
          "Ascorbic Acid",
          "Ascorbic Acid",
          "Ascorbic Acid",
          "Ascorbic Acid",
          "Ascorbic Acid",
          "Ascorbic Acid",
          "Ascorbic Acid",
          "Ascorbic Acid",
          "Ascorbic Acid",
          "Ascorbic Acid"
         ],
         "yaxis": "y"
        },
        {
         "hovertemplate": "Ingredients=%{y}<br>Product=%{x}<extra></extra>",
         "legendgroup": "Carminic Acid",
         "marker": {
          "color": "#FF97FF",
          "symbol": "circle"
         },
         "mode": "markers",
         "name": "Carminic Acid",
         "showlegend": true,
         "type": "scattergl",
         "x": [
          "Schweppes Orange Mango Natural Mineral Water Bottle"
         ],
         "xaxis": "x",
         "y": [
          "Carminic Acid"
         ],
         "yaxis": "y"
        },
        {
         "hovertemplate": "Ingredients=%{y}<br>Product=%{x}<extra></extra>",
         "legendgroup": "Lutein",
         "marker": {
          "color": "#FECB52",
          "symbol": "circle"
         },
         "mode": "markers",
         "name": "Lutein",
         "showlegend": true,
         "type": "scattergl",
         "x": [
          "Schweppes Orange Mango Natural Mineral Water Bottle"
         ],
         "xaxis": "x",
         "y": [
          "Lutein"
         ],
         "yaxis": "y"
        },
        {
         "hovertemplate": "Ingredients=%{y}<br>Product=%{x}<extra></extra>",
         "legendgroup": "Antioxidant 385",
         "marker": {
          "color": "#636efa",
          "symbol": "circle"
         },
         "mode": "markers",
         "name": "Antioxidant 385",
         "showlegend": true,
         "type": "scattergl",
         "x": [
          "Schweppes Orange Mango Natural Mineral Water Bottle"
         ],
         "xaxis": "x",
         "y": [
          "Antioxidant 385"
         ],
         "yaxis": "y"
        },
        {
         "hovertemplate": "Ingredients=%{y}<br>Product=%{x}<extra></extra>",
         "legendgroup": "Reconstituted Mango Juice",
         "marker": {
          "color": "#EF553B",
          "symbol": "circle"
         },
         "mode": "markers",
         "name": "Reconstituted Mango Juice",
         "showlegend": true,
         "type": "scattergl",
         "x": [
          "Schweppes Orange Mango Natural Mineral Water Bottle",
          "Woolworths Apple & Mango Juice",
          "Woolworths Breakfast Juice",
          "Woolworths Multivitamin Juice"
         ],
         "xaxis": "x",
         "y": [
          "Reconstituted Mango Juice",
          "Reconstituted Mango Juice",
          "Reconstituted Mango Juice",
          "Reconstituted Mango Juice"
         ],
         "yaxis": "y"
        },
        {
         "hovertemplate": "Ingredients=%{y}<br>Product=%{x}<extra></extra>",
         "legendgroup": "Reconstituted Fruit Juice Orange",
         "marker": {
          "color": "#00cc96",
          "symbol": "circle"
         },
         "mode": "markers",
         "name": "Reconstituted Fruit Juice Orange",
         "showlegend": true,
         "type": "scattergl",
         "x": [
          "Schweppes Orange Mango Natural Mineral Water Bottle",
          "Woolworths Orange Juice",
          "Woolworths Breakfast Juice",
          "Woolworths Multivitamin Juice",
          "Golden Circle Drinks Pine Orange Fruit Drink",
          "Golden Circle Drinks Sunshine Punch Fruit Drink",
          "Golden Circle Fruit Drinks Lunch Box Poppers Tropical Punch Multipack"
         ],
         "xaxis": "x",
         "y": [
          "Reconstituted Fruit Juice Orange",
          "Reconstituted Fruit Juice Orange",
          "Reconstituted Fruit Juice Orange",
          "Reconstituted Fruit Juice Orange",
          "Reconstituted Fruit Juice Orange",
          "Reconstituted Fruit Juice Orange",
          "Reconstituted Fruit Juice Orange"
         ],
         "yaxis": "y"
        },
        {
         "hovertemplate": "Ingredients=%{y}<br>Product=%{x}<extra></extra>",
         "legendgroup": "Milk Solids",
         "marker": {
          "color": "#ab63fa",
          "symbol": "circle"
         },
         "mode": "markers",
         "name": "Milk Solids",
         "showlegend": true,
         "type": "scattergl",
         "x": [
          "Kitkat 4 Finger Milk Chocolate Bar",
          "Kitkat Chunky Original Chocolate Bar",
          "Cadbury Dairy Milk Caramello Koala Chocolate",
          "Mars Chocolate Bar With Nougat & Caramel",
          "Cadbury Dairy Milk Chocolate Roll",
          "Cadbury Dairy Milk Chocolate Bar",
          "Cadbury Twirl Chocolate Bar",
          "Cadbury Chomp Chocolate Bar",
          "Arnott's Premier Chocolate Chip Cookies",
          "Cadbury Classic Choc Chip Cookies",
          "Cadbury Choc Centre Cookies",
          "Byron Bay Cookies Dotty Cookie Bites"
         ],
         "xaxis": "x",
         "y": [
          "Milk Solids",
          "Milk Solids",
          "Milk Solids",
          "Milk Solids",
          "Milk Solids",
          "Milk Solids",
          "Milk Solids",
          "Milk Solids",
          "Milk Solids",
          "Milk Solids",
          "Milk Solids",
          "Milk Solids"
         ],
         "yaxis": "y"
        },
        {
         "hovertemplate": "Ingredients=%{y}<br>Product=%{x}<extra></extra>",
         "legendgroup": "Cocoa Butter",
         "marker": {
          "color": "#FFA15A",
          "symbol": "circle"
         },
         "mode": "markers",
         "name": "Cocoa Butter",
         "showlegend": true,
         "type": "scattergl",
         "x": [
          "Kitkat 4 Finger Milk Chocolate Bar",
          "Kitkat Chunky Original Chocolate Bar",
          "Cadbury Dairy Milk Caramello Koala Chocolate",
          "Mars Chocolate Bar With Nougat & Caramel",
          "Cadbury Dairy Milk Chocolate Roll",
          "Cadbury Dairy Milk Chocolate Bar",
          "Cadbury Twirl Chocolate Bar",
          "Arnott's Premier Chocolate Chip Cookies",
          "Woolworths The King Of Chunky Chocolate Chip Cookies",
          "Arnott's Mini Choc Chip Cookie Multipack Biscuits",
          "Cadbury Classic Choc Chip Cookies",
          "Cadbury Choc Centre Cookies"
         ],
         "xaxis": "x",
         "y": [
          "Cocoa Butter",
          "Cocoa Butter",
          "Cocoa Butter",
          "Cocoa Butter",
          "Cocoa Butter",
          "Cocoa Butter",
          "Cocoa Butter",
          "Cocoa Butter",
          "Cocoa Butter",
          "Cocoa Butter",
          "Cocoa Butter",
          "Cocoa Butter"
         ],
         "yaxis": "y"
        },
        {
         "hovertemplate": "Ingredients=%{y}<br>Product=%{x}<extra></extra>",
         "legendgroup": "Emulsifier Soy Lecithin",
         "marker": {
          "color": "#19d3f3",
          "symbol": "circle"
         },
         "mode": "markers",
         "name": "Emulsifier Soy Lecithin",
         "showlegend": true,
         "type": "scattergl",
         "x": [
          "Kitkat 4 Finger Milk Chocolate Bar",
          "Kitkat Chunky Original Chocolate Bar",
          "Cadbury Dairy Milk Caramello Koala Chocolate",
          "Mars Chocolate Bar With Nougat & Caramel",
          "Cadbury Dairy Milk Chocolate Roll",
          "Cadbury Dairy Milk Chocolate Bar",
          "Cadbury Twirl Chocolate Bar",
          "Cadbury Chomp Chocolate Bar",
          "Arnott's Premier Chocolate Chip Cookies",
          "Woolworths Chocolate Chip Cookies",
          "Woolworths The King Of Chunky Chocolate Chip Cookies",
          "Arnott's Mini Choc Chip Cookie Multipack Biscuits",
          "Oreo Original Mini Cookies Multipack",
          "Oreo Minis Cookies Variety Bags 18 Pack",
          "Cadbury Choc Centre Cookies",
          "Byron Bay Cookies Dotty Cookie Bites",
          "Oreo Original Cookies",
          "Oreo Double Stuff Cookies",
          "Oreo Original Cookies Family Pack",
          "Oreo Chocolate Cookies",
          "Oreo Grab & Go Original Cookies 9 Pack",
          "Oreo Neapolitan Double Stuff Cookies"
         ],
         "xaxis": "x",
         "y": [
          "Emulsifier Soy Lecithin",
          "Emulsifier Soy Lecithin",
          "Emulsifier Soy Lecithin",
          "Emulsifier Soy Lecithin",
          "Emulsifier Soy Lecithin",
          "Emulsifier Soy Lecithin",
          "Emulsifier Soy Lecithin",
          "Emulsifier Soy Lecithin",
          "Emulsifier Soy Lecithin",
          "Emulsifier Soy Lecithin",
          "Emulsifier Soy Lecithin",
          "Emulsifier Soy Lecithin",
          "Emulsifier Soy Lecithin",
          "Emulsifier Soy Lecithin",
          "Emulsifier Soy Lecithin",
          "Emulsifier Soy Lecithin",
          "Emulsifier Soy Lecithin",
          "Emulsifier Soy Lecithin",
          "Emulsifier Soy Lecithin",
          "Emulsifier Soy Lecithin",
          "Emulsifier Soy Lecithin",
          "Emulsifier Soy Lecithin"
         ],
         "yaxis": "y"
        },
        {
         "hovertemplate": "Ingredients=%{y}<br>Product=%{x}<extra></extra>",
         "legendgroup": "Cocoa Mass",
         "marker": {
          "color": "#FF6692",
          "symbol": "circle"
         },
         "mode": "markers",
         "name": "Cocoa Mass",
         "showlegend": true,
         "type": "scattergl",
         "x": [
          "Kitkat 4 Finger Milk Chocolate Bar",
          "Kitkat Chunky Original Chocolate Bar",
          "Cadbury Dairy Milk Caramello Koala Chocolate",
          "Mars Chocolate Bar With Nougat & Caramel",
          "Cadbury Dairy Milk Chocolate Roll",
          "Cadbury Dairy Milk Chocolate Bar",
          "Cadbury Twirl Chocolate Bar",
          "Arnott's Premier Chocolate Chip Cookies",
          "Woolworths The King Of Chunky Chocolate Chip Cookies",
          "Arnott's Mini Choc Chip Cookie Multipack Biscuits",
          "Cadbury Classic Choc Chip Cookies",
          "Cadbury Choc Centre Cookies"
         ],
         "xaxis": "x",
         "y": [
          "Cocoa Mass",
          "Cocoa Mass",
          "Cocoa Mass",
          "Cocoa Mass",
          "Cocoa Mass",
          "Cocoa Mass",
          "Cocoa Mass",
          "Cocoa Mass",
          "Cocoa Mass",
          "Cocoa Mass",
          "Cocoa Mass",
          "Cocoa Mass"
         ],
         "yaxis": "y"
        },
        {
         "hovertemplate": "Ingredients=%{y}<br>Product=%{x}<extra></extra>",
         "legendgroup": "Milk",
         "marker": {
          "color": "#B6E880",
          "symbol": "circle"
         },
         "mode": "markers",
         "name": "Milk",
         "showlegend": true,
         "type": "scattergl",
         "x": [
          "Kitkat 4 Finger Milk Chocolate Bar",
          "Kitkat Chunky Original Chocolate Bar",
          "Woolworths Chocolate Chip Cookies",
          "Dairy Farmers Full Cream Milk Full Cream Milk",
          "Dairy Farmers Full Cream Milk Full Cream Milk",
          "A2 Milk Full Cream Milk",
          "A2 Milk Full Cream Milk",
          "Woolworths Creamed Rice"
         ],
         "xaxis": "x",
         "y": [
          "Milk",
          "Milk",
          "Milk",
          "Milk",
          "Milk",
          "Milk",
          "Milk",
          "Milk"
         ],
         "yaxis": "y"
        },
        {
         "hovertemplate": "Ingredients=%{y}<br>Product=%{x}<extra></extra>",
         "legendgroup": "Polyglycerol Polyricinoleate",
         "marker": {
          "color": "#FF97FF",
          "symbol": "circle"
         },
         "mode": "markers",
         "name": "Polyglycerol Polyricinoleate",
         "showlegend": true,
         "type": "scattergl",
         "x": [
          "Kitkat 4 Finger Milk Chocolate Bar",
          "Kitkat Chunky Original Chocolate Bar",
          "Cadbury Dairy Milk Caramello Koala Chocolate",
          "Cadbury Dairy Milk Chocolate Roll",
          "Cadbury Dairy Milk Chocolate Bar",
          "Cadbury Twirl Chocolate Bar",
          "Cadbury Chomp Chocolate Bar",
          "Byron Bay Cookies Dotty Cookie Bites"
         ],
         "xaxis": "x",
         "y": [
          "Polyglycerol Polyricinoleate",
          "Polyglycerol Polyricinoleate",
          "Polyglycerol Polyricinoleate",
          "Polyglycerol Polyricinoleate",
          "Polyglycerol Polyricinoleate",
          "Polyglycerol Polyricinoleate",
          "Polyglycerol Polyricinoleate",
          "Polyglycerol Polyricinoleate"
         ],
         "yaxis": "y"
        },
        {
         "hovertemplate": "Ingredients=%{y}<br>Product=%{x}<extra></extra>",
         "legendgroup": "Cocoa",
         "marker": {
          "color": "#FECB52",
          "symbol": "circle"
         },
         "mode": "markers",
         "name": "Cocoa",
         "showlegend": true,
         "type": "scattergl",
         "x": [
          "Kitkat 4 Finger Milk Chocolate Bar",
          "Kitkat Chunky Original Chocolate Bar"
         ],
         "xaxis": "x",
         "y": [
          "Cocoa",
          "Cocoa"
         ],
         "yaxis": "y"
        },
        {
         "hovertemplate": "Ingredients=%{y}<br>Product=%{x}<extra></extra>",
         "legendgroup": "Yeast",
         "marker": {
          "color": "#636efa",
          "symbol": "circle"
         },
         "mode": "markers",
         "name": "Yeast",
         "showlegend": true,
         "type": "scattergl",
         "x": [
          "Kitkat 4 Finger Milk Chocolate Bar",
          "Kitkat Chunky Original Chocolate Bar",
          "Thins Cheese & Onion Chips"
         ],
         "xaxis": "x",
         "y": [
          "Yeast",
          "Yeast",
          "Yeast"
         ],
         "yaxis": "y"
        },
        {
         "hovertemplate": "Ingredients=%{y}<br>Product=%{x}<extra></extra>",
         "legendgroup": "Processing Aid Wheat",
         "marker": {
          "color": "#EF553B",
          "symbol": "circle"
         },
         "mode": "markers",
         "name": "Processing Aid Wheat",
         "showlegend": true,
         "type": "scattergl",
         "x": [
          "Kitkat 4 Finger Milk Chocolate Bar"
         ],
         "xaxis": "x",
         "y": [
          "Processing Aid Wheat"
         ],
         "yaxis": "y"
        },
        {
         "hovertemplate": "Ingredients=%{y}<br>Product=%{x}<extra></extra>",
         "legendgroup": "Choc Paste",
         "marker": {
          "color": "#00cc96",
          "symbol": "circle"
         },
         "mode": "markers",
         "name": "Choc Paste",
         "showlegend": true,
         "type": "scattergl",
         "x": [
          "Kitkat Chunky Original Chocolate Bar"
         ],
         "xaxis": "x",
         "y": [
          "Choc Paste"
         ],
         "yaxis": "y"
        },
        {
         "hovertemplate": "Ingredients=%{y}<br>Product=%{x}<extra></extra>",
         "legendgroup": "Full Cream Milk",
         "marker": {
          "color": "#ab63fa",
          "symbol": "circle"
         },
         "mode": "markers",
         "name": "Full Cream Milk",
         "showlegend": true,
         "type": "scattergl",
         "x": [
          "Cadbury Dairy Milk Caramello Koala Chocolate",
          "Cadbury Dairy Milk Chocolate Roll",
          "Cadbury Dairy Milk Chocolate Bar",
          "Cadbury Twirl Chocolate Bar",
          "Woolworths Full Cream Milk",
          "Woolworths Full Cream Milk",
          "Pauls Farmhouse Gold Full Cream Milk"
         ],
         "xaxis": "x",
         "y": [
          "Full Cream Milk",
          "Full Cream Milk",
          "Full Cream Milk",
          "Full Cream Milk",
          "Full Cream Milk",
          "Full Cream Milk",
          "Full Cream Milk"
         ],
         "yaxis": "y"
        },
        {
         "hovertemplate": "Ingredients=%{y}<br>Product=%{x}<extra></extra>",
         "legendgroup": "Glucose Syrup",
         "marker": {
          "color": "#FFA15A",
          "symbol": "circle"
         },
         "mode": "markers",
         "name": "Glucose Syrup",
         "showlegend": true,
         "type": "scattergl",
         "x": [
          "Cadbury Dairy Milk Caramello Koala Chocolate",
          "Cadbury Classic Choc Chip Cookies",
          "Masterfoods Barbecue Sauce"
         ],
         "xaxis": "x",
         "y": [
          "Glucose Syrup",
          "Glucose Syrup",
          "Glucose Syrup"
         ],
         "yaxis": "y"
        },
        {
         "hovertemplate": "Ingredients=%{y}<br>Product=%{x}<extra></extra>",
         "legendgroup": "Sweetened Condensed Milk",
         "marker": {
          "color": "#19d3f3",
          "symbol": "circle"
         },
         "mode": "markers",
         "name": "Sweetened Condensed Milk",
         "showlegend": true,
         "type": "scattergl",
         "x": [
          "Cadbury Dairy Milk Caramello Koala Chocolate",
          "Cadbury Chomp Chocolate Bar"
         ],
         "xaxis": "x",
         "y": [
          "Sweetened Condensed Milk",
          "Sweetened Condensed Milk"
         ],
         "yaxis": "y"
        },
        {
         "hovertemplate": "Ingredients=%{y}<br>Product=%{x}<extra></extra>",
         "legendgroup": "Golden Syrup",
         "marker": {
          "color": "#FF6692",
          "symbol": "circle"
         },
         "mode": "markers",
         "name": "Golden Syrup",
         "showlegend": true,
         "type": "scattergl",
         "x": [
          "Cadbury Dairy Milk Caramello Koala Chocolate"
         ],
         "xaxis": "x",
         "y": [
          "Golden Syrup"
         ],
         "yaxis": "y"
        },
        {
         "hovertemplate": "Ingredients=%{y}<br>Product=%{x}<extra></extra>",
         "legendgroup": "Invert Sugar",
         "marker": {
          "color": "#B6E880",
          "symbol": "circle"
         },
         "mode": "markers",
         "name": "Invert Sugar",
         "showlegend": true,
         "type": "scattergl",
         "x": [
          "Cadbury Dairy Milk Caramello Koala Chocolate"
         ],
         "xaxis": "x",
         "y": [
          "Invert Sugar"
         ],
         "yaxis": "y"
        },
        {
         "hovertemplate": "Ingredients=%{y}<br>Product=%{x}<extra></extra>",
         "legendgroup": "Acidity Regulator 331",
         "marker": {
          "color": "#FF97FF",
          "symbol": "circle"
         },
         "mode": "markers",
         "name": "Acidity Regulator 331",
         "showlegend": true,
         "type": "scattergl",
         "x": [
          "Cadbury Dairy Milk Caramello Koala Chocolate"
         ],
         "xaxis": "x",
         "y": [
          "Acidity Regulator 331"
         ],
         "yaxis": "y"
        },
        {
         "hovertemplate": "Ingredients=%{y}<br>Product=%{x}<extra></extra>",
         "legendgroup": "Milk Chocolate",
         "marker": {
          "color": "#FECB52",
          "symbol": "circle"
         },
         "mode": "markers",
         "name": "Milk Chocolate",
         "showlegend": true,
         "type": "scattergl",
         "x": [
          "Twix Milk Chocolate Bar With Caramel Biscuit"
         ],
         "xaxis": "x",
         "y": [
          "Milk Chocolate"
         ],
         "yaxis": "y"
        },
        {
         "hovertemplate": "Ingredients=%{y}<br>Product=%{x}<extra></extra>",
         "legendgroup": "Caramel",
         "marker": {
          "color": "#636efa",
          "symbol": "circle"
         },
         "mode": "markers",
         "name": "Caramel",
         "showlegend": true,
         "type": "scattergl",
         "x": [
          "Twix Milk Chocolate Bar With Caramel Biscuit"
         ],
         "xaxis": "x",
         "y": [
          "Caramel"
         ],
         "yaxis": "y"
        },
        {
         "hovertemplate": "Ingredients=%{y}<br>Product=%{x}<extra></extra>",
         "legendgroup": "Biscuit",
         "marker": {
          "color": "#EF553B",
          "symbol": "circle"
         },
         "mode": "markers",
         "name": "Biscuit",
         "showlegend": true,
         "type": "scattergl",
         "x": [
          "Twix Milk Chocolate Bar With Caramel Biscuit"
         ],
         "xaxis": "x",
         "y": [
          "Biscuit"
         ],
         "yaxis": "y"
        },
        {
         "hovertemplate": "Ingredients=%{y}<br>Product=%{x}<extra></extra>",
         "legendgroup": "Wheat Glucose Syrup",
         "marker": {
          "color": "#00cc96",
          "symbol": "circle"
         },
         "mode": "markers",
         "name": "Wheat Glucose Syrup",
         "showlegend": true,
         "type": "scattergl",
         "x": [
          "Mars Chocolate Bar With Nougat & Caramel",
          "Cadbury Chomp Chocolate Bar"
         ],
         "xaxis": "x",
         "y": [
          "Wheat Glucose Syrup",
          "Wheat Glucose Syrup"
         ],
         "yaxis": "y"
        },
        {
         "hovertemplate": "Ingredients=%{y}<br>Product=%{x}<extra></extra>",
         "legendgroup": "Barley Malt Extract",
         "marker": {
          "color": "#ab63fa",
          "symbol": "circle"
         },
         "mode": "markers",
         "name": "Barley Malt Extract",
         "showlegend": true,
         "type": "scattergl",
         "x": [
          "Mars Chocolate Bar With Nougat & Caramel"
         ],
         "xaxis": "x",
         "y": [
          "Barley Malt Extract"
         ],
         "yaxis": "y"
        },
        {
         "hovertemplate": "Ingredients=%{y}<br>Product=%{x}<extra></extra>",
         "legendgroup": "Egg White",
         "marker": {
          "color": "#FFA15A",
          "symbol": "circle"
         },
         "mode": "markers",
         "name": "Egg White",
         "showlegend": true,
         "type": "scattergl",
         "x": [
          "Mars Chocolate Bar With Nougat & Caramel"
         ],
         "xaxis": "x",
         "y": [
          "Egg White"
         ],
         "yaxis": "y"
        },
        {
         "hovertemplate": "Ingredients=%{y}<br>Product=%{x}<extra></extra>",
         "legendgroup": "Natural Flavour Vanilla Extract",
         "marker": {
          "color": "#19d3f3",
          "symbol": "circle"
         },
         "mode": "markers",
         "name": "Natural Flavour Vanilla Extract",
         "showlegend": true,
         "type": "scattergl",
         "x": [
          "Mars Chocolate Bar With Nougat & Caramel"
         ],
         "xaxis": "x",
         "y": [
          "Natural Flavour Vanilla Extract"
         ],
         "yaxis": "y"
        },
        {
         "hovertemplate": "Ingredients=%{y}<br>Product=%{x}<extra></extra>",
         "legendgroup": "Cocoa Powder",
         "marker": {
          "color": "#FF6692",
          "symbol": "circle"
         },
         "mode": "markers",
         "name": "Cocoa Powder",
         "showlegend": true,
         "type": "scattergl",
         "x": [
          "Cadbury Chomp Chocolate Bar",
          "Oreo Original Mini Cookies Multipack",
          "Oreo Minis Cookies Variety Bags 18 Pack",
          "Cadbury Choc Centre Cookies",
          "Byron Bay Cookies Dotty Cookie Bites",
          "Oreo Original Cookies",
          "Oreo Double Stuff Cookies",
          "Oreo Original Cookies Family Pack",
          "Oreo Chocolate Cookies",
          "Oreo Grab & Go Original Cookies 9 Pack",
          "Oreo Neapolitan Double Stuff Cookies"
         ],
         "xaxis": "x",
         "y": [
          "Cocoa Powder",
          "Cocoa Powder",
          "Cocoa Powder",
          "Cocoa Powder",
          "Cocoa Powder",
          "Cocoa Powder",
          "Cocoa Powder",
          "Cocoa Powder",
          "Cocoa Powder",
          "Cocoa Powder",
          "Cocoa Powder"
         ],
         "yaxis": "y"
        },
        {
         "hovertemplate": "Ingredients=%{y}<br>Product=%{x}<extra></extra>",
         "legendgroup": "Sorbitan Tristearate",
         "marker": {
          "color": "#B6E880",
          "symbol": "circle"
         },
         "mode": "markers",
         "name": "Sorbitan Tristearate",
         "showlegend": true,
         "type": "scattergl",
         "x": [
          "Cadbury Chomp Chocolate Bar",
          "Byron Bay Cookies Dotty Cookie Bites"
         ],
         "xaxis": "x",
         "y": [
          "Sorbitan Tristearate",
          "Sorbitan Tristearate"
         ],
         "yaxis": "y"
        },
        {
         "hovertemplate": "Ingredients=%{y}<br>Product=%{x}<extra></extra>",
         "legendgroup": "Emulsifier 471",
         "marker": {
          "color": "#FF97FF",
          "symbol": "circle"
         },
         "mode": "markers",
         "name": "Emulsifier 471",
         "showlegend": true,
         "type": "scattergl",
         "x": [
          "Cadbury Chomp Chocolate Bar"
         ],
         "xaxis": "x",
         "y": [
          "Emulsifier 471"
         ],
         "yaxis": "y"
        },
        {
         "hovertemplate": "Ingredients=%{y}<br>Product=%{x}<extra></extra>",
         "legendgroup": "Enzymes",
         "marker": {
          "color": "#FECB52",
          "symbol": "circle"
         },
         "mode": "markers",
         "name": "Enzymes",
         "showlegend": true,
         "type": "scattergl",
         "x": [
          "Cadbury Chomp Chocolate Bar"
         ],
         "xaxis": "x",
         "y": [
          "Enzymes"
         ],
         "yaxis": "y"
        },
        {
         "hovertemplate": "Ingredients=%{y}<br>Product=%{x}<extra></extra>",
         "legendgroup": "Polyglycerol polyricinoleate",
         "marker": {
          "color": "#636efa",
          "symbol": "circle"
         },
         "mode": "markers",
         "name": "Polyglycerol polyricinoleate",
         "showlegend": true,
         "type": "scattergl",
         "x": [
          "Arnott's Premier Chocolate Chip Cookies"
         ],
         "xaxis": "x",
         "y": [
          "Polyglycerol polyricinoleate"
         ],
         "yaxis": "y"
        },
        {
         "hovertemplate": "Ingredients=%{y}<br>Product=%{x}<extra></extra>",
         "legendgroup": "Desiccated Coconut",
         "marker": {
          "color": "#EF553B",
          "symbol": "circle"
         },
         "mode": "markers",
         "name": "Desiccated Coconut",
         "showlegend": true,
         "type": "scattergl",
         "x": [
          "Arnott's Premier Chocolate Chip Cookies",
          "Arnott's Mini Choc Chip Cookie Multipack Biscuits"
         ],
         "xaxis": "x",
         "y": [
          "Desiccated Coconut",
          "Desiccated Coconut"
         ],
         "yaxis": "y"
        },
        {
         "hovertemplate": "Ingredients=%{y}<br>Product=%{x}<extra></extra>",
         "legendgroup": "Wheat Starch",
         "marker": {
          "color": "#00cc96",
          "symbol": "circle"
         },
         "mode": "markers",
         "name": "Wheat Starch",
         "showlegend": true,
         "type": "scattergl",
         "x": [
          "Arnott's Premier Chocolate Chip Cookies",
          "Cadbury Choc Centre Cookies"
         ],
         "xaxis": "x",
         "y": [
          "Wheat Starch",
          "Wheat Starch"
         ],
         "yaxis": "y"
        },
        {
         "hovertemplate": "Ingredients=%{y}<br>Product=%{x}<extra></extra>",
         "legendgroup": "Baking Powder",
         "marker": {
          "color": "#ab63fa",
          "symbol": "circle"
         },
         "mode": "markers",
         "name": "Baking Powder",
         "showlegend": true,
         "type": "scattergl",
         "x": [
          "Arnott's Premier Chocolate Chip Cookies",
          "Arnott's Mini Choc Chip Cookie Multipack Biscuits"
         ],
         "xaxis": "x",
         "y": [
          "Baking Powder",
          "Baking Powder"
         ],
         "yaxis": "y"
        },
        {
         "hovertemplate": "Ingredients=%{y}<br>Product=%{x}<extra></extra>",
         "legendgroup": "Colouring Agent Caramel IV",
         "marker": {
          "color": "#FFA15A",
          "symbol": "circle"
         },
         "mode": "markers",
         "name": "Colouring Agent Caramel IV",
         "showlegend": true,
         "type": "scattergl",
         "x": [
          "Arnott's Premier Chocolate Chip Cookies"
         ],
         "xaxis": "x",
         "y": [
          "Colouring Agent Caramel IV"
         ],
         "yaxis": "y"
        },
        {
         "hovertemplate": "Ingredients=%{y}<br>Product=%{x}<extra></extra>",
         "legendgroup": "Antioxidant E307B",
         "marker": {
          "color": "#19d3f3",
          "symbol": "circle"
         },
         "mode": "markers",
         "name": "Antioxidant E307B",
         "showlegend": true,
         "type": "scattergl",
         "x": [
          "Arnott's Premier Chocolate Chip Cookies",
          "Arnott's Mini Choc Chip Cookie Multipack Biscuits"
         ],
         "xaxis": "x",
         "y": [
          "Antioxidant E307B",
          "Antioxidant E307B"
         ],
         "yaxis": "y"
        },
        {
         "hovertemplate": "Ingredients=%{y}<br>Product=%{x}<extra></extra>",
         "legendgroup": "Dark Compound Chocolate Chips",
         "marker": {
          "color": "#FF6692",
          "symbol": "circle"
         },
         "mode": "markers",
         "name": "Dark Compound Chocolate Chips",
         "showlegend": true,
         "type": "scattergl",
         "x": [
          "Woolworths Chocolate Chip Cookies"
         ],
         "xaxis": "x",
         "y": [
          "Dark Compound Chocolate Chips"
         ],
         "yaxis": "y"
        },
        {
         "hovertemplate": "Ingredients=%{y}<br>Product=%{x}<extra></extra>",
         "legendgroup": "Palm Oil",
         "marker": {
          "color": "#B6E880",
          "symbol": "circle"
         },
         "mode": "markers",
         "name": "Palm Oil",
         "showlegend": true,
         "type": "scattergl",
         "x": [
          "Woolworths Chocolate Chip Cookies",
          "Woolworths The King Of Chunky Chocolate Chip Cookies"
         ],
         "xaxis": "x",
         "y": [
          "Palm Oil",
          "Palm Oil"
         ],
         "yaxis": "y"
        },
        {
         "hovertemplate": "Ingredients=%{y}<br>Product=%{x}<extra></extra>",
         "legendgroup": "Cocoa Solids",
         "marker": {
          "color": "#FF97FF",
          "symbol": "circle"
         },
         "mode": "markers",
         "name": "Cocoa Solids",
         "showlegend": true,
         "type": "scattergl",
         "x": [
          "Woolworths Chocolate Chip Cookies"
         ],
         "xaxis": "x",
         "y": [
          "Cocoa Solids"
         ],
         "yaxis": "y"
        },
        {
         "hovertemplate": "Ingredients=%{y}<br>Product=%{x}<extra></extra>",
         "legendgroup": "Natural Flavour",
         "marker": {
          "color": "#FECB52",
          "symbol": "circle"
         },
         "mode": "markers",
         "name": "Natural Flavour",
         "showlegend": true,
         "type": "scattergl",
         "x": [
          "Woolworths Chocolate Chip Cookies",
          "Arnott's Mini Choc Chip Cookie Multipack Biscuits",
          "Woolworths Apple Juice",
          "Woolworths Apple & Mango Juice",
          "Woolworths Orange Juice",
          "Woolworths Apple & Blackcurrant Juice",
          "Golden Circle Drinks Pine Orange Fruit Drink",
          "Woolworths Tomato Sauce Squeeze",
          "Woolworths Tomato Sauce",
          "Fountain Tomato Sauce Squeeze",
          "Woolworths Barbecue Sauce",
          "Thins Chips Salt & Vinegar",
          "Thins Cheese & Onion Chips"
         ],
         "xaxis": "x",
         "y": [
          "Natural Flavour",
          "Natural Flavour",
          "Natural Flavour",
          "Natural Flavour",
          "Natural Flavour",
          "Natural Flavour",
          "Natural Flavour",
          "Natural Flavour",
          "Natural Flavour",
          "Natural Flavour",
          "Natural Flavour",
          "Natural Flavour",
          "Natural Flavour"
         ],
         "yaxis": "y"
        },
        {
         "hovertemplate": "Ingredients=%{y}<br>Product=%{x}<extra></extra>",
         "legendgroup": "Wheaten Corn Flour",
         "marker": {
          "color": "#636efa",
          "symbol": "circle"
         },
         "mode": "markers",
         "name": "Wheaten Corn Flour",
         "showlegend": true,
         "type": "scattergl",
         "x": [
          "Woolworths Chocolate Chip Cookies"
         ],
         "xaxis": "x",
         "y": [
          "Wheaten Corn Flour"
         ],
         "yaxis": "y"
        },
        {
         "hovertemplate": "Ingredients=%{y}<br>Product=%{x}<extra></extra>",
         "legendgroup": "Whole Egg Powder",
         "marker": {
          "color": "#EF553B",
          "symbol": "circle"
         },
         "mode": "markers",
         "name": "Whole Egg Powder",
         "showlegend": true,
         "type": "scattergl",
         "x": [
          "Woolworths Chocolate Chip Cookies"
         ],
         "xaxis": "x",
         "y": [
          "Whole Egg Powder"
         ],
         "yaxis": "y"
        },
        {
         "hovertemplate": "Ingredients=%{y}<br>Product=%{x}<extra></extra>",
         "legendgroup": "Milk Whey Powder",
         "marker": {
          "color": "#00cc96",
          "symbol": "circle"
         },
         "mode": "markers",
         "name": "Milk Whey Powder",
         "showlegend": true,
         "type": "scattergl",
         "x": [
          "Woolworths Chocolate Chip Cookies",
          "Woolworths The King Of Chunky Chocolate Chip Cookies",
          "Smith's Crinkle Cut Potato Chips Cheese & Onion",
          "Thins Chips Light & Tangy",
          "Thins Cheese & Onion Chips"
         ],
         "xaxis": "x",
         "y": [
          "Milk Whey Powder",
          "Milk Whey Powder",
          "Milk Whey Powder",
          "Milk Whey Powder",
          "Milk Whey Powder"
         ],
         "yaxis": "y"
        },
        {
         "hovertemplate": "Ingredients=%{y}<br>Product=%{x}<extra></extra>",
         "legendgroup": "Annatto Extracts",
         "marker": {
          "color": "#ab63fa",
          "symbol": "circle"
         },
         "mode": "markers",
         "name": "Annatto Extracts",
         "showlegend": true,
         "type": "scattergl",
         "x": [
          "Woolworths Chocolate Chip Cookies"
         ],
         "xaxis": "x",
         "y": [
          "Annatto Extracts"
         ],
         "yaxis": "y"
        },
        {
         "hovertemplate": "Ingredients=%{y}<br>Product=%{x}<extra></extra>",
         "legendgroup": "Sodium Carbonate",
         "marker": {
          "color": "#FFA15A",
          "symbol": "circle"
         },
         "mode": "markers",
         "name": "Sodium Carbonate",
         "showlegend": true,
         "type": "scattergl",
         "x": [
          "Woolworths Chocolate Chip Cookies",
          "Woolworths The King Of Chunky Chocolate Chip Cookies"
         ],
         "xaxis": "x",
         "y": [
          "Sodium Carbonate",
          "Sodium Carbonate"
         ],
         "yaxis": "y"
        },
        {
         "hovertemplate": "Ingredients=%{y}<br>Product=%{x}<extra></extra>",
         "legendgroup": "Ammonium Carbonate",
         "marker": {
          "color": "#19d3f3",
          "symbol": "circle"
         },
         "mode": "markers",
         "name": "Ammonium Carbonate",
         "showlegend": true,
         "type": "scattergl",
         "x": [
          "Woolworths Chocolate Chip Cookies",
          "Woolworths The King Of Chunky Chocolate Chip Cookies"
         ],
         "xaxis": "x",
         "y": [
          "Ammonium Carbonate",
          "Ammonium Carbonate"
         ],
         "yaxis": "y"
        },
        {
         "hovertemplate": "Ingredients=%{y}<br>Product=%{x}<extra></extra>",
         "legendgroup": "Dark Chocolate Chips",
         "marker": {
          "color": "#FF6692",
          "symbol": "circle"
         },
         "mode": "markers",
         "name": "Dark Chocolate Chips",
         "showlegend": true,
         "type": "scattergl",
         "x": [
          "Woolworths The King Of Chunky Chocolate Chip Cookies"
         ],
         "xaxis": "x",
         "y": [
          "Dark Chocolate Chips"
         ],
         "yaxis": "y"
        },
        {
         "hovertemplate": "Ingredients=%{y}<br>Product=%{x}<extra></extra>",
         "legendgroup": "Natural Vanilla Flavour",
         "marker": {
          "color": "#B6E880",
          "symbol": "circle"
         },
         "mode": "markers",
         "name": "Natural Vanilla Flavour",
         "showlegend": true,
         "type": "scattergl",
         "x": [
          "Woolworths The King Of Chunky Chocolate Chip Cookies",
          "Byron Bay Cookies Dotty Cookie Bites",
          "Woolworths Creamed Rice"
         ],
         "xaxis": "x",
         "y": [
          "Natural Vanilla Flavour",
          "Natural Vanilla Flavour",
          "Natural Vanilla Flavour"
         ],
         "yaxis": "y"
        },
        {
         "hovertemplate": "Ingredients=%{y}<br>Product=%{x}<extra></extra>",
         "legendgroup": "Milk Butter",
         "marker": {
          "color": "#FF97FF",
          "symbol": "circle"
         },
         "mode": "markers",
         "name": "Milk Butter",
         "showlegend": true,
         "type": "scattergl",
         "x": [
          "Woolworths The King Of Chunky Chocolate Chip Cookies",
          "Arnott's Mini Choc Chip Cookie Multipack Biscuits",
          "Byron Bay Cookies Dotty Cookie Bites"
         ],
         "xaxis": "x",
         "y": [
          "Milk Butter",
          "Milk Butter",
          "Milk Butter"
         ],
         "yaxis": "y"
        },
        {
         "hovertemplate": "Ingredients=%{y}<br>Product=%{x}<extra></extra>",
         "legendgroup": "Natural Flavour Vanilla",
         "marker": {
          "color": "#FECB52",
          "symbol": "circle"
         },
         "mode": "markers",
         "name": "Natural Flavour Vanilla",
         "showlegend": true,
         "type": "scattergl",
         "x": [
          "Woolworths The King Of Chunky Chocolate Chip Cookies"
         ],
         "xaxis": "x",
         "y": [
          "Natural Flavour Vanilla"
         ],
         "yaxis": "y"
        },
        {
         "hovertemplate": "Ingredients=%{y}<br>Product=%{x}<extra></extra>",
         "legendgroup": "Natural Flavour Butter",
         "marker": {
          "color": "#636efa",
          "symbol": "circle"
         },
         "mode": "markers",
         "name": "Natural Flavour Butter",
         "showlegend": true,
         "type": "scattergl",
         "x": [
          "Woolworths The King Of Chunky Chocolate Chip Cookies"
         ],
         "xaxis": "x",
         "y": [
          "Natural Flavour Butter"
         ],
         "yaxis": "y"
        },
        {
         "hovertemplate": "Ingredients=%{y}<br>Product=%{x}<extra></extra>",
         "legendgroup": "Chocolate Chips",
         "marker": {
          "color": "#EF553B",
          "symbol": "circle"
         },
         "mode": "markers",
         "name": "Chocolate Chips",
         "showlegend": true,
         "type": "scattergl",
         "x": [
          "Arnott's Mini Choc Chip Cookie Multipack Biscuits"
         ],
         "xaxis": "x",
         "y": [
          "Chocolate Chips"
         ],
         "yaxis": "y"
        },
        {
         "hovertemplate": "Ingredients=%{y}<br>Product=%{x}<extra></extra>",
         "legendgroup": "Skim Milk Powder",
         "marker": {
          "color": "#00cc96",
          "symbol": "circle"
         },
         "mode": "markers",
         "name": "Skim Milk Powder",
         "showlegend": true,
         "type": "scattergl",
         "x": [
          "Arnott's Mini Choc Chip Cookie Multipack Biscuits"
         ],
         "xaxis": "x",
         "y": [
          "Skim Milk Powder"
         ],
         "yaxis": "y"
        },
        {
         "hovertemplate": "Ingredients=%{y}<br>Product=%{x}<extra></extra>",
         "legendgroup": "Fructose Syrup",
         "marker": {
          "color": "#ab63fa",
          "symbol": "circle"
         },
         "mode": "markers",
         "name": "Fructose Syrup",
         "showlegend": true,
         "type": "scattergl",
         "x": [
          "Oreo Original Mini Cookies Multipack",
          "Oreo Minis Cookies Variety Bags 18 Pack",
          "Oreo Original Cookies",
          "Oreo Double Stuff Cookies",
          "Oreo Original Cookies Family Pack",
          "Oreo Chocolate Cookies",
          "Oreo Neapolitan Double Stuff Cookies"
         ],
         "xaxis": "x",
         "y": [
          "Fructose Syrup",
          "Fructose Syrup",
          "Fructose Syrup",
          "Fructose Syrup",
          "Fructose Syrup",
          "Fructose Syrup",
          "Fructose Syrup"
         ],
         "yaxis": "y"
        },
        {
         "hovertemplate": "Ingredients=%{y}<br>Product=%{x}<extra></extra>",
         "legendgroup": "Cornstarch",
         "marker": {
          "color": "#FFA15A",
          "symbol": "circle"
         },
         "mode": "markers",
         "name": "Cornstarch",
         "showlegend": true,
         "type": "scattergl",
         "x": [
          "Oreo Original Mini Cookies Multipack",
          "Oreo Minis Cookies Variety Bags 18 Pack",
          "Byron Bay Cookies Dotty Cookie Bites",
          "Oreo Original Cookies",
          "Oreo Double Stuff Cookies",
          "Oreo Original Cookies Family Pack",
          "Oreo Chocolate Cookies",
          "Oreo Grab & Go Original Cookies 9 Pack",
          "Oreo Neapolitan Double Stuff Cookies"
         ],
         "xaxis": "x",
         "y": [
          "Cornstarch",
          "Cornstarch",
          "Cornstarch",
          "Cornstarch",
          "Cornstarch",
          "Cornstarch",
          "Cornstarch",
          "Cornstarch",
          "Cornstarch"
         ],
         "yaxis": "y"
        },
        {
         "hovertemplate": "Ingredients=%{y}<br>Product=%{x}<extra></extra>",
         "legendgroup": "Ammonium Bicarbonate",
         "marker": {
          "color": "#19d3f3",
          "symbol": "circle"
         },
         "mode": "markers",
         "name": "Ammonium Bicarbonate",
         "showlegend": true,
         "type": "scattergl",
         "x": [
          "Oreo Original Mini Cookies Multipack",
          "Oreo Minis Cookies Variety Bags 18 Pack",
          "Cadbury Classic Choc Chip Cookies",
          "Cadbury Choc Centre Cookies",
          "Oreo Original Cookies",
          "Oreo Double Stuff Cookies",
          "Oreo Original Cookies Family Pack",
          "Oreo Chocolate Cookies",
          "Oreo Grab & Go Original Cookies 9 Pack",
          "Oreo Neapolitan Double Stuff Cookies"
         ],
         "xaxis": "x",
         "y": [
          "Ammonium Bicarbonate",
          "Ammonium Bicarbonate",
          "Ammonium Bicarbonate",
          "Ammonium Bicarbonate",
          "Ammonium Bicarbonate",
          "Ammonium Bicarbonate",
          "Ammonium Bicarbonate",
          "Ammonium Bicarbonate",
          "Ammonium Bicarbonate",
          "Ammonium Bicarbonate"
         ],
         "yaxis": "y"
        },
        {
         "hovertemplate": "Ingredients=%{y}<br>Product=%{x}<extra></extra>",
         "legendgroup": "Mineral Iron",
         "marker": {
          "color": "#FF6692",
          "symbol": "circle"
         },
         "mode": "markers",
         "name": "Mineral Iron",
         "showlegend": true,
         "type": "scattergl",
         "x": [
          "Oreo Original Mini Cookies Multipack",
          "Oreo Minis Cookies Variety Bags 18 Pack",
          "Oreo Original Cookies",
          "Oreo Double Stuff Cookies",
          "Oreo Original Cookies Family Pack",
          "Oreo Chocolate Cookies",
          "Oreo Grab & Go Original Cookies 9 Pack",
          "Oreo Neapolitan Double Stuff Cookies"
         ],
         "xaxis": "x",
         "y": [
          "Mineral Iron",
          "Mineral Iron",
          "Mineral Iron",
          "Mineral Iron",
          "Mineral Iron",
          "Mineral Iron",
          "Mineral Iron",
          "Mineral Iron"
         ],
         "yaxis": "y"
        },
        {
         "hovertemplate": "Ingredients=%{y}<br>Product=%{x}<extra></extra>",
         "legendgroup": "Zinc",
         "marker": {
          "color": "#B6E880",
          "symbol": "circle"
         },
         "mode": "markers",
         "name": "Zinc",
         "showlegend": true,
         "type": "scattergl",
         "x": [
          "Oreo Original Mini Cookies Multipack",
          "Oreo Minis Cookies Variety Bags 18 Pack",
          "Oreo Original Cookies",
          "Oreo Double Stuff Cookies",
          "Oreo Original Cookies Family Pack",
          "Oreo Chocolate Cookies",
          "Oreo Grab & Go Original Cookies 9 Pack",
          "Oreo Neapolitan Double Stuff Cookies"
         ],
         "xaxis": "x",
         "y": [
          "Zinc",
          "Zinc",
          "Zinc",
          "Zinc",
          "Zinc",
          "Zinc",
          "Zinc",
          "Zinc"
         ],
         "yaxis": "y"
        },
        {
         "hovertemplate": "Ingredients=%{y}<br>Product=%{x}<extra></extra>",
         "legendgroup": "Riboflavin",
         "marker": {
          "color": "#FF97FF",
          "symbol": "circle"
         },
         "mode": "markers",
         "name": "Riboflavin",
         "showlegend": true,
         "type": "scattergl",
         "x": [
          "Oreo Original Mini Cookies Multipack",
          "Oreo Minis Cookies Variety Bags 18 Pack",
          "Oreo Original Cookies",
          "Oreo Double Stuff Cookies",
          "Oreo Original Cookies Family Pack",
          "Oreo Chocolate Cookies",
          "Oreo Grab & Go Original Cookies 9 Pack",
          "Oreo Neapolitan Double Stuff Cookies"
         ],
         "xaxis": "x",
         "y": [
          "Riboflavin",
          "Riboflavin",
          "Riboflavin",
          "Riboflavin",
          "Riboflavin",
          "Riboflavin",
          "Riboflavin",
          "Riboflavin"
         ],
         "yaxis": "y"
        },
        {
         "hovertemplate": "Ingredients=%{y}<br>Product=%{x}<extra></extra>",
         "legendgroup": "Thiamin",
         "marker": {
          "color": "#FECB52",
          "symbol": "circle"
         },
         "mode": "markers",
         "name": "Thiamin",
         "showlegend": true,
         "type": "scattergl",
         "x": [
          "Oreo Original Mini Cookies Multipack",
          "Oreo Minis Cookies Variety Bags 18 Pack",
          "Oreo Original Cookies",
          "Oreo Double Stuff Cookies",
          "Oreo Original Cookies Family Pack",
          "Oreo Chocolate Cookies",
          "Oreo Grab & Go Original Cookies 9 Pack",
          "Oreo Neapolitan Double Stuff Cookies"
         ],
         "xaxis": "x",
         "y": [
          "Thiamin",
          "Thiamin",
          "Thiamin",
          "Thiamin",
          "Thiamin",
          "Thiamin",
          "Thiamin",
          "Thiamin"
         ],
         "yaxis": "y"
        },
        {
         "hovertemplate": "Ingredients=%{y}<br>Product=%{x}<extra></extra>",
         "legendgroup": "Folate",
         "marker": {
          "color": "#636efa",
          "symbol": "circle"
         },
         "mode": "markers",
         "name": "Folate",
         "showlegend": true,
         "type": "scattergl",
         "x": [
          "Oreo Original Mini Cookies Multipack",
          "Oreo Minis Cookies Variety Bags 18 Pack",
          "Oreo Original Cookies",
          "Woolworths Multivitamin Juice",
          "Oreo Double Stuff Cookies",
          "Oreo Original Cookies Family Pack",
          "Oreo Chocolate Cookies",
          "Oreo Grab & Go Original Cookies 9 Pack",
          "Oreo Neapolitan Double Stuff Cookies"
         ],
         "xaxis": "x",
         "y": [
          "Folate",
          "Folate",
          "Folate",
          "Folate",
          "Folate",
          "Folate",
          "Folate",
          "Folate",
          "Folate"
         ],
         "yaxis": "y"
        },
        {
         "hovertemplate": "Ingredients=%{y}<br>Product=%{x}<extra></extra>",
         "legendgroup": "Strawberry",
         "marker": {
          "color": "#EF553B",
          "symbol": "circle"
         },
         "mode": "markers",
         "name": "Strawberry",
         "showlegend": true,
         "type": "scattergl",
         "x": [
          "Oreo Minis Cookies Variety Bags 18 Pack"
         ],
         "xaxis": "x",
         "y": [
          "Strawberry"
         ],
         "yaxis": "y"
        },
        {
         "hovertemplate": "Ingredients=%{y}<br>Product=%{x}<extra></extra>",
         "legendgroup": "Carmine",
         "marker": {
          "color": "#00cc96",
          "symbol": "circle"
         },
         "mode": "markers",
         "name": "Carmine",
         "showlegend": true,
         "type": "scattergl",
         "x": [
          "Oreo Minis Cookies Variety Bags 18 Pack",
          "Rimmel Scandaleyes Eye Definer Brown",
          "Oreo Neapolitan Double Stuff Cookies"
         ],
         "xaxis": "x",
         "y": [
          "Carmine",
          "Carmine",
          "Carmine"
         ],
         "yaxis": "y"
        },
        {
         "hovertemplate": "Ingredients=%{y}<br>Product=%{x}<extra></extra>",
         "legendgroup": "Milk Chocolate Chips",
         "marker": {
          "color": "#ab63fa",
          "symbol": "circle"
         },
         "mode": "markers",
         "name": "Milk Chocolate Chips",
         "showlegend": true,
         "type": "scattergl",
         "x": [
          "Cadbury Classic Choc Chip Cookies",
          "Cadbury Choc Centre Cookies"
         ],
         "xaxis": "x",
         "y": [
          "Milk Chocolate Chips",
          "Milk Chocolate Chips"
         ],
         "yaxis": "y"
        },
        {
         "hovertemplate": "Ingredients=%{y}<br>Product=%{x}<extra></extra>",
         "legendgroup": "Dextrose",
         "marker": {
          "color": "#FFA15A",
          "symbol": "circle"
         },
         "mode": "markers",
         "name": "Dextrose",
         "showlegend": true,
         "type": "scattergl",
         "x": [
          "Cadbury Classic Choc Chip Cookies",
          "Cadbury Choc Centre Cookies",
          "Smith's Crinkle Cut Potato Chips Cheese & Onion",
          "Smith's Crinkle Cut Potato Chips Salt & Vinegar"
         ],
         "xaxis": "x",
         "y": [
          "Dextrose",
          "Dextrose",
          "Dextrose",
          "Dextrose"
         ],
         "yaxis": "y"
        },
        {
         "hovertemplate": "Ingredients=%{y}<br>Product=%{x}<extra></extra>",
         "legendgroup": "Emulsifier 442",
         "marker": {
          "color": "#19d3f3",
          "symbol": "circle"
         },
         "mode": "markers",
         "name": "Emulsifier 442",
         "showlegend": true,
         "type": "scattergl",
         "x": [
          "Cadbury Classic Choc Chip Cookies",
          "Cadbury Choc Centre Cookies"
         ],
         "xaxis": "x",
         "y": [
          "Emulsifier 442",
          "Emulsifier 442"
         ],
         "yaxis": "y"
        },
        {
         "hovertemplate": "Ingredients=%{y}<br>Product=%{x}<extra></extra>",
         "legendgroup": "Egg",
         "marker": {
          "color": "#FF6692",
          "symbol": "circle"
         },
         "mode": "markers",
         "name": "Egg",
         "showlegend": true,
         "type": "scattergl",
         "x": [
          "Cadbury Classic Choc Chip Cookies",
          "Byron Bay Cookies Dotty Cookie Bites"
         ],
         "xaxis": "x",
         "y": [
          "Egg",
          "Egg"
         ],
         "yaxis": "y"
        },
        {
         "hovertemplate": "Ingredients=%{y}<br>Product=%{x}<extra></extra>",
         "legendgroup": "Stabiliser 422",
         "marker": {
          "color": "#B6E880",
          "symbol": "circle"
         },
         "mode": "markers",
         "name": "Stabiliser 422",
         "showlegend": true,
         "type": "scattergl",
         "x": [
          "Cadbury Classic Choc Chip Cookies"
         ],
         "xaxis": "x",
         "y": [
          "Stabiliser 422"
         ],
         "yaxis": "y"
        },
        {
         "hovertemplate": "Ingredients=%{y}<br>Product=%{x}<extra></extra>",
         "legendgroup": "Soybean Fibre",
         "marker": {
          "color": "#FF97FF",
          "symbol": "circle"
         },
         "mode": "markers",
         "name": "Soybean Fibre",
         "showlegend": true,
         "type": "scattergl",
         "x": [
          "Cadbury Classic Choc Chip Cookies",
          "Cadbury Choc Centre Cookies"
         ],
         "xaxis": "x",
         "y": [
          "Soybean Fibre",
          "Soybean Fibre"
         ],
         "yaxis": "y"
        },
        {
         "hovertemplate": "Ingredients=%{y}<br>Product=%{x}<extra></extra>",
         "legendgroup": "Thickener 1422",
         "marker": {
          "color": "#FECB52",
          "symbol": "circle"
         },
         "mode": "markers",
         "name": "Thickener 1422",
         "showlegend": true,
         "type": "scattergl",
         "x": [
          "Cadbury Classic Choc Chip Cookies",
          "Woolworths Secret Burger Sauce"
         ],
         "xaxis": "x",
         "y": [
          "Thickener 1422",
          "Thickener 1422"
         ],
         "yaxis": "y"
        },
        {
         "hovertemplate": "Ingredients=%{y}<br>Product=%{x}<extra></extra>",
         "legendgroup": "Raising Agent 450",
         "marker": {
          "color": "#636efa",
          "symbol": "circle"
         },
         "mode": "markers",
         "name": "Raising Agent 450",
         "showlegend": true,
         "type": "scattergl",
         "x": [
          "Cadbury Classic Choc Chip Cookies",
          "Cadbury Choc Centre Cookies",
          "Byron Bay Cookies Dotty Cookie Bites"
         ],
         "xaxis": "x",
         "y": [
          "Raising Agent 450",
          "Raising Agent 450",
          "Raising Agent 450"
         ],
         "yaxis": "y"
        },
        {
         "hovertemplate": "Ingredients=%{y}<br>Product=%{x}<extra></extra>",
         "legendgroup": "Colouring Agent 160a",
         "marker": {
          "color": "#EF553B",
          "symbol": "circle"
         },
         "mode": "markers",
         "name": "Colouring Agent 160a",
         "showlegend": true,
         "type": "scattergl",
         "x": [
          "Cadbury Classic Choc Chip Cookies",
          "Cadbury Choc Centre Cookies"
         ],
         "xaxis": "x",
         "y": [
          "Colouring Agent 160a",
          "Colouring Agent 160a"
         ],
         "yaxis": "y"
        },
        {
         "hovertemplate": "Ingredients=%{y}<br>Product=%{x}<extra></extra>",
         "legendgroup": "Thickener 1414",
         "marker": {
          "color": "#00cc96",
          "symbol": "circle"
         },
         "mode": "markers",
         "name": "Thickener 1414",
         "showlegend": true,
         "type": "scattergl",
         "x": [
          "Cadbury Choc Centre Cookies"
         ],
         "xaxis": "x",
         "y": [
          "Thickener 1414"
         ],
         "yaxis": "y"
        },
        {
         "hovertemplate": "Ingredients=%{y}<br>Product=%{x}<extra></extra>",
         "legendgroup": "Milk Compound Chocolate",
         "marker": {
          "color": "#ab63fa",
          "symbol": "circle"
         },
         "mode": "markers",
         "name": "Milk Compound Chocolate",
         "showlegend": true,
         "type": "scattergl",
         "x": [
          "Byron Bay Cookies Dotty Cookie Bites"
         ],
         "xaxis": "x",
         "y": [
          "Milk Compound Chocolate"
         ],
         "yaxis": "y"
        },
        {
         "hovertemplate": "Ingredients=%{y}<br>Product=%{x}<extra></extra>",
         "legendgroup": "Glazing Agent 414",
         "marker": {
          "color": "#FFA15A",
          "symbol": "circle"
         },
         "mode": "markers",
         "name": "Glazing Agent 414",
         "showlegend": true,
         "type": "scattergl",
         "x": [
          "Byron Bay Cookies Dotty Cookie Bites"
         ],
         "xaxis": "x",
         "y": [
          "Glazing Agent 414"
         ],
         "yaxis": "y"
        },
        {
         "hovertemplate": "Ingredients=%{y}<br>Product=%{x}<extra></extra>",
         "legendgroup": "Carnauba Wax",
         "marker": {
          "color": "#19d3f3",
          "symbol": "circle"
         },
         "mode": "markers",
         "name": "Carnauba Wax",
         "showlegend": true,
         "type": "scattergl",
         "x": [
          "Byron Bay Cookies Dotty Cookie Bites"
         ],
         "xaxis": "x",
         "y": [
          "Carnauba Wax"
         ],
         "yaxis": "y"
        },
        {
         "hovertemplate": "Ingredients=%{y}<br>Product=%{x}<extra></extra>",
         "legendgroup": "Colouring Agent Titan White",
         "marker": {
          "color": "#FF6692",
          "symbol": "circle"
         },
         "mode": "markers",
         "name": "Colouring Agent Titan White",
         "showlegend": true,
         "type": "scattergl",
         "x": [
          "Byron Bay Cookies Dotty Cookie Bites"
         ],
         "xaxis": "x",
         "y": [
          "Colouring Agent Titan White"
         ],
         "yaxis": "y"
        },
        {
         "hovertemplate": "Ingredients=%{y}<br>Product=%{x}<extra></extra>",
         "legendgroup": "Colouring Agent Spirulina Extract",
         "marker": {
          "color": "#B6E880",
          "symbol": "circle"
         },
         "mode": "markers",
         "name": "Colouring Agent Spirulina Extract",
         "showlegend": true,
         "type": "scattergl",
         "x": [
          "Byron Bay Cookies Dotty Cookie Bites"
         ],
         "xaxis": "x",
         "y": [
          "Colouring Agent Spirulina Extract"
         ],
         "yaxis": "y"
        },
        {
         "hovertemplate": "Ingredients=%{y}<br>Product=%{x}<extra></extra>",
         "legendgroup": "Beta carotene",
         "marker": {
          "color": "#FF97FF",
          "symbol": "circle"
         },
         "mode": "markers",
         "name": "Beta carotene",
         "showlegend": true,
         "type": "scattergl",
         "x": [
          "Byron Bay Cookies Dotty Cookie Bites"
         ],
         "xaxis": "x",
         "y": [
          "Beta carotene"
         ],
         "yaxis": "y"
        },
        {
         "hovertemplate": "Ingredients=%{y}<br>Product=%{x}<extra></extra>",
         "legendgroup": "Red Beetroot Powder",
         "marker": {
          "color": "#FECB52",
          "symbol": "circle"
         },
         "mode": "markers",
         "name": "Red Beetroot Powder",
         "showlegend": true,
         "type": "scattergl",
         "x": [
          "Byron Bay Cookies Dotty Cookie Bites"
         ],
         "xaxis": "x",
         "y": [
          "Red Beetroot Powder"
         ],
         "yaxis": "y"
        },
        {
         "hovertemplate": "Ingredients=%{y}<br>Product=%{x}<extra></extra>",
         "legendgroup": "Black Carrot Extract",
         "marker": {
          "color": "#636efa",
          "symbol": "circle"
         },
         "mode": "markers",
         "name": "Black Carrot Extract",
         "showlegend": true,
         "type": "scattergl",
         "x": [
          "Byron Bay Cookies Dotty Cookie Bites"
         ],
         "xaxis": "x",
         "y": [
          "Black Carrot Extract"
         ],
         "yaxis": "y"
        },
        {
         "hovertemplate": "Ingredients=%{y}<br>Product=%{x}<extra></extra>",
         "legendgroup": "Cultured Dextrose",
         "marker": {
          "color": "#EF553B",
          "symbol": "circle"
         },
         "mode": "markers",
         "name": "Cultured Dextrose",
         "showlegend": true,
         "type": "scattergl",
         "x": [
          "Byron Bay Cookies Dotty Cookie Bites"
         ],
         "xaxis": "x",
         "y": [
          "Cultured Dextrose"
         ],
         "yaxis": "y"
        },
        {
         "hovertemplate": "Ingredients=%{y}<br>Product=%{x}<extra></extra>",
         "legendgroup": "Maize Starch",
         "marker": {
          "color": "#00cc96",
          "symbol": "circle"
         },
         "mode": "markers",
         "name": "Maize Starch",
         "showlegend": true,
         "type": "scattergl",
         "x": [
          "Byron Bay Cookies Dotty Cookie Bites"
         ],
         "xaxis": "x",
         "y": [
          "Maize Starch"
         ],
         "yaxis": "y"
        },
        {
         "hovertemplate": "Ingredients=%{y}<br>Product=%{x}<extra></extra>",
         "legendgroup": "Polyethylene",
         "marker": {
          "color": "#ab63fa",
          "symbol": "circle"
         },
         "mode": "markers",
         "name": "Polyethylene",
         "showlegend": true,
         "type": "scattergl",
         "x": [
          "Rimmel Scandaleyes Eye Definer Brown"
         ],
         "xaxis": "x",
         "y": [
          "Polyethylene"
         ],
         "yaxis": "y"
        },
        {
         "hovertemplate": "Ingredients=%{y}<br>Product=%{x}<extra></extra>",
         "legendgroup": "Synthetic Wax",
         "marker": {
          "color": "#FFA15A",
          "symbol": "circle"
         },
         "mode": "markers",
         "name": "Synthetic Wax",
         "showlegend": true,
         "type": "scattergl",
         "x": [
          "Rimmel Scandaleyes Eye Definer Brown"
         ],
         "xaxis": "x",
         "y": [
          "Synthetic Wax"
         ],
         "yaxis": "y"
        },
        {
         "hovertemplate": "Ingredients=%{y}<br>Product=%{x}<extra></extra>",
         "legendgroup": "Bis-Diglyceryl Polyacyladipate-2",
         "marker": {
          "color": "#19d3f3",
          "symbol": "circle"
         },
         "mode": "markers",
         "name": "Bis-Diglyceryl Polyacyladipate-2",
         "showlegend": true,
         "type": "scattergl",
         "x": [
          "Rimmel Scandaleyes Eye Definer Brown"
         ],
         "xaxis": "x",
         "y": [
          "Bis-Diglyceryl Polyacyladipate-2"
         ],
         "yaxis": "y"
        },
        {
         "hovertemplate": "Ingredients=%{y}<br>Product=%{x}<extra></extra>",
         "legendgroup": "Polybutene",
         "marker": {
          "color": "#FF6692",
          "symbol": "circle"
         },
         "mode": "markers",
         "name": "Polybutene",
         "showlegend": true,
         "type": "scattergl",
         "x": [
          "Rimmel Scandaleyes Eye Definer Brown"
         ],
         "xaxis": "x",
         "y": [
          "Polybutene"
         ],
         "yaxis": "y"
        },
        {
         "hovertemplate": "Ingredients=%{y}<br>Product=%{x}<extra></extra>",
         "legendgroup": "Silica",
         "marker": {
          "color": "#B6E880",
          "symbol": "circle"
         },
         "mode": "markers",
         "name": "Silica",
         "showlegend": true,
         "type": "scattergl",
         "x": [
          "Rimmel Scandaleyes Eye Definer Brown"
         ],
         "xaxis": "x",
         "y": [
          "Silica"
         ],
         "yaxis": "y"
        },
        {
         "hovertemplate": "Ingredients=%{y}<br>Product=%{x}<extra></extra>",
         "legendgroup": "Octyldodecanol",
         "marker": {
          "color": "#FF97FF",
          "symbol": "circle"
         },
         "mode": "markers",
         "name": "Octyldodecanol",
         "showlegend": true,
         "type": "scattergl",
         "x": [
          "Rimmel Scandaleyes Eye Definer Brown"
         ],
         "xaxis": "x",
         "y": [
          "Octyldodecanol"
         ],
         "yaxis": "y"
        },
        {
         "hovertemplate": "Ingredients=%{y}<br>Product=%{x}<extra></extra>",
         "legendgroup": "Pentaerythrityl Tetra-di-t-butyl Hydroxyhydrocinnamate",
         "marker": {
          "color": "#FECB52",
          "symbol": "circle"
         },
         "mode": "markers",
         "name": "Pentaerythrityl Tetra-di-t-butyl Hydroxyhydrocinnamate",
         "showlegend": true,
         "type": "scattergl",
         "x": [
          "Rimmel Scandaleyes Eye Definer Brown"
         ],
         "xaxis": "x",
         "y": [
          "Pentaerythrityl Tetra-di-t-butyl Hydroxyhydrocinnamate"
         ],
         "yaxis": "y"
        },
        {
         "hovertemplate": "Ingredients=%{y}<br>Product=%{x}<extra></extra>",
         "legendgroup": "Mica",
         "marker": {
          "color": "#636efa",
          "symbol": "circle"
         },
         "mode": "markers",
         "name": "Mica",
         "showlegend": true,
         "type": "scattergl",
         "x": [
          "Rimmel Scandaleyes Eye Definer Brown"
         ],
         "xaxis": "x",
         "y": [
          "Mica"
         ],
         "yaxis": "y"
        },
        {
         "hovertemplate": "Ingredients=%{y}<br>Product=%{x}<extra></extra>",
         "legendgroup": "Ultramarines",
         "marker": {
          "color": "#EF553B",
          "symbol": "circle"
         },
         "mode": "markers",
         "name": "Ultramarines",
         "showlegend": true,
         "type": "scattergl",
         "x": [
          "Rimmel Scandaleyes Eye Definer Brown"
         ],
         "xaxis": "x",
         "y": [
          "Ultramarines"
         ],
         "yaxis": "y"
        },
        {
         "hovertemplate": "Ingredients=%{y}<br>Product=%{x}<extra></extra>",
         "legendgroup": "Iron Oxides",
         "marker": {
          "color": "#00cc96",
          "symbol": "circle"
         },
         "mode": "markers",
         "name": "Iron Oxides",
         "showlegend": true,
         "type": "scattergl",
         "x": [
          "Rimmel Scandaleyes Eye Definer Brown"
         ],
         "xaxis": "x",
         "y": [
          "Iron Oxides"
         ],
         "yaxis": "y"
        },
        {
         "hovertemplate": "Ingredients=%{y}<br>Product=%{x}<extra></extra>",
         "legendgroup": "Titanium Dioxide",
         "marker": {
          "color": "#ab63fa",
          "symbol": "circle"
         },
         "mode": "markers",
         "name": "Titanium Dioxide",
         "showlegend": true,
         "type": "scattergl",
         "x": [
          "Rimmel Scandaleyes Eye Definer Brown"
         ],
         "xaxis": "x",
         "y": [
          "Titanium Dioxide"
         ],
         "yaxis": "y"
        },
        {
         "hovertemplate": "Ingredients=%{y}<br>Product=%{x}<extra></extra>",
         "legendgroup": "Ferric Ferrocyanide",
         "marker": {
          "color": "#FFA15A",
          "symbol": "circle"
         },
         "mode": "markers",
         "name": "Ferric Ferrocyanide",
         "showlegend": true,
         "type": "scattergl",
         "x": [
          "Rimmel Scandaleyes Eye Definer Brown"
         ],
         "xaxis": "x",
         "y": [
          "Ferric Ferrocyanide"
         ],
         "yaxis": "y"
        },
        {
         "hovertemplate": "Ingredients=%{y}<br>Product=%{x}<extra></extra>",
         "legendgroup": "Reconstituted Apple Juice",
         "marker": {
          "color": "#19d3f3",
          "symbol": "circle"
         },
         "mode": "markers",
         "name": "Reconstituted Apple Juice",
         "showlegend": true,
         "type": "scattergl",
         "x": [
          "Woolworths Apple Juice",
          "Woolworths Apple & Mango Juice",
          "Woolworths Breakfast Juice",
          "Woolworths Apple & Blackcurrant Juice",
          "Woolworths Multivitamin Juice",
          "Golden Circle Golden Pash Fruit Drink",
          "Golden Circle Drinks Sunshine Punch Fruit Drink",
          "Golden Circle Fruit Drinks Lunch Box Poppers Tropical Punch Multipack"
         ],
         "xaxis": "x",
         "y": [
          "Reconstituted Apple Juice",
          "Reconstituted Apple Juice",
          "Reconstituted Apple Juice",
          "Reconstituted Apple Juice",
          "Reconstituted Apple Juice",
          "Reconstituted Apple Juice",
          "Reconstituted Apple Juice",
          "Reconstituted Apple Juice"
         ],
         "yaxis": "y"
        },
        {
         "hovertemplate": "Ingredients=%{y}<br>Product=%{x}<extra></extra>",
         "legendgroup": "Vitamin C",
         "marker": {
          "color": "#FF6692",
          "symbol": "circle"
         },
         "mode": "markers",
         "name": "Vitamin C",
         "showlegend": true,
         "type": "scattergl",
         "x": [
          "Woolworths Apple Juice",
          "Woolworths Apple & Mango Juice",
          "Woolworths Orange Juice",
          "Woolworths Breakfast Juice",
          "Woolworths Apple & Blackcurrant Juice",
          "Woolworths Multivitamin Juice",
          "Golden Circle Golden Pash Fruit Drink",
          "Golden Circle Drinks Pine Orange Fruit Drink",
          "Golden Circle Drinks Sunshine Punch Fruit Drink",
          "Golden Circle Fruit Drinks Lunch Box Poppers Tropical Punch Multipack"
         ],
         "xaxis": "x",
         "y": [
          "Vitamin C",
          "Vitamin C",
          "Vitamin C",
          "Vitamin C",
          "Vitamin C",
          "Vitamin C",
          "Vitamin C",
          "Vitamin C",
          "Vitamin C",
          "Vitamin C"
         ],
         "yaxis": "y"
        },
        {
         "hovertemplate": "Ingredients=%{y}<br>Product=%{x}<extra></extra>",
         "legendgroup": "Reconstituted Fruit Juice Pineapple",
         "marker": {
          "color": "#B6E880",
          "symbol": "circle"
         },
         "mode": "markers",
         "name": "Reconstituted Fruit Juice Pineapple",
         "showlegend": true,
         "type": "scattergl",
         "x": [
          "Woolworths Breakfast Juice",
          "Golden Circle Golden Pash Fruit Drink",
          "Golden Circle Drinks Pine Orange Fruit Drink",
          "Golden Circle Drinks Sunshine Punch Fruit Drink",
          "Golden Circle Fruit Drinks Lunch Box Poppers Tropical Punch Multipack"
         ],
         "xaxis": "x",
         "y": [
          "Reconstituted Fruit Juice Pineapple",
          "Reconstituted Fruit Juice Pineapple",
          "Reconstituted Fruit Juice Pineapple",
          "Reconstituted Fruit Juice Pineapple",
          "Reconstituted Fruit Juice Pineapple"
         ],
         "yaxis": "y"
        },
        {
         "hovertemplate": "Ingredients=%{y}<br>Product=%{x}<extra></extra>",
         "legendgroup": "Reconstituted Fruit Juice Passionfruit",
         "marker": {
          "color": "#FF97FF",
          "symbol": "circle"
         },
         "mode": "markers",
         "name": "Reconstituted Fruit Juice Passionfruit",
         "showlegend": true,
         "type": "scattergl",
         "x": [
          "Woolworths Breakfast Juice",
          "Woolworths Multivitamin Juice",
          "Golden Circle Golden Pash Fruit Drink",
          "Golden Circle Drinks Sunshine Punch Fruit Drink",
          "Golden Circle Fruit Drinks Lunch Box Poppers Tropical Punch Multipack"
         ],
         "xaxis": "x",
         "y": [
          "Reconstituted Fruit Juice Passionfruit",
          "Reconstituted Fruit Juice Passionfruit",
          "Reconstituted Fruit Juice Passionfruit",
          "Reconstituted Fruit Juice Passionfruit",
          "Reconstituted Fruit Juice Passionfruit"
         ],
         "yaxis": "y"
        },
        {
         "hovertemplate": "Ingredients=%{y}<br>Product=%{x}<extra></extra>",
         "legendgroup": "Carboxymethyl Cellulose",
         "marker": {
          "color": "#FECB52",
          "symbol": "circle"
         },
         "mode": "markers",
         "name": "Carboxymethyl Cellulose",
         "showlegend": true,
         "type": "scattergl",
         "x": [
          "Woolworths Breakfast Juice"
         ],
         "xaxis": "x",
         "y": [
          "Carboxymethyl Cellulose"
         ],
         "yaxis": "y"
        },
        {
         "hovertemplate": "Ingredients=%{y}<br>Product=%{x}<extra></extra>",
         "legendgroup": "Reconstituted Fruit Juice Blackcurrant",
         "marker": {
          "color": "#636efa",
          "symbol": "circle"
         },
         "mode": "markers",
         "name": "Reconstituted Fruit Juice Blackcurrant",
         "showlegend": true,
         "type": "scattergl",
         "x": [
          "Woolworths Apple & Blackcurrant Juice"
         ],
         "xaxis": "x",
         "y": [
          "Reconstituted Fruit Juice Blackcurrant"
         ],
         "yaxis": "y"
        },
        {
         "hovertemplate": "Ingredients=%{y}<br>Product=%{x}<extra></extra>",
         "legendgroup": "Anthocyanins",
         "marker": {
          "color": "#EF553B",
          "symbol": "circle"
         },
         "mode": "markers",
         "name": "Anthocyanins",
         "showlegend": true,
         "type": "scattergl",
         "x": [
          "Woolworths Apple & Blackcurrant Juice"
         ],
         "xaxis": "x",
         "y": [
          "Anthocyanins"
         ],
         "yaxis": "y"
        },
        {
         "hovertemplate": "Ingredients=%{y}<br>Product=%{x}<extra></extra>",
         "legendgroup": "Reconstituted Fruit Juice Grape",
         "marker": {
          "color": "#00cc96",
          "symbol": "circle"
         },
         "mode": "markers",
         "name": "Reconstituted Fruit Juice Grape",
         "showlegend": true,
         "type": "scattergl",
         "x": [
          "Woolworths Multivitamin Juice"
         ],
         "xaxis": "x",
         "y": [
          "Reconstituted Fruit Juice Grape"
         ],
         "yaxis": "y"
        },
        {
         "hovertemplate": "Ingredients=%{y}<br>Product=%{x}<extra></extra>",
         "legendgroup": "Reconstituted Fruit Juice Apricot",
         "marker": {
          "color": "#ab63fa",
          "symbol": "circle"
         },
         "mode": "markers",
         "name": "Reconstituted Fruit Juice Apricot",
         "showlegend": true,
         "type": "scattergl",
         "x": [
          "Woolworths Multivitamin Juice"
         ],
         "xaxis": "x",
         "y": [
          "Reconstituted Fruit Juice Apricot"
         ],
         "yaxis": "y"
        },
        {
         "hovertemplate": "Ingredients=%{y}<br>Product=%{x}<extra></extra>",
         "legendgroup": "Reconstituted Fruit Juice Peach",
         "marker": {
          "color": "#FFA15A",
          "symbol": "circle"
         },
         "mode": "markers",
         "name": "Reconstituted Fruit Juice Peach",
         "showlegend": true,
         "type": "scattergl",
         "x": [
          "Woolworths Multivitamin Juice"
         ],
         "xaxis": "x",
         "y": [
          "Reconstituted Fruit Juice Peach"
         ],
         "yaxis": "y"
        },
        {
         "hovertemplate": "Ingredients=%{y}<br>Product=%{x}<extra></extra>",
         "legendgroup": "Reconstituted Fruit Juice Pear",
         "marker": {
          "color": "#19d3f3",
          "symbol": "circle"
         },
         "mode": "markers",
         "name": "Reconstituted Fruit Juice Pear",
         "showlegend": true,
         "type": "scattergl",
         "x": [
          "Woolworths Multivitamin Juice",
          "Golden Circle Golden Pash Fruit Drink",
          "Golden Circle Drinks Sunshine Punch Fruit Drink",
          "Golden Circle Fruit Drinks Lunch Box Poppers Tropical Punch Multipack"
         ],
         "xaxis": "x",
         "y": [
          "Reconstituted Fruit Juice Pear",
          "Reconstituted Fruit Juice Pear",
          "Reconstituted Fruit Juice Pear",
          "Reconstituted Fruit Juice Pear"
         ],
         "yaxis": "y"
        },
        {
         "hovertemplate": "Ingredients=%{y}<br>Product=%{x}<extra></extra>",
         "legendgroup": "Guava Puree",
         "marker": {
          "color": "#FF6692",
          "symbol": "circle"
         },
         "mode": "markers",
         "name": "Guava Puree",
         "showlegend": true,
         "type": "scattergl",
         "x": [
          "Woolworths Multivitamin Juice"
         ],
         "xaxis": "x",
         "y": [
          "Guava Puree"
         ],
         "yaxis": "y"
        },
        {
         "hovertemplate": "Ingredients=%{y}<br>Product=%{x}<extra></extra>",
         "legendgroup": "Vitamin A",
         "marker": {
          "color": "#B6E880",
          "symbol": "circle"
         },
         "mode": "markers",
         "name": "Vitamin A",
         "showlegend": true,
         "type": "scattergl",
         "x": [
          "Woolworths Multivitamin Juice"
         ],
         "xaxis": "x",
         "y": [
          "Vitamin A"
         ],
         "yaxis": "y"
        },
        {
         "hovertemplate": "Ingredients=%{y}<br>Product=%{x}<extra></extra>",
         "legendgroup": "Potassium Citrate",
         "marker": {
          "color": "#FF97FF",
          "symbol": "circle"
         },
         "mode": "markers",
         "name": "Potassium Citrate",
         "showlegend": true,
         "type": "scattergl",
         "x": [
          "Golden Circle Golden Pash Fruit Drink",
          "Golden Circle Drinks Sunshine Punch Fruit Drink",
          "Golden Circle Fruit Drinks Lunch Box Poppers Tropical Punch Multipack",
          "Woolworths Peach In Strawberry Jelly",
          "Woolworths Two Fruits In Tropical Jelly",
          "Woolworths Apple In Pineapple Jelly"
         ],
         "xaxis": "x",
         "y": [
          "Potassium Citrate",
          "Potassium Citrate",
          "Potassium Citrate",
          "Potassium Citrate",
          "Potassium Citrate",
          "Potassium Citrate"
         ],
         "yaxis": "y"
        },
        {
         "hovertemplate": "Ingredients=%{y}<br>Product=%{x}<extra></extra>",
         "legendgroup": "Pectin",
         "marker": {
          "color": "#FECB52",
          "symbol": "circle"
         },
         "mode": "markers",
         "name": "Pectin",
         "showlegend": true,
         "type": "scattergl",
         "x": [
          "Golden Circle Drinks Pine Orange Fruit Drink",
          "Golden Circle Drinks Sunshine Punch Fruit Drink",
          "Masterfoods Barbecue Sauce"
         ],
         "xaxis": "x",
         "y": [
          "Pectin",
          "Pectin",
          "Pectin"
         ],
         "yaxis": "y"
        },
        {
         "hovertemplate": "Ingredients=%{y}<br>Product=%{x}<extra></extra>",
         "legendgroup": "Reconstituted Fruit Juice Water Extracted Orange",
         "marker": {
          "color": "#636efa",
          "symbol": "circle"
         },
         "mode": "markers",
         "name": "Reconstituted Fruit Juice Water Extracted Orange",
         "showlegend": true,
         "type": "scattergl",
         "x": [
          "Golden Circle Drinks Sunshine Punch Fruit Drink"
         ],
         "xaxis": "x",
         "y": [
          "Reconstituted Fruit Juice Water Extracted Orange"
         ],
         "yaxis": "y"
        },
        {
         "hovertemplate": "Ingredients=%{y}<br>Product=%{x}<extra></extra>",
         "legendgroup": "Reconstituted Fruit Juice Peach Purée",
         "marker": {
          "color": "#EF553B",
          "symbol": "circle"
         },
         "mode": "markers",
         "name": "Reconstituted Fruit Juice Peach Purée",
         "showlegend": true,
         "type": "scattergl",
         "x": [
          "Golden Circle Drinks Sunshine Punch Fruit Drink",
          "Golden Circle Fruit Drinks Lunch Box Poppers Tropical Punch Multipack"
         ],
         "xaxis": "x",
         "y": [
          "Reconstituted Fruit Juice Peach Purée",
          "Reconstituted Fruit Juice Peach Purée"
         ],
         "yaxis": "y"
        },
        {
         "hovertemplate": "Ingredients=%{y}<br>Product=%{x}<extra></extra>",
         "legendgroup": "Pasteurised Homogenised Milk",
         "marker": {
          "color": "#00cc96",
          "symbol": "circle"
         },
         "mode": "markers",
         "name": "Pasteurised Homogenised Milk",
         "showlegend": true,
         "type": "scattergl",
         "x": [
          "Norco Full Cream Milk"
         ],
         "xaxis": "x",
         "y": [
          "Pasteurised Homogenised Milk"
         ],
         "yaxis": "y"
        },
        {
         "hovertemplate": "Ingredients=%{y}<br>Product=%{x}<extra></extra>",
         "legendgroup": "Cream",
         "marker": {
          "color": "#ab63fa",
          "symbol": "circle"
         },
         "mode": "markers",
         "name": "Cream",
         "showlegend": true,
         "type": "scattergl",
         "x": [
          "Pauls Farmhouse Gold Full Cream Milk"
         ],
         "xaxis": "x",
         "y": [
          "Cream"
         ],
         "yaxis": "y"
        },
        {
         "hovertemplate": "Ingredients=%{y}<br>Product=%{x}<extra></extra>",
         "legendgroup": "Fructose",
         "marker": {
          "color": "#FFA15A",
          "symbol": "circle"
         },
         "mode": "markers",
         "name": "Fructose",
         "showlegend": true,
         "type": "scattergl",
         "x": [
          "Oreo Grab & Go Original Cookies 9 Pack"
         ],
         "xaxis": "x",
         "y": [
          "Fructose"
         ],
         "yaxis": "y"
        },
        {
         "hovertemplate": "Ingredients=%{y}<br>Product=%{x}<extra></extra>",
         "legendgroup": "Syrup",
         "marker": {
          "color": "#19d3f3",
          "symbol": "circle"
         },
         "mode": "markers",
         "name": "Syrup",
         "showlegend": true,
         "type": "scattergl",
         "x": [
          "Oreo Grab & Go Original Cookies 9 Pack"
         ],
         "xaxis": "x",
         "y": [
          "Syrup"
         ],
         "yaxis": "y"
        },
        {
         "hovertemplate": "Ingredients=%{y}<br>Product=%{x}<extra></extra>",
         "legendgroup": "Tomato Juice",
         "marker": {
          "color": "#FF6692",
          "symbol": "circle"
         },
         "mode": "markers",
         "name": "Tomato Juice",
         "showlegend": true,
         "type": "scattergl",
         "x": [
          "Woolworths Diced Italian Tomatoes",
          "Woolworths Diced Italian Tomatoes"
         ],
         "xaxis": "x",
         "y": [
          "Tomato Juice",
          "Tomato Juice"
         ],
         "yaxis": "y"
        },
        {
         "hovertemplate": "Ingredients=%{y}<br>Product=%{x}<extra></extra>",
         "legendgroup": "Tomatoes",
         "marker": {
          "color": "#B6E880",
          "symbol": "circle"
         },
         "mode": "markers",
         "name": "Tomatoes",
         "showlegend": true,
         "type": "scattergl",
         "x": [
          "Woolworths Diced Italian Tomatoes",
          "Woolworths Diced Italian Tomatoes",
          "Masterfoods Barbecue Sauce",
          "Fountain Barbecue Bbq Sauce Squeeze",
          "Heinz Ketchup Tomato Sauce Ketchup"
         ],
         "xaxis": "x",
         "y": [
          "Tomatoes",
          "Tomatoes",
          "Tomatoes",
          "Tomatoes",
          "Tomatoes"
         ],
         "yaxis": "y"
        },
        {
         "hovertemplate": "Ingredients=%{y}<br>Product=%{x}<extra></extra>",
         "legendgroup": "Durum Wheat Semolina",
         "marker": {
          "color": "#FF97FF",
          "symbol": "circle"
         },
         "mode": "markers",
         "name": "Durum Wheat Semolina",
         "showlegend": true,
         "type": "scattergl",
         "x": [
          "Woolworths Lasagne Sheets"
         ],
         "xaxis": "x",
         "y": [
          "Durum Wheat Semolina"
         ],
         "yaxis": "y"
        },
        {
         "hovertemplate": "Ingredients=%{y}<br>Product=%{x}<extra></extra>",
         "legendgroup": "Coconut Extract",
         "marker": {
          "color": "#FECB52",
          "symbol": "circle"
         },
         "mode": "markers",
         "name": "Coconut Extract",
         "showlegend": true,
         "type": "scattergl",
         "x": [
          "Essentials Coconut Cream",
          "Essentials Coconut Milk"
         ],
         "xaxis": "x",
         "y": [
          "Coconut Extract",
          "Coconut Extract"
         ],
         "yaxis": "y"
        },
        {
         "hovertemplate": "Ingredients=%{y}<br>Product=%{x}<extra></extra>",
         "legendgroup": "Homogenised Full Cream Milk",
         "marker": {
          "color": "#636efa",
          "symbol": "circle"
         },
         "mode": "markers",
         "name": "Homogenised Full Cream Milk",
         "showlegend": true,
         "type": "scattergl",
         "x": [
          "Woolworths Uht Full Cream Milk"
         ],
         "xaxis": "x",
         "y": [
          "Homogenised Full Cream Milk"
         ],
         "yaxis": "y"
        },
        {
         "hovertemplate": "Ingredients=%{y}<br>Product=%{x}<extra></extra>",
         "legendgroup": "Sardines",
         "marker": {
          "color": "#EF553B",
          "symbol": "circle"
         },
         "mode": "markers",
         "name": "Sardines",
         "showlegend": true,
         "type": "scattergl",
         "x": [
          "Deep Cove Sardines In Oil"
         ],
         "xaxis": "x",
         "y": [
          "Sardines"
         ],
         "yaxis": "y"
        },
        {
         "hovertemplate": "Ingredients=%{y}<br>Product=%{x}<extra></extra>",
         "legendgroup": "Rice",
         "marker": {
          "color": "#00cc96",
          "symbol": "circle"
         },
         "mode": "markers",
         "name": "Rice",
         "showlegend": true,
         "type": "scattergl",
         "x": [
          "Woolworths Creamed Rice"
         ],
         "xaxis": "x",
         "y": [
          "Rice"
         ],
         "yaxis": "y"
        },
        {
         "hovertemplate": "Ingredients=%{y}<br>Product=%{x}<extra></extra>",
         "legendgroup": "Skim Milk",
         "marker": {
          "color": "#ab63fa",
          "symbol": "circle"
         },
         "mode": "markers",
         "name": "Skim Milk",
         "showlegend": true,
         "type": "scattergl",
         "x": [
          "Woolworths Creamed Rice"
         ],
         "xaxis": "x",
         "y": [
          "Skim Milk"
         ],
         "yaxis": "y"
        },
        {
         "hovertemplate": "Ingredients=%{y}<br>Product=%{x}<extra></extra>",
         "legendgroup": "Acidity Regulator 339",
         "marker": {
          "color": "#FFA15A",
          "symbol": "circle"
         },
         "mode": "markers",
         "name": "Acidity Regulator 339",
         "showlegend": true,
         "type": "scattergl",
         "x": [
          "Woolworths Creamed Rice"
         ],
         "xaxis": "x",
         "y": [
          "Acidity Regulator 339"
         ],
         "yaxis": "y"
        },
        {
         "hovertemplate": "Ingredients=%{y}<br>Product=%{x}<extra></extra>",
         "legendgroup": "Reconstituted Tomato Puree",
         "marker": {
          "color": "#19d3f3",
          "symbol": "circle"
         },
         "mode": "markers",
         "name": "Reconstituted Tomato Puree",
         "showlegend": true,
         "type": "scattergl",
         "x": [
          "Woolworths Tomato Sauce Squeeze",
          "Woolworths Tomato Sauce"
         ],
         "xaxis": "x",
         "y": [
          "Reconstituted Tomato Puree",
          "Reconstituted Tomato Puree"
         ],
         "yaxis": "y"
        },
        {
         "hovertemplate": "Ingredients=%{y}<br>Product=%{x}<extra></extra>",
         "legendgroup": "Thickener Modified Corn Starch",
         "marker": {
          "color": "#FF6692",
          "symbol": "circle"
         },
         "mode": "markers",
         "name": "Thickener Modified Corn Starch",
         "showlegend": true,
         "type": "scattergl",
         "x": [
          "Woolworths Tomato Sauce Squeeze",
          "Woolworths Tomato Sauce",
          "Woolworths Barbecue Sauce Squeeze",
          "Woolworths Barbecue Sauce"
         ],
         "xaxis": "x",
         "y": [
          "Thickener Modified Corn Starch",
          "Thickener Modified Corn Starch",
          "Thickener Modified Corn Starch",
          "Thickener Modified Corn Starch"
         ],
         "yaxis": "y"
        },
        {
         "hovertemplate": "Ingredients=%{y}<br>Product=%{x}<extra></extra>",
         "legendgroup": "Spice Extract",
         "marker": {
          "color": "#B6E880",
          "symbol": "circle"
         },
         "mode": "markers",
         "name": "Spice Extract",
         "showlegend": true,
         "type": "scattergl",
         "x": [
          "Woolworths Tomato Sauce Squeeze",
          "Woolworths Tomato Sauce",
          "Masterfoods Tomato Sauce"
         ],
         "xaxis": "x",
         "y": [
          "Spice Extract",
          "Spice Extract",
          "Spice Extract"
         ],
         "yaxis": "y"
        },
        {
         "hovertemplate": "Ingredients=%{y}<br>Product=%{x}<extra></extra>",
         "legendgroup": "Reconstituted Fruit Puree",
         "marker": {
          "color": "#FF97FF",
          "symbol": "circle"
         },
         "mode": "markers",
         "name": "Reconstituted Fruit Puree",
         "showlegend": true,
         "type": "scattergl",
         "x": [
          "Woolworths Barbecue Sauce Squeeze"
         ],
         "xaxis": "x",
         "y": [
          "Reconstituted Fruit Puree"
         ],
         "yaxis": "y"
        },
        {
         "hovertemplate": "Ingredients=%{y}<br>Product=%{x}<extra></extra>",
         "legendgroup": "Apple Pulp",
         "marker": {
          "color": "#FECB52",
          "symbol": "circle"
         },
         "mode": "markers",
         "name": "Apple Pulp",
         "showlegend": true,
         "type": "scattergl",
         "x": [
          "Woolworths Barbecue Sauce Squeeze"
         ],
         "xaxis": "x",
         "y": [
          "Apple Pulp"
         ],
         "yaxis": "y"
        },
        {
         "hovertemplate": "Ingredients=%{y}<br>Product=%{x}<extra></extra>",
         "legendgroup": "Tomato Paste",
         "marker": {
          "color": "#636efa",
          "symbol": "circle"
         },
         "mode": "markers",
         "name": "Tomato Paste",
         "showlegend": true,
         "type": "scattergl",
         "x": [
          "Woolworths Barbecue Sauce Squeeze",
          "Masterfoods Tomato Sauce"
         ],
         "xaxis": "x",
         "y": [
          "Tomato Paste",
          "Tomato Paste"
         ],
         "yaxis": "y"
        },
        {
         "hovertemplate": "Ingredients=%{y}<br>Product=%{x}<extra></extra>",
         "legendgroup": "Molasses",
         "marker": {
          "color": "#EF553B",
          "symbol": "circle"
         },
         "mode": "markers",
         "name": "Molasses",
         "showlegend": true,
         "type": "scattergl",
         "x": [
          "Woolworths Barbecue Sauce Squeeze",
          "Fountain Barbecue Bbq Sauce Squeeze",
          "Woolworths Barbecue Sauce"
         ],
         "xaxis": "x",
         "y": [
          "Molasses",
          "Molasses",
          "Molasses"
         ],
         "yaxis": "y"
        },
        {
         "hovertemplate": "Ingredients=%{y}<br>Product=%{x}<extra></extra>",
         "legendgroup": "Caramel I",
         "marker": {
          "color": "#00cc96",
          "symbol": "circle"
         },
         "mode": "markers",
         "name": "Caramel I",
         "showlegend": true,
         "type": "scattergl",
         "x": [
          "Woolworths Barbecue Sauce Squeeze",
          "Woolworths Barbecue Sauce"
         ],
         "xaxis": "x",
         "y": [
          "Caramel I",
          "Caramel I"
         ],
         "yaxis": "y"
        },
        {
         "hovertemplate": "Ingredients=%{y}<br>Product=%{x}<extra></extra>",
         "legendgroup": "Smoke Flavour",
         "marker": {
          "color": "#ab63fa",
          "symbol": "circle"
         },
         "mode": "markers",
         "name": "Smoke Flavour",
         "showlegend": true,
         "type": "scattergl",
         "x": [
          "Woolworths Barbecue Sauce Squeeze",
          "Woolworths Barbecue Sauce"
         ],
         "xaxis": "x",
         "y": [
          "Smoke Flavour",
          "Smoke Flavour"
         ],
         "yaxis": "y"
        },
        {
         "hovertemplate": "Ingredients=%{y}<br>Product=%{x}<extra></extra>",
         "legendgroup": "Xanthan Gum",
         "marker": {
          "color": "#FFA15A",
          "symbol": "circle"
         },
         "mode": "markers",
         "name": "Xanthan Gum",
         "showlegend": true,
         "type": "scattergl",
         "x": [
          "Woolworths Barbecue Sauce Squeeze",
          "Fountain Barbecue Bbq Sauce Squeeze",
          "Woolworths Secret Burger Sauce",
          "Woolworths Barbecue Sauce",
          "Woolworths Peach In Strawberry Jelly",
          "Woolworths Two Fruits In Tropical Jelly",
          "Woolworths Apple In Pineapple Jelly"
         ],
         "xaxis": "x",
         "y": [
          "Xanthan Gum",
          "Xanthan Gum",
          "Xanthan Gum",
          "Xanthan Gum",
          "Xanthan Gum",
          "Xanthan Gum",
          "Xanthan Gum"
         ],
         "yaxis": "y"
        },
        {
         "hovertemplate": "Ingredients=%{y}<br>Product=%{x}<extra></extra>",
         "legendgroup": "Wheat Cornflour",
         "marker": {
          "color": "#19d3f3",
          "symbol": "circle"
         },
         "mode": "markers",
         "name": "Wheat Cornflour",
         "showlegend": true,
         "type": "scattergl",
         "x": [
          "Masterfoods Barbecue Sauce"
         ],
         "xaxis": "x",
         "y": [
          "Wheat Cornflour"
         ],
         "yaxis": "y"
        },
        {
         "hovertemplate": "Ingredients=%{y}<br>Product=%{x}<extra></extra>",
         "legendgroup": "Caramel Color 150c",
         "marker": {
          "color": "#FF6692",
          "symbol": "circle"
         },
         "mode": "markers",
         "name": "Caramel Color 150c",
         "showlegend": true,
         "type": "scattergl",
         "x": [
          "Masterfoods Barbecue Sauce"
         ],
         "xaxis": "x",
         "y": [
          "Caramel Color 150c"
         ],
         "yaxis": "y"
        },
        {
         "hovertemplate": "Ingredients=%{y}<br>Product=%{x}<extra></extra>",
         "legendgroup": "Tamarind Paste",
         "marker": {
          "color": "#B6E880",
          "symbol": "circle"
         },
         "mode": "markers",
         "name": "Tamarind Paste",
         "showlegend": true,
         "type": "scattergl",
         "x": [
          "Masterfoods Barbecue Sauce"
         ],
         "xaxis": "x",
         "y": [
          "Tamarind Paste"
         ],
         "yaxis": "y"
        },
        {
         "hovertemplate": "Ingredients=%{y}<br>Product=%{x}<extra></extra>",
         "legendgroup": "Clove",
         "marker": {
          "color": "#FF97FF",
          "symbol": "circle"
         },
         "mode": "markers",
         "name": "Clove",
         "showlegend": true,
         "type": "scattergl",
         "x": [
          "Masterfoods Barbecue Sauce"
         ],
         "xaxis": "x",
         "y": [
          "Clove"
         ],
         "yaxis": "y"
        },
        {
         "hovertemplate": "Ingredients=%{y}<br>Product=%{x}<extra></extra>",
         "legendgroup": "Nutmeg",
         "marker": {
          "color": "#FECB52",
          "symbol": "circle"
         },
         "mode": "markers",
         "name": "Nutmeg",
         "showlegend": true,
         "type": "scattergl",
         "x": [
          "Masterfoods Barbecue Sauce"
         ],
         "xaxis": "x",
         "y": [
          "Nutmeg"
         ],
         "yaxis": "y"
        },
        {
         "hovertemplate": "Ingredients=%{y}<br>Product=%{x}<extra></extra>",
         "legendgroup": "Tomato Puree",
         "marker": {
          "color": "#636efa",
          "symbol": "circle"
         },
         "mode": "markers",
         "name": "Tomato Puree",
         "showlegend": true,
         "type": "scattergl",
         "x": [
          "Fountain Tomato Sauce Squeeze"
         ],
         "xaxis": "x",
         "y": [
          "Tomato Puree"
         ],
         "yaxis": "y"
        },
        {
         "hovertemplate": "Ingredients=%{y}<br>Product=%{x}<extra></extra>",
         "legendgroup": "Maize Thickener 1422",
         "marker": {
          "color": "#EF553B",
          "symbol": "circle"
         },
         "mode": "markers",
         "name": "Maize Thickener 1422",
         "showlegend": true,
         "type": "scattergl",
         "x": [
          "Fountain Barbecue Bbq Sauce Squeeze"
         ],
         "xaxis": "x",
         "y": [
          "Maize Thickener 1422"
         ],
         "yaxis": "y"
        },
        {
         "hovertemplate": "Ingredients=%{y}<br>Product=%{x}<extra></extra>",
         "legendgroup": "Maize Maltodextrin",
         "marker": {
          "color": "#00cc96",
          "symbol": "circle"
         },
         "mode": "markers",
         "name": "Maize Maltodextrin",
         "showlegend": true,
         "type": "scattergl",
         "x": [
          "Fountain Barbecue Bbq Sauce Squeeze"
         ],
         "xaxis": "x",
         "y": [
          "Maize Maltodextrin"
         ],
         "yaxis": "y"
        },
        {
         "hovertemplate": "Ingredients=%{y}<br>Product=%{x}<extra></extra>",
         "legendgroup": "Canola Oil",
         "marker": {
          "color": "#ab63fa",
          "symbol": "circle"
         },
         "mode": "markers",
         "name": "Canola Oil",
         "showlegend": true,
         "type": "scattergl",
         "x": [
          "Woolworths Secret Burger Sauce",
          "Smith's Crinkle Cut Potato Chips Original",
          "Smith's Crinkle Cut Potato Chips Cheese & Onion",
          "Smith's Crinkle Cut Potato Chips Barbecue",
          "Smith's Crinkle Cut Potato Chips Chicken",
          "Smith's Thinly Cut Potato Chips Original Share Pack",
          "Smith's Crinkle Cut Potato Chips Salt & Vinegar"
         ],
         "xaxis": "x",
         "y": [
          "Canola Oil",
          "Canola Oil",
          "Canola Oil",
          "Canola Oil",
          "Canola Oil",
          "Canola Oil",
          "Canola Oil"
         ],
         "yaxis": "y"
        },
        {
         "hovertemplate": "Ingredients=%{y}<br>Product=%{x}<extra></extra>",
         "legendgroup": "Vinegar",
         "marker": {
          "color": "#FFA15A",
          "symbol": "circle"
         },
         "mode": "markers",
         "name": "Vinegar",
         "showlegend": true,
         "type": "scattergl",
         "x": [
          "Woolworths Secret Burger Sauce"
         ],
         "xaxis": "x",
         "y": [
          "Vinegar"
         ],
         "yaxis": "y"
        },
        {
         "hovertemplate": "Ingredients=%{y}<br>Product=%{x}<extra></extra>",
         "legendgroup": "Free Range Egg Yolk",
         "marker": {
          "color": "#19d3f3",
          "symbol": "circle"
         },
         "mode": "markers",
         "name": "Free Range Egg Yolk",
         "showlegend": true,
         "type": "scattergl",
         "x": [
          "Woolworths Secret Burger Sauce"
         ],
         "xaxis": "x",
         "y": [
          "Free Range Egg Yolk"
         ],
         "yaxis": "y"
        },
        {
         "hovertemplate": "Ingredients=%{y}<br>Product=%{x}<extra></extra>",
         "legendgroup": "Gherkin",
         "marker": {
          "color": "#FF6692",
          "symbol": "circle"
         },
         "mode": "markers",
         "name": "Gherkin",
         "showlegend": true,
         "type": "scattergl",
         "x": [
          "Woolworths Secret Burger Sauce"
         ],
         "xaxis": "x",
         "y": [
          "Gherkin"
         ],
         "yaxis": "y"
        },
        {
         "hovertemplate": "Ingredients=%{y}<br>Product=%{x}<extra></extra>",
         "legendgroup": "Carotene",
         "marker": {
          "color": "#B6E880",
          "symbol": "circle"
         },
         "mode": "markers",
         "name": "Carotene",
         "showlegend": true,
         "type": "scattergl",
         "x": [
          "Woolworths Secret Burger Sauce",
          "Woolworths Two Fruits In Tropical Jelly",
          "Woolworths Apple In Pineapple Jelly"
         ],
         "xaxis": "x",
         "y": [
          "Carotene",
          "Carotene",
          "Carotene"
         ],
         "yaxis": "y"
        },
        {
         "hovertemplate": "Ingredients=%{y}<br>Product=%{x}<extra></extra>",
         "legendgroup": "Paprika Oleoresins",
         "marker": {
          "color": "#FF97FF",
          "symbol": "circle"
         },
         "mode": "markers",
         "name": "Paprika Oleoresins",
         "showlegend": true,
         "type": "scattergl",
         "x": [
          "Woolworths Secret Burger Sauce",
          "Woolworths Two Fruits In Tropical Jelly"
         ],
         "xaxis": "x",
         "y": [
          "Paprika Oleoresins",
          "Paprika Oleoresins"
         ],
         "yaxis": "y"
        },
        {
         "hovertemplate": "Ingredients=%{y}<br>Product=%{x}<extra></extra>",
         "legendgroup": "Dill",
         "marker": {
          "color": "#FECB52",
          "symbol": "circle"
         },
         "mode": "markers",
         "name": "Dill",
         "showlegend": true,
         "type": "scattergl",
         "x": [
          "Woolworths Secret Burger Sauce"
         ],
         "xaxis": "x",
         "y": [
          "Dill"
         ],
         "yaxis": "y"
        },
        {
         "hovertemplate": "Ingredients=%{y}<br>Product=%{x}<extra></extra>",
         "legendgroup": "Herb Extract",
         "marker": {
          "color": "#636efa",
          "symbol": "circle"
         },
         "mode": "markers",
         "name": "Herb Extract",
         "showlegend": true,
         "type": "scattergl",
         "x": [
          "Woolworths Secret Burger Sauce"
         ],
         "xaxis": "x",
         "y": [
          "Herb Extract"
         ],
         "yaxis": "y"
        },
        {
         "hovertemplate": "Ingredients=%{y}<br>Product=%{x}<extra></extra>",
         "legendgroup": "Mustard Oil",
         "marker": {
          "color": "#EF553B",
          "symbol": "circle"
         },
         "mode": "markers",
         "name": "Mustard Oil",
         "showlegend": true,
         "type": "scattergl",
         "x": [
          "Woolworths Secret Burger Sauce"
         ],
         "xaxis": "x",
         "y": [
          "Mustard Oil"
         ],
         "yaxis": "y"
        },
        {
         "hovertemplate": "Ingredients=%{y}<br>Product=%{x}<extra></extra>",
         "legendgroup": "White Vinegar",
         "marker": {
          "color": "#00cc96",
          "symbol": "circle"
         },
         "mode": "markers",
         "name": "White Vinegar",
         "showlegend": true,
         "type": "scattergl",
         "x": [
          "Heinz Ketchup Tomato Sauce Ketchup"
         ],
         "xaxis": "x",
         "y": [
          "White Vinegar"
         ],
         "yaxis": "y"
        },
        {
         "hovertemplate": "Ingredients=%{y}<br>Product=%{x}<extra></extra>",
         "legendgroup": "Reconstituted Fruit Puree Apple",
         "marker": {
          "color": "#ab63fa",
          "symbol": "circle"
         },
         "mode": "markers",
         "name": "Reconstituted Fruit Puree Apple",
         "showlegend": true,
         "type": "scattergl",
         "x": [
          "Woolworths Barbecue Sauce"
         ],
         "xaxis": "x",
         "y": [
          "Reconstituted Fruit Puree Apple"
         ],
         "yaxis": "y"
        },
        {
         "hovertemplate": "Ingredients=%{y}<br>Product=%{x}<extra></extra>",
         "legendgroup": "Reconstituted Fruit Puree Tomato Paste",
         "marker": {
          "color": "#FFA15A",
          "symbol": "circle"
         },
         "mode": "markers",
         "name": "Reconstituted Fruit Puree Tomato Paste",
         "showlegend": true,
         "type": "scattergl",
         "x": [
          "Woolworths Barbecue Sauce"
         ],
         "xaxis": "x",
         "y": [
          "Reconstituted Fruit Puree Tomato Paste"
         ],
         "yaxis": "y"
        },
        {
         "hovertemplate": "Ingredients=%{y}<br>Product=%{x}<extra></extra>",
         "legendgroup": "Natural Spring Water",
         "marker": {
          "color": "#19d3f3",
          "symbol": "circle"
         },
         "mode": "markers",
         "name": "Natural Spring Water",
         "showlegend": true,
         "type": "scattergl",
         "x": [
          "Woolworths Spring Water Bottles",
          "Woolworths Spring Water",
          "Woolworths Spring Water",
          "Woolworths Spring Water"
         ],
         "xaxis": "x",
         "y": [
          "Natural Spring Water",
          "Natural Spring Water",
          "Natural Spring Water",
          "Natural Spring Water"
         ],
         "yaxis": "y"
        },
        {
         "hovertemplate": "Ingredients=%{y}<br>Product=%{x}<extra></extra>",
         "legendgroup": "Australian Spring Water",
         "marker": {
          "color": "#FF6692",
          "symbol": "circle"
         },
         "mode": "markers",
         "name": "Australian Spring Water",
         "showlegend": true,
         "type": "scattergl",
         "x": [
          "Frantelle Australian Still Spring Water Bottles Multipack",
          "Mount Franklin Spring Water Bottle"
         ],
         "xaxis": "x",
         "y": [
          "Australian Spring Water",
          "Australian Spring Water"
         ],
         "yaxis": "y"
        },
        {
         "hovertemplate": "Ingredients=%{y}<br>Product=%{x}<extra></extra>",
         "legendgroup": "Potatoes",
         "marker": {
          "color": "#B6E880",
          "symbol": "circle"
         },
         "mode": "markers",
         "name": "Potatoes",
         "showlegend": true,
         "type": "scattergl",
         "x": [
          "Smith's Crinkle Cut Potato Chips Original",
          "Smith's Crinkle Cut Potato Chips Cheese & Onion",
          "Smith's Crinkle Cut Potato Chips Barbecue",
          "Smith's Crinkle Cut Potato Chips Chicken",
          "Thins Chips Salt & Vinegar",
          "Smith's Thinly Cut Potato Chips Original Share Pack",
          "Thins Chips Chicken",
          "Smith's Crinkle Cut Potato Chips Salt & Vinegar",
          "Thins Chips Light & Tangy",
          "Thins Cheese & Onion Chips"
         ],
         "xaxis": "x",
         "y": [
          "Potatoes",
          "Potatoes",
          "Potatoes",
          "Potatoes",
          "Potatoes",
          "Potatoes",
          "Potatoes",
          "Potatoes",
          "Potatoes",
          "Potatoes"
         ],
         "yaxis": "y"
        },
        {
         "hovertemplate": "Ingredients=%{y}<br>Product=%{x}<extra></extra>",
         "legendgroup": "Sunflower Oil",
         "marker": {
          "color": "#FF97FF",
          "symbol": "circle"
         },
         "mode": "markers",
         "name": "Sunflower Oil",
         "showlegend": true,
         "type": "scattergl",
         "x": [
          "Smith's Crinkle Cut Potato Chips Original",
          "Smith's Crinkle Cut Potato Chips Cheese & Onion",
          "Smith's Crinkle Cut Potato Chips Barbecue",
          "Smith's Crinkle Cut Potato Chips Chicken",
          "Smith's Thinly Cut Potato Chips Original Share Pack",
          "Smith's Crinkle Cut Potato Chips Salt & Vinegar"
         ],
         "xaxis": "x",
         "y": [
          "Sunflower Oil",
          "Sunflower Oil",
          "Sunflower Oil",
          "Sunflower Oil",
          "Sunflower Oil",
          "Sunflower Oil"
         ],
         "yaxis": "y"
        },
        {
         "hovertemplate": "Ingredients=%{y}<br>Product=%{x}<extra></extra>",
         "legendgroup": "Antioxidant Tocopherols",
         "marker": {
          "color": "#FECB52",
          "symbol": "circle"
         },
         "mode": "markers",
         "name": "Antioxidant Tocopherols",
         "showlegend": true,
         "type": "scattergl",
         "x": [
          "Smith's Crinkle Cut Potato Chips Original",
          "Smith's Crinkle Cut Potato Chips Chicken",
          "Smith's Thinly Cut Potato Chips Original Share Pack",
          "Smith's Crinkle Cut Potato Chips Salt & Vinegar"
         ],
         "xaxis": "x",
         "y": [
          "Antioxidant Tocopherols",
          "Antioxidant Tocopherols",
          "Antioxidant Tocopherols",
          "Antioxidant Tocopherols"
         ],
         "yaxis": "y"
        },
        {
         "hovertemplate": "Ingredients=%{y}<br>Product=%{x}<extra></extra>",
         "legendgroup": "Antioxidant Rosemary Extract",
         "marker": {
          "color": "#636efa",
          "symbol": "circle"
         },
         "mode": "markers",
         "name": "Antioxidant Rosemary Extract",
         "showlegend": true,
         "type": "scattergl",
         "x": [
          "Smith's Crinkle Cut Potato Chips Original",
          "Smith's Crinkle Cut Potato Chips Chicken",
          "Smith's Thinly Cut Potato Chips Original Share Pack",
          "Smith's Crinkle Cut Potato Chips Salt & Vinegar"
         ],
         "xaxis": "x",
         "y": [
          "Antioxidant Rosemary Extract",
          "Antioxidant Rosemary Extract",
          "Antioxidant Rosemary Extract",
          "Antioxidant Rosemary Extract"
         ],
         "yaxis": "y"
        },
        {
         "hovertemplate": "Ingredients=%{y}<br>Product=%{x}<extra></extra>",
         "legendgroup": "Cheese Powder",
         "marker": {
          "color": "#EF553B",
          "symbol": "circle"
         },
         "mode": "markers",
         "name": "Cheese Powder",
         "showlegend": true,
         "type": "scattergl",
         "x": [
          "Smith's Crinkle Cut Potato Chips Cheese & Onion",
          "Thins Cheese & Onion Chips"
         ],
         "xaxis": "x",
         "y": [
          "Cheese Powder",
          "Cheese Powder"
         ],
         "yaxis": "y"
        },
        {
         "hovertemplate": "Ingredients=%{y}<br>Product=%{x}<extra></extra>",
         "legendgroup": "Flavoured Milk",
         "marker": {
          "color": "#00cc96",
          "symbol": "circle"
         },
         "mode": "markers",
         "name": "Flavoured Milk",
         "showlegend": true,
         "type": "scattergl",
         "x": [
          "Smith's Crinkle Cut Potato Chips Cheese & Onion",
          "Smith's Crinkle Cut Potato Chips Chicken"
         ],
         "xaxis": "x",
         "y": [
          "Flavoured Milk",
          "Flavoured Milk"
         ],
         "yaxis": "y"
        },
        {
         "hovertemplate": "Ingredients=%{y}<br>Product=%{x}<extra></extra>",
         "legendgroup": "Tomato Powder",
         "marker": {
          "color": "#ab63fa",
          "symbol": "circle"
         },
         "mode": "markers",
         "name": "Tomato Powder",
         "showlegend": true,
         "type": "scattergl",
         "x": [
          "Smith's Crinkle Cut Potato Chips Barbecue"
         ],
         "xaxis": "x",
         "y": [
          "Tomato Powder"
         ],
         "yaxis": "y"
        },
        {
         "hovertemplate": "Ingredients=%{y}<br>Product=%{x}<extra></extra>",
         "legendgroup": "Sodium Diacetate",
         "marker": {
          "color": "#FFA15A",
          "symbol": "circle"
         },
         "mode": "markers",
         "name": "Sodium Diacetate",
         "showlegend": true,
         "type": "scattergl",
         "x": [
          "Smith's Crinkle Cut Potato Chips Barbecue",
          "Thins Chips Salt & Vinegar",
          "Smith's Crinkle Cut Potato Chips Salt & Vinegar"
         ],
         "xaxis": "x",
         "y": [
          "Sodium Diacetate",
          "Sodium Diacetate",
          "Sodium Diacetate"
         ],
         "yaxis": "y"
        },
        {
         "hovertemplate": "Ingredients=%{y}<br>Product=%{x}<extra></extra>",
         "legendgroup": "Paprika",
         "marker": {
          "color": "#19d3f3",
          "symbol": "circle"
         },
         "mode": "markers",
         "name": "Paprika",
         "showlegend": true,
         "type": "scattergl",
         "x": [
          "Smith's Crinkle Cut Potato Chips Barbecue"
         ],
         "xaxis": "x",
         "y": [
          "Paprika"
         ],
         "yaxis": "y"
        },
        {
         "hovertemplate": "Ingredients=%{y}<br>Product=%{x}<extra></extra>",
         "legendgroup": "Flavour Enhancer 620",
         "marker": {
          "color": "#FF6692",
          "symbol": "circle"
         },
         "mode": "markers",
         "name": "Flavour Enhancer 620",
         "showlegend": true,
         "type": "scattergl",
         "x": [
          "Smith's Crinkle Cut Potato Chips Chicken"
         ],
         "xaxis": "x",
         "y": [
          "Flavour Enhancer 620"
         ],
         "yaxis": "y"
        },
        {
         "hovertemplate": "Ingredients=%{y}<br>Product=%{x}<extra></extra>",
         "legendgroup": "Glucose",
         "marker": {
          "color": "#B6E880",
          "symbol": "circle"
         },
         "mode": "markers",
         "name": "Glucose",
         "showlegend": true,
         "type": "scattergl",
         "x": [
          "Thins Chips Chicken"
         ],
         "xaxis": "x",
         "y": [
          "Glucose"
         ],
         "yaxis": "y"
        },
        {
         "hovertemplate": "Ingredients=%{y}<br>Product=%{x}<extra></extra>",
         "legendgroup": "Vegetable Powder Garlic",
         "marker": {
          "color": "#FF97FF",
          "symbol": "circle"
         },
         "mode": "markers",
         "name": "Vegetable Powder Garlic",
         "showlegend": true,
         "type": "scattergl",
         "x": [
          "Thins Chips Chicken"
         ],
         "xaxis": "x",
         "y": [
          "Vegetable Powder Garlic"
         ],
         "yaxis": "y"
        },
        {
         "hovertemplate": "Ingredients=%{y}<br>Product=%{x}<extra></extra>",
         "legendgroup": "Milk Lactose",
         "marker": {
          "color": "#FECB52",
          "symbol": "circle"
         },
         "mode": "markers",
         "name": "Milk Lactose",
         "showlegend": true,
         "type": "scattergl",
         "x": [
          "Smith's Crinkle Cut Potato Chips Salt & Vinegar"
         ],
         "xaxis": "x",
         "y": [
          "Milk Lactose"
         ],
         "yaxis": "y"
        },
        {
         "hovertemplate": "Ingredients=%{y}<br>Product=%{x}<extra></extra>",
         "legendgroup": "Vegetable Powder Tomato",
         "marker": {
          "color": "#636efa",
          "symbol": "circle"
         },
         "mode": "markers",
         "name": "Vegetable Powder Tomato",
         "showlegend": true,
         "type": "scattergl",
         "x": [
          "Thins Chips Light & Tangy"
         ],
         "xaxis": "x",
         "y": [
          "Vegetable Powder Tomato"
         ],
         "yaxis": "y"
        },
        {
         "hovertemplate": "Ingredients=%{y}<br>Product=%{x}<extra></extra>",
         "legendgroup": "Garam Masala",
         "marker": {
          "color": "#EF553B",
          "symbol": "circle"
         },
         "mode": "markers",
         "name": "Garam Masala",
         "showlegend": true,
         "type": "scattergl",
         "x": [
          "Thins Chips Light & Tangy"
         ],
         "xaxis": "x",
         "y": [
          "Garam Masala"
         ],
         "yaxis": "y"
        },
        {
         "hovertemplate": "Ingredients=%{y}<br>Product=%{x}<extra></extra>",
         "legendgroup": "Buttermilk Powder",
         "marker": {
          "color": "#00cc96",
          "symbol": "circle"
         },
         "mode": "markers",
         "name": "Buttermilk Powder",
         "showlegend": true,
         "type": "scattergl",
         "x": [
          "Thins Chips Light & Tangy"
         ],
         "xaxis": "x",
         "y": [
          "Buttermilk Powder"
         ],
         "yaxis": "y"
        },
        {
         "hovertemplate": "Ingredients=%{y}<br>Product=%{x}<extra></extra>",
         "legendgroup": "Lactic Acid",
         "marker": {
          "color": "#ab63fa",
          "symbol": "circle"
         },
         "mode": "markers",
         "name": "Lactic Acid",
         "showlegend": true,
         "type": "scattergl",
         "x": [
          "Thins Cheese & Onion Chips"
         ],
         "xaxis": "x",
         "y": [
          "Lactic Acid"
         ],
         "yaxis": "y"
        },
        {
         "hovertemplate": "Ingredients=%{y}<br>Product=%{x}<extra></extra>",
         "legendgroup": "Paprika Extract",
         "marker": {
          "color": "#FFA15A",
          "symbol": "circle"
         },
         "mode": "markers",
         "name": "Paprika Extract",
         "showlegend": true,
         "type": "scattergl",
         "x": [
          "Thins Cheese & Onion Chips"
         ],
         "xaxis": "x",
         "y": [
          "Paprika Extract"
         ],
         "yaxis": "y"
        },
        {
         "hovertemplate": "Ingredients=%{y}<br>Product=%{x}<extra></extra>",
         "legendgroup": "Carrageenan",
         "marker": {
          "color": "#19d3f3",
          "symbol": "circle"
         },
         "mode": "markers",
         "name": "Carrageenan",
         "showlegend": true,
         "type": "scattergl",
         "x": [
          "Woolworths Peach In Strawberry Jelly",
          "Woolworths Two Fruits In Tropical Jelly",
          "Woolworths Apple In Pineapple Jelly"
         ],
         "xaxis": "x",
         "y": [
          "Carrageenan",
          "Carrageenan",
          "Carrageenan"
         ],
         "yaxis": "y"
        },
        {
         "hovertemplate": "Ingredients=%{y}<br>Product=%{x}<extra></extra>",
         "legendgroup": "Locust Bean Gum",
         "marker": {
          "color": "#FF6692",
          "symbol": "circle"
         },
         "mode": "markers",
         "name": "Locust Bean Gum",
         "showlegend": true,
         "type": "scattergl",
         "x": [
          "Woolworths Peach In Strawberry Jelly",
          "Woolworths Two Fruits In Tropical Jelly",
          "Woolworths Apple In Pineapple Jelly"
         ],
         "xaxis": "x",
         "y": [
          "Locust Bean Gum",
          "Locust Bean Gum",
          "Locust Bean Gum"
         ],
         "yaxis": "y"
        },
        {
         "hovertemplate": "Ingredients=%{y}<br>Product=%{x}<extra></extra>",
         "legendgroup": "Calcium Lactate",
         "marker": {
          "color": "#B6E880",
          "symbol": "circle"
         },
         "mode": "markers",
         "name": "Calcium Lactate",
         "showlegend": true,
         "type": "scattergl",
         "x": [
          "Woolworths Peach In Strawberry Jelly",
          "Woolworths Two Fruits In Tropical Jelly",
          "Woolworths Apple In Pineapple Jelly"
         ],
         "xaxis": "x",
         "y": [
          "Calcium Lactate",
          "Calcium Lactate",
          "Calcium Lactate"
         ],
         "yaxis": "y"
        },
        {
         "hovertemplate": "Ingredients=%{y}<br>Product=%{x}<extra></extra>",
         "legendgroup": "Malic Acid",
         "marker": {
          "color": "#FF97FF",
          "symbol": "circle"
         },
         "mode": "markers",
         "name": "Malic Acid",
         "showlegend": true,
         "type": "scattergl",
         "x": [
          "Woolworths Peach In Strawberry Jelly",
          "Woolworths Two Fruits In Tropical Jelly",
          "Woolworths Apple In Pineapple Jelly"
         ],
         "xaxis": "x",
         "y": [
          "Malic Acid",
          "Malic Acid",
          "Malic Acid"
         ],
         "yaxis": "y"
        },
        {
         "hovertemplate": "Ingredients=%{y}<br>Product=%{x}<extra></extra>",
         "legendgroup": "Natural Strawberry Flavour",
         "marker": {
          "color": "#FECB52",
          "symbol": "circle"
         },
         "mode": "markers",
         "name": "Natural Strawberry Flavour",
         "showlegend": true,
         "type": "scattergl",
         "x": [
          "Woolworths Peach In Strawberry Jelly"
         ],
         "xaxis": "x",
         "y": [
          "Natural Strawberry Flavour"
         ],
         "yaxis": "y"
        },
        {
         "hovertemplate": "Ingredients=%{y}<br>Product=%{x}<extra></extra>",
         "legendgroup": "Cochineal",
         "marker": {
          "color": "#636efa",
          "symbol": "circle"
         },
         "mode": "markers",
         "name": "Cochineal",
         "showlegend": true,
         "type": "scattergl",
         "x": [
          "Woolworths Peach In Strawberry Jelly"
         ],
         "xaxis": "x",
         "y": [
          "Cochineal"
         ],
         "yaxis": "y"
        },
        {
         "hovertemplate": "Ingredients=%{y}<br>Product=%{x}<extra></extra>",
         "legendgroup": "Fruit Peach",
         "marker": {
          "color": "#EF553B",
          "symbol": "circle"
         },
         "mode": "markers",
         "name": "Fruit Peach",
         "showlegend": true,
         "type": "scattergl",
         "x": [
          "Woolworths Peach In Strawberry Jelly",
          "Woolworths Two Fruits In Juice Cups",
          "Woolworths Two Fruits In Juice",
          "Woolworths Two Fruits In Juice",
          "Woolworths Two Fruits In Tropical Jelly"
         ],
         "xaxis": "x",
         "y": [
          "Fruit Peach",
          "Fruit Peach",
          "Fruit Peach",
          "Fruit Peach",
          "Fruit Peach"
         ],
         "yaxis": "y"
        },
        {
         "hovertemplate": "Ingredients=%{y}<br>Product=%{x}<extra></extra>",
         "legendgroup": "Pear",
         "marker": {
          "color": "#00cc96",
          "symbol": "circle"
         },
         "mode": "markers",
         "name": "Pear",
         "showlegend": true,
         "type": "scattergl",
         "x": [
          "Woolworths Two Fruits In Juice Cups",
          "Woolworths Two Fruits In Juice",
          "Woolworths Two Fruits In Juice",
          "Woolworths Two Fruits In Tropical Jelly"
         ],
         "xaxis": "x",
         "y": [
          "Pear",
          "Pear",
          "Pear",
          "Pear"
         ],
         "yaxis": "y"
        },
        {
         "hovertemplate": "Ingredients=%{y}<br>Product=%{x}<extra></extra>",
         "legendgroup": "Reconstituted Refined Juice Concentrated Pear Juice",
         "marker": {
          "color": "#ab63fa",
          "symbol": "circle"
         },
         "mode": "markers",
         "name": "Reconstituted Refined Juice Concentrated Pear Juice",
         "showlegend": true,
         "type": "scattergl",
         "x": [
          "Woolworths Two Fruits In Juice Cups",
          "Woolworths Two Fruits In Juice"
         ],
         "xaxis": "x",
         "y": [
          "Reconstituted Refined Juice Concentrated Pear Juice",
          "Reconstituted Refined Juice Concentrated Pear Juice"
         ],
         "yaxis": "y"
        },
        {
         "hovertemplate": "Ingredients=%{y}<br>Product=%{x}<extra></extra>",
         "legendgroup": "Refined Fruit Juice Apple",
         "marker": {
          "color": "#FFA15A",
          "symbol": "circle"
         },
         "mode": "markers",
         "name": "Refined Fruit Juice Apple",
         "showlegend": true,
         "type": "scattergl",
         "x": [
          "Woolworths Two Fruits In Juice"
         ],
         "xaxis": "x",
         "y": [
          "Refined Fruit Juice Apple"
         ],
         "yaxis": "y"
        },
        {
         "hovertemplate": "Ingredients=%{y}<br>Product=%{x}<extra></extra>",
         "legendgroup": "Refined Fruit Juice Grape",
         "marker": {
          "color": "#19d3f3",
          "symbol": "circle"
         },
         "mode": "markers",
         "name": "Refined Fruit Juice Grape",
         "showlegend": true,
         "type": "scattergl",
         "x": [
          "Woolworths Two Fruits In Juice"
         ],
         "xaxis": "x",
         "y": [
          "Refined Fruit Juice Grape"
         ],
         "yaxis": "y"
        },
        {
         "hovertemplate": "Ingredients=%{y}<br>Product=%{x}<extra></extra>",
         "legendgroup": "Refined Fruit Juice Peach",
         "marker": {
          "color": "#FF6692",
          "symbol": "circle"
         },
         "mode": "markers",
         "name": "Refined Fruit Juice Peach",
         "showlegend": true,
         "type": "scattergl",
         "x": [
          "Woolworths Two Fruits In Juice"
         ],
         "xaxis": "x",
         "y": [
          "Refined Fruit Juice Peach"
         ],
         "yaxis": "y"
        },
        {
         "hovertemplate": "Ingredients=%{y}<br>Product=%{x}<extra></extra>",
         "legendgroup": "Refined Fruit Juice Pear",
         "marker": {
          "color": "#B6E880",
          "symbol": "circle"
         },
         "mode": "markers",
         "name": "Refined Fruit Juice Pear",
         "showlegend": true,
         "type": "scattergl",
         "x": [
          "Woolworths Two Fruits In Juice"
         ],
         "xaxis": "x",
         "y": [
          "Refined Fruit Juice Pear"
         ],
         "yaxis": "y"
        },
        {
         "hovertemplate": "Ingredients=%{y}<br>Product=%{x}<extra></extra>",
         "legendgroup": "Natural Flavour Pineapple",
         "marker": {
          "color": "#FF97FF",
          "symbol": "circle"
         },
         "mode": "markers",
         "name": "Natural Flavour Pineapple",
         "showlegend": true,
         "type": "scattergl",
         "x": [
          "Woolworths Two Fruits In Tropical Jelly"
         ],
         "xaxis": "x",
         "y": [
          "Natural Flavour Pineapple"
         ],
         "yaxis": "y"
        },
        {
         "hovertemplate": "Ingredients=%{y}<br>Product=%{x}<extra></extra>",
         "legendgroup": "Natural Flavour Mango",
         "marker": {
          "color": "#FECB52",
          "symbol": "circle"
         },
         "mode": "markers",
         "name": "Natural Flavour Mango",
         "showlegend": true,
         "type": "scattergl",
         "x": [
          "Woolworths Two Fruits In Tropical Jelly"
         ],
         "xaxis": "x",
         "y": [
          "Natural Flavour Mango"
         ],
         "yaxis": "y"
        },
        {
         "hovertemplate": "Ingredients=%{y}<br>Product=%{x}<extra></extra>",
         "legendgroup": "Jelly Natural Pineapple Flavour",
         "marker": {
          "color": "#636efa",
          "symbol": "circle"
         },
         "mode": "markers",
         "name": "Jelly Natural Pineapple Flavour",
         "showlegend": true,
         "type": "scattergl",
         "x": [
          "Woolworths Apple In Pineapple Jelly"
         ],
         "xaxis": "x",
         "y": [
          "Jelly Natural Pineapple Flavour"
         ],
         "yaxis": "y"
        },
        {
         "hovertemplate": "Ingredients=%{y}<br>Product=%{x}<extra></extra>",
         "legendgroup": "Apple",
         "marker": {
          "color": "#EF553B",
          "symbol": "circle"
         },
         "mode": "markers",
         "name": "Apple",
         "showlegend": true,
         "type": "scattergl",
         "x": [
          "Woolworths Apple In Pineapple Jelly"
         ],
         "xaxis": "x",
         "y": [
          "Apple"
         ],
         "yaxis": "y"
        },
        {
         "hovertemplate": "Ingredients=%{y}<br>Product=%{x}<extra></extra>",
         "legendgroup": "Diced Pears",
         "marker": {
          "color": "#00cc96",
          "symbol": "circle"
         },
         "mode": "markers",
         "name": "Diced Pears",
         "showlegend": true,
         "type": "scattergl",
         "x": [
          "Goulburn Valley Two Fruits In Juice",
          "Goulburn Valley Two Fruits In Juice Fruit Cups In Juice"
         ],
         "xaxis": "x",
         "y": [
          "Diced Pears",
          "Diced Pears"
         ],
         "yaxis": "y"
        },
        {
         "hovertemplate": "Ingredients=%{y}<br>Product=%{x}<extra></extra>",
         "legendgroup": "Diced Peaches",
         "marker": {
          "color": "#ab63fa",
          "symbol": "circle"
         },
         "mode": "markers",
         "name": "Diced Peaches",
         "showlegend": true,
         "type": "scattergl",
         "x": [
          "Goulburn Valley Two Fruits In Juice",
          "Goulburn Valley Two Fruits In Juice Fruit Cups In Juice"
         ],
         "xaxis": "x",
         "y": [
          "Diced Peaches",
          "Diced Peaches"
         ],
         "yaxis": "y"
        },
        {
         "hovertemplate": "Ingredients=%{y}<br>Product=%{x}<extra></extra>",
         "legendgroup": "Refined Fruit Juice",
         "marker": {
          "color": "#FFA15A",
          "symbol": "circle"
         },
         "mode": "markers",
         "name": "Refined Fruit Juice",
         "showlegend": true,
         "type": "scattergl",
         "x": [
          "Goulburn Valley Two Fruits In Juice",
          "Goulburn Valley Two Fruits In Juice Fruit Cups In Juice"
         ],
         "xaxis": "x",
         "y": [
          "Refined Fruit Juice",
          "Refined Fruit Juice"
         ],
         "yaxis": "y"
        },
        {
         "hovertemplate": "Ingredients=%{y}<br>Product=%{x}<extra></extra>",
         "legendgroup": "Pineapple",
         "marker": {
          "color": "#19d3f3",
          "symbol": "circle"
         },
         "mode": "markers",
         "name": "Pineapple",
         "showlegend": true,
         "type": "scattergl",
         "x": [
          "Dole Pineapple Slices In Syrup",
          "Dole Pineapple Chunks In Juice"
         ],
         "xaxis": "x",
         "y": [
          "Pineapple",
          "Pineapple"
         ],
         "yaxis": "y"
        },
        {
         "hovertemplate": "Ingredients=%{y}<br>Product=%{x}<extra></extra>",
         "legendgroup": "Pineapple Juice",
         "marker": {
          "color": "#FF6692",
          "symbol": "circle"
         },
         "mode": "markers",
         "name": "Pineapple Juice",
         "showlegend": true,
         "type": "scattergl",
         "x": [
          "Dole Pineapple Chunks In Juice"
         ],
         "xaxis": "x",
         "y": [
          "Pineapple Juice"
         ],
         "yaxis": "y"
        },
        {
         "hovertemplate": "Ingredients=%{y}<br>Product=%{x}<extra></extra>",
         "legendgroup": "Clarified Pineapple Juice Concentrate",
         "marker": {
          "color": "#B6E880",
          "symbol": "circle"
         },
         "mode": "markers",
         "name": "Clarified Pineapple Juice Concentrate",
         "showlegend": true,
         "type": "scattergl",
         "x": [
          "Dole Pineapple Chunks In Juice"
         ],
         "xaxis": "x",
         "y": [
          "Clarified Pineapple Juice Concentrate"
         ],
         "yaxis": "y"
        }
       ],
       "layout": {
        "legend": {
         "title": {
          "text": "Ingredients"
         },
         "tracegroupgap": 0
        },
        "template": {
         "data": {
          "bar": [
           {
            "error_x": {
             "color": "#2a3f5f"
            },
            "error_y": {
             "color": "#2a3f5f"
            },
            "marker": {
             "line": {
              "color": "#E5ECF6",
              "width": 0.5
             },
             "pattern": {
              "fillmode": "overlay",
              "size": 10,
              "solidity": 0.2
             }
            },
            "type": "bar"
           }
          ],
          "barpolar": [
           {
            "marker": {
             "line": {
              "color": "#E5ECF6",
              "width": 0.5
             },
             "pattern": {
              "fillmode": "overlay",
              "size": 10,
              "solidity": 0.2
             }
            },
            "type": "barpolar"
           }
          ],
          "carpet": [
           {
            "aaxis": {
             "endlinecolor": "#2a3f5f",
             "gridcolor": "white",
             "linecolor": "white",
             "minorgridcolor": "white",
             "startlinecolor": "#2a3f5f"
            },
            "baxis": {
             "endlinecolor": "#2a3f5f",
             "gridcolor": "white",
             "linecolor": "white",
             "minorgridcolor": "white",
             "startlinecolor": "#2a3f5f"
            },
            "type": "carpet"
           }
          ],
          "choropleth": [
           {
            "colorbar": {
             "outlinewidth": 0,
             "ticks": ""
            },
            "type": "choropleth"
           }
          ],
          "contour": [
           {
            "colorbar": {
             "outlinewidth": 0,
             "ticks": ""
            },
            "colorscale": [
             [
              0,
              "#0d0887"
             ],
             [
              0.1111111111111111,
              "#46039f"
             ],
             [
              0.2222222222222222,
              "#7201a8"
             ],
             [
              0.3333333333333333,
              "#9c179e"
             ],
             [
              0.4444444444444444,
              "#bd3786"
             ],
             [
              0.5555555555555556,
              "#d8576b"
             ],
             [
              0.6666666666666666,
              "#ed7953"
             ],
             [
              0.7777777777777778,
              "#fb9f3a"
             ],
             [
              0.8888888888888888,
              "#fdca26"
             ],
             [
              1,
              "#f0f921"
             ]
            ],
            "type": "contour"
           }
          ],
          "contourcarpet": [
           {
            "colorbar": {
             "outlinewidth": 0,
             "ticks": ""
            },
            "type": "contourcarpet"
           }
          ],
          "heatmap": [
           {
            "colorbar": {
             "outlinewidth": 0,
             "ticks": ""
            },
            "colorscale": [
             [
              0,
              "#0d0887"
             ],
             [
              0.1111111111111111,
              "#46039f"
             ],
             [
              0.2222222222222222,
              "#7201a8"
             ],
             [
              0.3333333333333333,
              "#9c179e"
             ],
             [
              0.4444444444444444,
              "#bd3786"
             ],
             [
              0.5555555555555556,
              "#d8576b"
             ],
             [
              0.6666666666666666,
              "#ed7953"
             ],
             [
              0.7777777777777778,
              "#fb9f3a"
             ],
             [
              0.8888888888888888,
              "#fdca26"
             ],
             [
              1,
              "#f0f921"
             ]
            ],
            "type": "heatmap"
           }
          ],
          "heatmapgl": [
           {
            "colorbar": {
             "outlinewidth": 0,
             "ticks": ""
            },
            "colorscale": [
             [
              0,
              "#0d0887"
             ],
             [
              0.1111111111111111,
              "#46039f"
             ],
             [
              0.2222222222222222,
              "#7201a8"
             ],
             [
              0.3333333333333333,
              "#9c179e"
             ],
             [
              0.4444444444444444,
              "#bd3786"
             ],
             [
              0.5555555555555556,
              "#d8576b"
             ],
             [
              0.6666666666666666,
              "#ed7953"
             ],
             [
              0.7777777777777778,
              "#fb9f3a"
             ],
             [
              0.8888888888888888,
              "#fdca26"
             ],
             [
              1,
              "#f0f921"
             ]
            ],
            "type": "heatmapgl"
           }
          ],
          "histogram": [
           {
            "marker": {
             "pattern": {
              "fillmode": "overlay",
              "size": 10,
              "solidity": 0.2
             }
            },
            "type": "histogram"
           }
          ],
          "histogram2d": [
           {
            "colorbar": {
             "outlinewidth": 0,
             "ticks": ""
            },
            "colorscale": [
             [
              0,
              "#0d0887"
             ],
             [
              0.1111111111111111,
              "#46039f"
             ],
             [
              0.2222222222222222,
              "#7201a8"
             ],
             [
              0.3333333333333333,
              "#9c179e"
             ],
             [
              0.4444444444444444,
              "#bd3786"
             ],
             [
              0.5555555555555556,
              "#d8576b"
             ],
             [
              0.6666666666666666,
              "#ed7953"
             ],
             [
              0.7777777777777778,
              "#fb9f3a"
             ],
             [
              0.8888888888888888,
              "#fdca26"
             ],
             [
              1,
              "#f0f921"
             ]
            ],
            "type": "histogram2d"
           }
          ],
          "histogram2dcontour": [
           {
            "colorbar": {
             "outlinewidth": 0,
             "ticks": ""
            },
            "colorscale": [
             [
              0,
              "#0d0887"
             ],
             [
              0.1111111111111111,
              "#46039f"
             ],
             [
              0.2222222222222222,
              "#7201a8"
             ],
             [
              0.3333333333333333,
              "#9c179e"
             ],
             [
              0.4444444444444444,
              "#bd3786"
             ],
             [
              0.5555555555555556,
              "#d8576b"
             ],
             [
              0.6666666666666666,
              "#ed7953"
             ],
             [
              0.7777777777777778,
              "#fb9f3a"
             ],
             [
              0.8888888888888888,
              "#fdca26"
             ],
             [
              1,
              "#f0f921"
             ]
            ],
            "type": "histogram2dcontour"
           }
          ],
          "mesh3d": [
           {
            "colorbar": {
             "outlinewidth": 0,
             "ticks": ""
            },
            "type": "mesh3d"
           }
          ],
          "parcoords": [
           {
            "line": {
             "colorbar": {
              "outlinewidth": 0,
              "ticks": ""
             }
            },
            "type": "parcoords"
           }
          ],
          "pie": [
           {
            "automargin": true,
            "type": "pie"
           }
          ],
          "scatter": [
           {
            "fillpattern": {
             "fillmode": "overlay",
             "size": 10,
             "solidity": 0.2
            },
            "type": "scatter"
           }
          ],
          "scatter3d": [
           {
            "line": {
             "colorbar": {
              "outlinewidth": 0,
              "ticks": ""
             }
            },
            "marker": {
             "colorbar": {
              "outlinewidth": 0,
              "ticks": ""
             }
            },
            "type": "scatter3d"
           }
          ],
          "scattercarpet": [
           {
            "marker": {
             "colorbar": {
              "outlinewidth": 0,
              "ticks": ""
             }
            },
            "type": "scattercarpet"
           }
          ],
          "scattergeo": [
           {
            "marker": {
             "colorbar": {
              "outlinewidth": 0,
              "ticks": ""
             }
            },
            "type": "scattergeo"
           }
          ],
          "scattergl": [
           {
            "marker": {
             "colorbar": {
              "outlinewidth": 0,
              "ticks": ""
             }
            },
            "type": "scattergl"
           }
          ],
          "scattermapbox": [
           {
            "marker": {
             "colorbar": {
              "outlinewidth": 0,
              "ticks": ""
             }
            },
            "type": "scattermapbox"
           }
          ],
          "scatterpolar": [
           {
            "marker": {
             "colorbar": {
              "outlinewidth": 0,
              "ticks": ""
             }
            },
            "type": "scatterpolar"
           }
          ],
          "scatterpolargl": [
           {
            "marker": {
             "colorbar": {
              "outlinewidth": 0,
              "ticks": ""
             }
            },
            "type": "scatterpolargl"
           }
          ],
          "scatterternary": [
           {
            "marker": {
             "colorbar": {
              "outlinewidth": 0,
              "ticks": ""
             }
            },
            "type": "scatterternary"
           }
          ],
          "surface": [
           {
            "colorbar": {
             "outlinewidth": 0,
             "ticks": ""
            },
            "colorscale": [
             [
              0,
              "#0d0887"
             ],
             [
              0.1111111111111111,
              "#46039f"
             ],
             [
              0.2222222222222222,
              "#7201a8"
             ],
             [
              0.3333333333333333,
              "#9c179e"
             ],
             [
              0.4444444444444444,
              "#bd3786"
             ],
             [
              0.5555555555555556,
              "#d8576b"
             ],
             [
              0.6666666666666666,
              "#ed7953"
             ],
             [
              0.7777777777777778,
              "#fb9f3a"
             ],
             [
              0.8888888888888888,
              "#fdca26"
             ],
             [
              1,
              "#f0f921"
             ]
            ],
            "type": "surface"
           }
          ],
          "table": [
           {
            "cells": {
             "fill": {
              "color": "#EBF0F8"
             },
             "line": {
              "color": "white"
             }
            },
            "header": {
             "fill": {
              "color": "#C8D4E3"
             },
             "line": {
              "color": "white"
             }
            },
            "type": "table"
           }
          ]
         },
         "layout": {
          "annotationdefaults": {
           "arrowcolor": "#2a3f5f",
           "arrowhead": 0,
           "arrowwidth": 1
          },
          "autotypenumbers": "strict",
          "coloraxis": {
           "colorbar": {
            "outlinewidth": 0,
            "ticks": ""
           }
          },
          "colorscale": {
           "diverging": [
            [
             0,
             "#8e0152"
            ],
            [
             0.1,
             "#c51b7d"
            ],
            [
             0.2,
             "#de77ae"
            ],
            [
             0.3,
             "#f1b6da"
            ],
            [
             0.4,
             "#fde0ef"
            ],
            [
             0.5,
             "#f7f7f7"
            ],
            [
             0.6,
             "#e6f5d0"
            ],
            [
             0.7,
             "#b8e186"
            ],
            [
             0.8,
             "#7fbc41"
            ],
            [
             0.9,
             "#4d9221"
            ],
            [
             1,
             "#276419"
            ]
           ],
           "sequential": [
            [
             0,
             "#0d0887"
            ],
            [
             0.1111111111111111,
             "#46039f"
            ],
            [
             0.2222222222222222,
             "#7201a8"
            ],
            [
             0.3333333333333333,
             "#9c179e"
            ],
            [
             0.4444444444444444,
             "#bd3786"
            ],
            [
             0.5555555555555556,
             "#d8576b"
            ],
            [
             0.6666666666666666,
             "#ed7953"
            ],
            [
             0.7777777777777778,
             "#fb9f3a"
            ],
            [
             0.8888888888888888,
             "#fdca26"
            ],
            [
             1,
             "#f0f921"
            ]
           ],
           "sequentialminus": [
            [
             0,
             "#0d0887"
            ],
            [
             0.1111111111111111,
             "#46039f"
            ],
            [
             0.2222222222222222,
             "#7201a8"
            ],
            [
             0.3333333333333333,
             "#9c179e"
            ],
            [
             0.4444444444444444,
             "#bd3786"
            ],
            [
             0.5555555555555556,
             "#d8576b"
            ],
            [
             0.6666666666666666,
             "#ed7953"
            ],
            [
             0.7777777777777778,
             "#fb9f3a"
            ],
            [
             0.8888888888888888,
             "#fdca26"
            ],
            [
             1,
             "#f0f921"
            ]
           ]
          },
          "colorway": [
           "#636efa",
           "#EF553B",
           "#00cc96",
           "#ab63fa",
           "#FFA15A",
           "#19d3f3",
           "#FF6692",
           "#B6E880",
           "#FF97FF",
           "#FECB52"
          ],
          "font": {
           "color": "#2a3f5f"
          },
          "geo": {
           "bgcolor": "white",
           "lakecolor": "white",
           "landcolor": "#E5ECF6",
           "showlakes": true,
           "showland": true,
           "subunitcolor": "white"
          },
          "hoverlabel": {
           "align": "left"
          },
          "hovermode": "closest",
          "mapbox": {
           "style": "light"
          },
          "paper_bgcolor": "white",
          "plot_bgcolor": "#E5ECF6",
          "polar": {
           "angularaxis": {
            "gridcolor": "white",
            "linecolor": "white",
            "ticks": ""
           },
           "bgcolor": "#E5ECF6",
           "radialaxis": {
            "gridcolor": "white",
            "linecolor": "white",
            "ticks": ""
           }
          },
          "scene": {
           "xaxis": {
            "backgroundcolor": "#E5ECF6",
            "gridcolor": "white",
            "gridwidth": 2,
            "linecolor": "white",
            "showbackground": true,
            "ticks": "",
            "zerolinecolor": "white"
           },
           "yaxis": {
            "backgroundcolor": "#E5ECF6",
            "gridcolor": "white",
            "gridwidth": 2,
            "linecolor": "white",
            "showbackground": true,
            "ticks": "",
            "zerolinecolor": "white"
           },
           "zaxis": {
            "backgroundcolor": "#E5ECF6",
            "gridcolor": "white",
            "gridwidth": 2,
            "linecolor": "white",
            "showbackground": true,
            "ticks": "",
            "zerolinecolor": "white"
           }
          },
          "shapedefaults": {
           "line": {
            "color": "#2a3f5f"
           }
          },
          "ternary": {
           "aaxis": {
            "gridcolor": "white",
            "linecolor": "white",
            "ticks": ""
           },
           "baxis": {
            "gridcolor": "white",
            "linecolor": "white",
            "ticks": ""
           },
           "bgcolor": "#E5ECF6",
           "caxis": {
            "gridcolor": "white",
            "linecolor": "white",
            "ticks": ""
           }
          },
          "title": {
           "x": 0.05
          },
          "xaxis": {
           "automargin": true,
           "gridcolor": "white",
           "linecolor": "white",
           "ticks": "",
           "title": {
            "standoff": 15
           },
           "zerolinecolor": "white",
           "zerolinewidth": 2
          },
          "yaxis": {
           "automargin": true,
           "gridcolor": "white",
           "linecolor": "white",
           "ticks": "",
           "title": {
            "standoff": 15
           },
           "zerolinecolor": "white",
           "zerolinewidth": 2
          }
         }
        },
        "title": {
         "text": "Ingredient in Products"
        },
        "xaxis": {
         "anchor": "y",
         "domain": [
          0,
          1
         ],
         "title": {
          "text": "Product"
         }
        },
        "yaxis": {
         "anchor": "x",
         "categoryarray": [
          "Clarified Pineapple Juice Concentrate",
          "Pineapple Juice",
          "Pineapple",
          "Refined Fruit Juice",
          "Diced Peaches",
          "Diced Pears",
          "Apple",
          "Jelly Natural Pineapple Flavour",
          "Natural Flavour Mango",
          "Natural Flavour Pineapple",
          "Refined Fruit Juice Pear",
          "Refined Fruit Juice Peach",
          "Refined Fruit Juice Grape",
          "Refined Fruit Juice Apple",
          "Reconstituted Refined Juice Concentrated Pear Juice",
          "Pear",
          "Fruit Peach",
          "Cochineal",
          "Natural Strawberry Flavour",
          "Malic Acid",
          "Calcium Lactate",
          "Locust Bean Gum",
          "Carrageenan",
          "Paprika Extract",
          "Lactic Acid",
          "Buttermilk Powder",
          "Garam Masala",
          "Vegetable Powder Tomato",
          "Milk Lactose",
          "Vegetable Powder Garlic",
          "Glucose",
          "Flavour Enhancer 620",
          "Paprika",
          "Sodium Diacetate",
          "Tomato Powder",
          "Flavoured Milk",
          "Cheese Powder",
          "Antioxidant Rosemary Extract",
          "Antioxidant Tocopherols",
          "Sunflower Oil",
          "Potatoes",
          "Australian Spring Water",
          "Natural Spring Water",
          "Reconstituted Fruit Puree Tomato Paste",
          "Reconstituted Fruit Puree Apple",
          "White Vinegar",
          "Mustard Oil",
          "Herb Extract",
          "Dill",
          "Paprika Oleoresins",
          "Carotene",
          "Gherkin",
          "Free Range Egg Yolk",
          "Vinegar",
          "Canola Oil",
          "Maize Maltodextrin",
          "Maize Thickener 1422",
          "Tomato Puree",
          "Nutmeg",
          "Clove",
          "Tamarind Paste",
          "Caramel Color 150c",
          "Wheat Cornflour",
          "Xanthan Gum",
          "Smoke Flavour",
          "Caramel I",
          "Molasses",
          "Tomato Paste",
          "Apple Pulp",
          "Reconstituted Fruit Puree",
          "Spice Extract",
          "Thickener Modified Corn Starch",
          "Reconstituted Tomato Puree",
          "Acidity Regulator 339",
          "Skim Milk",
          "Rice",
          "Sardines",
          "Homogenised Full Cream Milk",
          "Coconut Extract",
          "Durum Wheat Semolina",
          "Tomatoes",
          "Tomato Juice",
          "Syrup",
          "Fructose",
          "Cream",
          "Pasteurised Homogenised Milk",
          "Reconstituted Fruit Juice Peach Purée",
          "Reconstituted Fruit Juice Water Extracted Orange",
          "Pectin",
          "Potassium Citrate",
          "Vitamin A",
          "Guava Puree",
          "Reconstituted Fruit Juice Pear",
          "Reconstituted Fruit Juice Peach",
          "Reconstituted Fruit Juice Apricot",
          "Reconstituted Fruit Juice Grape",
          "Anthocyanins",
          "Reconstituted Fruit Juice Blackcurrant",
          "Carboxymethyl Cellulose",
          "Reconstituted Fruit Juice Passionfruit",
          "Reconstituted Fruit Juice Pineapple",
          "Vitamin C",
          "Reconstituted Apple Juice",
          "Ferric Ferrocyanide",
          "Titanium Dioxide",
          "Iron Oxides",
          "Ultramarines",
          "Mica",
          "Pentaerythrityl Tetra-di-t-butyl Hydroxyhydrocinnamate",
          "Octyldodecanol",
          "Silica",
          "Polybutene",
          "Bis-Diglyceryl Polyacyladipate-2",
          "Synthetic Wax",
          "Polyethylene",
          "Maize Starch",
          "Cultured Dextrose",
          "Black Carrot Extract",
          "Red Beetroot Powder",
          "Beta carotene",
          "Colouring Agent Spirulina Extract",
          "Colouring Agent Titan White",
          "Carnauba Wax",
          "Glazing Agent 414",
          "Milk Compound Chocolate",
          "Thickener 1414",
          "Colouring Agent 160a",
          "Raising Agent 450",
          "Thickener 1422",
          "Soybean Fibre",
          "Stabiliser 422",
          "Egg",
          "Emulsifier 442",
          "Dextrose",
          "Milk Chocolate Chips",
          "Carmine",
          "Strawberry",
          "Folate",
          "Thiamin",
          "Riboflavin",
          "Zinc",
          "Mineral Iron",
          "Ammonium Bicarbonate",
          "Cornstarch",
          "Fructose Syrup",
          "Skim Milk Powder",
          "Chocolate Chips",
          "Natural Flavour Butter",
          "Natural Flavour Vanilla",
          "Milk Butter",
          "Natural Vanilla Flavour",
          "Dark Chocolate Chips",
          "Ammonium Carbonate",
          "Sodium Carbonate",
          "Annatto Extracts",
          "Milk Whey Powder",
          "Whole Egg Powder",
          "Wheaten Corn Flour",
          "Natural Flavour",
          "Cocoa Solids",
          "Palm Oil",
          "Dark Compound Chocolate Chips",
          "Antioxidant E307B",
          "Colouring Agent Caramel IV",
          "Baking Powder",
          "Wheat Starch",
          "Desiccated Coconut",
          "Polyglycerol polyricinoleate",
          "Enzymes",
          "Emulsifier 471",
          "Sorbitan Tristearate",
          "Cocoa Powder",
          "Natural Flavour Vanilla Extract",
          "Egg White",
          "Barley Malt Extract",
          "Wheat Glucose Syrup",
          "Biscuit",
          "Caramel",
          "Milk Chocolate",
          "Acidity Regulator 331",
          "Invert Sugar",
          "Golden Syrup",
          "Sweetened Condensed Milk",
          "Glucose Syrup",
          "Full Cream Milk",
          "Choc Paste",
          "Processing Aid Wheat",
          "Yeast",
          "Cocoa",
          "Polyglycerol Polyricinoleate",
          "Milk",
          "Cocoa Mass",
          "Emulsifier Soy Lecithin",
          "Cocoa Butter",
          "Milk Solids",
          "Reconstituted Fruit Juice Orange",
          "Reconstituted Mango Juice",
          "Antioxidant 385",
          "Lutein",
          "Carminic Acid",
          "Ascorbic Acid",
          "Reconstituted Lemon Juice",
          "Safflower Extract",
          "Potassium Sorbate",
          "",
          "Reconstituted Lime Juice",
          "Sulphites",
          "Plant Extract Carthamus",
          "Plant Extract Gardenia",
          "Sodium Benzoate",
          "Natural Flavour Lime Oils",
          "Quinine",
          "Natural Flavour Lemon Peel Extract",
          "Natural Flavour Botanical Extracts",
          "Natural Flavour Citrus Oils",
          "Natural Flavour Orange Peel Extract",
          "Potassium Bicarbonate",
          "Natural Mineral Water",
          "Natural Flavours",
          "Carbonated Mineral Water",
          "Caramel Color",
          "Colouring Agent 150c",
          "Rosemary",
          "White Pepper",
          "Soy Sauce Powder",
          "Flavours",
          "Antioxidant 307b",
          "Colouring Agent 100",
          "Basil",
          "Mineral Salt 450",
          "Modified Starch 1420",
          "Dehydrated Vegetables",
          "Vegetable Sachet",
          "Flavour Sachet",
          "Curcumin",
          "Soy",
          "Gluten Wheat",
          "Burnt Sugar",
          "Parsley",
          "Potato Starch",
          "Potassium Chloride",
          "Mineral Salt 500",
          "Mineral Salt 501",
          "Flavour Celery",
          "Spice Ginger",
          "Spice Chilli Powder",
          "Spice Cardamom",
          "Cumin",
          "Coriander",
          "Caramel III",
          "Turmeric",
          "Parsley Flakes",
          "Vegetable Fat",
          "Flavours Soy",
          "Flavours Wheat",
          "Maltodextrin",
          "Iodised Salt",
          "Flavour Enhancer 635",
          "Mineral Salt 451",
          "Mineral Salt 508",
          "Antioxidant 320",
          "Vegetable Oil",
          "Disodium Inosinate",
          "TBHQ",
          "Fried Onion",
          "Sodium Metabisulfite",
          "Preservative 1211",
          "Herbs",
          "Citric Acid",
          "Acetic Acid",
          "Tapioca Starch",
          "Chilli",
          "Chilli Sauce",
          "Sesame Oil",
          "Spices",
          "Soy Bean",
          "Wheat",
          "Water",
          "Sweet Soy Sauce",
          "Onion",
          "Seasoning Oil",
          "Anti Caking Agent 551",
          "Pepper",
          "Artificial Flavour",
          "Yeast Extract",
          "Onion Powder",
          "Garlic Powder",
          "Disodium Guanylate",
          "Flavour Enhancer 621",
          "Seasoning Powder",
          "Colour 101",
          "Guar Gum",
          "Sodium Bicarbonate",
          "Acidity Regulator 501",
          "Acidity Regulator 451",
          "Salt",
          "Refined Palm Oil",
          "Wheat Flour",
          "Sweetener 952",
          "Acesulfame Potassium",
          "Aspartame",
          "Sodium Citrate",
          "Caffeine",
          "Flavour",
          "Phosphoric Acid",
          "Colouring Agent 150d",
          "Sugar",
          "Carbonated Water"
         ],
         "categoryorder": "array",
         "domain": [
          0,
          1
         ],
         "title": {
          "text": "Ingredients"
         }
        }
       }
      }
     },
     "metadata": {},
     "output_type": "display_data"
    }
   ],
   "source": [
    "query = \"\"\"\n",
    "MATCH (p:Product)-[:HAS_RECIPE]->(i:Recipe)-[:USES_INGREDIENT]->(N:Ingredient)-[:HAS_RESEARCH]->(a:IngredientResearch)\n",
    "RETURN p.name AS Product, a.ingredient_name AS IngredientResearch\n",
    "\"\"\"\n",
    "\n",
    "\n",
    "with driver.session() as session:\n",
    "    result = session.run(query)\n",
    "    data = [record.data() for record in result]\n",
    "\n",
    "df = pd.DataFrame(data)\n",
    "\n",
    "fig = px.scatter(df, x='Product', y='IngredientResearch', color='IngredientResearch',\n",
    "                 title='Ingredient in Products',\n",
    "                 labels={'IngredientResearch': 'Ingredients'})\n",
    "\n",
    "fig.update_layout(\n",
    "    xaxis_title='Product',\n",
    "    yaxis_title='Ingredients'\n",
    ")\n",
    "\n",
    "fig.show()"
   ]
  },
  {
   "cell_type": "code",
   "execution_count": 3,
   "metadata": {},
   "outputs": [
    {
     "data": {
      "application/vnd.plotly.v1+json": {
       "config": {
        "plotlyServerURL": "https://plot.ly"
       },
       "data": [
        {
         "alignmentgroup": "True",
         "hovertemplate": " Ingredients=%{y}<br>Product=%{x}<extra></extra>",
         "legendgroup": "Carbonated Water",
         "marker": {
          "color": "#636efa",
          "pattern": {
           "shape": ""
          }
         },
         "name": "Carbonated Water",
         "offsetgroup": "Carbonated Water",
         "orientation": "v",
         "showlegend": true,
         "textposition": "auto",
         "type": "bar",
         "x": [
          "Coca - Cola Classic  Soft Drink Multipack Cans",
          "Coca - Cola Classic  Soft Drink Multipack Cans",
          "Coca - Cola Classic  Soft Drink Multipack Cans",
          "Coca - Cola Classic  Soft Drink Mini Cans",
          "Coca - Cola Vanilla  Soft Drink Multipack Cans",
          "Coca - Cola Zero Sugar Soft Drink Multipack Cans",
          "Coca - Cola Zero Sugar Soft Drink Multipack Cans",
          "Coca - Cola Zero Sugar Soft Drink Multipack Cans",
          "Coca - Cola Caffeine Free Zero Sugar Soft Drink Multipack Cans",
          "Coca - Cola Zero Sugar Soft Drink Mini Cans",
          "Schweppes Soda Water Bottle Classic Mixers",
          "Schweppes Indian Tonic Water Classic Mixers Bottle",
          "Schweppes Lime Soda Water With Lime Juice Bottle",
          "Schweppes Zero Sugar Classic Mixers Indian Tonic Water Bottle"
         ],
         "xaxis": "x",
         "y": [
          "Carbonated Water",
          "Carbonated Water",
          "Carbonated Water",
          "Carbonated Water",
          "Carbonated Water",
          "Carbonated Water",
          "Carbonated Water",
          "Carbonated Water",
          "Carbonated Water",
          "Carbonated Water",
          "Carbonated Water",
          "Carbonated Water",
          "Carbonated Water",
          "Carbonated Water"
         ],
         "yaxis": "y"
        },
        {
         "alignmentgroup": "True",
         "hovertemplate": " Ingredients=%{y}<br>Product=%{x}<extra></extra>",
         "legendgroup": "Sugar",
         "marker": {
          "color": "#EF553B",
          "pattern": {
           "shape": ""
          }
         },
         "name": "Sugar",
         "offsetgroup": "Sugar",
         "orientation": "v",
         "showlegend": true,
         "textposition": "auto",
         "type": "bar",
         "x": [
          "Coca - Cola Classic  Soft Drink Multipack Cans",
          "Coca - Cola Classic  Soft Drink Multipack Cans",
          "Coca - Cola Classic  Soft Drink Multipack Cans",
          "Coca - Cola Classic  Soft Drink Mini Cans",
          "Coca - Cola Vanilla  Soft Drink Multipack Cans",
          "Indomie Mi Goreng Instant Noodles",
          "Maggi 2 Minute Chicken Flavour Instant Noodles",
          "Maggi 2 Minute Chicken Flavour Instant Noodles",
          "Supreme Noodles Cup Chicken Flavour",
          "Fantastic Chicken Noodle Cup",
          "Fantastic Chicken Noodle Bowl",
          "Indomie Mi Goreng Noodle Cup",
          "Maggi 2 Minute Beef Flavour Instant Noodles",
          "Supreme Noodles Cup Beef Flavour",
          "Schweppes Indian Tonic Water Classic Mixers Bottle",
          "Schweppes Lime Soda Water With Lime Juice Bottle",
          "Schweppes Lemon Lime Natural Mineral Water Bottle",
          "Schweppes Orange Mango Natural Mineral Water Bottle",
          "Kitkat 4 Finger Milk Chocolate Bar",
          "Kitkat Chunky Original Chocolate Bar",
          "Cadbury Dairy Milk Caramello Koala Chocolate",
          "Mars Chocolate Bar With Nougat & Caramel",
          "Cadbury Dairy Milk Chocolate Roll",
          "Cadbury Dairy Milk Chocolate Bar",
          "Cadbury Twirl Chocolate Bar",
          "Cadbury Chomp Chocolate Bar",
          "Arnott's Premier Chocolate Chip Cookies",
          "Woolworths Chocolate Chip Cookies",
          "Woolworths The King Of Chunky Chocolate Chip Cookies",
          "Arnott's Mini Choc Chip Cookie Multipack Biscuits",
          "Oreo Original Mini Cookies Multipack",
          "Oreo Minis Cookies Variety Bags 18 Pack",
          "Cadbury Classic Choc Chip Cookies",
          "Cadbury Choc Centre Cookies",
          "Byron Bay Cookies Dotty Cookie Bites",
          "Oreo Original Cookies",
          "Golden Circle Golden Pash Fruit Drink",
          "Golden Circle Drinks Pine Orange Fruit Drink",
          "Golden Circle Drinks Sunshine Punch Fruit Drink",
          "Golden Circle Fruit Drinks Lunch Box Poppers Tropical Punch Multipack",
          "Oreo Double Stuff Cookies",
          "Oreo Original Cookies Family Pack",
          "Oreo Chocolate Cookies",
          "Oreo Grab & Go Original Cookies 9 Pack",
          "Oreo Neapolitan Double Stuff Cookies",
          "Woolworths Creamed Rice",
          "Woolworths Tomato Sauce Squeeze",
          "Woolworths Tomato Sauce",
          "Woolworths Barbecue Sauce Squeeze",
          "Masterfoods Tomato Sauce",
          "Masterfoods Barbecue Sauce",
          "Fountain Tomato Sauce Squeeze",
          "Fountain Barbecue Bbq Sauce Squeeze",
          "Woolworths Secret Burger Sauce",
          "Heinz Ketchup Tomato Sauce Ketchup",
          "Woolworths Barbecue Sauce",
          "Smith's Crinkle Cut Potato Chips Barbecue",
          "Smith's Crinkle Cut Potato Chips Chicken",
          "Thins Chips Chicken",
          "Smith's Crinkle Cut Potato Chips Salt & Vinegar",
          "Thins Chips Light & Tangy",
          "Thins Cheese & Onion Chips",
          "Woolworths Peach In Strawberry Jelly",
          "Woolworths Two Fruits In Tropical Jelly",
          "Woolworths Apple In Pineapple Jelly",
          "Dole Pineapple Slices In Syrup"
         ],
         "xaxis": "x",
         "y": [
          "Sugar",
          "Sugar",
          "Sugar",
          "Sugar",
          "Sugar",
          "Sugar",
          "Sugar",
          "Sugar",
          "Sugar",
          "Sugar",
          "Sugar",
          "Sugar",
          "Sugar",
          "Sugar",
          "Sugar",
          "Sugar",
          "Sugar",
          "Sugar",
          "Sugar",
          "Sugar",
          "Sugar",
          "Sugar",
          "Sugar",
          "Sugar",
          "Sugar",
          "Sugar",
          "Sugar",
          "Sugar",
          "Sugar",
          "Sugar",
          "Sugar",
          "Sugar",
          "Sugar",
          "Sugar",
          "Sugar",
          "Sugar",
          "Sugar",
          "Sugar",
          "Sugar",
          "Sugar",
          "Sugar",
          "Sugar",
          "Sugar",
          "Sugar",
          "Sugar",
          "Sugar",
          "Sugar",
          "Sugar",
          "Sugar",
          "Sugar",
          "Sugar",
          "Sugar",
          "Sugar",
          "Sugar",
          "Sugar",
          "Sugar",
          "Sugar",
          "Sugar",
          "Sugar",
          "Sugar",
          "Sugar",
          "Sugar",
          "Sugar",
          "Sugar",
          "Sugar",
          "Sugar"
         ],
         "yaxis": "y"
        },
        {
         "alignmentgroup": "True",
         "hovertemplate": " Ingredients=%{y}<br>Product=%{x}<extra></extra>",
         "legendgroup": "Colouring Agent 150d",
         "marker": {
          "color": "#00cc96",
          "pattern": {
           "shape": ""
          }
         },
         "name": "Colouring Agent 150d",
         "offsetgroup": "Colouring Agent 150d",
         "orientation": "v",
         "showlegend": true,
         "textposition": "auto",
         "type": "bar",
         "x": [
          "Coca - Cola Classic  Soft Drink Multipack Cans",
          "Coca - Cola Classic  Soft Drink Multipack Cans",
          "Coca - Cola Classic  Soft Drink Multipack Cans",
          "Coca - Cola Classic  Soft Drink Mini Cans",
          "Coca - Cola Vanilla  Soft Drink Multipack Cans",
          "Coca - Cola Zero Sugar Soft Drink Multipack Cans",
          "Coca - Cola Zero Sugar Soft Drink Multipack Cans",
          "Coca - Cola Zero Sugar Soft Drink Multipack Cans",
          "Coca - Cola Caffeine Free Zero Sugar Soft Drink Multipack Cans",
          "Coca - Cola Zero Sugar Soft Drink Mini Cans",
          "Fountain Barbecue Bbq Sauce Squeeze"
         ],
         "xaxis": "x",
         "y": [
          "Colouring Agent 150d",
          "Colouring Agent 150d",
          "Colouring Agent 150d",
          "Colouring Agent 150d",
          "Colouring Agent 150d",
          "Colouring Agent 150d",
          "Colouring Agent 150d",
          "Colouring Agent 150d",
          "Colouring Agent 150d",
          "Colouring Agent 150d",
          "Colouring Agent 150d"
         ],
         "yaxis": "y"
        },
        {
         "alignmentgroup": "True",
         "hovertemplate": " Ingredients=%{y}<br>Product=%{x}<extra></extra>",
         "legendgroup": "Phosphoric Acid",
         "marker": {
          "color": "#ab63fa",
          "pattern": {
           "shape": ""
          }
         },
         "name": "Phosphoric Acid",
         "offsetgroup": "Phosphoric Acid",
         "orientation": "v",
         "showlegend": true,
         "textposition": "auto",
         "type": "bar",
         "x": [
          "Coca - Cola Classic  Soft Drink Multipack Cans",
          "Coca - Cola Classic  Soft Drink Multipack Cans",
          "Coca - Cola Classic  Soft Drink Multipack Cans",
          "Coca - Cola Classic  Soft Drink Mini Cans",
          "Coca - Cola Vanilla  Soft Drink Multipack Cans",
          "Coca - Cola Zero Sugar Soft Drink Multipack Cans",
          "Coca - Cola Zero Sugar Soft Drink Multipack Cans",
          "Coca - Cola Zero Sugar Soft Drink Multipack Cans",
          "Coca - Cola Caffeine Free Zero Sugar Soft Drink Multipack Cans",
          "Coca - Cola Zero Sugar Soft Drink Mini Cans"
         ],
         "xaxis": "x",
         "y": [
          "Phosphoric Acid",
          "Phosphoric Acid",
          "Phosphoric Acid",
          "Phosphoric Acid",
          "Phosphoric Acid",
          "Phosphoric Acid",
          "Phosphoric Acid",
          "Phosphoric Acid",
          "Phosphoric Acid",
          "Phosphoric Acid"
         ],
         "yaxis": "y"
        },
        {
         "alignmentgroup": "True",
         "hovertemplate": " Ingredients=%{y}<br>Product=%{x}<extra></extra>",
         "legendgroup": "Flavour",
         "marker": {
          "color": "#FFA15A",
          "pattern": {
           "shape": ""
          }
         },
         "name": "Flavour",
         "offsetgroup": "Flavour",
         "orientation": "v",
         "showlegend": true,
         "textposition": "auto",
         "type": "bar",
         "x": [
          "Coca - Cola Classic  Soft Drink Multipack Cans",
          "Coca - Cola Classic  Soft Drink Multipack Cans",
          "Coca - Cola Classic  Soft Drink Multipack Cans",
          "Coca - Cola Classic  Soft Drink Mini Cans",
          "Coca - Cola Vanilla  Soft Drink Multipack Cans",
          "Coca - Cola Zero Sugar Soft Drink Multipack Cans",
          "Coca - Cola Zero Sugar Soft Drink Multipack Cans",
          "Coca - Cola Zero Sugar Soft Drink Multipack Cans",
          "Coca - Cola Caffeine Free Zero Sugar Soft Drink Multipack Cans",
          "Coca - Cola Zero Sugar Soft Drink Mini Cans",
          "Maggi 2 Minute Beef Flavour Instant Noodles",
          "Kitkat 4 Finger Milk Chocolate Bar",
          "Kitkat Chunky Original Chocolate Bar",
          "Arnott's Premier Chocolate Chip Cookies",
          "Oreo Original Mini Cookies Multipack",
          "Oreo Minis Cookies Variety Bags 18 Pack",
          "Cadbury Classic Choc Chip Cookies",
          "Cadbury Choc Centre Cookies",
          "Byron Bay Cookies Dotty Cookie Bites",
          "Oreo Original Cookies",
          "Oreo Double Stuff Cookies",
          "Oreo Original Cookies Family Pack",
          "Oreo Chocolate Cookies",
          "Oreo Grab & Go Original Cookies 9 Pack",
          "Thins Chips Light & Tangy"
         ],
         "xaxis": "x",
         "y": [
          "Flavour",
          "Flavour",
          "Flavour",
          "Flavour",
          "Flavour",
          "Flavour",
          "Flavour",
          "Flavour",
          "Flavour",
          "Flavour",
          "Flavour",
          "Flavour",
          "Flavour",
          "Flavour",
          "Flavour",
          "Flavour",
          "Flavour",
          "Flavour",
          "Flavour",
          "Flavour",
          "Flavour",
          "Flavour",
          "Flavour",
          "Flavour",
          "Flavour"
         ],
         "yaxis": "y"
        },
        {
         "alignmentgroup": "True",
         "hovertemplate": " Ingredients=%{y}<br>Product=%{x}<extra></extra>",
         "legendgroup": "Caffeine",
         "marker": {
          "color": "#19d3f3",
          "pattern": {
           "shape": ""
          }
         },
         "name": "Caffeine",
         "offsetgroup": "Caffeine",
         "orientation": "v",
         "showlegend": true,
         "textposition": "auto",
         "type": "bar",
         "x": [
          "Coca - Cola Classic  Soft Drink Multipack Cans",
          "Coca - Cola Classic  Soft Drink Multipack Cans",
          "Coca - Cola Classic  Soft Drink Multipack Cans",
          "Coca - Cola Classic  Soft Drink Mini Cans",
          "Coca - Cola Vanilla  Soft Drink Multipack Cans",
          "Coca - Cola Zero Sugar Soft Drink Multipack Cans",
          "Coca - Cola Zero Sugar Soft Drink Multipack Cans",
          "Coca - Cola Zero Sugar Soft Drink Multipack Cans",
          "Coca - Cola Zero Sugar Soft Drink Mini Cans"
         ],
         "xaxis": "x",
         "y": [
          "Caffeine",
          "Caffeine",
          "Caffeine",
          "Caffeine",
          "Caffeine",
          "Caffeine",
          "Caffeine",
          "Caffeine",
          "Caffeine"
         ],
         "yaxis": "y"
        },
        {
         "alignmentgroup": "True",
         "hovertemplate": " Ingredients=%{y}<br>Product=%{x}<extra></extra>",
         "legendgroup": "Sodium Citrate",
         "marker": {
          "color": "#FF6692",
          "pattern": {
           "shape": ""
          }
         },
         "name": "Sodium Citrate",
         "offsetgroup": "Sodium Citrate",
         "orientation": "v",
         "showlegend": true,
         "textposition": "auto",
         "type": "bar",
         "x": [
          "Coca - Cola Zero Sugar Soft Drink Multipack Cans",
          "Coca - Cola Zero Sugar Soft Drink Multipack Cans",
          "Coca - Cola Zero Sugar Soft Drink Multipack Cans",
          "Coca - Cola Caffeine Free Zero Sugar Soft Drink Multipack Cans",
          "Coca - Cola Zero Sugar Soft Drink Mini Cans",
          "Schweppes Zero Sugar Classic Mixers Indian Tonic Water Bottle",
          "Schweppes Lemon Lime Natural Mineral Water Bottle",
          "Woolworths Peach In Strawberry Jelly",
          "Woolworths Two Fruits In Tropical Jelly",
          "Woolworths Apple In Pineapple Jelly"
         ],
         "xaxis": "x",
         "y": [
          "Sodium Citrate",
          "Sodium Citrate",
          "Sodium Citrate",
          "Sodium Citrate",
          "Sodium Citrate",
          "Sodium Citrate",
          "Sodium Citrate",
          "Sodium Citrate",
          "Sodium Citrate",
          "Sodium Citrate"
         ],
         "yaxis": "y"
        },
        {
         "alignmentgroup": "True",
         "hovertemplate": " Ingredients=%{y}<br>Product=%{x}<extra></extra>",
         "legendgroup": "Aspartame",
         "marker": {
          "color": "#B6E880",
          "pattern": {
           "shape": ""
          }
         },
         "name": "Aspartame",
         "offsetgroup": "Aspartame",
         "orientation": "v",
         "showlegend": true,
         "textposition": "auto",
         "type": "bar",
         "x": [
          "Coca - Cola Zero Sugar Soft Drink Multipack Cans",
          "Coca - Cola Zero Sugar Soft Drink Multipack Cans",
          "Coca - Cola Zero Sugar Soft Drink Multipack Cans",
          "Coca - Cola Caffeine Free Zero Sugar Soft Drink Multipack Cans",
          "Coca - Cola Zero Sugar Soft Drink Mini Cans",
          "Schweppes Zero Sugar Classic Mixers Indian Tonic Water Bottle"
         ],
         "xaxis": "x",
         "y": [
          "Aspartame",
          "Aspartame",
          "Aspartame",
          "Aspartame",
          "Aspartame",
          "Aspartame"
         ],
         "yaxis": "y"
        },
        {
         "alignmentgroup": "True",
         "hovertemplate": " Ingredients=%{y}<br>Product=%{x}<extra></extra>",
         "legendgroup": "Acesulfame Potassium",
         "marker": {
          "color": "#FF97FF",
          "pattern": {
           "shape": ""
          }
         },
         "name": "Acesulfame Potassium",
         "offsetgroup": "Acesulfame Potassium",
         "orientation": "v",
         "showlegend": true,
         "textposition": "auto",
         "type": "bar",
         "x": [
          "Coca - Cola Zero Sugar Soft Drink Multipack Cans",
          "Coca - Cola Zero Sugar Soft Drink Multipack Cans",
          "Coca - Cola Zero Sugar Soft Drink Multipack Cans",
          "Coca - Cola Caffeine Free Zero Sugar Soft Drink Multipack Cans",
          "Coca - Cola Zero Sugar Soft Drink Mini Cans",
          "Schweppes Zero Sugar Classic Mixers Indian Tonic Water Bottle"
         ],
         "xaxis": "x",
         "y": [
          "Acesulfame Potassium",
          "Acesulfame Potassium",
          "Acesulfame Potassium",
          "Acesulfame Potassium",
          "Acesulfame Potassium",
          "Acesulfame Potassium"
         ],
         "yaxis": "y"
        },
        {
         "alignmentgroup": "True",
         "hovertemplate": " Ingredients=%{y}<br>Product=%{x}<extra></extra>",
         "legendgroup": "Sweetener 952",
         "marker": {
          "color": "#FECB52",
          "pattern": {
           "shape": ""
          }
         },
         "name": "Sweetener 952",
         "offsetgroup": "Sweetener 952",
         "orientation": "v",
         "showlegend": true,
         "textposition": "auto",
         "type": "bar",
         "x": [
          "Coca - Cola Caffeine Free Zero Sugar Soft Drink Multipack Cans"
         ],
         "xaxis": "x",
         "y": [
          "Sweetener 952"
         ],
         "yaxis": "y"
        },
        {
         "alignmentgroup": "True",
         "hovertemplate": " Ingredients=%{y}<br>Product=%{x}<extra></extra>",
         "legendgroup": "Wheat Flour",
         "marker": {
          "color": "#636efa",
          "pattern": {
           "shape": ""
          }
         },
         "name": "Wheat Flour",
         "offsetgroup": "Wheat Flour",
         "orientation": "v",
         "showlegend": true,
         "textposition": "auto",
         "type": "bar",
         "x": [
          "Indomie Mi Goreng Instant Noodles",
          "Maggi 2 Minute Chicken Flavour Instant Noodles",
          "Maggi 2 Minute Chicken Flavour Instant Noodles",
          "Supreme Noodles Cup Chicken Flavour",
          "Fantastic Chicken Noodle Cup",
          "Fantastic Chicken Noodle Bowl",
          "Indomie Mi Goreng Noodle Cup",
          "Maggi 2 Minute Beef Flavour Instant Noodles",
          "Supreme Noodles Cup Beef Flavour",
          "Kitkat 4 Finger Milk Chocolate Bar",
          "Kitkat Chunky Original Chocolate Bar",
          "Cadbury Chomp Chocolate Bar",
          "Arnott's Premier Chocolate Chip Cookies",
          "Woolworths Chocolate Chip Cookies",
          "Woolworths The King Of Chunky Chocolate Chip Cookies",
          "Arnott's Mini Choc Chip Cookie Multipack Biscuits",
          "Oreo Original Mini Cookies Multipack",
          "Oreo Minis Cookies Variety Bags 18 Pack",
          "Cadbury Classic Choc Chip Cookies",
          "Cadbury Choc Centre Cookies",
          "Byron Bay Cookies Dotty Cookie Bites",
          "Oreo Original Cookies",
          "Oreo Double Stuff Cookies",
          "Oreo Original Cookies Family Pack",
          "Oreo Chocolate Cookies",
          "Oreo Grab & Go Original Cookies 9 Pack",
          "Oreo Neapolitan Double Stuff Cookies"
         ],
         "xaxis": "x",
         "y": [
          "Wheat Flour",
          "Wheat Flour",
          "Wheat Flour",
          "Wheat Flour",
          "Wheat Flour",
          "Wheat Flour",
          "Wheat Flour",
          "Wheat Flour",
          "Wheat Flour",
          "Wheat Flour",
          "Wheat Flour",
          "Wheat Flour",
          "Wheat Flour",
          "Wheat Flour",
          "Wheat Flour",
          "Wheat Flour",
          "Wheat Flour",
          "Wheat Flour",
          "Wheat Flour",
          "Wheat Flour",
          "Wheat Flour",
          "Wheat Flour",
          "Wheat Flour",
          "Wheat Flour",
          "Wheat Flour",
          "Wheat Flour",
          "Wheat Flour"
         ],
         "yaxis": "y"
        },
        {
         "alignmentgroup": "True",
         "hovertemplate": " Ingredients=%{y}<br>Product=%{x}<extra></extra>",
         "legendgroup": "Refined Palm Oil",
         "marker": {
          "color": "#EF553B",
          "pattern": {
           "shape": ""
          }
         },
         "name": "Refined Palm Oil",
         "offsetgroup": "Refined Palm Oil",
         "orientation": "v",
         "showlegend": true,
         "textposition": "auto",
         "type": "bar",
         "x": [
          "Indomie Mi Goreng Instant Noodles",
          "Indomie Mi Goreng Noodle Cup"
         ],
         "xaxis": "x",
         "y": [
          "Refined Palm Oil",
          "Refined Palm Oil"
         ],
         "yaxis": "y"
        },
        {
         "alignmentgroup": "True",
         "hovertemplate": " Ingredients=%{y}<br>Product=%{x}<extra></extra>",
         "legendgroup": "Salt",
         "marker": {
          "color": "#00cc96",
          "pattern": {
           "shape": ""
          }
         },
         "name": "Salt",
         "offsetgroup": "Salt",
         "orientation": "v",
         "showlegend": true,
         "textposition": "auto",
         "type": "bar",
         "x": [
          "Indomie Mi Goreng Instant Noodles",
          "Maggi 2 Minute Chicken Flavour Instant Noodles",
          "Maggi 2 Minute Chicken Flavour Instant Noodles",
          "Supreme Noodles Cup Chicken Flavour",
          "Fantastic Chicken Noodle Cup",
          "Fantastic Chicken Noodle Bowl",
          "Indomie Mi Goreng Noodle Cup",
          "Maggi 2 Minute Beef Flavour Instant Noodles",
          "Supreme Noodles Cup Beef Flavour",
          "Kitkat 4 Finger Milk Chocolate Bar",
          "Kitkat Chunky Original Chocolate Bar",
          "Cadbury Dairy Milk Caramello Koala Chocolate",
          "Mars Chocolate Bar With Nougat & Caramel",
          "Cadbury Chomp Chocolate Bar",
          "Arnott's Premier Chocolate Chip Cookies",
          "Woolworths Chocolate Chip Cookies",
          "Woolworths The King Of Chunky Chocolate Chip Cookies",
          "Arnott's Mini Choc Chip Cookie Multipack Biscuits",
          "Oreo Original Mini Cookies Multipack",
          "Oreo Minis Cookies Variety Bags 18 Pack",
          "Cadbury Classic Choc Chip Cookies",
          "Cadbury Choc Centre Cookies",
          "Byron Bay Cookies Dotty Cookie Bites",
          "Oreo Original Cookies",
          "Oreo Double Stuff Cookies",
          "Oreo Original Cookies Family Pack",
          "Oreo Chocolate Cookies",
          "Oreo Grab & Go Original Cookies 9 Pack",
          "Deep Cove Sardines In Oil",
          "Woolworths Creamed Rice",
          "Woolworths Tomato Sauce Squeeze",
          "Woolworths Tomato Sauce",
          "Woolworths Barbecue Sauce Squeeze",
          "Masterfoods Tomato Sauce",
          "Masterfoods Barbecue Sauce",
          "Fountain Tomato Sauce Squeeze",
          "Fountain Barbecue Bbq Sauce Squeeze",
          "Woolworths Secret Burger Sauce",
          "Heinz Ketchup Tomato Sauce Ketchup",
          "Woolworths Barbecue Sauce",
          "Smith's Crinkle Cut Potato Chips Original",
          "Smith's Crinkle Cut Potato Chips Cheese & Onion",
          "Smith's Crinkle Cut Potato Chips Barbecue",
          "Smith's Crinkle Cut Potato Chips Chicken",
          "Thins Chips Salt & Vinegar",
          "Smith's Thinly Cut Potato Chips Original Share Pack",
          "Thins Chips Chicken",
          "Smith's Crinkle Cut Potato Chips Salt & Vinegar",
          "Thins Chips Light & Tangy",
          "Thins Cheese & Onion Chips"
         ],
         "xaxis": "x",
         "y": [
          "Salt",
          "Salt",
          "Salt",
          "Salt",
          "Salt",
          "Salt",
          "Salt",
          "Salt",
          "Salt",
          "Salt",
          "Salt",
          "Salt",
          "Salt",
          "Salt",
          "Salt",
          "Salt",
          "Salt",
          "Salt",
          "Salt",
          "Salt",
          "Salt",
          "Salt",
          "Salt",
          "Salt",
          "Salt",
          "Salt",
          "Salt",
          "Salt",
          "Salt",
          "Salt",
          "Salt",
          "Salt",
          "Salt",
          "Salt",
          "Salt",
          "Salt",
          "Salt",
          "Salt",
          "Salt",
          "Salt",
          "Salt",
          "Salt",
          "Salt",
          "Salt",
          "Salt",
          "Salt",
          "Salt",
          "Salt",
          "Salt",
          "Salt"
         ],
         "yaxis": "y"
        },
        {
         "alignmentgroup": "True",
         "hovertemplate": " Ingredients=%{y}<br>Product=%{x}<extra></extra>",
         "legendgroup": "Acidity Regulator 451",
         "marker": {
          "color": "#ab63fa",
          "pattern": {
           "shape": ""
          }
         },
         "name": "Acidity Regulator 451",
         "offsetgroup": "Acidity Regulator 451",
         "orientation": "v",
         "showlegend": true,
         "textposition": "auto",
         "type": "bar",
         "x": [
          "Indomie Mi Goreng Instant Noodles",
          "Indomie Mi Goreng Noodle Cup"
         ],
         "xaxis": "x",
         "y": [
          "Acidity Regulator 451",
          "Acidity Regulator 451"
         ],
         "yaxis": "y"
        },
        {
         "alignmentgroup": "True",
         "hovertemplate": " Ingredients=%{y}<br>Product=%{x}<extra></extra>",
         "legendgroup": "Acidity Regulator 501",
         "marker": {
          "color": "#FFA15A",
          "pattern": {
           "shape": ""
          }
         },
         "name": "Acidity Regulator 501",
         "offsetgroup": "Acidity Regulator 501",
         "orientation": "v",
         "showlegend": true,
         "textposition": "auto",
         "type": "bar",
         "x": [
          "Indomie Mi Goreng Instant Noodles",
          "Indomie Mi Goreng Noodle Cup"
         ],
         "xaxis": "x",
         "y": [
          "Acidity Regulator 501",
          "Acidity Regulator 501"
         ],
         "yaxis": "y"
        },
        {
         "alignmentgroup": "True",
         "hovertemplate": " Ingredients=%{y}<br>Product=%{x}<extra></extra>",
         "legendgroup": "Sodium Bicarbonate",
         "marker": {
          "color": "#19d3f3",
          "pattern": {
           "shape": ""
          }
         },
         "name": "Sodium Bicarbonate",
         "offsetgroup": "Sodium Bicarbonate",
         "orientation": "v",
         "showlegend": true,
         "textposition": "auto",
         "type": "bar",
         "x": [
          "Indomie Mi Goreng Instant Noodles",
          "Indomie Mi Goreng Noodle Cup",
          "Kitkat 4 Finger Milk Chocolate Bar",
          "Kitkat Chunky Original Chocolate Bar",
          "Cadbury Chomp Chocolate Bar",
          "Oreo Original Mini Cookies Multipack",
          "Oreo Minis Cookies Variety Bags 18 Pack",
          "Cadbury Classic Choc Chip Cookies",
          "Cadbury Choc Centre Cookies",
          "Byron Bay Cookies Dotty Cookie Bites",
          "Oreo Original Cookies",
          "Oreo Double Stuff Cookies",
          "Oreo Original Cookies Family Pack",
          "Oreo Chocolate Cookies",
          "Oreo Grab & Go Original Cookies 9 Pack",
          "Oreo Neapolitan Double Stuff Cookies"
         ],
         "xaxis": "x",
         "y": [
          "Sodium Bicarbonate",
          "Sodium Bicarbonate",
          "Sodium Bicarbonate",
          "Sodium Bicarbonate",
          "Sodium Bicarbonate",
          "Sodium Bicarbonate",
          "Sodium Bicarbonate",
          "Sodium Bicarbonate",
          "Sodium Bicarbonate",
          "Sodium Bicarbonate",
          "Sodium Bicarbonate",
          "Sodium Bicarbonate",
          "Sodium Bicarbonate",
          "Sodium Bicarbonate",
          "Sodium Bicarbonate",
          "Sodium Bicarbonate"
         ],
         "yaxis": "y"
        },
        {
         "alignmentgroup": "True",
         "hovertemplate": " Ingredients=%{y}<br>Product=%{x}<extra></extra>",
         "legendgroup": "Guar Gum",
         "marker": {
          "color": "#FF6692",
          "pattern": {
           "shape": ""
          }
         },
         "name": "Guar Gum",
         "offsetgroup": "Guar Gum",
         "orientation": "v",
         "showlegend": true,
         "textposition": "auto",
         "type": "bar",
         "x": [
          "Indomie Mi Goreng Instant Noodles",
          "Maggi 2 Minute Chicken Flavour Instant Noodles",
          "Maggi 2 Minute Chicken Flavour Instant Noodles",
          "Fantastic Chicken Noodle Bowl",
          "Indomie Mi Goreng Noodle Cup",
          "Maggi 2 Minute Beef Flavour Instant Noodles",
          "Essentials Coconut Cream",
          "Essentials Coconut Milk"
         ],
         "xaxis": "x",
         "y": [
          "Guar Gum",
          "Guar Gum",
          "Guar Gum",
          "Guar Gum",
          "Guar Gum",
          "Guar Gum",
          "Guar Gum",
          "Guar Gum"
         ],
         "yaxis": "y"
        },
        {
         "alignmentgroup": "True",
         "hovertemplate": " Ingredients=%{y}<br>Product=%{x}<extra></extra>",
         "legendgroup": "Colour 101",
         "marker": {
          "color": "#B6E880",
          "pattern": {
           "shape": ""
          }
         },
         "name": "Colour 101",
         "offsetgroup": "Colour 101",
         "orientation": "v",
         "showlegend": true,
         "textposition": "auto",
         "type": "bar",
         "x": [
          "Indomie Mi Goreng Instant Noodles",
          "Indomie Mi Goreng Noodle Cup"
         ],
         "xaxis": "x",
         "y": [
          "Colour 101",
          "Colour 101"
         ],
         "yaxis": "y"
        },
        {
         "alignmentgroup": "True",
         "hovertemplate": " Ingredients=%{y}<br>Product=%{x}<extra></extra>",
         "legendgroup": "Seasoning Powder",
         "marker": {
          "color": "#FF97FF",
          "pattern": {
           "shape": ""
          }
         },
         "name": "Seasoning Powder",
         "offsetgroup": "Seasoning Powder",
         "orientation": "v",
         "showlegend": true,
         "textposition": "auto",
         "type": "bar",
         "x": [
          "Indomie Mi Goreng Instant Noodles",
          "Indomie Mi Goreng Noodle Cup"
         ],
         "xaxis": "x",
         "y": [
          "Seasoning Powder",
          "Seasoning Powder"
         ],
         "yaxis": "y"
        },
        {
         "alignmentgroup": "True",
         "hovertemplate": " Ingredients=%{y}<br>Product=%{x}<extra></extra>",
         "legendgroup": "Flavour Enhancer 621",
         "marker": {
          "color": "#FECB52",
          "pattern": {
           "shape": ""
          }
         },
         "name": "Flavour Enhancer 621",
         "offsetgroup": "Flavour Enhancer 621",
         "orientation": "v",
         "showlegend": true,
         "textposition": "auto",
         "type": "bar",
         "x": [
          "Indomie Mi Goreng Instant Noodles",
          "Maggi 2 Minute Chicken Flavour Instant Noodles",
          "Maggi 2 Minute Chicken Flavour Instant Noodles",
          "Supreme Noodles Cup Chicken Flavour",
          "Fantastic Chicken Noodle Cup",
          "Fantastic Chicken Noodle Bowl",
          "Indomie Mi Goreng Noodle Cup",
          "Maggi 2 Minute Beef Flavour Instant Noodles",
          "Supreme Noodles Cup Beef Flavour",
          "Smith's Crinkle Cut Potato Chips Cheese & Onion",
          "Smith's Crinkle Cut Potato Chips Barbecue",
          "Smith's Crinkle Cut Potato Chips Chicken",
          "Thins Chips Salt & Vinegar",
          "Thins Chips Chicken",
          "Smith's Crinkle Cut Potato Chips Salt & Vinegar",
          "Thins Cheese & Onion Chips"
         ],
         "xaxis": "x",
         "y": [
          "Flavour Enhancer 621",
          "Flavour Enhancer 621",
          "Flavour Enhancer 621",
          "Flavour Enhancer 621",
          "Flavour Enhancer 621",
          "Flavour Enhancer 621",
          "Flavour Enhancer 621",
          "Flavour Enhancer 621",
          "Flavour Enhancer 621",
          "Flavour Enhancer 621",
          "Flavour Enhancer 621",
          "Flavour Enhancer 621",
          "Flavour Enhancer 621",
          "Flavour Enhancer 621",
          "Flavour Enhancer 621",
          "Flavour Enhancer 621"
         ],
         "yaxis": "y"
        },
        {
         "alignmentgroup": "True",
         "hovertemplate": " Ingredients=%{y}<br>Product=%{x}<extra></extra>",
         "legendgroup": "Disodium Guanylate",
         "marker": {
          "color": "#636efa",
          "pattern": {
           "shape": ""
          }
         },
         "name": "Disodium Guanylate",
         "offsetgroup": "Disodium Guanylate",
         "orientation": "v",
         "showlegend": true,
         "textposition": "auto",
         "type": "bar",
         "x": [
          "Indomie Mi Goreng Instant Noodles",
          "Fantastic Chicken Noodle Bowl",
          "Indomie Mi Goreng Noodle Cup"
         ],
         "xaxis": "x",
         "y": [
          "Disodium Guanylate",
          "Disodium Guanylate",
          "Disodium Guanylate"
         ],
         "yaxis": "y"
        },
        {
         "alignmentgroup": "True",
         "hovertemplate": " Ingredients=%{y}<br>Product=%{x}<extra></extra>",
         "legendgroup": "Garlic Powder",
         "marker": {
          "color": "#EF553B",
          "pattern": {
           "shape": ""
          }
         },
         "name": "Garlic Powder",
         "offsetgroup": "Garlic Powder",
         "orientation": "v",
         "showlegend": true,
         "textposition": "auto",
         "type": "bar",
         "x": [
          "Indomie Mi Goreng Instant Noodles",
          "Indomie Mi Goreng Noodle Cup",
          "Supreme Noodles Cup Beef Flavour",
          "Smith's Crinkle Cut Potato Chips Barbecue"
         ],
         "xaxis": "x",
         "y": [
          "Garlic Powder",
          "Garlic Powder",
          "Garlic Powder",
          "Garlic Powder"
         ],
         "yaxis": "y"
        },
        {
         "alignmentgroup": "True",
         "hovertemplate": " Ingredients=%{y}<br>Product=%{x}<extra></extra>",
         "legendgroup": "Onion Powder",
         "marker": {
          "color": "#00cc96",
          "pattern": {
           "shape": ""
          }
         },
         "name": "Onion Powder",
         "offsetgroup": "Onion Powder",
         "orientation": "v",
         "showlegend": true,
         "textposition": "auto",
         "type": "bar",
         "x": [
          "Indomie Mi Goreng Instant Noodles",
          "Maggi 2 Minute Chicken Flavour Instant Noodles",
          "Supreme Noodles Cup Chicken Flavour",
          "Fantastic Chicken Noodle Cup",
          "Indomie Mi Goreng Noodle Cup",
          "Woolworths Secret Burger Sauce",
          "Smith's Crinkle Cut Potato Chips Cheese & Onion",
          "Smith's Crinkle Cut Potato Chips Barbecue",
          "Smith's Crinkle Cut Potato Chips Chicken",
          "Thins Chips Chicken",
          "Thins Chips Light & Tangy",
          "Thins Cheese & Onion Chips"
         ],
         "xaxis": "x",
         "y": [
          "Onion Powder",
          "Onion Powder",
          "Onion Powder",
          "Onion Powder",
          "Onion Powder",
          "Onion Powder",
          "Onion Powder",
          "Onion Powder",
          "Onion Powder",
          "Onion Powder",
          "Onion Powder",
          "Onion Powder"
         ],
         "yaxis": "y"
        },
        {
         "alignmentgroup": "True",
         "hovertemplate": " Ingredients=%{y}<br>Product=%{x}<extra></extra>",
         "legendgroup": "Yeast Extract",
         "marker": {
          "color": "#ab63fa",
          "pattern": {
           "shape": ""
          }
         },
         "name": "Yeast Extract",
         "offsetgroup": "Yeast Extract",
         "orientation": "v",
         "showlegend": true,
         "textposition": "auto",
         "type": "bar",
         "x": [
          "Indomie Mi Goreng Instant Noodles",
          "Supreme Noodles Cup Chicken Flavour",
          "Fantastic Chicken Noodle Cup",
          "Fantastic Chicken Noodle Bowl",
          "Indomie Mi Goreng Noodle Cup",
          "Maggi 2 Minute Beef Flavour Instant Noodles",
          "Masterfoods Barbecue Sauce",
          "Smith's Crinkle Cut Potato Chips Cheese & Onion",
          "Smith's Crinkle Cut Potato Chips Chicken",
          "Thins Cheese & Onion Chips"
         ],
         "xaxis": "x",
         "y": [
          "Yeast Extract",
          "Yeast Extract",
          "Yeast Extract",
          "Yeast Extract",
          "Yeast Extract",
          "Yeast Extract",
          "Yeast Extract",
          "Yeast Extract",
          "Yeast Extract",
          "Yeast Extract"
         ],
         "yaxis": "y"
        },
        {
         "alignmentgroup": "True",
         "hovertemplate": " Ingredients=%{y}<br>Product=%{x}<extra></extra>",
         "legendgroup": "Artificial Flavour",
         "marker": {
          "color": "#FFA15A",
          "pattern": {
           "shape": ""
          }
         },
         "name": "Artificial Flavour",
         "offsetgroup": "Artificial Flavour",
         "orientation": "v",
         "showlegend": true,
         "textposition": "auto",
         "type": "bar",
         "x": [
          "Indomie Mi Goreng Instant Noodles",
          "Indomie Mi Goreng Noodle Cup"
         ],
         "xaxis": "x",
         "y": [
          "Artificial Flavour",
          "Artificial Flavour"
         ],
         "yaxis": "y"
        },
        {
         "alignmentgroup": "True",
         "hovertemplate": " Ingredients=%{y}<br>Product=%{x}<extra></extra>",
         "legendgroup": "Pepper",
         "marker": {
          "color": "#19d3f3",
          "pattern": {
           "shape": ""
          }
         },
         "name": "Pepper",
         "offsetgroup": "Pepper",
         "orientation": "v",
         "showlegend": true,
         "textposition": "auto",
         "type": "bar",
         "x": [
          "Indomie Mi Goreng Instant Noodles",
          "Indomie Mi Goreng Noodle Cup",
          "Masterfoods Barbecue Sauce",
          "Thins Chips Chicken"
         ],
         "xaxis": "x",
         "y": [
          "Pepper",
          "Pepper",
          "Pepper",
          "Pepper"
         ],
         "yaxis": "y"
        },
        {
         "alignmentgroup": "True",
         "hovertemplate": " Ingredients=%{y}<br>Product=%{x}<extra></extra>",
         "legendgroup": "Anti Caking Agent 551",
         "marker": {
          "color": "#FF6692",
          "pattern": {
           "shape": ""
          }
         },
         "name": "Anti Caking Agent 551",
         "offsetgroup": "Anti Caking Agent 551",
         "orientation": "v",
         "showlegend": true,
         "textposition": "auto",
         "type": "bar",
         "x": [
          "Indomie Mi Goreng Instant Noodles",
          "Fantastic Chicken Noodle Bowl",
          "Indomie Mi Goreng Noodle Cup"
         ],
         "xaxis": "x",
         "y": [
          "Anti Caking Agent 551",
          "Anti Caking Agent 551",
          "Anti Caking Agent 551"
         ],
         "yaxis": "y"
        },
        {
         "alignmentgroup": "True",
         "hovertemplate": " Ingredients=%{y}<br>Product=%{x}<extra></extra>",
         "legendgroup": "Seasoning Oil",
         "marker": {
          "color": "#B6E880",
          "pattern": {
           "shape": ""
          }
         },
         "name": "Seasoning Oil",
         "offsetgroup": "Seasoning Oil",
         "orientation": "v",
         "showlegend": true,
         "textposition": "auto",
         "type": "bar",
         "x": [
          "Indomie Mi Goreng Instant Noodles",
          "Indomie Mi Goreng Noodle Cup"
         ],
         "xaxis": "x",
         "y": [
          "Seasoning Oil",
          "Seasoning Oil"
         ],
         "yaxis": "y"
        },
        {
         "alignmentgroup": "True",
         "hovertemplate": " Ingredients=%{y}<br>Product=%{x}<extra></extra>",
         "legendgroup": "Onion",
         "marker": {
          "color": "#FF97FF",
          "pattern": {
           "shape": ""
          }
         },
         "name": "Onion",
         "offsetgroup": "Onion",
         "orientation": "v",
         "showlegend": true,
         "textposition": "auto",
         "type": "bar",
         "x": [
          "Indomie Mi Goreng Instant Noodles",
          "Maggi 2 Minute Chicken Flavour Instant Noodles",
          "Indomie Mi Goreng Noodle Cup",
          "Maggi 2 Minute Beef Flavour Instant Noodles",
          "Masterfoods Tomato Sauce",
          "Masterfoods Barbecue Sauce"
         ],
         "xaxis": "x",
         "y": [
          "Onion",
          "Onion",
          "Onion",
          "Onion",
          "Onion",
          "Onion"
         ],
         "yaxis": "y"
        },
        {
         "alignmentgroup": "True",
         "hovertemplate": " Ingredients=%{y}<br>Product=%{x}<extra></extra>",
         "legendgroup": "Sweet Soy Sauce",
         "marker": {
          "color": "#FECB52",
          "pattern": {
           "shape": ""
          }
         },
         "name": "Sweet Soy Sauce",
         "offsetgroup": "Sweet Soy Sauce",
         "orientation": "v",
         "showlegend": true,
         "textposition": "auto",
         "type": "bar",
         "x": [
          "Indomie Mi Goreng Instant Noodles",
          "Indomie Mi Goreng Noodle Cup"
         ],
         "xaxis": "x",
         "y": [
          "Sweet Soy Sauce",
          "Sweet Soy Sauce"
         ],
         "yaxis": "y"
        },
        {
         "alignmentgroup": "True",
         "hovertemplate": " Ingredients=%{y}<br>Product=%{x}<extra></extra>",
         "legendgroup": "Water",
         "marker": {
          "color": "#636efa",
          "pattern": {
           "shape": ""
          }
         },
         "name": "Water",
         "offsetgroup": "Water",
         "orientation": "v",
         "showlegend": true,
         "textposition": "auto",
         "type": "bar",
         "x": [
          "Indomie Mi Goreng Instant Noodles",
          "Indomie Mi Goreng Noodle Cup",
          "Golden Circle Golden Pash Fruit Drink",
          "Golden Circle Drinks Pine Orange Fruit Drink",
          "Golden Circle Drinks Sunshine Punch Fruit Drink",
          "Golden Circle Fruit Drinks Lunch Box Poppers Tropical Punch Multipack",
          "Essentials Coconut Cream",
          "Deep Cove Sardines In Oil",
          "Essentials Coconut Milk",
          "Masterfoods Barbecue Sauce",
          "Woolworths Secret Burger Sauce",
          "Woolworths Peach In Strawberry Jelly",
          "Woolworths Two Fruits In Juice Cups",
          "Woolworths Two Fruits In Juice",
          "Woolworths Two Fruits In Tropical Jelly",
          "Woolworths Apple In Pineapple Jelly",
          "Dole Pineapple Slices In Syrup",
          "Dole Pineapple Chunks In Juice"
         ],
         "xaxis": "x",
         "y": [
          "Water",
          "Water",
          "Water",
          "Water",
          "Water",
          "Water",
          "Water",
          "Water",
          "Water",
          "Water",
          "Water",
          "Water",
          "Water",
          "Water",
          "Water",
          "Water",
          "Water",
          "Water"
         ],
         "yaxis": "y"
        },
        {
         "alignmentgroup": "True",
         "hovertemplate": " Ingredients=%{y}<br>Product=%{x}<extra></extra>",
         "legendgroup": "Wheat",
         "marker": {
          "color": "#EF553B",
          "pattern": {
           "shape": ""
          }
         },
         "name": "Wheat",
         "offsetgroup": "Wheat",
         "orientation": "v",
         "showlegend": true,
         "textposition": "auto",
         "type": "bar",
         "x": [
          "Indomie Mi Goreng Instant Noodles",
          "Indomie Mi Goreng Noodle Cup",
          "Maggi 2 Minute Beef Flavour Instant Noodles",
          "Supreme Noodles Cup Beef Flavour",
          "Kitkat 4 Finger Milk Chocolate Bar",
          "Kitkat Chunky Original Chocolate Bar",
          "Woolworths Chocolate Chip Cookies"
         ],
         "xaxis": "x",
         "y": [
          "Wheat",
          "Wheat",
          "Wheat",
          "Wheat",
          "Wheat",
          "Wheat",
          "Wheat"
         ],
         "yaxis": "y"
        },
        {
         "alignmentgroup": "True",
         "hovertemplate": " Ingredients=%{y}<br>Product=%{x}<extra></extra>",
         "legendgroup": "Soy Bean",
         "marker": {
          "color": "#00cc96",
          "pattern": {
           "shape": ""
          }
         },
         "name": "Soy Bean",
         "offsetgroup": "Soy Bean",
         "orientation": "v",
         "showlegend": true,
         "textposition": "auto",
         "type": "bar",
         "x": [
          "Indomie Mi Goreng Instant Noodles",
          "Indomie Mi Goreng Noodle Cup"
         ],
         "xaxis": "x",
         "y": [
          "Soy Bean",
          "Soy Bean"
         ],
         "yaxis": "y"
        },
        {
         "alignmentgroup": "True",
         "hovertemplate": " Ingredients=%{y}<br>Product=%{x}<extra></extra>",
         "legendgroup": "Spices",
         "marker": {
          "color": "#ab63fa",
          "pattern": {
           "shape": ""
          }
         },
         "name": "Spices",
         "offsetgroup": "Spices",
         "orientation": "v",
         "showlegend": true,
         "textposition": "auto",
         "type": "bar",
         "x": [
          "Indomie Mi Goreng Instant Noodles",
          "Indomie Mi Goreng Noodle Cup",
          "Woolworths Barbecue Sauce Squeeze",
          "Fountain Barbecue Bbq Sauce Squeeze",
          "Woolworths Barbecue Sauce"
         ],
         "xaxis": "x",
         "y": [
          "Spices",
          "Spices",
          "Spices",
          "Spices",
          "Spices"
         ],
         "yaxis": "y"
        },
        {
         "alignmentgroup": "True",
         "hovertemplate": " Ingredients=%{y}<br>Product=%{x}<extra></extra>",
         "legendgroup": "Sesame Oil",
         "marker": {
          "color": "#FFA15A",
          "pattern": {
           "shape": ""
          }
         },
         "name": "Sesame Oil",
         "offsetgroup": "Sesame Oil",
         "orientation": "v",
         "showlegend": true,
         "textposition": "auto",
         "type": "bar",
         "x": [
          "Indomie Mi Goreng Instant Noodles",
          "Indomie Mi Goreng Noodle Cup"
         ],
         "xaxis": "x",
         "y": [
          "Sesame Oil",
          "Sesame Oil"
         ],
         "yaxis": "y"
        },
        {
         "alignmentgroup": "True",
         "hovertemplate": " Ingredients=%{y}<br>Product=%{x}<extra></extra>",
         "legendgroup": "Chilli Sauce",
         "marker": {
          "color": "#19d3f3",
          "pattern": {
           "shape": ""
          }
         },
         "name": "Chilli Sauce",
         "offsetgroup": "Chilli Sauce",
         "orientation": "v",
         "showlegend": true,
         "textposition": "auto",
         "type": "bar",
         "x": [
          "Indomie Mi Goreng Instant Noodles",
          "Indomie Mi Goreng Noodle Cup"
         ],
         "xaxis": "x",
         "y": [
          "Chilli Sauce",
          "Chilli Sauce"
         ],
         "yaxis": "y"
        },
        {
         "alignmentgroup": "True",
         "hovertemplate": " Ingredients=%{y}<br>Product=%{x}<extra></extra>",
         "legendgroup": "Chilli",
         "marker": {
          "color": "#FF6692",
          "pattern": {
           "shape": ""
          }
         },
         "name": "Chilli",
         "offsetgroup": "Chilli",
         "orientation": "v",
         "showlegend": true,
         "textposition": "auto",
         "type": "bar",
         "x": [
          "Indomie Mi Goreng Instant Noodles",
          "Indomie Mi Goreng Noodle Cup"
         ],
         "xaxis": "x",
         "y": [
          "Chilli",
          "Chilli"
         ],
         "yaxis": "y"
        },
        {
         "alignmentgroup": "True",
         "hovertemplate": " Ingredients=%{y}<br>Product=%{x}<extra></extra>",
         "legendgroup": "Tapioca Starch",
         "marker": {
          "color": "#B6E880",
          "pattern": {
           "shape": ""
          }
         },
         "name": "Tapioca Starch",
         "offsetgroup": "Tapioca Starch",
         "orientation": "v",
         "showlegend": true,
         "textposition": "auto",
         "type": "bar",
         "x": [
          "Indomie Mi Goreng Instant Noodles",
          "Indomie Mi Goreng Noodle Cup"
         ],
         "xaxis": "x",
         "y": [
          "Tapioca Starch",
          "Tapioca Starch"
         ],
         "yaxis": "y"
        },
        {
         "alignmentgroup": "True",
         "hovertemplate": " Ingredients=%{y}<br>Product=%{x}<extra></extra>",
         "legendgroup": "Acetic Acid",
         "marker": {
          "color": "#FF97FF",
          "pattern": {
           "shape": ""
          }
         },
         "name": "Acetic Acid",
         "offsetgroup": "Acetic Acid",
         "orientation": "v",
         "showlegend": true,
         "textposition": "auto",
         "type": "bar",
         "x": [
          "Indomie Mi Goreng Instant Noodles",
          "Indomie Mi Goreng Noodle Cup",
          "Woolworths Tomato Sauce Squeeze",
          "Woolworths Tomato Sauce",
          "Woolworths Barbecue Sauce Squeeze",
          "Masterfoods Tomato Sauce",
          "Masterfoods Barbecue Sauce",
          "Fountain Tomato Sauce Squeeze",
          "Fountain Barbecue Bbq Sauce Squeeze",
          "Woolworths Barbecue Sauce",
          "Thins Chips Salt & Vinegar"
         ],
         "xaxis": "x",
         "y": [
          "Acetic Acid",
          "Acetic Acid",
          "Acetic Acid",
          "Acetic Acid",
          "Acetic Acid",
          "Acetic Acid",
          "Acetic Acid",
          "Acetic Acid",
          "Acetic Acid",
          "Acetic Acid",
          "Acetic Acid"
         ],
         "yaxis": "y"
        },
        {
         "alignmentgroup": "True",
         "hovertemplate": " Ingredients=%{y}<br>Product=%{x}<extra></extra>",
         "legendgroup": "Citric Acid",
         "marker": {
          "color": "#FECB52",
          "pattern": {
           "shape": ""
          }
         },
         "name": "Citric Acid",
         "offsetgroup": "Citric Acid",
         "orientation": "v",
         "showlegend": true,
         "textposition": "auto",
         "type": "bar",
         "x": [
          "Indomie Mi Goreng Instant Noodles",
          "Indomie Mi Goreng Noodle Cup",
          "Maggi 2 Minute Beef Flavour Instant Noodles",
          "Schweppes Zero Sugar Lime Infused Mineral Water Bottle",
          "Schweppes Raspberry Infused Natural Mineral Water Bottle",
          "Schweppes Indian Tonic Water Classic Mixers Bottle",
          "Schweppes Zero Sugar Classic Mixers Indian Tonic Water Bottle",
          "Schweppes Lemon Lime Natural Mineral Water Bottle",
          "Schweppes Orange Mango Natural Mineral Water Bottle",
          "Cadbury Chomp Chocolate Bar",
          "Oreo Minis Cookies Variety Bags 18 Pack",
          "Cadbury Choc Centre Cookies",
          "Woolworths Apple Juice",
          "Woolworths Apple & Mango Juice",
          "Woolworths Orange Juice",
          "Woolworths Breakfast Juice",
          "Woolworths Apple & Blackcurrant Juice",
          "Woolworths Multivitamin Juice",
          "Golden Circle Golden Pash Fruit Drink",
          "Golden Circle Drinks Pine Orange Fruit Drink",
          "Golden Circle Drinks Sunshine Punch Fruit Drink",
          "Golden Circle Fruit Drinks Lunch Box Poppers Tropical Punch Multipack",
          "Oreo Neapolitan Double Stuff Cookies",
          "Woolworths Diced Italian Tomatoes",
          "Woolworths Diced Italian Tomatoes",
          "Woolworths Tomato Sauce Squeeze",
          "Woolworths Tomato Sauce",
          "Woolworths Barbecue Sauce Squeeze",
          "Masterfoods Tomato Sauce",
          "Masterfoods Barbecue Sauce",
          "Woolworths Secret Burger Sauce",
          "Heinz Ketchup Tomato Sauce Ketchup",
          "Woolworths Barbecue Sauce",
          "Smith's Crinkle Cut Potato Chips Original",
          "Smith's Crinkle Cut Potato Chips Cheese & Onion",
          "Smith's Crinkle Cut Potato Chips Barbecue",
          "Smith's Crinkle Cut Potato Chips Chicken",
          "Smith's Thinly Cut Potato Chips Original Share Pack",
          "Thins Chips Chicken",
          "Smith's Crinkle Cut Potato Chips Salt & Vinegar",
          "Woolworths Peach In Strawberry Jelly",
          "Woolworths Two Fruits In Juice Cups",
          "Woolworths Two Fruits In Juice",
          "Woolworths Two Fruits In Juice",
          "Woolworths Two Fruits In Tropical Jelly",
          "Woolworths Apple In Pineapple Jelly",
          "Dole Pineapple Slices In Syrup"
         ],
         "xaxis": "x",
         "y": [
          "Citric Acid",
          "Citric Acid",
          "Citric Acid",
          "Citric Acid",
          "Citric Acid",
          "Citric Acid",
          "Citric Acid",
          "Citric Acid",
          "Citric Acid",
          "Citric Acid",
          "Citric Acid",
          "Citric Acid",
          "Citric Acid",
          "Citric Acid",
          "Citric Acid",
          "Citric Acid",
          "Citric Acid",
          "Citric Acid",
          "Citric Acid",
          "Citric Acid",
          "Citric Acid",
          "Citric Acid",
          "Citric Acid",
          "Citric Acid",
          "Citric Acid",
          "Citric Acid",
          "Citric Acid",
          "Citric Acid",
          "Citric Acid",
          "Citric Acid",
          "Citric Acid",
          "Citric Acid",
          "Citric Acid",
          "Citric Acid",
          "Citric Acid",
          "Citric Acid",
          "Citric Acid",
          "Citric Acid",
          "Citric Acid",
          "Citric Acid",
          "Citric Acid",
          "Citric Acid",
          "Citric Acid",
          "Citric Acid",
          "Citric Acid",
          "Citric Acid",
          "Citric Acid"
         ],
         "yaxis": "y"
        },
        {
         "alignmentgroup": "True",
         "hovertemplate": " Ingredients=%{y}<br>Product=%{x}<extra></extra>",
         "legendgroup": "Herbs",
         "marker": {
          "color": "#636efa",
          "pattern": {
           "shape": ""
          }
         },
         "name": "Herbs",
         "offsetgroup": "Herbs",
         "orientation": "v",
         "showlegend": true,
         "textposition": "auto",
         "type": "bar",
         "x": [
          "Indomie Mi Goreng Instant Noodles",
          "Supreme Noodles Cup Chicken Flavour",
          "Fantastic Chicken Noodle Cup",
          "Indomie Mi Goreng Noodle Cup"
         ],
         "xaxis": "x",
         "y": [
          "Herbs",
          "Herbs",
          "Herbs",
          "Herbs"
         ],
         "yaxis": "y"
        },
        {
         "alignmentgroup": "True",
         "hovertemplate": " Ingredients=%{y}<br>Product=%{x}<extra></extra>",
         "legendgroup": "Preservative 1211",
         "marker": {
          "color": "#EF553B",
          "pattern": {
           "shape": ""
          }
         },
         "name": "Preservative 1211",
         "offsetgroup": "Preservative 1211",
         "orientation": "v",
         "showlegend": true,
         "textposition": "auto",
         "type": "bar",
         "x": [
          "Indomie Mi Goreng Instant Noodles",
          "Indomie Mi Goreng Noodle Cup"
         ],
         "xaxis": "x",
         "y": [
          "Preservative 1211",
          "Preservative 1211"
         ],
         "yaxis": "y"
        },
        {
         "alignmentgroup": "True",
         "hovertemplate": " Ingredients=%{y}<br>Product=%{x}<extra></extra>",
         "legendgroup": "Sodium Metabisulfite",
         "marker": {
          "color": "#00cc96",
          "pattern": {
           "shape": ""
          }
         },
         "name": "Sodium Metabisulfite",
         "offsetgroup": "Sodium Metabisulfite",
         "orientation": "v",
         "showlegend": true,
         "textposition": "auto",
         "type": "bar",
         "x": [
          "Indomie Mi Goreng Instant Noodles",
          "Indomie Mi Goreng Noodle Cup",
          "Schweppes Lime Soda Water With Lime Juice Bottle",
          "Schweppes Lemon Lime Natural Mineral Water Bottle",
          "Schweppes Orange Mango Natural Mineral Water Bottle"
         ],
         "xaxis": "x",
         "y": [
          "Sodium Metabisulfite",
          "Sodium Metabisulfite",
          "Sodium Metabisulfite",
          "Sodium Metabisulfite",
          "Sodium Metabisulfite"
         ],
         "yaxis": "y"
        },
        {
         "alignmentgroup": "True",
         "hovertemplate": " Ingredients=%{y}<br>Product=%{x}<extra></extra>",
         "legendgroup": "Fried Onion",
         "marker": {
          "color": "#ab63fa",
          "pattern": {
           "shape": ""
          }
         },
         "name": "Fried Onion",
         "offsetgroup": "Fried Onion",
         "orientation": "v",
         "showlegend": true,
         "textposition": "auto",
         "type": "bar",
         "x": [
          "Indomie Mi Goreng Instant Noodles",
          "Indomie Mi Goreng Noodle Cup"
         ],
         "xaxis": "x",
         "y": [
          "Fried Onion",
          "Fried Onion"
         ],
         "yaxis": "y"
        },
        {
         "alignmentgroup": "True",
         "hovertemplate": " Ingredients=%{y}<br>Product=%{x}<extra></extra>",
         "legendgroup": "TBHQ",
         "marker": {
          "color": "#FFA15A",
          "pattern": {
           "shape": ""
          }
         },
         "name": "TBHQ",
         "offsetgroup": "TBHQ",
         "orientation": "v",
         "showlegend": true,
         "textposition": "auto",
         "type": "bar",
         "x": [
          "Indomie Mi Goreng Instant Noodles",
          "Maggi 2 Minute Chicken Flavour Instant Noodles",
          "Maggi 2 Minute Chicken Flavour Instant Noodles",
          "Fantastic Chicken Noodle Bowl",
          "Indomie Mi Goreng Noodle Cup",
          "Maggi 2 Minute Beef Flavour Instant Noodles",
          "Oreo Original Mini Cookies Multipack",
          "Oreo Minis Cookies Variety Bags 18 Pack",
          "Oreo Original Cookies",
          "Oreo Double Stuff Cookies",
          "Oreo Original Cookies Family Pack",
          "Oreo Chocolate Cookies",
          "Oreo Grab & Go Original Cookies 9 Pack",
          "Oreo Neapolitan Double Stuff Cookies"
         ],
         "xaxis": "x",
         "y": [
          "TBHQ",
          "TBHQ",
          "TBHQ",
          "TBHQ",
          "TBHQ",
          "TBHQ",
          "TBHQ",
          "TBHQ",
          "TBHQ",
          "TBHQ",
          "TBHQ",
          "TBHQ",
          "TBHQ",
          "TBHQ"
         ],
         "yaxis": "y"
        },
        {
         "alignmentgroup": "True",
         "hovertemplate": " Ingredients=%{y}<br>Product=%{x}<extra></extra>",
         "legendgroup": "Disodium Inosinate",
         "marker": {
          "color": "#19d3f3",
          "pattern": {
           "shape": ""
          }
         },
         "name": "Disodium Inosinate",
         "offsetgroup": "Disodium Inosinate",
         "orientation": "v",
         "showlegend": true,
         "textposition": "auto",
         "type": "bar",
         "x": [
          "Indomie Mi Goreng Instant Noodles",
          "Fantastic Chicken Noodle Bowl",
          "Indomie Mi Goreng Noodle Cup"
         ],
         "xaxis": "x",
         "y": [
          "Disodium Inosinate",
          "Disodium Inosinate",
          "Disodium Inosinate"
         ],
         "yaxis": "y"
        },
        {
         "alignmentgroup": "True",
         "hovertemplate": " Ingredients=%{y}<br>Product=%{x}<extra></extra>",
         "legendgroup": "Vegetable Oil",
         "marker": {
          "color": "#FF6692",
          "pattern": {
           "shape": ""
          }
         },
         "name": "Vegetable Oil",
         "offsetgroup": "Vegetable Oil",
         "orientation": "v",
         "showlegend": true,
         "textposition": "auto",
         "type": "bar",
         "x": [
          "Maggi 2 Minute Chicken Flavour Instant Noodles",
          "Maggi 2 Minute Chicken Flavour Instant Noodles",
          "Supreme Noodles Cup Chicken Flavour",
          "Fantastic Chicken Noodle Cup",
          "Fantastic Chicken Noodle Bowl",
          "Maggi 2 Minute Beef Flavour Instant Noodles",
          "Supreme Noodles Cup Beef Flavour",
          "Mars Chocolate Bar With Nougat & Caramel",
          "Cadbury Chomp Chocolate Bar",
          "Arnott's Premier Chocolate Chip Cookies",
          "Woolworths Chocolate Chip Cookies",
          "Woolworths The King Of Chunky Chocolate Chip Cookies",
          "Arnott's Mini Choc Chip Cookie Multipack Biscuits",
          "Oreo Original Mini Cookies Multipack",
          "Oreo Minis Cookies Variety Bags 18 Pack",
          "Cadbury Classic Choc Chip Cookies",
          "Cadbury Choc Centre Cookies",
          "Byron Bay Cookies Dotty Cookie Bites",
          "Oreo Original Cookies",
          "Oreo Double Stuff Cookies",
          "Oreo Original Cookies Family Pack",
          "Oreo Chocolate Cookies",
          "Oreo Grab & Go Original Cookies 9 Pack",
          "Oreo Neapolitan Double Stuff Cookies",
          "Deep Cove Sardines In Oil",
          "Thins Chips Salt & Vinegar",
          "Thins Chips Chicken",
          "Thins Chips Light & Tangy",
          "Thins Cheese & Onion Chips"
         ],
         "xaxis": "x",
         "y": [
          "Vegetable Oil",
          "Vegetable Oil",
          "Vegetable Oil",
          "Vegetable Oil",
          "Vegetable Oil",
          "Vegetable Oil",
          "Vegetable Oil",
          "Vegetable Oil",
          "Vegetable Oil",
          "Vegetable Oil",
          "Vegetable Oil",
          "Vegetable Oil",
          "Vegetable Oil",
          "Vegetable Oil",
          "Vegetable Oil",
          "Vegetable Oil",
          "Vegetable Oil",
          "Vegetable Oil",
          "Vegetable Oil",
          "Vegetable Oil",
          "Vegetable Oil",
          "Vegetable Oil",
          "Vegetable Oil",
          "Vegetable Oil",
          "Vegetable Oil",
          "Vegetable Oil",
          "Vegetable Oil",
          "Vegetable Oil",
          "Vegetable Oil"
         ],
         "yaxis": "y"
        },
        {
         "alignmentgroup": "True",
         "hovertemplate": " Ingredients=%{y}<br>Product=%{x}<extra></extra>",
         "legendgroup": "Antioxidant 320",
         "marker": {
          "color": "#B6E880",
          "pattern": {
           "shape": ""
          }
         },
         "name": "Antioxidant 320",
         "offsetgroup": "Antioxidant 320",
         "orientation": "v",
         "showlegend": true,
         "textposition": "auto",
         "type": "bar",
         "x": [
          "Maggi 2 Minute Chicken Flavour Instant Noodles",
          "Maggi 2 Minute Chicken Flavour Instant Noodles",
          "Fantastic Chicken Noodle Cup",
          "Maggi 2 Minute Beef Flavour Instant Noodles",
          "Supreme Noodles Cup Beef Flavour"
         ],
         "xaxis": "x",
         "y": [
          "Antioxidant 320",
          "Antioxidant 320",
          "Antioxidant 320",
          "Antioxidant 320",
          "Antioxidant 320"
         ],
         "yaxis": "y"
        },
        {
         "alignmentgroup": "True",
         "hovertemplate": " Ingredients=%{y}<br>Product=%{x}<extra></extra>",
         "legendgroup": "Mineral Salt 508",
         "marker": {
          "color": "#FF97FF",
          "pattern": {
           "shape": ""
          }
         },
         "name": "Mineral Salt 508",
         "offsetgroup": "Mineral Salt 508",
         "orientation": "v",
         "showlegend": true,
         "textposition": "auto",
         "type": "bar",
         "x": [
          "Maggi 2 Minute Chicken Flavour Instant Noodles",
          "Maggi 2 Minute Chicken Flavour Instant Noodles",
          "Maggi 2 Minute Beef Flavour Instant Noodles"
         ],
         "xaxis": "x",
         "y": [
          "Mineral Salt 508",
          "Mineral Salt 508",
          "Mineral Salt 508"
         ],
         "yaxis": "y"
        },
        {
         "alignmentgroup": "True",
         "hovertemplate": " Ingredients=%{y}<br>Product=%{x}<extra></extra>",
         "legendgroup": "Mineral Salt 451",
         "marker": {
          "color": "#FECB52",
          "pattern": {
           "shape": ""
          }
         },
         "name": "Mineral Salt 451",
         "offsetgroup": "Mineral Salt 451",
         "orientation": "v",
         "showlegend": true,
         "textposition": "auto",
         "type": "bar",
         "x": [
          "Maggi 2 Minute Chicken Flavour Instant Noodles",
          "Maggi 2 Minute Chicken Flavour Instant Noodles",
          "Maggi 2 Minute Beef Flavour Instant Noodles"
         ],
         "xaxis": "x",
         "y": [
          "Mineral Salt 451",
          "Mineral Salt 451",
          "Mineral Salt 451"
         ],
         "yaxis": "y"
        },
        {
         "alignmentgroup": "True",
         "hovertemplate": " Ingredients=%{y}<br>Product=%{x}<extra></extra>",
         "legendgroup": "Flavour Enhancer 635",
         "marker": {
          "color": "#636efa",
          "pattern": {
           "shape": ""
          }
         },
         "name": "Flavour Enhancer 635",
         "offsetgroup": "Flavour Enhancer 635",
         "orientation": "v",
         "showlegend": true,
         "textposition": "auto",
         "type": "bar",
         "x": [
          "Maggi 2 Minute Chicken Flavour Instant Noodles",
          "Maggi 2 Minute Chicken Flavour Instant Noodles",
          "Supreme Noodles Cup Chicken Flavour",
          "Fantastic Chicken Noodle Cup",
          "Maggi 2 Minute Beef Flavour Instant Noodles",
          "Supreme Noodles Cup Beef Flavour",
          "Smith's Crinkle Cut Potato Chips Barbecue",
          "Smith's Crinkle Cut Potato Chips Chicken",
          "Thins Chips Chicken",
          "Thins Chips Light & Tangy",
          "Thins Cheese & Onion Chips"
         ],
         "xaxis": "x",
         "y": [
          "Flavour Enhancer 635",
          "Flavour Enhancer 635",
          "Flavour Enhancer 635",
          "Flavour Enhancer 635",
          "Flavour Enhancer 635",
          "Flavour Enhancer 635",
          "Flavour Enhancer 635",
          "Flavour Enhancer 635",
          "Flavour Enhancer 635",
          "Flavour Enhancer 635",
          "Flavour Enhancer 635"
         ],
         "yaxis": "y"
        },
        {
         "alignmentgroup": "True",
         "hovertemplate": " Ingredients=%{y}<br>Product=%{x}<extra></extra>",
         "legendgroup": "Iodised Salt",
         "marker": {
          "color": "#EF553B",
          "pattern": {
           "shape": ""
          }
         },
         "name": "Iodised Salt",
         "offsetgroup": "Iodised Salt",
         "orientation": "v",
         "showlegend": true,
         "textposition": "auto",
         "type": "bar",
         "x": [
          "Maggi 2 Minute Chicken Flavour Instant Noodles",
          "Oreo Neapolitan Double Stuff Cookies"
         ],
         "xaxis": "x",
         "y": [
          "Iodised Salt",
          "Iodised Salt"
         ],
         "yaxis": "y"
        },
        {
         "alignmentgroup": "True",
         "hovertemplate": " Ingredients=%{y}<br>Product=%{x}<extra></extra>",
         "legendgroup": "Maltodextrin",
         "marker": {
          "color": "#00cc96",
          "pattern": {
           "shape": ""
          }
         },
         "name": "Maltodextrin",
         "offsetgroup": "Maltodextrin",
         "orientation": "v",
         "showlegend": true,
         "textposition": "auto",
         "type": "bar",
         "x": [
          "Maggi 2 Minute Chicken Flavour Instant Noodles",
          "Supreme Noodles Cup Chicken Flavour",
          "Fantastic Chicken Noodle Cup",
          "Oreo Neapolitan Double Stuff Cookies",
          "Smith's Crinkle Cut Potato Chips Cheese & Onion",
          "Smith's Crinkle Cut Potato Chips Barbecue",
          "Smith's Crinkle Cut Potato Chips Chicken"
         ],
         "xaxis": "x",
         "y": [
          "Maltodextrin",
          "Maltodextrin",
          "Maltodextrin",
          "Maltodextrin",
          "Maltodextrin",
          "Maltodextrin",
          "Maltodextrin"
         ],
         "yaxis": "y"
        },
        {
         "alignmentgroup": "True",
         "hovertemplate": " Ingredients=%{y}<br>Product=%{x}<extra></extra>",
         "legendgroup": "Flavours Wheat",
         "marker": {
          "color": "#ab63fa",
          "pattern": {
           "shape": ""
          }
         },
         "name": "Flavours Wheat",
         "offsetgroup": "Flavours Wheat",
         "orientation": "v",
         "showlegend": true,
         "textposition": "auto",
         "type": "bar",
         "x": [
          "Maggi 2 Minute Chicken Flavour Instant Noodles",
          "Maggi 2 Minute Chicken Flavour Instant Noodles",
          "Fantastic Chicken Noodle Bowl"
         ],
         "xaxis": "x",
         "y": [
          "Flavours Wheat",
          "Flavours Wheat",
          "Flavours Wheat"
         ],
         "yaxis": "y"
        },
        {
         "alignmentgroup": "True",
         "hovertemplate": " Ingredients=%{y}<br>Product=%{x}<extra></extra>",
         "legendgroup": "Flavours Soy",
         "marker": {
          "color": "#FFA15A",
          "pattern": {
           "shape": ""
          }
         },
         "name": "Flavours Soy",
         "offsetgroup": "Flavours Soy",
         "orientation": "v",
         "showlegend": true,
         "textposition": "auto",
         "type": "bar",
         "x": [
          "Maggi 2 Minute Chicken Flavour Instant Noodles",
          "Maggi 2 Minute Chicken Flavour Instant Noodles",
          "Fantastic Chicken Noodle Bowl"
         ],
         "xaxis": "x",
         "y": [
          "Flavours Soy",
          "Flavours Soy",
          "Flavours Soy"
         ],
         "yaxis": "y"
        },
        {
         "alignmentgroup": "True",
         "hovertemplate": " Ingredients=%{y}<br>Product=%{x}<extra></extra>",
         "legendgroup": "Vegetable Fat",
         "marker": {
          "color": "#19d3f3",
          "pattern": {
           "shape": ""
          }
         },
         "name": "Vegetable Fat",
         "offsetgroup": "Vegetable Fat",
         "orientation": "v",
         "showlegend": true,
         "textposition": "auto",
         "type": "bar",
         "x": [
          "Maggi 2 Minute Chicken Flavour Instant Noodles",
          "Maggi 2 Minute Chicken Flavour Instant Noodles",
          "Maggi 2 Minute Beef Flavour Instant Noodles",
          "Kitkat 4 Finger Milk Chocolate Bar",
          "Kitkat Chunky Original Chocolate Bar",
          "Cadbury Dairy Milk Caramello Koala Chocolate",
          "Mars Chocolate Bar With Nougat & Caramel",
          "Cadbury Chomp Chocolate Bar",
          "Cadbury Classic Choc Chip Cookies",
          "Byron Bay Cookies Dotty Cookie Bites"
         ],
         "xaxis": "x",
         "y": [
          "Vegetable Fat",
          "Vegetable Fat",
          "Vegetable Fat",
          "Vegetable Fat",
          "Vegetable Fat",
          "Vegetable Fat",
          "Vegetable Fat",
          "Vegetable Fat",
          "Vegetable Fat",
          "Vegetable Fat"
         ],
         "yaxis": "y"
        },
        {
         "alignmentgroup": "True",
         "hovertemplate": " Ingredients=%{y}<br>Product=%{x}<extra></extra>",
         "legendgroup": "Parsley Flakes",
         "marker": {
          "color": "#FF6692",
          "pattern": {
           "shape": ""
          }
         },
         "name": "Parsley Flakes",
         "offsetgroup": "Parsley Flakes",
         "orientation": "v",
         "showlegend": true,
         "textposition": "auto",
         "type": "bar",
         "x": [
          "Maggi 2 Minute Chicken Flavour Instant Noodles"
         ],
         "xaxis": "x",
         "y": [
          "Parsley Flakes"
         ],
         "yaxis": "y"
        },
        {
         "alignmentgroup": "True",
         "hovertemplate": " Ingredients=%{y}<br>Product=%{x}<extra></extra>",
         "legendgroup": "Turmeric",
         "marker": {
          "color": "#B6E880",
          "pattern": {
           "shape": ""
          }
         },
         "name": "Turmeric",
         "offsetgroup": "Turmeric",
         "orientation": "v",
         "showlegend": true,
         "textposition": "auto",
         "type": "bar",
         "x": [
          "Maggi 2 Minute Chicken Flavour Instant Noodles",
          "Maggi 2 Minute Chicken Flavour Instant Noodles",
          "Smith's Crinkle Cut Potato Chips Chicken",
          "Thins Cheese & Onion Chips"
         ],
         "xaxis": "x",
         "y": [
          "Turmeric",
          "Turmeric",
          "Turmeric",
          "Turmeric"
         ],
         "yaxis": "y"
        },
        {
         "alignmentgroup": "True",
         "hovertemplate": " Ingredients=%{y}<br>Product=%{x}<extra></extra>",
         "legendgroup": "Caramel III",
         "marker": {
          "color": "#FF97FF",
          "pattern": {
           "shape": ""
          }
         },
         "name": "Caramel III",
         "offsetgroup": "Caramel III",
         "orientation": "v",
         "showlegend": true,
         "textposition": "auto",
         "type": "bar",
         "x": [
          "Maggi 2 Minute Chicken Flavour Instant Noodles"
         ],
         "xaxis": "x",
         "y": [
          "Caramel III"
         ],
         "yaxis": "y"
        },
        {
         "alignmentgroup": "True",
         "hovertemplate": " Ingredients=%{y}<br>Product=%{x}<extra></extra>",
         "legendgroup": "Coriander",
         "marker": {
          "color": "#FECB52",
          "pattern": {
           "shape": ""
          }
         },
         "name": "Coriander",
         "offsetgroup": "Coriander",
         "orientation": "v",
         "showlegend": true,
         "textposition": "auto",
         "type": "bar",
         "x": [
          "Maggi 2 Minute Chicken Flavour Instant Noodles",
          "Maggi 2 Minute Chicken Flavour Instant Noodles"
         ],
         "xaxis": "x",
         "y": [
          "Coriander",
          "Coriander"
         ],
         "yaxis": "y"
        },
        {
         "alignmentgroup": "True",
         "hovertemplate": " Ingredients=%{y}<br>Product=%{x}<extra></extra>",
         "legendgroup": "Cumin",
         "marker": {
          "color": "#636efa",
          "pattern": {
           "shape": ""
          }
         },
         "name": "Cumin",
         "offsetgroup": "Cumin",
         "orientation": "v",
         "showlegend": true,
         "textposition": "auto",
         "type": "bar",
         "x": [
          "Maggi 2 Minute Chicken Flavour Instant Noodles",
          "Maggi 2 Minute Chicken Flavour Instant Noodles"
         ],
         "xaxis": "x",
         "y": [
          "Cumin",
          "Cumin"
         ],
         "yaxis": "y"
        },
        {
         "alignmentgroup": "True",
         "hovertemplate": " Ingredients=%{y}<br>Product=%{x}<extra></extra>",
         "legendgroup": "Spice Cardamom",
         "marker": {
          "color": "#EF553B",
          "pattern": {
           "shape": ""
          }
         },
         "name": "Spice Cardamom",
         "offsetgroup": "Spice Cardamom",
         "orientation": "v",
         "showlegend": true,
         "textposition": "auto",
         "type": "bar",
         "x": [
          "Maggi 2 Minute Chicken Flavour Instant Noodles",
          "Maggi 2 Minute Chicken Flavour Instant Noodles"
         ],
         "xaxis": "x",
         "y": [
          "Spice Cardamom",
          "Spice Cardamom"
         ],
         "yaxis": "y"
        },
        {
         "alignmentgroup": "True",
         "hovertemplate": " Ingredients=%{y}<br>Product=%{x}<extra></extra>",
         "legendgroup": "Spice Chilli Powder",
         "marker": {
          "color": "#00cc96",
          "pattern": {
           "shape": ""
          }
         },
         "name": "Spice Chilli Powder",
         "offsetgroup": "Spice Chilli Powder",
         "orientation": "v",
         "showlegend": true,
         "textposition": "auto",
         "type": "bar",
         "x": [
          "Maggi 2 Minute Chicken Flavour Instant Noodles",
          "Maggi 2 Minute Chicken Flavour Instant Noodles"
         ],
         "xaxis": "x",
         "y": [
          "Spice Chilli Powder",
          "Spice Chilli Powder"
         ],
         "yaxis": "y"
        },
        {
         "alignmentgroup": "True",
         "hovertemplate": " Ingredients=%{y}<br>Product=%{x}<extra></extra>",
         "legendgroup": "Spice Ginger",
         "marker": {
          "color": "#ab63fa",
          "pattern": {
           "shape": ""
          }
         },
         "name": "Spice Ginger",
         "offsetgroup": "Spice Ginger",
         "orientation": "v",
         "showlegend": true,
         "textposition": "auto",
         "type": "bar",
         "x": [
          "Maggi 2 Minute Chicken Flavour Instant Noodles",
          "Maggi 2 Minute Chicken Flavour Instant Noodles"
         ],
         "xaxis": "x",
         "y": [
          "Spice Ginger",
          "Spice Ginger"
         ],
         "yaxis": "y"
        },
        {
         "alignmentgroup": "True",
         "hovertemplate": " Ingredients=%{y}<br>Product=%{x}<extra></extra>",
         "legendgroup": "Flavour Celery",
         "marker": {
          "color": "#FFA15A",
          "pattern": {
           "shape": ""
          }
         },
         "name": "Flavour Celery",
         "offsetgroup": "Flavour Celery",
         "orientation": "v",
         "showlegend": true,
         "textposition": "auto",
         "type": "bar",
         "x": [
          "Maggi 2 Minute Chicken Flavour Instant Noodles",
          "Maggi 2 Minute Chicken Flavour Instant Noodles"
         ],
         "xaxis": "x",
         "y": [
          "Flavour Celery",
          "Flavour Celery"
         ],
         "yaxis": "y"
        },
        {
         "alignmentgroup": "True",
         "hovertemplate": " Ingredients=%{y}<br>Product=%{x}<extra></extra>",
         "legendgroup": "Mineral Salt 501",
         "marker": {
          "color": "#19d3f3",
          "pattern": {
           "shape": ""
          }
         },
         "name": "Mineral Salt 501",
         "offsetgroup": "Mineral Salt 501",
         "orientation": "v",
         "showlegend": true,
         "textposition": "auto",
         "type": "bar",
         "x": [
          "Maggi 2 Minute Chicken Flavour Instant Noodles",
          "Maggi 2 Minute Chicken Flavour Instant Noodles",
          "Fantastic Chicken Noodle Bowl",
          "Maggi 2 Minute Beef Flavour Instant Noodles"
         ],
         "xaxis": "x",
         "y": [
          "Mineral Salt 501",
          "Mineral Salt 501",
          "Mineral Salt 501",
          "Mineral Salt 501"
         ],
         "yaxis": "y"
        },
        {
         "alignmentgroup": "True",
         "hovertemplate": " Ingredients=%{y}<br>Product=%{x}<extra></extra>",
         "legendgroup": "Mineral Salt 500",
         "marker": {
          "color": "#FF6692",
          "pattern": {
           "shape": ""
          }
         },
         "name": "Mineral Salt 500",
         "offsetgroup": "Mineral Salt 500",
         "orientation": "v",
         "showlegend": true,
         "textposition": "auto",
         "type": "bar",
         "x": [
          "Maggi 2 Minute Chicken Flavour Instant Noodles",
          "Maggi 2 Minute Chicken Flavour Instant Noodles",
          "Fantastic Chicken Noodle Bowl",
          "Maggi 2 Minute Beef Flavour Instant Noodles"
         ],
         "xaxis": "x",
         "y": [
          "Mineral Salt 500",
          "Mineral Salt 500",
          "Mineral Salt 500",
          "Mineral Salt 500"
         ],
         "yaxis": "y"
        },
        {
         "alignmentgroup": "True",
         "hovertemplate": " Ingredients=%{y}<br>Product=%{x}<extra></extra>",
         "legendgroup": "Potassium Chloride",
         "marker": {
          "color": "#B6E880",
          "pattern": {
           "shape": ""
          }
         },
         "name": "Potassium Chloride",
         "offsetgroup": "Potassium Chloride",
         "orientation": "v",
         "showlegend": true,
         "textposition": "auto",
         "type": "bar",
         "x": [
          "Maggi 2 Minute Chicken Flavour Instant Noodles",
          "Maggi 2 Minute Beef Flavour Instant Noodles",
          "Smith's Crinkle Cut Potato Chips Cheese & Onion",
          "Smith's Crinkle Cut Potato Chips Barbecue",
          "Smith's Crinkle Cut Potato Chips Chicken",
          "Thins Chips Salt & Vinegar",
          "Thins Chips Chicken",
          "Smith's Crinkle Cut Potato Chips Salt & Vinegar",
          "Thins Cheese & Onion Chips"
         ],
         "xaxis": "x",
         "y": [
          "Potassium Chloride",
          "Potassium Chloride",
          "Potassium Chloride",
          "Potassium Chloride",
          "Potassium Chloride",
          "Potassium Chloride",
          "Potassium Chloride",
          "Potassium Chloride",
          "Potassium Chloride"
         ],
         "yaxis": "y"
        },
        {
         "alignmentgroup": "True",
         "hovertemplate": " Ingredients=%{y}<br>Product=%{x}<extra></extra>",
         "legendgroup": "Potato Starch",
         "marker": {
          "color": "#FF97FF",
          "pattern": {
           "shape": ""
          }
         },
         "name": "Potato Starch",
         "offsetgroup": "Potato Starch",
         "orientation": "v",
         "showlegend": true,
         "textposition": "auto",
         "type": "bar",
         "x": [
          "Maggi 2 Minute Chicken Flavour Instant Noodles",
          "Cadbury Classic Choc Chip Cookies"
         ],
         "xaxis": "x",
         "y": [
          "Potato Starch",
          "Potato Starch"
         ],
         "yaxis": "y"
        },
        {
         "alignmentgroup": "True",
         "hovertemplate": " Ingredients=%{y}<br>Product=%{x}<extra></extra>",
         "legendgroup": "Parsley",
         "marker": {
          "color": "#FECB52",
          "pattern": {
           "shape": ""
          }
         },
         "name": "Parsley",
         "offsetgroup": "Parsley",
         "orientation": "v",
         "showlegend": true,
         "textposition": "auto",
         "type": "bar",
         "x": [
          "Maggi 2 Minute Chicken Flavour Instant Noodles",
          "Smith's Crinkle Cut Potato Chips Chicken",
          "Thins Chips Chicken",
          "Thins Cheese & Onion Chips"
         ],
         "xaxis": "x",
         "y": [
          "Parsley",
          "Parsley",
          "Parsley",
          "Parsley"
         ],
         "yaxis": "y"
        },
        {
         "alignmentgroup": "True",
         "hovertemplate": " Ingredients=%{y}<br>Product=%{x}<extra></extra>",
         "legendgroup": "Burnt Sugar",
         "marker": {
          "color": "#636efa",
          "pattern": {
           "shape": ""
          }
         },
         "name": "Burnt Sugar",
         "offsetgroup": "Burnt Sugar",
         "orientation": "v",
         "showlegend": true,
         "textposition": "auto",
         "type": "bar",
         "x": [
          "Maggi 2 Minute Chicken Flavour Instant Noodles",
          "Maggi 2 Minute Beef Flavour Instant Noodles"
         ],
         "xaxis": "x",
         "y": [
          "Burnt Sugar",
          "Burnt Sugar"
         ],
         "yaxis": "y"
        },
        {
         "alignmentgroup": "True",
         "hovertemplate": " Ingredients=%{y}<br>Product=%{x}<extra></extra>",
         "legendgroup": "Gluten Wheat",
         "marker": {
          "color": "#EF553B",
          "pattern": {
           "shape": ""
          }
         },
         "name": "Gluten Wheat",
         "offsetgroup": "Gluten Wheat",
         "orientation": "v",
         "showlegend": true,
         "textposition": "auto",
         "type": "bar",
         "x": [
          "Supreme Noodles Cup Chicken Flavour",
          "Fantastic Chicken Noodle Cup"
         ],
         "xaxis": "x",
         "y": [
          "Gluten Wheat",
          "Gluten Wheat"
         ],
         "yaxis": "y"
        },
        {
         "alignmentgroup": "True",
         "hovertemplate": " Ingredients=%{y}<br>Product=%{x}<extra></extra>",
         "legendgroup": "Soy",
         "marker": {
          "color": "#00cc96",
          "pattern": {
           "shape": ""
          }
         },
         "name": "Soy",
         "offsetgroup": "Soy",
         "orientation": "v",
         "showlegend": true,
         "textposition": "auto",
         "type": "bar",
         "x": [
          "Supreme Noodles Cup Chicken Flavour",
          "Fantastic Chicken Noodle Cup",
          "Maggi 2 Minute Beef Flavour Instant Noodles",
          "Supreme Noodles Cup Beef Flavour",
          "Kitkat Chunky Original Chocolate Bar"
         ],
         "xaxis": "x",
         "y": [
          "Soy",
          "Soy",
          "Soy",
          "Soy",
          "Soy"
         ],
         "yaxis": "y"
        },
        {
         "alignmentgroup": "True",
         "hovertemplate": " Ingredients=%{y}<br>Product=%{x}<extra></extra>",
         "legendgroup": "Curcumin",
         "marker": {
          "color": "#ab63fa",
          "pattern": {
           "shape": ""
          }
         },
         "name": "Curcumin",
         "offsetgroup": "Curcumin",
         "orientation": "v",
         "showlegend": true,
         "textposition": "auto",
         "type": "bar",
         "x": [
          "Supreme Noodles Cup Chicken Flavour",
          "Fantastic Chicken Noodle Cup",
          "Supreme Noodles Cup Beef Flavour"
         ],
         "xaxis": "x",
         "y": [
          "Curcumin",
          "Curcumin",
          "Curcumin"
         ],
         "yaxis": "y"
        },
        {
         "alignmentgroup": "True",
         "hovertemplate": " Ingredients=%{y}<br>Product=%{x}<extra></extra>",
         "legendgroup": "Flavour Sachet",
         "marker": {
          "color": "#FFA15A",
          "pattern": {
           "shape": ""
          }
         },
         "name": "Flavour Sachet",
         "offsetgroup": "Flavour Sachet",
         "orientation": "v",
         "showlegend": true,
         "textposition": "auto",
         "type": "bar",
         "x": [
          "Fantastic Chicken Noodle Cup"
         ],
         "xaxis": "x",
         "y": [
          "Flavour Sachet"
         ],
         "yaxis": "y"
        },
        {
         "alignmentgroup": "True",
         "hovertemplate": " Ingredients=%{y}<br>Product=%{x}<extra></extra>",
         "legendgroup": "Vegetable Sachet",
         "marker": {
          "color": "#19d3f3",
          "pattern": {
           "shape": ""
          }
         },
         "name": "Vegetable Sachet",
         "offsetgroup": "Vegetable Sachet",
         "orientation": "v",
         "showlegend": true,
         "textposition": "auto",
         "type": "bar",
         "x": [
          "Fantastic Chicken Noodle Cup"
         ],
         "xaxis": "x",
         "y": [
          "Vegetable Sachet"
         ],
         "yaxis": "y"
        },
        {
         "alignmentgroup": "True",
         "hovertemplate": " Ingredients=%{y}<br>Product=%{x}<extra></extra>",
         "legendgroup": "Dehydrated Vegetables",
         "marker": {
          "color": "#FF6692",
          "pattern": {
           "shape": ""
          }
         },
         "name": "Dehydrated Vegetables",
         "offsetgroup": "Dehydrated Vegetables",
         "orientation": "v",
         "showlegend": true,
         "textposition": "auto",
         "type": "bar",
         "x": [
          "Fantastic Chicken Noodle Cup",
          "Fantastic Chicken Noodle Bowl"
         ],
         "xaxis": "x",
         "y": [
          "Dehydrated Vegetables",
          "Dehydrated Vegetables"
         ],
         "yaxis": "y"
        },
        {
         "alignmentgroup": "True",
         "hovertemplate": " Ingredients=%{y}<br>Product=%{x}<extra></extra>",
         "legendgroup": "Modified Starch 1420",
         "marker": {
          "color": "#B6E880",
          "pattern": {
           "shape": ""
          }
         },
         "name": "Modified Starch 1420",
         "offsetgroup": "Modified Starch 1420",
         "orientation": "v",
         "showlegend": true,
         "textposition": "auto",
         "type": "bar",
         "x": [
          "Fantastic Chicken Noodle Bowl"
         ],
         "xaxis": "x",
         "y": [
          "Modified Starch 1420"
         ],
         "yaxis": "y"
        },
        {
         "alignmentgroup": "True",
         "hovertemplate": " Ingredients=%{y}<br>Product=%{x}<extra></extra>",
         "legendgroup": "Mineral Salt 450",
         "marker": {
          "color": "#FF97FF",
          "pattern": {
           "shape": ""
          }
         },
         "name": "Mineral Salt 450",
         "offsetgroup": "Mineral Salt 450",
         "orientation": "v",
         "showlegend": true,
         "textposition": "auto",
         "type": "bar",
         "x": [
          "Fantastic Chicken Noodle Bowl"
         ],
         "xaxis": "x",
         "y": [
          "Mineral Salt 450"
         ],
         "yaxis": "y"
        },
        {
         "alignmentgroup": "True",
         "hovertemplate": " Ingredients=%{y}<br>Product=%{x}<extra></extra>",
         "legendgroup": "Basil",
         "marker": {
          "color": "#FECB52",
          "pattern": {
           "shape": ""
          }
         },
         "name": "Basil",
         "offsetgroup": "Basil",
         "orientation": "v",
         "showlegend": true,
         "textposition": "auto",
         "type": "bar",
         "x": [
          "Fantastic Chicken Noodle Bowl",
          "Supreme Noodles Cup Beef Flavour"
         ],
         "xaxis": "x",
         "y": [
          "Basil",
          "Basil"
         ],
         "yaxis": "y"
        },
        {
         "alignmentgroup": "True",
         "hovertemplate": " Ingredients=%{y}<br>Product=%{x}<extra></extra>",
         "legendgroup": "Colouring Agent 100",
         "marker": {
          "color": "#636efa",
          "pattern": {
           "shape": ""
          }
         },
         "name": "Colouring Agent 100",
         "offsetgroup": "Colouring Agent 100",
         "orientation": "v",
         "showlegend": true,
         "textposition": "auto",
         "type": "bar",
         "x": [
          "Fantastic Chicken Noodle Bowl"
         ],
         "xaxis": "x",
         "y": [
          "Colouring Agent 100"
         ],
         "yaxis": "y"
        },
        {
         "alignmentgroup": "True",
         "hovertemplate": " Ingredients=%{y}<br>Product=%{x}<extra></extra>",
         "legendgroup": "Antioxidant 307b",
         "marker": {
          "color": "#EF553B",
          "pattern": {
           "shape": ""
          }
         },
         "name": "Antioxidant 307b",
         "offsetgroup": "Antioxidant 307b",
         "orientation": "v",
         "showlegend": true,
         "textposition": "auto",
         "type": "bar",
         "x": [
          "Fantastic Chicken Noodle Bowl",
          "Woolworths Chocolate Chip Cookies",
          "Woolworths The King Of Chunky Chocolate Chip Cookies"
         ],
         "xaxis": "x",
         "y": [
          "Antioxidant 307b",
          "Antioxidant 307b",
          "Antioxidant 307b"
         ],
         "yaxis": "y"
        },
        {
         "alignmentgroup": "True",
         "hovertemplate": " Ingredients=%{y}<br>Product=%{x}<extra></extra>",
         "legendgroup": "Flavours",
         "marker": {
          "color": "#00cc96",
          "pattern": {
           "shape": ""
          }
         },
         "name": "Flavours",
         "offsetgroup": "Flavours",
         "orientation": "v",
         "showlegend": true,
         "textposition": "auto",
         "type": "bar",
         "x": [
          "Indomie Mi Goreng Noodle Cup",
          "Cadbury Dairy Milk Caramello Koala Chocolate",
          "Cadbury Dairy Milk Chocolate Roll",
          "Cadbury Dairy Milk Chocolate Bar",
          "Cadbury Twirl Chocolate Bar",
          "Cadbury Chomp Chocolate Bar",
          "Cadbury Choc Centre Cookies",
          "Oreo Neapolitan Double Stuff Cookies",
          "Smith's Crinkle Cut Potato Chips Barbecue",
          "Thins Chips Chicken"
         ],
         "xaxis": "x",
         "y": [
          "Flavours",
          "Flavours",
          "Flavours",
          "Flavours",
          "Flavours",
          "Flavours",
          "Flavours",
          "Flavours",
          "Flavours",
          "Flavours"
         ],
         "yaxis": "y"
        },
        {
         "alignmentgroup": "True",
         "hovertemplate": " Ingredients=%{y}<br>Product=%{x}<extra></extra>",
         "legendgroup": "Soy Sauce Powder",
         "marker": {
          "color": "#ab63fa",
          "pattern": {
           "shape": ""
          }
         },
         "name": "Soy Sauce Powder",
         "offsetgroup": "Soy Sauce Powder",
         "orientation": "v",
         "showlegend": true,
         "textposition": "auto",
         "type": "bar",
         "x": [
          "Maggi 2 Minute Beef Flavour Instant Noodles"
         ],
         "xaxis": "x",
         "y": [
          "Soy Sauce Powder"
         ],
         "yaxis": "y"
        },
        {
         "alignmentgroup": "True",
         "hovertemplate": " Ingredients=%{y}<br>Product=%{x}<extra></extra>",
         "legendgroup": "White Pepper",
         "marker": {
          "color": "#FFA15A",
          "pattern": {
           "shape": ""
          }
         },
         "name": "White Pepper",
         "offsetgroup": "White Pepper",
         "orientation": "v",
         "showlegend": true,
         "textposition": "auto",
         "type": "bar",
         "x": [
          "Maggi 2 Minute Beef Flavour Instant Noodles"
         ],
         "xaxis": "x",
         "y": [
          "White Pepper"
         ],
         "yaxis": "y"
        },
        {
         "alignmentgroup": "True",
         "hovertemplate": " Ingredients=%{y}<br>Product=%{x}<extra></extra>",
         "legendgroup": "Rosemary",
         "marker": {
          "color": "#19d3f3",
          "pattern": {
           "shape": ""
          }
         },
         "name": "Rosemary",
         "offsetgroup": "Rosemary",
         "orientation": "v",
         "showlegend": true,
         "textposition": "auto",
         "type": "bar",
         "x": [
          "Maggi 2 Minute Beef Flavour Instant Noodles"
         ],
         "xaxis": "x",
         "y": [
          "Rosemary"
         ],
         "yaxis": "y"
        },
        {
         "alignmentgroup": "True",
         "hovertemplate": " Ingredients=%{y}<br>Product=%{x}<extra></extra>",
         "legendgroup": "Colouring Agent 150c",
         "marker": {
          "color": "#FF6692",
          "pattern": {
           "shape": ""
          }
         },
         "name": "Colouring Agent 150c",
         "offsetgroup": "Colouring Agent 150c",
         "orientation": "v",
         "showlegend": true,
         "textposition": "auto",
         "type": "bar",
         "x": [
          "Supreme Noodles Cup Beef Flavour"
         ],
         "xaxis": "x",
         "y": [
          "Colouring Agent 150c"
         ],
         "yaxis": "y"
        },
        {
         "alignmentgroup": "True",
         "hovertemplate": " Ingredients=%{y}<br>Product=%{x}<extra></extra>",
         "legendgroup": "Caramel Color",
         "marker": {
          "color": "#B6E880",
          "pattern": {
           "shape": ""
          }
         },
         "name": "Caramel Color",
         "offsetgroup": "Caramel Color",
         "orientation": "v",
         "showlegend": true,
         "textposition": "auto",
         "type": "bar",
         "x": [
          "Supreme Noodles Cup Beef Flavour"
         ],
         "xaxis": "x",
         "y": [
          "Caramel Color"
         ],
         "yaxis": "y"
        },
        {
         "alignmentgroup": "True",
         "hovertemplate": " Ingredients=%{y}<br>Product=%{x}<extra></extra>",
         "legendgroup": "Carbonated Mineral Water",
         "marker": {
          "color": "#FF97FF",
          "pattern": {
           "shape": ""
          }
         },
         "name": "Carbonated Mineral Water",
         "offsetgroup": "Carbonated Mineral Water",
         "orientation": "v",
         "showlegend": true,
         "textposition": "auto",
         "type": "bar",
         "x": [
          "Schweppes Zero Sugar Lime Infused Mineral Water Bottle",
          "Schweppes Raspberry Infused Natural Mineral Water Bottle",
          "Schweppes Lemon Lime Natural Mineral Water Bottle",
          "Schweppes Orange Mango Natural Mineral Water Bottle"
         ],
         "xaxis": "x",
         "y": [
          "Carbonated Mineral Water",
          "Carbonated Mineral Water",
          "Carbonated Mineral Water",
          "Carbonated Mineral Water"
         ],
         "yaxis": "y"
        },
        {
         "alignmentgroup": "True",
         "hovertemplate": " Ingredients=%{y}<br>Product=%{x}<extra></extra>",
         "legendgroup": "Natural Flavours",
         "marker": {
          "color": "#FECB52",
          "pattern": {
           "shape": ""
          }
         },
         "name": "Natural Flavours",
         "offsetgroup": "Natural Flavours",
         "orientation": "v",
         "showlegend": true,
         "textposition": "auto",
         "type": "bar",
         "x": [
          "Schweppes Zero Sugar Lime Infused Mineral Water Bottle",
          "Schweppes Raspberry Infused Natural Mineral Water Bottle",
          "Schweppes Lemon Lime Natural Mineral Water Bottle",
          "Schweppes Orange Mango Natural Mineral Water Bottle",
          "Woolworths Breakfast Juice",
          "Woolworths Multivitamin Juice",
          "Golden Circle Golden Pash Fruit Drink",
          "Golden Circle Drinks Sunshine Punch Fruit Drink",
          "Golden Circle Fruit Drinks Lunch Box Poppers Tropical Punch Multipack",
          "Fountain Barbecue Bbq Sauce Squeeze",
          "Heinz Ketchup Tomato Sauce Ketchup",
          "Smith's Crinkle Cut Potato Chips Salt & Vinegar"
         ],
         "xaxis": "x",
         "y": [
          "Natural Flavours",
          "Natural Flavours",
          "Natural Flavours",
          "Natural Flavours",
          "Natural Flavours",
          "Natural Flavours",
          "Natural Flavours",
          "Natural Flavours",
          "Natural Flavours",
          "Natural Flavours",
          "Natural Flavours",
          "Natural Flavours"
         ],
         "yaxis": "y"
        },
        {
         "alignmentgroup": "True",
         "hovertemplate": " Ingredients=%{y}<br>Product=%{x}<extra></extra>",
         "legendgroup": "Natural Mineral Water",
         "marker": {
          "color": "#636efa",
          "pattern": {
           "shape": ""
          }
         },
         "name": "Natural Mineral Water",
         "offsetgroup": "Natural Mineral Water",
         "orientation": "v",
         "showlegend": true,
         "textposition": "auto",
         "type": "bar",
         "x": [
          "Schweppes Natural Mineral Water Bottle Natural"
         ],
         "xaxis": "x",
         "y": [
          "Natural Mineral Water"
         ],
         "yaxis": "y"
        },
        {
         "alignmentgroup": "True",
         "hovertemplate": " Ingredients=%{y}<br>Product=%{x}<extra></extra>",
         "legendgroup": "Potassium Bicarbonate",
         "marker": {
          "color": "#EF553B",
          "pattern": {
           "shape": ""
          }
         },
         "name": "Potassium Bicarbonate",
         "offsetgroup": "Potassium Bicarbonate",
         "orientation": "v",
         "showlegend": true,
         "textposition": "auto",
         "type": "bar",
         "x": [
          "Schweppes Soda Water Bottle Classic Mixers"
         ],
         "xaxis": "x",
         "y": [
          "Potassium Bicarbonate"
         ],
         "yaxis": "y"
        },
        {
         "alignmentgroup": "True",
         "hovertemplate": " Ingredients=%{y}<br>Product=%{x}<extra></extra>",
         "legendgroup": "Natural Flavour Orange Peel Extract",
         "marker": {
          "color": "#00cc96",
          "pattern": {
           "shape": ""
          }
         },
         "name": "Natural Flavour Orange Peel Extract",
         "offsetgroup": "Natural Flavour Orange Peel Extract",
         "orientation": "v",
         "showlegend": true,
         "textposition": "auto",
         "type": "bar",
         "x": [
          "Schweppes Indian Tonic Water Classic Mixers Bottle",
          "Schweppes Zero Sugar Classic Mixers Indian Tonic Water Bottle"
         ],
         "xaxis": "x",
         "y": [
          "Natural Flavour Orange Peel Extract",
          "Natural Flavour Orange Peel Extract"
         ],
         "yaxis": "y"
        },
        {
         "alignmentgroup": "True",
         "hovertemplate": " Ingredients=%{y}<br>Product=%{x}<extra></extra>",
         "legendgroup": "Natural Flavour Citrus Oils",
         "marker": {
          "color": "#ab63fa",
          "pattern": {
           "shape": ""
          }
         },
         "name": "Natural Flavour Citrus Oils",
         "offsetgroup": "Natural Flavour Citrus Oils",
         "orientation": "v",
         "showlegend": true,
         "textposition": "auto",
         "type": "bar",
         "x": [
          "Schweppes Indian Tonic Water Classic Mixers Bottle",
          "Schweppes Zero Sugar Classic Mixers Indian Tonic Water Bottle"
         ],
         "xaxis": "x",
         "y": [
          "Natural Flavour Citrus Oils",
          "Natural Flavour Citrus Oils"
         ],
         "yaxis": "y"
        },
        {
         "alignmentgroup": "True",
         "hovertemplate": " Ingredients=%{y}<br>Product=%{x}<extra></extra>",
         "legendgroup": "Natural Flavour Botanical Extracts",
         "marker": {
          "color": "#FFA15A",
          "pattern": {
           "shape": ""
          }
         },
         "name": "Natural Flavour Botanical Extracts",
         "offsetgroup": "Natural Flavour Botanical Extracts",
         "orientation": "v",
         "showlegend": true,
         "textposition": "auto",
         "type": "bar",
         "x": [
          "Schweppes Indian Tonic Water Classic Mixers Bottle",
          "Schweppes Zero Sugar Classic Mixers Indian Tonic Water Bottle"
         ],
         "xaxis": "x",
         "y": [
          "Natural Flavour Botanical Extracts",
          "Natural Flavour Botanical Extracts"
         ],
         "yaxis": "y"
        },
        {
         "alignmentgroup": "True",
         "hovertemplate": " Ingredients=%{y}<br>Product=%{x}<extra></extra>",
         "legendgroup": "Natural Flavour Lemon Peel Extract",
         "marker": {
          "color": "#19d3f3",
          "pattern": {
           "shape": ""
          }
         },
         "name": "Natural Flavour Lemon Peel Extract",
         "offsetgroup": "Natural Flavour Lemon Peel Extract",
         "orientation": "v",
         "showlegend": true,
         "textposition": "auto",
         "type": "bar",
         "x": [
          "Schweppes Indian Tonic Water Classic Mixers Bottle",
          "Schweppes Zero Sugar Classic Mixers Indian Tonic Water Bottle"
         ],
         "xaxis": "x",
         "y": [
          "Natural Flavour Lemon Peel Extract",
          "Natural Flavour Lemon Peel Extract"
         ],
         "yaxis": "y"
        },
        {
         "alignmentgroup": "True",
         "hovertemplate": " Ingredients=%{y}<br>Product=%{x}<extra></extra>",
         "legendgroup": "Quinine",
         "marker": {
          "color": "#FF6692",
          "pattern": {
           "shape": ""
          }
         },
         "name": "Quinine",
         "offsetgroup": "Quinine",
         "orientation": "v",
         "showlegend": true,
         "textposition": "auto",
         "type": "bar",
         "x": [
          "Schweppes Indian Tonic Water Classic Mixers Bottle",
          "Schweppes Zero Sugar Classic Mixers Indian Tonic Water Bottle"
         ],
         "xaxis": "x",
         "y": [
          "Quinine",
          "Quinine"
         ],
         "yaxis": "y"
        },
        {
         "alignmentgroup": "True",
         "hovertemplate": " Ingredients=%{y}<br>Product=%{x}<extra></extra>",
         "legendgroup": "Natural Flavour Lime Oils",
         "marker": {
          "color": "#B6E880",
          "pattern": {
           "shape": ""
          }
         },
         "name": "Natural Flavour Lime Oils",
         "offsetgroup": "Natural Flavour Lime Oils",
         "orientation": "v",
         "showlegend": true,
         "textposition": "auto",
         "type": "bar",
         "x": [
          "Schweppes Lime Soda Water With Lime Juice Bottle"
         ],
         "xaxis": "x",
         "y": [
          "Natural Flavour Lime Oils"
         ],
         "yaxis": "y"
        },
        {
         "alignmentgroup": "True",
         "hovertemplate": " Ingredients=%{y}<br>Product=%{x}<extra></extra>",
         "legendgroup": "Sodium Benzoate",
         "marker": {
          "color": "#FF97FF",
          "pattern": {
           "shape": ""
          }
         },
         "name": "Sodium Benzoate",
         "offsetgroup": "Sodium Benzoate",
         "orientation": "v",
         "showlegend": true,
         "textposition": "auto",
         "type": "bar",
         "x": [
          "Schweppes Lime Soda Water With Lime Juice Bottle",
          "Schweppes Lemon Lime Natural Mineral Water Bottle",
          "Schweppes Orange Mango Natural Mineral Water Bottle"
         ],
         "xaxis": "x",
         "y": [
          "Sodium Benzoate",
          "Sodium Benzoate",
          "Sodium Benzoate"
         ],
         "yaxis": "y"
        },
        {
         "alignmentgroup": "True",
         "hovertemplate": " Ingredients=%{y}<br>Product=%{x}<extra></extra>",
         "legendgroup": "Plant Extract Gardenia",
         "marker": {
          "color": "#FECB52",
          "pattern": {
           "shape": ""
          }
         },
         "name": "Plant Extract Gardenia",
         "offsetgroup": "Plant Extract Gardenia",
         "orientation": "v",
         "showlegend": true,
         "textposition": "auto",
         "type": "bar",
         "x": [
          "Schweppes Lime Soda Water With Lime Juice Bottle"
         ],
         "xaxis": "x",
         "y": [
          "Plant Extract Gardenia"
         ],
         "yaxis": "y"
        },
        {
         "alignmentgroup": "True",
         "hovertemplate": " Ingredients=%{y}<br>Product=%{x}<extra></extra>",
         "legendgroup": "Plant Extract Carthamus",
         "marker": {
          "color": "#636efa",
          "pattern": {
           "shape": ""
          }
         },
         "name": "Plant Extract Carthamus",
         "offsetgroup": "Plant Extract Carthamus",
         "orientation": "v",
         "showlegend": true,
         "textposition": "auto",
         "type": "bar",
         "x": [
          "Schweppes Lime Soda Water With Lime Juice Bottle"
         ],
         "xaxis": "x",
         "y": [
          "Plant Extract Carthamus"
         ],
         "yaxis": "y"
        },
        {
         "alignmentgroup": "True",
         "hovertemplate": " Ingredients=%{y}<br>Product=%{x}<extra></extra>",
         "legendgroup": "Sulphites",
         "marker": {
          "color": "#EF553B",
          "pattern": {
           "shape": ""
          }
         },
         "name": "Sulphites",
         "offsetgroup": "Sulphites",
         "orientation": "v",
         "showlegend": true,
         "textposition": "auto",
         "type": "bar",
         "x": [
          "Schweppes Lime Soda Water With Lime Juice Bottle",
          "Schweppes Orange Mango Natural Mineral Water Bottle"
         ],
         "xaxis": "x",
         "y": [
          "Sulphites",
          "Sulphites"
         ],
         "yaxis": "y"
        },
        {
         "alignmentgroup": "True",
         "hovertemplate": " Ingredients=%{y}<br>Product=%{x}<extra></extra>",
         "legendgroup": "Reconstituted Lime Juice",
         "marker": {
          "color": "#00cc96",
          "pattern": {
           "shape": ""
          }
         },
         "name": "Reconstituted Lime Juice",
         "offsetgroup": "Reconstituted Lime Juice",
         "orientation": "v",
         "showlegend": true,
         "textposition": "auto",
         "type": "bar",
         "x": [
          "Schweppes Lime Soda Water With Lime Juice Bottle",
          "Schweppes Lemon Lime Natural Mineral Water Bottle"
         ],
         "xaxis": "x",
         "y": [
          "Reconstituted Lime Juice",
          "Reconstituted Lime Juice"
         ],
         "yaxis": "y"
        },
        {
         "alignmentgroup": "True",
         "hovertemplate": " Ingredients=%{y}<br>Product=%{x}<extra></extra>",
         "legendgroup": "",
         "marker": {
          "color": "#ab63fa",
          "pattern": {
           "shape": ""
          }
         },
         "name": "",
         "offsetgroup": "",
         "orientation": "v",
         "showlegend": false,
         "textposition": "auto",
         "type": "bar",
         "x": [
          "Schweppes Lemon Lime Natural Mineral Water Bottle",
          "Schweppes Orange Mango Natural Mineral Water Bottle",
          "Rimmel Scandaleyes Eye Definer Brown",
          "Rimmel Scandaleyes Eye Definer Brown",
          "Rimmel Scandaleyes Eye Definer Brown",
          "Rimmel Scandaleyes Eye Definer Brown"
         ],
         "xaxis": "x",
         "y": [
          "",
          "",
          "",
          "",
          "",
          ""
         ],
         "yaxis": "y"
        },
        {
         "alignmentgroup": "True",
         "hovertemplate": " Ingredients=%{y}<br>Product=%{x}<extra></extra>",
         "legendgroup": "Potassium Sorbate",
         "marker": {
          "color": "#FFA15A",
          "pattern": {
           "shape": ""
          }
         },
         "name": "Potassium Sorbate",
         "offsetgroup": "Potassium Sorbate",
         "orientation": "v",
         "showlegend": true,
         "textposition": "auto",
         "type": "bar",
         "x": [
          "Schweppes Lemon Lime Natural Mineral Water Bottle",
          "Schweppes Orange Mango Natural Mineral Water Bottle",
          "Woolworths Secret Burger Sauce"
         ],
         "xaxis": "x",
         "y": [
          "Potassium Sorbate",
          "Potassium Sorbate",
          "Potassium Sorbate"
         ],
         "yaxis": "y"
        },
        {
         "alignmentgroup": "True",
         "hovertemplate": " Ingredients=%{y}<br>Product=%{x}<extra></extra>",
         "legendgroup": "Safflower Extract",
         "marker": {
          "color": "#19d3f3",
          "pattern": {
           "shape": ""
          }
         },
         "name": "Safflower Extract",
         "offsetgroup": "Safflower Extract",
         "orientation": "v",
         "showlegend": true,
         "textposition": "auto",
         "type": "bar",
         "x": [
          "Schweppes Lemon Lime Natural Mineral Water Bottle"
         ],
         "xaxis": "x",
         "y": [
          "Safflower Extract"
         ],
         "yaxis": "y"
        },
        {
         "alignmentgroup": "True",
         "hovertemplate": " Ingredients=%{y}<br>Product=%{x}<extra></extra>",
         "legendgroup": "Reconstituted Lemon Juice",
         "marker": {
          "color": "#FF6692",
          "pattern": {
           "shape": ""
          }
         },
         "name": "Reconstituted Lemon Juice",
         "offsetgroup": "Reconstituted Lemon Juice",
         "orientation": "v",
         "showlegend": true,
         "textposition": "auto",
         "type": "bar",
         "x": [
          "Schweppes Lemon Lime Natural Mineral Water Bottle",
          "Woolworths Multivitamin Juice"
         ],
         "xaxis": "x",
         "y": [
          "Reconstituted Lemon Juice",
          "Reconstituted Lemon Juice"
         ],
         "yaxis": "y"
        },
        {
         "alignmentgroup": "True",
         "hovertemplate": " Ingredients=%{y}<br>Product=%{x}<extra></extra>",
         "legendgroup": "Ascorbic Acid",
         "marker": {
          "color": "#B6E880",
          "pattern": {
           "shape": ""
          }
         },
         "name": "Ascorbic Acid",
         "offsetgroup": "Ascorbic Acid",
         "orientation": "v",
         "showlegend": true,
         "textposition": "auto",
         "type": "bar",
         "x": [
          "Schweppes Orange Mango Natural Mineral Water Bottle",
          "Smith's Crinkle Cut Potato Chips Original",
          "Smith's Crinkle Cut Potato Chips Chicken",
          "Smith's Thinly Cut Potato Chips Original Share Pack",
          "Smith's Crinkle Cut Potato Chips Salt & Vinegar",
          "Woolworths Peach In Strawberry Jelly",
          "Woolworths Two Fruits In Juice Cups",
          "Woolworths Two Fruits In Juice",
          "Woolworths Two Fruits In Juice",
          "Woolworths Two Fruits In Tropical Jelly",
          "Woolworths Apple In Pineapple Jelly",
          "Goulburn Valley Two Fruits In Juice",
          "Goulburn Valley Two Fruits In Juice Fruit Cups In Juice"
         ],
         "xaxis": "x",
         "y": [
          "Ascorbic Acid",
          "Ascorbic Acid",
          "Ascorbic Acid",
          "Ascorbic Acid",
          "Ascorbic Acid",
          "Ascorbic Acid",
          "Ascorbic Acid",
          "Ascorbic Acid",
          "Ascorbic Acid",
          "Ascorbic Acid",
          "Ascorbic Acid",
          "Ascorbic Acid",
          "Ascorbic Acid"
         ],
         "yaxis": "y"
        },
        {
         "alignmentgroup": "True",
         "hovertemplate": " Ingredients=%{y}<br>Product=%{x}<extra></extra>",
         "legendgroup": "Carminic Acid",
         "marker": {
          "color": "#FF97FF",
          "pattern": {
           "shape": ""
          }
         },
         "name": "Carminic Acid",
         "offsetgroup": "Carminic Acid",
         "orientation": "v",
         "showlegend": true,
         "textposition": "auto",
         "type": "bar",
         "x": [
          "Schweppes Orange Mango Natural Mineral Water Bottle"
         ],
         "xaxis": "x",
         "y": [
          "Carminic Acid"
         ],
         "yaxis": "y"
        },
        {
         "alignmentgroup": "True",
         "hovertemplate": " Ingredients=%{y}<br>Product=%{x}<extra></extra>",
         "legendgroup": "Lutein",
         "marker": {
          "color": "#FECB52",
          "pattern": {
           "shape": ""
          }
         },
         "name": "Lutein",
         "offsetgroup": "Lutein",
         "orientation": "v",
         "showlegend": true,
         "textposition": "auto",
         "type": "bar",
         "x": [
          "Schweppes Orange Mango Natural Mineral Water Bottle"
         ],
         "xaxis": "x",
         "y": [
          "Lutein"
         ],
         "yaxis": "y"
        },
        {
         "alignmentgroup": "True",
         "hovertemplate": " Ingredients=%{y}<br>Product=%{x}<extra></extra>",
         "legendgroup": "Antioxidant 385",
         "marker": {
          "color": "#636efa",
          "pattern": {
           "shape": ""
          }
         },
         "name": "Antioxidant 385",
         "offsetgroup": "Antioxidant 385",
         "orientation": "v",
         "showlegend": true,
         "textposition": "auto",
         "type": "bar",
         "x": [
          "Schweppes Orange Mango Natural Mineral Water Bottle"
         ],
         "xaxis": "x",
         "y": [
          "Antioxidant 385"
         ],
         "yaxis": "y"
        },
        {
         "alignmentgroup": "True",
         "hovertemplate": " Ingredients=%{y}<br>Product=%{x}<extra></extra>",
         "legendgroup": "Reconstituted Mango Juice",
         "marker": {
          "color": "#EF553B",
          "pattern": {
           "shape": ""
          }
         },
         "name": "Reconstituted Mango Juice",
         "offsetgroup": "Reconstituted Mango Juice",
         "orientation": "v",
         "showlegend": true,
         "textposition": "auto",
         "type": "bar",
         "x": [
          "Schweppes Orange Mango Natural Mineral Water Bottle",
          "Woolworths Apple & Mango Juice",
          "Woolworths Breakfast Juice",
          "Woolworths Multivitamin Juice"
         ],
         "xaxis": "x",
         "y": [
          "Reconstituted Mango Juice",
          "Reconstituted Mango Juice",
          "Reconstituted Mango Juice",
          "Reconstituted Mango Juice"
         ],
         "yaxis": "y"
        },
        {
         "alignmentgroup": "True",
         "hovertemplate": " Ingredients=%{y}<br>Product=%{x}<extra></extra>",
         "legendgroup": "Reconstituted Fruit Juice Orange",
         "marker": {
          "color": "#00cc96",
          "pattern": {
           "shape": ""
          }
         },
         "name": "Reconstituted Fruit Juice Orange",
         "offsetgroup": "Reconstituted Fruit Juice Orange",
         "orientation": "v",
         "showlegend": true,
         "textposition": "auto",
         "type": "bar",
         "x": [
          "Schweppes Orange Mango Natural Mineral Water Bottle",
          "Woolworths Orange Juice",
          "Woolworths Breakfast Juice",
          "Woolworths Multivitamin Juice",
          "Golden Circle Drinks Pine Orange Fruit Drink",
          "Golden Circle Drinks Sunshine Punch Fruit Drink",
          "Golden Circle Fruit Drinks Lunch Box Poppers Tropical Punch Multipack"
         ],
         "xaxis": "x",
         "y": [
          "Reconstituted Fruit Juice Orange",
          "Reconstituted Fruit Juice Orange",
          "Reconstituted Fruit Juice Orange",
          "Reconstituted Fruit Juice Orange",
          "Reconstituted Fruit Juice Orange",
          "Reconstituted Fruit Juice Orange",
          "Reconstituted Fruit Juice Orange"
         ],
         "yaxis": "y"
        },
        {
         "alignmentgroup": "True",
         "hovertemplate": " Ingredients=%{y}<br>Product=%{x}<extra></extra>",
         "legendgroup": "Milk Solids",
         "marker": {
          "color": "#ab63fa",
          "pattern": {
           "shape": ""
          }
         },
         "name": "Milk Solids",
         "offsetgroup": "Milk Solids",
         "orientation": "v",
         "showlegend": true,
         "textposition": "auto",
         "type": "bar",
         "x": [
          "Kitkat 4 Finger Milk Chocolate Bar",
          "Kitkat Chunky Original Chocolate Bar",
          "Cadbury Dairy Milk Caramello Koala Chocolate",
          "Mars Chocolate Bar With Nougat & Caramel",
          "Cadbury Dairy Milk Chocolate Roll",
          "Cadbury Dairy Milk Chocolate Bar",
          "Cadbury Twirl Chocolate Bar",
          "Cadbury Chomp Chocolate Bar",
          "Arnott's Premier Chocolate Chip Cookies",
          "Cadbury Classic Choc Chip Cookies",
          "Cadbury Choc Centre Cookies",
          "Byron Bay Cookies Dotty Cookie Bites"
         ],
         "xaxis": "x",
         "y": [
          "Milk Solids",
          "Milk Solids",
          "Milk Solids",
          "Milk Solids",
          "Milk Solids",
          "Milk Solids",
          "Milk Solids",
          "Milk Solids",
          "Milk Solids",
          "Milk Solids",
          "Milk Solids",
          "Milk Solids"
         ],
         "yaxis": "y"
        },
        {
         "alignmentgroup": "True",
         "hovertemplate": " Ingredients=%{y}<br>Product=%{x}<extra></extra>",
         "legendgroup": "Cocoa Butter",
         "marker": {
          "color": "#FFA15A",
          "pattern": {
           "shape": ""
          }
         },
         "name": "Cocoa Butter",
         "offsetgroup": "Cocoa Butter",
         "orientation": "v",
         "showlegend": true,
         "textposition": "auto",
         "type": "bar",
         "x": [
          "Kitkat 4 Finger Milk Chocolate Bar",
          "Kitkat Chunky Original Chocolate Bar",
          "Cadbury Dairy Milk Caramello Koala Chocolate",
          "Mars Chocolate Bar With Nougat & Caramel",
          "Cadbury Dairy Milk Chocolate Roll",
          "Cadbury Dairy Milk Chocolate Bar",
          "Cadbury Twirl Chocolate Bar",
          "Arnott's Premier Chocolate Chip Cookies",
          "Woolworths The King Of Chunky Chocolate Chip Cookies",
          "Arnott's Mini Choc Chip Cookie Multipack Biscuits",
          "Cadbury Classic Choc Chip Cookies",
          "Cadbury Choc Centre Cookies"
         ],
         "xaxis": "x",
         "y": [
          "Cocoa Butter",
          "Cocoa Butter",
          "Cocoa Butter",
          "Cocoa Butter",
          "Cocoa Butter",
          "Cocoa Butter",
          "Cocoa Butter",
          "Cocoa Butter",
          "Cocoa Butter",
          "Cocoa Butter",
          "Cocoa Butter",
          "Cocoa Butter"
         ],
         "yaxis": "y"
        },
        {
         "alignmentgroup": "True",
         "hovertemplate": " Ingredients=%{y}<br>Product=%{x}<extra></extra>",
         "legendgroup": "Emulsifier Soy Lecithin",
         "marker": {
          "color": "#19d3f3",
          "pattern": {
           "shape": ""
          }
         },
         "name": "Emulsifier Soy Lecithin",
         "offsetgroup": "Emulsifier Soy Lecithin",
         "orientation": "v",
         "showlegend": true,
         "textposition": "auto",
         "type": "bar",
         "x": [
          "Kitkat 4 Finger Milk Chocolate Bar",
          "Kitkat Chunky Original Chocolate Bar",
          "Cadbury Dairy Milk Caramello Koala Chocolate",
          "Mars Chocolate Bar With Nougat & Caramel",
          "Cadbury Dairy Milk Chocolate Roll",
          "Cadbury Dairy Milk Chocolate Bar",
          "Cadbury Twirl Chocolate Bar",
          "Cadbury Chomp Chocolate Bar",
          "Arnott's Premier Chocolate Chip Cookies",
          "Woolworths Chocolate Chip Cookies",
          "Woolworths The King Of Chunky Chocolate Chip Cookies",
          "Arnott's Mini Choc Chip Cookie Multipack Biscuits",
          "Oreo Original Mini Cookies Multipack",
          "Oreo Minis Cookies Variety Bags 18 Pack",
          "Cadbury Choc Centre Cookies",
          "Byron Bay Cookies Dotty Cookie Bites",
          "Oreo Original Cookies",
          "Oreo Double Stuff Cookies",
          "Oreo Original Cookies Family Pack",
          "Oreo Chocolate Cookies",
          "Oreo Grab & Go Original Cookies 9 Pack",
          "Oreo Neapolitan Double Stuff Cookies"
         ],
         "xaxis": "x",
         "y": [
          "Emulsifier Soy Lecithin",
          "Emulsifier Soy Lecithin",
          "Emulsifier Soy Lecithin",
          "Emulsifier Soy Lecithin",
          "Emulsifier Soy Lecithin",
          "Emulsifier Soy Lecithin",
          "Emulsifier Soy Lecithin",
          "Emulsifier Soy Lecithin",
          "Emulsifier Soy Lecithin",
          "Emulsifier Soy Lecithin",
          "Emulsifier Soy Lecithin",
          "Emulsifier Soy Lecithin",
          "Emulsifier Soy Lecithin",
          "Emulsifier Soy Lecithin",
          "Emulsifier Soy Lecithin",
          "Emulsifier Soy Lecithin",
          "Emulsifier Soy Lecithin",
          "Emulsifier Soy Lecithin",
          "Emulsifier Soy Lecithin",
          "Emulsifier Soy Lecithin",
          "Emulsifier Soy Lecithin",
          "Emulsifier Soy Lecithin"
         ],
         "yaxis": "y"
        },
        {
         "alignmentgroup": "True",
         "hovertemplate": " Ingredients=%{y}<br>Product=%{x}<extra></extra>",
         "legendgroup": "Cocoa Mass",
         "marker": {
          "color": "#FF6692",
          "pattern": {
           "shape": ""
          }
         },
         "name": "Cocoa Mass",
         "offsetgroup": "Cocoa Mass",
         "orientation": "v",
         "showlegend": true,
         "textposition": "auto",
         "type": "bar",
         "x": [
          "Kitkat 4 Finger Milk Chocolate Bar",
          "Kitkat Chunky Original Chocolate Bar",
          "Cadbury Dairy Milk Caramello Koala Chocolate",
          "Mars Chocolate Bar With Nougat & Caramel",
          "Cadbury Dairy Milk Chocolate Roll",
          "Cadbury Dairy Milk Chocolate Bar",
          "Cadbury Twirl Chocolate Bar",
          "Arnott's Premier Chocolate Chip Cookies",
          "Woolworths The King Of Chunky Chocolate Chip Cookies",
          "Arnott's Mini Choc Chip Cookie Multipack Biscuits",
          "Cadbury Classic Choc Chip Cookies",
          "Cadbury Choc Centre Cookies"
         ],
         "xaxis": "x",
         "y": [
          "Cocoa Mass",
          "Cocoa Mass",
          "Cocoa Mass",
          "Cocoa Mass",
          "Cocoa Mass",
          "Cocoa Mass",
          "Cocoa Mass",
          "Cocoa Mass",
          "Cocoa Mass",
          "Cocoa Mass",
          "Cocoa Mass",
          "Cocoa Mass"
         ],
         "yaxis": "y"
        },
        {
         "alignmentgroup": "True",
         "hovertemplate": " Ingredients=%{y}<br>Product=%{x}<extra></extra>",
         "legendgroup": "Milk",
         "marker": {
          "color": "#B6E880",
          "pattern": {
           "shape": ""
          }
         },
         "name": "Milk",
         "offsetgroup": "Milk",
         "orientation": "v",
         "showlegend": true,
         "textposition": "auto",
         "type": "bar",
         "x": [
          "Kitkat 4 Finger Milk Chocolate Bar",
          "Kitkat Chunky Original Chocolate Bar",
          "Woolworths Chocolate Chip Cookies",
          "Dairy Farmers Full Cream Milk Full Cream Milk",
          "Dairy Farmers Full Cream Milk Full Cream Milk",
          "A2 Milk Full Cream Milk",
          "A2 Milk Full Cream Milk",
          "Woolworths Creamed Rice"
         ],
         "xaxis": "x",
         "y": [
          "Milk",
          "Milk",
          "Milk",
          "Milk",
          "Milk",
          "Milk",
          "Milk",
          "Milk"
         ],
         "yaxis": "y"
        },
        {
         "alignmentgroup": "True",
         "hovertemplate": " Ingredients=%{y}<br>Product=%{x}<extra></extra>",
         "legendgroup": "Polyglycerol Polyricinoleate",
         "marker": {
          "color": "#FF97FF",
          "pattern": {
           "shape": ""
          }
         },
         "name": "Polyglycerol Polyricinoleate",
         "offsetgroup": "Polyglycerol Polyricinoleate",
         "orientation": "v",
         "showlegend": true,
         "textposition": "auto",
         "type": "bar",
         "x": [
          "Kitkat 4 Finger Milk Chocolate Bar",
          "Kitkat Chunky Original Chocolate Bar",
          "Cadbury Dairy Milk Caramello Koala Chocolate",
          "Cadbury Dairy Milk Chocolate Roll",
          "Cadbury Dairy Milk Chocolate Bar",
          "Cadbury Twirl Chocolate Bar",
          "Cadbury Chomp Chocolate Bar",
          "Byron Bay Cookies Dotty Cookie Bites"
         ],
         "xaxis": "x",
         "y": [
          "Polyglycerol Polyricinoleate",
          "Polyglycerol Polyricinoleate",
          "Polyglycerol Polyricinoleate",
          "Polyglycerol Polyricinoleate",
          "Polyglycerol Polyricinoleate",
          "Polyglycerol Polyricinoleate",
          "Polyglycerol Polyricinoleate",
          "Polyglycerol Polyricinoleate"
         ],
         "yaxis": "y"
        },
        {
         "alignmentgroup": "True",
         "hovertemplate": " Ingredients=%{y}<br>Product=%{x}<extra></extra>",
         "legendgroup": "Cocoa",
         "marker": {
          "color": "#FECB52",
          "pattern": {
           "shape": ""
          }
         },
         "name": "Cocoa",
         "offsetgroup": "Cocoa",
         "orientation": "v",
         "showlegend": true,
         "textposition": "auto",
         "type": "bar",
         "x": [
          "Kitkat 4 Finger Milk Chocolate Bar",
          "Kitkat Chunky Original Chocolate Bar"
         ],
         "xaxis": "x",
         "y": [
          "Cocoa",
          "Cocoa"
         ],
         "yaxis": "y"
        },
        {
         "alignmentgroup": "True",
         "hovertemplate": " Ingredients=%{y}<br>Product=%{x}<extra></extra>",
         "legendgroup": "Yeast",
         "marker": {
          "color": "#636efa",
          "pattern": {
           "shape": ""
          }
         },
         "name": "Yeast",
         "offsetgroup": "Yeast",
         "orientation": "v",
         "showlegend": true,
         "textposition": "auto",
         "type": "bar",
         "x": [
          "Kitkat 4 Finger Milk Chocolate Bar",
          "Kitkat Chunky Original Chocolate Bar",
          "Thins Cheese & Onion Chips"
         ],
         "xaxis": "x",
         "y": [
          "Yeast",
          "Yeast",
          "Yeast"
         ],
         "yaxis": "y"
        },
        {
         "alignmentgroup": "True",
         "hovertemplate": " Ingredients=%{y}<br>Product=%{x}<extra></extra>",
         "legendgroup": "Processing Aid Wheat",
         "marker": {
          "color": "#EF553B",
          "pattern": {
           "shape": ""
          }
         },
         "name": "Processing Aid Wheat",
         "offsetgroup": "Processing Aid Wheat",
         "orientation": "v",
         "showlegend": true,
         "textposition": "auto",
         "type": "bar",
         "x": [
          "Kitkat 4 Finger Milk Chocolate Bar"
         ],
         "xaxis": "x",
         "y": [
          "Processing Aid Wheat"
         ],
         "yaxis": "y"
        },
        {
         "alignmentgroup": "True",
         "hovertemplate": " Ingredients=%{y}<br>Product=%{x}<extra></extra>",
         "legendgroup": "Choc Paste",
         "marker": {
          "color": "#00cc96",
          "pattern": {
           "shape": ""
          }
         },
         "name": "Choc Paste",
         "offsetgroup": "Choc Paste",
         "orientation": "v",
         "showlegend": true,
         "textposition": "auto",
         "type": "bar",
         "x": [
          "Kitkat Chunky Original Chocolate Bar"
         ],
         "xaxis": "x",
         "y": [
          "Choc Paste"
         ],
         "yaxis": "y"
        },
        {
         "alignmentgroup": "True",
         "hovertemplate": " Ingredients=%{y}<br>Product=%{x}<extra></extra>",
         "legendgroup": "Full Cream Milk",
         "marker": {
          "color": "#ab63fa",
          "pattern": {
           "shape": ""
          }
         },
         "name": "Full Cream Milk",
         "offsetgroup": "Full Cream Milk",
         "orientation": "v",
         "showlegend": true,
         "textposition": "auto",
         "type": "bar",
         "x": [
          "Cadbury Dairy Milk Caramello Koala Chocolate",
          "Cadbury Dairy Milk Chocolate Roll",
          "Cadbury Dairy Milk Chocolate Bar",
          "Cadbury Twirl Chocolate Bar",
          "Woolworths Full Cream Milk",
          "Woolworths Full Cream Milk",
          "Pauls Farmhouse Gold Full Cream Milk"
         ],
         "xaxis": "x",
         "y": [
          "Full Cream Milk",
          "Full Cream Milk",
          "Full Cream Milk",
          "Full Cream Milk",
          "Full Cream Milk",
          "Full Cream Milk",
          "Full Cream Milk"
         ],
         "yaxis": "y"
        },
        {
         "alignmentgroup": "True",
         "hovertemplate": " Ingredients=%{y}<br>Product=%{x}<extra></extra>",
         "legendgroup": "Glucose Syrup",
         "marker": {
          "color": "#FFA15A",
          "pattern": {
           "shape": ""
          }
         },
         "name": "Glucose Syrup",
         "offsetgroup": "Glucose Syrup",
         "orientation": "v",
         "showlegend": true,
         "textposition": "auto",
         "type": "bar",
         "x": [
          "Cadbury Dairy Milk Caramello Koala Chocolate",
          "Cadbury Classic Choc Chip Cookies",
          "Masterfoods Barbecue Sauce"
         ],
         "xaxis": "x",
         "y": [
          "Glucose Syrup",
          "Glucose Syrup",
          "Glucose Syrup"
         ],
         "yaxis": "y"
        },
        {
         "alignmentgroup": "True",
         "hovertemplate": " Ingredients=%{y}<br>Product=%{x}<extra></extra>",
         "legendgroup": "Sweetened Condensed Milk",
         "marker": {
          "color": "#19d3f3",
          "pattern": {
           "shape": ""
          }
         },
         "name": "Sweetened Condensed Milk",
         "offsetgroup": "Sweetened Condensed Milk",
         "orientation": "v",
         "showlegend": true,
         "textposition": "auto",
         "type": "bar",
         "x": [
          "Cadbury Dairy Milk Caramello Koala Chocolate",
          "Cadbury Chomp Chocolate Bar"
         ],
         "xaxis": "x",
         "y": [
          "Sweetened Condensed Milk",
          "Sweetened Condensed Milk"
         ],
         "yaxis": "y"
        },
        {
         "alignmentgroup": "True",
         "hovertemplate": " Ingredients=%{y}<br>Product=%{x}<extra></extra>",
         "legendgroup": "Golden Syrup",
         "marker": {
          "color": "#FF6692",
          "pattern": {
           "shape": ""
          }
         },
         "name": "Golden Syrup",
         "offsetgroup": "Golden Syrup",
         "orientation": "v",
         "showlegend": true,
         "textposition": "auto",
         "type": "bar",
         "x": [
          "Cadbury Dairy Milk Caramello Koala Chocolate"
         ],
         "xaxis": "x",
         "y": [
          "Golden Syrup"
         ],
         "yaxis": "y"
        },
        {
         "alignmentgroup": "True",
         "hovertemplate": " Ingredients=%{y}<br>Product=%{x}<extra></extra>",
         "legendgroup": "Invert Sugar",
         "marker": {
          "color": "#B6E880",
          "pattern": {
           "shape": ""
          }
         },
         "name": "Invert Sugar",
         "offsetgroup": "Invert Sugar",
         "orientation": "v",
         "showlegend": true,
         "textposition": "auto",
         "type": "bar",
         "x": [
          "Cadbury Dairy Milk Caramello Koala Chocolate"
         ],
         "xaxis": "x",
         "y": [
          "Invert Sugar"
         ],
         "yaxis": "y"
        },
        {
         "alignmentgroup": "True",
         "hovertemplate": " Ingredients=%{y}<br>Product=%{x}<extra></extra>",
         "legendgroup": "Acidity Regulator 331",
         "marker": {
          "color": "#FF97FF",
          "pattern": {
           "shape": ""
          }
         },
         "name": "Acidity Regulator 331",
         "offsetgroup": "Acidity Regulator 331",
         "orientation": "v",
         "showlegend": true,
         "textposition": "auto",
         "type": "bar",
         "x": [
          "Cadbury Dairy Milk Caramello Koala Chocolate"
         ],
         "xaxis": "x",
         "y": [
          "Acidity Regulator 331"
         ],
         "yaxis": "y"
        },
        {
         "alignmentgroup": "True",
         "hovertemplate": " Ingredients=%{y}<br>Product=%{x}<extra></extra>",
         "legendgroup": "Milk Chocolate",
         "marker": {
          "color": "#FECB52",
          "pattern": {
           "shape": ""
          }
         },
         "name": "Milk Chocolate",
         "offsetgroup": "Milk Chocolate",
         "orientation": "v",
         "showlegend": true,
         "textposition": "auto",
         "type": "bar",
         "x": [
          "Twix Milk Chocolate Bar With Caramel Biscuit"
         ],
         "xaxis": "x",
         "y": [
          "Milk Chocolate"
         ],
         "yaxis": "y"
        },
        {
         "alignmentgroup": "True",
         "hovertemplate": " Ingredients=%{y}<br>Product=%{x}<extra></extra>",
         "legendgroup": "Caramel",
         "marker": {
          "color": "#636efa",
          "pattern": {
           "shape": ""
          }
         },
         "name": "Caramel",
         "offsetgroup": "Caramel",
         "orientation": "v",
         "showlegend": true,
         "textposition": "auto",
         "type": "bar",
         "x": [
          "Twix Milk Chocolate Bar With Caramel Biscuit"
         ],
         "xaxis": "x",
         "y": [
          "Caramel"
         ],
         "yaxis": "y"
        },
        {
         "alignmentgroup": "True",
         "hovertemplate": " Ingredients=%{y}<br>Product=%{x}<extra></extra>",
         "legendgroup": "Biscuit",
         "marker": {
          "color": "#EF553B",
          "pattern": {
           "shape": ""
          }
         },
         "name": "Biscuit",
         "offsetgroup": "Biscuit",
         "orientation": "v",
         "showlegend": true,
         "textposition": "auto",
         "type": "bar",
         "x": [
          "Twix Milk Chocolate Bar With Caramel Biscuit"
         ],
         "xaxis": "x",
         "y": [
          "Biscuit"
         ],
         "yaxis": "y"
        },
        {
         "alignmentgroup": "True",
         "hovertemplate": " Ingredients=%{y}<br>Product=%{x}<extra></extra>",
         "legendgroup": "Wheat Glucose Syrup",
         "marker": {
          "color": "#00cc96",
          "pattern": {
           "shape": ""
          }
         },
         "name": "Wheat Glucose Syrup",
         "offsetgroup": "Wheat Glucose Syrup",
         "orientation": "v",
         "showlegend": true,
         "textposition": "auto",
         "type": "bar",
         "x": [
          "Mars Chocolate Bar With Nougat & Caramel",
          "Cadbury Chomp Chocolate Bar"
         ],
         "xaxis": "x",
         "y": [
          "Wheat Glucose Syrup",
          "Wheat Glucose Syrup"
         ],
         "yaxis": "y"
        },
        {
         "alignmentgroup": "True",
         "hovertemplate": " Ingredients=%{y}<br>Product=%{x}<extra></extra>",
         "legendgroup": "Barley Malt Extract",
         "marker": {
          "color": "#ab63fa",
          "pattern": {
           "shape": ""
          }
         },
         "name": "Barley Malt Extract",
         "offsetgroup": "Barley Malt Extract",
         "orientation": "v",
         "showlegend": true,
         "textposition": "auto",
         "type": "bar",
         "x": [
          "Mars Chocolate Bar With Nougat & Caramel"
         ],
         "xaxis": "x",
         "y": [
          "Barley Malt Extract"
         ],
         "yaxis": "y"
        },
        {
         "alignmentgroup": "True",
         "hovertemplate": " Ingredients=%{y}<br>Product=%{x}<extra></extra>",
         "legendgroup": "Egg White",
         "marker": {
          "color": "#FFA15A",
          "pattern": {
           "shape": ""
          }
         },
         "name": "Egg White",
         "offsetgroup": "Egg White",
         "orientation": "v",
         "showlegend": true,
         "textposition": "auto",
         "type": "bar",
         "x": [
          "Mars Chocolate Bar With Nougat & Caramel"
         ],
         "xaxis": "x",
         "y": [
          "Egg White"
         ],
         "yaxis": "y"
        },
        {
         "alignmentgroup": "True",
         "hovertemplate": " Ingredients=%{y}<br>Product=%{x}<extra></extra>",
         "legendgroup": "Natural Flavour Vanilla Extract",
         "marker": {
          "color": "#19d3f3",
          "pattern": {
           "shape": ""
          }
         },
         "name": "Natural Flavour Vanilla Extract",
         "offsetgroup": "Natural Flavour Vanilla Extract",
         "orientation": "v",
         "showlegend": true,
         "textposition": "auto",
         "type": "bar",
         "x": [
          "Mars Chocolate Bar With Nougat & Caramel"
         ],
         "xaxis": "x",
         "y": [
          "Natural Flavour Vanilla Extract"
         ],
         "yaxis": "y"
        },
        {
         "alignmentgroup": "True",
         "hovertemplate": " Ingredients=%{y}<br>Product=%{x}<extra></extra>",
         "legendgroup": "Cocoa Powder",
         "marker": {
          "color": "#FF6692",
          "pattern": {
           "shape": ""
          }
         },
         "name": "Cocoa Powder",
         "offsetgroup": "Cocoa Powder",
         "orientation": "v",
         "showlegend": true,
         "textposition": "auto",
         "type": "bar",
         "x": [
          "Cadbury Chomp Chocolate Bar",
          "Oreo Original Mini Cookies Multipack",
          "Oreo Minis Cookies Variety Bags 18 Pack",
          "Cadbury Choc Centre Cookies",
          "Byron Bay Cookies Dotty Cookie Bites",
          "Oreo Original Cookies",
          "Oreo Double Stuff Cookies",
          "Oreo Original Cookies Family Pack",
          "Oreo Chocolate Cookies",
          "Oreo Grab & Go Original Cookies 9 Pack",
          "Oreo Neapolitan Double Stuff Cookies"
         ],
         "xaxis": "x",
         "y": [
          "Cocoa Powder",
          "Cocoa Powder",
          "Cocoa Powder",
          "Cocoa Powder",
          "Cocoa Powder",
          "Cocoa Powder",
          "Cocoa Powder",
          "Cocoa Powder",
          "Cocoa Powder",
          "Cocoa Powder",
          "Cocoa Powder"
         ],
         "yaxis": "y"
        },
        {
         "alignmentgroup": "True",
         "hovertemplate": " Ingredients=%{y}<br>Product=%{x}<extra></extra>",
         "legendgroup": "Sorbitan Tristearate",
         "marker": {
          "color": "#B6E880",
          "pattern": {
           "shape": ""
          }
         },
         "name": "Sorbitan Tristearate",
         "offsetgroup": "Sorbitan Tristearate",
         "orientation": "v",
         "showlegend": true,
         "textposition": "auto",
         "type": "bar",
         "x": [
          "Cadbury Chomp Chocolate Bar",
          "Byron Bay Cookies Dotty Cookie Bites"
         ],
         "xaxis": "x",
         "y": [
          "Sorbitan Tristearate",
          "Sorbitan Tristearate"
         ],
         "yaxis": "y"
        },
        {
         "alignmentgroup": "True",
         "hovertemplate": " Ingredients=%{y}<br>Product=%{x}<extra></extra>",
         "legendgroup": "Emulsifier 471",
         "marker": {
          "color": "#FF97FF",
          "pattern": {
           "shape": ""
          }
         },
         "name": "Emulsifier 471",
         "offsetgroup": "Emulsifier 471",
         "orientation": "v",
         "showlegend": true,
         "textposition": "auto",
         "type": "bar",
         "x": [
          "Cadbury Chomp Chocolate Bar"
         ],
         "xaxis": "x",
         "y": [
          "Emulsifier 471"
         ],
         "yaxis": "y"
        },
        {
         "alignmentgroup": "True",
         "hovertemplate": " Ingredients=%{y}<br>Product=%{x}<extra></extra>",
         "legendgroup": "Enzymes",
         "marker": {
          "color": "#FECB52",
          "pattern": {
           "shape": ""
          }
         },
         "name": "Enzymes",
         "offsetgroup": "Enzymes",
         "orientation": "v",
         "showlegend": true,
         "textposition": "auto",
         "type": "bar",
         "x": [
          "Cadbury Chomp Chocolate Bar"
         ],
         "xaxis": "x",
         "y": [
          "Enzymes"
         ],
         "yaxis": "y"
        },
        {
         "alignmentgroup": "True",
         "hovertemplate": " Ingredients=%{y}<br>Product=%{x}<extra></extra>",
         "legendgroup": "Polyglycerol polyricinoleate",
         "marker": {
          "color": "#636efa",
          "pattern": {
           "shape": ""
          }
         },
         "name": "Polyglycerol polyricinoleate",
         "offsetgroup": "Polyglycerol polyricinoleate",
         "orientation": "v",
         "showlegend": true,
         "textposition": "auto",
         "type": "bar",
         "x": [
          "Arnott's Premier Chocolate Chip Cookies"
         ],
         "xaxis": "x",
         "y": [
          "Polyglycerol polyricinoleate"
         ],
         "yaxis": "y"
        },
        {
         "alignmentgroup": "True",
         "hovertemplate": " Ingredients=%{y}<br>Product=%{x}<extra></extra>",
         "legendgroup": "Desiccated Coconut",
         "marker": {
          "color": "#EF553B",
          "pattern": {
           "shape": ""
          }
         },
         "name": "Desiccated Coconut",
         "offsetgroup": "Desiccated Coconut",
         "orientation": "v",
         "showlegend": true,
         "textposition": "auto",
         "type": "bar",
         "x": [
          "Arnott's Premier Chocolate Chip Cookies",
          "Arnott's Mini Choc Chip Cookie Multipack Biscuits"
         ],
         "xaxis": "x",
         "y": [
          "Desiccated Coconut",
          "Desiccated Coconut"
         ],
         "yaxis": "y"
        },
        {
         "alignmentgroup": "True",
         "hovertemplate": " Ingredients=%{y}<br>Product=%{x}<extra></extra>",
         "legendgroup": "Wheat Starch",
         "marker": {
          "color": "#00cc96",
          "pattern": {
           "shape": ""
          }
         },
         "name": "Wheat Starch",
         "offsetgroup": "Wheat Starch",
         "orientation": "v",
         "showlegend": true,
         "textposition": "auto",
         "type": "bar",
         "x": [
          "Arnott's Premier Chocolate Chip Cookies",
          "Cadbury Choc Centre Cookies"
         ],
         "xaxis": "x",
         "y": [
          "Wheat Starch",
          "Wheat Starch"
         ],
         "yaxis": "y"
        },
        {
         "alignmentgroup": "True",
         "hovertemplate": " Ingredients=%{y}<br>Product=%{x}<extra></extra>",
         "legendgroup": "Baking Powder",
         "marker": {
          "color": "#ab63fa",
          "pattern": {
           "shape": ""
          }
         },
         "name": "Baking Powder",
         "offsetgroup": "Baking Powder",
         "orientation": "v",
         "showlegend": true,
         "textposition": "auto",
         "type": "bar",
         "x": [
          "Arnott's Premier Chocolate Chip Cookies",
          "Arnott's Mini Choc Chip Cookie Multipack Biscuits"
         ],
         "xaxis": "x",
         "y": [
          "Baking Powder",
          "Baking Powder"
         ],
         "yaxis": "y"
        },
        {
         "alignmentgroup": "True",
         "hovertemplate": " Ingredients=%{y}<br>Product=%{x}<extra></extra>",
         "legendgroup": "Colouring Agent Caramel IV",
         "marker": {
          "color": "#FFA15A",
          "pattern": {
           "shape": ""
          }
         },
         "name": "Colouring Agent Caramel IV",
         "offsetgroup": "Colouring Agent Caramel IV",
         "orientation": "v",
         "showlegend": true,
         "textposition": "auto",
         "type": "bar",
         "x": [
          "Arnott's Premier Chocolate Chip Cookies"
         ],
         "xaxis": "x",
         "y": [
          "Colouring Agent Caramel IV"
         ],
         "yaxis": "y"
        },
        {
         "alignmentgroup": "True",
         "hovertemplate": " Ingredients=%{y}<br>Product=%{x}<extra></extra>",
         "legendgroup": "Antioxidant E307B",
         "marker": {
          "color": "#19d3f3",
          "pattern": {
           "shape": ""
          }
         },
         "name": "Antioxidant E307B",
         "offsetgroup": "Antioxidant E307B",
         "orientation": "v",
         "showlegend": true,
         "textposition": "auto",
         "type": "bar",
         "x": [
          "Arnott's Premier Chocolate Chip Cookies",
          "Arnott's Mini Choc Chip Cookie Multipack Biscuits"
         ],
         "xaxis": "x",
         "y": [
          "Antioxidant E307B",
          "Antioxidant E307B"
         ],
         "yaxis": "y"
        },
        {
         "alignmentgroup": "True",
         "hovertemplate": " Ingredients=%{y}<br>Product=%{x}<extra></extra>",
         "legendgroup": "Dark Compound Chocolate Chips",
         "marker": {
          "color": "#FF6692",
          "pattern": {
           "shape": ""
          }
         },
         "name": "Dark Compound Chocolate Chips",
         "offsetgroup": "Dark Compound Chocolate Chips",
         "orientation": "v",
         "showlegend": true,
         "textposition": "auto",
         "type": "bar",
         "x": [
          "Woolworths Chocolate Chip Cookies"
         ],
         "xaxis": "x",
         "y": [
          "Dark Compound Chocolate Chips"
         ],
         "yaxis": "y"
        },
        {
         "alignmentgroup": "True",
         "hovertemplate": " Ingredients=%{y}<br>Product=%{x}<extra></extra>",
         "legendgroup": "Palm Oil",
         "marker": {
          "color": "#B6E880",
          "pattern": {
           "shape": ""
          }
         },
         "name": "Palm Oil",
         "offsetgroup": "Palm Oil",
         "orientation": "v",
         "showlegend": true,
         "textposition": "auto",
         "type": "bar",
         "x": [
          "Woolworths Chocolate Chip Cookies",
          "Woolworths The King Of Chunky Chocolate Chip Cookies"
         ],
         "xaxis": "x",
         "y": [
          "Palm Oil",
          "Palm Oil"
         ],
         "yaxis": "y"
        },
        {
         "alignmentgroup": "True",
         "hovertemplate": " Ingredients=%{y}<br>Product=%{x}<extra></extra>",
         "legendgroup": "Cocoa Solids",
         "marker": {
          "color": "#FF97FF",
          "pattern": {
           "shape": ""
          }
         },
         "name": "Cocoa Solids",
         "offsetgroup": "Cocoa Solids",
         "orientation": "v",
         "showlegend": true,
         "textposition": "auto",
         "type": "bar",
         "x": [
          "Woolworths Chocolate Chip Cookies"
         ],
         "xaxis": "x",
         "y": [
          "Cocoa Solids"
         ],
         "yaxis": "y"
        },
        {
         "alignmentgroup": "True",
         "hovertemplate": " Ingredients=%{y}<br>Product=%{x}<extra></extra>",
         "legendgroup": "Natural Flavour",
         "marker": {
          "color": "#FECB52",
          "pattern": {
           "shape": ""
          }
         },
         "name": "Natural Flavour",
         "offsetgroup": "Natural Flavour",
         "orientation": "v",
         "showlegend": true,
         "textposition": "auto",
         "type": "bar",
         "x": [
          "Woolworths Chocolate Chip Cookies",
          "Arnott's Mini Choc Chip Cookie Multipack Biscuits",
          "Woolworths Apple Juice",
          "Woolworths Apple & Mango Juice",
          "Woolworths Orange Juice",
          "Woolworths Apple & Blackcurrant Juice",
          "Golden Circle Drinks Pine Orange Fruit Drink",
          "Woolworths Tomato Sauce Squeeze",
          "Woolworths Tomato Sauce",
          "Fountain Tomato Sauce Squeeze",
          "Woolworths Barbecue Sauce",
          "Thins Chips Salt & Vinegar",
          "Thins Cheese & Onion Chips"
         ],
         "xaxis": "x",
         "y": [
          "Natural Flavour",
          "Natural Flavour",
          "Natural Flavour",
          "Natural Flavour",
          "Natural Flavour",
          "Natural Flavour",
          "Natural Flavour",
          "Natural Flavour",
          "Natural Flavour",
          "Natural Flavour",
          "Natural Flavour",
          "Natural Flavour",
          "Natural Flavour"
         ],
         "yaxis": "y"
        },
        {
         "alignmentgroup": "True",
         "hovertemplate": " Ingredients=%{y}<br>Product=%{x}<extra></extra>",
         "legendgroup": "Wheaten Corn Flour",
         "marker": {
          "color": "#636efa",
          "pattern": {
           "shape": ""
          }
         },
         "name": "Wheaten Corn Flour",
         "offsetgroup": "Wheaten Corn Flour",
         "orientation": "v",
         "showlegend": true,
         "textposition": "auto",
         "type": "bar",
         "x": [
          "Woolworths Chocolate Chip Cookies"
         ],
         "xaxis": "x",
         "y": [
          "Wheaten Corn Flour"
         ],
         "yaxis": "y"
        },
        {
         "alignmentgroup": "True",
         "hovertemplate": " Ingredients=%{y}<br>Product=%{x}<extra></extra>",
         "legendgroup": "Whole Egg Powder",
         "marker": {
          "color": "#EF553B",
          "pattern": {
           "shape": ""
          }
         },
         "name": "Whole Egg Powder",
         "offsetgroup": "Whole Egg Powder",
         "orientation": "v",
         "showlegend": true,
         "textposition": "auto",
         "type": "bar",
         "x": [
          "Woolworths Chocolate Chip Cookies"
         ],
         "xaxis": "x",
         "y": [
          "Whole Egg Powder"
         ],
         "yaxis": "y"
        },
        {
         "alignmentgroup": "True",
         "hovertemplate": " Ingredients=%{y}<br>Product=%{x}<extra></extra>",
         "legendgroup": "Milk Whey Powder",
         "marker": {
          "color": "#00cc96",
          "pattern": {
           "shape": ""
          }
         },
         "name": "Milk Whey Powder",
         "offsetgroup": "Milk Whey Powder",
         "orientation": "v",
         "showlegend": true,
         "textposition": "auto",
         "type": "bar",
         "x": [
          "Woolworths Chocolate Chip Cookies",
          "Woolworths The King Of Chunky Chocolate Chip Cookies",
          "Smith's Crinkle Cut Potato Chips Cheese & Onion",
          "Thins Chips Light & Tangy",
          "Thins Cheese & Onion Chips"
         ],
         "xaxis": "x",
         "y": [
          "Milk Whey Powder",
          "Milk Whey Powder",
          "Milk Whey Powder",
          "Milk Whey Powder",
          "Milk Whey Powder"
         ],
         "yaxis": "y"
        },
        {
         "alignmentgroup": "True",
         "hovertemplate": " Ingredients=%{y}<br>Product=%{x}<extra></extra>",
         "legendgroup": "Annatto Extracts",
         "marker": {
          "color": "#ab63fa",
          "pattern": {
           "shape": ""
          }
         },
         "name": "Annatto Extracts",
         "offsetgroup": "Annatto Extracts",
         "orientation": "v",
         "showlegend": true,
         "textposition": "auto",
         "type": "bar",
         "x": [
          "Woolworths Chocolate Chip Cookies"
         ],
         "xaxis": "x",
         "y": [
          "Annatto Extracts"
         ],
         "yaxis": "y"
        },
        {
         "alignmentgroup": "True",
         "hovertemplate": " Ingredients=%{y}<br>Product=%{x}<extra></extra>",
         "legendgroup": "Sodium Carbonate",
         "marker": {
          "color": "#FFA15A",
          "pattern": {
           "shape": ""
          }
         },
         "name": "Sodium Carbonate",
         "offsetgroup": "Sodium Carbonate",
         "orientation": "v",
         "showlegend": true,
         "textposition": "auto",
         "type": "bar",
         "x": [
          "Woolworths Chocolate Chip Cookies",
          "Woolworths The King Of Chunky Chocolate Chip Cookies"
         ],
         "xaxis": "x",
         "y": [
          "Sodium Carbonate",
          "Sodium Carbonate"
         ],
         "yaxis": "y"
        },
        {
         "alignmentgroup": "True",
         "hovertemplate": " Ingredients=%{y}<br>Product=%{x}<extra></extra>",
         "legendgroup": "Ammonium Carbonate",
         "marker": {
          "color": "#19d3f3",
          "pattern": {
           "shape": ""
          }
         },
         "name": "Ammonium Carbonate",
         "offsetgroup": "Ammonium Carbonate",
         "orientation": "v",
         "showlegend": true,
         "textposition": "auto",
         "type": "bar",
         "x": [
          "Woolworths Chocolate Chip Cookies",
          "Woolworths The King Of Chunky Chocolate Chip Cookies"
         ],
         "xaxis": "x",
         "y": [
          "Ammonium Carbonate",
          "Ammonium Carbonate"
         ],
         "yaxis": "y"
        },
        {
         "alignmentgroup": "True",
         "hovertemplate": " Ingredients=%{y}<br>Product=%{x}<extra></extra>",
         "legendgroup": "Dark Chocolate Chips",
         "marker": {
          "color": "#FF6692",
          "pattern": {
           "shape": ""
          }
         },
         "name": "Dark Chocolate Chips",
         "offsetgroup": "Dark Chocolate Chips",
         "orientation": "v",
         "showlegend": true,
         "textposition": "auto",
         "type": "bar",
         "x": [
          "Woolworths The King Of Chunky Chocolate Chip Cookies"
         ],
         "xaxis": "x",
         "y": [
          "Dark Chocolate Chips"
         ],
         "yaxis": "y"
        },
        {
         "alignmentgroup": "True",
         "hovertemplate": " Ingredients=%{y}<br>Product=%{x}<extra></extra>",
         "legendgroup": "Natural Vanilla Flavour",
         "marker": {
          "color": "#B6E880",
          "pattern": {
           "shape": ""
          }
         },
         "name": "Natural Vanilla Flavour",
         "offsetgroup": "Natural Vanilla Flavour",
         "orientation": "v",
         "showlegend": true,
         "textposition": "auto",
         "type": "bar",
         "x": [
          "Woolworths The King Of Chunky Chocolate Chip Cookies",
          "Byron Bay Cookies Dotty Cookie Bites",
          "Woolworths Creamed Rice"
         ],
         "xaxis": "x",
         "y": [
          "Natural Vanilla Flavour",
          "Natural Vanilla Flavour",
          "Natural Vanilla Flavour"
         ],
         "yaxis": "y"
        },
        {
         "alignmentgroup": "True",
         "hovertemplate": " Ingredients=%{y}<br>Product=%{x}<extra></extra>",
         "legendgroup": "Milk Butter",
         "marker": {
          "color": "#FF97FF",
          "pattern": {
           "shape": ""
          }
         },
         "name": "Milk Butter",
         "offsetgroup": "Milk Butter",
         "orientation": "v",
         "showlegend": true,
         "textposition": "auto",
         "type": "bar",
         "x": [
          "Woolworths The King Of Chunky Chocolate Chip Cookies",
          "Arnott's Mini Choc Chip Cookie Multipack Biscuits",
          "Byron Bay Cookies Dotty Cookie Bites"
         ],
         "xaxis": "x",
         "y": [
          "Milk Butter",
          "Milk Butter",
          "Milk Butter"
         ],
         "yaxis": "y"
        },
        {
         "alignmentgroup": "True",
         "hovertemplate": " Ingredients=%{y}<br>Product=%{x}<extra></extra>",
         "legendgroup": "Natural Flavour Vanilla",
         "marker": {
          "color": "#FECB52",
          "pattern": {
           "shape": ""
          }
         },
         "name": "Natural Flavour Vanilla",
         "offsetgroup": "Natural Flavour Vanilla",
         "orientation": "v",
         "showlegend": true,
         "textposition": "auto",
         "type": "bar",
         "x": [
          "Woolworths The King Of Chunky Chocolate Chip Cookies"
         ],
         "xaxis": "x",
         "y": [
          "Natural Flavour Vanilla"
         ],
         "yaxis": "y"
        },
        {
         "alignmentgroup": "True",
         "hovertemplate": " Ingredients=%{y}<br>Product=%{x}<extra></extra>",
         "legendgroup": "Natural Flavour Butter",
         "marker": {
          "color": "#636efa",
          "pattern": {
           "shape": ""
          }
         },
         "name": "Natural Flavour Butter",
         "offsetgroup": "Natural Flavour Butter",
         "orientation": "v",
         "showlegend": true,
         "textposition": "auto",
         "type": "bar",
         "x": [
          "Woolworths The King Of Chunky Chocolate Chip Cookies"
         ],
         "xaxis": "x",
         "y": [
          "Natural Flavour Butter"
         ],
         "yaxis": "y"
        },
        {
         "alignmentgroup": "True",
         "hovertemplate": " Ingredients=%{y}<br>Product=%{x}<extra></extra>",
         "legendgroup": "Chocolate Chips",
         "marker": {
          "color": "#EF553B",
          "pattern": {
           "shape": ""
          }
         },
         "name": "Chocolate Chips",
         "offsetgroup": "Chocolate Chips",
         "orientation": "v",
         "showlegend": true,
         "textposition": "auto",
         "type": "bar",
         "x": [
          "Arnott's Mini Choc Chip Cookie Multipack Biscuits"
         ],
         "xaxis": "x",
         "y": [
          "Chocolate Chips"
         ],
         "yaxis": "y"
        },
        {
         "alignmentgroup": "True",
         "hovertemplate": " Ingredients=%{y}<br>Product=%{x}<extra></extra>",
         "legendgroup": "Skim Milk Powder",
         "marker": {
          "color": "#00cc96",
          "pattern": {
           "shape": ""
          }
         },
         "name": "Skim Milk Powder",
         "offsetgroup": "Skim Milk Powder",
         "orientation": "v",
         "showlegend": true,
         "textposition": "auto",
         "type": "bar",
         "x": [
          "Arnott's Mini Choc Chip Cookie Multipack Biscuits"
         ],
         "xaxis": "x",
         "y": [
          "Skim Milk Powder"
         ],
         "yaxis": "y"
        },
        {
         "alignmentgroup": "True",
         "hovertemplate": " Ingredients=%{y}<br>Product=%{x}<extra></extra>",
         "legendgroup": "Fructose Syrup",
         "marker": {
          "color": "#ab63fa",
          "pattern": {
           "shape": ""
          }
         },
         "name": "Fructose Syrup",
         "offsetgroup": "Fructose Syrup",
         "orientation": "v",
         "showlegend": true,
         "textposition": "auto",
         "type": "bar",
         "x": [
          "Oreo Original Mini Cookies Multipack",
          "Oreo Minis Cookies Variety Bags 18 Pack",
          "Oreo Original Cookies",
          "Oreo Double Stuff Cookies",
          "Oreo Original Cookies Family Pack",
          "Oreo Chocolate Cookies",
          "Oreo Neapolitan Double Stuff Cookies"
         ],
         "xaxis": "x",
         "y": [
          "Fructose Syrup",
          "Fructose Syrup",
          "Fructose Syrup",
          "Fructose Syrup",
          "Fructose Syrup",
          "Fructose Syrup",
          "Fructose Syrup"
         ],
         "yaxis": "y"
        },
        {
         "alignmentgroup": "True",
         "hovertemplate": " Ingredients=%{y}<br>Product=%{x}<extra></extra>",
         "legendgroup": "Cornstarch",
         "marker": {
          "color": "#FFA15A",
          "pattern": {
           "shape": ""
          }
         },
         "name": "Cornstarch",
         "offsetgroup": "Cornstarch",
         "orientation": "v",
         "showlegend": true,
         "textposition": "auto",
         "type": "bar",
         "x": [
          "Oreo Original Mini Cookies Multipack",
          "Oreo Minis Cookies Variety Bags 18 Pack",
          "Byron Bay Cookies Dotty Cookie Bites",
          "Oreo Original Cookies",
          "Oreo Double Stuff Cookies",
          "Oreo Original Cookies Family Pack",
          "Oreo Chocolate Cookies",
          "Oreo Grab & Go Original Cookies 9 Pack",
          "Oreo Neapolitan Double Stuff Cookies"
         ],
         "xaxis": "x",
         "y": [
          "Cornstarch",
          "Cornstarch",
          "Cornstarch",
          "Cornstarch",
          "Cornstarch",
          "Cornstarch",
          "Cornstarch",
          "Cornstarch",
          "Cornstarch"
         ],
         "yaxis": "y"
        },
        {
         "alignmentgroup": "True",
         "hovertemplate": " Ingredients=%{y}<br>Product=%{x}<extra></extra>",
         "legendgroup": "Ammonium Bicarbonate",
         "marker": {
          "color": "#19d3f3",
          "pattern": {
           "shape": ""
          }
         },
         "name": "Ammonium Bicarbonate",
         "offsetgroup": "Ammonium Bicarbonate",
         "orientation": "v",
         "showlegend": true,
         "textposition": "auto",
         "type": "bar",
         "x": [
          "Oreo Original Mini Cookies Multipack",
          "Oreo Minis Cookies Variety Bags 18 Pack",
          "Cadbury Classic Choc Chip Cookies",
          "Cadbury Choc Centre Cookies",
          "Oreo Original Cookies",
          "Oreo Double Stuff Cookies",
          "Oreo Original Cookies Family Pack",
          "Oreo Chocolate Cookies",
          "Oreo Grab & Go Original Cookies 9 Pack",
          "Oreo Neapolitan Double Stuff Cookies"
         ],
         "xaxis": "x",
         "y": [
          "Ammonium Bicarbonate",
          "Ammonium Bicarbonate",
          "Ammonium Bicarbonate",
          "Ammonium Bicarbonate",
          "Ammonium Bicarbonate",
          "Ammonium Bicarbonate",
          "Ammonium Bicarbonate",
          "Ammonium Bicarbonate",
          "Ammonium Bicarbonate",
          "Ammonium Bicarbonate"
         ],
         "yaxis": "y"
        },
        {
         "alignmentgroup": "True",
         "hovertemplate": " Ingredients=%{y}<br>Product=%{x}<extra></extra>",
         "legendgroup": "Mineral Iron",
         "marker": {
          "color": "#FF6692",
          "pattern": {
           "shape": ""
          }
         },
         "name": "Mineral Iron",
         "offsetgroup": "Mineral Iron",
         "orientation": "v",
         "showlegend": true,
         "textposition": "auto",
         "type": "bar",
         "x": [
          "Oreo Original Mini Cookies Multipack",
          "Oreo Minis Cookies Variety Bags 18 Pack",
          "Oreo Original Cookies",
          "Oreo Double Stuff Cookies",
          "Oreo Original Cookies Family Pack",
          "Oreo Chocolate Cookies",
          "Oreo Grab & Go Original Cookies 9 Pack",
          "Oreo Neapolitan Double Stuff Cookies"
         ],
         "xaxis": "x",
         "y": [
          "Mineral Iron",
          "Mineral Iron",
          "Mineral Iron",
          "Mineral Iron",
          "Mineral Iron",
          "Mineral Iron",
          "Mineral Iron",
          "Mineral Iron"
         ],
         "yaxis": "y"
        },
        {
         "alignmentgroup": "True",
         "hovertemplate": " Ingredients=%{y}<br>Product=%{x}<extra></extra>",
         "legendgroup": "Zinc",
         "marker": {
          "color": "#B6E880",
          "pattern": {
           "shape": ""
          }
         },
         "name": "Zinc",
         "offsetgroup": "Zinc",
         "orientation": "v",
         "showlegend": true,
         "textposition": "auto",
         "type": "bar",
         "x": [
          "Oreo Original Mini Cookies Multipack",
          "Oreo Minis Cookies Variety Bags 18 Pack",
          "Oreo Original Cookies",
          "Oreo Double Stuff Cookies",
          "Oreo Original Cookies Family Pack",
          "Oreo Chocolate Cookies",
          "Oreo Grab & Go Original Cookies 9 Pack",
          "Oreo Neapolitan Double Stuff Cookies"
         ],
         "xaxis": "x",
         "y": [
          "Zinc",
          "Zinc",
          "Zinc",
          "Zinc",
          "Zinc",
          "Zinc",
          "Zinc",
          "Zinc"
         ],
         "yaxis": "y"
        },
        {
         "alignmentgroup": "True",
         "hovertemplate": " Ingredients=%{y}<br>Product=%{x}<extra></extra>",
         "legendgroup": "Riboflavin",
         "marker": {
          "color": "#FF97FF",
          "pattern": {
           "shape": ""
          }
         },
         "name": "Riboflavin",
         "offsetgroup": "Riboflavin",
         "orientation": "v",
         "showlegend": true,
         "textposition": "auto",
         "type": "bar",
         "x": [
          "Oreo Original Mini Cookies Multipack",
          "Oreo Minis Cookies Variety Bags 18 Pack",
          "Oreo Original Cookies",
          "Oreo Double Stuff Cookies",
          "Oreo Original Cookies Family Pack",
          "Oreo Chocolate Cookies",
          "Oreo Grab & Go Original Cookies 9 Pack",
          "Oreo Neapolitan Double Stuff Cookies"
         ],
         "xaxis": "x",
         "y": [
          "Riboflavin",
          "Riboflavin",
          "Riboflavin",
          "Riboflavin",
          "Riboflavin",
          "Riboflavin",
          "Riboflavin",
          "Riboflavin"
         ],
         "yaxis": "y"
        },
        {
         "alignmentgroup": "True",
         "hovertemplate": " Ingredients=%{y}<br>Product=%{x}<extra></extra>",
         "legendgroup": "Thiamin",
         "marker": {
          "color": "#FECB52",
          "pattern": {
           "shape": ""
          }
         },
         "name": "Thiamin",
         "offsetgroup": "Thiamin",
         "orientation": "v",
         "showlegend": true,
         "textposition": "auto",
         "type": "bar",
         "x": [
          "Oreo Original Mini Cookies Multipack",
          "Oreo Minis Cookies Variety Bags 18 Pack",
          "Oreo Original Cookies",
          "Oreo Double Stuff Cookies",
          "Oreo Original Cookies Family Pack",
          "Oreo Chocolate Cookies",
          "Oreo Grab & Go Original Cookies 9 Pack",
          "Oreo Neapolitan Double Stuff Cookies"
         ],
         "xaxis": "x",
         "y": [
          "Thiamin",
          "Thiamin",
          "Thiamin",
          "Thiamin",
          "Thiamin",
          "Thiamin",
          "Thiamin",
          "Thiamin"
         ],
         "yaxis": "y"
        },
        {
         "alignmentgroup": "True",
         "hovertemplate": " Ingredients=%{y}<br>Product=%{x}<extra></extra>",
         "legendgroup": "Folate",
         "marker": {
          "color": "#636efa",
          "pattern": {
           "shape": ""
          }
         },
         "name": "Folate",
         "offsetgroup": "Folate",
         "orientation": "v",
         "showlegend": true,
         "textposition": "auto",
         "type": "bar",
         "x": [
          "Oreo Original Mini Cookies Multipack",
          "Oreo Minis Cookies Variety Bags 18 Pack",
          "Oreo Original Cookies",
          "Woolworths Multivitamin Juice",
          "Oreo Double Stuff Cookies",
          "Oreo Original Cookies Family Pack",
          "Oreo Chocolate Cookies",
          "Oreo Grab & Go Original Cookies 9 Pack",
          "Oreo Neapolitan Double Stuff Cookies"
         ],
         "xaxis": "x",
         "y": [
          "Folate",
          "Folate",
          "Folate",
          "Folate",
          "Folate",
          "Folate",
          "Folate",
          "Folate",
          "Folate"
         ],
         "yaxis": "y"
        },
        {
         "alignmentgroup": "True",
         "hovertemplate": " Ingredients=%{y}<br>Product=%{x}<extra></extra>",
         "legendgroup": "Strawberry",
         "marker": {
          "color": "#EF553B",
          "pattern": {
           "shape": ""
          }
         },
         "name": "Strawberry",
         "offsetgroup": "Strawberry",
         "orientation": "v",
         "showlegend": true,
         "textposition": "auto",
         "type": "bar",
         "x": [
          "Oreo Minis Cookies Variety Bags 18 Pack"
         ],
         "xaxis": "x",
         "y": [
          "Strawberry"
         ],
         "yaxis": "y"
        },
        {
         "alignmentgroup": "True",
         "hovertemplate": " Ingredients=%{y}<br>Product=%{x}<extra></extra>",
         "legendgroup": "Carmine",
         "marker": {
          "color": "#00cc96",
          "pattern": {
           "shape": ""
          }
         },
         "name": "Carmine",
         "offsetgroup": "Carmine",
         "orientation": "v",
         "showlegend": true,
         "textposition": "auto",
         "type": "bar",
         "x": [
          "Oreo Minis Cookies Variety Bags 18 Pack",
          "Rimmel Scandaleyes Eye Definer Brown",
          "Oreo Neapolitan Double Stuff Cookies"
         ],
         "xaxis": "x",
         "y": [
          "Carmine",
          "Carmine",
          "Carmine"
         ],
         "yaxis": "y"
        },
        {
         "alignmentgroup": "True",
         "hovertemplate": " Ingredients=%{y}<br>Product=%{x}<extra></extra>",
         "legendgroup": "Milk Chocolate Chips",
         "marker": {
          "color": "#ab63fa",
          "pattern": {
           "shape": ""
          }
         },
         "name": "Milk Chocolate Chips",
         "offsetgroup": "Milk Chocolate Chips",
         "orientation": "v",
         "showlegend": true,
         "textposition": "auto",
         "type": "bar",
         "x": [
          "Cadbury Classic Choc Chip Cookies",
          "Cadbury Choc Centre Cookies"
         ],
         "xaxis": "x",
         "y": [
          "Milk Chocolate Chips",
          "Milk Chocolate Chips"
         ],
         "yaxis": "y"
        },
        {
         "alignmentgroup": "True",
         "hovertemplate": " Ingredients=%{y}<br>Product=%{x}<extra></extra>",
         "legendgroup": "Dextrose",
         "marker": {
          "color": "#FFA15A",
          "pattern": {
           "shape": ""
          }
         },
         "name": "Dextrose",
         "offsetgroup": "Dextrose",
         "orientation": "v",
         "showlegend": true,
         "textposition": "auto",
         "type": "bar",
         "x": [
          "Cadbury Classic Choc Chip Cookies",
          "Cadbury Choc Centre Cookies",
          "Smith's Crinkle Cut Potato Chips Cheese & Onion",
          "Smith's Crinkle Cut Potato Chips Salt & Vinegar"
         ],
         "xaxis": "x",
         "y": [
          "Dextrose",
          "Dextrose",
          "Dextrose",
          "Dextrose"
         ],
         "yaxis": "y"
        },
        {
         "alignmentgroup": "True",
         "hovertemplate": " Ingredients=%{y}<br>Product=%{x}<extra></extra>",
         "legendgroup": "Emulsifier 442",
         "marker": {
          "color": "#19d3f3",
          "pattern": {
           "shape": ""
          }
         },
         "name": "Emulsifier 442",
         "offsetgroup": "Emulsifier 442",
         "orientation": "v",
         "showlegend": true,
         "textposition": "auto",
         "type": "bar",
         "x": [
          "Cadbury Classic Choc Chip Cookies",
          "Cadbury Choc Centre Cookies"
         ],
         "xaxis": "x",
         "y": [
          "Emulsifier 442",
          "Emulsifier 442"
         ],
         "yaxis": "y"
        },
        {
         "alignmentgroup": "True",
         "hovertemplate": " Ingredients=%{y}<br>Product=%{x}<extra></extra>",
         "legendgroup": "Egg",
         "marker": {
          "color": "#FF6692",
          "pattern": {
           "shape": ""
          }
         },
         "name": "Egg",
         "offsetgroup": "Egg",
         "orientation": "v",
         "showlegend": true,
         "textposition": "auto",
         "type": "bar",
         "x": [
          "Cadbury Classic Choc Chip Cookies",
          "Byron Bay Cookies Dotty Cookie Bites"
         ],
         "xaxis": "x",
         "y": [
          "Egg",
          "Egg"
         ],
         "yaxis": "y"
        },
        {
         "alignmentgroup": "True",
         "hovertemplate": " Ingredients=%{y}<br>Product=%{x}<extra></extra>",
         "legendgroup": "Stabiliser 422",
         "marker": {
          "color": "#B6E880",
          "pattern": {
           "shape": ""
          }
         },
         "name": "Stabiliser 422",
         "offsetgroup": "Stabiliser 422",
         "orientation": "v",
         "showlegend": true,
         "textposition": "auto",
         "type": "bar",
         "x": [
          "Cadbury Classic Choc Chip Cookies"
         ],
         "xaxis": "x",
         "y": [
          "Stabiliser 422"
         ],
         "yaxis": "y"
        },
        {
         "alignmentgroup": "True",
         "hovertemplate": " Ingredients=%{y}<br>Product=%{x}<extra></extra>",
         "legendgroup": "Soybean Fibre",
         "marker": {
          "color": "#FF97FF",
          "pattern": {
           "shape": ""
          }
         },
         "name": "Soybean Fibre",
         "offsetgroup": "Soybean Fibre",
         "orientation": "v",
         "showlegend": true,
         "textposition": "auto",
         "type": "bar",
         "x": [
          "Cadbury Classic Choc Chip Cookies",
          "Cadbury Choc Centre Cookies"
         ],
         "xaxis": "x",
         "y": [
          "Soybean Fibre",
          "Soybean Fibre"
         ],
         "yaxis": "y"
        },
        {
         "alignmentgroup": "True",
         "hovertemplate": " Ingredients=%{y}<br>Product=%{x}<extra></extra>",
         "legendgroup": "Thickener 1422",
         "marker": {
          "color": "#FECB52",
          "pattern": {
           "shape": ""
          }
         },
         "name": "Thickener 1422",
         "offsetgroup": "Thickener 1422",
         "orientation": "v",
         "showlegend": true,
         "textposition": "auto",
         "type": "bar",
         "x": [
          "Cadbury Classic Choc Chip Cookies",
          "Woolworths Secret Burger Sauce"
         ],
         "xaxis": "x",
         "y": [
          "Thickener 1422",
          "Thickener 1422"
         ],
         "yaxis": "y"
        },
        {
         "alignmentgroup": "True",
         "hovertemplate": " Ingredients=%{y}<br>Product=%{x}<extra></extra>",
         "legendgroup": "Raising Agent 450",
         "marker": {
          "color": "#636efa",
          "pattern": {
           "shape": ""
          }
         },
         "name": "Raising Agent 450",
         "offsetgroup": "Raising Agent 450",
         "orientation": "v",
         "showlegend": true,
         "textposition": "auto",
         "type": "bar",
         "x": [
          "Cadbury Classic Choc Chip Cookies",
          "Cadbury Choc Centre Cookies",
          "Byron Bay Cookies Dotty Cookie Bites"
         ],
         "xaxis": "x",
         "y": [
          "Raising Agent 450",
          "Raising Agent 450",
          "Raising Agent 450"
         ],
         "yaxis": "y"
        },
        {
         "alignmentgroup": "True",
         "hovertemplate": " Ingredients=%{y}<br>Product=%{x}<extra></extra>",
         "legendgroup": "Colouring Agent 160a",
         "marker": {
          "color": "#EF553B",
          "pattern": {
           "shape": ""
          }
         },
         "name": "Colouring Agent 160a",
         "offsetgroup": "Colouring Agent 160a",
         "orientation": "v",
         "showlegend": true,
         "textposition": "auto",
         "type": "bar",
         "x": [
          "Cadbury Classic Choc Chip Cookies",
          "Cadbury Choc Centre Cookies"
         ],
         "xaxis": "x",
         "y": [
          "Colouring Agent 160a",
          "Colouring Agent 160a"
         ],
         "yaxis": "y"
        },
        {
         "alignmentgroup": "True",
         "hovertemplate": " Ingredients=%{y}<br>Product=%{x}<extra></extra>",
         "legendgroup": "Thickener 1414",
         "marker": {
          "color": "#00cc96",
          "pattern": {
           "shape": ""
          }
         },
         "name": "Thickener 1414",
         "offsetgroup": "Thickener 1414",
         "orientation": "v",
         "showlegend": true,
         "textposition": "auto",
         "type": "bar",
         "x": [
          "Cadbury Choc Centre Cookies"
         ],
         "xaxis": "x",
         "y": [
          "Thickener 1414"
         ],
         "yaxis": "y"
        },
        {
         "alignmentgroup": "True",
         "hovertemplate": " Ingredients=%{y}<br>Product=%{x}<extra></extra>",
         "legendgroup": "Milk Compound Chocolate",
         "marker": {
          "color": "#ab63fa",
          "pattern": {
           "shape": ""
          }
         },
         "name": "Milk Compound Chocolate",
         "offsetgroup": "Milk Compound Chocolate",
         "orientation": "v",
         "showlegend": true,
         "textposition": "auto",
         "type": "bar",
         "x": [
          "Byron Bay Cookies Dotty Cookie Bites"
         ],
         "xaxis": "x",
         "y": [
          "Milk Compound Chocolate"
         ],
         "yaxis": "y"
        },
        {
         "alignmentgroup": "True",
         "hovertemplate": " Ingredients=%{y}<br>Product=%{x}<extra></extra>",
         "legendgroup": "Glazing Agent 414",
         "marker": {
          "color": "#FFA15A",
          "pattern": {
           "shape": ""
          }
         },
         "name": "Glazing Agent 414",
         "offsetgroup": "Glazing Agent 414",
         "orientation": "v",
         "showlegend": true,
         "textposition": "auto",
         "type": "bar",
         "x": [
          "Byron Bay Cookies Dotty Cookie Bites"
         ],
         "xaxis": "x",
         "y": [
          "Glazing Agent 414"
         ],
         "yaxis": "y"
        },
        {
         "alignmentgroup": "True",
         "hovertemplate": " Ingredients=%{y}<br>Product=%{x}<extra></extra>",
         "legendgroup": "Carnauba Wax",
         "marker": {
          "color": "#19d3f3",
          "pattern": {
           "shape": ""
          }
         },
         "name": "Carnauba Wax",
         "offsetgroup": "Carnauba Wax",
         "orientation": "v",
         "showlegend": true,
         "textposition": "auto",
         "type": "bar",
         "x": [
          "Byron Bay Cookies Dotty Cookie Bites"
         ],
         "xaxis": "x",
         "y": [
          "Carnauba Wax"
         ],
         "yaxis": "y"
        },
        {
         "alignmentgroup": "True",
         "hovertemplate": " Ingredients=%{y}<br>Product=%{x}<extra></extra>",
         "legendgroup": "Colouring Agent Titan White",
         "marker": {
          "color": "#FF6692",
          "pattern": {
           "shape": ""
          }
         },
         "name": "Colouring Agent Titan White",
         "offsetgroup": "Colouring Agent Titan White",
         "orientation": "v",
         "showlegend": true,
         "textposition": "auto",
         "type": "bar",
         "x": [
          "Byron Bay Cookies Dotty Cookie Bites"
         ],
         "xaxis": "x",
         "y": [
          "Colouring Agent Titan White"
         ],
         "yaxis": "y"
        },
        {
         "alignmentgroup": "True",
         "hovertemplate": " Ingredients=%{y}<br>Product=%{x}<extra></extra>",
         "legendgroup": "Colouring Agent Spirulina Extract",
         "marker": {
          "color": "#B6E880",
          "pattern": {
           "shape": ""
          }
         },
         "name": "Colouring Agent Spirulina Extract",
         "offsetgroup": "Colouring Agent Spirulina Extract",
         "orientation": "v",
         "showlegend": true,
         "textposition": "auto",
         "type": "bar",
         "x": [
          "Byron Bay Cookies Dotty Cookie Bites"
         ],
         "xaxis": "x",
         "y": [
          "Colouring Agent Spirulina Extract"
         ],
         "yaxis": "y"
        },
        {
         "alignmentgroup": "True",
         "hovertemplate": " Ingredients=%{y}<br>Product=%{x}<extra></extra>",
         "legendgroup": "Beta carotene",
         "marker": {
          "color": "#FF97FF",
          "pattern": {
           "shape": ""
          }
         },
         "name": "Beta carotene",
         "offsetgroup": "Beta carotene",
         "orientation": "v",
         "showlegend": true,
         "textposition": "auto",
         "type": "bar",
         "x": [
          "Byron Bay Cookies Dotty Cookie Bites"
         ],
         "xaxis": "x",
         "y": [
          "Beta carotene"
         ],
         "yaxis": "y"
        },
        {
         "alignmentgroup": "True",
         "hovertemplate": " Ingredients=%{y}<br>Product=%{x}<extra></extra>",
         "legendgroup": "Red Beetroot Powder",
         "marker": {
          "color": "#FECB52",
          "pattern": {
           "shape": ""
          }
         },
         "name": "Red Beetroot Powder",
         "offsetgroup": "Red Beetroot Powder",
         "orientation": "v",
         "showlegend": true,
         "textposition": "auto",
         "type": "bar",
         "x": [
          "Byron Bay Cookies Dotty Cookie Bites"
         ],
         "xaxis": "x",
         "y": [
          "Red Beetroot Powder"
         ],
         "yaxis": "y"
        },
        {
         "alignmentgroup": "True",
         "hovertemplate": " Ingredients=%{y}<br>Product=%{x}<extra></extra>",
         "legendgroup": "Black Carrot Extract",
         "marker": {
          "color": "#636efa",
          "pattern": {
           "shape": ""
          }
         },
         "name": "Black Carrot Extract",
         "offsetgroup": "Black Carrot Extract",
         "orientation": "v",
         "showlegend": true,
         "textposition": "auto",
         "type": "bar",
         "x": [
          "Byron Bay Cookies Dotty Cookie Bites"
         ],
         "xaxis": "x",
         "y": [
          "Black Carrot Extract"
         ],
         "yaxis": "y"
        },
        {
         "alignmentgroup": "True",
         "hovertemplate": " Ingredients=%{y}<br>Product=%{x}<extra></extra>",
         "legendgroup": "Cultured Dextrose",
         "marker": {
          "color": "#EF553B",
          "pattern": {
           "shape": ""
          }
         },
         "name": "Cultured Dextrose",
         "offsetgroup": "Cultured Dextrose",
         "orientation": "v",
         "showlegend": true,
         "textposition": "auto",
         "type": "bar",
         "x": [
          "Byron Bay Cookies Dotty Cookie Bites"
         ],
         "xaxis": "x",
         "y": [
          "Cultured Dextrose"
         ],
         "yaxis": "y"
        },
        {
         "alignmentgroup": "True",
         "hovertemplate": " Ingredients=%{y}<br>Product=%{x}<extra></extra>",
         "legendgroup": "Maize Starch",
         "marker": {
          "color": "#00cc96",
          "pattern": {
           "shape": ""
          }
         },
         "name": "Maize Starch",
         "offsetgroup": "Maize Starch",
         "orientation": "v",
         "showlegend": true,
         "textposition": "auto",
         "type": "bar",
         "x": [
          "Byron Bay Cookies Dotty Cookie Bites"
         ],
         "xaxis": "x",
         "y": [
          "Maize Starch"
         ],
         "yaxis": "y"
        },
        {
         "alignmentgroup": "True",
         "hovertemplate": " Ingredients=%{y}<br>Product=%{x}<extra></extra>",
         "legendgroup": "Polyethylene",
         "marker": {
          "color": "#ab63fa",
          "pattern": {
           "shape": ""
          }
         },
         "name": "Polyethylene",
         "offsetgroup": "Polyethylene",
         "orientation": "v",
         "showlegend": true,
         "textposition": "auto",
         "type": "bar",
         "x": [
          "Rimmel Scandaleyes Eye Definer Brown"
         ],
         "xaxis": "x",
         "y": [
          "Polyethylene"
         ],
         "yaxis": "y"
        },
        {
         "alignmentgroup": "True",
         "hovertemplate": " Ingredients=%{y}<br>Product=%{x}<extra></extra>",
         "legendgroup": "Synthetic Wax",
         "marker": {
          "color": "#FFA15A",
          "pattern": {
           "shape": ""
          }
         },
         "name": "Synthetic Wax",
         "offsetgroup": "Synthetic Wax",
         "orientation": "v",
         "showlegend": true,
         "textposition": "auto",
         "type": "bar",
         "x": [
          "Rimmel Scandaleyes Eye Definer Brown"
         ],
         "xaxis": "x",
         "y": [
          "Synthetic Wax"
         ],
         "yaxis": "y"
        },
        {
         "alignmentgroup": "True",
         "hovertemplate": " Ingredients=%{y}<br>Product=%{x}<extra></extra>",
         "legendgroup": "Bis-Diglyceryl Polyacyladipate-2",
         "marker": {
          "color": "#19d3f3",
          "pattern": {
           "shape": ""
          }
         },
         "name": "Bis-Diglyceryl Polyacyladipate-2",
         "offsetgroup": "Bis-Diglyceryl Polyacyladipate-2",
         "orientation": "v",
         "showlegend": true,
         "textposition": "auto",
         "type": "bar",
         "x": [
          "Rimmel Scandaleyes Eye Definer Brown"
         ],
         "xaxis": "x",
         "y": [
          "Bis-Diglyceryl Polyacyladipate-2"
         ],
         "yaxis": "y"
        },
        {
         "alignmentgroup": "True",
         "hovertemplate": " Ingredients=%{y}<br>Product=%{x}<extra></extra>",
         "legendgroup": "Polybutene",
         "marker": {
          "color": "#FF6692",
          "pattern": {
           "shape": ""
          }
         },
         "name": "Polybutene",
         "offsetgroup": "Polybutene",
         "orientation": "v",
         "showlegend": true,
         "textposition": "auto",
         "type": "bar",
         "x": [
          "Rimmel Scandaleyes Eye Definer Brown"
         ],
         "xaxis": "x",
         "y": [
          "Polybutene"
         ],
         "yaxis": "y"
        },
        {
         "alignmentgroup": "True",
         "hovertemplate": " Ingredients=%{y}<br>Product=%{x}<extra></extra>",
         "legendgroup": "Silica",
         "marker": {
          "color": "#B6E880",
          "pattern": {
           "shape": ""
          }
         },
         "name": "Silica",
         "offsetgroup": "Silica",
         "orientation": "v",
         "showlegend": true,
         "textposition": "auto",
         "type": "bar",
         "x": [
          "Rimmel Scandaleyes Eye Definer Brown"
         ],
         "xaxis": "x",
         "y": [
          "Silica"
         ],
         "yaxis": "y"
        },
        {
         "alignmentgroup": "True",
         "hovertemplate": " Ingredients=%{y}<br>Product=%{x}<extra></extra>",
         "legendgroup": "Octyldodecanol",
         "marker": {
          "color": "#FF97FF",
          "pattern": {
           "shape": ""
          }
         },
         "name": "Octyldodecanol",
         "offsetgroup": "Octyldodecanol",
         "orientation": "v",
         "showlegend": true,
         "textposition": "auto",
         "type": "bar",
         "x": [
          "Rimmel Scandaleyes Eye Definer Brown"
         ],
         "xaxis": "x",
         "y": [
          "Octyldodecanol"
         ],
         "yaxis": "y"
        },
        {
         "alignmentgroup": "True",
         "hovertemplate": " Ingredients=%{y}<br>Product=%{x}<extra></extra>",
         "legendgroup": "Pentaerythrityl Tetra-di-t-butyl Hydroxyhydrocinnamate",
         "marker": {
          "color": "#FECB52",
          "pattern": {
           "shape": ""
          }
         },
         "name": "Pentaerythrityl Tetra-di-t-butyl Hydroxyhydrocinnamate",
         "offsetgroup": "Pentaerythrityl Tetra-di-t-butyl Hydroxyhydrocinnamate",
         "orientation": "v",
         "showlegend": true,
         "textposition": "auto",
         "type": "bar",
         "x": [
          "Rimmel Scandaleyes Eye Definer Brown"
         ],
         "xaxis": "x",
         "y": [
          "Pentaerythrityl Tetra-di-t-butyl Hydroxyhydrocinnamate"
         ],
         "yaxis": "y"
        },
        {
         "alignmentgroup": "True",
         "hovertemplate": " Ingredients=%{y}<br>Product=%{x}<extra></extra>",
         "legendgroup": "Mica",
         "marker": {
          "color": "#636efa",
          "pattern": {
           "shape": ""
          }
         },
         "name": "Mica",
         "offsetgroup": "Mica",
         "orientation": "v",
         "showlegend": true,
         "textposition": "auto",
         "type": "bar",
         "x": [
          "Rimmel Scandaleyes Eye Definer Brown"
         ],
         "xaxis": "x",
         "y": [
          "Mica"
         ],
         "yaxis": "y"
        },
        {
         "alignmentgroup": "True",
         "hovertemplate": " Ingredients=%{y}<br>Product=%{x}<extra></extra>",
         "legendgroup": "Ultramarines",
         "marker": {
          "color": "#EF553B",
          "pattern": {
           "shape": ""
          }
         },
         "name": "Ultramarines",
         "offsetgroup": "Ultramarines",
         "orientation": "v",
         "showlegend": true,
         "textposition": "auto",
         "type": "bar",
         "x": [
          "Rimmel Scandaleyes Eye Definer Brown"
         ],
         "xaxis": "x",
         "y": [
          "Ultramarines"
         ],
         "yaxis": "y"
        },
        {
         "alignmentgroup": "True",
         "hovertemplate": " Ingredients=%{y}<br>Product=%{x}<extra></extra>",
         "legendgroup": "Iron Oxides",
         "marker": {
          "color": "#00cc96",
          "pattern": {
           "shape": ""
          }
         },
         "name": "Iron Oxides",
         "offsetgroup": "Iron Oxides",
         "orientation": "v",
         "showlegend": true,
         "textposition": "auto",
         "type": "bar",
         "x": [
          "Rimmel Scandaleyes Eye Definer Brown"
         ],
         "xaxis": "x",
         "y": [
          "Iron Oxides"
         ],
         "yaxis": "y"
        },
        {
         "alignmentgroup": "True",
         "hovertemplate": " Ingredients=%{y}<br>Product=%{x}<extra></extra>",
         "legendgroup": "Titanium Dioxide",
         "marker": {
          "color": "#ab63fa",
          "pattern": {
           "shape": ""
          }
         },
         "name": "Titanium Dioxide",
         "offsetgroup": "Titanium Dioxide",
         "orientation": "v",
         "showlegend": true,
         "textposition": "auto",
         "type": "bar",
         "x": [
          "Rimmel Scandaleyes Eye Definer Brown"
         ],
         "xaxis": "x",
         "y": [
          "Titanium Dioxide"
         ],
         "yaxis": "y"
        },
        {
         "alignmentgroup": "True",
         "hovertemplate": " Ingredients=%{y}<br>Product=%{x}<extra></extra>",
         "legendgroup": "Ferric Ferrocyanide",
         "marker": {
          "color": "#FFA15A",
          "pattern": {
           "shape": ""
          }
         },
         "name": "Ferric Ferrocyanide",
         "offsetgroup": "Ferric Ferrocyanide",
         "orientation": "v",
         "showlegend": true,
         "textposition": "auto",
         "type": "bar",
         "x": [
          "Rimmel Scandaleyes Eye Definer Brown"
         ],
         "xaxis": "x",
         "y": [
          "Ferric Ferrocyanide"
         ],
         "yaxis": "y"
        },
        {
         "alignmentgroup": "True",
         "hovertemplate": " Ingredients=%{y}<br>Product=%{x}<extra></extra>",
         "legendgroup": "Reconstituted Apple Juice",
         "marker": {
          "color": "#19d3f3",
          "pattern": {
           "shape": ""
          }
         },
         "name": "Reconstituted Apple Juice",
         "offsetgroup": "Reconstituted Apple Juice",
         "orientation": "v",
         "showlegend": true,
         "textposition": "auto",
         "type": "bar",
         "x": [
          "Woolworths Apple Juice",
          "Woolworths Apple & Mango Juice",
          "Woolworths Breakfast Juice",
          "Woolworths Apple & Blackcurrant Juice",
          "Woolworths Multivitamin Juice",
          "Golden Circle Golden Pash Fruit Drink",
          "Golden Circle Drinks Sunshine Punch Fruit Drink",
          "Golden Circle Fruit Drinks Lunch Box Poppers Tropical Punch Multipack"
         ],
         "xaxis": "x",
         "y": [
          "Reconstituted Apple Juice",
          "Reconstituted Apple Juice",
          "Reconstituted Apple Juice",
          "Reconstituted Apple Juice",
          "Reconstituted Apple Juice",
          "Reconstituted Apple Juice",
          "Reconstituted Apple Juice",
          "Reconstituted Apple Juice"
         ],
         "yaxis": "y"
        },
        {
         "alignmentgroup": "True",
         "hovertemplate": " Ingredients=%{y}<br>Product=%{x}<extra></extra>",
         "legendgroup": "Vitamin C",
         "marker": {
          "color": "#FF6692",
          "pattern": {
           "shape": ""
          }
         },
         "name": "Vitamin C",
         "offsetgroup": "Vitamin C",
         "orientation": "v",
         "showlegend": true,
         "textposition": "auto",
         "type": "bar",
         "x": [
          "Woolworths Apple Juice",
          "Woolworths Apple & Mango Juice",
          "Woolworths Orange Juice",
          "Woolworths Breakfast Juice",
          "Woolworths Apple & Blackcurrant Juice",
          "Woolworths Multivitamin Juice",
          "Golden Circle Golden Pash Fruit Drink",
          "Golden Circle Drinks Pine Orange Fruit Drink",
          "Golden Circle Drinks Sunshine Punch Fruit Drink",
          "Golden Circle Fruit Drinks Lunch Box Poppers Tropical Punch Multipack"
         ],
         "xaxis": "x",
         "y": [
          "Vitamin C",
          "Vitamin C",
          "Vitamin C",
          "Vitamin C",
          "Vitamin C",
          "Vitamin C",
          "Vitamin C",
          "Vitamin C",
          "Vitamin C",
          "Vitamin C"
         ],
         "yaxis": "y"
        },
        {
         "alignmentgroup": "True",
         "hovertemplate": " Ingredients=%{y}<br>Product=%{x}<extra></extra>",
         "legendgroup": "Reconstituted Fruit Juice Pineapple",
         "marker": {
          "color": "#B6E880",
          "pattern": {
           "shape": ""
          }
         },
         "name": "Reconstituted Fruit Juice Pineapple",
         "offsetgroup": "Reconstituted Fruit Juice Pineapple",
         "orientation": "v",
         "showlegend": true,
         "textposition": "auto",
         "type": "bar",
         "x": [
          "Woolworths Breakfast Juice",
          "Golden Circle Golden Pash Fruit Drink",
          "Golden Circle Drinks Pine Orange Fruit Drink",
          "Golden Circle Drinks Sunshine Punch Fruit Drink",
          "Golden Circle Fruit Drinks Lunch Box Poppers Tropical Punch Multipack"
         ],
         "xaxis": "x",
         "y": [
          "Reconstituted Fruit Juice Pineapple",
          "Reconstituted Fruit Juice Pineapple",
          "Reconstituted Fruit Juice Pineapple",
          "Reconstituted Fruit Juice Pineapple",
          "Reconstituted Fruit Juice Pineapple"
         ],
         "yaxis": "y"
        },
        {
         "alignmentgroup": "True",
         "hovertemplate": " Ingredients=%{y}<br>Product=%{x}<extra></extra>",
         "legendgroup": "Reconstituted Fruit Juice Passionfruit",
         "marker": {
          "color": "#FF97FF",
          "pattern": {
           "shape": ""
          }
         },
         "name": "Reconstituted Fruit Juice Passionfruit",
         "offsetgroup": "Reconstituted Fruit Juice Passionfruit",
         "orientation": "v",
         "showlegend": true,
         "textposition": "auto",
         "type": "bar",
         "x": [
          "Woolworths Breakfast Juice",
          "Woolworths Multivitamin Juice",
          "Golden Circle Golden Pash Fruit Drink",
          "Golden Circle Drinks Sunshine Punch Fruit Drink",
          "Golden Circle Fruit Drinks Lunch Box Poppers Tropical Punch Multipack"
         ],
         "xaxis": "x",
         "y": [
          "Reconstituted Fruit Juice Passionfruit",
          "Reconstituted Fruit Juice Passionfruit",
          "Reconstituted Fruit Juice Passionfruit",
          "Reconstituted Fruit Juice Passionfruit",
          "Reconstituted Fruit Juice Passionfruit"
         ],
         "yaxis": "y"
        },
        {
         "alignmentgroup": "True",
         "hovertemplate": " Ingredients=%{y}<br>Product=%{x}<extra></extra>",
         "legendgroup": "Carboxymethyl Cellulose",
         "marker": {
          "color": "#FECB52",
          "pattern": {
           "shape": ""
          }
         },
         "name": "Carboxymethyl Cellulose",
         "offsetgroup": "Carboxymethyl Cellulose",
         "orientation": "v",
         "showlegend": true,
         "textposition": "auto",
         "type": "bar",
         "x": [
          "Woolworths Breakfast Juice"
         ],
         "xaxis": "x",
         "y": [
          "Carboxymethyl Cellulose"
         ],
         "yaxis": "y"
        },
        {
         "alignmentgroup": "True",
         "hovertemplate": " Ingredients=%{y}<br>Product=%{x}<extra></extra>",
         "legendgroup": "Reconstituted Fruit Juice Blackcurrant",
         "marker": {
          "color": "#636efa",
          "pattern": {
           "shape": ""
          }
         },
         "name": "Reconstituted Fruit Juice Blackcurrant",
         "offsetgroup": "Reconstituted Fruit Juice Blackcurrant",
         "orientation": "v",
         "showlegend": true,
         "textposition": "auto",
         "type": "bar",
         "x": [
          "Woolworths Apple & Blackcurrant Juice"
         ],
         "xaxis": "x",
         "y": [
          "Reconstituted Fruit Juice Blackcurrant"
         ],
         "yaxis": "y"
        },
        {
         "alignmentgroup": "True",
         "hovertemplate": " Ingredients=%{y}<br>Product=%{x}<extra></extra>",
         "legendgroup": "Anthocyanins",
         "marker": {
          "color": "#EF553B",
          "pattern": {
           "shape": ""
          }
         },
         "name": "Anthocyanins",
         "offsetgroup": "Anthocyanins",
         "orientation": "v",
         "showlegend": true,
         "textposition": "auto",
         "type": "bar",
         "x": [
          "Woolworths Apple & Blackcurrant Juice"
         ],
         "xaxis": "x",
         "y": [
          "Anthocyanins"
         ],
         "yaxis": "y"
        },
        {
         "alignmentgroup": "True",
         "hovertemplate": " Ingredients=%{y}<br>Product=%{x}<extra></extra>",
         "legendgroup": "Reconstituted Fruit Juice Grape",
         "marker": {
          "color": "#00cc96",
          "pattern": {
           "shape": ""
          }
         },
         "name": "Reconstituted Fruit Juice Grape",
         "offsetgroup": "Reconstituted Fruit Juice Grape",
         "orientation": "v",
         "showlegend": true,
         "textposition": "auto",
         "type": "bar",
         "x": [
          "Woolworths Multivitamin Juice"
         ],
         "xaxis": "x",
         "y": [
          "Reconstituted Fruit Juice Grape"
         ],
         "yaxis": "y"
        },
        {
         "alignmentgroup": "True",
         "hovertemplate": " Ingredients=%{y}<br>Product=%{x}<extra></extra>",
         "legendgroup": "Reconstituted Fruit Juice Apricot",
         "marker": {
          "color": "#ab63fa",
          "pattern": {
           "shape": ""
          }
         },
         "name": "Reconstituted Fruit Juice Apricot",
         "offsetgroup": "Reconstituted Fruit Juice Apricot",
         "orientation": "v",
         "showlegend": true,
         "textposition": "auto",
         "type": "bar",
         "x": [
          "Woolworths Multivitamin Juice"
         ],
         "xaxis": "x",
         "y": [
          "Reconstituted Fruit Juice Apricot"
         ],
         "yaxis": "y"
        },
        {
         "alignmentgroup": "True",
         "hovertemplate": " Ingredients=%{y}<br>Product=%{x}<extra></extra>",
         "legendgroup": "Reconstituted Fruit Juice Peach",
         "marker": {
          "color": "#FFA15A",
          "pattern": {
           "shape": ""
          }
         },
         "name": "Reconstituted Fruit Juice Peach",
         "offsetgroup": "Reconstituted Fruit Juice Peach",
         "orientation": "v",
         "showlegend": true,
         "textposition": "auto",
         "type": "bar",
         "x": [
          "Woolworths Multivitamin Juice"
         ],
         "xaxis": "x",
         "y": [
          "Reconstituted Fruit Juice Peach"
         ],
         "yaxis": "y"
        },
        {
         "alignmentgroup": "True",
         "hovertemplate": " Ingredients=%{y}<br>Product=%{x}<extra></extra>",
         "legendgroup": "Reconstituted Fruit Juice Pear",
         "marker": {
          "color": "#19d3f3",
          "pattern": {
           "shape": ""
          }
         },
         "name": "Reconstituted Fruit Juice Pear",
         "offsetgroup": "Reconstituted Fruit Juice Pear",
         "orientation": "v",
         "showlegend": true,
         "textposition": "auto",
         "type": "bar",
         "x": [
          "Woolworths Multivitamin Juice",
          "Golden Circle Golden Pash Fruit Drink",
          "Golden Circle Drinks Sunshine Punch Fruit Drink",
          "Golden Circle Fruit Drinks Lunch Box Poppers Tropical Punch Multipack"
         ],
         "xaxis": "x",
         "y": [
          "Reconstituted Fruit Juice Pear",
          "Reconstituted Fruit Juice Pear",
          "Reconstituted Fruit Juice Pear",
          "Reconstituted Fruit Juice Pear"
         ],
         "yaxis": "y"
        },
        {
         "alignmentgroup": "True",
         "hovertemplate": " Ingredients=%{y}<br>Product=%{x}<extra></extra>",
         "legendgroup": "Guava Puree",
         "marker": {
          "color": "#FF6692",
          "pattern": {
           "shape": ""
          }
         },
         "name": "Guava Puree",
         "offsetgroup": "Guava Puree",
         "orientation": "v",
         "showlegend": true,
         "textposition": "auto",
         "type": "bar",
         "x": [
          "Woolworths Multivitamin Juice"
         ],
         "xaxis": "x",
         "y": [
          "Guava Puree"
         ],
         "yaxis": "y"
        },
        {
         "alignmentgroup": "True",
         "hovertemplate": " Ingredients=%{y}<br>Product=%{x}<extra></extra>",
         "legendgroup": "Vitamin A",
         "marker": {
          "color": "#B6E880",
          "pattern": {
           "shape": ""
          }
         },
         "name": "Vitamin A",
         "offsetgroup": "Vitamin A",
         "orientation": "v",
         "showlegend": true,
         "textposition": "auto",
         "type": "bar",
         "x": [
          "Woolworths Multivitamin Juice"
         ],
         "xaxis": "x",
         "y": [
          "Vitamin A"
         ],
         "yaxis": "y"
        },
        {
         "alignmentgroup": "True",
         "hovertemplate": " Ingredients=%{y}<br>Product=%{x}<extra></extra>",
         "legendgroup": "Potassium Citrate",
         "marker": {
          "color": "#FF97FF",
          "pattern": {
           "shape": ""
          }
         },
         "name": "Potassium Citrate",
         "offsetgroup": "Potassium Citrate",
         "orientation": "v",
         "showlegend": true,
         "textposition": "auto",
         "type": "bar",
         "x": [
          "Golden Circle Golden Pash Fruit Drink",
          "Golden Circle Drinks Sunshine Punch Fruit Drink",
          "Golden Circle Fruit Drinks Lunch Box Poppers Tropical Punch Multipack",
          "Woolworths Peach In Strawberry Jelly",
          "Woolworths Two Fruits In Tropical Jelly",
          "Woolworths Apple In Pineapple Jelly"
         ],
         "xaxis": "x",
         "y": [
          "Potassium Citrate",
          "Potassium Citrate",
          "Potassium Citrate",
          "Potassium Citrate",
          "Potassium Citrate",
          "Potassium Citrate"
         ],
         "yaxis": "y"
        },
        {
         "alignmentgroup": "True",
         "hovertemplate": " Ingredients=%{y}<br>Product=%{x}<extra></extra>",
         "legendgroup": "Pectin",
         "marker": {
          "color": "#FECB52",
          "pattern": {
           "shape": ""
          }
         },
         "name": "Pectin",
         "offsetgroup": "Pectin",
         "orientation": "v",
         "showlegend": true,
         "textposition": "auto",
         "type": "bar",
         "x": [
          "Golden Circle Drinks Pine Orange Fruit Drink",
          "Golden Circle Drinks Sunshine Punch Fruit Drink",
          "Masterfoods Barbecue Sauce"
         ],
         "xaxis": "x",
         "y": [
          "Pectin",
          "Pectin",
          "Pectin"
         ],
         "yaxis": "y"
        },
        {
         "alignmentgroup": "True",
         "hovertemplate": " Ingredients=%{y}<br>Product=%{x}<extra></extra>",
         "legendgroup": "Reconstituted Fruit Juice Water Extracted Orange",
         "marker": {
          "color": "#636efa",
          "pattern": {
           "shape": ""
          }
         },
         "name": "Reconstituted Fruit Juice Water Extracted Orange",
         "offsetgroup": "Reconstituted Fruit Juice Water Extracted Orange",
         "orientation": "v",
         "showlegend": true,
         "textposition": "auto",
         "type": "bar",
         "x": [
          "Golden Circle Drinks Sunshine Punch Fruit Drink"
         ],
         "xaxis": "x",
         "y": [
          "Reconstituted Fruit Juice Water Extracted Orange"
         ],
         "yaxis": "y"
        },
        {
         "alignmentgroup": "True",
         "hovertemplate": " Ingredients=%{y}<br>Product=%{x}<extra></extra>",
         "legendgroup": "Reconstituted Fruit Juice Peach Purée",
         "marker": {
          "color": "#EF553B",
          "pattern": {
           "shape": ""
          }
         },
         "name": "Reconstituted Fruit Juice Peach Purée",
         "offsetgroup": "Reconstituted Fruit Juice Peach Purée",
         "orientation": "v",
         "showlegend": true,
         "textposition": "auto",
         "type": "bar",
         "x": [
          "Golden Circle Drinks Sunshine Punch Fruit Drink",
          "Golden Circle Fruit Drinks Lunch Box Poppers Tropical Punch Multipack"
         ],
         "xaxis": "x",
         "y": [
          "Reconstituted Fruit Juice Peach Purée",
          "Reconstituted Fruit Juice Peach Purée"
         ],
         "yaxis": "y"
        },
        {
         "alignmentgroup": "True",
         "hovertemplate": " Ingredients=%{y}<br>Product=%{x}<extra></extra>",
         "legendgroup": "Pasteurised Homogenised Milk",
         "marker": {
          "color": "#00cc96",
          "pattern": {
           "shape": ""
          }
         },
         "name": "Pasteurised Homogenised Milk",
         "offsetgroup": "Pasteurised Homogenised Milk",
         "orientation": "v",
         "showlegend": true,
         "textposition": "auto",
         "type": "bar",
         "x": [
          "Norco Full Cream Milk"
         ],
         "xaxis": "x",
         "y": [
          "Pasteurised Homogenised Milk"
         ],
         "yaxis": "y"
        },
        {
         "alignmentgroup": "True",
         "hovertemplate": " Ingredients=%{y}<br>Product=%{x}<extra></extra>",
         "legendgroup": "Cream",
         "marker": {
          "color": "#ab63fa",
          "pattern": {
           "shape": ""
          }
         },
         "name": "Cream",
         "offsetgroup": "Cream",
         "orientation": "v",
         "showlegend": true,
         "textposition": "auto",
         "type": "bar",
         "x": [
          "Pauls Farmhouse Gold Full Cream Milk"
         ],
         "xaxis": "x",
         "y": [
          "Cream"
         ],
         "yaxis": "y"
        },
        {
         "alignmentgroup": "True",
         "hovertemplate": " Ingredients=%{y}<br>Product=%{x}<extra></extra>",
         "legendgroup": "Fructose",
         "marker": {
          "color": "#FFA15A",
          "pattern": {
           "shape": ""
          }
         },
         "name": "Fructose",
         "offsetgroup": "Fructose",
         "orientation": "v",
         "showlegend": true,
         "textposition": "auto",
         "type": "bar",
         "x": [
          "Oreo Grab & Go Original Cookies 9 Pack"
         ],
         "xaxis": "x",
         "y": [
          "Fructose"
         ],
         "yaxis": "y"
        },
        {
         "alignmentgroup": "True",
         "hovertemplate": " Ingredients=%{y}<br>Product=%{x}<extra></extra>",
         "legendgroup": "Syrup",
         "marker": {
          "color": "#19d3f3",
          "pattern": {
           "shape": ""
          }
         },
         "name": "Syrup",
         "offsetgroup": "Syrup",
         "orientation": "v",
         "showlegend": true,
         "textposition": "auto",
         "type": "bar",
         "x": [
          "Oreo Grab & Go Original Cookies 9 Pack"
         ],
         "xaxis": "x",
         "y": [
          "Syrup"
         ],
         "yaxis": "y"
        },
        {
         "alignmentgroup": "True",
         "hovertemplate": " Ingredients=%{y}<br>Product=%{x}<extra></extra>",
         "legendgroup": "Tomato Juice",
         "marker": {
          "color": "#FF6692",
          "pattern": {
           "shape": ""
          }
         },
         "name": "Tomato Juice",
         "offsetgroup": "Tomato Juice",
         "orientation": "v",
         "showlegend": true,
         "textposition": "auto",
         "type": "bar",
         "x": [
          "Woolworths Diced Italian Tomatoes",
          "Woolworths Diced Italian Tomatoes"
         ],
         "xaxis": "x",
         "y": [
          "Tomato Juice",
          "Tomato Juice"
         ],
         "yaxis": "y"
        },
        {
         "alignmentgroup": "True",
         "hovertemplate": " Ingredients=%{y}<br>Product=%{x}<extra></extra>",
         "legendgroup": "Tomatoes",
         "marker": {
          "color": "#B6E880",
          "pattern": {
           "shape": ""
          }
         },
         "name": "Tomatoes",
         "offsetgroup": "Tomatoes",
         "orientation": "v",
         "showlegend": true,
         "textposition": "auto",
         "type": "bar",
         "x": [
          "Woolworths Diced Italian Tomatoes",
          "Woolworths Diced Italian Tomatoes",
          "Masterfoods Barbecue Sauce",
          "Fountain Barbecue Bbq Sauce Squeeze",
          "Heinz Ketchup Tomato Sauce Ketchup"
         ],
         "xaxis": "x",
         "y": [
          "Tomatoes",
          "Tomatoes",
          "Tomatoes",
          "Tomatoes",
          "Tomatoes"
         ],
         "yaxis": "y"
        },
        {
         "alignmentgroup": "True",
         "hovertemplate": " Ingredients=%{y}<br>Product=%{x}<extra></extra>",
         "legendgroup": "Durum Wheat Semolina",
         "marker": {
          "color": "#FF97FF",
          "pattern": {
           "shape": ""
          }
         },
         "name": "Durum Wheat Semolina",
         "offsetgroup": "Durum Wheat Semolina",
         "orientation": "v",
         "showlegend": true,
         "textposition": "auto",
         "type": "bar",
         "x": [
          "Woolworths Lasagne Sheets"
         ],
         "xaxis": "x",
         "y": [
          "Durum Wheat Semolina"
         ],
         "yaxis": "y"
        },
        {
         "alignmentgroup": "True",
         "hovertemplate": " Ingredients=%{y}<br>Product=%{x}<extra></extra>",
         "legendgroup": "Coconut Extract",
         "marker": {
          "color": "#FECB52",
          "pattern": {
           "shape": ""
          }
         },
         "name": "Coconut Extract",
         "offsetgroup": "Coconut Extract",
         "orientation": "v",
         "showlegend": true,
         "textposition": "auto",
         "type": "bar",
         "x": [
          "Essentials Coconut Cream",
          "Essentials Coconut Milk"
         ],
         "xaxis": "x",
         "y": [
          "Coconut Extract",
          "Coconut Extract"
         ],
         "yaxis": "y"
        },
        {
         "alignmentgroup": "True",
         "hovertemplate": " Ingredients=%{y}<br>Product=%{x}<extra></extra>",
         "legendgroup": "Homogenised Full Cream Milk",
         "marker": {
          "color": "#636efa",
          "pattern": {
           "shape": ""
          }
         },
         "name": "Homogenised Full Cream Milk",
         "offsetgroup": "Homogenised Full Cream Milk",
         "orientation": "v",
         "showlegend": true,
         "textposition": "auto",
         "type": "bar",
         "x": [
          "Woolworths Uht Full Cream Milk"
         ],
         "xaxis": "x",
         "y": [
          "Homogenised Full Cream Milk"
         ],
         "yaxis": "y"
        },
        {
         "alignmentgroup": "True",
         "hovertemplate": " Ingredients=%{y}<br>Product=%{x}<extra></extra>",
         "legendgroup": "Sardines",
         "marker": {
          "color": "#EF553B",
          "pattern": {
           "shape": ""
          }
         },
         "name": "Sardines",
         "offsetgroup": "Sardines",
         "orientation": "v",
         "showlegend": true,
         "textposition": "auto",
         "type": "bar",
         "x": [
          "Deep Cove Sardines In Oil"
         ],
         "xaxis": "x",
         "y": [
          "Sardines"
         ],
         "yaxis": "y"
        },
        {
         "alignmentgroup": "True",
         "hovertemplate": " Ingredients=%{y}<br>Product=%{x}<extra></extra>",
         "legendgroup": "Rice",
         "marker": {
          "color": "#00cc96",
          "pattern": {
           "shape": ""
          }
         },
         "name": "Rice",
         "offsetgroup": "Rice",
         "orientation": "v",
         "showlegend": true,
         "textposition": "auto",
         "type": "bar",
         "x": [
          "Woolworths Creamed Rice"
         ],
         "xaxis": "x",
         "y": [
          "Rice"
         ],
         "yaxis": "y"
        },
        {
         "alignmentgroup": "True",
         "hovertemplate": " Ingredients=%{y}<br>Product=%{x}<extra></extra>",
         "legendgroup": "Skim Milk",
         "marker": {
          "color": "#ab63fa",
          "pattern": {
           "shape": ""
          }
         },
         "name": "Skim Milk",
         "offsetgroup": "Skim Milk",
         "orientation": "v",
         "showlegend": true,
         "textposition": "auto",
         "type": "bar",
         "x": [
          "Woolworths Creamed Rice"
         ],
         "xaxis": "x",
         "y": [
          "Skim Milk"
         ],
         "yaxis": "y"
        },
        {
         "alignmentgroup": "True",
         "hovertemplate": " Ingredients=%{y}<br>Product=%{x}<extra></extra>",
         "legendgroup": "Acidity Regulator 339",
         "marker": {
          "color": "#FFA15A",
          "pattern": {
           "shape": ""
          }
         },
         "name": "Acidity Regulator 339",
         "offsetgroup": "Acidity Regulator 339",
         "orientation": "v",
         "showlegend": true,
         "textposition": "auto",
         "type": "bar",
         "x": [
          "Woolworths Creamed Rice"
         ],
         "xaxis": "x",
         "y": [
          "Acidity Regulator 339"
         ],
         "yaxis": "y"
        },
        {
         "alignmentgroup": "True",
         "hovertemplate": " Ingredients=%{y}<br>Product=%{x}<extra></extra>",
         "legendgroup": "Reconstituted Tomato Puree",
         "marker": {
          "color": "#19d3f3",
          "pattern": {
           "shape": ""
          }
         },
         "name": "Reconstituted Tomato Puree",
         "offsetgroup": "Reconstituted Tomato Puree",
         "orientation": "v",
         "showlegend": true,
         "textposition": "auto",
         "type": "bar",
         "x": [
          "Woolworths Tomato Sauce Squeeze",
          "Woolworths Tomato Sauce"
         ],
         "xaxis": "x",
         "y": [
          "Reconstituted Tomato Puree",
          "Reconstituted Tomato Puree"
         ],
         "yaxis": "y"
        },
        {
         "alignmentgroup": "True",
         "hovertemplate": " Ingredients=%{y}<br>Product=%{x}<extra></extra>",
         "legendgroup": "Thickener Modified Corn Starch",
         "marker": {
          "color": "#FF6692",
          "pattern": {
           "shape": ""
          }
         },
         "name": "Thickener Modified Corn Starch",
         "offsetgroup": "Thickener Modified Corn Starch",
         "orientation": "v",
         "showlegend": true,
         "textposition": "auto",
         "type": "bar",
         "x": [
          "Woolworths Tomato Sauce Squeeze",
          "Woolworths Tomato Sauce",
          "Woolworths Barbecue Sauce Squeeze",
          "Woolworths Barbecue Sauce"
         ],
         "xaxis": "x",
         "y": [
          "Thickener Modified Corn Starch",
          "Thickener Modified Corn Starch",
          "Thickener Modified Corn Starch",
          "Thickener Modified Corn Starch"
         ],
         "yaxis": "y"
        },
        {
         "alignmentgroup": "True",
         "hovertemplate": " Ingredients=%{y}<br>Product=%{x}<extra></extra>",
         "legendgroup": "Spice Extract",
         "marker": {
          "color": "#B6E880",
          "pattern": {
           "shape": ""
          }
         },
         "name": "Spice Extract",
         "offsetgroup": "Spice Extract",
         "orientation": "v",
         "showlegend": true,
         "textposition": "auto",
         "type": "bar",
         "x": [
          "Woolworths Tomato Sauce Squeeze",
          "Woolworths Tomato Sauce",
          "Masterfoods Tomato Sauce"
         ],
         "xaxis": "x",
         "y": [
          "Spice Extract",
          "Spice Extract",
          "Spice Extract"
         ],
         "yaxis": "y"
        },
        {
         "alignmentgroup": "True",
         "hovertemplate": " Ingredients=%{y}<br>Product=%{x}<extra></extra>",
         "legendgroup": "Reconstituted Fruit Puree",
         "marker": {
          "color": "#FF97FF",
          "pattern": {
           "shape": ""
          }
         },
         "name": "Reconstituted Fruit Puree",
         "offsetgroup": "Reconstituted Fruit Puree",
         "orientation": "v",
         "showlegend": true,
         "textposition": "auto",
         "type": "bar",
         "x": [
          "Woolworths Barbecue Sauce Squeeze"
         ],
         "xaxis": "x",
         "y": [
          "Reconstituted Fruit Puree"
         ],
         "yaxis": "y"
        },
        {
         "alignmentgroup": "True",
         "hovertemplate": " Ingredients=%{y}<br>Product=%{x}<extra></extra>",
         "legendgroup": "Apple Pulp",
         "marker": {
          "color": "#FECB52",
          "pattern": {
           "shape": ""
          }
         },
         "name": "Apple Pulp",
         "offsetgroup": "Apple Pulp",
         "orientation": "v",
         "showlegend": true,
         "textposition": "auto",
         "type": "bar",
         "x": [
          "Woolworths Barbecue Sauce Squeeze"
         ],
         "xaxis": "x",
         "y": [
          "Apple Pulp"
         ],
         "yaxis": "y"
        },
        {
         "alignmentgroup": "True",
         "hovertemplate": " Ingredients=%{y}<br>Product=%{x}<extra></extra>",
         "legendgroup": "Tomato Paste",
         "marker": {
          "color": "#636efa",
          "pattern": {
           "shape": ""
          }
         },
         "name": "Tomato Paste",
         "offsetgroup": "Tomato Paste",
         "orientation": "v",
         "showlegend": true,
         "textposition": "auto",
         "type": "bar",
         "x": [
          "Woolworths Barbecue Sauce Squeeze",
          "Masterfoods Tomato Sauce"
         ],
         "xaxis": "x",
         "y": [
          "Tomato Paste",
          "Tomato Paste"
         ],
         "yaxis": "y"
        },
        {
         "alignmentgroup": "True",
         "hovertemplate": " Ingredients=%{y}<br>Product=%{x}<extra></extra>",
         "legendgroup": "Molasses",
         "marker": {
          "color": "#EF553B",
          "pattern": {
           "shape": ""
          }
         },
         "name": "Molasses",
         "offsetgroup": "Molasses",
         "orientation": "v",
         "showlegend": true,
         "textposition": "auto",
         "type": "bar",
         "x": [
          "Woolworths Barbecue Sauce Squeeze",
          "Fountain Barbecue Bbq Sauce Squeeze",
          "Woolworths Barbecue Sauce"
         ],
         "xaxis": "x",
         "y": [
          "Molasses",
          "Molasses",
          "Molasses"
         ],
         "yaxis": "y"
        },
        {
         "alignmentgroup": "True",
         "hovertemplate": " Ingredients=%{y}<br>Product=%{x}<extra></extra>",
         "legendgroup": "Caramel I",
         "marker": {
          "color": "#00cc96",
          "pattern": {
           "shape": ""
          }
         },
         "name": "Caramel I",
         "offsetgroup": "Caramel I",
         "orientation": "v",
         "showlegend": true,
         "textposition": "auto",
         "type": "bar",
         "x": [
          "Woolworths Barbecue Sauce Squeeze",
          "Woolworths Barbecue Sauce"
         ],
         "xaxis": "x",
         "y": [
          "Caramel I",
          "Caramel I"
         ],
         "yaxis": "y"
        },
        {
         "alignmentgroup": "True",
         "hovertemplate": " Ingredients=%{y}<br>Product=%{x}<extra></extra>",
         "legendgroup": "Smoke Flavour",
         "marker": {
          "color": "#ab63fa",
          "pattern": {
           "shape": ""
          }
         },
         "name": "Smoke Flavour",
         "offsetgroup": "Smoke Flavour",
         "orientation": "v",
         "showlegend": true,
         "textposition": "auto",
         "type": "bar",
         "x": [
          "Woolworths Barbecue Sauce Squeeze",
          "Woolworths Barbecue Sauce"
         ],
         "xaxis": "x",
         "y": [
          "Smoke Flavour",
          "Smoke Flavour"
         ],
         "yaxis": "y"
        },
        {
         "alignmentgroup": "True",
         "hovertemplate": " Ingredients=%{y}<br>Product=%{x}<extra></extra>",
         "legendgroup": "Xanthan Gum",
         "marker": {
          "color": "#FFA15A",
          "pattern": {
           "shape": ""
          }
         },
         "name": "Xanthan Gum",
         "offsetgroup": "Xanthan Gum",
         "orientation": "v",
         "showlegend": true,
         "textposition": "auto",
         "type": "bar",
         "x": [
          "Woolworths Barbecue Sauce Squeeze",
          "Fountain Barbecue Bbq Sauce Squeeze",
          "Woolworths Secret Burger Sauce",
          "Woolworths Barbecue Sauce",
          "Woolworths Peach In Strawberry Jelly",
          "Woolworths Two Fruits In Tropical Jelly",
          "Woolworths Apple In Pineapple Jelly"
         ],
         "xaxis": "x",
         "y": [
          "Xanthan Gum",
          "Xanthan Gum",
          "Xanthan Gum",
          "Xanthan Gum",
          "Xanthan Gum",
          "Xanthan Gum",
          "Xanthan Gum"
         ],
         "yaxis": "y"
        },
        {
         "alignmentgroup": "True",
         "hovertemplate": " Ingredients=%{y}<br>Product=%{x}<extra></extra>",
         "legendgroup": "Wheat Cornflour",
         "marker": {
          "color": "#19d3f3",
          "pattern": {
           "shape": ""
          }
         },
         "name": "Wheat Cornflour",
         "offsetgroup": "Wheat Cornflour",
         "orientation": "v",
         "showlegend": true,
         "textposition": "auto",
         "type": "bar",
         "x": [
          "Masterfoods Barbecue Sauce"
         ],
         "xaxis": "x",
         "y": [
          "Wheat Cornflour"
         ],
         "yaxis": "y"
        },
        {
         "alignmentgroup": "True",
         "hovertemplate": " Ingredients=%{y}<br>Product=%{x}<extra></extra>",
         "legendgroup": "Caramel Color 150c",
         "marker": {
          "color": "#FF6692",
          "pattern": {
           "shape": ""
          }
         },
         "name": "Caramel Color 150c",
         "offsetgroup": "Caramel Color 150c",
         "orientation": "v",
         "showlegend": true,
         "textposition": "auto",
         "type": "bar",
         "x": [
          "Masterfoods Barbecue Sauce"
         ],
         "xaxis": "x",
         "y": [
          "Caramel Color 150c"
         ],
         "yaxis": "y"
        },
        {
         "alignmentgroup": "True",
         "hovertemplate": " Ingredients=%{y}<br>Product=%{x}<extra></extra>",
         "legendgroup": "Tamarind Paste",
         "marker": {
          "color": "#B6E880",
          "pattern": {
           "shape": ""
          }
         },
         "name": "Tamarind Paste",
         "offsetgroup": "Tamarind Paste",
         "orientation": "v",
         "showlegend": true,
         "textposition": "auto",
         "type": "bar",
         "x": [
          "Masterfoods Barbecue Sauce"
         ],
         "xaxis": "x",
         "y": [
          "Tamarind Paste"
         ],
         "yaxis": "y"
        },
        {
         "alignmentgroup": "True",
         "hovertemplate": " Ingredients=%{y}<br>Product=%{x}<extra></extra>",
         "legendgroup": "Clove",
         "marker": {
          "color": "#FF97FF",
          "pattern": {
           "shape": ""
          }
         },
         "name": "Clove",
         "offsetgroup": "Clove",
         "orientation": "v",
         "showlegend": true,
         "textposition": "auto",
         "type": "bar",
         "x": [
          "Masterfoods Barbecue Sauce"
         ],
         "xaxis": "x",
         "y": [
          "Clove"
         ],
         "yaxis": "y"
        },
        {
         "alignmentgroup": "True",
         "hovertemplate": " Ingredients=%{y}<br>Product=%{x}<extra></extra>",
         "legendgroup": "Nutmeg",
         "marker": {
          "color": "#FECB52",
          "pattern": {
           "shape": ""
          }
         },
         "name": "Nutmeg",
         "offsetgroup": "Nutmeg",
         "orientation": "v",
         "showlegend": true,
         "textposition": "auto",
         "type": "bar",
         "x": [
          "Masterfoods Barbecue Sauce"
         ],
         "xaxis": "x",
         "y": [
          "Nutmeg"
         ],
         "yaxis": "y"
        },
        {
         "alignmentgroup": "True",
         "hovertemplate": " Ingredients=%{y}<br>Product=%{x}<extra></extra>",
         "legendgroup": "Tomato Puree",
         "marker": {
          "color": "#636efa",
          "pattern": {
           "shape": ""
          }
         },
         "name": "Tomato Puree",
         "offsetgroup": "Tomato Puree",
         "orientation": "v",
         "showlegend": true,
         "textposition": "auto",
         "type": "bar",
         "x": [
          "Fountain Tomato Sauce Squeeze"
         ],
         "xaxis": "x",
         "y": [
          "Tomato Puree"
         ],
         "yaxis": "y"
        },
        {
         "alignmentgroup": "True",
         "hovertemplate": " Ingredients=%{y}<br>Product=%{x}<extra></extra>",
         "legendgroup": "Maize Thickener 1422",
         "marker": {
          "color": "#EF553B",
          "pattern": {
           "shape": ""
          }
         },
         "name": "Maize Thickener 1422",
         "offsetgroup": "Maize Thickener 1422",
         "orientation": "v",
         "showlegend": true,
         "textposition": "auto",
         "type": "bar",
         "x": [
          "Fountain Barbecue Bbq Sauce Squeeze"
         ],
         "xaxis": "x",
         "y": [
          "Maize Thickener 1422"
         ],
         "yaxis": "y"
        },
        {
         "alignmentgroup": "True",
         "hovertemplate": " Ingredients=%{y}<br>Product=%{x}<extra></extra>",
         "legendgroup": "Maize Maltodextrin",
         "marker": {
          "color": "#00cc96",
          "pattern": {
           "shape": ""
          }
         },
         "name": "Maize Maltodextrin",
         "offsetgroup": "Maize Maltodextrin",
         "orientation": "v",
         "showlegend": true,
         "textposition": "auto",
         "type": "bar",
         "x": [
          "Fountain Barbecue Bbq Sauce Squeeze"
         ],
         "xaxis": "x",
         "y": [
          "Maize Maltodextrin"
         ],
         "yaxis": "y"
        },
        {
         "alignmentgroup": "True",
         "hovertemplate": " Ingredients=%{y}<br>Product=%{x}<extra></extra>",
         "legendgroup": "Canola Oil",
         "marker": {
          "color": "#ab63fa",
          "pattern": {
           "shape": ""
          }
         },
         "name": "Canola Oil",
         "offsetgroup": "Canola Oil",
         "orientation": "v",
         "showlegend": true,
         "textposition": "auto",
         "type": "bar",
         "x": [
          "Woolworths Secret Burger Sauce",
          "Smith's Crinkle Cut Potato Chips Original",
          "Smith's Crinkle Cut Potato Chips Cheese & Onion",
          "Smith's Crinkle Cut Potato Chips Barbecue",
          "Smith's Crinkle Cut Potato Chips Chicken",
          "Smith's Thinly Cut Potato Chips Original Share Pack",
          "Smith's Crinkle Cut Potato Chips Salt & Vinegar"
         ],
         "xaxis": "x",
         "y": [
          "Canola Oil",
          "Canola Oil",
          "Canola Oil",
          "Canola Oil",
          "Canola Oil",
          "Canola Oil",
          "Canola Oil"
         ],
         "yaxis": "y"
        },
        {
         "alignmentgroup": "True",
         "hovertemplate": " Ingredients=%{y}<br>Product=%{x}<extra></extra>",
         "legendgroup": "Vinegar",
         "marker": {
          "color": "#FFA15A",
          "pattern": {
           "shape": ""
          }
         },
         "name": "Vinegar",
         "offsetgroup": "Vinegar",
         "orientation": "v",
         "showlegend": true,
         "textposition": "auto",
         "type": "bar",
         "x": [
          "Woolworths Secret Burger Sauce"
         ],
         "xaxis": "x",
         "y": [
          "Vinegar"
         ],
         "yaxis": "y"
        },
        {
         "alignmentgroup": "True",
         "hovertemplate": " Ingredients=%{y}<br>Product=%{x}<extra></extra>",
         "legendgroup": "Free Range Egg Yolk",
         "marker": {
          "color": "#19d3f3",
          "pattern": {
           "shape": ""
          }
         },
         "name": "Free Range Egg Yolk",
         "offsetgroup": "Free Range Egg Yolk",
         "orientation": "v",
         "showlegend": true,
         "textposition": "auto",
         "type": "bar",
         "x": [
          "Woolworths Secret Burger Sauce"
         ],
         "xaxis": "x",
         "y": [
          "Free Range Egg Yolk"
         ],
         "yaxis": "y"
        },
        {
         "alignmentgroup": "True",
         "hovertemplate": " Ingredients=%{y}<br>Product=%{x}<extra></extra>",
         "legendgroup": "Gherkin",
         "marker": {
          "color": "#FF6692",
          "pattern": {
           "shape": ""
          }
         },
         "name": "Gherkin",
         "offsetgroup": "Gherkin",
         "orientation": "v",
         "showlegend": true,
         "textposition": "auto",
         "type": "bar",
         "x": [
          "Woolworths Secret Burger Sauce"
         ],
         "xaxis": "x",
         "y": [
          "Gherkin"
         ],
         "yaxis": "y"
        },
        {
         "alignmentgroup": "True",
         "hovertemplate": " Ingredients=%{y}<br>Product=%{x}<extra></extra>",
         "legendgroup": "Carotene",
         "marker": {
          "color": "#B6E880",
          "pattern": {
           "shape": ""
          }
         },
         "name": "Carotene",
         "offsetgroup": "Carotene",
         "orientation": "v",
         "showlegend": true,
         "textposition": "auto",
         "type": "bar",
         "x": [
          "Woolworths Secret Burger Sauce",
          "Woolworths Two Fruits In Tropical Jelly",
          "Woolworths Apple In Pineapple Jelly"
         ],
         "xaxis": "x",
         "y": [
          "Carotene",
          "Carotene",
          "Carotene"
         ],
         "yaxis": "y"
        },
        {
         "alignmentgroup": "True",
         "hovertemplate": " Ingredients=%{y}<br>Product=%{x}<extra></extra>",
         "legendgroup": "Paprika Oleoresins",
         "marker": {
          "color": "#FF97FF",
          "pattern": {
           "shape": ""
          }
         },
         "name": "Paprika Oleoresins",
         "offsetgroup": "Paprika Oleoresins",
         "orientation": "v",
         "showlegend": true,
         "textposition": "auto",
         "type": "bar",
         "x": [
          "Woolworths Secret Burger Sauce",
          "Woolworths Two Fruits In Tropical Jelly"
         ],
         "xaxis": "x",
         "y": [
          "Paprika Oleoresins",
          "Paprika Oleoresins"
         ],
         "yaxis": "y"
        },
        {
         "alignmentgroup": "True",
         "hovertemplate": " Ingredients=%{y}<br>Product=%{x}<extra></extra>",
         "legendgroup": "Dill",
         "marker": {
          "color": "#FECB52",
          "pattern": {
           "shape": ""
          }
         },
         "name": "Dill",
         "offsetgroup": "Dill",
         "orientation": "v",
         "showlegend": true,
         "textposition": "auto",
         "type": "bar",
         "x": [
          "Woolworths Secret Burger Sauce"
         ],
         "xaxis": "x",
         "y": [
          "Dill"
         ],
         "yaxis": "y"
        },
        {
         "alignmentgroup": "True",
         "hovertemplate": " Ingredients=%{y}<br>Product=%{x}<extra></extra>",
         "legendgroup": "Herb Extract",
         "marker": {
          "color": "#636efa",
          "pattern": {
           "shape": ""
          }
         },
         "name": "Herb Extract",
         "offsetgroup": "Herb Extract",
         "orientation": "v",
         "showlegend": true,
         "textposition": "auto",
         "type": "bar",
         "x": [
          "Woolworths Secret Burger Sauce"
         ],
         "xaxis": "x",
         "y": [
          "Herb Extract"
         ],
         "yaxis": "y"
        },
        {
         "alignmentgroup": "True",
         "hovertemplate": " Ingredients=%{y}<br>Product=%{x}<extra></extra>",
         "legendgroup": "Mustard Oil",
         "marker": {
          "color": "#EF553B",
          "pattern": {
           "shape": ""
          }
         },
         "name": "Mustard Oil",
         "offsetgroup": "Mustard Oil",
         "orientation": "v",
         "showlegend": true,
         "textposition": "auto",
         "type": "bar",
         "x": [
          "Woolworths Secret Burger Sauce"
         ],
         "xaxis": "x",
         "y": [
          "Mustard Oil"
         ],
         "yaxis": "y"
        },
        {
         "alignmentgroup": "True",
         "hovertemplate": " Ingredients=%{y}<br>Product=%{x}<extra></extra>",
         "legendgroup": "White Vinegar",
         "marker": {
          "color": "#00cc96",
          "pattern": {
           "shape": ""
          }
         },
         "name": "White Vinegar",
         "offsetgroup": "White Vinegar",
         "orientation": "v",
         "showlegend": true,
         "textposition": "auto",
         "type": "bar",
         "x": [
          "Heinz Ketchup Tomato Sauce Ketchup"
         ],
         "xaxis": "x",
         "y": [
          "White Vinegar"
         ],
         "yaxis": "y"
        },
        {
         "alignmentgroup": "True",
         "hovertemplate": " Ingredients=%{y}<br>Product=%{x}<extra></extra>",
         "legendgroup": "Reconstituted Fruit Puree Apple",
         "marker": {
          "color": "#ab63fa",
          "pattern": {
           "shape": ""
          }
         },
         "name": "Reconstituted Fruit Puree Apple",
         "offsetgroup": "Reconstituted Fruit Puree Apple",
         "orientation": "v",
         "showlegend": true,
         "textposition": "auto",
         "type": "bar",
         "x": [
          "Woolworths Barbecue Sauce"
         ],
         "xaxis": "x",
         "y": [
          "Reconstituted Fruit Puree Apple"
         ],
         "yaxis": "y"
        },
        {
         "alignmentgroup": "True",
         "hovertemplate": " Ingredients=%{y}<br>Product=%{x}<extra></extra>",
         "legendgroup": "Reconstituted Fruit Puree Tomato Paste",
         "marker": {
          "color": "#FFA15A",
          "pattern": {
           "shape": ""
          }
         },
         "name": "Reconstituted Fruit Puree Tomato Paste",
         "offsetgroup": "Reconstituted Fruit Puree Tomato Paste",
         "orientation": "v",
         "showlegend": true,
         "textposition": "auto",
         "type": "bar",
         "x": [
          "Woolworths Barbecue Sauce"
         ],
         "xaxis": "x",
         "y": [
          "Reconstituted Fruit Puree Tomato Paste"
         ],
         "yaxis": "y"
        },
        {
         "alignmentgroup": "True",
         "hovertemplate": " Ingredients=%{y}<br>Product=%{x}<extra></extra>",
         "legendgroup": "Natural Spring Water",
         "marker": {
          "color": "#19d3f3",
          "pattern": {
           "shape": ""
          }
         },
         "name": "Natural Spring Water",
         "offsetgroup": "Natural Spring Water",
         "orientation": "v",
         "showlegend": true,
         "textposition": "auto",
         "type": "bar",
         "x": [
          "Woolworths Spring Water Bottles",
          "Woolworths Spring Water",
          "Woolworths Spring Water",
          "Woolworths Spring Water"
         ],
         "xaxis": "x",
         "y": [
          "Natural Spring Water",
          "Natural Spring Water",
          "Natural Spring Water",
          "Natural Spring Water"
         ],
         "yaxis": "y"
        },
        {
         "alignmentgroup": "True",
         "hovertemplate": " Ingredients=%{y}<br>Product=%{x}<extra></extra>",
         "legendgroup": "Australian Spring Water",
         "marker": {
          "color": "#FF6692",
          "pattern": {
           "shape": ""
          }
         },
         "name": "Australian Spring Water",
         "offsetgroup": "Australian Spring Water",
         "orientation": "v",
         "showlegend": true,
         "textposition": "auto",
         "type": "bar",
         "x": [
          "Frantelle Australian Still Spring Water Bottles Multipack",
          "Mount Franklin Spring Water Bottle"
         ],
         "xaxis": "x",
         "y": [
          "Australian Spring Water",
          "Australian Spring Water"
         ],
         "yaxis": "y"
        },
        {
         "alignmentgroup": "True",
         "hovertemplate": " Ingredients=%{y}<br>Product=%{x}<extra></extra>",
         "legendgroup": "Potatoes",
         "marker": {
          "color": "#B6E880",
          "pattern": {
           "shape": ""
          }
         },
         "name": "Potatoes",
         "offsetgroup": "Potatoes",
         "orientation": "v",
         "showlegend": true,
         "textposition": "auto",
         "type": "bar",
         "x": [
          "Smith's Crinkle Cut Potato Chips Original",
          "Smith's Crinkle Cut Potato Chips Cheese & Onion",
          "Smith's Crinkle Cut Potato Chips Barbecue",
          "Smith's Crinkle Cut Potato Chips Chicken",
          "Thins Chips Salt & Vinegar",
          "Smith's Thinly Cut Potato Chips Original Share Pack",
          "Thins Chips Chicken",
          "Smith's Crinkle Cut Potato Chips Salt & Vinegar",
          "Thins Chips Light & Tangy",
          "Thins Cheese & Onion Chips"
         ],
         "xaxis": "x",
         "y": [
          "Potatoes",
          "Potatoes",
          "Potatoes",
          "Potatoes",
          "Potatoes",
          "Potatoes",
          "Potatoes",
          "Potatoes",
          "Potatoes",
          "Potatoes"
         ],
         "yaxis": "y"
        },
        {
         "alignmentgroup": "True",
         "hovertemplate": " Ingredients=%{y}<br>Product=%{x}<extra></extra>",
         "legendgroup": "Sunflower Oil",
         "marker": {
          "color": "#FF97FF",
          "pattern": {
           "shape": ""
          }
         },
         "name": "Sunflower Oil",
         "offsetgroup": "Sunflower Oil",
         "orientation": "v",
         "showlegend": true,
         "textposition": "auto",
         "type": "bar",
         "x": [
          "Smith's Crinkle Cut Potato Chips Original",
          "Smith's Crinkle Cut Potato Chips Cheese & Onion",
          "Smith's Crinkle Cut Potato Chips Barbecue",
          "Smith's Crinkle Cut Potato Chips Chicken",
          "Smith's Thinly Cut Potato Chips Original Share Pack",
          "Smith's Crinkle Cut Potato Chips Salt & Vinegar"
         ],
         "xaxis": "x",
         "y": [
          "Sunflower Oil",
          "Sunflower Oil",
          "Sunflower Oil",
          "Sunflower Oil",
          "Sunflower Oil",
          "Sunflower Oil"
         ],
         "yaxis": "y"
        },
        {
         "alignmentgroup": "True",
         "hovertemplate": " Ingredients=%{y}<br>Product=%{x}<extra></extra>",
         "legendgroup": "Antioxidant Tocopherols",
         "marker": {
          "color": "#FECB52",
          "pattern": {
           "shape": ""
          }
         },
         "name": "Antioxidant Tocopherols",
         "offsetgroup": "Antioxidant Tocopherols",
         "orientation": "v",
         "showlegend": true,
         "textposition": "auto",
         "type": "bar",
         "x": [
          "Smith's Crinkle Cut Potato Chips Original",
          "Smith's Crinkle Cut Potato Chips Chicken",
          "Smith's Thinly Cut Potato Chips Original Share Pack",
          "Smith's Crinkle Cut Potato Chips Salt & Vinegar"
         ],
         "xaxis": "x",
         "y": [
          "Antioxidant Tocopherols",
          "Antioxidant Tocopherols",
          "Antioxidant Tocopherols",
          "Antioxidant Tocopherols"
         ],
         "yaxis": "y"
        },
        {
         "alignmentgroup": "True",
         "hovertemplate": " Ingredients=%{y}<br>Product=%{x}<extra></extra>",
         "legendgroup": "Antioxidant Rosemary Extract",
         "marker": {
          "color": "#636efa",
          "pattern": {
           "shape": ""
          }
         },
         "name": "Antioxidant Rosemary Extract",
         "offsetgroup": "Antioxidant Rosemary Extract",
         "orientation": "v",
         "showlegend": true,
         "textposition": "auto",
         "type": "bar",
         "x": [
          "Smith's Crinkle Cut Potato Chips Original",
          "Smith's Crinkle Cut Potato Chips Chicken",
          "Smith's Thinly Cut Potato Chips Original Share Pack",
          "Smith's Crinkle Cut Potato Chips Salt & Vinegar"
         ],
         "xaxis": "x",
         "y": [
          "Antioxidant Rosemary Extract",
          "Antioxidant Rosemary Extract",
          "Antioxidant Rosemary Extract",
          "Antioxidant Rosemary Extract"
         ],
         "yaxis": "y"
        },
        {
         "alignmentgroup": "True",
         "hovertemplate": " Ingredients=%{y}<br>Product=%{x}<extra></extra>",
         "legendgroup": "Cheese Powder",
         "marker": {
          "color": "#EF553B",
          "pattern": {
           "shape": ""
          }
         },
         "name": "Cheese Powder",
         "offsetgroup": "Cheese Powder",
         "orientation": "v",
         "showlegend": true,
         "textposition": "auto",
         "type": "bar",
         "x": [
          "Smith's Crinkle Cut Potato Chips Cheese & Onion",
          "Thins Cheese & Onion Chips"
         ],
         "xaxis": "x",
         "y": [
          "Cheese Powder",
          "Cheese Powder"
         ],
         "yaxis": "y"
        },
        {
         "alignmentgroup": "True",
         "hovertemplate": " Ingredients=%{y}<br>Product=%{x}<extra></extra>",
         "legendgroup": "Flavoured Milk",
         "marker": {
          "color": "#00cc96",
          "pattern": {
           "shape": ""
          }
         },
         "name": "Flavoured Milk",
         "offsetgroup": "Flavoured Milk",
         "orientation": "v",
         "showlegend": true,
         "textposition": "auto",
         "type": "bar",
         "x": [
          "Smith's Crinkle Cut Potato Chips Cheese & Onion",
          "Smith's Crinkle Cut Potato Chips Chicken"
         ],
         "xaxis": "x",
         "y": [
          "Flavoured Milk",
          "Flavoured Milk"
         ],
         "yaxis": "y"
        },
        {
         "alignmentgroup": "True",
         "hovertemplate": " Ingredients=%{y}<br>Product=%{x}<extra></extra>",
         "legendgroup": "Tomato Powder",
         "marker": {
          "color": "#ab63fa",
          "pattern": {
           "shape": ""
          }
         },
         "name": "Tomato Powder",
         "offsetgroup": "Tomato Powder",
         "orientation": "v",
         "showlegend": true,
         "textposition": "auto",
         "type": "bar",
         "x": [
          "Smith's Crinkle Cut Potato Chips Barbecue"
         ],
         "xaxis": "x",
         "y": [
          "Tomato Powder"
         ],
         "yaxis": "y"
        },
        {
         "alignmentgroup": "True",
         "hovertemplate": " Ingredients=%{y}<br>Product=%{x}<extra></extra>",
         "legendgroup": "Sodium Diacetate",
         "marker": {
          "color": "#FFA15A",
          "pattern": {
           "shape": ""
          }
         },
         "name": "Sodium Diacetate",
         "offsetgroup": "Sodium Diacetate",
         "orientation": "v",
         "showlegend": true,
         "textposition": "auto",
         "type": "bar",
         "x": [
          "Smith's Crinkle Cut Potato Chips Barbecue",
          "Thins Chips Salt & Vinegar",
          "Smith's Crinkle Cut Potato Chips Salt & Vinegar"
         ],
         "xaxis": "x",
         "y": [
          "Sodium Diacetate",
          "Sodium Diacetate",
          "Sodium Diacetate"
         ],
         "yaxis": "y"
        },
        {
         "alignmentgroup": "True",
         "hovertemplate": " Ingredients=%{y}<br>Product=%{x}<extra></extra>",
         "legendgroup": "Paprika",
         "marker": {
          "color": "#19d3f3",
          "pattern": {
           "shape": ""
          }
         },
         "name": "Paprika",
         "offsetgroup": "Paprika",
         "orientation": "v",
         "showlegend": true,
         "textposition": "auto",
         "type": "bar",
         "x": [
          "Smith's Crinkle Cut Potato Chips Barbecue"
         ],
         "xaxis": "x",
         "y": [
          "Paprika"
         ],
         "yaxis": "y"
        },
        {
         "alignmentgroup": "True",
         "hovertemplate": " Ingredients=%{y}<br>Product=%{x}<extra></extra>",
         "legendgroup": "Flavour Enhancer 620",
         "marker": {
          "color": "#FF6692",
          "pattern": {
           "shape": ""
          }
         },
         "name": "Flavour Enhancer 620",
         "offsetgroup": "Flavour Enhancer 620",
         "orientation": "v",
         "showlegend": true,
         "textposition": "auto",
         "type": "bar",
         "x": [
          "Smith's Crinkle Cut Potato Chips Chicken"
         ],
         "xaxis": "x",
         "y": [
          "Flavour Enhancer 620"
         ],
         "yaxis": "y"
        },
        {
         "alignmentgroup": "True",
         "hovertemplate": " Ingredients=%{y}<br>Product=%{x}<extra></extra>",
         "legendgroup": "Glucose",
         "marker": {
          "color": "#B6E880",
          "pattern": {
           "shape": ""
          }
         },
         "name": "Glucose",
         "offsetgroup": "Glucose",
         "orientation": "v",
         "showlegend": true,
         "textposition": "auto",
         "type": "bar",
         "x": [
          "Thins Chips Chicken"
         ],
         "xaxis": "x",
         "y": [
          "Glucose"
         ],
         "yaxis": "y"
        },
        {
         "alignmentgroup": "True",
         "hovertemplate": " Ingredients=%{y}<br>Product=%{x}<extra></extra>",
         "legendgroup": "Vegetable Powder Garlic",
         "marker": {
          "color": "#FF97FF",
          "pattern": {
           "shape": ""
          }
         },
         "name": "Vegetable Powder Garlic",
         "offsetgroup": "Vegetable Powder Garlic",
         "orientation": "v",
         "showlegend": true,
         "textposition": "auto",
         "type": "bar",
         "x": [
          "Thins Chips Chicken"
         ],
         "xaxis": "x",
         "y": [
          "Vegetable Powder Garlic"
         ],
         "yaxis": "y"
        },
        {
         "alignmentgroup": "True",
         "hovertemplate": " Ingredients=%{y}<br>Product=%{x}<extra></extra>",
         "legendgroup": "Milk Lactose",
         "marker": {
          "color": "#FECB52",
          "pattern": {
           "shape": ""
          }
         },
         "name": "Milk Lactose",
         "offsetgroup": "Milk Lactose",
         "orientation": "v",
         "showlegend": true,
         "textposition": "auto",
         "type": "bar",
         "x": [
          "Smith's Crinkle Cut Potato Chips Salt & Vinegar"
         ],
         "xaxis": "x",
         "y": [
          "Milk Lactose"
         ],
         "yaxis": "y"
        },
        {
         "alignmentgroup": "True",
         "hovertemplate": " Ingredients=%{y}<br>Product=%{x}<extra></extra>",
         "legendgroup": "Vegetable Powder Tomato",
         "marker": {
          "color": "#636efa",
          "pattern": {
           "shape": ""
          }
         },
         "name": "Vegetable Powder Tomato",
         "offsetgroup": "Vegetable Powder Tomato",
         "orientation": "v",
         "showlegend": true,
         "textposition": "auto",
         "type": "bar",
         "x": [
          "Thins Chips Light & Tangy"
         ],
         "xaxis": "x",
         "y": [
          "Vegetable Powder Tomato"
         ],
         "yaxis": "y"
        },
        {
         "alignmentgroup": "True",
         "hovertemplate": " Ingredients=%{y}<br>Product=%{x}<extra></extra>",
         "legendgroup": "Garam Masala",
         "marker": {
          "color": "#EF553B",
          "pattern": {
           "shape": ""
          }
         },
         "name": "Garam Masala",
         "offsetgroup": "Garam Masala",
         "orientation": "v",
         "showlegend": true,
         "textposition": "auto",
         "type": "bar",
         "x": [
          "Thins Chips Light & Tangy"
         ],
         "xaxis": "x",
         "y": [
          "Garam Masala"
         ],
         "yaxis": "y"
        },
        {
         "alignmentgroup": "True",
         "hovertemplate": " Ingredients=%{y}<br>Product=%{x}<extra></extra>",
         "legendgroup": "Buttermilk Powder",
         "marker": {
          "color": "#00cc96",
          "pattern": {
           "shape": ""
          }
         },
         "name": "Buttermilk Powder",
         "offsetgroup": "Buttermilk Powder",
         "orientation": "v",
         "showlegend": true,
         "textposition": "auto",
         "type": "bar",
         "x": [
          "Thins Chips Light & Tangy"
         ],
         "xaxis": "x",
         "y": [
          "Buttermilk Powder"
         ],
         "yaxis": "y"
        },
        {
         "alignmentgroup": "True",
         "hovertemplate": " Ingredients=%{y}<br>Product=%{x}<extra></extra>",
         "legendgroup": "Lactic Acid",
         "marker": {
          "color": "#ab63fa",
          "pattern": {
           "shape": ""
          }
         },
         "name": "Lactic Acid",
         "offsetgroup": "Lactic Acid",
         "orientation": "v",
         "showlegend": true,
         "textposition": "auto",
         "type": "bar",
         "x": [
          "Thins Cheese & Onion Chips"
         ],
         "xaxis": "x",
         "y": [
          "Lactic Acid"
         ],
         "yaxis": "y"
        },
        {
         "alignmentgroup": "True",
         "hovertemplate": " Ingredients=%{y}<br>Product=%{x}<extra></extra>",
         "legendgroup": "Paprika Extract",
         "marker": {
          "color": "#FFA15A",
          "pattern": {
           "shape": ""
          }
         },
         "name": "Paprika Extract",
         "offsetgroup": "Paprika Extract",
         "orientation": "v",
         "showlegend": true,
         "textposition": "auto",
         "type": "bar",
         "x": [
          "Thins Cheese & Onion Chips"
         ],
         "xaxis": "x",
         "y": [
          "Paprika Extract"
         ],
         "yaxis": "y"
        },
        {
         "alignmentgroup": "True",
         "hovertemplate": " Ingredients=%{y}<br>Product=%{x}<extra></extra>",
         "legendgroup": "Carrageenan",
         "marker": {
          "color": "#19d3f3",
          "pattern": {
           "shape": ""
          }
         },
         "name": "Carrageenan",
         "offsetgroup": "Carrageenan",
         "orientation": "v",
         "showlegend": true,
         "textposition": "auto",
         "type": "bar",
         "x": [
          "Woolworths Peach In Strawberry Jelly",
          "Woolworths Two Fruits In Tropical Jelly",
          "Woolworths Apple In Pineapple Jelly"
         ],
         "xaxis": "x",
         "y": [
          "Carrageenan",
          "Carrageenan",
          "Carrageenan"
         ],
         "yaxis": "y"
        },
        {
         "alignmentgroup": "True",
         "hovertemplate": " Ingredients=%{y}<br>Product=%{x}<extra></extra>",
         "legendgroup": "Locust Bean Gum",
         "marker": {
          "color": "#FF6692",
          "pattern": {
           "shape": ""
          }
         },
         "name": "Locust Bean Gum",
         "offsetgroup": "Locust Bean Gum",
         "orientation": "v",
         "showlegend": true,
         "textposition": "auto",
         "type": "bar",
         "x": [
          "Woolworths Peach In Strawberry Jelly",
          "Woolworths Two Fruits In Tropical Jelly",
          "Woolworths Apple In Pineapple Jelly"
         ],
         "xaxis": "x",
         "y": [
          "Locust Bean Gum",
          "Locust Bean Gum",
          "Locust Bean Gum"
         ],
         "yaxis": "y"
        },
        {
         "alignmentgroup": "True",
         "hovertemplate": " Ingredients=%{y}<br>Product=%{x}<extra></extra>",
         "legendgroup": "Calcium Lactate",
         "marker": {
          "color": "#B6E880",
          "pattern": {
           "shape": ""
          }
         },
         "name": "Calcium Lactate",
         "offsetgroup": "Calcium Lactate",
         "orientation": "v",
         "showlegend": true,
         "textposition": "auto",
         "type": "bar",
         "x": [
          "Woolworths Peach In Strawberry Jelly",
          "Woolworths Two Fruits In Tropical Jelly",
          "Woolworths Apple In Pineapple Jelly"
         ],
         "xaxis": "x",
         "y": [
          "Calcium Lactate",
          "Calcium Lactate",
          "Calcium Lactate"
         ],
         "yaxis": "y"
        },
        {
         "alignmentgroup": "True",
         "hovertemplate": " Ingredients=%{y}<br>Product=%{x}<extra></extra>",
         "legendgroup": "Malic Acid",
         "marker": {
          "color": "#FF97FF",
          "pattern": {
           "shape": ""
          }
         },
         "name": "Malic Acid",
         "offsetgroup": "Malic Acid",
         "orientation": "v",
         "showlegend": true,
         "textposition": "auto",
         "type": "bar",
         "x": [
          "Woolworths Peach In Strawberry Jelly",
          "Woolworths Two Fruits In Tropical Jelly",
          "Woolworths Apple In Pineapple Jelly"
         ],
         "xaxis": "x",
         "y": [
          "Malic Acid",
          "Malic Acid",
          "Malic Acid"
         ],
         "yaxis": "y"
        },
        {
         "alignmentgroup": "True",
         "hovertemplate": " Ingredients=%{y}<br>Product=%{x}<extra></extra>",
         "legendgroup": "Natural Strawberry Flavour",
         "marker": {
          "color": "#FECB52",
          "pattern": {
           "shape": ""
          }
         },
         "name": "Natural Strawberry Flavour",
         "offsetgroup": "Natural Strawberry Flavour",
         "orientation": "v",
         "showlegend": true,
         "textposition": "auto",
         "type": "bar",
         "x": [
          "Woolworths Peach In Strawberry Jelly"
         ],
         "xaxis": "x",
         "y": [
          "Natural Strawberry Flavour"
         ],
         "yaxis": "y"
        },
        {
         "alignmentgroup": "True",
         "hovertemplate": " Ingredients=%{y}<br>Product=%{x}<extra></extra>",
         "legendgroup": "Cochineal",
         "marker": {
          "color": "#636efa",
          "pattern": {
           "shape": ""
          }
         },
         "name": "Cochineal",
         "offsetgroup": "Cochineal",
         "orientation": "v",
         "showlegend": true,
         "textposition": "auto",
         "type": "bar",
         "x": [
          "Woolworths Peach In Strawberry Jelly"
         ],
         "xaxis": "x",
         "y": [
          "Cochineal"
         ],
         "yaxis": "y"
        },
        {
         "alignmentgroup": "True",
         "hovertemplate": " Ingredients=%{y}<br>Product=%{x}<extra></extra>",
         "legendgroup": "Fruit Peach",
         "marker": {
          "color": "#EF553B",
          "pattern": {
           "shape": ""
          }
         },
         "name": "Fruit Peach",
         "offsetgroup": "Fruit Peach",
         "orientation": "v",
         "showlegend": true,
         "textposition": "auto",
         "type": "bar",
         "x": [
          "Woolworths Peach In Strawberry Jelly",
          "Woolworths Two Fruits In Juice Cups",
          "Woolworths Two Fruits In Juice",
          "Woolworths Two Fruits In Juice",
          "Woolworths Two Fruits In Tropical Jelly"
         ],
         "xaxis": "x",
         "y": [
          "Fruit Peach",
          "Fruit Peach",
          "Fruit Peach",
          "Fruit Peach",
          "Fruit Peach"
         ],
         "yaxis": "y"
        },
        {
         "alignmentgroup": "True",
         "hovertemplate": " Ingredients=%{y}<br>Product=%{x}<extra></extra>",
         "legendgroup": "Pear",
         "marker": {
          "color": "#00cc96",
          "pattern": {
           "shape": ""
          }
         },
         "name": "Pear",
         "offsetgroup": "Pear",
         "orientation": "v",
         "showlegend": true,
         "textposition": "auto",
         "type": "bar",
         "x": [
          "Woolworths Two Fruits In Juice Cups",
          "Woolworths Two Fruits In Juice",
          "Woolworths Two Fruits In Juice",
          "Woolworths Two Fruits In Tropical Jelly"
         ],
         "xaxis": "x",
         "y": [
          "Pear",
          "Pear",
          "Pear",
          "Pear"
         ],
         "yaxis": "y"
        },
        {
         "alignmentgroup": "True",
         "hovertemplate": " Ingredients=%{y}<br>Product=%{x}<extra></extra>",
         "legendgroup": "Reconstituted Refined Juice Concentrated Pear Juice",
         "marker": {
          "color": "#ab63fa",
          "pattern": {
           "shape": ""
          }
         },
         "name": "Reconstituted Refined Juice Concentrated Pear Juice",
         "offsetgroup": "Reconstituted Refined Juice Concentrated Pear Juice",
         "orientation": "v",
         "showlegend": true,
         "textposition": "auto",
         "type": "bar",
         "x": [
          "Woolworths Two Fruits In Juice Cups",
          "Woolworths Two Fruits In Juice"
         ],
         "xaxis": "x",
         "y": [
          "Reconstituted Refined Juice Concentrated Pear Juice",
          "Reconstituted Refined Juice Concentrated Pear Juice"
         ],
         "yaxis": "y"
        },
        {
         "alignmentgroup": "True",
         "hovertemplate": " Ingredients=%{y}<br>Product=%{x}<extra></extra>",
         "legendgroup": "Refined Fruit Juice Apple",
         "marker": {
          "color": "#FFA15A",
          "pattern": {
           "shape": ""
          }
         },
         "name": "Refined Fruit Juice Apple",
         "offsetgroup": "Refined Fruit Juice Apple",
         "orientation": "v",
         "showlegend": true,
         "textposition": "auto",
         "type": "bar",
         "x": [
          "Woolworths Two Fruits In Juice"
         ],
         "xaxis": "x",
         "y": [
          "Refined Fruit Juice Apple"
         ],
         "yaxis": "y"
        },
        {
         "alignmentgroup": "True",
         "hovertemplate": " Ingredients=%{y}<br>Product=%{x}<extra></extra>",
         "legendgroup": "Refined Fruit Juice Grape",
         "marker": {
          "color": "#19d3f3",
          "pattern": {
           "shape": ""
          }
         },
         "name": "Refined Fruit Juice Grape",
         "offsetgroup": "Refined Fruit Juice Grape",
         "orientation": "v",
         "showlegend": true,
         "textposition": "auto",
         "type": "bar",
         "x": [
          "Woolworths Two Fruits In Juice"
         ],
         "xaxis": "x",
         "y": [
          "Refined Fruit Juice Grape"
         ],
         "yaxis": "y"
        },
        {
         "alignmentgroup": "True",
         "hovertemplate": " Ingredients=%{y}<br>Product=%{x}<extra></extra>",
         "legendgroup": "Refined Fruit Juice Peach",
         "marker": {
          "color": "#FF6692",
          "pattern": {
           "shape": ""
          }
         },
         "name": "Refined Fruit Juice Peach",
         "offsetgroup": "Refined Fruit Juice Peach",
         "orientation": "v",
         "showlegend": true,
         "textposition": "auto",
         "type": "bar",
         "x": [
          "Woolworths Two Fruits In Juice"
         ],
         "xaxis": "x",
         "y": [
          "Refined Fruit Juice Peach"
         ],
         "yaxis": "y"
        },
        {
         "alignmentgroup": "True",
         "hovertemplate": " Ingredients=%{y}<br>Product=%{x}<extra></extra>",
         "legendgroup": "Refined Fruit Juice Pear",
         "marker": {
          "color": "#B6E880",
          "pattern": {
           "shape": ""
          }
         },
         "name": "Refined Fruit Juice Pear",
         "offsetgroup": "Refined Fruit Juice Pear",
         "orientation": "v",
         "showlegend": true,
         "textposition": "auto",
         "type": "bar",
         "x": [
          "Woolworths Two Fruits In Juice"
         ],
         "xaxis": "x",
         "y": [
          "Refined Fruit Juice Pear"
         ],
         "yaxis": "y"
        },
        {
         "alignmentgroup": "True",
         "hovertemplate": " Ingredients=%{y}<br>Product=%{x}<extra></extra>",
         "legendgroup": "Natural Flavour Pineapple",
         "marker": {
          "color": "#FF97FF",
          "pattern": {
           "shape": ""
          }
         },
         "name": "Natural Flavour Pineapple",
         "offsetgroup": "Natural Flavour Pineapple",
         "orientation": "v",
         "showlegend": true,
         "textposition": "auto",
         "type": "bar",
         "x": [
          "Woolworths Two Fruits In Tropical Jelly"
         ],
         "xaxis": "x",
         "y": [
          "Natural Flavour Pineapple"
         ],
         "yaxis": "y"
        },
        {
         "alignmentgroup": "True",
         "hovertemplate": " Ingredients=%{y}<br>Product=%{x}<extra></extra>",
         "legendgroup": "Natural Flavour Mango",
         "marker": {
          "color": "#FECB52",
          "pattern": {
           "shape": ""
          }
         },
         "name": "Natural Flavour Mango",
         "offsetgroup": "Natural Flavour Mango",
         "orientation": "v",
         "showlegend": true,
         "textposition": "auto",
         "type": "bar",
         "x": [
          "Woolworths Two Fruits In Tropical Jelly"
         ],
         "xaxis": "x",
         "y": [
          "Natural Flavour Mango"
         ],
         "yaxis": "y"
        },
        {
         "alignmentgroup": "True",
         "hovertemplate": " Ingredients=%{y}<br>Product=%{x}<extra></extra>",
         "legendgroup": "Jelly Natural Pineapple Flavour",
         "marker": {
          "color": "#636efa",
          "pattern": {
           "shape": ""
          }
         },
         "name": "Jelly Natural Pineapple Flavour",
         "offsetgroup": "Jelly Natural Pineapple Flavour",
         "orientation": "v",
         "showlegend": true,
         "textposition": "auto",
         "type": "bar",
         "x": [
          "Woolworths Apple In Pineapple Jelly"
         ],
         "xaxis": "x",
         "y": [
          "Jelly Natural Pineapple Flavour"
         ],
         "yaxis": "y"
        },
        {
         "alignmentgroup": "True",
         "hovertemplate": " Ingredients=%{y}<br>Product=%{x}<extra></extra>",
         "legendgroup": "Apple",
         "marker": {
          "color": "#EF553B",
          "pattern": {
           "shape": ""
          }
         },
         "name": "Apple",
         "offsetgroup": "Apple",
         "orientation": "v",
         "showlegend": true,
         "textposition": "auto",
         "type": "bar",
         "x": [
          "Woolworths Apple In Pineapple Jelly"
         ],
         "xaxis": "x",
         "y": [
          "Apple"
         ],
         "yaxis": "y"
        },
        {
         "alignmentgroup": "True",
         "hovertemplate": " Ingredients=%{y}<br>Product=%{x}<extra></extra>",
         "legendgroup": "Diced Pears",
         "marker": {
          "color": "#00cc96",
          "pattern": {
           "shape": ""
          }
         },
         "name": "Diced Pears",
         "offsetgroup": "Diced Pears",
         "orientation": "v",
         "showlegend": true,
         "textposition": "auto",
         "type": "bar",
         "x": [
          "Goulburn Valley Two Fruits In Juice",
          "Goulburn Valley Two Fruits In Juice Fruit Cups In Juice"
         ],
         "xaxis": "x",
         "y": [
          "Diced Pears",
          "Diced Pears"
         ],
         "yaxis": "y"
        },
        {
         "alignmentgroup": "True",
         "hovertemplate": " Ingredients=%{y}<br>Product=%{x}<extra></extra>",
         "legendgroup": "Diced Peaches",
         "marker": {
          "color": "#ab63fa",
          "pattern": {
           "shape": ""
          }
         },
         "name": "Diced Peaches",
         "offsetgroup": "Diced Peaches",
         "orientation": "v",
         "showlegend": true,
         "textposition": "auto",
         "type": "bar",
         "x": [
          "Goulburn Valley Two Fruits In Juice",
          "Goulburn Valley Two Fruits In Juice Fruit Cups In Juice"
         ],
         "xaxis": "x",
         "y": [
          "Diced Peaches",
          "Diced Peaches"
         ],
         "yaxis": "y"
        },
        {
         "alignmentgroup": "True",
         "hovertemplate": " Ingredients=%{y}<br>Product=%{x}<extra></extra>",
         "legendgroup": "Refined Fruit Juice",
         "marker": {
          "color": "#FFA15A",
          "pattern": {
           "shape": ""
          }
         },
         "name": "Refined Fruit Juice",
         "offsetgroup": "Refined Fruit Juice",
         "orientation": "v",
         "showlegend": true,
         "textposition": "auto",
         "type": "bar",
         "x": [
          "Goulburn Valley Two Fruits In Juice",
          "Goulburn Valley Two Fruits In Juice Fruit Cups In Juice"
         ],
         "xaxis": "x",
         "y": [
          "Refined Fruit Juice",
          "Refined Fruit Juice"
         ],
         "yaxis": "y"
        },
        {
         "alignmentgroup": "True",
         "hovertemplate": " Ingredients=%{y}<br>Product=%{x}<extra></extra>",
         "legendgroup": "Pineapple",
         "marker": {
          "color": "#19d3f3",
          "pattern": {
           "shape": ""
          }
         },
         "name": "Pineapple",
         "offsetgroup": "Pineapple",
         "orientation": "v",
         "showlegend": true,
         "textposition": "auto",
         "type": "bar",
         "x": [
          "Dole Pineapple Slices In Syrup",
          "Dole Pineapple Chunks In Juice"
         ],
         "xaxis": "x",
         "y": [
          "Pineapple",
          "Pineapple"
         ],
         "yaxis": "y"
        },
        {
         "alignmentgroup": "True",
         "hovertemplate": " Ingredients=%{y}<br>Product=%{x}<extra></extra>",
         "legendgroup": "Pineapple Juice",
         "marker": {
          "color": "#FF6692",
          "pattern": {
           "shape": ""
          }
         },
         "name": "Pineapple Juice",
         "offsetgroup": "Pineapple Juice",
         "orientation": "v",
         "showlegend": true,
         "textposition": "auto",
         "type": "bar",
         "x": [
          "Dole Pineapple Chunks In Juice"
         ],
         "xaxis": "x",
         "y": [
          "Pineapple Juice"
         ],
         "yaxis": "y"
        },
        {
         "alignmentgroup": "True",
         "hovertemplate": " Ingredients=%{y}<br>Product=%{x}<extra></extra>",
         "legendgroup": "Clarified Pineapple Juice Concentrate",
         "marker": {
          "color": "#B6E880",
          "pattern": {
           "shape": ""
          }
         },
         "name": "Clarified Pineapple Juice Concentrate",
         "offsetgroup": "Clarified Pineapple Juice Concentrate",
         "orientation": "v",
         "showlegend": true,
         "textposition": "auto",
         "type": "bar",
         "x": [
          "Dole Pineapple Chunks In Juice"
         ],
         "xaxis": "x",
         "y": [
          "Clarified Pineapple Juice Concentrate"
         ],
         "yaxis": "y"
        }
       ],
       "layout": {
        "barmode": "relative",
        "legend": {
         "title": {
          "text": " Ingredients"
         },
         "tracegroupgap": 0
        },
        "template": {
         "data": {
          "bar": [
           {
            "error_x": {
             "color": "#2a3f5f"
            },
            "error_y": {
             "color": "#2a3f5f"
            },
            "marker": {
             "line": {
              "color": "#E5ECF6",
              "width": 0.5
             },
             "pattern": {
              "fillmode": "overlay",
              "size": 10,
              "solidity": 0.2
             }
            },
            "type": "bar"
           }
          ],
          "barpolar": [
           {
            "marker": {
             "line": {
              "color": "#E5ECF6",
              "width": 0.5
             },
             "pattern": {
              "fillmode": "overlay",
              "size": 10,
              "solidity": 0.2
             }
            },
            "type": "barpolar"
           }
          ],
          "carpet": [
           {
            "aaxis": {
             "endlinecolor": "#2a3f5f",
             "gridcolor": "white",
             "linecolor": "white",
             "minorgridcolor": "white",
             "startlinecolor": "#2a3f5f"
            },
            "baxis": {
             "endlinecolor": "#2a3f5f",
             "gridcolor": "white",
             "linecolor": "white",
             "minorgridcolor": "white",
             "startlinecolor": "#2a3f5f"
            },
            "type": "carpet"
           }
          ],
          "choropleth": [
           {
            "colorbar": {
             "outlinewidth": 0,
             "ticks": ""
            },
            "type": "choropleth"
           }
          ],
          "contour": [
           {
            "colorbar": {
             "outlinewidth": 0,
             "ticks": ""
            },
            "colorscale": [
             [
              0,
              "#0d0887"
             ],
             [
              0.1111111111111111,
              "#46039f"
             ],
             [
              0.2222222222222222,
              "#7201a8"
             ],
             [
              0.3333333333333333,
              "#9c179e"
             ],
             [
              0.4444444444444444,
              "#bd3786"
             ],
             [
              0.5555555555555556,
              "#d8576b"
             ],
             [
              0.6666666666666666,
              "#ed7953"
             ],
             [
              0.7777777777777778,
              "#fb9f3a"
             ],
             [
              0.8888888888888888,
              "#fdca26"
             ],
             [
              1,
              "#f0f921"
             ]
            ],
            "type": "contour"
           }
          ],
          "contourcarpet": [
           {
            "colorbar": {
             "outlinewidth": 0,
             "ticks": ""
            },
            "type": "contourcarpet"
           }
          ],
          "heatmap": [
           {
            "colorbar": {
             "outlinewidth": 0,
             "ticks": ""
            },
            "colorscale": [
             [
              0,
              "#0d0887"
             ],
             [
              0.1111111111111111,
              "#46039f"
             ],
             [
              0.2222222222222222,
              "#7201a8"
             ],
             [
              0.3333333333333333,
              "#9c179e"
             ],
             [
              0.4444444444444444,
              "#bd3786"
             ],
             [
              0.5555555555555556,
              "#d8576b"
             ],
             [
              0.6666666666666666,
              "#ed7953"
             ],
             [
              0.7777777777777778,
              "#fb9f3a"
             ],
             [
              0.8888888888888888,
              "#fdca26"
             ],
             [
              1,
              "#f0f921"
             ]
            ],
            "type": "heatmap"
           }
          ],
          "heatmapgl": [
           {
            "colorbar": {
             "outlinewidth": 0,
             "ticks": ""
            },
            "colorscale": [
             [
              0,
              "#0d0887"
             ],
             [
              0.1111111111111111,
              "#46039f"
             ],
             [
              0.2222222222222222,
              "#7201a8"
             ],
             [
              0.3333333333333333,
              "#9c179e"
             ],
             [
              0.4444444444444444,
              "#bd3786"
             ],
             [
              0.5555555555555556,
              "#d8576b"
             ],
             [
              0.6666666666666666,
              "#ed7953"
             ],
             [
              0.7777777777777778,
              "#fb9f3a"
             ],
             [
              0.8888888888888888,
              "#fdca26"
             ],
             [
              1,
              "#f0f921"
             ]
            ],
            "type": "heatmapgl"
           }
          ],
          "histogram": [
           {
            "marker": {
             "pattern": {
              "fillmode": "overlay",
              "size": 10,
              "solidity": 0.2
             }
            },
            "type": "histogram"
           }
          ],
          "histogram2d": [
           {
            "colorbar": {
             "outlinewidth": 0,
             "ticks": ""
            },
            "colorscale": [
             [
              0,
              "#0d0887"
             ],
             [
              0.1111111111111111,
              "#46039f"
             ],
             [
              0.2222222222222222,
              "#7201a8"
             ],
             [
              0.3333333333333333,
              "#9c179e"
             ],
             [
              0.4444444444444444,
              "#bd3786"
             ],
             [
              0.5555555555555556,
              "#d8576b"
             ],
             [
              0.6666666666666666,
              "#ed7953"
             ],
             [
              0.7777777777777778,
              "#fb9f3a"
             ],
             [
              0.8888888888888888,
              "#fdca26"
             ],
             [
              1,
              "#f0f921"
             ]
            ],
            "type": "histogram2d"
           }
          ],
          "histogram2dcontour": [
           {
            "colorbar": {
             "outlinewidth": 0,
             "ticks": ""
            },
            "colorscale": [
             [
              0,
              "#0d0887"
             ],
             [
              0.1111111111111111,
              "#46039f"
             ],
             [
              0.2222222222222222,
              "#7201a8"
             ],
             [
              0.3333333333333333,
              "#9c179e"
             ],
             [
              0.4444444444444444,
              "#bd3786"
             ],
             [
              0.5555555555555556,
              "#d8576b"
             ],
             [
              0.6666666666666666,
              "#ed7953"
             ],
             [
              0.7777777777777778,
              "#fb9f3a"
             ],
             [
              0.8888888888888888,
              "#fdca26"
             ],
             [
              1,
              "#f0f921"
             ]
            ],
            "type": "histogram2dcontour"
           }
          ],
          "mesh3d": [
           {
            "colorbar": {
             "outlinewidth": 0,
             "ticks": ""
            },
            "type": "mesh3d"
           }
          ],
          "parcoords": [
           {
            "line": {
             "colorbar": {
              "outlinewidth": 0,
              "ticks": ""
             }
            },
            "type": "parcoords"
           }
          ],
          "pie": [
           {
            "automargin": true,
            "type": "pie"
           }
          ],
          "scatter": [
           {
            "fillpattern": {
             "fillmode": "overlay",
             "size": 10,
             "solidity": 0.2
            },
            "type": "scatter"
           }
          ],
          "scatter3d": [
           {
            "line": {
             "colorbar": {
              "outlinewidth": 0,
              "ticks": ""
             }
            },
            "marker": {
             "colorbar": {
              "outlinewidth": 0,
              "ticks": ""
             }
            },
            "type": "scatter3d"
           }
          ],
          "scattercarpet": [
           {
            "marker": {
             "colorbar": {
              "outlinewidth": 0,
              "ticks": ""
             }
            },
            "type": "scattercarpet"
           }
          ],
          "scattergeo": [
           {
            "marker": {
             "colorbar": {
              "outlinewidth": 0,
              "ticks": ""
             }
            },
            "type": "scattergeo"
           }
          ],
          "scattergl": [
           {
            "marker": {
             "colorbar": {
              "outlinewidth": 0,
              "ticks": ""
             }
            },
            "type": "scattergl"
           }
          ],
          "scattermapbox": [
           {
            "marker": {
             "colorbar": {
              "outlinewidth": 0,
              "ticks": ""
             }
            },
            "type": "scattermapbox"
           }
          ],
          "scatterpolar": [
           {
            "marker": {
             "colorbar": {
              "outlinewidth": 0,
              "ticks": ""
             }
            },
            "type": "scatterpolar"
           }
          ],
          "scatterpolargl": [
           {
            "marker": {
             "colorbar": {
              "outlinewidth": 0,
              "ticks": ""
             }
            },
            "type": "scatterpolargl"
           }
          ],
          "scatterternary": [
           {
            "marker": {
             "colorbar": {
              "outlinewidth": 0,
              "ticks": ""
             }
            },
            "type": "scatterternary"
           }
          ],
          "surface": [
           {
            "colorbar": {
             "outlinewidth": 0,
             "ticks": ""
            },
            "colorscale": [
             [
              0,
              "#0d0887"
             ],
             [
              0.1111111111111111,
              "#46039f"
             ],
             [
              0.2222222222222222,
              "#7201a8"
             ],
             [
              0.3333333333333333,
              "#9c179e"
             ],
             [
              0.4444444444444444,
              "#bd3786"
             ],
             [
              0.5555555555555556,
              "#d8576b"
             ],
             [
              0.6666666666666666,
              "#ed7953"
             ],
             [
              0.7777777777777778,
              "#fb9f3a"
             ],
             [
              0.8888888888888888,
              "#fdca26"
             ],
             [
              1,
              "#f0f921"
             ]
            ],
            "type": "surface"
           }
          ],
          "table": [
           {
            "cells": {
             "fill": {
              "color": "#EBF0F8"
             },
             "line": {
              "color": "white"
             }
            },
            "header": {
             "fill": {
              "color": "#C8D4E3"
             },
             "line": {
              "color": "white"
             }
            },
            "type": "table"
           }
          ]
         },
         "layout": {
          "annotationdefaults": {
           "arrowcolor": "#2a3f5f",
           "arrowhead": 0,
           "arrowwidth": 1
          },
          "autotypenumbers": "strict",
          "coloraxis": {
           "colorbar": {
            "outlinewidth": 0,
            "ticks": ""
           }
          },
          "colorscale": {
           "diverging": [
            [
             0,
             "#8e0152"
            ],
            [
             0.1,
             "#c51b7d"
            ],
            [
             0.2,
             "#de77ae"
            ],
            [
             0.3,
             "#f1b6da"
            ],
            [
             0.4,
             "#fde0ef"
            ],
            [
             0.5,
             "#f7f7f7"
            ],
            [
             0.6,
             "#e6f5d0"
            ],
            [
             0.7,
             "#b8e186"
            ],
            [
             0.8,
             "#7fbc41"
            ],
            [
             0.9,
             "#4d9221"
            ],
            [
             1,
             "#276419"
            ]
           ],
           "sequential": [
            [
             0,
             "#0d0887"
            ],
            [
             0.1111111111111111,
             "#46039f"
            ],
            [
             0.2222222222222222,
             "#7201a8"
            ],
            [
             0.3333333333333333,
             "#9c179e"
            ],
            [
             0.4444444444444444,
             "#bd3786"
            ],
            [
             0.5555555555555556,
             "#d8576b"
            ],
            [
             0.6666666666666666,
             "#ed7953"
            ],
            [
             0.7777777777777778,
             "#fb9f3a"
            ],
            [
             0.8888888888888888,
             "#fdca26"
            ],
            [
             1,
             "#f0f921"
            ]
           ],
           "sequentialminus": [
            [
             0,
             "#0d0887"
            ],
            [
             0.1111111111111111,
             "#46039f"
            ],
            [
             0.2222222222222222,
             "#7201a8"
            ],
            [
             0.3333333333333333,
             "#9c179e"
            ],
            [
             0.4444444444444444,
             "#bd3786"
            ],
            [
             0.5555555555555556,
             "#d8576b"
            ],
            [
             0.6666666666666666,
             "#ed7953"
            ],
            [
             0.7777777777777778,
             "#fb9f3a"
            ],
            [
             0.8888888888888888,
             "#fdca26"
            ],
            [
             1,
             "#f0f921"
            ]
           ]
          },
          "colorway": [
           "#636efa",
           "#EF553B",
           "#00cc96",
           "#ab63fa",
           "#FFA15A",
           "#19d3f3",
           "#FF6692",
           "#B6E880",
           "#FF97FF",
           "#FECB52"
          ],
          "font": {
           "color": "#2a3f5f"
          },
          "geo": {
           "bgcolor": "white",
           "lakecolor": "white",
           "landcolor": "#E5ECF6",
           "showlakes": true,
           "showland": true,
           "subunitcolor": "white"
          },
          "hoverlabel": {
           "align": "left"
          },
          "hovermode": "closest",
          "mapbox": {
           "style": "light"
          },
          "paper_bgcolor": "white",
          "plot_bgcolor": "#E5ECF6",
          "polar": {
           "angularaxis": {
            "gridcolor": "white",
            "linecolor": "white",
            "ticks": ""
           },
           "bgcolor": "#E5ECF6",
           "radialaxis": {
            "gridcolor": "white",
            "linecolor": "white",
            "ticks": ""
           }
          },
          "scene": {
           "xaxis": {
            "backgroundcolor": "#E5ECF6",
            "gridcolor": "white",
            "gridwidth": 2,
            "linecolor": "white",
            "showbackground": true,
            "ticks": "",
            "zerolinecolor": "white"
           },
           "yaxis": {
            "backgroundcolor": "#E5ECF6",
            "gridcolor": "white",
            "gridwidth": 2,
            "linecolor": "white",
            "showbackground": true,
            "ticks": "",
            "zerolinecolor": "white"
           },
           "zaxis": {
            "backgroundcolor": "#E5ECF6",
            "gridcolor": "white",
            "gridwidth": 2,
            "linecolor": "white",
            "showbackground": true,
            "ticks": "",
            "zerolinecolor": "white"
           }
          },
          "shapedefaults": {
           "line": {
            "color": "#2a3f5f"
           }
          },
          "ternary": {
           "aaxis": {
            "gridcolor": "white",
            "linecolor": "white",
            "ticks": ""
           },
           "baxis": {
            "gridcolor": "white",
            "linecolor": "white",
            "ticks": ""
           },
           "bgcolor": "#E5ECF6",
           "caxis": {
            "gridcolor": "white",
            "linecolor": "white",
            "ticks": ""
           }
          },
          "title": {
           "x": 0.05
          },
          "xaxis": {
           "automargin": true,
           "gridcolor": "white",
           "linecolor": "white",
           "ticks": "",
           "title": {
            "standoff": 15
           },
           "zerolinecolor": "white",
           "zerolinewidth": 2
          },
          "yaxis": {
           "automargin": true,
           "gridcolor": "white",
           "linecolor": "white",
           "ticks": "",
           "title": {
            "standoff": 15
           },
           "zerolinecolor": "white",
           "zerolinewidth": 2
          }
         }
        },
        "title": {
         "text": "Ingredients in Products"
        },
        "xaxis": {
         "anchor": "y",
         "domain": [
          0,
          1
         ],
         "showticklabels": false,
         "title": {
          "text": "Product"
         }
        },
        "yaxis": {
         "anchor": "x",
         "categoryarray": [
          "Clarified Pineapple Juice Concentrate",
          "Pineapple Juice",
          "Pineapple",
          "Refined Fruit Juice",
          "Diced Peaches",
          "Diced Pears",
          "Apple",
          "Jelly Natural Pineapple Flavour",
          "Natural Flavour Mango",
          "Natural Flavour Pineapple",
          "Refined Fruit Juice Pear",
          "Refined Fruit Juice Peach",
          "Refined Fruit Juice Grape",
          "Refined Fruit Juice Apple",
          "Reconstituted Refined Juice Concentrated Pear Juice",
          "Pear",
          "Fruit Peach",
          "Cochineal",
          "Natural Strawberry Flavour",
          "Malic Acid",
          "Calcium Lactate",
          "Locust Bean Gum",
          "Carrageenan",
          "Paprika Extract",
          "Lactic Acid",
          "Buttermilk Powder",
          "Garam Masala",
          "Vegetable Powder Tomato",
          "Milk Lactose",
          "Vegetable Powder Garlic",
          "Glucose",
          "Flavour Enhancer 620",
          "Paprika",
          "Sodium Diacetate",
          "Tomato Powder",
          "Flavoured Milk",
          "Cheese Powder",
          "Antioxidant Rosemary Extract",
          "Antioxidant Tocopherols",
          "Sunflower Oil",
          "Potatoes",
          "Australian Spring Water",
          "Natural Spring Water",
          "Reconstituted Fruit Puree Tomato Paste",
          "Reconstituted Fruit Puree Apple",
          "White Vinegar",
          "Mustard Oil",
          "Herb Extract",
          "Dill",
          "Paprika Oleoresins",
          "Carotene",
          "Gherkin",
          "Free Range Egg Yolk",
          "Vinegar",
          "Canola Oil",
          "Maize Maltodextrin",
          "Maize Thickener 1422",
          "Tomato Puree",
          "Nutmeg",
          "Clove",
          "Tamarind Paste",
          "Caramel Color 150c",
          "Wheat Cornflour",
          "Xanthan Gum",
          "Smoke Flavour",
          "Caramel I",
          "Molasses",
          "Tomato Paste",
          "Apple Pulp",
          "Reconstituted Fruit Puree",
          "Spice Extract",
          "Thickener Modified Corn Starch",
          "Reconstituted Tomato Puree",
          "Acidity Regulator 339",
          "Skim Milk",
          "Rice",
          "Sardines",
          "Homogenised Full Cream Milk",
          "Coconut Extract",
          "Durum Wheat Semolina",
          "Tomatoes",
          "Tomato Juice",
          "Syrup",
          "Fructose",
          "Cream",
          "Pasteurised Homogenised Milk",
          "Reconstituted Fruit Juice Peach Purée",
          "Reconstituted Fruit Juice Water Extracted Orange",
          "Pectin",
          "Potassium Citrate",
          "Vitamin A",
          "Guava Puree",
          "Reconstituted Fruit Juice Pear",
          "Reconstituted Fruit Juice Peach",
          "Reconstituted Fruit Juice Apricot",
          "Reconstituted Fruit Juice Grape",
          "Anthocyanins",
          "Reconstituted Fruit Juice Blackcurrant",
          "Carboxymethyl Cellulose",
          "Reconstituted Fruit Juice Passionfruit",
          "Reconstituted Fruit Juice Pineapple",
          "Vitamin C",
          "Reconstituted Apple Juice",
          "Ferric Ferrocyanide",
          "Titanium Dioxide",
          "Iron Oxides",
          "Ultramarines",
          "Mica",
          "Pentaerythrityl Tetra-di-t-butyl Hydroxyhydrocinnamate",
          "Octyldodecanol",
          "Silica",
          "Polybutene",
          "Bis-Diglyceryl Polyacyladipate-2",
          "Synthetic Wax",
          "Polyethylene",
          "Maize Starch",
          "Cultured Dextrose",
          "Black Carrot Extract",
          "Red Beetroot Powder",
          "Beta carotene",
          "Colouring Agent Spirulina Extract",
          "Colouring Agent Titan White",
          "Carnauba Wax",
          "Glazing Agent 414",
          "Milk Compound Chocolate",
          "Thickener 1414",
          "Colouring Agent 160a",
          "Raising Agent 450",
          "Thickener 1422",
          "Soybean Fibre",
          "Stabiliser 422",
          "Egg",
          "Emulsifier 442",
          "Dextrose",
          "Milk Chocolate Chips",
          "Carmine",
          "Strawberry",
          "Folate",
          "Thiamin",
          "Riboflavin",
          "Zinc",
          "Mineral Iron",
          "Ammonium Bicarbonate",
          "Cornstarch",
          "Fructose Syrup",
          "Skim Milk Powder",
          "Chocolate Chips",
          "Natural Flavour Butter",
          "Natural Flavour Vanilla",
          "Milk Butter",
          "Natural Vanilla Flavour",
          "Dark Chocolate Chips",
          "Ammonium Carbonate",
          "Sodium Carbonate",
          "Annatto Extracts",
          "Milk Whey Powder",
          "Whole Egg Powder",
          "Wheaten Corn Flour",
          "Natural Flavour",
          "Cocoa Solids",
          "Palm Oil",
          "Dark Compound Chocolate Chips",
          "Antioxidant E307B",
          "Colouring Agent Caramel IV",
          "Baking Powder",
          "Wheat Starch",
          "Desiccated Coconut",
          "Polyglycerol polyricinoleate",
          "Enzymes",
          "Emulsifier 471",
          "Sorbitan Tristearate",
          "Cocoa Powder",
          "Natural Flavour Vanilla Extract",
          "Egg White",
          "Barley Malt Extract",
          "Wheat Glucose Syrup",
          "Biscuit",
          "Caramel",
          "Milk Chocolate",
          "Acidity Regulator 331",
          "Invert Sugar",
          "Golden Syrup",
          "Sweetened Condensed Milk",
          "Glucose Syrup",
          "Full Cream Milk",
          "Choc Paste",
          "Processing Aid Wheat",
          "Yeast",
          "Cocoa",
          "Polyglycerol Polyricinoleate",
          "Milk",
          "Cocoa Mass",
          "Emulsifier Soy Lecithin",
          "Cocoa Butter",
          "Milk Solids",
          "Reconstituted Fruit Juice Orange",
          "Reconstituted Mango Juice",
          "Antioxidant 385",
          "Lutein",
          "Carminic Acid",
          "Ascorbic Acid",
          "Reconstituted Lemon Juice",
          "Safflower Extract",
          "Potassium Sorbate",
          "",
          "Reconstituted Lime Juice",
          "Sulphites",
          "Plant Extract Carthamus",
          "Plant Extract Gardenia",
          "Sodium Benzoate",
          "Natural Flavour Lime Oils",
          "Quinine",
          "Natural Flavour Lemon Peel Extract",
          "Natural Flavour Botanical Extracts",
          "Natural Flavour Citrus Oils",
          "Natural Flavour Orange Peel Extract",
          "Potassium Bicarbonate",
          "Natural Mineral Water",
          "Natural Flavours",
          "Carbonated Mineral Water",
          "Caramel Color",
          "Colouring Agent 150c",
          "Rosemary",
          "White Pepper",
          "Soy Sauce Powder",
          "Flavours",
          "Antioxidant 307b",
          "Colouring Agent 100",
          "Basil",
          "Mineral Salt 450",
          "Modified Starch 1420",
          "Dehydrated Vegetables",
          "Vegetable Sachet",
          "Flavour Sachet",
          "Curcumin",
          "Soy",
          "Gluten Wheat",
          "Burnt Sugar",
          "Parsley",
          "Potato Starch",
          "Potassium Chloride",
          "Mineral Salt 500",
          "Mineral Salt 501",
          "Flavour Celery",
          "Spice Ginger",
          "Spice Chilli Powder",
          "Spice Cardamom",
          "Cumin",
          "Coriander",
          "Caramel III",
          "Turmeric",
          "Parsley Flakes",
          "Vegetable Fat",
          "Flavours Soy",
          "Flavours Wheat",
          "Maltodextrin",
          "Iodised Salt",
          "Flavour Enhancer 635",
          "Mineral Salt 451",
          "Mineral Salt 508",
          "Antioxidant 320",
          "Vegetable Oil",
          "Disodium Inosinate",
          "TBHQ",
          "Fried Onion",
          "Sodium Metabisulfite",
          "Preservative 1211",
          "Herbs",
          "Citric Acid",
          "Acetic Acid",
          "Tapioca Starch",
          "Chilli",
          "Chilli Sauce",
          "Sesame Oil",
          "Spices",
          "Soy Bean",
          "Wheat",
          "Water",
          "Sweet Soy Sauce",
          "Onion",
          "Seasoning Oil",
          "Anti Caking Agent 551",
          "Pepper",
          "Artificial Flavour",
          "Yeast Extract",
          "Onion Powder",
          "Garlic Powder",
          "Disodium Guanylate",
          "Flavour Enhancer 621",
          "Seasoning Powder",
          "Colour 101",
          "Guar Gum",
          "Sodium Bicarbonate",
          "Acidity Regulator 501",
          "Acidity Regulator 451",
          "Salt",
          "Refined Palm Oil",
          "Wheat Flour",
          "Sweetener 952",
          "Acesulfame Potassium",
          "Aspartame",
          "Sodium Citrate",
          "Caffeine",
          "Flavour",
          "Phosphoric Acid",
          "Colouring Agent 150d",
          "Sugar",
          "Carbonated Water"
         ],
         "categoryorder": "array",
         "domain": [
          0,
          1
         ],
         "showticklabels": false,
         "title": {
          "text": "Ingredients"
         }
        }
       }
      }
     },
     "metadata": {},
     "output_type": "display_data"
    }
   ],
   "source": [
    "fig = px.bar(df, x='Product', y='IngredientResearch', color='IngredientResearch',\n",
    "             title='Ingredients in Products',\n",
    "             labels={'IngredientResearch': ' Ingredients'})\n",
    "\n",
    "fig.update_layout(\n",
    "    xaxis_title='Product',\n",
    "    yaxis_title='Ingredients',\n",
    "    xaxis_showticklabels=False,  # hide x label\n",
    "    yaxis_showticklabels=False  # hide x label\n",
    ")\n",
    "\n",
    "fig.show()"
   ]
  },
  {
   "cell_type": "code",
   "execution_count": null,
   "metadata": {},
   "outputs": [],
   "source": [
    "import plotly.graph_objects as go\n",
    "from neo4j import GraphDatabase\n",
    "\n",
    "query = \"\"\"\n",
    "MATCH (p:Product)\n",
    "RETURN p.name AS Product, p.cupPrice AS CupPrice, p.price AS Price\n",
    "\"\"\"\n",
    "\n",
    "def get_product_prices():\n",
    "    products = []\n",
    "    cup_prices = []\n",
    "    prices = []\n",
    "    with driver.session() as session:\n",
    "        result = session.run(query)\n",
    "        for record in result:\n",
    "            product = record[\"Product\"]\n",
    "            cup_price = record[\"CupPrice\"]\n",
    "            price = record[\"Price\"]\n",
    "            if cup_price is not None and price is not None:\n",
    "                products.append(product)\n",
    "                cup_prices.append(cup_price)\n",
    "                prices.append(price)\n",
    "    return products, cup_prices, prices\n",
    "\n",
    "products, cup_prices, prices = get_product_prices()\n",
    "\n",
    "fig = go.Figure(data=[\n",
    "    go.Bar(name='Cup Price', x=products, y=cup_prices),\n",
    "    go.Bar(name='Price', x=products, y=prices)\n",
    "])\n",
    "\n",
    "# Change layout\n",
    "fig.update_layout(\n",
    "    barmode='group',\n",
    "    title=\"Product Cup Price and Price Comparison\",\n",
    "    xaxis_title=\"Product\",\n",
    "    yaxis_title=\"Value\"\n",
    ")\n",
    "\n",
    "fig.show()\n",
    "\n",
    "\n"
   ]
  },
  {
   "cell_type": "code",
   "execution_count": 5,
   "metadata": {},
   "outputs": [
    {
     "data": {
      "application/vnd.plotly.v1+json": {
       "config": {
        "plotlyServerURL": "https://plot.ly"
       },
       "data": [
        {
         "alignmentgroup": "True",
         "hovertemplate": " Ingredients=%{y}<br>Product=%{x}<extra></extra>",
         "legendgroup": "Carbonated Water",
         "marker": {
          "color": "#AA0DFE",
          "pattern": {
           "shape": ""
          }
         },
         "name": "Carbonated Water",
         "offsetgroup": "Carbonated Water",
         "orientation": "v",
         "showlegend": true,
         "textposition": "auto",
         "type": "bar",
         "x": [
          "Coca - Cola Classic  Soft Drink Multipack Cans",
          "Coca - Cola Classic  Soft Drink Multipack Cans",
          "Coca - Cola Classic  Soft Drink Multipack Cans",
          "Coca - Cola Classic  Soft Drink Mini Cans",
          "Coca - Cola Vanilla  Soft Drink Multipack Cans",
          "Coca - Cola Zero Sugar Soft Drink Multipack Cans",
          "Coca - Cola Zero Sugar Soft Drink Multipack Cans",
          "Coca - Cola Zero Sugar Soft Drink Multipack Cans",
          "Coca - Cola Caffeine Free Zero Sugar Soft Drink Multipack Cans",
          "Coca - Cola Zero Sugar Soft Drink Mini Cans",
          "Schweppes Soda Water Bottle Classic Mixers",
          "Schweppes Indian Tonic Water Classic Mixers Bottle",
          "Schweppes Lime Soda Water With Lime Juice Bottle",
          "Schweppes Zero Sugar Classic Mixers Indian Tonic Water Bottle"
         ],
         "xaxis": "x",
         "y": [
          "Carbonated Water",
          "Carbonated Water",
          "Carbonated Water",
          "Carbonated Water",
          "Carbonated Water",
          "Carbonated Water",
          "Carbonated Water",
          "Carbonated Water",
          "Carbonated Water",
          "Carbonated Water",
          "Carbonated Water",
          "Carbonated Water",
          "Carbonated Water",
          "Carbonated Water"
         ],
         "yaxis": "y"
        },
        {
         "alignmentgroup": "True",
         "hovertemplate": " Ingredients=%{y}<br>Product=%{x}<extra></extra>",
         "legendgroup": "Sugar",
         "marker": {
          "color": "#3283FE",
          "pattern": {
           "shape": ""
          }
         },
         "name": "Sugar",
         "offsetgroup": "Sugar",
         "orientation": "v",
         "showlegend": true,
         "textposition": "auto",
         "type": "bar",
         "x": [
          "Coca - Cola Classic  Soft Drink Multipack Cans",
          "Coca - Cola Classic  Soft Drink Multipack Cans",
          "Coca - Cola Classic  Soft Drink Multipack Cans",
          "Coca - Cola Classic  Soft Drink Mini Cans",
          "Coca - Cola Vanilla  Soft Drink Multipack Cans",
          "Indomie Mi Goreng Instant Noodles",
          "Maggi 2 Minute Chicken Flavour Instant Noodles",
          "Maggi 2 Minute Chicken Flavour Instant Noodles",
          "Supreme Noodles Cup Chicken Flavour",
          "Fantastic Chicken Noodle Cup",
          "Fantastic Chicken Noodle Bowl",
          "Indomie Mi Goreng Noodle Cup",
          "Maggi 2 Minute Beef Flavour Instant Noodles",
          "Supreme Noodles Cup Beef Flavour",
          "Schweppes Indian Tonic Water Classic Mixers Bottle",
          "Schweppes Lime Soda Water With Lime Juice Bottle",
          "Schweppes Lemon Lime Natural Mineral Water Bottle",
          "Schweppes Orange Mango Natural Mineral Water Bottle",
          "Kitkat 4 Finger Milk Chocolate Bar",
          "Kitkat Chunky Original Chocolate Bar",
          "Cadbury Dairy Milk Caramello Koala Chocolate",
          "Mars Chocolate Bar With Nougat & Caramel",
          "Cadbury Dairy Milk Chocolate Roll",
          "Cadbury Dairy Milk Chocolate Bar",
          "Cadbury Twirl Chocolate Bar",
          "Cadbury Chomp Chocolate Bar",
          "Arnott's Premier Chocolate Chip Cookies",
          "Woolworths Chocolate Chip Cookies",
          "Woolworths The King Of Chunky Chocolate Chip Cookies",
          "Arnott's Mini Choc Chip Cookie Multipack Biscuits",
          "Oreo Original Mini Cookies Multipack",
          "Oreo Minis Cookies Variety Bags 18 Pack",
          "Cadbury Classic Choc Chip Cookies",
          "Cadbury Choc Centre Cookies",
          "Byron Bay Cookies Dotty Cookie Bites",
          "Oreo Original Cookies",
          "Golden Circle Golden Pash Fruit Drink",
          "Golden Circle Drinks Pine Orange Fruit Drink",
          "Golden Circle Drinks Sunshine Punch Fruit Drink",
          "Golden Circle Fruit Drinks Lunch Box Poppers Tropical Punch Multipack",
          "Oreo Double Stuff Cookies",
          "Oreo Original Cookies Family Pack",
          "Oreo Chocolate Cookies",
          "Oreo Grab & Go Original Cookies 9 Pack",
          "Oreo Neapolitan Double Stuff Cookies",
          "Woolworths Creamed Rice",
          "Woolworths Tomato Sauce Squeeze",
          "Woolworths Tomato Sauce",
          "Woolworths Barbecue Sauce Squeeze",
          "Masterfoods Tomato Sauce",
          "Masterfoods Barbecue Sauce",
          "Fountain Tomato Sauce Squeeze",
          "Fountain Barbecue Bbq Sauce Squeeze",
          "Woolworths Secret Burger Sauce",
          "Heinz Ketchup Tomato Sauce Ketchup",
          "Woolworths Barbecue Sauce",
          "Smith's Crinkle Cut Potato Chips Barbecue",
          "Smith's Crinkle Cut Potato Chips Chicken",
          "Thins Chips Chicken",
          "Smith's Crinkle Cut Potato Chips Salt & Vinegar",
          "Thins Chips Light & Tangy",
          "Thins Cheese & Onion Chips",
          "Woolworths Peach In Strawberry Jelly",
          "Woolworths Two Fruits In Tropical Jelly",
          "Woolworths Apple In Pineapple Jelly",
          "Dole Pineapple Slices In Syrup"
         ],
         "xaxis": "x",
         "y": [
          "Sugar",
          "Sugar",
          "Sugar",
          "Sugar",
          "Sugar",
          "Sugar",
          "Sugar",
          "Sugar",
          "Sugar",
          "Sugar",
          "Sugar",
          "Sugar",
          "Sugar",
          "Sugar",
          "Sugar",
          "Sugar",
          "Sugar",
          "Sugar",
          "Sugar",
          "Sugar",
          "Sugar",
          "Sugar",
          "Sugar",
          "Sugar",
          "Sugar",
          "Sugar",
          "Sugar",
          "Sugar",
          "Sugar",
          "Sugar",
          "Sugar",
          "Sugar",
          "Sugar",
          "Sugar",
          "Sugar",
          "Sugar",
          "Sugar",
          "Sugar",
          "Sugar",
          "Sugar",
          "Sugar",
          "Sugar",
          "Sugar",
          "Sugar",
          "Sugar",
          "Sugar",
          "Sugar",
          "Sugar",
          "Sugar",
          "Sugar",
          "Sugar",
          "Sugar",
          "Sugar",
          "Sugar",
          "Sugar",
          "Sugar",
          "Sugar",
          "Sugar",
          "Sugar",
          "Sugar",
          "Sugar",
          "Sugar",
          "Sugar",
          "Sugar",
          "Sugar",
          "Sugar"
         ],
         "yaxis": "y"
        },
        {
         "alignmentgroup": "True",
         "hovertemplate": " Ingredients=%{y}<br>Product=%{x}<extra></extra>",
         "legendgroup": "Colouring Agent 150d",
         "marker": {
          "color": "#85660D",
          "pattern": {
           "shape": ""
          }
         },
         "name": "Colouring Agent 150d",
         "offsetgroup": "Colouring Agent 150d",
         "orientation": "v",
         "showlegend": true,
         "textposition": "auto",
         "type": "bar",
         "x": [
          "Coca - Cola Classic  Soft Drink Multipack Cans",
          "Coca - Cola Classic  Soft Drink Multipack Cans",
          "Coca - Cola Classic  Soft Drink Multipack Cans",
          "Coca - Cola Classic  Soft Drink Mini Cans",
          "Coca - Cola Vanilla  Soft Drink Multipack Cans",
          "Coca - Cola Zero Sugar Soft Drink Multipack Cans",
          "Coca - Cola Zero Sugar Soft Drink Multipack Cans",
          "Coca - Cola Zero Sugar Soft Drink Multipack Cans",
          "Coca - Cola Caffeine Free Zero Sugar Soft Drink Multipack Cans",
          "Coca - Cola Zero Sugar Soft Drink Mini Cans",
          "Fountain Barbecue Bbq Sauce Squeeze"
         ],
         "xaxis": "x",
         "y": [
          "Colouring Agent 150d",
          "Colouring Agent 150d",
          "Colouring Agent 150d",
          "Colouring Agent 150d",
          "Colouring Agent 150d",
          "Colouring Agent 150d",
          "Colouring Agent 150d",
          "Colouring Agent 150d",
          "Colouring Agent 150d",
          "Colouring Agent 150d",
          "Colouring Agent 150d"
         ],
         "yaxis": "y"
        },
        {
         "alignmentgroup": "True",
         "hovertemplate": " Ingredients=%{y}<br>Product=%{x}<extra></extra>",
         "legendgroup": "Phosphoric Acid",
         "marker": {
          "color": "#782AB6",
          "pattern": {
           "shape": ""
          }
         },
         "name": "Phosphoric Acid",
         "offsetgroup": "Phosphoric Acid",
         "orientation": "v",
         "showlegend": true,
         "textposition": "auto",
         "type": "bar",
         "x": [
          "Coca - Cola Classic  Soft Drink Multipack Cans",
          "Coca - Cola Classic  Soft Drink Multipack Cans",
          "Coca - Cola Classic  Soft Drink Multipack Cans",
          "Coca - Cola Classic  Soft Drink Mini Cans",
          "Coca - Cola Vanilla  Soft Drink Multipack Cans",
          "Coca - Cola Zero Sugar Soft Drink Multipack Cans",
          "Coca - Cola Zero Sugar Soft Drink Multipack Cans",
          "Coca - Cola Zero Sugar Soft Drink Multipack Cans",
          "Coca - Cola Caffeine Free Zero Sugar Soft Drink Multipack Cans",
          "Coca - Cola Zero Sugar Soft Drink Mini Cans"
         ],
         "xaxis": "x",
         "y": [
          "Phosphoric Acid",
          "Phosphoric Acid",
          "Phosphoric Acid",
          "Phosphoric Acid",
          "Phosphoric Acid",
          "Phosphoric Acid",
          "Phosphoric Acid",
          "Phosphoric Acid",
          "Phosphoric Acid",
          "Phosphoric Acid"
         ],
         "yaxis": "y"
        },
        {
         "alignmentgroup": "True",
         "hovertemplate": " Ingredients=%{y}<br>Product=%{x}<extra></extra>",
         "legendgroup": "Flavour",
         "marker": {
          "color": "#565656",
          "pattern": {
           "shape": ""
          }
         },
         "name": "Flavour",
         "offsetgroup": "Flavour",
         "orientation": "v",
         "showlegend": true,
         "textposition": "auto",
         "type": "bar",
         "x": [
          "Coca - Cola Classic  Soft Drink Multipack Cans",
          "Coca - Cola Classic  Soft Drink Multipack Cans",
          "Coca - Cola Classic  Soft Drink Multipack Cans",
          "Coca - Cola Classic  Soft Drink Mini Cans",
          "Coca - Cola Vanilla  Soft Drink Multipack Cans",
          "Coca - Cola Zero Sugar Soft Drink Multipack Cans",
          "Coca - Cola Zero Sugar Soft Drink Multipack Cans",
          "Coca - Cola Zero Sugar Soft Drink Multipack Cans",
          "Coca - Cola Caffeine Free Zero Sugar Soft Drink Multipack Cans",
          "Coca - Cola Zero Sugar Soft Drink Mini Cans",
          "Maggi 2 Minute Beef Flavour Instant Noodles",
          "Kitkat 4 Finger Milk Chocolate Bar",
          "Kitkat Chunky Original Chocolate Bar",
          "Arnott's Premier Chocolate Chip Cookies",
          "Oreo Original Mini Cookies Multipack",
          "Oreo Minis Cookies Variety Bags 18 Pack",
          "Cadbury Classic Choc Chip Cookies",
          "Cadbury Choc Centre Cookies",
          "Byron Bay Cookies Dotty Cookie Bites",
          "Oreo Original Cookies",
          "Oreo Double Stuff Cookies",
          "Oreo Original Cookies Family Pack",
          "Oreo Chocolate Cookies",
          "Oreo Grab & Go Original Cookies 9 Pack",
          "Thins Chips Light & Tangy"
         ],
         "xaxis": "x",
         "y": [
          "Flavour",
          "Flavour",
          "Flavour",
          "Flavour",
          "Flavour",
          "Flavour",
          "Flavour",
          "Flavour",
          "Flavour",
          "Flavour",
          "Flavour",
          "Flavour",
          "Flavour",
          "Flavour",
          "Flavour",
          "Flavour",
          "Flavour",
          "Flavour",
          "Flavour",
          "Flavour",
          "Flavour",
          "Flavour",
          "Flavour",
          "Flavour",
          "Flavour"
         ],
         "yaxis": "y"
        },
        {
         "alignmentgroup": "True",
         "hovertemplate": " Ingredients=%{y}<br>Product=%{x}<extra></extra>",
         "legendgroup": "Caffeine",
         "marker": {
          "color": "#1C8356",
          "pattern": {
           "shape": ""
          }
         },
         "name": "Caffeine",
         "offsetgroup": "Caffeine",
         "orientation": "v",
         "showlegend": true,
         "textposition": "auto",
         "type": "bar",
         "x": [
          "Coca - Cola Classic  Soft Drink Multipack Cans",
          "Coca - Cola Classic  Soft Drink Multipack Cans",
          "Coca - Cola Classic  Soft Drink Multipack Cans",
          "Coca - Cola Classic  Soft Drink Mini Cans",
          "Coca - Cola Vanilla  Soft Drink Multipack Cans",
          "Coca - Cola Zero Sugar Soft Drink Multipack Cans",
          "Coca - Cola Zero Sugar Soft Drink Multipack Cans",
          "Coca - Cola Zero Sugar Soft Drink Multipack Cans",
          "Coca - Cola Zero Sugar Soft Drink Mini Cans"
         ],
         "xaxis": "x",
         "y": [
          "Caffeine",
          "Caffeine",
          "Caffeine",
          "Caffeine",
          "Caffeine",
          "Caffeine",
          "Caffeine",
          "Caffeine",
          "Caffeine"
         ],
         "yaxis": "y"
        },
        {
         "alignmentgroup": "True",
         "hovertemplate": " Ingredients=%{y}<br>Product=%{x}<extra></extra>",
         "legendgroup": "Sodium Citrate",
         "marker": {
          "color": "#16FF32",
          "pattern": {
           "shape": ""
          }
         },
         "name": "Sodium Citrate",
         "offsetgroup": "Sodium Citrate",
         "orientation": "v",
         "showlegend": true,
         "textposition": "auto",
         "type": "bar",
         "x": [
          "Coca - Cola Zero Sugar Soft Drink Multipack Cans",
          "Coca - Cola Zero Sugar Soft Drink Multipack Cans",
          "Coca - Cola Zero Sugar Soft Drink Multipack Cans",
          "Coca - Cola Caffeine Free Zero Sugar Soft Drink Multipack Cans",
          "Coca - Cola Zero Sugar Soft Drink Mini Cans",
          "Schweppes Zero Sugar Classic Mixers Indian Tonic Water Bottle",
          "Schweppes Lemon Lime Natural Mineral Water Bottle",
          "Woolworths Peach In Strawberry Jelly",
          "Woolworths Two Fruits In Tropical Jelly",
          "Woolworths Apple In Pineapple Jelly"
         ],
         "xaxis": "x",
         "y": [
          "Sodium Citrate",
          "Sodium Citrate",
          "Sodium Citrate",
          "Sodium Citrate",
          "Sodium Citrate",
          "Sodium Citrate",
          "Sodium Citrate",
          "Sodium Citrate",
          "Sodium Citrate",
          "Sodium Citrate"
         ],
         "yaxis": "y"
        },
        {
         "alignmentgroup": "True",
         "hovertemplate": " Ingredients=%{y}<br>Product=%{x}<extra></extra>",
         "legendgroup": "Aspartame",
         "marker": {
          "color": "#F7E1A0",
          "pattern": {
           "shape": ""
          }
         },
         "name": "Aspartame",
         "offsetgroup": "Aspartame",
         "orientation": "v",
         "showlegend": true,
         "textposition": "auto",
         "type": "bar",
         "x": [
          "Coca - Cola Zero Sugar Soft Drink Multipack Cans",
          "Coca - Cola Zero Sugar Soft Drink Multipack Cans",
          "Coca - Cola Zero Sugar Soft Drink Multipack Cans",
          "Coca - Cola Caffeine Free Zero Sugar Soft Drink Multipack Cans",
          "Coca - Cola Zero Sugar Soft Drink Mini Cans",
          "Schweppes Zero Sugar Classic Mixers Indian Tonic Water Bottle"
         ],
         "xaxis": "x",
         "y": [
          "Aspartame",
          "Aspartame",
          "Aspartame",
          "Aspartame",
          "Aspartame",
          "Aspartame"
         ],
         "yaxis": "y"
        },
        {
         "alignmentgroup": "True",
         "hovertemplate": " Ingredients=%{y}<br>Product=%{x}<extra></extra>",
         "legendgroup": "Acesulfame Potassium",
         "marker": {
          "color": "#E2E2E2",
          "pattern": {
           "shape": ""
          }
         },
         "name": "Acesulfame Potassium",
         "offsetgroup": "Acesulfame Potassium",
         "orientation": "v",
         "showlegend": true,
         "textposition": "auto",
         "type": "bar",
         "x": [
          "Coca - Cola Zero Sugar Soft Drink Multipack Cans",
          "Coca - Cola Zero Sugar Soft Drink Multipack Cans",
          "Coca - Cola Zero Sugar Soft Drink Multipack Cans",
          "Coca - Cola Caffeine Free Zero Sugar Soft Drink Multipack Cans",
          "Coca - Cola Zero Sugar Soft Drink Mini Cans",
          "Schweppes Zero Sugar Classic Mixers Indian Tonic Water Bottle"
         ],
         "xaxis": "x",
         "y": [
          "Acesulfame Potassium",
          "Acesulfame Potassium",
          "Acesulfame Potassium",
          "Acesulfame Potassium",
          "Acesulfame Potassium",
          "Acesulfame Potassium"
         ],
         "yaxis": "y"
        },
        {
         "alignmentgroup": "True",
         "hovertemplate": " Ingredients=%{y}<br>Product=%{x}<extra></extra>",
         "legendgroup": "Sweetener 952",
         "marker": {
          "color": "#1CBE4F",
          "pattern": {
           "shape": ""
          }
         },
         "name": "Sweetener 952",
         "offsetgroup": "Sweetener 952",
         "orientation": "v",
         "showlegend": true,
         "textposition": "auto",
         "type": "bar",
         "x": [
          "Coca - Cola Caffeine Free Zero Sugar Soft Drink Multipack Cans"
         ],
         "xaxis": "x",
         "y": [
          "Sweetener 952"
         ],
         "yaxis": "y"
        },
        {
         "alignmentgroup": "True",
         "hovertemplate": " Ingredients=%{y}<br>Product=%{x}<extra></extra>",
         "legendgroup": "Wheat Flour",
         "marker": {
          "color": "#C4451C",
          "pattern": {
           "shape": ""
          }
         },
         "name": "Wheat Flour",
         "offsetgroup": "Wheat Flour",
         "orientation": "v",
         "showlegend": true,
         "textposition": "auto",
         "type": "bar",
         "x": [
          "Indomie Mi Goreng Instant Noodles",
          "Maggi 2 Minute Chicken Flavour Instant Noodles",
          "Maggi 2 Minute Chicken Flavour Instant Noodles",
          "Supreme Noodles Cup Chicken Flavour",
          "Fantastic Chicken Noodle Cup",
          "Fantastic Chicken Noodle Bowl",
          "Indomie Mi Goreng Noodle Cup",
          "Maggi 2 Minute Beef Flavour Instant Noodles",
          "Supreme Noodles Cup Beef Flavour",
          "Kitkat 4 Finger Milk Chocolate Bar",
          "Kitkat Chunky Original Chocolate Bar",
          "Cadbury Chomp Chocolate Bar",
          "Arnott's Premier Chocolate Chip Cookies",
          "Woolworths Chocolate Chip Cookies",
          "Woolworths The King Of Chunky Chocolate Chip Cookies",
          "Arnott's Mini Choc Chip Cookie Multipack Biscuits",
          "Oreo Original Mini Cookies Multipack",
          "Oreo Minis Cookies Variety Bags 18 Pack",
          "Cadbury Classic Choc Chip Cookies",
          "Cadbury Choc Centre Cookies",
          "Byron Bay Cookies Dotty Cookie Bites",
          "Oreo Original Cookies",
          "Oreo Double Stuff Cookies",
          "Oreo Original Cookies Family Pack",
          "Oreo Chocolate Cookies",
          "Oreo Grab & Go Original Cookies 9 Pack",
          "Oreo Neapolitan Double Stuff Cookies"
         ],
         "xaxis": "x",
         "y": [
          "Wheat Flour",
          "Wheat Flour",
          "Wheat Flour",
          "Wheat Flour",
          "Wheat Flour",
          "Wheat Flour",
          "Wheat Flour",
          "Wheat Flour",
          "Wheat Flour",
          "Wheat Flour",
          "Wheat Flour",
          "Wheat Flour",
          "Wheat Flour",
          "Wheat Flour",
          "Wheat Flour",
          "Wheat Flour",
          "Wheat Flour",
          "Wheat Flour",
          "Wheat Flour",
          "Wheat Flour",
          "Wheat Flour",
          "Wheat Flour",
          "Wheat Flour",
          "Wheat Flour",
          "Wheat Flour",
          "Wheat Flour",
          "Wheat Flour"
         ],
         "yaxis": "y"
        },
        {
         "alignmentgroup": "True",
         "hovertemplate": " Ingredients=%{y}<br>Product=%{x}<extra></extra>",
         "legendgroup": "Refined Palm Oil",
         "marker": {
          "color": "#DEA0FD",
          "pattern": {
           "shape": ""
          }
         },
         "name": "Refined Palm Oil",
         "offsetgroup": "Refined Palm Oil",
         "orientation": "v",
         "showlegend": true,
         "textposition": "auto",
         "type": "bar",
         "x": [
          "Indomie Mi Goreng Instant Noodles",
          "Indomie Mi Goreng Noodle Cup"
         ],
         "xaxis": "x",
         "y": [
          "Refined Palm Oil",
          "Refined Palm Oil"
         ],
         "yaxis": "y"
        },
        {
         "alignmentgroup": "True",
         "hovertemplate": " Ingredients=%{y}<br>Product=%{x}<extra></extra>",
         "legendgroup": "Salt",
         "marker": {
          "color": "#FE00FA",
          "pattern": {
           "shape": ""
          }
         },
         "name": "Salt",
         "offsetgroup": "Salt",
         "orientation": "v",
         "showlegend": true,
         "textposition": "auto",
         "type": "bar",
         "x": [
          "Indomie Mi Goreng Instant Noodles",
          "Maggi 2 Minute Chicken Flavour Instant Noodles",
          "Maggi 2 Minute Chicken Flavour Instant Noodles",
          "Supreme Noodles Cup Chicken Flavour",
          "Fantastic Chicken Noodle Cup",
          "Fantastic Chicken Noodle Bowl",
          "Indomie Mi Goreng Noodle Cup",
          "Maggi 2 Minute Beef Flavour Instant Noodles",
          "Supreme Noodles Cup Beef Flavour",
          "Kitkat 4 Finger Milk Chocolate Bar",
          "Kitkat Chunky Original Chocolate Bar",
          "Cadbury Dairy Milk Caramello Koala Chocolate",
          "Mars Chocolate Bar With Nougat & Caramel",
          "Cadbury Chomp Chocolate Bar",
          "Arnott's Premier Chocolate Chip Cookies",
          "Woolworths Chocolate Chip Cookies",
          "Woolworths The King Of Chunky Chocolate Chip Cookies",
          "Arnott's Mini Choc Chip Cookie Multipack Biscuits",
          "Oreo Original Mini Cookies Multipack",
          "Oreo Minis Cookies Variety Bags 18 Pack",
          "Cadbury Classic Choc Chip Cookies",
          "Cadbury Choc Centre Cookies",
          "Byron Bay Cookies Dotty Cookie Bites",
          "Oreo Original Cookies",
          "Oreo Double Stuff Cookies",
          "Oreo Original Cookies Family Pack",
          "Oreo Chocolate Cookies",
          "Oreo Grab & Go Original Cookies 9 Pack",
          "Deep Cove Sardines In Oil",
          "Woolworths Creamed Rice",
          "Woolworths Tomato Sauce Squeeze",
          "Woolworths Tomato Sauce",
          "Woolworths Barbecue Sauce Squeeze",
          "Masterfoods Tomato Sauce",
          "Masterfoods Barbecue Sauce",
          "Fountain Tomato Sauce Squeeze",
          "Fountain Barbecue Bbq Sauce Squeeze",
          "Woolworths Secret Burger Sauce",
          "Heinz Ketchup Tomato Sauce Ketchup",
          "Woolworths Barbecue Sauce",
          "Smith's Crinkle Cut Potato Chips Original",
          "Smith's Crinkle Cut Potato Chips Cheese & Onion",
          "Smith's Crinkle Cut Potato Chips Barbecue",
          "Smith's Crinkle Cut Potato Chips Chicken",
          "Thins Chips Salt & Vinegar",
          "Smith's Thinly Cut Potato Chips Original Share Pack",
          "Thins Chips Chicken",
          "Smith's Crinkle Cut Potato Chips Salt & Vinegar",
          "Thins Chips Light & Tangy",
          "Thins Cheese & Onion Chips"
         ],
         "xaxis": "x",
         "y": [
          "Salt",
          "Salt",
          "Salt",
          "Salt",
          "Salt",
          "Salt",
          "Salt",
          "Salt",
          "Salt",
          "Salt",
          "Salt",
          "Salt",
          "Salt",
          "Salt",
          "Salt",
          "Salt",
          "Salt",
          "Salt",
          "Salt",
          "Salt",
          "Salt",
          "Salt",
          "Salt",
          "Salt",
          "Salt",
          "Salt",
          "Salt",
          "Salt",
          "Salt",
          "Salt",
          "Salt",
          "Salt",
          "Salt",
          "Salt",
          "Salt",
          "Salt",
          "Salt",
          "Salt",
          "Salt",
          "Salt",
          "Salt",
          "Salt",
          "Salt",
          "Salt",
          "Salt",
          "Salt",
          "Salt",
          "Salt",
          "Salt",
          "Salt"
         ],
         "yaxis": "y"
        },
        {
         "alignmentgroup": "True",
         "hovertemplate": " Ingredients=%{y}<br>Product=%{x}<extra></extra>",
         "legendgroup": "Acidity Regulator 451",
         "marker": {
          "color": "#325A9B",
          "pattern": {
           "shape": ""
          }
         },
         "name": "Acidity Regulator 451",
         "offsetgroup": "Acidity Regulator 451",
         "orientation": "v",
         "showlegend": true,
         "textposition": "auto",
         "type": "bar",
         "x": [
          "Indomie Mi Goreng Instant Noodles",
          "Indomie Mi Goreng Noodle Cup"
         ],
         "xaxis": "x",
         "y": [
          "Acidity Regulator 451",
          "Acidity Regulator 451"
         ],
         "yaxis": "y"
        },
        {
         "alignmentgroup": "True",
         "hovertemplate": " Ingredients=%{y}<br>Product=%{x}<extra></extra>",
         "legendgroup": "Acidity Regulator 501",
         "marker": {
          "color": "#FEAF16",
          "pattern": {
           "shape": ""
          }
         },
         "name": "Acidity Regulator 501",
         "offsetgroup": "Acidity Regulator 501",
         "orientation": "v",
         "showlegend": true,
         "textposition": "auto",
         "type": "bar",
         "x": [
          "Indomie Mi Goreng Instant Noodles",
          "Indomie Mi Goreng Noodle Cup"
         ],
         "xaxis": "x",
         "y": [
          "Acidity Regulator 501",
          "Acidity Regulator 501"
         ],
         "yaxis": "y"
        },
        {
         "alignmentgroup": "True",
         "hovertemplate": " Ingredients=%{y}<br>Product=%{x}<extra></extra>",
         "legendgroup": "Sodium Bicarbonate",
         "marker": {
          "color": "#F8A19F",
          "pattern": {
           "shape": ""
          }
         },
         "name": "Sodium Bicarbonate",
         "offsetgroup": "Sodium Bicarbonate",
         "orientation": "v",
         "showlegend": true,
         "textposition": "auto",
         "type": "bar",
         "x": [
          "Indomie Mi Goreng Instant Noodles",
          "Indomie Mi Goreng Noodle Cup",
          "Kitkat 4 Finger Milk Chocolate Bar",
          "Kitkat Chunky Original Chocolate Bar",
          "Cadbury Chomp Chocolate Bar",
          "Oreo Original Mini Cookies Multipack",
          "Oreo Minis Cookies Variety Bags 18 Pack",
          "Cadbury Classic Choc Chip Cookies",
          "Cadbury Choc Centre Cookies",
          "Byron Bay Cookies Dotty Cookie Bites",
          "Oreo Original Cookies",
          "Oreo Double Stuff Cookies",
          "Oreo Original Cookies Family Pack",
          "Oreo Chocolate Cookies",
          "Oreo Grab & Go Original Cookies 9 Pack",
          "Oreo Neapolitan Double Stuff Cookies"
         ],
         "xaxis": "x",
         "y": [
          "Sodium Bicarbonate",
          "Sodium Bicarbonate",
          "Sodium Bicarbonate",
          "Sodium Bicarbonate",
          "Sodium Bicarbonate",
          "Sodium Bicarbonate",
          "Sodium Bicarbonate",
          "Sodium Bicarbonate",
          "Sodium Bicarbonate",
          "Sodium Bicarbonate",
          "Sodium Bicarbonate",
          "Sodium Bicarbonate",
          "Sodium Bicarbonate",
          "Sodium Bicarbonate",
          "Sodium Bicarbonate",
          "Sodium Bicarbonate"
         ],
         "yaxis": "y"
        },
        {
         "alignmentgroup": "True",
         "hovertemplate": " Ingredients=%{y}<br>Product=%{x}<extra></extra>",
         "legendgroup": "Guar Gum",
         "marker": {
          "color": "#90AD1C",
          "pattern": {
           "shape": ""
          }
         },
         "name": "Guar Gum",
         "offsetgroup": "Guar Gum",
         "orientation": "v",
         "showlegend": true,
         "textposition": "auto",
         "type": "bar",
         "x": [
          "Indomie Mi Goreng Instant Noodles",
          "Maggi 2 Minute Chicken Flavour Instant Noodles",
          "Maggi 2 Minute Chicken Flavour Instant Noodles",
          "Fantastic Chicken Noodle Bowl",
          "Indomie Mi Goreng Noodle Cup",
          "Maggi 2 Minute Beef Flavour Instant Noodles",
          "Essentials Coconut Cream",
          "Essentials Coconut Milk"
         ],
         "xaxis": "x",
         "y": [
          "Guar Gum",
          "Guar Gum",
          "Guar Gum",
          "Guar Gum",
          "Guar Gum",
          "Guar Gum",
          "Guar Gum",
          "Guar Gum"
         ],
         "yaxis": "y"
        },
        {
         "alignmentgroup": "True",
         "hovertemplate": " Ingredients=%{y}<br>Product=%{x}<extra></extra>",
         "legendgroup": "Colour 101",
         "marker": {
          "color": "#F6222E",
          "pattern": {
           "shape": ""
          }
         },
         "name": "Colour 101",
         "offsetgroup": "Colour 101",
         "orientation": "v",
         "showlegend": true,
         "textposition": "auto",
         "type": "bar",
         "x": [
          "Indomie Mi Goreng Instant Noodles",
          "Indomie Mi Goreng Noodle Cup"
         ],
         "xaxis": "x",
         "y": [
          "Colour 101",
          "Colour 101"
         ],
         "yaxis": "y"
        },
        {
         "alignmentgroup": "True",
         "hovertemplate": " Ingredients=%{y}<br>Product=%{x}<extra></extra>",
         "legendgroup": "Seasoning Powder",
         "marker": {
          "color": "#1CFFCE",
          "pattern": {
           "shape": ""
          }
         },
         "name": "Seasoning Powder",
         "offsetgroup": "Seasoning Powder",
         "orientation": "v",
         "showlegend": true,
         "textposition": "auto",
         "type": "bar",
         "x": [
          "Indomie Mi Goreng Instant Noodles",
          "Indomie Mi Goreng Noodle Cup"
         ],
         "xaxis": "x",
         "y": [
          "Seasoning Powder",
          "Seasoning Powder"
         ],
         "yaxis": "y"
        },
        {
         "alignmentgroup": "True",
         "hovertemplate": " Ingredients=%{y}<br>Product=%{x}<extra></extra>",
         "legendgroup": "Flavour Enhancer 621",
         "marker": {
          "color": "#2ED9FF",
          "pattern": {
           "shape": ""
          }
         },
         "name": "Flavour Enhancer 621",
         "offsetgroup": "Flavour Enhancer 621",
         "orientation": "v",
         "showlegend": true,
         "textposition": "auto",
         "type": "bar",
         "x": [
          "Indomie Mi Goreng Instant Noodles",
          "Maggi 2 Minute Chicken Flavour Instant Noodles",
          "Maggi 2 Minute Chicken Flavour Instant Noodles",
          "Supreme Noodles Cup Chicken Flavour",
          "Fantastic Chicken Noodle Cup",
          "Fantastic Chicken Noodle Bowl",
          "Indomie Mi Goreng Noodle Cup",
          "Maggi 2 Minute Beef Flavour Instant Noodles",
          "Supreme Noodles Cup Beef Flavour",
          "Smith's Crinkle Cut Potato Chips Cheese & Onion",
          "Smith's Crinkle Cut Potato Chips Barbecue",
          "Smith's Crinkle Cut Potato Chips Chicken",
          "Thins Chips Salt & Vinegar",
          "Thins Chips Chicken",
          "Smith's Crinkle Cut Potato Chips Salt & Vinegar",
          "Thins Cheese & Onion Chips"
         ],
         "xaxis": "x",
         "y": [
          "Flavour Enhancer 621",
          "Flavour Enhancer 621",
          "Flavour Enhancer 621",
          "Flavour Enhancer 621",
          "Flavour Enhancer 621",
          "Flavour Enhancer 621",
          "Flavour Enhancer 621",
          "Flavour Enhancer 621",
          "Flavour Enhancer 621",
          "Flavour Enhancer 621",
          "Flavour Enhancer 621",
          "Flavour Enhancer 621",
          "Flavour Enhancer 621",
          "Flavour Enhancer 621",
          "Flavour Enhancer 621",
          "Flavour Enhancer 621"
         ],
         "yaxis": "y"
        },
        {
         "alignmentgroup": "True",
         "hovertemplate": " Ingredients=%{y}<br>Product=%{x}<extra></extra>",
         "legendgroup": "Disodium Guanylate",
         "marker": {
          "color": "#B10DA1",
          "pattern": {
           "shape": ""
          }
         },
         "name": "Disodium Guanylate",
         "offsetgroup": "Disodium Guanylate",
         "orientation": "v",
         "showlegend": true,
         "textposition": "auto",
         "type": "bar",
         "x": [
          "Indomie Mi Goreng Instant Noodles",
          "Fantastic Chicken Noodle Bowl",
          "Indomie Mi Goreng Noodle Cup"
         ],
         "xaxis": "x",
         "y": [
          "Disodium Guanylate",
          "Disodium Guanylate",
          "Disodium Guanylate"
         ],
         "yaxis": "y"
        },
        {
         "alignmentgroup": "True",
         "hovertemplate": " Ingredients=%{y}<br>Product=%{x}<extra></extra>",
         "legendgroup": "Garlic Powder",
         "marker": {
          "color": "#C075A6",
          "pattern": {
           "shape": ""
          }
         },
         "name": "Garlic Powder",
         "offsetgroup": "Garlic Powder",
         "orientation": "v",
         "showlegend": true,
         "textposition": "auto",
         "type": "bar",
         "x": [
          "Indomie Mi Goreng Instant Noodles",
          "Indomie Mi Goreng Noodle Cup",
          "Supreme Noodles Cup Beef Flavour",
          "Smith's Crinkle Cut Potato Chips Barbecue"
         ],
         "xaxis": "x",
         "y": [
          "Garlic Powder",
          "Garlic Powder",
          "Garlic Powder",
          "Garlic Powder"
         ],
         "yaxis": "y"
        },
        {
         "alignmentgroup": "True",
         "hovertemplate": " Ingredients=%{y}<br>Product=%{x}<extra></extra>",
         "legendgroup": "Onion Powder",
         "marker": {
          "color": "#FC1CBF",
          "pattern": {
           "shape": ""
          }
         },
         "name": "Onion Powder",
         "offsetgroup": "Onion Powder",
         "orientation": "v",
         "showlegend": true,
         "textposition": "auto",
         "type": "bar",
         "x": [
          "Indomie Mi Goreng Instant Noodles",
          "Maggi 2 Minute Chicken Flavour Instant Noodles",
          "Supreme Noodles Cup Chicken Flavour",
          "Fantastic Chicken Noodle Cup",
          "Indomie Mi Goreng Noodle Cup",
          "Woolworths Secret Burger Sauce",
          "Smith's Crinkle Cut Potato Chips Cheese & Onion",
          "Smith's Crinkle Cut Potato Chips Barbecue",
          "Smith's Crinkle Cut Potato Chips Chicken",
          "Thins Chips Chicken",
          "Thins Chips Light & Tangy",
          "Thins Cheese & Onion Chips"
         ],
         "xaxis": "x",
         "y": [
          "Onion Powder",
          "Onion Powder",
          "Onion Powder",
          "Onion Powder",
          "Onion Powder",
          "Onion Powder",
          "Onion Powder",
          "Onion Powder",
          "Onion Powder",
          "Onion Powder",
          "Onion Powder",
          "Onion Powder"
         ],
         "yaxis": "y"
        },
        {
         "alignmentgroup": "True",
         "hovertemplate": " Ingredients=%{y}<br>Product=%{x}<extra></extra>",
         "legendgroup": "Yeast Extract",
         "marker": {
          "color": "#B00068",
          "pattern": {
           "shape": ""
          }
         },
         "name": "Yeast Extract",
         "offsetgroup": "Yeast Extract",
         "orientation": "v",
         "showlegend": true,
         "textposition": "auto",
         "type": "bar",
         "x": [
          "Indomie Mi Goreng Instant Noodles",
          "Supreme Noodles Cup Chicken Flavour",
          "Fantastic Chicken Noodle Cup",
          "Fantastic Chicken Noodle Bowl",
          "Indomie Mi Goreng Noodle Cup",
          "Maggi 2 Minute Beef Flavour Instant Noodles",
          "Masterfoods Barbecue Sauce",
          "Smith's Crinkle Cut Potato Chips Cheese & Onion",
          "Smith's Crinkle Cut Potato Chips Chicken",
          "Thins Cheese & Onion Chips"
         ],
         "xaxis": "x",
         "y": [
          "Yeast Extract",
          "Yeast Extract",
          "Yeast Extract",
          "Yeast Extract",
          "Yeast Extract",
          "Yeast Extract",
          "Yeast Extract",
          "Yeast Extract",
          "Yeast Extract",
          "Yeast Extract"
         ],
         "yaxis": "y"
        },
        {
         "alignmentgroup": "True",
         "hovertemplate": " Ingredients=%{y}<br>Product=%{x}<extra></extra>",
         "legendgroup": "Artificial Flavour",
         "marker": {
          "color": "#FBE426",
          "pattern": {
           "shape": ""
          }
         },
         "name": "Artificial Flavour",
         "offsetgroup": "Artificial Flavour",
         "orientation": "v",
         "showlegend": true,
         "textposition": "auto",
         "type": "bar",
         "x": [
          "Indomie Mi Goreng Instant Noodles",
          "Indomie Mi Goreng Noodle Cup"
         ],
         "xaxis": "x",
         "y": [
          "Artificial Flavour",
          "Artificial Flavour"
         ],
         "yaxis": "y"
        },
        {
         "alignmentgroup": "True",
         "hovertemplate": " Ingredients=%{y}<br>Product=%{x}<extra></extra>",
         "legendgroup": "Pepper",
         "marker": {
          "color": "#FA0087",
          "pattern": {
           "shape": ""
          }
         },
         "name": "Pepper",
         "offsetgroup": "Pepper",
         "orientation": "v",
         "showlegend": true,
         "textposition": "auto",
         "type": "bar",
         "x": [
          "Indomie Mi Goreng Instant Noodles",
          "Indomie Mi Goreng Noodle Cup",
          "Masterfoods Barbecue Sauce",
          "Thins Chips Chicken"
         ],
         "xaxis": "x",
         "y": [
          "Pepper",
          "Pepper",
          "Pepper",
          "Pepper"
         ],
         "yaxis": "y"
        },
        {
         "alignmentgroup": "True",
         "hovertemplate": " Ingredients=%{y}<br>Product=%{x}<extra></extra>",
         "legendgroup": "Anti Caking Agent 551",
         "marker": {
          "color": "rgb(27,158,119)",
          "pattern": {
           "shape": ""
          }
         },
         "name": "Anti Caking Agent 551",
         "offsetgroup": "Anti Caking Agent 551",
         "orientation": "v",
         "showlegend": true,
         "textposition": "auto",
         "type": "bar",
         "x": [
          "Indomie Mi Goreng Instant Noodles",
          "Fantastic Chicken Noodle Bowl",
          "Indomie Mi Goreng Noodle Cup"
         ],
         "xaxis": "x",
         "y": [
          "Anti Caking Agent 551",
          "Anti Caking Agent 551",
          "Anti Caking Agent 551"
         ],
         "yaxis": "y"
        },
        {
         "alignmentgroup": "True",
         "hovertemplate": " Ingredients=%{y}<br>Product=%{x}<extra></extra>",
         "legendgroup": "Seasoning Oil",
         "marker": {
          "color": "rgb(217,95,2)",
          "pattern": {
           "shape": ""
          }
         },
         "name": "Seasoning Oil",
         "offsetgroup": "Seasoning Oil",
         "orientation": "v",
         "showlegend": true,
         "textposition": "auto",
         "type": "bar",
         "x": [
          "Indomie Mi Goreng Instant Noodles",
          "Indomie Mi Goreng Noodle Cup"
         ],
         "xaxis": "x",
         "y": [
          "Seasoning Oil",
          "Seasoning Oil"
         ],
         "yaxis": "y"
        },
        {
         "alignmentgroup": "True",
         "hovertemplate": " Ingredients=%{y}<br>Product=%{x}<extra></extra>",
         "legendgroup": "Onion",
         "marker": {
          "color": "rgb(117,112,179)",
          "pattern": {
           "shape": ""
          }
         },
         "name": "Onion",
         "offsetgroup": "Onion",
         "orientation": "v",
         "showlegend": true,
         "textposition": "auto",
         "type": "bar",
         "x": [
          "Indomie Mi Goreng Instant Noodles",
          "Maggi 2 Minute Chicken Flavour Instant Noodles",
          "Indomie Mi Goreng Noodle Cup",
          "Maggi 2 Minute Beef Flavour Instant Noodles",
          "Masterfoods Tomato Sauce",
          "Masterfoods Barbecue Sauce"
         ],
         "xaxis": "x",
         "y": [
          "Onion",
          "Onion",
          "Onion",
          "Onion",
          "Onion",
          "Onion"
         ],
         "yaxis": "y"
        },
        {
         "alignmentgroup": "True",
         "hovertemplate": " Ingredients=%{y}<br>Product=%{x}<extra></extra>",
         "legendgroup": "Sweet Soy Sauce",
         "marker": {
          "color": "rgb(231,41,138)",
          "pattern": {
           "shape": ""
          }
         },
         "name": "Sweet Soy Sauce",
         "offsetgroup": "Sweet Soy Sauce",
         "orientation": "v",
         "showlegend": true,
         "textposition": "auto",
         "type": "bar",
         "x": [
          "Indomie Mi Goreng Instant Noodles",
          "Indomie Mi Goreng Noodle Cup"
         ],
         "xaxis": "x",
         "y": [
          "Sweet Soy Sauce",
          "Sweet Soy Sauce"
         ],
         "yaxis": "y"
        },
        {
         "alignmentgroup": "True",
         "hovertemplate": " Ingredients=%{y}<br>Product=%{x}<extra></extra>",
         "legendgroup": "Water",
         "marker": {
          "color": "rgb(102,166,30)",
          "pattern": {
           "shape": ""
          }
         },
         "name": "Water",
         "offsetgroup": "Water",
         "orientation": "v",
         "showlegend": true,
         "textposition": "auto",
         "type": "bar",
         "x": [
          "Indomie Mi Goreng Instant Noodles",
          "Indomie Mi Goreng Noodle Cup",
          "Golden Circle Golden Pash Fruit Drink",
          "Golden Circle Drinks Pine Orange Fruit Drink",
          "Golden Circle Drinks Sunshine Punch Fruit Drink",
          "Golden Circle Fruit Drinks Lunch Box Poppers Tropical Punch Multipack",
          "Essentials Coconut Cream",
          "Deep Cove Sardines In Oil",
          "Essentials Coconut Milk",
          "Masterfoods Barbecue Sauce",
          "Woolworths Secret Burger Sauce",
          "Woolworths Peach In Strawberry Jelly",
          "Woolworths Two Fruits In Juice Cups",
          "Woolworths Two Fruits In Juice",
          "Woolworths Two Fruits In Tropical Jelly",
          "Woolworths Apple In Pineapple Jelly",
          "Dole Pineapple Slices In Syrup",
          "Dole Pineapple Chunks In Juice"
         ],
         "xaxis": "x",
         "y": [
          "Water",
          "Water",
          "Water",
          "Water",
          "Water",
          "Water",
          "Water",
          "Water",
          "Water",
          "Water",
          "Water",
          "Water",
          "Water",
          "Water",
          "Water",
          "Water",
          "Water",
          "Water"
         ],
         "yaxis": "y"
        },
        {
         "alignmentgroup": "True",
         "hovertemplate": " Ingredients=%{y}<br>Product=%{x}<extra></extra>",
         "legendgroup": "Wheat",
         "marker": {
          "color": "rgb(230,171,2)",
          "pattern": {
           "shape": ""
          }
         },
         "name": "Wheat",
         "offsetgroup": "Wheat",
         "orientation": "v",
         "showlegend": true,
         "textposition": "auto",
         "type": "bar",
         "x": [
          "Indomie Mi Goreng Instant Noodles",
          "Indomie Mi Goreng Noodle Cup",
          "Maggi 2 Minute Beef Flavour Instant Noodles",
          "Supreme Noodles Cup Beef Flavour",
          "Kitkat 4 Finger Milk Chocolate Bar",
          "Kitkat Chunky Original Chocolate Bar",
          "Woolworths Chocolate Chip Cookies"
         ],
         "xaxis": "x",
         "y": [
          "Wheat",
          "Wheat",
          "Wheat",
          "Wheat",
          "Wheat",
          "Wheat",
          "Wheat"
         ],
         "yaxis": "y"
        },
        {
         "alignmentgroup": "True",
         "hovertemplate": " Ingredients=%{y}<br>Product=%{x}<extra></extra>",
         "legendgroup": "Soy Bean",
         "marker": {
          "color": "rgb(166,118,29)",
          "pattern": {
           "shape": ""
          }
         },
         "name": "Soy Bean",
         "offsetgroup": "Soy Bean",
         "orientation": "v",
         "showlegend": true,
         "textposition": "auto",
         "type": "bar",
         "x": [
          "Indomie Mi Goreng Instant Noodles",
          "Indomie Mi Goreng Noodle Cup"
         ],
         "xaxis": "x",
         "y": [
          "Soy Bean",
          "Soy Bean"
         ],
         "yaxis": "y"
        },
        {
         "alignmentgroup": "True",
         "hovertemplate": " Ingredients=%{y}<br>Product=%{x}<extra></extra>",
         "legendgroup": "Spices",
         "marker": {
          "color": "rgb(102,102,102)",
          "pattern": {
           "shape": ""
          }
         },
         "name": "Spices",
         "offsetgroup": "Spices",
         "orientation": "v",
         "showlegend": true,
         "textposition": "auto",
         "type": "bar",
         "x": [
          "Indomie Mi Goreng Instant Noodles",
          "Indomie Mi Goreng Noodle Cup",
          "Woolworths Barbecue Sauce Squeeze",
          "Fountain Barbecue Bbq Sauce Squeeze",
          "Woolworths Barbecue Sauce"
         ],
         "xaxis": "x",
         "y": [
          "Spices",
          "Spices",
          "Spices",
          "Spices",
          "Spices"
         ],
         "yaxis": "y"
        },
        {
         "alignmentgroup": "True",
         "hovertemplate": " Ingredients=%{y}<br>Product=%{x}<extra></extra>",
         "legendgroup": "Sesame Oil",
         "marker": {
          "color": "rgb(228,26,28)",
          "pattern": {
           "shape": ""
          }
         },
         "name": "Sesame Oil",
         "offsetgroup": "Sesame Oil",
         "orientation": "v",
         "showlegend": true,
         "textposition": "auto",
         "type": "bar",
         "x": [
          "Indomie Mi Goreng Instant Noodles",
          "Indomie Mi Goreng Noodle Cup"
         ],
         "xaxis": "x",
         "y": [
          "Sesame Oil",
          "Sesame Oil"
         ],
         "yaxis": "y"
        },
        {
         "alignmentgroup": "True",
         "hovertemplate": " Ingredients=%{y}<br>Product=%{x}<extra></extra>",
         "legendgroup": "Chilli Sauce",
         "marker": {
          "color": "rgb(55,126,184)",
          "pattern": {
           "shape": ""
          }
         },
         "name": "Chilli Sauce",
         "offsetgroup": "Chilli Sauce",
         "orientation": "v",
         "showlegend": true,
         "textposition": "auto",
         "type": "bar",
         "x": [
          "Indomie Mi Goreng Instant Noodles",
          "Indomie Mi Goreng Noodle Cup"
         ],
         "xaxis": "x",
         "y": [
          "Chilli Sauce",
          "Chilli Sauce"
         ],
         "yaxis": "y"
        },
        {
         "alignmentgroup": "True",
         "hovertemplate": " Ingredients=%{y}<br>Product=%{x}<extra></extra>",
         "legendgroup": "Chilli",
         "marker": {
          "color": "rgb(77,175,74)",
          "pattern": {
           "shape": ""
          }
         },
         "name": "Chilli",
         "offsetgroup": "Chilli",
         "orientation": "v",
         "showlegend": true,
         "textposition": "auto",
         "type": "bar",
         "x": [
          "Indomie Mi Goreng Instant Noodles",
          "Indomie Mi Goreng Noodle Cup"
         ],
         "xaxis": "x",
         "y": [
          "Chilli",
          "Chilli"
         ],
         "yaxis": "y"
        },
        {
         "alignmentgroup": "True",
         "hovertemplate": " Ingredients=%{y}<br>Product=%{x}<extra></extra>",
         "legendgroup": "Tapioca Starch",
         "marker": {
          "color": "rgb(152,78,163)",
          "pattern": {
           "shape": ""
          }
         },
         "name": "Tapioca Starch",
         "offsetgroup": "Tapioca Starch",
         "orientation": "v",
         "showlegend": true,
         "textposition": "auto",
         "type": "bar",
         "x": [
          "Indomie Mi Goreng Instant Noodles",
          "Indomie Mi Goreng Noodle Cup"
         ],
         "xaxis": "x",
         "y": [
          "Tapioca Starch",
          "Tapioca Starch"
         ],
         "yaxis": "y"
        },
        {
         "alignmentgroup": "True",
         "hovertemplate": " Ingredients=%{y}<br>Product=%{x}<extra></extra>",
         "legendgroup": "Acetic Acid",
         "marker": {
          "color": "rgb(255,127,0)",
          "pattern": {
           "shape": ""
          }
         },
         "name": "Acetic Acid",
         "offsetgroup": "Acetic Acid",
         "orientation": "v",
         "showlegend": true,
         "textposition": "auto",
         "type": "bar",
         "x": [
          "Indomie Mi Goreng Instant Noodles",
          "Indomie Mi Goreng Noodle Cup",
          "Woolworths Tomato Sauce Squeeze",
          "Woolworths Tomato Sauce",
          "Woolworths Barbecue Sauce Squeeze",
          "Masterfoods Tomato Sauce",
          "Masterfoods Barbecue Sauce",
          "Fountain Tomato Sauce Squeeze",
          "Fountain Barbecue Bbq Sauce Squeeze",
          "Woolworths Barbecue Sauce",
          "Thins Chips Salt & Vinegar"
         ],
         "xaxis": "x",
         "y": [
          "Acetic Acid",
          "Acetic Acid",
          "Acetic Acid",
          "Acetic Acid",
          "Acetic Acid",
          "Acetic Acid",
          "Acetic Acid",
          "Acetic Acid",
          "Acetic Acid",
          "Acetic Acid",
          "Acetic Acid"
         ],
         "yaxis": "y"
        },
        {
         "alignmentgroup": "True",
         "hovertemplate": " Ingredients=%{y}<br>Product=%{x}<extra></extra>",
         "legendgroup": "Citric Acid",
         "marker": {
          "color": "rgb(255,255,51)",
          "pattern": {
           "shape": ""
          }
         },
         "name": "Citric Acid",
         "offsetgroup": "Citric Acid",
         "orientation": "v",
         "showlegend": true,
         "textposition": "auto",
         "type": "bar",
         "x": [
          "Indomie Mi Goreng Instant Noodles",
          "Indomie Mi Goreng Noodle Cup",
          "Maggi 2 Minute Beef Flavour Instant Noodles",
          "Schweppes Zero Sugar Lime Infused Mineral Water Bottle",
          "Schweppes Raspberry Infused Natural Mineral Water Bottle",
          "Schweppes Indian Tonic Water Classic Mixers Bottle",
          "Schweppes Zero Sugar Classic Mixers Indian Tonic Water Bottle",
          "Schweppes Lemon Lime Natural Mineral Water Bottle",
          "Schweppes Orange Mango Natural Mineral Water Bottle",
          "Cadbury Chomp Chocolate Bar",
          "Oreo Minis Cookies Variety Bags 18 Pack",
          "Cadbury Choc Centre Cookies",
          "Woolworths Apple Juice",
          "Woolworths Apple & Mango Juice",
          "Woolworths Orange Juice",
          "Woolworths Breakfast Juice",
          "Woolworths Apple & Blackcurrant Juice",
          "Woolworths Multivitamin Juice",
          "Golden Circle Golden Pash Fruit Drink",
          "Golden Circle Drinks Pine Orange Fruit Drink",
          "Golden Circle Drinks Sunshine Punch Fruit Drink",
          "Golden Circle Fruit Drinks Lunch Box Poppers Tropical Punch Multipack",
          "Oreo Neapolitan Double Stuff Cookies",
          "Woolworths Diced Italian Tomatoes",
          "Woolworths Diced Italian Tomatoes",
          "Woolworths Tomato Sauce Squeeze",
          "Woolworths Tomato Sauce",
          "Woolworths Barbecue Sauce Squeeze",
          "Masterfoods Tomato Sauce",
          "Masterfoods Barbecue Sauce",
          "Woolworths Secret Burger Sauce",
          "Heinz Ketchup Tomato Sauce Ketchup",
          "Woolworths Barbecue Sauce",
          "Smith's Crinkle Cut Potato Chips Original",
          "Smith's Crinkle Cut Potato Chips Cheese & Onion",
          "Smith's Crinkle Cut Potato Chips Barbecue",
          "Smith's Crinkle Cut Potato Chips Chicken",
          "Smith's Thinly Cut Potato Chips Original Share Pack",
          "Thins Chips Chicken",
          "Smith's Crinkle Cut Potato Chips Salt & Vinegar",
          "Woolworths Peach In Strawberry Jelly",
          "Woolworths Two Fruits In Juice Cups",
          "Woolworths Two Fruits In Juice",
          "Woolworths Two Fruits In Juice",
          "Woolworths Two Fruits In Tropical Jelly",
          "Woolworths Apple In Pineapple Jelly",
          "Dole Pineapple Slices In Syrup"
         ],
         "xaxis": "x",
         "y": [
          "Citric Acid",
          "Citric Acid",
          "Citric Acid",
          "Citric Acid",
          "Citric Acid",
          "Citric Acid",
          "Citric Acid",
          "Citric Acid",
          "Citric Acid",
          "Citric Acid",
          "Citric Acid",
          "Citric Acid",
          "Citric Acid",
          "Citric Acid",
          "Citric Acid",
          "Citric Acid",
          "Citric Acid",
          "Citric Acid",
          "Citric Acid",
          "Citric Acid",
          "Citric Acid",
          "Citric Acid",
          "Citric Acid",
          "Citric Acid",
          "Citric Acid",
          "Citric Acid",
          "Citric Acid",
          "Citric Acid",
          "Citric Acid",
          "Citric Acid",
          "Citric Acid",
          "Citric Acid",
          "Citric Acid",
          "Citric Acid",
          "Citric Acid",
          "Citric Acid",
          "Citric Acid",
          "Citric Acid",
          "Citric Acid",
          "Citric Acid",
          "Citric Acid",
          "Citric Acid",
          "Citric Acid",
          "Citric Acid",
          "Citric Acid",
          "Citric Acid",
          "Citric Acid"
         ],
         "yaxis": "y"
        },
        {
         "alignmentgroup": "True",
         "hovertemplate": " Ingredients=%{y}<br>Product=%{x}<extra></extra>",
         "legendgroup": "Herbs",
         "marker": {
          "color": "rgb(166,86,40)",
          "pattern": {
           "shape": ""
          }
         },
         "name": "Herbs",
         "offsetgroup": "Herbs",
         "orientation": "v",
         "showlegend": true,
         "textposition": "auto",
         "type": "bar",
         "x": [
          "Indomie Mi Goreng Instant Noodles",
          "Supreme Noodles Cup Chicken Flavour",
          "Fantastic Chicken Noodle Cup",
          "Indomie Mi Goreng Noodle Cup"
         ],
         "xaxis": "x",
         "y": [
          "Herbs",
          "Herbs",
          "Herbs",
          "Herbs"
         ],
         "yaxis": "y"
        },
        {
         "alignmentgroup": "True",
         "hovertemplate": " Ingredients=%{y}<br>Product=%{x}<extra></extra>",
         "legendgroup": "Preservative 1211",
         "marker": {
          "color": "rgb(247,129,191)",
          "pattern": {
           "shape": ""
          }
         },
         "name": "Preservative 1211",
         "offsetgroup": "Preservative 1211",
         "orientation": "v",
         "showlegend": true,
         "textposition": "auto",
         "type": "bar",
         "x": [
          "Indomie Mi Goreng Instant Noodles",
          "Indomie Mi Goreng Noodle Cup"
         ],
         "xaxis": "x",
         "y": [
          "Preservative 1211",
          "Preservative 1211"
         ],
         "yaxis": "y"
        },
        {
         "alignmentgroup": "True",
         "hovertemplate": " Ingredients=%{y}<br>Product=%{x}<extra></extra>",
         "legendgroup": "Sodium Metabisulfite",
         "marker": {
          "color": "rgb(153,153,153)",
          "pattern": {
           "shape": ""
          }
         },
         "name": "Sodium Metabisulfite",
         "offsetgroup": "Sodium Metabisulfite",
         "orientation": "v",
         "showlegend": true,
         "textposition": "auto",
         "type": "bar",
         "x": [
          "Indomie Mi Goreng Instant Noodles",
          "Indomie Mi Goreng Noodle Cup",
          "Schweppes Lime Soda Water With Lime Juice Bottle",
          "Schweppes Lemon Lime Natural Mineral Water Bottle",
          "Schweppes Orange Mango Natural Mineral Water Bottle"
         ],
         "xaxis": "x",
         "y": [
          "Sodium Metabisulfite",
          "Sodium Metabisulfite",
          "Sodium Metabisulfite",
          "Sodium Metabisulfite",
          "Sodium Metabisulfite"
         ],
         "yaxis": "y"
        },
        {
         "alignmentgroup": "True",
         "hovertemplate": " Ingredients=%{y}<br>Product=%{x}<extra></extra>",
         "legendgroup": "Fried Onion",
         "marker": {
          "color": "#AA0DFE",
          "pattern": {
           "shape": ""
          }
         },
         "name": "Fried Onion",
         "offsetgroup": "Fried Onion",
         "orientation": "v",
         "showlegend": true,
         "textposition": "auto",
         "type": "bar",
         "x": [
          "Indomie Mi Goreng Instant Noodles",
          "Indomie Mi Goreng Noodle Cup"
         ],
         "xaxis": "x",
         "y": [
          "Fried Onion",
          "Fried Onion"
         ],
         "yaxis": "y"
        },
        {
         "alignmentgroup": "True",
         "hovertemplate": " Ingredients=%{y}<br>Product=%{x}<extra></extra>",
         "legendgroup": "TBHQ",
         "marker": {
          "color": "#3283FE",
          "pattern": {
           "shape": ""
          }
         },
         "name": "TBHQ",
         "offsetgroup": "TBHQ",
         "orientation": "v",
         "showlegend": true,
         "textposition": "auto",
         "type": "bar",
         "x": [
          "Indomie Mi Goreng Instant Noodles",
          "Maggi 2 Minute Chicken Flavour Instant Noodles",
          "Maggi 2 Minute Chicken Flavour Instant Noodles",
          "Fantastic Chicken Noodle Bowl",
          "Indomie Mi Goreng Noodle Cup",
          "Maggi 2 Minute Beef Flavour Instant Noodles",
          "Oreo Original Mini Cookies Multipack",
          "Oreo Minis Cookies Variety Bags 18 Pack",
          "Oreo Original Cookies",
          "Oreo Double Stuff Cookies",
          "Oreo Original Cookies Family Pack",
          "Oreo Chocolate Cookies",
          "Oreo Grab & Go Original Cookies 9 Pack",
          "Oreo Neapolitan Double Stuff Cookies"
         ],
         "xaxis": "x",
         "y": [
          "TBHQ",
          "TBHQ",
          "TBHQ",
          "TBHQ",
          "TBHQ",
          "TBHQ",
          "TBHQ",
          "TBHQ",
          "TBHQ",
          "TBHQ",
          "TBHQ",
          "TBHQ",
          "TBHQ",
          "TBHQ"
         ],
         "yaxis": "y"
        },
        {
         "alignmentgroup": "True",
         "hovertemplate": " Ingredients=%{y}<br>Product=%{x}<extra></extra>",
         "legendgroup": "Disodium Inosinate",
         "marker": {
          "color": "#85660D",
          "pattern": {
           "shape": ""
          }
         },
         "name": "Disodium Inosinate",
         "offsetgroup": "Disodium Inosinate",
         "orientation": "v",
         "showlegend": true,
         "textposition": "auto",
         "type": "bar",
         "x": [
          "Indomie Mi Goreng Instant Noodles",
          "Fantastic Chicken Noodle Bowl",
          "Indomie Mi Goreng Noodle Cup"
         ],
         "xaxis": "x",
         "y": [
          "Disodium Inosinate",
          "Disodium Inosinate",
          "Disodium Inosinate"
         ],
         "yaxis": "y"
        },
        {
         "alignmentgroup": "True",
         "hovertemplate": " Ingredients=%{y}<br>Product=%{x}<extra></extra>",
         "legendgroup": "Vegetable Oil",
         "marker": {
          "color": "#782AB6",
          "pattern": {
           "shape": ""
          }
         },
         "name": "Vegetable Oil",
         "offsetgroup": "Vegetable Oil",
         "orientation": "v",
         "showlegend": true,
         "textposition": "auto",
         "type": "bar",
         "x": [
          "Maggi 2 Minute Chicken Flavour Instant Noodles",
          "Maggi 2 Minute Chicken Flavour Instant Noodles",
          "Supreme Noodles Cup Chicken Flavour",
          "Fantastic Chicken Noodle Cup",
          "Fantastic Chicken Noodle Bowl",
          "Maggi 2 Minute Beef Flavour Instant Noodles",
          "Supreme Noodles Cup Beef Flavour",
          "Mars Chocolate Bar With Nougat & Caramel",
          "Cadbury Chomp Chocolate Bar",
          "Arnott's Premier Chocolate Chip Cookies",
          "Woolworths Chocolate Chip Cookies",
          "Woolworths The King Of Chunky Chocolate Chip Cookies",
          "Arnott's Mini Choc Chip Cookie Multipack Biscuits",
          "Oreo Original Mini Cookies Multipack",
          "Oreo Minis Cookies Variety Bags 18 Pack",
          "Cadbury Classic Choc Chip Cookies",
          "Cadbury Choc Centre Cookies",
          "Byron Bay Cookies Dotty Cookie Bites",
          "Oreo Original Cookies",
          "Oreo Double Stuff Cookies",
          "Oreo Original Cookies Family Pack",
          "Oreo Chocolate Cookies",
          "Oreo Grab & Go Original Cookies 9 Pack",
          "Oreo Neapolitan Double Stuff Cookies",
          "Deep Cove Sardines In Oil",
          "Thins Chips Salt & Vinegar",
          "Thins Chips Chicken",
          "Thins Chips Light & Tangy",
          "Thins Cheese & Onion Chips"
         ],
         "xaxis": "x",
         "y": [
          "Vegetable Oil",
          "Vegetable Oil",
          "Vegetable Oil",
          "Vegetable Oil",
          "Vegetable Oil",
          "Vegetable Oil",
          "Vegetable Oil",
          "Vegetable Oil",
          "Vegetable Oil",
          "Vegetable Oil",
          "Vegetable Oil",
          "Vegetable Oil",
          "Vegetable Oil",
          "Vegetable Oil",
          "Vegetable Oil",
          "Vegetable Oil",
          "Vegetable Oil",
          "Vegetable Oil",
          "Vegetable Oil",
          "Vegetable Oil",
          "Vegetable Oil",
          "Vegetable Oil",
          "Vegetable Oil",
          "Vegetable Oil",
          "Vegetable Oil",
          "Vegetable Oil",
          "Vegetable Oil",
          "Vegetable Oil",
          "Vegetable Oil"
         ],
         "yaxis": "y"
        },
        {
         "alignmentgroup": "True",
         "hovertemplate": " Ingredients=%{y}<br>Product=%{x}<extra></extra>",
         "legendgroup": "Antioxidant 320",
         "marker": {
          "color": "#565656",
          "pattern": {
           "shape": ""
          }
         },
         "name": "Antioxidant 320",
         "offsetgroup": "Antioxidant 320",
         "orientation": "v",
         "showlegend": true,
         "textposition": "auto",
         "type": "bar",
         "x": [
          "Maggi 2 Minute Chicken Flavour Instant Noodles",
          "Maggi 2 Minute Chicken Flavour Instant Noodles",
          "Fantastic Chicken Noodle Cup",
          "Maggi 2 Minute Beef Flavour Instant Noodles",
          "Supreme Noodles Cup Beef Flavour"
         ],
         "xaxis": "x",
         "y": [
          "Antioxidant 320",
          "Antioxidant 320",
          "Antioxidant 320",
          "Antioxidant 320",
          "Antioxidant 320"
         ],
         "yaxis": "y"
        },
        {
         "alignmentgroup": "True",
         "hovertemplate": " Ingredients=%{y}<br>Product=%{x}<extra></extra>",
         "legendgroup": "Mineral Salt 508",
         "marker": {
          "color": "#1C8356",
          "pattern": {
           "shape": ""
          }
         },
         "name": "Mineral Salt 508",
         "offsetgroup": "Mineral Salt 508",
         "orientation": "v",
         "showlegend": true,
         "textposition": "auto",
         "type": "bar",
         "x": [
          "Maggi 2 Minute Chicken Flavour Instant Noodles",
          "Maggi 2 Minute Chicken Flavour Instant Noodles",
          "Maggi 2 Minute Beef Flavour Instant Noodles"
         ],
         "xaxis": "x",
         "y": [
          "Mineral Salt 508",
          "Mineral Salt 508",
          "Mineral Salt 508"
         ],
         "yaxis": "y"
        },
        {
         "alignmentgroup": "True",
         "hovertemplate": " Ingredients=%{y}<br>Product=%{x}<extra></extra>",
         "legendgroup": "Mineral Salt 451",
         "marker": {
          "color": "#16FF32",
          "pattern": {
           "shape": ""
          }
         },
         "name": "Mineral Salt 451",
         "offsetgroup": "Mineral Salt 451",
         "orientation": "v",
         "showlegend": true,
         "textposition": "auto",
         "type": "bar",
         "x": [
          "Maggi 2 Minute Chicken Flavour Instant Noodles",
          "Maggi 2 Minute Chicken Flavour Instant Noodles",
          "Maggi 2 Minute Beef Flavour Instant Noodles"
         ],
         "xaxis": "x",
         "y": [
          "Mineral Salt 451",
          "Mineral Salt 451",
          "Mineral Salt 451"
         ],
         "yaxis": "y"
        },
        {
         "alignmentgroup": "True",
         "hovertemplate": " Ingredients=%{y}<br>Product=%{x}<extra></extra>",
         "legendgroup": "Flavour Enhancer 635",
         "marker": {
          "color": "#F7E1A0",
          "pattern": {
           "shape": ""
          }
         },
         "name": "Flavour Enhancer 635",
         "offsetgroup": "Flavour Enhancer 635",
         "orientation": "v",
         "showlegend": true,
         "textposition": "auto",
         "type": "bar",
         "x": [
          "Maggi 2 Minute Chicken Flavour Instant Noodles",
          "Maggi 2 Minute Chicken Flavour Instant Noodles",
          "Supreme Noodles Cup Chicken Flavour",
          "Fantastic Chicken Noodle Cup",
          "Maggi 2 Minute Beef Flavour Instant Noodles",
          "Supreme Noodles Cup Beef Flavour",
          "Smith's Crinkle Cut Potato Chips Barbecue",
          "Smith's Crinkle Cut Potato Chips Chicken",
          "Thins Chips Chicken",
          "Thins Chips Light & Tangy",
          "Thins Cheese & Onion Chips"
         ],
         "xaxis": "x",
         "y": [
          "Flavour Enhancer 635",
          "Flavour Enhancer 635",
          "Flavour Enhancer 635",
          "Flavour Enhancer 635",
          "Flavour Enhancer 635",
          "Flavour Enhancer 635",
          "Flavour Enhancer 635",
          "Flavour Enhancer 635",
          "Flavour Enhancer 635",
          "Flavour Enhancer 635",
          "Flavour Enhancer 635"
         ],
         "yaxis": "y"
        },
        {
         "alignmentgroup": "True",
         "hovertemplate": " Ingredients=%{y}<br>Product=%{x}<extra></extra>",
         "legendgroup": "Iodised Salt",
         "marker": {
          "color": "#E2E2E2",
          "pattern": {
           "shape": ""
          }
         },
         "name": "Iodised Salt",
         "offsetgroup": "Iodised Salt",
         "orientation": "v",
         "showlegend": true,
         "textposition": "auto",
         "type": "bar",
         "x": [
          "Maggi 2 Minute Chicken Flavour Instant Noodles",
          "Oreo Neapolitan Double Stuff Cookies"
         ],
         "xaxis": "x",
         "y": [
          "Iodised Salt",
          "Iodised Salt"
         ],
         "yaxis": "y"
        },
        {
         "alignmentgroup": "True",
         "hovertemplate": " Ingredients=%{y}<br>Product=%{x}<extra></extra>",
         "legendgroup": "Maltodextrin",
         "marker": {
          "color": "#1CBE4F",
          "pattern": {
           "shape": ""
          }
         },
         "name": "Maltodextrin",
         "offsetgroup": "Maltodextrin",
         "orientation": "v",
         "showlegend": true,
         "textposition": "auto",
         "type": "bar",
         "x": [
          "Maggi 2 Minute Chicken Flavour Instant Noodles",
          "Supreme Noodles Cup Chicken Flavour",
          "Fantastic Chicken Noodle Cup",
          "Oreo Neapolitan Double Stuff Cookies",
          "Smith's Crinkle Cut Potato Chips Cheese & Onion",
          "Smith's Crinkle Cut Potato Chips Barbecue",
          "Smith's Crinkle Cut Potato Chips Chicken"
         ],
         "xaxis": "x",
         "y": [
          "Maltodextrin",
          "Maltodextrin",
          "Maltodextrin",
          "Maltodextrin",
          "Maltodextrin",
          "Maltodextrin",
          "Maltodextrin"
         ],
         "yaxis": "y"
        },
        {
         "alignmentgroup": "True",
         "hovertemplate": " Ingredients=%{y}<br>Product=%{x}<extra></extra>",
         "legendgroup": "Flavours Wheat",
         "marker": {
          "color": "#C4451C",
          "pattern": {
           "shape": ""
          }
         },
         "name": "Flavours Wheat",
         "offsetgroup": "Flavours Wheat",
         "orientation": "v",
         "showlegend": true,
         "textposition": "auto",
         "type": "bar",
         "x": [
          "Maggi 2 Minute Chicken Flavour Instant Noodles",
          "Maggi 2 Minute Chicken Flavour Instant Noodles",
          "Fantastic Chicken Noodle Bowl"
         ],
         "xaxis": "x",
         "y": [
          "Flavours Wheat",
          "Flavours Wheat",
          "Flavours Wheat"
         ],
         "yaxis": "y"
        },
        {
         "alignmentgroup": "True",
         "hovertemplate": " Ingredients=%{y}<br>Product=%{x}<extra></extra>",
         "legendgroup": "Flavours Soy",
         "marker": {
          "color": "#DEA0FD",
          "pattern": {
           "shape": ""
          }
         },
         "name": "Flavours Soy",
         "offsetgroup": "Flavours Soy",
         "orientation": "v",
         "showlegend": true,
         "textposition": "auto",
         "type": "bar",
         "x": [
          "Maggi 2 Minute Chicken Flavour Instant Noodles",
          "Maggi 2 Minute Chicken Flavour Instant Noodles",
          "Fantastic Chicken Noodle Bowl"
         ],
         "xaxis": "x",
         "y": [
          "Flavours Soy",
          "Flavours Soy",
          "Flavours Soy"
         ],
         "yaxis": "y"
        },
        {
         "alignmentgroup": "True",
         "hovertemplate": " Ingredients=%{y}<br>Product=%{x}<extra></extra>",
         "legendgroup": "Vegetable Fat",
         "marker": {
          "color": "#FE00FA",
          "pattern": {
           "shape": ""
          }
         },
         "name": "Vegetable Fat",
         "offsetgroup": "Vegetable Fat",
         "orientation": "v",
         "showlegend": true,
         "textposition": "auto",
         "type": "bar",
         "x": [
          "Maggi 2 Minute Chicken Flavour Instant Noodles",
          "Maggi 2 Minute Chicken Flavour Instant Noodles",
          "Maggi 2 Minute Beef Flavour Instant Noodles",
          "Kitkat 4 Finger Milk Chocolate Bar",
          "Kitkat Chunky Original Chocolate Bar",
          "Cadbury Dairy Milk Caramello Koala Chocolate",
          "Mars Chocolate Bar With Nougat & Caramel",
          "Cadbury Chomp Chocolate Bar",
          "Cadbury Classic Choc Chip Cookies",
          "Byron Bay Cookies Dotty Cookie Bites"
         ],
         "xaxis": "x",
         "y": [
          "Vegetable Fat",
          "Vegetable Fat",
          "Vegetable Fat",
          "Vegetable Fat",
          "Vegetable Fat",
          "Vegetable Fat",
          "Vegetable Fat",
          "Vegetable Fat",
          "Vegetable Fat",
          "Vegetable Fat"
         ],
         "yaxis": "y"
        },
        {
         "alignmentgroup": "True",
         "hovertemplate": " Ingredients=%{y}<br>Product=%{x}<extra></extra>",
         "legendgroup": "Parsley Flakes",
         "marker": {
          "color": "#325A9B",
          "pattern": {
           "shape": ""
          }
         },
         "name": "Parsley Flakes",
         "offsetgroup": "Parsley Flakes",
         "orientation": "v",
         "showlegend": true,
         "textposition": "auto",
         "type": "bar",
         "x": [
          "Maggi 2 Minute Chicken Flavour Instant Noodles"
         ],
         "xaxis": "x",
         "y": [
          "Parsley Flakes"
         ],
         "yaxis": "y"
        },
        {
         "alignmentgroup": "True",
         "hovertemplate": " Ingredients=%{y}<br>Product=%{x}<extra></extra>",
         "legendgroup": "Turmeric",
         "marker": {
          "color": "#FEAF16",
          "pattern": {
           "shape": ""
          }
         },
         "name": "Turmeric",
         "offsetgroup": "Turmeric",
         "orientation": "v",
         "showlegend": true,
         "textposition": "auto",
         "type": "bar",
         "x": [
          "Maggi 2 Minute Chicken Flavour Instant Noodles",
          "Maggi 2 Minute Chicken Flavour Instant Noodles",
          "Smith's Crinkle Cut Potato Chips Chicken",
          "Thins Cheese & Onion Chips"
         ],
         "xaxis": "x",
         "y": [
          "Turmeric",
          "Turmeric",
          "Turmeric",
          "Turmeric"
         ],
         "yaxis": "y"
        },
        {
         "alignmentgroup": "True",
         "hovertemplate": " Ingredients=%{y}<br>Product=%{x}<extra></extra>",
         "legendgroup": "Caramel III",
         "marker": {
          "color": "#F8A19F",
          "pattern": {
           "shape": ""
          }
         },
         "name": "Caramel III",
         "offsetgroup": "Caramel III",
         "orientation": "v",
         "showlegend": true,
         "textposition": "auto",
         "type": "bar",
         "x": [
          "Maggi 2 Minute Chicken Flavour Instant Noodles"
         ],
         "xaxis": "x",
         "y": [
          "Caramel III"
         ],
         "yaxis": "y"
        },
        {
         "alignmentgroup": "True",
         "hovertemplate": " Ingredients=%{y}<br>Product=%{x}<extra></extra>",
         "legendgroup": "Coriander",
         "marker": {
          "color": "#90AD1C",
          "pattern": {
           "shape": ""
          }
         },
         "name": "Coriander",
         "offsetgroup": "Coriander",
         "orientation": "v",
         "showlegend": true,
         "textposition": "auto",
         "type": "bar",
         "x": [
          "Maggi 2 Minute Chicken Flavour Instant Noodles",
          "Maggi 2 Minute Chicken Flavour Instant Noodles"
         ],
         "xaxis": "x",
         "y": [
          "Coriander",
          "Coriander"
         ],
         "yaxis": "y"
        },
        {
         "alignmentgroup": "True",
         "hovertemplate": " Ingredients=%{y}<br>Product=%{x}<extra></extra>",
         "legendgroup": "Cumin",
         "marker": {
          "color": "#F6222E",
          "pattern": {
           "shape": ""
          }
         },
         "name": "Cumin",
         "offsetgroup": "Cumin",
         "orientation": "v",
         "showlegend": true,
         "textposition": "auto",
         "type": "bar",
         "x": [
          "Maggi 2 Minute Chicken Flavour Instant Noodles",
          "Maggi 2 Minute Chicken Flavour Instant Noodles"
         ],
         "xaxis": "x",
         "y": [
          "Cumin",
          "Cumin"
         ],
         "yaxis": "y"
        },
        {
         "alignmentgroup": "True",
         "hovertemplate": " Ingredients=%{y}<br>Product=%{x}<extra></extra>",
         "legendgroup": "Spice Cardamom",
         "marker": {
          "color": "#1CFFCE",
          "pattern": {
           "shape": ""
          }
         },
         "name": "Spice Cardamom",
         "offsetgroup": "Spice Cardamom",
         "orientation": "v",
         "showlegend": true,
         "textposition": "auto",
         "type": "bar",
         "x": [
          "Maggi 2 Minute Chicken Flavour Instant Noodles",
          "Maggi 2 Minute Chicken Flavour Instant Noodles"
         ],
         "xaxis": "x",
         "y": [
          "Spice Cardamom",
          "Spice Cardamom"
         ],
         "yaxis": "y"
        },
        {
         "alignmentgroup": "True",
         "hovertemplate": " Ingredients=%{y}<br>Product=%{x}<extra></extra>",
         "legendgroup": "Spice Chilli Powder",
         "marker": {
          "color": "#2ED9FF",
          "pattern": {
           "shape": ""
          }
         },
         "name": "Spice Chilli Powder",
         "offsetgroup": "Spice Chilli Powder",
         "orientation": "v",
         "showlegend": true,
         "textposition": "auto",
         "type": "bar",
         "x": [
          "Maggi 2 Minute Chicken Flavour Instant Noodles",
          "Maggi 2 Minute Chicken Flavour Instant Noodles"
         ],
         "xaxis": "x",
         "y": [
          "Spice Chilli Powder",
          "Spice Chilli Powder"
         ],
         "yaxis": "y"
        },
        {
         "alignmentgroup": "True",
         "hovertemplate": " Ingredients=%{y}<br>Product=%{x}<extra></extra>",
         "legendgroup": "Spice Ginger",
         "marker": {
          "color": "#B10DA1",
          "pattern": {
           "shape": ""
          }
         },
         "name": "Spice Ginger",
         "offsetgroup": "Spice Ginger",
         "orientation": "v",
         "showlegend": true,
         "textposition": "auto",
         "type": "bar",
         "x": [
          "Maggi 2 Minute Chicken Flavour Instant Noodles",
          "Maggi 2 Minute Chicken Flavour Instant Noodles"
         ],
         "xaxis": "x",
         "y": [
          "Spice Ginger",
          "Spice Ginger"
         ],
         "yaxis": "y"
        },
        {
         "alignmentgroup": "True",
         "hovertemplate": " Ingredients=%{y}<br>Product=%{x}<extra></extra>",
         "legendgroup": "Flavour Celery",
         "marker": {
          "color": "#C075A6",
          "pattern": {
           "shape": ""
          }
         },
         "name": "Flavour Celery",
         "offsetgroup": "Flavour Celery",
         "orientation": "v",
         "showlegend": true,
         "textposition": "auto",
         "type": "bar",
         "x": [
          "Maggi 2 Minute Chicken Flavour Instant Noodles",
          "Maggi 2 Minute Chicken Flavour Instant Noodles"
         ],
         "xaxis": "x",
         "y": [
          "Flavour Celery",
          "Flavour Celery"
         ],
         "yaxis": "y"
        },
        {
         "alignmentgroup": "True",
         "hovertemplate": " Ingredients=%{y}<br>Product=%{x}<extra></extra>",
         "legendgroup": "Mineral Salt 501",
         "marker": {
          "color": "#FC1CBF",
          "pattern": {
           "shape": ""
          }
         },
         "name": "Mineral Salt 501",
         "offsetgroup": "Mineral Salt 501",
         "orientation": "v",
         "showlegend": true,
         "textposition": "auto",
         "type": "bar",
         "x": [
          "Maggi 2 Minute Chicken Flavour Instant Noodles",
          "Maggi 2 Minute Chicken Flavour Instant Noodles",
          "Fantastic Chicken Noodle Bowl",
          "Maggi 2 Minute Beef Flavour Instant Noodles"
         ],
         "xaxis": "x",
         "y": [
          "Mineral Salt 501",
          "Mineral Salt 501",
          "Mineral Salt 501",
          "Mineral Salt 501"
         ],
         "yaxis": "y"
        },
        {
         "alignmentgroup": "True",
         "hovertemplate": " Ingredients=%{y}<br>Product=%{x}<extra></extra>",
         "legendgroup": "Mineral Salt 500",
         "marker": {
          "color": "#B00068",
          "pattern": {
           "shape": ""
          }
         },
         "name": "Mineral Salt 500",
         "offsetgroup": "Mineral Salt 500",
         "orientation": "v",
         "showlegend": true,
         "textposition": "auto",
         "type": "bar",
         "x": [
          "Maggi 2 Minute Chicken Flavour Instant Noodles",
          "Maggi 2 Minute Chicken Flavour Instant Noodles",
          "Fantastic Chicken Noodle Bowl",
          "Maggi 2 Minute Beef Flavour Instant Noodles"
         ],
         "xaxis": "x",
         "y": [
          "Mineral Salt 500",
          "Mineral Salt 500",
          "Mineral Salt 500",
          "Mineral Salt 500"
         ],
         "yaxis": "y"
        },
        {
         "alignmentgroup": "True",
         "hovertemplate": " Ingredients=%{y}<br>Product=%{x}<extra></extra>",
         "legendgroup": "Potassium Chloride",
         "marker": {
          "color": "#FBE426",
          "pattern": {
           "shape": ""
          }
         },
         "name": "Potassium Chloride",
         "offsetgroup": "Potassium Chloride",
         "orientation": "v",
         "showlegend": true,
         "textposition": "auto",
         "type": "bar",
         "x": [
          "Maggi 2 Minute Chicken Flavour Instant Noodles",
          "Maggi 2 Minute Beef Flavour Instant Noodles",
          "Smith's Crinkle Cut Potato Chips Cheese & Onion",
          "Smith's Crinkle Cut Potato Chips Barbecue",
          "Smith's Crinkle Cut Potato Chips Chicken",
          "Thins Chips Salt & Vinegar",
          "Thins Chips Chicken",
          "Smith's Crinkle Cut Potato Chips Salt & Vinegar",
          "Thins Cheese & Onion Chips"
         ],
         "xaxis": "x",
         "y": [
          "Potassium Chloride",
          "Potassium Chloride",
          "Potassium Chloride",
          "Potassium Chloride",
          "Potassium Chloride",
          "Potassium Chloride",
          "Potassium Chloride",
          "Potassium Chloride",
          "Potassium Chloride"
         ],
         "yaxis": "y"
        },
        {
         "alignmentgroup": "True",
         "hovertemplate": " Ingredients=%{y}<br>Product=%{x}<extra></extra>",
         "legendgroup": "Potato Starch",
         "marker": {
          "color": "#FA0087",
          "pattern": {
           "shape": ""
          }
         },
         "name": "Potato Starch",
         "offsetgroup": "Potato Starch",
         "orientation": "v",
         "showlegend": true,
         "textposition": "auto",
         "type": "bar",
         "x": [
          "Maggi 2 Minute Chicken Flavour Instant Noodles",
          "Cadbury Classic Choc Chip Cookies"
         ],
         "xaxis": "x",
         "y": [
          "Potato Starch",
          "Potato Starch"
         ],
         "yaxis": "y"
        },
        {
         "alignmentgroup": "True",
         "hovertemplate": " Ingredients=%{y}<br>Product=%{x}<extra></extra>",
         "legendgroup": "Parsley",
         "marker": {
          "color": "rgb(27,158,119)",
          "pattern": {
           "shape": ""
          }
         },
         "name": "Parsley",
         "offsetgroup": "Parsley",
         "orientation": "v",
         "showlegend": true,
         "textposition": "auto",
         "type": "bar",
         "x": [
          "Maggi 2 Minute Chicken Flavour Instant Noodles",
          "Smith's Crinkle Cut Potato Chips Chicken",
          "Thins Chips Chicken",
          "Thins Cheese & Onion Chips"
         ],
         "xaxis": "x",
         "y": [
          "Parsley",
          "Parsley",
          "Parsley",
          "Parsley"
         ],
         "yaxis": "y"
        },
        {
         "alignmentgroup": "True",
         "hovertemplate": " Ingredients=%{y}<br>Product=%{x}<extra></extra>",
         "legendgroup": "Burnt Sugar",
         "marker": {
          "color": "rgb(217,95,2)",
          "pattern": {
           "shape": ""
          }
         },
         "name": "Burnt Sugar",
         "offsetgroup": "Burnt Sugar",
         "orientation": "v",
         "showlegend": true,
         "textposition": "auto",
         "type": "bar",
         "x": [
          "Maggi 2 Minute Chicken Flavour Instant Noodles",
          "Maggi 2 Minute Beef Flavour Instant Noodles"
         ],
         "xaxis": "x",
         "y": [
          "Burnt Sugar",
          "Burnt Sugar"
         ],
         "yaxis": "y"
        },
        {
         "alignmentgroup": "True",
         "hovertemplate": " Ingredients=%{y}<br>Product=%{x}<extra></extra>",
         "legendgroup": "Gluten Wheat",
         "marker": {
          "color": "rgb(117,112,179)",
          "pattern": {
           "shape": ""
          }
         },
         "name": "Gluten Wheat",
         "offsetgroup": "Gluten Wheat",
         "orientation": "v",
         "showlegend": true,
         "textposition": "auto",
         "type": "bar",
         "x": [
          "Supreme Noodles Cup Chicken Flavour",
          "Fantastic Chicken Noodle Cup"
         ],
         "xaxis": "x",
         "y": [
          "Gluten Wheat",
          "Gluten Wheat"
         ],
         "yaxis": "y"
        },
        {
         "alignmentgroup": "True",
         "hovertemplate": " Ingredients=%{y}<br>Product=%{x}<extra></extra>",
         "legendgroup": "Soy",
         "marker": {
          "color": "rgb(231,41,138)",
          "pattern": {
           "shape": ""
          }
         },
         "name": "Soy",
         "offsetgroup": "Soy",
         "orientation": "v",
         "showlegend": true,
         "textposition": "auto",
         "type": "bar",
         "x": [
          "Supreme Noodles Cup Chicken Flavour",
          "Fantastic Chicken Noodle Cup",
          "Maggi 2 Minute Beef Flavour Instant Noodles",
          "Supreme Noodles Cup Beef Flavour",
          "Kitkat Chunky Original Chocolate Bar"
         ],
         "xaxis": "x",
         "y": [
          "Soy",
          "Soy",
          "Soy",
          "Soy",
          "Soy"
         ],
         "yaxis": "y"
        },
        {
         "alignmentgroup": "True",
         "hovertemplate": " Ingredients=%{y}<br>Product=%{x}<extra></extra>",
         "legendgroup": "Curcumin",
         "marker": {
          "color": "rgb(102,166,30)",
          "pattern": {
           "shape": ""
          }
         },
         "name": "Curcumin",
         "offsetgroup": "Curcumin",
         "orientation": "v",
         "showlegend": true,
         "textposition": "auto",
         "type": "bar",
         "x": [
          "Supreme Noodles Cup Chicken Flavour",
          "Fantastic Chicken Noodle Cup",
          "Supreme Noodles Cup Beef Flavour"
         ],
         "xaxis": "x",
         "y": [
          "Curcumin",
          "Curcumin",
          "Curcumin"
         ],
         "yaxis": "y"
        },
        {
         "alignmentgroup": "True",
         "hovertemplate": " Ingredients=%{y}<br>Product=%{x}<extra></extra>",
         "legendgroup": "Flavour Sachet",
         "marker": {
          "color": "rgb(230,171,2)",
          "pattern": {
           "shape": ""
          }
         },
         "name": "Flavour Sachet",
         "offsetgroup": "Flavour Sachet",
         "orientation": "v",
         "showlegend": true,
         "textposition": "auto",
         "type": "bar",
         "x": [
          "Fantastic Chicken Noodle Cup"
         ],
         "xaxis": "x",
         "y": [
          "Flavour Sachet"
         ],
         "yaxis": "y"
        },
        {
         "alignmentgroup": "True",
         "hovertemplate": " Ingredients=%{y}<br>Product=%{x}<extra></extra>",
         "legendgroup": "Vegetable Sachet",
         "marker": {
          "color": "rgb(166,118,29)",
          "pattern": {
           "shape": ""
          }
         },
         "name": "Vegetable Sachet",
         "offsetgroup": "Vegetable Sachet",
         "orientation": "v",
         "showlegend": true,
         "textposition": "auto",
         "type": "bar",
         "x": [
          "Fantastic Chicken Noodle Cup"
         ],
         "xaxis": "x",
         "y": [
          "Vegetable Sachet"
         ],
         "yaxis": "y"
        },
        {
         "alignmentgroup": "True",
         "hovertemplate": " Ingredients=%{y}<br>Product=%{x}<extra></extra>",
         "legendgroup": "Dehydrated Vegetables",
         "marker": {
          "color": "rgb(102,102,102)",
          "pattern": {
           "shape": ""
          }
         },
         "name": "Dehydrated Vegetables",
         "offsetgroup": "Dehydrated Vegetables",
         "orientation": "v",
         "showlegend": true,
         "textposition": "auto",
         "type": "bar",
         "x": [
          "Fantastic Chicken Noodle Cup",
          "Fantastic Chicken Noodle Bowl"
         ],
         "xaxis": "x",
         "y": [
          "Dehydrated Vegetables",
          "Dehydrated Vegetables"
         ],
         "yaxis": "y"
        },
        {
         "alignmentgroup": "True",
         "hovertemplate": " Ingredients=%{y}<br>Product=%{x}<extra></extra>",
         "legendgroup": "Modified Starch 1420",
         "marker": {
          "color": "rgb(228,26,28)",
          "pattern": {
           "shape": ""
          }
         },
         "name": "Modified Starch 1420",
         "offsetgroup": "Modified Starch 1420",
         "orientation": "v",
         "showlegend": true,
         "textposition": "auto",
         "type": "bar",
         "x": [
          "Fantastic Chicken Noodle Bowl"
         ],
         "xaxis": "x",
         "y": [
          "Modified Starch 1420"
         ],
         "yaxis": "y"
        },
        {
         "alignmentgroup": "True",
         "hovertemplate": " Ingredients=%{y}<br>Product=%{x}<extra></extra>",
         "legendgroup": "Mineral Salt 450",
         "marker": {
          "color": "rgb(55,126,184)",
          "pattern": {
           "shape": ""
          }
         },
         "name": "Mineral Salt 450",
         "offsetgroup": "Mineral Salt 450",
         "orientation": "v",
         "showlegend": true,
         "textposition": "auto",
         "type": "bar",
         "x": [
          "Fantastic Chicken Noodle Bowl"
         ],
         "xaxis": "x",
         "y": [
          "Mineral Salt 450"
         ],
         "yaxis": "y"
        },
        {
         "alignmentgroup": "True",
         "hovertemplate": " Ingredients=%{y}<br>Product=%{x}<extra></extra>",
         "legendgroup": "Basil",
         "marker": {
          "color": "rgb(77,175,74)",
          "pattern": {
           "shape": ""
          }
         },
         "name": "Basil",
         "offsetgroup": "Basil",
         "orientation": "v",
         "showlegend": true,
         "textposition": "auto",
         "type": "bar",
         "x": [
          "Fantastic Chicken Noodle Bowl",
          "Supreme Noodles Cup Beef Flavour"
         ],
         "xaxis": "x",
         "y": [
          "Basil",
          "Basil"
         ],
         "yaxis": "y"
        },
        {
         "alignmentgroup": "True",
         "hovertemplate": " Ingredients=%{y}<br>Product=%{x}<extra></extra>",
         "legendgroup": "Colouring Agent 100",
         "marker": {
          "color": "rgb(152,78,163)",
          "pattern": {
           "shape": ""
          }
         },
         "name": "Colouring Agent 100",
         "offsetgroup": "Colouring Agent 100",
         "orientation": "v",
         "showlegend": true,
         "textposition": "auto",
         "type": "bar",
         "x": [
          "Fantastic Chicken Noodle Bowl"
         ],
         "xaxis": "x",
         "y": [
          "Colouring Agent 100"
         ],
         "yaxis": "y"
        },
        {
         "alignmentgroup": "True",
         "hovertemplate": " Ingredients=%{y}<br>Product=%{x}<extra></extra>",
         "legendgroup": "Antioxidant 307b",
         "marker": {
          "color": "rgb(255,127,0)",
          "pattern": {
           "shape": ""
          }
         },
         "name": "Antioxidant 307b",
         "offsetgroup": "Antioxidant 307b",
         "orientation": "v",
         "showlegend": true,
         "textposition": "auto",
         "type": "bar",
         "x": [
          "Fantastic Chicken Noodle Bowl",
          "Woolworths Chocolate Chip Cookies",
          "Woolworths The King Of Chunky Chocolate Chip Cookies"
         ],
         "xaxis": "x",
         "y": [
          "Antioxidant 307b",
          "Antioxidant 307b",
          "Antioxidant 307b"
         ],
         "yaxis": "y"
        },
        {
         "alignmentgroup": "True",
         "hovertemplate": " Ingredients=%{y}<br>Product=%{x}<extra></extra>",
         "legendgroup": "Flavours",
         "marker": {
          "color": "rgb(255,255,51)",
          "pattern": {
           "shape": ""
          }
         },
         "name": "Flavours",
         "offsetgroup": "Flavours",
         "orientation": "v",
         "showlegend": true,
         "textposition": "auto",
         "type": "bar",
         "x": [
          "Indomie Mi Goreng Noodle Cup",
          "Cadbury Dairy Milk Caramello Koala Chocolate",
          "Cadbury Dairy Milk Chocolate Roll",
          "Cadbury Dairy Milk Chocolate Bar",
          "Cadbury Twirl Chocolate Bar",
          "Cadbury Chomp Chocolate Bar",
          "Cadbury Choc Centre Cookies",
          "Oreo Neapolitan Double Stuff Cookies",
          "Smith's Crinkle Cut Potato Chips Barbecue",
          "Thins Chips Chicken"
         ],
         "xaxis": "x",
         "y": [
          "Flavours",
          "Flavours",
          "Flavours",
          "Flavours",
          "Flavours",
          "Flavours",
          "Flavours",
          "Flavours",
          "Flavours",
          "Flavours"
         ],
         "yaxis": "y"
        },
        {
         "alignmentgroup": "True",
         "hovertemplate": " Ingredients=%{y}<br>Product=%{x}<extra></extra>",
         "legendgroup": "Soy Sauce Powder",
         "marker": {
          "color": "rgb(166,86,40)",
          "pattern": {
           "shape": ""
          }
         },
         "name": "Soy Sauce Powder",
         "offsetgroup": "Soy Sauce Powder",
         "orientation": "v",
         "showlegend": true,
         "textposition": "auto",
         "type": "bar",
         "x": [
          "Maggi 2 Minute Beef Flavour Instant Noodles"
         ],
         "xaxis": "x",
         "y": [
          "Soy Sauce Powder"
         ],
         "yaxis": "y"
        },
        {
         "alignmentgroup": "True",
         "hovertemplate": " Ingredients=%{y}<br>Product=%{x}<extra></extra>",
         "legendgroup": "White Pepper",
         "marker": {
          "color": "rgb(247,129,191)",
          "pattern": {
           "shape": ""
          }
         },
         "name": "White Pepper",
         "offsetgroup": "White Pepper",
         "orientation": "v",
         "showlegend": true,
         "textposition": "auto",
         "type": "bar",
         "x": [
          "Maggi 2 Minute Beef Flavour Instant Noodles"
         ],
         "xaxis": "x",
         "y": [
          "White Pepper"
         ],
         "yaxis": "y"
        },
        {
         "alignmentgroup": "True",
         "hovertemplate": " Ingredients=%{y}<br>Product=%{x}<extra></extra>",
         "legendgroup": "Rosemary",
         "marker": {
          "color": "rgb(153,153,153)",
          "pattern": {
           "shape": ""
          }
         },
         "name": "Rosemary",
         "offsetgroup": "Rosemary",
         "orientation": "v",
         "showlegend": true,
         "textposition": "auto",
         "type": "bar",
         "x": [
          "Maggi 2 Minute Beef Flavour Instant Noodles"
         ],
         "xaxis": "x",
         "y": [
          "Rosemary"
         ],
         "yaxis": "y"
        },
        {
         "alignmentgroup": "True",
         "hovertemplate": " Ingredients=%{y}<br>Product=%{x}<extra></extra>",
         "legendgroup": "Colouring Agent 150c",
         "marker": {
          "color": "#AA0DFE",
          "pattern": {
           "shape": ""
          }
         },
         "name": "Colouring Agent 150c",
         "offsetgroup": "Colouring Agent 150c",
         "orientation": "v",
         "showlegend": true,
         "textposition": "auto",
         "type": "bar",
         "x": [
          "Supreme Noodles Cup Beef Flavour"
         ],
         "xaxis": "x",
         "y": [
          "Colouring Agent 150c"
         ],
         "yaxis": "y"
        },
        {
         "alignmentgroup": "True",
         "hovertemplate": " Ingredients=%{y}<br>Product=%{x}<extra></extra>",
         "legendgroup": "Caramel Color",
         "marker": {
          "color": "#3283FE",
          "pattern": {
           "shape": ""
          }
         },
         "name": "Caramel Color",
         "offsetgroup": "Caramel Color",
         "orientation": "v",
         "showlegend": true,
         "textposition": "auto",
         "type": "bar",
         "x": [
          "Supreme Noodles Cup Beef Flavour"
         ],
         "xaxis": "x",
         "y": [
          "Caramel Color"
         ],
         "yaxis": "y"
        },
        {
         "alignmentgroup": "True",
         "hovertemplate": " Ingredients=%{y}<br>Product=%{x}<extra></extra>",
         "legendgroup": "Carbonated Mineral Water",
         "marker": {
          "color": "#85660D",
          "pattern": {
           "shape": ""
          }
         },
         "name": "Carbonated Mineral Water",
         "offsetgroup": "Carbonated Mineral Water",
         "orientation": "v",
         "showlegend": true,
         "textposition": "auto",
         "type": "bar",
         "x": [
          "Schweppes Zero Sugar Lime Infused Mineral Water Bottle",
          "Schweppes Raspberry Infused Natural Mineral Water Bottle",
          "Schweppes Lemon Lime Natural Mineral Water Bottle",
          "Schweppes Orange Mango Natural Mineral Water Bottle"
         ],
         "xaxis": "x",
         "y": [
          "Carbonated Mineral Water",
          "Carbonated Mineral Water",
          "Carbonated Mineral Water",
          "Carbonated Mineral Water"
         ],
         "yaxis": "y"
        },
        {
         "alignmentgroup": "True",
         "hovertemplate": " Ingredients=%{y}<br>Product=%{x}<extra></extra>",
         "legendgroup": "Natural Flavours",
         "marker": {
          "color": "#782AB6",
          "pattern": {
           "shape": ""
          }
         },
         "name": "Natural Flavours",
         "offsetgroup": "Natural Flavours",
         "orientation": "v",
         "showlegend": true,
         "textposition": "auto",
         "type": "bar",
         "x": [
          "Schweppes Zero Sugar Lime Infused Mineral Water Bottle",
          "Schweppes Raspberry Infused Natural Mineral Water Bottle",
          "Schweppes Lemon Lime Natural Mineral Water Bottle",
          "Schweppes Orange Mango Natural Mineral Water Bottle",
          "Woolworths Breakfast Juice",
          "Woolworths Multivitamin Juice",
          "Golden Circle Golden Pash Fruit Drink",
          "Golden Circle Drinks Sunshine Punch Fruit Drink",
          "Golden Circle Fruit Drinks Lunch Box Poppers Tropical Punch Multipack",
          "Fountain Barbecue Bbq Sauce Squeeze",
          "Heinz Ketchup Tomato Sauce Ketchup",
          "Smith's Crinkle Cut Potato Chips Salt & Vinegar"
         ],
         "xaxis": "x",
         "y": [
          "Natural Flavours",
          "Natural Flavours",
          "Natural Flavours",
          "Natural Flavours",
          "Natural Flavours",
          "Natural Flavours",
          "Natural Flavours",
          "Natural Flavours",
          "Natural Flavours",
          "Natural Flavours",
          "Natural Flavours",
          "Natural Flavours"
         ],
         "yaxis": "y"
        },
        {
         "alignmentgroup": "True",
         "hovertemplate": " Ingredients=%{y}<br>Product=%{x}<extra></extra>",
         "legendgroup": "Natural Mineral Water",
         "marker": {
          "color": "#565656",
          "pattern": {
           "shape": ""
          }
         },
         "name": "Natural Mineral Water",
         "offsetgroup": "Natural Mineral Water",
         "orientation": "v",
         "showlegend": true,
         "textposition": "auto",
         "type": "bar",
         "x": [
          "Schweppes Natural Mineral Water Bottle Natural"
         ],
         "xaxis": "x",
         "y": [
          "Natural Mineral Water"
         ],
         "yaxis": "y"
        },
        {
         "alignmentgroup": "True",
         "hovertemplate": " Ingredients=%{y}<br>Product=%{x}<extra></extra>",
         "legendgroup": "Potassium Bicarbonate",
         "marker": {
          "color": "#1C8356",
          "pattern": {
           "shape": ""
          }
         },
         "name": "Potassium Bicarbonate",
         "offsetgroup": "Potassium Bicarbonate",
         "orientation": "v",
         "showlegend": true,
         "textposition": "auto",
         "type": "bar",
         "x": [
          "Schweppes Soda Water Bottle Classic Mixers"
         ],
         "xaxis": "x",
         "y": [
          "Potassium Bicarbonate"
         ],
         "yaxis": "y"
        },
        {
         "alignmentgroup": "True",
         "hovertemplate": " Ingredients=%{y}<br>Product=%{x}<extra></extra>",
         "legendgroup": "Natural Flavour Orange Peel Extract",
         "marker": {
          "color": "#16FF32",
          "pattern": {
           "shape": ""
          }
         },
         "name": "Natural Flavour Orange Peel Extract",
         "offsetgroup": "Natural Flavour Orange Peel Extract",
         "orientation": "v",
         "showlegend": true,
         "textposition": "auto",
         "type": "bar",
         "x": [
          "Schweppes Indian Tonic Water Classic Mixers Bottle",
          "Schweppes Zero Sugar Classic Mixers Indian Tonic Water Bottle"
         ],
         "xaxis": "x",
         "y": [
          "Natural Flavour Orange Peel Extract",
          "Natural Flavour Orange Peel Extract"
         ],
         "yaxis": "y"
        },
        {
         "alignmentgroup": "True",
         "hovertemplate": " Ingredients=%{y}<br>Product=%{x}<extra></extra>",
         "legendgroup": "Natural Flavour Citrus Oils",
         "marker": {
          "color": "#F7E1A0",
          "pattern": {
           "shape": ""
          }
         },
         "name": "Natural Flavour Citrus Oils",
         "offsetgroup": "Natural Flavour Citrus Oils",
         "orientation": "v",
         "showlegend": true,
         "textposition": "auto",
         "type": "bar",
         "x": [
          "Schweppes Indian Tonic Water Classic Mixers Bottle",
          "Schweppes Zero Sugar Classic Mixers Indian Tonic Water Bottle"
         ],
         "xaxis": "x",
         "y": [
          "Natural Flavour Citrus Oils",
          "Natural Flavour Citrus Oils"
         ],
         "yaxis": "y"
        },
        {
         "alignmentgroup": "True",
         "hovertemplate": " Ingredients=%{y}<br>Product=%{x}<extra></extra>",
         "legendgroup": "Natural Flavour Botanical Extracts",
         "marker": {
          "color": "#E2E2E2",
          "pattern": {
           "shape": ""
          }
         },
         "name": "Natural Flavour Botanical Extracts",
         "offsetgroup": "Natural Flavour Botanical Extracts",
         "orientation": "v",
         "showlegend": true,
         "textposition": "auto",
         "type": "bar",
         "x": [
          "Schweppes Indian Tonic Water Classic Mixers Bottle",
          "Schweppes Zero Sugar Classic Mixers Indian Tonic Water Bottle"
         ],
         "xaxis": "x",
         "y": [
          "Natural Flavour Botanical Extracts",
          "Natural Flavour Botanical Extracts"
         ],
         "yaxis": "y"
        },
        {
         "alignmentgroup": "True",
         "hovertemplate": " Ingredients=%{y}<br>Product=%{x}<extra></extra>",
         "legendgroup": "Natural Flavour Lemon Peel Extract",
         "marker": {
          "color": "#1CBE4F",
          "pattern": {
           "shape": ""
          }
         },
         "name": "Natural Flavour Lemon Peel Extract",
         "offsetgroup": "Natural Flavour Lemon Peel Extract",
         "orientation": "v",
         "showlegend": true,
         "textposition": "auto",
         "type": "bar",
         "x": [
          "Schweppes Indian Tonic Water Classic Mixers Bottle",
          "Schweppes Zero Sugar Classic Mixers Indian Tonic Water Bottle"
         ],
         "xaxis": "x",
         "y": [
          "Natural Flavour Lemon Peel Extract",
          "Natural Flavour Lemon Peel Extract"
         ],
         "yaxis": "y"
        },
        {
         "alignmentgroup": "True",
         "hovertemplate": " Ingredients=%{y}<br>Product=%{x}<extra></extra>",
         "legendgroup": "Quinine",
         "marker": {
          "color": "#C4451C",
          "pattern": {
           "shape": ""
          }
         },
         "name": "Quinine",
         "offsetgroup": "Quinine",
         "orientation": "v",
         "showlegend": true,
         "textposition": "auto",
         "type": "bar",
         "x": [
          "Schweppes Indian Tonic Water Classic Mixers Bottle",
          "Schweppes Zero Sugar Classic Mixers Indian Tonic Water Bottle"
         ],
         "xaxis": "x",
         "y": [
          "Quinine",
          "Quinine"
         ],
         "yaxis": "y"
        },
        {
         "alignmentgroup": "True",
         "hovertemplate": " Ingredients=%{y}<br>Product=%{x}<extra></extra>",
         "legendgroup": "Natural Flavour Lime Oils",
         "marker": {
          "color": "#DEA0FD",
          "pattern": {
           "shape": ""
          }
         },
         "name": "Natural Flavour Lime Oils",
         "offsetgroup": "Natural Flavour Lime Oils",
         "orientation": "v",
         "showlegend": true,
         "textposition": "auto",
         "type": "bar",
         "x": [
          "Schweppes Lime Soda Water With Lime Juice Bottle"
         ],
         "xaxis": "x",
         "y": [
          "Natural Flavour Lime Oils"
         ],
         "yaxis": "y"
        },
        {
         "alignmentgroup": "True",
         "hovertemplate": " Ingredients=%{y}<br>Product=%{x}<extra></extra>",
         "legendgroup": "Sodium Benzoate",
         "marker": {
          "color": "#FE00FA",
          "pattern": {
           "shape": ""
          }
         },
         "name": "Sodium Benzoate",
         "offsetgroup": "Sodium Benzoate",
         "orientation": "v",
         "showlegend": true,
         "textposition": "auto",
         "type": "bar",
         "x": [
          "Schweppes Lime Soda Water With Lime Juice Bottle",
          "Schweppes Lemon Lime Natural Mineral Water Bottle",
          "Schweppes Orange Mango Natural Mineral Water Bottle"
         ],
         "xaxis": "x",
         "y": [
          "Sodium Benzoate",
          "Sodium Benzoate",
          "Sodium Benzoate"
         ],
         "yaxis": "y"
        },
        {
         "alignmentgroup": "True",
         "hovertemplate": " Ingredients=%{y}<br>Product=%{x}<extra></extra>",
         "legendgroup": "Plant Extract Gardenia",
         "marker": {
          "color": "#325A9B",
          "pattern": {
           "shape": ""
          }
         },
         "name": "Plant Extract Gardenia",
         "offsetgroup": "Plant Extract Gardenia",
         "orientation": "v",
         "showlegend": true,
         "textposition": "auto",
         "type": "bar",
         "x": [
          "Schweppes Lime Soda Water With Lime Juice Bottle"
         ],
         "xaxis": "x",
         "y": [
          "Plant Extract Gardenia"
         ],
         "yaxis": "y"
        },
        {
         "alignmentgroup": "True",
         "hovertemplate": " Ingredients=%{y}<br>Product=%{x}<extra></extra>",
         "legendgroup": "Plant Extract Carthamus",
         "marker": {
          "color": "#FEAF16",
          "pattern": {
           "shape": ""
          }
         },
         "name": "Plant Extract Carthamus",
         "offsetgroup": "Plant Extract Carthamus",
         "orientation": "v",
         "showlegend": true,
         "textposition": "auto",
         "type": "bar",
         "x": [
          "Schweppes Lime Soda Water With Lime Juice Bottle"
         ],
         "xaxis": "x",
         "y": [
          "Plant Extract Carthamus"
         ],
         "yaxis": "y"
        },
        {
         "alignmentgroup": "True",
         "hovertemplate": " Ingredients=%{y}<br>Product=%{x}<extra></extra>",
         "legendgroup": "Sulphites",
         "marker": {
          "color": "#F8A19F",
          "pattern": {
           "shape": ""
          }
         },
         "name": "Sulphites",
         "offsetgroup": "Sulphites",
         "orientation": "v",
         "showlegend": true,
         "textposition": "auto",
         "type": "bar",
         "x": [
          "Schweppes Lime Soda Water With Lime Juice Bottle",
          "Schweppes Orange Mango Natural Mineral Water Bottle"
         ],
         "xaxis": "x",
         "y": [
          "Sulphites",
          "Sulphites"
         ],
         "yaxis": "y"
        },
        {
         "alignmentgroup": "True",
         "hovertemplate": " Ingredients=%{y}<br>Product=%{x}<extra></extra>",
         "legendgroup": "Reconstituted Lime Juice",
         "marker": {
          "color": "#90AD1C",
          "pattern": {
           "shape": ""
          }
         },
         "name": "Reconstituted Lime Juice",
         "offsetgroup": "Reconstituted Lime Juice",
         "orientation": "v",
         "showlegend": true,
         "textposition": "auto",
         "type": "bar",
         "x": [
          "Schweppes Lime Soda Water With Lime Juice Bottle",
          "Schweppes Lemon Lime Natural Mineral Water Bottle"
         ],
         "xaxis": "x",
         "y": [
          "Reconstituted Lime Juice",
          "Reconstituted Lime Juice"
         ],
         "yaxis": "y"
        },
        {
         "alignmentgroup": "True",
         "hovertemplate": " Ingredients=%{y}<br>Product=%{x}<extra></extra>",
         "legendgroup": "",
         "marker": {
          "color": "#F6222E",
          "pattern": {
           "shape": ""
          }
         },
         "name": "",
         "offsetgroup": "",
         "orientation": "v",
         "showlegend": false,
         "textposition": "auto",
         "type": "bar",
         "x": [
          "Schweppes Lemon Lime Natural Mineral Water Bottle",
          "Schweppes Orange Mango Natural Mineral Water Bottle",
          "Rimmel Scandaleyes Eye Definer Brown",
          "Rimmel Scandaleyes Eye Definer Brown",
          "Rimmel Scandaleyes Eye Definer Brown",
          "Rimmel Scandaleyes Eye Definer Brown"
         ],
         "xaxis": "x",
         "y": [
          "",
          "",
          "",
          "",
          "",
          ""
         ],
         "yaxis": "y"
        },
        {
         "alignmentgroup": "True",
         "hovertemplate": " Ingredients=%{y}<br>Product=%{x}<extra></extra>",
         "legendgroup": "Potassium Sorbate",
         "marker": {
          "color": "#1CFFCE",
          "pattern": {
           "shape": ""
          }
         },
         "name": "Potassium Sorbate",
         "offsetgroup": "Potassium Sorbate",
         "orientation": "v",
         "showlegend": true,
         "textposition": "auto",
         "type": "bar",
         "x": [
          "Schweppes Lemon Lime Natural Mineral Water Bottle",
          "Schweppes Orange Mango Natural Mineral Water Bottle",
          "Woolworths Secret Burger Sauce"
         ],
         "xaxis": "x",
         "y": [
          "Potassium Sorbate",
          "Potassium Sorbate",
          "Potassium Sorbate"
         ],
         "yaxis": "y"
        },
        {
         "alignmentgroup": "True",
         "hovertemplate": " Ingredients=%{y}<br>Product=%{x}<extra></extra>",
         "legendgroup": "Safflower Extract",
         "marker": {
          "color": "#2ED9FF",
          "pattern": {
           "shape": ""
          }
         },
         "name": "Safflower Extract",
         "offsetgroup": "Safflower Extract",
         "orientation": "v",
         "showlegend": true,
         "textposition": "auto",
         "type": "bar",
         "x": [
          "Schweppes Lemon Lime Natural Mineral Water Bottle"
         ],
         "xaxis": "x",
         "y": [
          "Safflower Extract"
         ],
         "yaxis": "y"
        },
        {
         "alignmentgroup": "True",
         "hovertemplate": " Ingredients=%{y}<br>Product=%{x}<extra></extra>",
         "legendgroup": "Reconstituted Lemon Juice",
         "marker": {
          "color": "#B10DA1",
          "pattern": {
           "shape": ""
          }
         },
         "name": "Reconstituted Lemon Juice",
         "offsetgroup": "Reconstituted Lemon Juice",
         "orientation": "v",
         "showlegend": true,
         "textposition": "auto",
         "type": "bar",
         "x": [
          "Schweppes Lemon Lime Natural Mineral Water Bottle",
          "Woolworths Multivitamin Juice"
         ],
         "xaxis": "x",
         "y": [
          "Reconstituted Lemon Juice",
          "Reconstituted Lemon Juice"
         ],
         "yaxis": "y"
        },
        {
         "alignmentgroup": "True",
         "hovertemplate": " Ingredients=%{y}<br>Product=%{x}<extra></extra>",
         "legendgroup": "Ascorbic Acid",
         "marker": {
          "color": "#C075A6",
          "pattern": {
           "shape": ""
          }
         },
         "name": "Ascorbic Acid",
         "offsetgroup": "Ascorbic Acid",
         "orientation": "v",
         "showlegend": true,
         "textposition": "auto",
         "type": "bar",
         "x": [
          "Schweppes Orange Mango Natural Mineral Water Bottle",
          "Smith's Crinkle Cut Potato Chips Original",
          "Smith's Crinkle Cut Potato Chips Chicken",
          "Smith's Thinly Cut Potato Chips Original Share Pack",
          "Smith's Crinkle Cut Potato Chips Salt & Vinegar",
          "Woolworths Peach In Strawberry Jelly",
          "Woolworths Two Fruits In Juice Cups",
          "Woolworths Two Fruits In Juice",
          "Woolworths Two Fruits In Juice",
          "Woolworths Two Fruits In Tropical Jelly",
          "Woolworths Apple In Pineapple Jelly",
          "Goulburn Valley Two Fruits In Juice",
          "Goulburn Valley Two Fruits In Juice Fruit Cups In Juice"
         ],
         "xaxis": "x",
         "y": [
          "Ascorbic Acid",
          "Ascorbic Acid",
          "Ascorbic Acid",
          "Ascorbic Acid",
          "Ascorbic Acid",
          "Ascorbic Acid",
          "Ascorbic Acid",
          "Ascorbic Acid",
          "Ascorbic Acid",
          "Ascorbic Acid",
          "Ascorbic Acid",
          "Ascorbic Acid",
          "Ascorbic Acid"
         ],
         "yaxis": "y"
        },
        {
         "alignmentgroup": "True",
         "hovertemplate": " Ingredients=%{y}<br>Product=%{x}<extra></extra>",
         "legendgroup": "Carminic Acid",
         "marker": {
          "color": "#FC1CBF",
          "pattern": {
           "shape": ""
          }
         },
         "name": "Carminic Acid",
         "offsetgroup": "Carminic Acid",
         "orientation": "v",
         "showlegend": true,
         "textposition": "auto",
         "type": "bar",
         "x": [
          "Schweppes Orange Mango Natural Mineral Water Bottle"
         ],
         "xaxis": "x",
         "y": [
          "Carminic Acid"
         ],
         "yaxis": "y"
        },
        {
         "alignmentgroup": "True",
         "hovertemplate": " Ingredients=%{y}<br>Product=%{x}<extra></extra>",
         "legendgroup": "Lutein",
         "marker": {
          "color": "#B00068",
          "pattern": {
           "shape": ""
          }
         },
         "name": "Lutein",
         "offsetgroup": "Lutein",
         "orientation": "v",
         "showlegend": true,
         "textposition": "auto",
         "type": "bar",
         "x": [
          "Schweppes Orange Mango Natural Mineral Water Bottle"
         ],
         "xaxis": "x",
         "y": [
          "Lutein"
         ],
         "yaxis": "y"
        },
        {
         "alignmentgroup": "True",
         "hovertemplate": " Ingredients=%{y}<br>Product=%{x}<extra></extra>",
         "legendgroup": "Antioxidant 385",
         "marker": {
          "color": "#FBE426",
          "pattern": {
           "shape": ""
          }
         },
         "name": "Antioxidant 385",
         "offsetgroup": "Antioxidant 385",
         "orientation": "v",
         "showlegend": true,
         "textposition": "auto",
         "type": "bar",
         "x": [
          "Schweppes Orange Mango Natural Mineral Water Bottle"
         ],
         "xaxis": "x",
         "y": [
          "Antioxidant 385"
         ],
         "yaxis": "y"
        },
        {
         "alignmentgroup": "True",
         "hovertemplate": " Ingredients=%{y}<br>Product=%{x}<extra></extra>",
         "legendgroup": "Reconstituted Mango Juice",
         "marker": {
          "color": "#FA0087",
          "pattern": {
           "shape": ""
          }
         },
         "name": "Reconstituted Mango Juice",
         "offsetgroup": "Reconstituted Mango Juice",
         "orientation": "v",
         "showlegend": true,
         "textposition": "auto",
         "type": "bar",
         "x": [
          "Schweppes Orange Mango Natural Mineral Water Bottle",
          "Woolworths Apple & Mango Juice",
          "Woolworths Breakfast Juice",
          "Woolworths Multivitamin Juice"
         ],
         "xaxis": "x",
         "y": [
          "Reconstituted Mango Juice",
          "Reconstituted Mango Juice",
          "Reconstituted Mango Juice",
          "Reconstituted Mango Juice"
         ],
         "yaxis": "y"
        },
        {
         "alignmentgroup": "True",
         "hovertemplate": " Ingredients=%{y}<br>Product=%{x}<extra></extra>",
         "legendgroup": "Reconstituted Fruit Juice Orange",
         "marker": {
          "color": "rgb(27,158,119)",
          "pattern": {
           "shape": ""
          }
         },
         "name": "Reconstituted Fruit Juice Orange",
         "offsetgroup": "Reconstituted Fruit Juice Orange",
         "orientation": "v",
         "showlegend": true,
         "textposition": "auto",
         "type": "bar",
         "x": [
          "Schweppes Orange Mango Natural Mineral Water Bottle",
          "Woolworths Orange Juice",
          "Woolworths Breakfast Juice",
          "Woolworths Multivitamin Juice",
          "Golden Circle Drinks Pine Orange Fruit Drink",
          "Golden Circle Drinks Sunshine Punch Fruit Drink",
          "Golden Circle Fruit Drinks Lunch Box Poppers Tropical Punch Multipack"
         ],
         "xaxis": "x",
         "y": [
          "Reconstituted Fruit Juice Orange",
          "Reconstituted Fruit Juice Orange",
          "Reconstituted Fruit Juice Orange",
          "Reconstituted Fruit Juice Orange",
          "Reconstituted Fruit Juice Orange",
          "Reconstituted Fruit Juice Orange",
          "Reconstituted Fruit Juice Orange"
         ],
         "yaxis": "y"
        },
        {
         "alignmentgroup": "True",
         "hovertemplate": " Ingredients=%{y}<br>Product=%{x}<extra></extra>",
         "legendgroup": "Milk Solids",
         "marker": {
          "color": "rgb(217,95,2)",
          "pattern": {
           "shape": ""
          }
         },
         "name": "Milk Solids",
         "offsetgroup": "Milk Solids",
         "orientation": "v",
         "showlegend": true,
         "textposition": "auto",
         "type": "bar",
         "x": [
          "Kitkat 4 Finger Milk Chocolate Bar",
          "Kitkat Chunky Original Chocolate Bar",
          "Cadbury Dairy Milk Caramello Koala Chocolate",
          "Mars Chocolate Bar With Nougat & Caramel",
          "Cadbury Dairy Milk Chocolate Roll",
          "Cadbury Dairy Milk Chocolate Bar",
          "Cadbury Twirl Chocolate Bar",
          "Cadbury Chomp Chocolate Bar",
          "Arnott's Premier Chocolate Chip Cookies",
          "Cadbury Classic Choc Chip Cookies",
          "Cadbury Choc Centre Cookies",
          "Byron Bay Cookies Dotty Cookie Bites"
         ],
         "xaxis": "x",
         "y": [
          "Milk Solids",
          "Milk Solids",
          "Milk Solids",
          "Milk Solids",
          "Milk Solids",
          "Milk Solids",
          "Milk Solids",
          "Milk Solids",
          "Milk Solids",
          "Milk Solids",
          "Milk Solids",
          "Milk Solids"
         ],
         "yaxis": "y"
        },
        {
         "alignmentgroup": "True",
         "hovertemplate": " Ingredients=%{y}<br>Product=%{x}<extra></extra>",
         "legendgroup": "Cocoa Butter",
         "marker": {
          "color": "rgb(117,112,179)",
          "pattern": {
           "shape": ""
          }
         },
         "name": "Cocoa Butter",
         "offsetgroup": "Cocoa Butter",
         "orientation": "v",
         "showlegend": true,
         "textposition": "auto",
         "type": "bar",
         "x": [
          "Kitkat 4 Finger Milk Chocolate Bar",
          "Kitkat Chunky Original Chocolate Bar",
          "Cadbury Dairy Milk Caramello Koala Chocolate",
          "Mars Chocolate Bar With Nougat & Caramel",
          "Cadbury Dairy Milk Chocolate Roll",
          "Cadbury Dairy Milk Chocolate Bar",
          "Cadbury Twirl Chocolate Bar",
          "Arnott's Premier Chocolate Chip Cookies",
          "Woolworths The King Of Chunky Chocolate Chip Cookies",
          "Arnott's Mini Choc Chip Cookie Multipack Biscuits",
          "Cadbury Classic Choc Chip Cookies",
          "Cadbury Choc Centre Cookies"
         ],
         "xaxis": "x",
         "y": [
          "Cocoa Butter",
          "Cocoa Butter",
          "Cocoa Butter",
          "Cocoa Butter",
          "Cocoa Butter",
          "Cocoa Butter",
          "Cocoa Butter",
          "Cocoa Butter",
          "Cocoa Butter",
          "Cocoa Butter",
          "Cocoa Butter",
          "Cocoa Butter"
         ],
         "yaxis": "y"
        },
        {
         "alignmentgroup": "True",
         "hovertemplate": " Ingredients=%{y}<br>Product=%{x}<extra></extra>",
         "legendgroup": "Emulsifier Soy Lecithin",
         "marker": {
          "color": "rgb(231,41,138)",
          "pattern": {
           "shape": ""
          }
         },
         "name": "Emulsifier Soy Lecithin",
         "offsetgroup": "Emulsifier Soy Lecithin",
         "orientation": "v",
         "showlegend": true,
         "textposition": "auto",
         "type": "bar",
         "x": [
          "Kitkat 4 Finger Milk Chocolate Bar",
          "Kitkat Chunky Original Chocolate Bar",
          "Cadbury Dairy Milk Caramello Koala Chocolate",
          "Mars Chocolate Bar With Nougat & Caramel",
          "Cadbury Dairy Milk Chocolate Roll",
          "Cadbury Dairy Milk Chocolate Bar",
          "Cadbury Twirl Chocolate Bar",
          "Cadbury Chomp Chocolate Bar",
          "Arnott's Premier Chocolate Chip Cookies",
          "Woolworths Chocolate Chip Cookies",
          "Woolworths The King Of Chunky Chocolate Chip Cookies",
          "Arnott's Mini Choc Chip Cookie Multipack Biscuits",
          "Oreo Original Mini Cookies Multipack",
          "Oreo Minis Cookies Variety Bags 18 Pack",
          "Cadbury Choc Centre Cookies",
          "Byron Bay Cookies Dotty Cookie Bites",
          "Oreo Original Cookies",
          "Oreo Double Stuff Cookies",
          "Oreo Original Cookies Family Pack",
          "Oreo Chocolate Cookies",
          "Oreo Grab & Go Original Cookies 9 Pack",
          "Oreo Neapolitan Double Stuff Cookies"
         ],
         "xaxis": "x",
         "y": [
          "Emulsifier Soy Lecithin",
          "Emulsifier Soy Lecithin",
          "Emulsifier Soy Lecithin",
          "Emulsifier Soy Lecithin",
          "Emulsifier Soy Lecithin",
          "Emulsifier Soy Lecithin",
          "Emulsifier Soy Lecithin",
          "Emulsifier Soy Lecithin",
          "Emulsifier Soy Lecithin",
          "Emulsifier Soy Lecithin",
          "Emulsifier Soy Lecithin",
          "Emulsifier Soy Lecithin",
          "Emulsifier Soy Lecithin",
          "Emulsifier Soy Lecithin",
          "Emulsifier Soy Lecithin",
          "Emulsifier Soy Lecithin",
          "Emulsifier Soy Lecithin",
          "Emulsifier Soy Lecithin",
          "Emulsifier Soy Lecithin",
          "Emulsifier Soy Lecithin",
          "Emulsifier Soy Lecithin",
          "Emulsifier Soy Lecithin"
         ],
         "yaxis": "y"
        },
        {
         "alignmentgroup": "True",
         "hovertemplate": " Ingredients=%{y}<br>Product=%{x}<extra></extra>",
         "legendgroup": "Cocoa Mass",
         "marker": {
          "color": "rgb(102,166,30)",
          "pattern": {
           "shape": ""
          }
         },
         "name": "Cocoa Mass",
         "offsetgroup": "Cocoa Mass",
         "orientation": "v",
         "showlegend": true,
         "textposition": "auto",
         "type": "bar",
         "x": [
          "Kitkat 4 Finger Milk Chocolate Bar",
          "Kitkat Chunky Original Chocolate Bar",
          "Cadbury Dairy Milk Caramello Koala Chocolate",
          "Mars Chocolate Bar With Nougat & Caramel",
          "Cadbury Dairy Milk Chocolate Roll",
          "Cadbury Dairy Milk Chocolate Bar",
          "Cadbury Twirl Chocolate Bar",
          "Arnott's Premier Chocolate Chip Cookies",
          "Woolworths The King Of Chunky Chocolate Chip Cookies",
          "Arnott's Mini Choc Chip Cookie Multipack Biscuits",
          "Cadbury Classic Choc Chip Cookies",
          "Cadbury Choc Centre Cookies"
         ],
         "xaxis": "x",
         "y": [
          "Cocoa Mass",
          "Cocoa Mass",
          "Cocoa Mass",
          "Cocoa Mass",
          "Cocoa Mass",
          "Cocoa Mass",
          "Cocoa Mass",
          "Cocoa Mass",
          "Cocoa Mass",
          "Cocoa Mass",
          "Cocoa Mass",
          "Cocoa Mass"
         ],
         "yaxis": "y"
        },
        {
         "alignmentgroup": "True",
         "hovertemplate": " Ingredients=%{y}<br>Product=%{x}<extra></extra>",
         "legendgroup": "Milk",
         "marker": {
          "color": "rgb(230,171,2)",
          "pattern": {
           "shape": ""
          }
         },
         "name": "Milk",
         "offsetgroup": "Milk",
         "orientation": "v",
         "showlegend": true,
         "textposition": "auto",
         "type": "bar",
         "x": [
          "Kitkat 4 Finger Milk Chocolate Bar",
          "Kitkat Chunky Original Chocolate Bar",
          "Woolworths Chocolate Chip Cookies",
          "Dairy Farmers Full Cream Milk Full Cream Milk",
          "Dairy Farmers Full Cream Milk Full Cream Milk",
          "A2 Milk Full Cream Milk",
          "A2 Milk Full Cream Milk",
          "Woolworths Creamed Rice"
         ],
         "xaxis": "x",
         "y": [
          "Milk",
          "Milk",
          "Milk",
          "Milk",
          "Milk",
          "Milk",
          "Milk",
          "Milk"
         ],
         "yaxis": "y"
        },
        {
         "alignmentgroup": "True",
         "hovertemplate": " Ingredients=%{y}<br>Product=%{x}<extra></extra>",
         "legendgroup": "Polyglycerol Polyricinoleate",
         "marker": {
          "color": "rgb(166,118,29)",
          "pattern": {
           "shape": ""
          }
         },
         "name": "Polyglycerol Polyricinoleate",
         "offsetgroup": "Polyglycerol Polyricinoleate",
         "orientation": "v",
         "showlegend": true,
         "textposition": "auto",
         "type": "bar",
         "x": [
          "Kitkat 4 Finger Milk Chocolate Bar",
          "Kitkat Chunky Original Chocolate Bar",
          "Cadbury Dairy Milk Caramello Koala Chocolate",
          "Cadbury Dairy Milk Chocolate Roll",
          "Cadbury Dairy Milk Chocolate Bar",
          "Cadbury Twirl Chocolate Bar",
          "Cadbury Chomp Chocolate Bar",
          "Byron Bay Cookies Dotty Cookie Bites"
         ],
         "xaxis": "x",
         "y": [
          "Polyglycerol Polyricinoleate",
          "Polyglycerol Polyricinoleate",
          "Polyglycerol Polyricinoleate",
          "Polyglycerol Polyricinoleate",
          "Polyglycerol Polyricinoleate",
          "Polyglycerol Polyricinoleate",
          "Polyglycerol Polyricinoleate",
          "Polyglycerol Polyricinoleate"
         ],
         "yaxis": "y"
        },
        {
         "alignmentgroup": "True",
         "hovertemplate": " Ingredients=%{y}<br>Product=%{x}<extra></extra>",
         "legendgroup": "Cocoa",
         "marker": {
          "color": "rgb(102,102,102)",
          "pattern": {
           "shape": ""
          }
         },
         "name": "Cocoa",
         "offsetgroup": "Cocoa",
         "orientation": "v",
         "showlegend": true,
         "textposition": "auto",
         "type": "bar",
         "x": [
          "Kitkat 4 Finger Milk Chocolate Bar",
          "Kitkat Chunky Original Chocolate Bar"
         ],
         "xaxis": "x",
         "y": [
          "Cocoa",
          "Cocoa"
         ],
         "yaxis": "y"
        },
        {
         "alignmentgroup": "True",
         "hovertemplate": " Ingredients=%{y}<br>Product=%{x}<extra></extra>",
         "legendgroup": "Yeast",
         "marker": {
          "color": "rgb(228,26,28)",
          "pattern": {
           "shape": ""
          }
         },
         "name": "Yeast",
         "offsetgroup": "Yeast",
         "orientation": "v",
         "showlegend": true,
         "textposition": "auto",
         "type": "bar",
         "x": [
          "Kitkat 4 Finger Milk Chocolate Bar",
          "Kitkat Chunky Original Chocolate Bar",
          "Thins Cheese & Onion Chips"
         ],
         "xaxis": "x",
         "y": [
          "Yeast",
          "Yeast",
          "Yeast"
         ],
         "yaxis": "y"
        },
        {
         "alignmentgroup": "True",
         "hovertemplate": " Ingredients=%{y}<br>Product=%{x}<extra></extra>",
         "legendgroup": "Processing Aid Wheat",
         "marker": {
          "color": "rgb(55,126,184)",
          "pattern": {
           "shape": ""
          }
         },
         "name": "Processing Aid Wheat",
         "offsetgroup": "Processing Aid Wheat",
         "orientation": "v",
         "showlegend": true,
         "textposition": "auto",
         "type": "bar",
         "x": [
          "Kitkat 4 Finger Milk Chocolate Bar"
         ],
         "xaxis": "x",
         "y": [
          "Processing Aid Wheat"
         ],
         "yaxis": "y"
        },
        {
         "alignmentgroup": "True",
         "hovertemplate": " Ingredients=%{y}<br>Product=%{x}<extra></extra>",
         "legendgroup": "Choc Paste",
         "marker": {
          "color": "rgb(77,175,74)",
          "pattern": {
           "shape": ""
          }
         },
         "name": "Choc Paste",
         "offsetgroup": "Choc Paste",
         "orientation": "v",
         "showlegend": true,
         "textposition": "auto",
         "type": "bar",
         "x": [
          "Kitkat Chunky Original Chocolate Bar"
         ],
         "xaxis": "x",
         "y": [
          "Choc Paste"
         ],
         "yaxis": "y"
        },
        {
         "alignmentgroup": "True",
         "hovertemplate": " Ingredients=%{y}<br>Product=%{x}<extra></extra>",
         "legendgroup": "Full Cream Milk",
         "marker": {
          "color": "rgb(152,78,163)",
          "pattern": {
           "shape": ""
          }
         },
         "name": "Full Cream Milk",
         "offsetgroup": "Full Cream Milk",
         "orientation": "v",
         "showlegend": true,
         "textposition": "auto",
         "type": "bar",
         "x": [
          "Cadbury Dairy Milk Caramello Koala Chocolate",
          "Cadbury Dairy Milk Chocolate Roll",
          "Cadbury Dairy Milk Chocolate Bar",
          "Cadbury Twirl Chocolate Bar",
          "Woolworths Full Cream Milk",
          "Woolworths Full Cream Milk",
          "Pauls Farmhouse Gold Full Cream Milk"
         ],
         "xaxis": "x",
         "y": [
          "Full Cream Milk",
          "Full Cream Milk",
          "Full Cream Milk",
          "Full Cream Milk",
          "Full Cream Milk",
          "Full Cream Milk",
          "Full Cream Milk"
         ],
         "yaxis": "y"
        },
        {
         "alignmentgroup": "True",
         "hovertemplate": " Ingredients=%{y}<br>Product=%{x}<extra></extra>",
         "legendgroup": "Glucose Syrup",
         "marker": {
          "color": "rgb(255,127,0)",
          "pattern": {
           "shape": ""
          }
         },
         "name": "Glucose Syrup",
         "offsetgroup": "Glucose Syrup",
         "orientation": "v",
         "showlegend": true,
         "textposition": "auto",
         "type": "bar",
         "x": [
          "Cadbury Dairy Milk Caramello Koala Chocolate",
          "Cadbury Classic Choc Chip Cookies",
          "Masterfoods Barbecue Sauce"
         ],
         "xaxis": "x",
         "y": [
          "Glucose Syrup",
          "Glucose Syrup",
          "Glucose Syrup"
         ],
         "yaxis": "y"
        },
        {
         "alignmentgroup": "True",
         "hovertemplate": " Ingredients=%{y}<br>Product=%{x}<extra></extra>",
         "legendgroup": "Sweetened Condensed Milk",
         "marker": {
          "color": "rgb(255,255,51)",
          "pattern": {
           "shape": ""
          }
         },
         "name": "Sweetened Condensed Milk",
         "offsetgroup": "Sweetened Condensed Milk",
         "orientation": "v",
         "showlegend": true,
         "textposition": "auto",
         "type": "bar",
         "x": [
          "Cadbury Dairy Milk Caramello Koala Chocolate",
          "Cadbury Chomp Chocolate Bar"
         ],
         "xaxis": "x",
         "y": [
          "Sweetened Condensed Milk",
          "Sweetened Condensed Milk"
         ],
         "yaxis": "y"
        },
        {
         "alignmentgroup": "True",
         "hovertemplate": " Ingredients=%{y}<br>Product=%{x}<extra></extra>",
         "legendgroup": "Golden Syrup",
         "marker": {
          "color": "rgb(166,86,40)",
          "pattern": {
           "shape": ""
          }
         },
         "name": "Golden Syrup",
         "offsetgroup": "Golden Syrup",
         "orientation": "v",
         "showlegend": true,
         "textposition": "auto",
         "type": "bar",
         "x": [
          "Cadbury Dairy Milk Caramello Koala Chocolate"
         ],
         "xaxis": "x",
         "y": [
          "Golden Syrup"
         ],
         "yaxis": "y"
        },
        {
         "alignmentgroup": "True",
         "hovertemplate": " Ingredients=%{y}<br>Product=%{x}<extra></extra>",
         "legendgroup": "Invert Sugar",
         "marker": {
          "color": "rgb(247,129,191)",
          "pattern": {
           "shape": ""
          }
         },
         "name": "Invert Sugar",
         "offsetgroup": "Invert Sugar",
         "orientation": "v",
         "showlegend": true,
         "textposition": "auto",
         "type": "bar",
         "x": [
          "Cadbury Dairy Milk Caramello Koala Chocolate"
         ],
         "xaxis": "x",
         "y": [
          "Invert Sugar"
         ],
         "yaxis": "y"
        },
        {
         "alignmentgroup": "True",
         "hovertemplate": " Ingredients=%{y}<br>Product=%{x}<extra></extra>",
         "legendgroup": "Acidity Regulator 331",
         "marker": {
          "color": "rgb(153,153,153)",
          "pattern": {
           "shape": ""
          }
         },
         "name": "Acidity Regulator 331",
         "offsetgroup": "Acidity Regulator 331",
         "orientation": "v",
         "showlegend": true,
         "textposition": "auto",
         "type": "bar",
         "x": [
          "Cadbury Dairy Milk Caramello Koala Chocolate"
         ],
         "xaxis": "x",
         "y": [
          "Acidity Regulator 331"
         ],
         "yaxis": "y"
        },
        {
         "alignmentgroup": "True",
         "hovertemplate": " Ingredients=%{y}<br>Product=%{x}<extra></extra>",
         "legendgroup": "Milk Chocolate",
         "marker": {
          "color": "#AA0DFE",
          "pattern": {
           "shape": ""
          }
         },
         "name": "Milk Chocolate",
         "offsetgroup": "Milk Chocolate",
         "orientation": "v",
         "showlegend": true,
         "textposition": "auto",
         "type": "bar",
         "x": [
          "Twix Milk Chocolate Bar With Caramel Biscuit"
         ],
         "xaxis": "x",
         "y": [
          "Milk Chocolate"
         ],
         "yaxis": "y"
        },
        {
         "alignmentgroup": "True",
         "hovertemplate": " Ingredients=%{y}<br>Product=%{x}<extra></extra>",
         "legendgroup": "Caramel",
         "marker": {
          "color": "#3283FE",
          "pattern": {
           "shape": ""
          }
         },
         "name": "Caramel",
         "offsetgroup": "Caramel",
         "orientation": "v",
         "showlegend": true,
         "textposition": "auto",
         "type": "bar",
         "x": [
          "Twix Milk Chocolate Bar With Caramel Biscuit"
         ],
         "xaxis": "x",
         "y": [
          "Caramel"
         ],
         "yaxis": "y"
        },
        {
         "alignmentgroup": "True",
         "hovertemplate": " Ingredients=%{y}<br>Product=%{x}<extra></extra>",
         "legendgroup": "Biscuit",
         "marker": {
          "color": "#85660D",
          "pattern": {
           "shape": ""
          }
         },
         "name": "Biscuit",
         "offsetgroup": "Biscuit",
         "orientation": "v",
         "showlegend": true,
         "textposition": "auto",
         "type": "bar",
         "x": [
          "Twix Milk Chocolate Bar With Caramel Biscuit"
         ],
         "xaxis": "x",
         "y": [
          "Biscuit"
         ],
         "yaxis": "y"
        },
        {
         "alignmentgroup": "True",
         "hovertemplate": " Ingredients=%{y}<br>Product=%{x}<extra></extra>",
         "legendgroup": "Wheat Glucose Syrup",
         "marker": {
          "color": "#782AB6",
          "pattern": {
           "shape": ""
          }
         },
         "name": "Wheat Glucose Syrup",
         "offsetgroup": "Wheat Glucose Syrup",
         "orientation": "v",
         "showlegend": true,
         "textposition": "auto",
         "type": "bar",
         "x": [
          "Mars Chocolate Bar With Nougat & Caramel",
          "Cadbury Chomp Chocolate Bar"
         ],
         "xaxis": "x",
         "y": [
          "Wheat Glucose Syrup",
          "Wheat Glucose Syrup"
         ],
         "yaxis": "y"
        },
        {
         "alignmentgroup": "True",
         "hovertemplate": " Ingredients=%{y}<br>Product=%{x}<extra></extra>",
         "legendgroup": "Barley Malt Extract",
         "marker": {
          "color": "#565656",
          "pattern": {
           "shape": ""
          }
         },
         "name": "Barley Malt Extract",
         "offsetgroup": "Barley Malt Extract",
         "orientation": "v",
         "showlegend": true,
         "textposition": "auto",
         "type": "bar",
         "x": [
          "Mars Chocolate Bar With Nougat & Caramel"
         ],
         "xaxis": "x",
         "y": [
          "Barley Malt Extract"
         ],
         "yaxis": "y"
        },
        {
         "alignmentgroup": "True",
         "hovertemplate": " Ingredients=%{y}<br>Product=%{x}<extra></extra>",
         "legendgroup": "Egg White",
         "marker": {
          "color": "#1C8356",
          "pattern": {
           "shape": ""
          }
         },
         "name": "Egg White",
         "offsetgroup": "Egg White",
         "orientation": "v",
         "showlegend": true,
         "textposition": "auto",
         "type": "bar",
         "x": [
          "Mars Chocolate Bar With Nougat & Caramel"
         ],
         "xaxis": "x",
         "y": [
          "Egg White"
         ],
         "yaxis": "y"
        },
        {
         "alignmentgroup": "True",
         "hovertemplate": " Ingredients=%{y}<br>Product=%{x}<extra></extra>",
         "legendgroup": "Natural Flavour Vanilla Extract",
         "marker": {
          "color": "#16FF32",
          "pattern": {
           "shape": ""
          }
         },
         "name": "Natural Flavour Vanilla Extract",
         "offsetgroup": "Natural Flavour Vanilla Extract",
         "orientation": "v",
         "showlegend": true,
         "textposition": "auto",
         "type": "bar",
         "x": [
          "Mars Chocolate Bar With Nougat & Caramel"
         ],
         "xaxis": "x",
         "y": [
          "Natural Flavour Vanilla Extract"
         ],
         "yaxis": "y"
        },
        {
         "alignmentgroup": "True",
         "hovertemplate": " Ingredients=%{y}<br>Product=%{x}<extra></extra>",
         "legendgroup": "Cocoa Powder",
         "marker": {
          "color": "#F7E1A0",
          "pattern": {
           "shape": ""
          }
         },
         "name": "Cocoa Powder",
         "offsetgroup": "Cocoa Powder",
         "orientation": "v",
         "showlegend": true,
         "textposition": "auto",
         "type": "bar",
         "x": [
          "Cadbury Chomp Chocolate Bar",
          "Oreo Original Mini Cookies Multipack",
          "Oreo Minis Cookies Variety Bags 18 Pack",
          "Cadbury Choc Centre Cookies",
          "Byron Bay Cookies Dotty Cookie Bites",
          "Oreo Original Cookies",
          "Oreo Double Stuff Cookies",
          "Oreo Original Cookies Family Pack",
          "Oreo Chocolate Cookies",
          "Oreo Grab & Go Original Cookies 9 Pack",
          "Oreo Neapolitan Double Stuff Cookies"
         ],
         "xaxis": "x",
         "y": [
          "Cocoa Powder",
          "Cocoa Powder",
          "Cocoa Powder",
          "Cocoa Powder",
          "Cocoa Powder",
          "Cocoa Powder",
          "Cocoa Powder",
          "Cocoa Powder",
          "Cocoa Powder",
          "Cocoa Powder",
          "Cocoa Powder"
         ],
         "yaxis": "y"
        },
        {
         "alignmentgroup": "True",
         "hovertemplate": " Ingredients=%{y}<br>Product=%{x}<extra></extra>",
         "legendgroup": "Sorbitan Tristearate",
         "marker": {
          "color": "#E2E2E2",
          "pattern": {
           "shape": ""
          }
         },
         "name": "Sorbitan Tristearate",
         "offsetgroup": "Sorbitan Tristearate",
         "orientation": "v",
         "showlegend": true,
         "textposition": "auto",
         "type": "bar",
         "x": [
          "Cadbury Chomp Chocolate Bar",
          "Byron Bay Cookies Dotty Cookie Bites"
         ],
         "xaxis": "x",
         "y": [
          "Sorbitan Tristearate",
          "Sorbitan Tristearate"
         ],
         "yaxis": "y"
        },
        {
         "alignmentgroup": "True",
         "hovertemplate": " Ingredients=%{y}<br>Product=%{x}<extra></extra>",
         "legendgroup": "Emulsifier 471",
         "marker": {
          "color": "#1CBE4F",
          "pattern": {
           "shape": ""
          }
         },
         "name": "Emulsifier 471",
         "offsetgroup": "Emulsifier 471",
         "orientation": "v",
         "showlegend": true,
         "textposition": "auto",
         "type": "bar",
         "x": [
          "Cadbury Chomp Chocolate Bar"
         ],
         "xaxis": "x",
         "y": [
          "Emulsifier 471"
         ],
         "yaxis": "y"
        },
        {
         "alignmentgroup": "True",
         "hovertemplate": " Ingredients=%{y}<br>Product=%{x}<extra></extra>",
         "legendgroup": "Enzymes",
         "marker": {
          "color": "#C4451C",
          "pattern": {
           "shape": ""
          }
         },
         "name": "Enzymes",
         "offsetgroup": "Enzymes",
         "orientation": "v",
         "showlegend": true,
         "textposition": "auto",
         "type": "bar",
         "x": [
          "Cadbury Chomp Chocolate Bar"
         ],
         "xaxis": "x",
         "y": [
          "Enzymes"
         ],
         "yaxis": "y"
        },
        {
         "alignmentgroup": "True",
         "hovertemplate": " Ingredients=%{y}<br>Product=%{x}<extra></extra>",
         "legendgroup": "Polyglycerol polyricinoleate",
         "marker": {
          "color": "#DEA0FD",
          "pattern": {
           "shape": ""
          }
         },
         "name": "Polyglycerol polyricinoleate",
         "offsetgroup": "Polyglycerol polyricinoleate",
         "orientation": "v",
         "showlegend": true,
         "textposition": "auto",
         "type": "bar",
         "x": [
          "Arnott's Premier Chocolate Chip Cookies"
         ],
         "xaxis": "x",
         "y": [
          "Polyglycerol polyricinoleate"
         ],
         "yaxis": "y"
        },
        {
         "alignmentgroup": "True",
         "hovertemplate": " Ingredients=%{y}<br>Product=%{x}<extra></extra>",
         "legendgroup": "Desiccated Coconut",
         "marker": {
          "color": "#FE00FA",
          "pattern": {
           "shape": ""
          }
         },
         "name": "Desiccated Coconut",
         "offsetgroup": "Desiccated Coconut",
         "orientation": "v",
         "showlegend": true,
         "textposition": "auto",
         "type": "bar",
         "x": [
          "Arnott's Premier Chocolate Chip Cookies",
          "Arnott's Mini Choc Chip Cookie Multipack Biscuits"
         ],
         "xaxis": "x",
         "y": [
          "Desiccated Coconut",
          "Desiccated Coconut"
         ],
         "yaxis": "y"
        },
        {
         "alignmentgroup": "True",
         "hovertemplate": " Ingredients=%{y}<br>Product=%{x}<extra></extra>",
         "legendgroup": "Wheat Starch",
         "marker": {
          "color": "#325A9B",
          "pattern": {
           "shape": ""
          }
         },
         "name": "Wheat Starch",
         "offsetgroup": "Wheat Starch",
         "orientation": "v",
         "showlegend": true,
         "textposition": "auto",
         "type": "bar",
         "x": [
          "Arnott's Premier Chocolate Chip Cookies",
          "Cadbury Choc Centre Cookies"
         ],
         "xaxis": "x",
         "y": [
          "Wheat Starch",
          "Wheat Starch"
         ],
         "yaxis": "y"
        },
        {
         "alignmentgroup": "True",
         "hovertemplate": " Ingredients=%{y}<br>Product=%{x}<extra></extra>",
         "legendgroup": "Baking Powder",
         "marker": {
          "color": "#FEAF16",
          "pattern": {
           "shape": ""
          }
         },
         "name": "Baking Powder",
         "offsetgroup": "Baking Powder",
         "orientation": "v",
         "showlegend": true,
         "textposition": "auto",
         "type": "bar",
         "x": [
          "Arnott's Premier Chocolate Chip Cookies",
          "Arnott's Mini Choc Chip Cookie Multipack Biscuits"
         ],
         "xaxis": "x",
         "y": [
          "Baking Powder",
          "Baking Powder"
         ],
         "yaxis": "y"
        },
        {
         "alignmentgroup": "True",
         "hovertemplate": " Ingredients=%{y}<br>Product=%{x}<extra></extra>",
         "legendgroup": "Colouring Agent Caramel IV",
         "marker": {
          "color": "#F8A19F",
          "pattern": {
           "shape": ""
          }
         },
         "name": "Colouring Agent Caramel IV",
         "offsetgroup": "Colouring Agent Caramel IV",
         "orientation": "v",
         "showlegend": true,
         "textposition": "auto",
         "type": "bar",
         "x": [
          "Arnott's Premier Chocolate Chip Cookies"
         ],
         "xaxis": "x",
         "y": [
          "Colouring Agent Caramel IV"
         ],
         "yaxis": "y"
        },
        {
         "alignmentgroup": "True",
         "hovertemplate": " Ingredients=%{y}<br>Product=%{x}<extra></extra>",
         "legendgroup": "Antioxidant E307B",
         "marker": {
          "color": "#90AD1C",
          "pattern": {
           "shape": ""
          }
         },
         "name": "Antioxidant E307B",
         "offsetgroup": "Antioxidant E307B",
         "orientation": "v",
         "showlegend": true,
         "textposition": "auto",
         "type": "bar",
         "x": [
          "Arnott's Premier Chocolate Chip Cookies",
          "Arnott's Mini Choc Chip Cookie Multipack Biscuits"
         ],
         "xaxis": "x",
         "y": [
          "Antioxidant E307B",
          "Antioxidant E307B"
         ],
         "yaxis": "y"
        },
        {
         "alignmentgroup": "True",
         "hovertemplate": " Ingredients=%{y}<br>Product=%{x}<extra></extra>",
         "legendgroup": "Dark Compound Chocolate Chips",
         "marker": {
          "color": "#F6222E",
          "pattern": {
           "shape": ""
          }
         },
         "name": "Dark Compound Chocolate Chips",
         "offsetgroup": "Dark Compound Chocolate Chips",
         "orientation": "v",
         "showlegend": true,
         "textposition": "auto",
         "type": "bar",
         "x": [
          "Woolworths Chocolate Chip Cookies"
         ],
         "xaxis": "x",
         "y": [
          "Dark Compound Chocolate Chips"
         ],
         "yaxis": "y"
        },
        {
         "alignmentgroup": "True",
         "hovertemplate": " Ingredients=%{y}<br>Product=%{x}<extra></extra>",
         "legendgroup": "Palm Oil",
         "marker": {
          "color": "#1CFFCE",
          "pattern": {
           "shape": ""
          }
         },
         "name": "Palm Oil",
         "offsetgroup": "Palm Oil",
         "orientation": "v",
         "showlegend": true,
         "textposition": "auto",
         "type": "bar",
         "x": [
          "Woolworths Chocolate Chip Cookies",
          "Woolworths The King Of Chunky Chocolate Chip Cookies"
         ],
         "xaxis": "x",
         "y": [
          "Palm Oil",
          "Palm Oil"
         ],
         "yaxis": "y"
        },
        {
         "alignmentgroup": "True",
         "hovertemplate": " Ingredients=%{y}<br>Product=%{x}<extra></extra>",
         "legendgroup": "Cocoa Solids",
         "marker": {
          "color": "#2ED9FF",
          "pattern": {
           "shape": ""
          }
         },
         "name": "Cocoa Solids",
         "offsetgroup": "Cocoa Solids",
         "orientation": "v",
         "showlegend": true,
         "textposition": "auto",
         "type": "bar",
         "x": [
          "Woolworths Chocolate Chip Cookies"
         ],
         "xaxis": "x",
         "y": [
          "Cocoa Solids"
         ],
         "yaxis": "y"
        },
        {
         "alignmentgroup": "True",
         "hovertemplate": " Ingredients=%{y}<br>Product=%{x}<extra></extra>",
         "legendgroup": "Natural Flavour",
         "marker": {
          "color": "#B10DA1",
          "pattern": {
           "shape": ""
          }
         },
         "name": "Natural Flavour",
         "offsetgroup": "Natural Flavour",
         "orientation": "v",
         "showlegend": true,
         "textposition": "auto",
         "type": "bar",
         "x": [
          "Woolworths Chocolate Chip Cookies",
          "Arnott's Mini Choc Chip Cookie Multipack Biscuits",
          "Woolworths Apple Juice",
          "Woolworths Apple & Mango Juice",
          "Woolworths Orange Juice",
          "Woolworths Apple & Blackcurrant Juice",
          "Golden Circle Drinks Pine Orange Fruit Drink",
          "Woolworths Tomato Sauce Squeeze",
          "Woolworths Tomato Sauce",
          "Fountain Tomato Sauce Squeeze",
          "Woolworths Barbecue Sauce",
          "Thins Chips Salt & Vinegar",
          "Thins Cheese & Onion Chips"
         ],
         "xaxis": "x",
         "y": [
          "Natural Flavour",
          "Natural Flavour",
          "Natural Flavour",
          "Natural Flavour",
          "Natural Flavour",
          "Natural Flavour",
          "Natural Flavour",
          "Natural Flavour",
          "Natural Flavour",
          "Natural Flavour",
          "Natural Flavour",
          "Natural Flavour",
          "Natural Flavour"
         ],
         "yaxis": "y"
        },
        {
         "alignmentgroup": "True",
         "hovertemplate": " Ingredients=%{y}<br>Product=%{x}<extra></extra>",
         "legendgroup": "Wheaten Corn Flour",
         "marker": {
          "color": "#C075A6",
          "pattern": {
           "shape": ""
          }
         },
         "name": "Wheaten Corn Flour",
         "offsetgroup": "Wheaten Corn Flour",
         "orientation": "v",
         "showlegend": true,
         "textposition": "auto",
         "type": "bar",
         "x": [
          "Woolworths Chocolate Chip Cookies"
         ],
         "xaxis": "x",
         "y": [
          "Wheaten Corn Flour"
         ],
         "yaxis": "y"
        },
        {
         "alignmentgroup": "True",
         "hovertemplate": " Ingredients=%{y}<br>Product=%{x}<extra></extra>",
         "legendgroup": "Whole Egg Powder",
         "marker": {
          "color": "#FC1CBF",
          "pattern": {
           "shape": ""
          }
         },
         "name": "Whole Egg Powder",
         "offsetgroup": "Whole Egg Powder",
         "orientation": "v",
         "showlegend": true,
         "textposition": "auto",
         "type": "bar",
         "x": [
          "Woolworths Chocolate Chip Cookies"
         ],
         "xaxis": "x",
         "y": [
          "Whole Egg Powder"
         ],
         "yaxis": "y"
        },
        {
         "alignmentgroup": "True",
         "hovertemplate": " Ingredients=%{y}<br>Product=%{x}<extra></extra>",
         "legendgroup": "Milk Whey Powder",
         "marker": {
          "color": "#B00068",
          "pattern": {
           "shape": ""
          }
         },
         "name": "Milk Whey Powder",
         "offsetgroup": "Milk Whey Powder",
         "orientation": "v",
         "showlegend": true,
         "textposition": "auto",
         "type": "bar",
         "x": [
          "Woolworths Chocolate Chip Cookies",
          "Woolworths The King Of Chunky Chocolate Chip Cookies",
          "Smith's Crinkle Cut Potato Chips Cheese & Onion",
          "Thins Chips Light & Tangy",
          "Thins Cheese & Onion Chips"
         ],
         "xaxis": "x",
         "y": [
          "Milk Whey Powder",
          "Milk Whey Powder",
          "Milk Whey Powder",
          "Milk Whey Powder",
          "Milk Whey Powder"
         ],
         "yaxis": "y"
        },
        {
         "alignmentgroup": "True",
         "hovertemplate": " Ingredients=%{y}<br>Product=%{x}<extra></extra>",
         "legendgroup": "Annatto Extracts",
         "marker": {
          "color": "#FBE426",
          "pattern": {
           "shape": ""
          }
         },
         "name": "Annatto Extracts",
         "offsetgroup": "Annatto Extracts",
         "orientation": "v",
         "showlegend": true,
         "textposition": "auto",
         "type": "bar",
         "x": [
          "Woolworths Chocolate Chip Cookies"
         ],
         "xaxis": "x",
         "y": [
          "Annatto Extracts"
         ],
         "yaxis": "y"
        },
        {
         "alignmentgroup": "True",
         "hovertemplate": " Ingredients=%{y}<br>Product=%{x}<extra></extra>",
         "legendgroup": "Sodium Carbonate",
         "marker": {
          "color": "#FA0087",
          "pattern": {
           "shape": ""
          }
         },
         "name": "Sodium Carbonate",
         "offsetgroup": "Sodium Carbonate",
         "orientation": "v",
         "showlegend": true,
         "textposition": "auto",
         "type": "bar",
         "x": [
          "Woolworths Chocolate Chip Cookies",
          "Woolworths The King Of Chunky Chocolate Chip Cookies"
         ],
         "xaxis": "x",
         "y": [
          "Sodium Carbonate",
          "Sodium Carbonate"
         ],
         "yaxis": "y"
        },
        {
         "alignmentgroup": "True",
         "hovertemplate": " Ingredients=%{y}<br>Product=%{x}<extra></extra>",
         "legendgroup": "Ammonium Carbonate",
         "marker": {
          "color": "rgb(27,158,119)",
          "pattern": {
           "shape": ""
          }
         },
         "name": "Ammonium Carbonate",
         "offsetgroup": "Ammonium Carbonate",
         "orientation": "v",
         "showlegend": true,
         "textposition": "auto",
         "type": "bar",
         "x": [
          "Woolworths Chocolate Chip Cookies",
          "Woolworths The King Of Chunky Chocolate Chip Cookies"
         ],
         "xaxis": "x",
         "y": [
          "Ammonium Carbonate",
          "Ammonium Carbonate"
         ],
         "yaxis": "y"
        },
        {
         "alignmentgroup": "True",
         "hovertemplate": " Ingredients=%{y}<br>Product=%{x}<extra></extra>",
         "legendgroup": "Dark Chocolate Chips",
         "marker": {
          "color": "rgb(217,95,2)",
          "pattern": {
           "shape": ""
          }
         },
         "name": "Dark Chocolate Chips",
         "offsetgroup": "Dark Chocolate Chips",
         "orientation": "v",
         "showlegend": true,
         "textposition": "auto",
         "type": "bar",
         "x": [
          "Woolworths The King Of Chunky Chocolate Chip Cookies"
         ],
         "xaxis": "x",
         "y": [
          "Dark Chocolate Chips"
         ],
         "yaxis": "y"
        },
        {
         "alignmentgroup": "True",
         "hovertemplate": " Ingredients=%{y}<br>Product=%{x}<extra></extra>",
         "legendgroup": "Natural Vanilla Flavour",
         "marker": {
          "color": "rgb(117,112,179)",
          "pattern": {
           "shape": ""
          }
         },
         "name": "Natural Vanilla Flavour",
         "offsetgroup": "Natural Vanilla Flavour",
         "orientation": "v",
         "showlegend": true,
         "textposition": "auto",
         "type": "bar",
         "x": [
          "Woolworths The King Of Chunky Chocolate Chip Cookies",
          "Byron Bay Cookies Dotty Cookie Bites",
          "Woolworths Creamed Rice"
         ],
         "xaxis": "x",
         "y": [
          "Natural Vanilla Flavour",
          "Natural Vanilla Flavour",
          "Natural Vanilla Flavour"
         ],
         "yaxis": "y"
        },
        {
         "alignmentgroup": "True",
         "hovertemplate": " Ingredients=%{y}<br>Product=%{x}<extra></extra>",
         "legendgroup": "Milk Butter",
         "marker": {
          "color": "rgb(231,41,138)",
          "pattern": {
           "shape": ""
          }
         },
         "name": "Milk Butter",
         "offsetgroup": "Milk Butter",
         "orientation": "v",
         "showlegend": true,
         "textposition": "auto",
         "type": "bar",
         "x": [
          "Woolworths The King Of Chunky Chocolate Chip Cookies",
          "Arnott's Mini Choc Chip Cookie Multipack Biscuits",
          "Byron Bay Cookies Dotty Cookie Bites"
         ],
         "xaxis": "x",
         "y": [
          "Milk Butter",
          "Milk Butter",
          "Milk Butter"
         ],
         "yaxis": "y"
        },
        {
         "alignmentgroup": "True",
         "hovertemplate": " Ingredients=%{y}<br>Product=%{x}<extra></extra>",
         "legendgroup": "Natural Flavour Vanilla",
         "marker": {
          "color": "rgb(102,166,30)",
          "pattern": {
           "shape": ""
          }
         },
         "name": "Natural Flavour Vanilla",
         "offsetgroup": "Natural Flavour Vanilla",
         "orientation": "v",
         "showlegend": true,
         "textposition": "auto",
         "type": "bar",
         "x": [
          "Woolworths The King Of Chunky Chocolate Chip Cookies"
         ],
         "xaxis": "x",
         "y": [
          "Natural Flavour Vanilla"
         ],
         "yaxis": "y"
        },
        {
         "alignmentgroup": "True",
         "hovertemplate": " Ingredients=%{y}<br>Product=%{x}<extra></extra>",
         "legendgroup": "Natural Flavour Butter",
         "marker": {
          "color": "rgb(230,171,2)",
          "pattern": {
           "shape": ""
          }
         },
         "name": "Natural Flavour Butter",
         "offsetgroup": "Natural Flavour Butter",
         "orientation": "v",
         "showlegend": true,
         "textposition": "auto",
         "type": "bar",
         "x": [
          "Woolworths The King Of Chunky Chocolate Chip Cookies"
         ],
         "xaxis": "x",
         "y": [
          "Natural Flavour Butter"
         ],
         "yaxis": "y"
        },
        {
         "alignmentgroup": "True",
         "hovertemplate": " Ingredients=%{y}<br>Product=%{x}<extra></extra>",
         "legendgroup": "Chocolate Chips",
         "marker": {
          "color": "rgb(166,118,29)",
          "pattern": {
           "shape": ""
          }
         },
         "name": "Chocolate Chips",
         "offsetgroup": "Chocolate Chips",
         "orientation": "v",
         "showlegend": true,
         "textposition": "auto",
         "type": "bar",
         "x": [
          "Arnott's Mini Choc Chip Cookie Multipack Biscuits"
         ],
         "xaxis": "x",
         "y": [
          "Chocolate Chips"
         ],
         "yaxis": "y"
        },
        {
         "alignmentgroup": "True",
         "hovertemplate": " Ingredients=%{y}<br>Product=%{x}<extra></extra>",
         "legendgroup": "Skim Milk Powder",
         "marker": {
          "color": "rgb(102,102,102)",
          "pattern": {
           "shape": ""
          }
         },
         "name": "Skim Milk Powder",
         "offsetgroup": "Skim Milk Powder",
         "orientation": "v",
         "showlegend": true,
         "textposition": "auto",
         "type": "bar",
         "x": [
          "Arnott's Mini Choc Chip Cookie Multipack Biscuits"
         ],
         "xaxis": "x",
         "y": [
          "Skim Milk Powder"
         ],
         "yaxis": "y"
        },
        {
         "alignmentgroup": "True",
         "hovertemplate": " Ingredients=%{y}<br>Product=%{x}<extra></extra>",
         "legendgroup": "Fructose Syrup",
         "marker": {
          "color": "rgb(228,26,28)",
          "pattern": {
           "shape": ""
          }
         },
         "name": "Fructose Syrup",
         "offsetgroup": "Fructose Syrup",
         "orientation": "v",
         "showlegend": true,
         "textposition": "auto",
         "type": "bar",
         "x": [
          "Oreo Original Mini Cookies Multipack",
          "Oreo Minis Cookies Variety Bags 18 Pack",
          "Oreo Original Cookies",
          "Oreo Double Stuff Cookies",
          "Oreo Original Cookies Family Pack",
          "Oreo Chocolate Cookies",
          "Oreo Neapolitan Double Stuff Cookies"
         ],
         "xaxis": "x",
         "y": [
          "Fructose Syrup",
          "Fructose Syrup",
          "Fructose Syrup",
          "Fructose Syrup",
          "Fructose Syrup",
          "Fructose Syrup",
          "Fructose Syrup"
         ],
         "yaxis": "y"
        },
        {
         "alignmentgroup": "True",
         "hovertemplate": " Ingredients=%{y}<br>Product=%{x}<extra></extra>",
         "legendgroup": "Cornstarch",
         "marker": {
          "color": "rgb(55,126,184)",
          "pattern": {
           "shape": ""
          }
         },
         "name": "Cornstarch",
         "offsetgroup": "Cornstarch",
         "orientation": "v",
         "showlegend": true,
         "textposition": "auto",
         "type": "bar",
         "x": [
          "Oreo Original Mini Cookies Multipack",
          "Oreo Minis Cookies Variety Bags 18 Pack",
          "Byron Bay Cookies Dotty Cookie Bites",
          "Oreo Original Cookies",
          "Oreo Double Stuff Cookies",
          "Oreo Original Cookies Family Pack",
          "Oreo Chocolate Cookies",
          "Oreo Grab & Go Original Cookies 9 Pack",
          "Oreo Neapolitan Double Stuff Cookies"
         ],
         "xaxis": "x",
         "y": [
          "Cornstarch",
          "Cornstarch",
          "Cornstarch",
          "Cornstarch",
          "Cornstarch",
          "Cornstarch",
          "Cornstarch",
          "Cornstarch",
          "Cornstarch"
         ],
         "yaxis": "y"
        },
        {
         "alignmentgroup": "True",
         "hovertemplate": " Ingredients=%{y}<br>Product=%{x}<extra></extra>",
         "legendgroup": "Ammonium Bicarbonate",
         "marker": {
          "color": "rgb(77,175,74)",
          "pattern": {
           "shape": ""
          }
         },
         "name": "Ammonium Bicarbonate",
         "offsetgroup": "Ammonium Bicarbonate",
         "orientation": "v",
         "showlegend": true,
         "textposition": "auto",
         "type": "bar",
         "x": [
          "Oreo Original Mini Cookies Multipack",
          "Oreo Minis Cookies Variety Bags 18 Pack",
          "Cadbury Classic Choc Chip Cookies",
          "Cadbury Choc Centre Cookies",
          "Oreo Original Cookies",
          "Oreo Double Stuff Cookies",
          "Oreo Original Cookies Family Pack",
          "Oreo Chocolate Cookies",
          "Oreo Grab & Go Original Cookies 9 Pack",
          "Oreo Neapolitan Double Stuff Cookies"
         ],
         "xaxis": "x",
         "y": [
          "Ammonium Bicarbonate",
          "Ammonium Bicarbonate",
          "Ammonium Bicarbonate",
          "Ammonium Bicarbonate",
          "Ammonium Bicarbonate",
          "Ammonium Bicarbonate",
          "Ammonium Bicarbonate",
          "Ammonium Bicarbonate",
          "Ammonium Bicarbonate",
          "Ammonium Bicarbonate"
         ],
         "yaxis": "y"
        },
        {
         "alignmentgroup": "True",
         "hovertemplate": " Ingredients=%{y}<br>Product=%{x}<extra></extra>",
         "legendgroup": "Mineral Iron",
         "marker": {
          "color": "rgb(152,78,163)",
          "pattern": {
           "shape": ""
          }
         },
         "name": "Mineral Iron",
         "offsetgroup": "Mineral Iron",
         "orientation": "v",
         "showlegend": true,
         "textposition": "auto",
         "type": "bar",
         "x": [
          "Oreo Original Mini Cookies Multipack",
          "Oreo Minis Cookies Variety Bags 18 Pack",
          "Oreo Original Cookies",
          "Oreo Double Stuff Cookies",
          "Oreo Original Cookies Family Pack",
          "Oreo Chocolate Cookies",
          "Oreo Grab & Go Original Cookies 9 Pack",
          "Oreo Neapolitan Double Stuff Cookies"
         ],
         "xaxis": "x",
         "y": [
          "Mineral Iron",
          "Mineral Iron",
          "Mineral Iron",
          "Mineral Iron",
          "Mineral Iron",
          "Mineral Iron",
          "Mineral Iron",
          "Mineral Iron"
         ],
         "yaxis": "y"
        },
        {
         "alignmentgroup": "True",
         "hovertemplate": " Ingredients=%{y}<br>Product=%{x}<extra></extra>",
         "legendgroup": "Zinc",
         "marker": {
          "color": "rgb(255,127,0)",
          "pattern": {
           "shape": ""
          }
         },
         "name": "Zinc",
         "offsetgroup": "Zinc",
         "orientation": "v",
         "showlegend": true,
         "textposition": "auto",
         "type": "bar",
         "x": [
          "Oreo Original Mini Cookies Multipack",
          "Oreo Minis Cookies Variety Bags 18 Pack",
          "Oreo Original Cookies",
          "Oreo Double Stuff Cookies",
          "Oreo Original Cookies Family Pack",
          "Oreo Chocolate Cookies",
          "Oreo Grab & Go Original Cookies 9 Pack",
          "Oreo Neapolitan Double Stuff Cookies"
         ],
         "xaxis": "x",
         "y": [
          "Zinc",
          "Zinc",
          "Zinc",
          "Zinc",
          "Zinc",
          "Zinc",
          "Zinc",
          "Zinc"
         ],
         "yaxis": "y"
        },
        {
         "alignmentgroup": "True",
         "hovertemplate": " Ingredients=%{y}<br>Product=%{x}<extra></extra>",
         "legendgroup": "Riboflavin",
         "marker": {
          "color": "rgb(255,255,51)",
          "pattern": {
           "shape": ""
          }
         },
         "name": "Riboflavin",
         "offsetgroup": "Riboflavin",
         "orientation": "v",
         "showlegend": true,
         "textposition": "auto",
         "type": "bar",
         "x": [
          "Oreo Original Mini Cookies Multipack",
          "Oreo Minis Cookies Variety Bags 18 Pack",
          "Oreo Original Cookies",
          "Oreo Double Stuff Cookies",
          "Oreo Original Cookies Family Pack",
          "Oreo Chocolate Cookies",
          "Oreo Grab & Go Original Cookies 9 Pack",
          "Oreo Neapolitan Double Stuff Cookies"
         ],
         "xaxis": "x",
         "y": [
          "Riboflavin",
          "Riboflavin",
          "Riboflavin",
          "Riboflavin",
          "Riboflavin",
          "Riboflavin",
          "Riboflavin",
          "Riboflavin"
         ],
         "yaxis": "y"
        },
        {
         "alignmentgroup": "True",
         "hovertemplate": " Ingredients=%{y}<br>Product=%{x}<extra></extra>",
         "legendgroup": "Thiamin",
         "marker": {
          "color": "rgb(166,86,40)",
          "pattern": {
           "shape": ""
          }
         },
         "name": "Thiamin",
         "offsetgroup": "Thiamin",
         "orientation": "v",
         "showlegend": true,
         "textposition": "auto",
         "type": "bar",
         "x": [
          "Oreo Original Mini Cookies Multipack",
          "Oreo Minis Cookies Variety Bags 18 Pack",
          "Oreo Original Cookies",
          "Oreo Double Stuff Cookies",
          "Oreo Original Cookies Family Pack",
          "Oreo Chocolate Cookies",
          "Oreo Grab & Go Original Cookies 9 Pack",
          "Oreo Neapolitan Double Stuff Cookies"
         ],
         "xaxis": "x",
         "y": [
          "Thiamin",
          "Thiamin",
          "Thiamin",
          "Thiamin",
          "Thiamin",
          "Thiamin",
          "Thiamin",
          "Thiamin"
         ],
         "yaxis": "y"
        },
        {
         "alignmentgroup": "True",
         "hovertemplate": " Ingredients=%{y}<br>Product=%{x}<extra></extra>",
         "legendgroup": "Folate",
         "marker": {
          "color": "rgb(247,129,191)",
          "pattern": {
           "shape": ""
          }
         },
         "name": "Folate",
         "offsetgroup": "Folate",
         "orientation": "v",
         "showlegend": true,
         "textposition": "auto",
         "type": "bar",
         "x": [
          "Oreo Original Mini Cookies Multipack",
          "Oreo Minis Cookies Variety Bags 18 Pack",
          "Oreo Original Cookies",
          "Woolworths Multivitamin Juice",
          "Oreo Double Stuff Cookies",
          "Oreo Original Cookies Family Pack",
          "Oreo Chocolate Cookies",
          "Oreo Grab & Go Original Cookies 9 Pack",
          "Oreo Neapolitan Double Stuff Cookies"
         ],
         "xaxis": "x",
         "y": [
          "Folate",
          "Folate",
          "Folate",
          "Folate",
          "Folate",
          "Folate",
          "Folate",
          "Folate",
          "Folate"
         ],
         "yaxis": "y"
        },
        {
         "alignmentgroup": "True",
         "hovertemplate": " Ingredients=%{y}<br>Product=%{x}<extra></extra>",
         "legendgroup": "Strawberry",
         "marker": {
          "color": "rgb(153,153,153)",
          "pattern": {
           "shape": ""
          }
         },
         "name": "Strawberry",
         "offsetgroup": "Strawberry",
         "orientation": "v",
         "showlegend": true,
         "textposition": "auto",
         "type": "bar",
         "x": [
          "Oreo Minis Cookies Variety Bags 18 Pack"
         ],
         "xaxis": "x",
         "y": [
          "Strawberry"
         ],
         "yaxis": "y"
        },
        {
         "alignmentgroup": "True",
         "hovertemplate": " Ingredients=%{y}<br>Product=%{x}<extra></extra>",
         "legendgroup": "Carmine",
         "marker": {
          "color": "#AA0DFE",
          "pattern": {
           "shape": ""
          }
         },
         "name": "Carmine",
         "offsetgroup": "Carmine",
         "orientation": "v",
         "showlegend": true,
         "textposition": "auto",
         "type": "bar",
         "x": [
          "Oreo Minis Cookies Variety Bags 18 Pack",
          "Rimmel Scandaleyes Eye Definer Brown",
          "Oreo Neapolitan Double Stuff Cookies"
         ],
         "xaxis": "x",
         "y": [
          "Carmine",
          "Carmine",
          "Carmine"
         ],
         "yaxis": "y"
        },
        {
         "alignmentgroup": "True",
         "hovertemplate": " Ingredients=%{y}<br>Product=%{x}<extra></extra>",
         "legendgroup": "Milk Chocolate Chips",
         "marker": {
          "color": "#3283FE",
          "pattern": {
           "shape": ""
          }
         },
         "name": "Milk Chocolate Chips",
         "offsetgroup": "Milk Chocolate Chips",
         "orientation": "v",
         "showlegend": true,
         "textposition": "auto",
         "type": "bar",
         "x": [
          "Cadbury Classic Choc Chip Cookies",
          "Cadbury Choc Centre Cookies"
         ],
         "xaxis": "x",
         "y": [
          "Milk Chocolate Chips",
          "Milk Chocolate Chips"
         ],
         "yaxis": "y"
        },
        {
         "alignmentgroup": "True",
         "hovertemplate": " Ingredients=%{y}<br>Product=%{x}<extra></extra>",
         "legendgroup": "Dextrose",
         "marker": {
          "color": "#85660D",
          "pattern": {
           "shape": ""
          }
         },
         "name": "Dextrose",
         "offsetgroup": "Dextrose",
         "orientation": "v",
         "showlegend": true,
         "textposition": "auto",
         "type": "bar",
         "x": [
          "Cadbury Classic Choc Chip Cookies",
          "Cadbury Choc Centre Cookies",
          "Smith's Crinkle Cut Potato Chips Cheese & Onion",
          "Smith's Crinkle Cut Potato Chips Salt & Vinegar"
         ],
         "xaxis": "x",
         "y": [
          "Dextrose",
          "Dextrose",
          "Dextrose",
          "Dextrose"
         ],
         "yaxis": "y"
        },
        {
         "alignmentgroup": "True",
         "hovertemplate": " Ingredients=%{y}<br>Product=%{x}<extra></extra>",
         "legendgroup": "Emulsifier 442",
         "marker": {
          "color": "#782AB6",
          "pattern": {
           "shape": ""
          }
         },
         "name": "Emulsifier 442",
         "offsetgroup": "Emulsifier 442",
         "orientation": "v",
         "showlegend": true,
         "textposition": "auto",
         "type": "bar",
         "x": [
          "Cadbury Classic Choc Chip Cookies",
          "Cadbury Choc Centre Cookies"
         ],
         "xaxis": "x",
         "y": [
          "Emulsifier 442",
          "Emulsifier 442"
         ],
         "yaxis": "y"
        },
        {
         "alignmentgroup": "True",
         "hovertemplate": " Ingredients=%{y}<br>Product=%{x}<extra></extra>",
         "legendgroup": "Egg",
         "marker": {
          "color": "#565656",
          "pattern": {
           "shape": ""
          }
         },
         "name": "Egg",
         "offsetgroup": "Egg",
         "orientation": "v",
         "showlegend": true,
         "textposition": "auto",
         "type": "bar",
         "x": [
          "Cadbury Classic Choc Chip Cookies",
          "Byron Bay Cookies Dotty Cookie Bites"
         ],
         "xaxis": "x",
         "y": [
          "Egg",
          "Egg"
         ],
         "yaxis": "y"
        },
        {
         "alignmentgroup": "True",
         "hovertemplate": " Ingredients=%{y}<br>Product=%{x}<extra></extra>",
         "legendgroup": "Stabiliser 422",
         "marker": {
          "color": "#1C8356",
          "pattern": {
           "shape": ""
          }
         },
         "name": "Stabiliser 422",
         "offsetgroup": "Stabiliser 422",
         "orientation": "v",
         "showlegend": true,
         "textposition": "auto",
         "type": "bar",
         "x": [
          "Cadbury Classic Choc Chip Cookies"
         ],
         "xaxis": "x",
         "y": [
          "Stabiliser 422"
         ],
         "yaxis": "y"
        },
        {
         "alignmentgroup": "True",
         "hovertemplate": " Ingredients=%{y}<br>Product=%{x}<extra></extra>",
         "legendgroup": "Soybean Fibre",
         "marker": {
          "color": "#16FF32",
          "pattern": {
           "shape": ""
          }
         },
         "name": "Soybean Fibre",
         "offsetgroup": "Soybean Fibre",
         "orientation": "v",
         "showlegend": true,
         "textposition": "auto",
         "type": "bar",
         "x": [
          "Cadbury Classic Choc Chip Cookies",
          "Cadbury Choc Centre Cookies"
         ],
         "xaxis": "x",
         "y": [
          "Soybean Fibre",
          "Soybean Fibre"
         ],
         "yaxis": "y"
        },
        {
         "alignmentgroup": "True",
         "hovertemplate": " Ingredients=%{y}<br>Product=%{x}<extra></extra>",
         "legendgroup": "Thickener 1422",
         "marker": {
          "color": "#F7E1A0",
          "pattern": {
           "shape": ""
          }
         },
         "name": "Thickener 1422",
         "offsetgroup": "Thickener 1422",
         "orientation": "v",
         "showlegend": true,
         "textposition": "auto",
         "type": "bar",
         "x": [
          "Cadbury Classic Choc Chip Cookies",
          "Woolworths Secret Burger Sauce"
         ],
         "xaxis": "x",
         "y": [
          "Thickener 1422",
          "Thickener 1422"
         ],
         "yaxis": "y"
        },
        {
         "alignmentgroup": "True",
         "hovertemplate": " Ingredients=%{y}<br>Product=%{x}<extra></extra>",
         "legendgroup": "Raising Agent 450",
         "marker": {
          "color": "#E2E2E2",
          "pattern": {
           "shape": ""
          }
         },
         "name": "Raising Agent 450",
         "offsetgroup": "Raising Agent 450",
         "orientation": "v",
         "showlegend": true,
         "textposition": "auto",
         "type": "bar",
         "x": [
          "Cadbury Classic Choc Chip Cookies",
          "Cadbury Choc Centre Cookies",
          "Byron Bay Cookies Dotty Cookie Bites"
         ],
         "xaxis": "x",
         "y": [
          "Raising Agent 450",
          "Raising Agent 450",
          "Raising Agent 450"
         ],
         "yaxis": "y"
        },
        {
         "alignmentgroup": "True",
         "hovertemplate": " Ingredients=%{y}<br>Product=%{x}<extra></extra>",
         "legendgroup": "Colouring Agent 160a",
         "marker": {
          "color": "#1CBE4F",
          "pattern": {
           "shape": ""
          }
         },
         "name": "Colouring Agent 160a",
         "offsetgroup": "Colouring Agent 160a",
         "orientation": "v",
         "showlegend": true,
         "textposition": "auto",
         "type": "bar",
         "x": [
          "Cadbury Classic Choc Chip Cookies",
          "Cadbury Choc Centre Cookies"
         ],
         "xaxis": "x",
         "y": [
          "Colouring Agent 160a",
          "Colouring Agent 160a"
         ],
         "yaxis": "y"
        },
        {
         "alignmentgroup": "True",
         "hovertemplate": " Ingredients=%{y}<br>Product=%{x}<extra></extra>",
         "legendgroup": "Thickener 1414",
         "marker": {
          "color": "#C4451C",
          "pattern": {
           "shape": ""
          }
         },
         "name": "Thickener 1414",
         "offsetgroup": "Thickener 1414",
         "orientation": "v",
         "showlegend": true,
         "textposition": "auto",
         "type": "bar",
         "x": [
          "Cadbury Choc Centre Cookies"
         ],
         "xaxis": "x",
         "y": [
          "Thickener 1414"
         ],
         "yaxis": "y"
        },
        {
         "alignmentgroup": "True",
         "hovertemplate": " Ingredients=%{y}<br>Product=%{x}<extra></extra>",
         "legendgroup": "Milk Compound Chocolate",
         "marker": {
          "color": "#DEA0FD",
          "pattern": {
           "shape": ""
          }
         },
         "name": "Milk Compound Chocolate",
         "offsetgroup": "Milk Compound Chocolate",
         "orientation": "v",
         "showlegend": true,
         "textposition": "auto",
         "type": "bar",
         "x": [
          "Byron Bay Cookies Dotty Cookie Bites"
         ],
         "xaxis": "x",
         "y": [
          "Milk Compound Chocolate"
         ],
         "yaxis": "y"
        },
        {
         "alignmentgroup": "True",
         "hovertemplate": " Ingredients=%{y}<br>Product=%{x}<extra></extra>",
         "legendgroup": "Glazing Agent 414",
         "marker": {
          "color": "#FE00FA",
          "pattern": {
           "shape": ""
          }
         },
         "name": "Glazing Agent 414",
         "offsetgroup": "Glazing Agent 414",
         "orientation": "v",
         "showlegend": true,
         "textposition": "auto",
         "type": "bar",
         "x": [
          "Byron Bay Cookies Dotty Cookie Bites"
         ],
         "xaxis": "x",
         "y": [
          "Glazing Agent 414"
         ],
         "yaxis": "y"
        },
        {
         "alignmentgroup": "True",
         "hovertemplate": " Ingredients=%{y}<br>Product=%{x}<extra></extra>",
         "legendgroup": "Carnauba Wax",
         "marker": {
          "color": "#325A9B",
          "pattern": {
           "shape": ""
          }
         },
         "name": "Carnauba Wax",
         "offsetgroup": "Carnauba Wax",
         "orientation": "v",
         "showlegend": true,
         "textposition": "auto",
         "type": "bar",
         "x": [
          "Byron Bay Cookies Dotty Cookie Bites"
         ],
         "xaxis": "x",
         "y": [
          "Carnauba Wax"
         ],
         "yaxis": "y"
        },
        {
         "alignmentgroup": "True",
         "hovertemplate": " Ingredients=%{y}<br>Product=%{x}<extra></extra>",
         "legendgroup": "Colouring Agent Titan White",
         "marker": {
          "color": "#FEAF16",
          "pattern": {
           "shape": ""
          }
         },
         "name": "Colouring Agent Titan White",
         "offsetgroup": "Colouring Agent Titan White",
         "orientation": "v",
         "showlegend": true,
         "textposition": "auto",
         "type": "bar",
         "x": [
          "Byron Bay Cookies Dotty Cookie Bites"
         ],
         "xaxis": "x",
         "y": [
          "Colouring Agent Titan White"
         ],
         "yaxis": "y"
        },
        {
         "alignmentgroup": "True",
         "hovertemplate": " Ingredients=%{y}<br>Product=%{x}<extra></extra>",
         "legendgroup": "Colouring Agent Spirulina Extract",
         "marker": {
          "color": "#F8A19F",
          "pattern": {
           "shape": ""
          }
         },
         "name": "Colouring Agent Spirulina Extract",
         "offsetgroup": "Colouring Agent Spirulina Extract",
         "orientation": "v",
         "showlegend": true,
         "textposition": "auto",
         "type": "bar",
         "x": [
          "Byron Bay Cookies Dotty Cookie Bites"
         ],
         "xaxis": "x",
         "y": [
          "Colouring Agent Spirulina Extract"
         ],
         "yaxis": "y"
        },
        {
         "alignmentgroup": "True",
         "hovertemplate": " Ingredients=%{y}<br>Product=%{x}<extra></extra>",
         "legendgroup": "Beta carotene",
         "marker": {
          "color": "#90AD1C",
          "pattern": {
           "shape": ""
          }
         },
         "name": "Beta carotene",
         "offsetgroup": "Beta carotene",
         "orientation": "v",
         "showlegend": true,
         "textposition": "auto",
         "type": "bar",
         "x": [
          "Byron Bay Cookies Dotty Cookie Bites"
         ],
         "xaxis": "x",
         "y": [
          "Beta carotene"
         ],
         "yaxis": "y"
        },
        {
         "alignmentgroup": "True",
         "hovertemplate": " Ingredients=%{y}<br>Product=%{x}<extra></extra>",
         "legendgroup": "Red Beetroot Powder",
         "marker": {
          "color": "#F6222E",
          "pattern": {
           "shape": ""
          }
         },
         "name": "Red Beetroot Powder",
         "offsetgroup": "Red Beetroot Powder",
         "orientation": "v",
         "showlegend": true,
         "textposition": "auto",
         "type": "bar",
         "x": [
          "Byron Bay Cookies Dotty Cookie Bites"
         ],
         "xaxis": "x",
         "y": [
          "Red Beetroot Powder"
         ],
         "yaxis": "y"
        },
        {
         "alignmentgroup": "True",
         "hovertemplate": " Ingredients=%{y}<br>Product=%{x}<extra></extra>",
         "legendgroup": "Black Carrot Extract",
         "marker": {
          "color": "#1CFFCE",
          "pattern": {
           "shape": ""
          }
         },
         "name": "Black Carrot Extract",
         "offsetgroup": "Black Carrot Extract",
         "orientation": "v",
         "showlegend": true,
         "textposition": "auto",
         "type": "bar",
         "x": [
          "Byron Bay Cookies Dotty Cookie Bites"
         ],
         "xaxis": "x",
         "y": [
          "Black Carrot Extract"
         ],
         "yaxis": "y"
        },
        {
         "alignmentgroup": "True",
         "hovertemplate": " Ingredients=%{y}<br>Product=%{x}<extra></extra>",
         "legendgroup": "Cultured Dextrose",
         "marker": {
          "color": "#2ED9FF",
          "pattern": {
           "shape": ""
          }
         },
         "name": "Cultured Dextrose",
         "offsetgroup": "Cultured Dextrose",
         "orientation": "v",
         "showlegend": true,
         "textposition": "auto",
         "type": "bar",
         "x": [
          "Byron Bay Cookies Dotty Cookie Bites"
         ],
         "xaxis": "x",
         "y": [
          "Cultured Dextrose"
         ],
         "yaxis": "y"
        },
        {
         "alignmentgroup": "True",
         "hovertemplate": " Ingredients=%{y}<br>Product=%{x}<extra></extra>",
         "legendgroup": "Maize Starch",
         "marker": {
          "color": "#B10DA1",
          "pattern": {
           "shape": ""
          }
         },
         "name": "Maize Starch",
         "offsetgroup": "Maize Starch",
         "orientation": "v",
         "showlegend": true,
         "textposition": "auto",
         "type": "bar",
         "x": [
          "Byron Bay Cookies Dotty Cookie Bites"
         ],
         "xaxis": "x",
         "y": [
          "Maize Starch"
         ],
         "yaxis": "y"
        },
        {
         "alignmentgroup": "True",
         "hovertemplate": " Ingredients=%{y}<br>Product=%{x}<extra></extra>",
         "legendgroup": "Polyethylene",
         "marker": {
          "color": "#C075A6",
          "pattern": {
           "shape": ""
          }
         },
         "name": "Polyethylene",
         "offsetgroup": "Polyethylene",
         "orientation": "v",
         "showlegend": true,
         "textposition": "auto",
         "type": "bar",
         "x": [
          "Rimmel Scandaleyes Eye Definer Brown"
         ],
         "xaxis": "x",
         "y": [
          "Polyethylene"
         ],
         "yaxis": "y"
        },
        {
         "alignmentgroup": "True",
         "hovertemplate": " Ingredients=%{y}<br>Product=%{x}<extra></extra>",
         "legendgroup": "Synthetic Wax",
         "marker": {
          "color": "#FC1CBF",
          "pattern": {
           "shape": ""
          }
         },
         "name": "Synthetic Wax",
         "offsetgroup": "Synthetic Wax",
         "orientation": "v",
         "showlegend": true,
         "textposition": "auto",
         "type": "bar",
         "x": [
          "Rimmel Scandaleyes Eye Definer Brown"
         ],
         "xaxis": "x",
         "y": [
          "Synthetic Wax"
         ],
         "yaxis": "y"
        },
        {
         "alignmentgroup": "True",
         "hovertemplate": " Ingredients=%{y}<br>Product=%{x}<extra></extra>",
         "legendgroup": "Bis-Diglyceryl Polyacyladipate-2",
         "marker": {
          "color": "#B00068",
          "pattern": {
           "shape": ""
          }
         },
         "name": "Bis-Diglyceryl Polyacyladipate-2",
         "offsetgroup": "Bis-Diglyceryl Polyacyladipate-2",
         "orientation": "v",
         "showlegend": true,
         "textposition": "auto",
         "type": "bar",
         "x": [
          "Rimmel Scandaleyes Eye Definer Brown"
         ],
         "xaxis": "x",
         "y": [
          "Bis-Diglyceryl Polyacyladipate-2"
         ],
         "yaxis": "y"
        },
        {
         "alignmentgroup": "True",
         "hovertemplate": " Ingredients=%{y}<br>Product=%{x}<extra></extra>",
         "legendgroup": "Polybutene",
         "marker": {
          "color": "#FBE426",
          "pattern": {
           "shape": ""
          }
         },
         "name": "Polybutene",
         "offsetgroup": "Polybutene",
         "orientation": "v",
         "showlegend": true,
         "textposition": "auto",
         "type": "bar",
         "x": [
          "Rimmel Scandaleyes Eye Definer Brown"
         ],
         "xaxis": "x",
         "y": [
          "Polybutene"
         ],
         "yaxis": "y"
        },
        {
         "alignmentgroup": "True",
         "hovertemplate": " Ingredients=%{y}<br>Product=%{x}<extra></extra>",
         "legendgroup": "Silica",
         "marker": {
          "color": "#FA0087",
          "pattern": {
           "shape": ""
          }
         },
         "name": "Silica",
         "offsetgroup": "Silica",
         "orientation": "v",
         "showlegend": true,
         "textposition": "auto",
         "type": "bar",
         "x": [
          "Rimmel Scandaleyes Eye Definer Brown"
         ],
         "xaxis": "x",
         "y": [
          "Silica"
         ],
         "yaxis": "y"
        },
        {
         "alignmentgroup": "True",
         "hovertemplate": " Ingredients=%{y}<br>Product=%{x}<extra></extra>",
         "legendgroup": "Octyldodecanol",
         "marker": {
          "color": "rgb(27,158,119)",
          "pattern": {
           "shape": ""
          }
         },
         "name": "Octyldodecanol",
         "offsetgroup": "Octyldodecanol",
         "orientation": "v",
         "showlegend": true,
         "textposition": "auto",
         "type": "bar",
         "x": [
          "Rimmel Scandaleyes Eye Definer Brown"
         ],
         "xaxis": "x",
         "y": [
          "Octyldodecanol"
         ],
         "yaxis": "y"
        },
        {
         "alignmentgroup": "True",
         "hovertemplate": " Ingredients=%{y}<br>Product=%{x}<extra></extra>",
         "legendgroup": "Pentaerythrityl Tetra-di-t-butyl Hydroxyhydrocinnamate",
         "marker": {
          "color": "rgb(217,95,2)",
          "pattern": {
           "shape": ""
          }
         },
         "name": "Pentaerythrityl Tetra-di-t-butyl Hydroxyhydrocinnamate",
         "offsetgroup": "Pentaerythrityl Tetra-di-t-butyl Hydroxyhydrocinnamate",
         "orientation": "v",
         "showlegend": true,
         "textposition": "auto",
         "type": "bar",
         "x": [
          "Rimmel Scandaleyes Eye Definer Brown"
         ],
         "xaxis": "x",
         "y": [
          "Pentaerythrityl Tetra-di-t-butyl Hydroxyhydrocinnamate"
         ],
         "yaxis": "y"
        },
        {
         "alignmentgroup": "True",
         "hovertemplate": " Ingredients=%{y}<br>Product=%{x}<extra></extra>",
         "legendgroup": "Mica",
         "marker": {
          "color": "rgb(117,112,179)",
          "pattern": {
           "shape": ""
          }
         },
         "name": "Mica",
         "offsetgroup": "Mica",
         "orientation": "v",
         "showlegend": true,
         "textposition": "auto",
         "type": "bar",
         "x": [
          "Rimmel Scandaleyes Eye Definer Brown"
         ],
         "xaxis": "x",
         "y": [
          "Mica"
         ],
         "yaxis": "y"
        },
        {
         "alignmentgroup": "True",
         "hovertemplate": " Ingredients=%{y}<br>Product=%{x}<extra></extra>",
         "legendgroup": "Ultramarines",
         "marker": {
          "color": "rgb(231,41,138)",
          "pattern": {
           "shape": ""
          }
         },
         "name": "Ultramarines",
         "offsetgroup": "Ultramarines",
         "orientation": "v",
         "showlegend": true,
         "textposition": "auto",
         "type": "bar",
         "x": [
          "Rimmel Scandaleyes Eye Definer Brown"
         ],
         "xaxis": "x",
         "y": [
          "Ultramarines"
         ],
         "yaxis": "y"
        },
        {
         "alignmentgroup": "True",
         "hovertemplate": " Ingredients=%{y}<br>Product=%{x}<extra></extra>",
         "legendgroup": "Iron Oxides",
         "marker": {
          "color": "rgb(102,166,30)",
          "pattern": {
           "shape": ""
          }
         },
         "name": "Iron Oxides",
         "offsetgroup": "Iron Oxides",
         "orientation": "v",
         "showlegend": true,
         "textposition": "auto",
         "type": "bar",
         "x": [
          "Rimmel Scandaleyes Eye Definer Brown"
         ],
         "xaxis": "x",
         "y": [
          "Iron Oxides"
         ],
         "yaxis": "y"
        },
        {
         "alignmentgroup": "True",
         "hovertemplate": " Ingredients=%{y}<br>Product=%{x}<extra></extra>",
         "legendgroup": "Titanium Dioxide",
         "marker": {
          "color": "rgb(230,171,2)",
          "pattern": {
           "shape": ""
          }
         },
         "name": "Titanium Dioxide",
         "offsetgroup": "Titanium Dioxide",
         "orientation": "v",
         "showlegend": true,
         "textposition": "auto",
         "type": "bar",
         "x": [
          "Rimmel Scandaleyes Eye Definer Brown"
         ],
         "xaxis": "x",
         "y": [
          "Titanium Dioxide"
         ],
         "yaxis": "y"
        },
        {
         "alignmentgroup": "True",
         "hovertemplate": " Ingredients=%{y}<br>Product=%{x}<extra></extra>",
         "legendgroup": "Ferric Ferrocyanide",
         "marker": {
          "color": "rgb(166,118,29)",
          "pattern": {
           "shape": ""
          }
         },
         "name": "Ferric Ferrocyanide",
         "offsetgroup": "Ferric Ferrocyanide",
         "orientation": "v",
         "showlegend": true,
         "textposition": "auto",
         "type": "bar",
         "x": [
          "Rimmel Scandaleyes Eye Definer Brown"
         ],
         "xaxis": "x",
         "y": [
          "Ferric Ferrocyanide"
         ],
         "yaxis": "y"
        },
        {
         "alignmentgroup": "True",
         "hovertemplate": " Ingredients=%{y}<br>Product=%{x}<extra></extra>",
         "legendgroup": "Reconstituted Apple Juice",
         "marker": {
          "color": "rgb(102,102,102)",
          "pattern": {
           "shape": ""
          }
         },
         "name": "Reconstituted Apple Juice",
         "offsetgroup": "Reconstituted Apple Juice",
         "orientation": "v",
         "showlegend": true,
         "textposition": "auto",
         "type": "bar",
         "x": [
          "Woolworths Apple Juice",
          "Woolworths Apple & Mango Juice",
          "Woolworths Breakfast Juice",
          "Woolworths Apple & Blackcurrant Juice",
          "Woolworths Multivitamin Juice",
          "Golden Circle Golden Pash Fruit Drink",
          "Golden Circle Drinks Sunshine Punch Fruit Drink",
          "Golden Circle Fruit Drinks Lunch Box Poppers Tropical Punch Multipack"
         ],
         "xaxis": "x",
         "y": [
          "Reconstituted Apple Juice",
          "Reconstituted Apple Juice",
          "Reconstituted Apple Juice",
          "Reconstituted Apple Juice",
          "Reconstituted Apple Juice",
          "Reconstituted Apple Juice",
          "Reconstituted Apple Juice",
          "Reconstituted Apple Juice"
         ],
         "yaxis": "y"
        },
        {
         "alignmentgroup": "True",
         "hovertemplate": " Ingredients=%{y}<br>Product=%{x}<extra></extra>",
         "legendgroup": "Vitamin C",
         "marker": {
          "color": "rgb(228,26,28)",
          "pattern": {
           "shape": ""
          }
         },
         "name": "Vitamin C",
         "offsetgroup": "Vitamin C",
         "orientation": "v",
         "showlegend": true,
         "textposition": "auto",
         "type": "bar",
         "x": [
          "Woolworths Apple Juice",
          "Woolworths Apple & Mango Juice",
          "Woolworths Orange Juice",
          "Woolworths Breakfast Juice",
          "Woolworths Apple & Blackcurrant Juice",
          "Woolworths Multivitamin Juice",
          "Golden Circle Golden Pash Fruit Drink",
          "Golden Circle Drinks Pine Orange Fruit Drink",
          "Golden Circle Drinks Sunshine Punch Fruit Drink",
          "Golden Circle Fruit Drinks Lunch Box Poppers Tropical Punch Multipack"
         ],
         "xaxis": "x",
         "y": [
          "Vitamin C",
          "Vitamin C",
          "Vitamin C",
          "Vitamin C",
          "Vitamin C",
          "Vitamin C",
          "Vitamin C",
          "Vitamin C",
          "Vitamin C",
          "Vitamin C"
         ],
         "yaxis": "y"
        },
        {
         "alignmentgroup": "True",
         "hovertemplate": " Ingredients=%{y}<br>Product=%{x}<extra></extra>",
         "legendgroup": "Reconstituted Fruit Juice Pineapple",
         "marker": {
          "color": "rgb(55,126,184)",
          "pattern": {
           "shape": ""
          }
         },
         "name": "Reconstituted Fruit Juice Pineapple",
         "offsetgroup": "Reconstituted Fruit Juice Pineapple",
         "orientation": "v",
         "showlegend": true,
         "textposition": "auto",
         "type": "bar",
         "x": [
          "Woolworths Breakfast Juice",
          "Golden Circle Golden Pash Fruit Drink",
          "Golden Circle Drinks Pine Orange Fruit Drink",
          "Golden Circle Drinks Sunshine Punch Fruit Drink",
          "Golden Circle Fruit Drinks Lunch Box Poppers Tropical Punch Multipack"
         ],
         "xaxis": "x",
         "y": [
          "Reconstituted Fruit Juice Pineapple",
          "Reconstituted Fruit Juice Pineapple",
          "Reconstituted Fruit Juice Pineapple",
          "Reconstituted Fruit Juice Pineapple",
          "Reconstituted Fruit Juice Pineapple"
         ],
         "yaxis": "y"
        },
        {
         "alignmentgroup": "True",
         "hovertemplate": " Ingredients=%{y}<br>Product=%{x}<extra></extra>",
         "legendgroup": "Reconstituted Fruit Juice Passionfruit",
         "marker": {
          "color": "rgb(77,175,74)",
          "pattern": {
           "shape": ""
          }
         },
         "name": "Reconstituted Fruit Juice Passionfruit",
         "offsetgroup": "Reconstituted Fruit Juice Passionfruit",
         "orientation": "v",
         "showlegend": true,
         "textposition": "auto",
         "type": "bar",
         "x": [
          "Woolworths Breakfast Juice",
          "Woolworths Multivitamin Juice",
          "Golden Circle Golden Pash Fruit Drink",
          "Golden Circle Drinks Sunshine Punch Fruit Drink",
          "Golden Circle Fruit Drinks Lunch Box Poppers Tropical Punch Multipack"
         ],
         "xaxis": "x",
         "y": [
          "Reconstituted Fruit Juice Passionfruit",
          "Reconstituted Fruit Juice Passionfruit",
          "Reconstituted Fruit Juice Passionfruit",
          "Reconstituted Fruit Juice Passionfruit",
          "Reconstituted Fruit Juice Passionfruit"
         ],
         "yaxis": "y"
        },
        {
         "alignmentgroup": "True",
         "hovertemplate": " Ingredients=%{y}<br>Product=%{x}<extra></extra>",
         "legendgroup": "Carboxymethyl Cellulose",
         "marker": {
          "color": "rgb(152,78,163)",
          "pattern": {
           "shape": ""
          }
         },
         "name": "Carboxymethyl Cellulose",
         "offsetgroup": "Carboxymethyl Cellulose",
         "orientation": "v",
         "showlegend": true,
         "textposition": "auto",
         "type": "bar",
         "x": [
          "Woolworths Breakfast Juice"
         ],
         "xaxis": "x",
         "y": [
          "Carboxymethyl Cellulose"
         ],
         "yaxis": "y"
        },
        {
         "alignmentgroup": "True",
         "hovertemplate": " Ingredients=%{y}<br>Product=%{x}<extra></extra>",
         "legendgroup": "Reconstituted Fruit Juice Blackcurrant",
         "marker": {
          "color": "rgb(255,127,0)",
          "pattern": {
           "shape": ""
          }
         },
         "name": "Reconstituted Fruit Juice Blackcurrant",
         "offsetgroup": "Reconstituted Fruit Juice Blackcurrant",
         "orientation": "v",
         "showlegend": true,
         "textposition": "auto",
         "type": "bar",
         "x": [
          "Woolworths Apple & Blackcurrant Juice"
         ],
         "xaxis": "x",
         "y": [
          "Reconstituted Fruit Juice Blackcurrant"
         ],
         "yaxis": "y"
        },
        {
         "alignmentgroup": "True",
         "hovertemplate": " Ingredients=%{y}<br>Product=%{x}<extra></extra>",
         "legendgroup": "Anthocyanins",
         "marker": {
          "color": "rgb(255,255,51)",
          "pattern": {
           "shape": ""
          }
         },
         "name": "Anthocyanins",
         "offsetgroup": "Anthocyanins",
         "orientation": "v",
         "showlegend": true,
         "textposition": "auto",
         "type": "bar",
         "x": [
          "Woolworths Apple & Blackcurrant Juice"
         ],
         "xaxis": "x",
         "y": [
          "Anthocyanins"
         ],
         "yaxis": "y"
        },
        {
         "alignmentgroup": "True",
         "hovertemplate": " Ingredients=%{y}<br>Product=%{x}<extra></extra>",
         "legendgroup": "Reconstituted Fruit Juice Grape",
         "marker": {
          "color": "rgb(166,86,40)",
          "pattern": {
           "shape": ""
          }
         },
         "name": "Reconstituted Fruit Juice Grape",
         "offsetgroup": "Reconstituted Fruit Juice Grape",
         "orientation": "v",
         "showlegend": true,
         "textposition": "auto",
         "type": "bar",
         "x": [
          "Woolworths Multivitamin Juice"
         ],
         "xaxis": "x",
         "y": [
          "Reconstituted Fruit Juice Grape"
         ],
         "yaxis": "y"
        },
        {
         "alignmentgroup": "True",
         "hovertemplate": " Ingredients=%{y}<br>Product=%{x}<extra></extra>",
         "legendgroup": "Reconstituted Fruit Juice Apricot",
         "marker": {
          "color": "rgb(247,129,191)",
          "pattern": {
           "shape": ""
          }
         },
         "name": "Reconstituted Fruit Juice Apricot",
         "offsetgroup": "Reconstituted Fruit Juice Apricot",
         "orientation": "v",
         "showlegend": true,
         "textposition": "auto",
         "type": "bar",
         "x": [
          "Woolworths Multivitamin Juice"
         ],
         "xaxis": "x",
         "y": [
          "Reconstituted Fruit Juice Apricot"
         ],
         "yaxis": "y"
        },
        {
         "alignmentgroup": "True",
         "hovertemplate": " Ingredients=%{y}<br>Product=%{x}<extra></extra>",
         "legendgroup": "Reconstituted Fruit Juice Peach",
         "marker": {
          "color": "rgb(153,153,153)",
          "pattern": {
           "shape": ""
          }
         },
         "name": "Reconstituted Fruit Juice Peach",
         "offsetgroup": "Reconstituted Fruit Juice Peach",
         "orientation": "v",
         "showlegend": true,
         "textposition": "auto",
         "type": "bar",
         "x": [
          "Woolworths Multivitamin Juice"
         ],
         "xaxis": "x",
         "y": [
          "Reconstituted Fruit Juice Peach"
         ],
         "yaxis": "y"
        },
        {
         "alignmentgroup": "True",
         "hovertemplate": " Ingredients=%{y}<br>Product=%{x}<extra></extra>",
         "legendgroup": "Reconstituted Fruit Juice Pear",
         "marker": {
          "color": "#AA0DFE",
          "pattern": {
           "shape": ""
          }
         },
         "name": "Reconstituted Fruit Juice Pear",
         "offsetgroup": "Reconstituted Fruit Juice Pear",
         "orientation": "v",
         "showlegend": true,
         "textposition": "auto",
         "type": "bar",
         "x": [
          "Woolworths Multivitamin Juice",
          "Golden Circle Golden Pash Fruit Drink",
          "Golden Circle Drinks Sunshine Punch Fruit Drink",
          "Golden Circle Fruit Drinks Lunch Box Poppers Tropical Punch Multipack"
         ],
         "xaxis": "x",
         "y": [
          "Reconstituted Fruit Juice Pear",
          "Reconstituted Fruit Juice Pear",
          "Reconstituted Fruit Juice Pear",
          "Reconstituted Fruit Juice Pear"
         ],
         "yaxis": "y"
        },
        {
         "alignmentgroup": "True",
         "hovertemplate": " Ingredients=%{y}<br>Product=%{x}<extra></extra>",
         "legendgroup": "Guava Puree",
         "marker": {
          "color": "#3283FE",
          "pattern": {
           "shape": ""
          }
         },
         "name": "Guava Puree",
         "offsetgroup": "Guava Puree",
         "orientation": "v",
         "showlegend": true,
         "textposition": "auto",
         "type": "bar",
         "x": [
          "Woolworths Multivitamin Juice"
         ],
         "xaxis": "x",
         "y": [
          "Guava Puree"
         ],
         "yaxis": "y"
        },
        {
         "alignmentgroup": "True",
         "hovertemplate": " Ingredients=%{y}<br>Product=%{x}<extra></extra>",
         "legendgroup": "Vitamin A",
         "marker": {
          "color": "#85660D",
          "pattern": {
           "shape": ""
          }
         },
         "name": "Vitamin A",
         "offsetgroup": "Vitamin A",
         "orientation": "v",
         "showlegend": true,
         "textposition": "auto",
         "type": "bar",
         "x": [
          "Woolworths Multivitamin Juice"
         ],
         "xaxis": "x",
         "y": [
          "Vitamin A"
         ],
         "yaxis": "y"
        },
        {
         "alignmentgroup": "True",
         "hovertemplate": " Ingredients=%{y}<br>Product=%{x}<extra></extra>",
         "legendgroup": "Potassium Citrate",
         "marker": {
          "color": "#782AB6",
          "pattern": {
           "shape": ""
          }
         },
         "name": "Potassium Citrate",
         "offsetgroup": "Potassium Citrate",
         "orientation": "v",
         "showlegend": true,
         "textposition": "auto",
         "type": "bar",
         "x": [
          "Golden Circle Golden Pash Fruit Drink",
          "Golden Circle Drinks Sunshine Punch Fruit Drink",
          "Golden Circle Fruit Drinks Lunch Box Poppers Tropical Punch Multipack",
          "Woolworths Peach In Strawberry Jelly",
          "Woolworths Two Fruits In Tropical Jelly",
          "Woolworths Apple In Pineapple Jelly"
         ],
         "xaxis": "x",
         "y": [
          "Potassium Citrate",
          "Potassium Citrate",
          "Potassium Citrate",
          "Potassium Citrate",
          "Potassium Citrate",
          "Potassium Citrate"
         ],
         "yaxis": "y"
        },
        {
         "alignmentgroup": "True",
         "hovertemplate": " Ingredients=%{y}<br>Product=%{x}<extra></extra>",
         "legendgroup": "Pectin",
         "marker": {
          "color": "#565656",
          "pattern": {
           "shape": ""
          }
         },
         "name": "Pectin",
         "offsetgroup": "Pectin",
         "orientation": "v",
         "showlegend": true,
         "textposition": "auto",
         "type": "bar",
         "x": [
          "Golden Circle Drinks Pine Orange Fruit Drink",
          "Golden Circle Drinks Sunshine Punch Fruit Drink",
          "Masterfoods Barbecue Sauce"
         ],
         "xaxis": "x",
         "y": [
          "Pectin",
          "Pectin",
          "Pectin"
         ],
         "yaxis": "y"
        },
        {
         "alignmentgroup": "True",
         "hovertemplate": " Ingredients=%{y}<br>Product=%{x}<extra></extra>",
         "legendgroup": "Reconstituted Fruit Juice Water Extracted Orange",
         "marker": {
          "color": "#1C8356",
          "pattern": {
           "shape": ""
          }
         },
         "name": "Reconstituted Fruit Juice Water Extracted Orange",
         "offsetgroup": "Reconstituted Fruit Juice Water Extracted Orange",
         "orientation": "v",
         "showlegend": true,
         "textposition": "auto",
         "type": "bar",
         "x": [
          "Golden Circle Drinks Sunshine Punch Fruit Drink"
         ],
         "xaxis": "x",
         "y": [
          "Reconstituted Fruit Juice Water Extracted Orange"
         ],
         "yaxis": "y"
        },
        {
         "alignmentgroup": "True",
         "hovertemplate": " Ingredients=%{y}<br>Product=%{x}<extra></extra>",
         "legendgroup": "Reconstituted Fruit Juice Peach Purée",
         "marker": {
          "color": "#16FF32",
          "pattern": {
           "shape": ""
          }
         },
         "name": "Reconstituted Fruit Juice Peach Purée",
         "offsetgroup": "Reconstituted Fruit Juice Peach Purée",
         "orientation": "v",
         "showlegend": true,
         "textposition": "auto",
         "type": "bar",
         "x": [
          "Golden Circle Drinks Sunshine Punch Fruit Drink",
          "Golden Circle Fruit Drinks Lunch Box Poppers Tropical Punch Multipack"
         ],
         "xaxis": "x",
         "y": [
          "Reconstituted Fruit Juice Peach Purée",
          "Reconstituted Fruit Juice Peach Purée"
         ],
         "yaxis": "y"
        },
        {
         "alignmentgroup": "True",
         "hovertemplate": " Ingredients=%{y}<br>Product=%{x}<extra></extra>",
         "legendgroup": "Pasteurised Homogenised Milk",
         "marker": {
          "color": "#F7E1A0",
          "pattern": {
           "shape": ""
          }
         },
         "name": "Pasteurised Homogenised Milk",
         "offsetgroup": "Pasteurised Homogenised Milk",
         "orientation": "v",
         "showlegend": true,
         "textposition": "auto",
         "type": "bar",
         "x": [
          "Norco Full Cream Milk"
         ],
         "xaxis": "x",
         "y": [
          "Pasteurised Homogenised Milk"
         ],
         "yaxis": "y"
        },
        {
         "alignmentgroup": "True",
         "hovertemplate": " Ingredients=%{y}<br>Product=%{x}<extra></extra>",
         "legendgroup": "Cream",
         "marker": {
          "color": "#E2E2E2",
          "pattern": {
           "shape": ""
          }
         },
         "name": "Cream",
         "offsetgroup": "Cream",
         "orientation": "v",
         "showlegend": true,
         "textposition": "auto",
         "type": "bar",
         "x": [
          "Pauls Farmhouse Gold Full Cream Milk"
         ],
         "xaxis": "x",
         "y": [
          "Cream"
         ],
         "yaxis": "y"
        },
        {
         "alignmentgroup": "True",
         "hovertemplate": " Ingredients=%{y}<br>Product=%{x}<extra></extra>",
         "legendgroup": "Fructose",
         "marker": {
          "color": "#1CBE4F",
          "pattern": {
           "shape": ""
          }
         },
         "name": "Fructose",
         "offsetgroup": "Fructose",
         "orientation": "v",
         "showlegend": true,
         "textposition": "auto",
         "type": "bar",
         "x": [
          "Oreo Grab & Go Original Cookies 9 Pack"
         ],
         "xaxis": "x",
         "y": [
          "Fructose"
         ],
         "yaxis": "y"
        },
        {
         "alignmentgroup": "True",
         "hovertemplate": " Ingredients=%{y}<br>Product=%{x}<extra></extra>",
         "legendgroup": "Syrup",
         "marker": {
          "color": "#C4451C",
          "pattern": {
           "shape": ""
          }
         },
         "name": "Syrup",
         "offsetgroup": "Syrup",
         "orientation": "v",
         "showlegend": true,
         "textposition": "auto",
         "type": "bar",
         "x": [
          "Oreo Grab & Go Original Cookies 9 Pack"
         ],
         "xaxis": "x",
         "y": [
          "Syrup"
         ],
         "yaxis": "y"
        },
        {
         "alignmentgroup": "True",
         "hovertemplate": " Ingredients=%{y}<br>Product=%{x}<extra></extra>",
         "legendgroup": "Tomato Juice",
         "marker": {
          "color": "#DEA0FD",
          "pattern": {
           "shape": ""
          }
         },
         "name": "Tomato Juice",
         "offsetgroup": "Tomato Juice",
         "orientation": "v",
         "showlegend": true,
         "textposition": "auto",
         "type": "bar",
         "x": [
          "Woolworths Diced Italian Tomatoes",
          "Woolworths Diced Italian Tomatoes"
         ],
         "xaxis": "x",
         "y": [
          "Tomato Juice",
          "Tomato Juice"
         ],
         "yaxis": "y"
        },
        {
         "alignmentgroup": "True",
         "hovertemplate": " Ingredients=%{y}<br>Product=%{x}<extra></extra>",
         "legendgroup": "Tomatoes",
         "marker": {
          "color": "#FE00FA",
          "pattern": {
           "shape": ""
          }
         },
         "name": "Tomatoes",
         "offsetgroup": "Tomatoes",
         "orientation": "v",
         "showlegend": true,
         "textposition": "auto",
         "type": "bar",
         "x": [
          "Woolworths Diced Italian Tomatoes",
          "Woolworths Diced Italian Tomatoes",
          "Masterfoods Barbecue Sauce",
          "Fountain Barbecue Bbq Sauce Squeeze",
          "Heinz Ketchup Tomato Sauce Ketchup"
         ],
         "xaxis": "x",
         "y": [
          "Tomatoes",
          "Tomatoes",
          "Tomatoes",
          "Tomatoes",
          "Tomatoes"
         ],
         "yaxis": "y"
        },
        {
         "alignmentgroup": "True",
         "hovertemplate": " Ingredients=%{y}<br>Product=%{x}<extra></extra>",
         "legendgroup": "Durum Wheat Semolina",
         "marker": {
          "color": "#325A9B",
          "pattern": {
           "shape": ""
          }
         },
         "name": "Durum Wheat Semolina",
         "offsetgroup": "Durum Wheat Semolina",
         "orientation": "v",
         "showlegend": true,
         "textposition": "auto",
         "type": "bar",
         "x": [
          "Woolworths Lasagne Sheets"
         ],
         "xaxis": "x",
         "y": [
          "Durum Wheat Semolina"
         ],
         "yaxis": "y"
        },
        {
         "alignmentgroup": "True",
         "hovertemplate": " Ingredients=%{y}<br>Product=%{x}<extra></extra>",
         "legendgroup": "Coconut Extract",
         "marker": {
          "color": "#FEAF16",
          "pattern": {
           "shape": ""
          }
         },
         "name": "Coconut Extract",
         "offsetgroup": "Coconut Extract",
         "orientation": "v",
         "showlegend": true,
         "textposition": "auto",
         "type": "bar",
         "x": [
          "Essentials Coconut Cream",
          "Essentials Coconut Milk"
         ],
         "xaxis": "x",
         "y": [
          "Coconut Extract",
          "Coconut Extract"
         ],
         "yaxis": "y"
        },
        {
         "alignmentgroup": "True",
         "hovertemplate": " Ingredients=%{y}<br>Product=%{x}<extra></extra>",
         "legendgroup": "Homogenised Full Cream Milk",
         "marker": {
          "color": "#F8A19F",
          "pattern": {
           "shape": ""
          }
         },
         "name": "Homogenised Full Cream Milk",
         "offsetgroup": "Homogenised Full Cream Milk",
         "orientation": "v",
         "showlegend": true,
         "textposition": "auto",
         "type": "bar",
         "x": [
          "Woolworths Uht Full Cream Milk"
         ],
         "xaxis": "x",
         "y": [
          "Homogenised Full Cream Milk"
         ],
         "yaxis": "y"
        },
        {
         "alignmentgroup": "True",
         "hovertemplate": " Ingredients=%{y}<br>Product=%{x}<extra></extra>",
         "legendgroup": "Sardines",
         "marker": {
          "color": "#90AD1C",
          "pattern": {
           "shape": ""
          }
         },
         "name": "Sardines",
         "offsetgroup": "Sardines",
         "orientation": "v",
         "showlegend": true,
         "textposition": "auto",
         "type": "bar",
         "x": [
          "Deep Cove Sardines In Oil"
         ],
         "xaxis": "x",
         "y": [
          "Sardines"
         ],
         "yaxis": "y"
        },
        {
         "alignmentgroup": "True",
         "hovertemplate": " Ingredients=%{y}<br>Product=%{x}<extra></extra>",
         "legendgroup": "Rice",
         "marker": {
          "color": "#F6222E",
          "pattern": {
           "shape": ""
          }
         },
         "name": "Rice",
         "offsetgroup": "Rice",
         "orientation": "v",
         "showlegend": true,
         "textposition": "auto",
         "type": "bar",
         "x": [
          "Woolworths Creamed Rice"
         ],
         "xaxis": "x",
         "y": [
          "Rice"
         ],
         "yaxis": "y"
        },
        {
         "alignmentgroup": "True",
         "hovertemplate": " Ingredients=%{y}<br>Product=%{x}<extra></extra>",
         "legendgroup": "Skim Milk",
         "marker": {
          "color": "#1CFFCE",
          "pattern": {
           "shape": ""
          }
         },
         "name": "Skim Milk",
         "offsetgroup": "Skim Milk",
         "orientation": "v",
         "showlegend": true,
         "textposition": "auto",
         "type": "bar",
         "x": [
          "Woolworths Creamed Rice"
         ],
         "xaxis": "x",
         "y": [
          "Skim Milk"
         ],
         "yaxis": "y"
        },
        {
         "alignmentgroup": "True",
         "hovertemplate": " Ingredients=%{y}<br>Product=%{x}<extra></extra>",
         "legendgroup": "Acidity Regulator 339",
         "marker": {
          "color": "#2ED9FF",
          "pattern": {
           "shape": ""
          }
         },
         "name": "Acidity Regulator 339",
         "offsetgroup": "Acidity Regulator 339",
         "orientation": "v",
         "showlegend": true,
         "textposition": "auto",
         "type": "bar",
         "x": [
          "Woolworths Creamed Rice"
         ],
         "xaxis": "x",
         "y": [
          "Acidity Regulator 339"
         ],
         "yaxis": "y"
        },
        {
         "alignmentgroup": "True",
         "hovertemplate": " Ingredients=%{y}<br>Product=%{x}<extra></extra>",
         "legendgroup": "Reconstituted Tomato Puree",
         "marker": {
          "color": "#B10DA1",
          "pattern": {
           "shape": ""
          }
         },
         "name": "Reconstituted Tomato Puree",
         "offsetgroup": "Reconstituted Tomato Puree",
         "orientation": "v",
         "showlegend": true,
         "textposition": "auto",
         "type": "bar",
         "x": [
          "Woolworths Tomato Sauce Squeeze",
          "Woolworths Tomato Sauce"
         ],
         "xaxis": "x",
         "y": [
          "Reconstituted Tomato Puree",
          "Reconstituted Tomato Puree"
         ],
         "yaxis": "y"
        },
        {
         "alignmentgroup": "True",
         "hovertemplate": " Ingredients=%{y}<br>Product=%{x}<extra></extra>",
         "legendgroup": "Thickener Modified Corn Starch",
         "marker": {
          "color": "#C075A6",
          "pattern": {
           "shape": ""
          }
         },
         "name": "Thickener Modified Corn Starch",
         "offsetgroup": "Thickener Modified Corn Starch",
         "orientation": "v",
         "showlegend": true,
         "textposition": "auto",
         "type": "bar",
         "x": [
          "Woolworths Tomato Sauce Squeeze",
          "Woolworths Tomato Sauce",
          "Woolworths Barbecue Sauce Squeeze",
          "Woolworths Barbecue Sauce"
         ],
         "xaxis": "x",
         "y": [
          "Thickener Modified Corn Starch",
          "Thickener Modified Corn Starch",
          "Thickener Modified Corn Starch",
          "Thickener Modified Corn Starch"
         ],
         "yaxis": "y"
        },
        {
         "alignmentgroup": "True",
         "hovertemplate": " Ingredients=%{y}<br>Product=%{x}<extra></extra>",
         "legendgroup": "Spice Extract",
         "marker": {
          "color": "#FC1CBF",
          "pattern": {
           "shape": ""
          }
         },
         "name": "Spice Extract",
         "offsetgroup": "Spice Extract",
         "orientation": "v",
         "showlegend": true,
         "textposition": "auto",
         "type": "bar",
         "x": [
          "Woolworths Tomato Sauce Squeeze",
          "Woolworths Tomato Sauce",
          "Masterfoods Tomato Sauce"
         ],
         "xaxis": "x",
         "y": [
          "Spice Extract",
          "Spice Extract",
          "Spice Extract"
         ],
         "yaxis": "y"
        },
        {
         "alignmentgroup": "True",
         "hovertemplate": " Ingredients=%{y}<br>Product=%{x}<extra></extra>",
         "legendgroup": "Reconstituted Fruit Puree",
         "marker": {
          "color": "#B00068",
          "pattern": {
           "shape": ""
          }
         },
         "name": "Reconstituted Fruit Puree",
         "offsetgroup": "Reconstituted Fruit Puree",
         "orientation": "v",
         "showlegend": true,
         "textposition": "auto",
         "type": "bar",
         "x": [
          "Woolworths Barbecue Sauce Squeeze"
         ],
         "xaxis": "x",
         "y": [
          "Reconstituted Fruit Puree"
         ],
         "yaxis": "y"
        },
        {
         "alignmentgroup": "True",
         "hovertemplate": " Ingredients=%{y}<br>Product=%{x}<extra></extra>",
         "legendgroup": "Apple Pulp",
         "marker": {
          "color": "#FBE426",
          "pattern": {
           "shape": ""
          }
         },
         "name": "Apple Pulp",
         "offsetgroup": "Apple Pulp",
         "orientation": "v",
         "showlegend": true,
         "textposition": "auto",
         "type": "bar",
         "x": [
          "Woolworths Barbecue Sauce Squeeze"
         ],
         "xaxis": "x",
         "y": [
          "Apple Pulp"
         ],
         "yaxis": "y"
        },
        {
         "alignmentgroup": "True",
         "hovertemplate": " Ingredients=%{y}<br>Product=%{x}<extra></extra>",
         "legendgroup": "Tomato Paste",
         "marker": {
          "color": "#FA0087",
          "pattern": {
           "shape": ""
          }
         },
         "name": "Tomato Paste",
         "offsetgroup": "Tomato Paste",
         "orientation": "v",
         "showlegend": true,
         "textposition": "auto",
         "type": "bar",
         "x": [
          "Woolworths Barbecue Sauce Squeeze",
          "Masterfoods Tomato Sauce"
         ],
         "xaxis": "x",
         "y": [
          "Tomato Paste",
          "Tomato Paste"
         ],
         "yaxis": "y"
        },
        {
         "alignmentgroup": "True",
         "hovertemplate": " Ingredients=%{y}<br>Product=%{x}<extra></extra>",
         "legendgroup": "Molasses",
         "marker": {
          "color": "rgb(27,158,119)",
          "pattern": {
           "shape": ""
          }
         },
         "name": "Molasses",
         "offsetgroup": "Molasses",
         "orientation": "v",
         "showlegend": true,
         "textposition": "auto",
         "type": "bar",
         "x": [
          "Woolworths Barbecue Sauce Squeeze",
          "Fountain Barbecue Bbq Sauce Squeeze",
          "Woolworths Barbecue Sauce"
         ],
         "xaxis": "x",
         "y": [
          "Molasses",
          "Molasses",
          "Molasses"
         ],
         "yaxis": "y"
        },
        {
         "alignmentgroup": "True",
         "hovertemplate": " Ingredients=%{y}<br>Product=%{x}<extra></extra>",
         "legendgroup": "Caramel I",
         "marker": {
          "color": "rgb(217,95,2)",
          "pattern": {
           "shape": ""
          }
         },
         "name": "Caramel I",
         "offsetgroup": "Caramel I",
         "orientation": "v",
         "showlegend": true,
         "textposition": "auto",
         "type": "bar",
         "x": [
          "Woolworths Barbecue Sauce Squeeze",
          "Woolworths Barbecue Sauce"
         ],
         "xaxis": "x",
         "y": [
          "Caramel I",
          "Caramel I"
         ],
         "yaxis": "y"
        },
        {
         "alignmentgroup": "True",
         "hovertemplate": " Ingredients=%{y}<br>Product=%{x}<extra></extra>",
         "legendgroup": "Smoke Flavour",
         "marker": {
          "color": "rgb(117,112,179)",
          "pattern": {
           "shape": ""
          }
         },
         "name": "Smoke Flavour",
         "offsetgroup": "Smoke Flavour",
         "orientation": "v",
         "showlegend": true,
         "textposition": "auto",
         "type": "bar",
         "x": [
          "Woolworths Barbecue Sauce Squeeze",
          "Woolworths Barbecue Sauce"
         ],
         "xaxis": "x",
         "y": [
          "Smoke Flavour",
          "Smoke Flavour"
         ],
         "yaxis": "y"
        },
        {
         "alignmentgroup": "True",
         "hovertemplate": " Ingredients=%{y}<br>Product=%{x}<extra></extra>",
         "legendgroup": "Xanthan Gum",
         "marker": {
          "color": "rgb(231,41,138)",
          "pattern": {
           "shape": ""
          }
         },
         "name": "Xanthan Gum",
         "offsetgroup": "Xanthan Gum",
         "orientation": "v",
         "showlegend": true,
         "textposition": "auto",
         "type": "bar",
         "x": [
          "Woolworths Barbecue Sauce Squeeze",
          "Fountain Barbecue Bbq Sauce Squeeze",
          "Woolworths Secret Burger Sauce",
          "Woolworths Barbecue Sauce",
          "Woolworths Peach In Strawberry Jelly",
          "Woolworths Two Fruits In Tropical Jelly",
          "Woolworths Apple In Pineapple Jelly"
         ],
         "xaxis": "x",
         "y": [
          "Xanthan Gum",
          "Xanthan Gum",
          "Xanthan Gum",
          "Xanthan Gum",
          "Xanthan Gum",
          "Xanthan Gum",
          "Xanthan Gum"
         ],
         "yaxis": "y"
        },
        {
         "alignmentgroup": "True",
         "hovertemplate": " Ingredients=%{y}<br>Product=%{x}<extra></extra>",
         "legendgroup": "Wheat Cornflour",
         "marker": {
          "color": "rgb(102,166,30)",
          "pattern": {
           "shape": ""
          }
         },
         "name": "Wheat Cornflour",
         "offsetgroup": "Wheat Cornflour",
         "orientation": "v",
         "showlegend": true,
         "textposition": "auto",
         "type": "bar",
         "x": [
          "Masterfoods Barbecue Sauce"
         ],
         "xaxis": "x",
         "y": [
          "Wheat Cornflour"
         ],
         "yaxis": "y"
        },
        {
         "alignmentgroup": "True",
         "hovertemplate": " Ingredients=%{y}<br>Product=%{x}<extra></extra>",
         "legendgroup": "Caramel Color 150c",
         "marker": {
          "color": "rgb(230,171,2)",
          "pattern": {
           "shape": ""
          }
         },
         "name": "Caramel Color 150c",
         "offsetgroup": "Caramel Color 150c",
         "orientation": "v",
         "showlegend": true,
         "textposition": "auto",
         "type": "bar",
         "x": [
          "Masterfoods Barbecue Sauce"
         ],
         "xaxis": "x",
         "y": [
          "Caramel Color 150c"
         ],
         "yaxis": "y"
        },
        {
         "alignmentgroup": "True",
         "hovertemplate": " Ingredients=%{y}<br>Product=%{x}<extra></extra>",
         "legendgroup": "Tamarind Paste",
         "marker": {
          "color": "rgb(166,118,29)",
          "pattern": {
           "shape": ""
          }
         },
         "name": "Tamarind Paste",
         "offsetgroup": "Tamarind Paste",
         "orientation": "v",
         "showlegend": true,
         "textposition": "auto",
         "type": "bar",
         "x": [
          "Masterfoods Barbecue Sauce"
         ],
         "xaxis": "x",
         "y": [
          "Tamarind Paste"
         ],
         "yaxis": "y"
        },
        {
         "alignmentgroup": "True",
         "hovertemplate": " Ingredients=%{y}<br>Product=%{x}<extra></extra>",
         "legendgroup": "Clove",
         "marker": {
          "color": "rgb(102,102,102)",
          "pattern": {
           "shape": ""
          }
         },
         "name": "Clove",
         "offsetgroup": "Clove",
         "orientation": "v",
         "showlegend": true,
         "textposition": "auto",
         "type": "bar",
         "x": [
          "Masterfoods Barbecue Sauce"
         ],
         "xaxis": "x",
         "y": [
          "Clove"
         ],
         "yaxis": "y"
        },
        {
         "alignmentgroup": "True",
         "hovertemplate": " Ingredients=%{y}<br>Product=%{x}<extra></extra>",
         "legendgroup": "Nutmeg",
         "marker": {
          "color": "rgb(228,26,28)",
          "pattern": {
           "shape": ""
          }
         },
         "name": "Nutmeg",
         "offsetgroup": "Nutmeg",
         "orientation": "v",
         "showlegend": true,
         "textposition": "auto",
         "type": "bar",
         "x": [
          "Masterfoods Barbecue Sauce"
         ],
         "xaxis": "x",
         "y": [
          "Nutmeg"
         ],
         "yaxis": "y"
        },
        {
         "alignmentgroup": "True",
         "hovertemplate": " Ingredients=%{y}<br>Product=%{x}<extra></extra>",
         "legendgroup": "Tomato Puree",
         "marker": {
          "color": "rgb(55,126,184)",
          "pattern": {
           "shape": ""
          }
         },
         "name": "Tomato Puree",
         "offsetgroup": "Tomato Puree",
         "orientation": "v",
         "showlegend": true,
         "textposition": "auto",
         "type": "bar",
         "x": [
          "Fountain Tomato Sauce Squeeze"
         ],
         "xaxis": "x",
         "y": [
          "Tomato Puree"
         ],
         "yaxis": "y"
        },
        {
         "alignmentgroup": "True",
         "hovertemplate": " Ingredients=%{y}<br>Product=%{x}<extra></extra>",
         "legendgroup": "Maize Thickener 1422",
         "marker": {
          "color": "rgb(77,175,74)",
          "pattern": {
           "shape": ""
          }
         },
         "name": "Maize Thickener 1422",
         "offsetgroup": "Maize Thickener 1422",
         "orientation": "v",
         "showlegend": true,
         "textposition": "auto",
         "type": "bar",
         "x": [
          "Fountain Barbecue Bbq Sauce Squeeze"
         ],
         "xaxis": "x",
         "y": [
          "Maize Thickener 1422"
         ],
         "yaxis": "y"
        },
        {
         "alignmentgroup": "True",
         "hovertemplate": " Ingredients=%{y}<br>Product=%{x}<extra></extra>",
         "legendgroup": "Maize Maltodextrin",
         "marker": {
          "color": "rgb(152,78,163)",
          "pattern": {
           "shape": ""
          }
         },
         "name": "Maize Maltodextrin",
         "offsetgroup": "Maize Maltodextrin",
         "orientation": "v",
         "showlegend": true,
         "textposition": "auto",
         "type": "bar",
         "x": [
          "Fountain Barbecue Bbq Sauce Squeeze"
         ],
         "xaxis": "x",
         "y": [
          "Maize Maltodextrin"
         ],
         "yaxis": "y"
        },
        {
         "alignmentgroup": "True",
         "hovertemplate": " Ingredients=%{y}<br>Product=%{x}<extra></extra>",
         "legendgroup": "Canola Oil",
         "marker": {
          "color": "rgb(255,127,0)",
          "pattern": {
           "shape": ""
          }
         },
         "name": "Canola Oil",
         "offsetgroup": "Canola Oil",
         "orientation": "v",
         "showlegend": true,
         "textposition": "auto",
         "type": "bar",
         "x": [
          "Woolworths Secret Burger Sauce",
          "Smith's Crinkle Cut Potato Chips Original",
          "Smith's Crinkle Cut Potato Chips Cheese & Onion",
          "Smith's Crinkle Cut Potato Chips Barbecue",
          "Smith's Crinkle Cut Potato Chips Chicken",
          "Smith's Thinly Cut Potato Chips Original Share Pack",
          "Smith's Crinkle Cut Potato Chips Salt & Vinegar"
         ],
         "xaxis": "x",
         "y": [
          "Canola Oil",
          "Canola Oil",
          "Canola Oil",
          "Canola Oil",
          "Canola Oil",
          "Canola Oil",
          "Canola Oil"
         ],
         "yaxis": "y"
        },
        {
         "alignmentgroup": "True",
         "hovertemplate": " Ingredients=%{y}<br>Product=%{x}<extra></extra>",
         "legendgroup": "Vinegar",
         "marker": {
          "color": "rgb(255,255,51)",
          "pattern": {
           "shape": ""
          }
         },
         "name": "Vinegar",
         "offsetgroup": "Vinegar",
         "orientation": "v",
         "showlegend": true,
         "textposition": "auto",
         "type": "bar",
         "x": [
          "Woolworths Secret Burger Sauce"
         ],
         "xaxis": "x",
         "y": [
          "Vinegar"
         ],
         "yaxis": "y"
        },
        {
         "alignmentgroup": "True",
         "hovertemplate": " Ingredients=%{y}<br>Product=%{x}<extra></extra>",
         "legendgroup": "Free Range Egg Yolk",
         "marker": {
          "color": "rgb(166,86,40)",
          "pattern": {
           "shape": ""
          }
         },
         "name": "Free Range Egg Yolk",
         "offsetgroup": "Free Range Egg Yolk",
         "orientation": "v",
         "showlegend": true,
         "textposition": "auto",
         "type": "bar",
         "x": [
          "Woolworths Secret Burger Sauce"
         ],
         "xaxis": "x",
         "y": [
          "Free Range Egg Yolk"
         ],
         "yaxis": "y"
        },
        {
         "alignmentgroup": "True",
         "hovertemplate": " Ingredients=%{y}<br>Product=%{x}<extra></extra>",
         "legendgroup": "Gherkin",
         "marker": {
          "color": "rgb(247,129,191)",
          "pattern": {
           "shape": ""
          }
         },
         "name": "Gherkin",
         "offsetgroup": "Gherkin",
         "orientation": "v",
         "showlegend": true,
         "textposition": "auto",
         "type": "bar",
         "x": [
          "Woolworths Secret Burger Sauce"
         ],
         "xaxis": "x",
         "y": [
          "Gherkin"
         ],
         "yaxis": "y"
        },
        {
         "alignmentgroup": "True",
         "hovertemplate": " Ingredients=%{y}<br>Product=%{x}<extra></extra>",
         "legendgroup": "Carotene",
         "marker": {
          "color": "rgb(153,153,153)",
          "pattern": {
           "shape": ""
          }
         },
         "name": "Carotene",
         "offsetgroup": "Carotene",
         "orientation": "v",
         "showlegend": true,
         "textposition": "auto",
         "type": "bar",
         "x": [
          "Woolworths Secret Burger Sauce",
          "Woolworths Two Fruits In Tropical Jelly",
          "Woolworths Apple In Pineapple Jelly"
         ],
         "xaxis": "x",
         "y": [
          "Carotene",
          "Carotene",
          "Carotene"
         ],
         "yaxis": "y"
        },
        {
         "alignmentgroup": "True",
         "hovertemplate": " Ingredients=%{y}<br>Product=%{x}<extra></extra>",
         "legendgroup": "Paprika Oleoresins",
         "marker": {
          "color": "#AA0DFE",
          "pattern": {
           "shape": ""
          }
         },
         "name": "Paprika Oleoresins",
         "offsetgroup": "Paprika Oleoresins",
         "orientation": "v",
         "showlegend": true,
         "textposition": "auto",
         "type": "bar",
         "x": [
          "Woolworths Secret Burger Sauce",
          "Woolworths Two Fruits In Tropical Jelly"
         ],
         "xaxis": "x",
         "y": [
          "Paprika Oleoresins",
          "Paprika Oleoresins"
         ],
         "yaxis": "y"
        },
        {
         "alignmentgroup": "True",
         "hovertemplate": " Ingredients=%{y}<br>Product=%{x}<extra></extra>",
         "legendgroup": "Dill",
         "marker": {
          "color": "#3283FE",
          "pattern": {
           "shape": ""
          }
         },
         "name": "Dill",
         "offsetgroup": "Dill",
         "orientation": "v",
         "showlegend": true,
         "textposition": "auto",
         "type": "bar",
         "x": [
          "Woolworths Secret Burger Sauce"
         ],
         "xaxis": "x",
         "y": [
          "Dill"
         ],
         "yaxis": "y"
        },
        {
         "alignmentgroup": "True",
         "hovertemplate": " Ingredients=%{y}<br>Product=%{x}<extra></extra>",
         "legendgroup": "Herb Extract",
         "marker": {
          "color": "#85660D",
          "pattern": {
           "shape": ""
          }
         },
         "name": "Herb Extract",
         "offsetgroup": "Herb Extract",
         "orientation": "v",
         "showlegend": true,
         "textposition": "auto",
         "type": "bar",
         "x": [
          "Woolworths Secret Burger Sauce"
         ],
         "xaxis": "x",
         "y": [
          "Herb Extract"
         ],
         "yaxis": "y"
        },
        {
         "alignmentgroup": "True",
         "hovertemplate": " Ingredients=%{y}<br>Product=%{x}<extra></extra>",
         "legendgroup": "Mustard Oil",
         "marker": {
          "color": "#782AB6",
          "pattern": {
           "shape": ""
          }
         },
         "name": "Mustard Oil",
         "offsetgroup": "Mustard Oil",
         "orientation": "v",
         "showlegend": true,
         "textposition": "auto",
         "type": "bar",
         "x": [
          "Woolworths Secret Burger Sauce"
         ],
         "xaxis": "x",
         "y": [
          "Mustard Oil"
         ],
         "yaxis": "y"
        },
        {
         "alignmentgroup": "True",
         "hovertemplate": " Ingredients=%{y}<br>Product=%{x}<extra></extra>",
         "legendgroup": "White Vinegar",
         "marker": {
          "color": "#565656",
          "pattern": {
           "shape": ""
          }
         },
         "name": "White Vinegar",
         "offsetgroup": "White Vinegar",
         "orientation": "v",
         "showlegend": true,
         "textposition": "auto",
         "type": "bar",
         "x": [
          "Heinz Ketchup Tomato Sauce Ketchup"
         ],
         "xaxis": "x",
         "y": [
          "White Vinegar"
         ],
         "yaxis": "y"
        },
        {
         "alignmentgroup": "True",
         "hovertemplate": " Ingredients=%{y}<br>Product=%{x}<extra></extra>",
         "legendgroup": "Reconstituted Fruit Puree Apple",
         "marker": {
          "color": "#1C8356",
          "pattern": {
           "shape": ""
          }
         },
         "name": "Reconstituted Fruit Puree Apple",
         "offsetgroup": "Reconstituted Fruit Puree Apple",
         "orientation": "v",
         "showlegend": true,
         "textposition": "auto",
         "type": "bar",
         "x": [
          "Woolworths Barbecue Sauce"
         ],
         "xaxis": "x",
         "y": [
          "Reconstituted Fruit Puree Apple"
         ],
         "yaxis": "y"
        },
        {
         "alignmentgroup": "True",
         "hovertemplate": " Ingredients=%{y}<br>Product=%{x}<extra></extra>",
         "legendgroup": "Reconstituted Fruit Puree Tomato Paste",
         "marker": {
          "color": "#16FF32",
          "pattern": {
           "shape": ""
          }
         },
         "name": "Reconstituted Fruit Puree Tomato Paste",
         "offsetgroup": "Reconstituted Fruit Puree Tomato Paste",
         "orientation": "v",
         "showlegend": true,
         "textposition": "auto",
         "type": "bar",
         "x": [
          "Woolworths Barbecue Sauce"
         ],
         "xaxis": "x",
         "y": [
          "Reconstituted Fruit Puree Tomato Paste"
         ],
         "yaxis": "y"
        },
        {
         "alignmentgroup": "True",
         "hovertemplate": " Ingredients=%{y}<br>Product=%{x}<extra></extra>",
         "legendgroup": "Natural Spring Water",
         "marker": {
          "color": "#F7E1A0",
          "pattern": {
           "shape": ""
          }
         },
         "name": "Natural Spring Water",
         "offsetgroup": "Natural Spring Water",
         "orientation": "v",
         "showlegend": true,
         "textposition": "auto",
         "type": "bar",
         "x": [
          "Woolworths Spring Water Bottles",
          "Woolworths Spring Water",
          "Woolworths Spring Water",
          "Woolworths Spring Water"
         ],
         "xaxis": "x",
         "y": [
          "Natural Spring Water",
          "Natural Spring Water",
          "Natural Spring Water",
          "Natural Spring Water"
         ],
         "yaxis": "y"
        },
        {
         "alignmentgroup": "True",
         "hovertemplate": " Ingredients=%{y}<br>Product=%{x}<extra></extra>",
         "legendgroup": "Australian Spring Water",
         "marker": {
          "color": "#E2E2E2",
          "pattern": {
           "shape": ""
          }
         },
         "name": "Australian Spring Water",
         "offsetgroup": "Australian Spring Water",
         "orientation": "v",
         "showlegend": true,
         "textposition": "auto",
         "type": "bar",
         "x": [
          "Frantelle Australian Still Spring Water Bottles Multipack",
          "Mount Franklin Spring Water Bottle"
         ],
         "xaxis": "x",
         "y": [
          "Australian Spring Water",
          "Australian Spring Water"
         ],
         "yaxis": "y"
        },
        {
         "alignmentgroup": "True",
         "hovertemplate": " Ingredients=%{y}<br>Product=%{x}<extra></extra>",
         "legendgroup": "Potatoes",
         "marker": {
          "color": "#1CBE4F",
          "pattern": {
           "shape": ""
          }
         },
         "name": "Potatoes",
         "offsetgroup": "Potatoes",
         "orientation": "v",
         "showlegend": true,
         "textposition": "auto",
         "type": "bar",
         "x": [
          "Smith's Crinkle Cut Potato Chips Original",
          "Smith's Crinkle Cut Potato Chips Cheese & Onion",
          "Smith's Crinkle Cut Potato Chips Barbecue",
          "Smith's Crinkle Cut Potato Chips Chicken",
          "Thins Chips Salt & Vinegar",
          "Smith's Thinly Cut Potato Chips Original Share Pack",
          "Thins Chips Chicken",
          "Smith's Crinkle Cut Potato Chips Salt & Vinegar",
          "Thins Chips Light & Tangy",
          "Thins Cheese & Onion Chips"
         ],
         "xaxis": "x",
         "y": [
          "Potatoes",
          "Potatoes",
          "Potatoes",
          "Potatoes",
          "Potatoes",
          "Potatoes",
          "Potatoes",
          "Potatoes",
          "Potatoes",
          "Potatoes"
         ],
         "yaxis": "y"
        },
        {
         "alignmentgroup": "True",
         "hovertemplate": " Ingredients=%{y}<br>Product=%{x}<extra></extra>",
         "legendgroup": "Sunflower Oil",
         "marker": {
          "color": "#C4451C",
          "pattern": {
           "shape": ""
          }
         },
         "name": "Sunflower Oil",
         "offsetgroup": "Sunflower Oil",
         "orientation": "v",
         "showlegend": true,
         "textposition": "auto",
         "type": "bar",
         "x": [
          "Smith's Crinkle Cut Potato Chips Original",
          "Smith's Crinkle Cut Potato Chips Cheese & Onion",
          "Smith's Crinkle Cut Potato Chips Barbecue",
          "Smith's Crinkle Cut Potato Chips Chicken",
          "Smith's Thinly Cut Potato Chips Original Share Pack",
          "Smith's Crinkle Cut Potato Chips Salt & Vinegar"
         ],
         "xaxis": "x",
         "y": [
          "Sunflower Oil",
          "Sunflower Oil",
          "Sunflower Oil",
          "Sunflower Oil",
          "Sunflower Oil",
          "Sunflower Oil"
         ],
         "yaxis": "y"
        },
        {
         "alignmentgroup": "True",
         "hovertemplate": " Ingredients=%{y}<br>Product=%{x}<extra></extra>",
         "legendgroup": "Antioxidant Tocopherols",
         "marker": {
          "color": "#DEA0FD",
          "pattern": {
           "shape": ""
          }
         },
         "name": "Antioxidant Tocopherols",
         "offsetgroup": "Antioxidant Tocopherols",
         "orientation": "v",
         "showlegend": true,
         "textposition": "auto",
         "type": "bar",
         "x": [
          "Smith's Crinkle Cut Potato Chips Original",
          "Smith's Crinkle Cut Potato Chips Chicken",
          "Smith's Thinly Cut Potato Chips Original Share Pack",
          "Smith's Crinkle Cut Potato Chips Salt & Vinegar"
         ],
         "xaxis": "x",
         "y": [
          "Antioxidant Tocopherols",
          "Antioxidant Tocopherols",
          "Antioxidant Tocopherols",
          "Antioxidant Tocopherols"
         ],
         "yaxis": "y"
        },
        {
         "alignmentgroup": "True",
         "hovertemplate": " Ingredients=%{y}<br>Product=%{x}<extra></extra>",
         "legendgroup": "Antioxidant Rosemary Extract",
         "marker": {
          "color": "#FE00FA",
          "pattern": {
           "shape": ""
          }
         },
         "name": "Antioxidant Rosemary Extract",
         "offsetgroup": "Antioxidant Rosemary Extract",
         "orientation": "v",
         "showlegend": true,
         "textposition": "auto",
         "type": "bar",
         "x": [
          "Smith's Crinkle Cut Potato Chips Original",
          "Smith's Crinkle Cut Potato Chips Chicken",
          "Smith's Thinly Cut Potato Chips Original Share Pack",
          "Smith's Crinkle Cut Potato Chips Salt & Vinegar"
         ],
         "xaxis": "x",
         "y": [
          "Antioxidant Rosemary Extract",
          "Antioxidant Rosemary Extract",
          "Antioxidant Rosemary Extract",
          "Antioxidant Rosemary Extract"
         ],
         "yaxis": "y"
        },
        {
         "alignmentgroup": "True",
         "hovertemplate": " Ingredients=%{y}<br>Product=%{x}<extra></extra>",
         "legendgroup": "Cheese Powder",
         "marker": {
          "color": "#325A9B",
          "pattern": {
           "shape": ""
          }
         },
         "name": "Cheese Powder",
         "offsetgroup": "Cheese Powder",
         "orientation": "v",
         "showlegend": true,
         "textposition": "auto",
         "type": "bar",
         "x": [
          "Smith's Crinkle Cut Potato Chips Cheese & Onion",
          "Thins Cheese & Onion Chips"
         ],
         "xaxis": "x",
         "y": [
          "Cheese Powder",
          "Cheese Powder"
         ],
         "yaxis": "y"
        },
        {
         "alignmentgroup": "True",
         "hovertemplate": " Ingredients=%{y}<br>Product=%{x}<extra></extra>",
         "legendgroup": "Flavoured Milk",
         "marker": {
          "color": "#FEAF16",
          "pattern": {
           "shape": ""
          }
         },
         "name": "Flavoured Milk",
         "offsetgroup": "Flavoured Milk",
         "orientation": "v",
         "showlegend": true,
         "textposition": "auto",
         "type": "bar",
         "x": [
          "Smith's Crinkle Cut Potato Chips Cheese & Onion",
          "Smith's Crinkle Cut Potato Chips Chicken"
         ],
         "xaxis": "x",
         "y": [
          "Flavoured Milk",
          "Flavoured Milk"
         ],
         "yaxis": "y"
        },
        {
         "alignmentgroup": "True",
         "hovertemplate": " Ingredients=%{y}<br>Product=%{x}<extra></extra>",
         "legendgroup": "Tomato Powder",
         "marker": {
          "color": "#F8A19F",
          "pattern": {
           "shape": ""
          }
         },
         "name": "Tomato Powder",
         "offsetgroup": "Tomato Powder",
         "orientation": "v",
         "showlegend": true,
         "textposition": "auto",
         "type": "bar",
         "x": [
          "Smith's Crinkle Cut Potato Chips Barbecue"
         ],
         "xaxis": "x",
         "y": [
          "Tomato Powder"
         ],
         "yaxis": "y"
        },
        {
         "alignmentgroup": "True",
         "hovertemplate": " Ingredients=%{y}<br>Product=%{x}<extra></extra>",
         "legendgroup": "Sodium Diacetate",
         "marker": {
          "color": "#90AD1C",
          "pattern": {
           "shape": ""
          }
         },
         "name": "Sodium Diacetate",
         "offsetgroup": "Sodium Diacetate",
         "orientation": "v",
         "showlegend": true,
         "textposition": "auto",
         "type": "bar",
         "x": [
          "Smith's Crinkle Cut Potato Chips Barbecue",
          "Thins Chips Salt & Vinegar",
          "Smith's Crinkle Cut Potato Chips Salt & Vinegar"
         ],
         "xaxis": "x",
         "y": [
          "Sodium Diacetate",
          "Sodium Diacetate",
          "Sodium Diacetate"
         ],
         "yaxis": "y"
        },
        {
         "alignmentgroup": "True",
         "hovertemplate": " Ingredients=%{y}<br>Product=%{x}<extra></extra>",
         "legendgroup": "Paprika",
         "marker": {
          "color": "#F6222E",
          "pattern": {
           "shape": ""
          }
         },
         "name": "Paprika",
         "offsetgroup": "Paprika",
         "orientation": "v",
         "showlegend": true,
         "textposition": "auto",
         "type": "bar",
         "x": [
          "Smith's Crinkle Cut Potato Chips Barbecue"
         ],
         "xaxis": "x",
         "y": [
          "Paprika"
         ],
         "yaxis": "y"
        },
        {
         "alignmentgroup": "True",
         "hovertemplate": " Ingredients=%{y}<br>Product=%{x}<extra></extra>",
         "legendgroup": "Flavour Enhancer 620",
         "marker": {
          "color": "#1CFFCE",
          "pattern": {
           "shape": ""
          }
         },
         "name": "Flavour Enhancer 620",
         "offsetgroup": "Flavour Enhancer 620",
         "orientation": "v",
         "showlegend": true,
         "textposition": "auto",
         "type": "bar",
         "x": [
          "Smith's Crinkle Cut Potato Chips Chicken"
         ],
         "xaxis": "x",
         "y": [
          "Flavour Enhancer 620"
         ],
         "yaxis": "y"
        },
        {
         "alignmentgroup": "True",
         "hovertemplate": " Ingredients=%{y}<br>Product=%{x}<extra></extra>",
         "legendgroup": "Glucose",
         "marker": {
          "color": "#2ED9FF",
          "pattern": {
           "shape": ""
          }
         },
         "name": "Glucose",
         "offsetgroup": "Glucose",
         "orientation": "v",
         "showlegend": true,
         "textposition": "auto",
         "type": "bar",
         "x": [
          "Thins Chips Chicken"
         ],
         "xaxis": "x",
         "y": [
          "Glucose"
         ],
         "yaxis": "y"
        },
        {
         "alignmentgroup": "True",
         "hovertemplate": " Ingredients=%{y}<br>Product=%{x}<extra></extra>",
         "legendgroup": "Vegetable Powder Garlic",
         "marker": {
          "color": "#B10DA1",
          "pattern": {
           "shape": ""
          }
         },
         "name": "Vegetable Powder Garlic",
         "offsetgroup": "Vegetable Powder Garlic",
         "orientation": "v",
         "showlegend": true,
         "textposition": "auto",
         "type": "bar",
         "x": [
          "Thins Chips Chicken"
         ],
         "xaxis": "x",
         "y": [
          "Vegetable Powder Garlic"
         ],
         "yaxis": "y"
        },
        {
         "alignmentgroup": "True",
         "hovertemplate": " Ingredients=%{y}<br>Product=%{x}<extra></extra>",
         "legendgroup": "Milk Lactose",
         "marker": {
          "color": "#C075A6",
          "pattern": {
           "shape": ""
          }
         },
         "name": "Milk Lactose",
         "offsetgroup": "Milk Lactose",
         "orientation": "v",
         "showlegend": true,
         "textposition": "auto",
         "type": "bar",
         "x": [
          "Smith's Crinkle Cut Potato Chips Salt & Vinegar"
         ],
         "xaxis": "x",
         "y": [
          "Milk Lactose"
         ],
         "yaxis": "y"
        },
        {
         "alignmentgroup": "True",
         "hovertemplate": " Ingredients=%{y}<br>Product=%{x}<extra></extra>",
         "legendgroup": "Vegetable Powder Tomato",
         "marker": {
          "color": "#FC1CBF",
          "pattern": {
           "shape": ""
          }
         },
         "name": "Vegetable Powder Tomato",
         "offsetgroup": "Vegetable Powder Tomato",
         "orientation": "v",
         "showlegend": true,
         "textposition": "auto",
         "type": "bar",
         "x": [
          "Thins Chips Light & Tangy"
         ],
         "xaxis": "x",
         "y": [
          "Vegetable Powder Tomato"
         ],
         "yaxis": "y"
        },
        {
         "alignmentgroup": "True",
         "hovertemplate": " Ingredients=%{y}<br>Product=%{x}<extra></extra>",
         "legendgroup": "Garam Masala",
         "marker": {
          "color": "#B00068",
          "pattern": {
           "shape": ""
          }
         },
         "name": "Garam Masala",
         "offsetgroup": "Garam Masala",
         "orientation": "v",
         "showlegend": true,
         "textposition": "auto",
         "type": "bar",
         "x": [
          "Thins Chips Light & Tangy"
         ],
         "xaxis": "x",
         "y": [
          "Garam Masala"
         ],
         "yaxis": "y"
        },
        {
         "alignmentgroup": "True",
         "hovertemplate": " Ingredients=%{y}<br>Product=%{x}<extra></extra>",
         "legendgroup": "Buttermilk Powder",
         "marker": {
          "color": "#FBE426",
          "pattern": {
           "shape": ""
          }
         },
         "name": "Buttermilk Powder",
         "offsetgroup": "Buttermilk Powder",
         "orientation": "v",
         "showlegend": true,
         "textposition": "auto",
         "type": "bar",
         "x": [
          "Thins Chips Light & Tangy"
         ],
         "xaxis": "x",
         "y": [
          "Buttermilk Powder"
         ],
         "yaxis": "y"
        },
        {
         "alignmentgroup": "True",
         "hovertemplate": " Ingredients=%{y}<br>Product=%{x}<extra></extra>",
         "legendgroup": "Lactic Acid",
         "marker": {
          "color": "#FA0087",
          "pattern": {
           "shape": ""
          }
         },
         "name": "Lactic Acid",
         "offsetgroup": "Lactic Acid",
         "orientation": "v",
         "showlegend": true,
         "textposition": "auto",
         "type": "bar",
         "x": [
          "Thins Cheese & Onion Chips"
         ],
         "xaxis": "x",
         "y": [
          "Lactic Acid"
         ],
         "yaxis": "y"
        },
        {
         "alignmentgroup": "True",
         "hovertemplate": " Ingredients=%{y}<br>Product=%{x}<extra></extra>",
         "legendgroup": "Paprika Extract",
         "marker": {
          "color": "rgb(27,158,119)",
          "pattern": {
           "shape": ""
          }
         },
         "name": "Paprika Extract",
         "offsetgroup": "Paprika Extract",
         "orientation": "v",
         "showlegend": true,
         "textposition": "auto",
         "type": "bar",
         "x": [
          "Thins Cheese & Onion Chips"
         ],
         "xaxis": "x",
         "y": [
          "Paprika Extract"
         ],
         "yaxis": "y"
        },
        {
         "alignmentgroup": "True",
         "hovertemplate": " Ingredients=%{y}<br>Product=%{x}<extra></extra>",
         "legendgroup": "Carrageenan",
         "marker": {
          "color": "rgb(217,95,2)",
          "pattern": {
           "shape": ""
          }
         },
         "name": "Carrageenan",
         "offsetgroup": "Carrageenan",
         "orientation": "v",
         "showlegend": true,
         "textposition": "auto",
         "type": "bar",
         "x": [
          "Woolworths Peach In Strawberry Jelly",
          "Woolworths Two Fruits In Tropical Jelly",
          "Woolworths Apple In Pineapple Jelly"
         ],
         "xaxis": "x",
         "y": [
          "Carrageenan",
          "Carrageenan",
          "Carrageenan"
         ],
         "yaxis": "y"
        },
        {
         "alignmentgroup": "True",
         "hovertemplate": " Ingredients=%{y}<br>Product=%{x}<extra></extra>",
         "legendgroup": "Locust Bean Gum",
         "marker": {
          "color": "rgb(117,112,179)",
          "pattern": {
           "shape": ""
          }
         },
         "name": "Locust Bean Gum",
         "offsetgroup": "Locust Bean Gum",
         "orientation": "v",
         "showlegend": true,
         "textposition": "auto",
         "type": "bar",
         "x": [
          "Woolworths Peach In Strawberry Jelly",
          "Woolworths Two Fruits In Tropical Jelly",
          "Woolworths Apple In Pineapple Jelly"
         ],
         "xaxis": "x",
         "y": [
          "Locust Bean Gum",
          "Locust Bean Gum",
          "Locust Bean Gum"
         ],
         "yaxis": "y"
        },
        {
         "alignmentgroup": "True",
         "hovertemplate": " Ingredients=%{y}<br>Product=%{x}<extra></extra>",
         "legendgroup": "Calcium Lactate",
         "marker": {
          "color": "rgb(231,41,138)",
          "pattern": {
           "shape": ""
          }
         },
         "name": "Calcium Lactate",
         "offsetgroup": "Calcium Lactate",
         "orientation": "v",
         "showlegend": true,
         "textposition": "auto",
         "type": "bar",
         "x": [
          "Woolworths Peach In Strawberry Jelly",
          "Woolworths Two Fruits In Tropical Jelly",
          "Woolworths Apple In Pineapple Jelly"
         ],
         "xaxis": "x",
         "y": [
          "Calcium Lactate",
          "Calcium Lactate",
          "Calcium Lactate"
         ],
         "yaxis": "y"
        },
        {
         "alignmentgroup": "True",
         "hovertemplate": " Ingredients=%{y}<br>Product=%{x}<extra></extra>",
         "legendgroup": "Malic Acid",
         "marker": {
          "color": "rgb(102,166,30)",
          "pattern": {
           "shape": ""
          }
         },
         "name": "Malic Acid",
         "offsetgroup": "Malic Acid",
         "orientation": "v",
         "showlegend": true,
         "textposition": "auto",
         "type": "bar",
         "x": [
          "Woolworths Peach In Strawberry Jelly",
          "Woolworths Two Fruits In Tropical Jelly",
          "Woolworths Apple In Pineapple Jelly"
         ],
         "xaxis": "x",
         "y": [
          "Malic Acid",
          "Malic Acid",
          "Malic Acid"
         ],
         "yaxis": "y"
        },
        {
         "alignmentgroup": "True",
         "hovertemplate": " Ingredients=%{y}<br>Product=%{x}<extra></extra>",
         "legendgroup": "Natural Strawberry Flavour",
         "marker": {
          "color": "rgb(230,171,2)",
          "pattern": {
           "shape": ""
          }
         },
         "name": "Natural Strawberry Flavour",
         "offsetgroup": "Natural Strawberry Flavour",
         "orientation": "v",
         "showlegend": true,
         "textposition": "auto",
         "type": "bar",
         "x": [
          "Woolworths Peach In Strawberry Jelly"
         ],
         "xaxis": "x",
         "y": [
          "Natural Strawberry Flavour"
         ],
         "yaxis": "y"
        },
        {
         "alignmentgroup": "True",
         "hovertemplate": " Ingredients=%{y}<br>Product=%{x}<extra></extra>",
         "legendgroup": "Cochineal",
         "marker": {
          "color": "rgb(166,118,29)",
          "pattern": {
           "shape": ""
          }
         },
         "name": "Cochineal",
         "offsetgroup": "Cochineal",
         "orientation": "v",
         "showlegend": true,
         "textposition": "auto",
         "type": "bar",
         "x": [
          "Woolworths Peach In Strawberry Jelly"
         ],
         "xaxis": "x",
         "y": [
          "Cochineal"
         ],
         "yaxis": "y"
        },
        {
         "alignmentgroup": "True",
         "hovertemplate": " Ingredients=%{y}<br>Product=%{x}<extra></extra>",
         "legendgroup": "Fruit Peach",
         "marker": {
          "color": "rgb(102,102,102)",
          "pattern": {
           "shape": ""
          }
         },
         "name": "Fruit Peach",
         "offsetgroup": "Fruit Peach",
         "orientation": "v",
         "showlegend": true,
         "textposition": "auto",
         "type": "bar",
         "x": [
          "Woolworths Peach In Strawberry Jelly",
          "Woolworths Two Fruits In Juice Cups",
          "Woolworths Two Fruits In Juice",
          "Woolworths Two Fruits In Juice",
          "Woolworths Two Fruits In Tropical Jelly"
         ],
         "xaxis": "x",
         "y": [
          "Fruit Peach",
          "Fruit Peach",
          "Fruit Peach",
          "Fruit Peach",
          "Fruit Peach"
         ],
         "yaxis": "y"
        },
        {
         "alignmentgroup": "True",
         "hovertemplate": " Ingredients=%{y}<br>Product=%{x}<extra></extra>",
         "legendgroup": "Pear",
         "marker": {
          "color": "rgb(228,26,28)",
          "pattern": {
           "shape": ""
          }
         },
         "name": "Pear",
         "offsetgroup": "Pear",
         "orientation": "v",
         "showlegend": true,
         "textposition": "auto",
         "type": "bar",
         "x": [
          "Woolworths Two Fruits In Juice Cups",
          "Woolworths Two Fruits In Juice",
          "Woolworths Two Fruits In Juice",
          "Woolworths Two Fruits In Tropical Jelly"
         ],
         "xaxis": "x",
         "y": [
          "Pear",
          "Pear",
          "Pear",
          "Pear"
         ],
         "yaxis": "y"
        },
        {
         "alignmentgroup": "True",
         "hovertemplate": " Ingredients=%{y}<br>Product=%{x}<extra></extra>",
         "legendgroup": "Reconstituted Refined Juice Concentrated Pear Juice",
         "marker": {
          "color": "rgb(55,126,184)",
          "pattern": {
           "shape": ""
          }
         },
         "name": "Reconstituted Refined Juice Concentrated Pear Juice",
         "offsetgroup": "Reconstituted Refined Juice Concentrated Pear Juice",
         "orientation": "v",
         "showlegend": true,
         "textposition": "auto",
         "type": "bar",
         "x": [
          "Woolworths Two Fruits In Juice Cups",
          "Woolworths Two Fruits In Juice"
         ],
         "xaxis": "x",
         "y": [
          "Reconstituted Refined Juice Concentrated Pear Juice",
          "Reconstituted Refined Juice Concentrated Pear Juice"
         ],
         "yaxis": "y"
        },
        {
         "alignmentgroup": "True",
         "hovertemplate": " Ingredients=%{y}<br>Product=%{x}<extra></extra>",
         "legendgroup": "Refined Fruit Juice Apple",
         "marker": {
          "color": "rgb(77,175,74)",
          "pattern": {
           "shape": ""
          }
         },
         "name": "Refined Fruit Juice Apple",
         "offsetgroup": "Refined Fruit Juice Apple",
         "orientation": "v",
         "showlegend": true,
         "textposition": "auto",
         "type": "bar",
         "x": [
          "Woolworths Two Fruits In Juice"
         ],
         "xaxis": "x",
         "y": [
          "Refined Fruit Juice Apple"
         ],
         "yaxis": "y"
        },
        {
         "alignmentgroup": "True",
         "hovertemplate": " Ingredients=%{y}<br>Product=%{x}<extra></extra>",
         "legendgroup": "Refined Fruit Juice Grape",
         "marker": {
          "color": "rgb(152,78,163)",
          "pattern": {
           "shape": ""
          }
         },
         "name": "Refined Fruit Juice Grape",
         "offsetgroup": "Refined Fruit Juice Grape",
         "orientation": "v",
         "showlegend": true,
         "textposition": "auto",
         "type": "bar",
         "x": [
          "Woolworths Two Fruits In Juice"
         ],
         "xaxis": "x",
         "y": [
          "Refined Fruit Juice Grape"
         ],
         "yaxis": "y"
        },
        {
         "alignmentgroup": "True",
         "hovertemplate": " Ingredients=%{y}<br>Product=%{x}<extra></extra>",
         "legendgroup": "Refined Fruit Juice Peach",
         "marker": {
          "color": "rgb(255,127,0)",
          "pattern": {
           "shape": ""
          }
         },
         "name": "Refined Fruit Juice Peach",
         "offsetgroup": "Refined Fruit Juice Peach",
         "orientation": "v",
         "showlegend": true,
         "textposition": "auto",
         "type": "bar",
         "x": [
          "Woolworths Two Fruits In Juice"
         ],
         "xaxis": "x",
         "y": [
          "Refined Fruit Juice Peach"
         ],
         "yaxis": "y"
        },
        {
         "alignmentgroup": "True",
         "hovertemplate": " Ingredients=%{y}<br>Product=%{x}<extra></extra>",
         "legendgroup": "Refined Fruit Juice Pear",
         "marker": {
          "color": "rgb(255,255,51)",
          "pattern": {
           "shape": ""
          }
         },
         "name": "Refined Fruit Juice Pear",
         "offsetgroup": "Refined Fruit Juice Pear",
         "orientation": "v",
         "showlegend": true,
         "textposition": "auto",
         "type": "bar",
         "x": [
          "Woolworths Two Fruits In Juice"
         ],
         "xaxis": "x",
         "y": [
          "Refined Fruit Juice Pear"
         ],
         "yaxis": "y"
        },
        {
         "alignmentgroup": "True",
         "hovertemplate": " Ingredients=%{y}<br>Product=%{x}<extra></extra>",
         "legendgroup": "Natural Flavour Pineapple",
         "marker": {
          "color": "rgb(166,86,40)",
          "pattern": {
           "shape": ""
          }
         },
         "name": "Natural Flavour Pineapple",
         "offsetgroup": "Natural Flavour Pineapple",
         "orientation": "v",
         "showlegend": true,
         "textposition": "auto",
         "type": "bar",
         "x": [
          "Woolworths Two Fruits In Tropical Jelly"
         ],
         "xaxis": "x",
         "y": [
          "Natural Flavour Pineapple"
         ],
         "yaxis": "y"
        },
        {
         "alignmentgroup": "True",
         "hovertemplate": " Ingredients=%{y}<br>Product=%{x}<extra></extra>",
         "legendgroup": "Natural Flavour Mango",
         "marker": {
          "color": "rgb(247,129,191)",
          "pattern": {
           "shape": ""
          }
         },
         "name": "Natural Flavour Mango",
         "offsetgroup": "Natural Flavour Mango",
         "orientation": "v",
         "showlegend": true,
         "textposition": "auto",
         "type": "bar",
         "x": [
          "Woolworths Two Fruits In Tropical Jelly"
         ],
         "xaxis": "x",
         "y": [
          "Natural Flavour Mango"
         ],
         "yaxis": "y"
        },
        {
         "alignmentgroup": "True",
         "hovertemplate": " Ingredients=%{y}<br>Product=%{x}<extra></extra>",
         "legendgroup": "Jelly Natural Pineapple Flavour",
         "marker": {
          "color": "rgb(153,153,153)",
          "pattern": {
           "shape": ""
          }
         },
         "name": "Jelly Natural Pineapple Flavour",
         "offsetgroup": "Jelly Natural Pineapple Flavour",
         "orientation": "v",
         "showlegend": true,
         "textposition": "auto",
         "type": "bar",
         "x": [
          "Woolworths Apple In Pineapple Jelly"
         ],
         "xaxis": "x",
         "y": [
          "Jelly Natural Pineapple Flavour"
         ],
         "yaxis": "y"
        },
        {
         "alignmentgroup": "True",
         "hovertemplate": " Ingredients=%{y}<br>Product=%{x}<extra></extra>",
         "legendgroup": "Apple",
         "marker": {
          "color": "#AA0DFE",
          "pattern": {
           "shape": ""
          }
         },
         "name": "Apple",
         "offsetgroup": "Apple",
         "orientation": "v",
         "showlegend": true,
         "textposition": "auto",
         "type": "bar",
         "x": [
          "Woolworths Apple In Pineapple Jelly"
         ],
         "xaxis": "x",
         "y": [
          "Apple"
         ],
         "yaxis": "y"
        },
        {
         "alignmentgroup": "True",
         "hovertemplate": " Ingredients=%{y}<br>Product=%{x}<extra></extra>",
         "legendgroup": "Diced Pears",
         "marker": {
          "color": "#3283FE",
          "pattern": {
           "shape": ""
          }
         },
         "name": "Diced Pears",
         "offsetgroup": "Diced Pears",
         "orientation": "v",
         "showlegend": true,
         "textposition": "auto",
         "type": "bar",
         "x": [
          "Goulburn Valley Two Fruits In Juice",
          "Goulburn Valley Two Fruits In Juice Fruit Cups In Juice"
         ],
         "xaxis": "x",
         "y": [
          "Diced Pears",
          "Diced Pears"
         ],
         "yaxis": "y"
        },
        {
         "alignmentgroup": "True",
         "hovertemplate": " Ingredients=%{y}<br>Product=%{x}<extra></extra>",
         "legendgroup": "Diced Peaches",
         "marker": {
          "color": "#85660D",
          "pattern": {
           "shape": ""
          }
         },
         "name": "Diced Peaches",
         "offsetgroup": "Diced Peaches",
         "orientation": "v",
         "showlegend": true,
         "textposition": "auto",
         "type": "bar",
         "x": [
          "Goulburn Valley Two Fruits In Juice",
          "Goulburn Valley Two Fruits In Juice Fruit Cups In Juice"
         ],
         "xaxis": "x",
         "y": [
          "Diced Peaches",
          "Diced Peaches"
         ],
         "yaxis": "y"
        },
        {
         "alignmentgroup": "True",
         "hovertemplate": " Ingredients=%{y}<br>Product=%{x}<extra></extra>",
         "legendgroup": "Refined Fruit Juice",
         "marker": {
          "color": "#782AB6",
          "pattern": {
           "shape": ""
          }
         },
         "name": "Refined Fruit Juice",
         "offsetgroup": "Refined Fruit Juice",
         "orientation": "v",
         "showlegend": true,
         "textposition": "auto",
         "type": "bar",
         "x": [
          "Goulburn Valley Two Fruits In Juice",
          "Goulburn Valley Two Fruits In Juice Fruit Cups In Juice"
         ],
         "xaxis": "x",
         "y": [
          "Refined Fruit Juice",
          "Refined Fruit Juice"
         ],
         "yaxis": "y"
        },
        {
         "alignmentgroup": "True",
         "hovertemplate": " Ingredients=%{y}<br>Product=%{x}<extra></extra>",
         "legendgroup": "Pineapple",
         "marker": {
          "color": "#565656",
          "pattern": {
           "shape": ""
          }
         },
         "name": "Pineapple",
         "offsetgroup": "Pineapple",
         "orientation": "v",
         "showlegend": true,
         "textposition": "auto",
         "type": "bar",
         "x": [
          "Dole Pineapple Slices In Syrup",
          "Dole Pineapple Chunks In Juice"
         ],
         "xaxis": "x",
         "y": [
          "Pineapple",
          "Pineapple"
         ],
         "yaxis": "y"
        },
        {
         "alignmentgroup": "True",
         "hovertemplate": " Ingredients=%{y}<br>Product=%{x}<extra></extra>",
         "legendgroup": "Pineapple Juice",
         "marker": {
          "color": "#1C8356",
          "pattern": {
           "shape": ""
          }
         },
         "name": "Pineapple Juice",
         "offsetgroup": "Pineapple Juice",
         "orientation": "v",
         "showlegend": true,
         "textposition": "auto",
         "type": "bar",
         "x": [
          "Dole Pineapple Chunks In Juice"
         ],
         "xaxis": "x",
         "y": [
          "Pineapple Juice"
         ],
         "yaxis": "y"
        },
        {
         "alignmentgroup": "True",
         "hovertemplate": " Ingredients=%{y}<br>Product=%{x}<extra></extra>",
         "legendgroup": "Clarified Pineapple Juice Concentrate",
         "marker": {
          "color": "#16FF32",
          "pattern": {
           "shape": ""
          }
         },
         "name": "Clarified Pineapple Juice Concentrate",
         "offsetgroup": "Clarified Pineapple Juice Concentrate",
         "orientation": "v",
         "showlegend": true,
         "textposition": "auto",
         "type": "bar",
         "x": [
          "Dole Pineapple Chunks In Juice"
         ],
         "xaxis": "x",
         "y": [
          "Clarified Pineapple Juice Concentrate"
         ],
         "yaxis": "y"
        }
       ],
       "layout": {
        "barmode": "relative",
        "legend": {
         "title": {
          "text": " Ingredients"
         },
         "tracegroupgap": 0
        },
        "template": {
         "data": {
          "bar": [
           {
            "error_x": {
             "color": "#2a3f5f"
            },
            "error_y": {
             "color": "#2a3f5f"
            },
            "marker": {
             "line": {
              "color": "#E5ECF6",
              "width": 0.5
             },
             "pattern": {
              "fillmode": "overlay",
              "size": 10,
              "solidity": 0.2
             }
            },
            "type": "bar"
           }
          ],
          "barpolar": [
           {
            "marker": {
             "line": {
              "color": "#E5ECF6",
              "width": 0.5
             },
             "pattern": {
              "fillmode": "overlay",
              "size": 10,
              "solidity": 0.2
             }
            },
            "type": "barpolar"
           }
          ],
          "carpet": [
           {
            "aaxis": {
             "endlinecolor": "#2a3f5f",
             "gridcolor": "white",
             "linecolor": "white",
             "minorgridcolor": "white",
             "startlinecolor": "#2a3f5f"
            },
            "baxis": {
             "endlinecolor": "#2a3f5f",
             "gridcolor": "white",
             "linecolor": "white",
             "minorgridcolor": "white",
             "startlinecolor": "#2a3f5f"
            },
            "type": "carpet"
           }
          ],
          "choropleth": [
           {
            "colorbar": {
             "outlinewidth": 0,
             "ticks": ""
            },
            "type": "choropleth"
           }
          ],
          "contour": [
           {
            "colorbar": {
             "outlinewidth": 0,
             "ticks": ""
            },
            "colorscale": [
             [
              0,
              "#0d0887"
             ],
             [
              0.1111111111111111,
              "#46039f"
             ],
             [
              0.2222222222222222,
              "#7201a8"
             ],
             [
              0.3333333333333333,
              "#9c179e"
             ],
             [
              0.4444444444444444,
              "#bd3786"
             ],
             [
              0.5555555555555556,
              "#d8576b"
             ],
             [
              0.6666666666666666,
              "#ed7953"
             ],
             [
              0.7777777777777778,
              "#fb9f3a"
             ],
             [
              0.8888888888888888,
              "#fdca26"
             ],
             [
              1,
              "#f0f921"
             ]
            ],
            "type": "contour"
           }
          ],
          "contourcarpet": [
           {
            "colorbar": {
             "outlinewidth": 0,
             "ticks": ""
            },
            "type": "contourcarpet"
           }
          ],
          "heatmap": [
           {
            "colorbar": {
             "outlinewidth": 0,
             "ticks": ""
            },
            "colorscale": [
             [
              0,
              "#0d0887"
             ],
             [
              0.1111111111111111,
              "#46039f"
             ],
             [
              0.2222222222222222,
              "#7201a8"
             ],
             [
              0.3333333333333333,
              "#9c179e"
             ],
             [
              0.4444444444444444,
              "#bd3786"
             ],
             [
              0.5555555555555556,
              "#d8576b"
             ],
             [
              0.6666666666666666,
              "#ed7953"
             ],
             [
              0.7777777777777778,
              "#fb9f3a"
             ],
             [
              0.8888888888888888,
              "#fdca26"
             ],
             [
              1,
              "#f0f921"
             ]
            ],
            "type": "heatmap"
           }
          ],
          "heatmapgl": [
           {
            "colorbar": {
             "outlinewidth": 0,
             "ticks": ""
            },
            "colorscale": [
             [
              0,
              "#0d0887"
             ],
             [
              0.1111111111111111,
              "#46039f"
             ],
             [
              0.2222222222222222,
              "#7201a8"
             ],
             [
              0.3333333333333333,
              "#9c179e"
             ],
             [
              0.4444444444444444,
              "#bd3786"
             ],
             [
              0.5555555555555556,
              "#d8576b"
             ],
             [
              0.6666666666666666,
              "#ed7953"
             ],
             [
              0.7777777777777778,
              "#fb9f3a"
             ],
             [
              0.8888888888888888,
              "#fdca26"
             ],
             [
              1,
              "#f0f921"
             ]
            ],
            "type": "heatmapgl"
           }
          ],
          "histogram": [
           {
            "marker": {
             "pattern": {
              "fillmode": "overlay",
              "size": 10,
              "solidity": 0.2
             }
            },
            "type": "histogram"
           }
          ],
          "histogram2d": [
           {
            "colorbar": {
             "outlinewidth": 0,
             "ticks": ""
            },
            "colorscale": [
             [
              0,
              "#0d0887"
             ],
             [
              0.1111111111111111,
              "#46039f"
             ],
             [
              0.2222222222222222,
              "#7201a8"
             ],
             [
              0.3333333333333333,
              "#9c179e"
             ],
             [
              0.4444444444444444,
              "#bd3786"
             ],
             [
              0.5555555555555556,
              "#d8576b"
             ],
             [
              0.6666666666666666,
              "#ed7953"
             ],
             [
              0.7777777777777778,
              "#fb9f3a"
             ],
             [
              0.8888888888888888,
              "#fdca26"
             ],
             [
              1,
              "#f0f921"
             ]
            ],
            "type": "histogram2d"
           }
          ],
          "histogram2dcontour": [
           {
            "colorbar": {
             "outlinewidth": 0,
             "ticks": ""
            },
            "colorscale": [
             [
              0,
              "#0d0887"
             ],
             [
              0.1111111111111111,
              "#46039f"
             ],
             [
              0.2222222222222222,
              "#7201a8"
             ],
             [
              0.3333333333333333,
              "#9c179e"
             ],
             [
              0.4444444444444444,
              "#bd3786"
             ],
             [
              0.5555555555555556,
              "#d8576b"
             ],
             [
              0.6666666666666666,
              "#ed7953"
             ],
             [
              0.7777777777777778,
              "#fb9f3a"
             ],
             [
              0.8888888888888888,
              "#fdca26"
             ],
             [
              1,
              "#f0f921"
             ]
            ],
            "type": "histogram2dcontour"
           }
          ],
          "mesh3d": [
           {
            "colorbar": {
             "outlinewidth": 0,
             "ticks": ""
            },
            "type": "mesh3d"
           }
          ],
          "parcoords": [
           {
            "line": {
             "colorbar": {
              "outlinewidth": 0,
              "ticks": ""
             }
            },
            "type": "parcoords"
           }
          ],
          "pie": [
           {
            "automargin": true,
            "type": "pie"
           }
          ],
          "scatter": [
           {
            "fillpattern": {
             "fillmode": "overlay",
             "size": 10,
             "solidity": 0.2
            },
            "type": "scatter"
           }
          ],
          "scatter3d": [
           {
            "line": {
             "colorbar": {
              "outlinewidth": 0,
              "ticks": ""
             }
            },
            "marker": {
             "colorbar": {
              "outlinewidth": 0,
              "ticks": ""
             }
            },
            "type": "scatter3d"
           }
          ],
          "scattercarpet": [
           {
            "marker": {
             "colorbar": {
              "outlinewidth": 0,
              "ticks": ""
             }
            },
            "type": "scattercarpet"
           }
          ],
          "scattergeo": [
           {
            "marker": {
             "colorbar": {
              "outlinewidth": 0,
              "ticks": ""
             }
            },
            "type": "scattergeo"
           }
          ],
          "scattergl": [
           {
            "marker": {
             "colorbar": {
              "outlinewidth": 0,
              "ticks": ""
             }
            },
            "type": "scattergl"
           }
          ],
          "scattermapbox": [
           {
            "marker": {
             "colorbar": {
              "outlinewidth": 0,
              "ticks": ""
             }
            },
            "type": "scattermapbox"
           }
          ],
          "scatterpolar": [
           {
            "marker": {
             "colorbar": {
              "outlinewidth": 0,
              "ticks": ""
             }
            },
            "type": "scatterpolar"
           }
          ],
          "scatterpolargl": [
           {
            "marker": {
             "colorbar": {
              "outlinewidth": 0,
              "ticks": ""
             }
            },
            "type": "scatterpolargl"
           }
          ],
          "scatterternary": [
           {
            "marker": {
             "colorbar": {
              "outlinewidth": 0,
              "ticks": ""
             }
            },
            "type": "scatterternary"
           }
          ],
          "surface": [
           {
            "colorbar": {
             "outlinewidth": 0,
             "ticks": ""
            },
            "colorscale": [
             [
              0,
              "#0d0887"
             ],
             [
              0.1111111111111111,
              "#46039f"
             ],
             [
              0.2222222222222222,
              "#7201a8"
             ],
             [
              0.3333333333333333,
              "#9c179e"
             ],
             [
              0.4444444444444444,
              "#bd3786"
             ],
             [
              0.5555555555555556,
              "#d8576b"
             ],
             [
              0.6666666666666666,
              "#ed7953"
             ],
             [
              0.7777777777777778,
              "#fb9f3a"
             ],
             [
              0.8888888888888888,
              "#fdca26"
             ],
             [
              1,
              "#f0f921"
             ]
            ],
            "type": "surface"
           }
          ],
          "table": [
           {
            "cells": {
             "fill": {
              "color": "#EBF0F8"
             },
             "line": {
              "color": "white"
             }
            },
            "header": {
             "fill": {
              "color": "#C8D4E3"
             },
             "line": {
              "color": "white"
             }
            },
            "type": "table"
           }
          ]
         },
         "layout": {
          "annotationdefaults": {
           "arrowcolor": "#2a3f5f",
           "arrowhead": 0,
           "arrowwidth": 1
          },
          "autotypenumbers": "strict",
          "coloraxis": {
           "colorbar": {
            "outlinewidth": 0,
            "ticks": ""
           }
          },
          "colorscale": {
           "diverging": [
            [
             0,
             "#8e0152"
            ],
            [
             0.1,
             "#c51b7d"
            ],
            [
             0.2,
             "#de77ae"
            ],
            [
             0.3,
             "#f1b6da"
            ],
            [
             0.4,
             "#fde0ef"
            ],
            [
             0.5,
             "#f7f7f7"
            ],
            [
             0.6,
             "#e6f5d0"
            ],
            [
             0.7,
             "#b8e186"
            ],
            [
             0.8,
             "#7fbc41"
            ],
            [
             0.9,
             "#4d9221"
            ],
            [
             1,
             "#276419"
            ]
           ],
           "sequential": [
            [
             0,
             "#0d0887"
            ],
            [
             0.1111111111111111,
             "#46039f"
            ],
            [
             0.2222222222222222,
             "#7201a8"
            ],
            [
             0.3333333333333333,
             "#9c179e"
            ],
            [
             0.4444444444444444,
             "#bd3786"
            ],
            [
             0.5555555555555556,
             "#d8576b"
            ],
            [
             0.6666666666666666,
             "#ed7953"
            ],
            [
             0.7777777777777778,
             "#fb9f3a"
            ],
            [
             0.8888888888888888,
             "#fdca26"
            ],
            [
             1,
             "#f0f921"
            ]
           ],
           "sequentialminus": [
            [
             0,
             "#0d0887"
            ],
            [
             0.1111111111111111,
             "#46039f"
            ],
            [
             0.2222222222222222,
             "#7201a8"
            ],
            [
             0.3333333333333333,
             "#9c179e"
            ],
            [
             0.4444444444444444,
             "#bd3786"
            ],
            [
             0.5555555555555556,
             "#d8576b"
            ],
            [
             0.6666666666666666,
             "#ed7953"
            ],
            [
             0.7777777777777778,
             "#fb9f3a"
            ],
            [
             0.8888888888888888,
             "#fdca26"
            ],
            [
             1,
             "#f0f921"
            ]
           ]
          },
          "colorway": [
           "#636efa",
           "#EF553B",
           "#00cc96",
           "#ab63fa",
           "#FFA15A",
           "#19d3f3",
           "#FF6692",
           "#B6E880",
           "#FF97FF",
           "#FECB52"
          ],
          "font": {
           "color": "#2a3f5f"
          },
          "geo": {
           "bgcolor": "white",
           "lakecolor": "white",
           "landcolor": "#E5ECF6",
           "showlakes": true,
           "showland": true,
           "subunitcolor": "white"
          },
          "hoverlabel": {
           "align": "left"
          },
          "hovermode": "closest",
          "mapbox": {
           "style": "light"
          },
          "paper_bgcolor": "white",
          "plot_bgcolor": "#E5ECF6",
          "polar": {
           "angularaxis": {
            "gridcolor": "white",
            "linecolor": "white",
            "ticks": ""
           },
           "bgcolor": "#E5ECF6",
           "radialaxis": {
            "gridcolor": "white",
            "linecolor": "white",
            "ticks": ""
           }
          },
          "scene": {
           "xaxis": {
            "backgroundcolor": "#E5ECF6",
            "gridcolor": "white",
            "gridwidth": 2,
            "linecolor": "white",
            "showbackground": true,
            "ticks": "",
            "zerolinecolor": "white"
           },
           "yaxis": {
            "backgroundcolor": "#E5ECF6",
            "gridcolor": "white",
            "gridwidth": 2,
            "linecolor": "white",
            "showbackground": true,
            "ticks": "",
            "zerolinecolor": "white"
           },
           "zaxis": {
            "backgroundcolor": "#E5ECF6",
            "gridcolor": "white",
            "gridwidth": 2,
            "linecolor": "white",
            "showbackground": true,
            "ticks": "",
            "zerolinecolor": "white"
           }
          },
          "shapedefaults": {
           "line": {
            "color": "#2a3f5f"
           }
          },
          "ternary": {
           "aaxis": {
            "gridcolor": "white",
            "linecolor": "white",
            "ticks": ""
           },
           "baxis": {
            "gridcolor": "white",
            "linecolor": "white",
            "ticks": ""
           },
           "bgcolor": "#E5ECF6",
           "caxis": {
            "gridcolor": "white",
            "linecolor": "white",
            "ticks": ""
           }
          },
          "title": {
           "x": 0.05
          },
          "xaxis": {
           "automargin": true,
           "gridcolor": "white",
           "linecolor": "white",
           "ticks": "",
           "title": {
            "standoff": 15
           },
           "zerolinecolor": "white",
           "zerolinewidth": 2
          },
          "yaxis": {
           "automargin": true,
           "gridcolor": "white",
           "linecolor": "white",
           "ticks": "",
           "title": {
            "standoff": 15
           },
           "zerolinecolor": "white",
           "zerolinewidth": 2
          }
         }
        },
        "title": {
         "text": "Ingredients in Products"
        },
        "xaxis": {
         "anchor": "y",
         "domain": [
          0,
          1
         ],
         "showticklabels": false,
         "title": {
          "text": "Product"
         }
        },
        "yaxis": {
         "anchor": "x",
         "categoryarray": [
          "Clarified Pineapple Juice Concentrate",
          "Pineapple Juice",
          "Pineapple",
          "Refined Fruit Juice",
          "Diced Peaches",
          "Diced Pears",
          "Apple",
          "Jelly Natural Pineapple Flavour",
          "Natural Flavour Mango",
          "Natural Flavour Pineapple",
          "Refined Fruit Juice Pear",
          "Refined Fruit Juice Peach",
          "Refined Fruit Juice Grape",
          "Refined Fruit Juice Apple",
          "Reconstituted Refined Juice Concentrated Pear Juice",
          "Pear",
          "Fruit Peach",
          "Cochineal",
          "Natural Strawberry Flavour",
          "Malic Acid",
          "Calcium Lactate",
          "Locust Bean Gum",
          "Carrageenan",
          "Paprika Extract",
          "Lactic Acid",
          "Buttermilk Powder",
          "Garam Masala",
          "Vegetable Powder Tomato",
          "Milk Lactose",
          "Vegetable Powder Garlic",
          "Glucose",
          "Flavour Enhancer 620",
          "Paprika",
          "Sodium Diacetate",
          "Tomato Powder",
          "Flavoured Milk",
          "Cheese Powder",
          "Antioxidant Rosemary Extract",
          "Antioxidant Tocopherols",
          "Sunflower Oil",
          "Potatoes",
          "Australian Spring Water",
          "Natural Spring Water",
          "Reconstituted Fruit Puree Tomato Paste",
          "Reconstituted Fruit Puree Apple",
          "White Vinegar",
          "Mustard Oil",
          "Herb Extract",
          "Dill",
          "Paprika Oleoresins",
          "Carotene",
          "Gherkin",
          "Free Range Egg Yolk",
          "Vinegar",
          "Canola Oil",
          "Maize Maltodextrin",
          "Maize Thickener 1422",
          "Tomato Puree",
          "Nutmeg",
          "Clove",
          "Tamarind Paste",
          "Caramel Color 150c",
          "Wheat Cornflour",
          "Xanthan Gum",
          "Smoke Flavour",
          "Caramel I",
          "Molasses",
          "Tomato Paste",
          "Apple Pulp",
          "Reconstituted Fruit Puree",
          "Spice Extract",
          "Thickener Modified Corn Starch",
          "Reconstituted Tomato Puree",
          "Acidity Regulator 339",
          "Skim Milk",
          "Rice",
          "Sardines",
          "Homogenised Full Cream Milk",
          "Coconut Extract",
          "Durum Wheat Semolina",
          "Tomatoes",
          "Tomato Juice",
          "Syrup",
          "Fructose",
          "Cream",
          "Pasteurised Homogenised Milk",
          "Reconstituted Fruit Juice Peach Purée",
          "Reconstituted Fruit Juice Water Extracted Orange",
          "Pectin",
          "Potassium Citrate",
          "Vitamin A",
          "Guava Puree",
          "Reconstituted Fruit Juice Pear",
          "Reconstituted Fruit Juice Peach",
          "Reconstituted Fruit Juice Apricot",
          "Reconstituted Fruit Juice Grape",
          "Anthocyanins",
          "Reconstituted Fruit Juice Blackcurrant",
          "Carboxymethyl Cellulose",
          "Reconstituted Fruit Juice Passionfruit",
          "Reconstituted Fruit Juice Pineapple",
          "Vitamin C",
          "Reconstituted Apple Juice",
          "Ferric Ferrocyanide",
          "Titanium Dioxide",
          "Iron Oxides",
          "Ultramarines",
          "Mica",
          "Pentaerythrityl Tetra-di-t-butyl Hydroxyhydrocinnamate",
          "Octyldodecanol",
          "Silica",
          "Polybutene",
          "Bis-Diglyceryl Polyacyladipate-2",
          "Synthetic Wax",
          "Polyethylene",
          "Maize Starch",
          "Cultured Dextrose",
          "Black Carrot Extract",
          "Red Beetroot Powder",
          "Beta carotene",
          "Colouring Agent Spirulina Extract",
          "Colouring Agent Titan White",
          "Carnauba Wax",
          "Glazing Agent 414",
          "Milk Compound Chocolate",
          "Thickener 1414",
          "Colouring Agent 160a",
          "Raising Agent 450",
          "Thickener 1422",
          "Soybean Fibre",
          "Stabiliser 422",
          "Egg",
          "Emulsifier 442",
          "Dextrose",
          "Milk Chocolate Chips",
          "Carmine",
          "Strawberry",
          "Folate",
          "Thiamin",
          "Riboflavin",
          "Zinc",
          "Mineral Iron",
          "Ammonium Bicarbonate",
          "Cornstarch",
          "Fructose Syrup",
          "Skim Milk Powder",
          "Chocolate Chips",
          "Natural Flavour Butter",
          "Natural Flavour Vanilla",
          "Milk Butter",
          "Natural Vanilla Flavour",
          "Dark Chocolate Chips",
          "Ammonium Carbonate",
          "Sodium Carbonate",
          "Annatto Extracts",
          "Milk Whey Powder",
          "Whole Egg Powder",
          "Wheaten Corn Flour",
          "Natural Flavour",
          "Cocoa Solids",
          "Palm Oil",
          "Dark Compound Chocolate Chips",
          "Antioxidant E307B",
          "Colouring Agent Caramel IV",
          "Baking Powder",
          "Wheat Starch",
          "Desiccated Coconut",
          "Polyglycerol polyricinoleate",
          "Enzymes",
          "Emulsifier 471",
          "Sorbitan Tristearate",
          "Cocoa Powder",
          "Natural Flavour Vanilla Extract",
          "Egg White",
          "Barley Malt Extract",
          "Wheat Glucose Syrup",
          "Biscuit",
          "Caramel",
          "Milk Chocolate",
          "Acidity Regulator 331",
          "Invert Sugar",
          "Golden Syrup",
          "Sweetened Condensed Milk",
          "Glucose Syrup",
          "Full Cream Milk",
          "Choc Paste",
          "Processing Aid Wheat",
          "Yeast",
          "Cocoa",
          "Polyglycerol Polyricinoleate",
          "Milk",
          "Cocoa Mass",
          "Emulsifier Soy Lecithin",
          "Cocoa Butter",
          "Milk Solids",
          "Reconstituted Fruit Juice Orange",
          "Reconstituted Mango Juice",
          "Antioxidant 385",
          "Lutein",
          "Carminic Acid",
          "Ascorbic Acid",
          "Reconstituted Lemon Juice",
          "Safflower Extract",
          "Potassium Sorbate",
          "",
          "Reconstituted Lime Juice",
          "Sulphites",
          "Plant Extract Carthamus",
          "Plant Extract Gardenia",
          "Sodium Benzoate",
          "Natural Flavour Lime Oils",
          "Quinine",
          "Natural Flavour Lemon Peel Extract",
          "Natural Flavour Botanical Extracts",
          "Natural Flavour Citrus Oils",
          "Natural Flavour Orange Peel Extract",
          "Potassium Bicarbonate",
          "Natural Mineral Water",
          "Natural Flavours",
          "Carbonated Mineral Water",
          "Caramel Color",
          "Colouring Agent 150c",
          "Rosemary",
          "White Pepper",
          "Soy Sauce Powder",
          "Flavours",
          "Antioxidant 307b",
          "Colouring Agent 100",
          "Basil",
          "Mineral Salt 450",
          "Modified Starch 1420",
          "Dehydrated Vegetables",
          "Vegetable Sachet",
          "Flavour Sachet",
          "Curcumin",
          "Soy",
          "Gluten Wheat",
          "Burnt Sugar",
          "Parsley",
          "Potato Starch",
          "Potassium Chloride",
          "Mineral Salt 500",
          "Mineral Salt 501",
          "Flavour Celery",
          "Spice Ginger",
          "Spice Chilli Powder",
          "Spice Cardamom",
          "Cumin",
          "Coriander",
          "Caramel III",
          "Turmeric",
          "Parsley Flakes",
          "Vegetable Fat",
          "Flavours Soy",
          "Flavours Wheat",
          "Maltodextrin",
          "Iodised Salt",
          "Flavour Enhancer 635",
          "Mineral Salt 451",
          "Mineral Salt 508",
          "Antioxidant 320",
          "Vegetable Oil",
          "Disodium Inosinate",
          "TBHQ",
          "Fried Onion",
          "Sodium Metabisulfite",
          "Preservative 1211",
          "Herbs",
          "Citric Acid",
          "Acetic Acid",
          "Tapioca Starch",
          "Chilli",
          "Chilli Sauce",
          "Sesame Oil",
          "Spices",
          "Soy Bean",
          "Wheat",
          "Water",
          "Sweet Soy Sauce",
          "Onion",
          "Seasoning Oil",
          "Anti Caking Agent 551",
          "Pepper",
          "Artificial Flavour",
          "Yeast Extract",
          "Onion Powder",
          "Garlic Powder",
          "Disodium Guanylate",
          "Flavour Enhancer 621",
          "Seasoning Powder",
          "Colour 101",
          "Guar Gum",
          "Sodium Bicarbonate",
          "Acidity Regulator 501",
          "Acidity Regulator 451",
          "Salt",
          "Refined Palm Oil",
          "Wheat Flour",
          "Sweetener 952",
          "Acesulfame Potassium",
          "Aspartame",
          "Sodium Citrate",
          "Caffeine",
          "Flavour",
          "Phosphoric Acid",
          "Colouring Agent 150d",
          "Sugar",
          "Carbonated Water"
         ],
         "categoryorder": "array",
         "domain": [
          0,
          1
         ],
         "showticklabels": false,
         "title": {
          "text": "Ingredients"
         }
        }
       }
      }
     },
     "metadata": {},
     "output_type": "display_data"
    }
   ],
   "source": [
    "import plotly.express as px\n",
    "import plotly.colors\n",
    "\n",
    "# 获取唯一的成分列表\n",
    "unique_ingredients = df['IngredientResearch'].unique()\n",
    "\n",
    "# 生成足够的颜色以避免重叠\n",
    "color_palette = plotly.colors.qualitative.Alphabet + plotly.colors.qualitative.Dark2 + plotly.colors.qualitative.Set1\n",
    "num_colors = len(unique_ingredients)\n",
    "extended_color_palette = color_palette * (num_colors // len(color_palette) + 1)\n",
    "color_discrete_map = {unique_ingredients[i]: extended_color_palette[i] for i in range(num_colors)}\n",
    "\n",
    "# 创建柱状图\n",
    "fig = px.bar(df, x='Product', y='IngredientResearch', color='IngredientResearch',\n",
    "             title='Ingredients in Products',\n",
    "             labels={'IngredientResearch': ' Ingredients'},\n",
    "             color_discrete_map=color_discrete_map)\n",
    "\n",
    "fig.update_layout(\n",
    "    xaxis_title='Product',\n",
    "    yaxis_title='Ingredients',\n",
    "    xaxis_showticklabels=False,  # 隐藏x轴标签\n",
    "    yaxis_showticklabels=False   # 隐藏y轴标签\n",
    ")\n",
    "\n",
    "fig.show()\n"
   ]
  }
 ],
 "metadata": {
  "kernelspec": {
   "display_name": "base",
   "language": "python",
   "name": "python3"
  },
  "language_info": {
   "codemirror_mode": {
    "name": "ipython",
    "version": 3
   },
   "file_extension": ".py",
   "mimetype": "text/x-python",
   "name": "python",
   "nbconvert_exporter": "python",
   "pygments_lexer": "ipython3",
   "version": "3.10.9"
  }
 },
 "nbformat": 4,
 "nbformat_minor": 2
}
