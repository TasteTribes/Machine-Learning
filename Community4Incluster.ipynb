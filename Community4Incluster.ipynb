{
 "cells": [
  {
   "cell_type": "code",
   "execution_count": 9,
   "metadata": {},
   "outputs": [
    {
     "name": "stdout",
     "output_type": "stream",
     "text": [
      "Connectivity verified successfully.\n"
     ]
    }
   ],
   "source": [
    "from neo4j import GraphDatabase\n",
    "\n",
    "def get_neo4j_driver() -> GraphDatabase.driver:\n",
    "    \"\"\"Establishes and returns a Neo4j session for AuraDB.\"\"\"\n",
    "    neo4j_uri = 'neo4j+s://9d1381c2.databases.neo4j.io:7687'\n",
    "    neo4j_user = 'Shirley'\n",
    "    neo4j_password = 'Sxl19950312'\n",
    "    return GraphDatabase.driver(neo4j_uri, auth=(neo4j_user, neo4j_password))\n",
    "\n",
    "# Call the function to get the driver\n",
    "driver = get_neo4j_driver()\n",
    "\n",
    "# Open a session\n",
    "with driver.session() as session:\n",
    "    # Verify connectivity within the session\n",
    "    session.run(\"RETURN 1\")\n",
    "\n",
    "print(\"Connectivity verified successfully.\")\n",
    "\n",
    "\n",
    "from dash import Dash, dcc, html\n",
    "import plotly.express as px\n",
    "import pandas as pd\n",
    "\n",
    "\n",
    "# Define a Cypher query to retrieve the required data\n",
    "query = \"\"\"\n",
    "MATCH (n)\n",
    "RETURN n\n",
    "\"\"\"\n",
    "\n",
    "# Execute the query and process the results\n",
    "with driver.session() as session:\n",
    "    result = session.run(query)\n",
    "    neo4j_data = [record.data() for record in result]\n",
    "\n",
    "# Converting Neo4j Data to Pandas DataFrame Format\n",
    "df = pd.DataFrame(neo4j_data)\n",
    "\n",
    "#print(df)"
   ]
  },
  {
   "cell_type": "code",
   "execution_count": 10,
   "metadata": {},
   "outputs": [
    {
     "name": "stderr",
     "output_type": "stream",
     "text": [
      "c:\\Users\\apple\\anaconda3\\lib\\site-packages\\sklearn\\cluster\\_kmeans.py:870: FutureWarning: The default value of `n_init` will change from 10 to 'auto' in 1.4. Set the value of `n_init` explicitly to suppress the warning\n",
      "  warnings.warn(\n"
     ]
    },
    {
     "data": {
      "application/vnd.plotly.v1+json": {
       "config": {
        "plotlyServerURL": "https://plot.ly"
       },
       "data": [
        {
         "cells": {
          "align": [
           "center",
           "left"
          ],
          "fill": {
           "color": [
            [
             "#f2f2f2",
             "white",
             "#f2f2f2",
             "white",
             "#f2f2f2",
             "white",
             "#f2f2f2",
             "white",
             "#f2f2f2",
             "white",
             "#f2f2f2",
             "white"
            ]
           ]
          },
          "font": {
           "size": 12
          },
          "height": 30,
          "values": [
           [
            "<b>community 0</b>",
            "<b>community 1</b>",
            "<b>community 2</b>",
            "<b>community 3</b>",
            "<b>community 4</b>",
            "<b>community 5</b>"
           ],
           [
            "Smith's Crinkle Cut Potato Chips Original<br>Smith's Crinkle Cut Potato Chips Cheese & Onion<br>Smith's Crinkle Cut Potato Chips Barbecue<br>Smith's Crinkle Cut Potato Chips Chicken<br>Thins Chips Salt & Vinegar<br>Smith's Thinly Cut Potato Chips Original Share Pack<br>Thins Chips Chicken<br>Smith's Crinkle Cut Potato Chips Salt & Vinegar<br>Thins Chips Light & Tangy<br>Thins Cheese & Onion Chips",
            "Indomie Mi Goreng Instant Noodles<br>Maggi 2 Minute Chicken Flavour Instant Noodles<br>Supreme Noodles Cup Chicken Flavour<br>Fantastic Chicken Noodle Cup<br>Fantastic Chicken Noodle Bowl<br>Indomie Mi Goreng Noodle Cup<br>Maggi 2 Minute Beef Flavour Instant Noodles<br>Supreme Noodles Cup Beef Flavour<br>Woolworths Lasagne Sheets",
            "Arnott's Premier Chocolate Chip Cookies<br>Woolworths Chocolate Chip Cookies<br>Woolworths The King Of Chunky Chocolate Chip Cookies<br>Arnott's Mini Choc Chip Cookie Multipack Biscuits<br>Oreo Original Mini Cookies Multipack<br>Oreo Minis Cookies Variety Bags 18 Pack<br>Cadbury Classic Choc Chip Cookies<br>Cadbury Choc Centre Cookies<br>Byron Bay Cookies Dotty Cookie Bites<br>Oreo Original Cookies<br>Oreo Double Stuff Cookies<br>Oreo Original Cookies Family Pack<br>Oreo Chocolate Cookies<br>Oreo Grab & Go Original Cookies 9 Pack<br>Oreo Neapolitan Double Stuff Cookies",
            "Coca - Cola Classic  Soft Drink Multipack Cans<br>Coca - Cola Zero Sugar Soft Drink Multipack Cans<br>Coca - Cola Classic  Soft Drink Mini Cans<br>Coca - Cola Caffeine Free Zero Sugar Soft Drink Multipack Cans<br>Coca - Cola Vanilla  Soft Drink Multipack Cans<br>Coca - Cola Zero Sugar Soft Drink Mini Cans<br>Schweppes Soda Water Bottle Classic Mixers<br>Schweppes Indian Tonic Water Classic Mixers Bottle<br>Schweppes Lime Soda Water With Lime Juice Bottle<br>Schweppes Zero Sugar Classic Mixers Indian Tonic Water Bottle<br>Schweppes Lemon Lime Natural Mineral Water Bottle<br>Schweppes Orange Mango Natural Mineral Water Bottle<br>Schweppes Zero Sugar Lime Infused Mineral Water Bottle<br>Schweppes Raspberry Infused Natural Mineral Water Bottle<br>Schweppes Natural Mineral Water Bottle Natural<br>Woolworths Spring Water Bottles<br>Woolworths Spring Water<br>Frantelle Australian Still Spring Water Bottles Multipack<br>Mount Franklin Spring Water Bottle<br>Rimmel Scandaleyes Eye Definer Brown<br>Woolworths Apple Juice<br>Woolworths Apple & Mango Juice<br>Woolworths Orange Juice<br>Woolworths Breakfast Juice<br>Woolworths Apple & Blackcurrant Juice<br>Woolworths Multivitamin Juice<br>Golden Circle Golden Pash Fruit Drink<br>Golden Circle Drinks Pine Orange Fruit Drink<br>Golden Circle Drinks Sunshine Punch Fruit Drink<br>Golden Circle Fruit Drinks Lunch Box Poppers Tropical Punch Multipack<br>Woolworths Full Cream Milk<br>Dairy Farmers Full Cream Milk Full Cream Milk<br>Norco Full Cream Milk<br>A2 Milk Full Cream Milk<br>Pauls Farmhouse Gold Full Cream Milk<br>Woolworths Diced Italian Tomatoes<br>Essentials Coconut Cream<br>Essentials Coconut Milk<br>Woolworths Uht Full Cream Milk<br>Woolworths Creamed Rice<br>Woolworths Peach In Strawberry Jelly<br>Woolworths Two Fruits In Juice Cups<br>Woolworths Two Fruits In Juice<br>Woolworths Two Fruits In Tropical Jelly<br>Woolworths Apple In Pineapple Jelly<br>Goulburn Valley Two Fruits In Juice<br>Dole Pineapple Slices In Syrup<br>Dole Pineapple Chunks In Juice<br>Goulburn Valley Two Fruits In Juice Fruit Cups In Juice<br>Deep Cove Sardines In Oil",
            "Kitkat 4 Finger Milk Chocolate Bar<br>Kitkat Chunky Original Chocolate Bar<br>Cadbury Dairy Milk Caramello Koala Chocolate<br>Twix Milk Chocolate Bar With Caramel Biscuit<br>Mars Chocolate Bar With Nougat & Caramel<br>Cadbury Dairy Milk Chocolate Roll<br>Cadbury Chomp Chocolate Bar<br>Cadbury Dairy Milk Chocolate Bar<br>Cadbury Twirl Chocolate Bar",
            "Woolworths Tomato Sauce Squeeze<br>Woolworths Barbecue Sauce Squeeze<br>Masterfoods Tomato Sauce<br>Woolworths Tomato Sauce<br>Masterfoods Barbecue Sauce<br>Fountain Tomato Sauce Squeeze<br>Fountain Barbecue Bbq Sauce Squeeze<br>Woolworths Secret Burger Sauce<br>Heinz Ketchup Tomato Sauce Ketchup<br>Woolworths Barbecue Sauce"
           ]
          ]
         },
         "header": {
          "values": [
           "community",
           "Products"
          ]
         },
         "type": "table"
        }
       ],
       "layout": {
        "height": 600,
        "template": {
         "data": {
          "bar": [
           {
            "error_x": {
             "color": "#2a3f5f"
            },
            "error_y": {
             "color": "#2a3f5f"
            },
            "marker": {
             "line": {
              "color": "#E5ECF6",
              "width": 0.5
             },
             "pattern": {
              "fillmode": "overlay",
              "size": 10,
              "solidity": 0.2
             }
            },
            "type": "bar"
           }
          ],
          "barpolar": [
           {
            "marker": {
             "line": {
              "color": "#E5ECF6",
              "width": 0.5
             },
             "pattern": {
              "fillmode": "overlay",
              "size": 10,
              "solidity": 0.2
             }
            },
            "type": "barpolar"
           }
          ],
          "carpet": [
           {
            "aaxis": {
             "endlinecolor": "#2a3f5f",
             "gridcolor": "white",
             "linecolor": "white",
             "minorgridcolor": "white",
             "startlinecolor": "#2a3f5f"
            },
            "baxis": {
             "endlinecolor": "#2a3f5f",
             "gridcolor": "white",
             "linecolor": "white",
             "minorgridcolor": "white",
             "startlinecolor": "#2a3f5f"
            },
            "type": "carpet"
           }
          ],
          "choropleth": [
           {
            "colorbar": {
             "outlinewidth": 0,
             "ticks": ""
            },
            "type": "choropleth"
           }
          ],
          "contour": [
           {
            "colorbar": {
             "outlinewidth": 0,
             "ticks": ""
            },
            "colorscale": [
             [
              0,
              "#0d0887"
             ],
             [
              0.1111111111111111,
              "#46039f"
             ],
             [
              0.2222222222222222,
              "#7201a8"
             ],
             [
              0.3333333333333333,
              "#9c179e"
             ],
             [
              0.4444444444444444,
              "#bd3786"
             ],
             [
              0.5555555555555556,
              "#d8576b"
             ],
             [
              0.6666666666666666,
              "#ed7953"
             ],
             [
              0.7777777777777778,
              "#fb9f3a"
             ],
             [
              0.8888888888888888,
              "#fdca26"
             ],
             [
              1,
              "#f0f921"
             ]
            ],
            "type": "contour"
           }
          ],
          "contourcarpet": [
           {
            "colorbar": {
             "outlinewidth": 0,
             "ticks": ""
            },
            "type": "contourcarpet"
           }
          ],
          "heatmap": [
           {
            "colorbar": {
             "outlinewidth": 0,
             "ticks": ""
            },
            "colorscale": [
             [
              0,
              "#0d0887"
             ],
             [
              0.1111111111111111,
              "#46039f"
             ],
             [
              0.2222222222222222,
              "#7201a8"
             ],
             [
              0.3333333333333333,
              "#9c179e"
             ],
             [
              0.4444444444444444,
              "#bd3786"
             ],
             [
              0.5555555555555556,
              "#d8576b"
             ],
             [
              0.6666666666666666,
              "#ed7953"
             ],
             [
              0.7777777777777778,
              "#fb9f3a"
             ],
             [
              0.8888888888888888,
              "#fdca26"
             ],
             [
              1,
              "#f0f921"
             ]
            ],
            "type": "heatmap"
           }
          ],
          "heatmapgl": [
           {
            "colorbar": {
             "outlinewidth": 0,
             "ticks": ""
            },
            "colorscale": [
             [
              0,
              "#0d0887"
             ],
             [
              0.1111111111111111,
              "#46039f"
             ],
             [
              0.2222222222222222,
              "#7201a8"
             ],
             [
              0.3333333333333333,
              "#9c179e"
             ],
             [
              0.4444444444444444,
              "#bd3786"
             ],
             [
              0.5555555555555556,
              "#d8576b"
             ],
             [
              0.6666666666666666,
              "#ed7953"
             ],
             [
              0.7777777777777778,
              "#fb9f3a"
             ],
             [
              0.8888888888888888,
              "#fdca26"
             ],
             [
              1,
              "#f0f921"
             ]
            ],
            "type": "heatmapgl"
           }
          ],
          "histogram": [
           {
            "marker": {
             "pattern": {
              "fillmode": "overlay",
              "size": 10,
              "solidity": 0.2
             }
            },
            "type": "histogram"
           }
          ],
          "histogram2d": [
           {
            "colorbar": {
             "outlinewidth": 0,
             "ticks": ""
            },
            "colorscale": [
             [
              0,
              "#0d0887"
             ],
             [
              0.1111111111111111,
              "#46039f"
             ],
             [
              0.2222222222222222,
              "#7201a8"
             ],
             [
              0.3333333333333333,
              "#9c179e"
             ],
             [
              0.4444444444444444,
              "#bd3786"
             ],
             [
              0.5555555555555556,
              "#d8576b"
             ],
             [
              0.6666666666666666,
              "#ed7953"
             ],
             [
              0.7777777777777778,
              "#fb9f3a"
             ],
             [
              0.8888888888888888,
              "#fdca26"
             ],
             [
              1,
              "#f0f921"
             ]
            ],
            "type": "histogram2d"
           }
          ],
          "histogram2dcontour": [
           {
            "colorbar": {
             "outlinewidth": 0,
             "ticks": ""
            },
            "colorscale": [
             [
              0,
              "#0d0887"
             ],
             [
              0.1111111111111111,
              "#46039f"
             ],
             [
              0.2222222222222222,
              "#7201a8"
             ],
             [
              0.3333333333333333,
              "#9c179e"
             ],
             [
              0.4444444444444444,
              "#bd3786"
             ],
             [
              0.5555555555555556,
              "#d8576b"
             ],
             [
              0.6666666666666666,
              "#ed7953"
             ],
             [
              0.7777777777777778,
              "#fb9f3a"
             ],
             [
              0.8888888888888888,
              "#fdca26"
             ],
             [
              1,
              "#f0f921"
             ]
            ],
            "type": "histogram2dcontour"
           }
          ],
          "mesh3d": [
           {
            "colorbar": {
             "outlinewidth": 0,
             "ticks": ""
            },
            "type": "mesh3d"
           }
          ],
          "parcoords": [
           {
            "line": {
             "colorbar": {
              "outlinewidth": 0,
              "ticks": ""
             }
            },
            "type": "parcoords"
           }
          ],
          "pie": [
           {
            "automargin": true,
            "type": "pie"
           }
          ],
          "scatter": [
           {
            "fillpattern": {
             "fillmode": "overlay",
             "size": 10,
             "solidity": 0.2
            },
            "type": "scatter"
           }
          ],
          "scatter3d": [
           {
            "line": {
             "colorbar": {
              "outlinewidth": 0,
              "ticks": ""
             }
            },
            "marker": {
             "colorbar": {
              "outlinewidth": 0,
              "ticks": ""
             }
            },
            "type": "scatter3d"
           }
          ],
          "scattercarpet": [
           {
            "marker": {
             "colorbar": {
              "outlinewidth": 0,
              "ticks": ""
             }
            },
            "type": "scattercarpet"
           }
          ],
          "scattergeo": [
           {
            "marker": {
             "colorbar": {
              "outlinewidth": 0,
              "ticks": ""
             }
            },
            "type": "scattergeo"
           }
          ],
          "scattergl": [
           {
            "marker": {
             "colorbar": {
              "outlinewidth": 0,
              "ticks": ""
             }
            },
            "type": "scattergl"
           }
          ],
          "scattermapbox": [
           {
            "marker": {
             "colorbar": {
              "outlinewidth": 0,
              "ticks": ""
             }
            },
            "type": "scattermapbox"
           }
          ],
          "scatterpolar": [
           {
            "marker": {
             "colorbar": {
              "outlinewidth": 0,
              "ticks": ""
             }
            },
            "type": "scatterpolar"
           }
          ],
          "scatterpolargl": [
           {
            "marker": {
             "colorbar": {
              "outlinewidth": 0,
              "ticks": ""
             }
            },
            "type": "scatterpolargl"
           }
          ],
          "scatterternary": [
           {
            "marker": {
             "colorbar": {
              "outlinewidth": 0,
              "ticks": ""
             }
            },
            "type": "scatterternary"
           }
          ],
          "surface": [
           {
            "colorbar": {
             "outlinewidth": 0,
             "ticks": ""
            },
            "colorscale": [
             [
              0,
              "#0d0887"
             ],
             [
              0.1111111111111111,
              "#46039f"
             ],
             [
              0.2222222222222222,
              "#7201a8"
             ],
             [
              0.3333333333333333,
              "#9c179e"
             ],
             [
              0.4444444444444444,
              "#bd3786"
             ],
             [
              0.5555555555555556,
              "#d8576b"
             ],
             [
              0.6666666666666666,
              "#ed7953"
             ],
             [
              0.7777777777777778,
              "#fb9f3a"
             ],
             [
              0.8888888888888888,
              "#fdca26"
             ],
             [
              1,
              "#f0f921"
             ]
            ],
            "type": "surface"
           }
          ],
          "table": [
           {
            "cells": {
             "fill": {
              "color": "#EBF0F8"
             },
             "line": {
              "color": "white"
             }
            },
            "header": {
             "fill": {
              "color": "#C8D4E3"
             },
             "line": {
              "color": "white"
             }
            },
            "type": "table"
           }
          ]
         },
         "layout": {
          "annotationdefaults": {
           "arrowcolor": "#2a3f5f",
           "arrowhead": 0,
           "arrowwidth": 1
          },
          "autotypenumbers": "strict",
          "coloraxis": {
           "colorbar": {
            "outlinewidth": 0,
            "ticks": ""
           }
          },
          "colorscale": {
           "diverging": [
            [
             0,
             "#8e0152"
            ],
            [
             0.1,
             "#c51b7d"
            ],
            [
             0.2,
             "#de77ae"
            ],
            [
             0.3,
             "#f1b6da"
            ],
            [
             0.4,
             "#fde0ef"
            ],
            [
             0.5,
             "#f7f7f7"
            ],
            [
             0.6,
             "#e6f5d0"
            ],
            [
             0.7,
             "#b8e186"
            ],
            [
             0.8,
             "#7fbc41"
            ],
            [
             0.9,
             "#4d9221"
            ],
            [
             1,
             "#276419"
            ]
           ],
           "sequential": [
            [
             0,
             "#0d0887"
            ],
            [
             0.1111111111111111,
             "#46039f"
            ],
            [
             0.2222222222222222,
             "#7201a8"
            ],
            [
             0.3333333333333333,
             "#9c179e"
            ],
            [
             0.4444444444444444,
             "#bd3786"
            ],
            [
             0.5555555555555556,
             "#d8576b"
            ],
            [
             0.6666666666666666,
             "#ed7953"
            ],
            [
             0.7777777777777778,
             "#fb9f3a"
            ],
            [
             0.8888888888888888,
             "#fdca26"
            ],
            [
             1,
             "#f0f921"
            ]
           ],
           "sequentialminus": [
            [
             0,
             "#0d0887"
            ],
            [
             0.1111111111111111,
             "#46039f"
            ],
            [
             0.2222222222222222,
             "#7201a8"
            ],
            [
             0.3333333333333333,
             "#9c179e"
            ],
            [
             0.4444444444444444,
             "#bd3786"
            ],
            [
             0.5555555555555556,
             "#d8576b"
            ],
            [
             0.6666666666666666,
             "#ed7953"
            ],
            [
             0.7777777777777778,
             "#fb9f3a"
            ],
            [
             0.8888888888888888,
             "#fdca26"
            ],
            [
             1,
             "#f0f921"
            ]
           ]
          },
          "colorway": [
           "#636efa",
           "#EF553B",
           "#00cc96",
           "#ab63fa",
           "#FFA15A",
           "#19d3f3",
           "#FF6692",
           "#B6E880",
           "#FF97FF",
           "#FECB52"
          ],
          "font": {
           "color": "#2a3f5f"
          },
          "geo": {
           "bgcolor": "white",
           "lakecolor": "white",
           "landcolor": "#E5ECF6",
           "showlakes": true,
           "showland": true,
           "subunitcolor": "white"
          },
          "hoverlabel": {
           "align": "left"
          },
          "hovermode": "closest",
          "mapbox": {
           "style": "light"
          },
          "paper_bgcolor": "white",
          "plot_bgcolor": "#E5ECF6",
          "polar": {
           "angularaxis": {
            "gridcolor": "white",
            "linecolor": "white",
            "ticks": ""
           },
           "bgcolor": "#E5ECF6",
           "radialaxis": {
            "gridcolor": "white",
            "linecolor": "white",
            "ticks": ""
           }
          },
          "scene": {
           "xaxis": {
            "backgroundcolor": "#E5ECF6",
            "gridcolor": "white",
            "gridwidth": 2,
            "linecolor": "white",
            "showbackground": true,
            "ticks": "",
            "zerolinecolor": "white"
           },
           "yaxis": {
            "backgroundcolor": "#E5ECF6",
            "gridcolor": "white",
            "gridwidth": 2,
            "linecolor": "white",
            "showbackground": true,
            "ticks": "",
            "zerolinecolor": "white"
           },
           "zaxis": {
            "backgroundcolor": "#E5ECF6",
            "gridcolor": "white",
            "gridwidth": 2,
            "linecolor": "white",
            "showbackground": true,
            "ticks": "",
            "zerolinecolor": "white"
           }
          },
          "shapedefaults": {
           "line": {
            "color": "#2a3f5f"
           }
          },
          "ternary": {
           "aaxis": {
            "gridcolor": "white",
            "linecolor": "white",
            "ticks": ""
           },
           "baxis": {
            "gridcolor": "white",
            "linecolor": "white",
            "ticks": ""
           },
           "bgcolor": "#E5ECF6",
           "caxis": {
            "gridcolor": "white",
            "linecolor": "white",
            "ticks": ""
           }
          },
          "title": {
           "x": 0.05
          },
          "xaxis": {
           "automargin": true,
           "gridcolor": "white",
           "linecolor": "white",
           "ticks": "",
           "title": {
            "standoff": 15
           },
           "zerolinecolor": "white",
           "zerolinewidth": 2
          },
          "yaxis": {
           "automargin": true,
           "gridcolor": "white",
           "linecolor": "white",
           "ticks": "",
           "title": {
            "standoff": 15
           },
           "zerolinecolor": "white",
           "zerolinewidth": 2
          }
         }
        },
        "title": {
         "text": "Product communities Based on Ingredient Research and Category (K-means)"
        },
        "width": 1000
       }
      }
     },
     "metadata": {},
     "output_type": "display_data"
    }
   ],
   "source": [
    "import pandas as pd\n",
    "from sklearn.cluster import KMeans\n",
    "from sklearn.preprocessing import MultiLabelBinarizer\n",
    "import plotly.graph_objs as go\n",
    "\n",
    "\n",
    "from neo4j import GraphDatabase\n",
    "\n",
    "\n",
    "with driver.session() as session:\n",
    "   \n",
    "    result = session.run(\"MATCH (p:Product)-[:STOCKED_IN]->(c:Category), \"\n",
    "                         \"(p)-[:HAS_RECIPE]->(r:Recipe)-[:USES_INGREDIENT]->(i:Ingredient)-[:HAS_RESEARCH]->(res:IngredientResearch) \"\n",
    "                         \"RETURN p.name AS product, res.ingredient_name AS ingredientResearch, COLLECT(c.name) AS categories\")\n",
    "\n",
    "    # Convert results to Pandas DataFrame\n",
    "    data = []\n",
    "    for record in result:\n",
    "        data.append({'product': record['product'], 'ingredientResearch': record['ingredientResearch'], 'categories': record['categories']})\n",
    "    df = pd.DataFrame(data)\n",
    "\n",
    "    # Solo heat coding of raw material research and product categories\n",
    "    mlb = MultiLabelBinarizer()\n",
    "    ingredient_encoded = pd.DataFrame(mlb.fit_transform(df['ingredientResearch'].apply(lambda x: [x])),\n",
    "                                      columns=mlb.classes_, index=df.index)\n",
    "    category_encoded = pd.DataFrame(mlb.fit_transform(df['categories']),\n",
    "                                    columns=mlb.classes_, index=df.index)\n",
    "\n",
    "    # Splicing of coded raw material studies and product categories\n",
    "    features = pd.concat([ingredient_encoded, category_encoded], axis=1)\n",
    "\n",
    "    # Clustering using the K-means algorithm\n",
    "    kmeans = KMeans(n_clusters=6, random_state=50)\n",
    "    clusters = kmeans.fit_predict(features)\n",
    "\n",
    "    # Add the clustering results to the DataFrame\n",
    "    df['community'] = clusters\n",
    "\n",
    "    # Create table data\n",
    "    table_data = []\n",
    "    for community in sorted(df['community'].unique()):\n",
    "        products = df[df['community'] == community]['product'].unique().tolist()\n",
    "        row = [f\"<b>community {community}</b>\"] + [\"<br>\".join(products)]\n",
    "        table_data.append(row)\n",
    "\n",
    "    \n",
    "    table = go.Table(\n",
    "        header=dict(values=[\"community\", \"Products\"]),\n",
    "        cells=dict(values=[list(zip(*table_data))[0], list(zip(*table_data))[1]],\n",
    "                   fill_color=[['#f2f2f2', 'white'] * len(table_data)],\n",
    "                   align=['center', 'left'],\n",
    "                   font=dict(size=12),\n",
    "                   height=30)\n",
    "    )\n",
    "\n",
    "    \n",
    "    layout = go.Layout(title=\"Product communities Based on Ingredient Research and Category (K-means)\",\n",
    "                       width=1000, height=600)\n",
    "\n",
    "   \n",
    "    fig = go.Figure(data=[table], layout=layout)\n",
    "    fig.show()"
   ]
  },
  {
   "cell_type": "code",
   "execution_count": 11,
   "metadata": {},
   "outputs": [
    {
     "name": "stderr",
     "output_type": "stream",
     "text": [
      "c:\\Users\\apple\\anaconda3\\lib\\site-packages\\sklearn\\cluster\\_kmeans.py:870: FutureWarning:\n",
      "\n",
      "The default value of `n_init` will change from 10 to 'auto' in 1.4. Set the value of `n_init` explicitly to suppress the warning\n",
      "\n",
      "c:\\Users\\apple\\anaconda3\\lib\\site-packages\\sklearn\\preprocessing\\_label.py:895: UserWarning:\n",
      "\n",
      "unknown class(es) ['', 'Acesulfame Potassium', 'Acidity Regulator 339', 'Anthocyanins', 'Antioxidant 385', 'Apple', 'Ascorbic Acid', 'Aspartame', 'Australian Spring Water', 'Bis-Diglyceryl Polyacyladipate-2', 'Caffeine', 'Calcium Lactate', 'Carbonated Mineral Water', 'Carbonated Water', 'Carboxymethyl Cellulose', 'Carmine', 'Carminic Acid', 'Carotene', 'Carrageenan', 'Citric Acid', 'Clarified Pineapple Juice Concentrate', 'Cochineal', 'Coconut Extract', 'Colouring Agent 150d', 'Cream', 'Diced Peaches', 'Diced Pears', 'Ferric Ferrocyanide', 'Flavour', 'Folate', 'Fruit Peach', 'Full Cream Milk', 'Guar Gum', 'Guava Puree', 'Homogenised Full Cream Milk', 'Iron Oxides', 'Jelly Natural Pineapple Flavour', 'Locust Bean Gum', 'Lutein', 'Malic Acid', 'Mica', 'Milk', 'Natural Flavour', 'Natural Flavour Botanical Extracts', 'Natural Flavour Citrus Oils', 'Natural Flavour Lemon Peel Extract', 'Natural Flavour Lime Oils', 'Natural Flavour Mango', 'Natural Flavour Orange Peel Extract', 'Natural Flavour Pineapple', 'Natural Flavours', 'Natural Mineral Water', 'Natural Spring Water', 'Natural Strawberry Flavour', 'Natural Vanilla Flavour', 'Octyldodecanol', 'Paprika Oleoresins', 'Pasteurised Homogenised Milk', 'Pear', 'Pectin', 'Pentaerythrityl Tetra-di-t-butyl Hydroxyhydrocinnamate', 'Phosphoric Acid', 'Pineapple', 'Pineapple Juice', 'Plant Extract Carthamus', 'Plant Extract Gardenia', 'Polybutene', 'Polyethylene', 'Potassium Bicarbonate', 'Potassium Citrate', 'Potassium Sorbate', 'Quinine', 'Reconstituted Apple Juice', 'Reconstituted Fruit Juice Apricot', 'Reconstituted Fruit Juice Blackcurrant', 'Reconstituted Fruit Juice Grape', 'Reconstituted Fruit Juice Orange', 'Reconstituted Fruit Juice Passionfruit', 'Reconstituted Fruit Juice Peach', 'Reconstituted Fruit Juice Peach Purée', 'Reconstituted Fruit Juice Pear', 'Reconstituted Fruit Juice Pineapple', 'Reconstituted Fruit Juice Water Extracted Orange', 'Reconstituted Lemon Juice', 'Reconstituted Lime Juice', 'Reconstituted Mango Juice', 'Reconstituted Refined Juice Concentrated Pear Juice', 'Refined Fruit Juice', 'Refined Fruit Juice Apple', 'Refined Fruit Juice Grape', 'Refined Fruit Juice Peach', 'Refined Fruit Juice Pear', 'Rice', 'Safflower Extract', 'Salt', 'Sardines', 'Silica', 'Skim Milk', 'Sodium Benzoate', 'Sodium Citrate', 'Sodium Metabisulfite', 'Sugar', 'Sulphites', 'Sweetener 952', 'Synthetic Wax', 'Titanium Dioxide', 'Tomato Juice', 'Tomatoes', 'Ultramarines', 'Vegetable Oil', 'Vitamin A', 'Vitamin C', 'Water', 'Xanthan Gum'] will be ignored\n",
      "\n",
      "c:\\Users\\apple\\anaconda3\\lib\\site-packages\\sklearn\\cluster\\_kmeans.py:870: FutureWarning:\n",
      "\n",
      "The default value of `n_init` will change from 10 to 'auto' in 1.4. Set the value of `n_init` explicitly to suppress the warning\n",
      "\n",
      "c:\\Users\\apple\\anaconda3\\lib\\site-packages\\sklearn\\cluster\\_kmeans.py:1382: UserWarning:\n",
      "\n",
      "KMeans is known to have a memory leak on Windows with MKL, when there are less chunks than available threads. You can avoid it by setting the environment variable OMP_NUM_THREADS=2.\n",
      "\n"
     ]
    },
    {
     "data": {
      "application/vnd.plotly.v1+json": {
       "config": {
        "plotlyServerURL": "https://plot.ly"
       },
       "data": [
        {
         "cells": {
          "align": [
           "center",
           "left"
          ],
          "fill": {
           "color": [
            [
             "#f2f2f2",
             "white",
             "#f2f2f2",
             "white",
             "#f2f2f2",
             "white",
             "#f2f2f2",
             "white",
             "#f2f2f2",
             "white",
             "#f2f2f2",
             "white",
             "#f2f2f2",
             "white",
             "#f2f2f2",
             "white",
             "#f2f2f2",
             "white",
             "#f2f2f2",
             "white",
             "#f2f2f2",
             "white",
             "#f2f2f2",
             "white",
             "#f2f2f2",
             "white",
             "#f2f2f2",
             "white",
             "#f2f2f2",
             "white"
            ]
           ]
          },
          "font": {
           "size": 12
          },
          "height": 30,
          "values": [
           [
            "<b>Community 0</b>",
            "<b>Community 1</b>",
            "<b>Community 2</b>",
            "<b>Community 4</b>",
            "<b>Community 5</b>",
            "<b>Community 6</b>",
            "<b>Community 7</b>",
            "<b>Community 8</b>",
            "<b>Community 9</b>",
            "<b>Community 10</b>",
            "<b>Community 11</b>",
            "<b>Community 12</b>",
            "<b>Community 13</b>",
            "<b>Community 14</b>",
            "<b>Community 15</b>"
           ],
           [
            "Smith's Crinkle Cut Potato Chips Original<br>Smith's Crinkle Cut Potato Chips Cheese & Onion<br>Smith's Crinkle Cut Potato Chips Barbecue<br>Smith's Crinkle Cut Potato Chips Chicken<br>Thins Chips Salt & Vinegar<br>Smith's Thinly Cut Potato Chips Original Share Pack<br>Thins Chips Chicken<br>Smith's Crinkle Cut Potato Chips Salt & Vinegar<br>Thins Chips Light & Tangy<br>Thins Cheese & Onion Chips",
            "Indomie Mi Goreng Instant Noodles<br>Maggi 2 Minute Chicken Flavour Instant Noodles<br>Supreme Noodles Cup Chicken Flavour<br>Fantastic Chicken Noodle Cup<br>Fantastic Chicken Noodle Bowl<br>Indomie Mi Goreng Noodle Cup<br>Maggi 2 Minute Beef Flavour Instant Noodles<br>Supreme Noodles Cup Beef Flavour<br>Woolworths Lasagne Sheets",
            "Arnott's Premier Chocolate Chip Cookies<br>Woolworths Chocolate Chip Cookies<br>Woolworths The King Of Chunky Chocolate Chip Cookies<br>Arnott's Mini Choc Chip Cookie Multipack Biscuits<br>Oreo Original Mini Cookies Multipack<br>Oreo Minis Cookies Variety Bags 18 Pack<br>Cadbury Classic Choc Chip Cookies<br>Cadbury Choc Centre Cookies<br>Byron Bay Cookies Dotty Cookie Bites<br>Oreo Original Cookies<br>Oreo Double Stuff Cookies<br>Oreo Original Cookies Family Pack<br>Oreo Chocolate Cookies<br>Oreo Grab & Go Original Cookies 9 Pack<br>Oreo Neapolitan Double Stuff Cookies",
            "Kitkat 4 Finger Milk Chocolate Bar<br>Kitkat Chunky Original Chocolate Bar<br>Cadbury Dairy Milk Caramello Koala Chocolate<br>Twix Milk Chocolate Bar With Caramel Biscuit<br>Mars Chocolate Bar With Nougat & Caramel<br>Cadbury Dairy Milk Chocolate Roll<br>Cadbury Chomp Chocolate Bar<br>Cadbury Dairy Milk Chocolate Bar<br>Cadbury Twirl Chocolate Bar",
            "Woolworths Tomato Sauce Squeeze<br>Woolworths Barbecue Sauce Squeeze<br>Masterfoods Tomato Sauce<br>Woolworths Tomato Sauce<br>Masterfoods Barbecue Sauce<br>Fountain Tomato Sauce Squeeze<br>Fountain Barbecue Bbq Sauce Squeeze<br>Woolworths Secret Burger Sauce<br>Heinz Ketchup Tomato Sauce Ketchup<br>Woolworths Barbecue Sauce",
            "Woolworths Apple Juice<br>Woolworths Apple & Mango Juice<br>Woolworths Orange Juice<br>Woolworths Breakfast Juice<br>Woolworths Apple & Blackcurrant Juice<br>Woolworths Multivitamin Juice<br>Golden Circle Golden Pash Fruit Drink<br>Golden Circle Drinks Pine Orange Fruit Drink<br>Golden Circle Drinks Sunshine Punch Fruit Drink<br>Golden Circle Fruit Drinks Lunch Box Poppers Tropical Punch Multipack",
            "Coca - Cola Classic  Soft Drink Multipack Cans<br>Coca - Cola Zero Sugar Soft Drink Multipack Cans<br>Coca - Cola Classic  Soft Drink Mini Cans<br>Coca - Cola Caffeine Free Zero Sugar Soft Drink Multipack Cans<br>Coca - Cola Vanilla  Soft Drink Multipack Cans<br>Coca - Cola Zero Sugar Soft Drink Mini Cans<br>Schweppes Soda Water Bottle Classic Mixers<br>Schweppes Indian Tonic Water Classic Mixers Bottle<br>Schweppes Lime Soda Water With Lime Juice Bottle<br>Schweppes Zero Sugar Classic Mixers Indian Tonic Water Bottle<br>Schweppes Lemon Lime Natural Mineral Water Bottle<br>Schweppes Orange Mango Natural Mineral Water Bottle",
            "Woolworths Creamed Rice<br>Woolworths Peach In Strawberry Jelly<br>Woolworths Two Fruits In Juice Cups<br>Woolworths Two Fruits In Juice<br>Woolworths Two Fruits In Tropical Jelly<br>Woolworths Apple In Pineapple Jelly<br>Goulburn Valley Two Fruits In Juice<br>Dole Pineapple Slices In Syrup<br>Dole Pineapple Chunks In Juice<br>Goulburn Valley Two Fruits In Juice Fruit Cups In Juice",
            "Rimmel Scandaleyes Eye Definer Brown",
            "Schweppes Zero Sugar Lime Infused Mineral Water Bottle<br>Schweppes Raspberry Infused Natural Mineral Water Bottle<br>Schweppes Natural Mineral Water Bottle Natural<br>Woolworths Spring Water Bottles<br>Woolworths Spring Water<br>Frantelle Australian Still Spring Water Bottles Multipack<br>Mount Franklin Spring Water Bottle",
            "Woolworths Full Cream Milk<br>Dairy Farmers Full Cream Milk Full Cream Milk<br>Norco Full Cream Milk<br>A2 Milk Full Cream Milk<br>Pauls Farmhouse Gold Full Cream Milk",
            "Essentials Coconut Cream<br>Essentials Coconut Milk",
            "Deep Cove Sardines In Oil",
            "Woolworths Diced Italian Tomatoes",
            "Woolworths Uht Full Cream Milk"
           ]
          ]
         },
         "header": {
          "values": [
           "Community",
           "Products"
          ]
         },
         "type": "table"
        }
       ],
       "layout": {
        "height": 600,
        "template": {
         "data": {
          "bar": [
           {
            "error_x": {
             "color": "#2a3f5f"
            },
            "error_y": {
             "color": "#2a3f5f"
            },
            "marker": {
             "line": {
              "color": "#E5ECF6",
              "width": 0.5
             },
             "pattern": {
              "fillmode": "overlay",
              "size": 10,
              "solidity": 0.2
             }
            },
            "type": "bar"
           }
          ],
          "barpolar": [
           {
            "marker": {
             "line": {
              "color": "#E5ECF6",
              "width": 0.5
             },
             "pattern": {
              "fillmode": "overlay",
              "size": 10,
              "solidity": 0.2
             }
            },
            "type": "barpolar"
           }
          ],
          "carpet": [
           {
            "aaxis": {
             "endlinecolor": "#2a3f5f",
             "gridcolor": "white",
             "linecolor": "white",
             "minorgridcolor": "white",
             "startlinecolor": "#2a3f5f"
            },
            "baxis": {
             "endlinecolor": "#2a3f5f",
             "gridcolor": "white",
             "linecolor": "white",
             "minorgridcolor": "white",
             "startlinecolor": "#2a3f5f"
            },
            "type": "carpet"
           }
          ],
          "choropleth": [
           {
            "colorbar": {
             "outlinewidth": 0,
             "ticks": ""
            },
            "type": "choropleth"
           }
          ],
          "contour": [
           {
            "colorbar": {
             "outlinewidth": 0,
             "ticks": ""
            },
            "colorscale": [
             [
              0,
              "#0d0887"
             ],
             [
              0.1111111111111111,
              "#46039f"
             ],
             [
              0.2222222222222222,
              "#7201a8"
             ],
             [
              0.3333333333333333,
              "#9c179e"
             ],
             [
              0.4444444444444444,
              "#bd3786"
             ],
             [
              0.5555555555555556,
              "#d8576b"
             ],
             [
              0.6666666666666666,
              "#ed7953"
             ],
             [
              0.7777777777777778,
              "#fb9f3a"
             ],
             [
              0.8888888888888888,
              "#fdca26"
             ],
             [
              1,
              "#f0f921"
             ]
            ],
            "type": "contour"
           }
          ],
          "contourcarpet": [
           {
            "colorbar": {
             "outlinewidth": 0,
             "ticks": ""
            },
            "type": "contourcarpet"
           }
          ],
          "heatmap": [
           {
            "colorbar": {
             "outlinewidth": 0,
             "ticks": ""
            },
            "colorscale": [
             [
              0,
              "#0d0887"
             ],
             [
              0.1111111111111111,
              "#46039f"
             ],
             [
              0.2222222222222222,
              "#7201a8"
             ],
             [
              0.3333333333333333,
              "#9c179e"
             ],
             [
              0.4444444444444444,
              "#bd3786"
             ],
             [
              0.5555555555555556,
              "#d8576b"
             ],
             [
              0.6666666666666666,
              "#ed7953"
             ],
             [
              0.7777777777777778,
              "#fb9f3a"
             ],
             [
              0.8888888888888888,
              "#fdca26"
             ],
             [
              1,
              "#f0f921"
             ]
            ],
            "type": "heatmap"
           }
          ],
          "heatmapgl": [
           {
            "colorbar": {
             "outlinewidth": 0,
             "ticks": ""
            },
            "colorscale": [
             [
              0,
              "#0d0887"
             ],
             [
              0.1111111111111111,
              "#46039f"
             ],
             [
              0.2222222222222222,
              "#7201a8"
             ],
             [
              0.3333333333333333,
              "#9c179e"
             ],
             [
              0.4444444444444444,
              "#bd3786"
             ],
             [
              0.5555555555555556,
              "#d8576b"
             ],
             [
              0.6666666666666666,
              "#ed7953"
             ],
             [
              0.7777777777777778,
              "#fb9f3a"
             ],
             [
              0.8888888888888888,
              "#fdca26"
             ],
             [
              1,
              "#f0f921"
             ]
            ],
            "type": "heatmapgl"
           }
          ],
          "histogram": [
           {
            "marker": {
             "pattern": {
              "fillmode": "overlay",
              "size": 10,
              "solidity": 0.2
             }
            },
            "type": "histogram"
           }
          ],
          "histogram2d": [
           {
            "colorbar": {
             "outlinewidth": 0,
             "ticks": ""
            },
            "colorscale": [
             [
              0,
              "#0d0887"
             ],
             [
              0.1111111111111111,
              "#46039f"
             ],
             [
              0.2222222222222222,
              "#7201a8"
             ],
             [
              0.3333333333333333,
              "#9c179e"
             ],
             [
              0.4444444444444444,
              "#bd3786"
             ],
             [
              0.5555555555555556,
              "#d8576b"
             ],
             [
              0.6666666666666666,
              "#ed7953"
             ],
             [
              0.7777777777777778,
              "#fb9f3a"
             ],
             [
              0.8888888888888888,
              "#fdca26"
             ],
             [
              1,
              "#f0f921"
             ]
            ],
            "type": "histogram2d"
           }
          ],
          "histogram2dcontour": [
           {
            "colorbar": {
             "outlinewidth": 0,
             "ticks": ""
            },
            "colorscale": [
             [
              0,
              "#0d0887"
             ],
             [
              0.1111111111111111,
              "#46039f"
             ],
             [
              0.2222222222222222,
              "#7201a8"
             ],
             [
              0.3333333333333333,
              "#9c179e"
             ],
             [
              0.4444444444444444,
              "#bd3786"
             ],
             [
              0.5555555555555556,
              "#d8576b"
             ],
             [
              0.6666666666666666,
              "#ed7953"
             ],
             [
              0.7777777777777778,
              "#fb9f3a"
             ],
             [
              0.8888888888888888,
              "#fdca26"
             ],
             [
              1,
              "#f0f921"
             ]
            ],
            "type": "histogram2dcontour"
           }
          ],
          "mesh3d": [
           {
            "colorbar": {
             "outlinewidth": 0,
             "ticks": ""
            },
            "type": "mesh3d"
           }
          ],
          "parcoords": [
           {
            "line": {
             "colorbar": {
              "outlinewidth": 0,
              "ticks": ""
             }
            },
            "type": "parcoords"
           }
          ],
          "pie": [
           {
            "automargin": true,
            "type": "pie"
           }
          ],
          "scatter": [
           {
            "fillpattern": {
             "fillmode": "overlay",
             "size": 10,
             "solidity": 0.2
            },
            "type": "scatter"
           }
          ],
          "scatter3d": [
           {
            "line": {
             "colorbar": {
              "outlinewidth": 0,
              "ticks": ""
             }
            },
            "marker": {
             "colorbar": {
              "outlinewidth": 0,
              "ticks": ""
             }
            },
            "type": "scatter3d"
           }
          ],
          "scattercarpet": [
           {
            "marker": {
             "colorbar": {
              "outlinewidth": 0,
              "ticks": ""
             }
            },
            "type": "scattercarpet"
           }
          ],
          "scattergeo": [
           {
            "marker": {
             "colorbar": {
              "outlinewidth": 0,
              "ticks": ""
             }
            },
            "type": "scattergeo"
           }
          ],
          "scattergl": [
           {
            "marker": {
             "colorbar": {
              "outlinewidth": 0,
              "ticks": ""
             }
            },
            "type": "scattergl"
           }
          ],
          "scattermapbox": [
           {
            "marker": {
             "colorbar": {
              "outlinewidth": 0,
              "ticks": ""
             }
            },
            "type": "scattermapbox"
           }
          ],
          "scatterpolar": [
           {
            "marker": {
             "colorbar": {
              "outlinewidth": 0,
              "ticks": ""
             }
            },
            "type": "scatterpolar"
           }
          ],
          "scatterpolargl": [
           {
            "marker": {
             "colorbar": {
              "outlinewidth": 0,
              "ticks": ""
             }
            },
            "type": "scatterpolargl"
           }
          ],
          "scatterternary": [
           {
            "marker": {
             "colorbar": {
              "outlinewidth": 0,
              "ticks": ""
             }
            },
            "type": "scatterternary"
           }
          ],
          "surface": [
           {
            "colorbar": {
             "outlinewidth": 0,
             "ticks": ""
            },
            "colorscale": [
             [
              0,
              "#0d0887"
             ],
             [
              0.1111111111111111,
              "#46039f"
             ],
             [
              0.2222222222222222,
              "#7201a8"
             ],
             [
              0.3333333333333333,
              "#9c179e"
             ],
             [
              0.4444444444444444,
              "#bd3786"
             ],
             [
              0.5555555555555556,
              "#d8576b"
             ],
             [
              0.6666666666666666,
              "#ed7953"
             ],
             [
              0.7777777777777778,
              "#fb9f3a"
             ],
             [
              0.8888888888888888,
              "#fdca26"
             ],
             [
              1,
              "#f0f921"
             ]
            ],
            "type": "surface"
           }
          ],
          "table": [
           {
            "cells": {
             "fill": {
              "color": "#EBF0F8"
             },
             "line": {
              "color": "white"
             }
            },
            "header": {
             "fill": {
              "color": "#C8D4E3"
             },
             "line": {
              "color": "white"
             }
            },
            "type": "table"
           }
          ]
         },
         "layout": {
          "annotationdefaults": {
           "arrowcolor": "#2a3f5f",
           "arrowhead": 0,
           "arrowwidth": 1
          },
          "autotypenumbers": "strict",
          "coloraxis": {
           "colorbar": {
            "outlinewidth": 0,
            "ticks": ""
           }
          },
          "colorscale": {
           "diverging": [
            [
             0,
             "#8e0152"
            ],
            [
             0.1,
             "#c51b7d"
            ],
            [
             0.2,
             "#de77ae"
            ],
            [
             0.3,
             "#f1b6da"
            ],
            [
             0.4,
             "#fde0ef"
            ],
            [
             0.5,
             "#f7f7f7"
            ],
            [
             0.6,
             "#e6f5d0"
            ],
            [
             0.7,
             "#b8e186"
            ],
            [
             0.8,
             "#7fbc41"
            ],
            [
             0.9,
             "#4d9221"
            ],
            [
             1,
             "#276419"
            ]
           ],
           "sequential": [
            [
             0,
             "#0d0887"
            ],
            [
             0.1111111111111111,
             "#46039f"
            ],
            [
             0.2222222222222222,
             "#7201a8"
            ],
            [
             0.3333333333333333,
             "#9c179e"
            ],
            [
             0.4444444444444444,
             "#bd3786"
            ],
            [
             0.5555555555555556,
             "#d8576b"
            ],
            [
             0.6666666666666666,
             "#ed7953"
            ],
            [
             0.7777777777777778,
             "#fb9f3a"
            ],
            [
             0.8888888888888888,
             "#fdca26"
            ],
            [
             1,
             "#f0f921"
            ]
           ],
           "sequentialminus": [
            [
             0,
             "#0d0887"
            ],
            [
             0.1111111111111111,
             "#46039f"
            ],
            [
             0.2222222222222222,
             "#7201a8"
            ],
            [
             0.3333333333333333,
             "#9c179e"
            ],
            [
             0.4444444444444444,
             "#bd3786"
            ],
            [
             0.5555555555555556,
             "#d8576b"
            ],
            [
             0.6666666666666666,
             "#ed7953"
            ],
            [
             0.7777777777777778,
             "#fb9f3a"
            ],
            [
             0.8888888888888888,
             "#fdca26"
            ],
            [
             1,
             "#f0f921"
            ]
           ]
          },
          "colorway": [
           "#636efa",
           "#EF553B",
           "#00cc96",
           "#ab63fa",
           "#FFA15A",
           "#19d3f3",
           "#FF6692",
           "#B6E880",
           "#FF97FF",
           "#FECB52"
          ],
          "font": {
           "color": "#2a3f5f"
          },
          "geo": {
           "bgcolor": "white",
           "lakecolor": "white",
           "landcolor": "#E5ECF6",
           "showlakes": true,
           "showland": true,
           "subunitcolor": "white"
          },
          "hoverlabel": {
           "align": "left"
          },
          "hovermode": "closest",
          "mapbox": {
           "style": "light"
          },
          "paper_bgcolor": "white",
          "plot_bgcolor": "#E5ECF6",
          "polar": {
           "angularaxis": {
            "gridcolor": "white",
            "linecolor": "white",
            "ticks": ""
           },
           "bgcolor": "#E5ECF6",
           "radialaxis": {
            "gridcolor": "white",
            "linecolor": "white",
            "ticks": ""
           }
          },
          "scene": {
           "xaxis": {
            "backgroundcolor": "#E5ECF6",
            "gridcolor": "white",
            "gridwidth": 2,
            "linecolor": "white",
            "showbackground": true,
            "ticks": "",
            "zerolinecolor": "white"
           },
           "yaxis": {
            "backgroundcolor": "#E5ECF6",
            "gridcolor": "white",
            "gridwidth": 2,
            "linecolor": "white",
            "showbackground": true,
            "ticks": "",
            "zerolinecolor": "white"
           },
           "zaxis": {
            "backgroundcolor": "#E5ECF6",
            "gridcolor": "white",
            "gridwidth": 2,
            "linecolor": "white",
            "showbackground": true,
            "ticks": "",
            "zerolinecolor": "white"
           }
          },
          "shapedefaults": {
           "line": {
            "color": "#2a3f5f"
           }
          },
          "ternary": {
           "aaxis": {
            "gridcolor": "white",
            "linecolor": "white",
            "ticks": ""
           },
           "baxis": {
            "gridcolor": "white",
            "linecolor": "white",
            "ticks": ""
           },
           "bgcolor": "#E5ECF6",
           "caxis": {
            "gridcolor": "white",
            "linecolor": "white",
            "ticks": ""
           }
          },
          "title": {
           "x": 0.05
          },
          "xaxis": {
           "automargin": true,
           "gridcolor": "white",
           "linecolor": "white",
           "ticks": "",
           "title": {
            "standoff": 15
           },
           "zerolinecolor": "white",
           "zerolinewidth": 2
          },
          "yaxis": {
           "automargin": true,
           "gridcolor": "white",
           "linecolor": "white",
           "ticks": "",
           "title": {
            "standoff": 15
           },
           "zerolinecolor": "white",
           "zerolinewidth": 2
          }
         }
        },
        "title": {
         "text": "Product Communities Based on Ingredient Research and Category (K-means)"
        },
        "width": 1000
       }
      }
     },
     "metadata": {},
     "output_type": "display_data"
    }
   ],
   "source": [
    "import pandas as pd\n",
    "from sklearn.cluster import KMeans\n",
    "from sklearn.preprocessing import MultiLabelBinarizer\n",
    "import plotly.graph_objects as go\n",
    "\n",
    "# ... (data loading and preprocessing code remains the same)\n",
    "\n",
    "# Clustering using the K-means algorithm\n",
    "kmeans = KMeans(n_clusters=6, random_state=50)\n",
    "clusters = kmeans.fit_predict(features)\n",
    "\n",
    "# Add the clustering results to the DataFrame\n",
    "df['community'] = clusters\n",
    "\n",
    "# Filter products in community 3\n",
    "community_3_df = df[df['community'] == 3]\n",
    "\n",
    "if len(community_3_df) > 0:  # Check if there are products in community 3\n",
    "    # One-hot encoding of ingredient research and product categories for community 3\n",
    "    community_3_ingredient_encoded = pd.DataFrame(mlb.transform(community_3_df['ingredientResearch'].apply(lambda x: [x])), \n",
    "                                                  columns=mlb.classes_, index=community_3_df.index)\n",
    "    community_3_category_encoded = pd.DataFrame(mlb.transform(community_3_df['categories']), \n",
    "                                                columns=mlb.classes_, index=community_3_df.index)\n",
    "\n",
    "    # Concatenate encoded ingredient research and product categories for community 3\n",
    "    community_3_features = pd.concat([community_3_ingredient_encoded, community_3_category_encoded], axis=1)\n",
    "\n",
    "    # Clustering using the K-means algorithm for community 3\n",
    "    sub_kmeans = KMeans(n_clusters=10, random_state=50)  # Adjust the number of clusters as needed\n",
    "    sub_clusters = sub_kmeans.fit_predict(community_3_features)\n",
    "\n",
    "    # Update the community labels for the subdivided community 3\n",
    "    df.loc[df['community'] == 3, 'community'] = sub_clusters + 6  # 6, 7, 8\n",
    "\n",
    "# Create table data\n",
    "table_data = []\n",
    "for community in sorted(df['community'].unique()):\n",
    "    products = df[df['community'] == community]['product'].unique().tolist()\n",
    "    row = [f\"<b>Community {community}</b>\"] + [\"<br>\".join(products)]\n",
    "    table_data.append(row)\n",
    "\n",
    "# Create the table\n",
    "table = go.Table(\n",
    "    header=dict(values=[\"Community\", \"Products\"]),\n",
    "    cells=dict(values=[list(zip(*table_data))[0], list(zip(*table_data))[1]],\n",
    "               fill_color=[['#f2f2f2', 'white'] * len(table_data)],\n",
    "               align=['center', 'left'],\n",
    "               font=dict(size=12),\n",
    "               height=30)\n",
    ")\n",
    "\n",
    "# Create the layout\n",
    "layout = go.Layout(title=\"Product Communities Based on Ingredient Research and Category (K-means)\", \n",
    "                   width=1000, height=600)\n",
    "\n",
    "# Create the figure\n",
    "fig = go.Figure(data=[table], layout=layout)\n",
    "\n",
    "# Show the figure\n",
    "fig.show()"
   ]
  },
  {
   "cell_type": "code",
   "execution_count": 14,
   "metadata": {},
   "outputs": [
    {
     "name": "stderr",
     "output_type": "stream",
     "text": [
      "c:\\Users\\apple\\anaconda3\\lib\\site-packages\\sklearn\\cluster\\_kmeans.py:870: FutureWarning:\n",
      "\n",
      "The default value of `n_init` will change from 10 to 'auto' in 1.4. Set the value of `n_init` explicitly to suppress the warning\n",
      "\n",
      "c:\\Users\\apple\\anaconda3\\lib\\site-packages\\sklearn\\preprocessing\\_label.py:895: UserWarning:\n",
      "\n",
      "unknown class(es) ['', 'Acesulfame Potassium', 'Acidity Regulator 339', 'Anthocyanins', 'Antioxidant 385', 'Apple', 'Ascorbic Acid', 'Aspartame', 'Australian Spring Water', 'Bis-Diglyceryl Polyacyladipate-2', 'Caffeine', 'Calcium Lactate', 'Carbonated Mineral Water', 'Carbonated Water', 'Carboxymethyl Cellulose', 'Carmine', 'Carminic Acid', 'Carotene', 'Carrageenan', 'Citric Acid', 'Clarified Pineapple Juice Concentrate', 'Cochineal', 'Coconut Extract', 'Colouring Agent 150d', 'Cream', 'Diced Peaches', 'Diced Pears', 'Ferric Ferrocyanide', 'Flavour', 'Folate', 'Fruit Peach', 'Full Cream Milk', 'Guar Gum', 'Guava Puree', 'Homogenised Full Cream Milk', 'Iron Oxides', 'Jelly Natural Pineapple Flavour', 'Locust Bean Gum', 'Lutein', 'Malic Acid', 'Mica', 'Milk', 'Natural Flavour', 'Natural Flavour Botanical Extracts', 'Natural Flavour Citrus Oils', 'Natural Flavour Lemon Peel Extract', 'Natural Flavour Lime Oils', 'Natural Flavour Mango', 'Natural Flavour Orange Peel Extract', 'Natural Flavour Pineapple', 'Natural Flavours', 'Natural Mineral Water', 'Natural Spring Water', 'Natural Strawberry Flavour', 'Natural Vanilla Flavour', 'Octyldodecanol', 'Paprika Oleoresins', 'Pasteurised Homogenised Milk', 'Pear', 'Pectin', 'Pentaerythrityl Tetra-di-t-butyl Hydroxyhydrocinnamate', 'Phosphoric Acid', 'Pineapple', 'Pineapple Juice', 'Plant Extract Carthamus', 'Plant Extract Gardenia', 'Polybutene', 'Polyethylene', 'Potassium Bicarbonate', 'Potassium Citrate', 'Potassium Sorbate', 'Quinine', 'Reconstituted Apple Juice', 'Reconstituted Fruit Juice Apricot', 'Reconstituted Fruit Juice Blackcurrant', 'Reconstituted Fruit Juice Grape', 'Reconstituted Fruit Juice Orange', 'Reconstituted Fruit Juice Passionfruit', 'Reconstituted Fruit Juice Peach', 'Reconstituted Fruit Juice Peach Purée', 'Reconstituted Fruit Juice Pear', 'Reconstituted Fruit Juice Pineapple', 'Reconstituted Fruit Juice Water Extracted Orange', 'Reconstituted Lemon Juice', 'Reconstituted Lime Juice', 'Reconstituted Mango Juice', 'Reconstituted Refined Juice Concentrated Pear Juice', 'Refined Fruit Juice', 'Refined Fruit Juice Apple', 'Refined Fruit Juice Grape', 'Refined Fruit Juice Peach', 'Refined Fruit Juice Pear', 'Rice', 'Safflower Extract', 'Salt', 'Sardines', 'Silica', 'Skim Milk', 'Sodium Benzoate', 'Sodium Citrate', 'Sodium Metabisulfite', 'Sugar', 'Sulphites', 'Sweetener 952', 'Synthetic Wax', 'Titanium Dioxide', 'Tomato Juice', 'Tomatoes', 'Ultramarines', 'Vegetable Oil', 'Vitamin A', 'Vitamin C', 'Water', 'Xanthan Gum'] will be ignored\n",
      "\n",
      "c:\\Users\\apple\\anaconda3\\lib\\site-packages\\sklearn\\cluster\\_kmeans.py:870: FutureWarning:\n",
      "\n",
      "The default value of `n_init` will change from 10 to 'auto' in 1.4. Set the value of `n_init` explicitly to suppress the warning\n",
      "\n",
      "c:\\Users\\apple\\anaconda3\\lib\\site-packages\\sklearn\\cluster\\_kmeans.py:1382: UserWarning:\n",
      "\n",
      "KMeans is known to have a memory leak on Windows with MKL, when there are less chunks than available threads. You can avoid it by setting the environment variable OMP_NUM_THREADS=2.\n",
      "\n"
     ]
    }
   ],
   "source": [
    "with driver.session() as session:\n",
    "    session.run(\"MATCH (c:Community) DETACH DELETE c\")\n",
    "    session.run(\"MATCH (p:Product)-[r:BELONGS_TO]->() DELETE r\")\n",
    "    session.run(\"MATCH (p:Product)-[r:COMMUNITY_TO]->() DELETE r\")\n",
    "\n",
    "    # Run the Cypher query and get the results\n",
    "    result = session.run(\"MATCH (p:Product)-[:STOCKED_IN]->(c:Category), \"\n",
    "                         \"(p)-[:HAS_RECIPE]->(r:Recipe)-[:USES_INGREDIENT]->(i:Ingredient)-[:HAS_RESEARCH]->(res:IngredientResearch) \"\n",
    "                         \"RETURN p.name AS product, res.ingredient_name AS ingredientResearch, COLLECT(c.name) AS categories\")\n",
    "\n",
    "    # Convert results to Pandas DataFrame\n",
    "    data = []\n",
    "    for record in result:\n",
    "        data.append({'product': record['product'], 'ingredientResearch': record['ingredientResearch'], 'categories': record['categories']})\n",
    "    df = pd.DataFrame(data)\n",
    "\n",
    "    # Solo heat coding of raw material research and product categories\n",
    "    mlb = MultiLabelBinarizer()\n",
    "    ingredient_encoded = pd.DataFrame(mlb.fit_transform(df['ingredientResearch'].apply(lambda x: [x])), columns=mlb.classes_, index=df.index)\n",
    "    category_encoded = pd.DataFrame(mlb.fit_transform(df['categories']), columns=mlb.classes_, index=df.index)\n",
    "\n",
    "    # Splicing of coded raw material studies and product categories\n",
    "    features = pd.concat([ingredient_encoded, category_encoded], axis=1)\n",
    "\n",
    "    # Use K-means algorithm for clustering, change the number of clusters to 6 and set random_state to 50\n",
    "    kmeans = KMeans(n_clusters=6, random_state=50)\n",
    "    clusters = kmeans.fit_predict(features)\n",
    "\n",
    "    # Add the clustering results to the DataFrame\n",
    "    df['community'] = clusters\n",
    "\n",
    "    # Filter products in community 3\n",
    "    community_3_df = df[df['community'] == 3]\n",
    "    if len(community_3_df) > 0:\n",
    "        # One-hot encoding of ingredient research and product categories for community 3\n",
    "        community_3_ingredient_encoded = pd.DataFrame(mlb.transform(community_3_df['ingredientResearch'].apply(lambda x: [x])), columns=mlb.classes_, index=community_3_df.index)\n",
    "        community_3_category_encoded = pd.DataFrame(mlb.transform(community_3_df['categories']), columns=mlb.classes_, index=community_3_df.index)\n",
    "\n",
    "        # Concatenate encoded ingredient research and product categories for community 3\n",
    "        community_3_features = pd.concat([community_3_ingredient_encoded, community_3_category_encoded], axis=1)\n",
    "\n",
    "        # Clustering using the K-means algorithm for community 3\n",
    "        sub_kmeans = KMeans(n_clusters=10, random_state=50)\n",
    "        sub_clusters = sub_kmeans.fit_predict(community_3_features)\n",
    "\n",
    "        # Update the community labels for the subdivided community 3\n",
    "        df.loc[df['community'] == 3, 'community'] = sub_clusters + 6\n",
    "\n",
    "with driver.session() as session:\n",
    "    # Update the dictionary of community names and descriptions\n",
    "    community_info = {\n",
    "        0: {'name': 'Chips', 'description': 'This community is related to Chips.'},\n",
    "        1: {'name': 'Noodles', 'description': 'This community is related to Noodles.'},\n",
    "        2: {'name': 'Cookies', 'description': 'This community is related to Cookies.'},\n",
    "        4: {'name': 'Bar', 'description': 'This community is related to Bar.'},\n",
    "        5: {'name': 'Sauce', 'description': 'This community is related to Sauce.'},\n",
    "        6: {'name': 'Fruit juice drinks', 'description': 'This community is related to Fruit juice drinks.'},\n",
    "        7: {'name': 'Can and bottle', 'description': 'This community is related to Can and bottle.'},\n",
    "        8: {'name': 'Fruit cans', 'description': 'This community is related to Fruit cans .'},\n",
    "        9: {'name': 'Make up', 'description': 'This community is related to make up.'},\n",
    "        10: {'name': 'Water bottle', 'description': 'This community is related to Water bottle.'},\n",
    "        11: {'name': 'Fresh Full Cream Milk', 'description': 'This community is related to Fresh Full Cream Milk.'},\n",
    "        12: {'name': 'Coconut', 'description': 'This community is related to coconut.'},\n",
    "        13: {'name': 'Oil', 'description': 'This community is related to oil.'},\n",
    "        14: {'name': 'Vegetable cans', 'description': 'This community is related to vegetable cans.'},\n",
    "        15: {'name': 'Long life full cream milk', 'description': 'This community is related to long life full cream milk.'}\n",
    "    }\n",
    "\n",
    "    # Creating a Community node in Neo4j\n",
    "    for cluster_id, info in community_info.items():\n",
    "        query = \"MERGE (c:Community {name: $name, description: $description})\"\n",
    "        session.run(query, name=info['name'], description=info['description'])\n",
    "\n",
    "    # Create a relationship between the Product node and the Community node\n",
    "    for _, row in df.iterrows():\n",
    "        product = row['product']\n",
    "        community_id = row['community']\n",
    "        \n",
    "        # Check if the community ID exists in the community_info dictionary\n",
    "        if community_id in community_info:\n",
    "            cluster_name = community_info[community_id]['name']\n",
    "            query = \"MATCH (p:Product {name: $product}), (c:Community {name: $cluster_name}) MERGE (p)-[:COMMUNITY_TO]->(c)\"\n",
    "            session.run(query, product=product, cluster_name=cluster_name)\n",
    "        else:\n",
    "            print(f\"Community ID {community_id} not found for product: {product}\")"
   ]
  },
  {
   "cell_type": "code",
   "execution_count": null,
   "metadata": {},
   "outputs": [],
   "source": [
    "query = \"\"\"\n",
    "CREATE (grains:DashDietCategory {name: \"Grains\", description: \"6–8 servings of grains or grain products\"})\n",
    "CREATE (fruits:DashDietCategory {name: \"Fruits\", description: \"4–5 servings of fruits\"})\n",
    "CREATE (vegetables:DashDietCategory {name: \"Vegetables\", description: \"4–5 servings of vegetables\"})\n",
    "CREATE (lowFatDairy:DashDietCategory {name: \"LowFatDairyFoods\", description: \"2–3 servings of low-fat dairy foods\"})\n",
    "CREATE (fatsAndOils:DashDietCategory {name: \"FatsAndOils\", description: \"2–3 servings of fats and oils\"})\n",
    "CREATE (meatPoultryFish:DashDietCategory {name: \"MeatPoultryFish\", description: \"2 or fewer servings of meat, poultry or fish\"})\n",
    "\n",
    "WITH grains, fruits, vegetables, lowFatDairy, fatsAndOils, meatPoultryFish\n",
    "\n",
    "MATCH (p:Product)-[:STOCKED_IN]->(:Category)\n",
    "WHERE toLower(p.name) CONTAINS 'rice' OR any(c IN p.categories WHERE toLower(c) CONTAINS 'rice')\n",
    "MERGE (grains)-[:Suitable_For]->(p)\n",
    "\n",
    "WITH grains, fruits, vegetables, lowFatDairy, fatsAndOils, meatPoultryFish\n",
    "\n",
    "MATCH (p:Product)-[:STOCKED_IN]->(:Category)\n",
    "WHERE toLower(p.name) CONTAINS 'fruit' OR any(c IN p.categories WHERE toLower(c) CONTAINS 'fruit')\n",
    "MERGE (fruits)-[:Suitable_For]->(p)\n",
    "\n",
    "WITH grains, fruits, vegetables, lowFatDairy, fatsAndOils, meatPoultryFish\n",
    "\n",
    "MATCH (p:Product)-[:STOCKED_IN]->(:Category)\n",
    "WHERE toLower(p.name) CONTAINS 'vegetable' OR any(c IN p.categories WHERE toLower(c) CONTAINS 'vegetable')\n",
    "MERGE (vegetables)-[:Suitable_For]->(p)\n",
    "\n",
    "WITH grains, fruits, vegetables, lowFatDairy, fatsAndOils, meatPoultryFish\n",
    "\n",
    "MATCH (p:Product)-[:STOCKED_IN]->(:Category)-[:HAS_NUTRITIONAL_INFO]->(ni:NutritionalInformation)\n",
    "WHERE toLower(p.name) CONTAINS 'dairy' OR any(c IN p.categories WHERE toLower(c) CONTAINS 'dairy')\n",
    "  AND toFloat(ni.`Fat Total Quantity Per 100g - ValueWord - NIP`) < 3.1\n",
    "MERGE (lowFatDairy)-[:Suitable_For]->(p)\n",
    "\n",
    "WITH grains, fruits, vegetables, lowFatDairy, fatsAndOils, meatPoultryFish\n",
    "\n",
    "MATCH (p:Product)-[:STOCKED_IN]->(:Category)\n",
    "WHERE toLower(p.name) CONTAINS 'oil' OR any(c IN p.categories WHERE toLower(c) CONTAINS 'oil')\n",
    "MERGE (fatsAndOils)-[:Suitable_For]->(p)\n",
    "\n",
    "WITH grains, fruits, vegetables, lowFatDairy, fatsAndOils, meatPoultryFish\n",
    "\n",
    "MATCH (p:Product)-[:STOCKED_IN]->(:Category)\n",
    "WHERE toLower(p.name) CONTAINS 'fish' OR toLower(p.name) CONTAINS 'meat' OR toLower(p.name) CONTAINS 'poultry'\n",
    "  OR any(c IN p.categories WHERE toLower(c) CONTAINS 'fish' OR toLower(c) CONTAINS 'meat' OR toLower(c) CONTAINS 'poultry')\n",
    "MERGE (meatPoultryFish)-[:Suitable_For]->(p)\n",
    "\n",
    "WITH grains, fruits, vegetables, lowFatDairy, fatsAndOils, meatPoultryFish\n",
    "\n",
    "MATCH (p:Product)-[:HAS_RECIPE]->(:Recipe)-[:HAS_NUTRITIONAL_INFO]->(ni:NutritionalInformation)\n",
    "WITH p, ni, toFloat(ni.Energy_kJ) / 4.184 AS calories\n",
    "SET p.Calorie = calories\n",
    "\n",
    "RETURN p.name, p.Calorie\n",
    "\n",
    "\"\"\""
   ]
  },
  {
   "cell_type": "code",
   "execution_count": null,
   "metadata": {},
   "outputs": [],
   "source": [
    "query = \"\"\"\n",
    "\n",
    "// Create the User node and add the description attribute.\n",
    "CREATE (user1:User {name: 'User 1', totalCalories: 1400, description: 'User 1 would like to shop for 1400 calories total.'})\n",
    "CREATE (user2:User {name: 'User 2', totalCalories: 2400, description: 'User 2 would like to try a keto diet, total 2400 calories.'})\n",
    "CREATE (user3:User {name: 'User 3', totalCalories: 2000, description: 'User 3 follows a Gluten-free casein-free diet, totaling 2000 calories per day.'})\n",
    "WITH user1, user2, user3\n",
    "\n",
    "// User 1: Random selection of products with up to 1400 total calories\n",
    "MATCH (p:Product)\n",
    "WITH p, rand() AS random, user1\n",
    "ORDER BY random\n",
    "WITH collect(p) AS products, user1\n",
    "WITH products, user1, [p IN products WHERE p.Calorie IS NOT NULL] AS filteredProducts\n",
    "WITH user1, filteredProducts, reduce(totalCalories = 0, p IN filteredProducts | totalCalories + p.Calorie) AS totalCalories\n",
    "WHERE totalCalories <= user1.totalCalories\n",
    "MERGE (user1)-[:SELECTED]->(selectedProducts1:SelectedProducts {products: filteredProducts, totalCalories: reduce(totalCalories = 0, p IN filteredProducts | totalCalories + p.Calorie)})\n",
    "WITH user1, selectedProducts1\n",
    "\n",
    "// User 2: Randomly selected keto diet products with up to 2400 total calories.\n",
    "MATCH (user2:User {name: 'User 2'})\n",
    "MATCH (p:Product)-[:Keto_Diet]->(c:DietaryClustering {name: 'KetoDiet'})\n",
    "WITH p, rand() AS random, user2\n",
    "ORDER BY random\n",
    "WITH collect(p) AS products, user2\n",
    "WITH products, user2, [p IN products WHERE p.Calorie IS NOT NULL] AS filteredProducts\n",
    "WITH user2, filteredProducts, reduce(totalCalories = 0, p IN filteredProducts | totalCalories + p.Calorie) AS totalCalories\n",
    "WHERE totalCalories <= user2.totalCalories\n",
    "MERGE (user2)-[:SELECTED]->(selectedProducts2:SelectedProducts {products: filteredProducts, totalCalories: reduce(totalCalories = 0, p IN filteredProducts | totalCalories + p.Calorie)})\n",
    "WITH user2, selectedProducts2\n",
    "\n",
    "// User 3: Randomly selected Gluten-free casein-free products with no more than 2000 total calories.\n",
    "MATCH (user3:User {name: 'User 3'})\n",
    "MATCH (gfcf:GlutenFreeAndCaseinFree {name: 'GlutenFreeAndCaseinFree'})-[:GLUTENFREECASEINFREE_TO]-(p:Product)\n",
    "WITH p, rand() AS random, user3\n",
    "ORDER BY random\n",
    "WITH collect(p) AS products, user3\n",
    "WITH products, user3, [p IN products WHERE p.Calorie IS NOT NULL] AS filteredProducts\n",
    "WITH user3, filteredProducts, reduce(totalCalories = 0, p IN filteredProducts | totalCalories + p.Calorie) AS totalCalories\n",
    "WHERE totalCalories <= user3.totalCalories\n",
    "MERGE (user3)-[:SELECTED]->(selectedProducts3:SelectedProducts {products: filteredProducts, totalCalories: reduce(totalCalories = 0, p IN filteredProducts | totalCalories + p.Calorie)})\n",
    "WITH user3, selectedProducts3\n",
    "\n",
    "// Returns information, selected products and total calories for each user\n",
    "MATCH (u:User)-[:SELECTED]->(sp:SelectedProducts)\n",
    "RETURN u.name AS user, u.description AS userDescription, sp.products AS selectedProducts, sp.totalCalories AS totalCalories\n",
    "\n",
    "\"\"\""
   ]
  },
  {
   "cell_type": "code",
   "execution_count": null,
   "metadata": {},
   "outputs": [],
   "source": [
    "query = \"\"\"\n",
    "Final\n",
    "// Create a User node and add a description attribute.\n",
    "MERGE (user1:User {name: 'User 1'})\n",
    "ON CREATE SET user1.totalCalories = 1400, user1.description = 'User 1 would like to shop for 1400 calories total.'\n",
    "WITH user1\n",
    "\n",
    "MERGE (user2:User {name: 'User 2'})\n",
    "ON CREATE SET user2.totalCalories = 2400, user2.description = 'User 2 would like to try a keto diet, total 2400 calories.'\n",
    "WITH user1, user2\n",
    "\n",
    "MERGE (user3:User {name: 'User 3'})\n",
    "ON CREATE SET user3.totalCalories = 2000, user3.description = 'User 3 follows a Gluten-free casein-free diet, totaling 2000 calories per day.'\n",
    "RETURN user1, user2, user3\n",
    "\n",
    "// Ensure that the User 1 node already exists \n",
    "MATCH (user1:User {name: 'User 1'})\n",
    "\n",
    "// Delete the SELECTED relationship associated with user1 and the node named SelectedProducts_User1 and all its relationships.\n",
    "OPTIONAL MATCH (user1)-[r1:SELECTED]->(sp1:SelectedProductsUser1)\n",
    "DETACH DELETE sp1\n",
    "DELETE r1\n",
    "\n",
    "// Pass the user1 variable for subsequent matches\n",
    "WITH user1\n",
    "\n",
    "// Delete the SELECTED relationship associated with user1 and the node named SelectedProducts_User1\n",
    "OPTIONAL MATCH (user1)-[r2:SELECTED]->(sp2:SelectedProduct_User1)\n",
    "DETACH DELETE sp2\n",
    "DELETE r2\n",
    "\n",
    "// Returns the user1 node after the operation has completed\n",
    "RETURN user1\n",
    "\n",
    "\n",
    "User2\n",
    "// 确保 User 2 节点已经存在 \n",
    "MATCH (user2:User {name: 'User 2'})\n",
    "\n",
    "// 删除与 user2 相关的 SELECTED 关系以及名为 SelectedProducts_User2 的节点及其所有关系\n",
    "OPTIONAL MATCH (user2)-[r:SELECTED]->(sp:SelectedProducts_User2)\n",
    "DETACH DELETE sp\n",
    "DELETE r\n",
    "\n",
    "// 传递 user2 变量以用于后续操作\n",
    "WITH user2\n",
    "\n",
    "// 随机选择总卡路里不超过 2400 的 Keto Diet 产品并合并到 user2 的选择中\n",
    "CALL {\n",
    "    WITH user2\n",
    "    MATCH (dc:DietaryClustering {name: 'KetoDiet'})-[:Keto_Diet]->(p:Product)\n",
    "    WHERE p.Calorie IS NOT NULL\n",
    "    WITH p, rand() AS random\n",
    "    ORDER BY random\n",
    "    WITH collect(p) AS products\n",
    "\n",
    "    CALL {\n",
    "        WITH products\n",
    "        WITH 0 AS runningTotal, [] AS selectedProducts, products\n",
    "        RETURN reduce(accProducts = selectedProducts, prod IN products |\n",
    "            CASE\n",
    "                WHEN runningTotal + prod.Calorie <= 2400\n",
    "                THEN accProducts + prod\n",
    "                ELSE accProducts  \n",
    "            END\n",
    "        ) AS selectedProducts,\n",
    "        reduce(accTotal = runningTotal, prod IN products |\n",
    "            CASE \n",
    "                WHEN accTotal + prod.Calorie <= 2400\n",
    "                THEN accTotal + prod.Calorie\n",
    "                ELSE accTotal\n",
    "            END\n",
    "        ) AS runningTotal\n",
    "    }\n",
    "\n",
    "    RETURN selectedProducts, runningTotal\n",
    "}\n",
    "\n",
    "WITH user2, selectedProducts, runningTotal\n",
    "\n",
    "// 匹配通用的 SelectedProductUser 节点，并将其名称设置为 SelectedProductsUser2\n",
    "MERGE (sp:SelectedProductUser {userId: user2.name + '-selected'})\n",
    "ON CREATE SET sp.name = 'SelectedProductsUser2', sp.productIds = [], sp.totalCalories = runningTotal\n",
    "ON MATCH SET sp.name = 'SelectedProductsUser2', sp.productIds = [], sp.totalCalories = runningTotal\n",
    "\n",
    "WITH user2, selectedProducts, sp\n",
    "\n",
    "// 展开 selectedProducts 列表并逐个将产品ID添加到 sp.productIds 中\n",
    "UNWIND selectedProducts AS spProduct\n",
    "SET sp.productIds = sp.productIds + spProduct.productId\n",
    "\n",
    "// 创建关系链接\n",
    "MERGE (user2)-[:SELECTED]->(sp)\n",
    "\n",
    "WITH user2, sp, selectedProducts\n",
    "UNWIND selectedProducts AS product\n",
    "MERGE (sp)-[:CONTAINS]->(product)\n",
    "\n",
    "// 返回结果\n",
    "RETURN user2, sp.productIds AS selectedProductIds, sp.totalCalories AS totalCalories, size(sp.productIds) AS numberOfProducts\n",
    "\n",
    "\n",
    "User3\n",
    "//Ensure that the User 3 node already exists \n",
    "MATCH (user3:User {name: 'User 3'})\n",
    "\n",
    "// Delete the SELECTED relationship associated with user3 and the node named SelectedProducts_User3 and all its relationships.\n",
    "OPTIONAL MATCH (user3)-[r:SELECTED]->(sp:SelectedProducts)\n",
    "DETACH DELETE sp\n",
    "DELETE r\n",
    "\n",
    "// Pass the user3 variable for subsequent matches\n",
    "WITH user3\n",
    "\n",
    "// Randomly select Gluten-free casein-free products with no more than 2,000 total calories and combine them into user3's selection.\n",
    "CALL {\n",
    "    WITH user3\n",
    "    MATCH (gfcf:GlutenFreeAndCaseinFree)-[:GLUTENFREECASEINFREE_TO]-(p:Product)\n",
    "    WHERE p.Calorie IS NOT NULL\n",
    "    WITH p, rand() AS random\n",
    "    ORDER BY random\n",
    "    WITH collect(p) AS products\n",
    "\n",
    "    CALL {\n",
    "        WITH products\n",
    "        WITH 0 AS runningTotal, [] AS selectedProducts, products\n",
    "        RETURN reduce(accProducts = selectedProducts, prod IN products |\n",
    "            CASE\n",
    "                WHEN runningTotal + prod.Calorie <= 2000\n",
    "                THEN accProducts + prod\n",
    "                ELSE accProducts  \n",
    "            END\n",
    "        ) AS selectedProducts,\n",
    "        reduce(accTotal = runningTotal, prod IN products |\n",
    "            CASE \n",
    "                WHEN accTotal + prod.Calorie <= 2000\n",
    "                THEN accTotal + prod.Calorie\n",
    "                ELSE accTotal\n",
    "            END\n",
    "        ) AS runningTotal\n",
    "    }\n",
    "\n",
    "    RETURN selectedProducts, runningTotal\n",
    "}\n",
    "\n",
    "WITH user3, selectedProducts, runningTotal\n",
    "\n",
    "// Creating a new SelectedProducts_User3 node\n",
    "CREATE (sp:SelectedProducts_User3 {userId: user3.name + '-selected', name: 'SelectedProductsUser3', productIds: [], totalCalories: runningTotal})\n",
    "\n",
    "WITH user3, selectedProducts, sp\n",
    "\n",
    "// Expand the selectedProducts list and add the product IDs to sp.productIds one by one.\n",
    "UNWIND selectedProducts AS spProduct\n",
    "SET sp.productIds = sp.productIds + spProduct.productId\n",
    "\n",
    "// Creating Relationship Links\n",
    "MERGE (user3)-[:SELECTED]->(sp)\n",
    "\n",
    "WITH user3, sp, selectedProducts\n",
    "UNWIND selectedProducts AS product\n",
    "MERGE (sp)-[:CONTAINS]->(product)\n",
    "\n",
    "// Return results\n",
    "RETURN user3, sp.productIds AS selectedProductIds, sp.totalCalories AS totalCalories, size(sp.productIds) AS numberOfProducts\n",
    "\n",
    "\n",
    "\"\"\""
   ]
  },
  {
   "cell_type": "code",
   "execution_count": null,
   "metadata": {},
   "outputs": [],
   "source": [
    "\n",
    "query=\"\"\"\n",
    "\n",
    "This is the final one \n",
    "// Create a User node and add a description attribute.\n",
    "MERGE (user1:User {name: 'User 1'})\n",
    "ON CREATE SET user1.totalCalories = 1400, user1.description = 'User 1 would like to shop for 1400 calories total.'\n",
    "WITH user1\n",
    "\n",
    "MERGE (user2:User {name: 'User 2'})\n",
    "ON CREATE SET user2.totalCalories = 2400, user2.description = 'User 2 would like to try a keto diet, total 2400 calories.'\n",
    "WITH user1, user2\n",
    "\n",
    "MERGE (user3:User {name: 'User 3'})\n",
    "ON CREATE SET user3.totalCalories = 2000, user3.description = 'User 3 follows a Gluten-free casein-free diet, totaling 2000 calories per day.'\n",
    "RETURN user1, user2, user3\n",
    "\n",
    "// Ensure that the User 1 node already exists \n",
    "MATCH (user1:User {name: 'User 1'})\n",
    "\n",
    "// Delete the SELECTED relationship associated with user1 and the node named SelectedProducts_User1 and all its relationships.\n",
    "OPTIONAL MATCH (user1)-[r1:SELECTED]->(sp1:SelectedProductsUser {name: 'SelectedProductsUser1'})\n",
    "DETACH DELETE sp1\n",
    "DELETE r1\n",
    "\n",
    "// Pass the user1 variable for subsequent matches\n",
    "WITH user1\n",
    "\n",
    "// Returns the user1 node after the operation has completed\n",
    "RETURN user1\n",
    "\n",
    "\n",
    "// Ensure that the User 2 node already exists \n",
    "MATCH (user2:User {name: 'User 2'})\n",
    "\n",
    "// Delete the SELECTED relationship associated with user2 and the node named SelectedProductsUser2 and all its relationships.\n",
    "OPTIONAL MATCH (user2)-[r2:SELECTED]->(sp2:SelectedProductsUser {name: 'SelectedProductsUser2'})\n",
    "DETACH DELETE sp2\n",
    "DELETE r2\n",
    "\n",
    "// Pass the user2 variable for subsequent matches\n",
    "WITH user2\n",
    "\n",
    "// Returns the user2 node after the operation has completed\n",
    "RETURN user2\n",
    "\n",
    "\n",
    "// Ensure that the User 3 node already exists \n",
    "MATCH (user3:User {name: 'User 3'})\n",
    "\n",
    "// Delete the SELECTED relationship associated with user3 and the node named SelectedProductsUser3 and all its relationships.\n",
    "OPTIONAL MATCH (user3)-[r3:SELECTED]->(sp3:SelectedProductsUser {name: 'SelectedProductsUser3'})\n",
    "DETACH DELETE sp3\n",
    "DELETE r3\n",
    "\n",
    "// Pass the user3 variable for subsequent matches\n",
    "WITH user3\n",
    "\n",
    "// Returns the user3 node after the operation has completed\n",
    "RETURN user3\n",
    "\n",
    "\n",
    "// Ensure that the User 1 node already exists \n",
    "MATCH (user1:User {name: 'User 1'})\n",
    "\n",
    "// Randomly select products with up to 1400 total calories and merge them into user1's selection.\n",
    "CALL {\n",
    "    WITH user1\n",
    "    MATCH (p:Product)\n",
    "    WHERE p.Calorie IS NOT NULL\n",
    "    WITH p, rand() AS random\n",
    "    ORDER BY random\n",
    "    WITH collect(p) AS products\n",
    "\n",
    "    CALL {\n",
    "        WITH products\n",
    "        WITH 0 AS runningTotal, [] AS selectedProducts, products\n",
    "        RETURN reduce(accProducts = selectedProducts, prod IN products |\n",
    "            CASE\n",
    "                WHEN runningTotal + prod.Calorie <= 1400\n",
    "                THEN accProducts + prod\n",
    "                ELSE accProducts  \n",
    "            END\n",
    "        ) AS selectedProducts,\n",
    "        reduce(accTotal = runningTotal, prod IN products |\n",
    "            CASE \n",
    "                WHEN accTotal + prod.Calorie <= 1400\n",
    "                THEN accTotal + prod.Calorie\n",
    "                ELSE accTotal\n",
    "            END\n",
    "        ) AS runningTotal\n",
    "    }\n",
    "\n",
    "    RETURN selectedProducts, runningTotal\n",
    "}\n",
    "\n",
    "WITH user1, selectedProducts, runningTotal\n",
    "\n",
    "// Create or match a generic SelectedProductsUser node and set its name to SelectedProductsUser1\n",
    "MERGE (sp:SelectedProductsUser {userId: user1.name + '-selected'})\n",
    "ON CREATE SET sp.productIds = [], sp.totalCalories = runningTotal\n",
    "ON MATCH SET sp.totalCalories = runningTotal\n",
    "\n",
    "// set the name of the new selection to SelectedProductsUser1\n",
    "SET sp.name = 'SelectedProductsUser1'\n",
    "\n",
    "WITH user1, selectedProducts, sp\n",
    "\n",
    "// Expand the selectedProducts list and add the product IDs to sp.productIds one by one.\n",
    "UNWIND selectedProducts AS spProduct\n",
    "SET sp.productIds = sp.productIds + spProduct.productId\n",
    "\n",
    "// Create relationship links\n",
    "MERGE (user1)-[:SELECTED]->(sp)\n",
    "\n",
    "WITH user1, sp, selectedProducts\n",
    "UNWIND selectedProducts AS product\n",
    "MERGE (sp)-[:CONTAINS]->(product)\n",
    "\n",
    "// Return results\n",
    "RETURN user1, sp.productIds AS selectedProductIds, sp.totalCalories AS totalCalories, size(sp.productIds) AS numberOfProducts\n",
    "\n",
    "\n",
    "\n",
    "User2\n",
    "// Ensure that the User 2 node already exists \n",
    "MATCH (user2:User {name: 'User 2'})\n",
    "\n",
    "// Randomly select Keto Diet products with up to 2400 total calories and merge them into user2's selection.\n",
    "CALL {\n",
    "    WITH user2\n",
    "    MATCH (dc:DietaryClustering {name: 'KetoDiet'})-[:Keto_Diet]->(p:Product)\n",
    "    WHERE p.Calorie IS NOT NULL\n",
    "    WITH p, rand() AS random\n",
    "    ORDER BY random\n",
    "    WITH collect(p) AS products\n",
    "\n",
    "    CALL {\n",
    "        WITH products\n",
    "        WITH 0 AS runningTotal, [] AS selectedProducts, products\n",
    "        RETURN reduce(accProducts = selectedProducts, prod IN products |\n",
    "            CASE\n",
    "                WHEN runningTotal + prod.Calorie <= 2400\n",
    "                THEN accProducts + prod\n",
    "                ELSE accProducts  \n",
    "            END\n",
    "        ) AS selectedProducts,\n",
    "        reduce(accTotal = runningTotal, prod IN products |\n",
    "            CASE \n",
    "                WHEN accTotal + prod.Calorie <= 2400\n",
    "                THEN accTotal + prod.Calorie\n",
    "                ELSE accTotal\n",
    "            END\n",
    "        ) AS runningTotal\n",
    "    }\n",
    "\n",
    "    RETURN selectedProducts, runningTotal\n",
    "}\n",
    "\n",
    "WITH user2, selectedProducts, runningTotal\n",
    "\n",
    "// Match or create generic SelectedProductsUser node and set its name to SelectedProductsUser2\n",
    "MERGE (sp:SelectedProductsUser {userId: user2.name + '-selected'})\n",
    "ON CREATE SET sp.productIds = [], sp.totalCalories = runningTotal\n",
    "ON MATCH SET sp.totalCalories = runningTotal\n",
    "\n",
    "// set the name of the new selection to SelectedProductsUser2\n",
    "SET sp.name = 'SelectedProductsUser2'\n",
    "\n",
    "WITH user2, selectedProducts, sp\n",
    "\n",
    "// Expand the selectedProducts list and add the product IDs to sp.productIds one by one.\n",
    "UNWIND selectedProducts AS spProduct\n",
    "SET sp.productIds = sp.productIds + spProduct.productId\n",
    "\n",
    "// Create relationship links\n",
    "MERGE (user2)-[:SELECTED]->(sp)\n",
    "\n",
    "WITH user2, sp, selectedProducts\n",
    "UNWIND selectedProducts AS product\n",
    "MERGE (sp)-[:CONTAINS]->(product)\n",
    "\n",
    "// Return results\n",
    "RETURN user2, sp.productIds AS selectedProductIds, sp.totalCalories AS totalCalories, size(sp.productIds) AS numberOfProducts\n",
    "\n",
    "\n",
    "\n",
    "User3\n",
    "// Ensure that the User 3 node already exists \n",
    "MATCH (user3:User {name: 'User 3'})\n",
    "\n",
    "// Randomly select Gluten-free casein-free products with no more than 2,000 total calories and merge them into user3's selection.\n",
    "CALL {\n",
    "    WITH user3\n",
    "    MATCH(p:Product)-[:GLUTENFREECASEINFREE_TO]->(gfcf:GlutenFreeAndCaseinFree)\n",
    "    WHERE p.Calorie IS NOT NULL\n",
    "    WITH p, rand() AS random\n",
    "    ORDER BY random\n",
    "    WITH collect(p) AS products\n",
    "\n",
    "    CALL {\n",
    "        WITH products\n",
    "        WITH 0 AS runningTotal, [] AS selectedProducts, products\n",
    "        RETURN reduce(accProducts = selectedProducts, prod IN products |\n",
    "            CASE\n",
    "                WHEN runningTotal + prod.Calorie <= 2000\n",
    "                THEN accProducts + prod\n",
    "                ELSE accProducts  \n",
    "            END\n",
    "        ) AS selectedProducts,\n",
    "        reduce(accTotal = runningTotal, prod IN products |\n",
    "            CASE \n",
    "                WHEN accTotal + prod.Calorie <= 2000\n",
    "                THEN accTotal + prod.Calorie\n",
    "                ELSE accTotal\n",
    "            END\n",
    "        ) AS runningTotal\n",
    "    }\n",
    "\n",
    "    RETURN selectedProducts, runningTotal\n",
    "}\n",
    "\n",
    "WITH user3, selectedProducts, runningTotal\n",
    "\n",
    "// Match or create generic SelectedProductsUser node and set its name to SelectedProductsUser3\n",
    "MERGE (sp:SelectedProductsUser {userId: user3.name + '-selected'})\n",
    "ON CREATE SET sp.productIds = [], sp.totalCalories = runningTotal\n",
    "ON MATCH SET sp.totalCalories = runningTotal\n",
    "\n",
    "// set the name of the new selection to SelectedProductsUser3\n",
    "SET sp.name = 'SelectedProductsUser3'\n",
    "\n",
    "WITH user3, selectedProducts, sp\n",
    "\n",
    "// Expand the selectedProducts list and add the product IDs to sp.productIds one by one.\n",
    "UNWIND selectedProducts AS spProduct\n",
    "SET sp.productIds = sp.productIds + spProduct.productId\n",
    "\n",
    "// Create relationship links\n",
    "MERGE (user3)-[:SELECTED]->(sp)\n",
    "\n",
    "WITH user3, sp, selectedProducts\n",
    "UNWIND selectedProducts AS product\n",
    "MERGE (sp)-[:CONTAINS]->(product)\n",
    "\n",
    "// Return results\n",
    "RETURN user3, sp.productIds AS selectedProductIds, sp.totalCalories AS totalCalories, size(sp.productIds) AS numberOfProducts\n",
    "\n",
    "\n",
    "\"\"\""
   ]
  }
 ],
 "metadata": {
  "kernelspec": {
   "display_name": "base",
   "language": "python",
   "name": "python3"
  },
  "language_info": {
   "codemirror_mode": {
    "name": "ipython",
    "version": 3
   },
   "file_extension": ".py",
   "mimetype": "text/x-python",
   "name": "python",
   "nbconvert_exporter": "python",
   "pygments_lexer": "ipython3",
   "version": "3.10.9"
  }
 },
 "nbformat": 4,
 "nbformat_minor": 2
}
