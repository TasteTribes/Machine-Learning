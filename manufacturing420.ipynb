{
 "cells": [
  {
   "cell_type": "code",
   "execution_count": 2,
   "metadata": {},
   "outputs": [
    {
     "name": "stdout",
     "output_type": "stream",
     "text": [
      "Connectivity verified successfully.\n"
     ]
    }
   ],
   "source": [
    "from neo4j import GraphDatabase\n",
    "\n",
    "def get_neo4j_driver() -> GraphDatabase.driver:\n",
    "    \"\"\"Establishes and returns a Neo4j session for AuraDB.\"\"\"\n",
    "    neo4j_uri = 'neo4j+s://9d1381c2.databases.neo4j.io:7687'\n",
    "    neo4j_user = 'Shirley'\n",
    "    neo4j_password = 'Sxl19950312'\n",
    "    return GraphDatabase.driver(neo4j_uri, auth=(neo4j_user, neo4j_password))\n",
    "\n",
    "# Call the function to get the driver\n",
    "driver = get_neo4j_driver()\n",
    "\n",
    "# Open a session\n",
    "with driver.session() as session:\n",
    "    # Verify connectivity within the session\n",
    "    session.run(\"RETURN 1\")\n",
    "\n",
    "print(\"Connectivity verified successfully.\")\n",
    "\n",
    "\n",
    "from dash import Dash, dcc, html\n",
    "import plotly.express as px\n",
    "import pandas as pd\n",
    "\n",
    "\n",
    "# Define a Cypher query to retrieve the required data\n",
    "query = \"\"\"\n",
    "MATCH (n)\n",
    "RETURN n\n",
    "\"\"\"\n",
    "\n",
    "# Execute the query and process the results\n",
    "with driver.session() as session:\n",
    "    result = session.run(query)\n",
    "    neo4j_data = [record.data() for record in result]\n",
    "\n",
    "# Converting Neo4j Data to Pandas DataFrame Format\n",
    "df = pd.DataFrame(neo4j_data)\n",
    "\n",
    "#print(df)"
   ]
  },
  {
   "cell_type": "code",
   "execution_count": 3,
   "metadata": {},
   "outputs": [
    {
     "data": {
      "application/vnd.plotly.v1+json": {
       "config": {
        "plotlyServerURL": "https://plot.ly"
       },
       "data": [
        {
         "cells": {
          "align": "left",
          "fill": {
           "color": "lavender"
          },
          "values": [
           [
            null,
            null,
            null,
            null,
            "Step 1",
            "Step 2",
            "Step 3",
            "Step 4",
            "Step 5",
            "Step 6",
            "Step 7",
            "Step 8",
            null,
            null,
            null,
            null,
            null,
            null,
            null,
            null,
            null,
            null,
            null,
            null,
            null,
            null,
            null,
            null,
            null,
            null,
            null,
            null,
            null,
            null,
            null,
            null,
            null,
            null,
            null,
            null,
            "Step 1",
            "Step 2",
            "Step 3",
            "Step 4",
            "Step 5",
            null,
            null,
            null,
            "Step 1",
            "Step 2",
            "Step 3",
            "Step 4",
            "Step 5",
            "Step 6",
            "Step 7",
            "Step 8",
            "Step 9",
            null,
            null,
            "Step 1",
            "Step 2",
            "Step 3",
            "Step 4",
            "Step 5",
            "Step 6",
            "Step 7",
            null,
            null,
            null,
            null,
            "Step 1",
            "Step 2",
            "Step 3",
            "Step 4",
            "Step 5",
            null,
            "Step 1",
            "Step 2",
            "Step 3",
            "Step 4",
            "Step 5",
            "Step 1",
            "Step 2",
            "Step 3",
            "Step 4",
            "Step 5",
            "Step 6",
            "Step 7",
            null,
            null,
            null,
            null,
            null,
            null,
            null,
            null,
            null,
            null,
            null,
            null,
            null,
            null,
            null,
            null,
            null,
            null,
            null,
            null,
            null,
            null,
            null,
            "Step 1",
            "Step 2",
            "Step 3",
            "Step 4",
            null,
            null,
            null,
            null,
            null,
            null,
            "Step 1",
            "Step 2",
            "Step 3",
            "Step 4",
            "Step 5",
            null,
            null,
            "Step 1",
            "Step 2",
            "Step 3",
            "Step 4",
            "Step 5",
            null,
            null,
            null,
            null,
            "Step 1",
            "Step 2",
            "Step 3",
            "Step 4",
            "Step 5",
            "Step 6",
            null,
            "Step 1",
            "Step 2",
            "Step 3",
            "Step 4",
            "Step 5",
            null,
            null,
            null,
            null,
            null,
            null,
            null,
            null,
            null,
            null,
            null,
            null,
            null,
            null,
            null,
            null,
            null,
            null,
            null,
            null,
            null,
            null,
            null,
            null,
            null,
            null,
            null,
            null,
            null,
            null,
            null,
            null,
            null,
            null,
            null,
            null,
            null,
            null,
            null,
            null,
            null,
            null,
            null,
            null,
            null,
            null,
            null,
            null,
            null,
            null,
            null,
            null,
            null,
            null,
            null,
            null,
            null,
            null,
            null,
            null,
            null,
            null,
            null,
            null,
            null,
            null,
            null,
            null,
            null,
            null,
            null,
            null,
            null,
            null,
            null,
            null,
            null,
            null,
            null,
            null,
            null,
            null,
            null,
            null,
            null,
            null,
            null,
            null,
            null,
            null,
            null,
            null,
            null,
            null,
            null,
            null,
            null,
            null,
            null,
            null,
            null,
            null,
            null,
            null,
            null,
            null,
            null,
            null,
            null,
            null,
            null,
            null,
            null,
            null,
            null,
            null,
            null,
            null,
            null,
            null,
            null,
            null,
            null,
            null,
            null,
            null,
            null,
            null,
            null,
            null,
            null,
            null,
            null,
            null,
            null,
            null,
            null,
            null,
            null,
            null,
            null,
            null,
            null,
            null,
            null,
            null,
            null,
            null,
            null,
            null,
            null,
            null,
            null,
            null,
            null,
            null,
            null,
            null,
            null,
            null,
            null,
            null,
            null,
            null,
            null,
            null,
            null,
            null,
            null,
            null,
            null,
            null,
            null,
            null,
            null,
            null,
            null,
            null,
            null,
            null,
            null,
            null,
            null,
            null,
            null,
            null,
            null,
            null,
            null,
            null,
            null,
            null,
            null,
            null,
            null,
            null,
            null,
            null,
            null,
            null,
            null,
            null,
            null,
            null,
            null,
            null,
            null,
            null,
            null,
            null,
            null,
            null,
            null,
            null,
            null,
            null,
            null,
            null,
            null,
            null,
            null,
            null,
            null,
            null,
            null,
            null,
            null,
            null,
            null,
            null,
            null,
            null,
            null,
            null,
            null,
            null,
            null,
            null,
            null,
            null,
            null,
            null,
            null,
            null,
            null,
            null,
            null,
            null,
            null,
            null,
            null,
            null,
            null,
            null,
            null,
            null,
            null,
            null,
            null,
            null,
            null,
            null,
            null,
            null,
            null,
            null,
            null,
            null,
            null,
            null,
            null,
            null,
            null,
            null,
            null,
            null,
            null,
            null,
            null,
            null,
            null,
            null,
            null,
            null,
            null,
            null,
            null,
            null,
            null,
            null,
            null,
            null,
            null,
            null,
            null,
            null,
            null,
            null,
            null,
            null,
            null,
            null,
            null,
            null,
            null,
            null,
            null,
            null,
            null,
            null,
            null,
            null,
            null,
            null,
            null,
            null,
            null,
            null,
            null,
            null,
            null,
            null,
            null,
            null,
            null,
            null,
            null,
            null,
            null,
            null,
            null,
            null,
            null,
            null,
            null,
            null,
            null,
            null,
            null,
            null,
            null,
            null,
            null,
            null,
            null,
            null,
            null,
            null,
            null,
            null,
            null,
            null,
            null,
            null,
            null,
            null,
            null,
            null,
            null,
            null,
            null,
            null,
            null,
            null,
            null,
            null,
            null,
            null,
            null,
            null,
            null,
            null,
            null,
            null,
            null,
            null,
            null,
            null,
            null,
            null,
            null,
            null,
            null,
            null,
            null,
            null,
            null,
            null,
            null,
            null,
            null,
            null,
            null,
            null,
            null,
            null,
            null,
            null,
            null,
            null,
            null,
            null,
            null,
            null,
            null,
            null,
            null,
            null,
            null,
            null,
            null,
            null,
            null,
            null,
            null,
            null,
            null,
            null,
            null,
            null,
            null,
            null,
            null,
            null,
            null,
            null,
            null,
            null,
            null,
            null,
            null,
            null,
            null,
            null,
            null,
            null,
            null,
            null,
            null,
            null,
            null,
            null,
            null,
            null,
            null,
            null,
            null,
            null,
            null,
            null,
            null,
            null,
            null,
            null,
            null,
            null,
            null,
            null,
            null,
            null,
            null,
            null,
            null,
            null,
            null,
            null,
            null,
            null,
            null,
            null,
            null,
            null,
            null,
            null,
            null,
            null,
            null,
            null,
            null,
            null,
            null,
            null,
            null,
            null,
            null,
            null,
            null,
            null,
            null,
            null,
            null,
            null,
            null,
            null,
            null,
            null,
            null,
            null,
            null,
            null,
            null,
            null,
            null,
            null,
            null,
            null,
            null,
            null,
            null,
            null,
            null,
            null,
            null,
            null,
            null,
            null,
            null,
            null,
            null,
            null,
            null,
            null,
            null,
            null,
            null,
            null,
            null,
            null,
            null,
            null,
            null,
            null,
            null,
            null,
            null,
            null,
            null,
            null,
            null,
            null,
            null,
            null,
            null,
            null,
            null,
            null,
            null,
            null,
            null,
            null,
            null,
            null,
            null,
            null,
            null,
            null,
            null,
            null,
            null,
            null,
            null,
            null,
            null,
            null,
            null,
            null,
            null,
            null,
            null,
            null,
            null,
            null,
            null,
            null,
            null,
            null,
            null,
            null,
            null,
            null,
            null,
            null,
            null,
            null,
            null,
            null,
            null,
            null,
            null,
            null,
            null,
            null,
            null,
            null,
            null,
            null,
            null,
            null,
            null,
            null,
            null,
            null,
            null,
            null,
            null,
            null,
            null,
            null,
            null,
            null,
            null,
            null,
            null,
            null,
            null,
            null,
            null,
            null,
            null,
            null,
            null,
            null,
            null,
            null,
            null,
            null,
            null,
            null,
            null,
            null,
            null,
            null,
            null,
            null,
            null,
            null,
            null,
            null,
            null,
            null,
            null,
            null,
            null,
            null,
            null,
            null,
            null,
            null,
            null,
            null,
            null,
            null,
            null,
            null,
            null,
            null,
            null,
            null,
            null,
            null,
            null,
            null,
            null,
            null,
            null,
            null,
            null,
            null,
            null,
            null,
            null,
            null,
            null,
            null,
            null,
            null,
            null,
            null,
            null,
            null,
            null,
            null,
            null,
            null,
            null,
            null,
            null,
            null,
            null,
            null,
            null,
            null,
            null,
            null,
            null,
            null,
            null,
            null,
            null,
            null,
            null,
            null,
            null,
            null,
            null,
            null,
            null,
            null,
            null,
            null,
            null,
            null,
            null,
            null,
            null,
            null,
            null,
            null,
            null,
            null,
            null,
            null,
            null,
            null,
            null,
            null,
            null,
            null,
            null,
            null,
            null,
            null,
            null,
            null,
            null,
            null,
            null,
            null,
            null,
            null,
            null,
            null,
            null,
            null,
            null,
            null,
            null,
            null,
            null,
            null,
            null,
            null,
            null,
            null,
            null,
            null
           ],
           [
            null,
            null,
            null,
            null,
            "Step 1: The wheat flour is mixed with water to form a dough.",
            "Step 2: The dough is rolled out and cut into noodles.",
            "Step 3: The noodles are fried in refined palm oil.",
            "Step 4: The seasoning powder is made by mixing salt, sugar, flavour enhancers, garlic powder, onion powder, yeast extract, artificial flavour, pepper, and anti caking agent.",
            "Step 5: The seasoning oil is made by mixing refined palm oil and onion.",
            "Step 6: The sweet soy sauce is made by mixing sugar, water, salt, wheat, soy bean, spices, and sesame oil.",
            "Step 7: The chilli sauce is made by mixing chilli, water, sugar, salt, tapioca starch, acidity regulators, herbs, flavour enhancers, flavours, and preservatives.",
            "Step 8: The fried onion is made by frying onion in refined palm oil.",
            null,
            null,
            null,
            null,
            null,
            null,
            null,
            null,
            null,
            null,
            null,
            null,
            null,
            null,
            null,
            null,
            null,
            null,
            null,
            null,
            null,
            null,
            null,
            null,
            null,
            null,
            null,
            null,
            "1. The wheat flour, sugar, vegetable oil, cocoa powder, fructose syrup, cornstarch, salt, raising agents, emulsifier, flavor, antioxidant, minerals, and vitamins are mixed together to form the cookie dough.",
            "2. The dough is then shaped into small, round cookies and baked until crispy.",
            "3. For the strawberry flavor, food acid and color are added to the dough before baking.",
            "4. After baking, the cookies are cooled and filled with a sweet cream filling.",
            "5. The cookies are then packaged into bags of 18 packs.",
            null,
            null,
            null,
            "Mixing and blending dry ingredients, including wheat flour, sugar, cocoa powder, and raising agents.",
            "Adding and mixing wet ingredients, such as vegetable oil, fructose syrup, and emulsifiers.",
            "Forming the dough and allowing it to rest.",
            "Sheeting and cutting the dough into round wafers.",
            "Baking the wafers at controlled temperatures.",
            "Preparing the vanilla creme filling by blending sugar, cornstarch, and other ingredients.",
            "Piping or spreading the creme filling onto one wafer.",
            "Assembling the sandwich cookies by topping the creme-filled wafer with a second wafer.",
            "Cooling and packaging the cookies for distribution.",
            null,
            null,
            "1. Apples and mangoes are harvested and processed to extract juice",
            "2. The juices are reconstituted to specific concentrations (95.8% apple juice, 4.0% mango juice)",
            "3. Citric acid is added to regulate acidity",
            "4. Vitamin C is added for fortification",
            "5. Natural flavours are introduced to enhance taste",
            "6. The mixture is pasteurized to ensure safety and stability",
            "7. The juice is packaged in aseptic containers for distribution",
            null,
            null,
            null,
            null,
            "Step 1: The fruit juices are extracted from pear, apple, pineapple, and passionfruit",
            "Step 2: The fruit juices are reconstituted with water",
            "Step 3: Sugar, food acids, and vitamin C are added to the mixture",
            "Step 4: The mixture is pasteurized to kill any bacteria and extend shelf life",
            "Step 5: The beverage is packaged in aseptic containers to maintain freshness",
            null,
            "Step 1: Extracting fruit juices and purées from apples, pears, pineapples, oranges, peaches, and passionfruits.",
            "Step 2: Combining the fruit juices and purées with water, sugar, food acids, vitamin C, natural flavors, and pectin.",
            "Step 3: Homogenizing the mixture to ensure a consistent texture and even distribution of ingredients.",
            "Step 4: Pasteurizing the mixture to kill any microorganisms and ensure a stable shelf life.",
            "Step 5: Filling the drink into containers, sealing, and cooling for storage and distribution.",
            "Step 1: Extraction of fruit juices from pear, apple, pineapple, orange, peach, and passionfruit",
            "Step 2: Blending of the fruit juices to create the tropical punch flavor",
            "Step 3: Addition of sugar and food acids (citric acid and potassium citrate) to enhance the flavor and preserve the product",
            "Step 4: Incorporation of natural flavors to enhance the fruit taste",
            "Step 5: Homogenization and pasteurization of the mixture to ensure safety and consistency",
            "Step 6: Filling and sealing of the individual containers",
            "Step 7: Packing the individual containers into multipacks",
            null,
            null,
            null,
            null,
            null,
            null,
            null,
            null,
            null,
            null,
            null,
            null,
            null,
            null,
            null,
            null,
            null,
            null,
            null,
            null,
            null,
            null,
            null,
            "Step 1: Canola oil, water, sugar, and vinegar are mixed together in a large vat.",
            "Step 2: Thickeners, egg yolk, gherkins, salt, onion powder, natural colors, preservatives, dill, acidity regulators, and herb extracts are added to the mixture.",
            "Step 3: The mixture is heated to a specific temperature to ensure proper mixing and emulsification.",
            "Step 4: The mixture is cooled and bottled for distribution.",
            null,
            null,
            null,
            null,
            null,
            null,
            "Potatoes are washed, peeled, and sliced into crinkle-cut shapes.",
            "The sliced potatoes are blanched in a mixture of canola and sunflower oils.",
            "The blanched potatoes are then fried in the same oil mixture until they are golden brown and crispy.",
            "While the potatoes are still hot, they are seasoned with a mixture of sugar, maltodextrin, salt, tomato powder, flavor enhancers, food acids, onion powder, and garlic powder.",
            "The seasoned chips are then cooled and packaged for distribution.",
            null,
            null,
            "Step 1: Potatoes are washed, peeled, and thinly sliced",
            "Step 2: The sliced potatoes are blanched to remove excess starch",
            "Step 3: The potatoes are then fried in a blend of canola and sunflower oils",
            "Step 4: After frying, the chips are seasoned with salt and a mix of antioxidants",
            "Step 5: The chips are packaged in a share pack for consumption",
            null,
            null,
            null,
            null,
            "Step 1: Fruits (peach and pear) are sorted, washed, and prepared for processing",
            "Step 2: The fruits are chopped and blended to form a puree",
            "Step 3: The fruit puree is mixed with reconstituted refined juice (made from concentrated pear juice, water, antioxidant (ascorbic acid), and acidity regulator (citric acid))",
            "Step 4: The mixture is homogenized to ensure even distribution of fruit chunks and juice",
            "Step 5: The product is filled into cups, sealed, and pasteurized for preservation",
            "Step 6: The cups are labeled, packaged, and prepared for distribution",
            null,
            "Step 1: Preparation of Jelly - Water, sugar, and gelling agents are combined and heated to dissolve the sugar and activate the gelling agents.",
            "Step 2: Addition of Natural Flavours and Colours - Once the jelly base is prepared, natural flavours and colours are added to give it a tropical flavour and vibrant colour.",
            "Step 3: Acidification - Acidity regulators are added to balance the pH and enhance the flavour of the jelly.",
            "Step 4: Fruit Preparation - Peach and pear pieces are prepared and added to the jelly mixture.",
            "Step 5: Filling and Setting - The mixture is filled into containers and allowed to set in a cool environment.",
            null,
            null,
            null,
            null,
            null,
            null,
            null,
            null,
            null,
            null,
            null,
            null,
            null,
            null,
            null,
            null,
            null,
            null,
            null,
            null,
            null,
            null,
            null,
            null,
            null,
            null,
            null,
            null,
            null,
            null,
            null,
            null,
            null,
            null,
            null,
            null,
            null,
            null,
            null,
            null,
            null,
            null,
            null,
            null,
            null,
            null,
            null,
            null,
            null,
            null,
            null,
            null,
            null,
            null,
            null,
            null,
            null,
            null,
            null,
            null,
            null,
            null,
            null,
            null,
            null,
            null,
            null,
            null,
            null,
            null,
            null,
            null,
            null,
            null,
            null,
            null,
            null,
            null,
            null,
            null,
            null,
            null,
            null,
            null,
            null,
            null,
            null,
            null,
            null,
            null,
            null,
            null,
            null,
            null,
            null,
            null,
            null,
            null,
            null,
            null,
            null,
            null,
            null,
            null,
            null,
            null,
            null,
            null,
            null,
            null,
            null,
            null,
            null,
            null,
            null,
            null,
            null,
            null,
            null,
            null,
            null,
            null,
            null,
            null,
            null,
            null,
            null,
            null,
            null,
            null,
            null,
            null,
            null,
            null,
            null,
            null,
            null,
            null,
            null,
            null,
            null,
            null,
            null,
            null,
            null,
            null,
            null,
            null,
            null,
            null,
            null,
            null,
            null,
            null,
            null,
            null,
            null,
            null,
            null,
            null,
            null,
            null,
            null,
            null,
            null,
            null,
            null,
            null,
            null,
            null,
            null,
            null,
            null,
            null,
            null,
            null,
            null,
            null,
            null,
            null,
            null,
            null,
            null,
            null,
            null,
            null,
            null,
            null,
            null,
            null,
            null,
            null,
            null,
            null,
            null,
            null,
            null,
            null,
            null,
            null,
            null,
            null,
            null,
            null,
            null,
            null,
            null,
            null,
            null,
            null,
            null,
            null,
            null,
            null,
            null,
            null,
            null,
            null,
            null,
            null,
            null,
            null,
            null,
            null,
            null,
            null,
            null,
            null,
            null,
            null,
            null,
            null,
            null,
            null,
            null,
            null,
            null,
            null,
            null,
            null,
            null,
            null,
            null,
            null,
            null,
            null,
            null,
            null,
            null,
            null,
            null,
            null,
            null,
            null,
            null,
            null,
            null,
            null,
            null,
            null,
            null,
            null,
            null,
            null,
            null,
            null,
            null,
            null,
            null,
            null,
            null,
            null,
            null,
            null,
            null,
            null,
            null,
            null,
            null,
            null,
            null,
            null,
            null,
            null,
            null,
            null,
            null,
            null,
            null,
            null,
            null,
            null,
            null,
            null,
            null,
            null,
            null,
            null,
            null,
            null,
            null,
            null,
            null,
            null,
            null,
            null,
            null,
            null,
            null,
            null,
            null,
            null,
            null,
            null,
            null,
            null,
            null,
            null,
            null,
            null,
            null,
            null,
            null,
            null,
            null,
            null,
            null,
            null,
            null,
            null,
            null,
            null,
            null,
            null,
            null,
            null,
            null,
            null,
            null,
            null,
            null,
            null,
            null,
            null,
            null,
            null,
            null,
            null,
            null,
            null,
            null,
            null,
            null,
            null,
            null,
            null,
            null,
            null,
            null,
            null,
            null,
            null,
            null,
            null,
            null,
            null,
            null,
            null,
            null,
            null,
            null,
            null,
            null,
            null,
            null,
            null,
            null,
            null,
            null,
            null,
            null,
            null,
            null,
            null,
            null,
            null,
            null,
            null,
            null,
            null,
            null,
            null,
            null,
            null,
            null,
            null,
            null,
            null,
            null,
            null,
            null,
            null,
            null,
            null,
            null,
            null,
            null,
            null,
            null,
            null,
            null,
            null,
            null,
            null,
            null,
            null,
            null,
            null,
            null,
            null,
            null,
            null,
            null,
            null,
            null,
            null,
            null,
            null,
            null,
            null,
            null,
            null,
            null,
            null,
            null,
            null,
            null,
            null,
            null,
            null,
            null,
            null,
            null,
            null,
            null,
            null,
            null,
            null,
            null,
            null,
            null,
            null,
            null,
            null,
            null,
            null,
            null,
            null,
            null,
            null,
            null,
            null,
            null,
            null,
            null,
            null,
            null,
            null,
            null,
            null,
            null,
            null,
            null,
            null,
            null,
            null,
            null,
            null,
            null,
            null,
            null,
            null,
            null,
            null,
            null,
            null,
            null,
            null,
            null,
            null,
            null,
            null,
            null,
            null,
            null,
            null,
            null,
            null,
            null,
            null,
            null,
            null,
            null,
            null,
            null,
            null,
            null,
            null,
            null,
            null,
            null,
            null,
            null,
            null,
            null,
            null,
            null,
            null,
            null,
            null,
            null,
            null,
            null,
            null,
            null,
            null,
            null,
            null,
            null,
            null,
            null,
            null,
            null,
            null,
            null,
            null,
            null,
            null,
            null,
            null,
            null,
            null,
            null,
            null,
            null,
            null,
            null,
            null,
            null,
            null,
            null,
            null,
            null,
            null,
            null,
            null,
            null,
            null,
            null,
            null,
            null,
            null,
            null,
            null,
            null,
            null,
            null,
            null,
            null,
            null,
            null,
            null,
            null,
            null,
            null,
            null,
            null,
            null,
            null,
            null,
            null,
            null,
            null,
            null,
            null,
            null,
            null,
            null,
            null,
            null,
            null,
            null,
            null,
            null,
            null,
            null,
            null,
            null,
            null,
            null,
            null,
            null,
            null,
            null,
            null,
            null,
            null,
            null,
            null,
            null,
            null,
            null,
            null,
            null,
            null,
            null,
            null,
            null,
            null,
            null,
            null,
            null,
            null,
            null,
            null,
            null,
            null,
            null,
            null,
            null,
            null,
            null,
            null,
            null,
            null,
            null,
            null,
            null,
            null,
            null,
            null,
            null,
            null,
            null,
            null,
            null,
            null,
            null,
            null,
            null,
            null,
            null,
            null,
            null,
            null,
            null,
            null,
            null,
            null,
            null,
            null,
            null,
            null,
            null,
            null,
            null,
            null,
            null,
            null,
            null,
            null,
            null,
            null,
            null,
            null,
            null,
            null,
            null,
            null,
            null,
            null,
            null,
            null,
            null,
            null,
            null,
            null,
            null,
            null,
            null,
            null,
            null,
            null,
            null,
            null,
            null,
            null,
            null,
            null,
            null,
            null,
            null,
            null,
            null,
            null,
            null,
            null,
            null,
            null,
            null,
            null,
            null,
            null,
            null,
            null,
            null,
            null,
            null,
            null,
            null,
            null,
            null,
            null,
            null,
            null,
            null,
            null,
            null,
            null,
            null,
            null,
            null,
            null,
            null,
            null,
            null,
            null,
            null,
            null,
            null,
            null,
            null,
            null,
            null,
            null,
            null,
            null,
            null,
            null,
            null,
            null,
            null,
            null,
            null,
            null,
            null
           ]
          ]
         },
         "header": {
          "align": "left",
          "fill": {
           "color": "paleturquoise"
          },
          "values": [
           "ManufacturingProcessstep",
           "ManufacturingProcessdes"
          ]
         },
         "type": "table"
        }
       ],
       "layout": {
        "template": {
         "data": {
          "bar": [
           {
            "error_x": {
             "color": "#2a3f5f"
            },
            "error_y": {
             "color": "#2a3f5f"
            },
            "marker": {
             "line": {
              "color": "#E5ECF6",
              "width": 0.5
             },
             "pattern": {
              "fillmode": "overlay",
              "size": 10,
              "solidity": 0.2
             }
            },
            "type": "bar"
           }
          ],
          "barpolar": [
           {
            "marker": {
             "line": {
              "color": "#E5ECF6",
              "width": 0.5
             },
             "pattern": {
              "fillmode": "overlay",
              "size": 10,
              "solidity": 0.2
             }
            },
            "type": "barpolar"
           }
          ],
          "carpet": [
           {
            "aaxis": {
             "endlinecolor": "#2a3f5f",
             "gridcolor": "white",
             "linecolor": "white",
             "minorgridcolor": "white",
             "startlinecolor": "#2a3f5f"
            },
            "baxis": {
             "endlinecolor": "#2a3f5f",
             "gridcolor": "white",
             "linecolor": "white",
             "minorgridcolor": "white",
             "startlinecolor": "#2a3f5f"
            },
            "type": "carpet"
           }
          ],
          "choropleth": [
           {
            "colorbar": {
             "outlinewidth": 0,
             "ticks": ""
            },
            "type": "choropleth"
           }
          ],
          "contour": [
           {
            "colorbar": {
             "outlinewidth": 0,
             "ticks": ""
            },
            "colorscale": [
             [
              0,
              "#0d0887"
             ],
             [
              0.1111111111111111,
              "#46039f"
             ],
             [
              0.2222222222222222,
              "#7201a8"
             ],
             [
              0.3333333333333333,
              "#9c179e"
             ],
             [
              0.4444444444444444,
              "#bd3786"
             ],
             [
              0.5555555555555556,
              "#d8576b"
             ],
             [
              0.6666666666666666,
              "#ed7953"
             ],
             [
              0.7777777777777778,
              "#fb9f3a"
             ],
             [
              0.8888888888888888,
              "#fdca26"
             ],
             [
              1,
              "#f0f921"
             ]
            ],
            "type": "contour"
           }
          ],
          "contourcarpet": [
           {
            "colorbar": {
             "outlinewidth": 0,
             "ticks": ""
            },
            "type": "contourcarpet"
           }
          ],
          "heatmap": [
           {
            "colorbar": {
             "outlinewidth": 0,
             "ticks": ""
            },
            "colorscale": [
             [
              0,
              "#0d0887"
             ],
             [
              0.1111111111111111,
              "#46039f"
             ],
             [
              0.2222222222222222,
              "#7201a8"
             ],
             [
              0.3333333333333333,
              "#9c179e"
             ],
             [
              0.4444444444444444,
              "#bd3786"
             ],
             [
              0.5555555555555556,
              "#d8576b"
             ],
             [
              0.6666666666666666,
              "#ed7953"
             ],
             [
              0.7777777777777778,
              "#fb9f3a"
             ],
             [
              0.8888888888888888,
              "#fdca26"
             ],
             [
              1,
              "#f0f921"
             ]
            ],
            "type": "heatmap"
           }
          ],
          "heatmapgl": [
           {
            "colorbar": {
             "outlinewidth": 0,
             "ticks": ""
            },
            "colorscale": [
             [
              0,
              "#0d0887"
             ],
             [
              0.1111111111111111,
              "#46039f"
             ],
             [
              0.2222222222222222,
              "#7201a8"
             ],
             [
              0.3333333333333333,
              "#9c179e"
             ],
             [
              0.4444444444444444,
              "#bd3786"
             ],
             [
              0.5555555555555556,
              "#d8576b"
             ],
             [
              0.6666666666666666,
              "#ed7953"
             ],
             [
              0.7777777777777778,
              "#fb9f3a"
             ],
             [
              0.8888888888888888,
              "#fdca26"
             ],
             [
              1,
              "#f0f921"
             ]
            ],
            "type": "heatmapgl"
           }
          ],
          "histogram": [
           {
            "marker": {
             "pattern": {
              "fillmode": "overlay",
              "size": 10,
              "solidity": 0.2
             }
            },
            "type": "histogram"
           }
          ],
          "histogram2d": [
           {
            "colorbar": {
             "outlinewidth": 0,
             "ticks": ""
            },
            "colorscale": [
             [
              0,
              "#0d0887"
             ],
             [
              0.1111111111111111,
              "#46039f"
             ],
             [
              0.2222222222222222,
              "#7201a8"
             ],
             [
              0.3333333333333333,
              "#9c179e"
             ],
             [
              0.4444444444444444,
              "#bd3786"
             ],
             [
              0.5555555555555556,
              "#d8576b"
             ],
             [
              0.6666666666666666,
              "#ed7953"
             ],
             [
              0.7777777777777778,
              "#fb9f3a"
             ],
             [
              0.8888888888888888,
              "#fdca26"
             ],
             [
              1,
              "#f0f921"
             ]
            ],
            "type": "histogram2d"
           }
          ],
          "histogram2dcontour": [
           {
            "colorbar": {
             "outlinewidth": 0,
             "ticks": ""
            },
            "colorscale": [
             [
              0,
              "#0d0887"
             ],
             [
              0.1111111111111111,
              "#46039f"
             ],
             [
              0.2222222222222222,
              "#7201a8"
             ],
             [
              0.3333333333333333,
              "#9c179e"
             ],
             [
              0.4444444444444444,
              "#bd3786"
             ],
             [
              0.5555555555555556,
              "#d8576b"
             ],
             [
              0.6666666666666666,
              "#ed7953"
             ],
             [
              0.7777777777777778,
              "#fb9f3a"
             ],
             [
              0.8888888888888888,
              "#fdca26"
             ],
             [
              1,
              "#f0f921"
             ]
            ],
            "type": "histogram2dcontour"
           }
          ],
          "mesh3d": [
           {
            "colorbar": {
             "outlinewidth": 0,
             "ticks": ""
            },
            "type": "mesh3d"
           }
          ],
          "parcoords": [
           {
            "line": {
             "colorbar": {
              "outlinewidth": 0,
              "ticks": ""
             }
            },
            "type": "parcoords"
           }
          ],
          "pie": [
           {
            "automargin": true,
            "type": "pie"
           }
          ],
          "scatter": [
           {
            "fillpattern": {
             "fillmode": "overlay",
             "size": 10,
             "solidity": 0.2
            },
            "type": "scatter"
           }
          ],
          "scatter3d": [
           {
            "line": {
             "colorbar": {
              "outlinewidth": 0,
              "ticks": ""
             }
            },
            "marker": {
             "colorbar": {
              "outlinewidth": 0,
              "ticks": ""
             }
            },
            "type": "scatter3d"
           }
          ],
          "scattercarpet": [
           {
            "marker": {
             "colorbar": {
              "outlinewidth": 0,
              "ticks": ""
             }
            },
            "type": "scattercarpet"
           }
          ],
          "scattergeo": [
           {
            "marker": {
             "colorbar": {
              "outlinewidth": 0,
              "ticks": ""
             }
            },
            "type": "scattergeo"
           }
          ],
          "scattergl": [
           {
            "marker": {
             "colorbar": {
              "outlinewidth": 0,
              "ticks": ""
             }
            },
            "type": "scattergl"
           }
          ],
          "scattermapbox": [
           {
            "marker": {
             "colorbar": {
              "outlinewidth": 0,
              "ticks": ""
             }
            },
            "type": "scattermapbox"
           }
          ],
          "scatterpolar": [
           {
            "marker": {
             "colorbar": {
              "outlinewidth": 0,
              "ticks": ""
             }
            },
            "type": "scatterpolar"
           }
          ],
          "scatterpolargl": [
           {
            "marker": {
             "colorbar": {
              "outlinewidth": 0,
              "ticks": ""
             }
            },
            "type": "scatterpolargl"
           }
          ],
          "scatterternary": [
           {
            "marker": {
             "colorbar": {
              "outlinewidth": 0,
              "ticks": ""
             }
            },
            "type": "scatterternary"
           }
          ],
          "surface": [
           {
            "colorbar": {
             "outlinewidth": 0,
             "ticks": ""
            },
            "colorscale": [
             [
              0,
              "#0d0887"
             ],
             [
              0.1111111111111111,
              "#46039f"
             ],
             [
              0.2222222222222222,
              "#7201a8"
             ],
             [
              0.3333333333333333,
              "#9c179e"
             ],
             [
              0.4444444444444444,
              "#bd3786"
             ],
             [
              0.5555555555555556,
              "#d8576b"
             ],
             [
              0.6666666666666666,
              "#ed7953"
             ],
             [
              0.7777777777777778,
              "#fb9f3a"
             ],
             [
              0.8888888888888888,
              "#fdca26"
             ],
             [
              1,
              "#f0f921"
             ]
            ],
            "type": "surface"
           }
          ],
          "table": [
           {
            "cells": {
             "fill": {
              "color": "#EBF0F8"
             },
             "line": {
              "color": "white"
             }
            },
            "header": {
             "fill": {
              "color": "#C8D4E3"
             },
             "line": {
              "color": "white"
             }
            },
            "type": "table"
           }
          ]
         },
         "layout": {
          "annotationdefaults": {
           "arrowcolor": "#2a3f5f",
           "arrowhead": 0,
           "arrowwidth": 1
          },
          "autotypenumbers": "strict",
          "coloraxis": {
           "colorbar": {
            "outlinewidth": 0,
            "ticks": ""
           }
          },
          "colorscale": {
           "diverging": [
            [
             0,
             "#8e0152"
            ],
            [
             0.1,
             "#c51b7d"
            ],
            [
             0.2,
             "#de77ae"
            ],
            [
             0.3,
             "#f1b6da"
            ],
            [
             0.4,
             "#fde0ef"
            ],
            [
             0.5,
             "#f7f7f7"
            ],
            [
             0.6,
             "#e6f5d0"
            ],
            [
             0.7,
             "#b8e186"
            ],
            [
             0.8,
             "#7fbc41"
            ],
            [
             0.9,
             "#4d9221"
            ],
            [
             1,
             "#276419"
            ]
           ],
           "sequential": [
            [
             0,
             "#0d0887"
            ],
            [
             0.1111111111111111,
             "#46039f"
            ],
            [
             0.2222222222222222,
             "#7201a8"
            ],
            [
             0.3333333333333333,
             "#9c179e"
            ],
            [
             0.4444444444444444,
             "#bd3786"
            ],
            [
             0.5555555555555556,
             "#d8576b"
            ],
            [
             0.6666666666666666,
             "#ed7953"
            ],
            [
             0.7777777777777778,
             "#fb9f3a"
            ],
            [
             0.8888888888888888,
             "#fdca26"
            ],
            [
             1,
             "#f0f921"
            ]
           ],
           "sequentialminus": [
            [
             0,
             "#0d0887"
            ],
            [
             0.1111111111111111,
             "#46039f"
            ],
            [
             0.2222222222222222,
             "#7201a8"
            ],
            [
             0.3333333333333333,
             "#9c179e"
            ],
            [
             0.4444444444444444,
             "#bd3786"
            ],
            [
             0.5555555555555556,
             "#d8576b"
            ],
            [
             0.6666666666666666,
             "#ed7953"
            ],
            [
             0.7777777777777778,
             "#fb9f3a"
            ],
            [
             0.8888888888888888,
             "#fdca26"
            ],
            [
             1,
             "#f0f921"
            ]
           ]
          },
          "colorway": [
           "#636efa",
           "#EF553B",
           "#00cc96",
           "#ab63fa",
           "#FFA15A",
           "#19d3f3",
           "#FF6692",
           "#B6E880",
           "#FF97FF",
           "#FECB52"
          ],
          "font": {
           "color": "#2a3f5f"
          },
          "geo": {
           "bgcolor": "white",
           "lakecolor": "white",
           "landcolor": "#E5ECF6",
           "showlakes": true,
           "showland": true,
           "subunitcolor": "white"
          },
          "hoverlabel": {
           "align": "left"
          },
          "hovermode": "closest",
          "mapbox": {
           "style": "light"
          },
          "paper_bgcolor": "white",
          "plot_bgcolor": "#E5ECF6",
          "polar": {
           "angularaxis": {
            "gridcolor": "white",
            "linecolor": "white",
            "ticks": ""
           },
           "bgcolor": "#E5ECF6",
           "radialaxis": {
            "gridcolor": "white",
            "linecolor": "white",
            "ticks": ""
           }
          },
          "scene": {
           "xaxis": {
            "backgroundcolor": "#E5ECF6",
            "gridcolor": "white",
            "gridwidth": 2,
            "linecolor": "white",
            "showbackground": true,
            "ticks": "",
            "zerolinecolor": "white"
           },
           "yaxis": {
            "backgroundcolor": "#E5ECF6",
            "gridcolor": "white",
            "gridwidth": 2,
            "linecolor": "white",
            "showbackground": true,
            "ticks": "",
            "zerolinecolor": "white"
           },
           "zaxis": {
            "backgroundcolor": "#E5ECF6",
            "gridcolor": "white",
            "gridwidth": 2,
            "linecolor": "white",
            "showbackground": true,
            "ticks": "",
            "zerolinecolor": "white"
           }
          },
          "shapedefaults": {
           "line": {
            "color": "#2a3f5f"
           }
          },
          "ternary": {
           "aaxis": {
            "gridcolor": "white",
            "linecolor": "white",
            "ticks": ""
           },
           "baxis": {
            "gridcolor": "white",
            "linecolor": "white",
            "ticks": ""
           },
           "bgcolor": "#E5ECF6",
           "caxis": {
            "gridcolor": "white",
            "linecolor": "white",
            "ticks": ""
           }
          },
          "title": {
           "x": 0.05
          },
          "xaxis": {
           "automargin": true,
           "gridcolor": "white",
           "linecolor": "white",
           "ticks": "",
           "title": {
            "standoff": 15
           },
           "zerolinecolor": "white",
           "zerolinewidth": 2
          },
          "yaxis": {
           "automargin": true,
           "gridcolor": "white",
           "linecolor": "white",
           "ticks": "",
           "title": {
            "standoff": 15
           },
           "zerolinecolor": "white",
           "zerolinewidth": 2
          }
         }
        },
        "title": {
         "text": "ManufacturingProcess"
        }
       }
      }
     },
     "metadata": {},
     "output_type": "display_data"
    }
   ],
   "source": [
    "import plotly.graph_objects as go\n",
    "from neo4j import GraphDatabase\n",
    "\n",
    "\n",
    "query = \"\"\"\n",
    "MATCH (ir:ManufacturingProcess)\n",
    "RETURN ir.Step AS ManufacturingProcessstep , ir.Description AS ManufacturingProcessdes\n",
    "\"\"\"\n",
    "\n",
    "\n",
    "with driver.session() as session:\n",
    "    result = session.run(query)\n",
    "    neo4j_data = [record.data() for record in result]\n",
    "\n",
    "# Get a list of names and substitutions\n",
    "names = [record['ManufacturingProcessstep'] for record in neo4j_data]\n",
    "alternatives = [record['ManufacturingProcessdes'] for record in neo4j_data]\n",
    "\n",
    "# Cteate chart\n",
    "fig = go.Figure(data=[go.Table(\n",
    "    header=dict(values=['ManufacturingProcessstep', 'ManufacturingProcessdes'],\n",
    "                fill_color='paleturquoise',\n",
    "                align='left'),\n",
    "    cells=dict(values=[names, alternatives],\n",
    "               fill_color='lavender',\n",
    "               align='left'))\n",
    "])\n",
    "\n",
    "# Updated Chart Layout\n",
    "fig.update_layout(title='ManufacturingProcess')\n",
    "\n",
    "fig.show()"
   ]
  },
  {
   "cell_type": "code",
   "execution_count": 8,
   "metadata": {},
   "outputs": [
    {
     "data": {
      "application/vnd.plotly.v1+json": {
       "config": {
        "plotlyServerURL": "https://plot.ly"
       },
       "data": [
        {
         "cells": {
          "align": "left",
          "fill": {
           "color": "lavender"
          },
          "values": [
           [
            null,
            null,
            null,
            null,
            "Step 1: The wheat flour is mixed with water to form a dough.",
            "Step 2: The dough is rolled out and cut into noodles.",
            "Step 3: The noodles are fried in refined palm oil.",
            "Step 4: The seasoning powder is made by mixing salt, sugar, flavour enhancers, garlic powder, onion powder, yeast extract, artificial flavour, pepper, and anti caking agent.",
            "Step 5: The seasoning oil is made by mixing refined palm oil and onion.",
            "Step 6: The sweet soy sauce is made by mixing sugar, water, salt, wheat, soy bean, spices, and sesame oil.",
            "Step 7: The chilli sauce is made by mixing chilli, water, sugar, salt, tapioca starch, acidity regulators, herbs, flavour enhancers, flavours, and preservatives.",
            "Step 8: The fried onion is made by frying onion in refined palm oil.",
            null,
            null,
            null,
            null,
            null,
            null,
            null,
            null,
            null,
            null,
            null,
            null,
            null,
            null,
            null,
            null,
            null,
            null,
            null,
            null,
            null,
            null,
            null,
            null,
            null,
            null,
            null,
            null,
            "1. The wheat flour, sugar, vegetable oil, cocoa powder, fructose syrup, cornstarch, salt, raising agents, emulsifier, flavor, antioxidant, minerals, and vitamins are mixed together to form the cookie dough.",
            "2. The dough is then shaped into small, round cookies and baked until crispy.",
            "3. For the strawberry flavor, food acid and color are added to the dough before baking.",
            "4. After baking, the cookies are cooled and filled with a sweet cream filling.",
            "5. The cookies are then packaged into bags of 18 packs.",
            null,
            null,
            null,
            "Mixing and blending dry ingredients, including wheat flour, sugar, cocoa powder, and raising agents.",
            "Adding and mixing wet ingredients, such as vegetable oil, fructose syrup, and emulsifiers.",
            "Forming the dough and allowing it to rest.",
            "Sheeting and cutting the dough into round wafers.",
            "Baking the wafers at controlled temperatures.",
            "Preparing the vanilla creme filling by blending sugar, cornstarch, and other ingredients.",
            "Piping or spreading the creme filling onto one wafer.",
            "Assembling the sandwich cookies by topping the creme-filled wafer with a second wafer.",
            "Cooling and packaging the cookies for distribution.",
            null,
            null,
            "1. Apples and mangoes are harvested and processed to extract juice",
            "2. The juices are reconstituted to specific concentrations (95.8% apple juice, 4.0% mango juice)",
            "3. Citric acid is added to regulate acidity",
            "4. Vitamin C is added for fortification",
            "5. Natural flavours are introduced to enhance taste",
            "6. The mixture is pasteurized to ensure safety and stability",
            "7. The juice is packaged in aseptic containers for distribution",
            null,
            null,
            null,
            null,
            "Step 1: The fruit juices are extracted from pear, apple, pineapple, and passionfruit",
            "Step 2: The fruit juices are reconstituted with water",
            "Step 3: Sugar, food acids, and vitamin C are added to the mixture",
            "Step 4: The mixture is pasteurized to kill any bacteria and extend shelf life",
            "Step 5: The beverage is packaged in aseptic containers to maintain freshness",
            null,
            "Step 1: Extracting fruit juices and purées from apples, pears, pineapples, oranges, peaches, and passionfruits.",
            "Step 2: Combining the fruit juices and purées with water, sugar, food acids, vitamin C, natural flavors, and pectin.",
            "Step 3: Homogenizing the mixture to ensure a consistent texture and even distribution of ingredients.",
            "Step 4: Pasteurizing the mixture to kill any microorganisms and ensure a stable shelf life.",
            "Step 5: Filling the drink into containers, sealing, and cooling for storage and distribution.",
            "Step 1: Extraction of fruit juices from pear, apple, pineapple, orange, peach, and passionfruit",
            "Step 2: Blending of the fruit juices to create the tropical punch flavor",
            "Step 3: Addition of sugar and food acids (citric acid and potassium citrate) to enhance the flavor and preserve the product",
            "Step 4: Incorporation of natural flavors to enhance the fruit taste",
            "Step 5: Homogenization and pasteurization of the mixture to ensure safety and consistency",
            "Step 6: Filling and sealing of the individual containers",
            "Step 7: Packing the individual containers into multipacks",
            null,
            null,
            null,
            null,
            null,
            null,
            null,
            null,
            null,
            null,
            null,
            null,
            null,
            null,
            null,
            null,
            null,
            null,
            null,
            null,
            null,
            null,
            null,
            "Step 1: Canola oil, water, sugar, and vinegar are mixed together in a large vat.",
            "Step 2: Thickeners, egg yolk, gherkins, salt, onion powder, natural colors, preservatives, dill, acidity regulators, and herb extracts are added to the mixture.",
            "Step 3: The mixture is heated to a specific temperature to ensure proper mixing and emulsification.",
            "Step 4: The mixture is cooled and bottled for distribution.",
            null,
            null,
            null,
            null,
            null,
            null,
            "Potatoes are washed, peeled, and sliced into crinkle-cut shapes.",
            "The sliced potatoes are blanched in a mixture of canola and sunflower oils.",
            "The blanched potatoes are then fried in the same oil mixture until they are golden brown and crispy.",
            "While the potatoes are still hot, they are seasoned with a mixture of sugar, maltodextrin, salt, tomato powder, flavor enhancers, food acids, onion powder, and garlic powder.",
            "The seasoned chips are then cooled and packaged for distribution.",
            null,
            null,
            "Step 1: Potatoes are washed, peeled, and thinly sliced",
            "Step 2: The sliced potatoes are blanched to remove excess starch",
            "Step 3: The potatoes are then fried in a blend of canola and sunflower oils",
            "Step 4: After frying, the chips are seasoned with salt and a mix of antioxidants",
            "Step 5: The chips are packaged in a share pack for consumption",
            null,
            null,
            null,
            null,
            "Step 1: Fruits (peach and pear) are sorted, washed, and prepared for processing",
            "Step 2: The fruits are chopped and blended to form a puree",
            "Step 3: The fruit puree is mixed with reconstituted refined juice (made from concentrated pear juice, water, antioxidant (ascorbic acid), and acidity regulator (citric acid))",
            "Step 4: The mixture is homogenized to ensure even distribution of fruit chunks and juice",
            "Step 5: The product is filled into cups, sealed, and pasteurized for preservation",
            "Step 6: The cups are labeled, packaged, and prepared for distribution",
            null,
            "Step 1: Preparation of Jelly - Water, sugar, and gelling agents are combined and heated to dissolve the sugar and activate the gelling agents.",
            "Step 2: Addition of Natural Flavours and Colours - Once the jelly base is prepared, natural flavours and colours are added to give it a tropical flavour and vibrant colour.",
            "Step 3: Acidification - Acidity regulators are added to balance the pH and enhance the flavour of the jelly.",
            "Step 4: Fruit Preparation - Peach and pear pieces are prepared and added to the jelly mixture.",
            "Step 5: Filling and Setting - The mixture is filled into containers and allowed to set in a cool environment.",
            null,
            null,
            null,
            null,
            null
           ],
           [
            "Carbonated Water, Sugar, Colour (150d), Food Acid (338), Flavour, Caffeine.",
            "Carbonated Water, Colour (150d), Food Acids (338, 331), Sweeteners (951, 950), Flavour, Caffeine.",
            "Carbonated Water, Colour (150d), Food Acids (338,331), Sweeteners (952, 950, 951), Flavour.",
            "Carbonated Water, Colour (150d), Food Acids (338,331), Sweeteners (951,950). Flavour, Caffeine.",
            "Noodles: Wheat Flour (62%), Refined Palm Oil (Contains Antioxidant 319), Salt, Acidity Regulators (451, 501, 500), Thickener (412), Colour (101).<br>Seasoning Powder: Salt, Sugar, Flavour Enhancers (621, 631, 627), Garlic Powder, Onion Powder, Yeast Extract, Artificial Flavour, Pepper, Anti Caking Agent (551).<br>Seasoning Oil: Refined Palm Oil (Contains Antioxidant 319), Onion.<br>Sweet Soy Sauce: Sugar, Water, Salt, Wheat, Soy Bean, Spices, Sesame Oil.<br>Chilli Sauce: Chilli, Water, Sugar, Salt, Tapioca Starch, Acidity Regulators (260, 330), Herbs, Flavour Enhancers (621, 627, 631), Flavours, Preservatives 1211, 223). Fried Onion: Onion, Refined Palm Oil (Contains Antioxidant 319).",
            "Noodles: Wheat Flour (62%), Refined Palm Oil (Contains Antioxidant 319), Salt, Acidity Regulators (451, 501, 500), Thickener (412), Colour (101).<br>Seasoning Powder: Salt, Sugar, Flavour Enhancers (621, 631, 627), Garlic Powder, Onion Powder, Yeast Extract, Artificial Flavour, Pepper, Anti Caking Agent (551).<br>Seasoning Oil: Refined Palm Oil (Contains Antioxidant 319), Onion.<br>Sweet Soy Sauce: Sugar, Water, Salt, Wheat, Soy Bean, Spices, Sesame Oil.<br>Chilli Sauce: Chilli, Water, Sugar, Salt, Tapioca Starch, Acidity Regulators (260, 330), Herbs, Flavour Enhancers (621, 627, 631), Flavours, Preservatives 1211, 223). Fried Onion: Onion, Refined Palm Oil (Contains Antioxidant 319).",
            "Noodles: Wheat Flour (62%), Refined Palm Oil (Contains Antioxidant 319), Salt, Acidity Regulators (451, 501, 500), Thickener (412), Colour (101).<br>Seasoning Powder: Salt, Sugar, Flavour Enhancers (621, 631, 627), Garlic Powder, Onion Powder, Yeast Extract, Artificial Flavour, Pepper, Anti Caking Agent (551).<br>Seasoning Oil: Refined Palm Oil (Contains Antioxidant 319), Onion.<br>Sweet Soy Sauce: Sugar, Water, Salt, Wheat, Soy Bean, Spices, Sesame Oil.<br>Chilli Sauce: Chilli, Water, Sugar, Salt, Tapioca Starch, Acidity Regulators (260, 330), Herbs, Flavour Enhancers (621, 627, 631), Flavours, Preservatives 1211, 223). Fried Onion: Onion, Refined Palm Oil (Contains Antioxidant 319).",
            "Noodles: Wheat Flour (62%), Refined Palm Oil (Contains Antioxidant 319), Salt, Acidity Regulators (451, 501, 500), Thickener (412), Colour (101).<br>Seasoning Powder: Salt, Sugar, Flavour Enhancers (621, 631, 627), Garlic Powder, Onion Powder, Yeast Extract, Artificial Flavour, Pepper, Anti Caking Agent (551).<br>Seasoning Oil: Refined Palm Oil (Contains Antioxidant 319), Onion.<br>Sweet Soy Sauce: Sugar, Water, Salt, Wheat, Soy Bean, Spices, Sesame Oil.<br>Chilli Sauce: Chilli, Water, Sugar, Salt, Tapioca Starch, Acidity Regulators (260, 330), Herbs, Flavour Enhancers (621, 627, 631), Flavours, Preservatives 1211, 223). Fried Onion: Onion, Refined Palm Oil (Contains Antioxidant 319).",
            "Noodles: Wheat Flour (62%), Refined Palm Oil (Contains Antioxidant 319), Salt, Acidity Regulators (451, 501, 500), Thickener (412), Colour (101).<br>Seasoning Powder: Salt, Sugar, Flavour Enhancers (621, 631, 627), Garlic Powder, Onion Powder, Yeast Extract, Artificial Flavour, Pepper, Anti Caking Agent (551).<br>Seasoning Oil: Refined Palm Oil (Contains Antioxidant 319), Onion.<br>Sweet Soy Sauce: Sugar, Water, Salt, Wheat, Soy Bean, Spices, Sesame Oil.<br>Chilli Sauce: Chilli, Water, Sugar, Salt, Tapioca Starch, Acidity Regulators (260, 330), Herbs, Flavour Enhancers (621, 627, 631), Flavours, Preservatives 1211, 223). Fried Onion: Onion, Refined Palm Oil (Contains Antioxidant 319).",
            "Noodles: Wheat Flour (62%), Refined Palm Oil (Contains Antioxidant 319), Salt, Acidity Regulators (451, 501, 500), Thickener (412), Colour (101).<br>Seasoning Powder: Salt, Sugar, Flavour Enhancers (621, 631, 627), Garlic Powder, Onion Powder, Yeast Extract, Artificial Flavour, Pepper, Anti Caking Agent (551).<br>Seasoning Oil: Refined Palm Oil (Contains Antioxidant 319), Onion.<br>Sweet Soy Sauce: Sugar, Water, Salt, Wheat, Soy Bean, Spices, Sesame Oil.<br>Chilli Sauce: Chilli, Water, Sugar, Salt, Tapioca Starch, Acidity Regulators (260, 330), Herbs, Flavour Enhancers (621, 627, 631), Flavours, Preservatives 1211, 223). Fried Onion: Onion, Refined Palm Oil (Contains Antioxidant 319).",
            "Noodles: Wheat Flour (62%), Refined Palm Oil (Contains Antioxidant 319), Salt, Acidity Regulators (451, 501, 500), Thickener (412), Colour (101).<br>Seasoning Powder: Salt, Sugar, Flavour Enhancers (621, 631, 627), Garlic Powder, Onion Powder, Yeast Extract, Artificial Flavour, Pepper, Anti Caking Agent (551).<br>Seasoning Oil: Refined Palm Oil (Contains Antioxidant 319), Onion.<br>Sweet Soy Sauce: Sugar, Water, Salt, Wheat, Soy Bean, Spices, Sesame Oil.<br>Chilli Sauce: Chilli, Water, Sugar, Salt, Tapioca Starch, Acidity Regulators (260, 330), Herbs, Flavour Enhancers (621, 627, 631), Flavours, Preservatives 1211, 223). Fried Onion: Onion, Refined Palm Oil (Contains Antioxidant 319).",
            "Noodles: Wheat Flour (62%), Refined Palm Oil (Contains Antioxidant 319), Salt, Acidity Regulators (451, 501, 500), Thickener (412), Colour (101).<br>Seasoning Powder: Salt, Sugar, Flavour Enhancers (621, 631, 627), Garlic Powder, Onion Powder, Yeast Extract, Artificial Flavour, Pepper, Anti Caking Agent (551).<br>Seasoning Oil: Refined Palm Oil (Contains Antioxidant 319), Onion.<br>Sweet Soy Sauce: Sugar, Water, Salt, Wheat, Soy Bean, Spices, Sesame Oil.<br>Chilli Sauce: Chilli, Water, Sugar, Salt, Tapioca Starch, Acidity Regulators (260, 330), Herbs, Flavour Enhancers (621, 627, 631), Flavours, Preservatives 1211, 223). Fried Onion: Onion, Refined Palm Oil (Contains Antioxidant 319).",
            "<div>Our Chosen Ingredients: Noodle Cake: Wheat  Flour, Vegetable Oil (Antioxidant (319)), Salt, Mineral Salts (508, 451, 501, 500), Vegetable Gum (412). Flavour Mix Sachet: Iodised Salt, Flavour Enhancers (621, 635), Mineral Salt (508), Maltodextrin, Flavours (Contains  Wheat ,  Soy  and  Celery), Sugar, Onion Powder, Vegetable Fat (Antioxidant (320)), Parsley Flakes, Colours (Turmeric, Caramel Iii), Spices (Coriander, Cumin, Cardamom, Chilli Powder, Ginger).</div>",
            "Ingredients:        Noodle Cake : Australian  Whea T Flour (70%), Vegetable Oil Antioxidant (319), Salt, Mineral Salts (508, 451, 501, 500), Vegetable Gum (412).   Flavour Sachet : Salt, Flavour Enhancers (621, 635), Mineral Salt (Potassium Chloride), Flavours Flavour Enhancer (621), Celery,  Soy ,  Wheat , Sugar, Onion, Vegetable Fat Antioxidant (320), Potato Starch, Parsley, Spices (Turmeric, Coriander, Cumin, Chilli, Cardamom, Ginger), Burnt Sugar.       Contains Gluten, Wheat, Soy.        May Contain Crustacean, Fish, Milk, Mustard.",
            "Noodles: Wheat Flour (Gluten), Vegetable Oil (Antioxidant (320)), Salt. Flavour Sachet: Salt, Flavour Enhancers (621, 635), Flavours (Flavour Enhancers (621, 635), Wheat (Gluten), Soy), Sugar, Maltodextrin, Onion Powder, Herbs, Yeast Extract, Colour (Curcumin).",
            "Noodles: Wheat Flour (Gluten), Vegetable Oil (Antioxidant (320)), Salt.Flavour Sachet: Salt, Flavour Enhancers (621, 635), Flavours (Flavour Enhancers (621, 635), Wheat (Gluten), Soy), Maltodextrin, Sugar, Onion Powder, Herbs, Yeast Extract, Colour (Curcumin), Vegetable Oil (Antioxidant (320)).Vegetable Sachet: Dehydrated Vegetables.",
            "Noodles: Wheat Flour, Vegetable Oil (Antioxidant (319)), Modified Starch (1420), Salt, Mineral Salts (501, 500, 451), Vegetable Gum (412).Flavour Sachet: Salt, Flavour Enhancers (621, 627, 631), Flavours (Soy, Wheat), Herbs and Spices, Sugar, Yeast Extract, Colour (100), Vegetable Oil (Antioxidant (319)), Anticaking Agent (551), Antioxidant (307b).Vegetable Sachet: Dehydrated Vegetables.",
            "Noodles : Wheat Flour (62%), Refined Palm Oil (Contains Antioxidant 319), Salt, Acidity Regulators (451, 501, 500), Thickener (412), Colour (101).<br>Seasoning Powder : Salt, Sugar, Flavour Enhancers (621, 631, 627), Garlic Powder, Onion Powder, Yeast Extract, Artificial Flavour, Pepper, Anti Caking Agent (551).<br>Seasoning Oil : Refined Palm Oil (Contains Antioxidant 319), Onion.<br>Sweet Soy Sauce : Sugar, Water, Salt, Wheat, Soy Bean, Spices, Sesame Oil.<br>Chilli Sauce : Chilli, Water, Sugar, Salt, Tapioca Starch, Acidity Regulators (260, 330), Herbs, Flavour Enhancers (621, 627, 631), Flavours, Preservatives 1211, 223). Fried Onion : Onion, Refined Palm Oil (Contains Antioxidant 319).",
            "Ingredients       Noodle Cake :  Australian  Wheat  Flour (70%), Vegetable Oil Antioxidant (319), Salt, Mineral Salts (508, 451, 501, 500), Vegetable Gum (412).      Flavour Sachet: Mineral Salt (Potassium Chloride), Salt, Flavour Enhancers (621, 635), Sugar, Yeast Extract, Flavour, Burnt Sugar, Vegetable Fat Antioxidant (320), Onion,  Soy  Sauce Powder ( Wheat, Soy ), Food Acid (Citric), White Pepper, Rosemary.       Contains Gluten, Wheat, Soy .       May Contain Celery, Crustacean, Fish, Milk, Mustard.",
            "Noodles: Wheat Flour (Gluten), Vegetable Oil (Antioxidant (320)), Salt. Flavour Sachet: Salt, Flavour Enhancers (621, 635), Flavours (Flavour Enhancers (621, 635), Wheat (Gluten), Soy), Colour (150c)), Herbs and Spices, Colours (Caramel, Curcumin, Sugar, Garlic Powder.",
            "Carbonated Mineral Water, Food Acid (Citric Acid), Natural Flavours.",
            "Natural Mineral Water.",
            "Carbonated Water, Mineral Salt (Potassium Bicarbon ate).",
            "Carbonated Water, Sugar, Food Acid (330), Natural Flavours (With Orange Peel Extract, Citrus Oils, Botanical Extracts, Lemon Peel Extract), Quinine.CONTAINS QUININE.",
            "Carbonated Water, Reconstituted Lime Juice (5%), S ugar, Natural Flavour (With Lime Oils), Preservati ves (211, 223 (SULPHITES)), Plant Extracts (Garden ia, Carthamus).CONTAINS SULPHITES.",
            "Carbonated Water, Food Acids (330, 331), Natural Flavours (With Orange Peel Extract, Citrus Oils, Botanical Extracts, Lemon Peel Extract), Sweeteners (951, 950), Quinine.CONTAINS QUININE. CONTAINS PHENYLALANINE.",
            "Carbonated Water (Mineral Water 80%, Purified Wate,r 11%), Reconstituted Juices (Lemon 4.5%, Lime 0.5,%), Sugar, Natural Flavours, Food Acids (Citric Ac,id, Sodium Citrate), Preservatives (211, 202, 223),, Natural Colour (Safflower Extract).",
            "Carbonated Water (Mineral Water 80%, Purified Wate r 11%), Reconstituted Juices (Orange 4%, Mango 1%) , Sugar, Natural Flavours, Food Acids (Citric Acid , Ascorbic Acid), Preservatives (211, 202, 223 (SU LPHITES)), Natural Colours (Carminic Acid, Lutein) , Antioxidant (385).CONTAINS SULPHITES.",
            "Ingredients:           Sugar,  Milk  Solids,  Wheat  Flour, Cocoa Butter^, Vegetable Fat Emulsifier ( Soy  Lecithin), Cocoa Mass^, Choc Paste ( Milk, Wheat, Soy ), Emulsifiers ( Soy  Lecithin, 476),  Cocoa^,  Raising Agent (Sodium Bicarbonate), Salt, Yeast,    Flavour,   Processing Aid (  Wheat  ).          Contains Milk, Wheat, Gluten, Soy.            May Contain Tree Nuts, Other Gluten Containing Ingredients.           Product Contains 67% Milk Chocolate and 33% Wafer Fingers.          Milk Chocolate Contains Minimum 22% Cocoa Solids, 25% Milk Solids.          ^ Rainforest Alliance Certified   Cocoa. Find Out More at Ra.Org.",
            "<p>Sugar,  Milk  Solids,  Wheat  Flour, Cocoa Butter ^, Vegetable Fat Emusifier ( Soy  Lecithin),Cocoa Mass ^, Choc Paste (  Milk ,  Soy,   Wheat ), Emusifiers ( Soy  Lecithin, 476),  Cocoa^, Raising Agent (Sodium Bicarbonate), Salt, Yeast, Flavour.          Contains Milk, Soy and Wheat.           May Contain Tree Nuts.          Product Contains 68% Milk Chocolate and 32% Wafer Fingers.         Milk Chocolate Contains Minimum 22% Cocoa Solids^, 25% Milk Solids. </p>",
            "Full Cream Milk, Sugar, Cocoa Butter, Glucose Syrup, Milk Solids, Cocoa Mass, Sweetened Condensed Milk (Milk, SUgar, Milk Solids), Golden Syrup, Invert Sugar, Vegetable Fat, Emulsifiers (Soy Lecithin, 476), Salt, Acidity Regulator (331), Flavours.",
            "TWIX CONTAINS MILK CHOCOLATE 35%, CARAMEL 32% AND BISCUIT 32%.",
            "Sugar, Glucose Syrup (Sources include Wheat), Milk Solids, Cocoa Mass, Cocoa Butter, Vegetable Oil, Vegetable Fat, Barley Malt Extract, Emulsifier (Soy Lecithin), Salt, Egg White, Natural Flavour (Vanilla Extract).",
            "Full Cream Milk, Sugar, Cocoa Butter, Cocoa Mass, Milk Solids, Emulsifiers (Soy Lecithin, 476), Flavours.",
            "Sugar, Wheat Glucose Syrup, Sweetened Condensed Milk, Vegetable Fat, Wheat Flour, Milk Solids, Cocoa Powder, Salt, Emulsifiers (Soy Lecithin, 492, 471, 476), Vegetable Oil, Flavours, Raising Agent (500), Enzymes, Food Acid (330).",
            "Chocolate Chips (40%) (Sugar, Cocoa Mass, Milk Solids, Vegetable Oil, Emulsifiers (Soy Lecithin, E476), Cocoa Butter, Flavour, Salt), Wheat Flour, Sugar, Vegetable Oil, Desiccated Coconut, Wheat Starch, Salt, Baking Powder, Flavour, Food Colour (Caramel IV), Emulsifier (Soy Lecithin), Antioxidant (E307B from Soy).",
            "Wheat Flour, Sugar, Dark Compound Chocolate Chips (20%) (Sugar, Palm Oil, Cocoa Solids, Emulsifier (Soy Lecithin), Natural Flavour), Vegetable Oil (Palm Oil, Antioxidant (307b)), Wheaten Corn Flour (Wheat), Whole Egg Powder, Whey Powder (Milk), Raising Agents (Sodium Carbonates, Ammonium Carbonates), Natural Flavour, Salt, Natural Colour (Annatto Extracts)",
            "<p>Dark Chocolate Chips (40%) (Sugar, Cocoa Mass, Cocoa Butter, Emulsifier (Lecithin (Soy), Natural Vanilla Flavour), Wheat Flour, Sugar, Vegetable Oil (Palm Oil, Antioxidant (307b)), Butter (Milk), Whey Powder (Milk), Natural Flavours (Vanilla, Butter (Milk), Salt, Raising Agents (Sodium Carbonate, Ammonium Carbonate), Dark Chocolate contains minimum 40% Cocoa Solids.</p>",
            "Wheat Flour, Chocolate Chips (24%) (Sugar, Cocoa Mass, Cocoa Butter, Natural Flavour, Emulsifier (Soy Lecithin)), Sugar, Vegetable Oil, Butter (Contains Milk), Desiccated Coconut, Skim Milk Powder, Baking Powder, Salt, Emulsifier (Soy Lecithin), Natural Flavour, Antioxidant (E307b From Soy).",
            "Chocolate flavoured sandwich cookies with vanilla flavoured creme (28%).Ingredients: Wheat Flour, Sugar, Vegetable Oil, Cocoa Powder, Fructose Syrup, Cornstarch, Salt, Raising Agents (500, 503), Emulsifier (Soy Lecithin), Flavour, Antioxidant (319), Minerals (Iron, Zinc), Vitamins (Riboflavin, Thiamin, Folate).",
            "Mini Oreo Original Wheat Flour, Sugar, Vegetable Oil, Cocoa Powder, Fructose Syrup, Cornstarch, Salt, Raising Agents (500, 503), Emulsifier (Soy Lecithin), Flavour, Antioxidant (319), Minerals (Iron, Zinc), Vitamins (Riboflavin, Thiamin, Folate). Mini Oreo ChocolateWheat Flour, Sugar, Vegetable Oil, Cocoa Powder, Fructose Syrup, Cornstarch, Salt, Raising Agents (500, 503), Emulsifier (Soy Lecithin), Flavour, Antioxidant (319), Minerals (Iron, Zinc), Vitamins (Riboflavin, Thiamin, Folate). Mini Oreo StrawberryWheat Flou, Sugar, Vegetable Oil, Cocoa Powder, Fructose Syrup, Cornstarch, Salt, Raising Agents (500, 503), Emulsifier (Soy Lecithin), Flavours, Food Acid (330), Colour (120), Minerals (Iron, Zinc), Antioxidant (319), Vitamins (Riboflavin, Thiamin, Folate).",
            "Mini Oreo Original Wheat Flour, Sugar, Vegetable Oil, Cocoa Powder, Fructose Syrup, Cornstarch, Salt, Raising Agents (500, 503), Emulsifier (Soy Lecithin), Flavour, Antioxidant (319), Minerals (Iron, Zinc), Vitamins (Riboflavin, Thiamin, Folate). Mini Oreo ChocolateWheat Flour, Sugar, Vegetable Oil, Cocoa Powder, Fructose Syrup, Cornstarch, Salt, Raising Agents (500, 503), Emulsifier (Soy Lecithin), Flavour, Antioxidant (319), Minerals (Iron, Zinc), Vitamins (Riboflavin, Thiamin, Folate). Mini Oreo StrawberryWheat Flou, Sugar, Vegetable Oil, Cocoa Powder, Fructose Syrup, Cornstarch, Salt, Raising Agents (500, 503), Emulsifier (Soy Lecithin), Flavours, Food Acid (330), Colour (120), Minerals (Iron, Zinc), Antioxidant (319), Vitamins (Riboflavin, Thiamin, Folate).",
            "Mini Oreo Original Wheat Flour, Sugar, Vegetable Oil, Cocoa Powder, Fructose Syrup, Cornstarch, Salt, Raising Agents (500, 503), Emulsifier (Soy Lecithin), Flavour, Antioxidant (319), Minerals (Iron, Zinc), Vitamins (Riboflavin, Thiamin, Folate). Mini Oreo ChocolateWheat Flour, Sugar, Vegetable Oil, Cocoa Powder, Fructose Syrup, Cornstarch, Salt, Raising Agents (500, 503), Emulsifier (Soy Lecithin), Flavour, Antioxidant (319), Minerals (Iron, Zinc), Vitamins (Riboflavin, Thiamin, Folate). Mini Oreo StrawberryWheat Flou, Sugar, Vegetable Oil, Cocoa Powder, Fructose Syrup, Cornstarch, Salt, Raising Agents (500, 503), Emulsifier (Soy Lecithin), Flavours, Food Acid (330), Colour (120), Minerals (Iron, Zinc), Antioxidant (319), Vitamins (Riboflavin, Thiamin, Folate).",
            "Mini Oreo Original Wheat Flour, Sugar, Vegetable Oil, Cocoa Powder, Fructose Syrup, Cornstarch, Salt, Raising Agents (500, 503), Emulsifier (Soy Lecithin), Flavour, Antioxidant (319), Minerals (Iron, Zinc), Vitamins (Riboflavin, Thiamin, Folate). Mini Oreo ChocolateWheat Flour, Sugar, Vegetable Oil, Cocoa Powder, Fructose Syrup, Cornstarch, Salt, Raising Agents (500, 503), Emulsifier (Soy Lecithin), Flavour, Antioxidant (319), Minerals (Iron, Zinc), Vitamins (Riboflavin, Thiamin, Folate). Mini Oreo StrawberryWheat Flou, Sugar, Vegetable Oil, Cocoa Powder, Fructose Syrup, Cornstarch, Salt, Raising Agents (500, 503), Emulsifier (Soy Lecithin), Flavours, Food Acid (330), Colour (120), Minerals (Iron, Zinc), Antioxidant (319), Vitamins (Riboflavin, Thiamin, Folate).",
            "Mini Oreo Original Wheat Flour, Sugar, Vegetable Oil, Cocoa Powder, Fructose Syrup, Cornstarch, Salt, Raising Agents (500, 503), Emulsifier (Soy Lecithin), Flavour, Antioxidant (319), Minerals (Iron, Zinc), Vitamins (Riboflavin, Thiamin, Folate). Mini Oreo ChocolateWheat Flour, Sugar, Vegetable Oil, Cocoa Powder, Fructose Syrup, Cornstarch, Salt, Raising Agents (500, 503), Emulsifier (Soy Lecithin), Flavour, Antioxidant (319), Minerals (Iron, Zinc), Vitamins (Riboflavin, Thiamin, Folate). Mini Oreo StrawberryWheat Flou, Sugar, Vegetable Oil, Cocoa Powder, Fructose Syrup, Cornstarch, Salt, Raising Agents (500, 503), Emulsifier (Soy Lecithin), Flavours, Food Acid (330), Colour (120), Minerals (Iron, Zinc), Antioxidant (319), Vitamins (Riboflavin, Thiamin, Folate).",
            "Wheat Flour, Milk Chocolate Chips (19%), (Sugar, Milk Solids, Cocoa Butter, Cocoa Mass, Vegetable Fat, Dextrose, Emulsifier (442), Flavour), Sugar, Egg, Vegetable Oil, Glucose Syrup, Milk Solids, Cocoa Butter, Stabiliser (422), Soybean Fibre, Thickener (1422), Potato Starch, Salt, Raising Agents (450, 500, 503), Flavour (Contains Milk), Colour (160a).",
            "Wheat Flour, Choc Centre Filling (25%) (Sugar, Vegetable Oil, Milk Solids, Cocoa Mass, Thickener (1414), Cocoa Powder, Emulsifier (Soy Lecithin), Flavour), Milk Chocolate Chips (15%) (Sugar, Milk Solids, Cocoa Butter, Cocoa Mass, Vegetable Oil, Dextrose, Emulsifier (442), Flavour), Sugar, Vegetable Oil (Contains Antioxidant (330)), Milk Solids, Wheat Starch, Raising Agents (500, 503, 450), Salt, Flavours (Contain Milk), Colour (160a), Soybean Fibre.",
            "wheat flour, milk compound chocolate (27%) (sugar, vegetable fat [soy lecithin, 492], milk solids, cocoa powder, emulsifiers [soy lecithin, 476], flavour, salt), butter, sugar, confectionary (8%) (milk compound chocolate [sugar, vegetable oil, milk solids, cocoa powder, emulsifiers (soy lecithin, 476, 492), flavour], sugar, corn starch, glazing agents (414, 903), natural colours [titan white, spirulina extract, beta carotene, red beetroot powder, black Ycarrot extract]), egg, cultured dextrose, raising agent (500, 450), maize starch, soy lecithin, salt, natural vanilla flavour.",
            "Chocolate flavoured sandwich cookies with vanilla flavoured creme (29%)Wheat Flour, Sugar, Vegetable Oil, Cocoa Powder, Fructose Syrup, Cornstarch, Salt, Raising Agents (500, 503), Emulsifier (Soy Lecithin), Flavour, Antioxidant (319), Minerals (Iron, Zinc), Vitamins (Riboflavin, Thiamin, Folate)",
            "Chocolate flavoured sandwich cookies with vanilla flavoured creme (29%)Wheat Flour, Sugar, Vegetable Oil, Cocoa Powder, Fructose Syrup, Cornstarch, Salt, Raising Agents (500, 503), Emulsifier (Soy Lecithin), Flavour, Antioxidant (319), Minerals (Iron, Zinc), Vitamins (Riboflavin, Thiamin, Folate)",
            "Chocolate flavoured sandwich cookies with vanilla flavoured creme (29%)Wheat Flour, Sugar, Vegetable Oil, Cocoa Powder, Fructose Syrup, Cornstarch, Salt, Raising Agents (500, 503), Emulsifier (Soy Lecithin), Flavour, Antioxidant (319), Minerals (Iron, Zinc), Vitamins (Riboflavin, Thiamin, Folate)",
            "Chocolate flavoured sandwich cookies with vanilla flavoured creme (29%)Wheat Flour, Sugar, Vegetable Oil, Cocoa Powder, Fructose Syrup, Cornstarch, Salt, Raising Agents (500, 503), Emulsifier (Soy Lecithin), Flavour, Antioxidant (319), Minerals (Iron, Zinc), Vitamins (Riboflavin, Thiamin, Folate)",
            "Chocolate flavoured sandwich cookies with vanilla flavoured creme (29%)Wheat Flour, Sugar, Vegetable Oil, Cocoa Powder, Fructose Syrup, Cornstarch, Salt, Raising Agents (500, 503), Emulsifier (Soy Lecithin), Flavour, Antioxidant (319), Minerals (Iron, Zinc), Vitamins (Riboflavin, Thiamin, Folate)",
            "Chocolate flavoured sandwich cookies with vanilla flavoured creme (29%)Wheat Flour, Sugar, Vegetable Oil, Cocoa Powder, Fructose Syrup, Cornstarch, Salt, Raising Agents (500, 503), Emulsifier (Soy Lecithin), Flavour, Antioxidant (319), Minerals (Iron, Zinc), Vitamins (Riboflavin, Thiamin, Folate)",
            "Chocolate flavoured sandwich cookies with vanilla flavoured creme (29%)Wheat Flour, Sugar, Vegetable Oil, Cocoa Powder, Fructose Syrup, Cornstarch, Salt, Raising Agents (500, 503), Emulsifier (Soy Lecithin), Flavour, Antioxidant (319), Minerals (Iron, Zinc), Vitamins (Riboflavin, Thiamin, Folate)",
            "Chocolate flavoured sandwich cookies with vanilla flavoured creme (29%)Wheat Flour, Sugar, Vegetable Oil, Cocoa Powder, Fructose Syrup, Cornstarch, Salt, Raising Agents (500, 503), Emulsifier (Soy Lecithin), Flavour, Antioxidant (319), Minerals (Iron, Zinc), Vitamins (Riboflavin, Thiamin, Folate)",
            "Chocolate flavoured sandwich cookies with vanilla flavoured creme (29%)Wheat Flour, Sugar, Vegetable Oil, Cocoa Powder, Fructose Syrup, Cornstarch, Salt, Raising Agents (500, 503), Emulsifier (Soy Lecithin), Flavour, Antioxidant (319), Minerals (Iron, Zinc), Vitamins (Riboflavin, Thiamin, Folate)",
            "Isododecane, Polyethylene, Synthetic Wax, EthylenePropylene Copolymer, Bis-Diglyceryl Polyacyladipate-2, Hydrogenated Polycyclopentadiene, Polybutene, Silica, Octyldodecanol, Pentaerythrityl Tetra-di-t-butyl Hydroxyhydrocinnamate, May ContainPeut Contenir+-:Mica , Ultramarines (CI 77007), Iron Oxides (CI 77491, CI 77492, CI 77499), Titanium Dioxide (CI 77891), Ferric Ferrocyanide (CI 77510), Aluminum Powder (CI 77000), Carmine (CI 75470).",
            "Reconstituted Apple Juice (99.7%), Acidity Regulator (Citric Acid), Natural Flavour, Vitamin C.",
            "Reconstituted Fruit Juices (Apple (95.8%), Mango (4.0%)), Acidity Regulator (Citric Acid), Vitamin C, Natural Flavour.",
            "Reconstituted Fruit Juices (Apple (95.8%), Mango (4.0%)), Acidity Regulator (Citric Acid), Vitamin C, Natural Flavour.",
            "Reconstituted Fruit Juices (Apple (95.8%), Mango (4.0%)), Acidity Regulator (Citric Acid), Vitamin C, Natural Flavour.",
            "Reconstituted Fruit Juices (Apple (95.8%), Mango (4.0%)), Acidity Regulator (Citric Acid), Vitamin C, Natural Flavour.",
            "Reconstituted Fruit Juices (Apple (95.8%), Mango (4.0%)), Acidity Regulator (Citric Acid), Vitamin C, Natural Flavour.",
            "Reconstituted Fruit Juices (Apple (95.8%), Mango (4.0%)), Acidity Regulator (Citric Acid), Vitamin C, Natural Flavour.",
            "Reconstituted Fruit Juices (Apple (95.8%), Mango (4.0%)), Acidity Regulator (Citric Acid), Vitamin C, Natural Flavour.",
            "Reconstituted Orange Juice (99.8%), Natural Flavour, Vitamin C, Acidity Regulator (Citric Acid).",
            "Reconstituted Fruit Juices [Apple (83.2%), Orange (15%), Mango (0.5%), Pineapple (0.5%), Passionfruit (0.5%)], Natural Flavours, Acidity Regulator (Citric Acid), Vitamin C, Thickener (466)",
            "Reconstituted Fruit Juices [Apple (94.8%), Blackcurrant (4.9%)], Acidity Regulator (Citric Acid), Natural Flavour, Vitamin C, Natural Colour (163).",
            "Reconstituted Fruit Juices [Apple (77.3%), Orange (10%), Grape (4%), Apricot (4%), Peach (2%), Pear (0.5%), Lemon (0.5%), Mango (0.5%), Passionfruit (0.5%)], Reconstituted Guava Puree (0.5%), Vitamins (C, A & Folate), Natural Flavours, Acidity Regulator (Citric Acid).",
            "Water, Reconstituted Fruit Juice Pear or Apple (15%), Pineapple (9%), Passionfruit (1%), Sugar, Food Acids (Citric Acid, Potassium Citrate), Vitamin C, Natural Flavours.",
            "Water, Reconstituted Fruit Juice Pear or Apple (15%), Pineapple (9%), Passionfruit (1%), Sugar, Food Acids (Citric Acid, Potassium Citrate), Vitamin C, Natural Flavours.",
            "Water, Reconstituted Fruit Juice Pear or Apple (15%), Pineapple (9%), Passionfruit (1%), Sugar, Food Acids (Citric Acid, Potassium Citrate), Vitamin C, Natural Flavours.",
            "Water, Reconstituted Fruit Juice Pear or Apple (15%), Pineapple (9%), Passionfruit (1%), Sugar, Food Acids (Citric Acid, Potassium Citrate), Vitamin C, Natural Flavours.",
            "Water, Reconstituted Fruit Juice Pear or Apple (15%), Pineapple (9%), Passionfruit (1%), Sugar, Food Acids (Citric Acid, Potassium Citrate), Vitamin C, Natural Flavours.",
            "Water, Reconstituted Fruit Juice Pineapple (17%), Orange (8%), Sugar, Food Acid (Citric Acid), Vitamin C, Natural Flavour, Stabiliser (Pectin).",
            "Water, Reconstituted Fruit Juice (25%) (Apple or Pear, Pineapple, Orange or Water Extracted Orange, Peach Purée, Passionfruit), Sugar, Food Acids (Citric Acid, Potassium Citrate), Vitamin C, Natural Flavours, Stabiliser (Pectin).",
            "Water, Reconstituted Fruit Juice (25%) (Apple or Pear, Pineapple, Orange or Water Extracted Orange, Peach Purée, Passionfruit), Sugar, Food Acids (Citric Acid, Potassium Citrate), Vitamin C, Natural Flavours, Stabiliser (Pectin).",
            "Water, Reconstituted Fruit Juice (25%) (Apple or Pear, Pineapple, Orange or Water Extracted Orange, Peach Purée, Passionfruit), Sugar, Food Acids (Citric Acid, Potassium Citrate), Vitamin C, Natural Flavours, Stabiliser (Pectin).",
            "Water, Reconstituted Fruit Juice (25%) (Apple or Pear, Pineapple, Orange or Water Extracted Orange, Peach Purée, Passionfruit), Sugar, Food Acids (Citric Acid, Potassium Citrate), Vitamin C, Natural Flavours, Stabiliser (Pectin).",
            "Water, Reconstituted Fruit Juice (25%) (Apple or Pear, Pineapple, Orange or Water Extracted Orange, Peach Purée, Passionfruit), Sugar, Food Acids (Citric Acid, Potassium Citrate), Vitamin C, Natural Flavours, Stabiliser (Pectin).",
            "Water, Reconstituted Fruit Juice (25%) Pear or Apple, Pineapple, Orange, Peach Pure, Passionfruit, Sugar, Food Acids (Citric Acid, Potassium Citrate), Vitamin C, Natural Flavours.",
            "Water, Reconstituted Fruit Juice (25%) Pear or Apple, Pineapple, Orange, Peach Pure, Passionfruit, Sugar, Food Acids (Citric Acid, Potassium Citrate), Vitamin C, Natural Flavours.",
            "Water, Reconstituted Fruit Juice (25%) Pear or Apple, Pineapple, Orange, Peach Pure, Passionfruit, Sugar, Food Acids (Citric Acid, Potassium Citrate), Vitamin C, Natural Flavours.",
            "Water, Reconstituted Fruit Juice (25%) Pear or Apple, Pineapple, Orange, Peach Pure, Passionfruit, Sugar, Food Acids (Citric Acid, Potassium Citrate), Vitamin C, Natural Flavours.",
            "Water, Reconstituted Fruit Juice (25%) Pear or Apple, Pineapple, Orange, Peach Pure, Passionfruit, Sugar, Food Acids (Citric Acid, Potassium Citrate), Vitamin C, Natural Flavours.",
            "Water, Reconstituted Fruit Juice (25%) Pear or Apple, Pineapple, Orange, Peach Pure, Passionfruit, Sugar, Food Acids (Citric Acid, Potassium Citrate), Vitamin C, Natural Flavours.",
            "Water, Reconstituted Fruit Juice (25%) Pear or Apple, Pineapple, Orange, Peach Pure, Passionfruit, Sugar, Food Acids (Citric Acid, Potassium Citrate), Vitamin C, Natural Flavours.",
            "Pasteurised and Homogenised Full Cream Milk",
            "Milk.",
            "Pasteurised homogenised Milk",
            "Milk",
            "Full cream milk, cream (from milk)",
            "Chocolate flavoured sandwich cookies with vanilla flavoured creme (44%)Sugar, Wheat Flour, Vegetable Oil, Cocoa Powder, Fructose Syrup, Cornstarch, Raising Agents (500, 503), Salt, Emulsifier (Soy Lecithin), Flavour, Antioxidant (319), Minerals (Iron, Zinc), Vitamins (Riboflavin, Thiamin, Folate)",
            "Wheat Flour, Sugar, Vegetable Oil, Cocoa Powder, Fructose Syrup, Cornstarch, Salt, Raising Agents (500, 503), Emulsifier (Soy Lecithin), Flavour, Antioxidant (319), Minerals (Iron, Zinc), Vitamins (Riboflavin, Thiamin, Folate).",
            "Chocolate flavoured sandwich cookies with chocolate flavoured creme (29%)Wheat Flour, Sugar, Vegetable Oil, Cocoa Powder, Fructose Syrup, Cornstarch, Salt, Raising Agents (500, 503), Emulsifier (Soy Lecithin), Flavour, Antioxidant (319), Minerals (Iron, Zinc), Vitamins (Riboflavin, Thiamin, Folate)",
            "Wheat Flour, Sugar, Vegetable Oil, Cocoa Powder, Fructose, Syrup, Cornstarch, Salt, Raising Agents (500, 503), Emulsifier (Soy Lecithin), Flavour, Antioxidant (319), Minerals (Iron, Zinc), Vitamins (Riboflavin, Thiamin, Folate).",
            "Sugar, Wheat Flour, Vegetable Oil, Cornstarch, Cocoa Powder, Maltodextrin, Fructose Syrup, Iodised Salt, Emulsifier (Soy Lecithin), Raising Agents (500, 503), Flavours, Food Acid (330), Colour (120), Antioxidant (319), Minerals (Iron, Zinc), Vitamins (Riboflavin, Thiamin, Folate).",
            "Tomato (60%), Tomato Juice, Acidity Regulator (Citric Acid)",
            "Durum Wheat Semolina.",
            "Coconut Extract (76%), Water, Thickener (Guar Gum)",
            "Ultra Heat Treated Homogenised Full Cream Milk.",
            "Sardines (Fish) (67%), Vegetable Oil (14%), Water, Salt",
            "Rice (44%), Milk, Skim Milk, Sugar, Salt, Acidity Regulator (339), Natural Vanilla Flavour",
            "Coconut Extract (50%), Water, Thickener (Guar Gum)",
            "Reconstituted Tomato Puree (78%), Sugar, Thickener (Modified Corn Starch), Salt, Acidity Regulators (Acetic Acid, Citric Acid), Natural Flavour, Spice Extract",
            "Reconstituted Fruit Puree, Apple Pulp, Tomato Paste, Sugar, Thickener (Modified Corn Starch), Salt, Acidity Regulators (Acetic Acid, Citric Acid), Molasses, Natural Colour (Caramel I), Smoke Flavour, Spices, Natural Flavour, Vegetable Gum (Xanthan Gum)",
            "Tomatoes (from Paste, Food Acid (Citric))77% , Sugar, Salt, Food Acid (Acetic), Onion, Spice Extract.",
            "Tomatoes (from Paste, Food Acid (Citric)) 45%, Sugar, Water, Cornflour (from Wheat), Food Acids (Acetic, Citric), Salt, Glucose Syrup, Colour (Caramel (150c)), Thickener (Pectin), Tamarind Paste, Yeast Extract, Clove, Nutmeg, Onion 0.5%, Pepper.",
            "Tomato Puree (78%), Sugar, Salt, Food Acid (260), Natural Flavour.",
            "Tomatoes, Sugar, Maize Thickener (1422), Salt, Food Acid (260), Maize Maltodextrin, Molasses, Colour (150d), Natural Flavours, Spices, Stabiliser (415).<br><br><b>May Contain: Soy.</b>",
            "Canola Oil, Water, Sugar, Vinegar, Thickener (1422, Xanthan Gum), Free Range Egg Yolk,  Gherkin, Salt, Onion Powder, Natural Colour (Carotene, Paprika Oleoresins), Preservative (Potassium Sorbate), Dill, Acidity Regulator (Citric Acid), Herb Extract, Mustard Oil.",
            "Canola Oil, Water, Sugar, Vinegar, Thickener (1422, Xanthan Gum), Free Range Egg Yolk,  Gherkin, Salt, Onion Powder, Natural Colour (Carotene, Paprika Oleoresins), Preservative (Potassium Sorbate), Dill, Acidity Regulator (Citric Acid), Herb Extract, Mustard Oil.",
            "Canola Oil, Water, Sugar, Vinegar, Thickener (1422, Xanthan Gum), Free Range Egg Yolk,  Gherkin, Salt, Onion Powder, Natural Colour (Carotene, Paprika Oleoresins), Preservative (Potassium Sorbate), Dill, Acidity Regulator (Citric Acid), Herb Extract, Mustard Oil.",
            "Canola Oil, Water, Sugar, Vinegar, Thickener (1422, Xanthan Gum), Free Range Egg Yolk,  Gherkin, Salt, Onion Powder, Natural Colour (Carotene, Paprika Oleoresins), Preservative (Potassium Sorbate), Dill, Acidity Regulator (Citric Acid), Herb Extract, Mustard Oil.",
            "Concentrated Tomatoes (Contains 146g of Tomatoes per 100mL), Sugar, Salt, Concentrated White Vinegar, Natural Flavours, Food Acid (Citric Acid). Contains 77% Concentrated Tomatoes.",
            "Reconstituted Fruit Puree (51%) (Apple Pulp, Tomato Paste), Sugar, Thickener (Modified Corn Starch), Salt, Acidity Regulators (Acetic Acid, Citric Acid), Molasses, Natural Colour (Caramel I), Smoke Flavour, Spices, Natural Flavour, Vegetable Gum (Xanthan Gum)",
            "100% Natural Spring Water",
            "Australian Spring Water",
            "Potatoes (64%), Canola Oil, Sunflower Oil, Salt, A,ntioxidants (Tocopherols, Ascorbic Acid, Rosemary,Extract, Citric Acid).",
            "Potatoes (61%), Canola Oil, Sunflower Oil, Whey Po,wder (Milk), Cheese Powder (Milk), Salt, Onion Pow,der, Dextrose, Maltodextrin, Mineral Salt (Potassi,um Chloride), Flavour Enhancer (621), Natural Flav,ours (Milk), Yeast Extract, Food Acids (Citric Aci,",
            "Potatoes, Canola Oil, Sunflower Oil, Sugar, Maltod,extrin, Salt, Tomato Powder, Flavour Enhancers (62,1, 635), Food Acids (Sodium Diacetate, Citric Acid,), Flavours, Mineral Salt (Potassium Chloride), On,ion Powder, Garlic Powder, Natural Colour (Paprika,",
            "Potatoes, Canola Oil, Sunflower Oil, Sugar, Maltod,extrin, Salt, Tomato Powder, Flavour Enhancers (62,1, 635), Food Acids (Sodium Diacetate, Citric Acid,), Flavours, Mineral Salt (Potassium Chloride), On,ion Powder, Garlic Powder, Natural Colour (Paprika,",
            "Potatoes, Canola Oil, Sunflower Oil, Sugar, Maltod,extrin, Salt, Tomato Powder, Flavour Enhancers (62,1, 635), Food Acids (Sodium Diacetate, Citric Acid,), Flavours, Mineral Salt (Potassium Chloride), On,ion Powder, Garlic Powder, Natural Colour (Paprika,",
            "Potatoes, Canola Oil, Sunflower Oil, Sugar, Maltod,extrin, Salt, Tomato Powder, Flavour Enhancers (62,1, 635), Food Acids (Sodium Diacetate, Citric Acid,), Flavours, Mineral Salt (Potassium Chloride), On,ion Powder, Garlic Powder, Natural Colour (Paprika,",
            "Potatoes, Canola Oil, Sunflower Oil, Sugar, Maltod,extrin, Salt, Tomato Powder, Flavour Enhancers (62,1, 635), Food Acids (Sodium Diacetate, Citric Acid,), Flavours, Mineral Salt (Potassium Chloride), On,ion Powder, Garlic Powder, Natural Colour (Paprika,",
            "Potatoes (61%), Canola Oil, Sunflower Oil, Maltode,xtrin, Sugar, Salt, Flavour Enhancers (621, 635, 6,20), Flavours (Milk), Mineral Salt (Potassium Chlo,ride), Onion Powder, Yeast Extract, Herb (Parsley),, Spice (Turmeric), Antioxidants (Tocopherols, ASCORBIC ACID, ROSEMARY EXTRACT, CITRIC ACID)",
            "Potatoes, Vegetable Oil, Food Acids (Sodium Diacetate, Acetic Acid), Salt, Mineral Salt (Potassium Chloride), Flavour Enhancer (621), Natural Flavour.",
            "Potatoes (64%), Canola Oil, Sunflower Oil, Salt, Antioxidants (Tocopherols, Ascorbic Acid, Rosemary Extract, Citric Acid).",
            "Potatoes (64%), Canola Oil, Sunflower Oil, Salt, Antioxidants (Tocopherols, Ascorbic Acid, Rosemary Extract, Citric Acid).",
            "Potatoes (64%), Canola Oil, Sunflower Oil, Salt, Antioxidants (Tocopherols, Ascorbic Acid, Rosemary Extract, Citric Acid).",
            "Potatoes (64%), Canola Oil, Sunflower Oil, Salt, Antioxidants (Tocopherols, Ascorbic Acid, Rosemary Extract, Citric Acid).",
            "Potatoes (64%), Canola Oil, Sunflower Oil, Salt, Antioxidants (Tocopherols, Ascorbic Acid, Rosemary Extract, Citric Acid).",
            "Potatoes, Vegetable Oil, Glucose, Salt, Sugar, Vegetable Powder (Onion, Garlic), Flavour Enhancer (621, 635), Mineral Salt (Potassium Chloride), Parsley, Flavours, Food Acid (Citric Acid), Pepper.",
            "Potatoes (61%), Canola Oil, Sunflower Oil, Food Acids (Sodium Diacetate, Citric Acid), Lactose (Milk), Salt, Mineral Salt (Potassium Chloride), Sugar, Flavour Enhancer (621), Dextrose, Natural Flavours, Antioxidants (Tocopherols, Ascorbic Acid, Rosemary Extract).",
            "Potatoes, Vegetable Oil, Sugar, Salt, Whey Powder (<b>Milk</b>), Vegetable Powders (Onion, Tomato), Flavour, Spices and Herb, Buttermilk Powder (<b>Milk</b>), Flavour Enhancer (635).",
            "Jelly (70%) (Water, Sugar, Gelling Agents (Carrageenan, Locust Bean Gum, Xanthan Gum), Acidity Regulators (Sodium Citrate, Potassium Citrate, Calcium Lactate, Malic Acid, Citric Acid), Natural Strawberry Flavour, Natural Colour (Cochineal), Antioxidant (Ascorbic Acid)), Peach (30%)",
            "Fruits (55%) (Peach, Pear), Reconstituted Refined Juice (Water, Concentrated Pear Juice, Antioxidant (Ascorbic Acid), Acidity Regulator (Citric Acid))",
            "Fruits (55%) (Peach, Pear), Reconstituted Refined Juice (Water, Concentrated Pear Juice, Antioxidant (Ascorbic Acid), Acidity Regulator (Citric Acid))",
            "Fruits (55%) (Peach, Pear), Reconstituted Refined Juice (Water, Concentrated Pear Juice, Antioxidant (Ascorbic Acid), Acidity Regulator (Citric Acid))",
            "Fruits (55%) (Peach, Pear), Reconstituted Refined Juice (Water, Concentrated Pear Juice, Antioxidant (Ascorbic Acid), Acidity Regulator (Citric Acid))",
            "Fruits (55%) (Peach, Pear), Reconstituted Refined Juice (Water, Concentrated Pear Juice, Antioxidant (Ascorbic Acid), Acidity Regulator (Citric Acid))",
            "Fruits (55%) (Peach, Pear), Reconstituted Refined Juice (Water, Concentrated Pear Juice, Antioxidant (Ascorbic Acid), Acidity Regulator (Citric Acid))",
            "Two Fruits (59% min.) (Pear, Peach), Refined Fruit Juice (Apple, Grape, Peach, Pear), Antioxidant (Ascorbic Acid), Acidity Regulator (Citric Acid)",
            "Jelly (70%) (Water, Sugar, Gelling Agents (Carrageenan, Locust Bean Gum, Xanthan Gum), Acidity Regulators (Sodium Citrates, Potassium Citrates, Calcium Lactate, Malic Acid, Citric Acid), Natural Flavours (Pineapple, Mango), Natural Colours (Carotene, Paprika Oleoresins), Antioxidant (Ascorbic Acid)), Peach (15%), Pear (15%)",
            "Jelly (70%) (Water, Sugar, Gelling Agents (Carrageenan, Locust Bean Gum, Xanthan Gum), Acidity Regulators (Sodium Citrates, Potassium Citrates, Calcium Lactate, Malic Acid, Citric Acid), Natural Flavours (Pineapple, Mango), Natural Colours (Carotene, Paprika Oleoresins), Antioxidant (Ascorbic Acid)), Peach (15%), Pear (15%)",
            "Jelly (70%) (Water, Sugar, Gelling Agents (Carrageenan, Locust Bean Gum, Xanthan Gum), Acidity Regulators (Sodium Citrates, Potassium Citrates, Calcium Lactate, Malic Acid, Citric Acid), Natural Flavours (Pineapple, Mango), Natural Colours (Carotene, Paprika Oleoresins), Antioxidant (Ascorbic Acid)), Peach (15%), Pear (15%)",
            "Jelly (70%) (Water, Sugar, Gelling Agents (Carrageenan, Locust Bean Gum, Xanthan Gum), Acidity Regulators (Sodium Citrates, Potassium Citrates, Calcium Lactate, Malic Acid, Citric Acid), Natural Flavours (Pineapple, Mango), Natural Colours (Carotene, Paprika Oleoresins), Antioxidant (Ascorbic Acid)), Peach (15%), Pear (15%)",
            "Jelly (70%) (Water, Sugar, Gelling Agents (Carrageenan, Locust Bean Gum, Xanthan Gum), Acidity Regulators (Sodium Citrates, Potassium Citrates, Calcium Lactate, Malic Acid, Citric Acid), Natural Flavours (Pineapple, Mango), Natural Colours (Carotene, Paprika Oleoresins), Antioxidant (Ascorbic Acid)), Peach (15%), Pear (15%)",
            "Jelly (70%) (Water, Sugar, Gelling Agents (Carrageenan, Locust Bean Gum, Xanthan Gum), Acidity Regulators (Sodium Citrate, Potassium Citrate, Calcium Lactate, Malic Acid, Citric Acid), Natural Pineapple Flavour, Natural Colour (Carotene), Antioxidant (Ascorbic Acid)), Apple (30%)",
            "Australian Grown Two Fruits (62%)Diced Pears & Peaches, Refined Fruit Juice, Antioxidant (Ascorbic Acid).",
            "Pineapple (72%), Water, Sugar, Acidity Regulator (Citric Acid).",
            "Pineapple (73%), Pineapple Juice, Water, Clarified Pineapple Juice Concentrate.",
            "Two Fruits (62%)Australian Grown Diced Pears and Peaches, Refined Fruit Juice, Antioxidant (Ascorbic Acid)."
           ]
          ]
         },
         "header": {
          "align": "left",
          "fill": {
           "color": "paleturquoise"
          },
          "values": [
           "Manufacturingprocess",
           "Recipe"
          ]
         },
         "type": "table"
        }
       ],
       "layout": {
        "template": {
         "data": {
          "bar": [
           {
            "error_x": {
             "color": "#2a3f5f"
            },
            "error_y": {
             "color": "#2a3f5f"
            },
            "marker": {
             "line": {
              "color": "#E5ECF6",
              "width": 0.5
             },
             "pattern": {
              "fillmode": "overlay",
              "size": 10,
              "solidity": 0.2
             }
            },
            "type": "bar"
           }
          ],
          "barpolar": [
           {
            "marker": {
             "line": {
              "color": "#E5ECF6",
              "width": 0.5
             },
             "pattern": {
              "fillmode": "overlay",
              "size": 10,
              "solidity": 0.2
             }
            },
            "type": "barpolar"
           }
          ],
          "carpet": [
           {
            "aaxis": {
             "endlinecolor": "#2a3f5f",
             "gridcolor": "white",
             "linecolor": "white",
             "minorgridcolor": "white",
             "startlinecolor": "#2a3f5f"
            },
            "baxis": {
             "endlinecolor": "#2a3f5f",
             "gridcolor": "white",
             "linecolor": "white",
             "minorgridcolor": "white",
             "startlinecolor": "#2a3f5f"
            },
            "type": "carpet"
           }
          ],
          "choropleth": [
           {
            "colorbar": {
             "outlinewidth": 0,
             "ticks": ""
            },
            "type": "choropleth"
           }
          ],
          "contour": [
           {
            "colorbar": {
             "outlinewidth": 0,
             "ticks": ""
            },
            "colorscale": [
             [
              0,
              "#0d0887"
             ],
             [
              0.1111111111111111,
              "#46039f"
             ],
             [
              0.2222222222222222,
              "#7201a8"
             ],
             [
              0.3333333333333333,
              "#9c179e"
             ],
             [
              0.4444444444444444,
              "#bd3786"
             ],
             [
              0.5555555555555556,
              "#d8576b"
             ],
             [
              0.6666666666666666,
              "#ed7953"
             ],
             [
              0.7777777777777778,
              "#fb9f3a"
             ],
             [
              0.8888888888888888,
              "#fdca26"
             ],
             [
              1,
              "#f0f921"
             ]
            ],
            "type": "contour"
           }
          ],
          "contourcarpet": [
           {
            "colorbar": {
             "outlinewidth": 0,
             "ticks": ""
            },
            "type": "contourcarpet"
           }
          ],
          "heatmap": [
           {
            "colorbar": {
             "outlinewidth": 0,
             "ticks": ""
            },
            "colorscale": [
             [
              0,
              "#0d0887"
             ],
             [
              0.1111111111111111,
              "#46039f"
             ],
             [
              0.2222222222222222,
              "#7201a8"
             ],
             [
              0.3333333333333333,
              "#9c179e"
             ],
             [
              0.4444444444444444,
              "#bd3786"
             ],
             [
              0.5555555555555556,
              "#d8576b"
             ],
             [
              0.6666666666666666,
              "#ed7953"
             ],
             [
              0.7777777777777778,
              "#fb9f3a"
             ],
             [
              0.8888888888888888,
              "#fdca26"
             ],
             [
              1,
              "#f0f921"
             ]
            ],
            "type": "heatmap"
           }
          ],
          "heatmapgl": [
           {
            "colorbar": {
             "outlinewidth": 0,
             "ticks": ""
            },
            "colorscale": [
             [
              0,
              "#0d0887"
             ],
             [
              0.1111111111111111,
              "#46039f"
             ],
             [
              0.2222222222222222,
              "#7201a8"
             ],
             [
              0.3333333333333333,
              "#9c179e"
             ],
             [
              0.4444444444444444,
              "#bd3786"
             ],
             [
              0.5555555555555556,
              "#d8576b"
             ],
             [
              0.6666666666666666,
              "#ed7953"
             ],
             [
              0.7777777777777778,
              "#fb9f3a"
             ],
             [
              0.8888888888888888,
              "#fdca26"
             ],
             [
              1,
              "#f0f921"
             ]
            ],
            "type": "heatmapgl"
           }
          ],
          "histogram": [
           {
            "marker": {
             "pattern": {
              "fillmode": "overlay",
              "size": 10,
              "solidity": 0.2
             }
            },
            "type": "histogram"
           }
          ],
          "histogram2d": [
           {
            "colorbar": {
             "outlinewidth": 0,
             "ticks": ""
            },
            "colorscale": [
             [
              0,
              "#0d0887"
             ],
             [
              0.1111111111111111,
              "#46039f"
             ],
             [
              0.2222222222222222,
              "#7201a8"
             ],
             [
              0.3333333333333333,
              "#9c179e"
             ],
             [
              0.4444444444444444,
              "#bd3786"
             ],
             [
              0.5555555555555556,
              "#d8576b"
             ],
             [
              0.6666666666666666,
              "#ed7953"
             ],
             [
              0.7777777777777778,
              "#fb9f3a"
             ],
             [
              0.8888888888888888,
              "#fdca26"
             ],
             [
              1,
              "#f0f921"
             ]
            ],
            "type": "histogram2d"
           }
          ],
          "histogram2dcontour": [
           {
            "colorbar": {
             "outlinewidth": 0,
             "ticks": ""
            },
            "colorscale": [
             [
              0,
              "#0d0887"
             ],
             [
              0.1111111111111111,
              "#46039f"
             ],
             [
              0.2222222222222222,
              "#7201a8"
             ],
             [
              0.3333333333333333,
              "#9c179e"
             ],
             [
              0.4444444444444444,
              "#bd3786"
             ],
             [
              0.5555555555555556,
              "#d8576b"
             ],
             [
              0.6666666666666666,
              "#ed7953"
             ],
             [
              0.7777777777777778,
              "#fb9f3a"
             ],
             [
              0.8888888888888888,
              "#fdca26"
             ],
             [
              1,
              "#f0f921"
             ]
            ],
            "type": "histogram2dcontour"
           }
          ],
          "mesh3d": [
           {
            "colorbar": {
             "outlinewidth": 0,
             "ticks": ""
            },
            "type": "mesh3d"
           }
          ],
          "parcoords": [
           {
            "line": {
             "colorbar": {
              "outlinewidth": 0,
              "ticks": ""
             }
            },
            "type": "parcoords"
           }
          ],
          "pie": [
           {
            "automargin": true,
            "type": "pie"
           }
          ],
          "scatter": [
           {
            "fillpattern": {
             "fillmode": "overlay",
             "size": 10,
             "solidity": 0.2
            },
            "type": "scatter"
           }
          ],
          "scatter3d": [
           {
            "line": {
             "colorbar": {
              "outlinewidth": 0,
              "ticks": ""
             }
            },
            "marker": {
             "colorbar": {
              "outlinewidth": 0,
              "ticks": ""
             }
            },
            "type": "scatter3d"
           }
          ],
          "scattercarpet": [
           {
            "marker": {
             "colorbar": {
              "outlinewidth": 0,
              "ticks": ""
             }
            },
            "type": "scattercarpet"
           }
          ],
          "scattergeo": [
           {
            "marker": {
             "colorbar": {
              "outlinewidth": 0,
              "ticks": ""
             }
            },
            "type": "scattergeo"
           }
          ],
          "scattergl": [
           {
            "marker": {
             "colorbar": {
              "outlinewidth": 0,
              "ticks": ""
             }
            },
            "type": "scattergl"
           }
          ],
          "scattermapbox": [
           {
            "marker": {
             "colorbar": {
              "outlinewidth": 0,
              "ticks": ""
             }
            },
            "type": "scattermapbox"
           }
          ],
          "scatterpolar": [
           {
            "marker": {
             "colorbar": {
              "outlinewidth": 0,
              "ticks": ""
             }
            },
            "type": "scatterpolar"
           }
          ],
          "scatterpolargl": [
           {
            "marker": {
             "colorbar": {
              "outlinewidth": 0,
              "ticks": ""
             }
            },
            "type": "scatterpolargl"
           }
          ],
          "scatterternary": [
           {
            "marker": {
             "colorbar": {
              "outlinewidth": 0,
              "ticks": ""
             }
            },
            "type": "scatterternary"
           }
          ],
          "surface": [
           {
            "colorbar": {
             "outlinewidth": 0,
             "ticks": ""
            },
            "colorscale": [
             [
              0,
              "#0d0887"
             ],
             [
              0.1111111111111111,
              "#46039f"
             ],
             [
              0.2222222222222222,
              "#7201a8"
             ],
             [
              0.3333333333333333,
              "#9c179e"
             ],
             [
              0.4444444444444444,
              "#bd3786"
             ],
             [
              0.5555555555555556,
              "#d8576b"
             ],
             [
              0.6666666666666666,
              "#ed7953"
             ],
             [
              0.7777777777777778,
              "#fb9f3a"
             ],
             [
              0.8888888888888888,
              "#fdca26"
             ],
             [
              1,
              "#f0f921"
             ]
            ],
            "type": "surface"
           }
          ],
          "table": [
           {
            "cells": {
             "fill": {
              "color": "#EBF0F8"
             },
             "line": {
              "color": "white"
             }
            },
            "header": {
             "fill": {
              "color": "#C8D4E3"
             },
             "line": {
              "color": "white"
             }
            },
            "type": "table"
           }
          ]
         },
         "layout": {
          "annotationdefaults": {
           "arrowcolor": "#2a3f5f",
           "arrowhead": 0,
           "arrowwidth": 1
          },
          "autotypenumbers": "strict",
          "coloraxis": {
           "colorbar": {
            "outlinewidth": 0,
            "ticks": ""
           }
          },
          "colorscale": {
           "diverging": [
            [
             0,
             "#8e0152"
            ],
            [
             0.1,
             "#c51b7d"
            ],
            [
             0.2,
             "#de77ae"
            ],
            [
             0.3,
             "#f1b6da"
            ],
            [
             0.4,
             "#fde0ef"
            ],
            [
             0.5,
             "#f7f7f7"
            ],
            [
             0.6,
             "#e6f5d0"
            ],
            [
             0.7,
             "#b8e186"
            ],
            [
             0.8,
             "#7fbc41"
            ],
            [
             0.9,
             "#4d9221"
            ],
            [
             1,
             "#276419"
            ]
           ],
           "sequential": [
            [
             0,
             "#0d0887"
            ],
            [
             0.1111111111111111,
             "#46039f"
            ],
            [
             0.2222222222222222,
             "#7201a8"
            ],
            [
             0.3333333333333333,
             "#9c179e"
            ],
            [
             0.4444444444444444,
             "#bd3786"
            ],
            [
             0.5555555555555556,
             "#d8576b"
            ],
            [
             0.6666666666666666,
             "#ed7953"
            ],
            [
             0.7777777777777778,
             "#fb9f3a"
            ],
            [
             0.8888888888888888,
             "#fdca26"
            ],
            [
             1,
             "#f0f921"
            ]
           ],
           "sequentialminus": [
            [
             0,
             "#0d0887"
            ],
            [
             0.1111111111111111,
             "#46039f"
            ],
            [
             0.2222222222222222,
             "#7201a8"
            ],
            [
             0.3333333333333333,
             "#9c179e"
            ],
            [
             0.4444444444444444,
             "#bd3786"
            ],
            [
             0.5555555555555556,
             "#d8576b"
            ],
            [
             0.6666666666666666,
             "#ed7953"
            ],
            [
             0.7777777777777778,
             "#fb9f3a"
            ],
            [
             0.8888888888888888,
             "#fdca26"
            ],
            [
             1,
             "#f0f921"
            ]
           ]
          },
          "colorway": [
           "#636efa",
           "#EF553B",
           "#00cc96",
           "#ab63fa",
           "#FFA15A",
           "#19d3f3",
           "#FF6692",
           "#B6E880",
           "#FF97FF",
           "#FECB52"
          ],
          "font": {
           "color": "#2a3f5f"
          },
          "geo": {
           "bgcolor": "white",
           "lakecolor": "white",
           "landcolor": "#E5ECF6",
           "showlakes": true,
           "showland": true,
           "subunitcolor": "white"
          },
          "hoverlabel": {
           "align": "left"
          },
          "hovermode": "closest",
          "mapbox": {
           "style": "light"
          },
          "paper_bgcolor": "white",
          "plot_bgcolor": "#E5ECF6",
          "polar": {
           "angularaxis": {
            "gridcolor": "white",
            "linecolor": "white",
            "ticks": ""
           },
           "bgcolor": "#E5ECF6",
           "radialaxis": {
            "gridcolor": "white",
            "linecolor": "white",
            "ticks": ""
           }
          },
          "scene": {
           "xaxis": {
            "backgroundcolor": "#E5ECF6",
            "gridcolor": "white",
            "gridwidth": 2,
            "linecolor": "white",
            "showbackground": true,
            "ticks": "",
            "zerolinecolor": "white"
           },
           "yaxis": {
            "backgroundcolor": "#E5ECF6",
            "gridcolor": "white",
            "gridwidth": 2,
            "linecolor": "white",
            "showbackground": true,
            "ticks": "",
            "zerolinecolor": "white"
           },
           "zaxis": {
            "backgroundcolor": "#E5ECF6",
            "gridcolor": "white",
            "gridwidth": 2,
            "linecolor": "white",
            "showbackground": true,
            "ticks": "",
            "zerolinecolor": "white"
           }
          },
          "shapedefaults": {
           "line": {
            "color": "#2a3f5f"
           }
          },
          "ternary": {
           "aaxis": {
            "gridcolor": "white",
            "linecolor": "white",
            "ticks": ""
           },
           "baxis": {
            "gridcolor": "white",
            "linecolor": "white",
            "ticks": ""
           },
           "bgcolor": "#E5ECF6",
           "caxis": {
            "gridcolor": "white",
            "linecolor": "white",
            "ticks": ""
           }
          },
          "title": {
           "x": 0.05
          },
          "xaxis": {
           "automargin": true,
           "gridcolor": "white",
           "linecolor": "white",
           "ticks": "",
           "title": {
            "standoff": 15
           },
           "zerolinecolor": "white",
           "zerolinewidth": 2
          },
          "yaxis": {
           "automargin": true,
           "gridcolor": "white",
           "linecolor": "white",
           "ticks": "",
           "title": {
            "standoff": 15
           },
           "zerolinecolor": "white",
           "zerolinewidth": 2
          }
         }
        },
        "title": {
         "text": "manufacturingprocess and Their Recipes"
        }
       }
      }
     },
     "metadata": {},
     "output_type": "display_data"
    }
   ],
   "source": [
    "import plotly.graph_objects as go\n",
    "from neo4j import GraphDatabase\n",
    "\n",
    "# Define query statements: retrieve information about products and their formulations\n",
    "query = \"\"\"\n",
    "MATCH (p:Recipe)-[:HAS_MANUFACTURING_PROCESS]->(c:ManufacturingProcess)\n",
    "RETURN p.ingredients_orig AS Recipe, c.Description AS Manufacturingprocess\n",
    "\"\"\"\n",
    "\n",
    "def get_manufacturingprocess_recipes():\n",
    "    manufacturingprocesss = []\n",
    "    recipes = []\n",
    "    with driver.session() as session:\n",
    "        result = session.run(query)\n",
    "        for record in result:\n",
    "            manufacturingprocess = record[\"Manufacturingprocess\"]\n",
    "            recipe = record[\"Recipe\"]\n",
    "            manufacturingprocesss.append(manufacturingprocess)\n",
    "            recipes.append(recipe)\n",
    "    return manufacturingprocesss, recipes\n",
    "\n",
    "\n",
    "manufacturingprocesss, recipes = get_manufacturingprocess_recipes()\n",
    "\n",
    "#Creating Text Charts\n",
    "fig = go.Figure(data=[go.Table(\n",
    "    header=dict(values=['Manufacturingprocess', 'Recipe'],\n",
    "                fill_color='paleturquoise',\n",
    "                align='left'),\n",
    "    cells=dict(values=[manufacturingprocesss, recipes],\n",
    "               fill_color='lavender',\n",
    "               align='left'))\n",
    "])\n",
    "\n",
    "\n",
    "fig.update_layout(\n",
    "    title=\"manufacturingprocess and Their Recipes\"\n",
    ")\n",
    "\n",
    "\n",
    "fig.show()"
   ]
  },
  {
   "cell_type": "code",
   "execution_count": 9,
   "metadata": {},
   "outputs": [
    {
     "data": {
      "application/vnd.plotly.v1+json": {
       "config": {
        "plotlyServerURL": "https://plot.ly"
       },
       "data": [
        {
         "cells": {
          "align": "left",
          "fill": {
           "color": "lavender"
          },
          "values": [
           [
            "",
            "",
            "",
            "",
            "Step 1: The wheat flour is mixed with water to form a dough.",
            "Step 2: The dough is rolled out and cut into noodles.",
            "Step 3: The noodles are fried in refined palm oil.",
            "Step 4: The seasoning powder is made by mixing salt, sugar, flavour enhancers, garlic powder, onion powder, yeast extract, artificial flavour, pepper, and anti caking agent.",
            "Step 5: The seasoning oil is made by mixing refined palm oil and onion.",
            "Step 6: The sweet soy sauce is made by mixing sugar, water, salt, wheat, soy bean, spices, and sesame oil.",
            "Step 7: The chilli sauce is made by mixing chilli, water, sugar, salt, tapioca starch, acidity regulators, herbs, flavour enhancers, flavours, and preservatives.",
            "Step 8: The fried onion is made by frying onion in refined palm oil.",
            "",
            "",
            "",
            "",
            "",
            "",
            "",
            "",
            "",
            "",
            "",
            "",
            "",
            "",
            "",
            "",
            "",
            "",
            "",
            "",
            "",
            "",
            "",
            "",
            "",
            "",
            "",
            "",
            "1. The wheat flour, sugar, vegetable oil, cocoa powder, fructose syrup, cornstarch, salt, raising agents, emulsifier, flavor, antioxidant, minerals, and vitamins are mixed together to form the cookie dough.",
            "2. The dough is then shaped into small, round cookies and baked until crispy.",
            "3. For the strawberry flavor, food acid and color are added to the dough before baking.",
            "4. After baking, the cookies are cooled and filled with a sweet cream filling.",
            "5. The cookies are then packaged into bags of 18 packs.",
            "",
            "",
            "",
            "Mixing and blending dry ingredients, including wheat flour, sugar, cocoa powder, and raising agents.",
            "Adding and mixing wet ingredients, such as vegetable oil, fructose syrup, and emulsifiers.",
            "Forming the dough and allowing it to rest.",
            "Sheeting and cutting the dough into round wafers.",
            "Baking the wafers at controlled temperatures.",
            "Preparing the vanilla creme filling by blending sugar, cornstarch, and other ingredients.",
            "Piping or spreading the creme filling onto one wafer.",
            "Assembling the sandwich cookies by topping the creme-filled wafer with a second wafer.",
            "Cooling and packaging the cookies for distribution.",
            "",
            "",
            "1. Apples and mangoes are harvested and processed to extract juice",
            "2. The juices are reconstituted to specific concentrations (95.8% apple juice, 4.0% mango juice)",
            "3. Citric acid is added to regulate acidity",
            "4. Vitamin C is added for fortification",
            "5. Natural flavours are introduced to enhance taste",
            "6. The mixture is pasteurized to ensure safety and stability",
            "7. The juice is packaged in aseptic containers for distribution",
            "",
            "",
            "",
            "",
            "Step 1: The fruit juices are extracted from pear, apple, pineapple, and passionfruit",
            "Step 2: The fruit juices are reconstituted with water",
            "Step 3: Sugar, food acids, and vitamin C are added to the mixture",
            "Step 4: The mixture is pasteurized to kill any bacteria and extend shelf life",
            "Step 5: The beverage is packaged in aseptic containers to maintain freshness",
            "",
            "Step 1: Extracting fruit juices and purées from apples, pears, pineapples, oranges, peaches, and passionfruits.",
            "Step 2: Combining the fruit juices and purées with water, sugar, food acids, vitamin C, natural flavors, and pectin.",
            "Step 3: Homogenizing the mixture to ensure a consistent texture and even distribution of ingredients.",
            "Step 4: Pasteurizing the mixture to kill any microorganisms and ensure a stable shelf life.",
            "Step 5: Filling the drink into containers, sealing, and cooling for storage and distribution.",
            "Step 1: Extraction of fruit juices from pear, apple, pineapple, orange, peach, and passionfruit",
            "Step 2: Blending of the fruit juices to create the tropical punch flavor",
            "Step 3: Addition of sugar and food acids (citric acid and potassium citrate) to enhance the flavor and preserve the product",
            "Step 4: Incorporation of natural flavors to enhance the fruit taste",
            "Step 5: Homogenization and pasteurization of the mixture to ensure safety and consistency",
            "Step 6: Filling and sealing of the individual containers",
            "Step 7: Packing the individual containers into multipacks",
            "",
            "",
            "",
            "",
            "",
            "",
            "",
            "",
            "",
            "",
            "",
            "",
            "",
            "",
            "",
            "",
            "",
            "",
            "",
            "",
            "",
            "",
            "",
            "Step 1: Canola oil, water, sugar, and vinegar are mixed together in a large vat.",
            "Step 2: Thickeners, egg yolk, gherkins, salt, onion powder, natural colors, preservatives, dill, acidity regulators, and herb extracts are added to the mixture.",
            "Step 3: The mixture is heated to a specific temperature to ensure proper mixing and emulsification.",
            "Step 4: The mixture is cooled and bottled for distribution.",
            "",
            "",
            "",
            "",
            "",
            "",
            "Potatoes are washed, peeled, and sliced into crinkle-cut shapes.",
            "The sliced potatoes are blanched in a mixture of canola and sunflower oils.",
            "The blanched potatoes are then fried in the same oil mixture until they are golden brown and crispy.",
            "While the potatoes are still hot, they are seasoned with a mixture of sugar, maltodextrin, salt, tomato powder, flavor enhancers, food acids, onion powder, and garlic powder.",
            "The seasoned chips are then cooled and packaged for distribution.",
            "",
            "",
            "Step 1: Potatoes are washed, peeled, and thinly sliced",
            "Step 2: The sliced potatoes are blanched to remove excess starch",
            "Step 3: The potatoes are then fried in a blend of canola and sunflower oils",
            "Step 4: After frying, the chips are seasoned with salt and a mix of antioxidants",
            "Step 5: The chips are packaged in a share pack for consumption",
            "",
            "",
            "",
            "",
            "Step 1: Fruits (peach and pear) are sorted, washed, and prepared for processing",
            "Step 2: The fruits are chopped and blended to form a puree",
            "Step 3: The fruit puree is mixed with reconstituted refined juice (made from concentrated pear juice, water, antioxidant (ascorbic acid), and acidity regulator (citric acid))",
            "Step 4: The mixture is homogenized to ensure even distribution of fruit chunks and juice",
            "Step 5: The product is filled into cups, sealed, and pasteurized for preservation",
            "Step 6: The cups are labeled, packaged, and prepared for distribution",
            "",
            "Step 1: Preparation of Jelly - Water, sugar, and gelling agents are combined and heated to dissolve the sugar and activate the gelling agents.",
            "Step 2: Addition of Natural Flavours and Colours - Once the jelly base is prepared, natural flavours and colours are added to give it a tropical flavour and vibrant colour.",
            "Step 3: Acidification - Acidity regulators are added to balance the pH and enhance the flavour of the jelly.",
            "Step 4: Fruit Preparation - Peach and pear pieces are prepared and added to the jelly mixture.",
            "Step 5: Filling and Setting - The mixture is filled into containers and allowed to set in a cool environment.",
            "",
            "",
            "",
            "",
            ""
           ],
           [
            "Carbonated Water, Sugar, Colour (150d), Food Acid (338), Flavour, Caffeine.",
            "Carbonated Water, Colour (150d), Food Acids (338, 331), Sweeteners (951, 950), Flavour, Caffeine.",
            "Carbonated Water, Colour (150d), Food Acids (338,331), Sweeteners (952, 950, 951), Flavour.",
            "Carbonated Water, Colour (150d), Food Acids (338,331), Sweeteners (951,950). Flavour, Caffeine.",
            "Noodles: Wheat Flour (62%), Refined Palm Oil (Contains Antioxidant 319), Salt, Acidity Regulators (451, 501, 500), Thickener (412), Colour (101).<br>Seasoning Powder: Salt, Sugar, Flavour Enhancers (621, 631, 627), Garlic Powder, Onion Powder, Yeast Extract, Artificial Flavour, Pepper, Anti Caking Agent (551).<br>Seasoning Oil: Refined Palm Oil (Contains Antioxidant 319), Onion.<br>Sweet Soy Sauce: Sugar, Water, Salt, Wheat, Soy Bean, Spices, Sesame Oil.<br>Chilli Sauce: Chilli, Water, Sugar, Salt, Tapioca Starch, Acidity Regulators (260, 330), Herbs, Flavour Enhancers (621, 627, 631), Flavours, Preservatives 1211, 223). Fried Onion: Onion, Refined Palm Oil (Contains Antioxidant 319).",
            "Noodles: Wheat Flour (62%), Refined Palm Oil (Contains Antioxidant 319), Salt, Acidity Regulators (451, 501, 500), Thickener (412), Colour (101).<br>Seasoning Powder: Salt, Sugar, Flavour Enhancers (621, 631, 627), Garlic Powder, Onion Powder, Yeast Extract, Artificial Flavour, Pepper, Anti Caking Agent (551).<br>Seasoning Oil: Refined Palm Oil (Contains Antioxidant 319), Onion.<br>Sweet Soy Sauce: Sugar, Water, Salt, Wheat, Soy Bean, Spices, Sesame Oil.<br>Chilli Sauce: Chilli, Water, Sugar, Salt, Tapioca Starch, Acidity Regulators (260, 330), Herbs, Flavour Enhancers (621, 627, 631), Flavours, Preservatives 1211, 223). Fried Onion: Onion, Refined Palm Oil (Contains Antioxidant 319).",
            "Noodles: Wheat Flour (62%), Refined Palm Oil (Contains Antioxidant 319), Salt, Acidity Regulators (451, 501, 500), Thickener (412), Colour (101).<br>Seasoning Powder: Salt, Sugar, Flavour Enhancers (621, 631, 627), Garlic Powder, Onion Powder, Yeast Extract, Artificial Flavour, Pepper, Anti Caking Agent (551).<br>Seasoning Oil: Refined Palm Oil (Contains Antioxidant 319), Onion.<br>Sweet Soy Sauce: Sugar, Water, Salt, Wheat, Soy Bean, Spices, Sesame Oil.<br>Chilli Sauce: Chilli, Water, Sugar, Salt, Tapioca Starch, Acidity Regulators (260, 330), Herbs, Flavour Enhancers (621, 627, 631), Flavours, Preservatives 1211, 223). Fried Onion: Onion, Refined Palm Oil (Contains Antioxidant 319).",
            "Noodles: Wheat Flour (62%), Refined Palm Oil (Contains Antioxidant 319), Salt, Acidity Regulators (451, 501, 500), Thickener (412), Colour (101).<br>Seasoning Powder: Salt, Sugar, Flavour Enhancers (621, 631, 627), Garlic Powder, Onion Powder, Yeast Extract, Artificial Flavour, Pepper, Anti Caking Agent (551).<br>Seasoning Oil: Refined Palm Oil (Contains Antioxidant 319), Onion.<br>Sweet Soy Sauce: Sugar, Water, Salt, Wheat, Soy Bean, Spices, Sesame Oil.<br>Chilli Sauce: Chilli, Water, Sugar, Salt, Tapioca Starch, Acidity Regulators (260, 330), Herbs, Flavour Enhancers (621, 627, 631), Flavours, Preservatives 1211, 223). Fried Onion: Onion, Refined Palm Oil (Contains Antioxidant 319).",
            "Noodles: Wheat Flour (62%), Refined Palm Oil (Contains Antioxidant 319), Salt, Acidity Regulators (451, 501, 500), Thickener (412), Colour (101).<br>Seasoning Powder: Salt, Sugar, Flavour Enhancers (621, 631, 627), Garlic Powder, Onion Powder, Yeast Extract, Artificial Flavour, Pepper, Anti Caking Agent (551).<br>Seasoning Oil: Refined Palm Oil (Contains Antioxidant 319), Onion.<br>Sweet Soy Sauce: Sugar, Water, Salt, Wheat, Soy Bean, Spices, Sesame Oil.<br>Chilli Sauce: Chilli, Water, Sugar, Salt, Tapioca Starch, Acidity Regulators (260, 330), Herbs, Flavour Enhancers (621, 627, 631), Flavours, Preservatives 1211, 223). Fried Onion: Onion, Refined Palm Oil (Contains Antioxidant 319).",
            "Noodles: Wheat Flour (62%), Refined Palm Oil (Contains Antioxidant 319), Salt, Acidity Regulators (451, 501, 500), Thickener (412), Colour (101).<br>Seasoning Powder: Salt, Sugar, Flavour Enhancers (621, 631, 627), Garlic Powder, Onion Powder, Yeast Extract, Artificial Flavour, Pepper, Anti Caking Agent (551).<br>Seasoning Oil: Refined Palm Oil (Contains Antioxidant 319), Onion.<br>Sweet Soy Sauce: Sugar, Water, Salt, Wheat, Soy Bean, Spices, Sesame Oil.<br>Chilli Sauce: Chilli, Water, Sugar, Salt, Tapioca Starch, Acidity Regulators (260, 330), Herbs, Flavour Enhancers (621, 627, 631), Flavours, Preservatives 1211, 223). Fried Onion: Onion, Refined Palm Oil (Contains Antioxidant 319).",
            "Noodles: Wheat Flour (62%), Refined Palm Oil (Contains Antioxidant 319), Salt, Acidity Regulators (451, 501, 500), Thickener (412), Colour (101).<br>Seasoning Powder: Salt, Sugar, Flavour Enhancers (621, 631, 627), Garlic Powder, Onion Powder, Yeast Extract, Artificial Flavour, Pepper, Anti Caking Agent (551).<br>Seasoning Oil: Refined Palm Oil (Contains Antioxidant 319), Onion.<br>Sweet Soy Sauce: Sugar, Water, Salt, Wheat, Soy Bean, Spices, Sesame Oil.<br>Chilli Sauce: Chilli, Water, Sugar, Salt, Tapioca Starch, Acidity Regulators (260, 330), Herbs, Flavour Enhancers (621, 627, 631), Flavours, Preservatives 1211, 223). Fried Onion: Onion, Refined Palm Oil (Contains Antioxidant 319).",
            "Noodles: Wheat Flour (62%), Refined Palm Oil (Contains Antioxidant 319), Salt, Acidity Regulators (451, 501, 500), Thickener (412), Colour (101).<br>Seasoning Powder: Salt, Sugar, Flavour Enhancers (621, 631, 627), Garlic Powder, Onion Powder, Yeast Extract, Artificial Flavour, Pepper, Anti Caking Agent (551).<br>Seasoning Oil: Refined Palm Oil (Contains Antioxidant 319), Onion.<br>Sweet Soy Sauce: Sugar, Water, Salt, Wheat, Soy Bean, Spices, Sesame Oil.<br>Chilli Sauce: Chilli, Water, Sugar, Salt, Tapioca Starch, Acidity Regulators (260, 330), Herbs, Flavour Enhancers (621, 627, 631), Flavours, Preservatives 1211, 223). Fried Onion: Onion, Refined Palm Oil (Contains Antioxidant 319).",
            "<div>Our Chosen Ingredients: Noodle Cake: Wheat  Flour, Vegetable Oil (Antioxidant (319)), Salt, Mineral Salts (508, 451, 501, 500), Vegetable Gum (412). Flavour Mix Sachet: Iodised Salt, Flavour Enhancers (621, 635), Mineral Salt (508), Maltodextrin, Flavours (Contains  Wheat ,  Soy  and  Celery), Sugar, Onion Powder, Vegetable Fat (Antioxidant (320)), Parsley Flakes, Colours (Turmeric, Caramel Iii), Spices (Coriander, Cumin, Cardamom, Chilli Powder, Ginger).</div>",
            "Ingredients:        Noodle Cake : Australian  Whea T Flour (70%), Vegetable Oil Antioxidant (319), Salt, Mineral Salts (508, 451, 501, 500), Vegetable Gum (412).   Flavour Sachet : Salt, Flavour Enhancers (621, 635), Mineral Salt (Potassium Chloride), Flavours Flavour Enhancer (621), Celery,  Soy ,  Wheat , Sugar, Onion, Vegetable Fat Antioxidant (320), Potato Starch, Parsley, Spices (Turmeric, Coriander, Cumin, Chilli, Cardamom, Ginger), Burnt Sugar.       Contains Gluten, Wheat, Soy.        May Contain Crustacean, Fish, Milk, Mustard.",
            "Noodles: Wheat Flour (Gluten), Vegetable Oil (Antioxidant (320)), Salt. Flavour Sachet: Salt, Flavour Enhancers (621, 635), Flavours (Flavour Enhancers (621, 635), Wheat (Gluten), Soy), Sugar, Maltodextrin, Onion Powder, Herbs, Yeast Extract, Colour (Curcumin).",
            "Noodles: Wheat Flour (Gluten), Vegetable Oil (Antioxidant (320)), Salt.Flavour Sachet: Salt, Flavour Enhancers (621, 635), Flavours (Flavour Enhancers (621, 635), Wheat (Gluten), Soy), Maltodextrin, Sugar, Onion Powder, Herbs, Yeast Extract, Colour (Curcumin), Vegetable Oil (Antioxidant (320)).Vegetable Sachet: Dehydrated Vegetables.",
            "Noodles: Wheat Flour, Vegetable Oil (Antioxidant (319)), Modified Starch (1420), Salt, Mineral Salts (501, 500, 451), Vegetable Gum (412).Flavour Sachet: Salt, Flavour Enhancers (621, 627, 631), Flavours (Soy, Wheat), Herbs and Spices, Sugar, Yeast Extract, Colour (100), Vegetable Oil (Antioxidant (319)), Anticaking Agent (551), Antioxidant (307b).Vegetable Sachet: Dehydrated Vegetables.",
            "Noodles : Wheat Flour (62%), Refined Palm Oil (Contains Antioxidant 319), Salt, Acidity Regulators (451, 501, 500), Thickener (412), Colour (101).<br>Seasoning Powder : Salt, Sugar, Flavour Enhancers (621, 631, 627), Garlic Powder, Onion Powder, Yeast Extract, Artificial Flavour, Pepper, Anti Caking Agent (551).<br>Seasoning Oil : Refined Palm Oil (Contains Antioxidant 319), Onion.<br>Sweet Soy Sauce : Sugar, Water, Salt, Wheat, Soy Bean, Spices, Sesame Oil.<br>Chilli Sauce : Chilli, Water, Sugar, Salt, Tapioca Starch, Acidity Regulators (260, 330), Herbs, Flavour Enhancers (621, 627, 631), Flavours, Preservatives 1211, 223). Fried Onion : Onion, Refined Palm Oil (Contains Antioxidant 319).",
            "Ingredients       Noodle Cake :  Australian  Wheat  Flour (70%), Vegetable Oil Antioxidant (319), Salt, Mineral Salts (508, 451, 501, 500), Vegetable Gum (412).      Flavour Sachet: Mineral Salt (Potassium Chloride), Salt, Flavour Enhancers (621, 635), Sugar, Yeast Extract, Flavour, Burnt Sugar, Vegetable Fat Antioxidant (320), Onion,  Soy  Sauce Powder ( Wheat, Soy ), Food Acid (Citric), White Pepper, Rosemary.       Contains Gluten, Wheat, Soy .       May Contain Celery, Crustacean, Fish, Milk, Mustard.",
            "Noodles: Wheat Flour (Gluten), Vegetable Oil (Antioxidant (320)), Salt. Flavour Sachet: Salt, Flavour Enhancers (621, 635), Flavours (Flavour Enhancers (621, 635), Wheat (Gluten), Soy), Colour (150c)), Herbs and Spices, Colours (Caramel, Curcumin, Sugar, Garlic Powder.",
            "Carbonated Mineral Water, Food Acid (Citric Acid), Natural Flavours.",
            "Natural Mineral Water.",
            "Carbonated Water, Mineral Salt (Potassium Bicarbon ate).",
            "Carbonated Water, Sugar, Food Acid (330), Natural Flavours (With Orange Peel Extract, Citrus Oils, Botanical Extracts, Lemon Peel Extract), Quinine.CONTAINS QUININE.",
            "Carbonated Water, Reconstituted Lime Juice (5%), S ugar, Natural Flavour (With Lime Oils), Preservati ves (211, 223 (SULPHITES)), Plant Extracts (Garden ia, Carthamus).CONTAINS SULPHITES.",
            "Carbonated Water, Food Acids (330, 331), Natural Flavours (With Orange Peel Extract, Citrus Oils, Botanical Extracts, Lemon Peel Extract), Sweeteners (951, 950), Quinine.CONTAINS QUININE. CONTAINS PHENYLALANINE.",
            "Carbonated Water (Mineral Water 80%, Purified Wate,r 11%), Reconstituted Juices (Lemon 4.5%, Lime 0.5,%), Sugar, Natural Flavours, Food Acids (Citric Ac,id, Sodium Citrate), Preservatives (211, 202, 223),, Natural Colour (Safflower Extract).",
            "Carbonated Water (Mineral Water 80%, Purified Wate r 11%), Reconstituted Juices (Orange 4%, Mango 1%) , Sugar, Natural Flavours, Food Acids (Citric Acid , Ascorbic Acid), Preservatives (211, 202, 223 (SU LPHITES)), Natural Colours (Carminic Acid, Lutein) , Antioxidant (385).CONTAINS SULPHITES.",
            "Ingredients:           Sugar,  Milk  Solids,  Wheat  Flour, Cocoa Butter^, Vegetable Fat Emulsifier ( Soy  Lecithin), Cocoa Mass^, Choc Paste ( Milk, Wheat, Soy ), Emulsifiers ( Soy  Lecithin, 476),  Cocoa^,  Raising Agent (Sodium Bicarbonate), Salt, Yeast,    Flavour,   Processing Aid (  Wheat  ).          Contains Milk, Wheat, Gluten, Soy.            May Contain Tree Nuts, Other Gluten Containing Ingredients.           Product Contains 67% Milk Chocolate and 33% Wafer Fingers.          Milk Chocolate Contains Minimum 22% Cocoa Solids, 25% Milk Solids.          ^ Rainforest Alliance Certified   Cocoa. Find Out More at Ra.Org.",
            "<p>Sugar,  Milk  Solids,  Wheat  Flour, Cocoa Butter ^, Vegetable Fat Emusifier ( Soy  Lecithin),Cocoa Mass ^, Choc Paste (  Milk ,  Soy,   Wheat ), Emusifiers ( Soy  Lecithin, 476),  Cocoa^, Raising Agent (Sodium Bicarbonate), Salt, Yeast, Flavour.          Contains Milk, Soy and Wheat.           May Contain Tree Nuts.          Product Contains 68% Milk Chocolate and 32% Wafer Fingers.         Milk Chocolate Contains Minimum 22% Cocoa Solids^, 25% Milk Solids. </p>",
            "Full Cream Milk, Sugar, Cocoa Butter, Glucose Syrup, Milk Solids, Cocoa Mass, Sweetened Condensed Milk (Milk, SUgar, Milk Solids), Golden Syrup, Invert Sugar, Vegetable Fat, Emulsifiers (Soy Lecithin, 476), Salt, Acidity Regulator (331), Flavours.",
            "TWIX CONTAINS MILK CHOCOLATE 35%, CARAMEL 32% AND BISCUIT 32%.",
            "Sugar, Glucose Syrup (Sources include Wheat), Milk Solids, Cocoa Mass, Cocoa Butter, Vegetable Oil, Vegetable Fat, Barley Malt Extract, Emulsifier (Soy Lecithin), Salt, Egg White, Natural Flavour (Vanilla Extract).",
            "Full Cream Milk, Sugar, Cocoa Butter, Cocoa Mass, Milk Solids, Emulsifiers (Soy Lecithin, 476), Flavours.",
            "Sugar, Wheat Glucose Syrup, Sweetened Condensed Milk, Vegetable Fat, Wheat Flour, Milk Solids, Cocoa Powder, Salt, Emulsifiers (Soy Lecithin, 492, 471, 476), Vegetable Oil, Flavours, Raising Agent (500), Enzymes, Food Acid (330).",
            "Chocolate Chips (40%) (Sugar, Cocoa Mass, Milk Solids, Vegetable Oil, Emulsifiers (Soy Lecithin, E476), Cocoa Butter, Flavour, Salt), Wheat Flour, Sugar, Vegetable Oil, Desiccated Coconut, Wheat Starch, Salt, Baking Powder, Flavour, Food Colour (Caramel IV), Emulsifier (Soy Lecithin), Antioxidant (E307B from Soy).",
            "Wheat Flour, Sugar, Dark Compound Chocolate Chips (20%) (Sugar, Palm Oil, Cocoa Solids, Emulsifier (Soy Lecithin), Natural Flavour), Vegetable Oil (Palm Oil, Antioxidant (307b)), Wheaten Corn Flour (Wheat), Whole Egg Powder, Whey Powder (Milk), Raising Agents (Sodium Carbonates, Ammonium Carbonates), Natural Flavour, Salt, Natural Colour (Annatto Extracts)",
            "<p>Dark Chocolate Chips (40%) (Sugar, Cocoa Mass, Cocoa Butter, Emulsifier (Lecithin (Soy), Natural Vanilla Flavour), Wheat Flour, Sugar, Vegetable Oil (Palm Oil, Antioxidant (307b)), Butter (Milk), Whey Powder (Milk), Natural Flavours (Vanilla, Butter (Milk), Salt, Raising Agents (Sodium Carbonate, Ammonium Carbonate), Dark Chocolate contains minimum 40% Cocoa Solids.</p>",
            "Wheat Flour, Chocolate Chips (24%) (Sugar, Cocoa Mass, Cocoa Butter, Natural Flavour, Emulsifier (Soy Lecithin)), Sugar, Vegetable Oil, Butter (Contains Milk), Desiccated Coconut, Skim Milk Powder, Baking Powder, Salt, Emulsifier (Soy Lecithin), Natural Flavour, Antioxidant (E307b From Soy).",
            "Chocolate flavoured sandwich cookies with vanilla flavoured creme (28%).Ingredients: Wheat Flour, Sugar, Vegetable Oil, Cocoa Powder, Fructose Syrup, Cornstarch, Salt, Raising Agents (500, 503), Emulsifier (Soy Lecithin), Flavour, Antioxidant (319), Minerals (Iron, Zinc), Vitamins (Riboflavin, Thiamin, Folate).",
            "Mini Oreo Original Wheat Flour, Sugar, Vegetable Oil, Cocoa Powder, Fructose Syrup, Cornstarch, Salt, Raising Agents (500, 503), Emulsifier (Soy Lecithin), Flavour, Antioxidant (319), Minerals (Iron, Zinc), Vitamins (Riboflavin, Thiamin, Folate). Mini Oreo ChocolateWheat Flour, Sugar, Vegetable Oil, Cocoa Powder, Fructose Syrup, Cornstarch, Salt, Raising Agents (500, 503), Emulsifier (Soy Lecithin), Flavour, Antioxidant (319), Minerals (Iron, Zinc), Vitamins (Riboflavin, Thiamin, Folate). Mini Oreo StrawberryWheat Flou, Sugar, Vegetable Oil, Cocoa Powder, Fructose Syrup, Cornstarch, Salt, Raising Agents (500, 503), Emulsifier (Soy Lecithin), Flavours, Food Acid (330), Colour (120), Minerals (Iron, Zinc), Antioxidant (319), Vitamins (Riboflavin, Thiamin, Folate).",
            "Mini Oreo Original Wheat Flour, Sugar, Vegetable Oil, Cocoa Powder, Fructose Syrup, Cornstarch, Salt, Raising Agents (500, 503), Emulsifier (Soy Lecithin), Flavour, Antioxidant (319), Minerals (Iron, Zinc), Vitamins (Riboflavin, Thiamin, Folate). Mini Oreo ChocolateWheat Flour, Sugar, Vegetable Oil, Cocoa Powder, Fructose Syrup, Cornstarch, Salt, Raising Agents (500, 503), Emulsifier (Soy Lecithin), Flavour, Antioxidant (319), Minerals (Iron, Zinc), Vitamins (Riboflavin, Thiamin, Folate). Mini Oreo StrawberryWheat Flou, Sugar, Vegetable Oil, Cocoa Powder, Fructose Syrup, Cornstarch, Salt, Raising Agents (500, 503), Emulsifier (Soy Lecithin), Flavours, Food Acid (330), Colour (120), Minerals (Iron, Zinc), Antioxidant (319), Vitamins (Riboflavin, Thiamin, Folate).",
            "Mini Oreo Original Wheat Flour, Sugar, Vegetable Oil, Cocoa Powder, Fructose Syrup, Cornstarch, Salt, Raising Agents (500, 503), Emulsifier (Soy Lecithin), Flavour, Antioxidant (319), Minerals (Iron, Zinc), Vitamins (Riboflavin, Thiamin, Folate). Mini Oreo ChocolateWheat Flour, Sugar, Vegetable Oil, Cocoa Powder, Fructose Syrup, Cornstarch, Salt, Raising Agents (500, 503), Emulsifier (Soy Lecithin), Flavour, Antioxidant (319), Minerals (Iron, Zinc), Vitamins (Riboflavin, Thiamin, Folate). Mini Oreo StrawberryWheat Flou, Sugar, Vegetable Oil, Cocoa Powder, Fructose Syrup, Cornstarch, Salt, Raising Agents (500, 503), Emulsifier (Soy Lecithin), Flavours, Food Acid (330), Colour (120), Minerals (Iron, Zinc), Antioxidant (319), Vitamins (Riboflavin, Thiamin, Folate).",
            "Mini Oreo Original Wheat Flour, Sugar, Vegetable Oil, Cocoa Powder, Fructose Syrup, Cornstarch, Salt, Raising Agents (500, 503), Emulsifier (Soy Lecithin), Flavour, Antioxidant (319), Minerals (Iron, Zinc), Vitamins (Riboflavin, Thiamin, Folate). Mini Oreo ChocolateWheat Flour, Sugar, Vegetable Oil, Cocoa Powder, Fructose Syrup, Cornstarch, Salt, Raising Agents (500, 503), Emulsifier (Soy Lecithin), Flavour, Antioxidant (319), Minerals (Iron, Zinc), Vitamins (Riboflavin, Thiamin, Folate). Mini Oreo StrawberryWheat Flou, Sugar, Vegetable Oil, Cocoa Powder, Fructose Syrup, Cornstarch, Salt, Raising Agents (500, 503), Emulsifier (Soy Lecithin), Flavours, Food Acid (330), Colour (120), Minerals (Iron, Zinc), Antioxidant (319), Vitamins (Riboflavin, Thiamin, Folate).",
            "Mini Oreo Original Wheat Flour, Sugar, Vegetable Oil, Cocoa Powder, Fructose Syrup, Cornstarch, Salt, Raising Agents (500, 503), Emulsifier (Soy Lecithin), Flavour, Antioxidant (319), Minerals (Iron, Zinc), Vitamins (Riboflavin, Thiamin, Folate). Mini Oreo ChocolateWheat Flour, Sugar, Vegetable Oil, Cocoa Powder, Fructose Syrup, Cornstarch, Salt, Raising Agents (500, 503), Emulsifier (Soy Lecithin), Flavour, Antioxidant (319), Minerals (Iron, Zinc), Vitamins (Riboflavin, Thiamin, Folate). Mini Oreo StrawberryWheat Flou, Sugar, Vegetable Oil, Cocoa Powder, Fructose Syrup, Cornstarch, Salt, Raising Agents (500, 503), Emulsifier (Soy Lecithin), Flavours, Food Acid (330), Colour (120), Minerals (Iron, Zinc), Antioxidant (319), Vitamins (Riboflavin, Thiamin, Folate).",
            "Wheat Flour, Milk Chocolate Chips (19%), (Sugar, Milk Solids, Cocoa Butter, Cocoa Mass, Vegetable Fat, Dextrose, Emulsifier (442), Flavour), Sugar, Egg, Vegetable Oil, Glucose Syrup, Milk Solids, Cocoa Butter, Stabiliser (422), Soybean Fibre, Thickener (1422), Potato Starch, Salt, Raising Agents (450, 500, 503), Flavour (Contains Milk), Colour (160a).",
            "Wheat Flour, Choc Centre Filling (25%) (Sugar, Vegetable Oil, Milk Solids, Cocoa Mass, Thickener (1414), Cocoa Powder, Emulsifier (Soy Lecithin), Flavour), Milk Chocolate Chips (15%) (Sugar, Milk Solids, Cocoa Butter, Cocoa Mass, Vegetable Oil, Dextrose, Emulsifier (442), Flavour), Sugar, Vegetable Oil (Contains Antioxidant (330)), Milk Solids, Wheat Starch, Raising Agents (500, 503, 450), Salt, Flavours (Contain Milk), Colour (160a), Soybean Fibre.",
            "wheat flour, milk compound chocolate (27%) (sugar, vegetable fat [soy lecithin, 492], milk solids, cocoa powder, emulsifiers [soy lecithin, 476], flavour, salt), butter, sugar, confectionary (8%) (milk compound chocolate [sugar, vegetable oil, milk solids, cocoa powder, emulsifiers (soy lecithin, 476, 492), flavour], sugar, corn starch, glazing agents (414, 903), natural colours [titan white, spirulina extract, beta carotene, red beetroot powder, black Ycarrot extract]), egg, cultured dextrose, raising agent (500, 450), maize starch, soy lecithin, salt, natural vanilla flavour.",
            "Chocolate flavoured sandwich cookies with vanilla flavoured creme (29%)Wheat Flour, Sugar, Vegetable Oil, Cocoa Powder, Fructose Syrup, Cornstarch, Salt, Raising Agents (500, 503), Emulsifier (Soy Lecithin), Flavour, Antioxidant (319), Minerals (Iron, Zinc), Vitamins (Riboflavin, Thiamin, Folate)",
            "Chocolate flavoured sandwich cookies with vanilla flavoured creme (29%)Wheat Flour, Sugar, Vegetable Oil, Cocoa Powder, Fructose Syrup, Cornstarch, Salt, Raising Agents (500, 503), Emulsifier (Soy Lecithin), Flavour, Antioxidant (319), Minerals (Iron, Zinc), Vitamins (Riboflavin, Thiamin, Folate)",
            "Chocolate flavoured sandwich cookies with vanilla flavoured creme (29%)Wheat Flour, Sugar, Vegetable Oil, Cocoa Powder, Fructose Syrup, Cornstarch, Salt, Raising Agents (500, 503), Emulsifier (Soy Lecithin), Flavour, Antioxidant (319), Minerals (Iron, Zinc), Vitamins (Riboflavin, Thiamin, Folate)",
            "Chocolate flavoured sandwich cookies with vanilla flavoured creme (29%)Wheat Flour, Sugar, Vegetable Oil, Cocoa Powder, Fructose Syrup, Cornstarch, Salt, Raising Agents (500, 503), Emulsifier (Soy Lecithin), Flavour, Antioxidant (319), Minerals (Iron, Zinc), Vitamins (Riboflavin, Thiamin, Folate)",
            "Chocolate flavoured sandwich cookies with vanilla flavoured creme (29%)Wheat Flour, Sugar, Vegetable Oil, Cocoa Powder, Fructose Syrup, Cornstarch, Salt, Raising Agents (500, 503), Emulsifier (Soy Lecithin), Flavour, Antioxidant (319), Minerals (Iron, Zinc), Vitamins (Riboflavin, Thiamin, Folate)",
            "Chocolate flavoured sandwich cookies with vanilla flavoured creme (29%)Wheat Flour, Sugar, Vegetable Oil, Cocoa Powder, Fructose Syrup, Cornstarch, Salt, Raising Agents (500, 503), Emulsifier (Soy Lecithin), Flavour, Antioxidant (319), Minerals (Iron, Zinc), Vitamins (Riboflavin, Thiamin, Folate)",
            "Chocolate flavoured sandwich cookies with vanilla flavoured creme (29%)Wheat Flour, Sugar, Vegetable Oil, Cocoa Powder, Fructose Syrup, Cornstarch, Salt, Raising Agents (500, 503), Emulsifier (Soy Lecithin), Flavour, Antioxidant (319), Minerals (Iron, Zinc), Vitamins (Riboflavin, Thiamin, Folate)",
            "Chocolate flavoured sandwich cookies with vanilla flavoured creme (29%)Wheat Flour, Sugar, Vegetable Oil, Cocoa Powder, Fructose Syrup, Cornstarch, Salt, Raising Agents (500, 503), Emulsifier (Soy Lecithin), Flavour, Antioxidant (319), Minerals (Iron, Zinc), Vitamins (Riboflavin, Thiamin, Folate)",
            "Chocolate flavoured sandwich cookies with vanilla flavoured creme (29%)Wheat Flour, Sugar, Vegetable Oil, Cocoa Powder, Fructose Syrup, Cornstarch, Salt, Raising Agents (500, 503), Emulsifier (Soy Lecithin), Flavour, Antioxidant (319), Minerals (Iron, Zinc), Vitamins (Riboflavin, Thiamin, Folate)",
            "Isododecane, Polyethylene, Synthetic Wax, EthylenePropylene Copolymer, Bis-Diglyceryl Polyacyladipate-2, Hydrogenated Polycyclopentadiene, Polybutene, Silica, Octyldodecanol, Pentaerythrityl Tetra-di-t-butyl Hydroxyhydrocinnamate, May ContainPeut Contenir+-:Mica , Ultramarines (CI 77007), Iron Oxides (CI 77491, CI 77492, CI 77499), Titanium Dioxide (CI 77891), Ferric Ferrocyanide (CI 77510), Aluminum Powder (CI 77000), Carmine (CI 75470).",
            "Reconstituted Apple Juice (99.7%), Acidity Regulator (Citric Acid), Natural Flavour, Vitamin C.",
            "Reconstituted Fruit Juices (Apple (95.8%), Mango (4.0%)), Acidity Regulator (Citric Acid), Vitamin C, Natural Flavour.",
            "Reconstituted Fruit Juices (Apple (95.8%), Mango (4.0%)), Acidity Regulator (Citric Acid), Vitamin C, Natural Flavour.",
            "Reconstituted Fruit Juices (Apple (95.8%), Mango (4.0%)), Acidity Regulator (Citric Acid), Vitamin C, Natural Flavour.",
            "Reconstituted Fruit Juices (Apple (95.8%), Mango (4.0%)), Acidity Regulator (Citric Acid), Vitamin C, Natural Flavour.",
            "Reconstituted Fruit Juices (Apple (95.8%), Mango (4.0%)), Acidity Regulator (Citric Acid), Vitamin C, Natural Flavour.",
            "Reconstituted Fruit Juices (Apple (95.8%), Mango (4.0%)), Acidity Regulator (Citric Acid), Vitamin C, Natural Flavour.",
            "Reconstituted Fruit Juices (Apple (95.8%), Mango (4.0%)), Acidity Regulator (Citric Acid), Vitamin C, Natural Flavour.",
            "Reconstituted Orange Juice (99.8%), Natural Flavour, Vitamin C, Acidity Regulator (Citric Acid).",
            "Reconstituted Fruit Juices [Apple (83.2%), Orange (15%), Mango (0.5%), Pineapple (0.5%), Passionfruit (0.5%)], Natural Flavours, Acidity Regulator (Citric Acid), Vitamin C, Thickener (466)",
            "Reconstituted Fruit Juices [Apple (94.8%), Blackcurrant (4.9%)], Acidity Regulator (Citric Acid), Natural Flavour, Vitamin C, Natural Colour (163).",
            "Reconstituted Fruit Juices [Apple (77.3%), Orange (10%), Grape (4%), Apricot (4%), Peach (2%), Pear (0.5%), Lemon (0.5%), Mango (0.5%), Passionfruit (0.5%)], Reconstituted Guava Puree (0.5%), Vitamins (C, A & Folate), Natural Flavours, Acidity Regulator (Citric Acid).",
            "Water, Reconstituted Fruit Juice Pear or Apple (15%), Pineapple (9%), Passionfruit (1%), Sugar, Food Acids (Citric Acid, Potassium Citrate), Vitamin C, Natural Flavours.",
            "Water, Reconstituted Fruit Juice Pear or Apple (15%), Pineapple (9%), Passionfruit (1%), Sugar, Food Acids (Citric Acid, Potassium Citrate), Vitamin C, Natural Flavours.",
            "Water, Reconstituted Fruit Juice Pear or Apple (15%), Pineapple (9%), Passionfruit (1%), Sugar, Food Acids (Citric Acid, Potassium Citrate), Vitamin C, Natural Flavours.",
            "Water, Reconstituted Fruit Juice Pear or Apple (15%), Pineapple (9%), Passionfruit (1%), Sugar, Food Acids (Citric Acid, Potassium Citrate), Vitamin C, Natural Flavours.",
            "Water, Reconstituted Fruit Juice Pear or Apple (15%), Pineapple (9%), Passionfruit (1%), Sugar, Food Acids (Citric Acid, Potassium Citrate), Vitamin C, Natural Flavours.",
            "Water, Reconstituted Fruit Juice Pineapple (17%), Orange (8%), Sugar, Food Acid (Citric Acid), Vitamin C, Natural Flavour, Stabiliser (Pectin).",
            "Water, Reconstituted Fruit Juice (25%) (Apple or Pear, Pineapple, Orange or Water Extracted Orange, Peach Purée, Passionfruit), Sugar, Food Acids (Citric Acid, Potassium Citrate), Vitamin C, Natural Flavours, Stabiliser (Pectin).",
            "Water, Reconstituted Fruit Juice (25%) (Apple or Pear, Pineapple, Orange or Water Extracted Orange, Peach Purée, Passionfruit), Sugar, Food Acids (Citric Acid, Potassium Citrate), Vitamin C, Natural Flavours, Stabiliser (Pectin).",
            "Water, Reconstituted Fruit Juice (25%) (Apple or Pear, Pineapple, Orange or Water Extracted Orange, Peach Purée, Passionfruit), Sugar, Food Acids (Citric Acid, Potassium Citrate), Vitamin C, Natural Flavours, Stabiliser (Pectin).",
            "Water, Reconstituted Fruit Juice (25%) (Apple or Pear, Pineapple, Orange or Water Extracted Orange, Peach Purée, Passionfruit), Sugar, Food Acids (Citric Acid, Potassium Citrate), Vitamin C, Natural Flavours, Stabiliser (Pectin).",
            "Water, Reconstituted Fruit Juice (25%) (Apple or Pear, Pineapple, Orange or Water Extracted Orange, Peach Purée, Passionfruit), Sugar, Food Acids (Citric Acid, Potassium Citrate), Vitamin C, Natural Flavours, Stabiliser (Pectin).",
            "Water, Reconstituted Fruit Juice (25%) Pear or Apple, Pineapple, Orange, Peach Pure, Passionfruit, Sugar, Food Acids (Citric Acid, Potassium Citrate), Vitamin C, Natural Flavours.",
            "Water, Reconstituted Fruit Juice (25%) Pear or Apple, Pineapple, Orange, Peach Pure, Passionfruit, Sugar, Food Acids (Citric Acid, Potassium Citrate), Vitamin C, Natural Flavours.",
            "Water, Reconstituted Fruit Juice (25%) Pear or Apple, Pineapple, Orange, Peach Pure, Passionfruit, Sugar, Food Acids (Citric Acid, Potassium Citrate), Vitamin C, Natural Flavours.",
            "Water, Reconstituted Fruit Juice (25%) Pear or Apple, Pineapple, Orange, Peach Pure, Passionfruit, Sugar, Food Acids (Citric Acid, Potassium Citrate), Vitamin C, Natural Flavours.",
            "Water, Reconstituted Fruit Juice (25%) Pear or Apple, Pineapple, Orange, Peach Pure, Passionfruit, Sugar, Food Acids (Citric Acid, Potassium Citrate), Vitamin C, Natural Flavours.",
            "Water, Reconstituted Fruit Juice (25%) Pear or Apple, Pineapple, Orange, Peach Pure, Passionfruit, Sugar, Food Acids (Citric Acid, Potassium Citrate), Vitamin C, Natural Flavours.",
            "Water, Reconstituted Fruit Juice (25%) Pear or Apple, Pineapple, Orange, Peach Pure, Passionfruit, Sugar, Food Acids (Citric Acid, Potassium Citrate), Vitamin C, Natural Flavours.",
            "Pasteurised and Homogenised Full Cream Milk",
            "Milk.",
            "Pasteurised homogenised Milk",
            "Milk",
            "Full cream milk, cream (from milk)",
            "Chocolate flavoured sandwich cookies with vanilla flavoured creme (44%)Sugar, Wheat Flour, Vegetable Oil, Cocoa Powder, Fructose Syrup, Cornstarch, Raising Agents (500, 503), Salt, Emulsifier (Soy Lecithin), Flavour, Antioxidant (319), Minerals (Iron, Zinc), Vitamins (Riboflavin, Thiamin, Folate)",
            "Wheat Flour, Sugar, Vegetable Oil, Cocoa Powder, Fructose Syrup, Cornstarch, Salt, Raising Agents (500, 503), Emulsifier (Soy Lecithin), Flavour, Antioxidant (319), Minerals (Iron, Zinc), Vitamins (Riboflavin, Thiamin, Folate).",
            "Chocolate flavoured sandwich cookies with chocolate flavoured creme (29%)Wheat Flour, Sugar, Vegetable Oil, Cocoa Powder, Fructose Syrup, Cornstarch, Salt, Raising Agents (500, 503), Emulsifier (Soy Lecithin), Flavour, Antioxidant (319), Minerals (Iron, Zinc), Vitamins (Riboflavin, Thiamin, Folate)",
            "Wheat Flour, Sugar, Vegetable Oil, Cocoa Powder, Fructose, Syrup, Cornstarch, Salt, Raising Agents (500, 503), Emulsifier (Soy Lecithin), Flavour, Antioxidant (319), Minerals (Iron, Zinc), Vitamins (Riboflavin, Thiamin, Folate).",
            "Sugar, Wheat Flour, Vegetable Oil, Cornstarch, Cocoa Powder, Maltodextrin, Fructose Syrup, Iodised Salt, Emulsifier (Soy Lecithin), Raising Agents (500, 503), Flavours, Food Acid (330), Colour (120), Antioxidant (319), Minerals (Iron, Zinc), Vitamins (Riboflavin, Thiamin, Folate).",
            "Tomato (60%), Tomato Juice, Acidity Regulator (Citric Acid)",
            "Durum Wheat Semolina.",
            "Coconut Extract (76%), Water, Thickener (Guar Gum)",
            "Ultra Heat Treated Homogenised Full Cream Milk.",
            "Sardines (Fish) (67%), Vegetable Oil (14%), Water, Salt",
            "Rice (44%), Milk, Skim Milk, Sugar, Salt, Acidity Regulator (339), Natural Vanilla Flavour",
            "Coconut Extract (50%), Water, Thickener (Guar Gum)",
            "Reconstituted Tomato Puree (78%), Sugar, Thickener (Modified Corn Starch), Salt, Acidity Regulators (Acetic Acid, Citric Acid), Natural Flavour, Spice Extract",
            "Reconstituted Fruit Puree, Apple Pulp, Tomato Paste, Sugar, Thickener (Modified Corn Starch), Salt, Acidity Regulators (Acetic Acid, Citric Acid), Molasses, Natural Colour (Caramel I), Smoke Flavour, Spices, Natural Flavour, Vegetable Gum (Xanthan Gum)",
            "Tomatoes (from Paste, Food Acid (Citric))77% , Sugar, Salt, Food Acid (Acetic), Onion, Spice Extract.",
            "Tomatoes (from Paste, Food Acid (Citric)) 45%, Sugar, Water, Cornflour (from Wheat), Food Acids (Acetic, Citric), Salt, Glucose Syrup, Colour (Caramel (150c)), Thickener (Pectin), Tamarind Paste, Yeast Extract, Clove, Nutmeg, Onion 0.5%, Pepper.",
            "Tomato Puree (78%), Sugar, Salt, Food Acid (260), Natural Flavour.",
            "Tomatoes, Sugar, Maize Thickener (1422), Salt, Food Acid (260), Maize Maltodextrin, Molasses, Colour (150d), Natural Flavours, Spices, Stabiliser (415).<br><br><b>May Contain: Soy.</b>",
            "Canola Oil, Water, Sugar, Vinegar, Thickener (1422, Xanthan Gum), Free Range Egg Yolk,  Gherkin, Salt, Onion Powder, Natural Colour (Carotene, Paprika Oleoresins), Preservative (Potassium Sorbate), Dill, Acidity Regulator (Citric Acid), Herb Extract, Mustard Oil.",
            "Canola Oil, Water, Sugar, Vinegar, Thickener (1422, Xanthan Gum), Free Range Egg Yolk,  Gherkin, Salt, Onion Powder, Natural Colour (Carotene, Paprika Oleoresins), Preservative (Potassium Sorbate), Dill, Acidity Regulator (Citric Acid), Herb Extract, Mustard Oil.",
            "Canola Oil, Water, Sugar, Vinegar, Thickener (1422, Xanthan Gum), Free Range Egg Yolk,  Gherkin, Salt, Onion Powder, Natural Colour (Carotene, Paprika Oleoresins), Preservative (Potassium Sorbate), Dill, Acidity Regulator (Citric Acid), Herb Extract, Mustard Oil.",
            "Canola Oil, Water, Sugar, Vinegar, Thickener (1422, Xanthan Gum), Free Range Egg Yolk,  Gherkin, Salt, Onion Powder, Natural Colour (Carotene, Paprika Oleoresins), Preservative (Potassium Sorbate), Dill, Acidity Regulator (Citric Acid), Herb Extract, Mustard Oil.",
            "Concentrated Tomatoes (Contains 146g of Tomatoes per 100mL), Sugar, Salt, Concentrated White Vinegar, Natural Flavours, Food Acid (Citric Acid). Contains 77% Concentrated Tomatoes.",
            "Reconstituted Fruit Puree (51%) (Apple Pulp, Tomato Paste), Sugar, Thickener (Modified Corn Starch), Salt, Acidity Regulators (Acetic Acid, Citric Acid), Molasses, Natural Colour (Caramel I), Smoke Flavour, Spices, Natural Flavour, Vegetable Gum (Xanthan Gum)",
            "100% Natural Spring Water",
            "Australian Spring Water",
            "Potatoes (64%), Canola Oil, Sunflower Oil, Salt, A,ntioxidants (Tocopherols, Ascorbic Acid, Rosemary,Extract, Citric Acid).",
            "Potatoes (61%), Canola Oil, Sunflower Oil, Whey Po,wder (Milk), Cheese Powder (Milk), Salt, Onion Pow,der, Dextrose, Maltodextrin, Mineral Salt (Potassi,um Chloride), Flavour Enhancer (621), Natural Flav,ours (Milk), Yeast Extract, Food Acids (Citric Aci,",
            "Potatoes, Canola Oil, Sunflower Oil, Sugar, Maltod,extrin, Salt, Tomato Powder, Flavour Enhancers (62,1, 635), Food Acids (Sodium Diacetate, Citric Acid,), Flavours, Mineral Salt (Potassium Chloride), On,ion Powder, Garlic Powder, Natural Colour (Paprika,",
            "Potatoes, Canola Oil, Sunflower Oil, Sugar, Maltod,extrin, Salt, Tomato Powder, Flavour Enhancers (62,1, 635), Food Acids (Sodium Diacetate, Citric Acid,), Flavours, Mineral Salt (Potassium Chloride), On,ion Powder, Garlic Powder, Natural Colour (Paprika,",
            "Potatoes, Canola Oil, Sunflower Oil, Sugar, Maltod,extrin, Salt, Tomato Powder, Flavour Enhancers (62,1, 635), Food Acids (Sodium Diacetate, Citric Acid,), Flavours, Mineral Salt (Potassium Chloride), On,ion Powder, Garlic Powder, Natural Colour (Paprika,",
            "Potatoes, Canola Oil, Sunflower Oil, Sugar, Maltod,extrin, Salt, Tomato Powder, Flavour Enhancers (62,1, 635), Food Acids (Sodium Diacetate, Citric Acid,), Flavours, Mineral Salt (Potassium Chloride), On,ion Powder, Garlic Powder, Natural Colour (Paprika,",
            "Potatoes, Canola Oil, Sunflower Oil, Sugar, Maltod,extrin, Salt, Tomato Powder, Flavour Enhancers (62,1, 635), Food Acids (Sodium Diacetate, Citric Acid,), Flavours, Mineral Salt (Potassium Chloride), On,ion Powder, Garlic Powder, Natural Colour (Paprika,",
            "Potatoes (61%), Canola Oil, Sunflower Oil, Maltode,xtrin, Sugar, Salt, Flavour Enhancers (621, 635, 6,20), Flavours (Milk), Mineral Salt (Potassium Chlo,ride), Onion Powder, Yeast Extract, Herb (Parsley),, Spice (Turmeric), Antioxidants (Tocopherols, ASCORBIC ACID, ROSEMARY EXTRACT, CITRIC ACID)",
            "Potatoes, Vegetable Oil, Food Acids (Sodium Diacetate, Acetic Acid), Salt, Mineral Salt (Potassium Chloride), Flavour Enhancer (621), Natural Flavour.",
            "Potatoes (64%), Canola Oil, Sunflower Oil, Salt, Antioxidants (Tocopherols, Ascorbic Acid, Rosemary Extract, Citric Acid).",
            "Potatoes (64%), Canola Oil, Sunflower Oil, Salt, Antioxidants (Tocopherols, Ascorbic Acid, Rosemary Extract, Citric Acid).",
            "Potatoes (64%), Canola Oil, Sunflower Oil, Salt, Antioxidants (Tocopherols, Ascorbic Acid, Rosemary Extract, Citric Acid).",
            "Potatoes (64%), Canola Oil, Sunflower Oil, Salt, Antioxidants (Tocopherols, Ascorbic Acid, Rosemary Extract, Citric Acid).",
            "Potatoes (64%), Canola Oil, Sunflower Oil, Salt, Antioxidants (Tocopherols, Ascorbic Acid, Rosemary Extract, Citric Acid).",
            "Potatoes, Vegetable Oil, Glucose, Salt, Sugar, Vegetable Powder (Onion, Garlic), Flavour Enhancer (621, 635), Mineral Salt (Potassium Chloride), Parsley, Flavours, Food Acid (Citric Acid), Pepper.",
            "Potatoes (61%), Canola Oil, Sunflower Oil, Food Acids (Sodium Diacetate, Citric Acid), Lactose (Milk), Salt, Mineral Salt (Potassium Chloride), Sugar, Flavour Enhancer (621), Dextrose, Natural Flavours, Antioxidants (Tocopherols, Ascorbic Acid, Rosemary Extract).",
            "Potatoes, Vegetable Oil, Sugar, Salt, Whey Powder (<b>Milk</b>), Vegetable Powders (Onion, Tomato), Flavour, Spices and Herb, Buttermilk Powder (<b>Milk</b>), Flavour Enhancer (635).",
            "Jelly (70%) (Water, Sugar, Gelling Agents (Carrageenan, Locust Bean Gum, Xanthan Gum), Acidity Regulators (Sodium Citrate, Potassium Citrate, Calcium Lactate, Malic Acid, Citric Acid), Natural Strawberry Flavour, Natural Colour (Cochineal), Antioxidant (Ascorbic Acid)), Peach (30%)",
            "Fruits (55%) (Peach, Pear), Reconstituted Refined Juice (Water, Concentrated Pear Juice, Antioxidant (Ascorbic Acid), Acidity Regulator (Citric Acid))",
            "Fruits (55%) (Peach, Pear), Reconstituted Refined Juice (Water, Concentrated Pear Juice, Antioxidant (Ascorbic Acid), Acidity Regulator (Citric Acid))",
            "Fruits (55%) (Peach, Pear), Reconstituted Refined Juice (Water, Concentrated Pear Juice, Antioxidant (Ascorbic Acid), Acidity Regulator (Citric Acid))",
            "Fruits (55%) (Peach, Pear), Reconstituted Refined Juice (Water, Concentrated Pear Juice, Antioxidant (Ascorbic Acid), Acidity Regulator (Citric Acid))",
            "Fruits (55%) (Peach, Pear), Reconstituted Refined Juice (Water, Concentrated Pear Juice, Antioxidant (Ascorbic Acid), Acidity Regulator (Citric Acid))",
            "Fruits (55%) (Peach, Pear), Reconstituted Refined Juice (Water, Concentrated Pear Juice, Antioxidant (Ascorbic Acid), Acidity Regulator (Citric Acid))",
            "Two Fruits (59% min.) (Pear, Peach), Refined Fruit Juice (Apple, Grape, Peach, Pear), Antioxidant (Ascorbic Acid), Acidity Regulator (Citric Acid)",
            "Jelly (70%) (Water, Sugar, Gelling Agents (Carrageenan, Locust Bean Gum, Xanthan Gum), Acidity Regulators (Sodium Citrates, Potassium Citrates, Calcium Lactate, Malic Acid, Citric Acid), Natural Flavours (Pineapple, Mango), Natural Colours (Carotene, Paprika Oleoresins), Antioxidant (Ascorbic Acid)), Peach (15%), Pear (15%)",
            "Jelly (70%) (Water, Sugar, Gelling Agents (Carrageenan, Locust Bean Gum, Xanthan Gum), Acidity Regulators (Sodium Citrates, Potassium Citrates, Calcium Lactate, Malic Acid, Citric Acid), Natural Flavours (Pineapple, Mango), Natural Colours (Carotene, Paprika Oleoresins), Antioxidant (Ascorbic Acid)), Peach (15%), Pear (15%)",
            "Jelly (70%) (Water, Sugar, Gelling Agents (Carrageenan, Locust Bean Gum, Xanthan Gum), Acidity Regulators (Sodium Citrates, Potassium Citrates, Calcium Lactate, Malic Acid, Citric Acid), Natural Flavours (Pineapple, Mango), Natural Colours (Carotene, Paprika Oleoresins), Antioxidant (Ascorbic Acid)), Peach (15%), Pear (15%)",
            "Jelly (70%) (Water, Sugar, Gelling Agents (Carrageenan, Locust Bean Gum, Xanthan Gum), Acidity Regulators (Sodium Citrates, Potassium Citrates, Calcium Lactate, Malic Acid, Citric Acid), Natural Flavours (Pineapple, Mango), Natural Colours (Carotene, Paprika Oleoresins), Antioxidant (Ascorbic Acid)), Peach (15%), Pear (15%)",
            "Jelly (70%) (Water, Sugar, Gelling Agents (Carrageenan, Locust Bean Gum, Xanthan Gum), Acidity Regulators (Sodium Citrates, Potassium Citrates, Calcium Lactate, Malic Acid, Citric Acid), Natural Flavours (Pineapple, Mango), Natural Colours (Carotene, Paprika Oleoresins), Antioxidant (Ascorbic Acid)), Peach (15%), Pear (15%)",
            "Jelly (70%) (Water, Sugar, Gelling Agents (Carrageenan, Locust Bean Gum, Xanthan Gum), Acidity Regulators (Sodium Citrate, Potassium Citrate, Calcium Lactate, Malic Acid, Citric Acid), Natural Pineapple Flavour, Natural Colour (Carotene), Antioxidant (Ascorbic Acid)), Apple (30%)",
            "Australian Grown Two Fruits (62%)Diced Pears & Peaches, Refined Fruit Juice, Antioxidant (Ascorbic Acid).",
            "Pineapple (72%), Water, Sugar, Acidity Regulator (Citric Acid).",
            "Pineapple (73%), Pineapple Juice, Water, Clarified Pineapple Juice Concentrate.",
            "Two Fruits (62%)Australian Grown Diced Pears and Peaches, Refined Fruit Juice, Antioxidant (Ascorbic Acid)."
           ]
          ]
         },
         "header": {
          "align": "left",
          "fill": {
           "color": "paleturquoise"
          },
          "values": [
           "Manufacturingprocess",
           "Recipe"
          ]
         },
         "type": "table"
        }
       ],
       "layout": {
        "template": {
         "data": {
          "bar": [
           {
            "error_x": {
             "color": "#2a3f5f"
            },
            "error_y": {
             "color": "#2a3f5f"
            },
            "marker": {
             "line": {
              "color": "#E5ECF6",
              "width": 0.5
             },
             "pattern": {
              "fillmode": "overlay",
              "size": 10,
              "solidity": 0.2
             }
            },
            "type": "bar"
           }
          ],
          "barpolar": [
           {
            "marker": {
             "line": {
              "color": "#E5ECF6",
              "width": 0.5
             },
             "pattern": {
              "fillmode": "overlay",
              "size": 10,
              "solidity": 0.2
             }
            },
            "type": "barpolar"
           }
          ],
          "carpet": [
           {
            "aaxis": {
             "endlinecolor": "#2a3f5f",
             "gridcolor": "white",
             "linecolor": "white",
             "minorgridcolor": "white",
             "startlinecolor": "#2a3f5f"
            },
            "baxis": {
             "endlinecolor": "#2a3f5f",
             "gridcolor": "white",
             "linecolor": "white",
             "minorgridcolor": "white",
             "startlinecolor": "#2a3f5f"
            },
            "type": "carpet"
           }
          ],
          "choropleth": [
           {
            "colorbar": {
             "outlinewidth": 0,
             "ticks": ""
            },
            "type": "choropleth"
           }
          ],
          "contour": [
           {
            "colorbar": {
             "outlinewidth": 0,
             "ticks": ""
            },
            "colorscale": [
             [
              0,
              "#0d0887"
             ],
             [
              0.1111111111111111,
              "#46039f"
             ],
             [
              0.2222222222222222,
              "#7201a8"
             ],
             [
              0.3333333333333333,
              "#9c179e"
             ],
             [
              0.4444444444444444,
              "#bd3786"
             ],
             [
              0.5555555555555556,
              "#d8576b"
             ],
             [
              0.6666666666666666,
              "#ed7953"
             ],
             [
              0.7777777777777778,
              "#fb9f3a"
             ],
             [
              0.8888888888888888,
              "#fdca26"
             ],
             [
              1,
              "#f0f921"
             ]
            ],
            "type": "contour"
           }
          ],
          "contourcarpet": [
           {
            "colorbar": {
             "outlinewidth": 0,
             "ticks": ""
            },
            "type": "contourcarpet"
           }
          ],
          "heatmap": [
           {
            "colorbar": {
             "outlinewidth": 0,
             "ticks": ""
            },
            "colorscale": [
             [
              0,
              "#0d0887"
             ],
             [
              0.1111111111111111,
              "#46039f"
             ],
             [
              0.2222222222222222,
              "#7201a8"
             ],
             [
              0.3333333333333333,
              "#9c179e"
             ],
             [
              0.4444444444444444,
              "#bd3786"
             ],
             [
              0.5555555555555556,
              "#d8576b"
             ],
             [
              0.6666666666666666,
              "#ed7953"
             ],
             [
              0.7777777777777778,
              "#fb9f3a"
             ],
             [
              0.8888888888888888,
              "#fdca26"
             ],
             [
              1,
              "#f0f921"
             ]
            ],
            "type": "heatmap"
           }
          ],
          "heatmapgl": [
           {
            "colorbar": {
             "outlinewidth": 0,
             "ticks": ""
            },
            "colorscale": [
             [
              0,
              "#0d0887"
             ],
             [
              0.1111111111111111,
              "#46039f"
             ],
             [
              0.2222222222222222,
              "#7201a8"
             ],
             [
              0.3333333333333333,
              "#9c179e"
             ],
             [
              0.4444444444444444,
              "#bd3786"
             ],
             [
              0.5555555555555556,
              "#d8576b"
             ],
             [
              0.6666666666666666,
              "#ed7953"
             ],
             [
              0.7777777777777778,
              "#fb9f3a"
             ],
             [
              0.8888888888888888,
              "#fdca26"
             ],
             [
              1,
              "#f0f921"
             ]
            ],
            "type": "heatmapgl"
           }
          ],
          "histogram": [
           {
            "marker": {
             "pattern": {
              "fillmode": "overlay",
              "size": 10,
              "solidity": 0.2
             }
            },
            "type": "histogram"
           }
          ],
          "histogram2d": [
           {
            "colorbar": {
             "outlinewidth": 0,
             "ticks": ""
            },
            "colorscale": [
             [
              0,
              "#0d0887"
             ],
             [
              0.1111111111111111,
              "#46039f"
             ],
             [
              0.2222222222222222,
              "#7201a8"
             ],
             [
              0.3333333333333333,
              "#9c179e"
             ],
             [
              0.4444444444444444,
              "#bd3786"
             ],
             [
              0.5555555555555556,
              "#d8576b"
             ],
             [
              0.6666666666666666,
              "#ed7953"
             ],
             [
              0.7777777777777778,
              "#fb9f3a"
             ],
             [
              0.8888888888888888,
              "#fdca26"
             ],
             [
              1,
              "#f0f921"
             ]
            ],
            "type": "histogram2d"
           }
          ],
          "histogram2dcontour": [
           {
            "colorbar": {
             "outlinewidth": 0,
             "ticks": ""
            },
            "colorscale": [
             [
              0,
              "#0d0887"
             ],
             [
              0.1111111111111111,
              "#46039f"
             ],
             [
              0.2222222222222222,
              "#7201a8"
             ],
             [
              0.3333333333333333,
              "#9c179e"
             ],
             [
              0.4444444444444444,
              "#bd3786"
             ],
             [
              0.5555555555555556,
              "#d8576b"
             ],
             [
              0.6666666666666666,
              "#ed7953"
             ],
             [
              0.7777777777777778,
              "#fb9f3a"
             ],
             [
              0.8888888888888888,
              "#fdca26"
             ],
             [
              1,
              "#f0f921"
             ]
            ],
            "type": "histogram2dcontour"
           }
          ],
          "mesh3d": [
           {
            "colorbar": {
             "outlinewidth": 0,
             "ticks": ""
            },
            "type": "mesh3d"
           }
          ],
          "parcoords": [
           {
            "line": {
             "colorbar": {
              "outlinewidth": 0,
              "ticks": ""
             }
            },
            "type": "parcoords"
           }
          ],
          "pie": [
           {
            "automargin": true,
            "type": "pie"
           }
          ],
          "scatter": [
           {
            "fillpattern": {
             "fillmode": "overlay",
             "size": 10,
             "solidity": 0.2
            },
            "type": "scatter"
           }
          ],
          "scatter3d": [
           {
            "line": {
             "colorbar": {
              "outlinewidth": 0,
              "ticks": ""
             }
            },
            "marker": {
             "colorbar": {
              "outlinewidth": 0,
              "ticks": ""
             }
            },
            "type": "scatter3d"
           }
          ],
          "scattercarpet": [
           {
            "marker": {
             "colorbar": {
              "outlinewidth": 0,
              "ticks": ""
             }
            },
            "type": "scattercarpet"
           }
          ],
          "scattergeo": [
           {
            "marker": {
             "colorbar": {
              "outlinewidth": 0,
              "ticks": ""
             }
            },
            "type": "scattergeo"
           }
          ],
          "scattergl": [
           {
            "marker": {
             "colorbar": {
              "outlinewidth": 0,
              "ticks": ""
             }
            },
            "type": "scattergl"
           }
          ],
          "scattermapbox": [
           {
            "marker": {
             "colorbar": {
              "outlinewidth": 0,
              "ticks": ""
             }
            },
            "type": "scattermapbox"
           }
          ],
          "scatterpolar": [
           {
            "marker": {
             "colorbar": {
              "outlinewidth": 0,
              "ticks": ""
             }
            },
            "type": "scatterpolar"
           }
          ],
          "scatterpolargl": [
           {
            "marker": {
             "colorbar": {
              "outlinewidth": 0,
              "ticks": ""
             }
            },
            "type": "scatterpolargl"
           }
          ],
          "scatterternary": [
           {
            "marker": {
             "colorbar": {
              "outlinewidth": 0,
              "ticks": ""
             }
            },
            "type": "scatterternary"
           }
          ],
          "surface": [
           {
            "colorbar": {
             "outlinewidth": 0,
             "ticks": ""
            },
            "colorscale": [
             [
              0,
              "#0d0887"
             ],
             [
              0.1111111111111111,
              "#46039f"
             ],
             [
              0.2222222222222222,
              "#7201a8"
             ],
             [
              0.3333333333333333,
              "#9c179e"
             ],
             [
              0.4444444444444444,
              "#bd3786"
             ],
             [
              0.5555555555555556,
              "#d8576b"
             ],
             [
              0.6666666666666666,
              "#ed7953"
             ],
             [
              0.7777777777777778,
              "#fb9f3a"
             ],
             [
              0.8888888888888888,
              "#fdca26"
             ],
             [
              1,
              "#f0f921"
             ]
            ],
            "type": "surface"
           }
          ],
          "table": [
           {
            "cells": {
             "fill": {
              "color": "#EBF0F8"
             },
             "line": {
              "color": "white"
             }
            },
            "header": {
             "fill": {
              "color": "#C8D4E3"
             },
             "line": {
              "color": "white"
             }
            },
            "type": "table"
           }
          ]
         },
         "layout": {
          "annotationdefaults": {
           "arrowcolor": "#2a3f5f",
           "arrowhead": 0,
           "arrowwidth": 1
          },
          "autotypenumbers": "strict",
          "coloraxis": {
           "colorbar": {
            "outlinewidth": 0,
            "ticks": ""
           }
          },
          "colorscale": {
           "diverging": [
            [
             0,
             "#8e0152"
            ],
            [
             0.1,
             "#c51b7d"
            ],
            [
             0.2,
             "#de77ae"
            ],
            [
             0.3,
             "#f1b6da"
            ],
            [
             0.4,
             "#fde0ef"
            ],
            [
             0.5,
             "#f7f7f7"
            ],
            [
             0.6,
             "#e6f5d0"
            ],
            [
             0.7,
             "#b8e186"
            ],
            [
             0.8,
             "#7fbc41"
            ],
            [
             0.9,
             "#4d9221"
            ],
            [
             1,
             "#276419"
            ]
           ],
           "sequential": [
            [
             0,
             "#0d0887"
            ],
            [
             0.1111111111111111,
             "#46039f"
            ],
            [
             0.2222222222222222,
             "#7201a8"
            ],
            [
             0.3333333333333333,
             "#9c179e"
            ],
            [
             0.4444444444444444,
             "#bd3786"
            ],
            [
             0.5555555555555556,
             "#d8576b"
            ],
            [
             0.6666666666666666,
             "#ed7953"
            ],
            [
             0.7777777777777778,
             "#fb9f3a"
            ],
            [
             0.8888888888888888,
             "#fdca26"
            ],
            [
             1,
             "#f0f921"
            ]
           ],
           "sequentialminus": [
            [
             0,
             "#0d0887"
            ],
            [
             0.1111111111111111,
             "#46039f"
            ],
            [
             0.2222222222222222,
             "#7201a8"
            ],
            [
             0.3333333333333333,
             "#9c179e"
            ],
            [
             0.4444444444444444,
             "#bd3786"
            ],
            [
             0.5555555555555556,
             "#d8576b"
            ],
            [
             0.6666666666666666,
             "#ed7953"
            ],
            [
             0.7777777777777778,
             "#fb9f3a"
            ],
            [
             0.8888888888888888,
             "#fdca26"
            ],
            [
             1,
             "#f0f921"
            ]
           ]
          },
          "colorway": [
           "#636efa",
           "#EF553B",
           "#00cc96",
           "#ab63fa",
           "#FFA15A",
           "#19d3f3",
           "#FF6692",
           "#B6E880",
           "#FF97FF",
           "#FECB52"
          ],
          "font": {
           "color": "#2a3f5f"
          },
          "geo": {
           "bgcolor": "white",
           "lakecolor": "white",
           "landcolor": "#E5ECF6",
           "showlakes": true,
           "showland": true,
           "subunitcolor": "white"
          },
          "hoverlabel": {
           "align": "left"
          },
          "hovermode": "closest",
          "mapbox": {
           "style": "light"
          },
          "paper_bgcolor": "white",
          "plot_bgcolor": "#E5ECF6",
          "polar": {
           "angularaxis": {
            "gridcolor": "white",
            "linecolor": "white",
            "ticks": ""
           },
           "bgcolor": "#E5ECF6",
           "radialaxis": {
            "gridcolor": "white",
            "linecolor": "white",
            "ticks": ""
           }
          },
          "scene": {
           "xaxis": {
            "backgroundcolor": "#E5ECF6",
            "gridcolor": "white",
            "gridwidth": 2,
            "linecolor": "white",
            "showbackground": true,
            "ticks": "",
            "zerolinecolor": "white"
           },
           "yaxis": {
            "backgroundcolor": "#E5ECF6",
            "gridcolor": "white",
            "gridwidth": 2,
            "linecolor": "white",
            "showbackground": true,
            "ticks": "",
            "zerolinecolor": "white"
           },
           "zaxis": {
            "backgroundcolor": "#E5ECF6",
            "gridcolor": "white",
            "gridwidth": 2,
            "linecolor": "white",
            "showbackground": true,
            "ticks": "",
            "zerolinecolor": "white"
           }
          },
          "shapedefaults": {
           "line": {
            "color": "#2a3f5f"
           }
          },
          "ternary": {
           "aaxis": {
            "gridcolor": "white",
            "linecolor": "white",
            "ticks": ""
           },
           "baxis": {
            "gridcolor": "white",
            "linecolor": "white",
            "ticks": ""
           },
           "bgcolor": "#E5ECF6",
           "caxis": {
            "gridcolor": "white",
            "linecolor": "white",
            "ticks": ""
           }
          },
          "title": {
           "x": 0.05
          },
          "xaxis": {
           "automargin": true,
           "gridcolor": "white",
           "linecolor": "white",
           "ticks": "",
           "title": {
            "standoff": 15
           },
           "zerolinecolor": "white",
           "zerolinewidth": 2
          },
          "yaxis": {
           "automargin": true,
           "gridcolor": "white",
           "linecolor": "white",
           "ticks": "",
           "title": {
            "standoff": 15
           },
           "zerolinecolor": "white",
           "zerolinewidth": 2
          }
         }
        },
        "title": {
         "text": "Manufacturingprocess and Their Recipes"
        }
       }
      }
     },
     "metadata": {},
     "output_type": "display_data"
    }
   ],
   "source": [
    "def get_manufacturingprocess_recipes():\n",
    "    manufacturingprocesss = []\n",
    "    recipes = []\n",
    "    with driver.session() as session:\n",
    "        result = session.run(query)\n",
    "        for record in result:\n",
    "            manufacturingprocess = record[\"Manufacturingprocess\"]\n",
    "            recipe = record[\"Recipe\"]\n",
    "            \n",
    "            # Check for None values and replace with empty string\n",
    "            manufacturingprocess = manufacturingprocess if manufacturingprocess is not None else \"\"\n",
    "            recipe = recipe if recipe is not None else \"\"\n",
    "            \n",
    "            manufacturingprocesss.append(manufacturingprocess)\n",
    "            recipes.append(recipe)\n",
    "    return manufacturingprocesss, recipes\n",
    "\n",
    "\n",
    "manufacturingprocesss, recipes = get_manufacturingprocess_recipes()\n",
    "\n",
    "# Creating Text Charts\n",
    "fig = go.Figure(data=[go.Table(\n",
    "    header=dict(values=['Manufacturingprocess', 'Recipe'],\n",
    "                fill_color='paleturquoise',\n",
    "                align='left'),\n",
    "    cells=dict(values=[manufacturingprocesss, recipes],\n",
    "               fill_color='lavender',\n",
    "               align='left'))\n",
    "])\n",
    "\n",
    "fig.update_layout(\n",
    "    title=\"Manufacturingprocess and Their Recipes\"\n",
    ")\n",
    "\n",
    "fig.show()\n"
   ]
  },
  {
   "cell_type": "code",
   "execution_count": 10,
   "metadata": {},
   "outputs": [
    {
     "data": {
      "application/vnd.plotly.v1+json": {
       "config": {
        "plotlyServerURL": "https://plot.ly"
       },
       "data": [
        {
         "cells": {
          "align": "left",
          "fill": {
           "color": "lavender"
          },
          "values": [
           [
            "Step 1: The wheat flour is mixed with water to form a dough.",
            "Step 2: The dough is rolled out and cut into noodles.",
            "Step 3: The noodles are fried in refined palm oil.",
            "Step 4: The seasoning powder is made by mixing salt, sugar, flavour enhancers, garlic powder, onion powder, yeast extract, artificial flavour, pepper, and anti caking agent.",
            "Step 5: The seasoning oil is made by mixing refined palm oil and onion.",
            "Step 6: The sweet soy sauce is made by mixing sugar, water, salt, wheat, soy bean, spices, and sesame oil.",
            "Step 7: The chilli sauce is made by mixing chilli, water, sugar, salt, tapioca starch, acidity regulators, herbs, flavour enhancers, flavours, and preservatives.",
            "Step 8: The fried onion is made by frying onion in refined palm oil.",
            "1. The wheat flour, sugar, vegetable oil, cocoa powder, fructose syrup, cornstarch, salt, raising agents, emulsifier, flavor, antioxidant, minerals, and vitamins are mixed together to form the cookie dough.",
            "2. The dough is then shaped into small, round cookies and baked until crispy.",
            "3. For the strawberry flavor, food acid and color are added to the dough before baking.",
            "4. After baking, the cookies are cooled and filled with a sweet cream filling.",
            "5. The cookies are then packaged into bags of 18 packs.",
            "Mixing and blending dry ingredients, including wheat flour, sugar, cocoa powder, and raising agents.",
            "Adding and mixing wet ingredients, such as vegetable oil, fructose syrup, and emulsifiers.",
            "Forming the dough and allowing it to rest.",
            "Sheeting and cutting the dough into round wafers.",
            "Baking the wafers at controlled temperatures.",
            "Preparing the vanilla creme filling by blending sugar, cornstarch, and other ingredients.",
            "Piping or spreading the creme filling onto one wafer.",
            "Assembling the sandwich cookies by topping the creme-filled wafer with a second wafer.",
            "Cooling and packaging the cookies for distribution.",
            "1. Apples and mangoes are harvested and processed to extract juice",
            "2. The juices are reconstituted to specific concentrations (95.8% apple juice, 4.0% mango juice)",
            "3. Citric acid is added to regulate acidity",
            "4. Vitamin C is added for fortification",
            "5. Natural flavours are introduced to enhance taste",
            "6. The mixture is pasteurized to ensure safety and stability",
            "7. The juice is packaged in aseptic containers for distribution",
            "Step 1: The fruit juices are extracted from pear, apple, pineapple, and passionfruit",
            "Step 2: The fruit juices are reconstituted with water",
            "Step 3: Sugar, food acids, and vitamin C are added to the mixture",
            "Step 4: The mixture is pasteurized to kill any bacteria and extend shelf life",
            "Step 5: The beverage is packaged in aseptic containers to maintain freshness",
            "Step 1: Extracting fruit juices and purées from apples, pears, pineapples, oranges, peaches, and passionfruits.",
            "Step 2: Combining the fruit juices and purées with water, sugar, food acids, vitamin C, natural flavors, and pectin.",
            "Step 3: Homogenizing the mixture to ensure a consistent texture and even distribution of ingredients.",
            "Step 4: Pasteurizing the mixture to kill any microorganisms and ensure a stable shelf life.",
            "Step 5: Filling the drink into containers, sealing, and cooling for storage and distribution.",
            "Step 1: Extraction of fruit juices from pear, apple, pineapple, orange, peach, and passionfruit",
            "Step 2: Blending of the fruit juices to create the tropical punch flavor",
            "Step 3: Addition of sugar and food acids (citric acid and potassium citrate) to enhance the flavor and preserve the product",
            "Step 4: Incorporation of natural flavors to enhance the fruit taste",
            "Step 5: Homogenization and pasteurization of the mixture to ensure safety and consistency",
            "Step 6: Filling and sealing of the individual containers",
            "Step 7: Packing the individual containers into multipacks",
            "Step 1: Canola oil, water, sugar, and vinegar are mixed together in a large vat.",
            "Step 2: Thickeners, egg yolk, gherkins, salt, onion powder, natural colors, preservatives, dill, acidity regulators, and herb extracts are added to the mixture.",
            "Step 3: The mixture is heated to a specific temperature to ensure proper mixing and emulsification.",
            "Step 4: The mixture is cooled and bottled for distribution.",
            "Potatoes are washed, peeled, and sliced into crinkle-cut shapes.",
            "The sliced potatoes are blanched in a mixture of canola and sunflower oils.",
            "The blanched potatoes are then fried in the same oil mixture until they are golden brown and crispy.",
            "While the potatoes are still hot, they are seasoned with a mixture of sugar, maltodextrin, salt, tomato powder, flavor enhancers, food acids, onion powder, and garlic powder.",
            "The seasoned chips are then cooled and packaged for distribution.",
            "Step 1: Potatoes are washed, peeled, and thinly sliced",
            "Step 2: The sliced potatoes are blanched to remove excess starch",
            "Step 3: The potatoes are then fried in a blend of canola and sunflower oils",
            "Step 4: After frying, the chips are seasoned with salt and a mix of antioxidants",
            "Step 5: The chips are packaged in a share pack for consumption",
            "Step 1: Fruits (peach and pear) are sorted, washed, and prepared for processing",
            "Step 2: The fruits are chopped and blended to form a puree",
            "Step 3: The fruit puree is mixed with reconstituted refined juice (made from concentrated pear juice, water, antioxidant (ascorbic acid), and acidity regulator (citric acid))",
            "Step 4: The mixture is homogenized to ensure even distribution of fruit chunks and juice",
            "Step 5: The product is filled into cups, sealed, and pasteurized for preservation",
            "Step 6: The cups are labeled, packaged, and prepared for distribution",
            "Step 1: Preparation of Jelly - Water, sugar, and gelling agents are combined and heated to dissolve the sugar and activate the gelling agents.",
            "Step 2: Addition of Natural Flavours and Colours - Once the jelly base is prepared, natural flavours and colours are added to give it a tropical flavour and vibrant colour.",
            "Step 3: Acidification - Acidity regulators are added to balance the pH and enhance the flavour of the jelly.",
            "Step 4: Fruit Preparation - Peach and pear pieces are prepared and added to the jelly mixture.",
            "Step 5: Filling and Setting - The mixture is filled into containers and allowed to set in a cool environment."
           ],
           [
            "Noodles: Wheat Flour (62%), Refined Palm Oil (Contains Antioxidant 319), Salt, Acidity Regulators (451, 501, 500), Thickener (412), Colour (101).<br>Seasoning Powder: Salt, Sugar, Flavour Enhancers (621, 631, 627), Garlic Powder, Onion Powder, Yeast Extract, Artificial Flavour, Pepper, Anti Caking Agent (551).<br>Seasoning Oil: Refined Palm Oil (Contains Antioxidant 319), Onion.<br>Sweet Soy Sauce: Sugar, Water, Salt, Wheat, Soy Bean, Spices, Sesame Oil.<br>Chilli Sauce: Chilli, Water, Sugar, Salt, Tapioca Starch, Acidity Regulators (260, 330), Herbs, Flavour Enhancers (621, 627, 631), Flavours, Preservatives 1211, 223). Fried Onion: Onion, Refined Palm Oil (Contains Antioxidant 319).",
            "Noodles: Wheat Flour (62%), Refined Palm Oil (Contains Antioxidant 319), Salt, Acidity Regulators (451, 501, 500), Thickener (412), Colour (101).<br>Seasoning Powder: Salt, Sugar, Flavour Enhancers (621, 631, 627), Garlic Powder, Onion Powder, Yeast Extract, Artificial Flavour, Pepper, Anti Caking Agent (551).<br>Seasoning Oil: Refined Palm Oil (Contains Antioxidant 319), Onion.<br>Sweet Soy Sauce: Sugar, Water, Salt, Wheat, Soy Bean, Spices, Sesame Oil.<br>Chilli Sauce: Chilli, Water, Sugar, Salt, Tapioca Starch, Acidity Regulators (260, 330), Herbs, Flavour Enhancers (621, 627, 631), Flavours, Preservatives 1211, 223). Fried Onion: Onion, Refined Palm Oil (Contains Antioxidant 319).",
            "Noodles: Wheat Flour (62%), Refined Palm Oil (Contains Antioxidant 319), Salt, Acidity Regulators (451, 501, 500), Thickener (412), Colour (101).<br>Seasoning Powder: Salt, Sugar, Flavour Enhancers (621, 631, 627), Garlic Powder, Onion Powder, Yeast Extract, Artificial Flavour, Pepper, Anti Caking Agent (551).<br>Seasoning Oil: Refined Palm Oil (Contains Antioxidant 319), Onion.<br>Sweet Soy Sauce: Sugar, Water, Salt, Wheat, Soy Bean, Spices, Sesame Oil.<br>Chilli Sauce: Chilli, Water, Sugar, Salt, Tapioca Starch, Acidity Regulators (260, 330), Herbs, Flavour Enhancers (621, 627, 631), Flavours, Preservatives 1211, 223). Fried Onion: Onion, Refined Palm Oil (Contains Antioxidant 319).",
            "Noodles: Wheat Flour (62%), Refined Palm Oil (Contains Antioxidant 319), Salt, Acidity Regulators (451, 501, 500), Thickener (412), Colour (101).<br>Seasoning Powder: Salt, Sugar, Flavour Enhancers (621, 631, 627), Garlic Powder, Onion Powder, Yeast Extract, Artificial Flavour, Pepper, Anti Caking Agent (551).<br>Seasoning Oil: Refined Palm Oil (Contains Antioxidant 319), Onion.<br>Sweet Soy Sauce: Sugar, Water, Salt, Wheat, Soy Bean, Spices, Sesame Oil.<br>Chilli Sauce: Chilli, Water, Sugar, Salt, Tapioca Starch, Acidity Regulators (260, 330), Herbs, Flavour Enhancers (621, 627, 631), Flavours, Preservatives 1211, 223). Fried Onion: Onion, Refined Palm Oil (Contains Antioxidant 319).",
            "Noodles: Wheat Flour (62%), Refined Palm Oil (Contains Antioxidant 319), Salt, Acidity Regulators (451, 501, 500), Thickener (412), Colour (101).<br>Seasoning Powder: Salt, Sugar, Flavour Enhancers (621, 631, 627), Garlic Powder, Onion Powder, Yeast Extract, Artificial Flavour, Pepper, Anti Caking Agent (551).<br>Seasoning Oil: Refined Palm Oil (Contains Antioxidant 319), Onion.<br>Sweet Soy Sauce: Sugar, Water, Salt, Wheat, Soy Bean, Spices, Sesame Oil.<br>Chilli Sauce: Chilli, Water, Sugar, Salt, Tapioca Starch, Acidity Regulators (260, 330), Herbs, Flavour Enhancers (621, 627, 631), Flavours, Preservatives 1211, 223). Fried Onion: Onion, Refined Palm Oil (Contains Antioxidant 319).",
            "Noodles: Wheat Flour (62%), Refined Palm Oil (Contains Antioxidant 319), Salt, Acidity Regulators (451, 501, 500), Thickener (412), Colour (101).<br>Seasoning Powder: Salt, Sugar, Flavour Enhancers (621, 631, 627), Garlic Powder, Onion Powder, Yeast Extract, Artificial Flavour, Pepper, Anti Caking Agent (551).<br>Seasoning Oil: Refined Palm Oil (Contains Antioxidant 319), Onion.<br>Sweet Soy Sauce: Sugar, Water, Salt, Wheat, Soy Bean, Spices, Sesame Oil.<br>Chilli Sauce: Chilli, Water, Sugar, Salt, Tapioca Starch, Acidity Regulators (260, 330), Herbs, Flavour Enhancers (621, 627, 631), Flavours, Preservatives 1211, 223). Fried Onion: Onion, Refined Palm Oil (Contains Antioxidant 319).",
            "Noodles: Wheat Flour (62%), Refined Palm Oil (Contains Antioxidant 319), Salt, Acidity Regulators (451, 501, 500), Thickener (412), Colour (101).<br>Seasoning Powder: Salt, Sugar, Flavour Enhancers (621, 631, 627), Garlic Powder, Onion Powder, Yeast Extract, Artificial Flavour, Pepper, Anti Caking Agent (551).<br>Seasoning Oil: Refined Palm Oil (Contains Antioxidant 319), Onion.<br>Sweet Soy Sauce: Sugar, Water, Salt, Wheat, Soy Bean, Spices, Sesame Oil.<br>Chilli Sauce: Chilli, Water, Sugar, Salt, Tapioca Starch, Acidity Regulators (260, 330), Herbs, Flavour Enhancers (621, 627, 631), Flavours, Preservatives 1211, 223). Fried Onion: Onion, Refined Palm Oil (Contains Antioxidant 319).",
            "Noodles: Wheat Flour (62%), Refined Palm Oil (Contains Antioxidant 319), Salt, Acidity Regulators (451, 501, 500), Thickener (412), Colour (101).<br>Seasoning Powder: Salt, Sugar, Flavour Enhancers (621, 631, 627), Garlic Powder, Onion Powder, Yeast Extract, Artificial Flavour, Pepper, Anti Caking Agent (551).<br>Seasoning Oil: Refined Palm Oil (Contains Antioxidant 319), Onion.<br>Sweet Soy Sauce: Sugar, Water, Salt, Wheat, Soy Bean, Spices, Sesame Oil.<br>Chilli Sauce: Chilli, Water, Sugar, Salt, Tapioca Starch, Acidity Regulators (260, 330), Herbs, Flavour Enhancers (621, 627, 631), Flavours, Preservatives 1211, 223). Fried Onion: Onion, Refined Palm Oil (Contains Antioxidant 319).",
            "Mini Oreo Original Wheat Flour, Sugar, Vegetable Oil, Cocoa Powder, Fructose Syrup, Cornstarch, Salt, Raising Agents (500, 503), Emulsifier (Soy Lecithin), Flavour, Antioxidant (319), Minerals (Iron, Zinc), Vitamins (Riboflavin, Thiamin, Folate). Mini Oreo ChocolateWheat Flour, Sugar, Vegetable Oil, Cocoa Powder, Fructose Syrup, Cornstarch, Salt, Raising Agents (500, 503), Emulsifier (Soy Lecithin), Flavour, Antioxidant (319), Minerals (Iron, Zinc), Vitamins (Riboflavin, Thiamin, Folate). Mini Oreo StrawberryWheat Flou, Sugar, Vegetable Oil, Cocoa Powder, Fructose Syrup, Cornstarch, Salt, Raising Agents (500, 503), Emulsifier (Soy Lecithin), Flavours, Food Acid (330), Colour (120), Minerals (Iron, Zinc), Antioxidant (319), Vitamins (Riboflavin, Thiamin, Folate).",
            "Mini Oreo Original Wheat Flour, Sugar, Vegetable Oil, Cocoa Powder, Fructose Syrup, Cornstarch, Salt, Raising Agents (500, 503), Emulsifier (Soy Lecithin), Flavour, Antioxidant (319), Minerals (Iron, Zinc), Vitamins (Riboflavin, Thiamin, Folate). Mini Oreo ChocolateWheat Flour, Sugar, Vegetable Oil, Cocoa Powder, Fructose Syrup, Cornstarch, Salt, Raising Agents (500, 503), Emulsifier (Soy Lecithin), Flavour, Antioxidant (319), Minerals (Iron, Zinc), Vitamins (Riboflavin, Thiamin, Folate). Mini Oreo StrawberryWheat Flou, Sugar, Vegetable Oil, Cocoa Powder, Fructose Syrup, Cornstarch, Salt, Raising Agents (500, 503), Emulsifier (Soy Lecithin), Flavours, Food Acid (330), Colour (120), Minerals (Iron, Zinc), Antioxidant (319), Vitamins (Riboflavin, Thiamin, Folate).",
            "Mini Oreo Original Wheat Flour, Sugar, Vegetable Oil, Cocoa Powder, Fructose Syrup, Cornstarch, Salt, Raising Agents (500, 503), Emulsifier (Soy Lecithin), Flavour, Antioxidant (319), Minerals (Iron, Zinc), Vitamins (Riboflavin, Thiamin, Folate). Mini Oreo ChocolateWheat Flour, Sugar, Vegetable Oil, Cocoa Powder, Fructose Syrup, Cornstarch, Salt, Raising Agents (500, 503), Emulsifier (Soy Lecithin), Flavour, Antioxidant (319), Minerals (Iron, Zinc), Vitamins (Riboflavin, Thiamin, Folate). Mini Oreo StrawberryWheat Flou, Sugar, Vegetable Oil, Cocoa Powder, Fructose Syrup, Cornstarch, Salt, Raising Agents (500, 503), Emulsifier (Soy Lecithin), Flavours, Food Acid (330), Colour (120), Minerals (Iron, Zinc), Antioxidant (319), Vitamins (Riboflavin, Thiamin, Folate).",
            "Mini Oreo Original Wheat Flour, Sugar, Vegetable Oil, Cocoa Powder, Fructose Syrup, Cornstarch, Salt, Raising Agents (500, 503), Emulsifier (Soy Lecithin), Flavour, Antioxidant (319), Minerals (Iron, Zinc), Vitamins (Riboflavin, Thiamin, Folate). Mini Oreo ChocolateWheat Flour, Sugar, Vegetable Oil, Cocoa Powder, Fructose Syrup, Cornstarch, Salt, Raising Agents (500, 503), Emulsifier (Soy Lecithin), Flavour, Antioxidant (319), Minerals (Iron, Zinc), Vitamins (Riboflavin, Thiamin, Folate). Mini Oreo StrawberryWheat Flou, Sugar, Vegetable Oil, Cocoa Powder, Fructose Syrup, Cornstarch, Salt, Raising Agents (500, 503), Emulsifier (Soy Lecithin), Flavours, Food Acid (330), Colour (120), Minerals (Iron, Zinc), Antioxidant (319), Vitamins (Riboflavin, Thiamin, Folate).",
            "Mini Oreo Original Wheat Flour, Sugar, Vegetable Oil, Cocoa Powder, Fructose Syrup, Cornstarch, Salt, Raising Agents (500, 503), Emulsifier (Soy Lecithin), Flavour, Antioxidant (319), Minerals (Iron, Zinc), Vitamins (Riboflavin, Thiamin, Folate). Mini Oreo ChocolateWheat Flour, Sugar, Vegetable Oil, Cocoa Powder, Fructose Syrup, Cornstarch, Salt, Raising Agents (500, 503), Emulsifier (Soy Lecithin), Flavour, Antioxidant (319), Minerals (Iron, Zinc), Vitamins (Riboflavin, Thiamin, Folate). Mini Oreo StrawberryWheat Flou, Sugar, Vegetable Oil, Cocoa Powder, Fructose Syrup, Cornstarch, Salt, Raising Agents (500, 503), Emulsifier (Soy Lecithin), Flavours, Food Acid (330), Colour (120), Minerals (Iron, Zinc), Antioxidant (319), Vitamins (Riboflavin, Thiamin, Folate).",
            "Chocolate flavoured sandwich cookies with vanilla flavoured creme (29%)Wheat Flour, Sugar, Vegetable Oil, Cocoa Powder, Fructose Syrup, Cornstarch, Salt, Raising Agents (500, 503), Emulsifier (Soy Lecithin), Flavour, Antioxidant (319), Minerals (Iron, Zinc), Vitamins (Riboflavin, Thiamin, Folate)",
            "Chocolate flavoured sandwich cookies with vanilla flavoured creme (29%)Wheat Flour, Sugar, Vegetable Oil, Cocoa Powder, Fructose Syrup, Cornstarch, Salt, Raising Agents (500, 503), Emulsifier (Soy Lecithin), Flavour, Antioxidant (319), Minerals (Iron, Zinc), Vitamins (Riboflavin, Thiamin, Folate)",
            "Chocolate flavoured sandwich cookies with vanilla flavoured creme (29%)Wheat Flour, Sugar, Vegetable Oil, Cocoa Powder, Fructose Syrup, Cornstarch, Salt, Raising Agents (500, 503), Emulsifier (Soy Lecithin), Flavour, Antioxidant (319), Minerals (Iron, Zinc), Vitamins (Riboflavin, Thiamin, Folate)",
            "Chocolate flavoured sandwich cookies with vanilla flavoured creme (29%)Wheat Flour, Sugar, Vegetable Oil, Cocoa Powder, Fructose Syrup, Cornstarch, Salt, Raising Agents (500, 503), Emulsifier (Soy Lecithin), Flavour, Antioxidant (319), Minerals (Iron, Zinc), Vitamins (Riboflavin, Thiamin, Folate)",
            "Chocolate flavoured sandwich cookies with vanilla flavoured creme (29%)Wheat Flour, Sugar, Vegetable Oil, Cocoa Powder, Fructose Syrup, Cornstarch, Salt, Raising Agents (500, 503), Emulsifier (Soy Lecithin), Flavour, Antioxidant (319), Minerals (Iron, Zinc), Vitamins (Riboflavin, Thiamin, Folate)",
            "Chocolate flavoured sandwich cookies with vanilla flavoured creme (29%)Wheat Flour, Sugar, Vegetable Oil, Cocoa Powder, Fructose Syrup, Cornstarch, Salt, Raising Agents (500, 503), Emulsifier (Soy Lecithin), Flavour, Antioxidant (319), Minerals (Iron, Zinc), Vitamins (Riboflavin, Thiamin, Folate)",
            "Chocolate flavoured sandwich cookies with vanilla flavoured creme (29%)Wheat Flour, Sugar, Vegetable Oil, Cocoa Powder, Fructose Syrup, Cornstarch, Salt, Raising Agents (500, 503), Emulsifier (Soy Lecithin), Flavour, Antioxidant (319), Minerals (Iron, Zinc), Vitamins (Riboflavin, Thiamin, Folate)",
            "Chocolate flavoured sandwich cookies with vanilla flavoured creme (29%)Wheat Flour, Sugar, Vegetable Oil, Cocoa Powder, Fructose Syrup, Cornstarch, Salt, Raising Agents (500, 503), Emulsifier (Soy Lecithin), Flavour, Antioxidant (319), Minerals (Iron, Zinc), Vitamins (Riboflavin, Thiamin, Folate)",
            "Chocolate flavoured sandwich cookies with vanilla flavoured creme (29%)Wheat Flour, Sugar, Vegetable Oil, Cocoa Powder, Fructose Syrup, Cornstarch, Salt, Raising Agents (500, 503), Emulsifier (Soy Lecithin), Flavour, Antioxidant (319), Minerals (Iron, Zinc), Vitamins (Riboflavin, Thiamin, Folate)",
            "Reconstituted Fruit Juices (Apple (95.8%), Mango (4.0%)), Acidity Regulator (Citric Acid), Vitamin C, Natural Flavour.",
            "Reconstituted Fruit Juices (Apple (95.8%), Mango (4.0%)), Acidity Regulator (Citric Acid), Vitamin C, Natural Flavour.",
            "Reconstituted Fruit Juices (Apple (95.8%), Mango (4.0%)), Acidity Regulator (Citric Acid), Vitamin C, Natural Flavour.",
            "Reconstituted Fruit Juices (Apple (95.8%), Mango (4.0%)), Acidity Regulator (Citric Acid), Vitamin C, Natural Flavour.",
            "Reconstituted Fruit Juices (Apple (95.8%), Mango (4.0%)), Acidity Regulator (Citric Acid), Vitamin C, Natural Flavour.",
            "Reconstituted Fruit Juices (Apple (95.8%), Mango (4.0%)), Acidity Regulator (Citric Acid), Vitamin C, Natural Flavour.",
            "Reconstituted Fruit Juices (Apple (95.8%), Mango (4.0%)), Acidity Regulator (Citric Acid), Vitamin C, Natural Flavour.",
            "Water, Reconstituted Fruit Juice Pear or Apple (15%), Pineapple (9%), Passionfruit (1%), Sugar, Food Acids (Citric Acid, Potassium Citrate), Vitamin C, Natural Flavours.",
            "Water, Reconstituted Fruit Juice Pear or Apple (15%), Pineapple (9%), Passionfruit (1%), Sugar, Food Acids (Citric Acid, Potassium Citrate), Vitamin C, Natural Flavours.",
            "Water, Reconstituted Fruit Juice Pear or Apple (15%), Pineapple (9%), Passionfruit (1%), Sugar, Food Acids (Citric Acid, Potassium Citrate), Vitamin C, Natural Flavours.",
            "Water, Reconstituted Fruit Juice Pear or Apple (15%), Pineapple (9%), Passionfruit (1%), Sugar, Food Acids (Citric Acid, Potassium Citrate), Vitamin C, Natural Flavours.",
            "Water, Reconstituted Fruit Juice Pear or Apple (15%), Pineapple (9%), Passionfruit (1%), Sugar, Food Acids (Citric Acid, Potassium Citrate), Vitamin C, Natural Flavours.",
            "Water, Reconstituted Fruit Juice (25%) (Apple or Pear, Pineapple, Orange or Water Extracted Orange, Peach Purée, Passionfruit), Sugar, Food Acids (Citric Acid, Potassium Citrate), Vitamin C, Natural Flavours, Stabiliser (Pectin).",
            "Water, Reconstituted Fruit Juice (25%) (Apple or Pear, Pineapple, Orange or Water Extracted Orange, Peach Purée, Passionfruit), Sugar, Food Acids (Citric Acid, Potassium Citrate), Vitamin C, Natural Flavours, Stabiliser (Pectin).",
            "Water, Reconstituted Fruit Juice (25%) (Apple or Pear, Pineapple, Orange or Water Extracted Orange, Peach Purée, Passionfruit), Sugar, Food Acids (Citric Acid, Potassium Citrate), Vitamin C, Natural Flavours, Stabiliser (Pectin).",
            "Water, Reconstituted Fruit Juice (25%) (Apple or Pear, Pineapple, Orange or Water Extracted Orange, Peach Purée, Passionfruit), Sugar, Food Acids (Citric Acid, Potassium Citrate), Vitamin C, Natural Flavours, Stabiliser (Pectin).",
            "Water, Reconstituted Fruit Juice (25%) (Apple or Pear, Pineapple, Orange or Water Extracted Orange, Peach Purée, Passionfruit), Sugar, Food Acids (Citric Acid, Potassium Citrate), Vitamin C, Natural Flavours, Stabiliser (Pectin).",
            "Water, Reconstituted Fruit Juice (25%) Pear or Apple, Pineapple, Orange, Peach Pure, Passionfruit, Sugar, Food Acids (Citric Acid, Potassium Citrate), Vitamin C, Natural Flavours.",
            "Water, Reconstituted Fruit Juice (25%) Pear or Apple, Pineapple, Orange, Peach Pure, Passionfruit, Sugar, Food Acids (Citric Acid, Potassium Citrate), Vitamin C, Natural Flavours.",
            "Water, Reconstituted Fruit Juice (25%) Pear or Apple, Pineapple, Orange, Peach Pure, Passionfruit, Sugar, Food Acids (Citric Acid, Potassium Citrate), Vitamin C, Natural Flavours.",
            "Water, Reconstituted Fruit Juice (25%) Pear or Apple, Pineapple, Orange, Peach Pure, Passionfruit, Sugar, Food Acids (Citric Acid, Potassium Citrate), Vitamin C, Natural Flavours.",
            "Water, Reconstituted Fruit Juice (25%) Pear or Apple, Pineapple, Orange, Peach Pure, Passionfruit, Sugar, Food Acids (Citric Acid, Potassium Citrate), Vitamin C, Natural Flavours.",
            "Water, Reconstituted Fruit Juice (25%) Pear or Apple, Pineapple, Orange, Peach Pure, Passionfruit, Sugar, Food Acids (Citric Acid, Potassium Citrate), Vitamin C, Natural Flavours.",
            "Water, Reconstituted Fruit Juice (25%) Pear or Apple, Pineapple, Orange, Peach Pure, Passionfruit, Sugar, Food Acids (Citric Acid, Potassium Citrate), Vitamin C, Natural Flavours.",
            "Canola Oil, Water, Sugar, Vinegar, Thickener (1422, Xanthan Gum), Free Range Egg Yolk,  Gherkin, Salt, Onion Powder, Natural Colour (Carotene, Paprika Oleoresins), Preservative (Potassium Sorbate), Dill, Acidity Regulator (Citric Acid), Herb Extract, Mustard Oil.",
            "Canola Oil, Water, Sugar, Vinegar, Thickener (1422, Xanthan Gum), Free Range Egg Yolk,  Gherkin, Salt, Onion Powder, Natural Colour (Carotene, Paprika Oleoresins), Preservative (Potassium Sorbate), Dill, Acidity Regulator (Citric Acid), Herb Extract, Mustard Oil.",
            "Canola Oil, Water, Sugar, Vinegar, Thickener (1422, Xanthan Gum), Free Range Egg Yolk,  Gherkin, Salt, Onion Powder, Natural Colour (Carotene, Paprika Oleoresins), Preservative (Potassium Sorbate), Dill, Acidity Regulator (Citric Acid), Herb Extract, Mustard Oil.",
            "Canola Oil, Water, Sugar, Vinegar, Thickener (1422, Xanthan Gum), Free Range Egg Yolk,  Gherkin, Salt, Onion Powder, Natural Colour (Carotene, Paprika Oleoresins), Preservative (Potassium Sorbate), Dill, Acidity Regulator (Citric Acid), Herb Extract, Mustard Oil.",
            "Potatoes, Canola Oil, Sunflower Oil, Sugar, Maltod,extrin, Salt, Tomato Powder, Flavour Enhancers (62,1, 635), Food Acids (Sodium Diacetate, Citric Acid,), Flavours, Mineral Salt (Potassium Chloride), On,ion Powder, Garlic Powder, Natural Colour (Paprika,",
            "Potatoes, Canola Oil, Sunflower Oil, Sugar, Maltod,extrin, Salt, Tomato Powder, Flavour Enhancers (62,1, 635), Food Acids (Sodium Diacetate, Citric Acid,), Flavours, Mineral Salt (Potassium Chloride), On,ion Powder, Garlic Powder, Natural Colour (Paprika,",
            "Potatoes, Canola Oil, Sunflower Oil, Sugar, Maltod,extrin, Salt, Tomato Powder, Flavour Enhancers (62,1, 635), Food Acids (Sodium Diacetate, Citric Acid,), Flavours, Mineral Salt (Potassium Chloride), On,ion Powder, Garlic Powder, Natural Colour (Paprika,",
            "Potatoes, Canola Oil, Sunflower Oil, Sugar, Maltod,extrin, Salt, Tomato Powder, Flavour Enhancers (62,1, 635), Food Acids (Sodium Diacetate, Citric Acid,), Flavours, Mineral Salt (Potassium Chloride), On,ion Powder, Garlic Powder, Natural Colour (Paprika,",
            "Potatoes, Canola Oil, Sunflower Oil, Sugar, Maltod,extrin, Salt, Tomato Powder, Flavour Enhancers (62,1, 635), Food Acids (Sodium Diacetate, Citric Acid,), Flavours, Mineral Salt (Potassium Chloride), On,ion Powder, Garlic Powder, Natural Colour (Paprika,",
            "Potatoes (64%), Canola Oil, Sunflower Oil, Salt, Antioxidants (Tocopherols, Ascorbic Acid, Rosemary Extract, Citric Acid).",
            "Potatoes (64%), Canola Oil, Sunflower Oil, Salt, Antioxidants (Tocopherols, Ascorbic Acid, Rosemary Extract, Citric Acid).",
            "Potatoes (64%), Canola Oil, Sunflower Oil, Salt, Antioxidants (Tocopherols, Ascorbic Acid, Rosemary Extract, Citric Acid).",
            "Potatoes (64%), Canola Oil, Sunflower Oil, Salt, Antioxidants (Tocopherols, Ascorbic Acid, Rosemary Extract, Citric Acid).",
            "Potatoes (64%), Canola Oil, Sunflower Oil, Salt, Antioxidants (Tocopherols, Ascorbic Acid, Rosemary Extract, Citric Acid).",
            "Fruits (55%) (Peach, Pear), Reconstituted Refined Juice (Water, Concentrated Pear Juice, Antioxidant (Ascorbic Acid), Acidity Regulator (Citric Acid))",
            "Fruits (55%) (Peach, Pear), Reconstituted Refined Juice (Water, Concentrated Pear Juice, Antioxidant (Ascorbic Acid), Acidity Regulator (Citric Acid))",
            "Fruits (55%) (Peach, Pear), Reconstituted Refined Juice (Water, Concentrated Pear Juice, Antioxidant (Ascorbic Acid), Acidity Regulator (Citric Acid))",
            "Fruits (55%) (Peach, Pear), Reconstituted Refined Juice (Water, Concentrated Pear Juice, Antioxidant (Ascorbic Acid), Acidity Regulator (Citric Acid))",
            "Fruits (55%) (Peach, Pear), Reconstituted Refined Juice (Water, Concentrated Pear Juice, Antioxidant (Ascorbic Acid), Acidity Regulator (Citric Acid))",
            "Fruits (55%) (Peach, Pear), Reconstituted Refined Juice (Water, Concentrated Pear Juice, Antioxidant (Ascorbic Acid), Acidity Regulator (Citric Acid))",
            "Jelly (70%) (Water, Sugar, Gelling Agents (Carrageenan, Locust Bean Gum, Xanthan Gum), Acidity Regulators (Sodium Citrates, Potassium Citrates, Calcium Lactate, Malic Acid, Citric Acid), Natural Flavours (Pineapple, Mango), Natural Colours (Carotene, Paprika Oleoresins), Antioxidant (Ascorbic Acid)), Peach (15%), Pear (15%)",
            "Jelly (70%) (Water, Sugar, Gelling Agents (Carrageenan, Locust Bean Gum, Xanthan Gum), Acidity Regulators (Sodium Citrates, Potassium Citrates, Calcium Lactate, Malic Acid, Citric Acid), Natural Flavours (Pineapple, Mango), Natural Colours (Carotene, Paprika Oleoresins), Antioxidant (Ascorbic Acid)), Peach (15%), Pear (15%)",
            "Jelly (70%) (Water, Sugar, Gelling Agents (Carrageenan, Locust Bean Gum, Xanthan Gum), Acidity Regulators (Sodium Citrates, Potassium Citrates, Calcium Lactate, Malic Acid, Citric Acid), Natural Flavours (Pineapple, Mango), Natural Colours (Carotene, Paprika Oleoresins), Antioxidant (Ascorbic Acid)), Peach (15%), Pear (15%)",
            "Jelly (70%) (Water, Sugar, Gelling Agents (Carrageenan, Locust Bean Gum, Xanthan Gum), Acidity Regulators (Sodium Citrates, Potassium Citrates, Calcium Lactate, Malic Acid, Citric Acid), Natural Flavours (Pineapple, Mango), Natural Colours (Carotene, Paprika Oleoresins), Antioxidant (Ascorbic Acid)), Peach (15%), Pear (15%)",
            "Jelly (70%) (Water, Sugar, Gelling Agents (Carrageenan, Locust Bean Gum, Xanthan Gum), Acidity Regulators (Sodium Citrates, Potassium Citrates, Calcium Lactate, Malic Acid, Citric Acid), Natural Flavours (Pineapple, Mango), Natural Colours (Carotene, Paprika Oleoresins), Antioxidant (Ascorbic Acid)), Peach (15%), Pear (15%)"
           ]
          ]
         },
         "header": {
          "align": "left",
          "fill": {
           "color": "paleturquoise"
          },
          "values": [
           "Manufacturingprocess",
           "Recipe"
          ]
         },
         "type": "table"
        }
       ],
       "layout": {
        "template": {
         "data": {
          "bar": [
           {
            "error_x": {
             "color": "#2a3f5f"
            },
            "error_y": {
             "color": "#2a3f5f"
            },
            "marker": {
             "line": {
              "color": "#E5ECF6",
              "width": 0.5
             },
             "pattern": {
              "fillmode": "overlay",
              "size": 10,
              "solidity": 0.2
             }
            },
            "type": "bar"
           }
          ],
          "barpolar": [
           {
            "marker": {
             "line": {
              "color": "#E5ECF6",
              "width": 0.5
             },
             "pattern": {
              "fillmode": "overlay",
              "size": 10,
              "solidity": 0.2
             }
            },
            "type": "barpolar"
           }
          ],
          "carpet": [
           {
            "aaxis": {
             "endlinecolor": "#2a3f5f",
             "gridcolor": "white",
             "linecolor": "white",
             "minorgridcolor": "white",
             "startlinecolor": "#2a3f5f"
            },
            "baxis": {
             "endlinecolor": "#2a3f5f",
             "gridcolor": "white",
             "linecolor": "white",
             "minorgridcolor": "white",
             "startlinecolor": "#2a3f5f"
            },
            "type": "carpet"
           }
          ],
          "choropleth": [
           {
            "colorbar": {
             "outlinewidth": 0,
             "ticks": ""
            },
            "type": "choropleth"
           }
          ],
          "contour": [
           {
            "colorbar": {
             "outlinewidth": 0,
             "ticks": ""
            },
            "colorscale": [
             [
              0,
              "#0d0887"
             ],
             [
              0.1111111111111111,
              "#46039f"
             ],
             [
              0.2222222222222222,
              "#7201a8"
             ],
             [
              0.3333333333333333,
              "#9c179e"
             ],
             [
              0.4444444444444444,
              "#bd3786"
             ],
             [
              0.5555555555555556,
              "#d8576b"
             ],
             [
              0.6666666666666666,
              "#ed7953"
             ],
             [
              0.7777777777777778,
              "#fb9f3a"
             ],
             [
              0.8888888888888888,
              "#fdca26"
             ],
             [
              1,
              "#f0f921"
             ]
            ],
            "type": "contour"
           }
          ],
          "contourcarpet": [
           {
            "colorbar": {
             "outlinewidth": 0,
             "ticks": ""
            },
            "type": "contourcarpet"
           }
          ],
          "heatmap": [
           {
            "colorbar": {
             "outlinewidth": 0,
             "ticks": ""
            },
            "colorscale": [
             [
              0,
              "#0d0887"
             ],
             [
              0.1111111111111111,
              "#46039f"
             ],
             [
              0.2222222222222222,
              "#7201a8"
             ],
             [
              0.3333333333333333,
              "#9c179e"
             ],
             [
              0.4444444444444444,
              "#bd3786"
             ],
             [
              0.5555555555555556,
              "#d8576b"
             ],
             [
              0.6666666666666666,
              "#ed7953"
             ],
             [
              0.7777777777777778,
              "#fb9f3a"
             ],
             [
              0.8888888888888888,
              "#fdca26"
             ],
             [
              1,
              "#f0f921"
             ]
            ],
            "type": "heatmap"
           }
          ],
          "heatmapgl": [
           {
            "colorbar": {
             "outlinewidth": 0,
             "ticks": ""
            },
            "colorscale": [
             [
              0,
              "#0d0887"
             ],
             [
              0.1111111111111111,
              "#46039f"
             ],
             [
              0.2222222222222222,
              "#7201a8"
             ],
             [
              0.3333333333333333,
              "#9c179e"
             ],
             [
              0.4444444444444444,
              "#bd3786"
             ],
             [
              0.5555555555555556,
              "#d8576b"
             ],
             [
              0.6666666666666666,
              "#ed7953"
             ],
             [
              0.7777777777777778,
              "#fb9f3a"
             ],
             [
              0.8888888888888888,
              "#fdca26"
             ],
             [
              1,
              "#f0f921"
             ]
            ],
            "type": "heatmapgl"
           }
          ],
          "histogram": [
           {
            "marker": {
             "pattern": {
              "fillmode": "overlay",
              "size": 10,
              "solidity": 0.2
             }
            },
            "type": "histogram"
           }
          ],
          "histogram2d": [
           {
            "colorbar": {
             "outlinewidth": 0,
             "ticks": ""
            },
            "colorscale": [
             [
              0,
              "#0d0887"
             ],
             [
              0.1111111111111111,
              "#46039f"
             ],
             [
              0.2222222222222222,
              "#7201a8"
             ],
             [
              0.3333333333333333,
              "#9c179e"
             ],
             [
              0.4444444444444444,
              "#bd3786"
             ],
             [
              0.5555555555555556,
              "#d8576b"
             ],
             [
              0.6666666666666666,
              "#ed7953"
             ],
             [
              0.7777777777777778,
              "#fb9f3a"
             ],
             [
              0.8888888888888888,
              "#fdca26"
             ],
             [
              1,
              "#f0f921"
             ]
            ],
            "type": "histogram2d"
           }
          ],
          "histogram2dcontour": [
           {
            "colorbar": {
             "outlinewidth": 0,
             "ticks": ""
            },
            "colorscale": [
             [
              0,
              "#0d0887"
             ],
             [
              0.1111111111111111,
              "#46039f"
             ],
             [
              0.2222222222222222,
              "#7201a8"
             ],
             [
              0.3333333333333333,
              "#9c179e"
             ],
             [
              0.4444444444444444,
              "#bd3786"
             ],
             [
              0.5555555555555556,
              "#d8576b"
             ],
             [
              0.6666666666666666,
              "#ed7953"
             ],
             [
              0.7777777777777778,
              "#fb9f3a"
             ],
             [
              0.8888888888888888,
              "#fdca26"
             ],
             [
              1,
              "#f0f921"
             ]
            ],
            "type": "histogram2dcontour"
           }
          ],
          "mesh3d": [
           {
            "colorbar": {
             "outlinewidth": 0,
             "ticks": ""
            },
            "type": "mesh3d"
           }
          ],
          "parcoords": [
           {
            "line": {
             "colorbar": {
              "outlinewidth": 0,
              "ticks": ""
             }
            },
            "type": "parcoords"
           }
          ],
          "pie": [
           {
            "automargin": true,
            "type": "pie"
           }
          ],
          "scatter": [
           {
            "fillpattern": {
             "fillmode": "overlay",
             "size": 10,
             "solidity": 0.2
            },
            "type": "scatter"
           }
          ],
          "scatter3d": [
           {
            "line": {
             "colorbar": {
              "outlinewidth": 0,
              "ticks": ""
             }
            },
            "marker": {
             "colorbar": {
              "outlinewidth": 0,
              "ticks": ""
             }
            },
            "type": "scatter3d"
           }
          ],
          "scattercarpet": [
           {
            "marker": {
             "colorbar": {
              "outlinewidth": 0,
              "ticks": ""
             }
            },
            "type": "scattercarpet"
           }
          ],
          "scattergeo": [
           {
            "marker": {
             "colorbar": {
              "outlinewidth": 0,
              "ticks": ""
             }
            },
            "type": "scattergeo"
           }
          ],
          "scattergl": [
           {
            "marker": {
             "colorbar": {
              "outlinewidth": 0,
              "ticks": ""
             }
            },
            "type": "scattergl"
           }
          ],
          "scattermapbox": [
           {
            "marker": {
             "colorbar": {
              "outlinewidth": 0,
              "ticks": ""
             }
            },
            "type": "scattermapbox"
           }
          ],
          "scatterpolar": [
           {
            "marker": {
             "colorbar": {
              "outlinewidth": 0,
              "ticks": ""
             }
            },
            "type": "scatterpolar"
           }
          ],
          "scatterpolargl": [
           {
            "marker": {
             "colorbar": {
              "outlinewidth": 0,
              "ticks": ""
             }
            },
            "type": "scatterpolargl"
           }
          ],
          "scatterternary": [
           {
            "marker": {
             "colorbar": {
              "outlinewidth": 0,
              "ticks": ""
             }
            },
            "type": "scatterternary"
           }
          ],
          "surface": [
           {
            "colorbar": {
             "outlinewidth": 0,
             "ticks": ""
            },
            "colorscale": [
             [
              0,
              "#0d0887"
             ],
             [
              0.1111111111111111,
              "#46039f"
             ],
             [
              0.2222222222222222,
              "#7201a8"
             ],
             [
              0.3333333333333333,
              "#9c179e"
             ],
             [
              0.4444444444444444,
              "#bd3786"
             ],
             [
              0.5555555555555556,
              "#d8576b"
             ],
             [
              0.6666666666666666,
              "#ed7953"
             ],
             [
              0.7777777777777778,
              "#fb9f3a"
             ],
             [
              0.8888888888888888,
              "#fdca26"
             ],
             [
              1,
              "#f0f921"
             ]
            ],
            "type": "surface"
           }
          ],
          "table": [
           {
            "cells": {
             "fill": {
              "color": "#EBF0F8"
             },
             "line": {
              "color": "white"
             }
            },
            "header": {
             "fill": {
              "color": "#C8D4E3"
             },
             "line": {
              "color": "white"
             }
            },
            "type": "table"
           }
          ]
         },
         "layout": {
          "annotationdefaults": {
           "arrowcolor": "#2a3f5f",
           "arrowhead": 0,
           "arrowwidth": 1
          },
          "autotypenumbers": "strict",
          "coloraxis": {
           "colorbar": {
            "outlinewidth": 0,
            "ticks": ""
           }
          },
          "colorscale": {
           "diverging": [
            [
             0,
             "#8e0152"
            ],
            [
             0.1,
             "#c51b7d"
            ],
            [
             0.2,
             "#de77ae"
            ],
            [
             0.3,
             "#f1b6da"
            ],
            [
             0.4,
             "#fde0ef"
            ],
            [
             0.5,
             "#f7f7f7"
            ],
            [
             0.6,
             "#e6f5d0"
            ],
            [
             0.7,
             "#b8e186"
            ],
            [
             0.8,
             "#7fbc41"
            ],
            [
             0.9,
             "#4d9221"
            ],
            [
             1,
             "#276419"
            ]
           ],
           "sequential": [
            [
             0,
             "#0d0887"
            ],
            [
             0.1111111111111111,
             "#46039f"
            ],
            [
             0.2222222222222222,
             "#7201a8"
            ],
            [
             0.3333333333333333,
             "#9c179e"
            ],
            [
             0.4444444444444444,
             "#bd3786"
            ],
            [
             0.5555555555555556,
             "#d8576b"
            ],
            [
             0.6666666666666666,
             "#ed7953"
            ],
            [
             0.7777777777777778,
             "#fb9f3a"
            ],
            [
             0.8888888888888888,
             "#fdca26"
            ],
            [
             1,
             "#f0f921"
            ]
           ],
           "sequentialminus": [
            [
             0,
             "#0d0887"
            ],
            [
             0.1111111111111111,
             "#46039f"
            ],
            [
             0.2222222222222222,
             "#7201a8"
            ],
            [
             0.3333333333333333,
             "#9c179e"
            ],
            [
             0.4444444444444444,
             "#bd3786"
            ],
            [
             0.5555555555555556,
             "#d8576b"
            ],
            [
             0.6666666666666666,
             "#ed7953"
            ],
            [
             0.7777777777777778,
             "#fb9f3a"
            ],
            [
             0.8888888888888888,
             "#fdca26"
            ],
            [
             1,
             "#f0f921"
            ]
           ]
          },
          "colorway": [
           "#636efa",
           "#EF553B",
           "#00cc96",
           "#ab63fa",
           "#FFA15A",
           "#19d3f3",
           "#FF6692",
           "#B6E880",
           "#FF97FF",
           "#FECB52"
          ],
          "font": {
           "color": "#2a3f5f"
          },
          "geo": {
           "bgcolor": "white",
           "lakecolor": "white",
           "landcolor": "#E5ECF6",
           "showlakes": true,
           "showland": true,
           "subunitcolor": "white"
          },
          "hoverlabel": {
           "align": "left"
          },
          "hovermode": "closest",
          "mapbox": {
           "style": "light"
          },
          "paper_bgcolor": "white",
          "plot_bgcolor": "#E5ECF6",
          "polar": {
           "angularaxis": {
            "gridcolor": "white",
            "linecolor": "white",
            "ticks": ""
           },
           "bgcolor": "#E5ECF6",
           "radialaxis": {
            "gridcolor": "white",
            "linecolor": "white",
            "ticks": ""
           }
          },
          "scene": {
           "xaxis": {
            "backgroundcolor": "#E5ECF6",
            "gridcolor": "white",
            "gridwidth": 2,
            "linecolor": "white",
            "showbackground": true,
            "ticks": "",
            "zerolinecolor": "white"
           },
           "yaxis": {
            "backgroundcolor": "#E5ECF6",
            "gridcolor": "white",
            "gridwidth": 2,
            "linecolor": "white",
            "showbackground": true,
            "ticks": "",
            "zerolinecolor": "white"
           },
           "zaxis": {
            "backgroundcolor": "#E5ECF6",
            "gridcolor": "white",
            "gridwidth": 2,
            "linecolor": "white",
            "showbackground": true,
            "ticks": "",
            "zerolinecolor": "white"
           }
          },
          "shapedefaults": {
           "line": {
            "color": "#2a3f5f"
           }
          },
          "ternary": {
           "aaxis": {
            "gridcolor": "white",
            "linecolor": "white",
            "ticks": ""
           },
           "baxis": {
            "gridcolor": "white",
            "linecolor": "white",
            "ticks": ""
           },
           "bgcolor": "#E5ECF6",
           "caxis": {
            "gridcolor": "white",
            "linecolor": "white",
            "ticks": ""
           }
          },
          "title": {
           "x": 0.05
          },
          "xaxis": {
           "automargin": true,
           "gridcolor": "white",
           "linecolor": "white",
           "ticks": "",
           "title": {
            "standoff": 15
           },
           "zerolinecolor": "white",
           "zerolinewidth": 2
          },
          "yaxis": {
           "automargin": true,
           "gridcolor": "white",
           "linecolor": "white",
           "ticks": "",
           "title": {
            "standoff": 15
           },
           "zerolinecolor": "white",
           "zerolinewidth": 2
          }
         }
        },
        "title": {
         "text": "Manufacturingprocess and Their Recipes"
        }
       }
      }
     },
     "metadata": {},
     "output_type": "display_data"
    }
   ],
   "source": [
    "def get_manufacturingprocess_recipes():\n",
    "    manufacturingprocesss = []\n",
    "    recipes = []\n",
    "    with driver.session() as session:\n",
    "        result = session.run(query)\n",
    "        for record in result:\n",
    "            manufacturingprocess = record[\"Manufacturingprocess\"]\n",
    "            recipe = record[\"Recipe\"]\n",
    "            \n",
    "            # Check if the value is None or empty string and skip it\n",
    "            if manufacturingprocess is None or manufacturingprocess == \"\":\n",
    "                continue\n",
    "            if recipe is None or recipe == \"\":\n",
    "                continue\n",
    "            \n",
    "            manufacturingprocesss.append(manufacturingprocess)\n",
    "            recipes.append(recipe)\n",
    "    return manufacturingprocesss, recipes\n",
    "\n",
    "manufacturingprocesss, recipes = get_manufacturingprocess_recipes()\n",
    "\n",
    "# Creating Text Charts\n",
    "fig = go.Figure(data=[go.Table(\n",
    "    header=dict(values=['Manufacturingprocess', 'Recipe'],\n",
    "                fill_color='paleturquoise',\n",
    "                align='left'),\n",
    "    cells=dict(values=[manufacturingprocesss, recipes],\n",
    "               fill_color='lavender',\n",
    "               align='left'))\n",
    "])\n",
    "\n",
    "fig.update_layout(\n",
    "    title=\"Manufacturingprocess and Their Recipes\"\n",
    ")\n",
    "\n",
    "fig.show()\n"
   ]
  },
  {
   "cell_type": "code",
   "execution_count": 12,
   "metadata": {},
   "outputs": [
    {
     "data": {
      "application/vnd.plotly.v1+json": {
       "config": {
        "plotlyServerURL": "https://plot.ly"
       },
       "data": [
        {
         "cells": {
          "align": "left",
          "fill": {
           "color": "lavender"
          },
          "values": [
           [
            "Step 6",
            "Step 4"
           ],
           [
            "Step 6: The sweet soy sauce is made by mixing sugar, water, salt, wheat, soy bean, spices, and sesame oil.",
            "4. After baking, the cookies are cooled and filled with a sweet cream filling."
           ]
          ]
         },
         "header": {
          "align": "left",
          "fill": {
           "color": "paleturquoise"
          },
          "values": [
           "ManufacturingProcessstep",
           "ManufacturingProcessdes"
          ]
         },
         "type": "table"
        }
       ],
       "layout": {
        "template": {
         "data": {
          "bar": [
           {
            "error_x": {
             "color": "#2a3f5f"
            },
            "error_y": {
             "color": "#2a3f5f"
            },
            "marker": {
             "line": {
              "color": "#E5ECF6",
              "width": 0.5
             },
             "pattern": {
              "fillmode": "overlay",
              "size": 10,
              "solidity": 0.2
             }
            },
            "type": "bar"
           }
          ],
          "barpolar": [
           {
            "marker": {
             "line": {
              "color": "#E5ECF6",
              "width": 0.5
             },
             "pattern": {
              "fillmode": "overlay",
              "size": 10,
              "solidity": 0.2
             }
            },
            "type": "barpolar"
           }
          ],
          "carpet": [
           {
            "aaxis": {
             "endlinecolor": "#2a3f5f",
             "gridcolor": "white",
             "linecolor": "white",
             "minorgridcolor": "white",
             "startlinecolor": "#2a3f5f"
            },
            "baxis": {
             "endlinecolor": "#2a3f5f",
             "gridcolor": "white",
             "linecolor": "white",
             "minorgridcolor": "white",
             "startlinecolor": "#2a3f5f"
            },
            "type": "carpet"
           }
          ],
          "choropleth": [
           {
            "colorbar": {
             "outlinewidth": 0,
             "ticks": ""
            },
            "type": "choropleth"
           }
          ],
          "contour": [
           {
            "colorbar": {
             "outlinewidth": 0,
             "ticks": ""
            },
            "colorscale": [
             [
              0,
              "#0d0887"
             ],
             [
              0.1111111111111111,
              "#46039f"
             ],
             [
              0.2222222222222222,
              "#7201a8"
             ],
             [
              0.3333333333333333,
              "#9c179e"
             ],
             [
              0.4444444444444444,
              "#bd3786"
             ],
             [
              0.5555555555555556,
              "#d8576b"
             ],
             [
              0.6666666666666666,
              "#ed7953"
             ],
             [
              0.7777777777777778,
              "#fb9f3a"
             ],
             [
              0.8888888888888888,
              "#fdca26"
             ],
             [
              1,
              "#f0f921"
             ]
            ],
            "type": "contour"
           }
          ],
          "contourcarpet": [
           {
            "colorbar": {
             "outlinewidth": 0,
             "ticks": ""
            },
            "type": "contourcarpet"
           }
          ],
          "heatmap": [
           {
            "colorbar": {
             "outlinewidth": 0,
             "ticks": ""
            },
            "colorscale": [
             [
              0,
              "#0d0887"
             ],
             [
              0.1111111111111111,
              "#46039f"
             ],
             [
              0.2222222222222222,
              "#7201a8"
             ],
             [
              0.3333333333333333,
              "#9c179e"
             ],
             [
              0.4444444444444444,
              "#bd3786"
             ],
             [
              0.5555555555555556,
              "#d8576b"
             ],
             [
              0.6666666666666666,
              "#ed7953"
             ],
             [
              0.7777777777777778,
              "#fb9f3a"
             ],
             [
              0.8888888888888888,
              "#fdca26"
             ],
             [
              1,
              "#f0f921"
             ]
            ],
            "type": "heatmap"
           }
          ],
          "heatmapgl": [
           {
            "colorbar": {
             "outlinewidth": 0,
             "ticks": ""
            },
            "colorscale": [
             [
              0,
              "#0d0887"
             ],
             [
              0.1111111111111111,
              "#46039f"
             ],
             [
              0.2222222222222222,
              "#7201a8"
             ],
             [
              0.3333333333333333,
              "#9c179e"
             ],
             [
              0.4444444444444444,
              "#bd3786"
             ],
             [
              0.5555555555555556,
              "#d8576b"
             ],
             [
              0.6666666666666666,
              "#ed7953"
             ],
             [
              0.7777777777777778,
              "#fb9f3a"
             ],
             [
              0.8888888888888888,
              "#fdca26"
             ],
             [
              1,
              "#f0f921"
             ]
            ],
            "type": "heatmapgl"
           }
          ],
          "histogram": [
           {
            "marker": {
             "pattern": {
              "fillmode": "overlay",
              "size": 10,
              "solidity": 0.2
             }
            },
            "type": "histogram"
           }
          ],
          "histogram2d": [
           {
            "colorbar": {
             "outlinewidth": 0,
             "ticks": ""
            },
            "colorscale": [
             [
              0,
              "#0d0887"
             ],
             [
              0.1111111111111111,
              "#46039f"
             ],
             [
              0.2222222222222222,
              "#7201a8"
             ],
             [
              0.3333333333333333,
              "#9c179e"
             ],
             [
              0.4444444444444444,
              "#bd3786"
             ],
             [
              0.5555555555555556,
              "#d8576b"
             ],
             [
              0.6666666666666666,
              "#ed7953"
             ],
             [
              0.7777777777777778,
              "#fb9f3a"
             ],
             [
              0.8888888888888888,
              "#fdca26"
             ],
             [
              1,
              "#f0f921"
             ]
            ],
            "type": "histogram2d"
           }
          ],
          "histogram2dcontour": [
           {
            "colorbar": {
             "outlinewidth": 0,
             "ticks": ""
            },
            "colorscale": [
             [
              0,
              "#0d0887"
             ],
             [
              0.1111111111111111,
              "#46039f"
             ],
             [
              0.2222222222222222,
              "#7201a8"
             ],
             [
              0.3333333333333333,
              "#9c179e"
             ],
             [
              0.4444444444444444,
              "#bd3786"
             ],
             [
              0.5555555555555556,
              "#d8576b"
             ],
             [
              0.6666666666666666,
              "#ed7953"
             ],
             [
              0.7777777777777778,
              "#fb9f3a"
             ],
             [
              0.8888888888888888,
              "#fdca26"
             ],
             [
              1,
              "#f0f921"
             ]
            ],
            "type": "histogram2dcontour"
           }
          ],
          "mesh3d": [
           {
            "colorbar": {
             "outlinewidth": 0,
             "ticks": ""
            },
            "type": "mesh3d"
           }
          ],
          "parcoords": [
           {
            "line": {
             "colorbar": {
              "outlinewidth": 0,
              "ticks": ""
             }
            },
            "type": "parcoords"
           }
          ],
          "pie": [
           {
            "automargin": true,
            "type": "pie"
           }
          ],
          "scatter": [
           {
            "fillpattern": {
             "fillmode": "overlay",
             "size": 10,
             "solidity": 0.2
            },
            "type": "scatter"
           }
          ],
          "scatter3d": [
           {
            "line": {
             "colorbar": {
              "outlinewidth": 0,
              "ticks": ""
             }
            },
            "marker": {
             "colorbar": {
              "outlinewidth": 0,
              "ticks": ""
             }
            },
            "type": "scatter3d"
           }
          ],
          "scattercarpet": [
           {
            "marker": {
             "colorbar": {
              "outlinewidth": 0,
              "ticks": ""
             }
            },
            "type": "scattercarpet"
           }
          ],
          "scattergeo": [
           {
            "marker": {
             "colorbar": {
              "outlinewidth": 0,
              "ticks": ""
             }
            },
            "type": "scattergeo"
           }
          ],
          "scattergl": [
           {
            "marker": {
             "colorbar": {
              "outlinewidth": 0,
              "ticks": ""
             }
            },
            "type": "scattergl"
           }
          ],
          "scattermapbox": [
           {
            "marker": {
             "colorbar": {
              "outlinewidth": 0,
              "ticks": ""
             }
            },
            "type": "scattermapbox"
           }
          ],
          "scatterpolar": [
           {
            "marker": {
             "colorbar": {
              "outlinewidth": 0,
              "ticks": ""
             }
            },
            "type": "scatterpolar"
           }
          ],
          "scatterpolargl": [
           {
            "marker": {
             "colorbar": {
              "outlinewidth": 0,
              "ticks": ""
             }
            },
            "type": "scatterpolargl"
           }
          ],
          "scatterternary": [
           {
            "marker": {
             "colorbar": {
              "outlinewidth": 0,
              "ticks": ""
             }
            },
            "type": "scatterternary"
           }
          ],
          "surface": [
           {
            "colorbar": {
             "outlinewidth": 0,
             "ticks": ""
            },
            "colorscale": [
             [
              0,
              "#0d0887"
             ],
             [
              0.1111111111111111,
              "#46039f"
             ],
             [
              0.2222222222222222,
              "#7201a8"
             ],
             [
              0.3333333333333333,
              "#9c179e"
             ],
             [
              0.4444444444444444,
              "#bd3786"
             ],
             [
              0.5555555555555556,
              "#d8576b"
             ],
             [
              0.6666666666666666,
              "#ed7953"
             ],
             [
              0.7777777777777778,
              "#fb9f3a"
             ],
             [
              0.8888888888888888,
              "#fdca26"
             ],
             [
              1,
              "#f0f921"
             ]
            ],
            "type": "surface"
           }
          ],
          "table": [
           {
            "cells": {
             "fill": {
              "color": "#EBF0F8"
             },
             "line": {
              "color": "white"
             }
            },
            "header": {
             "fill": {
              "color": "#C8D4E3"
             },
             "line": {
              "color": "white"
             }
            },
            "type": "table"
           }
          ]
         },
         "layout": {
          "annotationdefaults": {
           "arrowcolor": "#2a3f5f",
           "arrowhead": 0,
           "arrowwidth": 1
          },
          "autotypenumbers": "strict",
          "coloraxis": {
           "colorbar": {
            "outlinewidth": 0,
            "ticks": ""
           }
          },
          "colorscale": {
           "diverging": [
            [
             0,
             "#8e0152"
            ],
            [
             0.1,
             "#c51b7d"
            ],
            [
             0.2,
             "#de77ae"
            ],
            [
             0.3,
             "#f1b6da"
            ],
            [
             0.4,
             "#fde0ef"
            ],
            [
             0.5,
             "#f7f7f7"
            ],
            [
             0.6,
             "#e6f5d0"
            ],
            [
             0.7,
             "#b8e186"
            ],
            [
             0.8,
             "#7fbc41"
            ],
            [
             0.9,
             "#4d9221"
            ],
            [
             1,
             "#276419"
            ]
           ],
           "sequential": [
            [
             0,
             "#0d0887"
            ],
            [
             0.1111111111111111,
             "#46039f"
            ],
            [
             0.2222222222222222,
             "#7201a8"
            ],
            [
             0.3333333333333333,
             "#9c179e"
            ],
            [
             0.4444444444444444,
             "#bd3786"
            ],
            [
             0.5555555555555556,
             "#d8576b"
            ],
            [
             0.6666666666666666,
             "#ed7953"
            ],
            [
             0.7777777777777778,
             "#fb9f3a"
            ],
            [
             0.8888888888888888,
             "#fdca26"
            ],
            [
             1,
             "#f0f921"
            ]
           ],
           "sequentialminus": [
            [
             0,
             "#0d0887"
            ],
            [
             0.1111111111111111,
             "#46039f"
            ],
            [
             0.2222222222222222,
             "#7201a8"
            ],
            [
             0.3333333333333333,
             "#9c179e"
            ],
            [
             0.4444444444444444,
             "#bd3786"
            ],
            [
             0.5555555555555556,
             "#d8576b"
            ],
            [
             0.6666666666666666,
             "#ed7953"
            ],
            [
             0.7777777777777778,
             "#fb9f3a"
            ],
            [
             0.8888888888888888,
             "#fdca26"
            ],
            [
             1,
             "#f0f921"
            ]
           ]
          },
          "colorway": [
           "#636efa",
           "#EF553B",
           "#00cc96",
           "#ab63fa",
           "#FFA15A",
           "#19d3f3",
           "#FF6692",
           "#B6E880",
           "#FF97FF",
           "#FECB52"
          ],
          "font": {
           "color": "#2a3f5f"
          },
          "geo": {
           "bgcolor": "white",
           "lakecolor": "white",
           "landcolor": "#E5ECF6",
           "showlakes": true,
           "showland": true,
           "subunitcolor": "white"
          },
          "hoverlabel": {
           "align": "left"
          },
          "hovermode": "closest",
          "mapbox": {
           "style": "light"
          },
          "paper_bgcolor": "white",
          "plot_bgcolor": "#E5ECF6",
          "polar": {
           "angularaxis": {
            "gridcolor": "white",
            "linecolor": "white",
            "ticks": ""
           },
           "bgcolor": "#E5ECF6",
           "radialaxis": {
            "gridcolor": "white",
            "linecolor": "white",
            "ticks": ""
           }
          },
          "scene": {
           "xaxis": {
            "backgroundcolor": "#E5ECF6",
            "gridcolor": "white",
            "gridwidth": 2,
            "linecolor": "white",
            "showbackground": true,
            "ticks": "",
            "zerolinecolor": "white"
           },
           "yaxis": {
            "backgroundcolor": "#E5ECF6",
            "gridcolor": "white",
            "gridwidth": 2,
            "linecolor": "white",
            "showbackground": true,
            "ticks": "",
            "zerolinecolor": "white"
           },
           "zaxis": {
            "backgroundcolor": "#E5ECF6",
            "gridcolor": "white",
            "gridwidth": 2,
            "linecolor": "white",
            "showbackground": true,
            "ticks": "",
            "zerolinecolor": "white"
           }
          },
          "shapedefaults": {
           "line": {
            "color": "#2a3f5f"
           }
          },
          "ternary": {
           "aaxis": {
            "gridcolor": "white",
            "linecolor": "white",
            "ticks": ""
           },
           "baxis": {
            "gridcolor": "white",
            "linecolor": "white",
            "ticks": ""
           },
           "bgcolor": "#E5ECF6",
           "caxis": {
            "gridcolor": "white",
            "linecolor": "white",
            "ticks": ""
           }
          },
          "title": {
           "x": 0.05
          },
          "xaxis": {
           "automargin": true,
           "gridcolor": "white",
           "linecolor": "white",
           "ticks": "",
           "title": {
            "standoff": 15
           },
           "zerolinecolor": "white",
           "zerolinewidth": 2
          },
          "yaxis": {
           "automargin": true,
           "gridcolor": "white",
           "linecolor": "white",
           "ticks": "",
           "title": {
            "standoff": 15
           },
           "zerolinecolor": "white",
           "zerolinewidth": 2
          }
         }
        },
        "title": {
         "text": "ManufacturingProcess"
        }
       }
      }
     },
     "metadata": {},
     "output_type": "display_data"
    }
   ],
   "source": [
    "#MATCH (ir:ManufacturingProcess)\n",
    "#WHERE ir.Step CONTAINS 'step' OR ir.Description CONTAINS 'sweet'\n",
    "#RETURN ir.Step AS ManufacturingProcessstep, ir.Description AS ManufacturingProcessdes\n",
    "\n",
    "query = \"\"\"\n",
    "MATCH (ir:ManufacturingProcess)\n",
    "WHERE ir.Step CONTAINS 'step' OR ir.Description CONTAINS 'sweet'\n",
    "RETURN ir.Step AS ManufacturingProcessstep, ir.Description AS ManufacturingProcessdes\n",
    "\"\"\"\n",
    "\n",
    "with driver.session() as session:\n",
    "    result = session.run(query)\n",
    "    neo4j_data = [record.data() for record in result]\n",
    "\n",
    "# Get a list of names and substitutions\n",
    "names = [record['ManufacturingProcessstep'] for record in neo4j_data]\n",
    "alternatives = [record['ManufacturingProcessdes'] for record in neo4j_data]\n",
    "\n",
    "# Create chart\n",
    "fig = go.Figure(data=[go.Table(\n",
    "    header=dict(values=['ManufacturingProcessstep', 'ManufacturingProcessdes'], fill_color='paleturquoise', align='left'),\n",
    "    cells=dict(values=[names, alternatives], fill_color='lavender', align='left'))\n",
    "])\n",
    "\n",
    "# Updated Chart Layout\n",
    "fig.update_layout(title='ManufacturingProcess')\n",
    "fig.show()"
   ]
  },
  {
   "cell_type": "code",
   "execution_count": 13,
   "metadata": {},
   "outputs": [
    {
     "data": {
      "application/vnd.plotly.v1+json": {
       "config": {
        "plotlyServerURL": "https://plot.ly"
       },
       "data": [
        {
         "cells": {
          "align": "left",
          "fill": {
           "color": "lavender"
          },
          "values": [
           [
            "Step 6"
           ],
           [
            "Step 6: The sweet soy sauce is made by mixing sugar, water, salt, wheat, soy bean, spices, and sesame oil."
           ]
          ]
         },
         "header": {
          "align": "left",
          "fill": {
           "color": "paleturquoise"
          },
          "values": [
           "ManufacturingProcessstep",
           "ManufacturingProcessdes"
          ]
         },
         "type": "table"
        }
       ],
       "layout": {
        "template": {
         "data": {
          "bar": [
           {
            "error_x": {
             "color": "#2a3f5f"
            },
            "error_y": {
             "color": "#2a3f5f"
            },
            "marker": {
             "line": {
              "color": "#E5ECF6",
              "width": 0.5
             },
             "pattern": {
              "fillmode": "overlay",
              "size": 10,
              "solidity": 0.2
             }
            },
            "type": "bar"
           }
          ],
          "barpolar": [
           {
            "marker": {
             "line": {
              "color": "#E5ECF6",
              "width": 0.5
             },
             "pattern": {
              "fillmode": "overlay",
              "size": 10,
              "solidity": 0.2
             }
            },
            "type": "barpolar"
           }
          ],
          "carpet": [
           {
            "aaxis": {
             "endlinecolor": "#2a3f5f",
             "gridcolor": "white",
             "linecolor": "white",
             "minorgridcolor": "white",
             "startlinecolor": "#2a3f5f"
            },
            "baxis": {
             "endlinecolor": "#2a3f5f",
             "gridcolor": "white",
             "linecolor": "white",
             "minorgridcolor": "white",
             "startlinecolor": "#2a3f5f"
            },
            "type": "carpet"
           }
          ],
          "choropleth": [
           {
            "colorbar": {
             "outlinewidth": 0,
             "ticks": ""
            },
            "type": "choropleth"
           }
          ],
          "contour": [
           {
            "colorbar": {
             "outlinewidth": 0,
             "ticks": ""
            },
            "colorscale": [
             [
              0,
              "#0d0887"
             ],
             [
              0.1111111111111111,
              "#46039f"
             ],
             [
              0.2222222222222222,
              "#7201a8"
             ],
             [
              0.3333333333333333,
              "#9c179e"
             ],
             [
              0.4444444444444444,
              "#bd3786"
             ],
             [
              0.5555555555555556,
              "#d8576b"
             ],
             [
              0.6666666666666666,
              "#ed7953"
             ],
             [
              0.7777777777777778,
              "#fb9f3a"
             ],
             [
              0.8888888888888888,
              "#fdca26"
             ],
             [
              1,
              "#f0f921"
             ]
            ],
            "type": "contour"
           }
          ],
          "contourcarpet": [
           {
            "colorbar": {
             "outlinewidth": 0,
             "ticks": ""
            },
            "type": "contourcarpet"
           }
          ],
          "heatmap": [
           {
            "colorbar": {
             "outlinewidth": 0,
             "ticks": ""
            },
            "colorscale": [
             [
              0,
              "#0d0887"
             ],
             [
              0.1111111111111111,
              "#46039f"
             ],
             [
              0.2222222222222222,
              "#7201a8"
             ],
             [
              0.3333333333333333,
              "#9c179e"
             ],
             [
              0.4444444444444444,
              "#bd3786"
             ],
             [
              0.5555555555555556,
              "#d8576b"
             ],
             [
              0.6666666666666666,
              "#ed7953"
             ],
             [
              0.7777777777777778,
              "#fb9f3a"
             ],
             [
              0.8888888888888888,
              "#fdca26"
             ],
             [
              1,
              "#f0f921"
             ]
            ],
            "type": "heatmap"
           }
          ],
          "heatmapgl": [
           {
            "colorbar": {
             "outlinewidth": 0,
             "ticks": ""
            },
            "colorscale": [
             [
              0,
              "#0d0887"
             ],
             [
              0.1111111111111111,
              "#46039f"
             ],
             [
              0.2222222222222222,
              "#7201a8"
             ],
             [
              0.3333333333333333,
              "#9c179e"
             ],
             [
              0.4444444444444444,
              "#bd3786"
             ],
             [
              0.5555555555555556,
              "#d8576b"
             ],
             [
              0.6666666666666666,
              "#ed7953"
             ],
             [
              0.7777777777777778,
              "#fb9f3a"
             ],
             [
              0.8888888888888888,
              "#fdca26"
             ],
             [
              1,
              "#f0f921"
             ]
            ],
            "type": "heatmapgl"
           }
          ],
          "histogram": [
           {
            "marker": {
             "pattern": {
              "fillmode": "overlay",
              "size": 10,
              "solidity": 0.2
             }
            },
            "type": "histogram"
           }
          ],
          "histogram2d": [
           {
            "colorbar": {
             "outlinewidth": 0,
             "ticks": ""
            },
            "colorscale": [
             [
              0,
              "#0d0887"
             ],
             [
              0.1111111111111111,
              "#46039f"
             ],
             [
              0.2222222222222222,
              "#7201a8"
             ],
             [
              0.3333333333333333,
              "#9c179e"
             ],
             [
              0.4444444444444444,
              "#bd3786"
             ],
             [
              0.5555555555555556,
              "#d8576b"
             ],
             [
              0.6666666666666666,
              "#ed7953"
             ],
             [
              0.7777777777777778,
              "#fb9f3a"
             ],
             [
              0.8888888888888888,
              "#fdca26"
             ],
             [
              1,
              "#f0f921"
             ]
            ],
            "type": "histogram2d"
           }
          ],
          "histogram2dcontour": [
           {
            "colorbar": {
             "outlinewidth": 0,
             "ticks": ""
            },
            "colorscale": [
             [
              0,
              "#0d0887"
             ],
             [
              0.1111111111111111,
              "#46039f"
             ],
             [
              0.2222222222222222,
              "#7201a8"
             ],
             [
              0.3333333333333333,
              "#9c179e"
             ],
             [
              0.4444444444444444,
              "#bd3786"
             ],
             [
              0.5555555555555556,
              "#d8576b"
             ],
             [
              0.6666666666666666,
              "#ed7953"
             ],
             [
              0.7777777777777778,
              "#fb9f3a"
             ],
             [
              0.8888888888888888,
              "#fdca26"
             ],
             [
              1,
              "#f0f921"
             ]
            ],
            "type": "histogram2dcontour"
           }
          ],
          "mesh3d": [
           {
            "colorbar": {
             "outlinewidth": 0,
             "ticks": ""
            },
            "type": "mesh3d"
           }
          ],
          "parcoords": [
           {
            "line": {
             "colorbar": {
              "outlinewidth": 0,
              "ticks": ""
             }
            },
            "type": "parcoords"
           }
          ],
          "pie": [
           {
            "automargin": true,
            "type": "pie"
           }
          ],
          "scatter": [
           {
            "fillpattern": {
             "fillmode": "overlay",
             "size": 10,
             "solidity": 0.2
            },
            "type": "scatter"
           }
          ],
          "scatter3d": [
           {
            "line": {
             "colorbar": {
              "outlinewidth": 0,
              "ticks": ""
             }
            },
            "marker": {
             "colorbar": {
              "outlinewidth": 0,
              "ticks": ""
             }
            },
            "type": "scatter3d"
           }
          ],
          "scattercarpet": [
           {
            "marker": {
             "colorbar": {
              "outlinewidth": 0,
              "ticks": ""
             }
            },
            "type": "scattercarpet"
           }
          ],
          "scattergeo": [
           {
            "marker": {
             "colorbar": {
              "outlinewidth": 0,
              "ticks": ""
             }
            },
            "type": "scattergeo"
           }
          ],
          "scattergl": [
           {
            "marker": {
             "colorbar": {
              "outlinewidth": 0,
              "ticks": ""
             }
            },
            "type": "scattergl"
           }
          ],
          "scattermapbox": [
           {
            "marker": {
             "colorbar": {
              "outlinewidth": 0,
              "ticks": ""
             }
            },
            "type": "scattermapbox"
           }
          ],
          "scatterpolar": [
           {
            "marker": {
             "colorbar": {
              "outlinewidth": 0,
              "ticks": ""
             }
            },
            "type": "scatterpolar"
           }
          ],
          "scatterpolargl": [
           {
            "marker": {
             "colorbar": {
              "outlinewidth": 0,
              "ticks": ""
             }
            },
            "type": "scatterpolargl"
           }
          ],
          "scatterternary": [
           {
            "marker": {
             "colorbar": {
              "outlinewidth": 0,
              "ticks": ""
             }
            },
            "type": "scatterternary"
           }
          ],
          "surface": [
           {
            "colorbar": {
             "outlinewidth": 0,
             "ticks": ""
            },
            "colorscale": [
             [
              0,
              "#0d0887"
             ],
             [
              0.1111111111111111,
              "#46039f"
             ],
             [
              0.2222222222222222,
              "#7201a8"
             ],
             [
              0.3333333333333333,
              "#9c179e"
             ],
             [
              0.4444444444444444,
              "#bd3786"
             ],
             [
              0.5555555555555556,
              "#d8576b"
             ],
             [
              0.6666666666666666,
              "#ed7953"
             ],
             [
              0.7777777777777778,
              "#fb9f3a"
             ],
             [
              0.8888888888888888,
              "#fdca26"
             ],
             [
              1,
              "#f0f921"
             ]
            ],
            "type": "surface"
           }
          ],
          "table": [
           {
            "cells": {
             "fill": {
              "color": "#EBF0F8"
             },
             "line": {
              "color": "white"
             }
            },
            "header": {
             "fill": {
              "color": "#C8D4E3"
             },
             "line": {
              "color": "white"
             }
            },
            "type": "table"
           }
          ]
         },
         "layout": {
          "annotationdefaults": {
           "arrowcolor": "#2a3f5f",
           "arrowhead": 0,
           "arrowwidth": 1
          },
          "autotypenumbers": "strict",
          "coloraxis": {
           "colorbar": {
            "outlinewidth": 0,
            "ticks": ""
           }
          },
          "colorscale": {
           "diverging": [
            [
             0,
             "#8e0152"
            ],
            [
             0.1,
             "#c51b7d"
            ],
            [
             0.2,
             "#de77ae"
            ],
            [
             0.3,
             "#f1b6da"
            ],
            [
             0.4,
             "#fde0ef"
            ],
            [
             0.5,
             "#f7f7f7"
            ],
            [
             0.6,
             "#e6f5d0"
            ],
            [
             0.7,
             "#b8e186"
            ],
            [
             0.8,
             "#7fbc41"
            ],
            [
             0.9,
             "#4d9221"
            ],
            [
             1,
             "#276419"
            ]
           ],
           "sequential": [
            [
             0,
             "#0d0887"
            ],
            [
             0.1111111111111111,
             "#46039f"
            ],
            [
             0.2222222222222222,
             "#7201a8"
            ],
            [
             0.3333333333333333,
             "#9c179e"
            ],
            [
             0.4444444444444444,
             "#bd3786"
            ],
            [
             0.5555555555555556,
             "#d8576b"
            ],
            [
             0.6666666666666666,
             "#ed7953"
            ],
            [
             0.7777777777777778,
             "#fb9f3a"
            ],
            [
             0.8888888888888888,
             "#fdca26"
            ],
            [
             1,
             "#f0f921"
            ]
           ],
           "sequentialminus": [
            [
             0,
             "#0d0887"
            ],
            [
             0.1111111111111111,
             "#46039f"
            ],
            [
             0.2222222222222222,
             "#7201a8"
            ],
            [
             0.3333333333333333,
             "#9c179e"
            ],
            [
             0.4444444444444444,
             "#bd3786"
            ],
            [
             0.5555555555555556,
             "#d8576b"
            ],
            [
             0.6666666666666666,
             "#ed7953"
            ],
            [
             0.7777777777777778,
             "#fb9f3a"
            ],
            [
             0.8888888888888888,
             "#fdca26"
            ],
            [
             1,
             "#f0f921"
            ]
           ]
          },
          "colorway": [
           "#636efa",
           "#EF553B",
           "#00cc96",
           "#ab63fa",
           "#FFA15A",
           "#19d3f3",
           "#FF6692",
           "#B6E880",
           "#FF97FF",
           "#FECB52"
          ],
          "font": {
           "color": "#2a3f5f"
          },
          "geo": {
           "bgcolor": "white",
           "lakecolor": "white",
           "landcolor": "#E5ECF6",
           "showlakes": true,
           "showland": true,
           "subunitcolor": "white"
          },
          "hoverlabel": {
           "align": "left"
          },
          "hovermode": "closest",
          "mapbox": {
           "style": "light"
          },
          "paper_bgcolor": "white",
          "plot_bgcolor": "#E5ECF6",
          "polar": {
           "angularaxis": {
            "gridcolor": "white",
            "linecolor": "white",
            "ticks": ""
           },
           "bgcolor": "#E5ECF6",
           "radialaxis": {
            "gridcolor": "white",
            "linecolor": "white",
            "ticks": ""
           }
          },
          "scene": {
           "xaxis": {
            "backgroundcolor": "#E5ECF6",
            "gridcolor": "white",
            "gridwidth": 2,
            "linecolor": "white",
            "showbackground": true,
            "ticks": "",
            "zerolinecolor": "white"
           },
           "yaxis": {
            "backgroundcolor": "#E5ECF6",
            "gridcolor": "white",
            "gridwidth": 2,
            "linecolor": "white",
            "showbackground": true,
            "ticks": "",
            "zerolinecolor": "white"
           },
           "zaxis": {
            "backgroundcolor": "#E5ECF6",
            "gridcolor": "white",
            "gridwidth": 2,
            "linecolor": "white",
            "showbackground": true,
            "ticks": "",
            "zerolinecolor": "white"
           }
          },
          "shapedefaults": {
           "line": {
            "color": "#2a3f5f"
           }
          },
          "ternary": {
           "aaxis": {
            "gridcolor": "white",
            "linecolor": "white",
            "ticks": ""
           },
           "baxis": {
            "gridcolor": "white",
            "linecolor": "white",
            "ticks": ""
           },
           "bgcolor": "#E5ECF6",
           "caxis": {
            "gridcolor": "white",
            "linecolor": "white",
            "ticks": ""
           }
          },
          "title": {
           "x": 0.05
          },
          "xaxis": {
           "automargin": true,
           "gridcolor": "white",
           "linecolor": "white",
           "ticks": "",
           "title": {
            "standoff": 15
           },
           "zerolinecolor": "white",
           "zerolinewidth": 2
          },
          "yaxis": {
           "automargin": true,
           "gridcolor": "white",
           "linecolor": "white",
           "ticks": "",
           "title": {
            "standoff": 15
           },
           "zerolinecolor": "white",
           "zerolinewidth": 2
          }
         }
        },
        "title": {
         "text": "ManufacturingProcess"
        }
       }
      }
     },
     "metadata": {},
     "output_type": "display_data"
    }
   ],
   "source": [
    "query = \"\"\"\n",
    "MATCH (ir:ManufacturingProcess)\n",
    "WHERE ir.Description =~ '(?i).*sweet.*sugar.*'\n",
    "RETURN ir.Step AS ManufacturingProcessstep, ir.Description AS ManufacturingProcessdes\n",
    "\"\"\"\n",
    "\n",
    "with driver.session() as session:\n",
    "    result = session.run(query)\n",
    "    neo4j_data = [record.data() for record in result]\n",
    "\n",
    "# Get a list of names and substitutions\n",
    "names = [record['ManufacturingProcessstep'] for record in neo4j_data]\n",
    "alternatives = [record['ManufacturingProcessdes'] for record in neo4j_data]\n",
    "\n",
    "# Create chart\n",
    "fig = go.Figure(data=[go.Table(\n",
    "    header=dict(values=['ManufacturingProcessstep', 'ManufacturingProcessdes'], fill_color='paleturquoise', align='left'),\n",
    "    cells=dict(values=[names, alternatives], fill_color='lavender', align='left'))\n",
    "])\n",
    "\n",
    "# Updated Chart Layout\n",
    "fig.update_layout(title='ManufacturingProcess')\n",
    "fig.show()"
   ]
  },
  {
   "cell_type": "code",
   "execution_count": 16,
   "metadata": {},
   "outputs": [
    {
     "data": {
      "application/vnd.plotly.v1+json": {
       "config": {
        "plotlyServerURL": "https://plot.ly"
       },
       "data": [
        {
         "cells": {
          "align": "left",
          "fill": {
           "color": "lavender"
          },
          "values": [
           [
            "Step 1",
            "Step 6",
            "Step 7",
            "Step 2",
            "Step 2",
            "Step 1",
            "Step 3",
            "Step 1"
           ],
           [
            "Step 1: The wheat flour is mixed with water to form a dough.",
            "Step 6: The sweet soy sauce is made by mixing sugar, water, salt, wheat, soy bean, spices, and sesame oil.",
            "Step 7: The chilli sauce is made by mixing chilli, water, sugar, salt, tapioca starch, acidity regulators, herbs, flavour enhancers, flavours, and preservatives.",
            "Step 2: The fruit juices are reconstituted with water",
            "Step 2: Combining the fruit juices and purées with water, sugar, food acids, vitamin C, natural flavors, and pectin.",
            "Step 1: Canola oil, water, sugar, and vinegar are mixed together in a large vat.",
            "Step 3: The fruit puree is mixed with reconstituted refined juice (made from concentrated pear juice, water, antioxidant (ascorbic acid), and acidity regulator (citric acid))",
            "Step 1: Preparation of Jelly - Water, sugar, and gelling agents are combined and heated to dissolve the sugar and activate the gelling agents."
           ]
          ]
         },
         "header": {
          "align": "left",
          "fill": {
           "color": "paleturquoise"
          },
          "values": [
           "ManufacturingProcessstep",
           "ManufacturingProcessdes"
          ]
         },
         "type": "table"
        }
       ],
       "layout": {
        "template": {
         "data": {
          "bar": [
           {
            "error_x": {
             "color": "#2a3f5f"
            },
            "error_y": {
             "color": "#2a3f5f"
            },
            "marker": {
             "line": {
              "color": "#E5ECF6",
              "width": 0.5
             },
             "pattern": {
              "fillmode": "overlay",
              "size": 10,
              "solidity": 0.2
             }
            },
            "type": "bar"
           }
          ],
          "barpolar": [
           {
            "marker": {
             "line": {
              "color": "#E5ECF6",
              "width": 0.5
             },
             "pattern": {
              "fillmode": "overlay",
              "size": 10,
              "solidity": 0.2
             }
            },
            "type": "barpolar"
           }
          ],
          "carpet": [
           {
            "aaxis": {
             "endlinecolor": "#2a3f5f",
             "gridcolor": "white",
             "linecolor": "white",
             "minorgridcolor": "white",
             "startlinecolor": "#2a3f5f"
            },
            "baxis": {
             "endlinecolor": "#2a3f5f",
             "gridcolor": "white",
             "linecolor": "white",
             "minorgridcolor": "white",
             "startlinecolor": "#2a3f5f"
            },
            "type": "carpet"
           }
          ],
          "choropleth": [
           {
            "colorbar": {
             "outlinewidth": 0,
             "ticks": ""
            },
            "type": "choropleth"
           }
          ],
          "contour": [
           {
            "colorbar": {
             "outlinewidth": 0,
             "ticks": ""
            },
            "colorscale": [
             [
              0,
              "#0d0887"
             ],
             [
              0.1111111111111111,
              "#46039f"
             ],
             [
              0.2222222222222222,
              "#7201a8"
             ],
             [
              0.3333333333333333,
              "#9c179e"
             ],
             [
              0.4444444444444444,
              "#bd3786"
             ],
             [
              0.5555555555555556,
              "#d8576b"
             ],
             [
              0.6666666666666666,
              "#ed7953"
             ],
             [
              0.7777777777777778,
              "#fb9f3a"
             ],
             [
              0.8888888888888888,
              "#fdca26"
             ],
             [
              1,
              "#f0f921"
             ]
            ],
            "type": "contour"
           }
          ],
          "contourcarpet": [
           {
            "colorbar": {
             "outlinewidth": 0,
             "ticks": ""
            },
            "type": "contourcarpet"
           }
          ],
          "heatmap": [
           {
            "colorbar": {
             "outlinewidth": 0,
             "ticks": ""
            },
            "colorscale": [
             [
              0,
              "#0d0887"
             ],
             [
              0.1111111111111111,
              "#46039f"
             ],
             [
              0.2222222222222222,
              "#7201a8"
             ],
             [
              0.3333333333333333,
              "#9c179e"
             ],
             [
              0.4444444444444444,
              "#bd3786"
             ],
             [
              0.5555555555555556,
              "#d8576b"
             ],
             [
              0.6666666666666666,
              "#ed7953"
             ],
             [
              0.7777777777777778,
              "#fb9f3a"
             ],
             [
              0.8888888888888888,
              "#fdca26"
             ],
             [
              1,
              "#f0f921"
             ]
            ],
            "type": "heatmap"
           }
          ],
          "heatmapgl": [
           {
            "colorbar": {
             "outlinewidth": 0,
             "ticks": ""
            },
            "colorscale": [
             [
              0,
              "#0d0887"
             ],
             [
              0.1111111111111111,
              "#46039f"
             ],
             [
              0.2222222222222222,
              "#7201a8"
             ],
             [
              0.3333333333333333,
              "#9c179e"
             ],
             [
              0.4444444444444444,
              "#bd3786"
             ],
             [
              0.5555555555555556,
              "#d8576b"
             ],
             [
              0.6666666666666666,
              "#ed7953"
             ],
             [
              0.7777777777777778,
              "#fb9f3a"
             ],
             [
              0.8888888888888888,
              "#fdca26"
             ],
             [
              1,
              "#f0f921"
             ]
            ],
            "type": "heatmapgl"
           }
          ],
          "histogram": [
           {
            "marker": {
             "pattern": {
              "fillmode": "overlay",
              "size": 10,
              "solidity": 0.2
             }
            },
            "type": "histogram"
           }
          ],
          "histogram2d": [
           {
            "colorbar": {
             "outlinewidth": 0,
             "ticks": ""
            },
            "colorscale": [
             [
              0,
              "#0d0887"
             ],
             [
              0.1111111111111111,
              "#46039f"
             ],
             [
              0.2222222222222222,
              "#7201a8"
             ],
             [
              0.3333333333333333,
              "#9c179e"
             ],
             [
              0.4444444444444444,
              "#bd3786"
             ],
             [
              0.5555555555555556,
              "#d8576b"
             ],
             [
              0.6666666666666666,
              "#ed7953"
             ],
             [
              0.7777777777777778,
              "#fb9f3a"
             ],
             [
              0.8888888888888888,
              "#fdca26"
             ],
             [
              1,
              "#f0f921"
             ]
            ],
            "type": "histogram2d"
           }
          ],
          "histogram2dcontour": [
           {
            "colorbar": {
             "outlinewidth": 0,
             "ticks": ""
            },
            "colorscale": [
             [
              0,
              "#0d0887"
             ],
             [
              0.1111111111111111,
              "#46039f"
             ],
             [
              0.2222222222222222,
              "#7201a8"
             ],
             [
              0.3333333333333333,
              "#9c179e"
             ],
             [
              0.4444444444444444,
              "#bd3786"
             ],
             [
              0.5555555555555556,
              "#d8576b"
             ],
             [
              0.6666666666666666,
              "#ed7953"
             ],
             [
              0.7777777777777778,
              "#fb9f3a"
             ],
             [
              0.8888888888888888,
              "#fdca26"
             ],
             [
              1,
              "#f0f921"
             ]
            ],
            "type": "histogram2dcontour"
           }
          ],
          "mesh3d": [
           {
            "colorbar": {
             "outlinewidth": 0,
             "ticks": ""
            },
            "type": "mesh3d"
           }
          ],
          "parcoords": [
           {
            "line": {
             "colorbar": {
              "outlinewidth": 0,
              "ticks": ""
             }
            },
            "type": "parcoords"
           }
          ],
          "pie": [
           {
            "automargin": true,
            "type": "pie"
           }
          ],
          "scatter": [
           {
            "fillpattern": {
             "fillmode": "overlay",
             "size": 10,
             "solidity": 0.2
            },
            "type": "scatter"
           }
          ],
          "scatter3d": [
           {
            "line": {
             "colorbar": {
              "outlinewidth": 0,
              "ticks": ""
             }
            },
            "marker": {
             "colorbar": {
              "outlinewidth": 0,
              "ticks": ""
             }
            },
            "type": "scatter3d"
           }
          ],
          "scattercarpet": [
           {
            "marker": {
             "colorbar": {
              "outlinewidth": 0,
              "ticks": ""
             }
            },
            "type": "scattercarpet"
           }
          ],
          "scattergeo": [
           {
            "marker": {
             "colorbar": {
              "outlinewidth": 0,
              "ticks": ""
             }
            },
            "type": "scattergeo"
           }
          ],
          "scattergl": [
           {
            "marker": {
             "colorbar": {
              "outlinewidth": 0,
              "ticks": ""
             }
            },
            "type": "scattergl"
           }
          ],
          "scattermapbox": [
           {
            "marker": {
             "colorbar": {
              "outlinewidth": 0,
              "ticks": ""
             }
            },
            "type": "scattermapbox"
           }
          ],
          "scatterpolar": [
           {
            "marker": {
             "colorbar": {
              "outlinewidth": 0,
              "ticks": ""
             }
            },
            "type": "scatterpolar"
           }
          ],
          "scatterpolargl": [
           {
            "marker": {
             "colorbar": {
              "outlinewidth": 0,
              "ticks": ""
             }
            },
            "type": "scatterpolargl"
           }
          ],
          "scatterternary": [
           {
            "marker": {
             "colorbar": {
              "outlinewidth": 0,
              "ticks": ""
             }
            },
            "type": "scatterternary"
           }
          ],
          "surface": [
           {
            "colorbar": {
             "outlinewidth": 0,
             "ticks": ""
            },
            "colorscale": [
             [
              0,
              "#0d0887"
             ],
             [
              0.1111111111111111,
              "#46039f"
             ],
             [
              0.2222222222222222,
              "#7201a8"
             ],
             [
              0.3333333333333333,
              "#9c179e"
             ],
             [
              0.4444444444444444,
              "#bd3786"
             ],
             [
              0.5555555555555556,
              "#d8576b"
             ],
             [
              0.6666666666666666,
              "#ed7953"
             ],
             [
              0.7777777777777778,
              "#fb9f3a"
             ],
             [
              0.8888888888888888,
              "#fdca26"
             ],
             [
              1,
              "#f0f921"
             ]
            ],
            "type": "surface"
           }
          ],
          "table": [
           {
            "cells": {
             "fill": {
              "color": "#EBF0F8"
             },
             "line": {
              "color": "white"
             }
            },
            "header": {
             "fill": {
              "color": "#C8D4E3"
             },
             "line": {
              "color": "white"
             }
            },
            "type": "table"
           }
          ]
         },
         "layout": {
          "annotationdefaults": {
           "arrowcolor": "#2a3f5f",
           "arrowhead": 0,
           "arrowwidth": 1
          },
          "autotypenumbers": "strict",
          "coloraxis": {
           "colorbar": {
            "outlinewidth": 0,
            "ticks": ""
           }
          },
          "colorscale": {
           "diverging": [
            [
             0,
             "#8e0152"
            ],
            [
             0.1,
             "#c51b7d"
            ],
            [
             0.2,
             "#de77ae"
            ],
            [
             0.3,
             "#f1b6da"
            ],
            [
             0.4,
             "#fde0ef"
            ],
            [
             0.5,
             "#f7f7f7"
            ],
            [
             0.6,
             "#e6f5d0"
            ],
            [
             0.7,
             "#b8e186"
            ],
            [
             0.8,
             "#7fbc41"
            ],
            [
             0.9,
             "#4d9221"
            ],
            [
             1,
             "#276419"
            ]
           ],
           "sequential": [
            [
             0,
             "#0d0887"
            ],
            [
             0.1111111111111111,
             "#46039f"
            ],
            [
             0.2222222222222222,
             "#7201a8"
            ],
            [
             0.3333333333333333,
             "#9c179e"
            ],
            [
             0.4444444444444444,
             "#bd3786"
            ],
            [
             0.5555555555555556,
             "#d8576b"
            ],
            [
             0.6666666666666666,
             "#ed7953"
            ],
            [
             0.7777777777777778,
             "#fb9f3a"
            ],
            [
             0.8888888888888888,
             "#fdca26"
            ],
            [
             1,
             "#f0f921"
            ]
           ],
           "sequentialminus": [
            [
             0,
             "#0d0887"
            ],
            [
             0.1111111111111111,
             "#46039f"
            ],
            [
             0.2222222222222222,
             "#7201a8"
            ],
            [
             0.3333333333333333,
             "#9c179e"
            ],
            [
             0.4444444444444444,
             "#bd3786"
            ],
            [
             0.5555555555555556,
             "#d8576b"
            ],
            [
             0.6666666666666666,
             "#ed7953"
            ],
            [
             0.7777777777777778,
             "#fb9f3a"
            ],
            [
             0.8888888888888888,
             "#fdca26"
            ],
            [
             1,
             "#f0f921"
            ]
           ]
          },
          "colorway": [
           "#636efa",
           "#EF553B",
           "#00cc96",
           "#ab63fa",
           "#FFA15A",
           "#19d3f3",
           "#FF6692",
           "#B6E880",
           "#FF97FF",
           "#FECB52"
          ],
          "font": {
           "color": "#2a3f5f"
          },
          "geo": {
           "bgcolor": "white",
           "lakecolor": "white",
           "landcolor": "#E5ECF6",
           "showlakes": true,
           "showland": true,
           "subunitcolor": "white"
          },
          "hoverlabel": {
           "align": "left"
          },
          "hovermode": "closest",
          "mapbox": {
           "style": "light"
          },
          "paper_bgcolor": "white",
          "plot_bgcolor": "#E5ECF6",
          "polar": {
           "angularaxis": {
            "gridcolor": "white",
            "linecolor": "white",
            "ticks": ""
           },
           "bgcolor": "#E5ECF6",
           "radialaxis": {
            "gridcolor": "white",
            "linecolor": "white",
            "ticks": ""
           }
          },
          "scene": {
           "xaxis": {
            "backgroundcolor": "#E5ECF6",
            "gridcolor": "white",
            "gridwidth": 2,
            "linecolor": "white",
            "showbackground": true,
            "ticks": "",
            "zerolinecolor": "white"
           },
           "yaxis": {
            "backgroundcolor": "#E5ECF6",
            "gridcolor": "white",
            "gridwidth": 2,
            "linecolor": "white",
            "showbackground": true,
            "ticks": "",
            "zerolinecolor": "white"
           },
           "zaxis": {
            "backgroundcolor": "#E5ECF6",
            "gridcolor": "white",
            "gridwidth": 2,
            "linecolor": "white",
            "showbackground": true,
            "ticks": "",
            "zerolinecolor": "white"
           }
          },
          "shapedefaults": {
           "line": {
            "color": "#2a3f5f"
           }
          },
          "ternary": {
           "aaxis": {
            "gridcolor": "white",
            "linecolor": "white",
            "ticks": ""
           },
           "baxis": {
            "gridcolor": "white",
            "linecolor": "white",
            "ticks": ""
           },
           "bgcolor": "#E5ECF6",
           "caxis": {
            "gridcolor": "white",
            "linecolor": "white",
            "ticks": ""
           }
          },
          "title": {
           "x": 0.05
          },
          "xaxis": {
           "automargin": true,
           "gridcolor": "white",
           "linecolor": "white",
           "ticks": "",
           "title": {
            "standoff": 15
           },
           "zerolinecolor": "white",
           "zerolinewidth": 2
          },
          "yaxis": {
           "automargin": true,
           "gridcolor": "white",
           "linecolor": "white",
           "ticks": "",
           "title": {
            "standoff": 15
           },
           "zerolinecolor": "white",
           "zerolinewidth": 2
          }
         }
        },
        "title": {
         "text": "ManufacturingProcess"
        }
       }
      }
     },
     "metadata": {},
     "output_type": "display_data"
    }
   ],
   "source": [
    "query = \"\"\"\n",
    "MATCH (ir:ManufacturingProcess)\n",
    "WHERE ir.Description =~ '(?i).*water.*'\n",
    "RETURN ir.Step AS ManufacturingProcessstep, ir.Description AS ManufacturingProcessdes\n",
    "\"\"\"\n",
    "\n",
    "with driver.session() as session:\n",
    "    result = session.run(query)\n",
    "    neo4j_data = [record.data() for record in result]\n",
    "\n",
    "# Get a list of names and substitutions\n",
    "names = [record['ManufacturingProcessstep'] for record in neo4j_data]\n",
    "alternatives = [record['ManufacturingProcessdes'] for record in neo4j_data]\n",
    "\n",
    "# Create chart\n",
    "fig = go.Figure(data=[go.Table(\n",
    "    header=dict(values=['ManufacturingProcessstep', 'ManufacturingProcessdes'], fill_color='paleturquoise', align='left'),\n",
    "    cells=dict(values=[names, alternatives], fill_color='lavender', align='left'))\n",
    "])\n",
    "\n",
    "# Updated Chart Layout\n",
    "fig.update_layout(title='ManufacturingProcess')\n",
    "fig.show()"
   ]
  },
  {
   "cell_type": "code",
   "execution_count": 19,
   "metadata": {},
   "outputs": [
    {
     "ename": "AttributeError",
     "evalue": "'NoneType' object has no attribute 'lower'",
     "output_type": "error",
     "traceback": [
      "\u001b[1;31m---------------------------------------------------------------------------\u001b[0m",
      "\u001b[1;31mAttributeError\u001b[0m                            Traceback (most recent call last)",
      "Cell \u001b[1;32mIn[19], line 25\u001b[0m\n\u001b[0;32m     19\u001b[0m df\u001b[38;5;241m.\u001b[39mrename(columns\u001b[38;5;241m=\u001b[39m{product_col: \u001b[38;5;124m'\u001b[39m\u001b[38;5;124mStep\u001b[39m\u001b[38;5;124m'\u001b[39m, desc_col: \u001b[38;5;124m'\u001b[39m\u001b[38;5;124mDescription\u001b[39m\u001b[38;5;124m'\u001b[39m}, inplace\u001b[38;5;241m=\u001b[39m\u001b[38;5;28;01mTrue\u001b[39;00m)\n\u001b[0;32m     22\u001b[0m keywords \u001b[38;5;241m=\u001b[39m [\u001b[38;5;124m'\u001b[39m\u001b[38;5;124mwater\u001b[39m\u001b[38;5;124m'\u001b[39m, \u001b[38;5;124m'\u001b[39m\u001b[38;5;124manimal\u001b[39m\u001b[38;5;124m'\u001b[39m]\n\u001b[1;32m---> 25\u001b[0m grouped \u001b[38;5;241m=\u001b[39m df\u001b[38;5;241m.\u001b[39mgroupby(\u001b[43mdf\u001b[49m\u001b[43m[\u001b[49m\u001b[38;5;124;43m'\u001b[39;49m\u001b[38;5;124;43mDescription\u001b[39;49m\u001b[38;5;124;43m'\u001b[39;49m\u001b[43m]\u001b[49m\u001b[38;5;241;43m.\u001b[39;49m\u001b[43mapply\u001b[49m\u001b[43m(\u001b[49m\u001b[38;5;28;43;01mlambda\u001b[39;49;00m\u001b[43m \u001b[49m\u001b[43mx\u001b[49m\u001b[43m:\u001b[49m\u001b[43m \u001b[49m\u001b[38;5;28;43many\u001b[39;49m\u001b[43m(\u001b[49m\u001b[43mkw\u001b[49m\u001b[38;5;241;43m.\u001b[39;49m\u001b[43mlower\u001b[49m\u001b[43m(\u001b[49m\u001b[43m)\u001b[49m\u001b[43m \u001b[49m\u001b[38;5;129;43;01min\u001b[39;49;00m\u001b[43m \u001b[49m\u001b[43mx\u001b[49m\u001b[38;5;241;43m.\u001b[39;49m\u001b[43mlower\u001b[49m\u001b[43m(\u001b[49m\u001b[43m)\u001b[49m\u001b[43m \u001b[49m\u001b[38;5;28;43;01mfor\u001b[39;49;00m\u001b[43m \u001b[49m\u001b[43mkw\u001b[49m\u001b[43m \u001b[49m\u001b[38;5;129;43;01min\u001b[39;49;00m\u001b[43m \u001b[49m\u001b[43mkeywords\u001b[49m\u001b[43m)\u001b[49m\u001b[43m)\u001b[49m)\n\u001b[0;32m     28\u001b[0m \u001b[38;5;28;01mfor\u001b[39;00m group_name, group \u001b[38;5;129;01min\u001b[39;00m grouped:\n\u001b[0;32m     29\u001b[0m     \u001b[38;5;28mprint\u001b[39m(\u001b[38;5;124mf\u001b[39m\u001b[38;5;124m\"\u001b[39m\u001b[38;5;124mGroup: \u001b[39m\u001b[38;5;132;01m{\u001b[39;00mgroup_name\u001b[38;5;132;01m}\u001b[39;00m\u001b[38;5;124m\"\u001b[39m)\n",
      "File \u001b[1;32mc:\\Users\\apple\\anaconda3\\lib\\site-packages\\pandas\\core\\series.py:4771\u001b[0m, in \u001b[0;36mSeries.apply\u001b[1;34m(self, func, convert_dtype, args, **kwargs)\u001b[0m\n\u001b[0;32m   4661\u001b[0m \u001b[38;5;28;01mdef\u001b[39;00m \u001b[38;5;21mapply\u001b[39m(\n\u001b[0;32m   4662\u001b[0m     \u001b[38;5;28mself\u001b[39m,\n\u001b[0;32m   4663\u001b[0m     func: AggFuncType,\n\u001b[1;32m   (...)\u001b[0m\n\u001b[0;32m   4666\u001b[0m     \u001b[38;5;241m*\u001b[39m\u001b[38;5;241m*\u001b[39mkwargs,\n\u001b[0;32m   4667\u001b[0m ) \u001b[38;5;241m-\u001b[39m\u001b[38;5;241m>\u001b[39m DataFrame \u001b[38;5;241m|\u001b[39m Series:\n\u001b[0;32m   4668\u001b[0m     \u001b[38;5;124;03m\"\"\"\u001b[39;00m\n\u001b[0;32m   4669\u001b[0m \u001b[38;5;124;03m    Invoke function on values of Series.\u001b[39;00m\n\u001b[0;32m   4670\u001b[0m \n\u001b[1;32m   (...)\u001b[0m\n\u001b[0;32m   4769\u001b[0m \u001b[38;5;124;03m    dtype: float64\u001b[39;00m\n\u001b[0;32m   4770\u001b[0m \u001b[38;5;124;03m    \"\"\"\u001b[39;00m\n\u001b[1;32m-> 4771\u001b[0m     \u001b[38;5;28;01mreturn\u001b[39;00m \u001b[43mSeriesApply\u001b[49m\u001b[43m(\u001b[49m\u001b[38;5;28;43mself\u001b[39;49m\u001b[43m,\u001b[49m\u001b[43m \u001b[49m\u001b[43mfunc\u001b[49m\u001b[43m,\u001b[49m\u001b[43m \u001b[49m\u001b[43mconvert_dtype\u001b[49m\u001b[43m,\u001b[49m\u001b[43m \u001b[49m\u001b[43margs\u001b[49m\u001b[43m,\u001b[49m\u001b[43m \u001b[49m\u001b[43mkwargs\u001b[49m\u001b[43m)\u001b[49m\u001b[38;5;241;43m.\u001b[39;49m\u001b[43mapply\u001b[49m\u001b[43m(\u001b[49m\u001b[43m)\u001b[49m\n",
      "File \u001b[1;32mc:\\Users\\apple\\anaconda3\\lib\\site-packages\\pandas\\core\\apply.py:1123\u001b[0m, in \u001b[0;36mSeriesApply.apply\u001b[1;34m(self)\u001b[0m\n\u001b[0;32m   1120\u001b[0m     \u001b[38;5;28;01mreturn\u001b[39;00m \u001b[38;5;28mself\u001b[39m\u001b[38;5;241m.\u001b[39mapply_str()\n\u001b[0;32m   1122\u001b[0m \u001b[38;5;66;03m# self.f is Callable\u001b[39;00m\n\u001b[1;32m-> 1123\u001b[0m \u001b[38;5;28;01mreturn\u001b[39;00m \u001b[38;5;28;43mself\u001b[39;49m\u001b[38;5;241;43m.\u001b[39;49m\u001b[43mapply_standard\u001b[49m\u001b[43m(\u001b[49m\u001b[43m)\u001b[49m\n",
      "File \u001b[1;32mc:\\Users\\apple\\anaconda3\\lib\\site-packages\\pandas\\core\\apply.py:1174\u001b[0m, in \u001b[0;36mSeriesApply.apply_standard\u001b[1;34m(self)\u001b[0m\n\u001b[0;32m   1172\u001b[0m     \u001b[38;5;28;01melse\u001b[39;00m:\n\u001b[0;32m   1173\u001b[0m         values \u001b[38;5;241m=\u001b[39m obj\u001b[38;5;241m.\u001b[39mastype(\u001b[38;5;28mobject\u001b[39m)\u001b[38;5;241m.\u001b[39m_values\n\u001b[1;32m-> 1174\u001b[0m         mapped \u001b[38;5;241m=\u001b[39m \u001b[43mlib\u001b[49m\u001b[38;5;241;43m.\u001b[39;49m\u001b[43mmap_infer\u001b[49m\u001b[43m(\u001b[49m\n\u001b[0;32m   1175\u001b[0m \u001b[43m            \u001b[49m\u001b[43mvalues\u001b[49m\u001b[43m,\u001b[49m\n\u001b[0;32m   1176\u001b[0m \u001b[43m            \u001b[49m\u001b[43mf\u001b[49m\u001b[43m,\u001b[49m\n\u001b[0;32m   1177\u001b[0m \u001b[43m            \u001b[49m\u001b[43mconvert\u001b[49m\u001b[38;5;241;43m=\u001b[39;49m\u001b[38;5;28;43mself\u001b[39;49m\u001b[38;5;241;43m.\u001b[39;49m\u001b[43mconvert_dtype\u001b[49m\u001b[43m,\u001b[49m\n\u001b[0;32m   1178\u001b[0m \u001b[43m        \u001b[49m\u001b[43m)\u001b[49m\n\u001b[0;32m   1180\u001b[0m \u001b[38;5;28;01mif\u001b[39;00m \u001b[38;5;28mlen\u001b[39m(mapped) \u001b[38;5;129;01mand\u001b[39;00m \u001b[38;5;28misinstance\u001b[39m(mapped[\u001b[38;5;241m0\u001b[39m], ABCSeries):\n\u001b[0;32m   1181\u001b[0m     \u001b[38;5;66;03m# GH#43986 Need to do list(mapped) in order to get treated as nested\u001b[39;00m\n\u001b[0;32m   1182\u001b[0m     \u001b[38;5;66;03m#  See also GH#25959 regarding EA support\u001b[39;00m\n\u001b[0;32m   1183\u001b[0m     \u001b[38;5;28;01mreturn\u001b[39;00m obj\u001b[38;5;241m.\u001b[39m_constructor_expanddim(\u001b[38;5;28mlist\u001b[39m(mapped), index\u001b[38;5;241m=\u001b[39mobj\u001b[38;5;241m.\u001b[39mindex)\n",
      "File \u001b[1;32mc:\\Users\\apple\\anaconda3\\lib\\site-packages\\pandas\\_libs\\lib.pyx:2924\u001b[0m, in \u001b[0;36mpandas._libs.lib.map_infer\u001b[1;34m()\u001b[0m\n",
      "Cell \u001b[1;32mIn[19], line 25\u001b[0m, in \u001b[0;36m<lambda>\u001b[1;34m(x)\u001b[0m\n\u001b[0;32m     19\u001b[0m df\u001b[38;5;241m.\u001b[39mrename(columns\u001b[38;5;241m=\u001b[39m{product_col: \u001b[38;5;124m'\u001b[39m\u001b[38;5;124mStep\u001b[39m\u001b[38;5;124m'\u001b[39m, desc_col: \u001b[38;5;124m'\u001b[39m\u001b[38;5;124mDescription\u001b[39m\u001b[38;5;124m'\u001b[39m}, inplace\u001b[38;5;241m=\u001b[39m\u001b[38;5;28;01mTrue\u001b[39;00m)\n\u001b[0;32m     22\u001b[0m keywords \u001b[38;5;241m=\u001b[39m [\u001b[38;5;124m'\u001b[39m\u001b[38;5;124mwater\u001b[39m\u001b[38;5;124m'\u001b[39m, \u001b[38;5;124m'\u001b[39m\u001b[38;5;124manimal\u001b[39m\u001b[38;5;124m'\u001b[39m]\n\u001b[1;32m---> 25\u001b[0m grouped \u001b[38;5;241m=\u001b[39m df\u001b[38;5;241m.\u001b[39mgroupby(df[\u001b[38;5;124m'\u001b[39m\u001b[38;5;124mDescription\u001b[39m\u001b[38;5;124m'\u001b[39m]\u001b[38;5;241m.\u001b[39mapply(\u001b[38;5;28;01mlambda\u001b[39;00m x: \u001b[38;5;28;43many\u001b[39;49m\u001b[43m(\u001b[49m\u001b[43mkw\u001b[49m\u001b[38;5;241;43m.\u001b[39;49m\u001b[43mlower\u001b[49m\u001b[43m(\u001b[49m\u001b[43m)\u001b[49m\u001b[43m \u001b[49m\u001b[38;5;129;43;01min\u001b[39;49;00m\u001b[43m \u001b[49m\u001b[43mx\u001b[49m\u001b[38;5;241;43m.\u001b[39;49m\u001b[43mlower\u001b[49m\u001b[43m(\u001b[49m\u001b[43m)\u001b[49m\u001b[43m \u001b[49m\u001b[38;5;28;43;01mfor\u001b[39;49;00m\u001b[43m \u001b[49m\u001b[43mkw\u001b[49m\u001b[43m \u001b[49m\u001b[38;5;129;43;01min\u001b[39;49;00m\u001b[43m \u001b[49m\u001b[43mkeywords\u001b[49m\u001b[43m)\u001b[49m))\n\u001b[0;32m     28\u001b[0m \u001b[38;5;28;01mfor\u001b[39;00m group_name, group \u001b[38;5;129;01min\u001b[39;00m grouped:\n\u001b[0;32m     29\u001b[0m     \u001b[38;5;28mprint\u001b[39m(\u001b[38;5;124mf\u001b[39m\u001b[38;5;124m\"\u001b[39m\u001b[38;5;124mGroup: \u001b[39m\u001b[38;5;132;01m{\u001b[39;00mgroup_name\u001b[38;5;132;01m}\u001b[39;00m\u001b[38;5;124m\"\u001b[39m)\n",
      "Cell \u001b[1;32mIn[19], line 25\u001b[0m, in \u001b[0;36m<genexpr>\u001b[1;34m(.0)\u001b[0m\n\u001b[0;32m     19\u001b[0m df\u001b[38;5;241m.\u001b[39mrename(columns\u001b[38;5;241m=\u001b[39m{product_col: \u001b[38;5;124m'\u001b[39m\u001b[38;5;124mStep\u001b[39m\u001b[38;5;124m'\u001b[39m, desc_col: \u001b[38;5;124m'\u001b[39m\u001b[38;5;124mDescription\u001b[39m\u001b[38;5;124m'\u001b[39m}, inplace\u001b[38;5;241m=\u001b[39m\u001b[38;5;28;01mTrue\u001b[39;00m)\n\u001b[0;32m     22\u001b[0m keywords \u001b[38;5;241m=\u001b[39m [\u001b[38;5;124m'\u001b[39m\u001b[38;5;124mwater\u001b[39m\u001b[38;5;124m'\u001b[39m, \u001b[38;5;124m'\u001b[39m\u001b[38;5;124manimal\u001b[39m\u001b[38;5;124m'\u001b[39m]\n\u001b[1;32m---> 25\u001b[0m grouped \u001b[38;5;241m=\u001b[39m df\u001b[38;5;241m.\u001b[39mgroupby(df[\u001b[38;5;124m'\u001b[39m\u001b[38;5;124mDescription\u001b[39m\u001b[38;5;124m'\u001b[39m]\u001b[38;5;241m.\u001b[39mapply(\u001b[38;5;28;01mlambda\u001b[39;00m x: \u001b[38;5;28many\u001b[39m(kw\u001b[38;5;241m.\u001b[39mlower() \u001b[38;5;129;01min\u001b[39;00m \u001b[43mx\u001b[49m\u001b[38;5;241;43m.\u001b[39;49m\u001b[43mlower\u001b[49m() \u001b[38;5;28;01mfor\u001b[39;00m kw \u001b[38;5;129;01min\u001b[39;00m keywords)))\n\u001b[0;32m     28\u001b[0m \u001b[38;5;28;01mfor\u001b[39;00m group_name, group \u001b[38;5;129;01min\u001b[39;00m grouped:\n\u001b[0;32m     29\u001b[0m     \u001b[38;5;28mprint\u001b[39m(\u001b[38;5;124mf\u001b[39m\u001b[38;5;124m\"\u001b[39m\u001b[38;5;124mGroup: \u001b[39m\u001b[38;5;132;01m{\u001b[39;00mgroup_name\u001b[38;5;132;01m}\u001b[39;00m\u001b[38;5;124m\"\u001b[39m)\n",
      "\u001b[1;31mAttributeError\u001b[0m: 'NoneType' object has no attribute 'lower'"
     ]
    }
   ],
   "source": [
    "import pandas as pd\n",
    "\n",
    "\n",
    "query = \"\"\"\n",
    "MATCH (ir:ManufacturingProcess)\n",
    "RETURN ir.Step AS ManufacturingProcessstep, ir.Description AS ManufacturingProcessdes\n",
    "\"\"\"\n",
    "\n",
    "with driver.session() as session:\n",
    "    result = session.run(query)\n",
    "    neo4j_data = [record.data() for record in result]\n",
    "\n",
    "\n",
    "df = pd.DataFrame(neo4j_data)\n",
    "\n",
    "\n",
    "product_col = df.columns[df.columns.str.contains('ManufacturingProcessstep', case=False)][0]\n",
    "desc_col = df.columns[df.columns.str.contains('ManufacturingProcessdes', case=False)][0]\n",
    "df.rename(columns={product_col: 'Step', desc_col: 'Description'}, inplace=True)\n",
    "\n",
    "\n",
    "keywords = ['water', 'animal']\n",
    "\n",
    "\n",
    "grouped = df.groupby(df['Description'].apply(lambda x: any(kw.lower() in x.lower() for kw in keywords)))\n",
    "\n",
    "\n",
    "for group_name, group in grouped:\n",
    "    print(f\"Group: {group_name}\")\n",
    "    print(group)\n",
    "    print(\"-\" * 50)"
   ]
  },
  {
   "cell_type": "code",
   "execution_count": 20,
   "metadata": {},
   "outputs": [
    {
     "name": "stdout",
     "output_type": "stream",
     "text": [
      "Group: False\n",
      "       Step                                        Description\n",
      "0      None                                               None\n",
      "1      None                                               None\n",
      "2      None                                               None\n",
      "3      None                                               None\n",
      "4    Step 1  Step 1: The wheat flour is mixed with water to...\n",
      "..      ...                                                ...\n",
      "900    None                                               None\n",
      "901    None                                               None\n",
      "902    None                                               None\n",
      "903    None                                               None\n",
      "904    None                                               None\n",
      "\n",
      "[852 rows x 2 columns]\n",
      "--------------------------------------------------\n",
      "Group: True\n",
      "       Step                                        Description\n",
      "5    Step 2  Step 2: The dough is rolled out and cut into n...\n",
      "7    Step 4  Step 4: The seasoning powder is made by mixing...\n",
      "8    Step 5  Step 5: The seasoning oil is made by mixing re...\n",
      "9    Step 6  Step 6: The sweet soy sauce is made by mixing ...\n",
      "10   Step 7  Step 7: The chilli sauce is made by mixing chi...\n",
      "40   Step 1  1. The wheat flour, sugar, vegetable oil, coco...\n",
      "41   Step 2  2. The dough is then shaped into small, round ...\n",
      "42   Step 3  3. For the strawberry flavor, food acid and co...\n",
      "43   Step 4  4. After baking, the cookies are cooled and fi...\n",
      "48   Step 1  Mixing and blending dry ingredients, including...\n",
      "49   Step 2  Adding and mixing wet ingredients, such as veg...\n",
      "50   Step 3         Forming the dough and allowing it to rest.\n",
      "51   Step 4  Sheeting and cutting the dough into round wafers.\n",
      "53   Step 6  Preparing the vanilla creme filling by blendin...\n",
      "55   Step 8  Assembling the sandwich cookies by topping the...\n",
      "56   Step 9  Cooling and packaging the cookies for distribu...\n",
      "59   Step 1  1. Apples and mangoes are harvested and proces...\n",
      "64   Step 6  6. The mixture is pasteurized to ensure safety...\n",
      "70   Step 1  Step 1: The fruit juices are extracted from pe...\n",
      "72   Step 3  Step 3: Sugar, food acids, and vitamin C are a...\n",
      "73   Step 4  Step 4: The mixture is pasteurized to kill any...\n",
      "76   Step 1  Step 1: Extracting fruit juices and purées fro...\n",
      "77   Step 2  Step 2: Combining the fruit juices and purées ...\n",
      "78   Step 3  Step 3: Homogenizing the mixture to ensure a c...\n",
      "79   Step 4  Step 4: Pasteurizing the mixture to kill any m...\n",
      "80   Step 5  Step 5: Filling the drink into containers, sea...\n",
      "81   Step 1  Step 1: Extraction of fruit juices from pear, ...\n",
      "83   Step 3  Step 3: Addition of sugar and food acids (citr...\n",
      "85   Step 5  Step 5: Homogenization and pasteurization of t...\n",
      "86   Step 6  Step 6: Filling and sealing of the individual ...\n",
      "111  Step 1  Step 1: Canola oil, water, sugar, and vinegar ...\n",
      "112  Step 2  Step 2: Thickeners, egg yolk, gherkins, salt, ...\n",
      "113  Step 3  Step 3: The mixture is heated to a specific te...\n",
      "114  Step 4  Step 4: The mixture is cooled and bottled for ...\n",
      "121  Step 1  Potatoes are washed, peeled, and sliced into c...\n",
      "122  Step 2  The sliced potatoes are blanched in a mixture ...\n",
      "123  Step 3  The blanched potatoes are then fried in the sa...\n",
      "124  Step 4  While the potatoes are still hot, they are sea...\n",
      "125  Step 5  The seasoned chips are then cooled and package...\n",
      "128  Step 1  Step 1: Potatoes are washed, peeled, and thinl...\n",
      "130  Step 3  Step 3: The potatoes are then fried in a blend...\n",
      "131  Step 4  Step 4: After frying, the chips are seasoned w...\n",
      "137  Step 1  Step 1: Fruits (peach and pear) are sorted, wa...\n",
      "138  Step 2  Step 2: The fruits are chopped and blended to ...\n",
      "139  Step 3  Step 3: The fruit puree is mixed with reconsti...\n",
      "140  Step 4  Step 4: The mixture is homogenized to ensure e...\n",
      "141  Step 5  Step 5: The product is filled into cups, seale...\n",
      "142  Step 6  Step 6: The cups are labeled, packaged, and pr...\n",
      "144  Step 1  Step 1: Preparation of Jelly - Water, sugar, a...\n",
      "145  Step 2  Step 2: Addition of Natural Flavours and Colou...\n",
      "146  Step 3  Step 3: Acidification - Acidity regulators are...\n",
      "147  Step 4  Step 4: Fruit Preparation - Peach and pear pie...\n",
      "148  Step 5  Step 5: Filling and Setting - The mixture is f...\n",
      "--------------------------------------------------\n"
     ]
    }
   ],
   "source": [
    "import pandas as pd\n",
    "\n",
    "\n",
    "query = \"\"\"\n",
    "MATCH (ir:ManufacturingProcess)\n",
    "RETURN ir.Step AS ManufacturingProcessstep, ir.Description AS ManufacturingProcessdes\n",
    "\"\"\"\n",
    "\n",
    "with driver.session() as session:\n",
    "    result = session.run(query)\n",
    "    neo4j_data = [record.data() for record in result]\n",
    "\n",
    "\n",
    "df = pd.DataFrame(neo4j_data)\n",
    "\n",
    "\n",
    "product_col = df.columns[df.columns.str.contains('ManufacturingProcessstep', case=False)][0]\n",
    "desc_col = df.columns[df.columns.str.contains('ManufacturingProcessdes', case=False)][0]\n",
    "df.rename(columns={product_col: 'Step', desc_col: 'Description'}, inplace=True)\n",
    "\n",
    "\n",
    "keywords = ['salt', 'and']\n",
    "\n",
    "\n",
    "grouped = df.groupby(df['Description'].apply(lambda x: any(kw.lower() in str(x).lower() for kw in keywords) if pd.notnull(x) else False))\n",
    "\n",
    "\n",
    "for group_name, group in grouped:\n",
    "    print(f\"Group: {group_name}\")\n",
    "    print(group)\n",
    "    print(\"-\" * 50)"
   ]
  },
  {
   "cell_type": "code",
   "execution_count": null,
   "metadata": {},
   "outputs": [],
   "source": []
  },
  {
   "cell_type": "code",
   "execution_count": 21,
   "metadata": {},
   "outputs": [
    {
     "name": "stdout",
     "output_type": "stream",
     "text": [
      "[{'group_name': False, 'group_data': [{'Step': None, 'Description': None}, {'Step': None, 'Description': None}, {'Step': None, 'Description': None}, {'Step': None, 'Description': None}, {'Step': 'Step 3', 'Description': 'Step 3: The noodles are fried in refined palm oil.'}, {'Step': 'Step 8', 'Description': 'Step 8: The fried onion is made by frying onion in refined palm oil.'}, {'Step': None, 'Description': None}, {'Step': None, 'Description': None}, {'Step': None, 'Description': None}, {'Step': None, 'Description': None}, {'Step': None, 'Description': None}, {'Step': None, 'Description': None}, {'Step': None, 'Description': None}, {'Step': None, 'Description': None}, {'Step': None, 'Description': None}, {'Step': None, 'Description': None}, {'Step': None, 'Description': None}, {'Step': None, 'Description': None}, {'Step': None, 'Description': None}, {'Step': None, 'Description': None}, {'Step': None, 'Description': None}, {'Step': None, 'Description': None}, {'Step': None, 'Description': None}, {'Step': None, 'Description': None}, {'Step': None, 'Description': None}, {'Step': None, 'Description': None}, {'Step': None, 'Description': None}, {'Step': None, 'Description': None}, {'Step': None, 'Description': None}, {'Step': None, 'Description': None}, {'Step': None, 'Description': None}, {'Step': None, 'Description': None}, {'Step': None, 'Description': None}, {'Step': None, 'Description': None}, {'Step': 'Step 5', 'Description': '5. The cookies are then packaged into bags of 18 packs.'}, {'Step': None, 'Description': None}, {'Step': None, 'Description': None}, {'Step': None, 'Description': None}, {'Step': 'Step 5', 'Description': 'Baking the wafers at controlled temperatures.'}, {'Step': 'Step 7', 'Description': 'Piping or spreading the creme filling onto one wafer.'}, {'Step': None, 'Description': None}, {'Step': None, 'Description': None}, {'Step': 'Step 2', 'Description': '2. The juices are reconstituted to specific concentrations (95.8% apple juice, 4.0% mango juice)'}, {'Step': 'Step 3', 'Description': '3. Citric acid is added to regulate acidity'}, {'Step': 'Step 4', 'Description': '4. Vitamin C is added for fortification'}, {'Step': 'Step 5', 'Description': '5. Natural flavours are introduced to enhance taste'}, {'Step': 'Step 7', 'Description': '7. The juice is packaged in aseptic containers for distribution'}, {'Step': None, 'Description': None}, {'Step': None, 'Description': None}, {'Step': None, 'Description': None}, {'Step': None, 'Description': None}, {'Step': 'Step 5', 'Description': 'Step 5: The beverage is packaged in aseptic containers to maintain freshness'}, {'Step': None, 'Description': None}, {'Step': 'Step 2', 'Description': 'Step 2: Blending of the fruit juices to create the tropical punch flavor'}, {'Step': 'Step 4', 'Description': 'Step 4: Incorporation of natural flavors to enhance the fruit taste'}, {'Step': 'Step 7', 'Description': 'Step 7: Packing the individual containers into multipacks'}, {'Step': None, 'Description': None}, {'Step': None, 'Description': None}, {'Step': None, 'Description': None}, {'Step': None, 'Description': None}, {'Step': None, 'Description': None}, {'Step': None, 'Description': None}, {'Step': None, 'Description': None}, {'Step': None, 'Description': None}, {'Step': None, 'Description': None}, {'Step': None, 'Description': None}, {'Step': None, 'Description': None}, {'Step': None, 'Description': None}, {'Step': None, 'Description': None}, {'Step': None, 'Description': None}, {'Step': None, 'Description': None}, {'Step': None, 'Description': None}, {'Step': None, 'Description': None}, {'Step': None, 'Description': None}, {'Step': None, 'Description': None}, {'Step': None, 'Description': None}, {'Step': None, 'Description': None}, {'Step': None, 'Description': None}, {'Step': None, 'Description': None}, {'Step': None, 'Description': None}, {'Step': None, 'Description': None}, {'Step': None, 'Description': None}, {'Step': None, 'Description': None}, {'Step': None, 'Description': None}, {'Step': None, 'Description': None}, {'Step': None, 'Description': None}, {'Step': None, 'Description': None}, {'Step': 'Step 2', 'Description': 'Step 2: The sliced potatoes are blanched to remove excess starch'}, {'Step': 'Step 5', 'Description': 'Step 5: The chips are packaged in a share pack for consumption'}, {'Step': None, 'Description': None}, {'Step': None, 'Description': None}, {'Step': None, 'Description': None}, {'Step': None, 'Description': None}, {'Step': None, 'Description': None}, {'Step': None, 'Description': None}, {'Step': None, 'Description': None}, {'Step': None, 'Description': None}, {'Step': None, 'Description': None}, {'Step': None, 'Description': None}, {'Step': None, 'Description': None}, {'Step': None, 'Description': None}, {'Step': None, 'Description': None}, {'Step': None, 'Description': None}, {'Step': None, 'Description': None}, {'Step': None, 'Description': None}, {'Step': None, 'Description': None}, {'Step': None, 'Description': None}, {'Step': None, 'Description': None}, {'Step': None, 'Description': None}, {'Step': None, 'Description': None}, {'Step': None, 'Description': None}, {'Step': None, 'Description': None}, {'Step': None, 'Description': None}, {'Step': None, 'Description': None}, {'Step': None, 'Description': None}, {'Step': None, 'Description': None}, {'Step': None, 'Description': None}, {'Step': None, 'Description': None}, {'Step': None, 'Description': None}, {'Step': None, 'Description': None}, {'Step': None, 'Description': None}, {'Step': None, 'Description': None}, {'Step': None, 'Description': None}, {'Step': None, 'Description': None}, {'Step': None, 'Description': None}, {'Step': None, 'Description': None}, {'Step': None, 'Description': None}, {'Step': None, 'Description': None}, {'Step': None, 'Description': None}, {'Step': None, 'Description': None}, {'Step': None, 'Description': None}, {'Step': None, 'Description': None}, {'Step': None, 'Description': None}, {'Step': None, 'Description': None}, {'Step': None, 'Description': None}, {'Step': None, 'Description': None}, {'Step': None, 'Description': None}, {'Step': None, 'Description': None}, {'Step': None, 'Description': None}, {'Step': None, 'Description': None}, {'Step': None, 'Description': None}, {'Step': None, 'Description': None}, {'Step': None, 'Description': None}, {'Step': None, 'Description': None}, {'Step': None, 'Description': None}, {'Step': None, 'Description': None}, {'Step': None, 'Description': None}, {'Step': None, 'Description': None}, {'Step': None, 'Description': None}, {'Step': None, 'Description': None}, {'Step': None, 'Description': None}, {'Step': None, 'Description': None}, {'Step': None, 'Description': None}, {'Step': None, 'Description': None}, {'Step': None, 'Description': None}, {'Step': None, 'Description': None}, {'Step': None, 'Description': None}, {'Step': None, 'Description': None}, {'Step': None, 'Description': None}, {'Step': None, 'Description': None}, {'Step': None, 'Description': None}, {'Step': None, 'Description': None}, {'Step': None, 'Description': None}, {'Step': None, 'Description': None}, {'Step': None, 'Description': None}, {'Step': None, 'Description': None}, {'Step': None, 'Description': None}, {'Step': None, 'Description': None}, {'Step': None, 'Description': None}, {'Step': None, 'Description': None}, {'Step': None, 'Description': None}, {'Step': None, 'Description': None}, {'Step': None, 'Description': None}, {'Step': None, 'Description': None}, {'Step': None, 'Description': None}, {'Step': None, 'Description': None}, {'Step': None, 'Description': None}, {'Step': None, 'Description': None}, {'Step': None, 'Description': None}, {'Step': None, 'Description': None}, {'Step': None, 'Description': None}, {'Step': None, 'Description': None}, {'Step': None, 'Description': None}, {'Step': None, 'Description': None}, {'Step': None, 'Description': None}, {'Step': None, 'Description': None}, {'Step': None, 'Description': None}, {'Step': None, 'Description': None}, {'Step': None, 'Description': None}, {'Step': None, 'Description': None}, {'Step': None, 'Description': None}, {'Step': None, 'Description': None}, {'Step': None, 'Description': None}, {'Step': None, 'Description': None}, {'Step': None, 'Description': None}, {'Step': None, 'Description': None}, {'Step': None, 'Description': None}, {'Step': None, 'Description': None}, {'Step': None, 'Description': None}, {'Step': None, 'Description': None}, {'Step': None, 'Description': None}, {'Step': None, 'Description': None}, {'Step': None, 'Description': None}, {'Step': None, 'Description': None}, {'Step': None, 'Description': None}, {'Step': None, 'Description': None}, {'Step': None, 'Description': None}, {'Step': None, 'Description': None}, {'Step': None, 'Description': None}, {'Step': None, 'Description': None}, {'Step': None, 'Description': None}, {'Step': None, 'Description': None}, {'Step': None, 'Description': None}, {'Step': None, 'Description': None}, {'Step': None, 'Description': None}, {'Step': None, 'Description': None}, {'Step': None, 'Description': None}, {'Step': None, 'Description': None}, {'Step': None, 'Description': None}, {'Step': None, 'Description': None}, {'Step': None, 'Description': None}, {'Step': None, 'Description': None}, {'Step': None, 'Description': None}, {'Step': None, 'Description': None}, {'Step': None, 'Description': None}, {'Step': None, 'Description': None}, {'Step': None, 'Description': None}, {'Step': None, 'Description': None}, {'Step': None, 'Description': None}, {'Step': None, 'Description': None}, {'Step': None, 'Description': None}, {'Step': None, 'Description': None}, {'Step': None, 'Description': None}, {'Step': None, 'Description': None}, {'Step': None, 'Description': None}, {'Step': None, 'Description': None}, {'Step': None, 'Description': None}, {'Step': None, 'Description': None}, {'Step': None, 'Description': None}, {'Step': None, 'Description': None}, {'Step': None, 'Description': None}, {'Step': None, 'Description': None}, {'Step': None, 'Description': None}, {'Step': None, 'Description': None}, {'Step': None, 'Description': None}, {'Step': None, 'Description': None}, {'Step': None, 'Description': None}, {'Step': None, 'Description': None}, {'Step': None, 'Description': None}, {'Step': None, 'Description': None}, {'Step': None, 'Description': None}, {'Step': None, 'Description': None}, {'Step': None, 'Description': None}, {'Step': None, 'Description': None}, {'Step': None, 'Description': None}, {'Step': None, 'Description': None}, {'Step': None, 'Description': None}, {'Step': None, 'Description': None}, {'Step': None, 'Description': None}, {'Step': None, 'Description': None}, {'Step': None, 'Description': None}, {'Step': None, 'Description': None}, {'Step': None, 'Description': None}, {'Step': None, 'Description': None}, {'Step': None, 'Description': None}, {'Step': None, 'Description': None}, {'Step': None, 'Description': None}, {'Step': None, 'Description': None}, {'Step': None, 'Description': None}, {'Step': None, 'Description': None}, {'Step': None, 'Description': None}, {'Step': None, 'Description': None}, {'Step': None, 'Description': None}, {'Step': None, 'Description': None}, {'Step': None, 'Description': None}, {'Step': None, 'Description': None}, {'Step': None, 'Description': None}, {'Step': None, 'Description': None}, {'Step': None, 'Description': None}, {'Step': None, 'Description': None}, {'Step': None, 'Description': None}, {'Step': None, 'Description': None}, {'Step': None, 'Description': None}, {'Step': None, 'Description': None}, {'Step': None, 'Description': None}, {'Step': None, 'Description': None}, {'Step': None, 'Description': None}, {'Step': None, 'Description': None}, {'Step': None, 'Description': None}, {'Step': None, 'Description': None}, {'Step': None, 'Description': None}, {'Step': None, 'Description': None}, {'Step': None, 'Description': None}, {'Step': None, 'Description': None}, {'Step': None, 'Description': None}, {'Step': None, 'Description': None}, {'Step': None, 'Description': None}, {'Step': None, 'Description': None}, {'Step': None, 'Description': None}, {'Step': None, 'Description': None}, {'Step': None, 'Description': None}, {'Step': None, 'Description': None}, {'Step': None, 'Description': None}, {'Step': None, 'Description': None}, {'Step': None, 'Description': None}, {'Step': None, 'Description': None}, {'Step': None, 'Description': None}, {'Step': None, 'Description': None}, {'Step': None, 'Description': None}, {'Step': None, 'Description': None}, {'Step': None, 'Description': None}, {'Step': None, 'Description': None}, {'Step': None, 'Description': None}, {'Step': None, 'Description': None}, {'Step': None, 'Description': None}, {'Step': None, 'Description': None}, {'Step': None, 'Description': None}, {'Step': None, 'Description': None}, {'Step': None, 'Description': None}, {'Step': None, 'Description': None}, {'Step': None, 'Description': None}, {'Step': None, 'Description': None}, {'Step': None, 'Description': None}, {'Step': None, 'Description': None}, {'Step': None, 'Description': None}, {'Step': None, 'Description': None}, {'Step': None, 'Description': None}, {'Step': None, 'Description': None}, {'Step': None, 'Description': None}, {'Step': None, 'Description': None}, {'Step': None, 'Description': None}, {'Step': None, 'Description': None}, {'Step': None, 'Description': None}, {'Step': None, 'Description': None}, {'Step': None, 'Description': None}, {'Step': None, 'Description': None}, {'Step': None, 'Description': None}, {'Step': None, 'Description': None}, {'Step': None, 'Description': None}, {'Step': None, 'Description': None}, {'Step': None, 'Description': None}, {'Step': None, 'Description': None}, {'Step': None, 'Description': None}, {'Step': None, 'Description': None}, {'Step': None, 'Description': None}, {'Step': None, 'Description': None}, {'Step': None, 'Description': None}, {'Step': None, 'Description': None}, {'Step': None, 'Description': None}, {'Step': None, 'Description': None}, {'Step': None, 'Description': None}, {'Step': None, 'Description': None}, {'Step': None, 'Description': None}, {'Step': None, 'Description': None}, {'Step': None, 'Description': None}, {'Step': None, 'Description': None}, {'Step': None, 'Description': None}, {'Step': None, 'Description': None}, {'Step': None, 'Description': None}, {'Step': None, 'Description': None}, {'Step': None, 'Description': None}, {'Step': None, 'Description': None}, {'Step': None, 'Description': None}, {'Step': None, 'Description': None}, {'Step': None, 'Description': None}, {'Step': None, 'Description': None}, {'Step': None, 'Description': None}, {'Step': None, 'Description': None}, {'Step': None, 'Description': None}, {'Step': None, 'Description': None}, {'Step': None, 'Description': None}, {'Step': None, 'Description': None}, {'Step': None, 'Description': None}, {'Step': None, 'Description': None}, {'Step': None, 'Description': None}, {'Step': None, 'Description': None}, {'Step': None, 'Description': None}, {'Step': None, 'Description': None}, {'Step': None, 'Description': None}, {'Step': None, 'Description': None}, {'Step': None, 'Description': None}, {'Step': None, 'Description': None}, {'Step': None, 'Description': None}, {'Step': None, 'Description': None}, {'Step': None, 'Description': None}, {'Step': None, 'Description': None}, {'Step': None, 'Description': None}, {'Step': None, 'Description': None}, {'Step': None, 'Description': None}, {'Step': None, 'Description': None}, {'Step': None, 'Description': None}, {'Step': None, 'Description': None}, {'Step': None, 'Description': None}, {'Step': None, 'Description': None}, {'Step': None, 'Description': None}, {'Step': None, 'Description': None}, {'Step': None, 'Description': None}, {'Step': None, 'Description': None}, {'Step': None, 'Description': None}, {'Step': None, 'Description': None}, {'Step': None, 'Description': None}, {'Step': None, 'Description': None}, {'Step': None, 'Description': None}, {'Step': None, 'Description': None}, {'Step': None, 'Description': None}, {'Step': None, 'Description': None}, {'Step': None, 'Description': None}, {'Step': None, 'Description': None}, {'Step': None, 'Description': None}, {'Step': None, 'Description': None}, {'Step': None, 'Description': None}, {'Step': None, 'Description': None}, {'Step': None, 'Description': None}, {'Step': None, 'Description': None}, {'Step': None, 'Description': None}, {'Step': None, 'Description': None}, {'Step': None, 'Description': None}, {'Step': None, 'Description': None}, {'Step': None, 'Description': None}, {'Step': None, 'Description': None}, {'Step': None, 'Description': None}, {'Step': None, 'Description': None}, {'Step': None, 'Description': None}, {'Step': None, 'Description': None}, {'Step': None, 'Description': None}, {'Step': None, 'Description': None}, {'Step': None, 'Description': None}, {'Step': None, 'Description': None}, {'Step': None, 'Description': None}, {'Step': None, 'Description': None}, {'Step': None, 'Description': None}, {'Step': None, 'Description': None}, {'Step': None, 'Description': None}, {'Step': None, 'Description': None}, {'Step': None, 'Description': None}, {'Step': None, 'Description': None}, {'Step': None, 'Description': None}, {'Step': None, 'Description': None}, {'Step': None, 'Description': None}, {'Step': None, 'Description': None}, {'Step': None, 'Description': None}, {'Step': None, 'Description': None}, {'Step': None, 'Description': None}, {'Step': None, 'Description': None}, {'Step': None, 'Description': None}, {'Step': None, 'Description': None}, {'Step': None, 'Description': None}, {'Step': None, 'Description': None}, {'Step': None, 'Description': None}, {'Step': None, 'Description': None}, {'Step': None, 'Description': None}, {'Step': None, 'Description': None}, {'Step': None, 'Description': None}, {'Step': None, 'Description': None}, {'Step': None, 'Description': None}, {'Step': None, 'Description': None}, {'Step': None, 'Description': None}, {'Step': None, 'Description': None}, {'Step': None, 'Description': None}, {'Step': None, 'Description': None}, {'Step': None, 'Description': None}, {'Step': None, 'Description': None}, {'Step': None, 'Description': None}, {'Step': None, 'Description': None}, {'Step': None, 'Description': None}, {'Step': None, 'Description': None}, {'Step': None, 'Description': None}, {'Step': None, 'Description': None}, {'Step': None, 'Description': None}, {'Step': None, 'Description': None}, {'Step': None, 'Description': None}, {'Step': None, 'Description': None}, {'Step': None, 'Description': None}, {'Step': None, 'Description': None}, {'Step': None, 'Description': None}, {'Step': None, 'Description': None}, {'Step': None, 'Description': None}, {'Step': None, 'Description': None}, {'Step': None, 'Description': None}, {'Step': None, 'Description': None}, {'Step': None, 'Description': None}, {'Step': None, 'Description': None}, {'Step': None, 'Description': None}, {'Step': None, 'Description': None}, {'Step': None, 'Description': None}, {'Step': None, 'Description': None}, {'Step': None, 'Description': None}, {'Step': None, 'Description': None}, {'Step': None, 'Description': None}, {'Step': None, 'Description': None}, {'Step': None, 'Description': None}, {'Step': None, 'Description': None}, {'Step': None, 'Description': None}, {'Step': None, 'Description': None}, {'Step': None, 'Description': None}, {'Step': None, 'Description': None}, {'Step': None, 'Description': None}, {'Step': None, 'Description': None}, {'Step': None, 'Description': None}, {'Step': None, 'Description': None}, {'Step': None, 'Description': None}, {'Step': None, 'Description': None}, {'Step': None, 'Description': None}, {'Step': None, 'Description': None}, {'Step': None, 'Description': None}, {'Step': None, 'Description': None}, {'Step': None, 'Description': None}, {'Step': None, 'Description': None}, {'Step': None, 'Description': None}, {'Step': None, 'Description': None}, {'Step': None, 'Description': None}, {'Step': None, 'Description': None}, {'Step': None, 'Description': None}, {'Step': None, 'Description': None}, {'Step': None, 'Description': None}, {'Step': None, 'Description': None}, {'Step': None, 'Description': None}, {'Step': None, 'Description': None}, {'Step': None, 'Description': None}, {'Step': None, 'Description': None}, {'Step': None, 'Description': None}, {'Step': None, 'Description': None}, {'Step': None, 'Description': None}, {'Step': None, 'Description': None}, {'Step': None, 'Description': None}, {'Step': None, 'Description': None}, {'Step': None, 'Description': None}, {'Step': None, 'Description': None}, {'Step': None, 'Description': None}, {'Step': None, 'Description': None}, {'Step': None, 'Description': None}, {'Step': None, 'Description': None}, {'Step': None, 'Description': None}, {'Step': None, 'Description': None}, {'Step': None, 'Description': None}, {'Step': None, 'Description': None}, {'Step': None, 'Description': None}, {'Step': None, 'Description': None}, {'Step': None, 'Description': None}, {'Step': None, 'Description': None}, {'Step': None, 'Description': None}, {'Step': None, 'Description': None}, {'Step': None, 'Description': None}, {'Step': None, 'Description': None}, {'Step': None, 'Description': None}, {'Step': None, 'Description': None}, {'Step': None, 'Description': None}, {'Step': None, 'Description': None}, {'Step': None, 'Description': None}, {'Step': None, 'Description': None}, {'Step': None, 'Description': None}, {'Step': None, 'Description': None}, {'Step': None, 'Description': None}, {'Step': None, 'Description': None}, {'Step': None, 'Description': None}, {'Step': None, 'Description': None}, {'Step': None, 'Description': None}, {'Step': None, 'Description': None}, {'Step': None, 'Description': None}, {'Step': None, 'Description': None}, {'Step': None, 'Description': None}, {'Step': None, 'Description': None}, {'Step': None, 'Description': None}, {'Step': None, 'Description': None}, {'Step': None, 'Description': None}, {'Step': None, 'Description': None}, {'Step': None, 'Description': None}, {'Step': None, 'Description': None}, {'Step': None, 'Description': None}, {'Step': None, 'Description': None}, {'Step': None, 'Description': None}, {'Step': None, 'Description': None}, {'Step': None, 'Description': None}, {'Step': None, 'Description': None}, {'Step': None, 'Description': None}, {'Step': None, 'Description': None}, {'Step': None, 'Description': None}, {'Step': None, 'Description': None}, {'Step': None, 'Description': None}, {'Step': None, 'Description': None}, {'Step': None, 'Description': None}, {'Step': None, 'Description': None}, {'Step': None, 'Description': None}, {'Step': None, 'Description': None}, {'Step': None, 'Description': None}, {'Step': None, 'Description': None}, {'Step': None, 'Description': None}, {'Step': None, 'Description': None}, {'Step': None, 'Description': None}, {'Step': None, 'Description': None}, {'Step': None, 'Description': None}, {'Step': None, 'Description': None}, {'Step': None, 'Description': None}, {'Step': None, 'Description': None}, {'Step': None, 'Description': None}, {'Step': None, 'Description': None}, {'Step': None, 'Description': None}, {'Step': None, 'Description': None}, {'Step': None, 'Description': None}, {'Step': None, 'Description': None}, {'Step': None, 'Description': None}, {'Step': None, 'Description': None}, {'Step': None, 'Description': None}, {'Step': None, 'Description': None}, {'Step': None, 'Description': None}, {'Step': None, 'Description': None}, {'Step': None, 'Description': None}, {'Step': None, 'Description': None}, {'Step': None, 'Description': None}, {'Step': None, 'Description': None}, {'Step': None, 'Description': None}, {'Step': None, 'Description': None}, {'Step': None, 'Description': None}, {'Step': None, 'Description': None}, {'Step': None, 'Description': None}, {'Step': None, 'Description': None}, {'Step': None, 'Description': None}, {'Step': None, 'Description': None}, {'Step': None, 'Description': None}, {'Step': None, 'Description': None}, {'Step': None, 'Description': None}, {'Step': None, 'Description': None}, {'Step': None, 'Description': None}, {'Step': None, 'Description': None}, {'Step': None, 'Description': None}, {'Step': None, 'Description': None}, {'Step': None, 'Description': None}, {'Step': None, 'Description': None}, {'Step': None, 'Description': None}, {'Step': None, 'Description': None}, {'Step': None, 'Description': None}, {'Step': None, 'Description': None}, {'Step': None, 'Description': None}, {'Step': None, 'Description': None}, {'Step': None, 'Description': None}, {'Step': None, 'Description': None}, {'Step': None, 'Description': None}, {'Step': None, 'Description': None}, {'Step': None, 'Description': None}, {'Step': None, 'Description': None}, {'Step': None, 'Description': None}, {'Step': None, 'Description': None}, {'Step': None, 'Description': None}, {'Step': None, 'Description': None}, {'Step': None, 'Description': None}, {'Step': None, 'Description': None}, {'Step': None, 'Description': None}, {'Step': None, 'Description': None}, {'Step': None, 'Description': None}, {'Step': None, 'Description': None}, {'Step': None, 'Description': None}, {'Step': None, 'Description': None}, {'Step': None, 'Description': None}, {'Step': None, 'Description': None}, {'Step': None, 'Description': None}, {'Step': None, 'Description': None}, {'Step': None, 'Description': None}, {'Step': None, 'Description': None}, {'Step': None, 'Description': None}, {'Step': None, 'Description': None}, {'Step': None, 'Description': None}, {'Step': None, 'Description': None}, {'Step': None, 'Description': None}, {'Step': None, 'Description': None}, {'Step': None, 'Description': None}, {'Step': None, 'Description': None}, {'Step': None, 'Description': None}, {'Step': None, 'Description': None}, {'Step': None, 'Description': None}, {'Step': None, 'Description': None}, {'Step': None, 'Description': None}, {'Step': None, 'Description': None}, {'Step': None, 'Description': None}, {'Step': None, 'Description': None}, {'Step': None, 'Description': None}, {'Step': None, 'Description': None}, {'Step': None, 'Description': None}, {'Step': None, 'Description': None}, {'Step': None, 'Description': None}, {'Step': None, 'Description': None}, {'Step': None, 'Description': None}, {'Step': None, 'Description': None}, {'Step': None, 'Description': None}, {'Step': None, 'Description': None}, {'Step': None, 'Description': None}, {'Step': None, 'Description': None}, {'Step': None, 'Description': None}, {'Step': None, 'Description': None}, {'Step': None, 'Description': None}, {'Step': None, 'Description': None}, {'Step': None, 'Description': None}, {'Step': None, 'Description': None}, {'Step': None, 'Description': None}, {'Step': None, 'Description': None}, {'Step': None, 'Description': None}, {'Step': None, 'Description': None}, {'Step': None, 'Description': None}, {'Step': None, 'Description': None}, {'Step': None, 'Description': None}, {'Step': None, 'Description': None}, {'Step': None, 'Description': None}, {'Step': None, 'Description': None}, {'Step': None, 'Description': None}, {'Step': None, 'Description': None}, {'Step': None, 'Description': None}, {'Step': None, 'Description': None}, {'Step': None, 'Description': None}, {'Step': None, 'Description': None}, {'Step': None, 'Description': None}, {'Step': None, 'Description': None}, {'Step': None, 'Description': None}, {'Step': None, 'Description': None}, {'Step': None, 'Description': None}, {'Step': None, 'Description': None}, {'Step': None, 'Description': None}, {'Step': None, 'Description': None}, {'Step': None, 'Description': None}, {'Step': None, 'Description': None}, {'Step': None, 'Description': None}, {'Step': None, 'Description': None}, {'Step': None, 'Description': None}, {'Step': None, 'Description': None}, {'Step': None, 'Description': None}, {'Step': None, 'Description': None}, {'Step': None, 'Description': None}, {'Step': None, 'Description': None}, {'Step': None, 'Description': None}, {'Step': None, 'Description': None}, {'Step': None, 'Description': None}, {'Step': None, 'Description': None}, {'Step': None, 'Description': None}, {'Step': None, 'Description': None}, {'Step': None, 'Description': None}, {'Step': None, 'Description': None}, {'Step': None, 'Description': None}, {'Step': None, 'Description': None}, {'Step': None, 'Description': None}, {'Step': None, 'Description': None}, {'Step': None, 'Description': None}, {'Step': None, 'Description': None}, {'Step': None, 'Description': None}, {'Step': None, 'Description': None}, {'Step': None, 'Description': None}, {'Step': None, 'Description': None}, {'Step': None, 'Description': None}, {'Step': None, 'Description': None}, {'Step': None, 'Description': None}, {'Step': None, 'Description': None}, {'Step': None, 'Description': None}, {'Step': None, 'Description': None}, {'Step': None, 'Description': None}, {'Step': None, 'Description': None}, {'Step': None, 'Description': None}, {'Step': None, 'Description': None}, {'Step': None, 'Description': None}, {'Step': None, 'Description': None}, {'Step': None, 'Description': None}, {'Step': None, 'Description': None}, {'Step': None, 'Description': None}, {'Step': None, 'Description': None}, {'Step': None, 'Description': None}, {'Step': None, 'Description': None}, {'Step': None, 'Description': None}, {'Step': None, 'Description': None}, {'Step': None, 'Description': None}, {'Step': None, 'Description': None}, {'Step': None, 'Description': None}, {'Step': None, 'Description': None}, {'Step': None, 'Description': None}, {'Step': None, 'Description': None}, {'Step': None, 'Description': None}, {'Step': None, 'Description': None}, {'Step': None, 'Description': None}, {'Step': None, 'Description': None}, {'Step': None, 'Description': None}, {'Step': None, 'Description': None}, {'Step': None, 'Description': None}, {'Step': None, 'Description': None}, {'Step': None, 'Description': None}, {'Step': None, 'Description': None}, {'Step': None, 'Description': None}, {'Step': None, 'Description': None}, {'Step': None, 'Description': None}, {'Step': None, 'Description': None}, {'Step': None, 'Description': None}, {'Step': None, 'Description': None}, {'Step': None, 'Description': None}, {'Step': None, 'Description': None}, {'Step': None, 'Description': None}, {'Step': None, 'Description': None}, {'Step': None, 'Description': None}, {'Step': None, 'Description': None}, {'Step': None, 'Description': None}, {'Step': None, 'Description': None}, {'Step': None, 'Description': None}, {'Step': None, 'Description': None}, {'Step': None, 'Description': None}, {'Step': None, 'Description': None}, {'Step': None, 'Description': None}, {'Step': None, 'Description': None}, {'Step': None, 'Description': None}, {'Step': None, 'Description': None}, {'Step': None, 'Description': None}, {'Step': None, 'Description': None}, {'Step': None, 'Description': None}, {'Step': None, 'Description': None}, {'Step': None, 'Description': None}, {'Step': None, 'Description': None}, {'Step': None, 'Description': None}, {'Step': None, 'Description': None}, {'Step': None, 'Description': None}, {'Step': None, 'Description': None}, {'Step': None, 'Description': None}, {'Step': None, 'Description': None}, {'Step': None, 'Description': None}, {'Step': None, 'Description': None}, {'Step': None, 'Description': None}, {'Step': None, 'Description': None}, {'Step': None, 'Description': None}, {'Step': None, 'Description': None}, {'Step': None, 'Description': None}, {'Step': None, 'Description': None}, {'Step': None, 'Description': None}, {'Step': None, 'Description': None}, {'Step': None, 'Description': None}, {'Step': None, 'Description': None}, {'Step': None, 'Description': None}, {'Step': None, 'Description': None}, {'Step': None, 'Description': None}, {'Step': None, 'Description': None}, {'Step': None, 'Description': None}, {'Step': None, 'Description': None}, {'Step': None, 'Description': None}, {'Step': None, 'Description': None}, {'Step': None, 'Description': None}, {'Step': None, 'Description': None}, {'Step': None, 'Description': None}, {'Step': None, 'Description': None}, {'Step': None, 'Description': None}, {'Step': None, 'Description': None}, {'Step': None, 'Description': None}, {'Step': None, 'Description': None}, {'Step': None, 'Description': None}, {'Step': None, 'Description': None}, {'Step': None, 'Description': None}, {'Step': None, 'Description': None}, {'Step': None, 'Description': None}, {'Step': None, 'Description': None}, {'Step': None, 'Description': None}, {'Step': None, 'Description': None}]}, {'group_name': True, 'group_data': [{'Step': 'Step 1', 'Description': 'Step 1: The wheat flour is mixed with water to form a dough.'}, {'Step': 'Step 2', 'Description': 'Step 2: The dough is rolled out and cut into noodles.'}, {'Step': 'Step 4', 'Description': 'Step 4: The seasoning powder is made by mixing salt, sugar, flavour enhancers, garlic powder, onion powder, yeast extract, artificial flavour, pepper, and anti caking agent.'}, {'Step': 'Step 5', 'Description': 'Step 5: The seasoning oil is made by mixing refined palm oil and onion.'}, {'Step': 'Step 6', 'Description': 'Step 6: The sweet soy sauce is made by mixing sugar, water, salt, wheat, soy bean, spices, and sesame oil.'}, {'Step': 'Step 7', 'Description': 'Step 7: The chilli sauce is made by mixing chilli, water, sugar, salt, tapioca starch, acidity regulators, herbs, flavour enhancers, flavours, and preservatives.'}, {'Step': 'Step 1', 'Description': '1. The wheat flour, sugar, vegetable oil, cocoa powder, fructose syrup, cornstarch, salt, raising agents, emulsifier, flavor, antioxidant, minerals, and vitamins are mixed together to form the cookie dough.'}, {'Step': 'Step 2', 'Description': '2. The dough is then shaped into small, round cookies and baked until crispy.'}, {'Step': 'Step 3', 'Description': '3. For the strawberry flavor, food acid and color are added to the dough before baking.'}, {'Step': 'Step 4', 'Description': '4. After baking, the cookies are cooled and filled with a sweet cream filling.'}, {'Step': 'Step 1', 'Description': 'Mixing and blending dry ingredients, including wheat flour, sugar, cocoa powder, and raising agents.'}, {'Step': 'Step 2', 'Description': 'Adding and mixing wet ingredients, such as vegetable oil, fructose syrup, and emulsifiers.'}, {'Step': 'Step 3', 'Description': 'Forming the dough and allowing it to rest.'}, {'Step': 'Step 4', 'Description': 'Sheeting and cutting the dough into round wafers.'}, {'Step': 'Step 6', 'Description': 'Preparing the vanilla creme filling by blending sugar, cornstarch, and other ingredients.'}, {'Step': 'Step 8', 'Description': 'Assembling the sandwich cookies by topping the creme-filled wafer with a second wafer.'}, {'Step': 'Step 9', 'Description': 'Cooling and packaging the cookies for distribution.'}, {'Step': 'Step 1', 'Description': '1. Apples and mangoes are harvested and processed to extract juice'}, {'Step': 'Step 6', 'Description': '6. The mixture is pasteurized to ensure safety and stability'}, {'Step': 'Step 1', 'Description': 'Step 1: The fruit juices are extracted from pear, apple, pineapple, and passionfruit'}, {'Step': 'Step 2', 'Description': 'Step 2: The fruit juices are reconstituted with water'}, {'Step': 'Step 3', 'Description': 'Step 3: Sugar, food acids, and vitamin C are added to the mixture'}, {'Step': 'Step 4', 'Description': 'Step 4: The mixture is pasteurized to kill any bacteria and extend shelf life'}, {'Step': 'Step 1', 'Description': 'Step 1: Extracting fruit juices and purées from apples, pears, pineapples, oranges, peaches, and passionfruits.'}, {'Step': 'Step 2', 'Description': 'Step 2: Combining the fruit juices and purées with water, sugar, food acids, vitamin C, natural flavors, and pectin.'}, {'Step': 'Step 3', 'Description': 'Step 3: Homogenizing the mixture to ensure a consistent texture and even distribution of ingredients.'}, {'Step': 'Step 4', 'Description': 'Step 4: Pasteurizing the mixture to kill any microorganisms and ensure a stable shelf life.'}, {'Step': 'Step 5', 'Description': 'Step 5: Filling the drink into containers, sealing, and cooling for storage and distribution.'}, {'Step': 'Step 1', 'Description': 'Step 1: Extraction of fruit juices from pear, apple, pineapple, orange, peach, and passionfruit'}, {'Step': 'Step 3', 'Description': 'Step 3: Addition of sugar and food acids (citric acid and potassium citrate) to enhance the flavor and preserve the product'}, {'Step': 'Step 5', 'Description': 'Step 5: Homogenization and pasteurization of the mixture to ensure safety and consistency'}, {'Step': 'Step 6', 'Description': 'Step 6: Filling and sealing of the individual containers'}, {'Step': 'Step 1', 'Description': 'Step 1: Canola oil, water, sugar, and vinegar are mixed together in a large vat.'}, {'Step': 'Step 2', 'Description': 'Step 2: Thickeners, egg yolk, gherkins, salt, onion powder, natural colors, preservatives, dill, acidity regulators, and herb extracts are added to the mixture.'}, {'Step': 'Step 3', 'Description': 'Step 3: The mixture is heated to a specific temperature to ensure proper mixing and emulsification.'}, {'Step': 'Step 4', 'Description': 'Step 4: The mixture is cooled and bottled for distribution.'}, {'Step': 'Step 1', 'Description': 'Potatoes are washed, peeled, and sliced into crinkle-cut shapes.'}, {'Step': 'Step 2', 'Description': 'The sliced potatoes are blanched in a mixture of canola and sunflower oils.'}, {'Step': 'Step 3', 'Description': 'The blanched potatoes are then fried in the same oil mixture until they are golden brown and crispy.'}, {'Step': 'Step 4', 'Description': 'While the potatoes are still hot, they are seasoned with a mixture of sugar, maltodextrin, salt, tomato powder, flavor enhancers, food acids, onion powder, and garlic powder.'}, {'Step': 'Step 5', 'Description': 'The seasoned chips are then cooled and packaged for distribution.'}, {'Step': 'Step 1', 'Description': 'Step 1: Potatoes are washed, peeled, and thinly sliced'}, {'Step': 'Step 3', 'Description': 'Step 3: The potatoes are then fried in a blend of canola and sunflower oils'}, {'Step': 'Step 4', 'Description': 'Step 4: After frying, the chips are seasoned with salt and a mix of antioxidants'}, {'Step': 'Step 1', 'Description': 'Step 1: Fruits (peach and pear) are sorted, washed, and prepared for processing'}, {'Step': 'Step 2', 'Description': 'Step 2: The fruits are chopped and blended to form a puree'}, {'Step': 'Step 3', 'Description': 'Step 3: The fruit puree is mixed with reconstituted refined juice (made from concentrated pear juice, water, antioxidant (ascorbic acid), and acidity regulator (citric acid))'}, {'Step': 'Step 4', 'Description': 'Step 4: The mixture is homogenized to ensure even distribution of fruit chunks and juice'}, {'Step': 'Step 5', 'Description': 'Step 5: The product is filled into cups, sealed, and pasteurized for preservation'}, {'Step': 'Step 6', 'Description': 'Step 6: The cups are labeled, packaged, and prepared for distribution'}, {'Step': 'Step 1', 'Description': 'Step 1: Preparation of Jelly - Water, sugar, and gelling agents are combined and heated to dissolve the sugar and activate the gelling agents.'}, {'Step': 'Step 2', 'Description': 'Step 2: Addition of Natural Flavours and Colours - Once the jelly base is prepared, natural flavours and colours are added to give it a tropical flavour and vibrant colour.'}, {'Step': 'Step 3', 'Description': 'Step 3: Acidification - Acidity regulators are added to balance the pH and enhance the flavour of the jelly.'}, {'Step': 'Step 4', 'Description': 'Step 4: Fruit Preparation - Peach and pear pieces are prepared and added to the jelly mixture.'}, {'Step': 'Step 5', 'Description': 'Step 5: Filling and Setting - The mixture is filled into containers and allowed to set in a cool environment.'}]}]\n"
     ]
    },
    {
     "data": {
      "text/plain": [
       "[{'group_name': True,\n",
       "  'group_data': [{'Step': 'Step 1',\n",
       "    'Description': 'Description with keyword1'},\n",
       "   {'Step': 'Step 2', 'Description': 'Description with keyword2'},\n",
       "   Ellipsis]},\n",
       " {'group_name': False,\n",
       "  'group_data': [{'Step': 'Step 3',\n",
       "    'Description': 'Description without keywords'},\n",
       "   {'Step': 'Step 4', 'Description': None},\n",
       "   Ellipsis]}]"
      ]
     },
     "execution_count": 21,
     "metadata": {},
     "output_type": "execute_result"
    }
   ],
   "source": [
    "import pandas as pd\n",
    "\n",
    "\n",
    "query = \"\"\"\n",
    "MATCH (ir:ManufacturingProcess)\n",
    "RETURN ir.Step AS ManufacturingProcessstep, ir.Description AS ManufacturingProcessdes\n",
    "\"\"\"\n",
    "\n",
    "with driver.session() as session:\n",
    "    result = session.run(query)\n",
    "    neo4j_data = [record.data() for record in result]\n",
    "\n",
    "\n",
    "df = pd.DataFrame(neo4j_data)\n",
    "\n",
    "\n",
    "product_col = df.columns[df.columns.str.contains('ManufacturingProcessstep', case=False)][0]\n",
    "desc_col = df.columns[df.columns.str.contains('ManufacturingProcessdes', case=False)][0]\n",
    "df.rename(columns={product_col: 'Step', desc_col: 'Description'}, inplace=True)\n",
    "\n",
    "\n",
    "keywords = ['and', 'water']\n",
    "\n",
    "\n",
    "grouped = df.groupby(df['Description'].apply(lambda x: any(kw.lower() in str(x).lower() for kw in keywords) if pd.notnull(x) else False))\n",
    "\n",
    "\n",
    "grouped_results = []\n",
    "\n",
    "\n",
    "for group_name, group in grouped:\n",
    "    group_dict = {\n",
    "        'group_name': group_name,\n",
    "        'group_data': group.to_dict('records')\n",
    "    }\n",
    "    grouped_results.append(group_dict)\n",
    "\n",
    "\n",
    "print(grouped_results)\n",
    "\n",
    "\n",
    "[\n",
    "    {\n",
    "        'group_name': True,\n",
    "        'group_data': [\n",
    "            {'Step': 'Step 1', 'Description': 'Description with keyword1'},\n",
    "            {'Step': 'Step 2', 'Description': 'Description with keyword2'},\n",
    "            ...\n",
    "        ]\n",
    "    },\n",
    "    {\n",
    "        'group_name': False,\n",
    "        'group_data': [\n",
    "            {'Step': 'Step 3', 'Description': 'Description without keywords'},\n",
    "            {'Step': 'Step 4', 'Description': None},\n",
    "            ...\n",
    "        ]\n",
    "    }\n",
    "]"
   ]
  },
  {
   "cell_type": "code",
   "execution_count": 23,
   "metadata": {},
   "outputs": [
    {
     "data": {
      "application/vnd.plotly.v1+json": {
       "config": {
        "plotlyServerURL": "https://plot.ly"
       },
       "data": [
        {
         "cells": {
          "values": [
           [
            null,
            null,
            null,
            null,
            "Step 1",
            "Step 3",
            "Step 8",
            null,
            null,
            null,
            null,
            null,
            null,
            null,
            null,
            null,
            null,
            null,
            null,
            null,
            null,
            null,
            null,
            null,
            null,
            null,
            null,
            null,
            null,
            null,
            null,
            null,
            null,
            null,
            null,
            "Step 5",
            null,
            null,
            null,
            "Step 5",
            "Step 7",
            null,
            null,
            "Step 2",
            "Step 3",
            "Step 4",
            "Step 5",
            "Step 7",
            null,
            null,
            null,
            null,
            "Step 2",
            "Step 5",
            null,
            "Step 2",
            "Step 4",
            "Step 7",
            null,
            null,
            null,
            null,
            null,
            null,
            null,
            null,
            null,
            null,
            null,
            null,
            null,
            null,
            null,
            null,
            null,
            null,
            null,
            null,
            null,
            null,
            null,
            null,
            null,
            null,
            null,
            null,
            null,
            null,
            null,
            "Step 2",
            "Step 5",
            null,
            null,
            null,
            null,
            null,
            null,
            null,
            null,
            null,
            null,
            null,
            null,
            null,
            null,
            null,
            null,
            null,
            null,
            null,
            null,
            null,
            null,
            null,
            null,
            null,
            null,
            null,
            null,
            null,
            null,
            null,
            null,
            null,
            null,
            null,
            null,
            null,
            null,
            null,
            null,
            null,
            null,
            null,
            null,
            null,
            null,
            null,
            null,
            null,
            null,
            null,
            null,
            null,
            null,
            null,
            null,
            null,
            null,
            null,
            null,
            null,
            null,
            null,
            null,
            null,
            null,
            null,
            null,
            null,
            null,
            null,
            null,
            null,
            null,
            null,
            null,
            null,
            null,
            null,
            null,
            null,
            null,
            null,
            null,
            null,
            null,
            null,
            null,
            null,
            null,
            null,
            null,
            null,
            null,
            null,
            null,
            null,
            null,
            null,
            null,
            null,
            null,
            null,
            null,
            null,
            null,
            null,
            null,
            null,
            null,
            null,
            null,
            null,
            null,
            null,
            null,
            null,
            null,
            null,
            null,
            null,
            null,
            null,
            null,
            null,
            null,
            null,
            null,
            null,
            null,
            null,
            null,
            null,
            null,
            null,
            null,
            null,
            null,
            null,
            null,
            null,
            null,
            null,
            null,
            null,
            null,
            null,
            null,
            null,
            null,
            null,
            null,
            null,
            null,
            null,
            null,
            null,
            null,
            null,
            null,
            null,
            null,
            null,
            null,
            null,
            null,
            null,
            null,
            null,
            null,
            null,
            null,
            null,
            null,
            null,
            null,
            null,
            null,
            null,
            null,
            null,
            null,
            null,
            null,
            null,
            null,
            null,
            null,
            null,
            null,
            null,
            null,
            null,
            null,
            null,
            null,
            null,
            null,
            null,
            null,
            null,
            null,
            null,
            null,
            null,
            null,
            null,
            null,
            null,
            null,
            null,
            null,
            null,
            null,
            null,
            null,
            null,
            null,
            null,
            null,
            null,
            null,
            null,
            null,
            null,
            null,
            null,
            null,
            null,
            null,
            null,
            null,
            null,
            null,
            null,
            null,
            null,
            null,
            null,
            null,
            null,
            null,
            null,
            null,
            null,
            null,
            null,
            null,
            null,
            null,
            null,
            null,
            null,
            null,
            null,
            null,
            null,
            null,
            null,
            null,
            null,
            null,
            null,
            null,
            null,
            null,
            null,
            null,
            null,
            null,
            null,
            null,
            null,
            null,
            null,
            null,
            null,
            null,
            null,
            null,
            null,
            null,
            null,
            null,
            null,
            null,
            null,
            null,
            null,
            null,
            null,
            null,
            null,
            null,
            null,
            null,
            null,
            null,
            null,
            null,
            null,
            null,
            null,
            null,
            null,
            null,
            null,
            null,
            null,
            null,
            null,
            null,
            null,
            null,
            null,
            null,
            null,
            null,
            null,
            null,
            null,
            null,
            null,
            null,
            null,
            null,
            null,
            null,
            null,
            null,
            null,
            null,
            null,
            null,
            null,
            null,
            null,
            null,
            null,
            null,
            null,
            null,
            null,
            null,
            null,
            null,
            null,
            null,
            null,
            null,
            null,
            null,
            null,
            null,
            null,
            null,
            null,
            null,
            null,
            null,
            null,
            null,
            null,
            null,
            null,
            null,
            null,
            null,
            null,
            null,
            null,
            null,
            null,
            null,
            null,
            null,
            null,
            null,
            null,
            null,
            null,
            null,
            null,
            null,
            null,
            null,
            null,
            null,
            null,
            null,
            null,
            null,
            null,
            null,
            null,
            null,
            null,
            null,
            null,
            null,
            null,
            null,
            null,
            null,
            null,
            null,
            null,
            null,
            null,
            null,
            null,
            null,
            null,
            null,
            null,
            null,
            null,
            null,
            null,
            null,
            null,
            null,
            null,
            null,
            null,
            null,
            null,
            null,
            null,
            null,
            null,
            null,
            null,
            null,
            null,
            null,
            null,
            null,
            null,
            null,
            null,
            null,
            null,
            null,
            null,
            null,
            null,
            null,
            null,
            null,
            null,
            null,
            null,
            null,
            null,
            null,
            null,
            null,
            null,
            null,
            null,
            null,
            null,
            null,
            null,
            null,
            null,
            null,
            null,
            null,
            null,
            null,
            null,
            null,
            null,
            null,
            null,
            null,
            null,
            null,
            null,
            null,
            null,
            null,
            null,
            null,
            null,
            null,
            null,
            null,
            null,
            null,
            null,
            null,
            null,
            null,
            null,
            null,
            null,
            null,
            null,
            null,
            null,
            null,
            null,
            null,
            null,
            null,
            null,
            null,
            null,
            null,
            null,
            null,
            null,
            null,
            null,
            null,
            null,
            null,
            null,
            null,
            null,
            null,
            null,
            null,
            null,
            null,
            null,
            null,
            null,
            null,
            null,
            null,
            null,
            null,
            null,
            null,
            null,
            null,
            null,
            null,
            null,
            null,
            null,
            null,
            null,
            null,
            null,
            null,
            null,
            null,
            null,
            null,
            null,
            null,
            null,
            null,
            null,
            null,
            null,
            null,
            null,
            null,
            null,
            null,
            null,
            null,
            null,
            null,
            null,
            null,
            null,
            null,
            null,
            null,
            null,
            null,
            null,
            null,
            null,
            null,
            null,
            null,
            null,
            null,
            null,
            null,
            null,
            null,
            null,
            null,
            null,
            null,
            null,
            null,
            null,
            null,
            null,
            null,
            null,
            null,
            null,
            null,
            null,
            null,
            null,
            null,
            null,
            null,
            null,
            null,
            null,
            null,
            null,
            null,
            null,
            null,
            null,
            null,
            null,
            null,
            null,
            null,
            null,
            null,
            null,
            null,
            null,
            null,
            null,
            null,
            null,
            null,
            null,
            null,
            null,
            null,
            null,
            null,
            null,
            null,
            null,
            null,
            null,
            null,
            null,
            null,
            null,
            null,
            null,
            null,
            null,
            null,
            null,
            null,
            null,
            null,
            null,
            null,
            null,
            null,
            null,
            null,
            null,
            null,
            null,
            null,
            null,
            null,
            null,
            null,
            null,
            null,
            null,
            null,
            null,
            null,
            null,
            null,
            null,
            null,
            null,
            null,
            null,
            null,
            null,
            null,
            null,
            null,
            null,
            null,
            null,
            null,
            null,
            null,
            null,
            null,
            null,
            null,
            null,
            null,
            null,
            null,
            null,
            null,
            null,
            null,
            null,
            null,
            null,
            null,
            null,
            null,
            null,
            null,
            null,
            null,
            null,
            null,
            null,
            null,
            null,
            null,
            null,
            null,
            null,
            null,
            null,
            null,
            null,
            null,
            null,
            null,
            null,
            null,
            null,
            null,
            null,
            null,
            null,
            null,
            null,
            null,
            null,
            null,
            null,
            null,
            null,
            null,
            null,
            null,
            null,
            null,
            null,
            null,
            null,
            null,
            null,
            null,
            null
           ],
           [
            null,
            null,
            null,
            null,
            "Step 1: The wheat flour is mixed with water to form a dough.",
            "Step 3: The noodles are fried in refined palm oil.",
            "Step 8: The fried onion is made by frying onion in refined palm oil.",
            null,
            null,
            null,
            null,
            null,
            null,
            null,
            null,
            null,
            null,
            null,
            null,
            null,
            null,
            null,
            null,
            null,
            null,
            null,
            null,
            null,
            null,
            null,
            null,
            null,
            null,
            null,
            null,
            "5. The cookies are then packaged into bags of 18 packs.",
            null,
            null,
            null,
            "Baking the wafers at controlled temperatures.",
            "Piping or spreading the creme filling onto one wafer.",
            null,
            null,
            "2. The juices are reconstituted to specific concentrations (95.8% apple juice, 4.0% mango juice)",
            "3. Citric acid is added to regulate acidity",
            "4. Vitamin C is added for fortification",
            "5. Natural flavours are introduced to enhance taste",
            "7. The juice is packaged in aseptic containers for distribution",
            null,
            null,
            null,
            null,
            "Step 2: The fruit juices are reconstituted with water",
            "Step 5: The beverage is packaged in aseptic containers to maintain freshness",
            null,
            "Step 2: Blending of the fruit juices to create the tropical punch flavor",
            "Step 4: Incorporation of natural flavors to enhance the fruit taste",
            "Step 7: Packing the individual containers into multipacks",
            null,
            null,
            null,
            null,
            null,
            null,
            null,
            null,
            null,
            null,
            null,
            null,
            null,
            null,
            null,
            null,
            null,
            null,
            null,
            null,
            null,
            null,
            null,
            null,
            null,
            null,
            null,
            null,
            null,
            null,
            null,
            "Step 2: The sliced potatoes are blanched to remove excess starch",
            "Step 5: The chips are packaged in a share pack for consumption",
            null,
            null,
            null,
            null,
            null,
            null,
            null,
            null,
            null,
            null,
            null,
            null,
            null,
            null,
            null,
            null,
            null,
            null,
            null,
            null,
            null,
            null,
            null,
            null,
            null,
            null,
            null,
            null,
            null,
            null,
            null,
            null,
            null,
            null,
            null,
            null,
            null,
            null,
            null,
            null,
            null,
            null,
            null,
            null,
            null,
            null,
            null,
            null,
            null,
            null,
            null,
            null,
            null,
            null,
            null,
            null,
            null,
            null,
            null,
            null,
            null,
            null,
            null,
            null,
            null,
            null,
            null,
            null,
            null,
            null,
            null,
            null,
            null,
            null,
            null,
            null,
            null,
            null,
            null,
            null,
            null,
            null,
            null,
            null,
            null,
            null,
            null,
            null,
            null,
            null,
            null,
            null,
            null,
            null,
            null,
            null,
            null,
            null,
            null,
            null,
            null,
            null,
            null,
            null,
            null,
            null,
            null,
            null,
            null,
            null,
            null,
            null,
            null,
            null,
            null,
            null,
            null,
            null,
            null,
            null,
            null,
            null,
            null,
            null,
            null,
            null,
            null,
            null,
            null,
            null,
            null,
            null,
            null,
            null,
            null,
            null,
            null,
            null,
            null,
            null,
            null,
            null,
            null,
            null,
            null,
            null,
            null,
            null,
            null,
            null,
            null,
            null,
            null,
            null,
            null,
            null,
            null,
            null,
            null,
            null,
            null,
            null,
            null,
            null,
            null,
            null,
            null,
            null,
            null,
            null,
            null,
            null,
            null,
            null,
            null,
            null,
            null,
            null,
            null,
            null,
            null,
            null,
            null,
            null,
            null,
            null,
            null,
            null,
            null,
            null,
            null,
            null,
            null,
            null,
            null,
            null,
            null,
            null,
            null,
            null,
            null,
            null,
            null,
            null,
            null,
            null,
            null,
            null,
            null,
            null,
            null,
            null,
            null,
            null,
            null,
            null,
            null,
            null,
            null,
            null,
            null,
            null,
            null,
            null,
            null,
            null,
            null,
            null,
            null,
            null,
            null,
            null,
            null,
            null,
            null,
            null,
            null,
            null,
            null,
            null,
            null,
            null,
            null,
            null,
            null,
            null,
            null,
            null,
            null,
            null,
            null,
            null,
            null,
            null,
            null,
            null,
            null,
            null,
            null,
            null,
            null,
            null,
            null,
            null,
            null,
            null,
            null,
            null,
            null,
            null,
            null,
            null,
            null,
            null,
            null,
            null,
            null,
            null,
            null,
            null,
            null,
            null,
            null,
            null,
            null,
            null,
            null,
            null,
            null,
            null,
            null,
            null,
            null,
            null,
            null,
            null,
            null,
            null,
            null,
            null,
            null,
            null,
            null,
            null,
            null,
            null,
            null,
            null,
            null,
            null,
            null,
            null,
            null,
            null,
            null,
            null,
            null,
            null,
            null,
            null,
            null,
            null,
            null,
            null,
            null,
            null,
            null,
            null,
            null,
            null,
            null,
            null,
            null,
            null,
            null,
            null,
            null,
            null,
            null,
            null,
            null,
            null,
            null,
            null,
            null,
            null,
            null,
            null,
            null,
            null,
            null,
            null,
            null,
            null,
            null,
            null,
            null,
            null,
            null,
            null,
            null,
            null,
            null,
            null,
            null,
            null,
            null,
            null,
            null,
            null,
            null,
            null,
            null,
            null,
            null,
            null,
            null,
            null,
            null,
            null,
            null,
            null,
            null,
            null,
            null,
            null,
            null,
            null,
            null,
            null,
            null,
            null,
            null,
            null,
            null,
            null,
            null,
            null,
            null,
            null,
            null,
            null,
            null,
            null,
            null,
            null,
            null,
            null,
            null,
            null,
            null,
            null,
            null,
            null,
            null,
            null,
            null,
            null,
            null,
            null,
            null,
            null,
            null,
            null,
            null,
            null,
            null,
            null,
            null,
            null,
            null,
            null,
            null,
            null,
            null,
            null,
            null,
            null,
            null,
            null,
            null,
            null,
            null,
            null,
            null,
            null,
            null,
            null,
            null,
            null,
            null,
            null,
            null,
            null,
            null,
            null,
            null,
            null,
            null,
            null,
            null,
            null,
            null,
            null,
            null,
            null,
            null,
            null,
            null,
            null,
            null,
            null,
            null,
            null,
            null,
            null,
            null,
            null,
            null,
            null,
            null,
            null,
            null,
            null,
            null,
            null,
            null,
            null,
            null,
            null,
            null,
            null,
            null,
            null,
            null,
            null,
            null,
            null,
            null,
            null,
            null,
            null,
            null,
            null,
            null,
            null,
            null,
            null,
            null,
            null,
            null,
            null,
            null,
            null,
            null,
            null,
            null,
            null,
            null,
            null,
            null,
            null,
            null,
            null,
            null,
            null,
            null,
            null,
            null,
            null,
            null,
            null,
            null,
            null,
            null,
            null,
            null,
            null,
            null,
            null,
            null,
            null,
            null,
            null,
            null,
            null,
            null,
            null,
            null,
            null,
            null,
            null,
            null,
            null,
            null,
            null,
            null,
            null,
            null,
            null,
            null,
            null,
            null,
            null,
            null,
            null,
            null,
            null,
            null,
            null,
            null,
            null,
            null,
            null,
            null,
            null,
            null,
            null,
            null,
            null,
            null,
            null,
            null,
            null,
            null,
            null,
            null,
            null,
            null,
            null,
            null,
            null,
            null,
            null,
            null,
            null,
            null,
            null,
            null,
            null,
            null,
            null,
            null,
            null,
            null,
            null,
            null,
            null,
            null,
            null,
            null,
            null,
            null,
            null,
            null,
            null,
            null,
            null,
            null,
            null,
            null,
            null,
            null,
            null,
            null,
            null,
            null,
            null,
            null,
            null,
            null,
            null,
            null,
            null,
            null,
            null,
            null,
            null,
            null,
            null,
            null,
            null,
            null,
            null,
            null,
            null,
            null,
            null,
            null,
            null,
            null,
            null,
            null,
            null,
            null,
            null,
            null,
            null,
            null,
            null,
            null,
            null,
            null,
            null,
            null,
            null,
            null,
            null,
            null,
            null,
            null,
            null,
            null,
            null,
            null,
            null,
            null,
            null,
            null,
            null,
            null,
            null,
            null,
            null,
            null,
            null,
            null,
            null,
            null,
            null,
            null,
            null,
            null,
            null,
            null,
            null,
            null,
            null,
            null,
            null,
            null,
            null,
            null,
            null,
            null,
            null,
            null,
            null,
            null,
            null,
            null,
            null,
            null,
            null,
            null,
            null,
            null,
            null,
            null,
            null,
            null,
            null,
            null,
            null,
            null,
            null,
            null,
            null,
            null,
            null,
            null,
            null,
            null,
            null,
            null,
            null,
            null,
            null,
            null,
            null,
            null,
            null,
            null,
            null,
            null,
            null,
            null,
            null,
            null,
            null,
            null,
            null,
            null,
            null,
            null,
            null,
            null,
            null,
            null,
            null,
            null
           ]
          ]
         },
         "header": {
          "values": [
           "Step",
           "Description"
          ]
         },
         "type": "table"
        },
        {
         "cells": {
          "values": [
           [
            "Step 2",
            "Step 4",
            "Step 5",
            "Step 6",
            "Step 7",
            "Step 1",
            "Step 2",
            "Step 3",
            "Step 4",
            "Step 1",
            "Step 2",
            "Step 3",
            "Step 4",
            "Step 6",
            "Step 8",
            "Step 9",
            "Step 1",
            "Step 6",
            "Step 1",
            "Step 3",
            "Step 4",
            "Step 1",
            "Step 2",
            "Step 3",
            "Step 4",
            "Step 5",
            "Step 1",
            "Step 3",
            "Step 5",
            "Step 6",
            "Step 1",
            "Step 2",
            "Step 3",
            "Step 4",
            "Step 1",
            "Step 2",
            "Step 3",
            "Step 4",
            "Step 5",
            "Step 1",
            "Step 3",
            "Step 4",
            "Step 1",
            "Step 2",
            "Step 3",
            "Step 4",
            "Step 5",
            "Step 6",
            "Step 1",
            "Step 2",
            "Step 3",
            "Step 4",
            "Step 5"
           ],
           [
            "Step 2: The dough is rolled out and cut into noodles.",
            "Step 4: The seasoning powder is made by mixing salt, sugar, flavour enhancers, garlic powder, onion powder, yeast extract, artificial flavour, pepper, and anti caking agent.",
            "Step 5: The seasoning oil is made by mixing refined palm oil and onion.",
            "Step 6: The sweet soy sauce is made by mixing sugar, water, salt, wheat, soy bean, spices, and sesame oil.",
            "Step 7: The chilli sauce is made by mixing chilli, water, sugar, salt, tapioca starch, acidity regulators, herbs, flavour enhancers, flavours, and preservatives.",
            "1. The wheat flour, sugar, vegetable oil, cocoa powder, fructose syrup, cornstarch, salt, raising agents, emulsifier, flavor, antioxidant, minerals, and vitamins are mixed together to form the cookie dough.",
            "2. The dough is then shaped into small, round cookies and baked until crispy.",
            "3. For the strawberry flavor, food acid and color are added to the dough before baking.",
            "4. After baking, the cookies are cooled and filled with a sweet cream filling.",
            "Mixing and blending dry ingredients, including wheat flour, sugar, cocoa powder, and raising agents.",
            "Adding and mixing wet ingredients, such as vegetable oil, fructose syrup, and emulsifiers.",
            "Forming the dough and allowing it to rest.",
            "Sheeting and cutting the dough into round wafers.",
            "Preparing the vanilla creme filling by blending sugar, cornstarch, and other ingredients.",
            "Assembling the sandwich cookies by topping the creme-filled wafer with a second wafer.",
            "Cooling and packaging the cookies for distribution.",
            "1. Apples and mangoes are harvested and processed to extract juice",
            "6. The mixture is pasteurized to ensure safety and stability",
            "Step 1: The fruit juices are extracted from pear, apple, pineapple, and passionfruit",
            "Step 3: Sugar, food acids, and vitamin C are added to the mixture",
            "Step 4: The mixture is pasteurized to kill any bacteria and extend shelf life",
            "Step 1: Extracting fruit juices and purées from apples, pears, pineapples, oranges, peaches, and passionfruits.",
            "Step 2: Combining the fruit juices and purées with water, sugar, food acids, vitamin C, natural flavors, and pectin.",
            "Step 3: Homogenizing the mixture to ensure a consistent texture and even distribution of ingredients.",
            "Step 4: Pasteurizing the mixture to kill any microorganisms and ensure a stable shelf life.",
            "Step 5: Filling the drink into containers, sealing, and cooling for storage and distribution.",
            "Step 1: Extraction of fruit juices from pear, apple, pineapple, orange, peach, and passionfruit",
            "Step 3: Addition of sugar and food acids (citric acid and potassium citrate) to enhance the flavor and preserve the product",
            "Step 5: Homogenization and pasteurization of the mixture to ensure safety and consistency",
            "Step 6: Filling and sealing of the individual containers",
            "Step 1: Canola oil, water, sugar, and vinegar are mixed together in a large vat.",
            "Step 2: Thickeners, egg yolk, gherkins, salt, onion powder, natural colors, preservatives, dill, acidity regulators, and herb extracts are added to the mixture.",
            "Step 3: The mixture is heated to a specific temperature to ensure proper mixing and emulsification.",
            "Step 4: The mixture is cooled and bottled for distribution.",
            "Potatoes are washed, peeled, and sliced into crinkle-cut shapes.",
            "The sliced potatoes are blanched in a mixture of canola and sunflower oils.",
            "The blanched potatoes are then fried in the same oil mixture until they are golden brown and crispy.",
            "While the potatoes are still hot, they are seasoned with a mixture of sugar, maltodextrin, salt, tomato powder, flavor enhancers, food acids, onion powder, and garlic powder.",
            "The seasoned chips are then cooled and packaged for distribution.",
            "Step 1: Potatoes are washed, peeled, and thinly sliced",
            "Step 3: The potatoes are then fried in a blend of canola and sunflower oils",
            "Step 4: After frying, the chips are seasoned with salt and a mix of antioxidants",
            "Step 1: Fruits (peach and pear) are sorted, washed, and prepared for processing",
            "Step 2: The fruits are chopped and blended to form a puree",
            "Step 3: The fruit puree is mixed with reconstituted refined juice (made from concentrated pear juice, water, antioxidant (ascorbic acid), and acidity regulator (citric acid))",
            "Step 4: The mixture is homogenized to ensure even distribution of fruit chunks and juice",
            "Step 5: The product is filled into cups, sealed, and pasteurized for preservation",
            "Step 6: The cups are labeled, packaged, and prepared for distribution",
            "Step 1: Preparation of Jelly - Water, sugar, and gelling agents are combined and heated to dissolve the sugar and activate the gelling agents.",
            "Step 2: Addition of Natural Flavours and Colours - Once the jelly base is prepared, natural flavours and colours are added to give it a tropical flavour and vibrant colour.",
            "Step 3: Acidification - Acidity regulators are added to balance the pH and enhance the flavour of the jelly.",
            "Step 4: Fruit Preparation - Peach and pear pieces are prepared and added to the jelly mixture.",
            "Step 5: Filling and Setting - The mixture is filled into containers and allowed to set in a cool environment."
           ]
          ]
         },
         "header": {
          "values": [
           "Step",
           "Description"
          ]
         },
         "type": "table"
        }
       ],
       "layout": {
        "height": 800,
        "template": {
         "data": {
          "bar": [
           {
            "error_x": {
             "color": "#2a3f5f"
            },
            "error_y": {
             "color": "#2a3f5f"
            },
            "marker": {
             "line": {
              "color": "#E5ECF6",
              "width": 0.5
             },
             "pattern": {
              "fillmode": "overlay",
              "size": 10,
              "solidity": 0.2
             }
            },
            "type": "bar"
           }
          ],
          "barpolar": [
           {
            "marker": {
             "line": {
              "color": "#E5ECF6",
              "width": 0.5
             },
             "pattern": {
              "fillmode": "overlay",
              "size": 10,
              "solidity": 0.2
             }
            },
            "type": "barpolar"
           }
          ],
          "carpet": [
           {
            "aaxis": {
             "endlinecolor": "#2a3f5f",
             "gridcolor": "white",
             "linecolor": "white",
             "minorgridcolor": "white",
             "startlinecolor": "#2a3f5f"
            },
            "baxis": {
             "endlinecolor": "#2a3f5f",
             "gridcolor": "white",
             "linecolor": "white",
             "minorgridcolor": "white",
             "startlinecolor": "#2a3f5f"
            },
            "type": "carpet"
           }
          ],
          "choropleth": [
           {
            "colorbar": {
             "outlinewidth": 0,
             "ticks": ""
            },
            "type": "choropleth"
           }
          ],
          "contour": [
           {
            "colorbar": {
             "outlinewidth": 0,
             "ticks": ""
            },
            "colorscale": [
             [
              0,
              "#0d0887"
             ],
             [
              0.1111111111111111,
              "#46039f"
             ],
             [
              0.2222222222222222,
              "#7201a8"
             ],
             [
              0.3333333333333333,
              "#9c179e"
             ],
             [
              0.4444444444444444,
              "#bd3786"
             ],
             [
              0.5555555555555556,
              "#d8576b"
             ],
             [
              0.6666666666666666,
              "#ed7953"
             ],
             [
              0.7777777777777778,
              "#fb9f3a"
             ],
             [
              0.8888888888888888,
              "#fdca26"
             ],
             [
              1,
              "#f0f921"
             ]
            ],
            "type": "contour"
           }
          ],
          "contourcarpet": [
           {
            "colorbar": {
             "outlinewidth": 0,
             "ticks": ""
            },
            "type": "contourcarpet"
           }
          ],
          "heatmap": [
           {
            "colorbar": {
             "outlinewidth": 0,
             "ticks": ""
            },
            "colorscale": [
             [
              0,
              "#0d0887"
             ],
             [
              0.1111111111111111,
              "#46039f"
             ],
             [
              0.2222222222222222,
              "#7201a8"
             ],
             [
              0.3333333333333333,
              "#9c179e"
             ],
             [
              0.4444444444444444,
              "#bd3786"
             ],
             [
              0.5555555555555556,
              "#d8576b"
             ],
             [
              0.6666666666666666,
              "#ed7953"
             ],
             [
              0.7777777777777778,
              "#fb9f3a"
             ],
             [
              0.8888888888888888,
              "#fdca26"
             ],
             [
              1,
              "#f0f921"
             ]
            ],
            "type": "heatmap"
           }
          ],
          "heatmapgl": [
           {
            "colorbar": {
             "outlinewidth": 0,
             "ticks": ""
            },
            "colorscale": [
             [
              0,
              "#0d0887"
             ],
             [
              0.1111111111111111,
              "#46039f"
             ],
             [
              0.2222222222222222,
              "#7201a8"
             ],
             [
              0.3333333333333333,
              "#9c179e"
             ],
             [
              0.4444444444444444,
              "#bd3786"
             ],
             [
              0.5555555555555556,
              "#d8576b"
             ],
             [
              0.6666666666666666,
              "#ed7953"
             ],
             [
              0.7777777777777778,
              "#fb9f3a"
             ],
             [
              0.8888888888888888,
              "#fdca26"
             ],
             [
              1,
              "#f0f921"
             ]
            ],
            "type": "heatmapgl"
           }
          ],
          "histogram": [
           {
            "marker": {
             "pattern": {
              "fillmode": "overlay",
              "size": 10,
              "solidity": 0.2
             }
            },
            "type": "histogram"
           }
          ],
          "histogram2d": [
           {
            "colorbar": {
             "outlinewidth": 0,
             "ticks": ""
            },
            "colorscale": [
             [
              0,
              "#0d0887"
             ],
             [
              0.1111111111111111,
              "#46039f"
             ],
             [
              0.2222222222222222,
              "#7201a8"
             ],
             [
              0.3333333333333333,
              "#9c179e"
             ],
             [
              0.4444444444444444,
              "#bd3786"
             ],
             [
              0.5555555555555556,
              "#d8576b"
             ],
             [
              0.6666666666666666,
              "#ed7953"
             ],
             [
              0.7777777777777778,
              "#fb9f3a"
             ],
             [
              0.8888888888888888,
              "#fdca26"
             ],
             [
              1,
              "#f0f921"
             ]
            ],
            "type": "histogram2d"
           }
          ],
          "histogram2dcontour": [
           {
            "colorbar": {
             "outlinewidth": 0,
             "ticks": ""
            },
            "colorscale": [
             [
              0,
              "#0d0887"
             ],
             [
              0.1111111111111111,
              "#46039f"
             ],
             [
              0.2222222222222222,
              "#7201a8"
             ],
             [
              0.3333333333333333,
              "#9c179e"
             ],
             [
              0.4444444444444444,
              "#bd3786"
             ],
             [
              0.5555555555555556,
              "#d8576b"
             ],
             [
              0.6666666666666666,
              "#ed7953"
             ],
             [
              0.7777777777777778,
              "#fb9f3a"
             ],
             [
              0.8888888888888888,
              "#fdca26"
             ],
             [
              1,
              "#f0f921"
             ]
            ],
            "type": "histogram2dcontour"
           }
          ],
          "mesh3d": [
           {
            "colorbar": {
             "outlinewidth": 0,
             "ticks": ""
            },
            "type": "mesh3d"
           }
          ],
          "parcoords": [
           {
            "line": {
             "colorbar": {
              "outlinewidth": 0,
              "ticks": ""
             }
            },
            "type": "parcoords"
           }
          ],
          "pie": [
           {
            "automargin": true,
            "type": "pie"
           }
          ],
          "scatter": [
           {
            "fillpattern": {
             "fillmode": "overlay",
             "size": 10,
             "solidity": 0.2
            },
            "type": "scatter"
           }
          ],
          "scatter3d": [
           {
            "line": {
             "colorbar": {
              "outlinewidth": 0,
              "ticks": ""
             }
            },
            "marker": {
             "colorbar": {
              "outlinewidth": 0,
              "ticks": ""
             }
            },
            "type": "scatter3d"
           }
          ],
          "scattercarpet": [
           {
            "marker": {
             "colorbar": {
              "outlinewidth": 0,
              "ticks": ""
             }
            },
            "type": "scattercarpet"
           }
          ],
          "scattergeo": [
           {
            "marker": {
             "colorbar": {
              "outlinewidth": 0,
              "ticks": ""
             }
            },
            "type": "scattergeo"
           }
          ],
          "scattergl": [
           {
            "marker": {
             "colorbar": {
              "outlinewidth": 0,
              "ticks": ""
             }
            },
            "type": "scattergl"
           }
          ],
          "scattermapbox": [
           {
            "marker": {
             "colorbar": {
              "outlinewidth": 0,
              "ticks": ""
             }
            },
            "type": "scattermapbox"
           }
          ],
          "scatterpolar": [
           {
            "marker": {
             "colorbar": {
              "outlinewidth": 0,
              "ticks": ""
             }
            },
            "type": "scatterpolar"
           }
          ],
          "scatterpolargl": [
           {
            "marker": {
             "colorbar": {
              "outlinewidth": 0,
              "ticks": ""
             }
            },
            "type": "scatterpolargl"
           }
          ],
          "scatterternary": [
           {
            "marker": {
             "colorbar": {
              "outlinewidth": 0,
              "ticks": ""
             }
            },
            "type": "scatterternary"
           }
          ],
          "surface": [
           {
            "colorbar": {
             "outlinewidth": 0,
             "ticks": ""
            },
            "colorscale": [
             [
              0,
              "#0d0887"
             ],
             [
              0.1111111111111111,
              "#46039f"
             ],
             [
              0.2222222222222222,
              "#7201a8"
             ],
             [
              0.3333333333333333,
              "#9c179e"
             ],
             [
              0.4444444444444444,
              "#bd3786"
             ],
             [
              0.5555555555555556,
              "#d8576b"
             ],
             [
              0.6666666666666666,
              "#ed7953"
             ],
             [
              0.7777777777777778,
              "#fb9f3a"
             ],
             [
              0.8888888888888888,
              "#fdca26"
             ],
             [
              1,
              "#f0f921"
             ]
            ],
            "type": "surface"
           }
          ],
          "table": [
           {
            "cells": {
             "fill": {
              "color": "#EBF0F8"
             },
             "line": {
              "color": "white"
             }
            },
            "header": {
             "fill": {
              "color": "#C8D4E3"
             },
             "line": {
              "color": "white"
             }
            },
            "type": "table"
           }
          ]
         },
         "layout": {
          "annotationdefaults": {
           "arrowcolor": "#2a3f5f",
           "arrowhead": 0,
           "arrowwidth": 1
          },
          "autotypenumbers": "strict",
          "coloraxis": {
           "colorbar": {
            "outlinewidth": 0,
            "ticks": ""
           }
          },
          "colorscale": {
           "diverging": [
            [
             0,
             "#8e0152"
            ],
            [
             0.1,
             "#c51b7d"
            ],
            [
             0.2,
             "#de77ae"
            ],
            [
             0.3,
             "#f1b6da"
            ],
            [
             0.4,
             "#fde0ef"
            ],
            [
             0.5,
             "#f7f7f7"
            ],
            [
             0.6,
             "#e6f5d0"
            ],
            [
             0.7,
             "#b8e186"
            ],
            [
             0.8,
             "#7fbc41"
            ],
            [
             0.9,
             "#4d9221"
            ],
            [
             1,
             "#276419"
            ]
           ],
           "sequential": [
            [
             0,
             "#0d0887"
            ],
            [
             0.1111111111111111,
             "#46039f"
            ],
            [
             0.2222222222222222,
             "#7201a8"
            ],
            [
             0.3333333333333333,
             "#9c179e"
            ],
            [
             0.4444444444444444,
             "#bd3786"
            ],
            [
             0.5555555555555556,
             "#d8576b"
            ],
            [
             0.6666666666666666,
             "#ed7953"
            ],
            [
             0.7777777777777778,
             "#fb9f3a"
            ],
            [
             0.8888888888888888,
             "#fdca26"
            ],
            [
             1,
             "#f0f921"
            ]
           ],
           "sequentialminus": [
            [
             0,
             "#0d0887"
            ],
            [
             0.1111111111111111,
             "#46039f"
            ],
            [
             0.2222222222222222,
             "#7201a8"
            ],
            [
             0.3333333333333333,
             "#9c179e"
            ],
            [
             0.4444444444444444,
             "#bd3786"
            ],
            [
             0.5555555555555556,
             "#d8576b"
            ],
            [
             0.6666666666666666,
             "#ed7953"
            ],
            [
             0.7777777777777778,
             "#fb9f3a"
            ],
            [
             0.8888888888888888,
             "#fdca26"
            ],
            [
             1,
             "#f0f921"
            ]
           ]
          },
          "colorway": [
           "#636efa",
           "#EF553B",
           "#00cc96",
           "#ab63fa",
           "#FFA15A",
           "#19d3f3",
           "#FF6692",
           "#B6E880",
           "#FF97FF",
           "#FECB52"
          ],
          "font": {
           "color": "#2a3f5f"
          },
          "geo": {
           "bgcolor": "white",
           "lakecolor": "white",
           "landcolor": "#E5ECF6",
           "showlakes": true,
           "showland": true,
           "subunitcolor": "white"
          },
          "hoverlabel": {
           "align": "left"
          },
          "hovermode": "closest",
          "mapbox": {
           "style": "light"
          },
          "paper_bgcolor": "white",
          "plot_bgcolor": "#E5ECF6",
          "polar": {
           "angularaxis": {
            "gridcolor": "white",
            "linecolor": "white",
            "ticks": ""
           },
           "bgcolor": "#E5ECF6",
           "radialaxis": {
            "gridcolor": "white",
            "linecolor": "white",
            "ticks": ""
           }
          },
          "scene": {
           "xaxis": {
            "backgroundcolor": "#E5ECF6",
            "gridcolor": "white",
            "gridwidth": 2,
            "linecolor": "white",
            "showbackground": true,
            "ticks": "",
            "zerolinecolor": "white"
           },
           "yaxis": {
            "backgroundcolor": "#E5ECF6",
            "gridcolor": "white",
            "gridwidth": 2,
            "linecolor": "white",
            "showbackground": true,
            "ticks": "",
            "zerolinecolor": "white"
           },
           "zaxis": {
            "backgroundcolor": "#E5ECF6",
            "gridcolor": "white",
            "gridwidth": 2,
            "linecolor": "white",
            "showbackground": true,
            "ticks": "",
            "zerolinecolor": "white"
           }
          },
          "shapedefaults": {
           "line": {
            "color": "#2a3f5f"
           }
          },
          "ternary": {
           "aaxis": {
            "gridcolor": "white",
            "linecolor": "white",
            "ticks": ""
           },
           "baxis": {
            "gridcolor": "white",
            "linecolor": "white",
            "ticks": ""
           },
           "bgcolor": "#E5ECF6",
           "caxis": {
            "gridcolor": "white",
            "linecolor": "white",
            "ticks": ""
           }
          },
          "title": {
           "x": 0.05
          },
          "xaxis": {
           "automargin": true,
           "gridcolor": "white",
           "linecolor": "white",
           "ticks": "",
           "title": {
            "standoff": 15
           },
           "zerolinecolor": "white",
           "zerolinewidth": 2
          },
          "yaxis": {
           "automargin": true,
           "gridcolor": "white",
           "linecolor": "white",
           "ticks": "",
           "title": {
            "standoff": 15
           },
           "zerolinecolor": "white",
           "zerolinewidth": 2
          }
         }
        },
        "title": {
         "text": "ManufacturingProcess Grouped by Keywords"
        }
       }
      }
     },
     "metadata": {},
     "output_type": "display_data"
    }
   ],
   "source": [
    "import pandas as pd\n",
    "import plotly.graph_objects as go\n",
    "\n",
    "\n",
    "query = \"\"\"\n",
    "MATCH (ir:ManufacturingProcess)\n",
    "RETURN ir.Step AS ManufacturingProcessstep, ir.Description AS ManufacturingProcessdes\n",
    "\"\"\"\n",
    "\n",
    "with driver.session() as session:\n",
    "    result = session.run(query)\n",
    "    neo4j_data = [record.data() for record in result]\n",
    "\n",
    "\n",
    "df = pd.DataFrame(neo4j_data)\n",
    "\n",
    "# Check column names and rename\n",
    "product_col = df.columns[df.columns.str.contains('ManufacturingProcessstep', case=False)][0]\n",
    "desc_col = df.columns[df.columns.str.contains('ManufacturingProcessdes', case=False)][0]\n",
    "df.rename(columns={product_col: 'Step', desc_col: 'Description'}, inplace=True)\n",
    "\n",
    "# Define search keywords\n",
    "keywords = ['salt', 'and']\n",
    "\n",
    "# Grouping by keyword\n",
    "grouped = df.groupby(df['Description'].apply(lambda x: any(kw.lower() in str(x).lower() for kw in keywords) if pd.notnull(x) else False))\n",
    "\n",
    "# Creating visualisation data\n",
    "fig_data = []\n",
    "for group_name, group in grouped:\n",
    "    group_trace = go.Table(\n",
    "        header=dict(values=['Step', 'Description']),\n",
    "        cells=dict(values=[group['Step'], group['Description']])\n",
    "    )\n",
    "    fig_data.append(group_trace)\n",
    "\n",
    "\n",
    "fig_layout = go.Layout(\n",
    "    title='ManufacturingProcess Grouped by Keywords',\n",
    "    height=800\n",
    ")\n",
    "\n",
    "\n",
    "fig = go.Figure(data=fig_data, layout=fig_layout)\n",
    "\n",
    "\n",
    "fig.show()"
   ]
  },
  {
   "cell_type": "code",
   "execution_count": 31,
   "metadata": {},
   "outputs": [
    {
     "data": {
      "application/vnd.plotly.v1+json": {
       "config": {
        "plotlyServerURL": "https://plot.ly"
       },
       "data": [
        {
         "cells": {
          "values": [
           "",
           [
            null,
            null,
            null,
            null,
            "Step 3",
            "Step 8",
            null,
            null,
            null,
            null,
            null,
            null,
            null,
            null,
            null,
            null,
            null,
            null,
            null,
            null,
            null,
            null,
            null,
            null,
            null,
            null,
            null,
            null,
            null,
            null,
            null,
            null,
            null,
            null,
            "Step 5",
            null,
            null,
            null,
            "Step 5",
            "Step 7",
            null,
            null,
            "Step 2",
            "Step 3",
            "Step 4",
            "Step 5",
            "Step 7",
            null,
            null,
            null,
            null,
            "Step 5",
            null,
            "Step 2",
            "Step 4",
            "Step 7",
            null,
            null,
            null,
            null,
            null,
            null,
            null,
            null,
            null,
            null,
            null,
            null,
            null,
            null,
            null,
            null,
            null,
            null,
            null,
            null,
            null,
            null,
            null,
            null,
            null,
            null,
            null,
            null,
            null,
            null,
            null,
            "Step 2",
            "Step 5",
            null,
            null,
            null,
            null,
            null,
            null,
            null,
            null,
            null,
            null,
            null,
            null,
            null,
            null,
            null,
            null,
            null,
            null,
            null,
            null,
            null,
            null,
            null,
            null,
            null,
            null,
            null,
            null,
            null,
            null,
            null,
            null,
            null,
            null,
            null,
            null,
            null,
            null,
            null,
            null,
            null,
            null,
            null,
            null,
            null,
            null,
            null,
            null,
            null,
            null,
            null,
            null,
            null,
            null,
            null,
            null,
            null,
            null,
            null,
            null,
            null,
            null,
            null,
            null,
            null,
            null,
            null,
            null,
            null,
            null,
            null,
            null,
            null,
            null,
            null,
            null,
            null,
            null,
            null,
            null,
            null,
            null,
            null,
            null,
            null,
            null,
            null,
            null,
            null,
            null,
            null,
            null,
            null,
            null,
            null,
            null,
            null,
            null,
            null,
            null,
            null,
            null,
            null,
            null,
            null,
            null,
            null,
            null,
            null,
            null,
            null,
            null,
            null,
            null,
            null,
            null,
            null,
            null,
            null,
            null,
            null,
            null,
            null,
            null,
            null,
            null,
            null,
            null,
            null,
            null,
            null,
            null,
            null,
            null,
            null,
            null,
            null,
            null,
            null,
            null,
            null,
            null,
            null,
            null,
            null,
            null,
            null,
            null,
            null,
            null,
            null,
            null,
            null,
            null,
            null,
            null,
            null,
            null,
            null,
            null,
            null,
            null,
            null,
            null,
            null,
            null,
            null,
            null,
            null,
            null,
            null,
            null,
            null,
            null,
            null,
            null,
            null,
            null,
            null,
            null,
            null,
            null,
            null,
            null,
            null,
            null,
            null,
            null,
            null,
            null,
            null,
            null,
            null,
            null,
            null,
            null,
            null,
            null,
            null,
            null,
            null,
            null,
            null,
            null,
            null,
            null,
            null,
            null,
            null,
            null,
            null,
            null,
            null,
            null,
            null,
            null,
            null,
            null,
            null,
            null,
            null,
            null,
            null,
            null,
            null,
            null,
            null,
            null,
            null,
            null,
            null,
            null,
            null,
            null,
            null,
            null,
            null,
            null,
            null,
            null,
            null,
            null,
            null,
            null,
            null,
            null,
            null,
            null,
            null,
            null,
            null,
            null,
            null,
            null,
            null,
            null,
            null,
            null,
            null,
            null,
            null,
            null,
            null,
            null,
            null,
            null,
            null,
            null,
            null,
            null,
            null,
            null,
            null,
            null,
            null,
            null,
            null,
            null,
            null,
            null,
            null,
            null,
            null,
            null,
            null,
            null,
            null,
            null,
            null,
            null,
            null,
            null,
            null,
            null,
            null,
            null,
            null,
            null,
            null,
            null,
            null,
            null,
            null,
            null,
            null,
            null,
            null,
            null,
            null,
            null,
            null,
            null,
            null,
            null,
            null,
            null,
            null,
            null,
            null,
            null,
            null,
            null,
            null,
            null,
            null,
            null,
            null,
            null,
            null,
            null,
            null,
            null,
            null,
            null,
            null,
            null,
            null,
            null,
            null,
            null,
            null,
            null,
            null,
            null,
            null,
            null,
            null,
            null,
            null,
            null,
            null,
            null,
            null,
            null,
            null,
            null,
            null,
            null,
            null,
            null,
            null,
            null,
            null,
            null,
            null,
            null,
            null,
            null,
            null,
            null,
            null,
            null,
            null,
            null,
            null,
            null,
            null,
            null,
            null,
            null,
            null,
            null,
            null,
            null,
            null,
            null,
            null,
            null,
            null,
            null,
            null,
            null,
            null,
            null,
            null,
            null,
            null,
            null,
            null,
            null,
            null,
            null,
            null,
            null,
            null,
            null,
            null,
            null,
            null,
            null,
            null,
            null,
            null,
            null,
            null,
            null,
            null,
            null,
            null,
            null,
            null,
            null,
            null,
            null,
            null,
            null,
            null,
            null,
            null,
            null,
            null,
            null,
            null,
            null,
            null,
            null,
            null,
            null,
            null,
            null,
            null,
            null,
            null,
            null,
            null,
            null,
            null,
            null,
            null,
            null,
            null,
            null,
            null,
            null,
            null,
            null,
            null,
            null,
            null,
            null,
            null,
            null,
            null,
            null,
            null,
            null,
            null,
            null,
            null,
            null,
            null,
            null,
            null,
            null,
            null,
            null,
            null,
            null,
            null,
            null,
            null,
            null,
            null,
            null,
            null,
            null,
            null,
            null,
            null,
            null,
            null,
            null,
            null,
            null,
            null,
            null,
            null,
            null,
            null,
            null,
            null,
            null,
            null,
            null,
            null,
            null,
            null,
            null,
            null,
            null,
            null,
            null,
            null,
            null,
            null,
            null,
            null,
            null,
            null,
            null,
            null,
            null,
            null,
            null,
            null,
            null,
            null,
            null,
            null,
            null,
            null,
            null,
            null,
            null,
            null,
            null,
            null,
            null,
            null,
            null,
            null,
            null,
            null,
            null,
            null,
            null,
            null,
            null,
            null,
            null,
            null,
            null,
            null,
            null,
            null,
            null,
            null,
            null,
            null,
            null,
            null,
            null,
            null,
            null,
            null,
            null,
            null,
            null,
            null,
            null,
            null,
            null,
            null,
            null,
            null,
            null,
            null,
            null,
            null,
            null,
            null,
            null,
            null,
            null,
            null,
            null,
            null,
            null,
            null,
            null,
            null,
            null,
            null,
            null,
            null,
            null,
            null,
            null,
            null,
            null,
            null,
            null,
            null,
            null,
            null,
            null,
            null,
            null,
            null,
            null,
            null,
            null,
            null,
            null,
            null,
            null,
            null,
            null,
            null,
            null,
            null,
            null,
            null,
            null,
            null,
            null,
            null,
            null,
            null,
            null,
            null,
            null,
            null,
            null,
            null,
            null,
            null,
            null,
            null,
            null,
            null,
            null,
            null,
            null,
            null,
            null,
            null,
            null,
            null,
            null,
            null,
            null,
            null,
            null,
            null,
            null,
            null,
            null,
            null,
            null,
            null,
            null,
            null,
            null,
            null,
            null,
            null,
            null,
            null,
            null,
            null,
            null,
            null,
            null,
            null,
            null,
            null,
            null,
            null,
            null,
            null,
            null,
            null,
            null,
            null,
            null,
            null,
            null,
            null,
            null,
            null,
            null,
            null,
            null,
            null,
            null,
            null,
            null,
            null,
            null,
            null,
            null,
            null,
            null,
            null,
            null,
            null,
            null,
            null,
            null,
            null,
            null,
            null,
            null,
            null,
            null,
            null,
            null,
            null,
            null,
            null,
            null,
            null,
            null,
            null,
            null,
            null,
            null,
            null,
            null,
            null,
            null,
            null,
            null,
            null,
            null,
            null,
            null,
            null,
            null,
            null,
            null,
            null,
            null,
            null,
            null,
            null,
            null,
            null,
            null,
            null,
            null,
            null,
            null,
            null,
            null,
            null,
            null,
            null,
            null,
            null
           ],
           [
            null,
            null,
            null,
            null,
            "Step 3: The noodles are fried in refined palm oil.",
            "Step 8: The fried onion is made by frying onion in refined palm oil.",
            null,
            null,
            null,
            null,
            null,
            null,
            null,
            null,
            null,
            null,
            null,
            null,
            null,
            null,
            null,
            null,
            null,
            null,
            null,
            null,
            null,
            null,
            null,
            null,
            null,
            null,
            null,
            null,
            "5. The cookies are then packaged into bags of 18 packs.",
            null,
            null,
            null,
            "Baking the wafers at controlled temperatures.",
            "Piping or spreading the creme filling onto one wafer.",
            null,
            null,
            "2. The juices are reconstituted to specific concentrations (95.8% apple juice, 4.0% mango juice)",
            "3. Citric acid is added to regulate acidity",
            "4. Vitamin C is added for fortification",
            "5. Natural flavours are introduced to enhance taste",
            "7. The juice is packaged in aseptic containers for distribution",
            null,
            null,
            null,
            null,
            "Step 5: The beverage is packaged in aseptic containers to maintain freshness",
            null,
            "Step 2: Blending of the fruit juices to create the tropical punch flavor",
            "Step 4: Incorporation of natural flavors to enhance the fruit taste",
            "Step 7: Packing the individual containers into multipacks",
            null,
            null,
            null,
            null,
            null,
            null,
            null,
            null,
            null,
            null,
            null,
            null,
            null,
            null,
            null,
            null,
            null,
            null,
            null,
            null,
            null,
            null,
            null,
            null,
            null,
            null,
            null,
            null,
            null,
            null,
            null,
            "Step 2: The sliced potatoes are blanched to remove excess starch",
            "Step 5: The chips are packaged in a share pack for consumption",
            null,
            null,
            null,
            null,
            null,
            null,
            null,
            null,
            null,
            null,
            null,
            null,
            null,
            null,
            null,
            null,
            null,
            null,
            null,
            null,
            null,
            null,
            null,
            null,
            null,
            null,
            null,
            null,
            null,
            null,
            null,
            null,
            null,
            null,
            null,
            null,
            null,
            null,
            null,
            null,
            null,
            null,
            null,
            null,
            null,
            null,
            null,
            null,
            null,
            null,
            null,
            null,
            null,
            null,
            null,
            null,
            null,
            null,
            null,
            null,
            null,
            null,
            null,
            null,
            null,
            null,
            null,
            null,
            null,
            null,
            null,
            null,
            null,
            null,
            null,
            null,
            null,
            null,
            null,
            null,
            null,
            null,
            null,
            null,
            null,
            null,
            null,
            null,
            null,
            null,
            null,
            null,
            null,
            null,
            null,
            null,
            null,
            null,
            null,
            null,
            null,
            null,
            null,
            null,
            null,
            null,
            null,
            null,
            null,
            null,
            null,
            null,
            null,
            null,
            null,
            null,
            null,
            null,
            null,
            null,
            null,
            null,
            null,
            null,
            null,
            null,
            null,
            null,
            null,
            null,
            null,
            null,
            null,
            null,
            null,
            null,
            null,
            null,
            null,
            null,
            null,
            null,
            null,
            null,
            null,
            null,
            null,
            null,
            null,
            null,
            null,
            null,
            null,
            null,
            null,
            null,
            null,
            null,
            null,
            null,
            null,
            null,
            null,
            null,
            null,
            null,
            null,
            null,
            null,
            null,
            null,
            null,
            null,
            null,
            null,
            null,
            null,
            null,
            null,
            null,
            null,
            null,
            null,
            null,
            null,
            null,
            null,
            null,
            null,
            null,
            null,
            null,
            null,
            null,
            null,
            null,
            null,
            null,
            null,
            null,
            null,
            null,
            null,
            null,
            null,
            null,
            null,
            null,
            null,
            null,
            null,
            null,
            null,
            null,
            null,
            null,
            null,
            null,
            null,
            null,
            null,
            null,
            null,
            null,
            null,
            null,
            null,
            null,
            null,
            null,
            null,
            null,
            null,
            null,
            null,
            null,
            null,
            null,
            null,
            null,
            null,
            null,
            null,
            null,
            null,
            null,
            null,
            null,
            null,
            null,
            null,
            null,
            null,
            null,
            null,
            null,
            null,
            null,
            null,
            null,
            null,
            null,
            null,
            null,
            null,
            null,
            null,
            null,
            null,
            null,
            null,
            null,
            null,
            null,
            null,
            null,
            null,
            null,
            null,
            null,
            null,
            null,
            null,
            null,
            null,
            null,
            null,
            null,
            null,
            null,
            null,
            null,
            null,
            null,
            null,
            null,
            null,
            null,
            null,
            null,
            null,
            null,
            null,
            null,
            null,
            null,
            null,
            null,
            null,
            null,
            null,
            null,
            null,
            null,
            null,
            null,
            null,
            null,
            null,
            null,
            null,
            null,
            null,
            null,
            null,
            null,
            null,
            null,
            null,
            null,
            null,
            null,
            null,
            null,
            null,
            null,
            null,
            null,
            null,
            null,
            null,
            null,
            null,
            null,
            null,
            null,
            null,
            null,
            null,
            null,
            null,
            null,
            null,
            null,
            null,
            null,
            null,
            null,
            null,
            null,
            null,
            null,
            null,
            null,
            null,
            null,
            null,
            null,
            null,
            null,
            null,
            null,
            null,
            null,
            null,
            null,
            null,
            null,
            null,
            null,
            null,
            null,
            null,
            null,
            null,
            null,
            null,
            null,
            null,
            null,
            null,
            null,
            null,
            null,
            null,
            null,
            null,
            null,
            null,
            null,
            null,
            null,
            null,
            null,
            null,
            null,
            null,
            null,
            null,
            null,
            null,
            null,
            null,
            null,
            null,
            null,
            null,
            null,
            null,
            null,
            null,
            null,
            null,
            null,
            null,
            null,
            null,
            null,
            null,
            null,
            null,
            null,
            null,
            null,
            null,
            null,
            null,
            null,
            null,
            null,
            null,
            null,
            null,
            null,
            null,
            null,
            null,
            null,
            null,
            null,
            null,
            null,
            null,
            null,
            null,
            null,
            null,
            null,
            null,
            null,
            null,
            null,
            null,
            null,
            null,
            null,
            null,
            null,
            null,
            null,
            null,
            null,
            null,
            null,
            null,
            null,
            null,
            null,
            null,
            null,
            null,
            null,
            null,
            null,
            null,
            null,
            null,
            null,
            null,
            null,
            null,
            null,
            null,
            null,
            null,
            null,
            null,
            null,
            null,
            null,
            null,
            null,
            null,
            null,
            null,
            null,
            null,
            null,
            null,
            null,
            null,
            null,
            null,
            null,
            null,
            null,
            null,
            null,
            null,
            null,
            null,
            null,
            null,
            null,
            null,
            null,
            null,
            null,
            null,
            null,
            null,
            null,
            null,
            null,
            null,
            null,
            null,
            null,
            null,
            null,
            null,
            null,
            null,
            null,
            null,
            null,
            null,
            null,
            null,
            null,
            null,
            null,
            null,
            null,
            null,
            null,
            null,
            null,
            null,
            null,
            null,
            null,
            null,
            null,
            null,
            null,
            null,
            null,
            null,
            null,
            null,
            null,
            null,
            null,
            null,
            null,
            null,
            null,
            null,
            null,
            null,
            null,
            null,
            null,
            null,
            null,
            null,
            null,
            null,
            null,
            null,
            null,
            null,
            null,
            null,
            null,
            null,
            null,
            null,
            null,
            null,
            null,
            null,
            null,
            null,
            null,
            null,
            null,
            null,
            null,
            null,
            null,
            null,
            null,
            null,
            null,
            null,
            null,
            null,
            null,
            null,
            null,
            null,
            null,
            null,
            null,
            null,
            null,
            null,
            null,
            null,
            null,
            null,
            null,
            null,
            null,
            null,
            null,
            null,
            null,
            null,
            null,
            null,
            null,
            null,
            null,
            null,
            null,
            null,
            null,
            null,
            null,
            null,
            null,
            null,
            null,
            null,
            null,
            null,
            null,
            null,
            null,
            null,
            null,
            null,
            null,
            null,
            null,
            null,
            null,
            null,
            null,
            null,
            null,
            null,
            null,
            null,
            null,
            null,
            null,
            null,
            null,
            null,
            null,
            null,
            null,
            null,
            null,
            null,
            null,
            null,
            null,
            null,
            null,
            null,
            null,
            null,
            null,
            null,
            null,
            null,
            null,
            null,
            null,
            null,
            null,
            null,
            null,
            null,
            null,
            null,
            null,
            null,
            null,
            null,
            null,
            null,
            null,
            null,
            null,
            null,
            null,
            null,
            null,
            null,
            null,
            null,
            null,
            null,
            null,
            null,
            null,
            null,
            null,
            null,
            null,
            null,
            null,
            null,
            null,
            null,
            null,
            null,
            null,
            null,
            null,
            null,
            null,
            null,
            null,
            null,
            null,
            null,
            null,
            null,
            null,
            null,
            null,
            null,
            null,
            null
           ]
          ]
         },
         "header": {
          "values": [
           "Group",
           "Step",
           "Description"
          ]
         },
         "type": "table"
        },
        {
         "cells": {
          "values": [
           "and water",
           [
            "Step 2",
            "Step 5",
            "Step 2",
            "Step 3",
            "Step 4",
            "Step 2",
            "Step 3",
            "Step 4",
            "Step 8",
            "Step 9",
            "Step 1",
            "Step 6",
            "Step 1",
            "Step 4",
            "Step 1",
            "Step 3",
            "Step 4",
            "Step 5",
            "Step 1",
            "Step 5",
            "Step 6",
            "Step 2",
            "Step 3",
            "Step 4",
            "Step 1",
            "Step 2",
            "Step 3",
            "Step 5",
            "Step 1",
            "Step 3",
            "Step 4",
            "Step 1",
            "Step 2",
            "Step 4",
            "Step 5",
            "Step 6",
            "Step 2",
            "Step 3",
            "Step 4",
            "Step 5"
           ],
           [
            "Step 2: The dough is rolled out and cut into noodles.",
            "Step 5: The seasoning oil is made by mixing refined palm oil and onion.",
            "2. The dough is then shaped into small, round cookies and baked until crispy.",
            "3. For the strawberry flavor, food acid and color are added to the dough before baking.",
            "4. After baking, the cookies are cooled and filled with a sweet cream filling.",
            "Adding and mixing wet ingredients, such as vegetable oil, fructose syrup, and emulsifiers.",
            "Forming the dough and allowing it to rest.",
            "Sheeting and cutting the dough into round wafers.",
            "Assembling the sandwich cookies by topping the creme-filled wafer with a second wafer.",
            "Cooling and packaging the cookies for distribution.",
            "1. Apples and mangoes are harvested and processed to extract juice",
            "6. The mixture is pasteurized to ensure safety and stability",
            "Step 1: The fruit juices are extracted from pear, apple, pineapple, and passionfruit",
            "Step 4: The mixture is pasteurized to kill any bacteria and extend shelf life",
            "Step 1: Extracting fruit juices and purées from apples, pears, pineapples, oranges, peaches, and passionfruits.",
            "Step 3: Homogenizing the mixture to ensure a consistent texture and even distribution of ingredients.",
            "Step 4: Pasteurizing the mixture to kill any microorganisms and ensure a stable shelf life.",
            "Step 5: Filling the drink into containers, sealing, and cooling for storage and distribution.",
            "Step 1: Extraction of fruit juices from pear, apple, pineapple, orange, peach, and passionfruit",
            "Step 5: Homogenization and pasteurization of the mixture to ensure safety and consistency",
            "Step 6: Filling and sealing of the individual containers",
            "Step 2: Thickeners, egg yolk, gherkins, salt, onion powder, natural colors, preservatives, dill, acidity regulators, and herb extracts are added to the mixture.",
            "Step 3: The mixture is heated to a specific temperature to ensure proper mixing and emulsification.",
            "Step 4: The mixture is cooled and bottled for distribution.",
            "Potatoes are washed, peeled, and sliced into crinkle-cut shapes.",
            "The sliced potatoes are blanched in a mixture of canola and sunflower oils.",
            "The blanched potatoes are then fried in the same oil mixture until they are golden brown and crispy.",
            "The seasoned chips are then cooled and packaged for distribution.",
            "Step 1: Potatoes are washed, peeled, and thinly sliced",
            "Step 3: The potatoes are then fried in a blend of canola and sunflower oils",
            "Step 4: After frying, the chips are seasoned with salt and a mix of antioxidants",
            "Step 1: Fruits (peach and pear) are sorted, washed, and prepared for processing",
            "Step 2: The fruits are chopped and blended to form a puree",
            "Step 4: The mixture is homogenized to ensure even distribution of fruit chunks and juice",
            "Step 5: The product is filled into cups, sealed, and pasteurized for preservation",
            "Step 6: The cups are labeled, packaged, and prepared for distribution",
            "Step 2: Addition of Natural Flavours and Colours - Once the jelly base is prepared, natural flavours and colours are added to give it a tropical flavour and vibrant colour.",
            "Step 3: Acidification - Acidity regulators are added to balance the pH and enhance the flavour of the jelly.",
            "Step 4: Fruit Preparation - Peach and pear pieces are prepared and added to the jelly mixture.",
            "Step 5: Filling and Setting - The mixture is filled into containers and allowed to set in a cool environment."
           ]
          ]
         },
         "header": {
          "values": [
           "Group",
           "Step",
           "Description"
          ]
         },
         "type": "table"
        },
        {
         "cells": {
          "values": [
           "and water, water sugar",
           [
            "Step 1",
            "Step 4",
            "Step 6",
            "Step 7",
            "Step 1",
            "Step 1",
            "Step 6",
            "Step 2",
            "Step 3",
            "Step 2",
            "Step 3",
            "Step 1",
            "Step 4",
            "Step 3",
            "Step 1"
           ],
           [
            "Step 1: The wheat flour is mixed with water to form a dough.",
            "Step 4: The seasoning powder is made by mixing salt, sugar, flavour enhancers, garlic powder, onion powder, yeast extract, artificial flavour, pepper, and anti caking agent.",
            "Step 6: The sweet soy sauce is made by mixing sugar, water, salt, wheat, soy bean, spices, and sesame oil.",
            "Step 7: The chilli sauce is made by mixing chilli, water, sugar, salt, tapioca starch, acidity regulators, herbs, flavour enhancers, flavours, and preservatives.",
            "1. The wheat flour, sugar, vegetable oil, cocoa powder, fructose syrup, cornstarch, salt, raising agents, emulsifier, flavor, antioxidant, minerals, and vitamins are mixed together to form the cookie dough.",
            "Mixing and blending dry ingredients, including wheat flour, sugar, cocoa powder, and raising agents.",
            "Preparing the vanilla creme filling by blending sugar, cornstarch, and other ingredients.",
            "Step 2: The fruit juices are reconstituted with water",
            "Step 3: Sugar, food acids, and vitamin C are added to the mixture",
            "Step 2: Combining the fruit juices and purées with water, sugar, food acids, vitamin C, natural flavors, and pectin.",
            "Step 3: Addition of sugar and food acids (citric acid and potassium citrate) to enhance the flavor and preserve the product",
            "Step 1: Canola oil, water, sugar, and vinegar are mixed together in a large vat.",
            "While the potatoes are still hot, they are seasoned with a mixture of sugar, maltodextrin, salt, tomato powder, flavor enhancers, food acids, onion powder, and garlic powder.",
            "Step 3: The fruit puree is mixed with reconstituted refined juice (made from concentrated pear juice, water, antioxidant (ascorbic acid), and acidity regulator (citric acid))",
            "Step 1: Preparation of Jelly - Water, sugar, and gelling agents are combined and heated to dissolve the sugar and activate the gelling agents."
           ]
          ]
         },
         "header": {
          "values": [
           "Group",
           "Step",
           "Description"
          ]
         },
         "type": "table"
        }
       ],
       "layout": {
        "height": 800,
        "template": {
         "data": {
          "bar": [
           {
            "error_x": {
             "color": "#2a3f5f"
            },
            "error_y": {
             "color": "#2a3f5f"
            },
            "marker": {
             "line": {
              "color": "#E5ECF6",
              "width": 0.5
             },
             "pattern": {
              "fillmode": "overlay",
              "size": 10,
              "solidity": 0.2
             }
            },
            "type": "bar"
           }
          ],
          "barpolar": [
           {
            "marker": {
             "line": {
              "color": "#E5ECF6",
              "width": 0.5
             },
             "pattern": {
              "fillmode": "overlay",
              "size": 10,
              "solidity": 0.2
             }
            },
            "type": "barpolar"
           }
          ],
          "carpet": [
           {
            "aaxis": {
             "endlinecolor": "#2a3f5f",
             "gridcolor": "white",
             "linecolor": "white",
             "minorgridcolor": "white",
             "startlinecolor": "#2a3f5f"
            },
            "baxis": {
             "endlinecolor": "#2a3f5f",
             "gridcolor": "white",
             "linecolor": "white",
             "minorgridcolor": "white",
             "startlinecolor": "#2a3f5f"
            },
            "type": "carpet"
           }
          ],
          "choropleth": [
           {
            "colorbar": {
             "outlinewidth": 0,
             "ticks": ""
            },
            "type": "choropleth"
           }
          ],
          "contour": [
           {
            "colorbar": {
             "outlinewidth": 0,
             "ticks": ""
            },
            "colorscale": [
             [
              0,
              "#0d0887"
             ],
             [
              0.1111111111111111,
              "#46039f"
             ],
             [
              0.2222222222222222,
              "#7201a8"
             ],
             [
              0.3333333333333333,
              "#9c179e"
             ],
             [
              0.4444444444444444,
              "#bd3786"
             ],
             [
              0.5555555555555556,
              "#d8576b"
             ],
             [
              0.6666666666666666,
              "#ed7953"
             ],
             [
              0.7777777777777778,
              "#fb9f3a"
             ],
             [
              0.8888888888888888,
              "#fdca26"
             ],
             [
              1,
              "#f0f921"
             ]
            ],
            "type": "contour"
           }
          ],
          "contourcarpet": [
           {
            "colorbar": {
             "outlinewidth": 0,
             "ticks": ""
            },
            "type": "contourcarpet"
           }
          ],
          "heatmap": [
           {
            "colorbar": {
             "outlinewidth": 0,
             "ticks": ""
            },
            "colorscale": [
             [
              0,
              "#0d0887"
             ],
             [
              0.1111111111111111,
              "#46039f"
             ],
             [
              0.2222222222222222,
              "#7201a8"
             ],
             [
              0.3333333333333333,
              "#9c179e"
             ],
             [
              0.4444444444444444,
              "#bd3786"
             ],
             [
              0.5555555555555556,
              "#d8576b"
             ],
             [
              0.6666666666666666,
              "#ed7953"
             ],
             [
              0.7777777777777778,
              "#fb9f3a"
             ],
             [
              0.8888888888888888,
              "#fdca26"
             ],
             [
              1,
              "#f0f921"
             ]
            ],
            "type": "heatmap"
           }
          ],
          "heatmapgl": [
           {
            "colorbar": {
             "outlinewidth": 0,
             "ticks": ""
            },
            "colorscale": [
             [
              0,
              "#0d0887"
             ],
             [
              0.1111111111111111,
              "#46039f"
             ],
             [
              0.2222222222222222,
              "#7201a8"
             ],
             [
              0.3333333333333333,
              "#9c179e"
             ],
             [
              0.4444444444444444,
              "#bd3786"
             ],
             [
              0.5555555555555556,
              "#d8576b"
             ],
             [
              0.6666666666666666,
              "#ed7953"
             ],
             [
              0.7777777777777778,
              "#fb9f3a"
             ],
             [
              0.8888888888888888,
              "#fdca26"
             ],
             [
              1,
              "#f0f921"
             ]
            ],
            "type": "heatmapgl"
           }
          ],
          "histogram": [
           {
            "marker": {
             "pattern": {
              "fillmode": "overlay",
              "size": 10,
              "solidity": 0.2
             }
            },
            "type": "histogram"
           }
          ],
          "histogram2d": [
           {
            "colorbar": {
             "outlinewidth": 0,
             "ticks": ""
            },
            "colorscale": [
             [
              0,
              "#0d0887"
             ],
             [
              0.1111111111111111,
              "#46039f"
             ],
             [
              0.2222222222222222,
              "#7201a8"
             ],
             [
              0.3333333333333333,
              "#9c179e"
             ],
             [
              0.4444444444444444,
              "#bd3786"
             ],
             [
              0.5555555555555556,
              "#d8576b"
             ],
             [
              0.6666666666666666,
              "#ed7953"
             ],
             [
              0.7777777777777778,
              "#fb9f3a"
             ],
             [
              0.8888888888888888,
              "#fdca26"
             ],
             [
              1,
              "#f0f921"
             ]
            ],
            "type": "histogram2d"
           }
          ],
          "histogram2dcontour": [
           {
            "colorbar": {
             "outlinewidth": 0,
             "ticks": ""
            },
            "colorscale": [
             [
              0,
              "#0d0887"
             ],
             [
              0.1111111111111111,
              "#46039f"
             ],
             [
              0.2222222222222222,
              "#7201a8"
             ],
             [
              0.3333333333333333,
              "#9c179e"
             ],
             [
              0.4444444444444444,
              "#bd3786"
             ],
             [
              0.5555555555555556,
              "#d8576b"
             ],
             [
              0.6666666666666666,
              "#ed7953"
             ],
             [
              0.7777777777777778,
              "#fb9f3a"
             ],
             [
              0.8888888888888888,
              "#fdca26"
             ],
             [
              1,
              "#f0f921"
             ]
            ],
            "type": "histogram2dcontour"
           }
          ],
          "mesh3d": [
           {
            "colorbar": {
             "outlinewidth": 0,
             "ticks": ""
            },
            "type": "mesh3d"
           }
          ],
          "parcoords": [
           {
            "line": {
             "colorbar": {
              "outlinewidth": 0,
              "ticks": ""
             }
            },
            "type": "parcoords"
           }
          ],
          "pie": [
           {
            "automargin": true,
            "type": "pie"
           }
          ],
          "scatter": [
           {
            "fillpattern": {
             "fillmode": "overlay",
             "size": 10,
             "solidity": 0.2
            },
            "type": "scatter"
           }
          ],
          "scatter3d": [
           {
            "line": {
             "colorbar": {
              "outlinewidth": 0,
              "ticks": ""
             }
            },
            "marker": {
             "colorbar": {
              "outlinewidth": 0,
              "ticks": ""
             }
            },
            "type": "scatter3d"
           }
          ],
          "scattercarpet": [
           {
            "marker": {
             "colorbar": {
              "outlinewidth": 0,
              "ticks": ""
             }
            },
            "type": "scattercarpet"
           }
          ],
          "scattergeo": [
           {
            "marker": {
             "colorbar": {
              "outlinewidth": 0,
              "ticks": ""
             }
            },
            "type": "scattergeo"
           }
          ],
          "scattergl": [
           {
            "marker": {
             "colorbar": {
              "outlinewidth": 0,
              "ticks": ""
             }
            },
            "type": "scattergl"
           }
          ],
          "scattermapbox": [
           {
            "marker": {
             "colorbar": {
              "outlinewidth": 0,
              "ticks": ""
             }
            },
            "type": "scattermapbox"
           }
          ],
          "scatterpolar": [
           {
            "marker": {
             "colorbar": {
              "outlinewidth": 0,
              "ticks": ""
             }
            },
            "type": "scatterpolar"
           }
          ],
          "scatterpolargl": [
           {
            "marker": {
             "colorbar": {
              "outlinewidth": 0,
              "ticks": ""
             }
            },
            "type": "scatterpolargl"
           }
          ],
          "scatterternary": [
           {
            "marker": {
             "colorbar": {
              "outlinewidth": 0,
              "ticks": ""
             }
            },
            "type": "scatterternary"
           }
          ],
          "surface": [
           {
            "colorbar": {
             "outlinewidth": 0,
             "ticks": ""
            },
            "colorscale": [
             [
              0,
              "#0d0887"
             ],
             [
              0.1111111111111111,
              "#46039f"
             ],
             [
              0.2222222222222222,
              "#7201a8"
             ],
             [
              0.3333333333333333,
              "#9c179e"
             ],
             [
              0.4444444444444444,
              "#bd3786"
             ],
             [
              0.5555555555555556,
              "#d8576b"
             ],
             [
              0.6666666666666666,
              "#ed7953"
             ],
             [
              0.7777777777777778,
              "#fb9f3a"
             ],
             [
              0.8888888888888888,
              "#fdca26"
             ],
             [
              1,
              "#f0f921"
             ]
            ],
            "type": "surface"
           }
          ],
          "table": [
           {
            "cells": {
             "fill": {
              "color": "#EBF0F8"
             },
             "line": {
              "color": "white"
             }
            },
            "header": {
             "fill": {
              "color": "#C8D4E3"
             },
             "line": {
              "color": "white"
             }
            },
            "type": "table"
           }
          ]
         },
         "layout": {
          "annotationdefaults": {
           "arrowcolor": "#2a3f5f",
           "arrowhead": 0,
           "arrowwidth": 1
          },
          "autotypenumbers": "strict",
          "coloraxis": {
           "colorbar": {
            "outlinewidth": 0,
            "ticks": ""
           }
          },
          "colorscale": {
           "diverging": [
            [
             0,
             "#8e0152"
            ],
            [
             0.1,
             "#c51b7d"
            ],
            [
             0.2,
             "#de77ae"
            ],
            [
             0.3,
             "#f1b6da"
            ],
            [
             0.4,
             "#fde0ef"
            ],
            [
             0.5,
             "#f7f7f7"
            ],
            [
             0.6,
             "#e6f5d0"
            ],
            [
             0.7,
             "#b8e186"
            ],
            [
             0.8,
             "#7fbc41"
            ],
            [
             0.9,
             "#4d9221"
            ],
            [
             1,
             "#276419"
            ]
           ],
           "sequential": [
            [
             0,
             "#0d0887"
            ],
            [
             0.1111111111111111,
             "#46039f"
            ],
            [
             0.2222222222222222,
             "#7201a8"
            ],
            [
             0.3333333333333333,
             "#9c179e"
            ],
            [
             0.4444444444444444,
             "#bd3786"
            ],
            [
             0.5555555555555556,
             "#d8576b"
            ],
            [
             0.6666666666666666,
             "#ed7953"
            ],
            [
             0.7777777777777778,
             "#fb9f3a"
            ],
            [
             0.8888888888888888,
             "#fdca26"
            ],
            [
             1,
             "#f0f921"
            ]
           ],
           "sequentialminus": [
            [
             0,
             "#0d0887"
            ],
            [
             0.1111111111111111,
             "#46039f"
            ],
            [
             0.2222222222222222,
             "#7201a8"
            ],
            [
             0.3333333333333333,
             "#9c179e"
            ],
            [
             0.4444444444444444,
             "#bd3786"
            ],
            [
             0.5555555555555556,
             "#d8576b"
            ],
            [
             0.6666666666666666,
             "#ed7953"
            ],
            [
             0.7777777777777778,
             "#fb9f3a"
            ],
            [
             0.8888888888888888,
             "#fdca26"
            ],
            [
             1,
             "#f0f921"
            ]
           ]
          },
          "colorway": [
           "#636efa",
           "#EF553B",
           "#00cc96",
           "#ab63fa",
           "#FFA15A",
           "#19d3f3",
           "#FF6692",
           "#B6E880",
           "#FF97FF",
           "#FECB52"
          ],
          "font": {
           "color": "#2a3f5f"
          },
          "geo": {
           "bgcolor": "white",
           "lakecolor": "white",
           "landcolor": "#E5ECF6",
           "showlakes": true,
           "showland": true,
           "subunitcolor": "white"
          },
          "hoverlabel": {
           "align": "left"
          },
          "hovermode": "closest",
          "mapbox": {
           "style": "light"
          },
          "paper_bgcolor": "white",
          "plot_bgcolor": "#E5ECF6",
          "polar": {
           "angularaxis": {
            "gridcolor": "white",
            "linecolor": "white",
            "ticks": ""
           },
           "bgcolor": "#E5ECF6",
           "radialaxis": {
            "gridcolor": "white",
            "linecolor": "white",
            "ticks": ""
           }
          },
          "scene": {
           "xaxis": {
            "backgroundcolor": "#E5ECF6",
            "gridcolor": "white",
            "gridwidth": 2,
            "linecolor": "white",
            "showbackground": true,
            "ticks": "",
            "zerolinecolor": "white"
           },
           "yaxis": {
            "backgroundcolor": "#E5ECF6",
            "gridcolor": "white",
            "gridwidth": 2,
            "linecolor": "white",
            "showbackground": true,
            "ticks": "",
            "zerolinecolor": "white"
           },
           "zaxis": {
            "backgroundcolor": "#E5ECF6",
            "gridcolor": "white",
            "gridwidth": 2,
            "linecolor": "white",
            "showbackground": true,
            "ticks": "",
            "zerolinecolor": "white"
           }
          },
          "shapedefaults": {
           "line": {
            "color": "#2a3f5f"
           }
          },
          "ternary": {
           "aaxis": {
            "gridcolor": "white",
            "linecolor": "white",
            "ticks": ""
           },
           "baxis": {
            "gridcolor": "white",
            "linecolor": "white",
            "ticks": ""
           },
           "bgcolor": "#E5ECF6",
           "caxis": {
            "gridcolor": "white",
            "linecolor": "white",
            "ticks": ""
           }
          },
          "title": {
           "x": 0.05
          },
          "xaxis": {
           "automargin": true,
           "gridcolor": "white",
           "linecolor": "white",
           "ticks": "",
           "title": {
            "standoff": 15
           },
           "zerolinecolor": "white",
           "zerolinewidth": 2
          },
          "yaxis": {
           "automargin": true,
           "gridcolor": "white",
           "linecolor": "white",
           "ticks": "",
           "title": {
            "standoff": 15
           },
           "zerolinecolor": "white",
           "zerolinewidth": 2
          }
         }
        },
        "title": {
         "text": "ManufacturingProcess Grouped by Keyword Combinations"
        }
       }
      }
     },
     "metadata": {},
     "output_type": "display_data"
    }
   ],
   "source": [
    "import pandas as pd\n",
    "import plotly.graph_objects as go\n",
    "\n",
    "\n",
    "query = \"\"\"\n",
    "MATCH (ir:ManufacturingProcess)\n",
    "RETURN ir.Step AS ManufacturingProcessstep, ir.Description AS ManufacturingProcessdes\n",
    "\"\"\"\n",
    "\n",
    "with driver.session() as session:\n",
    "    result = session.run(query)\n",
    "    neo4j_data = [record.data() for record in result]\n",
    "\n",
    "\n",
    "df = pd.DataFrame(neo4j_data)\n",
    "\n",
    "\n",
    "product_col = df.columns[df.columns.str.contains('ManufacturingProcessstep', case=False)][0]\n",
    "desc_col = df.columns[df.columns.str.contains('ManufacturingProcessdes', case=False)][0]\n",
    "df.rename(columns={product_col: 'Step', desc_col: 'Description'}, inplace=True)\n",
    "\n",
    "\n",
    "keyword_groups = [['and', 'water'], ['water', 'sugar']]\n",
    "\n",
    "\n",
    "grouped = df.groupby(df['Description'].apply(lambda x: ', '.join(sorted([' '.join(group) for group in keyword_groups if any(kw.lower() in str(x).lower() for kw in group)])) if pd.notnull(x) else ''))\n",
    "\n",
    "\n",
    "fig_data = []\n",
    "for group_name, group in grouped:\n",
    "    group_trace = go.Table(\n",
    "        header=dict(values=['Group', 'Step', 'Description']),\n",
    "        cells=dict(values=[group_name, group['Step'], group['Description']])\n",
    "    )\n",
    "    fig_data.append(group_trace)\n",
    "\n",
    "\n",
    "fig_layout = go.Layout(\n",
    "    title='ManufacturingProcess Grouped by Keyword Combinations',\n",
    "    height=800\n",
    ")\n",
    "\n",
    "\n",
    "fig = go.Figure(data=fig_data, layout=fig_layout)\n",
    "\n",
    "\n",
    "fig.show()"
   ]
  },
  {
   "cell_type": "code",
   "execution_count": 3,
   "metadata": {},
   "outputs": [
    {
     "data": {
      "application/vnd.plotly.v1+json": {
       "config": {
        "plotlyServerURL": "https://plot.ly"
       },
       "data": [
        {
         "cells": {
          "values": [
           "",
           [
            582,
            583,
            584,
            585,
            587,
            588,
            590,
            593,
            594,
            595,
            596,
            597,
            598,
            599,
            600,
            601,
            602,
            603,
            604,
            605,
            606,
            607,
            608,
            609,
            610,
            611,
            612,
            613,
            614,
            615,
            616,
            617,
            618,
            619,
            620,
            621,
            623,
            624,
            625,
            626,
            627,
            628,
            629,
            631,
            632,
            633,
            634,
            636,
            637,
            638,
            639,
            640,
            641,
            642,
            643,
            644,
            645,
            646,
            647,
            648,
            649,
            650,
            651,
            652,
            655,
            656,
            657,
            658,
            660,
            661,
            662,
            663,
            664,
            666,
            667,
            668,
            669,
            670,
            671,
            672,
            673,
            674,
            675,
            676,
            677,
            678,
            679,
            680,
            681,
            682,
            683,
            684,
            685,
            686,
            687,
            688,
            689,
            690,
            691,
            692,
            695,
            696,
            697,
            698,
            699,
            700,
            701,
            702,
            703,
            704,
            705,
            707,
            708,
            709,
            710,
            711,
            712,
            714,
            715,
            716,
            717,
            718,
            719,
            720,
            722,
            723,
            724,
            725,
            727,
            728,
            729,
            730,
            731,
            732,
            733,
            734,
            735,
            2155,
            2159,
            2163,
            2166,
            2169,
            2172,
            2175,
            2178,
            2182,
            2185,
            2192,
            2199,
            2204,
            2208,
            2212,
            2215,
            2218,
            2222,
            2227,
            2232,
            2235,
            2239,
            2246,
            2253,
            2259,
            2262,
            2265,
            2269,
            2272,
            2282,
            2286,
            2290,
            2295,
            2300,
            2304,
            2310,
            2315,
            2319,
            2324,
            2329,
            2335,
            2338,
            2341,
            2344,
            2349,
            2352,
            2356,
            2359,
            2363,
            2366,
            2369,
            2373,
            2379,
            2384,
            2389,
            2394,
            2399,
            2405,
            2411,
            2415,
            2421,
            2428,
            2433,
            2439,
            2446,
            2451,
            2458,
            2461,
            2469,
            2476,
            2479,
            2483,
            2489,
            2494,
            2499,
            2503,
            2506,
            2509,
            2514,
            2517,
            2520,
            2523,
            2527,
            2533,
            2537,
            2543,
            2546,
            2550,
            2556,
            2559,
            2565,
            2570,
            2576,
            2581,
            2586,
            2590,
            2593,
            2597,
            2604,
            2609,
            2612,
            2617,
            2622,
            2625,
            2630,
            2635,
            2642,
            2646,
            2652,
            2657,
            2663,
            2670,
            2673,
            2677,
            2684,
            2695,
            2700,
            2706,
            2711,
            2719,
            2724,
            2729,
            2734,
            2739,
            2745,
            2750,
            2754,
            2759,
            2763,
            2769,
            2774,
            2780,
            2785,
            2793,
            2796,
            2802,
            2805,
            2809,
            2813,
            2818,
            2821,
            2825,
            2828,
            2848,
            2851,
            2856,
            2861,
            2866,
            2875,
            2880,
            2883,
            2887,
            2891,
            2897,
            2901,
            2908,
            2912,
            2919,
            2922,
            2925,
            2928,
            2931,
            2937,
            2943,
            2950,
            2953,
            2959,
            2962,
            2966,
            2969,
            2976,
            2981,
            2987,
            2991,
            2998,
            3001,
            3006,
            3009,
            3016,
            3025,
            3028,
            3033,
            3036,
            3039,
            3042,
            3044,
            3047,
            3050,
            3054,
            3060,
            3065,
            3075,
            3080,
            3085,
            3090,
            3108,
            3113,
            3118,
            3123,
            3127,
            3131,
            3139,
            3145,
            3150,
            3156,
            3163,
            3167,
            3172,
            3177,
            3180,
            3183,
            3187,
            3196,
            3202,
            3210,
            3215,
            3221,
            3227,
            3231,
            3246,
            3252,
            3259,
            3265,
            3271,
            3279,
            3282,
            3284,
            3289,
            3295,
            3307,
            3311,
            3317,
            3322,
            3329,
            3337,
            3346,
            3353,
            3356,
            3368,
            3371,
            3374,
            3378,
            3382,
            3387,
            3392,
            3396,
            3401,
            3406,
            3410,
            3417,
            3424,
            3429,
            3434,
            3437,
            3443,
            3450,
            3455,
            3459,
            3464,
            3471,
            3478,
            3485,
            3492,
            3497,
            3504,
            3518,
            3522,
            3528,
            3534,
            3539,
            3547,
            3551,
            3559,
            3562,
            3565,
            3574,
            3579,
            3582,
            3585,
            3590,
            3603,
            3618,
            3621,
            3626,
            3636,
            3643,
            3650,
            3667,
            10819,
            10820,
            10823,
            10824,
            10827,
            10828,
            10832,
            10834,
            10837,
            10839,
            10840,
            10844,
            10847,
            10850,
            10851,
            10853,
            10856,
            10857,
            10860,
            10864,
            10866,
            10867,
            10870,
            10875,
            10878,
            10879,
            10882,
            10885,
            10887,
            10888,
            10891,
            10892,
            10895,
            10897,
            10898,
            10901,
            10902,
            10905,
            10906,
            10909,
            10911,
            10913,
            10915,
            10916,
            10921,
            10923,
            10926,
            10929,
            10932,
            10936,
            10937,
            10940,
            10943,
            10945,
            10948,
            10949,
            10952,
            10953,
            10956,
            10957,
            10960,
            10961,
            10963,
            10971,
            10975,
            10981,
            10982,
            10988,
            10989,
            10996,
            10997,
            11001,
            11004,
            11005,
            11008,
            11009,
            11013,
            11014,
            11018,
            11019,
            11022,
            11023,
            11026,
            11027,
            11029,
            11032,
            11035,
            11036,
            11040,
            11041,
            11044,
            11045,
            11048,
            11049,
            11052,
            11053,
            11056,
            11060,
            11061,
            11064,
            11065,
            11068,
            11071,
            11072,
            11074,
            11075,
            11078,
            11079,
            11083,
            11084,
            11088,
            11090,
            11092,
            11095,
            11096,
            11099,
            11100,
            11103,
            11104,
            11107,
            11111,
            11113,
            11116,
            11118,
            11119,
            11123,
            11124,
            11127,
            11128,
            11131,
            11133,
            11135,
            11136,
            11139,
            11140,
            11144,
            11151,
            11152,
            11154,
            11158,
            11162,
            11165,
            11166,
            11170,
            11174,
            11175,
            11180,
            11181,
            11184,
            11185,
            11188,
            11190,
            11192,
            11195,
            11197,
            11198,
            11201,
            11204,
            11205,
            11208,
            11209,
            11211,
            11214,
            11215,
            11218,
            11220,
            11221,
            11224,
            11227,
            11228,
            11232,
            11234,
            11235,
            11237,
            11240,
            11241,
            11244,
            11247,
            11249,
            11252,
            11254,
            11255,
            11258,
            11259,
            11260,
            11262,
            11263,
            11267,
            11268,
            11272,
            11274,
            11277,
            11280,
            11282,
            11283,
            11285,
            11288,
            11290,
            11291,
            11295,
            11296,
            11299,
            11300,
            11303,
            11304,
            11309,
            11312,
            11313,
            11316,
            11317,
            11318,
            11321,
            11323,
            11324,
            11327,
            11328,
            11332,
            11335,
            11336,
            11339,
            11340,
            11343,
            11344,
            11347,
            11348,
            11351,
            11354,
            11355,
            11358,
            11362,
            11366,
            11370,
            11372,
            11376,
            11378,
            11379,
            11382,
            11383,
            11386,
            11387,
            11391,
            11396,
            11399,
            11401,
            11404,
            11405,
            11407,
            11408,
            11411,
            11414,
            11415,
            11417,
            11420,
            11425,
            11428,
            11429,
            11434,
            11440,
            11442,
            11447,
            11450,
            11452,
            11453,
            11456,
            11457,
            11460,
            11461,
            11464,
            11466,
            11467,
            11469,
            11472,
            11473,
            11474,
            11476,
            11478,
            11481,
            11483,
            11484,
            11489,
            11493,
            11496,
            11500,
            11502,
            11503,
            11506,
            11507,
            11510,
            11511,
            11514,
            11515,
            11517,
            11520,
            11522,
            11525,
            11528,
            11530,
            11531,
            11534,
            11540,
            11541,
            11544,
            11545,
            11548,
            11550,
            11551,
            11555,
            11557,
            11559,
            11560,
            11563,
            11565,
            11567,
            11570,
            11571,
            11574,
            11575,
            11578,
            11581,
            11584,
            11585,
            11588,
            11589,
            11592,
            11593,
            11600,
            11601,
            11603,
            11607,
            11608,
            11611,
            11614,
            11615,
            11618,
            11619,
            11622,
            11623,
            11627,
            11630,
            11631,
            11634,
            11635,
            11636,
            11637,
            11640,
            11642,
            11646,
            11648,
            11649,
            11653,
            11656,
            11659,
            11660,
            11663,
            11664,
            11667,
            11668,
            11673,
            11676,
            11677,
            11679,
            11683,
            11686,
            11688,
            11691,
            11692,
            11697,
            11698,
            11701,
            11703,
            11705,
            11707,
            11708,
            11710,
            11711,
            11715,
            11717,
            11718,
            11721,
            11722,
            11725,
            11726,
            11729,
            11730,
            11733,
            11734,
            11737,
            11739,
            11740,
            11744,
            11745,
            11749,
            11750,
            11754,
            11755,
            11758,
            11759,
            11761,
            11765,
            11766,
            11771,
            11772,
            11775,
            11778,
            11779,
            11782,
            11784,
            11789,
            11790,
            11794,
            11795,
            11798,
            11799,
            11803,
            11804,
            11808,
            11809,
            11812,
            11813,
            11816,
            11818,
            11820,
            11823,
            11824,
            11827,
            11828,
            11831,
            11832,
            11835,
            11836,
            11840,
            11844,
            11845,
            11848,
            11853,
            11856,
            11857,
            11860,
            11861,
            11864,
            11865,
            11868,
            11872,
            11875,
            11876,
            11882,
            11883,
            11886,
            11887,
            11889,
            11892,
            11893,
            11897,
            11898,
            11901,
            11903,
            11904,
            11907,
            11911,
            11912,
            11915,
            11916,
            11919
           ],
           [
            null,
            null,
            null,
            null,
            "Step 2: The dough is rolled out and cut into noodles.",
            "Step 3: The noodles are fried in refined palm oil.",
            "Step 5: The seasoning oil is made by mixing refined palm oil and onion.",
            "Step 8: The fried onion is made by frying onion in refined palm oil.",
            null,
            null,
            null,
            null,
            null,
            null,
            null,
            null,
            null,
            null,
            null,
            null,
            null,
            null,
            null,
            null,
            null,
            null,
            null,
            null,
            null,
            null,
            null,
            null,
            null,
            null,
            null,
            null,
            "2. The dough is then shaped into small, round cookies and baked until crispy.",
            "3. For the strawberry flavor, food acid and color are added to the dough before baking.",
            "4. After baking, the cookies are cooled and filled with a sweet cream filling.",
            "5. The cookies are then packaged into bags of 18 packs.",
            null,
            null,
            null,
            "Adding and mixing wet ingredients, such as vegetable oil, fructose syrup, and emulsifiers.",
            "Forming the dough and allowing it to rest.",
            "Sheeting and cutting the dough into round wafers.",
            "Baking the wafers at controlled temperatures.",
            "Piping or spreading the creme filling onto one wafer.",
            "Assembling the sandwich cookies by topping the creme-filled wafer with a second wafer.",
            "Cooling and packaging the cookies for distribution.",
            null,
            null,
            "1. Apples and mangoes are harvested and processed to extract juice",
            "2. The juices are reconstituted to specific concentrations (95.8% apple juice, 4.0% mango juice)",
            "3. Citric acid is added to regulate acidity",
            "4. Vitamin C is added for fortification",
            "5. Natural flavours are introduced to enhance taste",
            "6. The mixture is pasteurized to ensure safety and stability",
            "7. The juice is packaged in aseptic containers for distribution",
            null,
            null,
            null,
            null,
            "Step 1: The fruit juices are extracted from pear, apple, pineapple, and passionfruit",
            "Step 4: The mixture is pasteurized to kill any bacteria and extend shelf life",
            "Step 5: The beverage is packaged in aseptic containers to maintain freshness",
            null,
            "Step 1: Extracting fruit juices and purées from apples, pears, pineapples, oranges, peaches, and passionfruits.",
            "Step 3: Homogenizing the mixture to ensure a consistent texture and even distribution of ingredients.",
            "Step 4: Pasteurizing the mixture to kill any microorganisms and ensure a stable shelf life.",
            "Step 5: Filling the drink into containers, sealing, and cooling for storage and distribution.",
            "Step 1: Extraction of fruit juices from pear, apple, pineapple, orange, peach, and passionfruit",
            "Step 2: Blending of the fruit juices to create the tropical punch flavor",
            "Step 4: Incorporation of natural flavors to enhance the fruit taste",
            "Step 5: Homogenization and pasteurization of the mixture to ensure safety and consistency",
            "Step 6: Filling and sealing of the individual containers",
            "Step 7: Packing the individual containers into multipacks",
            null,
            null,
            null,
            null,
            null,
            null,
            null,
            null,
            null,
            null,
            null,
            null,
            null,
            null,
            null,
            null,
            null,
            null,
            null,
            null,
            null,
            null,
            null,
            "Step 3: The mixture is heated to a specific temperature to ensure proper mixing and emulsification.",
            "Step 4: The mixture is cooled and bottled for distribution.",
            null,
            null,
            null,
            null,
            null,
            null,
            "Potatoes are washed, peeled, and sliced into crinkle-cut shapes.",
            "The sliced potatoes are blanched in a mixture of canola and sunflower oils.",
            "The blanched potatoes are then fried in the same oil mixture until they are golden brown and crispy.",
            "The seasoned chips are then cooled and packaged for distribution.",
            null,
            null,
            "Step 1: Potatoes are washed, peeled, and thinly sliced",
            "Step 2: The sliced potatoes are blanched to remove excess starch",
            "Step 3: The potatoes are then fried in a blend of canola and sunflower oils",
            "Step 5: The chips are packaged in a share pack for consumption",
            null,
            null,
            null,
            null,
            "Step 1: Fruits (peach and pear) are sorted, washed, and prepared for processing",
            "Step 2: The fruits are chopped and blended to form a puree",
            "Step 4: The mixture is homogenized to ensure even distribution of fruit chunks and juice",
            "Step 5: The product is filled into cups, sealed, and pasteurized for preservation",
            "Step 6: The cups are labeled, packaged, and prepared for distribution",
            null,
            "Step 2: Addition of Natural Flavours and Colours - Once the jelly base is prepared, natural flavours and colours are added to give it a tropical flavour and vibrant colour.",
            "Step 3: Acidification - Acidity regulators are added to balance the pH and enhance the flavour of the jelly.",
            "Step 4: Fruit Preparation - Peach and pear pieces are prepared and added to the jelly mixture.",
            "Step 5: Filling and Setting - The mixture is filled into containers and allowed to set in a cool environment.",
            null,
            null,
            null,
            null,
            null,
            null,
            null,
            null,
            null,
            null,
            null,
            null,
            null,
            null,
            null,
            null,
            null,
            null,
            null,
            null,
            null,
            null,
            null,
            null,
            null,
            null,
            null,
            null,
            null,
            null,
            null,
            null,
            null,
            null,
            null,
            null,
            null,
            null,
            null,
            null,
            null,
            null,
            null,
            null,
            null,
            null,
            null,
            null,
            null,
            null,
            null,
            null,
            null,
            null,
            null,
            null,
            null,
            null,
            null,
            null,
            null,
            null,
            null,
            null,
            null,
            null,
            null,
            null,
            null,
            null,
            null,
            null,
            null,
            null,
            null,
            null,
            null,
            null,
            null,
            null,
            null,
            null,
            null,
            null,
            null,
            null,
            null,
            null,
            null,
            null,
            null,
            null,
            null,
            null,
            null,
            null,
            null,
            null,
            null,
            null,
            null,
            null,
            null,
            null,
            null,
            null,
            null,
            null,
            null,
            null,
            null,
            null,
            null,
            null,
            null,
            null,
            null,
            null,
            null,
            null,
            null,
            null,
            null,
            null,
            null,
            null,
            null,
            null,
            null,
            null,
            null,
            null,
            null,
            null,
            null,
            null,
            null,
            null,
            null,
            null,
            null,
            null,
            null,
            null,
            null,
            null,
            null,
            null,
            null,
            null,
            null,
            null,
            null,
            null,
            null,
            null,
            null,
            null,
            null,
            null,
            null,
            null,
            null,
            null,
            null,
            null,
            null,
            null,
            null,
            null,
            null,
            null,
            null,
            null,
            null,
            null,
            null,
            null,
            null,
            null,
            null,
            null,
            null,
            null,
            null,
            null,
            null,
            null,
            null,
            null,
            null,
            null,
            null,
            null,
            null,
            null,
            null,
            null,
            null,
            null,
            null,
            null,
            null,
            null,
            null,
            null,
            null,
            null,
            null,
            null,
            null,
            null,
            null,
            null,
            null,
            null,
            null,
            null,
            null,
            null,
            null,
            null,
            null,
            null,
            null,
            null,
            null,
            null,
            null,
            null,
            null,
            null,
            null,
            null,
            null,
            null,
            null,
            null,
            null,
            null,
            null,
            null,
            null,
            null,
            null,
            null,
            null,
            null,
            null,
            null,
            null,
            null,
            null,
            null,
            null,
            null,
            null,
            null,
            null,
            null,
            null,
            null,
            null,
            null,
            null,
            null,
            null,
            null,
            null,
            null,
            null,
            null,
            null,
            null,
            null,
            null,
            null,
            null,
            null,
            null,
            null,
            null,
            null,
            null,
            null,
            null,
            null,
            null,
            null,
            null,
            null,
            null,
            null,
            null,
            null,
            null,
            null,
            null,
            null,
            null,
            null,
            null,
            null,
            null,
            null,
            null,
            null,
            null,
            null,
            null,
            null,
            null,
            null,
            null,
            null,
            null,
            null,
            null,
            null,
            null,
            null,
            null,
            null,
            null,
            null,
            null,
            null,
            null,
            null,
            null,
            null,
            null,
            null,
            null,
            null,
            null,
            null,
            null,
            null,
            null,
            null,
            null,
            null,
            null,
            null,
            null,
            null,
            null,
            null,
            null,
            null,
            null,
            null,
            null,
            null,
            null,
            null,
            null,
            null,
            null,
            null,
            null,
            null,
            null,
            null,
            null,
            null,
            null,
            null,
            null,
            null,
            null,
            null,
            null,
            null,
            null,
            null,
            null,
            null,
            null,
            null,
            null,
            null,
            null,
            null,
            null,
            null,
            null,
            null,
            null,
            null,
            null,
            null,
            null,
            null,
            null,
            null,
            null,
            null,
            null,
            null,
            null,
            null,
            null,
            null,
            null,
            null,
            null,
            null,
            null,
            null,
            null,
            null,
            null,
            null,
            null,
            null,
            null,
            null,
            null,
            null,
            null,
            null,
            null,
            null,
            null,
            null,
            null,
            null,
            null,
            null,
            null,
            null,
            null,
            null,
            null,
            null,
            null,
            null,
            null,
            null,
            null,
            null,
            null,
            null,
            null,
            null,
            null,
            null,
            null,
            null,
            null,
            null,
            null,
            null,
            null,
            null,
            null,
            null,
            null,
            null,
            null,
            null,
            null,
            null,
            null,
            null,
            null,
            null,
            null,
            null,
            null,
            null,
            null,
            null,
            null,
            null,
            null,
            null,
            null,
            null,
            null,
            null,
            null,
            null,
            null,
            null,
            null,
            null,
            null,
            null,
            null,
            null,
            null,
            null,
            null,
            null,
            null,
            null,
            null,
            null,
            null,
            null,
            null,
            null,
            null,
            null,
            null,
            null,
            null,
            null,
            null,
            null,
            null,
            null,
            null,
            null,
            null,
            null,
            null,
            null,
            null,
            null,
            null,
            null,
            null,
            null,
            null,
            null,
            null,
            null,
            null,
            null,
            null,
            null,
            null,
            null,
            null,
            null,
            null,
            null,
            null,
            null,
            null,
            null,
            null,
            null,
            null,
            null,
            null,
            null,
            null,
            null,
            null,
            null,
            null,
            null,
            null,
            null,
            null,
            null,
            null,
            null,
            null,
            null,
            null,
            null,
            null,
            null,
            null,
            null,
            null,
            null,
            null,
            null,
            null,
            null,
            null,
            null,
            null,
            null,
            null,
            null,
            null,
            null,
            null,
            null,
            null,
            null,
            null,
            null,
            null,
            null,
            null,
            null,
            null,
            null,
            null,
            null,
            null,
            null,
            null,
            null,
            null,
            null,
            null,
            null,
            null,
            null,
            null,
            null,
            null,
            null,
            null,
            null,
            null,
            null,
            null,
            null,
            null,
            null,
            null,
            null,
            null,
            null,
            null,
            null,
            null,
            null,
            null,
            null,
            null,
            null,
            null,
            null,
            null,
            null,
            null,
            null,
            null,
            null,
            null,
            null,
            null,
            null,
            null,
            null,
            null,
            null,
            null,
            null,
            null,
            null,
            null,
            null,
            null,
            null,
            null,
            null,
            null,
            null,
            null,
            null,
            null,
            null,
            null,
            null,
            null,
            null,
            null,
            null,
            null,
            null,
            null,
            null,
            null,
            null,
            null,
            null,
            null,
            null,
            null,
            null,
            null,
            null,
            null,
            null,
            null,
            null,
            null,
            null,
            null,
            null,
            null,
            null,
            null,
            null,
            null,
            null,
            null,
            null,
            null,
            null,
            null,
            null,
            null,
            null,
            null,
            null,
            null,
            null,
            null,
            null,
            null,
            null,
            null,
            null,
            null,
            null,
            null,
            null,
            null,
            null,
            null,
            null,
            null,
            null,
            null,
            null,
            null,
            null,
            null,
            null,
            null,
            null,
            null,
            null,
            null,
            null,
            null,
            null,
            null,
            null,
            null,
            null,
            null,
            null,
            null,
            null,
            null,
            null,
            null,
            null,
            null,
            null,
            null
           ]
          ]
         },
         "header": {
          "values": [
           "Group",
           "Id",
           "Description"
          ]
         },
         "type": "table"
        },
        {
         "cells": {
          "values": [
           "salt animal",
           [
            694,
            713
           ],
           [
            "Step 2: Thickeners, egg yolk, gherkins, salt, onion powder, natural colors, preservatives, dill, acidity regulators, and herb extracts are added to the mixture.",
            "Step 4: After frying, the chips are seasoned with salt and a mix of antioxidants"
           ]
          ]
         },
         "header": {
          "values": [
           "Group",
           "Id",
           "Description"
          ]
         },
         "type": "table"
        },
        {
         "cells": {
          "values": [
           "salt animal, water sugar",
           [
            589,
            591,
            592,
            622,
            706
           ],
           [
            "Step 4: The seasoning powder is made by mixing salt, sugar, flavour enhancers, garlic powder, onion powder, yeast extract, artificial flavour, pepper, and anti caking agent.",
            "Step 6: The sweet soy sauce is made by mixing sugar, water, salt, wheat, soy bean, spices, and sesame oil.",
            "Step 7: The chilli sauce is made by mixing chilli, water, sugar, salt, tapioca starch, acidity regulators, herbs, flavour enhancers, flavours, and preservatives.",
            "1. The wheat flour, sugar, vegetable oil, cocoa powder, fructose syrup, cornstarch, salt, raising agents, emulsifier, flavor, antioxidant, minerals, and vitamins are mixed together to form the cookie dough.",
            "While the potatoes are still hot, they are seasoned with a mixture of sugar, maltodextrin, salt, tomato powder, flavor enhancers, food acids, onion powder, and garlic powder."
           ]
          ]
         },
         "header": {
          "values": [
           "Group",
           "Id",
           "Description"
          ]
         },
         "type": "table"
        },
        {
         "cells": {
          "values": [
           "water sugar",
           [
            586,
            630,
            635,
            653,
            654,
            659,
            665,
            693,
            721,
            726
           ],
           [
            "Step 1: The wheat flour is mixed with water to form a dough.",
            "Mixing and blending dry ingredients, including wheat flour, sugar, cocoa powder, and raising agents.",
            "Preparing the vanilla creme filling by blending sugar, cornstarch, and other ingredients.",
            "Step 2: The fruit juices are reconstituted with water",
            "Step 3: Sugar, food acids, and vitamin C are added to the mixture",
            "Step 2: Combining the fruit juices and purées with water, sugar, food acids, vitamin C, natural flavors, and pectin.",
            "Step 3: Addition of sugar and food acids (citric acid and potassium citrate) to enhance the flavor and preserve the product",
            "Step 1: Canola oil, water, sugar, and vinegar are mixed together in a large vat.",
            "Step 3: The fruit puree is mixed with reconstituted refined juice (made from concentrated pear juice, water, antioxidant (ascorbic acid), and acidity regulator (citric acid))",
            "Step 1: Preparation of Jelly - Water, sugar, and gelling agents are combined and heated to dissolve the sugar and activate the gelling agents."
           ]
          ]
         },
         "header": {
          "values": [
           "Group",
           "Id",
           "Description"
          ]
         },
         "type": "table"
        }
       ],
       "layout": {
        "height": 800,
        "template": {
         "data": {
          "bar": [
           {
            "error_x": {
             "color": "#2a3f5f"
            },
            "error_y": {
             "color": "#2a3f5f"
            },
            "marker": {
             "line": {
              "color": "#E5ECF6",
              "width": 0.5
             },
             "pattern": {
              "fillmode": "overlay",
              "size": 10,
              "solidity": 0.2
             }
            },
            "type": "bar"
           }
          ],
          "barpolar": [
           {
            "marker": {
             "line": {
              "color": "#E5ECF6",
              "width": 0.5
             },
             "pattern": {
              "fillmode": "overlay",
              "size": 10,
              "solidity": 0.2
             }
            },
            "type": "barpolar"
           }
          ],
          "carpet": [
           {
            "aaxis": {
             "endlinecolor": "#2a3f5f",
             "gridcolor": "white",
             "linecolor": "white",
             "minorgridcolor": "white",
             "startlinecolor": "#2a3f5f"
            },
            "baxis": {
             "endlinecolor": "#2a3f5f",
             "gridcolor": "white",
             "linecolor": "white",
             "minorgridcolor": "white",
             "startlinecolor": "#2a3f5f"
            },
            "type": "carpet"
           }
          ],
          "choropleth": [
           {
            "colorbar": {
             "outlinewidth": 0,
             "ticks": ""
            },
            "type": "choropleth"
           }
          ],
          "contour": [
           {
            "colorbar": {
             "outlinewidth": 0,
             "ticks": ""
            },
            "colorscale": [
             [
              0,
              "#0d0887"
             ],
             [
              0.1111111111111111,
              "#46039f"
             ],
             [
              0.2222222222222222,
              "#7201a8"
             ],
             [
              0.3333333333333333,
              "#9c179e"
             ],
             [
              0.4444444444444444,
              "#bd3786"
             ],
             [
              0.5555555555555556,
              "#d8576b"
             ],
             [
              0.6666666666666666,
              "#ed7953"
             ],
             [
              0.7777777777777778,
              "#fb9f3a"
             ],
             [
              0.8888888888888888,
              "#fdca26"
             ],
             [
              1,
              "#f0f921"
             ]
            ],
            "type": "contour"
           }
          ],
          "contourcarpet": [
           {
            "colorbar": {
             "outlinewidth": 0,
             "ticks": ""
            },
            "type": "contourcarpet"
           }
          ],
          "heatmap": [
           {
            "colorbar": {
             "outlinewidth": 0,
             "ticks": ""
            },
            "colorscale": [
             [
              0,
              "#0d0887"
             ],
             [
              0.1111111111111111,
              "#46039f"
             ],
             [
              0.2222222222222222,
              "#7201a8"
             ],
             [
              0.3333333333333333,
              "#9c179e"
             ],
             [
              0.4444444444444444,
              "#bd3786"
             ],
             [
              0.5555555555555556,
              "#d8576b"
             ],
             [
              0.6666666666666666,
              "#ed7953"
             ],
             [
              0.7777777777777778,
              "#fb9f3a"
             ],
             [
              0.8888888888888888,
              "#fdca26"
             ],
             [
              1,
              "#f0f921"
             ]
            ],
            "type": "heatmap"
           }
          ],
          "heatmapgl": [
           {
            "colorbar": {
             "outlinewidth": 0,
             "ticks": ""
            },
            "colorscale": [
             [
              0,
              "#0d0887"
             ],
             [
              0.1111111111111111,
              "#46039f"
             ],
             [
              0.2222222222222222,
              "#7201a8"
             ],
             [
              0.3333333333333333,
              "#9c179e"
             ],
             [
              0.4444444444444444,
              "#bd3786"
             ],
             [
              0.5555555555555556,
              "#d8576b"
             ],
             [
              0.6666666666666666,
              "#ed7953"
             ],
             [
              0.7777777777777778,
              "#fb9f3a"
             ],
             [
              0.8888888888888888,
              "#fdca26"
             ],
             [
              1,
              "#f0f921"
             ]
            ],
            "type": "heatmapgl"
           }
          ],
          "histogram": [
           {
            "marker": {
             "pattern": {
              "fillmode": "overlay",
              "size": 10,
              "solidity": 0.2
             }
            },
            "type": "histogram"
           }
          ],
          "histogram2d": [
           {
            "colorbar": {
             "outlinewidth": 0,
             "ticks": ""
            },
            "colorscale": [
             [
              0,
              "#0d0887"
             ],
             [
              0.1111111111111111,
              "#46039f"
             ],
             [
              0.2222222222222222,
              "#7201a8"
             ],
             [
              0.3333333333333333,
              "#9c179e"
             ],
             [
              0.4444444444444444,
              "#bd3786"
             ],
             [
              0.5555555555555556,
              "#d8576b"
             ],
             [
              0.6666666666666666,
              "#ed7953"
             ],
             [
              0.7777777777777778,
              "#fb9f3a"
             ],
             [
              0.8888888888888888,
              "#fdca26"
             ],
             [
              1,
              "#f0f921"
             ]
            ],
            "type": "histogram2d"
           }
          ],
          "histogram2dcontour": [
           {
            "colorbar": {
             "outlinewidth": 0,
             "ticks": ""
            },
            "colorscale": [
             [
              0,
              "#0d0887"
             ],
             [
              0.1111111111111111,
              "#46039f"
             ],
             [
              0.2222222222222222,
              "#7201a8"
             ],
             [
              0.3333333333333333,
              "#9c179e"
             ],
             [
              0.4444444444444444,
              "#bd3786"
             ],
             [
              0.5555555555555556,
              "#d8576b"
             ],
             [
              0.6666666666666666,
              "#ed7953"
             ],
             [
              0.7777777777777778,
              "#fb9f3a"
             ],
             [
              0.8888888888888888,
              "#fdca26"
             ],
             [
              1,
              "#f0f921"
             ]
            ],
            "type": "histogram2dcontour"
           }
          ],
          "mesh3d": [
           {
            "colorbar": {
             "outlinewidth": 0,
             "ticks": ""
            },
            "type": "mesh3d"
           }
          ],
          "parcoords": [
           {
            "line": {
             "colorbar": {
              "outlinewidth": 0,
              "ticks": ""
             }
            },
            "type": "parcoords"
           }
          ],
          "pie": [
           {
            "automargin": true,
            "type": "pie"
           }
          ],
          "scatter": [
           {
            "fillpattern": {
             "fillmode": "overlay",
             "size": 10,
             "solidity": 0.2
            },
            "type": "scatter"
           }
          ],
          "scatter3d": [
           {
            "line": {
             "colorbar": {
              "outlinewidth": 0,
              "ticks": ""
             }
            },
            "marker": {
             "colorbar": {
              "outlinewidth": 0,
              "ticks": ""
             }
            },
            "type": "scatter3d"
           }
          ],
          "scattercarpet": [
           {
            "marker": {
             "colorbar": {
              "outlinewidth": 0,
              "ticks": ""
             }
            },
            "type": "scattercarpet"
           }
          ],
          "scattergeo": [
           {
            "marker": {
             "colorbar": {
              "outlinewidth": 0,
              "ticks": ""
             }
            },
            "type": "scattergeo"
           }
          ],
          "scattergl": [
           {
            "marker": {
             "colorbar": {
              "outlinewidth": 0,
              "ticks": ""
             }
            },
            "type": "scattergl"
           }
          ],
          "scattermapbox": [
           {
            "marker": {
             "colorbar": {
              "outlinewidth": 0,
              "ticks": ""
             }
            },
            "type": "scattermapbox"
           }
          ],
          "scatterpolar": [
           {
            "marker": {
             "colorbar": {
              "outlinewidth": 0,
              "ticks": ""
             }
            },
            "type": "scatterpolar"
           }
          ],
          "scatterpolargl": [
           {
            "marker": {
             "colorbar": {
              "outlinewidth": 0,
              "ticks": ""
             }
            },
            "type": "scatterpolargl"
           }
          ],
          "scatterternary": [
           {
            "marker": {
             "colorbar": {
              "outlinewidth": 0,
              "ticks": ""
             }
            },
            "type": "scatterternary"
           }
          ],
          "surface": [
           {
            "colorbar": {
             "outlinewidth": 0,
             "ticks": ""
            },
            "colorscale": [
             [
              0,
              "#0d0887"
             ],
             [
              0.1111111111111111,
              "#46039f"
             ],
             [
              0.2222222222222222,
              "#7201a8"
             ],
             [
              0.3333333333333333,
              "#9c179e"
             ],
             [
              0.4444444444444444,
              "#bd3786"
             ],
             [
              0.5555555555555556,
              "#d8576b"
             ],
             [
              0.6666666666666666,
              "#ed7953"
             ],
             [
              0.7777777777777778,
              "#fb9f3a"
             ],
             [
              0.8888888888888888,
              "#fdca26"
             ],
             [
              1,
              "#f0f921"
             ]
            ],
            "type": "surface"
           }
          ],
          "table": [
           {
            "cells": {
             "fill": {
              "color": "#EBF0F8"
             },
             "line": {
              "color": "white"
             }
            },
            "header": {
             "fill": {
              "color": "#C8D4E3"
             },
             "line": {
              "color": "white"
             }
            },
            "type": "table"
           }
          ]
         },
         "layout": {
          "annotationdefaults": {
           "arrowcolor": "#2a3f5f",
           "arrowhead": 0,
           "arrowwidth": 1
          },
          "autotypenumbers": "strict",
          "coloraxis": {
           "colorbar": {
            "outlinewidth": 0,
            "ticks": ""
           }
          },
          "colorscale": {
           "diverging": [
            [
             0,
             "#8e0152"
            ],
            [
             0.1,
             "#c51b7d"
            ],
            [
             0.2,
             "#de77ae"
            ],
            [
             0.3,
             "#f1b6da"
            ],
            [
             0.4,
             "#fde0ef"
            ],
            [
             0.5,
             "#f7f7f7"
            ],
            [
             0.6,
             "#e6f5d0"
            ],
            [
             0.7,
             "#b8e186"
            ],
            [
             0.8,
             "#7fbc41"
            ],
            [
             0.9,
             "#4d9221"
            ],
            [
             1,
             "#276419"
            ]
           ],
           "sequential": [
            [
             0,
             "#0d0887"
            ],
            [
             0.1111111111111111,
             "#46039f"
            ],
            [
             0.2222222222222222,
             "#7201a8"
            ],
            [
             0.3333333333333333,
             "#9c179e"
            ],
            [
             0.4444444444444444,
             "#bd3786"
            ],
            [
             0.5555555555555556,
             "#d8576b"
            ],
            [
             0.6666666666666666,
             "#ed7953"
            ],
            [
             0.7777777777777778,
             "#fb9f3a"
            ],
            [
             0.8888888888888888,
             "#fdca26"
            ],
            [
             1,
             "#f0f921"
            ]
           ],
           "sequentialminus": [
            [
             0,
             "#0d0887"
            ],
            [
             0.1111111111111111,
             "#46039f"
            ],
            [
             0.2222222222222222,
             "#7201a8"
            ],
            [
             0.3333333333333333,
             "#9c179e"
            ],
            [
             0.4444444444444444,
             "#bd3786"
            ],
            [
             0.5555555555555556,
             "#d8576b"
            ],
            [
             0.6666666666666666,
             "#ed7953"
            ],
            [
             0.7777777777777778,
             "#fb9f3a"
            ],
            [
             0.8888888888888888,
             "#fdca26"
            ],
            [
             1,
             "#f0f921"
            ]
           ]
          },
          "colorway": [
           "#636efa",
           "#EF553B",
           "#00cc96",
           "#ab63fa",
           "#FFA15A",
           "#19d3f3",
           "#FF6692",
           "#B6E880",
           "#FF97FF",
           "#FECB52"
          ],
          "font": {
           "color": "#2a3f5f"
          },
          "geo": {
           "bgcolor": "white",
           "lakecolor": "white",
           "landcolor": "#E5ECF6",
           "showlakes": true,
           "showland": true,
           "subunitcolor": "white"
          },
          "hoverlabel": {
           "align": "left"
          },
          "hovermode": "closest",
          "mapbox": {
           "style": "light"
          },
          "paper_bgcolor": "white",
          "plot_bgcolor": "#E5ECF6",
          "polar": {
           "angularaxis": {
            "gridcolor": "white",
            "linecolor": "white",
            "ticks": ""
           },
           "bgcolor": "#E5ECF6",
           "radialaxis": {
            "gridcolor": "white",
            "linecolor": "white",
            "ticks": ""
           }
          },
          "scene": {
           "xaxis": {
            "backgroundcolor": "#E5ECF6",
            "gridcolor": "white",
            "gridwidth": 2,
            "linecolor": "white",
            "showbackground": true,
            "ticks": "",
            "zerolinecolor": "white"
           },
           "yaxis": {
            "backgroundcolor": "#E5ECF6",
            "gridcolor": "white",
            "gridwidth": 2,
            "linecolor": "white",
            "showbackground": true,
            "ticks": "",
            "zerolinecolor": "white"
           },
           "zaxis": {
            "backgroundcolor": "#E5ECF6",
            "gridcolor": "white",
            "gridwidth": 2,
            "linecolor": "white",
            "showbackground": true,
            "ticks": "",
            "zerolinecolor": "white"
           }
          },
          "shapedefaults": {
           "line": {
            "color": "#2a3f5f"
           }
          },
          "ternary": {
           "aaxis": {
            "gridcolor": "white",
            "linecolor": "white",
            "ticks": ""
           },
           "baxis": {
            "gridcolor": "white",
            "linecolor": "white",
            "ticks": ""
           },
           "bgcolor": "#E5ECF6",
           "caxis": {
            "gridcolor": "white",
            "linecolor": "white",
            "ticks": ""
           }
          },
          "title": {
           "x": 0.05
          },
          "xaxis": {
           "automargin": true,
           "gridcolor": "white",
           "linecolor": "white",
           "ticks": "",
           "title": {
            "standoff": 15
           },
           "zerolinecolor": "white",
           "zerolinewidth": 2
          },
          "yaxis": {
           "automargin": true,
           "gridcolor": "white",
           "linecolor": "white",
           "ticks": "",
           "title": {
            "standoff": 15
           },
           "zerolinecolor": "white",
           "zerolinewidth": 2
          }
         }
        },
        "title": {
         "text": "ManufacturingProcess Grouped by Keyword Combinations"
        }
       }
      }
     },
     "metadata": {},
     "output_type": "display_data"
    }
   ],
   "source": [
    "import pandas as pd\n",
    "import plotly.graph_objects as go\n",
    "\n",
    "\n",
    "query = \"\"\"\n",
    "MATCH (ir:ManufacturingProcess)\n",
    "RETURN id(ir) AS ManufacturingProcessId, ir.Description AS ManufacturingProcessdes\n",
    "\"\"\"\n",
    "\n",
    "with driver.session() as session:\n",
    "    result = session.run(query)\n",
    "    neo4j_data = [record.data() for record in result]\n",
    "\n",
    "\n",
    "df = pd.DataFrame(neo4j_data)\n",
    "\n",
    "\n",
    "id_col = df.columns[df.columns.str.contains('ManufacturingProcessId', case=False)][0]\n",
    "desc_col = df.columns[df.columns.str.contains('ManufacturingProcessdes', case=False)][0]\n",
    "df.rename(columns={id_col: 'Id', desc_col: 'Description'}, inplace=True)\n",
    "\n",
    "\n",
    "keyword_groups = [['salt', 'animal'], ['water', 'sugar']]\n",
    "\n",
    "\n",
    "grouped = df.groupby(df['Description'].apply(lambda x: ', '.join(sorted([' '.join(group) for group in keyword_groups if any(kw.lower() in str(x).lower() for kw in group)])) if pd.notnull(x) else ''))\n",
    "\n",
    "\n",
    "fig_data = []\n",
    "for group_name, group in grouped:\n",
    "    group_trace = go.Table(\n",
    "        header=dict(values=['Group', 'Id', 'Description']),\n",
    "        cells=dict(values=[group_name, group['Id'], group['Description']])\n",
    "    )\n",
    "    fig_data.append(group_trace)\n",
    "\n",
    "\n",
    "fig_layout = go.Layout(\n",
    "    title='ManufacturingProcess Grouped by Keyword Combinations',\n",
    "    height=800\n",
    ")\n",
    "\n",
    "\n",
    "fig = go.Figure(data=fig_data, layout=fig_layout)\n",
    "\n",
    "\n",
    "fig.show()"
   ]
  },
  {
   "cell_type": "code",
   "execution_count": 7,
   "metadata": {},
   "outputs": [
    {
     "data": {
      "application/vnd.plotly.v1+json": {
       "config": {
        "plotlyServerURL": "https://plot.ly"
       },
       "data": [
        {
         "cells": {
          "values": [
           "",
           [
            582,
            583,
            584,
            585,
            588,
            593,
            594,
            595,
            596,
            597,
            598,
            599,
            600,
            601,
            602,
            603,
            604,
            605,
            606,
            607,
            608,
            609,
            610,
            611,
            612,
            613,
            614,
            615,
            616,
            617,
            618,
            619,
            620,
            621,
            626,
            627,
            628,
            629,
            634,
            636,
            639,
            640,
            642,
            643,
            644,
            645,
            647,
            648,
            649,
            650,
            651,
            656,
            657,
            664,
            666,
            669,
            670,
            671,
            672,
            673,
            674,
            675,
            676,
            677,
            678,
            679,
            680,
            681,
            682,
            683,
            684,
            685,
            686,
            687,
            688,
            689,
            690,
            691,
            692,
            697,
            698,
            699,
            700,
            701,
            702,
            708,
            709,
            711,
            714,
            715,
            716,
            717,
            718,
            725,
            731,
            732,
            733,
            734,
            735,
            2155,
            2159,
            2163,
            2166,
            2169,
            2172,
            2175,
            2178,
            2182,
            2185,
            2192,
            2199,
            2204,
            2208,
            2212,
            2215,
            2218,
            2222,
            2227,
            2232,
            2235,
            2239,
            2246,
            2253,
            2259,
            2262,
            2265,
            2269,
            2272,
            2282,
            2286,
            2290,
            2295,
            2300,
            2304,
            2310,
            2315,
            2319,
            2324,
            2329,
            2335,
            2338,
            2341,
            2344,
            2349,
            2352,
            2356,
            2359,
            2363,
            2366,
            2369,
            2373,
            2379,
            2384,
            2389,
            2394,
            2399,
            2405,
            2411,
            2415,
            2421,
            2428,
            2433,
            2439,
            2446,
            2451,
            2458,
            2461,
            2469,
            2476,
            2479,
            2483,
            2489,
            2494,
            2499,
            2503,
            2506,
            2509,
            2514,
            2517,
            2520,
            2523,
            2527,
            2533,
            2537,
            2543,
            2546,
            2550,
            2556,
            2559,
            2565,
            2570,
            2576,
            2581,
            2586,
            2590,
            2593,
            2597,
            2604,
            2609,
            2612,
            2617,
            2622,
            2625,
            2630,
            2635,
            2642,
            2646,
            2652,
            2657,
            2663,
            2670,
            2673,
            2677,
            2684,
            2695,
            2700,
            2706,
            2711,
            2719,
            2724,
            2729,
            2734,
            2739,
            2745,
            2750,
            2754,
            2759,
            2763,
            2769,
            2774,
            2780,
            2785,
            2793,
            2796,
            2802,
            2805,
            2809,
            2813,
            2818,
            2821,
            2825,
            2828,
            2848,
            2851,
            2856,
            2861,
            2866,
            2875,
            2880,
            2883,
            2887,
            2891,
            2897,
            2901,
            2908,
            2912,
            2919,
            2922,
            2925,
            2928,
            2931,
            2937,
            2943,
            2950,
            2953,
            2959,
            2962,
            2966,
            2969,
            2976,
            2981,
            2987,
            2991,
            2998,
            3001,
            3006,
            3009,
            3016,
            3025,
            3028,
            3033,
            3036,
            3039,
            3042,
            3044,
            3047,
            3050,
            3054,
            3060,
            3065,
            3075,
            3080,
            3085,
            3090,
            3108,
            3113,
            3118,
            3123,
            3127,
            3131,
            3139,
            3145,
            3150,
            3156,
            3163,
            3167,
            3172,
            3177,
            3180,
            3183,
            3187,
            3196,
            3202,
            3210,
            3215,
            3221,
            3227,
            3231,
            3246,
            3252,
            3259,
            3265,
            3271,
            3279,
            3282,
            3284,
            3289,
            3295,
            3307,
            3311,
            3317,
            3322,
            3329,
            3337,
            3346,
            3353,
            3356,
            3368,
            3371,
            3374,
            3378,
            3382,
            3387,
            3392,
            3396,
            3401,
            3406,
            3410,
            3417,
            3424,
            3429,
            3434,
            3437,
            3443,
            3450,
            3455,
            3459,
            3464,
            3471,
            3478,
            3485,
            3492,
            3497,
            3504,
            3518,
            3522,
            3528,
            3534,
            3539,
            3547,
            3551,
            3559,
            3562,
            3565,
            3574,
            3579,
            3582,
            3585,
            3590,
            3603,
            3618,
            3621,
            3626,
            3636,
            3643,
            3650,
            3667,
            10819,
            10820,
            10823,
            10824,
            10827,
            10828,
            10832,
            10834,
            10837,
            10839,
            10840,
            10844,
            10847,
            10850,
            10851,
            10853,
            10856,
            10857,
            10860,
            10864,
            10866,
            10867,
            10870,
            10875,
            10878,
            10879,
            10882,
            10885,
            10887,
            10888,
            10891,
            10892,
            10895,
            10897,
            10898,
            10901,
            10902,
            10905,
            10906,
            10909,
            10911,
            10913,
            10915,
            10916,
            10921,
            10923,
            10926,
            10929,
            10932,
            10936,
            10937,
            10940,
            10943,
            10945,
            10948,
            10949,
            10952,
            10953,
            10956,
            10957,
            10960,
            10961,
            10963,
            10971,
            10975,
            10981,
            10982,
            10988,
            10989,
            10996,
            10997,
            11001,
            11004,
            11005,
            11008,
            11009,
            11013,
            11014,
            11018,
            11019,
            11022,
            11023,
            11026,
            11027,
            11029,
            11032,
            11035,
            11036,
            11040,
            11041,
            11044,
            11045,
            11048,
            11049,
            11052,
            11053,
            11056,
            11060,
            11061,
            11064,
            11065,
            11068,
            11071,
            11072,
            11074,
            11075,
            11078,
            11079,
            11083,
            11084,
            11088,
            11090,
            11092,
            11095,
            11096,
            11099,
            11100,
            11103,
            11104,
            11107,
            11111,
            11113,
            11116,
            11118,
            11119,
            11123,
            11124,
            11127,
            11128,
            11131,
            11133,
            11135,
            11136,
            11139,
            11140,
            11144,
            11151,
            11152,
            11154,
            11158,
            11162,
            11165,
            11166,
            11170,
            11174,
            11175,
            11180,
            11181,
            11184,
            11185,
            11188,
            11190,
            11192,
            11195,
            11197,
            11198,
            11201,
            11204,
            11205,
            11208,
            11209,
            11211,
            11214,
            11215,
            11218,
            11220,
            11221,
            11224,
            11227,
            11228,
            11232,
            11234,
            11235,
            11237,
            11240,
            11241,
            11244,
            11247,
            11249,
            11252,
            11254,
            11255,
            11258,
            11259,
            11260,
            11262,
            11263,
            11267,
            11268,
            11272,
            11274,
            11277,
            11280,
            11282,
            11283,
            11285,
            11288,
            11290,
            11291,
            11295,
            11296,
            11299,
            11300,
            11303,
            11304,
            11309,
            11312,
            11313,
            11316,
            11317,
            11318,
            11321,
            11323,
            11324,
            11327,
            11328,
            11332,
            11335,
            11336,
            11339,
            11340,
            11343,
            11344,
            11347,
            11348,
            11351,
            11354,
            11355,
            11358,
            11362,
            11366,
            11370,
            11372,
            11376,
            11378,
            11379,
            11382,
            11383,
            11386,
            11387,
            11391,
            11396,
            11399,
            11401,
            11404,
            11405,
            11407,
            11408,
            11411,
            11414,
            11415,
            11417,
            11420,
            11425,
            11428,
            11429,
            11434,
            11440,
            11442,
            11447,
            11450,
            11452,
            11453,
            11456,
            11457,
            11460,
            11461,
            11464,
            11466,
            11467,
            11469,
            11472,
            11473,
            11474,
            11476,
            11478,
            11481,
            11483,
            11484,
            11489,
            11493,
            11496,
            11500,
            11502,
            11503,
            11506,
            11507,
            11510,
            11511,
            11514,
            11515,
            11517,
            11520,
            11522,
            11525,
            11528,
            11530,
            11531,
            11534,
            11540,
            11541,
            11544,
            11545,
            11548,
            11550,
            11551,
            11555,
            11557,
            11559,
            11560,
            11563,
            11565,
            11567,
            11570,
            11571,
            11574,
            11575,
            11578,
            11581,
            11584,
            11585,
            11588,
            11589,
            11592,
            11593,
            11600,
            11601,
            11603,
            11607,
            11608,
            11611,
            11614,
            11615,
            11618,
            11619,
            11622,
            11623,
            11627,
            11630,
            11631,
            11634,
            11635,
            11636,
            11637,
            11640,
            11642,
            11646,
            11648,
            11649,
            11653,
            11656,
            11659,
            11660,
            11663,
            11664,
            11667,
            11668,
            11673,
            11676,
            11677,
            11679,
            11683,
            11686,
            11688,
            11691,
            11692,
            11697,
            11698,
            11701,
            11703,
            11705,
            11707,
            11708,
            11710,
            11711,
            11715,
            11717,
            11718,
            11721,
            11722,
            11725,
            11726,
            11729,
            11730,
            11733,
            11734,
            11737,
            11739,
            11740,
            11744,
            11745,
            11749,
            11750,
            11754,
            11755,
            11758,
            11759,
            11761,
            11765,
            11766,
            11771,
            11772,
            11775,
            11778,
            11779,
            11782,
            11784,
            11789,
            11790,
            11794,
            11795,
            11798,
            11799,
            11803,
            11804,
            11808,
            11809,
            11812,
            11813,
            11816,
            11818,
            11820,
            11823,
            11824,
            11827,
            11828,
            11831,
            11832,
            11835,
            11836,
            11840,
            11844,
            11845,
            11848,
            11853,
            11856,
            11857,
            11860,
            11861,
            11864,
            11865,
            11868,
            11872,
            11875,
            11876,
            11882,
            11883,
            11886,
            11887,
            11889,
            11892,
            11893,
            11897,
            11898,
            11901,
            11903,
            11904,
            11907,
            11911,
            11912,
            11915,
            11916,
            11919
           ],
           [
            null,
            null,
            null,
            null,
            "Step 3",
            "Step 8",
            null,
            null,
            null,
            null,
            null,
            null,
            null,
            null,
            null,
            null,
            null,
            null,
            null,
            null,
            null,
            null,
            null,
            null,
            null,
            null,
            null,
            null,
            null,
            null,
            null,
            null,
            null,
            null,
            "Step 5",
            null,
            null,
            null,
            "Step 5",
            "Step 7",
            null,
            null,
            "Step 2",
            "Step 3",
            "Step 4",
            "Step 5",
            "Step 7",
            null,
            null,
            null,
            null,
            "Step 5",
            null,
            "Step 2",
            "Step 4",
            "Step 7",
            null,
            null,
            null,
            null,
            null,
            null,
            null,
            null,
            null,
            null,
            null,
            null,
            null,
            null,
            null,
            null,
            null,
            null,
            null,
            null,
            null,
            null,
            null,
            null,
            null,
            null,
            null,
            null,
            null,
            null,
            null,
            "Step 2",
            "Step 5",
            null,
            null,
            null,
            null,
            null,
            null,
            null,
            null,
            null,
            null,
            null,
            null,
            null,
            null,
            null,
            null,
            null,
            null,
            null,
            null,
            null,
            null,
            null,
            null,
            null,
            null,
            null,
            null,
            null,
            null,
            null,
            null,
            null,
            null,
            null,
            null,
            null,
            null,
            null,
            null,
            null,
            null,
            null,
            null,
            null,
            null,
            null,
            null,
            null,
            null,
            null,
            null,
            null,
            null,
            null,
            null,
            null,
            null,
            null,
            null,
            null,
            null,
            null,
            null,
            null,
            null,
            null,
            null,
            null,
            null,
            null,
            null,
            null,
            null,
            null,
            null,
            null,
            null,
            null,
            null,
            null,
            null,
            null,
            null,
            null,
            null,
            null,
            null,
            null,
            null,
            null,
            null,
            null,
            null,
            null,
            null,
            null,
            null,
            null,
            null,
            null,
            null,
            null,
            null,
            null,
            null,
            null,
            null,
            null,
            null,
            null,
            null,
            null,
            null,
            null,
            null,
            null,
            null,
            null,
            null,
            null,
            null,
            null,
            null,
            null,
            null,
            null,
            null,
            null,
            null,
            null,
            null,
            null,
            null,
            null,
            null,
            null,
            null,
            null,
            null,
            null,
            null,
            null,
            null,
            null,
            null,
            null,
            null,
            null,
            null,
            null,
            null,
            null,
            null,
            null,
            null,
            null,
            null,
            null,
            null,
            null,
            null,
            null,
            null,
            null,
            null,
            null,
            null,
            null,
            null,
            null,
            null,
            null,
            null,
            null,
            null,
            null,
            null,
            null,
            null,
            null,
            null,
            null,
            null,
            null,
            null,
            null,
            null,
            null,
            null,
            null,
            null,
            null,
            null,
            null,
            null,
            null,
            null,
            null,
            null,
            null,
            null,
            null,
            null,
            null,
            null,
            null,
            null,
            null,
            null,
            null,
            null,
            null,
            null,
            null,
            null,
            null,
            null,
            null,
            null,
            null,
            null,
            null,
            null,
            null,
            null,
            null,
            null,
            null,
            null,
            null,
            null,
            null,
            null,
            null,
            null,
            null,
            null,
            null,
            null,
            null,
            null,
            null,
            null,
            null,
            null,
            null,
            null,
            null,
            null,
            null,
            null,
            null,
            null,
            null,
            null,
            null,
            null,
            null,
            null,
            null,
            null,
            null,
            null,
            null,
            null,
            null,
            null,
            null,
            null,
            null,
            null,
            null,
            null,
            null,
            null,
            null,
            null,
            null,
            null,
            null,
            null,
            null,
            null,
            null,
            null,
            null,
            null,
            null,
            null,
            null,
            null,
            null,
            null,
            null,
            null,
            null,
            null,
            null,
            null,
            null,
            null,
            null,
            null,
            null,
            null,
            null,
            null,
            null,
            null,
            null,
            null,
            null,
            null,
            null,
            null,
            null,
            null,
            null,
            null,
            null,
            null,
            null,
            null,
            null,
            null,
            null,
            null,
            null,
            null,
            null,
            null,
            null,
            null,
            null,
            null,
            null,
            null,
            null,
            null,
            null,
            null,
            null,
            null,
            null,
            null,
            null,
            null,
            null,
            null,
            null,
            null,
            null,
            null,
            null,
            null,
            null,
            null,
            null,
            null,
            null,
            null,
            null,
            null,
            null,
            null,
            null,
            null,
            null,
            null,
            null,
            null,
            null,
            null,
            null,
            null,
            null,
            null,
            null,
            null,
            null,
            null,
            null,
            null,
            null,
            null,
            null,
            null,
            null,
            null,
            null,
            null,
            null,
            null,
            null,
            null,
            null,
            null,
            null,
            null,
            null,
            null,
            null,
            null,
            null,
            null,
            null,
            null,
            null,
            null,
            null,
            null,
            null,
            null,
            null,
            null,
            null,
            null,
            null,
            null,
            null,
            null,
            null,
            null,
            null,
            null,
            null,
            null,
            null,
            null,
            null,
            null,
            null,
            null,
            null,
            null,
            null,
            null,
            null,
            null,
            null,
            null,
            null,
            null,
            null,
            null,
            null,
            null,
            null,
            null,
            null,
            null,
            null,
            null,
            null,
            null,
            null,
            null,
            null,
            null,
            null,
            null,
            null,
            null,
            null,
            null,
            null,
            null,
            null,
            null,
            null,
            null,
            null,
            null,
            null,
            null,
            null,
            null,
            null,
            null,
            null,
            null,
            null,
            null,
            null,
            null,
            null,
            null,
            null,
            null,
            null,
            null,
            null,
            null,
            null,
            null,
            null,
            null,
            null,
            null,
            null,
            null,
            null,
            null,
            null,
            null,
            null,
            null,
            null,
            null,
            null,
            null,
            null,
            null,
            null,
            null,
            null,
            null,
            null,
            null,
            null,
            null,
            null,
            null,
            null,
            null,
            null,
            null,
            null,
            null,
            null,
            null,
            null,
            null,
            null,
            null,
            null,
            null,
            null,
            null,
            null,
            null,
            null,
            null,
            null,
            null,
            null,
            null,
            null,
            null,
            null,
            null,
            null,
            null,
            null,
            null,
            null,
            null,
            null,
            null,
            null,
            null,
            null,
            null,
            null,
            null,
            null,
            null,
            null,
            null,
            null,
            null,
            null,
            null,
            null,
            null,
            null,
            null,
            null,
            null,
            null,
            null,
            null,
            null,
            null,
            null,
            null,
            null,
            null,
            null,
            null,
            null,
            null,
            null,
            null,
            null,
            null,
            null,
            null,
            null,
            null,
            null,
            null,
            null,
            null,
            null,
            null,
            null,
            null,
            null,
            null,
            null,
            null,
            null,
            null,
            null,
            null,
            null,
            null,
            null,
            null,
            null,
            null,
            null,
            null,
            null,
            null,
            null,
            null,
            null,
            null,
            null,
            null,
            null,
            null,
            null,
            null,
            null,
            null,
            null,
            null,
            null,
            null,
            null,
            null,
            null,
            null,
            null,
            null,
            null,
            null,
            null,
            null,
            null,
            null,
            null,
            null,
            null,
            null,
            null,
            null,
            null,
            null,
            null,
            null,
            null,
            null,
            null,
            null,
            null,
            null,
            null,
            null,
            null,
            null,
            null,
            null,
            null,
            null,
            null,
            null,
            null,
            null,
            null,
            null,
            null,
            null,
            null,
            null,
            null,
            null,
            null,
            null,
            null,
            null,
            null,
            null,
            null,
            null,
            null,
            null,
            null,
            null,
            null,
            null,
            null,
            null,
            null,
            null,
            null,
            null,
            null,
            null,
            null,
            null,
            null,
            null,
            null,
            null,
            null,
            null,
            null,
            null,
            null,
            null,
            null,
            null,
            null,
            null,
            null,
            null,
            null,
            null,
            null,
            null,
            null,
            null,
            null,
            null,
            null,
            null,
            null,
            null,
            null,
            null,
            null,
            null,
            null,
            null,
            null,
            null,
            null,
            null,
            null,
            null,
            null,
            null,
            null,
            null,
            null,
            null
           ],
           [
            null,
            null,
            null,
            null,
            "Step 3: The noodles are fried in refined palm oil.",
            "Step 8: The fried onion is made by frying onion in refined palm oil.",
            null,
            null,
            null,
            null,
            null,
            null,
            null,
            null,
            null,
            null,
            null,
            null,
            null,
            null,
            null,
            null,
            null,
            null,
            null,
            null,
            null,
            null,
            null,
            null,
            null,
            null,
            null,
            null,
            "5. The cookies are then packaged into bags of 18 packs.",
            null,
            null,
            null,
            "Baking the wafers at controlled temperatures.",
            "Piping or spreading the creme filling onto one wafer.",
            null,
            null,
            "2. The juices are reconstituted to specific concentrations (95.8% apple juice, 4.0% mango juice)",
            "3. Citric acid is added to regulate acidity",
            "4. Vitamin C is added for fortification",
            "5. Natural flavours are introduced to enhance taste",
            "7. The juice is packaged in aseptic containers for distribution",
            null,
            null,
            null,
            null,
            "Step 5: The beverage is packaged in aseptic containers to maintain freshness",
            null,
            "Step 2: Blending of the fruit juices to create the tropical punch flavor",
            "Step 4: Incorporation of natural flavors to enhance the fruit taste",
            "Step 7: Packing the individual containers into multipacks",
            null,
            null,
            null,
            null,
            null,
            null,
            null,
            null,
            null,
            null,
            null,
            null,
            null,
            null,
            null,
            null,
            null,
            null,
            null,
            null,
            null,
            null,
            null,
            null,
            null,
            null,
            null,
            null,
            null,
            null,
            null,
            "Step 2: The sliced potatoes are blanched to remove excess starch",
            "Step 5: The chips are packaged in a share pack for consumption",
            null,
            null,
            null,
            null,
            null,
            null,
            null,
            null,
            null,
            null,
            null,
            null,
            null,
            null,
            null,
            null,
            null,
            null,
            null,
            null,
            null,
            null,
            null,
            null,
            null,
            null,
            null,
            null,
            null,
            null,
            null,
            null,
            null,
            null,
            null,
            null,
            null,
            null,
            null,
            null,
            null,
            null,
            null,
            null,
            null,
            null,
            null,
            null,
            null,
            null,
            null,
            null,
            null,
            null,
            null,
            null,
            null,
            null,
            null,
            null,
            null,
            null,
            null,
            null,
            null,
            null,
            null,
            null,
            null,
            null,
            null,
            null,
            null,
            null,
            null,
            null,
            null,
            null,
            null,
            null,
            null,
            null,
            null,
            null,
            null,
            null,
            null,
            null,
            null,
            null,
            null,
            null,
            null,
            null,
            null,
            null,
            null,
            null,
            null,
            null,
            null,
            null,
            null,
            null,
            null,
            null,
            null,
            null,
            null,
            null,
            null,
            null,
            null,
            null,
            null,
            null,
            null,
            null,
            null,
            null,
            null,
            null,
            null,
            null,
            null,
            null,
            null,
            null,
            null,
            null,
            null,
            null,
            null,
            null,
            null,
            null,
            null,
            null,
            null,
            null,
            null,
            null,
            null,
            null,
            null,
            null,
            null,
            null,
            null,
            null,
            null,
            null,
            null,
            null,
            null,
            null,
            null,
            null,
            null,
            null,
            null,
            null,
            null,
            null,
            null,
            null,
            null,
            null,
            null,
            null,
            null,
            null,
            null,
            null,
            null,
            null,
            null,
            null,
            null,
            null,
            null,
            null,
            null,
            null,
            null,
            null,
            null,
            null,
            null,
            null,
            null,
            null,
            null,
            null,
            null,
            null,
            null,
            null,
            null,
            null,
            null,
            null,
            null,
            null,
            null,
            null,
            null,
            null,
            null,
            null,
            null,
            null,
            null,
            null,
            null,
            null,
            null,
            null,
            null,
            null,
            null,
            null,
            null,
            null,
            null,
            null,
            null,
            null,
            null,
            null,
            null,
            null,
            null,
            null,
            null,
            null,
            null,
            null,
            null,
            null,
            null,
            null,
            null,
            null,
            null,
            null,
            null,
            null,
            null,
            null,
            null,
            null,
            null,
            null,
            null,
            null,
            null,
            null,
            null,
            null,
            null,
            null,
            null,
            null,
            null,
            null,
            null,
            null,
            null,
            null,
            null,
            null,
            null,
            null,
            null,
            null,
            null,
            null,
            null,
            null,
            null,
            null,
            null,
            null,
            null,
            null,
            null,
            null,
            null,
            null,
            null,
            null,
            null,
            null,
            null,
            null,
            null,
            null,
            null,
            null,
            null,
            null,
            null,
            null,
            null,
            null,
            null,
            null,
            null,
            null,
            null,
            null,
            null,
            null,
            null,
            null,
            null,
            null,
            null,
            null,
            null,
            null,
            null,
            null,
            null,
            null,
            null,
            null,
            null,
            null,
            null,
            null,
            null,
            null,
            null,
            null,
            null,
            null,
            null,
            null,
            null,
            null,
            null,
            null,
            null,
            null,
            null,
            null,
            null,
            null,
            null,
            null,
            null,
            null,
            null,
            null,
            null,
            null,
            null,
            null,
            null,
            null,
            null,
            null,
            null,
            null,
            null,
            null,
            null,
            null,
            null,
            null,
            null,
            null,
            null,
            null,
            null,
            null,
            null,
            null,
            null,
            null,
            null,
            null,
            null,
            null,
            null,
            null,
            null,
            null,
            null,
            null,
            null,
            null,
            null,
            null,
            null,
            null,
            null,
            null,
            null,
            null,
            null,
            null,
            null,
            null,
            null,
            null,
            null,
            null,
            null,
            null,
            null,
            null,
            null,
            null,
            null,
            null,
            null,
            null,
            null,
            null,
            null,
            null,
            null,
            null,
            null,
            null,
            null,
            null,
            null,
            null,
            null,
            null,
            null,
            null,
            null,
            null,
            null,
            null,
            null,
            null,
            null,
            null,
            null,
            null,
            null,
            null,
            null,
            null,
            null,
            null,
            null,
            null,
            null,
            null,
            null,
            null,
            null,
            null,
            null,
            null,
            null,
            null,
            null,
            null,
            null,
            null,
            null,
            null,
            null,
            null,
            null,
            null,
            null,
            null,
            null,
            null,
            null,
            null,
            null,
            null,
            null,
            null,
            null,
            null,
            null,
            null,
            null,
            null,
            null,
            null,
            null,
            null,
            null,
            null,
            null,
            null,
            null,
            null,
            null,
            null,
            null,
            null,
            null,
            null,
            null,
            null,
            null,
            null,
            null,
            null,
            null,
            null,
            null,
            null,
            null,
            null,
            null,
            null,
            null,
            null,
            null,
            null,
            null,
            null,
            null,
            null,
            null,
            null,
            null,
            null,
            null,
            null,
            null,
            null,
            null,
            null,
            null,
            null,
            null,
            null,
            null,
            null,
            null,
            null,
            null,
            null,
            null,
            null,
            null,
            null,
            null,
            null,
            null,
            null,
            null,
            null,
            null,
            null,
            null,
            null,
            null,
            null,
            null,
            null,
            null,
            null,
            null,
            null,
            null,
            null,
            null,
            null,
            null,
            null,
            null,
            null,
            null,
            null,
            null,
            null,
            null,
            null,
            null,
            null,
            null,
            null,
            null,
            null,
            null,
            null,
            null,
            null,
            null,
            null,
            null,
            null,
            null,
            null,
            null,
            null,
            null,
            null,
            null,
            null,
            null,
            null,
            null,
            null,
            null,
            null,
            null,
            null,
            null,
            null,
            null,
            null,
            null,
            null,
            null,
            null,
            null,
            null,
            null,
            null,
            null,
            null,
            null,
            null,
            null,
            null,
            null,
            null,
            null,
            null,
            null,
            null,
            null,
            null,
            null,
            null,
            null,
            null,
            null,
            null,
            null,
            null,
            null,
            null,
            null,
            null,
            null,
            null,
            null,
            null,
            null,
            null,
            null,
            null,
            null,
            null,
            null,
            null,
            null,
            null,
            null,
            null,
            null,
            null,
            null,
            null,
            null,
            null,
            null,
            null,
            null,
            null,
            null,
            null,
            null,
            null,
            null,
            null,
            null,
            null,
            null,
            null,
            null,
            null,
            null,
            null,
            null,
            null,
            null,
            null,
            null,
            null,
            null,
            null,
            null,
            null,
            null,
            null,
            null,
            null,
            null,
            null,
            null,
            null,
            null,
            null,
            null,
            null,
            null,
            null,
            null,
            null,
            null,
            null,
            null,
            null,
            null,
            null,
            null,
            null,
            null,
            null,
            null,
            null,
            null,
            null,
            null,
            null,
            null,
            null,
            null,
            null,
            null,
            null,
            null,
            null,
            null,
            null,
            null,
            null,
            null,
            null,
            null,
            null,
            null,
            null,
            null,
            null,
            null,
            null,
            null,
            null,
            null,
            null,
            null
           ]
          ]
         },
         "header": {
          "values": [
           "Group",
           "Id",
           "Step",
           "Description"
          ]
         },
         "type": "table"
        },
        {
         "cells": {
          "values": [
           "and water",
           [
            587,
            590,
            623,
            624,
            625,
            631,
            632,
            633,
            637,
            638,
            641,
            646,
            652,
            655,
            658,
            660,
            661,
            662,
            663,
            667,
            668,
            694,
            695,
            696,
            703,
            704,
            705,
            707,
            710,
            712,
            713,
            719,
            720,
            722,
            723,
            724,
            727,
            728,
            729,
            730
           ],
           [
            "Step 2",
            "Step 5",
            "Step 2",
            "Step 3",
            "Step 4",
            "Step 2",
            "Step 3",
            "Step 4",
            "Step 8",
            "Step 9",
            "Step 1",
            "Step 6",
            "Step 1",
            "Step 4",
            "Step 1",
            "Step 3",
            "Step 4",
            "Step 5",
            "Step 1",
            "Step 5",
            "Step 6",
            "Step 2",
            "Step 3",
            "Step 4",
            "Step 1",
            "Step 2",
            "Step 3",
            "Step 5",
            "Step 1",
            "Step 3",
            "Step 4",
            "Step 1",
            "Step 2",
            "Step 4",
            "Step 5",
            "Step 6",
            "Step 2",
            "Step 3",
            "Step 4",
            "Step 5"
           ],
           [
            "Step 2: The dough is rolled out and cut into noodles.",
            "Step 5: The seasoning oil is made by mixing refined palm oil and onion.",
            "2. The dough is then shaped into small, round cookies and baked until crispy.",
            "3. For the strawberry flavor, food acid and color are added to the dough before baking.",
            "4. After baking, the cookies are cooled and filled with a sweet cream filling.",
            "Adding and mixing wet ingredients, such as vegetable oil, fructose syrup, and emulsifiers.",
            "Forming the dough and allowing it to rest.",
            "Sheeting and cutting the dough into round wafers.",
            "Assembling the sandwich cookies by topping the creme-filled wafer with a second wafer.",
            "Cooling and packaging the cookies for distribution.",
            "1. Apples and mangoes are harvested and processed to extract juice",
            "6. The mixture is pasteurized to ensure safety and stability",
            "Step 1: The fruit juices are extracted from pear, apple, pineapple, and passionfruit",
            "Step 4: The mixture is pasteurized to kill any bacteria and extend shelf life",
            "Step 1: Extracting fruit juices and purées from apples, pears, pineapples, oranges, peaches, and passionfruits.",
            "Step 3: Homogenizing the mixture to ensure a consistent texture and even distribution of ingredients.",
            "Step 4: Pasteurizing the mixture to kill any microorganisms and ensure a stable shelf life.",
            "Step 5: Filling the drink into containers, sealing, and cooling for storage and distribution.",
            "Step 1: Extraction of fruit juices from pear, apple, pineapple, orange, peach, and passionfruit",
            "Step 5: Homogenization and pasteurization of the mixture to ensure safety and consistency",
            "Step 6: Filling and sealing of the individual containers",
            "Step 2: Thickeners, egg yolk, gherkins, salt, onion powder, natural colors, preservatives, dill, acidity regulators, and herb extracts are added to the mixture.",
            "Step 3: The mixture is heated to a specific temperature to ensure proper mixing and emulsification.",
            "Step 4: The mixture is cooled and bottled for distribution.",
            "Potatoes are washed, peeled, and sliced into crinkle-cut shapes.",
            "The sliced potatoes are blanched in a mixture of canola and sunflower oils.",
            "The blanched potatoes are then fried in the same oil mixture until they are golden brown and crispy.",
            "The seasoned chips are then cooled and packaged for distribution.",
            "Step 1: Potatoes are washed, peeled, and thinly sliced",
            "Step 3: The potatoes are then fried in a blend of canola and sunflower oils",
            "Step 4: After frying, the chips are seasoned with salt and a mix of antioxidants",
            "Step 1: Fruits (peach and pear) are sorted, washed, and prepared for processing",
            "Step 2: The fruits are chopped and blended to form a puree",
            "Step 4: The mixture is homogenized to ensure even distribution of fruit chunks and juice",
            "Step 5: The product is filled into cups, sealed, and pasteurized for preservation",
            "Step 6: The cups are labeled, packaged, and prepared for distribution",
            "Step 2: Addition of Natural Flavours and Colours - Once the jelly base is prepared, natural flavours and colours are added to give it a tropical flavour and vibrant colour.",
            "Step 3: Acidification - Acidity regulators are added to balance the pH and enhance the flavour of the jelly.",
            "Step 4: Fruit Preparation - Peach and pear pieces are prepared and added to the jelly mixture.",
            "Step 5: Filling and Setting - The mixture is filled into containers and allowed to set in a cool environment."
           ]
          ]
         },
         "header": {
          "values": [
           "Group",
           "Id",
           "Step",
           "Description"
          ]
         },
         "type": "table"
        },
        {
         "cells": {
          "values": [
           "and water, water sugar",
           [
            586,
            589,
            591,
            592,
            622,
            630,
            635,
            653,
            654,
            659,
            665,
            693,
            706,
            721,
            726
           ],
           [
            "Step 1",
            "Step 4",
            "Step 6",
            "Step 7",
            "Step 1",
            "Step 1",
            "Step 6",
            "Step 2",
            "Step 3",
            "Step 2",
            "Step 3",
            "Step 1",
            "Step 4",
            "Step 3",
            "Step 1"
           ],
           [
            "Step 1: The wheat flour is mixed with water to form a dough.",
            "Step 4: The seasoning powder is made by mixing salt, sugar, flavour enhancers, garlic powder, onion powder, yeast extract, artificial flavour, pepper, and anti caking agent.",
            "Step 6: The sweet soy sauce is made by mixing sugar, water, salt, wheat, soy bean, spices, and sesame oil.",
            "Step 7: The chilli sauce is made by mixing chilli, water, sugar, salt, tapioca starch, acidity regulators, herbs, flavour enhancers, flavours, and preservatives.",
            "1. The wheat flour, sugar, vegetable oil, cocoa powder, fructose syrup, cornstarch, salt, raising agents, emulsifier, flavor, antioxidant, minerals, and vitamins are mixed together to form the cookie dough.",
            "Mixing and blending dry ingredients, including wheat flour, sugar, cocoa powder, and raising agents.",
            "Preparing the vanilla creme filling by blending sugar, cornstarch, and other ingredients.",
            "Step 2: The fruit juices are reconstituted with water",
            "Step 3: Sugar, food acids, and vitamin C are added to the mixture",
            "Step 2: Combining the fruit juices and purées with water, sugar, food acids, vitamin C, natural flavors, and pectin.",
            "Step 3: Addition of sugar and food acids (citric acid and potassium citrate) to enhance the flavor and preserve the product",
            "Step 1: Canola oil, water, sugar, and vinegar are mixed together in a large vat.",
            "While the potatoes are still hot, they are seasoned with a mixture of sugar, maltodextrin, salt, tomato powder, flavor enhancers, food acids, onion powder, and garlic powder.",
            "Step 3: The fruit puree is mixed with reconstituted refined juice (made from concentrated pear juice, water, antioxidant (ascorbic acid), and acidity regulator (citric acid))",
            "Step 1: Preparation of Jelly - Water, sugar, and gelling agents are combined and heated to dissolve the sugar and activate the gelling agents."
           ]
          ]
         },
         "header": {
          "values": [
           "Group",
           "Id",
           "Step",
           "Description"
          ]
         },
         "type": "table"
        }
       ],
       "layout": {
        "height": 800,
        "template": {
         "data": {
          "bar": [
           {
            "error_x": {
             "color": "#2a3f5f"
            },
            "error_y": {
             "color": "#2a3f5f"
            },
            "marker": {
             "line": {
              "color": "#E5ECF6",
              "width": 0.5
             },
             "pattern": {
              "fillmode": "overlay",
              "size": 10,
              "solidity": 0.2
             }
            },
            "type": "bar"
           }
          ],
          "barpolar": [
           {
            "marker": {
             "line": {
              "color": "#E5ECF6",
              "width": 0.5
             },
             "pattern": {
              "fillmode": "overlay",
              "size": 10,
              "solidity": 0.2
             }
            },
            "type": "barpolar"
           }
          ],
          "carpet": [
           {
            "aaxis": {
             "endlinecolor": "#2a3f5f",
             "gridcolor": "white",
             "linecolor": "white",
             "minorgridcolor": "white",
             "startlinecolor": "#2a3f5f"
            },
            "baxis": {
             "endlinecolor": "#2a3f5f",
             "gridcolor": "white",
             "linecolor": "white",
             "minorgridcolor": "white",
             "startlinecolor": "#2a3f5f"
            },
            "type": "carpet"
           }
          ],
          "choropleth": [
           {
            "colorbar": {
             "outlinewidth": 0,
             "ticks": ""
            },
            "type": "choropleth"
           }
          ],
          "contour": [
           {
            "colorbar": {
             "outlinewidth": 0,
             "ticks": ""
            },
            "colorscale": [
             [
              0,
              "#0d0887"
             ],
             [
              0.1111111111111111,
              "#46039f"
             ],
             [
              0.2222222222222222,
              "#7201a8"
             ],
             [
              0.3333333333333333,
              "#9c179e"
             ],
             [
              0.4444444444444444,
              "#bd3786"
             ],
             [
              0.5555555555555556,
              "#d8576b"
             ],
             [
              0.6666666666666666,
              "#ed7953"
             ],
             [
              0.7777777777777778,
              "#fb9f3a"
             ],
             [
              0.8888888888888888,
              "#fdca26"
             ],
             [
              1,
              "#f0f921"
             ]
            ],
            "type": "contour"
           }
          ],
          "contourcarpet": [
           {
            "colorbar": {
             "outlinewidth": 0,
             "ticks": ""
            },
            "type": "contourcarpet"
           }
          ],
          "heatmap": [
           {
            "colorbar": {
             "outlinewidth": 0,
             "ticks": ""
            },
            "colorscale": [
             [
              0,
              "#0d0887"
             ],
             [
              0.1111111111111111,
              "#46039f"
             ],
             [
              0.2222222222222222,
              "#7201a8"
             ],
             [
              0.3333333333333333,
              "#9c179e"
             ],
             [
              0.4444444444444444,
              "#bd3786"
             ],
             [
              0.5555555555555556,
              "#d8576b"
             ],
             [
              0.6666666666666666,
              "#ed7953"
             ],
             [
              0.7777777777777778,
              "#fb9f3a"
             ],
             [
              0.8888888888888888,
              "#fdca26"
             ],
             [
              1,
              "#f0f921"
             ]
            ],
            "type": "heatmap"
           }
          ],
          "heatmapgl": [
           {
            "colorbar": {
             "outlinewidth": 0,
             "ticks": ""
            },
            "colorscale": [
             [
              0,
              "#0d0887"
             ],
             [
              0.1111111111111111,
              "#46039f"
             ],
             [
              0.2222222222222222,
              "#7201a8"
             ],
             [
              0.3333333333333333,
              "#9c179e"
             ],
             [
              0.4444444444444444,
              "#bd3786"
             ],
             [
              0.5555555555555556,
              "#d8576b"
             ],
             [
              0.6666666666666666,
              "#ed7953"
             ],
             [
              0.7777777777777778,
              "#fb9f3a"
             ],
             [
              0.8888888888888888,
              "#fdca26"
             ],
             [
              1,
              "#f0f921"
             ]
            ],
            "type": "heatmapgl"
           }
          ],
          "histogram": [
           {
            "marker": {
             "pattern": {
              "fillmode": "overlay",
              "size": 10,
              "solidity": 0.2
             }
            },
            "type": "histogram"
           }
          ],
          "histogram2d": [
           {
            "colorbar": {
             "outlinewidth": 0,
             "ticks": ""
            },
            "colorscale": [
             [
              0,
              "#0d0887"
             ],
             [
              0.1111111111111111,
              "#46039f"
             ],
             [
              0.2222222222222222,
              "#7201a8"
             ],
             [
              0.3333333333333333,
              "#9c179e"
             ],
             [
              0.4444444444444444,
              "#bd3786"
             ],
             [
              0.5555555555555556,
              "#d8576b"
             ],
             [
              0.6666666666666666,
              "#ed7953"
             ],
             [
              0.7777777777777778,
              "#fb9f3a"
             ],
             [
              0.8888888888888888,
              "#fdca26"
             ],
             [
              1,
              "#f0f921"
             ]
            ],
            "type": "histogram2d"
           }
          ],
          "histogram2dcontour": [
           {
            "colorbar": {
             "outlinewidth": 0,
             "ticks": ""
            },
            "colorscale": [
             [
              0,
              "#0d0887"
             ],
             [
              0.1111111111111111,
              "#46039f"
             ],
             [
              0.2222222222222222,
              "#7201a8"
             ],
             [
              0.3333333333333333,
              "#9c179e"
             ],
             [
              0.4444444444444444,
              "#bd3786"
             ],
             [
              0.5555555555555556,
              "#d8576b"
             ],
             [
              0.6666666666666666,
              "#ed7953"
             ],
             [
              0.7777777777777778,
              "#fb9f3a"
             ],
             [
              0.8888888888888888,
              "#fdca26"
             ],
             [
              1,
              "#f0f921"
             ]
            ],
            "type": "histogram2dcontour"
           }
          ],
          "mesh3d": [
           {
            "colorbar": {
             "outlinewidth": 0,
             "ticks": ""
            },
            "type": "mesh3d"
           }
          ],
          "parcoords": [
           {
            "line": {
             "colorbar": {
              "outlinewidth": 0,
              "ticks": ""
             }
            },
            "type": "parcoords"
           }
          ],
          "pie": [
           {
            "automargin": true,
            "type": "pie"
           }
          ],
          "scatter": [
           {
            "fillpattern": {
             "fillmode": "overlay",
             "size": 10,
             "solidity": 0.2
            },
            "type": "scatter"
           }
          ],
          "scatter3d": [
           {
            "line": {
             "colorbar": {
              "outlinewidth": 0,
              "ticks": ""
             }
            },
            "marker": {
             "colorbar": {
              "outlinewidth": 0,
              "ticks": ""
             }
            },
            "type": "scatter3d"
           }
          ],
          "scattercarpet": [
           {
            "marker": {
             "colorbar": {
              "outlinewidth": 0,
              "ticks": ""
             }
            },
            "type": "scattercarpet"
           }
          ],
          "scattergeo": [
           {
            "marker": {
             "colorbar": {
              "outlinewidth": 0,
              "ticks": ""
             }
            },
            "type": "scattergeo"
           }
          ],
          "scattergl": [
           {
            "marker": {
             "colorbar": {
              "outlinewidth": 0,
              "ticks": ""
             }
            },
            "type": "scattergl"
           }
          ],
          "scattermapbox": [
           {
            "marker": {
             "colorbar": {
              "outlinewidth": 0,
              "ticks": ""
             }
            },
            "type": "scattermapbox"
           }
          ],
          "scatterpolar": [
           {
            "marker": {
             "colorbar": {
              "outlinewidth": 0,
              "ticks": ""
             }
            },
            "type": "scatterpolar"
           }
          ],
          "scatterpolargl": [
           {
            "marker": {
             "colorbar": {
              "outlinewidth": 0,
              "ticks": ""
             }
            },
            "type": "scatterpolargl"
           }
          ],
          "scatterternary": [
           {
            "marker": {
             "colorbar": {
              "outlinewidth": 0,
              "ticks": ""
             }
            },
            "type": "scatterternary"
           }
          ],
          "surface": [
           {
            "colorbar": {
             "outlinewidth": 0,
             "ticks": ""
            },
            "colorscale": [
             [
              0,
              "#0d0887"
             ],
             [
              0.1111111111111111,
              "#46039f"
             ],
             [
              0.2222222222222222,
              "#7201a8"
             ],
             [
              0.3333333333333333,
              "#9c179e"
             ],
             [
              0.4444444444444444,
              "#bd3786"
             ],
             [
              0.5555555555555556,
              "#d8576b"
             ],
             [
              0.6666666666666666,
              "#ed7953"
             ],
             [
              0.7777777777777778,
              "#fb9f3a"
             ],
             [
              0.8888888888888888,
              "#fdca26"
             ],
             [
              1,
              "#f0f921"
             ]
            ],
            "type": "surface"
           }
          ],
          "table": [
           {
            "cells": {
             "fill": {
              "color": "#EBF0F8"
             },
             "line": {
              "color": "white"
             }
            },
            "header": {
             "fill": {
              "color": "#C8D4E3"
             },
             "line": {
              "color": "white"
             }
            },
            "type": "table"
           }
          ]
         },
         "layout": {
          "annotationdefaults": {
           "arrowcolor": "#2a3f5f",
           "arrowhead": 0,
           "arrowwidth": 1
          },
          "autotypenumbers": "strict",
          "coloraxis": {
           "colorbar": {
            "outlinewidth": 0,
            "ticks": ""
           }
          },
          "colorscale": {
           "diverging": [
            [
             0,
             "#8e0152"
            ],
            [
             0.1,
             "#c51b7d"
            ],
            [
             0.2,
             "#de77ae"
            ],
            [
             0.3,
             "#f1b6da"
            ],
            [
             0.4,
             "#fde0ef"
            ],
            [
             0.5,
             "#f7f7f7"
            ],
            [
             0.6,
             "#e6f5d0"
            ],
            [
             0.7,
             "#b8e186"
            ],
            [
             0.8,
             "#7fbc41"
            ],
            [
             0.9,
             "#4d9221"
            ],
            [
             1,
             "#276419"
            ]
           ],
           "sequential": [
            [
             0,
             "#0d0887"
            ],
            [
             0.1111111111111111,
             "#46039f"
            ],
            [
             0.2222222222222222,
             "#7201a8"
            ],
            [
             0.3333333333333333,
             "#9c179e"
            ],
            [
             0.4444444444444444,
             "#bd3786"
            ],
            [
             0.5555555555555556,
             "#d8576b"
            ],
            [
             0.6666666666666666,
             "#ed7953"
            ],
            [
             0.7777777777777778,
             "#fb9f3a"
            ],
            [
             0.8888888888888888,
             "#fdca26"
            ],
            [
             1,
             "#f0f921"
            ]
           ],
           "sequentialminus": [
            [
             0,
             "#0d0887"
            ],
            [
             0.1111111111111111,
             "#46039f"
            ],
            [
             0.2222222222222222,
             "#7201a8"
            ],
            [
             0.3333333333333333,
             "#9c179e"
            ],
            [
             0.4444444444444444,
             "#bd3786"
            ],
            [
             0.5555555555555556,
             "#d8576b"
            ],
            [
             0.6666666666666666,
             "#ed7953"
            ],
            [
             0.7777777777777778,
             "#fb9f3a"
            ],
            [
             0.8888888888888888,
             "#fdca26"
            ],
            [
             1,
             "#f0f921"
            ]
           ]
          },
          "colorway": [
           "#636efa",
           "#EF553B",
           "#00cc96",
           "#ab63fa",
           "#FFA15A",
           "#19d3f3",
           "#FF6692",
           "#B6E880",
           "#FF97FF",
           "#FECB52"
          ],
          "font": {
           "color": "#2a3f5f"
          },
          "geo": {
           "bgcolor": "white",
           "lakecolor": "white",
           "landcolor": "#E5ECF6",
           "showlakes": true,
           "showland": true,
           "subunitcolor": "white"
          },
          "hoverlabel": {
           "align": "left"
          },
          "hovermode": "closest",
          "mapbox": {
           "style": "light"
          },
          "paper_bgcolor": "white",
          "plot_bgcolor": "#E5ECF6",
          "polar": {
           "angularaxis": {
            "gridcolor": "white",
            "linecolor": "white",
            "ticks": ""
           },
           "bgcolor": "#E5ECF6",
           "radialaxis": {
            "gridcolor": "white",
            "linecolor": "white",
            "ticks": ""
           }
          },
          "scene": {
           "xaxis": {
            "backgroundcolor": "#E5ECF6",
            "gridcolor": "white",
            "gridwidth": 2,
            "linecolor": "white",
            "showbackground": true,
            "ticks": "",
            "zerolinecolor": "white"
           },
           "yaxis": {
            "backgroundcolor": "#E5ECF6",
            "gridcolor": "white",
            "gridwidth": 2,
            "linecolor": "white",
            "showbackground": true,
            "ticks": "",
            "zerolinecolor": "white"
           },
           "zaxis": {
            "backgroundcolor": "#E5ECF6",
            "gridcolor": "white",
            "gridwidth": 2,
            "linecolor": "white",
            "showbackground": true,
            "ticks": "",
            "zerolinecolor": "white"
           }
          },
          "shapedefaults": {
           "line": {
            "color": "#2a3f5f"
           }
          },
          "ternary": {
           "aaxis": {
            "gridcolor": "white",
            "linecolor": "white",
            "ticks": ""
           },
           "baxis": {
            "gridcolor": "white",
            "linecolor": "white",
            "ticks": ""
           },
           "bgcolor": "#E5ECF6",
           "caxis": {
            "gridcolor": "white",
            "linecolor": "white",
            "ticks": ""
           }
          },
          "title": {
           "x": 0.05
          },
          "xaxis": {
           "automargin": true,
           "gridcolor": "white",
           "linecolor": "white",
           "ticks": "",
           "title": {
            "standoff": 15
           },
           "zerolinecolor": "white",
           "zerolinewidth": 2
          },
          "yaxis": {
           "automargin": true,
           "gridcolor": "white",
           "linecolor": "white",
           "ticks": "",
           "title": {
            "standoff": 15
           },
           "zerolinecolor": "white",
           "zerolinewidth": 2
          }
         }
        },
        "title": {
         "text": "ManufacturingProcess Grouped by Keyword Combinations"
        }
       }
      }
     },
     "metadata": {},
     "output_type": "display_data"
    }
   ],
   "source": [
    "import pandas as pd\n",
    "import plotly.graph_objects as go\n",
    "\n",
    "\n",
    "query = \"\"\"\n",
    "MATCH (ir:ManufacturingProcess)\n",
    "RETURN id(ir) AS ManufacturingProcessId, ir.Step AS ManufacturingProcessstep, ir.Description AS ManufacturingProcessdes\n",
    "\"\"\"\n",
    "\n",
    "with driver.session() as session:\n",
    "    result = session.run(query)\n",
    "    neo4j_data = [record.data() for record in result]\n",
    "\n",
    "\n",
    "df = pd.DataFrame(neo4j_data)\n",
    "\n",
    "\n",
    "id_col = df.columns[df.columns.str.contains('ManufacturingProcessId', case=False)][0]\n",
    "step_col = df.columns[df.columns.str.contains('ManufacturingProcessstep', case=False)][0]\n",
    "desc_col = df.columns[df.columns.str.contains('ManufacturingProcessdes', case=False)][0]\n",
    "df.rename(columns={id_col: 'Id', step_col: 'Step', desc_col: 'Description'}, inplace=True)\n",
    "\n",
    "\n",
    "keyword_groups = [['and', 'water'], ['water', 'sugar']]\n",
    "\n",
    "\n",
    "grouped = df.groupby(df['Description'].apply(lambda x: ', '.join(sorted([' '.join(group) for group in keyword_groups if any(kw.lower() in str(x).lower() for kw in group)])) if pd.notnull(x) else ''))\n",
    "\n",
    "\n",
    "fig_data = []\n",
    "for group_name, group in grouped:\n",
    "    group_trace = go.Table(\n",
    "        header=dict(values=['Group', 'Id', 'Step', 'Description']),\n",
    "        cells=dict(values=[group_name, group['Id'], group['Step'], group['Description']])\n",
    "    )\n",
    "    fig_data.append(group_trace)\n",
    "\n",
    "\n",
    "fig_layout = go.Layout(\n",
    "    title='ManufacturingProcess Grouped by Keyword Combinations',\n",
    "    height=800\n",
    ")\n",
    "\n",
    "\n",
    "fig = go.Figure(data=fig_data, layout=fig_layout)\n",
    "\n",
    "\n",
    "fig.show()"
   ]
  },
  {
   "cell_type": "code",
   "execution_count": 13,
   "metadata": {},
   "outputs": [
    {
     "data": {
      "application/vnd.plotly.v1+json": {
       "config": {
        "plotlyServerURL": "https://plot.ly"
       },
       "data": [
        {
         "cells": {
          "values": [
           "",
           [
            582,
            583,
            584,
            585,
            587,
            588,
            590,
            593,
            594,
            595,
            596,
            597,
            598,
            599,
            600,
            601,
            602,
            603,
            604,
            605,
            606,
            607,
            608,
            609,
            610,
            611,
            612,
            613,
            614,
            615,
            616,
            617,
            618,
            619,
            620,
            621,
            623,
            624,
            625,
            626,
            627,
            628,
            629,
            631,
            632,
            633,
            634,
            636,
            637,
            638,
            639,
            640,
            641,
            642,
            643,
            644,
            645,
            646,
            647,
            648,
            649,
            650,
            651,
            652,
            655,
            656,
            657,
            658,
            660,
            661,
            662,
            663,
            664,
            666,
            667,
            668,
            669,
            670,
            671,
            672,
            673,
            674,
            675,
            676,
            677,
            678,
            679,
            680,
            681,
            682,
            683,
            684,
            685,
            686,
            687,
            688,
            689,
            690,
            691,
            692,
            694,
            695,
            696,
            697,
            698,
            699,
            700,
            701,
            702,
            703,
            704,
            705,
            707,
            708,
            709,
            710,
            711,
            712,
            713,
            714,
            715,
            716,
            717,
            718,
            719,
            720,
            722,
            723,
            724,
            725,
            727,
            728,
            729,
            730,
            731,
            732,
            733,
            734,
            735,
            2155,
            2159,
            2163,
            2166,
            2169,
            2172,
            2175,
            2178,
            2182,
            2185,
            2192,
            2199,
            2204,
            2208,
            2212,
            2215,
            2218,
            2222,
            2227,
            2232,
            2235,
            2239,
            2246,
            2253,
            2259,
            2262,
            2265,
            2269,
            2272,
            2282,
            2286,
            2290,
            2295,
            2300,
            2304,
            2310,
            2315,
            2319,
            2324,
            2329,
            2335,
            2338,
            2341,
            2344,
            2349,
            2352,
            2356,
            2359,
            2363,
            2366,
            2369,
            2373,
            2379,
            2384,
            2389,
            2394,
            2399,
            2405,
            2411,
            2415,
            2421,
            2428,
            2433,
            2439,
            2446,
            2451,
            2458,
            2461,
            2469,
            2476,
            2479,
            2483,
            2489,
            2494,
            2499,
            2503,
            2506,
            2509,
            2514,
            2517,
            2520,
            2523,
            2527,
            2533,
            2537,
            2543,
            2546,
            2550,
            2556,
            2559,
            2565,
            2570,
            2576,
            2581,
            2586,
            2590,
            2593,
            2597,
            2604,
            2609,
            2612,
            2617,
            2622,
            2625,
            2630,
            2635,
            2642,
            2646,
            2652,
            2657,
            2663,
            2670,
            2673,
            2677,
            2684,
            2695,
            2700,
            2706,
            2711,
            2719,
            2724,
            2729,
            2734,
            2739,
            2745,
            2750,
            2754,
            2759,
            2763,
            2769,
            2774,
            2780,
            2785,
            2793,
            2796,
            2802,
            2805,
            2809,
            2813,
            2818,
            2821,
            2825,
            2828,
            2848,
            2851,
            2856,
            2861,
            2866,
            2875,
            2880,
            2883,
            2887,
            2891,
            2897,
            2901,
            2908,
            2912,
            2919,
            2922,
            2925,
            2928,
            2931,
            2937,
            2943,
            2950,
            2953,
            2959,
            2962,
            2966,
            2969,
            2976,
            2981,
            2987,
            2991,
            2998,
            3001,
            3006,
            3009,
            3016,
            3025,
            3028,
            3033,
            3036,
            3039,
            3042,
            3044,
            3047,
            3050,
            3054,
            3060,
            3065,
            3075,
            3080,
            3085,
            3090,
            3108,
            3113,
            3118,
            3123,
            3127,
            3131,
            3139,
            3145,
            3150,
            3156,
            3163,
            3167,
            3172,
            3177,
            3180,
            3183,
            3187,
            3196,
            3202,
            3210,
            3215,
            3221,
            3227,
            3231,
            3246,
            3252,
            3259,
            3265,
            3271,
            3279,
            3282,
            3284,
            3289,
            3295,
            3307,
            3311,
            3317,
            3322,
            3329,
            3337,
            3346,
            3353,
            3356,
            3368,
            3371,
            3374,
            3378,
            3382,
            3387,
            3392,
            3396,
            3401,
            3406,
            3410,
            3417,
            3424,
            3429,
            3434,
            3437,
            3443,
            3450,
            3455,
            3459,
            3464,
            3471,
            3478,
            3485,
            3492,
            3497,
            3504,
            3518,
            3522,
            3528,
            3534,
            3539,
            3547,
            3551,
            3559,
            3562,
            3565,
            3574,
            3579,
            3582,
            3585,
            3590,
            3603,
            3618,
            3621,
            3626,
            3636,
            3643,
            3650,
            3667,
            10819,
            10820,
            10823,
            10824,
            10827,
            10828,
            10832,
            10834,
            10837,
            10839,
            10840,
            10844,
            10847,
            10850,
            10851,
            10853,
            10856,
            10857,
            10860,
            10864,
            10866,
            10867,
            10870,
            10875,
            10878,
            10879,
            10882,
            10885,
            10887,
            10888,
            10891,
            10892,
            10895,
            10897,
            10898,
            10901,
            10902,
            10905,
            10906,
            10909,
            10911,
            10913,
            10915,
            10916,
            10921,
            10923,
            10926,
            10929,
            10932,
            10936,
            10937,
            10940,
            10943,
            10945,
            10948,
            10949,
            10952,
            10953,
            10956,
            10957,
            10960,
            10961,
            10963,
            10971,
            10975,
            10981,
            10982,
            10988,
            10989,
            10996,
            10997,
            11001,
            11004,
            11005,
            11008,
            11009,
            11013,
            11014,
            11018,
            11019,
            11022,
            11023,
            11026,
            11027,
            11029,
            11032,
            11035,
            11036,
            11040,
            11041,
            11044,
            11045,
            11048,
            11049,
            11052,
            11053,
            11056,
            11060,
            11061,
            11064,
            11065,
            11068,
            11071,
            11072,
            11074,
            11075,
            11078,
            11079,
            11083,
            11084,
            11088,
            11090,
            11092,
            11095,
            11096,
            11099,
            11100,
            11103,
            11104,
            11107,
            11111,
            11113,
            11116,
            11118,
            11119,
            11123,
            11124,
            11127,
            11128,
            11131,
            11133,
            11135,
            11136,
            11139,
            11140,
            11144,
            11151,
            11152,
            11154,
            11158,
            11162,
            11165,
            11166,
            11170,
            11174,
            11175,
            11180,
            11181,
            11184,
            11185,
            11188,
            11190,
            11192,
            11195,
            11197,
            11198,
            11201,
            11204,
            11205,
            11208,
            11209,
            11211,
            11214,
            11215,
            11218,
            11220,
            11221,
            11224,
            11227,
            11228,
            11232,
            11234,
            11235,
            11237,
            11240,
            11241,
            11244,
            11247,
            11249,
            11252,
            11254,
            11255,
            11258,
            11259,
            11260,
            11262,
            11263,
            11267,
            11268,
            11272,
            11274,
            11277,
            11280,
            11282,
            11283,
            11285,
            11288,
            11290,
            11291,
            11295,
            11296,
            11299,
            11300,
            11303,
            11304,
            11309,
            11312,
            11313,
            11316,
            11317,
            11318,
            11321,
            11323,
            11324,
            11327,
            11328,
            11332,
            11335,
            11336,
            11339,
            11340,
            11343,
            11344,
            11347,
            11348,
            11351,
            11354,
            11355,
            11358,
            11362,
            11366,
            11370,
            11372,
            11376,
            11378,
            11379,
            11382,
            11383,
            11386,
            11387,
            11391,
            11396,
            11399,
            11401,
            11404,
            11405,
            11407,
            11408,
            11411,
            11414,
            11415,
            11417,
            11420,
            11425,
            11428,
            11429,
            11434,
            11440,
            11442,
            11447,
            11450,
            11452,
            11453,
            11456,
            11457,
            11460,
            11461,
            11464,
            11466,
            11467,
            11469,
            11472,
            11473,
            11474,
            11476,
            11478,
            11481,
            11483,
            11484,
            11489,
            11493,
            11496,
            11500,
            11502,
            11503,
            11506,
            11507,
            11510,
            11511,
            11514,
            11515,
            11517,
            11520,
            11522,
            11525,
            11528,
            11530,
            11531,
            11534,
            11540,
            11541,
            11544,
            11545,
            11548,
            11550,
            11551,
            11555,
            11557,
            11559,
            11560,
            11563,
            11565,
            11567,
            11570,
            11571,
            11574,
            11575,
            11578,
            11581,
            11584,
            11585,
            11588,
            11589,
            11592,
            11593,
            11600,
            11601,
            11603,
            11607,
            11608,
            11611,
            11614,
            11615,
            11618,
            11619,
            11622,
            11623,
            11627,
            11630,
            11631,
            11634,
            11635,
            11636,
            11637,
            11640,
            11642,
            11646,
            11648,
            11649,
            11653,
            11656,
            11659,
            11660,
            11663,
            11664,
            11667,
            11668,
            11673,
            11676,
            11677,
            11679,
            11683,
            11686,
            11688,
            11691,
            11692,
            11697,
            11698,
            11701,
            11703,
            11705,
            11707,
            11708,
            11710,
            11711,
            11715,
            11717,
            11718,
            11721,
            11722,
            11725,
            11726,
            11729,
            11730,
            11733,
            11734,
            11737,
            11739,
            11740,
            11744,
            11745,
            11749,
            11750,
            11754,
            11755,
            11758,
            11759,
            11761,
            11765,
            11766,
            11771,
            11772,
            11775,
            11778,
            11779,
            11782,
            11784,
            11789,
            11790,
            11794,
            11795,
            11798,
            11799,
            11803,
            11804,
            11808,
            11809,
            11812,
            11813,
            11816,
            11818,
            11820,
            11823,
            11824,
            11827,
            11828,
            11831,
            11832,
            11835,
            11836,
            11840,
            11844,
            11845,
            11848,
            11853,
            11856,
            11857,
            11860,
            11861,
            11864,
            11865,
            11868,
            11872,
            11875,
            11876,
            11882,
            11883,
            11886,
            11887,
            11889,
            11892,
            11893,
            11897,
            11898,
            11901,
            11903,
            11904,
            11907,
            11911,
            11912,
            11915,
            11916,
            11919
           ],
           [
            null,
            null,
            null,
            null,
            "Step 2",
            "Step 3",
            "Step 5",
            "Step 8",
            null,
            null,
            null,
            null,
            null,
            null,
            null,
            null,
            null,
            null,
            null,
            null,
            null,
            null,
            null,
            null,
            null,
            null,
            null,
            null,
            null,
            null,
            null,
            null,
            null,
            null,
            null,
            null,
            "Step 2",
            "Step 3",
            "Step 4",
            "Step 5",
            null,
            null,
            null,
            "Step 2",
            "Step 3",
            "Step 4",
            "Step 5",
            "Step 7",
            "Step 8",
            "Step 9",
            null,
            null,
            "Step 1",
            "Step 2",
            "Step 3",
            "Step 4",
            "Step 5",
            "Step 6",
            "Step 7",
            null,
            null,
            null,
            null,
            "Step 1",
            "Step 4",
            "Step 5",
            null,
            "Step 1",
            "Step 3",
            "Step 4",
            "Step 5",
            "Step 1",
            "Step 2",
            "Step 4",
            "Step 5",
            "Step 6",
            "Step 7",
            null,
            null,
            null,
            null,
            null,
            null,
            null,
            null,
            null,
            null,
            null,
            null,
            null,
            null,
            null,
            null,
            null,
            null,
            null,
            null,
            null,
            null,
            null,
            "Step 2",
            "Step 3",
            "Step 4",
            null,
            null,
            null,
            null,
            null,
            null,
            "Step 1",
            "Step 2",
            "Step 3",
            "Step 5",
            null,
            null,
            "Step 1",
            "Step 2",
            "Step 3",
            "Step 4",
            "Step 5",
            null,
            null,
            null,
            null,
            "Step 1",
            "Step 2",
            "Step 4",
            "Step 5",
            "Step 6",
            null,
            "Step 2",
            "Step 3",
            "Step 4",
            "Step 5",
            null,
            null,
            null,
            null,
            null,
            null,
            null,
            null,
            null,
            null,
            null,
            null,
            null,
            null,
            null,
            null,
            null,
            null,
            null,
            null,
            null,
            null,
            null,
            null,
            null,
            null,
            null,
            null,
            null,
            null,
            null,
            null,
            null,
            null,
            null,
            null,
            null,
            null,
            null,
            null,
            null,
            null,
            null,
            null,
            null,
            null,
            null,
            null,
            null,
            null,
            null,
            null,
            null,
            null,
            null,
            null,
            null,
            null,
            null,
            null,
            null,
            null,
            null,
            null,
            null,
            null,
            null,
            null,
            null,
            null,
            null,
            null,
            null,
            null,
            null,
            null,
            null,
            null,
            null,
            null,
            null,
            null,
            null,
            null,
            null,
            null,
            null,
            null,
            null,
            null,
            null,
            null,
            null,
            null,
            null,
            null,
            null,
            null,
            null,
            null,
            null,
            null,
            null,
            null,
            null,
            null,
            null,
            null,
            null,
            null,
            null,
            null,
            null,
            null,
            null,
            null,
            null,
            null,
            null,
            null,
            null,
            null,
            null,
            null,
            null,
            null,
            null,
            null,
            null,
            null,
            null,
            null,
            null,
            null,
            null,
            null,
            null,
            null,
            null,
            null,
            null,
            null,
            null,
            null,
            null,
            null,
            null,
            null,
            null,
            null,
            null,
            null,
            null,
            null,
            null,
            null,
            null,
            null,
            null,
            null,
            null,
            null,
            null,
            null,
            null,
            null,
            null,
            null,
            null,
            null,
            null,
            null,
            null,
            null,
            null,
            null,
            null,
            null,
            null,
            null,
            null,
            null,
            null,
            null,
            null,
            null,
            null,
            null,
            null,
            null,
            null,
            null,
            null,
            null,
            null,
            null,
            null,
            null,
            null,
            null,
            null,
            null,
            null,
            null,
            null,
            null,
            null,
            null,
            null,
            null,
            null,
            null,
            null,
            null,
            null,
            null,
            null,
            null,
            null,
            null,
            null,
            null,
            null,
            null,
            null,
            null,
            null,
            null,
            null,
            null,
            null,
            null,
            null,
            null,
            null,
            null,
            null,
            null,
            null,
            null,
            null,
            null,
            null,
            null,
            null,
            null,
            null,
            null,
            null,
            null,
            null,
            null,
            null,
            null,
            null,
            null,
            null,
            null,
            null,
            null,
            null,
            null,
            null,
            null,
            null,
            null,
            null,
            null,
            null,
            null,
            null,
            null,
            null,
            null,
            null,
            null,
            null,
            null,
            null,
            null,
            null,
            null,
            null,
            null,
            null,
            null,
            null,
            null,
            null,
            null,
            null,
            null,
            null,
            null,
            null,
            null,
            null,
            null,
            null,
            null,
            null,
            null,
            null,
            null,
            null,
            null,
            null,
            null,
            null,
            null,
            null,
            null,
            null,
            null,
            null,
            null,
            null,
            null,
            null,
            null,
            null,
            null,
            null,
            null,
            null,
            null,
            null,
            null,
            null,
            null,
            null,
            null,
            null,
            null,
            null,
            null,
            null,
            null,
            null,
            null,
            null,
            null,
            null,
            null,
            null,
            null,
            null,
            null,
            null,
            null,
            null,
            null,
            null,
            null,
            null,
            null,
            null,
            null,
            null,
            null,
            null,
            null,
            null,
            null,
            null,
            null,
            null,
            null,
            null,
            null,
            null,
            null,
            null,
            null,
            null,
            null,
            null,
            null,
            null,
            null,
            null,
            null,
            null,
            null,
            null,
            null,
            null,
            null,
            null,
            null,
            null,
            null,
            null,
            null,
            null,
            null,
            null,
            null,
            null,
            null,
            null,
            null,
            null,
            null,
            null,
            null,
            null,
            null,
            null,
            null,
            null,
            null,
            null,
            null,
            null,
            null,
            null,
            null,
            null,
            null,
            null,
            null,
            null,
            null,
            null,
            null,
            null,
            null,
            null,
            null,
            null,
            null,
            null,
            null,
            null,
            null,
            null,
            null,
            null,
            null,
            null,
            null,
            null,
            null,
            null,
            null,
            null,
            null,
            null,
            null,
            null,
            null,
            null,
            null,
            null,
            null,
            null,
            null,
            null,
            null,
            null,
            null,
            null,
            null,
            null,
            null,
            null,
            null,
            null,
            null,
            null,
            null,
            null,
            null,
            null,
            null,
            null,
            null,
            null,
            null,
            null,
            null,
            null,
            null,
            null,
            null,
            null,
            null,
            null,
            null,
            null,
            null,
            null,
            null,
            null,
            null,
            null,
            null,
            null,
            null,
            null,
            null,
            null,
            null,
            null,
            null,
            null,
            null,
            null,
            null,
            null,
            null,
            null,
            null,
            null,
            null,
            null,
            null,
            null,
            null,
            null,
            null,
            null,
            null,
            null,
            null,
            null,
            null,
            null,
            null,
            null,
            null,
            null,
            null,
            null,
            null,
            null,
            null,
            null,
            null,
            null,
            null,
            null,
            null,
            null,
            null,
            null,
            null,
            null,
            null,
            null,
            null,
            null,
            null,
            null,
            null,
            null,
            null,
            null,
            null,
            null,
            null,
            null,
            null,
            null,
            null,
            null,
            null,
            null,
            null,
            null,
            null,
            null,
            null,
            null,
            null,
            null,
            null,
            null,
            null,
            null,
            null,
            null,
            null,
            null,
            null,
            null,
            null,
            null,
            null,
            null,
            null,
            null,
            null,
            null,
            null,
            null,
            null,
            null,
            null,
            null,
            null,
            null,
            null,
            null,
            null,
            null,
            null,
            null,
            null,
            null,
            null,
            null,
            null,
            null,
            null,
            null,
            null,
            null,
            null,
            null,
            null,
            null,
            null,
            null,
            null,
            null,
            null,
            null,
            null,
            null,
            null,
            null,
            null,
            null,
            null,
            null,
            null,
            null,
            null,
            null,
            null,
            null,
            null,
            null,
            null,
            null,
            null,
            null,
            null,
            null,
            null,
            null,
            null,
            null,
            null,
            null,
            null,
            null,
            null,
            null,
            null,
            null,
            null,
            null,
            null,
            null,
            null,
            null,
            null,
            null,
            null,
            null,
            null,
            null,
            null,
            null,
            null,
            null,
            null,
            null,
            null,
            null,
            null,
            null,
            null,
            null,
            null,
            null,
            null,
            null,
            null,
            null,
            null,
            null,
            null,
            null,
            null,
            null,
            null,
            null,
            null,
            null,
            null,
            null,
            null,
            null,
            null,
            null,
            null,
            null,
            null,
            null,
            null,
            null,
            null,
            null,
            null,
            null,
            null,
            null,
            null,
            null,
            null,
            null,
            null,
            null,
            null,
            null,
            null,
            null,
            null,
            null,
            null,
            null,
            null,
            null,
            null,
            null,
            null,
            null,
            null,
            null,
            null,
            null,
            null,
            null,
            null,
            null,
            null,
            null,
            null,
            null,
            null,
            null,
            null
           ],
           [
            null,
            null,
            null,
            null,
            "Step 2: The dough is rolled out and cut into noodles.",
            "Step 3: The noodles are fried in refined palm oil.",
            "Step 5: The seasoning oil is made by mixing refined palm oil and onion.",
            "Step 8: The fried onion is made by frying onion in refined palm oil.",
            null,
            null,
            null,
            null,
            null,
            null,
            null,
            null,
            null,
            null,
            null,
            null,
            null,
            null,
            null,
            null,
            null,
            null,
            null,
            null,
            null,
            null,
            null,
            null,
            null,
            null,
            null,
            null,
            "2. The dough is then shaped into small, round cookies and baked until crispy.",
            "3. For the strawberry flavor, food acid and color are added to the dough before baking.",
            "4. After baking, the cookies are cooled and filled with a sweet cream filling.",
            "5. The cookies are then packaged into bags of 18 packs.",
            null,
            null,
            null,
            "Adding and mixing wet ingredients, such as vegetable oil, fructose syrup, and emulsifiers.",
            "Forming the dough and allowing it to rest.",
            "Sheeting and cutting the dough into round wafers.",
            "Baking the wafers at controlled temperatures.",
            "Piping or spreading the creme filling onto one wafer.",
            "Assembling the sandwich cookies by topping the creme-filled wafer with a second wafer.",
            "Cooling and packaging the cookies for distribution.",
            null,
            null,
            "1. Apples and mangoes are harvested and processed to extract juice",
            "2. The juices are reconstituted to specific concentrations (95.8% apple juice, 4.0% mango juice)",
            "3. Citric acid is added to regulate acidity",
            "4. Vitamin C is added for fortification",
            "5. Natural flavours are introduced to enhance taste",
            "6. The mixture is pasteurized to ensure safety and stability",
            "7. The juice is packaged in aseptic containers for distribution",
            null,
            null,
            null,
            null,
            "Step 1: The fruit juices are extracted from pear, apple, pineapple, and passionfruit",
            "Step 4: The mixture is pasteurized to kill any bacteria and extend shelf life",
            "Step 5: The beverage is packaged in aseptic containers to maintain freshness",
            null,
            "Step 1: Extracting fruit juices and purées from apples, pears, pineapples, oranges, peaches, and passionfruits.",
            "Step 3: Homogenizing the mixture to ensure a consistent texture and even distribution of ingredients.",
            "Step 4: Pasteurizing the mixture to kill any microorganisms and ensure a stable shelf life.",
            "Step 5: Filling the drink into containers, sealing, and cooling for storage and distribution.",
            "Step 1: Extraction of fruit juices from pear, apple, pineapple, orange, peach, and passionfruit",
            "Step 2: Blending of the fruit juices to create the tropical punch flavor",
            "Step 4: Incorporation of natural flavors to enhance the fruit taste",
            "Step 5: Homogenization and pasteurization of the mixture to ensure safety and consistency",
            "Step 6: Filling and sealing of the individual containers",
            "Step 7: Packing the individual containers into multipacks",
            null,
            null,
            null,
            null,
            null,
            null,
            null,
            null,
            null,
            null,
            null,
            null,
            null,
            null,
            null,
            null,
            null,
            null,
            null,
            null,
            null,
            null,
            null,
            "Step 2: Thickeners, egg yolk, gherkins, salt, onion powder, natural colors, preservatives, dill, acidity regulators, and herb extracts are added to the mixture.",
            "Step 3: The mixture is heated to a specific temperature to ensure proper mixing and emulsification.",
            "Step 4: The mixture is cooled and bottled for distribution.",
            null,
            null,
            null,
            null,
            null,
            null,
            "Potatoes are washed, peeled, and sliced into crinkle-cut shapes.",
            "The sliced potatoes are blanched in a mixture of canola and sunflower oils.",
            "The blanched potatoes are then fried in the same oil mixture until they are golden brown and crispy.",
            "The seasoned chips are then cooled and packaged for distribution.",
            null,
            null,
            "Step 1: Potatoes are washed, peeled, and thinly sliced",
            "Step 2: The sliced potatoes are blanched to remove excess starch",
            "Step 3: The potatoes are then fried in a blend of canola and sunflower oils",
            "Step 4: After frying, the chips are seasoned with salt and a mix of antioxidants",
            "Step 5: The chips are packaged in a share pack for consumption",
            null,
            null,
            null,
            null,
            "Step 1: Fruits (peach and pear) are sorted, washed, and prepared for processing",
            "Step 2: The fruits are chopped and blended to form a puree",
            "Step 4: The mixture is homogenized to ensure even distribution of fruit chunks and juice",
            "Step 5: The product is filled into cups, sealed, and pasteurized for preservation",
            "Step 6: The cups are labeled, packaged, and prepared for distribution",
            null,
            "Step 2: Addition of Natural Flavours and Colours - Once the jelly base is prepared, natural flavours and colours are added to give it a tropical flavour and vibrant colour.",
            "Step 3: Acidification - Acidity regulators are added to balance the pH and enhance the flavour of the jelly.",
            "Step 4: Fruit Preparation - Peach and pear pieces are prepared and added to the jelly mixture.",
            "Step 5: Filling and Setting - The mixture is filled into containers and allowed to set in a cool environment.",
            null,
            null,
            null,
            null,
            null,
            null,
            null,
            null,
            null,
            null,
            null,
            null,
            null,
            null,
            null,
            null,
            null,
            null,
            null,
            null,
            null,
            null,
            null,
            null,
            null,
            null,
            null,
            null,
            null,
            null,
            null,
            null,
            null,
            null,
            null,
            null,
            null,
            null,
            null,
            null,
            null,
            null,
            null,
            null,
            null,
            null,
            null,
            null,
            null,
            null,
            null,
            null,
            null,
            null,
            null,
            null,
            null,
            null,
            null,
            null,
            null,
            null,
            null,
            null,
            null,
            null,
            null,
            null,
            null,
            null,
            null,
            null,
            null,
            null,
            null,
            null,
            null,
            null,
            null,
            null,
            null,
            null,
            null,
            null,
            null,
            null,
            null,
            null,
            null,
            null,
            null,
            null,
            null,
            null,
            null,
            null,
            null,
            null,
            null,
            null,
            null,
            null,
            null,
            null,
            null,
            null,
            null,
            null,
            null,
            null,
            null,
            null,
            null,
            null,
            null,
            null,
            null,
            null,
            null,
            null,
            null,
            null,
            null,
            null,
            null,
            null,
            null,
            null,
            null,
            null,
            null,
            null,
            null,
            null,
            null,
            null,
            null,
            null,
            null,
            null,
            null,
            null,
            null,
            null,
            null,
            null,
            null,
            null,
            null,
            null,
            null,
            null,
            null,
            null,
            null,
            null,
            null,
            null,
            null,
            null,
            null,
            null,
            null,
            null,
            null,
            null,
            null,
            null,
            null,
            null,
            null,
            null,
            null,
            null,
            null,
            null,
            null,
            null,
            null,
            null,
            null,
            null,
            null,
            null,
            null,
            null,
            null,
            null,
            null,
            null,
            null,
            null,
            null,
            null,
            null,
            null,
            null,
            null,
            null,
            null,
            null,
            null,
            null,
            null,
            null,
            null,
            null,
            null,
            null,
            null,
            null,
            null,
            null,
            null,
            null,
            null,
            null,
            null,
            null,
            null,
            null,
            null,
            null,
            null,
            null,
            null,
            null,
            null,
            null,
            null,
            null,
            null,
            null,
            null,
            null,
            null,
            null,
            null,
            null,
            null,
            null,
            null,
            null,
            null,
            null,
            null,
            null,
            null,
            null,
            null,
            null,
            null,
            null,
            null,
            null,
            null,
            null,
            null,
            null,
            null,
            null,
            null,
            null,
            null,
            null,
            null,
            null,
            null,
            null,
            null,
            null,
            null,
            null,
            null,
            null,
            null,
            null,
            null,
            null,
            null,
            null,
            null,
            null,
            null,
            null,
            null,
            null,
            null,
            null,
            null,
            null,
            null,
            null,
            null,
            null,
            null,
            null,
            null,
            null,
            null,
            null,
            null,
            null,
            null,
            null,
            null,
            null,
            null,
            null,
            null,
            null,
            null,
            null,
            null,
            null,
            null,
            null,
            null,
            null,
            null,
            null,
            null,
            null,
            null,
            null,
            null,
            null,
            null,
            null,
            null,
            null,
            null,
            null,
            null,
            null,
            null,
            null,
            null,
            null,
            null,
            null,
            null,
            null,
            null,
            null,
            null,
            null,
            null,
            null,
            null,
            null,
            null,
            null,
            null,
            null,
            null,
            null,
            null,
            null,
            null,
            null,
            null,
            null,
            null,
            null,
            null,
            null,
            null,
            null,
            null,
            null,
            null,
            null,
            null,
            null,
            null,
            null,
            null,
            null,
            null,
            null,
            null,
            null,
            null,
            null,
            null,
            null,
            null,
            null,
            null,
            null,
            null,
            null,
            null,
            null,
            null,
            null,
            null,
            null,
            null,
            null,
            null,
            null,
            null,
            null,
            null,
            null,
            null,
            null,
            null,
            null,
            null,
            null,
            null,
            null,
            null,
            null,
            null,
            null,
            null,
            null,
            null,
            null,
            null,
            null,
            null,
            null,
            null,
            null,
            null,
            null,
            null,
            null,
            null,
            null,
            null,
            null,
            null,
            null,
            null,
            null,
            null,
            null,
            null,
            null,
            null,
            null,
            null,
            null,
            null,
            null,
            null,
            null,
            null,
            null,
            null,
            null,
            null,
            null,
            null,
            null,
            null,
            null,
            null,
            null,
            null,
            null,
            null,
            null,
            null,
            null,
            null,
            null,
            null,
            null,
            null,
            null,
            null,
            null,
            null,
            null,
            null,
            null,
            null,
            null,
            null,
            null,
            null,
            null,
            null,
            null,
            null,
            null,
            null,
            null,
            null,
            null,
            null,
            null,
            null,
            null,
            null,
            null,
            null,
            null,
            null,
            null,
            null,
            null,
            null,
            null,
            null,
            null,
            null,
            null,
            null,
            null,
            null,
            null,
            null,
            null,
            null,
            null,
            null,
            null,
            null,
            null,
            null,
            null,
            null,
            null,
            null,
            null,
            null,
            null,
            null,
            null,
            null,
            null,
            null,
            null,
            null,
            null,
            null,
            null,
            null,
            null,
            null,
            null,
            null,
            null,
            null,
            null,
            null,
            null,
            null,
            null,
            null,
            null,
            null,
            null,
            null,
            null,
            null,
            null,
            null,
            null,
            null,
            null,
            null,
            null,
            null,
            null,
            null,
            null,
            null,
            null,
            null,
            null,
            null,
            null,
            null,
            null,
            null,
            null,
            null,
            null,
            null,
            null,
            null,
            null,
            null,
            null,
            null,
            null,
            null,
            null,
            null,
            null,
            null,
            null,
            null,
            null,
            null,
            null,
            null,
            null,
            null,
            null,
            null,
            null,
            null,
            null,
            null,
            null,
            null,
            null,
            null,
            null,
            null,
            null,
            null,
            null,
            null,
            null,
            null,
            null,
            null,
            null,
            null,
            null,
            null,
            null,
            null,
            null,
            null,
            null,
            null,
            null,
            null,
            null,
            null,
            null,
            null,
            null,
            null,
            null,
            null,
            null,
            null,
            null,
            null,
            null,
            null,
            null,
            null,
            null,
            null,
            null,
            null,
            null,
            null,
            null,
            null,
            null,
            null,
            null,
            null,
            null,
            null,
            null,
            null,
            null,
            null,
            null,
            null,
            null,
            null,
            null,
            null,
            null,
            null,
            null,
            null,
            null,
            null,
            null,
            null,
            null,
            null,
            null,
            null,
            null,
            null,
            null,
            null,
            null,
            null,
            null,
            null,
            null,
            null,
            null,
            null,
            null,
            null,
            null,
            null,
            null,
            null,
            null,
            null,
            null,
            null,
            null,
            null,
            null,
            null,
            null,
            null,
            null,
            null,
            null,
            null,
            null,
            null,
            null,
            null,
            null,
            null,
            null,
            null,
            null,
            null,
            null,
            null,
            null,
            null,
            null,
            null,
            null,
            null,
            null,
            null,
            null,
            null,
            null,
            null,
            null,
            null,
            null,
            null,
            null,
            null,
            null,
            null
           ]
          ]
         },
         "header": {
          "values": [
           "Group",
           "Id",
           "Step",
           "Description"
          ]
         },
         "type": "table"
        },
        {
         "cells": {
          "values": [
           "water sugar",
           [
            586,
            589,
            591,
            592,
            622,
            630,
            635,
            653,
            654,
            659,
            665,
            693,
            706,
            721,
            726
           ],
           [
            "Step 1",
            "Step 4",
            "Step 6",
            "Step 7",
            "Step 1",
            "Step 1",
            "Step 6",
            "Step 2",
            "Step 3",
            "Step 2",
            "Step 3",
            "Step 1",
            "Step 4",
            "Step 3",
            "Step 1"
           ],
           [
            "Step 1: The wheat flour is mixed with water to form a dough.",
            "Step 4: The seasoning powder is made by mixing salt, sugar, flavour enhancers, garlic powder, onion powder, yeast extract, artificial flavour, pepper, and anti caking agent.",
            "Step 6: The sweet soy sauce is made by mixing sugar, water, salt, wheat, soy bean, spices, and sesame oil.",
            "Step 7: The chilli sauce is made by mixing chilli, water, sugar, salt, tapioca starch, acidity regulators, herbs, flavour enhancers, flavours, and preservatives.",
            "1. The wheat flour, sugar, vegetable oil, cocoa powder, fructose syrup, cornstarch, salt, raising agents, emulsifier, flavor, antioxidant, minerals, and vitamins are mixed together to form the cookie dough.",
            "Mixing and blending dry ingredients, including wheat flour, sugar, cocoa powder, and raising agents.",
            "Preparing the vanilla creme filling by blending sugar, cornstarch, and other ingredients.",
            "Step 2: The fruit juices are reconstituted with water",
            "Step 3: Sugar, food acids, and vitamin C are added to the mixture",
            "Step 2: Combining the fruit juices and purées with water, sugar, food acids, vitamin C, natural flavors, and pectin.",
            "Step 3: Addition of sugar and food acids (citric acid and potassium citrate) to enhance the flavor and preserve the product",
            "Step 1: Canola oil, water, sugar, and vinegar are mixed together in a large vat.",
            "While the potatoes are still hot, they are seasoned with a mixture of sugar, maltodextrin, salt, tomato powder, flavor enhancers, food acids, onion powder, and garlic powder.",
            "Step 3: The fruit puree is mixed with reconstituted refined juice (made from concentrated pear juice, water, antioxidant (ascorbic acid), and acidity regulator (citric acid))",
            "Step 1: Preparation of Jelly - Water, sugar, and gelling agents are combined and heated to dissolve the sugar and activate the gelling agents."
           ]
          ]
         },
         "header": {
          "values": [
           "Group",
           "Id",
           "Step",
           "Description"
          ]
         },
         "type": "table"
        },
        {
         "cells": {
          "values": [
           "",
           [
            582,
            583,
            584,
            585,
            588,
            593,
            594,
            595,
            596,
            597,
            598,
            599,
            600,
            601,
            602,
            603,
            604,
            605,
            606,
            607,
            608,
            609,
            610,
            611,
            612,
            613,
            614,
            615,
            616,
            617,
            618,
            619,
            620,
            621,
            626,
            627,
            628,
            629,
            634,
            636,
            639,
            640,
            642,
            643,
            644,
            645,
            647,
            648,
            649,
            650,
            651,
            656,
            657,
            664,
            666,
            669,
            670,
            671,
            672,
            673,
            674,
            675,
            676,
            677,
            678,
            679,
            680,
            681,
            682,
            683,
            684,
            685,
            686,
            687,
            688,
            689,
            690,
            691,
            692,
            697,
            698,
            699,
            700,
            701,
            702,
            708,
            709,
            711,
            714,
            715,
            716,
            717,
            718,
            725,
            731,
            732,
            733,
            734,
            735,
            2155,
            2159,
            2163,
            2166,
            2169,
            2172,
            2175,
            2178,
            2182,
            2185,
            2192,
            2199,
            2204,
            2208,
            2212,
            2215,
            2218,
            2222,
            2227,
            2232,
            2235,
            2239,
            2246,
            2253,
            2259,
            2262,
            2265,
            2269,
            2272,
            2282,
            2286,
            2290,
            2295,
            2300,
            2304,
            2310,
            2315,
            2319,
            2324,
            2329,
            2335,
            2338,
            2341,
            2344,
            2349,
            2352,
            2356,
            2359,
            2363,
            2366,
            2369,
            2373,
            2379,
            2384,
            2389,
            2394,
            2399,
            2405,
            2411,
            2415,
            2421,
            2428,
            2433,
            2439,
            2446,
            2451,
            2458,
            2461,
            2469,
            2476,
            2479,
            2483,
            2489,
            2494,
            2499,
            2503,
            2506,
            2509,
            2514,
            2517,
            2520,
            2523,
            2527,
            2533,
            2537,
            2543,
            2546,
            2550,
            2556,
            2559,
            2565,
            2570,
            2576,
            2581,
            2586,
            2590,
            2593,
            2597,
            2604,
            2609,
            2612,
            2617,
            2622,
            2625,
            2630,
            2635,
            2642,
            2646,
            2652,
            2657,
            2663,
            2670,
            2673,
            2677,
            2684,
            2695,
            2700,
            2706,
            2711,
            2719,
            2724,
            2729,
            2734,
            2739,
            2745,
            2750,
            2754,
            2759,
            2763,
            2769,
            2774,
            2780,
            2785,
            2793,
            2796,
            2802,
            2805,
            2809,
            2813,
            2818,
            2821,
            2825,
            2828,
            2848,
            2851,
            2856,
            2861,
            2866,
            2875,
            2880,
            2883,
            2887,
            2891,
            2897,
            2901,
            2908,
            2912,
            2919,
            2922,
            2925,
            2928,
            2931,
            2937,
            2943,
            2950,
            2953,
            2959,
            2962,
            2966,
            2969,
            2976,
            2981,
            2987,
            2991,
            2998,
            3001,
            3006,
            3009,
            3016,
            3025,
            3028,
            3033,
            3036,
            3039,
            3042,
            3044,
            3047,
            3050,
            3054,
            3060,
            3065,
            3075,
            3080,
            3085,
            3090,
            3108,
            3113,
            3118,
            3123,
            3127,
            3131,
            3139,
            3145,
            3150,
            3156,
            3163,
            3167,
            3172,
            3177,
            3180,
            3183,
            3187,
            3196,
            3202,
            3210,
            3215,
            3221,
            3227,
            3231,
            3246,
            3252,
            3259,
            3265,
            3271,
            3279,
            3282,
            3284,
            3289,
            3295,
            3307,
            3311,
            3317,
            3322,
            3329,
            3337,
            3346,
            3353,
            3356,
            3368,
            3371,
            3374,
            3378,
            3382,
            3387,
            3392,
            3396,
            3401,
            3406,
            3410,
            3417,
            3424,
            3429,
            3434,
            3437,
            3443,
            3450,
            3455,
            3459,
            3464,
            3471,
            3478,
            3485,
            3492,
            3497,
            3504,
            3518,
            3522,
            3528,
            3534,
            3539,
            3547,
            3551,
            3559,
            3562,
            3565,
            3574,
            3579,
            3582,
            3585,
            3590,
            3603,
            3618,
            3621,
            3626,
            3636,
            3643,
            3650,
            3667,
            10819,
            10820,
            10823,
            10824,
            10827,
            10828,
            10832,
            10834,
            10837,
            10839,
            10840,
            10844,
            10847,
            10850,
            10851,
            10853,
            10856,
            10857,
            10860,
            10864,
            10866,
            10867,
            10870,
            10875,
            10878,
            10879,
            10882,
            10885,
            10887,
            10888,
            10891,
            10892,
            10895,
            10897,
            10898,
            10901,
            10902,
            10905,
            10906,
            10909,
            10911,
            10913,
            10915,
            10916,
            10921,
            10923,
            10926,
            10929,
            10932,
            10936,
            10937,
            10940,
            10943,
            10945,
            10948,
            10949,
            10952,
            10953,
            10956,
            10957,
            10960,
            10961,
            10963,
            10971,
            10975,
            10981,
            10982,
            10988,
            10989,
            10996,
            10997,
            11001,
            11004,
            11005,
            11008,
            11009,
            11013,
            11014,
            11018,
            11019,
            11022,
            11023,
            11026,
            11027,
            11029,
            11032,
            11035,
            11036,
            11040,
            11041,
            11044,
            11045,
            11048,
            11049,
            11052,
            11053,
            11056,
            11060,
            11061,
            11064,
            11065,
            11068,
            11071,
            11072,
            11074,
            11075,
            11078,
            11079,
            11083,
            11084,
            11088,
            11090,
            11092,
            11095,
            11096,
            11099,
            11100,
            11103,
            11104,
            11107,
            11111,
            11113,
            11116,
            11118,
            11119,
            11123,
            11124,
            11127,
            11128,
            11131,
            11133,
            11135,
            11136,
            11139,
            11140,
            11144,
            11151,
            11152,
            11154,
            11158,
            11162,
            11165,
            11166,
            11170,
            11174,
            11175,
            11180,
            11181,
            11184,
            11185,
            11188,
            11190,
            11192,
            11195,
            11197,
            11198,
            11201,
            11204,
            11205,
            11208,
            11209,
            11211,
            11214,
            11215,
            11218,
            11220,
            11221,
            11224,
            11227,
            11228,
            11232,
            11234,
            11235,
            11237,
            11240,
            11241,
            11244,
            11247,
            11249,
            11252,
            11254,
            11255,
            11258,
            11259,
            11260,
            11262,
            11263,
            11267,
            11268,
            11272,
            11274,
            11277,
            11280,
            11282,
            11283,
            11285,
            11288,
            11290,
            11291,
            11295,
            11296,
            11299,
            11300,
            11303,
            11304,
            11309,
            11312,
            11313,
            11316,
            11317,
            11318,
            11321,
            11323,
            11324,
            11327,
            11328,
            11332,
            11335,
            11336,
            11339,
            11340,
            11343,
            11344,
            11347,
            11348,
            11351,
            11354,
            11355,
            11358,
            11362,
            11366,
            11370,
            11372,
            11376,
            11378,
            11379,
            11382,
            11383,
            11386,
            11387,
            11391,
            11396,
            11399,
            11401,
            11404,
            11405,
            11407,
            11408,
            11411,
            11414,
            11415,
            11417,
            11420,
            11425,
            11428,
            11429,
            11434,
            11440,
            11442,
            11447,
            11450,
            11452,
            11453,
            11456,
            11457,
            11460,
            11461,
            11464,
            11466,
            11467,
            11469,
            11472,
            11473,
            11474,
            11476,
            11478,
            11481,
            11483,
            11484,
            11489,
            11493,
            11496,
            11500,
            11502,
            11503,
            11506,
            11507,
            11510,
            11511,
            11514,
            11515,
            11517,
            11520,
            11522,
            11525,
            11528,
            11530,
            11531,
            11534,
            11540,
            11541,
            11544,
            11545,
            11548,
            11550,
            11551,
            11555,
            11557,
            11559,
            11560,
            11563,
            11565,
            11567,
            11570,
            11571,
            11574,
            11575,
            11578,
            11581,
            11584,
            11585,
            11588,
            11589,
            11592,
            11593,
            11600,
            11601,
            11603,
            11607,
            11608,
            11611,
            11614,
            11615,
            11618,
            11619,
            11622,
            11623,
            11627,
            11630,
            11631,
            11634,
            11635,
            11636,
            11637,
            11640,
            11642,
            11646,
            11648,
            11649,
            11653,
            11656,
            11659,
            11660,
            11663,
            11664,
            11667,
            11668,
            11673,
            11676,
            11677,
            11679,
            11683,
            11686,
            11688,
            11691,
            11692,
            11697,
            11698,
            11701,
            11703,
            11705,
            11707,
            11708,
            11710,
            11711,
            11715,
            11717,
            11718,
            11721,
            11722,
            11725,
            11726,
            11729,
            11730,
            11733,
            11734,
            11737,
            11739,
            11740,
            11744,
            11745,
            11749,
            11750,
            11754,
            11755,
            11758,
            11759,
            11761,
            11765,
            11766,
            11771,
            11772,
            11775,
            11778,
            11779,
            11782,
            11784,
            11789,
            11790,
            11794,
            11795,
            11798,
            11799,
            11803,
            11804,
            11808,
            11809,
            11812,
            11813,
            11816,
            11818,
            11820,
            11823,
            11824,
            11827,
            11828,
            11831,
            11832,
            11835,
            11836,
            11840,
            11844,
            11845,
            11848,
            11853,
            11856,
            11857,
            11860,
            11861,
            11864,
            11865,
            11868,
            11872,
            11875,
            11876,
            11882,
            11883,
            11886,
            11887,
            11889,
            11892,
            11893,
            11897,
            11898,
            11901,
            11903,
            11904,
            11907,
            11911,
            11912,
            11915,
            11916,
            11919
           ],
           [
            null,
            null,
            null,
            null,
            "Step 3",
            "Step 8",
            null,
            null,
            null,
            null,
            null,
            null,
            null,
            null,
            null,
            null,
            null,
            null,
            null,
            null,
            null,
            null,
            null,
            null,
            null,
            null,
            null,
            null,
            null,
            null,
            null,
            null,
            null,
            null,
            "Step 5",
            null,
            null,
            null,
            "Step 5",
            "Step 7",
            null,
            null,
            "Step 2",
            "Step 3",
            "Step 4",
            "Step 5",
            "Step 7",
            null,
            null,
            null,
            null,
            "Step 5",
            null,
            "Step 2",
            "Step 4",
            "Step 7",
            null,
            null,
            null,
            null,
            null,
            null,
            null,
            null,
            null,
            null,
            null,
            null,
            null,
            null,
            null,
            null,
            null,
            null,
            null,
            null,
            null,
            null,
            null,
            null,
            null,
            null,
            null,
            null,
            null,
            null,
            null,
            "Step 2",
            "Step 5",
            null,
            null,
            null,
            null,
            null,
            null,
            null,
            null,
            null,
            null,
            null,
            null,
            null,
            null,
            null,
            null,
            null,
            null,
            null,
            null,
            null,
            null,
            null,
            null,
            null,
            null,
            null,
            null,
            null,
            null,
            null,
            null,
            null,
            null,
            null,
            null,
            null,
            null,
            null,
            null,
            null,
            null,
            null,
            null,
            null,
            null,
            null,
            null,
            null,
            null,
            null,
            null,
            null,
            null,
            null,
            null,
            null,
            null,
            null,
            null,
            null,
            null,
            null,
            null,
            null,
            null,
            null,
            null,
            null,
            null,
            null,
            null,
            null,
            null,
            null,
            null,
            null,
            null,
            null,
            null,
            null,
            null,
            null,
            null,
            null,
            null,
            null,
            null,
            null,
            null,
            null,
            null,
            null,
            null,
            null,
            null,
            null,
            null,
            null,
            null,
            null,
            null,
            null,
            null,
            null,
            null,
            null,
            null,
            null,
            null,
            null,
            null,
            null,
            null,
            null,
            null,
            null,
            null,
            null,
            null,
            null,
            null,
            null,
            null,
            null,
            null,
            null,
            null,
            null,
            null,
            null,
            null,
            null,
            null,
            null,
            null,
            null,
            null,
            null,
            null,
            null,
            null,
            null,
            null,
            null,
            null,
            null,
            null,
            null,
            null,
            null,
            null,
            null,
            null,
            null,
            null,
            null,
            null,
            null,
            null,
            null,
            null,
            null,
            null,
            null,
            null,
            null,
            null,
            null,
            null,
            null,
            null,
            null,
            null,
            null,
            null,
            null,
            null,
            null,
            null,
            null,
            null,
            null,
            null,
            null,
            null,
            null,
            null,
            null,
            null,
            null,
            null,
            null,
            null,
            null,
            null,
            null,
            null,
            null,
            null,
            null,
            null,
            null,
            null,
            null,
            null,
            null,
            null,
            null,
            null,
            null,
            null,
            null,
            null,
            null,
            null,
            null,
            null,
            null,
            null,
            null,
            null,
            null,
            null,
            null,
            null,
            null,
            null,
            null,
            null,
            null,
            null,
            null,
            null,
            null,
            null,
            null,
            null,
            null,
            null,
            null,
            null,
            null,
            null,
            null,
            null,
            null,
            null,
            null,
            null,
            null,
            null,
            null,
            null,
            null,
            null,
            null,
            null,
            null,
            null,
            null,
            null,
            null,
            null,
            null,
            null,
            null,
            null,
            null,
            null,
            null,
            null,
            null,
            null,
            null,
            null,
            null,
            null,
            null,
            null,
            null,
            null,
            null,
            null,
            null,
            null,
            null,
            null,
            null,
            null,
            null,
            null,
            null,
            null,
            null,
            null,
            null,
            null,
            null,
            null,
            null,
            null,
            null,
            null,
            null,
            null,
            null,
            null,
            null,
            null,
            null,
            null,
            null,
            null,
            null,
            null,
            null,
            null,
            null,
            null,
            null,
            null,
            null,
            null,
            null,
            null,
            null,
            null,
            null,
            null,
            null,
            null,
            null,
            null,
            null,
            null,
            null,
            null,
            null,
            null,
            null,
            null,
            null,
            null,
            null,
            null,
            null,
            null,
            null,
            null,
            null,
            null,
            null,
            null,
            null,
            null,
            null,
            null,
            null,
            null,
            null,
            null,
            null,
            null,
            null,
            null,
            null,
            null,
            null,
            null,
            null,
            null,
            null,
            null,
            null,
            null,
            null,
            null,
            null,
            null,
            null,
            null,
            null,
            null,
            null,
            null,
            null,
            null,
            null,
            null,
            null,
            null,
            null,
            null,
            null,
            null,
            null,
            null,
            null,
            null,
            null,
            null,
            null,
            null,
            null,
            null,
            null,
            null,
            null,
            null,
            null,
            null,
            null,
            null,
            null,
            null,
            null,
            null,
            null,
            null,
            null,
            null,
            null,
            null,
            null,
            null,
            null,
            null,
            null,
            null,
            null,
            null,
            null,
            null,
            null,
            null,
            null,
            null,
            null,
            null,
            null,
            null,
            null,
            null,
            null,
            null,
            null,
            null,
            null,
            null,
            null,
            null,
            null,
            null,
            null,
            null,
            null,
            null,
            null,
            null,
            null,
            null,
            null,
            null,
            null,
            null,
            null,
            null,
            null,
            null,
            null,
            null,
            null,
            null,
            null,
            null,
            null,
            null,
            null,
            null,
            null,
            null,
            null,
            null,
            null,
            null,
            null,
            null,
            null,
            null,
            null,
            null,
            null,
            null,
            null,
            null,
            null,
            null,
            null,
            null,
            null,
            null,
            null,
            null,
            null,
            null,
            null,
            null,
            null,
            null,
            null,
            null,
            null,
            null,
            null,
            null,
            null,
            null,
            null,
            null,
            null,
            null,
            null,
            null,
            null,
            null,
            null,
            null,
            null,
            null,
            null,
            null,
            null,
            null,
            null,
            null,
            null,
            null,
            null,
            null,
            null,
            null,
            null,
            null,
            null,
            null,
            null,
            null,
            null,
            null,
            null,
            null,
            null,
            null,
            null,
            null,
            null,
            null,
            null,
            null,
            null,
            null,
            null,
            null,
            null,
            null,
            null,
            null,
            null,
            null,
            null,
            null,
            null,
            null,
            null,
            null,
            null,
            null,
            null,
            null,
            null,
            null,
            null,
            null,
            null,
            null,
            null,
            null,
            null,
            null,
            null,
            null,
            null,
            null,
            null,
            null,
            null,
            null,
            null,
            null,
            null,
            null,
            null,
            null,
            null,
            null,
            null,
            null,
            null,
            null,
            null,
            null,
            null,
            null,
            null,
            null,
            null,
            null,
            null,
            null,
            null,
            null,
            null,
            null,
            null,
            null,
            null,
            null,
            null,
            null,
            null,
            null,
            null,
            null,
            null,
            null,
            null,
            null,
            null,
            null,
            null,
            null,
            null,
            null,
            null,
            null,
            null,
            null,
            null,
            null,
            null,
            null,
            null,
            null,
            null,
            null,
            null,
            null,
            null,
            null,
            null,
            null,
            null,
            null,
            null,
            null,
            null,
            null,
            null,
            null,
            null,
            null,
            null,
            null,
            null,
            null,
            null,
            null,
            null,
            null,
            null,
            null,
            null,
            null,
            null,
            null,
            null,
            null,
            null,
            null,
            null,
            null,
            null,
            null,
            null,
            null,
            null,
            null,
            null,
            null,
            null,
            null,
            null,
            null,
            null,
            null,
            null,
            null,
            null,
            null,
            null,
            null,
            null,
            null,
            null,
            null,
            null,
            null,
            null,
            null,
            null,
            null,
            null,
            null,
            null,
            null,
            null,
            null,
            null,
            null,
            null,
            null,
            null,
            null,
            null,
            null,
            null,
            null,
            null,
            null,
            null,
            null,
            null,
            null,
            null,
            null,
            null,
            null,
            null,
            null,
            null,
            null,
            null,
            null,
            null,
            null,
            null,
            null,
            null,
            null,
            null
           ],
           [
            null,
            null,
            null,
            null,
            "Step 3: The noodles are fried in refined palm oil.",
            "Step 8: The fried onion is made by frying onion in refined palm oil.",
            null,
            null,
            null,
            null,
            null,
            null,
            null,
            null,
            null,
            null,
            null,
            null,
            null,
            null,
            null,
            null,
            null,
            null,
            null,
            null,
            null,
            null,
            null,
            null,
            null,
            null,
            null,
            null,
            "5. The cookies are then packaged into bags of 18 packs.",
            null,
            null,
            null,
            "Baking the wafers at controlled temperatures.",
            "Piping or spreading the creme filling onto one wafer.",
            null,
            null,
            "2. The juices are reconstituted to specific concentrations (95.8% apple juice, 4.0% mango juice)",
            "3. Citric acid is added to regulate acidity",
            "4. Vitamin C is added for fortification",
            "5. Natural flavours are introduced to enhance taste",
            "7. The juice is packaged in aseptic containers for distribution",
            null,
            null,
            null,
            null,
            "Step 5: The beverage is packaged in aseptic containers to maintain freshness",
            null,
            "Step 2: Blending of the fruit juices to create the tropical punch flavor",
            "Step 4: Incorporation of natural flavors to enhance the fruit taste",
            "Step 7: Packing the individual containers into multipacks",
            null,
            null,
            null,
            null,
            null,
            null,
            null,
            null,
            null,
            null,
            null,
            null,
            null,
            null,
            null,
            null,
            null,
            null,
            null,
            null,
            null,
            null,
            null,
            null,
            null,
            null,
            null,
            null,
            null,
            null,
            null,
            "Step 2: The sliced potatoes are blanched to remove excess starch",
            "Step 5: The chips are packaged in a share pack for consumption",
            null,
            null,
            null,
            null,
            null,
            null,
            null,
            null,
            null,
            null,
            null,
            null,
            null,
            null,
            null,
            null,
            null,
            null,
            null,
            null,
            null,
            null,
            null,
            null,
            null,
            null,
            null,
            null,
            null,
            null,
            null,
            null,
            null,
            null,
            null,
            null,
            null,
            null,
            null,
            null,
            null,
            null,
            null,
            null,
            null,
            null,
            null,
            null,
            null,
            null,
            null,
            null,
            null,
            null,
            null,
            null,
            null,
            null,
            null,
            null,
            null,
            null,
            null,
            null,
            null,
            null,
            null,
            null,
            null,
            null,
            null,
            null,
            null,
            null,
            null,
            null,
            null,
            null,
            null,
            null,
            null,
            null,
            null,
            null,
            null,
            null,
            null,
            null,
            null,
            null,
            null,
            null,
            null,
            null,
            null,
            null,
            null,
            null,
            null,
            null,
            null,
            null,
            null,
            null,
            null,
            null,
            null,
            null,
            null,
            null,
            null,
            null,
            null,
            null,
            null,
            null,
            null,
            null,
            null,
            null,
            null,
            null,
            null,
            null,
            null,
            null,
            null,
            null,
            null,
            null,
            null,
            null,
            null,
            null,
            null,
            null,
            null,
            null,
            null,
            null,
            null,
            null,
            null,
            null,
            null,
            null,
            null,
            null,
            null,
            null,
            null,
            null,
            null,
            null,
            null,
            null,
            null,
            null,
            null,
            null,
            null,
            null,
            null,
            null,
            null,
            null,
            null,
            null,
            null,
            null,
            null,
            null,
            null,
            null,
            null,
            null,
            null,
            null,
            null,
            null,
            null,
            null,
            null,
            null,
            null,
            null,
            null,
            null,
            null,
            null,
            null,
            null,
            null,
            null,
            null,
            null,
            null,
            null,
            null,
            null,
            null,
            null,
            null,
            null,
            null,
            null,
            null,
            null,
            null,
            null,
            null,
            null,
            null,
            null,
            null,
            null,
            null,
            null,
            null,
            null,
            null,
            null,
            null,
            null,
            null,
            null,
            null,
            null,
            null,
            null,
            null,
            null,
            null,
            null,
            null,
            null,
            null,
            null,
            null,
            null,
            null,
            null,
            null,
            null,
            null,
            null,
            null,
            null,
            null,
            null,
            null,
            null,
            null,
            null,
            null,
            null,
            null,
            null,
            null,
            null,
            null,
            null,
            null,
            null,
            null,
            null,
            null,
            null,
            null,
            null,
            null,
            null,
            null,
            null,
            null,
            null,
            null,
            null,
            null,
            null,
            null,
            null,
            null,
            null,
            null,
            null,
            null,
            null,
            null,
            null,
            null,
            null,
            null,
            null,
            null,
            null,
            null,
            null,
            null,
            null,
            null,
            null,
            null,
            null,
            null,
            null,
            null,
            null,
            null,
            null,
            null,
            null,
            null,
            null,
            null,
            null,
            null,
            null,
            null,
            null,
            null,
            null,
            null,
            null,
            null,
            null,
            null,
            null,
            null,
            null,
            null,
            null,
            null,
            null,
            null,
            null,
            null,
            null,
            null,
            null,
            null,
            null,
            null,
            null,
            null,
            null,
            null,
            null,
            null,
            null,
            null,
            null,
            null,
            null,
            null,
            null,
            null,
            null,
            null,
            null,
            null,
            null,
            null,
            null,
            null,
            null,
            null,
            null,
            null,
            null,
            null,
            null,
            null,
            null,
            null,
            null,
            null,
            null,
            null,
            null,
            null,
            null,
            null,
            null,
            null,
            null,
            null,
            null,
            null,
            null,
            null,
            null,
            null,
            null,
            null,
            null,
            null,
            null,
            null,
            null,
            null,
            null,
            null,
            null,
            null,
            null,
            null,
            null,
            null,
            null,
            null,
            null,
            null,
            null,
            null,
            null,
            null,
            null,
            null,
            null,
            null,
            null,
            null,
            null,
            null,
            null,
            null,
            null,
            null,
            null,
            null,
            null,
            null,
            null,
            null,
            null,
            null,
            null,
            null,
            null,
            null,
            null,
            null,
            null,
            null,
            null,
            null,
            null,
            null,
            null,
            null,
            null,
            null,
            null,
            null,
            null,
            null,
            null,
            null,
            null,
            null,
            null,
            null,
            null,
            null,
            null,
            null,
            null,
            null,
            null,
            null,
            null,
            null,
            null,
            null,
            null,
            null,
            null,
            null,
            null,
            null,
            null,
            null,
            null,
            null,
            null,
            null,
            null,
            null,
            null,
            null,
            null,
            null,
            null,
            null,
            null,
            null,
            null,
            null,
            null,
            null,
            null,
            null,
            null,
            null,
            null,
            null,
            null,
            null,
            null,
            null,
            null,
            null,
            null,
            null,
            null,
            null,
            null,
            null,
            null,
            null,
            null,
            null,
            null,
            null,
            null,
            null,
            null,
            null,
            null,
            null,
            null,
            null,
            null,
            null,
            null,
            null,
            null,
            null,
            null,
            null,
            null,
            null,
            null,
            null,
            null,
            null,
            null,
            null,
            null,
            null,
            null,
            null,
            null,
            null,
            null,
            null,
            null,
            null,
            null,
            null,
            null,
            null,
            null,
            null,
            null,
            null,
            null,
            null,
            null,
            null,
            null,
            null,
            null,
            null,
            null,
            null,
            null,
            null,
            null,
            null,
            null,
            null,
            null,
            null,
            null,
            null,
            null,
            null,
            null,
            null,
            null,
            null,
            null,
            null,
            null,
            null,
            null,
            null,
            null,
            null,
            null,
            null,
            null,
            null,
            null,
            null,
            null,
            null,
            null,
            null,
            null,
            null,
            null,
            null,
            null,
            null,
            null,
            null,
            null,
            null,
            null,
            null,
            null,
            null,
            null,
            null,
            null,
            null,
            null,
            null,
            null,
            null,
            null,
            null,
            null,
            null,
            null,
            null,
            null,
            null,
            null,
            null,
            null,
            null,
            null,
            null,
            null,
            null,
            null,
            null,
            null,
            null,
            null,
            null,
            null,
            null,
            null,
            null,
            null,
            null,
            null,
            null,
            null,
            null,
            null,
            null,
            null,
            null,
            null,
            null,
            null,
            null,
            null,
            null,
            null,
            null,
            null,
            null,
            null,
            null,
            null,
            null,
            null,
            null,
            null,
            null,
            null,
            null,
            null,
            null,
            null,
            null,
            null,
            null,
            null,
            null,
            null,
            null,
            null,
            null,
            null,
            null,
            null,
            null,
            null,
            null,
            null,
            null,
            null,
            null,
            null,
            null,
            null,
            null,
            null,
            null,
            null,
            null,
            null,
            null,
            null,
            null,
            null,
            null,
            null,
            null,
            null,
            null,
            null,
            null,
            null,
            null,
            null,
            null,
            null,
            null,
            null,
            null,
            null,
            null,
            null,
            null,
            null,
            null,
            null,
            null,
            null,
            null,
            null,
            null,
            null,
            null,
            null,
            null,
            null,
            null,
            null,
            null,
            null,
            null
           ]
          ]
         },
         "header": {
          "values": [
           "Group",
           "Id",
           "Step",
           "Description"
          ]
         },
         "type": "table"
        },
        {
         "cells": {
          "values": [
           "water and",
           [
            586,
            587,
            589,
            590,
            591,
            592,
            622,
            623,
            624,
            625,
            630,
            631,
            632,
            633,
            635,
            637,
            638,
            641,
            646,
            652,
            653,
            654,
            655,
            658,
            659,
            660,
            661,
            662,
            663,
            665,
            667,
            668,
            693,
            694,
            695,
            696,
            703,
            704,
            705,
            706,
            707,
            710,
            712,
            713,
            719,
            720,
            721,
            722,
            723,
            724,
            726,
            727,
            728,
            729,
            730
           ],
           [
            "Step 1",
            "Step 2",
            "Step 4",
            "Step 5",
            "Step 6",
            "Step 7",
            "Step 1",
            "Step 2",
            "Step 3",
            "Step 4",
            "Step 1",
            "Step 2",
            "Step 3",
            "Step 4",
            "Step 6",
            "Step 8",
            "Step 9",
            "Step 1",
            "Step 6",
            "Step 1",
            "Step 2",
            "Step 3",
            "Step 4",
            "Step 1",
            "Step 2",
            "Step 3",
            "Step 4",
            "Step 5",
            "Step 1",
            "Step 3",
            "Step 5",
            "Step 6",
            "Step 1",
            "Step 2",
            "Step 3",
            "Step 4",
            "Step 1",
            "Step 2",
            "Step 3",
            "Step 4",
            "Step 5",
            "Step 1",
            "Step 3",
            "Step 4",
            "Step 1",
            "Step 2",
            "Step 3",
            "Step 4",
            "Step 5",
            "Step 6",
            "Step 1",
            "Step 2",
            "Step 3",
            "Step 4",
            "Step 5"
           ],
           [
            "Step 1: The wheat flour is mixed with water to form a dough.",
            "Step 2: The dough is rolled out and cut into noodles.",
            "Step 4: The seasoning powder is made by mixing salt, sugar, flavour enhancers, garlic powder, onion powder, yeast extract, artificial flavour, pepper, and anti caking agent.",
            "Step 5: The seasoning oil is made by mixing refined palm oil and onion.",
            "Step 6: The sweet soy sauce is made by mixing sugar, water, salt, wheat, soy bean, spices, and sesame oil.",
            "Step 7: The chilli sauce is made by mixing chilli, water, sugar, salt, tapioca starch, acidity regulators, herbs, flavour enhancers, flavours, and preservatives.",
            "1. The wheat flour, sugar, vegetable oil, cocoa powder, fructose syrup, cornstarch, salt, raising agents, emulsifier, flavor, antioxidant, minerals, and vitamins are mixed together to form the cookie dough.",
            "2. The dough is then shaped into small, round cookies and baked until crispy.",
            "3. For the strawberry flavor, food acid and color are added to the dough before baking.",
            "4. After baking, the cookies are cooled and filled with a sweet cream filling.",
            "Mixing and blending dry ingredients, including wheat flour, sugar, cocoa powder, and raising agents.",
            "Adding and mixing wet ingredients, such as vegetable oil, fructose syrup, and emulsifiers.",
            "Forming the dough and allowing it to rest.",
            "Sheeting and cutting the dough into round wafers.",
            "Preparing the vanilla creme filling by blending sugar, cornstarch, and other ingredients.",
            "Assembling the sandwich cookies by topping the creme-filled wafer with a second wafer.",
            "Cooling and packaging the cookies for distribution.",
            "1. Apples and mangoes are harvested and processed to extract juice",
            "6. The mixture is pasteurized to ensure safety and stability",
            "Step 1: The fruit juices are extracted from pear, apple, pineapple, and passionfruit",
            "Step 2: The fruit juices are reconstituted with water",
            "Step 3: Sugar, food acids, and vitamin C are added to the mixture",
            "Step 4: The mixture is pasteurized to kill any bacteria and extend shelf life",
            "Step 1: Extracting fruit juices and purées from apples, pears, pineapples, oranges, peaches, and passionfruits.",
            "Step 2: Combining the fruit juices and purées with water, sugar, food acids, vitamin C, natural flavors, and pectin.",
            "Step 3: Homogenizing the mixture to ensure a consistent texture and even distribution of ingredients.",
            "Step 4: Pasteurizing the mixture to kill any microorganisms and ensure a stable shelf life.",
            "Step 5: Filling the drink into containers, sealing, and cooling for storage and distribution.",
            "Step 1: Extraction of fruit juices from pear, apple, pineapple, orange, peach, and passionfruit",
            "Step 3: Addition of sugar and food acids (citric acid and potassium citrate) to enhance the flavor and preserve the product",
            "Step 5: Homogenization and pasteurization of the mixture to ensure safety and consistency",
            "Step 6: Filling and sealing of the individual containers",
            "Step 1: Canola oil, water, sugar, and vinegar are mixed together in a large vat.",
            "Step 2: Thickeners, egg yolk, gherkins, salt, onion powder, natural colors, preservatives, dill, acidity regulators, and herb extracts are added to the mixture.",
            "Step 3: The mixture is heated to a specific temperature to ensure proper mixing and emulsification.",
            "Step 4: The mixture is cooled and bottled for distribution.",
            "Potatoes are washed, peeled, and sliced into crinkle-cut shapes.",
            "The sliced potatoes are blanched in a mixture of canola and sunflower oils.",
            "The blanched potatoes are then fried in the same oil mixture until they are golden brown and crispy.",
            "While the potatoes are still hot, they are seasoned with a mixture of sugar, maltodextrin, salt, tomato powder, flavor enhancers, food acids, onion powder, and garlic powder.",
            "The seasoned chips are then cooled and packaged for distribution.",
            "Step 1: Potatoes are washed, peeled, and thinly sliced",
            "Step 3: The potatoes are then fried in a blend of canola and sunflower oils",
            "Step 4: After frying, the chips are seasoned with salt and a mix of antioxidants",
            "Step 1: Fruits (peach and pear) are sorted, washed, and prepared for processing",
            "Step 2: The fruits are chopped and blended to form a puree",
            "Step 3: The fruit puree is mixed with reconstituted refined juice (made from concentrated pear juice, water, antioxidant (ascorbic acid), and acidity regulator (citric acid))",
            "Step 4: The mixture is homogenized to ensure even distribution of fruit chunks and juice",
            "Step 5: The product is filled into cups, sealed, and pasteurized for preservation",
            "Step 6: The cups are labeled, packaged, and prepared for distribution",
            "Step 1: Preparation of Jelly - Water, sugar, and gelling agents are combined and heated to dissolve the sugar and activate the gelling agents.",
            "Step 2: Addition of Natural Flavours and Colours - Once the jelly base is prepared, natural flavours and colours are added to give it a tropical flavour and vibrant colour.",
            "Step 3: Acidification - Acidity regulators are added to balance the pH and enhance the flavour of the jelly.",
            "Step 4: Fruit Preparation - Peach and pear pieces are prepared and added to the jelly mixture.",
            "Step 5: Filling and Setting - The mixture is filled into containers and allowed to set in a cool environment."
           ]
          ]
         },
         "header": {
          "values": [
           "Group",
           "Id",
           "Step",
           "Description"
          ]
         },
         "type": "table"
        }
       ],
       "layout": {
        "height": 800,
        "template": {
         "data": {
          "bar": [
           {
            "error_x": {
             "color": "#2a3f5f"
            },
            "error_y": {
             "color": "#2a3f5f"
            },
            "marker": {
             "line": {
              "color": "#E5ECF6",
              "width": 0.5
             },
             "pattern": {
              "fillmode": "overlay",
              "size": 10,
              "solidity": 0.2
             }
            },
            "type": "bar"
           }
          ],
          "barpolar": [
           {
            "marker": {
             "line": {
              "color": "#E5ECF6",
              "width": 0.5
             },
             "pattern": {
              "fillmode": "overlay",
              "size": 10,
              "solidity": 0.2
             }
            },
            "type": "barpolar"
           }
          ],
          "carpet": [
           {
            "aaxis": {
             "endlinecolor": "#2a3f5f",
             "gridcolor": "white",
             "linecolor": "white",
             "minorgridcolor": "white",
             "startlinecolor": "#2a3f5f"
            },
            "baxis": {
             "endlinecolor": "#2a3f5f",
             "gridcolor": "white",
             "linecolor": "white",
             "minorgridcolor": "white",
             "startlinecolor": "#2a3f5f"
            },
            "type": "carpet"
           }
          ],
          "choropleth": [
           {
            "colorbar": {
             "outlinewidth": 0,
             "ticks": ""
            },
            "type": "choropleth"
           }
          ],
          "contour": [
           {
            "colorbar": {
             "outlinewidth": 0,
             "ticks": ""
            },
            "colorscale": [
             [
              0,
              "#0d0887"
             ],
             [
              0.1111111111111111,
              "#46039f"
             ],
             [
              0.2222222222222222,
              "#7201a8"
             ],
             [
              0.3333333333333333,
              "#9c179e"
             ],
             [
              0.4444444444444444,
              "#bd3786"
             ],
             [
              0.5555555555555556,
              "#d8576b"
             ],
             [
              0.6666666666666666,
              "#ed7953"
             ],
             [
              0.7777777777777778,
              "#fb9f3a"
             ],
             [
              0.8888888888888888,
              "#fdca26"
             ],
             [
              1,
              "#f0f921"
             ]
            ],
            "type": "contour"
           }
          ],
          "contourcarpet": [
           {
            "colorbar": {
             "outlinewidth": 0,
             "ticks": ""
            },
            "type": "contourcarpet"
           }
          ],
          "heatmap": [
           {
            "colorbar": {
             "outlinewidth": 0,
             "ticks": ""
            },
            "colorscale": [
             [
              0,
              "#0d0887"
             ],
             [
              0.1111111111111111,
              "#46039f"
             ],
             [
              0.2222222222222222,
              "#7201a8"
             ],
             [
              0.3333333333333333,
              "#9c179e"
             ],
             [
              0.4444444444444444,
              "#bd3786"
             ],
             [
              0.5555555555555556,
              "#d8576b"
             ],
             [
              0.6666666666666666,
              "#ed7953"
             ],
             [
              0.7777777777777778,
              "#fb9f3a"
             ],
             [
              0.8888888888888888,
              "#fdca26"
             ],
             [
              1,
              "#f0f921"
             ]
            ],
            "type": "heatmap"
           }
          ],
          "heatmapgl": [
           {
            "colorbar": {
             "outlinewidth": 0,
             "ticks": ""
            },
            "colorscale": [
             [
              0,
              "#0d0887"
             ],
             [
              0.1111111111111111,
              "#46039f"
             ],
             [
              0.2222222222222222,
              "#7201a8"
             ],
             [
              0.3333333333333333,
              "#9c179e"
             ],
             [
              0.4444444444444444,
              "#bd3786"
             ],
             [
              0.5555555555555556,
              "#d8576b"
             ],
             [
              0.6666666666666666,
              "#ed7953"
             ],
             [
              0.7777777777777778,
              "#fb9f3a"
             ],
             [
              0.8888888888888888,
              "#fdca26"
             ],
             [
              1,
              "#f0f921"
             ]
            ],
            "type": "heatmapgl"
           }
          ],
          "histogram": [
           {
            "marker": {
             "pattern": {
              "fillmode": "overlay",
              "size": 10,
              "solidity": 0.2
             }
            },
            "type": "histogram"
           }
          ],
          "histogram2d": [
           {
            "colorbar": {
             "outlinewidth": 0,
             "ticks": ""
            },
            "colorscale": [
             [
              0,
              "#0d0887"
             ],
             [
              0.1111111111111111,
              "#46039f"
             ],
             [
              0.2222222222222222,
              "#7201a8"
             ],
             [
              0.3333333333333333,
              "#9c179e"
             ],
             [
              0.4444444444444444,
              "#bd3786"
             ],
             [
              0.5555555555555556,
              "#d8576b"
             ],
             [
              0.6666666666666666,
              "#ed7953"
             ],
             [
              0.7777777777777778,
              "#fb9f3a"
             ],
             [
              0.8888888888888888,
              "#fdca26"
             ],
             [
              1,
              "#f0f921"
             ]
            ],
            "type": "histogram2d"
           }
          ],
          "histogram2dcontour": [
           {
            "colorbar": {
             "outlinewidth": 0,
             "ticks": ""
            },
            "colorscale": [
             [
              0,
              "#0d0887"
             ],
             [
              0.1111111111111111,
              "#46039f"
             ],
             [
              0.2222222222222222,
              "#7201a8"
             ],
             [
              0.3333333333333333,
              "#9c179e"
             ],
             [
              0.4444444444444444,
              "#bd3786"
             ],
             [
              0.5555555555555556,
              "#d8576b"
             ],
             [
              0.6666666666666666,
              "#ed7953"
             ],
             [
              0.7777777777777778,
              "#fb9f3a"
             ],
             [
              0.8888888888888888,
              "#fdca26"
             ],
             [
              1,
              "#f0f921"
             ]
            ],
            "type": "histogram2dcontour"
           }
          ],
          "mesh3d": [
           {
            "colorbar": {
             "outlinewidth": 0,
             "ticks": ""
            },
            "type": "mesh3d"
           }
          ],
          "parcoords": [
           {
            "line": {
             "colorbar": {
              "outlinewidth": 0,
              "ticks": ""
             }
            },
            "type": "parcoords"
           }
          ],
          "pie": [
           {
            "automargin": true,
            "type": "pie"
           }
          ],
          "scatter": [
           {
            "fillpattern": {
             "fillmode": "overlay",
             "size": 10,
             "solidity": 0.2
            },
            "type": "scatter"
           }
          ],
          "scatter3d": [
           {
            "line": {
             "colorbar": {
              "outlinewidth": 0,
              "ticks": ""
             }
            },
            "marker": {
             "colorbar": {
              "outlinewidth": 0,
              "ticks": ""
             }
            },
            "type": "scatter3d"
           }
          ],
          "scattercarpet": [
           {
            "marker": {
             "colorbar": {
              "outlinewidth": 0,
              "ticks": ""
             }
            },
            "type": "scattercarpet"
           }
          ],
          "scattergeo": [
           {
            "marker": {
             "colorbar": {
              "outlinewidth": 0,
              "ticks": ""
             }
            },
            "type": "scattergeo"
           }
          ],
          "scattergl": [
           {
            "marker": {
             "colorbar": {
              "outlinewidth": 0,
              "ticks": ""
             }
            },
            "type": "scattergl"
           }
          ],
          "scattermapbox": [
           {
            "marker": {
             "colorbar": {
              "outlinewidth": 0,
              "ticks": ""
             }
            },
            "type": "scattermapbox"
           }
          ],
          "scatterpolar": [
           {
            "marker": {
             "colorbar": {
              "outlinewidth": 0,
              "ticks": ""
             }
            },
            "type": "scatterpolar"
           }
          ],
          "scatterpolargl": [
           {
            "marker": {
             "colorbar": {
              "outlinewidth": 0,
              "ticks": ""
             }
            },
            "type": "scatterpolargl"
           }
          ],
          "scatterternary": [
           {
            "marker": {
             "colorbar": {
              "outlinewidth": 0,
              "ticks": ""
             }
            },
            "type": "scatterternary"
           }
          ],
          "surface": [
           {
            "colorbar": {
             "outlinewidth": 0,
             "ticks": ""
            },
            "colorscale": [
             [
              0,
              "#0d0887"
             ],
             [
              0.1111111111111111,
              "#46039f"
             ],
             [
              0.2222222222222222,
              "#7201a8"
             ],
             [
              0.3333333333333333,
              "#9c179e"
             ],
             [
              0.4444444444444444,
              "#bd3786"
             ],
             [
              0.5555555555555556,
              "#d8576b"
             ],
             [
              0.6666666666666666,
              "#ed7953"
             ],
             [
              0.7777777777777778,
              "#fb9f3a"
             ],
             [
              0.8888888888888888,
              "#fdca26"
             ],
             [
              1,
              "#f0f921"
             ]
            ],
            "type": "surface"
           }
          ],
          "table": [
           {
            "cells": {
             "fill": {
              "color": "#EBF0F8"
             },
             "line": {
              "color": "white"
             }
            },
            "header": {
             "fill": {
              "color": "#C8D4E3"
             },
             "line": {
              "color": "white"
             }
            },
            "type": "table"
           }
          ]
         },
         "layout": {
          "annotationdefaults": {
           "arrowcolor": "#2a3f5f",
           "arrowhead": 0,
           "arrowwidth": 1
          },
          "autotypenumbers": "strict",
          "coloraxis": {
           "colorbar": {
            "outlinewidth": 0,
            "ticks": ""
           }
          },
          "colorscale": {
           "diverging": [
            [
             0,
             "#8e0152"
            ],
            [
             0.1,
             "#c51b7d"
            ],
            [
             0.2,
             "#de77ae"
            ],
            [
             0.3,
             "#f1b6da"
            ],
            [
             0.4,
             "#fde0ef"
            ],
            [
             0.5,
             "#f7f7f7"
            ],
            [
             0.6,
             "#e6f5d0"
            ],
            [
             0.7,
             "#b8e186"
            ],
            [
             0.8,
             "#7fbc41"
            ],
            [
             0.9,
             "#4d9221"
            ],
            [
             1,
             "#276419"
            ]
           ],
           "sequential": [
            [
             0,
             "#0d0887"
            ],
            [
             0.1111111111111111,
             "#46039f"
            ],
            [
             0.2222222222222222,
             "#7201a8"
            ],
            [
             0.3333333333333333,
             "#9c179e"
            ],
            [
             0.4444444444444444,
             "#bd3786"
            ],
            [
             0.5555555555555556,
             "#d8576b"
            ],
            [
             0.6666666666666666,
             "#ed7953"
            ],
            [
             0.7777777777777778,
             "#fb9f3a"
            ],
            [
             0.8888888888888888,
             "#fdca26"
            ],
            [
             1,
             "#f0f921"
            ]
           ],
           "sequentialminus": [
            [
             0,
             "#0d0887"
            ],
            [
             0.1111111111111111,
             "#46039f"
            ],
            [
             0.2222222222222222,
             "#7201a8"
            ],
            [
             0.3333333333333333,
             "#9c179e"
            ],
            [
             0.4444444444444444,
             "#bd3786"
            ],
            [
             0.5555555555555556,
             "#d8576b"
            ],
            [
             0.6666666666666666,
             "#ed7953"
            ],
            [
             0.7777777777777778,
             "#fb9f3a"
            ],
            [
             0.8888888888888888,
             "#fdca26"
            ],
            [
             1,
             "#f0f921"
            ]
           ]
          },
          "colorway": [
           "#636efa",
           "#EF553B",
           "#00cc96",
           "#ab63fa",
           "#FFA15A",
           "#19d3f3",
           "#FF6692",
           "#B6E880",
           "#FF97FF",
           "#FECB52"
          ],
          "font": {
           "color": "#2a3f5f"
          },
          "geo": {
           "bgcolor": "white",
           "lakecolor": "white",
           "landcolor": "#E5ECF6",
           "showlakes": true,
           "showland": true,
           "subunitcolor": "white"
          },
          "hoverlabel": {
           "align": "left"
          },
          "hovermode": "closest",
          "mapbox": {
           "style": "light"
          },
          "paper_bgcolor": "white",
          "plot_bgcolor": "#E5ECF6",
          "polar": {
           "angularaxis": {
            "gridcolor": "white",
            "linecolor": "white",
            "ticks": ""
           },
           "bgcolor": "#E5ECF6",
           "radialaxis": {
            "gridcolor": "white",
            "linecolor": "white",
            "ticks": ""
           }
          },
          "scene": {
           "xaxis": {
            "backgroundcolor": "#E5ECF6",
            "gridcolor": "white",
            "gridwidth": 2,
            "linecolor": "white",
            "showbackground": true,
            "ticks": "",
            "zerolinecolor": "white"
           },
           "yaxis": {
            "backgroundcolor": "#E5ECF6",
            "gridcolor": "white",
            "gridwidth": 2,
            "linecolor": "white",
            "showbackground": true,
            "ticks": "",
            "zerolinecolor": "white"
           },
           "zaxis": {
            "backgroundcolor": "#E5ECF6",
            "gridcolor": "white",
            "gridwidth": 2,
            "linecolor": "white",
            "showbackground": true,
            "ticks": "",
            "zerolinecolor": "white"
           }
          },
          "shapedefaults": {
           "line": {
            "color": "#2a3f5f"
           }
          },
          "ternary": {
           "aaxis": {
            "gridcolor": "white",
            "linecolor": "white",
            "ticks": ""
           },
           "baxis": {
            "gridcolor": "white",
            "linecolor": "white",
            "ticks": ""
           },
           "bgcolor": "#E5ECF6",
           "caxis": {
            "gridcolor": "white",
            "linecolor": "white",
            "ticks": ""
           }
          },
          "title": {
           "x": 0.05
          },
          "xaxis": {
           "automargin": true,
           "gridcolor": "white",
           "linecolor": "white",
           "ticks": "",
           "title": {
            "standoff": 15
           },
           "zerolinecolor": "white",
           "zerolinewidth": 2
          },
          "yaxis": {
           "automargin": true,
           "gridcolor": "white",
           "linecolor": "white",
           "ticks": "",
           "title": {
            "standoff": 15
           },
           "zerolinecolor": "white",
           "zerolinewidth": 2
          }
         }
        },
        "title": {
         "text": "ManufacturingProcess Grouped by Keyword Combinations"
        }
       }
      }
     },
     "metadata": {},
     "output_type": "display_data"
    }
   ],
   "source": [
    "import pandas as pd\n",
    "import plotly.graph_objects as go\n",
    "\n",
    "\n",
    "\n",
    "keyword_group1 = [['water', 'sugar']]\n",
    "keyword_group2 = [['water', 'and']]\n",
    "\n",
    "grouped1 = df.groupby(df['Description'].apply(lambda x: ', '.join(sorted([' '.join(group) for group in keyword_group1 if any(kw.lower() in str(x).lower() for kw in group)])) if pd.notnull(x) else ''))\n",
    "grouped2 = df.groupby(df['Description'].apply(lambda x: ', '.join(sorted([' '.join(group) for group in keyword_group2 if any(kw.lower() in str(x).lower() for kw in group)])) if pd.notnull(x) else ''))\n",
    "\n",
    "fig_data = []\n",
    "for group_name, group in grouped1:\n",
    "    group_trace = go.Table(\n",
    "        header=dict(values=['Group', 'Id', 'Step', 'Description']),\n",
    "        cells=dict(values=[group_name, group['Id'], group['Step'], group['Description']])\n",
    "    )\n",
    "    fig_data.append(group_trace)\n",
    "\n",
    "for group_name, group in grouped2:\n",
    "    group_trace = go.Table(\n",
    "        header=dict(values=['Group', 'Id', 'Step', 'Description']),\n",
    "        cells=dict(values=[group_name, group['Id'], group['Step'], group['Description']])\n",
    "    )\n",
    "    fig_data.append(group_trace)\n",
    "\n",
    "fig_layout = go.Layout(\n",
    "    title='ManufacturingProcess Grouped by Keyword Combinations',\n",
    "    height=800\n",
    ")\n",
    "\n",
    "fig = go.Figure(data=fig_data, layout=fig_layout)\n",
    "fig.show()"
   ]
  },
  {
   "cell_type": "code",
   "execution_count": 15,
   "metadata": {},
   "outputs": [
    {
     "data": {
      "application/vnd.plotly.v1+json": {
       "config": {
        "plotlyServerURL": "https://plot.ly"
       },
       "data": [
        {
         "cells": {
          "values": [
           "Step 1: Canola oil, water, sugar, and vinegar are mixed together in a large vat.",
           [
            693
           ],
           [
            "Step 1"
           ],
           [
            "Step 1: Canola oil, water, sugar, and vinegar are mixed together in a large vat."
           ]
          ]
         },
         "header": {
          "values": [
           "Group",
           "Id",
           "Step",
           "Description"
          ]
         },
         "type": "table"
        },
        {
         "cells": {
          "values": [
           "Step 1: Preparation of Jelly - Water, sugar, and gelling agents are combined and heated to dissolve the sugar and activate the gelling agents.",
           [
            726
           ],
           [
            "Step 1"
           ],
           [
            "Step 1: Preparation of Jelly - Water, sugar, and gelling agents are combined and heated to dissolve the sugar and activate the gelling agents."
           ]
          ]
         },
         "header": {
          "values": [
           "Group",
           "Id",
           "Step",
           "Description"
          ]
         },
         "type": "table"
        },
        {
         "cells": {
          "values": [
           "Step 2: Combining the fruit juices and purées with water, sugar, food acids, vitamin C, natural flavors, and pectin.",
           [
            659
           ],
           [
            "Step 2"
           ],
           [
            "Step 2: Combining the fruit juices and purées with water, sugar, food acids, vitamin C, natural flavors, and pectin."
           ]
          ]
         },
         "header": {
          "values": [
           "Group",
           "Id",
           "Step",
           "Description"
          ]
         },
         "type": "table"
        },
        {
         "cells": {
          "values": [
           "Step 6: The sweet soy sauce is made by mixing sugar, water, salt, wheat, soy bean, spices, and sesame oil.",
           [
            591
           ],
           [
            "Step 6"
           ],
           [
            "Step 6: The sweet soy sauce is made by mixing sugar, water, salt, wheat, soy bean, spices, and sesame oil."
           ]
          ]
         },
         "header": {
          "values": [
           "Group",
           "Id",
           "Step",
           "Description"
          ]
         },
         "type": "table"
        },
        {
         "cells": {
          "values": [
           "Step 7: The chilli sauce is made by mixing chilli, water, sugar, salt, tapioca starch, acidity regulators, herbs, flavour enhancers, flavours, and preservatives.",
           [
            592
           ],
           [
            "Step 7"
           ],
           [
            "Step 7: The chilli sauce is made by mixing chilli, water, sugar, salt, tapioca starch, acidity regulators, herbs, flavour enhancers, flavours, and preservatives."
           ]
          ]
         },
         "header": {
          "values": [
           "Group",
           "Id",
           "Step",
           "Description"
          ]
         },
         "type": "table"
        },
        {
         "cells": {
          "values": [
           "",
           [
            582,
            583,
            584,
            585,
            594,
            595,
            596,
            597,
            598,
            599,
            600,
            601,
            602,
            603,
            604,
            605,
            606,
            607,
            608,
            609,
            610,
            611,
            612,
            613,
            614,
            615,
            616,
            617,
            618,
            619,
            620,
            621,
            627,
            628,
            629,
            639,
            640,
            648,
            649,
            650,
            651,
            657,
            670,
            671,
            672,
            673,
            674,
            675,
            676,
            677,
            678,
            679,
            680,
            681,
            682,
            683,
            684,
            685,
            686,
            687,
            688,
            689,
            690,
            691,
            692,
            697,
            698,
            699,
            700,
            701,
            702,
            708,
            709,
            715,
            716,
            717,
            718,
            725,
            731,
            732,
            733,
            734,
            735,
            2155,
            2159,
            2163,
            2166,
            2169,
            2172,
            2175,
            2178,
            2182,
            2185,
            2192,
            2199,
            2204,
            2208,
            2212,
            2215,
            2218,
            2222,
            2227,
            2232,
            2235,
            2239,
            2246,
            2253,
            2259,
            2262,
            2265,
            2269,
            2272,
            2282,
            2286,
            2290,
            2295,
            2300,
            2304,
            2310,
            2315,
            2319,
            2324,
            2329,
            2335,
            2338,
            2341,
            2344,
            2349,
            2352,
            2356,
            2359,
            2363,
            2366,
            2369,
            2373,
            2379,
            2384,
            2389,
            2394,
            2399,
            2405,
            2411,
            2415,
            2421,
            2428,
            2433,
            2439,
            2446,
            2451,
            2458,
            2461,
            2469,
            2476,
            2479,
            2483,
            2489,
            2494,
            2499,
            2503,
            2506,
            2509,
            2514,
            2517,
            2520,
            2523,
            2527,
            2533,
            2537,
            2543,
            2546,
            2550,
            2556,
            2559,
            2565,
            2570,
            2576,
            2581,
            2586,
            2590,
            2593,
            2597,
            2604,
            2609,
            2612,
            2617,
            2622,
            2625,
            2630,
            2635,
            2642,
            2646,
            2652,
            2657,
            2663,
            2670,
            2673,
            2677,
            2684,
            2695,
            2700,
            2706,
            2711,
            2719,
            2724,
            2729,
            2734,
            2739,
            2745,
            2750,
            2754,
            2759,
            2763,
            2769,
            2774,
            2780,
            2785,
            2793,
            2796,
            2802,
            2805,
            2809,
            2813,
            2818,
            2821,
            2825,
            2828,
            2848,
            2851,
            2856,
            2861,
            2866,
            2875,
            2880,
            2883,
            2887,
            2891,
            2897,
            2901,
            2908,
            2912,
            2919,
            2922,
            2925,
            2928,
            2931,
            2937,
            2943,
            2950,
            2953,
            2959,
            2962,
            2966,
            2969,
            2976,
            2981,
            2987,
            2991,
            2998,
            3001,
            3006,
            3009,
            3016,
            3025,
            3028,
            3033,
            3036,
            3039,
            3042,
            3044,
            3047,
            3050,
            3054,
            3060,
            3065,
            3075,
            3080,
            3085,
            3090,
            3108,
            3113,
            3118,
            3123,
            3127,
            3131,
            3139,
            3145,
            3150,
            3156,
            3163,
            3167,
            3172,
            3177,
            3180,
            3183,
            3187,
            3196,
            3202,
            3210,
            3215,
            3221,
            3227,
            3231,
            3246,
            3252,
            3259,
            3265,
            3271,
            3279,
            3282,
            3284,
            3289,
            3295,
            3307,
            3311,
            3317,
            3322,
            3329,
            3337,
            3346,
            3353,
            3356,
            3368,
            3371,
            3374,
            3378,
            3382,
            3387,
            3392,
            3396,
            3401,
            3406,
            3410,
            3417,
            3424,
            3429,
            3434,
            3437,
            3443,
            3450,
            3455,
            3459,
            3464,
            3471,
            3478,
            3485,
            3492,
            3497,
            3504,
            3518,
            3522,
            3528,
            3534,
            3539,
            3547,
            3551,
            3559,
            3562,
            3565,
            3574,
            3579,
            3582,
            3585,
            3590,
            3603,
            3618,
            3621,
            3626,
            3636,
            3643,
            3650,
            3667,
            10819,
            10820,
            10823,
            10824,
            10827,
            10828,
            10832,
            10834,
            10837,
            10839,
            10840,
            10844,
            10847,
            10850,
            10851,
            10853,
            10856,
            10857,
            10860,
            10864,
            10866,
            10867,
            10870,
            10875,
            10878,
            10879,
            10882,
            10885,
            10887,
            10888,
            10891,
            10892,
            10895,
            10897,
            10898,
            10901,
            10902,
            10905,
            10906,
            10909,
            10911,
            10913,
            10915,
            10916,
            10921,
            10923,
            10926,
            10929,
            10932,
            10936,
            10937,
            10940,
            10943,
            10945,
            10948,
            10949,
            10952,
            10953,
            10956,
            10957,
            10960,
            10961,
            10963,
            10971,
            10975,
            10981,
            10982,
            10988,
            10989,
            10996,
            10997,
            11001,
            11004,
            11005,
            11008,
            11009,
            11013,
            11014,
            11018,
            11019,
            11022,
            11023,
            11026,
            11027,
            11029,
            11032,
            11035,
            11036,
            11040,
            11041,
            11044,
            11045,
            11048,
            11049,
            11052,
            11053,
            11056,
            11060,
            11061,
            11064,
            11065,
            11068,
            11071,
            11072,
            11074,
            11075,
            11078,
            11079,
            11083,
            11084,
            11088,
            11090,
            11092,
            11095,
            11096,
            11099,
            11100,
            11103,
            11104,
            11107,
            11111,
            11113,
            11116,
            11118,
            11119,
            11123,
            11124,
            11127,
            11128,
            11131,
            11133,
            11135,
            11136,
            11139,
            11140,
            11144,
            11151,
            11152,
            11154,
            11158,
            11162,
            11165,
            11166,
            11170,
            11174,
            11175,
            11180,
            11181,
            11184,
            11185,
            11188,
            11190,
            11192,
            11195,
            11197,
            11198,
            11201,
            11204,
            11205,
            11208,
            11209,
            11211,
            11214,
            11215,
            11218,
            11220,
            11221,
            11224,
            11227,
            11228,
            11232,
            11234,
            11235,
            11237,
            11240,
            11241,
            11244,
            11247,
            11249,
            11252,
            11254,
            11255,
            11258,
            11259,
            11260,
            11262,
            11263,
            11267,
            11268,
            11272,
            11274,
            11277,
            11280,
            11282,
            11283,
            11285,
            11288,
            11290,
            11291,
            11295,
            11296,
            11299,
            11300,
            11303,
            11304,
            11309,
            11312,
            11313,
            11316,
            11317,
            11318,
            11321,
            11323,
            11324,
            11327,
            11328,
            11332,
            11335,
            11336,
            11339,
            11340,
            11343,
            11344,
            11347,
            11348,
            11351,
            11354,
            11355,
            11358,
            11362,
            11366,
            11370,
            11372,
            11376,
            11378,
            11379,
            11382,
            11383,
            11386,
            11387,
            11391,
            11396,
            11399,
            11401,
            11404,
            11405,
            11407,
            11408,
            11411,
            11414,
            11415,
            11417,
            11420,
            11425,
            11428,
            11429,
            11434,
            11440,
            11442,
            11447,
            11450,
            11452,
            11453,
            11456,
            11457,
            11460,
            11461,
            11464,
            11466,
            11467,
            11469,
            11472,
            11473,
            11474,
            11476,
            11478,
            11481,
            11483,
            11484,
            11489,
            11493,
            11496,
            11500,
            11502,
            11503,
            11506,
            11507,
            11510,
            11511,
            11514,
            11515,
            11517,
            11520,
            11522,
            11525,
            11528,
            11530,
            11531,
            11534,
            11540,
            11541,
            11544,
            11545,
            11548,
            11550,
            11551,
            11555,
            11557,
            11559,
            11560,
            11563,
            11565,
            11567,
            11570,
            11571,
            11574,
            11575,
            11578,
            11581,
            11584,
            11585,
            11588,
            11589,
            11592,
            11593,
            11600,
            11601,
            11603,
            11607,
            11608,
            11611,
            11614,
            11615,
            11618,
            11619,
            11622,
            11623,
            11627,
            11630,
            11631,
            11634,
            11635,
            11636,
            11637,
            11640,
            11642,
            11646,
            11648,
            11649,
            11653,
            11656,
            11659,
            11660,
            11663,
            11664,
            11667,
            11668,
            11673,
            11676,
            11677,
            11679,
            11683,
            11686,
            11688,
            11691,
            11692,
            11697,
            11698,
            11701,
            11703,
            11705,
            11707,
            11708,
            11710,
            11711,
            11715,
            11717,
            11718,
            11721,
            11722,
            11725,
            11726,
            11729,
            11730,
            11733,
            11734,
            11737,
            11739,
            11740,
            11744,
            11745,
            11749,
            11750,
            11754,
            11755,
            11758,
            11759,
            11761,
            11765,
            11766,
            11771,
            11772,
            11775,
            11778,
            11779,
            11782,
            11784,
            11789,
            11790,
            11794,
            11795,
            11798,
            11799,
            11803,
            11804,
            11808,
            11809,
            11812,
            11813,
            11816,
            11818,
            11820,
            11823,
            11824,
            11827,
            11828,
            11831,
            11832,
            11835,
            11836,
            11840,
            11844,
            11845,
            11848,
            11853,
            11856,
            11857,
            11860,
            11861,
            11864,
            11865,
            11868,
            11872,
            11875,
            11876,
            11882,
            11883,
            11886,
            11887,
            11889,
            11892,
            11893,
            11897,
            11898,
            11901,
            11903,
            11904,
            11907,
            11911,
            11912,
            11915,
            11916,
            11919
           ],
           [
            null,
            null,
            null,
            null,
            null,
            null,
            null,
            null,
            null,
            null,
            null,
            null,
            null,
            null,
            null,
            null,
            null,
            null,
            null,
            null,
            null,
            null,
            null,
            null,
            null,
            null,
            null,
            null,
            null,
            null,
            null,
            null,
            null,
            null,
            null,
            null,
            null,
            null,
            null,
            null,
            null,
            null,
            null,
            null,
            null,
            null,
            null,
            null,
            null,
            null,
            null,
            null,
            null,
            null,
            null,
            null,
            null,
            null,
            null,
            null,
            null,
            null,
            null,
            null,
            null,
            null,
            null,
            null,
            null,
            null,
            null,
            null,
            null,
            null,
            null,
            null,
            null,
            null,
            null,
            null,
            null,
            null,
            null,
            null,
            null,
            null,
            null,
            null,
            null,
            null,
            null,
            null,
            null,
            null,
            null,
            null,
            null,
            null,
            null,
            null,
            null,
            null,
            null,
            null,
            null,
            null,
            null,
            null,
            null,
            null,
            null,
            null,
            null,
            null,
            null,
            null,
            null,
            null,
            null,
            null,
            null,
            null,
            null,
            null,
            null,
            null,
            null,
            null,
            null,
            null,
            null,
            null,
            null,
            null,
            null,
            null,
            null,
            null,
            null,
            null,
            null,
            null,
            null,
            null,
            null,
            null,
            null,
            null,
            null,
            null,
            null,
            null,
            null,
            null,
            null,
            null,
            null,
            null,
            null,
            null,
            null,
            null,
            null,
            null,
            null,
            null,
            null,
            null,
            null,
            null,
            null,
            null,
            null,
            null,
            null,
            null,
            null,
            null,
            null,
            null,
            null,
            null,
            null,
            null,
            null,
            null,
            null,
            null,
            null,
            null,
            null,
            null,
            null,
            null,
            null,
            null,
            null,
            null,
            null,
            null,
            null,
            null,
            null,
            null,
            null,
            null,
            null,
            null,
            null,
            null,
            null,
            null,
            null,
            null,
            null,
            null,
            null,
            null,
            null,
            null,
            null,
            null,
            null,
            null,
            null,
            null,
            null,
            null,
            null,
            null,
            null,
            null,
            null,
            null,
            null,
            null,
            null,
            null,
            null,
            null,
            null,
            null,
            null,
            null,
            null,
            null,
            null,
            null,
            null,
            null,
            null,
            null,
            null,
            null,
            null,
            null,
            null,
            null,
            null,
            null,
            null,
            null,
            null,
            null,
            null,
            null,
            null,
            null,
            null,
            null,
            null,
            null,
            null,
            null,
            null,
            null,
            null,
            null,
            null,
            null,
            null,
            null,
            null,
            null,
            null,
            null,
            null,
            null,
            null,
            null,
            null,
            null,
            null,
            null,
            null,
            null,
            null,
            null,
            null,
            null,
            null,
            null,
            null,
            null,
            null,
            null,
            null,
            null,
            null,
            null,
            null,
            null,
            null,
            null,
            null,
            null,
            null,
            null,
            null,
            null,
            null,
            null,
            null,
            null,
            null,
            null,
            null,
            null,
            null,
            null,
            null,
            null,
            null,
            null,
            null,
            null,
            null,
            null,
            null,
            null,
            null,
            null,
            null,
            null,
            null,
            null,
            null,
            null,
            null,
            null,
            null,
            null,
            null,
            null,
            null,
            null,
            null,
            null,
            null,
            null,
            null,
            null,
            null,
            null,
            null,
            null,
            null,
            null,
            null,
            null,
            null,
            null,
            null,
            null,
            null,
            null,
            null,
            null,
            null,
            null,
            null,
            null,
            null,
            null,
            null,
            null,
            null,
            null,
            null,
            null,
            null,
            null,
            null,
            null,
            null,
            null,
            null,
            null,
            null,
            null,
            null,
            null,
            null,
            null,
            null,
            null,
            null,
            null,
            null,
            null,
            null,
            null,
            null,
            null,
            null,
            null,
            null,
            null,
            null,
            null,
            null,
            null,
            null,
            null,
            null,
            null,
            null,
            null,
            null,
            null,
            null,
            null,
            null,
            null,
            null,
            null,
            null,
            null,
            null,
            null,
            null,
            null,
            null,
            null,
            null,
            null,
            null,
            null,
            null,
            null,
            null,
            null,
            null,
            null,
            null,
            null,
            null,
            null,
            null,
            null,
            null,
            null,
            null,
            null,
            null,
            null,
            null,
            null,
            null,
            null,
            null,
            null,
            null,
            null,
            null,
            null,
            null,
            null,
            null,
            null,
            null,
            null,
            null,
            null,
            null,
            null,
            null,
            null,
            null,
            null,
            null,
            null,
            null,
            null,
            null,
            null,
            null,
            null,
            null,
            null,
            null,
            null,
            null,
            null,
            null,
            null,
            null,
            null,
            null,
            null,
            null,
            null,
            null,
            null,
            null,
            null,
            null,
            null,
            null,
            null,
            null,
            null,
            null,
            null,
            null,
            null,
            null,
            null,
            null,
            null,
            null,
            null,
            null,
            null,
            null,
            null,
            null,
            null,
            null,
            null,
            null,
            null,
            null,
            null,
            null,
            null,
            null,
            null,
            null,
            null,
            null,
            null,
            null,
            null,
            null,
            null,
            null,
            null,
            null,
            null,
            null,
            null,
            null,
            null,
            null,
            null,
            null,
            null,
            null,
            null,
            null,
            null,
            null,
            null,
            null,
            null,
            null,
            null,
            null,
            null,
            null,
            null,
            null,
            null,
            null,
            null,
            null,
            null,
            null,
            null,
            null,
            null,
            null,
            null,
            null,
            null,
            null,
            null,
            null,
            null,
            null,
            null,
            null,
            null,
            null,
            null,
            null,
            null,
            null,
            null,
            null,
            null,
            null,
            null,
            null,
            null,
            null,
            null,
            null,
            null,
            null,
            null,
            null,
            null,
            null,
            null,
            null,
            null,
            null,
            null,
            null,
            null,
            null,
            null,
            null,
            null,
            null,
            null,
            null,
            null,
            null,
            null,
            null,
            null,
            null,
            null,
            null,
            null,
            null,
            null,
            null,
            null,
            null,
            null,
            null,
            null,
            null,
            null,
            null,
            null,
            null,
            null,
            null,
            null,
            null,
            null,
            null,
            null,
            null,
            null,
            null,
            null,
            null,
            null,
            null,
            null,
            null,
            null,
            null,
            null,
            null,
            null,
            null,
            null,
            null,
            null,
            null,
            null,
            null,
            null,
            null,
            null,
            null,
            null,
            null,
            null,
            null,
            null,
            null,
            null,
            null,
            null,
            null,
            null,
            null,
            null,
            null,
            null,
            null,
            null,
            null,
            null,
            null,
            null,
            null,
            null,
            null,
            null,
            null,
            null,
            null,
            null,
            null,
            null,
            null,
            null,
            null,
            null,
            null,
            null,
            null,
            null,
            null,
            null,
            null,
            null,
            null,
            null,
            null,
            null,
            null,
            null,
            null,
            null,
            null,
            null,
            null,
            null,
            null,
            null,
            null,
            null,
            null,
            null,
            null,
            null,
            null,
            null,
            null,
            null,
            null,
            null,
            null,
            null,
            null,
            null,
            null,
            null,
            null,
            null,
            null,
            null,
            null,
            null,
            null,
            null,
            null,
            null,
            null,
            null,
            null,
            null,
            null,
            null,
            null,
            null,
            null,
            null,
            null,
            null,
            null,
            null,
            null,
            null,
            null,
            null,
            null,
            null,
            null,
            null,
            null,
            null,
            null,
            null,
            null,
            null,
            null,
            null,
            null,
            null,
            null,
            null,
            null,
            null,
            null,
            null,
            null,
            null,
            null,
            null,
            null,
            null,
            null,
            null,
            null,
            null,
            null,
            null,
            null,
            null,
            null,
            null,
            null,
            null
           ],
           [
            null,
            null,
            null,
            null,
            null,
            null,
            null,
            null,
            null,
            null,
            null,
            null,
            null,
            null,
            null,
            null,
            null,
            null,
            null,
            null,
            null,
            null,
            null,
            null,
            null,
            null,
            null,
            null,
            null,
            null,
            null,
            null,
            null,
            null,
            null,
            null,
            null,
            null,
            null,
            null,
            null,
            null,
            null,
            null,
            null,
            null,
            null,
            null,
            null,
            null,
            null,
            null,
            null,
            null,
            null,
            null,
            null,
            null,
            null,
            null,
            null,
            null,
            null,
            null,
            null,
            null,
            null,
            null,
            null,
            null,
            null,
            null,
            null,
            null,
            null,
            null,
            null,
            null,
            null,
            null,
            null,
            null,
            null,
            null,
            null,
            null,
            null,
            null,
            null,
            null,
            null,
            null,
            null,
            null,
            null,
            null,
            null,
            null,
            null,
            null,
            null,
            null,
            null,
            null,
            null,
            null,
            null,
            null,
            null,
            null,
            null,
            null,
            null,
            null,
            null,
            null,
            null,
            null,
            null,
            null,
            null,
            null,
            null,
            null,
            null,
            null,
            null,
            null,
            null,
            null,
            null,
            null,
            null,
            null,
            null,
            null,
            null,
            null,
            null,
            null,
            null,
            null,
            null,
            null,
            null,
            null,
            null,
            null,
            null,
            null,
            null,
            null,
            null,
            null,
            null,
            null,
            null,
            null,
            null,
            null,
            null,
            null,
            null,
            null,
            null,
            null,
            null,
            null,
            null,
            null,
            null,
            null,
            null,
            null,
            null,
            null,
            null,
            null,
            null,
            null,
            null,
            null,
            null,
            null,
            null,
            null,
            null,
            null,
            null,
            null,
            null,
            null,
            null,
            null,
            null,
            null,
            null,
            null,
            null,
            null,
            null,
            null,
            null,
            null,
            null,
            null,
            null,
            null,
            null,
            null,
            null,
            null,
            null,
            null,
            null,
            null,
            null,
            null,
            null,
            null,
            null,
            null,
            null,
            null,
            null,
            null,
            null,
            null,
            null,
            null,
            null,
            null,
            null,
            null,
            null,
            null,
            null,
            null,
            null,
            null,
            null,
            null,
            null,
            null,
            null,
            null,
            null,
            null,
            null,
            null,
            null,
            null,
            null,
            null,
            null,
            null,
            null,
            null,
            null,
            null,
            null,
            null,
            null,
            null,
            null,
            null,
            null,
            null,
            null,
            null,
            null,
            null,
            null,
            null,
            null,
            null,
            null,
            null,
            null,
            null,
            null,
            null,
            null,
            null,
            null,
            null,
            null,
            null,
            null,
            null,
            null,
            null,
            null,
            null,
            null,
            null,
            null,
            null,
            null,
            null,
            null,
            null,
            null,
            null,
            null,
            null,
            null,
            null,
            null,
            null,
            null,
            null,
            null,
            null,
            null,
            null,
            null,
            null,
            null,
            null,
            null,
            null,
            null,
            null,
            null,
            null,
            null,
            null,
            null,
            null,
            null,
            null,
            null,
            null,
            null,
            null,
            null,
            null,
            null,
            null,
            null,
            null,
            null,
            null,
            null,
            null,
            null,
            null,
            null,
            null,
            null,
            null,
            null,
            null,
            null,
            null,
            null,
            null,
            null,
            null,
            null,
            null,
            null,
            null,
            null,
            null,
            null,
            null,
            null,
            null,
            null,
            null,
            null,
            null,
            null,
            null,
            null,
            null,
            null,
            null,
            null,
            null,
            null,
            null,
            null,
            null,
            null,
            null,
            null,
            null,
            null,
            null,
            null,
            null,
            null,
            null,
            null,
            null,
            null,
            null,
            null,
            null,
            null,
            null,
            null,
            null,
            null,
            null,
            null,
            null,
            null,
            null,
            null,
            null,
            null,
            null,
            null,
            null,
            null,
            null,
            null,
            null,
            null,
            null,
            null,
            null,
            null,
            null,
            null,
            null,
            null,
            null,
            null,
            null,
            null,
            null,
            null,
            null,
            null,
            null,
            null,
            null,
            null,
            null,
            null,
            null,
            null,
            null,
            null,
            null,
            null,
            null,
            null,
            null,
            null,
            null,
            null,
            null,
            null,
            null,
            null,
            null,
            null,
            null,
            null,
            null,
            null,
            null,
            null,
            null,
            null,
            null,
            null,
            null,
            null,
            null,
            null,
            null,
            null,
            null,
            null,
            null,
            null,
            null,
            null,
            null,
            null,
            null,
            null,
            null,
            null,
            null,
            null,
            null,
            null,
            null,
            null,
            null,
            null,
            null,
            null,
            null,
            null,
            null,
            null,
            null,
            null,
            null,
            null,
            null,
            null,
            null,
            null,
            null,
            null,
            null,
            null,
            null,
            null,
            null,
            null,
            null,
            null,
            null,
            null,
            null,
            null,
            null,
            null,
            null,
            null,
            null,
            null,
            null,
            null,
            null,
            null,
            null,
            null,
            null,
            null,
            null,
            null,
            null,
            null,
            null,
            null,
            null,
            null,
            null,
            null,
            null,
            null,
            null,
            null,
            null,
            null,
            null,
            null,
            null,
            null,
            null,
            null,
            null,
            null,
            null,
            null,
            null,
            null,
            null,
            null,
            null,
            null,
            null,
            null,
            null,
            null,
            null,
            null,
            null,
            null,
            null,
            null,
            null,
            null,
            null,
            null,
            null,
            null,
            null,
            null,
            null,
            null,
            null,
            null,
            null,
            null,
            null,
            null,
            null,
            null,
            null,
            null,
            null,
            null,
            null,
            null,
            null,
            null,
            null,
            null,
            null,
            null,
            null,
            null,
            null,
            null,
            null,
            null,
            null,
            null,
            null,
            null,
            null,
            null,
            null,
            null,
            null,
            null,
            null,
            null,
            null,
            null,
            null,
            null,
            null,
            null,
            null,
            null,
            null,
            null,
            null,
            null,
            null,
            null,
            null,
            null,
            null,
            null,
            null,
            null,
            null,
            null,
            null,
            null,
            null,
            null,
            null,
            null,
            null,
            null,
            null,
            null,
            null,
            null,
            null,
            null,
            null,
            null,
            null,
            null,
            null,
            null,
            null,
            null,
            null,
            null,
            null,
            null,
            null,
            null,
            null,
            null,
            null,
            null,
            null,
            null,
            null,
            null,
            null,
            null,
            null,
            null,
            null,
            null,
            null,
            null,
            null,
            null,
            null,
            null,
            null,
            null,
            null,
            null,
            null,
            null,
            null,
            null,
            null,
            null,
            null,
            null,
            null,
            null,
            null,
            null,
            null,
            null,
            null,
            null,
            null,
            null,
            null,
            null,
            null,
            null,
            null,
            null,
            null,
            null,
            null,
            null,
            null,
            null,
            null,
            null,
            null,
            null,
            null,
            null,
            null,
            null,
            null,
            null,
            null,
            null,
            null,
            null,
            null,
            null,
            null,
            null,
            null,
            null,
            null,
            null,
            null,
            null,
            null,
            null,
            null,
            null,
            null,
            null,
            null,
            null,
            null,
            null,
            null,
            null,
            null,
            null,
            null,
            null,
            null,
            null,
            null,
            null,
            null,
            null,
            null,
            null,
            null,
            null,
            null,
            null,
            null,
            null,
            null,
            null,
            null,
            null,
            null,
            null,
            null,
            null,
            null,
            null,
            null,
            null,
            null,
            null,
            null,
            null,
            null,
            null,
            null,
            null,
            null,
            null,
            null,
            null,
            null,
            null,
            null,
            null,
            null,
            null,
            null,
            null,
            null,
            null,
            null,
            null,
            null,
            null,
            null,
            null,
            null,
            null,
            null,
            null,
            null
           ]
          ]
         },
         "header": {
          "values": [
           "Group",
           "Id",
           "Step",
           "Description"
          ]
         },
         "type": "table"
        },
        {
         "cells": {
          "values": [
           "s u g a r, w a t e r",
           [
            586,
            587,
            588,
            589,
            590,
            591,
            592,
            593,
            622,
            623,
            624,
            625,
            626,
            630,
            631,
            632,
            633,
            634,
            635,
            636,
            637,
            638,
            641,
            642,
            643,
            644,
            645,
            646,
            647,
            652,
            653,
            654,
            655,
            656,
            658,
            659,
            660,
            661,
            662,
            663,
            664,
            665,
            666,
            667,
            668,
            669,
            693,
            694,
            695,
            696,
            703,
            704,
            705,
            706,
            707,
            710,
            711,
            712,
            713,
            714,
            719,
            720,
            721,
            722,
            723,
            724,
            726,
            727,
            728,
            729,
            730
           ],
           [
            "Step 1",
            "Step 2",
            "Step 3",
            "Step 4",
            "Step 5",
            "Step 6",
            "Step 7",
            "Step 8",
            "Step 1",
            "Step 2",
            "Step 3",
            "Step 4",
            "Step 5",
            "Step 1",
            "Step 2",
            "Step 3",
            "Step 4",
            "Step 5",
            "Step 6",
            "Step 7",
            "Step 8",
            "Step 9",
            "Step 1",
            "Step 2",
            "Step 3",
            "Step 4",
            "Step 5",
            "Step 6",
            "Step 7",
            "Step 1",
            "Step 2",
            "Step 3",
            "Step 4",
            "Step 5",
            "Step 1",
            "Step 2",
            "Step 3",
            "Step 4",
            "Step 5",
            "Step 1",
            "Step 2",
            "Step 3",
            "Step 4",
            "Step 5",
            "Step 6",
            "Step 7",
            "Step 1",
            "Step 2",
            "Step 3",
            "Step 4",
            "Step 1",
            "Step 2",
            "Step 3",
            "Step 4",
            "Step 5",
            "Step 1",
            "Step 2",
            "Step 3",
            "Step 4",
            "Step 5",
            "Step 1",
            "Step 2",
            "Step 3",
            "Step 4",
            "Step 5",
            "Step 6",
            "Step 1",
            "Step 2",
            "Step 3",
            "Step 4",
            "Step 5"
           ],
           [
            "Step 1: The wheat flour is mixed with water to form a dough.",
            "Step 2: The dough is rolled out and cut into noodles.",
            "Step 3: The noodles are fried in refined palm oil.",
            "Step 4: The seasoning powder is made by mixing salt, sugar, flavour enhancers, garlic powder, onion powder, yeast extract, artificial flavour, pepper, and anti caking agent.",
            "Step 5: The seasoning oil is made by mixing refined palm oil and onion.",
            "Step 6: The sweet soy sauce is made by mixing sugar, water, salt, wheat, soy bean, spices, and sesame oil.",
            "Step 7: The chilli sauce is made by mixing chilli, water, sugar, salt, tapioca starch, acidity regulators, herbs, flavour enhancers, flavours, and preservatives.",
            "Step 8: The fried onion is made by frying onion in refined palm oil.",
            "1. The wheat flour, sugar, vegetable oil, cocoa powder, fructose syrup, cornstarch, salt, raising agents, emulsifier, flavor, antioxidant, minerals, and vitamins are mixed together to form the cookie dough.",
            "2. The dough is then shaped into small, round cookies and baked until crispy.",
            "3. For the strawberry flavor, food acid and color are added to the dough before baking.",
            "4. After baking, the cookies are cooled and filled with a sweet cream filling.",
            "5. The cookies are then packaged into bags of 18 packs.",
            "Mixing and blending dry ingredients, including wheat flour, sugar, cocoa powder, and raising agents.",
            "Adding and mixing wet ingredients, such as vegetable oil, fructose syrup, and emulsifiers.",
            "Forming the dough and allowing it to rest.",
            "Sheeting and cutting the dough into round wafers.",
            "Baking the wafers at controlled temperatures.",
            "Preparing the vanilla creme filling by blending sugar, cornstarch, and other ingredients.",
            "Piping or spreading the creme filling onto one wafer.",
            "Assembling the sandwich cookies by topping the creme-filled wafer with a second wafer.",
            "Cooling and packaging the cookies for distribution.",
            "1. Apples and mangoes are harvested and processed to extract juice",
            "2. The juices are reconstituted to specific concentrations (95.8% apple juice, 4.0% mango juice)",
            "3. Citric acid is added to regulate acidity",
            "4. Vitamin C is added for fortification",
            "5. Natural flavours are introduced to enhance taste",
            "6. The mixture is pasteurized to ensure safety and stability",
            "7. The juice is packaged in aseptic containers for distribution",
            "Step 1: The fruit juices are extracted from pear, apple, pineapple, and passionfruit",
            "Step 2: The fruit juices are reconstituted with water",
            "Step 3: Sugar, food acids, and vitamin C are added to the mixture",
            "Step 4: The mixture is pasteurized to kill any bacteria and extend shelf life",
            "Step 5: The beverage is packaged in aseptic containers to maintain freshness",
            "Step 1: Extracting fruit juices and purées from apples, pears, pineapples, oranges, peaches, and passionfruits.",
            "Step 2: Combining the fruit juices and purées with water, sugar, food acids, vitamin C, natural flavors, and pectin.",
            "Step 3: Homogenizing the mixture to ensure a consistent texture and even distribution of ingredients.",
            "Step 4: Pasteurizing the mixture to kill any microorganisms and ensure a stable shelf life.",
            "Step 5: Filling the drink into containers, sealing, and cooling for storage and distribution.",
            "Step 1: Extraction of fruit juices from pear, apple, pineapple, orange, peach, and passionfruit",
            "Step 2: Blending of the fruit juices to create the tropical punch flavor",
            "Step 3: Addition of sugar and food acids (citric acid and potassium citrate) to enhance the flavor and preserve the product",
            "Step 4: Incorporation of natural flavors to enhance the fruit taste",
            "Step 5: Homogenization and pasteurization of the mixture to ensure safety and consistency",
            "Step 6: Filling and sealing of the individual containers",
            "Step 7: Packing the individual containers into multipacks",
            "Step 1: Canola oil, water, sugar, and vinegar are mixed together in a large vat.",
            "Step 2: Thickeners, egg yolk, gherkins, salt, onion powder, natural colors, preservatives, dill, acidity regulators, and herb extracts are added to the mixture.",
            "Step 3: The mixture is heated to a specific temperature to ensure proper mixing and emulsification.",
            "Step 4: The mixture is cooled and bottled for distribution.",
            "Potatoes are washed, peeled, and sliced into crinkle-cut shapes.",
            "The sliced potatoes are blanched in a mixture of canola and sunflower oils.",
            "The blanched potatoes are then fried in the same oil mixture until they are golden brown and crispy.",
            "While the potatoes are still hot, they are seasoned with a mixture of sugar, maltodextrin, salt, tomato powder, flavor enhancers, food acids, onion powder, and garlic powder.",
            "The seasoned chips are then cooled and packaged for distribution.",
            "Step 1: Potatoes are washed, peeled, and thinly sliced",
            "Step 2: The sliced potatoes are blanched to remove excess starch",
            "Step 3: The potatoes are then fried in a blend of canola and sunflower oils",
            "Step 4: After frying, the chips are seasoned with salt and a mix of antioxidants",
            "Step 5: The chips are packaged in a share pack for consumption",
            "Step 1: Fruits (peach and pear) are sorted, washed, and prepared for processing",
            "Step 2: The fruits are chopped and blended to form a puree",
            "Step 3: The fruit puree is mixed with reconstituted refined juice (made from concentrated pear juice, water, antioxidant (ascorbic acid), and acidity regulator (citric acid))",
            "Step 4: The mixture is homogenized to ensure even distribution of fruit chunks and juice",
            "Step 5: The product is filled into cups, sealed, and pasteurized for preservation",
            "Step 6: The cups are labeled, packaged, and prepared for distribution",
            "Step 1: Preparation of Jelly - Water, sugar, and gelling agents are combined and heated to dissolve the sugar and activate the gelling agents.",
            "Step 2: Addition of Natural Flavours and Colours - Once the jelly base is prepared, natural flavours and colours are added to give it a tropical flavour and vibrant colour.",
            "Step 3: Acidification - Acidity regulators are added to balance the pH and enhance the flavour of the jelly.",
            "Step 4: Fruit Preparation - Peach and pear pieces are prepared and added to the jelly mixture.",
            "Step 5: Filling and Setting - The mixture is filled into containers and allowed to set in a cool environment."
           ]
          ]
         },
         "header": {
          "values": [
           "Group",
           "Id",
           "Step",
           "Description"
          ]
         },
         "type": "table"
        }
       ],
       "layout": {
        "height": 800,
        "template": {
         "data": {
          "bar": [
           {
            "error_x": {
             "color": "#2a3f5f"
            },
            "error_y": {
             "color": "#2a3f5f"
            },
            "marker": {
             "line": {
              "color": "#E5ECF6",
              "width": 0.5
             },
             "pattern": {
              "fillmode": "overlay",
              "size": 10,
              "solidity": 0.2
             }
            },
            "type": "bar"
           }
          ],
          "barpolar": [
           {
            "marker": {
             "line": {
              "color": "#E5ECF6",
              "width": 0.5
             },
             "pattern": {
              "fillmode": "overlay",
              "size": 10,
              "solidity": 0.2
             }
            },
            "type": "barpolar"
           }
          ],
          "carpet": [
           {
            "aaxis": {
             "endlinecolor": "#2a3f5f",
             "gridcolor": "white",
             "linecolor": "white",
             "minorgridcolor": "white",
             "startlinecolor": "#2a3f5f"
            },
            "baxis": {
             "endlinecolor": "#2a3f5f",
             "gridcolor": "white",
             "linecolor": "white",
             "minorgridcolor": "white",
             "startlinecolor": "#2a3f5f"
            },
            "type": "carpet"
           }
          ],
          "choropleth": [
           {
            "colorbar": {
             "outlinewidth": 0,
             "ticks": ""
            },
            "type": "choropleth"
           }
          ],
          "contour": [
           {
            "colorbar": {
             "outlinewidth": 0,
             "ticks": ""
            },
            "colorscale": [
             [
              0,
              "#0d0887"
             ],
             [
              0.1111111111111111,
              "#46039f"
             ],
             [
              0.2222222222222222,
              "#7201a8"
             ],
             [
              0.3333333333333333,
              "#9c179e"
             ],
             [
              0.4444444444444444,
              "#bd3786"
             ],
             [
              0.5555555555555556,
              "#d8576b"
             ],
             [
              0.6666666666666666,
              "#ed7953"
             ],
             [
              0.7777777777777778,
              "#fb9f3a"
             ],
             [
              0.8888888888888888,
              "#fdca26"
             ],
             [
              1,
              "#f0f921"
             ]
            ],
            "type": "contour"
           }
          ],
          "contourcarpet": [
           {
            "colorbar": {
             "outlinewidth": 0,
             "ticks": ""
            },
            "type": "contourcarpet"
           }
          ],
          "heatmap": [
           {
            "colorbar": {
             "outlinewidth": 0,
             "ticks": ""
            },
            "colorscale": [
             [
              0,
              "#0d0887"
             ],
             [
              0.1111111111111111,
              "#46039f"
             ],
             [
              0.2222222222222222,
              "#7201a8"
             ],
             [
              0.3333333333333333,
              "#9c179e"
             ],
             [
              0.4444444444444444,
              "#bd3786"
             ],
             [
              0.5555555555555556,
              "#d8576b"
             ],
             [
              0.6666666666666666,
              "#ed7953"
             ],
             [
              0.7777777777777778,
              "#fb9f3a"
             ],
             [
              0.8888888888888888,
              "#fdca26"
             ],
             [
              1,
              "#f0f921"
             ]
            ],
            "type": "heatmap"
           }
          ],
          "heatmapgl": [
           {
            "colorbar": {
             "outlinewidth": 0,
             "ticks": ""
            },
            "colorscale": [
             [
              0,
              "#0d0887"
             ],
             [
              0.1111111111111111,
              "#46039f"
             ],
             [
              0.2222222222222222,
              "#7201a8"
             ],
             [
              0.3333333333333333,
              "#9c179e"
             ],
             [
              0.4444444444444444,
              "#bd3786"
             ],
             [
              0.5555555555555556,
              "#d8576b"
             ],
             [
              0.6666666666666666,
              "#ed7953"
             ],
             [
              0.7777777777777778,
              "#fb9f3a"
             ],
             [
              0.8888888888888888,
              "#fdca26"
             ],
             [
              1,
              "#f0f921"
             ]
            ],
            "type": "heatmapgl"
           }
          ],
          "histogram": [
           {
            "marker": {
             "pattern": {
              "fillmode": "overlay",
              "size": 10,
              "solidity": 0.2
             }
            },
            "type": "histogram"
           }
          ],
          "histogram2d": [
           {
            "colorbar": {
             "outlinewidth": 0,
             "ticks": ""
            },
            "colorscale": [
             [
              0,
              "#0d0887"
             ],
             [
              0.1111111111111111,
              "#46039f"
             ],
             [
              0.2222222222222222,
              "#7201a8"
             ],
             [
              0.3333333333333333,
              "#9c179e"
             ],
             [
              0.4444444444444444,
              "#bd3786"
             ],
             [
              0.5555555555555556,
              "#d8576b"
             ],
             [
              0.6666666666666666,
              "#ed7953"
             ],
             [
              0.7777777777777778,
              "#fb9f3a"
             ],
             [
              0.8888888888888888,
              "#fdca26"
             ],
             [
              1,
              "#f0f921"
             ]
            ],
            "type": "histogram2d"
           }
          ],
          "histogram2dcontour": [
           {
            "colorbar": {
             "outlinewidth": 0,
             "ticks": ""
            },
            "colorscale": [
             [
              0,
              "#0d0887"
             ],
             [
              0.1111111111111111,
              "#46039f"
             ],
             [
              0.2222222222222222,
              "#7201a8"
             ],
             [
              0.3333333333333333,
              "#9c179e"
             ],
             [
              0.4444444444444444,
              "#bd3786"
             ],
             [
              0.5555555555555556,
              "#d8576b"
             ],
             [
              0.6666666666666666,
              "#ed7953"
             ],
             [
              0.7777777777777778,
              "#fb9f3a"
             ],
             [
              0.8888888888888888,
              "#fdca26"
             ],
             [
              1,
              "#f0f921"
             ]
            ],
            "type": "histogram2dcontour"
           }
          ],
          "mesh3d": [
           {
            "colorbar": {
             "outlinewidth": 0,
             "ticks": ""
            },
            "type": "mesh3d"
           }
          ],
          "parcoords": [
           {
            "line": {
             "colorbar": {
              "outlinewidth": 0,
              "ticks": ""
             }
            },
            "type": "parcoords"
           }
          ],
          "pie": [
           {
            "automargin": true,
            "type": "pie"
           }
          ],
          "scatter": [
           {
            "fillpattern": {
             "fillmode": "overlay",
             "size": 10,
             "solidity": 0.2
            },
            "type": "scatter"
           }
          ],
          "scatter3d": [
           {
            "line": {
             "colorbar": {
              "outlinewidth": 0,
              "ticks": ""
             }
            },
            "marker": {
             "colorbar": {
              "outlinewidth": 0,
              "ticks": ""
             }
            },
            "type": "scatter3d"
           }
          ],
          "scattercarpet": [
           {
            "marker": {
             "colorbar": {
              "outlinewidth": 0,
              "ticks": ""
             }
            },
            "type": "scattercarpet"
           }
          ],
          "scattergeo": [
           {
            "marker": {
             "colorbar": {
              "outlinewidth": 0,
              "ticks": ""
             }
            },
            "type": "scattergeo"
           }
          ],
          "scattergl": [
           {
            "marker": {
             "colorbar": {
              "outlinewidth": 0,
              "ticks": ""
             }
            },
            "type": "scattergl"
           }
          ],
          "scattermapbox": [
           {
            "marker": {
             "colorbar": {
              "outlinewidth": 0,
              "ticks": ""
             }
            },
            "type": "scattermapbox"
           }
          ],
          "scatterpolar": [
           {
            "marker": {
             "colorbar": {
              "outlinewidth": 0,
              "ticks": ""
             }
            },
            "type": "scatterpolar"
           }
          ],
          "scatterpolargl": [
           {
            "marker": {
             "colorbar": {
              "outlinewidth": 0,
              "ticks": ""
             }
            },
            "type": "scatterpolargl"
           }
          ],
          "scatterternary": [
           {
            "marker": {
             "colorbar": {
              "outlinewidth": 0,
              "ticks": ""
             }
            },
            "type": "scatterternary"
           }
          ],
          "surface": [
           {
            "colorbar": {
             "outlinewidth": 0,
             "ticks": ""
            },
            "colorscale": [
             [
              0,
              "#0d0887"
             ],
             [
              0.1111111111111111,
              "#46039f"
             ],
             [
              0.2222222222222222,
              "#7201a8"
             ],
             [
              0.3333333333333333,
              "#9c179e"
             ],
             [
              0.4444444444444444,
              "#bd3786"
             ],
             [
              0.5555555555555556,
              "#d8576b"
             ],
             [
              0.6666666666666666,
              "#ed7953"
             ],
             [
              0.7777777777777778,
              "#fb9f3a"
             ],
             [
              0.8888888888888888,
              "#fdca26"
             ],
             [
              1,
              "#f0f921"
             ]
            ],
            "type": "surface"
           }
          ],
          "table": [
           {
            "cells": {
             "fill": {
              "color": "#EBF0F8"
             },
             "line": {
              "color": "white"
             }
            },
            "header": {
             "fill": {
              "color": "#C8D4E3"
             },
             "line": {
              "color": "white"
             }
            },
            "type": "table"
           }
          ]
         },
         "layout": {
          "annotationdefaults": {
           "arrowcolor": "#2a3f5f",
           "arrowhead": 0,
           "arrowwidth": 1
          },
          "autotypenumbers": "strict",
          "coloraxis": {
           "colorbar": {
            "outlinewidth": 0,
            "ticks": ""
           }
          },
          "colorscale": {
           "diverging": [
            [
             0,
             "#8e0152"
            ],
            [
             0.1,
             "#c51b7d"
            ],
            [
             0.2,
             "#de77ae"
            ],
            [
             0.3,
             "#f1b6da"
            ],
            [
             0.4,
             "#fde0ef"
            ],
            [
             0.5,
             "#f7f7f7"
            ],
            [
             0.6,
             "#e6f5d0"
            ],
            [
             0.7,
             "#b8e186"
            ],
            [
             0.8,
             "#7fbc41"
            ],
            [
             0.9,
             "#4d9221"
            ],
            [
             1,
             "#276419"
            ]
           ],
           "sequential": [
            [
             0,
             "#0d0887"
            ],
            [
             0.1111111111111111,
             "#46039f"
            ],
            [
             0.2222222222222222,
             "#7201a8"
            ],
            [
             0.3333333333333333,
             "#9c179e"
            ],
            [
             0.4444444444444444,
             "#bd3786"
            ],
            [
             0.5555555555555556,
             "#d8576b"
            ],
            [
             0.6666666666666666,
             "#ed7953"
            ],
            [
             0.7777777777777778,
             "#fb9f3a"
            ],
            [
             0.8888888888888888,
             "#fdca26"
            ],
            [
             1,
             "#f0f921"
            ]
           ],
           "sequentialminus": [
            [
             0,
             "#0d0887"
            ],
            [
             0.1111111111111111,
             "#46039f"
            ],
            [
             0.2222222222222222,
             "#7201a8"
            ],
            [
             0.3333333333333333,
             "#9c179e"
            ],
            [
             0.4444444444444444,
             "#bd3786"
            ],
            [
             0.5555555555555556,
             "#d8576b"
            ],
            [
             0.6666666666666666,
             "#ed7953"
            ],
            [
             0.7777777777777778,
             "#fb9f3a"
            ],
            [
             0.8888888888888888,
             "#fdca26"
            ],
            [
             1,
             "#f0f921"
            ]
           ]
          },
          "colorway": [
           "#636efa",
           "#EF553B",
           "#00cc96",
           "#ab63fa",
           "#FFA15A",
           "#19d3f3",
           "#FF6692",
           "#B6E880",
           "#FF97FF",
           "#FECB52"
          ],
          "font": {
           "color": "#2a3f5f"
          },
          "geo": {
           "bgcolor": "white",
           "lakecolor": "white",
           "landcolor": "#E5ECF6",
           "showlakes": true,
           "showland": true,
           "subunitcolor": "white"
          },
          "hoverlabel": {
           "align": "left"
          },
          "hovermode": "closest",
          "mapbox": {
           "style": "light"
          },
          "paper_bgcolor": "white",
          "plot_bgcolor": "#E5ECF6",
          "polar": {
           "angularaxis": {
            "gridcolor": "white",
            "linecolor": "white",
            "ticks": ""
           },
           "bgcolor": "#E5ECF6",
           "radialaxis": {
            "gridcolor": "white",
            "linecolor": "white",
            "ticks": ""
           }
          },
          "scene": {
           "xaxis": {
            "backgroundcolor": "#E5ECF6",
            "gridcolor": "white",
            "gridwidth": 2,
            "linecolor": "white",
            "showbackground": true,
            "ticks": "",
            "zerolinecolor": "white"
           },
           "yaxis": {
            "backgroundcolor": "#E5ECF6",
            "gridcolor": "white",
            "gridwidth": 2,
            "linecolor": "white",
            "showbackground": true,
            "ticks": "",
            "zerolinecolor": "white"
           },
           "zaxis": {
            "backgroundcolor": "#E5ECF6",
            "gridcolor": "white",
            "gridwidth": 2,
            "linecolor": "white",
            "showbackground": true,
            "ticks": "",
            "zerolinecolor": "white"
           }
          },
          "shapedefaults": {
           "line": {
            "color": "#2a3f5f"
           }
          },
          "ternary": {
           "aaxis": {
            "gridcolor": "white",
            "linecolor": "white",
            "ticks": ""
           },
           "baxis": {
            "gridcolor": "white",
            "linecolor": "white",
            "ticks": ""
           },
           "bgcolor": "#E5ECF6",
           "caxis": {
            "gridcolor": "white",
            "linecolor": "white",
            "ticks": ""
           }
          },
          "title": {
           "x": 0.05
          },
          "xaxis": {
           "automargin": true,
           "gridcolor": "white",
           "linecolor": "white",
           "ticks": "",
           "title": {
            "standoff": 15
           },
           "zerolinecolor": "white",
           "zerolinewidth": 2
          },
          "yaxis": {
           "automargin": true,
           "gridcolor": "white",
           "linecolor": "white",
           "ticks": "",
           "title": {
            "standoff": 15
           },
           "zerolinecolor": "white",
           "zerolinewidth": 2
          }
         }
        },
        "title": {
         "text": "ManufacturingProcess Grouped by Keyword Combinations"
        }
       }
      }
     },
     "metadata": {},
     "output_type": "display_data"
    }
   ],
   "source": [
    "import pandas as pd\n",
    "import plotly.graph_objects as go\n",
    "\n",
    "\n",
    "keyword_group = ['water', 'sugar']\n",
    "\n",
    "\n",
    "grouped1 = df[df['Description'].apply(lambda x: all(kw.lower() in str(x).lower() for kw in keyword_group1) if pd.notnull(x) else False)].groupby('Description')\n",
    "grouped2 = df.groupby(df['Description'].apply(lambda x: ', '.join(sorted([' '.join(group) for group in keyword_group if any(kw.lower() in str(x).lower() for kw in group)])) if pd.notnull(x) else ''))\n",
    "\n",
    "fig_data = []\n",
    "for group_name, group in grouped1:\n",
    "    group_trace = go.Table(\n",
    "        header=dict(values=['Group', 'Id', 'Step', 'Description']),\n",
    "        cells=dict(values=[group_name, group['Id'], group['Step'], group['Description']])\n",
    "    )\n",
    "    fig_data.append(group_trace)\n",
    "\n",
    "for group_name, group in grouped2:\n",
    "    group_trace = go.Table(\n",
    "        header=dict(values=['Group', 'Id', 'Step', 'Description']),\n",
    "        cells=dict(values=[group_name, group['Id'], group['Step'], group['Description']])\n",
    "    )\n",
    "    fig_data.append(group_trace)\n",
    "\n",
    "fig_layout = go.Layout(\n",
    "    title='ManufacturingProcess Grouped by Keyword Combinations',\n",
    "    height=800\n",
    ")\n",
    "\n",
    "fig = go.Figure(data=fig_data, layout=fig_layout)\n",
    "fig.show()"
   ]
  },
  {
   "cell_type": "code",
   "execution_count": 16,
   "metadata": {},
   "outputs": [
    {
     "name": "stdout",
     "output_type": "stream",
     "text": [
      "       Step                                        Description\n",
      "9    Step 6  Step 6: The sweet soy sauce is made by mixing ...\n",
      "10   Step 7  Step 7: The chilli sauce is made by mixing chi...\n",
      "77   Step 2  Step 2: Combining the fruit juices and purées ...\n",
      "111  Step 1  Step 1: Canola oil, water, sugar, and vinegar ...\n",
      "144  Step 1  Step 1: Preparation of Jelly - Water, sugar, a...\n"
     ]
    }
   ],
   "source": [
    "import pandas as pd\n",
    "\n",
    "\n",
    "keywords = ['water', 'sugar']\n",
    "\n",
    "# Filter rows containing both 'water' and 'sugar'\n",
    "mask = df['Description'].apply(lambda x: all(kw.lower() in str(x).lower() for kw in keywords) if pd.notnull(x) else False)\n",
    "filtered_df = df.loc[mask, ['Step', 'Description']]\n",
    "\n",
    "print(filtered_df)"
   ]
  },
  {
   "cell_type": "code",
   "execution_count": 17,
   "metadata": {},
   "outputs": [
    {
     "data": {
      "application/vnd.plotly.v1+json": {
       "config": {
        "plotlyServerURL": "https://plot.ly"
       },
       "data": [
        {
         "cells": {
          "values": [
           [
            591,
            592,
            659,
            693,
            726
           ],
           [
            "Step 6",
            "Step 7",
            "Step 2",
            "Step 1",
            "Step 1"
           ],
           [
            "Step 6: The sweet soy sauce is made by mixing sugar, water, salt, wheat, soy bean, spices, and sesame oil.",
            "Step 7: The chilli sauce is made by mixing chilli, water, sugar, salt, tapioca starch, acidity regulators, herbs, flavour enhancers, flavours, and preservatives.",
            "Step 2: Combining the fruit juices and purées with water, sugar, food acids, vitamin C, natural flavors, and pectin.",
            "Step 1: Canola oil, water, sugar, and vinegar are mixed together in a large vat.",
            "Step 1: Preparation of Jelly - Water, sugar, and gelling agents are combined and heated to dissolve the sugar and activate the gelling agents."
           ]
          ]
         },
         "header": {
          "values": [
           "Id",
           "Step",
           "Description"
          ]
         },
         "type": "table"
        }
       ],
       "layout": {
        "template": {
         "data": {
          "bar": [
           {
            "error_x": {
             "color": "#2a3f5f"
            },
            "error_y": {
             "color": "#2a3f5f"
            },
            "marker": {
             "line": {
              "color": "#E5ECF6",
              "width": 0.5
             },
             "pattern": {
              "fillmode": "overlay",
              "size": 10,
              "solidity": 0.2
             }
            },
            "type": "bar"
           }
          ],
          "barpolar": [
           {
            "marker": {
             "line": {
              "color": "#E5ECF6",
              "width": 0.5
             },
             "pattern": {
              "fillmode": "overlay",
              "size": 10,
              "solidity": 0.2
             }
            },
            "type": "barpolar"
           }
          ],
          "carpet": [
           {
            "aaxis": {
             "endlinecolor": "#2a3f5f",
             "gridcolor": "white",
             "linecolor": "white",
             "minorgridcolor": "white",
             "startlinecolor": "#2a3f5f"
            },
            "baxis": {
             "endlinecolor": "#2a3f5f",
             "gridcolor": "white",
             "linecolor": "white",
             "minorgridcolor": "white",
             "startlinecolor": "#2a3f5f"
            },
            "type": "carpet"
           }
          ],
          "choropleth": [
           {
            "colorbar": {
             "outlinewidth": 0,
             "ticks": ""
            },
            "type": "choropleth"
           }
          ],
          "contour": [
           {
            "colorbar": {
             "outlinewidth": 0,
             "ticks": ""
            },
            "colorscale": [
             [
              0,
              "#0d0887"
             ],
             [
              0.1111111111111111,
              "#46039f"
             ],
             [
              0.2222222222222222,
              "#7201a8"
             ],
             [
              0.3333333333333333,
              "#9c179e"
             ],
             [
              0.4444444444444444,
              "#bd3786"
             ],
             [
              0.5555555555555556,
              "#d8576b"
             ],
             [
              0.6666666666666666,
              "#ed7953"
             ],
             [
              0.7777777777777778,
              "#fb9f3a"
             ],
             [
              0.8888888888888888,
              "#fdca26"
             ],
             [
              1,
              "#f0f921"
             ]
            ],
            "type": "contour"
           }
          ],
          "contourcarpet": [
           {
            "colorbar": {
             "outlinewidth": 0,
             "ticks": ""
            },
            "type": "contourcarpet"
           }
          ],
          "heatmap": [
           {
            "colorbar": {
             "outlinewidth": 0,
             "ticks": ""
            },
            "colorscale": [
             [
              0,
              "#0d0887"
             ],
             [
              0.1111111111111111,
              "#46039f"
             ],
             [
              0.2222222222222222,
              "#7201a8"
             ],
             [
              0.3333333333333333,
              "#9c179e"
             ],
             [
              0.4444444444444444,
              "#bd3786"
             ],
             [
              0.5555555555555556,
              "#d8576b"
             ],
             [
              0.6666666666666666,
              "#ed7953"
             ],
             [
              0.7777777777777778,
              "#fb9f3a"
             ],
             [
              0.8888888888888888,
              "#fdca26"
             ],
             [
              1,
              "#f0f921"
             ]
            ],
            "type": "heatmap"
           }
          ],
          "heatmapgl": [
           {
            "colorbar": {
             "outlinewidth": 0,
             "ticks": ""
            },
            "colorscale": [
             [
              0,
              "#0d0887"
             ],
             [
              0.1111111111111111,
              "#46039f"
             ],
             [
              0.2222222222222222,
              "#7201a8"
             ],
             [
              0.3333333333333333,
              "#9c179e"
             ],
             [
              0.4444444444444444,
              "#bd3786"
             ],
             [
              0.5555555555555556,
              "#d8576b"
             ],
             [
              0.6666666666666666,
              "#ed7953"
             ],
             [
              0.7777777777777778,
              "#fb9f3a"
             ],
             [
              0.8888888888888888,
              "#fdca26"
             ],
             [
              1,
              "#f0f921"
             ]
            ],
            "type": "heatmapgl"
           }
          ],
          "histogram": [
           {
            "marker": {
             "pattern": {
              "fillmode": "overlay",
              "size": 10,
              "solidity": 0.2
             }
            },
            "type": "histogram"
           }
          ],
          "histogram2d": [
           {
            "colorbar": {
             "outlinewidth": 0,
             "ticks": ""
            },
            "colorscale": [
             [
              0,
              "#0d0887"
             ],
             [
              0.1111111111111111,
              "#46039f"
             ],
             [
              0.2222222222222222,
              "#7201a8"
             ],
             [
              0.3333333333333333,
              "#9c179e"
             ],
             [
              0.4444444444444444,
              "#bd3786"
             ],
             [
              0.5555555555555556,
              "#d8576b"
             ],
             [
              0.6666666666666666,
              "#ed7953"
             ],
             [
              0.7777777777777778,
              "#fb9f3a"
             ],
             [
              0.8888888888888888,
              "#fdca26"
             ],
             [
              1,
              "#f0f921"
             ]
            ],
            "type": "histogram2d"
           }
          ],
          "histogram2dcontour": [
           {
            "colorbar": {
             "outlinewidth": 0,
             "ticks": ""
            },
            "colorscale": [
             [
              0,
              "#0d0887"
             ],
             [
              0.1111111111111111,
              "#46039f"
             ],
             [
              0.2222222222222222,
              "#7201a8"
             ],
             [
              0.3333333333333333,
              "#9c179e"
             ],
             [
              0.4444444444444444,
              "#bd3786"
             ],
             [
              0.5555555555555556,
              "#d8576b"
             ],
             [
              0.6666666666666666,
              "#ed7953"
             ],
             [
              0.7777777777777778,
              "#fb9f3a"
             ],
             [
              0.8888888888888888,
              "#fdca26"
             ],
             [
              1,
              "#f0f921"
             ]
            ],
            "type": "histogram2dcontour"
           }
          ],
          "mesh3d": [
           {
            "colorbar": {
             "outlinewidth": 0,
             "ticks": ""
            },
            "type": "mesh3d"
           }
          ],
          "parcoords": [
           {
            "line": {
             "colorbar": {
              "outlinewidth": 0,
              "ticks": ""
             }
            },
            "type": "parcoords"
           }
          ],
          "pie": [
           {
            "automargin": true,
            "type": "pie"
           }
          ],
          "scatter": [
           {
            "fillpattern": {
             "fillmode": "overlay",
             "size": 10,
             "solidity": 0.2
            },
            "type": "scatter"
           }
          ],
          "scatter3d": [
           {
            "line": {
             "colorbar": {
              "outlinewidth": 0,
              "ticks": ""
             }
            },
            "marker": {
             "colorbar": {
              "outlinewidth": 0,
              "ticks": ""
             }
            },
            "type": "scatter3d"
           }
          ],
          "scattercarpet": [
           {
            "marker": {
             "colorbar": {
              "outlinewidth": 0,
              "ticks": ""
             }
            },
            "type": "scattercarpet"
           }
          ],
          "scattergeo": [
           {
            "marker": {
             "colorbar": {
              "outlinewidth": 0,
              "ticks": ""
             }
            },
            "type": "scattergeo"
           }
          ],
          "scattergl": [
           {
            "marker": {
             "colorbar": {
              "outlinewidth": 0,
              "ticks": ""
             }
            },
            "type": "scattergl"
           }
          ],
          "scattermapbox": [
           {
            "marker": {
             "colorbar": {
              "outlinewidth": 0,
              "ticks": ""
             }
            },
            "type": "scattermapbox"
           }
          ],
          "scatterpolar": [
           {
            "marker": {
             "colorbar": {
              "outlinewidth": 0,
              "ticks": ""
             }
            },
            "type": "scatterpolar"
           }
          ],
          "scatterpolargl": [
           {
            "marker": {
             "colorbar": {
              "outlinewidth": 0,
              "ticks": ""
             }
            },
            "type": "scatterpolargl"
           }
          ],
          "scatterternary": [
           {
            "marker": {
             "colorbar": {
              "outlinewidth": 0,
              "ticks": ""
             }
            },
            "type": "scatterternary"
           }
          ],
          "surface": [
           {
            "colorbar": {
             "outlinewidth": 0,
             "ticks": ""
            },
            "colorscale": [
             [
              0,
              "#0d0887"
             ],
             [
              0.1111111111111111,
              "#46039f"
             ],
             [
              0.2222222222222222,
              "#7201a8"
             ],
             [
              0.3333333333333333,
              "#9c179e"
             ],
             [
              0.4444444444444444,
              "#bd3786"
             ],
             [
              0.5555555555555556,
              "#d8576b"
             ],
             [
              0.6666666666666666,
              "#ed7953"
             ],
             [
              0.7777777777777778,
              "#fb9f3a"
             ],
             [
              0.8888888888888888,
              "#fdca26"
             ],
             [
              1,
              "#f0f921"
             ]
            ],
            "type": "surface"
           }
          ],
          "table": [
           {
            "cells": {
             "fill": {
              "color": "#EBF0F8"
             },
             "line": {
              "color": "white"
             }
            },
            "header": {
             "fill": {
              "color": "#C8D4E3"
             },
             "line": {
              "color": "white"
             }
            },
            "type": "table"
           }
          ]
         },
         "layout": {
          "annotationdefaults": {
           "arrowcolor": "#2a3f5f",
           "arrowhead": 0,
           "arrowwidth": 1
          },
          "autotypenumbers": "strict",
          "coloraxis": {
           "colorbar": {
            "outlinewidth": 0,
            "ticks": ""
           }
          },
          "colorscale": {
           "diverging": [
            [
             0,
             "#8e0152"
            ],
            [
             0.1,
             "#c51b7d"
            ],
            [
             0.2,
             "#de77ae"
            ],
            [
             0.3,
             "#f1b6da"
            ],
            [
             0.4,
             "#fde0ef"
            ],
            [
             0.5,
             "#f7f7f7"
            ],
            [
             0.6,
             "#e6f5d0"
            ],
            [
             0.7,
             "#b8e186"
            ],
            [
             0.8,
             "#7fbc41"
            ],
            [
             0.9,
             "#4d9221"
            ],
            [
             1,
             "#276419"
            ]
           ],
           "sequential": [
            [
             0,
             "#0d0887"
            ],
            [
             0.1111111111111111,
             "#46039f"
            ],
            [
             0.2222222222222222,
             "#7201a8"
            ],
            [
             0.3333333333333333,
             "#9c179e"
            ],
            [
             0.4444444444444444,
             "#bd3786"
            ],
            [
             0.5555555555555556,
             "#d8576b"
            ],
            [
             0.6666666666666666,
             "#ed7953"
            ],
            [
             0.7777777777777778,
             "#fb9f3a"
            ],
            [
             0.8888888888888888,
             "#fdca26"
            ],
            [
             1,
             "#f0f921"
            ]
           ],
           "sequentialminus": [
            [
             0,
             "#0d0887"
            ],
            [
             0.1111111111111111,
             "#46039f"
            ],
            [
             0.2222222222222222,
             "#7201a8"
            ],
            [
             0.3333333333333333,
             "#9c179e"
            ],
            [
             0.4444444444444444,
             "#bd3786"
            ],
            [
             0.5555555555555556,
             "#d8576b"
            ],
            [
             0.6666666666666666,
             "#ed7953"
            ],
            [
             0.7777777777777778,
             "#fb9f3a"
            ],
            [
             0.8888888888888888,
             "#fdca26"
            ],
            [
             1,
             "#f0f921"
            ]
           ]
          },
          "colorway": [
           "#636efa",
           "#EF553B",
           "#00cc96",
           "#ab63fa",
           "#FFA15A",
           "#19d3f3",
           "#FF6692",
           "#B6E880",
           "#FF97FF",
           "#FECB52"
          ],
          "font": {
           "color": "#2a3f5f"
          },
          "geo": {
           "bgcolor": "white",
           "lakecolor": "white",
           "landcolor": "#E5ECF6",
           "showlakes": true,
           "showland": true,
           "subunitcolor": "white"
          },
          "hoverlabel": {
           "align": "left"
          },
          "hovermode": "closest",
          "mapbox": {
           "style": "light"
          },
          "paper_bgcolor": "white",
          "plot_bgcolor": "#E5ECF6",
          "polar": {
           "angularaxis": {
            "gridcolor": "white",
            "linecolor": "white",
            "ticks": ""
           },
           "bgcolor": "#E5ECF6",
           "radialaxis": {
            "gridcolor": "white",
            "linecolor": "white",
            "ticks": ""
           }
          },
          "scene": {
           "xaxis": {
            "backgroundcolor": "#E5ECF6",
            "gridcolor": "white",
            "gridwidth": 2,
            "linecolor": "white",
            "showbackground": true,
            "ticks": "",
            "zerolinecolor": "white"
           },
           "yaxis": {
            "backgroundcolor": "#E5ECF6",
            "gridcolor": "white",
            "gridwidth": 2,
            "linecolor": "white",
            "showbackground": true,
            "ticks": "",
            "zerolinecolor": "white"
           },
           "zaxis": {
            "backgroundcolor": "#E5ECF6",
            "gridcolor": "white",
            "gridwidth": 2,
            "linecolor": "white",
            "showbackground": true,
            "ticks": "",
            "zerolinecolor": "white"
           }
          },
          "shapedefaults": {
           "line": {
            "color": "#2a3f5f"
           }
          },
          "ternary": {
           "aaxis": {
            "gridcolor": "white",
            "linecolor": "white",
            "ticks": ""
           },
           "baxis": {
            "gridcolor": "white",
            "linecolor": "white",
            "ticks": ""
           },
           "bgcolor": "#E5ECF6",
           "caxis": {
            "gridcolor": "white",
            "linecolor": "white",
            "ticks": ""
           }
          },
          "title": {
           "x": 0.05
          },
          "xaxis": {
           "automargin": true,
           "gridcolor": "white",
           "linecolor": "white",
           "ticks": "",
           "title": {
            "standoff": 15
           },
           "zerolinecolor": "white",
           "zerolinewidth": 2
          },
          "yaxis": {
           "automargin": true,
           "gridcolor": "white",
           "linecolor": "white",
           "ticks": "",
           "title": {
            "standoff": 15
           },
           "zerolinecolor": "white",
           "zerolinewidth": 2
          }
         }
        },
        "title": {
         "text": "ManufacturingProcess with 'water' and 'sugar' in Description"
        }
       }
      }
     },
     "metadata": {},
     "output_type": "display_data"
    }
   ],
   "source": [
    "import pandas as pd\n",
    "import plotly.graph_objects as go\n",
    "\n",
    "\n",
    "keywords = ['water', 'sugar']\n",
    "\n",
    "# Filter rows containing both 'water' and 'sugar'\n",
    "mask = df['Description'].apply(lambda x: all(kw.lower() in str(x).lower() for kw in keywords) if pd.notnull(x) else False)\n",
    "filtered_df = df.loc[mask, ['Id', 'Step', 'Description']]\n",
    "\n",
    "# create the Plotly table\n",
    "fig_data = [go.Table(\n",
    "    header=dict(values=['Id', 'Step', 'Description']),\n",
    "    cells=dict(values=[filtered_df['Id'], filtered_df['Step'], filtered_df['Description']])\n",
    ")]\n",
    "\n",
    "# set up layout\n",
    "fig_layout = go.Layout(\n",
    "    title='ManufacturingProcess with \\'water\\' and \\'sugar\\' in Description'\n",
    ")\n",
    "\n",
    "\n",
    "fig = go.Figure(data=fig_data, layout=fig_layout)\n",
    "fig.show()"
   ]
  },
  {
   "cell_type": "code",
   "execution_count": null,
   "metadata": {},
   "outputs": [],
   "source": []
  },
  {
   "cell_type": "code",
   "execution_count": 18,
   "metadata": {},
   "outputs": [
    {
     "data": {
      "application/vnd.plotly.v1+json": {
       "config": {
        "plotlyServerURL": "https://plot.ly"
       },
       "data": [
        {
         "cells": {
          "values": [
           [
            "Step 1",
            "Step 4",
            "Step 6",
            "Step 7",
            "Step 1",
            "Step 1",
            "Step 6",
            "Step 2",
            "Step 3",
            "Step 2",
            "Step 3",
            "Step 1",
            "Step 4",
            "Step 3",
            "Step 1"
           ],
           [
            "Step 1: The wheat flour is mixed with water to form a dough.",
            "Step 4: The seasoning powder is made by mixing salt, sugar, flavour enhancers, garlic powder, onion powder, yeast extract, artificial flavour, pepper, and anti caking agent.",
            "Step 6: The sweet soy sauce is made by mixing sugar, water, salt, wheat, soy bean, spices, and sesame oil.",
            "Step 7: The chilli sauce is made by mixing chilli, water, sugar, salt, tapioca starch, acidity regulators, herbs, flavour enhancers, flavours, and preservatives.",
            "1. The wheat flour, sugar, vegetable oil, cocoa powder, fructose syrup, cornstarch, salt, raising agents, emulsifier, flavor, antioxidant, minerals, and vitamins are mixed together to form the cookie dough.",
            "Mixing and blending dry ingredients, including wheat flour, sugar, cocoa powder, and raising agents.",
            "Preparing the vanilla creme filling by blending sugar, cornstarch, and other ingredients.",
            "Step 2: The fruit juices are reconstituted with water",
            "Step 3: Sugar, food acids, and vitamin C are added to the mixture",
            "Step 2: Combining the fruit juices and purées with water, sugar, food acids, vitamin C, natural flavors, and pectin.",
            "Step 3: Addition of sugar and food acids (citric acid and potassium citrate) to enhance the flavor and preserve the product",
            "Step 1: Canola oil, water, sugar, and vinegar are mixed together in a large vat.",
            "While the potatoes are still hot, they are seasoned with a mixture of sugar, maltodextrin, salt, tomato powder, flavor enhancers, food acids, onion powder, and garlic powder.",
            "Step 3: The fruit puree is mixed with reconstituted refined juice (made from concentrated pear juice, water, antioxidant (ascorbic acid), and acidity regulator (citric acid))",
            "Step 1: Preparation of Jelly - Water, sugar, and gelling agents are combined and heated to dissolve the sugar and activate the gelling agents."
           ],
           [
            "Noodles: Wheat Flour (62%), Refined Palm Oil (Contains Antioxidant 319), Salt, Acidity Regulators (451, 501, 500), Thickener (412), Colour (101).<br>Seasoning Powder: Salt, Sugar, Flavour Enhancers (621, 631, 627), Garlic Powder, Onion Powder, Yeast Extract, Artificial Flavour, Pepper, Anti Caking Agent (551).<br>Seasoning Oil: Refined Palm Oil (Contains Antioxidant 319), Onion.<br>Sweet Soy Sauce: Sugar, Water, Salt, Wheat, Soy Bean, Spices, Sesame Oil.<br>Chilli Sauce: Chilli, Water, Sugar, Salt, Tapioca Starch, Acidity Regulators (260, 330), Herbs, Flavour Enhancers (621, 627, 631), Flavours, Preservatives 1211, 223). Fried Onion: Onion, Refined Palm Oil (Contains Antioxidant 319).",
            "Noodles: Wheat Flour (62%), Refined Palm Oil (Contains Antioxidant 319), Salt, Acidity Regulators (451, 501, 500), Thickener (412), Colour (101).<br>Seasoning Powder: Salt, Sugar, Flavour Enhancers (621, 631, 627), Garlic Powder, Onion Powder, Yeast Extract, Artificial Flavour, Pepper, Anti Caking Agent (551).<br>Seasoning Oil: Refined Palm Oil (Contains Antioxidant 319), Onion.<br>Sweet Soy Sauce: Sugar, Water, Salt, Wheat, Soy Bean, Spices, Sesame Oil.<br>Chilli Sauce: Chilli, Water, Sugar, Salt, Tapioca Starch, Acidity Regulators (260, 330), Herbs, Flavour Enhancers (621, 627, 631), Flavours, Preservatives 1211, 223). Fried Onion: Onion, Refined Palm Oil (Contains Antioxidant 319).",
            "Noodles: Wheat Flour (62%), Refined Palm Oil (Contains Antioxidant 319), Salt, Acidity Regulators (451, 501, 500), Thickener (412), Colour (101).<br>Seasoning Powder: Salt, Sugar, Flavour Enhancers (621, 631, 627), Garlic Powder, Onion Powder, Yeast Extract, Artificial Flavour, Pepper, Anti Caking Agent (551).<br>Seasoning Oil: Refined Palm Oil (Contains Antioxidant 319), Onion.<br>Sweet Soy Sauce: Sugar, Water, Salt, Wheat, Soy Bean, Spices, Sesame Oil.<br>Chilli Sauce: Chilli, Water, Sugar, Salt, Tapioca Starch, Acidity Regulators (260, 330), Herbs, Flavour Enhancers (621, 627, 631), Flavours, Preservatives 1211, 223). Fried Onion: Onion, Refined Palm Oil (Contains Antioxidant 319).",
            "Noodles: Wheat Flour (62%), Refined Palm Oil (Contains Antioxidant 319), Salt, Acidity Regulators (451, 501, 500), Thickener (412), Colour (101).<br>Seasoning Powder: Salt, Sugar, Flavour Enhancers (621, 631, 627), Garlic Powder, Onion Powder, Yeast Extract, Artificial Flavour, Pepper, Anti Caking Agent (551).<br>Seasoning Oil: Refined Palm Oil (Contains Antioxidant 319), Onion.<br>Sweet Soy Sauce: Sugar, Water, Salt, Wheat, Soy Bean, Spices, Sesame Oil.<br>Chilli Sauce: Chilli, Water, Sugar, Salt, Tapioca Starch, Acidity Regulators (260, 330), Herbs, Flavour Enhancers (621, 627, 631), Flavours, Preservatives 1211, 223). Fried Onion: Onion, Refined Palm Oil (Contains Antioxidant 319).",
            "Mini Oreo Original Wheat Flour, Sugar, Vegetable Oil, Cocoa Powder, Fructose Syrup, Cornstarch, Salt, Raising Agents (500, 503), Emulsifier (Soy Lecithin), Flavour, Antioxidant (319), Minerals (Iron, Zinc), Vitamins (Riboflavin, Thiamin, Folate). Mini Oreo ChocolateWheat Flour, Sugar, Vegetable Oil, Cocoa Powder, Fructose Syrup, Cornstarch, Salt, Raising Agents (500, 503), Emulsifier (Soy Lecithin), Flavour, Antioxidant (319), Minerals (Iron, Zinc), Vitamins (Riboflavin, Thiamin, Folate). Mini Oreo StrawberryWheat Flou, Sugar, Vegetable Oil, Cocoa Powder, Fructose Syrup, Cornstarch, Salt, Raising Agents (500, 503), Emulsifier (Soy Lecithin), Flavours, Food Acid (330), Colour (120), Minerals (Iron, Zinc), Antioxidant (319), Vitamins (Riboflavin, Thiamin, Folate).",
            "Chocolate flavoured sandwich cookies with vanilla flavoured creme (29%)Wheat Flour, Sugar, Vegetable Oil, Cocoa Powder, Fructose Syrup, Cornstarch, Salt, Raising Agents (500, 503), Emulsifier (Soy Lecithin), Flavour, Antioxidant (319), Minerals (Iron, Zinc), Vitamins (Riboflavin, Thiamin, Folate)",
            "Chocolate flavoured sandwich cookies with vanilla flavoured creme (29%)Wheat Flour, Sugar, Vegetable Oil, Cocoa Powder, Fructose Syrup, Cornstarch, Salt, Raising Agents (500, 503), Emulsifier (Soy Lecithin), Flavour, Antioxidant (319), Minerals (Iron, Zinc), Vitamins (Riboflavin, Thiamin, Folate)",
            "Water, Reconstituted Fruit Juice Pear or Apple (15%), Pineapple (9%), Passionfruit (1%), Sugar, Food Acids (Citric Acid, Potassium Citrate), Vitamin C, Natural Flavours.",
            "Water, Reconstituted Fruit Juice Pear or Apple (15%), Pineapple (9%), Passionfruit (1%), Sugar, Food Acids (Citric Acid, Potassium Citrate), Vitamin C, Natural Flavours.",
            "Water, Reconstituted Fruit Juice (25%) (Apple or Pear, Pineapple, Orange or Water Extracted Orange, Peach Purée, Passionfruit), Sugar, Food Acids (Citric Acid, Potassium Citrate), Vitamin C, Natural Flavours, Stabiliser (Pectin).",
            "Water, Reconstituted Fruit Juice (25%) Pear or Apple, Pineapple, Orange, Peach Pure, Passionfruit, Sugar, Food Acids (Citric Acid, Potassium Citrate), Vitamin C, Natural Flavours.",
            "Canola Oil, Water, Sugar, Vinegar, Thickener (1422, Xanthan Gum), Free Range Egg Yolk,  Gherkin, Salt, Onion Powder, Natural Colour (Carotene, Paprika Oleoresins), Preservative (Potassium Sorbate), Dill, Acidity Regulator (Citric Acid), Herb Extract, Mustard Oil.",
            "Potatoes, Canola Oil, Sunflower Oil, Sugar, Maltod,extrin, Salt, Tomato Powder, Flavour Enhancers (62,1, 635), Food Acids (Sodium Diacetate, Citric Acid,), Flavours, Mineral Salt (Potassium Chloride), On,ion Powder, Garlic Powder, Natural Colour (Paprika,",
            "Fruits (55%) (Peach, Pear), Reconstituted Refined Juice (Water, Concentrated Pear Juice, Antioxidant (Ascorbic Acid), Acidity Regulator (Citric Acid))",
            "Jelly (70%) (Water, Sugar, Gelling Agents (Carrageenan, Locust Bean Gum, Xanthan Gum), Acidity Regulators (Sodium Citrates, Potassium Citrates, Calcium Lactate, Malic Acid, Citric Acid), Natural Flavours (Pineapple, Mango), Natural Colours (Carotene, Paprika Oleoresins), Antioxidant (Ascorbic Acid)), Peach (15%), Pear (15%)"
           ]
          ]
         },
         "header": {
          "values": [
           "ManufacturingProcessStep",
           "ManufacturingProcessDescription",
           "RecipeName"
          ]
         },
         "type": "table"
        }
       ],
       "layout": {
        "template": {
         "data": {
          "bar": [
           {
            "error_x": {
             "color": "#2a3f5f"
            },
            "error_y": {
             "color": "#2a3f5f"
            },
            "marker": {
             "line": {
              "color": "#E5ECF6",
              "width": 0.5
             },
             "pattern": {
              "fillmode": "overlay",
              "size": 10,
              "solidity": 0.2
             }
            },
            "type": "bar"
           }
          ],
          "barpolar": [
           {
            "marker": {
             "line": {
              "color": "#E5ECF6",
              "width": 0.5
             },
             "pattern": {
              "fillmode": "overlay",
              "size": 10,
              "solidity": 0.2
             }
            },
            "type": "barpolar"
           }
          ],
          "carpet": [
           {
            "aaxis": {
             "endlinecolor": "#2a3f5f",
             "gridcolor": "white",
             "linecolor": "white",
             "minorgridcolor": "white",
             "startlinecolor": "#2a3f5f"
            },
            "baxis": {
             "endlinecolor": "#2a3f5f",
             "gridcolor": "white",
             "linecolor": "white",
             "minorgridcolor": "white",
             "startlinecolor": "#2a3f5f"
            },
            "type": "carpet"
           }
          ],
          "choropleth": [
           {
            "colorbar": {
             "outlinewidth": 0,
             "ticks": ""
            },
            "type": "choropleth"
           }
          ],
          "contour": [
           {
            "colorbar": {
             "outlinewidth": 0,
             "ticks": ""
            },
            "colorscale": [
             [
              0,
              "#0d0887"
             ],
             [
              0.1111111111111111,
              "#46039f"
             ],
             [
              0.2222222222222222,
              "#7201a8"
             ],
             [
              0.3333333333333333,
              "#9c179e"
             ],
             [
              0.4444444444444444,
              "#bd3786"
             ],
             [
              0.5555555555555556,
              "#d8576b"
             ],
             [
              0.6666666666666666,
              "#ed7953"
             ],
             [
              0.7777777777777778,
              "#fb9f3a"
             ],
             [
              0.8888888888888888,
              "#fdca26"
             ],
             [
              1,
              "#f0f921"
             ]
            ],
            "type": "contour"
           }
          ],
          "contourcarpet": [
           {
            "colorbar": {
             "outlinewidth": 0,
             "ticks": ""
            },
            "type": "contourcarpet"
           }
          ],
          "heatmap": [
           {
            "colorbar": {
             "outlinewidth": 0,
             "ticks": ""
            },
            "colorscale": [
             [
              0,
              "#0d0887"
             ],
             [
              0.1111111111111111,
              "#46039f"
             ],
             [
              0.2222222222222222,
              "#7201a8"
             ],
             [
              0.3333333333333333,
              "#9c179e"
             ],
             [
              0.4444444444444444,
              "#bd3786"
             ],
             [
              0.5555555555555556,
              "#d8576b"
             ],
             [
              0.6666666666666666,
              "#ed7953"
             ],
             [
              0.7777777777777778,
              "#fb9f3a"
             ],
             [
              0.8888888888888888,
              "#fdca26"
             ],
             [
              1,
              "#f0f921"
             ]
            ],
            "type": "heatmap"
           }
          ],
          "heatmapgl": [
           {
            "colorbar": {
             "outlinewidth": 0,
             "ticks": ""
            },
            "colorscale": [
             [
              0,
              "#0d0887"
             ],
             [
              0.1111111111111111,
              "#46039f"
             ],
             [
              0.2222222222222222,
              "#7201a8"
             ],
             [
              0.3333333333333333,
              "#9c179e"
             ],
             [
              0.4444444444444444,
              "#bd3786"
             ],
             [
              0.5555555555555556,
              "#d8576b"
             ],
             [
              0.6666666666666666,
              "#ed7953"
             ],
             [
              0.7777777777777778,
              "#fb9f3a"
             ],
             [
              0.8888888888888888,
              "#fdca26"
             ],
             [
              1,
              "#f0f921"
             ]
            ],
            "type": "heatmapgl"
           }
          ],
          "histogram": [
           {
            "marker": {
             "pattern": {
              "fillmode": "overlay",
              "size": 10,
              "solidity": 0.2
             }
            },
            "type": "histogram"
           }
          ],
          "histogram2d": [
           {
            "colorbar": {
             "outlinewidth": 0,
             "ticks": ""
            },
            "colorscale": [
             [
              0,
              "#0d0887"
             ],
             [
              0.1111111111111111,
              "#46039f"
             ],
             [
              0.2222222222222222,
              "#7201a8"
             ],
             [
              0.3333333333333333,
              "#9c179e"
             ],
             [
              0.4444444444444444,
              "#bd3786"
             ],
             [
              0.5555555555555556,
              "#d8576b"
             ],
             [
              0.6666666666666666,
              "#ed7953"
             ],
             [
              0.7777777777777778,
              "#fb9f3a"
             ],
             [
              0.8888888888888888,
              "#fdca26"
             ],
             [
              1,
              "#f0f921"
             ]
            ],
            "type": "histogram2d"
           }
          ],
          "histogram2dcontour": [
           {
            "colorbar": {
             "outlinewidth": 0,
             "ticks": ""
            },
            "colorscale": [
             [
              0,
              "#0d0887"
             ],
             [
              0.1111111111111111,
              "#46039f"
             ],
             [
              0.2222222222222222,
              "#7201a8"
             ],
             [
              0.3333333333333333,
              "#9c179e"
             ],
             [
              0.4444444444444444,
              "#bd3786"
             ],
             [
              0.5555555555555556,
              "#d8576b"
             ],
             [
              0.6666666666666666,
              "#ed7953"
             ],
             [
              0.7777777777777778,
              "#fb9f3a"
             ],
             [
              0.8888888888888888,
              "#fdca26"
             ],
             [
              1,
              "#f0f921"
             ]
            ],
            "type": "histogram2dcontour"
           }
          ],
          "mesh3d": [
           {
            "colorbar": {
             "outlinewidth": 0,
             "ticks": ""
            },
            "type": "mesh3d"
           }
          ],
          "parcoords": [
           {
            "line": {
             "colorbar": {
              "outlinewidth": 0,
              "ticks": ""
             }
            },
            "type": "parcoords"
           }
          ],
          "pie": [
           {
            "automargin": true,
            "type": "pie"
           }
          ],
          "scatter": [
           {
            "fillpattern": {
             "fillmode": "overlay",
             "size": 10,
             "solidity": 0.2
            },
            "type": "scatter"
           }
          ],
          "scatter3d": [
           {
            "line": {
             "colorbar": {
              "outlinewidth": 0,
              "ticks": ""
             }
            },
            "marker": {
             "colorbar": {
              "outlinewidth": 0,
              "ticks": ""
             }
            },
            "type": "scatter3d"
           }
          ],
          "scattercarpet": [
           {
            "marker": {
             "colorbar": {
              "outlinewidth": 0,
              "ticks": ""
             }
            },
            "type": "scattercarpet"
           }
          ],
          "scattergeo": [
           {
            "marker": {
             "colorbar": {
              "outlinewidth": 0,
              "ticks": ""
             }
            },
            "type": "scattergeo"
           }
          ],
          "scattergl": [
           {
            "marker": {
             "colorbar": {
              "outlinewidth": 0,
              "ticks": ""
             }
            },
            "type": "scattergl"
           }
          ],
          "scattermapbox": [
           {
            "marker": {
             "colorbar": {
              "outlinewidth": 0,
              "ticks": ""
             }
            },
            "type": "scattermapbox"
           }
          ],
          "scatterpolar": [
           {
            "marker": {
             "colorbar": {
              "outlinewidth": 0,
              "ticks": ""
             }
            },
            "type": "scatterpolar"
           }
          ],
          "scatterpolargl": [
           {
            "marker": {
             "colorbar": {
              "outlinewidth": 0,
              "ticks": ""
             }
            },
            "type": "scatterpolargl"
           }
          ],
          "scatterternary": [
           {
            "marker": {
             "colorbar": {
              "outlinewidth": 0,
              "ticks": ""
             }
            },
            "type": "scatterternary"
           }
          ],
          "surface": [
           {
            "colorbar": {
             "outlinewidth": 0,
             "ticks": ""
            },
            "colorscale": [
             [
              0,
              "#0d0887"
             ],
             [
              0.1111111111111111,
              "#46039f"
             ],
             [
              0.2222222222222222,
              "#7201a8"
             ],
             [
              0.3333333333333333,
              "#9c179e"
             ],
             [
              0.4444444444444444,
              "#bd3786"
             ],
             [
              0.5555555555555556,
              "#d8576b"
             ],
             [
              0.6666666666666666,
              "#ed7953"
             ],
             [
              0.7777777777777778,
              "#fb9f3a"
             ],
             [
              0.8888888888888888,
              "#fdca26"
             ],
             [
              1,
              "#f0f921"
             ]
            ],
            "type": "surface"
           }
          ],
          "table": [
           {
            "cells": {
             "fill": {
              "color": "#EBF0F8"
             },
             "line": {
              "color": "white"
             }
            },
            "header": {
             "fill": {
              "color": "#C8D4E3"
             },
             "line": {
              "color": "white"
             }
            },
            "type": "table"
           }
          ]
         },
         "layout": {
          "annotationdefaults": {
           "arrowcolor": "#2a3f5f",
           "arrowhead": 0,
           "arrowwidth": 1
          },
          "autotypenumbers": "strict",
          "coloraxis": {
           "colorbar": {
            "outlinewidth": 0,
            "ticks": ""
           }
          },
          "colorscale": {
           "diverging": [
            [
             0,
             "#8e0152"
            ],
            [
             0.1,
             "#c51b7d"
            ],
            [
             0.2,
             "#de77ae"
            ],
            [
             0.3,
             "#f1b6da"
            ],
            [
             0.4,
             "#fde0ef"
            ],
            [
             0.5,
             "#f7f7f7"
            ],
            [
             0.6,
             "#e6f5d0"
            ],
            [
             0.7,
             "#b8e186"
            ],
            [
             0.8,
             "#7fbc41"
            ],
            [
             0.9,
             "#4d9221"
            ],
            [
             1,
             "#276419"
            ]
           ],
           "sequential": [
            [
             0,
             "#0d0887"
            ],
            [
             0.1111111111111111,
             "#46039f"
            ],
            [
             0.2222222222222222,
             "#7201a8"
            ],
            [
             0.3333333333333333,
             "#9c179e"
            ],
            [
             0.4444444444444444,
             "#bd3786"
            ],
            [
             0.5555555555555556,
             "#d8576b"
            ],
            [
             0.6666666666666666,
             "#ed7953"
            ],
            [
             0.7777777777777778,
             "#fb9f3a"
            ],
            [
             0.8888888888888888,
             "#fdca26"
            ],
            [
             1,
             "#f0f921"
            ]
           ],
           "sequentialminus": [
            [
             0,
             "#0d0887"
            ],
            [
             0.1111111111111111,
             "#46039f"
            ],
            [
             0.2222222222222222,
             "#7201a8"
            ],
            [
             0.3333333333333333,
             "#9c179e"
            ],
            [
             0.4444444444444444,
             "#bd3786"
            ],
            [
             0.5555555555555556,
             "#d8576b"
            ],
            [
             0.6666666666666666,
             "#ed7953"
            ],
            [
             0.7777777777777778,
             "#fb9f3a"
            ],
            [
             0.8888888888888888,
             "#fdca26"
            ],
            [
             1,
             "#f0f921"
            ]
           ]
          },
          "colorway": [
           "#636efa",
           "#EF553B",
           "#00cc96",
           "#ab63fa",
           "#FFA15A",
           "#19d3f3",
           "#FF6692",
           "#B6E880",
           "#FF97FF",
           "#FECB52"
          ],
          "font": {
           "color": "#2a3f5f"
          },
          "geo": {
           "bgcolor": "white",
           "lakecolor": "white",
           "landcolor": "#E5ECF6",
           "showlakes": true,
           "showland": true,
           "subunitcolor": "white"
          },
          "hoverlabel": {
           "align": "left"
          },
          "hovermode": "closest",
          "mapbox": {
           "style": "light"
          },
          "paper_bgcolor": "white",
          "plot_bgcolor": "#E5ECF6",
          "polar": {
           "angularaxis": {
            "gridcolor": "white",
            "linecolor": "white",
            "ticks": ""
           },
           "bgcolor": "#E5ECF6",
           "radialaxis": {
            "gridcolor": "white",
            "linecolor": "white",
            "ticks": ""
           }
          },
          "scene": {
           "xaxis": {
            "backgroundcolor": "#E5ECF6",
            "gridcolor": "white",
            "gridwidth": 2,
            "linecolor": "white",
            "showbackground": true,
            "ticks": "",
            "zerolinecolor": "white"
           },
           "yaxis": {
            "backgroundcolor": "#E5ECF6",
            "gridcolor": "white",
            "gridwidth": 2,
            "linecolor": "white",
            "showbackground": true,
            "ticks": "",
            "zerolinecolor": "white"
           },
           "zaxis": {
            "backgroundcolor": "#E5ECF6",
            "gridcolor": "white",
            "gridwidth": 2,
            "linecolor": "white",
            "showbackground": true,
            "ticks": "",
            "zerolinecolor": "white"
           }
          },
          "shapedefaults": {
           "line": {
            "color": "#2a3f5f"
           }
          },
          "ternary": {
           "aaxis": {
            "gridcolor": "white",
            "linecolor": "white",
            "ticks": ""
           },
           "baxis": {
            "gridcolor": "white",
            "linecolor": "white",
            "ticks": ""
           },
           "bgcolor": "#E5ECF6",
           "caxis": {
            "gridcolor": "white",
            "linecolor": "white",
            "ticks": ""
           }
          },
          "title": {
           "x": 0.05
          },
          "xaxis": {
           "automargin": true,
           "gridcolor": "white",
           "linecolor": "white",
           "ticks": "",
           "title": {
            "standoff": 15
           },
           "zerolinecolor": "white",
           "zerolinewidth": 2
          },
          "yaxis": {
           "automargin": true,
           "gridcolor": "white",
           "linecolor": "white",
           "ticks": "",
           "title": {
            "standoff": 15
           },
           "zerolinecolor": "white",
           "zerolinewidth": 2
          }
         }
        },
        "title": {
         "text": "Recipes related to ManufacturingProcesses with 'water' and 'sugar' in Description"
        }
       }
      }
     },
     "metadata": {},
     "output_type": "display_data"
    }
   ],
   "source": [
    "import pandas as pd\n",
    "import plotly.graph_objects as go\n",
    "\n",
    "\n",
    "query = \"\"\"\n",
    "MATCH (r:Recipe)-[:HAS_MANUFACTURING_PROCESS]->(mp:ManufacturingProcess)\n",
    "WHERE ANY(x IN ['water', 'sugar'] WHERE TOLOWER(mp.Description) CONTAINS TOLOWER(x))\n",
    "RETURN mp.Step AS ManufacturingProcessStep, mp.Description AS ManufacturingProcessDescription, r.ingredients_orig AS RecipeName\n",
    "\"\"\"\n",
    "\n",
    "with driver.session() as session:\n",
    "    result = session.run(query)\n",
    "    neo4j_data = [record.data() for record in result]\n",
    "\n",
    "df = pd.DataFrame(neo4j_data)\n",
    "\n",
    "\n",
    "fig_data = [go.Table(\n",
    "    header=dict(values=['ManufacturingProcessStep', 'ManufacturingProcessDescription', 'RecipeName']),\n",
    "    cells=dict(values=[df['ManufacturingProcessStep'], df['ManufacturingProcessDescription'], df['RecipeName']])\n",
    ")]\n",
    "\n",
    "\n",
    "fig_layout = go.Layout(\n",
    "    title='Recipes related to ManufacturingProcesses with \\'water\\' and \\'sugar\\' in Description'\n",
    ")\n",
    "\n",
    "\n",
    "fig = go.Figure(data=fig_data, layout=fig_layout)\n",
    "fig.show()"
   ]
  },
  {
   "cell_type": "code",
   "execution_count": 20,
   "metadata": {},
   "outputs": [
    {
     "data": {
      "application/vnd.plotly.v1+json": {
       "config": {
        "plotlyServerURL": "https://plot.ly"
       },
       "data": [
        {
         "cells": {
          "values": [
           [
            "Step 1",
            "Step 4",
            "Step 6",
            "Step 7",
            "Step 1",
            "Step 1",
            "Step 6",
            "Step 2",
            "Step 3",
            "Step 2",
            "Step 3",
            "Step 1",
            "Step 4",
            "Step 3",
            "Step 3",
            "Step 1"
           ],
           [
            "Step 1: The wheat flour is mixed with water to form a dough.",
            "Step 4: The seasoning powder is made by mixing salt, sugar, flavour enhancers, garlic powder, onion powder, yeast extract, artificial flavour, pepper, and anti caking agent.",
            "Step 6: The sweet soy sauce is made by mixing sugar, water, salt, wheat, soy bean, spices, and sesame oil.",
            "Step 7: The chilli sauce is made by mixing chilli, water, sugar, salt, tapioca starch, acidity regulators, herbs, flavour enhancers, flavours, and preservatives.",
            "1. The wheat flour, sugar, vegetable oil, cocoa powder, fructose syrup, cornstarch, salt, raising agents, emulsifier, flavor, antioxidant, minerals, and vitamins are mixed together to form the cookie dough.",
            "Mixing and blending dry ingredients, including wheat flour, sugar, cocoa powder, and raising agents.",
            "Preparing the vanilla creme filling by blending sugar, cornstarch, and other ingredients.",
            "Step 2: The fruit juices are reconstituted with water",
            "Step 3: Sugar, food acids, and vitamin C are added to the mixture",
            "Step 2: Combining the fruit juices and purées with water, sugar, food acids, vitamin C, natural flavors, and pectin.",
            "Step 3: Addition of sugar and food acids (citric acid and potassium citrate) to enhance the flavor and preserve the product",
            "Step 1: Canola oil, water, sugar, and vinegar are mixed together in a large vat.",
            "While the potatoes are still hot, they are seasoned with a mixture of sugar, maltodextrin, salt, tomato powder, flavor enhancers, food acids, onion powder, and garlic powder.",
            "Step 3: The fruit puree is mixed with reconstituted refined juice (made from concentrated pear juice, water, antioxidant (ascorbic acid), and acidity regulator (citric acid))",
            "Step 3: The fruit puree is mixed with reconstituted refined juice (made from concentrated pear juice, water, antioxidant (ascorbic acid), and acidity regulator (citric acid))",
            "Step 1: Preparation of Jelly - Water, sugar, and gelling agents are combined and heated to dissolve the sugar and activate the gelling agents."
           ],
           [
            "Noodles: Wheat Flour (62%), Refined Palm Oil (Contains Antioxidant 319), Salt, Acidity Regulators (451, 501, 500), Thickener (412), Colour (101).<br>Seasoning Powder: Salt, Sugar, Flavour Enhancers (621, 631, 627), Garlic Powder, Onion Powder, Yeast Extract, Artificial Flavour, Pepper, Anti Caking Agent (551).<br>Seasoning Oil: Refined Palm Oil (Contains Antioxidant 319), Onion.<br>Sweet Soy Sauce: Sugar, Water, Salt, Wheat, Soy Bean, Spices, Sesame Oil.<br>Chilli Sauce: Chilli, Water, Sugar, Salt, Tapioca Starch, Acidity Regulators (260, 330), Herbs, Flavour Enhancers (621, 627, 631), Flavours, Preservatives 1211, 223). Fried Onion: Onion, Refined Palm Oil (Contains Antioxidant 319).",
            "Noodles: Wheat Flour (62%), Refined Palm Oil (Contains Antioxidant 319), Salt, Acidity Regulators (451, 501, 500), Thickener (412), Colour (101).<br>Seasoning Powder: Salt, Sugar, Flavour Enhancers (621, 631, 627), Garlic Powder, Onion Powder, Yeast Extract, Artificial Flavour, Pepper, Anti Caking Agent (551).<br>Seasoning Oil: Refined Palm Oil (Contains Antioxidant 319), Onion.<br>Sweet Soy Sauce: Sugar, Water, Salt, Wheat, Soy Bean, Spices, Sesame Oil.<br>Chilli Sauce: Chilli, Water, Sugar, Salt, Tapioca Starch, Acidity Regulators (260, 330), Herbs, Flavour Enhancers (621, 627, 631), Flavours, Preservatives 1211, 223). Fried Onion: Onion, Refined Palm Oil (Contains Antioxidant 319).",
            "Noodles: Wheat Flour (62%), Refined Palm Oil (Contains Antioxidant 319), Salt, Acidity Regulators (451, 501, 500), Thickener (412), Colour (101).<br>Seasoning Powder: Salt, Sugar, Flavour Enhancers (621, 631, 627), Garlic Powder, Onion Powder, Yeast Extract, Artificial Flavour, Pepper, Anti Caking Agent (551).<br>Seasoning Oil: Refined Palm Oil (Contains Antioxidant 319), Onion.<br>Sweet Soy Sauce: Sugar, Water, Salt, Wheat, Soy Bean, Spices, Sesame Oil.<br>Chilli Sauce: Chilli, Water, Sugar, Salt, Tapioca Starch, Acidity Regulators (260, 330), Herbs, Flavour Enhancers (621, 627, 631), Flavours, Preservatives 1211, 223). Fried Onion: Onion, Refined Palm Oil (Contains Antioxidant 319).",
            "Noodles: Wheat Flour (62%), Refined Palm Oil (Contains Antioxidant 319), Salt, Acidity Regulators (451, 501, 500), Thickener (412), Colour (101).<br>Seasoning Powder: Salt, Sugar, Flavour Enhancers (621, 631, 627), Garlic Powder, Onion Powder, Yeast Extract, Artificial Flavour, Pepper, Anti Caking Agent (551).<br>Seasoning Oil: Refined Palm Oil (Contains Antioxidant 319), Onion.<br>Sweet Soy Sauce: Sugar, Water, Salt, Wheat, Soy Bean, Spices, Sesame Oil.<br>Chilli Sauce: Chilli, Water, Sugar, Salt, Tapioca Starch, Acidity Regulators (260, 330), Herbs, Flavour Enhancers (621, 627, 631), Flavours, Preservatives 1211, 223). Fried Onion: Onion, Refined Palm Oil (Contains Antioxidant 319).",
            "Mini Oreo Original Wheat Flour, Sugar, Vegetable Oil, Cocoa Powder, Fructose Syrup, Cornstarch, Salt, Raising Agents (500, 503), Emulsifier (Soy Lecithin), Flavour, Antioxidant (319), Minerals (Iron, Zinc), Vitamins (Riboflavin, Thiamin, Folate). Mini Oreo ChocolateWheat Flour, Sugar, Vegetable Oil, Cocoa Powder, Fructose Syrup, Cornstarch, Salt, Raising Agents (500, 503), Emulsifier (Soy Lecithin), Flavour, Antioxidant (319), Minerals (Iron, Zinc), Vitamins (Riboflavin, Thiamin, Folate). Mini Oreo StrawberryWheat Flou, Sugar, Vegetable Oil, Cocoa Powder, Fructose Syrup, Cornstarch, Salt, Raising Agents (500, 503), Emulsifier (Soy Lecithin), Flavours, Food Acid (330), Colour (120), Minerals (Iron, Zinc), Antioxidant (319), Vitamins (Riboflavin, Thiamin, Folate).",
            "Chocolate flavoured sandwich cookies with vanilla flavoured creme (29%)Wheat Flour, Sugar, Vegetable Oil, Cocoa Powder, Fructose Syrup, Cornstarch, Salt, Raising Agents (500, 503), Emulsifier (Soy Lecithin), Flavour, Antioxidant (319), Minerals (Iron, Zinc), Vitamins (Riboflavin, Thiamin, Folate)",
            "Chocolate flavoured sandwich cookies with vanilla flavoured creme (29%)Wheat Flour, Sugar, Vegetable Oil, Cocoa Powder, Fructose Syrup, Cornstarch, Salt, Raising Agents (500, 503), Emulsifier (Soy Lecithin), Flavour, Antioxidant (319), Minerals (Iron, Zinc), Vitamins (Riboflavin, Thiamin, Folate)",
            "Water, Reconstituted Fruit Juice Pear or Apple (15%), Pineapple (9%), Passionfruit (1%), Sugar, Food Acids (Citric Acid, Potassium Citrate), Vitamin C, Natural Flavours.",
            "Water, Reconstituted Fruit Juice Pear or Apple (15%), Pineapple (9%), Passionfruit (1%), Sugar, Food Acids (Citric Acid, Potassium Citrate), Vitamin C, Natural Flavours.",
            "Water, Reconstituted Fruit Juice (25%) (Apple or Pear, Pineapple, Orange or Water Extracted Orange, Peach Purée, Passionfruit), Sugar, Food Acids (Citric Acid, Potassium Citrate), Vitamin C, Natural Flavours, Stabiliser (Pectin).",
            "Water, Reconstituted Fruit Juice (25%) Pear or Apple, Pineapple, Orange, Peach Pure, Passionfruit, Sugar, Food Acids (Citric Acid, Potassium Citrate), Vitamin C, Natural Flavours.",
            "Canola Oil, Water, Sugar, Vinegar, Thickener (1422, Xanthan Gum), Free Range Egg Yolk,  Gherkin, Salt, Onion Powder, Natural Colour (Carotene, Paprika Oleoresins), Preservative (Potassium Sorbate), Dill, Acidity Regulator (Citric Acid), Herb Extract, Mustard Oil.",
            "Potatoes, Canola Oil, Sunflower Oil, Sugar, Maltod,extrin, Salt, Tomato Powder, Flavour Enhancers (62,1, 635), Food Acids (Sodium Diacetate, Citric Acid,), Flavours, Mineral Salt (Potassium Chloride), On,ion Powder, Garlic Powder, Natural Colour (Paprika,",
            "Fruits (55%) (Peach, Pear), Reconstituted Refined Juice (Water, Concentrated Pear Juice, Antioxidant (Ascorbic Acid), Acidity Regulator (Citric Acid))",
            "Fruits (55%) (Peach, Pear), Reconstituted Refined Juice (Water, Concentrated Pear Juice, Antioxidant (Ascorbic Acid), Acidity Regulator (Citric Acid))",
            "Jelly (70%) (Water, Sugar, Gelling Agents (Carrageenan, Locust Bean Gum, Xanthan Gum), Acidity Regulators (Sodium Citrates, Potassium Citrates, Calcium Lactate, Malic Acid, Citric Acid), Natural Flavours (Pineapple, Mango), Natural Colours (Carotene, Paprika Oleoresins), Antioxidant (Ascorbic Acid)), Peach (15%), Pear (15%)"
           ],
           [
            "Indomie Mi Goreng Instant Noodles",
            "Indomie Mi Goreng Instant Noodles",
            "Indomie Mi Goreng Instant Noodles",
            "Indomie Mi Goreng Instant Noodles",
            "Oreo Minis Cookies Variety Bags 18 Pack",
            "Oreo Original Cookies",
            "Oreo Original Cookies",
            "Golden Circle Golden Pash Fruit Drink",
            "Golden Circle Golden Pash Fruit Drink",
            "Golden Circle Drinks Sunshine Punch Fruit Drink",
            "Golden Circle Fruit Drinks Lunch Box Poppers Tropical Punch Multipack",
            "Woolworths Secret Burger Sauce",
            "Smith's Crinkle Cut Potato Chips Barbecue",
            "Woolworths Two Fruits In Juice Cups",
            "Woolworths Two Fruits In Juice",
            "Woolworths Two Fruits In Tropical Jelly"
           ]
          ]
         },
         "header": {
          "values": [
           "ManufacturingProcessStep",
           "ManufacturingProcessDescription",
           "RecipeName",
           "ProductName"
          ]
         },
         "type": "table"
        }
       ],
       "layout": {
        "template": {
         "data": {
          "bar": [
           {
            "error_x": {
             "color": "#2a3f5f"
            },
            "error_y": {
             "color": "#2a3f5f"
            },
            "marker": {
             "line": {
              "color": "#E5ECF6",
              "width": 0.5
             },
             "pattern": {
              "fillmode": "overlay",
              "size": 10,
              "solidity": 0.2
             }
            },
            "type": "bar"
           }
          ],
          "barpolar": [
           {
            "marker": {
             "line": {
              "color": "#E5ECF6",
              "width": 0.5
             },
             "pattern": {
              "fillmode": "overlay",
              "size": 10,
              "solidity": 0.2
             }
            },
            "type": "barpolar"
           }
          ],
          "carpet": [
           {
            "aaxis": {
             "endlinecolor": "#2a3f5f",
             "gridcolor": "white",
             "linecolor": "white",
             "minorgridcolor": "white",
             "startlinecolor": "#2a3f5f"
            },
            "baxis": {
             "endlinecolor": "#2a3f5f",
             "gridcolor": "white",
             "linecolor": "white",
             "minorgridcolor": "white",
             "startlinecolor": "#2a3f5f"
            },
            "type": "carpet"
           }
          ],
          "choropleth": [
           {
            "colorbar": {
             "outlinewidth": 0,
             "ticks": ""
            },
            "type": "choropleth"
           }
          ],
          "contour": [
           {
            "colorbar": {
             "outlinewidth": 0,
             "ticks": ""
            },
            "colorscale": [
             [
              0,
              "#0d0887"
             ],
             [
              0.1111111111111111,
              "#46039f"
             ],
             [
              0.2222222222222222,
              "#7201a8"
             ],
             [
              0.3333333333333333,
              "#9c179e"
             ],
             [
              0.4444444444444444,
              "#bd3786"
             ],
             [
              0.5555555555555556,
              "#d8576b"
             ],
             [
              0.6666666666666666,
              "#ed7953"
             ],
             [
              0.7777777777777778,
              "#fb9f3a"
             ],
             [
              0.8888888888888888,
              "#fdca26"
             ],
             [
              1,
              "#f0f921"
             ]
            ],
            "type": "contour"
           }
          ],
          "contourcarpet": [
           {
            "colorbar": {
             "outlinewidth": 0,
             "ticks": ""
            },
            "type": "contourcarpet"
           }
          ],
          "heatmap": [
           {
            "colorbar": {
             "outlinewidth": 0,
             "ticks": ""
            },
            "colorscale": [
             [
              0,
              "#0d0887"
             ],
             [
              0.1111111111111111,
              "#46039f"
             ],
             [
              0.2222222222222222,
              "#7201a8"
             ],
             [
              0.3333333333333333,
              "#9c179e"
             ],
             [
              0.4444444444444444,
              "#bd3786"
             ],
             [
              0.5555555555555556,
              "#d8576b"
             ],
             [
              0.6666666666666666,
              "#ed7953"
             ],
             [
              0.7777777777777778,
              "#fb9f3a"
             ],
             [
              0.8888888888888888,
              "#fdca26"
             ],
             [
              1,
              "#f0f921"
             ]
            ],
            "type": "heatmap"
           }
          ],
          "heatmapgl": [
           {
            "colorbar": {
             "outlinewidth": 0,
             "ticks": ""
            },
            "colorscale": [
             [
              0,
              "#0d0887"
             ],
             [
              0.1111111111111111,
              "#46039f"
             ],
             [
              0.2222222222222222,
              "#7201a8"
             ],
             [
              0.3333333333333333,
              "#9c179e"
             ],
             [
              0.4444444444444444,
              "#bd3786"
             ],
             [
              0.5555555555555556,
              "#d8576b"
             ],
             [
              0.6666666666666666,
              "#ed7953"
             ],
             [
              0.7777777777777778,
              "#fb9f3a"
             ],
             [
              0.8888888888888888,
              "#fdca26"
             ],
             [
              1,
              "#f0f921"
             ]
            ],
            "type": "heatmapgl"
           }
          ],
          "histogram": [
           {
            "marker": {
             "pattern": {
              "fillmode": "overlay",
              "size": 10,
              "solidity": 0.2
             }
            },
            "type": "histogram"
           }
          ],
          "histogram2d": [
           {
            "colorbar": {
             "outlinewidth": 0,
             "ticks": ""
            },
            "colorscale": [
             [
              0,
              "#0d0887"
             ],
             [
              0.1111111111111111,
              "#46039f"
             ],
             [
              0.2222222222222222,
              "#7201a8"
             ],
             [
              0.3333333333333333,
              "#9c179e"
             ],
             [
              0.4444444444444444,
              "#bd3786"
             ],
             [
              0.5555555555555556,
              "#d8576b"
             ],
             [
              0.6666666666666666,
              "#ed7953"
             ],
             [
              0.7777777777777778,
              "#fb9f3a"
             ],
             [
              0.8888888888888888,
              "#fdca26"
             ],
             [
              1,
              "#f0f921"
             ]
            ],
            "type": "histogram2d"
           }
          ],
          "histogram2dcontour": [
           {
            "colorbar": {
             "outlinewidth": 0,
             "ticks": ""
            },
            "colorscale": [
             [
              0,
              "#0d0887"
             ],
             [
              0.1111111111111111,
              "#46039f"
             ],
             [
              0.2222222222222222,
              "#7201a8"
             ],
             [
              0.3333333333333333,
              "#9c179e"
             ],
             [
              0.4444444444444444,
              "#bd3786"
             ],
             [
              0.5555555555555556,
              "#d8576b"
             ],
             [
              0.6666666666666666,
              "#ed7953"
             ],
             [
              0.7777777777777778,
              "#fb9f3a"
             ],
             [
              0.8888888888888888,
              "#fdca26"
             ],
             [
              1,
              "#f0f921"
             ]
            ],
            "type": "histogram2dcontour"
           }
          ],
          "mesh3d": [
           {
            "colorbar": {
             "outlinewidth": 0,
             "ticks": ""
            },
            "type": "mesh3d"
           }
          ],
          "parcoords": [
           {
            "line": {
             "colorbar": {
              "outlinewidth": 0,
              "ticks": ""
             }
            },
            "type": "parcoords"
           }
          ],
          "pie": [
           {
            "automargin": true,
            "type": "pie"
           }
          ],
          "scatter": [
           {
            "fillpattern": {
             "fillmode": "overlay",
             "size": 10,
             "solidity": 0.2
            },
            "type": "scatter"
           }
          ],
          "scatter3d": [
           {
            "line": {
             "colorbar": {
              "outlinewidth": 0,
              "ticks": ""
             }
            },
            "marker": {
             "colorbar": {
              "outlinewidth": 0,
              "ticks": ""
             }
            },
            "type": "scatter3d"
           }
          ],
          "scattercarpet": [
           {
            "marker": {
             "colorbar": {
              "outlinewidth": 0,
              "ticks": ""
             }
            },
            "type": "scattercarpet"
           }
          ],
          "scattergeo": [
           {
            "marker": {
             "colorbar": {
              "outlinewidth": 0,
              "ticks": ""
             }
            },
            "type": "scattergeo"
           }
          ],
          "scattergl": [
           {
            "marker": {
             "colorbar": {
              "outlinewidth": 0,
              "ticks": ""
             }
            },
            "type": "scattergl"
           }
          ],
          "scattermapbox": [
           {
            "marker": {
             "colorbar": {
              "outlinewidth": 0,
              "ticks": ""
             }
            },
            "type": "scattermapbox"
           }
          ],
          "scatterpolar": [
           {
            "marker": {
             "colorbar": {
              "outlinewidth": 0,
              "ticks": ""
             }
            },
            "type": "scatterpolar"
           }
          ],
          "scatterpolargl": [
           {
            "marker": {
             "colorbar": {
              "outlinewidth": 0,
              "ticks": ""
             }
            },
            "type": "scatterpolargl"
           }
          ],
          "scatterternary": [
           {
            "marker": {
             "colorbar": {
              "outlinewidth": 0,
              "ticks": ""
             }
            },
            "type": "scatterternary"
           }
          ],
          "surface": [
           {
            "colorbar": {
             "outlinewidth": 0,
             "ticks": ""
            },
            "colorscale": [
             [
              0,
              "#0d0887"
             ],
             [
              0.1111111111111111,
              "#46039f"
             ],
             [
              0.2222222222222222,
              "#7201a8"
             ],
             [
              0.3333333333333333,
              "#9c179e"
             ],
             [
              0.4444444444444444,
              "#bd3786"
             ],
             [
              0.5555555555555556,
              "#d8576b"
             ],
             [
              0.6666666666666666,
              "#ed7953"
             ],
             [
              0.7777777777777778,
              "#fb9f3a"
             ],
             [
              0.8888888888888888,
              "#fdca26"
             ],
             [
              1,
              "#f0f921"
             ]
            ],
            "type": "surface"
           }
          ],
          "table": [
           {
            "cells": {
             "fill": {
              "color": "#EBF0F8"
             },
             "line": {
              "color": "white"
             }
            },
            "header": {
             "fill": {
              "color": "#C8D4E3"
             },
             "line": {
              "color": "white"
             }
            },
            "type": "table"
           }
          ]
         },
         "layout": {
          "annotationdefaults": {
           "arrowcolor": "#2a3f5f",
           "arrowhead": 0,
           "arrowwidth": 1
          },
          "autotypenumbers": "strict",
          "coloraxis": {
           "colorbar": {
            "outlinewidth": 0,
            "ticks": ""
           }
          },
          "colorscale": {
           "diverging": [
            [
             0,
             "#8e0152"
            ],
            [
             0.1,
             "#c51b7d"
            ],
            [
             0.2,
             "#de77ae"
            ],
            [
             0.3,
             "#f1b6da"
            ],
            [
             0.4,
             "#fde0ef"
            ],
            [
             0.5,
             "#f7f7f7"
            ],
            [
             0.6,
             "#e6f5d0"
            ],
            [
             0.7,
             "#b8e186"
            ],
            [
             0.8,
             "#7fbc41"
            ],
            [
             0.9,
             "#4d9221"
            ],
            [
             1,
             "#276419"
            ]
           ],
           "sequential": [
            [
             0,
             "#0d0887"
            ],
            [
             0.1111111111111111,
             "#46039f"
            ],
            [
             0.2222222222222222,
             "#7201a8"
            ],
            [
             0.3333333333333333,
             "#9c179e"
            ],
            [
             0.4444444444444444,
             "#bd3786"
            ],
            [
             0.5555555555555556,
             "#d8576b"
            ],
            [
             0.6666666666666666,
             "#ed7953"
            ],
            [
             0.7777777777777778,
             "#fb9f3a"
            ],
            [
             0.8888888888888888,
             "#fdca26"
            ],
            [
             1,
             "#f0f921"
            ]
           ],
           "sequentialminus": [
            [
             0,
             "#0d0887"
            ],
            [
             0.1111111111111111,
             "#46039f"
            ],
            [
             0.2222222222222222,
             "#7201a8"
            ],
            [
             0.3333333333333333,
             "#9c179e"
            ],
            [
             0.4444444444444444,
             "#bd3786"
            ],
            [
             0.5555555555555556,
             "#d8576b"
            ],
            [
             0.6666666666666666,
             "#ed7953"
            ],
            [
             0.7777777777777778,
             "#fb9f3a"
            ],
            [
             0.8888888888888888,
             "#fdca26"
            ],
            [
             1,
             "#f0f921"
            ]
           ]
          },
          "colorway": [
           "#636efa",
           "#EF553B",
           "#00cc96",
           "#ab63fa",
           "#FFA15A",
           "#19d3f3",
           "#FF6692",
           "#B6E880",
           "#FF97FF",
           "#FECB52"
          ],
          "font": {
           "color": "#2a3f5f"
          },
          "geo": {
           "bgcolor": "white",
           "lakecolor": "white",
           "landcolor": "#E5ECF6",
           "showlakes": true,
           "showland": true,
           "subunitcolor": "white"
          },
          "hoverlabel": {
           "align": "left"
          },
          "hovermode": "closest",
          "mapbox": {
           "style": "light"
          },
          "paper_bgcolor": "white",
          "plot_bgcolor": "#E5ECF6",
          "polar": {
           "angularaxis": {
            "gridcolor": "white",
            "linecolor": "white",
            "ticks": ""
           },
           "bgcolor": "#E5ECF6",
           "radialaxis": {
            "gridcolor": "white",
            "linecolor": "white",
            "ticks": ""
           }
          },
          "scene": {
           "xaxis": {
            "backgroundcolor": "#E5ECF6",
            "gridcolor": "white",
            "gridwidth": 2,
            "linecolor": "white",
            "showbackground": true,
            "ticks": "",
            "zerolinecolor": "white"
           },
           "yaxis": {
            "backgroundcolor": "#E5ECF6",
            "gridcolor": "white",
            "gridwidth": 2,
            "linecolor": "white",
            "showbackground": true,
            "ticks": "",
            "zerolinecolor": "white"
           },
           "zaxis": {
            "backgroundcolor": "#E5ECF6",
            "gridcolor": "white",
            "gridwidth": 2,
            "linecolor": "white",
            "showbackground": true,
            "ticks": "",
            "zerolinecolor": "white"
           }
          },
          "shapedefaults": {
           "line": {
            "color": "#2a3f5f"
           }
          },
          "ternary": {
           "aaxis": {
            "gridcolor": "white",
            "linecolor": "white",
            "ticks": ""
           },
           "baxis": {
            "gridcolor": "white",
            "linecolor": "white",
            "ticks": ""
           },
           "bgcolor": "#E5ECF6",
           "caxis": {
            "gridcolor": "white",
            "linecolor": "white",
            "ticks": ""
           }
          },
          "title": {
           "x": 0.05
          },
          "xaxis": {
           "automargin": true,
           "gridcolor": "white",
           "linecolor": "white",
           "ticks": "",
           "title": {
            "standoff": 15
           },
           "zerolinecolor": "white",
           "zerolinewidth": 2
          },
          "yaxis": {
           "automargin": true,
           "gridcolor": "white",
           "linecolor": "white",
           "ticks": "",
           "title": {
            "standoff": 15
           },
           "zerolinecolor": "white",
           "zerolinewidth": 2
          }
         }
        },
        "title": {
         "text": "Product related to ManufacturingProcesses with 'water' and 'sugar' in Description"
        }
       }
      }
     },
     "metadata": {},
     "output_type": "display_data"
    }
   ],
   "source": [
    "import pandas as pd\n",
    "import plotly.graph_objects as go\n",
    "\n",
    "\n",
    "query = \"\"\"\n",
    "MATCH (r:Recipe)-[:HAS_MANUFACTURING_PROCESS]->(mp:ManufacturingProcess)\n",
    "WHERE ANY(x IN ['water', 'sugar'] WHERE TOLOWER(mp.Description) CONTAINS TOLOWER(x))\n",
    "MATCH (p:Product)-[:HAS_RECIPE]->(r)\n",
    "RETURN p.name AS ProductName, mp.Step AS ManufacturingProcessStep, mp.Description AS ManufacturingProcessDescription, r.ingredients_orig AS RecipeName\n",
    "\n",
    "\"\"\"\n",
    "\n",
    "with driver.session() as session:\n",
    "    result = session.run(query)\n",
    "    neo4j_data = [record.data() for record in result]\n",
    "\n",
    "df = pd.DataFrame(neo4j_data)\n",
    "\n",
    "\n",
    "fig_data = [go.Table(\n",
    "    header=dict(values=['ManufacturingProcessStep', 'ManufacturingProcessDescription', 'RecipeName', 'ProductName']),\n",
    "    cells=dict(values=[df['ManufacturingProcessStep'], df['ManufacturingProcessDescription'], df['RecipeName'], df['ProductName']])\n",
    ")]\n",
    "\n",
    "\n",
    "fig_layout = go.Layout(\n",
    "    title='Product related to ManufacturingProcesses with \\'water\\' and \\'sugar\\' in Description'\n",
    ")\n",
    "\n",
    "\n",
    "fig = go.Figure(data=fig_data, layout=fig_layout)\n",
    "fig.show()"
   ]
  },
  {
   "cell_type": "code",
   "execution_count": 28,
   "metadata": {},
   "outputs": [
    {
     "data": {
      "application/vnd.plotly.v1+json": {
       "config": {
        "plotlyServerURL": "https://plot.ly"
       },
       "data": [
        {
         "cells": {
          "values": [
           [
            "Step 6",
            "Step 7",
            "Step 2",
            "Step 1",
            "Step 1"
           ],
           [
            "Step 6: The sweet soy sauce is made by mixing sugar, water, salt, wheat, soy bean, spices, and sesame oil.",
            "Step 7: The chilli sauce is made by mixing chilli, water, sugar, salt, tapioca starch, acidity regulators, herbs, flavour enhancers, flavours, and preservatives.",
            "Step 2: Combining the fruit juices and purées with water, sugar, food acids, vitamin C, natural flavors, and pectin.",
            "Step 1: Canola oil, water, sugar, and vinegar are mixed together in a large vat.",
            "Step 1: Preparation of Jelly - Water, sugar, and gelling agents are combined and heated to dissolve the sugar and activate the gelling agents."
           ],
           [
            591,
            592,
            659,
            693,
            726
           ],
           [
            "Noodles: Wheat Flour (62%), Refined Palm Oil (Contains Antioxidant 319), Salt, Acidity Regulators (451, 501, 500), Thickener (412), Colour (101).<br>Seasoning Powder: Salt, Sugar, Flavour Enhancers (621, 631, 627), Garlic Powder, Onion Powder, Yeast Extract, Artificial Flavour, Pepper, Anti Caking Agent (551).<br>Seasoning Oil: Refined Palm Oil (Contains Antioxidant 319), Onion.<br>Sweet Soy Sauce: Sugar, Water, Salt, Wheat, Soy Bean, Spices, Sesame Oil.<br>Chilli Sauce: Chilli, Water, Sugar, Salt, Tapioca Starch, Acidity Regulators (260, 330), Herbs, Flavour Enhancers (621, 627, 631), Flavours, Preservatives 1211, 223). Fried Onion: Onion, Refined Palm Oil (Contains Antioxidant 319).",
            "Noodles: Wheat Flour (62%), Refined Palm Oil (Contains Antioxidant 319), Salt, Acidity Regulators (451, 501, 500), Thickener (412), Colour (101).<br>Seasoning Powder: Salt, Sugar, Flavour Enhancers (621, 631, 627), Garlic Powder, Onion Powder, Yeast Extract, Artificial Flavour, Pepper, Anti Caking Agent (551).<br>Seasoning Oil: Refined Palm Oil (Contains Antioxidant 319), Onion.<br>Sweet Soy Sauce: Sugar, Water, Salt, Wheat, Soy Bean, Spices, Sesame Oil.<br>Chilli Sauce: Chilli, Water, Sugar, Salt, Tapioca Starch, Acidity Regulators (260, 330), Herbs, Flavour Enhancers (621, 627, 631), Flavours, Preservatives 1211, 223). Fried Onion: Onion, Refined Palm Oil (Contains Antioxidant 319).",
            "Water, Reconstituted Fruit Juice (25%) (Apple or Pear, Pineapple, Orange or Water Extracted Orange, Peach Purée, Passionfruit), Sugar, Food Acids (Citric Acid, Potassium Citrate), Vitamin C, Natural Flavours, Stabiliser (Pectin).",
            "Canola Oil, Water, Sugar, Vinegar, Thickener (1422, Xanthan Gum), Free Range Egg Yolk,  Gherkin, Salt, Onion Powder, Natural Colour (Carotene, Paprika Oleoresins), Preservative (Potassium Sorbate), Dill, Acidity Regulator (Citric Acid), Herb Extract, Mustard Oil.",
            "Jelly (70%) (Water, Sugar, Gelling Agents (Carrageenan, Locust Bean Gum, Xanthan Gum), Acidity Regulators (Sodium Citrates, Potassium Citrates, Calcium Lactate, Malic Acid, Citric Acid), Natural Flavours (Pineapple, Mango), Natural Colours (Carotene, Paprika Oleoresins), Antioxidant (Ascorbic Acid)), Peach (15%), Pear (15%)"
           ],
           [
            "Indomie Mi Goreng Instant Noodles",
            "Indomie Mi Goreng Instant Noodles",
            "Golden Circle Drinks Sunshine Punch Fruit Drink",
            "Woolworths Secret Burger Sauce",
            "Woolworths Two Fruits In Tropical Jelly"
           ]
          ]
         },
         "header": {
          "values": [
           "Step",
           "Description",
           "Id",
           "Recipe",
           "Product"
          ]
         },
         "type": "table"
        }
       ],
       "layout": {
        "template": {
         "data": {
          "bar": [
           {
            "error_x": {
             "color": "#2a3f5f"
            },
            "error_y": {
             "color": "#2a3f5f"
            },
            "marker": {
             "line": {
              "color": "#E5ECF6",
              "width": 0.5
             },
             "pattern": {
              "fillmode": "overlay",
              "size": 10,
              "solidity": 0.2
             }
            },
            "type": "bar"
           }
          ],
          "barpolar": [
           {
            "marker": {
             "line": {
              "color": "#E5ECF6",
              "width": 0.5
             },
             "pattern": {
              "fillmode": "overlay",
              "size": 10,
              "solidity": 0.2
             }
            },
            "type": "barpolar"
           }
          ],
          "carpet": [
           {
            "aaxis": {
             "endlinecolor": "#2a3f5f",
             "gridcolor": "white",
             "linecolor": "white",
             "minorgridcolor": "white",
             "startlinecolor": "#2a3f5f"
            },
            "baxis": {
             "endlinecolor": "#2a3f5f",
             "gridcolor": "white",
             "linecolor": "white",
             "minorgridcolor": "white",
             "startlinecolor": "#2a3f5f"
            },
            "type": "carpet"
           }
          ],
          "choropleth": [
           {
            "colorbar": {
             "outlinewidth": 0,
             "ticks": ""
            },
            "type": "choropleth"
           }
          ],
          "contour": [
           {
            "colorbar": {
             "outlinewidth": 0,
             "ticks": ""
            },
            "colorscale": [
             [
              0,
              "#0d0887"
             ],
             [
              0.1111111111111111,
              "#46039f"
             ],
             [
              0.2222222222222222,
              "#7201a8"
             ],
             [
              0.3333333333333333,
              "#9c179e"
             ],
             [
              0.4444444444444444,
              "#bd3786"
             ],
             [
              0.5555555555555556,
              "#d8576b"
             ],
             [
              0.6666666666666666,
              "#ed7953"
             ],
             [
              0.7777777777777778,
              "#fb9f3a"
             ],
             [
              0.8888888888888888,
              "#fdca26"
             ],
             [
              1,
              "#f0f921"
             ]
            ],
            "type": "contour"
           }
          ],
          "contourcarpet": [
           {
            "colorbar": {
             "outlinewidth": 0,
             "ticks": ""
            },
            "type": "contourcarpet"
           }
          ],
          "heatmap": [
           {
            "colorbar": {
             "outlinewidth": 0,
             "ticks": ""
            },
            "colorscale": [
             [
              0,
              "#0d0887"
             ],
             [
              0.1111111111111111,
              "#46039f"
             ],
             [
              0.2222222222222222,
              "#7201a8"
             ],
             [
              0.3333333333333333,
              "#9c179e"
             ],
             [
              0.4444444444444444,
              "#bd3786"
             ],
             [
              0.5555555555555556,
              "#d8576b"
             ],
             [
              0.6666666666666666,
              "#ed7953"
             ],
             [
              0.7777777777777778,
              "#fb9f3a"
             ],
             [
              0.8888888888888888,
              "#fdca26"
             ],
             [
              1,
              "#f0f921"
             ]
            ],
            "type": "heatmap"
           }
          ],
          "heatmapgl": [
           {
            "colorbar": {
             "outlinewidth": 0,
             "ticks": ""
            },
            "colorscale": [
             [
              0,
              "#0d0887"
             ],
             [
              0.1111111111111111,
              "#46039f"
             ],
             [
              0.2222222222222222,
              "#7201a8"
             ],
             [
              0.3333333333333333,
              "#9c179e"
             ],
             [
              0.4444444444444444,
              "#bd3786"
             ],
             [
              0.5555555555555556,
              "#d8576b"
             ],
             [
              0.6666666666666666,
              "#ed7953"
             ],
             [
              0.7777777777777778,
              "#fb9f3a"
             ],
             [
              0.8888888888888888,
              "#fdca26"
             ],
             [
              1,
              "#f0f921"
             ]
            ],
            "type": "heatmapgl"
           }
          ],
          "histogram": [
           {
            "marker": {
             "pattern": {
              "fillmode": "overlay",
              "size": 10,
              "solidity": 0.2
             }
            },
            "type": "histogram"
           }
          ],
          "histogram2d": [
           {
            "colorbar": {
             "outlinewidth": 0,
             "ticks": ""
            },
            "colorscale": [
             [
              0,
              "#0d0887"
             ],
             [
              0.1111111111111111,
              "#46039f"
             ],
             [
              0.2222222222222222,
              "#7201a8"
             ],
             [
              0.3333333333333333,
              "#9c179e"
             ],
             [
              0.4444444444444444,
              "#bd3786"
             ],
             [
              0.5555555555555556,
              "#d8576b"
             ],
             [
              0.6666666666666666,
              "#ed7953"
             ],
             [
              0.7777777777777778,
              "#fb9f3a"
             ],
             [
              0.8888888888888888,
              "#fdca26"
             ],
             [
              1,
              "#f0f921"
             ]
            ],
            "type": "histogram2d"
           }
          ],
          "histogram2dcontour": [
           {
            "colorbar": {
             "outlinewidth": 0,
             "ticks": ""
            },
            "colorscale": [
             [
              0,
              "#0d0887"
             ],
             [
              0.1111111111111111,
              "#46039f"
             ],
             [
              0.2222222222222222,
              "#7201a8"
             ],
             [
              0.3333333333333333,
              "#9c179e"
             ],
             [
              0.4444444444444444,
              "#bd3786"
             ],
             [
              0.5555555555555556,
              "#d8576b"
             ],
             [
              0.6666666666666666,
              "#ed7953"
             ],
             [
              0.7777777777777778,
              "#fb9f3a"
             ],
             [
              0.8888888888888888,
              "#fdca26"
             ],
             [
              1,
              "#f0f921"
             ]
            ],
            "type": "histogram2dcontour"
           }
          ],
          "mesh3d": [
           {
            "colorbar": {
             "outlinewidth": 0,
             "ticks": ""
            },
            "type": "mesh3d"
           }
          ],
          "parcoords": [
           {
            "line": {
             "colorbar": {
              "outlinewidth": 0,
              "ticks": ""
             }
            },
            "type": "parcoords"
           }
          ],
          "pie": [
           {
            "automargin": true,
            "type": "pie"
           }
          ],
          "scatter": [
           {
            "fillpattern": {
             "fillmode": "overlay",
             "size": 10,
             "solidity": 0.2
            },
            "type": "scatter"
           }
          ],
          "scatter3d": [
           {
            "line": {
             "colorbar": {
              "outlinewidth": 0,
              "ticks": ""
             }
            },
            "marker": {
             "colorbar": {
              "outlinewidth": 0,
              "ticks": ""
             }
            },
            "type": "scatter3d"
           }
          ],
          "scattercarpet": [
           {
            "marker": {
             "colorbar": {
              "outlinewidth": 0,
              "ticks": ""
             }
            },
            "type": "scattercarpet"
           }
          ],
          "scattergeo": [
           {
            "marker": {
             "colorbar": {
              "outlinewidth": 0,
              "ticks": ""
             }
            },
            "type": "scattergeo"
           }
          ],
          "scattergl": [
           {
            "marker": {
             "colorbar": {
              "outlinewidth": 0,
              "ticks": ""
             }
            },
            "type": "scattergl"
           }
          ],
          "scattermapbox": [
           {
            "marker": {
             "colorbar": {
              "outlinewidth": 0,
              "ticks": ""
             }
            },
            "type": "scattermapbox"
           }
          ],
          "scatterpolar": [
           {
            "marker": {
             "colorbar": {
              "outlinewidth": 0,
              "ticks": ""
             }
            },
            "type": "scatterpolar"
           }
          ],
          "scatterpolargl": [
           {
            "marker": {
             "colorbar": {
              "outlinewidth": 0,
              "ticks": ""
             }
            },
            "type": "scatterpolargl"
           }
          ],
          "scatterternary": [
           {
            "marker": {
             "colorbar": {
              "outlinewidth": 0,
              "ticks": ""
             }
            },
            "type": "scatterternary"
           }
          ],
          "surface": [
           {
            "colorbar": {
             "outlinewidth": 0,
             "ticks": ""
            },
            "colorscale": [
             [
              0,
              "#0d0887"
             ],
             [
              0.1111111111111111,
              "#46039f"
             ],
             [
              0.2222222222222222,
              "#7201a8"
             ],
             [
              0.3333333333333333,
              "#9c179e"
             ],
             [
              0.4444444444444444,
              "#bd3786"
             ],
             [
              0.5555555555555556,
              "#d8576b"
             ],
             [
              0.6666666666666666,
              "#ed7953"
             ],
             [
              0.7777777777777778,
              "#fb9f3a"
             ],
             [
              0.8888888888888888,
              "#fdca26"
             ],
             [
              1,
              "#f0f921"
             ]
            ],
            "type": "surface"
           }
          ],
          "table": [
           {
            "cells": {
             "fill": {
              "color": "#EBF0F8"
             },
             "line": {
              "color": "white"
             }
            },
            "header": {
             "fill": {
              "color": "#C8D4E3"
             },
             "line": {
              "color": "white"
             }
            },
            "type": "table"
           }
          ]
         },
         "layout": {
          "annotationdefaults": {
           "arrowcolor": "#2a3f5f",
           "arrowhead": 0,
           "arrowwidth": 1
          },
          "autotypenumbers": "strict",
          "coloraxis": {
           "colorbar": {
            "outlinewidth": 0,
            "ticks": ""
           }
          },
          "colorscale": {
           "diverging": [
            [
             0,
             "#8e0152"
            ],
            [
             0.1,
             "#c51b7d"
            ],
            [
             0.2,
             "#de77ae"
            ],
            [
             0.3,
             "#f1b6da"
            ],
            [
             0.4,
             "#fde0ef"
            ],
            [
             0.5,
             "#f7f7f7"
            ],
            [
             0.6,
             "#e6f5d0"
            ],
            [
             0.7,
             "#b8e186"
            ],
            [
             0.8,
             "#7fbc41"
            ],
            [
             0.9,
             "#4d9221"
            ],
            [
             1,
             "#276419"
            ]
           ],
           "sequential": [
            [
             0,
             "#0d0887"
            ],
            [
             0.1111111111111111,
             "#46039f"
            ],
            [
             0.2222222222222222,
             "#7201a8"
            ],
            [
             0.3333333333333333,
             "#9c179e"
            ],
            [
             0.4444444444444444,
             "#bd3786"
            ],
            [
             0.5555555555555556,
             "#d8576b"
            ],
            [
             0.6666666666666666,
             "#ed7953"
            ],
            [
             0.7777777777777778,
             "#fb9f3a"
            ],
            [
             0.8888888888888888,
             "#fdca26"
            ],
            [
             1,
             "#f0f921"
            ]
           ],
           "sequentialminus": [
            [
             0,
             "#0d0887"
            ],
            [
             0.1111111111111111,
             "#46039f"
            ],
            [
             0.2222222222222222,
             "#7201a8"
            ],
            [
             0.3333333333333333,
             "#9c179e"
            ],
            [
             0.4444444444444444,
             "#bd3786"
            ],
            [
             0.5555555555555556,
             "#d8576b"
            ],
            [
             0.6666666666666666,
             "#ed7953"
            ],
            [
             0.7777777777777778,
             "#fb9f3a"
            ],
            [
             0.8888888888888888,
             "#fdca26"
            ],
            [
             1,
             "#f0f921"
            ]
           ]
          },
          "colorway": [
           "#636efa",
           "#EF553B",
           "#00cc96",
           "#ab63fa",
           "#FFA15A",
           "#19d3f3",
           "#FF6692",
           "#B6E880",
           "#FF97FF",
           "#FECB52"
          ],
          "font": {
           "color": "#2a3f5f"
          },
          "geo": {
           "bgcolor": "white",
           "lakecolor": "white",
           "landcolor": "#E5ECF6",
           "showlakes": true,
           "showland": true,
           "subunitcolor": "white"
          },
          "hoverlabel": {
           "align": "left"
          },
          "hovermode": "closest",
          "mapbox": {
           "style": "light"
          },
          "paper_bgcolor": "white",
          "plot_bgcolor": "#E5ECF6",
          "polar": {
           "angularaxis": {
            "gridcolor": "white",
            "linecolor": "white",
            "ticks": ""
           },
           "bgcolor": "#E5ECF6",
           "radialaxis": {
            "gridcolor": "white",
            "linecolor": "white",
            "ticks": ""
           }
          },
          "scene": {
           "xaxis": {
            "backgroundcolor": "#E5ECF6",
            "gridcolor": "white",
            "gridwidth": 2,
            "linecolor": "white",
            "showbackground": true,
            "ticks": "",
            "zerolinecolor": "white"
           },
           "yaxis": {
            "backgroundcolor": "#E5ECF6",
            "gridcolor": "white",
            "gridwidth": 2,
            "linecolor": "white",
            "showbackground": true,
            "ticks": "",
            "zerolinecolor": "white"
           },
           "zaxis": {
            "backgroundcolor": "#E5ECF6",
            "gridcolor": "white",
            "gridwidth": 2,
            "linecolor": "white",
            "showbackground": true,
            "ticks": "",
            "zerolinecolor": "white"
           }
          },
          "shapedefaults": {
           "line": {
            "color": "#2a3f5f"
           }
          },
          "ternary": {
           "aaxis": {
            "gridcolor": "white",
            "linecolor": "white",
            "ticks": ""
           },
           "baxis": {
            "gridcolor": "white",
            "linecolor": "white",
            "ticks": ""
           },
           "bgcolor": "#E5ECF6",
           "caxis": {
            "gridcolor": "white",
            "linecolor": "white",
            "ticks": ""
           }
          },
          "title": {
           "x": 0.05
          },
          "xaxis": {
           "automargin": true,
           "gridcolor": "white",
           "linecolor": "white",
           "ticks": "",
           "title": {
            "standoff": 15
           },
           "zerolinecolor": "white",
           "zerolinewidth": 2
          },
          "yaxis": {
           "automargin": true,
           "gridcolor": "white",
           "linecolor": "white",
           "ticks": "",
           "title": {
            "standoff": 15
           },
           "zerolinecolor": "white",
           "zerolinewidth": 2
          }
         }
        },
        "title": {
         "text": "ManufacturingProcess with 'water' and 'sugar' in Description"
        }
       }
      }
     },
     "metadata": {},
     "output_type": "display_data"
    }
   ],
   "source": [
    "import pandas as pd\n",
    "import plotly.graph_objects as go\n",
    "\n",
    "query = \"\"\"\n",
    "MATCH (r:Recipe)-[:HAS_MANUFACTURING_PROCESS]->(mp:ManufacturingProcess)\n",
    "WHERE TOLOWER(mp.Description) CONTAINS 'water' AND TOLOWER(mp.Description) CONTAINS 'sugar'\n",
    "MATCH (p:Product)-[:HAS_RECIPE]->(r)\n",
    "RETURN mp.Step AS ManufacturingProcessStep, \n",
    "       mp.Description AS ManufacturingProcessDescription,\n",
    "       id(mp) AS ManufacturingProcessId,\n",
    "       r.ingredients_orig AS Recipe, \n",
    "       p.name AS Product\n",
    "\"\"\"\n",
    "\n",
    "# Retrieve data from Neo4j\n",
    "with driver.session() as session:\n",
    "    result = session.run(query)\n",
    "    neo4j_data = [record.data() for record in result]\n",
    "\n",
    "# Create DataFrame from neo4j_data\n",
    "df = pd.DataFrame(neo4j_data)\n",
    "\n",
    "keywords = ['water', 'sugar']\n",
    "\n",
    "# Filter rows containing both 'water' and 'sugar'\n",
    "mask = df['ManufacturingProcessDescription'].apply(lambda x: all(kw.lower() in str(x).lower() for kw in keywords) if pd.notnull(x) else False)\n",
    "filtered_df = df.loc[mask]\n",
    "\n",
    "# create the Plotly table\n",
    "fig_data = [go.Table(\n",
    "    header=dict(values=['Step', 'Description', 'Id','Recipe', 'Product']),\n",
    "    cells=dict(values=[filtered_df['ManufacturingProcessStep'], \n",
    "                       filtered_df['ManufacturingProcessDescription'], \n",
    "                       filtered_df['ManufacturingProcessId'], \n",
    "                       filtered_df['Recipe'], \n",
    "                       filtered_df['Product']])\n",
    ")]\n",
    "\n",
    "# set up layout\n",
    "fig_layout = go.Layout(\n",
    "    title='ManufacturingProcess with \\'water\\' and \\'sugar\\' in Description'\n",
    ")\n",
    "\n",
    "fig = go.Figure(data=fig_data, layout=fig_layout)\n",
    "fig.show()\n"
   ]
  },
  {
   "cell_type": "code",
   "execution_count": 29,
   "metadata": {},
   "outputs": [
    {
     "data": {
      "application/vnd.plotly.v1+json": {
       "config": {
        "plotlyServerURL": "https://plot.ly"
       },
       "data": [
        {
         "cells": {
          "values": [
           [
            "Step 6",
            "Step 7",
            "Step 2",
            "Step 1",
            "Step 1"
           ],
           [
            "Step 6: The sweet soy sauce is made by mixing sugar, water, salt, wheat, soy bean, spices, and sesame oil.",
            "Step 7: The chilli sauce is made by mixing chilli, water, sugar, salt, tapioca starch, acidity regulators, herbs, flavour enhancers, flavours, and preservatives.",
            "Step 2: Combining the fruit juices and purées with water, sugar, food acids, vitamin C, natural flavors, and pectin.",
            "Step 1: Canola oil, water, sugar, and vinegar are mixed together in a large vat.",
            "Step 1: Preparation of Jelly - Water, sugar, and gelling agents are combined and heated to dissolve the sugar and activate the gelling agents."
           ],
           [
            591,
            592,
            659,
            693,
            726
           ],
           [
            "Noodles: Wheat Flour (62%), Refined Palm Oil (Contains Antioxidant 319), Salt, Acidity Regulators (451, 501, 500), Thickener (412), Colour (101).<br>Seasoning Powder: Salt, Sugar, Flavour Enhancers (621, 631, 627), Garlic Powder, Onion Powder, Yeast Extract, Artificial Flavour, Pepper, Anti Caking Agent (551).<br>Seasoning Oil: Refined Palm Oil (Contains Antioxidant 319), Onion.<br>Sweet Soy Sauce: Sugar, Water, Salt, Wheat, Soy Bean, Spices, Sesame Oil.<br>Chilli Sauce: Chilli, Water, Sugar, Salt, Tapioca Starch, Acidity Regulators (260, 330), Herbs, Flavour Enhancers (621, 627, 631), Flavours, Preservatives 1211, 223). Fried Onion: Onion, Refined Palm Oil (Contains Antioxidant 319).",
            "Noodles: Wheat Flour (62%), Refined Palm Oil (Contains Antioxidant 319), Salt, Acidity Regulators (451, 501, 500), Thickener (412), Colour (101).<br>Seasoning Powder: Salt, Sugar, Flavour Enhancers (621, 631, 627), Garlic Powder, Onion Powder, Yeast Extract, Artificial Flavour, Pepper, Anti Caking Agent (551).<br>Seasoning Oil: Refined Palm Oil (Contains Antioxidant 319), Onion.<br>Sweet Soy Sauce: Sugar, Water, Salt, Wheat, Soy Bean, Spices, Sesame Oil.<br>Chilli Sauce: Chilli, Water, Sugar, Salt, Tapioca Starch, Acidity Regulators (260, 330), Herbs, Flavour Enhancers (621, 627, 631), Flavours, Preservatives 1211, 223). Fried Onion: Onion, Refined Palm Oil (Contains Antioxidant 319).",
            "Water, Reconstituted Fruit Juice (25%) (Apple or Pear, Pineapple, Orange or Water Extracted Orange, Peach Purée, Passionfruit), Sugar, Food Acids (Citric Acid, Potassium Citrate), Vitamin C, Natural Flavours, Stabiliser (Pectin).",
            "Canola Oil, Water, Sugar, Vinegar, Thickener (1422, Xanthan Gum), Free Range Egg Yolk,  Gherkin, Salt, Onion Powder, Natural Colour (Carotene, Paprika Oleoresins), Preservative (Potassium Sorbate), Dill, Acidity Regulator (Citric Acid), Herb Extract, Mustard Oil.",
            "Jelly (70%) (Water, Sugar, Gelling Agents (Carrageenan, Locust Bean Gum, Xanthan Gum), Acidity Regulators (Sodium Citrates, Potassium Citrates, Calcium Lactate, Malic Acid, Citric Acid), Natural Flavours (Pineapple, Mango), Natural Colours (Carotene, Paprika Oleoresins), Antioxidant (Ascorbic Acid)), Peach (15%), Pear (15%)"
           ],
           [
            "Indomie Mi Goreng Instant Noodles",
            "Indomie Mi Goreng Instant Noodles",
            "Golden Circle Drinks Sunshine Punch Fruit Drink",
            "Woolworths Secret Burger Sauce",
            "Woolworths Two Fruits In Tropical Jelly"
           ]
          ]
         },
         "header": {
          "values": [
           "Step",
           "Description",
           "Id",
           "Recipe",
           "Product"
          ]
         },
         "type": "table"
        }
       ],
       "layout": {
        "template": {
         "data": {
          "bar": [
           {
            "error_x": {
             "color": "#2a3f5f"
            },
            "error_y": {
             "color": "#2a3f5f"
            },
            "marker": {
             "line": {
              "color": "#E5ECF6",
              "width": 0.5
             },
             "pattern": {
              "fillmode": "overlay",
              "size": 10,
              "solidity": 0.2
             }
            },
            "type": "bar"
           }
          ],
          "barpolar": [
           {
            "marker": {
             "line": {
              "color": "#E5ECF6",
              "width": 0.5
             },
             "pattern": {
              "fillmode": "overlay",
              "size": 10,
              "solidity": 0.2
             }
            },
            "type": "barpolar"
           }
          ],
          "carpet": [
           {
            "aaxis": {
             "endlinecolor": "#2a3f5f",
             "gridcolor": "white",
             "linecolor": "white",
             "minorgridcolor": "white",
             "startlinecolor": "#2a3f5f"
            },
            "baxis": {
             "endlinecolor": "#2a3f5f",
             "gridcolor": "white",
             "linecolor": "white",
             "minorgridcolor": "white",
             "startlinecolor": "#2a3f5f"
            },
            "type": "carpet"
           }
          ],
          "choropleth": [
           {
            "colorbar": {
             "outlinewidth": 0,
             "ticks": ""
            },
            "type": "choropleth"
           }
          ],
          "contour": [
           {
            "colorbar": {
             "outlinewidth": 0,
             "ticks": ""
            },
            "colorscale": [
             [
              0,
              "#0d0887"
             ],
             [
              0.1111111111111111,
              "#46039f"
             ],
             [
              0.2222222222222222,
              "#7201a8"
             ],
             [
              0.3333333333333333,
              "#9c179e"
             ],
             [
              0.4444444444444444,
              "#bd3786"
             ],
             [
              0.5555555555555556,
              "#d8576b"
             ],
             [
              0.6666666666666666,
              "#ed7953"
             ],
             [
              0.7777777777777778,
              "#fb9f3a"
             ],
             [
              0.8888888888888888,
              "#fdca26"
             ],
             [
              1,
              "#f0f921"
             ]
            ],
            "type": "contour"
           }
          ],
          "contourcarpet": [
           {
            "colorbar": {
             "outlinewidth": 0,
             "ticks": ""
            },
            "type": "contourcarpet"
           }
          ],
          "heatmap": [
           {
            "colorbar": {
             "outlinewidth": 0,
             "ticks": ""
            },
            "colorscale": [
             [
              0,
              "#0d0887"
             ],
             [
              0.1111111111111111,
              "#46039f"
             ],
             [
              0.2222222222222222,
              "#7201a8"
             ],
             [
              0.3333333333333333,
              "#9c179e"
             ],
             [
              0.4444444444444444,
              "#bd3786"
             ],
             [
              0.5555555555555556,
              "#d8576b"
             ],
             [
              0.6666666666666666,
              "#ed7953"
             ],
             [
              0.7777777777777778,
              "#fb9f3a"
             ],
             [
              0.8888888888888888,
              "#fdca26"
             ],
             [
              1,
              "#f0f921"
             ]
            ],
            "type": "heatmap"
           }
          ],
          "heatmapgl": [
           {
            "colorbar": {
             "outlinewidth": 0,
             "ticks": ""
            },
            "colorscale": [
             [
              0,
              "#0d0887"
             ],
             [
              0.1111111111111111,
              "#46039f"
             ],
             [
              0.2222222222222222,
              "#7201a8"
             ],
             [
              0.3333333333333333,
              "#9c179e"
             ],
             [
              0.4444444444444444,
              "#bd3786"
             ],
             [
              0.5555555555555556,
              "#d8576b"
             ],
             [
              0.6666666666666666,
              "#ed7953"
             ],
             [
              0.7777777777777778,
              "#fb9f3a"
             ],
             [
              0.8888888888888888,
              "#fdca26"
             ],
             [
              1,
              "#f0f921"
             ]
            ],
            "type": "heatmapgl"
           }
          ],
          "histogram": [
           {
            "marker": {
             "pattern": {
              "fillmode": "overlay",
              "size": 10,
              "solidity": 0.2
             }
            },
            "type": "histogram"
           }
          ],
          "histogram2d": [
           {
            "colorbar": {
             "outlinewidth": 0,
             "ticks": ""
            },
            "colorscale": [
             [
              0,
              "#0d0887"
             ],
             [
              0.1111111111111111,
              "#46039f"
             ],
             [
              0.2222222222222222,
              "#7201a8"
             ],
             [
              0.3333333333333333,
              "#9c179e"
             ],
             [
              0.4444444444444444,
              "#bd3786"
             ],
             [
              0.5555555555555556,
              "#d8576b"
             ],
             [
              0.6666666666666666,
              "#ed7953"
             ],
             [
              0.7777777777777778,
              "#fb9f3a"
             ],
             [
              0.8888888888888888,
              "#fdca26"
             ],
             [
              1,
              "#f0f921"
             ]
            ],
            "type": "histogram2d"
           }
          ],
          "histogram2dcontour": [
           {
            "colorbar": {
             "outlinewidth": 0,
             "ticks": ""
            },
            "colorscale": [
             [
              0,
              "#0d0887"
             ],
             [
              0.1111111111111111,
              "#46039f"
             ],
             [
              0.2222222222222222,
              "#7201a8"
             ],
             [
              0.3333333333333333,
              "#9c179e"
             ],
             [
              0.4444444444444444,
              "#bd3786"
             ],
             [
              0.5555555555555556,
              "#d8576b"
             ],
             [
              0.6666666666666666,
              "#ed7953"
             ],
             [
              0.7777777777777778,
              "#fb9f3a"
             ],
             [
              0.8888888888888888,
              "#fdca26"
             ],
             [
              1,
              "#f0f921"
             ]
            ],
            "type": "histogram2dcontour"
           }
          ],
          "mesh3d": [
           {
            "colorbar": {
             "outlinewidth": 0,
             "ticks": ""
            },
            "type": "mesh3d"
           }
          ],
          "parcoords": [
           {
            "line": {
             "colorbar": {
              "outlinewidth": 0,
              "ticks": ""
             }
            },
            "type": "parcoords"
           }
          ],
          "pie": [
           {
            "automargin": true,
            "type": "pie"
           }
          ],
          "scatter": [
           {
            "fillpattern": {
             "fillmode": "overlay",
             "size": 10,
             "solidity": 0.2
            },
            "type": "scatter"
           }
          ],
          "scatter3d": [
           {
            "line": {
             "colorbar": {
              "outlinewidth": 0,
              "ticks": ""
             }
            },
            "marker": {
             "colorbar": {
              "outlinewidth": 0,
              "ticks": ""
             }
            },
            "type": "scatter3d"
           }
          ],
          "scattercarpet": [
           {
            "marker": {
             "colorbar": {
              "outlinewidth": 0,
              "ticks": ""
             }
            },
            "type": "scattercarpet"
           }
          ],
          "scattergeo": [
           {
            "marker": {
             "colorbar": {
              "outlinewidth": 0,
              "ticks": ""
             }
            },
            "type": "scattergeo"
           }
          ],
          "scattergl": [
           {
            "marker": {
             "colorbar": {
              "outlinewidth": 0,
              "ticks": ""
             }
            },
            "type": "scattergl"
           }
          ],
          "scattermapbox": [
           {
            "marker": {
             "colorbar": {
              "outlinewidth": 0,
              "ticks": ""
             }
            },
            "type": "scattermapbox"
           }
          ],
          "scatterpolar": [
           {
            "marker": {
             "colorbar": {
              "outlinewidth": 0,
              "ticks": ""
             }
            },
            "type": "scatterpolar"
           }
          ],
          "scatterpolargl": [
           {
            "marker": {
             "colorbar": {
              "outlinewidth": 0,
              "ticks": ""
             }
            },
            "type": "scatterpolargl"
           }
          ],
          "scatterternary": [
           {
            "marker": {
             "colorbar": {
              "outlinewidth": 0,
              "ticks": ""
             }
            },
            "type": "scatterternary"
           }
          ],
          "surface": [
           {
            "colorbar": {
             "outlinewidth": 0,
             "ticks": ""
            },
            "colorscale": [
             [
              0,
              "#0d0887"
             ],
             [
              0.1111111111111111,
              "#46039f"
             ],
             [
              0.2222222222222222,
              "#7201a8"
             ],
             [
              0.3333333333333333,
              "#9c179e"
             ],
             [
              0.4444444444444444,
              "#bd3786"
             ],
             [
              0.5555555555555556,
              "#d8576b"
             ],
             [
              0.6666666666666666,
              "#ed7953"
             ],
             [
              0.7777777777777778,
              "#fb9f3a"
             ],
             [
              0.8888888888888888,
              "#fdca26"
             ],
             [
              1,
              "#f0f921"
             ]
            ],
            "type": "surface"
           }
          ],
          "table": [
           {
            "cells": {
             "fill": {
              "color": "#EBF0F8"
             },
             "line": {
              "color": "white"
             }
            },
            "header": {
             "fill": {
              "color": "#C8D4E3"
             },
             "line": {
              "color": "white"
             }
            },
            "type": "table"
           }
          ]
         },
         "layout": {
          "annotationdefaults": {
           "arrowcolor": "#2a3f5f",
           "arrowhead": 0,
           "arrowwidth": 1
          },
          "autotypenumbers": "strict",
          "coloraxis": {
           "colorbar": {
            "outlinewidth": 0,
            "ticks": ""
           }
          },
          "colorscale": {
           "diverging": [
            [
             0,
             "#8e0152"
            ],
            [
             0.1,
             "#c51b7d"
            ],
            [
             0.2,
             "#de77ae"
            ],
            [
             0.3,
             "#f1b6da"
            ],
            [
             0.4,
             "#fde0ef"
            ],
            [
             0.5,
             "#f7f7f7"
            ],
            [
             0.6,
             "#e6f5d0"
            ],
            [
             0.7,
             "#b8e186"
            ],
            [
             0.8,
             "#7fbc41"
            ],
            [
             0.9,
             "#4d9221"
            ],
            [
             1,
             "#276419"
            ]
           ],
           "sequential": [
            [
             0,
             "#0d0887"
            ],
            [
             0.1111111111111111,
             "#46039f"
            ],
            [
             0.2222222222222222,
             "#7201a8"
            ],
            [
             0.3333333333333333,
             "#9c179e"
            ],
            [
             0.4444444444444444,
             "#bd3786"
            ],
            [
             0.5555555555555556,
             "#d8576b"
            ],
            [
             0.6666666666666666,
             "#ed7953"
            ],
            [
             0.7777777777777778,
             "#fb9f3a"
            ],
            [
             0.8888888888888888,
             "#fdca26"
            ],
            [
             1,
             "#f0f921"
            ]
           ],
           "sequentialminus": [
            [
             0,
             "#0d0887"
            ],
            [
             0.1111111111111111,
             "#46039f"
            ],
            [
             0.2222222222222222,
             "#7201a8"
            ],
            [
             0.3333333333333333,
             "#9c179e"
            ],
            [
             0.4444444444444444,
             "#bd3786"
            ],
            [
             0.5555555555555556,
             "#d8576b"
            ],
            [
             0.6666666666666666,
             "#ed7953"
            ],
            [
             0.7777777777777778,
             "#fb9f3a"
            ],
            [
             0.8888888888888888,
             "#fdca26"
            ],
            [
             1,
             "#f0f921"
            ]
           ]
          },
          "colorway": [
           "#636efa",
           "#EF553B",
           "#00cc96",
           "#ab63fa",
           "#FFA15A",
           "#19d3f3",
           "#FF6692",
           "#B6E880",
           "#FF97FF",
           "#FECB52"
          ],
          "font": {
           "color": "#2a3f5f"
          },
          "geo": {
           "bgcolor": "white",
           "lakecolor": "white",
           "landcolor": "#E5ECF6",
           "showlakes": true,
           "showland": true,
           "subunitcolor": "white"
          },
          "hoverlabel": {
           "align": "left"
          },
          "hovermode": "closest",
          "mapbox": {
           "style": "light"
          },
          "paper_bgcolor": "white",
          "plot_bgcolor": "#E5ECF6",
          "polar": {
           "angularaxis": {
            "gridcolor": "white",
            "linecolor": "white",
            "ticks": ""
           },
           "bgcolor": "#E5ECF6",
           "radialaxis": {
            "gridcolor": "white",
            "linecolor": "white",
            "ticks": ""
           }
          },
          "scene": {
           "xaxis": {
            "backgroundcolor": "#E5ECF6",
            "gridcolor": "white",
            "gridwidth": 2,
            "linecolor": "white",
            "showbackground": true,
            "ticks": "",
            "zerolinecolor": "white"
           },
           "yaxis": {
            "backgroundcolor": "#E5ECF6",
            "gridcolor": "white",
            "gridwidth": 2,
            "linecolor": "white",
            "showbackground": true,
            "ticks": "",
            "zerolinecolor": "white"
           },
           "zaxis": {
            "backgroundcolor": "#E5ECF6",
            "gridcolor": "white",
            "gridwidth": 2,
            "linecolor": "white",
            "showbackground": true,
            "ticks": "",
            "zerolinecolor": "white"
           }
          },
          "shapedefaults": {
           "line": {
            "color": "#2a3f5f"
           }
          },
          "ternary": {
           "aaxis": {
            "gridcolor": "white",
            "linecolor": "white",
            "ticks": ""
           },
           "baxis": {
            "gridcolor": "white",
            "linecolor": "white",
            "ticks": ""
           },
           "bgcolor": "#E5ECF6",
           "caxis": {
            "gridcolor": "white",
            "linecolor": "white",
            "ticks": ""
           }
          },
          "title": {
           "x": 0.05
          },
          "xaxis": {
           "automargin": true,
           "gridcolor": "white",
           "linecolor": "white",
           "ticks": "",
           "title": {
            "standoff": 15
           },
           "zerolinecolor": "white",
           "zerolinewidth": 2
          },
          "yaxis": {
           "automargin": true,
           "gridcolor": "white",
           "linecolor": "white",
           "ticks": "",
           "title": {
            "standoff": 15
           },
           "zerolinecolor": "white",
           "zerolinewidth": 2
          }
         }
        },
        "title": {
         "text": "ManufacturingProcess with 'water' and 'sugar' in Description Grouped by Product"
        }
       }
      }
     },
     "metadata": {},
     "output_type": "display_data"
    }
   ],
   "source": [
    "import pandas as pd\n",
    "import plotly.graph_objects as go\n",
    "\n",
    "query = \"\"\"\n",
    "MATCH (r:Recipe)-[:HAS_MANUFACTURING_PROCESS]->(mp:ManufacturingProcess)\n",
    "WHERE TOLOWER(mp.Description) CONTAINS 'water' AND TOLOWER(mp.Description) CONTAINS 'sugar'\n",
    "MATCH (p:Product)-[:HAS_RECIPE]->(r)\n",
    "RETURN mp.Step AS ManufacturingProcessStep, \n",
    "       mp.Description AS ManufacturingProcessDescription,\n",
    "       id(mp) AS ManufacturingProcessId,\n",
    "       r.ingredients_orig AS Recipe, \n",
    "       p.name AS Product\n",
    "\"\"\"\n",
    "\n",
    "# Retrieve data from Neo4j\n",
    "with driver.session() as session:\n",
    "    result = session.run(query)\n",
    "    neo4j_data = [record.data() for record in result]\n",
    "\n",
    "# Create DataFrame from neo4j_data\n",
    "df = pd.DataFrame(neo4j_data)\n",
    "\n",
    "keywords = ['water', 'sugar']\n",
    "\n",
    "# Filter rows containing both 'water' and 'sugar'\n",
    "mask = df['ManufacturingProcessDescription'].apply(lambda x: all(kw.lower() in str(x).lower() for kw in keywords) if pd.notnull(x) else False)\n",
    "filtered_df = df.loc[mask]\n",
    "\n",
    "# Group by Product based on keyword matches\n",
    "grouped_df = filtered_df.groupby('Product').filter(lambda x: x['ManufacturingProcessDescription'].apply(lambda y: all(kw.lower() in str(y).lower() for kw in keywords) if pd.notnull(y) else False).any())\n",
    "\n",
    "# create the Plotly table\n",
    "fig_data = [go.Table(\n",
    "    header=dict(values=['Step', 'Description', 'Id','Recipe', 'Product']),\n",
    "    cells=dict(values=[grouped_df['ManufacturingProcessStep'], \n",
    "                       grouped_df['ManufacturingProcessDescription'], \n",
    "                       grouped_df['ManufacturingProcessId'], \n",
    "                       grouped_df['Recipe'], \n",
    "                       grouped_df['Product']])\n",
    ")]\n",
    "\n",
    "# set up layout\n",
    "fig_layout = go.Layout(\n",
    "    title='ManufacturingProcess with \\'water\\' and \\'sugar\\' in Description Grouped by Product'\n",
    ")\n",
    "\n",
    "fig = go.Figure(data=fig_data, layout=fig_layout)\n",
    "fig.show()\n"
   ]
  },
  {
   "cell_type": "code",
   "execution_count": 31,
   "metadata": {},
   "outputs": [
    {
     "data": {
      "application/vnd.plotly.v1+json": {
       "config": {
        "plotlyServerURL": "https://plot.ly"
       },
       "data": [
        {
         "cells": {
          "values": [
           [
            "Step 6",
            "Step 7",
            "Step 2",
            "Step 1",
            "Step 3",
            "Step 3",
            "Step 1"
           ],
           [
            "Step 6: The sweet soy sauce is made by mixing sugar, water, salt, wheat, soy bean, spices, and sesame oil.",
            "Step 7: The chilli sauce is made by mixing chilli, water, sugar, salt, tapioca starch, acidity regulators, herbs, flavour enhancers, flavours, and preservatives.",
            "Step 2: Combining the fruit juices and purées with water, sugar, food acids, vitamin C, natural flavors, and pectin.",
            "Step 1: Canola oil, water, sugar, and vinegar are mixed together in a large vat.",
            "Step 3: The fruit puree is mixed with reconstituted refined juice (made from concentrated pear juice, water, antioxidant (ascorbic acid), and acidity regulator (citric acid))",
            "Step 3: The fruit puree is mixed with reconstituted refined juice (made from concentrated pear juice, water, antioxidant (ascorbic acid), and acidity regulator (citric acid))",
            "Step 1: Preparation of Jelly - Water, sugar, and gelling agents are combined and heated to dissolve the sugar and activate the gelling agents."
           ],
           [
            591,
            592,
            659,
            693,
            721,
            721,
            726
           ],
           [
            "Noodles: Wheat Flour (62%), Refined Palm Oil (Contains Antioxidant 319), Salt, Acidity Regulators (451, 501, 500), Thickener (412), Colour (101).<br>Seasoning Powder: Salt, Sugar, Flavour Enhancers (621, 631, 627), Garlic Powder, Onion Powder, Yeast Extract, Artificial Flavour, Pepper, Anti Caking Agent (551).<br>Seasoning Oil: Refined Palm Oil (Contains Antioxidant 319), Onion.<br>Sweet Soy Sauce: Sugar, Water, Salt, Wheat, Soy Bean, Spices, Sesame Oil.<br>Chilli Sauce: Chilli, Water, Sugar, Salt, Tapioca Starch, Acidity Regulators (260, 330), Herbs, Flavour Enhancers (621, 627, 631), Flavours, Preservatives 1211, 223). Fried Onion: Onion, Refined Palm Oil (Contains Antioxidant 319).",
            "Noodles: Wheat Flour (62%), Refined Palm Oil (Contains Antioxidant 319), Salt, Acidity Regulators (451, 501, 500), Thickener (412), Colour (101).<br>Seasoning Powder: Salt, Sugar, Flavour Enhancers (621, 631, 627), Garlic Powder, Onion Powder, Yeast Extract, Artificial Flavour, Pepper, Anti Caking Agent (551).<br>Seasoning Oil: Refined Palm Oil (Contains Antioxidant 319), Onion.<br>Sweet Soy Sauce: Sugar, Water, Salt, Wheat, Soy Bean, Spices, Sesame Oil.<br>Chilli Sauce: Chilli, Water, Sugar, Salt, Tapioca Starch, Acidity Regulators (260, 330), Herbs, Flavour Enhancers (621, 627, 631), Flavours, Preservatives 1211, 223). Fried Onion: Onion, Refined Palm Oil (Contains Antioxidant 319).",
            "Water, Reconstituted Fruit Juice (25%) (Apple or Pear, Pineapple, Orange or Water Extracted Orange, Peach Purée, Passionfruit), Sugar, Food Acids (Citric Acid, Potassium Citrate), Vitamin C, Natural Flavours, Stabiliser (Pectin).",
            "Canola Oil, Water, Sugar, Vinegar, Thickener (1422, Xanthan Gum), Free Range Egg Yolk,  Gherkin, Salt, Onion Powder, Natural Colour (Carotene, Paprika Oleoresins), Preservative (Potassium Sorbate), Dill, Acidity Regulator (Citric Acid), Herb Extract, Mustard Oil.",
            "Fruits (55%) (Peach, Pear), Reconstituted Refined Juice (Water, Concentrated Pear Juice, Antioxidant (Ascorbic Acid), Acidity Regulator (Citric Acid))",
            "Fruits (55%) (Peach, Pear), Reconstituted Refined Juice (Water, Concentrated Pear Juice, Antioxidant (Ascorbic Acid), Acidity Regulator (Citric Acid))",
            "Jelly (70%) (Water, Sugar, Gelling Agents (Carrageenan, Locust Bean Gum, Xanthan Gum), Acidity Regulators (Sodium Citrates, Potassium Citrates, Calcium Lactate, Malic Acid, Citric Acid), Natural Flavours (Pineapple, Mango), Natural Colours (Carotene, Paprika Oleoresins), Antioxidant (Ascorbic Acid)), Peach (15%), Pear (15%)"
           ],
           [
            "Indomie Mi Goreng Instant Noodles",
            "Indomie Mi Goreng Instant Noodles",
            "Golden Circle Drinks Sunshine Punch Fruit Drink",
            "Woolworths Secret Burger Sauce",
            "Woolworths Two Fruits In Juice Cups",
            "Woolworths Two Fruits In Juice",
            "Woolworths Two Fruits In Tropical Jelly"
           ],
           [
            "group1",
            "group1",
            "group1",
            "group1",
            "group2",
            "group2",
            "group1"
           ]
          ]
         },
         "header": {
          "values": [
           "Step",
           "Description",
           "Id",
           "Recipe",
           "Product",
           "Group"
          ]
         },
         "type": "table"
        }
       ],
       "layout": {
        "template": {
         "data": {
          "bar": [
           {
            "error_x": {
             "color": "#2a3f5f"
            },
            "error_y": {
             "color": "#2a3f5f"
            },
            "marker": {
             "line": {
              "color": "#E5ECF6",
              "width": 0.5
             },
             "pattern": {
              "fillmode": "overlay",
              "size": 10,
              "solidity": 0.2
             }
            },
            "type": "bar"
           }
          ],
          "barpolar": [
           {
            "marker": {
             "line": {
              "color": "#E5ECF6",
              "width": 0.5
             },
             "pattern": {
              "fillmode": "overlay",
              "size": 10,
              "solidity": 0.2
             }
            },
            "type": "barpolar"
           }
          ],
          "carpet": [
           {
            "aaxis": {
             "endlinecolor": "#2a3f5f",
             "gridcolor": "white",
             "linecolor": "white",
             "minorgridcolor": "white",
             "startlinecolor": "#2a3f5f"
            },
            "baxis": {
             "endlinecolor": "#2a3f5f",
             "gridcolor": "white",
             "linecolor": "white",
             "minorgridcolor": "white",
             "startlinecolor": "#2a3f5f"
            },
            "type": "carpet"
           }
          ],
          "choropleth": [
           {
            "colorbar": {
             "outlinewidth": 0,
             "ticks": ""
            },
            "type": "choropleth"
           }
          ],
          "contour": [
           {
            "colorbar": {
             "outlinewidth": 0,
             "ticks": ""
            },
            "colorscale": [
             [
              0,
              "#0d0887"
             ],
             [
              0.1111111111111111,
              "#46039f"
             ],
             [
              0.2222222222222222,
              "#7201a8"
             ],
             [
              0.3333333333333333,
              "#9c179e"
             ],
             [
              0.4444444444444444,
              "#bd3786"
             ],
             [
              0.5555555555555556,
              "#d8576b"
             ],
             [
              0.6666666666666666,
              "#ed7953"
             ],
             [
              0.7777777777777778,
              "#fb9f3a"
             ],
             [
              0.8888888888888888,
              "#fdca26"
             ],
             [
              1,
              "#f0f921"
             ]
            ],
            "type": "contour"
           }
          ],
          "contourcarpet": [
           {
            "colorbar": {
             "outlinewidth": 0,
             "ticks": ""
            },
            "type": "contourcarpet"
           }
          ],
          "heatmap": [
           {
            "colorbar": {
             "outlinewidth": 0,
             "ticks": ""
            },
            "colorscale": [
             [
              0,
              "#0d0887"
             ],
             [
              0.1111111111111111,
              "#46039f"
             ],
             [
              0.2222222222222222,
              "#7201a8"
             ],
             [
              0.3333333333333333,
              "#9c179e"
             ],
             [
              0.4444444444444444,
              "#bd3786"
             ],
             [
              0.5555555555555556,
              "#d8576b"
             ],
             [
              0.6666666666666666,
              "#ed7953"
             ],
             [
              0.7777777777777778,
              "#fb9f3a"
             ],
             [
              0.8888888888888888,
              "#fdca26"
             ],
             [
              1,
              "#f0f921"
             ]
            ],
            "type": "heatmap"
           }
          ],
          "heatmapgl": [
           {
            "colorbar": {
             "outlinewidth": 0,
             "ticks": ""
            },
            "colorscale": [
             [
              0,
              "#0d0887"
             ],
             [
              0.1111111111111111,
              "#46039f"
             ],
             [
              0.2222222222222222,
              "#7201a8"
             ],
             [
              0.3333333333333333,
              "#9c179e"
             ],
             [
              0.4444444444444444,
              "#bd3786"
             ],
             [
              0.5555555555555556,
              "#d8576b"
             ],
             [
              0.6666666666666666,
              "#ed7953"
             ],
             [
              0.7777777777777778,
              "#fb9f3a"
             ],
             [
              0.8888888888888888,
              "#fdca26"
             ],
             [
              1,
              "#f0f921"
             ]
            ],
            "type": "heatmapgl"
           }
          ],
          "histogram": [
           {
            "marker": {
             "pattern": {
              "fillmode": "overlay",
              "size": 10,
              "solidity": 0.2
             }
            },
            "type": "histogram"
           }
          ],
          "histogram2d": [
           {
            "colorbar": {
             "outlinewidth": 0,
             "ticks": ""
            },
            "colorscale": [
             [
              0,
              "#0d0887"
             ],
             [
              0.1111111111111111,
              "#46039f"
             ],
             [
              0.2222222222222222,
              "#7201a8"
             ],
             [
              0.3333333333333333,
              "#9c179e"
             ],
             [
              0.4444444444444444,
              "#bd3786"
             ],
             [
              0.5555555555555556,
              "#d8576b"
             ],
             [
              0.6666666666666666,
              "#ed7953"
             ],
             [
              0.7777777777777778,
              "#fb9f3a"
             ],
             [
              0.8888888888888888,
              "#fdca26"
             ],
             [
              1,
              "#f0f921"
             ]
            ],
            "type": "histogram2d"
           }
          ],
          "histogram2dcontour": [
           {
            "colorbar": {
             "outlinewidth": 0,
             "ticks": ""
            },
            "colorscale": [
             [
              0,
              "#0d0887"
             ],
             [
              0.1111111111111111,
              "#46039f"
             ],
             [
              0.2222222222222222,
              "#7201a8"
             ],
             [
              0.3333333333333333,
              "#9c179e"
             ],
             [
              0.4444444444444444,
              "#bd3786"
             ],
             [
              0.5555555555555556,
              "#d8576b"
             ],
             [
              0.6666666666666666,
              "#ed7953"
             ],
             [
              0.7777777777777778,
              "#fb9f3a"
             ],
             [
              0.8888888888888888,
              "#fdca26"
             ],
             [
              1,
              "#f0f921"
             ]
            ],
            "type": "histogram2dcontour"
           }
          ],
          "mesh3d": [
           {
            "colorbar": {
             "outlinewidth": 0,
             "ticks": ""
            },
            "type": "mesh3d"
           }
          ],
          "parcoords": [
           {
            "line": {
             "colorbar": {
              "outlinewidth": 0,
              "ticks": ""
             }
            },
            "type": "parcoords"
           }
          ],
          "pie": [
           {
            "automargin": true,
            "type": "pie"
           }
          ],
          "scatter": [
           {
            "fillpattern": {
             "fillmode": "overlay",
             "size": 10,
             "solidity": 0.2
            },
            "type": "scatter"
           }
          ],
          "scatter3d": [
           {
            "line": {
             "colorbar": {
              "outlinewidth": 0,
              "ticks": ""
             }
            },
            "marker": {
             "colorbar": {
              "outlinewidth": 0,
              "ticks": ""
             }
            },
            "type": "scatter3d"
           }
          ],
          "scattercarpet": [
           {
            "marker": {
             "colorbar": {
              "outlinewidth": 0,
              "ticks": ""
             }
            },
            "type": "scattercarpet"
           }
          ],
          "scattergeo": [
           {
            "marker": {
             "colorbar": {
              "outlinewidth": 0,
              "ticks": ""
             }
            },
            "type": "scattergeo"
           }
          ],
          "scattergl": [
           {
            "marker": {
             "colorbar": {
              "outlinewidth": 0,
              "ticks": ""
             }
            },
            "type": "scattergl"
           }
          ],
          "scattermapbox": [
           {
            "marker": {
             "colorbar": {
              "outlinewidth": 0,
              "ticks": ""
             }
            },
            "type": "scattermapbox"
           }
          ],
          "scatterpolar": [
           {
            "marker": {
             "colorbar": {
              "outlinewidth": 0,
              "ticks": ""
             }
            },
            "type": "scatterpolar"
           }
          ],
          "scatterpolargl": [
           {
            "marker": {
             "colorbar": {
              "outlinewidth": 0,
              "ticks": ""
             }
            },
            "type": "scatterpolargl"
           }
          ],
          "scatterternary": [
           {
            "marker": {
             "colorbar": {
              "outlinewidth": 0,
              "ticks": ""
             }
            },
            "type": "scatterternary"
           }
          ],
          "surface": [
           {
            "colorbar": {
             "outlinewidth": 0,
             "ticks": ""
            },
            "colorscale": [
             [
              0,
              "#0d0887"
             ],
             [
              0.1111111111111111,
              "#46039f"
             ],
             [
              0.2222222222222222,
              "#7201a8"
             ],
             [
              0.3333333333333333,
              "#9c179e"
             ],
             [
              0.4444444444444444,
              "#bd3786"
             ],
             [
              0.5555555555555556,
              "#d8576b"
             ],
             [
              0.6666666666666666,
              "#ed7953"
             ],
             [
              0.7777777777777778,
              "#fb9f3a"
             ],
             [
              0.8888888888888888,
              "#fdca26"
             ],
             [
              1,
              "#f0f921"
             ]
            ],
            "type": "surface"
           }
          ],
          "table": [
           {
            "cells": {
             "fill": {
              "color": "#EBF0F8"
             },
             "line": {
              "color": "white"
             }
            },
            "header": {
             "fill": {
              "color": "#C8D4E3"
             },
             "line": {
              "color": "white"
             }
            },
            "type": "table"
           }
          ]
         },
         "layout": {
          "annotationdefaults": {
           "arrowcolor": "#2a3f5f",
           "arrowhead": 0,
           "arrowwidth": 1
          },
          "autotypenumbers": "strict",
          "coloraxis": {
           "colorbar": {
            "outlinewidth": 0,
            "ticks": ""
           }
          },
          "colorscale": {
           "diverging": [
            [
             0,
             "#8e0152"
            ],
            [
             0.1,
             "#c51b7d"
            ],
            [
             0.2,
             "#de77ae"
            ],
            [
             0.3,
             "#f1b6da"
            ],
            [
             0.4,
             "#fde0ef"
            ],
            [
             0.5,
             "#f7f7f7"
            ],
            [
             0.6,
             "#e6f5d0"
            ],
            [
             0.7,
             "#b8e186"
            ],
            [
             0.8,
             "#7fbc41"
            ],
            [
             0.9,
             "#4d9221"
            ],
            [
             1,
             "#276419"
            ]
           ],
           "sequential": [
            [
             0,
             "#0d0887"
            ],
            [
             0.1111111111111111,
             "#46039f"
            ],
            [
             0.2222222222222222,
             "#7201a8"
            ],
            [
             0.3333333333333333,
             "#9c179e"
            ],
            [
             0.4444444444444444,
             "#bd3786"
            ],
            [
             0.5555555555555556,
             "#d8576b"
            ],
            [
             0.6666666666666666,
             "#ed7953"
            ],
            [
             0.7777777777777778,
             "#fb9f3a"
            ],
            [
             0.8888888888888888,
             "#fdca26"
            ],
            [
             1,
             "#f0f921"
            ]
           ],
           "sequentialminus": [
            [
             0,
             "#0d0887"
            ],
            [
             0.1111111111111111,
             "#46039f"
            ],
            [
             0.2222222222222222,
             "#7201a8"
            ],
            [
             0.3333333333333333,
             "#9c179e"
            ],
            [
             0.4444444444444444,
             "#bd3786"
            ],
            [
             0.5555555555555556,
             "#d8576b"
            ],
            [
             0.6666666666666666,
             "#ed7953"
            ],
            [
             0.7777777777777778,
             "#fb9f3a"
            ],
            [
             0.8888888888888888,
             "#fdca26"
            ],
            [
             1,
             "#f0f921"
            ]
           ]
          },
          "colorway": [
           "#636efa",
           "#EF553B",
           "#00cc96",
           "#ab63fa",
           "#FFA15A",
           "#19d3f3",
           "#FF6692",
           "#B6E880",
           "#FF97FF",
           "#FECB52"
          ],
          "font": {
           "color": "#2a3f5f"
          },
          "geo": {
           "bgcolor": "white",
           "lakecolor": "white",
           "landcolor": "#E5ECF6",
           "showlakes": true,
           "showland": true,
           "subunitcolor": "white"
          },
          "hoverlabel": {
           "align": "left"
          },
          "hovermode": "closest",
          "mapbox": {
           "style": "light"
          },
          "paper_bgcolor": "white",
          "plot_bgcolor": "#E5ECF6",
          "polar": {
           "angularaxis": {
            "gridcolor": "white",
            "linecolor": "white",
            "ticks": ""
           },
           "bgcolor": "#E5ECF6",
           "radialaxis": {
            "gridcolor": "white",
            "linecolor": "white",
            "ticks": ""
           }
          },
          "scene": {
           "xaxis": {
            "backgroundcolor": "#E5ECF6",
            "gridcolor": "white",
            "gridwidth": 2,
            "linecolor": "white",
            "showbackground": true,
            "ticks": "",
            "zerolinecolor": "white"
           },
           "yaxis": {
            "backgroundcolor": "#E5ECF6",
            "gridcolor": "white",
            "gridwidth": 2,
            "linecolor": "white",
            "showbackground": true,
            "ticks": "",
            "zerolinecolor": "white"
           },
           "zaxis": {
            "backgroundcolor": "#E5ECF6",
            "gridcolor": "white",
            "gridwidth": 2,
            "linecolor": "white",
            "showbackground": true,
            "ticks": "",
            "zerolinecolor": "white"
           }
          },
          "shapedefaults": {
           "line": {
            "color": "#2a3f5f"
           }
          },
          "ternary": {
           "aaxis": {
            "gridcolor": "white",
            "linecolor": "white",
            "ticks": ""
           },
           "baxis": {
            "gridcolor": "white",
            "linecolor": "white",
            "ticks": ""
           },
           "bgcolor": "#E5ECF6",
           "caxis": {
            "gridcolor": "white",
            "linecolor": "white",
            "ticks": ""
           }
          },
          "title": {
           "x": 0.05
          },
          "xaxis": {
           "automargin": true,
           "gridcolor": "white",
           "linecolor": "white",
           "ticks": "",
           "title": {
            "standoff": 15
           },
           "zerolinecolor": "white",
           "zerolinewidth": 2
          },
          "yaxis": {
           "automargin": true,
           "gridcolor": "white",
           "linecolor": "white",
           "ticks": "",
           "title": {
            "standoff": 15
           },
           "zerolinecolor": "white",
           "zerolinewidth": 2
          }
         }
        },
        "title": {
         "text": "ManufacturingProcess Grouped by Keyword Combinations"
        }
       }
      }
     },
     "metadata": {},
     "output_type": "display_data"
    }
   ],
   "source": [
    "import pandas as pd\n",
    "import plotly.graph_objects as go\n",
    "\n",
    "query = \"\"\"\n",
    "MATCH (r:Recipe)-[:HAS_MANUFACTURING_PROCESS]->(mp:ManufacturingProcess)\n",
    "MATCH (p:Product)-[:HAS_RECIPE]->(r)\n",
    "RETURN mp.Step AS ManufacturingProcessStep, \n",
    "       mp.Description AS ManufacturingProcessDescription,\n",
    "       id(mp) AS ManufacturingProcessId,\n",
    "       r.ingredients_orig AS Recipe, \n",
    "       p.name AS Product\n",
    "\"\"\"\n",
    "\n",
    "# Retrieve data from Neo4j\n",
    "with driver.session() as session:\n",
    "    result = session.run(query)\n",
    "    neo4j_data = [record.data() for record in result]\n",
    "\n",
    "# Create DataFrame from neo4j_data\n",
    "df = pd.DataFrame(neo4j_data)\n",
    "\n",
    "# Define keyword groups\n",
    "keyword_groups = {\n",
    "    'group1': ['water', 'sugar'],\n",
    "    'group2': ['water', 'and']\n",
    "}\n",
    "\n",
    "# Function to check if a description contains all keywords in a group\n",
    "def check_keywords(description, keywords):\n",
    "    return all(kw.lower() in str(description).lower() for kw in keywords) if pd.notnull(description) else False\n",
    "\n",
    "# Create a function to assign group\n",
    "def assign_group(description):\n",
    "    for group_name, keywords in keyword_groups.items():\n",
    "        if check_keywords(description, keywords):\n",
    "            return group_name\n",
    "    return None\n",
    "\n",
    "# Apply the function to create the Group column\n",
    "df['Group'] = df['ManufacturingProcessDescription'].apply(assign_group)\n",
    "\n",
    "# Filter rows that belong to any group\n",
    "filtered_df = df.dropna(subset=['Group'])\n",
    "\n",
    "# create the Plotly table\n",
    "fig_data = [go.Table(\n",
    "    header=dict(values=['Step', 'Description', 'Id', 'Recipe', 'Product', 'Group']),\n",
    "    cells=dict(values=[filtered_df['ManufacturingProcessStep'], \n",
    "                       filtered_df['ManufacturingProcessDescription'], \n",
    "                       filtered_df['ManufacturingProcessId'], \n",
    "                       filtered_df['Recipe'], \n",
    "                       filtered_df['Product'],\n",
    "                       filtered_df['Group']])\n",
    ")]\n",
    "\n",
    "# set up layout\n",
    "fig_layout = go.Layout(\n",
    "    title='ManufacturingProcess Grouped by Keyword Combinations'\n",
    ")\n",
    "\n",
    "fig = go.Figure(data=fig_data, layout=fig_layout)\n",
    "fig.show()\n"
   ]
  }
 ],
 "metadata": {
  "kernelspec": {
   "display_name": "base",
   "language": "python",
   "name": "python3"
  },
  "language_info": {
   "codemirror_mode": {
    "name": "ipython",
    "version": 3
   },
   "file_extension": ".py",
   "mimetype": "text/x-python",
   "name": "python",
   "nbconvert_exporter": "python",
   "pygments_lexer": "ipython3",
   "version": "3.10.9"
  }
 },
 "nbformat": 4,
 "nbformat_minor": 2
}
