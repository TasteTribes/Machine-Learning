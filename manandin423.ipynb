{
 "cells": [
  {
   "cell_type": "code",
   "execution_count": 1,
   "metadata": {},
   "outputs": [
    {
     "name": "stdout",
     "output_type": "stream",
     "text": [
      "Connectivity verified successfully.\n"
     ]
    }
   ],
   "source": [
    "from neo4j import GraphDatabase\n",
    "\n",
    "def get_neo4j_driver() -> GraphDatabase.driver:\n",
    "    \"\"\"Establishes and returns a Neo4j session for AuraDB.\"\"\"\n",
    "    neo4j_uri = 'neo4j+s://9d1381c2.databases.neo4j.io:7687'\n",
    "    neo4j_user = 'Shirley'\n",
    "    neo4j_password = 'Sxl19950312'\n",
    "    return GraphDatabase.driver(neo4j_uri, auth=(neo4j_user, neo4j_password))\n",
    "\n",
    "# Call the function to get the driver\n",
    "driver = get_neo4j_driver()\n",
    "\n",
    "# Open a session\n",
    "with driver.session() as session:\n",
    "    # Verify connectivity within the session\n",
    "    session.run(\"RETURN 1\")\n",
    "\n",
    "print(\"Connectivity verified successfully.\")\n",
    "\n",
    "\n",
    "from dash import Dash, dcc, html\n",
    "import plotly.express as px\n",
    "import pandas as pd\n",
    "\n",
    "\n",
    "# Define a Cypher query to retrieve the required data\n",
    "query = \"\"\"\n",
    "MATCH (n)\n",
    "RETURN n\n",
    "\"\"\"\n",
    "\n",
    "# Execute the query and process the results\n",
    "with driver.session() as session:\n",
    "    result = session.run(query)\n",
    "    neo4j_data = [record.data() for record in result]\n",
    "\n",
    "# Converting Neo4j Data to Pandas DataFrame Format\n",
    "df = pd.DataFrame(neo4j_data)\n",
    "\n",
    "#print(df)"
   ]
  },
  {
   "cell_type": "code",
   "execution_count": 2,
   "metadata": {},
   "outputs": [
    {
     "data": {
      "application/vnd.plotly.v1+json": {
       "config": {
        "plotlyServerURL": "https://plot.ly"
       },
       "data": [
        {
         "cells": {
          "values": [
           [
            "Step 6",
            "Step 7",
            "Step 2",
            "Step 1",
            "Step 3",
            "Step 3",
            "Step 1"
           ],
           [
            "Step 6: The sweet soy sauce is made by mixing sugar, water, salt, wheat, soy bean, spices, and sesame oil.",
            "Step 7: The chilli sauce is made by mixing chilli, water, sugar, salt, tapioca starch, acidity regulators, herbs, flavour enhancers, flavours, and preservatives.",
            "Step 2: Combining the fruit juices and purées with water, sugar, food acids, vitamin C, natural flavors, and pectin.",
            "Step 1: Canola oil, water, sugar, and vinegar are mixed together in a large vat.",
            "Step 3: The fruit puree is mixed with reconstituted refined juice (made from concentrated pear juice, water, antioxidant (ascorbic acid), and acidity regulator (citric acid))",
            "Step 3: The fruit puree is mixed with reconstituted refined juice (made from concentrated pear juice, water, antioxidant (ascorbic acid), and acidity regulator (citric acid))",
            "Step 1: Preparation of Jelly - Water, sugar, and gelling agents are combined and heated to dissolve the sugar and activate the gelling agents."
           ],
           [
            591,
            592,
            659,
            693,
            721,
            721,
            726
           ],
           [
            "Noodles: Wheat Flour (62%), Refined Palm Oil (Contains Antioxidant 319), Salt, Acidity Regulators (451, 501, 500), Thickener (412), Colour (101).<br>Seasoning Powder: Salt, Sugar, Flavour Enhancers (621, 631, 627), Garlic Powder, Onion Powder, Yeast Extract, Artificial Flavour, Pepper, Anti Caking Agent (551).<br>Seasoning Oil: Refined Palm Oil (Contains Antioxidant 319), Onion.<br>Sweet Soy Sauce: Sugar, Water, Salt, Wheat, Soy Bean, Spices, Sesame Oil.<br>Chilli Sauce: Chilli, Water, Sugar, Salt, Tapioca Starch, Acidity Regulators (260, 330), Herbs, Flavour Enhancers (621, 627, 631), Flavours, Preservatives 1211, 223). Fried Onion: Onion, Refined Palm Oil (Contains Antioxidant 319).",
            "Noodles: Wheat Flour (62%), Refined Palm Oil (Contains Antioxidant 319), Salt, Acidity Regulators (451, 501, 500), Thickener (412), Colour (101).<br>Seasoning Powder: Salt, Sugar, Flavour Enhancers (621, 631, 627), Garlic Powder, Onion Powder, Yeast Extract, Artificial Flavour, Pepper, Anti Caking Agent (551).<br>Seasoning Oil: Refined Palm Oil (Contains Antioxidant 319), Onion.<br>Sweet Soy Sauce: Sugar, Water, Salt, Wheat, Soy Bean, Spices, Sesame Oil.<br>Chilli Sauce: Chilli, Water, Sugar, Salt, Tapioca Starch, Acidity Regulators (260, 330), Herbs, Flavour Enhancers (621, 627, 631), Flavours, Preservatives 1211, 223). Fried Onion: Onion, Refined Palm Oil (Contains Antioxidant 319).",
            "Water, Reconstituted Fruit Juice (25%) (Apple or Pear, Pineapple, Orange or Water Extracted Orange, Peach Purée, Passionfruit), Sugar, Food Acids (Citric Acid, Potassium Citrate), Vitamin C, Natural Flavours, Stabiliser (Pectin).",
            "Canola Oil, Water, Sugar, Vinegar, Thickener (1422, Xanthan Gum), Free Range Egg Yolk,  Gherkin, Salt, Onion Powder, Natural Colour (Carotene, Paprika Oleoresins), Preservative (Potassium Sorbate), Dill, Acidity Regulator (Citric Acid), Herb Extract, Mustard Oil.",
            "Fruits (55%) (Peach, Pear), Reconstituted Refined Juice (Water, Concentrated Pear Juice, Antioxidant (Ascorbic Acid), Acidity Regulator (Citric Acid))",
            "Fruits (55%) (Peach, Pear), Reconstituted Refined Juice (Water, Concentrated Pear Juice, Antioxidant (Ascorbic Acid), Acidity Regulator (Citric Acid))",
            "Jelly (70%) (Water, Sugar, Gelling Agents (Carrageenan, Locust Bean Gum, Xanthan Gum), Acidity Regulators (Sodium Citrates, Potassium Citrates, Calcium Lactate, Malic Acid, Citric Acid), Natural Flavours (Pineapple, Mango), Natural Colours (Carotene, Paprika Oleoresins), Antioxidant (Ascorbic Acid)), Peach (15%), Pear (15%)"
           ],
           [
            "Indomie Mi Goreng Instant Noodles",
            "Indomie Mi Goreng Instant Noodles",
            "Golden Circle Drinks Sunshine Punch Fruit Drink",
            "Woolworths Secret Burger Sauce",
            "Woolworths Two Fruits In Juice Cups",
            "Woolworths Two Fruits In Juice",
            "Woolworths Two Fruits In Tropical Jelly"
           ],
           [
            "group1",
            "group1",
            "group1",
            "group1",
            "group2",
            "group2",
            "group1"
           ]
          ]
         },
         "header": {
          "values": [
           "Step",
           "Description",
           "Id",
           "Recipe",
           "Product",
           "Group"
          ]
         },
         "type": "table"
        }
       ],
       "layout": {
        "template": {
         "data": {
          "bar": [
           {
            "error_x": {
             "color": "#2a3f5f"
            },
            "error_y": {
             "color": "#2a3f5f"
            },
            "marker": {
             "line": {
              "color": "#E5ECF6",
              "width": 0.5
             },
             "pattern": {
              "fillmode": "overlay",
              "size": 10,
              "solidity": 0.2
             }
            },
            "type": "bar"
           }
          ],
          "barpolar": [
           {
            "marker": {
             "line": {
              "color": "#E5ECF6",
              "width": 0.5
             },
             "pattern": {
              "fillmode": "overlay",
              "size": 10,
              "solidity": 0.2
             }
            },
            "type": "barpolar"
           }
          ],
          "carpet": [
           {
            "aaxis": {
             "endlinecolor": "#2a3f5f",
             "gridcolor": "white",
             "linecolor": "white",
             "minorgridcolor": "white",
             "startlinecolor": "#2a3f5f"
            },
            "baxis": {
             "endlinecolor": "#2a3f5f",
             "gridcolor": "white",
             "linecolor": "white",
             "minorgridcolor": "white",
             "startlinecolor": "#2a3f5f"
            },
            "type": "carpet"
           }
          ],
          "choropleth": [
           {
            "colorbar": {
             "outlinewidth": 0,
             "ticks": ""
            },
            "type": "choropleth"
           }
          ],
          "contour": [
           {
            "colorbar": {
             "outlinewidth": 0,
             "ticks": ""
            },
            "colorscale": [
             [
              0,
              "#0d0887"
             ],
             [
              0.1111111111111111,
              "#46039f"
             ],
             [
              0.2222222222222222,
              "#7201a8"
             ],
             [
              0.3333333333333333,
              "#9c179e"
             ],
             [
              0.4444444444444444,
              "#bd3786"
             ],
             [
              0.5555555555555556,
              "#d8576b"
             ],
             [
              0.6666666666666666,
              "#ed7953"
             ],
             [
              0.7777777777777778,
              "#fb9f3a"
             ],
             [
              0.8888888888888888,
              "#fdca26"
             ],
             [
              1,
              "#f0f921"
             ]
            ],
            "type": "contour"
           }
          ],
          "contourcarpet": [
           {
            "colorbar": {
             "outlinewidth": 0,
             "ticks": ""
            },
            "type": "contourcarpet"
           }
          ],
          "heatmap": [
           {
            "colorbar": {
             "outlinewidth": 0,
             "ticks": ""
            },
            "colorscale": [
             [
              0,
              "#0d0887"
             ],
             [
              0.1111111111111111,
              "#46039f"
             ],
             [
              0.2222222222222222,
              "#7201a8"
             ],
             [
              0.3333333333333333,
              "#9c179e"
             ],
             [
              0.4444444444444444,
              "#bd3786"
             ],
             [
              0.5555555555555556,
              "#d8576b"
             ],
             [
              0.6666666666666666,
              "#ed7953"
             ],
             [
              0.7777777777777778,
              "#fb9f3a"
             ],
             [
              0.8888888888888888,
              "#fdca26"
             ],
             [
              1,
              "#f0f921"
             ]
            ],
            "type": "heatmap"
           }
          ],
          "heatmapgl": [
           {
            "colorbar": {
             "outlinewidth": 0,
             "ticks": ""
            },
            "colorscale": [
             [
              0,
              "#0d0887"
             ],
             [
              0.1111111111111111,
              "#46039f"
             ],
             [
              0.2222222222222222,
              "#7201a8"
             ],
             [
              0.3333333333333333,
              "#9c179e"
             ],
             [
              0.4444444444444444,
              "#bd3786"
             ],
             [
              0.5555555555555556,
              "#d8576b"
             ],
             [
              0.6666666666666666,
              "#ed7953"
             ],
             [
              0.7777777777777778,
              "#fb9f3a"
             ],
             [
              0.8888888888888888,
              "#fdca26"
             ],
             [
              1,
              "#f0f921"
             ]
            ],
            "type": "heatmapgl"
           }
          ],
          "histogram": [
           {
            "marker": {
             "pattern": {
              "fillmode": "overlay",
              "size": 10,
              "solidity": 0.2
             }
            },
            "type": "histogram"
           }
          ],
          "histogram2d": [
           {
            "colorbar": {
             "outlinewidth": 0,
             "ticks": ""
            },
            "colorscale": [
             [
              0,
              "#0d0887"
             ],
             [
              0.1111111111111111,
              "#46039f"
             ],
             [
              0.2222222222222222,
              "#7201a8"
             ],
             [
              0.3333333333333333,
              "#9c179e"
             ],
             [
              0.4444444444444444,
              "#bd3786"
             ],
             [
              0.5555555555555556,
              "#d8576b"
             ],
             [
              0.6666666666666666,
              "#ed7953"
             ],
             [
              0.7777777777777778,
              "#fb9f3a"
             ],
             [
              0.8888888888888888,
              "#fdca26"
             ],
             [
              1,
              "#f0f921"
             ]
            ],
            "type": "histogram2d"
           }
          ],
          "histogram2dcontour": [
           {
            "colorbar": {
             "outlinewidth": 0,
             "ticks": ""
            },
            "colorscale": [
             [
              0,
              "#0d0887"
             ],
             [
              0.1111111111111111,
              "#46039f"
             ],
             [
              0.2222222222222222,
              "#7201a8"
             ],
             [
              0.3333333333333333,
              "#9c179e"
             ],
             [
              0.4444444444444444,
              "#bd3786"
             ],
             [
              0.5555555555555556,
              "#d8576b"
             ],
             [
              0.6666666666666666,
              "#ed7953"
             ],
             [
              0.7777777777777778,
              "#fb9f3a"
             ],
             [
              0.8888888888888888,
              "#fdca26"
             ],
             [
              1,
              "#f0f921"
             ]
            ],
            "type": "histogram2dcontour"
           }
          ],
          "mesh3d": [
           {
            "colorbar": {
             "outlinewidth": 0,
             "ticks": ""
            },
            "type": "mesh3d"
           }
          ],
          "parcoords": [
           {
            "line": {
             "colorbar": {
              "outlinewidth": 0,
              "ticks": ""
             }
            },
            "type": "parcoords"
           }
          ],
          "pie": [
           {
            "automargin": true,
            "type": "pie"
           }
          ],
          "scatter": [
           {
            "fillpattern": {
             "fillmode": "overlay",
             "size": 10,
             "solidity": 0.2
            },
            "type": "scatter"
           }
          ],
          "scatter3d": [
           {
            "line": {
             "colorbar": {
              "outlinewidth": 0,
              "ticks": ""
             }
            },
            "marker": {
             "colorbar": {
              "outlinewidth": 0,
              "ticks": ""
             }
            },
            "type": "scatter3d"
           }
          ],
          "scattercarpet": [
           {
            "marker": {
             "colorbar": {
              "outlinewidth": 0,
              "ticks": ""
             }
            },
            "type": "scattercarpet"
           }
          ],
          "scattergeo": [
           {
            "marker": {
             "colorbar": {
              "outlinewidth": 0,
              "ticks": ""
             }
            },
            "type": "scattergeo"
           }
          ],
          "scattergl": [
           {
            "marker": {
             "colorbar": {
              "outlinewidth": 0,
              "ticks": ""
             }
            },
            "type": "scattergl"
           }
          ],
          "scattermapbox": [
           {
            "marker": {
             "colorbar": {
              "outlinewidth": 0,
              "ticks": ""
             }
            },
            "type": "scattermapbox"
           }
          ],
          "scatterpolar": [
           {
            "marker": {
             "colorbar": {
              "outlinewidth": 0,
              "ticks": ""
             }
            },
            "type": "scatterpolar"
           }
          ],
          "scatterpolargl": [
           {
            "marker": {
             "colorbar": {
              "outlinewidth": 0,
              "ticks": ""
             }
            },
            "type": "scatterpolargl"
           }
          ],
          "scatterternary": [
           {
            "marker": {
             "colorbar": {
              "outlinewidth": 0,
              "ticks": ""
             }
            },
            "type": "scatterternary"
           }
          ],
          "surface": [
           {
            "colorbar": {
             "outlinewidth": 0,
             "ticks": ""
            },
            "colorscale": [
             [
              0,
              "#0d0887"
             ],
             [
              0.1111111111111111,
              "#46039f"
             ],
             [
              0.2222222222222222,
              "#7201a8"
             ],
             [
              0.3333333333333333,
              "#9c179e"
             ],
             [
              0.4444444444444444,
              "#bd3786"
             ],
             [
              0.5555555555555556,
              "#d8576b"
             ],
             [
              0.6666666666666666,
              "#ed7953"
             ],
             [
              0.7777777777777778,
              "#fb9f3a"
             ],
             [
              0.8888888888888888,
              "#fdca26"
             ],
             [
              1,
              "#f0f921"
             ]
            ],
            "type": "surface"
           }
          ],
          "table": [
           {
            "cells": {
             "fill": {
              "color": "#EBF0F8"
             },
             "line": {
              "color": "white"
             }
            },
            "header": {
             "fill": {
              "color": "#C8D4E3"
             },
             "line": {
              "color": "white"
             }
            },
            "type": "table"
           }
          ]
         },
         "layout": {
          "annotationdefaults": {
           "arrowcolor": "#2a3f5f",
           "arrowhead": 0,
           "arrowwidth": 1
          },
          "autotypenumbers": "strict",
          "coloraxis": {
           "colorbar": {
            "outlinewidth": 0,
            "ticks": ""
           }
          },
          "colorscale": {
           "diverging": [
            [
             0,
             "#8e0152"
            ],
            [
             0.1,
             "#c51b7d"
            ],
            [
             0.2,
             "#de77ae"
            ],
            [
             0.3,
             "#f1b6da"
            ],
            [
             0.4,
             "#fde0ef"
            ],
            [
             0.5,
             "#f7f7f7"
            ],
            [
             0.6,
             "#e6f5d0"
            ],
            [
             0.7,
             "#b8e186"
            ],
            [
             0.8,
             "#7fbc41"
            ],
            [
             0.9,
             "#4d9221"
            ],
            [
             1,
             "#276419"
            ]
           ],
           "sequential": [
            [
             0,
             "#0d0887"
            ],
            [
             0.1111111111111111,
             "#46039f"
            ],
            [
             0.2222222222222222,
             "#7201a8"
            ],
            [
             0.3333333333333333,
             "#9c179e"
            ],
            [
             0.4444444444444444,
             "#bd3786"
            ],
            [
             0.5555555555555556,
             "#d8576b"
            ],
            [
             0.6666666666666666,
             "#ed7953"
            ],
            [
             0.7777777777777778,
             "#fb9f3a"
            ],
            [
             0.8888888888888888,
             "#fdca26"
            ],
            [
             1,
             "#f0f921"
            ]
           ],
           "sequentialminus": [
            [
             0,
             "#0d0887"
            ],
            [
             0.1111111111111111,
             "#46039f"
            ],
            [
             0.2222222222222222,
             "#7201a8"
            ],
            [
             0.3333333333333333,
             "#9c179e"
            ],
            [
             0.4444444444444444,
             "#bd3786"
            ],
            [
             0.5555555555555556,
             "#d8576b"
            ],
            [
             0.6666666666666666,
             "#ed7953"
            ],
            [
             0.7777777777777778,
             "#fb9f3a"
            ],
            [
             0.8888888888888888,
             "#fdca26"
            ],
            [
             1,
             "#f0f921"
            ]
           ]
          },
          "colorway": [
           "#636efa",
           "#EF553B",
           "#00cc96",
           "#ab63fa",
           "#FFA15A",
           "#19d3f3",
           "#FF6692",
           "#B6E880",
           "#FF97FF",
           "#FECB52"
          ],
          "font": {
           "color": "#2a3f5f"
          },
          "geo": {
           "bgcolor": "white",
           "lakecolor": "white",
           "landcolor": "#E5ECF6",
           "showlakes": true,
           "showland": true,
           "subunitcolor": "white"
          },
          "hoverlabel": {
           "align": "left"
          },
          "hovermode": "closest",
          "mapbox": {
           "style": "light"
          },
          "paper_bgcolor": "white",
          "plot_bgcolor": "#E5ECF6",
          "polar": {
           "angularaxis": {
            "gridcolor": "white",
            "linecolor": "white",
            "ticks": ""
           },
           "bgcolor": "#E5ECF6",
           "radialaxis": {
            "gridcolor": "white",
            "linecolor": "white",
            "ticks": ""
           }
          },
          "scene": {
           "xaxis": {
            "backgroundcolor": "#E5ECF6",
            "gridcolor": "white",
            "gridwidth": 2,
            "linecolor": "white",
            "showbackground": true,
            "ticks": "",
            "zerolinecolor": "white"
           },
           "yaxis": {
            "backgroundcolor": "#E5ECF6",
            "gridcolor": "white",
            "gridwidth": 2,
            "linecolor": "white",
            "showbackground": true,
            "ticks": "",
            "zerolinecolor": "white"
           },
           "zaxis": {
            "backgroundcolor": "#E5ECF6",
            "gridcolor": "white",
            "gridwidth": 2,
            "linecolor": "white",
            "showbackground": true,
            "ticks": "",
            "zerolinecolor": "white"
           }
          },
          "shapedefaults": {
           "line": {
            "color": "#2a3f5f"
           }
          },
          "ternary": {
           "aaxis": {
            "gridcolor": "white",
            "linecolor": "white",
            "ticks": ""
           },
           "baxis": {
            "gridcolor": "white",
            "linecolor": "white",
            "ticks": ""
           },
           "bgcolor": "#E5ECF6",
           "caxis": {
            "gridcolor": "white",
            "linecolor": "white",
            "ticks": ""
           }
          },
          "title": {
           "x": 0.05
          },
          "xaxis": {
           "automargin": true,
           "gridcolor": "white",
           "linecolor": "white",
           "ticks": "",
           "title": {
            "standoff": 15
           },
           "zerolinecolor": "white",
           "zerolinewidth": 2
          },
          "yaxis": {
           "automargin": true,
           "gridcolor": "white",
           "linecolor": "white",
           "ticks": "",
           "title": {
            "standoff": 15
           },
           "zerolinecolor": "white",
           "zerolinewidth": 2
          }
         }
        },
        "title": {
         "text": "ManufacturingProcess Grouped by Keyword Combinations"
        }
       }
      }
     },
     "metadata": {},
     "output_type": "display_data"
    }
   ],
   "source": [
    "import pandas as pd\n",
    "import plotly.graph_objects as go\n",
    "\n",
    "query = \"\"\"\n",
    "MATCH (r:Recipe)-[:HAS_MANUFACTURING_PROCESS]->(mp:ManufacturingProcess)\n",
    "MATCH (p:Product)-[:HAS_RECIPE]->(r)\n",
    "RETURN mp.Step AS ManufacturingProcessStep, \n",
    "       mp.Description AS ManufacturingProcessDescription,\n",
    "       id(mp) AS ManufacturingProcessId,\n",
    "       r.ingredients_orig AS Recipe, \n",
    "       p.name AS Product\n",
    "\"\"\"\n",
    "\n",
    "# Retrieve data from Neo4j\n",
    "with driver.session() as session:\n",
    "    result = session.run(query)\n",
    "    neo4j_data = [record.data() for record in result]\n",
    "\n",
    "# Create DataFrame from neo4j_data\n",
    "df = pd.DataFrame(neo4j_data)\n",
    "\n",
    "# Define keyword groups\n",
    "keyword_groups = {\n",
    "    'group1': ['water', 'sugar'],\n",
    "    'group2': ['water', 'and']\n",
    "}\n",
    "\n",
    "# Function to check if a description contains all keywords in a group\n",
    "def check_keywords(description, keywords):\n",
    "    return all(kw.lower() in str(description).lower() for kw in keywords) if pd.notnull(description) else False\n",
    "\n",
    "# Create a function to assign group\n",
    "def assign_group(description):\n",
    "    for group_name, keywords in keyword_groups.items():\n",
    "        if check_keywords(description, keywords):\n",
    "            return group_name\n",
    "    return None\n",
    "\n",
    "# Apply the function to create the Group column\n",
    "df['Group'] = df['ManufacturingProcessDescription'].apply(assign_group)\n",
    "\n",
    "# Filter rows that belong to any group\n",
    "filtered_df = df.dropna(subset=['Group'])\n",
    "\n",
    "# create the Plotly table\n",
    "fig_data = [go.Table(\n",
    "    header=dict(values=['Step', 'Description', 'Id', 'Recipe', 'Product', 'Group']),\n",
    "    cells=dict(values=[filtered_df['ManufacturingProcessStep'], \n",
    "                       filtered_df['ManufacturingProcessDescription'], \n",
    "                       filtered_df['ManufacturingProcessId'], \n",
    "                       filtered_df['Recipe'], \n",
    "                       filtered_df['Product'],\n",
    "                       filtered_df['Group']])\n",
    ")]\n",
    "\n",
    "# set up layout\n",
    "fig_layout = go.Layout(\n",
    "    title='ManufacturingProcess Grouped by Keyword Combinations'\n",
    ")\n",
    "\n",
    "fig = go.Figure(data=fig_data, layout=fig_layout)\n",
    "fig.show()\n"
   ]
  },
  {
   "cell_type": "code",
   "execution_count": 5,
   "metadata": {},
   "outputs": [
    {
     "data": {
      "application/vnd.plotly.v1+json": {
       "config": {
        "plotlyServerURL": "https://plot.ly"
       },
       "data": [
        {
         "cells": {
          "values": [
           [
            "Step 6",
            "Step 6",
            "Step 6",
            "Step 6",
            "Step 6",
            "Step 6",
            "Step 6",
            "Step 6",
            "Step 6",
            "Step 6",
            "Step 6",
            "Step 6",
            "Step 6",
            "Step 6",
            "Step 6",
            "Step 6",
            "Step 6",
            "Step 6",
            "Step 6",
            "Step 6",
            "Step 6",
            "Step 6",
            "Step 6",
            "Step 6",
            "Step 6",
            "Step 6",
            "Step 6",
            "Step 6",
            "Step 6",
            "Step 6",
            "Step 6",
            "Step 6",
            "Step 6",
            "Step 6",
            "Step 6",
            "Step 6",
            "Step 6",
            "Step 7",
            "Step 7",
            "Step 7",
            "Step 7",
            "Step 7",
            "Step 7",
            "Step 7",
            "Step 7",
            "Step 7",
            "Step 7",
            "Step 7",
            "Step 7",
            "Step 7",
            "Step 7",
            "Step 7",
            "Step 7",
            "Step 7",
            "Step 7",
            "Step 7",
            "Step 7",
            "Step 7",
            "Step 7",
            "Step 7",
            "Step 7",
            "Step 7",
            "Step 7",
            "Step 7",
            "Step 7",
            "Step 7",
            "Step 7",
            "Step 7",
            "Step 7",
            "Step 7",
            "Step 7",
            "Step 7",
            "Step 7",
            "Step 7",
            "Step 2",
            "Step 2",
            "Step 2",
            "Step 2",
            "Step 2",
            "Step 2",
            "Step 2",
            "Step 2",
            "Step 2",
            "Step 2",
            "Step 2",
            "Step 2",
            "Step 2",
            "Step 2",
            "Step 1",
            "Step 1",
            "Step 1",
            "Step 1",
            "Step 1",
            "Step 1",
            "Step 1",
            "Step 1",
            "Step 1",
            "Step 1",
            "Step 1",
            "Step 1",
            "Step 1",
            "Step 1",
            "Step 1",
            "Step 1",
            "Step 1",
            "Step 3",
            "Step 3",
            "Step 3",
            "Step 3",
            "Step 3",
            "Step 3",
            "Step 3",
            "Step 3",
            "Step 3",
            "Step 3",
            "Step 3",
            "Step 3",
            "Step 1",
            "Step 1",
            "Step 1",
            "Step 1",
            "Step 1",
            "Step 1",
            "Step 1",
            "Step 1",
            "Step 1",
            "Step 1",
            "Step 1",
            "Step 1",
            "Step 1",
            "Step 1",
            "Step 1",
            "Step 1",
            "Step 1"
           ],
           [
            "Step 6: The sweet soy sauce is made by mixing sugar, water, salt, wheat, soy bean, spices, and sesame oil.",
            "Step 6: The sweet soy sauce is made by mixing sugar, water, salt, wheat, soy bean, spices, and sesame oil.",
            "Step 6: The sweet soy sauce is made by mixing sugar, water, salt, wheat, soy bean, spices, and sesame oil.",
            "Step 6: The sweet soy sauce is made by mixing sugar, water, salt, wheat, soy bean, spices, and sesame oil.",
            "Step 6: The sweet soy sauce is made by mixing sugar, water, salt, wheat, soy bean, spices, and sesame oil.",
            "Step 6: The sweet soy sauce is made by mixing sugar, water, salt, wheat, soy bean, spices, and sesame oil.",
            "Step 6: The sweet soy sauce is made by mixing sugar, water, salt, wheat, soy bean, spices, and sesame oil.",
            "Step 6: The sweet soy sauce is made by mixing sugar, water, salt, wheat, soy bean, spices, and sesame oil.",
            "Step 6: The sweet soy sauce is made by mixing sugar, water, salt, wheat, soy bean, spices, and sesame oil.",
            "Step 6: The sweet soy sauce is made by mixing sugar, water, salt, wheat, soy bean, spices, and sesame oil.",
            "Step 6: The sweet soy sauce is made by mixing sugar, water, salt, wheat, soy bean, spices, and sesame oil.",
            "Step 6: The sweet soy sauce is made by mixing sugar, water, salt, wheat, soy bean, spices, and sesame oil.",
            "Step 6: The sweet soy sauce is made by mixing sugar, water, salt, wheat, soy bean, spices, and sesame oil.",
            "Step 6: The sweet soy sauce is made by mixing sugar, water, salt, wheat, soy bean, spices, and sesame oil.",
            "Step 6: The sweet soy sauce is made by mixing sugar, water, salt, wheat, soy bean, spices, and sesame oil.",
            "Step 6: The sweet soy sauce is made by mixing sugar, water, salt, wheat, soy bean, spices, and sesame oil.",
            "Step 6: The sweet soy sauce is made by mixing sugar, water, salt, wheat, soy bean, spices, and sesame oil.",
            "Step 6: The sweet soy sauce is made by mixing sugar, water, salt, wheat, soy bean, spices, and sesame oil.",
            "Step 6: The sweet soy sauce is made by mixing sugar, water, salt, wheat, soy bean, spices, and sesame oil.",
            "Step 6: The sweet soy sauce is made by mixing sugar, water, salt, wheat, soy bean, spices, and sesame oil.",
            "Step 6: The sweet soy sauce is made by mixing sugar, water, salt, wheat, soy bean, spices, and sesame oil.",
            "Step 6: The sweet soy sauce is made by mixing sugar, water, salt, wheat, soy bean, spices, and sesame oil.",
            "Step 6: The sweet soy sauce is made by mixing sugar, water, salt, wheat, soy bean, spices, and sesame oil.",
            "Step 6: The sweet soy sauce is made by mixing sugar, water, salt, wheat, soy bean, spices, and sesame oil.",
            "Step 6: The sweet soy sauce is made by mixing sugar, water, salt, wheat, soy bean, spices, and sesame oil.",
            "Step 6: The sweet soy sauce is made by mixing sugar, water, salt, wheat, soy bean, spices, and sesame oil.",
            "Step 6: The sweet soy sauce is made by mixing sugar, water, salt, wheat, soy bean, spices, and sesame oil.",
            "Step 6: The sweet soy sauce is made by mixing sugar, water, salt, wheat, soy bean, spices, and sesame oil.",
            "Step 6: The sweet soy sauce is made by mixing sugar, water, salt, wheat, soy bean, spices, and sesame oil.",
            "Step 6: The sweet soy sauce is made by mixing sugar, water, salt, wheat, soy bean, spices, and sesame oil.",
            "Step 6: The sweet soy sauce is made by mixing sugar, water, salt, wheat, soy bean, spices, and sesame oil.",
            "Step 6: The sweet soy sauce is made by mixing sugar, water, salt, wheat, soy bean, spices, and sesame oil.",
            "Step 6: The sweet soy sauce is made by mixing sugar, water, salt, wheat, soy bean, spices, and sesame oil.",
            "Step 6: The sweet soy sauce is made by mixing sugar, water, salt, wheat, soy bean, spices, and sesame oil.",
            "Step 6: The sweet soy sauce is made by mixing sugar, water, salt, wheat, soy bean, spices, and sesame oil.",
            "Step 6: The sweet soy sauce is made by mixing sugar, water, salt, wheat, soy bean, spices, and sesame oil.",
            "Step 6: The sweet soy sauce is made by mixing sugar, water, salt, wheat, soy bean, spices, and sesame oil.",
            "Step 7: The chilli sauce is made by mixing chilli, water, sugar, salt, tapioca starch, acidity regulators, herbs, flavour enhancers, flavours, and preservatives.",
            "Step 7: The chilli sauce is made by mixing chilli, water, sugar, salt, tapioca starch, acidity regulators, herbs, flavour enhancers, flavours, and preservatives.",
            "Step 7: The chilli sauce is made by mixing chilli, water, sugar, salt, tapioca starch, acidity regulators, herbs, flavour enhancers, flavours, and preservatives.",
            "Step 7: The chilli sauce is made by mixing chilli, water, sugar, salt, tapioca starch, acidity regulators, herbs, flavour enhancers, flavours, and preservatives.",
            "Step 7: The chilli sauce is made by mixing chilli, water, sugar, salt, tapioca starch, acidity regulators, herbs, flavour enhancers, flavours, and preservatives.",
            "Step 7: The chilli sauce is made by mixing chilli, water, sugar, salt, tapioca starch, acidity regulators, herbs, flavour enhancers, flavours, and preservatives.",
            "Step 7: The chilli sauce is made by mixing chilli, water, sugar, salt, tapioca starch, acidity regulators, herbs, flavour enhancers, flavours, and preservatives.",
            "Step 7: The chilli sauce is made by mixing chilli, water, sugar, salt, tapioca starch, acidity regulators, herbs, flavour enhancers, flavours, and preservatives.",
            "Step 7: The chilli sauce is made by mixing chilli, water, sugar, salt, tapioca starch, acidity regulators, herbs, flavour enhancers, flavours, and preservatives.",
            "Step 7: The chilli sauce is made by mixing chilli, water, sugar, salt, tapioca starch, acidity regulators, herbs, flavour enhancers, flavours, and preservatives.",
            "Step 7: The chilli sauce is made by mixing chilli, water, sugar, salt, tapioca starch, acidity regulators, herbs, flavour enhancers, flavours, and preservatives.",
            "Step 7: The chilli sauce is made by mixing chilli, water, sugar, salt, tapioca starch, acidity regulators, herbs, flavour enhancers, flavours, and preservatives.",
            "Step 7: The chilli sauce is made by mixing chilli, water, sugar, salt, tapioca starch, acidity regulators, herbs, flavour enhancers, flavours, and preservatives.",
            "Step 7: The chilli sauce is made by mixing chilli, water, sugar, salt, tapioca starch, acidity regulators, herbs, flavour enhancers, flavours, and preservatives.",
            "Step 7: The chilli sauce is made by mixing chilli, water, sugar, salt, tapioca starch, acidity regulators, herbs, flavour enhancers, flavours, and preservatives.",
            "Step 7: The chilli sauce is made by mixing chilli, water, sugar, salt, tapioca starch, acidity regulators, herbs, flavour enhancers, flavours, and preservatives.",
            "Step 7: The chilli sauce is made by mixing chilli, water, sugar, salt, tapioca starch, acidity regulators, herbs, flavour enhancers, flavours, and preservatives.",
            "Step 7: The chilli sauce is made by mixing chilli, water, sugar, salt, tapioca starch, acidity regulators, herbs, flavour enhancers, flavours, and preservatives.",
            "Step 7: The chilli sauce is made by mixing chilli, water, sugar, salt, tapioca starch, acidity regulators, herbs, flavour enhancers, flavours, and preservatives.",
            "Step 7: The chilli sauce is made by mixing chilli, water, sugar, salt, tapioca starch, acidity regulators, herbs, flavour enhancers, flavours, and preservatives.",
            "Step 7: The chilli sauce is made by mixing chilli, water, sugar, salt, tapioca starch, acidity regulators, herbs, flavour enhancers, flavours, and preservatives.",
            "Step 7: The chilli sauce is made by mixing chilli, water, sugar, salt, tapioca starch, acidity regulators, herbs, flavour enhancers, flavours, and preservatives.",
            "Step 7: The chilli sauce is made by mixing chilli, water, sugar, salt, tapioca starch, acidity regulators, herbs, flavour enhancers, flavours, and preservatives.",
            "Step 7: The chilli sauce is made by mixing chilli, water, sugar, salt, tapioca starch, acidity regulators, herbs, flavour enhancers, flavours, and preservatives.",
            "Step 7: The chilli sauce is made by mixing chilli, water, sugar, salt, tapioca starch, acidity regulators, herbs, flavour enhancers, flavours, and preservatives.",
            "Step 7: The chilli sauce is made by mixing chilli, water, sugar, salt, tapioca starch, acidity regulators, herbs, flavour enhancers, flavours, and preservatives.",
            "Step 7: The chilli sauce is made by mixing chilli, water, sugar, salt, tapioca starch, acidity regulators, herbs, flavour enhancers, flavours, and preservatives.",
            "Step 7: The chilli sauce is made by mixing chilli, water, sugar, salt, tapioca starch, acidity regulators, herbs, flavour enhancers, flavours, and preservatives.",
            "Step 7: The chilli sauce is made by mixing chilli, water, sugar, salt, tapioca starch, acidity regulators, herbs, flavour enhancers, flavours, and preservatives.",
            "Step 7: The chilli sauce is made by mixing chilli, water, sugar, salt, tapioca starch, acidity regulators, herbs, flavour enhancers, flavours, and preservatives.",
            "Step 7: The chilli sauce is made by mixing chilli, water, sugar, salt, tapioca starch, acidity regulators, herbs, flavour enhancers, flavours, and preservatives.",
            "Step 7: The chilli sauce is made by mixing chilli, water, sugar, salt, tapioca starch, acidity regulators, herbs, flavour enhancers, flavours, and preservatives.",
            "Step 7: The chilli sauce is made by mixing chilli, water, sugar, salt, tapioca starch, acidity regulators, herbs, flavour enhancers, flavours, and preservatives.",
            "Step 7: The chilli sauce is made by mixing chilli, water, sugar, salt, tapioca starch, acidity regulators, herbs, flavour enhancers, flavours, and preservatives.",
            "Step 7: The chilli sauce is made by mixing chilli, water, sugar, salt, tapioca starch, acidity regulators, herbs, flavour enhancers, flavours, and preservatives.",
            "Step 7: The chilli sauce is made by mixing chilli, water, sugar, salt, tapioca starch, acidity regulators, herbs, flavour enhancers, flavours, and preservatives.",
            "Step 7: The chilli sauce is made by mixing chilli, water, sugar, salt, tapioca starch, acidity regulators, herbs, flavour enhancers, flavours, and preservatives.",
            "Step 2: Combining the fruit juices and purées with water, sugar, food acids, vitamin C, natural flavors, and pectin.",
            "Step 2: Combining the fruit juices and purées with water, sugar, food acids, vitamin C, natural flavors, and pectin.",
            "Step 2: Combining the fruit juices and purées with water, sugar, food acids, vitamin C, natural flavors, and pectin.",
            "Step 2: Combining the fruit juices and purées with water, sugar, food acids, vitamin C, natural flavors, and pectin.",
            "Step 2: Combining the fruit juices and purées with water, sugar, food acids, vitamin C, natural flavors, and pectin.",
            "Step 2: Combining the fruit juices and purées with water, sugar, food acids, vitamin C, natural flavors, and pectin.",
            "Step 2: Combining the fruit juices and purées with water, sugar, food acids, vitamin C, natural flavors, and pectin.",
            "Step 2: Combining the fruit juices and purées with water, sugar, food acids, vitamin C, natural flavors, and pectin.",
            "Step 2: Combining the fruit juices and purées with water, sugar, food acids, vitamin C, natural flavors, and pectin.",
            "Step 2: Combining the fruit juices and purées with water, sugar, food acids, vitamin C, natural flavors, and pectin.",
            "Step 2: Combining the fruit juices and purées with water, sugar, food acids, vitamin C, natural flavors, and pectin.",
            "Step 2: Combining the fruit juices and purées with water, sugar, food acids, vitamin C, natural flavors, and pectin.",
            "Step 2: Combining the fruit juices and purées with water, sugar, food acids, vitamin C, natural flavors, and pectin.",
            "Step 2: Combining the fruit juices and purées with water, sugar, food acids, vitamin C, natural flavors, and pectin.",
            "Step 1: Canola oil, water, sugar, and vinegar are mixed together in a large vat.",
            "Step 1: Canola oil, water, sugar, and vinegar are mixed together in a large vat.",
            "Step 1: Canola oil, water, sugar, and vinegar are mixed together in a large vat.",
            "Step 1: Canola oil, water, sugar, and vinegar are mixed together in a large vat.",
            "Step 1: Canola oil, water, sugar, and vinegar are mixed together in a large vat.",
            "Step 1: Canola oil, water, sugar, and vinegar are mixed together in a large vat.",
            "Step 1: Canola oil, water, sugar, and vinegar are mixed together in a large vat.",
            "Step 1: Canola oil, water, sugar, and vinegar are mixed together in a large vat.",
            "Step 1: Canola oil, water, sugar, and vinegar are mixed together in a large vat.",
            "Step 1: Canola oil, water, sugar, and vinegar are mixed together in a large vat.",
            "Step 1: Canola oil, water, sugar, and vinegar are mixed together in a large vat.",
            "Step 1: Canola oil, water, sugar, and vinegar are mixed together in a large vat.",
            "Step 1: Canola oil, water, sugar, and vinegar are mixed together in a large vat.",
            "Step 1: Canola oil, water, sugar, and vinegar are mixed together in a large vat.",
            "Step 1: Canola oil, water, sugar, and vinegar are mixed together in a large vat.",
            "Step 1: Canola oil, water, sugar, and vinegar are mixed together in a large vat.",
            "Step 1: Canola oil, water, sugar, and vinegar are mixed together in a large vat.",
            "Step 3: The fruit puree is mixed with reconstituted refined juice (made from concentrated pear juice, water, antioxidant (ascorbic acid), and acidity regulator (citric acid))",
            "Step 3: The fruit puree is mixed with reconstituted refined juice (made from concentrated pear juice, water, antioxidant (ascorbic acid), and acidity regulator (citric acid))",
            "Step 3: The fruit puree is mixed with reconstituted refined juice (made from concentrated pear juice, water, antioxidant (ascorbic acid), and acidity regulator (citric acid))",
            "Step 3: The fruit puree is mixed with reconstituted refined juice (made from concentrated pear juice, water, antioxidant (ascorbic acid), and acidity regulator (citric acid))",
            "Step 3: The fruit puree is mixed with reconstituted refined juice (made from concentrated pear juice, water, antioxidant (ascorbic acid), and acidity regulator (citric acid))",
            "Step 3: The fruit puree is mixed with reconstituted refined juice (made from concentrated pear juice, water, antioxidant (ascorbic acid), and acidity regulator (citric acid))",
            "Step 3: The fruit puree is mixed with reconstituted refined juice (made from concentrated pear juice, water, antioxidant (ascorbic acid), and acidity regulator (citric acid))",
            "Step 3: The fruit puree is mixed with reconstituted refined juice (made from concentrated pear juice, water, antioxidant (ascorbic acid), and acidity regulator (citric acid))",
            "Step 3: The fruit puree is mixed with reconstituted refined juice (made from concentrated pear juice, water, antioxidant (ascorbic acid), and acidity regulator (citric acid))",
            "Step 3: The fruit puree is mixed with reconstituted refined juice (made from concentrated pear juice, water, antioxidant (ascorbic acid), and acidity regulator (citric acid))",
            "Step 3: The fruit puree is mixed with reconstituted refined juice (made from concentrated pear juice, water, antioxidant (ascorbic acid), and acidity regulator (citric acid))",
            "Step 3: The fruit puree is mixed with reconstituted refined juice (made from concentrated pear juice, water, antioxidant (ascorbic acid), and acidity regulator (citric acid))",
            "Step 1: Preparation of Jelly - Water, sugar, and gelling agents are combined and heated to dissolve the sugar and activate the gelling agents.",
            "Step 1: Preparation of Jelly - Water, sugar, and gelling agents are combined and heated to dissolve the sugar and activate the gelling agents.",
            "Step 1: Preparation of Jelly - Water, sugar, and gelling agents are combined and heated to dissolve the sugar and activate the gelling agents.",
            "Step 1: Preparation of Jelly - Water, sugar, and gelling agents are combined and heated to dissolve the sugar and activate the gelling agents.",
            "Step 1: Preparation of Jelly - Water, sugar, and gelling agents are combined and heated to dissolve the sugar and activate the gelling agents.",
            "Step 1: Preparation of Jelly - Water, sugar, and gelling agents are combined and heated to dissolve the sugar and activate the gelling agents.",
            "Step 1: Preparation of Jelly - Water, sugar, and gelling agents are combined and heated to dissolve the sugar and activate the gelling agents.",
            "Step 1: Preparation of Jelly - Water, sugar, and gelling agents are combined and heated to dissolve the sugar and activate the gelling agents.",
            "Step 1: Preparation of Jelly - Water, sugar, and gelling agents are combined and heated to dissolve the sugar and activate the gelling agents.",
            "Step 1: Preparation of Jelly - Water, sugar, and gelling agents are combined and heated to dissolve the sugar and activate the gelling agents.",
            "Step 1: Preparation of Jelly - Water, sugar, and gelling agents are combined and heated to dissolve the sugar and activate the gelling agents.",
            "Step 1: Preparation of Jelly - Water, sugar, and gelling agents are combined and heated to dissolve the sugar and activate the gelling agents.",
            "Step 1: Preparation of Jelly - Water, sugar, and gelling agents are combined and heated to dissolve the sugar and activate the gelling agents.",
            "Step 1: Preparation of Jelly - Water, sugar, and gelling agents are combined and heated to dissolve the sugar and activate the gelling agents.",
            "Step 1: Preparation of Jelly - Water, sugar, and gelling agents are combined and heated to dissolve the sugar and activate the gelling agents.",
            "Step 1: Preparation of Jelly - Water, sugar, and gelling agents are combined and heated to dissolve the sugar and activate the gelling agents.",
            "Step 1: Preparation of Jelly - Water, sugar, and gelling agents are combined and heated to dissolve the sugar and activate the gelling agents."
           ],
           [
            "Noodles: Wheat Flour (62%), Refined Palm Oil (Contains Antioxidant 319), Salt, Acidity Regulators (451, 501, 500), Thickener (412), Colour (101).<br>Seasoning Powder: Salt, Sugar, Flavour Enhancers (621, 631, 627), Garlic Powder, Onion Powder, Yeast Extract, Artificial Flavour, Pepper, Anti Caking Agent (551).<br>Seasoning Oil: Refined Palm Oil (Contains Antioxidant 319), Onion.<br>Sweet Soy Sauce: Sugar, Water, Salt, Wheat, Soy Bean, Spices, Sesame Oil.<br>Chilli Sauce: Chilli, Water, Sugar, Salt, Tapioca Starch, Acidity Regulators (260, 330), Herbs, Flavour Enhancers (621, 627, 631), Flavours, Preservatives 1211, 223). Fried Onion: Onion, Refined Palm Oil (Contains Antioxidant 319).",
            "Noodles: Wheat Flour (62%), Refined Palm Oil (Contains Antioxidant 319), Salt, Acidity Regulators (451, 501, 500), Thickener (412), Colour (101).<br>Seasoning Powder: Salt, Sugar, Flavour Enhancers (621, 631, 627), Garlic Powder, Onion Powder, Yeast Extract, Artificial Flavour, Pepper, Anti Caking Agent (551).<br>Seasoning Oil: Refined Palm Oil (Contains Antioxidant 319), Onion.<br>Sweet Soy Sauce: Sugar, Water, Salt, Wheat, Soy Bean, Spices, Sesame Oil.<br>Chilli Sauce: Chilli, Water, Sugar, Salt, Tapioca Starch, Acidity Regulators (260, 330), Herbs, Flavour Enhancers (621, 627, 631), Flavours, Preservatives 1211, 223). Fried Onion: Onion, Refined Palm Oil (Contains Antioxidant 319).",
            "Noodles: Wheat Flour (62%), Refined Palm Oil (Contains Antioxidant 319), Salt, Acidity Regulators (451, 501, 500), Thickener (412), Colour (101).<br>Seasoning Powder: Salt, Sugar, Flavour Enhancers (621, 631, 627), Garlic Powder, Onion Powder, Yeast Extract, Artificial Flavour, Pepper, Anti Caking Agent (551).<br>Seasoning Oil: Refined Palm Oil (Contains Antioxidant 319), Onion.<br>Sweet Soy Sauce: Sugar, Water, Salt, Wheat, Soy Bean, Spices, Sesame Oil.<br>Chilli Sauce: Chilli, Water, Sugar, Salt, Tapioca Starch, Acidity Regulators (260, 330), Herbs, Flavour Enhancers (621, 627, 631), Flavours, Preservatives 1211, 223). Fried Onion: Onion, Refined Palm Oil (Contains Antioxidant 319).",
            "Noodles: Wheat Flour (62%), Refined Palm Oil (Contains Antioxidant 319), Salt, Acidity Regulators (451, 501, 500), Thickener (412), Colour (101).<br>Seasoning Powder: Salt, Sugar, Flavour Enhancers (621, 631, 627), Garlic Powder, Onion Powder, Yeast Extract, Artificial Flavour, Pepper, Anti Caking Agent (551).<br>Seasoning Oil: Refined Palm Oil (Contains Antioxidant 319), Onion.<br>Sweet Soy Sauce: Sugar, Water, Salt, Wheat, Soy Bean, Spices, Sesame Oil.<br>Chilli Sauce: Chilli, Water, Sugar, Salt, Tapioca Starch, Acidity Regulators (260, 330), Herbs, Flavour Enhancers (621, 627, 631), Flavours, Preservatives 1211, 223). Fried Onion: Onion, Refined Palm Oil (Contains Antioxidant 319).",
            "Noodles: Wheat Flour (62%), Refined Palm Oil (Contains Antioxidant 319), Salt, Acidity Regulators (451, 501, 500), Thickener (412), Colour (101).<br>Seasoning Powder: Salt, Sugar, Flavour Enhancers (621, 631, 627), Garlic Powder, Onion Powder, Yeast Extract, Artificial Flavour, Pepper, Anti Caking Agent (551).<br>Seasoning Oil: Refined Palm Oil (Contains Antioxidant 319), Onion.<br>Sweet Soy Sauce: Sugar, Water, Salt, Wheat, Soy Bean, Spices, Sesame Oil.<br>Chilli Sauce: Chilli, Water, Sugar, Salt, Tapioca Starch, Acidity Regulators (260, 330), Herbs, Flavour Enhancers (621, 627, 631), Flavours, Preservatives 1211, 223). Fried Onion: Onion, Refined Palm Oil (Contains Antioxidant 319).",
            "Noodles: Wheat Flour (62%), Refined Palm Oil (Contains Antioxidant 319), Salt, Acidity Regulators (451, 501, 500), Thickener (412), Colour (101).<br>Seasoning Powder: Salt, Sugar, Flavour Enhancers (621, 631, 627), Garlic Powder, Onion Powder, Yeast Extract, Artificial Flavour, Pepper, Anti Caking Agent (551).<br>Seasoning Oil: Refined Palm Oil (Contains Antioxidant 319), Onion.<br>Sweet Soy Sauce: Sugar, Water, Salt, Wheat, Soy Bean, Spices, Sesame Oil.<br>Chilli Sauce: Chilli, Water, Sugar, Salt, Tapioca Starch, Acidity Regulators (260, 330), Herbs, Flavour Enhancers (621, 627, 631), Flavours, Preservatives 1211, 223). Fried Onion: Onion, Refined Palm Oil (Contains Antioxidant 319).",
            "Noodles: Wheat Flour (62%), Refined Palm Oil (Contains Antioxidant 319), Salt, Acidity Regulators (451, 501, 500), Thickener (412), Colour (101).<br>Seasoning Powder: Salt, Sugar, Flavour Enhancers (621, 631, 627), Garlic Powder, Onion Powder, Yeast Extract, Artificial Flavour, Pepper, Anti Caking Agent (551).<br>Seasoning Oil: Refined Palm Oil (Contains Antioxidant 319), Onion.<br>Sweet Soy Sauce: Sugar, Water, Salt, Wheat, Soy Bean, Spices, Sesame Oil.<br>Chilli Sauce: Chilli, Water, Sugar, Salt, Tapioca Starch, Acidity Regulators (260, 330), Herbs, Flavour Enhancers (621, 627, 631), Flavours, Preservatives 1211, 223). Fried Onion: Onion, Refined Palm Oil (Contains Antioxidant 319).",
            "Noodles: Wheat Flour (62%), Refined Palm Oil (Contains Antioxidant 319), Salt, Acidity Regulators (451, 501, 500), Thickener (412), Colour (101).<br>Seasoning Powder: Salt, Sugar, Flavour Enhancers (621, 631, 627), Garlic Powder, Onion Powder, Yeast Extract, Artificial Flavour, Pepper, Anti Caking Agent (551).<br>Seasoning Oil: Refined Palm Oil (Contains Antioxidant 319), Onion.<br>Sweet Soy Sauce: Sugar, Water, Salt, Wheat, Soy Bean, Spices, Sesame Oil.<br>Chilli Sauce: Chilli, Water, Sugar, Salt, Tapioca Starch, Acidity Regulators (260, 330), Herbs, Flavour Enhancers (621, 627, 631), Flavours, Preservatives 1211, 223). Fried Onion: Onion, Refined Palm Oil (Contains Antioxidant 319).",
            "Noodles: Wheat Flour (62%), Refined Palm Oil (Contains Antioxidant 319), Salt, Acidity Regulators (451, 501, 500), Thickener (412), Colour (101).<br>Seasoning Powder: Salt, Sugar, Flavour Enhancers (621, 631, 627), Garlic Powder, Onion Powder, Yeast Extract, Artificial Flavour, Pepper, Anti Caking Agent (551).<br>Seasoning Oil: Refined Palm Oil (Contains Antioxidant 319), Onion.<br>Sweet Soy Sauce: Sugar, Water, Salt, Wheat, Soy Bean, Spices, Sesame Oil.<br>Chilli Sauce: Chilli, Water, Sugar, Salt, Tapioca Starch, Acidity Regulators (260, 330), Herbs, Flavour Enhancers (621, 627, 631), Flavours, Preservatives 1211, 223). Fried Onion: Onion, Refined Palm Oil (Contains Antioxidant 319).",
            "Noodles: Wheat Flour (62%), Refined Palm Oil (Contains Antioxidant 319), Salt, Acidity Regulators (451, 501, 500), Thickener (412), Colour (101).<br>Seasoning Powder: Salt, Sugar, Flavour Enhancers (621, 631, 627), Garlic Powder, Onion Powder, Yeast Extract, Artificial Flavour, Pepper, Anti Caking Agent (551).<br>Seasoning Oil: Refined Palm Oil (Contains Antioxidant 319), Onion.<br>Sweet Soy Sauce: Sugar, Water, Salt, Wheat, Soy Bean, Spices, Sesame Oil.<br>Chilli Sauce: Chilli, Water, Sugar, Salt, Tapioca Starch, Acidity Regulators (260, 330), Herbs, Flavour Enhancers (621, 627, 631), Flavours, Preservatives 1211, 223). Fried Onion: Onion, Refined Palm Oil (Contains Antioxidant 319).",
            "Noodles: Wheat Flour (62%), Refined Palm Oil (Contains Antioxidant 319), Salt, Acidity Regulators (451, 501, 500), Thickener (412), Colour (101).<br>Seasoning Powder: Salt, Sugar, Flavour Enhancers (621, 631, 627), Garlic Powder, Onion Powder, Yeast Extract, Artificial Flavour, Pepper, Anti Caking Agent (551).<br>Seasoning Oil: Refined Palm Oil (Contains Antioxidant 319), Onion.<br>Sweet Soy Sauce: Sugar, Water, Salt, Wheat, Soy Bean, Spices, Sesame Oil.<br>Chilli Sauce: Chilli, Water, Sugar, Salt, Tapioca Starch, Acidity Regulators (260, 330), Herbs, Flavour Enhancers (621, 627, 631), Flavours, Preservatives 1211, 223). Fried Onion: Onion, Refined Palm Oil (Contains Antioxidant 319).",
            "Noodles: Wheat Flour (62%), Refined Palm Oil (Contains Antioxidant 319), Salt, Acidity Regulators (451, 501, 500), Thickener (412), Colour (101).<br>Seasoning Powder: Salt, Sugar, Flavour Enhancers (621, 631, 627), Garlic Powder, Onion Powder, Yeast Extract, Artificial Flavour, Pepper, Anti Caking Agent (551).<br>Seasoning Oil: Refined Palm Oil (Contains Antioxidant 319), Onion.<br>Sweet Soy Sauce: Sugar, Water, Salt, Wheat, Soy Bean, Spices, Sesame Oil.<br>Chilli Sauce: Chilli, Water, Sugar, Salt, Tapioca Starch, Acidity Regulators (260, 330), Herbs, Flavour Enhancers (621, 627, 631), Flavours, Preservatives 1211, 223). Fried Onion: Onion, Refined Palm Oil (Contains Antioxidant 319).",
            "Noodles: Wheat Flour (62%), Refined Palm Oil (Contains Antioxidant 319), Salt, Acidity Regulators (451, 501, 500), Thickener (412), Colour (101).<br>Seasoning Powder: Salt, Sugar, Flavour Enhancers (621, 631, 627), Garlic Powder, Onion Powder, Yeast Extract, Artificial Flavour, Pepper, Anti Caking Agent (551).<br>Seasoning Oil: Refined Palm Oil (Contains Antioxidant 319), Onion.<br>Sweet Soy Sauce: Sugar, Water, Salt, Wheat, Soy Bean, Spices, Sesame Oil.<br>Chilli Sauce: Chilli, Water, Sugar, Salt, Tapioca Starch, Acidity Regulators (260, 330), Herbs, Flavour Enhancers (621, 627, 631), Flavours, Preservatives 1211, 223). Fried Onion: Onion, Refined Palm Oil (Contains Antioxidant 319).",
            "Noodles: Wheat Flour (62%), Refined Palm Oil (Contains Antioxidant 319), Salt, Acidity Regulators (451, 501, 500), Thickener (412), Colour (101).<br>Seasoning Powder: Salt, Sugar, Flavour Enhancers (621, 631, 627), Garlic Powder, Onion Powder, Yeast Extract, Artificial Flavour, Pepper, Anti Caking Agent (551).<br>Seasoning Oil: Refined Palm Oil (Contains Antioxidant 319), Onion.<br>Sweet Soy Sauce: Sugar, Water, Salt, Wheat, Soy Bean, Spices, Sesame Oil.<br>Chilli Sauce: Chilli, Water, Sugar, Salt, Tapioca Starch, Acidity Regulators (260, 330), Herbs, Flavour Enhancers (621, 627, 631), Flavours, Preservatives 1211, 223). Fried Onion: Onion, Refined Palm Oil (Contains Antioxidant 319).",
            "Noodles: Wheat Flour (62%), Refined Palm Oil (Contains Antioxidant 319), Salt, Acidity Regulators (451, 501, 500), Thickener (412), Colour (101).<br>Seasoning Powder: Salt, Sugar, Flavour Enhancers (621, 631, 627), Garlic Powder, Onion Powder, Yeast Extract, Artificial Flavour, Pepper, Anti Caking Agent (551).<br>Seasoning Oil: Refined Palm Oil (Contains Antioxidant 319), Onion.<br>Sweet Soy Sauce: Sugar, Water, Salt, Wheat, Soy Bean, Spices, Sesame Oil.<br>Chilli Sauce: Chilli, Water, Sugar, Salt, Tapioca Starch, Acidity Regulators (260, 330), Herbs, Flavour Enhancers (621, 627, 631), Flavours, Preservatives 1211, 223). Fried Onion: Onion, Refined Palm Oil (Contains Antioxidant 319).",
            "Noodles: Wheat Flour (62%), Refined Palm Oil (Contains Antioxidant 319), Salt, Acidity Regulators (451, 501, 500), Thickener (412), Colour (101).<br>Seasoning Powder: Salt, Sugar, Flavour Enhancers (621, 631, 627), Garlic Powder, Onion Powder, Yeast Extract, Artificial Flavour, Pepper, Anti Caking Agent (551).<br>Seasoning Oil: Refined Palm Oil (Contains Antioxidant 319), Onion.<br>Sweet Soy Sauce: Sugar, Water, Salt, Wheat, Soy Bean, Spices, Sesame Oil.<br>Chilli Sauce: Chilli, Water, Sugar, Salt, Tapioca Starch, Acidity Regulators (260, 330), Herbs, Flavour Enhancers (621, 627, 631), Flavours, Preservatives 1211, 223). Fried Onion: Onion, Refined Palm Oil (Contains Antioxidant 319).",
            "Noodles: Wheat Flour (62%), Refined Palm Oil (Contains Antioxidant 319), Salt, Acidity Regulators (451, 501, 500), Thickener (412), Colour (101).<br>Seasoning Powder: Salt, Sugar, Flavour Enhancers (621, 631, 627), Garlic Powder, Onion Powder, Yeast Extract, Artificial Flavour, Pepper, Anti Caking Agent (551).<br>Seasoning Oil: Refined Palm Oil (Contains Antioxidant 319), Onion.<br>Sweet Soy Sauce: Sugar, Water, Salt, Wheat, Soy Bean, Spices, Sesame Oil.<br>Chilli Sauce: Chilli, Water, Sugar, Salt, Tapioca Starch, Acidity Regulators (260, 330), Herbs, Flavour Enhancers (621, 627, 631), Flavours, Preservatives 1211, 223). Fried Onion: Onion, Refined Palm Oil (Contains Antioxidant 319).",
            "Noodles: Wheat Flour (62%), Refined Palm Oil (Contains Antioxidant 319), Salt, Acidity Regulators (451, 501, 500), Thickener (412), Colour (101).<br>Seasoning Powder: Salt, Sugar, Flavour Enhancers (621, 631, 627), Garlic Powder, Onion Powder, Yeast Extract, Artificial Flavour, Pepper, Anti Caking Agent (551).<br>Seasoning Oil: Refined Palm Oil (Contains Antioxidant 319), Onion.<br>Sweet Soy Sauce: Sugar, Water, Salt, Wheat, Soy Bean, Spices, Sesame Oil.<br>Chilli Sauce: Chilli, Water, Sugar, Salt, Tapioca Starch, Acidity Regulators (260, 330), Herbs, Flavour Enhancers (621, 627, 631), Flavours, Preservatives 1211, 223). Fried Onion: Onion, Refined Palm Oil (Contains Antioxidant 319).",
            "Noodles: Wheat Flour (62%), Refined Palm Oil (Contains Antioxidant 319), Salt, Acidity Regulators (451, 501, 500), Thickener (412), Colour (101).<br>Seasoning Powder: Salt, Sugar, Flavour Enhancers (621, 631, 627), Garlic Powder, Onion Powder, Yeast Extract, Artificial Flavour, Pepper, Anti Caking Agent (551).<br>Seasoning Oil: Refined Palm Oil (Contains Antioxidant 319), Onion.<br>Sweet Soy Sauce: Sugar, Water, Salt, Wheat, Soy Bean, Spices, Sesame Oil.<br>Chilli Sauce: Chilli, Water, Sugar, Salt, Tapioca Starch, Acidity Regulators (260, 330), Herbs, Flavour Enhancers (621, 627, 631), Flavours, Preservatives 1211, 223). Fried Onion: Onion, Refined Palm Oil (Contains Antioxidant 319).",
            "Noodles: Wheat Flour (62%), Refined Palm Oil (Contains Antioxidant 319), Salt, Acidity Regulators (451, 501, 500), Thickener (412), Colour (101).<br>Seasoning Powder: Salt, Sugar, Flavour Enhancers (621, 631, 627), Garlic Powder, Onion Powder, Yeast Extract, Artificial Flavour, Pepper, Anti Caking Agent (551).<br>Seasoning Oil: Refined Palm Oil (Contains Antioxidant 319), Onion.<br>Sweet Soy Sauce: Sugar, Water, Salt, Wheat, Soy Bean, Spices, Sesame Oil.<br>Chilli Sauce: Chilli, Water, Sugar, Salt, Tapioca Starch, Acidity Regulators (260, 330), Herbs, Flavour Enhancers (621, 627, 631), Flavours, Preservatives 1211, 223). Fried Onion: Onion, Refined Palm Oil (Contains Antioxidant 319).",
            "Noodles: Wheat Flour (62%), Refined Palm Oil (Contains Antioxidant 319), Salt, Acidity Regulators (451, 501, 500), Thickener (412), Colour (101).<br>Seasoning Powder: Salt, Sugar, Flavour Enhancers (621, 631, 627), Garlic Powder, Onion Powder, Yeast Extract, Artificial Flavour, Pepper, Anti Caking Agent (551).<br>Seasoning Oil: Refined Palm Oil (Contains Antioxidant 319), Onion.<br>Sweet Soy Sauce: Sugar, Water, Salt, Wheat, Soy Bean, Spices, Sesame Oil.<br>Chilli Sauce: Chilli, Water, Sugar, Salt, Tapioca Starch, Acidity Regulators (260, 330), Herbs, Flavour Enhancers (621, 627, 631), Flavours, Preservatives 1211, 223). Fried Onion: Onion, Refined Palm Oil (Contains Antioxidant 319).",
            "Noodles: Wheat Flour (62%), Refined Palm Oil (Contains Antioxidant 319), Salt, Acidity Regulators (451, 501, 500), Thickener (412), Colour (101).<br>Seasoning Powder: Salt, Sugar, Flavour Enhancers (621, 631, 627), Garlic Powder, Onion Powder, Yeast Extract, Artificial Flavour, Pepper, Anti Caking Agent (551).<br>Seasoning Oil: Refined Palm Oil (Contains Antioxidant 319), Onion.<br>Sweet Soy Sauce: Sugar, Water, Salt, Wheat, Soy Bean, Spices, Sesame Oil.<br>Chilli Sauce: Chilli, Water, Sugar, Salt, Tapioca Starch, Acidity Regulators (260, 330), Herbs, Flavour Enhancers (621, 627, 631), Flavours, Preservatives 1211, 223). Fried Onion: Onion, Refined Palm Oil (Contains Antioxidant 319).",
            "Noodles: Wheat Flour (62%), Refined Palm Oil (Contains Antioxidant 319), Salt, Acidity Regulators (451, 501, 500), Thickener (412), Colour (101).<br>Seasoning Powder: Salt, Sugar, Flavour Enhancers (621, 631, 627), Garlic Powder, Onion Powder, Yeast Extract, Artificial Flavour, Pepper, Anti Caking Agent (551).<br>Seasoning Oil: Refined Palm Oil (Contains Antioxidant 319), Onion.<br>Sweet Soy Sauce: Sugar, Water, Salt, Wheat, Soy Bean, Spices, Sesame Oil.<br>Chilli Sauce: Chilli, Water, Sugar, Salt, Tapioca Starch, Acidity Regulators (260, 330), Herbs, Flavour Enhancers (621, 627, 631), Flavours, Preservatives 1211, 223). Fried Onion: Onion, Refined Palm Oil (Contains Antioxidant 319).",
            "Noodles: Wheat Flour (62%), Refined Palm Oil (Contains Antioxidant 319), Salt, Acidity Regulators (451, 501, 500), Thickener (412), Colour (101).<br>Seasoning Powder: Salt, Sugar, Flavour Enhancers (621, 631, 627), Garlic Powder, Onion Powder, Yeast Extract, Artificial Flavour, Pepper, Anti Caking Agent (551).<br>Seasoning Oil: Refined Palm Oil (Contains Antioxidant 319), Onion.<br>Sweet Soy Sauce: Sugar, Water, Salt, Wheat, Soy Bean, Spices, Sesame Oil.<br>Chilli Sauce: Chilli, Water, Sugar, Salt, Tapioca Starch, Acidity Regulators (260, 330), Herbs, Flavour Enhancers (621, 627, 631), Flavours, Preservatives 1211, 223). Fried Onion: Onion, Refined Palm Oil (Contains Antioxidant 319).",
            "Noodles: Wheat Flour (62%), Refined Palm Oil (Contains Antioxidant 319), Salt, Acidity Regulators (451, 501, 500), Thickener (412), Colour (101).<br>Seasoning Powder: Salt, Sugar, Flavour Enhancers (621, 631, 627), Garlic Powder, Onion Powder, Yeast Extract, Artificial Flavour, Pepper, Anti Caking Agent (551).<br>Seasoning Oil: Refined Palm Oil (Contains Antioxidant 319), Onion.<br>Sweet Soy Sauce: Sugar, Water, Salt, Wheat, Soy Bean, Spices, Sesame Oil.<br>Chilli Sauce: Chilli, Water, Sugar, Salt, Tapioca Starch, Acidity Regulators (260, 330), Herbs, Flavour Enhancers (621, 627, 631), Flavours, Preservatives 1211, 223). Fried Onion: Onion, Refined Palm Oil (Contains Antioxidant 319).",
            "Noodles: Wheat Flour (62%), Refined Palm Oil (Contains Antioxidant 319), Salt, Acidity Regulators (451, 501, 500), Thickener (412), Colour (101).<br>Seasoning Powder: Salt, Sugar, Flavour Enhancers (621, 631, 627), Garlic Powder, Onion Powder, Yeast Extract, Artificial Flavour, Pepper, Anti Caking Agent (551).<br>Seasoning Oil: Refined Palm Oil (Contains Antioxidant 319), Onion.<br>Sweet Soy Sauce: Sugar, Water, Salt, Wheat, Soy Bean, Spices, Sesame Oil.<br>Chilli Sauce: Chilli, Water, Sugar, Salt, Tapioca Starch, Acidity Regulators (260, 330), Herbs, Flavour Enhancers (621, 627, 631), Flavours, Preservatives 1211, 223). Fried Onion: Onion, Refined Palm Oil (Contains Antioxidant 319).",
            "Noodles: Wheat Flour (62%), Refined Palm Oil (Contains Antioxidant 319), Salt, Acidity Regulators (451, 501, 500), Thickener (412), Colour (101).<br>Seasoning Powder: Salt, Sugar, Flavour Enhancers (621, 631, 627), Garlic Powder, Onion Powder, Yeast Extract, Artificial Flavour, Pepper, Anti Caking Agent (551).<br>Seasoning Oil: Refined Palm Oil (Contains Antioxidant 319), Onion.<br>Sweet Soy Sauce: Sugar, Water, Salt, Wheat, Soy Bean, Spices, Sesame Oil.<br>Chilli Sauce: Chilli, Water, Sugar, Salt, Tapioca Starch, Acidity Regulators (260, 330), Herbs, Flavour Enhancers (621, 627, 631), Flavours, Preservatives 1211, 223). Fried Onion: Onion, Refined Palm Oil (Contains Antioxidant 319).",
            "Noodles: Wheat Flour (62%), Refined Palm Oil (Contains Antioxidant 319), Salt, Acidity Regulators (451, 501, 500), Thickener (412), Colour (101).<br>Seasoning Powder: Salt, Sugar, Flavour Enhancers (621, 631, 627), Garlic Powder, Onion Powder, Yeast Extract, Artificial Flavour, Pepper, Anti Caking Agent (551).<br>Seasoning Oil: Refined Palm Oil (Contains Antioxidant 319), Onion.<br>Sweet Soy Sauce: Sugar, Water, Salt, Wheat, Soy Bean, Spices, Sesame Oil.<br>Chilli Sauce: Chilli, Water, Sugar, Salt, Tapioca Starch, Acidity Regulators (260, 330), Herbs, Flavour Enhancers (621, 627, 631), Flavours, Preservatives 1211, 223). Fried Onion: Onion, Refined Palm Oil (Contains Antioxidant 319).",
            "Noodles: Wheat Flour (62%), Refined Palm Oil (Contains Antioxidant 319), Salt, Acidity Regulators (451, 501, 500), Thickener (412), Colour (101).<br>Seasoning Powder: Salt, Sugar, Flavour Enhancers (621, 631, 627), Garlic Powder, Onion Powder, Yeast Extract, Artificial Flavour, Pepper, Anti Caking Agent (551).<br>Seasoning Oil: Refined Palm Oil (Contains Antioxidant 319), Onion.<br>Sweet Soy Sauce: Sugar, Water, Salt, Wheat, Soy Bean, Spices, Sesame Oil.<br>Chilli Sauce: Chilli, Water, Sugar, Salt, Tapioca Starch, Acidity Regulators (260, 330), Herbs, Flavour Enhancers (621, 627, 631), Flavours, Preservatives 1211, 223). Fried Onion: Onion, Refined Palm Oil (Contains Antioxidant 319).",
            "Noodles: Wheat Flour (62%), Refined Palm Oil (Contains Antioxidant 319), Salt, Acidity Regulators (451, 501, 500), Thickener (412), Colour (101).<br>Seasoning Powder: Salt, Sugar, Flavour Enhancers (621, 631, 627), Garlic Powder, Onion Powder, Yeast Extract, Artificial Flavour, Pepper, Anti Caking Agent (551).<br>Seasoning Oil: Refined Palm Oil (Contains Antioxidant 319), Onion.<br>Sweet Soy Sauce: Sugar, Water, Salt, Wheat, Soy Bean, Spices, Sesame Oil.<br>Chilli Sauce: Chilli, Water, Sugar, Salt, Tapioca Starch, Acidity Regulators (260, 330), Herbs, Flavour Enhancers (621, 627, 631), Flavours, Preservatives 1211, 223). Fried Onion: Onion, Refined Palm Oil (Contains Antioxidant 319).",
            "Noodles: Wheat Flour (62%), Refined Palm Oil (Contains Antioxidant 319), Salt, Acidity Regulators (451, 501, 500), Thickener (412), Colour (101).<br>Seasoning Powder: Salt, Sugar, Flavour Enhancers (621, 631, 627), Garlic Powder, Onion Powder, Yeast Extract, Artificial Flavour, Pepper, Anti Caking Agent (551).<br>Seasoning Oil: Refined Palm Oil (Contains Antioxidant 319), Onion.<br>Sweet Soy Sauce: Sugar, Water, Salt, Wheat, Soy Bean, Spices, Sesame Oil.<br>Chilli Sauce: Chilli, Water, Sugar, Salt, Tapioca Starch, Acidity Regulators (260, 330), Herbs, Flavour Enhancers (621, 627, 631), Flavours, Preservatives 1211, 223). Fried Onion: Onion, Refined Palm Oil (Contains Antioxidant 319).",
            "Noodles: Wheat Flour (62%), Refined Palm Oil (Contains Antioxidant 319), Salt, Acidity Regulators (451, 501, 500), Thickener (412), Colour (101).<br>Seasoning Powder: Salt, Sugar, Flavour Enhancers (621, 631, 627), Garlic Powder, Onion Powder, Yeast Extract, Artificial Flavour, Pepper, Anti Caking Agent (551).<br>Seasoning Oil: Refined Palm Oil (Contains Antioxidant 319), Onion.<br>Sweet Soy Sauce: Sugar, Water, Salt, Wheat, Soy Bean, Spices, Sesame Oil.<br>Chilli Sauce: Chilli, Water, Sugar, Salt, Tapioca Starch, Acidity Regulators (260, 330), Herbs, Flavour Enhancers (621, 627, 631), Flavours, Preservatives 1211, 223). Fried Onion: Onion, Refined Palm Oil (Contains Antioxidant 319).",
            "Noodles: Wheat Flour (62%), Refined Palm Oil (Contains Antioxidant 319), Salt, Acidity Regulators (451, 501, 500), Thickener (412), Colour (101).<br>Seasoning Powder: Salt, Sugar, Flavour Enhancers (621, 631, 627), Garlic Powder, Onion Powder, Yeast Extract, Artificial Flavour, Pepper, Anti Caking Agent (551).<br>Seasoning Oil: Refined Palm Oil (Contains Antioxidant 319), Onion.<br>Sweet Soy Sauce: Sugar, Water, Salt, Wheat, Soy Bean, Spices, Sesame Oil.<br>Chilli Sauce: Chilli, Water, Sugar, Salt, Tapioca Starch, Acidity Regulators (260, 330), Herbs, Flavour Enhancers (621, 627, 631), Flavours, Preservatives 1211, 223). Fried Onion: Onion, Refined Palm Oil (Contains Antioxidant 319).",
            "Noodles: Wheat Flour (62%), Refined Palm Oil (Contains Antioxidant 319), Salt, Acidity Regulators (451, 501, 500), Thickener (412), Colour (101).<br>Seasoning Powder: Salt, Sugar, Flavour Enhancers (621, 631, 627), Garlic Powder, Onion Powder, Yeast Extract, Artificial Flavour, Pepper, Anti Caking Agent (551).<br>Seasoning Oil: Refined Palm Oil (Contains Antioxidant 319), Onion.<br>Sweet Soy Sauce: Sugar, Water, Salt, Wheat, Soy Bean, Spices, Sesame Oil.<br>Chilli Sauce: Chilli, Water, Sugar, Salt, Tapioca Starch, Acidity Regulators (260, 330), Herbs, Flavour Enhancers (621, 627, 631), Flavours, Preservatives 1211, 223). Fried Onion: Onion, Refined Palm Oil (Contains Antioxidant 319).",
            "Noodles: Wheat Flour (62%), Refined Palm Oil (Contains Antioxidant 319), Salt, Acidity Regulators (451, 501, 500), Thickener (412), Colour (101).<br>Seasoning Powder: Salt, Sugar, Flavour Enhancers (621, 631, 627), Garlic Powder, Onion Powder, Yeast Extract, Artificial Flavour, Pepper, Anti Caking Agent (551).<br>Seasoning Oil: Refined Palm Oil (Contains Antioxidant 319), Onion.<br>Sweet Soy Sauce: Sugar, Water, Salt, Wheat, Soy Bean, Spices, Sesame Oil.<br>Chilli Sauce: Chilli, Water, Sugar, Salt, Tapioca Starch, Acidity Regulators (260, 330), Herbs, Flavour Enhancers (621, 627, 631), Flavours, Preservatives 1211, 223). Fried Onion: Onion, Refined Palm Oil (Contains Antioxidant 319).",
            "Noodles: Wheat Flour (62%), Refined Palm Oil (Contains Antioxidant 319), Salt, Acidity Regulators (451, 501, 500), Thickener (412), Colour (101).<br>Seasoning Powder: Salt, Sugar, Flavour Enhancers (621, 631, 627), Garlic Powder, Onion Powder, Yeast Extract, Artificial Flavour, Pepper, Anti Caking Agent (551).<br>Seasoning Oil: Refined Palm Oil (Contains Antioxidant 319), Onion.<br>Sweet Soy Sauce: Sugar, Water, Salt, Wheat, Soy Bean, Spices, Sesame Oil.<br>Chilli Sauce: Chilli, Water, Sugar, Salt, Tapioca Starch, Acidity Regulators (260, 330), Herbs, Flavour Enhancers (621, 627, 631), Flavours, Preservatives 1211, 223). Fried Onion: Onion, Refined Palm Oil (Contains Antioxidant 319).",
            "Noodles: Wheat Flour (62%), Refined Palm Oil (Contains Antioxidant 319), Salt, Acidity Regulators (451, 501, 500), Thickener (412), Colour (101).<br>Seasoning Powder: Salt, Sugar, Flavour Enhancers (621, 631, 627), Garlic Powder, Onion Powder, Yeast Extract, Artificial Flavour, Pepper, Anti Caking Agent (551).<br>Seasoning Oil: Refined Palm Oil (Contains Antioxidant 319), Onion.<br>Sweet Soy Sauce: Sugar, Water, Salt, Wheat, Soy Bean, Spices, Sesame Oil.<br>Chilli Sauce: Chilli, Water, Sugar, Salt, Tapioca Starch, Acidity Regulators (260, 330), Herbs, Flavour Enhancers (621, 627, 631), Flavours, Preservatives 1211, 223). Fried Onion: Onion, Refined Palm Oil (Contains Antioxidant 319).",
            "Noodles: Wheat Flour (62%), Refined Palm Oil (Contains Antioxidant 319), Salt, Acidity Regulators (451, 501, 500), Thickener (412), Colour (101).<br>Seasoning Powder: Salt, Sugar, Flavour Enhancers (621, 631, 627), Garlic Powder, Onion Powder, Yeast Extract, Artificial Flavour, Pepper, Anti Caking Agent (551).<br>Seasoning Oil: Refined Palm Oil (Contains Antioxidant 319), Onion.<br>Sweet Soy Sauce: Sugar, Water, Salt, Wheat, Soy Bean, Spices, Sesame Oil.<br>Chilli Sauce: Chilli, Water, Sugar, Salt, Tapioca Starch, Acidity Regulators (260, 330), Herbs, Flavour Enhancers (621, 627, 631), Flavours, Preservatives 1211, 223). Fried Onion: Onion, Refined Palm Oil (Contains Antioxidant 319).",
            "Noodles: Wheat Flour (62%), Refined Palm Oil (Contains Antioxidant 319), Salt, Acidity Regulators (451, 501, 500), Thickener (412), Colour (101).<br>Seasoning Powder: Salt, Sugar, Flavour Enhancers (621, 631, 627), Garlic Powder, Onion Powder, Yeast Extract, Artificial Flavour, Pepper, Anti Caking Agent (551).<br>Seasoning Oil: Refined Palm Oil (Contains Antioxidant 319), Onion.<br>Sweet Soy Sauce: Sugar, Water, Salt, Wheat, Soy Bean, Spices, Sesame Oil.<br>Chilli Sauce: Chilli, Water, Sugar, Salt, Tapioca Starch, Acidity Regulators (260, 330), Herbs, Flavour Enhancers (621, 627, 631), Flavours, Preservatives 1211, 223). Fried Onion: Onion, Refined Palm Oil (Contains Antioxidant 319).",
            "Noodles: Wheat Flour (62%), Refined Palm Oil (Contains Antioxidant 319), Salt, Acidity Regulators (451, 501, 500), Thickener (412), Colour (101).<br>Seasoning Powder: Salt, Sugar, Flavour Enhancers (621, 631, 627), Garlic Powder, Onion Powder, Yeast Extract, Artificial Flavour, Pepper, Anti Caking Agent (551).<br>Seasoning Oil: Refined Palm Oil (Contains Antioxidant 319), Onion.<br>Sweet Soy Sauce: Sugar, Water, Salt, Wheat, Soy Bean, Spices, Sesame Oil.<br>Chilli Sauce: Chilli, Water, Sugar, Salt, Tapioca Starch, Acidity Regulators (260, 330), Herbs, Flavour Enhancers (621, 627, 631), Flavours, Preservatives 1211, 223). Fried Onion: Onion, Refined Palm Oil (Contains Antioxidant 319).",
            "Noodles: Wheat Flour (62%), Refined Palm Oil (Contains Antioxidant 319), Salt, Acidity Regulators (451, 501, 500), Thickener (412), Colour (101).<br>Seasoning Powder: Salt, Sugar, Flavour Enhancers (621, 631, 627), Garlic Powder, Onion Powder, Yeast Extract, Artificial Flavour, Pepper, Anti Caking Agent (551).<br>Seasoning Oil: Refined Palm Oil (Contains Antioxidant 319), Onion.<br>Sweet Soy Sauce: Sugar, Water, Salt, Wheat, Soy Bean, Spices, Sesame Oil.<br>Chilli Sauce: Chilli, Water, Sugar, Salt, Tapioca Starch, Acidity Regulators (260, 330), Herbs, Flavour Enhancers (621, 627, 631), Flavours, Preservatives 1211, 223). Fried Onion: Onion, Refined Palm Oil (Contains Antioxidant 319).",
            "Noodles: Wheat Flour (62%), Refined Palm Oil (Contains Antioxidant 319), Salt, Acidity Regulators (451, 501, 500), Thickener (412), Colour (101).<br>Seasoning Powder: Salt, Sugar, Flavour Enhancers (621, 631, 627), Garlic Powder, Onion Powder, Yeast Extract, Artificial Flavour, Pepper, Anti Caking Agent (551).<br>Seasoning Oil: Refined Palm Oil (Contains Antioxidant 319), Onion.<br>Sweet Soy Sauce: Sugar, Water, Salt, Wheat, Soy Bean, Spices, Sesame Oil.<br>Chilli Sauce: Chilli, Water, Sugar, Salt, Tapioca Starch, Acidity Regulators (260, 330), Herbs, Flavour Enhancers (621, 627, 631), Flavours, Preservatives 1211, 223). Fried Onion: Onion, Refined Palm Oil (Contains Antioxidant 319).",
            "Noodles: Wheat Flour (62%), Refined Palm Oil (Contains Antioxidant 319), Salt, Acidity Regulators (451, 501, 500), Thickener (412), Colour (101).<br>Seasoning Powder: Salt, Sugar, Flavour Enhancers (621, 631, 627), Garlic Powder, Onion Powder, Yeast Extract, Artificial Flavour, Pepper, Anti Caking Agent (551).<br>Seasoning Oil: Refined Palm Oil (Contains Antioxidant 319), Onion.<br>Sweet Soy Sauce: Sugar, Water, Salt, Wheat, Soy Bean, Spices, Sesame Oil.<br>Chilli Sauce: Chilli, Water, Sugar, Salt, Tapioca Starch, Acidity Regulators (260, 330), Herbs, Flavour Enhancers (621, 627, 631), Flavours, Preservatives 1211, 223). Fried Onion: Onion, Refined Palm Oil (Contains Antioxidant 319).",
            "Noodles: Wheat Flour (62%), Refined Palm Oil (Contains Antioxidant 319), Salt, Acidity Regulators (451, 501, 500), Thickener (412), Colour (101).<br>Seasoning Powder: Salt, Sugar, Flavour Enhancers (621, 631, 627), Garlic Powder, Onion Powder, Yeast Extract, Artificial Flavour, Pepper, Anti Caking Agent (551).<br>Seasoning Oil: Refined Palm Oil (Contains Antioxidant 319), Onion.<br>Sweet Soy Sauce: Sugar, Water, Salt, Wheat, Soy Bean, Spices, Sesame Oil.<br>Chilli Sauce: Chilli, Water, Sugar, Salt, Tapioca Starch, Acidity Regulators (260, 330), Herbs, Flavour Enhancers (621, 627, 631), Flavours, Preservatives 1211, 223). Fried Onion: Onion, Refined Palm Oil (Contains Antioxidant 319).",
            "Noodles: Wheat Flour (62%), Refined Palm Oil (Contains Antioxidant 319), Salt, Acidity Regulators (451, 501, 500), Thickener (412), Colour (101).<br>Seasoning Powder: Salt, Sugar, Flavour Enhancers (621, 631, 627), Garlic Powder, Onion Powder, Yeast Extract, Artificial Flavour, Pepper, Anti Caking Agent (551).<br>Seasoning Oil: Refined Palm Oil (Contains Antioxidant 319), Onion.<br>Sweet Soy Sauce: Sugar, Water, Salt, Wheat, Soy Bean, Spices, Sesame Oil.<br>Chilli Sauce: Chilli, Water, Sugar, Salt, Tapioca Starch, Acidity Regulators (260, 330), Herbs, Flavour Enhancers (621, 627, 631), Flavours, Preservatives 1211, 223). Fried Onion: Onion, Refined Palm Oil (Contains Antioxidant 319).",
            "Noodles: Wheat Flour (62%), Refined Palm Oil (Contains Antioxidant 319), Salt, Acidity Regulators (451, 501, 500), Thickener (412), Colour (101).<br>Seasoning Powder: Salt, Sugar, Flavour Enhancers (621, 631, 627), Garlic Powder, Onion Powder, Yeast Extract, Artificial Flavour, Pepper, Anti Caking Agent (551).<br>Seasoning Oil: Refined Palm Oil (Contains Antioxidant 319), Onion.<br>Sweet Soy Sauce: Sugar, Water, Salt, Wheat, Soy Bean, Spices, Sesame Oil.<br>Chilli Sauce: Chilli, Water, Sugar, Salt, Tapioca Starch, Acidity Regulators (260, 330), Herbs, Flavour Enhancers (621, 627, 631), Flavours, Preservatives 1211, 223). Fried Onion: Onion, Refined Palm Oil (Contains Antioxidant 319).",
            "Noodles: Wheat Flour (62%), Refined Palm Oil (Contains Antioxidant 319), Salt, Acidity Regulators (451, 501, 500), Thickener (412), Colour (101).<br>Seasoning Powder: Salt, Sugar, Flavour Enhancers (621, 631, 627), Garlic Powder, Onion Powder, Yeast Extract, Artificial Flavour, Pepper, Anti Caking Agent (551).<br>Seasoning Oil: Refined Palm Oil (Contains Antioxidant 319), Onion.<br>Sweet Soy Sauce: Sugar, Water, Salt, Wheat, Soy Bean, Spices, Sesame Oil.<br>Chilli Sauce: Chilli, Water, Sugar, Salt, Tapioca Starch, Acidity Regulators (260, 330), Herbs, Flavour Enhancers (621, 627, 631), Flavours, Preservatives 1211, 223). Fried Onion: Onion, Refined Palm Oil (Contains Antioxidant 319).",
            "Noodles: Wheat Flour (62%), Refined Palm Oil (Contains Antioxidant 319), Salt, Acidity Regulators (451, 501, 500), Thickener (412), Colour (101).<br>Seasoning Powder: Salt, Sugar, Flavour Enhancers (621, 631, 627), Garlic Powder, Onion Powder, Yeast Extract, Artificial Flavour, Pepper, Anti Caking Agent (551).<br>Seasoning Oil: Refined Palm Oil (Contains Antioxidant 319), Onion.<br>Sweet Soy Sauce: Sugar, Water, Salt, Wheat, Soy Bean, Spices, Sesame Oil.<br>Chilli Sauce: Chilli, Water, Sugar, Salt, Tapioca Starch, Acidity Regulators (260, 330), Herbs, Flavour Enhancers (621, 627, 631), Flavours, Preservatives 1211, 223). Fried Onion: Onion, Refined Palm Oil (Contains Antioxidant 319).",
            "Noodles: Wheat Flour (62%), Refined Palm Oil (Contains Antioxidant 319), Salt, Acidity Regulators (451, 501, 500), Thickener (412), Colour (101).<br>Seasoning Powder: Salt, Sugar, Flavour Enhancers (621, 631, 627), Garlic Powder, Onion Powder, Yeast Extract, Artificial Flavour, Pepper, Anti Caking Agent (551).<br>Seasoning Oil: Refined Palm Oil (Contains Antioxidant 319), Onion.<br>Sweet Soy Sauce: Sugar, Water, Salt, Wheat, Soy Bean, Spices, Sesame Oil.<br>Chilli Sauce: Chilli, Water, Sugar, Salt, Tapioca Starch, Acidity Regulators (260, 330), Herbs, Flavour Enhancers (621, 627, 631), Flavours, Preservatives 1211, 223). Fried Onion: Onion, Refined Palm Oil (Contains Antioxidant 319).",
            "Noodles: Wheat Flour (62%), Refined Palm Oil (Contains Antioxidant 319), Salt, Acidity Regulators (451, 501, 500), Thickener (412), Colour (101).<br>Seasoning Powder: Salt, Sugar, Flavour Enhancers (621, 631, 627), Garlic Powder, Onion Powder, Yeast Extract, Artificial Flavour, Pepper, Anti Caking Agent (551).<br>Seasoning Oil: Refined Palm Oil (Contains Antioxidant 319), Onion.<br>Sweet Soy Sauce: Sugar, Water, Salt, Wheat, Soy Bean, Spices, Sesame Oil.<br>Chilli Sauce: Chilli, Water, Sugar, Salt, Tapioca Starch, Acidity Regulators (260, 330), Herbs, Flavour Enhancers (621, 627, 631), Flavours, Preservatives 1211, 223). Fried Onion: Onion, Refined Palm Oil (Contains Antioxidant 319).",
            "Noodles: Wheat Flour (62%), Refined Palm Oil (Contains Antioxidant 319), Salt, Acidity Regulators (451, 501, 500), Thickener (412), Colour (101).<br>Seasoning Powder: Salt, Sugar, Flavour Enhancers (621, 631, 627), Garlic Powder, Onion Powder, Yeast Extract, Artificial Flavour, Pepper, Anti Caking Agent (551).<br>Seasoning Oil: Refined Palm Oil (Contains Antioxidant 319), Onion.<br>Sweet Soy Sauce: Sugar, Water, Salt, Wheat, Soy Bean, Spices, Sesame Oil.<br>Chilli Sauce: Chilli, Water, Sugar, Salt, Tapioca Starch, Acidity Regulators (260, 330), Herbs, Flavour Enhancers (621, 627, 631), Flavours, Preservatives 1211, 223). Fried Onion: Onion, Refined Palm Oil (Contains Antioxidant 319).",
            "Noodles: Wheat Flour (62%), Refined Palm Oil (Contains Antioxidant 319), Salt, Acidity Regulators (451, 501, 500), Thickener (412), Colour (101).<br>Seasoning Powder: Salt, Sugar, Flavour Enhancers (621, 631, 627), Garlic Powder, Onion Powder, Yeast Extract, Artificial Flavour, Pepper, Anti Caking Agent (551).<br>Seasoning Oil: Refined Palm Oil (Contains Antioxidant 319), Onion.<br>Sweet Soy Sauce: Sugar, Water, Salt, Wheat, Soy Bean, Spices, Sesame Oil.<br>Chilli Sauce: Chilli, Water, Sugar, Salt, Tapioca Starch, Acidity Regulators (260, 330), Herbs, Flavour Enhancers (621, 627, 631), Flavours, Preservatives 1211, 223). Fried Onion: Onion, Refined Palm Oil (Contains Antioxidant 319).",
            "Noodles: Wheat Flour (62%), Refined Palm Oil (Contains Antioxidant 319), Salt, Acidity Regulators (451, 501, 500), Thickener (412), Colour (101).<br>Seasoning Powder: Salt, Sugar, Flavour Enhancers (621, 631, 627), Garlic Powder, Onion Powder, Yeast Extract, Artificial Flavour, Pepper, Anti Caking Agent (551).<br>Seasoning Oil: Refined Palm Oil (Contains Antioxidant 319), Onion.<br>Sweet Soy Sauce: Sugar, Water, Salt, Wheat, Soy Bean, Spices, Sesame Oil.<br>Chilli Sauce: Chilli, Water, Sugar, Salt, Tapioca Starch, Acidity Regulators (260, 330), Herbs, Flavour Enhancers (621, 627, 631), Flavours, Preservatives 1211, 223). Fried Onion: Onion, Refined Palm Oil (Contains Antioxidant 319).",
            "Noodles: Wheat Flour (62%), Refined Palm Oil (Contains Antioxidant 319), Salt, Acidity Regulators (451, 501, 500), Thickener (412), Colour (101).<br>Seasoning Powder: Salt, Sugar, Flavour Enhancers (621, 631, 627), Garlic Powder, Onion Powder, Yeast Extract, Artificial Flavour, Pepper, Anti Caking Agent (551).<br>Seasoning Oil: Refined Palm Oil (Contains Antioxidant 319), Onion.<br>Sweet Soy Sauce: Sugar, Water, Salt, Wheat, Soy Bean, Spices, Sesame Oil.<br>Chilli Sauce: Chilli, Water, Sugar, Salt, Tapioca Starch, Acidity Regulators (260, 330), Herbs, Flavour Enhancers (621, 627, 631), Flavours, Preservatives 1211, 223). Fried Onion: Onion, Refined Palm Oil (Contains Antioxidant 319).",
            "Noodles: Wheat Flour (62%), Refined Palm Oil (Contains Antioxidant 319), Salt, Acidity Regulators (451, 501, 500), Thickener (412), Colour (101).<br>Seasoning Powder: Salt, Sugar, Flavour Enhancers (621, 631, 627), Garlic Powder, Onion Powder, Yeast Extract, Artificial Flavour, Pepper, Anti Caking Agent (551).<br>Seasoning Oil: Refined Palm Oil (Contains Antioxidant 319), Onion.<br>Sweet Soy Sauce: Sugar, Water, Salt, Wheat, Soy Bean, Spices, Sesame Oil.<br>Chilli Sauce: Chilli, Water, Sugar, Salt, Tapioca Starch, Acidity Regulators (260, 330), Herbs, Flavour Enhancers (621, 627, 631), Flavours, Preservatives 1211, 223). Fried Onion: Onion, Refined Palm Oil (Contains Antioxidant 319).",
            "Noodles: Wheat Flour (62%), Refined Palm Oil (Contains Antioxidant 319), Salt, Acidity Regulators (451, 501, 500), Thickener (412), Colour (101).<br>Seasoning Powder: Salt, Sugar, Flavour Enhancers (621, 631, 627), Garlic Powder, Onion Powder, Yeast Extract, Artificial Flavour, Pepper, Anti Caking Agent (551).<br>Seasoning Oil: Refined Palm Oil (Contains Antioxidant 319), Onion.<br>Sweet Soy Sauce: Sugar, Water, Salt, Wheat, Soy Bean, Spices, Sesame Oil.<br>Chilli Sauce: Chilli, Water, Sugar, Salt, Tapioca Starch, Acidity Regulators (260, 330), Herbs, Flavour Enhancers (621, 627, 631), Flavours, Preservatives 1211, 223). Fried Onion: Onion, Refined Palm Oil (Contains Antioxidant 319).",
            "Noodles: Wheat Flour (62%), Refined Palm Oil (Contains Antioxidant 319), Salt, Acidity Regulators (451, 501, 500), Thickener (412), Colour (101).<br>Seasoning Powder: Salt, Sugar, Flavour Enhancers (621, 631, 627), Garlic Powder, Onion Powder, Yeast Extract, Artificial Flavour, Pepper, Anti Caking Agent (551).<br>Seasoning Oil: Refined Palm Oil (Contains Antioxidant 319), Onion.<br>Sweet Soy Sauce: Sugar, Water, Salt, Wheat, Soy Bean, Spices, Sesame Oil.<br>Chilli Sauce: Chilli, Water, Sugar, Salt, Tapioca Starch, Acidity Regulators (260, 330), Herbs, Flavour Enhancers (621, 627, 631), Flavours, Preservatives 1211, 223). Fried Onion: Onion, Refined Palm Oil (Contains Antioxidant 319).",
            "Noodles: Wheat Flour (62%), Refined Palm Oil (Contains Antioxidant 319), Salt, Acidity Regulators (451, 501, 500), Thickener (412), Colour (101).<br>Seasoning Powder: Salt, Sugar, Flavour Enhancers (621, 631, 627), Garlic Powder, Onion Powder, Yeast Extract, Artificial Flavour, Pepper, Anti Caking Agent (551).<br>Seasoning Oil: Refined Palm Oil (Contains Antioxidant 319), Onion.<br>Sweet Soy Sauce: Sugar, Water, Salt, Wheat, Soy Bean, Spices, Sesame Oil.<br>Chilli Sauce: Chilli, Water, Sugar, Salt, Tapioca Starch, Acidity Regulators (260, 330), Herbs, Flavour Enhancers (621, 627, 631), Flavours, Preservatives 1211, 223). Fried Onion: Onion, Refined Palm Oil (Contains Antioxidant 319).",
            "Noodles: Wheat Flour (62%), Refined Palm Oil (Contains Antioxidant 319), Salt, Acidity Regulators (451, 501, 500), Thickener (412), Colour (101).<br>Seasoning Powder: Salt, Sugar, Flavour Enhancers (621, 631, 627), Garlic Powder, Onion Powder, Yeast Extract, Artificial Flavour, Pepper, Anti Caking Agent (551).<br>Seasoning Oil: Refined Palm Oil (Contains Antioxidant 319), Onion.<br>Sweet Soy Sauce: Sugar, Water, Salt, Wheat, Soy Bean, Spices, Sesame Oil.<br>Chilli Sauce: Chilli, Water, Sugar, Salt, Tapioca Starch, Acidity Regulators (260, 330), Herbs, Flavour Enhancers (621, 627, 631), Flavours, Preservatives 1211, 223). Fried Onion: Onion, Refined Palm Oil (Contains Antioxidant 319).",
            "Noodles: Wheat Flour (62%), Refined Palm Oil (Contains Antioxidant 319), Salt, Acidity Regulators (451, 501, 500), Thickener (412), Colour (101).<br>Seasoning Powder: Salt, Sugar, Flavour Enhancers (621, 631, 627), Garlic Powder, Onion Powder, Yeast Extract, Artificial Flavour, Pepper, Anti Caking Agent (551).<br>Seasoning Oil: Refined Palm Oil (Contains Antioxidant 319), Onion.<br>Sweet Soy Sauce: Sugar, Water, Salt, Wheat, Soy Bean, Spices, Sesame Oil.<br>Chilli Sauce: Chilli, Water, Sugar, Salt, Tapioca Starch, Acidity Regulators (260, 330), Herbs, Flavour Enhancers (621, 627, 631), Flavours, Preservatives 1211, 223). Fried Onion: Onion, Refined Palm Oil (Contains Antioxidant 319).",
            "Noodles: Wheat Flour (62%), Refined Palm Oil (Contains Antioxidant 319), Salt, Acidity Regulators (451, 501, 500), Thickener (412), Colour (101).<br>Seasoning Powder: Salt, Sugar, Flavour Enhancers (621, 631, 627), Garlic Powder, Onion Powder, Yeast Extract, Artificial Flavour, Pepper, Anti Caking Agent (551).<br>Seasoning Oil: Refined Palm Oil (Contains Antioxidant 319), Onion.<br>Sweet Soy Sauce: Sugar, Water, Salt, Wheat, Soy Bean, Spices, Sesame Oil.<br>Chilli Sauce: Chilli, Water, Sugar, Salt, Tapioca Starch, Acidity Regulators (260, 330), Herbs, Flavour Enhancers (621, 627, 631), Flavours, Preservatives 1211, 223). Fried Onion: Onion, Refined Palm Oil (Contains Antioxidant 319).",
            "Noodles: Wheat Flour (62%), Refined Palm Oil (Contains Antioxidant 319), Salt, Acidity Regulators (451, 501, 500), Thickener (412), Colour (101).<br>Seasoning Powder: Salt, Sugar, Flavour Enhancers (621, 631, 627), Garlic Powder, Onion Powder, Yeast Extract, Artificial Flavour, Pepper, Anti Caking Agent (551).<br>Seasoning Oil: Refined Palm Oil (Contains Antioxidant 319), Onion.<br>Sweet Soy Sauce: Sugar, Water, Salt, Wheat, Soy Bean, Spices, Sesame Oil.<br>Chilli Sauce: Chilli, Water, Sugar, Salt, Tapioca Starch, Acidity Regulators (260, 330), Herbs, Flavour Enhancers (621, 627, 631), Flavours, Preservatives 1211, 223). Fried Onion: Onion, Refined Palm Oil (Contains Antioxidant 319).",
            "Noodles: Wheat Flour (62%), Refined Palm Oil (Contains Antioxidant 319), Salt, Acidity Regulators (451, 501, 500), Thickener (412), Colour (101).<br>Seasoning Powder: Salt, Sugar, Flavour Enhancers (621, 631, 627), Garlic Powder, Onion Powder, Yeast Extract, Artificial Flavour, Pepper, Anti Caking Agent (551).<br>Seasoning Oil: Refined Palm Oil (Contains Antioxidant 319), Onion.<br>Sweet Soy Sauce: Sugar, Water, Salt, Wheat, Soy Bean, Spices, Sesame Oil.<br>Chilli Sauce: Chilli, Water, Sugar, Salt, Tapioca Starch, Acidity Regulators (260, 330), Herbs, Flavour Enhancers (621, 627, 631), Flavours, Preservatives 1211, 223). Fried Onion: Onion, Refined Palm Oil (Contains Antioxidant 319).",
            "Noodles: Wheat Flour (62%), Refined Palm Oil (Contains Antioxidant 319), Salt, Acidity Regulators (451, 501, 500), Thickener (412), Colour (101).<br>Seasoning Powder: Salt, Sugar, Flavour Enhancers (621, 631, 627), Garlic Powder, Onion Powder, Yeast Extract, Artificial Flavour, Pepper, Anti Caking Agent (551).<br>Seasoning Oil: Refined Palm Oil (Contains Antioxidant 319), Onion.<br>Sweet Soy Sauce: Sugar, Water, Salt, Wheat, Soy Bean, Spices, Sesame Oil.<br>Chilli Sauce: Chilli, Water, Sugar, Salt, Tapioca Starch, Acidity Regulators (260, 330), Herbs, Flavour Enhancers (621, 627, 631), Flavours, Preservatives 1211, 223). Fried Onion: Onion, Refined Palm Oil (Contains Antioxidant 319).",
            "Noodles: Wheat Flour (62%), Refined Palm Oil (Contains Antioxidant 319), Salt, Acidity Regulators (451, 501, 500), Thickener (412), Colour (101).<br>Seasoning Powder: Salt, Sugar, Flavour Enhancers (621, 631, 627), Garlic Powder, Onion Powder, Yeast Extract, Artificial Flavour, Pepper, Anti Caking Agent (551).<br>Seasoning Oil: Refined Palm Oil (Contains Antioxidant 319), Onion.<br>Sweet Soy Sauce: Sugar, Water, Salt, Wheat, Soy Bean, Spices, Sesame Oil.<br>Chilli Sauce: Chilli, Water, Sugar, Salt, Tapioca Starch, Acidity Regulators (260, 330), Herbs, Flavour Enhancers (621, 627, 631), Flavours, Preservatives 1211, 223). Fried Onion: Onion, Refined Palm Oil (Contains Antioxidant 319).",
            "Noodles: Wheat Flour (62%), Refined Palm Oil (Contains Antioxidant 319), Salt, Acidity Regulators (451, 501, 500), Thickener (412), Colour (101).<br>Seasoning Powder: Salt, Sugar, Flavour Enhancers (621, 631, 627), Garlic Powder, Onion Powder, Yeast Extract, Artificial Flavour, Pepper, Anti Caking Agent (551).<br>Seasoning Oil: Refined Palm Oil (Contains Antioxidant 319), Onion.<br>Sweet Soy Sauce: Sugar, Water, Salt, Wheat, Soy Bean, Spices, Sesame Oil.<br>Chilli Sauce: Chilli, Water, Sugar, Salt, Tapioca Starch, Acidity Regulators (260, 330), Herbs, Flavour Enhancers (621, 627, 631), Flavours, Preservatives 1211, 223). Fried Onion: Onion, Refined Palm Oil (Contains Antioxidant 319).",
            "Noodles: Wheat Flour (62%), Refined Palm Oil (Contains Antioxidant 319), Salt, Acidity Regulators (451, 501, 500), Thickener (412), Colour (101).<br>Seasoning Powder: Salt, Sugar, Flavour Enhancers (621, 631, 627), Garlic Powder, Onion Powder, Yeast Extract, Artificial Flavour, Pepper, Anti Caking Agent (551).<br>Seasoning Oil: Refined Palm Oil (Contains Antioxidant 319), Onion.<br>Sweet Soy Sauce: Sugar, Water, Salt, Wheat, Soy Bean, Spices, Sesame Oil.<br>Chilli Sauce: Chilli, Water, Sugar, Salt, Tapioca Starch, Acidity Regulators (260, 330), Herbs, Flavour Enhancers (621, 627, 631), Flavours, Preservatives 1211, 223). Fried Onion: Onion, Refined Palm Oil (Contains Antioxidant 319).",
            "Noodles: Wheat Flour (62%), Refined Palm Oil (Contains Antioxidant 319), Salt, Acidity Regulators (451, 501, 500), Thickener (412), Colour (101).<br>Seasoning Powder: Salt, Sugar, Flavour Enhancers (621, 631, 627), Garlic Powder, Onion Powder, Yeast Extract, Artificial Flavour, Pepper, Anti Caking Agent (551).<br>Seasoning Oil: Refined Palm Oil (Contains Antioxidant 319), Onion.<br>Sweet Soy Sauce: Sugar, Water, Salt, Wheat, Soy Bean, Spices, Sesame Oil.<br>Chilli Sauce: Chilli, Water, Sugar, Salt, Tapioca Starch, Acidity Regulators (260, 330), Herbs, Flavour Enhancers (621, 627, 631), Flavours, Preservatives 1211, 223). Fried Onion: Onion, Refined Palm Oil (Contains Antioxidant 319).",
            "Noodles: Wheat Flour (62%), Refined Palm Oil (Contains Antioxidant 319), Salt, Acidity Regulators (451, 501, 500), Thickener (412), Colour (101).<br>Seasoning Powder: Salt, Sugar, Flavour Enhancers (621, 631, 627), Garlic Powder, Onion Powder, Yeast Extract, Artificial Flavour, Pepper, Anti Caking Agent (551).<br>Seasoning Oil: Refined Palm Oil (Contains Antioxidant 319), Onion.<br>Sweet Soy Sauce: Sugar, Water, Salt, Wheat, Soy Bean, Spices, Sesame Oil.<br>Chilli Sauce: Chilli, Water, Sugar, Salt, Tapioca Starch, Acidity Regulators (260, 330), Herbs, Flavour Enhancers (621, 627, 631), Flavours, Preservatives 1211, 223). Fried Onion: Onion, Refined Palm Oil (Contains Antioxidant 319).",
            "Noodles: Wheat Flour (62%), Refined Palm Oil (Contains Antioxidant 319), Salt, Acidity Regulators (451, 501, 500), Thickener (412), Colour (101).<br>Seasoning Powder: Salt, Sugar, Flavour Enhancers (621, 631, 627), Garlic Powder, Onion Powder, Yeast Extract, Artificial Flavour, Pepper, Anti Caking Agent (551).<br>Seasoning Oil: Refined Palm Oil (Contains Antioxidant 319), Onion.<br>Sweet Soy Sauce: Sugar, Water, Salt, Wheat, Soy Bean, Spices, Sesame Oil.<br>Chilli Sauce: Chilli, Water, Sugar, Salt, Tapioca Starch, Acidity Regulators (260, 330), Herbs, Flavour Enhancers (621, 627, 631), Flavours, Preservatives 1211, 223). Fried Onion: Onion, Refined Palm Oil (Contains Antioxidant 319).",
            "Noodles: Wheat Flour (62%), Refined Palm Oil (Contains Antioxidant 319), Salt, Acidity Regulators (451, 501, 500), Thickener (412), Colour (101).<br>Seasoning Powder: Salt, Sugar, Flavour Enhancers (621, 631, 627), Garlic Powder, Onion Powder, Yeast Extract, Artificial Flavour, Pepper, Anti Caking Agent (551).<br>Seasoning Oil: Refined Palm Oil (Contains Antioxidant 319), Onion.<br>Sweet Soy Sauce: Sugar, Water, Salt, Wheat, Soy Bean, Spices, Sesame Oil.<br>Chilli Sauce: Chilli, Water, Sugar, Salt, Tapioca Starch, Acidity Regulators (260, 330), Herbs, Flavour Enhancers (621, 627, 631), Flavours, Preservatives 1211, 223). Fried Onion: Onion, Refined Palm Oil (Contains Antioxidant 319).",
            "Noodles: Wheat Flour (62%), Refined Palm Oil (Contains Antioxidant 319), Salt, Acidity Regulators (451, 501, 500), Thickener (412), Colour (101).<br>Seasoning Powder: Salt, Sugar, Flavour Enhancers (621, 631, 627), Garlic Powder, Onion Powder, Yeast Extract, Artificial Flavour, Pepper, Anti Caking Agent (551).<br>Seasoning Oil: Refined Palm Oil (Contains Antioxidant 319), Onion.<br>Sweet Soy Sauce: Sugar, Water, Salt, Wheat, Soy Bean, Spices, Sesame Oil.<br>Chilli Sauce: Chilli, Water, Sugar, Salt, Tapioca Starch, Acidity Regulators (260, 330), Herbs, Flavour Enhancers (621, 627, 631), Flavours, Preservatives 1211, 223). Fried Onion: Onion, Refined Palm Oil (Contains Antioxidant 319).",
            "Noodles: Wheat Flour (62%), Refined Palm Oil (Contains Antioxidant 319), Salt, Acidity Regulators (451, 501, 500), Thickener (412), Colour (101).<br>Seasoning Powder: Salt, Sugar, Flavour Enhancers (621, 631, 627), Garlic Powder, Onion Powder, Yeast Extract, Artificial Flavour, Pepper, Anti Caking Agent (551).<br>Seasoning Oil: Refined Palm Oil (Contains Antioxidant 319), Onion.<br>Sweet Soy Sauce: Sugar, Water, Salt, Wheat, Soy Bean, Spices, Sesame Oil.<br>Chilli Sauce: Chilli, Water, Sugar, Salt, Tapioca Starch, Acidity Regulators (260, 330), Herbs, Flavour Enhancers (621, 627, 631), Flavours, Preservatives 1211, 223). Fried Onion: Onion, Refined Palm Oil (Contains Antioxidant 319).",
            "Noodles: Wheat Flour (62%), Refined Palm Oil (Contains Antioxidant 319), Salt, Acidity Regulators (451, 501, 500), Thickener (412), Colour (101).<br>Seasoning Powder: Salt, Sugar, Flavour Enhancers (621, 631, 627), Garlic Powder, Onion Powder, Yeast Extract, Artificial Flavour, Pepper, Anti Caking Agent (551).<br>Seasoning Oil: Refined Palm Oil (Contains Antioxidant 319), Onion.<br>Sweet Soy Sauce: Sugar, Water, Salt, Wheat, Soy Bean, Spices, Sesame Oil.<br>Chilli Sauce: Chilli, Water, Sugar, Salt, Tapioca Starch, Acidity Regulators (260, 330), Herbs, Flavour Enhancers (621, 627, 631), Flavours, Preservatives 1211, 223). Fried Onion: Onion, Refined Palm Oil (Contains Antioxidant 319).",
            "Water, Reconstituted Fruit Juice (25%) (Apple or Pear, Pineapple, Orange or Water Extracted Orange, Peach Purée, Passionfruit), Sugar, Food Acids (Citric Acid, Potassium Citrate), Vitamin C, Natural Flavours, Stabiliser (Pectin).",
            "Water, Reconstituted Fruit Juice (25%) (Apple or Pear, Pineapple, Orange or Water Extracted Orange, Peach Purée, Passionfruit), Sugar, Food Acids (Citric Acid, Potassium Citrate), Vitamin C, Natural Flavours, Stabiliser (Pectin).",
            "Water, Reconstituted Fruit Juice (25%) (Apple or Pear, Pineapple, Orange or Water Extracted Orange, Peach Purée, Passionfruit), Sugar, Food Acids (Citric Acid, Potassium Citrate), Vitamin C, Natural Flavours, Stabiliser (Pectin).",
            "Water, Reconstituted Fruit Juice (25%) (Apple or Pear, Pineapple, Orange or Water Extracted Orange, Peach Purée, Passionfruit), Sugar, Food Acids (Citric Acid, Potassium Citrate), Vitamin C, Natural Flavours, Stabiliser (Pectin).",
            "Water, Reconstituted Fruit Juice (25%) (Apple or Pear, Pineapple, Orange or Water Extracted Orange, Peach Purée, Passionfruit), Sugar, Food Acids (Citric Acid, Potassium Citrate), Vitamin C, Natural Flavours, Stabiliser (Pectin).",
            "Water, Reconstituted Fruit Juice (25%) (Apple or Pear, Pineapple, Orange or Water Extracted Orange, Peach Purée, Passionfruit), Sugar, Food Acids (Citric Acid, Potassium Citrate), Vitamin C, Natural Flavours, Stabiliser (Pectin).",
            "Water, Reconstituted Fruit Juice (25%) (Apple or Pear, Pineapple, Orange or Water Extracted Orange, Peach Purée, Passionfruit), Sugar, Food Acids (Citric Acid, Potassium Citrate), Vitamin C, Natural Flavours, Stabiliser (Pectin).",
            "Water, Reconstituted Fruit Juice (25%) (Apple or Pear, Pineapple, Orange or Water Extracted Orange, Peach Purée, Passionfruit), Sugar, Food Acids (Citric Acid, Potassium Citrate), Vitamin C, Natural Flavours, Stabiliser (Pectin).",
            "Water, Reconstituted Fruit Juice (25%) (Apple or Pear, Pineapple, Orange or Water Extracted Orange, Peach Purée, Passionfruit), Sugar, Food Acids (Citric Acid, Potassium Citrate), Vitamin C, Natural Flavours, Stabiliser (Pectin).",
            "Water, Reconstituted Fruit Juice (25%) (Apple or Pear, Pineapple, Orange or Water Extracted Orange, Peach Purée, Passionfruit), Sugar, Food Acids (Citric Acid, Potassium Citrate), Vitamin C, Natural Flavours, Stabiliser (Pectin).",
            "Water, Reconstituted Fruit Juice (25%) (Apple or Pear, Pineapple, Orange or Water Extracted Orange, Peach Purée, Passionfruit), Sugar, Food Acids (Citric Acid, Potassium Citrate), Vitamin C, Natural Flavours, Stabiliser (Pectin).",
            "Water, Reconstituted Fruit Juice (25%) (Apple or Pear, Pineapple, Orange or Water Extracted Orange, Peach Purée, Passionfruit), Sugar, Food Acids (Citric Acid, Potassium Citrate), Vitamin C, Natural Flavours, Stabiliser (Pectin).",
            "Water, Reconstituted Fruit Juice (25%) (Apple or Pear, Pineapple, Orange or Water Extracted Orange, Peach Purée, Passionfruit), Sugar, Food Acids (Citric Acid, Potassium Citrate), Vitamin C, Natural Flavours, Stabiliser (Pectin).",
            "Water, Reconstituted Fruit Juice (25%) (Apple or Pear, Pineapple, Orange or Water Extracted Orange, Peach Purée, Passionfruit), Sugar, Food Acids (Citric Acid, Potassium Citrate), Vitamin C, Natural Flavours, Stabiliser (Pectin).",
            "Canola Oil, Water, Sugar, Vinegar, Thickener (1422, Xanthan Gum), Free Range Egg Yolk,  Gherkin, Salt, Onion Powder, Natural Colour (Carotene, Paprika Oleoresins), Preservative (Potassium Sorbate), Dill, Acidity Regulator (Citric Acid), Herb Extract, Mustard Oil.",
            "Canola Oil, Water, Sugar, Vinegar, Thickener (1422, Xanthan Gum), Free Range Egg Yolk,  Gherkin, Salt, Onion Powder, Natural Colour (Carotene, Paprika Oleoresins), Preservative (Potassium Sorbate), Dill, Acidity Regulator (Citric Acid), Herb Extract, Mustard Oil.",
            "Canola Oil, Water, Sugar, Vinegar, Thickener (1422, Xanthan Gum), Free Range Egg Yolk,  Gherkin, Salt, Onion Powder, Natural Colour (Carotene, Paprika Oleoresins), Preservative (Potassium Sorbate), Dill, Acidity Regulator (Citric Acid), Herb Extract, Mustard Oil.",
            "Canola Oil, Water, Sugar, Vinegar, Thickener (1422, Xanthan Gum), Free Range Egg Yolk,  Gherkin, Salt, Onion Powder, Natural Colour (Carotene, Paprika Oleoresins), Preservative (Potassium Sorbate), Dill, Acidity Regulator (Citric Acid), Herb Extract, Mustard Oil.",
            "Canola Oil, Water, Sugar, Vinegar, Thickener (1422, Xanthan Gum), Free Range Egg Yolk,  Gherkin, Salt, Onion Powder, Natural Colour (Carotene, Paprika Oleoresins), Preservative (Potassium Sorbate), Dill, Acidity Regulator (Citric Acid), Herb Extract, Mustard Oil.",
            "Canola Oil, Water, Sugar, Vinegar, Thickener (1422, Xanthan Gum), Free Range Egg Yolk,  Gherkin, Salt, Onion Powder, Natural Colour (Carotene, Paprika Oleoresins), Preservative (Potassium Sorbate), Dill, Acidity Regulator (Citric Acid), Herb Extract, Mustard Oil.",
            "Canola Oil, Water, Sugar, Vinegar, Thickener (1422, Xanthan Gum), Free Range Egg Yolk,  Gherkin, Salt, Onion Powder, Natural Colour (Carotene, Paprika Oleoresins), Preservative (Potassium Sorbate), Dill, Acidity Regulator (Citric Acid), Herb Extract, Mustard Oil.",
            "Canola Oil, Water, Sugar, Vinegar, Thickener (1422, Xanthan Gum), Free Range Egg Yolk,  Gherkin, Salt, Onion Powder, Natural Colour (Carotene, Paprika Oleoresins), Preservative (Potassium Sorbate), Dill, Acidity Regulator (Citric Acid), Herb Extract, Mustard Oil.",
            "Canola Oil, Water, Sugar, Vinegar, Thickener (1422, Xanthan Gum), Free Range Egg Yolk,  Gherkin, Salt, Onion Powder, Natural Colour (Carotene, Paprika Oleoresins), Preservative (Potassium Sorbate), Dill, Acidity Regulator (Citric Acid), Herb Extract, Mustard Oil.",
            "Canola Oil, Water, Sugar, Vinegar, Thickener (1422, Xanthan Gum), Free Range Egg Yolk,  Gherkin, Salt, Onion Powder, Natural Colour (Carotene, Paprika Oleoresins), Preservative (Potassium Sorbate), Dill, Acidity Regulator (Citric Acid), Herb Extract, Mustard Oil.",
            "Canola Oil, Water, Sugar, Vinegar, Thickener (1422, Xanthan Gum), Free Range Egg Yolk,  Gherkin, Salt, Onion Powder, Natural Colour (Carotene, Paprika Oleoresins), Preservative (Potassium Sorbate), Dill, Acidity Regulator (Citric Acid), Herb Extract, Mustard Oil.",
            "Canola Oil, Water, Sugar, Vinegar, Thickener (1422, Xanthan Gum), Free Range Egg Yolk,  Gherkin, Salt, Onion Powder, Natural Colour (Carotene, Paprika Oleoresins), Preservative (Potassium Sorbate), Dill, Acidity Regulator (Citric Acid), Herb Extract, Mustard Oil.",
            "Canola Oil, Water, Sugar, Vinegar, Thickener (1422, Xanthan Gum), Free Range Egg Yolk,  Gherkin, Salt, Onion Powder, Natural Colour (Carotene, Paprika Oleoresins), Preservative (Potassium Sorbate), Dill, Acidity Regulator (Citric Acid), Herb Extract, Mustard Oil.",
            "Canola Oil, Water, Sugar, Vinegar, Thickener (1422, Xanthan Gum), Free Range Egg Yolk,  Gherkin, Salt, Onion Powder, Natural Colour (Carotene, Paprika Oleoresins), Preservative (Potassium Sorbate), Dill, Acidity Regulator (Citric Acid), Herb Extract, Mustard Oil.",
            "Canola Oil, Water, Sugar, Vinegar, Thickener (1422, Xanthan Gum), Free Range Egg Yolk,  Gherkin, Salt, Onion Powder, Natural Colour (Carotene, Paprika Oleoresins), Preservative (Potassium Sorbate), Dill, Acidity Regulator (Citric Acid), Herb Extract, Mustard Oil.",
            "Canola Oil, Water, Sugar, Vinegar, Thickener (1422, Xanthan Gum), Free Range Egg Yolk,  Gherkin, Salt, Onion Powder, Natural Colour (Carotene, Paprika Oleoresins), Preservative (Potassium Sorbate), Dill, Acidity Regulator (Citric Acid), Herb Extract, Mustard Oil.",
            "Canola Oil, Water, Sugar, Vinegar, Thickener (1422, Xanthan Gum), Free Range Egg Yolk,  Gherkin, Salt, Onion Powder, Natural Colour (Carotene, Paprika Oleoresins), Preservative (Potassium Sorbate), Dill, Acidity Regulator (Citric Acid), Herb Extract, Mustard Oil.",
            "Fruits (55%) (Peach, Pear), Reconstituted Refined Juice (Water, Concentrated Pear Juice, Antioxidant (Ascorbic Acid), Acidity Regulator (Citric Acid))",
            "Fruits (55%) (Peach, Pear), Reconstituted Refined Juice (Water, Concentrated Pear Juice, Antioxidant (Ascorbic Acid), Acidity Regulator (Citric Acid))",
            "Fruits (55%) (Peach, Pear), Reconstituted Refined Juice (Water, Concentrated Pear Juice, Antioxidant (Ascorbic Acid), Acidity Regulator (Citric Acid))",
            "Fruits (55%) (Peach, Pear), Reconstituted Refined Juice (Water, Concentrated Pear Juice, Antioxidant (Ascorbic Acid), Acidity Regulator (Citric Acid))",
            "Fruits (55%) (Peach, Pear), Reconstituted Refined Juice (Water, Concentrated Pear Juice, Antioxidant (Ascorbic Acid), Acidity Regulator (Citric Acid))",
            "Fruits (55%) (Peach, Pear), Reconstituted Refined Juice (Water, Concentrated Pear Juice, Antioxidant (Ascorbic Acid), Acidity Regulator (Citric Acid))",
            "Fruits (55%) (Peach, Pear), Reconstituted Refined Juice (Water, Concentrated Pear Juice, Antioxidant (Ascorbic Acid), Acidity Regulator (Citric Acid))",
            "Fruits (55%) (Peach, Pear), Reconstituted Refined Juice (Water, Concentrated Pear Juice, Antioxidant (Ascorbic Acid), Acidity Regulator (Citric Acid))",
            "Fruits (55%) (Peach, Pear), Reconstituted Refined Juice (Water, Concentrated Pear Juice, Antioxidant (Ascorbic Acid), Acidity Regulator (Citric Acid))",
            "Fruits (55%) (Peach, Pear), Reconstituted Refined Juice (Water, Concentrated Pear Juice, Antioxidant (Ascorbic Acid), Acidity Regulator (Citric Acid))",
            "Fruits (55%) (Peach, Pear), Reconstituted Refined Juice (Water, Concentrated Pear Juice, Antioxidant (Ascorbic Acid), Acidity Regulator (Citric Acid))",
            "Fruits (55%) (Peach, Pear), Reconstituted Refined Juice (Water, Concentrated Pear Juice, Antioxidant (Ascorbic Acid), Acidity Regulator (Citric Acid))",
            "Jelly (70%) (Water, Sugar, Gelling Agents (Carrageenan, Locust Bean Gum, Xanthan Gum), Acidity Regulators (Sodium Citrates, Potassium Citrates, Calcium Lactate, Malic Acid, Citric Acid), Natural Flavours (Pineapple, Mango), Natural Colours (Carotene, Paprika Oleoresins), Antioxidant (Ascorbic Acid)), Peach (15%), Pear (15%)",
            "Jelly (70%) (Water, Sugar, Gelling Agents (Carrageenan, Locust Bean Gum, Xanthan Gum), Acidity Regulators (Sodium Citrates, Potassium Citrates, Calcium Lactate, Malic Acid, Citric Acid), Natural Flavours (Pineapple, Mango), Natural Colours (Carotene, Paprika Oleoresins), Antioxidant (Ascorbic Acid)), Peach (15%), Pear (15%)",
            "Jelly (70%) (Water, Sugar, Gelling Agents (Carrageenan, Locust Bean Gum, Xanthan Gum), Acidity Regulators (Sodium Citrates, Potassium Citrates, Calcium Lactate, Malic Acid, Citric Acid), Natural Flavours (Pineapple, Mango), Natural Colours (Carotene, Paprika Oleoresins), Antioxidant (Ascorbic Acid)), Peach (15%), Pear (15%)",
            "Jelly (70%) (Water, Sugar, Gelling Agents (Carrageenan, Locust Bean Gum, Xanthan Gum), Acidity Regulators (Sodium Citrates, Potassium Citrates, Calcium Lactate, Malic Acid, Citric Acid), Natural Flavours (Pineapple, Mango), Natural Colours (Carotene, Paprika Oleoresins), Antioxidant (Ascorbic Acid)), Peach (15%), Pear (15%)",
            "Jelly (70%) (Water, Sugar, Gelling Agents (Carrageenan, Locust Bean Gum, Xanthan Gum), Acidity Regulators (Sodium Citrates, Potassium Citrates, Calcium Lactate, Malic Acid, Citric Acid), Natural Flavours (Pineapple, Mango), Natural Colours (Carotene, Paprika Oleoresins), Antioxidant (Ascorbic Acid)), Peach (15%), Pear (15%)",
            "Jelly (70%) (Water, Sugar, Gelling Agents (Carrageenan, Locust Bean Gum, Xanthan Gum), Acidity Regulators (Sodium Citrates, Potassium Citrates, Calcium Lactate, Malic Acid, Citric Acid), Natural Flavours (Pineapple, Mango), Natural Colours (Carotene, Paprika Oleoresins), Antioxidant (Ascorbic Acid)), Peach (15%), Pear (15%)",
            "Jelly (70%) (Water, Sugar, Gelling Agents (Carrageenan, Locust Bean Gum, Xanthan Gum), Acidity Regulators (Sodium Citrates, Potassium Citrates, Calcium Lactate, Malic Acid, Citric Acid), Natural Flavours (Pineapple, Mango), Natural Colours (Carotene, Paprika Oleoresins), Antioxidant (Ascorbic Acid)), Peach (15%), Pear (15%)",
            "Jelly (70%) (Water, Sugar, Gelling Agents (Carrageenan, Locust Bean Gum, Xanthan Gum), Acidity Regulators (Sodium Citrates, Potassium Citrates, Calcium Lactate, Malic Acid, Citric Acid), Natural Flavours (Pineapple, Mango), Natural Colours (Carotene, Paprika Oleoresins), Antioxidant (Ascorbic Acid)), Peach (15%), Pear (15%)",
            "Jelly (70%) (Water, Sugar, Gelling Agents (Carrageenan, Locust Bean Gum, Xanthan Gum), Acidity Regulators (Sodium Citrates, Potassium Citrates, Calcium Lactate, Malic Acid, Citric Acid), Natural Flavours (Pineapple, Mango), Natural Colours (Carotene, Paprika Oleoresins), Antioxidant (Ascorbic Acid)), Peach (15%), Pear (15%)",
            "Jelly (70%) (Water, Sugar, Gelling Agents (Carrageenan, Locust Bean Gum, Xanthan Gum), Acidity Regulators (Sodium Citrates, Potassium Citrates, Calcium Lactate, Malic Acid, Citric Acid), Natural Flavours (Pineapple, Mango), Natural Colours (Carotene, Paprika Oleoresins), Antioxidant (Ascorbic Acid)), Peach (15%), Pear (15%)",
            "Jelly (70%) (Water, Sugar, Gelling Agents (Carrageenan, Locust Bean Gum, Xanthan Gum), Acidity Regulators (Sodium Citrates, Potassium Citrates, Calcium Lactate, Malic Acid, Citric Acid), Natural Flavours (Pineapple, Mango), Natural Colours (Carotene, Paprika Oleoresins), Antioxidant (Ascorbic Acid)), Peach (15%), Pear (15%)",
            "Jelly (70%) (Water, Sugar, Gelling Agents (Carrageenan, Locust Bean Gum, Xanthan Gum), Acidity Regulators (Sodium Citrates, Potassium Citrates, Calcium Lactate, Malic Acid, Citric Acid), Natural Flavours (Pineapple, Mango), Natural Colours (Carotene, Paprika Oleoresins), Antioxidant (Ascorbic Acid)), Peach (15%), Pear (15%)",
            "Jelly (70%) (Water, Sugar, Gelling Agents (Carrageenan, Locust Bean Gum, Xanthan Gum), Acidity Regulators (Sodium Citrates, Potassium Citrates, Calcium Lactate, Malic Acid, Citric Acid), Natural Flavours (Pineapple, Mango), Natural Colours (Carotene, Paprika Oleoresins), Antioxidant (Ascorbic Acid)), Peach (15%), Pear (15%)",
            "Jelly (70%) (Water, Sugar, Gelling Agents (Carrageenan, Locust Bean Gum, Xanthan Gum), Acidity Regulators (Sodium Citrates, Potassium Citrates, Calcium Lactate, Malic Acid, Citric Acid), Natural Flavours (Pineapple, Mango), Natural Colours (Carotene, Paprika Oleoresins), Antioxidant (Ascorbic Acid)), Peach (15%), Pear (15%)",
            "Jelly (70%) (Water, Sugar, Gelling Agents (Carrageenan, Locust Bean Gum, Xanthan Gum), Acidity Regulators (Sodium Citrates, Potassium Citrates, Calcium Lactate, Malic Acid, Citric Acid), Natural Flavours (Pineapple, Mango), Natural Colours (Carotene, Paprika Oleoresins), Antioxidant (Ascorbic Acid)), Peach (15%), Pear (15%)",
            "Jelly (70%) (Water, Sugar, Gelling Agents (Carrageenan, Locust Bean Gum, Xanthan Gum), Acidity Regulators (Sodium Citrates, Potassium Citrates, Calcium Lactate, Malic Acid, Citric Acid), Natural Flavours (Pineapple, Mango), Natural Colours (Carotene, Paprika Oleoresins), Antioxidant (Ascorbic Acid)), Peach (15%), Pear (15%)",
            "Jelly (70%) (Water, Sugar, Gelling Agents (Carrageenan, Locust Bean Gum, Xanthan Gum), Acidity Regulators (Sodium Citrates, Potassium Citrates, Calcium Lactate, Malic Acid, Citric Acid), Natural Flavours (Pineapple, Mango), Natural Colours (Carotene, Paprika Oleoresins), Antioxidant (Ascorbic Acid)), Peach (15%), Pear (15%)"
           ],
           [
            "Indomie Mi Goreng Instant Noodles",
            "Indomie Mi Goreng Instant Noodles",
            "Indomie Mi Goreng Instant Noodles",
            "Indomie Mi Goreng Instant Noodles",
            "Indomie Mi Goreng Instant Noodles",
            "Indomie Mi Goreng Instant Noodles",
            "Indomie Mi Goreng Instant Noodles",
            "Indomie Mi Goreng Instant Noodles",
            "Indomie Mi Goreng Instant Noodles",
            "Indomie Mi Goreng Instant Noodles",
            "Indomie Mi Goreng Instant Noodles",
            "Indomie Mi Goreng Instant Noodles",
            "Indomie Mi Goreng Instant Noodles",
            "Indomie Mi Goreng Instant Noodles",
            "Indomie Mi Goreng Instant Noodles",
            "Indomie Mi Goreng Instant Noodles",
            "Indomie Mi Goreng Instant Noodles",
            "Indomie Mi Goreng Instant Noodles",
            "Indomie Mi Goreng Instant Noodles",
            "Indomie Mi Goreng Instant Noodles",
            "Indomie Mi Goreng Instant Noodles",
            "Indomie Mi Goreng Instant Noodles",
            "Indomie Mi Goreng Instant Noodles",
            "Indomie Mi Goreng Instant Noodles",
            "Indomie Mi Goreng Instant Noodles",
            "Indomie Mi Goreng Instant Noodles",
            "Indomie Mi Goreng Instant Noodles",
            "Indomie Mi Goreng Instant Noodles",
            "Indomie Mi Goreng Instant Noodles",
            "Indomie Mi Goreng Instant Noodles",
            "Indomie Mi Goreng Instant Noodles",
            "Indomie Mi Goreng Instant Noodles",
            "Indomie Mi Goreng Instant Noodles",
            "Indomie Mi Goreng Instant Noodles",
            "Indomie Mi Goreng Instant Noodles",
            "Indomie Mi Goreng Instant Noodles",
            "Indomie Mi Goreng Instant Noodles",
            "Indomie Mi Goreng Instant Noodles",
            "Indomie Mi Goreng Instant Noodles",
            "Indomie Mi Goreng Instant Noodles",
            "Indomie Mi Goreng Instant Noodles",
            "Indomie Mi Goreng Instant Noodles",
            "Indomie Mi Goreng Instant Noodles",
            "Indomie Mi Goreng Instant Noodles",
            "Indomie Mi Goreng Instant Noodles",
            "Indomie Mi Goreng Instant Noodles",
            "Indomie Mi Goreng Instant Noodles",
            "Indomie Mi Goreng Instant Noodles",
            "Indomie Mi Goreng Instant Noodles",
            "Indomie Mi Goreng Instant Noodles",
            "Indomie Mi Goreng Instant Noodles",
            "Indomie Mi Goreng Instant Noodles",
            "Indomie Mi Goreng Instant Noodles",
            "Indomie Mi Goreng Instant Noodles",
            "Indomie Mi Goreng Instant Noodles",
            "Indomie Mi Goreng Instant Noodles",
            "Indomie Mi Goreng Instant Noodles",
            "Indomie Mi Goreng Instant Noodles",
            "Indomie Mi Goreng Instant Noodles",
            "Indomie Mi Goreng Instant Noodles",
            "Indomie Mi Goreng Instant Noodles",
            "Indomie Mi Goreng Instant Noodles",
            "Indomie Mi Goreng Instant Noodles",
            "Indomie Mi Goreng Instant Noodles",
            "Indomie Mi Goreng Instant Noodles",
            "Indomie Mi Goreng Instant Noodles",
            "Indomie Mi Goreng Instant Noodles",
            "Indomie Mi Goreng Instant Noodles",
            "Indomie Mi Goreng Instant Noodles",
            "Indomie Mi Goreng Instant Noodles",
            "Indomie Mi Goreng Instant Noodles",
            "Indomie Mi Goreng Instant Noodles",
            "Indomie Mi Goreng Instant Noodles",
            "Indomie Mi Goreng Instant Noodles",
            "Golden Circle Drinks Sunshine Punch Fruit Drink",
            "Golden Circle Drinks Sunshine Punch Fruit Drink",
            "Golden Circle Drinks Sunshine Punch Fruit Drink",
            "Golden Circle Drinks Sunshine Punch Fruit Drink",
            "Golden Circle Drinks Sunshine Punch Fruit Drink",
            "Golden Circle Drinks Sunshine Punch Fruit Drink",
            "Golden Circle Drinks Sunshine Punch Fruit Drink",
            "Golden Circle Drinks Sunshine Punch Fruit Drink",
            "Golden Circle Drinks Sunshine Punch Fruit Drink",
            "Golden Circle Drinks Sunshine Punch Fruit Drink",
            "Golden Circle Drinks Sunshine Punch Fruit Drink",
            "Golden Circle Drinks Sunshine Punch Fruit Drink",
            "Golden Circle Drinks Sunshine Punch Fruit Drink",
            "Golden Circle Drinks Sunshine Punch Fruit Drink",
            "Woolworths Secret Burger Sauce",
            "Woolworths Secret Burger Sauce",
            "Woolworths Secret Burger Sauce",
            "Woolworths Secret Burger Sauce",
            "Woolworths Secret Burger Sauce",
            "Woolworths Secret Burger Sauce",
            "Woolworths Secret Burger Sauce",
            "Woolworths Secret Burger Sauce",
            "Woolworths Secret Burger Sauce",
            "Woolworths Secret Burger Sauce",
            "Woolworths Secret Burger Sauce",
            "Woolworths Secret Burger Sauce",
            "Woolworths Secret Burger Sauce",
            "Woolworths Secret Burger Sauce",
            "Woolworths Secret Burger Sauce",
            "Woolworths Secret Burger Sauce",
            "Woolworths Secret Burger Sauce",
            "Woolworths Two Fruits In Juice Cups",
            "Woolworths Two Fruits In Juice Cups",
            "Woolworths Two Fruits In Juice Cups",
            "Woolworths Two Fruits In Juice Cups",
            "Woolworths Two Fruits In Juice Cups",
            "Woolworths Two Fruits In Juice Cups",
            "Woolworths Two Fruits In Juice",
            "Woolworths Two Fruits In Juice",
            "Woolworths Two Fruits In Juice",
            "Woolworths Two Fruits In Juice",
            "Woolworths Two Fruits In Juice",
            "Woolworths Two Fruits In Juice",
            "Woolworths Two Fruits In Tropical Jelly",
            "Woolworths Two Fruits In Tropical Jelly",
            "Woolworths Two Fruits In Tropical Jelly",
            "Woolworths Two Fruits In Tropical Jelly",
            "Woolworths Two Fruits In Tropical Jelly",
            "Woolworths Two Fruits In Tropical Jelly",
            "Woolworths Two Fruits In Tropical Jelly",
            "Woolworths Two Fruits In Tropical Jelly",
            "Woolworths Two Fruits In Tropical Jelly",
            "Woolworths Two Fruits In Tropical Jelly",
            "Woolworths Two Fruits In Tropical Jelly",
            "Woolworths Two Fruits In Tropical Jelly",
            "Woolworths Two Fruits In Tropical Jelly",
            "Woolworths Two Fruits In Tropical Jelly",
            "Woolworths Two Fruits In Tropical Jelly",
            "Woolworths Two Fruits In Tropical Jelly",
            "Woolworths Two Fruits In Tropical Jelly"
           ],
           [
            "Sugar",
            "Wheat Flour",
            "Refined Palm Oil",
            "Salt",
            "451",
            "501",
            "500",
            "412",
            "101",
            "Seasoning Powder",
            "621",
            "627",
            "Garlic Powder",
            "Onion Powder",
            "Yeast Extract",
            "Artificial Flavour",
            "Pepper",
            "551",
            "Seasoning Oil",
            "Onion",
            "Sweet Soy Sauce",
            "Water",
            "Wheat",
            "Soy Bean",
            "Spices",
            "Sesame Oil",
            "Chilli Sauce",
            "Chilli",
            "Tapioca Starch",
            "260",
            "330",
            "Herbs",
            "1211",
            "223",
            "Fried Onion",
            "319",
            "631",
            "Sugar",
            "Wheat Flour",
            "Refined Palm Oil",
            "Salt",
            "451",
            "501",
            "500",
            "412",
            "101",
            "Seasoning Powder",
            "621",
            "627",
            "Garlic Powder",
            "Onion Powder",
            "Yeast Extract",
            "Artificial Flavour",
            "Pepper",
            "551",
            "Seasoning Oil",
            "Onion",
            "Sweet Soy Sauce",
            "Water",
            "Wheat",
            "Soy Bean",
            "Spices",
            "Sesame Oil",
            "Chilli Sauce",
            "Chilli",
            "Tapioca Starch",
            "260",
            "330",
            "Herbs",
            "1211",
            "223",
            "Fried Onion",
            "319",
            "631",
            "Sugar",
            "Water",
            "Citric Acid",
            "Natural Flavours",
            "Vitamin C",
            "Apple",
            "Orange",
            "Pineapple",
            "Passionfruit",
            "Pear",
            "Potassium Citrate",
            "Pectin",
            "Water Extracted Orange",
            "Peach Purée",
            "Sugar",
            "Salt",
            "Onion Powder",
            "Water",
            "1422",
            "Citric Acid",
            "Canola Oil",
            "Vinegar",
            "Xanthan Gum",
            "Free Range Egg Yolk",
            "Gherkin",
            "Carotene",
            "Paprika Oleoresins",
            "Potassium Sorbate",
            "Dill",
            "Herb Extract",
            "Mustard Oil",
            "Water",
            "Citric Acid",
            "Ascorbic Acid",
            "Peach",
            "Pear",
            "Concentrated Pear Juice",
            "Water",
            "Citric Acid",
            "Ascorbic Acid",
            "Peach",
            "Pear",
            "Concentrated Pear Juice",
            "Sugar",
            "Water",
            "Citric Acid",
            "Carotene",
            "Paprika Oleoresins",
            "Ascorbic Acid",
            "Carrageenan",
            "Locust Bean Gum",
            "Xanthan Gum",
            "Sodium Citrate",
            "Potassium Citrate",
            "Calcium Lactate",
            "Malic Acid",
            "Peach",
            "Pear",
            "Pineapple",
            "Mango"
           ],
           [
            "group1",
            "group1",
            "group1",
            "group1",
            "group1",
            "group1",
            "group1",
            "group1",
            "group1",
            "group1",
            "group1",
            "group1",
            "group1",
            "group1",
            "group1",
            "group1",
            "group1",
            "group1",
            "group1",
            "group1",
            "group1",
            "group1",
            "group1",
            "group1",
            "group1",
            "group1",
            "group1",
            "group1",
            "group1",
            "group1",
            "group1",
            "group1",
            "group1",
            "group1",
            "group1",
            "group1",
            "group1",
            "group1",
            "group1",
            "group1",
            "group1",
            "group1",
            "group1",
            "group1",
            "group1",
            "group1",
            "group1",
            "group1",
            "group1",
            "group1",
            "group1",
            "group1",
            "group1",
            "group1",
            "group1",
            "group1",
            "group1",
            "group1",
            "group1",
            "group1",
            "group1",
            "group1",
            "group1",
            "group1",
            "group1",
            "group1",
            "group1",
            "group1",
            "group1",
            "group1",
            "group1",
            "group1",
            "group1",
            "group1",
            "group1",
            "group1",
            "group1",
            "group1",
            "group1",
            "group1",
            "group1",
            "group1",
            "group1",
            "group1",
            "group1",
            "group1",
            "group1",
            "group1",
            "group1",
            "group1",
            "group1",
            "group1",
            "group1",
            "group1",
            "group1",
            "group1",
            "group1",
            "group1",
            "group1",
            "group1",
            "group1",
            "group1",
            "group1",
            "group1",
            "group1",
            "group2",
            "group2",
            "group2",
            "group2",
            "group2",
            "group2",
            "group2",
            "group2",
            "group2",
            "group2",
            "group2",
            "group2",
            "group1",
            "group1",
            "group1",
            "group1",
            "group1",
            "group1",
            "group1",
            "group1",
            "group1",
            "group1",
            "group1",
            "group1",
            "group1",
            "group1",
            "group1",
            "group1",
            "group1"
           ],
           [
            "Indomie Mi Goreng Instant Noodles_Sugar",
            "Indomie Mi Goreng Instant Noodles_Wheat Flour",
            "Indomie Mi Goreng Instant Noodles_Refined Palm Oil",
            "Indomie Mi Goreng Instant Noodles_Salt",
            "Indomie Mi Goreng Instant Noodles_451",
            "Indomie Mi Goreng Instant Noodles_501",
            "Indomie Mi Goreng Instant Noodles_500",
            "Indomie Mi Goreng Instant Noodles_412",
            "Indomie Mi Goreng Instant Noodles_101",
            "Indomie Mi Goreng Instant Noodles_Seasoning Powder",
            "Indomie Mi Goreng Instant Noodles_621",
            "Indomie Mi Goreng Instant Noodles_627",
            "Indomie Mi Goreng Instant Noodles_Garlic Powder",
            "Indomie Mi Goreng Instant Noodles_Onion Powder",
            "Indomie Mi Goreng Instant Noodles_Yeast Extract",
            "Indomie Mi Goreng Instant Noodles_Artificial Flavour",
            "Indomie Mi Goreng Instant Noodles_Pepper",
            "Indomie Mi Goreng Instant Noodles_551",
            "Indomie Mi Goreng Instant Noodles_Seasoning Oil",
            "Indomie Mi Goreng Instant Noodles_Onion",
            "Indomie Mi Goreng Instant Noodles_Sweet Soy Sauce",
            "Indomie Mi Goreng Instant Noodles_Water",
            "Indomie Mi Goreng Instant Noodles_Wheat",
            "Indomie Mi Goreng Instant Noodles_Soy Bean",
            "Indomie Mi Goreng Instant Noodles_Spices",
            "Indomie Mi Goreng Instant Noodles_Sesame Oil",
            "Indomie Mi Goreng Instant Noodles_Chilli Sauce",
            "Indomie Mi Goreng Instant Noodles_Chilli",
            "Indomie Mi Goreng Instant Noodles_Tapioca Starch",
            "Indomie Mi Goreng Instant Noodles_260",
            "Indomie Mi Goreng Instant Noodles_330",
            "Indomie Mi Goreng Instant Noodles_Herbs",
            "Indomie Mi Goreng Instant Noodles_1211",
            "Indomie Mi Goreng Instant Noodles_223",
            "Indomie Mi Goreng Instant Noodles_Fried Onion",
            "Indomie Mi Goreng Instant Noodles_319",
            "Indomie Mi Goreng Instant Noodles_631",
            "Indomie Mi Goreng Instant Noodles_Sugar",
            "Indomie Mi Goreng Instant Noodles_Wheat Flour",
            "Indomie Mi Goreng Instant Noodles_Refined Palm Oil",
            "Indomie Mi Goreng Instant Noodles_Salt",
            "Indomie Mi Goreng Instant Noodles_451",
            "Indomie Mi Goreng Instant Noodles_501",
            "Indomie Mi Goreng Instant Noodles_500",
            "Indomie Mi Goreng Instant Noodles_412",
            "Indomie Mi Goreng Instant Noodles_101",
            "Indomie Mi Goreng Instant Noodles_Seasoning Powder",
            "Indomie Mi Goreng Instant Noodles_621",
            "Indomie Mi Goreng Instant Noodles_627",
            "Indomie Mi Goreng Instant Noodles_Garlic Powder",
            "Indomie Mi Goreng Instant Noodles_Onion Powder",
            "Indomie Mi Goreng Instant Noodles_Yeast Extract",
            "Indomie Mi Goreng Instant Noodles_Artificial Flavour",
            "Indomie Mi Goreng Instant Noodles_Pepper",
            "Indomie Mi Goreng Instant Noodles_551",
            "Indomie Mi Goreng Instant Noodles_Seasoning Oil",
            "Indomie Mi Goreng Instant Noodles_Onion",
            "Indomie Mi Goreng Instant Noodles_Sweet Soy Sauce",
            "Indomie Mi Goreng Instant Noodles_Water",
            "Indomie Mi Goreng Instant Noodles_Wheat",
            "Indomie Mi Goreng Instant Noodles_Soy Bean",
            "Indomie Mi Goreng Instant Noodles_Spices",
            "Indomie Mi Goreng Instant Noodles_Sesame Oil",
            "Indomie Mi Goreng Instant Noodles_Chilli Sauce",
            "Indomie Mi Goreng Instant Noodles_Chilli",
            "Indomie Mi Goreng Instant Noodles_Tapioca Starch",
            "Indomie Mi Goreng Instant Noodles_260",
            "Indomie Mi Goreng Instant Noodles_330",
            "Indomie Mi Goreng Instant Noodles_Herbs",
            "Indomie Mi Goreng Instant Noodles_1211",
            "Indomie Mi Goreng Instant Noodles_223",
            "Indomie Mi Goreng Instant Noodles_Fried Onion",
            "Indomie Mi Goreng Instant Noodles_319",
            "Indomie Mi Goreng Instant Noodles_631",
            "Golden Circle Drinks Sunshine Punch Fruit Drink_Sugar",
            "Golden Circle Drinks Sunshine Punch Fruit Drink_Water",
            "Golden Circle Drinks Sunshine Punch Fruit Drink_Citric Acid",
            "Golden Circle Drinks Sunshine Punch Fruit Drink_Natural Flavours",
            "Golden Circle Drinks Sunshine Punch Fruit Drink_Vitamin C",
            "Golden Circle Drinks Sunshine Punch Fruit Drink_Apple",
            "Golden Circle Drinks Sunshine Punch Fruit Drink_Orange",
            "Golden Circle Drinks Sunshine Punch Fruit Drink_Pineapple",
            "Golden Circle Drinks Sunshine Punch Fruit Drink_Passionfruit",
            "Golden Circle Drinks Sunshine Punch Fruit Drink_Pear",
            "Golden Circle Drinks Sunshine Punch Fruit Drink_Potassium Citrate",
            "Golden Circle Drinks Sunshine Punch Fruit Drink_Pectin",
            "Golden Circle Drinks Sunshine Punch Fruit Drink_Water Extracted Orange",
            "Golden Circle Drinks Sunshine Punch Fruit Drink_Peach Purée",
            "Woolworths Secret Burger Sauce_Sugar",
            "Woolworths Secret Burger Sauce_Salt",
            "Woolworths Secret Burger Sauce_Onion Powder",
            "Woolworths Secret Burger Sauce_Water",
            "Woolworths Secret Burger Sauce_1422",
            "Woolworths Secret Burger Sauce_Citric Acid",
            "Woolworths Secret Burger Sauce_Canola Oil",
            "Woolworths Secret Burger Sauce_Vinegar",
            "Woolworths Secret Burger Sauce_Xanthan Gum",
            "Woolworths Secret Burger Sauce_Free Range Egg Yolk",
            "Woolworths Secret Burger Sauce_Gherkin",
            "Woolworths Secret Burger Sauce_Carotene",
            "Woolworths Secret Burger Sauce_Paprika Oleoresins",
            "Woolworths Secret Burger Sauce_Potassium Sorbate",
            "Woolworths Secret Burger Sauce_Dill",
            "Woolworths Secret Burger Sauce_Herb Extract",
            "Woolworths Secret Burger Sauce_Mustard Oil",
            "Woolworths Two Fruits In Juice Cups_Water",
            "Woolworths Two Fruits In Juice Cups_Citric Acid",
            "Woolworths Two Fruits In Juice Cups_Ascorbic Acid",
            "Woolworths Two Fruits In Juice Cups_Peach",
            "Woolworths Two Fruits In Juice Cups_Pear",
            "Woolworths Two Fruits In Juice Cups_Concentrated Pear Juice",
            "Woolworths Two Fruits In Juice_Water",
            "Woolworths Two Fruits In Juice_Citric Acid",
            "Woolworths Two Fruits In Juice_Ascorbic Acid",
            "Woolworths Two Fruits In Juice_Peach",
            "Woolworths Two Fruits In Juice_Pear",
            "Woolworths Two Fruits In Juice_Concentrated Pear Juice",
            "Woolworths Two Fruits In Tropical Jelly_Sugar",
            "Woolworths Two Fruits In Tropical Jelly_Water",
            "Woolworths Two Fruits In Tropical Jelly_Citric Acid",
            "Woolworths Two Fruits In Tropical Jelly_Carotene",
            "Woolworths Two Fruits In Tropical Jelly_Paprika Oleoresins",
            "Woolworths Two Fruits In Tropical Jelly_Ascorbic Acid",
            "Woolworths Two Fruits In Tropical Jelly_Carrageenan",
            "Woolworths Two Fruits In Tropical Jelly_Locust Bean Gum",
            "Woolworths Two Fruits In Tropical Jelly_Xanthan Gum",
            "Woolworths Two Fruits In Tropical Jelly_Sodium Citrate",
            "Woolworths Two Fruits In Tropical Jelly_Potassium Citrate",
            "Woolworths Two Fruits In Tropical Jelly_Calcium Lactate",
            "Woolworths Two Fruits In Tropical Jelly_Malic Acid",
            "Woolworths Two Fruits In Tropical Jelly_Peach",
            "Woolworths Two Fruits In Tropical Jelly_Pear",
            "Woolworths Two Fruits In Tropical Jelly_Pineapple",
            "Woolworths Two Fruits In Tropical Jelly_Mango"
           ]
          ]
         },
         "header": {
          "values": [
           "Step",
           "Description",
           "Recipe",
           "Product",
           "Ingredient",
           "Group",
           "CombinedGroup"
          ]
         },
         "type": "table"
        }
       ],
       "layout": {
        "template": {
         "data": {
          "bar": [
           {
            "error_x": {
             "color": "#2a3f5f"
            },
            "error_y": {
             "color": "#2a3f5f"
            },
            "marker": {
             "line": {
              "color": "#E5ECF6",
              "width": 0.5
             },
             "pattern": {
              "fillmode": "overlay",
              "size": 10,
              "solidity": 0.2
             }
            },
            "type": "bar"
           }
          ],
          "barpolar": [
           {
            "marker": {
             "line": {
              "color": "#E5ECF6",
              "width": 0.5
             },
             "pattern": {
              "fillmode": "overlay",
              "size": 10,
              "solidity": 0.2
             }
            },
            "type": "barpolar"
           }
          ],
          "carpet": [
           {
            "aaxis": {
             "endlinecolor": "#2a3f5f",
             "gridcolor": "white",
             "linecolor": "white",
             "minorgridcolor": "white",
             "startlinecolor": "#2a3f5f"
            },
            "baxis": {
             "endlinecolor": "#2a3f5f",
             "gridcolor": "white",
             "linecolor": "white",
             "minorgridcolor": "white",
             "startlinecolor": "#2a3f5f"
            },
            "type": "carpet"
           }
          ],
          "choropleth": [
           {
            "colorbar": {
             "outlinewidth": 0,
             "ticks": ""
            },
            "type": "choropleth"
           }
          ],
          "contour": [
           {
            "colorbar": {
             "outlinewidth": 0,
             "ticks": ""
            },
            "colorscale": [
             [
              0,
              "#0d0887"
             ],
             [
              0.1111111111111111,
              "#46039f"
             ],
             [
              0.2222222222222222,
              "#7201a8"
             ],
             [
              0.3333333333333333,
              "#9c179e"
             ],
             [
              0.4444444444444444,
              "#bd3786"
             ],
             [
              0.5555555555555556,
              "#d8576b"
             ],
             [
              0.6666666666666666,
              "#ed7953"
             ],
             [
              0.7777777777777778,
              "#fb9f3a"
             ],
             [
              0.8888888888888888,
              "#fdca26"
             ],
             [
              1,
              "#f0f921"
             ]
            ],
            "type": "contour"
           }
          ],
          "contourcarpet": [
           {
            "colorbar": {
             "outlinewidth": 0,
             "ticks": ""
            },
            "type": "contourcarpet"
           }
          ],
          "heatmap": [
           {
            "colorbar": {
             "outlinewidth": 0,
             "ticks": ""
            },
            "colorscale": [
             [
              0,
              "#0d0887"
             ],
             [
              0.1111111111111111,
              "#46039f"
             ],
             [
              0.2222222222222222,
              "#7201a8"
             ],
             [
              0.3333333333333333,
              "#9c179e"
             ],
             [
              0.4444444444444444,
              "#bd3786"
             ],
             [
              0.5555555555555556,
              "#d8576b"
             ],
             [
              0.6666666666666666,
              "#ed7953"
             ],
             [
              0.7777777777777778,
              "#fb9f3a"
             ],
             [
              0.8888888888888888,
              "#fdca26"
             ],
             [
              1,
              "#f0f921"
             ]
            ],
            "type": "heatmap"
           }
          ],
          "heatmapgl": [
           {
            "colorbar": {
             "outlinewidth": 0,
             "ticks": ""
            },
            "colorscale": [
             [
              0,
              "#0d0887"
             ],
             [
              0.1111111111111111,
              "#46039f"
             ],
             [
              0.2222222222222222,
              "#7201a8"
             ],
             [
              0.3333333333333333,
              "#9c179e"
             ],
             [
              0.4444444444444444,
              "#bd3786"
             ],
             [
              0.5555555555555556,
              "#d8576b"
             ],
             [
              0.6666666666666666,
              "#ed7953"
             ],
             [
              0.7777777777777778,
              "#fb9f3a"
             ],
             [
              0.8888888888888888,
              "#fdca26"
             ],
             [
              1,
              "#f0f921"
             ]
            ],
            "type": "heatmapgl"
           }
          ],
          "histogram": [
           {
            "marker": {
             "pattern": {
              "fillmode": "overlay",
              "size": 10,
              "solidity": 0.2
             }
            },
            "type": "histogram"
           }
          ],
          "histogram2d": [
           {
            "colorbar": {
             "outlinewidth": 0,
             "ticks": ""
            },
            "colorscale": [
             [
              0,
              "#0d0887"
             ],
             [
              0.1111111111111111,
              "#46039f"
             ],
             [
              0.2222222222222222,
              "#7201a8"
             ],
             [
              0.3333333333333333,
              "#9c179e"
             ],
             [
              0.4444444444444444,
              "#bd3786"
             ],
             [
              0.5555555555555556,
              "#d8576b"
             ],
             [
              0.6666666666666666,
              "#ed7953"
             ],
             [
              0.7777777777777778,
              "#fb9f3a"
             ],
             [
              0.8888888888888888,
              "#fdca26"
             ],
             [
              1,
              "#f0f921"
             ]
            ],
            "type": "histogram2d"
           }
          ],
          "histogram2dcontour": [
           {
            "colorbar": {
             "outlinewidth": 0,
             "ticks": ""
            },
            "colorscale": [
             [
              0,
              "#0d0887"
             ],
             [
              0.1111111111111111,
              "#46039f"
             ],
             [
              0.2222222222222222,
              "#7201a8"
             ],
             [
              0.3333333333333333,
              "#9c179e"
             ],
             [
              0.4444444444444444,
              "#bd3786"
             ],
             [
              0.5555555555555556,
              "#d8576b"
             ],
             [
              0.6666666666666666,
              "#ed7953"
             ],
             [
              0.7777777777777778,
              "#fb9f3a"
             ],
             [
              0.8888888888888888,
              "#fdca26"
             ],
             [
              1,
              "#f0f921"
             ]
            ],
            "type": "histogram2dcontour"
           }
          ],
          "mesh3d": [
           {
            "colorbar": {
             "outlinewidth": 0,
             "ticks": ""
            },
            "type": "mesh3d"
           }
          ],
          "parcoords": [
           {
            "line": {
             "colorbar": {
              "outlinewidth": 0,
              "ticks": ""
             }
            },
            "type": "parcoords"
           }
          ],
          "pie": [
           {
            "automargin": true,
            "type": "pie"
           }
          ],
          "scatter": [
           {
            "fillpattern": {
             "fillmode": "overlay",
             "size": 10,
             "solidity": 0.2
            },
            "type": "scatter"
           }
          ],
          "scatter3d": [
           {
            "line": {
             "colorbar": {
              "outlinewidth": 0,
              "ticks": ""
             }
            },
            "marker": {
             "colorbar": {
              "outlinewidth": 0,
              "ticks": ""
             }
            },
            "type": "scatter3d"
           }
          ],
          "scattercarpet": [
           {
            "marker": {
             "colorbar": {
              "outlinewidth": 0,
              "ticks": ""
             }
            },
            "type": "scattercarpet"
           }
          ],
          "scattergeo": [
           {
            "marker": {
             "colorbar": {
              "outlinewidth": 0,
              "ticks": ""
             }
            },
            "type": "scattergeo"
           }
          ],
          "scattergl": [
           {
            "marker": {
             "colorbar": {
              "outlinewidth": 0,
              "ticks": ""
             }
            },
            "type": "scattergl"
           }
          ],
          "scattermapbox": [
           {
            "marker": {
             "colorbar": {
              "outlinewidth": 0,
              "ticks": ""
             }
            },
            "type": "scattermapbox"
           }
          ],
          "scatterpolar": [
           {
            "marker": {
             "colorbar": {
              "outlinewidth": 0,
              "ticks": ""
             }
            },
            "type": "scatterpolar"
           }
          ],
          "scatterpolargl": [
           {
            "marker": {
             "colorbar": {
              "outlinewidth": 0,
              "ticks": ""
             }
            },
            "type": "scatterpolargl"
           }
          ],
          "scatterternary": [
           {
            "marker": {
             "colorbar": {
              "outlinewidth": 0,
              "ticks": ""
             }
            },
            "type": "scatterternary"
           }
          ],
          "surface": [
           {
            "colorbar": {
             "outlinewidth": 0,
             "ticks": ""
            },
            "colorscale": [
             [
              0,
              "#0d0887"
             ],
             [
              0.1111111111111111,
              "#46039f"
             ],
             [
              0.2222222222222222,
              "#7201a8"
             ],
             [
              0.3333333333333333,
              "#9c179e"
             ],
             [
              0.4444444444444444,
              "#bd3786"
             ],
             [
              0.5555555555555556,
              "#d8576b"
             ],
             [
              0.6666666666666666,
              "#ed7953"
             ],
             [
              0.7777777777777778,
              "#fb9f3a"
             ],
             [
              0.8888888888888888,
              "#fdca26"
             ],
             [
              1,
              "#f0f921"
             ]
            ],
            "type": "surface"
           }
          ],
          "table": [
           {
            "cells": {
             "fill": {
              "color": "#EBF0F8"
             },
             "line": {
              "color": "white"
             }
            },
            "header": {
             "fill": {
              "color": "#C8D4E3"
             },
             "line": {
              "color": "white"
             }
            },
            "type": "table"
           }
          ]
         },
         "layout": {
          "annotationdefaults": {
           "arrowcolor": "#2a3f5f",
           "arrowhead": 0,
           "arrowwidth": 1
          },
          "autotypenumbers": "strict",
          "coloraxis": {
           "colorbar": {
            "outlinewidth": 0,
            "ticks": ""
           }
          },
          "colorscale": {
           "diverging": [
            [
             0,
             "#8e0152"
            ],
            [
             0.1,
             "#c51b7d"
            ],
            [
             0.2,
             "#de77ae"
            ],
            [
             0.3,
             "#f1b6da"
            ],
            [
             0.4,
             "#fde0ef"
            ],
            [
             0.5,
             "#f7f7f7"
            ],
            [
             0.6,
             "#e6f5d0"
            ],
            [
             0.7,
             "#b8e186"
            ],
            [
             0.8,
             "#7fbc41"
            ],
            [
             0.9,
             "#4d9221"
            ],
            [
             1,
             "#276419"
            ]
           ],
           "sequential": [
            [
             0,
             "#0d0887"
            ],
            [
             0.1111111111111111,
             "#46039f"
            ],
            [
             0.2222222222222222,
             "#7201a8"
            ],
            [
             0.3333333333333333,
             "#9c179e"
            ],
            [
             0.4444444444444444,
             "#bd3786"
            ],
            [
             0.5555555555555556,
             "#d8576b"
            ],
            [
             0.6666666666666666,
             "#ed7953"
            ],
            [
             0.7777777777777778,
             "#fb9f3a"
            ],
            [
             0.8888888888888888,
             "#fdca26"
            ],
            [
             1,
             "#f0f921"
            ]
           ],
           "sequentialminus": [
            [
             0,
             "#0d0887"
            ],
            [
             0.1111111111111111,
             "#46039f"
            ],
            [
             0.2222222222222222,
             "#7201a8"
            ],
            [
             0.3333333333333333,
             "#9c179e"
            ],
            [
             0.4444444444444444,
             "#bd3786"
            ],
            [
             0.5555555555555556,
             "#d8576b"
            ],
            [
             0.6666666666666666,
             "#ed7953"
            ],
            [
             0.7777777777777778,
             "#fb9f3a"
            ],
            [
             0.8888888888888888,
             "#fdca26"
            ],
            [
             1,
             "#f0f921"
            ]
           ]
          },
          "colorway": [
           "#636efa",
           "#EF553B",
           "#00cc96",
           "#ab63fa",
           "#FFA15A",
           "#19d3f3",
           "#FF6692",
           "#B6E880",
           "#FF97FF",
           "#FECB52"
          ],
          "font": {
           "color": "#2a3f5f"
          },
          "geo": {
           "bgcolor": "white",
           "lakecolor": "white",
           "landcolor": "#E5ECF6",
           "showlakes": true,
           "showland": true,
           "subunitcolor": "white"
          },
          "hoverlabel": {
           "align": "left"
          },
          "hovermode": "closest",
          "mapbox": {
           "style": "light"
          },
          "paper_bgcolor": "white",
          "plot_bgcolor": "#E5ECF6",
          "polar": {
           "angularaxis": {
            "gridcolor": "white",
            "linecolor": "white",
            "ticks": ""
           },
           "bgcolor": "#E5ECF6",
           "radialaxis": {
            "gridcolor": "white",
            "linecolor": "white",
            "ticks": ""
           }
          },
          "scene": {
           "xaxis": {
            "backgroundcolor": "#E5ECF6",
            "gridcolor": "white",
            "gridwidth": 2,
            "linecolor": "white",
            "showbackground": true,
            "ticks": "",
            "zerolinecolor": "white"
           },
           "yaxis": {
            "backgroundcolor": "#E5ECF6",
            "gridcolor": "white",
            "gridwidth": 2,
            "linecolor": "white",
            "showbackground": true,
            "ticks": "",
            "zerolinecolor": "white"
           },
           "zaxis": {
            "backgroundcolor": "#E5ECF6",
            "gridcolor": "white",
            "gridwidth": 2,
            "linecolor": "white",
            "showbackground": true,
            "ticks": "",
            "zerolinecolor": "white"
           }
          },
          "shapedefaults": {
           "line": {
            "color": "#2a3f5f"
           }
          },
          "ternary": {
           "aaxis": {
            "gridcolor": "white",
            "linecolor": "white",
            "ticks": ""
           },
           "baxis": {
            "gridcolor": "white",
            "linecolor": "white",
            "ticks": ""
           },
           "bgcolor": "#E5ECF6",
           "caxis": {
            "gridcolor": "white",
            "linecolor": "white",
            "ticks": ""
           }
          },
          "title": {
           "x": 0.05
          },
          "xaxis": {
           "automargin": true,
           "gridcolor": "white",
           "linecolor": "white",
           "ticks": "",
           "title": {
            "standoff": 15
           },
           "zerolinecolor": "white",
           "zerolinewidth": 2
          },
          "yaxis": {
           "automargin": true,
           "gridcolor": "white",
           "linecolor": "white",
           "ticks": "",
           "title": {
            "standoff": 15
           },
           "zerolinecolor": "white",
           "zerolinewidth": 2
          }
         }
        },
        "title": {
         "text": "ManufacturingProcess Grouped by Keyword and Product-Ingredient Combinations"
        }
       }
      }
     },
     "metadata": {},
     "output_type": "display_data"
    }
   ],
   "source": [
    "import pandas as pd\n",
    "import plotly.graph_objects as go\n",
    "\n",
    "query = \"\"\"\n",
    "MATCH (r:Recipe)-[:HAS_MANUFACTURING_PROCESS]->(mp:ManufacturingProcess)\n",
    "MATCH (p:Product)-[:HAS_RECIPE]->(r)\n",
    "MATCH (r)-[:USES_INGREDIENT]->(i:Ingredient)\n",
    "RETURN mp.Step AS ManufacturingProcessStep, \n",
    "       mp.Description AS ManufacturingProcessDescription,\n",
    "       r.ingredients_orig AS Recipe, \n",
    "       p.name AS Product,\n",
    "       i.name AS Ingredient\n",
    "\"\"\"\n",
    "\n",
    "# Retrieve data from Neo4j\n",
    "with driver.session() as session:\n",
    "    result = session.run(query)\n",
    "    neo4j_data = [record.data() for record in result]\n",
    "\n",
    "# Create DataFrame from neo4j_data\n",
    "df = pd.DataFrame(neo4j_data)\n",
    "\n",
    "# Define keyword groups\n",
    "keyword_groups = {\n",
    "    'group1': ['water', 'sugar'],\n",
    "    'group2': ['water', 'and']\n",
    "}\n",
    "\n",
    "# Function to check if a description contains all keywords in a group\n",
    "def check_keywords(description, keywords):\n",
    "    return all(kw.lower() in str(description).lower() for kw in keywords) if pd.notnull(description) else False\n",
    "\n",
    "# Create a function to assign group\n",
    "def assign_group(description):\n",
    "    for group_name, keywords in keyword_groups.items():\n",
    "        if check_keywords(description, keywords):\n",
    "            return group_name\n",
    "    return None\n",
    "\n",
    "# Apply the function to create the Group column\n",
    "df['Group'] = df['ManufacturingProcessDescription'].apply(assign_group)\n",
    "\n",
    "# Create a function to assign combined group\n",
    "def assign_combined_group(row):\n",
    "    return f\"{row['Product']}_{row['Ingredient']}\" if pd.notnull(row['Product']) and pd.notnull(row['Ingredient']) else None\n",
    "\n",
    "# Apply the function to create the CombinedGroup column\n",
    "df['CombinedGroup'] = df.apply(assign_combined_group, axis=1)\n",
    "\n",
    "# Filter rows that belong to any group\n",
    "filtered_df = df.dropna(subset=['Group', 'CombinedGroup'])\n",
    "\n",
    "# create the Plotly table\n",
    "fig_data = [go.Table(\n",
    "    header=dict(values=['Step', 'Description', 'Recipe', 'Product', 'Ingredient', 'Group', 'CombinedGroup']),\n",
    "    cells=dict(values=[filtered_df['ManufacturingProcessStep'], \n",
    "                       filtered_df['ManufacturingProcessDescription'], \n",
    "                       filtered_df['Recipe'], \n",
    "                       filtered_df['Product'],\n",
    "                       filtered_df['Ingredient'],\n",
    "                       filtered_df['Group'],\n",
    "                       filtered_df['CombinedGroup']])\n",
    ")]\n",
    "\n",
    "# set up layout\n",
    "fig_layout = go.Layout(\n",
    "    title='ManufacturingProcess Grouped by Keyword and Product-Ingredient Combinations'\n",
    ")\n",
    "\n",
    "fig = go.Figure(data=fig_data, layout=fig_layout)\n",
    "fig.show()"
   ]
  },
  {
   "cell_type": "code",
   "execution_count": 6,
   "metadata": {},
   "outputs": [
    {
     "data": {
      "application/vnd.plotly.v1+json": {
       "config": {
        "plotlyServerURL": "https://plot.ly"
       },
       "data": [
        {
         "cells": {
          "values": [
           [
            "Step 6",
            "Step 7",
            "Step 2",
            "Step 1",
            "Step 1",
            "Step 6",
            "Step 7",
            "Step 6",
            "Step 7",
            "Step 6",
            "Step 7",
            "Step 1",
            "Step 6",
            "Step 7",
            "Step 6",
            "Step 7",
            "Step 6",
            "Step 7",
            "Step 6",
            "Step 7",
            "Step 6",
            "Step 7",
            "Step 6",
            "Step 7",
            "Step 6",
            "Step 7",
            "Step 6",
            "Step 7",
            "Step 6",
            "Step 7",
            "Step 6",
            "Step 7",
            "Step 1",
            "Step 6",
            "Step 7",
            "Step 6",
            "Step 7",
            "Step 6",
            "Step 7",
            "Step 6",
            "Step 7",
            "Step 6",
            "Step 7",
            "Step 6",
            "Step 7",
            "Step 6",
            "Step 7",
            "Step 6",
            "Step 7",
            "Step 2",
            "Step 1",
            "Step 3",
            "Step 3",
            "Step 1",
            "Step 6",
            "Step 7",
            "Step 6",
            "Step 7",
            "Step 6",
            "Step 7",
            "Step 6",
            "Step 7",
            "Step 6",
            "Step 7",
            "Step 6",
            "Step 7",
            "Step 6",
            "Step 7",
            "Step 6",
            "Step 7",
            "Step 6",
            "Step 7",
            "Step 6",
            "Step 7",
            "Step 6",
            "Step 7",
            "Step 6",
            "Step 7",
            "Step 6",
            "Step 7",
            "Step 6",
            "Step 7",
            "Step 6",
            "Step 7",
            "Step 2",
            "Step 2",
            "Step 1",
            "Step 1",
            "Step 3",
            "Step 3",
            "Step 1",
            "Step 2",
            "Step 2",
            "Step 2",
            "Step 2",
            "Step 2",
            "Step 2",
            "Step 2",
            "Step 2",
            "Step 2",
            "Step 2",
            "Step 1",
            "Step 1",
            "Step 1",
            "Step 1",
            "Step 1",
            "Step 1",
            "Step 1",
            "Step 1",
            "Step 1",
            "Step 1",
            "Step 1",
            "Step 1",
            "Step 1",
            "Step 3",
            "Step 3",
            "Step 1",
            "Step 1",
            "Step 1",
            "Step 1",
            "Step 1",
            "Step 1",
            "Step 1",
            "Step 1",
            "Step 3",
            "Step 3",
            "Step 1",
            "Step 3",
            "Step 3",
            "Step 1",
            "Step 3",
            "Step 3",
            "Step 1",
            "Step 1"
           ],
           [
            "Step 6: The sweet soy sauce is made by mixing sugar, water, salt, wheat, soy bean, spices, and sesame oil.",
            "Step 7: The chilli sauce is made by mixing chilli, water, sugar, salt, tapioca starch, acidity regulators, herbs, flavour enhancers, flavours, and preservatives.",
            "Step 2: Combining the fruit juices and purées with water, sugar, food acids, vitamin C, natural flavors, and pectin.",
            "Step 1: Canola oil, water, sugar, and vinegar are mixed together in a large vat.",
            "Step 1: Preparation of Jelly - Water, sugar, and gelling agents are combined and heated to dissolve the sugar and activate the gelling agents.",
            "Step 6: The sweet soy sauce is made by mixing sugar, water, salt, wheat, soy bean, spices, and sesame oil.",
            "Step 7: The chilli sauce is made by mixing chilli, water, sugar, salt, tapioca starch, acidity regulators, herbs, flavour enhancers, flavours, and preservatives.",
            "Step 6: The sweet soy sauce is made by mixing sugar, water, salt, wheat, soy bean, spices, and sesame oil.",
            "Step 7: The chilli sauce is made by mixing chilli, water, sugar, salt, tapioca starch, acidity regulators, herbs, flavour enhancers, flavours, and preservatives.",
            "Step 6: The sweet soy sauce is made by mixing sugar, water, salt, wheat, soy bean, spices, and sesame oil.",
            "Step 7: The chilli sauce is made by mixing chilli, water, sugar, salt, tapioca starch, acidity regulators, herbs, flavour enhancers, flavours, and preservatives.",
            "Step 1: Canola oil, water, sugar, and vinegar are mixed together in a large vat.",
            "Step 6: The sweet soy sauce is made by mixing sugar, water, salt, wheat, soy bean, spices, and sesame oil.",
            "Step 7: The chilli sauce is made by mixing chilli, water, sugar, salt, tapioca starch, acidity regulators, herbs, flavour enhancers, flavours, and preservatives.",
            "Step 6: The sweet soy sauce is made by mixing sugar, water, salt, wheat, soy bean, spices, and sesame oil.",
            "Step 7: The chilli sauce is made by mixing chilli, water, sugar, salt, tapioca starch, acidity regulators, herbs, flavour enhancers, flavours, and preservatives.",
            "Step 6: The sweet soy sauce is made by mixing sugar, water, salt, wheat, soy bean, spices, and sesame oil.",
            "Step 7: The chilli sauce is made by mixing chilli, water, sugar, salt, tapioca starch, acidity regulators, herbs, flavour enhancers, flavours, and preservatives.",
            "Step 6: The sweet soy sauce is made by mixing sugar, water, salt, wheat, soy bean, spices, and sesame oil.",
            "Step 7: The chilli sauce is made by mixing chilli, water, sugar, salt, tapioca starch, acidity regulators, herbs, flavour enhancers, flavours, and preservatives.",
            "Step 6: The sweet soy sauce is made by mixing sugar, water, salt, wheat, soy bean, spices, and sesame oil.",
            "Step 7: The chilli sauce is made by mixing chilli, water, sugar, salt, tapioca starch, acidity regulators, herbs, flavour enhancers, flavours, and preservatives.",
            "Step 6: The sweet soy sauce is made by mixing sugar, water, salt, wheat, soy bean, spices, and sesame oil.",
            "Step 7: The chilli sauce is made by mixing chilli, water, sugar, salt, tapioca starch, acidity regulators, herbs, flavour enhancers, flavours, and preservatives.",
            "Step 6: The sweet soy sauce is made by mixing sugar, water, salt, wheat, soy bean, spices, and sesame oil.",
            "Step 7: The chilli sauce is made by mixing chilli, water, sugar, salt, tapioca starch, acidity regulators, herbs, flavour enhancers, flavours, and preservatives.",
            "Step 6: The sweet soy sauce is made by mixing sugar, water, salt, wheat, soy bean, spices, and sesame oil.",
            "Step 7: The chilli sauce is made by mixing chilli, water, sugar, salt, tapioca starch, acidity regulators, herbs, flavour enhancers, flavours, and preservatives.",
            "Step 6: The sweet soy sauce is made by mixing sugar, water, salt, wheat, soy bean, spices, and sesame oil.",
            "Step 7: The chilli sauce is made by mixing chilli, water, sugar, salt, tapioca starch, acidity regulators, herbs, flavour enhancers, flavours, and preservatives.",
            "Step 6: The sweet soy sauce is made by mixing sugar, water, salt, wheat, soy bean, spices, and sesame oil.",
            "Step 7: The chilli sauce is made by mixing chilli, water, sugar, salt, tapioca starch, acidity regulators, herbs, flavour enhancers, flavours, and preservatives.",
            "Step 1: Canola oil, water, sugar, and vinegar are mixed together in a large vat.",
            "Step 6: The sweet soy sauce is made by mixing sugar, water, salt, wheat, soy bean, spices, and sesame oil.",
            "Step 7: The chilli sauce is made by mixing chilli, water, sugar, salt, tapioca starch, acidity regulators, herbs, flavour enhancers, flavours, and preservatives.",
            "Step 6: The sweet soy sauce is made by mixing sugar, water, salt, wheat, soy bean, spices, and sesame oil.",
            "Step 7: The chilli sauce is made by mixing chilli, water, sugar, salt, tapioca starch, acidity regulators, herbs, flavour enhancers, flavours, and preservatives.",
            "Step 6: The sweet soy sauce is made by mixing sugar, water, salt, wheat, soy bean, spices, and sesame oil.",
            "Step 7: The chilli sauce is made by mixing chilli, water, sugar, salt, tapioca starch, acidity regulators, herbs, flavour enhancers, flavours, and preservatives.",
            "Step 6: The sweet soy sauce is made by mixing sugar, water, salt, wheat, soy bean, spices, and sesame oil.",
            "Step 7: The chilli sauce is made by mixing chilli, water, sugar, salt, tapioca starch, acidity regulators, herbs, flavour enhancers, flavours, and preservatives.",
            "Step 6: The sweet soy sauce is made by mixing sugar, water, salt, wheat, soy bean, spices, and sesame oil.",
            "Step 7: The chilli sauce is made by mixing chilli, water, sugar, salt, tapioca starch, acidity regulators, herbs, flavour enhancers, flavours, and preservatives.",
            "Step 6: The sweet soy sauce is made by mixing sugar, water, salt, wheat, soy bean, spices, and sesame oil.",
            "Step 7: The chilli sauce is made by mixing chilli, water, sugar, salt, tapioca starch, acidity regulators, herbs, flavour enhancers, flavours, and preservatives.",
            "Step 6: The sweet soy sauce is made by mixing sugar, water, salt, wheat, soy bean, spices, and sesame oil.",
            "Step 7: The chilli sauce is made by mixing chilli, water, sugar, salt, tapioca starch, acidity regulators, herbs, flavour enhancers, flavours, and preservatives.",
            "Step 6: The sweet soy sauce is made by mixing sugar, water, salt, wheat, soy bean, spices, and sesame oil.",
            "Step 7: The chilli sauce is made by mixing chilli, water, sugar, salt, tapioca starch, acidity regulators, herbs, flavour enhancers, flavours, and preservatives.",
            "Step 2: Combining the fruit juices and purées with water, sugar, food acids, vitamin C, natural flavors, and pectin.",
            "Step 1: Canola oil, water, sugar, and vinegar are mixed together in a large vat.",
            "Step 3: The fruit puree is mixed with reconstituted refined juice (made from concentrated pear juice, water, antioxidant (ascorbic acid), and acidity regulator (citric acid))",
            "Step 3: The fruit puree is mixed with reconstituted refined juice (made from concentrated pear juice, water, antioxidant (ascorbic acid), and acidity regulator (citric acid))",
            "Step 1: Preparation of Jelly - Water, sugar, and gelling agents are combined and heated to dissolve the sugar and activate the gelling agents.",
            "Step 6: The sweet soy sauce is made by mixing sugar, water, salt, wheat, soy bean, spices, and sesame oil.",
            "Step 7: The chilli sauce is made by mixing chilli, water, sugar, salt, tapioca starch, acidity regulators, herbs, flavour enhancers, flavours, and preservatives.",
            "Step 6: The sweet soy sauce is made by mixing sugar, water, salt, wheat, soy bean, spices, and sesame oil.",
            "Step 7: The chilli sauce is made by mixing chilli, water, sugar, salt, tapioca starch, acidity regulators, herbs, flavour enhancers, flavours, and preservatives.",
            "Step 6: The sweet soy sauce is made by mixing sugar, water, salt, wheat, soy bean, spices, and sesame oil.",
            "Step 7: The chilli sauce is made by mixing chilli, water, sugar, salt, tapioca starch, acidity regulators, herbs, flavour enhancers, flavours, and preservatives.",
            "Step 6: The sweet soy sauce is made by mixing sugar, water, salt, wheat, soy bean, spices, and sesame oil.",
            "Step 7: The chilli sauce is made by mixing chilli, water, sugar, salt, tapioca starch, acidity regulators, herbs, flavour enhancers, flavours, and preservatives.",
            "Step 6: The sweet soy sauce is made by mixing sugar, water, salt, wheat, soy bean, spices, and sesame oil.",
            "Step 7: The chilli sauce is made by mixing chilli, water, sugar, salt, tapioca starch, acidity regulators, herbs, flavour enhancers, flavours, and preservatives.",
            "Step 6: The sweet soy sauce is made by mixing sugar, water, salt, wheat, soy bean, spices, and sesame oil.",
            "Step 7: The chilli sauce is made by mixing chilli, water, sugar, salt, tapioca starch, acidity regulators, herbs, flavour enhancers, flavours, and preservatives.",
            "Step 6: The sweet soy sauce is made by mixing sugar, water, salt, wheat, soy bean, spices, and sesame oil.",
            "Step 7: The chilli sauce is made by mixing chilli, water, sugar, salt, tapioca starch, acidity regulators, herbs, flavour enhancers, flavours, and preservatives.",
            "Step 6: The sweet soy sauce is made by mixing sugar, water, salt, wheat, soy bean, spices, and sesame oil.",
            "Step 7: The chilli sauce is made by mixing chilli, water, sugar, salt, tapioca starch, acidity regulators, herbs, flavour enhancers, flavours, and preservatives.",
            "Step 6: The sweet soy sauce is made by mixing sugar, water, salt, wheat, soy bean, spices, and sesame oil.",
            "Step 7: The chilli sauce is made by mixing chilli, water, sugar, salt, tapioca starch, acidity regulators, herbs, flavour enhancers, flavours, and preservatives.",
            "Step 6: The sweet soy sauce is made by mixing sugar, water, salt, wheat, soy bean, spices, and sesame oil.",
            "Step 7: The chilli sauce is made by mixing chilli, water, sugar, salt, tapioca starch, acidity regulators, herbs, flavour enhancers, flavours, and preservatives.",
            "Step 6: The sweet soy sauce is made by mixing sugar, water, salt, wheat, soy bean, spices, and sesame oil.",
            "Step 7: The chilli sauce is made by mixing chilli, water, sugar, salt, tapioca starch, acidity regulators, herbs, flavour enhancers, flavours, and preservatives.",
            "Step 6: The sweet soy sauce is made by mixing sugar, water, salt, wheat, soy bean, spices, and sesame oil.",
            "Step 7: The chilli sauce is made by mixing chilli, water, sugar, salt, tapioca starch, acidity regulators, herbs, flavour enhancers, flavours, and preservatives.",
            "Step 6: The sweet soy sauce is made by mixing sugar, water, salt, wheat, soy bean, spices, and sesame oil.",
            "Step 7: The chilli sauce is made by mixing chilli, water, sugar, salt, tapioca starch, acidity regulators, herbs, flavour enhancers, flavours, and preservatives.",
            "Step 6: The sweet soy sauce is made by mixing sugar, water, salt, wheat, soy bean, spices, and sesame oil.",
            "Step 7: The chilli sauce is made by mixing chilli, water, sugar, salt, tapioca starch, acidity regulators, herbs, flavour enhancers, flavours, and preservatives.",
            "Step 6: The sweet soy sauce is made by mixing sugar, water, salt, wheat, soy bean, spices, and sesame oil.",
            "Step 7: The chilli sauce is made by mixing chilli, water, sugar, salt, tapioca starch, acidity regulators, herbs, flavour enhancers, flavours, and preservatives.",
            "Step 2: Combining the fruit juices and purées with water, sugar, food acids, vitamin C, natural flavors, and pectin.",
            "Step 2: Combining the fruit juices and purées with water, sugar, food acids, vitamin C, natural flavors, and pectin.",
            "Step 1: Canola oil, water, sugar, and vinegar are mixed together in a large vat.",
            "Step 1: Canola oil, water, sugar, and vinegar are mixed together in a large vat.",
            "Step 3: The fruit puree is mixed with reconstituted refined juice (made from concentrated pear juice, water, antioxidant (ascorbic acid), and acidity regulator (citric acid))",
            "Step 3: The fruit puree is mixed with reconstituted refined juice (made from concentrated pear juice, water, antioxidant (ascorbic acid), and acidity regulator (citric acid))",
            "Step 1: Preparation of Jelly - Water, sugar, and gelling agents are combined and heated to dissolve the sugar and activate the gelling agents.",
            "Step 2: Combining the fruit juices and purées with water, sugar, food acids, vitamin C, natural flavors, and pectin.",
            "Step 2: Combining the fruit juices and purées with water, sugar, food acids, vitamin C, natural flavors, and pectin.",
            "Step 2: Combining the fruit juices and purées with water, sugar, food acids, vitamin C, natural flavors, and pectin.",
            "Step 2: Combining the fruit juices and purées with water, sugar, food acids, vitamin C, natural flavors, and pectin.",
            "Step 2: Combining the fruit juices and purées with water, sugar, food acids, vitamin C, natural flavors, and pectin.",
            "Step 2: Combining the fruit juices and purées with water, sugar, food acids, vitamin C, natural flavors, and pectin.",
            "Step 2: Combining the fruit juices and purées with water, sugar, food acids, vitamin C, natural flavors, and pectin.",
            "Step 2: Combining the fruit juices and purées with water, sugar, food acids, vitamin C, natural flavors, and pectin.",
            "Step 2: Combining the fruit juices and purées with water, sugar, food acids, vitamin C, natural flavors, and pectin.",
            "Step 2: Combining the fruit juices and purées with water, sugar, food acids, vitamin C, natural flavors, and pectin.",
            "Step 1: Canola oil, water, sugar, and vinegar are mixed together in a large vat.",
            "Step 1: Canola oil, water, sugar, and vinegar are mixed together in a large vat.",
            "Step 1: Canola oil, water, sugar, and vinegar are mixed together in a large vat.",
            "Step 1: Canola oil, water, sugar, and vinegar are mixed together in a large vat.",
            "Step 1: Canola oil, water, sugar, and vinegar are mixed together in a large vat.",
            "Step 1: Canola oil, water, sugar, and vinegar are mixed together in a large vat.",
            "Step 1: Preparation of Jelly - Water, sugar, and gelling agents are combined and heated to dissolve the sugar and activate the gelling agents.",
            "Step 1: Canola oil, water, sugar, and vinegar are mixed together in a large vat.",
            "Step 1: Preparation of Jelly - Water, sugar, and gelling agents are combined and heated to dissolve the sugar and activate the gelling agents.",
            "Step 1: Canola oil, water, sugar, and vinegar are mixed together in a large vat.",
            "Step 1: Canola oil, water, sugar, and vinegar are mixed together in a large vat.",
            "Step 1: Canola oil, water, sugar, and vinegar are mixed together in a large vat.",
            "Step 1: Canola oil, water, sugar, and vinegar are mixed together in a large vat.",
            "Step 3: The fruit puree is mixed with reconstituted refined juice (made from concentrated pear juice, water, antioxidant (ascorbic acid), and acidity regulator (citric acid))",
            "Step 3: The fruit puree is mixed with reconstituted refined juice (made from concentrated pear juice, water, antioxidant (ascorbic acid), and acidity regulator (citric acid))",
            "Step 1: Preparation of Jelly - Water, sugar, and gelling agents are combined and heated to dissolve the sugar and activate the gelling agents.",
            "Step 1: Preparation of Jelly - Water, sugar, and gelling agents are combined and heated to dissolve the sugar and activate the gelling agents.",
            "Step 1: Preparation of Jelly - Water, sugar, and gelling agents are combined and heated to dissolve the sugar and activate the gelling agents.",
            "Step 1: Preparation of Jelly - Water, sugar, and gelling agents are combined and heated to dissolve the sugar and activate the gelling agents.",
            "Step 1: Preparation of Jelly - Water, sugar, and gelling agents are combined and heated to dissolve the sugar and activate the gelling agents.",
            "Step 1: Preparation of Jelly - Water, sugar, and gelling agents are combined and heated to dissolve the sugar and activate the gelling agents.",
            "Step 1: Preparation of Jelly - Water, sugar, and gelling agents are combined and heated to dissolve the sugar and activate the gelling agents.",
            "Step 1: Preparation of Jelly - Water, sugar, and gelling agents are combined and heated to dissolve the sugar and activate the gelling agents.",
            "Step 3: The fruit puree is mixed with reconstituted refined juice (made from concentrated pear juice, water, antioxidant (ascorbic acid), and acidity regulator (citric acid))",
            "Step 3: The fruit puree is mixed with reconstituted refined juice (made from concentrated pear juice, water, antioxidant (ascorbic acid), and acidity regulator (citric acid))",
            "Step 1: Preparation of Jelly - Water, sugar, and gelling agents are combined and heated to dissolve the sugar and activate the gelling agents.",
            "Step 3: The fruit puree is mixed with reconstituted refined juice (made from concentrated pear juice, water, antioxidant (ascorbic acid), and acidity regulator (citric acid))",
            "Step 3: The fruit puree is mixed with reconstituted refined juice (made from concentrated pear juice, water, antioxidant (ascorbic acid), and acidity regulator (citric acid))",
            "Step 1: Preparation of Jelly - Water, sugar, and gelling agents are combined and heated to dissolve the sugar and activate the gelling agents.",
            "Step 3: The fruit puree is mixed with reconstituted refined juice (made from concentrated pear juice, water, antioxidant (ascorbic acid), and acidity regulator (citric acid))",
            "Step 3: The fruit puree is mixed with reconstituted refined juice (made from concentrated pear juice, water, antioxidant (ascorbic acid), and acidity regulator (citric acid))",
            "Step 1: Preparation of Jelly - Water, sugar, and gelling agents are combined and heated to dissolve the sugar and activate the gelling agents.",
            "Step 1: Preparation of Jelly - Water, sugar, and gelling agents are combined and heated to dissolve the sugar and activate the gelling agents."
           ],
           [
            "Noodles: Wheat Flour (62%), Refined Palm Oil (Contains Antioxidant 319), Salt, Acidity Regulators (451, 501, 500), Thickener (412), Colour (101).<br>Seasoning Powder: Salt, Sugar, Flavour Enhancers (621, 631, 627), Garlic Powder, Onion Powder, Yeast Extract, Artificial Flavour, Pepper, Anti Caking Agent (551).<br>Seasoning Oil: Refined Palm Oil (Contains Antioxidant 319), Onion.<br>Sweet Soy Sauce: Sugar, Water, Salt, Wheat, Soy Bean, Spices, Sesame Oil.<br>Chilli Sauce: Chilli, Water, Sugar, Salt, Tapioca Starch, Acidity Regulators (260, 330), Herbs, Flavour Enhancers (621, 627, 631), Flavours, Preservatives 1211, 223). Fried Onion: Onion, Refined Palm Oil (Contains Antioxidant 319).",
            "Noodles: Wheat Flour (62%), Refined Palm Oil (Contains Antioxidant 319), Salt, Acidity Regulators (451, 501, 500), Thickener (412), Colour (101).<br>Seasoning Powder: Salt, Sugar, Flavour Enhancers (621, 631, 627), Garlic Powder, Onion Powder, Yeast Extract, Artificial Flavour, Pepper, Anti Caking Agent (551).<br>Seasoning Oil: Refined Palm Oil (Contains Antioxidant 319), Onion.<br>Sweet Soy Sauce: Sugar, Water, Salt, Wheat, Soy Bean, Spices, Sesame Oil.<br>Chilli Sauce: Chilli, Water, Sugar, Salt, Tapioca Starch, Acidity Regulators (260, 330), Herbs, Flavour Enhancers (621, 627, 631), Flavours, Preservatives 1211, 223). Fried Onion: Onion, Refined Palm Oil (Contains Antioxidant 319).",
            "Water, Reconstituted Fruit Juice (25%) (Apple or Pear, Pineapple, Orange or Water Extracted Orange, Peach Purée, Passionfruit), Sugar, Food Acids (Citric Acid, Potassium Citrate), Vitamin C, Natural Flavours, Stabiliser (Pectin).",
            "Canola Oil, Water, Sugar, Vinegar, Thickener (1422, Xanthan Gum), Free Range Egg Yolk,  Gherkin, Salt, Onion Powder, Natural Colour (Carotene, Paprika Oleoresins), Preservative (Potassium Sorbate), Dill, Acidity Regulator (Citric Acid), Herb Extract, Mustard Oil.",
            "Jelly (70%) (Water, Sugar, Gelling Agents (Carrageenan, Locust Bean Gum, Xanthan Gum), Acidity Regulators (Sodium Citrates, Potassium Citrates, Calcium Lactate, Malic Acid, Citric Acid), Natural Flavours (Pineapple, Mango), Natural Colours (Carotene, Paprika Oleoresins), Antioxidant (Ascorbic Acid)), Peach (15%), Pear (15%)",
            "Noodles: Wheat Flour (62%), Refined Palm Oil (Contains Antioxidant 319), Salt, Acidity Regulators (451, 501, 500), Thickener (412), Colour (101).<br>Seasoning Powder: Salt, Sugar, Flavour Enhancers (621, 631, 627), Garlic Powder, Onion Powder, Yeast Extract, Artificial Flavour, Pepper, Anti Caking Agent (551).<br>Seasoning Oil: Refined Palm Oil (Contains Antioxidant 319), Onion.<br>Sweet Soy Sauce: Sugar, Water, Salt, Wheat, Soy Bean, Spices, Sesame Oil.<br>Chilli Sauce: Chilli, Water, Sugar, Salt, Tapioca Starch, Acidity Regulators (260, 330), Herbs, Flavour Enhancers (621, 627, 631), Flavours, Preservatives 1211, 223). Fried Onion: Onion, Refined Palm Oil (Contains Antioxidant 319).",
            "Noodles: Wheat Flour (62%), Refined Palm Oil (Contains Antioxidant 319), Salt, Acidity Regulators (451, 501, 500), Thickener (412), Colour (101).<br>Seasoning Powder: Salt, Sugar, Flavour Enhancers (621, 631, 627), Garlic Powder, Onion Powder, Yeast Extract, Artificial Flavour, Pepper, Anti Caking Agent (551).<br>Seasoning Oil: Refined Palm Oil (Contains Antioxidant 319), Onion.<br>Sweet Soy Sauce: Sugar, Water, Salt, Wheat, Soy Bean, Spices, Sesame Oil.<br>Chilli Sauce: Chilli, Water, Sugar, Salt, Tapioca Starch, Acidity Regulators (260, 330), Herbs, Flavour Enhancers (621, 627, 631), Flavours, Preservatives 1211, 223). Fried Onion: Onion, Refined Palm Oil (Contains Antioxidant 319).",
            "Noodles: Wheat Flour (62%), Refined Palm Oil (Contains Antioxidant 319), Salt, Acidity Regulators (451, 501, 500), Thickener (412), Colour (101).<br>Seasoning Powder: Salt, Sugar, Flavour Enhancers (621, 631, 627), Garlic Powder, Onion Powder, Yeast Extract, Artificial Flavour, Pepper, Anti Caking Agent (551).<br>Seasoning Oil: Refined Palm Oil (Contains Antioxidant 319), Onion.<br>Sweet Soy Sauce: Sugar, Water, Salt, Wheat, Soy Bean, Spices, Sesame Oil.<br>Chilli Sauce: Chilli, Water, Sugar, Salt, Tapioca Starch, Acidity Regulators (260, 330), Herbs, Flavour Enhancers (621, 627, 631), Flavours, Preservatives 1211, 223). Fried Onion: Onion, Refined Palm Oil (Contains Antioxidant 319).",
            "Noodles: Wheat Flour (62%), Refined Palm Oil (Contains Antioxidant 319), Salt, Acidity Regulators (451, 501, 500), Thickener (412), Colour (101).<br>Seasoning Powder: Salt, Sugar, Flavour Enhancers (621, 631, 627), Garlic Powder, Onion Powder, Yeast Extract, Artificial Flavour, Pepper, Anti Caking Agent (551).<br>Seasoning Oil: Refined Palm Oil (Contains Antioxidant 319), Onion.<br>Sweet Soy Sauce: Sugar, Water, Salt, Wheat, Soy Bean, Spices, Sesame Oil.<br>Chilli Sauce: Chilli, Water, Sugar, Salt, Tapioca Starch, Acidity Regulators (260, 330), Herbs, Flavour Enhancers (621, 627, 631), Flavours, Preservatives 1211, 223). Fried Onion: Onion, Refined Palm Oil (Contains Antioxidant 319).",
            "Noodles: Wheat Flour (62%), Refined Palm Oil (Contains Antioxidant 319), Salt, Acidity Regulators (451, 501, 500), Thickener (412), Colour (101).<br>Seasoning Powder: Salt, Sugar, Flavour Enhancers (621, 631, 627), Garlic Powder, Onion Powder, Yeast Extract, Artificial Flavour, Pepper, Anti Caking Agent (551).<br>Seasoning Oil: Refined Palm Oil (Contains Antioxidant 319), Onion.<br>Sweet Soy Sauce: Sugar, Water, Salt, Wheat, Soy Bean, Spices, Sesame Oil.<br>Chilli Sauce: Chilli, Water, Sugar, Salt, Tapioca Starch, Acidity Regulators (260, 330), Herbs, Flavour Enhancers (621, 627, 631), Flavours, Preservatives 1211, 223). Fried Onion: Onion, Refined Palm Oil (Contains Antioxidant 319).",
            "Noodles: Wheat Flour (62%), Refined Palm Oil (Contains Antioxidant 319), Salt, Acidity Regulators (451, 501, 500), Thickener (412), Colour (101).<br>Seasoning Powder: Salt, Sugar, Flavour Enhancers (621, 631, 627), Garlic Powder, Onion Powder, Yeast Extract, Artificial Flavour, Pepper, Anti Caking Agent (551).<br>Seasoning Oil: Refined Palm Oil (Contains Antioxidant 319), Onion.<br>Sweet Soy Sauce: Sugar, Water, Salt, Wheat, Soy Bean, Spices, Sesame Oil.<br>Chilli Sauce: Chilli, Water, Sugar, Salt, Tapioca Starch, Acidity Regulators (260, 330), Herbs, Flavour Enhancers (621, 627, 631), Flavours, Preservatives 1211, 223). Fried Onion: Onion, Refined Palm Oil (Contains Antioxidant 319).",
            "Canola Oil, Water, Sugar, Vinegar, Thickener (1422, Xanthan Gum), Free Range Egg Yolk,  Gherkin, Salt, Onion Powder, Natural Colour (Carotene, Paprika Oleoresins), Preservative (Potassium Sorbate), Dill, Acidity Regulator (Citric Acid), Herb Extract, Mustard Oil.",
            "Noodles: Wheat Flour (62%), Refined Palm Oil (Contains Antioxidant 319), Salt, Acidity Regulators (451, 501, 500), Thickener (412), Colour (101).<br>Seasoning Powder: Salt, Sugar, Flavour Enhancers (621, 631, 627), Garlic Powder, Onion Powder, Yeast Extract, Artificial Flavour, Pepper, Anti Caking Agent (551).<br>Seasoning Oil: Refined Palm Oil (Contains Antioxidant 319), Onion.<br>Sweet Soy Sauce: Sugar, Water, Salt, Wheat, Soy Bean, Spices, Sesame Oil.<br>Chilli Sauce: Chilli, Water, Sugar, Salt, Tapioca Starch, Acidity Regulators (260, 330), Herbs, Flavour Enhancers (621, 627, 631), Flavours, Preservatives 1211, 223). Fried Onion: Onion, Refined Palm Oil (Contains Antioxidant 319).",
            "Noodles: Wheat Flour (62%), Refined Palm Oil (Contains Antioxidant 319), Salt, Acidity Regulators (451, 501, 500), Thickener (412), Colour (101).<br>Seasoning Powder: Salt, Sugar, Flavour Enhancers (621, 631, 627), Garlic Powder, Onion Powder, Yeast Extract, Artificial Flavour, Pepper, Anti Caking Agent (551).<br>Seasoning Oil: Refined Palm Oil (Contains Antioxidant 319), Onion.<br>Sweet Soy Sauce: Sugar, Water, Salt, Wheat, Soy Bean, Spices, Sesame Oil.<br>Chilli Sauce: Chilli, Water, Sugar, Salt, Tapioca Starch, Acidity Regulators (260, 330), Herbs, Flavour Enhancers (621, 627, 631), Flavours, Preservatives 1211, 223). Fried Onion: Onion, Refined Palm Oil (Contains Antioxidant 319).",
            "Noodles: Wheat Flour (62%), Refined Palm Oil (Contains Antioxidant 319), Salt, Acidity Regulators (451, 501, 500), Thickener (412), Colour (101).<br>Seasoning Powder: Salt, Sugar, Flavour Enhancers (621, 631, 627), Garlic Powder, Onion Powder, Yeast Extract, Artificial Flavour, Pepper, Anti Caking Agent (551).<br>Seasoning Oil: Refined Palm Oil (Contains Antioxidant 319), Onion.<br>Sweet Soy Sauce: Sugar, Water, Salt, Wheat, Soy Bean, Spices, Sesame Oil.<br>Chilli Sauce: Chilli, Water, Sugar, Salt, Tapioca Starch, Acidity Regulators (260, 330), Herbs, Flavour Enhancers (621, 627, 631), Flavours, Preservatives 1211, 223). Fried Onion: Onion, Refined Palm Oil (Contains Antioxidant 319).",
            "Noodles: Wheat Flour (62%), Refined Palm Oil (Contains Antioxidant 319), Salt, Acidity Regulators (451, 501, 500), Thickener (412), Colour (101).<br>Seasoning Powder: Salt, Sugar, Flavour Enhancers (621, 631, 627), Garlic Powder, Onion Powder, Yeast Extract, Artificial Flavour, Pepper, Anti Caking Agent (551).<br>Seasoning Oil: Refined Palm Oil (Contains Antioxidant 319), Onion.<br>Sweet Soy Sauce: Sugar, Water, Salt, Wheat, Soy Bean, Spices, Sesame Oil.<br>Chilli Sauce: Chilli, Water, Sugar, Salt, Tapioca Starch, Acidity Regulators (260, 330), Herbs, Flavour Enhancers (621, 627, 631), Flavours, Preservatives 1211, 223). Fried Onion: Onion, Refined Palm Oil (Contains Antioxidant 319).",
            "Noodles: Wheat Flour (62%), Refined Palm Oil (Contains Antioxidant 319), Salt, Acidity Regulators (451, 501, 500), Thickener (412), Colour (101).<br>Seasoning Powder: Salt, Sugar, Flavour Enhancers (621, 631, 627), Garlic Powder, Onion Powder, Yeast Extract, Artificial Flavour, Pepper, Anti Caking Agent (551).<br>Seasoning Oil: Refined Palm Oil (Contains Antioxidant 319), Onion.<br>Sweet Soy Sauce: Sugar, Water, Salt, Wheat, Soy Bean, Spices, Sesame Oil.<br>Chilli Sauce: Chilli, Water, Sugar, Salt, Tapioca Starch, Acidity Regulators (260, 330), Herbs, Flavour Enhancers (621, 627, 631), Flavours, Preservatives 1211, 223). Fried Onion: Onion, Refined Palm Oil (Contains Antioxidant 319).",
            "Noodles: Wheat Flour (62%), Refined Palm Oil (Contains Antioxidant 319), Salt, Acidity Regulators (451, 501, 500), Thickener (412), Colour (101).<br>Seasoning Powder: Salt, Sugar, Flavour Enhancers (621, 631, 627), Garlic Powder, Onion Powder, Yeast Extract, Artificial Flavour, Pepper, Anti Caking Agent (551).<br>Seasoning Oil: Refined Palm Oil (Contains Antioxidant 319), Onion.<br>Sweet Soy Sauce: Sugar, Water, Salt, Wheat, Soy Bean, Spices, Sesame Oil.<br>Chilli Sauce: Chilli, Water, Sugar, Salt, Tapioca Starch, Acidity Regulators (260, 330), Herbs, Flavour Enhancers (621, 627, 631), Flavours, Preservatives 1211, 223). Fried Onion: Onion, Refined Palm Oil (Contains Antioxidant 319).",
            "Noodles: Wheat Flour (62%), Refined Palm Oil (Contains Antioxidant 319), Salt, Acidity Regulators (451, 501, 500), Thickener (412), Colour (101).<br>Seasoning Powder: Salt, Sugar, Flavour Enhancers (621, 631, 627), Garlic Powder, Onion Powder, Yeast Extract, Artificial Flavour, Pepper, Anti Caking Agent (551).<br>Seasoning Oil: Refined Palm Oil (Contains Antioxidant 319), Onion.<br>Sweet Soy Sauce: Sugar, Water, Salt, Wheat, Soy Bean, Spices, Sesame Oil.<br>Chilli Sauce: Chilli, Water, Sugar, Salt, Tapioca Starch, Acidity Regulators (260, 330), Herbs, Flavour Enhancers (621, 627, 631), Flavours, Preservatives 1211, 223). Fried Onion: Onion, Refined Palm Oil (Contains Antioxidant 319).",
            "Noodles: Wheat Flour (62%), Refined Palm Oil (Contains Antioxidant 319), Salt, Acidity Regulators (451, 501, 500), Thickener (412), Colour (101).<br>Seasoning Powder: Salt, Sugar, Flavour Enhancers (621, 631, 627), Garlic Powder, Onion Powder, Yeast Extract, Artificial Flavour, Pepper, Anti Caking Agent (551).<br>Seasoning Oil: Refined Palm Oil (Contains Antioxidant 319), Onion.<br>Sweet Soy Sauce: Sugar, Water, Salt, Wheat, Soy Bean, Spices, Sesame Oil.<br>Chilli Sauce: Chilli, Water, Sugar, Salt, Tapioca Starch, Acidity Regulators (260, 330), Herbs, Flavour Enhancers (621, 627, 631), Flavours, Preservatives 1211, 223). Fried Onion: Onion, Refined Palm Oil (Contains Antioxidant 319).",
            "Noodles: Wheat Flour (62%), Refined Palm Oil (Contains Antioxidant 319), Salt, Acidity Regulators (451, 501, 500), Thickener (412), Colour (101).<br>Seasoning Powder: Salt, Sugar, Flavour Enhancers (621, 631, 627), Garlic Powder, Onion Powder, Yeast Extract, Artificial Flavour, Pepper, Anti Caking Agent (551).<br>Seasoning Oil: Refined Palm Oil (Contains Antioxidant 319), Onion.<br>Sweet Soy Sauce: Sugar, Water, Salt, Wheat, Soy Bean, Spices, Sesame Oil.<br>Chilli Sauce: Chilli, Water, Sugar, Salt, Tapioca Starch, Acidity Regulators (260, 330), Herbs, Flavour Enhancers (621, 627, 631), Flavours, Preservatives 1211, 223). Fried Onion: Onion, Refined Palm Oil (Contains Antioxidant 319).",
            "Noodles: Wheat Flour (62%), Refined Palm Oil (Contains Antioxidant 319), Salt, Acidity Regulators (451, 501, 500), Thickener (412), Colour (101).<br>Seasoning Powder: Salt, Sugar, Flavour Enhancers (621, 631, 627), Garlic Powder, Onion Powder, Yeast Extract, Artificial Flavour, Pepper, Anti Caking Agent (551).<br>Seasoning Oil: Refined Palm Oil (Contains Antioxidant 319), Onion.<br>Sweet Soy Sauce: Sugar, Water, Salt, Wheat, Soy Bean, Spices, Sesame Oil.<br>Chilli Sauce: Chilli, Water, Sugar, Salt, Tapioca Starch, Acidity Regulators (260, 330), Herbs, Flavour Enhancers (621, 627, 631), Flavours, Preservatives 1211, 223). Fried Onion: Onion, Refined Palm Oil (Contains Antioxidant 319).",
            "Noodles: Wheat Flour (62%), Refined Palm Oil (Contains Antioxidant 319), Salt, Acidity Regulators (451, 501, 500), Thickener (412), Colour (101).<br>Seasoning Powder: Salt, Sugar, Flavour Enhancers (621, 631, 627), Garlic Powder, Onion Powder, Yeast Extract, Artificial Flavour, Pepper, Anti Caking Agent (551).<br>Seasoning Oil: Refined Palm Oil (Contains Antioxidant 319), Onion.<br>Sweet Soy Sauce: Sugar, Water, Salt, Wheat, Soy Bean, Spices, Sesame Oil.<br>Chilli Sauce: Chilli, Water, Sugar, Salt, Tapioca Starch, Acidity Regulators (260, 330), Herbs, Flavour Enhancers (621, 627, 631), Flavours, Preservatives 1211, 223). Fried Onion: Onion, Refined Palm Oil (Contains Antioxidant 319).",
            "Noodles: Wheat Flour (62%), Refined Palm Oil (Contains Antioxidant 319), Salt, Acidity Regulators (451, 501, 500), Thickener (412), Colour (101).<br>Seasoning Powder: Salt, Sugar, Flavour Enhancers (621, 631, 627), Garlic Powder, Onion Powder, Yeast Extract, Artificial Flavour, Pepper, Anti Caking Agent (551).<br>Seasoning Oil: Refined Palm Oil (Contains Antioxidant 319), Onion.<br>Sweet Soy Sauce: Sugar, Water, Salt, Wheat, Soy Bean, Spices, Sesame Oil.<br>Chilli Sauce: Chilli, Water, Sugar, Salt, Tapioca Starch, Acidity Regulators (260, 330), Herbs, Flavour Enhancers (621, 627, 631), Flavours, Preservatives 1211, 223). Fried Onion: Onion, Refined Palm Oil (Contains Antioxidant 319).",
            "Noodles: Wheat Flour (62%), Refined Palm Oil (Contains Antioxidant 319), Salt, Acidity Regulators (451, 501, 500), Thickener (412), Colour (101).<br>Seasoning Powder: Salt, Sugar, Flavour Enhancers (621, 631, 627), Garlic Powder, Onion Powder, Yeast Extract, Artificial Flavour, Pepper, Anti Caking Agent (551).<br>Seasoning Oil: Refined Palm Oil (Contains Antioxidant 319), Onion.<br>Sweet Soy Sauce: Sugar, Water, Salt, Wheat, Soy Bean, Spices, Sesame Oil.<br>Chilli Sauce: Chilli, Water, Sugar, Salt, Tapioca Starch, Acidity Regulators (260, 330), Herbs, Flavour Enhancers (621, 627, 631), Flavours, Preservatives 1211, 223). Fried Onion: Onion, Refined Palm Oil (Contains Antioxidant 319).",
            "Noodles: Wheat Flour (62%), Refined Palm Oil (Contains Antioxidant 319), Salt, Acidity Regulators (451, 501, 500), Thickener (412), Colour (101).<br>Seasoning Powder: Salt, Sugar, Flavour Enhancers (621, 631, 627), Garlic Powder, Onion Powder, Yeast Extract, Artificial Flavour, Pepper, Anti Caking Agent (551).<br>Seasoning Oil: Refined Palm Oil (Contains Antioxidant 319), Onion.<br>Sweet Soy Sauce: Sugar, Water, Salt, Wheat, Soy Bean, Spices, Sesame Oil.<br>Chilli Sauce: Chilli, Water, Sugar, Salt, Tapioca Starch, Acidity Regulators (260, 330), Herbs, Flavour Enhancers (621, 627, 631), Flavours, Preservatives 1211, 223). Fried Onion: Onion, Refined Palm Oil (Contains Antioxidant 319).",
            "Noodles: Wheat Flour (62%), Refined Palm Oil (Contains Antioxidant 319), Salt, Acidity Regulators (451, 501, 500), Thickener (412), Colour (101).<br>Seasoning Powder: Salt, Sugar, Flavour Enhancers (621, 631, 627), Garlic Powder, Onion Powder, Yeast Extract, Artificial Flavour, Pepper, Anti Caking Agent (551).<br>Seasoning Oil: Refined Palm Oil (Contains Antioxidant 319), Onion.<br>Sweet Soy Sauce: Sugar, Water, Salt, Wheat, Soy Bean, Spices, Sesame Oil.<br>Chilli Sauce: Chilli, Water, Sugar, Salt, Tapioca Starch, Acidity Regulators (260, 330), Herbs, Flavour Enhancers (621, 627, 631), Flavours, Preservatives 1211, 223). Fried Onion: Onion, Refined Palm Oil (Contains Antioxidant 319).",
            "Noodles: Wheat Flour (62%), Refined Palm Oil (Contains Antioxidant 319), Salt, Acidity Regulators (451, 501, 500), Thickener (412), Colour (101).<br>Seasoning Powder: Salt, Sugar, Flavour Enhancers (621, 631, 627), Garlic Powder, Onion Powder, Yeast Extract, Artificial Flavour, Pepper, Anti Caking Agent (551).<br>Seasoning Oil: Refined Palm Oil (Contains Antioxidant 319), Onion.<br>Sweet Soy Sauce: Sugar, Water, Salt, Wheat, Soy Bean, Spices, Sesame Oil.<br>Chilli Sauce: Chilli, Water, Sugar, Salt, Tapioca Starch, Acidity Regulators (260, 330), Herbs, Flavour Enhancers (621, 627, 631), Flavours, Preservatives 1211, 223). Fried Onion: Onion, Refined Palm Oil (Contains Antioxidant 319).",
            "Noodles: Wheat Flour (62%), Refined Palm Oil (Contains Antioxidant 319), Salt, Acidity Regulators (451, 501, 500), Thickener (412), Colour (101).<br>Seasoning Powder: Salt, Sugar, Flavour Enhancers (621, 631, 627), Garlic Powder, Onion Powder, Yeast Extract, Artificial Flavour, Pepper, Anti Caking Agent (551).<br>Seasoning Oil: Refined Palm Oil (Contains Antioxidant 319), Onion.<br>Sweet Soy Sauce: Sugar, Water, Salt, Wheat, Soy Bean, Spices, Sesame Oil.<br>Chilli Sauce: Chilli, Water, Sugar, Salt, Tapioca Starch, Acidity Regulators (260, 330), Herbs, Flavour Enhancers (621, 627, 631), Flavours, Preservatives 1211, 223). Fried Onion: Onion, Refined Palm Oil (Contains Antioxidant 319).",
            "Noodles: Wheat Flour (62%), Refined Palm Oil (Contains Antioxidant 319), Salt, Acidity Regulators (451, 501, 500), Thickener (412), Colour (101).<br>Seasoning Powder: Salt, Sugar, Flavour Enhancers (621, 631, 627), Garlic Powder, Onion Powder, Yeast Extract, Artificial Flavour, Pepper, Anti Caking Agent (551).<br>Seasoning Oil: Refined Palm Oil (Contains Antioxidant 319), Onion.<br>Sweet Soy Sauce: Sugar, Water, Salt, Wheat, Soy Bean, Spices, Sesame Oil.<br>Chilli Sauce: Chilli, Water, Sugar, Salt, Tapioca Starch, Acidity Regulators (260, 330), Herbs, Flavour Enhancers (621, 627, 631), Flavours, Preservatives 1211, 223). Fried Onion: Onion, Refined Palm Oil (Contains Antioxidant 319).",
            "Noodles: Wheat Flour (62%), Refined Palm Oil (Contains Antioxidant 319), Salt, Acidity Regulators (451, 501, 500), Thickener (412), Colour (101).<br>Seasoning Powder: Salt, Sugar, Flavour Enhancers (621, 631, 627), Garlic Powder, Onion Powder, Yeast Extract, Artificial Flavour, Pepper, Anti Caking Agent (551).<br>Seasoning Oil: Refined Palm Oil (Contains Antioxidant 319), Onion.<br>Sweet Soy Sauce: Sugar, Water, Salt, Wheat, Soy Bean, Spices, Sesame Oil.<br>Chilli Sauce: Chilli, Water, Sugar, Salt, Tapioca Starch, Acidity Regulators (260, 330), Herbs, Flavour Enhancers (621, 627, 631), Flavours, Preservatives 1211, 223). Fried Onion: Onion, Refined Palm Oil (Contains Antioxidant 319).",
            "Noodles: Wheat Flour (62%), Refined Palm Oil (Contains Antioxidant 319), Salt, Acidity Regulators (451, 501, 500), Thickener (412), Colour (101).<br>Seasoning Powder: Salt, Sugar, Flavour Enhancers (621, 631, 627), Garlic Powder, Onion Powder, Yeast Extract, Artificial Flavour, Pepper, Anti Caking Agent (551).<br>Seasoning Oil: Refined Palm Oil (Contains Antioxidant 319), Onion.<br>Sweet Soy Sauce: Sugar, Water, Salt, Wheat, Soy Bean, Spices, Sesame Oil.<br>Chilli Sauce: Chilli, Water, Sugar, Salt, Tapioca Starch, Acidity Regulators (260, 330), Herbs, Flavour Enhancers (621, 627, 631), Flavours, Preservatives 1211, 223). Fried Onion: Onion, Refined Palm Oil (Contains Antioxidant 319).",
            "Canola Oil, Water, Sugar, Vinegar, Thickener (1422, Xanthan Gum), Free Range Egg Yolk,  Gherkin, Salt, Onion Powder, Natural Colour (Carotene, Paprika Oleoresins), Preservative (Potassium Sorbate), Dill, Acidity Regulator (Citric Acid), Herb Extract, Mustard Oil.",
            "Noodles: Wheat Flour (62%), Refined Palm Oil (Contains Antioxidant 319), Salt, Acidity Regulators (451, 501, 500), Thickener (412), Colour (101).<br>Seasoning Powder: Salt, Sugar, Flavour Enhancers (621, 631, 627), Garlic Powder, Onion Powder, Yeast Extract, Artificial Flavour, Pepper, Anti Caking Agent (551).<br>Seasoning Oil: Refined Palm Oil (Contains Antioxidant 319), Onion.<br>Sweet Soy Sauce: Sugar, Water, Salt, Wheat, Soy Bean, Spices, Sesame Oil.<br>Chilli Sauce: Chilli, Water, Sugar, Salt, Tapioca Starch, Acidity Regulators (260, 330), Herbs, Flavour Enhancers (621, 627, 631), Flavours, Preservatives 1211, 223). Fried Onion: Onion, Refined Palm Oil (Contains Antioxidant 319).",
            "Noodles: Wheat Flour (62%), Refined Palm Oil (Contains Antioxidant 319), Salt, Acidity Regulators (451, 501, 500), Thickener (412), Colour (101).<br>Seasoning Powder: Salt, Sugar, Flavour Enhancers (621, 631, 627), Garlic Powder, Onion Powder, Yeast Extract, Artificial Flavour, Pepper, Anti Caking Agent (551).<br>Seasoning Oil: Refined Palm Oil (Contains Antioxidant 319), Onion.<br>Sweet Soy Sauce: Sugar, Water, Salt, Wheat, Soy Bean, Spices, Sesame Oil.<br>Chilli Sauce: Chilli, Water, Sugar, Salt, Tapioca Starch, Acidity Regulators (260, 330), Herbs, Flavour Enhancers (621, 627, 631), Flavours, Preservatives 1211, 223). Fried Onion: Onion, Refined Palm Oil (Contains Antioxidant 319).",
            "Noodles: Wheat Flour (62%), Refined Palm Oil (Contains Antioxidant 319), Salt, Acidity Regulators (451, 501, 500), Thickener (412), Colour (101).<br>Seasoning Powder: Salt, Sugar, Flavour Enhancers (621, 631, 627), Garlic Powder, Onion Powder, Yeast Extract, Artificial Flavour, Pepper, Anti Caking Agent (551).<br>Seasoning Oil: Refined Palm Oil (Contains Antioxidant 319), Onion.<br>Sweet Soy Sauce: Sugar, Water, Salt, Wheat, Soy Bean, Spices, Sesame Oil.<br>Chilli Sauce: Chilli, Water, Sugar, Salt, Tapioca Starch, Acidity Regulators (260, 330), Herbs, Flavour Enhancers (621, 627, 631), Flavours, Preservatives 1211, 223). Fried Onion: Onion, Refined Palm Oil (Contains Antioxidant 319).",
            "Noodles: Wheat Flour (62%), Refined Palm Oil (Contains Antioxidant 319), Salt, Acidity Regulators (451, 501, 500), Thickener (412), Colour (101).<br>Seasoning Powder: Salt, Sugar, Flavour Enhancers (621, 631, 627), Garlic Powder, Onion Powder, Yeast Extract, Artificial Flavour, Pepper, Anti Caking Agent (551).<br>Seasoning Oil: Refined Palm Oil (Contains Antioxidant 319), Onion.<br>Sweet Soy Sauce: Sugar, Water, Salt, Wheat, Soy Bean, Spices, Sesame Oil.<br>Chilli Sauce: Chilli, Water, Sugar, Salt, Tapioca Starch, Acidity Regulators (260, 330), Herbs, Flavour Enhancers (621, 627, 631), Flavours, Preservatives 1211, 223). Fried Onion: Onion, Refined Palm Oil (Contains Antioxidant 319).",
            "Noodles: Wheat Flour (62%), Refined Palm Oil (Contains Antioxidant 319), Salt, Acidity Regulators (451, 501, 500), Thickener (412), Colour (101).<br>Seasoning Powder: Salt, Sugar, Flavour Enhancers (621, 631, 627), Garlic Powder, Onion Powder, Yeast Extract, Artificial Flavour, Pepper, Anti Caking Agent (551).<br>Seasoning Oil: Refined Palm Oil (Contains Antioxidant 319), Onion.<br>Sweet Soy Sauce: Sugar, Water, Salt, Wheat, Soy Bean, Spices, Sesame Oil.<br>Chilli Sauce: Chilli, Water, Sugar, Salt, Tapioca Starch, Acidity Regulators (260, 330), Herbs, Flavour Enhancers (621, 627, 631), Flavours, Preservatives 1211, 223). Fried Onion: Onion, Refined Palm Oil (Contains Antioxidant 319).",
            "Noodles: Wheat Flour (62%), Refined Palm Oil (Contains Antioxidant 319), Salt, Acidity Regulators (451, 501, 500), Thickener (412), Colour (101).<br>Seasoning Powder: Salt, Sugar, Flavour Enhancers (621, 631, 627), Garlic Powder, Onion Powder, Yeast Extract, Artificial Flavour, Pepper, Anti Caking Agent (551).<br>Seasoning Oil: Refined Palm Oil (Contains Antioxidant 319), Onion.<br>Sweet Soy Sauce: Sugar, Water, Salt, Wheat, Soy Bean, Spices, Sesame Oil.<br>Chilli Sauce: Chilli, Water, Sugar, Salt, Tapioca Starch, Acidity Regulators (260, 330), Herbs, Flavour Enhancers (621, 627, 631), Flavours, Preservatives 1211, 223). Fried Onion: Onion, Refined Palm Oil (Contains Antioxidant 319).",
            "Noodles: Wheat Flour (62%), Refined Palm Oil (Contains Antioxidant 319), Salt, Acidity Regulators (451, 501, 500), Thickener (412), Colour (101).<br>Seasoning Powder: Salt, Sugar, Flavour Enhancers (621, 631, 627), Garlic Powder, Onion Powder, Yeast Extract, Artificial Flavour, Pepper, Anti Caking Agent (551).<br>Seasoning Oil: Refined Palm Oil (Contains Antioxidant 319), Onion.<br>Sweet Soy Sauce: Sugar, Water, Salt, Wheat, Soy Bean, Spices, Sesame Oil.<br>Chilli Sauce: Chilli, Water, Sugar, Salt, Tapioca Starch, Acidity Regulators (260, 330), Herbs, Flavour Enhancers (621, 627, 631), Flavours, Preservatives 1211, 223). Fried Onion: Onion, Refined Palm Oil (Contains Antioxidant 319).",
            "Noodles: Wheat Flour (62%), Refined Palm Oil (Contains Antioxidant 319), Salt, Acidity Regulators (451, 501, 500), Thickener (412), Colour (101).<br>Seasoning Powder: Salt, Sugar, Flavour Enhancers (621, 631, 627), Garlic Powder, Onion Powder, Yeast Extract, Artificial Flavour, Pepper, Anti Caking Agent (551).<br>Seasoning Oil: Refined Palm Oil (Contains Antioxidant 319), Onion.<br>Sweet Soy Sauce: Sugar, Water, Salt, Wheat, Soy Bean, Spices, Sesame Oil.<br>Chilli Sauce: Chilli, Water, Sugar, Salt, Tapioca Starch, Acidity Regulators (260, 330), Herbs, Flavour Enhancers (621, 627, 631), Flavours, Preservatives 1211, 223). Fried Onion: Onion, Refined Palm Oil (Contains Antioxidant 319).",
            "Noodles: Wheat Flour (62%), Refined Palm Oil (Contains Antioxidant 319), Salt, Acidity Regulators (451, 501, 500), Thickener (412), Colour (101).<br>Seasoning Powder: Salt, Sugar, Flavour Enhancers (621, 631, 627), Garlic Powder, Onion Powder, Yeast Extract, Artificial Flavour, Pepper, Anti Caking Agent (551).<br>Seasoning Oil: Refined Palm Oil (Contains Antioxidant 319), Onion.<br>Sweet Soy Sauce: Sugar, Water, Salt, Wheat, Soy Bean, Spices, Sesame Oil.<br>Chilli Sauce: Chilli, Water, Sugar, Salt, Tapioca Starch, Acidity Regulators (260, 330), Herbs, Flavour Enhancers (621, 627, 631), Flavours, Preservatives 1211, 223). Fried Onion: Onion, Refined Palm Oil (Contains Antioxidant 319).",
            "Noodles: Wheat Flour (62%), Refined Palm Oil (Contains Antioxidant 319), Salt, Acidity Regulators (451, 501, 500), Thickener (412), Colour (101).<br>Seasoning Powder: Salt, Sugar, Flavour Enhancers (621, 631, 627), Garlic Powder, Onion Powder, Yeast Extract, Artificial Flavour, Pepper, Anti Caking Agent (551).<br>Seasoning Oil: Refined Palm Oil (Contains Antioxidant 319), Onion.<br>Sweet Soy Sauce: Sugar, Water, Salt, Wheat, Soy Bean, Spices, Sesame Oil.<br>Chilli Sauce: Chilli, Water, Sugar, Salt, Tapioca Starch, Acidity Regulators (260, 330), Herbs, Flavour Enhancers (621, 627, 631), Flavours, Preservatives 1211, 223). Fried Onion: Onion, Refined Palm Oil (Contains Antioxidant 319).",
            "Noodles: Wheat Flour (62%), Refined Palm Oil (Contains Antioxidant 319), Salt, Acidity Regulators (451, 501, 500), Thickener (412), Colour (101).<br>Seasoning Powder: Salt, Sugar, Flavour Enhancers (621, 631, 627), Garlic Powder, Onion Powder, Yeast Extract, Artificial Flavour, Pepper, Anti Caking Agent (551).<br>Seasoning Oil: Refined Palm Oil (Contains Antioxidant 319), Onion.<br>Sweet Soy Sauce: Sugar, Water, Salt, Wheat, Soy Bean, Spices, Sesame Oil.<br>Chilli Sauce: Chilli, Water, Sugar, Salt, Tapioca Starch, Acidity Regulators (260, 330), Herbs, Flavour Enhancers (621, 627, 631), Flavours, Preservatives 1211, 223). Fried Onion: Onion, Refined Palm Oil (Contains Antioxidant 319).",
            "Noodles: Wheat Flour (62%), Refined Palm Oil (Contains Antioxidant 319), Salt, Acidity Regulators (451, 501, 500), Thickener (412), Colour (101).<br>Seasoning Powder: Salt, Sugar, Flavour Enhancers (621, 631, 627), Garlic Powder, Onion Powder, Yeast Extract, Artificial Flavour, Pepper, Anti Caking Agent (551).<br>Seasoning Oil: Refined Palm Oil (Contains Antioxidant 319), Onion.<br>Sweet Soy Sauce: Sugar, Water, Salt, Wheat, Soy Bean, Spices, Sesame Oil.<br>Chilli Sauce: Chilli, Water, Sugar, Salt, Tapioca Starch, Acidity Regulators (260, 330), Herbs, Flavour Enhancers (621, 627, 631), Flavours, Preservatives 1211, 223). Fried Onion: Onion, Refined Palm Oil (Contains Antioxidant 319).",
            "Noodles: Wheat Flour (62%), Refined Palm Oil (Contains Antioxidant 319), Salt, Acidity Regulators (451, 501, 500), Thickener (412), Colour (101).<br>Seasoning Powder: Salt, Sugar, Flavour Enhancers (621, 631, 627), Garlic Powder, Onion Powder, Yeast Extract, Artificial Flavour, Pepper, Anti Caking Agent (551).<br>Seasoning Oil: Refined Palm Oil (Contains Antioxidant 319), Onion.<br>Sweet Soy Sauce: Sugar, Water, Salt, Wheat, Soy Bean, Spices, Sesame Oil.<br>Chilli Sauce: Chilli, Water, Sugar, Salt, Tapioca Starch, Acidity Regulators (260, 330), Herbs, Flavour Enhancers (621, 627, 631), Flavours, Preservatives 1211, 223). Fried Onion: Onion, Refined Palm Oil (Contains Antioxidant 319).",
            "Noodles: Wheat Flour (62%), Refined Palm Oil (Contains Antioxidant 319), Salt, Acidity Regulators (451, 501, 500), Thickener (412), Colour (101).<br>Seasoning Powder: Salt, Sugar, Flavour Enhancers (621, 631, 627), Garlic Powder, Onion Powder, Yeast Extract, Artificial Flavour, Pepper, Anti Caking Agent (551).<br>Seasoning Oil: Refined Palm Oil (Contains Antioxidant 319), Onion.<br>Sweet Soy Sauce: Sugar, Water, Salt, Wheat, Soy Bean, Spices, Sesame Oil.<br>Chilli Sauce: Chilli, Water, Sugar, Salt, Tapioca Starch, Acidity Regulators (260, 330), Herbs, Flavour Enhancers (621, 627, 631), Flavours, Preservatives 1211, 223). Fried Onion: Onion, Refined Palm Oil (Contains Antioxidant 319).",
            "Noodles: Wheat Flour (62%), Refined Palm Oil (Contains Antioxidant 319), Salt, Acidity Regulators (451, 501, 500), Thickener (412), Colour (101).<br>Seasoning Powder: Salt, Sugar, Flavour Enhancers (621, 631, 627), Garlic Powder, Onion Powder, Yeast Extract, Artificial Flavour, Pepper, Anti Caking Agent (551).<br>Seasoning Oil: Refined Palm Oil (Contains Antioxidant 319), Onion.<br>Sweet Soy Sauce: Sugar, Water, Salt, Wheat, Soy Bean, Spices, Sesame Oil.<br>Chilli Sauce: Chilli, Water, Sugar, Salt, Tapioca Starch, Acidity Regulators (260, 330), Herbs, Flavour Enhancers (621, 627, 631), Flavours, Preservatives 1211, 223). Fried Onion: Onion, Refined Palm Oil (Contains Antioxidant 319).",
            "Noodles: Wheat Flour (62%), Refined Palm Oil (Contains Antioxidant 319), Salt, Acidity Regulators (451, 501, 500), Thickener (412), Colour (101).<br>Seasoning Powder: Salt, Sugar, Flavour Enhancers (621, 631, 627), Garlic Powder, Onion Powder, Yeast Extract, Artificial Flavour, Pepper, Anti Caking Agent (551).<br>Seasoning Oil: Refined Palm Oil (Contains Antioxidant 319), Onion.<br>Sweet Soy Sauce: Sugar, Water, Salt, Wheat, Soy Bean, Spices, Sesame Oil.<br>Chilli Sauce: Chilli, Water, Sugar, Salt, Tapioca Starch, Acidity Regulators (260, 330), Herbs, Flavour Enhancers (621, 627, 631), Flavours, Preservatives 1211, 223). Fried Onion: Onion, Refined Palm Oil (Contains Antioxidant 319).",
            "Water, Reconstituted Fruit Juice (25%) (Apple or Pear, Pineapple, Orange or Water Extracted Orange, Peach Purée, Passionfruit), Sugar, Food Acids (Citric Acid, Potassium Citrate), Vitamin C, Natural Flavours, Stabiliser (Pectin).",
            "Canola Oil, Water, Sugar, Vinegar, Thickener (1422, Xanthan Gum), Free Range Egg Yolk,  Gherkin, Salt, Onion Powder, Natural Colour (Carotene, Paprika Oleoresins), Preservative (Potassium Sorbate), Dill, Acidity Regulator (Citric Acid), Herb Extract, Mustard Oil.",
            "Fruits (55%) (Peach, Pear), Reconstituted Refined Juice (Water, Concentrated Pear Juice, Antioxidant (Ascorbic Acid), Acidity Regulator (Citric Acid))",
            "Fruits (55%) (Peach, Pear), Reconstituted Refined Juice (Water, Concentrated Pear Juice, Antioxidant (Ascorbic Acid), Acidity Regulator (Citric Acid))",
            "Jelly (70%) (Water, Sugar, Gelling Agents (Carrageenan, Locust Bean Gum, Xanthan Gum), Acidity Regulators (Sodium Citrates, Potassium Citrates, Calcium Lactate, Malic Acid, Citric Acid), Natural Flavours (Pineapple, Mango), Natural Colours (Carotene, Paprika Oleoresins), Antioxidant (Ascorbic Acid)), Peach (15%), Pear (15%)",
            "Noodles: Wheat Flour (62%), Refined Palm Oil (Contains Antioxidant 319), Salt, Acidity Regulators (451, 501, 500), Thickener (412), Colour (101).<br>Seasoning Powder: Salt, Sugar, Flavour Enhancers (621, 631, 627), Garlic Powder, Onion Powder, Yeast Extract, Artificial Flavour, Pepper, Anti Caking Agent (551).<br>Seasoning Oil: Refined Palm Oil (Contains Antioxidant 319), Onion.<br>Sweet Soy Sauce: Sugar, Water, Salt, Wheat, Soy Bean, Spices, Sesame Oil.<br>Chilli Sauce: Chilli, Water, Sugar, Salt, Tapioca Starch, Acidity Regulators (260, 330), Herbs, Flavour Enhancers (621, 627, 631), Flavours, Preservatives 1211, 223). Fried Onion: Onion, Refined Palm Oil (Contains Antioxidant 319).",
            "Noodles: Wheat Flour (62%), Refined Palm Oil (Contains Antioxidant 319), Salt, Acidity Regulators (451, 501, 500), Thickener (412), Colour (101).<br>Seasoning Powder: Salt, Sugar, Flavour Enhancers (621, 631, 627), Garlic Powder, Onion Powder, Yeast Extract, Artificial Flavour, Pepper, Anti Caking Agent (551).<br>Seasoning Oil: Refined Palm Oil (Contains Antioxidant 319), Onion.<br>Sweet Soy Sauce: Sugar, Water, Salt, Wheat, Soy Bean, Spices, Sesame Oil.<br>Chilli Sauce: Chilli, Water, Sugar, Salt, Tapioca Starch, Acidity Regulators (260, 330), Herbs, Flavour Enhancers (621, 627, 631), Flavours, Preservatives 1211, 223). Fried Onion: Onion, Refined Palm Oil (Contains Antioxidant 319).",
            "Noodles: Wheat Flour (62%), Refined Palm Oil (Contains Antioxidant 319), Salt, Acidity Regulators (451, 501, 500), Thickener (412), Colour (101).<br>Seasoning Powder: Salt, Sugar, Flavour Enhancers (621, 631, 627), Garlic Powder, Onion Powder, Yeast Extract, Artificial Flavour, Pepper, Anti Caking Agent (551).<br>Seasoning Oil: Refined Palm Oil (Contains Antioxidant 319), Onion.<br>Sweet Soy Sauce: Sugar, Water, Salt, Wheat, Soy Bean, Spices, Sesame Oil.<br>Chilli Sauce: Chilli, Water, Sugar, Salt, Tapioca Starch, Acidity Regulators (260, 330), Herbs, Flavour Enhancers (621, 627, 631), Flavours, Preservatives 1211, 223). Fried Onion: Onion, Refined Palm Oil (Contains Antioxidant 319).",
            "Noodles: Wheat Flour (62%), Refined Palm Oil (Contains Antioxidant 319), Salt, Acidity Regulators (451, 501, 500), Thickener (412), Colour (101).<br>Seasoning Powder: Salt, Sugar, Flavour Enhancers (621, 631, 627), Garlic Powder, Onion Powder, Yeast Extract, Artificial Flavour, Pepper, Anti Caking Agent (551).<br>Seasoning Oil: Refined Palm Oil (Contains Antioxidant 319), Onion.<br>Sweet Soy Sauce: Sugar, Water, Salt, Wheat, Soy Bean, Spices, Sesame Oil.<br>Chilli Sauce: Chilli, Water, Sugar, Salt, Tapioca Starch, Acidity Regulators (260, 330), Herbs, Flavour Enhancers (621, 627, 631), Flavours, Preservatives 1211, 223). Fried Onion: Onion, Refined Palm Oil (Contains Antioxidant 319).",
            "Noodles: Wheat Flour (62%), Refined Palm Oil (Contains Antioxidant 319), Salt, Acidity Regulators (451, 501, 500), Thickener (412), Colour (101).<br>Seasoning Powder: Salt, Sugar, Flavour Enhancers (621, 631, 627), Garlic Powder, Onion Powder, Yeast Extract, Artificial Flavour, Pepper, Anti Caking Agent (551).<br>Seasoning Oil: Refined Palm Oil (Contains Antioxidant 319), Onion.<br>Sweet Soy Sauce: Sugar, Water, Salt, Wheat, Soy Bean, Spices, Sesame Oil.<br>Chilli Sauce: Chilli, Water, Sugar, Salt, Tapioca Starch, Acidity Regulators (260, 330), Herbs, Flavour Enhancers (621, 627, 631), Flavours, Preservatives 1211, 223). Fried Onion: Onion, Refined Palm Oil (Contains Antioxidant 319).",
            "Noodles: Wheat Flour (62%), Refined Palm Oil (Contains Antioxidant 319), Salt, Acidity Regulators (451, 501, 500), Thickener (412), Colour (101).<br>Seasoning Powder: Salt, Sugar, Flavour Enhancers (621, 631, 627), Garlic Powder, Onion Powder, Yeast Extract, Artificial Flavour, Pepper, Anti Caking Agent (551).<br>Seasoning Oil: Refined Palm Oil (Contains Antioxidant 319), Onion.<br>Sweet Soy Sauce: Sugar, Water, Salt, Wheat, Soy Bean, Spices, Sesame Oil.<br>Chilli Sauce: Chilli, Water, Sugar, Salt, Tapioca Starch, Acidity Regulators (260, 330), Herbs, Flavour Enhancers (621, 627, 631), Flavours, Preservatives 1211, 223). Fried Onion: Onion, Refined Palm Oil (Contains Antioxidant 319).",
            "Noodles: Wheat Flour (62%), Refined Palm Oil (Contains Antioxidant 319), Salt, Acidity Regulators (451, 501, 500), Thickener (412), Colour (101).<br>Seasoning Powder: Salt, Sugar, Flavour Enhancers (621, 631, 627), Garlic Powder, Onion Powder, Yeast Extract, Artificial Flavour, Pepper, Anti Caking Agent (551).<br>Seasoning Oil: Refined Palm Oil (Contains Antioxidant 319), Onion.<br>Sweet Soy Sauce: Sugar, Water, Salt, Wheat, Soy Bean, Spices, Sesame Oil.<br>Chilli Sauce: Chilli, Water, Sugar, Salt, Tapioca Starch, Acidity Regulators (260, 330), Herbs, Flavour Enhancers (621, 627, 631), Flavours, Preservatives 1211, 223). Fried Onion: Onion, Refined Palm Oil (Contains Antioxidant 319).",
            "Noodles: Wheat Flour (62%), Refined Palm Oil (Contains Antioxidant 319), Salt, Acidity Regulators (451, 501, 500), Thickener (412), Colour (101).<br>Seasoning Powder: Salt, Sugar, Flavour Enhancers (621, 631, 627), Garlic Powder, Onion Powder, Yeast Extract, Artificial Flavour, Pepper, Anti Caking Agent (551).<br>Seasoning Oil: Refined Palm Oil (Contains Antioxidant 319), Onion.<br>Sweet Soy Sauce: Sugar, Water, Salt, Wheat, Soy Bean, Spices, Sesame Oil.<br>Chilli Sauce: Chilli, Water, Sugar, Salt, Tapioca Starch, Acidity Regulators (260, 330), Herbs, Flavour Enhancers (621, 627, 631), Flavours, Preservatives 1211, 223). Fried Onion: Onion, Refined Palm Oil (Contains Antioxidant 319).",
            "Noodles: Wheat Flour (62%), Refined Palm Oil (Contains Antioxidant 319), Salt, Acidity Regulators (451, 501, 500), Thickener (412), Colour (101).<br>Seasoning Powder: Salt, Sugar, Flavour Enhancers (621, 631, 627), Garlic Powder, Onion Powder, Yeast Extract, Artificial Flavour, Pepper, Anti Caking Agent (551).<br>Seasoning Oil: Refined Palm Oil (Contains Antioxidant 319), Onion.<br>Sweet Soy Sauce: Sugar, Water, Salt, Wheat, Soy Bean, Spices, Sesame Oil.<br>Chilli Sauce: Chilli, Water, Sugar, Salt, Tapioca Starch, Acidity Regulators (260, 330), Herbs, Flavour Enhancers (621, 627, 631), Flavours, Preservatives 1211, 223). Fried Onion: Onion, Refined Palm Oil (Contains Antioxidant 319).",
            "Noodles: Wheat Flour (62%), Refined Palm Oil (Contains Antioxidant 319), Salt, Acidity Regulators (451, 501, 500), Thickener (412), Colour (101).<br>Seasoning Powder: Salt, Sugar, Flavour Enhancers (621, 631, 627), Garlic Powder, Onion Powder, Yeast Extract, Artificial Flavour, Pepper, Anti Caking Agent (551).<br>Seasoning Oil: Refined Palm Oil (Contains Antioxidant 319), Onion.<br>Sweet Soy Sauce: Sugar, Water, Salt, Wheat, Soy Bean, Spices, Sesame Oil.<br>Chilli Sauce: Chilli, Water, Sugar, Salt, Tapioca Starch, Acidity Regulators (260, 330), Herbs, Flavour Enhancers (621, 627, 631), Flavours, Preservatives 1211, 223). Fried Onion: Onion, Refined Palm Oil (Contains Antioxidant 319).",
            "Noodles: Wheat Flour (62%), Refined Palm Oil (Contains Antioxidant 319), Salt, Acidity Regulators (451, 501, 500), Thickener (412), Colour (101).<br>Seasoning Powder: Salt, Sugar, Flavour Enhancers (621, 631, 627), Garlic Powder, Onion Powder, Yeast Extract, Artificial Flavour, Pepper, Anti Caking Agent (551).<br>Seasoning Oil: Refined Palm Oil (Contains Antioxidant 319), Onion.<br>Sweet Soy Sauce: Sugar, Water, Salt, Wheat, Soy Bean, Spices, Sesame Oil.<br>Chilli Sauce: Chilli, Water, Sugar, Salt, Tapioca Starch, Acidity Regulators (260, 330), Herbs, Flavour Enhancers (621, 627, 631), Flavours, Preservatives 1211, 223). Fried Onion: Onion, Refined Palm Oil (Contains Antioxidant 319).",
            "Noodles: Wheat Flour (62%), Refined Palm Oil (Contains Antioxidant 319), Salt, Acidity Regulators (451, 501, 500), Thickener (412), Colour (101).<br>Seasoning Powder: Salt, Sugar, Flavour Enhancers (621, 631, 627), Garlic Powder, Onion Powder, Yeast Extract, Artificial Flavour, Pepper, Anti Caking Agent (551).<br>Seasoning Oil: Refined Palm Oil (Contains Antioxidant 319), Onion.<br>Sweet Soy Sauce: Sugar, Water, Salt, Wheat, Soy Bean, Spices, Sesame Oil.<br>Chilli Sauce: Chilli, Water, Sugar, Salt, Tapioca Starch, Acidity Regulators (260, 330), Herbs, Flavour Enhancers (621, 627, 631), Flavours, Preservatives 1211, 223). Fried Onion: Onion, Refined Palm Oil (Contains Antioxidant 319).",
            "Noodles: Wheat Flour (62%), Refined Palm Oil (Contains Antioxidant 319), Salt, Acidity Regulators (451, 501, 500), Thickener (412), Colour (101).<br>Seasoning Powder: Salt, Sugar, Flavour Enhancers (621, 631, 627), Garlic Powder, Onion Powder, Yeast Extract, Artificial Flavour, Pepper, Anti Caking Agent (551).<br>Seasoning Oil: Refined Palm Oil (Contains Antioxidant 319), Onion.<br>Sweet Soy Sauce: Sugar, Water, Salt, Wheat, Soy Bean, Spices, Sesame Oil.<br>Chilli Sauce: Chilli, Water, Sugar, Salt, Tapioca Starch, Acidity Regulators (260, 330), Herbs, Flavour Enhancers (621, 627, 631), Flavours, Preservatives 1211, 223). Fried Onion: Onion, Refined Palm Oil (Contains Antioxidant 319).",
            "Noodles: Wheat Flour (62%), Refined Palm Oil (Contains Antioxidant 319), Salt, Acidity Regulators (451, 501, 500), Thickener (412), Colour (101).<br>Seasoning Powder: Salt, Sugar, Flavour Enhancers (621, 631, 627), Garlic Powder, Onion Powder, Yeast Extract, Artificial Flavour, Pepper, Anti Caking Agent (551).<br>Seasoning Oil: Refined Palm Oil (Contains Antioxidant 319), Onion.<br>Sweet Soy Sauce: Sugar, Water, Salt, Wheat, Soy Bean, Spices, Sesame Oil.<br>Chilli Sauce: Chilli, Water, Sugar, Salt, Tapioca Starch, Acidity Regulators (260, 330), Herbs, Flavour Enhancers (621, 627, 631), Flavours, Preservatives 1211, 223). Fried Onion: Onion, Refined Palm Oil (Contains Antioxidant 319).",
            "Noodles: Wheat Flour (62%), Refined Palm Oil (Contains Antioxidant 319), Salt, Acidity Regulators (451, 501, 500), Thickener (412), Colour (101).<br>Seasoning Powder: Salt, Sugar, Flavour Enhancers (621, 631, 627), Garlic Powder, Onion Powder, Yeast Extract, Artificial Flavour, Pepper, Anti Caking Agent (551).<br>Seasoning Oil: Refined Palm Oil (Contains Antioxidant 319), Onion.<br>Sweet Soy Sauce: Sugar, Water, Salt, Wheat, Soy Bean, Spices, Sesame Oil.<br>Chilli Sauce: Chilli, Water, Sugar, Salt, Tapioca Starch, Acidity Regulators (260, 330), Herbs, Flavour Enhancers (621, 627, 631), Flavours, Preservatives 1211, 223). Fried Onion: Onion, Refined Palm Oil (Contains Antioxidant 319).",
            "Noodles: Wheat Flour (62%), Refined Palm Oil (Contains Antioxidant 319), Salt, Acidity Regulators (451, 501, 500), Thickener (412), Colour (101).<br>Seasoning Powder: Salt, Sugar, Flavour Enhancers (621, 631, 627), Garlic Powder, Onion Powder, Yeast Extract, Artificial Flavour, Pepper, Anti Caking Agent (551).<br>Seasoning Oil: Refined Palm Oil (Contains Antioxidant 319), Onion.<br>Sweet Soy Sauce: Sugar, Water, Salt, Wheat, Soy Bean, Spices, Sesame Oil.<br>Chilli Sauce: Chilli, Water, Sugar, Salt, Tapioca Starch, Acidity Regulators (260, 330), Herbs, Flavour Enhancers (621, 627, 631), Flavours, Preservatives 1211, 223). Fried Onion: Onion, Refined Palm Oil (Contains Antioxidant 319).",
            "Noodles: Wheat Flour (62%), Refined Palm Oil (Contains Antioxidant 319), Salt, Acidity Regulators (451, 501, 500), Thickener (412), Colour (101).<br>Seasoning Powder: Salt, Sugar, Flavour Enhancers (621, 631, 627), Garlic Powder, Onion Powder, Yeast Extract, Artificial Flavour, Pepper, Anti Caking Agent (551).<br>Seasoning Oil: Refined Palm Oil (Contains Antioxidant 319), Onion.<br>Sweet Soy Sauce: Sugar, Water, Salt, Wheat, Soy Bean, Spices, Sesame Oil.<br>Chilli Sauce: Chilli, Water, Sugar, Salt, Tapioca Starch, Acidity Regulators (260, 330), Herbs, Flavour Enhancers (621, 627, 631), Flavours, Preservatives 1211, 223). Fried Onion: Onion, Refined Palm Oil (Contains Antioxidant 319).",
            "Noodles: Wheat Flour (62%), Refined Palm Oil (Contains Antioxidant 319), Salt, Acidity Regulators (451, 501, 500), Thickener (412), Colour (101).<br>Seasoning Powder: Salt, Sugar, Flavour Enhancers (621, 631, 627), Garlic Powder, Onion Powder, Yeast Extract, Artificial Flavour, Pepper, Anti Caking Agent (551).<br>Seasoning Oil: Refined Palm Oil (Contains Antioxidant 319), Onion.<br>Sweet Soy Sauce: Sugar, Water, Salt, Wheat, Soy Bean, Spices, Sesame Oil.<br>Chilli Sauce: Chilli, Water, Sugar, Salt, Tapioca Starch, Acidity Regulators (260, 330), Herbs, Flavour Enhancers (621, 627, 631), Flavours, Preservatives 1211, 223). Fried Onion: Onion, Refined Palm Oil (Contains Antioxidant 319).",
            "Noodles: Wheat Flour (62%), Refined Palm Oil (Contains Antioxidant 319), Salt, Acidity Regulators (451, 501, 500), Thickener (412), Colour (101).<br>Seasoning Powder: Salt, Sugar, Flavour Enhancers (621, 631, 627), Garlic Powder, Onion Powder, Yeast Extract, Artificial Flavour, Pepper, Anti Caking Agent (551).<br>Seasoning Oil: Refined Palm Oil (Contains Antioxidant 319), Onion.<br>Sweet Soy Sauce: Sugar, Water, Salt, Wheat, Soy Bean, Spices, Sesame Oil.<br>Chilli Sauce: Chilli, Water, Sugar, Salt, Tapioca Starch, Acidity Regulators (260, 330), Herbs, Flavour Enhancers (621, 627, 631), Flavours, Preservatives 1211, 223). Fried Onion: Onion, Refined Palm Oil (Contains Antioxidant 319).",
            "Noodles: Wheat Flour (62%), Refined Palm Oil (Contains Antioxidant 319), Salt, Acidity Regulators (451, 501, 500), Thickener (412), Colour (101).<br>Seasoning Powder: Salt, Sugar, Flavour Enhancers (621, 631, 627), Garlic Powder, Onion Powder, Yeast Extract, Artificial Flavour, Pepper, Anti Caking Agent (551).<br>Seasoning Oil: Refined Palm Oil (Contains Antioxidant 319), Onion.<br>Sweet Soy Sauce: Sugar, Water, Salt, Wheat, Soy Bean, Spices, Sesame Oil.<br>Chilli Sauce: Chilli, Water, Sugar, Salt, Tapioca Starch, Acidity Regulators (260, 330), Herbs, Flavour Enhancers (621, 627, 631), Flavours, Preservatives 1211, 223). Fried Onion: Onion, Refined Palm Oil (Contains Antioxidant 319).",
            "Noodles: Wheat Flour (62%), Refined Palm Oil (Contains Antioxidant 319), Salt, Acidity Regulators (451, 501, 500), Thickener (412), Colour (101).<br>Seasoning Powder: Salt, Sugar, Flavour Enhancers (621, 631, 627), Garlic Powder, Onion Powder, Yeast Extract, Artificial Flavour, Pepper, Anti Caking Agent (551).<br>Seasoning Oil: Refined Palm Oil (Contains Antioxidant 319), Onion.<br>Sweet Soy Sauce: Sugar, Water, Salt, Wheat, Soy Bean, Spices, Sesame Oil.<br>Chilli Sauce: Chilli, Water, Sugar, Salt, Tapioca Starch, Acidity Regulators (260, 330), Herbs, Flavour Enhancers (621, 627, 631), Flavours, Preservatives 1211, 223). Fried Onion: Onion, Refined Palm Oil (Contains Antioxidant 319).",
            "Noodles: Wheat Flour (62%), Refined Palm Oil (Contains Antioxidant 319), Salt, Acidity Regulators (451, 501, 500), Thickener (412), Colour (101).<br>Seasoning Powder: Salt, Sugar, Flavour Enhancers (621, 631, 627), Garlic Powder, Onion Powder, Yeast Extract, Artificial Flavour, Pepper, Anti Caking Agent (551).<br>Seasoning Oil: Refined Palm Oil (Contains Antioxidant 319), Onion.<br>Sweet Soy Sauce: Sugar, Water, Salt, Wheat, Soy Bean, Spices, Sesame Oil.<br>Chilli Sauce: Chilli, Water, Sugar, Salt, Tapioca Starch, Acidity Regulators (260, 330), Herbs, Flavour Enhancers (621, 627, 631), Flavours, Preservatives 1211, 223). Fried Onion: Onion, Refined Palm Oil (Contains Antioxidant 319).",
            "Noodles: Wheat Flour (62%), Refined Palm Oil (Contains Antioxidant 319), Salt, Acidity Regulators (451, 501, 500), Thickener (412), Colour (101).<br>Seasoning Powder: Salt, Sugar, Flavour Enhancers (621, 631, 627), Garlic Powder, Onion Powder, Yeast Extract, Artificial Flavour, Pepper, Anti Caking Agent (551).<br>Seasoning Oil: Refined Palm Oil (Contains Antioxidant 319), Onion.<br>Sweet Soy Sauce: Sugar, Water, Salt, Wheat, Soy Bean, Spices, Sesame Oil.<br>Chilli Sauce: Chilli, Water, Sugar, Salt, Tapioca Starch, Acidity Regulators (260, 330), Herbs, Flavour Enhancers (621, 627, 631), Flavours, Preservatives 1211, 223). Fried Onion: Onion, Refined Palm Oil (Contains Antioxidant 319).",
            "Noodles: Wheat Flour (62%), Refined Palm Oil (Contains Antioxidant 319), Salt, Acidity Regulators (451, 501, 500), Thickener (412), Colour (101).<br>Seasoning Powder: Salt, Sugar, Flavour Enhancers (621, 631, 627), Garlic Powder, Onion Powder, Yeast Extract, Artificial Flavour, Pepper, Anti Caking Agent (551).<br>Seasoning Oil: Refined Palm Oil (Contains Antioxidant 319), Onion.<br>Sweet Soy Sauce: Sugar, Water, Salt, Wheat, Soy Bean, Spices, Sesame Oil.<br>Chilli Sauce: Chilli, Water, Sugar, Salt, Tapioca Starch, Acidity Regulators (260, 330), Herbs, Flavour Enhancers (621, 627, 631), Flavours, Preservatives 1211, 223). Fried Onion: Onion, Refined Palm Oil (Contains Antioxidant 319).",
            "Noodles: Wheat Flour (62%), Refined Palm Oil (Contains Antioxidant 319), Salt, Acidity Regulators (451, 501, 500), Thickener (412), Colour (101).<br>Seasoning Powder: Salt, Sugar, Flavour Enhancers (621, 631, 627), Garlic Powder, Onion Powder, Yeast Extract, Artificial Flavour, Pepper, Anti Caking Agent (551).<br>Seasoning Oil: Refined Palm Oil (Contains Antioxidant 319), Onion.<br>Sweet Soy Sauce: Sugar, Water, Salt, Wheat, Soy Bean, Spices, Sesame Oil.<br>Chilli Sauce: Chilli, Water, Sugar, Salt, Tapioca Starch, Acidity Regulators (260, 330), Herbs, Flavour Enhancers (621, 627, 631), Flavours, Preservatives 1211, 223). Fried Onion: Onion, Refined Palm Oil (Contains Antioxidant 319).",
            "Noodles: Wheat Flour (62%), Refined Palm Oil (Contains Antioxidant 319), Salt, Acidity Regulators (451, 501, 500), Thickener (412), Colour (101).<br>Seasoning Powder: Salt, Sugar, Flavour Enhancers (621, 631, 627), Garlic Powder, Onion Powder, Yeast Extract, Artificial Flavour, Pepper, Anti Caking Agent (551).<br>Seasoning Oil: Refined Palm Oil (Contains Antioxidant 319), Onion.<br>Sweet Soy Sauce: Sugar, Water, Salt, Wheat, Soy Bean, Spices, Sesame Oil.<br>Chilli Sauce: Chilli, Water, Sugar, Salt, Tapioca Starch, Acidity Regulators (260, 330), Herbs, Flavour Enhancers (621, 627, 631), Flavours, Preservatives 1211, 223). Fried Onion: Onion, Refined Palm Oil (Contains Antioxidant 319).",
            "Noodles: Wheat Flour (62%), Refined Palm Oil (Contains Antioxidant 319), Salt, Acidity Regulators (451, 501, 500), Thickener (412), Colour (101).<br>Seasoning Powder: Salt, Sugar, Flavour Enhancers (621, 631, 627), Garlic Powder, Onion Powder, Yeast Extract, Artificial Flavour, Pepper, Anti Caking Agent (551).<br>Seasoning Oil: Refined Palm Oil (Contains Antioxidant 319), Onion.<br>Sweet Soy Sauce: Sugar, Water, Salt, Wheat, Soy Bean, Spices, Sesame Oil.<br>Chilli Sauce: Chilli, Water, Sugar, Salt, Tapioca Starch, Acidity Regulators (260, 330), Herbs, Flavour Enhancers (621, 627, 631), Flavours, Preservatives 1211, 223). Fried Onion: Onion, Refined Palm Oil (Contains Antioxidant 319).",
            "Noodles: Wheat Flour (62%), Refined Palm Oil (Contains Antioxidant 319), Salt, Acidity Regulators (451, 501, 500), Thickener (412), Colour (101).<br>Seasoning Powder: Salt, Sugar, Flavour Enhancers (621, 631, 627), Garlic Powder, Onion Powder, Yeast Extract, Artificial Flavour, Pepper, Anti Caking Agent (551).<br>Seasoning Oil: Refined Palm Oil (Contains Antioxidant 319), Onion.<br>Sweet Soy Sauce: Sugar, Water, Salt, Wheat, Soy Bean, Spices, Sesame Oil.<br>Chilli Sauce: Chilli, Water, Sugar, Salt, Tapioca Starch, Acidity Regulators (260, 330), Herbs, Flavour Enhancers (621, 627, 631), Flavours, Preservatives 1211, 223). Fried Onion: Onion, Refined Palm Oil (Contains Antioxidant 319).",
            "Noodles: Wheat Flour (62%), Refined Palm Oil (Contains Antioxidant 319), Salt, Acidity Regulators (451, 501, 500), Thickener (412), Colour (101).<br>Seasoning Powder: Salt, Sugar, Flavour Enhancers (621, 631, 627), Garlic Powder, Onion Powder, Yeast Extract, Artificial Flavour, Pepper, Anti Caking Agent (551).<br>Seasoning Oil: Refined Palm Oil (Contains Antioxidant 319), Onion.<br>Sweet Soy Sauce: Sugar, Water, Salt, Wheat, Soy Bean, Spices, Sesame Oil.<br>Chilli Sauce: Chilli, Water, Sugar, Salt, Tapioca Starch, Acidity Regulators (260, 330), Herbs, Flavour Enhancers (621, 627, 631), Flavours, Preservatives 1211, 223). Fried Onion: Onion, Refined Palm Oil (Contains Antioxidant 319).",
            "Noodles: Wheat Flour (62%), Refined Palm Oil (Contains Antioxidant 319), Salt, Acidity Regulators (451, 501, 500), Thickener (412), Colour (101).<br>Seasoning Powder: Salt, Sugar, Flavour Enhancers (621, 631, 627), Garlic Powder, Onion Powder, Yeast Extract, Artificial Flavour, Pepper, Anti Caking Agent (551).<br>Seasoning Oil: Refined Palm Oil (Contains Antioxidant 319), Onion.<br>Sweet Soy Sauce: Sugar, Water, Salt, Wheat, Soy Bean, Spices, Sesame Oil.<br>Chilli Sauce: Chilli, Water, Sugar, Salt, Tapioca Starch, Acidity Regulators (260, 330), Herbs, Flavour Enhancers (621, 627, 631), Flavours, Preservatives 1211, 223). Fried Onion: Onion, Refined Palm Oil (Contains Antioxidant 319).",
            "Water, Reconstituted Fruit Juice (25%) (Apple or Pear, Pineapple, Orange or Water Extracted Orange, Peach Purée, Passionfruit), Sugar, Food Acids (Citric Acid, Potassium Citrate), Vitamin C, Natural Flavours, Stabiliser (Pectin).",
            "Water, Reconstituted Fruit Juice (25%) (Apple or Pear, Pineapple, Orange or Water Extracted Orange, Peach Purée, Passionfruit), Sugar, Food Acids (Citric Acid, Potassium Citrate), Vitamin C, Natural Flavours, Stabiliser (Pectin).",
            "Canola Oil, Water, Sugar, Vinegar, Thickener (1422, Xanthan Gum), Free Range Egg Yolk,  Gherkin, Salt, Onion Powder, Natural Colour (Carotene, Paprika Oleoresins), Preservative (Potassium Sorbate), Dill, Acidity Regulator (Citric Acid), Herb Extract, Mustard Oil.",
            "Canola Oil, Water, Sugar, Vinegar, Thickener (1422, Xanthan Gum), Free Range Egg Yolk,  Gherkin, Salt, Onion Powder, Natural Colour (Carotene, Paprika Oleoresins), Preservative (Potassium Sorbate), Dill, Acidity Regulator (Citric Acid), Herb Extract, Mustard Oil.",
            "Fruits (55%) (Peach, Pear), Reconstituted Refined Juice (Water, Concentrated Pear Juice, Antioxidant (Ascorbic Acid), Acidity Regulator (Citric Acid))",
            "Fruits (55%) (Peach, Pear), Reconstituted Refined Juice (Water, Concentrated Pear Juice, Antioxidant (Ascorbic Acid), Acidity Regulator (Citric Acid))",
            "Jelly (70%) (Water, Sugar, Gelling Agents (Carrageenan, Locust Bean Gum, Xanthan Gum), Acidity Regulators (Sodium Citrates, Potassium Citrates, Calcium Lactate, Malic Acid, Citric Acid), Natural Flavours (Pineapple, Mango), Natural Colours (Carotene, Paprika Oleoresins), Antioxidant (Ascorbic Acid)), Peach (15%), Pear (15%)",
            "Water, Reconstituted Fruit Juice (25%) (Apple or Pear, Pineapple, Orange or Water Extracted Orange, Peach Purée, Passionfruit), Sugar, Food Acids (Citric Acid, Potassium Citrate), Vitamin C, Natural Flavours, Stabiliser (Pectin).",
            "Water, Reconstituted Fruit Juice (25%) (Apple or Pear, Pineapple, Orange or Water Extracted Orange, Peach Purée, Passionfruit), Sugar, Food Acids (Citric Acid, Potassium Citrate), Vitamin C, Natural Flavours, Stabiliser (Pectin).",
            "Water, Reconstituted Fruit Juice (25%) (Apple or Pear, Pineapple, Orange or Water Extracted Orange, Peach Purée, Passionfruit), Sugar, Food Acids (Citric Acid, Potassium Citrate), Vitamin C, Natural Flavours, Stabiliser (Pectin).",
            "Water, Reconstituted Fruit Juice (25%) (Apple or Pear, Pineapple, Orange or Water Extracted Orange, Peach Purée, Passionfruit), Sugar, Food Acids (Citric Acid, Potassium Citrate), Vitamin C, Natural Flavours, Stabiliser (Pectin).",
            "Water, Reconstituted Fruit Juice (25%) (Apple or Pear, Pineapple, Orange or Water Extracted Orange, Peach Purée, Passionfruit), Sugar, Food Acids (Citric Acid, Potassium Citrate), Vitamin C, Natural Flavours, Stabiliser (Pectin).",
            "Water, Reconstituted Fruit Juice (25%) (Apple or Pear, Pineapple, Orange or Water Extracted Orange, Peach Purée, Passionfruit), Sugar, Food Acids (Citric Acid, Potassium Citrate), Vitamin C, Natural Flavours, Stabiliser (Pectin).",
            "Water, Reconstituted Fruit Juice (25%) (Apple or Pear, Pineapple, Orange or Water Extracted Orange, Peach Purée, Passionfruit), Sugar, Food Acids (Citric Acid, Potassium Citrate), Vitamin C, Natural Flavours, Stabiliser (Pectin).",
            "Water, Reconstituted Fruit Juice (25%) (Apple or Pear, Pineapple, Orange or Water Extracted Orange, Peach Purée, Passionfruit), Sugar, Food Acids (Citric Acid, Potassium Citrate), Vitamin C, Natural Flavours, Stabiliser (Pectin).",
            "Water, Reconstituted Fruit Juice (25%) (Apple or Pear, Pineapple, Orange or Water Extracted Orange, Peach Purée, Passionfruit), Sugar, Food Acids (Citric Acid, Potassium Citrate), Vitamin C, Natural Flavours, Stabiliser (Pectin).",
            "Water, Reconstituted Fruit Juice (25%) (Apple or Pear, Pineapple, Orange or Water Extracted Orange, Peach Purée, Passionfruit), Sugar, Food Acids (Citric Acid, Potassium Citrate), Vitamin C, Natural Flavours, Stabiliser (Pectin).",
            "Canola Oil, Water, Sugar, Vinegar, Thickener (1422, Xanthan Gum), Free Range Egg Yolk,  Gherkin, Salt, Onion Powder, Natural Colour (Carotene, Paprika Oleoresins), Preservative (Potassium Sorbate), Dill, Acidity Regulator (Citric Acid), Herb Extract, Mustard Oil.",
            "Canola Oil, Water, Sugar, Vinegar, Thickener (1422, Xanthan Gum), Free Range Egg Yolk,  Gherkin, Salt, Onion Powder, Natural Colour (Carotene, Paprika Oleoresins), Preservative (Potassium Sorbate), Dill, Acidity Regulator (Citric Acid), Herb Extract, Mustard Oil.",
            "Canola Oil, Water, Sugar, Vinegar, Thickener (1422, Xanthan Gum), Free Range Egg Yolk,  Gherkin, Salt, Onion Powder, Natural Colour (Carotene, Paprika Oleoresins), Preservative (Potassium Sorbate), Dill, Acidity Regulator (Citric Acid), Herb Extract, Mustard Oil.",
            "Canola Oil, Water, Sugar, Vinegar, Thickener (1422, Xanthan Gum), Free Range Egg Yolk,  Gherkin, Salt, Onion Powder, Natural Colour (Carotene, Paprika Oleoresins), Preservative (Potassium Sorbate), Dill, Acidity Regulator (Citric Acid), Herb Extract, Mustard Oil.",
            "Canola Oil, Water, Sugar, Vinegar, Thickener (1422, Xanthan Gum), Free Range Egg Yolk,  Gherkin, Salt, Onion Powder, Natural Colour (Carotene, Paprika Oleoresins), Preservative (Potassium Sorbate), Dill, Acidity Regulator (Citric Acid), Herb Extract, Mustard Oil.",
            "Canola Oil, Water, Sugar, Vinegar, Thickener (1422, Xanthan Gum), Free Range Egg Yolk,  Gherkin, Salt, Onion Powder, Natural Colour (Carotene, Paprika Oleoresins), Preservative (Potassium Sorbate), Dill, Acidity Regulator (Citric Acid), Herb Extract, Mustard Oil.",
            "Jelly (70%) (Water, Sugar, Gelling Agents (Carrageenan, Locust Bean Gum, Xanthan Gum), Acidity Regulators (Sodium Citrates, Potassium Citrates, Calcium Lactate, Malic Acid, Citric Acid), Natural Flavours (Pineapple, Mango), Natural Colours (Carotene, Paprika Oleoresins), Antioxidant (Ascorbic Acid)), Peach (15%), Pear (15%)",
            "Canola Oil, Water, Sugar, Vinegar, Thickener (1422, Xanthan Gum), Free Range Egg Yolk,  Gherkin, Salt, Onion Powder, Natural Colour (Carotene, Paprika Oleoresins), Preservative (Potassium Sorbate), Dill, Acidity Regulator (Citric Acid), Herb Extract, Mustard Oil.",
            "Jelly (70%) (Water, Sugar, Gelling Agents (Carrageenan, Locust Bean Gum, Xanthan Gum), Acidity Regulators (Sodium Citrates, Potassium Citrates, Calcium Lactate, Malic Acid, Citric Acid), Natural Flavours (Pineapple, Mango), Natural Colours (Carotene, Paprika Oleoresins), Antioxidant (Ascorbic Acid)), Peach (15%), Pear (15%)",
            "Canola Oil, Water, Sugar, Vinegar, Thickener (1422, Xanthan Gum), Free Range Egg Yolk,  Gherkin, Salt, Onion Powder, Natural Colour (Carotene, Paprika Oleoresins), Preservative (Potassium Sorbate), Dill, Acidity Regulator (Citric Acid), Herb Extract, Mustard Oil.",
            "Canola Oil, Water, Sugar, Vinegar, Thickener (1422, Xanthan Gum), Free Range Egg Yolk,  Gherkin, Salt, Onion Powder, Natural Colour (Carotene, Paprika Oleoresins), Preservative (Potassium Sorbate), Dill, Acidity Regulator (Citric Acid), Herb Extract, Mustard Oil.",
            "Canola Oil, Water, Sugar, Vinegar, Thickener (1422, Xanthan Gum), Free Range Egg Yolk,  Gherkin, Salt, Onion Powder, Natural Colour (Carotene, Paprika Oleoresins), Preservative (Potassium Sorbate), Dill, Acidity Regulator (Citric Acid), Herb Extract, Mustard Oil.",
            "Canola Oil, Water, Sugar, Vinegar, Thickener (1422, Xanthan Gum), Free Range Egg Yolk,  Gherkin, Salt, Onion Powder, Natural Colour (Carotene, Paprika Oleoresins), Preservative (Potassium Sorbate), Dill, Acidity Regulator (Citric Acid), Herb Extract, Mustard Oil.",
            "Fruits (55%) (Peach, Pear), Reconstituted Refined Juice (Water, Concentrated Pear Juice, Antioxidant (Ascorbic Acid), Acidity Regulator (Citric Acid))",
            "Fruits (55%) (Peach, Pear), Reconstituted Refined Juice (Water, Concentrated Pear Juice, Antioxidant (Ascorbic Acid), Acidity Regulator (Citric Acid))",
            "Jelly (70%) (Water, Sugar, Gelling Agents (Carrageenan, Locust Bean Gum, Xanthan Gum), Acidity Regulators (Sodium Citrates, Potassium Citrates, Calcium Lactate, Malic Acid, Citric Acid), Natural Flavours (Pineapple, Mango), Natural Colours (Carotene, Paprika Oleoresins), Antioxidant (Ascorbic Acid)), Peach (15%), Pear (15%)",
            "Jelly (70%) (Water, Sugar, Gelling Agents (Carrageenan, Locust Bean Gum, Xanthan Gum), Acidity Regulators (Sodium Citrates, Potassium Citrates, Calcium Lactate, Malic Acid, Citric Acid), Natural Flavours (Pineapple, Mango), Natural Colours (Carotene, Paprika Oleoresins), Antioxidant (Ascorbic Acid)), Peach (15%), Pear (15%)",
            "Jelly (70%) (Water, Sugar, Gelling Agents (Carrageenan, Locust Bean Gum, Xanthan Gum), Acidity Regulators (Sodium Citrates, Potassium Citrates, Calcium Lactate, Malic Acid, Citric Acid), Natural Flavours (Pineapple, Mango), Natural Colours (Carotene, Paprika Oleoresins), Antioxidant (Ascorbic Acid)), Peach (15%), Pear (15%)",
            "Jelly (70%) (Water, Sugar, Gelling Agents (Carrageenan, Locust Bean Gum, Xanthan Gum), Acidity Regulators (Sodium Citrates, Potassium Citrates, Calcium Lactate, Malic Acid, Citric Acid), Natural Flavours (Pineapple, Mango), Natural Colours (Carotene, Paprika Oleoresins), Antioxidant (Ascorbic Acid)), Peach (15%), Pear (15%)",
            "Jelly (70%) (Water, Sugar, Gelling Agents (Carrageenan, Locust Bean Gum, Xanthan Gum), Acidity Regulators (Sodium Citrates, Potassium Citrates, Calcium Lactate, Malic Acid, Citric Acid), Natural Flavours (Pineapple, Mango), Natural Colours (Carotene, Paprika Oleoresins), Antioxidant (Ascorbic Acid)), Peach (15%), Pear (15%)",
            "Jelly (70%) (Water, Sugar, Gelling Agents (Carrageenan, Locust Bean Gum, Xanthan Gum), Acidity Regulators (Sodium Citrates, Potassium Citrates, Calcium Lactate, Malic Acid, Citric Acid), Natural Flavours (Pineapple, Mango), Natural Colours (Carotene, Paprika Oleoresins), Antioxidant (Ascorbic Acid)), Peach (15%), Pear (15%)",
            "Jelly (70%) (Water, Sugar, Gelling Agents (Carrageenan, Locust Bean Gum, Xanthan Gum), Acidity Regulators (Sodium Citrates, Potassium Citrates, Calcium Lactate, Malic Acid, Citric Acid), Natural Flavours (Pineapple, Mango), Natural Colours (Carotene, Paprika Oleoresins), Antioxidant (Ascorbic Acid)), Peach (15%), Pear (15%)",
            "Jelly (70%) (Water, Sugar, Gelling Agents (Carrageenan, Locust Bean Gum, Xanthan Gum), Acidity Regulators (Sodium Citrates, Potassium Citrates, Calcium Lactate, Malic Acid, Citric Acid), Natural Flavours (Pineapple, Mango), Natural Colours (Carotene, Paprika Oleoresins), Antioxidant (Ascorbic Acid)), Peach (15%), Pear (15%)",
            "Fruits (55%) (Peach, Pear), Reconstituted Refined Juice (Water, Concentrated Pear Juice, Antioxidant (Ascorbic Acid), Acidity Regulator (Citric Acid))",
            "Fruits (55%) (Peach, Pear), Reconstituted Refined Juice (Water, Concentrated Pear Juice, Antioxidant (Ascorbic Acid), Acidity Regulator (Citric Acid))",
            "Jelly (70%) (Water, Sugar, Gelling Agents (Carrageenan, Locust Bean Gum, Xanthan Gum), Acidity Regulators (Sodium Citrates, Potassium Citrates, Calcium Lactate, Malic Acid, Citric Acid), Natural Flavours (Pineapple, Mango), Natural Colours (Carotene, Paprika Oleoresins), Antioxidant (Ascorbic Acid)), Peach (15%), Pear (15%)",
            "Fruits (55%) (Peach, Pear), Reconstituted Refined Juice (Water, Concentrated Pear Juice, Antioxidant (Ascorbic Acid), Acidity Regulator (Citric Acid))",
            "Fruits (55%) (Peach, Pear), Reconstituted Refined Juice (Water, Concentrated Pear Juice, Antioxidant (Ascorbic Acid), Acidity Regulator (Citric Acid))",
            "Jelly (70%) (Water, Sugar, Gelling Agents (Carrageenan, Locust Bean Gum, Xanthan Gum), Acidity Regulators (Sodium Citrates, Potassium Citrates, Calcium Lactate, Malic Acid, Citric Acid), Natural Flavours (Pineapple, Mango), Natural Colours (Carotene, Paprika Oleoresins), Antioxidant (Ascorbic Acid)), Peach (15%), Pear (15%)",
            "Fruits (55%) (Peach, Pear), Reconstituted Refined Juice (Water, Concentrated Pear Juice, Antioxidant (Ascorbic Acid), Acidity Regulator (Citric Acid))",
            "Fruits (55%) (Peach, Pear), Reconstituted Refined Juice (Water, Concentrated Pear Juice, Antioxidant (Ascorbic Acid), Acidity Regulator (Citric Acid))",
            "Jelly (70%) (Water, Sugar, Gelling Agents (Carrageenan, Locust Bean Gum, Xanthan Gum), Acidity Regulators (Sodium Citrates, Potassium Citrates, Calcium Lactate, Malic Acid, Citric Acid), Natural Flavours (Pineapple, Mango), Natural Colours (Carotene, Paprika Oleoresins), Antioxidant (Ascorbic Acid)), Peach (15%), Pear (15%)",
            "Jelly (70%) (Water, Sugar, Gelling Agents (Carrageenan, Locust Bean Gum, Xanthan Gum), Acidity Regulators (Sodium Citrates, Potassium Citrates, Calcium Lactate, Malic Acid, Citric Acid), Natural Flavours (Pineapple, Mango), Natural Colours (Carotene, Paprika Oleoresins), Antioxidant (Ascorbic Acid)), Peach (15%), Pear (15%)"
           ],
           [
            "Indomie Mi Goreng Instant Noodles",
            "Indomie Mi Goreng Instant Noodles",
            "Golden Circle Drinks Sunshine Punch Fruit Drink",
            "Woolworths Secret Burger Sauce",
            "Woolworths Two Fruits In Tropical Jelly",
            "Indomie Mi Goreng Instant Noodles",
            "Indomie Mi Goreng Instant Noodles",
            "Indomie Mi Goreng Instant Noodles",
            "Indomie Mi Goreng Instant Noodles",
            "Indomie Mi Goreng Instant Noodles",
            "Indomie Mi Goreng Instant Noodles",
            "Woolworths Secret Burger Sauce",
            "Indomie Mi Goreng Instant Noodles",
            "Indomie Mi Goreng Instant Noodles",
            "Indomie Mi Goreng Instant Noodles",
            "Indomie Mi Goreng Instant Noodles",
            "Indomie Mi Goreng Instant Noodles",
            "Indomie Mi Goreng Instant Noodles",
            "Indomie Mi Goreng Instant Noodles",
            "Indomie Mi Goreng Instant Noodles",
            "Indomie Mi Goreng Instant Noodles",
            "Indomie Mi Goreng Instant Noodles",
            "Indomie Mi Goreng Instant Noodles",
            "Indomie Mi Goreng Instant Noodles",
            "Indomie Mi Goreng Instant Noodles",
            "Indomie Mi Goreng Instant Noodles",
            "Indomie Mi Goreng Instant Noodles",
            "Indomie Mi Goreng Instant Noodles",
            "Indomie Mi Goreng Instant Noodles",
            "Indomie Mi Goreng Instant Noodles",
            "Indomie Mi Goreng Instant Noodles",
            "Indomie Mi Goreng Instant Noodles",
            "Woolworths Secret Burger Sauce",
            "Indomie Mi Goreng Instant Noodles",
            "Indomie Mi Goreng Instant Noodles",
            "Indomie Mi Goreng Instant Noodles",
            "Indomie Mi Goreng Instant Noodles",
            "Indomie Mi Goreng Instant Noodles",
            "Indomie Mi Goreng Instant Noodles",
            "Indomie Mi Goreng Instant Noodles",
            "Indomie Mi Goreng Instant Noodles",
            "Indomie Mi Goreng Instant Noodles",
            "Indomie Mi Goreng Instant Noodles",
            "Indomie Mi Goreng Instant Noodles",
            "Indomie Mi Goreng Instant Noodles",
            "Indomie Mi Goreng Instant Noodles",
            "Indomie Mi Goreng Instant Noodles",
            "Indomie Mi Goreng Instant Noodles",
            "Indomie Mi Goreng Instant Noodles",
            "Golden Circle Drinks Sunshine Punch Fruit Drink",
            "Woolworths Secret Burger Sauce",
            "Woolworths Two Fruits In Juice Cups",
            "Woolworths Two Fruits In Juice",
            "Woolworths Two Fruits In Tropical Jelly",
            "Indomie Mi Goreng Instant Noodles",
            "Indomie Mi Goreng Instant Noodles",
            "Indomie Mi Goreng Instant Noodles",
            "Indomie Mi Goreng Instant Noodles",
            "Indomie Mi Goreng Instant Noodles",
            "Indomie Mi Goreng Instant Noodles",
            "Indomie Mi Goreng Instant Noodles",
            "Indomie Mi Goreng Instant Noodles",
            "Indomie Mi Goreng Instant Noodles",
            "Indomie Mi Goreng Instant Noodles",
            "Indomie Mi Goreng Instant Noodles",
            "Indomie Mi Goreng Instant Noodles",
            "Indomie Mi Goreng Instant Noodles",
            "Indomie Mi Goreng Instant Noodles",
            "Indomie Mi Goreng Instant Noodles",
            "Indomie Mi Goreng Instant Noodles",
            "Indomie Mi Goreng Instant Noodles",
            "Indomie Mi Goreng Instant Noodles",
            "Indomie Mi Goreng Instant Noodles",
            "Indomie Mi Goreng Instant Noodles",
            "Indomie Mi Goreng Instant Noodles",
            "Indomie Mi Goreng Instant Noodles",
            "Indomie Mi Goreng Instant Noodles",
            "Indomie Mi Goreng Instant Noodles",
            "Indomie Mi Goreng Instant Noodles",
            "Indomie Mi Goreng Instant Noodles",
            "Indomie Mi Goreng Instant Noodles",
            "Indomie Mi Goreng Instant Noodles",
            "Indomie Mi Goreng Instant Noodles",
            "Indomie Mi Goreng Instant Noodles",
            "Golden Circle Drinks Sunshine Punch Fruit Drink",
            "Golden Circle Drinks Sunshine Punch Fruit Drink",
            "Woolworths Secret Burger Sauce",
            "Woolworths Secret Burger Sauce",
            "Woolworths Two Fruits In Juice Cups",
            "Woolworths Two Fruits In Juice",
            "Woolworths Two Fruits In Tropical Jelly",
            "Golden Circle Drinks Sunshine Punch Fruit Drink",
            "Golden Circle Drinks Sunshine Punch Fruit Drink",
            "Golden Circle Drinks Sunshine Punch Fruit Drink",
            "Golden Circle Drinks Sunshine Punch Fruit Drink",
            "Golden Circle Drinks Sunshine Punch Fruit Drink",
            "Golden Circle Drinks Sunshine Punch Fruit Drink",
            "Golden Circle Drinks Sunshine Punch Fruit Drink",
            "Golden Circle Drinks Sunshine Punch Fruit Drink",
            "Golden Circle Drinks Sunshine Punch Fruit Drink",
            "Golden Circle Drinks Sunshine Punch Fruit Drink",
            "Woolworths Secret Burger Sauce",
            "Woolworths Secret Burger Sauce",
            "Woolworths Secret Burger Sauce",
            "Woolworths Secret Burger Sauce",
            "Woolworths Secret Burger Sauce",
            "Woolworths Secret Burger Sauce",
            "Woolworths Two Fruits In Tropical Jelly",
            "Woolworths Secret Burger Sauce",
            "Woolworths Two Fruits In Tropical Jelly",
            "Woolworths Secret Burger Sauce",
            "Woolworths Secret Burger Sauce",
            "Woolworths Secret Burger Sauce",
            "Woolworths Secret Burger Sauce",
            "Woolworths Two Fruits In Juice Cups",
            "Woolworths Two Fruits In Juice",
            "Woolworths Two Fruits In Tropical Jelly",
            "Woolworths Two Fruits In Tropical Jelly",
            "Woolworths Two Fruits In Tropical Jelly",
            "Woolworths Two Fruits In Tropical Jelly",
            "Woolworths Two Fruits In Tropical Jelly",
            "Woolworths Two Fruits In Tropical Jelly",
            "Woolworths Two Fruits In Tropical Jelly",
            "Woolworths Two Fruits In Tropical Jelly",
            "Woolworths Two Fruits In Juice Cups",
            "Woolworths Two Fruits In Juice",
            "Woolworths Two Fruits In Tropical Jelly",
            "Woolworths Two Fruits In Juice Cups",
            "Woolworths Two Fruits In Juice",
            "Woolworths Two Fruits In Tropical Jelly",
            "Woolworths Two Fruits In Juice Cups",
            "Woolworths Two Fruits In Juice",
            "Woolworths Two Fruits In Tropical Jelly",
            "Woolworths Two Fruits In Tropical Jelly"
           ],
           [
            "Sugar",
            "Sugar",
            "Sugar",
            "Sugar",
            "Sugar",
            "Wheat Flour",
            "Wheat Flour",
            "Refined Palm Oil",
            "Refined Palm Oil",
            "Salt",
            "Salt",
            "Salt",
            "451",
            "451",
            "501",
            "501",
            "500",
            "500",
            "412",
            "412",
            "101",
            "101",
            "Seasoning Powder",
            "Seasoning Powder",
            "621",
            "621",
            "627",
            "627",
            "Garlic Powder",
            "Garlic Powder",
            "Onion Powder",
            "Onion Powder",
            "Onion Powder",
            "Yeast Extract",
            "Yeast Extract",
            "Artificial Flavour",
            "Artificial Flavour",
            "Pepper",
            "Pepper",
            "551",
            "551",
            "Seasoning Oil",
            "Seasoning Oil",
            "Onion",
            "Onion",
            "Sweet Soy Sauce",
            "Sweet Soy Sauce",
            "Water",
            "Water",
            "Water",
            "Water",
            "Water",
            "Water",
            "Water",
            "Wheat",
            "Wheat",
            "Soy Bean",
            "Soy Bean",
            "Spices",
            "Spices",
            "Sesame Oil",
            "Sesame Oil",
            "Chilli Sauce",
            "Chilli Sauce",
            "Chilli",
            "Chilli",
            "Tapioca Starch",
            "Tapioca Starch",
            "260",
            "260",
            "330",
            "330",
            "Herbs",
            "Herbs",
            "1211",
            "1211",
            "223",
            "223",
            "Fried Onion",
            "Fried Onion",
            "319",
            "319",
            "631",
            "631",
            "Citric Acid",
            "Natural Flavours",
            "1422",
            "Citric Acid",
            "Citric Acid",
            "Citric Acid",
            "Citric Acid",
            "Vitamin C",
            "Apple",
            "Orange",
            "Pineapple",
            "Passionfruit",
            "Pear",
            "Potassium Citrate",
            "Pectin",
            "Water Extracted Orange",
            "Peach Purée",
            "Canola Oil",
            "Vinegar",
            "Xanthan Gum",
            "Free Range Egg Yolk",
            "Gherkin",
            "Carotene",
            "Carotene",
            "Paprika Oleoresins",
            "Paprika Oleoresins",
            "Potassium Sorbate",
            "Dill",
            "Herb Extract",
            "Mustard Oil",
            "Ascorbic Acid",
            "Ascorbic Acid",
            "Ascorbic Acid",
            "Carrageenan",
            "Locust Bean Gum",
            "Xanthan Gum",
            "Sodium Citrate",
            "Potassium Citrate",
            "Calcium Lactate",
            "Malic Acid",
            "Peach",
            "Peach",
            "Peach",
            "Pear",
            "Pear",
            "Pear",
            "Concentrated Pear Juice",
            "Concentrated Pear Juice",
            "Pineapple",
            "Mango"
           ],
           [
            "Sugar",
            "Sugar",
            "Sugar",
            "Sugar",
            "Sugar",
            "Wheat Flour",
            "Wheat Flour",
            "Refined Palm Oil",
            "Refined Palm Oil",
            "Salt",
            "Salt",
            "Salt",
            "Acidity Regulator 451",
            "Acidity Regulator 451",
            "Acidity Regulator 501",
            "Acidity Regulator 501",
            "Sodium Bicarbonate",
            "Sodium Bicarbonate",
            "Guar Gum",
            "Guar Gum",
            "Colour 101",
            "Colour 101",
            "Seasoning Powder",
            "Seasoning Powder",
            "Flavour Enhancer 621",
            "Flavour Enhancer 621",
            "Disodium Guanylate",
            "Disodium Guanylate",
            "Garlic Powder",
            "Garlic Powder",
            "Onion Powder",
            "Onion Powder",
            "Onion Powder",
            "Yeast Extract",
            "Yeast Extract",
            "Artificial Flavour",
            "Artificial Flavour",
            "Pepper",
            "Pepper",
            "Anti Caking Agent 551",
            "Anti Caking Agent 551",
            "Seasoning Oil",
            "Seasoning Oil",
            "Onion",
            "Onion",
            "Sweet Soy Sauce",
            "Sweet Soy Sauce",
            "Water",
            "Water",
            "Water",
            "Water",
            "Water",
            "Water",
            "Water",
            "Wheat",
            "Wheat",
            "Soy Bean",
            "Soy Bean",
            "Spices",
            "Spices",
            "Sesame Oil",
            "Sesame Oil",
            "Chilli Sauce",
            "Chilli Sauce",
            "Chilli",
            "Chilli",
            "Tapioca Starch",
            "Tapioca Starch",
            "Acetic Acid",
            "Acetic Acid",
            "Citric Acid",
            "Citric Acid",
            "Herbs",
            "Herbs",
            "Preservative 1211",
            "Preservative 1211",
            "Sodium Metabisulfite",
            "Sodium Metabisulfite",
            "Fried Onion",
            "Fried Onion",
            "TBHQ",
            "TBHQ",
            "Disodium Inosinate",
            "Disodium Inosinate",
            "Citric Acid",
            "Natural Flavours",
            "Thickener 1422",
            "Citric Acid",
            "Citric Acid",
            "Citric Acid",
            "Citric Acid",
            "Vitamin C",
            "Reconstituted Apple Juice",
            "Reconstituted Fruit Juice Orange",
            "Reconstituted Fruit Juice Pineapple",
            "Reconstituted Fruit Juice Passionfruit",
            "Reconstituted Fruit Juice Pear",
            "Potassium Citrate",
            "Pectin",
            "Reconstituted Fruit Juice Water Extracted Orange",
            "Reconstituted Fruit Juice Peach Purée",
            "Canola Oil",
            "Vinegar",
            "Xanthan Gum",
            "Free Range Egg Yolk",
            "Gherkin",
            "Carotene",
            "Carotene",
            "Paprika Oleoresins",
            "Paprika Oleoresins",
            "Potassium Sorbate",
            "Dill",
            "Herb Extract",
            "Mustard Oil",
            "Ascorbic Acid",
            "Ascorbic Acid",
            "Ascorbic Acid",
            "Carrageenan",
            "Locust Bean Gum",
            "Xanthan Gum",
            "Sodium Citrate",
            "Potassium Citrate",
            "Calcium Lactate",
            "Malic Acid",
            "Fruit Peach",
            "Fruit Peach",
            "Fruit Peach",
            "Pear",
            "Pear",
            "Pear",
            "Reconstituted Refined Juice Concentrated Pear Juice",
            "Reconstituted Refined Juice Concentrated Pear Juice",
            "Natural Flavour Pineapple",
            "Natural Flavour Mango"
           ],
           [
            "group1",
            "group1",
            "group1",
            "group1",
            "group1",
            "group1",
            "group1",
            "group1",
            "group1",
            "group1",
            "group1",
            "group1",
            "group1",
            "group1",
            "group1",
            "group1",
            "group1",
            "group1",
            "group1",
            "group1",
            "group1",
            "group1",
            "group1",
            "group1",
            "group1",
            "group1",
            "group1",
            "group1",
            "group1",
            "group1",
            "group1",
            "group1",
            "group1",
            "group1",
            "group1",
            "group1",
            "group1",
            "group1",
            "group1",
            "group1",
            "group1",
            "group1",
            "group1",
            "group1",
            "group1",
            "group1",
            "group1",
            "group1",
            "group1",
            "group1",
            "group1",
            "group2",
            "group2",
            "group1",
            "group1",
            "group1",
            "group1",
            "group1",
            "group1",
            "group1",
            "group1",
            "group1",
            "group1",
            "group1",
            "group1",
            "group1",
            "group1",
            "group1",
            "group1",
            "group1",
            "group1",
            "group1",
            "group1",
            "group1",
            "group1",
            "group1",
            "group1",
            "group1",
            "group1",
            "group1",
            "group1",
            "group1",
            "group1",
            "group1",
            "group1",
            "group1",
            "group1",
            "group1",
            "group2",
            "group2",
            "group1",
            "group1",
            "group1",
            "group1",
            "group1",
            "group1",
            "group1",
            "group1",
            "group1",
            "group1",
            "group1",
            "group1",
            "group1",
            "group1",
            "group1",
            "group1",
            "group1",
            "group1",
            "group1",
            "group1",
            "group1",
            "group1",
            "group1",
            "group1",
            "group2",
            "group2",
            "group1",
            "group1",
            "group1",
            "group1",
            "group1",
            "group1",
            "group1",
            "group1",
            "group2",
            "group2",
            "group1",
            "group2",
            "group2",
            "group1",
            "group2",
            "group2",
            "group1",
            "group1"
           ],
           [
            "Indomie Mi Goreng Instant Noodles_Sugar",
            "Indomie Mi Goreng Instant Noodles_Sugar",
            "Golden Circle Drinks Sunshine Punch Fruit Drink_Sugar",
            "Woolworths Secret Burger Sauce_Sugar",
            "Woolworths Two Fruits In Tropical Jelly_Sugar",
            "Indomie Mi Goreng Instant Noodles_Wheat Flour",
            "Indomie Mi Goreng Instant Noodles_Wheat Flour",
            "Indomie Mi Goreng Instant Noodles_Refined Palm Oil",
            "Indomie Mi Goreng Instant Noodles_Refined Palm Oil",
            "Indomie Mi Goreng Instant Noodles_Salt",
            "Indomie Mi Goreng Instant Noodles_Salt",
            "Woolworths Secret Burger Sauce_Salt",
            "Indomie Mi Goreng Instant Noodles_451",
            "Indomie Mi Goreng Instant Noodles_451",
            "Indomie Mi Goreng Instant Noodles_501",
            "Indomie Mi Goreng Instant Noodles_501",
            "Indomie Mi Goreng Instant Noodles_500",
            "Indomie Mi Goreng Instant Noodles_500",
            "Indomie Mi Goreng Instant Noodles_412",
            "Indomie Mi Goreng Instant Noodles_412",
            "Indomie Mi Goreng Instant Noodles_101",
            "Indomie Mi Goreng Instant Noodles_101",
            "Indomie Mi Goreng Instant Noodles_Seasoning Powder",
            "Indomie Mi Goreng Instant Noodles_Seasoning Powder",
            "Indomie Mi Goreng Instant Noodles_621",
            "Indomie Mi Goreng Instant Noodles_621",
            "Indomie Mi Goreng Instant Noodles_627",
            "Indomie Mi Goreng Instant Noodles_627",
            "Indomie Mi Goreng Instant Noodles_Garlic Powder",
            "Indomie Mi Goreng Instant Noodles_Garlic Powder",
            "Indomie Mi Goreng Instant Noodles_Onion Powder",
            "Indomie Mi Goreng Instant Noodles_Onion Powder",
            "Woolworths Secret Burger Sauce_Onion Powder",
            "Indomie Mi Goreng Instant Noodles_Yeast Extract",
            "Indomie Mi Goreng Instant Noodles_Yeast Extract",
            "Indomie Mi Goreng Instant Noodles_Artificial Flavour",
            "Indomie Mi Goreng Instant Noodles_Artificial Flavour",
            "Indomie Mi Goreng Instant Noodles_Pepper",
            "Indomie Mi Goreng Instant Noodles_Pepper",
            "Indomie Mi Goreng Instant Noodles_551",
            "Indomie Mi Goreng Instant Noodles_551",
            "Indomie Mi Goreng Instant Noodles_Seasoning Oil",
            "Indomie Mi Goreng Instant Noodles_Seasoning Oil",
            "Indomie Mi Goreng Instant Noodles_Onion",
            "Indomie Mi Goreng Instant Noodles_Onion",
            "Indomie Mi Goreng Instant Noodles_Sweet Soy Sauce",
            "Indomie Mi Goreng Instant Noodles_Sweet Soy Sauce",
            "Indomie Mi Goreng Instant Noodles_Water",
            "Indomie Mi Goreng Instant Noodles_Water",
            "Golden Circle Drinks Sunshine Punch Fruit Drink_Water",
            "Woolworths Secret Burger Sauce_Water",
            "Woolworths Two Fruits In Juice Cups_Water",
            "Woolworths Two Fruits In Juice_Water",
            "Woolworths Two Fruits In Tropical Jelly_Water",
            "Indomie Mi Goreng Instant Noodles_Wheat",
            "Indomie Mi Goreng Instant Noodles_Wheat",
            "Indomie Mi Goreng Instant Noodles_Soy Bean",
            "Indomie Mi Goreng Instant Noodles_Soy Bean",
            "Indomie Mi Goreng Instant Noodles_Spices",
            "Indomie Mi Goreng Instant Noodles_Spices",
            "Indomie Mi Goreng Instant Noodles_Sesame Oil",
            "Indomie Mi Goreng Instant Noodles_Sesame Oil",
            "Indomie Mi Goreng Instant Noodles_Chilli Sauce",
            "Indomie Mi Goreng Instant Noodles_Chilli Sauce",
            "Indomie Mi Goreng Instant Noodles_Chilli",
            "Indomie Mi Goreng Instant Noodles_Chilli",
            "Indomie Mi Goreng Instant Noodles_Tapioca Starch",
            "Indomie Mi Goreng Instant Noodles_Tapioca Starch",
            "Indomie Mi Goreng Instant Noodles_260",
            "Indomie Mi Goreng Instant Noodles_260",
            "Indomie Mi Goreng Instant Noodles_330",
            "Indomie Mi Goreng Instant Noodles_330",
            "Indomie Mi Goreng Instant Noodles_Herbs",
            "Indomie Mi Goreng Instant Noodles_Herbs",
            "Indomie Mi Goreng Instant Noodles_1211",
            "Indomie Mi Goreng Instant Noodles_1211",
            "Indomie Mi Goreng Instant Noodles_223",
            "Indomie Mi Goreng Instant Noodles_223",
            "Indomie Mi Goreng Instant Noodles_Fried Onion",
            "Indomie Mi Goreng Instant Noodles_Fried Onion",
            "Indomie Mi Goreng Instant Noodles_319",
            "Indomie Mi Goreng Instant Noodles_319",
            "Indomie Mi Goreng Instant Noodles_631",
            "Indomie Mi Goreng Instant Noodles_631",
            "Golden Circle Drinks Sunshine Punch Fruit Drink_Citric Acid",
            "Golden Circle Drinks Sunshine Punch Fruit Drink_Natural Flavours",
            "Woolworths Secret Burger Sauce_1422",
            "Woolworths Secret Burger Sauce_Citric Acid",
            "Woolworths Two Fruits In Juice Cups_Citric Acid",
            "Woolworths Two Fruits In Juice_Citric Acid",
            "Woolworths Two Fruits In Tropical Jelly_Citric Acid",
            "Golden Circle Drinks Sunshine Punch Fruit Drink_Vitamin C",
            "Golden Circle Drinks Sunshine Punch Fruit Drink_Apple",
            "Golden Circle Drinks Sunshine Punch Fruit Drink_Orange",
            "Golden Circle Drinks Sunshine Punch Fruit Drink_Pineapple",
            "Golden Circle Drinks Sunshine Punch Fruit Drink_Passionfruit",
            "Golden Circle Drinks Sunshine Punch Fruit Drink_Pear",
            "Golden Circle Drinks Sunshine Punch Fruit Drink_Potassium Citrate",
            "Golden Circle Drinks Sunshine Punch Fruit Drink_Pectin",
            "Golden Circle Drinks Sunshine Punch Fruit Drink_Water Extracted Orange",
            "Golden Circle Drinks Sunshine Punch Fruit Drink_Peach Purée",
            "Woolworths Secret Burger Sauce_Canola Oil",
            "Woolworths Secret Burger Sauce_Vinegar",
            "Woolworths Secret Burger Sauce_Xanthan Gum",
            "Woolworths Secret Burger Sauce_Free Range Egg Yolk",
            "Woolworths Secret Burger Sauce_Gherkin",
            "Woolworths Secret Burger Sauce_Carotene",
            "Woolworths Two Fruits In Tropical Jelly_Carotene",
            "Woolworths Secret Burger Sauce_Paprika Oleoresins",
            "Woolworths Two Fruits In Tropical Jelly_Paprika Oleoresins",
            "Woolworths Secret Burger Sauce_Potassium Sorbate",
            "Woolworths Secret Burger Sauce_Dill",
            "Woolworths Secret Burger Sauce_Herb Extract",
            "Woolworths Secret Burger Sauce_Mustard Oil",
            "Woolworths Two Fruits In Juice Cups_Ascorbic Acid",
            "Woolworths Two Fruits In Juice_Ascorbic Acid",
            "Woolworths Two Fruits In Tropical Jelly_Ascorbic Acid",
            "Woolworths Two Fruits In Tropical Jelly_Carrageenan",
            "Woolworths Two Fruits In Tropical Jelly_Locust Bean Gum",
            "Woolworths Two Fruits In Tropical Jelly_Xanthan Gum",
            "Woolworths Two Fruits In Tropical Jelly_Sodium Citrate",
            "Woolworths Two Fruits In Tropical Jelly_Potassium Citrate",
            "Woolworths Two Fruits In Tropical Jelly_Calcium Lactate",
            "Woolworths Two Fruits In Tropical Jelly_Malic Acid",
            "Woolworths Two Fruits In Juice Cups_Peach",
            "Woolworths Two Fruits In Juice_Peach",
            "Woolworths Two Fruits In Tropical Jelly_Peach",
            "Woolworths Two Fruits In Juice Cups_Pear",
            "Woolworths Two Fruits In Juice_Pear",
            "Woolworths Two Fruits In Tropical Jelly_Pear",
            "Woolworths Two Fruits In Juice Cups_Concentrated Pear Juice",
            "Woolworths Two Fruits In Juice_Concentrated Pear Juice",
            "Woolworths Two Fruits In Tropical Jelly_Pineapple",
            "Woolworths Two Fruits In Tropical Jelly_Mango"
           ]
          ]
         },
         "header": {
          "values": [
           "Step",
           "Description",
           "Recipe",
           "Product",
           "Ingredient",
           "IngredientResearch",
           "Group",
           "CombinedGroup"
          ]
         },
         "type": "table"
        }
       ],
       "layout": {
        "template": {
         "data": {
          "bar": [
           {
            "error_x": {
             "color": "#2a3f5f"
            },
            "error_y": {
             "color": "#2a3f5f"
            },
            "marker": {
             "line": {
              "color": "#E5ECF6",
              "width": 0.5
             },
             "pattern": {
              "fillmode": "overlay",
              "size": 10,
              "solidity": 0.2
             }
            },
            "type": "bar"
           }
          ],
          "barpolar": [
           {
            "marker": {
             "line": {
              "color": "#E5ECF6",
              "width": 0.5
             },
             "pattern": {
              "fillmode": "overlay",
              "size": 10,
              "solidity": 0.2
             }
            },
            "type": "barpolar"
           }
          ],
          "carpet": [
           {
            "aaxis": {
             "endlinecolor": "#2a3f5f",
             "gridcolor": "white",
             "linecolor": "white",
             "minorgridcolor": "white",
             "startlinecolor": "#2a3f5f"
            },
            "baxis": {
             "endlinecolor": "#2a3f5f",
             "gridcolor": "white",
             "linecolor": "white",
             "minorgridcolor": "white",
             "startlinecolor": "#2a3f5f"
            },
            "type": "carpet"
           }
          ],
          "choropleth": [
           {
            "colorbar": {
             "outlinewidth": 0,
             "ticks": ""
            },
            "type": "choropleth"
           }
          ],
          "contour": [
           {
            "colorbar": {
             "outlinewidth": 0,
             "ticks": ""
            },
            "colorscale": [
             [
              0,
              "#0d0887"
             ],
             [
              0.1111111111111111,
              "#46039f"
             ],
             [
              0.2222222222222222,
              "#7201a8"
             ],
             [
              0.3333333333333333,
              "#9c179e"
             ],
             [
              0.4444444444444444,
              "#bd3786"
             ],
             [
              0.5555555555555556,
              "#d8576b"
             ],
             [
              0.6666666666666666,
              "#ed7953"
             ],
             [
              0.7777777777777778,
              "#fb9f3a"
             ],
             [
              0.8888888888888888,
              "#fdca26"
             ],
             [
              1,
              "#f0f921"
             ]
            ],
            "type": "contour"
           }
          ],
          "contourcarpet": [
           {
            "colorbar": {
             "outlinewidth": 0,
             "ticks": ""
            },
            "type": "contourcarpet"
           }
          ],
          "heatmap": [
           {
            "colorbar": {
             "outlinewidth": 0,
             "ticks": ""
            },
            "colorscale": [
             [
              0,
              "#0d0887"
             ],
             [
              0.1111111111111111,
              "#46039f"
             ],
             [
              0.2222222222222222,
              "#7201a8"
             ],
             [
              0.3333333333333333,
              "#9c179e"
             ],
             [
              0.4444444444444444,
              "#bd3786"
             ],
             [
              0.5555555555555556,
              "#d8576b"
             ],
             [
              0.6666666666666666,
              "#ed7953"
             ],
             [
              0.7777777777777778,
              "#fb9f3a"
             ],
             [
              0.8888888888888888,
              "#fdca26"
             ],
             [
              1,
              "#f0f921"
             ]
            ],
            "type": "heatmap"
           }
          ],
          "heatmapgl": [
           {
            "colorbar": {
             "outlinewidth": 0,
             "ticks": ""
            },
            "colorscale": [
             [
              0,
              "#0d0887"
             ],
             [
              0.1111111111111111,
              "#46039f"
             ],
             [
              0.2222222222222222,
              "#7201a8"
             ],
             [
              0.3333333333333333,
              "#9c179e"
             ],
             [
              0.4444444444444444,
              "#bd3786"
             ],
             [
              0.5555555555555556,
              "#d8576b"
             ],
             [
              0.6666666666666666,
              "#ed7953"
             ],
             [
              0.7777777777777778,
              "#fb9f3a"
             ],
             [
              0.8888888888888888,
              "#fdca26"
             ],
             [
              1,
              "#f0f921"
             ]
            ],
            "type": "heatmapgl"
           }
          ],
          "histogram": [
           {
            "marker": {
             "pattern": {
              "fillmode": "overlay",
              "size": 10,
              "solidity": 0.2
             }
            },
            "type": "histogram"
           }
          ],
          "histogram2d": [
           {
            "colorbar": {
             "outlinewidth": 0,
             "ticks": ""
            },
            "colorscale": [
             [
              0,
              "#0d0887"
             ],
             [
              0.1111111111111111,
              "#46039f"
             ],
             [
              0.2222222222222222,
              "#7201a8"
             ],
             [
              0.3333333333333333,
              "#9c179e"
             ],
             [
              0.4444444444444444,
              "#bd3786"
             ],
             [
              0.5555555555555556,
              "#d8576b"
             ],
             [
              0.6666666666666666,
              "#ed7953"
             ],
             [
              0.7777777777777778,
              "#fb9f3a"
             ],
             [
              0.8888888888888888,
              "#fdca26"
             ],
             [
              1,
              "#f0f921"
             ]
            ],
            "type": "histogram2d"
           }
          ],
          "histogram2dcontour": [
           {
            "colorbar": {
             "outlinewidth": 0,
             "ticks": ""
            },
            "colorscale": [
             [
              0,
              "#0d0887"
             ],
             [
              0.1111111111111111,
              "#46039f"
             ],
             [
              0.2222222222222222,
              "#7201a8"
             ],
             [
              0.3333333333333333,
              "#9c179e"
             ],
             [
              0.4444444444444444,
              "#bd3786"
             ],
             [
              0.5555555555555556,
              "#d8576b"
             ],
             [
              0.6666666666666666,
              "#ed7953"
             ],
             [
              0.7777777777777778,
              "#fb9f3a"
             ],
             [
              0.8888888888888888,
              "#fdca26"
             ],
             [
              1,
              "#f0f921"
             ]
            ],
            "type": "histogram2dcontour"
           }
          ],
          "mesh3d": [
           {
            "colorbar": {
             "outlinewidth": 0,
             "ticks": ""
            },
            "type": "mesh3d"
           }
          ],
          "parcoords": [
           {
            "line": {
             "colorbar": {
              "outlinewidth": 0,
              "ticks": ""
             }
            },
            "type": "parcoords"
           }
          ],
          "pie": [
           {
            "automargin": true,
            "type": "pie"
           }
          ],
          "scatter": [
           {
            "fillpattern": {
             "fillmode": "overlay",
             "size": 10,
             "solidity": 0.2
            },
            "type": "scatter"
           }
          ],
          "scatter3d": [
           {
            "line": {
             "colorbar": {
              "outlinewidth": 0,
              "ticks": ""
             }
            },
            "marker": {
             "colorbar": {
              "outlinewidth": 0,
              "ticks": ""
             }
            },
            "type": "scatter3d"
           }
          ],
          "scattercarpet": [
           {
            "marker": {
             "colorbar": {
              "outlinewidth": 0,
              "ticks": ""
             }
            },
            "type": "scattercarpet"
           }
          ],
          "scattergeo": [
           {
            "marker": {
             "colorbar": {
              "outlinewidth": 0,
              "ticks": ""
             }
            },
            "type": "scattergeo"
           }
          ],
          "scattergl": [
           {
            "marker": {
             "colorbar": {
              "outlinewidth": 0,
              "ticks": ""
             }
            },
            "type": "scattergl"
           }
          ],
          "scattermapbox": [
           {
            "marker": {
             "colorbar": {
              "outlinewidth": 0,
              "ticks": ""
             }
            },
            "type": "scattermapbox"
           }
          ],
          "scatterpolar": [
           {
            "marker": {
             "colorbar": {
              "outlinewidth": 0,
              "ticks": ""
             }
            },
            "type": "scatterpolar"
           }
          ],
          "scatterpolargl": [
           {
            "marker": {
             "colorbar": {
              "outlinewidth": 0,
              "ticks": ""
             }
            },
            "type": "scatterpolargl"
           }
          ],
          "scatterternary": [
           {
            "marker": {
             "colorbar": {
              "outlinewidth": 0,
              "ticks": ""
             }
            },
            "type": "scatterternary"
           }
          ],
          "surface": [
           {
            "colorbar": {
             "outlinewidth": 0,
             "ticks": ""
            },
            "colorscale": [
             [
              0,
              "#0d0887"
             ],
             [
              0.1111111111111111,
              "#46039f"
             ],
             [
              0.2222222222222222,
              "#7201a8"
             ],
             [
              0.3333333333333333,
              "#9c179e"
             ],
             [
              0.4444444444444444,
              "#bd3786"
             ],
             [
              0.5555555555555556,
              "#d8576b"
             ],
             [
              0.6666666666666666,
              "#ed7953"
             ],
             [
              0.7777777777777778,
              "#fb9f3a"
             ],
             [
              0.8888888888888888,
              "#fdca26"
             ],
             [
              1,
              "#f0f921"
             ]
            ],
            "type": "surface"
           }
          ],
          "table": [
           {
            "cells": {
             "fill": {
              "color": "#EBF0F8"
             },
             "line": {
              "color": "white"
             }
            },
            "header": {
             "fill": {
              "color": "#C8D4E3"
             },
             "line": {
              "color": "white"
             }
            },
            "type": "table"
           }
          ]
         },
         "layout": {
          "annotationdefaults": {
           "arrowcolor": "#2a3f5f",
           "arrowhead": 0,
           "arrowwidth": 1
          },
          "autotypenumbers": "strict",
          "coloraxis": {
           "colorbar": {
            "outlinewidth": 0,
            "ticks": ""
           }
          },
          "colorscale": {
           "diverging": [
            [
             0,
             "#8e0152"
            ],
            [
             0.1,
             "#c51b7d"
            ],
            [
             0.2,
             "#de77ae"
            ],
            [
             0.3,
             "#f1b6da"
            ],
            [
             0.4,
             "#fde0ef"
            ],
            [
             0.5,
             "#f7f7f7"
            ],
            [
             0.6,
             "#e6f5d0"
            ],
            [
             0.7,
             "#b8e186"
            ],
            [
             0.8,
             "#7fbc41"
            ],
            [
             0.9,
             "#4d9221"
            ],
            [
             1,
             "#276419"
            ]
           ],
           "sequential": [
            [
             0,
             "#0d0887"
            ],
            [
             0.1111111111111111,
             "#46039f"
            ],
            [
             0.2222222222222222,
             "#7201a8"
            ],
            [
             0.3333333333333333,
             "#9c179e"
            ],
            [
             0.4444444444444444,
             "#bd3786"
            ],
            [
             0.5555555555555556,
             "#d8576b"
            ],
            [
             0.6666666666666666,
             "#ed7953"
            ],
            [
             0.7777777777777778,
             "#fb9f3a"
            ],
            [
             0.8888888888888888,
             "#fdca26"
            ],
            [
             1,
             "#f0f921"
            ]
           ],
           "sequentialminus": [
            [
             0,
             "#0d0887"
            ],
            [
             0.1111111111111111,
             "#46039f"
            ],
            [
             0.2222222222222222,
             "#7201a8"
            ],
            [
             0.3333333333333333,
             "#9c179e"
            ],
            [
             0.4444444444444444,
             "#bd3786"
            ],
            [
             0.5555555555555556,
             "#d8576b"
            ],
            [
             0.6666666666666666,
             "#ed7953"
            ],
            [
             0.7777777777777778,
             "#fb9f3a"
            ],
            [
             0.8888888888888888,
             "#fdca26"
            ],
            [
             1,
             "#f0f921"
            ]
           ]
          },
          "colorway": [
           "#636efa",
           "#EF553B",
           "#00cc96",
           "#ab63fa",
           "#FFA15A",
           "#19d3f3",
           "#FF6692",
           "#B6E880",
           "#FF97FF",
           "#FECB52"
          ],
          "font": {
           "color": "#2a3f5f"
          },
          "geo": {
           "bgcolor": "white",
           "lakecolor": "white",
           "landcolor": "#E5ECF6",
           "showlakes": true,
           "showland": true,
           "subunitcolor": "white"
          },
          "hoverlabel": {
           "align": "left"
          },
          "hovermode": "closest",
          "mapbox": {
           "style": "light"
          },
          "paper_bgcolor": "white",
          "plot_bgcolor": "#E5ECF6",
          "polar": {
           "angularaxis": {
            "gridcolor": "white",
            "linecolor": "white",
            "ticks": ""
           },
           "bgcolor": "#E5ECF6",
           "radialaxis": {
            "gridcolor": "white",
            "linecolor": "white",
            "ticks": ""
           }
          },
          "scene": {
           "xaxis": {
            "backgroundcolor": "#E5ECF6",
            "gridcolor": "white",
            "gridwidth": 2,
            "linecolor": "white",
            "showbackground": true,
            "ticks": "",
            "zerolinecolor": "white"
           },
           "yaxis": {
            "backgroundcolor": "#E5ECF6",
            "gridcolor": "white",
            "gridwidth": 2,
            "linecolor": "white",
            "showbackground": true,
            "ticks": "",
            "zerolinecolor": "white"
           },
           "zaxis": {
            "backgroundcolor": "#E5ECF6",
            "gridcolor": "white",
            "gridwidth": 2,
            "linecolor": "white",
            "showbackground": true,
            "ticks": "",
            "zerolinecolor": "white"
           }
          },
          "shapedefaults": {
           "line": {
            "color": "#2a3f5f"
           }
          },
          "ternary": {
           "aaxis": {
            "gridcolor": "white",
            "linecolor": "white",
            "ticks": ""
           },
           "baxis": {
            "gridcolor": "white",
            "linecolor": "white",
            "ticks": ""
           },
           "bgcolor": "#E5ECF6",
           "caxis": {
            "gridcolor": "white",
            "linecolor": "white",
            "ticks": ""
           }
          },
          "title": {
           "x": 0.05
          },
          "xaxis": {
           "automargin": true,
           "gridcolor": "white",
           "linecolor": "white",
           "ticks": "",
           "title": {
            "standoff": 15
           },
           "zerolinecolor": "white",
           "zerolinewidth": 2
          },
          "yaxis": {
           "automargin": true,
           "gridcolor": "white",
           "linecolor": "white",
           "ticks": "",
           "title": {
            "standoff": 15
           },
           "zerolinecolor": "white",
           "zerolinewidth": 2
          }
         }
        },
        "title": {
         "text": "ManufacturingProcess Grouped by Keyword and Product-Ingredient Combinations"
        }
       }
      }
     },
     "metadata": {},
     "output_type": "display_data"
    }
   ],
   "source": [
    "import pandas as pd\n",
    "import plotly.graph_objects as go\n",
    "\n",
    "query = \"\"\"\n",
    "MATCH (r:Recipe)-[:HAS_MANUFACTURING_PROCESS]->(mp:ManufacturingProcess)\n",
    "MATCH (p:Product)-[:HAS_RECIPE]->(r)\n",
    "MATCH (r)-[:USES_INGREDIENT]->(i:Ingredient)\n",
    "MATCH (i)-[:HAS_RESEARCH]->(z:IngredientResearch)\n",
    "RETURN mp.Step AS ManufacturingProcessStep, \n",
    "       mp.Description AS ManufacturingProcessDescription,\n",
    "       r.ingredients_orig AS Recipe, \n",
    "       p.name AS Product,\n",
    "       i.name AS Ingredient,\n",
    "       z.ingredient_name AS IngredientResearch\n",
    "\"\"\"\n",
    "\n",
    "# Retrieve data from Neo4j\n",
    "with driver.session() as session:\n",
    "    result = session.run(query)\n",
    "    neo4j_data = [record.data() for record in result]\n",
    "\n",
    "# Create DataFrame from neo4j_data\n",
    "df = pd.DataFrame(neo4j_data)\n",
    "\n",
    "# Define keyword groups\n",
    "keyword_groups = {\n",
    "    'group1': ['water', 'sugar'],\n",
    "    'group2': ['water', 'and']\n",
    "}\n",
    "\n",
    "# Function to check if a description contains all keywords in a group\n",
    "def check_keywords(description, keywords):\n",
    "    return all(kw.lower() in str(description).lower() for kw in keywords) if pd.notnull(description) else False\n",
    "\n",
    "# Create a function to assign group\n",
    "def assign_group(description):\n",
    "    for group_name, keywords in keyword_groups.items():\n",
    "        if check_keywords(description, keywords):\n",
    "            return group_name\n",
    "    return None\n",
    "\n",
    "# Apply the function to create the Group column\n",
    "df['Group'] = df['ManufacturingProcessDescription'].apply(assign_group)\n",
    "\n",
    "# Create a function to assign combined group\n",
    "def assign_combined_group(row):\n",
    "    return f\"{row['Product']}_{row['Ingredient']}\" if pd.notnull(row['Product']) and pd.notnull(row['Ingredient']) else None\n",
    "\n",
    "# Apply the function to create the CombinedGroup column\n",
    "df['CombinedGroup'] = df.apply(assign_combined_group, axis=1)\n",
    "\n",
    "# Filter rows that belong to any group\n",
    "filtered_df = df.dropna(subset=['Group', 'CombinedGroup'])\n",
    "\n",
    "# create the Plotly table\n",
    "fig_data = [go.Table(\n",
    "    header=dict(values=['Step', 'Description', 'Recipe', 'Product', 'Ingredient', 'IngredientResearch','Group', 'CombinedGroup']),\n",
    "    cells=dict(values=[filtered_df['ManufacturingProcessStep'], \n",
    "                       filtered_df['ManufacturingProcessDescription'], \n",
    "                       filtered_df['Recipe'], \n",
    "                       filtered_df['Product'],\n",
    "                       filtered_df['Ingredient'],\n",
    "                       filtered_df['IngredientResearch'],\n",
    "                       filtered_df['Group'],\n",
    "                       filtered_df['CombinedGroup']])\n",
    ")]\n",
    "\n",
    "# set up layout\n",
    "fig_layout = go.Layout(\n",
    "    title='ManufacturingProcess Grouped by Keyword and Product-Ingredient Combinations'\n",
    ")\n",
    "\n",
    "fig = go.Figure(data=fig_data, layout=fig_layout)\n",
    "fig.show()"
   ]
  },
  {
   "cell_type": "code",
   "execution_count": 7,
   "metadata": {},
   "outputs": [
    {
     "data": {
      "application/vnd.plotly.v1+json": {
       "config": {
        "plotlyServerURL": "https://plot.ly"
       },
       "data": [
        {
         "cells": {
          "values": [
           [
            "Step 6",
            "Step 7",
            "Step 2",
            "Step 1",
            "Step 1",
            "Step 6",
            "Step 7",
            "Step 6",
            "Step 7",
            "Step 6",
            "Step 7",
            "Step 1",
            "Step 6",
            "Step 7",
            "Step 6",
            "Step 7",
            "Step 6",
            "Step 7",
            "Step 6",
            "Step 7",
            "Step 6",
            "Step 7",
            "Step 6",
            "Step 7",
            "Step 6",
            "Step 7",
            "Step 6",
            "Step 7",
            "Step 6",
            "Step 7",
            "Step 6",
            "Step 7",
            "Step 1",
            "Step 6",
            "Step 7",
            "Step 6",
            "Step 7",
            "Step 6",
            "Step 7",
            "Step 6",
            "Step 7",
            "Step 6",
            "Step 7",
            "Step 6",
            "Step 7",
            "Step 6",
            "Step 7",
            "Step 6",
            "Step 7",
            "Step 2",
            "Step 1",
            "Step 3",
            "Step 3",
            "Step 1",
            "Step 6",
            "Step 7",
            "Step 6",
            "Step 7",
            "Step 6",
            "Step 7",
            "Step 6",
            "Step 7",
            "Step 6",
            "Step 7",
            "Step 6",
            "Step 7",
            "Step 6",
            "Step 7",
            "Step 6",
            "Step 7",
            "Step 6",
            "Step 7",
            "Step 6",
            "Step 7",
            "Step 6",
            "Step 7",
            "Step 6",
            "Step 7",
            "Step 6",
            "Step 7",
            "Step 6",
            "Step 7",
            "Step 6",
            "Step 7",
            "Step 2",
            "Step 2",
            "Step 1",
            "Step 1",
            "Step 3",
            "Step 3",
            "Step 1",
            "Step 2",
            "Step 2",
            "Step 2",
            "Step 2",
            "Step 2",
            "Step 2",
            "Step 2",
            "Step 2",
            "Step 2",
            "Step 2",
            "Step 1",
            "Step 1",
            "Step 1",
            "Step 1",
            "Step 1",
            "Step 1",
            "Step 1",
            "Step 1",
            "Step 1",
            "Step 1",
            "Step 1",
            "Step 1",
            "Step 1",
            "Step 3",
            "Step 3",
            "Step 1",
            "Step 1",
            "Step 1",
            "Step 1",
            "Step 1",
            "Step 1",
            "Step 1",
            "Step 1",
            "Step 3",
            "Step 3",
            "Step 1",
            "Step 3",
            "Step 3",
            "Step 1",
            "Step 3",
            "Step 3",
            "Step 1",
            "Step 1"
           ],
           [
            "Step 6: The sweet soy sauce is made by mixing sugar, water, salt, wheat, soy bean, spices, and sesame oil.",
            "Step 7: The chilli sauce is made by mixing chilli, water, sugar, salt, tapioca starch, acidity regulators, herbs, flavour enhancers, flavours, and preservatives.",
            "Step 2: Combining the fruit juices and purées with water, sugar, food acids, vitamin C, natural flavors, and pectin.",
            "Step 1: Canola oil, water, sugar, and vinegar are mixed together in a large vat.",
            "Step 1: Preparation of Jelly - Water, sugar, and gelling agents are combined and heated to dissolve the sugar and activate the gelling agents.",
            "Step 6: The sweet soy sauce is made by mixing sugar, water, salt, wheat, soy bean, spices, and sesame oil.",
            "Step 7: The chilli sauce is made by mixing chilli, water, sugar, salt, tapioca starch, acidity regulators, herbs, flavour enhancers, flavours, and preservatives.",
            "Step 6: The sweet soy sauce is made by mixing sugar, water, salt, wheat, soy bean, spices, and sesame oil.",
            "Step 7: The chilli sauce is made by mixing chilli, water, sugar, salt, tapioca starch, acidity regulators, herbs, flavour enhancers, flavours, and preservatives.",
            "Step 6: The sweet soy sauce is made by mixing sugar, water, salt, wheat, soy bean, spices, and sesame oil.",
            "Step 7: The chilli sauce is made by mixing chilli, water, sugar, salt, tapioca starch, acidity regulators, herbs, flavour enhancers, flavours, and preservatives.",
            "Step 1: Canola oil, water, sugar, and vinegar are mixed together in a large vat.",
            "Step 6: The sweet soy sauce is made by mixing sugar, water, salt, wheat, soy bean, spices, and sesame oil.",
            "Step 7: The chilli sauce is made by mixing chilli, water, sugar, salt, tapioca starch, acidity regulators, herbs, flavour enhancers, flavours, and preservatives.",
            "Step 6: The sweet soy sauce is made by mixing sugar, water, salt, wheat, soy bean, spices, and sesame oil.",
            "Step 7: The chilli sauce is made by mixing chilli, water, sugar, salt, tapioca starch, acidity regulators, herbs, flavour enhancers, flavours, and preservatives.",
            "Step 6: The sweet soy sauce is made by mixing sugar, water, salt, wheat, soy bean, spices, and sesame oil.",
            "Step 7: The chilli sauce is made by mixing chilli, water, sugar, salt, tapioca starch, acidity regulators, herbs, flavour enhancers, flavours, and preservatives.",
            "Step 6: The sweet soy sauce is made by mixing sugar, water, salt, wheat, soy bean, spices, and sesame oil.",
            "Step 7: The chilli sauce is made by mixing chilli, water, sugar, salt, tapioca starch, acidity regulators, herbs, flavour enhancers, flavours, and preservatives.",
            "Step 6: The sweet soy sauce is made by mixing sugar, water, salt, wheat, soy bean, spices, and sesame oil.",
            "Step 7: The chilli sauce is made by mixing chilli, water, sugar, salt, tapioca starch, acidity regulators, herbs, flavour enhancers, flavours, and preservatives.",
            "Step 6: The sweet soy sauce is made by mixing sugar, water, salt, wheat, soy bean, spices, and sesame oil.",
            "Step 7: The chilli sauce is made by mixing chilli, water, sugar, salt, tapioca starch, acidity regulators, herbs, flavour enhancers, flavours, and preservatives.",
            "Step 6: The sweet soy sauce is made by mixing sugar, water, salt, wheat, soy bean, spices, and sesame oil.",
            "Step 7: The chilli sauce is made by mixing chilli, water, sugar, salt, tapioca starch, acidity regulators, herbs, flavour enhancers, flavours, and preservatives.",
            "Step 6: The sweet soy sauce is made by mixing sugar, water, salt, wheat, soy bean, spices, and sesame oil.",
            "Step 7: The chilli sauce is made by mixing chilli, water, sugar, salt, tapioca starch, acidity regulators, herbs, flavour enhancers, flavours, and preservatives.",
            "Step 6: The sweet soy sauce is made by mixing sugar, water, salt, wheat, soy bean, spices, and sesame oil.",
            "Step 7: The chilli sauce is made by mixing chilli, water, sugar, salt, tapioca starch, acidity regulators, herbs, flavour enhancers, flavours, and preservatives.",
            "Step 6: The sweet soy sauce is made by mixing sugar, water, salt, wheat, soy bean, spices, and sesame oil.",
            "Step 7: The chilli sauce is made by mixing chilli, water, sugar, salt, tapioca starch, acidity regulators, herbs, flavour enhancers, flavours, and preservatives.",
            "Step 1: Canola oil, water, sugar, and vinegar are mixed together in a large vat.",
            "Step 6: The sweet soy sauce is made by mixing sugar, water, salt, wheat, soy bean, spices, and sesame oil.",
            "Step 7: The chilli sauce is made by mixing chilli, water, sugar, salt, tapioca starch, acidity regulators, herbs, flavour enhancers, flavours, and preservatives.",
            "Step 6: The sweet soy sauce is made by mixing sugar, water, salt, wheat, soy bean, spices, and sesame oil.",
            "Step 7: The chilli sauce is made by mixing chilli, water, sugar, salt, tapioca starch, acidity regulators, herbs, flavour enhancers, flavours, and preservatives.",
            "Step 6: The sweet soy sauce is made by mixing sugar, water, salt, wheat, soy bean, spices, and sesame oil.",
            "Step 7: The chilli sauce is made by mixing chilli, water, sugar, salt, tapioca starch, acidity regulators, herbs, flavour enhancers, flavours, and preservatives.",
            "Step 6: The sweet soy sauce is made by mixing sugar, water, salt, wheat, soy bean, spices, and sesame oil.",
            "Step 7: The chilli sauce is made by mixing chilli, water, sugar, salt, tapioca starch, acidity regulators, herbs, flavour enhancers, flavours, and preservatives.",
            "Step 6: The sweet soy sauce is made by mixing sugar, water, salt, wheat, soy bean, spices, and sesame oil.",
            "Step 7: The chilli sauce is made by mixing chilli, water, sugar, salt, tapioca starch, acidity regulators, herbs, flavour enhancers, flavours, and preservatives.",
            "Step 6: The sweet soy sauce is made by mixing sugar, water, salt, wheat, soy bean, spices, and sesame oil.",
            "Step 7: The chilli sauce is made by mixing chilli, water, sugar, salt, tapioca starch, acidity regulators, herbs, flavour enhancers, flavours, and preservatives.",
            "Step 6: The sweet soy sauce is made by mixing sugar, water, salt, wheat, soy bean, spices, and sesame oil.",
            "Step 7: The chilli sauce is made by mixing chilli, water, sugar, salt, tapioca starch, acidity regulators, herbs, flavour enhancers, flavours, and preservatives.",
            "Step 6: The sweet soy sauce is made by mixing sugar, water, salt, wheat, soy bean, spices, and sesame oil.",
            "Step 7: The chilli sauce is made by mixing chilli, water, sugar, salt, tapioca starch, acidity regulators, herbs, flavour enhancers, flavours, and preservatives.",
            "Step 2: Combining the fruit juices and purées with water, sugar, food acids, vitamin C, natural flavors, and pectin.",
            "Step 1: Canola oil, water, sugar, and vinegar are mixed together in a large vat.",
            "Step 3: The fruit puree is mixed with reconstituted refined juice (made from concentrated pear juice, water, antioxidant (ascorbic acid), and acidity regulator (citric acid))",
            "Step 3: The fruit puree is mixed with reconstituted refined juice (made from concentrated pear juice, water, antioxidant (ascorbic acid), and acidity regulator (citric acid))",
            "Step 1: Preparation of Jelly - Water, sugar, and gelling agents are combined and heated to dissolve the sugar and activate the gelling agents.",
            "Step 6: The sweet soy sauce is made by mixing sugar, water, salt, wheat, soy bean, spices, and sesame oil.",
            "Step 7: The chilli sauce is made by mixing chilli, water, sugar, salt, tapioca starch, acidity regulators, herbs, flavour enhancers, flavours, and preservatives.",
            "Step 6: The sweet soy sauce is made by mixing sugar, water, salt, wheat, soy bean, spices, and sesame oil.",
            "Step 7: The chilli sauce is made by mixing chilli, water, sugar, salt, tapioca starch, acidity regulators, herbs, flavour enhancers, flavours, and preservatives.",
            "Step 6: The sweet soy sauce is made by mixing sugar, water, salt, wheat, soy bean, spices, and sesame oil.",
            "Step 7: The chilli sauce is made by mixing chilli, water, sugar, salt, tapioca starch, acidity regulators, herbs, flavour enhancers, flavours, and preservatives.",
            "Step 6: The sweet soy sauce is made by mixing sugar, water, salt, wheat, soy bean, spices, and sesame oil.",
            "Step 7: The chilli sauce is made by mixing chilli, water, sugar, salt, tapioca starch, acidity regulators, herbs, flavour enhancers, flavours, and preservatives.",
            "Step 6: The sweet soy sauce is made by mixing sugar, water, salt, wheat, soy bean, spices, and sesame oil.",
            "Step 7: The chilli sauce is made by mixing chilli, water, sugar, salt, tapioca starch, acidity regulators, herbs, flavour enhancers, flavours, and preservatives.",
            "Step 6: The sweet soy sauce is made by mixing sugar, water, salt, wheat, soy bean, spices, and sesame oil.",
            "Step 7: The chilli sauce is made by mixing chilli, water, sugar, salt, tapioca starch, acidity regulators, herbs, flavour enhancers, flavours, and preservatives.",
            "Step 6: The sweet soy sauce is made by mixing sugar, water, salt, wheat, soy bean, spices, and sesame oil.",
            "Step 7: The chilli sauce is made by mixing chilli, water, sugar, salt, tapioca starch, acidity regulators, herbs, flavour enhancers, flavours, and preservatives.",
            "Step 6: The sweet soy sauce is made by mixing sugar, water, salt, wheat, soy bean, spices, and sesame oil.",
            "Step 7: The chilli sauce is made by mixing chilli, water, sugar, salt, tapioca starch, acidity regulators, herbs, flavour enhancers, flavours, and preservatives.",
            "Step 6: The sweet soy sauce is made by mixing sugar, water, salt, wheat, soy bean, spices, and sesame oil.",
            "Step 7: The chilli sauce is made by mixing chilli, water, sugar, salt, tapioca starch, acidity regulators, herbs, flavour enhancers, flavours, and preservatives.",
            "Step 6: The sweet soy sauce is made by mixing sugar, water, salt, wheat, soy bean, spices, and sesame oil.",
            "Step 7: The chilli sauce is made by mixing chilli, water, sugar, salt, tapioca starch, acidity regulators, herbs, flavour enhancers, flavours, and preservatives.",
            "Step 6: The sweet soy sauce is made by mixing sugar, water, salt, wheat, soy bean, spices, and sesame oil.",
            "Step 7: The chilli sauce is made by mixing chilli, water, sugar, salt, tapioca starch, acidity regulators, herbs, flavour enhancers, flavours, and preservatives.",
            "Step 6: The sweet soy sauce is made by mixing sugar, water, salt, wheat, soy bean, spices, and sesame oil.",
            "Step 7: The chilli sauce is made by mixing chilli, water, sugar, salt, tapioca starch, acidity regulators, herbs, flavour enhancers, flavours, and preservatives.",
            "Step 6: The sweet soy sauce is made by mixing sugar, water, salt, wheat, soy bean, spices, and sesame oil.",
            "Step 7: The chilli sauce is made by mixing chilli, water, sugar, salt, tapioca starch, acidity regulators, herbs, flavour enhancers, flavours, and preservatives.",
            "Step 6: The sweet soy sauce is made by mixing sugar, water, salt, wheat, soy bean, spices, and sesame oil.",
            "Step 7: The chilli sauce is made by mixing chilli, water, sugar, salt, tapioca starch, acidity regulators, herbs, flavour enhancers, flavours, and preservatives.",
            "Step 6: The sweet soy sauce is made by mixing sugar, water, salt, wheat, soy bean, spices, and sesame oil.",
            "Step 7: The chilli sauce is made by mixing chilli, water, sugar, salt, tapioca starch, acidity regulators, herbs, flavour enhancers, flavours, and preservatives.",
            "Step 2: Combining the fruit juices and purées with water, sugar, food acids, vitamin C, natural flavors, and pectin.",
            "Step 2: Combining the fruit juices and purées with water, sugar, food acids, vitamin C, natural flavors, and pectin.",
            "Step 1: Canola oil, water, sugar, and vinegar are mixed together in a large vat.",
            "Step 1: Canola oil, water, sugar, and vinegar are mixed together in a large vat.",
            "Step 3: The fruit puree is mixed with reconstituted refined juice (made from concentrated pear juice, water, antioxidant (ascorbic acid), and acidity regulator (citric acid))",
            "Step 3: The fruit puree is mixed with reconstituted refined juice (made from concentrated pear juice, water, antioxidant (ascorbic acid), and acidity regulator (citric acid))",
            "Step 1: Preparation of Jelly - Water, sugar, and gelling agents are combined and heated to dissolve the sugar and activate the gelling agents.",
            "Step 2: Combining the fruit juices and purées with water, sugar, food acids, vitamin C, natural flavors, and pectin.",
            "Step 2: Combining the fruit juices and purées with water, sugar, food acids, vitamin C, natural flavors, and pectin.",
            "Step 2: Combining the fruit juices and purées with water, sugar, food acids, vitamin C, natural flavors, and pectin.",
            "Step 2: Combining the fruit juices and purées with water, sugar, food acids, vitamin C, natural flavors, and pectin.",
            "Step 2: Combining the fruit juices and purées with water, sugar, food acids, vitamin C, natural flavors, and pectin.",
            "Step 2: Combining the fruit juices and purées with water, sugar, food acids, vitamin C, natural flavors, and pectin.",
            "Step 2: Combining the fruit juices and purées with water, sugar, food acids, vitamin C, natural flavors, and pectin.",
            "Step 2: Combining the fruit juices and purées with water, sugar, food acids, vitamin C, natural flavors, and pectin.",
            "Step 2: Combining the fruit juices and purées with water, sugar, food acids, vitamin C, natural flavors, and pectin.",
            "Step 2: Combining the fruit juices and purées with water, sugar, food acids, vitamin C, natural flavors, and pectin.",
            "Step 1: Canola oil, water, sugar, and vinegar are mixed together in a large vat.",
            "Step 1: Canola oil, water, sugar, and vinegar are mixed together in a large vat.",
            "Step 1: Canola oil, water, sugar, and vinegar are mixed together in a large vat.",
            "Step 1: Canola oil, water, sugar, and vinegar are mixed together in a large vat.",
            "Step 1: Canola oil, water, sugar, and vinegar are mixed together in a large vat.",
            "Step 1: Canola oil, water, sugar, and vinegar are mixed together in a large vat.",
            "Step 1: Preparation of Jelly - Water, sugar, and gelling agents are combined and heated to dissolve the sugar and activate the gelling agents.",
            "Step 1: Canola oil, water, sugar, and vinegar are mixed together in a large vat.",
            "Step 1: Preparation of Jelly - Water, sugar, and gelling agents are combined and heated to dissolve the sugar and activate the gelling agents.",
            "Step 1: Canola oil, water, sugar, and vinegar are mixed together in a large vat.",
            "Step 1: Canola oil, water, sugar, and vinegar are mixed together in a large vat.",
            "Step 1: Canola oil, water, sugar, and vinegar are mixed together in a large vat.",
            "Step 1: Canola oil, water, sugar, and vinegar are mixed together in a large vat.",
            "Step 3: The fruit puree is mixed with reconstituted refined juice (made from concentrated pear juice, water, antioxidant (ascorbic acid), and acidity regulator (citric acid))",
            "Step 3: The fruit puree is mixed with reconstituted refined juice (made from concentrated pear juice, water, antioxidant (ascorbic acid), and acidity regulator (citric acid))",
            "Step 1: Preparation of Jelly - Water, sugar, and gelling agents are combined and heated to dissolve the sugar and activate the gelling agents.",
            "Step 1: Preparation of Jelly - Water, sugar, and gelling agents are combined and heated to dissolve the sugar and activate the gelling agents.",
            "Step 1: Preparation of Jelly - Water, sugar, and gelling agents are combined and heated to dissolve the sugar and activate the gelling agents.",
            "Step 1: Preparation of Jelly - Water, sugar, and gelling agents are combined and heated to dissolve the sugar and activate the gelling agents.",
            "Step 1: Preparation of Jelly - Water, sugar, and gelling agents are combined and heated to dissolve the sugar and activate the gelling agents.",
            "Step 1: Preparation of Jelly - Water, sugar, and gelling agents are combined and heated to dissolve the sugar and activate the gelling agents.",
            "Step 1: Preparation of Jelly - Water, sugar, and gelling agents are combined and heated to dissolve the sugar and activate the gelling agents.",
            "Step 1: Preparation of Jelly - Water, sugar, and gelling agents are combined and heated to dissolve the sugar and activate the gelling agents.",
            "Step 3: The fruit puree is mixed with reconstituted refined juice (made from concentrated pear juice, water, antioxidant (ascorbic acid), and acidity regulator (citric acid))",
            "Step 3: The fruit puree is mixed with reconstituted refined juice (made from concentrated pear juice, water, antioxidant (ascorbic acid), and acidity regulator (citric acid))",
            "Step 1: Preparation of Jelly - Water, sugar, and gelling agents are combined and heated to dissolve the sugar and activate the gelling agents.",
            "Step 3: The fruit puree is mixed with reconstituted refined juice (made from concentrated pear juice, water, antioxidant (ascorbic acid), and acidity regulator (citric acid))",
            "Step 3: The fruit puree is mixed with reconstituted refined juice (made from concentrated pear juice, water, antioxidant (ascorbic acid), and acidity regulator (citric acid))",
            "Step 1: Preparation of Jelly - Water, sugar, and gelling agents are combined and heated to dissolve the sugar and activate the gelling agents.",
            "Step 3: The fruit puree is mixed with reconstituted refined juice (made from concentrated pear juice, water, antioxidant (ascorbic acid), and acidity regulator (citric acid))",
            "Step 3: The fruit puree is mixed with reconstituted refined juice (made from concentrated pear juice, water, antioxidant (ascorbic acid), and acidity regulator (citric acid))",
            "Step 1: Preparation of Jelly - Water, sugar, and gelling agents are combined and heated to dissolve the sugar and activate the gelling agents.",
            "Step 1: Preparation of Jelly - Water, sugar, and gelling agents are combined and heated to dissolve the sugar and activate the gelling agents."
           ],
           [
            "Noodles: Wheat Flour (62%), Refined Palm Oil (Contains Antioxidant 319), Salt, Acidity Regulators (451, 501, 500), Thickener (412), Colour (101).<br>Seasoning Powder: Salt, Sugar, Flavour Enhancers (621, 631, 627), Garlic Powder, Onion Powder, Yeast Extract, Artificial Flavour, Pepper, Anti Caking Agent (551).<br>Seasoning Oil: Refined Palm Oil (Contains Antioxidant 319), Onion.<br>Sweet Soy Sauce: Sugar, Water, Salt, Wheat, Soy Bean, Spices, Sesame Oil.<br>Chilli Sauce: Chilli, Water, Sugar, Salt, Tapioca Starch, Acidity Regulators (260, 330), Herbs, Flavour Enhancers (621, 627, 631), Flavours, Preservatives 1211, 223). Fried Onion: Onion, Refined Palm Oil (Contains Antioxidant 319).",
            "Noodles: Wheat Flour (62%), Refined Palm Oil (Contains Antioxidant 319), Salt, Acidity Regulators (451, 501, 500), Thickener (412), Colour (101).<br>Seasoning Powder: Salt, Sugar, Flavour Enhancers (621, 631, 627), Garlic Powder, Onion Powder, Yeast Extract, Artificial Flavour, Pepper, Anti Caking Agent (551).<br>Seasoning Oil: Refined Palm Oil (Contains Antioxidant 319), Onion.<br>Sweet Soy Sauce: Sugar, Water, Salt, Wheat, Soy Bean, Spices, Sesame Oil.<br>Chilli Sauce: Chilli, Water, Sugar, Salt, Tapioca Starch, Acidity Regulators (260, 330), Herbs, Flavour Enhancers (621, 627, 631), Flavours, Preservatives 1211, 223). Fried Onion: Onion, Refined Palm Oil (Contains Antioxidant 319).",
            "Water, Reconstituted Fruit Juice (25%) (Apple or Pear, Pineapple, Orange or Water Extracted Orange, Peach Purée, Passionfruit), Sugar, Food Acids (Citric Acid, Potassium Citrate), Vitamin C, Natural Flavours, Stabiliser (Pectin).",
            "Canola Oil, Water, Sugar, Vinegar, Thickener (1422, Xanthan Gum), Free Range Egg Yolk,  Gherkin, Salt, Onion Powder, Natural Colour (Carotene, Paprika Oleoresins), Preservative (Potassium Sorbate), Dill, Acidity Regulator (Citric Acid), Herb Extract, Mustard Oil.",
            "Jelly (70%) (Water, Sugar, Gelling Agents (Carrageenan, Locust Bean Gum, Xanthan Gum), Acidity Regulators (Sodium Citrates, Potassium Citrates, Calcium Lactate, Malic Acid, Citric Acid), Natural Flavours (Pineapple, Mango), Natural Colours (Carotene, Paprika Oleoresins), Antioxidant (Ascorbic Acid)), Peach (15%), Pear (15%)",
            "Noodles: Wheat Flour (62%), Refined Palm Oil (Contains Antioxidant 319), Salt, Acidity Regulators (451, 501, 500), Thickener (412), Colour (101).<br>Seasoning Powder: Salt, Sugar, Flavour Enhancers (621, 631, 627), Garlic Powder, Onion Powder, Yeast Extract, Artificial Flavour, Pepper, Anti Caking Agent (551).<br>Seasoning Oil: Refined Palm Oil (Contains Antioxidant 319), Onion.<br>Sweet Soy Sauce: Sugar, Water, Salt, Wheat, Soy Bean, Spices, Sesame Oil.<br>Chilli Sauce: Chilli, Water, Sugar, Salt, Tapioca Starch, Acidity Regulators (260, 330), Herbs, Flavour Enhancers (621, 627, 631), Flavours, Preservatives 1211, 223). Fried Onion: Onion, Refined Palm Oil (Contains Antioxidant 319).",
            "Noodles: Wheat Flour (62%), Refined Palm Oil (Contains Antioxidant 319), Salt, Acidity Regulators (451, 501, 500), Thickener (412), Colour (101).<br>Seasoning Powder: Salt, Sugar, Flavour Enhancers (621, 631, 627), Garlic Powder, Onion Powder, Yeast Extract, Artificial Flavour, Pepper, Anti Caking Agent (551).<br>Seasoning Oil: Refined Palm Oil (Contains Antioxidant 319), Onion.<br>Sweet Soy Sauce: Sugar, Water, Salt, Wheat, Soy Bean, Spices, Sesame Oil.<br>Chilli Sauce: Chilli, Water, Sugar, Salt, Tapioca Starch, Acidity Regulators (260, 330), Herbs, Flavour Enhancers (621, 627, 631), Flavours, Preservatives 1211, 223). Fried Onion: Onion, Refined Palm Oil (Contains Antioxidant 319).",
            "Noodles: Wheat Flour (62%), Refined Palm Oil (Contains Antioxidant 319), Salt, Acidity Regulators (451, 501, 500), Thickener (412), Colour (101).<br>Seasoning Powder: Salt, Sugar, Flavour Enhancers (621, 631, 627), Garlic Powder, Onion Powder, Yeast Extract, Artificial Flavour, Pepper, Anti Caking Agent (551).<br>Seasoning Oil: Refined Palm Oil (Contains Antioxidant 319), Onion.<br>Sweet Soy Sauce: Sugar, Water, Salt, Wheat, Soy Bean, Spices, Sesame Oil.<br>Chilli Sauce: Chilli, Water, Sugar, Salt, Tapioca Starch, Acidity Regulators (260, 330), Herbs, Flavour Enhancers (621, 627, 631), Flavours, Preservatives 1211, 223). Fried Onion: Onion, Refined Palm Oil (Contains Antioxidant 319).",
            "Noodles: Wheat Flour (62%), Refined Palm Oil (Contains Antioxidant 319), Salt, Acidity Regulators (451, 501, 500), Thickener (412), Colour (101).<br>Seasoning Powder: Salt, Sugar, Flavour Enhancers (621, 631, 627), Garlic Powder, Onion Powder, Yeast Extract, Artificial Flavour, Pepper, Anti Caking Agent (551).<br>Seasoning Oil: Refined Palm Oil (Contains Antioxidant 319), Onion.<br>Sweet Soy Sauce: Sugar, Water, Salt, Wheat, Soy Bean, Spices, Sesame Oil.<br>Chilli Sauce: Chilli, Water, Sugar, Salt, Tapioca Starch, Acidity Regulators (260, 330), Herbs, Flavour Enhancers (621, 627, 631), Flavours, Preservatives 1211, 223). Fried Onion: Onion, Refined Palm Oil (Contains Antioxidant 319).",
            "Noodles: Wheat Flour (62%), Refined Palm Oil (Contains Antioxidant 319), Salt, Acidity Regulators (451, 501, 500), Thickener (412), Colour (101).<br>Seasoning Powder: Salt, Sugar, Flavour Enhancers (621, 631, 627), Garlic Powder, Onion Powder, Yeast Extract, Artificial Flavour, Pepper, Anti Caking Agent (551).<br>Seasoning Oil: Refined Palm Oil (Contains Antioxidant 319), Onion.<br>Sweet Soy Sauce: Sugar, Water, Salt, Wheat, Soy Bean, Spices, Sesame Oil.<br>Chilli Sauce: Chilli, Water, Sugar, Salt, Tapioca Starch, Acidity Regulators (260, 330), Herbs, Flavour Enhancers (621, 627, 631), Flavours, Preservatives 1211, 223). Fried Onion: Onion, Refined Palm Oil (Contains Antioxidant 319).",
            "Noodles: Wheat Flour (62%), Refined Palm Oil (Contains Antioxidant 319), Salt, Acidity Regulators (451, 501, 500), Thickener (412), Colour (101).<br>Seasoning Powder: Salt, Sugar, Flavour Enhancers (621, 631, 627), Garlic Powder, Onion Powder, Yeast Extract, Artificial Flavour, Pepper, Anti Caking Agent (551).<br>Seasoning Oil: Refined Palm Oil (Contains Antioxidant 319), Onion.<br>Sweet Soy Sauce: Sugar, Water, Salt, Wheat, Soy Bean, Spices, Sesame Oil.<br>Chilli Sauce: Chilli, Water, Sugar, Salt, Tapioca Starch, Acidity Regulators (260, 330), Herbs, Flavour Enhancers (621, 627, 631), Flavours, Preservatives 1211, 223). Fried Onion: Onion, Refined Palm Oil (Contains Antioxidant 319).",
            "Canola Oil, Water, Sugar, Vinegar, Thickener (1422, Xanthan Gum), Free Range Egg Yolk,  Gherkin, Salt, Onion Powder, Natural Colour (Carotene, Paprika Oleoresins), Preservative (Potassium Sorbate), Dill, Acidity Regulator (Citric Acid), Herb Extract, Mustard Oil.",
            "Noodles: Wheat Flour (62%), Refined Palm Oil (Contains Antioxidant 319), Salt, Acidity Regulators (451, 501, 500), Thickener (412), Colour (101).<br>Seasoning Powder: Salt, Sugar, Flavour Enhancers (621, 631, 627), Garlic Powder, Onion Powder, Yeast Extract, Artificial Flavour, Pepper, Anti Caking Agent (551).<br>Seasoning Oil: Refined Palm Oil (Contains Antioxidant 319), Onion.<br>Sweet Soy Sauce: Sugar, Water, Salt, Wheat, Soy Bean, Spices, Sesame Oil.<br>Chilli Sauce: Chilli, Water, Sugar, Salt, Tapioca Starch, Acidity Regulators (260, 330), Herbs, Flavour Enhancers (621, 627, 631), Flavours, Preservatives 1211, 223). Fried Onion: Onion, Refined Palm Oil (Contains Antioxidant 319).",
            "Noodles: Wheat Flour (62%), Refined Palm Oil (Contains Antioxidant 319), Salt, Acidity Regulators (451, 501, 500), Thickener (412), Colour (101).<br>Seasoning Powder: Salt, Sugar, Flavour Enhancers (621, 631, 627), Garlic Powder, Onion Powder, Yeast Extract, Artificial Flavour, Pepper, Anti Caking Agent (551).<br>Seasoning Oil: Refined Palm Oil (Contains Antioxidant 319), Onion.<br>Sweet Soy Sauce: Sugar, Water, Salt, Wheat, Soy Bean, Spices, Sesame Oil.<br>Chilli Sauce: Chilli, Water, Sugar, Salt, Tapioca Starch, Acidity Regulators (260, 330), Herbs, Flavour Enhancers (621, 627, 631), Flavours, Preservatives 1211, 223). Fried Onion: Onion, Refined Palm Oil (Contains Antioxidant 319).",
            "Noodles: Wheat Flour (62%), Refined Palm Oil (Contains Antioxidant 319), Salt, Acidity Regulators (451, 501, 500), Thickener (412), Colour (101).<br>Seasoning Powder: Salt, Sugar, Flavour Enhancers (621, 631, 627), Garlic Powder, Onion Powder, Yeast Extract, Artificial Flavour, Pepper, Anti Caking Agent (551).<br>Seasoning Oil: Refined Palm Oil (Contains Antioxidant 319), Onion.<br>Sweet Soy Sauce: Sugar, Water, Salt, Wheat, Soy Bean, Spices, Sesame Oil.<br>Chilli Sauce: Chilli, Water, Sugar, Salt, Tapioca Starch, Acidity Regulators (260, 330), Herbs, Flavour Enhancers (621, 627, 631), Flavours, Preservatives 1211, 223). Fried Onion: Onion, Refined Palm Oil (Contains Antioxidant 319).",
            "Noodles: Wheat Flour (62%), Refined Palm Oil (Contains Antioxidant 319), Salt, Acidity Regulators (451, 501, 500), Thickener (412), Colour (101).<br>Seasoning Powder: Salt, Sugar, Flavour Enhancers (621, 631, 627), Garlic Powder, Onion Powder, Yeast Extract, Artificial Flavour, Pepper, Anti Caking Agent (551).<br>Seasoning Oil: Refined Palm Oil (Contains Antioxidant 319), Onion.<br>Sweet Soy Sauce: Sugar, Water, Salt, Wheat, Soy Bean, Spices, Sesame Oil.<br>Chilli Sauce: Chilli, Water, Sugar, Salt, Tapioca Starch, Acidity Regulators (260, 330), Herbs, Flavour Enhancers (621, 627, 631), Flavours, Preservatives 1211, 223). Fried Onion: Onion, Refined Palm Oil (Contains Antioxidant 319).",
            "Noodles: Wheat Flour (62%), Refined Palm Oil (Contains Antioxidant 319), Salt, Acidity Regulators (451, 501, 500), Thickener (412), Colour (101).<br>Seasoning Powder: Salt, Sugar, Flavour Enhancers (621, 631, 627), Garlic Powder, Onion Powder, Yeast Extract, Artificial Flavour, Pepper, Anti Caking Agent (551).<br>Seasoning Oil: Refined Palm Oil (Contains Antioxidant 319), Onion.<br>Sweet Soy Sauce: Sugar, Water, Salt, Wheat, Soy Bean, Spices, Sesame Oil.<br>Chilli Sauce: Chilli, Water, Sugar, Salt, Tapioca Starch, Acidity Regulators (260, 330), Herbs, Flavour Enhancers (621, 627, 631), Flavours, Preservatives 1211, 223). Fried Onion: Onion, Refined Palm Oil (Contains Antioxidant 319).",
            "Noodles: Wheat Flour (62%), Refined Palm Oil (Contains Antioxidant 319), Salt, Acidity Regulators (451, 501, 500), Thickener (412), Colour (101).<br>Seasoning Powder: Salt, Sugar, Flavour Enhancers (621, 631, 627), Garlic Powder, Onion Powder, Yeast Extract, Artificial Flavour, Pepper, Anti Caking Agent (551).<br>Seasoning Oil: Refined Palm Oil (Contains Antioxidant 319), Onion.<br>Sweet Soy Sauce: Sugar, Water, Salt, Wheat, Soy Bean, Spices, Sesame Oil.<br>Chilli Sauce: Chilli, Water, Sugar, Salt, Tapioca Starch, Acidity Regulators (260, 330), Herbs, Flavour Enhancers (621, 627, 631), Flavours, Preservatives 1211, 223). Fried Onion: Onion, Refined Palm Oil (Contains Antioxidant 319).",
            "Noodles: Wheat Flour (62%), Refined Palm Oil (Contains Antioxidant 319), Salt, Acidity Regulators (451, 501, 500), Thickener (412), Colour (101).<br>Seasoning Powder: Salt, Sugar, Flavour Enhancers (621, 631, 627), Garlic Powder, Onion Powder, Yeast Extract, Artificial Flavour, Pepper, Anti Caking Agent (551).<br>Seasoning Oil: Refined Palm Oil (Contains Antioxidant 319), Onion.<br>Sweet Soy Sauce: Sugar, Water, Salt, Wheat, Soy Bean, Spices, Sesame Oil.<br>Chilli Sauce: Chilli, Water, Sugar, Salt, Tapioca Starch, Acidity Regulators (260, 330), Herbs, Flavour Enhancers (621, 627, 631), Flavours, Preservatives 1211, 223). Fried Onion: Onion, Refined Palm Oil (Contains Antioxidant 319).",
            "Noodles: Wheat Flour (62%), Refined Palm Oil (Contains Antioxidant 319), Salt, Acidity Regulators (451, 501, 500), Thickener (412), Colour (101).<br>Seasoning Powder: Salt, Sugar, Flavour Enhancers (621, 631, 627), Garlic Powder, Onion Powder, Yeast Extract, Artificial Flavour, Pepper, Anti Caking Agent (551).<br>Seasoning Oil: Refined Palm Oil (Contains Antioxidant 319), Onion.<br>Sweet Soy Sauce: Sugar, Water, Salt, Wheat, Soy Bean, Spices, Sesame Oil.<br>Chilli Sauce: Chilli, Water, Sugar, Salt, Tapioca Starch, Acidity Regulators (260, 330), Herbs, Flavour Enhancers (621, 627, 631), Flavours, Preservatives 1211, 223). Fried Onion: Onion, Refined Palm Oil (Contains Antioxidant 319).",
            "Noodles: Wheat Flour (62%), Refined Palm Oil (Contains Antioxidant 319), Salt, Acidity Regulators (451, 501, 500), Thickener (412), Colour (101).<br>Seasoning Powder: Salt, Sugar, Flavour Enhancers (621, 631, 627), Garlic Powder, Onion Powder, Yeast Extract, Artificial Flavour, Pepper, Anti Caking Agent (551).<br>Seasoning Oil: Refined Palm Oil (Contains Antioxidant 319), Onion.<br>Sweet Soy Sauce: Sugar, Water, Salt, Wheat, Soy Bean, Spices, Sesame Oil.<br>Chilli Sauce: Chilli, Water, Sugar, Salt, Tapioca Starch, Acidity Regulators (260, 330), Herbs, Flavour Enhancers (621, 627, 631), Flavours, Preservatives 1211, 223). Fried Onion: Onion, Refined Palm Oil (Contains Antioxidant 319).",
            "Noodles: Wheat Flour (62%), Refined Palm Oil (Contains Antioxidant 319), Salt, Acidity Regulators (451, 501, 500), Thickener (412), Colour (101).<br>Seasoning Powder: Salt, Sugar, Flavour Enhancers (621, 631, 627), Garlic Powder, Onion Powder, Yeast Extract, Artificial Flavour, Pepper, Anti Caking Agent (551).<br>Seasoning Oil: Refined Palm Oil (Contains Antioxidant 319), Onion.<br>Sweet Soy Sauce: Sugar, Water, Salt, Wheat, Soy Bean, Spices, Sesame Oil.<br>Chilli Sauce: Chilli, Water, Sugar, Salt, Tapioca Starch, Acidity Regulators (260, 330), Herbs, Flavour Enhancers (621, 627, 631), Flavours, Preservatives 1211, 223). Fried Onion: Onion, Refined Palm Oil (Contains Antioxidant 319).",
            "Noodles: Wheat Flour (62%), Refined Palm Oil (Contains Antioxidant 319), Salt, Acidity Regulators (451, 501, 500), Thickener (412), Colour (101).<br>Seasoning Powder: Salt, Sugar, Flavour Enhancers (621, 631, 627), Garlic Powder, Onion Powder, Yeast Extract, Artificial Flavour, Pepper, Anti Caking Agent (551).<br>Seasoning Oil: Refined Palm Oil (Contains Antioxidant 319), Onion.<br>Sweet Soy Sauce: Sugar, Water, Salt, Wheat, Soy Bean, Spices, Sesame Oil.<br>Chilli Sauce: Chilli, Water, Sugar, Salt, Tapioca Starch, Acidity Regulators (260, 330), Herbs, Flavour Enhancers (621, 627, 631), Flavours, Preservatives 1211, 223). Fried Onion: Onion, Refined Palm Oil (Contains Antioxidant 319).",
            "Noodles: Wheat Flour (62%), Refined Palm Oil (Contains Antioxidant 319), Salt, Acidity Regulators (451, 501, 500), Thickener (412), Colour (101).<br>Seasoning Powder: Salt, Sugar, Flavour Enhancers (621, 631, 627), Garlic Powder, Onion Powder, Yeast Extract, Artificial Flavour, Pepper, Anti Caking Agent (551).<br>Seasoning Oil: Refined Palm Oil (Contains Antioxidant 319), Onion.<br>Sweet Soy Sauce: Sugar, Water, Salt, Wheat, Soy Bean, Spices, Sesame Oil.<br>Chilli Sauce: Chilli, Water, Sugar, Salt, Tapioca Starch, Acidity Regulators (260, 330), Herbs, Flavour Enhancers (621, 627, 631), Flavours, Preservatives 1211, 223). Fried Onion: Onion, Refined Palm Oil (Contains Antioxidant 319).",
            "Noodles: Wheat Flour (62%), Refined Palm Oil (Contains Antioxidant 319), Salt, Acidity Regulators (451, 501, 500), Thickener (412), Colour (101).<br>Seasoning Powder: Salt, Sugar, Flavour Enhancers (621, 631, 627), Garlic Powder, Onion Powder, Yeast Extract, Artificial Flavour, Pepper, Anti Caking Agent (551).<br>Seasoning Oil: Refined Palm Oil (Contains Antioxidant 319), Onion.<br>Sweet Soy Sauce: Sugar, Water, Salt, Wheat, Soy Bean, Spices, Sesame Oil.<br>Chilli Sauce: Chilli, Water, Sugar, Salt, Tapioca Starch, Acidity Regulators (260, 330), Herbs, Flavour Enhancers (621, 627, 631), Flavours, Preservatives 1211, 223). Fried Onion: Onion, Refined Palm Oil (Contains Antioxidant 319).",
            "Noodles: Wheat Flour (62%), Refined Palm Oil (Contains Antioxidant 319), Salt, Acidity Regulators (451, 501, 500), Thickener (412), Colour (101).<br>Seasoning Powder: Salt, Sugar, Flavour Enhancers (621, 631, 627), Garlic Powder, Onion Powder, Yeast Extract, Artificial Flavour, Pepper, Anti Caking Agent (551).<br>Seasoning Oil: Refined Palm Oil (Contains Antioxidant 319), Onion.<br>Sweet Soy Sauce: Sugar, Water, Salt, Wheat, Soy Bean, Spices, Sesame Oil.<br>Chilli Sauce: Chilli, Water, Sugar, Salt, Tapioca Starch, Acidity Regulators (260, 330), Herbs, Flavour Enhancers (621, 627, 631), Flavours, Preservatives 1211, 223). Fried Onion: Onion, Refined Palm Oil (Contains Antioxidant 319).",
            "Noodles: Wheat Flour (62%), Refined Palm Oil (Contains Antioxidant 319), Salt, Acidity Regulators (451, 501, 500), Thickener (412), Colour (101).<br>Seasoning Powder: Salt, Sugar, Flavour Enhancers (621, 631, 627), Garlic Powder, Onion Powder, Yeast Extract, Artificial Flavour, Pepper, Anti Caking Agent (551).<br>Seasoning Oil: Refined Palm Oil (Contains Antioxidant 319), Onion.<br>Sweet Soy Sauce: Sugar, Water, Salt, Wheat, Soy Bean, Spices, Sesame Oil.<br>Chilli Sauce: Chilli, Water, Sugar, Salt, Tapioca Starch, Acidity Regulators (260, 330), Herbs, Flavour Enhancers (621, 627, 631), Flavours, Preservatives 1211, 223). Fried Onion: Onion, Refined Palm Oil (Contains Antioxidant 319).",
            "Noodles: Wheat Flour (62%), Refined Palm Oil (Contains Antioxidant 319), Salt, Acidity Regulators (451, 501, 500), Thickener (412), Colour (101).<br>Seasoning Powder: Salt, Sugar, Flavour Enhancers (621, 631, 627), Garlic Powder, Onion Powder, Yeast Extract, Artificial Flavour, Pepper, Anti Caking Agent (551).<br>Seasoning Oil: Refined Palm Oil (Contains Antioxidant 319), Onion.<br>Sweet Soy Sauce: Sugar, Water, Salt, Wheat, Soy Bean, Spices, Sesame Oil.<br>Chilli Sauce: Chilli, Water, Sugar, Salt, Tapioca Starch, Acidity Regulators (260, 330), Herbs, Flavour Enhancers (621, 627, 631), Flavours, Preservatives 1211, 223). Fried Onion: Onion, Refined Palm Oil (Contains Antioxidant 319).",
            "Noodles: Wheat Flour (62%), Refined Palm Oil (Contains Antioxidant 319), Salt, Acidity Regulators (451, 501, 500), Thickener (412), Colour (101).<br>Seasoning Powder: Salt, Sugar, Flavour Enhancers (621, 631, 627), Garlic Powder, Onion Powder, Yeast Extract, Artificial Flavour, Pepper, Anti Caking Agent (551).<br>Seasoning Oil: Refined Palm Oil (Contains Antioxidant 319), Onion.<br>Sweet Soy Sauce: Sugar, Water, Salt, Wheat, Soy Bean, Spices, Sesame Oil.<br>Chilli Sauce: Chilli, Water, Sugar, Salt, Tapioca Starch, Acidity Regulators (260, 330), Herbs, Flavour Enhancers (621, 627, 631), Flavours, Preservatives 1211, 223). Fried Onion: Onion, Refined Palm Oil (Contains Antioxidant 319).",
            "Noodles: Wheat Flour (62%), Refined Palm Oil (Contains Antioxidant 319), Salt, Acidity Regulators (451, 501, 500), Thickener (412), Colour (101).<br>Seasoning Powder: Salt, Sugar, Flavour Enhancers (621, 631, 627), Garlic Powder, Onion Powder, Yeast Extract, Artificial Flavour, Pepper, Anti Caking Agent (551).<br>Seasoning Oil: Refined Palm Oil (Contains Antioxidant 319), Onion.<br>Sweet Soy Sauce: Sugar, Water, Salt, Wheat, Soy Bean, Spices, Sesame Oil.<br>Chilli Sauce: Chilli, Water, Sugar, Salt, Tapioca Starch, Acidity Regulators (260, 330), Herbs, Flavour Enhancers (621, 627, 631), Flavours, Preservatives 1211, 223). Fried Onion: Onion, Refined Palm Oil (Contains Antioxidant 319).",
            "Noodles: Wheat Flour (62%), Refined Palm Oil (Contains Antioxidant 319), Salt, Acidity Regulators (451, 501, 500), Thickener (412), Colour (101).<br>Seasoning Powder: Salt, Sugar, Flavour Enhancers (621, 631, 627), Garlic Powder, Onion Powder, Yeast Extract, Artificial Flavour, Pepper, Anti Caking Agent (551).<br>Seasoning Oil: Refined Palm Oil (Contains Antioxidant 319), Onion.<br>Sweet Soy Sauce: Sugar, Water, Salt, Wheat, Soy Bean, Spices, Sesame Oil.<br>Chilli Sauce: Chilli, Water, Sugar, Salt, Tapioca Starch, Acidity Regulators (260, 330), Herbs, Flavour Enhancers (621, 627, 631), Flavours, Preservatives 1211, 223). Fried Onion: Onion, Refined Palm Oil (Contains Antioxidant 319).",
            "Noodles: Wheat Flour (62%), Refined Palm Oil (Contains Antioxidant 319), Salt, Acidity Regulators (451, 501, 500), Thickener (412), Colour (101).<br>Seasoning Powder: Salt, Sugar, Flavour Enhancers (621, 631, 627), Garlic Powder, Onion Powder, Yeast Extract, Artificial Flavour, Pepper, Anti Caking Agent (551).<br>Seasoning Oil: Refined Palm Oil (Contains Antioxidant 319), Onion.<br>Sweet Soy Sauce: Sugar, Water, Salt, Wheat, Soy Bean, Spices, Sesame Oil.<br>Chilli Sauce: Chilli, Water, Sugar, Salt, Tapioca Starch, Acidity Regulators (260, 330), Herbs, Flavour Enhancers (621, 627, 631), Flavours, Preservatives 1211, 223). Fried Onion: Onion, Refined Palm Oil (Contains Antioxidant 319).",
            "Canola Oil, Water, Sugar, Vinegar, Thickener (1422, Xanthan Gum), Free Range Egg Yolk,  Gherkin, Salt, Onion Powder, Natural Colour (Carotene, Paprika Oleoresins), Preservative (Potassium Sorbate), Dill, Acidity Regulator (Citric Acid), Herb Extract, Mustard Oil.",
            "Noodles: Wheat Flour (62%), Refined Palm Oil (Contains Antioxidant 319), Salt, Acidity Regulators (451, 501, 500), Thickener (412), Colour (101).<br>Seasoning Powder: Salt, Sugar, Flavour Enhancers (621, 631, 627), Garlic Powder, Onion Powder, Yeast Extract, Artificial Flavour, Pepper, Anti Caking Agent (551).<br>Seasoning Oil: Refined Palm Oil (Contains Antioxidant 319), Onion.<br>Sweet Soy Sauce: Sugar, Water, Salt, Wheat, Soy Bean, Spices, Sesame Oil.<br>Chilli Sauce: Chilli, Water, Sugar, Salt, Tapioca Starch, Acidity Regulators (260, 330), Herbs, Flavour Enhancers (621, 627, 631), Flavours, Preservatives 1211, 223). Fried Onion: Onion, Refined Palm Oil (Contains Antioxidant 319).",
            "Noodles: Wheat Flour (62%), Refined Palm Oil (Contains Antioxidant 319), Salt, Acidity Regulators (451, 501, 500), Thickener (412), Colour (101).<br>Seasoning Powder: Salt, Sugar, Flavour Enhancers (621, 631, 627), Garlic Powder, Onion Powder, Yeast Extract, Artificial Flavour, Pepper, Anti Caking Agent (551).<br>Seasoning Oil: Refined Palm Oil (Contains Antioxidant 319), Onion.<br>Sweet Soy Sauce: Sugar, Water, Salt, Wheat, Soy Bean, Spices, Sesame Oil.<br>Chilli Sauce: Chilli, Water, Sugar, Salt, Tapioca Starch, Acidity Regulators (260, 330), Herbs, Flavour Enhancers (621, 627, 631), Flavours, Preservatives 1211, 223). Fried Onion: Onion, Refined Palm Oil (Contains Antioxidant 319).",
            "Noodles: Wheat Flour (62%), Refined Palm Oil (Contains Antioxidant 319), Salt, Acidity Regulators (451, 501, 500), Thickener (412), Colour (101).<br>Seasoning Powder: Salt, Sugar, Flavour Enhancers (621, 631, 627), Garlic Powder, Onion Powder, Yeast Extract, Artificial Flavour, Pepper, Anti Caking Agent (551).<br>Seasoning Oil: Refined Palm Oil (Contains Antioxidant 319), Onion.<br>Sweet Soy Sauce: Sugar, Water, Salt, Wheat, Soy Bean, Spices, Sesame Oil.<br>Chilli Sauce: Chilli, Water, Sugar, Salt, Tapioca Starch, Acidity Regulators (260, 330), Herbs, Flavour Enhancers (621, 627, 631), Flavours, Preservatives 1211, 223). Fried Onion: Onion, Refined Palm Oil (Contains Antioxidant 319).",
            "Noodles: Wheat Flour (62%), Refined Palm Oil (Contains Antioxidant 319), Salt, Acidity Regulators (451, 501, 500), Thickener (412), Colour (101).<br>Seasoning Powder: Salt, Sugar, Flavour Enhancers (621, 631, 627), Garlic Powder, Onion Powder, Yeast Extract, Artificial Flavour, Pepper, Anti Caking Agent (551).<br>Seasoning Oil: Refined Palm Oil (Contains Antioxidant 319), Onion.<br>Sweet Soy Sauce: Sugar, Water, Salt, Wheat, Soy Bean, Spices, Sesame Oil.<br>Chilli Sauce: Chilli, Water, Sugar, Salt, Tapioca Starch, Acidity Regulators (260, 330), Herbs, Flavour Enhancers (621, 627, 631), Flavours, Preservatives 1211, 223). Fried Onion: Onion, Refined Palm Oil (Contains Antioxidant 319).",
            "Noodles: Wheat Flour (62%), Refined Palm Oil (Contains Antioxidant 319), Salt, Acidity Regulators (451, 501, 500), Thickener (412), Colour (101).<br>Seasoning Powder: Salt, Sugar, Flavour Enhancers (621, 631, 627), Garlic Powder, Onion Powder, Yeast Extract, Artificial Flavour, Pepper, Anti Caking Agent (551).<br>Seasoning Oil: Refined Palm Oil (Contains Antioxidant 319), Onion.<br>Sweet Soy Sauce: Sugar, Water, Salt, Wheat, Soy Bean, Spices, Sesame Oil.<br>Chilli Sauce: Chilli, Water, Sugar, Salt, Tapioca Starch, Acidity Regulators (260, 330), Herbs, Flavour Enhancers (621, 627, 631), Flavours, Preservatives 1211, 223). Fried Onion: Onion, Refined Palm Oil (Contains Antioxidant 319).",
            "Noodles: Wheat Flour (62%), Refined Palm Oil (Contains Antioxidant 319), Salt, Acidity Regulators (451, 501, 500), Thickener (412), Colour (101).<br>Seasoning Powder: Salt, Sugar, Flavour Enhancers (621, 631, 627), Garlic Powder, Onion Powder, Yeast Extract, Artificial Flavour, Pepper, Anti Caking Agent (551).<br>Seasoning Oil: Refined Palm Oil (Contains Antioxidant 319), Onion.<br>Sweet Soy Sauce: Sugar, Water, Salt, Wheat, Soy Bean, Spices, Sesame Oil.<br>Chilli Sauce: Chilli, Water, Sugar, Salt, Tapioca Starch, Acidity Regulators (260, 330), Herbs, Flavour Enhancers (621, 627, 631), Flavours, Preservatives 1211, 223). Fried Onion: Onion, Refined Palm Oil (Contains Antioxidant 319).",
            "Noodles: Wheat Flour (62%), Refined Palm Oil (Contains Antioxidant 319), Salt, Acidity Regulators (451, 501, 500), Thickener (412), Colour (101).<br>Seasoning Powder: Salt, Sugar, Flavour Enhancers (621, 631, 627), Garlic Powder, Onion Powder, Yeast Extract, Artificial Flavour, Pepper, Anti Caking Agent (551).<br>Seasoning Oil: Refined Palm Oil (Contains Antioxidant 319), Onion.<br>Sweet Soy Sauce: Sugar, Water, Salt, Wheat, Soy Bean, Spices, Sesame Oil.<br>Chilli Sauce: Chilli, Water, Sugar, Salt, Tapioca Starch, Acidity Regulators (260, 330), Herbs, Flavour Enhancers (621, 627, 631), Flavours, Preservatives 1211, 223). Fried Onion: Onion, Refined Palm Oil (Contains Antioxidant 319).",
            "Noodles: Wheat Flour (62%), Refined Palm Oil (Contains Antioxidant 319), Salt, Acidity Regulators (451, 501, 500), Thickener (412), Colour (101).<br>Seasoning Powder: Salt, Sugar, Flavour Enhancers (621, 631, 627), Garlic Powder, Onion Powder, Yeast Extract, Artificial Flavour, Pepper, Anti Caking Agent (551).<br>Seasoning Oil: Refined Palm Oil (Contains Antioxidant 319), Onion.<br>Sweet Soy Sauce: Sugar, Water, Salt, Wheat, Soy Bean, Spices, Sesame Oil.<br>Chilli Sauce: Chilli, Water, Sugar, Salt, Tapioca Starch, Acidity Regulators (260, 330), Herbs, Flavour Enhancers (621, 627, 631), Flavours, Preservatives 1211, 223). Fried Onion: Onion, Refined Palm Oil (Contains Antioxidant 319).",
            "Noodles: Wheat Flour (62%), Refined Palm Oil (Contains Antioxidant 319), Salt, Acidity Regulators (451, 501, 500), Thickener (412), Colour (101).<br>Seasoning Powder: Salt, Sugar, Flavour Enhancers (621, 631, 627), Garlic Powder, Onion Powder, Yeast Extract, Artificial Flavour, Pepper, Anti Caking Agent (551).<br>Seasoning Oil: Refined Palm Oil (Contains Antioxidant 319), Onion.<br>Sweet Soy Sauce: Sugar, Water, Salt, Wheat, Soy Bean, Spices, Sesame Oil.<br>Chilli Sauce: Chilli, Water, Sugar, Salt, Tapioca Starch, Acidity Regulators (260, 330), Herbs, Flavour Enhancers (621, 627, 631), Flavours, Preservatives 1211, 223). Fried Onion: Onion, Refined Palm Oil (Contains Antioxidant 319).",
            "Noodles: Wheat Flour (62%), Refined Palm Oil (Contains Antioxidant 319), Salt, Acidity Regulators (451, 501, 500), Thickener (412), Colour (101).<br>Seasoning Powder: Salt, Sugar, Flavour Enhancers (621, 631, 627), Garlic Powder, Onion Powder, Yeast Extract, Artificial Flavour, Pepper, Anti Caking Agent (551).<br>Seasoning Oil: Refined Palm Oil (Contains Antioxidant 319), Onion.<br>Sweet Soy Sauce: Sugar, Water, Salt, Wheat, Soy Bean, Spices, Sesame Oil.<br>Chilli Sauce: Chilli, Water, Sugar, Salt, Tapioca Starch, Acidity Regulators (260, 330), Herbs, Flavour Enhancers (621, 627, 631), Flavours, Preservatives 1211, 223). Fried Onion: Onion, Refined Palm Oil (Contains Antioxidant 319).",
            "Noodles: Wheat Flour (62%), Refined Palm Oil (Contains Antioxidant 319), Salt, Acidity Regulators (451, 501, 500), Thickener (412), Colour (101).<br>Seasoning Powder: Salt, Sugar, Flavour Enhancers (621, 631, 627), Garlic Powder, Onion Powder, Yeast Extract, Artificial Flavour, Pepper, Anti Caking Agent (551).<br>Seasoning Oil: Refined Palm Oil (Contains Antioxidant 319), Onion.<br>Sweet Soy Sauce: Sugar, Water, Salt, Wheat, Soy Bean, Spices, Sesame Oil.<br>Chilli Sauce: Chilli, Water, Sugar, Salt, Tapioca Starch, Acidity Regulators (260, 330), Herbs, Flavour Enhancers (621, 627, 631), Flavours, Preservatives 1211, 223). Fried Onion: Onion, Refined Palm Oil (Contains Antioxidant 319).",
            "Noodles: Wheat Flour (62%), Refined Palm Oil (Contains Antioxidant 319), Salt, Acidity Regulators (451, 501, 500), Thickener (412), Colour (101).<br>Seasoning Powder: Salt, Sugar, Flavour Enhancers (621, 631, 627), Garlic Powder, Onion Powder, Yeast Extract, Artificial Flavour, Pepper, Anti Caking Agent (551).<br>Seasoning Oil: Refined Palm Oil (Contains Antioxidant 319), Onion.<br>Sweet Soy Sauce: Sugar, Water, Salt, Wheat, Soy Bean, Spices, Sesame Oil.<br>Chilli Sauce: Chilli, Water, Sugar, Salt, Tapioca Starch, Acidity Regulators (260, 330), Herbs, Flavour Enhancers (621, 627, 631), Flavours, Preservatives 1211, 223). Fried Onion: Onion, Refined Palm Oil (Contains Antioxidant 319).",
            "Noodles: Wheat Flour (62%), Refined Palm Oil (Contains Antioxidant 319), Salt, Acidity Regulators (451, 501, 500), Thickener (412), Colour (101).<br>Seasoning Powder: Salt, Sugar, Flavour Enhancers (621, 631, 627), Garlic Powder, Onion Powder, Yeast Extract, Artificial Flavour, Pepper, Anti Caking Agent (551).<br>Seasoning Oil: Refined Palm Oil (Contains Antioxidant 319), Onion.<br>Sweet Soy Sauce: Sugar, Water, Salt, Wheat, Soy Bean, Spices, Sesame Oil.<br>Chilli Sauce: Chilli, Water, Sugar, Salt, Tapioca Starch, Acidity Regulators (260, 330), Herbs, Flavour Enhancers (621, 627, 631), Flavours, Preservatives 1211, 223). Fried Onion: Onion, Refined Palm Oil (Contains Antioxidant 319).",
            "Noodles: Wheat Flour (62%), Refined Palm Oil (Contains Antioxidant 319), Salt, Acidity Regulators (451, 501, 500), Thickener (412), Colour (101).<br>Seasoning Powder: Salt, Sugar, Flavour Enhancers (621, 631, 627), Garlic Powder, Onion Powder, Yeast Extract, Artificial Flavour, Pepper, Anti Caking Agent (551).<br>Seasoning Oil: Refined Palm Oil (Contains Antioxidant 319), Onion.<br>Sweet Soy Sauce: Sugar, Water, Salt, Wheat, Soy Bean, Spices, Sesame Oil.<br>Chilli Sauce: Chilli, Water, Sugar, Salt, Tapioca Starch, Acidity Regulators (260, 330), Herbs, Flavour Enhancers (621, 627, 631), Flavours, Preservatives 1211, 223). Fried Onion: Onion, Refined Palm Oil (Contains Antioxidant 319).",
            "Noodles: Wheat Flour (62%), Refined Palm Oil (Contains Antioxidant 319), Salt, Acidity Regulators (451, 501, 500), Thickener (412), Colour (101).<br>Seasoning Powder: Salt, Sugar, Flavour Enhancers (621, 631, 627), Garlic Powder, Onion Powder, Yeast Extract, Artificial Flavour, Pepper, Anti Caking Agent (551).<br>Seasoning Oil: Refined Palm Oil (Contains Antioxidant 319), Onion.<br>Sweet Soy Sauce: Sugar, Water, Salt, Wheat, Soy Bean, Spices, Sesame Oil.<br>Chilli Sauce: Chilli, Water, Sugar, Salt, Tapioca Starch, Acidity Regulators (260, 330), Herbs, Flavour Enhancers (621, 627, 631), Flavours, Preservatives 1211, 223). Fried Onion: Onion, Refined Palm Oil (Contains Antioxidant 319).",
            "Noodles: Wheat Flour (62%), Refined Palm Oil (Contains Antioxidant 319), Salt, Acidity Regulators (451, 501, 500), Thickener (412), Colour (101).<br>Seasoning Powder: Salt, Sugar, Flavour Enhancers (621, 631, 627), Garlic Powder, Onion Powder, Yeast Extract, Artificial Flavour, Pepper, Anti Caking Agent (551).<br>Seasoning Oil: Refined Palm Oil (Contains Antioxidant 319), Onion.<br>Sweet Soy Sauce: Sugar, Water, Salt, Wheat, Soy Bean, Spices, Sesame Oil.<br>Chilli Sauce: Chilli, Water, Sugar, Salt, Tapioca Starch, Acidity Regulators (260, 330), Herbs, Flavour Enhancers (621, 627, 631), Flavours, Preservatives 1211, 223). Fried Onion: Onion, Refined Palm Oil (Contains Antioxidant 319).",
            "Water, Reconstituted Fruit Juice (25%) (Apple or Pear, Pineapple, Orange or Water Extracted Orange, Peach Purée, Passionfruit), Sugar, Food Acids (Citric Acid, Potassium Citrate), Vitamin C, Natural Flavours, Stabiliser (Pectin).",
            "Canola Oil, Water, Sugar, Vinegar, Thickener (1422, Xanthan Gum), Free Range Egg Yolk,  Gherkin, Salt, Onion Powder, Natural Colour (Carotene, Paprika Oleoresins), Preservative (Potassium Sorbate), Dill, Acidity Regulator (Citric Acid), Herb Extract, Mustard Oil.",
            "Fruits (55%) (Peach, Pear), Reconstituted Refined Juice (Water, Concentrated Pear Juice, Antioxidant (Ascorbic Acid), Acidity Regulator (Citric Acid))",
            "Fruits (55%) (Peach, Pear), Reconstituted Refined Juice (Water, Concentrated Pear Juice, Antioxidant (Ascorbic Acid), Acidity Regulator (Citric Acid))",
            "Jelly (70%) (Water, Sugar, Gelling Agents (Carrageenan, Locust Bean Gum, Xanthan Gum), Acidity Regulators (Sodium Citrates, Potassium Citrates, Calcium Lactate, Malic Acid, Citric Acid), Natural Flavours (Pineapple, Mango), Natural Colours (Carotene, Paprika Oleoresins), Antioxidant (Ascorbic Acid)), Peach (15%), Pear (15%)",
            "Noodles: Wheat Flour (62%), Refined Palm Oil (Contains Antioxidant 319), Salt, Acidity Regulators (451, 501, 500), Thickener (412), Colour (101).<br>Seasoning Powder: Salt, Sugar, Flavour Enhancers (621, 631, 627), Garlic Powder, Onion Powder, Yeast Extract, Artificial Flavour, Pepper, Anti Caking Agent (551).<br>Seasoning Oil: Refined Palm Oil (Contains Antioxidant 319), Onion.<br>Sweet Soy Sauce: Sugar, Water, Salt, Wheat, Soy Bean, Spices, Sesame Oil.<br>Chilli Sauce: Chilli, Water, Sugar, Salt, Tapioca Starch, Acidity Regulators (260, 330), Herbs, Flavour Enhancers (621, 627, 631), Flavours, Preservatives 1211, 223). Fried Onion: Onion, Refined Palm Oil (Contains Antioxidant 319).",
            "Noodles: Wheat Flour (62%), Refined Palm Oil (Contains Antioxidant 319), Salt, Acidity Regulators (451, 501, 500), Thickener (412), Colour (101).<br>Seasoning Powder: Salt, Sugar, Flavour Enhancers (621, 631, 627), Garlic Powder, Onion Powder, Yeast Extract, Artificial Flavour, Pepper, Anti Caking Agent (551).<br>Seasoning Oil: Refined Palm Oil (Contains Antioxidant 319), Onion.<br>Sweet Soy Sauce: Sugar, Water, Salt, Wheat, Soy Bean, Spices, Sesame Oil.<br>Chilli Sauce: Chilli, Water, Sugar, Salt, Tapioca Starch, Acidity Regulators (260, 330), Herbs, Flavour Enhancers (621, 627, 631), Flavours, Preservatives 1211, 223). Fried Onion: Onion, Refined Palm Oil (Contains Antioxidant 319).",
            "Noodles: Wheat Flour (62%), Refined Palm Oil (Contains Antioxidant 319), Salt, Acidity Regulators (451, 501, 500), Thickener (412), Colour (101).<br>Seasoning Powder: Salt, Sugar, Flavour Enhancers (621, 631, 627), Garlic Powder, Onion Powder, Yeast Extract, Artificial Flavour, Pepper, Anti Caking Agent (551).<br>Seasoning Oil: Refined Palm Oil (Contains Antioxidant 319), Onion.<br>Sweet Soy Sauce: Sugar, Water, Salt, Wheat, Soy Bean, Spices, Sesame Oil.<br>Chilli Sauce: Chilli, Water, Sugar, Salt, Tapioca Starch, Acidity Regulators (260, 330), Herbs, Flavour Enhancers (621, 627, 631), Flavours, Preservatives 1211, 223). Fried Onion: Onion, Refined Palm Oil (Contains Antioxidant 319).",
            "Noodles: Wheat Flour (62%), Refined Palm Oil (Contains Antioxidant 319), Salt, Acidity Regulators (451, 501, 500), Thickener (412), Colour (101).<br>Seasoning Powder: Salt, Sugar, Flavour Enhancers (621, 631, 627), Garlic Powder, Onion Powder, Yeast Extract, Artificial Flavour, Pepper, Anti Caking Agent (551).<br>Seasoning Oil: Refined Palm Oil (Contains Antioxidant 319), Onion.<br>Sweet Soy Sauce: Sugar, Water, Salt, Wheat, Soy Bean, Spices, Sesame Oil.<br>Chilli Sauce: Chilli, Water, Sugar, Salt, Tapioca Starch, Acidity Regulators (260, 330), Herbs, Flavour Enhancers (621, 627, 631), Flavours, Preservatives 1211, 223). Fried Onion: Onion, Refined Palm Oil (Contains Antioxidant 319).",
            "Noodles: Wheat Flour (62%), Refined Palm Oil (Contains Antioxidant 319), Salt, Acidity Regulators (451, 501, 500), Thickener (412), Colour (101).<br>Seasoning Powder: Salt, Sugar, Flavour Enhancers (621, 631, 627), Garlic Powder, Onion Powder, Yeast Extract, Artificial Flavour, Pepper, Anti Caking Agent (551).<br>Seasoning Oil: Refined Palm Oil (Contains Antioxidant 319), Onion.<br>Sweet Soy Sauce: Sugar, Water, Salt, Wheat, Soy Bean, Spices, Sesame Oil.<br>Chilli Sauce: Chilli, Water, Sugar, Salt, Tapioca Starch, Acidity Regulators (260, 330), Herbs, Flavour Enhancers (621, 627, 631), Flavours, Preservatives 1211, 223). Fried Onion: Onion, Refined Palm Oil (Contains Antioxidant 319).",
            "Noodles: Wheat Flour (62%), Refined Palm Oil (Contains Antioxidant 319), Salt, Acidity Regulators (451, 501, 500), Thickener (412), Colour (101).<br>Seasoning Powder: Salt, Sugar, Flavour Enhancers (621, 631, 627), Garlic Powder, Onion Powder, Yeast Extract, Artificial Flavour, Pepper, Anti Caking Agent (551).<br>Seasoning Oil: Refined Palm Oil (Contains Antioxidant 319), Onion.<br>Sweet Soy Sauce: Sugar, Water, Salt, Wheat, Soy Bean, Spices, Sesame Oil.<br>Chilli Sauce: Chilli, Water, Sugar, Salt, Tapioca Starch, Acidity Regulators (260, 330), Herbs, Flavour Enhancers (621, 627, 631), Flavours, Preservatives 1211, 223). Fried Onion: Onion, Refined Palm Oil (Contains Antioxidant 319).",
            "Noodles: Wheat Flour (62%), Refined Palm Oil (Contains Antioxidant 319), Salt, Acidity Regulators (451, 501, 500), Thickener (412), Colour (101).<br>Seasoning Powder: Salt, Sugar, Flavour Enhancers (621, 631, 627), Garlic Powder, Onion Powder, Yeast Extract, Artificial Flavour, Pepper, Anti Caking Agent (551).<br>Seasoning Oil: Refined Palm Oil (Contains Antioxidant 319), Onion.<br>Sweet Soy Sauce: Sugar, Water, Salt, Wheat, Soy Bean, Spices, Sesame Oil.<br>Chilli Sauce: Chilli, Water, Sugar, Salt, Tapioca Starch, Acidity Regulators (260, 330), Herbs, Flavour Enhancers (621, 627, 631), Flavours, Preservatives 1211, 223). Fried Onion: Onion, Refined Palm Oil (Contains Antioxidant 319).",
            "Noodles: Wheat Flour (62%), Refined Palm Oil (Contains Antioxidant 319), Salt, Acidity Regulators (451, 501, 500), Thickener (412), Colour (101).<br>Seasoning Powder: Salt, Sugar, Flavour Enhancers (621, 631, 627), Garlic Powder, Onion Powder, Yeast Extract, Artificial Flavour, Pepper, Anti Caking Agent (551).<br>Seasoning Oil: Refined Palm Oil (Contains Antioxidant 319), Onion.<br>Sweet Soy Sauce: Sugar, Water, Salt, Wheat, Soy Bean, Spices, Sesame Oil.<br>Chilli Sauce: Chilli, Water, Sugar, Salt, Tapioca Starch, Acidity Regulators (260, 330), Herbs, Flavour Enhancers (621, 627, 631), Flavours, Preservatives 1211, 223). Fried Onion: Onion, Refined Palm Oil (Contains Antioxidant 319).",
            "Noodles: Wheat Flour (62%), Refined Palm Oil (Contains Antioxidant 319), Salt, Acidity Regulators (451, 501, 500), Thickener (412), Colour (101).<br>Seasoning Powder: Salt, Sugar, Flavour Enhancers (621, 631, 627), Garlic Powder, Onion Powder, Yeast Extract, Artificial Flavour, Pepper, Anti Caking Agent (551).<br>Seasoning Oil: Refined Palm Oil (Contains Antioxidant 319), Onion.<br>Sweet Soy Sauce: Sugar, Water, Salt, Wheat, Soy Bean, Spices, Sesame Oil.<br>Chilli Sauce: Chilli, Water, Sugar, Salt, Tapioca Starch, Acidity Regulators (260, 330), Herbs, Flavour Enhancers (621, 627, 631), Flavours, Preservatives 1211, 223). Fried Onion: Onion, Refined Palm Oil (Contains Antioxidant 319).",
            "Noodles: Wheat Flour (62%), Refined Palm Oil (Contains Antioxidant 319), Salt, Acidity Regulators (451, 501, 500), Thickener (412), Colour (101).<br>Seasoning Powder: Salt, Sugar, Flavour Enhancers (621, 631, 627), Garlic Powder, Onion Powder, Yeast Extract, Artificial Flavour, Pepper, Anti Caking Agent (551).<br>Seasoning Oil: Refined Palm Oil (Contains Antioxidant 319), Onion.<br>Sweet Soy Sauce: Sugar, Water, Salt, Wheat, Soy Bean, Spices, Sesame Oil.<br>Chilli Sauce: Chilli, Water, Sugar, Salt, Tapioca Starch, Acidity Regulators (260, 330), Herbs, Flavour Enhancers (621, 627, 631), Flavours, Preservatives 1211, 223). Fried Onion: Onion, Refined Palm Oil (Contains Antioxidant 319).",
            "Noodles: Wheat Flour (62%), Refined Palm Oil (Contains Antioxidant 319), Salt, Acidity Regulators (451, 501, 500), Thickener (412), Colour (101).<br>Seasoning Powder: Salt, Sugar, Flavour Enhancers (621, 631, 627), Garlic Powder, Onion Powder, Yeast Extract, Artificial Flavour, Pepper, Anti Caking Agent (551).<br>Seasoning Oil: Refined Palm Oil (Contains Antioxidant 319), Onion.<br>Sweet Soy Sauce: Sugar, Water, Salt, Wheat, Soy Bean, Spices, Sesame Oil.<br>Chilli Sauce: Chilli, Water, Sugar, Salt, Tapioca Starch, Acidity Regulators (260, 330), Herbs, Flavour Enhancers (621, 627, 631), Flavours, Preservatives 1211, 223). Fried Onion: Onion, Refined Palm Oil (Contains Antioxidant 319).",
            "Noodles: Wheat Flour (62%), Refined Palm Oil (Contains Antioxidant 319), Salt, Acidity Regulators (451, 501, 500), Thickener (412), Colour (101).<br>Seasoning Powder: Salt, Sugar, Flavour Enhancers (621, 631, 627), Garlic Powder, Onion Powder, Yeast Extract, Artificial Flavour, Pepper, Anti Caking Agent (551).<br>Seasoning Oil: Refined Palm Oil (Contains Antioxidant 319), Onion.<br>Sweet Soy Sauce: Sugar, Water, Salt, Wheat, Soy Bean, Spices, Sesame Oil.<br>Chilli Sauce: Chilli, Water, Sugar, Salt, Tapioca Starch, Acidity Regulators (260, 330), Herbs, Flavour Enhancers (621, 627, 631), Flavours, Preservatives 1211, 223). Fried Onion: Onion, Refined Palm Oil (Contains Antioxidant 319).",
            "Noodles: Wheat Flour (62%), Refined Palm Oil (Contains Antioxidant 319), Salt, Acidity Regulators (451, 501, 500), Thickener (412), Colour (101).<br>Seasoning Powder: Salt, Sugar, Flavour Enhancers (621, 631, 627), Garlic Powder, Onion Powder, Yeast Extract, Artificial Flavour, Pepper, Anti Caking Agent (551).<br>Seasoning Oil: Refined Palm Oil (Contains Antioxidant 319), Onion.<br>Sweet Soy Sauce: Sugar, Water, Salt, Wheat, Soy Bean, Spices, Sesame Oil.<br>Chilli Sauce: Chilli, Water, Sugar, Salt, Tapioca Starch, Acidity Regulators (260, 330), Herbs, Flavour Enhancers (621, 627, 631), Flavours, Preservatives 1211, 223). Fried Onion: Onion, Refined Palm Oil (Contains Antioxidant 319).",
            "Noodles: Wheat Flour (62%), Refined Palm Oil (Contains Antioxidant 319), Salt, Acidity Regulators (451, 501, 500), Thickener (412), Colour (101).<br>Seasoning Powder: Salt, Sugar, Flavour Enhancers (621, 631, 627), Garlic Powder, Onion Powder, Yeast Extract, Artificial Flavour, Pepper, Anti Caking Agent (551).<br>Seasoning Oil: Refined Palm Oil (Contains Antioxidant 319), Onion.<br>Sweet Soy Sauce: Sugar, Water, Salt, Wheat, Soy Bean, Spices, Sesame Oil.<br>Chilli Sauce: Chilli, Water, Sugar, Salt, Tapioca Starch, Acidity Regulators (260, 330), Herbs, Flavour Enhancers (621, 627, 631), Flavours, Preservatives 1211, 223). Fried Onion: Onion, Refined Palm Oil (Contains Antioxidant 319).",
            "Noodles: Wheat Flour (62%), Refined Palm Oil (Contains Antioxidant 319), Salt, Acidity Regulators (451, 501, 500), Thickener (412), Colour (101).<br>Seasoning Powder: Salt, Sugar, Flavour Enhancers (621, 631, 627), Garlic Powder, Onion Powder, Yeast Extract, Artificial Flavour, Pepper, Anti Caking Agent (551).<br>Seasoning Oil: Refined Palm Oil (Contains Antioxidant 319), Onion.<br>Sweet Soy Sauce: Sugar, Water, Salt, Wheat, Soy Bean, Spices, Sesame Oil.<br>Chilli Sauce: Chilli, Water, Sugar, Salt, Tapioca Starch, Acidity Regulators (260, 330), Herbs, Flavour Enhancers (621, 627, 631), Flavours, Preservatives 1211, 223). Fried Onion: Onion, Refined Palm Oil (Contains Antioxidant 319).",
            "Noodles: Wheat Flour (62%), Refined Palm Oil (Contains Antioxidant 319), Salt, Acidity Regulators (451, 501, 500), Thickener (412), Colour (101).<br>Seasoning Powder: Salt, Sugar, Flavour Enhancers (621, 631, 627), Garlic Powder, Onion Powder, Yeast Extract, Artificial Flavour, Pepper, Anti Caking Agent (551).<br>Seasoning Oil: Refined Palm Oil (Contains Antioxidant 319), Onion.<br>Sweet Soy Sauce: Sugar, Water, Salt, Wheat, Soy Bean, Spices, Sesame Oil.<br>Chilli Sauce: Chilli, Water, Sugar, Salt, Tapioca Starch, Acidity Regulators (260, 330), Herbs, Flavour Enhancers (621, 627, 631), Flavours, Preservatives 1211, 223). Fried Onion: Onion, Refined Palm Oil (Contains Antioxidant 319).",
            "Noodles: Wheat Flour (62%), Refined Palm Oil (Contains Antioxidant 319), Salt, Acidity Regulators (451, 501, 500), Thickener (412), Colour (101).<br>Seasoning Powder: Salt, Sugar, Flavour Enhancers (621, 631, 627), Garlic Powder, Onion Powder, Yeast Extract, Artificial Flavour, Pepper, Anti Caking Agent (551).<br>Seasoning Oil: Refined Palm Oil (Contains Antioxidant 319), Onion.<br>Sweet Soy Sauce: Sugar, Water, Salt, Wheat, Soy Bean, Spices, Sesame Oil.<br>Chilli Sauce: Chilli, Water, Sugar, Salt, Tapioca Starch, Acidity Regulators (260, 330), Herbs, Flavour Enhancers (621, 627, 631), Flavours, Preservatives 1211, 223). Fried Onion: Onion, Refined Palm Oil (Contains Antioxidant 319).",
            "Noodles: Wheat Flour (62%), Refined Palm Oil (Contains Antioxidant 319), Salt, Acidity Regulators (451, 501, 500), Thickener (412), Colour (101).<br>Seasoning Powder: Salt, Sugar, Flavour Enhancers (621, 631, 627), Garlic Powder, Onion Powder, Yeast Extract, Artificial Flavour, Pepper, Anti Caking Agent (551).<br>Seasoning Oil: Refined Palm Oil (Contains Antioxidant 319), Onion.<br>Sweet Soy Sauce: Sugar, Water, Salt, Wheat, Soy Bean, Spices, Sesame Oil.<br>Chilli Sauce: Chilli, Water, Sugar, Salt, Tapioca Starch, Acidity Regulators (260, 330), Herbs, Flavour Enhancers (621, 627, 631), Flavours, Preservatives 1211, 223). Fried Onion: Onion, Refined Palm Oil (Contains Antioxidant 319).",
            "Noodles: Wheat Flour (62%), Refined Palm Oil (Contains Antioxidant 319), Salt, Acidity Regulators (451, 501, 500), Thickener (412), Colour (101).<br>Seasoning Powder: Salt, Sugar, Flavour Enhancers (621, 631, 627), Garlic Powder, Onion Powder, Yeast Extract, Artificial Flavour, Pepper, Anti Caking Agent (551).<br>Seasoning Oil: Refined Palm Oil (Contains Antioxidant 319), Onion.<br>Sweet Soy Sauce: Sugar, Water, Salt, Wheat, Soy Bean, Spices, Sesame Oil.<br>Chilli Sauce: Chilli, Water, Sugar, Salt, Tapioca Starch, Acidity Regulators (260, 330), Herbs, Flavour Enhancers (621, 627, 631), Flavours, Preservatives 1211, 223). Fried Onion: Onion, Refined Palm Oil (Contains Antioxidant 319).",
            "Noodles: Wheat Flour (62%), Refined Palm Oil (Contains Antioxidant 319), Salt, Acidity Regulators (451, 501, 500), Thickener (412), Colour (101).<br>Seasoning Powder: Salt, Sugar, Flavour Enhancers (621, 631, 627), Garlic Powder, Onion Powder, Yeast Extract, Artificial Flavour, Pepper, Anti Caking Agent (551).<br>Seasoning Oil: Refined Palm Oil (Contains Antioxidant 319), Onion.<br>Sweet Soy Sauce: Sugar, Water, Salt, Wheat, Soy Bean, Spices, Sesame Oil.<br>Chilli Sauce: Chilli, Water, Sugar, Salt, Tapioca Starch, Acidity Regulators (260, 330), Herbs, Flavour Enhancers (621, 627, 631), Flavours, Preservatives 1211, 223). Fried Onion: Onion, Refined Palm Oil (Contains Antioxidant 319).",
            "Noodles: Wheat Flour (62%), Refined Palm Oil (Contains Antioxidant 319), Salt, Acidity Regulators (451, 501, 500), Thickener (412), Colour (101).<br>Seasoning Powder: Salt, Sugar, Flavour Enhancers (621, 631, 627), Garlic Powder, Onion Powder, Yeast Extract, Artificial Flavour, Pepper, Anti Caking Agent (551).<br>Seasoning Oil: Refined Palm Oil (Contains Antioxidant 319), Onion.<br>Sweet Soy Sauce: Sugar, Water, Salt, Wheat, Soy Bean, Spices, Sesame Oil.<br>Chilli Sauce: Chilli, Water, Sugar, Salt, Tapioca Starch, Acidity Regulators (260, 330), Herbs, Flavour Enhancers (621, 627, 631), Flavours, Preservatives 1211, 223). Fried Onion: Onion, Refined Palm Oil (Contains Antioxidant 319).",
            "Noodles: Wheat Flour (62%), Refined Palm Oil (Contains Antioxidant 319), Salt, Acidity Regulators (451, 501, 500), Thickener (412), Colour (101).<br>Seasoning Powder: Salt, Sugar, Flavour Enhancers (621, 631, 627), Garlic Powder, Onion Powder, Yeast Extract, Artificial Flavour, Pepper, Anti Caking Agent (551).<br>Seasoning Oil: Refined Palm Oil (Contains Antioxidant 319), Onion.<br>Sweet Soy Sauce: Sugar, Water, Salt, Wheat, Soy Bean, Spices, Sesame Oil.<br>Chilli Sauce: Chilli, Water, Sugar, Salt, Tapioca Starch, Acidity Regulators (260, 330), Herbs, Flavour Enhancers (621, 627, 631), Flavours, Preservatives 1211, 223). Fried Onion: Onion, Refined Palm Oil (Contains Antioxidant 319).",
            "Noodles: Wheat Flour (62%), Refined Palm Oil (Contains Antioxidant 319), Salt, Acidity Regulators (451, 501, 500), Thickener (412), Colour (101).<br>Seasoning Powder: Salt, Sugar, Flavour Enhancers (621, 631, 627), Garlic Powder, Onion Powder, Yeast Extract, Artificial Flavour, Pepper, Anti Caking Agent (551).<br>Seasoning Oil: Refined Palm Oil (Contains Antioxidant 319), Onion.<br>Sweet Soy Sauce: Sugar, Water, Salt, Wheat, Soy Bean, Spices, Sesame Oil.<br>Chilli Sauce: Chilli, Water, Sugar, Salt, Tapioca Starch, Acidity Regulators (260, 330), Herbs, Flavour Enhancers (621, 627, 631), Flavours, Preservatives 1211, 223). Fried Onion: Onion, Refined Palm Oil (Contains Antioxidant 319).",
            "Noodles: Wheat Flour (62%), Refined Palm Oil (Contains Antioxidant 319), Salt, Acidity Regulators (451, 501, 500), Thickener (412), Colour (101).<br>Seasoning Powder: Salt, Sugar, Flavour Enhancers (621, 631, 627), Garlic Powder, Onion Powder, Yeast Extract, Artificial Flavour, Pepper, Anti Caking Agent (551).<br>Seasoning Oil: Refined Palm Oil (Contains Antioxidant 319), Onion.<br>Sweet Soy Sauce: Sugar, Water, Salt, Wheat, Soy Bean, Spices, Sesame Oil.<br>Chilli Sauce: Chilli, Water, Sugar, Salt, Tapioca Starch, Acidity Regulators (260, 330), Herbs, Flavour Enhancers (621, 627, 631), Flavours, Preservatives 1211, 223). Fried Onion: Onion, Refined Palm Oil (Contains Antioxidant 319).",
            "Noodles: Wheat Flour (62%), Refined Palm Oil (Contains Antioxidant 319), Salt, Acidity Regulators (451, 501, 500), Thickener (412), Colour (101).<br>Seasoning Powder: Salt, Sugar, Flavour Enhancers (621, 631, 627), Garlic Powder, Onion Powder, Yeast Extract, Artificial Flavour, Pepper, Anti Caking Agent (551).<br>Seasoning Oil: Refined Palm Oil (Contains Antioxidant 319), Onion.<br>Sweet Soy Sauce: Sugar, Water, Salt, Wheat, Soy Bean, Spices, Sesame Oil.<br>Chilli Sauce: Chilli, Water, Sugar, Salt, Tapioca Starch, Acidity Regulators (260, 330), Herbs, Flavour Enhancers (621, 627, 631), Flavours, Preservatives 1211, 223). Fried Onion: Onion, Refined Palm Oil (Contains Antioxidant 319).",
            "Noodles: Wheat Flour (62%), Refined Palm Oil (Contains Antioxidant 319), Salt, Acidity Regulators (451, 501, 500), Thickener (412), Colour (101).<br>Seasoning Powder: Salt, Sugar, Flavour Enhancers (621, 631, 627), Garlic Powder, Onion Powder, Yeast Extract, Artificial Flavour, Pepper, Anti Caking Agent (551).<br>Seasoning Oil: Refined Palm Oil (Contains Antioxidant 319), Onion.<br>Sweet Soy Sauce: Sugar, Water, Salt, Wheat, Soy Bean, Spices, Sesame Oil.<br>Chilli Sauce: Chilli, Water, Sugar, Salt, Tapioca Starch, Acidity Regulators (260, 330), Herbs, Flavour Enhancers (621, 627, 631), Flavours, Preservatives 1211, 223). Fried Onion: Onion, Refined Palm Oil (Contains Antioxidant 319).",
            "Noodles: Wheat Flour (62%), Refined Palm Oil (Contains Antioxidant 319), Salt, Acidity Regulators (451, 501, 500), Thickener (412), Colour (101).<br>Seasoning Powder: Salt, Sugar, Flavour Enhancers (621, 631, 627), Garlic Powder, Onion Powder, Yeast Extract, Artificial Flavour, Pepper, Anti Caking Agent (551).<br>Seasoning Oil: Refined Palm Oil (Contains Antioxidant 319), Onion.<br>Sweet Soy Sauce: Sugar, Water, Salt, Wheat, Soy Bean, Spices, Sesame Oil.<br>Chilli Sauce: Chilli, Water, Sugar, Salt, Tapioca Starch, Acidity Regulators (260, 330), Herbs, Flavour Enhancers (621, 627, 631), Flavours, Preservatives 1211, 223). Fried Onion: Onion, Refined Palm Oil (Contains Antioxidant 319).",
            "Noodles: Wheat Flour (62%), Refined Palm Oil (Contains Antioxidant 319), Salt, Acidity Regulators (451, 501, 500), Thickener (412), Colour (101).<br>Seasoning Powder: Salt, Sugar, Flavour Enhancers (621, 631, 627), Garlic Powder, Onion Powder, Yeast Extract, Artificial Flavour, Pepper, Anti Caking Agent (551).<br>Seasoning Oil: Refined Palm Oil (Contains Antioxidant 319), Onion.<br>Sweet Soy Sauce: Sugar, Water, Salt, Wheat, Soy Bean, Spices, Sesame Oil.<br>Chilli Sauce: Chilli, Water, Sugar, Salt, Tapioca Starch, Acidity Regulators (260, 330), Herbs, Flavour Enhancers (621, 627, 631), Flavours, Preservatives 1211, 223). Fried Onion: Onion, Refined Palm Oil (Contains Antioxidant 319).",
            "Noodles: Wheat Flour (62%), Refined Palm Oil (Contains Antioxidant 319), Salt, Acidity Regulators (451, 501, 500), Thickener (412), Colour (101).<br>Seasoning Powder: Salt, Sugar, Flavour Enhancers (621, 631, 627), Garlic Powder, Onion Powder, Yeast Extract, Artificial Flavour, Pepper, Anti Caking Agent (551).<br>Seasoning Oil: Refined Palm Oil (Contains Antioxidant 319), Onion.<br>Sweet Soy Sauce: Sugar, Water, Salt, Wheat, Soy Bean, Spices, Sesame Oil.<br>Chilli Sauce: Chilli, Water, Sugar, Salt, Tapioca Starch, Acidity Regulators (260, 330), Herbs, Flavour Enhancers (621, 627, 631), Flavours, Preservatives 1211, 223). Fried Onion: Onion, Refined Palm Oil (Contains Antioxidant 319).",
            "Noodles: Wheat Flour (62%), Refined Palm Oil (Contains Antioxidant 319), Salt, Acidity Regulators (451, 501, 500), Thickener (412), Colour (101).<br>Seasoning Powder: Salt, Sugar, Flavour Enhancers (621, 631, 627), Garlic Powder, Onion Powder, Yeast Extract, Artificial Flavour, Pepper, Anti Caking Agent (551).<br>Seasoning Oil: Refined Palm Oil (Contains Antioxidant 319), Onion.<br>Sweet Soy Sauce: Sugar, Water, Salt, Wheat, Soy Bean, Spices, Sesame Oil.<br>Chilli Sauce: Chilli, Water, Sugar, Salt, Tapioca Starch, Acidity Regulators (260, 330), Herbs, Flavour Enhancers (621, 627, 631), Flavours, Preservatives 1211, 223). Fried Onion: Onion, Refined Palm Oil (Contains Antioxidant 319).",
            "Water, Reconstituted Fruit Juice (25%) (Apple or Pear, Pineapple, Orange or Water Extracted Orange, Peach Purée, Passionfruit), Sugar, Food Acids (Citric Acid, Potassium Citrate), Vitamin C, Natural Flavours, Stabiliser (Pectin).",
            "Water, Reconstituted Fruit Juice (25%) (Apple or Pear, Pineapple, Orange or Water Extracted Orange, Peach Purée, Passionfruit), Sugar, Food Acids (Citric Acid, Potassium Citrate), Vitamin C, Natural Flavours, Stabiliser (Pectin).",
            "Canola Oil, Water, Sugar, Vinegar, Thickener (1422, Xanthan Gum), Free Range Egg Yolk,  Gherkin, Salt, Onion Powder, Natural Colour (Carotene, Paprika Oleoresins), Preservative (Potassium Sorbate), Dill, Acidity Regulator (Citric Acid), Herb Extract, Mustard Oil.",
            "Canola Oil, Water, Sugar, Vinegar, Thickener (1422, Xanthan Gum), Free Range Egg Yolk,  Gherkin, Salt, Onion Powder, Natural Colour (Carotene, Paprika Oleoresins), Preservative (Potassium Sorbate), Dill, Acidity Regulator (Citric Acid), Herb Extract, Mustard Oil.",
            "Fruits (55%) (Peach, Pear), Reconstituted Refined Juice (Water, Concentrated Pear Juice, Antioxidant (Ascorbic Acid), Acidity Regulator (Citric Acid))",
            "Fruits (55%) (Peach, Pear), Reconstituted Refined Juice (Water, Concentrated Pear Juice, Antioxidant (Ascorbic Acid), Acidity Regulator (Citric Acid))",
            "Jelly (70%) (Water, Sugar, Gelling Agents (Carrageenan, Locust Bean Gum, Xanthan Gum), Acidity Regulators (Sodium Citrates, Potassium Citrates, Calcium Lactate, Malic Acid, Citric Acid), Natural Flavours (Pineapple, Mango), Natural Colours (Carotene, Paprika Oleoresins), Antioxidant (Ascorbic Acid)), Peach (15%), Pear (15%)",
            "Water, Reconstituted Fruit Juice (25%) (Apple or Pear, Pineapple, Orange or Water Extracted Orange, Peach Purée, Passionfruit), Sugar, Food Acids (Citric Acid, Potassium Citrate), Vitamin C, Natural Flavours, Stabiliser (Pectin).",
            "Water, Reconstituted Fruit Juice (25%) (Apple or Pear, Pineapple, Orange or Water Extracted Orange, Peach Purée, Passionfruit), Sugar, Food Acids (Citric Acid, Potassium Citrate), Vitamin C, Natural Flavours, Stabiliser (Pectin).",
            "Water, Reconstituted Fruit Juice (25%) (Apple or Pear, Pineapple, Orange or Water Extracted Orange, Peach Purée, Passionfruit), Sugar, Food Acids (Citric Acid, Potassium Citrate), Vitamin C, Natural Flavours, Stabiliser (Pectin).",
            "Water, Reconstituted Fruit Juice (25%) (Apple or Pear, Pineapple, Orange or Water Extracted Orange, Peach Purée, Passionfruit), Sugar, Food Acids (Citric Acid, Potassium Citrate), Vitamin C, Natural Flavours, Stabiliser (Pectin).",
            "Water, Reconstituted Fruit Juice (25%) (Apple or Pear, Pineapple, Orange or Water Extracted Orange, Peach Purée, Passionfruit), Sugar, Food Acids (Citric Acid, Potassium Citrate), Vitamin C, Natural Flavours, Stabiliser (Pectin).",
            "Water, Reconstituted Fruit Juice (25%) (Apple or Pear, Pineapple, Orange or Water Extracted Orange, Peach Purée, Passionfruit), Sugar, Food Acids (Citric Acid, Potassium Citrate), Vitamin C, Natural Flavours, Stabiliser (Pectin).",
            "Water, Reconstituted Fruit Juice (25%) (Apple or Pear, Pineapple, Orange or Water Extracted Orange, Peach Purée, Passionfruit), Sugar, Food Acids (Citric Acid, Potassium Citrate), Vitamin C, Natural Flavours, Stabiliser (Pectin).",
            "Water, Reconstituted Fruit Juice (25%) (Apple or Pear, Pineapple, Orange or Water Extracted Orange, Peach Purée, Passionfruit), Sugar, Food Acids (Citric Acid, Potassium Citrate), Vitamin C, Natural Flavours, Stabiliser (Pectin).",
            "Water, Reconstituted Fruit Juice (25%) (Apple or Pear, Pineapple, Orange or Water Extracted Orange, Peach Purée, Passionfruit), Sugar, Food Acids (Citric Acid, Potassium Citrate), Vitamin C, Natural Flavours, Stabiliser (Pectin).",
            "Water, Reconstituted Fruit Juice (25%) (Apple or Pear, Pineapple, Orange or Water Extracted Orange, Peach Purée, Passionfruit), Sugar, Food Acids (Citric Acid, Potassium Citrate), Vitamin C, Natural Flavours, Stabiliser (Pectin).",
            "Canola Oil, Water, Sugar, Vinegar, Thickener (1422, Xanthan Gum), Free Range Egg Yolk,  Gherkin, Salt, Onion Powder, Natural Colour (Carotene, Paprika Oleoresins), Preservative (Potassium Sorbate), Dill, Acidity Regulator (Citric Acid), Herb Extract, Mustard Oil.",
            "Canola Oil, Water, Sugar, Vinegar, Thickener (1422, Xanthan Gum), Free Range Egg Yolk,  Gherkin, Salt, Onion Powder, Natural Colour (Carotene, Paprika Oleoresins), Preservative (Potassium Sorbate), Dill, Acidity Regulator (Citric Acid), Herb Extract, Mustard Oil.",
            "Canola Oil, Water, Sugar, Vinegar, Thickener (1422, Xanthan Gum), Free Range Egg Yolk,  Gherkin, Salt, Onion Powder, Natural Colour (Carotene, Paprika Oleoresins), Preservative (Potassium Sorbate), Dill, Acidity Regulator (Citric Acid), Herb Extract, Mustard Oil.",
            "Canola Oil, Water, Sugar, Vinegar, Thickener (1422, Xanthan Gum), Free Range Egg Yolk,  Gherkin, Salt, Onion Powder, Natural Colour (Carotene, Paprika Oleoresins), Preservative (Potassium Sorbate), Dill, Acidity Regulator (Citric Acid), Herb Extract, Mustard Oil.",
            "Canola Oil, Water, Sugar, Vinegar, Thickener (1422, Xanthan Gum), Free Range Egg Yolk,  Gherkin, Salt, Onion Powder, Natural Colour (Carotene, Paprika Oleoresins), Preservative (Potassium Sorbate), Dill, Acidity Regulator (Citric Acid), Herb Extract, Mustard Oil.",
            "Canola Oil, Water, Sugar, Vinegar, Thickener (1422, Xanthan Gum), Free Range Egg Yolk,  Gherkin, Salt, Onion Powder, Natural Colour (Carotene, Paprika Oleoresins), Preservative (Potassium Sorbate), Dill, Acidity Regulator (Citric Acid), Herb Extract, Mustard Oil.",
            "Jelly (70%) (Water, Sugar, Gelling Agents (Carrageenan, Locust Bean Gum, Xanthan Gum), Acidity Regulators (Sodium Citrates, Potassium Citrates, Calcium Lactate, Malic Acid, Citric Acid), Natural Flavours (Pineapple, Mango), Natural Colours (Carotene, Paprika Oleoresins), Antioxidant (Ascorbic Acid)), Peach (15%), Pear (15%)",
            "Canola Oil, Water, Sugar, Vinegar, Thickener (1422, Xanthan Gum), Free Range Egg Yolk,  Gherkin, Salt, Onion Powder, Natural Colour (Carotene, Paprika Oleoresins), Preservative (Potassium Sorbate), Dill, Acidity Regulator (Citric Acid), Herb Extract, Mustard Oil.",
            "Jelly (70%) (Water, Sugar, Gelling Agents (Carrageenan, Locust Bean Gum, Xanthan Gum), Acidity Regulators (Sodium Citrates, Potassium Citrates, Calcium Lactate, Malic Acid, Citric Acid), Natural Flavours (Pineapple, Mango), Natural Colours (Carotene, Paprika Oleoresins), Antioxidant (Ascorbic Acid)), Peach (15%), Pear (15%)",
            "Canola Oil, Water, Sugar, Vinegar, Thickener (1422, Xanthan Gum), Free Range Egg Yolk,  Gherkin, Salt, Onion Powder, Natural Colour (Carotene, Paprika Oleoresins), Preservative (Potassium Sorbate), Dill, Acidity Regulator (Citric Acid), Herb Extract, Mustard Oil.",
            "Canola Oil, Water, Sugar, Vinegar, Thickener (1422, Xanthan Gum), Free Range Egg Yolk,  Gherkin, Salt, Onion Powder, Natural Colour (Carotene, Paprika Oleoresins), Preservative (Potassium Sorbate), Dill, Acidity Regulator (Citric Acid), Herb Extract, Mustard Oil.",
            "Canola Oil, Water, Sugar, Vinegar, Thickener (1422, Xanthan Gum), Free Range Egg Yolk,  Gherkin, Salt, Onion Powder, Natural Colour (Carotene, Paprika Oleoresins), Preservative (Potassium Sorbate), Dill, Acidity Regulator (Citric Acid), Herb Extract, Mustard Oil.",
            "Canola Oil, Water, Sugar, Vinegar, Thickener (1422, Xanthan Gum), Free Range Egg Yolk,  Gherkin, Salt, Onion Powder, Natural Colour (Carotene, Paprika Oleoresins), Preservative (Potassium Sorbate), Dill, Acidity Regulator (Citric Acid), Herb Extract, Mustard Oil.",
            "Fruits (55%) (Peach, Pear), Reconstituted Refined Juice (Water, Concentrated Pear Juice, Antioxidant (Ascorbic Acid), Acidity Regulator (Citric Acid))",
            "Fruits (55%) (Peach, Pear), Reconstituted Refined Juice (Water, Concentrated Pear Juice, Antioxidant (Ascorbic Acid), Acidity Regulator (Citric Acid))",
            "Jelly (70%) (Water, Sugar, Gelling Agents (Carrageenan, Locust Bean Gum, Xanthan Gum), Acidity Regulators (Sodium Citrates, Potassium Citrates, Calcium Lactate, Malic Acid, Citric Acid), Natural Flavours (Pineapple, Mango), Natural Colours (Carotene, Paprika Oleoresins), Antioxidant (Ascorbic Acid)), Peach (15%), Pear (15%)",
            "Jelly (70%) (Water, Sugar, Gelling Agents (Carrageenan, Locust Bean Gum, Xanthan Gum), Acidity Regulators (Sodium Citrates, Potassium Citrates, Calcium Lactate, Malic Acid, Citric Acid), Natural Flavours (Pineapple, Mango), Natural Colours (Carotene, Paprika Oleoresins), Antioxidant (Ascorbic Acid)), Peach (15%), Pear (15%)",
            "Jelly (70%) (Water, Sugar, Gelling Agents (Carrageenan, Locust Bean Gum, Xanthan Gum), Acidity Regulators (Sodium Citrates, Potassium Citrates, Calcium Lactate, Malic Acid, Citric Acid), Natural Flavours (Pineapple, Mango), Natural Colours (Carotene, Paprika Oleoresins), Antioxidant (Ascorbic Acid)), Peach (15%), Pear (15%)",
            "Jelly (70%) (Water, Sugar, Gelling Agents (Carrageenan, Locust Bean Gum, Xanthan Gum), Acidity Regulators (Sodium Citrates, Potassium Citrates, Calcium Lactate, Malic Acid, Citric Acid), Natural Flavours (Pineapple, Mango), Natural Colours (Carotene, Paprika Oleoresins), Antioxidant (Ascorbic Acid)), Peach (15%), Pear (15%)",
            "Jelly (70%) (Water, Sugar, Gelling Agents (Carrageenan, Locust Bean Gum, Xanthan Gum), Acidity Regulators (Sodium Citrates, Potassium Citrates, Calcium Lactate, Malic Acid, Citric Acid), Natural Flavours (Pineapple, Mango), Natural Colours (Carotene, Paprika Oleoresins), Antioxidant (Ascorbic Acid)), Peach (15%), Pear (15%)",
            "Jelly (70%) (Water, Sugar, Gelling Agents (Carrageenan, Locust Bean Gum, Xanthan Gum), Acidity Regulators (Sodium Citrates, Potassium Citrates, Calcium Lactate, Malic Acid, Citric Acid), Natural Flavours (Pineapple, Mango), Natural Colours (Carotene, Paprika Oleoresins), Antioxidant (Ascorbic Acid)), Peach (15%), Pear (15%)",
            "Jelly (70%) (Water, Sugar, Gelling Agents (Carrageenan, Locust Bean Gum, Xanthan Gum), Acidity Regulators (Sodium Citrates, Potassium Citrates, Calcium Lactate, Malic Acid, Citric Acid), Natural Flavours (Pineapple, Mango), Natural Colours (Carotene, Paprika Oleoresins), Antioxidant (Ascorbic Acid)), Peach (15%), Pear (15%)",
            "Jelly (70%) (Water, Sugar, Gelling Agents (Carrageenan, Locust Bean Gum, Xanthan Gum), Acidity Regulators (Sodium Citrates, Potassium Citrates, Calcium Lactate, Malic Acid, Citric Acid), Natural Flavours (Pineapple, Mango), Natural Colours (Carotene, Paprika Oleoresins), Antioxidant (Ascorbic Acid)), Peach (15%), Pear (15%)",
            "Fruits (55%) (Peach, Pear), Reconstituted Refined Juice (Water, Concentrated Pear Juice, Antioxidant (Ascorbic Acid), Acidity Regulator (Citric Acid))",
            "Fruits (55%) (Peach, Pear), Reconstituted Refined Juice (Water, Concentrated Pear Juice, Antioxidant (Ascorbic Acid), Acidity Regulator (Citric Acid))",
            "Jelly (70%) (Water, Sugar, Gelling Agents (Carrageenan, Locust Bean Gum, Xanthan Gum), Acidity Regulators (Sodium Citrates, Potassium Citrates, Calcium Lactate, Malic Acid, Citric Acid), Natural Flavours (Pineapple, Mango), Natural Colours (Carotene, Paprika Oleoresins), Antioxidant (Ascorbic Acid)), Peach (15%), Pear (15%)",
            "Fruits (55%) (Peach, Pear), Reconstituted Refined Juice (Water, Concentrated Pear Juice, Antioxidant (Ascorbic Acid), Acidity Regulator (Citric Acid))",
            "Fruits (55%) (Peach, Pear), Reconstituted Refined Juice (Water, Concentrated Pear Juice, Antioxidant (Ascorbic Acid), Acidity Regulator (Citric Acid))",
            "Jelly (70%) (Water, Sugar, Gelling Agents (Carrageenan, Locust Bean Gum, Xanthan Gum), Acidity Regulators (Sodium Citrates, Potassium Citrates, Calcium Lactate, Malic Acid, Citric Acid), Natural Flavours (Pineapple, Mango), Natural Colours (Carotene, Paprika Oleoresins), Antioxidant (Ascorbic Acid)), Peach (15%), Pear (15%)",
            "Fruits (55%) (Peach, Pear), Reconstituted Refined Juice (Water, Concentrated Pear Juice, Antioxidant (Ascorbic Acid), Acidity Regulator (Citric Acid))",
            "Fruits (55%) (Peach, Pear), Reconstituted Refined Juice (Water, Concentrated Pear Juice, Antioxidant (Ascorbic Acid), Acidity Regulator (Citric Acid))",
            "Jelly (70%) (Water, Sugar, Gelling Agents (Carrageenan, Locust Bean Gum, Xanthan Gum), Acidity Regulators (Sodium Citrates, Potassium Citrates, Calcium Lactate, Malic Acid, Citric Acid), Natural Flavours (Pineapple, Mango), Natural Colours (Carotene, Paprika Oleoresins), Antioxidant (Ascorbic Acid)), Peach (15%), Pear (15%)",
            "Jelly (70%) (Water, Sugar, Gelling Agents (Carrageenan, Locust Bean Gum, Xanthan Gum), Acidity Regulators (Sodium Citrates, Potassium Citrates, Calcium Lactate, Malic Acid, Citric Acid), Natural Flavours (Pineapple, Mango), Natural Colours (Carotene, Paprika Oleoresins), Antioxidant (Ascorbic Acid)), Peach (15%), Pear (15%)"
           ],
           [
            "Indomie Mi Goreng Instant Noodles",
            "Indomie Mi Goreng Instant Noodles",
            "Golden Circle Drinks Sunshine Punch Fruit Drink",
            "Woolworths Secret Burger Sauce",
            "Woolworths Two Fruits In Tropical Jelly",
            "Indomie Mi Goreng Instant Noodles",
            "Indomie Mi Goreng Instant Noodles",
            "Indomie Mi Goreng Instant Noodles",
            "Indomie Mi Goreng Instant Noodles",
            "Indomie Mi Goreng Instant Noodles",
            "Indomie Mi Goreng Instant Noodles",
            "Woolworths Secret Burger Sauce",
            "Indomie Mi Goreng Instant Noodles",
            "Indomie Mi Goreng Instant Noodles",
            "Indomie Mi Goreng Instant Noodles",
            "Indomie Mi Goreng Instant Noodles",
            "Indomie Mi Goreng Instant Noodles",
            "Indomie Mi Goreng Instant Noodles",
            "Indomie Mi Goreng Instant Noodles",
            "Indomie Mi Goreng Instant Noodles",
            "Indomie Mi Goreng Instant Noodles",
            "Indomie Mi Goreng Instant Noodles",
            "Indomie Mi Goreng Instant Noodles",
            "Indomie Mi Goreng Instant Noodles",
            "Indomie Mi Goreng Instant Noodles",
            "Indomie Mi Goreng Instant Noodles",
            "Indomie Mi Goreng Instant Noodles",
            "Indomie Mi Goreng Instant Noodles",
            "Indomie Mi Goreng Instant Noodles",
            "Indomie Mi Goreng Instant Noodles",
            "Indomie Mi Goreng Instant Noodles",
            "Indomie Mi Goreng Instant Noodles",
            "Woolworths Secret Burger Sauce",
            "Indomie Mi Goreng Instant Noodles",
            "Indomie Mi Goreng Instant Noodles",
            "Indomie Mi Goreng Instant Noodles",
            "Indomie Mi Goreng Instant Noodles",
            "Indomie Mi Goreng Instant Noodles",
            "Indomie Mi Goreng Instant Noodles",
            "Indomie Mi Goreng Instant Noodles",
            "Indomie Mi Goreng Instant Noodles",
            "Indomie Mi Goreng Instant Noodles",
            "Indomie Mi Goreng Instant Noodles",
            "Indomie Mi Goreng Instant Noodles",
            "Indomie Mi Goreng Instant Noodles",
            "Indomie Mi Goreng Instant Noodles",
            "Indomie Mi Goreng Instant Noodles",
            "Indomie Mi Goreng Instant Noodles",
            "Indomie Mi Goreng Instant Noodles",
            "Golden Circle Drinks Sunshine Punch Fruit Drink",
            "Woolworths Secret Burger Sauce",
            "Woolworths Two Fruits In Juice Cups",
            "Woolworths Two Fruits In Juice",
            "Woolworths Two Fruits In Tropical Jelly",
            "Indomie Mi Goreng Instant Noodles",
            "Indomie Mi Goreng Instant Noodles",
            "Indomie Mi Goreng Instant Noodles",
            "Indomie Mi Goreng Instant Noodles",
            "Indomie Mi Goreng Instant Noodles",
            "Indomie Mi Goreng Instant Noodles",
            "Indomie Mi Goreng Instant Noodles",
            "Indomie Mi Goreng Instant Noodles",
            "Indomie Mi Goreng Instant Noodles",
            "Indomie Mi Goreng Instant Noodles",
            "Indomie Mi Goreng Instant Noodles",
            "Indomie Mi Goreng Instant Noodles",
            "Indomie Mi Goreng Instant Noodles",
            "Indomie Mi Goreng Instant Noodles",
            "Indomie Mi Goreng Instant Noodles",
            "Indomie Mi Goreng Instant Noodles",
            "Indomie Mi Goreng Instant Noodles",
            "Indomie Mi Goreng Instant Noodles",
            "Indomie Mi Goreng Instant Noodles",
            "Indomie Mi Goreng Instant Noodles",
            "Indomie Mi Goreng Instant Noodles",
            "Indomie Mi Goreng Instant Noodles",
            "Indomie Mi Goreng Instant Noodles",
            "Indomie Mi Goreng Instant Noodles",
            "Indomie Mi Goreng Instant Noodles",
            "Indomie Mi Goreng Instant Noodles",
            "Indomie Mi Goreng Instant Noodles",
            "Indomie Mi Goreng Instant Noodles",
            "Indomie Mi Goreng Instant Noodles",
            "Indomie Mi Goreng Instant Noodles",
            "Golden Circle Drinks Sunshine Punch Fruit Drink",
            "Golden Circle Drinks Sunshine Punch Fruit Drink",
            "Woolworths Secret Burger Sauce",
            "Woolworths Secret Burger Sauce",
            "Woolworths Two Fruits In Juice Cups",
            "Woolworths Two Fruits In Juice",
            "Woolworths Two Fruits In Tropical Jelly",
            "Golden Circle Drinks Sunshine Punch Fruit Drink",
            "Golden Circle Drinks Sunshine Punch Fruit Drink",
            "Golden Circle Drinks Sunshine Punch Fruit Drink",
            "Golden Circle Drinks Sunshine Punch Fruit Drink",
            "Golden Circle Drinks Sunshine Punch Fruit Drink",
            "Golden Circle Drinks Sunshine Punch Fruit Drink",
            "Golden Circle Drinks Sunshine Punch Fruit Drink",
            "Golden Circle Drinks Sunshine Punch Fruit Drink",
            "Golden Circle Drinks Sunshine Punch Fruit Drink",
            "Golden Circle Drinks Sunshine Punch Fruit Drink",
            "Woolworths Secret Burger Sauce",
            "Woolworths Secret Burger Sauce",
            "Woolworths Secret Burger Sauce",
            "Woolworths Secret Burger Sauce",
            "Woolworths Secret Burger Sauce",
            "Woolworths Secret Burger Sauce",
            "Woolworths Two Fruits In Tropical Jelly",
            "Woolworths Secret Burger Sauce",
            "Woolworths Two Fruits In Tropical Jelly",
            "Woolworths Secret Burger Sauce",
            "Woolworths Secret Burger Sauce",
            "Woolworths Secret Burger Sauce",
            "Woolworths Secret Burger Sauce",
            "Woolworths Two Fruits In Juice Cups",
            "Woolworths Two Fruits In Juice",
            "Woolworths Two Fruits In Tropical Jelly",
            "Woolworths Two Fruits In Tropical Jelly",
            "Woolworths Two Fruits In Tropical Jelly",
            "Woolworths Two Fruits In Tropical Jelly",
            "Woolworths Two Fruits In Tropical Jelly",
            "Woolworths Two Fruits In Tropical Jelly",
            "Woolworths Two Fruits In Tropical Jelly",
            "Woolworths Two Fruits In Tropical Jelly",
            "Woolworths Two Fruits In Juice Cups",
            "Woolworths Two Fruits In Juice",
            "Woolworths Two Fruits In Tropical Jelly",
            "Woolworths Two Fruits In Juice Cups",
            "Woolworths Two Fruits In Juice",
            "Woolworths Two Fruits In Tropical Jelly",
            "Woolworths Two Fruits In Juice Cups",
            "Woolworths Two Fruits In Juice",
            "Woolworths Two Fruits In Tropical Jelly",
            "Woolworths Two Fruits In Tropical Jelly"
           ],
           [
            "Sugar",
            "Sugar",
            "Sugar",
            "Sugar",
            "Sugar",
            "Wheat Flour",
            "Wheat Flour",
            "Refined Palm Oil",
            "Refined Palm Oil",
            "Salt",
            "Salt",
            "Salt",
            "451",
            "451",
            "501",
            "501",
            "500",
            "500",
            "412",
            "412",
            "101",
            "101",
            "Seasoning Powder",
            "Seasoning Powder",
            "621",
            "621",
            "627",
            "627",
            "Garlic Powder",
            "Garlic Powder",
            "Onion Powder",
            "Onion Powder",
            "Onion Powder",
            "Yeast Extract",
            "Yeast Extract",
            "Artificial Flavour",
            "Artificial Flavour",
            "Pepper",
            "Pepper",
            "551",
            "551",
            "Seasoning Oil",
            "Seasoning Oil",
            "Onion",
            "Onion",
            "Sweet Soy Sauce",
            "Sweet Soy Sauce",
            "Water",
            "Water",
            "Water",
            "Water",
            "Water",
            "Water",
            "Water",
            "Wheat",
            "Wheat",
            "Soy Bean",
            "Soy Bean",
            "Spices",
            "Spices",
            "Sesame Oil",
            "Sesame Oil",
            "Chilli Sauce",
            "Chilli Sauce",
            "Chilli",
            "Chilli",
            "Tapioca Starch",
            "Tapioca Starch",
            "260",
            "260",
            "330",
            "330",
            "Herbs",
            "Herbs",
            "1211",
            "1211",
            "223",
            "223",
            "Fried Onion",
            "Fried Onion",
            "319",
            "319",
            "631",
            "631",
            "Citric Acid",
            "Natural Flavours",
            "1422",
            "Citric Acid",
            "Citric Acid",
            "Citric Acid",
            "Citric Acid",
            "Vitamin C",
            "Apple",
            "Orange",
            "Pineapple",
            "Passionfruit",
            "Pear",
            "Potassium Citrate",
            "Pectin",
            "Water Extracted Orange",
            "Peach Purée",
            "Canola Oil",
            "Vinegar",
            "Xanthan Gum",
            "Free Range Egg Yolk",
            "Gherkin",
            "Carotene",
            "Carotene",
            "Paprika Oleoresins",
            "Paprika Oleoresins",
            "Potassium Sorbate",
            "Dill",
            "Herb Extract",
            "Mustard Oil",
            "Ascorbic Acid",
            "Ascorbic Acid",
            "Ascorbic Acid",
            "Carrageenan",
            "Locust Bean Gum",
            "Xanthan Gum",
            "Sodium Citrate",
            "Potassium Citrate",
            "Calcium Lactate",
            "Malic Acid",
            "Peach",
            "Peach",
            "Peach",
            "Pear",
            "Pear",
            "Pear",
            "Concentrated Pear Juice",
            "Concentrated Pear Juice",
            "Pineapple",
            "Mango"
           ],
           [
            "Sugar",
            "Sugar",
            "Sugar",
            "Sugar",
            "Sugar",
            "Wheat Flour",
            "Wheat Flour",
            "Refined Palm Oil",
            "Refined Palm Oil",
            "Salt",
            "Salt",
            "Salt",
            "Acidity Regulator 451",
            "Acidity Regulator 451",
            "Acidity Regulator 501",
            "Acidity Regulator 501",
            "Sodium Bicarbonate",
            "Sodium Bicarbonate",
            "Guar Gum",
            "Guar Gum",
            "Colour 101",
            "Colour 101",
            "Seasoning Powder",
            "Seasoning Powder",
            "Flavour Enhancer 621",
            "Flavour Enhancer 621",
            "Disodium Guanylate",
            "Disodium Guanylate",
            "Garlic Powder",
            "Garlic Powder",
            "Onion Powder",
            "Onion Powder",
            "Onion Powder",
            "Yeast Extract",
            "Yeast Extract",
            "Artificial Flavour",
            "Artificial Flavour",
            "Pepper",
            "Pepper",
            "Anti Caking Agent 551",
            "Anti Caking Agent 551",
            "Seasoning Oil",
            "Seasoning Oil",
            "Onion",
            "Onion",
            "Sweet Soy Sauce",
            "Sweet Soy Sauce",
            "Water",
            "Water",
            "Water",
            "Water",
            "Water",
            "Water",
            "Water",
            "Wheat",
            "Wheat",
            "Soy Bean",
            "Soy Bean",
            "Spices",
            "Spices",
            "Sesame Oil",
            "Sesame Oil",
            "Chilli Sauce",
            "Chilli Sauce",
            "Chilli",
            "Chilli",
            "Tapioca Starch",
            "Tapioca Starch",
            "Acetic Acid",
            "Acetic Acid",
            "Citric Acid",
            "Citric Acid",
            "Herbs",
            "Herbs",
            "Preservative 1211",
            "Preservative 1211",
            "Sodium Metabisulfite",
            "Sodium Metabisulfite",
            "Fried Onion",
            "Fried Onion",
            "TBHQ",
            "TBHQ",
            "Disodium Inosinate",
            "Disodium Inosinate",
            "Citric Acid",
            "Natural Flavours",
            "Thickener 1422",
            "Citric Acid",
            "Citric Acid",
            "Citric Acid",
            "Citric Acid",
            "Vitamin C",
            "Reconstituted Apple Juice",
            "Reconstituted Fruit Juice Orange",
            "Reconstituted Fruit Juice Pineapple",
            "Reconstituted Fruit Juice Passionfruit",
            "Reconstituted Fruit Juice Pear",
            "Potassium Citrate",
            "Pectin",
            "Reconstituted Fruit Juice Water Extracted Orange",
            "Reconstituted Fruit Juice Peach Purée",
            "Canola Oil",
            "Vinegar",
            "Xanthan Gum",
            "Free Range Egg Yolk",
            "Gherkin",
            "Carotene",
            "Carotene",
            "Paprika Oleoresins",
            "Paprika Oleoresins",
            "Potassium Sorbate",
            "Dill",
            "Herb Extract",
            "Mustard Oil",
            "Ascorbic Acid",
            "Ascorbic Acid",
            "Ascorbic Acid",
            "Carrageenan",
            "Locust Bean Gum",
            "Xanthan Gum",
            "Sodium Citrate",
            "Potassium Citrate",
            "Calcium Lactate",
            "Malic Acid",
            "Fruit Peach",
            "Fruit Peach",
            "Fruit Peach",
            "Pear",
            "Pear",
            "Pear",
            "Reconstituted Refined Juice Concentrated Pear Juice",
            "Reconstituted Refined Juice Concentrated Pear Juice",
            "Natural Flavour Pineapple",
            "Natural Flavour Mango"
           ],
           [
            "group1",
            "group1",
            "group1",
            "group1",
            "group1",
            "group1",
            "group1",
            "group1",
            "group1",
            "group1",
            "group1",
            "group1",
            "group1",
            "group1",
            "group1",
            "group1",
            "group1",
            "group1",
            "group1",
            "group1",
            "group1",
            "group1",
            "group1",
            "group1",
            "group1",
            "group1",
            "group1",
            "group1",
            "group1",
            "group1",
            "group1",
            "group1",
            "group1",
            "group1",
            "group1",
            "group1",
            "group1",
            "group1",
            "group1",
            "group1",
            "group1",
            "group1",
            "group1",
            "group1",
            "group1",
            "group1",
            "group1",
            "group1",
            "group1",
            "group1",
            "group1",
            "group2",
            "group2",
            "group1",
            "group1",
            "group1",
            "group1",
            "group1",
            "group1",
            "group1",
            "group1",
            "group1",
            "group1",
            "group1",
            "group1",
            "group1",
            "group1",
            "group1",
            "group1",
            "group1",
            "group1",
            "group1",
            "group1",
            "group1",
            "group1",
            "group1",
            "group1",
            "group1",
            "group1",
            "group1",
            "group1",
            "group1",
            "group1",
            "group1",
            "group1",
            "group1",
            "group1",
            "group1",
            "group2",
            "group2",
            "group1",
            "group1",
            "group1",
            "group1",
            "group1",
            "group1",
            "group1",
            "group1",
            "group1",
            "group1",
            "group1",
            "group1",
            "group1",
            "group1",
            "group1",
            "group1",
            "group1",
            "group1",
            "group1",
            "group1",
            "group1",
            "group1",
            "group1",
            "group1",
            "group2",
            "group2",
            "group1",
            "group1",
            "group1",
            "group1",
            "group1",
            "group1",
            "group1",
            "group1",
            "group2",
            "group2",
            "group1",
            "group2",
            "group2",
            "group1",
            "group2",
            "group2",
            "group1",
            "group1"
           ],
           [
            "Indomie Mi Goreng Instant Noodles_Sugar",
            "Indomie Mi Goreng Instant Noodles_Sugar",
            "Golden Circle Drinks Sunshine Punch Fruit Drink_Sugar",
            "Woolworths Secret Burger Sauce_Sugar",
            "Woolworths Two Fruits In Tropical Jelly_Sugar",
            "Indomie Mi Goreng Instant Noodles_Wheat Flour",
            "Indomie Mi Goreng Instant Noodles_Wheat Flour",
            "Indomie Mi Goreng Instant Noodles_Refined Palm Oil",
            "Indomie Mi Goreng Instant Noodles_Refined Palm Oil",
            "Indomie Mi Goreng Instant Noodles_Salt",
            "Indomie Mi Goreng Instant Noodles_Salt",
            "Woolworths Secret Burger Sauce_Salt",
            "Indomie Mi Goreng Instant Noodles_Acidity Regulator 451",
            "Indomie Mi Goreng Instant Noodles_Acidity Regulator 451",
            "Indomie Mi Goreng Instant Noodles_Acidity Regulator 501",
            "Indomie Mi Goreng Instant Noodles_Acidity Regulator 501",
            "Indomie Mi Goreng Instant Noodles_Sodium Bicarbonate",
            "Indomie Mi Goreng Instant Noodles_Sodium Bicarbonate",
            "Indomie Mi Goreng Instant Noodles_Guar Gum",
            "Indomie Mi Goreng Instant Noodles_Guar Gum",
            "Indomie Mi Goreng Instant Noodles_Colour 101",
            "Indomie Mi Goreng Instant Noodles_Colour 101",
            "Indomie Mi Goreng Instant Noodles_Seasoning Powder",
            "Indomie Mi Goreng Instant Noodles_Seasoning Powder",
            "Indomie Mi Goreng Instant Noodles_Flavour Enhancer 621",
            "Indomie Mi Goreng Instant Noodles_Flavour Enhancer 621",
            "Indomie Mi Goreng Instant Noodles_Disodium Guanylate",
            "Indomie Mi Goreng Instant Noodles_Disodium Guanylate",
            "Indomie Mi Goreng Instant Noodles_Garlic Powder",
            "Indomie Mi Goreng Instant Noodles_Garlic Powder",
            "Indomie Mi Goreng Instant Noodles_Onion Powder",
            "Indomie Mi Goreng Instant Noodles_Onion Powder",
            "Woolworths Secret Burger Sauce_Onion Powder",
            "Indomie Mi Goreng Instant Noodles_Yeast Extract",
            "Indomie Mi Goreng Instant Noodles_Yeast Extract",
            "Indomie Mi Goreng Instant Noodles_Artificial Flavour",
            "Indomie Mi Goreng Instant Noodles_Artificial Flavour",
            "Indomie Mi Goreng Instant Noodles_Pepper",
            "Indomie Mi Goreng Instant Noodles_Pepper",
            "Indomie Mi Goreng Instant Noodles_Anti Caking Agent 551",
            "Indomie Mi Goreng Instant Noodles_Anti Caking Agent 551",
            "Indomie Mi Goreng Instant Noodles_Seasoning Oil",
            "Indomie Mi Goreng Instant Noodles_Seasoning Oil",
            "Indomie Mi Goreng Instant Noodles_Onion",
            "Indomie Mi Goreng Instant Noodles_Onion",
            "Indomie Mi Goreng Instant Noodles_Sweet Soy Sauce",
            "Indomie Mi Goreng Instant Noodles_Sweet Soy Sauce",
            "Indomie Mi Goreng Instant Noodles_Water",
            "Indomie Mi Goreng Instant Noodles_Water",
            "Golden Circle Drinks Sunshine Punch Fruit Drink_Water",
            "Woolworths Secret Burger Sauce_Water",
            "Woolworths Two Fruits In Juice Cups_Water",
            "Woolworths Two Fruits In Juice_Water",
            "Woolworths Two Fruits In Tropical Jelly_Water",
            "Indomie Mi Goreng Instant Noodles_Wheat",
            "Indomie Mi Goreng Instant Noodles_Wheat",
            "Indomie Mi Goreng Instant Noodles_Soy Bean",
            "Indomie Mi Goreng Instant Noodles_Soy Bean",
            "Indomie Mi Goreng Instant Noodles_Spices",
            "Indomie Mi Goreng Instant Noodles_Spices",
            "Indomie Mi Goreng Instant Noodles_Sesame Oil",
            "Indomie Mi Goreng Instant Noodles_Sesame Oil",
            "Indomie Mi Goreng Instant Noodles_Chilli Sauce",
            "Indomie Mi Goreng Instant Noodles_Chilli Sauce",
            "Indomie Mi Goreng Instant Noodles_Chilli",
            "Indomie Mi Goreng Instant Noodles_Chilli",
            "Indomie Mi Goreng Instant Noodles_Tapioca Starch",
            "Indomie Mi Goreng Instant Noodles_Tapioca Starch",
            "Indomie Mi Goreng Instant Noodles_Acetic Acid",
            "Indomie Mi Goreng Instant Noodles_Acetic Acid",
            "Indomie Mi Goreng Instant Noodles_Citric Acid",
            "Indomie Mi Goreng Instant Noodles_Citric Acid",
            "Indomie Mi Goreng Instant Noodles_Herbs",
            "Indomie Mi Goreng Instant Noodles_Herbs",
            "Indomie Mi Goreng Instant Noodles_Preservative 1211",
            "Indomie Mi Goreng Instant Noodles_Preservative 1211",
            "Indomie Mi Goreng Instant Noodles_Sodium Metabisulfite",
            "Indomie Mi Goreng Instant Noodles_Sodium Metabisulfite",
            "Indomie Mi Goreng Instant Noodles_Fried Onion",
            "Indomie Mi Goreng Instant Noodles_Fried Onion",
            "Indomie Mi Goreng Instant Noodles_TBHQ",
            "Indomie Mi Goreng Instant Noodles_TBHQ",
            "Indomie Mi Goreng Instant Noodles_Disodium Inosinate",
            "Indomie Mi Goreng Instant Noodles_Disodium Inosinate",
            "Golden Circle Drinks Sunshine Punch Fruit Drink_Citric Acid",
            "Golden Circle Drinks Sunshine Punch Fruit Drink_Natural Flavours",
            "Woolworths Secret Burger Sauce_Thickener 1422",
            "Woolworths Secret Burger Sauce_Citric Acid",
            "Woolworths Two Fruits In Juice Cups_Citric Acid",
            "Woolworths Two Fruits In Juice_Citric Acid",
            "Woolworths Two Fruits In Tropical Jelly_Citric Acid",
            "Golden Circle Drinks Sunshine Punch Fruit Drink_Vitamin C",
            "Golden Circle Drinks Sunshine Punch Fruit Drink_Reconstituted Apple Juice",
            "Golden Circle Drinks Sunshine Punch Fruit Drink_Reconstituted Fruit Juice Orange",
            "Golden Circle Drinks Sunshine Punch Fruit Drink_Reconstituted Fruit Juice Pineapple",
            "Golden Circle Drinks Sunshine Punch Fruit Drink_Reconstituted Fruit Juice Passionfruit",
            "Golden Circle Drinks Sunshine Punch Fruit Drink_Reconstituted Fruit Juice Pear",
            "Golden Circle Drinks Sunshine Punch Fruit Drink_Potassium Citrate",
            "Golden Circle Drinks Sunshine Punch Fruit Drink_Pectin",
            "Golden Circle Drinks Sunshine Punch Fruit Drink_Reconstituted Fruit Juice Water Extracted Orange",
            "Golden Circle Drinks Sunshine Punch Fruit Drink_Reconstituted Fruit Juice Peach Purée",
            "Woolworths Secret Burger Sauce_Canola Oil",
            "Woolworths Secret Burger Sauce_Vinegar",
            "Woolworths Secret Burger Sauce_Xanthan Gum",
            "Woolworths Secret Burger Sauce_Free Range Egg Yolk",
            "Woolworths Secret Burger Sauce_Gherkin",
            "Woolworths Secret Burger Sauce_Carotene",
            "Woolworths Two Fruits In Tropical Jelly_Carotene",
            "Woolworths Secret Burger Sauce_Paprika Oleoresins",
            "Woolworths Two Fruits In Tropical Jelly_Paprika Oleoresins",
            "Woolworths Secret Burger Sauce_Potassium Sorbate",
            "Woolworths Secret Burger Sauce_Dill",
            "Woolworths Secret Burger Sauce_Herb Extract",
            "Woolworths Secret Burger Sauce_Mustard Oil",
            "Woolworths Two Fruits In Juice Cups_Ascorbic Acid",
            "Woolworths Two Fruits In Juice_Ascorbic Acid",
            "Woolworths Two Fruits In Tropical Jelly_Ascorbic Acid",
            "Woolworths Two Fruits In Tropical Jelly_Carrageenan",
            "Woolworths Two Fruits In Tropical Jelly_Locust Bean Gum",
            "Woolworths Two Fruits In Tropical Jelly_Xanthan Gum",
            "Woolworths Two Fruits In Tropical Jelly_Sodium Citrate",
            "Woolworths Two Fruits In Tropical Jelly_Potassium Citrate",
            "Woolworths Two Fruits In Tropical Jelly_Calcium Lactate",
            "Woolworths Two Fruits In Tropical Jelly_Malic Acid",
            "Woolworths Two Fruits In Juice Cups_Fruit Peach",
            "Woolworths Two Fruits In Juice_Fruit Peach",
            "Woolworths Two Fruits In Tropical Jelly_Fruit Peach",
            "Woolworths Two Fruits In Juice Cups_Pear",
            "Woolworths Two Fruits In Juice_Pear",
            "Woolworths Two Fruits In Tropical Jelly_Pear",
            "Woolworths Two Fruits In Juice Cups_Reconstituted Refined Juice Concentrated Pear Juice",
            "Woolworths Two Fruits In Juice_Reconstituted Refined Juice Concentrated Pear Juice",
            "Woolworths Two Fruits In Tropical Jelly_Natural Flavour Pineapple",
            "Woolworths Two Fruits In Tropical Jelly_Natural Flavour Mango"
           ]
          ]
         },
         "header": {
          "values": [
           "Step",
           "Description",
           "Recipe",
           "Product",
           "Ingredient",
           "IngredientResearch",
           "Group",
           "CombinedGroup"
          ]
         },
         "type": "table"
        }
       ],
       "layout": {
        "template": {
         "data": {
          "bar": [
           {
            "error_x": {
             "color": "#2a3f5f"
            },
            "error_y": {
             "color": "#2a3f5f"
            },
            "marker": {
             "line": {
              "color": "#E5ECF6",
              "width": 0.5
             },
             "pattern": {
              "fillmode": "overlay",
              "size": 10,
              "solidity": 0.2
             }
            },
            "type": "bar"
           }
          ],
          "barpolar": [
           {
            "marker": {
             "line": {
              "color": "#E5ECF6",
              "width": 0.5
             },
             "pattern": {
              "fillmode": "overlay",
              "size": 10,
              "solidity": 0.2
             }
            },
            "type": "barpolar"
           }
          ],
          "carpet": [
           {
            "aaxis": {
             "endlinecolor": "#2a3f5f",
             "gridcolor": "white",
             "linecolor": "white",
             "minorgridcolor": "white",
             "startlinecolor": "#2a3f5f"
            },
            "baxis": {
             "endlinecolor": "#2a3f5f",
             "gridcolor": "white",
             "linecolor": "white",
             "minorgridcolor": "white",
             "startlinecolor": "#2a3f5f"
            },
            "type": "carpet"
           }
          ],
          "choropleth": [
           {
            "colorbar": {
             "outlinewidth": 0,
             "ticks": ""
            },
            "type": "choropleth"
           }
          ],
          "contour": [
           {
            "colorbar": {
             "outlinewidth": 0,
             "ticks": ""
            },
            "colorscale": [
             [
              0,
              "#0d0887"
             ],
             [
              0.1111111111111111,
              "#46039f"
             ],
             [
              0.2222222222222222,
              "#7201a8"
             ],
             [
              0.3333333333333333,
              "#9c179e"
             ],
             [
              0.4444444444444444,
              "#bd3786"
             ],
             [
              0.5555555555555556,
              "#d8576b"
             ],
             [
              0.6666666666666666,
              "#ed7953"
             ],
             [
              0.7777777777777778,
              "#fb9f3a"
             ],
             [
              0.8888888888888888,
              "#fdca26"
             ],
             [
              1,
              "#f0f921"
             ]
            ],
            "type": "contour"
           }
          ],
          "contourcarpet": [
           {
            "colorbar": {
             "outlinewidth": 0,
             "ticks": ""
            },
            "type": "contourcarpet"
           }
          ],
          "heatmap": [
           {
            "colorbar": {
             "outlinewidth": 0,
             "ticks": ""
            },
            "colorscale": [
             [
              0,
              "#0d0887"
             ],
             [
              0.1111111111111111,
              "#46039f"
             ],
             [
              0.2222222222222222,
              "#7201a8"
             ],
             [
              0.3333333333333333,
              "#9c179e"
             ],
             [
              0.4444444444444444,
              "#bd3786"
             ],
             [
              0.5555555555555556,
              "#d8576b"
             ],
             [
              0.6666666666666666,
              "#ed7953"
             ],
             [
              0.7777777777777778,
              "#fb9f3a"
             ],
             [
              0.8888888888888888,
              "#fdca26"
             ],
             [
              1,
              "#f0f921"
             ]
            ],
            "type": "heatmap"
           }
          ],
          "heatmapgl": [
           {
            "colorbar": {
             "outlinewidth": 0,
             "ticks": ""
            },
            "colorscale": [
             [
              0,
              "#0d0887"
             ],
             [
              0.1111111111111111,
              "#46039f"
             ],
             [
              0.2222222222222222,
              "#7201a8"
             ],
             [
              0.3333333333333333,
              "#9c179e"
             ],
             [
              0.4444444444444444,
              "#bd3786"
             ],
             [
              0.5555555555555556,
              "#d8576b"
             ],
             [
              0.6666666666666666,
              "#ed7953"
             ],
             [
              0.7777777777777778,
              "#fb9f3a"
             ],
             [
              0.8888888888888888,
              "#fdca26"
             ],
             [
              1,
              "#f0f921"
             ]
            ],
            "type": "heatmapgl"
           }
          ],
          "histogram": [
           {
            "marker": {
             "pattern": {
              "fillmode": "overlay",
              "size": 10,
              "solidity": 0.2
             }
            },
            "type": "histogram"
           }
          ],
          "histogram2d": [
           {
            "colorbar": {
             "outlinewidth": 0,
             "ticks": ""
            },
            "colorscale": [
             [
              0,
              "#0d0887"
             ],
             [
              0.1111111111111111,
              "#46039f"
             ],
             [
              0.2222222222222222,
              "#7201a8"
             ],
             [
              0.3333333333333333,
              "#9c179e"
             ],
             [
              0.4444444444444444,
              "#bd3786"
             ],
             [
              0.5555555555555556,
              "#d8576b"
             ],
             [
              0.6666666666666666,
              "#ed7953"
             ],
             [
              0.7777777777777778,
              "#fb9f3a"
             ],
             [
              0.8888888888888888,
              "#fdca26"
             ],
             [
              1,
              "#f0f921"
             ]
            ],
            "type": "histogram2d"
           }
          ],
          "histogram2dcontour": [
           {
            "colorbar": {
             "outlinewidth": 0,
             "ticks": ""
            },
            "colorscale": [
             [
              0,
              "#0d0887"
             ],
             [
              0.1111111111111111,
              "#46039f"
             ],
             [
              0.2222222222222222,
              "#7201a8"
             ],
             [
              0.3333333333333333,
              "#9c179e"
             ],
             [
              0.4444444444444444,
              "#bd3786"
             ],
             [
              0.5555555555555556,
              "#d8576b"
             ],
             [
              0.6666666666666666,
              "#ed7953"
             ],
             [
              0.7777777777777778,
              "#fb9f3a"
             ],
             [
              0.8888888888888888,
              "#fdca26"
             ],
             [
              1,
              "#f0f921"
             ]
            ],
            "type": "histogram2dcontour"
           }
          ],
          "mesh3d": [
           {
            "colorbar": {
             "outlinewidth": 0,
             "ticks": ""
            },
            "type": "mesh3d"
           }
          ],
          "parcoords": [
           {
            "line": {
             "colorbar": {
              "outlinewidth": 0,
              "ticks": ""
             }
            },
            "type": "parcoords"
           }
          ],
          "pie": [
           {
            "automargin": true,
            "type": "pie"
           }
          ],
          "scatter": [
           {
            "fillpattern": {
             "fillmode": "overlay",
             "size": 10,
             "solidity": 0.2
            },
            "type": "scatter"
           }
          ],
          "scatter3d": [
           {
            "line": {
             "colorbar": {
              "outlinewidth": 0,
              "ticks": ""
             }
            },
            "marker": {
             "colorbar": {
              "outlinewidth": 0,
              "ticks": ""
             }
            },
            "type": "scatter3d"
           }
          ],
          "scattercarpet": [
           {
            "marker": {
             "colorbar": {
              "outlinewidth": 0,
              "ticks": ""
             }
            },
            "type": "scattercarpet"
           }
          ],
          "scattergeo": [
           {
            "marker": {
             "colorbar": {
              "outlinewidth": 0,
              "ticks": ""
             }
            },
            "type": "scattergeo"
           }
          ],
          "scattergl": [
           {
            "marker": {
             "colorbar": {
              "outlinewidth": 0,
              "ticks": ""
             }
            },
            "type": "scattergl"
           }
          ],
          "scattermapbox": [
           {
            "marker": {
             "colorbar": {
              "outlinewidth": 0,
              "ticks": ""
             }
            },
            "type": "scattermapbox"
           }
          ],
          "scatterpolar": [
           {
            "marker": {
             "colorbar": {
              "outlinewidth": 0,
              "ticks": ""
             }
            },
            "type": "scatterpolar"
           }
          ],
          "scatterpolargl": [
           {
            "marker": {
             "colorbar": {
              "outlinewidth": 0,
              "ticks": ""
             }
            },
            "type": "scatterpolargl"
           }
          ],
          "scatterternary": [
           {
            "marker": {
             "colorbar": {
              "outlinewidth": 0,
              "ticks": ""
             }
            },
            "type": "scatterternary"
           }
          ],
          "surface": [
           {
            "colorbar": {
             "outlinewidth": 0,
             "ticks": ""
            },
            "colorscale": [
             [
              0,
              "#0d0887"
             ],
             [
              0.1111111111111111,
              "#46039f"
             ],
             [
              0.2222222222222222,
              "#7201a8"
             ],
             [
              0.3333333333333333,
              "#9c179e"
             ],
             [
              0.4444444444444444,
              "#bd3786"
             ],
             [
              0.5555555555555556,
              "#d8576b"
             ],
             [
              0.6666666666666666,
              "#ed7953"
             ],
             [
              0.7777777777777778,
              "#fb9f3a"
             ],
             [
              0.8888888888888888,
              "#fdca26"
             ],
             [
              1,
              "#f0f921"
             ]
            ],
            "type": "surface"
           }
          ],
          "table": [
           {
            "cells": {
             "fill": {
              "color": "#EBF0F8"
             },
             "line": {
              "color": "white"
             }
            },
            "header": {
             "fill": {
              "color": "#C8D4E3"
             },
             "line": {
              "color": "white"
             }
            },
            "type": "table"
           }
          ]
         },
         "layout": {
          "annotationdefaults": {
           "arrowcolor": "#2a3f5f",
           "arrowhead": 0,
           "arrowwidth": 1
          },
          "autotypenumbers": "strict",
          "coloraxis": {
           "colorbar": {
            "outlinewidth": 0,
            "ticks": ""
           }
          },
          "colorscale": {
           "diverging": [
            [
             0,
             "#8e0152"
            ],
            [
             0.1,
             "#c51b7d"
            ],
            [
             0.2,
             "#de77ae"
            ],
            [
             0.3,
             "#f1b6da"
            ],
            [
             0.4,
             "#fde0ef"
            ],
            [
             0.5,
             "#f7f7f7"
            ],
            [
             0.6,
             "#e6f5d0"
            ],
            [
             0.7,
             "#b8e186"
            ],
            [
             0.8,
             "#7fbc41"
            ],
            [
             0.9,
             "#4d9221"
            ],
            [
             1,
             "#276419"
            ]
           ],
           "sequential": [
            [
             0,
             "#0d0887"
            ],
            [
             0.1111111111111111,
             "#46039f"
            ],
            [
             0.2222222222222222,
             "#7201a8"
            ],
            [
             0.3333333333333333,
             "#9c179e"
            ],
            [
             0.4444444444444444,
             "#bd3786"
            ],
            [
             0.5555555555555556,
             "#d8576b"
            ],
            [
             0.6666666666666666,
             "#ed7953"
            ],
            [
             0.7777777777777778,
             "#fb9f3a"
            ],
            [
             0.8888888888888888,
             "#fdca26"
            ],
            [
             1,
             "#f0f921"
            ]
           ],
           "sequentialminus": [
            [
             0,
             "#0d0887"
            ],
            [
             0.1111111111111111,
             "#46039f"
            ],
            [
             0.2222222222222222,
             "#7201a8"
            ],
            [
             0.3333333333333333,
             "#9c179e"
            ],
            [
             0.4444444444444444,
             "#bd3786"
            ],
            [
             0.5555555555555556,
             "#d8576b"
            ],
            [
             0.6666666666666666,
             "#ed7953"
            ],
            [
             0.7777777777777778,
             "#fb9f3a"
            ],
            [
             0.8888888888888888,
             "#fdca26"
            ],
            [
             1,
             "#f0f921"
            ]
           ]
          },
          "colorway": [
           "#636efa",
           "#EF553B",
           "#00cc96",
           "#ab63fa",
           "#FFA15A",
           "#19d3f3",
           "#FF6692",
           "#B6E880",
           "#FF97FF",
           "#FECB52"
          ],
          "font": {
           "color": "#2a3f5f"
          },
          "geo": {
           "bgcolor": "white",
           "lakecolor": "white",
           "landcolor": "#E5ECF6",
           "showlakes": true,
           "showland": true,
           "subunitcolor": "white"
          },
          "hoverlabel": {
           "align": "left"
          },
          "hovermode": "closest",
          "mapbox": {
           "style": "light"
          },
          "paper_bgcolor": "white",
          "plot_bgcolor": "#E5ECF6",
          "polar": {
           "angularaxis": {
            "gridcolor": "white",
            "linecolor": "white",
            "ticks": ""
           },
           "bgcolor": "#E5ECF6",
           "radialaxis": {
            "gridcolor": "white",
            "linecolor": "white",
            "ticks": ""
           }
          },
          "scene": {
           "xaxis": {
            "backgroundcolor": "#E5ECF6",
            "gridcolor": "white",
            "gridwidth": 2,
            "linecolor": "white",
            "showbackground": true,
            "ticks": "",
            "zerolinecolor": "white"
           },
           "yaxis": {
            "backgroundcolor": "#E5ECF6",
            "gridcolor": "white",
            "gridwidth": 2,
            "linecolor": "white",
            "showbackground": true,
            "ticks": "",
            "zerolinecolor": "white"
           },
           "zaxis": {
            "backgroundcolor": "#E5ECF6",
            "gridcolor": "white",
            "gridwidth": 2,
            "linecolor": "white",
            "showbackground": true,
            "ticks": "",
            "zerolinecolor": "white"
           }
          },
          "shapedefaults": {
           "line": {
            "color": "#2a3f5f"
           }
          },
          "ternary": {
           "aaxis": {
            "gridcolor": "white",
            "linecolor": "white",
            "ticks": ""
           },
           "baxis": {
            "gridcolor": "white",
            "linecolor": "white",
            "ticks": ""
           },
           "bgcolor": "#E5ECF6",
           "caxis": {
            "gridcolor": "white",
            "linecolor": "white",
            "ticks": ""
           }
          },
          "title": {
           "x": 0.05
          },
          "xaxis": {
           "automargin": true,
           "gridcolor": "white",
           "linecolor": "white",
           "ticks": "",
           "title": {
            "standoff": 15
           },
           "zerolinecolor": "white",
           "zerolinewidth": 2
          },
          "yaxis": {
           "automargin": true,
           "gridcolor": "white",
           "linecolor": "white",
           "ticks": "",
           "title": {
            "standoff": 15
           },
           "zerolinecolor": "white",
           "zerolinewidth": 2
          }
         }
        },
        "title": {
         "text": "ManufacturingProcess Grouped by Keyword and Product-Ingredient Combinations"
        }
       }
      }
     },
     "metadata": {},
     "output_type": "display_data"
    }
   ],
   "source": [
    "import pandas as pd\n",
    "import plotly.graph_objects as go\n",
    "\n",
    "query = \"\"\"\n",
    "MATCH (r:Recipe)-[:HAS_MANUFACTURING_PROCESS]->(mp:ManufacturingProcess)\n",
    "MATCH (p:Product)-[:HAS_RECIPE]->(r)\n",
    "MATCH (r)-[:USES_INGREDIENT]->(i:Ingredient)\n",
    "MATCH (i)-[:HAS_RESEARCH]->(z:IngredientResearch)\n",
    "RETURN mp.Step AS ManufacturingProcessStep, \n",
    "       mp.Description AS ManufacturingProcessDescription,\n",
    "       r.ingredients_orig AS Recipe, \n",
    "       p.name AS Product,\n",
    "       i.name AS Ingredient,\n",
    "       z.ingredient_name AS IngredientResearch\n",
    "\"\"\"\n",
    "\n",
    "# Retrieve data from Neo4j\n",
    "with driver.session() as session:\n",
    "    result = session.run(query)\n",
    "    neo4j_data = [record.data() for record in result]\n",
    "\n",
    "# Create DataFrame from neo4j_data\n",
    "df = pd.DataFrame(neo4j_data)\n",
    "\n",
    "# Define keyword groups\n",
    "keyword_groups = {\n",
    "    'group1': ['water', 'sugar'],\n",
    "    'group2': ['water', 'and']\n",
    "}\n",
    "\n",
    "# Function to check if a description contains all keywords in a group\n",
    "def check_keywords(description, keywords):\n",
    "    return all(kw.lower() in str(description).lower() for kw in keywords) if pd.notnull(description) else False\n",
    "\n",
    "# Create a function to assign group\n",
    "def assign_group(description):\n",
    "    for group_name, keywords in keyword_groups.items():\n",
    "        if check_keywords(description, keywords):\n",
    "            return group_name\n",
    "    return None\n",
    "\n",
    "# Apply the function to create the Group column\n",
    "df['Group'] = df['ManufacturingProcessDescription'].apply(assign_group)\n",
    "\n",
    "# Create a function to assign combined group based on Product, Ingredient, and Description\n",
    "def assign_combined_group(row):\n",
    "    return f\"{row['Product']}_{row['IngredientResearch']}\" if pd.notnull(row['Product']) and pd.notnull(row['IngredientResearch']) else None\n",
    "\n",
    "# Apply the function to create the CombinedGroup column\n",
    "df['CombinedGroup'] = df.apply(assign_combined_group, axis=1)\n",
    "\n",
    "# Filter rows that belong to any group\n",
    "filtered_df = df.dropna(subset=['Group', 'CombinedGroup'])\n",
    "\n",
    "# create the Plotly table\n",
    "fig_data = [go.Table(\n",
    "    header=dict(values=['Step', 'Description','Recipe', 'Product', 'Ingredient','IngredientResearch', 'Group', 'CombinedGroup']),\n",
    "    cells=dict(values=[filtered_df['ManufacturingProcessStep'], \n",
    "                       filtered_df['ManufacturingProcessDescription'], \n",
    "                       filtered_df['Recipe'], \n",
    "                       filtered_df['Product'],\n",
    "                       filtered_df['Ingredient'],\n",
    "                       filtered_df['IngredientResearch'], \n",
    "                       filtered_df['Group'],\n",
    "                       filtered_df['CombinedGroup']])\n",
    ")]\n",
    "\n",
    "# set up layout\n",
    "fig_layout = go.Layout(\n",
    "    title='ManufacturingProcess Grouped by Keyword and Product-Ingredient Combinations'\n",
    ")\n",
    "\n",
    "fig = go.Figure(data=fig_data, layout=fig_layout)\n",
    "fig.show()\n"
   ]
  },
  {
   "cell_type": "code",
   "execution_count": 11,
   "metadata": {},
   "outputs": [
    {
     "name": "stderr",
     "output_type": "stream",
     "text": [
      "c:\\Users\\apple\\anaconda3\\lib\\site-packages\\spacy\\util.py:910: UserWarning:\n",
      "\n",
      "[W095] Model 'en_core_web_sm' (3.5.0) was trained with spaCy v3.5.0 and may not be 100% compatible with the current version (3.7.2). If you see errors or degraded performance, download a newer compatible model or retrain your custom model with the current spaCy version. For more details and available updates, run: python -m spacy validate\n",
      "\n"
     ]
    },
    {
     "name": "stdout",
     "output_type": "stream",
     "text": [
      "     ManufacturingProcessStep  \\\n",
      "24                     Step 6   \n",
      "25                     Step 7   \n",
      "76                     Step 2   \n",
      "100                    Step 1   \n",
      "116                    Step 1   \n",
      "...                       ...   \n",
      "2042                   Step 1   \n",
      "2064                   Step 1   \n",
      "2082                   Step 1   \n",
      "2103                   Step 1   \n",
      "2108                   Step 1   \n",
      "\n",
      "                        ManufacturingProcessDescription  \\\n",
      "24    Step 6: The sweet soy sauce is made by mixing ...   \n",
      "25    Step 7: The chilli sauce is made by mixing chi...   \n",
      "76    Step 2: Combining the fruit juices and purées ...   \n",
      "100   Step 1: Canola oil, water, sugar, and vinegar ...   \n",
      "116   Step 1: Preparation of Jelly - Water, sugar, a...   \n",
      "...                                                 ...   \n",
      "2042  Step 1: Preparation of Jelly - Water, sugar, a...   \n",
      "2064  Step 1: Preparation of Jelly - Water, sugar, a...   \n",
      "2082  Step 1: Preparation of Jelly - Water, sugar, a...   \n",
      "2103  Step 1: Preparation of Jelly - Water, sugar, a...   \n",
      "2108  Step 1: Preparation of Jelly - Water, sugar, a...   \n",
      "\n",
      "                                                 Recipe  \n",
      "24    Noodles: Wheat Flour (62%), Refined Palm Oil (...  \n",
      "25    Noodles: Wheat Flour (62%), Refined Palm Oil (...  \n",
      "76    Water, Reconstituted Fruit Juice (25%) (Apple ...  \n",
      "100   Canola Oil, Water, Sugar, Vinegar, Thickener (...  \n",
      "116   Jelly (70%) (Water, Sugar, Gelling Agents (Car...  \n",
      "...                                                 ...  \n",
      "2042  Jelly (70%) (Water, Sugar, Gelling Agents (Car...  \n",
      "2064  Jelly (70%) (Water, Sugar, Gelling Agents (Car...  \n",
      "2082  Jelly (70%) (Water, Sugar, Gelling Agents (Car...  \n",
      "2103  Jelly (70%) (Water, Sugar, Gelling Agents (Car...  \n",
      "2108  Jelly (70%) (Water, Sugar, Gelling Agents (Car...  \n",
      "\n",
      "[122 rows x 3 columns]\n"
     ]
    }
   ],
   "source": [
    "import pandas as pd\n",
    "import spacy\n",
    "\n",
    "# Load spaCy English model\n",
    "nlp = spacy.load('en_core_web_sm')\n",
    "\n",
    "\n",
    "keyword_groups = [['water', 'sugar']]\n",
    "\n",
    "# Defining Filter Functions\n",
    "def filter_descriptions(description):\n",
    "    if pd.notnull(description):\n",
    "        doc = nlp(str(description).lower())\n",
    "        tokens = [token.text for token in doc]\n",
    "        for group in keyword_groups:\n",
    "            if all(word in tokens for word in group):\n",
    "                return True\n",
    "    return False\n",
    "\n",
    "# Filtered Data Framework\n",
    "filtered_df = df[df['ManufacturingProcessDescription'].apply(filter_descriptions)]\n",
    "print(filtered_df[['ManufacturingProcessStep', 'ManufacturingProcessDescription', 'Recipe']])"
   ]
  },
  {
   "cell_type": "code",
   "execution_count": 17,
   "metadata": {},
   "outputs": [
    {
     "name": "stderr",
     "output_type": "stream",
     "text": [
      "[nltk_data] Downloading package stopwords to\n",
      "[nltk_data]     C:\\Users\\apple\\AppData\\Roaming\\nltk_data...\n",
      "[nltk_data]   Package stopwords is already up-to-date!\n",
      "[nltk_data] Downloading package punkt to\n",
      "[nltk_data]     C:\\Users\\apple\\AppData\\Roaming\\nltk_data...\n",
      "[nltk_data]   Unzipping tokenizers\\punkt.zip.\n"
     ]
    },
    {
     "name": "stdout",
     "output_type": "stream",
     "text": [
      "[{'ManufacturingProcessStep': 'Step 6', 'ManufacturingProcessDescription': 'Step 6: The sweet soy sauce is made by mixing sugar, water, salt, wheat, soy bean, spices, and sesame oil.', 'Recipe': 'Noodles: Wheat Flour (62%), Refined Palm Oil (Contains Antioxidant 319), Salt, Acidity Regulators (451, 501, 500), Thickener (412), Colour (101).<br>Seasoning Powder: Salt, Sugar, Flavour Enhancers (621, 631, 627), Garlic Powder, Onion Powder, Yeast Extract, Artificial Flavour, Pepper, Anti Caking Agent (551).<br>Seasoning Oil: Refined Palm Oil (Contains Antioxidant 319), Onion.<br>Sweet Soy Sauce: Sugar, Water, Salt, Wheat, Soy Bean, Spices, Sesame Oil.<br>Chilli Sauce: Chilli, Water, Sugar, Salt, Tapioca Starch, Acidity Regulators (260, 330), Herbs, Flavour Enhancers (621, 627, 631), Flavours, Preservatives 1211, 223). Fried Onion: Onion, Refined Palm Oil (Contains Antioxidant 319).'}, {'ManufacturingProcessStep': 'Step 7', 'ManufacturingProcessDescription': 'Step 7: The chilli sauce is made by mixing chilli, water, sugar, salt, tapioca starch, acidity regulators, herbs, flavour enhancers, flavours, and preservatives.', 'Recipe': 'Noodles: Wheat Flour (62%), Refined Palm Oil (Contains Antioxidant 319), Salt, Acidity Regulators (451, 501, 500), Thickener (412), Colour (101).<br>Seasoning Powder: Salt, Sugar, Flavour Enhancers (621, 631, 627), Garlic Powder, Onion Powder, Yeast Extract, Artificial Flavour, Pepper, Anti Caking Agent (551).<br>Seasoning Oil: Refined Palm Oil (Contains Antioxidant 319), Onion.<br>Sweet Soy Sauce: Sugar, Water, Salt, Wheat, Soy Bean, Spices, Sesame Oil.<br>Chilli Sauce: Chilli, Water, Sugar, Salt, Tapioca Starch, Acidity Regulators (260, 330), Herbs, Flavour Enhancers (621, 627, 631), Flavours, Preservatives 1211, 223). Fried Onion: Onion, Refined Palm Oil (Contains Antioxidant 319).'}, {'ManufacturingProcessStep': 'Step 2', 'ManufacturingProcessDescription': 'Step 2: Combining the fruit juices and purées with water, sugar, food acids, vitamin C, natural flavors, and pectin.', 'Recipe': 'Water, Reconstituted Fruit Juice (25%) (Apple or Pear, Pineapple, Orange or Water Extracted Orange, Peach Purée, Passionfruit), Sugar, Food Acids (Citric Acid, Potassium Citrate), Vitamin C, Natural Flavours, Stabiliser (Pectin).'}, {'ManufacturingProcessStep': 'Step 1', 'ManufacturingProcessDescription': 'Step 1: Canola oil, water, sugar, and vinegar are mixed together in a large vat.', 'Recipe': 'Canola Oil, Water, Sugar, Vinegar, Thickener (1422, Xanthan Gum), Free Range Egg Yolk,  Gherkin, Salt, Onion Powder, Natural Colour (Carotene, Paprika Oleoresins), Preservative (Potassium Sorbate), Dill, Acidity Regulator (Citric Acid), Herb Extract, Mustard Oil.'}, {'ManufacturingProcessStep': 'Step 1', 'ManufacturingProcessDescription': 'Step 1: Preparation of Jelly - Water, sugar, and gelling agents are combined and heated to dissolve the sugar and activate the gelling agents.', 'Recipe': 'Jelly (70%) (Water, Sugar, Gelling Agents (Carrageenan, Locust Bean Gum, Xanthan Gum), Acidity Regulators (Sodium Citrates, Potassium Citrates, Calcium Lactate, Malic Acid, Citric Acid), Natural Flavours (Pineapple, Mango), Natural Colours (Carotene, Paprika Oleoresins), Antioxidant (Ascorbic Acid)), Peach (15%), Pear (15%)'}, {'ManufacturingProcessStep': 'Step 6', 'ManufacturingProcessDescription': 'Step 6: The sweet soy sauce is made by mixing sugar, water, salt, wheat, soy bean, spices, and sesame oil.', 'Recipe': 'Noodles: Wheat Flour (62%), Refined Palm Oil (Contains Antioxidant 319), Salt, Acidity Regulators (451, 501, 500), Thickener (412), Colour (101).<br>Seasoning Powder: Salt, Sugar, Flavour Enhancers (621, 631, 627), Garlic Powder, Onion Powder, Yeast Extract, Artificial Flavour, Pepper, Anti Caking Agent (551).<br>Seasoning Oil: Refined Palm Oil (Contains Antioxidant 319), Onion.<br>Sweet Soy Sauce: Sugar, Water, Salt, Wheat, Soy Bean, Spices, Sesame Oil.<br>Chilli Sauce: Chilli, Water, Sugar, Salt, Tapioca Starch, Acidity Regulators (260, 330), Herbs, Flavour Enhancers (621, 627, 631), Flavours, Preservatives 1211, 223). Fried Onion: Onion, Refined Palm Oil (Contains Antioxidant 319).'}, {'ManufacturingProcessStep': 'Step 7', 'ManufacturingProcessDescription': 'Step 7: The chilli sauce is made by mixing chilli, water, sugar, salt, tapioca starch, acidity regulators, herbs, flavour enhancers, flavours, and preservatives.', 'Recipe': 'Noodles: Wheat Flour (62%), Refined Palm Oil (Contains Antioxidant 319), Salt, Acidity Regulators (451, 501, 500), Thickener (412), Colour (101).<br>Seasoning Powder: Salt, Sugar, Flavour Enhancers (621, 631, 627), Garlic Powder, Onion Powder, Yeast Extract, Artificial Flavour, Pepper, Anti Caking Agent (551).<br>Seasoning Oil: Refined Palm Oil (Contains Antioxidant 319), Onion.<br>Sweet Soy Sauce: Sugar, Water, Salt, Wheat, Soy Bean, Spices, Sesame Oil.<br>Chilli Sauce: Chilli, Water, Sugar, Salt, Tapioca Starch, Acidity Regulators (260, 330), Herbs, Flavour Enhancers (621, 627, 631), Flavours, Preservatives 1211, 223). Fried Onion: Onion, Refined Palm Oil (Contains Antioxidant 319).'}, {'ManufacturingProcessStep': 'Step 6', 'ManufacturingProcessDescription': 'Step 6: The sweet soy sauce is made by mixing sugar, water, salt, wheat, soy bean, spices, and sesame oil.', 'Recipe': 'Noodles: Wheat Flour (62%), Refined Palm Oil (Contains Antioxidant 319), Salt, Acidity Regulators (451, 501, 500), Thickener (412), Colour (101).<br>Seasoning Powder: Salt, Sugar, Flavour Enhancers (621, 631, 627), Garlic Powder, Onion Powder, Yeast Extract, Artificial Flavour, Pepper, Anti Caking Agent (551).<br>Seasoning Oil: Refined Palm Oil (Contains Antioxidant 319), Onion.<br>Sweet Soy Sauce: Sugar, Water, Salt, Wheat, Soy Bean, Spices, Sesame Oil.<br>Chilli Sauce: Chilli, Water, Sugar, Salt, Tapioca Starch, Acidity Regulators (260, 330), Herbs, Flavour Enhancers (621, 627, 631), Flavours, Preservatives 1211, 223). Fried Onion: Onion, Refined Palm Oil (Contains Antioxidant 319).'}, {'ManufacturingProcessStep': 'Step 7', 'ManufacturingProcessDescription': 'Step 7: The chilli sauce is made by mixing chilli, water, sugar, salt, tapioca starch, acidity regulators, herbs, flavour enhancers, flavours, and preservatives.', 'Recipe': 'Noodles: Wheat Flour (62%), Refined Palm Oil (Contains Antioxidant 319), Salt, Acidity Regulators (451, 501, 500), Thickener (412), Colour (101).<br>Seasoning Powder: Salt, Sugar, Flavour Enhancers (621, 631, 627), Garlic Powder, Onion Powder, Yeast Extract, Artificial Flavour, Pepper, Anti Caking Agent (551).<br>Seasoning Oil: Refined Palm Oil (Contains Antioxidant 319), Onion.<br>Sweet Soy Sauce: Sugar, Water, Salt, Wheat, Soy Bean, Spices, Sesame Oil.<br>Chilli Sauce: Chilli, Water, Sugar, Salt, Tapioca Starch, Acidity Regulators (260, 330), Herbs, Flavour Enhancers (621, 627, 631), Flavours, Preservatives 1211, 223). Fried Onion: Onion, Refined Palm Oil (Contains Antioxidant 319).'}, {'ManufacturingProcessStep': 'Step 6', 'ManufacturingProcessDescription': 'Step 6: The sweet soy sauce is made by mixing sugar, water, salt, wheat, soy bean, spices, and sesame oil.', 'Recipe': 'Noodles: Wheat Flour (62%), Refined Palm Oil (Contains Antioxidant 319), Salt, Acidity Regulators (451, 501, 500), Thickener (412), Colour (101).<br>Seasoning Powder: Salt, Sugar, Flavour Enhancers (621, 631, 627), Garlic Powder, Onion Powder, Yeast Extract, Artificial Flavour, Pepper, Anti Caking Agent (551).<br>Seasoning Oil: Refined Palm Oil (Contains Antioxidant 319), Onion.<br>Sweet Soy Sauce: Sugar, Water, Salt, Wheat, Soy Bean, Spices, Sesame Oil.<br>Chilli Sauce: Chilli, Water, Sugar, Salt, Tapioca Starch, Acidity Regulators (260, 330), Herbs, Flavour Enhancers (621, 627, 631), Flavours, Preservatives 1211, 223). Fried Onion: Onion, Refined Palm Oil (Contains Antioxidant 319).'}, {'ManufacturingProcessStep': 'Step 7', 'ManufacturingProcessDescription': 'Step 7: The chilli sauce is made by mixing chilli, water, sugar, salt, tapioca starch, acidity regulators, herbs, flavour enhancers, flavours, and preservatives.', 'Recipe': 'Noodles: Wheat Flour (62%), Refined Palm Oil (Contains Antioxidant 319), Salt, Acidity Regulators (451, 501, 500), Thickener (412), Colour (101).<br>Seasoning Powder: Salt, Sugar, Flavour Enhancers (621, 631, 627), Garlic Powder, Onion Powder, Yeast Extract, Artificial Flavour, Pepper, Anti Caking Agent (551).<br>Seasoning Oil: Refined Palm Oil (Contains Antioxidant 319), Onion.<br>Sweet Soy Sauce: Sugar, Water, Salt, Wheat, Soy Bean, Spices, Sesame Oil.<br>Chilli Sauce: Chilli, Water, Sugar, Salt, Tapioca Starch, Acidity Regulators (260, 330), Herbs, Flavour Enhancers (621, 627, 631), Flavours, Preservatives 1211, 223). Fried Onion: Onion, Refined Palm Oil (Contains Antioxidant 319).'}, {'ManufacturingProcessStep': 'Step 1', 'ManufacturingProcessDescription': 'Step 1: Canola oil, water, sugar, and vinegar are mixed together in a large vat.', 'Recipe': 'Canola Oil, Water, Sugar, Vinegar, Thickener (1422, Xanthan Gum), Free Range Egg Yolk,  Gherkin, Salt, Onion Powder, Natural Colour (Carotene, Paprika Oleoresins), Preservative (Potassium Sorbate), Dill, Acidity Regulator (Citric Acid), Herb Extract, Mustard Oil.'}, {'ManufacturingProcessStep': 'Step 6', 'ManufacturingProcessDescription': 'Step 6: The sweet soy sauce is made by mixing sugar, water, salt, wheat, soy bean, spices, and sesame oil.', 'Recipe': 'Noodles: Wheat Flour (62%), Refined Palm Oil (Contains Antioxidant 319), Salt, Acidity Regulators (451, 501, 500), Thickener (412), Colour (101).<br>Seasoning Powder: Salt, Sugar, Flavour Enhancers (621, 631, 627), Garlic Powder, Onion Powder, Yeast Extract, Artificial Flavour, Pepper, Anti Caking Agent (551).<br>Seasoning Oil: Refined Palm Oil (Contains Antioxidant 319), Onion.<br>Sweet Soy Sauce: Sugar, Water, Salt, Wheat, Soy Bean, Spices, Sesame Oil.<br>Chilli Sauce: Chilli, Water, Sugar, Salt, Tapioca Starch, Acidity Regulators (260, 330), Herbs, Flavour Enhancers (621, 627, 631), Flavours, Preservatives 1211, 223). Fried Onion: Onion, Refined Palm Oil (Contains Antioxidant 319).'}, {'ManufacturingProcessStep': 'Step 7', 'ManufacturingProcessDescription': 'Step 7: The chilli sauce is made by mixing chilli, water, sugar, salt, tapioca starch, acidity regulators, herbs, flavour enhancers, flavours, and preservatives.', 'Recipe': 'Noodles: Wheat Flour (62%), Refined Palm Oil (Contains Antioxidant 319), Salt, Acidity Regulators (451, 501, 500), Thickener (412), Colour (101).<br>Seasoning Powder: Salt, Sugar, Flavour Enhancers (621, 631, 627), Garlic Powder, Onion Powder, Yeast Extract, Artificial Flavour, Pepper, Anti Caking Agent (551).<br>Seasoning Oil: Refined Palm Oil (Contains Antioxidant 319), Onion.<br>Sweet Soy Sauce: Sugar, Water, Salt, Wheat, Soy Bean, Spices, Sesame Oil.<br>Chilli Sauce: Chilli, Water, Sugar, Salt, Tapioca Starch, Acidity Regulators (260, 330), Herbs, Flavour Enhancers (621, 627, 631), Flavours, Preservatives 1211, 223). Fried Onion: Onion, Refined Palm Oil (Contains Antioxidant 319).'}, {'ManufacturingProcessStep': 'Step 6', 'ManufacturingProcessDescription': 'Step 6: The sweet soy sauce is made by mixing sugar, water, salt, wheat, soy bean, spices, and sesame oil.', 'Recipe': 'Noodles: Wheat Flour (62%), Refined Palm Oil (Contains Antioxidant 319), Salt, Acidity Regulators (451, 501, 500), Thickener (412), Colour (101).<br>Seasoning Powder: Salt, Sugar, Flavour Enhancers (621, 631, 627), Garlic Powder, Onion Powder, Yeast Extract, Artificial Flavour, Pepper, Anti Caking Agent (551).<br>Seasoning Oil: Refined Palm Oil (Contains Antioxidant 319), Onion.<br>Sweet Soy Sauce: Sugar, Water, Salt, Wheat, Soy Bean, Spices, Sesame Oil.<br>Chilli Sauce: Chilli, Water, Sugar, Salt, Tapioca Starch, Acidity Regulators (260, 330), Herbs, Flavour Enhancers (621, 627, 631), Flavours, Preservatives 1211, 223). Fried Onion: Onion, Refined Palm Oil (Contains Antioxidant 319).'}, {'ManufacturingProcessStep': 'Step 7', 'ManufacturingProcessDescription': 'Step 7: The chilli sauce is made by mixing chilli, water, sugar, salt, tapioca starch, acidity regulators, herbs, flavour enhancers, flavours, and preservatives.', 'Recipe': 'Noodles: Wheat Flour (62%), Refined Palm Oil (Contains Antioxidant 319), Salt, Acidity Regulators (451, 501, 500), Thickener (412), Colour (101).<br>Seasoning Powder: Salt, Sugar, Flavour Enhancers (621, 631, 627), Garlic Powder, Onion Powder, Yeast Extract, Artificial Flavour, Pepper, Anti Caking Agent (551).<br>Seasoning Oil: Refined Palm Oil (Contains Antioxidant 319), Onion.<br>Sweet Soy Sauce: Sugar, Water, Salt, Wheat, Soy Bean, Spices, Sesame Oil.<br>Chilli Sauce: Chilli, Water, Sugar, Salt, Tapioca Starch, Acidity Regulators (260, 330), Herbs, Flavour Enhancers (621, 627, 631), Flavours, Preservatives 1211, 223). Fried Onion: Onion, Refined Palm Oil (Contains Antioxidant 319).'}, {'ManufacturingProcessStep': 'Step 6', 'ManufacturingProcessDescription': 'Step 6: The sweet soy sauce is made by mixing sugar, water, salt, wheat, soy bean, spices, and sesame oil.', 'Recipe': 'Noodles: Wheat Flour (62%), Refined Palm Oil (Contains Antioxidant 319), Salt, Acidity Regulators (451, 501, 500), Thickener (412), Colour (101).<br>Seasoning Powder: Salt, Sugar, Flavour Enhancers (621, 631, 627), Garlic Powder, Onion Powder, Yeast Extract, Artificial Flavour, Pepper, Anti Caking Agent (551).<br>Seasoning Oil: Refined Palm Oil (Contains Antioxidant 319), Onion.<br>Sweet Soy Sauce: Sugar, Water, Salt, Wheat, Soy Bean, Spices, Sesame Oil.<br>Chilli Sauce: Chilli, Water, Sugar, Salt, Tapioca Starch, Acidity Regulators (260, 330), Herbs, Flavour Enhancers (621, 627, 631), Flavours, Preservatives 1211, 223). Fried Onion: Onion, Refined Palm Oil (Contains Antioxidant 319).'}, {'ManufacturingProcessStep': 'Step 7', 'ManufacturingProcessDescription': 'Step 7: The chilli sauce is made by mixing chilli, water, sugar, salt, tapioca starch, acidity regulators, herbs, flavour enhancers, flavours, and preservatives.', 'Recipe': 'Noodles: Wheat Flour (62%), Refined Palm Oil (Contains Antioxidant 319), Salt, Acidity Regulators (451, 501, 500), Thickener (412), Colour (101).<br>Seasoning Powder: Salt, Sugar, Flavour Enhancers (621, 631, 627), Garlic Powder, Onion Powder, Yeast Extract, Artificial Flavour, Pepper, Anti Caking Agent (551).<br>Seasoning Oil: Refined Palm Oil (Contains Antioxidant 319), Onion.<br>Sweet Soy Sauce: Sugar, Water, Salt, Wheat, Soy Bean, Spices, Sesame Oil.<br>Chilli Sauce: Chilli, Water, Sugar, Salt, Tapioca Starch, Acidity Regulators (260, 330), Herbs, Flavour Enhancers (621, 627, 631), Flavours, Preservatives 1211, 223). Fried Onion: Onion, Refined Palm Oil (Contains Antioxidant 319).'}, {'ManufacturingProcessStep': 'Step 6', 'ManufacturingProcessDescription': 'Step 6: The sweet soy sauce is made by mixing sugar, water, salt, wheat, soy bean, spices, and sesame oil.', 'Recipe': 'Noodles: Wheat Flour (62%), Refined Palm Oil (Contains Antioxidant 319), Salt, Acidity Regulators (451, 501, 500), Thickener (412), Colour (101).<br>Seasoning Powder: Salt, Sugar, Flavour Enhancers (621, 631, 627), Garlic Powder, Onion Powder, Yeast Extract, Artificial Flavour, Pepper, Anti Caking Agent (551).<br>Seasoning Oil: Refined Palm Oil (Contains Antioxidant 319), Onion.<br>Sweet Soy Sauce: Sugar, Water, Salt, Wheat, Soy Bean, Spices, Sesame Oil.<br>Chilli Sauce: Chilli, Water, Sugar, Salt, Tapioca Starch, Acidity Regulators (260, 330), Herbs, Flavour Enhancers (621, 627, 631), Flavours, Preservatives 1211, 223). Fried Onion: Onion, Refined Palm Oil (Contains Antioxidant 319).'}, {'ManufacturingProcessStep': 'Step 7', 'ManufacturingProcessDescription': 'Step 7: The chilli sauce is made by mixing chilli, water, sugar, salt, tapioca starch, acidity regulators, herbs, flavour enhancers, flavours, and preservatives.', 'Recipe': 'Noodles: Wheat Flour (62%), Refined Palm Oil (Contains Antioxidant 319), Salt, Acidity Regulators (451, 501, 500), Thickener (412), Colour (101).<br>Seasoning Powder: Salt, Sugar, Flavour Enhancers (621, 631, 627), Garlic Powder, Onion Powder, Yeast Extract, Artificial Flavour, Pepper, Anti Caking Agent (551).<br>Seasoning Oil: Refined Palm Oil (Contains Antioxidant 319), Onion.<br>Sweet Soy Sauce: Sugar, Water, Salt, Wheat, Soy Bean, Spices, Sesame Oil.<br>Chilli Sauce: Chilli, Water, Sugar, Salt, Tapioca Starch, Acidity Regulators (260, 330), Herbs, Flavour Enhancers (621, 627, 631), Flavours, Preservatives 1211, 223). Fried Onion: Onion, Refined Palm Oil (Contains Antioxidant 319).'}, {'ManufacturingProcessStep': 'Step 6', 'ManufacturingProcessDescription': 'Step 6: The sweet soy sauce is made by mixing sugar, water, salt, wheat, soy bean, spices, and sesame oil.', 'Recipe': 'Noodles: Wheat Flour (62%), Refined Palm Oil (Contains Antioxidant 319), Salt, Acidity Regulators (451, 501, 500), Thickener (412), Colour (101).<br>Seasoning Powder: Salt, Sugar, Flavour Enhancers (621, 631, 627), Garlic Powder, Onion Powder, Yeast Extract, Artificial Flavour, Pepper, Anti Caking Agent (551).<br>Seasoning Oil: Refined Palm Oil (Contains Antioxidant 319), Onion.<br>Sweet Soy Sauce: Sugar, Water, Salt, Wheat, Soy Bean, Spices, Sesame Oil.<br>Chilli Sauce: Chilli, Water, Sugar, Salt, Tapioca Starch, Acidity Regulators (260, 330), Herbs, Flavour Enhancers (621, 627, 631), Flavours, Preservatives 1211, 223). Fried Onion: Onion, Refined Palm Oil (Contains Antioxidant 319).'}, {'ManufacturingProcessStep': 'Step 7', 'ManufacturingProcessDescription': 'Step 7: The chilli sauce is made by mixing chilli, water, sugar, salt, tapioca starch, acidity regulators, herbs, flavour enhancers, flavours, and preservatives.', 'Recipe': 'Noodles: Wheat Flour (62%), Refined Palm Oil (Contains Antioxidant 319), Salt, Acidity Regulators (451, 501, 500), Thickener (412), Colour (101).<br>Seasoning Powder: Salt, Sugar, Flavour Enhancers (621, 631, 627), Garlic Powder, Onion Powder, Yeast Extract, Artificial Flavour, Pepper, Anti Caking Agent (551).<br>Seasoning Oil: Refined Palm Oil (Contains Antioxidant 319), Onion.<br>Sweet Soy Sauce: Sugar, Water, Salt, Wheat, Soy Bean, Spices, Sesame Oil.<br>Chilli Sauce: Chilli, Water, Sugar, Salt, Tapioca Starch, Acidity Regulators (260, 330), Herbs, Flavour Enhancers (621, 627, 631), Flavours, Preservatives 1211, 223). Fried Onion: Onion, Refined Palm Oil (Contains Antioxidant 319).'}, {'ManufacturingProcessStep': 'Step 6', 'ManufacturingProcessDescription': 'Step 6: The sweet soy sauce is made by mixing sugar, water, salt, wheat, soy bean, spices, and sesame oil.', 'Recipe': 'Noodles: Wheat Flour (62%), Refined Palm Oil (Contains Antioxidant 319), Salt, Acidity Regulators (451, 501, 500), Thickener (412), Colour (101).<br>Seasoning Powder: Salt, Sugar, Flavour Enhancers (621, 631, 627), Garlic Powder, Onion Powder, Yeast Extract, Artificial Flavour, Pepper, Anti Caking Agent (551).<br>Seasoning Oil: Refined Palm Oil (Contains Antioxidant 319), Onion.<br>Sweet Soy Sauce: Sugar, Water, Salt, Wheat, Soy Bean, Spices, Sesame Oil.<br>Chilli Sauce: Chilli, Water, Sugar, Salt, Tapioca Starch, Acidity Regulators (260, 330), Herbs, Flavour Enhancers (621, 627, 631), Flavours, Preservatives 1211, 223). Fried Onion: Onion, Refined Palm Oil (Contains Antioxidant 319).'}, {'ManufacturingProcessStep': 'Step 7', 'ManufacturingProcessDescription': 'Step 7: The chilli sauce is made by mixing chilli, water, sugar, salt, tapioca starch, acidity regulators, herbs, flavour enhancers, flavours, and preservatives.', 'Recipe': 'Noodles: Wheat Flour (62%), Refined Palm Oil (Contains Antioxidant 319), Salt, Acidity Regulators (451, 501, 500), Thickener (412), Colour (101).<br>Seasoning Powder: Salt, Sugar, Flavour Enhancers (621, 631, 627), Garlic Powder, Onion Powder, Yeast Extract, Artificial Flavour, Pepper, Anti Caking Agent (551).<br>Seasoning Oil: Refined Palm Oil (Contains Antioxidant 319), Onion.<br>Sweet Soy Sauce: Sugar, Water, Salt, Wheat, Soy Bean, Spices, Sesame Oil.<br>Chilli Sauce: Chilli, Water, Sugar, Salt, Tapioca Starch, Acidity Regulators (260, 330), Herbs, Flavour Enhancers (621, 627, 631), Flavours, Preservatives 1211, 223). Fried Onion: Onion, Refined Palm Oil (Contains Antioxidant 319).'}, {'ManufacturingProcessStep': 'Step 6', 'ManufacturingProcessDescription': 'Step 6: The sweet soy sauce is made by mixing sugar, water, salt, wheat, soy bean, spices, and sesame oil.', 'Recipe': 'Noodles: Wheat Flour (62%), Refined Palm Oil (Contains Antioxidant 319), Salt, Acidity Regulators (451, 501, 500), Thickener (412), Colour (101).<br>Seasoning Powder: Salt, Sugar, Flavour Enhancers (621, 631, 627), Garlic Powder, Onion Powder, Yeast Extract, Artificial Flavour, Pepper, Anti Caking Agent (551).<br>Seasoning Oil: Refined Palm Oil (Contains Antioxidant 319), Onion.<br>Sweet Soy Sauce: Sugar, Water, Salt, Wheat, Soy Bean, Spices, Sesame Oil.<br>Chilli Sauce: Chilli, Water, Sugar, Salt, Tapioca Starch, Acidity Regulators (260, 330), Herbs, Flavour Enhancers (621, 627, 631), Flavours, Preservatives 1211, 223). Fried Onion: Onion, Refined Palm Oil (Contains Antioxidant 319).'}, {'ManufacturingProcessStep': 'Step 7', 'ManufacturingProcessDescription': 'Step 7: The chilli sauce is made by mixing chilli, water, sugar, salt, tapioca starch, acidity regulators, herbs, flavour enhancers, flavours, and preservatives.', 'Recipe': 'Noodles: Wheat Flour (62%), Refined Palm Oil (Contains Antioxidant 319), Salt, Acidity Regulators (451, 501, 500), Thickener (412), Colour (101).<br>Seasoning Powder: Salt, Sugar, Flavour Enhancers (621, 631, 627), Garlic Powder, Onion Powder, Yeast Extract, Artificial Flavour, Pepper, Anti Caking Agent (551).<br>Seasoning Oil: Refined Palm Oil (Contains Antioxidant 319), Onion.<br>Sweet Soy Sauce: Sugar, Water, Salt, Wheat, Soy Bean, Spices, Sesame Oil.<br>Chilli Sauce: Chilli, Water, Sugar, Salt, Tapioca Starch, Acidity Regulators (260, 330), Herbs, Flavour Enhancers (621, 627, 631), Flavours, Preservatives 1211, 223). Fried Onion: Onion, Refined Palm Oil (Contains Antioxidant 319).'}, {'ManufacturingProcessStep': 'Step 6', 'ManufacturingProcessDescription': 'Step 6: The sweet soy sauce is made by mixing sugar, water, salt, wheat, soy bean, spices, and sesame oil.', 'Recipe': 'Noodles: Wheat Flour (62%), Refined Palm Oil (Contains Antioxidant 319), Salt, Acidity Regulators (451, 501, 500), Thickener (412), Colour (101).<br>Seasoning Powder: Salt, Sugar, Flavour Enhancers (621, 631, 627), Garlic Powder, Onion Powder, Yeast Extract, Artificial Flavour, Pepper, Anti Caking Agent (551).<br>Seasoning Oil: Refined Palm Oil (Contains Antioxidant 319), Onion.<br>Sweet Soy Sauce: Sugar, Water, Salt, Wheat, Soy Bean, Spices, Sesame Oil.<br>Chilli Sauce: Chilli, Water, Sugar, Salt, Tapioca Starch, Acidity Regulators (260, 330), Herbs, Flavour Enhancers (621, 627, 631), Flavours, Preservatives 1211, 223). Fried Onion: Onion, Refined Palm Oil (Contains Antioxidant 319).'}, {'ManufacturingProcessStep': 'Step 7', 'ManufacturingProcessDescription': 'Step 7: The chilli sauce is made by mixing chilli, water, sugar, salt, tapioca starch, acidity regulators, herbs, flavour enhancers, flavours, and preservatives.', 'Recipe': 'Noodles: Wheat Flour (62%), Refined Palm Oil (Contains Antioxidant 319), Salt, Acidity Regulators (451, 501, 500), Thickener (412), Colour (101).<br>Seasoning Powder: Salt, Sugar, Flavour Enhancers (621, 631, 627), Garlic Powder, Onion Powder, Yeast Extract, Artificial Flavour, Pepper, Anti Caking Agent (551).<br>Seasoning Oil: Refined Palm Oil (Contains Antioxidant 319), Onion.<br>Sweet Soy Sauce: Sugar, Water, Salt, Wheat, Soy Bean, Spices, Sesame Oil.<br>Chilli Sauce: Chilli, Water, Sugar, Salt, Tapioca Starch, Acidity Regulators (260, 330), Herbs, Flavour Enhancers (621, 627, 631), Flavours, Preservatives 1211, 223). Fried Onion: Onion, Refined Palm Oil (Contains Antioxidant 319).'}, {'ManufacturingProcessStep': 'Step 6', 'ManufacturingProcessDescription': 'Step 6: The sweet soy sauce is made by mixing sugar, water, salt, wheat, soy bean, spices, and sesame oil.', 'Recipe': 'Noodles: Wheat Flour (62%), Refined Palm Oil (Contains Antioxidant 319), Salt, Acidity Regulators (451, 501, 500), Thickener (412), Colour (101).<br>Seasoning Powder: Salt, Sugar, Flavour Enhancers (621, 631, 627), Garlic Powder, Onion Powder, Yeast Extract, Artificial Flavour, Pepper, Anti Caking Agent (551).<br>Seasoning Oil: Refined Palm Oil (Contains Antioxidant 319), Onion.<br>Sweet Soy Sauce: Sugar, Water, Salt, Wheat, Soy Bean, Spices, Sesame Oil.<br>Chilli Sauce: Chilli, Water, Sugar, Salt, Tapioca Starch, Acidity Regulators (260, 330), Herbs, Flavour Enhancers (621, 627, 631), Flavours, Preservatives 1211, 223). Fried Onion: Onion, Refined Palm Oil (Contains Antioxidant 319).'}, {'ManufacturingProcessStep': 'Step 7', 'ManufacturingProcessDescription': 'Step 7: The chilli sauce is made by mixing chilli, water, sugar, salt, tapioca starch, acidity regulators, herbs, flavour enhancers, flavours, and preservatives.', 'Recipe': 'Noodles: Wheat Flour (62%), Refined Palm Oil (Contains Antioxidant 319), Salt, Acidity Regulators (451, 501, 500), Thickener (412), Colour (101).<br>Seasoning Powder: Salt, Sugar, Flavour Enhancers (621, 631, 627), Garlic Powder, Onion Powder, Yeast Extract, Artificial Flavour, Pepper, Anti Caking Agent (551).<br>Seasoning Oil: Refined Palm Oil (Contains Antioxidant 319), Onion.<br>Sweet Soy Sauce: Sugar, Water, Salt, Wheat, Soy Bean, Spices, Sesame Oil.<br>Chilli Sauce: Chilli, Water, Sugar, Salt, Tapioca Starch, Acidity Regulators (260, 330), Herbs, Flavour Enhancers (621, 627, 631), Flavours, Preservatives 1211, 223). Fried Onion: Onion, Refined Palm Oil (Contains Antioxidant 319).'}, {'ManufacturingProcessStep': 'Step 6', 'ManufacturingProcessDescription': 'Step 6: The sweet soy sauce is made by mixing sugar, water, salt, wheat, soy bean, spices, and sesame oil.', 'Recipe': 'Noodles: Wheat Flour (62%), Refined Palm Oil (Contains Antioxidant 319), Salt, Acidity Regulators (451, 501, 500), Thickener (412), Colour (101).<br>Seasoning Powder: Salt, Sugar, Flavour Enhancers (621, 631, 627), Garlic Powder, Onion Powder, Yeast Extract, Artificial Flavour, Pepper, Anti Caking Agent (551).<br>Seasoning Oil: Refined Palm Oil (Contains Antioxidant 319), Onion.<br>Sweet Soy Sauce: Sugar, Water, Salt, Wheat, Soy Bean, Spices, Sesame Oil.<br>Chilli Sauce: Chilli, Water, Sugar, Salt, Tapioca Starch, Acidity Regulators (260, 330), Herbs, Flavour Enhancers (621, 627, 631), Flavours, Preservatives 1211, 223). Fried Onion: Onion, Refined Palm Oil (Contains Antioxidant 319).'}, {'ManufacturingProcessStep': 'Step 7', 'ManufacturingProcessDescription': 'Step 7: The chilli sauce is made by mixing chilli, water, sugar, salt, tapioca starch, acidity regulators, herbs, flavour enhancers, flavours, and preservatives.', 'Recipe': 'Noodles: Wheat Flour (62%), Refined Palm Oil (Contains Antioxidant 319), Salt, Acidity Regulators (451, 501, 500), Thickener (412), Colour (101).<br>Seasoning Powder: Salt, Sugar, Flavour Enhancers (621, 631, 627), Garlic Powder, Onion Powder, Yeast Extract, Artificial Flavour, Pepper, Anti Caking Agent (551).<br>Seasoning Oil: Refined Palm Oil (Contains Antioxidant 319), Onion.<br>Sweet Soy Sauce: Sugar, Water, Salt, Wheat, Soy Bean, Spices, Sesame Oil.<br>Chilli Sauce: Chilli, Water, Sugar, Salt, Tapioca Starch, Acidity Regulators (260, 330), Herbs, Flavour Enhancers (621, 627, 631), Flavours, Preservatives 1211, 223). Fried Onion: Onion, Refined Palm Oil (Contains Antioxidant 319).'}, {'ManufacturingProcessStep': 'Step 1', 'ManufacturingProcessDescription': 'Step 1: Canola oil, water, sugar, and vinegar are mixed together in a large vat.', 'Recipe': 'Canola Oil, Water, Sugar, Vinegar, Thickener (1422, Xanthan Gum), Free Range Egg Yolk,  Gherkin, Salt, Onion Powder, Natural Colour (Carotene, Paprika Oleoresins), Preservative (Potassium Sorbate), Dill, Acidity Regulator (Citric Acid), Herb Extract, Mustard Oil.'}, {'ManufacturingProcessStep': 'Step 6', 'ManufacturingProcessDescription': 'Step 6: The sweet soy sauce is made by mixing sugar, water, salt, wheat, soy bean, spices, and sesame oil.', 'Recipe': 'Noodles: Wheat Flour (62%), Refined Palm Oil (Contains Antioxidant 319), Salt, Acidity Regulators (451, 501, 500), Thickener (412), Colour (101).<br>Seasoning Powder: Salt, Sugar, Flavour Enhancers (621, 631, 627), Garlic Powder, Onion Powder, Yeast Extract, Artificial Flavour, Pepper, Anti Caking Agent (551).<br>Seasoning Oil: Refined Palm Oil (Contains Antioxidant 319), Onion.<br>Sweet Soy Sauce: Sugar, Water, Salt, Wheat, Soy Bean, Spices, Sesame Oil.<br>Chilli Sauce: Chilli, Water, Sugar, Salt, Tapioca Starch, Acidity Regulators (260, 330), Herbs, Flavour Enhancers (621, 627, 631), Flavours, Preservatives 1211, 223). Fried Onion: Onion, Refined Palm Oil (Contains Antioxidant 319).'}, {'ManufacturingProcessStep': 'Step 7', 'ManufacturingProcessDescription': 'Step 7: The chilli sauce is made by mixing chilli, water, sugar, salt, tapioca starch, acidity regulators, herbs, flavour enhancers, flavours, and preservatives.', 'Recipe': 'Noodles: Wheat Flour (62%), Refined Palm Oil (Contains Antioxidant 319), Salt, Acidity Regulators (451, 501, 500), Thickener (412), Colour (101).<br>Seasoning Powder: Salt, Sugar, Flavour Enhancers (621, 631, 627), Garlic Powder, Onion Powder, Yeast Extract, Artificial Flavour, Pepper, Anti Caking Agent (551).<br>Seasoning Oil: Refined Palm Oil (Contains Antioxidant 319), Onion.<br>Sweet Soy Sauce: Sugar, Water, Salt, Wheat, Soy Bean, Spices, Sesame Oil.<br>Chilli Sauce: Chilli, Water, Sugar, Salt, Tapioca Starch, Acidity Regulators (260, 330), Herbs, Flavour Enhancers (621, 627, 631), Flavours, Preservatives 1211, 223). Fried Onion: Onion, Refined Palm Oil (Contains Antioxidant 319).'}, {'ManufacturingProcessStep': 'Step 6', 'ManufacturingProcessDescription': 'Step 6: The sweet soy sauce is made by mixing sugar, water, salt, wheat, soy bean, spices, and sesame oil.', 'Recipe': 'Noodles: Wheat Flour (62%), Refined Palm Oil (Contains Antioxidant 319), Salt, Acidity Regulators (451, 501, 500), Thickener (412), Colour (101).<br>Seasoning Powder: Salt, Sugar, Flavour Enhancers (621, 631, 627), Garlic Powder, Onion Powder, Yeast Extract, Artificial Flavour, Pepper, Anti Caking Agent (551).<br>Seasoning Oil: Refined Palm Oil (Contains Antioxidant 319), Onion.<br>Sweet Soy Sauce: Sugar, Water, Salt, Wheat, Soy Bean, Spices, Sesame Oil.<br>Chilli Sauce: Chilli, Water, Sugar, Salt, Tapioca Starch, Acidity Regulators (260, 330), Herbs, Flavour Enhancers (621, 627, 631), Flavours, Preservatives 1211, 223). Fried Onion: Onion, Refined Palm Oil (Contains Antioxidant 319).'}, {'ManufacturingProcessStep': 'Step 7', 'ManufacturingProcessDescription': 'Step 7: The chilli sauce is made by mixing chilli, water, sugar, salt, tapioca starch, acidity regulators, herbs, flavour enhancers, flavours, and preservatives.', 'Recipe': 'Noodles: Wheat Flour (62%), Refined Palm Oil (Contains Antioxidant 319), Salt, Acidity Regulators (451, 501, 500), Thickener (412), Colour (101).<br>Seasoning Powder: Salt, Sugar, Flavour Enhancers (621, 631, 627), Garlic Powder, Onion Powder, Yeast Extract, Artificial Flavour, Pepper, Anti Caking Agent (551).<br>Seasoning Oil: Refined Palm Oil (Contains Antioxidant 319), Onion.<br>Sweet Soy Sauce: Sugar, Water, Salt, Wheat, Soy Bean, Spices, Sesame Oil.<br>Chilli Sauce: Chilli, Water, Sugar, Salt, Tapioca Starch, Acidity Regulators (260, 330), Herbs, Flavour Enhancers (621, 627, 631), Flavours, Preservatives 1211, 223). Fried Onion: Onion, Refined Palm Oil (Contains Antioxidant 319).'}, {'ManufacturingProcessStep': 'Step 6', 'ManufacturingProcessDescription': 'Step 6: The sweet soy sauce is made by mixing sugar, water, salt, wheat, soy bean, spices, and sesame oil.', 'Recipe': 'Noodles: Wheat Flour (62%), Refined Palm Oil (Contains Antioxidant 319), Salt, Acidity Regulators (451, 501, 500), Thickener (412), Colour (101).<br>Seasoning Powder: Salt, Sugar, Flavour Enhancers (621, 631, 627), Garlic Powder, Onion Powder, Yeast Extract, Artificial Flavour, Pepper, Anti Caking Agent (551).<br>Seasoning Oil: Refined Palm Oil (Contains Antioxidant 319), Onion.<br>Sweet Soy Sauce: Sugar, Water, Salt, Wheat, Soy Bean, Spices, Sesame Oil.<br>Chilli Sauce: Chilli, Water, Sugar, Salt, Tapioca Starch, Acidity Regulators (260, 330), Herbs, Flavour Enhancers (621, 627, 631), Flavours, Preservatives 1211, 223). Fried Onion: Onion, Refined Palm Oil (Contains Antioxidant 319).'}, {'ManufacturingProcessStep': 'Step 7', 'ManufacturingProcessDescription': 'Step 7: The chilli sauce is made by mixing chilli, water, sugar, salt, tapioca starch, acidity regulators, herbs, flavour enhancers, flavours, and preservatives.', 'Recipe': 'Noodles: Wheat Flour (62%), Refined Palm Oil (Contains Antioxidant 319), Salt, Acidity Regulators (451, 501, 500), Thickener (412), Colour (101).<br>Seasoning Powder: Salt, Sugar, Flavour Enhancers (621, 631, 627), Garlic Powder, Onion Powder, Yeast Extract, Artificial Flavour, Pepper, Anti Caking Agent (551).<br>Seasoning Oil: Refined Palm Oil (Contains Antioxidant 319), Onion.<br>Sweet Soy Sauce: Sugar, Water, Salt, Wheat, Soy Bean, Spices, Sesame Oil.<br>Chilli Sauce: Chilli, Water, Sugar, Salt, Tapioca Starch, Acidity Regulators (260, 330), Herbs, Flavour Enhancers (621, 627, 631), Flavours, Preservatives 1211, 223). Fried Onion: Onion, Refined Palm Oil (Contains Antioxidant 319).'}, {'ManufacturingProcessStep': 'Step 6', 'ManufacturingProcessDescription': 'Step 6: The sweet soy sauce is made by mixing sugar, water, salt, wheat, soy bean, spices, and sesame oil.', 'Recipe': 'Noodles: Wheat Flour (62%), Refined Palm Oil (Contains Antioxidant 319), Salt, Acidity Regulators (451, 501, 500), Thickener (412), Colour (101).<br>Seasoning Powder: Salt, Sugar, Flavour Enhancers (621, 631, 627), Garlic Powder, Onion Powder, Yeast Extract, Artificial Flavour, Pepper, Anti Caking Agent (551).<br>Seasoning Oil: Refined Palm Oil (Contains Antioxidant 319), Onion.<br>Sweet Soy Sauce: Sugar, Water, Salt, Wheat, Soy Bean, Spices, Sesame Oil.<br>Chilli Sauce: Chilli, Water, Sugar, Salt, Tapioca Starch, Acidity Regulators (260, 330), Herbs, Flavour Enhancers (621, 627, 631), Flavours, Preservatives 1211, 223). Fried Onion: Onion, Refined Palm Oil (Contains Antioxidant 319).'}, {'ManufacturingProcessStep': 'Step 7', 'ManufacturingProcessDescription': 'Step 7: The chilli sauce is made by mixing chilli, water, sugar, salt, tapioca starch, acidity regulators, herbs, flavour enhancers, flavours, and preservatives.', 'Recipe': 'Noodles: Wheat Flour (62%), Refined Palm Oil (Contains Antioxidant 319), Salt, Acidity Regulators (451, 501, 500), Thickener (412), Colour (101).<br>Seasoning Powder: Salt, Sugar, Flavour Enhancers (621, 631, 627), Garlic Powder, Onion Powder, Yeast Extract, Artificial Flavour, Pepper, Anti Caking Agent (551).<br>Seasoning Oil: Refined Palm Oil (Contains Antioxidant 319), Onion.<br>Sweet Soy Sauce: Sugar, Water, Salt, Wheat, Soy Bean, Spices, Sesame Oil.<br>Chilli Sauce: Chilli, Water, Sugar, Salt, Tapioca Starch, Acidity Regulators (260, 330), Herbs, Flavour Enhancers (621, 627, 631), Flavours, Preservatives 1211, 223). Fried Onion: Onion, Refined Palm Oil (Contains Antioxidant 319).'}, {'ManufacturingProcessStep': 'Step 6', 'ManufacturingProcessDescription': 'Step 6: The sweet soy sauce is made by mixing sugar, water, salt, wheat, soy bean, spices, and sesame oil.', 'Recipe': 'Noodles: Wheat Flour (62%), Refined Palm Oil (Contains Antioxidant 319), Salt, Acidity Regulators (451, 501, 500), Thickener (412), Colour (101).<br>Seasoning Powder: Salt, Sugar, Flavour Enhancers (621, 631, 627), Garlic Powder, Onion Powder, Yeast Extract, Artificial Flavour, Pepper, Anti Caking Agent (551).<br>Seasoning Oil: Refined Palm Oil (Contains Antioxidant 319), Onion.<br>Sweet Soy Sauce: Sugar, Water, Salt, Wheat, Soy Bean, Spices, Sesame Oil.<br>Chilli Sauce: Chilli, Water, Sugar, Salt, Tapioca Starch, Acidity Regulators (260, 330), Herbs, Flavour Enhancers (621, 627, 631), Flavours, Preservatives 1211, 223). Fried Onion: Onion, Refined Palm Oil (Contains Antioxidant 319).'}, {'ManufacturingProcessStep': 'Step 7', 'ManufacturingProcessDescription': 'Step 7: The chilli sauce is made by mixing chilli, water, sugar, salt, tapioca starch, acidity regulators, herbs, flavour enhancers, flavours, and preservatives.', 'Recipe': 'Noodles: Wheat Flour (62%), Refined Palm Oil (Contains Antioxidant 319), Salt, Acidity Regulators (451, 501, 500), Thickener (412), Colour (101).<br>Seasoning Powder: Salt, Sugar, Flavour Enhancers (621, 631, 627), Garlic Powder, Onion Powder, Yeast Extract, Artificial Flavour, Pepper, Anti Caking Agent (551).<br>Seasoning Oil: Refined Palm Oil (Contains Antioxidant 319), Onion.<br>Sweet Soy Sauce: Sugar, Water, Salt, Wheat, Soy Bean, Spices, Sesame Oil.<br>Chilli Sauce: Chilli, Water, Sugar, Salt, Tapioca Starch, Acidity Regulators (260, 330), Herbs, Flavour Enhancers (621, 627, 631), Flavours, Preservatives 1211, 223). Fried Onion: Onion, Refined Palm Oil (Contains Antioxidant 319).'}, {'ManufacturingProcessStep': 'Step 6', 'ManufacturingProcessDescription': 'Step 6: The sweet soy sauce is made by mixing sugar, water, salt, wheat, soy bean, spices, and sesame oil.', 'Recipe': 'Noodles: Wheat Flour (62%), Refined Palm Oil (Contains Antioxidant 319), Salt, Acidity Regulators (451, 501, 500), Thickener (412), Colour (101).<br>Seasoning Powder: Salt, Sugar, Flavour Enhancers (621, 631, 627), Garlic Powder, Onion Powder, Yeast Extract, Artificial Flavour, Pepper, Anti Caking Agent (551).<br>Seasoning Oil: Refined Palm Oil (Contains Antioxidant 319), Onion.<br>Sweet Soy Sauce: Sugar, Water, Salt, Wheat, Soy Bean, Spices, Sesame Oil.<br>Chilli Sauce: Chilli, Water, Sugar, Salt, Tapioca Starch, Acidity Regulators (260, 330), Herbs, Flavour Enhancers (621, 627, 631), Flavours, Preservatives 1211, 223). Fried Onion: Onion, Refined Palm Oil (Contains Antioxidant 319).'}, {'ManufacturingProcessStep': 'Step 7', 'ManufacturingProcessDescription': 'Step 7: The chilli sauce is made by mixing chilli, water, sugar, salt, tapioca starch, acidity regulators, herbs, flavour enhancers, flavours, and preservatives.', 'Recipe': 'Noodles: Wheat Flour (62%), Refined Palm Oil (Contains Antioxidant 319), Salt, Acidity Regulators (451, 501, 500), Thickener (412), Colour (101).<br>Seasoning Powder: Salt, Sugar, Flavour Enhancers (621, 631, 627), Garlic Powder, Onion Powder, Yeast Extract, Artificial Flavour, Pepper, Anti Caking Agent (551).<br>Seasoning Oil: Refined Palm Oil (Contains Antioxidant 319), Onion.<br>Sweet Soy Sauce: Sugar, Water, Salt, Wheat, Soy Bean, Spices, Sesame Oil.<br>Chilli Sauce: Chilli, Water, Sugar, Salt, Tapioca Starch, Acidity Regulators (260, 330), Herbs, Flavour Enhancers (621, 627, 631), Flavours, Preservatives 1211, 223). Fried Onion: Onion, Refined Palm Oil (Contains Antioxidant 319).'}, {'ManufacturingProcessStep': 'Step 6', 'ManufacturingProcessDescription': 'Step 6: The sweet soy sauce is made by mixing sugar, water, salt, wheat, soy bean, spices, and sesame oil.', 'Recipe': 'Noodles: Wheat Flour (62%), Refined Palm Oil (Contains Antioxidant 319), Salt, Acidity Regulators (451, 501, 500), Thickener (412), Colour (101).<br>Seasoning Powder: Salt, Sugar, Flavour Enhancers (621, 631, 627), Garlic Powder, Onion Powder, Yeast Extract, Artificial Flavour, Pepper, Anti Caking Agent (551).<br>Seasoning Oil: Refined Palm Oil (Contains Antioxidant 319), Onion.<br>Sweet Soy Sauce: Sugar, Water, Salt, Wheat, Soy Bean, Spices, Sesame Oil.<br>Chilli Sauce: Chilli, Water, Sugar, Salt, Tapioca Starch, Acidity Regulators (260, 330), Herbs, Flavour Enhancers (621, 627, 631), Flavours, Preservatives 1211, 223). Fried Onion: Onion, Refined Palm Oil (Contains Antioxidant 319).'}, {'ManufacturingProcessStep': 'Step 7', 'ManufacturingProcessDescription': 'Step 7: The chilli sauce is made by mixing chilli, water, sugar, salt, tapioca starch, acidity regulators, herbs, flavour enhancers, flavours, and preservatives.', 'Recipe': 'Noodles: Wheat Flour (62%), Refined Palm Oil (Contains Antioxidant 319), Salt, Acidity Regulators (451, 501, 500), Thickener (412), Colour (101).<br>Seasoning Powder: Salt, Sugar, Flavour Enhancers (621, 631, 627), Garlic Powder, Onion Powder, Yeast Extract, Artificial Flavour, Pepper, Anti Caking Agent (551).<br>Seasoning Oil: Refined Palm Oil (Contains Antioxidant 319), Onion.<br>Sweet Soy Sauce: Sugar, Water, Salt, Wheat, Soy Bean, Spices, Sesame Oil.<br>Chilli Sauce: Chilli, Water, Sugar, Salt, Tapioca Starch, Acidity Regulators (260, 330), Herbs, Flavour Enhancers (621, 627, 631), Flavours, Preservatives 1211, 223). Fried Onion: Onion, Refined Palm Oil (Contains Antioxidant 319).'}, {'ManufacturingProcessStep': 'Step 6', 'ManufacturingProcessDescription': 'Step 6: The sweet soy sauce is made by mixing sugar, water, salt, wheat, soy bean, spices, and sesame oil.', 'Recipe': 'Noodles: Wheat Flour (62%), Refined Palm Oil (Contains Antioxidant 319), Salt, Acidity Regulators (451, 501, 500), Thickener (412), Colour (101).<br>Seasoning Powder: Salt, Sugar, Flavour Enhancers (621, 631, 627), Garlic Powder, Onion Powder, Yeast Extract, Artificial Flavour, Pepper, Anti Caking Agent (551).<br>Seasoning Oil: Refined Palm Oil (Contains Antioxidant 319), Onion.<br>Sweet Soy Sauce: Sugar, Water, Salt, Wheat, Soy Bean, Spices, Sesame Oil.<br>Chilli Sauce: Chilli, Water, Sugar, Salt, Tapioca Starch, Acidity Regulators (260, 330), Herbs, Flavour Enhancers (621, 627, 631), Flavours, Preservatives 1211, 223). Fried Onion: Onion, Refined Palm Oil (Contains Antioxidant 319).'}, {'ManufacturingProcessStep': 'Step 7', 'ManufacturingProcessDescription': 'Step 7: The chilli sauce is made by mixing chilli, water, sugar, salt, tapioca starch, acidity regulators, herbs, flavour enhancers, flavours, and preservatives.', 'Recipe': 'Noodles: Wheat Flour (62%), Refined Palm Oil (Contains Antioxidant 319), Salt, Acidity Regulators (451, 501, 500), Thickener (412), Colour (101).<br>Seasoning Powder: Salt, Sugar, Flavour Enhancers (621, 631, 627), Garlic Powder, Onion Powder, Yeast Extract, Artificial Flavour, Pepper, Anti Caking Agent (551).<br>Seasoning Oil: Refined Palm Oil (Contains Antioxidant 319), Onion.<br>Sweet Soy Sauce: Sugar, Water, Salt, Wheat, Soy Bean, Spices, Sesame Oil.<br>Chilli Sauce: Chilli, Water, Sugar, Salt, Tapioca Starch, Acidity Regulators (260, 330), Herbs, Flavour Enhancers (621, 627, 631), Flavours, Preservatives 1211, 223). Fried Onion: Onion, Refined Palm Oil (Contains Antioxidant 319).'}, {'ManufacturingProcessStep': 'Step 2', 'ManufacturingProcessDescription': 'Step 2: Combining the fruit juices and purées with water, sugar, food acids, vitamin C, natural flavors, and pectin.', 'Recipe': 'Water, Reconstituted Fruit Juice (25%) (Apple or Pear, Pineapple, Orange or Water Extracted Orange, Peach Purée, Passionfruit), Sugar, Food Acids (Citric Acid, Potassium Citrate), Vitamin C, Natural Flavours, Stabiliser (Pectin).'}, {'ManufacturingProcessStep': 'Step 1', 'ManufacturingProcessDescription': 'Step 1: Canola oil, water, sugar, and vinegar are mixed together in a large vat.', 'Recipe': 'Canola Oil, Water, Sugar, Vinegar, Thickener (1422, Xanthan Gum), Free Range Egg Yolk,  Gherkin, Salt, Onion Powder, Natural Colour (Carotene, Paprika Oleoresins), Preservative (Potassium Sorbate), Dill, Acidity Regulator (Citric Acid), Herb Extract, Mustard Oil.'}, {'ManufacturingProcessStep': 'Step 1', 'ManufacturingProcessDescription': 'Step 1: Preparation of Jelly - Water, sugar, and gelling agents are combined and heated to dissolve the sugar and activate the gelling agents.', 'Recipe': 'Jelly (70%) (Water, Sugar, Gelling Agents (Carrageenan, Locust Bean Gum, Xanthan Gum), Acidity Regulators (Sodium Citrates, Potassium Citrates, Calcium Lactate, Malic Acid, Citric Acid), Natural Flavours (Pineapple, Mango), Natural Colours (Carotene, Paprika Oleoresins), Antioxidant (Ascorbic Acid)), Peach (15%), Pear (15%)'}, {'ManufacturingProcessStep': 'Step 6', 'ManufacturingProcessDescription': 'Step 6: The sweet soy sauce is made by mixing sugar, water, salt, wheat, soy bean, spices, and sesame oil.', 'Recipe': 'Noodles: Wheat Flour (62%), Refined Palm Oil (Contains Antioxidant 319), Salt, Acidity Regulators (451, 501, 500), Thickener (412), Colour (101).<br>Seasoning Powder: Salt, Sugar, Flavour Enhancers (621, 631, 627), Garlic Powder, Onion Powder, Yeast Extract, Artificial Flavour, Pepper, Anti Caking Agent (551).<br>Seasoning Oil: Refined Palm Oil (Contains Antioxidant 319), Onion.<br>Sweet Soy Sauce: Sugar, Water, Salt, Wheat, Soy Bean, Spices, Sesame Oil.<br>Chilli Sauce: Chilli, Water, Sugar, Salt, Tapioca Starch, Acidity Regulators (260, 330), Herbs, Flavour Enhancers (621, 627, 631), Flavours, Preservatives 1211, 223). Fried Onion: Onion, Refined Palm Oil (Contains Antioxidant 319).'}, {'ManufacturingProcessStep': 'Step 7', 'ManufacturingProcessDescription': 'Step 7: The chilli sauce is made by mixing chilli, water, sugar, salt, tapioca starch, acidity regulators, herbs, flavour enhancers, flavours, and preservatives.', 'Recipe': 'Noodles: Wheat Flour (62%), Refined Palm Oil (Contains Antioxidant 319), Salt, Acidity Regulators (451, 501, 500), Thickener (412), Colour (101).<br>Seasoning Powder: Salt, Sugar, Flavour Enhancers (621, 631, 627), Garlic Powder, Onion Powder, Yeast Extract, Artificial Flavour, Pepper, Anti Caking Agent (551).<br>Seasoning Oil: Refined Palm Oil (Contains Antioxidant 319), Onion.<br>Sweet Soy Sauce: Sugar, Water, Salt, Wheat, Soy Bean, Spices, Sesame Oil.<br>Chilli Sauce: Chilli, Water, Sugar, Salt, Tapioca Starch, Acidity Regulators (260, 330), Herbs, Flavour Enhancers (621, 627, 631), Flavours, Preservatives 1211, 223). Fried Onion: Onion, Refined Palm Oil (Contains Antioxidant 319).'}, {'ManufacturingProcessStep': 'Step 6', 'ManufacturingProcessDescription': 'Step 6: The sweet soy sauce is made by mixing sugar, water, salt, wheat, soy bean, spices, and sesame oil.', 'Recipe': 'Noodles: Wheat Flour (62%), Refined Palm Oil (Contains Antioxidant 319), Salt, Acidity Regulators (451, 501, 500), Thickener (412), Colour (101).<br>Seasoning Powder: Salt, Sugar, Flavour Enhancers (621, 631, 627), Garlic Powder, Onion Powder, Yeast Extract, Artificial Flavour, Pepper, Anti Caking Agent (551).<br>Seasoning Oil: Refined Palm Oil (Contains Antioxidant 319), Onion.<br>Sweet Soy Sauce: Sugar, Water, Salt, Wheat, Soy Bean, Spices, Sesame Oil.<br>Chilli Sauce: Chilli, Water, Sugar, Salt, Tapioca Starch, Acidity Regulators (260, 330), Herbs, Flavour Enhancers (621, 627, 631), Flavours, Preservatives 1211, 223). Fried Onion: Onion, Refined Palm Oil (Contains Antioxidant 319).'}, {'ManufacturingProcessStep': 'Step 7', 'ManufacturingProcessDescription': 'Step 7: The chilli sauce is made by mixing chilli, water, sugar, salt, tapioca starch, acidity regulators, herbs, flavour enhancers, flavours, and preservatives.', 'Recipe': 'Noodles: Wheat Flour (62%), Refined Palm Oil (Contains Antioxidant 319), Salt, Acidity Regulators (451, 501, 500), Thickener (412), Colour (101).<br>Seasoning Powder: Salt, Sugar, Flavour Enhancers (621, 631, 627), Garlic Powder, Onion Powder, Yeast Extract, Artificial Flavour, Pepper, Anti Caking Agent (551).<br>Seasoning Oil: Refined Palm Oil (Contains Antioxidant 319), Onion.<br>Sweet Soy Sauce: Sugar, Water, Salt, Wheat, Soy Bean, Spices, Sesame Oil.<br>Chilli Sauce: Chilli, Water, Sugar, Salt, Tapioca Starch, Acidity Regulators (260, 330), Herbs, Flavour Enhancers (621, 627, 631), Flavours, Preservatives 1211, 223). Fried Onion: Onion, Refined Palm Oil (Contains Antioxidant 319).'}, {'ManufacturingProcessStep': 'Step 6', 'ManufacturingProcessDescription': 'Step 6: The sweet soy sauce is made by mixing sugar, water, salt, wheat, soy bean, spices, and sesame oil.', 'Recipe': 'Noodles: Wheat Flour (62%), Refined Palm Oil (Contains Antioxidant 319), Salt, Acidity Regulators (451, 501, 500), Thickener (412), Colour (101).<br>Seasoning Powder: Salt, Sugar, Flavour Enhancers (621, 631, 627), Garlic Powder, Onion Powder, Yeast Extract, Artificial Flavour, Pepper, Anti Caking Agent (551).<br>Seasoning Oil: Refined Palm Oil (Contains Antioxidant 319), Onion.<br>Sweet Soy Sauce: Sugar, Water, Salt, Wheat, Soy Bean, Spices, Sesame Oil.<br>Chilli Sauce: Chilli, Water, Sugar, Salt, Tapioca Starch, Acidity Regulators (260, 330), Herbs, Flavour Enhancers (621, 627, 631), Flavours, Preservatives 1211, 223). Fried Onion: Onion, Refined Palm Oil (Contains Antioxidant 319).'}, {'ManufacturingProcessStep': 'Step 7', 'ManufacturingProcessDescription': 'Step 7: The chilli sauce is made by mixing chilli, water, sugar, salt, tapioca starch, acidity regulators, herbs, flavour enhancers, flavours, and preservatives.', 'Recipe': 'Noodles: Wheat Flour (62%), Refined Palm Oil (Contains Antioxidant 319), Salt, Acidity Regulators (451, 501, 500), Thickener (412), Colour (101).<br>Seasoning Powder: Salt, Sugar, Flavour Enhancers (621, 631, 627), Garlic Powder, Onion Powder, Yeast Extract, Artificial Flavour, Pepper, Anti Caking Agent (551).<br>Seasoning Oil: Refined Palm Oil (Contains Antioxidant 319), Onion.<br>Sweet Soy Sauce: Sugar, Water, Salt, Wheat, Soy Bean, Spices, Sesame Oil.<br>Chilli Sauce: Chilli, Water, Sugar, Salt, Tapioca Starch, Acidity Regulators (260, 330), Herbs, Flavour Enhancers (621, 627, 631), Flavours, Preservatives 1211, 223). Fried Onion: Onion, Refined Palm Oil (Contains Antioxidant 319).'}, {'ManufacturingProcessStep': 'Step 6', 'ManufacturingProcessDescription': 'Step 6: The sweet soy sauce is made by mixing sugar, water, salt, wheat, soy bean, spices, and sesame oil.', 'Recipe': 'Noodles: Wheat Flour (62%), Refined Palm Oil (Contains Antioxidant 319), Salt, Acidity Regulators (451, 501, 500), Thickener (412), Colour (101).<br>Seasoning Powder: Salt, Sugar, Flavour Enhancers (621, 631, 627), Garlic Powder, Onion Powder, Yeast Extract, Artificial Flavour, Pepper, Anti Caking Agent (551).<br>Seasoning Oil: Refined Palm Oil (Contains Antioxidant 319), Onion.<br>Sweet Soy Sauce: Sugar, Water, Salt, Wheat, Soy Bean, Spices, Sesame Oil.<br>Chilli Sauce: Chilli, Water, Sugar, Salt, Tapioca Starch, Acidity Regulators (260, 330), Herbs, Flavour Enhancers (621, 627, 631), Flavours, Preservatives 1211, 223). Fried Onion: Onion, Refined Palm Oil (Contains Antioxidant 319).'}, {'ManufacturingProcessStep': 'Step 7', 'ManufacturingProcessDescription': 'Step 7: The chilli sauce is made by mixing chilli, water, sugar, salt, tapioca starch, acidity regulators, herbs, flavour enhancers, flavours, and preservatives.', 'Recipe': 'Noodles: Wheat Flour (62%), Refined Palm Oil (Contains Antioxidant 319), Salt, Acidity Regulators (451, 501, 500), Thickener (412), Colour (101).<br>Seasoning Powder: Salt, Sugar, Flavour Enhancers (621, 631, 627), Garlic Powder, Onion Powder, Yeast Extract, Artificial Flavour, Pepper, Anti Caking Agent (551).<br>Seasoning Oil: Refined Palm Oil (Contains Antioxidant 319), Onion.<br>Sweet Soy Sauce: Sugar, Water, Salt, Wheat, Soy Bean, Spices, Sesame Oil.<br>Chilli Sauce: Chilli, Water, Sugar, Salt, Tapioca Starch, Acidity Regulators (260, 330), Herbs, Flavour Enhancers (621, 627, 631), Flavours, Preservatives 1211, 223). Fried Onion: Onion, Refined Palm Oil (Contains Antioxidant 319).'}, {'ManufacturingProcessStep': 'Step 6', 'ManufacturingProcessDescription': 'Step 6: The sweet soy sauce is made by mixing sugar, water, salt, wheat, soy bean, spices, and sesame oil.', 'Recipe': 'Noodles: Wheat Flour (62%), Refined Palm Oil (Contains Antioxidant 319), Salt, Acidity Regulators (451, 501, 500), Thickener (412), Colour (101).<br>Seasoning Powder: Salt, Sugar, Flavour Enhancers (621, 631, 627), Garlic Powder, Onion Powder, Yeast Extract, Artificial Flavour, Pepper, Anti Caking Agent (551).<br>Seasoning Oil: Refined Palm Oil (Contains Antioxidant 319), Onion.<br>Sweet Soy Sauce: Sugar, Water, Salt, Wheat, Soy Bean, Spices, Sesame Oil.<br>Chilli Sauce: Chilli, Water, Sugar, Salt, Tapioca Starch, Acidity Regulators (260, 330), Herbs, Flavour Enhancers (621, 627, 631), Flavours, Preservatives 1211, 223). Fried Onion: Onion, Refined Palm Oil (Contains Antioxidant 319).'}, {'ManufacturingProcessStep': 'Step 7', 'ManufacturingProcessDescription': 'Step 7: The chilli sauce is made by mixing chilli, water, sugar, salt, tapioca starch, acidity regulators, herbs, flavour enhancers, flavours, and preservatives.', 'Recipe': 'Noodles: Wheat Flour (62%), Refined Palm Oil (Contains Antioxidant 319), Salt, Acidity Regulators (451, 501, 500), Thickener (412), Colour (101).<br>Seasoning Powder: Salt, Sugar, Flavour Enhancers (621, 631, 627), Garlic Powder, Onion Powder, Yeast Extract, Artificial Flavour, Pepper, Anti Caking Agent (551).<br>Seasoning Oil: Refined Palm Oil (Contains Antioxidant 319), Onion.<br>Sweet Soy Sauce: Sugar, Water, Salt, Wheat, Soy Bean, Spices, Sesame Oil.<br>Chilli Sauce: Chilli, Water, Sugar, Salt, Tapioca Starch, Acidity Regulators (260, 330), Herbs, Flavour Enhancers (621, 627, 631), Flavours, Preservatives 1211, 223). Fried Onion: Onion, Refined Palm Oil (Contains Antioxidant 319).'}, {'ManufacturingProcessStep': 'Step 6', 'ManufacturingProcessDescription': 'Step 6: The sweet soy sauce is made by mixing sugar, water, salt, wheat, soy bean, spices, and sesame oil.', 'Recipe': 'Noodles: Wheat Flour (62%), Refined Palm Oil (Contains Antioxidant 319), Salt, Acidity Regulators (451, 501, 500), Thickener (412), Colour (101).<br>Seasoning Powder: Salt, Sugar, Flavour Enhancers (621, 631, 627), Garlic Powder, Onion Powder, Yeast Extract, Artificial Flavour, Pepper, Anti Caking Agent (551).<br>Seasoning Oil: Refined Palm Oil (Contains Antioxidant 319), Onion.<br>Sweet Soy Sauce: Sugar, Water, Salt, Wheat, Soy Bean, Spices, Sesame Oil.<br>Chilli Sauce: Chilli, Water, Sugar, Salt, Tapioca Starch, Acidity Regulators (260, 330), Herbs, Flavour Enhancers (621, 627, 631), Flavours, Preservatives 1211, 223). Fried Onion: Onion, Refined Palm Oil (Contains Antioxidant 319).'}, {'ManufacturingProcessStep': 'Step 7', 'ManufacturingProcessDescription': 'Step 7: The chilli sauce is made by mixing chilli, water, sugar, salt, tapioca starch, acidity regulators, herbs, flavour enhancers, flavours, and preservatives.', 'Recipe': 'Noodles: Wheat Flour (62%), Refined Palm Oil (Contains Antioxidant 319), Salt, Acidity Regulators (451, 501, 500), Thickener (412), Colour (101).<br>Seasoning Powder: Salt, Sugar, Flavour Enhancers (621, 631, 627), Garlic Powder, Onion Powder, Yeast Extract, Artificial Flavour, Pepper, Anti Caking Agent (551).<br>Seasoning Oil: Refined Palm Oil (Contains Antioxidant 319), Onion.<br>Sweet Soy Sauce: Sugar, Water, Salt, Wheat, Soy Bean, Spices, Sesame Oil.<br>Chilli Sauce: Chilli, Water, Sugar, Salt, Tapioca Starch, Acidity Regulators (260, 330), Herbs, Flavour Enhancers (621, 627, 631), Flavours, Preservatives 1211, 223). Fried Onion: Onion, Refined Palm Oil (Contains Antioxidant 319).'}, {'ManufacturingProcessStep': 'Step 6', 'ManufacturingProcessDescription': 'Step 6: The sweet soy sauce is made by mixing sugar, water, salt, wheat, soy bean, spices, and sesame oil.', 'Recipe': 'Noodles: Wheat Flour (62%), Refined Palm Oil (Contains Antioxidant 319), Salt, Acidity Regulators (451, 501, 500), Thickener (412), Colour (101).<br>Seasoning Powder: Salt, Sugar, Flavour Enhancers (621, 631, 627), Garlic Powder, Onion Powder, Yeast Extract, Artificial Flavour, Pepper, Anti Caking Agent (551).<br>Seasoning Oil: Refined Palm Oil (Contains Antioxidant 319), Onion.<br>Sweet Soy Sauce: Sugar, Water, Salt, Wheat, Soy Bean, Spices, Sesame Oil.<br>Chilli Sauce: Chilli, Water, Sugar, Salt, Tapioca Starch, Acidity Regulators (260, 330), Herbs, Flavour Enhancers (621, 627, 631), Flavours, Preservatives 1211, 223). Fried Onion: Onion, Refined Palm Oil (Contains Antioxidant 319).'}, {'ManufacturingProcessStep': 'Step 7', 'ManufacturingProcessDescription': 'Step 7: The chilli sauce is made by mixing chilli, water, sugar, salt, tapioca starch, acidity regulators, herbs, flavour enhancers, flavours, and preservatives.', 'Recipe': 'Noodles: Wheat Flour (62%), Refined Palm Oil (Contains Antioxidant 319), Salt, Acidity Regulators (451, 501, 500), Thickener (412), Colour (101).<br>Seasoning Powder: Salt, Sugar, Flavour Enhancers (621, 631, 627), Garlic Powder, Onion Powder, Yeast Extract, Artificial Flavour, Pepper, Anti Caking Agent (551).<br>Seasoning Oil: Refined Palm Oil (Contains Antioxidant 319), Onion.<br>Sweet Soy Sauce: Sugar, Water, Salt, Wheat, Soy Bean, Spices, Sesame Oil.<br>Chilli Sauce: Chilli, Water, Sugar, Salt, Tapioca Starch, Acidity Regulators (260, 330), Herbs, Flavour Enhancers (621, 627, 631), Flavours, Preservatives 1211, 223). Fried Onion: Onion, Refined Palm Oil (Contains Antioxidant 319).'}, {'ManufacturingProcessStep': 'Step 6', 'ManufacturingProcessDescription': 'Step 6: The sweet soy sauce is made by mixing sugar, water, salt, wheat, soy bean, spices, and sesame oil.', 'Recipe': 'Noodles: Wheat Flour (62%), Refined Palm Oil (Contains Antioxidant 319), Salt, Acidity Regulators (451, 501, 500), Thickener (412), Colour (101).<br>Seasoning Powder: Salt, Sugar, Flavour Enhancers (621, 631, 627), Garlic Powder, Onion Powder, Yeast Extract, Artificial Flavour, Pepper, Anti Caking Agent (551).<br>Seasoning Oil: Refined Palm Oil (Contains Antioxidant 319), Onion.<br>Sweet Soy Sauce: Sugar, Water, Salt, Wheat, Soy Bean, Spices, Sesame Oil.<br>Chilli Sauce: Chilli, Water, Sugar, Salt, Tapioca Starch, Acidity Regulators (260, 330), Herbs, Flavour Enhancers (621, 627, 631), Flavours, Preservatives 1211, 223). Fried Onion: Onion, Refined Palm Oil (Contains Antioxidant 319).'}, {'ManufacturingProcessStep': 'Step 7', 'ManufacturingProcessDescription': 'Step 7: The chilli sauce is made by mixing chilli, water, sugar, salt, tapioca starch, acidity regulators, herbs, flavour enhancers, flavours, and preservatives.', 'Recipe': 'Noodles: Wheat Flour (62%), Refined Palm Oil (Contains Antioxidant 319), Salt, Acidity Regulators (451, 501, 500), Thickener (412), Colour (101).<br>Seasoning Powder: Salt, Sugar, Flavour Enhancers (621, 631, 627), Garlic Powder, Onion Powder, Yeast Extract, Artificial Flavour, Pepper, Anti Caking Agent (551).<br>Seasoning Oil: Refined Palm Oil (Contains Antioxidant 319), Onion.<br>Sweet Soy Sauce: Sugar, Water, Salt, Wheat, Soy Bean, Spices, Sesame Oil.<br>Chilli Sauce: Chilli, Water, Sugar, Salt, Tapioca Starch, Acidity Regulators (260, 330), Herbs, Flavour Enhancers (621, 627, 631), Flavours, Preservatives 1211, 223). Fried Onion: Onion, Refined Palm Oil (Contains Antioxidant 319).'}, {'ManufacturingProcessStep': 'Step 6', 'ManufacturingProcessDescription': 'Step 6: The sweet soy sauce is made by mixing sugar, water, salt, wheat, soy bean, spices, and sesame oil.', 'Recipe': 'Noodles: Wheat Flour (62%), Refined Palm Oil (Contains Antioxidant 319), Salt, Acidity Regulators (451, 501, 500), Thickener (412), Colour (101).<br>Seasoning Powder: Salt, Sugar, Flavour Enhancers (621, 631, 627), Garlic Powder, Onion Powder, Yeast Extract, Artificial Flavour, Pepper, Anti Caking Agent (551).<br>Seasoning Oil: Refined Palm Oil (Contains Antioxidant 319), Onion.<br>Sweet Soy Sauce: Sugar, Water, Salt, Wheat, Soy Bean, Spices, Sesame Oil.<br>Chilli Sauce: Chilli, Water, Sugar, Salt, Tapioca Starch, Acidity Regulators (260, 330), Herbs, Flavour Enhancers (621, 627, 631), Flavours, Preservatives 1211, 223). Fried Onion: Onion, Refined Palm Oil (Contains Antioxidant 319).'}, {'ManufacturingProcessStep': 'Step 7', 'ManufacturingProcessDescription': 'Step 7: The chilli sauce is made by mixing chilli, water, sugar, salt, tapioca starch, acidity regulators, herbs, flavour enhancers, flavours, and preservatives.', 'Recipe': 'Noodles: Wheat Flour (62%), Refined Palm Oil (Contains Antioxidant 319), Salt, Acidity Regulators (451, 501, 500), Thickener (412), Colour (101).<br>Seasoning Powder: Salt, Sugar, Flavour Enhancers (621, 631, 627), Garlic Powder, Onion Powder, Yeast Extract, Artificial Flavour, Pepper, Anti Caking Agent (551).<br>Seasoning Oil: Refined Palm Oil (Contains Antioxidant 319), Onion.<br>Sweet Soy Sauce: Sugar, Water, Salt, Wheat, Soy Bean, Spices, Sesame Oil.<br>Chilli Sauce: Chilli, Water, Sugar, Salt, Tapioca Starch, Acidity Regulators (260, 330), Herbs, Flavour Enhancers (621, 627, 631), Flavours, Preservatives 1211, 223). Fried Onion: Onion, Refined Palm Oil (Contains Antioxidant 319).'}, {'ManufacturingProcessStep': 'Step 6', 'ManufacturingProcessDescription': 'Step 6: The sweet soy sauce is made by mixing sugar, water, salt, wheat, soy bean, spices, and sesame oil.', 'Recipe': 'Noodles: Wheat Flour (62%), Refined Palm Oil (Contains Antioxidant 319), Salt, Acidity Regulators (451, 501, 500), Thickener (412), Colour (101).<br>Seasoning Powder: Salt, Sugar, Flavour Enhancers (621, 631, 627), Garlic Powder, Onion Powder, Yeast Extract, Artificial Flavour, Pepper, Anti Caking Agent (551).<br>Seasoning Oil: Refined Palm Oil (Contains Antioxidant 319), Onion.<br>Sweet Soy Sauce: Sugar, Water, Salt, Wheat, Soy Bean, Spices, Sesame Oil.<br>Chilli Sauce: Chilli, Water, Sugar, Salt, Tapioca Starch, Acidity Regulators (260, 330), Herbs, Flavour Enhancers (621, 627, 631), Flavours, Preservatives 1211, 223). Fried Onion: Onion, Refined Palm Oil (Contains Antioxidant 319).'}, {'ManufacturingProcessStep': 'Step 7', 'ManufacturingProcessDescription': 'Step 7: The chilli sauce is made by mixing chilli, water, sugar, salt, tapioca starch, acidity regulators, herbs, flavour enhancers, flavours, and preservatives.', 'Recipe': 'Noodles: Wheat Flour (62%), Refined Palm Oil (Contains Antioxidant 319), Salt, Acidity Regulators (451, 501, 500), Thickener (412), Colour (101).<br>Seasoning Powder: Salt, Sugar, Flavour Enhancers (621, 631, 627), Garlic Powder, Onion Powder, Yeast Extract, Artificial Flavour, Pepper, Anti Caking Agent (551).<br>Seasoning Oil: Refined Palm Oil (Contains Antioxidant 319), Onion.<br>Sweet Soy Sauce: Sugar, Water, Salt, Wheat, Soy Bean, Spices, Sesame Oil.<br>Chilli Sauce: Chilli, Water, Sugar, Salt, Tapioca Starch, Acidity Regulators (260, 330), Herbs, Flavour Enhancers (621, 627, 631), Flavours, Preservatives 1211, 223). Fried Onion: Onion, Refined Palm Oil (Contains Antioxidant 319).'}, {'ManufacturingProcessStep': 'Step 6', 'ManufacturingProcessDescription': 'Step 6: The sweet soy sauce is made by mixing sugar, water, salt, wheat, soy bean, spices, and sesame oil.', 'Recipe': 'Noodles: Wheat Flour (62%), Refined Palm Oil (Contains Antioxidant 319), Salt, Acidity Regulators (451, 501, 500), Thickener (412), Colour (101).<br>Seasoning Powder: Salt, Sugar, Flavour Enhancers (621, 631, 627), Garlic Powder, Onion Powder, Yeast Extract, Artificial Flavour, Pepper, Anti Caking Agent (551).<br>Seasoning Oil: Refined Palm Oil (Contains Antioxidant 319), Onion.<br>Sweet Soy Sauce: Sugar, Water, Salt, Wheat, Soy Bean, Spices, Sesame Oil.<br>Chilli Sauce: Chilli, Water, Sugar, Salt, Tapioca Starch, Acidity Regulators (260, 330), Herbs, Flavour Enhancers (621, 627, 631), Flavours, Preservatives 1211, 223). Fried Onion: Onion, Refined Palm Oil (Contains Antioxidant 319).'}, {'ManufacturingProcessStep': 'Step 7', 'ManufacturingProcessDescription': 'Step 7: The chilli sauce is made by mixing chilli, water, sugar, salt, tapioca starch, acidity regulators, herbs, flavour enhancers, flavours, and preservatives.', 'Recipe': 'Noodles: Wheat Flour (62%), Refined Palm Oil (Contains Antioxidant 319), Salt, Acidity Regulators (451, 501, 500), Thickener (412), Colour (101).<br>Seasoning Powder: Salt, Sugar, Flavour Enhancers (621, 631, 627), Garlic Powder, Onion Powder, Yeast Extract, Artificial Flavour, Pepper, Anti Caking Agent (551).<br>Seasoning Oil: Refined Palm Oil (Contains Antioxidant 319), Onion.<br>Sweet Soy Sauce: Sugar, Water, Salt, Wheat, Soy Bean, Spices, Sesame Oil.<br>Chilli Sauce: Chilli, Water, Sugar, Salt, Tapioca Starch, Acidity Regulators (260, 330), Herbs, Flavour Enhancers (621, 627, 631), Flavours, Preservatives 1211, 223). Fried Onion: Onion, Refined Palm Oil (Contains Antioxidant 319).'}, {'ManufacturingProcessStep': 'Step 6', 'ManufacturingProcessDescription': 'Step 6: The sweet soy sauce is made by mixing sugar, water, salt, wheat, soy bean, spices, and sesame oil.', 'Recipe': 'Noodles: Wheat Flour (62%), Refined Palm Oil (Contains Antioxidant 319), Salt, Acidity Regulators (451, 501, 500), Thickener (412), Colour (101).<br>Seasoning Powder: Salt, Sugar, Flavour Enhancers (621, 631, 627), Garlic Powder, Onion Powder, Yeast Extract, Artificial Flavour, Pepper, Anti Caking Agent (551).<br>Seasoning Oil: Refined Palm Oil (Contains Antioxidant 319), Onion.<br>Sweet Soy Sauce: Sugar, Water, Salt, Wheat, Soy Bean, Spices, Sesame Oil.<br>Chilli Sauce: Chilli, Water, Sugar, Salt, Tapioca Starch, Acidity Regulators (260, 330), Herbs, Flavour Enhancers (621, 627, 631), Flavours, Preservatives 1211, 223). Fried Onion: Onion, Refined Palm Oil (Contains Antioxidant 319).'}, {'ManufacturingProcessStep': 'Step 7', 'ManufacturingProcessDescription': 'Step 7: The chilli sauce is made by mixing chilli, water, sugar, salt, tapioca starch, acidity regulators, herbs, flavour enhancers, flavours, and preservatives.', 'Recipe': 'Noodles: Wheat Flour (62%), Refined Palm Oil (Contains Antioxidant 319), Salt, Acidity Regulators (451, 501, 500), Thickener (412), Colour (101).<br>Seasoning Powder: Salt, Sugar, Flavour Enhancers (621, 631, 627), Garlic Powder, Onion Powder, Yeast Extract, Artificial Flavour, Pepper, Anti Caking Agent (551).<br>Seasoning Oil: Refined Palm Oil (Contains Antioxidant 319), Onion.<br>Sweet Soy Sauce: Sugar, Water, Salt, Wheat, Soy Bean, Spices, Sesame Oil.<br>Chilli Sauce: Chilli, Water, Sugar, Salt, Tapioca Starch, Acidity Regulators (260, 330), Herbs, Flavour Enhancers (621, 627, 631), Flavours, Preservatives 1211, 223). Fried Onion: Onion, Refined Palm Oil (Contains Antioxidant 319).'}, {'ManufacturingProcessStep': 'Step 6', 'ManufacturingProcessDescription': 'Step 6: The sweet soy sauce is made by mixing sugar, water, salt, wheat, soy bean, spices, and sesame oil.', 'Recipe': 'Noodles: Wheat Flour (62%), Refined Palm Oil (Contains Antioxidant 319), Salt, Acidity Regulators (451, 501, 500), Thickener (412), Colour (101).<br>Seasoning Powder: Salt, Sugar, Flavour Enhancers (621, 631, 627), Garlic Powder, Onion Powder, Yeast Extract, Artificial Flavour, Pepper, Anti Caking Agent (551).<br>Seasoning Oil: Refined Palm Oil (Contains Antioxidant 319), Onion.<br>Sweet Soy Sauce: Sugar, Water, Salt, Wheat, Soy Bean, Spices, Sesame Oil.<br>Chilli Sauce: Chilli, Water, Sugar, Salt, Tapioca Starch, Acidity Regulators (260, 330), Herbs, Flavour Enhancers (621, 627, 631), Flavours, Preservatives 1211, 223). Fried Onion: Onion, Refined Palm Oil (Contains Antioxidant 319).'}, {'ManufacturingProcessStep': 'Step 7', 'ManufacturingProcessDescription': 'Step 7: The chilli sauce is made by mixing chilli, water, sugar, salt, tapioca starch, acidity regulators, herbs, flavour enhancers, flavours, and preservatives.', 'Recipe': 'Noodles: Wheat Flour (62%), Refined Palm Oil (Contains Antioxidant 319), Salt, Acidity Regulators (451, 501, 500), Thickener (412), Colour (101).<br>Seasoning Powder: Salt, Sugar, Flavour Enhancers (621, 631, 627), Garlic Powder, Onion Powder, Yeast Extract, Artificial Flavour, Pepper, Anti Caking Agent (551).<br>Seasoning Oil: Refined Palm Oil (Contains Antioxidant 319), Onion.<br>Sweet Soy Sauce: Sugar, Water, Salt, Wheat, Soy Bean, Spices, Sesame Oil.<br>Chilli Sauce: Chilli, Water, Sugar, Salt, Tapioca Starch, Acidity Regulators (260, 330), Herbs, Flavour Enhancers (621, 627, 631), Flavours, Preservatives 1211, 223). Fried Onion: Onion, Refined Palm Oil (Contains Antioxidant 319).'}, {'ManufacturingProcessStep': 'Step 6', 'ManufacturingProcessDescription': 'Step 6: The sweet soy sauce is made by mixing sugar, water, salt, wheat, soy bean, spices, and sesame oil.', 'Recipe': 'Noodles: Wheat Flour (62%), Refined Palm Oil (Contains Antioxidant 319), Salt, Acidity Regulators (451, 501, 500), Thickener (412), Colour (101).<br>Seasoning Powder: Salt, Sugar, Flavour Enhancers (621, 631, 627), Garlic Powder, Onion Powder, Yeast Extract, Artificial Flavour, Pepper, Anti Caking Agent (551).<br>Seasoning Oil: Refined Palm Oil (Contains Antioxidant 319), Onion.<br>Sweet Soy Sauce: Sugar, Water, Salt, Wheat, Soy Bean, Spices, Sesame Oil.<br>Chilli Sauce: Chilli, Water, Sugar, Salt, Tapioca Starch, Acidity Regulators (260, 330), Herbs, Flavour Enhancers (621, 627, 631), Flavours, Preservatives 1211, 223). Fried Onion: Onion, Refined Palm Oil (Contains Antioxidant 319).'}, {'ManufacturingProcessStep': 'Step 7', 'ManufacturingProcessDescription': 'Step 7: The chilli sauce is made by mixing chilli, water, sugar, salt, tapioca starch, acidity regulators, herbs, flavour enhancers, flavours, and preservatives.', 'Recipe': 'Noodles: Wheat Flour (62%), Refined Palm Oil (Contains Antioxidant 319), Salt, Acidity Regulators (451, 501, 500), Thickener (412), Colour (101).<br>Seasoning Powder: Salt, Sugar, Flavour Enhancers (621, 631, 627), Garlic Powder, Onion Powder, Yeast Extract, Artificial Flavour, Pepper, Anti Caking Agent (551).<br>Seasoning Oil: Refined Palm Oil (Contains Antioxidant 319), Onion.<br>Sweet Soy Sauce: Sugar, Water, Salt, Wheat, Soy Bean, Spices, Sesame Oil.<br>Chilli Sauce: Chilli, Water, Sugar, Salt, Tapioca Starch, Acidity Regulators (260, 330), Herbs, Flavour Enhancers (621, 627, 631), Flavours, Preservatives 1211, 223). Fried Onion: Onion, Refined Palm Oil (Contains Antioxidant 319).'}, {'ManufacturingProcessStep': 'Step 6', 'ManufacturingProcessDescription': 'Step 6: The sweet soy sauce is made by mixing sugar, water, salt, wheat, soy bean, spices, and sesame oil.', 'Recipe': 'Noodles: Wheat Flour (62%), Refined Palm Oil (Contains Antioxidant 319), Salt, Acidity Regulators (451, 501, 500), Thickener (412), Colour (101).<br>Seasoning Powder: Salt, Sugar, Flavour Enhancers (621, 631, 627), Garlic Powder, Onion Powder, Yeast Extract, Artificial Flavour, Pepper, Anti Caking Agent (551).<br>Seasoning Oil: Refined Palm Oil (Contains Antioxidant 319), Onion.<br>Sweet Soy Sauce: Sugar, Water, Salt, Wheat, Soy Bean, Spices, Sesame Oil.<br>Chilli Sauce: Chilli, Water, Sugar, Salt, Tapioca Starch, Acidity Regulators (260, 330), Herbs, Flavour Enhancers (621, 627, 631), Flavours, Preservatives 1211, 223). Fried Onion: Onion, Refined Palm Oil (Contains Antioxidant 319).'}, {'ManufacturingProcessStep': 'Step 7', 'ManufacturingProcessDescription': 'Step 7: The chilli sauce is made by mixing chilli, water, sugar, salt, tapioca starch, acidity regulators, herbs, flavour enhancers, flavours, and preservatives.', 'Recipe': 'Noodles: Wheat Flour (62%), Refined Palm Oil (Contains Antioxidant 319), Salt, Acidity Regulators (451, 501, 500), Thickener (412), Colour (101).<br>Seasoning Powder: Salt, Sugar, Flavour Enhancers (621, 631, 627), Garlic Powder, Onion Powder, Yeast Extract, Artificial Flavour, Pepper, Anti Caking Agent (551).<br>Seasoning Oil: Refined Palm Oil (Contains Antioxidant 319), Onion.<br>Sweet Soy Sauce: Sugar, Water, Salt, Wheat, Soy Bean, Spices, Sesame Oil.<br>Chilli Sauce: Chilli, Water, Sugar, Salt, Tapioca Starch, Acidity Regulators (260, 330), Herbs, Flavour Enhancers (621, 627, 631), Flavours, Preservatives 1211, 223). Fried Onion: Onion, Refined Palm Oil (Contains Antioxidant 319).'}, {'ManufacturingProcessStep': 'Step 2', 'ManufacturingProcessDescription': 'Step 2: Combining the fruit juices and purées with water, sugar, food acids, vitamin C, natural flavors, and pectin.', 'Recipe': 'Water, Reconstituted Fruit Juice (25%) (Apple or Pear, Pineapple, Orange or Water Extracted Orange, Peach Purée, Passionfruit), Sugar, Food Acids (Citric Acid, Potassium Citrate), Vitamin C, Natural Flavours, Stabiliser (Pectin).'}, {'ManufacturingProcessStep': 'Step 2', 'ManufacturingProcessDescription': 'Step 2: Combining the fruit juices and purées with water, sugar, food acids, vitamin C, natural flavors, and pectin.', 'Recipe': 'Water, Reconstituted Fruit Juice (25%) (Apple or Pear, Pineapple, Orange or Water Extracted Orange, Peach Purée, Passionfruit), Sugar, Food Acids (Citric Acid, Potassium Citrate), Vitamin C, Natural Flavours, Stabiliser (Pectin).'}, {'ManufacturingProcessStep': 'Step 1', 'ManufacturingProcessDescription': 'Step 1: Canola oil, water, sugar, and vinegar are mixed together in a large vat.', 'Recipe': 'Canola Oil, Water, Sugar, Vinegar, Thickener (1422, Xanthan Gum), Free Range Egg Yolk,  Gherkin, Salt, Onion Powder, Natural Colour (Carotene, Paprika Oleoresins), Preservative (Potassium Sorbate), Dill, Acidity Regulator (Citric Acid), Herb Extract, Mustard Oil.'}, {'ManufacturingProcessStep': 'Step 1', 'ManufacturingProcessDescription': 'Step 1: Canola oil, water, sugar, and vinegar are mixed together in a large vat.', 'Recipe': 'Canola Oil, Water, Sugar, Vinegar, Thickener (1422, Xanthan Gum), Free Range Egg Yolk,  Gherkin, Salt, Onion Powder, Natural Colour (Carotene, Paprika Oleoresins), Preservative (Potassium Sorbate), Dill, Acidity Regulator (Citric Acid), Herb Extract, Mustard Oil.'}, {'ManufacturingProcessStep': 'Step 1', 'ManufacturingProcessDescription': 'Step 1: Preparation of Jelly - Water, sugar, and gelling agents are combined and heated to dissolve the sugar and activate the gelling agents.', 'Recipe': 'Jelly (70%) (Water, Sugar, Gelling Agents (Carrageenan, Locust Bean Gum, Xanthan Gum), Acidity Regulators (Sodium Citrates, Potassium Citrates, Calcium Lactate, Malic Acid, Citric Acid), Natural Flavours (Pineapple, Mango), Natural Colours (Carotene, Paprika Oleoresins), Antioxidant (Ascorbic Acid)), Peach (15%), Pear (15%)'}, {'ManufacturingProcessStep': 'Step 2', 'ManufacturingProcessDescription': 'Step 2: Combining the fruit juices and purées with water, sugar, food acids, vitamin C, natural flavors, and pectin.', 'Recipe': 'Water, Reconstituted Fruit Juice (25%) (Apple or Pear, Pineapple, Orange or Water Extracted Orange, Peach Purée, Passionfruit), Sugar, Food Acids (Citric Acid, Potassium Citrate), Vitamin C, Natural Flavours, Stabiliser (Pectin).'}, {'ManufacturingProcessStep': 'Step 2', 'ManufacturingProcessDescription': 'Step 2: Combining the fruit juices and purées with water, sugar, food acids, vitamin C, natural flavors, and pectin.', 'Recipe': 'Water, Reconstituted Fruit Juice (25%) (Apple or Pear, Pineapple, Orange or Water Extracted Orange, Peach Purée, Passionfruit), Sugar, Food Acids (Citric Acid, Potassium Citrate), Vitamin C, Natural Flavours, Stabiliser (Pectin).'}, {'ManufacturingProcessStep': 'Step 2', 'ManufacturingProcessDescription': 'Step 2: Combining the fruit juices and purées with water, sugar, food acids, vitamin C, natural flavors, and pectin.', 'Recipe': 'Water, Reconstituted Fruit Juice (25%) (Apple or Pear, Pineapple, Orange or Water Extracted Orange, Peach Purée, Passionfruit), Sugar, Food Acids (Citric Acid, Potassium Citrate), Vitamin C, Natural Flavours, Stabiliser (Pectin).'}, {'ManufacturingProcessStep': 'Step 2', 'ManufacturingProcessDescription': 'Step 2: Combining the fruit juices and purées with water, sugar, food acids, vitamin C, natural flavors, and pectin.', 'Recipe': 'Water, Reconstituted Fruit Juice (25%) (Apple or Pear, Pineapple, Orange or Water Extracted Orange, Peach Purée, Passionfruit), Sugar, Food Acids (Citric Acid, Potassium Citrate), Vitamin C, Natural Flavours, Stabiliser (Pectin).'}, {'ManufacturingProcessStep': 'Step 2', 'ManufacturingProcessDescription': 'Step 2: Combining the fruit juices and purées with water, sugar, food acids, vitamin C, natural flavors, and pectin.', 'Recipe': 'Water, Reconstituted Fruit Juice (25%) (Apple or Pear, Pineapple, Orange or Water Extracted Orange, Peach Purée, Passionfruit), Sugar, Food Acids (Citric Acid, Potassium Citrate), Vitamin C, Natural Flavours, Stabiliser (Pectin).'}, {'ManufacturingProcessStep': 'Step 2', 'ManufacturingProcessDescription': 'Step 2: Combining the fruit juices and purées with water, sugar, food acids, vitamin C, natural flavors, and pectin.', 'Recipe': 'Water, Reconstituted Fruit Juice (25%) (Apple or Pear, Pineapple, Orange or Water Extracted Orange, Peach Purée, Passionfruit), Sugar, Food Acids (Citric Acid, Potassium Citrate), Vitamin C, Natural Flavours, Stabiliser (Pectin).'}, {'ManufacturingProcessStep': 'Step 2', 'ManufacturingProcessDescription': 'Step 2: Combining the fruit juices and purées with water, sugar, food acids, vitamin C, natural flavors, and pectin.', 'Recipe': 'Water, Reconstituted Fruit Juice (25%) (Apple or Pear, Pineapple, Orange or Water Extracted Orange, Peach Purée, Passionfruit), Sugar, Food Acids (Citric Acid, Potassium Citrate), Vitamin C, Natural Flavours, Stabiliser (Pectin).'}, {'ManufacturingProcessStep': 'Step 2', 'ManufacturingProcessDescription': 'Step 2: Combining the fruit juices and purées with water, sugar, food acids, vitamin C, natural flavors, and pectin.', 'Recipe': 'Water, Reconstituted Fruit Juice (25%) (Apple or Pear, Pineapple, Orange or Water Extracted Orange, Peach Purée, Passionfruit), Sugar, Food Acids (Citric Acid, Potassium Citrate), Vitamin C, Natural Flavours, Stabiliser (Pectin).'}, {'ManufacturingProcessStep': 'Step 2', 'ManufacturingProcessDescription': 'Step 2: Combining the fruit juices and purées with water, sugar, food acids, vitamin C, natural flavors, and pectin.', 'Recipe': 'Water, Reconstituted Fruit Juice (25%) (Apple or Pear, Pineapple, Orange or Water Extracted Orange, Peach Purée, Passionfruit), Sugar, Food Acids (Citric Acid, Potassium Citrate), Vitamin C, Natural Flavours, Stabiliser (Pectin).'}, {'ManufacturingProcessStep': 'Step 2', 'ManufacturingProcessDescription': 'Step 2: Combining the fruit juices and purées with water, sugar, food acids, vitamin C, natural flavors, and pectin.', 'Recipe': 'Water, Reconstituted Fruit Juice (25%) (Apple or Pear, Pineapple, Orange or Water Extracted Orange, Peach Purée, Passionfruit), Sugar, Food Acids (Citric Acid, Potassium Citrate), Vitamin C, Natural Flavours, Stabiliser (Pectin).'}, {'ManufacturingProcessStep': 'Step 1', 'ManufacturingProcessDescription': 'Step 1: Canola oil, water, sugar, and vinegar are mixed together in a large vat.', 'Recipe': 'Canola Oil, Water, Sugar, Vinegar, Thickener (1422, Xanthan Gum), Free Range Egg Yolk,  Gherkin, Salt, Onion Powder, Natural Colour (Carotene, Paprika Oleoresins), Preservative (Potassium Sorbate), Dill, Acidity Regulator (Citric Acid), Herb Extract, Mustard Oil.'}, {'ManufacturingProcessStep': 'Step 1', 'ManufacturingProcessDescription': 'Step 1: Canola oil, water, sugar, and vinegar are mixed together in a large vat.', 'Recipe': 'Canola Oil, Water, Sugar, Vinegar, Thickener (1422, Xanthan Gum), Free Range Egg Yolk,  Gherkin, Salt, Onion Powder, Natural Colour (Carotene, Paprika Oleoresins), Preservative (Potassium Sorbate), Dill, Acidity Regulator (Citric Acid), Herb Extract, Mustard Oil.'}, {'ManufacturingProcessStep': 'Step 1', 'ManufacturingProcessDescription': 'Step 1: Canola oil, water, sugar, and vinegar are mixed together in a large vat.', 'Recipe': 'Canola Oil, Water, Sugar, Vinegar, Thickener (1422, Xanthan Gum), Free Range Egg Yolk,  Gherkin, Salt, Onion Powder, Natural Colour (Carotene, Paprika Oleoresins), Preservative (Potassium Sorbate), Dill, Acidity Regulator (Citric Acid), Herb Extract, Mustard Oil.'}, {'ManufacturingProcessStep': 'Step 1', 'ManufacturingProcessDescription': 'Step 1: Canola oil, water, sugar, and vinegar are mixed together in a large vat.', 'Recipe': 'Canola Oil, Water, Sugar, Vinegar, Thickener (1422, Xanthan Gum), Free Range Egg Yolk,  Gherkin, Salt, Onion Powder, Natural Colour (Carotene, Paprika Oleoresins), Preservative (Potassium Sorbate), Dill, Acidity Regulator (Citric Acid), Herb Extract, Mustard Oil.'}, {'ManufacturingProcessStep': 'Step 1', 'ManufacturingProcessDescription': 'Step 1: Canola oil, water, sugar, and vinegar are mixed together in a large vat.', 'Recipe': 'Canola Oil, Water, Sugar, Vinegar, Thickener (1422, Xanthan Gum), Free Range Egg Yolk,  Gherkin, Salt, Onion Powder, Natural Colour (Carotene, Paprika Oleoresins), Preservative (Potassium Sorbate), Dill, Acidity Regulator (Citric Acid), Herb Extract, Mustard Oil.'}, {'ManufacturingProcessStep': 'Step 1', 'ManufacturingProcessDescription': 'Step 1: Canola oil, water, sugar, and vinegar are mixed together in a large vat.', 'Recipe': 'Canola Oil, Water, Sugar, Vinegar, Thickener (1422, Xanthan Gum), Free Range Egg Yolk,  Gherkin, Salt, Onion Powder, Natural Colour (Carotene, Paprika Oleoresins), Preservative (Potassium Sorbate), Dill, Acidity Regulator (Citric Acid), Herb Extract, Mustard Oil.'}, {'ManufacturingProcessStep': 'Step 1', 'ManufacturingProcessDescription': 'Step 1: Preparation of Jelly - Water, sugar, and gelling agents are combined and heated to dissolve the sugar and activate the gelling agents.', 'Recipe': 'Jelly (70%) (Water, Sugar, Gelling Agents (Carrageenan, Locust Bean Gum, Xanthan Gum), Acidity Regulators (Sodium Citrates, Potassium Citrates, Calcium Lactate, Malic Acid, Citric Acid), Natural Flavours (Pineapple, Mango), Natural Colours (Carotene, Paprika Oleoresins), Antioxidant (Ascorbic Acid)), Peach (15%), Pear (15%)'}, {'ManufacturingProcessStep': 'Step 1', 'ManufacturingProcessDescription': 'Step 1: Canola oil, water, sugar, and vinegar are mixed together in a large vat.', 'Recipe': 'Canola Oil, Water, Sugar, Vinegar, Thickener (1422, Xanthan Gum), Free Range Egg Yolk,  Gherkin, Salt, Onion Powder, Natural Colour (Carotene, Paprika Oleoresins), Preservative (Potassium Sorbate), Dill, Acidity Regulator (Citric Acid), Herb Extract, Mustard Oil.'}, {'ManufacturingProcessStep': 'Step 1', 'ManufacturingProcessDescription': 'Step 1: Preparation of Jelly - Water, sugar, and gelling agents are combined and heated to dissolve the sugar and activate the gelling agents.', 'Recipe': 'Jelly (70%) (Water, Sugar, Gelling Agents (Carrageenan, Locust Bean Gum, Xanthan Gum), Acidity Regulators (Sodium Citrates, Potassium Citrates, Calcium Lactate, Malic Acid, Citric Acid), Natural Flavours (Pineapple, Mango), Natural Colours (Carotene, Paprika Oleoresins), Antioxidant (Ascorbic Acid)), Peach (15%), Pear (15%)'}, {'ManufacturingProcessStep': 'Step 1', 'ManufacturingProcessDescription': 'Step 1: Canola oil, water, sugar, and vinegar are mixed together in a large vat.', 'Recipe': 'Canola Oil, Water, Sugar, Vinegar, Thickener (1422, Xanthan Gum), Free Range Egg Yolk,  Gherkin, Salt, Onion Powder, Natural Colour (Carotene, Paprika Oleoresins), Preservative (Potassium Sorbate), Dill, Acidity Regulator (Citric Acid), Herb Extract, Mustard Oil.'}, {'ManufacturingProcessStep': 'Step 1', 'ManufacturingProcessDescription': 'Step 1: Canola oil, water, sugar, and vinegar are mixed together in a large vat.', 'Recipe': 'Canola Oil, Water, Sugar, Vinegar, Thickener (1422, Xanthan Gum), Free Range Egg Yolk,  Gherkin, Salt, Onion Powder, Natural Colour (Carotene, Paprika Oleoresins), Preservative (Potassium Sorbate), Dill, Acidity Regulator (Citric Acid), Herb Extract, Mustard Oil.'}, {'ManufacturingProcessStep': 'Step 1', 'ManufacturingProcessDescription': 'Step 1: Canola oil, water, sugar, and vinegar are mixed together in a large vat.', 'Recipe': 'Canola Oil, Water, Sugar, Vinegar, Thickener (1422, Xanthan Gum), Free Range Egg Yolk,  Gherkin, Salt, Onion Powder, Natural Colour (Carotene, Paprika Oleoresins), Preservative (Potassium Sorbate), Dill, Acidity Regulator (Citric Acid), Herb Extract, Mustard Oil.'}, {'ManufacturingProcessStep': 'Step 1', 'ManufacturingProcessDescription': 'Step 1: Canola oil, water, sugar, and vinegar are mixed together in a large vat.', 'Recipe': 'Canola Oil, Water, Sugar, Vinegar, Thickener (1422, Xanthan Gum), Free Range Egg Yolk,  Gherkin, Salt, Onion Powder, Natural Colour (Carotene, Paprika Oleoresins), Preservative (Potassium Sorbate), Dill, Acidity Regulator (Citric Acid), Herb Extract, Mustard Oil.'}, {'ManufacturingProcessStep': 'Step 1', 'ManufacturingProcessDescription': 'Step 1: Preparation of Jelly - Water, sugar, and gelling agents are combined and heated to dissolve the sugar and activate the gelling agents.', 'Recipe': 'Jelly (70%) (Water, Sugar, Gelling Agents (Carrageenan, Locust Bean Gum, Xanthan Gum), Acidity Regulators (Sodium Citrates, Potassium Citrates, Calcium Lactate, Malic Acid, Citric Acid), Natural Flavours (Pineapple, Mango), Natural Colours (Carotene, Paprika Oleoresins), Antioxidant (Ascorbic Acid)), Peach (15%), Pear (15%)'}, {'ManufacturingProcessStep': 'Step 1', 'ManufacturingProcessDescription': 'Step 1: Preparation of Jelly - Water, sugar, and gelling agents are combined and heated to dissolve the sugar and activate the gelling agents.', 'Recipe': 'Jelly (70%) (Water, Sugar, Gelling Agents (Carrageenan, Locust Bean Gum, Xanthan Gum), Acidity Regulators (Sodium Citrates, Potassium Citrates, Calcium Lactate, Malic Acid, Citric Acid), Natural Flavours (Pineapple, Mango), Natural Colours (Carotene, Paprika Oleoresins), Antioxidant (Ascorbic Acid)), Peach (15%), Pear (15%)'}, {'ManufacturingProcessStep': 'Step 1', 'ManufacturingProcessDescription': 'Step 1: Preparation of Jelly - Water, sugar, and gelling agents are combined and heated to dissolve the sugar and activate the gelling agents.', 'Recipe': 'Jelly (70%) (Water, Sugar, Gelling Agents (Carrageenan, Locust Bean Gum, Xanthan Gum), Acidity Regulators (Sodium Citrates, Potassium Citrates, Calcium Lactate, Malic Acid, Citric Acid), Natural Flavours (Pineapple, Mango), Natural Colours (Carotene, Paprika Oleoresins), Antioxidant (Ascorbic Acid)), Peach (15%), Pear (15%)'}, {'ManufacturingProcessStep': 'Step 1', 'ManufacturingProcessDescription': 'Step 1: Preparation of Jelly - Water, sugar, and gelling agents are combined and heated to dissolve the sugar and activate the gelling agents.', 'Recipe': 'Jelly (70%) (Water, Sugar, Gelling Agents (Carrageenan, Locust Bean Gum, Xanthan Gum), Acidity Regulators (Sodium Citrates, Potassium Citrates, Calcium Lactate, Malic Acid, Citric Acid), Natural Flavours (Pineapple, Mango), Natural Colours (Carotene, Paprika Oleoresins), Antioxidant (Ascorbic Acid)), Peach (15%), Pear (15%)'}, {'ManufacturingProcessStep': 'Step 1', 'ManufacturingProcessDescription': 'Step 1: Preparation of Jelly - Water, sugar, and gelling agents are combined and heated to dissolve the sugar and activate the gelling agents.', 'Recipe': 'Jelly (70%) (Water, Sugar, Gelling Agents (Carrageenan, Locust Bean Gum, Xanthan Gum), Acidity Regulators (Sodium Citrates, Potassium Citrates, Calcium Lactate, Malic Acid, Citric Acid), Natural Flavours (Pineapple, Mango), Natural Colours (Carotene, Paprika Oleoresins), Antioxidant (Ascorbic Acid)), Peach (15%), Pear (15%)'}, {'ManufacturingProcessStep': 'Step 1', 'ManufacturingProcessDescription': 'Step 1: Preparation of Jelly - Water, sugar, and gelling agents are combined and heated to dissolve the sugar and activate the gelling agents.', 'Recipe': 'Jelly (70%) (Water, Sugar, Gelling Agents (Carrageenan, Locust Bean Gum, Xanthan Gum), Acidity Regulators (Sodium Citrates, Potassium Citrates, Calcium Lactate, Malic Acid, Citric Acid), Natural Flavours (Pineapple, Mango), Natural Colours (Carotene, Paprika Oleoresins), Antioxidant (Ascorbic Acid)), Peach (15%), Pear (15%)'}, {'ManufacturingProcessStep': 'Step 1', 'ManufacturingProcessDescription': 'Step 1: Preparation of Jelly - Water, sugar, and gelling agents are combined and heated to dissolve the sugar and activate the gelling agents.', 'Recipe': 'Jelly (70%) (Water, Sugar, Gelling Agents (Carrageenan, Locust Bean Gum, Xanthan Gum), Acidity Regulators (Sodium Citrates, Potassium Citrates, Calcium Lactate, Malic Acid, Citric Acid), Natural Flavours (Pineapple, Mango), Natural Colours (Carotene, Paprika Oleoresins), Antioxidant (Ascorbic Acid)), Peach (15%), Pear (15%)'}, {'ManufacturingProcessStep': 'Step 1', 'ManufacturingProcessDescription': 'Step 1: Preparation of Jelly - Water, sugar, and gelling agents are combined and heated to dissolve the sugar and activate the gelling agents.', 'Recipe': 'Jelly (70%) (Water, Sugar, Gelling Agents (Carrageenan, Locust Bean Gum, Xanthan Gum), Acidity Regulators (Sodium Citrates, Potassium Citrates, Calcium Lactate, Malic Acid, Citric Acid), Natural Flavours (Pineapple, Mango), Natural Colours (Carotene, Paprika Oleoresins), Antioxidant (Ascorbic Acid)), Peach (15%), Pear (15%)'}, {'ManufacturingProcessStep': 'Step 1', 'ManufacturingProcessDescription': 'Step 1: Preparation of Jelly - Water, sugar, and gelling agents are combined and heated to dissolve the sugar and activate the gelling agents.', 'Recipe': 'Jelly (70%) (Water, Sugar, Gelling Agents (Carrageenan, Locust Bean Gum, Xanthan Gum), Acidity Regulators (Sodium Citrates, Potassium Citrates, Calcium Lactate, Malic Acid, Citric Acid), Natural Flavours (Pineapple, Mango), Natural Colours (Carotene, Paprika Oleoresins), Antioxidant (Ascorbic Acid)), Peach (15%), Pear (15%)'}, {'ManufacturingProcessStep': 'Step 1', 'ManufacturingProcessDescription': 'Step 1: Preparation of Jelly - Water, sugar, and gelling agents are combined and heated to dissolve the sugar and activate the gelling agents.', 'Recipe': 'Jelly (70%) (Water, Sugar, Gelling Agents (Carrageenan, Locust Bean Gum, Xanthan Gum), Acidity Regulators (Sodium Citrates, Potassium Citrates, Calcium Lactate, Malic Acid, Citric Acid), Natural Flavours (Pineapple, Mango), Natural Colours (Carotene, Paprika Oleoresins), Antioxidant (Ascorbic Acid)), Peach (15%), Pear (15%)'}, {'ManufacturingProcessStep': 'Step 1', 'ManufacturingProcessDescription': 'Step 1: Preparation of Jelly - Water, sugar, and gelling agents are combined and heated to dissolve the sugar and activate the gelling agents.', 'Recipe': 'Jelly (70%) (Water, Sugar, Gelling Agents (Carrageenan, Locust Bean Gum, Xanthan Gum), Acidity Regulators (Sodium Citrates, Potassium Citrates, Calcium Lactate, Malic Acid, Citric Acid), Natural Flavours (Pineapple, Mango), Natural Colours (Carotene, Paprika Oleoresins), Antioxidant (Ascorbic Acid)), Peach (15%), Pear (15%)'}, {'ManufacturingProcessStep': 'Step 1', 'ManufacturingProcessDescription': 'Step 1: Preparation of Jelly - Water, sugar, and gelling agents are combined and heated to dissolve the sugar and activate the gelling agents.', 'Recipe': 'Jelly (70%) (Water, Sugar, Gelling Agents (Carrageenan, Locust Bean Gum, Xanthan Gum), Acidity Regulators (Sodium Citrates, Potassium Citrates, Calcium Lactate, Malic Acid, Citric Acid), Natural Flavours (Pineapple, Mango), Natural Colours (Carotene, Paprika Oleoresins), Antioxidant (Ascorbic Acid)), Peach (15%), Pear (15%)'}]\n"
     ]
    }
   ],
   "source": [
    "import pandas as pd\n",
    "import nltk\n",
    "from nltk.tokenize import word_tokenize\n",
    "import nltk\n",
    "nltk.download('stopwords')\n",
    "import nltk\n",
    "nltk.download('punkt')\n",
    "\n",
    "\n",
    "\n",
    "\n",
    "keyword_groups = [['water', 'sugar']]\n",
    "\n",
    "# Initialising deactivated words\n",
    "stopwords = nltk.corpus.stopwords.words('english')\n",
    "\n",
    "\n",
    "def filter_descriptions(description):\n",
    "    if pd.notnull(description):\n",
    "        tokens = word_tokenize(str(description).lower())\n",
    "        filtered_tokens = [word for word in tokens if word not in stopwords]\n",
    "        for group in keyword_groups:\n",
    "            if all(word in filtered_tokens for word in group):\n",
    "                return True\n",
    "    return False\n",
    "\n",
    "# Filtering data frames and constructing lists of results\n",
    "result = []\n",
    "for index, row in df.iterrows():\n",
    "    if filter_descriptions(row['ManufacturingProcessDescription']):\n",
    "        result.append({\n",
    "            'ManufacturingProcessStep': row['ManufacturingProcessStep'],\n",
    "            'ManufacturingProcessDescription': row['ManufacturingProcessDescription'],\n",
    "            'Recipe': row['Recipe']\n",
    "        })\n",
    "\n",
    "\n",
    "print(result)"
   ]
  },
  {
   "cell_type": "code",
   "execution_count": 14,
   "metadata": {},
   "outputs": [
    {
     "name": "stderr",
     "output_type": "stream",
     "text": [
      "c:\\Users\\apple\\anaconda3\\lib\\site-packages\\spacy\\util.py:910: UserWarning:\n",
      "\n",
      "[W095] Model 'en_core_web_sm' (3.5.0) was trained with spaCy v3.5.0 and may not be 100% compatible with the current version (3.7.2). If you see errors or degraded performance, download a newer compatible model or retrain your custom model with the current spaCy version. For more details and available updates, run: python -m spacy validate\n",
      "\n"
     ]
    },
    {
     "name": "stdout",
     "output_type": "stream",
     "text": [
      "[{'ManufacturingProcessStep': 'Step 6', 'ManufacturingProcessDescription': 'Step 6: The sweet soy sauce is made by mixing sugar, water, salt, wheat, soy bean, spices, and sesame oil.', 'Recipe': 'Noodles: Wheat Flour (62%), Refined Palm Oil (Contains Antioxidant 319), Salt, Acidity Regulators (451, 501, 500), Thickener (412), Colour (101).<br>Seasoning Powder: Salt, Sugar, Flavour Enhancers (621, 631, 627), Garlic Powder, Onion Powder, Yeast Extract, Artificial Flavour, Pepper, Anti Caking Agent (551).<br>Seasoning Oil: Refined Palm Oil (Contains Antioxidant 319), Onion.<br>Sweet Soy Sauce: Sugar, Water, Salt, Wheat, Soy Bean, Spices, Sesame Oil.<br>Chilli Sauce: Chilli, Water, Sugar, Salt, Tapioca Starch, Acidity Regulators (260, 330), Herbs, Flavour Enhancers (621, 627, 631), Flavours, Preservatives 1211, 223). Fried Onion: Onion, Refined Palm Oil (Contains Antioxidant 319).'}, {'ManufacturingProcessStep': 'Step 7', 'ManufacturingProcessDescription': 'Step 7: The chilli sauce is made by mixing chilli, water, sugar, salt, tapioca starch, acidity regulators, herbs, flavour enhancers, flavours, and preservatives.', 'Recipe': 'Noodles: Wheat Flour (62%), Refined Palm Oil (Contains Antioxidant 319), Salt, Acidity Regulators (451, 501, 500), Thickener (412), Colour (101).<br>Seasoning Powder: Salt, Sugar, Flavour Enhancers (621, 631, 627), Garlic Powder, Onion Powder, Yeast Extract, Artificial Flavour, Pepper, Anti Caking Agent (551).<br>Seasoning Oil: Refined Palm Oil (Contains Antioxidant 319), Onion.<br>Sweet Soy Sauce: Sugar, Water, Salt, Wheat, Soy Bean, Spices, Sesame Oil.<br>Chilli Sauce: Chilli, Water, Sugar, Salt, Tapioca Starch, Acidity Regulators (260, 330), Herbs, Flavour Enhancers (621, 627, 631), Flavours, Preservatives 1211, 223). Fried Onion: Onion, Refined Palm Oil (Contains Antioxidant 319).'}, {'ManufacturingProcessStep': 'Step 2', 'ManufacturingProcessDescription': 'Step 2: Combining the fruit juices and purées with water, sugar, food acids, vitamin C, natural flavors, and pectin.', 'Recipe': 'Water, Reconstituted Fruit Juice (25%) (Apple or Pear, Pineapple, Orange or Water Extracted Orange, Peach Purée, Passionfruit), Sugar, Food Acids (Citric Acid, Potassium Citrate), Vitamin C, Natural Flavours, Stabiliser (Pectin).'}, {'ManufacturingProcessStep': 'Step 1', 'ManufacturingProcessDescription': 'Step 1: Canola oil, water, sugar, and vinegar are mixed together in a large vat.', 'Recipe': 'Canola Oil, Water, Sugar, Vinegar, Thickener (1422, Xanthan Gum), Free Range Egg Yolk,  Gherkin, Salt, Onion Powder, Natural Colour (Carotene, Paprika Oleoresins), Preservative (Potassium Sorbate), Dill, Acidity Regulator (Citric Acid), Herb Extract, Mustard Oil.'}, {'ManufacturingProcessStep': 'Step 1', 'ManufacturingProcessDescription': 'Step 1: Preparation of Jelly - Water, sugar, and gelling agents are combined and heated to dissolve the sugar and activate the gelling agents.', 'Recipe': 'Jelly (70%) (Water, Sugar, Gelling Agents (Carrageenan, Locust Bean Gum, Xanthan Gum), Acidity Regulators (Sodium Citrates, Potassium Citrates, Calcium Lactate, Malic Acid, Citric Acid), Natural Flavours (Pineapple, Mango), Natural Colours (Carotene, Paprika Oleoresins), Antioxidant (Ascorbic Acid)), Peach (15%), Pear (15%)'}, {'ManufacturingProcessStep': 'Step 6', 'ManufacturingProcessDescription': 'Step 6: The sweet soy sauce is made by mixing sugar, water, salt, wheat, soy bean, spices, and sesame oil.', 'Recipe': 'Noodles: Wheat Flour (62%), Refined Palm Oil (Contains Antioxidant 319), Salt, Acidity Regulators (451, 501, 500), Thickener (412), Colour (101).<br>Seasoning Powder: Salt, Sugar, Flavour Enhancers (621, 631, 627), Garlic Powder, Onion Powder, Yeast Extract, Artificial Flavour, Pepper, Anti Caking Agent (551).<br>Seasoning Oil: Refined Palm Oil (Contains Antioxidant 319), Onion.<br>Sweet Soy Sauce: Sugar, Water, Salt, Wheat, Soy Bean, Spices, Sesame Oil.<br>Chilli Sauce: Chilli, Water, Sugar, Salt, Tapioca Starch, Acidity Regulators (260, 330), Herbs, Flavour Enhancers (621, 627, 631), Flavours, Preservatives 1211, 223). Fried Onion: Onion, Refined Palm Oil (Contains Antioxidant 319).'}, {'ManufacturingProcessStep': 'Step 7', 'ManufacturingProcessDescription': 'Step 7: The chilli sauce is made by mixing chilli, water, sugar, salt, tapioca starch, acidity regulators, herbs, flavour enhancers, flavours, and preservatives.', 'Recipe': 'Noodles: Wheat Flour (62%), Refined Palm Oil (Contains Antioxidant 319), Salt, Acidity Regulators (451, 501, 500), Thickener (412), Colour (101).<br>Seasoning Powder: Salt, Sugar, Flavour Enhancers (621, 631, 627), Garlic Powder, Onion Powder, Yeast Extract, Artificial Flavour, Pepper, Anti Caking Agent (551).<br>Seasoning Oil: Refined Palm Oil (Contains Antioxidant 319), Onion.<br>Sweet Soy Sauce: Sugar, Water, Salt, Wheat, Soy Bean, Spices, Sesame Oil.<br>Chilli Sauce: Chilli, Water, Sugar, Salt, Tapioca Starch, Acidity Regulators (260, 330), Herbs, Flavour Enhancers (621, 627, 631), Flavours, Preservatives 1211, 223). Fried Onion: Onion, Refined Palm Oil (Contains Antioxidant 319).'}, {'ManufacturingProcessStep': 'Step 6', 'ManufacturingProcessDescription': 'Step 6: The sweet soy sauce is made by mixing sugar, water, salt, wheat, soy bean, spices, and sesame oil.', 'Recipe': 'Noodles: Wheat Flour (62%), Refined Palm Oil (Contains Antioxidant 319), Salt, Acidity Regulators (451, 501, 500), Thickener (412), Colour (101).<br>Seasoning Powder: Salt, Sugar, Flavour Enhancers (621, 631, 627), Garlic Powder, Onion Powder, Yeast Extract, Artificial Flavour, Pepper, Anti Caking Agent (551).<br>Seasoning Oil: Refined Palm Oil (Contains Antioxidant 319), Onion.<br>Sweet Soy Sauce: Sugar, Water, Salt, Wheat, Soy Bean, Spices, Sesame Oil.<br>Chilli Sauce: Chilli, Water, Sugar, Salt, Tapioca Starch, Acidity Regulators (260, 330), Herbs, Flavour Enhancers (621, 627, 631), Flavours, Preservatives 1211, 223). Fried Onion: Onion, Refined Palm Oil (Contains Antioxidant 319).'}, {'ManufacturingProcessStep': 'Step 7', 'ManufacturingProcessDescription': 'Step 7: The chilli sauce is made by mixing chilli, water, sugar, salt, tapioca starch, acidity regulators, herbs, flavour enhancers, flavours, and preservatives.', 'Recipe': 'Noodles: Wheat Flour (62%), Refined Palm Oil (Contains Antioxidant 319), Salt, Acidity Regulators (451, 501, 500), Thickener (412), Colour (101).<br>Seasoning Powder: Salt, Sugar, Flavour Enhancers (621, 631, 627), Garlic Powder, Onion Powder, Yeast Extract, Artificial Flavour, Pepper, Anti Caking Agent (551).<br>Seasoning Oil: Refined Palm Oil (Contains Antioxidant 319), Onion.<br>Sweet Soy Sauce: Sugar, Water, Salt, Wheat, Soy Bean, Spices, Sesame Oil.<br>Chilli Sauce: Chilli, Water, Sugar, Salt, Tapioca Starch, Acidity Regulators (260, 330), Herbs, Flavour Enhancers (621, 627, 631), Flavours, Preservatives 1211, 223). Fried Onion: Onion, Refined Palm Oil (Contains Antioxidant 319).'}, {'ManufacturingProcessStep': 'Step 6', 'ManufacturingProcessDescription': 'Step 6: The sweet soy sauce is made by mixing sugar, water, salt, wheat, soy bean, spices, and sesame oil.', 'Recipe': 'Noodles: Wheat Flour (62%), Refined Palm Oil (Contains Antioxidant 319), Salt, Acidity Regulators (451, 501, 500), Thickener (412), Colour (101).<br>Seasoning Powder: Salt, Sugar, Flavour Enhancers (621, 631, 627), Garlic Powder, Onion Powder, Yeast Extract, Artificial Flavour, Pepper, Anti Caking Agent (551).<br>Seasoning Oil: Refined Palm Oil (Contains Antioxidant 319), Onion.<br>Sweet Soy Sauce: Sugar, Water, Salt, Wheat, Soy Bean, Spices, Sesame Oil.<br>Chilli Sauce: Chilli, Water, Sugar, Salt, Tapioca Starch, Acidity Regulators (260, 330), Herbs, Flavour Enhancers (621, 627, 631), Flavours, Preservatives 1211, 223). Fried Onion: Onion, Refined Palm Oil (Contains Antioxidant 319).'}, {'ManufacturingProcessStep': 'Step 7', 'ManufacturingProcessDescription': 'Step 7: The chilli sauce is made by mixing chilli, water, sugar, salt, tapioca starch, acidity regulators, herbs, flavour enhancers, flavours, and preservatives.', 'Recipe': 'Noodles: Wheat Flour (62%), Refined Palm Oil (Contains Antioxidant 319), Salt, Acidity Regulators (451, 501, 500), Thickener (412), Colour (101).<br>Seasoning Powder: Salt, Sugar, Flavour Enhancers (621, 631, 627), Garlic Powder, Onion Powder, Yeast Extract, Artificial Flavour, Pepper, Anti Caking Agent (551).<br>Seasoning Oil: Refined Palm Oil (Contains Antioxidant 319), Onion.<br>Sweet Soy Sauce: Sugar, Water, Salt, Wheat, Soy Bean, Spices, Sesame Oil.<br>Chilli Sauce: Chilli, Water, Sugar, Salt, Tapioca Starch, Acidity Regulators (260, 330), Herbs, Flavour Enhancers (621, 627, 631), Flavours, Preservatives 1211, 223). Fried Onion: Onion, Refined Palm Oil (Contains Antioxidant 319).'}, {'ManufacturingProcessStep': 'Step 1', 'ManufacturingProcessDescription': 'Step 1: Canola oil, water, sugar, and vinegar are mixed together in a large vat.', 'Recipe': 'Canola Oil, Water, Sugar, Vinegar, Thickener (1422, Xanthan Gum), Free Range Egg Yolk,  Gherkin, Salt, Onion Powder, Natural Colour (Carotene, Paprika Oleoresins), Preservative (Potassium Sorbate), Dill, Acidity Regulator (Citric Acid), Herb Extract, Mustard Oil.'}, {'ManufacturingProcessStep': 'Step 6', 'ManufacturingProcessDescription': 'Step 6: The sweet soy sauce is made by mixing sugar, water, salt, wheat, soy bean, spices, and sesame oil.', 'Recipe': 'Noodles: Wheat Flour (62%), Refined Palm Oil (Contains Antioxidant 319), Salt, Acidity Regulators (451, 501, 500), Thickener (412), Colour (101).<br>Seasoning Powder: Salt, Sugar, Flavour Enhancers (621, 631, 627), Garlic Powder, Onion Powder, Yeast Extract, Artificial Flavour, Pepper, Anti Caking Agent (551).<br>Seasoning Oil: Refined Palm Oil (Contains Antioxidant 319), Onion.<br>Sweet Soy Sauce: Sugar, Water, Salt, Wheat, Soy Bean, Spices, Sesame Oil.<br>Chilli Sauce: Chilli, Water, Sugar, Salt, Tapioca Starch, Acidity Regulators (260, 330), Herbs, Flavour Enhancers (621, 627, 631), Flavours, Preservatives 1211, 223). Fried Onion: Onion, Refined Palm Oil (Contains Antioxidant 319).'}, {'ManufacturingProcessStep': 'Step 7', 'ManufacturingProcessDescription': 'Step 7: The chilli sauce is made by mixing chilli, water, sugar, salt, tapioca starch, acidity regulators, herbs, flavour enhancers, flavours, and preservatives.', 'Recipe': 'Noodles: Wheat Flour (62%), Refined Palm Oil (Contains Antioxidant 319), Salt, Acidity Regulators (451, 501, 500), Thickener (412), Colour (101).<br>Seasoning Powder: Salt, Sugar, Flavour Enhancers (621, 631, 627), Garlic Powder, Onion Powder, Yeast Extract, Artificial Flavour, Pepper, Anti Caking Agent (551).<br>Seasoning Oil: Refined Palm Oil (Contains Antioxidant 319), Onion.<br>Sweet Soy Sauce: Sugar, Water, Salt, Wheat, Soy Bean, Spices, Sesame Oil.<br>Chilli Sauce: Chilli, Water, Sugar, Salt, Tapioca Starch, Acidity Regulators (260, 330), Herbs, Flavour Enhancers (621, 627, 631), Flavours, Preservatives 1211, 223). Fried Onion: Onion, Refined Palm Oil (Contains Antioxidant 319).'}, {'ManufacturingProcessStep': 'Step 6', 'ManufacturingProcessDescription': 'Step 6: The sweet soy sauce is made by mixing sugar, water, salt, wheat, soy bean, spices, and sesame oil.', 'Recipe': 'Noodles: Wheat Flour (62%), Refined Palm Oil (Contains Antioxidant 319), Salt, Acidity Regulators (451, 501, 500), Thickener (412), Colour (101).<br>Seasoning Powder: Salt, Sugar, Flavour Enhancers (621, 631, 627), Garlic Powder, Onion Powder, Yeast Extract, Artificial Flavour, Pepper, Anti Caking Agent (551).<br>Seasoning Oil: Refined Palm Oil (Contains Antioxidant 319), Onion.<br>Sweet Soy Sauce: Sugar, Water, Salt, Wheat, Soy Bean, Spices, Sesame Oil.<br>Chilli Sauce: Chilli, Water, Sugar, Salt, Tapioca Starch, Acidity Regulators (260, 330), Herbs, Flavour Enhancers (621, 627, 631), Flavours, Preservatives 1211, 223). Fried Onion: Onion, Refined Palm Oil (Contains Antioxidant 319).'}, {'ManufacturingProcessStep': 'Step 7', 'ManufacturingProcessDescription': 'Step 7: The chilli sauce is made by mixing chilli, water, sugar, salt, tapioca starch, acidity regulators, herbs, flavour enhancers, flavours, and preservatives.', 'Recipe': 'Noodles: Wheat Flour (62%), Refined Palm Oil (Contains Antioxidant 319), Salt, Acidity Regulators (451, 501, 500), Thickener (412), Colour (101).<br>Seasoning Powder: Salt, Sugar, Flavour Enhancers (621, 631, 627), Garlic Powder, Onion Powder, Yeast Extract, Artificial Flavour, Pepper, Anti Caking Agent (551).<br>Seasoning Oil: Refined Palm Oil (Contains Antioxidant 319), Onion.<br>Sweet Soy Sauce: Sugar, Water, Salt, Wheat, Soy Bean, Spices, Sesame Oil.<br>Chilli Sauce: Chilli, Water, Sugar, Salt, Tapioca Starch, Acidity Regulators (260, 330), Herbs, Flavour Enhancers (621, 627, 631), Flavours, Preservatives 1211, 223). Fried Onion: Onion, Refined Palm Oil (Contains Antioxidant 319).'}, {'ManufacturingProcessStep': 'Step 6', 'ManufacturingProcessDescription': 'Step 6: The sweet soy sauce is made by mixing sugar, water, salt, wheat, soy bean, spices, and sesame oil.', 'Recipe': 'Noodles: Wheat Flour (62%), Refined Palm Oil (Contains Antioxidant 319), Salt, Acidity Regulators (451, 501, 500), Thickener (412), Colour (101).<br>Seasoning Powder: Salt, Sugar, Flavour Enhancers (621, 631, 627), Garlic Powder, Onion Powder, Yeast Extract, Artificial Flavour, Pepper, Anti Caking Agent (551).<br>Seasoning Oil: Refined Palm Oil (Contains Antioxidant 319), Onion.<br>Sweet Soy Sauce: Sugar, Water, Salt, Wheat, Soy Bean, Spices, Sesame Oil.<br>Chilli Sauce: Chilli, Water, Sugar, Salt, Tapioca Starch, Acidity Regulators (260, 330), Herbs, Flavour Enhancers (621, 627, 631), Flavours, Preservatives 1211, 223). Fried Onion: Onion, Refined Palm Oil (Contains Antioxidant 319).'}, {'ManufacturingProcessStep': 'Step 7', 'ManufacturingProcessDescription': 'Step 7: The chilli sauce is made by mixing chilli, water, sugar, salt, tapioca starch, acidity regulators, herbs, flavour enhancers, flavours, and preservatives.', 'Recipe': 'Noodles: Wheat Flour (62%), Refined Palm Oil (Contains Antioxidant 319), Salt, Acidity Regulators (451, 501, 500), Thickener (412), Colour (101).<br>Seasoning Powder: Salt, Sugar, Flavour Enhancers (621, 631, 627), Garlic Powder, Onion Powder, Yeast Extract, Artificial Flavour, Pepper, Anti Caking Agent (551).<br>Seasoning Oil: Refined Palm Oil (Contains Antioxidant 319), Onion.<br>Sweet Soy Sauce: Sugar, Water, Salt, Wheat, Soy Bean, Spices, Sesame Oil.<br>Chilli Sauce: Chilli, Water, Sugar, Salt, Tapioca Starch, Acidity Regulators (260, 330), Herbs, Flavour Enhancers (621, 627, 631), Flavours, Preservatives 1211, 223). Fried Onion: Onion, Refined Palm Oil (Contains Antioxidant 319).'}, {'ManufacturingProcessStep': 'Step 6', 'ManufacturingProcessDescription': 'Step 6: The sweet soy sauce is made by mixing sugar, water, salt, wheat, soy bean, spices, and sesame oil.', 'Recipe': 'Noodles: Wheat Flour (62%), Refined Palm Oil (Contains Antioxidant 319), Salt, Acidity Regulators (451, 501, 500), Thickener (412), Colour (101).<br>Seasoning Powder: Salt, Sugar, Flavour Enhancers (621, 631, 627), Garlic Powder, Onion Powder, Yeast Extract, Artificial Flavour, Pepper, Anti Caking Agent (551).<br>Seasoning Oil: Refined Palm Oil (Contains Antioxidant 319), Onion.<br>Sweet Soy Sauce: Sugar, Water, Salt, Wheat, Soy Bean, Spices, Sesame Oil.<br>Chilli Sauce: Chilli, Water, Sugar, Salt, Tapioca Starch, Acidity Regulators (260, 330), Herbs, Flavour Enhancers (621, 627, 631), Flavours, Preservatives 1211, 223). Fried Onion: Onion, Refined Palm Oil (Contains Antioxidant 319).'}, {'ManufacturingProcessStep': 'Step 7', 'ManufacturingProcessDescription': 'Step 7: The chilli sauce is made by mixing chilli, water, sugar, salt, tapioca starch, acidity regulators, herbs, flavour enhancers, flavours, and preservatives.', 'Recipe': 'Noodles: Wheat Flour (62%), Refined Palm Oil (Contains Antioxidant 319), Salt, Acidity Regulators (451, 501, 500), Thickener (412), Colour (101).<br>Seasoning Powder: Salt, Sugar, Flavour Enhancers (621, 631, 627), Garlic Powder, Onion Powder, Yeast Extract, Artificial Flavour, Pepper, Anti Caking Agent (551).<br>Seasoning Oil: Refined Palm Oil (Contains Antioxidant 319), Onion.<br>Sweet Soy Sauce: Sugar, Water, Salt, Wheat, Soy Bean, Spices, Sesame Oil.<br>Chilli Sauce: Chilli, Water, Sugar, Salt, Tapioca Starch, Acidity Regulators (260, 330), Herbs, Flavour Enhancers (621, 627, 631), Flavours, Preservatives 1211, 223). Fried Onion: Onion, Refined Palm Oil (Contains Antioxidant 319).'}, {'ManufacturingProcessStep': 'Step 6', 'ManufacturingProcessDescription': 'Step 6: The sweet soy sauce is made by mixing sugar, water, salt, wheat, soy bean, spices, and sesame oil.', 'Recipe': 'Noodles: Wheat Flour (62%), Refined Palm Oil (Contains Antioxidant 319), Salt, Acidity Regulators (451, 501, 500), Thickener (412), Colour (101).<br>Seasoning Powder: Salt, Sugar, Flavour Enhancers (621, 631, 627), Garlic Powder, Onion Powder, Yeast Extract, Artificial Flavour, Pepper, Anti Caking Agent (551).<br>Seasoning Oil: Refined Palm Oil (Contains Antioxidant 319), Onion.<br>Sweet Soy Sauce: Sugar, Water, Salt, Wheat, Soy Bean, Spices, Sesame Oil.<br>Chilli Sauce: Chilli, Water, Sugar, Salt, Tapioca Starch, Acidity Regulators (260, 330), Herbs, Flavour Enhancers (621, 627, 631), Flavours, Preservatives 1211, 223). Fried Onion: Onion, Refined Palm Oil (Contains Antioxidant 319).'}, {'ManufacturingProcessStep': 'Step 7', 'ManufacturingProcessDescription': 'Step 7: The chilli sauce is made by mixing chilli, water, sugar, salt, tapioca starch, acidity regulators, herbs, flavour enhancers, flavours, and preservatives.', 'Recipe': 'Noodles: Wheat Flour (62%), Refined Palm Oil (Contains Antioxidant 319), Salt, Acidity Regulators (451, 501, 500), Thickener (412), Colour (101).<br>Seasoning Powder: Salt, Sugar, Flavour Enhancers (621, 631, 627), Garlic Powder, Onion Powder, Yeast Extract, Artificial Flavour, Pepper, Anti Caking Agent (551).<br>Seasoning Oil: Refined Palm Oil (Contains Antioxidant 319), Onion.<br>Sweet Soy Sauce: Sugar, Water, Salt, Wheat, Soy Bean, Spices, Sesame Oil.<br>Chilli Sauce: Chilli, Water, Sugar, Salt, Tapioca Starch, Acidity Regulators (260, 330), Herbs, Flavour Enhancers (621, 627, 631), Flavours, Preservatives 1211, 223). Fried Onion: Onion, Refined Palm Oil (Contains Antioxidant 319).'}, {'ManufacturingProcessStep': 'Step 6', 'ManufacturingProcessDescription': 'Step 6: The sweet soy sauce is made by mixing sugar, water, salt, wheat, soy bean, spices, and sesame oil.', 'Recipe': 'Noodles: Wheat Flour (62%), Refined Palm Oil (Contains Antioxidant 319), Salt, Acidity Regulators (451, 501, 500), Thickener (412), Colour (101).<br>Seasoning Powder: Salt, Sugar, Flavour Enhancers (621, 631, 627), Garlic Powder, Onion Powder, Yeast Extract, Artificial Flavour, Pepper, Anti Caking Agent (551).<br>Seasoning Oil: Refined Palm Oil (Contains Antioxidant 319), Onion.<br>Sweet Soy Sauce: Sugar, Water, Salt, Wheat, Soy Bean, Spices, Sesame Oil.<br>Chilli Sauce: Chilli, Water, Sugar, Salt, Tapioca Starch, Acidity Regulators (260, 330), Herbs, Flavour Enhancers (621, 627, 631), Flavours, Preservatives 1211, 223). Fried Onion: Onion, Refined Palm Oil (Contains Antioxidant 319).'}, {'ManufacturingProcessStep': 'Step 7', 'ManufacturingProcessDescription': 'Step 7: The chilli sauce is made by mixing chilli, water, sugar, salt, tapioca starch, acidity regulators, herbs, flavour enhancers, flavours, and preservatives.', 'Recipe': 'Noodles: Wheat Flour (62%), Refined Palm Oil (Contains Antioxidant 319), Salt, Acidity Regulators (451, 501, 500), Thickener (412), Colour (101).<br>Seasoning Powder: Salt, Sugar, Flavour Enhancers (621, 631, 627), Garlic Powder, Onion Powder, Yeast Extract, Artificial Flavour, Pepper, Anti Caking Agent (551).<br>Seasoning Oil: Refined Palm Oil (Contains Antioxidant 319), Onion.<br>Sweet Soy Sauce: Sugar, Water, Salt, Wheat, Soy Bean, Spices, Sesame Oil.<br>Chilli Sauce: Chilli, Water, Sugar, Salt, Tapioca Starch, Acidity Regulators (260, 330), Herbs, Flavour Enhancers (621, 627, 631), Flavours, Preservatives 1211, 223). Fried Onion: Onion, Refined Palm Oil (Contains Antioxidant 319).'}, {'ManufacturingProcessStep': 'Step 6', 'ManufacturingProcessDescription': 'Step 6: The sweet soy sauce is made by mixing sugar, water, salt, wheat, soy bean, spices, and sesame oil.', 'Recipe': 'Noodles: Wheat Flour (62%), Refined Palm Oil (Contains Antioxidant 319), Salt, Acidity Regulators (451, 501, 500), Thickener (412), Colour (101).<br>Seasoning Powder: Salt, Sugar, Flavour Enhancers (621, 631, 627), Garlic Powder, Onion Powder, Yeast Extract, Artificial Flavour, Pepper, Anti Caking Agent (551).<br>Seasoning Oil: Refined Palm Oil (Contains Antioxidant 319), Onion.<br>Sweet Soy Sauce: Sugar, Water, Salt, Wheat, Soy Bean, Spices, Sesame Oil.<br>Chilli Sauce: Chilli, Water, Sugar, Salt, Tapioca Starch, Acidity Regulators (260, 330), Herbs, Flavour Enhancers (621, 627, 631), Flavours, Preservatives 1211, 223). Fried Onion: Onion, Refined Palm Oil (Contains Antioxidant 319).'}, {'ManufacturingProcessStep': 'Step 7', 'ManufacturingProcessDescription': 'Step 7: The chilli sauce is made by mixing chilli, water, sugar, salt, tapioca starch, acidity regulators, herbs, flavour enhancers, flavours, and preservatives.', 'Recipe': 'Noodles: Wheat Flour (62%), Refined Palm Oil (Contains Antioxidant 319), Salt, Acidity Regulators (451, 501, 500), Thickener (412), Colour (101).<br>Seasoning Powder: Salt, Sugar, Flavour Enhancers (621, 631, 627), Garlic Powder, Onion Powder, Yeast Extract, Artificial Flavour, Pepper, Anti Caking Agent (551).<br>Seasoning Oil: Refined Palm Oil (Contains Antioxidant 319), Onion.<br>Sweet Soy Sauce: Sugar, Water, Salt, Wheat, Soy Bean, Spices, Sesame Oil.<br>Chilli Sauce: Chilli, Water, Sugar, Salt, Tapioca Starch, Acidity Regulators (260, 330), Herbs, Flavour Enhancers (621, 627, 631), Flavours, Preservatives 1211, 223). Fried Onion: Onion, Refined Palm Oil (Contains Antioxidant 319).'}, {'ManufacturingProcessStep': 'Step 6', 'ManufacturingProcessDescription': 'Step 6: The sweet soy sauce is made by mixing sugar, water, salt, wheat, soy bean, spices, and sesame oil.', 'Recipe': 'Noodles: Wheat Flour (62%), Refined Palm Oil (Contains Antioxidant 319), Salt, Acidity Regulators (451, 501, 500), Thickener (412), Colour (101).<br>Seasoning Powder: Salt, Sugar, Flavour Enhancers (621, 631, 627), Garlic Powder, Onion Powder, Yeast Extract, Artificial Flavour, Pepper, Anti Caking Agent (551).<br>Seasoning Oil: Refined Palm Oil (Contains Antioxidant 319), Onion.<br>Sweet Soy Sauce: Sugar, Water, Salt, Wheat, Soy Bean, Spices, Sesame Oil.<br>Chilli Sauce: Chilli, Water, Sugar, Salt, Tapioca Starch, Acidity Regulators (260, 330), Herbs, Flavour Enhancers (621, 627, 631), Flavours, Preservatives 1211, 223). Fried Onion: Onion, Refined Palm Oil (Contains Antioxidant 319).'}, {'ManufacturingProcessStep': 'Step 7', 'ManufacturingProcessDescription': 'Step 7: The chilli sauce is made by mixing chilli, water, sugar, salt, tapioca starch, acidity regulators, herbs, flavour enhancers, flavours, and preservatives.', 'Recipe': 'Noodles: Wheat Flour (62%), Refined Palm Oil (Contains Antioxidant 319), Salt, Acidity Regulators (451, 501, 500), Thickener (412), Colour (101).<br>Seasoning Powder: Salt, Sugar, Flavour Enhancers (621, 631, 627), Garlic Powder, Onion Powder, Yeast Extract, Artificial Flavour, Pepper, Anti Caking Agent (551).<br>Seasoning Oil: Refined Palm Oil (Contains Antioxidant 319), Onion.<br>Sweet Soy Sauce: Sugar, Water, Salt, Wheat, Soy Bean, Spices, Sesame Oil.<br>Chilli Sauce: Chilli, Water, Sugar, Salt, Tapioca Starch, Acidity Regulators (260, 330), Herbs, Flavour Enhancers (621, 627, 631), Flavours, Preservatives 1211, 223). Fried Onion: Onion, Refined Palm Oil (Contains Antioxidant 319).'}, {'ManufacturingProcessStep': 'Step 6', 'ManufacturingProcessDescription': 'Step 6: The sweet soy sauce is made by mixing sugar, water, salt, wheat, soy bean, spices, and sesame oil.', 'Recipe': 'Noodles: Wheat Flour (62%), Refined Palm Oil (Contains Antioxidant 319), Salt, Acidity Regulators (451, 501, 500), Thickener (412), Colour (101).<br>Seasoning Powder: Salt, Sugar, Flavour Enhancers (621, 631, 627), Garlic Powder, Onion Powder, Yeast Extract, Artificial Flavour, Pepper, Anti Caking Agent (551).<br>Seasoning Oil: Refined Palm Oil (Contains Antioxidant 319), Onion.<br>Sweet Soy Sauce: Sugar, Water, Salt, Wheat, Soy Bean, Spices, Sesame Oil.<br>Chilli Sauce: Chilli, Water, Sugar, Salt, Tapioca Starch, Acidity Regulators (260, 330), Herbs, Flavour Enhancers (621, 627, 631), Flavours, Preservatives 1211, 223). Fried Onion: Onion, Refined Palm Oil (Contains Antioxidant 319).'}, {'ManufacturingProcessStep': 'Step 7', 'ManufacturingProcessDescription': 'Step 7: The chilli sauce is made by mixing chilli, water, sugar, salt, tapioca starch, acidity regulators, herbs, flavour enhancers, flavours, and preservatives.', 'Recipe': 'Noodles: Wheat Flour (62%), Refined Palm Oil (Contains Antioxidant 319), Salt, Acidity Regulators (451, 501, 500), Thickener (412), Colour (101).<br>Seasoning Powder: Salt, Sugar, Flavour Enhancers (621, 631, 627), Garlic Powder, Onion Powder, Yeast Extract, Artificial Flavour, Pepper, Anti Caking Agent (551).<br>Seasoning Oil: Refined Palm Oil (Contains Antioxidant 319), Onion.<br>Sweet Soy Sauce: Sugar, Water, Salt, Wheat, Soy Bean, Spices, Sesame Oil.<br>Chilli Sauce: Chilli, Water, Sugar, Salt, Tapioca Starch, Acidity Regulators (260, 330), Herbs, Flavour Enhancers (621, 627, 631), Flavours, Preservatives 1211, 223). Fried Onion: Onion, Refined Palm Oil (Contains Antioxidant 319).'}, {'ManufacturingProcessStep': 'Step 6', 'ManufacturingProcessDescription': 'Step 6: The sweet soy sauce is made by mixing sugar, water, salt, wheat, soy bean, spices, and sesame oil.', 'Recipe': 'Noodles: Wheat Flour (62%), Refined Palm Oil (Contains Antioxidant 319), Salt, Acidity Regulators (451, 501, 500), Thickener (412), Colour (101).<br>Seasoning Powder: Salt, Sugar, Flavour Enhancers (621, 631, 627), Garlic Powder, Onion Powder, Yeast Extract, Artificial Flavour, Pepper, Anti Caking Agent (551).<br>Seasoning Oil: Refined Palm Oil (Contains Antioxidant 319), Onion.<br>Sweet Soy Sauce: Sugar, Water, Salt, Wheat, Soy Bean, Spices, Sesame Oil.<br>Chilli Sauce: Chilli, Water, Sugar, Salt, Tapioca Starch, Acidity Regulators (260, 330), Herbs, Flavour Enhancers (621, 627, 631), Flavours, Preservatives 1211, 223). Fried Onion: Onion, Refined Palm Oil (Contains Antioxidant 319).'}, {'ManufacturingProcessStep': 'Step 7', 'ManufacturingProcessDescription': 'Step 7: The chilli sauce is made by mixing chilli, water, sugar, salt, tapioca starch, acidity regulators, herbs, flavour enhancers, flavours, and preservatives.', 'Recipe': 'Noodles: Wheat Flour (62%), Refined Palm Oil (Contains Antioxidant 319), Salt, Acidity Regulators (451, 501, 500), Thickener (412), Colour (101).<br>Seasoning Powder: Salt, Sugar, Flavour Enhancers (621, 631, 627), Garlic Powder, Onion Powder, Yeast Extract, Artificial Flavour, Pepper, Anti Caking Agent (551).<br>Seasoning Oil: Refined Palm Oil (Contains Antioxidant 319), Onion.<br>Sweet Soy Sauce: Sugar, Water, Salt, Wheat, Soy Bean, Spices, Sesame Oil.<br>Chilli Sauce: Chilli, Water, Sugar, Salt, Tapioca Starch, Acidity Regulators (260, 330), Herbs, Flavour Enhancers (621, 627, 631), Flavours, Preservatives 1211, 223). Fried Onion: Onion, Refined Palm Oil (Contains Antioxidant 319).'}, {'ManufacturingProcessStep': 'Step 1', 'ManufacturingProcessDescription': 'Step 1: Canola oil, water, sugar, and vinegar are mixed together in a large vat.', 'Recipe': 'Canola Oil, Water, Sugar, Vinegar, Thickener (1422, Xanthan Gum), Free Range Egg Yolk,  Gherkin, Salt, Onion Powder, Natural Colour (Carotene, Paprika Oleoresins), Preservative (Potassium Sorbate), Dill, Acidity Regulator (Citric Acid), Herb Extract, Mustard Oil.'}, {'ManufacturingProcessStep': 'Step 6', 'ManufacturingProcessDescription': 'Step 6: The sweet soy sauce is made by mixing sugar, water, salt, wheat, soy bean, spices, and sesame oil.', 'Recipe': 'Noodles: Wheat Flour (62%), Refined Palm Oil (Contains Antioxidant 319), Salt, Acidity Regulators (451, 501, 500), Thickener (412), Colour (101).<br>Seasoning Powder: Salt, Sugar, Flavour Enhancers (621, 631, 627), Garlic Powder, Onion Powder, Yeast Extract, Artificial Flavour, Pepper, Anti Caking Agent (551).<br>Seasoning Oil: Refined Palm Oil (Contains Antioxidant 319), Onion.<br>Sweet Soy Sauce: Sugar, Water, Salt, Wheat, Soy Bean, Spices, Sesame Oil.<br>Chilli Sauce: Chilli, Water, Sugar, Salt, Tapioca Starch, Acidity Regulators (260, 330), Herbs, Flavour Enhancers (621, 627, 631), Flavours, Preservatives 1211, 223). Fried Onion: Onion, Refined Palm Oil (Contains Antioxidant 319).'}, {'ManufacturingProcessStep': 'Step 7', 'ManufacturingProcessDescription': 'Step 7: The chilli sauce is made by mixing chilli, water, sugar, salt, tapioca starch, acidity regulators, herbs, flavour enhancers, flavours, and preservatives.', 'Recipe': 'Noodles: Wheat Flour (62%), Refined Palm Oil (Contains Antioxidant 319), Salt, Acidity Regulators (451, 501, 500), Thickener (412), Colour (101).<br>Seasoning Powder: Salt, Sugar, Flavour Enhancers (621, 631, 627), Garlic Powder, Onion Powder, Yeast Extract, Artificial Flavour, Pepper, Anti Caking Agent (551).<br>Seasoning Oil: Refined Palm Oil (Contains Antioxidant 319), Onion.<br>Sweet Soy Sauce: Sugar, Water, Salt, Wheat, Soy Bean, Spices, Sesame Oil.<br>Chilli Sauce: Chilli, Water, Sugar, Salt, Tapioca Starch, Acidity Regulators (260, 330), Herbs, Flavour Enhancers (621, 627, 631), Flavours, Preservatives 1211, 223). Fried Onion: Onion, Refined Palm Oil (Contains Antioxidant 319).'}, {'ManufacturingProcessStep': 'Step 6', 'ManufacturingProcessDescription': 'Step 6: The sweet soy sauce is made by mixing sugar, water, salt, wheat, soy bean, spices, and sesame oil.', 'Recipe': 'Noodles: Wheat Flour (62%), Refined Palm Oil (Contains Antioxidant 319), Salt, Acidity Regulators (451, 501, 500), Thickener (412), Colour (101).<br>Seasoning Powder: Salt, Sugar, Flavour Enhancers (621, 631, 627), Garlic Powder, Onion Powder, Yeast Extract, Artificial Flavour, Pepper, Anti Caking Agent (551).<br>Seasoning Oil: Refined Palm Oil (Contains Antioxidant 319), Onion.<br>Sweet Soy Sauce: Sugar, Water, Salt, Wheat, Soy Bean, Spices, Sesame Oil.<br>Chilli Sauce: Chilli, Water, Sugar, Salt, Tapioca Starch, Acidity Regulators (260, 330), Herbs, Flavour Enhancers (621, 627, 631), Flavours, Preservatives 1211, 223). Fried Onion: Onion, Refined Palm Oil (Contains Antioxidant 319).'}, {'ManufacturingProcessStep': 'Step 7', 'ManufacturingProcessDescription': 'Step 7: The chilli sauce is made by mixing chilli, water, sugar, salt, tapioca starch, acidity regulators, herbs, flavour enhancers, flavours, and preservatives.', 'Recipe': 'Noodles: Wheat Flour (62%), Refined Palm Oil (Contains Antioxidant 319), Salt, Acidity Regulators (451, 501, 500), Thickener (412), Colour (101).<br>Seasoning Powder: Salt, Sugar, Flavour Enhancers (621, 631, 627), Garlic Powder, Onion Powder, Yeast Extract, Artificial Flavour, Pepper, Anti Caking Agent (551).<br>Seasoning Oil: Refined Palm Oil (Contains Antioxidant 319), Onion.<br>Sweet Soy Sauce: Sugar, Water, Salt, Wheat, Soy Bean, Spices, Sesame Oil.<br>Chilli Sauce: Chilli, Water, Sugar, Salt, Tapioca Starch, Acidity Regulators (260, 330), Herbs, Flavour Enhancers (621, 627, 631), Flavours, Preservatives 1211, 223). Fried Onion: Onion, Refined Palm Oil (Contains Antioxidant 319).'}, {'ManufacturingProcessStep': 'Step 6', 'ManufacturingProcessDescription': 'Step 6: The sweet soy sauce is made by mixing sugar, water, salt, wheat, soy bean, spices, and sesame oil.', 'Recipe': 'Noodles: Wheat Flour (62%), Refined Palm Oil (Contains Antioxidant 319), Salt, Acidity Regulators (451, 501, 500), Thickener (412), Colour (101).<br>Seasoning Powder: Salt, Sugar, Flavour Enhancers (621, 631, 627), Garlic Powder, Onion Powder, Yeast Extract, Artificial Flavour, Pepper, Anti Caking Agent (551).<br>Seasoning Oil: Refined Palm Oil (Contains Antioxidant 319), Onion.<br>Sweet Soy Sauce: Sugar, Water, Salt, Wheat, Soy Bean, Spices, Sesame Oil.<br>Chilli Sauce: Chilli, Water, Sugar, Salt, Tapioca Starch, Acidity Regulators (260, 330), Herbs, Flavour Enhancers (621, 627, 631), Flavours, Preservatives 1211, 223). Fried Onion: Onion, Refined Palm Oil (Contains Antioxidant 319).'}, {'ManufacturingProcessStep': 'Step 7', 'ManufacturingProcessDescription': 'Step 7: The chilli sauce is made by mixing chilli, water, sugar, salt, tapioca starch, acidity regulators, herbs, flavour enhancers, flavours, and preservatives.', 'Recipe': 'Noodles: Wheat Flour (62%), Refined Palm Oil (Contains Antioxidant 319), Salt, Acidity Regulators (451, 501, 500), Thickener (412), Colour (101).<br>Seasoning Powder: Salt, Sugar, Flavour Enhancers (621, 631, 627), Garlic Powder, Onion Powder, Yeast Extract, Artificial Flavour, Pepper, Anti Caking Agent (551).<br>Seasoning Oil: Refined Palm Oil (Contains Antioxidant 319), Onion.<br>Sweet Soy Sauce: Sugar, Water, Salt, Wheat, Soy Bean, Spices, Sesame Oil.<br>Chilli Sauce: Chilli, Water, Sugar, Salt, Tapioca Starch, Acidity Regulators (260, 330), Herbs, Flavour Enhancers (621, 627, 631), Flavours, Preservatives 1211, 223). Fried Onion: Onion, Refined Palm Oil (Contains Antioxidant 319).'}, {'ManufacturingProcessStep': 'Step 6', 'ManufacturingProcessDescription': 'Step 6: The sweet soy sauce is made by mixing sugar, water, salt, wheat, soy bean, spices, and sesame oil.', 'Recipe': 'Noodles: Wheat Flour (62%), Refined Palm Oil (Contains Antioxidant 319), Salt, Acidity Regulators (451, 501, 500), Thickener (412), Colour (101).<br>Seasoning Powder: Salt, Sugar, Flavour Enhancers (621, 631, 627), Garlic Powder, Onion Powder, Yeast Extract, Artificial Flavour, Pepper, Anti Caking Agent (551).<br>Seasoning Oil: Refined Palm Oil (Contains Antioxidant 319), Onion.<br>Sweet Soy Sauce: Sugar, Water, Salt, Wheat, Soy Bean, Spices, Sesame Oil.<br>Chilli Sauce: Chilli, Water, Sugar, Salt, Tapioca Starch, Acidity Regulators (260, 330), Herbs, Flavour Enhancers (621, 627, 631), Flavours, Preservatives 1211, 223). Fried Onion: Onion, Refined Palm Oil (Contains Antioxidant 319).'}, {'ManufacturingProcessStep': 'Step 7', 'ManufacturingProcessDescription': 'Step 7: The chilli sauce is made by mixing chilli, water, sugar, salt, tapioca starch, acidity regulators, herbs, flavour enhancers, flavours, and preservatives.', 'Recipe': 'Noodles: Wheat Flour (62%), Refined Palm Oil (Contains Antioxidant 319), Salt, Acidity Regulators (451, 501, 500), Thickener (412), Colour (101).<br>Seasoning Powder: Salt, Sugar, Flavour Enhancers (621, 631, 627), Garlic Powder, Onion Powder, Yeast Extract, Artificial Flavour, Pepper, Anti Caking Agent (551).<br>Seasoning Oil: Refined Palm Oil (Contains Antioxidant 319), Onion.<br>Sweet Soy Sauce: Sugar, Water, Salt, Wheat, Soy Bean, Spices, Sesame Oil.<br>Chilli Sauce: Chilli, Water, Sugar, Salt, Tapioca Starch, Acidity Regulators (260, 330), Herbs, Flavour Enhancers (621, 627, 631), Flavours, Preservatives 1211, 223). Fried Onion: Onion, Refined Palm Oil (Contains Antioxidant 319).'}, {'ManufacturingProcessStep': 'Step 6', 'ManufacturingProcessDescription': 'Step 6: The sweet soy sauce is made by mixing sugar, water, salt, wheat, soy bean, spices, and sesame oil.', 'Recipe': 'Noodles: Wheat Flour (62%), Refined Palm Oil (Contains Antioxidant 319), Salt, Acidity Regulators (451, 501, 500), Thickener (412), Colour (101).<br>Seasoning Powder: Salt, Sugar, Flavour Enhancers (621, 631, 627), Garlic Powder, Onion Powder, Yeast Extract, Artificial Flavour, Pepper, Anti Caking Agent (551).<br>Seasoning Oil: Refined Palm Oil (Contains Antioxidant 319), Onion.<br>Sweet Soy Sauce: Sugar, Water, Salt, Wheat, Soy Bean, Spices, Sesame Oil.<br>Chilli Sauce: Chilli, Water, Sugar, Salt, Tapioca Starch, Acidity Regulators (260, 330), Herbs, Flavour Enhancers (621, 627, 631), Flavours, Preservatives 1211, 223). Fried Onion: Onion, Refined Palm Oil (Contains Antioxidant 319).'}, {'ManufacturingProcessStep': 'Step 7', 'ManufacturingProcessDescription': 'Step 7: The chilli sauce is made by mixing chilli, water, sugar, salt, tapioca starch, acidity regulators, herbs, flavour enhancers, flavours, and preservatives.', 'Recipe': 'Noodles: Wheat Flour (62%), Refined Palm Oil (Contains Antioxidant 319), Salt, Acidity Regulators (451, 501, 500), Thickener (412), Colour (101).<br>Seasoning Powder: Salt, Sugar, Flavour Enhancers (621, 631, 627), Garlic Powder, Onion Powder, Yeast Extract, Artificial Flavour, Pepper, Anti Caking Agent (551).<br>Seasoning Oil: Refined Palm Oil (Contains Antioxidant 319), Onion.<br>Sweet Soy Sauce: Sugar, Water, Salt, Wheat, Soy Bean, Spices, Sesame Oil.<br>Chilli Sauce: Chilli, Water, Sugar, Salt, Tapioca Starch, Acidity Regulators (260, 330), Herbs, Flavour Enhancers (621, 627, 631), Flavours, Preservatives 1211, 223). Fried Onion: Onion, Refined Palm Oil (Contains Antioxidant 319).'}, {'ManufacturingProcessStep': 'Step 6', 'ManufacturingProcessDescription': 'Step 6: The sweet soy sauce is made by mixing sugar, water, salt, wheat, soy bean, spices, and sesame oil.', 'Recipe': 'Noodles: Wheat Flour (62%), Refined Palm Oil (Contains Antioxidant 319), Salt, Acidity Regulators (451, 501, 500), Thickener (412), Colour (101).<br>Seasoning Powder: Salt, Sugar, Flavour Enhancers (621, 631, 627), Garlic Powder, Onion Powder, Yeast Extract, Artificial Flavour, Pepper, Anti Caking Agent (551).<br>Seasoning Oil: Refined Palm Oil (Contains Antioxidant 319), Onion.<br>Sweet Soy Sauce: Sugar, Water, Salt, Wheat, Soy Bean, Spices, Sesame Oil.<br>Chilli Sauce: Chilli, Water, Sugar, Salt, Tapioca Starch, Acidity Regulators (260, 330), Herbs, Flavour Enhancers (621, 627, 631), Flavours, Preservatives 1211, 223). Fried Onion: Onion, Refined Palm Oil (Contains Antioxidant 319).'}, {'ManufacturingProcessStep': 'Step 7', 'ManufacturingProcessDescription': 'Step 7: The chilli sauce is made by mixing chilli, water, sugar, salt, tapioca starch, acidity regulators, herbs, flavour enhancers, flavours, and preservatives.', 'Recipe': 'Noodles: Wheat Flour (62%), Refined Palm Oil (Contains Antioxidant 319), Salt, Acidity Regulators (451, 501, 500), Thickener (412), Colour (101).<br>Seasoning Powder: Salt, Sugar, Flavour Enhancers (621, 631, 627), Garlic Powder, Onion Powder, Yeast Extract, Artificial Flavour, Pepper, Anti Caking Agent (551).<br>Seasoning Oil: Refined Palm Oil (Contains Antioxidant 319), Onion.<br>Sweet Soy Sauce: Sugar, Water, Salt, Wheat, Soy Bean, Spices, Sesame Oil.<br>Chilli Sauce: Chilli, Water, Sugar, Salt, Tapioca Starch, Acidity Regulators (260, 330), Herbs, Flavour Enhancers (621, 627, 631), Flavours, Preservatives 1211, 223). Fried Onion: Onion, Refined Palm Oil (Contains Antioxidant 319).'}, {'ManufacturingProcessStep': 'Step 6', 'ManufacturingProcessDescription': 'Step 6: The sweet soy sauce is made by mixing sugar, water, salt, wheat, soy bean, spices, and sesame oil.', 'Recipe': 'Noodles: Wheat Flour (62%), Refined Palm Oil (Contains Antioxidant 319), Salt, Acidity Regulators (451, 501, 500), Thickener (412), Colour (101).<br>Seasoning Powder: Salt, Sugar, Flavour Enhancers (621, 631, 627), Garlic Powder, Onion Powder, Yeast Extract, Artificial Flavour, Pepper, Anti Caking Agent (551).<br>Seasoning Oil: Refined Palm Oil (Contains Antioxidant 319), Onion.<br>Sweet Soy Sauce: Sugar, Water, Salt, Wheat, Soy Bean, Spices, Sesame Oil.<br>Chilli Sauce: Chilli, Water, Sugar, Salt, Tapioca Starch, Acidity Regulators (260, 330), Herbs, Flavour Enhancers (621, 627, 631), Flavours, Preservatives 1211, 223). Fried Onion: Onion, Refined Palm Oil (Contains Antioxidant 319).'}, {'ManufacturingProcessStep': 'Step 7', 'ManufacturingProcessDescription': 'Step 7: The chilli sauce is made by mixing chilli, water, sugar, salt, tapioca starch, acidity regulators, herbs, flavour enhancers, flavours, and preservatives.', 'Recipe': 'Noodles: Wheat Flour (62%), Refined Palm Oil (Contains Antioxidant 319), Salt, Acidity Regulators (451, 501, 500), Thickener (412), Colour (101).<br>Seasoning Powder: Salt, Sugar, Flavour Enhancers (621, 631, 627), Garlic Powder, Onion Powder, Yeast Extract, Artificial Flavour, Pepper, Anti Caking Agent (551).<br>Seasoning Oil: Refined Palm Oil (Contains Antioxidant 319), Onion.<br>Sweet Soy Sauce: Sugar, Water, Salt, Wheat, Soy Bean, Spices, Sesame Oil.<br>Chilli Sauce: Chilli, Water, Sugar, Salt, Tapioca Starch, Acidity Regulators (260, 330), Herbs, Flavour Enhancers (621, 627, 631), Flavours, Preservatives 1211, 223). Fried Onion: Onion, Refined Palm Oil (Contains Antioxidant 319).'}, {'ManufacturingProcessStep': 'Step 6', 'ManufacturingProcessDescription': 'Step 6: The sweet soy sauce is made by mixing sugar, water, salt, wheat, soy bean, spices, and sesame oil.', 'Recipe': 'Noodles: Wheat Flour (62%), Refined Palm Oil (Contains Antioxidant 319), Salt, Acidity Regulators (451, 501, 500), Thickener (412), Colour (101).<br>Seasoning Powder: Salt, Sugar, Flavour Enhancers (621, 631, 627), Garlic Powder, Onion Powder, Yeast Extract, Artificial Flavour, Pepper, Anti Caking Agent (551).<br>Seasoning Oil: Refined Palm Oil (Contains Antioxidant 319), Onion.<br>Sweet Soy Sauce: Sugar, Water, Salt, Wheat, Soy Bean, Spices, Sesame Oil.<br>Chilli Sauce: Chilli, Water, Sugar, Salt, Tapioca Starch, Acidity Regulators (260, 330), Herbs, Flavour Enhancers (621, 627, 631), Flavours, Preservatives 1211, 223). Fried Onion: Onion, Refined Palm Oil (Contains Antioxidant 319).'}, {'ManufacturingProcessStep': 'Step 7', 'ManufacturingProcessDescription': 'Step 7: The chilli sauce is made by mixing chilli, water, sugar, salt, tapioca starch, acidity regulators, herbs, flavour enhancers, flavours, and preservatives.', 'Recipe': 'Noodles: Wheat Flour (62%), Refined Palm Oil (Contains Antioxidant 319), Salt, Acidity Regulators (451, 501, 500), Thickener (412), Colour (101).<br>Seasoning Powder: Salt, Sugar, Flavour Enhancers (621, 631, 627), Garlic Powder, Onion Powder, Yeast Extract, Artificial Flavour, Pepper, Anti Caking Agent (551).<br>Seasoning Oil: Refined Palm Oil (Contains Antioxidant 319), Onion.<br>Sweet Soy Sauce: Sugar, Water, Salt, Wheat, Soy Bean, Spices, Sesame Oil.<br>Chilli Sauce: Chilli, Water, Sugar, Salt, Tapioca Starch, Acidity Regulators (260, 330), Herbs, Flavour Enhancers (621, 627, 631), Flavours, Preservatives 1211, 223). Fried Onion: Onion, Refined Palm Oil (Contains Antioxidant 319).'}, {'ManufacturingProcessStep': 'Step 2', 'ManufacturingProcessDescription': 'Step 2: Combining the fruit juices and purées with water, sugar, food acids, vitamin C, natural flavors, and pectin.', 'Recipe': 'Water, Reconstituted Fruit Juice (25%) (Apple or Pear, Pineapple, Orange or Water Extracted Orange, Peach Purée, Passionfruit), Sugar, Food Acids (Citric Acid, Potassium Citrate), Vitamin C, Natural Flavours, Stabiliser (Pectin).'}, {'ManufacturingProcessStep': 'Step 1', 'ManufacturingProcessDescription': 'Step 1: Canola oil, water, sugar, and vinegar are mixed together in a large vat.', 'Recipe': 'Canola Oil, Water, Sugar, Vinegar, Thickener (1422, Xanthan Gum), Free Range Egg Yolk,  Gherkin, Salt, Onion Powder, Natural Colour (Carotene, Paprika Oleoresins), Preservative (Potassium Sorbate), Dill, Acidity Regulator (Citric Acid), Herb Extract, Mustard Oil.'}, {'ManufacturingProcessStep': 'Step 1', 'ManufacturingProcessDescription': 'Step 1: Preparation of Jelly - Water, sugar, and gelling agents are combined and heated to dissolve the sugar and activate the gelling agents.', 'Recipe': 'Jelly (70%) (Water, Sugar, Gelling Agents (Carrageenan, Locust Bean Gum, Xanthan Gum), Acidity Regulators (Sodium Citrates, Potassium Citrates, Calcium Lactate, Malic Acid, Citric Acid), Natural Flavours (Pineapple, Mango), Natural Colours (Carotene, Paprika Oleoresins), Antioxidant (Ascorbic Acid)), Peach (15%), Pear (15%)'}, {'ManufacturingProcessStep': 'Step 6', 'ManufacturingProcessDescription': 'Step 6: The sweet soy sauce is made by mixing sugar, water, salt, wheat, soy bean, spices, and sesame oil.', 'Recipe': 'Noodles: Wheat Flour (62%), Refined Palm Oil (Contains Antioxidant 319), Salt, Acidity Regulators (451, 501, 500), Thickener (412), Colour (101).<br>Seasoning Powder: Salt, Sugar, Flavour Enhancers (621, 631, 627), Garlic Powder, Onion Powder, Yeast Extract, Artificial Flavour, Pepper, Anti Caking Agent (551).<br>Seasoning Oil: Refined Palm Oil (Contains Antioxidant 319), Onion.<br>Sweet Soy Sauce: Sugar, Water, Salt, Wheat, Soy Bean, Spices, Sesame Oil.<br>Chilli Sauce: Chilli, Water, Sugar, Salt, Tapioca Starch, Acidity Regulators (260, 330), Herbs, Flavour Enhancers (621, 627, 631), Flavours, Preservatives 1211, 223). Fried Onion: Onion, Refined Palm Oil (Contains Antioxidant 319).'}, {'ManufacturingProcessStep': 'Step 7', 'ManufacturingProcessDescription': 'Step 7: The chilli sauce is made by mixing chilli, water, sugar, salt, tapioca starch, acidity regulators, herbs, flavour enhancers, flavours, and preservatives.', 'Recipe': 'Noodles: Wheat Flour (62%), Refined Palm Oil (Contains Antioxidant 319), Salt, Acidity Regulators (451, 501, 500), Thickener (412), Colour (101).<br>Seasoning Powder: Salt, Sugar, Flavour Enhancers (621, 631, 627), Garlic Powder, Onion Powder, Yeast Extract, Artificial Flavour, Pepper, Anti Caking Agent (551).<br>Seasoning Oil: Refined Palm Oil (Contains Antioxidant 319), Onion.<br>Sweet Soy Sauce: Sugar, Water, Salt, Wheat, Soy Bean, Spices, Sesame Oil.<br>Chilli Sauce: Chilli, Water, Sugar, Salt, Tapioca Starch, Acidity Regulators (260, 330), Herbs, Flavour Enhancers (621, 627, 631), Flavours, Preservatives 1211, 223). Fried Onion: Onion, Refined Palm Oil (Contains Antioxidant 319).'}, {'ManufacturingProcessStep': 'Step 6', 'ManufacturingProcessDescription': 'Step 6: The sweet soy sauce is made by mixing sugar, water, salt, wheat, soy bean, spices, and sesame oil.', 'Recipe': 'Noodles: Wheat Flour (62%), Refined Palm Oil (Contains Antioxidant 319), Salt, Acidity Regulators (451, 501, 500), Thickener (412), Colour (101).<br>Seasoning Powder: Salt, Sugar, Flavour Enhancers (621, 631, 627), Garlic Powder, Onion Powder, Yeast Extract, Artificial Flavour, Pepper, Anti Caking Agent (551).<br>Seasoning Oil: Refined Palm Oil (Contains Antioxidant 319), Onion.<br>Sweet Soy Sauce: Sugar, Water, Salt, Wheat, Soy Bean, Spices, Sesame Oil.<br>Chilli Sauce: Chilli, Water, Sugar, Salt, Tapioca Starch, Acidity Regulators (260, 330), Herbs, Flavour Enhancers (621, 627, 631), Flavours, Preservatives 1211, 223). Fried Onion: Onion, Refined Palm Oil (Contains Antioxidant 319).'}, {'ManufacturingProcessStep': 'Step 7', 'ManufacturingProcessDescription': 'Step 7: The chilli sauce is made by mixing chilli, water, sugar, salt, tapioca starch, acidity regulators, herbs, flavour enhancers, flavours, and preservatives.', 'Recipe': 'Noodles: Wheat Flour (62%), Refined Palm Oil (Contains Antioxidant 319), Salt, Acidity Regulators (451, 501, 500), Thickener (412), Colour (101).<br>Seasoning Powder: Salt, Sugar, Flavour Enhancers (621, 631, 627), Garlic Powder, Onion Powder, Yeast Extract, Artificial Flavour, Pepper, Anti Caking Agent (551).<br>Seasoning Oil: Refined Palm Oil (Contains Antioxidant 319), Onion.<br>Sweet Soy Sauce: Sugar, Water, Salt, Wheat, Soy Bean, Spices, Sesame Oil.<br>Chilli Sauce: Chilli, Water, Sugar, Salt, Tapioca Starch, Acidity Regulators (260, 330), Herbs, Flavour Enhancers (621, 627, 631), Flavours, Preservatives 1211, 223). Fried Onion: Onion, Refined Palm Oil (Contains Antioxidant 319).'}, {'ManufacturingProcessStep': 'Step 6', 'ManufacturingProcessDescription': 'Step 6: The sweet soy sauce is made by mixing sugar, water, salt, wheat, soy bean, spices, and sesame oil.', 'Recipe': 'Noodles: Wheat Flour (62%), Refined Palm Oil (Contains Antioxidant 319), Salt, Acidity Regulators (451, 501, 500), Thickener (412), Colour (101).<br>Seasoning Powder: Salt, Sugar, Flavour Enhancers (621, 631, 627), Garlic Powder, Onion Powder, Yeast Extract, Artificial Flavour, Pepper, Anti Caking Agent (551).<br>Seasoning Oil: Refined Palm Oil (Contains Antioxidant 319), Onion.<br>Sweet Soy Sauce: Sugar, Water, Salt, Wheat, Soy Bean, Spices, Sesame Oil.<br>Chilli Sauce: Chilli, Water, Sugar, Salt, Tapioca Starch, Acidity Regulators (260, 330), Herbs, Flavour Enhancers (621, 627, 631), Flavours, Preservatives 1211, 223). Fried Onion: Onion, Refined Palm Oil (Contains Antioxidant 319).'}, {'ManufacturingProcessStep': 'Step 7', 'ManufacturingProcessDescription': 'Step 7: The chilli sauce is made by mixing chilli, water, sugar, salt, tapioca starch, acidity regulators, herbs, flavour enhancers, flavours, and preservatives.', 'Recipe': 'Noodles: Wheat Flour (62%), Refined Palm Oil (Contains Antioxidant 319), Salt, Acidity Regulators (451, 501, 500), Thickener (412), Colour (101).<br>Seasoning Powder: Salt, Sugar, Flavour Enhancers (621, 631, 627), Garlic Powder, Onion Powder, Yeast Extract, Artificial Flavour, Pepper, Anti Caking Agent (551).<br>Seasoning Oil: Refined Palm Oil (Contains Antioxidant 319), Onion.<br>Sweet Soy Sauce: Sugar, Water, Salt, Wheat, Soy Bean, Spices, Sesame Oil.<br>Chilli Sauce: Chilli, Water, Sugar, Salt, Tapioca Starch, Acidity Regulators (260, 330), Herbs, Flavour Enhancers (621, 627, 631), Flavours, Preservatives 1211, 223). Fried Onion: Onion, Refined Palm Oil (Contains Antioxidant 319).'}, {'ManufacturingProcessStep': 'Step 6', 'ManufacturingProcessDescription': 'Step 6: The sweet soy sauce is made by mixing sugar, water, salt, wheat, soy bean, spices, and sesame oil.', 'Recipe': 'Noodles: Wheat Flour (62%), Refined Palm Oil (Contains Antioxidant 319), Salt, Acidity Regulators (451, 501, 500), Thickener (412), Colour (101).<br>Seasoning Powder: Salt, Sugar, Flavour Enhancers (621, 631, 627), Garlic Powder, Onion Powder, Yeast Extract, Artificial Flavour, Pepper, Anti Caking Agent (551).<br>Seasoning Oil: Refined Palm Oil (Contains Antioxidant 319), Onion.<br>Sweet Soy Sauce: Sugar, Water, Salt, Wheat, Soy Bean, Spices, Sesame Oil.<br>Chilli Sauce: Chilli, Water, Sugar, Salt, Tapioca Starch, Acidity Regulators (260, 330), Herbs, Flavour Enhancers (621, 627, 631), Flavours, Preservatives 1211, 223). Fried Onion: Onion, Refined Palm Oil (Contains Antioxidant 319).'}, {'ManufacturingProcessStep': 'Step 7', 'ManufacturingProcessDescription': 'Step 7: The chilli sauce is made by mixing chilli, water, sugar, salt, tapioca starch, acidity regulators, herbs, flavour enhancers, flavours, and preservatives.', 'Recipe': 'Noodles: Wheat Flour (62%), Refined Palm Oil (Contains Antioxidant 319), Salt, Acidity Regulators (451, 501, 500), Thickener (412), Colour (101).<br>Seasoning Powder: Salt, Sugar, Flavour Enhancers (621, 631, 627), Garlic Powder, Onion Powder, Yeast Extract, Artificial Flavour, Pepper, Anti Caking Agent (551).<br>Seasoning Oil: Refined Palm Oil (Contains Antioxidant 319), Onion.<br>Sweet Soy Sauce: Sugar, Water, Salt, Wheat, Soy Bean, Spices, Sesame Oil.<br>Chilli Sauce: Chilli, Water, Sugar, Salt, Tapioca Starch, Acidity Regulators (260, 330), Herbs, Flavour Enhancers (621, 627, 631), Flavours, Preservatives 1211, 223). Fried Onion: Onion, Refined Palm Oil (Contains Antioxidant 319).'}, {'ManufacturingProcessStep': 'Step 6', 'ManufacturingProcessDescription': 'Step 6: The sweet soy sauce is made by mixing sugar, water, salt, wheat, soy bean, spices, and sesame oil.', 'Recipe': 'Noodles: Wheat Flour (62%), Refined Palm Oil (Contains Antioxidant 319), Salt, Acidity Regulators (451, 501, 500), Thickener (412), Colour (101).<br>Seasoning Powder: Salt, Sugar, Flavour Enhancers (621, 631, 627), Garlic Powder, Onion Powder, Yeast Extract, Artificial Flavour, Pepper, Anti Caking Agent (551).<br>Seasoning Oil: Refined Palm Oil (Contains Antioxidant 319), Onion.<br>Sweet Soy Sauce: Sugar, Water, Salt, Wheat, Soy Bean, Spices, Sesame Oil.<br>Chilli Sauce: Chilli, Water, Sugar, Salt, Tapioca Starch, Acidity Regulators (260, 330), Herbs, Flavour Enhancers (621, 627, 631), Flavours, Preservatives 1211, 223). Fried Onion: Onion, Refined Palm Oil (Contains Antioxidant 319).'}, {'ManufacturingProcessStep': 'Step 7', 'ManufacturingProcessDescription': 'Step 7: The chilli sauce is made by mixing chilli, water, sugar, salt, tapioca starch, acidity regulators, herbs, flavour enhancers, flavours, and preservatives.', 'Recipe': 'Noodles: Wheat Flour (62%), Refined Palm Oil (Contains Antioxidant 319), Salt, Acidity Regulators (451, 501, 500), Thickener (412), Colour (101).<br>Seasoning Powder: Salt, Sugar, Flavour Enhancers (621, 631, 627), Garlic Powder, Onion Powder, Yeast Extract, Artificial Flavour, Pepper, Anti Caking Agent (551).<br>Seasoning Oil: Refined Palm Oil (Contains Antioxidant 319), Onion.<br>Sweet Soy Sauce: Sugar, Water, Salt, Wheat, Soy Bean, Spices, Sesame Oil.<br>Chilli Sauce: Chilli, Water, Sugar, Salt, Tapioca Starch, Acidity Regulators (260, 330), Herbs, Flavour Enhancers (621, 627, 631), Flavours, Preservatives 1211, 223). Fried Onion: Onion, Refined Palm Oil (Contains Antioxidant 319).'}, {'ManufacturingProcessStep': 'Step 6', 'ManufacturingProcessDescription': 'Step 6: The sweet soy sauce is made by mixing sugar, water, salt, wheat, soy bean, spices, and sesame oil.', 'Recipe': 'Noodles: Wheat Flour (62%), Refined Palm Oil (Contains Antioxidant 319), Salt, Acidity Regulators (451, 501, 500), Thickener (412), Colour (101).<br>Seasoning Powder: Salt, Sugar, Flavour Enhancers (621, 631, 627), Garlic Powder, Onion Powder, Yeast Extract, Artificial Flavour, Pepper, Anti Caking Agent (551).<br>Seasoning Oil: Refined Palm Oil (Contains Antioxidant 319), Onion.<br>Sweet Soy Sauce: Sugar, Water, Salt, Wheat, Soy Bean, Spices, Sesame Oil.<br>Chilli Sauce: Chilli, Water, Sugar, Salt, Tapioca Starch, Acidity Regulators (260, 330), Herbs, Flavour Enhancers (621, 627, 631), Flavours, Preservatives 1211, 223). Fried Onion: Onion, Refined Palm Oil (Contains Antioxidant 319).'}, {'ManufacturingProcessStep': 'Step 7', 'ManufacturingProcessDescription': 'Step 7: The chilli sauce is made by mixing chilli, water, sugar, salt, tapioca starch, acidity regulators, herbs, flavour enhancers, flavours, and preservatives.', 'Recipe': 'Noodles: Wheat Flour (62%), Refined Palm Oil (Contains Antioxidant 319), Salt, Acidity Regulators (451, 501, 500), Thickener (412), Colour (101).<br>Seasoning Powder: Salt, Sugar, Flavour Enhancers (621, 631, 627), Garlic Powder, Onion Powder, Yeast Extract, Artificial Flavour, Pepper, Anti Caking Agent (551).<br>Seasoning Oil: Refined Palm Oil (Contains Antioxidant 319), Onion.<br>Sweet Soy Sauce: Sugar, Water, Salt, Wheat, Soy Bean, Spices, Sesame Oil.<br>Chilli Sauce: Chilli, Water, Sugar, Salt, Tapioca Starch, Acidity Regulators (260, 330), Herbs, Flavour Enhancers (621, 627, 631), Flavours, Preservatives 1211, 223). Fried Onion: Onion, Refined Palm Oil (Contains Antioxidant 319).'}, {'ManufacturingProcessStep': 'Step 6', 'ManufacturingProcessDescription': 'Step 6: The sweet soy sauce is made by mixing sugar, water, salt, wheat, soy bean, spices, and sesame oil.', 'Recipe': 'Noodles: Wheat Flour (62%), Refined Palm Oil (Contains Antioxidant 319), Salt, Acidity Regulators (451, 501, 500), Thickener (412), Colour (101).<br>Seasoning Powder: Salt, Sugar, Flavour Enhancers (621, 631, 627), Garlic Powder, Onion Powder, Yeast Extract, Artificial Flavour, Pepper, Anti Caking Agent (551).<br>Seasoning Oil: Refined Palm Oil (Contains Antioxidant 319), Onion.<br>Sweet Soy Sauce: Sugar, Water, Salt, Wheat, Soy Bean, Spices, Sesame Oil.<br>Chilli Sauce: Chilli, Water, Sugar, Salt, Tapioca Starch, Acidity Regulators (260, 330), Herbs, Flavour Enhancers (621, 627, 631), Flavours, Preservatives 1211, 223). Fried Onion: Onion, Refined Palm Oil (Contains Antioxidant 319).'}, {'ManufacturingProcessStep': 'Step 7', 'ManufacturingProcessDescription': 'Step 7: The chilli sauce is made by mixing chilli, water, sugar, salt, tapioca starch, acidity regulators, herbs, flavour enhancers, flavours, and preservatives.', 'Recipe': 'Noodles: Wheat Flour (62%), Refined Palm Oil (Contains Antioxidant 319), Salt, Acidity Regulators (451, 501, 500), Thickener (412), Colour (101).<br>Seasoning Powder: Salt, Sugar, Flavour Enhancers (621, 631, 627), Garlic Powder, Onion Powder, Yeast Extract, Artificial Flavour, Pepper, Anti Caking Agent (551).<br>Seasoning Oil: Refined Palm Oil (Contains Antioxidant 319), Onion.<br>Sweet Soy Sauce: Sugar, Water, Salt, Wheat, Soy Bean, Spices, Sesame Oil.<br>Chilli Sauce: Chilli, Water, Sugar, Salt, Tapioca Starch, Acidity Regulators (260, 330), Herbs, Flavour Enhancers (621, 627, 631), Flavours, Preservatives 1211, 223). Fried Onion: Onion, Refined Palm Oil (Contains Antioxidant 319).'}, {'ManufacturingProcessStep': 'Step 6', 'ManufacturingProcessDescription': 'Step 6: The sweet soy sauce is made by mixing sugar, water, salt, wheat, soy bean, spices, and sesame oil.', 'Recipe': 'Noodles: Wheat Flour (62%), Refined Palm Oil (Contains Antioxidant 319), Salt, Acidity Regulators (451, 501, 500), Thickener (412), Colour (101).<br>Seasoning Powder: Salt, Sugar, Flavour Enhancers (621, 631, 627), Garlic Powder, Onion Powder, Yeast Extract, Artificial Flavour, Pepper, Anti Caking Agent (551).<br>Seasoning Oil: Refined Palm Oil (Contains Antioxidant 319), Onion.<br>Sweet Soy Sauce: Sugar, Water, Salt, Wheat, Soy Bean, Spices, Sesame Oil.<br>Chilli Sauce: Chilli, Water, Sugar, Salt, Tapioca Starch, Acidity Regulators (260, 330), Herbs, Flavour Enhancers (621, 627, 631), Flavours, Preservatives 1211, 223). Fried Onion: Onion, Refined Palm Oil (Contains Antioxidant 319).'}, {'ManufacturingProcessStep': 'Step 7', 'ManufacturingProcessDescription': 'Step 7: The chilli sauce is made by mixing chilli, water, sugar, salt, tapioca starch, acidity regulators, herbs, flavour enhancers, flavours, and preservatives.', 'Recipe': 'Noodles: Wheat Flour (62%), Refined Palm Oil (Contains Antioxidant 319), Salt, Acidity Regulators (451, 501, 500), Thickener (412), Colour (101).<br>Seasoning Powder: Salt, Sugar, Flavour Enhancers (621, 631, 627), Garlic Powder, Onion Powder, Yeast Extract, Artificial Flavour, Pepper, Anti Caking Agent (551).<br>Seasoning Oil: Refined Palm Oil (Contains Antioxidant 319), Onion.<br>Sweet Soy Sauce: Sugar, Water, Salt, Wheat, Soy Bean, Spices, Sesame Oil.<br>Chilli Sauce: Chilli, Water, Sugar, Salt, Tapioca Starch, Acidity Regulators (260, 330), Herbs, Flavour Enhancers (621, 627, 631), Flavours, Preservatives 1211, 223). Fried Onion: Onion, Refined Palm Oil (Contains Antioxidant 319).'}, {'ManufacturingProcessStep': 'Step 6', 'ManufacturingProcessDescription': 'Step 6: The sweet soy sauce is made by mixing sugar, water, salt, wheat, soy bean, spices, and sesame oil.', 'Recipe': 'Noodles: Wheat Flour (62%), Refined Palm Oil (Contains Antioxidant 319), Salt, Acidity Regulators (451, 501, 500), Thickener (412), Colour (101).<br>Seasoning Powder: Salt, Sugar, Flavour Enhancers (621, 631, 627), Garlic Powder, Onion Powder, Yeast Extract, Artificial Flavour, Pepper, Anti Caking Agent (551).<br>Seasoning Oil: Refined Palm Oil (Contains Antioxidant 319), Onion.<br>Sweet Soy Sauce: Sugar, Water, Salt, Wheat, Soy Bean, Spices, Sesame Oil.<br>Chilli Sauce: Chilli, Water, Sugar, Salt, Tapioca Starch, Acidity Regulators (260, 330), Herbs, Flavour Enhancers (621, 627, 631), Flavours, Preservatives 1211, 223). Fried Onion: Onion, Refined Palm Oil (Contains Antioxidant 319).'}, {'ManufacturingProcessStep': 'Step 7', 'ManufacturingProcessDescription': 'Step 7: The chilli sauce is made by mixing chilli, water, sugar, salt, tapioca starch, acidity regulators, herbs, flavour enhancers, flavours, and preservatives.', 'Recipe': 'Noodles: Wheat Flour (62%), Refined Palm Oil (Contains Antioxidant 319), Salt, Acidity Regulators (451, 501, 500), Thickener (412), Colour (101).<br>Seasoning Powder: Salt, Sugar, Flavour Enhancers (621, 631, 627), Garlic Powder, Onion Powder, Yeast Extract, Artificial Flavour, Pepper, Anti Caking Agent (551).<br>Seasoning Oil: Refined Palm Oil (Contains Antioxidant 319), Onion.<br>Sweet Soy Sauce: Sugar, Water, Salt, Wheat, Soy Bean, Spices, Sesame Oil.<br>Chilli Sauce: Chilli, Water, Sugar, Salt, Tapioca Starch, Acidity Regulators (260, 330), Herbs, Flavour Enhancers (621, 627, 631), Flavours, Preservatives 1211, 223). Fried Onion: Onion, Refined Palm Oil (Contains Antioxidant 319).'}, {'ManufacturingProcessStep': 'Step 6', 'ManufacturingProcessDescription': 'Step 6: The sweet soy sauce is made by mixing sugar, water, salt, wheat, soy bean, spices, and sesame oil.', 'Recipe': 'Noodles: Wheat Flour (62%), Refined Palm Oil (Contains Antioxidant 319), Salt, Acidity Regulators (451, 501, 500), Thickener (412), Colour (101).<br>Seasoning Powder: Salt, Sugar, Flavour Enhancers (621, 631, 627), Garlic Powder, Onion Powder, Yeast Extract, Artificial Flavour, Pepper, Anti Caking Agent (551).<br>Seasoning Oil: Refined Palm Oil (Contains Antioxidant 319), Onion.<br>Sweet Soy Sauce: Sugar, Water, Salt, Wheat, Soy Bean, Spices, Sesame Oil.<br>Chilli Sauce: Chilli, Water, Sugar, Salt, Tapioca Starch, Acidity Regulators (260, 330), Herbs, Flavour Enhancers (621, 627, 631), Flavours, Preservatives 1211, 223). Fried Onion: Onion, Refined Palm Oil (Contains Antioxidant 319).'}, {'ManufacturingProcessStep': 'Step 7', 'ManufacturingProcessDescription': 'Step 7: The chilli sauce is made by mixing chilli, water, sugar, salt, tapioca starch, acidity regulators, herbs, flavour enhancers, flavours, and preservatives.', 'Recipe': 'Noodles: Wheat Flour (62%), Refined Palm Oil (Contains Antioxidant 319), Salt, Acidity Regulators (451, 501, 500), Thickener (412), Colour (101).<br>Seasoning Powder: Salt, Sugar, Flavour Enhancers (621, 631, 627), Garlic Powder, Onion Powder, Yeast Extract, Artificial Flavour, Pepper, Anti Caking Agent (551).<br>Seasoning Oil: Refined Palm Oil (Contains Antioxidant 319), Onion.<br>Sweet Soy Sauce: Sugar, Water, Salt, Wheat, Soy Bean, Spices, Sesame Oil.<br>Chilli Sauce: Chilli, Water, Sugar, Salt, Tapioca Starch, Acidity Regulators (260, 330), Herbs, Flavour Enhancers (621, 627, 631), Flavours, Preservatives 1211, 223). Fried Onion: Onion, Refined Palm Oil (Contains Antioxidant 319).'}, {'ManufacturingProcessStep': 'Step 6', 'ManufacturingProcessDescription': 'Step 6: The sweet soy sauce is made by mixing sugar, water, salt, wheat, soy bean, spices, and sesame oil.', 'Recipe': 'Noodles: Wheat Flour (62%), Refined Palm Oil (Contains Antioxidant 319), Salt, Acidity Regulators (451, 501, 500), Thickener (412), Colour (101).<br>Seasoning Powder: Salt, Sugar, Flavour Enhancers (621, 631, 627), Garlic Powder, Onion Powder, Yeast Extract, Artificial Flavour, Pepper, Anti Caking Agent (551).<br>Seasoning Oil: Refined Palm Oil (Contains Antioxidant 319), Onion.<br>Sweet Soy Sauce: Sugar, Water, Salt, Wheat, Soy Bean, Spices, Sesame Oil.<br>Chilli Sauce: Chilli, Water, Sugar, Salt, Tapioca Starch, Acidity Regulators (260, 330), Herbs, Flavour Enhancers (621, 627, 631), Flavours, Preservatives 1211, 223). Fried Onion: Onion, Refined Palm Oil (Contains Antioxidant 319).'}, {'ManufacturingProcessStep': 'Step 7', 'ManufacturingProcessDescription': 'Step 7: The chilli sauce is made by mixing chilli, water, sugar, salt, tapioca starch, acidity regulators, herbs, flavour enhancers, flavours, and preservatives.', 'Recipe': 'Noodles: Wheat Flour (62%), Refined Palm Oil (Contains Antioxidant 319), Salt, Acidity Regulators (451, 501, 500), Thickener (412), Colour (101).<br>Seasoning Powder: Salt, Sugar, Flavour Enhancers (621, 631, 627), Garlic Powder, Onion Powder, Yeast Extract, Artificial Flavour, Pepper, Anti Caking Agent (551).<br>Seasoning Oil: Refined Palm Oil (Contains Antioxidant 319), Onion.<br>Sweet Soy Sauce: Sugar, Water, Salt, Wheat, Soy Bean, Spices, Sesame Oil.<br>Chilli Sauce: Chilli, Water, Sugar, Salt, Tapioca Starch, Acidity Regulators (260, 330), Herbs, Flavour Enhancers (621, 627, 631), Flavours, Preservatives 1211, 223). Fried Onion: Onion, Refined Palm Oil (Contains Antioxidant 319).'}, {'ManufacturingProcessStep': 'Step 6', 'ManufacturingProcessDescription': 'Step 6: The sweet soy sauce is made by mixing sugar, water, salt, wheat, soy bean, spices, and sesame oil.', 'Recipe': 'Noodles: Wheat Flour (62%), Refined Palm Oil (Contains Antioxidant 319), Salt, Acidity Regulators (451, 501, 500), Thickener (412), Colour (101).<br>Seasoning Powder: Salt, Sugar, Flavour Enhancers (621, 631, 627), Garlic Powder, Onion Powder, Yeast Extract, Artificial Flavour, Pepper, Anti Caking Agent (551).<br>Seasoning Oil: Refined Palm Oil (Contains Antioxidant 319), Onion.<br>Sweet Soy Sauce: Sugar, Water, Salt, Wheat, Soy Bean, Spices, Sesame Oil.<br>Chilli Sauce: Chilli, Water, Sugar, Salt, Tapioca Starch, Acidity Regulators (260, 330), Herbs, Flavour Enhancers (621, 627, 631), Flavours, Preservatives 1211, 223). Fried Onion: Onion, Refined Palm Oil (Contains Antioxidant 319).'}, {'ManufacturingProcessStep': 'Step 7', 'ManufacturingProcessDescription': 'Step 7: The chilli sauce is made by mixing chilli, water, sugar, salt, tapioca starch, acidity regulators, herbs, flavour enhancers, flavours, and preservatives.', 'Recipe': 'Noodles: Wheat Flour (62%), Refined Palm Oil (Contains Antioxidant 319), Salt, Acidity Regulators (451, 501, 500), Thickener (412), Colour (101).<br>Seasoning Powder: Salt, Sugar, Flavour Enhancers (621, 631, 627), Garlic Powder, Onion Powder, Yeast Extract, Artificial Flavour, Pepper, Anti Caking Agent (551).<br>Seasoning Oil: Refined Palm Oil (Contains Antioxidant 319), Onion.<br>Sweet Soy Sauce: Sugar, Water, Salt, Wheat, Soy Bean, Spices, Sesame Oil.<br>Chilli Sauce: Chilli, Water, Sugar, Salt, Tapioca Starch, Acidity Regulators (260, 330), Herbs, Flavour Enhancers (621, 627, 631), Flavours, Preservatives 1211, 223). Fried Onion: Onion, Refined Palm Oil (Contains Antioxidant 319).'}, {'ManufacturingProcessStep': 'Step 6', 'ManufacturingProcessDescription': 'Step 6: The sweet soy sauce is made by mixing sugar, water, salt, wheat, soy bean, spices, and sesame oil.', 'Recipe': 'Noodles: Wheat Flour (62%), Refined Palm Oil (Contains Antioxidant 319), Salt, Acidity Regulators (451, 501, 500), Thickener (412), Colour (101).<br>Seasoning Powder: Salt, Sugar, Flavour Enhancers (621, 631, 627), Garlic Powder, Onion Powder, Yeast Extract, Artificial Flavour, Pepper, Anti Caking Agent (551).<br>Seasoning Oil: Refined Palm Oil (Contains Antioxidant 319), Onion.<br>Sweet Soy Sauce: Sugar, Water, Salt, Wheat, Soy Bean, Spices, Sesame Oil.<br>Chilli Sauce: Chilli, Water, Sugar, Salt, Tapioca Starch, Acidity Regulators (260, 330), Herbs, Flavour Enhancers (621, 627, 631), Flavours, Preservatives 1211, 223). Fried Onion: Onion, Refined Palm Oil (Contains Antioxidant 319).'}, {'ManufacturingProcessStep': 'Step 7', 'ManufacturingProcessDescription': 'Step 7: The chilli sauce is made by mixing chilli, water, sugar, salt, tapioca starch, acidity regulators, herbs, flavour enhancers, flavours, and preservatives.', 'Recipe': 'Noodles: Wheat Flour (62%), Refined Palm Oil (Contains Antioxidant 319), Salt, Acidity Regulators (451, 501, 500), Thickener (412), Colour (101).<br>Seasoning Powder: Salt, Sugar, Flavour Enhancers (621, 631, 627), Garlic Powder, Onion Powder, Yeast Extract, Artificial Flavour, Pepper, Anti Caking Agent (551).<br>Seasoning Oil: Refined Palm Oil (Contains Antioxidant 319), Onion.<br>Sweet Soy Sauce: Sugar, Water, Salt, Wheat, Soy Bean, Spices, Sesame Oil.<br>Chilli Sauce: Chilli, Water, Sugar, Salt, Tapioca Starch, Acidity Regulators (260, 330), Herbs, Flavour Enhancers (621, 627, 631), Flavours, Preservatives 1211, 223). Fried Onion: Onion, Refined Palm Oil (Contains Antioxidant 319).'}, {'ManufacturingProcessStep': 'Step 6', 'ManufacturingProcessDescription': 'Step 6: The sweet soy sauce is made by mixing sugar, water, salt, wheat, soy bean, spices, and sesame oil.', 'Recipe': 'Noodles: Wheat Flour (62%), Refined Palm Oil (Contains Antioxidant 319), Salt, Acidity Regulators (451, 501, 500), Thickener (412), Colour (101).<br>Seasoning Powder: Salt, Sugar, Flavour Enhancers (621, 631, 627), Garlic Powder, Onion Powder, Yeast Extract, Artificial Flavour, Pepper, Anti Caking Agent (551).<br>Seasoning Oil: Refined Palm Oil (Contains Antioxidant 319), Onion.<br>Sweet Soy Sauce: Sugar, Water, Salt, Wheat, Soy Bean, Spices, Sesame Oil.<br>Chilli Sauce: Chilli, Water, Sugar, Salt, Tapioca Starch, Acidity Regulators (260, 330), Herbs, Flavour Enhancers (621, 627, 631), Flavours, Preservatives 1211, 223). Fried Onion: Onion, Refined Palm Oil (Contains Antioxidant 319).'}, {'ManufacturingProcessStep': 'Step 7', 'ManufacturingProcessDescription': 'Step 7: The chilli sauce is made by mixing chilli, water, sugar, salt, tapioca starch, acidity regulators, herbs, flavour enhancers, flavours, and preservatives.', 'Recipe': 'Noodles: Wheat Flour (62%), Refined Palm Oil (Contains Antioxidant 319), Salt, Acidity Regulators (451, 501, 500), Thickener (412), Colour (101).<br>Seasoning Powder: Salt, Sugar, Flavour Enhancers (621, 631, 627), Garlic Powder, Onion Powder, Yeast Extract, Artificial Flavour, Pepper, Anti Caking Agent (551).<br>Seasoning Oil: Refined Palm Oil (Contains Antioxidant 319), Onion.<br>Sweet Soy Sauce: Sugar, Water, Salt, Wheat, Soy Bean, Spices, Sesame Oil.<br>Chilli Sauce: Chilli, Water, Sugar, Salt, Tapioca Starch, Acidity Regulators (260, 330), Herbs, Flavour Enhancers (621, 627, 631), Flavours, Preservatives 1211, 223). Fried Onion: Onion, Refined Palm Oil (Contains Antioxidant 319).'}, {'ManufacturingProcessStep': 'Step 6', 'ManufacturingProcessDescription': 'Step 6: The sweet soy sauce is made by mixing sugar, water, salt, wheat, soy bean, spices, and sesame oil.', 'Recipe': 'Noodles: Wheat Flour (62%), Refined Palm Oil (Contains Antioxidant 319), Salt, Acidity Regulators (451, 501, 500), Thickener (412), Colour (101).<br>Seasoning Powder: Salt, Sugar, Flavour Enhancers (621, 631, 627), Garlic Powder, Onion Powder, Yeast Extract, Artificial Flavour, Pepper, Anti Caking Agent (551).<br>Seasoning Oil: Refined Palm Oil (Contains Antioxidant 319), Onion.<br>Sweet Soy Sauce: Sugar, Water, Salt, Wheat, Soy Bean, Spices, Sesame Oil.<br>Chilli Sauce: Chilli, Water, Sugar, Salt, Tapioca Starch, Acidity Regulators (260, 330), Herbs, Flavour Enhancers (621, 627, 631), Flavours, Preservatives 1211, 223). Fried Onion: Onion, Refined Palm Oil (Contains Antioxidant 319).'}, {'ManufacturingProcessStep': 'Step 7', 'ManufacturingProcessDescription': 'Step 7: The chilli sauce is made by mixing chilli, water, sugar, salt, tapioca starch, acidity regulators, herbs, flavour enhancers, flavours, and preservatives.', 'Recipe': 'Noodles: Wheat Flour (62%), Refined Palm Oil (Contains Antioxidant 319), Salt, Acidity Regulators (451, 501, 500), Thickener (412), Colour (101).<br>Seasoning Powder: Salt, Sugar, Flavour Enhancers (621, 631, 627), Garlic Powder, Onion Powder, Yeast Extract, Artificial Flavour, Pepper, Anti Caking Agent (551).<br>Seasoning Oil: Refined Palm Oil (Contains Antioxidant 319), Onion.<br>Sweet Soy Sauce: Sugar, Water, Salt, Wheat, Soy Bean, Spices, Sesame Oil.<br>Chilli Sauce: Chilli, Water, Sugar, Salt, Tapioca Starch, Acidity Regulators (260, 330), Herbs, Flavour Enhancers (621, 627, 631), Flavours, Preservatives 1211, 223). Fried Onion: Onion, Refined Palm Oil (Contains Antioxidant 319).'}, {'ManufacturingProcessStep': 'Step 2', 'ManufacturingProcessDescription': 'Step 2: Combining the fruit juices and purées with water, sugar, food acids, vitamin C, natural flavors, and pectin.', 'Recipe': 'Water, Reconstituted Fruit Juice (25%) (Apple or Pear, Pineapple, Orange or Water Extracted Orange, Peach Purée, Passionfruit), Sugar, Food Acids (Citric Acid, Potassium Citrate), Vitamin C, Natural Flavours, Stabiliser (Pectin).'}, {'ManufacturingProcessStep': 'Step 2', 'ManufacturingProcessDescription': 'Step 2: Combining the fruit juices and purées with water, sugar, food acids, vitamin C, natural flavors, and pectin.', 'Recipe': 'Water, Reconstituted Fruit Juice (25%) (Apple or Pear, Pineapple, Orange or Water Extracted Orange, Peach Purée, Passionfruit), Sugar, Food Acids (Citric Acid, Potassium Citrate), Vitamin C, Natural Flavours, Stabiliser (Pectin).'}, {'ManufacturingProcessStep': 'Step 1', 'ManufacturingProcessDescription': 'Step 1: Canola oil, water, sugar, and vinegar are mixed together in a large vat.', 'Recipe': 'Canola Oil, Water, Sugar, Vinegar, Thickener (1422, Xanthan Gum), Free Range Egg Yolk,  Gherkin, Salt, Onion Powder, Natural Colour (Carotene, Paprika Oleoresins), Preservative (Potassium Sorbate), Dill, Acidity Regulator (Citric Acid), Herb Extract, Mustard Oil.'}, {'ManufacturingProcessStep': 'Step 1', 'ManufacturingProcessDescription': 'Step 1: Canola oil, water, sugar, and vinegar are mixed together in a large vat.', 'Recipe': 'Canola Oil, Water, Sugar, Vinegar, Thickener (1422, Xanthan Gum), Free Range Egg Yolk,  Gherkin, Salt, Onion Powder, Natural Colour (Carotene, Paprika Oleoresins), Preservative (Potassium Sorbate), Dill, Acidity Regulator (Citric Acid), Herb Extract, Mustard Oil.'}, {'ManufacturingProcessStep': 'Step 1', 'ManufacturingProcessDescription': 'Step 1: Preparation of Jelly - Water, sugar, and gelling agents are combined and heated to dissolve the sugar and activate the gelling agents.', 'Recipe': 'Jelly (70%) (Water, Sugar, Gelling Agents (Carrageenan, Locust Bean Gum, Xanthan Gum), Acidity Regulators (Sodium Citrates, Potassium Citrates, Calcium Lactate, Malic Acid, Citric Acid), Natural Flavours (Pineapple, Mango), Natural Colours (Carotene, Paprika Oleoresins), Antioxidant (Ascorbic Acid)), Peach (15%), Pear (15%)'}, {'ManufacturingProcessStep': 'Step 2', 'ManufacturingProcessDescription': 'Step 2: Combining the fruit juices and purées with water, sugar, food acids, vitamin C, natural flavors, and pectin.', 'Recipe': 'Water, Reconstituted Fruit Juice (25%) (Apple or Pear, Pineapple, Orange or Water Extracted Orange, Peach Purée, Passionfruit), Sugar, Food Acids (Citric Acid, Potassium Citrate), Vitamin C, Natural Flavours, Stabiliser (Pectin).'}, {'ManufacturingProcessStep': 'Step 2', 'ManufacturingProcessDescription': 'Step 2: Combining the fruit juices and purées with water, sugar, food acids, vitamin C, natural flavors, and pectin.', 'Recipe': 'Water, Reconstituted Fruit Juice (25%) (Apple or Pear, Pineapple, Orange or Water Extracted Orange, Peach Purée, Passionfruit), Sugar, Food Acids (Citric Acid, Potassium Citrate), Vitamin C, Natural Flavours, Stabiliser (Pectin).'}, {'ManufacturingProcessStep': 'Step 2', 'ManufacturingProcessDescription': 'Step 2: Combining the fruit juices and purées with water, sugar, food acids, vitamin C, natural flavors, and pectin.', 'Recipe': 'Water, Reconstituted Fruit Juice (25%) (Apple or Pear, Pineapple, Orange or Water Extracted Orange, Peach Purée, Passionfruit), Sugar, Food Acids (Citric Acid, Potassium Citrate), Vitamin C, Natural Flavours, Stabiliser (Pectin).'}, {'ManufacturingProcessStep': 'Step 2', 'ManufacturingProcessDescription': 'Step 2: Combining the fruit juices and purées with water, sugar, food acids, vitamin C, natural flavors, and pectin.', 'Recipe': 'Water, Reconstituted Fruit Juice (25%) (Apple or Pear, Pineapple, Orange or Water Extracted Orange, Peach Purée, Passionfruit), Sugar, Food Acids (Citric Acid, Potassium Citrate), Vitamin C, Natural Flavours, Stabiliser (Pectin).'}, {'ManufacturingProcessStep': 'Step 2', 'ManufacturingProcessDescription': 'Step 2: Combining the fruit juices and purées with water, sugar, food acids, vitamin C, natural flavors, and pectin.', 'Recipe': 'Water, Reconstituted Fruit Juice (25%) (Apple or Pear, Pineapple, Orange or Water Extracted Orange, Peach Purée, Passionfruit), Sugar, Food Acids (Citric Acid, Potassium Citrate), Vitamin C, Natural Flavours, Stabiliser (Pectin).'}, {'ManufacturingProcessStep': 'Step 2', 'ManufacturingProcessDescription': 'Step 2: Combining the fruit juices and purées with water, sugar, food acids, vitamin C, natural flavors, and pectin.', 'Recipe': 'Water, Reconstituted Fruit Juice (25%) (Apple or Pear, Pineapple, Orange or Water Extracted Orange, Peach Purée, Passionfruit), Sugar, Food Acids (Citric Acid, Potassium Citrate), Vitamin C, Natural Flavours, Stabiliser (Pectin).'}, {'ManufacturingProcessStep': 'Step 2', 'ManufacturingProcessDescription': 'Step 2: Combining the fruit juices and purées with water, sugar, food acids, vitamin C, natural flavors, and pectin.', 'Recipe': 'Water, Reconstituted Fruit Juice (25%) (Apple or Pear, Pineapple, Orange or Water Extracted Orange, Peach Purée, Passionfruit), Sugar, Food Acids (Citric Acid, Potassium Citrate), Vitamin C, Natural Flavours, Stabiliser (Pectin).'}, {'ManufacturingProcessStep': 'Step 2', 'ManufacturingProcessDescription': 'Step 2: Combining the fruit juices and purées with water, sugar, food acids, vitamin C, natural flavors, and pectin.', 'Recipe': 'Water, Reconstituted Fruit Juice (25%) (Apple or Pear, Pineapple, Orange or Water Extracted Orange, Peach Purée, Passionfruit), Sugar, Food Acids (Citric Acid, Potassium Citrate), Vitamin C, Natural Flavours, Stabiliser (Pectin).'}, {'ManufacturingProcessStep': 'Step 2', 'ManufacturingProcessDescription': 'Step 2: Combining the fruit juices and purées with water, sugar, food acids, vitamin C, natural flavors, and pectin.', 'Recipe': 'Water, Reconstituted Fruit Juice (25%) (Apple or Pear, Pineapple, Orange or Water Extracted Orange, Peach Purée, Passionfruit), Sugar, Food Acids (Citric Acid, Potassium Citrate), Vitamin C, Natural Flavours, Stabiliser (Pectin).'}, {'ManufacturingProcessStep': 'Step 2', 'ManufacturingProcessDescription': 'Step 2: Combining the fruit juices and purées with water, sugar, food acids, vitamin C, natural flavors, and pectin.', 'Recipe': 'Water, Reconstituted Fruit Juice (25%) (Apple or Pear, Pineapple, Orange or Water Extracted Orange, Peach Purée, Passionfruit), Sugar, Food Acids (Citric Acid, Potassium Citrate), Vitamin C, Natural Flavours, Stabiliser (Pectin).'}, {'ManufacturingProcessStep': 'Step 1', 'ManufacturingProcessDescription': 'Step 1: Canola oil, water, sugar, and vinegar are mixed together in a large vat.', 'Recipe': 'Canola Oil, Water, Sugar, Vinegar, Thickener (1422, Xanthan Gum), Free Range Egg Yolk,  Gherkin, Salt, Onion Powder, Natural Colour (Carotene, Paprika Oleoresins), Preservative (Potassium Sorbate), Dill, Acidity Regulator (Citric Acid), Herb Extract, Mustard Oil.'}, {'ManufacturingProcessStep': 'Step 1', 'ManufacturingProcessDescription': 'Step 1: Canola oil, water, sugar, and vinegar are mixed together in a large vat.', 'Recipe': 'Canola Oil, Water, Sugar, Vinegar, Thickener (1422, Xanthan Gum), Free Range Egg Yolk,  Gherkin, Salt, Onion Powder, Natural Colour (Carotene, Paprika Oleoresins), Preservative (Potassium Sorbate), Dill, Acidity Regulator (Citric Acid), Herb Extract, Mustard Oil.'}, {'ManufacturingProcessStep': 'Step 1', 'ManufacturingProcessDescription': 'Step 1: Canola oil, water, sugar, and vinegar are mixed together in a large vat.', 'Recipe': 'Canola Oil, Water, Sugar, Vinegar, Thickener (1422, Xanthan Gum), Free Range Egg Yolk,  Gherkin, Salt, Onion Powder, Natural Colour (Carotene, Paprika Oleoresins), Preservative (Potassium Sorbate), Dill, Acidity Regulator (Citric Acid), Herb Extract, Mustard Oil.'}, {'ManufacturingProcessStep': 'Step 1', 'ManufacturingProcessDescription': 'Step 1: Canola oil, water, sugar, and vinegar are mixed together in a large vat.', 'Recipe': 'Canola Oil, Water, Sugar, Vinegar, Thickener (1422, Xanthan Gum), Free Range Egg Yolk,  Gherkin, Salt, Onion Powder, Natural Colour (Carotene, Paprika Oleoresins), Preservative (Potassium Sorbate), Dill, Acidity Regulator (Citric Acid), Herb Extract, Mustard Oil.'}, {'ManufacturingProcessStep': 'Step 1', 'ManufacturingProcessDescription': 'Step 1: Canola oil, water, sugar, and vinegar are mixed together in a large vat.', 'Recipe': 'Canola Oil, Water, Sugar, Vinegar, Thickener (1422, Xanthan Gum), Free Range Egg Yolk,  Gherkin, Salt, Onion Powder, Natural Colour (Carotene, Paprika Oleoresins), Preservative (Potassium Sorbate), Dill, Acidity Regulator (Citric Acid), Herb Extract, Mustard Oil.'}, {'ManufacturingProcessStep': 'Step 1', 'ManufacturingProcessDescription': 'Step 1: Canola oil, water, sugar, and vinegar are mixed together in a large vat.', 'Recipe': 'Canola Oil, Water, Sugar, Vinegar, Thickener (1422, Xanthan Gum), Free Range Egg Yolk,  Gherkin, Salt, Onion Powder, Natural Colour (Carotene, Paprika Oleoresins), Preservative (Potassium Sorbate), Dill, Acidity Regulator (Citric Acid), Herb Extract, Mustard Oil.'}, {'ManufacturingProcessStep': 'Step 1', 'ManufacturingProcessDescription': 'Step 1: Preparation of Jelly - Water, sugar, and gelling agents are combined and heated to dissolve the sugar and activate the gelling agents.', 'Recipe': 'Jelly (70%) (Water, Sugar, Gelling Agents (Carrageenan, Locust Bean Gum, Xanthan Gum), Acidity Regulators (Sodium Citrates, Potassium Citrates, Calcium Lactate, Malic Acid, Citric Acid), Natural Flavours (Pineapple, Mango), Natural Colours (Carotene, Paprika Oleoresins), Antioxidant (Ascorbic Acid)), Peach (15%), Pear (15%)'}, {'ManufacturingProcessStep': 'Step 1', 'ManufacturingProcessDescription': 'Step 1: Canola oil, water, sugar, and vinegar are mixed together in a large vat.', 'Recipe': 'Canola Oil, Water, Sugar, Vinegar, Thickener (1422, Xanthan Gum), Free Range Egg Yolk,  Gherkin, Salt, Onion Powder, Natural Colour (Carotene, Paprika Oleoresins), Preservative (Potassium Sorbate), Dill, Acidity Regulator (Citric Acid), Herb Extract, Mustard Oil.'}, {'ManufacturingProcessStep': 'Step 1', 'ManufacturingProcessDescription': 'Step 1: Preparation of Jelly - Water, sugar, and gelling agents are combined and heated to dissolve the sugar and activate the gelling agents.', 'Recipe': 'Jelly (70%) (Water, Sugar, Gelling Agents (Carrageenan, Locust Bean Gum, Xanthan Gum), Acidity Regulators (Sodium Citrates, Potassium Citrates, Calcium Lactate, Malic Acid, Citric Acid), Natural Flavours (Pineapple, Mango), Natural Colours (Carotene, Paprika Oleoresins), Antioxidant (Ascorbic Acid)), Peach (15%), Pear (15%)'}, {'ManufacturingProcessStep': 'Step 1', 'ManufacturingProcessDescription': 'Step 1: Canola oil, water, sugar, and vinegar are mixed together in a large vat.', 'Recipe': 'Canola Oil, Water, Sugar, Vinegar, Thickener (1422, Xanthan Gum), Free Range Egg Yolk,  Gherkin, Salt, Onion Powder, Natural Colour (Carotene, Paprika Oleoresins), Preservative (Potassium Sorbate), Dill, Acidity Regulator (Citric Acid), Herb Extract, Mustard Oil.'}, {'ManufacturingProcessStep': 'Step 1', 'ManufacturingProcessDescription': 'Step 1: Canola oil, water, sugar, and vinegar are mixed together in a large vat.', 'Recipe': 'Canola Oil, Water, Sugar, Vinegar, Thickener (1422, Xanthan Gum), Free Range Egg Yolk,  Gherkin, Salt, Onion Powder, Natural Colour (Carotene, Paprika Oleoresins), Preservative (Potassium Sorbate), Dill, Acidity Regulator (Citric Acid), Herb Extract, Mustard Oil.'}, {'ManufacturingProcessStep': 'Step 1', 'ManufacturingProcessDescription': 'Step 1: Canola oil, water, sugar, and vinegar are mixed together in a large vat.', 'Recipe': 'Canola Oil, Water, Sugar, Vinegar, Thickener (1422, Xanthan Gum), Free Range Egg Yolk,  Gherkin, Salt, Onion Powder, Natural Colour (Carotene, Paprika Oleoresins), Preservative (Potassium Sorbate), Dill, Acidity Regulator (Citric Acid), Herb Extract, Mustard Oil.'}, {'ManufacturingProcessStep': 'Step 1', 'ManufacturingProcessDescription': 'Step 1: Canola oil, water, sugar, and vinegar are mixed together in a large vat.', 'Recipe': 'Canola Oil, Water, Sugar, Vinegar, Thickener (1422, Xanthan Gum), Free Range Egg Yolk,  Gherkin, Salt, Onion Powder, Natural Colour (Carotene, Paprika Oleoresins), Preservative (Potassium Sorbate), Dill, Acidity Regulator (Citric Acid), Herb Extract, Mustard Oil.'}, {'ManufacturingProcessStep': 'Step 1', 'ManufacturingProcessDescription': 'Step 1: Preparation of Jelly - Water, sugar, and gelling agents are combined and heated to dissolve the sugar and activate the gelling agents.', 'Recipe': 'Jelly (70%) (Water, Sugar, Gelling Agents (Carrageenan, Locust Bean Gum, Xanthan Gum), Acidity Regulators (Sodium Citrates, Potassium Citrates, Calcium Lactate, Malic Acid, Citric Acid), Natural Flavours (Pineapple, Mango), Natural Colours (Carotene, Paprika Oleoresins), Antioxidant (Ascorbic Acid)), Peach (15%), Pear (15%)'}, {'ManufacturingProcessStep': 'Step 1', 'ManufacturingProcessDescription': 'Step 1: Preparation of Jelly - Water, sugar, and gelling agents are combined and heated to dissolve the sugar and activate the gelling agents.', 'Recipe': 'Jelly (70%) (Water, Sugar, Gelling Agents (Carrageenan, Locust Bean Gum, Xanthan Gum), Acidity Regulators (Sodium Citrates, Potassium Citrates, Calcium Lactate, Malic Acid, Citric Acid), Natural Flavours (Pineapple, Mango), Natural Colours (Carotene, Paprika Oleoresins), Antioxidant (Ascorbic Acid)), Peach (15%), Pear (15%)'}, {'ManufacturingProcessStep': 'Step 1', 'ManufacturingProcessDescription': 'Step 1: Preparation of Jelly - Water, sugar, and gelling agents are combined and heated to dissolve the sugar and activate the gelling agents.', 'Recipe': 'Jelly (70%) (Water, Sugar, Gelling Agents (Carrageenan, Locust Bean Gum, Xanthan Gum), Acidity Regulators (Sodium Citrates, Potassium Citrates, Calcium Lactate, Malic Acid, Citric Acid), Natural Flavours (Pineapple, Mango), Natural Colours (Carotene, Paprika Oleoresins), Antioxidant (Ascorbic Acid)), Peach (15%), Pear (15%)'}, {'ManufacturingProcessStep': 'Step 1', 'ManufacturingProcessDescription': 'Step 1: Preparation of Jelly - Water, sugar, and gelling agents are combined and heated to dissolve the sugar and activate the gelling agents.', 'Recipe': 'Jelly (70%) (Water, Sugar, Gelling Agents (Carrageenan, Locust Bean Gum, Xanthan Gum), Acidity Regulators (Sodium Citrates, Potassium Citrates, Calcium Lactate, Malic Acid, Citric Acid), Natural Flavours (Pineapple, Mango), Natural Colours (Carotene, Paprika Oleoresins), Antioxidant (Ascorbic Acid)), Peach (15%), Pear (15%)'}, {'ManufacturingProcessStep': 'Step 1', 'ManufacturingProcessDescription': 'Step 1: Preparation of Jelly - Water, sugar, and gelling agents are combined and heated to dissolve the sugar and activate the gelling agents.', 'Recipe': 'Jelly (70%) (Water, Sugar, Gelling Agents (Carrageenan, Locust Bean Gum, Xanthan Gum), Acidity Regulators (Sodium Citrates, Potassium Citrates, Calcium Lactate, Malic Acid, Citric Acid), Natural Flavours (Pineapple, Mango), Natural Colours (Carotene, Paprika Oleoresins), Antioxidant (Ascorbic Acid)), Peach (15%), Pear (15%)'}, {'ManufacturingProcessStep': 'Step 1', 'ManufacturingProcessDescription': 'Step 1: Preparation of Jelly - Water, sugar, and gelling agents are combined and heated to dissolve the sugar and activate the gelling agents.', 'Recipe': 'Jelly (70%) (Water, Sugar, Gelling Agents (Carrageenan, Locust Bean Gum, Xanthan Gum), Acidity Regulators (Sodium Citrates, Potassium Citrates, Calcium Lactate, Malic Acid, Citric Acid), Natural Flavours (Pineapple, Mango), Natural Colours (Carotene, Paprika Oleoresins), Antioxidant (Ascorbic Acid)), Peach (15%), Pear (15%)'}, {'ManufacturingProcessStep': 'Step 1', 'ManufacturingProcessDescription': 'Step 1: Preparation of Jelly - Water, sugar, and gelling agents are combined and heated to dissolve the sugar and activate the gelling agents.', 'Recipe': 'Jelly (70%) (Water, Sugar, Gelling Agents (Carrageenan, Locust Bean Gum, Xanthan Gum), Acidity Regulators (Sodium Citrates, Potassium Citrates, Calcium Lactate, Malic Acid, Citric Acid), Natural Flavours (Pineapple, Mango), Natural Colours (Carotene, Paprika Oleoresins), Antioxidant (Ascorbic Acid)), Peach (15%), Pear (15%)'}, {'ManufacturingProcessStep': 'Step 1', 'ManufacturingProcessDescription': 'Step 1: Preparation of Jelly - Water, sugar, and gelling agents are combined and heated to dissolve the sugar and activate the gelling agents.', 'Recipe': 'Jelly (70%) (Water, Sugar, Gelling Agents (Carrageenan, Locust Bean Gum, Xanthan Gum), Acidity Regulators (Sodium Citrates, Potassium Citrates, Calcium Lactate, Malic Acid, Citric Acid), Natural Flavours (Pineapple, Mango), Natural Colours (Carotene, Paprika Oleoresins), Antioxidant (Ascorbic Acid)), Peach (15%), Pear (15%)'}, {'ManufacturingProcessStep': 'Step 1', 'ManufacturingProcessDescription': 'Step 1: Preparation of Jelly - Water, sugar, and gelling agents are combined and heated to dissolve the sugar and activate the gelling agents.', 'Recipe': 'Jelly (70%) (Water, Sugar, Gelling Agents (Carrageenan, Locust Bean Gum, Xanthan Gum), Acidity Regulators (Sodium Citrates, Potassium Citrates, Calcium Lactate, Malic Acid, Citric Acid), Natural Flavours (Pineapple, Mango), Natural Colours (Carotene, Paprika Oleoresins), Antioxidant (Ascorbic Acid)), Peach (15%), Pear (15%)'}, {'ManufacturingProcessStep': 'Step 1', 'ManufacturingProcessDescription': 'Step 1: Preparation of Jelly - Water, sugar, and gelling agents are combined and heated to dissolve the sugar and activate the gelling agents.', 'Recipe': 'Jelly (70%) (Water, Sugar, Gelling Agents (Carrageenan, Locust Bean Gum, Xanthan Gum), Acidity Regulators (Sodium Citrates, Potassium Citrates, Calcium Lactate, Malic Acid, Citric Acid), Natural Flavours (Pineapple, Mango), Natural Colours (Carotene, Paprika Oleoresins), Antioxidant (Ascorbic Acid)), Peach (15%), Pear (15%)'}, {'ManufacturingProcessStep': 'Step 1', 'ManufacturingProcessDescription': 'Step 1: Preparation of Jelly - Water, sugar, and gelling agents are combined and heated to dissolve the sugar and activate the gelling agents.', 'Recipe': 'Jelly (70%) (Water, Sugar, Gelling Agents (Carrageenan, Locust Bean Gum, Xanthan Gum), Acidity Regulators (Sodium Citrates, Potassium Citrates, Calcium Lactate, Malic Acid, Citric Acid), Natural Flavours (Pineapple, Mango), Natural Colours (Carotene, Paprika Oleoresins), Antioxidant (Ascorbic Acid)), Peach (15%), Pear (15%)'}, {'ManufacturingProcessStep': 'Step 1', 'ManufacturingProcessDescription': 'Step 1: Preparation of Jelly - Water, sugar, and gelling agents are combined and heated to dissolve the sugar and activate the gelling agents.', 'Recipe': 'Jelly (70%) (Water, Sugar, Gelling Agents (Carrageenan, Locust Bean Gum, Xanthan Gum), Acidity Regulators (Sodium Citrates, Potassium Citrates, Calcium Lactate, Malic Acid, Citric Acid), Natural Flavours (Pineapple, Mango), Natural Colours (Carotene, Paprika Oleoresins), Antioxidant (Ascorbic Acid)), Peach (15%), Pear (15%)'}]\n"
     ]
    }
   ],
   "source": [
    "import pandas as pd\n",
    "import spacy\n",
    "\n",
    "\n",
    "nlp = spacy.load('en_core_web_sm')\n",
    "\n",
    "\n",
    "keyword_groups = [['water', 'sugar']]\n",
    "\n",
    "# Defining Filter Functions\n",
    "def filter_descriptions(description):\n",
    "    if pd.notnull(description):\n",
    "        doc = nlp(str(description).lower())\n",
    "        tokens = [token.text for token in doc]\n",
    "        for group in keyword_groups:\n",
    "            if all(word in tokens for word in group):\n",
    "                return True\n",
    "    return False\n",
    "\n",
    "# Filtering data frames and constructing lists of results\n",
    "result = []\n",
    "for index, row in df.iterrows():\n",
    "    if filter_descriptions(row['ManufacturingProcessDescription']):\n",
    "        result.append({\n",
    "            'ManufacturingProcessStep': row['ManufacturingProcessStep'],\n",
    "            'ManufacturingProcessDescription': row['ManufacturingProcessDescription'],\n",
    "            'Recipe': row['Recipe']\n",
    "        })\n",
    "\n",
    "print(result)"
   ]
  },
  {
   "cell_type": "code",
   "execution_count": 25,
   "metadata": {},
   "outputs": [
    {
     "name": "stderr",
     "output_type": "stream",
     "text": [
      "c:\\Users\\apple\\anaconda3\\lib\\site-packages\\spacy\\util.py:910: UserWarning:\n",
      "\n",
      "[W095] Model 'en_core_web_sm' (3.5.0) was trained with spaCy v3.5.0 and may not be 100% compatible with the current version (3.7.2). If you see errors or degraded performance, download a newer compatible model or retrain your custom model with the current spaCy version. For more details and available updates, run: python -m spacy validate\n",
      "\n"
     ]
    },
    {
     "data": {
      "application/vnd.plotly.v1+json": {
       "config": {
        "plotlyServerURL": "https://plot.ly"
       },
       "data": [
        {
         "cells": {
          "values": [
           [
            "Step 6",
            "Step 7",
            "Step 2",
            "Step 1",
            "Step 1",
            "Step 6",
            "Step 7",
            "Step 6",
            "Step 7",
            "Step 6",
            "Step 7",
            "Step 1",
            "Step 6",
            "Step 7",
            "Step 6",
            "Step 7",
            "Step 6",
            "Step 7",
            "Step 6",
            "Step 7",
            "Step 6",
            "Step 7",
            "Step 6",
            "Step 7",
            "Step 6",
            "Step 7",
            "Step 6",
            "Step 7",
            "Step 6",
            "Step 7",
            "Step 6",
            "Step 7",
            "Step 1",
            "Step 6",
            "Step 7",
            "Step 6",
            "Step 7",
            "Step 6",
            "Step 7",
            "Step 6",
            "Step 7",
            "Step 6",
            "Step 7",
            "Step 6",
            "Step 7",
            "Step 6",
            "Step 7",
            "Step 6",
            "Step 7",
            "Step 2",
            "Step 1",
            "Step 1",
            "Step 6",
            "Step 7",
            "Step 6",
            "Step 7",
            "Step 6",
            "Step 7",
            "Step 6",
            "Step 7",
            "Step 6",
            "Step 7",
            "Step 6",
            "Step 7",
            "Step 6",
            "Step 7",
            "Step 6",
            "Step 7",
            "Step 6",
            "Step 7",
            "Step 6",
            "Step 7",
            "Step 6",
            "Step 7",
            "Step 6",
            "Step 7",
            "Step 6",
            "Step 7",
            "Step 6",
            "Step 7",
            "Step 6",
            "Step 7",
            "Step 2",
            "Step 2",
            "Step 1",
            "Step 1",
            "Step 1",
            "Step 2",
            "Step 2",
            "Step 2",
            "Step 2",
            "Step 2",
            "Step 2",
            "Step 2",
            "Step 2",
            "Step 2",
            "Step 2",
            "Step 1",
            "Step 1",
            "Step 1",
            "Step 1",
            "Step 1",
            "Step 1",
            "Step 1",
            "Step 1",
            "Step 1",
            "Step 1",
            "Step 1",
            "Step 1",
            "Step 1",
            "Step 1",
            "Step 1",
            "Step 1",
            "Step 1",
            "Step 1",
            "Step 1",
            "Step 1",
            "Step 1",
            "Step 1",
            "Step 1",
            "Step 1",
            "Step 1"
           ],
           [
            "Step 6: The sweet soy sauce is made by mixing sugar, water, salt, wheat, soy bean, spices, and sesame oil.",
            "Step 7: The chilli sauce is made by mixing chilli, water, sugar, salt, tapioca starch, acidity regulators, herbs, flavour enhancers, flavours, and preservatives.",
            "Step 2: Combining the fruit juices and purées with water, sugar, food acids, vitamin C, natural flavors, and pectin.",
            "Step 1: Canola oil, water, sugar, and vinegar are mixed together in a large vat.",
            "Step 1: Preparation of Jelly - Water, sugar, and gelling agents are combined and heated to dissolve the sugar and activate the gelling agents.",
            "Step 6: The sweet soy sauce is made by mixing sugar, water, salt, wheat, soy bean, spices, and sesame oil.",
            "Step 7: The chilli sauce is made by mixing chilli, water, sugar, salt, tapioca starch, acidity regulators, herbs, flavour enhancers, flavours, and preservatives.",
            "Step 6: The sweet soy sauce is made by mixing sugar, water, salt, wheat, soy bean, spices, and sesame oil.",
            "Step 7: The chilli sauce is made by mixing chilli, water, sugar, salt, tapioca starch, acidity regulators, herbs, flavour enhancers, flavours, and preservatives.",
            "Step 6: The sweet soy sauce is made by mixing sugar, water, salt, wheat, soy bean, spices, and sesame oil.",
            "Step 7: The chilli sauce is made by mixing chilli, water, sugar, salt, tapioca starch, acidity regulators, herbs, flavour enhancers, flavours, and preservatives.",
            "Step 1: Canola oil, water, sugar, and vinegar are mixed together in a large vat.",
            "Step 6: The sweet soy sauce is made by mixing sugar, water, salt, wheat, soy bean, spices, and sesame oil.",
            "Step 7: The chilli sauce is made by mixing chilli, water, sugar, salt, tapioca starch, acidity regulators, herbs, flavour enhancers, flavours, and preservatives.",
            "Step 6: The sweet soy sauce is made by mixing sugar, water, salt, wheat, soy bean, spices, and sesame oil.",
            "Step 7: The chilli sauce is made by mixing chilli, water, sugar, salt, tapioca starch, acidity regulators, herbs, flavour enhancers, flavours, and preservatives.",
            "Step 6: The sweet soy sauce is made by mixing sugar, water, salt, wheat, soy bean, spices, and sesame oil.",
            "Step 7: The chilli sauce is made by mixing chilli, water, sugar, salt, tapioca starch, acidity regulators, herbs, flavour enhancers, flavours, and preservatives.",
            "Step 6: The sweet soy sauce is made by mixing sugar, water, salt, wheat, soy bean, spices, and sesame oil.",
            "Step 7: The chilli sauce is made by mixing chilli, water, sugar, salt, tapioca starch, acidity regulators, herbs, flavour enhancers, flavours, and preservatives.",
            "Step 6: The sweet soy sauce is made by mixing sugar, water, salt, wheat, soy bean, spices, and sesame oil.",
            "Step 7: The chilli sauce is made by mixing chilli, water, sugar, salt, tapioca starch, acidity regulators, herbs, flavour enhancers, flavours, and preservatives.",
            "Step 6: The sweet soy sauce is made by mixing sugar, water, salt, wheat, soy bean, spices, and sesame oil.",
            "Step 7: The chilli sauce is made by mixing chilli, water, sugar, salt, tapioca starch, acidity regulators, herbs, flavour enhancers, flavours, and preservatives.",
            "Step 6: The sweet soy sauce is made by mixing sugar, water, salt, wheat, soy bean, spices, and sesame oil.",
            "Step 7: The chilli sauce is made by mixing chilli, water, sugar, salt, tapioca starch, acidity regulators, herbs, flavour enhancers, flavours, and preservatives.",
            "Step 6: The sweet soy sauce is made by mixing sugar, water, salt, wheat, soy bean, spices, and sesame oil.",
            "Step 7: The chilli sauce is made by mixing chilli, water, sugar, salt, tapioca starch, acidity regulators, herbs, flavour enhancers, flavours, and preservatives.",
            "Step 6: The sweet soy sauce is made by mixing sugar, water, salt, wheat, soy bean, spices, and sesame oil.",
            "Step 7: The chilli sauce is made by mixing chilli, water, sugar, salt, tapioca starch, acidity regulators, herbs, flavour enhancers, flavours, and preservatives.",
            "Step 6: The sweet soy sauce is made by mixing sugar, water, salt, wheat, soy bean, spices, and sesame oil.",
            "Step 7: The chilli sauce is made by mixing chilli, water, sugar, salt, tapioca starch, acidity regulators, herbs, flavour enhancers, flavours, and preservatives.",
            "Step 1: Canola oil, water, sugar, and vinegar are mixed together in a large vat.",
            "Step 6: The sweet soy sauce is made by mixing sugar, water, salt, wheat, soy bean, spices, and sesame oil.",
            "Step 7: The chilli sauce is made by mixing chilli, water, sugar, salt, tapioca starch, acidity regulators, herbs, flavour enhancers, flavours, and preservatives.",
            "Step 6: The sweet soy sauce is made by mixing sugar, water, salt, wheat, soy bean, spices, and sesame oil.",
            "Step 7: The chilli sauce is made by mixing chilli, water, sugar, salt, tapioca starch, acidity regulators, herbs, flavour enhancers, flavours, and preservatives.",
            "Step 6: The sweet soy sauce is made by mixing sugar, water, salt, wheat, soy bean, spices, and sesame oil.",
            "Step 7: The chilli sauce is made by mixing chilli, water, sugar, salt, tapioca starch, acidity regulators, herbs, flavour enhancers, flavours, and preservatives.",
            "Step 6: The sweet soy sauce is made by mixing sugar, water, salt, wheat, soy bean, spices, and sesame oil.",
            "Step 7: The chilli sauce is made by mixing chilli, water, sugar, salt, tapioca starch, acidity regulators, herbs, flavour enhancers, flavours, and preservatives.",
            "Step 6: The sweet soy sauce is made by mixing sugar, water, salt, wheat, soy bean, spices, and sesame oil.",
            "Step 7: The chilli sauce is made by mixing chilli, water, sugar, salt, tapioca starch, acidity regulators, herbs, flavour enhancers, flavours, and preservatives.",
            "Step 6: The sweet soy sauce is made by mixing sugar, water, salt, wheat, soy bean, spices, and sesame oil.",
            "Step 7: The chilli sauce is made by mixing chilli, water, sugar, salt, tapioca starch, acidity regulators, herbs, flavour enhancers, flavours, and preservatives.",
            "Step 6: The sweet soy sauce is made by mixing sugar, water, salt, wheat, soy bean, spices, and sesame oil.",
            "Step 7: The chilli sauce is made by mixing chilli, water, sugar, salt, tapioca starch, acidity regulators, herbs, flavour enhancers, flavours, and preservatives.",
            "Step 6: The sweet soy sauce is made by mixing sugar, water, salt, wheat, soy bean, spices, and sesame oil.",
            "Step 7: The chilli sauce is made by mixing chilli, water, sugar, salt, tapioca starch, acidity regulators, herbs, flavour enhancers, flavours, and preservatives.",
            "Step 2: Combining the fruit juices and purées with water, sugar, food acids, vitamin C, natural flavors, and pectin.",
            "Step 1: Canola oil, water, sugar, and vinegar are mixed together in a large vat.",
            "Step 1: Preparation of Jelly - Water, sugar, and gelling agents are combined and heated to dissolve the sugar and activate the gelling agents.",
            "Step 6: The sweet soy sauce is made by mixing sugar, water, salt, wheat, soy bean, spices, and sesame oil.",
            "Step 7: The chilli sauce is made by mixing chilli, water, sugar, salt, tapioca starch, acidity regulators, herbs, flavour enhancers, flavours, and preservatives.",
            "Step 6: The sweet soy sauce is made by mixing sugar, water, salt, wheat, soy bean, spices, and sesame oil.",
            "Step 7: The chilli sauce is made by mixing chilli, water, sugar, salt, tapioca starch, acidity regulators, herbs, flavour enhancers, flavours, and preservatives.",
            "Step 6: The sweet soy sauce is made by mixing sugar, water, salt, wheat, soy bean, spices, and sesame oil.",
            "Step 7: The chilli sauce is made by mixing chilli, water, sugar, salt, tapioca starch, acidity regulators, herbs, flavour enhancers, flavours, and preservatives.",
            "Step 6: The sweet soy sauce is made by mixing sugar, water, salt, wheat, soy bean, spices, and sesame oil.",
            "Step 7: The chilli sauce is made by mixing chilli, water, sugar, salt, tapioca starch, acidity regulators, herbs, flavour enhancers, flavours, and preservatives.",
            "Step 6: The sweet soy sauce is made by mixing sugar, water, salt, wheat, soy bean, spices, and sesame oil.",
            "Step 7: The chilli sauce is made by mixing chilli, water, sugar, salt, tapioca starch, acidity regulators, herbs, flavour enhancers, flavours, and preservatives.",
            "Step 6: The sweet soy sauce is made by mixing sugar, water, salt, wheat, soy bean, spices, and sesame oil.",
            "Step 7: The chilli sauce is made by mixing chilli, water, sugar, salt, tapioca starch, acidity regulators, herbs, flavour enhancers, flavours, and preservatives.",
            "Step 6: The sweet soy sauce is made by mixing sugar, water, salt, wheat, soy bean, spices, and sesame oil.",
            "Step 7: The chilli sauce is made by mixing chilli, water, sugar, salt, tapioca starch, acidity regulators, herbs, flavour enhancers, flavours, and preservatives.",
            "Step 6: The sweet soy sauce is made by mixing sugar, water, salt, wheat, soy bean, spices, and sesame oil.",
            "Step 7: The chilli sauce is made by mixing chilli, water, sugar, salt, tapioca starch, acidity regulators, herbs, flavour enhancers, flavours, and preservatives.",
            "Step 6: The sweet soy sauce is made by mixing sugar, water, salt, wheat, soy bean, spices, and sesame oil.",
            "Step 7: The chilli sauce is made by mixing chilli, water, sugar, salt, tapioca starch, acidity regulators, herbs, flavour enhancers, flavours, and preservatives.",
            "Step 6: The sweet soy sauce is made by mixing sugar, water, salt, wheat, soy bean, spices, and sesame oil.",
            "Step 7: The chilli sauce is made by mixing chilli, water, sugar, salt, tapioca starch, acidity regulators, herbs, flavour enhancers, flavours, and preservatives.",
            "Step 6: The sweet soy sauce is made by mixing sugar, water, salt, wheat, soy bean, spices, and sesame oil.",
            "Step 7: The chilli sauce is made by mixing chilli, water, sugar, salt, tapioca starch, acidity regulators, herbs, flavour enhancers, flavours, and preservatives.",
            "Step 6: The sweet soy sauce is made by mixing sugar, water, salt, wheat, soy bean, spices, and sesame oil.",
            "Step 7: The chilli sauce is made by mixing chilli, water, sugar, salt, tapioca starch, acidity regulators, herbs, flavour enhancers, flavours, and preservatives.",
            "Step 6: The sweet soy sauce is made by mixing sugar, water, salt, wheat, soy bean, spices, and sesame oil.",
            "Step 7: The chilli sauce is made by mixing chilli, water, sugar, salt, tapioca starch, acidity regulators, herbs, flavour enhancers, flavours, and preservatives.",
            "Step 6: The sweet soy sauce is made by mixing sugar, water, salt, wheat, soy bean, spices, and sesame oil.",
            "Step 7: The chilli sauce is made by mixing chilli, water, sugar, salt, tapioca starch, acidity regulators, herbs, flavour enhancers, flavours, and preservatives.",
            "Step 6: The sweet soy sauce is made by mixing sugar, water, salt, wheat, soy bean, spices, and sesame oil.",
            "Step 7: The chilli sauce is made by mixing chilli, water, sugar, salt, tapioca starch, acidity regulators, herbs, flavour enhancers, flavours, and preservatives.",
            "Step 2: Combining the fruit juices and purées with water, sugar, food acids, vitamin C, natural flavors, and pectin.",
            "Step 2: Combining the fruit juices and purées with water, sugar, food acids, vitamin C, natural flavors, and pectin.",
            "Step 1: Canola oil, water, sugar, and vinegar are mixed together in a large vat.",
            "Step 1: Canola oil, water, sugar, and vinegar are mixed together in a large vat.",
            "Step 1: Preparation of Jelly - Water, sugar, and gelling agents are combined and heated to dissolve the sugar and activate the gelling agents.",
            "Step 2: Combining the fruit juices and purées with water, sugar, food acids, vitamin C, natural flavors, and pectin.",
            "Step 2: Combining the fruit juices and purées with water, sugar, food acids, vitamin C, natural flavors, and pectin.",
            "Step 2: Combining the fruit juices and purées with water, sugar, food acids, vitamin C, natural flavors, and pectin.",
            "Step 2: Combining the fruit juices and purées with water, sugar, food acids, vitamin C, natural flavors, and pectin.",
            "Step 2: Combining the fruit juices and purées with water, sugar, food acids, vitamin C, natural flavors, and pectin.",
            "Step 2: Combining the fruit juices and purées with water, sugar, food acids, vitamin C, natural flavors, and pectin.",
            "Step 2: Combining the fruit juices and purées with water, sugar, food acids, vitamin C, natural flavors, and pectin.",
            "Step 2: Combining the fruit juices and purées with water, sugar, food acids, vitamin C, natural flavors, and pectin.",
            "Step 2: Combining the fruit juices and purées with water, sugar, food acids, vitamin C, natural flavors, and pectin.",
            "Step 2: Combining the fruit juices and purées with water, sugar, food acids, vitamin C, natural flavors, and pectin.",
            "Step 1: Canola oil, water, sugar, and vinegar are mixed together in a large vat.",
            "Step 1: Canola oil, water, sugar, and vinegar are mixed together in a large vat.",
            "Step 1: Canola oil, water, sugar, and vinegar are mixed together in a large vat.",
            "Step 1: Canola oil, water, sugar, and vinegar are mixed together in a large vat.",
            "Step 1: Canola oil, water, sugar, and vinegar are mixed together in a large vat.",
            "Step 1: Canola oil, water, sugar, and vinegar are mixed together in a large vat.",
            "Step 1: Preparation of Jelly - Water, sugar, and gelling agents are combined and heated to dissolve the sugar and activate the gelling agents.",
            "Step 1: Canola oil, water, sugar, and vinegar are mixed together in a large vat.",
            "Step 1: Preparation of Jelly - Water, sugar, and gelling agents are combined and heated to dissolve the sugar and activate the gelling agents.",
            "Step 1: Canola oil, water, sugar, and vinegar are mixed together in a large vat.",
            "Step 1: Canola oil, water, sugar, and vinegar are mixed together in a large vat.",
            "Step 1: Canola oil, water, sugar, and vinegar are mixed together in a large vat.",
            "Step 1: Canola oil, water, sugar, and vinegar are mixed together in a large vat.",
            "Step 1: Preparation of Jelly - Water, sugar, and gelling agents are combined and heated to dissolve the sugar and activate the gelling agents.",
            "Step 1: Preparation of Jelly - Water, sugar, and gelling agents are combined and heated to dissolve the sugar and activate the gelling agents.",
            "Step 1: Preparation of Jelly - Water, sugar, and gelling agents are combined and heated to dissolve the sugar and activate the gelling agents.",
            "Step 1: Preparation of Jelly - Water, sugar, and gelling agents are combined and heated to dissolve the sugar and activate the gelling agents.",
            "Step 1: Preparation of Jelly - Water, sugar, and gelling agents are combined and heated to dissolve the sugar and activate the gelling agents.",
            "Step 1: Preparation of Jelly - Water, sugar, and gelling agents are combined and heated to dissolve the sugar and activate the gelling agents.",
            "Step 1: Preparation of Jelly - Water, sugar, and gelling agents are combined and heated to dissolve the sugar and activate the gelling agents.",
            "Step 1: Preparation of Jelly - Water, sugar, and gelling agents are combined and heated to dissolve the sugar and activate the gelling agents.",
            "Step 1: Preparation of Jelly - Water, sugar, and gelling agents are combined and heated to dissolve the sugar and activate the gelling agents.",
            "Step 1: Preparation of Jelly - Water, sugar, and gelling agents are combined and heated to dissolve the sugar and activate the gelling agents.",
            "Step 1: Preparation of Jelly - Water, sugar, and gelling agents are combined and heated to dissolve the sugar and activate the gelling agents.",
            "Step 1: Preparation of Jelly - Water, sugar, and gelling agents are combined and heated to dissolve the sugar and activate the gelling agents."
           ],
           [
            "Indomie Mi Goreng Instant Noodles",
            "Indomie Mi Goreng Instant Noodles",
            "Golden Circle Drinks Sunshine Punch Fruit Drink",
            "Woolworths Secret Burger Sauce",
            "Woolworths Two Fruits In Tropical Jelly",
            "Indomie Mi Goreng Instant Noodles",
            "Indomie Mi Goreng Instant Noodles",
            "Indomie Mi Goreng Instant Noodles",
            "Indomie Mi Goreng Instant Noodles",
            "Indomie Mi Goreng Instant Noodles",
            "Indomie Mi Goreng Instant Noodles",
            "Woolworths Secret Burger Sauce",
            "Indomie Mi Goreng Instant Noodles",
            "Indomie Mi Goreng Instant Noodles",
            "Indomie Mi Goreng Instant Noodles",
            "Indomie Mi Goreng Instant Noodles",
            "Indomie Mi Goreng Instant Noodles",
            "Indomie Mi Goreng Instant Noodles",
            "Indomie Mi Goreng Instant Noodles",
            "Indomie Mi Goreng Instant Noodles",
            "Indomie Mi Goreng Instant Noodles",
            "Indomie Mi Goreng Instant Noodles",
            "Indomie Mi Goreng Instant Noodles",
            "Indomie Mi Goreng Instant Noodles",
            "Indomie Mi Goreng Instant Noodles",
            "Indomie Mi Goreng Instant Noodles",
            "Indomie Mi Goreng Instant Noodles",
            "Indomie Mi Goreng Instant Noodles",
            "Indomie Mi Goreng Instant Noodles",
            "Indomie Mi Goreng Instant Noodles",
            "Indomie Mi Goreng Instant Noodles",
            "Indomie Mi Goreng Instant Noodles",
            "Woolworths Secret Burger Sauce",
            "Indomie Mi Goreng Instant Noodles",
            "Indomie Mi Goreng Instant Noodles",
            "Indomie Mi Goreng Instant Noodles",
            "Indomie Mi Goreng Instant Noodles",
            "Indomie Mi Goreng Instant Noodles",
            "Indomie Mi Goreng Instant Noodles",
            "Indomie Mi Goreng Instant Noodles",
            "Indomie Mi Goreng Instant Noodles",
            "Indomie Mi Goreng Instant Noodles",
            "Indomie Mi Goreng Instant Noodles",
            "Indomie Mi Goreng Instant Noodles",
            "Indomie Mi Goreng Instant Noodles",
            "Indomie Mi Goreng Instant Noodles",
            "Indomie Mi Goreng Instant Noodles",
            "Indomie Mi Goreng Instant Noodles",
            "Indomie Mi Goreng Instant Noodles",
            "Golden Circle Drinks Sunshine Punch Fruit Drink",
            "Woolworths Secret Burger Sauce",
            "Woolworths Two Fruits In Tropical Jelly",
            "Indomie Mi Goreng Instant Noodles",
            "Indomie Mi Goreng Instant Noodles",
            "Indomie Mi Goreng Instant Noodles",
            "Indomie Mi Goreng Instant Noodles",
            "Indomie Mi Goreng Instant Noodles",
            "Indomie Mi Goreng Instant Noodles",
            "Indomie Mi Goreng Instant Noodles",
            "Indomie Mi Goreng Instant Noodles",
            "Indomie Mi Goreng Instant Noodles",
            "Indomie Mi Goreng Instant Noodles",
            "Indomie Mi Goreng Instant Noodles",
            "Indomie Mi Goreng Instant Noodles",
            "Indomie Mi Goreng Instant Noodles",
            "Indomie Mi Goreng Instant Noodles",
            "Indomie Mi Goreng Instant Noodles",
            "Indomie Mi Goreng Instant Noodles",
            "Indomie Mi Goreng Instant Noodles",
            "Indomie Mi Goreng Instant Noodles",
            "Indomie Mi Goreng Instant Noodles",
            "Indomie Mi Goreng Instant Noodles",
            "Indomie Mi Goreng Instant Noodles",
            "Indomie Mi Goreng Instant Noodles",
            "Indomie Mi Goreng Instant Noodles",
            "Indomie Mi Goreng Instant Noodles",
            "Indomie Mi Goreng Instant Noodles",
            "Indomie Mi Goreng Instant Noodles",
            "Indomie Mi Goreng Instant Noodles",
            "Indomie Mi Goreng Instant Noodles",
            "Indomie Mi Goreng Instant Noodles",
            "Indomie Mi Goreng Instant Noodles",
            "Golden Circle Drinks Sunshine Punch Fruit Drink",
            "Golden Circle Drinks Sunshine Punch Fruit Drink",
            "Woolworths Secret Burger Sauce",
            "Woolworths Secret Burger Sauce",
            "Woolworths Two Fruits In Tropical Jelly",
            "Golden Circle Drinks Sunshine Punch Fruit Drink",
            "Golden Circle Drinks Sunshine Punch Fruit Drink",
            "Golden Circle Drinks Sunshine Punch Fruit Drink",
            "Golden Circle Drinks Sunshine Punch Fruit Drink",
            "Golden Circle Drinks Sunshine Punch Fruit Drink",
            "Golden Circle Drinks Sunshine Punch Fruit Drink",
            "Golden Circle Drinks Sunshine Punch Fruit Drink",
            "Golden Circle Drinks Sunshine Punch Fruit Drink",
            "Golden Circle Drinks Sunshine Punch Fruit Drink",
            "Golden Circle Drinks Sunshine Punch Fruit Drink",
            "Woolworths Secret Burger Sauce",
            "Woolworths Secret Burger Sauce",
            "Woolworths Secret Burger Sauce",
            "Woolworths Secret Burger Sauce",
            "Woolworths Secret Burger Sauce",
            "Woolworths Secret Burger Sauce",
            "Woolworths Two Fruits In Tropical Jelly",
            "Woolworths Secret Burger Sauce",
            "Woolworths Two Fruits In Tropical Jelly",
            "Woolworths Secret Burger Sauce",
            "Woolworths Secret Burger Sauce",
            "Woolworths Secret Burger Sauce",
            "Woolworths Secret Burger Sauce",
            "Woolworths Two Fruits In Tropical Jelly",
            "Woolworths Two Fruits In Tropical Jelly",
            "Woolworths Two Fruits In Tropical Jelly",
            "Woolworths Two Fruits In Tropical Jelly",
            "Woolworths Two Fruits In Tropical Jelly",
            "Woolworths Two Fruits In Tropical Jelly",
            "Woolworths Two Fruits In Tropical Jelly",
            "Woolworths Two Fruits In Tropical Jelly",
            "Woolworths Two Fruits In Tropical Jelly",
            "Woolworths Two Fruits In Tropical Jelly",
            "Woolworths Two Fruits In Tropical Jelly",
            "Woolworths Two Fruits In Tropical Jelly"
           ],
           [
            "Noodles: Wheat Flour (62%), Refined Palm Oil (Contains Antioxidant 319), Salt, Acidity Regulators (451, 501, 500), Thickener (412), Colour (101).<br>Seasoning Powder: Salt, Sugar, Flavour Enhancers (621, 631, 627), Garlic Powder, Onion Powder, Yeast Extract, Artificial Flavour, Pepper, Anti Caking Agent (551).<br>Seasoning Oil: Refined Palm Oil (Contains Antioxidant 319), Onion.<br>Sweet Soy Sauce: Sugar, Water, Salt, Wheat, Soy Bean, Spices, Sesame Oil.<br>Chilli Sauce: Chilli, Water, Sugar, Salt, Tapioca Starch, Acidity Regulators (260, 330), Herbs, Flavour Enhancers (621, 627, 631), Flavours, Preservatives 1211, 223). Fried Onion: Onion, Refined Palm Oil (Contains Antioxidant 319).",
            "Noodles: Wheat Flour (62%), Refined Palm Oil (Contains Antioxidant 319), Salt, Acidity Regulators (451, 501, 500), Thickener (412), Colour (101).<br>Seasoning Powder: Salt, Sugar, Flavour Enhancers (621, 631, 627), Garlic Powder, Onion Powder, Yeast Extract, Artificial Flavour, Pepper, Anti Caking Agent (551).<br>Seasoning Oil: Refined Palm Oil (Contains Antioxidant 319), Onion.<br>Sweet Soy Sauce: Sugar, Water, Salt, Wheat, Soy Bean, Spices, Sesame Oil.<br>Chilli Sauce: Chilli, Water, Sugar, Salt, Tapioca Starch, Acidity Regulators (260, 330), Herbs, Flavour Enhancers (621, 627, 631), Flavours, Preservatives 1211, 223). Fried Onion: Onion, Refined Palm Oil (Contains Antioxidant 319).",
            "Water, Reconstituted Fruit Juice (25%) (Apple or Pear, Pineapple, Orange or Water Extracted Orange, Peach Purée, Passionfruit), Sugar, Food Acids (Citric Acid, Potassium Citrate), Vitamin C, Natural Flavours, Stabiliser (Pectin).",
            "Canola Oil, Water, Sugar, Vinegar, Thickener (1422, Xanthan Gum), Free Range Egg Yolk,  Gherkin, Salt, Onion Powder, Natural Colour (Carotene, Paprika Oleoresins), Preservative (Potassium Sorbate), Dill, Acidity Regulator (Citric Acid), Herb Extract, Mustard Oil.",
            "Jelly (70%) (Water, Sugar, Gelling Agents (Carrageenan, Locust Bean Gum, Xanthan Gum), Acidity Regulators (Sodium Citrates, Potassium Citrates, Calcium Lactate, Malic Acid, Citric Acid), Natural Flavours (Pineapple, Mango), Natural Colours (Carotene, Paprika Oleoresins), Antioxidant (Ascorbic Acid)), Peach (15%), Pear (15%)",
            "Noodles: Wheat Flour (62%), Refined Palm Oil (Contains Antioxidant 319), Salt, Acidity Regulators (451, 501, 500), Thickener (412), Colour (101).<br>Seasoning Powder: Salt, Sugar, Flavour Enhancers (621, 631, 627), Garlic Powder, Onion Powder, Yeast Extract, Artificial Flavour, Pepper, Anti Caking Agent (551).<br>Seasoning Oil: Refined Palm Oil (Contains Antioxidant 319), Onion.<br>Sweet Soy Sauce: Sugar, Water, Salt, Wheat, Soy Bean, Spices, Sesame Oil.<br>Chilli Sauce: Chilli, Water, Sugar, Salt, Tapioca Starch, Acidity Regulators (260, 330), Herbs, Flavour Enhancers (621, 627, 631), Flavours, Preservatives 1211, 223). Fried Onion: Onion, Refined Palm Oil (Contains Antioxidant 319).",
            "Noodles: Wheat Flour (62%), Refined Palm Oil (Contains Antioxidant 319), Salt, Acidity Regulators (451, 501, 500), Thickener (412), Colour (101).<br>Seasoning Powder: Salt, Sugar, Flavour Enhancers (621, 631, 627), Garlic Powder, Onion Powder, Yeast Extract, Artificial Flavour, Pepper, Anti Caking Agent (551).<br>Seasoning Oil: Refined Palm Oil (Contains Antioxidant 319), Onion.<br>Sweet Soy Sauce: Sugar, Water, Salt, Wheat, Soy Bean, Spices, Sesame Oil.<br>Chilli Sauce: Chilli, Water, Sugar, Salt, Tapioca Starch, Acidity Regulators (260, 330), Herbs, Flavour Enhancers (621, 627, 631), Flavours, Preservatives 1211, 223). Fried Onion: Onion, Refined Palm Oil (Contains Antioxidant 319).",
            "Noodles: Wheat Flour (62%), Refined Palm Oil (Contains Antioxidant 319), Salt, Acidity Regulators (451, 501, 500), Thickener (412), Colour (101).<br>Seasoning Powder: Salt, Sugar, Flavour Enhancers (621, 631, 627), Garlic Powder, Onion Powder, Yeast Extract, Artificial Flavour, Pepper, Anti Caking Agent (551).<br>Seasoning Oil: Refined Palm Oil (Contains Antioxidant 319), Onion.<br>Sweet Soy Sauce: Sugar, Water, Salt, Wheat, Soy Bean, Spices, Sesame Oil.<br>Chilli Sauce: Chilli, Water, Sugar, Salt, Tapioca Starch, Acidity Regulators (260, 330), Herbs, Flavour Enhancers (621, 627, 631), Flavours, Preservatives 1211, 223). Fried Onion: Onion, Refined Palm Oil (Contains Antioxidant 319).",
            "Noodles: Wheat Flour (62%), Refined Palm Oil (Contains Antioxidant 319), Salt, Acidity Regulators (451, 501, 500), Thickener (412), Colour (101).<br>Seasoning Powder: Salt, Sugar, Flavour Enhancers (621, 631, 627), Garlic Powder, Onion Powder, Yeast Extract, Artificial Flavour, Pepper, Anti Caking Agent (551).<br>Seasoning Oil: Refined Palm Oil (Contains Antioxidant 319), Onion.<br>Sweet Soy Sauce: Sugar, Water, Salt, Wheat, Soy Bean, Spices, Sesame Oil.<br>Chilli Sauce: Chilli, Water, Sugar, Salt, Tapioca Starch, Acidity Regulators (260, 330), Herbs, Flavour Enhancers (621, 627, 631), Flavours, Preservatives 1211, 223). Fried Onion: Onion, Refined Palm Oil (Contains Antioxidant 319).",
            "Noodles: Wheat Flour (62%), Refined Palm Oil (Contains Antioxidant 319), Salt, Acidity Regulators (451, 501, 500), Thickener (412), Colour (101).<br>Seasoning Powder: Salt, Sugar, Flavour Enhancers (621, 631, 627), Garlic Powder, Onion Powder, Yeast Extract, Artificial Flavour, Pepper, Anti Caking Agent (551).<br>Seasoning Oil: Refined Palm Oil (Contains Antioxidant 319), Onion.<br>Sweet Soy Sauce: Sugar, Water, Salt, Wheat, Soy Bean, Spices, Sesame Oil.<br>Chilli Sauce: Chilli, Water, Sugar, Salt, Tapioca Starch, Acidity Regulators (260, 330), Herbs, Flavour Enhancers (621, 627, 631), Flavours, Preservatives 1211, 223). Fried Onion: Onion, Refined Palm Oil (Contains Antioxidant 319).",
            "Noodles: Wheat Flour (62%), Refined Palm Oil (Contains Antioxidant 319), Salt, Acidity Regulators (451, 501, 500), Thickener (412), Colour (101).<br>Seasoning Powder: Salt, Sugar, Flavour Enhancers (621, 631, 627), Garlic Powder, Onion Powder, Yeast Extract, Artificial Flavour, Pepper, Anti Caking Agent (551).<br>Seasoning Oil: Refined Palm Oil (Contains Antioxidant 319), Onion.<br>Sweet Soy Sauce: Sugar, Water, Salt, Wheat, Soy Bean, Spices, Sesame Oil.<br>Chilli Sauce: Chilli, Water, Sugar, Salt, Tapioca Starch, Acidity Regulators (260, 330), Herbs, Flavour Enhancers (621, 627, 631), Flavours, Preservatives 1211, 223). Fried Onion: Onion, Refined Palm Oil (Contains Antioxidant 319).",
            "Canola Oil, Water, Sugar, Vinegar, Thickener (1422, Xanthan Gum), Free Range Egg Yolk,  Gherkin, Salt, Onion Powder, Natural Colour (Carotene, Paprika Oleoresins), Preservative (Potassium Sorbate), Dill, Acidity Regulator (Citric Acid), Herb Extract, Mustard Oil.",
            "Noodles: Wheat Flour (62%), Refined Palm Oil (Contains Antioxidant 319), Salt, Acidity Regulators (451, 501, 500), Thickener (412), Colour (101).<br>Seasoning Powder: Salt, Sugar, Flavour Enhancers (621, 631, 627), Garlic Powder, Onion Powder, Yeast Extract, Artificial Flavour, Pepper, Anti Caking Agent (551).<br>Seasoning Oil: Refined Palm Oil (Contains Antioxidant 319), Onion.<br>Sweet Soy Sauce: Sugar, Water, Salt, Wheat, Soy Bean, Spices, Sesame Oil.<br>Chilli Sauce: Chilli, Water, Sugar, Salt, Tapioca Starch, Acidity Regulators (260, 330), Herbs, Flavour Enhancers (621, 627, 631), Flavours, Preservatives 1211, 223). Fried Onion: Onion, Refined Palm Oil (Contains Antioxidant 319).",
            "Noodles: Wheat Flour (62%), Refined Palm Oil (Contains Antioxidant 319), Salt, Acidity Regulators (451, 501, 500), Thickener (412), Colour (101).<br>Seasoning Powder: Salt, Sugar, Flavour Enhancers (621, 631, 627), Garlic Powder, Onion Powder, Yeast Extract, Artificial Flavour, Pepper, Anti Caking Agent (551).<br>Seasoning Oil: Refined Palm Oil (Contains Antioxidant 319), Onion.<br>Sweet Soy Sauce: Sugar, Water, Salt, Wheat, Soy Bean, Spices, Sesame Oil.<br>Chilli Sauce: Chilli, Water, Sugar, Salt, Tapioca Starch, Acidity Regulators (260, 330), Herbs, Flavour Enhancers (621, 627, 631), Flavours, Preservatives 1211, 223). Fried Onion: Onion, Refined Palm Oil (Contains Antioxidant 319).",
            "Noodles: Wheat Flour (62%), Refined Palm Oil (Contains Antioxidant 319), Salt, Acidity Regulators (451, 501, 500), Thickener (412), Colour (101).<br>Seasoning Powder: Salt, Sugar, Flavour Enhancers (621, 631, 627), Garlic Powder, Onion Powder, Yeast Extract, Artificial Flavour, Pepper, Anti Caking Agent (551).<br>Seasoning Oil: Refined Palm Oil (Contains Antioxidant 319), Onion.<br>Sweet Soy Sauce: Sugar, Water, Salt, Wheat, Soy Bean, Spices, Sesame Oil.<br>Chilli Sauce: Chilli, Water, Sugar, Salt, Tapioca Starch, Acidity Regulators (260, 330), Herbs, Flavour Enhancers (621, 627, 631), Flavours, Preservatives 1211, 223). Fried Onion: Onion, Refined Palm Oil (Contains Antioxidant 319).",
            "Noodles: Wheat Flour (62%), Refined Palm Oil (Contains Antioxidant 319), Salt, Acidity Regulators (451, 501, 500), Thickener (412), Colour (101).<br>Seasoning Powder: Salt, Sugar, Flavour Enhancers (621, 631, 627), Garlic Powder, Onion Powder, Yeast Extract, Artificial Flavour, Pepper, Anti Caking Agent (551).<br>Seasoning Oil: Refined Palm Oil (Contains Antioxidant 319), Onion.<br>Sweet Soy Sauce: Sugar, Water, Salt, Wheat, Soy Bean, Spices, Sesame Oil.<br>Chilli Sauce: Chilli, Water, Sugar, Salt, Tapioca Starch, Acidity Regulators (260, 330), Herbs, Flavour Enhancers (621, 627, 631), Flavours, Preservatives 1211, 223). Fried Onion: Onion, Refined Palm Oil (Contains Antioxidant 319).",
            "Noodles: Wheat Flour (62%), Refined Palm Oil (Contains Antioxidant 319), Salt, Acidity Regulators (451, 501, 500), Thickener (412), Colour (101).<br>Seasoning Powder: Salt, Sugar, Flavour Enhancers (621, 631, 627), Garlic Powder, Onion Powder, Yeast Extract, Artificial Flavour, Pepper, Anti Caking Agent (551).<br>Seasoning Oil: Refined Palm Oil (Contains Antioxidant 319), Onion.<br>Sweet Soy Sauce: Sugar, Water, Salt, Wheat, Soy Bean, Spices, Sesame Oil.<br>Chilli Sauce: Chilli, Water, Sugar, Salt, Tapioca Starch, Acidity Regulators (260, 330), Herbs, Flavour Enhancers (621, 627, 631), Flavours, Preservatives 1211, 223). Fried Onion: Onion, Refined Palm Oil (Contains Antioxidant 319).",
            "Noodles: Wheat Flour (62%), Refined Palm Oil (Contains Antioxidant 319), Salt, Acidity Regulators (451, 501, 500), Thickener (412), Colour (101).<br>Seasoning Powder: Salt, Sugar, Flavour Enhancers (621, 631, 627), Garlic Powder, Onion Powder, Yeast Extract, Artificial Flavour, Pepper, Anti Caking Agent (551).<br>Seasoning Oil: Refined Palm Oil (Contains Antioxidant 319), Onion.<br>Sweet Soy Sauce: Sugar, Water, Salt, Wheat, Soy Bean, Spices, Sesame Oil.<br>Chilli Sauce: Chilli, Water, Sugar, Salt, Tapioca Starch, Acidity Regulators (260, 330), Herbs, Flavour Enhancers (621, 627, 631), Flavours, Preservatives 1211, 223). Fried Onion: Onion, Refined Palm Oil (Contains Antioxidant 319).",
            "Noodles: Wheat Flour (62%), Refined Palm Oil (Contains Antioxidant 319), Salt, Acidity Regulators (451, 501, 500), Thickener (412), Colour (101).<br>Seasoning Powder: Salt, Sugar, Flavour Enhancers (621, 631, 627), Garlic Powder, Onion Powder, Yeast Extract, Artificial Flavour, Pepper, Anti Caking Agent (551).<br>Seasoning Oil: Refined Palm Oil (Contains Antioxidant 319), Onion.<br>Sweet Soy Sauce: Sugar, Water, Salt, Wheat, Soy Bean, Spices, Sesame Oil.<br>Chilli Sauce: Chilli, Water, Sugar, Salt, Tapioca Starch, Acidity Regulators (260, 330), Herbs, Flavour Enhancers (621, 627, 631), Flavours, Preservatives 1211, 223). Fried Onion: Onion, Refined Palm Oil (Contains Antioxidant 319).",
            "Noodles: Wheat Flour (62%), Refined Palm Oil (Contains Antioxidant 319), Salt, Acidity Regulators (451, 501, 500), Thickener (412), Colour (101).<br>Seasoning Powder: Salt, Sugar, Flavour Enhancers (621, 631, 627), Garlic Powder, Onion Powder, Yeast Extract, Artificial Flavour, Pepper, Anti Caking Agent (551).<br>Seasoning Oil: Refined Palm Oil (Contains Antioxidant 319), Onion.<br>Sweet Soy Sauce: Sugar, Water, Salt, Wheat, Soy Bean, Spices, Sesame Oil.<br>Chilli Sauce: Chilli, Water, Sugar, Salt, Tapioca Starch, Acidity Regulators (260, 330), Herbs, Flavour Enhancers (621, 627, 631), Flavours, Preservatives 1211, 223). Fried Onion: Onion, Refined Palm Oil (Contains Antioxidant 319).",
            "Noodles: Wheat Flour (62%), Refined Palm Oil (Contains Antioxidant 319), Salt, Acidity Regulators (451, 501, 500), Thickener (412), Colour (101).<br>Seasoning Powder: Salt, Sugar, Flavour Enhancers (621, 631, 627), Garlic Powder, Onion Powder, Yeast Extract, Artificial Flavour, Pepper, Anti Caking Agent (551).<br>Seasoning Oil: Refined Palm Oil (Contains Antioxidant 319), Onion.<br>Sweet Soy Sauce: Sugar, Water, Salt, Wheat, Soy Bean, Spices, Sesame Oil.<br>Chilli Sauce: Chilli, Water, Sugar, Salt, Tapioca Starch, Acidity Regulators (260, 330), Herbs, Flavour Enhancers (621, 627, 631), Flavours, Preservatives 1211, 223). Fried Onion: Onion, Refined Palm Oil (Contains Antioxidant 319).",
            "Noodles: Wheat Flour (62%), Refined Palm Oil (Contains Antioxidant 319), Salt, Acidity Regulators (451, 501, 500), Thickener (412), Colour (101).<br>Seasoning Powder: Salt, Sugar, Flavour Enhancers (621, 631, 627), Garlic Powder, Onion Powder, Yeast Extract, Artificial Flavour, Pepper, Anti Caking Agent (551).<br>Seasoning Oil: Refined Palm Oil (Contains Antioxidant 319), Onion.<br>Sweet Soy Sauce: Sugar, Water, Salt, Wheat, Soy Bean, Spices, Sesame Oil.<br>Chilli Sauce: Chilli, Water, Sugar, Salt, Tapioca Starch, Acidity Regulators (260, 330), Herbs, Flavour Enhancers (621, 627, 631), Flavours, Preservatives 1211, 223). Fried Onion: Onion, Refined Palm Oil (Contains Antioxidant 319).",
            "Noodles: Wheat Flour (62%), Refined Palm Oil (Contains Antioxidant 319), Salt, Acidity Regulators (451, 501, 500), Thickener (412), Colour (101).<br>Seasoning Powder: Salt, Sugar, Flavour Enhancers (621, 631, 627), Garlic Powder, Onion Powder, Yeast Extract, Artificial Flavour, Pepper, Anti Caking Agent (551).<br>Seasoning Oil: Refined Palm Oil (Contains Antioxidant 319), Onion.<br>Sweet Soy Sauce: Sugar, Water, Salt, Wheat, Soy Bean, Spices, Sesame Oil.<br>Chilli Sauce: Chilli, Water, Sugar, Salt, Tapioca Starch, Acidity Regulators (260, 330), Herbs, Flavour Enhancers (621, 627, 631), Flavours, Preservatives 1211, 223). Fried Onion: Onion, Refined Palm Oil (Contains Antioxidant 319).",
            "Noodles: Wheat Flour (62%), Refined Palm Oil (Contains Antioxidant 319), Salt, Acidity Regulators (451, 501, 500), Thickener (412), Colour (101).<br>Seasoning Powder: Salt, Sugar, Flavour Enhancers (621, 631, 627), Garlic Powder, Onion Powder, Yeast Extract, Artificial Flavour, Pepper, Anti Caking Agent (551).<br>Seasoning Oil: Refined Palm Oil (Contains Antioxidant 319), Onion.<br>Sweet Soy Sauce: Sugar, Water, Salt, Wheat, Soy Bean, Spices, Sesame Oil.<br>Chilli Sauce: Chilli, Water, Sugar, Salt, Tapioca Starch, Acidity Regulators (260, 330), Herbs, Flavour Enhancers (621, 627, 631), Flavours, Preservatives 1211, 223). Fried Onion: Onion, Refined Palm Oil (Contains Antioxidant 319).",
            "Noodles: Wheat Flour (62%), Refined Palm Oil (Contains Antioxidant 319), Salt, Acidity Regulators (451, 501, 500), Thickener (412), Colour (101).<br>Seasoning Powder: Salt, Sugar, Flavour Enhancers (621, 631, 627), Garlic Powder, Onion Powder, Yeast Extract, Artificial Flavour, Pepper, Anti Caking Agent (551).<br>Seasoning Oil: Refined Palm Oil (Contains Antioxidant 319), Onion.<br>Sweet Soy Sauce: Sugar, Water, Salt, Wheat, Soy Bean, Spices, Sesame Oil.<br>Chilli Sauce: Chilli, Water, Sugar, Salt, Tapioca Starch, Acidity Regulators (260, 330), Herbs, Flavour Enhancers (621, 627, 631), Flavours, Preservatives 1211, 223). Fried Onion: Onion, Refined Palm Oil (Contains Antioxidant 319).",
            "Noodles: Wheat Flour (62%), Refined Palm Oil (Contains Antioxidant 319), Salt, Acidity Regulators (451, 501, 500), Thickener (412), Colour (101).<br>Seasoning Powder: Salt, Sugar, Flavour Enhancers (621, 631, 627), Garlic Powder, Onion Powder, Yeast Extract, Artificial Flavour, Pepper, Anti Caking Agent (551).<br>Seasoning Oil: Refined Palm Oil (Contains Antioxidant 319), Onion.<br>Sweet Soy Sauce: Sugar, Water, Salt, Wheat, Soy Bean, Spices, Sesame Oil.<br>Chilli Sauce: Chilli, Water, Sugar, Salt, Tapioca Starch, Acidity Regulators (260, 330), Herbs, Flavour Enhancers (621, 627, 631), Flavours, Preservatives 1211, 223). Fried Onion: Onion, Refined Palm Oil (Contains Antioxidant 319).",
            "Noodles: Wheat Flour (62%), Refined Palm Oil (Contains Antioxidant 319), Salt, Acidity Regulators (451, 501, 500), Thickener (412), Colour (101).<br>Seasoning Powder: Salt, Sugar, Flavour Enhancers (621, 631, 627), Garlic Powder, Onion Powder, Yeast Extract, Artificial Flavour, Pepper, Anti Caking Agent (551).<br>Seasoning Oil: Refined Palm Oil (Contains Antioxidant 319), Onion.<br>Sweet Soy Sauce: Sugar, Water, Salt, Wheat, Soy Bean, Spices, Sesame Oil.<br>Chilli Sauce: Chilli, Water, Sugar, Salt, Tapioca Starch, Acidity Regulators (260, 330), Herbs, Flavour Enhancers (621, 627, 631), Flavours, Preservatives 1211, 223). Fried Onion: Onion, Refined Palm Oil (Contains Antioxidant 319).",
            "Noodles: Wheat Flour (62%), Refined Palm Oil (Contains Antioxidant 319), Salt, Acidity Regulators (451, 501, 500), Thickener (412), Colour (101).<br>Seasoning Powder: Salt, Sugar, Flavour Enhancers (621, 631, 627), Garlic Powder, Onion Powder, Yeast Extract, Artificial Flavour, Pepper, Anti Caking Agent (551).<br>Seasoning Oil: Refined Palm Oil (Contains Antioxidant 319), Onion.<br>Sweet Soy Sauce: Sugar, Water, Salt, Wheat, Soy Bean, Spices, Sesame Oil.<br>Chilli Sauce: Chilli, Water, Sugar, Salt, Tapioca Starch, Acidity Regulators (260, 330), Herbs, Flavour Enhancers (621, 627, 631), Flavours, Preservatives 1211, 223). Fried Onion: Onion, Refined Palm Oil (Contains Antioxidant 319).",
            "Noodles: Wheat Flour (62%), Refined Palm Oil (Contains Antioxidant 319), Salt, Acidity Regulators (451, 501, 500), Thickener (412), Colour (101).<br>Seasoning Powder: Salt, Sugar, Flavour Enhancers (621, 631, 627), Garlic Powder, Onion Powder, Yeast Extract, Artificial Flavour, Pepper, Anti Caking Agent (551).<br>Seasoning Oil: Refined Palm Oil (Contains Antioxidant 319), Onion.<br>Sweet Soy Sauce: Sugar, Water, Salt, Wheat, Soy Bean, Spices, Sesame Oil.<br>Chilli Sauce: Chilli, Water, Sugar, Salt, Tapioca Starch, Acidity Regulators (260, 330), Herbs, Flavour Enhancers (621, 627, 631), Flavours, Preservatives 1211, 223). Fried Onion: Onion, Refined Palm Oil (Contains Antioxidant 319).",
            "Noodles: Wheat Flour (62%), Refined Palm Oil (Contains Antioxidant 319), Salt, Acidity Regulators (451, 501, 500), Thickener (412), Colour (101).<br>Seasoning Powder: Salt, Sugar, Flavour Enhancers (621, 631, 627), Garlic Powder, Onion Powder, Yeast Extract, Artificial Flavour, Pepper, Anti Caking Agent (551).<br>Seasoning Oil: Refined Palm Oil (Contains Antioxidant 319), Onion.<br>Sweet Soy Sauce: Sugar, Water, Salt, Wheat, Soy Bean, Spices, Sesame Oil.<br>Chilli Sauce: Chilli, Water, Sugar, Salt, Tapioca Starch, Acidity Regulators (260, 330), Herbs, Flavour Enhancers (621, 627, 631), Flavours, Preservatives 1211, 223). Fried Onion: Onion, Refined Palm Oil (Contains Antioxidant 319).",
            "Noodles: Wheat Flour (62%), Refined Palm Oil (Contains Antioxidant 319), Salt, Acidity Regulators (451, 501, 500), Thickener (412), Colour (101).<br>Seasoning Powder: Salt, Sugar, Flavour Enhancers (621, 631, 627), Garlic Powder, Onion Powder, Yeast Extract, Artificial Flavour, Pepper, Anti Caking Agent (551).<br>Seasoning Oil: Refined Palm Oil (Contains Antioxidant 319), Onion.<br>Sweet Soy Sauce: Sugar, Water, Salt, Wheat, Soy Bean, Spices, Sesame Oil.<br>Chilli Sauce: Chilli, Water, Sugar, Salt, Tapioca Starch, Acidity Regulators (260, 330), Herbs, Flavour Enhancers (621, 627, 631), Flavours, Preservatives 1211, 223). Fried Onion: Onion, Refined Palm Oil (Contains Antioxidant 319).",
            "Noodles: Wheat Flour (62%), Refined Palm Oil (Contains Antioxidant 319), Salt, Acidity Regulators (451, 501, 500), Thickener (412), Colour (101).<br>Seasoning Powder: Salt, Sugar, Flavour Enhancers (621, 631, 627), Garlic Powder, Onion Powder, Yeast Extract, Artificial Flavour, Pepper, Anti Caking Agent (551).<br>Seasoning Oil: Refined Palm Oil (Contains Antioxidant 319), Onion.<br>Sweet Soy Sauce: Sugar, Water, Salt, Wheat, Soy Bean, Spices, Sesame Oil.<br>Chilli Sauce: Chilli, Water, Sugar, Salt, Tapioca Starch, Acidity Regulators (260, 330), Herbs, Flavour Enhancers (621, 627, 631), Flavours, Preservatives 1211, 223). Fried Onion: Onion, Refined Palm Oil (Contains Antioxidant 319).",
            "Canola Oil, Water, Sugar, Vinegar, Thickener (1422, Xanthan Gum), Free Range Egg Yolk,  Gherkin, Salt, Onion Powder, Natural Colour (Carotene, Paprika Oleoresins), Preservative (Potassium Sorbate), Dill, Acidity Regulator (Citric Acid), Herb Extract, Mustard Oil.",
            "Noodles: Wheat Flour (62%), Refined Palm Oil (Contains Antioxidant 319), Salt, Acidity Regulators (451, 501, 500), Thickener (412), Colour (101).<br>Seasoning Powder: Salt, Sugar, Flavour Enhancers (621, 631, 627), Garlic Powder, Onion Powder, Yeast Extract, Artificial Flavour, Pepper, Anti Caking Agent (551).<br>Seasoning Oil: Refined Palm Oil (Contains Antioxidant 319), Onion.<br>Sweet Soy Sauce: Sugar, Water, Salt, Wheat, Soy Bean, Spices, Sesame Oil.<br>Chilli Sauce: Chilli, Water, Sugar, Salt, Tapioca Starch, Acidity Regulators (260, 330), Herbs, Flavour Enhancers (621, 627, 631), Flavours, Preservatives 1211, 223). Fried Onion: Onion, Refined Palm Oil (Contains Antioxidant 319).",
            "Noodles: Wheat Flour (62%), Refined Palm Oil (Contains Antioxidant 319), Salt, Acidity Regulators (451, 501, 500), Thickener (412), Colour (101).<br>Seasoning Powder: Salt, Sugar, Flavour Enhancers (621, 631, 627), Garlic Powder, Onion Powder, Yeast Extract, Artificial Flavour, Pepper, Anti Caking Agent (551).<br>Seasoning Oil: Refined Palm Oil (Contains Antioxidant 319), Onion.<br>Sweet Soy Sauce: Sugar, Water, Salt, Wheat, Soy Bean, Spices, Sesame Oil.<br>Chilli Sauce: Chilli, Water, Sugar, Salt, Tapioca Starch, Acidity Regulators (260, 330), Herbs, Flavour Enhancers (621, 627, 631), Flavours, Preservatives 1211, 223). Fried Onion: Onion, Refined Palm Oil (Contains Antioxidant 319).",
            "Noodles: Wheat Flour (62%), Refined Palm Oil (Contains Antioxidant 319), Salt, Acidity Regulators (451, 501, 500), Thickener (412), Colour (101).<br>Seasoning Powder: Salt, Sugar, Flavour Enhancers (621, 631, 627), Garlic Powder, Onion Powder, Yeast Extract, Artificial Flavour, Pepper, Anti Caking Agent (551).<br>Seasoning Oil: Refined Palm Oil (Contains Antioxidant 319), Onion.<br>Sweet Soy Sauce: Sugar, Water, Salt, Wheat, Soy Bean, Spices, Sesame Oil.<br>Chilli Sauce: Chilli, Water, Sugar, Salt, Tapioca Starch, Acidity Regulators (260, 330), Herbs, Flavour Enhancers (621, 627, 631), Flavours, Preservatives 1211, 223). Fried Onion: Onion, Refined Palm Oil (Contains Antioxidant 319).",
            "Noodles: Wheat Flour (62%), Refined Palm Oil (Contains Antioxidant 319), Salt, Acidity Regulators (451, 501, 500), Thickener (412), Colour (101).<br>Seasoning Powder: Salt, Sugar, Flavour Enhancers (621, 631, 627), Garlic Powder, Onion Powder, Yeast Extract, Artificial Flavour, Pepper, Anti Caking Agent (551).<br>Seasoning Oil: Refined Palm Oil (Contains Antioxidant 319), Onion.<br>Sweet Soy Sauce: Sugar, Water, Salt, Wheat, Soy Bean, Spices, Sesame Oil.<br>Chilli Sauce: Chilli, Water, Sugar, Salt, Tapioca Starch, Acidity Regulators (260, 330), Herbs, Flavour Enhancers (621, 627, 631), Flavours, Preservatives 1211, 223). Fried Onion: Onion, Refined Palm Oil (Contains Antioxidant 319).",
            "Noodles: Wheat Flour (62%), Refined Palm Oil (Contains Antioxidant 319), Salt, Acidity Regulators (451, 501, 500), Thickener (412), Colour (101).<br>Seasoning Powder: Salt, Sugar, Flavour Enhancers (621, 631, 627), Garlic Powder, Onion Powder, Yeast Extract, Artificial Flavour, Pepper, Anti Caking Agent (551).<br>Seasoning Oil: Refined Palm Oil (Contains Antioxidant 319), Onion.<br>Sweet Soy Sauce: Sugar, Water, Salt, Wheat, Soy Bean, Spices, Sesame Oil.<br>Chilli Sauce: Chilli, Water, Sugar, Salt, Tapioca Starch, Acidity Regulators (260, 330), Herbs, Flavour Enhancers (621, 627, 631), Flavours, Preservatives 1211, 223). Fried Onion: Onion, Refined Palm Oil (Contains Antioxidant 319).",
            "Noodles: Wheat Flour (62%), Refined Palm Oil (Contains Antioxidant 319), Salt, Acidity Regulators (451, 501, 500), Thickener (412), Colour (101).<br>Seasoning Powder: Salt, Sugar, Flavour Enhancers (621, 631, 627), Garlic Powder, Onion Powder, Yeast Extract, Artificial Flavour, Pepper, Anti Caking Agent (551).<br>Seasoning Oil: Refined Palm Oil (Contains Antioxidant 319), Onion.<br>Sweet Soy Sauce: Sugar, Water, Salt, Wheat, Soy Bean, Spices, Sesame Oil.<br>Chilli Sauce: Chilli, Water, Sugar, Salt, Tapioca Starch, Acidity Regulators (260, 330), Herbs, Flavour Enhancers (621, 627, 631), Flavours, Preservatives 1211, 223). Fried Onion: Onion, Refined Palm Oil (Contains Antioxidant 319).",
            "Noodles: Wheat Flour (62%), Refined Palm Oil (Contains Antioxidant 319), Salt, Acidity Regulators (451, 501, 500), Thickener (412), Colour (101).<br>Seasoning Powder: Salt, Sugar, Flavour Enhancers (621, 631, 627), Garlic Powder, Onion Powder, Yeast Extract, Artificial Flavour, Pepper, Anti Caking Agent (551).<br>Seasoning Oil: Refined Palm Oil (Contains Antioxidant 319), Onion.<br>Sweet Soy Sauce: Sugar, Water, Salt, Wheat, Soy Bean, Spices, Sesame Oil.<br>Chilli Sauce: Chilli, Water, Sugar, Salt, Tapioca Starch, Acidity Regulators (260, 330), Herbs, Flavour Enhancers (621, 627, 631), Flavours, Preservatives 1211, 223). Fried Onion: Onion, Refined Palm Oil (Contains Antioxidant 319).",
            "Noodles: Wheat Flour (62%), Refined Palm Oil (Contains Antioxidant 319), Salt, Acidity Regulators (451, 501, 500), Thickener (412), Colour (101).<br>Seasoning Powder: Salt, Sugar, Flavour Enhancers (621, 631, 627), Garlic Powder, Onion Powder, Yeast Extract, Artificial Flavour, Pepper, Anti Caking Agent (551).<br>Seasoning Oil: Refined Palm Oil (Contains Antioxidant 319), Onion.<br>Sweet Soy Sauce: Sugar, Water, Salt, Wheat, Soy Bean, Spices, Sesame Oil.<br>Chilli Sauce: Chilli, Water, Sugar, Salt, Tapioca Starch, Acidity Regulators (260, 330), Herbs, Flavour Enhancers (621, 627, 631), Flavours, Preservatives 1211, 223). Fried Onion: Onion, Refined Palm Oil (Contains Antioxidant 319).",
            "Noodles: Wheat Flour (62%), Refined Palm Oil (Contains Antioxidant 319), Salt, Acidity Regulators (451, 501, 500), Thickener (412), Colour (101).<br>Seasoning Powder: Salt, Sugar, Flavour Enhancers (621, 631, 627), Garlic Powder, Onion Powder, Yeast Extract, Artificial Flavour, Pepper, Anti Caking Agent (551).<br>Seasoning Oil: Refined Palm Oil (Contains Antioxidant 319), Onion.<br>Sweet Soy Sauce: Sugar, Water, Salt, Wheat, Soy Bean, Spices, Sesame Oil.<br>Chilli Sauce: Chilli, Water, Sugar, Salt, Tapioca Starch, Acidity Regulators (260, 330), Herbs, Flavour Enhancers (621, 627, 631), Flavours, Preservatives 1211, 223). Fried Onion: Onion, Refined Palm Oil (Contains Antioxidant 319).",
            "Noodles: Wheat Flour (62%), Refined Palm Oil (Contains Antioxidant 319), Salt, Acidity Regulators (451, 501, 500), Thickener (412), Colour (101).<br>Seasoning Powder: Salt, Sugar, Flavour Enhancers (621, 631, 627), Garlic Powder, Onion Powder, Yeast Extract, Artificial Flavour, Pepper, Anti Caking Agent (551).<br>Seasoning Oil: Refined Palm Oil (Contains Antioxidant 319), Onion.<br>Sweet Soy Sauce: Sugar, Water, Salt, Wheat, Soy Bean, Spices, Sesame Oil.<br>Chilli Sauce: Chilli, Water, Sugar, Salt, Tapioca Starch, Acidity Regulators (260, 330), Herbs, Flavour Enhancers (621, 627, 631), Flavours, Preservatives 1211, 223). Fried Onion: Onion, Refined Palm Oil (Contains Antioxidant 319).",
            "Noodles: Wheat Flour (62%), Refined Palm Oil (Contains Antioxidant 319), Salt, Acidity Regulators (451, 501, 500), Thickener (412), Colour (101).<br>Seasoning Powder: Salt, Sugar, Flavour Enhancers (621, 631, 627), Garlic Powder, Onion Powder, Yeast Extract, Artificial Flavour, Pepper, Anti Caking Agent (551).<br>Seasoning Oil: Refined Palm Oil (Contains Antioxidant 319), Onion.<br>Sweet Soy Sauce: Sugar, Water, Salt, Wheat, Soy Bean, Spices, Sesame Oil.<br>Chilli Sauce: Chilli, Water, Sugar, Salt, Tapioca Starch, Acidity Regulators (260, 330), Herbs, Flavour Enhancers (621, 627, 631), Flavours, Preservatives 1211, 223). Fried Onion: Onion, Refined Palm Oil (Contains Antioxidant 319).",
            "Noodles: Wheat Flour (62%), Refined Palm Oil (Contains Antioxidant 319), Salt, Acidity Regulators (451, 501, 500), Thickener (412), Colour (101).<br>Seasoning Powder: Salt, Sugar, Flavour Enhancers (621, 631, 627), Garlic Powder, Onion Powder, Yeast Extract, Artificial Flavour, Pepper, Anti Caking Agent (551).<br>Seasoning Oil: Refined Palm Oil (Contains Antioxidant 319), Onion.<br>Sweet Soy Sauce: Sugar, Water, Salt, Wheat, Soy Bean, Spices, Sesame Oil.<br>Chilli Sauce: Chilli, Water, Sugar, Salt, Tapioca Starch, Acidity Regulators (260, 330), Herbs, Flavour Enhancers (621, 627, 631), Flavours, Preservatives 1211, 223). Fried Onion: Onion, Refined Palm Oil (Contains Antioxidant 319).",
            "Noodles: Wheat Flour (62%), Refined Palm Oil (Contains Antioxidant 319), Salt, Acidity Regulators (451, 501, 500), Thickener (412), Colour (101).<br>Seasoning Powder: Salt, Sugar, Flavour Enhancers (621, 631, 627), Garlic Powder, Onion Powder, Yeast Extract, Artificial Flavour, Pepper, Anti Caking Agent (551).<br>Seasoning Oil: Refined Palm Oil (Contains Antioxidant 319), Onion.<br>Sweet Soy Sauce: Sugar, Water, Salt, Wheat, Soy Bean, Spices, Sesame Oil.<br>Chilli Sauce: Chilli, Water, Sugar, Salt, Tapioca Starch, Acidity Regulators (260, 330), Herbs, Flavour Enhancers (621, 627, 631), Flavours, Preservatives 1211, 223). Fried Onion: Onion, Refined Palm Oil (Contains Antioxidant 319).",
            "Noodles: Wheat Flour (62%), Refined Palm Oil (Contains Antioxidant 319), Salt, Acidity Regulators (451, 501, 500), Thickener (412), Colour (101).<br>Seasoning Powder: Salt, Sugar, Flavour Enhancers (621, 631, 627), Garlic Powder, Onion Powder, Yeast Extract, Artificial Flavour, Pepper, Anti Caking Agent (551).<br>Seasoning Oil: Refined Palm Oil (Contains Antioxidant 319), Onion.<br>Sweet Soy Sauce: Sugar, Water, Salt, Wheat, Soy Bean, Spices, Sesame Oil.<br>Chilli Sauce: Chilli, Water, Sugar, Salt, Tapioca Starch, Acidity Regulators (260, 330), Herbs, Flavour Enhancers (621, 627, 631), Flavours, Preservatives 1211, 223). Fried Onion: Onion, Refined Palm Oil (Contains Antioxidant 319).",
            "Noodles: Wheat Flour (62%), Refined Palm Oil (Contains Antioxidant 319), Salt, Acidity Regulators (451, 501, 500), Thickener (412), Colour (101).<br>Seasoning Powder: Salt, Sugar, Flavour Enhancers (621, 631, 627), Garlic Powder, Onion Powder, Yeast Extract, Artificial Flavour, Pepper, Anti Caking Agent (551).<br>Seasoning Oil: Refined Palm Oil (Contains Antioxidant 319), Onion.<br>Sweet Soy Sauce: Sugar, Water, Salt, Wheat, Soy Bean, Spices, Sesame Oil.<br>Chilli Sauce: Chilli, Water, Sugar, Salt, Tapioca Starch, Acidity Regulators (260, 330), Herbs, Flavour Enhancers (621, 627, 631), Flavours, Preservatives 1211, 223). Fried Onion: Onion, Refined Palm Oil (Contains Antioxidant 319).",
            "Noodles: Wheat Flour (62%), Refined Palm Oil (Contains Antioxidant 319), Salt, Acidity Regulators (451, 501, 500), Thickener (412), Colour (101).<br>Seasoning Powder: Salt, Sugar, Flavour Enhancers (621, 631, 627), Garlic Powder, Onion Powder, Yeast Extract, Artificial Flavour, Pepper, Anti Caking Agent (551).<br>Seasoning Oil: Refined Palm Oil (Contains Antioxidant 319), Onion.<br>Sweet Soy Sauce: Sugar, Water, Salt, Wheat, Soy Bean, Spices, Sesame Oil.<br>Chilli Sauce: Chilli, Water, Sugar, Salt, Tapioca Starch, Acidity Regulators (260, 330), Herbs, Flavour Enhancers (621, 627, 631), Flavours, Preservatives 1211, 223). Fried Onion: Onion, Refined Palm Oil (Contains Antioxidant 319).",
            "Water, Reconstituted Fruit Juice (25%) (Apple or Pear, Pineapple, Orange or Water Extracted Orange, Peach Purée, Passionfruit), Sugar, Food Acids (Citric Acid, Potassium Citrate), Vitamin C, Natural Flavours, Stabiliser (Pectin).",
            "Canola Oil, Water, Sugar, Vinegar, Thickener (1422, Xanthan Gum), Free Range Egg Yolk,  Gherkin, Salt, Onion Powder, Natural Colour (Carotene, Paprika Oleoresins), Preservative (Potassium Sorbate), Dill, Acidity Regulator (Citric Acid), Herb Extract, Mustard Oil.",
            "Jelly (70%) (Water, Sugar, Gelling Agents (Carrageenan, Locust Bean Gum, Xanthan Gum), Acidity Regulators (Sodium Citrates, Potassium Citrates, Calcium Lactate, Malic Acid, Citric Acid), Natural Flavours (Pineapple, Mango), Natural Colours (Carotene, Paprika Oleoresins), Antioxidant (Ascorbic Acid)), Peach (15%), Pear (15%)",
            "Noodles: Wheat Flour (62%), Refined Palm Oil (Contains Antioxidant 319), Salt, Acidity Regulators (451, 501, 500), Thickener (412), Colour (101).<br>Seasoning Powder: Salt, Sugar, Flavour Enhancers (621, 631, 627), Garlic Powder, Onion Powder, Yeast Extract, Artificial Flavour, Pepper, Anti Caking Agent (551).<br>Seasoning Oil: Refined Palm Oil (Contains Antioxidant 319), Onion.<br>Sweet Soy Sauce: Sugar, Water, Salt, Wheat, Soy Bean, Spices, Sesame Oil.<br>Chilli Sauce: Chilli, Water, Sugar, Salt, Tapioca Starch, Acidity Regulators (260, 330), Herbs, Flavour Enhancers (621, 627, 631), Flavours, Preservatives 1211, 223). Fried Onion: Onion, Refined Palm Oil (Contains Antioxidant 319).",
            "Noodles: Wheat Flour (62%), Refined Palm Oil (Contains Antioxidant 319), Salt, Acidity Regulators (451, 501, 500), Thickener (412), Colour (101).<br>Seasoning Powder: Salt, Sugar, Flavour Enhancers (621, 631, 627), Garlic Powder, Onion Powder, Yeast Extract, Artificial Flavour, Pepper, Anti Caking Agent (551).<br>Seasoning Oil: Refined Palm Oil (Contains Antioxidant 319), Onion.<br>Sweet Soy Sauce: Sugar, Water, Salt, Wheat, Soy Bean, Spices, Sesame Oil.<br>Chilli Sauce: Chilli, Water, Sugar, Salt, Tapioca Starch, Acidity Regulators (260, 330), Herbs, Flavour Enhancers (621, 627, 631), Flavours, Preservatives 1211, 223). Fried Onion: Onion, Refined Palm Oil (Contains Antioxidant 319).",
            "Noodles: Wheat Flour (62%), Refined Palm Oil (Contains Antioxidant 319), Salt, Acidity Regulators (451, 501, 500), Thickener (412), Colour (101).<br>Seasoning Powder: Salt, Sugar, Flavour Enhancers (621, 631, 627), Garlic Powder, Onion Powder, Yeast Extract, Artificial Flavour, Pepper, Anti Caking Agent (551).<br>Seasoning Oil: Refined Palm Oil (Contains Antioxidant 319), Onion.<br>Sweet Soy Sauce: Sugar, Water, Salt, Wheat, Soy Bean, Spices, Sesame Oil.<br>Chilli Sauce: Chilli, Water, Sugar, Salt, Tapioca Starch, Acidity Regulators (260, 330), Herbs, Flavour Enhancers (621, 627, 631), Flavours, Preservatives 1211, 223). Fried Onion: Onion, Refined Palm Oil (Contains Antioxidant 319).",
            "Noodles: Wheat Flour (62%), Refined Palm Oil (Contains Antioxidant 319), Salt, Acidity Regulators (451, 501, 500), Thickener (412), Colour (101).<br>Seasoning Powder: Salt, Sugar, Flavour Enhancers (621, 631, 627), Garlic Powder, Onion Powder, Yeast Extract, Artificial Flavour, Pepper, Anti Caking Agent (551).<br>Seasoning Oil: Refined Palm Oil (Contains Antioxidant 319), Onion.<br>Sweet Soy Sauce: Sugar, Water, Salt, Wheat, Soy Bean, Spices, Sesame Oil.<br>Chilli Sauce: Chilli, Water, Sugar, Salt, Tapioca Starch, Acidity Regulators (260, 330), Herbs, Flavour Enhancers (621, 627, 631), Flavours, Preservatives 1211, 223). Fried Onion: Onion, Refined Palm Oil (Contains Antioxidant 319).",
            "Noodles: Wheat Flour (62%), Refined Palm Oil (Contains Antioxidant 319), Salt, Acidity Regulators (451, 501, 500), Thickener (412), Colour (101).<br>Seasoning Powder: Salt, Sugar, Flavour Enhancers (621, 631, 627), Garlic Powder, Onion Powder, Yeast Extract, Artificial Flavour, Pepper, Anti Caking Agent (551).<br>Seasoning Oil: Refined Palm Oil (Contains Antioxidant 319), Onion.<br>Sweet Soy Sauce: Sugar, Water, Salt, Wheat, Soy Bean, Spices, Sesame Oil.<br>Chilli Sauce: Chilli, Water, Sugar, Salt, Tapioca Starch, Acidity Regulators (260, 330), Herbs, Flavour Enhancers (621, 627, 631), Flavours, Preservatives 1211, 223). Fried Onion: Onion, Refined Palm Oil (Contains Antioxidant 319).",
            "Noodles: Wheat Flour (62%), Refined Palm Oil (Contains Antioxidant 319), Salt, Acidity Regulators (451, 501, 500), Thickener (412), Colour (101).<br>Seasoning Powder: Salt, Sugar, Flavour Enhancers (621, 631, 627), Garlic Powder, Onion Powder, Yeast Extract, Artificial Flavour, Pepper, Anti Caking Agent (551).<br>Seasoning Oil: Refined Palm Oil (Contains Antioxidant 319), Onion.<br>Sweet Soy Sauce: Sugar, Water, Salt, Wheat, Soy Bean, Spices, Sesame Oil.<br>Chilli Sauce: Chilli, Water, Sugar, Salt, Tapioca Starch, Acidity Regulators (260, 330), Herbs, Flavour Enhancers (621, 627, 631), Flavours, Preservatives 1211, 223). Fried Onion: Onion, Refined Palm Oil (Contains Antioxidant 319).",
            "Noodles: Wheat Flour (62%), Refined Palm Oil (Contains Antioxidant 319), Salt, Acidity Regulators (451, 501, 500), Thickener (412), Colour (101).<br>Seasoning Powder: Salt, Sugar, Flavour Enhancers (621, 631, 627), Garlic Powder, Onion Powder, Yeast Extract, Artificial Flavour, Pepper, Anti Caking Agent (551).<br>Seasoning Oil: Refined Palm Oil (Contains Antioxidant 319), Onion.<br>Sweet Soy Sauce: Sugar, Water, Salt, Wheat, Soy Bean, Spices, Sesame Oil.<br>Chilli Sauce: Chilli, Water, Sugar, Salt, Tapioca Starch, Acidity Regulators (260, 330), Herbs, Flavour Enhancers (621, 627, 631), Flavours, Preservatives 1211, 223). Fried Onion: Onion, Refined Palm Oil (Contains Antioxidant 319).",
            "Noodles: Wheat Flour (62%), Refined Palm Oil (Contains Antioxidant 319), Salt, Acidity Regulators (451, 501, 500), Thickener (412), Colour (101).<br>Seasoning Powder: Salt, Sugar, Flavour Enhancers (621, 631, 627), Garlic Powder, Onion Powder, Yeast Extract, Artificial Flavour, Pepper, Anti Caking Agent (551).<br>Seasoning Oil: Refined Palm Oil (Contains Antioxidant 319), Onion.<br>Sweet Soy Sauce: Sugar, Water, Salt, Wheat, Soy Bean, Spices, Sesame Oil.<br>Chilli Sauce: Chilli, Water, Sugar, Salt, Tapioca Starch, Acidity Regulators (260, 330), Herbs, Flavour Enhancers (621, 627, 631), Flavours, Preservatives 1211, 223). Fried Onion: Onion, Refined Palm Oil (Contains Antioxidant 319).",
            "Noodles: Wheat Flour (62%), Refined Palm Oil (Contains Antioxidant 319), Salt, Acidity Regulators (451, 501, 500), Thickener (412), Colour (101).<br>Seasoning Powder: Salt, Sugar, Flavour Enhancers (621, 631, 627), Garlic Powder, Onion Powder, Yeast Extract, Artificial Flavour, Pepper, Anti Caking Agent (551).<br>Seasoning Oil: Refined Palm Oil (Contains Antioxidant 319), Onion.<br>Sweet Soy Sauce: Sugar, Water, Salt, Wheat, Soy Bean, Spices, Sesame Oil.<br>Chilli Sauce: Chilli, Water, Sugar, Salt, Tapioca Starch, Acidity Regulators (260, 330), Herbs, Flavour Enhancers (621, 627, 631), Flavours, Preservatives 1211, 223). Fried Onion: Onion, Refined Palm Oil (Contains Antioxidant 319).",
            "Noodles: Wheat Flour (62%), Refined Palm Oil (Contains Antioxidant 319), Salt, Acidity Regulators (451, 501, 500), Thickener (412), Colour (101).<br>Seasoning Powder: Salt, Sugar, Flavour Enhancers (621, 631, 627), Garlic Powder, Onion Powder, Yeast Extract, Artificial Flavour, Pepper, Anti Caking Agent (551).<br>Seasoning Oil: Refined Palm Oil (Contains Antioxidant 319), Onion.<br>Sweet Soy Sauce: Sugar, Water, Salt, Wheat, Soy Bean, Spices, Sesame Oil.<br>Chilli Sauce: Chilli, Water, Sugar, Salt, Tapioca Starch, Acidity Regulators (260, 330), Herbs, Flavour Enhancers (621, 627, 631), Flavours, Preservatives 1211, 223). Fried Onion: Onion, Refined Palm Oil (Contains Antioxidant 319).",
            "Noodles: Wheat Flour (62%), Refined Palm Oil (Contains Antioxidant 319), Salt, Acidity Regulators (451, 501, 500), Thickener (412), Colour (101).<br>Seasoning Powder: Salt, Sugar, Flavour Enhancers (621, 631, 627), Garlic Powder, Onion Powder, Yeast Extract, Artificial Flavour, Pepper, Anti Caking Agent (551).<br>Seasoning Oil: Refined Palm Oil (Contains Antioxidant 319), Onion.<br>Sweet Soy Sauce: Sugar, Water, Salt, Wheat, Soy Bean, Spices, Sesame Oil.<br>Chilli Sauce: Chilli, Water, Sugar, Salt, Tapioca Starch, Acidity Regulators (260, 330), Herbs, Flavour Enhancers (621, 627, 631), Flavours, Preservatives 1211, 223). Fried Onion: Onion, Refined Palm Oil (Contains Antioxidant 319).",
            "Noodles: Wheat Flour (62%), Refined Palm Oil (Contains Antioxidant 319), Salt, Acidity Regulators (451, 501, 500), Thickener (412), Colour (101).<br>Seasoning Powder: Salt, Sugar, Flavour Enhancers (621, 631, 627), Garlic Powder, Onion Powder, Yeast Extract, Artificial Flavour, Pepper, Anti Caking Agent (551).<br>Seasoning Oil: Refined Palm Oil (Contains Antioxidant 319), Onion.<br>Sweet Soy Sauce: Sugar, Water, Salt, Wheat, Soy Bean, Spices, Sesame Oil.<br>Chilli Sauce: Chilli, Water, Sugar, Salt, Tapioca Starch, Acidity Regulators (260, 330), Herbs, Flavour Enhancers (621, 627, 631), Flavours, Preservatives 1211, 223). Fried Onion: Onion, Refined Palm Oil (Contains Antioxidant 319).",
            "Noodles: Wheat Flour (62%), Refined Palm Oil (Contains Antioxidant 319), Salt, Acidity Regulators (451, 501, 500), Thickener (412), Colour (101).<br>Seasoning Powder: Salt, Sugar, Flavour Enhancers (621, 631, 627), Garlic Powder, Onion Powder, Yeast Extract, Artificial Flavour, Pepper, Anti Caking Agent (551).<br>Seasoning Oil: Refined Palm Oil (Contains Antioxidant 319), Onion.<br>Sweet Soy Sauce: Sugar, Water, Salt, Wheat, Soy Bean, Spices, Sesame Oil.<br>Chilli Sauce: Chilli, Water, Sugar, Salt, Tapioca Starch, Acidity Regulators (260, 330), Herbs, Flavour Enhancers (621, 627, 631), Flavours, Preservatives 1211, 223). Fried Onion: Onion, Refined Palm Oil (Contains Antioxidant 319).",
            "Noodles: Wheat Flour (62%), Refined Palm Oil (Contains Antioxidant 319), Salt, Acidity Regulators (451, 501, 500), Thickener (412), Colour (101).<br>Seasoning Powder: Salt, Sugar, Flavour Enhancers (621, 631, 627), Garlic Powder, Onion Powder, Yeast Extract, Artificial Flavour, Pepper, Anti Caking Agent (551).<br>Seasoning Oil: Refined Palm Oil (Contains Antioxidant 319), Onion.<br>Sweet Soy Sauce: Sugar, Water, Salt, Wheat, Soy Bean, Spices, Sesame Oil.<br>Chilli Sauce: Chilli, Water, Sugar, Salt, Tapioca Starch, Acidity Regulators (260, 330), Herbs, Flavour Enhancers (621, 627, 631), Flavours, Preservatives 1211, 223). Fried Onion: Onion, Refined Palm Oil (Contains Antioxidant 319).",
            "Noodles: Wheat Flour (62%), Refined Palm Oil (Contains Antioxidant 319), Salt, Acidity Regulators (451, 501, 500), Thickener (412), Colour (101).<br>Seasoning Powder: Salt, Sugar, Flavour Enhancers (621, 631, 627), Garlic Powder, Onion Powder, Yeast Extract, Artificial Flavour, Pepper, Anti Caking Agent (551).<br>Seasoning Oil: Refined Palm Oil (Contains Antioxidant 319), Onion.<br>Sweet Soy Sauce: Sugar, Water, Salt, Wheat, Soy Bean, Spices, Sesame Oil.<br>Chilli Sauce: Chilli, Water, Sugar, Salt, Tapioca Starch, Acidity Regulators (260, 330), Herbs, Flavour Enhancers (621, 627, 631), Flavours, Preservatives 1211, 223). Fried Onion: Onion, Refined Palm Oil (Contains Antioxidant 319).",
            "Noodles: Wheat Flour (62%), Refined Palm Oil (Contains Antioxidant 319), Salt, Acidity Regulators (451, 501, 500), Thickener (412), Colour (101).<br>Seasoning Powder: Salt, Sugar, Flavour Enhancers (621, 631, 627), Garlic Powder, Onion Powder, Yeast Extract, Artificial Flavour, Pepper, Anti Caking Agent (551).<br>Seasoning Oil: Refined Palm Oil (Contains Antioxidant 319), Onion.<br>Sweet Soy Sauce: Sugar, Water, Salt, Wheat, Soy Bean, Spices, Sesame Oil.<br>Chilli Sauce: Chilli, Water, Sugar, Salt, Tapioca Starch, Acidity Regulators (260, 330), Herbs, Flavour Enhancers (621, 627, 631), Flavours, Preservatives 1211, 223). Fried Onion: Onion, Refined Palm Oil (Contains Antioxidant 319).",
            "Noodles: Wheat Flour (62%), Refined Palm Oil (Contains Antioxidant 319), Salt, Acidity Regulators (451, 501, 500), Thickener (412), Colour (101).<br>Seasoning Powder: Salt, Sugar, Flavour Enhancers (621, 631, 627), Garlic Powder, Onion Powder, Yeast Extract, Artificial Flavour, Pepper, Anti Caking Agent (551).<br>Seasoning Oil: Refined Palm Oil (Contains Antioxidant 319), Onion.<br>Sweet Soy Sauce: Sugar, Water, Salt, Wheat, Soy Bean, Spices, Sesame Oil.<br>Chilli Sauce: Chilli, Water, Sugar, Salt, Tapioca Starch, Acidity Regulators (260, 330), Herbs, Flavour Enhancers (621, 627, 631), Flavours, Preservatives 1211, 223). Fried Onion: Onion, Refined Palm Oil (Contains Antioxidant 319).",
            "Noodles: Wheat Flour (62%), Refined Palm Oil (Contains Antioxidant 319), Salt, Acidity Regulators (451, 501, 500), Thickener (412), Colour (101).<br>Seasoning Powder: Salt, Sugar, Flavour Enhancers (621, 631, 627), Garlic Powder, Onion Powder, Yeast Extract, Artificial Flavour, Pepper, Anti Caking Agent (551).<br>Seasoning Oil: Refined Palm Oil (Contains Antioxidant 319), Onion.<br>Sweet Soy Sauce: Sugar, Water, Salt, Wheat, Soy Bean, Spices, Sesame Oil.<br>Chilli Sauce: Chilli, Water, Sugar, Salt, Tapioca Starch, Acidity Regulators (260, 330), Herbs, Flavour Enhancers (621, 627, 631), Flavours, Preservatives 1211, 223). Fried Onion: Onion, Refined Palm Oil (Contains Antioxidant 319).",
            "Noodles: Wheat Flour (62%), Refined Palm Oil (Contains Antioxidant 319), Salt, Acidity Regulators (451, 501, 500), Thickener (412), Colour (101).<br>Seasoning Powder: Salt, Sugar, Flavour Enhancers (621, 631, 627), Garlic Powder, Onion Powder, Yeast Extract, Artificial Flavour, Pepper, Anti Caking Agent (551).<br>Seasoning Oil: Refined Palm Oil (Contains Antioxidant 319), Onion.<br>Sweet Soy Sauce: Sugar, Water, Salt, Wheat, Soy Bean, Spices, Sesame Oil.<br>Chilli Sauce: Chilli, Water, Sugar, Salt, Tapioca Starch, Acidity Regulators (260, 330), Herbs, Flavour Enhancers (621, 627, 631), Flavours, Preservatives 1211, 223). Fried Onion: Onion, Refined Palm Oil (Contains Antioxidant 319).",
            "Noodles: Wheat Flour (62%), Refined Palm Oil (Contains Antioxidant 319), Salt, Acidity Regulators (451, 501, 500), Thickener (412), Colour (101).<br>Seasoning Powder: Salt, Sugar, Flavour Enhancers (621, 631, 627), Garlic Powder, Onion Powder, Yeast Extract, Artificial Flavour, Pepper, Anti Caking Agent (551).<br>Seasoning Oil: Refined Palm Oil (Contains Antioxidant 319), Onion.<br>Sweet Soy Sauce: Sugar, Water, Salt, Wheat, Soy Bean, Spices, Sesame Oil.<br>Chilli Sauce: Chilli, Water, Sugar, Salt, Tapioca Starch, Acidity Regulators (260, 330), Herbs, Flavour Enhancers (621, 627, 631), Flavours, Preservatives 1211, 223). Fried Onion: Onion, Refined Palm Oil (Contains Antioxidant 319).",
            "Noodles: Wheat Flour (62%), Refined Palm Oil (Contains Antioxidant 319), Salt, Acidity Regulators (451, 501, 500), Thickener (412), Colour (101).<br>Seasoning Powder: Salt, Sugar, Flavour Enhancers (621, 631, 627), Garlic Powder, Onion Powder, Yeast Extract, Artificial Flavour, Pepper, Anti Caking Agent (551).<br>Seasoning Oil: Refined Palm Oil (Contains Antioxidant 319), Onion.<br>Sweet Soy Sauce: Sugar, Water, Salt, Wheat, Soy Bean, Spices, Sesame Oil.<br>Chilli Sauce: Chilli, Water, Sugar, Salt, Tapioca Starch, Acidity Regulators (260, 330), Herbs, Flavour Enhancers (621, 627, 631), Flavours, Preservatives 1211, 223). Fried Onion: Onion, Refined Palm Oil (Contains Antioxidant 319).",
            "Noodles: Wheat Flour (62%), Refined Palm Oil (Contains Antioxidant 319), Salt, Acidity Regulators (451, 501, 500), Thickener (412), Colour (101).<br>Seasoning Powder: Salt, Sugar, Flavour Enhancers (621, 631, 627), Garlic Powder, Onion Powder, Yeast Extract, Artificial Flavour, Pepper, Anti Caking Agent (551).<br>Seasoning Oil: Refined Palm Oil (Contains Antioxidant 319), Onion.<br>Sweet Soy Sauce: Sugar, Water, Salt, Wheat, Soy Bean, Spices, Sesame Oil.<br>Chilli Sauce: Chilli, Water, Sugar, Salt, Tapioca Starch, Acidity Regulators (260, 330), Herbs, Flavour Enhancers (621, 627, 631), Flavours, Preservatives 1211, 223). Fried Onion: Onion, Refined Palm Oil (Contains Antioxidant 319).",
            "Noodles: Wheat Flour (62%), Refined Palm Oil (Contains Antioxidant 319), Salt, Acidity Regulators (451, 501, 500), Thickener (412), Colour (101).<br>Seasoning Powder: Salt, Sugar, Flavour Enhancers (621, 631, 627), Garlic Powder, Onion Powder, Yeast Extract, Artificial Flavour, Pepper, Anti Caking Agent (551).<br>Seasoning Oil: Refined Palm Oil (Contains Antioxidant 319), Onion.<br>Sweet Soy Sauce: Sugar, Water, Salt, Wheat, Soy Bean, Spices, Sesame Oil.<br>Chilli Sauce: Chilli, Water, Sugar, Salt, Tapioca Starch, Acidity Regulators (260, 330), Herbs, Flavour Enhancers (621, 627, 631), Flavours, Preservatives 1211, 223). Fried Onion: Onion, Refined Palm Oil (Contains Antioxidant 319).",
            "Noodles: Wheat Flour (62%), Refined Palm Oil (Contains Antioxidant 319), Salt, Acidity Regulators (451, 501, 500), Thickener (412), Colour (101).<br>Seasoning Powder: Salt, Sugar, Flavour Enhancers (621, 631, 627), Garlic Powder, Onion Powder, Yeast Extract, Artificial Flavour, Pepper, Anti Caking Agent (551).<br>Seasoning Oil: Refined Palm Oil (Contains Antioxidant 319), Onion.<br>Sweet Soy Sauce: Sugar, Water, Salt, Wheat, Soy Bean, Spices, Sesame Oil.<br>Chilli Sauce: Chilli, Water, Sugar, Salt, Tapioca Starch, Acidity Regulators (260, 330), Herbs, Flavour Enhancers (621, 627, 631), Flavours, Preservatives 1211, 223). Fried Onion: Onion, Refined Palm Oil (Contains Antioxidant 319).",
            "Noodles: Wheat Flour (62%), Refined Palm Oil (Contains Antioxidant 319), Salt, Acidity Regulators (451, 501, 500), Thickener (412), Colour (101).<br>Seasoning Powder: Salt, Sugar, Flavour Enhancers (621, 631, 627), Garlic Powder, Onion Powder, Yeast Extract, Artificial Flavour, Pepper, Anti Caking Agent (551).<br>Seasoning Oil: Refined Palm Oil (Contains Antioxidant 319), Onion.<br>Sweet Soy Sauce: Sugar, Water, Salt, Wheat, Soy Bean, Spices, Sesame Oil.<br>Chilli Sauce: Chilli, Water, Sugar, Salt, Tapioca Starch, Acidity Regulators (260, 330), Herbs, Flavour Enhancers (621, 627, 631), Flavours, Preservatives 1211, 223). Fried Onion: Onion, Refined Palm Oil (Contains Antioxidant 319).",
            "Noodles: Wheat Flour (62%), Refined Palm Oil (Contains Antioxidant 319), Salt, Acidity Regulators (451, 501, 500), Thickener (412), Colour (101).<br>Seasoning Powder: Salt, Sugar, Flavour Enhancers (621, 631, 627), Garlic Powder, Onion Powder, Yeast Extract, Artificial Flavour, Pepper, Anti Caking Agent (551).<br>Seasoning Oil: Refined Palm Oil (Contains Antioxidant 319), Onion.<br>Sweet Soy Sauce: Sugar, Water, Salt, Wheat, Soy Bean, Spices, Sesame Oil.<br>Chilli Sauce: Chilli, Water, Sugar, Salt, Tapioca Starch, Acidity Regulators (260, 330), Herbs, Flavour Enhancers (621, 627, 631), Flavours, Preservatives 1211, 223). Fried Onion: Onion, Refined Palm Oil (Contains Antioxidant 319).",
            "Noodles: Wheat Flour (62%), Refined Palm Oil (Contains Antioxidant 319), Salt, Acidity Regulators (451, 501, 500), Thickener (412), Colour (101).<br>Seasoning Powder: Salt, Sugar, Flavour Enhancers (621, 631, 627), Garlic Powder, Onion Powder, Yeast Extract, Artificial Flavour, Pepper, Anti Caking Agent (551).<br>Seasoning Oil: Refined Palm Oil (Contains Antioxidant 319), Onion.<br>Sweet Soy Sauce: Sugar, Water, Salt, Wheat, Soy Bean, Spices, Sesame Oil.<br>Chilli Sauce: Chilli, Water, Sugar, Salt, Tapioca Starch, Acidity Regulators (260, 330), Herbs, Flavour Enhancers (621, 627, 631), Flavours, Preservatives 1211, 223). Fried Onion: Onion, Refined Palm Oil (Contains Antioxidant 319).",
            "Noodles: Wheat Flour (62%), Refined Palm Oil (Contains Antioxidant 319), Salt, Acidity Regulators (451, 501, 500), Thickener (412), Colour (101).<br>Seasoning Powder: Salt, Sugar, Flavour Enhancers (621, 631, 627), Garlic Powder, Onion Powder, Yeast Extract, Artificial Flavour, Pepper, Anti Caking Agent (551).<br>Seasoning Oil: Refined Palm Oil (Contains Antioxidant 319), Onion.<br>Sweet Soy Sauce: Sugar, Water, Salt, Wheat, Soy Bean, Spices, Sesame Oil.<br>Chilli Sauce: Chilli, Water, Sugar, Salt, Tapioca Starch, Acidity Regulators (260, 330), Herbs, Flavour Enhancers (621, 627, 631), Flavours, Preservatives 1211, 223). Fried Onion: Onion, Refined Palm Oil (Contains Antioxidant 319).",
            "Noodles: Wheat Flour (62%), Refined Palm Oil (Contains Antioxidant 319), Salt, Acidity Regulators (451, 501, 500), Thickener (412), Colour (101).<br>Seasoning Powder: Salt, Sugar, Flavour Enhancers (621, 631, 627), Garlic Powder, Onion Powder, Yeast Extract, Artificial Flavour, Pepper, Anti Caking Agent (551).<br>Seasoning Oil: Refined Palm Oil (Contains Antioxidant 319), Onion.<br>Sweet Soy Sauce: Sugar, Water, Salt, Wheat, Soy Bean, Spices, Sesame Oil.<br>Chilli Sauce: Chilli, Water, Sugar, Salt, Tapioca Starch, Acidity Regulators (260, 330), Herbs, Flavour Enhancers (621, 627, 631), Flavours, Preservatives 1211, 223). Fried Onion: Onion, Refined Palm Oil (Contains Antioxidant 319).",
            "Noodles: Wheat Flour (62%), Refined Palm Oil (Contains Antioxidant 319), Salt, Acidity Regulators (451, 501, 500), Thickener (412), Colour (101).<br>Seasoning Powder: Salt, Sugar, Flavour Enhancers (621, 631, 627), Garlic Powder, Onion Powder, Yeast Extract, Artificial Flavour, Pepper, Anti Caking Agent (551).<br>Seasoning Oil: Refined Palm Oil (Contains Antioxidant 319), Onion.<br>Sweet Soy Sauce: Sugar, Water, Salt, Wheat, Soy Bean, Spices, Sesame Oil.<br>Chilli Sauce: Chilli, Water, Sugar, Salt, Tapioca Starch, Acidity Regulators (260, 330), Herbs, Flavour Enhancers (621, 627, 631), Flavours, Preservatives 1211, 223). Fried Onion: Onion, Refined Palm Oil (Contains Antioxidant 319).",
            "Water, Reconstituted Fruit Juice (25%) (Apple or Pear, Pineapple, Orange or Water Extracted Orange, Peach Purée, Passionfruit), Sugar, Food Acids (Citric Acid, Potassium Citrate), Vitamin C, Natural Flavours, Stabiliser (Pectin).",
            "Water, Reconstituted Fruit Juice (25%) (Apple or Pear, Pineapple, Orange or Water Extracted Orange, Peach Purée, Passionfruit), Sugar, Food Acids (Citric Acid, Potassium Citrate), Vitamin C, Natural Flavours, Stabiliser (Pectin).",
            "Canola Oil, Water, Sugar, Vinegar, Thickener (1422, Xanthan Gum), Free Range Egg Yolk,  Gherkin, Salt, Onion Powder, Natural Colour (Carotene, Paprika Oleoresins), Preservative (Potassium Sorbate), Dill, Acidity Regulator (Citric Acid), Herb Extract, Mustard Oil.",
            "Canola Oil, Water, Sugar, Vinegar, Thickener (1422, Xanthan Gum), Free Range Egg Yolk,  Gherkin, Salt, Onion Powder, Natural Colour (Carotene, Paprika Oleoresins), Preservative (Potassium Sorbate), Dill, Acidity Regulator (Citric Acid), Herb Extract, Mustard Oil.",
            "Jelly (70%) (Water, Sugar, Gelling Agents (Carrageenan, Locust Bean Gum, Xanthan Gum), Acidity Regulators (Sodium Citrates, Potassium Citrates, Calcium Lactate, Malic Acid, Citric Acid), Natural Flavours (Pineapple, Mango), Natural Colours (Carotene, Paprika Oleoresins), Antioxidant (Ascorbic Acid)), Peach (15%), Pear (15%)",
            "Water, Reconstituted Fruit Juice (25%) (Apple or Pear, Pineapple, Orange or Water Extracted Orange, Peach Purée, Passionfruit), Sugar, Food Acids (Citric Acid, Potassium Citrate), Vitamin C, Natural Flavours, Stabiliser (Pectin).",
            "Water, Reconstituted Fruit Juice (25%) (Apple or Pear, Pineapple, Orange or Water Extracted Orange, Peach Purée, Passionfruit), Sugar, Food Acids (Citric Acid, Potassium Citrate), Vitamin C, Natural Flavours, Stabiliser (Pectin).",
            "Water, Reconstituted Fruit Juice (25%) (Apple or Pear, Pineapple, Orange or Water Extracted Orange, Peach Purée, Passionfruit), Sugar, Food Acids (Citric Acid, Potassium Citrate), Vitamin C, Natural Flavours, Stabiliser (Pectin).",
            "Water, Reconstituted Fruit Juice (25%) (Apple or Pear, Pineapple, Orange or Water Extracted Orange, Peach Purée, Passionfruit), Sugar, Food Acids (Citric Acid, Potassium Citrate), Vitamin C, Natural Flavours, Stabiliser (Pectin).",
            "Water, Reconstituted Fruit Juice (25%) (Apple or Pear, Pineapple, Orange or Water Extracted Orange, Peach Purée, Passionfruit), Sugar, Food Acids (Citric Acid, Potassium Citrate), Vitamin C, Natural Flavours, Stabiliser (Pectin).",
            "Water, Reconstituted Fruit Juice (25%) (Apple or Pear, Pineapple, Orange or Water Extracted Orange, Peach Purée, Passionfruit), Sugar, Food Acids (Citric Acid, Potassium Citrate), Vitamin C, Natural Flavours, Stabiliser (Pectin).",
            "Water, Reconstituted Fruit Juice (25%) (Apple or Pear, Pineapple, Orange or Water Extracted Orange, Peach Purée, Passionfruit), Sugar, Food Acids (Citric Acid, Potassium Citrate), Vitamin C, Natural Flavours, Stabiliser (Pectin).",
            "Water, Reconstituted Fruit Juice (25%) (Apple or Pear, Pineapple, Orange or Water Extracted Orange, Peach Purée, Passionfruit), Sugar, Food Acids (Citric Acid, Potassium Citrate), Vitamin C, Natural Flavours, Stabiliser (Pectin).",
            "Water, Reconstituted Fruit Juice (25%) (Apple or Pear, Pineapple, Orange or Water Extracted Orange, Peach Purée, Passionfruit), Sugar, Food Acids (Citric Acid, Potassium Citrate), Vitamin C, Natural Flavours, Stabiliser (Pectin).",
            "Water, Reconstituted Fruit Juice (25%) (Apple or Pear, Pineapple, Orange or Water Extracted Orange, Peach Purée, Passionfruit), Sugar, Food Acids (Citric Acid, Potassium Citrate), Vitamin C, Natural Flavours, Stabiliser (Pectin).",
            "Canola Oil, Water, Sugar, Vinegar, Thickener (1422, Xanthan Gum), Free Range Egg Yolk,  Gherkin, Salt, Onion Powder, Natural Colour (Carotene, Paprika Oleoresins), Preservative (Potassium Sorbate), Dill, Acidity Regulator (Citric Acid), Herb Extract, Mustard Oil.",
            "Canola Oil, Water, Sugar, Vinegar, Thickener (1422, Xanthan Gum), Free Range Egg Yolk,  Gherkin, Salt, Onion Powder, Natural Colour (Carotene, Paprika Oleoresins), Preservative (Potassium Sorbate), Dill, Acidity Regulator (Citric Acid), Herb Extract, Mustard Oil.",
            "Canola Oil, Water, Sugar, Vinegar, Thickener (1422, Xanthan Gum), Free Range Egg Yolk,  Gherkin, Salt, Onion Powder, Natural Colour (Carotene, Paprika Oleoresins), Preservative (Potassium Sorbate), Dill, Acidity Regulator (Citric Acid), Herb Extract, Mustard Oil.",
            "Canola Oil, Water, Sugar, Vinegar, Thickener (1422, Xanthan Gum), Free Range Egg Yolk,  Gherkin, Salt, Onion Powder, Natural Colour (Carotene, Paprika Oleoresins), Preservative (Potassium Sorbate), Dill, Acidity Regulator (Citric Acid), Herb Extract, Mustard Oil.",
            "Canola Oil, Water, Sugar, Vinegar, Thickener (1422, Xanthan Gum), Free Range Egg Yolk,  Gherkin, Salt, Onion Powder, Natural Colour (Carotene, Paprika Oleoresins), Preservative (Potassium Sorbate), Dill, Acidity Regulator (Citric Acid), Herb Extract, Mustard Oil.",
            "Canola Oil, Water, Sugar, Vinegar, Thickener (1422, Xanthan Gum), Free Range Egg Yolk,  Gherkin, Salt, Onion Powder, Natural Colour (Carotene, Paprika Oleoresins), Preservative (Potassium Sorbate), Dill, Acidity Regulator (Citric Acid), Herb Extract, Mustard Oil.",
            "Jelly (70%) (Water, Sugar, Gelling Agents (Carrageenan, Locust Bean Gum, Xanthan Gum), Acidity Regulators (Sodium Citrates, Potassium Citrates, Calcium Lactate, Malic Acid, Citric Acid), Natural Flavours (Pineapple, Mango), Natural Colours (Carotene, Paprika Oleoresins), Antioxidant (Ascorbic Acid)), Peach (15%), Pear (15%)",
            "Canola Oil, Water, Sugar, Vinegar, Thickener (1422, Xanthan Gum), Free Range Egg Yolk,  Gherkin, Salt, Onion Powder, Natural Colour (Carotene, Paprika Oleoresins), Preservative (Potassium Sorbate), Dill, Acidity Regulator (Citric Acid), Herb Extract, Mustard Oil.",
            "Jelly (70%) (Water, Sugar, Gelling Agents (Carrageenan, Locust Bean Gum, Xanthan Gum), Acidity Regulators (Sodium Citrates, Potassium Citrates, Calcium Lactate, Malic Acid, Citric Acid), Natural Flavours (Pineapple, Mango), Natural Colours (Carotene, Paprika Oleoresins), Antioxidant (Ascorbic Acid)), Peach (15%), Pear (15%)",
            "Canola Oil, Water, Sugar, Vinegar, Thickener (1422, Xanthan Gum), Free Range Egg Yolk,  Gherkin, Salt, Onion Powder, Natural Colour (Carotene, Paprika Oleoresins), Preservative (Potassium Sorbate), Dill, Acidity Regulator (Citric Acid), Herb Extract, Mustard Oil.",
            "Canola Oil, Water, Sugar, Vinegar, Thickener (1422, Xanthan Gum), Free Range Egg Yolk,  Gherkin, Salt, Onion Powder, Natural Colour (Carotene, Paprika Oleoresins), Preservative (Potassium Sorbate), Dill, Acidity Regulator (Citric Acid), Herb Extract, Mustard Oil.",
            "Canola Oil, Water, Sugar, Vinegar, Thickener (1422, Xanthan Gum), Free Range Egg Yolk,  Gherkin, Salt, Onion Powder, Natural Colour (Carotene, Paprika Oleoresins), Preservative (Potassium Sorbate), Dill, Acidity Regulator (Citric Acid), Herb Extract, Mustard Oil.",
            "Canola Oil, Water, Sugar, Vinegar, Thickener (1422, Xanthan Gum), Free Range Egg Yolk,  Gherkin, Salt, Onion Powder, Natural Colour (Carotene, Paprika Oleoresins), Preservative (Potassium Sorbate), Dill, Acidity Regulator (Citric Acid), Herb Extract, Mustard Oil.",
            "Jelly (70%) (Water, Sugar, Gelling Agents (Carrageenan, Locust Bean Gum, Xanthan Gum), Acidity Regulators (Sodium Citrates, Potassium Citrates, Calcium Lactate, Malic Acid, Citric Acid), Natural Flavours (Pineapple, Mango), Natural Colours (Carotene, Paprika Oleoresins), Antioxidant (Ascorbic Acid)), Peach (15%), Pear (15%)",
            "Jelly (70%) (Water, Sugar, Gelling Agents (Carrageenan, Locust Bean Gum, Xanthan Gum), Acidity Regulators (Sodium Citrates, Potassium Citrates, Calcium Lactate, Malic Acid, Citric Acid), Natural Flavours (Pineapple, Mango), Natural Colours (Carotene, Paprika Oleoresins), Antioxidant (Ascorbic Acid)), Peach (15%), Pear (15%)",
            "Jelly (70%) (Water, Sugar, Gelling Agents (Carrageenan, Locust Bean Gum, Xanthan Gum), Acidity Regulators (Sodium Citrates, Potassium Citrates, Calcium Lactate, Malic Acid, Citric Acid), Natural Flavours (Pineapple, Mango), Natural Colours (Carotene, Paprika Oleoresins), Antioxidant (Ascorbic Acid)), Peach (15%), Pear (15%)",
            "Jelly (70%) (Water, Sugar, Gelling Agents (Carrageenan, Locust Bean Gum, Xanthan Gum), Acidity Regulators (Sodium Citrates, Potassium Citrates, Calcium Lactate, Malic Acid, Citric Acid), Natural Flavours (Pineapple, Mango), Natural Colours (Carotene, Paprika Oleoresins), Antioxidant (Ascorbic Acid)), Peach (15%), Pear (15%)",
            "Jelly (70%) (Water, Sugar, Gelling Agents (Carrageenan, Locust Bean Gum, Xanthan Gum), Acidity Regulators (Sodium Citrates, Potassium Citrates, Calcium Lactate, Malic Acid, Citric Acid), Natural Flavours (Pineapple, Mango), Natural Colours (Carotene, Paprika Oleoresins), Antioxidant (Ascorbic Acid)), Peach (15%), Pear (15%)",
            "Jelly (70%) (Water, Sugar, Gelling Agents (Carrageenan, Locust Bean Gum, Xanthan Gum), Acidity Regulators (Sodium Citrates, Potassium Citrates, Calcium Lactate, Malic Acid, Citric Acid), Natural Flavours (Pineapple, Mango), Natural Colours (Carotene, Paprika Oleoresins), Antioxidant (Ascorbic Acid)), Peach (15%), Pear (15%)",
            "Jelly (70%) (Water, Sugar, Gelling Agents (Carrageenan, Locust Bean Gum, Xanthan Gum), Acidity Regulators (Sodium Citrates, Potassium Citrates, Calcium Lactate, Malic Acid, Citric Acid), Natural Flavours (Pineapple, Mango), Natural Colours (Carotene, Paprika Oleoresins), Antioxidant (Ascorbic Acid)), Peach (15%), Pear (15%)",
            "Jelly (70%) (Water, Sugar, Gelling Agents (Carrageenan, Locust Bean Gum, Xanthan Gum), Acidity Regulators (Sodium Citrates, Potassium Citrates, Calcium Lactate, Malic Acid, Citric Acid), Natural Flavours (Pineapple, Mango), Natural Colours (Carotene, Paprika Oleoresins), Antioxidant (Ascorbic Acid)), Peach (15%), Pear (15%)",
            "Jelly (70%) (Water, Sugar, Gelling Agents (Carrageenan, Locust Bean Gum, Xanthan Gum), Acidity Regulators (Sodium Citrates, Potassium Citrates, Calcium Lactate, Malic Acid, Citric Acid), Natural Flavours (Pineapple, Mango), Natural Colours (Carotene, Paprika Oleoresins), Antioxidant (Ascorbic Acid)), Peach (15%), Pear (15%)",
            "Jelly (70%) (Water, Sugar, Gelling Agents (Carrageenan, Locust Bean Gum, Xanthan Gum), Acidity Regulators (Sodium Citrates, Potassium Citrates, Calcium Lactate, Malic Acid, Citric Acid), Natural Flavours (Pineapple, Mango), Natural Colours (Carotene, Paprika Oleoresins), Antioxidant (Ascorbic Acid)), Peach (15%), Pear (15%)",
            "Jelly (70%) (Water, Sugar, Gelling Agents (Carrageenan, Locust Bean Gum, Xanthan Gum), Acidity Regulators (Sodium Citrates, Potassium Citrates, Calcium Lactate, Malic Acid, Citric Acid), Natural Flavours (Pineapple, Mango), Natural Colours (Carotene, Paprika Oleoresins), Antioxidant (Ascorbic Acid)), Peach (15%), Pear (15%)",
            "Jelly (70%) (Water, Sugar, Gelling Agents (Carrageenan, Locust Bean Gum, Xanthan Gum), Acidity Regulators (Sodium Citrates, Potassium Citrates, Calcium Lactate, Malic Acid, Citric Acid), Natural Flavours (Pineapple, Mango), Natural Colours (Carotene, Paprika Oleoresins), Antioxidant (Ascorbic Acid)), Peach (15%), Pear (15%)"
           ],
           [
            "Sugar",
            "Sugar",
            "Sugar",
            "Sugar",
            "Sugar",
            "Wheat Flour",
            "Wheat Flour",
            "Refined Palm Oil",
            "Refined Palm Oil",
            "Salt",
            "Salt",
            "Salt",
            "451",
            "451",
            "501",
            "501",
            "500",
            "500",
            "412",
            "412",
            "101",
            "101",
            "Seasoning Powder",
            "Seasoning Powder",
            "621",
            "621",
            "627",
            "627",
            "Garlic Powder",
            "Garlic Powder",
            "Onion Powder",
            "Onion Powder",
            "Onion Powder",
            "Yeast Extract",
            "Yeast Extract",
            "Artificial Flavour",
            "Artificial Flavour",
            "Pepper",
            "Pepper",
            "551",
            "551",
            "Seasoning Oil",
            "Seasoning Oil",
            "Onion",
            "Onion",
            "Sweet Soy Sauce",
            "Sweet Soy Sauce",
            "Water",
            "Water",
            "Water",
            "Water",
            "Water",
            "Wheat",
            "Wheat",
            "Soy Bean",
            "Soy Bean",
            "Spices",
            "Spices",
            "Sesame Oil",
            "Sesame Oil",
            "Chilli Sauce",
            "Chilli Sauce",
            "Chilli",
            "Chilli",
            "Tapioca Starch",
            "Tapioca Starch",
            "260",
            "260",
            "330",
            "330",
            "Herbs",
            "Herbs",
            "1211",
            "1211",
            "223",
            "223",
            "Fried Onion",
            "Fried Onion",
            "319",
            "319",
            "631",
            "631",
            "Citric Acid",
            "Natural Flavours",
            "1422",
            "Citric Acid",
            "Citric Acid",
            "Vitamin C",
            "Apple",
            "Orange",
            "Pineapple",
            "Passionfruit",
            "Pear",
            "Potassium Citrate",
            "Pectin",
            "Water Extracted Orange",
            "Peach Purée",
            "Canola Oil",
            "Vinegar",
            "Xanthan Gum",
            "Free Range Egg Yolk",
            "Gherkin",
            "Carotene",
            "Carotene",
            "Paprika Oleoresins",
            "Paprika Oleoresins",
            "Potassium Sorbate",
            "Dill",
            "Herb Extract",
            "Mustard Oil",
            "Ascorbic Acid",
            "Carrageenan",
            "Locust Bean Gum",
            "Xanthan Gum",
            "Sodium Citrate",
            "Potassium Citrate",
            "Calcium Lactate",
            "Malic Acid",
            "Peach",
            "Pear",
            "Pineapple",
            "Mango"
           ],
           [
            "Sugar",
            "Sugar",
            "Sugar",
            "Sugar",
            "Sugar",
            "Wheat Flour",
            "Wheat Flour",
            "Refined Palm Oil",
            "Refined Palm Oil",
            "Salt",
            "Salt",
            "Salt",
            "Acidity Regulator 451",
            "Acidity Regulator 451",
            "Acidity Regulator 501",
            "Acidity Regulator 501",
            "Sodium Bicarbonate",
            "Sodium Bicarbonate",
            "Guar Gum",
            "Guar Gum",
            "Colour 101",
            "Colour 101",
            "Seasoning Powder",
            "Seasoning Powder",
            "Flavour Enhancer 621",
            "Flavour Enhancer 621",
            "Disodium Guanylate",
            "Disodium Guanylate",
            "Garlic Powder",
            "Garlic Powder",
            "Onion Powder",
            "Onion Powder",
            "Onion Powder",
            "Yeast Extract",
            "Yeast Extract",
            "Artificial Flavour",
            "Artificial Flavour",
            "Pepper",
            "Pepper",
            "Anti Caking Agent 551",
            "Anti Caking Agent 551",
            "Seasoning Oil",
            "Seasoning Oil",
            "Onion",
            "Onion",
            "Sweet Soy Sauce",
            "Sweet Soy Sauce",
            "Water",
            "Water",
            "Water",
            "Water",
            "Water",
            "Wheat",
            "Wheat",
            "Soy Bean",
            "Soy Bean",
            "Spices",
            "Spices",
            "Sesame Oil",
            "Sesame Oil",
            "Chilli Sauce",
            "Chilli Sauce",
            "Chilli",
            "Chilli",
            "Tapioca Starch",
            "Tapioca Starch",
            "Acetic Acid",
            "Acetic Acid",
            "Citric Acid",
            "Citric Acid",
            "Herbs",
            "Herbs",
            "Preservative 1211",
            "Preservative 1211",
            "Sodium Metabisulfite",
            "Sodium Metabisulfite",
            "Fried Onion",
            "Fried Onion",
            "TBHQ",
            "TBHQ",
            "Disodium Inosinate",
            "Disodium Inosinate",
            "Citric Acid",
            "Natural Flavours",
            "Thickener 1422",
            "Citric Acid",
            "Citric Acid",
            "Vitamin C",
            "Reconstituted Apple Juice",
            "Reconstituted Fruit Juice Orange",
            "Reconstituted Fruit Juice Pineapple",
            "Reconstituted Fruit Juice Passionfruit",
            "Reconstituted Fruit Juice Pear",
            "Potassium Citrate",
            "Pectin",
            "Reconstituted Fruit Juice Water Extracted Orange",
            "Reconstituted Fruit Juice Peach Purée",
            "Canola Oil",
            "Vinegar",
            "Xanthan Gum",
            "Free Range Egg Yolk",
            "Gherkin",
            "Carotene",
            "Carotene",
            "Paprika Oleoresins",
            "Paprika Oleoresins",
            "Potassium Sorbate",
            "Dill",
            "Herb Extract",
            "Mustard Oil",
            "Ascorbic Acid",
            "Carrageenan",
            "Locust Bean Gum",
            "Xanthan Gum",
            "Sodium Citrate",
            "Potassium Citrate",
            "Calcium Lactate",
            "Malic Acid",
            "Fruit Peach",
            "Pear",
            "Natural Flavour Pineapple",
            "Natural Flavour Mango"
           ]
          ]
         },
         "header": {
          "values": [
           "ManufacturingProcessStep",
           "ManufacturingProcessDescription",
           "product",
           "Recipe",
           "Ingredient",
           "IngredientResearch"
          ]
         },
         "type": "table"
        }
       ],
       "layout": {
        "template": {
         "data": {
          "bar": [
           {
            "error_x": {
             "color": "#2a3f5f"
            },
            "error_y": {
             "color": "#2a3f5f"
            },
            "marker": {
             "line": {
              "color": "#E5ECF6",
              "width": 0.5
             },
             "pattern": {
              "fillmode": "overlay",
              "size": 10,
              "solidity": 0.2
             }
            },
            "type": "bar"
           }
          ],
          "barpolar": [
           {
            "marker": {
             "line": {
              "color": "#E5ECF6",
              "width": 0.5
             },
             "pattern": {
              "fillmode": "overlay",
              "size": 10,
              "solidity": 0.2
             }
            },
            "type": "barpolar"
           }
          ],
          "carpet": [
           {
            "aaxis": {
             "endlinecolor": "#2a3f5f",
             "gridcolor": "white",
             "linecolor": "white",
             "minorgridcolor": "white",
             "startlinecolor": "#2a3f5f"
            },
            "baxis": {
             "endlinecolor": "#2a3f5f",
             "gridcolor": "white",
             "linecolor": "white",
             "minorgridcolor": "white",
             "startlinecolor": "#2a3f5f"
            },
            "type": "carpet"
           }
          ],
          "choropleth": [
           {
            "colorbar": {
             "outlinewidth": 0,
             "ticks": ""
            },
            "type": "choropleth"
           }
          ],
          "contour": [
           {
            "colorbar": {
             "outlinewidth": 0,
             "ticks": ""
            },
            "colorscale": [
             [
              0,
              "#0d0887"
             ],
             [
              0.1111111111111111,
              "#46039f"
             ],
             [
              0.2222222222222222,
              "#7201a8"
             ],
             [
              0.3333333333333333,
              "#9c179e"
             ],
             [
              0.4444444444444444,
              "#bd3786"
             ],
             [
              0.5555555555555556,
              "#d8576b"
             ],
             [
              0.6666666666666666,
              "#ed7953"
             ],
             [
              0.7777777777777778,
              "#fb9f3a"
             ],
             [
              0.8888888888888888,
              "#fdca26"
             ],
             [
              1,
              "#f0f921"
             ]
            ],
            "type": "contour"
           }
          ],
          "contourcarpet": [
           {
            "colorbar": {
             "outlinewidth": 0,
             "ticks": ""
            },
            "type": "contourcarpet"
           }
          ],
          "heatmap": [
           {
            "colorbar": {
             "outlinewidth": 0,
             "ticks": ""
            },
            "colorscale": [
             [
              0,
              "#0d0887"
             ],
             [
              0.1111111111111111,
              "#46039f"
             ],
             [
              0.2222222222222222,
              "#7201a8"
             ],
             [
              0.3333333333333333,
              "#9c179e"
             ],
             [
              0.4444444444444444,
              "#bd3786"
             ],
             [
              0.5555555555555556,
              "#d8576b"
             ],
             [
              0.6666666666666666,
              "#ed7953"
             ],
             [
              0.7777777777777778,
              "#fb9f3a"
             ],
             [
              0.8888888888888888,
              "#fdca26"
             ],
             [
              1,
              "#f0f921"
             ]
            ],
            "type": "heatmap"
           }
          ],
          "heatmapgl": [
           {
            "colorbar": {
             "outlinewidth": 0,
             "ticks": ""
            },
            "colorscale": [
             [
              0,
              "#0d0887"
             ],
             [
              0.1111111111111111,
              "#46039f"
             ],
             [
              0.2222222222222222,
              "#7201a8"
             ],
             [
              0.3333333333333333,
              "#9c179e"
             ],
             [
              0.4444444444444444,
              "#bd3786"
             ],
             [
              0.5555555555555556,
              "#d8576b"
             ],
             [
              0.6666666666666666,
              "#ed7953"
             ],
             [
              0.7777777777777778,
              "#fb9f3a"
             ],
             [
              0.8888888888888888,
              "#fdca26"
             ],
             [
              1,
              "#f0f921"
             ]
            ],
            "type": "heatmapgl"
           }
          ],
          "histogram": [
           {
            "marker": {
             "pattern": {
              "fillmode": "overlay",
              "size": 10,
              "solidity": 0.2
             }
            },
            "type": "histogram"
           }
          ],
          "histogram2d": [
           {
            "colorbar": {
             "outlinewidth": 0,
             "ticks": ""
            },
            "colorscale": [
             [
              0,
              "#0d0887"
             ],
             [
              0.1111111111111111,
              "#46039f"
             ],
             [
              0.2222222222222222,
              "#7201a8"
             ],
             [
              0.3333333333333333,
              "#9c179e"
             ],
             [
              0.4444444444444444,
              "#bd3786"
             ],
             [
              0.5555555555555556,
              "#d8576b"
             ],
             [
              0.6666666666666666,
              "#ed7953"
             ],
             [
              0.7777777777777778,
              "#fb9f3a"
             ],
             [
              0.8888888888888888,
              "#fdca26"
             ],
             [
              1,
              "#f0f921"
             ]
            ],
            "type": "histogram2d"
           }
          ],
          "histogram2dcontour": [
           {
            "colorbar": {
             "outlinewidth": 0,
             "ticks": ""
            },
            "colorscale": [
             [
              0,
              "#0d0887"
             ],
             [
              0.1111111111111111,
              "#46039f"
             ],
             [
              0.2222222222222222,
              "#7201a8"
             ],
             [
              0.3333333333333333,
              "#9c179e"
             ],
             [
              0.4444444444444444,
              "#bd3786"
             ],
             [
              0.5555555555555556,
              "#d8576b"
             ],
             [
              0.6666666666666666,
              "#ed7953"
             ],
             [
              0.7777777777777778,
              "#fb9f3a"
             ],
             [
              0.8888888888888888,
              "#fdca26"
             ],
             [
              1,
              "#f0f921"
             ]
            ],
            "type": "histogram2dcontour"
           }
          ],
          "mesh3d": [
           {
            "colorbar": {
             "outlinewidth": 0,
             "ticks": ""
            },
            "type": "mesh3d"
           }
          ],
          "parcoords": [
           {
            "line": {
             "colorbar": {
              "outlinewidth": 0,
              "ticks": ""
             }
            },
            "type": "parcoords"
           }
          ],
          "pie": [
           {
            "automargin": true,
            "type": "pie"
           }
          ],
          "scatter": [
           {
            "fillpattern": {
             "fillmode": "overlay",
             "size": 10,
             "solidity": 0.2
            },
            "type": "scatter"
           }
          ],
          "scatter3d": [
           {
            "line": {
             "colorbar": {
              "outlinewidth": 0,
              "ticks": ""
             }
            },
            "marker": {
             "colorbar": {
              "outlinewidth": 0,
              "ticks": ""
             }
            },
            "type": "scatter3d"
           }
          ],
          "scattercarpet": [
           {
            "marker": {
             "colorbar": {
              "outlinewidth": 0,
              "ticks": ""
             }
            },
            "type": "scattercarpet"
           }
          ],
          "scattergeo": [
           {
            "marker": {
             "colorbar": {
              "outlinewidth": 0,
              "ticks": ""
             }
            },
            "type": "scattergeo"
           }
          ],
          "scattergl": [
           {
            "marker": {
             "colorbar": {
              "outlinewidth": 0,
              "ticks": ""
             }
            },
            "type": "scattergl"
           }
          ],
          "scattermapbox": [
           {
            "marker": {
             "colorbar": {
              "outlinewidth": 0,
              "ticks": ""
             }
            },
            "type": "scattermapbox"
           }
          ],
          "scatterpolar": [
           {
            "marker": {
             "colorbar": {
              "outlinewidth": 0,
              "ticks": ""
             }
            },
            "type": "scatterpolar"
           }
          ],
          "scatterpolargl": [
           {
            "marker": {
             "colorbar": {
              "outlinewidth": 0,
              "ticks": ""
             }
            },
            "type": "scatterpolargl"
           }
          ],
          "scatterternary": [
           {
            "marker": {
             "colorbar": {
              "outlinewidth": 0,
              "ticks": ""
             }
            },
            "type": "scatterternary"
           }
          ],
          "surface": [
           {
            "colorbar": {
             "outlinewidth": 0,
             "ticks": ""
            },
            "colorscale": [
             [
              0,
              "#0d0887"
             ],
             [
              0.1111111111111111,
              "#46039f"
             ],
             [
              0.2222222222222222,
              "#7201a8"
             ],
             [
              0.3333333333333333,
              "#9c179e"
             ],
             [
              0.4444444444444444,
              "#bd3786"
             ],
             [
              0.5555555555555556,
              "#d8576b"
             ],
             [
              0.6666666666666666,
              "#ed7953"
             ],
             [
              0.7777777777777778,
              "#fb9f3a"
             ],
             [
              0.8888888888888888,
              "#fdca26"
             ],
             [
              1,
              "#f0f921"
             ]
            ],
            "type": "surface"
           }
          ],
          "table": [
           {
            "cells": {
             "fill": {
              "color": "#EBF0F8"
             },
             "line": {
              "color": "white"
             }
            },
            "header": {
             "fill": {
              "color": "#C8D4E3"
             },
             "line": {
              "color": "white"
             }
            },
            "type": "table"
           }
          ]
         },
         "layout": {
          "annotationdefaults": {
           "arrowcolor": "#2a3f5f",
           "arrowhead": 0,
           "arrowwidth": 1
          },
          "autotypenumbers": "strict",
          "coloraxis": {
           "colorbar": {
            "outlinewidth": 0,
            "ticks": ""
           }
          },
          "colorscale": {
           "diverging": [
            [
             0,
             "#8e0152"
            ],
            [
             0.1,
             "#c51b7d"
            ],
            [
             0.2,
             "#de77ae"
            ],
            [
             0.3,
             "#f1b6da"
            ],
            [
             0.4,
             "#fde0ef"
            ],
            [
             0.5,
             "#f7f7f7"
            ],
            [
             0.6,
             "#e6f5d0"
            ],
            [
             0.7,
             "#b8e186"
            ],
            [
             0.8,
             "#7fbc41"
            ],
            [
             0.9,
             "#4d9221"
            ],
            [
             1,
             "#276419"
            ]
           ],
           "sequential": [
            [
             0,
             "#0d0887"
            ],
            [
             0.1111111111111111,
             "#46039f"
            ],
            [
             0.2222222222222222,
             "#7201a8"
            ],
            [
             0.3333333333333333,
             "#9c179e"
            ],
            [
             0.4444444444444444,
             "#bd3786"
            ],
            [
             0.5555555555555556,
             "#d8576b"
            ],
            [
             0.6666666666666666,
             "#ed7953"
            ],
            [
             0.7777777777777778,
             "#fb9f3a"
            ],
            [
             0.8888888888888888,
             "#fdca26"
            ],
            [
             1,
             "#f0f921"
            ]
           ],
           "sequentialminus": [
            [
             0,
             "#0d0887"
            ],
            [
             0.1111111111111111,
             "#46039f"
            ],
            [
             0.2222222222222222,
             "#7201a8"
            ],
            [
             0.3333333333333333,
             "#9c179e"
            ],
            [
             0.4444444444444444,
             "#bd3786"
            ],
            [
             0.5555555555555556,
             "#d8576b"
            ],
            [
             0.6666666666666666,
             "#ed7953"
            ],
            [
             0.7777777777777778,
             "#fb9f3a"
            ],
            [
             0.8888888888888888,
             "#fdca26"
            ],
            [
             1,
             "#f0f921"
            ]
           ]
          },
          "colorway": [
           "#636efa",
           "#EF553B",
           "#00cc96",
           "#ab63fa",
           "#FFA15A",
           "#19d3f3",
           "#FF6692",
           "#B6E880",
           "#FF97FF",
           "#FECB52"
          ],
          "font": {
           "color": "#2a3f5f"
          },
          "geo": {
           "bgcolor": "white",
           "lakecolor": "white",
           "landcolor": "#E5ECF6",
           "showlakes": true,
           "showland": true,
           "subunitcolor": "white"
          },
          "hoverlabel": {
           "align": "left"
          },
          "hovermode": "closest",
          "mapbox": {
           "style": "light"
          },
          "paper_bgcolor": "white",
          "plot_bgcolor": "#E5ECF6",
          "polar": {
           "angularaxis": {
            "gridcolor": "white",
            "linecolor": "white",
            "ticks": ""
           },
           "bgcolor": "#E5ECF6",
           "radialaxis": {
            "gridcolor": "white",
            "linecolor": "white",
            "ticks": ""
           }
          },
          "scene": {
           "xaxis": {
            "backgroundcolor": "#E5ECF6",
            "gridcolor": "white",
            "gridwidth": 2,
            "linecolor": "white",
            "showbackground": true,
            "ticks": "",
            "zerolinecolor": "white"
           },
           "yaxis": {
            "backgroundcolor": "#E5ECF6",
            "gridcolor": "white",
            "gridwidth": 2,
            "linecolor": "white",
            "showbackground": true,
            "ticks": "",
            "zerolinecolor": "white"
           },
           "zaxis": {
            "backgroundcolor": "#E5ECF6",
            "gridcolor": "white",
            "gridwidth": 2,
            "linecolor": "white",
            "showbackground": true,
            "ticks": "",
            "zerolinecolor": "white"
           }
          },
          "shapedefaults": {
           "line": {
            "color": "#2a3f5f"
           }
          },
          "ternary": {
           "aaxis": {
            "gridcolor": "white",
            "linecolor": "white",
            "ticks": ""
           },
           "baxis": {
            "gridcolor": "white",
            "linecolor": "white",
            "ticks": ""
           },
           "bgcolor": "#E5ECF6",
           "caxis": {
            "gridcolor": "white",
            "linecolor": "white",
            "ticks": ""
           }
          },
          "title": {
           "x": 0.05
          },
          "xaxis": {
           "automargin": true,
           "gridcolor": "white",
           "linecolor": "white",
           "ticks": "",
           "title": {
            "standoff": 15
           },
           "zerolinecolor": "white",
           "zerolinewidth": 2
          },
          "yaxis": {
           "automargin": true,
           "gridcolor": "white",
           "linecolor": "white",
           "ticks": "",
           "title": {
            "standoff": 15
           },
           "zerolinecolor": "white",
           "zerolinewidth": 2
          }
         }
        },
        "title": {
         "text": "ManufacturingProcesses with 'water' and 'sugar' in Description"
        }
       }
      }
     },
     "metadata": {},
     "output_type": "display_data"
    }
   ],
   "source": [
    "import pandas as pd\n",
    "import spacy\n",
    "import plotly.graph_objects as go\n",
    "\n",
    "# Load spaCy English model\n",
    "nlp = spacy.load('en_core_web_sm')\n",
    "\n",
    "\n",
    "keyword_groups = [['water', 'sugar']]\n",
    "\n",
    "# Defining Filter Functions\n",
    "def filter_descriptions(description):\n",
    "    if pd.notnull(description):\n",
    "        doc = nlp(str(description).lower())\n",
    "        tokens = [token.text for token in doc]\n",
    "        for group in keyword_groups:\n",
    "            if all(word in tokens for word in group):\n",
    "                return True\n",
    "    return False\n",
    "\n",
    "# Filtering data frames and constructing lists of results\n",
    "result = []\n",
    "for index, row in df.iterrows():\n",
    "    if filter_descriptions(row['ManufacturingProcessDescription']):\n",
    "        result.append({\n",
    "            'ManufacturingProcessStep': row['ManufacturingProcessStep'],\n",
    "            'ManufacturingProcessDescription': row['ManufacturingProcessDescription'],\n",
    "            'Recipe': row['Recipe'],\n",
    "            'Product': row['Product'],\n",
    "            'Ingredient': row['Ingredient'],\n",
    "            'IngredientResearch': row['IngredientResearch']\n",
    "        })\n",
    "\n",
    "\n",
    "result_df = pd.DataFrame(result)\n",
    "\n",
    "\n",
    "fig_data = [go.Table(\n",
    "    header=dict(values=['ManufacturingProcessStep', 'ManufacturingProcessDescription', 'product','Recipe','Ingredient','IngredientResearch']),\n",
    "    cells=dict(values=[result_df['ManufacturingProcessStep'], result_df['ManufacturingProcessDescription'],result_df['Product'], \n",
    "                       result_df['Recipe'],result_df['Ingredient'],result_df['IngredientResearch']])\n",
    ")]\n",
    "\n",
    "\n",
    "\n",
    "fig_layout = go.Layout(\n",
    "    title='ManufacturingProcesses with \\'water\\' and \\'sugar\\' in Description'\n",
    ")\n",
    "\n",
    "\n",
    "fig = go.Figure(data=fig_data, layout=fig_layout)\n",
    "fig.show()"
   ]
  }
 ],
 "metadata": {
  "kernelspec": {
   "display_name": "base",
   "language": "python",
   "name": "python3"
  },
  "language_info": {
   "codemirror_mode": {
    "name": "ipython",
    "version": 3
   },
   "file_extension": ".py",
   "mimetype": "text/x-python",
   "name": "python",
   "nbconvert_exporter": "python",
   "pygments_lexer": "ipython3",
   "version": "3.10.9"
  }
 },
 "nbformat": 4,
 "nbformat_minor": 2
}
