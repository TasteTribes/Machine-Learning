{
 "cells": [
  {
   "cell_type": "code",
   "execution_count": 1,
   "metadata": {},
   "outputs": [
    {
     "name": "stdout",
     "output_type": "stream",
     "text": [
      "Connectivity verified successfully.\n"
     ]
    }
   ],
   "source": [
    "from neo4j import GraphDatabase\n",
    "\n",
    "def get_neo4j_driver() -> GraphDatabase.driver:\n",
    "    \"\"\"Establishes and returns a Neo4j session for AuraDB.\"\"\"\n",
    "    neo4j_uri = 'neo4j+s://9d1381c2.databases.neo4j.io:7687'\n",
    "    neo4j_user = 'Shirley'\n",
    "    neo4j_password = 'Sxl19950312'\n",
    "    return GraphDatabase.driver(neo4j_uri, auth=(neo4j_user, neo4j_password))\n",
    "\n",
    "# Call the function to get the driver\n",
    "driver = get_neo4j_driver()\n",
    "\n",
    "# Open a session\n",
    "with driver.session() as session:\n",
    "    # Verify connectivity within the session\n",
    "    session.run(\"RETURN 1\")\n",
    "\n",
    "print(\"Connectivity verified successfully.\")\n",
    "\n",
    "\n",
    "from dash import Dash, dcc, html\n",
    "import plotly.express as px\n",
    "import pandas as pd\n",
    "\n",
    "\n",
    "# Define a Cypher query to retrieve the required data\n",
    "query = \"\"\"\n",
    "MATCH (n)\n",
    "RETURN n\n",
    "\"\"\"\n",
    "\n",
    "# Execute the query and process the results\n",
    "with driver.session() as session:\n",
    "    result = session.run(query)\n",
    "    neo4j_data = [record.data() for record in result]\n",
    "\n",
    "# Converting Neo4j Data to Pandas DataFrame Format\n",
    "df = pd.DataFrame(neo4j_data)\n",
    "\n",
    "#print(df)"
   ]
  },
  {
   "cell_type": "code",
   "execution_count": 4,
   "metadata": {},
   "outputs": [
    {
     "data": {
      "application/vnd.plotly.v1+json": {
       "config": {
        "plotlyServerURL": "https://plot.ly"
       },
       "data": [
        {
         "cells": {
          "align": "left",
          "fill": {
           "color": "lavender"
          },
          "values": [
           [
            "Carbonated Water",
            "Sugar",
            "Colouring Agent 150d",
            "Phosphoric Acid",
            "Flavour",
            "Caffeine",
            "Sodium Citrate",
            "Aspartame",
            "Acesulfame Potassium",
            "Sweetener 952",
            "Wheat Flour",
            "Refined Palm Oil",
            "Salt",
            "Acidity Regulator 451",
            "Acidity Regulator 501",
            "Sodium Bicarbonate",
            "Guar Gum",
            "Colour 101",
            "Seasoning Powder",
            "Flavour Enhancer 621",
            "Disodium Guanylate",
            "Garlic Powder",
            "Onion Powder",
            "Yeast Extract",
            "Artificial Flavour",
            "Pepper",
            "Anti Caking Agent 551",
            "Seasoning Oil",
            "Onion",
            "Sweet Soy Sauce",
            "Water",
            "Wheat",
            "Soy Bean",
            "Spices",
            "Sesame Oil",
            "Chilli Sauce",
            "Chilli",
            "Tapioca Starch",
            "Acetic Acid",
            "Citric Acid",
            "Herbs",
            "Preservative 1211",
            "Sodium Metabisulfite",
            "Fried Onion",
            "TBHQ",
            "Vegetable Oil",
            "Antioxidant 320",
            "Mineral Salt 508",
            "Mineral Salt 451",
            "Flavour Enhancer 635",
            "Guar Gum",
            "Iodised Salt",
            "Maltodextrin",
            "Flavours Wheat",
            "Flavours Soy",
            "Vegetable Fat",
            "Parsley Flakes",
            "Turmeric",
            "Caramel III",
            "Coriander",
            "Cumin",
            "Spice Cardamom",
            "Spice Chilli Powder",
            "Spice Ginger",
            "Potassium Chloride",
            "Flavour Celery",
            "Potato Starch",
            "Parsley",
            "Burnt Sugar",
            "Gluten Wheat",
            "Soy",
            "Curcumin",
            "Flavour Sachet",
            "Vegetable Sachet",
            "Dehydrated Vegetables",
            "Modified Starch 1420",
            "Mineral Salt 501",
            "Mineral Salt 500",
            "Mineral Salt 450",
            "Disodium Inosinate",
            "Basil",
            "Colouring Agent 100",
            "Antioxidant 307b",
            "Flavours",
            "Soy Sauce Powder",
            "White Pepper",
            "Rosemary",
            "Colouring Agent 150c",
            "Caramel Color",
            "Carbonated Mineral Water",
            "Citric Acid",
            "Natural Flavours",
            "Natural Mineral Water",
            "Potassium Bicarbonate",
            "Citric Acid",
            "Natural Flavour Orange Peel Extract",
            "Natural Flavour Citrus Oils",
            "Natural Flavour Botanical Extracts",
            "Natural Flavour Lemon Peel Extract",
            "Quinine",
            "Natural Flavour Lime Oils",
            "Sodium Benzoate",
            "Plant Extract Gardenia",
            "Plant Extract Carthamus",
            "Sulphites",
            "Carbonated Mineral Water",
            "",
            "Reconstituted Lime Juice",
            "Sodium Citrate",
            "Potassium Sorbate",
            "Safflower Extract",
            "Ascorbic Acid",
            "Carminic Acid",
            "Lutein",
            "Antioxidant 385",
            "Milk Solids",
            "Cocoa Butter",
            "Emulsifier Soy Lecithin",
            "Cocoa Mass",
            "Milk",
            "Polyglycerol Polyricinoleate",
            "Cocoa",
            "Sodium Bicarbonate",
            "Yeast",
            "Processing Aid Wheat",
            "Choc Paste",
            "Full Cream Milk",
            "Glucose Syrup",
            "Sweetened Condensed Milk",
            "Golden Syrup",
            "Invert Sugar",
            "Acidity Regulator 331",
            "Milk Chocolate",
            "Caramel",
            "Biscuit",
            "Wheat Glucose Syrup",
            "Barley Malt Extract",
            "Egg White",
            "Natural Flavour Vanilla Extract",
            "Cocoa Powder",
            "Sorbitan Tristearate",
            "Emulsifier 471",
            "Sodium Bicarbonate",
            "Enzymes",
            "Polyglycerol polyricinoleate",
            "Desiccated Coconut",
            "Wheat Starch",
            "Baking Powder",
            "Colouring Agent Caramel IV",
            "Antioxidant E307B",
            "Dark Compound Chocolate Chips",
            "Palm Oil",
            "Cocoa Solids",
            "Natural Flavour",
            "Wheaten Corn Flour",
            "Whole Egg Powder",
            "Milk Whey Powder",
            "Annatto Extracts",
            "Dark Chocolate Chips",
            "Natural Vanilla Flavour",
            "Milk Butter",
            "Natural Flavour Vanilla",
            "Natural Flavour Butter",
            "Sodium Carbonate",
            "Ammonium Carbonate",
            "Chocolate Chips",
            "Skim Milk Powder",
            "Fructose Syrup",
            "Cornstarch",
            "Ammonium Bicarbonate",
            "Mineral Iron",
            "Zinc",
            "Riboflavin",
            "Thiamin",
            "Folate",
            "Strawberry",
            "Milk Chocolate Chips",
            "Dextrose",
            "Emulsifier 442",
            "Egg",
            "Stabiliser 422",
            "Soybean Fibre",
            "Thickener 1422",
            "Raising Agent 450",
            "Colouring Agent 160a",
            "Citric Acid",
            "Thickener 1414",
            "Milk Compound Chocolate",
            "Glazing Agent 414",
            "Carnauba Wax",
            "Colouring Agent Titan White",
            "Colouring Agent Spirulina Extract",
            "Beta carotene",
            "Red Beetroot Powder",
            "Black Carrot Extract",
            "Cultured Dextrose",
            "Maize Starch",
            "",
            "Polyethylene",
            "Synthetic Wax",
            "",
            "Bis-Diglyceryl Polyacyladipate-2",
            "",
            "Polybutene",
            "Silica",
            "Octyldodecanol",
            "Pentaerythrityl Tetra-di-t-butyl Hydroxyhydrocinnamate",
            "Mica",
            "Ultramarines",
            "Iron Oxides",
            "Titanium Dioxide",
            "Ferric Ferrocyanide",
            "",
            "Carmine",
            "Reconstituted Apple Juice",
            "Citric Acid",
            "Vitamin C",
            "Reconstituted Apple Juice",
            "Reconstituted Mango Juice",
            "Reconstituted Fruit Juice Orange",
            "Reconstituted Fruit Juice Pineapple",
            "Reconstituted Fruit Juice Passionfruit",
            "Carboxymethyl Cellulose",
            "Reconstituted Fruit Juice Blackcurrant",
            "Anthocyanins",
            "Reconstituted Fruit Juice Grape",
            "Reconstituted Fruit Juice Apricot",
            "Reconstituted Fruit Juice Peach",
            "Reconstituted Fruit Juice Pear",
            "Reconstituted Lemon Juice",
            "Guava Puree",
            "Vitamin A",
            "Potassium Citrate",
            "Pectin",
            "Reconstituted Fruit Juice Water Extracted Orange",
            "Reconstituted Fruit Juice Peach Purée",
            "Pasteurised Homogenised Milk",
            "Cream",
            "Fructose",
            "Syrup",
            "Carmine",
            "Tomato Juice",
            "Durum Wheat Semolina",
            "Coconut Extract",
            "Guar Gum",
            "Homogenised Full Cream Milk",
            "Sardines",
            "Rice",
            "Skim Milk",
            "Acidity Regulator 339",
            "Guar Gum",
            "Reconstituted Tomato Puree",
            "Thickener Modified Corn Starch",
            "Acetic Acid",
            "Spice Extract",
            "Reconstituted Fruit Puree",
            "Apple Pulp",
            "Tomato Paste",
            "Molasses",
            "Caramel I",
            "Smoke Flavour",
            "Xanthan Gum",
            "Acetic Acid",
            "Tomatoes",
            "Wheat Cornflour",
            "Caramel Color 150c",
            "Pectin",
            "Tamarind Paste",
            "Clove",
            "Nutmeg",
            "Tomato Puree",
            "Acetic Acid",
            "Maize Thickener 1422",
            "Maize Maltodextrin",
            "Xanthan Gum",
            "Canola Oil",
            "Vinegar",
            "Xanthan Gum",
            "Free Range Egg Yolk",
            "Gherkin",
            "Carotene",
            "Paprika Oleoresins",
            "Potassium Sorbate",
            "Dill",
            "Herb Extract",
            "Mustard Oil",
            "White Vinegar",
            "Reconstituted Fruit Puree Apple",
            "Reconstituted Fruit Puree Tomato Paste",
            "Natural Spring Water",
            "Australian Spring Water",
            "Potatoes",
            "Sunflower Oil",
            "Antioxidant Tocopherols",
            "Ascorbic Acid",
            "Antioxidant Rosemary Extract",
            "Citric Acid",
            "Cheese Powder",
            "Flavoured Milk",
            "Tomato Powder",
            "Sodium Diacetate",
            "Paprika",
            "Flavour Enhancer 620",
            "Turmeric",
            "Glucose",
            "Vegetable Powder Garlic",
            "Milk Lactose",
            "Vegetable Powder Tomato",
            "Garam Masala",
            "Buttermilk Powder",
            "Lactic Acid",
            "Paprika Extract",
            "Carrageenan",
            "Locust Bean Gum",
            "Xanthan Gum",
            "Sodium Citrate",
            "Potassium Citrate",
            "Calcium Lactate",
            "Malic Acid",
            "Natural Strawberry Flavour",
            "Cochineal",
            "Fruit Peach",
            "Pear",
            "Reconstituted Refined Juice Concentrated Pear Juice",
            "Refined Fruit Juice Apple",
            "Refined Fruit Juice Grape",
            "Refined Fruit Juice Peach",
            "Refined Fruit Juice Pear",
            "Natural Flavour Pineapple",
            "Natural Flavour Mango",
            "Jelly Natural Pineapple Flavour",
            "Apple",
            "Diced Pears",
            "Diced Peaches",
            "Refined Fruit Juice",
            "Pineapple",
            "Citric Acid",
            "Pineapple Juice",
            "Clarified Pineapple Juice Concentrate"
           ],
           [
            "Soda Water, Sparkling Water, Seltzer Water",
            "Sucrose, Table Sugar, Beet Sugar, Cane Sugar",
            "Caramel Color IV, Sulfite Ammonia Caramel, E150d",
            "Orthophosphoric Acid, E338",
            "Taste, Aroma",
            "1,3,7-Trimethylxanthine, Theine, Methyltheobromine, Mateine, Guaranine",
            "Trisodium Citrate, E331",
            "Sweetener 951, APM, Canderel, NutraSweet, Equal",
            "Acesulfame K, Ace-K, E950",
            "Sucralight 952, E952",
            "All-purpose flour, White flour, Plain flour",
            "Palm Olein",
            "Table Salt, Sodium Chloride, Rock Salt, Sea Salt",
            "Triphosphates, Sodium Triphosphate",
            "Potassium Carbonate, Potassium Bicarbonate",
            "Baking Soda, Bicarbonate of Soda, E500",
            "Guaran, E412",
            "Brilliant Blue, E101",
            "Spice Mix, Seasoning Blend",
            "Monosodium Glutamate, MSG, E621",
            "Sodium Guanylate, GMP, E627",
            "Granulated Garlic, Garlic Granules",
            "Dehydrated Onion Powder",
            "Autolyzed Yeast Extract, Yeast Autolysate",
            "Artificial Flavoring Agents, Synthetic Flavoring Substances",
            "Black Pepper, White Pepper, Green Pepper, Pink Pepper",
            "Silicon Dioxide, Silica, E551",
            "Flavored Oil, Infused Oil",
            "Bulb onion, Common onion",
            "Kecap Manis",
            "Aqua, H2O, Dihydrogen Monoxide",
            "Bread Wheat, Common Wheat",
            "Soya Bean, Edamame (when immature)",
            "Seasonings, Condiments",
            "Gingelly Oil, Til Oil",
            "Hot Sauce, Pepper Sauce",
            "Chili Pepper, Red Pepper, Hot Pepper",
            "Cassava Starch, Tapioca Flour",
            "Ethanoic Acid, Vinegar Acid, E260",
            "Acidity Regulator 330, E330",
            "Culinary herbs, Aromatic herbs",
            "Stabilox, Antiox-12",
            "Sodium Pyrosulfite, E223",
            "Crispy Fried Onion, French Fried Onions",
            "Tertiary Butylhydroquinone, Antioxidant 319",
            "Plant Oil, Edible Vegetable Oil",
            "Butylated Hydroxyanisole, BHA",
            "Potassium Chloride, E508",
            "Triphosphate Salt, E451",
            "Disodium 5'-ribonucleotides, I+G, E635",
            "Guaran, Vegetable Gum 412, E412",
            "Iodized Salt, Table Salt with Iodine",
            "Corn Maltodextrin, Tapioca Maltodextrin, Wheat Maltodextrin",
            "Wheat Extract, Wheat Flavor",
            "Soy Extract, Soy Flavoring",
            "Vegetable Oil, Plant Fat",
            "Dried Parsley",
            "Curcuma, Indian Saffron, Haldi",
            "Ammonia Caramel, E150c, Caramel Color III",
            "Cilantro, Chinese parsley, Dhania",
            "Jeera, Cummin, Cuminum cyminum",
            "Green Cardamom, True Cardamom",
            "Chili Powder, Red Pepper Powder",
            "Ginger Root, Jamaican Ginger",
            "KCl, Potash, Sylvite",
            "Celery Flavor, Celery Extract",
            "Potato Starch",
            "Garden parsley, Common parsley",
            "Caramelized Sugar, Black Sugar",
            "Wheat Gluten, Seitan",
            "Soya, Soybean",
            "Turmeric Extract, E100",
            "Seasoning Packet, Flavor Packet",
            "Vegetable Broth Mix, Vegetable Seasoning Packet",
            "Dried Vegetables",
            "Acetylated Distarch Adipate, E1420",
            "MS501, Food Grade Mineral Salt",
            "MS500, Food Grade Mineral Salt",
            "MS450, E450",
            "Flavour Enhancer 631, E631",
            "Sweet Basil, Saint Joseph's Wort",
            "CA100, Rainbow Blend",
            "AO-307b, Super Antiox",
            "Taste Enhancers, Aromas",
            "Dehydrated Soy Sauce, Soy Sauce Solid",
            "Peppercorn White, Ground White Pepper",
            "Dew of the Sea",
            "Ammonia Caramel, Caramel Color III, E150c",
            "Caramel Coloring, E150",
            "Sparkling Mineral Water, Seltzer Water, Bubbly Water",
            "E330, 2-Hydroxypropane-1,2,3-tricarboxylic acid",
            "Natural Flavoring Substances",
            "Mineral Water, Spring Water",
            "Potassium Hydrogen Carbonate, E501, KHCO3",
            "Food Acid 330, E330",
            "Orange Peel Oil, Orange Oil",
            "Citrus Essential Oils",
            "Botanical Essences, Plant Extracts",
            "Lemon Peel Oil, Lemon Oil",
            "Quinine sulfate, Quinine hydrochloride",
            "Lime Essential Oil, Lime Oil",
            "Benzoate of Soda, E211",
            "Gardenia Yellow, Gardenia Jasminoides Extract",
            "Safflower Extract",
            "Sulfites, E220-E228",
            "Sparkling Mineral Water, Seltzer Water",
            "",
            "Lime Juice Concentrate, Lime Juice",
            "Trisodium Citrate, E331",
            "Preservative 202, Sorbic Acid Potassium Salt, E202",
            "Carthamus tinctorius extract, Safflower yellow",
            "Vitamin C, E300",
            "Carmine, Cochineal Extract, E120, Natural Red 4",
            "Xanthophyll, E161b",
            "AO-385, Oxystop",
            "Dry Milk Solids, Milk Powder",
            "Theobroma Oil, Cacao Butter",
            "Soy Lecithin, Lecithin, E322",
            "Cocoa Liquor, Chocolate Liquor, Cacao Mass",
            "Cow's milk, Dairy milk",
            "PGPR, E476",
            "Cacao, Cocoa Powder",
            "Baking Soda, Bicarbonate of Soda, E500",
            "Baker's yeast, Brewer's yeast",
            "Wheat Processing Aid, Wheat Derived Processing Agent",
            "Chocolate Paste, Cocoa Spread",
            "Whole Milk, Full Fat Milk",
            "Corn Syrup, Liquid Glucose, Confectioner's Glucose",
            "Condensed Milk",
            "Light Treacle",
            "Inverted sugar syrup, Trimoline",
            "Sodium Citrates",
            "Chocolate (Milk)",
            "Burnt Sugar, Caramelized Sugar",
            "Cookie, Cracker",
            "Glucose Syrup, Wheat Syrup",
            "Malt Extract, Extract of Malted Barley",
            "Albumen, Egg Albumin",
            "Vanilla Extract, Pure Vanilla Extract",
            "Cacao Powder",
            "Span 65, E492",
            "Mono- and diglycerides of fatty acids, E471",
            "Baking Soda, Bicarbonate of Soda, E500",
            "Biocatalysts",
            "PGPR, E476",
            "Dried Coconut, Shredded Coconut",
            "Wheat Amylum",
            "Double-acting baking powder",
            "Caramel Color IV, E150d, Sulfite Ammonia Caramel",
            "Alpha-tocopherol, Vitamin E",
            "Compound Chocolate Chips, Non-Dairy Chocolate Chips",
            "Palm Fruit Oil, Crude Palm Oil",
            "Cocoa Powder, Pure Cocoa",
            "Natural Flavoring Substances",
            "Wheat-Corn Blend Flour",
            "Dried Egg Powder",
            "Whey Powder, Sweet Whey Powder",
            "Achiote, Bixin, Norbixin",
            "Semi-sweet chocolate chips, Bittersweet chocolate chips",
            "Vanilla Extract, Vanilla Flavor",
            "Butter",
            "Vanilla Extract, Pure Vanilla Extract",
            "Flavoured Butter",
            "Soda Ash, Washing Soda, E500",
            "Baker's Ammonia, Hartshorn, Ammonium Bicarbonate",
            "Chocolate Morsels",
            "Nonfat Dry Milk, Nonfat Milk Powder, Fat-Free Milk Powder",
            "High Fructose Corn Syrup, HFCS, Isoglucose, Glucose-Fructose Syrup",
            "Corn flour, Maize starch",
            "Baker's Ammonia, Hartshorn, E503",
            "Ferrum, Fe",
            "Zn",
            "Vitamin B2, Lactoflavin, E101",
            "Vitamin B1, Thiamine, Aneurin",
            "Vitamin B9, Folic Acid, Pteroylmonoglutamic Acid",
            "Garden strawberry",
            "Milk Chocolate Morsels",
            "D-Glucose, Corn Sugar, Grape Sugar",
            "N/A",
            "Hen's egg, Chicken egg",
            "Glycerol, Glycerin, E422",
            "Soy Fiber, Soy Dietary Fiber",
            "Acetylated Distarch Adipate, E1422",
            "Diphosphates, E450",
            "Carotene, Beta-Carotene",
            "Antioxidant 330, E330",
            "Acacia Gum 1414, E1414",
            "Milk Chocolate Compound, Compound Coating",
            "Gum Arabic, Acacia Gum",
            "Brazil Wax, Palm Wax, Glazing Agent 903",
            "Titanium Dioxide, TiO2, E171",
            "Spirulina Blue, Phycocyanin, E133",
            "β-Carotene, Provitamin A, Carotene",
            "Beet Powder, Beetroot Red",
            "Black Carrot Concentrate, Anthocyanin Extract",
            "Microbial Dextrose",
            "Corn Starch, Cornflour",
            "",
            "PE, Polythene",
            "Polyethylene Wax, Fischer-Tropsch Wax",
            "",
            "Diglyceryl Adipate, Softisan 649",
            "",
            "Polyisobutylene, PIB",
            "Silicon dioxide, E551",
            [
             "2-Octyldodecanol",
             "Ertol"
            ],
            "PTDHBH",
            "Muscovite, Sericite, Phlogopite",
            "Lazurite, Blue Ultramarine",
            "E172, Ferric Oxide, Red Iron Oxide, Black Iron Oxide, Yellow Iron Oxide",
            "TiO2, E171, Titanium(IV) oxide, Titania",
            "Iron(III) hexacyanoferrate(II), Prussian blue, Ferric hexacyanoferrate, E536",
            "",
            "Cochineal, Cochineal Extract, Crimson Lake, Natural Red 4, C.I. 75470, E120",
            "Apple Juice from Concentrate",
            "E330, 2-Hydroxypropane-1,2,3-tricarboxylic acid",
            "Ascorbic Acid, L-ascorbic acid",
            "Apple Juice from Concentrate",
            "Mango Juice from Concentrate",
            "Orange Juice from Concentrate",
            "Pineapple Juice from Concentrate",
            "Passionfruit Juice Concentrate, Diluted Passionfruit Juice",
            "CMC, E466, Sodium CMC",
            "Blackcurrant Juice Concentrate, Diluted Blackcurrant Juice",
            "Colouring Agent 163, E163",
            "Grape Juice from Concentrate",
            "Apricot Juice Concentrate, Diluted Apricot Juice",
            "Peach Juice from Concentrate",
            "Pear Juice Concentrate, Pear Juice Reconstituted",
            "Lemon Juice from Concentrate",
            "Guava Paste, Guava Concentrate",
            "Retinol, Beta-carotene, Retinal, Retinoic Acid",
            "Tripotassium citrate, E332",
            "Fruit Pectin",
            "Orange Juice from Concentrate",
            "Peach Juice Concentrate, Peach Purée",
            "N/A",
            "Heavy Cream, Whipping Cream, Double Cream",
            "Fruit Sugar, Levulose, D-Fructose",
            "Table syrup, Pancake syrup, Corn syrup, Maple syrup",
            "Cochineal, Cochineal Extract, E120, Natural Red 4",
            "Tomato Vegetable Juice",
            "Semolina Flour, Durum Semolina",
            "Coconut Flavoring",
            "Guaran, E412",
            "Whole Milk, Full Fat Milk",
            "Pilchards",
            "White Rice, Brown Rice, Basmati Rice, Jasmine Rice",
            "Nonfat milk, Fat-free milk",
            "Sodium phosphates, E339",
            "Guaran, E412",
            "Tomato Paste",
            "Modified Food Starch, Modified Starch",
            "Ethanoic Acid, Vinegar Acid, E260",
            "Essential Spice Oil, Spice Oleoresin",
            "Fruit Puree Concentrate, Rehydrated Fruit Puree",
            "Apple Puree, Apple Mash",
            "Concentrated Tomato Puree",
            "Black Treacle",
            "Plain Caramel, E150a, Food Colouring",
            "Liquid Smoke, Smoke Condensate",
            "Corn Sugar Gum, E415",
            "Ethanoic Acid, Vinegar Acid, E260",
            "Solanum lycopersicum, Love Apple",
            "Wheat-Corn Blend Flour",
            "Ammonia Caramel, Caramel III, E150c",
            "Fruit Pectin",
            "Tamarind Concentrate",
            "Cloves",
            "Mace, Muskat, Myristica",
            "Tomato Paste, Concentrated Tomato",
            "Ethanoic Acid, Vinegar Acid, E260",
            "Acetylated Distarch Adipate, E1422",
            "Corn Maltodextrin",
            "Corn Sugar Gum, E415",
            "Rapeseed Oil, LEAR Oil (Low Erucic Acid Rapeseed)",
            "Acetic acid solution, Ethanoic acid solution",
            "Corn Sugar Gum, E415",
            "Egg Yolk",
            "Pickled Cucumber, Cornichon",
            "Beta-carotene, Provitamin A",
            "Paprika Extract, E160c",
            "Sorbistat potassium, E202",
            "Dill Weed, Garden Dill",
            "Botanical Extract",
            "Sarson Ka Tel, Rai Ka Tel",
            "Distilled Vinegar, Spirit Vinegar",
            "Apple Puree Concentrate, Apple Puree Reconstituted",
            "Tomato Puree Concentrate",
            "Spring Water",
            "Natural Spring Water, Bottled Spring Water",
            "Spuds, Taters",
            "Helianthus Oil",
            "Vitamin E, E307",
            "Vitamin C, L-ascorbic acid",
            "Rosemary Oil Extract, ROE",
            "E330, 2-Hydroxypropane-1,2,3-tricarboxylic acid",
            "Dried Cheese, Cheese Flavor Powder",
            "Aromatised Milk",
            "Tomato Extract Powder",
            "Sodium hydrogen diacetate, E262",
            "Capsicum annuum Powder, Sweet Red Pepper Powder",
            "Glutamic Acid, Glutamate, MSG, E620",
            "Indian Saffron, Haldi",
            "Dextrose, Blood Sugar, Corn Sugar, Grape Sugar",
            "Garlic Powder, Dehydrated Garlic Powder",
            "Milk Sugar, Lactose",
            "Tomato Powder, Dried Tomato Powder",
            "Warm Spice Mix",
            "Dried Buttermilk, Powdered Buttermilk",
            "Milk Acid, E270",
            "Paprika Oleoresin, E160c",
            "Irish Moss Extract, E407",
            "Carob Gum, E410",
            "Corn Sugar Gum, E415",
            "Trisodium Citrate, E331",
            "Tripotassium citrate, E332",
            "Calcium 2-hydroxypropanoate, E327",
            "Hydroxybutanedioic acid, E296",
            "Strawberry Essence, Strawberry Flavoring",
            "Carmine, E120, Natural Red 4",
            "Peach, Common Peach",
            "European Pear, Asian Pear",
            "Pear Juice Concentrate, Refined Pear Juice",
            "Apple Juice Concentrate, Clarified Apple Juice",
            "Concentrated Grape Juice, Grape Juice Concentrate",
            "Peach Juice Concentrate, Clarified Peach Juice",
            "Pear Juice Concentrate, Pear Nectar",
            "Pineapple Essence, Pineapple Flavor",
            "Mango Essence, Mango Flavoring",
            "Pineapple Flavoured Gelatin, Pineapple Jelly",
            "Malus domestica, Orchard Apple",
            "Pear Cubes",
            "Peach Cubes, Canned Peaches",
            "Clarified Fruit Juice, Concentrated Fruit Juice",
            "Ananas",
            "2-Hydroxypropane-1,2,3-tricarboxylic acid, E330",
            "Pineapple Concentrate, Ananas Juice",
            "Pineapple Concentrate, Pineapple Juice Concentrate"
           ]
          ]
         },
         "header": {
          "align": "left",
          "fill": {
           "color": "paleturquoise"
          },
          "values": [
           "IngredientResearchname",
           "IngredientResearchal"
          ]
         },
         "type": "table"
        }
       ],
       "layout": {
        "template": {
         "data": {
          "bar": [
           {
            "error_x": {
             "color": "#2a3f5f"
            },
            "error_y": {
             "color": "#2a3f5f"
            },
            "marker": {
             "line": {
              "color": "#E5ECF6",
              "width": 0.5
             },
             "pattern": {
              "fillmode": "overlay",
              "size": 10,
              "solidity": 0.2
             }
            },
            "type": "bar"
           }
          ],
          "barpolar": [
           {
            "marker": {
             "line": {
              "color": "#E5ECF6",
              "width": 0.5
             },
             "pattern": {
              "fillmode": "overlay",
              "size": 10,
              "solidity": 0.2
             }
            },
            "type": "barpolar"
           }
          ],
          "carpet": [
           {
            "aaxis": {
             "endlinecolor": "#2a3f5f",
             "gridcolor": "white",
             "linecolor": "white",
             "minorgridcolor": "white",
             "startlinecolor": "#2a3f5f"
            },
            "baxis": {
             "endlinecolor": "#2a3f5f",
             "gridcolor": "white",
             "linecolor": "white",
             "minorgridcolor": "white",
             "startlinecolor": "#2a3f5f"
            },
            "type": "carpet"
           }
          ],
          "choropleth": [
           {
            "colorbar": {
             "outlinewidth": 0,
             "ticks": ""
            },
            "type": "choropleth"
           }
          ],
          "contour": [
           {
            "colorbar": {
             "outlinewidth": 0,
             "ticks": ""
            },
            "colorscale": [
             [
              0,
              "#0d0887"
             ],
             [
              0.1111111111111111,
              "#46039f"
             ],
             [
              0.2222222222222222,
              "#7201a8"
             ],
             [
              0.3333333333333333,
              "#9c179e"
             ],
             [
              0.4444444444444444,
              "#bd3786"
             ],
             [
              0.5555555555555556,
              "#d8576b"
             ],
             [
              0.6666666666666666,
              "#ed7953"
             ],
             [
              0.7777777777777778,
              "#fb9f3a"
             ],
             [
              0.8888888888888888,
              "#fdca26"
             ],
             [
              1,
              "#f0f921"
             ]
            ],
            "type": "contour"
           }
          ],
          "contourcarpet": [
           {
            "colorbar": {
             "outlinewidth": 0,
             "ticks": ""
            },
            "type": "contourcarpet"
           }
          ],
          "heatmap": [
           {
            "colorbar": {
             "outlinewidth": 0,
             "ticks": ""
            },
            "colorscale": [
             [
              0,
              "#0d0887"
             ],
             [
              0.1111111111111111,
              "#46039f"
             ],
             [
              0.2222222222222222,
              "#7201a8"
             ],
             [
              0.3333333333333333,
              "#9c179e"
             ],
             [
              0.4444444444444444,
              "#bd3786"
             ],
             [
              0.5555555555555556,
              "#d8576b"
             ],
             [
              0.6666666666666666,
              "#ed7953"
             ],
             [
              0.7777777777777778,
              "#fb9f3a"
             ],
             [
              0.8888888888888888,
              "#fdca26"
             ],
             [
              1,
              "#f0f921"
             ]
            ],
            "type": "heatmap"
           }
          ],
          "heatmapgl": [
           {
            "colorbar": {
             "outlinewidth": 0,
             "ticks": ""
            },
            "colorscale": [
             [
              0,
              "#0d0887"
             ],
             [
              0.1111111111111111,
              "#46039f"
             ],
             [
              0.2222222222222222,
              "#7201a8"
             ],
             [
              0.3333333333333333,
              "#9c179e"
             ],
             [
              0.4444444444444444,
              "#bd3786"
             ],
             [
              0.5555555555555556,
              "#d8576b"
             ],
             [
              0.6666666666666666,
              "#ed7953"
             ],
             [
              0.7777777777777778,
              "#fb9f3a"
             ],
             [
              0.8888888888888888,
              "#fdca26"
             ],
             [
              1,
              "#f0f921"
             ]
            ],
            "type": "heatmapgl"
           }
          ],
          "histogram": [
           {
            "marker": {
             "pattern": {
              "fillmode": "overlay",
              "size": 10,
              "solidity": 0.2
             }
            },
            "type": "histogram"
           }
          ],
          "histogram2d": [
           {
            "colorbar": {
             "outlinewidth": 0,
             "ticks": ""
            },
            "colorscale": [
             [
              0,
              "#0d0887"
             ],
             [
              0.1111111111111111,
              "#46039f"
             ],
             [
              0.2222222222222222,
              "#7201a8"
             ],
             [
              0.3333333333333333,
              "#9c179e"
             ],
             [
              0.4444444444444444,
              "#bd3786"
             ],
             [
              0.5555555555555556,
              "#d8576b"
             ],
             [
              0.6666666666666666,
              "#ed7953"
             ],
             [
              0.7777777777777778,
              "#fb9f3a"
             ],
             [
              0.8888888888888888,
              "#fdca26"
             ],
             [
              1,
              "#f0f921"
             ]
            ],
            "type": "histogram2d"
           }
          ],
          "histogram2dcontour": [
           {
            "colorbar": {
             "outlinewidth": 0,
             "ticks": ""
            },
            "colorscale": [
             [
              0,
              "#0d0887"
             ],
             [
              0.1111111111111111,
              "#46039f"
             ],
             [
              0.2222222222222222,
              "#7201a8"
             ],
             [
              0.3333333333333333,
              "#9c179e"
             ],
             [
              0.4444444444444444,
              "#bd3786"
             ],
             [
              0.5555555555555556,
              "#d8576b"
             ],
             [
              0.6666666666666666,
              "#ed7953"
             ],
             [
              0.7777777777777778,
              "#fb9f3a"
             ],
             [
              0.8888888888888888,
              "#fdca26"
             ],
             [
              1,
              "#f0f921"
             ]
            ],
            "type": "histogram2dcontour"
           }
          ],
          "mesh3d": [
           {
            "colorbar": {
             "outlinewidth": 0,
             "ticks": ""
            },
            "type": "mesh3d"
           }
          ],
          "parcoords": [
           {
            "line": {
             "colorbar": {
              "outlinewidth": 0,
              "ticks": ""
             }
            },
            "type": "parcoords"
           }
          ],
          "pie": [
           {
            "automargin": true,
            "type": "pie"
           }
          ],
          "scatter": [
           {
            "fillpattern": {
             "fillmode": "overlay",
             "size": 10,
             "solidity": 0.2
            },
            "type": "scatter"
           }
          ],
          "scatter3d": [
           {
            "line": {
             "colorbar": {
              "outlinewidth": 0,
              "ticks": ""
             }
            },
            "marker": {
             "colorbar": {
              "outlinewidth": 0,
              "ticks": ""
             }
            },
            "type": "scatter3d"
           }
          ],
          "scattercarpet": [
           {
            "marker": {
             "colorbar": {
              "outlinewidth": 0,
              "ticks": ""
             }
            },
            "type": "scattercarpet"
           }
          ],
          "scattergeo": [
           {
            "marker": {
             "colorbar": {
              "outlinewidth": 0,
              "ticks": ""
             }
            },
            "type": "scattergeo"
           }
          ],
          "scattergl": [
           {
            "marker": {
             "colorbar": {
              "outlinewidth": 0,
              "ticks": ""
             }
            },
            "type": "scattergl"
           }
          ],
          "scattermapbox": [
           {
            "marker": {
             "colorbar": {
              "outlinewidth": 0,
              "ticks": ""
             }
            },
            "type": "scattermapbox"
           }
          ],
          "scatterpolar": [
           {
            "marker": {
             "colorbar": {
              "outlinewidth": 0,
              "ticks": ""
             }
            },
            "type": "scatterpolar"
           }
          ],
          "scatterpolargl": [
           {
            "marker": {
             "colorbar": {
              "outlinewidth": 0,
              "ticks": ""
             }
            },
            "type": "scatterpolargl"
           }
          ],
          "scatterternary": [
           {
            "marker": {
             "colorbar": {
              "outlinewidth": 0,
              "ticks": ""
             }
            },
            "type": "scatterternary"
           }
          ],
          "surface": [
           {
            "colorbar": {
             "outlinewidth": 0,
             "ticks": ""
            },
            "colorscale": [
             [
              0,
              "#0d0887"
             ],
             [
              0.1111111111111111,
              "#46039f"
             ],
             [
              0.2222222222222222,
              "#7201a8"
             ],
             [
              0.3333333333333333,
              "#9c179e"
             ],
             [
              0.4444444444444444,
              "#bd3786"
             ],
             [
              0.5555555555555556,
              "#d8576b"
             ],
             [
              0.6666666666666666,
              "#ed7953"
             ],
             [
              0.7777777777777778,
              "#fb9f3a"
             ],
             [
              0.8888888888888888,
              "#fdca26"
             ],
             [
              1,
              "#f0f921"
             ]
            ],
            "type": "surface"
           }
          ],
          "table": [
           {
            "cells": {
             "fill": {
              "color": "#EBF0F8"
             },
             "line": {
              "color": "white"
             }
            },
            "header": {
             "fill": {
              "color": "#C8D4E3"
             },
             "line": {
              "color": "white"
             }
            },
            "type": "table"
           }
          ]
         },
         "layout": {
          "annotationdefaults": {
           "arrowcolor": "#2a3f5f",
           "arrowhead": 0,
           "arrowwidth": 1
          },
          "autotypenumbers": "strict",
          "coloraxis": {
           "colorbar": {
            "outlinewidth": 0,
            "ticks": ""
           }
          },
          "colorscale": {
           "diverging": [
            [
             0,
             "#8e0152"
            ],
            [
             0.1,
             "#c51b7d"
            ],
            [
             0.2,
             "#de77ae"
            ],
            [
             0.3,
             "#f1b6da"
            ],
            [
             0.4,
             "#fde0ef"
            ],
            [
             0.5,
             "#f7f7f7"
            ],
            [
             0.6,
             "#e6f5d0"
            ],
            [
             0.7,
             "#b8e186"
            ],
            [
             0.8,
             "#7fbc41"
            ],
            [
             0.9,
             "#4d9221"
            ],
            [
             1,
             "#276419"
            ]
           ],
           "sequential": [
            [
             0,
             "#0d0887"
            ],
            [
             0.1111111111111111,
             "#46039f"
            ],
            [
             0.2222222222222222,
             "#7201a8"
            ],
            [
             0.3333333333333333,
             "#9c179e"
            ],
            [
             0.4444444444444444,
             "#bd3786"
            ],
            [
             0.5555555555555556,
             "#d8576b"
            ],
            [
             0.6666666666666666,
             "#ed7953"
            ],
            [
             0.7777777777777778,
             "#fb9f3a"
            ],
            [
             0.8888888888888888,
             "#fdca26"
            ],
            [
             1,
             "#f0f921"
            ]
           ],
           "sequentialminus": [
            [
             0,
             "#0d0887"
            ],
            [
             0.1111111111111111,
             "#46039f"
            ],
            [
             0.2222222222222222,
             "#7201a8"
            ],
            [
             0.3333333333333333,
             "#9c179e"
            ],
            [
             0.4444444444444444,
             "#bd3786"
            ],
            [
             0.5555555555555556,
             "#d8576b"
            ],
            [
             0.6666666666666666,
             "#ed7953"
            ],
            [
             0.7777777777777778,
             "#fb9f3a"
            ],
            [
             0.8888888888888888,
             "#fdca26"
            ],
            [
             1,
             "#f0f921"
            ]
           ]
          },
          "colorway": [
           "#636efa",
           "#EF553B",
           "#00cc96",
           "#ab63fa",
           "#FFA15A",
           "#19d3f3",
           "#FF6692",
           "#B6E880",
           "#FF97FF",
           "#FECB52"
          ],
          "font": {
           "color": "#2a3f5f"
          },
          "geo": {
           "bgcolor": "white",
           "lakecolor": "white",
           "landcolor": "#E5ECF6",
           "showlakes": true,
           "showland": true,
           "subunitcolor": "white"
          },
          "hoverlabel": {
           "align": "left"
          },
          "hovermode": "closest",
          "mapbox": {
           "style": "light"
          },
          "paper_bgcolor": "white",
          "plot_bgcolor": "#E5ECF6",
          "polar": {
           "angularaxis": {
            "gridcolor": "white",
            "linecolor": "white",
            "ticks": ""
           },
           "bgcolor": "#E5ECF6",
           "radialaxis": {
            "gridcolor": "white",
            "linecolor": "white",
            "ticks": ""
           }
          },
          "scene": {
           "xaxis": {
            "backgroundcolor": "#E5ECF6",
            "gridcolor": "white",
            "gridwidth": 2,
            "linecolor": "white",
            "showbackground": true,
            "ticks": "",
            "zerolinecolor": "white"
           },
           "yaxis": {
            "backgroundcolor": "#E5ECF6",
            "gridcolor": "white",
            "gridwidth": 2,
            "linecolor": "white",
            "showbackground": true,
            "ticks": "",
            "zerolinecolor": "white"
           },
           "zaxis": {
            "backgroundcolor": "#E5ECF6",
            "gridcolor": "white",
            "gridwidth": 2,
            "linecolor": "white",
            "showbackground": true,
            "ticks": "",
            "zerolinecolor": "white"
           }
          },
          "shapedefaults": {
           "line": {
            "color": "#2a3f5f"
           }
          },
          "ternary": {
           "aaxis": {
            "gridcolor": "white",
            "linecolor": "white",
            "ticks": ""
           },
           "baxis": {
            "gridcolor": "white",
            "linecolor": "white",
            "ticks": ""
           },
           "bgcolor": "#E5ECF6",
           "caxis": {
            "gridcolor": "white",
            "linecolor": "white",
            "ticks": ""
           }
          },
          "title": {
           "x": 0.05
          },
          "xaxis": {
           "automargin": true,
           "gridcolor": "white",
           "linecolor": "white",
           "ticks": "",
           "title": {
            "standoff": 15
           },
           "zerolinecolor": "white",
           "zerolinewidth": 2
          },
          "yaxis": {
           "automargin": true,
           "gridcolor": "white",
           "linecolor": "white",
           "ticks": "",
           "title": {
            "standoff": 15
           },
           "zerolinecolor": "white",
           "zerolinewidth": 2
          }
         }
        },
        "title": {
         "text": "Ingredient Research Data"
        }
       }
      }
     },
     "metadata": {},
     "output_type": "display_data"
    }
   ],
   "source": [
    "import plotly.graph_objects as go\n",
    "from neo4j import GraphDatabase\n",
    "\n",
    "\n",
    "query = \"\"\"\n",
    "MATCH (ir:IngredientResearch)\n",
    "RETURN ir.ingredient_name AS IngredientResearchname, ir.alternative_names AS IngredientResearchal\n",
    "\"\"\"\n",
    "\n",
    "\n",
    "with driver.session() as session:\n",
    "    result = session.run(query)\n",
    "    neo4j_data = [record.data() for record in result]\n",
    "\n",
    "# Get a list of names and substitutions\n",
    "names = [record['IngredientResearchname'] for record in neo4j_data]\n",
    "alternatives = [record['IngredientResearchal'] for record in neo4j_data]\n",
    "\n",
    "# Cteate chart\n",
    "fig = go.Figure(data=[go.Table(\n",
    "    header=dict(values=['IngredientResearchname', 'IngredientResearchal'],\n",
    "                fill_color='paleturquoise',\n",
    "                align='left'),\n",
    "    cells=dict(values=[names, alternatives],\n",
    "               fill_color='lavender',\n",
    "               align='left'))\n",
    "])\n",
    "\n",
    "# Updated Chart Layout\n",
    "fig.update_layout(title='Ingredient Research Data')\n",
    "\n",
    "fig.show()\n",
    "\n"
   ]
  },
  {
   "cell_type": "code",
   "execution_count": 5,
   "metadata": {},
   "outputs": [
    {
     "data": {
      "application/vnd.plotly.v1+json": {
       "config": {
        "plotlyServerURL": "https://plot.ly"
       },
       "data": [
        {
         "alignmentgroup": "True",
         "hovertemplate": "DietarySuitability=%{x}<br>Count=%{y}<extra></extra>",
         "legendgroup": "",
         "marker": {
          "color": "#636efa",
          "pattern": {
           "shape": ""
          }
         },
         "name": "",
         "offsetgroup": "",
         "orientation": "v",
         "showlegend": false,
         "textposition": "auto",
         "type": "bar",
         "x": [
          "Halal",
          "Kosher",
          "Vegan",
          "Vegetarian",
          "Raw Vegan",
          "Gluten-Free"
         ],
         "xaxis": "x",
         "y": [
          722,
          691,
          637,
          606,
          1,
          1
         ],
         "yaxis": "y"
        }
       ],
       "layout": {
        "barmode": "relative",
        "legend": {
         "tracegroupgap": 0
        },
        "template": {
         "data": {
          "bar": [
           {
            "error_x": {
             "color": "#2a3f5f"
            },
            "error_y": {
             "color": "#2a3f5f"
            },
            "marker": {
             "line": {
              "color": "#E5ECF6",
              "width": 0.5
             },
             "pattern": {
              "fillmode": "overlay",
              "size": 10,
              "solidity": 0.2
             }
            },
            "type": "bar"
           }
          ],
          "barpolar": [
           {
            "marker": {
             "line": {
              "color": "#E5ECF6",
              "width": 0.5
             },
             "pattern": {
              "fillmode": "overlay",
              "size": 10,
              "solidity": 0.2
             }
            },
            "type": "barpolar"
           }
          ],
          "carpet": [
           {
            "aaxis": {
             "endlinecolor": "#2a3f5f",
             "gridcolor": "white",
             "linecolor": "white",
             "minorgridcolor": "white",
             "startlinecolor": "#2a3f5f"
            },
            "baxis": {
             "endlinecolor": "#2a3f5f",
             "gridcolor": "white",
             "linecolor": "white",
             "minorgridcolor": "white",
             "startlinecolor": "#2a3f5f"
            },
            "type": "carpet"
           }
          ],
          "choropleth": [
           {
            "colorbar": {
             "outlinewidth": 0,
             "ticks": ""
            },
            "type": "choropleth"
           }
          ],
          "contour": [
           {
            "colorbar": {
             "outlinewidth": 0,
             "ticks": ""
            },
            "colorscale": [
             [
              0,
              "#0d0887"
             ],
             [
              0.1111111111111111,
              "#46039f"
             ],
             [
              0.2222222222222222,
              "#7201a8"
             ],
             [
              0.3333333333333333,
              "#9c179e"
             ],
             [
              0.4444444444444444,
              "#bd3786"
             ],
             [
              0.5555555555555556,
              "#d8576b"
             ],
             [
              0.6666666666666666,
              "#ed7953"
             ],
             [
              0.7777777777777778,
              "#fb9f3a"
             ],
             [
              0.8888888888888888,
              "#fdca26"
             ],
             [
              1,
              "#f0f921"
             ]
            ],
            "type": "contour"
           }
          ],
          "contourcarpet": [
           {
            "colorbar": {
             "outlinewidth": 0,
             "ticks": ""
            },
            "type": "contourcarpet"
           }
          ],
          "heatmap": [
           {
            "colorbar": {
             "outlinewidth": 0,
             "ticks": ""
            },
            "colorscale": [
             [
              0,
              "#0d0887"
             ],
             [
              0.1111111111111111,
              "#46039f"
             ],
             [
              0.2222222222222222,
              "#7201a8"
             ],
             [
              0.3333333333333333,
              "#9c179e"
             ],
             [
              0.4444444444444444,
              "#bd3786"
             ],
             [
              0.5555555555555556,
              "#d8576b"
             ],
             [
              0.6666666666666666,
              "#ed7953"
             ],
             [
              0.7777777777777778,
              "#fb9f3a"
             ],
             [
              0.8888888888888888,
              "#fdca26"
             ],
             [
              1,
              "#f0f921"
             ]
            ],
            "type": "heatmap"
           }
          ],
          "heatmapgl": [
           {
            "colorbar": {
             "outlinewidth": 0,
             "ticks": ""
            },
            "colorscale": [
             [
              0,
              "#0d0887"
             ],
             [
              0.1111111111111111,
              "#46039f"
             ],
             [
              0.2222222222222222,
              "#7201a8"
             ],
             [
              0.3333333333333333,
              "#9c179e"
             ],
             [
              0.4444444444444444,
              "#bd3786"
             ],
             [
              0.5555555555555556,
              "#d8576b"
             ],
             [
              0.6666666666666666,
              "#ed7953"
             ],
             [
              0.7777777777777778,
              "#fb9f3a"
             ],
             [
              0.8888888888888888,
              "#fdca26"
             ],
             [
              1,
              "#f0f921"
             ]
            ],
            "type": "heatmapgl"
           }
          ],
          "histogram": [
           {
            "marker": {
             "pattern": {
              "fillmode": "overlay",
              "size": 10,
              "solidity": 0.2
             }
            },
            "type": "histogram"
           }
          ],
          "histogram2d": [
           {
            "colorbar": {
             "outlinewidth": 0,
             "ticks": ""
            },
            "colorscale": [
             [
              0,
              "#0d0887"
             ],
             [
              0.1111111111111111,
              "#46039f"
             ],
             [
              0.2222222222222222,
              "#7201a8"
             ],
             [
              0.3333333333333333,
              "#9c179e"
             ],
             [
              0.4444444444444444,
              "#bd3786"
             ],
             [
              0.5555555555555556,
              "#d8576b"
             ],
             [
              0.6666666666666666,
              "#ed7953"
             ],
             [
              0.7777777777777778,
              "#fb9f3a"
             ],
             [
              0.8888888888888888,
              "#fdca26"
             ],
             [
              1,
              "#f0f921"
             ]
            ],
            "type": "histogram2d"
           }
          ],
          "histogram2dcontour": [
           {
            "colorbar": {
             "outlinewidth": 0,
             "ticks": ""
            },
            "colorscale": [
             [
              0,
              "#0d0887"
             ],
             [
              0.1111111111111111,
              "#46039f"
             ],
             [
              0.2222222222222222,
              "#7201a8"
             ],
             [
              0.3333333333333333,
              "#9c179e"
             ],
             [
              0.4444444444444444,
              "#bd3786"
             ],
             [
              0.5555555555555556,
              "#d8576b"
             ],
             [
              0.6666666666666666,
              "#ed7953"
             ],
             [
              0.7777777777777778,
              "#fb9f3a"
             ],
             [
              0.8888888888888888,
              "#fdca26"
             ],
             [
              1,
              "#f0f921"
             ]
            ],
            "type": "histogram2dcontour"
           }
          ],
          "mesh3d": [
           {
            "colorbar": {
             "outlinewidth": 0,
             "ticks": ""
            },
            "type": "mesh3d"
           }
          ],
          "parcoords": [
           {
            "line": {
             "colorbar": {
              "outlinewidth": 0,
              "ticks": ""
             }
            },
            "type": "parcoords"
           }
          ],
          "pie": [
           {
            "automargin": true,
            "type": "pie"
           }
          ],
          "scatter": [
           {
            "fillpattern": {
             "fillmode": "overlay",
             "size": 10,
             "solidity": 0.2
            },
            "type": "scatter"
           }
          ],
          "scatter3d": [
           {
            "line": {
             "colorbar": {
              "outlinewidth": 0,
              "ticks": ""
             }
            },
            "marker": {
             "colorbar": {
              "outlinewidth": 0,
              "ticks": ""
             }
            },
            "type": "scatter3d"
           }
          ],
          "scattercarpet": [
           {
            "marker": {
             "colorbar": {
              "outlinewidth": 0,
              "ticks": ""
             }
            },
            "type": "scattercarpet"
           }
          ],
          "scattergeo": [
           {
            "marker": {
             "colorbar": {
              "outlinewidth": 0,
              "ticks": ""
             }
            },
            "type": "scattergeo"
           }
          ],
          "scattergl": [
           {
            "marker": {
             "colorbar": {
              "outlinewidth": 0,
              "ticks": ""
             }
            },
            "type": "scattergl"
           }
          ],
          "scattermapbox": [
           {
            "marker": {
             "colorbar": {
              "outlinewidth": 0,
              "ticks": ""
             }
            },
            "type": "scattermapbox"
           }
          ],
          "scatterpolar": [
           {
            "marker": {
             "colorbar": {
              "outlinewidth": 0,
              "ticks": ""
             }
            },
            "type": "scatterpolar"
           }
          ],
          "scatterpolargl": [
           {
            "marker": {
             "colorbar": {
              "outlinewidth": 0,
              "ticks": ""
             }
            },
            "type": "scatterpolargl"
           }
          ],
          "scatterternary": [
           {
            "marker": {
             "colorbar": {
              "outlinewidth": 0,
              "ticks": ""
             }
            },
            "type": "scatterternary"
           }
          ],
          "surface": [
           {
            "colorbar": {
             "outlinewidth": 0,
             "ticks": ""
            },
            "colorscale": [
             [
              0,
              "#0d0887"
             ],
             [
              0.1111111111111111,
              "#46039f"
             ],
             [
              0.2222222222222222,
              "#7201a8"
             ],
             [
              0.3333333333333333,
              "#9c179e"
             ],
             [
              0.4444444444444444,
              "#bd3786"
             ],
             [
              0.5555555555555556,
              "#d8576b"
             ],
             [
              0.6666666666666666,
              "#ed7953"
             ],
             [
              0.7777777777777778,
              "#fb9f3a"
             ],
             [
              0.8888888888888888,
              "#fdca26"
             ],
             [
              1,
              "#f0f921"
             ]
            ],
            "type": "surface"
           }
          ],
          "table": [
           {
            "cells": {
             "fill": {
              "color": "#EBF0F8"
             },
             "line": {
              "color": "white"
             }
            },
            "header": {
             "fill": {
              "color": "#C8D4E3"
             },
             "line": {
              "color": "white"
             }
            },
            "type": "table"
           }
          ]
         },
         "layout": {
          "annotationdefaults": {
           "arrowcolor": "#2a3f5f",
           "arrowhead": 0,
           "arrowwidth": 1
          },
          "autotypenumbers": "strict",
          "coloraxis": {
           "colorbar": {
            "outlinewidth": 0,
            "ticks": ""
           }
          },
          "colorscale": {
           "diverging": [
            [
             0,
             "#8e0152"
            ],
            [
             0.1,
             "#c51b7d"
            ],
            [
             0.2,
             "#de77ae"
            ],
            [
             0.3,
             "#f1b6da"
            ],
            [
             0.4,
             "#fde0ef"
            ],
            [
             0.5,
             "#f7f7f7"
            ],
            [
             0.6,
             "#e6f5d0"
            ],
            [
             0.7,
             "#b8e186"
            ],
            [
             0.8,
             "#7fbc41"
            ],
            [
             0.9,
             "#4d9221"
            ],
            [
             1,
             "#276419"
            ]
           ],
           "sequential": [
            [
             0,
             "#0d0887"
            ],
            [
             0.1111111111111111,
             "#46039f"
            ],
            [
             0.2222222222222222,
             "#7201a8"
            ],
            [
             0.3333333333333333,
             "#9c179e"
            ],
            [
             0.4444444444444444,
             "#bd3786"
            ],
            [
             0.5555555555555556,
             "#d8576b"
            ],
            [
             0.6666666666666666,
             "#ed7953"
            ],
            [
             0.7777777777777778,
             "#fb9f3a"
            ],
            [
             0.8888888888888888,
             "#fdca26"
            ],
            [
             1,
             "#f0f921"
            ]
           ],
           "sequentialminus": [
            [
             0,
             "#0d0887"
            ],
            [
             0.1111111111111111,
             "#46039f"
            ],
            [
             0.2222222222222222,
             "#7201a8"
            ],
            [
             0.3333333333333333,
             "#9c179e"
            ],
            [
             0.4444444444444444,
             "#bd3786"
            ],
            [
             0.5555555555555556,
             "#d8576b"
            ],
            [
             0.6666666666666666,
             "#ed7953"
            ],
            [
             0.7777777777777778,
             "#fb9f3a"
            ],
            [
             0.8888888888888888,
             "#fdca26"
            ],
            [
             1,
             "#f0f921"
            ]
           ]
          },
          "colorway": [
           "#636efa",
           "#EF553B",
           "#00cc96",
           "#ab63fa",
           "#FFA15A",
           "#19d3f3",
           "#FF6692",
           "#B6E880",
           "#FF97FF",
           "#FECB52"
          ],
          "font": {
           "color": "#2a3f5f"
          },
          "geo": {
           "bgcolor": "white",
           "lakecolor": "white",
           "landcolor": "#E5ECF6",
           "showlakes": true,
           "showland": true,
           "subunitcolor": "white"
          },
          "hoverlabel": {
           "align": "left"
          },
          "hovermode": "closest",
          "mapbox": {
           "style": "light"
          },
          "paper_bgcolor": "white",
          "plot_bgcolor": "#E5ECF6",
          "polar": {
           "angularaxis": {
            "gridcolor": "white",
            "linecolor": "white",
            "ticks": ""
           },
           "bgcolor": "#E5ECF6",
           "radialaxis": {
            "gridcolor": "white",
            "linecolor": "white",
            "ticks": ""
           }
          },
          "scene": {
           "xaxis": {
            "backgroundcolor": "#E5ECF6",
            "gridcolor": "white",
            "gridwidth": 2,
            "linecolor": "white",
            "showbackground": true,
            "ticks": "",
            "zerolinecolor": "white"
           },
           "yaxis": {
            "backgroundcolor": "#E5ECF6",
            "gridcolor": "white",
            "gridwidth": 2,
            "linecolor": "white",
            "showbackground": true,
            "ticks": "",
            "zerolinecolor": "white"
           },
           "zaxis": {
            "backgroundcolor": "#E5ECF6",
            "gridcolor": "white",
            "gridwidth": 2,
            "linecolor": "white",
            "showbackground": true,
            "ticks": "",
            "zerolinecolor": "white"
           }
          },
          "shapedefaults": {
           "line": {
            "color": "#2a3f5f"
           }
          },
          "ternary": {
           "aaxis": {
            "gridcolor": "white",
            "linecolor": "white",
            "ticks": ""
           },
           "baxis": {
            "gridcolor": "white",
            "linecolor": "white",
            "ticks": ""
           },
           "bgcolor": "#E5ECF6",
           "caxis": {
            "gridcolor": "white",
            "linecolor": "white",
            "ticks": ""
           }
          },
          "title": {
           "x": 0.05
          },
          "xaxis": {
           "automargin": true,
           "gridcolor": "white",
           "linecolor": "white",
           "ticks": "",
           "title": {
            "standoff": 15
           },
           "zerolinecolor": "white",
           "zerolinewidth": 2
          },
          "yaxis": {
           "automargin": true,
           "gridcolor": "white",
           "linecolor": "white",
           "ticks": "",
           "title": {
            "standoff": 15
           },
           "zerolinecolor": "white",
           "zerolinewidth": 2
          }
         }
        },
        "title": {
         "text": "Number of Dietsuitability with Same Diet"
        },
        "xaxis": {
         "anchor": "y",
         "domain": [
          0,
          1
         ],
         "title": {
          "text": "DietarySuitability"
         }
        },
        "yaxis": {
         "anchor": "x",
         "domain": [
          0,
          1
         ],
         "title": {
          "text": "Count"
         }
        }
       }
      }
     },
     "metadata": {},
     "output_type": "display_data"
    }
   ],
   "source": [
    "from neo4j import GraphDatabase\n",
    "import pandas as pd\n",
    "import plotly.express as px\n",
    "\n",
    "\n",
    "query = \"\"\"\n",
    "MATCH (d:DietarySuitability)\n",
    "RETURN d.diet AS DietarySuitability\n",
    "\"\"\"\n",
    "\n",
    "\n",
    "with driver.session() as session:\n",
    "    result = session.run(query)\n",
    "    neo4j_data = [record.data() for record in result]\n",
    "\n",
    "\n",
    "df = pd.DataFrame(neo4j_data)\n",
    "\n",
    "# Caculate each DietarySuitability count\n",
    "diet_counts = df[\"DietarySuitability\"].value_counts().reset_index()\n",
    "diet_counts.columns = [\"DietarySuitability\", \"Count\"]\n",
    "\n",
    "# use Plotly to create the bar chart\n",
    "fig = px.bar(diet_counts, x=\"DietarySuitability\", y=\"Count\", title=\"Number of Dietsuitability with Same Diet\")\n",
    "fig.show()\n",
    "\n",
    "\n"
   ]
  },
  {
   "cell_type": "code",
   "execution_count": 6,
   "metadata": {},
   "outputs": [
    {
     "data": {
      "application/vnd.plotly.v1+json": {
       "config": {
        "plotlyServerURL": "https://plot.ly"
       },
       "data": [
        {
         "alignmentgroup": "True",
         "hovertemplate": "Suitability=Depends on processing<br>Diet=%{x}<br>Count=%{y}<extra></extra>",
         "legendgroup": "Depends on processing",
         "marker": {
          "color": "#636efa",
          "pattern": {
           "shape": ""
          }
         },
         "name": "Depends on processing",
         "offsetgroup": "Depends on processing",
         "orientation": "v",
         "showlegend": true,
         "textposition": "auto",
         "type": "bar",
         "x": [
          "Halal",
          "Kosher"
         ],
         "xaxis": "x",
         "y": [
          1,
          1
         ],
         "yaxis": "y"
        },
        {
         "alignmentgroup": "True",
         "hovertemplate": "Suitability=Maybe<br>Diet=%{x}<br>Count=%{y}<extra></extra>",
         "legendgroup": "Maybe",
         "marker": {
          "color": "#EF553B",
          "pattern": {
           "shape": ""
          }
         },
         "name": "Maybe",
         "offsetgroup": "Maybe",
         "orientation": "v",
         "showlegend": true,
         "textposition": "auto",
         "type": "bar",
         "x": [
          "Kosher",
          "Halal",
          "Vegan",
          "Vegetarian"
         ],
         "xaxis": "x",
         "y": [
          119,
          117,
          15,
          11
         ],
         "yaxis": "y"
        },
        {
         "alignmentgroup": "True",
         "hovertemplate": "Suitability=N/A<br>Diet=%{x}<br>Count=%{y}<extra></extra>",
         "legendgroup": "N/A",
         "marker": {
          "color": "#00cc96",
          "pattern": {
           "shape": ""
          }
         },
         "name": "N/A",
         "offsetgroup": "N/A",
         "orientation": "v",
         "showlegend": true,
         "textposition": "auto",
         "type": "bar",
         "x": [
          "Halal",
          "Kosher",
          "Vegan",
          "Vegetarian"
         ],
         "xaxis": "x",
         "y": [
          1,
          1,
          1,
          1
         ],
         "yaxis": "y"
        },
        {
         "alignmentgroup": "True",
         "hovertemplate": "Suitability=No<br>Diet=%{x}<br>Count=%{y}<extra></extra>",
         "legendgroup": "No",
         "marker": {
          "color": "#ab63fa",
          "pattern": {
           "shape": ""
          }
         },
         "name": "No",
         "offsetgroup": "No",
         "orientation": "v",
         "showlegend": true,
         "textposition": "auto",
         "type": "bar",
         "x": [
          "Vegan",
          "Vegetarian",
          "Halal",
          "Kosher",
          "Raw Vegan"
         ],
         "xaxis": "x",
         "y": [
          64,
          23,
          12,
          11,
          1
         ],
         "yaxis": "y"
        },
        {
         "alignmentgroup": "True",
         "hovertemplate": "Suitability=Unknown<br>Diet=%{x}<br>Count=%{y}<extra></extra>",
         "legendgroup": "Unknown",
         "marker": {
          "color": "#FFA15A",
          "pattern": {
           "shape": ""
          }
         },
         "name": "Unknown",
         "offsetgroup": "Unknown",
         "orientation": "v",
         "showlegend": true,
         "textposition": "auto",
         "type": "bar",
         "x": [
          "Halal",
          "Kosher"
         ],
         "xaxis": "x",
         "y": [
          1,
          1
         ],
         "yaxis": "y"
        },
        {
         "alignmentgroup": "True",
         "hovertemplate": "Suitability=Yes<br>Diet=%{x}<br>Count=%{y}<extra></extra>",
         "legendgroup": "Yes",
         "marker": {
          "color": "#19d3f3",
          "pattern": {
           "shape": ""
          }
         },
         "name": "Yes",
         "offsetgroup": "Yes",
         "orientation": "v",
         "showlegend": true,
         "textposition": "auto",
         "type": "bar",
         "x": [
          "Halal",
          "Vegetarian",
          "Kosher",
          "Vegan",
          "Gluten-Free"
         ],
         "xaxis": "x",
         "y": [
          590,
          571,
          557,
          557,
          1
         ],
         "yaxis": "y"
        },
        {
         "alignmentgroup": "True",
         "hovertemplate": "Suitability=Yes, if processed under kosher supervision<br>Diet=%{x}<br>Count=%{y}<extra></extra>",
         "legendgroup": "Yes, if processed under kosher supervision",
         "marker": {
          "color": "#FF6692",
          "pattern": {
           "shape": ""
          }
         },
         "name": "Yes, if processed under kosher supervision",
         "offsetgroup": "Yes, if processed under kosher supervision",
         "orientation": "v",
         "showlegend": true,
         "textposition": "auto",
         "type": "bar",
         "x": [
          "Kosher"
         ],
         "xaxis": "x",
         "y": [
          1
         ],
         "yaxis": "y"
        }
       ],
       "layout": {
        "barmode": "relative",
        "legend": {
         "title": {
          "text": "Suitability"
         },
         "tracegroupgap": 0
        },
        "template": {
         "data": {
          "bar": [
           {
            "error_x": {
             "color": "#2a3f5f"
            },
            "error_y": {
             "color": "#2a3f5f"
            },
            "marker": {
             "line": {
              "color": "#E5ECF6",
              "width": 0.5
             },
             "pattern": {
              "fillmode": "overlay",
              "size": 10,
              "solidity": 0.2
             }
            },
            "type": "bar"
           }
          ],
          "barpolar": [
           {
            "marker": {
             "line": {
              "color": "#E5ECF6",
              "width": 0.5
             },
             "pattern": {
              "fillmode": "overlay",
              "size": 10,
              "solidity": 0.2
             }
            },
            "type": "barpolar"
           }
          ],
          "carpet": [
           {
            "aaxis": {
             "endlinecolor": "#2a3f5f",
             "gridcolor": "white",
             "linecolor": "white",
             "minorgridcolor": "white",
             "startlinecolor": "#2a3f5f"
            },
            "baxis": {
             "endlinecolor": "#2a3f5f",
             "gridcolor": "white",
             "linecolor": "white",
             "minorgridcolor": "white",
             "startlinecolor": "#2a3f5f"
            },
            "type": "carpet"
           }
          ],
          "choropleth": [
           {
            "colorbar": {
             "outlinewidth": 0,
             "ticks": ""
            },
            "type": "choropleth"
           }
          ],
          "contour": [
           {
            "colorbar": {
             "outlinewidth": 0,
             "ticks": ""
            },
            "colorscale": [
             [
              0,
              "#0d0887"
             ],
             [
              0.1111111111111111,
              "#46039f"
             ],
             [
              0.2222222222222222,
              "#7201a8"
             ],
             [
              0.3333333333333333,
              "#9c179e"
             ],
             [
              0.4444444444444444,
              "#bd3786"
             ],
             [
              0.5555555555555556,
              "#d8576b"
             ],
             [
              0.6666666666666666,
              "#ed7953"
             ],
             [
              0.7777777777777778,
              "#fb9f3a"
             ],
             [
              0.8888888888888888,
              "#fdca26"
             ],
             [
              1,
              "#f0f921"
             ]
            ],
            "type": "contour"
           }
          ],
          "contourcarpet": [
           {
            "colorbar": {
             "outlinewidth": 0,
             "ticks": ""
            },
            "type": "contourcarpet"
           }
          ],
          "heatmap": [
           {
            "colorbar": {
             "outlinewidth": 0,
             "ticks": ""
            },
            "colorscale": [
             [
              0,
              "#0d0887"
             ],
             [
              0.1111111111111111,
              "#46039f"
             ],
             [
              0.2222222222222222,
              "#7201a8"
             ],
             [
              0.3333333333333333,
              "#9c179e"
             ],
             [
              0.4444444444444444,
              "#bd3786"
             ],
             [
              0.5555555555555556,
              "#d8576b"
             ],
             [
              0.6666666666666666,
              "#ed7953"
             ],
             [
              0.7777777777777778,
              "#fb9f3a"
             ],
             [
              0.8888888888888888,
              "#fdca26"
             ],
             [
              1,
              "#f0f921"
             ]
            ],
            "type": "heatmap"
           }
          ],
          "heatmapgl": [
           {
            "colorbar": {
             "outlinewidth": 0,
             "ticks": ""
            },
            "colorscale": [
             [
              0,
              "#0d0887"
             ],
             [
              0.1111111111111111,
              "#46039f"
             ],
             [
              0.2222222222222222,
              "#7201a8"
             ],
             [
              0.3333333333333333,
              "#9c179e"
             ],
             [
              0.4444444444444444,
              "#bd3786"
             ],
             [
              0.5555555555555556,
              "#d8576b"
             ],
             [
              0.6666666666666666,
              "#ed7953"
             ],
             [
              0.7777777777777778,
              "#fb9f3a"
             ],
             [
              0.8888888888888888,
              "#fdca26"
             ],
             [
              1,
              "#f0f921"
             ]
            ],
            "type": "heatmapgl"
           }
          ],
          "histogram": [
           {
            "marker": {
             "pattern": {
              "fillmode": "overlay",
              "size": 10,
              "solidity": 0.2
             }
            },
            "type": "histogram"
           }
          ],
          "histogram2d": [
           {
            "colorbar": {
             "outlinewidth": 0,
             "ticks": ""
            },
            "colorscale": [
             [
              0,
              "#0d0887"
             ],
             [
              0.1111111111111111,
              "#46039f"
             ],
             [
              0.2222222222222222,
              "#7201a8"
             ],
             [
              0.3333333333333333,
              "#9c179e"
             ],
             [
              0.4444444444444444,
              "#bd3786"
             ],
             [
              0.5555555555555556,
              "#d8576b"
             ],
             [
              0.6666666666666666,
              "#ed7953"
             ],
             [
              0.7777777777777778,
              "#fb9f3a"
             ],
             [
              0.8888888888888888,
              "#fdca26"
             ],
             [
              1,
              "#f0f921"
             ]
            ],
            "type": "histogram2d"
           }
          ],
          "histogram2dcontour": [
           {
            "colorbar": {
             "outlinewidth": 0,
             "ticks": ""
            },
            "colorscale": [
             [
              0,
              "#0d0887"
             ],
             [
              0.1111111111111111,
              "#46039f"
             ],
             [
              0.2222222222222222,
              "#7201a8"
             ],
             [
              0.3333333333333333,
              "#9c179e"
             ],
             [
              0.4444444444444444,
              "#bd3786"
             ],
             [
              0.5555555555555556,
              "#d8576b"
             ],
             [
              0.6666666666666666,
              "#ed7953"
             ],
             [
              0.7777777777777778,
              "#fb9f3a"
             ],
             [
              0.8888888888888888,
              "#fdca26"
             ],
             [
              1,
              "#f0f921"
             ]
            ],
            "type": "histogram2dcontour"
           }
          ],
          "mesh3d": [
           {
            "colorbar": {
             "outlinewidth": 0,
             "ticks": ""
            },
            "type": "mesh3d"
           }
          ],
          "parcoords": [
           {
            "line": {
             "colorbar": {
              "outlinewidth": 0,
              "ticks": ""
             }
            },
            "type": "parcoords"
           }
          ],
          "pie": [
           {
            "automargin": true,
            "type": "pie"
           }
          ],
          "scatter": [
           {
            "fillpattern": {
             "fillmode": "overlay",
             "size": 10,
             "solidity": 0.2
            },
            "type": "scatter"
           }
          ],
          "scatter3d": [
           {
            "line": {
             "colorbar": {
              "outlinewidth": 0,
              "ticks": ""
             }
            },
            "marker": {
             "colorbar": {
              "outlinewidth": 0,
              "ticks": ""
             }
            },
            "type": "scatter3d"
           }
          ],
          "scattercarpet": [
           {
            "marker": {
             "colorbar": {
              "outlinewidth": 0,
              "ticks": ""
             }
            },
            "type": "scattercarpet"
           }
          ],
          "scattergeo": [
           {
            "marker": {
             "colorbar": {
              "outlinewidth": 0,
              "ticks": ""
             }
            },
            "type": "scattergeo"
           }
          ],
          "scattergl": [
           {
            "marker": {
             "colorbar": {
              "outlinewidth": 0,
              "ticks": ""
             }
            },
            "type": "scattergl"
           }
          ],
          "scattermapbox": [
           {
            "marker": {
             "colorbar": {
              "outlinewidth": 0,
              "ticks": ""
             }
            },
            "type": "scattermapbox"
           }
          ],
          "scatterpolar": [
           {
            "marker": {
             "colorbar": {
              "outlinewidth": 0,
              "ticks": ""
             }
            },
            "type": "scatterpolar"
           }
          ],
          "scatterpolargl": [
           {
            "marker": {
             "colorbar": {
              "outlinewidth": 0,
              "ticks": ""
             }
            },
            "type": "scatterpolargl"
           }
          ],
          "scatterternary": [
           {
            "marker": {
             "colorbar": {
              "outlinewidth": 0,
              "ticks": ""
             }
            },
            "type": "scatterternary"
           }
          ],
          "surface": [
           {
            "colorbar": {
             "outlinewidth": 0,
             "ticks": ""
            },
            "colorscale": [
             [
              0,
              "#0d0887"
             ],
             [
              0.1111111111111111,
              "#46039f"
             ],
             [
              0.2222222222222222,
              "#7201a8"
             ],
             [
              0.3333333333333333,
              "#9c179e"
             ],
             [
              0.4444444444444444,
              "#bd3786"
             ],
             [
              0.5555555555555556,
              "#d8576b"
             ],
             [
              0.6666666666666666,
              "#ed7953"
             ],
             [
              0.7777777777777778,
              "#fb9f3a"
             ],
             [
              0.8888888888888888,
              "#fdca26"
             ],
             [
              1,
              "#f0f921"
             ]
            ],
            "type": "surface"
           }
          ],
          "table": [
           {
            "cells": {
             "fill": {
              "color": "#EBF0F8"
             },
             "line": {
              "color": "white"
             }
            },
            "header": {
             "fill": {
              "color": "#C8D4E3"
             },
             "line": {
              "color": "white"
             }
            },
            "type": "table"
           }
          ]
         },
         "layout": {
          "annotationdefaults": {
           "arrowcolor": "#2a3f5f",
           "arrowhead": 0,
           "arrowwidth": 1
          },
          "autotypenumbers": "strict",
          "coloraxis": {
           "colorbar": {
            "outlinewidth": 0,
            "ticks": ""
           }
          },
          "colorscale": {
           "diverging": [
            [
             0,
             "#8e0152"
            ],
            [
             0.1,
             "#c51b7d"
            ],
            [
             0.2,
             "#de77ae"
            ],
            [
             0.3,
             "#f1b6da"
            ],
            [
             0.4,
             "#fde0ef"
            ],
            [
             0.5,
             "#f7f7f7"
            ],
            [
             0.6,
             "#e6f5d0"
            ],
            [
             0.7,
             "#b8e186"
            ],
            [
             0.8,
             "#7fbc41"
            ],
            [
             0.9,
             "#4d9221"
            ],
            [
             1,
             "#276419"
            ]
           ],
           "sequential": [
            [
             0,
             "#0d0887"
            ],
            [
             0.1111111111111111,
             "#46039f"
            ],
            [
             0.2222222222222222,
             "#7201a8"
            ],
            [
             0.3333333333333333,
             "#9c179e"
            ],
            [
             0.4444444444444444,
             "#bd3786"
            ],
            [
             0.5555555555555556,
             "#d8576b"
            ],
            [
             0.6666666666666666,
             "#ed7953"
            ],
            [
             0.7777777777777778,
             "#fb9f3a"
            ],
            [
             0.8888888888888888,
             "#fdca26"
            ],
            [
             1,
             "#f0f921"
            ]
           ],
           "sequentialminus": [
            [
             0,
             "#0d0887"
            ],
            [
             0.1111111111111111,
             "#46039f"
            ],
            [
             0.2222222222222222,
             "#7201a8"
            ],
            [
             0.3333333333333333,
             "#9c179e"
            ],
            [
             0.4444444444444444,
             "#bd3786"
            ],
            [
             0.5555555555555556,
             "#d8576b"
            ],
            [
             0.6666666666666666,
             "#ed7953"
            ],
            [
             0.7777777777777778,
             "#fb9f3a"
            ],
            [
             0.8888888888888888,
             "#fdca26"
            ],
            [
             1,
             "#f0f921"
            ]
           ]
          },
          "colorway": [
           "#636efa",
           "#EF553B",
           "#00cc96",
           "#ab63fa",
           "#FFA15A",
           "#19d3f3",
           "#FF6692",
           "#B6E880",
           "#FF97FF",
           "#FECB52"
          ],
          "font": {
           "color": "#2a3f5f"
          },
          "geo": {
           "bgcolor": "white",
           "lakecolor": "white",
           "landcolor": "#E5ECF6",
           "showlakes": true,
           "showland": true,
           "subunitcolor": "white"
          },
          "hoverlabel": {
           "align": "left"
          },
          "hovermode": "closest",
          "mapbox": {
           "style": "light"
          },
          "paper_bgcolor": "white",
          "plot_bgcolor": "#E5ECF6",
          "polar": {
           "angularaxis": {
            "gridcolor": "white",
            "linecolor": "white",
            "ticks": ""
           },
           "bgcolor": "#E5ECF6",
           "radialaxis": {
            "gridcolor": "white",
            "linecolor": "white",
            "ticks": ""
           }
          },
          "scene": {
           "xaxis": {
            "backgroundcolor": "#E5ECF6",
            "gridcolor": "white",
            "gridwidth": 2,
            "linecolor": "white",
            "showbackground": true,
            "ticks": "",
            "zerolinecolor": "white"
           },
           "yaxis": {
            "backgroundcolor": "#E5ECF6",
            "gridcolor": "white",
            "gridwidth": 2,
            "linecolor": "white",
            "showbackground": true,
            "ticks": "",
            "zerolinecolor": "white"
           },
           "zaxis": {
            "backgroundcolor": "#E5ECF6",
            "gridcolor": "white",
            "gridwidth": 2,
            "linecolor": "white",
            "showbackground": true,
            "ticks": "",
            "zerolinecolor": "white"
           }
          },
          "shapedefaults": {
           "line": {
            "color": "#2a3f5f"
           }
          },
          "ternary": {
           "aaxis": {
            "gridcolor": "white",
            "linecolor": "white",
            "ticks": ""
           },
           "baxis": {
            "gridcolor": "white",
            "linecolor": "white",
            "ticks": ""
           },
           "bgcolor": "#E5ECF6",
           "caxis": {
            "gridcolor": "white",
            "linecolor": "white",
            "ticks": ""
           }
          },
          "title": {
           "x": 0.05
          },
          "xaxis": {
           "automargin": true,
           "gridcolor": "white",
           "linecolor": "white",
           "ticks": "",
           "title": {
            "standoff": 15
           },
           "zerolinecolor": "white",
           "zerolinewidth": 2
          },
          "yaxis": {
           "automargin": true,
           "gridcolor": "white",
           "linecolor": "white",
           "ticks": "",
           "title": {
            "standoff": 15
           },
           "zerolinecolor": "white",
           "zerolinewidth": 2
          }
         }
        },
        "title": {
         "text": "Diet Distribution for Each DietarySuitability"
        },
        "xaxis": {
         "anchor": "y",
         "domain": [
          0,
          1
         ],
         "title": {
          "text": "Diet"
         }
        },
        "yaxis": {
         "anchor": "x",
         "domain": [
          0,
          1
         ],
         "title": {
          "text": "Count"
         }
        }
       }
      }
     },
     "metadata": {},
     "output_type": "display_data"
    }
   ],
   "source": [
    "from neo4j import GraphDatabase\n",
    "import pandas as pd\n",
    "import plotly.express as px\n",
    "\n",
    "\n",
    "query = \"\"\"\n",
    "MATCH (d:DietarySuitability)\n",
    "RETURN d.diet AS Diet, d.suitability AS Suitability\n",
    "\"\"\"\n",
    "\n",
    "with driver.session() as session:\n",
    "    result = session.run(query)\n",
    "    neo4j_data = [record.data() for record in result]\n",
    "\n",
    "\n",
    "df = pd.DataFrame(neo4j_data)\n",
    "\n",
    "# Caculate each dietarysuitability  diet count\n",
    "diet_counts = df.groupby(\"Suitability\")[\"Diet\"].value_counts().reset_index(name=\"Count\")\n",
    "\n",
    "# use Plotly to create bar chart\n",
    "fig = px.bar(diet_counts, x=\"Diet\", y=\"Count\", color=\"Suitability\", title=\"Diet Distribution for Each DietarySuitability\")\n",
    "fig.show()\n",
    "\n"
   ]
  },
  {
   "cell_type": "code",
   "execution_count": 7,
   "metadata": {},
   "outputs": [
    {
     "data": {
      "application/vnd.plotly.v1+json": {
       "config": {
        "plotlyServerURL": "https://plot.ly"
       },
       "data": [
        {
         "alignmentgroup": "True",
         "hovertemplate": "IngredientResearch=%{x}<br>NutritionalInformationCount=%{y}<extra></extra>",
         "legendgroup": "",
         "marker": {
          "color": "#636efa",
          "pattern": {
           "shape": ""
          }
         },
         "name": "",
         "offsetgroup": "",
         "orientation": "v",
         "showlegend": false,
         "textposition": "auto",
         "type": "bar",
         "x": [],
         "xaxis": "x",
         "y": [],
         "yaxis": "y"
        }
       ],
       "layout": {
        "barmode": "relative",
        "legend": {
         "tracegroupgap": 0
        },
        "template": {
         "data": {
          "bar": [
           {
            "error_x": {
             "color": "#2a3f5f"
            },
            "error_y": {
             "color": "#2a3f5f"
            },
            "marker": {
             "line": {
              "color": "#E5ECF6",
              "width": 0.5
             },
             "pattern": {
              "fillmode": "overlay",
              "size": 10,
              "solidity": 0.2
             }
            },
            "type": "bar"
           }
          ],
          "barpolar": [
           {
            "marker": {
             "line": {
              "color": "#E5ECF6",
              "width": 0.5
             },
             "pattern": {
              "fillmode": "overlay",
              "size": 10,
              "solidity": 0.2
             }
            },
            "type": "barpolar"
           }
          ],
          "carpet": [
           {
            "aaxis": {
             "endlinecolor": "#2a3f5f",
             "gridcolor": "white",
             "linecolor": "white",
             "minorgridcolor": "white",
             "startlinecolor": "#2a3f5f"
            },
            "baxis": {
             "endlinecolor": "#2a3f5f",
             "gridcolor": "white",
             "linecolor": "white",
             "minorgridcolor": "white",
             "startlinecolor": "#2a3f5f"
            },
            "type": "carpet"
           }
          ],
          "choropleth": [
           {
            "colorbar": {
             "outlinewidth": 0,
             "ticks": ""
            },
            "type": "choropleth"
           }
          ],
          "contour": [
           {
            "colorbar": {
             "outlinewidth": 0,
             "ticks": ""
            },
            "colorscale": [
             [
              0,
              "#0d0887"
             ],
             [
              0.1111111111111111,
              "#46039f"
             ],
             [
              0.2222222222222222,
              "#7201a8"
             ],
             [
              0.3333333333333333,
              "#9c179e"
             ],
             [
              0.4444444444444444,
              "#bd3786"
             ],
             [
              0.5555555555555556,
              "#d8576b"
             ],
             [
              0.6666666666666666,
              "#ed7953"
             ],
             [
              0.7777777777777778,
              "#fb9f3a"
             ],
             [
              0.8888888888888888,
              "#fdca26"
             ],
             [
              1,
              "#f0f921"
             ]
            ],
            "type": "contour"
           }
          ],
          "contourcarpet": [
           {
            "colorbar": {
             "outlinewidth": 0,
             "ticks": ""
            },
            "type": "contourcarpet"
           }
          ],
          "heatmap": [
           {
            "colorbar": {
             "outlinewidth": 0,
             "ticks": ""
            },
            "colorscale": [
             [
              0,
              "#0d0887"
             ],
             [
              0.1111111111111111,
              "#46039f"
             ],
             [
              0.2222222222222222,
              "#7201a8"
             ],
             [
              0.3333333333333333,
              "#9c179e"
             ],
             [
              0.4444444444444444,
              "#bd3786"
             ],
             [
              0.5555555555555556,
              "#d8576b"
             ],
             [
              0.6666666666666666,
              "#ed7953"
             ],
             [
              0.7777777777777778,
              "#fb9f3a"
             ],
             [
              0.8888888888888888,
              "#fdca26"
             ],
             [
              1,
              "#f0f921"
             ]
            ],
            "type": "heatmap"
           }
          ],
          "heatmapgl": [
           {
            "colorbar": {
             "outlinewidth": 0,
             "ticks": ""
            },
            "colorscale": [
             [
              0,
              "#0d0887"
             ],
             [
              0.1111111111111111,
              "#46039f"
             ],
             [
              0.2222222222222222,
              "#7201a8"
             ],
             [
              0.3333333333333333,
              "#9c179e"
             ],
             [
              0.4444444444444444,
              "#bd3786"
             ],
             [
              0.5555555555555556,
              "#d8576b"
             ],
             [
              0.6666666666666666,
              "#ed7953"
             ],
             [
              0.7777777777777778,
              "#fb9f3a"
             ],
             [
              0.8888888888888888,
              "#fdca26"
             ],
             [
              1,
              "#f0f921"
             ]
            ],
            "type": "heatmapgl"
           }
          ],
          "histogram": [
           {
            "marker": {
             "pattern": {
              "fillmode": "overlay",
              "size": 10,
              "solidity": 0.2
             }
            },
            "type": "histogram"
           }
          ],
          "histogram2d": [
           {
            "colorbar": {
             "outlinewidth": 0,
             "ticks": ""
            },
            "colorscale": [
             [
              0,
              "#0d0887"
             ],
             [
              0.1111111111111111,
              "#46039f"
             ],
             [
              0.2222222222222222,
              "#7201a8"
             ],
             [
              0.3333333333333333,
              "#9c179e"
             ],
             [
              0.4444444444444444,
              "#bd3786"
             ],
             [
              0.5555555555555556,
              "#d8576b"
             ],
             [
              0.6666666666666666,
              "#ed7953"
             ],
             [
              0.7777777777777778,
              "#fb9f3a"
             ],
             [
              0.8888888888888888,
              "#fdca26"
             ],
             [
              1,
              "#f0f921"
             ]
            ],
            "type": "histogram2d"
           }
          ],
          "histogram2dcontour": [
           {
            "colorbar": {
             "outlinewidth": 0,
             "ticks": ""
            },
            "colorscale": [
             [
              0,
              "#0d0887"
             ],
             [
              0.1111111111111111,
              "#46039f"
             ],
             [
              0.2222222222222222,
              "#7201a8"
             ],
             [
              0.3333333333333333,
              "#9c179e"
             ],
             [
              0.4444444444444444,
              "#bd3786"
             ],
             [
              0.5555555555555556,
              "#d8576b"
             ],
             [
              0.6666666666666666,
              "#ed7953"
             ],
             [
              0.7777777777777778,
              "#fb9f3a"
             ],
             [
              0.8888888888888888,
              "#fdca26"
             ],
             [
              1,
              "#f0f921"
             ]
            ],
            "type": "histogram2dcontour"
           }
          ],
          "mesh3d": [
           {
            "colorbar": {
             "outlinewidth": 0,
             "ticks": ""
            },
            "type": "mesh3d"
           }
          ],
          "parcoords": [
           {
            "line": {
             "colorbar": {
              "outlinewidth": 0,
              "ticks": ""
             }
            },
            "type": "parcoords"
           }
          ],
          "pie": [
           {
            "automargin": true,
            "type": "pie"
           }
          ],
          "scatter": [
           {
            "fillpattern": {
             "fillmode": "overlay",
             "size": 10,
             "solidity": 0.2
            },
            "type": "scatter"
           }
          ],
          "scatter3d": [
           {
            "line": {
             "colorbar": {
              "outlinewidth": 0,
              "ticks": ""
             }
            },
            "marker": {
             "colorbar": {
              "outlinewidth": 0,
              "ticks": ""
             }
            },
            "type": "scatter3d"
           }
          ],
          "scattercarpet": [
           {
            "marker": {
             "colorbar": {
              "outlinewidth": 0,
              "ticks": ""
             }
            },
            "type": "scattercarpet"
           }
          ],
          "scattergeo": [
           {
            "marker": {
             "colorbar": {
              "outlinewidth": 0,
              "ticks": ""
             }
            },
            "type": "scattergeo"
           }
          ],
          "scattergl": [
           {
            "marker": {
             "colorbar": {
              "outlinewidth": 0,
              "ticks": ""
             }
            },
            "type": "scattergl"
           }
          ],
          "scattermapbox": [
           {
            "marker": {
             "colorbar": {
              "outlinewidth": 0,
              "ticks": ""
             }
            },
            "type": "scattermapbox"
           }
          ],
          "scatterpolar": [
           {
            "marker": {
             "colorbar": {
              "outlinewidth": 0,
              "ticks": ""
             }
            },
            "type": "scatterpolar"
           }
          ],
          "scatterpolargl": [
           {
            "marker": {
             "colorbar": {
              "outlinewidth": 0,
              "ticks": ""
             }
            },
            "type": "scatterpolargl"
           }
          ],
          "scatterternary": [
           {
            "marker": {
             "colorbar": {
              "outlinewidth": 0,
              "ticks": ""
             }
            },
            "type": "scatterternary"
           }
          ],
          "surface": [
           {
            "colorbar": {
             "outlinewidth": 0,
             "ticks": ""
            },
            "colorscale": [
             [
              0,
              "#0d0887"
             ],
             [
              0.1111111111111111,
              "#46039f"
             ],
             [
              0.2222222222222222,
              "#7201a8"
             ],
             [
              0.3333333333333333,
              "#9c179e"
             ],
             [
              0.4444444444444444,
              "#bd3786"
             ],
             [
              0.5555555555555556,
              "#d8576b"
             ],
             [
              0.6666666666666666,
              "#ed7953"
             ],
             [
              0.7777777777777778,
              "#fb9f3a"
             ],
             [
              0.8888888888888888,
              "#fdca26"
             ],
             [
              1,
              "#f0f921"
             ]
            ],
            "type": "surface"
           }
          ],
          "table": [
           {
            "cells": {
             "fill": {
              "color": "#EBF0F8"
             },
             "line": {
              "color": "white"
             }
            },
            "header": {
             "fill": {
              "color": "#C8D4E3"
             },
             "line": {
              "color": "white"
             }
            },
            "type": "table"
           }
          ]
         },
         "layout": {
          "annotationdefaults": {
           "arrowcolor": "#2a3f5f",
           "arrowhead": 0,
           "arrowwidth": 1
          },
          "autotypenumbers": "strict",
          "coloraxis": {
           "colorbar": {
            "outlinewidth": 0,
            "ticks": ""
           }
          },
          "colorscale": {
           "diverging": [
            [
             0,
             "#8e0152"
            ],
            [
             0.1,
             "#c51b7d"
            ],
            [
             0.2,
             "#de77ae"
            ],
            [
             0.3,
             "#f1b6da"
            ],
            [
             0.4,
             "#fde0ef"
            ],
            [
             0.5,
             "#f7f7f7"
            ],
            [
             0.6,
             "#e6f5d0"
            ],
            [
             0.7,
             "#b8e186"
            ],
            [
             0.8,
             "#7fbc41"
            ],
            [
             0.9,
             "#4d9221"
            ],
            [
             1,
             "#276419"
            ]
           ],
           "sequential": [
            [
             0,
             "#0d0887"
            ],
            [
             0.1111111111111111,
             "#46039f"
            ],
            [
             0.2222222222222222,
             "#7201a8"
            ],
            [
             0.3333333333333333,
             "#9c179e"
            ],
            [
             0.4444444444444444,
             "#bd3786"
            ],
            [
             0.5555555555555556,
             "#d8576b"
            ],
            [
             0.6666666666666666,
             "#ed7953"
            ],
            [
             0.7777777777777778,
             "#fb9f3a"
            ],
            [
             0.8888888888888888,
             "#fdca26"
            ],
            [
             1,
             "#f0f921"
            ]
           ],
           "sequentialminus": [
            [
             0,
             "#0d0887"
            ],
            [
             0.1111111111111111,
             "#46039f"
            ],
            [
             0.2222222222222222,
             "#7201a8"
            ],
            [
             0.3333333333333333,
             "#9c179e"
            ],
            [
             0.4444444444444444,
             "#bd3786"
            ],
            [
             0.5555555555555556,
             "#d8576b"
            ],
            [
             0.6666666666666666,
             "#ed7953"
            ],
            [
             0.7777777777777778,
             "#fb9f3a"
            ],
            [
             0.8888888888888888,
             "#fdca26"
            ],
            [
             1,
             "#f0f921"
            ]
           ]
          },
          "colorway": [
           "#636efa",
           "#EF553B",
           "#00cc96",
           "#ab63fa",
           "#FFA15A",
           "#19d3f3",
           "#FF6692",
           "#B6E880",
           "#FF97FF",
           "#FECB52"
          ],
          "font": {
           "color": "#2a3f5f"
          },
          "geo": {
           "bgcolor": "white",
           "lakecolor": "white",
           "landcolor": "#E5ECF6",
           "showlakes": true,
           "showland": true,
           "subunitcolor": "white"
          },
          "hoverlabel": {
           "align": "left"
          },
          "hovermode": "closest",
          "mapbox": {
           "style": "light"
          },
          "paper_bgcolor": "white",
          "plot_bgcolor": "#E5ECF6",
          "polar": {
           "angularaxis": {
            "gridcolor": "white",
            "linecolor": "white",
            "ticks": ""
           },
           "bgcolor": "#E5ECF6",
           "radialaxis": {
            "gridcolor": "white",
            "linecolor": "white",
            "ticks": ""
           }
          },
          "scene": {
           "xaxis": {
            "backgroundcolor": "#E5ECF6",
            "gridcolor": "white",
            "gridwidth": 2,
            "linecolor": "white",
            "showbackground": true,
            "ticks": "",
            "zerolinecolor": "white"
           },
           "yaxis": {
            "backgroundcolor": "#E5ECF6",
            "gridcolor": "white",
            "gridwidth": 2,
            "linecolor": "white",
            "showbackground": true,
            "ticks": "",
            "zerolinecolor": "white"
           },
           "zaxis": {
            "backgroundcolor": "#E5ECF6",
            "gridcolor": "white",
            "gridwidth": 2,
            "linecolor": "white",
            "showbackground": true,
            "ticks": "",
            "zerolinecolor": "white"
           }
          },
          "shapedefaults": {
           "line": {
            "color": "#2a3f5f"
           }
          },
          "ternary": {
           "aaxis": {
            "gridcolor": "white",
            "linecolor": "white",
            "ticks": ""
           },
           "baxis": {
            "gridcolor": "white",
            "linecolor": "white",
            "ticks": ""
           },
           "bgcolor": "#E5ECF6",
           "caxis": {
            "gridcolor": "white",
            "linecolor": "white",
            "ticks": ""
           }
          },
          "title": {
           "x": 0.05
          },
          "xaxis": {
           "automargin": true,
           "gridcolor": "white",
           "linecolor": "white",
           "ticks": "",
           "title": {
            "standoff": 15
           },
           "zerolinecolor": "white",
           "zerolinewidth": 2
          },
          "yaxis": {
           "automargin": true,
           "gridcolor": "white",
           "linecolor": "white",
           "ticks": "",
           "title": {
            "standoff": 15
           },
           "zerolinecolor": "white",
           "zerolinewidth": 2
          }
         }
        },
        "title": {
         "text": "Number of NutritionInformation per IngredientResearch"
        },
        "xaxis": {
         "anchor": "y",
         "domain": [
          0,
          1
         ],
         "title": {
          "text": "IngredientResearch"
         }
        },
        "yaxis": {
         "anchor": "x",
         "domain": [
          0,
          1
         ],
         "title": {
          "text": "NutritionalInformationCount"
         }
        }
       }
      }
     },
     "metadata": {},
     "output_type": "display_data"
    }
   ],
   "source": [
    "from neo4j import GraphDatabase\n",
    "import pandas as pd\n",
    "import plotly.express as px\n",
    "\n",
    "\n",
    "\n",
    "query = \"\"\"\n",
    "MATCH (i:IngredientResearch)-[:HAS_NUTRITIONAL_INFORMATION]->(n:NutritionalInformation)\n",
    "RETURN i.ingredient_name AS IngredientResearch, COUNT(n) AS NutritionalInformationCount\n",
    "\"\"\"\n",
    "\n",
    "with driver.session() as session:\n",
    "    result = session.run(query)\n",
    "    neo4j_data = [record.data() for record in result]\n",
    "\n",
    "\n",
    "\n",
    "df = pd.DataFrame(result, columns=[\"IngredientResearch\", \"NutritionalInformationCount\"])\n",
    "\n",
    "fig = px.bar(df, x=\"IngredientResearch\", y=\"NutritionalInformationCount\", title=\"Number of NutritionInformation per IngredientResearch\")\n",
    "fig.show()\n",
    "\n"
   ]
  },
  {
   "cell_type": "code",
   "execution_count": 8,
   "metadata": {},
   "outputs": [
    {
     "data": {
      "application/vnd.plotly.v1+json": {
       "config": {
        "plotlyServerURL": "https://plot.ly"
       },
       "data": [
        {
         "hovertemplate": "NutritionalInformation=Calories<br>IngredientResearch=%{x}<br>index=%{y}<extra></extra>",
         "legendgroup": "Calories",
         "marker": {
          "color": "#636efa",
          "symbol": "circle"
         },
         "mode": "markers",
         "name": "Calories",
         "showlegend": true,
         "type": "scattergl",
         "x": [
          "Carbonated Water",
          "Colouring Agent 150d",
          "Phosphoric Acid",
          "Flavour",
          "Caffeine",
          "Sodium Citrate",
          "Aspartame",
          "Acesulfame Potassium",
          "Sweetener 952",
          "Wheat Flour",
          "Refined Palm Oil",
          "Salt",
          "Acidity Regulator 451",
          "Acidity Regulator 501",
          "Sodium Bicarbonate",
          "Guar Gum",
          "Colour 101",
          "Seasoning Powder",
          "Flavour Enhancer 621",
          "Disodium Guanylate",
          "Garlic Powder",
          "Onion Powder",
          "Yeast Extract",
          "Artificial Flavour",
          "Pepper",
          "Anti Caking Agent 551",
          "Seasoning Oil",
          "Onion",
          "Sweet Soy Sauce",
          "Water",
          "Wheat",
          "Soy Bean",
          "Spices",
          "Sesame Oil",
          "Chilli Sauce",
          "Chilli",
          "Tapioca Starch",
          "Acetic Acid",
          "Citric Acid",
          "Herbs",
          "Preservative 1211",
          "Sodium Metabisulfite",
          "Fried Onion",
          "TBHQ",
          "Vegetable Oil",
          "Mineral Salt 508",
          "Flavour Enhancer 635",
          "Guar Gum",
          "Iodised Salt",
          "Maltodextrin",
          "Flavours Wheat",
          "Flavours Soy",
          "Vegetable Fat",
          "Parsley Flakes",
          "Turmeric",
          "Caramel III",
          "Coriander",
          "Cumin",
          "Spice Cardamom",
          "Spice Chilli Powder",
          "Spice Ginger",
          "Potassium Chloride",
          "Flavour Celery",
          "Potato Starch",
          "Parsley",
          "Burnt Sugar",
          "Gluten Wheat",
          "Soy",
          "Curcumin",
          "Flavour Sachet",
          "Vegetable Sachet",
          "Dehydrated Vegetables",
          "Modified Starch 1420",
          "Mineral Salt 450",
          "Disodium Inosinate",
          "Basil",
          "Colouring Agent 100",
          "Antioxidant 307b",
          "Flavours",
          "Soy Sauce Powder",
          "White Pepper",
          "Rosemary",
          "Colouring Agent 150c",
          "Caramel Color",
          "Carbonated Mineral Water",
          "Citric Acid",
          "Natural Flavours",
          "Natural Mineral Water",
          "Potassium Bicarbonate",
          "Citric Acid",
          "Natural Flavour Orange Peel Extract",
          "Natural Flavour Citrus Oils",
          "Natural Flavour Botanical Extracts",
          "Natural Flavour Lemon Peel Extract",
          "Quinine",
          "Natural Flavour Lime Oils",
          "Sodium Benzoate",
          "Plant Extract Gardenia",
          "Plant Extract Carthamus",
          "Sulphites",
          "",
          "Reconstituted Lime Juice",
          "Sodium Citrate",
          "Potassium Sorbate",
          "Safflower Extract",
          "Ascorbic Acid",
          "Carminic Acid",
          "Lutein",
          "Antioxidant 385",
          "Milk Solids",
          "Cocoa Butter",
          "Cocoa Mass",
          "Milk",
          "Polyglycerol Polyricinoleate",
          "Cocoa",
          "Sodium Bicarbonate",
          "Yeast",
          "Choc Paste",
          "Full Cream Milk",
          "Glucose Syrup",
          "Sweetened Condensed Milk",
          "Golden Syrup",
          "Invert Sugar",
          "Acidity Regulator 331",
          "Milk Chocolate",
          "Caramel",
          "Biscuit",
          "Wheat Glucose Syrup",
          "Barley Malt Extract",
          "Egg White",
          "Natural Flavour Vanilla Extract",
          "Cocoa Powder",
          "Sorbitan Tristearate",
          "Emulsifier 471",
          "Sodium Bicarbonate",
          "Polyglycerol polyricinoleate",
          "Desiccated Coconut",
          "Wheat Starch",
          "Baking Powder",
          "Colouring Agent Caramel IV",
          "Dark Compound Chocolate Chips",
          "Palm Oil",
          "Cocoa Solids",
          "Natural Flavour",
          "Wheaten Corn Flour",
          "Whole Egg Powder",
          "Milk Whey Powder",
          "Annatto Extracts",
          "Dark Chocolate Chips",
          "Natural Vanilla Flavour",
          "Milk Butter",
          "Natural Flavour Vanilla",
          "Natural Flavour Butter",
          "Sodium Carbonate",
          "Ammonium Carbonate",
          "Chocolate Chips",
          "Skim Milk Powder",
          "Cornstarch",
          "Ammonium Bicarbonate",
          "Strawberry",
          "Milk Chocolate Chips",
          "Dextrose",
          "Egg",
          "Stabiliser 422",
          "Thickener 1422",
          "Raising Agent 450",
          "Colouring Agent 160a",
          "Citric Acid",
          "Thickener 1414",
          "Milk Compound Chocolate",
          "Glazing Agent 414",
          "Carnauba Wax",
          "Colouring Agent Titan White",
          "Black Carrot Extract",
          "Cultured Dextrose",
          "Maize Starch",
          "Synthetic Wax",
          "Bis-Diglyceryl Polyacyladipate-2",
          "Silica",
          "Octyldodecanol",
          "Pentaerythrityl Tetra-di-t-butyl Hydroxyhydrocinnamate",
          "Iron Oxides",
          "Titanium Dioxide",
          "",
          "Carmine",
          "Reconstituted Apple Juice",
          "Citric Acid",
          "Vitamin C",
          "Reconstituted Apple Juice",
          "Reconstituted Mango Juice",
          "Reconstituted Fruit Juice Orange",
          "Reconstituted Fruit Juice Pineapple",
          "Reconstituted Fruit Juice Passionfruit",
          "Carboxymethyl Cellulose",
          "Reconstituted Fruit Juice Blackcurrant",
          "Anthocyanins",
          "Reconstituted Fruit Juice Grape",
          "Reconstituted Fruit Juice Apricot",
          "Reconstituted Fruit Juice Peach",
          "Reconstituted Fruit Juice Pear",
          "Reconstituted Lemon Juice",
          "Guava Puree",
          "Potassium Citrate",
          "Pectin",
          "Reconstituted Fruit Juice Water Extracted Orange",
          "Reconstituted Fruit Juice Peach Purée",
          "Pasteurised Homogenised Milk",
          "Cream",
          "Fructose",
          "Syrup",
          "Carmine",
          "Tomato Juice",
          "Durum Wheat Semolina",
          "Coconut Extract",
          "Guar Gum",
          "Homogenised Full Cream Milk",
          "Sardines",
          "Rice",
          "Skim Milk",
          "Acidity Regulator 339",
          "Guar Gum",
          "Reconstituted Tomato Puree",
          "Thickener Modified Corn Starch",
          "Acetic Acid",
          "Spice Extract",
          "Reconstituted Fruit Puree",
          "Apple Pulp",
          "Tomato Paste",
          "Molasses",
          "Caramel I",
          "Smoke Flavour",
          "Xanthan Gum",
          "Acetic Acid",
          "Tomatoes",
          "Wheat Cornflour",
          "Caramel Color 150c",
          "Pectin",
          "Tamarind Paste",
          "Clove",
          "Nutmeg",
          "Tomato Puree",
          "Acetic Acid",
          "Maize Thickener 1422",
          "Maize Maltodextrin",
          "Xanthan Gum",
          "Canola Oil",
          "Vinegar",
          "Xanthan Gum",
          "Free Range Egg Yolk",
          "Gherkin",
          "Carotene",
          "Paprika Oleoresins",
          "Potassium Sorbate",
          "Dill",
          "Herb Extract",
          "Mustard Oil",
          "White Vinegar",
          "Reconstituted Fruit Puree Apple",
          "Reconstituted Fruit Puree Tomato Paste",
          "Natural Spring Water",
          "Australian Spring Water",
          "Potatoes",
          "Sunflower Oil",
          "Ascorbic Acid",
          "Antioxidant Rosemary Extract",
          "Citric Acid",
          "Cheese Powder",
          "Flavoured Milk",
          "Tomato Powder",
          "Paprika",
          "Flavour Enhancer 620",
          "Turmeric",
          "Glucose",
          "Vegetable Powder Garlic",
          "Milk Lactose",
          "Vegetable Powder Tomato",
          "Garam Masala",
          "Buttermilk Powder",
          "Lactic Acid",
          "Paprika Extract",
          "Carrageenan",
          "Locust Bean Gum",
          "Xanthan Gum",
          "Sodium Citrate",
          "Calcium Lactate",
          "Malic Acid",
          "Natural Strawberry Flavour",
          "Cochineal",
          "Fruit Peach",
          "Pear",
          "Reconstituted Refined Juice Concentrated Pear Juice",
          "Refined Fruit Juice Apple",
          "Refined Fruit Juice Grape",
          "Refined Fruit Juice Peach",
          "Refined Fruit Juice Pear",
          "Natural Flavour Pineapple",
          "Natural Flavour Mango",
          "Jelly Natural Pineapple Flavour",
          "Apple",
          "Diced Pears",
          "Diced Peaches",
          "Refined Fruit Juice",
          "Pineapple",
          "Pineapple Juice",
          "Clarified Pineapple Juice Concentrate"
         ],
         "xaxis": "x",
         "y": [
          0,
          6,
          8,
          12,
          16,
          20,
          27,
          28,
          32,
          36,
          51,
          59,
          65,
          69,
          74,
          76,
          81,
          85,
          89,
          93,
          97,
          103,
          109,
          115,
          118,
          121,
          127,
          129,
          137,
          139,
          142,
          148,
          153,
          157,
          163,
          167,
          172,
          177,
          181,
          187,
          191,
          195,
          199,
          203,
          209,
          215,
          222,
          226,
          231,
          237,
          241,
          244,
          250,
          253,
          258,
          263,
          267,
          273,
          279,
          284,
          289,
          295,
          301,
          306,
          310,
          318,
          320,
          324,
          329,
          333,
          339,
          341,
          347,
          356,
          358,
          362,
          366,
          370,
          374,
          379,
          383,
          387,
          396,
          397,
          401,
          408,
          412,
          416,
          422,
          427,
          430,
          434,
          440,
          442,
          446,
          450,
          454,
          458,
          462,
          466,
          470,
          475,
          478,
          483,
          487,
          491,
          496,
          503,
          509,
          513,
          520,
          526,
          531,
          537,
          538,
          544,
          549,
          554,
          558,
          566,
          567,
          574,
          580,
          581,
          585,
          591,
          593,
          601,
          609,
          614,
          619,
          623,
          628,
          634,
          636,
          641,
          645,
          651,
          656,
          660,
          663,
          667,
          674,
          680,
          687,
          688,
          693,
          697,
          702,
          707,
          711,
          715,
          719,
          723,
          726,
          731,
          735,
          742,
          743,
          753,
          759,
          763,
          768,
          775,
          778,
          780,
          784,
          788,
          792,
          797,
          800,
          804,
          810,
          819,
          825,
          830,
          834,
          839,
          845,
          849,
          853,
          859,
          864,
          870,
          871,
          875,
          879,
          883,
          890,
          893,
          898,
          904,
          908,
          910,
          917,
          920,
          925,
          930,
          934,
          939,
          944,
          945,
          952,
          957,
          961,
          967,
          971,
          979,
          984,
          988,
          992,
          998,
          1006,
          1011,
          1015,
          1018,
          1023,
          1030,
          1038,
          1039,
          1045,
          1049,
          1053,
          1060,
          1064,
          1068,
          1075,
          1078,
          1085,
          1088,
          1094,
          1096,
          1101,
          1108,
          1114,
          1115,
          1119,
          1123,
          1129,
          1136,
          1142,
          1147,
          1151,
          1157,
          1162,
          1166,
          1175,
          1177,
          1182,
          1191,
          1197,
          1200,
          1204,
          1210,
          1214,
          1218,
          1225,
          1230,
          1235,
          1237,
          1242,
          1248,
          1256,
          1265,
          1270,
          1274,
          1278,
          1282,
          1286,
          1292,
          1298,
          1302,
          1310,
          1312,
          1318,
          1322,
          1327,
          1331,
          1336,
          1340,
          1347,
          1348,
          1356,
          1358,
          1363,
          1368,
          1374,
          1376,
          1381,
          1388,
          1394,
          1398,
          1402,
          1409,
          1413,
          1418,
          1422,
          1425,
          1428,
          1438,
          1442,
          1448,
          1451,
          1458,
          1468
         ],
         "yaxis": "y"
        },
        {
         "hovertemplate": "NutritionalInformation=Carbohydrates<br>IngredientResearch=%{x}<br>index=%{y}<extra></extra>",
         "legendgroup": "Carbohydrates",
         "marker": {
          "color": "#EF553B",
          "symbol": "circle"
         },
         "mode": "markers",
         "name": "Carbohydrates",
         "showlegend": true,
         "type": "scattergl",
         "x": [
          "Carbonated Water",
          "Colouring Agent 150d",
          "Phosphoric Acid",
          "Flavour",
          "Caffeine",
          "Sodium Citrate",
          "Aspartame",
          "Acesulfame Potassium",
          "Sweetener 952",
          "Wheat Flour",
          "Salt",
          "Acidity Regulator 451",
          "Acidity Regulator 501",
          "Guar Gum",
          "Colour 101",
          "Seasoning Powder",
          "Flavour Enhancer 621",
          "Disodium Guanylate",
          "Garlic Powder",
          "Onion Powder",
          "Yeast Extract",
          "Artificial Flavour",
          "Pepper",
          "Anti Caking Agent 551",
          "Seasoning Oil",
          "Onion",
          "Sweet Soy Sauce",
          "Wheat",
          "Soy Bean",
          "Spices",
          "Chilli Sauce",
          "Chilli",
          "Tapioca Starch",
          "Acetic Acid",
          "Citric Acid",
          "Herbs",
          "Preservative 1211",
          "Sodium Metabisulfite",
          "Fried Onion",
          "TBHQ",
          "Vegetable Oil",
          "Antioxidant 320",
          "Mineral Salt 508",
          "Flavour Enhancer 635",
          "Guar Gum",
          "Maltodextrin",
          "Flavours Wheat",
          "Flavours Soy",
          "Vegetable Fat",
          "Parsley Flakes",
          "Turmeric",
          "Caramel III",
          "Coriander",
          "Cumin",
          "Spice Cardamom",
          "Spice Chilli Powder",
          "Spice Ginger",
          "Potassium Chloride",
          "Flavour Celery",
          "Potato Starch",
          "Parsley",
          "Burnt Sugar",
          "Gluten Wheat",
          "Soy",
          "Curcumin",
          "Flavour Sachet",
          "Vegetable Sachet",
          "Dehydrated Vegetables",
          "Modified Starch 1420",
          "Disodium Inosinate",
          "Basil",
          "Colouring Agent 100",
          "Antioxidant 307b",
          "Flavours",
          "Soy Sauce Powder",
          "White Pepper",
          "Rosemary",
          "Colouring Agent 150c",
          "Caramel Color",
          "Carbonated Mineral Water",
          "Citric Acid",
          "Natural Flavours",
          "Natural Mineral Water",
          "Potassium Bicarbonate",
          "Natural Flavour Orange Peel Extract",
          "Natural Flavour Citrus Oils",
          "Natural Flavour Botanical Extracts",
          "Natural Flavour Lemon Peel Extract",
          "Quinine",
          "Natural Flavour Lime Oils",
          "Sodium Benzoate",
          "Plant Extract Gardenia",
          "Plant Extract Carthamus",
          "Sulphites",
          "",
          "Reconstituted Lime Juice",
          "Sodium Citrate",
          "Potassium Sorbate",
          "Safflower Extract",
          "Ascorbic Acid",
          "Carminic Acid",
          "Lutein",
          "Antioxidant 385",
          "Milk Solids",
          "Cocoa Butter",
          "Cocoa Mass",
          "Milk",
          "Polyglycerol Polyricinoleate",
          "Cocoa",
          "Sodium Bicarbonate",
          "Yeast",
          "Choc Paste",
          "Full Cream Milk",
          "Glucose Syrup",
          "Sweetened Condensed Milk",
          "Golden Syrup",
          "Invert Sugar",
          "Acidity Regulator 331",
          "Milk Chocolate",
          "Caramel",
          "Biscuit",
          "Wheat Glucose Syrup",
          "Barley Malt Extract",
          "Egg White",
          "Natural Flavour Vanilla Extract",
          "Cocoa Powder",
          "Sorbitan Tristearate",
          "Emulsifier 471",
          "Sodium Bicarbonate",
          "Polyglycerol polyricinoleate",
          "Desiccated Coconut",
          "Wheat Starch",
          "Baking Powder",
          "Colouring Agent Caramel IV",
          "Dark Compound Chocolate Chips",
          "Cocoa Solids",
          "Natural Flavour",
          "Wheaten Corn Flour",
          "Whole Egg Powder",
          "Milk Whey Powder",
          "Annatto Extracts",
          "Dark Chocolate Chips",
          "Natural Vanilla Flavour",
          "Milk Butter",
          "Natural Flavour Vanilla",
          "Natural Flavour Butter",
          "Sodium Carbonate",
          "Ammonium Carbonate",
          "Chocolate Chips",
          "Skim Milk Powder",
          "Cornstarch",
          "Ammonium Bicarbonate",
          "Strawberry",
          "Milk Chocolate Chips",
          "Dextrose",
          "Egg",
          "Stabiliser 422",
          "Thickener 1422",
          "Raising Agent 450",
          "Colouring Agent 160a",
          "Citric Acid",
          "Thickener 1414",
          "Milk Compound Chocolate",
          "Glazing Agent 414",
          "Carnauba Wax",
          "Colouring Agent Titan White",
          "Colouring Agent Spirulina Extract",
          "Black Carrot Extract",
          "Cultured Dextrose",
          "Maize Starch",
          "Synthetic Wax",
          "Bis-Diglyceryl Polyacyladipate-2",
          "Silica",
          "Octyldodecanol",
          "Pentaerythrityl Tetra-di-t-butyl Hydroxyhydrocinnamate",
          "Iron Oxides",
          "Titanium Dioxide",
          "Carmine",
          "Reconstituted Apple Juice",
          "Citric Acid",
          "Vitamin C",
          "Reconstituted Apple Juice",
          "Reconstituted Mango Juice",
          "Reconstituted Fruit Juice Orange",
          "Reconstituted Fruit Juice Pineapple",
          "Reconstituted Fruit Juice Passionfruit",
          "Carboxymethyl Cellulose",
          "Reconstituted Fruit Juice Blackcurrant",
          "Anthocyanins",
          "Reconstituted Fruit Juice Grape",
          "Reconstituted Fruit Juice Apricot",
          "Reconstituted Fruit Juice Peach",
          "Reconstituted Fruit Juice Pear",
          "Reconstituted Lemon Juice",
          "Guava Puree",
          "Potassium Citrate",
          "Pectin",
          "Reconstituted Fruit Juice Water Extracted Orange",
          "Reconstituted Fruit Juice Peach Purée",
          "Pasteurised Homogenised Milk",
          "Cream",
          "Fructose",
          "Syrup",
          "Carmine",
          "Tomato Juice",
          "Durum Wheat Semolina",
          "Coconut Extract",
          "Guar Gum",
          "Homogenised Full Cream Milk",
          "Rice",
          "Skim Milk",
          "Acidity Regulator 339",
          "Guar Gum",
          "Reconstituted Tomato Puree",
          "Thickener Modified Corn Starch",
          "Acetic Acid",
          "Spice Extract",
          "Reconstituted Fruit Puree",
          "Apple Pulp",
          "Tomato Paste",
          "Molasses",
          "Caramel I",
          "Smoke Flavour",
          "Xanthan Gum",
          "Acetic Acid",
          "Tomatoes",
          "Wheat Cornflour",
          "Caramel Color 150c",
          "Pectin",
          "Tamarind Paste",
          "Clove",
          "Nutmeg",
          "Tomato Puree",
          "Acetic Acid",
          "Maize Thickener 1422",
          "Maize Maltodextrin",
          "Xanthan Gum",
          "Vinegar",
          "Xanthan Gum",
          "Gherkin",
          "Carotene",
          "Paprika Oleoresins",
          "Potassium Sorbate",
          "Dill",
          "Herb Extract",
          "White Vinegar",
          "Reconstituted Fruit Puree Apple",
          "Reconstituted Fruit Puree Tomato Paste",
          "Natural Spring Water",
          "Australian Spring Water",
          "Potatoes",
          "Ascorbic Acid",
          "Antioxidant Rosemary Extract",
          "Citric Acid",
          "Cheese Powder",
          "Flavoured Milk",
          "Tomato Powder",
          "Paprika",
          "Flavour Enhancer 620",
          "Turmeric",
          "Glucose",
          "Vegetable Powder Garlic",
          "Milk Lactose",
          "Vegetable Powder Tomato",
          "Garam Masala",
          "Buttermilk Powder",
          "Lactic Acid",
          "Paprika Extract",
          "Carrageenan",
          "Locust Bean Gum",
          "Xanthan Gum",
          "Sodium Citrate",
          "Calcium Lactate",
          "Malic Acid",
          "Natural Strawberry Flavour",
          "Cochineal",
          "Fruit Peach",
          "Pear",
          "Reconstituted Refined Juice Concentrated Pear Juice",
          "Refined Fruit Juice Apple",
          "Refined Fruit Juice Grape",
          "Refined Fruit Juice Peach",
          "Refined Fruit Juice Pear",
          "Natural Flavour Pineapple",
          "Natural Flavour Mango",
          "Jelly Natural Pineapple Flavour",
          "Apple",
          "Diced Pears",
          "Diced Peaches",
          "Refined Fruit Juice",
          "Pineapple",
          "Pineapple Juice",
          "Clarified Pineapple Juice Concentrate"
         ],
         "xaxis": "x",
         "y": [
          1,
          7,
          9,
          13,
          17,
          21,
          24,
          29,
          33,
          37,
          60,
          66,
          70,
          77,
          82,
          86,
          90,
          94,
          98,
          104,
          111,
          116,
          119,
          122,
          125,
          130,
          138,
          143,
          151,
          154,
          164,
          168,
          173,
          178,
          182,
          188,
          192,
          196,
          200,
          204,
          207,
          211,
          216,
          223,
          227,
          238,
          242,
          245,
          248,
          254,
          259,
          264,
          268,
          276,
          280,
          285,
          290,
          296,
          302,
          307,
          311,
          319,
          322,
          327,
          330,
          334,
          340,
          342,
          348,
          359,
          363,
          367,
          371,
          375,
          380,
          385,
          388,
          395,
          400,
          402,
          409,
          413,
          417,
          423,
          431,
          435,
          441,
          443,
          447,
          451,
          455,
          459,
          463,
          467,
          471,
          476,
          479,
          484,
          488,
          492,
          497,
          504,
          510,
          516,
          518,
          528,
          530,
          534,
          540,
          545,
          550,
          555,
          560,
          565,
          568,
          575,
          579,
          582,
          586,
          592,
          594,
          598,
          611,
          616,
          620,
          624,
          629,
          632,
          637,
          642,
          647,
          652,
          657,
          661,
          665,
          675,
          681,
          686,
          691,
          694,
          698,
          704,
          708,
          713,
          716,
          721,
          724,
          727,
          733,
          736,
          740,
          744,
          754,
          761,
          764,
          770,
          772,
          779,
          781,
          785,
          789,
          795,
          796,
          801,
          805,
          811,
          815,
          822,
          826,
          831,
          835,
          840,
          846,
          850,
          854,
          860,
          865,
          872,
          876,
          880,
          887,
          891,
          894,
          899,
          903,
          906,
          911,
          915,
          923,
          924,
          931,
          935,
          940,
          942,
          946,
          953,
          960,
          963,
          968,
          970,
          981,
          986,
          989,
          993,
          999,
          1004,
          1012,
          1016,
          1019,
          1031,
          1035,
          1040,
          1046,
          1050,
          1057,
          1061,
          1065,
          1069,
          1076,
          1079,
          1086,
          1091,
          1095,
          1099,
          1102,
          1109,
          1111,
          1118,
          1122,
          1124,
          1130,
          1137,
          1143,
          1148,
          1154,
          1158,
          1165,
          1176,
          1180,
          1192,
          1198,
          1201,
          1205,
          1209,
          1215,
          1226,
          1231,
          1236,
          1238,
          1243,
          1249,
          1266,
          1271,
          1277,
          1280,
          1283,
          1287,
          1295,
          1299,
          1303,
          1311,
          1313,
          1320,
          1323,
          1328,
          1332,
          1337,
          1341,
          1346,
          1351,
          1355,
          1359,
          1364,
          1371,
          1375,
          1377,
          1382,
          1389,
          1395,
          1399,
          1403,
          1408,
          1412,
          1419,
          1423,
          1426,
          1429,
          1439,
          1445,
          1449,
          1452,
          1459,
          1466
         ],
         "yaxis": "y"
        },
        {
         "hovertemplate": "NutritionalInformation=Protein<br>IngredientResearch=%{x}<br>index=%{y}<extra></extra>",
         "legendgroup": "Protein",
         "marker": {
          "color": "#00cc96",
          "symbol": "circle"
         },
         "mode": "markers",
         "name": "Protein",
         "showlegend": true,
         "type": "scattergl",
         "x": [
          "Carbonated Water",
          "Colouring Agent 150d",
          "Phosphoric Acid",
          "Flavour",
          "Caffeine",
          "Sodium Citrate",
          "Aspartame",
          "Acesulfame Potassium",
          "Sweetener 952",
          "Wheat Flour",
          "Salt",
          "Acidity Regulator 451",
          "Acidity Regulator 501",
          "Guar Gum",
          "Colour 101",
          "Seasoning Powder",
          "Flavour Enhancer 621",
          "Disodium Guanylate",
          "Garlic Powder",
          "Onion Powder",
          "Yeast Extract",
          "Artificial Flavour",
          "Pepper",
          "Anti Caking Agent 551",
          "Seasoning Oil",
          "Onion",
          "Sweet Soy Sauce",
          "Water",
          "Wheat",
          "Soy Bean",
          "Spices",
          "Chilli Sauce",
          "Chilli",
          "Tapioca Starch",
          "Acetic Acid",
          "Citric Acid",
          "Herbs",
          "Preservative 1211",
          "Sodium Metabisulfite",
          "Fried Onion",
          "TBHQ",
          "Vegetable Oil",
          "Antioxidant 320",
          "Mineral Salt 508",
          "Flavour Enhancer 635",
          "Guar Gum",
          "Maltodextrin",
          "Flavours Wheat",
          "Flavours Soy",
          "Vegetable Fat",
          "Parsley Flakes",
          "Turmeric",
          "Caramel III",
          "Coriander",
          "Cumin",
          "Spice Cardamom",
          "Spice Chilli Powder",
          "Spice Ginger",
          "Potassium Chloride",
          "Flavour Celery",
          "Potato Starch",
          "Parsley",
          "Burnt Sugar",
          "Gluten Wheat",
          "Soy",
          "Curcumin",
          "Flavour Sachet",
          "Vegetable Sachet",
          "Dehydrated Vegetables",
          "Modified Starch 1420",
          "Disodium Inosinate",
          "Basil",
          "Colouring Agent 100",
          "Antioxidant 307b",
          "Flavours",
          "Soy Sauce Powder",
          "White Pepper",
          "Rosemary",
          "Colouring Agent 150c",
          "Caramel Color",
          "Carbonated Mineral Water",
          "Citric Acid",
          "Natural Flavours",
          "Natural Mineral Water",
          "Potassium Bicarbonate",
          "Citric Acid",
          "Natural Flavour Orange Peel Extract",
          "Natural Flavour Citrus Oils",
          "Natural Flavour Botanical Extracts",
          "Natural Flavour Lemon Peel Extract",
          "Quinine",
          "Natural Flavour Lime Oils",
          "Sodium Benzoate",
          "Plant Extract Gardenia",
          "Plant Extract Carthamus",
          "Sulphites",
          "",
          "Reconstituted Lime Juice",
          "Sodium Citrate",
          "Potassium Sorbate",
          "Safflower Extract",
          "Ascorbic Acid",
          "Carminic Acid",
          "Lutein",
          "Antioxidant 385",
          "Milk Solids",
          "Cocoa Butter",
          "Cocoa Mass",
          "Milk",
          "Polyglycerol Polyricinoleate",
          "Sodium Bicarbonate",
          "Yeast",
          "Choc Paste",
          "Glucose Syrup",
          "Sweetened Condensed Milk",
          "Golden Syrup",
          "Invert Sugar",
          "Acidity Regulator 331",
          "Milk Chocolate",
          "Caramel",
          "Biscuit",
          "Wheat Glucose Syrup",
          "Barley Malt Extract",
          "Egg White",
          "Natural Flavour Vanilla Extract",
          "Cocoa Powder",
          "Sorbitan Tristearate",
          "Emulsifier 471",
          "Sodium Bicarbonate",
          "Polyglycerol polyricinoleate",
          "Desiccated Coconut",
          "Wheat Starch",
          "Baking Powder",
          "Colouring Agent Caramel IV",
          "Dark Compound Chocolate Chips",
          "Cocoa Solids",
          "Natural Flavour",
          "Wheaten Corn Flour",
          "Whole Egg Powder",
          "Milk Whey Powder",
          "Annatto Extracts",
          "Dark Chocolate Chips",
          "Natural Vanilla Flavour",
          "Milk Butter",
          "Natural Flavour Vanilla",
          "Natural Flavour Butter",
          "Ammonium Carbonate",
          "Chocolate Chips",
          "Skim Milk Powder",
          "Cornstarch",
          "Ammonium Bicarbonate",
          "Strawberry",
          "Milk Chocolate Chips",
          "Egg",
          "Stabiliser 422",
          "Thickener 1422",
          "Raising Agent 450",
          "Colouring Agent 160a",
          "Citric Acid",
          "Thickener 1414",
          "Milk Compound Chocolate",
          "Glazing Agent 414",
          "Carnauba Wax",
          "Colouring Agent Titan White",
          "Colouring Agent Spirulina Extract",
          "Black Carrot Extract",
          "Cultured Dextrose",
          "Maize Starch",
          "Synthetic Wax",
          "Bis-Diglyceryl Polyacyladipate-2",
          "Silica",
          "Octyldodecanol",
          "Pentaerythrityl Tetra-di-t-butyl Hydroxyhydrocinnamate",
          "Iron Oxides",
          "Titanium Dioxide",
          "Carmine",
          "Citric Acid",
          "Vitamin C",
          "Reconstituted Apple Juice",
          "Reconstituted Mango Juice",
          "Reconstituted Fruit Juice Pineapple",
          "Carboxymethyl Cellulose",
          "Reconstituted Fruit Juice Blackcurrant",
          "Anthocyanins",
          "Reconstituted Fruit Juice Apricot",
          "Reconstituted Fruit Juice Peach",
          "Reconstituted Fruit Juice Pear",
          "Reconstituted Lemon Juice",
          "Guava Puree",
          "Potassium Citrate",
          "Pectin",
          "Reconstituted Fruit Juice Peach Purée",
          "Pasteurised Homogenised Milk",
          "Cream",
          "Fructose",
          "Syrup",
          "Carmine",
          "Tomato Juice",
          "Durum Wheat Semolina",
          "Coconut Extract",
          "Guar Gum",
          "Homogenised Full Cream Milk",
          "Sardines",
          "Rice",
          "Skim Milk",
          "Acidity Regulator 339",
          "Guar Gum",
          "Reconstituted Tomato Puree",
          "Thickener Modified Corn Starch",
          "Acetic Acid",
          "Spice Extract",
          "Reconstituted Fruit Puree",
          "Apple Pulp",
          "Tomato Paste",
          "Molasses",
          "Caramel I",
          "Smoke Flavour",
          "Xanthan Gum",
          "Acetic Acid",
          "Tomatoes",
          "Wheat Cornflour",
          "Caramel Color 150c",
          "Pectin",
          "Tamarind Paste",
          "Clove",
          "Nutmeg",
          "Tomato Puree",
          "Acetic Acid",
          "Maize Thickener 1422",
          "Maize Maltodextrin",
          "Xanthan Gum",
          "Vinegar",
          "Xanthan Gum",
          "Gherkin",
          "Carotene",
          "Paprika Oleoresins",
          "Potassium Sorbate",
          "Dill",
          "Herb Extract",
          "White Vinegar",
          "Reconstituted Fruit Puree Apple",
          "Reconstituted Fruit Puree Tomato Paste",
          "Natural Spring Water",
          "Australian Spring Water",
          "Potatoes",
          "Ascorbic Acid",
          "Antioxidant Rosemary Extract",
          "Citric Acid",
          "Cheese Powder",
          "Flavoured Milk",
          "Tomato Powder",
          "Paprika",
          "Flavour Enhancer 620",
          "Turmeric",
          "Glucose",
          "Vegetable Powder Garlic",
          "Milk Lactose",
          "Vegetable Powder Tomato",
          "Garam Masala",
          "Buttermilk Powder",
          "Lactic Acid",
          "Paprika Extract",
          "Carrageenan",
          "Locust Bean Gum",
          "Xanthan Gum",
          "Sodium Citrate",
          "Calcium Lactate",
          "Malic Acid",
          "Natural Strawberry Flavour",
          "Cochineal",
          "Fruit Peach",
          "Pear",
          "Reconstituted Refined Juice Concentrated Pear Juice",
          "Refined Fruit Juice Apple",
          "Refined Fruit Juice Peach",
          "Refined Fruit Juice Pear",
          "Natural Flavour Pineapple",
          "Natural Flavour Mango",
          "Jelly Natural Pineapple Flavour",
          "Apple",
          "Diced Pears",
          "Diced Peaches",
          "Refined Fruit Juice",
          "Pineapple",
          "Pineapple Juice",
          "Clarified Pineapple Juice Concentrate"
         ],
         "xaxis": "x",
         "y": [
          2,
          4,
          10,
          14,
          18,
          22,
          25,
          30,
          34,
          38,
          61,
          67,
          71,
          78,
          83,
          87,
          91,
          95,
          99,
          105,
          110,
          113,
          117,
          123,
          126,
          131,
          136,
          140,
          144,
          149,
          155,
          165,
          169,
          174,
          179,
          183,
          189,
          193,
          197,
          201,
          205,
          208,
          212,
          217,
          224,
          228,
          235,
          243,
          246,
          249,
          255,
          260,
          265,
          269,
          274,
          281,
          286,
          291,
          297,
          303,
          308,
          312,
          316,
          321,
          325,
          331,
          335,
          337,
          343,
          345,
          360,
          364,
          368,
          372,
          376,
          381,
          384,
          389,
          393,
          398,
          403,
          410,
          414,
          418,
          424,
          428,
          432,
          436,
          438,
          444,
          448,
          452,
          456,
          460,
          464,
          468,
          472,
          477,
          480,
          485,
          489,
          493,
          498,
          505,
          511,
          514,
          519,
          524,
          532,
          535,
          546,
          551,
          556,
          563,
          569,
          572,
          577,
          583,
          587,
          589,
          595,
          600,
          608,
          615,
          621,
          625,
          630,
          633,
          638,
          643,
          648,
          653,
          654,
          658,
          666,
          676,
          682,
          684,
          689,
          695,
          699,
          701,
          709,
          714,
          717,
          722,
          728,
          730,
          737,
          741,
          745,
          752,
          758,
          767,
          773,
          776,
          782,
          786,
          790,
          793,
          798,
          802,
          806,
          812,
          814,
          820,
          823,
          829,
          836,
          841,
          847,
          851,
          855,
          861,
          866,
          873,
          881,
          884,
          888,
          895,
          905,
          912,
          916,
          921,
          928,
          933,
          937,
          943,
          947,
          954,
          958,
          966,
          972,
          978,
          982,
          990,
          994,
          997,
          1005,
          1009,
          1017,
          1020,
          1024,
          1032,
          1036,
          1041,
          1044,
          1051,
          1054,
          1062,
          1066,
          1070,
          1074,
          1080,
          1083,
          1089,
          1092,
          1097,
          1103,
          1106,
          1112,
          1116,
          1120,
          1125,
          1131,
          1138,
          1144,
          1149,
          1152,
          1155,
          1163,
          1173,
          1178,
          1193,
          1199,
          1202,
          1206,
          1211,
          1216,
          1227,
          1232,
          1234,
          1239,
          1244,
          1250,
          1267,
          1272,
          1275,
          1281,
          1284,
          1288,
          1296,
          1300,
          1305,
          1307,
          1314,
          1319,
          1325,
          1329,
          1333,
          1338,
          1342,
          1344,
          1349,
          1353,
          1360,
          1365,
          1369,
          1372,
          1378,
          1384,
          1387,
          1392,
          1396,
          1406,
          1410,
          1416,
          1420,
          1427,
          1430,
          1437,
          1443,
          1450,
          1453,
          1460,
          1464
         ],
         "yaxis": "y"
        },
        {
         "hovertemplate": "NutritionalInformation=Fat<br>IngredientResearch=%{x}<br>index=%{y}<extra></extra>",
         "legendgroup": "Fat",
         "marker": {
          "color": "#ab63fa",
          "symbol": "circle"
         },
         "mode": "markers",
         "name": "Fat",
         "showlegend": true,
         "type": "scattergl",
         "x": [
          "Carbonated Water",
          "Colouring Agent 150d",
          "Phosphoric Acid",
          "Flavour",
          "Caffeine",
          "Sodium Citrate",
          "Aspartame",
          "Acesulfame Potassium",
          "Sweetener 952",
          "Wheat Flour",
          "Refined Palm Oil",
          "Salt",
          "Acidity Regulator 451",
          "Acidity Regulator 501",
          "Guar Gum",
          "Colour 101",
          "Seasoning Powder",
          "Flavour Enhancer 621",
          "Disodium Guanylate",
          "Garlic Powder",
          "Onion Powder",
          "Yeast Extract",
          "Artificial Flavour",
          "Pepper",
          "Anti Caking Agent 551",
          "Seasoning Oil",
          "Onion",
          "Sweet Soy Sauce",
          "Water",
          "Wheat",
          "Soy Bean",
          "Spices",
          "Sesame Oil",
          "Chilli Sauce",
          "Chilli",
          "Tapioca Starch",
          "Acetic Acid",
          "Citric Acid",
          "Herbs",
          "Preservative 1211",
          "Sodium Metabisulfite",
          "Fried Onion",
          "TBHQ",
          "Vegetable Oil",
          "Antioxidant 320",
          "Mineral Salt 508",
          "Flavour Enhancer 635",
          "Guar Gum",
          "Maltodextrin",
          "Flavours Wheat",
          "Flavours Soy",
          "Vegetable Fat",
          "Parsley Flakes",
          "Turmeric",
          "Caramel III",
          "Coriander",
          "Cumin",
          "Spice Cardamom",
          "Spice Chilli Powder",
          "Spice Ginger",
          "Potassium Chloride",
          "Flavour Celery",
          "Potato Starch",
          "Parsley",
          "Burnt Sugar",
          "Gluten Wheat",
          "Soy",
          "Curcumin",
          "Flavour Sachet",
          "Vegetable Sachet",
          "Dehydrated Vegetables",
          "Modified Starch 1420",
          "Disodium Inosinate",
          "Basil",
          "Colouring Agent 100",
          "Antioxidant 307b",
          "Flavours",
          "Soy Sauce Powder",
          "White Pepper",
          "Rosemary",
          "Colouring Agent 150c",
          "Caramel Color",
          "Carbonated Mineral Water",
          "Citric Acid",
          "Natural Flavours",
          "Natural Mineral Water",
          "Potassium Bicarbonate",
          "Citric Acid",
          "Natural Flavour Orange Peel Extract",
          "Natural Flavour Citrus Oils",
          "Natural Flavour Botanical Extracts",
          "Natural Flavour Lemon Peel Extract",
          "Quinine",
          "Natural Flavour Lime Oils",
          "Sodium Benzoate",
          "Plant Extract Gardenia",
          "Plant Extract Carthamus",
          "Sulphites",
          "",
          "Reconstituted Lime Juice",
          "Sodium Citrate",
          "Potassium Sorbate",
          "Safflower Extract",
          "Ascorbic Acid",
          "Carminic Acid",
          "Lutein",
          "Antioxidant 385",
          "Milk Solids",
          "Cocoa Butter",
          "Cocoa Mass",
          "Milk",
          "Polyglycerol Polyricinoleate",
          "Sodium Bicarbonate",
          "Yeast",
          "Choc Paste",
          "Glucose Syrup",
          "Sweetened Condensed Milk",
          "Golden Syrup",
          "Invert Sugar",
          "Acidity Regulator 331",
          "Milk Chocolate",
          "Caramel",
          "Biscuit",
          "Wheat Glucose Syrup",
          "Barley Malt Extract",
          "Egg White",
          "Natural Flavour Vanilla Extract",
          "Cocoa Powder",
          "Sorbitan Tristearate",
          "Emulsifier 471",
          "Polyglycerol polyricinoleate",
          "Desiccated Coconut",
          "Wheat Starch",
          "Baking Powder",
          "Colouring Agent Caramel IV",
          "Dark Compound Chocolate Chips",
          "Palm Oil",
          "Cocoa Solids",
          "Natural Flavour",
          "Wheaten Corn Flour",
          "Whole Egg Powder",
          "Milk Whey Powder",
          "Annatto Extracts",
          "Dark Chocolate Chips",
          "Natural Vanilla Flavour",
          "Milk Butter",
          "Natural Flavour Vanilla",
          "Natural Flavour Butter",
          "Ammonium Carbonate",
          "Chocolate Chips",
          "Skim Milk Powder",
          "Cornstarch",
          "Ammonium Bicarbonate",
          "Strawberry",
          "Milk Chocolate Chips",
          "Egg",
          "Stabiliser 422",
          "Thickener 1422",
          "Raising Agent 450",
          "Colouring Agent 160a",
          "Citric Acid",
          "Thickener 1414",
          "Milk Compound Chocolate",
          "Glazing Agent 414",
          "Carnauba Wax",
          "Colouring Agent Titan White",
          "Black Carrot Extract",
          "Cultured Dextrose",
          "Maize Starch",
          "Synthetic Wax",
          "Bis-Diglyceryl Polyacyladipate-2",
          "Silica",
          "Octyldodecanol",
          "Pentaerythrityl Tetra-di-t-butyl Hydroxyhydrocinnamate",
          "Iron Oxides",
          "Titanium Dioxide",
          "Carmine",
          "Citric Acid",
          "Vitamin C",
          "Reconstituted Apple Juice",
          "Reconstituted Mango Juice",
          "Reconstituted Fruit Juice Pineapple",
          "Carboxymethyl Cellulose",
          "Reconstituted Fruit Juice Blackcurrant",
          "Anthocyanins",
          "Reconstituted Fruit Juice Apricot",
          "Reconstituted Fruit Juice Peach",
          "Reconstituted Fruit Juice Pear",
          "Reconstituted Lemon Juice",
          "Guava Puree",
          "Potassium Citrate",
          "Pectin",
          "Reconstituted Fruit Juice Peach Purée",
          "Pasteurised Homogenised Milk",
          "Cream",
          "Fructose",
          "Syrup",
          "Carmine",
          "Tomato Juice",
          "Durum Wheat Semolina",
          "Coconut Extract",
          "Guar Gum",
          "Homogenised Full Cream Milk",
          "Sardines",
          "Rice",
          "Skim Milk",
          "Acidity Regulator 339",
          "Guar Gum",
          "Reconstituted Tomato Puree",
          "Thickener Modified Corn Starch",
          "Acetic Acid",
          "Spice Extract",
          "Reconstituted Fruit Puree",
          "Apple Pulp",
          "Tomato Paste",
          "Molasses",
          "Caramel I",
          "Smoke Flavour",
          "Xanthan Gum",
          "Acetic Acid",
          "Tomatoes",
          "Wheat Cornflour",
          "Caramel Color 150c",
          "Pectin",
          "Tamarind Paste",
          "Clove",
          "Nutmeg",
          "Tomato Puree",
          "Acetic Acid",
          "Maize Thickener 1422",
          "Maize Maltodextrin",
          "Xanthan Gum",
          "Canola Oil",
          "Vinegar",
          "Xanthan Gum",
          "Free Range Egg Yolk",
          "Gherkin",
          "Carotene",
          "Paprika Oleoresins",
          "Potassium Sorbate",
          "Dill",
          "Herb Extract",
          "Mustard Oil",
          "White Vinegar",
          "Reconstituted Fruit Puree Apple",
          "Reconstituted Fruit Puree Tomato Paste",
          "Natural Spring Water",
          "Australian Spring Water",
          "Potatoes",
          "Sunflower Oil",
          "Ascorbic Acid",
          "Antioxidant Rosemary Extract",
          "Citric Acid",
          "Cheese Powder",
          "Flavoured Milk",
          "Tomato Powder",
          "Paprika",
          "Flavour Enhancer 620",
          "Turmeric",
          "Glucose",
          "Vegetable Powder Garlic",
          "Milk Lactose",
          "Vegetable Powder Tomato",
          "Garam Masala",
          "Buttermilk Powder",
          "Lactic Acid",
          "Paprika Extract",
          "Carrageenan",
          "Locust Bean Gum",
          "Xanthan Gum",
          "Sodium Citrate",
          "Calcium Lactate",
          "Malic Acid",
          "Natural Strawberry Flavour",
          "Cochineal",
          "Fruit Peach",
          "Pear",
          "Reconstituted Refined Juice Concentrated Pear Juice",
          "Refined Fruit Juice Apple",
          "Refined Fruit Juice Peach",
          "Refined Fruit Juice Pear",
          "Natural Flavour Pineapple",
          "Natural Flavour Mango",
          "Jelly Natural Pineapple Flavour",
          "Apple",
          "Diced Pears",
          "Diced Peaches",
          "Refined Fruit Juice",
          "Pineapple",
          "Pineapple Juice",
          "Clarified Pineapple Juice Concentrate"
         ],
         "xaxis": "x",
         "y": [
          3,
          5,
          11,
          15,
          19,
          23,
          26,
          31,
          35,
          39,
          52,
          62,
          68,
          72,
          79,
          84,
          88,
          92,
          96,
          100,
          106,
          108,
          114,
          120,
          124,
          128,
          132,
          135,
          141,
          145,
          150,
          156,
          158,
          166,
          170,
          175,
          180,
          184,
          190,
          194,
          198,
          202,
          206,
          210,
          213,
          218,
          225,
          229,
          236,
          240,
          247,
          251,
          256,
          261,
          266,
          270,
          275,
          282,
          287,
          292,
          298,
          304,
          305,
          313,
          317,
          323,
          326,
          332,
          336,
          338,
          344,
          346,
          361,
          365,
          369,
          373,
          377,
          378,
          382,
          390,
          394,
          399,
          404,
          411,
          415,
          419,
          425,
          429,
          433,
          437,
          439,
          445,
          449,
          453,
          457,
          461,
          465,
          469,
          473,
          474,
          481,
          486,
          490,
          494,
          499,
          506,
          512,
          515,
          521,
          527,
          529,
          536,
          547,
          552,
          557,
          564,
          570,
          573,
          578,
          584,
          588,
          590,
          596,
          597,
          607,
          613,
          622,
          626,
          631,
          635,
          644,
          646,
          650,
          655,
          659,
          664,
          668,
          677,
          683,
          685,
          690,
          692,
          700,
          703,
          710,
          712,
          718,
          720,
          729,
          732,
          734,
          738,
          746,
          755,
          760,
          769,
          774,
          777,
          783,
          787,
          791,
          794,
          799,
          803,
          807,
          813,
          821,
          824,
          827,
          837,
          842,
          848,
          852,
          856,
          862,
          867,
          874,
          882,
          885,
          889,
          896,
          902,
          913,
          914,
          922,
          929,
          932,
          938,
          941,
          948,
          955,
          959,
          965,
          973,
          980,
          983,
          991,
          995,
          996,
          1007,
          1010,
          1013,
          1021,
          1025,
          1029,
          1034,
          1042,
          1043,
          1048,
          1055,
          1063,
          1067,
          1071,
          1072,
          1077,
          1084,
          1090,
          1093,
          1098,
          1104,
          1105,
          1113,
          1117,
          1121,
          1126,
          1132,
          1139,
          1141,
          1150,
          1153,
          1156,
          1164,
          1167,
          1174,
          1179,
          1183,
          1190,
          1195,
          1203,
          1207,
          1208,
          1217,
          1219,
          1228,
          1229,
          1233,
          1240,
          1245,
          1247,
          1257,
          1268,
          1273,
          1276,
          1279,
          1285,
          1289,
          1294,
          1301,
          1306,
          1308,
          1315,
          1317,
          1324,
          1330,
          1334,
          1339,
          1343,
          1345,
          1350,
          1354,
          1361,
          1366,
          1370,
          1373,
          1379,
          1385,
          1390,
          1393,
          1397,
          1407,
          1411,
          1417,
          1421,
          1424,
          1431,
          1440,
          1444,
          1447,
          1454,
          1461,
          1465
         ],
         "yaxis": "y"
        },
        {
         "hovertemplate": "NutritionalInformation=Fiber<br>IngredientResearch=%{x}<br>index=%{y}<extra></extra>",
         "legendgroup": "Fiber",
         "marker": {
          "color": "#FFA15A",
          "symbol": "circle"
         },
         "mode": "markers",
         "name": "Fiber",
         "showlegend": true,
         "type": "scattergl",
         "x": [
          "Wheat Flour",
          "Wheat",
          "Soy Bean",
          "Tapioca Starch",
          "Maltodextrin",
          "Cumin",
          "Potato Starch",
          "Soy",
          "Cocoa Mass",
          "Cocoa",
          "Wheat Glucose Syrup",
          "Barley Malt Extract",
          "Cocoa Powder",
          "Desiccated Coconut",
          "Cocoa Solids",
          "Dark Chocolate Chips",
          "Cornstarch",
          "Carnauba Wax",
          "Maize Starch",
          "Guava Puree",
          "Durum Wheat Semolina",
          "Rice",
          "Guar Gum",
          "Thickener Modified Corn Starch",
          "Xanthan Gum",
          "Xanthan Gum",
          "Gherkin",
          "Potatoes",
          "Glucose",
          "Locust Bean Gum",
          "Diced Peaches"
         ],
         "xaxis": "x",
         "y": [
          40,
          146,
          152,
          176,
          239,
          277,
          309,
          328,
          525,
          542,
          599,
          610,
          627,
          649,
          678,
          705,
          739,
          808,
          828,
          950,
          1008,
          1033,
          1047,
          1056,
          1100,
          1181,
          1194,
          1251,
          1309,
          1352,
          1446
         ],
         "yaxis": "y"
        },
        {
         "hovertemplate": "NutritionalInformation=Thiamin<br>IngredientResearch=%{x}<br>index=%{y}<extra></extra>",
         "legendgroup": "Thiamin",
         "marker": {
          "color": "#19d3f3",
          "symbol": "circle"
         },
         "mode": "markers",
         "name": "Thiamin",
         "showlegend": true,
         "type": "scattergl",
         "x": [
          "Wheat Flour",
          "Thiamin"
         ],
         "xaxis": "x",
         "y": [
          41,
          750
         ],
         "yaxis": "y"
        },
        {
         "hovertemplate": "NutritionalInformation=Riboflavin<br>IngredientResearch=%{x}<br>index=%{y}<extra></extra>",
         "legendgroup": "Riboflavin",
         "marker": {
          "color": "#FF6692",
          "symbol": "circle"
         },
         "mode": "markers",
         "name": "Riboflavin",
         "showlegend": true,
         "type": "scattergl",
         "x": [
          "Wheat Flour",
          "Riboflavin",
          "Free Range Egg Yolk"
         ],
         "xaxis": "x",
         "y": [
          42,
          749,
          1188
         ],
         "yaxis": "y"
        },
        {
         "hovertemplate": "NutritionalInformation=Niacin<br>IngredientResearch=%{x}<br>index=%{y}<extra></extra>",
         "legendgroup": "Niacin",
         "marker": {
          "color": "#B6E880",
          "symbol": "circle"
         },
         "mode": "markers",
         "name": "Niacin",
         "showlegend": true,
         "type": "scattergl",
         "x": [
          "Wheat Flour"
         ],
         "xaxis": "x",
         "y": [
          43
         ],
         "yaxis": "y"
        },
        {
         "hovertemplate": "NutritionalInformation=Folate<br>IngredientResearch=%{x}<br>index=%{y}<extra></extra>",
         "legendgroup": "Folate",
         "marker": {
          "color": "#FF97FF",
          "symbol": "circle"
         },
         "mode": "markers",
         "name": "Folate",
         "showlegend": true,
         "type": "scattergl",
         "x": [
          "Wheat Flour",
          "Folate",
          "Strawberry",
          "Free Range Egg Yolk"
         ],
         "xaxis": "x",
         "y": [
          44,
          751,
          757,
          1187
         ],
         "yaxis": "y"
        },
        {
         "hovertemplate": "NutritionalInformation=Iron<br>IngredientResearch=%{x}<br>index=%{y}<extra></extra>",
         "legendgroup": "Iron",
         "marker": {
          "color": "#FECB52",
          "symbol": "circle"
         },
         "mode": "markers",
         "name": "Iron",
         "showlegend": true,
         "type": "scattergl",
         "x": [
          "Wheat Flour",
          "Cumin",
          "Parsley",
          "Cocoa",
          "Wheat Glucose Syrup",
          "Cocoa Solids",
          "Mineral Iron",
          "Iron Oxides",
          "Ferric Ferrocyanide",
          "Molasses",
          "Clove",
          "Dill",
          "Potatoes"
         ],
         "xaxis": "x",
         "y": [
          45,
          278,
          315,
          543,
          606,
          679,
          747,
          863,
          868,
          1087,
          1135,
          1213,
          1255
         ],
         "yaxis": "y"
        },
        {
         "hovertemplate": "NutritionalInformation=Magnesium<br>IngredientResearch=%{x}<br>index=%{y}<extra></extra>",
         "legendgroup": "Magnesium",
         "marker": {
          "color": "#636efa",
          "symbol": "circle"
         },
         "mode": "markers",
         "name": "Magnesium",
         "showlegend": true,
         "type": "scattergl",
         "x": [
          "Wheat Flour",
          "Mineral Salt 501",
          "Mineral Salt 500",
          "Carbonated Mineral Water",
          "Natural Mineral Water"
         ],
         "xaxis": "x",
         "y": [
          46,
          350,
          353,
          406,
          420
         ],
         "yaxis": "y"
        },
        {
         "hovertemplate": "NutritionalInformation=Phosphorus<br>IngredientResearch=%{x}<br>index=%{y}<extra></extra>",
         "legendgroup": "Phosphorus",
         "marker": {
          "color": "#EF553B",
          "symbol": "circle"
         },
         "mode": "markers",
         "name": "Phosphorus",
         "showlegend": true,
         "type": "scattergl",
         "x": [
          "Wheat Flour",
          "Pasteurised Homogenised Milk"
         ],
         "xaxis": "x",
         "y": [
          47,
          977
         ],
         "yaxis": "y"
        },
        {
         "hovertemplate": "NutritionalInformation=Zinc<br>IngredientResearch=%{x}<br>index=%{y}<extra></extra>",
         "legendgroup": "Zinc",
         "marker": {
          "color": "#00cc96",
          "symbol": "circle"
         },
         "mode": "markers",
         "name": "Zinc",
         "showlegend": true,
         "type": "scattergl",
         "x": [
          "Wheat Flour",
          "Zinc"
         ],
         "xaxis": "x",
         "y": [
          48,
          748
         ],
         "yaxis": "y"
        },
        {
         "hovertemplate": "NutritionalInformation=Copper<br>IngredientResearch=%{x}<br>index=%{y}<extra></extra>",
         "legendgroup": "Copper",
         "marker": {
          "color": "#ab63fa",
          "symbol": "circle"
         },
         "mode": "markers",
         "name": "Copper",
         "showlegend": true,
         "type": "scattergl",
         "x": [
          "Wheat Flour"
         ],
         "xaxis": "x",
         "y": [
          49
         ],
         "yaxis": "y"
        },
        {
         "hovertemplate": "NutritionalInformation=Manganese<br>IngredientResearch=%{x}<br>index=%{y}<extra></extra>",
         "legendgroup": "Manganese",
         "marker": {
          "color": "#FFA15A",
          "symbol": "circle"
         },
         "mode": "markers",
         "name": "Manganese",
         "showlegend": true,
         "type": "scattergl",
         "x": [
          "Wheat Flour",
          "Apple",
          "Pineapple"
         ],
         "xaxis": "x",
         "y": [
          50,
          1436,
          1457
         ],
         "yaxis": "y"
        },
        {
         "hovertemplate": "NutritionalInformation=Saturated Fat<br>IngredientResearch=%{x}<br>index=%{y}<extra></extra>",
         "legendgroup": "Saturated Fat",
         "marker": {
          "color": "#19d3f3",
          "symbol": "circle"
         },
         "mode": "markers",
         "name": "Saturated Fat",
         "showlegend": true,
         "type": "scattergl",
         "x": [
          "Refined Palm Oil",
          "Sesame Oil",
          "Palm Oil",
          "Canola Oil",
          "Mustard Oil",
          "Sunflower Oil"
         ],
         "xaxis": "x",
         "y": [
          53,
          159,
          669,
          1169,
          1220,
          1258
         ],
         "yaxis": "y"
        },
        {
         "hovertemplate": "NutritionalInformation=Monounsaturated Fat<br>IngredientResearch=%{x}<br>index=%{y}<extra></extra>",
         "legendgroup": "Monounsaturated Fat",
         "marker": {
          "color": "#FF6692",
          "symbol": "circle"
         },
         "mode": "markers",
         "name": "Monounsaturated Fat",
         "showlegend": true,
         "type": "scattergl",
         "x": [
          "Refined Palm Oil",
          "Sesame Oil",
          "Palm Oil",
          "Canola Oil",
          "Mustard Oil",
          "Sunflower Oil"
         ],
         "xaxis": "x",
         "y": [
          54,
          160,
          670,
          1170,
          1221,
          1259
         ],
         "yaxis": "y"
        },
        {
         "hovertemplate": "NutritionalInformation=Polyunsaturated Fat<br>IngredientResearch=%{x}<br>index=%{y}<extra></extra>",
         "legendgroup": "Polyunsaturated Fat",
         "marker": {
          "color": "#B6E880",
          "symbol": "circle"
         },
         "mode": "markers",
         "name": "Polyunsaturated Fat",
         "showlegend": true,
         "type": "scattergl",
         "x": [
          "Refined Palm Oil",
          "Sesame Oil",
          "Palm Oil",
          "Canola Oil",
          "Mustard Oil",
          "Sunflower Oil"
         ],
         "xaxis": "x",
         "y": [
          55,
          161,
          671,
          1171,
          1222,
          1260
         ],
         "yaxis": "y"
        },
        {
         "hovertemplate": "NutritionalInformation=Vitamin E<br>IngredientResearch=%{x}<br>index=%{y}<extra></extra>",
         "legendgroup": "Vitamin E",
         "marker": {
          "color": "#FF97FF",
          "symbol": "circle"
         },
         "mode": "markers",
         "name": "Vitamin E",
         "showlegend": true,
         "type": "scattergl",
         "x": [
          "Refined Palm Oil",
          "Sesame Oil",
          "Vegetable Fat",
          "Antioxidant E307B",
          "Palm Oil",
          "Mustard Oil",
          "Sunflower Oil",
          "Antioxidant Tocopherols"
         ],
         "xaxis": "x",
         "y": [
          56,
          162,
          252,
          662,
          672,
          1223,
          1261,
          1264
         ],
         "yaxis": "y"
        },
        {
         "hovertemplate": "NutritionalInformation=Vitamin A<br>IngredientResearch=%{x}<br>index=%{y}<extra></extra>",
         "legendgroup": "Vitamin A",
         "marker": {
          "color": "#FECB52",
          "symbol": "circle"
         },
         "mode": "markers",
         "name": "Vitamin A",
         "showlegend": true,
         "type": "scattergl",
         "x": [
          "Refined Palm Oil",
          "Lutein",
          "Beta carotene",
          "Vitamin A",
          "Tomato Juice",
          "Free Range Egg Yolk",
          "Carotene",
          "Paprika"
         ],
         "xaxis": "x",
         "y": [
          57,
          508,
          818,
          951,
          1002,
          1185,
          1196,
          1297
         ],
         "yaxis": "y"
        },
        {
         "hovertemplate": "NutritionalInformation=Vitamin D<br>IngredientResearch=%{x}<br>index=%{y}<extra></extra>",
         "legendgroup": "Vitamin D",
         "marker": {
          "color": "#636efa",
          "symbol": "circle"
         },
         "mode": "markers",
         "name": "Vitamin D",
         "showlegend": true,
         "type": "scattergl",
         "x": [
          "Refined Palm Oil",
          "Pasteurised Homogenised Milk",
          "Homogenised Full Cream Milk",
          "Sardines",
          "Free Range Egg Yolk"
         ],
         "xaxis": "x",
         "y": [
          58,
          974,
          1022,
          1027,
          1186
         ],
         "yaxis": "y"
        },
        {
         "hovertemplate": "NutritionalInformation=Sodium<br>IngredientResearch=%{x}<br>index=%{y}<extra></extra>",
         "legendgroup": "Sodium",
         "marker": {
          "color": "#EF553B",
          "symbol": "circle"
         },
         "mode": "markers",
         "name": "Sodium",
         "showlegend": true,
         "type": "scattergl",
         "x": [
          "Salt",
          "Sodium Bicarbonate",
          "Mineral Salt 508",
          "Mineral Salt 451",
          "Iodised Salt",
          "Potassium Chloride",
          "Mineral Salt 501",
          "Mineral Salt 500",
          "Mineral Salt 450",
          "Carbonated Mineral Water",
          "Sodium Citrate",
          "Sodium Bicarbonate",
          "Wheat Glucose Syrup",
          "Egg White",
          "Sodium Bicarbonate",
          "Sodium Carbonate",
          "Thickener Modified Corn Starch",
          "Milk Lactose",
          "Sodium Citrate"
         ],
         "xaxis": "x",
         "y": [
          63,
          75,
          220,
          221,
          232,
          300,
          349,
          352,
          357,
          405,
          482,
          548,
          602,
          617,
          639,
          725,
          1059,
          1321,
          1362
         ],
         "yaxis": "y"
        },
        {
         "hovertemplate": "NutritionalInformation=Iodine<br>IngredientResearch=%{x}<br>index=%{y}<extra></extra>",
         "legendgroup": "Iodine",
         "marker": {
          "color": "#00cc96",
          "symbol": "circle"
         },
         "mode": "markers",
         "name": "Iodine",
         "showlegend": true,
         "type": "scattergl",
         "x": [
          "Salt",
          "Iodised Salt"
         ],
         "xaxis": "x",
         "y": [
          64,
          233
         ],
         "yaxis": "y"
        },
        {
         "hovertemplate": "NutritionalInformation=Potassium<br>IngredientResearch=%{x}<br>index=%{y}<extra></extra>",
         "legendgroup": "Potassium",
         "marker": {
          "color": "#ab63fa",
          "symbol": "circle"
         },
         "mode": "markers",
         "name": "Potassium",
         "showlegend": true,
         "type": "scattergl",
         "x": [
          "Acidity Regulator 501",
          "Mineral Salt 508",
          "Potassium Chloride",
          "Mineral Salt 500",
          "Potassium Bicarbonate",
          "Potassium Citrate",
          "Pasteurised Homogenised Milk",
          "Fructose",
          "Tomato Juice",
          "Tomato Paste",
          "Tomatoes",
          "Potatoes",
          "Fruit Peach",
          "Apple"
         ],
         "xaxis": "x",
         "y": [
          73,
          219,
          299,
          355,
          426,
          956,
          976,
          987,
          1001,
          1082,
          1107,
          1253,
          1386,
          1434
         ],
         "yaxis": "y"
        },
        {
         "hovertemplate": "NutritionalInformation=Dietary Fiber<br>IngredientResearch=%{x}<br>index=%{y}<extra></extra>",
         "legendgroup": "Dietary Fiber",
         "marker": {
          "color": "#FFA15A",
          "symbol": "circle"
         },
         "mode": "markers",
         "name": "Dietary Fiber",
         "showlegend": true,
         "type": "scattergl",
         "x": [
          "Guar Gum",
          "Garlic Powder",
          "Onion Powder",
          "Onion",
          "Guar Gum",
          "Turmeric",
          "Spice Cardamom",
          "Spice Ginger",
          "White Pepper",
          "Rosemary",
          "Guar Gum",
          "Apple Pulp",
          "Clove",
          "Nutmeg",
          "Maize Maltodextrin",
          "Tomato Powder",
          "Turmeric",
          "Vegetable Powder Garlic",
          "Xanthan Gum",
          "Pear",
          "Apple",
          "Pineapple"
         ],
         "xaxis": "x",
         "y": [
          80,
          101,
          107,
          133,
          230,
          262,
          283,
          293,
          386,
          391,
          1014,
          1073,
          1133,
          1140,
          1161,
          1290,
          1304,
          1316,
          1357,
          1391,
          1432,
          1455
         ],
         "yaxis": "y"
        },
        {
         "hovertemplate": "NutritionalInformation=Sugars<br>IngredientResearch=%{x}<br>index=%{y}<extra></extra>",
         "legendgroup": "Sugars",
         "marker": {
          "color": "#19d3f3",
          "symbol": "circle"
         },
         "mode": "markers",
         "name": "Sugars",
         "showlegend": true,
         "type": "scattergl",
         "x": [
          "Garlic Powder",
          "Sweetened Condensed Milk",
          "Golden Syrup",
          "Wheat Glucose Syrup",
          "Barley Malt Extract",
          "Milk Chocolate Chips",
          "Dextrose",
          "Reconstituted Apple Juice",
          "Reconstituted Apple Juice",
          "Reconstituted Fruit Juice Orange",
          "Reconstituted Fruit Juice Passionfruit",
          "Reconstituted Fruit Juice Grape",
          "Reconstituted Fruit Juice Water Extracted Orange",
          "Fruit Peach",
          "Refined Fruit Juice Grape",
          "Clarified Pineapple Juice Concentrate"
         ],
         "xaxis": "x",
         "y": [
          102,
          571,
          576,
          603,
          612,
          762,
          765,
          877,
          892,
          900,
          907,
          926,
          964,
          1383,
          1404,
          1467
         ],
         "yaxis": "y"
        },
        {
         "hovertemplate": "NutritionalInformation=B Vitamins<br>IngredientResearch=%{x}<br>index=%{y}<extra></extra>",
         "legendgroup": "B Vitamins",
         "marker": {
          "color": "#FF6692",
          "symbol": "circle"
         },
         "mode": "markers",
         "name": "B Vitamins",
         "showlegend": true,
         "type": "scattergl",
         "x": [
          "Yeast Extract"
         ],
         "xaxis": "x",
         "y": [
          112
         ],
         "yaxis": "y"
        },
        {
         "hovertemplate": "NutritionalInformation=Vitamin C<br>IngredientResearch=%{x}<br>index=%{y}<extra></extra>",
         "legendgroup": "Vitamin C",
         "marker": {
          "color": "#B6E880",
          "symbol": "circle"
         },
         "mode": "markers",
         "name": "Vitamin C",
         "showlegend": true,
         "type": "scattergl",
         "x": [
          "Onion",
          "Chilli",
          "Parsley",
          "Rosemary",
          "Ascorbic Acid",
          "Wheat Glucose Syrup",
          "Strawberry",
          "Reconstituted Apple Juice",
          "Vitamin C",
          "Reconstituted Mango Juice",
          "Reconstituted Fruit Juice Orange",
          "Reconstituted Fruit Juice Passionfruit",
          "Reconstituted Fruit Juice Blackcurrant",
          "Reconstituted Fruit Juice Grape",
          "Reconstituted Fruit Juice Peach",
          "Guava Puree",
          "Reconstituted Fruit Juice Water Extracted Orange",
          "Fructose",
          "Tomato Juice",
          "Reconstituted Tomato Puree",
          "Tomato Paste",
          "Tomatoes",
          "Tamarind Paste",
          "Clove",
          "Tomato Puree",
          "Dill",
          "Potatoes",
          "Ascorbic Acid",
          "Tomato Powder",
          "Paprika",
          "Vegetable Powder Tomato",
          "Fruit Peach",
          "Apple",
          "Diced Peaches",
          "Pineapple",
          "Pineapple Juice"
         ],
         "xaxis": "x",
         "y": [
          134,
          171,
          314,
          392,
          495,
          604,
          756,
          878,
          886,
          897,
          901,
          909,
          918,
          927,
          936,
          949,
          962,
          985,
          1000,
          1052,
          1081,
          1110,
          1127,
          1128,
          1145,
          1212,
          1252,
          1269,
          1291,
          1293,
          1326,
          1380,
          1433,
          1441,
          1456,
          1462
         ],
         "yaxis": "y"
        },
        {
         "hovertemplate": "NutritionalInformation=Vitamins and Minerals<br>IngredientResearch=%{x}<br>index=%{y}<extra></extra>",
         "legendgroup": "Vitamins and Minerals",
         "marker": {
          "color": "#FF97FF",
          "symbol": "circle"
         },
         "mode": "markers",
         "name": "Vitamins and Minerals",
         "showlegend": true,
         "type": "scattergl",
         "x": [
          "Wheat",
          "Spice Chilli Powder",
          "Spice Ginger",
          "Cocoa Butter"
         ],
         "xaxis": "x",
         "y": [
          147,
          288,
          294,
          522
         ],
         "yaxis": "y"
        },
        {
         "hovertemplate": "NutritionalInformation=Vitamins<br>IngredientResearch=%{x}<br>index=%{y}<extra></extra>",
         "legendgroup": "Vitamins",
         "marker": {
          "color": "#FECB52",
          "symbol": "circle"
         },
         "mode": "markers",
         "name": "Vitamins",
         "showlegend": true,
         "type": "scattergl",
         "x": [
          "Citric Acid",
          "Parsley Flakes",
          "Coriander",
          "Carminic Acid",
          "Colouring Agent Spirulina Extract",
          "Maize Maltodextrin",
          "Refined Fruit Juice Apple",
          "Refined Fruit Juice Grape",
          "Refined Fruit Juice Pear"
         ],
         "xaxis": "x",
         "y": [
          185,
          257,
          271,
          500,
          816,
          1159,
          1401,
          1405,
          1415
         ],
         "yaxis": "y"
        },
        {
         "hovertemplate": "NutritionalInformation=Minerals<br>IngredientResearch=%{x}<br>index=%{y}<extra></extra>",
         "legendgroup": "Minerals",
         "marker": {
          "color": "#636efa",
          "symbol": "circle"
         },
         "mode": "markers",
         "name": "Minerals",
         "showlegend": true,
         "type": "scattergl",
         "x": [
          "Citric Acid",
          "Coriander",
          "Carminic Acid",
          "Carnauba Wax",
          "Colouring Agent Spirulina Extract",
          "Maize Maltodextrin",
          "Natural Spring Water",
          "Australian Spring Water",
          "Refined Fruit Juice Apple",
          "Refined Fruit Juice Pear"
         ],
         "xaxis": "x",
         "y": [
          186,
          272,
          501,
          809,
          817,
          1160,
          1241,
          1246,
          1400,
          1414
         ],
         "yaxis": "y"
        },
        {
         "hovertemplate": "NutritionalInformation=Energy<br>IngredientResearch=%{x}<br>index=%{y}<extra></extra>",
         "legendgroup": "Energy",
         "marker": {
          "color": "#EF553B",
          "symbol": "circle"
         },
         "mode": "markers",
         "name": "Energy",
         "showlegend": true,
         "type": "scattergl",
         "x": [
          "Antioxidant 320"
         ],
         "xaxis": "x",
         "y": [
          214
         ],
         "yaxis": "y"
        },
        {
         "hovertemplate": "NutritionalInformation=Chloride<br>IngredientResearch=%{x}<br>index=%{y}<extra></extra>",
         "legendgroup": "Chloride",
         "marker": {
          "color": "#00cc96",
          "symbol": "circle"
         },
         "mode": "markers",
         "name": "Chloride",
         "showlegend": true,
         "type": "scattergl",
         "x": [
          "Iodised Salt"
         ],
         "xaxis": "x",
         "y": [
          234
         ],
         "yaxis": "y"
        },
        {
         "hovertemplate": "NutritionalInformation=Calcium<br>IngredientResearch=%{x}<br>index=%{y}<extra></extra>",
         "legendgroup": "Calcium",
         "marker": {
          "color": "#ab63fa",
          "symbol": "circle"
         },
         "mode": "markers",
         "name": "Calcium",
         "showlegend": true,
         "type": "scattergl",
         "x": [
          "Mineral Salt 501",
          "Mineral Salt 500",
          "Carbonated Mineral Water",
          "Natural Mineral Water",
          "Milk Solids",
          "Milk",
          "Full Cream Milk",
          "Wheat Glucose Syrup",
          "Milk Whey Powder",
          "Pasteurised Homogenised Milk",
          "Sardines",
          "Skim Milk",
          "Clove",
          "Buttermilk Powder",
          "Calcium Lactate"
         ],
         "xaxis": "x",
         "y": [
          351,
          354,
          407,
          421,
          517,
          533,
          562,
          605,
          696,
          969,
          1028,
          1037,
          1134,
          1335,
          1367
         ],
         "yaxis": "y"
        },
        {
         "hovertemplate": "NutritionalInformation=Micronutrients<br>IngredientResearch=%{x}<br>index=%{y}<extra></extra>",
         "legendgroup": "Micronutrients",
         "marker": {
          "color": "#FFA15A",
          "symbol": "circle"
         },
         "mode": "markers",
         "name": "Micronutrients",
         "showlegend": true,
         "type": "scattergl",
         "x": [
          "Carminic Acid"
         ],
         "xaxis": "x",
         "y": [
          502
         ],
         "yaxis": "y"
        },
        {
         "hovertemplate": "NutritionalInformation=Lutein<br>IngredientResearch=%{x}<br>index=%{y}<extra></extra>",
         "legendgroup": "Lutein",
         "marker": {
          "color": "#19d3f3",
          "symbol": "circle"
         },
         "mode": "markers",
         "name": "Lutein",
         "showlegend": true,
         "type": "scattergl",
         "x": [
          "Lutein"
         ],
         "xaxis": "x",
         "y": [
          507
         ],
         "yaxis": "y"
        },
        {
         "hovertemplate": "NutritionalInformation=Choline<br>IngredientResearch=%{x}<br>index=%{y}<extra></extra>",
         "legendgroup": "Choline",
         "marker": {
          "color": "#FF6692",
          "symbol": "circle"
         },
         "mode": "markers",
         "name": "Choline",
         "showlegend": true,
         "type": "scattergl",
         "x": [
          "Emulsifier Soy Lecithin"
         ],
         "xaxis": "x",
         "y": [
          523
         ],
         "yaxis": "y"
        },
        {
         "hovertemplate": "NutritionalInformation=Fats<br>IngredientResearch=%{x}<br>index=%{y}<extra></extra>",
         "legendgroup": "Fats",
         "marker": {
          "color": "#B6E880",
          "symbol": "circle"
         },
         "mode": "markers",
         "name": "Fats",
         "showlegend": true,
         "type": "scattergl",
         "x": [
          "Cocoa",
          "Full Cream Milk"
         ],
         "xaxis": "x",
         "y": [
          539,
          559
         ],
         "yaxis": "y"
        },
        {
         "hovertemplate": "NutritionalInformation=Proteins<br>IngredientResearch=%{x}<br>index=%{y}<extra></extra>",
         "legendgroup": "Proteins",
         "marker": {
          "color": "#FF97FF",
          "symbol": "circle"
         },
         "mode": "markers",
         "name": "Proteins",
         "showlegend": true,
         "type": "scattergl",
         "x": [
          "Cocoa",
          "Full Cream Milk"
         ],
         "xaxis": "x",
         "y": [
          541,
          561
         ],
         "yaxis": "y"
        },
        {
         "hovertemplate": "NutritionalInformation=Not applicable<br>IngredientResearch=%{x}<br>index=%{y}<extra></extra>",
         "legendgroup": "Not applicable",
         "marker": {
          "color": "#FECB52",
          "symbol": "circle"
         },
         "mode": "markers",
         "name": "Not applicable",
         "showlegend": true,
         "type": "scattergl",
         "x": [
          "Processing Aid Wheat",
          "",
          "Polyethylene",
          "Polybutene",
          "Mica",
          "Ultramarines"
         ],
         "xaxis": "x",
         "y": [
          553,
          832,
          833,
          844,
          857,
          858
         ],
         "yaxis": "y"
        },
        {
         "hovertemplate": "NutritionalInformation=Cholesterol<br>IngredientResearch=%{x}<br>index=%{y}<extra></extra>",
         "legendgroup": "Cholesterol",
         "marker": {
          "color": "#636efa",
          "symbol": "circle"
         },
         "mode": "markers",
         "name": "Cholesterol",
         "showlegend": true,
         "type": "scattergl",
         "x": [
          "Egg White",
          "Egg",
          "Canola Oil",
          "Free Range Egg Yolk"
         ],
         "xaxis": "x",
         "y": [
          618,
          771,
          1168,
          1184
         ],
         "yaxis": "y"
        },
        {
         "hovertemplate": "NutritionalInformation=N/A<br>IngredientResearch=%{x}<br>index=%{y}<extra></extra>",
         "legendgroup": "N/A",
         "marker": {
          "color": "#EF553B",
          "symbol": "circle"
         },
         "mode": "markers",
         "name": "N/A",
         "showlegend": true,
         "type": "scattergl",
         "x": [
          "Enzymes",
          "Emulsifier 442",
          "",
          ""
         ],
         "xaxis": "x",
         "y": [
          640,
          766,
          838,
          843
         ],
         "yaxis": "y"
        },
        {
         "hovertemplate": "NutritionalInformation=Vitamin K<br>IngredientResearch=%{x}<br>index=%{y}<extra></extra>",
         "legendgroup": "Vitamin K",
         "marker": {
          "color": "#00cc96",
          "symbol": "circle"
         },
         "mode": "markers",
         "name": "Vitamin K",
         "showlegend": true,
         "type": "scattergl",
         "x": [
          "Palm Oil",
          "Mustard Oil",
          "Apple"
         ],
         "xaxis": "x",
         "y": [
          673,
          1224,
          1435
         ],
         "yaxis": "y"
        },
        {
         "hovertemplate": "NutritionalInformation=Sugar<br>IngredientResearch=%{x}<br>index=%{y}<extra></extra>",
         "legendgroup": "Sugar",
         "marker": {
          "color": "#ab63fa",
          "symbol": "circle"
         },
         "mode": "markers",
         "name": "Sugar",
         "showlegend": true,
         "type": "scattergl",
         "x": [
          "Dark Chocolate Chips",
          "Reconstituted Fruit Juice Blackcurrant",
          "Thickener Modified Corn Starch",
          "Pineapple Juice"
         ],
         "xaxis": "x",
         "y": [
          706,
          919,
          1058,
          1463
         ],
         "yaxis": "y"
        },
        {
         "hovertemplate": "NutritionalInformation=Cyanide<br>IngredientResearch=%{x}<br>index=%{y}<extra></extra>",
         "legendgroup": "Cyanide",
         "marker": {
          "color": "#FFA15A",
          "symbol": "circle"
         },
         "mode": "markers",
         "name": "Cyanide",
         "showlegend": true,
         "type": "scattergl",
         "x": [
          "Ferric Ferrocyanide"
         ],
         "xaxis": "x",
         "y": [
          869
         ],
         "yaxis": "y"
        },
        {
         "hovertemplate": "NutritionalInformation=Vitamin B12<br>IngredientResearch=%{x}<br>index=%{y}<extra></extra>",
         "legendgroup": "Vitamin B12",
         "marker": {
          "color": "#19d3f3",
          "symbol": "circle"
         },
         "mode": "markers",
         "name": "Vitamin B12",
         "showlegend": true,
         "type": "scattergl",
         "x": [
          "Pasteurised Homogenised Milk"
         ],
         "xaxis": "x",
         "y": [
          975
         ],
         "yaxis": "y"
        },
        {
         "hovertemplate": "NutritionalInformation=Lycopene<br>IngredientResearch=%{x}<br>index=%{y}<extra></extra>",
         "legendgroup": "Lycopene",
         "marker": {
          "color": "#FF6692",
          "symbol": "circle"
         },
         "mode": "markers",
         "name": "Lycopene",
         "showlegend": true,
         "type": "scattergl",
         "x": [
          "Tomato Juice",
          "Tomato Puree"
         ],
         "xaxis": "x",
         "y": [
          1003,
          1146
         ],
         "yaxis": "y"
        },
        {
         "hovertemplate": "NutritionalInformation=Omega-3 Fatty Acids<br>IngredientResearch=%{x}<br>index=%{y}<extra></extra>",
         "legendgroup": "Omega-3 Fatty Acids",
         "marker": {
          "color": "#B6E880",
          "symbol": "circle"
         },
         "mode": "markers",
         "name": "Omega-3 Fatty Acids",
         "showlegend": true,
         "type": "scattergl",
         "x": [
          "Sardines"
         ],
         "xaxis": "x",
         "y": [
          1026
         ],
         "yaxis": "y"
        },
        {
         "hovertemplate": "NutritionalInformation=Trans Fat<br>IngredientResearch=%{x}<br>index=%{y}<extra></extra>",
         "legendgroup": "Trans Fat",
         "marker": {
          "color": "#FF97FF",
          "symbol": "circle"
         },
         "mode": "markers",
         "name": "Trans Fat",
         "showlegend": true,
         "type": "scattergl",
         "x": [
          "Canola Oil"
         ],
         "xaxis": "x",
         "y": [
          1172
         ],
         "yaxis": "y"
        },
        {
         "hovertemplate": "NutritionalInformation=Selenium<br>IngredientResearch=%{x}<br>index=%{y}<extra></extra>",
         "legendgroup": "Selenium",
         "marker": {
          "color": "#FECB52",
          "symbol": "circle"
         },
         "mode": "markers",
         "name": "Selenium",
         "showlegend": true,
         "type": "scattergl",
         "x": [
          "Free Range Egg Yolk"
         ],
         "xaxis": "x",
         "y": [
          1189
         ],
         "yaxis": "y"
        },
        {
         "hovertemplate": "NutritionalInformation=Vitamin B6<br>IngredientResearch=%{x}<br>index=%{y}<extra></extra>",
         "legendgroup": "Vitamin B6",
         "marker": {
          "color": "#636efa",
          "symbol": "circle"
         },
         "mode": "markers",
         "name": "Vitamin B6",
         "showlegend": true,
         "type": "scattergl",
         "x": [
          "Potatoes"
         ],
         "xaxis": "x",
         "y": [
          1254
         ],
         "yaxis": "y"
        },
        {
         "hovertemplate": "NutritionalInformation=Phytosterols<br>IngredientResearch=%{x}<br>index=%{y}<extra></extra>",
         "legendgroup": "Phytosterols",
         "marker": {
          "color": "#EF553B",
          "symbol": "circle"
         },
         "mode": "markers",
         "name": "Phytosterols",
         "showlegend": true,
         "type": "scattergl",
         "x": [
          "Sunflower Oil"
         ],
         "xaxis": "x",
         "y": [
          1262
         ],
         "yaxis": "y"
        },
        {
         "hovertemplate": "NutritionalInformation=Squalene<br>IngredientResearch=%{x}<br>index=%{y}<extra></extra>",
         "legendgroup": "Squalene",
         "marker": {
          "color": "#00cc96",
          "symbol": "circle"
         },
         "mode": "markers",
         "name": "Squalene",
         "showlegend": true,
         "type": "scattergl",
         "x": [
          "Sunflower Oil"
         ],
         "xaxis": "x",
         "y": [
          1263
         ],
         "yaxis": "y"
        }
       ],
       "layout": {
        "legend": {
         "title": {
          "text": "NutritionalInformation"
         },
         "tracegroupgap": 0
        },
        "template": {
         "data": {
          "bar": [
           {
            "error_x": {
             "color": "#2a3f5f"
            },
            "error_y": {
             "color": "#2a3f5f"
            },
            "marker": {
             "line": {
              "color": "#E5ECF6",
              "width": 0.5
             },
             "pattern": {
              "fillmode": "overlay",
              "size": 10,
              "solidity": 0.2
             }
            },
            "type": "bar"
           }
          ],
          "barpolar": [
           {
            "marker": {
             "line": {
              "color": "#E5ECF6",
              "width": 0.5
             },
             "pattern": {
              "fillmode": "overlay",
              "size": 10,
              "solidity": 0.2
             }
            },
            "type": "barpolar"
           }
          ],
          "carpet": [
           {
            "aaxis": {
             "endlinecolor": "#2a3f5f",
             "gridcolor": "white",
             "linecolor": "white",
             "minorgridcolor": "white",
             "startlinecolor": "#2a3f5f"
            },
            "baxis": {
             "endlinecolor": "#2a3f5f",
             "gridcolor": "white",
             "linecolor": "white",
             "minorgridcolor": "white",
             "startlinecolor": "#2a3f5f"
            },
            "type": "carpet"
           }
          ],
          "choropleth": [
           {
            "colorbar": {
             "outlinewidth": 0,
             "ticks": ""
            },
            "type": "choropleth"
           }
          ],
          "contour": [
           {
            "colorbar": {
             "outlinewidth": 0,
             "ticks": ""
            },
            "colorscale": [
             [
              0,
              "#0d0887"
             ],
             [
              0.1111111111111111,
              "#46039f"
             ],
             [
              0.2222222222222222,
              "#7201a8"
             ],
             [
              0.3333333333333333,
              "#9c179e"
             ],
             [
              0.4444444444444444,
              "#bd3786"
             ],
             [
              0.5555555555555556,
              "#d8576b"
             ],
             [
              0.6666666666666666,
              "#ed7953"
             ],
             [
              0.7777777777777778,
              "#fb9f3a"
             ],
             [
              0.8888888888888888,
              "#fdca26"
             ],
             [
              1,
              "#f0f921"
             ]
            ],
            "type": "contour"
           }
          ],
          "contourcarpet": [
           {
            "colorbar": {
             "outlinewidth": 0,
             "ticks": ""
            },
            "type": "contourcarpet"
           }
          ],
          "heatmap": [
           {
            "colorbar": {
             "outlinewidth": 0,
             "ticks": ""
            },
            "colorscale": [
             [
              0,
              "#0d0887"
             ],
             [
              0.1111111111111111,
              "#46039f"
             ],
             [
              0.2222222222222222,
              "#7201a8"
             ],
             [
              0.3333333333333333,
              "#9c179e"
             ],
             [
              0.4444444444444444,
              "#bd3786"
             ],
             [
              0.5555555555555556,
              "#d8576b"
             ],
             [
              0.6666666666666666,
              "#ed7953"
             ],
             [
              0.7777777777777778,
              "#fb9f3a"
             ],
             [
              0.8888888888888888,
              "#fdca26"
             ],
             [
              1,
              "#f0f921"
             ]
            ],
            "type": "heatmap"
           }
          ],
          "heatmapgl": [
           {
            "colorbar": {
             "outlinewidth": 0,
             "ticks": ""
            },
            "colorscale": [
             [
              0,
              "#0d0887"
             ],
             [
              0.1111111111111111,
              "#46039f"
             ],
             [
              0.2222222222222222,
              "#7201a8"
             ],
             [
              0.3333333333333333,
              "#9c179e"
             ],
             [
              0.4444444444444444,
              "#bd3786"
             ],
             [
              0.5555555555555556,
              "#d8576b"
             ],
             [
              0.6666666666666666,
              "#ed7953"
             ],
             [
              0.7777777777777778,
              "#fb9f3a"
             ],
             [
              0.8888888888888888,
              "#fdca26"
             ],
             [
              1,
              "#f0f921"
             ]
            ],
            "type": "heatmapgl"
           }
          ],
          "histogram": [
           {
            "marker": {
             "pattern": {
              "fillmode": "overlay",
              "size": 10,
              "solidity": 0.2
             }
            },
            "type": "histogram"
           }
          ],
          "histogram2d": [
           {
            "colorbar": {
             "outlinewidth": 0,
             "ticks": ""
            },
            "colorscale": [
             [
              0,
              "#0d0887"
             ],
             [
              0.1111111111111111,
              "#46039f"
             ],
             [
              0.2222222222222222,
              "#7201a8"
             ],
             [
              0.3333333333333333,
              "#9c179e"
             ],
             [
              0.4444444444444444,
              "#bd3786"
             ],
             [
              0.5555555555555556,
              "#d8576b"
             ],
             [
              0.6666666666666666,
              "#ed7953"
             ],
             [
              0.7777777777777778,
              "#fb9f3a"
             ],
             [
              0.8888888888888888,
              "#fdca26"
             ],
             [
              1,
              "#f0f921"
             ]
            ],
            "type": "histogram2d"
           }
          ],
          "histogram2dcontour": [
           {
            "colorbar": {
             "outlinewidth": 0,
             "ticks": ""
            },
            "colorscale": [
             [
              0,
              "#0d0887"
             ],
             [
              0.1111111111111111,
              "#46039f"
             ],
             [
              0.2222222222222222,
              "#7201a8"
             ],
             [
              0.3333333333333333,
              "#9c179e"
             ],
             [
              0.4444444444444444,
              "#bd3786"
             ],
             [
              0.5555555555555556,
              "#d8576b"
             ],
             [
              0.6666666666666666,
              "#ed7953"
             ],
             [
              0.7777777777777778,
              "#fb9f3a"
             ],
             [
              0.8888888888888888,
              "#fdca26"
             ],
             [
              1,
              "#f0f921"
             ]
            ],
            "type": "histogram2dcontour"
           }
          ],
          "mesh3d": [
           {
            "colorbar": {
             "outlinewidth": 0,
             "ticks": ""
            },
            "type": "mesh3d"
           }
          ],
          "parcoords": [
           {
            "line": {
             "colorbar": {
              "outlinewidth": 0,
              "ticks": ""
             }
            },
            "type": "parcoords"
           }
          ],
          "pie": [
           {
            "automargin": true,
            "type": "pie"
           }
          ],
          "scatter": [
           {
            "fillpattern": {
             "fillmode": "overlay",
             "size": 10,
             "solidity": 0.2
            },
            "type": "scatter"
           }
          ],
          "scatter3d": [
           {
            "line": {
             "colorbar": {
              "outlinewidth": 0,
              "ticks": ""
             }
            },
            "marker": {
             "colorbar": {
              "outlinewidth": 0,
              "ticks": ""
             }
            },
            "type": "scatter3d"
           }
          ],
          "scattercarpet": [
           {
            "marker": {
             "colorbar": {
              "outlinewidth": 0,
              "ticks": ""
             }
            },
            "type": "scattercarpet"
           }
          ],
          "scattergeo": [
           {
            "marker": {
             "colorbar": {
              "outlinewidth": 0,
              "ticks": ""
             }
            },
            "type": "scattergeo"
           }
          ],
          "scattergl": [
           {
            "marker": {
             "colorbar": {
              "outlinewidth": 0,
              "ticks": ""
             }
            },
            "type": "scattergl"
           }
          ],
          "scattermapbox": [
           {
            "marker": {
             "colorbar": {
              "outlinewidth": 0,
              "ticks": ""
             }
            },
            "type": "scattermapbox"
           }
          ],
          "scatterpolar": [
           {
            "marker": {
             "colorbar": {
              "outlinewidth": 0,
              "ticks": ""
             }
            },
            "type": "scatterpolar"
           }
          ],
          "scatterpolargl": [
           {
            "marker": {
             "colorbar": {
              "outlinewidth": 0,
              "ticks": ""
             }
            },
            "type": "scatterpolargl"
           }
          ],
          "scatterternary": [
           {
            "marker": {
             "colorbar": {
              "outlinewidth": 0,
              "ticks": ""
             }
            },
            "type": "scatterternary"
           }
          ],
          "surface": [
           {
            "colorbar": {
             "outlinewidth": 0,
             "ticks": ""
            },
            "colorscale": [
             [
              0,
              "#0d0887"
             ],
             [
              0.1111111111111111,
              "#46039f"
             ],
             [
              0.2222222222222222,
              "#7201a8"
             ],
             [
              0.3333333333333333,
              "#9c179e"
             ],
             [
              0.4444444444444444,
              "#bd3786"
             ],
             [
              0.5555555555555556,
              "#d8576b"
             ],
             [
              0.6666666666666666,
              "#ed7953"
             ],
             [
              0.7777777777777778,
              "#fb9f3a"
             ],
             [
              0.8888888888888888,
              "#fdca26"
             ],
             [
              1,
              "#f0f921"
             ]
            ],
            "type": "surface"
           }
          ],
          "table": [
           {
            "cells": {
             "fill": {
              "color": "#EBF0F8"
             },
             "line": {
              "color": "white"
             }
            },
            "header": {
             "fill": {
              "color": "#C8D4E3"
             },
             "line": {
              "color": "white"
             }
            },
            "type": "table"
           }
          ]
         },
         "layout": {
          "annotationdefaults": {
           "arrowcolor": "#2a3f5f",
           "arrowhead": 0,
           "arrowwidth": 1
          },
          "autotypenumbers": "strict",
          "coloraxis": {
           "colorbar": {
            "outlinewidth": 0,
            "ticks": ""
           }
          },
          "colorscale": {
           "diverging": [
            [
             0,
             "#8e0152"
            ],
            [
             0.1,
             "#c51b7d"
            ],
            [
             0.2,
             "#de77ae"
            ],
            [
             0.3,
             "#f1b6da"
            ],
            [
             0.4,
             "#fde0ef"
            ],
            [
             0.5,
             "#f7f7f7"
            ],
            [
             0.6,
             "#e6f5d0"
            ],
            [
             0.7,
             "#b8e186"
            ],
            [
             0.8,
             "#7fbc41"
            ],
            [
             0.9,
             "#4d9221"
            ],
            [
             1,
             "#276419"
            ]
           ],
           "sequential": [
            [
             0,
             "#0d0887"
            ],
            [
             0.1111111111111111,
             "#46039f"
            ],
            [
             0.2222222222222222,
             "#7201a8"
            ],
            [
             0.3333333333333333,
             "#9c179e"
            ],
            [
             0.4444444444444444,
             "#bd3786"
            ],
            [
             0.5555555555555556,
             "#d8576b"
            ],
            [
             0.6666666666666666,
             "#ed7953"
            ],
            [
             0.7777777777777778,
             "#fb9f3a"
            ],
            [
             0.8888888888888888,
             "#fdca26"
            ],
            [
             1,
             "#f0f921"
            ]
           ],
           "sequentialminus": [
            [
             0,
             "#0d0887"
            ],
            [
             0.1111111111111111,
             "#46039f"
            ],
            [
             0.2222222222222222,
             "#7201a8"
            ],
            [
             0.3333333333333333,
             "#9c179e"
            ],
            [
             0.4444444444444444,
             "#bd3786"
            ],
            [
             0.5555555555555556,
             "#d8576b"
            ],
            [
             0.6666666666666666,
             "#ed7953"
            ],
            [
             0.7777777777777778,
             "#fb9f3a"
            ],
            [
             0.8888888888888888,
             "#fdca26"
            ],
            [
             1,
             "#f0f921"
            ]
           ]
          },
          "colorway": [
           "#636efa",
           "#EF553B",
           "#00cc96",
           "#ab63fa",
           "#FFA15A",
           "#19d3f3",
           "#FF6692",
           "#B6E880",
           "#FF97FF",
           "#FECB52"
          ],
          "font": {
           "color": "#2a3f5f"
          },
          "geo": {
           "bgcolor": "white",
           "lakecolor": "white",
           "landcolor": "#E5ECF6",
           "showlakes": true,
           "showland": true,
           "subunitcolor": "white"
          },
          "hoverlabel": {
           "align": "left"
          },
          "hovermode": "closest",
          "mapbox": {
           "style": "light"
          },
          "paper_bgcolor": "white",
          "plot_bgcolor": "#E5ECF6",
          "polar": {
           "angularaxis": {
            "gridcolor": "white",
            "linecolor": "white",
            "ticks": ""
           },
           "bgcolor": "#E5ECF6",
           "radialaxis": {
            "gridcolor": "white",
            "linecolor": "white",
            "ticks": ""
           }
          },
          "scene": {
           "xaxis": {
            "backgroundcolor": "#E5ECF6",
            "gridcolor": "white",
            "gridwidth": 2,
            "linecolor": "white",
            "showbackground": true,
            "ticks": "",
            "zerolinecolor": "white"
           },
           "yaxis": {
            "backgroundcolor": "#E5ECF6",
            "gridcolor": "white",
            "gridwidth": 2,
            "linecolor": "white",
            "showbackground": true,
            "ticks": "",
            "zerolinecolor": "white"
           },
           "zaxis": {
            "backgroundcolor": "#E5ECF6",
            "gridcolor": "white",
            "gridwidth": 2,
            "linecolor": "white",
            "showbackground": true,
            "ticks": "",
            "zerolinecolor": "white"
           }
          },
          "shapedefaults": {
           "line": {
            "color": "#2a3f5f"
           }
          },
          "ternary": {
           "aaxis": {
            "gridcolor": "white",
            "linecolor": "white",
            "ticks": ""
           },
           "baxis": {
            "gridcolor": "white",
            "linecolor": "white",
            "ticks": ""
           },
           "bgcolor": "#E5ECF6",
           "caxis": {
            "gridcolor": "white",
            "linecolor": "white",
            "ticks": ""
           }
          },
          "title": {
           "x": 0.05
          },
          "xaxis": {
           "automargin": true,
           "gridcolor": "white",
           "linecolor": "white",
           "ticks": "",
           "title": {
            "standoff": 15
           },
           "zerolinecolor": "white",
           "zerolinewidth": 2
          },
          "yaxis": {
           "automargin": true,
           "gridcolor": "white",
           "linecolor": "white",
           "ticks": "",
           "title": {
            "standoff": 15
           },
           "zerolinecolor": "white",
           "zerolinewidth": 2
          }
         }
        },
        "title": {
         "text": "NutritionInformation and IngredientResearch"
        },
        "xaxis": {
         "anchor": "y",
         "domain": [
          0,
          1
         ],
         "title": {
          "text": "IngredientResearch"
         }
        },
        "yaxis": {
         "anchor": "x",
         "domain": [
          0,
          1
         ],
         "title": {
          "text": "index"
         }
        }
       }
      }
     },
     "metadata": {},
     "output_type": "display_data"
    }
   ],
   "source": [
    "import networkx as nx\n",
    "import matplotlib.pyplot as plt\n",
    "\n",
    "query = \"\"\"\n",
    "MATCH (i:IngredientResearch)-[:HAS_NUTRITIONAL_INFORMATION]->(n:NutritionalInformation)\n",
    "RETURN i.ingredient_name AS IngredientResearch, n.nutrient AS NutritionalInformation\n",
    "\"\"\"\n",
    "with driver.session() as session:\n",
    "    result = session.run(query)\n",
    "    neo4j_data = [record.data() for record in result]\n",
    "\n",
    "\n",
    "df = pd.DataFrame(neo4j_data)\n",
    "\n",
    "\n",
    "fig = px.scatter(df, x=\"IngredientResearch\", color=\"NutritionalInformation\", title=\"NutritionInformation and IngredientResearch\")\n",
    "fig.show()\n"
   ]
  },
  {
   "cell_type": "code",
   "execution_count": 9,
   "metadata": {},
   "outputs": [
    {
     "data": {
      "application/vnd.plotly.v1+json": {
       "config": {
        "plotlyServerURL": "https://plot.ly"
       },
       "data": [
        {
         "alignmentgroup": "True",
         "hovertemplate": "NutritionalInformation=Calories<br>IngredientResearch=%{x}<br>Count=%{y}<extra></extra>",
         "legendgroup": "Calories",
         "marker": {
          "color": "#636efa",
          "pattern": {
           "shape": ""
          }
         },
         "name": "Calories",
         "offsetgroup": "Calories",
         "orientation": "v",
         "showlegend": true,
         "textposition": "auto",
         "type": "bar",
         "x": [
          "",
          "Acesulfame Potassium",
          "Acetic Acid",
          "Acidity Regulator 331",
          "Acidity Regulator 339",
          "Acidity Regulator 451",
          "Acidity Regulator 501",
          "Ammonium Bicarbonate",
          "Ammonium Carbonate",
          "Annatto Extracts",
          "Anthocyanins",
          "Anti Caking Agent 551",
          "Antioxidant 307b",
          "Antioxidant 385",
          "Antioxidant Rosemary Extract",
          "Apple",
          "Apple Pulp",
          "Artificial Flavour",
          "Ascorbic Acid",
          "Aspartame",
          "Australian Spring Water",
          "Baking Powder",
          "Barley Malt Extract",
          "Basil",
          "Bis-Diglyceryl Polyacyladipate-2",
          "Biscuit",
          "Black Carrot Extract",
          "Burnt Sugar",
          "Buttermilk Powder",
          "Caffeine",
          "Calcium Lactate",
          "Canola Oil",
          "Caramel",
          "Caramel Color",
          "Caramel Color 150c",
          "Caramel I",
          "Caramel III",
          "Carbonated Mineral Water",
          "Carbonated Water",
          "Carboxymethyl Cellulose",
          "Carmine",
          "Carminic Acid",
          "Carnauba Wax",
          "Carotene",
          "Carrageenan",
          "Cheese Powder",
          "Chilli",
          "Chilli Sauce",
          "Choc Paste",
          "Chocolate Chips",
          "Citric Acid",
          "Clarified Pineapple Juice Concentrate",
          "Clove",
          "Cochineal",
          "Cocoa",
          "Cocoa Butter",
          "Cocoa Mass",
          "Cocoa Powder",
          "Cocoa Solids",
          "Coconut Extract",
          "Colour 101",
          "Colouring Agent 100",
          "Colouring Agent 150c",
          "Colouring Agent 150d",
          "Colouring Agent 160a",
          "Colouring Agent Caramel IV",
          "Colouring Agent Titan White",
          "Coriander",
          "Cornstarch",
          "Cream",
          "Cultured Dextrose",
          "Cumin",
          "Curcumin",
          "Dark Chocolate Chips",
          "Dark Compound Chocolate Chips",
          "Dehydrated Vegetables",
          "Desiccated Coconut",
          "Dextrose",
          "Diced Peaches",
          "Diced Pears",
          "Dill",
          "Disodium Guanylate",
          "Disodium Inosinate",
          "Durum Wheat Semolina",
          "Egg",
          "Egg White",
          "Emulsifier 471",
          "Flavour",
          "Flavour Celery",
          "Flavour Enhancer 620",
          "Flavour Enhancer 621",
          "Flavour Enhancer 635",
          "Flavour Sachet",
          "Flavoured Milk",
          "Flavours",
          "Flavours Soy",
          "Flavours Wheat",
          "Free Range Egg Yolk",
          "Fried Onion",
          "Fructose",
          "Fruit Peach",
          "Full Cream Milk",
          "Garam Masala",
          "Garlic Powder",
          "Gherkin",
          "Glazing Agent 414",
          "Glucose",
          "Glucose Syrup",
          "Gluten Wheat",
          "Golden Syrup",
          "Guar Gum",
          "Guava Puree",
          "Herb Extract",
          "Herbs",
          "Homogenised Full Cream Milk",
          "Invert Sugar",
          "Iodised Salt",
          "Iron Oxides",
          "Jelly Natural Pineapple Flavour",
          "Lactic Acid",
          "Locust Bean Gum",
          "Lutein",
          "Maize Maltodextrin",
          "Maize Starch",
          "Maize Thickener 1422",
          "Malic Acid",
          "Maltodextrin",
          "Milk",
          "Milk Butter",
          "Milk Chocolate",
          "Milk Chocolate Chips",
          "Milk Compound Chocolate",
          "Milk Lactose",
          "Milk Solids",
          "Milk Whey Powder",
          "Mineral Salt 450",
          "Mineral Salt 508",
          "Modified Starch 1420",
          "Molasses",
          "Mustard Oil",
          "Natural Flavour",
          "Natural Flavour Botanical Extracts",
          "Natural Flavour Butter",
          "Natural Flavour Citrus Oils",
          "Natural Flavour Lemon Peel Extract",
          "Natural Flavour Lime Oils",
          "Natural Flavour Mango",
          "Natural Flavour Orange Peel Extract",
          "Natural Flavour Pineapple",
          "Natural Flavour Vanilla",
          "Natural Flavour Vanilla Extract",
          "Natural Flavours",
          "Natural Mineral Water",
          "Natural Spring Water",
          "Natural Strawberry Flavour",
          "Natural Vanilla Flavour",
          "Nutmeg",
          "Octyldodecanol",
          "Onion",
          "Onion Powder",
          "Palm Oil",
          "Paprika",
          "Paprika Extract",
          "Paprika Oleoresins",
          "Parsley",
          "Parsley Flakes",
          "Pasteurised Homogenised Milk",
          "Pear",
          "Pectin",
          "Pentaerythrityl Tetra-di-t-butyl Hydroxyhydrocinnamate",
          "Pepper",
          "Phosphoric Acid",
          "Pineapple",
          "Pineapple Juice",
          "Plant Extract Carthamus",
          "Plant Extract Gardenia",
          "Polyglycerol Polyricinoleate",
          "Polyglycerol polyricinoleate",
          "Potassium Bicarbonate",
          "Potassium Chloride",
          "Potassium Citrate",
          "Potassium Sorbate",
          "Potato Starch",
          "Potatoes",
          "Preservative 1211",
          "Quinine",
          "Raising Agent 450",
          "Reconstituted Apple Juice",
          "Reconstituted Fruit Juice Apricot",
          "Reconstituted Fruit Juice Blackcurrant",
          "Reconstituted Fruit Juice Grape",
          "Reconstituted Fruit Juice Orange",
          "Reconstituted Fruit Juice Passionfruit",
          "Reconstituted Fruit Juice Peach",
          "Reconstituted Fruit Juice Peach Purée",
          "Reconstituted Fruit Juice Pear",
          "Reconstituted Fruit Juice Pineapple",
          "Reconstituted Fruit Juice Water Extracted Orange",
          "Reconstituted Fruit Puree",
          "Reconstituted Fruit Puree Apple",
          "Reconstituted Fruit Puree Tomato Paste",
          "Reconstituted Lemon Juice",
          "Reconstituted Lime Juice",
          "Reconstituted Mango Juice",
          "Reconstituted Refined Juice Concentrated Pear Juice",
          "Reconstituted Tomato Puree",
          "Refined Fruit Juice",
          "Refined Fruit Juice Apple",
          "Refined Fruit Juice Grape",
          "Refined Fruit Juice Peach",
          "Refined Fruit Juice Pear",
          "Refined Palm Oil",
          "Rice",
          "Rosemary",
          "Safflower Extract",
          "Salt",
          "Sardines",
          "Seasoning Oil",
          "Seasoning Powder",
          "Sesame Oil",
          "Silica",
          "Skim Milk",
          "Skim Milk Powder",
          "Smoke Flavour",
          "Sodium Benzoate",
          "Sodium Bicarbonate",
          "Sodium Carbonate",
          "Sodium Citrate",
          "Sodium Metabisulfite",
          "Sorbitan Tristearate",
          "Soy",
          "Soy Bean",
          "Soy Sauce Powder",
          "Spice Cardamom",
          "Spice Chilli Powder",
          "Spice Extract",
          "Spice Ginger",
          "Spices",
          "Stabiliser 422",
          "Strawberry",
          "Sulphites",
          "Sunflower Oil",
          "Sweet Soy Sauce",
          "Sweetened Condensed Milk",
          "Sweetener 952",
          "Synthetic Wax",
          "Syrup",
          "TBHQ",
          "Tamarind Paste",
          "Tapioca Starch",
          "Thickener 1414",
          "Thickener 1422",
          "Thickener Modified Corn Starch",
          "Titanium Dioxide",
          "Tomato Juice",
          "Tomato Paste",
          "Tomato Powder",
          "Tomato Puree",
          "Tomatoes",
          "Turmeric",
          "Vegetable Fat",
          "Vegetable Oil",
          "Vegetable Powder Garlic",
          "Vegetable Powder Tomato",
          "Vegetable Sachet",
          "Vinegar",
          "Vitamin C",
          "Water",
          "Wheat",
          "Wheat Cornflour",
          "Wheat Flour",
          "Wheat Glucose Syrup",
          "Wheat Starch",
          "Wheaten Corn Flour",
          "White Pepper",
          "White Vinegar",
          "Whole Egg Powder",
          "Xanthan Gum",
          "Yeast",
          "Yeast Extract"
         ],
         "xaxis": "x",
         "y": [
          2,
          1,
          4,
          1,
          1,
          1,
          1,
          1,
          1,
          1,
          1,
          1,
          1,
          1,
          1,
          1,
          1,
          1,
          2,
          1,
          1,
          1,
          1,
          1,
          1,
          1,
          1,
          1,
          1,
          1,
          1,
          1,
          1,
          1,
          1,
          1,
          1,
          1,
          1,
          1,
          2,
          1,
          1,
          1,
          1,
          1,
          1,
          1,
          1,
          1,
          6,
          1,
          1,
          1,
          1,
          1,
          1,
          1,
          1,
          1,
          1,
          1,
          1,
          1,
          1,
          1,
          1,
          1,
          1,
          1,
          1,
          1,
          1,
          1,
          1,
          1,
          1,
          1,
          1,
          1,
          1,
          1,
          1,
          1,
          1,
          1,
          1,
          1,
          1,
          1,
          1,
          1,
          1,
          1,
          1,
          1,
          1,
          1,
          1,
          1,
          1,
          1,
          1,
          1,
          1,
          1,
          1,
          1,
          1,
          1,
          4,
          1,
          1,
          1,
          1,
          1,
          1,
          1,
          1,
          1,
          1,
          1,
          1,
          1,
          1,
          1,
          1,
          1,
          1,
          1,
          1,
          1,
          1,
          1,
          1,
          1,
          1,
          1,
          1,
          1,
          1,
          1,
          1,
          1,
          1,
          1,
          1,
          1,
          1,
          1,
          1,
          1,
          1,
          1,
          1,
          1,
          1,
          1,
          1,
          1,
          1,
          1,
          1,
          1,
          1,
          1,
          1,
          1,
          2,
          1,
          1,
          1,
          1,
          1,
          1,
          1,
          1,
          1,
          1,
          1,
          1,
          2,
          1,
          1,
          1,
          1,
          1,
          2,
          1,
          1,
          1,
          1,
          1,
          1,
          1,
          1,
          1,
          1,
          1,
          1,
          1,
          1,
          1,
          1,
          1,
          1,
          1,
          1,
          1,
          1,
          1,
          1,
          1,
          1,
          1,
          1,
          1,
          1,
          1,
          1,
          1,
          1,
          1,
          1,
          1,
          3,
          1,
          3,
          1,
          1,
          1,
          1,
          1,
          1,
          1,
          1,
          1,
          1,
          1,
          1,
          1,
          1,
          1,
          1,
          1,
          1,
          1,
          1,
          1,
          1,
          1,
          1,
          1,
          1,
          1,
          1,
          1,
          1,
          1,
          2,
          1,
          1,
          1,
          1,
          1,
          1,
          1,
          1,
          1,
          1,
          1,
          1,
          1,
          1,
          1,
          1,
          1,
          4,
          1,
          1
         ],
         "yaxis": "y"
        },
        {
         "alignmentgroup": "True",
         "hovertemplate": "NutritionalInformation=N/A<br>IngredientResearch=%{x}<br>Count=%{y}<extra></extra>",
         "legendgroup": "N/A",
         "marker": {
          "color": "#EF553B",
          "pattern": {
           "shape": ""
          }
         },
         "name": "N/A",
         "offsetgroup": "N/A",
         "orientation": "v",
         "showlegend": true,
         "textposition": "auto",
         "type": "bar",
         "x": [
          "",
          "Emulsifier 442",
          "Enzymes"
         ],
         "xaxis": "x",
         "y": [
          2,
          1,
          1
         ],
         "yaxis": "y"
        },
        {
         "alignmentgroup": "True",
         "hovertemplate": "NutritionalInformation=Carbohydrates<br>IngredientResearch=%{x}<br>Count=%{y}<extra></extra>",
         "legendgroup": "Carbohydrates",
         "marker": {
          "color": "#00cc96",
          "pattern": {
           "shape": ""
          }
         },
         "name": "Carbohydrates",
         "offsetgroup": "Carbohydrates",
         "orientation": "v",
         "showlegend": true,
         "textposition": "auto",
         "type": "bar",
         "x": [
          "",
          "Acesulfame Potassium",
          "Acetic Acid",
          "Acidity Regulator 331",
          "Acidity Regulator 339",
          "Acidity Regulator 451",
          "Acidity Regulator 501",
          "Ammonium Bicarbonate",
          "Ammonium Carbonate",
          "Annatto Extracts",
          "Anthocyanins",
          "Anti Caking Agent 551",
          "Antioxidant 307b",
          "Antioxidant 320",
          "Antioxidant 385",
          "Antioxidant Rosemary Extract",
          "Apple",
          "Apple Pulp",
          "Artificial Flavour",
          "Ascorbic Acid",
          "Aspartame",
          "Australian Spring Water",
          "Baking Powder",
          "Barley Malt Extract",
          "Basil",
          "Bis-Diglyceryl Polyacyladipate-2",
          "Biscuit",
          "Black Carrot Extract",
          "Burnt Sugar",
          "Buttermilk Powder",
          "Caffeine",
          "Calcium Lactate",
          "Caramel",
          "Caramel Color",
          "Caramel Color 150c",
          "Caramel I",
          "Caramel III",
          "Carbonated Mineral Water",
          "Carbonated Water",
          "Carboxymethyl Cellulose",
          "Carmine",
          "Carminic Acid",
          "Carnauba Wax",
          "Carotene",
          "Carrageenan",
          "Cheese Powder",
          "Chilli",
          "Chilli Sauce",
          "Choc Paste",
          "Chocolate Chips",
          "Citric Acid",
          "Clarified Pineapple Juice Concentrate",
          "Clove",
          "Cochineal",
          "Cocoa",
          "Cocoa Butter",
          "Cocoa Mass",
          "Cocoa Powder",
          "Cocoa Solids",
          "Coconut Extract",
          "Colour 101",
          "Colouring Agent 100",
          "Colouring Agent 150c",
          "Colouring Agent 150d",
          "Colouring Agent 160a",
          "Colouring Agent Caramel IV",
          "Colouring Agent Spirulina Extract",
          "Colouring Agent Titan White",
          "Coriander",
          "Cornstarch",
          "Cream",
          "Cultured Dextrose",
          "Cumin",
          "Curcumin",
          "Dark Chocolate Chips",
          "Dark Compound Chocolate Chips",
          "Dehydrated Vegetables",
          "Desiccated Coconut",
          "Dextrose",
          "Diced Peaches",
          "Diced Pears",
          "Dill",
          "Disodium Guanylate",
          "Disodium Inosinate",
          "Durum Wheat Semolina",
          "Egg",
          "Egg White",
          "Emulsifier 471",
          "Flavour",
          "Flavour Celery",
          "Flavour Enhancer 620",
          "Flavour Enhancer 621",
          "Flavour Enhancer 635",
          "Flavour Sachet",
          "Flavoured Milk",
          "Flavours",
          "Flavours Soy",
          "Flavours Wheat",
          "Fried Onion",
          "Fructose",
          "Fruit Peach",
          "Full Cream Milk",
          "Garam Masala",
          "Garlic Powder",
          "Gherkin",
          "Glazing Agent 414",
          "Glucose",
          "Glucose Syrup",
          "Gluten Wheat",
          "Golden Syrup",
          "Guar Gum",
          "Guava Puree",
          "Herb Extract",
          "Herbs",
          "Homogenised Full Cream Milk",
          "Invert Sugar",
          "Iron Oxides",
          "Jelly Natural Pineapple Flavour",
          "Lactic Acid",
          "Locust Bean Gum",
          "Lutein",
          "Maize Maltodextrin",
          "Maize Starch",
          "Maize Thickener 1422",
          "Malic Acid",
          "Maltodextrin",
          "Milk",
          "Milk Butter",
          "Milk Chocolate",
          "Milk Chocolate Chips",
          "Milk Compound Chocolate",
          "Milk Lactose",
          "Milk Solids",
          "Milk Whey Powder",
          "Mineral Salt 508",
          "Modified Starch 1420",
          "Molasses",
          "Natural Flavour",
          "Natural Flavour Botanical Extracts",
          "Natural Flavour Butter",
          "Natural Flavour Citrus Oils",
          "Natural Flavour Lemon Peel Extract",
          "Natural Flavour Lime Oils",
          "Natural Flavour Mango",
          "Natural Flavour Orange Peel Extract",
          "Natural Flavour Pineapple",
          "Natural Flavour Vanilla",
          "Natural Flavour Vanilla Extract",
          "Natural Flavours",
          "Natural Mineral Water",
          "Natural Spring Water",
          "Natural Strawberry Flavour",
          "Natural Vanilla Flavour",
          "Nutmeg",
          "Octyldodecanol",
          "Onion",
          "Onion Powder",
          "Paprika",
          "Paprika Extract",
          "Paprika Oleoresins",
          "Parsley",
          "Parsley Flakes",
          "Pasteurised Homogenised Milk",
          "Pear",
          "Pectin",
          "Pentaerythrityl Tetra-di-t-butyl Hydroxyhydrocinnamate",
          "Pepper",
          "Phosphoric Acid",
          "Pineapple",
          "Pineapple Juice",
          "Plant Extract Carthamus",
          "Plant Extract Gardenia",
          "Polyglycerol Polyricinoleate",
          "Polyglycerol polyricinoleate",
          "Potassium Bicarbonate",
          "Potassium Chloride",
          "Potassium Citrate",
          "Potassium Sorbate",
          "Potato Starch",
          "Potatoes",
          "Preservative 1211",
          "Quinine",
          "Raising Agent 450",
          "Reconstituted Apple Juice",
          "Reconstituted Fruit Juice Apricot",
          "Reconstituted Fruit Juice Blackcurrant",
          "Reconstituted Fruit Juice Grape",
          "Reconstituted Fruit Juice Orange",
          "Reconstituted Fruit Juice Passionfruit",
          "Reconstituted Fruit Juice Peach",
          "Reconstituted Fruit Juice Peach Purée",
          "Reconstituted Fruit Juice Pear",
          "Reconstituted Fruit Juice Pineapple",
          "Reconstituted Fruit Juice Water Extracted Orange",
          "Reconstituted Fruit Puree",
          "Reconstituted Fruit Puree Apple",
          "Reconstituted Fruit Puree Tomato Paste",
          "Reconstituted Lemon Juice",
          "Reconstituted Lime Juice",
          "Reconstituted Mango Juice",
          "Reconstituted Refined Juice Concentrated Pear Juice",
          "Reconstituted Tomato Puree",
          "Refined Fruit Juice",
          "Refined Fruit Juice Apple",
          "Refined Fruit Juice Grape",
          "Refined Fruit Juice Peach",
          "Refined Fruit Juice Pear",
          "Rice",
          "Rosemary",
          "Safflower Extract",
          "Salt",
          "Seasoning Oil",
          "Seasoning Powder",
          "Silica",
          "Skim Milk",
          "Skim Milk Powder",
          "Smoke Flavour",
          "Sodium Benzoate",
          "Sodium Bicarbonate",
          "Sodium Carbonate",
          "Sodium Citrate",
          "Sodium Metabisulfite",
          "Sorbitan Tristearate",
          "Soy",
          "Soy Bean",
          "Soy Sauce Powder",
          "Spice Cardamom",
          "Spice Chilli Powder",
          "Spice Extract",
          "Spice Ginger",
          "Spices",
          "Stabiliser 422",
          "Strawberry",
          "Sulphites",
          "Sweet Soy Sauce",
          "Sweetened Condensed Milk",
          "Sweetener 952",
          "Synthetic Wax",
          "Syrup",
          "TBHQ",
          "Tamarind Paste",
          "Tapioca Starch",
          "Thickener 1414",
          "Thickener 1422",
          "Thickener Modified Corn Starch",
          "Titanium Dioxide",
          "Tomato Juice",
          "Tomato Paste",
          "Tomato Powder",
          "Tomato Puree",
          "Tomatoes",
          "Turmeric",
          "Vegetable Fat",
          "Vegetable Oil",
          "Vegetable Powder Garlic",
          "Vegetable Powder Tomato",
          "Vegetable Sachet",
          "Vinegar",
          "Vitamin C",
          "Wheat",
          "Wheat Cornflour",
          "Wheat Flour",
          "Wheat Glucose Syrup",
          "Wheat Starch",
          "Wheaten Corn Flour",
          "White Pepper",
          "White Vinegar",
          "Whole Egg Powder",
          "Xanthan Gum",
          "Yeast",
          "Yeast Extract"
         ],
         "xaxis": "x",
         "y": [
          1,
          1,
          4,
          1,
          1,
          1,
          1,
          1,
          1,
          1,
          1,
          1,
          1,
          1,
          1,
          1,
          1,
          1,
          1,
          2,
          1,
          1,
          1,
          1,
          1,
          1,
          1,
          1,
          1,
          1,
          1,
          1,
          1,
          1,
          1,
          1,
          1,
          1,
          1,
          1,
          2,
          1,
          1,
          1,
          1,
          1,
          1,
          1,
          1,
          1,
          5,
          1,
          1,
          1,
          1,
          1,
          1,
          1,
          1,
          1,
          1,
          1,
          1,
          1,
          1,
          1,
          1,
          1,
          1,
          1,
          1,
          1,
          1,
          1,
          1,
          1,
          1,
          1,
          1,
          1,
          1,
          1,
          1,
          1,
          1,
          1,
          1,
          1,
          1,
          1,
          1,
          1,
          1,
          1,
          1,
          1,
          1,
          1,
          1,
          1,
          1,
          1,
          1,
          1,
          1,
          1,
          1,
          1,
          1,
          1,
          4,
          1,
          1,
          1,
          1,
          1,
          1,
          1,
          1,
          1,
          1,
          1,
          1,
          1,
          1,
          1,
          1,
          1,
          1,
          1,
          1,
          1,
          1,
          1,
          1,
          1,
          1,
          1,
          1,
          1,
          1,
          1,
          1,
          1,
          1,
          1,
          1,
          1,
          1,
          1,
          1,
          1,
          1,
          1,
          1,
          1,
          1,
          1,
          1,
          1,
          1,
          1,
          1,
          1,
          2,
          1,
          1,
          1,
          1,
          1,
          1,
          1,
          1,
          1,
          1,
          1,
          1,
          2,
          1,
          1,
          1,
          1,
          1,
          2,
          1,
          1,
          1,
          1,
          1,
          1,
          1,
          1,
          1,
          1,
          1,
          1,
          1,
          1,
          1,
          1,
          1,
          1,
          1,
          1,
          1,
          1,
          1,
          1,
          1,
          1,
          1,
          1,
          1,
          1,
          1,
          1,
          1,
          1,
          2,
          1,
          3,
          1,
          1,
          1,
          1,
          1,
          1,
          1,
          1,
          1,
          1,
          1,
          1,
          1,
          1,
          1,
          1,
          1,
          1,
          1,
          1,
          1,
          1,
          1,
          1,
          1,
          1,
          1,
          1,
          1,
          1,
          2,
          1,
          1,
          1,
          1,
          1,
          1,
          1,
          1,
          1,
          1,
          1,
          1,
          1,
          1,
          1,
          1,
          4,
          1,
          1
         ],
         "yaxis": "y"
        },
        {
         "alignmentgroup": "True",
         "hovertemplate": "NutritionalInformation=Fat<br>IngredientResearch=%{x}<br>Count=%{y}<extra></extra>",
         "legendgroup": "Fat",
         "marker": {
          "color": "#ab63fa",
          "pattern": {
           "shape": ""
          }
         },
         "name": "Fat",
         "offsetgroup": "Fat",
         "orientation": "v",
         "showlegend": true,
         "textposition": "auto",
         "type": "bar",
         "x": [
          "",
          "Acesulfame Potassium",
          "Acetic Acid",
          "Acidity Regulator 331",
          "Acidity Regulator 339",
          "Acidity Regulator 451",
          "Acidity Regulator 501",
          "Ammonium Bicarbonate",
          "Ammonium Carbonate",
          "Annatto Extracts",
          "Anthocyanins",
          "Anti Caking Agent 551",
          "Antioxidant 307b",
          "Antioxidant 320",
          "Antioxidant 385",
          "Antioxidant Rosemary Extract",
          "Apple",
          "Apple Pulp",
          "Artificial Flavour",
          "Ascorbic Acid",
          "Aspartame",
          "Australian Spring Water",
          "Baking Powder",
          "Barley Malt Extract",
          "Basil",
          "Bis-Diglyceryl Polyacyladipate-2",
          "Biscuit",
          "Black Carrot Extract",
          "Burnt Sugar",
          "Buttermilk Powder",
          "Caffeine",
          "Calcium Lactate",
          "Canola Oil",
          "Caramel",
          "Caramel Color",
          "Caramel Color 150c",
          "Caramel I",
          "Caramel III",
          "Carbonated Mineral Water",
          "Carbonated Water",
          "Carboxymethyl Cellulose",
          "Carmine",
          "Carminic Acid",
          "Carnauba Wax",
          "Carotene",
          "Carrageenan",
          "Cheese Powder",
          "Chilli",
          "Chilli Sauce",
          "Choc Paste",
          "Chocolate Chips",
          "Citric Acid",
          "Clarified Pineapple Juice Concentrate",
          "Clove",
          "Cochineal",
          "Cocoa Butter",
          "Cocoa Mass",
          "Cocoa Powder",
          "Cocoa Solids",
          "Coconut Extract",
          "Colour 101",
          "Colouring Agent 100",
          "Colouring Agent 150c",
          "Colouring Agent 150d",
          "Colouring Agent 160a",
          "Colouring Agent Caramel IV",
          "Colouring Agent Titan White",
          "Coriander",
          "Cornstarch",
          "Cream",
          "Cultured Dextrose",
          "Cumin",
          "Curcumin",
          "Dark Chocolate Chips",
          "Dark Compound Chocolate Chips",
          "Dehydrated Vegetables",
          "Desiccated Coconut",
          "Diced Peaches",
          "Diced Pears",
          "Dill",
          "Disodium Guanylate",
          "Disodium Inosinate",
          "Durum Wheat Semolina",
          "Egg",
          "Egg White",
          "Emulsifier 471",
          "Flavour",
          "Flavour Celery",
          "Flavour Enhancer 620",
          "Flavour Enhancer 621",
          "Flavour Enhancer 635",
          "Flavour Sachet",
          "Flavoured Milk",
          "Flavours",
          "Flavours Soy",
          "Flavours Wheat",
          "Free Range Egg Yolk",
          "Fried Onion",
          "Fructose",
          "Fruit Peach",
          "Garam Masala",
          "Garlic Powder",
          "Gherkin",
          "Glazing Agent 414",
          "Glucose",
          "Glucose Syrup",
          "Gluten Wheat",
          "Golden Syrup",
          "Guar Gum",
          "Guava Puree",
          "Herb Extract",
          "Herbs",
          "Homogenised Full Cream Milk",
          "Invert Sugar",
          "Iron Oxides",
          "Jelly Natural Pineapple Flavour",
          "Lactic Acid",
          "Locust Bean Gum",
          "Lutein",
          "Maize Maltodextrin",
          "Maize Starch",
          "Maize Thickener 1422",
          "Malic Acid",
          "Maltodextrin",
          "Milk",
          "Milk Butter",
          "Milk Chocolate",
          "Milk Chocolate Chips",
          "Milk Compound Chocolate",
          "Milk Lactose",
          "Milk Solids",
          "Milk Whey Powder",
          "Mineral Salt 508",
          "Modified Starch 1420",
          "Molasses",
          "Mustard Oil",
          "Natural Flavour",
          "Natural Flavour Botanical Extracts",
          "Natural Flavour Butter",
          "Natural Flavour Citrus Oils",
          "Natural Flavour Lemon Peel Extract",
          "Natural Flavour Lime Oils",
          "Natural Flavour Mango",
          "Natural Flavour Orange Peel Extract",
          "Natural Flavour Pineapple",
          "Natural Flavour Vanilla",
          "Natural Flavour Vanilla Extract",
          "Natural Flavours",
          "Natural Mineral Water",
          "Natural Spring Water",
          "Natural Strawberry Flavour",
          "Natural Vanilla Flavour",
          "Nutmeg",
          "Octyldodecanol",
          "Onion",
          "Onion Powder",
          "Palm Oil",
          "Paprika",
          "Paprika Extract",
          "Paprika Oleoresins",
          "Parsley",
          "Parsley Flakes",
          "Pasteurised Homogenised Milk",
          "Pear",
          "Pectin",
          "Pentaerythrityl Tetra-di-t-butyl Hydroxyhydrocinnamate",
          "Pepper",
          "Phosphoric Acid",
          "Pineapple",
          "Pineapple Juice",
          "Plant Extract Carthamus",
          "Plant Extract Gardenia",
          "Polyglycerol Polyricinoleate",
          "Polyglycerol polyricinoleate",
          "Potassium Bicarbonate",
          "Potassium Chloride",
          "Potassium Citrate",
          "Potassium Sorbate",
          "Potato Starch",
          "Potatoes",
          "Preservative 1211",
          "Quinine",
          "Raising Agent 450",
          "Reconstituted Apple Juice",
          "Reconstituted Fruit Juice Apricot",
          "Reconstituted Fruit Juice Blackcurrant",
          "Reconstituted Fruit Juice Peach",
          "Reconstituted Fruit Juice Peach Purée",
          "Reconstituted Fruit Juice Pear",
          "Reconstituted Fruit Juice Pineapple",
          "Reconstituted Fruit Puree",
          "Reconstituted Fruit Puree Apple",
          "Reconstituted Fruit Puree Tomato Paste",
          "Reconstituted Lemon Juice",
          "Reconstituted Lime Juice",
          "Reconstituted Mango Juice",
          "Reconstituted Refined Juice Concentrated Pear Juice",
          "Reconstituted Tomato Puree",
          "Refined Fruit Juice",
          "Refined Fruit Juice Apple",
          "Refined Fruit Juice Peach",
          "Refined Fruit Juice Pear",
          "Refined Palm Oil",
          "Rice",
          "Rosemary",
          "Safflower Extract",
          "Salt",
          "Sardines",
          "Seasoning Oil",
          "Seasoning Powder",
          "Sesame Oil",
          "Silica",
          "Skim Milk",
          "Skim Milk Powder",
          "Smoke Flavour",
          "Sodium Benzoate",
          "Sodium Bicarbonate",
          "Sodium Citrate",
          "Sodium Metabisulfite",
          "Sorbitan Tristearate",
          "Soy",
          "Soy Bean",
          "Soy Sauce Powder",
          "Spice Cardamom",
          "Spice Chilli Powder",
          "Spice Extract",
          "Spice Ginger",
          "Spices",
          "Stabiliser 422",
          "Strawberry",
          "Sulphites",
          "Sunflower Oil",
          "Sweet Soy Sauce",
          "Sweetened Condensed Milk",
          "Sweetener 952",
          "Synthetic Wax",
          "Syrup",
          "TBHQ",
          "Tamarind Paste",
          "Tapioca Starch",
          "Thickener 1414",
          "Thickener 1422",
          "Thickener Modified Corn Starch",
          "Titanium Dioxide",
          "Tomato Juice",
          "Tomato Paste",
          "Tomato Powder",
          "Tomato Puree",
          "Tomatoes",
          "Turmeric",
          "Vegetable Fat",
          "Vegetable Oil",
          "Vegetable Powder Garlic",
          "Vegetable Powder Tomato",
          "Vegetable Sachet",
          "Vinegar",
          "Vitamin C",
          "Water",
          "Wheat",
          "Wheat Cornflour",
          "Wheat Flour",
          "Wheat Glucose Syrup",
          "Wheat Starch",
          "Wheaten Corn Flour",
          "White Pepper",
          "White Vinegar",
          "Whole Egg Powder",
          "Xanthan Gum",
          "Yeast",
          "Yeast Extract"
         ],
         "xaxis": "x",
         "y": [
          1,
          1,
          4,
          1,
          1,
          1,
          1,
          1,
          1,
          1,
          1,
          1,
          1,
          1,
          1,
          1,
          1,
          1,
          1,
          2,
          1,
          1,
          1,
          1,
          1,
          1,
          1,
          1,
          1,
          1,
          1,
          1,
          1,
          1,
          1,
          1,
          1,
          1,
          1,
          1,
          1,
          2,
          1,
          1,
          1,
          1,
          1,
          1,
          1,
          1,
          1,
          6,
          1,
          1,
          1,
          1,
          1,
          1,
          1,
          1,
          1,
          1,
          1,
          1,
          1,
          1,
          1,
          1,
          1,
          1,
          1,
          1,
          1,
          1,
          1,
          1,
          1,
          1,
          1,
          1,
          1,
          1,
          1,
          1,
          1,
          1,
          1,
          1,
          1,
          1,
          1,
          1,
          1,
          1,
          1,
          1,
          1,
          1,
          1,
          1,
          1,
          1,
          1,
          1,
          1,
          1,
          1,
          1,
          4,
          1,
          1,
          1,
          1,
          1,
          1,
          1,
          1,
          1,
          1,
          1,
          1,
          1,
          1,
          1,
          1,
          1,
          1,
          1,
          1,
          1,
          1,
          1,
          1,
          1,
          1,
          1,
          1,
          1,
          1,
          1,
          1,
          1,
          1,
          1,
          1,
          1,
          1,
          1,
          1,
          1,
          1,
          1,
          1,
          1,
          1,
          1,
          1,
          1,
          1,
          1,
          1,
          1,
          1,
          1,
          2,
          1,
          1,
          1,
          1,
          1,
          1,
          1,
          1,
          1,
          1,
          1,
          1,
          2,
          1,
          1,
          1,
          1,
          1,
          1,
          1,
          1,
          1,
          1,
          1,
          1,
          1,
          1,
          1,
          1,
          1,
          1,
          1,
          1,
          1,
          1,
          1,
          1,
          1,
          1,
          1,
          1,
          1,
          1,
          1,
          1,
          1,
          1,
          1,
          1,
          1,
          1,
          1,
          3,
          1,
          1,
          1,
          1,
          1,
          1,
          1,
          1,
          1,
          1,
          1,
          1,
          1,
          1,
          1,
          1,
          1,
          1,
          1,
          1,
          1,
          1,
          1,
          1,
          1,
          1,
          1,
          1,
          1,
          1,
          1,
          2,
          1,
          1,
          1,
          1,
          1,
          1,
          1,
          1,
          1,
          1,
          1,
          1,
          1,
          1,
          1,
          1,
          1,
          4,
          1,
          1
         ],
         "yaxis": "y"
        },
        {
         "alignmentgroup": "True",
         "hovertemplate": "NutritionalInformation=Not applicable<br>IngredientResearch=%{x}<br>Count=%{y}<extra></extra>",
         "legendgroup": "Not applicable",
         "marker": {
          "color": "#FFA15A",
          "pattern": {
           "shape": ""
          }
         },
         "name": "Not applicable",
         "offsetgroup": "Not applicable",
         "orientation": "v",
         "showlegend": true,
         "textposition": "auto",
         "type": "bar",
         "x": [
          "",
          "Mica",
          "Polybutene",
          "Polyethylene",
          "Processing Aid Wheat",
          "Ultramarines"
         ],
         "xaxis": "x",
         "y": [
          1,
          1,
          1,
          1,
          1,
          1
         ],
         "yaxis": "y"
        },
        {
         "alignmentgroup": "True",
         "hovertemplate": "NutritionalInformation=Protein<br>IngredientResearch=%{x}<br>Count=%{y}<extra></extra>",
         "legendgroup": "Protein",
         "marker": {
          "color": "#19d3f3",
          "pattern": {
           "shape": ""
          }
         },
         "name": "Protein",
         "offsetgroup": "Protein",
         "orientation": "v",
         "showlegend": true,
         "textposition": "auto",
         "type": "bar",
         "x": [
          "",
          "Acesulfame Potassium",
          "Acetic Acid",
          "Acidity Regulator 331",
          "Acidity Regulator 339",
          "Acidity Regulator 451",
          "Acidity Regulator 501",
          "Ammonium Bicarbonate",
          "Ammonium Carbonate",
          "Annatto Extracts",
          "Anthocyanins",
          "Anti Caking Agent 551",
          "Antioxidant 307b",
          "Antioxidant 320",
          "Antioxidant 385",
          "Antioxidant Rosemary Extract",
          "Apple",
          "Apple Pulp",
          "Artificial Flavour",
          "Ascorbic Acid",
          "Aspartame",
          "Australian Spring Water",
          "Baking Powder",
          "Barley Malt Extract",
          "Basil",
          "Bis-Diglyceryl Polyacyladipate-2",
          "Biscuit",
          "Black Carrot Extract",
          "Burnt Sugar",
          "Buttermilk Powder",
          "Caffeine",
          "Calcium Lactate",
          "Caramel",
          "Caramel Color",
          "Caramel Color 150c",
          "Caramel I",
          "Caramel III",
          "Carbonated Mineral Water",
          "Carbonated Water",
          "Carboxymethyl Cellulose",
          "Carmine",
          "Carminic Acid",
          "Carnauba Wax",
          "Carotene",
          "Carrageenan",
          "Cheese Powder",
          "Chilli",
          "Chilli Sauce",
          "Choc Paste",
          "Chocolate Chips",
          "Citric Acid",
          "Clarified Pineapple Juice Concentrate",
          "Clove",
          "Cochineal",
          "Cocoa Butter",
          "Cocoa Mass",
          "Cocoa Powder",
          "Cocoa Solids",
          "Coconut Extract",
          "Colour 101",
          "Colouring Agent 100",
          "Colouring Agent 150c",
          "Colouring Agent 150d",
          "Colouring Agent 160a",
          "Colouring Agent Caramel IV",
          "Colouring Agent Spirulina Extract",
          "Colouring Agent Titan White",
          "Coriander",
          "Cornstarch",
          "Cream",
          "Cultured Dextrose",
          "Cumin",
          "Curcumin",
          "Dark Chocolate Chips",
          "Dark Compound Chocolate Chips",
          "Dehydrated Vegetables",
          "Desiccated Coconut",
          "Diced Peaches",
          "Diced Pears",
          "Dill",
          "Disodium Guanylate",
          "Disodium Inosinate",
          "Durum Wheat Semolina",
          "Egg",
          "Egg White",
          "Emulsifier 471",
          "Flavour",
          "Flavour Celery",
          "Flavour Enhancer 620",
          "Flavour Enhancer 621",
          "Flavour Enhancer 635",
          "Flavour Sachet",
          "Flavoured Milk",
          "Flavours",
          "Flavours Soy",
          "Flavours Wheat",
          "Fried Onion",
          "Fructose",
          "Fruit Peach",
          "Garam Masala",
          "Garlic Powder",
          "Gherkin",
          "Glazing Agent 414",
          "Glucose",
          "Glucose Syrup",
          "Gluten Wheat",
          "Golden Syrup",
          "Guar Gum",
          "Guava Puree",
          "Herb Extract",
          "Herbs",
          "Homogenised Full Cream Milk",
          "Invert Sugar",
          "Iron Oxides",
          "Jelly Natural Pineapple Flavour",
          "Lactic Acid",
          "Locust Bean Gum",
          "Lutein",
          "Maize Maltodextrin",
          "Maize Starch",
          "Maize Thickener 1422",
          "Malic Acid",
          "Maltodextrin",
          "Milk",
          "Milk Butter",
          "Milk Chocolate",
          "Milk Chocolate Chips",
          "Milk Compound Chocolate",
          "Milk Lactose",
          "Milk Solids",
          "Milk Whey Powder",
          "Mineral Salt 508",
          "Modified Starch 1420",
          "Molasses",
          "Natural Flavour",
          "Natural Flavour Botanical Extracts",
          "Natural Flavour Butter",
          "Natural Flavour Citrus Oils",
          "Natural Flavour Lemon Peel Extract",
          "Natural Flavour Lime Oils",
          "Natural Flavour Mango",
          "Natural Flavour Orange Peel Extract",
          "Natural Flavour Pineapple",
          "Natural Flavour Vanilla",
          "Natural Flavour Vanilla Extract",
          "Natural Flavours",
          "Natural Mineral Water",
          "Natural Spring Water",
          "Natural Strawberry Flavour",
          "Natural Vanilla Flavour",
          "Nutmeg",
          "Octyldodecanol",
          "Onion",
          "Onion Powder",
          "Paprika",
          "Paprika Extract",
          "Paprika Oleoresins",
          "Parsley",
          "Parsley Flakes",
          "Pasteurised Homogenised Milk",
          "Pear",
          "Pectin",
          "Pentaerythrityl Tetra-di-t-butyl Hydroxyhydrocinnamate",
          "Pepper",
          "Phosphoric Acid",
          "Pineapple",
          "Pineapple Juice",
          "Plant Extract Carthamus",
          "Plant Extract Gardenia",
          "Polyglycerol Polyricinoleate",
          "Polyglycerol polyricinoleate",
          "Potassium Bicarbonate",
          "Potassium Chloride",
          "Potassium Citrate",
          "Potassium Sorbate",
          "Potato Starch",
          "Potatoes",
          "Preservative 1211",
          "Quinine",
          "Raising Agent 450",
          "Reconstituted Apple Juice",
          "Reconstituted Fruit Juice Apricot",
          "Reconstituted Fruit Juice Blackcurrant",
          "Reconstituted Fruit Juice Peach",
          "Reconstituted Fruit Juice Peach Purée",
          "Reconstituted Fruit Juice Pear",
          "Reconstituted Fruit Juice Pineapple",
          "Reconstituted Fruit Puree",
          "Reconstituted Fruit Puree Apple",
          "Reconstituted Fruit Puree Tomato Paste",
          "Reconstituted Lemon Juice",
          "Reconstituted Lime Juice",
          "Reconstituted Mango Juice",
          "Reconstituted Refined Juice Concentrated Pear Juice",
          "Reconstituted Tomato Puree",
          "Refined Fruit Juice",
          "Refined Fruit Juice Apple",
          "Refined Fruit Juice Peach",
          "Refined Fruit Juice Pear",
          "Rice",
          "Rosemary",
          "Safflower Extract",
          "Salt",
          "Sardines",
          "Seasoning Oil",
          "Seasoning Powder",
          "Silica",
          "Skim Milk",
          "Skim Milk Powder",
          "Smoke Flavour",
          "Sodium Benzoate",
          "Sodium Bicarbonate",
          "Sodium Citrate",
          "Sodium Metabisulfite",
          "Sorbitan Tristearate",
          "Soy",
          "Soy Bean",
          "Soy Sauce Powder",
          "Spice Cardamom",
          "Spice Chilli Powder",
          "Spice Extract",
          "Spice Ginger",
          "Spices",
          "Stabiliser 422",
          "Strawberry",
          "Sulphites",
          "Sweet Soy Sauce",
          "Sweetened Condensed Milk",
          "Sweetener 952",
          "Synthetic Wax",
          "Syrup",
          "TBHQ",
          "Tamarind Paste",
          "Tapioca Starch",
          "Thickener 1414",
          "Thickener 1422",
          "Thickener Modified Corn Starch",
          "Titanium Dioxide",
          "Tomato Juice",
          "Tomato Paste",
          "Tomato Powder",
          "Tomato Puree",
          "Tomatoes",
          "Turmeric",
          "Vegetable Fat",
          "Vegetable Oil",
          "Vegetable Powder Garlic",
          "Vegetable Powder Tomato",
          "Vegetable Sachet",
          "Vinegar",
          "Vitamin C",
          "Water",
          "Wheat",
          "Wheat Cornflour",
          "Wheat Flour",
          "Wheat Glucose Syrup",
          "Wheat Starch",
          "Wheaten Corn Flour",
          "White Pepper",
          "White Vinegar",
          "Whole Egg Powder",
          "Xanthan Gum",
          "Yeast",
          "Yeast Extract"
         ],
         "xaxis": "x",
         "y": [
          1,
          1,
          4,
          1,
          1,
          1,
          1,
          1,
          1,
          1,
          1,
          1,
          1,
          1,
          1,
          1,
          1,
          1,
          1,
          2,
          1,
          1,
          1,
          1,
          1,
          1,
          1,
          1,
          1,
          1,
          1,
          1,
          1,
          1,
          1,
          1,
          1,
          1,
          1,
          1,
          2,
          1,
          1,
          1,
          1,
          1,
          1,
          1,
          1,
          1,
          6,
          1,
          1,
          1,
          1,
          1,
          1,
          1,
          1,
          1,
          1,
          1,
          1,
          1,
          1,
          1,
          1,
          1,
          1,
          1,
          1,
          1,
          1,
          1,
          1,
          1,
          1,
          1,
          1,
          1,
          1,
          1,
          1,
          1,
          1,
          1,
          1,
          1,
          1,
          1,
          1,
          1,
          1,
          1,
          1,
          1,
          1,
          1,
          1,
          1,
          1,
          1,
          1,
          1,
          1,
          1,
          1,
          4,
          1,
          1,
          1,
          1,
          1,
          1,
          1,
          1,
          1,
          1,
          1,
          1,
          1,
          1,
          1,
          1,
          1,
          1,
          1,
          1,
          1,
          1,
          1,
          1,
          1,
          1,
          1,
          1,
          1,
          1,
          1,
          1,
          1,
          1,
          1,
          1,
          1,
          1,
          1,
          1,
          1,
          1,
          1,
          1,
          1,
          1,
          1,
          1,
          1,
          1,
          1,
          1,
          1,
          2,
          1,
          1,
          1,
          1,
          1,
          1,
          1,
          1,
          1,
          1,
          1,
          1,
          2,
          1,
          1,
          1,
          1,
          1,
          1,
          1,
          1,
          1,
          1,
          1,
          1,
          1,
          1,
          1,
          1,
          1,
          1,
          1,
          1,
          1,
          1,
          1,
          1,
          1,
          1,
          1,
          1,
          1,
          1,
          1,
          1,
          1,
          1,
          1,
          1,
          2,
          3,
          1,
          1,
          1,
          1,
          1,
          1,
          1,
          1,
          1,
          1,
          1,
          1,
          1,
          1,
          1,
          1,
          1,
          1,
          1,
          1,
          1,
          1,
          1,
          1,
          1,
          1,
          1,
          1,
          1,
          1,
          2,
          1,
          1,
          1,
          1,
          1,
          1,
          1,
          1,
          1,
          1,
          1,
          1,
          1,
          1,
          1,
          1,
          1,
          4,
          1,
          1
         ],
         "yaxis": "y"
        },
        {
         "alignmentgroup": "True",
         "hovertemplate": "NutritionalInformation=Potassium<br>IngredientResearch=%{x}<br>Count=%{y}<extra></extra>",
         "legendgroup": "Potassium",
         "marker": {
          "color": "#FF6692",
          "pattern": {
           "shape": ""
          }
         },
         "name": "Potassium",
         "offsetgroup": "Potassium",
         "orientation": "v",
         "showlegend": true,
         "textposition": "auto",
         "type": "bar",
         "x": [
          "Acidity Regulator 501",
          "Apple",
          "Fructose",
          "Fruit Peach",
          "Mineral Salt 500",
          "Mineral Salt 508",
          "Pasteurised Homogenised Milk",
          "Potassium Bicarbonate",
          "Potassium Chloride",
          "Potassium Citrate",
          "Potatoes",
          "Tomato Juice",
          "Tomato Paste",
          "Tomatoes"
         ],
         "xaxis": "x",
         "y": [
          1,
          1,
          1,
          1,
          1,
          1,
          1,
          1,
          1,
          1,
          1,
          1,
          1,
          1
         ],
         "yaxis": "y"
        },
        {
         "alignmentgroup": "True",
         "hovertemplate": "NutritionalInformation=Energy<br>IngredientResearch=%{x}<br>Count=%{y}<extra></extra>",
         "legendgroup": "Energy",
         "marker": {
          "color": "#B6E880",
          "pattern": {
           "shape": ""
          }
         },
         "name": "Energy",
         "offsetgroup": "Energy",
         "orientation": "v",
         "showlegend": true,
         "textposition": "auto",
         "type": "bar",
         "x": [
          "Antioxidant 320"
         ],
         "xaxis": "x",
         "y": [
          1
         ],
         "yaxis": "y"
        },
        {
         "alignmentgroup": "True",
         "hovertemplate": "NutritionalInformation=Vitamin E<br>IngredientResearch=%{x}<br>Count=%{y}<extra></extra>",
         "legendgroup": "Vitamin E",
         "marker": {
          "color": "#FF97FF",
          "pattern": {
           "shape": ""
          }
         },
         "name": "Vitamin E",
         "offsetgroup": "Vitamin E",
         "orientation": "v",
         "showlegend": true,
         "textposition": "auto",
         "type": "bar",
         "x": [
          "Antioxidant E307B",
          "Antioxidant Tocopherols",
          "Mustard Oil",
          "Palm Oil",
          "Refined Palm Oil",
          "Sesame Oil",
          "Sunflower Oil",
          "Vegetable Fat"
         ],
         "xaxis": "x",
         "y": [
          1,
          1,
          1,
          1,
          1,
          1,
          1,
          1
         ],
         "yaxis": "y"
        },
        {
         "alignmentgroup": "True",
         "hovertemplate": "NutritionalInformation=Dietary Fiber<br>IngredientResearch=%{x}<br>Count=%{y}<extra></extra>",
         "legendgroup": "Dietary Fiber",
         "marker": {
          "color": "#FECB52",
          "pattern": {
           "shape": ""
          }
         },
         "name": "Dietary Fiber",
         "offsetgroup": "Dietary Fiber",
         "orientation": "v",
         "showlegend": true,
         "textposition": "auto",
         "type": "bar",
         "x": [
          "Apple",
          "Apple Pulp",
          "Clove",
          "Garlic Powder",
          "Guar Gum",
          "Maize Maltodextrin",
          "Nutmeg",
          "Onion",
          "Onion Powder",
          "Pear",
          "Pineapple",
          "Rosemary",
          "Spice Cardamom",
          "Spice Ginger",
          "Tomato Powder",
          "Turmeric",
          "Vegetable Powder Garlic",
          "White Pepper",
          "Xanthan Gum"
         ],
         "xaxis": "x",
         "y": [
          1,
          1,
          1,
          1,
          3,
          1,
          1,
          1,
          1,
          1,
          1,
          1,
          1,
          1,
          1,
          2,
          1,
          1,
          1
         ],
         "yaxis": "y"
        },
        {
         "alignmentgroup": "True",
         "hovertemplate": "NutritionalInformation=Manganese<br>IngredientResearch=%{x}<br>Count=%{y}<extra></extra>",
         "legendgroup": "Manganese",
         "marker": {
          "color": "#636efa",
          "pattern": {
           "shape": ""
          }
         },
         "name": "Manganese",
         "offsetgroup": "Manganese",
         "orientation": "v",
         "showlegend": true,
         "textposition": "auto",
         "type": "bar",
         "x": [
          "Apple",
          "Pineapple",
          "Wheat Flour"
         ],
         "xaxis": "x",
         "y": [
          1,
          1,
          1
         ],
         "yaxis": "y"
        },
        {
         "alignmentgroup": "True",
         "hovertemplate": "NutritionalInformation=Vitamin C<br>IngredientResearch=%{x}<br>Count=%{y}<extra></extra>",
         "legendgroup": "Vitamin C",
         "marker": {
          "color": "#EF553B",
          "pattern": {
           "shape": ""
          }
         },
         "name": "Vitamin C",
         "offsetgroup": "Vitamin C",
         "orientation": "v",
         "showlegend": true,
         "textposition": "auto",
         "type": "bar",
         "x": [
          "Apple",
          "Ascorbic Acid",
          "Chilli",
          "Clove",
          "Diced Peaches",
          "Dill",
          "Fructose",
          "Fruit Peach",
          "Guava Puree",
          "Onion",
          "Paprika",
          "Parsley",
          "Pineapple",
          "Pineapple Juice",
          "Potatoes",
          "Reconstituted Apple Juice",
          "Reconstituted Fruit Juice Blackcurrant",
          "Reconstituted Fruit Juice Grape",
          "Reconstituted Fruit Juice Orange",
          "Reconstituted Fruit Juice Passionfruit",
          "Reconstituted Fruit Juice Peach",
          "Reconstituted Fruit Juice Water Extracted Orange",
          "Reconstituted Mango Juice",
          "Reconstituted Tomato Puree",
          "Rosemary",
          "Strawberry",
          "Tamarind Paste",
          "Tomato Juice",
          "Tomato Paste",
          "Tomato Powder",
          "Tomato Puree",
          "Tomatoes",
          "Vegetable Powder Tomato",
          "Vitamin C",
          "Wheat Glucose Syrup"
         ],
         "xaxis": "x",
         "y": [
          1,
          2,
          1,
          1,
          1,
          1,
          1,
          1,
          1,
          1,
          1,
          1,
          1,
          1,
          1,
          1,
          1,
          1,
          1,
          1,
          1,
          1,
          1,
          1,
          1,
          1,
          1,
          1,
          1,
          1,
          1,
          1,
          1,
          1,
          1
         ],
         "yaxis": "y"
        },
        {
         "alignmentgroup": "True",
         "hovertemplate": "NutritionalInformation=Vitamin K<br>IngredientResearch=%{x}<br>Count=%{y}<extra></extra>",
         "legendgroup": "Vitamin K",
         "marker": {
          "color": "#00cc96",
          "pattern": {
           "shape": ""
          }
         },
         "name": "Vitamin K",
         "offsetgroup": "Vitamin K",
         "orientation": "v",
         "showlegend": true,
         "textposition": "auto",
         "type": "bar",
         "x": [
          "Apple",
          "Mustard Oil",
          "Palm Oil"
         ],
         "xaxis": "x",
         "y": [
          1,
          1,
          1
         ],
         "yaxis": "y"
        },
        {
         "alignmentgroup": "True",
         "hovertemplate": "NutritionalInformation=Minerals<br>IngredientResearch=%{x}<br>Count=%{y}<extra></extra>",
         "legendgroup": "Minerals",
         "marker": {
          "color": "#ab63fa",
          "pattern": {
           "shape": ""
          }
         },
         "name": "Minerals",
         "offsetgroup": "Minerals",
         "orientation": "v",
         "showlegend": true,
         "textposition": "auto",
         "type": "bar",
         "x": [
          "Australian Spring Water",
          "Carminic Acid",
          "Carnauba Wax",
          "Citric Acid",
          "Colouring Agent Spirulina Extract",
          "Coriander",
          "Maize Maltodextrin",
          "Natural Spring Water",
          "Refined Fruit Juice Apple",
          "Refined Fruit Juice Pear"
         ],
         "xaxis": "x",
         "y": [
          1,
          1,
          1,
          1,
          1,
          1,
          1,
          1,
          1,
          1
         ],
         "yaxis": "y"
        },
        {
         "alignmentgroup": "True",
         "hovertemplate": "NutritionalInformation=Fiber<br>IngredientResearch=%{x}<br>Count=%{y}<extra></extra>",
         "legendgroup": "Fiber",
         "marker": {
          "color": "#FFA15A",
          "pattern": {
           "shape": ""
          }
         },
         "name": "Fiber",
         "offsetgroup": "Fiber",
         "orientation": "v",
         "showlegend": true,
         "textposition": "auto",
         "type": "bar",
         "x": [
          "Barley Malt Extract",
          "Carnauba Wax",
          "Cocoa",
          "Cocoa Mass",
          "Cocoa Powder",
          "Cocoa Solids",
          "Cornstarch",
          "Cumin",
          "Dark Chocolate Chips",
          "Desiccated Coconut",
          "Diced Peaches",
          "Durum Wheat Semolina",
          "Gherkin",
          "Glucose",
          "Guar Gum",
          "Guava Puree",
          "Locust Bean Gum",
          "Maize Starch",
          "Maltodextrin",
          "Potato Starch",
          "Potatoes",
          "Rice",
          "Soy",
          "Soy Bean",
          "Tapioca Starch",
          "Thickener Modified Corn Starch",
          "Wheat",
          "Wheat Flour",
          "Wheat Glucose Syrup",
          "Xanthan Gum"
         ],
         "xaxis": "x",
         "y": [
          1,
          1,
          1,
          1,
          1,
          1,
          1,
          1,
          1,
          1,
          1,
          1,
          1,
          1,
          1,
          1,
          1,
          1,
          1,
          1,
          1,
          1,
          1,
          1,
          1,
          1,
          1,
          1,
          1,
          2
         ],
         "yaxis": "y"
        },
        {
         "alignmentgroup": "True",
         "hovertemplate": "NutritionalInformation=Sugars<br>IngredientResearch=%{x}<br>Count=%{y}<extra></extra>",
         "legendgroup": "Sugars",
         "marker": {
          "color": "#19d3f3",
          "pattern": {
           "shape": ""
          }
         },
         "name": "Sugars",
         "offsetgroup": "Sugars",
         "orientation": "v",
         "showlegend": true,
         "textposition": "auto",
         "type": "bar",
         "x": [
          "Barley Malt Extract",
          "Clarified Pineapple Juice Concentrate",
          "Dextrose",
          "Fruit Peach",
          "Garlic Powder",
          "Golden Syrup",
          "Milk Chocolate Chips",
          "Reconstituted Apple Juice",
          "Reconstituted Fruit Juice Grape",
          "Reconstituted Fruit Juice Orange",
          "Reconstituted Fruit Juice Passionfruit",
          "Reconstituted Fruit Juice Water Extracted Orange",
          "Refined Fruit Juice Grape",
          "Sweetened Condensed Milk",
          "Wheat Glucose Syrup"
         ],
         "xaxis": "x",
         "y": [
          1,
          1,
          1,
          1,
          1,
          1,
          1,
          2,
          1,
          1,
          1,
          1,
          1,
          1,
          1
         ],
         "yaxis": "y"
        },
        {
         "alignmentgroup": "True",
         "hovertemplate": "NutritionalInformation=Vitamin A<br>IngredientResearch=%{x}<br>Count=%{y}<extra></extra>",
         "legendgroup": "Vitamin A",
         "marker": {
          "color": "#FF6692",
          "pattern": {
           "shape": ""
          }
         },
         "name": "Vitamin A",
         "offsetgroup": "Vitamin A",
         "orientation": "v",
         "showlegend": true,
         "textposition": "auto",
         "type": "bar",
         "x": [
          "Beta carotene",
          "Carotene",
          "Free Range Egg Yolk",
          "Lutein",
          "Paprika",
          "Refined Palm Oil",
          "Tomato Juice",
          "Vitamin A"
         ],
         "xaxis": "x",
         "y": [
          1,
          1,
          1,
          1,
          1,
          1,
          1,
          1
         ],
         "yaxis": "y"
        },
        {
         "alignmentgroup": "True",
         "hovertemplate": "NutritionalInformation=Calcium<br>IngredientResearch=%{x}<br>Count=%{y}<extra></extra>",
         "legendgroup": "Calcium",
         "marker": {
          "color": "#B6E880",
          "pattern": {
           "shape": ""
          }
         },
         "name": "Calcium",
         "offsetgroup": "Calcium",
         "orientation": "v",
         "showlegend": true,
         "textposition": "auto",
         "type": "bar",
         "x": [
          "Buttermilk Powder",
          "Calcium Lactate",
          "Carbonated Mineral Water",
          "Clove",
          "Full Cream Milk",
          "Milk",
          "Milk Solids",
          "Milk Whey Powder",
          "Mineral Salt 500",
          "Mineral Salt 501",
          "Natural Mineral Water",
          "Pasteurised Homogenised Milk",
          "Sardines",
          "Skim Milk",
          "Wheat Glucose Syrup"
         ],
         "xaxis": "x",
         "y": [
          1,
          1,
          1,
          1,
          1,
          1,
          1,
          1,
          1,
          1,
          1,
          1,
          1,
          1,
          1
         ],
         "yaxis": "y"
        },
        {
         "alignmentgroup": "True",
         "hovertemplate": "NutritionalInformation=Cholesterol<br>IngredientResearch=%{x}<br>Count=%{y}<extra></extra>",
         "legendgroup": "Cholesterol",
         "marker": {
          "color": "#FF97FF",
          "pattern": {
           "shape": ""
          }
         },
         "name": "Cholesterol",
         "offsetgroup": "Cholesterol",
         "orientation": "v",
         "showlegend": true,
         "textposition": "auto",
         "type": "bar",
         "x": [
          "Canola Oil",
          "Egg",
          "Egg White",
          "Free Range Egg Yolk"
         ],
         "xaxis": "x",
         "y": [
          1,
          1,
          1,
          1
         ],
         "yaxis": "y"
        },
        {
         "alignmentgroup": "True",
         "hovertemplate": "NutritionalInformation=Monounsaturated Fat<br>IngredientResearch=%{x}<br>Count=%{y}<extra></extra>",
         "legendgroup": "Monounsaturated Fat",
         "marker": {
          "color": "#FECB52",
          "pattern": {
           "shape": ""
          }
         },
         "name": "Monounsaturated Fat",
         "offsetgroup": "Monounsaturated Fat",
         "orientation": "v",
         "showlegend": true,
         "textposition": "auto",
         "type": "bar",
         "x": [
          "Canola Oil",
          "Mustard Oil",
          "Palm Oil",
          "Refined Palm Oil",
          "Sesame Oil",
          "Sunflower Oil"
         ],
         "xaxis": "x",
         "y": [
          1,
          1,
          1,
          1,
          1,
          1
         ],
         "yaxis": "y"
        },
        {
         "alignmentgroup": "True",
         "hovertemplate": "NutritionalInformation=Polyunsaturated Fat<br>IngredientResearch=%{x}<br>Count=%{y}<extra></extra>",
         "legendgroup": "Polyunsaturated Fat",
         "marker": {
          "color": "#636efa",
          "pattern": {
           "shape": ""
          }
         },
         "name": "Polyunsaturated Fat",
         "offsetgroup": "Polyunsaturated Fat",
         "orientation": "v",
         "showlegend": true,
         "textposition": "auto",
         "type": "bar",
         "x": [
          "Canola Oil",
          "Mustard Oil",
          "Palm Oil",
          "Refined Palm Oil",
          "Sesame Oil",
          "Sunflower Oil"
         ],
         "xaxis": "x",
         "y": [
          1,
          1,
          1,
          1,
          1,
          1
         ],
         "yaxis": "y"
        },
        {
         "alignmentgroup": "True",
         "hovertemplate": "NutritionalInformation=Saturated Fat<br>IngredientResearch=%{x}<br>Count=%{y}<extra></extra>",
         "legendgroup": "Saturated Fat",
         "marker": {
          "color": "#EF553B",
          "pattern": {
           "shape": ""
          }
         },
         "name": "Saturated Fat",
         "offsetgroup": "Saturated Fat",
         "orientation": "v",
         "showlegend": true,
         "textposition": "auto",
         "type": "bar",
         "x": [
          "Canola Oil",
          "Mustard Oil",
          "Palm Oil",
          "Refined Palm Oil",
          "Sesame Oil",
          "Sunflower Oil"
         ],
         "xaxis": "x",
         "y": [
          1,
          1,
          1,
          1,
          1,
          1
         ],
         "yaxis": "y"
        },
        {
         "alignmentgroup": "True",
         "hovertemplate": "NutritionalInformation=Trans Fat<br>IngredientResearch=%{x}<br>Count=%{y}<extra></extra>",
         "legendgroup": "Trans Fat",
         "marker": {
          "color": "#00cc96",
          "pattern": {
           "shape": ""
          }
         },
         "name": "Trans Fat",
         "offsetgroup": "Trans Fat",
         "orientation": "v",
         "showlegend": true,
         "textposition": "auto",
         "type": "bar",
         "x": [
          "Canola Oil"
         ],
         "xaxis": "x",
         "y": [
          1
         ],
         "yaxis": "y"
        },
        {
         "alignmentgroup": "True",
         "hovertemplate": "NutritionalInformation=Magnesium<br>IngredientResearch=%{x}<br>Count=%{y}<extra></extra>",
         "legendgroup": "Magnesium",
         "marker": {
          "color": "#ab63fa",
          "pattern": {
           "shape": ""
          }
         },
         "name": "Magnesium",
         "offsetgroup": "Magnesium",
         "orientation": "v",
         "showlegend": true,
         "textposition": "auto",
         "type": "bar",
         "x": [
          "Carbonated Mineral Water",
          "Mineral Salt 500",
          "Mineral Salt 501",
          "Natural Mineral Water",
          "Wheat Flour"
         ],
         "xaxis": "x",
         "y": [
          1,
          1,
          1,
          1,
          1
         ],
         "yaxis": "y"
        },
        {
         "alignmentgroup": "True",
         "hovertemplate": "NutritionalInformation=Sodium<br>IngredientResearch=%{x}<br>Count=%{y}<extra></extra>",
         "legendgroup": "Sodium",
         "marker": {
          "color": "#FFA15A",
          "pattern": {
           "shape": ""
          }
         },
         "name": "Sodium",
         "offsetgroup": "Sodium",
         "orientation": "v",
         "showlegend": true,
         "textposition": "auto",
         "type": "bar",
         "x": [
          "Carbonated Mineral Water",
          "Egg White",
          "Iodised Salt",
          "Milk Lactose",
          "Mineral Salt 450",
          "Mineral Salt 451",
          "Mineral Salt 500",
          "Mineral Salt 501",
          "Mineral Salt 508",
          "Potassium Chloride",
          "Salt",
          "Sodium Bicarbonate",
          "Sodium Carbonate",
          "Sodium Citrate",
          "Thickener Modified Corn Starch",
          "Wheat Glucose Syrup"
         ],
         "xaxis": "x",
         "y": [
          1,
          1,
          1,
          1,
          1,
          1,
          1,
          1,
          1,
          1,
          1,
          3,
          1,
          2,
          1,
          1
         ],
         "yaxis": "y"
        },
        {
         "alignmentgroup": "True",
         "hovertemplate": "NutritionalInformation=Micronutrients<br>IngredientResearch=%{x}<br>Count=%{y}<extra></extra>",
         "legendgroup": "Micronutrients",
         "marker": {
          "color": "#19d3f3",
          "pattern": {
           "shape": ""
          }
         },
         "name": "Micronutrients",
         "offsetgroup": "Micronutrients",
         "orientation": "v",
         "showlegend": true,
         "textposition": "auto",
         "type": "bar",
         "x": [
          "Carminic Acid"
         ],
         "xaxis": "x",
         "y": [
          1
         ],
         "yaxis": "y"
        },
        {
         "alignmentgroup": "True",
         "hovertemplate": "NutritionalInformation=Vitamins<br>IngredientResearch=%{x}<br>Count=%{y}<extra></extra>",
         "legendgroup": "Vitamins",
         "marker": {
          "color": "#FF6692",
          "pattern": {
           "shape": ""
          }
         },
         "name": "Vitamins",
         "offsetgroup": "Vitamins",
         "orientation": "v",
         "showlegend": true,
         "textposition": "auto",
         "type": "bar",
         "x": [
          "Carminic Acid",
          "Citric Acid",
          "Colouring Agent Spirulina Extract",
          "Coriander",
          "Maize Maltodextrin",
          "Parsley Flakes",
          "Refined Fruit Juice Apple",
          "Refined Fruit Juice Grape",
          "Refined Fruit Juice Pear"
         ],
         "xaxis": "x",
         "y": [
          1,
          1,
          1,
          1,
          1,
          1,
          1,
          1,
          1
         ],
         "yaxis": "y"
        },
        {
         "alignmentgroup": "True",
         "hovertemplate": "NutritionalInformation=Iron<br>IngredientResearch=%{x}<br>Count=%{y}<extra></extra>",
         "legendgroup": "Iron",
         "marker": {
          "color": "#B6E880",
          "pattern": {
           "shape": ""
          }
         },
         "name": "Iron",
         "offsetgroup": "Iron",
         "orientation": "v",
         "showlegend": true,
         "textposition": "auto",
         "type": "bar",
         "x": [
          "Clove",
          "Cocoa",
          "Cocoa Solids",
          "Cumin",
          "Dill",
          "Ferric Ferrocyanide",
          "Iron Oxides",
          "Mineral Iron",
          "Molasses",
          "Parsley",
          "Potatoes",
          "Wheat Flour",
          "Wheat Glucose Syrup"
         ],
         "xaxis": "x",
         "y": [
          1,
          1,
          1,
          1,
          1,
          1,
          1,
          1,
          1,
          1,
          1,
          1,
          1
         ],
         "yaxis": "y"
        },
        {
         "alignmentgroup": "True",
         "hovertemplate": "NutritionalInformation=Fats<br>IngredientResearch=%{x}<br>Count=%{y}<extra></extra>",
         "legendgroup": "Fats",
         "marker": {
          "color": "#FF97FF",
          "pattern": {
           "shape": ""
          }
         },
         "name": "Fats",
         "offsetgroup": "Fats",
         "orientation": "v",
         "showlegend": true,
         "textposition": "auto",
         "type": "bar",
         "x": [
          "Cocoa",
          "Full Cream Milk"
         ],
         "xaxis": "x",
         "y": [
          1,
          1
         ],
         "yaxis": "y"
        },
        {
         "alignmentgroup": "True",
         "hovertemplate": "NutritionalInformation=Proteins<br>IngredientResearch=%{x}<br>Count=%{y}<extra></extra>",
         "legendgroup": "Proteins",
         "marker": {
          "color": "#FECB52",
          "pattern": {
           "shape": ""
          }
         },
         "name": "Proteins",
         "offsetgroup": "Proteins",
         "orientation": "v",
         "showlegend": true,
         "textposition": "auto",
         "type": "bar",
         "x": [
          "Cocoa",
          "Full Cream Milk"
         ],
         "xaxis": "x",
         "y": [
          1,
          1
         ],
         "yaxis": "y"
        },
        {
         "alignmentgroup": "True",
         "hovertemplate": "NutritionalInformation=Vitamins and Minerals<br>IngredientResearch=%{x}<br>Count=%{y}<extra></extra>",
         "legendgroup": "Vitamins and Minerals",
         "marker": {
          "color": "#636efa",
          "pattern": {
           "shape": ""
          }
         },
         "name": "Vitamins and Minerals",
         "offsetgroup": "Vitamins and Minerals",
         "orientation": "v",
         "showlegend": true,
         "textposition": "auto",
         "type": "bar",
         "x": [
          "Cocoa Butter",
          "Spice Chilli Powder",
          "Spice Ginger",
          "Wheat"
         ],
         "xaxis": "x",
         "y": [
          1,
          1,
          1,
          1
         ],
         "yaxis": "y"
        },
        {
         "alignmentgroup": "True",
         "hovertemplate": "NutritionalInformation=Sugar<br>IngredientResearch=%{x}<br>Count=%{y}<extra></extra>",
         "legendgroup": "Sugar",
         "marker": {
          "color": "#EF553B",
          "pattern": {
           "shape": ""
          }
         },
         "name": "Sugar",
         "offsetgroup": "Sugar",
         "orientation": "v",
         "showlegend": true,
         "textposition": "auto",
         "type": "bar",
         "x": [
          "Dark Chocolate Chips",
          "Pineapple Juice",
          "Reconstituted Fruit Juice Blackcurrant",
          "Thickener Modified Corn Starch"
         ],
         "xaxis": "x",
         "y": [
          1,
          1,
          1,
          1
         ],
         "yaxis": "y"
        },
        {
         "alignmentgroup": "True",
         "hovertemplate": "NutritionalInformation=Choline<br>IngredientResearch=%{x}<br>Count=%{y}<extra></extra>",
         "legendgroup": "Choline",
         "marker": {
          "color": "#00cc96",
          "pattern": {
           "shape": ""
          }
         },
         "name": "Choline",
         "offsetgroup": "Choline",
         "orientation": "v",
         "showlegend": true,
         "textposition": "auto",
         "type": "bar",
         "x": [
          "Emulsifier Soy Lecithin"
         ],
         "xaxis": "x",
         "y": [
          1
         ],
         "yaxis": "y"
        },
        {
         "alignmentgroup": "True",
         "hovertemplate": "NutritionalInformation=Cyanide<br>IngredientResearch=%{x}<br>Count=%{y}<extra></extra>",
         "legendgroup": "Cyanide",
         "marker": {
          "color": "#ab63fa",
          "pattern": {
           "shape": ""
          }
         },
         "name": "Cyanide",
         "offsetgroup": "Cyanide",
         "orientation": "v",
         "showlegend": true,
         "textposition": "auto",
         "type": "bar",
         "x": [
          "Ferric Ferrocyanide"
         ],
         "xaxis": "x",
         "y": [
          1
         ],
         "yaxis": "y"
        },
        {
         "alignmentgroup": "True",
         "hovertemplate": "NutritionalInformation=Folate<br>IngredientResearch=%{x}<br>Count=%{y}<extra></extra>",
         "legendgroup": "Folate",
         "marker": {
          "color": "#FFA15A",
          "pattern": {
           "shape": ""
          }
         },
         "name": "Folate",
         "offsetgroup": "Folate",
         "orientation": "v",
         "showlegend": true,
         "textposition": "auto",
         "type": "bar",
         "x": [
          "Folate",
          "Free Range Egg Yolk",
          "Strawberry",
          "Wheat Flour"
         ],
         "xaxis": "x",
         "y": [
          1,
          1,
          1,
          1
         ],
         "yaxis": "y"
        },
        {
         "alignmentgroup": "True",
         "hovertemplate": "NutritionalInformation=Riboflavin<br>IngredientResearch=%{x}<br>Count=%{y}<extra></extra>",
         "legendgroup": "Riboflavin",
         "marker": {
          "color": "#19d3f3",
          "pattern": {
           "shape": ""
          }
         },
         "name": "Riboflavin",
         "offsetgroup": "Riboflavin",
         "orientation": "v",
         "showlegend": true,
         "textposition": "auto",
         "type": "bar",
         "x": [
          "Free Range Egg Yolk",
          "Riboflavin",
          "Wheat Flour"
         ],
         "xaxis": "x",
         "y": [
          1,
          1,
          1
         ],
         "yaxis": "y"
        },
        {
         "alignmentgroup": "True",
         "hovertemplate": "NutritionalInformation=Selenium<br>IngredientResearch=%{x}<br>Count=%{y}<extra></extra>",
         "legendgroup": "Selenium",
         "marker": {
          "color": "#FF6692",
          "pattern": {
           "shape": ""
          }
         },
         "name": "Selenium",
         "offsetgroup": "Selenium",
         "orientation": "v",
         "showlegend": true,
         "textposition": "auto",
         "type": "bar",
         "x": [
          "Free Range Egg Yolk"
         ],
         "xaxis": "x",
         "y": [
          1
         ],
         "yaxis": "y"
        },
        {
         "alignmentgroup": "True",
         "hovertemplate": "NutritionalInformation=Vitamin D<br>IngredientResearch=%{x}<br>Count=%{y}<extra></extra>",
         "legendgroup": "Vitamin D",
         "marker": {
          "color": "#B6E880",
          "pattern": {
           "shape": ""
          }
         },
         "name": "Vitamin D",
         "offsetgroup": "Vitamin D",
         "orientation": "v",
         "showlegend": true,
         "textposition": "auto",
         "type": "bar",
         "x": [
          "Free Range Egg Yolk",
          "Homogenised Full Cream Milk",
          "Pasteurised Homogenised Milk",
          "Refined Palm Oil",
          "Sardines"
         ],
         "xaxis": "x",
         "y": [
          1,
          1,
          1,
          1,
          1
         ],
         "yaxis": "y"
        },
        {
         "alignmentgroup": "True",
         "hovertemplate": "NutritionalInformation=Chloride<br>IngredientResearch=%{x}<br>Count=%{y}<extra></extra>",
         "legendgroup": "Chloride",
         "marker": {
          "color": "#FF97FF",
          "pattern": {
           "shape": ""
          }
         },
         "name": "Chloride",
         "offsetgroup": "Chloride",
         "orientation": "v",
         "showlegend": true,
         "textposition": "auto",
         "type": "bar",
         "x": [
          "Iodised Salt"
         ],
         "xaxis": "x",
         "y": [
          1
         ],
         "yaxis": "y"
        },
        {
         "alignmentgroup": "True",
         "hovertemplate": "NutritionalInformation=Iodine<br>IngredientResearch=%{x}<br>Count=%{y}<extra></extra>",
         "legendgroup": "Iodine",
         "marker": {
          "color": "#FECB52",
          "pattern": {
           "shape": ""
          }
         },
         "name": "Iodine",
         "offsetgroup": "Iodine",
         "orientation": "v",
         "showlegend": true,
         "textposition": "auto",
         "type": "bar",
         "x": [
          "Iodised Salt",
          "Salt"
         ],
         "xaxis": "x",
         "y": [
          1,
          1
         ],
         "yaxis": "y"
        },
        {
         "alignmentgroup": "True",
         "hovertemplate": "NutritionalInformation=Lutein<br>IngredientResearch=%{x}<br>Count=%{y}<extra></extra>",
         "legendgroup": "Lutein",
         "marker": {
          "color": "#636efa",
          "pattern": {
           "shape": ""
          }
         },
         "name": "Lutein",
         "offsetgroup": "Lutein",
         "orientation": "v",
         "showlegend": true,
         "textposition": "auto",
         "type": "bar",
         "x": [
          "Lutein"
         ],
         "xaxis": "x",
         "y": [
          1
         ],
         "yaxis": "y"
        },
        {
         "alignmentgroup": "True",
         "hovertemplate": "NutritionalInformation=Phosphorus<br>IngredientResearch=%{x}<br>Count=%{y}<extra></extra>",
         "legendgroup": "Phosphorus",
         "marker": {
          "color": "#EF553B",
          "pattern": {
           "shape": ""
          }
         },
         "name": "Phosphorus",
         "offsetgroup": "Phosphorus",
         "orientation": "v",
         "showlegend": true,
         "textposition": "auto",
         "type": "bar",
         "x": [
          "Pasteurised Homogenised Milk",
          "Wheat Flour"
         ],
         "xaxis": "x",
         "y": [
          1,
          1
         ],
         "yaxis": "y"
        },
        {
         "alignmentgroup": "True",
         "hovertemplate": "NutritionalInformation=Vitamin B12<br>IngredientResearch=%{x}<br>Count=%{y}<extra></extra>",
         "legendgroup": "Vitamin B12",
         "marker": {
          "color": "#00cc96",
          "pattern": {
           "shape": ""
          }
         },
         "name": "Vitamin B12",
         "offsetgroup": "Vitamin B12",
         "orientation": "v",
         "showlegend": true,
         "textposition": "auto",
         "type": "bar",
         "x": [
          "Pasteurised Homogenised Milk"
         ],
         "xaxis": "x",
         "y": [
          1
         ],
         "yaxis": "y"
        },
        {
         "alignmentgroup": "True",
         "hovertemplate": "NutritionalInformation=Vitamin B6<br>IngredientResearch=%{x}<br>Count=%{y}<extra></extra>",
         "legendgroup": "Vitamin B6",
         "marker": {
          "color": "#ab63fa",
          "pattern": {
           "shape": ""
          }
         },
         "name": "Vitamin B6",
         "offsetgroup": "Vitamin B6",
         "orientation": "v",
         "showlegend": true,
         "textposition": "auto",
         "type": "bar",
         "x": [
          "Potatoes"
         ],
         "xaxis": "x",
         "y": [
          1
         ],
         "yaxis": "y"
        },
        {
         "alignmentgroup": "True",
         "hovertemplate": "NutritionalInformation=Omega-3 Fatty Acids<br>IngredientResearch=%{x}<br>Count=%{y}<extra></extra>",
         "legendgroup": "Omega-3 Fatty Acids",
         "marker": {
          "color": "#FFA15A",
          "pattern": {
           "shape": ""
          }
         },
         "name": "Omega-3 Fatty Acids",
         "offsetgroup": "Omega-3 Fatty Acids",
         "orientation": "v",
         "showlegend": true,
         "textposition": "auto",
         "type": "bar",
         "x": [
          "Sardines"
         ],
         "xaxis": "x",
         "y": [
          1
         ],
         "yaxis": "y"
        },
        {
         "alignmentgroup": "True",
         "hovertemplate": "NutritionalInformation=Phytosterols<br>IngredientResearch=%{x}<br>Count=%{y}<extra></extra>",
         "legendgroup": "Phytosterols",
         "marker": {
          "color": "#19d3f3",
          "pattern": {
           "shape": ""
          }
         },
         "name": "Phytosterols",
         "offsetgroup": "Phytosterols",
         "orientation": "v",
         "showlegend": true,
         "textposition": "auto",
         "type": "bar",
         "x": [
          "Sunflower Oil"
         ],
         "xaxis": "x",
         "y": [
          1
         ],
         "yaxis": "y"
        },
        {
         "alignmentgroup": "True",
         "hovertemplate": "NutritionalInformation=Squalene<br>IngredientResearch=%{x}<br>Count=%{y}<extra></extra>",
         "legendgroup": "Squalene",
         "marker": {
          "color": "#FF6692",
          "pattern": {
           "shape": ""
          }
         },
         "name": "Squalene",
         "offsetgroup": "Squalene",
         "orientation": "v",
         "showlegend": true,
         "textposition": "auto",
         "type": "bar",
         "x": [
          "Sunflower Oil"
         ],
         "xaxis": "x",
         "y": [
          1
         ],
         "yaxis": "y"
        },
        {
         "alignmentgroup": "True",
         "hovertemplate": "NutritionalInformation=Thiamin<br>IngredientResearch=%{x}<br>Count=%{y}<extra></extra>",
         "legendgroup": "Thiamin",
         "marker": {
          "color": "#B6E880",
          "pattern": {
           "shape": ""
          }
         },
         "name": "Thiamin",
         "offsetgroup": "Thiamin",
         "orientation": "v",
         "showlegend": true,
         "textposition": "auto",
         "type": "bar",
         "x": [
          "Thiamin",
          "Wheat Flour"
         ],
         "xaxis": "x",
         "y": [
          1,
          1
         ],
         "yaxis": "y"
        },
        {
         "alignmentgroup": "True",
         "hovertemplate": "NutritionalInformation=Lycopene<br>IngredientResearch=%{x}<br>Count=%{y}<extra></extra>",
         "legendgroup": "Lycopene",
         "marker": {
          "color": "#FF97FF",
          "pattern": {
           "shape": ""
          }
         },
         "name": "Lycopene",
         "offsetgroup": "Lycopene",
         "orientation": "v",
         "showlegend": true,
         "textposition": "auto",
         "type": "bar",
         "x": [
          "Tomato Juice",
          "Tomato Puree"
         ],
         "xaxis": "x",
         "y": [
          1,
          1
         ],
         "yaxis": "y"
        },
        {
         "alignmentgroup": "True",
         "hovertemplate": "NutritionalInformation=Copper<br>IngredientResearch=%{x}<br>Count=%{y}<extra></extra>",
         "legendgroup": "Copper",
         "marker": {
          "color": "#FECB52",
          "pattern": {
           "shape": ""
          }
         },
         "name": "Copper",
         "offsetgroup": "Copper",
         "orientation": "v",
         "showlegend": true,
         "textposition": "auto",
         "type": "bar",
         "x": [
          "Wheat Flour"
         ],
         "xaxis": "x",
         "y": [
          1
         ],
         "yaxis": "y"
        },
        {
         "alignmentgroup": "True",
         "hovertemplate": "NutritionalInformation=Niacin<br>IngredientResearch=%{x}<br>Count=%{y}<extra></extra>",
         "legendgroup": "Niacin",
         "marker": {
          "color": "#636efa",
          "pattern": {
           "shape": ""
          }
         },
         "name": "Niacin",
         "offsetgroup": "Niacin",
         "orientation": "v",
         "showlegend": true,
         "textposition": "auto",
         "type": "bar",
         "x": [
          "Wheat Flour"
         ],
         "xaxis": "x",
         "y": [
          1
         ],
         "yaxis": "y"
        },
        {
         "alignmentgroup": "True",
         "hovertemplate": "NutritionalInformation=Zinc<br>IngredientResearch=%{x}<br>Count=%{y}<extra></extra>",
         "legendgroup": "Zinc",
         "marker": {
          "color": "#EF553B",
          "pattern": {
           "shape": ""
          }
         },
         "name": "Zinc",
         "offsetgroup": "Zinc",
         "orientation": "v",
         "showlegend": true,
         "textposition": "auto",
         "type": "bar",
         "x": [
          "Wheat Flour",
          "Zinc"
         ],
         "xaxis": "x",
         "y": [
          1,
          1
         ],
         "yaxis": "y"
        },
        {
         "alignmentgroup": "True",
         "hovertemplate": "NutritionalInformation=B Vitamins<br>IngredientResearch=%{x}<br>Count=%{y}<extra></extra>",
         "legendgroup": "B Vitamins",
         "marker": {
          "color": "#00cc96",
          "pattern": {
           "shape": ""
          }
         },
         "name": "B Vitamins",
         "offsetgroup": "B Vitamins",
         "orientation": "v",
         "showlegend": true,
         "textposition": "auto",
         "type": "bar",
         "x": [
          "Yeast Extract"
         ],
         "xaxis": "x",
         "y": [
          1
         ],
         "yaxis": "y"
        }
       ],
       "layout": {
        "barmode": "relative",
        "legend": {
         "title": {
          "text": "NutritionalInformation"
         },
         "tracegroupgap": 0
        },
        "template": {
         "data": {
          "bar": [
           {
            "error_x": {
             "color": "#2a3f5f"
            },
            "error_y": {
             "color": "#2a3f5f"
            },
            "marker": {
             "line": {
              "color": "#E5ECF6",
              "width": 0.5
             },
             "pattern": {
              "fillmode": "overlay",
              "size": 10,
              "solidity": 0.2
             }
            },
            "type": "bar"
           }
          ],
          "barpolar": [
           {
            "marker": {
             "line": {
              "color": "#E5ECF6",
              "width": 0.5
             },
             "pattern": {
              "fillmode": "overlay",
              "size": 10,
              "solidity": 0.2
             }
            },
            "type": "barpolar"
           }
          ],
          "carpet": [
           {
            "aaxis": {
             "endlinecolor": "#2a3f5f",
             "gridcolor": "white",
             "linecolor": "white",
             "minorgridcolor": "white",
             "startlinecolor": "#2a3f5f"
            },
            "baxis": {
             "endlinecolor": "#2a3f5f",
             "gridcolor": "white",
             "linecolor": "white",
             "minorgridcolor": "white",
             "startlinecolor": "#2a3f5f"
            },
            "type": "carpet"
           }
          ],
          "choropleth": [
           {
            "colorbar": {
             "outlinewidth": 0,
             "ticks": ""
            },
            "type": "choropleth"
           }
          ],
          "contour": [
           {
            "colorbar": {
             "outlinewidth": 0,
             "ticks": ""
            },
            "colorscale": [
             [
              0,
              "#0d0887"
             ],
             [
              0.1111111111111111,
              "#46039f"
             ],
             [
              0.2222222222222222,
              "#7201a8"
             ],
             [
              0.3333333333333333,
              "#9c179e"
             ],
             [
              0.4444444444444444,
              "#bd3786"
             ],
             [
              0.5555555555555556,
              "#d8576b"
             ],
             [
              0.6666666666666666,
              "#ed7953"
             ],
             [
              0.7777777777777778,
              "#fb9f3a"
             ],
             [
              0.8888888888888888,
              "#fdca26"
             ],
             [
              1,
              "#f0f921"
             ]
            ],
            "type": "contour"
           }
          ],
          "contourcarpet": [
           {
            "colorbar": {
             "outlinewidth": 0,
             "ticks": ""
            },
            "type": "contourcarpet"
           }
          ],
          "heatmap": [
           {
            "colorbar": {
             "outlinewidth": 0,
             "ticks": ""
            },
            "colorscale": [
             [
              0,
              "#0d0887"
             ],
             [
              0.1111111111111111,
              "#46039f"
             ],
             [
              0.2222222222222222,
              "#7201a8"
             ],
             [
              0.3333333333333333,
              "#9c179e"
             ],
             [
              0.4444444444444444,
              "#bd3786"
             ],
             [
              0.5555555555555556,
              "#d8576b"
             ],
             [
              0.6666666666666666,
              "#ed7953"
             ],
             [
              0.7777777777777778,
              "#fb9f3a"
             ],
             [
              0.8888888888888888,
              "#fdca26"
             ],
             [
              1,
              "#f0f921"
             ]
            ],
            "type": "heatmap"
           }
          ],
          "heatmapgl": [
           {
            "colorbar": {
             "outlinewidth": 0,
             "ticks": ""
            },
            "colorscale": [
             [
              0,
              "#0d0887"
             ],
             [
              0.1111111111111111,
              "#46039f"
             ],
             [
              0.2222222222222222,
              "#7201a8"
             ],
             [
              0.3333333333333333,
              "#9c179e"
             ],
             [
              0.4444444444444444,
              "#bd3786"
             ],
             [
              0.5555555555555556,
              "#d8576b"
             ],
             [
              0.6666666666666666,
              "#ed7953"
             ],
             [
              0.7777777777777778,
              "#fb9f3a"
             ],
             [
              0.8888888888888888,
              "#fdca26"
             ],
             [
              1,
              "#f0f921"
             ]
            ],
            "type": "heatmapgl"
           }
          ],
          "histogram": [
           {
            "marker": {
             "pattern": {
              "fillmode": "overlay",
              "size": 10,
              "solidity": 0.2
             }
            },
            "type": "histogram"
           }
          ],
          "histogram2d": [
           {
            "colorbar": {
             "outlinewidth": 0,
             "ticks": ""
            },
            "colorscale": [
             [
              0,
              "#0d0887"
             ],
             [
              0.1111111111111111,
              "#46039f"
             ],
             [
              0.2222222222222222,
              "#7201a8"
             ],
             [
              0.3333333333333333,
              "#9c179e"
             ],
             [
              0.4444444444444444,
              "#bd3786"
             ],
             [
              0.5555555555555556,
              "#d8576b"
             ],
             [
              0.6666666666666666,
              "#ed7953"
             ],
             [
              0.7777777777777778,
              "#fb9f3a"
             ],
             [
              0.8888888888888888,
              "#fdca26"
             ],
             [
              1,
              "#f0f921"
             ]
            ],
            "type": "histogram2d"
           }
          ],
          "histogram2dcontour": [
           {
            "colorbar": {
             "outlinewidth": 0,
             "ticks": ""
            },
            "colorscale": [
             [
              0,
              "#0d0887"
             ],
             [
              0.1111111111111111,
              "#46039f"
             ],
             [
              0.2222222222222222,
              "#7201a8"
             ],
             [
              0.3333333333333333,
              "#9c179e"
             ],
             [
              0.4444444444444444,
              "#bd3786"
             ],
             [
              0.5555555555555556,
              "#d8576b"
             ],
             [
              0.6666666666666666,
              "#ed7953"
             ],
             [
              0.7777777777777778,
              "#fb9f3a"
             ],
             [
              0.8888888888888888,
              "#fdca26"
             ],
             [
              1,
              "#f0f921"
             ]
            ],
            "type": "histogram2dcontour"
           }
          ],
          "mesh3d": [
           {
            "colorbar": {
             "outlinewidth": 0,
             "ticks": ""
            },
            "type": "mesh3d"
           }
          ],
          "parcoords": [
           {
            "line": {
             "colorbar": {
              "outlinewidth": 0,
              "ticks": ""
             }
            },
            "type": "parcoords"
           }
          ],
          "pie": [
           {
            "automargin": true,
            "type": "pie"
           }
          ],
          "scatter": [
           {
            "fillpattern": {
             "fillmode": "overlay",
             "size": 10,
             "solidity": 0.2
            },
            "type": "scatter"
           }
          ],
          "scatter3d": [
           {
            "line": {
             "colorbar": {
              "outlinewidth": 0,
              "ticks": ""
             }
            },
            "marker": {
             "colorbar": {
              "outlinewidth": 0,
              "ticks": ""
             }
            },
            "type": "scatter3d"
           }
          ],
          "scattercarpet": [
           {
            "marker": {
             "colorbar": {
              "outlinewidth": 0,
              "ticks": ""
             }
            },
            "type": "scattercarpet"
           }
          ],
          "scattergeo": [
           {
            "marker": {
             "colorbar": {
              "outlinewidth": 0,
              "ticks": ""
             }
            },
            "type": "scattergeo"
           }
          ],
          "scattergl": [
           {
            "marker": {
             "colorbar": {
              "outlinewidth": 0,
              "ticks": ""
             }
            },
            "type": "scattergl"
           }
          ],
          "scattermapbox": [
           {
            "marker": {
             "colorbar": {
              "outlinewidth": 0,
              "ticks": ""
             }
            },
            "type": "scattermapbox"
           }
          ],
          "scatterpolar": [
           {
            "marker": {
             "colorbar": {
              "outlinewidth": 0,
              "ticks": ""
             }
            },
            "type": "scatterpolar"
           }
          ],
          "scatterpolargl": [
           {
            "marker": {
             "colorbar": {
              "outlinewidth": 0,
              "ticks": ""
             }
            },
            "type": "scatterpolargl"
           }
          ],
          "scatterternary": [
           {
            "marker": {
             "colorbar": {
              "outlinewidth": 0,
              "ticks": ""
             }
            },
            "type": "scatterternary"
           }
          ],
          "surface": [
           {
            "colorbar": {
             "outlinewidth": 0,
             "ticks": ""
            },
            "colorscale": [
             [
              0,
              "#0d0887"
             ],
             [
              0.1111111111111111,
              "#46039f"
             ],
             [
              0.2222222222222222,
              "#7201a8"
             ],
             [
              0.3333333333333333,
              "#9c179e"
             ],
             [
              0.4444444444444444,
              "#bd3786"
             ],
             [
              0.5555555555555556,
              "#d8576b"
             ],
             [
              0.6666666666666666,
              "#ed7953"
             ],
             [
              0.7777777777777778,
              "#fb9f3a"
             ],
             [
              0.8888888888888888,
              "#fdca26"
             ],
             [
              1,
              "#f0f921"
             ]
            ],
            "type": "surface"
           }
          ],
          "table": [
           {
            "cells": {
             "fill": {
              "color": "#EBF0F8"
             },
             "line": {
              "color": "white"
             }
            },
            "header": {
             "fill": {
              "color": "#C8D4E3"
             },
             "line": {
              "color": "white"
             }
            },
            "type": "table"
           }
          ]
         },
         "layout": {
          "annotationdefaults": {
           "arrowcolor": "#2a3f5f",
           "arrowhead": 0,
           "arrowwidth": 1
          },
          "autotypenumbers": "strict",
          "coloraxis": {
           "colorbar": {
            "outlinewidth": 0,
            "ticks": ""
           }
          },
          "colorscale": {
           "diverging": [
            [
             0,
             "#8e0152"
            ],
            [
             0.1,
             "#c51b7d"
            ],
            [
             0.2,
             "#de77ae"
            ],
            [
             0.3,
             "#f1b6da"
            ],
            [
             0.4,
             "#fde0ef"
            ],
            [
             0.5,
             "#f7f7f7"
            ],
            [
             0.6,
             "#e6f5d0"
            ],
            [
             0.7,
             "#b8e186"
            ],
            [
             0.8,
             "#7fbc41"
            ],
            [
             0.9,
             "#4d9221"
            ],
            [
             1,
             "#276419"
            ]
           ],
           "sequential": [
            [
             0,
             "#0d0887"
            ],
            [
             0.1111111111111111,
             "#46039f"
            ],
            [
             0.2222222222222222,
             "#7201a8"
            ],
            [
             0.3333333333333333,
             "#9c179e"
            ],
            [
             0.4444444444444444,
             "#bd3786"
            ],
            [
             0.5555555555555556,
             "#d8576b"
            ],
            [
             0.6666666666666666,
             "#ed7953"
            ],
            [
             0.7777777777777778,
             "#fb9f3a"
            ],
            [
             0.8888888888888888,
             "#fdca26"
            ],
            [
             1,
             "#f0f921"
            ]
           ],
           "sequentialminus": [
            [
             0,
             "#0d0887"
            ],
            [
             0.1111111111111111,
             "#46039f"
            ],
            [
             0.2222222222222222,
             "#7201a8"
            ],
            [
             0.3333333333333333,
             "#9c179e"
            ],
            [
             0.4444444444444444,
             "#bd3786"
            ],
            [
             0.5555555555555556,
             "#d8576b"
            ],
            [
             0.6666666666666666,
             "#ed7953"
            ],
            [
             0.7777777777777778,
             "#fb9f3a"
            ],
            [
             0.8888888888888888,
             "#fdca26"
            ],
            [
             1,
             "#f0f921"
            ]
           ]
          },
          "colorway": [
           "#636efa",
           "#EF553B",
           "#00cc96",
           "#ab63fa",
           "#FFA15A",
           "#19d3f3",
           "#FF6692",
           "#B6E880",
           "#FF97FF",
           "#FECB52"
          ],
          "font": {
           "color": "#2a3f5f"
          },
          "geo": {
           "bgcolor": "white",
           "lakecolor": "white",
           "landcolor": "#E5ECF6",
           "showlakes": true,
           "showland": true,
           "subunitcolor": "white"
          },
          "hoverlabel": {
           "align": "left"
          },
          "hovermode": "closest",
          "mapbox": {
           "style": "light"
          },
          "paper_bgcolor": "white",
          "plot_bgcolor": "#E5ECF6",
          "polar": {
           "angularaxis": {
            "gridcolor": "white",
            "linecolor": "white",
            "ticks": ""
           },
           "bgcolor": "#E5ECF6",
           "radialaxis": {
            "gridcolor": "white",
            "linecolor": "white",
            "ticks": ""
           }
          },
          "scene": {
           "xaxis": {
            "backgroundcolor": "#E5ECF6",
            "gridcolor": "white",
            "gridwidth": 2,
            "linecolor": "white",
            "showbackground": true,
            "ticks": "",
            "zerolinecolor": "white"
           },
           "yaxis": {
            "backgroundcolor": "#E5ECF6",
            "gridcolor": "white",
            "gridwidth": 2,
            "linecolor": "white",
            "showbackground": true,
            "ticks": "",
            "zerolinecolor": "white"
           },
           "zaxis": {
            "backgroundcolor": "#E5ECF6",
            "gridcolor": "white",
            "gridwidth": 2,
            "linecolor": "white",
            "showbackground": true,
            "ticks": "",
            "zerolinecolor": "white"
           }
          },
          "shapedefaults": {
           "line": {
            "color": "#2a3f5f"
           }
          },
          "ternary": {
           "aaxis": {
            "gridcolor": "white",
            "linecolor": "white",
            "ticks": ""
           },
           "baxis": {
            "gridcolor": "white",
            "linecolor": "white",
            "ticks": ""
           },
           "bgcolor": "#E5ECF6",
           "caxis": {
            "gridcolor": "white",
            "linecolor": "white",
            "ticks": ""
           }
          },
          "title": {
           "x": 0.05
          },
          "xaxis": {
           "automargin": true,
           "gridcolor": "white",
           "linecolor": "white",
           "ticks": "",
           "title": {
            "standoff": 15
           },
           "zerolinecolor": "white",
           "zerolinewidth": 2
          },
          "yaxis": {
           "automargin": true,
           "gridcolor": "white",
           "linecolor": "white",
           "ticks": "",
           "title": {
            "standoff": 15
           },
           "zerolinecolor": "white",
           "zerolinewidth": 2
          }
         }
        },
        "title": {
         "text": "IngredientResearch"
        },
        "xaxis": {
         "anchor": "y",
         "domain": [
          0,
          1
         ],
         "title": {
          "text": "IngredientResearch"
         }
        },
        "yaxis": {
         "anchor": "x",
         "domain": [
          0,
          1
         ],
         "title": {
          "text": "Count"
         }
        }
       }
      }
     },
     "metadata": {},
     "output_type": "display_data"
    }
   ],
   "source": [
    "import networkx as nx\n",
    "import matplotlib.pyplot as plt\n",
    "\n",
    "query = \"\"\"\n",
    "MATCH (i:IngredientResearch)-[:HAS_NUTRITIONAL_INFORMATION]->(n:NutritionalInformation)\n",
    "RETURN i.ingredient_name AS IngredientResearch, n.nutrient AS NutritionalInformation\n",
    "\"\"\"\n",
    "with driver.session() as session:\n",
    "    result = session.run(query)\n",
    "    neo4j_data = [record.data() for record in result]\n",
    "\n",
    "\n",
    "df = pd.DataFrame(neo4j_data)\n",
    "# Caculate each dietarysuitability  diet count\n",
    "diet_counts = df.groupby(\"IngredientResearch\")[\"NutritionalInformation\"].value_counts().reset_index(name=\"Count\")\n",
    "\n",
    "# use Plotly to create bar chart\n",
    "fig = px.bar(diet_counts, x=\"IngredientResearch\", y=\"Count\", color=\"NutritionalInformation\", title=\"IngredientResearch\")\n",
    "fig.show()"
   ]
  },
  {
   "cell_type": "code",
   "execution_count": 16,
   "metadata": {},
   "outputs": [
    {
     "name": "stdout",
     "output_type": "stream",
     "text": [
      "Correlation between Health Star Rating and Nutritionalinformation Count: 0.048391990581925635\n"
     ]
    }
   ],
   "source": [
    "import plotly.graph_objs as go\n",
    "import pandas as pd\n",
    "from scipy.stats import pearsonr\n",
    "\n",
    "\n",
    "query = \"\"\"\n",
    "MATCH (p:Product)-[:HAS_RECIPE]->(r:Recipe)-[:USES_INGREDIENT]->(i:Ingredient)-[:HAS_RESEARCH]->(a:IngredientResearch)-[:HAS_NUTRITIONAL_INFORMATION]->(n:NutritionalInformation)\n",
    "OPTIONAL MATCH (p)-[:HAS_RATING]->(h:HealthStarRating)\n",
    "RETURN p.name AS Product, \n",
    "       r.ingredients_orig AS Recipe, \n",
    "       i.name AS Ingredient,\n",
    "       a.ingredient_name AS IngredientResearch, \n",
    "       COUNT(n) AS NutritionalinformationCount, \n",
    "       h.rating AS HealthStarRating\n",
    "\"\"\"\n",
    "\n",
    "with driver.session() as session:\n",
    "    result = session.run(query)\n",
    "    neo4j_data = [record.data() for record in result]\n",
    "\n",
    "\n",
    "df = pd.DataFrame(neo4j_data)\n",
    "\n",
    "#  Remove the null value\n",
    "df = df.dropna(subset=['NutritionalinformationCount', 'HealthStarRating'])\n",
    "\n",
    "#  create the scatter\n",
    "#plt.figure(figsize=(10, 6))\n",
    "#plt.scatter(df['NutritionalinformationCount'], df['HealthStarRating'], alpha=0.5)\n",
    "#plt.xlabel('NutritionalinformationCount')\n",
    "#plt.ylabel('Health Star Rating')\n",
    "#plt.title('Relationship between Health Star Rating and Nutritionalinformation Count')\n",
    "#plt.grid(True)\n",
    "#plt.show()\n",
    "\n",
    "# Convert \"HealthStarRating\" column to floating point format\n",
    "df['HealthStarRating'] = df['HealthStarRating'].astype(float)\n",
    "\n",
    "# Caculate the correlation\n",
    "correlation = df['HealthStarRating'].corr(df['NutritionalinformationCount'])\n",
    "print(f'Correlation between Health Star Rating and Nutritionalinformation Count: {correlation}')"
   ]
  },
  {
   "cell_type": "code",
   "execution_count": 15,
   "metadata": {},
   "outputs": [
    {
     "name": "stdout",
     "output_type": "stream",
     "text": [
      "Correlation between Health Star Rating and Nutritionalinformation Count: 0.048391990581925635\n"
     ]
    },
    {
     "data": {
      "application/vnd.plotly.v1+json": {
       "config": {
        "plotlyServerURL": "https://plot.ly"
       },
       "data": [
        {
         "marker": {
          "color": "rgba(152, 0, 0, 0.8)",
          "line": {
           "color": "rgba(0, 0, 0, 0.5)",
           "width": 1
          }
         },
         "mode": "markers",
         "text": [
          "Product: Coca - Cola Classic  Soft Drink Multipack Cans<br>Recipe: Carbonated Water, Sugar, Colour (150d), Food Acid (338), Flavour, Caffeine.<br>Ingredient: Carbonated Water<br>IngredientResearch: Carbonated Water",
          "Product: Coca - Cola Classic  Soft Drink Mini Cans<br>Recipe: Carbonated Water, Sugar, Colour (150d), Food Acid (338), Flavour, Caffeine.<br>Ingredient: Carbonated Water<br>IngredientResearch: Carbonated Water",
          "Product: Coca - Cola Vanilla  Soft Drink Multipack Cans<br>Recipe: Carbonated Water, Sugar, Colour (150d), Food Acid (338), Flavour, Caffeine.<br>Ingredient: Carbonated Water<br>IngredientResearch: Carbonated Water",
          "Product: Coca - Cola Zero Sugar Soft Drink Multipack Cans<br>Recipe: Carbonated Water, Colour (150d), Food Acids (338, 331), Sweeteners (951, 950), Flavour, Caffeine.<br>Ingredient: Carbonated Water<br>IngredientResearch: Carbonated Water",
          "Product: Coca - Cola Caffeine Free Zero Sugar Soft Drink Multipack Cans<br>Recipe: Carbonated Water, Colour (150d), Food Acids (338,331), Sweeteners (952, 950, 951), Flavour.<br>Ingredient: Carbonated Water<br>IngredientResearch: Carbonated Water",
          "Product: Coca - Cola Zero Sugar Soft Drink Mini Cans<br>Recipe: Carbonated Water, Colour (150d), Food Acids (338,331), Sweeteners (951,950). Flavour, Caffeine.<br>Ingredient: Carbonated Water<br>IngredientResearch: Carbonated Water",
          "Product: Schweppes Soda Water Bottle Classic Mixers<br>Recipe: Carbonated Water, Mineral Salt (Potassium Bicarbon ate).<br>Ingredient: Carbonated Water<br>IngredientResearch: Carbonated Water",
          "Product: Schweppes Indian Tonic Water Classic Mixers Bottle<br>Recipe: Carbonated Water, Sugar, Food Acid (330), Natural Flavours (With Orange Peel Extract, Citrus Oils, Botanical Extracts, Lemon Peel Extract), Quinine.CONTAINS QUININE.<br>Ingredient: Carbonated Water<br>IngredientResearch: Carbonated Water",
          "Product: Schweppes Lime Soda Water With Lime Juice Bottle<br>Recipe: Carbonated Water, Reconstituted Lime Juice (5%), S ugar, Natural Flavour (With Lime Oils), Preservati ves (211, 223 (SULPHITES)), Plant Extracts (Garden ia, Carthamus).CONTAINS SULPHITES.<br>Ingredient: Carbonated Water<br>IngredientResearch: Carbonated Water",
          "Product: Schweppes Zero Sugar Classic Mixers Indian Tonic Water Bottle<br>Recipe: Carbonated Water, Food Acids (330, 331), Natural Flavours (With Orange Peel Extract, Citrus Oils, Botanical Extracts, Lemon Peel Extract), Sweeteners (951, 950), Quinine.CONTAINS QUININE. CONTAINS PHENYLALANINE.<br>Ingredient: Carbonated Water<br>IngredientResearch: Carbonated Water",
          "Product: Coca - Cola Classic  Soft Drink Multipack Cans<br>Recipe: Carbonated Water, Sugar, Colour (150d), Food Acid (338), Flavour, Caffeine.<br>Ingredient: 150d<br>IngredientResearch: Colouring Agent 150d",
          "Product: Coca - Cola Classic  Soft Drink Mini Cans<br>Recipe: Carbonated Water, Sugar, Colour (150d), Food Acid (338), Flavour, Caffeine.<br>Ingredient: 150d<br>IngredientResearch: Colouring Agent 150d",
          "Product: Coca - Cola Vanilla  Soft Drink Multipack Cans<br>Recipe: Carbonated Water, Sugar, Colour (150d), Food Acid (338), Flavour, Caffeine.<br>Ingredient: 150d<br>IngredientResearch: Colouring Agent 150d",
          "Product: Coca - Cola Zero Sugar Soft Drink Multipack Cans<br>Recipe: Carbonated Water, Colour (150d), Food Acids (338, 331), Sweeteners (951, 950), Flavour, Caffeine.<br>Ingredient: 150d<br>IngredientResearch: Colouring Agent 150d",
          "Product: Coca - Cola Caffeine Free Zero Sugar Soft Drink Multipack Cans<br>Recipe: Carbonated Water, Colour (150d), Food Acids (338,331), Sweeteners (952, 950, 951), Flavour.<br>Ingredient: 150d<br>IngredientResearch: Colouring Agent 150d",
          "Product: Coca - Cola Zero Sugar Soft Drink Mini Cans<br>Recipe: Carbonated Water, Colour (150d), Food Acids (338,331), Sweeteners (951,950). Flavour, Caffeine.<br>Ingredient: 150d<br>IngredientResearch: Colouring Agent 150d",
          "Product: Coca - Cola Classic  Soft Drink Multipack Cans<br>Recipe: Carbonated Water, Sugar, Colour (150d), Food Acid (338), Flavour, Caffeine.<br>Ingredient: 338<br>IngredientResearch: Phosphoric Acid",
          "Product: Coca - Cola Classic  Soft Drink Mini Cans<br>Recipe: Carbonated Water, Sugar, Colour (150d), Food Acid (338), Flavour, Caffeine.<br>Ingredient: 338<br>IngredientResearch: Phosphoric Acid",
          "Product: Coca - Cola Vanilla  Soft Drink Multipack Cans<br>Recipe: Carbonated Water, Sugar, Colour (150d), Food Acid (338), Flavour, Caffeine.<br>Ingredient: 338<br>IngredientResearch: Phosphoric Acid",
          "Product: Coca - Cola Zero Sugar Soft Drink Multipack Cans<br>Recipe: Carbonated Water, Colour (150d), Food Acids (338, 331), Sweeteners (951, 950), Flavour, Caffeine.<br>Ingredient: 338<br>IngredientResearch: Phosphoric Acid",
          "Product: Coca - Cola Caffeine Free Zero Sugar Soft Drink Multipack Cans<br>Recipe: Carbonated Water, Colour (150d), Food Acids (338,331), Sweeteners (952, 950, 951), Flavour.<br>Ingredient: 338<br>IngredientResearch: Phosphoric Acid",
          "Product: Coca - Cola Zero Sugar Soft Drink Mini Cans<br>Recipe: Carbonated Water, Colour (150d), Food Acids (338,331), Sweeteners (951,950). Flavour, Caffeine.<br>Ingredient: 338<br>IngredientResearch: Phosphoric Acid",
          "Product: Coca - Cola Classic  Soft Drink Multipack Cans<br>Recipe: Carbonated Water, Sugar, Colour (150d), Food Acid (338), Flavour, Caffeine.<br>Ingredient: Flavour<br>IngredientResearch: Flavour",
          "Product: Coca - Cola Classic  Soft Drink Mini Cans<br>Recipe: Carbonated Water, Sugar, Colour (150d), Food Acid (338), Flavour, Caffeine.<br>Ingredient: Flavour<br>IngredientResearch: Flavour",
          "Product: Coca - Cola Vanilla  Soft Drink Multipack Cans<br>Recipe: Carbonated Water, Sugar, Colour (150d), Food Acid (338), Flavour, Caffeine.<br>Ingredient: Flavour<br>IngredientResearch: Flavour",
          "Product: Coca - Cola Zero Sugar Soft Drink Multipack Cans<br>Recipe: Carbonated Water, Colour (150d), Food Acids (338, 331), Sweeteners (951, 950), Flavour, Caffeine.<br>Ingredient: Flavour<br>IngredientResearch: Flavour",
          "Product: Coca - Cola Caffeine Free Zero Sugar Soft Drink Multipack Cans<br>Recipe: Carbonated Water, Colour (150d), Food Acids (338,331), Sweeteners (952, 950, 951), Flavour.<br>Ingredient: Flavour<br>IngredientResearch: Flavour",
          "Product: Coca - Cola Zero Sugar Soft Drink Mini Cans<br>Recipe: Carbonated Water, Colour (150d), Food Acids (338,331), Sweeteners (951,950). Flavour, Caffeine.<br>Ingredient: Flavour<br>IngredientResearch: Flavour",
          "Product: Maggi 2 Minute Beef Flavour Instant Noodles<br>Recipe: Ingredients       Noodle Cake :  Australian  Wheat  Flour (70%), Vegetable Oil Antioxidant (319), Salt, Mineral Salts (508, 451, 501, 500), Vegetable Gum (412).      Flavour Sachet: Mineral Salt (Potassium Chloride), Salt, Flavour Enhancers (621, 635), Sugar, Yeast Extract, Flavour, Burnt Sugar, Vegetable Fat Antioxidant (320), Onion,  Soy  Sauce Powder ( Wheat, Soy ), Food Acid (Citric), White Pepper, Rosemary.       Contains Gluten, Wheat, Soy .       May Contain Celery, Crustacean, Fish, Milk, Mustard.<br>Ingredient: Flavour<br>IngredientResearch: Flavour",
          "Product: Kitkat 4 Finger Milk Chocolate Bar<br>Recipe: Ingredients:           Sugar,  Milk  Solids,  Wheat  Flour, Cocoa Butter^, Vegetable Fat Emulsifier ( Soy  Lecithin), Cocoa Mass^, Choc Paste ( Milk, Wheat, Soy ), Emulsifiers ( Soy  Lecithin, 476),  Cocoa^,  Raising Agent (Sodium Bicarbonate), Salt, Yeast,    Flavour,   Processing Aid (  Wheat  ).          Contains Milk, Wheat, Gluten, Soy.            May Contain Tree Nuts, Other Gluten Containing Ingredients.           Product Contains 67% Milk Chocolate and 33% Wafer Fingers.          Milk Chocolate Contains Minimum 22% Cocoa Solids, 25% Milk Solids.          ^ Rainforest Alliance Certified   Cocoa. Find Out More at Ra.Org.<br>Ingredient: Flavour<br>IngredientResearch: Flavour",
          "Product: Arnott's Premier Chocolate Chip Cookies<br>Recipe: Chocolate Chips (40%) (Sugar, Cocoa Mass, Milk Solids, Vegetable Oil, Emulsifiers (Soy Lecithin, E476), Cocoa Butter, Flavour, Salt), Wheat Flour, Sugar, Vegetable Oil, Desiccated Coconut, Wheat Starch, Salt, Baking Powder, Flavour, Food Colour (Caramel IV), Emulsifier (Soy Lecithin), Antioxidant (E307B from Soy).<br>Ingredient: Flavour<br>IngredientResearch: Flavour",
          "Product: Coca - Cola Classic  Soft Drink Multipack Cans<br>Recipe: Carbonated Water, Sugar, Colour (150d), Food Acid (338), Flavour, Caffeine.<br>Ingredient: Caffeine<br>IngredientResearch: Caffeine",
          "Product: Coca - Cola Classic  Soft Drink Mini Cans<br>Recipe: Carbonated Water, Sugar, Colour (150d), Food Acid (338), Flavour, Caffeine.<br>Ingredient: Caffeine<br>IngredientResearch: Caffeine",
          "Product: Coca - Cola Vanilla  Soft Drink Multipack Cans<br>Recipe: Carbonated Water, Sugar, Colour (150d), Food Acid (338), Flavour, Caffeine.<br>Ingredient: Caffeine<br>IngredientResearch: Caffeine",
          "Product: Coca - Cola Zero Sugar Soft Drink Multipack Cans<br>Recipe: Carbonated Water, Colour (150d), Food Acids (338, 331), Sweeteners (951, 950), Flavour, Caffeine.<br>Ingredient: Caffeine<br>IngredientResearch: Caffeine",
          "Product: Coca - Cola Zero Sugar Soft Drink Mini Cans<br>Recipe: Carbonated Water, Colour (150d), Food Acids (338,331), Sweeteners (951,950). Flavour, Caffeine.<br>Ingredient: Caffeine<br>IngredientResearch: Caffeine",
          "Product: Coca - Cola Zero Sugar Soft Drink Multipack Cans<br>Recipe: Carbonated Water, Colour (150d), Food Acids (338, 331), Sweeteners (951, 950), Flavour, Caffeine.<br>Ingredient: 331<br>IngredientResearch: Sodium Citrate",
          "Product: Coca - Cola Caffeine Free Zero Sugar Soft Drink Multipack Cans<br>Recipe: Carbonated Water, Colour (150d), Food Acids (338,331), Sweeteners (952, 950, 951), Flavour.<br>Ingredient: 331<br>IngredientResearch: Sodium Citrate",
          "Product: Coca - Cola Zero Sugar Soft Drink Mini Cans<br>Recipe: Carbonated Water, Colour (150d), Food Acids (338,331), Sweeteners (951,950). Flavour, Caffeine.<br>Ingredient: 331<br>IngredientResearch: Sodium Citrate",
          "Product: Schweppes Zero Sugar Classic Mixers Indian Tonic Water Bottle<br>Recipe: Carbonated Water, Food Acids (330, 331), Natural Flavours (With Orange Peel Extract, Citrus Oils, Botanical Extracts, Lemon Peel Extract), Sweeteners (951, 950), Quinine.CONTAINS QUININE. CONTAINS PHENYLALANINE.<br>Ingredient: 331<br>IngredientResearch: Sodium Citrate",
          "Product: Coca - Cola Zero Sugar Soft Drink Multipack Cans<br>Recipe: Carbonated Water, Colour (150d), Food Acids (338, 331), Sweeteners (951, 950), Flavour, Caffeine.<br>Ingredient: 951<br>IngredientResearch: Aspartame",
          "Product: Coca - Cola Caffeine Free Zero Sugar Soft Drink Multipack Cans<br>Recipe: Carbonated Water, Colour (150d), Food Acids (338,331), Sweeteners (952, 950, 951), Flavour.<br>Ingredient: 951<br>IngredientResearch: Aspartame",
          "Product: Coca - Cola Zero Sugar Soft Drink Mini Cans<br>Recipe: Carbonated Water, Colour (150d), Food Acids (338,331), Sweeteners (951,950). Flavour, Caffeine.<br>Ingredient: 951<br>IngredientResearch: Aspartame",
          "Product: Schweppes Zero Sugar Classic Mixers Indian Tonic Water Bottle<br>Recipe: Carbonated Water, Food Acids (330, 331), Natural Flavours (With Orange Peel Extract, Citrus Oils, Botanical Extracts, Lemon Peel Extract), Sweeteners (951, 950), Quinine.CONTAINS QUININE. CONTAINS PHENYLALANINE.<br>Ingredient: 951<br>IngredientResearch: Aspartame",
          "Product: Coca - Cola Zero Sugar Soft Drink Multipack Cans<br>Recipe: Carbonated Water, Colour (150d), Food Acids (338, 331), Sweeteners (951, 950), Flavour, Caffeine.<br>Ingredient: 950<br>IngredientResearch: Acesulfame Potassium",
          "Product: Coca - Cola Caffeine Free Zero Sugar Soft Drink Multipack Cans<br>Recipe: Carbonated Water, Colour (150d), Food Acids (338,331), Sweeteners (952, 950, 951), Flavour.<br>Ingredient: 950<br>IngredientResearch: Acesulfame Potassium",
          "Product: Coca - Cola Zero Sugar Soft Drink Mini Cans<br>Recipe: Carbonated Water, Colour (150d), Food Acids (338,331), Sweeteners (951,950). Flavour, Caffeine.<br>Ingredient: 950<br>IngredientResearch: Acesulfame Potassium",
          "Product: Schweppes Zero Sugar Classic Mixers Indian Tonic Water Bottle<br>Recipe: Carbonated Water, Food Acids (330, 331), Natural Flavours (With Orange Peel Extract, Citrus Oils, Botanical Extracts, Lemon Peel Extract), Sweeteners (951, 950), Quinine.CONTAINS QUININE. CONTAINS PHENYLALANINE.<br>Ingredient: 950<br>IngredientResearch: Acesulfame Potassium",
          "Product: Coca - Cola Caffeine Free Zero Sugar Soft Drink Multipack Cans<br>Recipe: Carbonated Water, Colour (150d), Food Acids (338,331), Sweeteners (952, 950, 951), Flavour.<br>Ingredient: 952<br>IngredientResearch: Sweetener 952",
          "Product: Maggi 2 Minute Chicken Flavour Instant Noodles<br>Recipe: <div>Our Chosen Ingredients: Noodle Cake: Wheat  Flour, Vegetable Oil (Antioxidant (319)), Salt, Mineral Salts (508, 451, 501, 500), Vegetable Gum (412). Flavour Mix Sachet: Iodised Salt, Flavour Enhancers (621, 635), Mineral Salt (508), Maltodextrin, Flavours (Contains  Wheat ,  Soy  and  Celery), Sugar, Onion Powder, Vegetable Fat (Antioxidant (320)), Parsley Flakes, Colours (Turmeric, Caramel Iii), Spices (Coriander, Cumin, Cardamom, Chilli Powder, Ginger).</div><br>Ingredient: Wheat Flour<br>IngredientResearch: Wheat Flour",
          "Product: Maggi 2 Minute Chicken Flavour Instant Noodles<br>Recipe: Ingredients:        Noodle Cake : Australian  Whea T Flour (70%), Vegetable Oil Antioxidant (319), Salt, Mineral Salts (508, 451, 501, 500), Vegetable Gum (412).   Flavour Sachet : Salt, Flavour Enhancers (621, 635), Mineral Salt (Potassium Chloride), Flavours Flavour Enhancer (621), Celery,  Soy ,  Wheat , Sugar, Onion, Vegetable Fat Antioxidant (320), Potato Starch, Parsley, Spices (Turmeric, Coriander, Cumin, Chilli, Cardamom, Ginger), Burnt Sugar.       Contains Gluten, Wheat, Soy.        May Contain Crustacean, Fish, Milk, Mustard.<br>Ingredient: Wheat Flour<br>IngredientResearch: Wheat Flour",
          "Product: Supreme Noodles Cup Chicken Flavour<br>Recipe: Noodles: Wheat Flour (Gluten), Vegetable Oil (Antioxidant (320)), Salt. Flavour Sachet: Salt, Flavour Enhancers (621, 635), Flavours (Flavour Enhancers (621, 635), Wheat (Gluten), Soy), Sugar, Maltodextrin, Onion Powder, Herbs, Yeast Extract, Colour (Curcumin).<br>Ingredient: Wheat Flour<br>IngredientResearch: Wheat Flour",
          "Product: Maggi 2 Minute Beef Flavour Instant Noodles<br>Recipe: Ingredients       Noodle Cake :  Australian  Wheat  Flour (70%), Vegetable Oil Antioxidant (319), Salt, Mineral Salts (508, 451, 501, 500), Vegetable Gum (412).      Flavour Sachet: Mineral Salt (Potassium Chloride), Salt, Flavour Enhancers (621, 635), Sugar, Yeast Extract, Flavour, Burnt Sugar, Vegetable Fat Antioxidant (320), Onion,  Soy  Sauce Powder ( Wheat, Soy ), Food Acid (Citric), White Pepper, Rosemary.       Contains Gluten, Wheat, Soy .       May Contain Celery, Crustacean, Fish, Milk, Mustard.<br>Ingredient: Wheat Flour<br>IngredientResearch: Wheat Flour",
          "Product: Supreme Noodles Cup Beef Flavour<br>Recipe: Noodles: Wheat Flour (Gluten), Vegetable Oil (Antioxidant (320)), Salt. Flavour Sachet: Salt, Flavour Enhancers (621, 635), Flavours (Flavour Enhancers (621, 635), Wheat (Gluten), Soy), Colour (150c)), Herbs and Spices, Colours (Caramel, Curcumin, Sugar, Garlic Powder.<br>Ingredient: Wheat Flour<br>IngredientResearch: Wheat Flour",
          "Product: Kitkat 4 Finger Milk Chocolate Bar<br>Recipe: Ingredients:           Sugar,  Milk  Solids,  Wheat  Flour, Cocoa Butter^, Vegetable Fat Emulsifier ( Soy  Lecithin), Cocoa Mass^, Choc Paste ( Milk, Wheat, Soy ), Emulsifiers ( Soy  Lecithin, 476),  Cocoa^,  Raising Agent (Sodium Bicarbonate), Salt, Yeast,    Flavour,   Processing Aid (  Wheat  ).          Contains Milk, Wheat, Gluten, Soy.            May Contain Tree Nuts, Other Gluten Containing Ingredients.           Product Contains 67% Milk Chocolate and 33% Wafer Fingers.          Milk Chocolate Contains Minimum 22% Cocoa Solids, 25% Milk Solids.          ^ Rainforest Alliance Certified   Cocoa. Find Out More at Ra.Org.<br>Ingredient: Wheat Flour<br>IngredientResearch: Wheat Flour",
          "Product: Arnott's Premier Chocolate Chip Cookies<br>Recipe: Chocolate Chips (40%) (Sugar, Cocoa Mass, Milk Solids, Vegetable Oil, Emulsifiers (Soy Lecithin, E476), Cocoa Butter, Flavour, Salt), Wheat Flour, Sugar, Vegetable Oil, Desiccated Coconut, Wheat Starch, Salt, Baking Powder, Flavour, Food Colour (Caramel IV), Emulsifier (Soy Lecithin), Antioxidant (E307B from Soy).<br>Ingredient: Wheat Flour<br>IngredientResearch: Wheat Flour",
          "Product: Woolworths Chocolate Chip Cookies<br>Recipe: Wheat Flour, Sugar, Dark Compound Chocolate Chips (20%) (Sugar, Palm Oil, Cocoa Solids, Emulsifier (Soy Lecithin), Natural Flavour), Vegetable Oil (Palm Oil, Antioxidant (307b)), Wheaten Corn Flour (Wheat), Whole Egg Powder, Whey Powder (Milk), Raising Agents (Sodium Carbonates, Ammonium Carbonates), Natural Flavour, Salt, Natural Colour (Annatto Extracts)<br>Ingredient: Wheat Flour<br>IngredientResearch: Wheat Flour",
          "Product: Woolworths The King Of Chunky Chocolate Chip Cookies<br>Recipe: <p>Dark Chocolate Chips (40%) (Sugar, Cocoa Mass, Cocoa Butter, Emulsifier (Lecithin (Soy), Natural Vanilla Flavour), Wheat Flour, Sugar, Vegetable Oil (Palm Oil, Antioxidant (307b)), Butter (Milk), Whey Powder (Milk), Natural Flavours (Vanilla, Butter (Milk), Salt, Raising Agents (Sodium Carbonate, Ammonium Carbonate), Dark Chocolate contains minimum 40% Cocoa Solids.</p><br>Ingredient: Wheat Flour<br>IngredientResearch: Wheat Flour",
          "Product: Arnott's Mini Choc Chip Cookie Multipack Biscuits<br>Recipe: Wheat Flour, Chocolate Chips (24%) (Sugar, Cocoa Mass, Cocoa Butter, Natural Flavour, Emulsifier (Soy Lecithin)), Sugar, Vegetable Oil, Butter (Contains Milk), Desiccated Coconut, Skim Milk Powder, Baking Powder, Salt, Emulsifier (Soy Lecithin), Natural Flavour, Antioxidant (E307b From Soy).<br>Ingredient: Wheat Flour<br>IngredientResearch: Wheat Flour",
          "Product: Maggi 2 Minute Chicken Flavour Instant Noodles<br>Recipe: <div>Our Chosen Ingredients: Noodle Cake: Wheat  Flour, Vegetable Oil (Antioxidant (319)), Salt, Mineral Salts (508, 451, 501, 500), Vegetable Gum (412). Flavour Mix Sachet: Iodised Salt, Flavour Enhancers (621, 635), Mineral Salt (508), Maltodextrin, Flavours (Contains  Wheat ,  Soy  and  Celery), Sugar, Onion Powder, Vegetable Fat (Antioxidant (320)), Parsley Flakes, Colours (Turmeric, Caramel Iii), Spices (Coriander, Cumin, Cardamom, Chilli Powder, Ginger).</div><br>Ingredient: Salt<br>IngredientResearch: Salt",
          "Product: Maggi 2 Minute Chicken Flavour Instant Noodles<br>Recipe: Ingredients:        Noodle Cake : Australian  Whea T Flour (70%), Vegetable Oil Antioxidant (319), Salt, Mineral Salts (508, 451, 501, 500), Vegetable Gum (412).   Flavour Sachet : Salt, Flavour Enhancers (621, 635), Mineral Salt (Potassium Chloride), Flavours Flavour Enhancer (621), Celery,  Soy ,  Wheat , Sugar, Onion, Vegetable Fat Antioxidant (320), Potato Starch, Parsley, Spices (Turmeric, Coriander, Cumin, Chilli, Cardamom, Ginger), Burnt Sugar.       Contains Gluten, Wheat, Soy.        May Contain Crustacean, Fish, Milk, Mustard.<br>Ingredient: Salt<br>IngredientResearch: Salt",
          "Product: Supreme Noodles Cup Chicken Flavour<br>Recipe: Noodles: Wheat Flour (Gluten), Vegetable Oil (Antioxidant (320)), Salt. Flavour Sachet: Salt, Flavour Enhancers (621, 635), Flavours (Flavour Enhancers (621, 635), Wheat (Gluten), Soy), Sugar, Maltodextrin, Onion Powder, Herbs, Yeast Extract, Colour (Curcumin).<br>Ingredient: Salt<br>IngredientResearch: Salt",
          "Product: Maggi 2 Minute Beef Flavour Instant Noodles<br>Recipe: Ingredients       Noodle Cake :  Australian  Wheat  Flour (70%), Vegetable Oil Antioxidant (319), Salt, Mineral Salts (508, 451, 501, 500), Vegetable Gum (412).      Flavour Sachet: Mineral Salt (Potassium Chloride), Salt, Flavour Enhancers (621, 635), Sugar, Yeast Extract, Flavour, Burnt Sugar, Vegetable Fat Antioxidant (320), Onion,  Soy  Sauce Powder ( Wheat, Soy ), Food Acid (Citric), White Pepper, Rosemary.       Contains Gluten, Wheat, Soy .       May Contain Celery, Crustacean, Fish, Milk, Mustard.<br>Ingredient: Salt<br>IngredientResearch: Salt",
          "Product: Supreme Noodles Cup Beef Flavour<br>Recipe: Noodles: Wheat Flour (Gluten), Vegetable Oil (Antioxidant (320)), Salt. Flavour Sachet: Salt, Flavour Enhancers (621, 635), Flavours (Flavour Enhancers (621, 635), Wheat (Gluten), Soy), Colour (150c)), Herbs and Spices, Colours (Caramel, Curcumin, Sugar, Garlic Powder.<br>Ingredient: Salt<br>IngredientResearch: Salt",
          "Product: Kitkat 4 Finger Milk Chocolate Bar<br>Recipe: Ingredients:           Sugar,  Milk  Solids,  Wheat  Flour, Cocoa Butter^, Vegetable Fat Emulsifier ( Soy  Lecithin), Cocoa Mass^, Choc Paste ( Milk, Wheat, Soy ), Emulsifiers ( Soy  Lecithin, 476),  Cocoa^,  Raising Agent (Sodium Bicarbonate), Salt, Yeast,    Flavour,   Processing Aid (  Wheat  ).          Contains Milk, Wheat, Gluten, Soy.            May Contain Tree Nuts, Other Gluten Containing Ingredients.           Product Contains 67% Milk Chocolate and 33% Wafer Fingers.          Milk Chocolate Contains Minimum 22% Cocoa Solids, 25% Milk Solids.          ^ Rainforest Alliance Certified   Cocoa. Find Out More at Ra.Org.<br>Ingredient: Salt<br>IngredientResearch: Salt",
          "Product: Arnott's Premier Chocolate Chip Cookies<br>Recipe: Chocolate Chips (40%) (Sugar, Cocoa Mass, Milk Solids, Vegetable Oil, Emulsifiers (Soy Lecithin, E476), Cocoa Butter, Flavour, Salt), Wheat Flour, Sugar, Vegetable Oil, Desiccated Coconut, Wheat Starch, Salt, Baking Powder, Flavour, Food Colour (Caramel IV), Emulsifier (Soy Lecithin), Antioxidant (E307B from Soy).<br>Ingredient: Salt<br>IngredientResearch: Salt",
          "Product: Woolworths Chocolate Chip Cookies<br>Recipe: Wheat Flour, Sugar, Dark Compound Chocolate Chips (20%) (Sugar, Palm Oil, Cocoa Solids, Emulsifier (Soy Lecithin), Natural Flavour), Vegetable Oil (Palm Oil, Antioxidant (307b)), Wheaten Corn Flour (Wheat), Whole Egg Powder, Whey Powder (Milk), Raising Agents (Sodium Carbonates, Ammonium Carbonates), Natural Flavour, Salt, Natural Colour (Annatto Extracts)<br>Ingredient: Salt<br>IngredientResearch: Salt",
          "Product: Woolworths The King Of Chunky Chocolate Chip Cookies<br>Recipe: <p>Dark Chocolate Chips (40%) (Sugar, Cocoa Mass, Cocoa Butter, Emulsifier (Lecithin (Soy), Natural Vanilla Flavour), Wheat Flour, Sugar, Vegetable Oil (Palm Oil, Antioxidant (307b)), Butter (Milk), Whey Powder (Milk), Natural Flavours (Vanilla, Butter (Milk), Salt, Raising Agents (Sodium Carbonate, Ammonium Carbonate), Dark Chocolate contains minimum 40% Cocoa Solids.</p><br>Ingredient: Salt<br>IngredientResearch: Salt",
          "Product: Arnott's Mini Choc Chip Cookie Multipack Biscuits<br>Recipe: Wheat Flour, Chocolate Chips (24%) (Sugar, Cocoa Mass, Cocoa Butter, Natural Flavour, Emulsifier (Soy Lecithin)), Sugar, Vegetable Oil, Butter (Contains Milk), Desiccated Coconut, Skim Milk Powder, Baking Powder, Salt, Emulsifier (Soy Lecithin), Natural Flavour, Antioxidant (E307b From Soy).<br>Ingredient: Salt<br>IngredientResearch: Salt",
          "Product: Deep Cove Sardines In Oil<br>Recipe: Sardines (Fish) (67%), Vegetable Oil (14%), Water, Salt<br>Ingredient: Salt<br>IngredientResearch: Salt",
          "Product: Woolworths Creamed Rice<br>Recipe: Rice (44%), Milk, Skim Milk, Sugar, Salt, Acidity Regulator (339), Natural Vanilla Flavour<br>Ingredient: Salt<br>IngredientResearch: Salt",
          "Product: Woolworths Tomato Sauce Squeeze<br>Recipe: Reconstituted Tomato Puree (78%), Sugar, Thickener (Modified Corn Starch), Salt, Acidity Regulators (Acetic Acid, Citric Acid), Natural Flavour, Spice Extract<br>Ingredient: Salt<br>IngredientResearch: Salt",
          "Product: Woolworths Tomato Sauce<br>Recipe: Reconstituted Tomato Puree (78%), Sugar, Thickener (Modified Corn Starch), Salt, Acidity Regulators (Acetic Acid, Citric Acid), Natural Flavour, Spice Extract<br>Ingredient: Salt<br>IngredientResearch: Salt",
          "Product: Woolworths Barbecue Sauce Squeeze<br>Recipe: Reconstituted Fruit Puree, Apple Pulp, Tomato Paste, Sugar, Thickener (Modified Corn Starch), Salt, Acidity Regulators (Acetic Acid, Citric Acid), Molasses, Natural Colour (Caramel I), Smoke Flavour, Spices, Natural Flavour, Vegetable Gum (Xanthan Gum)<br>Ingredient: Salt<br>IngredientResearch: Salt",
          "Product: Masterfoods Tomato Sauce<br>Recipe: Tomatoes (from Paste, Food Acid (Citric))77% , Sugar, Salt, Food Acid (Acetic), Onion, Spice Extract.<br>Ingredient: Salt<br>IngredientResearch: Salt",
          "Product: Masterfoods Barbecue Sauce<br>Recipe: Tomatoes (from Paste, Food Acid (Citric)) 45%, Sugar, Water, Cornflour (from Wheat), Food Acids (Acetic, Citric), Salt, Glucose Syrup, Colour (Caramel (150c)), Thickener (Pectin), Tamarind Paste, Yeast Extract, Clove, Nutmeg, Onion 0.5%, Pepper.<br>Ingredient: Salt<br>IngredientResearch: Salt",
          "Product: Woolworths Secret Burger Sauce<br>Recipe: Canola Oil, Water, Sugar, Vinegar, Thickener (1422, Xanthan Gum), Free Range Egg Yolk,  Gherkin, Salt, Onion Powder, Natural Colour (Carotene, Paprika Oleoresins), Preservative (Potassium Sorbate), Dill, Acidity Regulator (Citric Acid), Herb Extract, Mustard Oil.<br>Ingredient: Salt<br>IngredientResearch: Salt",
          "Product: Woolworths Barbecue Sauce<br>Recipe: Reconstituted Fruit Puree (51%) (Apple Pulp, Tomato Paste), Sugar, Thickener (Modified Corn Starch), Salt, Acidity Regulators (Acetic Acid, Citric Acid), Molasses, Natural Colour (Caramel I), Smoke Flavour, Spices, Natural Flavour, Vegetable Gum (Xanthan Gum)<br>Ingredient: Salt<br>IngredientResearch: Salt",
          "Product: Smith's Crinkle Cut Potato Chips Original<br>Recipe: Potatoes (64%), Canola Oil, Sunflower Oil, Salt, A,ntioxidants (Tocopherols, Ascorbic Acid, Rosemary,Extract, Citric Acid).<br>Ingredient: Salt<br>IngredientResearch: Salt",
          "Product: Smith's Crinkle Cut Potato Chips Cheese & Onion<br>Recipe: Potatoes (61%), Canola Oil, Sunflower Oil, Whey Po,wder (Milk), Cheese Powder (Milk), Salt, Onion Pow,der, Dextrose, Maltodextrin, Mineral Salt (Potassi,um Chloride), Flavour Enhancer (621), Natural Flav,ours (Milk), Yeast Extract, Food Acids (Citric Aci,<br>Ingredient: Salt<br>IngredientResearch: Salt",
          "Product: Smith's Crinkle Cut Potato Chips Barbecue<br>Recipe: Potatoes, Canola Oil, Sunflower Oil, Sugar, Maltod,extrin, Salt, Tomato Powder, Flavour Enhancers (62,1, 635), Food Acids (Sodium Diacetate, Citric Acid,), Flavours, Mineral Salt (Potassium Chloride), On,ion Powder, Garlic Powder, Natural Colour (Paprika,<br>Ingredient: Salt<br>IngredientResearch: Salt",
          "Product: Smith's Crinkle Cut Potato Chips Chicken<br>Recipe: Potatoes (61%), Canola Oil, Sunflower Oil, Maltode,xtrin, Sugar, Salt, Flavour Enhancers (621, 635, 6,20), Flavours (Milk), Mineral Salt (Potassium Chlo,ride), Onion Powder, Yeast Extract, Herb (Parsley),, Spice (Turmeric), Antioxidants (Tocopherols, ASCORBIC ACID, ROSEMARY EXTRACT, CITRIC ACID)<br>Ingredient: Salt<br>IngredientResearch: Salt",
          "Product: Smith's Thinly Cut Potato Chips Original Share Pack<br>Recipe: Potatoes (64%), Canola Oil, Sunflower Oil, Salt, Antioxidants (Tocopherols, Ascorbic Acid, Rosemary Extract, Citric Acid).<br>Ingredient: Salt<br>IngredientResearch: Salt",
          "Product: Smith's Crinkle Cut Potato Chips Salt & Vinegar<br>Recipe: Potatoes (61%), Canola Oil, Sunflower Oil, Food Acids (Sodium Diacetate, Citric Acid), Lactose (Milk), Salt, Mineral Salt (Potassium Chloride), Sugar, Flavour Enhancer (621), Dextrose, Natural Flavours, Antioxidants (Tocopherols, Ascorbic Acid, Rosemary Extract).<br>Ingredient: Salt<br>IngredientResearch: Salt",
          "Product: Maggi 2 Minute Chicken Flavour Instant Noodles<br>Recipe: <div>Our Chosen Ingredients: Noodle Cake: Wheat  Flour, Vegetable Oil (Antioxidant (319)), Salt, Mineral Salts (508, 451, 501, 500), Vegetable Gum (412). Flavour Mix Sachet: Iodised Salt, Flavour Enhancers (621, 635), Mineral Salt (508), Maltodextrin, Flavours (Contains  Wheat ,  Soy  and  Celery), Sugar, Onion Powder, Vegetable Fat (Antioxidant (320)), Parsley Flakes, Colours (Turmeric, Caramel Iii), Spices (Coriander, Cumin, Cardamom, Chilli Powder, Ginger).</div><br>Ingredient: 621<br>IngredientResearch: Flavour Enhancer 621",
          "Product: Maggi 2 Minute Chicken Flavour Instant Noodles<br>Recipe: Ingredients:        Noodle Cake : Australian  Whea T Flour (70%), Vegetable Oil Antioxidant (319), Salt, Mineral Salts (508, 451, 501, 500), Vegetable Gum (412).   Flavour Sachet : Salt, Flavour Enhancers (621, 635), Mineral Salt (Potassium Chloride), Flavours Flavour Enhancer (621), Celery,  Soy ,  Wheat , Sugar, Onion, Vegetable Fat Antioxidant (320), Potato Starch, Parsley, Spices (Turmeric, Coriander, Cumin, Chilli, Cardamom, Ginger), Burnt Sugar.       Contains Gluten, Wheat, Soy.        May Contain Crustacean, Fish, Milk, Mustard.<br>Ingredient: 621<br>IngredientResearch: Flavour Enhancer 621",
          "Product: Supreme Noodles Cup Chicken Flavour<br>Recipe: Noodles: Wheat Flour (Gluten), Vegetable Oil (Antioxidant (320)), Salt. Flavour Sachet: Salt, Flavour Enhancers (621, 635), Flavours (Flavour Enhancers (621, 635), Wheat (Gluten), Soy), Sugar, Maltodextrin, Onion Powder, Herbs, Yeast Extract, Colour (Curcumin).<br>Ingredient: 621<br>IngredientResearch: Flavour Enhancer 621",
          "Product: Maggi 2 Minute Beef Flavour Instant Noodles<br>Recipe: Ingredients       Noodle Cake :  Australian  Wheat  Flour (70%), Vegetable Oil Antioxidant (319), Salt, Mineral Salts (508, 451, 501, 500), Vegetable Gum (412).      Flavour Sachet: Mineral Salt (Potassium Chloride), Salt, Flavour Enhancers (621, 635), Sugar, Yeast Extract, Flavour, Burnt Sugar, Vegetable Fat Antioxidant (320), Onion,  Soy  Sauce Powder ( Wheat, Soy ), Food Acid (Citric), White Pepper, Rosemary.       Contains Gluten, Wheat, Soy .       May Contain Celery, Crustacean, Fish, Milk, Mustard.<br>Ingredient: 621<br>IngredientResearch: Flavour Enhancer 621",
          "Product: Supreme Noodles Cup Beef Flavour<br>Recipe: Noodles: Wheat Flour (Gluten), Vegetable Oil (Antioxidant (320)), Salt. Flavour Sachet: Salt, Flavour Enhancers (621, 635), Flavours (Flavour Enhancers (621, 635), Wheat (Gluten), Soy), Colour (150c)), Herbs and Spices, Colours (Caramel, Curcumin, Sugar, Garlic Powder.<br>Ingredient: 621<br>IngredientResearch: Flavour Enhancer 621",
          "Product: Smith's Crinkle Cut Potato Chips Cheese & Onion<br>Recipe: Potatoes (61%), Canola Oil, Sunflower Oil, Whey Po,wder (Milk), Cheese Powder (Milk), Salt, Onion Pow,der, Dextrose, Maltodextrin, Mineral Salt (Potassi,um Chloride), Flavour Enhancer (621), Natural Flav,ours (Milk), Yeast Extract, Food Acids (Citric Aci,<br>Ingredient: 621<br>IngredientResearch: Flavour Enhancer 621",
          "Product: Smith's Crinkle Cut Potato Chips Barbecue<br>Recipe: Potatoes, Canola Oil, Sunflower Oil, Sugar, Maltod,extrin, Salt, Tomato Powder, Flavour Enhancers (62,1, 635), Food Acids (Sodium Diacetate, Citric Acid,), Flavours, Mineral Salt (Potassium Chloride), On,ion Powder, Garlic Powder, Natural Colour (Paprika,<br>Ingredient: 621<br>IngredientResearch: Flavour Enhancer 621",
          "Product: Smith's Crinkle Cut Potato Chips Chicken<br>Recipe: Potatoes (61%), Canola Oil, Sunflower Oil, Maltode,xtrin, Sugar, Salt, Flavour Enhancers (621, 635, 6,20), Flavours (Milk), Mineral Salt (Potassium Chlo,ride), Onion Powder, Yeast Extract, Herb (Parsley),, Spice (Turmeric), Antioxidants (Tocopherols, ASCORBIC ACID, ROSEMARY EXTRACT, CITRIC ACID)<br>Ingredient: 621<br>IngredientResearch: Flavour Enhancer 621",
          "Product: Smith's Crinkle Cut Potato Chips Salt & Vinegar<br>Recipe: Potatoes (61%), Canola Oil, Sunflower Oil, Food Acids (Sodium Diacetate, Citric Acid), Lactose (Milk), Salt, Mineral Salt (Potassium Chloride), Sugar, Flavour Enhancer (621), Dextrose, Natural Flavours, Antioxidants (Tocopherols, Ascorbic Acid, Rosemary Extract).<br>Ingredient: 621<br>IngredientResearch: Flavour Enhancer 621",
          "Product: Supreme Noodles Cup Beef Flavour<br>Recipe: Noodles: Wheat Flour (Gluten), Vegetable Oil (Antioxidant (320)), Salt. Flavour Sachet: Salt, Flavour Enhancers (621, 635), Flavours (Flavour Enhancers (621, 635), Wheat (Gluten), Soy), Colour (150c)), Herbs and Spices, Colours (Caramel, Curcumin, Sugar, Garlic Powder.<br>Ingredient: Garlic Powder<br>IngredientResearch: Garlic Powder",
          "Product: Smith's Crinkle Cut Potato Chips Barbecue<br>Recipe: Potatoes, Canola Oil, Sunflower Oil, Sugar, Maltod,extrin, Salt, Tomato Powder, Flavour Enhancers (62,1, 635), Food Acids (Sodium Diacetate, Citric Acid,), Flavours, Mineral Salt (Potassium Chloride), On,ion Powder, Garlic Powder, Natural Colour (Paprika,<br>Ingredient: Garlic Powder<br>IngredientResearch: Garlic Powder",
          "Product: Maggi 2 Minute Chicken Flavour Instant Noodles<br>Recipe: <div>Our Chosen Ingredients: Noodle Cake: Wheat  Flour, Vegetable Oil (Antioxidant (319)), Salt, Mineral Salts (508, 451, 501, 500), Vegetable Gum (412). Flavour Mix Sachet: Iodised Salt, Flavour Enhancers (621, 635), Mineral Salt (508), Maltodextrin, Flavours (Contains  Wheat ,  Soy  and  Celery), Sugar, Onion Powder, Vegetable Fat (Antioxidant (320)), Parsley Flakes, Colours (Turmeric, Caramel Iii), Spices (Coriander, Cumin, Cardamom, Chilli Powder, Ginger).</div><br>Ingredient: Onion Powder<br>IngredientResearch: Onion Powder",
          "Product: Supreme Noodles Cup Chicken Flavour<br>Recipe: Noodles: Wheat Flour (Gluten), Vegetable Oil (Antioxidant (320)), Salt. Flavour Sachet: Salt, Flavour Enhancers (621, 635), Flavours (Flavour Enhancers (621, 635), Wheat (Gluten), Soy), Sugar, Maltodextrin, Onion Powder, Herbs, Yeast Extract, Colour (Curcumin).<br>Ingredient: Onion Powder<br>IngredientResearch: Onion Powder",
          "Product: Woolworths Secret Burger Sauce<br>Recipe: Canola Oil, Water, Sugar, Vinegar, Thickener (1422, Xanthan Gum), Free Range Egg Yolk,  Gherkin, Salt, Onion Powder, Natural Colour (Carotene, Paprika Oleoresins), Preservative (Potassium Sorbate), Dill, Acidity Regulator (Citric Acid), Herb Extract, Mustard Oil.<br>Ingredient: Onion Powder<br>IngredientResearch: Onion Powder",
          "Product: Smith's Crinkle Cut Potato Chips Cheese & Onion<br>Recipe: Potatoes (61%), Canola Oil, Sunflower Oil, Whey Po,wder (Milk), Cheese Powder (Milk), Salt, Onion Pow,der, Dextrose, Maltodextrin, Mineral Salt (Potassi,um Chloride), Flavour Enhancer (621), Natural Flav,ours (Milk), Yeast Extract, Food Acids (Citric Aci,<br>Ingredient: Onion Powder<br>IngredientResearch: Onion Powder",
          "Product: Smith's Crinkle Cut Potato Chips Barbecue<br>Recipe: Potatoes, Canola Oil, Sunflower Oil, Sugar, Maltod,extrin, Salt, Tomato Powder, Flavour Enhancers (62,1, 635), Food Acids (Sodium Diacetate, Citric Acid,), Flavours, Mineral Salt (Potassium Chloride), On,ion Powder, Garlic Powder, Natural Colour (Paprika,<br>Ingredient: Onion Powder<br>IngredientResearch: Onion Powder",
          "Product: Smith's Crinkle Cut Potato Chips Chicken<br>Recipe: Potatoes (61%), Canola Oil, Sunflower Oil, Maltode,xtrin, Sugar, Salt, Flavour Enhancers (621, 635, 6,20), Flavours (Milk), Mineral Salt (Potassium Chlo,ride), Onion Powder, Yeast Extract, Herb (Parsley),, Spice (Turmeric), Antioxidants (Tocopherols, ASCORBIC ACID, ROSEMARY EXTRACT, CITRIC ACID)<br>Ingredient: Onion Powder<br>IngredientResearch: Onion Powder",
          "Product: Supreme Noodles Cup Chicken Flavour<br>Recipe: Noodles: Wheat Flour (Gluten), Vegetable Oil (Antioxidant (320)), Salt. Flavour Sachet: Salt, Flavour Enhancers (621, 635), Flavours (Flavour Enhancers (621, 635), Wheat (Gluten), Soy), Sugar, Maltodextrin, Onion Powder, Herbs, Yeast Extract, Colour (Curcumin).<br>Ingredient: Yeast Extract<br>IngredientResearch: Yeast Extract",
          "Product: Maggi 2 Minute Beef Flavour Instant Noodles<br>Recipe: Ingredients       Noodle Cake :  Australian  Wheat  Flour (70%), Vegetable Oil Antioxidant (319), Salt, Mineral Salts (508, 451, 501, 500), Vegetable Gum (412).      Flavour Sachet: Mineral Salt (Potassium Chloride), Salt, Flavour Enhancers (621, 635), Sugar, Yeast Extract, Flavour, Burnt Sugar, Vegetable Fat Antioxidant (320), Onion,  Soy  Sauce Powder ( Wheat, Soy ), Food Acid (Citric), White Pepper, Rosemary.       Contains Gluten, Wheat, Soy .       May Contain Celery, Crustacean, Fish, Milk, Mustard.<br>Ingredient: Yeast Extract<br>IngredientResearch: Yeast Extract",
          "Product: Masterfoods Barbecue Sauce<br>Recipe: Tomatoes (from Paste, Food Acid (Citric)) 45%, Sugar, Water, Cornflour (from Wheat), Food Acids (Acetic, Citric), Salt, Glucose Syrup, Colour (Caramel (150c)), Thickener (Pectin), Tamarind Paste, Yeast Extract, Clove, Nutmeg, Onion 0.5%, Pepper.<br>Ingredient: Yeast Extract<br>IngredientResearch: Yeast Extract",
          "Product: Smith's Crinkle Cut Potato Chips Cheese & Onion<br>Recipe: Potatoes (61%), Canola Oil, Sunflower Oil, Whey Po,wder (Milk), Cheese Powder (Milk), Salt, Onion Pow,der, Dextrose, Maltodextrin, Mineral Salt (Potassi,um Chloride), Flavour Enhancer (621), Natural Flav,ours (Milk), Yeast Extract, Food Acids (Citric Aci,<br>Ingredient: Yeast Extract<br>IngredientResearch: Yeast Extract",
          "Product: Smith's Crinkle Cut Potato Chips Chicken<br>Recipe: Potatoes (61%), Canola Oil, Sunflower Oil, Maltode,xtrin, Sugar, Salt, Flavour Enhancers (621, 635, 6,20), Flavours (Milk), Mineral Salt (Potassium Chlo,ride), Onion Powder, Yeast Extract, Herb (Parsley),, Spice (Turmeric), Antioxidants (Tocopherols, ASCORBIC ACID, ROSEMARY EXTRACT, CITRIC ACID)<br>Ingredient: Yeast Extract<br>IngredientResearch: Yeast Extract",
          "Product: Masterfoods Barbecue Sauce<br>Recipe: Tomatoes (from Paste, Food Acid (Citric)) 45%, Sugar, Water, Cornflour (from Wheat), Food Acids (Acetic, Citric), Salt, Glucose Syrup, Colour (Caramel (150c)), Thickener (Pectin), Tamarind Paste, Yeast Extract, Clove, Nutmeg, Onion 0.5%, Pepper.<br>Ingredient: Pepper<br>IngredientResearch: Pepper",
          "Product: Maggi 2 Minute Chicken Flavour Instant Noodles<br>Recipe: Ingredients:        Noodle Cake : Australian  Whea T Flour (70%), Vegetable Oil Antioxidant (319), Salt, Mineral Salts (508, 451, 501, 500), Vegetable Gum (412).   Flavour Sachet : Salt, Flavour Enhancers (621, 635), Mineral Salt (Potassium Chloride), Flavours Flavour Enhancer (621), Celery,  Soy ,  Wheat , Sugar, Onion, Vegetable Fat Antioxidant (320), Potato Starch, Parsley, Spices (Turmeric, Coriander, Cumin, Chilli, Cardamom, Ginger), Burnt Sugar.       Contains Gluten, Wheat, Soy.        May Contain Crustacean, Fish, Milk, Mustard.<br>Ingredient: Onion<br>IngredientResearch: Onion",
          "Product: Maggi 2 Minute Beef Flavour Instant Noodles<br>Recipe: Ingredients       Noodle Cake :  Australian  Wheat  Flour (70%), Vegetable Oil Antioxidant (319), Salt, Mineral Salts (508, 451, 501, 500), Vegetable Gum (412).      Flavour Sachet: Mineral Salt (Potassium Chloride), Salt, Flavour Enhancers (621, 635), Sugar, Yeast Extract, Flavour, Burnt Sugar, Vegetable Fat Antioxidant (320), Onion,  Soy  Sauce Powder ( Wheat, Soy ), Food Acid (Citric), White Pepper, Rosemary.       Contains Gluten, Wheat, Soy .       May Contain Celery, Crustacean, Fish, Milk, Mustard.<br>Ingredient: Onion<br>IngredientResearch: Onion",
          "Product: Masterfoods Tomato Sauce<br>Recipe: Tomatoes (from Paste, Food Acid (Citric))77% , Sugar, Salt, Food Acid (Acetic), Onion, Spice Extract.<br>Ingredient: Onion<br>IngredientResearch: Onion",
          "Product: Masterfoods Barbecue Sauce<br>Recipe: Tomatoes (from Paste, Food Acid (Citric)) 45%, Sugar, Water, Cornflour (from Wheat), Food Acids (Acetic, Citric), Salt, Glucose Syrup, Colour (Caramel (150c)), Thickener (Pectin), Tamarind Paste, Yeast Extract, Clove, Nutmeg, Onion 0.5%, Pepper.<br>Ingredient: Onion<br>IngredientResearch: Onion",
          "Product: Golden Circle Golden Pash Fruit Drink<br>Recipe: Water, Reconstituted Fruit Juice Pear or Apple (15%), Pineapple (9%), Passionfruit (1%), Sugar, Food Acids (Citric Acid, Potassium Citrate), Vitamin C, Natural Flavours.<br>Ingredient: Water<br>IngredientResearch: Water",
          "Product: Essentials Coconut Cream<br>Recipe: Coconut Extract (76%), Water, Thickener (Guar Gum)<br>Ingredient: Water<br>IngredientResearch: Water",
          "Product: Deep Cove Sardines In Oil<br>Recipe: Sardines (Fish) (67%), Vegetable Oil (14%), Water, Salt<br>Ingredient: Water<br>IngredientResearch: Water",
          "Product: Essentials Coconut Milk<br>Recipe: Coconut Extract (50%), Water, Thickener (Guar Gum)<br>Ingredient: Water<br>IngredientResearch: Water",
          "Product: Masterfoods Barbecue Sauce<br>Recipe: Tomatoes (from Paste, Food Acid (Citric)) 45%, Sugar, Water, Cornflour (from Wheat), Food Acids (Acetic, Citric), Salt, Glucose Syrup, Colour (Caramel (150c)), Thickener (Pectin), Tamarind Paste, Yeast Extract, Clove, Nutmeg, Onion 0.5%, Pepper.<br>Ingredient: Water<br>IngredientResearch: Water",
          "Product: Woolworths Secret Burger Sauce<br>Recipe: Canola Oil, Water, Sugar, Vinegar, Thickener (1422, Xanthan Gum), Free Range Egg Yolk,  Gherkin, Salt, Onion Powder, Natural Colour (Carotene, Paprika Oleoresins), Preservative (Potassium Sorbate), Dill, Acidity Regulator (Citric Acid), Herb Extract, Mustard Oil.<br>Ingredient: Water<br>IngredientResearch: Water",
          "Product: Woolworths Peach In Strawberry Jelly<br>Recipe: Jelly (70%) (Water, Sugar, Gelling Agents (Carrageenan, Locust Bean Gum, Xanthan Gum), Acidity Regulators (Sodium Citrate, Potassium Citrate, Calcium Lactate, Malic Acid, Citric Acid), Natural Strawberry Flavour, Natural Colour (Cochineal), Antioxidant (Ascorbic Acid)), Peach (30%)<br>Ingredient: Water<br>IngredientResearch: Water",
          "Product: Woolworths Two Fruits In Juice Cups<br>Recipe: Fruits (55%) (Peach, Pear), Reconstituted Refined Juice (Water, Concentrated Pear Juice, Antioxidant (Ascorbic Acid), Acidity Regulator (Citric Acid))<br>Ingredient: Water<br>IngredientResearch: Water",
          "Product: Woolworths Two Fruits In Juice<br>Recipe: Fruits (55%) (Peach, Pear), Reconstituted Refined Juice (Water, Concentrated Pear Juice, Antioxidant (Ascorbic Acid), Acidity Regulator (Citric Acid))<br>Ingredient: Water<br>IngredientResearch: Water",
          "Product: Woolworths Two Fruits In Tropical Jelly<br>Recipe: Jelly (70%) (Water, Sugar, Gelling Agents (Carrageenan, Locust Bean Gum, Xanthan Gum), Acidity Regulators (Sodium Citrates, Potassium Citrates, Calcium Lactate, Malic Acid, Citric Acid), Natural Flavours (Pineapple, Mango), Natural Colours (Carotene, Paprika Oleoresins), Antioxidant (Ascorbic Acid)), Peach (15%), Pear (15%)<br>Ingredient: Water<br>IngredientResearch: Water",
          "Product: Woolworths Apple In Pineapple Jelly<br>Recipe: Jelly (70%) (Water, Sugar, Gelling Agents (Carrageenan, Locust Bean Gum, Xanthan Gum), Acidity Regulators (Sodium Citrate, Potassium Citrate, Calcium Lactate, Malic Acid, Citric Acid), Natural Pineapple Flavour, Natural Colour (Carotene), Antioxidant (Ascorbic Acid)), Apple (30%)<br>Ingredient: Water<br>IngredientResearch: Water",
          "Product: Maggi 2 Minute Beef Flavour Instant Noodles<br>Recipe: Ingredients       Noodle Cake :  Australian  Wheat  Flour (70%), Vegetable Oil Antioxidant (319), Salt, Mineral Salts (508, 451, 501, 500), Vegetable Gum (412).      Flavour Sachet: Mineral Salt (Potassium Chloride), Salt, Flavour Enhancers (621, 635), Sugar, Yeast Extract, Flavour, Burnt Sugar, Vegetable Fat Antioxidant (320), Onion,  Soy  Sauce Powder ( Wheat, Soy ), Food Acid (Citric), White Pepper, Rosemary.       Contains Gluten, Wheat, Soy .       May Contain Celery, Crustacean, Fish, Milk, Mustard.<br>Ingredient: Wheat<br>IngredientResearch: Wheat",
          "Product: Supreme Noodles Cup Beef Flavour<br>Recipe: Noodles: Wheat Flour (Gluten), Vegetable Oil (Antioxidant (320)), Salt. Flavour Sachet: Salt, Flavour Enhancers (621, 635), Flavours (Flavour Enhancers (621, 635), Wheat (Gluten), Soy), Colour (150c)), Herbs and Spices, Colours (Caramel, Curcumin, Sugar, Garlic Powder.<br>Ingredient: Wheat<br>IngredientResearch: Wheat",
          "Product: Kitkat 4 Finger Milk Chocolate Bar<br>Recipe: Ingredients:           Sugar,  Milk  Solids,  Wheat  Flour, Cocoa Butter^, Vegetable Fat Emulsifier ( Soy  Lecithin), Cocoa Mass^, Choc Paste ( Milk, Wheat, Soy ), Emulsifiers ( Soy  Lecithin, 476),  Cocoa^,  Raising Agent (Sodium Bicarbonate), Salt, Yeast,    Flavour,   Processing Aid (  Wheat  ).          Contains Milk, Wheat, Gluten, Soy.            May Contain Tree Nuts, Other Gluten Containing Ingredients.           Product Contains 67% Milk Chocolate and 33% Wafer Fingers.          Milk Chocolate Contains Minimum 22% Cocoa Solids, 25% Milk Solids.          ^ Rainforest Alliance Certified   Cocoa. Find Out More at Ra.Org.<br>Ingredient: Wheat<br>IngredientResearch: Wheat",
          "Product: Woolworths Chocolate Chip Cookies<br>Recipe: Wheat Flour, Sugar, Dark Compound Chocolate Chips (20%) (Sugar, Palm Oil, Cocoa Solids, Emulsifier (Soy Lecithin), Natural Flavour), Vegetable Oil (Palm Oil, Antioxidant (307b)), Wheaten Corn Flour (Wheat), Whole Egg Powder, Whey Powder (Milk), Raising Agents (Sodium Carbonates, Ammonium Carbonates), Natural Flavour, Salt, Natural Colour (Annatto Extracts)<br>Ingredient: Wheat<br>IngredientResearch: Wheat",
          "Product: Woolworths Barbecue Sauce Squeeze<br>Recipe: Reconstituted Fruit Puree, Apple Pulp, Tomato Paste, Sugar, Thickener (Modified Corn Starch), Salt, Acidity Regulators (Acetic Acid, Citric Acid), Molasses, Natural Colour (Caramel I), Smoke Flavour, Spices, Natural Flavour, Vegetable Gum (Xanthan Gum)<br>Ingredient: Spices<br>IngredientResearch: Spices",
          "Product: Woolworths Barbecue Sauce<br>Recipe: Reconstituted Fruit Puree (51%) (Apple Pulp, Tomato Paste), Sugar, Thickener (Modified Corn Starch), Salt, Acidity Regulators (Acetic Acid, Citric Acid), Molasses, Natural Colour (Caramel I), Smoke Flavour, Spices, Natural Flavour, Vegetable Gum (Xanthan Gum)<br>Ingredient: Spices<br>IngredientResearch: Spices",
          "Product: Supreme Noodles Cup Chicken Flavour<br>Recipe: Noodles: Wheat Flour (Gluten), Vegetable Oil (Antioxidant (320)), Salt. Flavour Sachet: Salt, Flavour Enhancers (621, 635), Flavours (Flavour Enhancers (621, 635), Wheat (Gluten), Soy), Sugar, Maltodextrin, Onion Powder, Herbs, Yeast Extract, Colour (Curcumin).<br>Ingredient: Herbs<br>IngredientResearch: Herbs",
          "Product: Schweppes Lime Soda Water With Lime Juice Bottle<br>Recipe: Carbonated Water, Reconstituted Lime Juice (5%), S ugar, Natural Flavour (With Lime Oils), Preservati ves (211, 223 (SULPHITES)), Plant Extracts (Garden ia, Carthamus).CONTAINS SULPHITES.<br>Ingredient: 223<br>IngredientResearch: Sodium Metabisulfite",
          "Product: Schweppes Lemon Lime Natural Mineral Water Bottle<br>Recipe: Carbonated Water (Mineral Water 80%, Purified Wate,r 11%), Reconstituted Juices (Lemon 4.5%, Lime 0.5,%), Sugar, Natural Flavours, Food Acids (Citric Ac,id, Sodium Citrate), Preservatives (211, 202, 223),, Natural Colour (Safflower Extract).<br>Ingredient: 223<br>IngredientResearch: Sodium Metabisulfite",
          "Product: Maggi 2 Minute Chicken Flavour Instant Noodles<br>Recipe: <div>Our Chosen Ingredients: Noodle Cake: Wheat  Flour, Vegetable Oil (Antioxidant (319)), Salt, Mineral Salts (508, 451, 501, 500), Vegetable Gum (412). Flavour Mix Sachet: Iodised Salt, Flavour Enhancers (621, 635), Mineral Salt (508), Maltodextrin, Flavours (Contains  Wheat ,  Soy  and  Celery), Sugar, Onion Powder, Vegetable Fat (Antioxidant (320)), Parsley Flakes, Colours (Turmeric, Caramel Iii), Spices (Coriander, Cumin, Cardamom, Chilli Powder, Ginger).</div><br>Ingredient: 319<br>IngredientResearch: TBHQ",
          "Product: Maggi 2 Minute Chicken Flavour Instant Noodles<br>Recipe: Ingredients:        Noodle Cake : Australian  Whea T Flour (70%), Vegetable Oil Antioxidant (319), Salt, Mineral Salts (508, 451, 501, 500), Vegetable Gum (412).   Flavour Sachet : Salt, Flavour Enhancers (621, 635), Mineral Salt (Potassium Chloride), Flavours Flavour Enhancer (621), Celery,  Soy ,  Wheat , Sugar, Onion, Vegetable Fat Antioxidant (320), Potato Starch, Parsley, Spices (Turmeric, Coriander, Cumin, Chilli, Cardamom, Ginger), Burnt Sugar.       Contains Gluten, Wheat, Soy.        May Contain Crustacean, Fish, Milk, Mustard.<br>Ingredient: 319<br>IngredientResearch: TBHQ",
          "Product: Maggi 2 Minute Beef Flavour Instant Noodles<br>Recipe: Ingredients       Noodle Cake :  Australian  Wheat  Flour (70%), Vegetable Oil Antioxidant (319), Salt, Mineral Salts (508, 451, 501, 500), Vegetable Gum (412).      Flavour Sachet: Mineral Salt (Potassium Chloride), Salt, Flavour Enhancers (621, 635), Sugar, Yeast Extract, Flavour, Burnt Sugar, Vegetable Fat Antioxidant (320), Onion,  Soy  Sauce Powder ( Wheat, Soy ), Food Acid (Citric), White Pepper, Rosemary.       Contains Gluten, Wheat, Soy .       May Contain Celery, Crustacean, Fish, Milk, Mustard.<br>Ingredient: 319<br>IngredientResearch: TBHQ",
          "Product: Maggi 2 Minute Chicken Flavour Instant Noodles<br>Recipe: <div>Our Chosen Ingredients: Noodle Cake: Wheat  Flour, Vegetable Oil (Antioxidant (319)), Salt, Mineral Salts (508, 451, 501, 500), Vegetable Gum (412). Flavour Mix Sachet: Iodised Salt, Flavour Enhancers (621, 635), Mineral Salt (508), Maltodextrin, Flavours (Contains  Wheat ,  Soy  and  Celery), Sugar, Onion Powder, Vegetable Fat (Antioxidant (320)), Parsley Flakes, Colours (Turmeric, Caramel Iii), Spices (Coriander, Cumin, Cardamom, Chilli Powder, Ginger).</div><br>Ingredient: Vegetable Oil<br>IngredientResearch: Vegetable Oil",
          "Product: Maggi 2 Minute Chicken Flavour Instant Noodles<br>Recipe: Ingredients:        Noodle Cake : Australian  Whea T Flour (70%), Vegetable Oil Antioxidant (319), Salt, Mineral Salts (508, 451, 501, 500), Vegetable Gum (412).   Flavour Sachet : Salt, Flavour Enhancers (621, 635), Mineral Salt (Potassium Chloride), Flavours Flavour Enhancer (621), Celery,  Soy ,  Wheat , Sugar, Onion, Vegetable Fat Antioxidant (320), Potato Starch, Parsley, Spices (Turmeric, Coriander, Cumin, Chilli, Cardamom, Ginger), Burnt Sugar.       Contains Gluten, Wheat, Soy.        May Contain Crustacean, Fish, Milk, Mustard.<br>Ingredient: Vegetable Oil<br>IngredientResearch: Vegetable Oil",
          "Product: Supreme Noodles Cup Chicken Flavour<br>Recipe: Noodles: Wheat Flour (Gluten), Vegetable Oil (Antioxidant (320)), Salt. Flavour Sachet: Salt, Flavour Enhancers (621, 635), Flavours (Flavour Enhancers (621, 635), Wheat (Gluten), Soy), Sugar, Maltodextrin, Onion Powder, Herbs, Yeast Extract, Colour (Curcumin).<br>Ingredient: Vegetable Oil<br>IngredientResearch: Vegetable Oil",
          "Product: Maggi 2 Minute Beef Flavour Instant Noodles<br>Recipe: Ingredients       Noodle Cake :  Australian  Wheat  Flour (70%), Vegetable Oil Antioxidant (319), Salt, Mineral Salts (508, 451, 501, 500), Vegetable Gum (412).      Flavour Sachet: Mineral Salt (Potassium Chloride), Salt, Flavour Enhancers (621, 635), Sugar, Yeast Extract, Flavour, Burnt Sugar, Vegetable Fat Antioxidant (320), Onion,  Soy  Sauce Powder ( Wheat, Soy ), Food Acid (Citric), White Pepper, Rosemary.       Contains Gluten, Wheat, Soy .       May Contain Celery, Crustacean, Fish, Milk, Mustard.<br>Ingredient: Vegetable Oil<br>IngredientResearch: Vegetable Oil",
          "Product: Supreme Noodles Cup Beef Flavour<br>Recipe: Noodles: Wheat Flour (Gluten), Vegetable Oil (Antioxidant (320)), Salt. Flavour Sachet: Salt, Flavour Enhancers (621, 635), Flavours (Flavour Enhancers (621, 635), Wheat (Gluten), Soy), Colour (150c)), Herbs and Spices, Colours (Caramel, Curcumin, Sugar, Garlic Powder.<br>Ingredient: Vegetable Oil<br>IngredientResearch: Vegetable Oil",
          "Product: Arnott's Premier Chocolate Chip Cookies<br>Recipe: Chocolate Chips (40%) (Sugar, Cocoa Mass, Milk Solids, Vegetable Oil, Emulsifiers (Soy Lecithin, E476), Cocoa Butter, Flavour, Salt), Wheat Flour, Sugar, Vegetable Oil, Desiccated Coconut, Wheat Starch, Salt, Baking Powder, Flavour, Food Colour (Caramel IV), Emulsifier (Soy Lecithin), Antioxidant (E307B from Soy).<br>Ingredient: Vegetable Oil<br>IngredientResearch: Vegetable Oil",
          "Product: Woolworths Chocolate Chip Cookies<br>Recipe: Wheat Flour, Sugar, Dark Compound Chocolate Chips (20%) (Sugar, Palm Oil, Cocoa Solids, Emulsifier (Soy Lecithin), Natural Flavour), Vegetable Oil (Palm Oil, Antioxidant (307b)), Wheaten Corn Flour (Wheat), Whole Egg Powder, Whey Powder (Milk), Raising Agents (Sodium Carbonates, Ammonium Carbonates), Natural Flavour, Salt, Natural Colour (Annatto Extracts)<br>Ingredient: Vegetable Oil<br>IngredientResearch: Vegetable Oil",
          "Product: Woolworths The King Of Chunky Chocolate Chip Cookies<br>Recipe: <p>Dark Chocolate Chips (40%) (Sugar, Cocoa Mass, Cocoa Butter, Emulsifier (Lecithin (Soy), Natural Vanilla Flavour), Wheat Flour, Sugar, Vegetable Oil (Palm Oil, Antioxidant (307b)), Butter (Milk), Whey Powder (Milk), Natural Flavours (Vanilla, Butter (Milk), Salt, Raising Agents (Sodium Carbonate, Ammonium Carbonate), Dark Chocolate contains minimum 40% Cocoa Solids.</p><br>Ingredient: Vegetable Oil<br>IngredientResearch: Vegetable Oil",
          "Product: Arnott's Mini Choc Chip Cookie Multipack Biscuits<br>Recipe: Wheat Flour, Chocolate Chips (24%) (Sugar, Cocoa Mass, Cocoa Butter, Natural Flavour, Emulsifier (Soy Lecithin)), Sugar, Vegetable Oil, Butter (Contains Milk), Desiccated Coconut, Skim Milk Powder, Baking Powder, Salt, Emulsifier (Soy Lecithin), Natural Flavour, Antioxidant (E307b From Soy).<br>Ingredient: Vegetable Oil<br>IngredientResearch: Vegetable Oil",
          "Product: Deep Cove Sardines In Oil<br>Recipe: Sardines (Fish) (67%), Vegetable Oil (14%), Water, Salt<br>Ingredient: Vegetable Oil<br>IngredientResearch: Vegetable Oil",
          "Product: Maggi 2 Minute Chicken Flavour Instant Noodles<br>Recipe: <div>Our Chosen Ingredients: Noodle Cake: Wheat  Flour, Vegetable Oil (Antioxidant (319)), Salt, Mineral Salts (508, 451, 501, 500), Vegetable Gum (412). Flavour Mix Sachet: Iodised Salt, Flavour Enhancers (621, 635), Mineral Salt (508), Maltodextrin, Flavours (Contains  Wheat ,  Soy  and  Celery), Sugar, Onion Powder, Vegetable Fat (Antioxidant (320)), Parsley Flakes, Colours (Turmeric, Caramel Iii), Spices (Coriander, Cumin, Cardamom, Chilli Powder, Ginger).</div><br>Ingredient: 320<br>IngredientResearch: Antioxidant 320",
          "Product: Maggi 2 Minute Chicken Flavour Instant Noodles<br>Recipe: Ingredients:        Noodle Cake : Australian  Whea T Flour (70%), Vegetable Oil Antioxidant (319), Salt, Mineral Salts (508, 451, 501, 500), Vegetable Gum (412).   Flavour Sachet : Salt, Flavour Enhancers (621, 635), Mineral Salt (Potassium Chloride), Flavours Flavour Enhancer (621), Celery,  Soy ,  Wheat , Sugar, Onion, Vegetable Fat Antioxidant (320), Potato Starch, Parsley, Spices (Turmeric, Coriander, Cumin, Chilli, Cardamom, Ginger), Burnt Sugar.       Contains Gluten, Wheat, Soy.        May Contain Crustacean, Fish, Milk, Mustard.<br>Ingredient: 320<br>IngredientResearch: Antioxidant 320",
          "Product: Maggi 2 Minute Beef Flavour Instant Noodles<br>Recipe: Ingredients       Noodle Cake :  Australian  Wheat  Flour (70%), Vegetable Oil Antioxidant (319), Salt, Mineral Salts (508, 451, 501, 500), Vegetable Gum (412).      Flavour Sachet: Mineral Salt (Potassium Chloride), Salt, Flavour Enhancers (621, 635), Sugar, Yeast Extract, Flavour, Burnt Sugar, Vegetable Fat Antioxidant (320), Onion,  Soy  Sauce Powder ( Wheat, Soy ), Food Acid (Citric), White Pepper, Rosemary.       Contains Gluten, Wheat, Soy .       May Contain Celery, Crustacean, Fish, Milk, Mustard.<br>Ingredient: 320<br>IngredientResearch: Antioxidant 320",
          "Product: Supreme Noodles Cup Beef Flavour<br>Recipe: Noodles: Wheat Flour (Gluten), Vegetable Oil (Antioxidant (320)), Salt. Flavour Sachet: Salt, Flavour Enhancers (621, 635), Flavours (Flavour Enhancers (621, 635), Wheat (Gluten), Soy), Colour (150c)), Herbs and Spices, Colours (Caramel, Curcumin, Sugar, Garlic Powder.<br>Ingredient: 320<br>IngredientResearch: Antioxidant 320",
          "Product: Maggi 2 Minute Chicken Flavour Instant Noodles<br>Recipe: <div>Our Chosen Ingredients: Noodle Cake: Wheat  Flour, Vegetable Oil (Antioxidant (319)), Salt, Mineral Salts (508, 451, 501, 500), Vegetable Gum (412). Flavour Mix Sachet: Iodised Salt, Flavour Enhancers (621, 635), Mineral Salt (508), Maltodextrin, Flavours (Contains  Wheat ,  Soy  and  Celery), Sugar, Onion Powder, Vegetable Fat (Antioxidant (320)), Parsley Flakes, Colours (Turmeric, Caramel Iii), Spices (Coriander, Cumin, Cardamom, Chilli Powder, Ginger).</div><br>Ingredient: 508<br>IngredientResearch: Mineral Salt 508",
          "Product: Maggi 2 Minute Chicken Flavour Instant Noodles<br>Recipe: Ingredients:        Noodle Cake : Australian  Whea T Flour (70%), Vegetable Oil Antioxidant (319), Salt, Mineral Salts (508, 451, 501, 500), Vegetable Gum (412).   Flavour Sachet : Salt, Flavour Enhancers (621, 635), Mineral Salt (Potassium Chloride), Flavours Flavour Enhancer (621), Celery,  Soy ,  Wheat , Sugar, Onion, Vegetable Fat Antioxidant (320), Potato Starch, Parsley, Spices (Turmeric, Coriander, Cumin, Chilli, Cardamom, Ginger), Burnt Sugar.       Contains Gluten, Wheat, Soy.        May Contain Crustacean, Fish, Milk, Mustard.<br>Ingredient: 508<br>IngredientResearch: Mineral Salt 508",
          "Product: Maggi 2 Minute Beef Flavour Instant Noodles<br>Recipe: Ingredients       Noodle Cake :  Australian  Wheat  Flour (70%), Vegetable Oil Antioxidant (319), Salt, Mineral Salts (508, 451, 501, 500), Vegetable Gum (412).      Flavour Sachet: Mineral Salt (Potassium Chloride), Salt, Flavour Enhancers (621, 635), Sugar, Yeast Extract, Flavour, Burnt Sugar, Vegetable Fat Antioxidant (320), Onion,  Soy  Sauce Powder ( Wheat, Soy ), Food Acid (Citric), White Pepper, Rosemary.       Contains Gluten, Wheat, Soy .       May Contain Celery, Crustacean, Fish, Milk, Mustard.<br>Ingredient: 508<br>IngredientResearch: Mineral Salt 508",
          "Product: Maggi 2 Minute Chicken Flavour Instant Noodles<br>Recipe: <div>Our Chosen Ingredients: Noodle Cake: Wheat  Flour, Vegetable Oil (Antioxidant (319)), Salt, Mineral Salts (508, 451, 501, 500), Vegetable Gum (412). Flavour Mix Sachet: Iodised Salt, Flavour Enhancers (621, 635), Mineral Salt (508), Maltodextrin, Flavours (Contains  Wheat ,  Soy  and  Celery), Sugar, Onion Powder, Vegetable Fat (Antioxidant (320)), Parsley Flakes, Colours (Turmeric, Caramel Iii), Spices (Coriander, Cumin, Cardamom, Chilli Powder, Ginger).</div><br>Ingredient: 451<br>IngredientResearch: Mineral Salt 451",
          "Product: Maggi 2 Minute Chicken Flavour Instant Noodles<br>Recipe: Ingredients:        Noodle Cake : Australian  Whea T Flour (70%), Vegetable Oil Antioxidant (319), Salt, Mineral Salts (508, 451, 501, 500), Vegetable Gum (412).   Flavour Sachet : Salt, Flavour Enhancers (621, 635), Mineral Salt (Potassium Chloride), Flavours Flavour Enhancer (621), Celery,  Soy ,  Wheat , Sugar, Onion, Vegetable Fat Antioxidant (320), Potato Starch, Parsley, Spices (Turmeric, Coriander, Cumin, Chilli, Cardamom, Ginger), Burnt Sugar.       Contains Gluten, Wheat, Soy.        May Contain Crustacean, Fish, Milk, Mustard.<br>Ingredient: 451<br>IngredientResearch: Mineral Salt 451",
          "Product: Maggi 2 Minute Beef Flavour Instant Noodles<br>Recipe: Ingredients       Noodle Cake :  Australian  Wheat  Flour (70%), Vegetable Oil Antioxidant (319), Salt, Mineral Salts (508, 451, 501, 500), Vegetable Gum (412).      Flavour Sachet: Mineral Salt (Potassium Chloride), Salt, Flavour Enhancers (621, 635), Sugar, Yeast Extract, Flavour, Burnt Sugar, Vegetable Fat Antioxidant (320), Onion,  Soy  Sauce Powder ( Wheat, Soy ), Food Acid (Citric), White Pepper, Rosemary.       Contains Gluten, Wheat, Soy .       May Contain Celery, Crustacean, Fish, Milk, Mustard.<br>Ingredient: 451<br>IngredientResearch: Mineral Salt 451",
          "Product: Maggi 2 Minute Chicken Flavour Instant Noodles<br>Recipe: <div>Our Chosen Ingredients: Noodle Cake: Wheat  Flour, Vegetable Oil (Antioxidant (319)), Salt, Mineral Salts (508, 451, 501, 500), Vegetable Gum (412). Flavour Mix Sachet: Iodised Salt, Flavour Enhancers (621, 635), Mineral Salt (508), Maltodextrin, Flavours (Contains  Wheat ,  Soy  and  Celery), Sugar, Onion Powder, Vegetable Fat (Antioxidant (320)), Parsley Flakes, Colours (Turmeric, Caramel Iii), Spices (Coriander, Cumin, Cardamom, Chilli Powder, Ginger).</div><br>Ingredient: 635<br>IngredientResearch: Flavour Enhancer 635",
          "Product: Maggi 2 Minute Chicken Flavour Instant Noodles<br>Recipe: Ingredients:        Noodle Cake : Australian  Whea T Flour (70%), Vegetable Oil Antioxidant (319), Salt, Mineral Salts (508, 451, 501, 500), Vegetable Gum (412).   Flavour Sachet : Salt, Flavour Enhancers (621, 635), Mineral Salt (Potassium Chloride), Flavours Flavour Enhancer (621), Celery,  Soy ,  Wheat , Sugar, Onion, Vegetable Fat Antioxidant (320), Potato Starch, Parsley, Spices (Turmeric, Coriander, Cumin, Chilli, Cardamom, Ginger), Burnt Sugar.       Contains Gluten, Wheat, Soy.        May Contain Crustacean, Fish, Milk, Mustard.<br>Ingredient: 635<br>IngredientResearch: Flavour Enhancer 635",
          "Product: Supreme Noodles Cup Chicken Flavour<br>Recipe: Noodles: Wheat Flour (Gluten), Vegetable Oil (Antioxidant (320)), Salt. Flavour Sachet: Salt, Flavour Enhancers (621, 635), Flavours (Flavour Enhancers (621, 635), Wheat (Gluten), Soy), Sugar, Maltodextrin, Onion Powder, Herbs, Yeast Extract, Colour (Curcumin).<br>Ingredient: 635<br>IngredientResearch: Flavour Enhancer 635",
          "Product: Maggi 2 Minute Beef Flavour Instant Noodles<br>Recipe: Ingredients       Noodle Cake :  Australian  Wheat  Flour (70%), Vegetable Oil Antioxidant (319), Salt, Mineral Salts (508, 451, 501, 500), Vegetable Gum (412).      Flavour Sachet: Mineral Salt (Potassium Chloride), Salt, Flavour Enhancers (621, 635), Sugar, Yeast Extract, Flavour, Burnt Sugar, Vegetable Fat Antioxidant (320), Onion,  Soy  Sauce Powder ( Wheat, Soy ), Food Acid (Citric), White Pepper, Rosemary.       Contains Gluten, Wheat, Soy .       May Contain Celery, Crustacean, Fish, Milk, Mustard.<br>Ingredient: 635<br>IngredientResearch: Flavour Enhancer 635",
          "Product: Supreme Noodles Cup Beef Flavour<br>Recipe: Noodles: Wheat Flour (Gluten), Vegetable Oil (Antioxidant (320)), Salt. Flavour Sachet: Salt, Flavour Enhancers (621, 635), Flavours (Flavour Enhancers (621, 635), Wheat (Gluten), Soy), Colour (150c)), Herbs and Spices, Colours (Caramel, Curcumin, Sugar, Garlic Powder.<br>Ingredient: 635<br>IngredientResearch: Flavour Enhancer 635",
          "Product: Smith's Crinkle Cut Potato Chips Barbecue<br>Recipe: Potatoes, Canola Oil, Sunflower Oil, Sugar, Maltod,extrin, Salt, Tomato Powder, Flavour Enhancers (62,1, 635), Food Acids (Sodium Diacetate, Citric Acid,), Flavours, Mineral Salt (Potassium Chloride), On,ion Powder, Garlic Powder, Natural Colour (Paprika,<br>Ingredient: 635<br>IngredientResearch: Flavour Enhancer 635",
          "Product: Smith's Crinkle Cut Potato Chips Chicken<br>Recipe: Potatoes (61%), Canola Oil, Sunflower Oil, Maltode,xtrin, Sugar, Salt, Flavour Enhancers (621, 635, 6,20), Flavours (Milk), Mineral Salt (Potassium Chlo,ride), Onion Powder, Yeast Extract, Herb (Parsley),, Spice (Turmeric), Antioxidants (Tocopherols, ASCORBIC ACID, ROSEMARY EXTRACT, CITRIC ACID)<br>Ingredient: 635<br>IngredientResearch: Flavour Enhancer 635",
          "Product: Maggi 2 Minute Chicken Flavour Instant Noodles<br>Recipe: <div>Our Chosen Ingredients: Noodle Cake: Wheat  Flour, Vegetable Oil (Antioxidant (319)), Salt, Mineral Salts (508, 451, 501, 500), Vegetable Gum (412). Flavour Mix Sachet: Iodised Salt, Flavour Enhancers (621, 635), Mineral Salt (508), Maltodextrin, Flavours (Contains  Wheat ,  Soy  and  Celery), Sugar, Onion Powder, Vegetable Fat (Antioxidant (320)), Parsley Flakes, Colours (Turmeric, Caramel Iii), Spices (Coriander, Cumin, Cardamom, Chilli Powder, Ginger).</div><br>Ingredient: 412<br>IngredientResearch: Guar Gum",
          "Product: Maggi 2 Minute Chicken Flavour Instant Noodles<br>Recipe: Ingredients:        Noodle Cake : Australian  Whea T Flour (70%), Vegetable Oil Antioxidant (319), Salt, Mineral Salts (508, 451, 501, 500), Vegetable Gum (412).   Flavour Sachet : Salt, Flavour Enhancers (621, 635), Mineral Salt (Potassium Chloride), Flavours Flavour Enhancer (621), Celery,  Soy ,  Wheat , Sugar, Onion, Vegetable Fat Antioxidant (320), Potato Starch, Parsley, Spices (Turmeric, Coriander, Cumin, Chilli, Cardamom, Ginger), Burnt Sugar.       Contains Gluten, Wheat, Soy.        May Contain Crustacean, Fish, Milk, Mustard.<br>Ingredient: 412<br>IngredientResearch: Guar Gum",
          "Product: Maggi 2 Minute Beef Flavour Instant Noodles<br>Recipe: Ingredients       Noodle Cake :  Australian  Wheat  Flour (70%), Vegetable Oil Antioxidant (319), Salt, Mineral Salts (508, 451, 501, 500), Vegetable Gum (412).      Flavour Sachet: Mineral Salt (Potassium Chloride), Salt, Flavour Enhancers (621, 635), Sugar, Yeast Extract, Flavour, Burnt Sugar, Vegetable Fat Antioxidant (320), Onion,  Soy  Sauce Powder ( Wheat, Soy ), Food Acid (Citric), White Pepper, Rosemary.       Contains Gluten, Wheat, Soy .       May Contain Celery, Crustacean, Fish, Milk, Mustard.<br>Ingredient: 412<br>IngredientResearch: Guar Gum",
          "Product: Maggi 2 Minute Chicken Flavour Instant Noodles<br>Recipe: <div>Our Chosen Ingredients: Noodle Cake: Wheat  Flour, Vegetable Oil (Antioxidant (319)), Salt, Mineral Salts (508, 451, 501, 500), Vegetable Gum (412). Flavour Mix Sachet: Iodised Salt, Flavour Enhancers (621, 635), Mineral Salt (508), Maltodextrin, Flavours (Contains  Wheat ,  Soy  and  Celery), Sugar, Onion Powder, Vegetable Fat (Antioxidant (320)), Parsley Flakes, Colours (Turmeric, Caramel Iii), Spices (Coriander, Cumin, Cardamom, Chilli Powder, Ginger).</div><br>Ingredient: Iodised Salt<br>IngredientResearch: Iodised Salt",
          "Product: Maggi 2 Minute Chicken Flavour Instant Noodles<br>Recipe: <div>Our Chosen Ingredients: Noodle Cake: Wheat  Flour, Vegetable Oil (Antioxidant (319)), Salt, Mineral Salts (508, 451, 501, 500), Vegetable Gum (412). Flavour Mix Sachet: Iodised Salt, Flavour Enhancers (621, 635), Mineral Salt (508), Maltodextrin, Flavours (Contains  Wheat ,  Soy  and  Celery), Sugar, Onion Powder, Vegetable Fat (Antioxidant (320)), Parsley Flakes, Colours (Turmeric, Caramel Iii), Spices (Coriander, Cumin, Cardamom, Chilli Powder, Ginger).</div><br>Ingredient: Maltodextrin<br>IngredientResearch: Maltodextrin",
          "Product: Supreme Noodles Cup Chicken Flavour<br>Recipe: Noodles: Wheat Flour (Gluten), Vegetable Oil (Antioxidant (320)), Salt. Flavour Sachet: Salt, Flavour Enhancers (621, 635), Flavours (Flavour Enhancers (621, 635), Wheat (Gluten), Soy), Sugar, Maltodextrin, Onion Powder, Herbs, Yeast Extract, Colour (Curcumin).<br>Ingredient: Maltodextrin<br>IngredientResearch: Maltodextrin",
          "Product: Smith's Crinkle Cut Potato Chips Cheese & Onion<br>Recipe: Potatoes (61%), Canola Oil, Sunflower Oil, Whey Po,wder (Milk), Cheese Powder (Milk), Salt, Onion Pow,der, Dextrose, Maltodextrin, Mineral Salt (Potassi,um Chloride), Flavour Enhancer (621), Natural Flav,ours (Milk), Yeast Extract, Food Acids (Citric Aci,<br>Ingredient: Maltodextrin<br>IngredientResearch: Maltodextrin",
          "Product: Smith's Crinkle Cut Potato Chips Barbecue<br>Recipe: Potatoes, Canola Oil, Sunflower Oil, Sugar, Maltod,extrin, Salt, Tomato Powder, Flavour Enhancers (62,1, 635), Food Acids (Sodium Diacetate, Citric Acid,), Flavours, Mineral Salt (Potassium Chloride), On,ion Powder, Garlic Powder, Natural Colour (Paprika,<br>Ingredient: Maltodextrin<br>IngredientResearch: Maltodextrin",
          "Product: Smith's Crinkle Cut Potato Chips Chicken<br>Recipe: Potatoes (61%), Canola Oil, Sunflower Oil, Maltode,xtrin, Sugar, Salt, Flavour Enhancers (621, 635, 6,20), Flavours (Milk), Mineral Salt (Potassium Chlo,ride), Onion Powder, Yeast Extract, Herb (Parsley),, Spice (Turmeric), Antioxidants (Tocopherols, ASCORBIC ACID, ROSEMARY EXTRACT, CITRIC ACID)<br>Ingredient: Maltodextrin<br>IngredientResearch: Maltodextrin",
          "Product: Maggi 2 Minute Chicken Flavour Instant Noodles<br>Recipe: <div>Our Chosen Ingredients: Noodle Cake: Wheat  Flour, Vegetable Oil (Antioxidant (319)), Salt, Mineral Salts (508, 451, 501, 500), Vegetable Gum (412). Flavour Mix Sachet: Iodised Salt, Flavour Enhancers (621, 635), Mineral Salt (508), Maltodextrin, Flavours (Contains  Wheat ,  Soy  and  Celery), Sugar, Onion Powder, Vegetable Fat (Antioxidant (320)), Parsley Flakes, Colours (Turmeric, Caramel Iii), Spices (Coriander, Cumin, Cardamom, Chilli Powder, Ginger).</div><br>Ingredient: Wheat<br>IngredientResearch: Flavours Wheat",
          "Product: Maggi 2 Minute Chicken Flavour Instant Noodles<br>Recipe: Ingredients:        Noodle Cake : Australian  Whea T Flour (70%), Vegetable Oil Antioxidant (319), Salt, Mineral Salts (508, 451, 501, 500), Vegetable Gum (412).   Flavour Sachet : Salt, Flavour Enhancers (621, 635), Mineral Salt (Potassium Chloride), Flavours Flavour Enhancer (621), Celery,  Soy ,  Wheat , Sugar, Onion, Vegetable Fat Antioxidant (320), Potato Starch, Parsley, Spices (Turmeric, Coriander, Cumin, Chilli, Cardamom, Ginger), Burnt Sugar.       Contains Gluten, Wheat, Soy.        May Contain Crustacean, Fish, Milk, Mustard.<br>Ingredient: Wheat<br>IngredientResearch: Flavours Wheat",
          "Product: Maggi 2 Minute Chicken Flavour Instant Noodles<br>Recipe: <div>Our Chosen Ingredients: Noodle Cake: Wheat  Flour, Vegetable Oil (Antioxidant (319)), Salt, Mineral Salts (508, 451, 501, 500), Vegetable Gum (412). Flavour Mix Sachet: Iodised Salt, Flavour Enhancers (621, 635), Mineral Salt (508), Maltodextrin, Flavours (Contains  Wheat ,  Soy  and  Celery), Sugar, Onion Powder, Vegetable Fat (Antioxidant (320)), Parsley Flakes, Colours (Turmeric, Caramel Iii), Spices (Coriander, Cumin, Cardamom, Chilli Powder, Ginger).</div><br>Ingredient: Soy<br>IngredientResearch: Flavours Soy",
          "Product: Maggi 2 Minute Chicken Flavour Instant Noodles<br>Recipe: Ingredients:        Noodle Cake : Australian  Whea T Flour (70%), Vegetable Oil Antioxidant (319), Salt, Mineral Salts (508, 451, 501, 500), Vegetable Gum (412).   Flavour Sachet : Salt, Flavour Enhancers (621, 635), Mineral Salt (Potassium Chloride), Flavours Flavour Enhancer (621), Celery,  Soy ,  Wheat , Sugar, Onion, Vegetable Fat Antioxidant (320), Potato Starch, Parsley, Spices (Turmeric, Coriander, Cumin, Chilli, Cardamom, Ginger), Burnt Sugar.       Contains Gluten, Wheat, Soy.        May Contain Crustacean, Fish, Milk, Mustard.<br>Ingredient: Soy<br>IngredientResearch: Flavours Soy",
          "Product: Maggi 2 Minute Chicken Flavour Instant Noodles<br>Recipe: <div>Our Chosen Ingredients: Noodle Cake: Wheat  Flour, Vegetable Oil (Antioxidant (319)), Salt, Mineral Salts (508, 451, 501, 500), Vegetable Gum (412). Flavour Mix Sachet: Iodised Salt, Flavour Enhancers (621, 635), Mineral Salt (508), Maltodextrin, Flavours (Contains  Wheat ,  Soy  and  Celery), Sugar, Onion Powder, Vegetable Fat (Antioxidant (320)), Parsley Flakes, Colours (Turmeric, Caramel Iii), Spices (Coriander, Cumin, Cardamom, Chilli Powder, Ginger).</div><br>Ingredient: Vegetable Fat<br>IngredientResearch: Vegetable Fat",
          "Product: Maggi 2 Minute Chicken Flavour Instant Noodles<br>Recipe: Ingredients:        Noodle Cake : Australian  Whea T Flour (70%), Vegetable Oil Antioxidant (319), Salt, Mineral Salts (508, 451, 501, 500), Vegetable Gum (412).   Flavour Sachet : Salt, Flavour Enhancers (621, 635), Mineral Salt (Potassium Chloride), Flavours Flavour Enhancer (621), Celery,  Soy ,  Wheat , Sugar, Onion, Vegetable Fat Antioxidant (320), Potato Starch, Parsley, Spices (Turmeric, Coriander, Cumin, Chilli, Cardamom, Ginger), Burnt Sugar.       Contains Gluten, Wheat, Soy.        May Contain Crustacean, Fish, Milk, Mustard.<br>Ingredient: Vegetable Fat<br>IngredientResearch: Vegetable Fat",
          "Product: Maggi 2 Minute Beef Flavour Instant Noodles<br>Recipe: Ingredients       Noodle Cake :  Australian  Wheat  Flour (70%), Vegetable Oil Antioxidant (319), Salt, Mineral Salts (508, 451, 501, 500), Vegetable Gum (412).      Flavour Sachet: Mineral Salt (Potassium Chloride), Salt, Flavour Enhancers (621, 635), Sugar, Yeast Extract, Flavour, Burnt Sugar, Vegetable Fat Antioxidant (320), Onion,  Soy  Sauce Powder ( Wheat, Soy ), Food Acid (Citric), White Pepper, Rosemary.       Contains Gluten, Wheat, Soy .       May Contain Celery, Crustacean, Fish, Milk, Mustard.<br>Ingredient: Vegetable Fat<br>IngredientResearch: Vegetable Fat",
          "Product: Kitkat 4 Finger Milk Chocolate Bar<br>Recipe: Ingredients:           Sugar,  Milk  Solids,  Wheat  Flour, Cocoa Butter^, Vegetable Fat Emulsifier ( Soy  Lecithin), Cocoa Mass^, Choc Paste ( Milk, Wheat, Soy ), Emulsifiers ( Soy  Lecithin, 476),  Cocoa^,  Raising Agent (Sodium Bicarbonate), Salt, Yeast,    Flavour,   Processing Aid (  Wheat  ).          Contains Milk, Wheat, Gluten, Soy.            May Contain Tree Nuts, Other Gluten Containing Ingredients.           Product Contains 67% Milk Chocolate and 33% Wafer Fingers.          Milk Chocolate Contains Minimum 22% Cocoa Solids, 25% Milk Solids.          ^ Rainforest Alliance Certified   Cocoa. Find Out More at Ra.Org.<br>Ingredient: Vegetable Fat<br>IngredientResearch: Vegetable Fat",
          "Product: Maggi 2 Minute Chicken Flavour Instant Noodles<br>Recipe: <div>Our Chosen Ingredients: Noodle Cake: Wheat  Flour, Vegetable Oil (Antioxidant (319)), Salt, Mineral Salts (508, 451, 501, 500), Vegetable Gum (412). Flavour Mix Sachet: Iodised Salt, Flavour Enhancers (621, 635), Mineral Salt (508), Maltodextrin, Flavours (Contains  Wheat ,  Soy  and  Celery), Sugar, Onion Powder, Vegetable Fat (Antioxidant (320)), Parsley Flakes, Colours (Turmeric, Caramel Iii), Spices (Coriander, Cumin, Cardamom, Chilli Powder, Ginger).</div><br>Ingredient: Parsley Flakes<br>IngredientResearch: Parsley Flakes",
          "Product: Maggi 2 Minute Chicken Flavour Instant Noodles<br>Recipe: <div>Our Chosen Ingredients: Noodle Cake: Wheat  Flour, Vegetable Oil (Antioxidant (319)), Salt, Mineral Salts (508, 451, 501, 500), Vegetable Gum (412). Flavour Mix Sachet: Iodised Salt, Flavour Enhancers (621, 635), Mineral Salt (508), Maltodextrin, Flavours (Contains  Wheat ,  Soy  and  Celery), Sugar, Onion Powder, Vegetable Fat (Antioxidant (320)), Parsley Flakes, Colours (Turmeric, Caramel Iii), Spices (Coriander, Cumin, Cardamom, Chilli Powder, Ginger).</div><br>Ingredient: Turmeric<br>IngredientResearch: Turmeric",
          "Product: Maggi 2 Minute Chicken Flavour Instant Noodles<br>Recipe: Ingredients:        Noodle Cake : Australian  Whea T Flour (70%), Vegetable Oil Antioxidant (319), Salt, Mineral Salts (508, 451, 501, 500), Vegetable Gum (412).   Flavour Sachet : Salt, Flavour Enhancers (621, 635), Mineral Salt (Potassium Chloride), Flavours Flavour Enhancer (621), Celery,  Soy ,  Wheat , Sugar, Onion, Vegetable Fat Antioxidant (320), Potato Starch, Parsley, Spices (Turmeric, Coriander, Cumin, Chilli, Cardamom, Ginger), Burnt Sugar.       Contains Gluten, Wheat, Soy.        May Contain Crustacean, Fish, Milk, Mustard.<br>Ingredient: Turmeric<br>IngredientResearch: Turmeric",
          "Product: Maggi 2 Minute Chicken Flavour Instant Noodles<br>Recipe: <div>Our Chosen Ingredients: Noodle Cake: Wheat  Flour, Vegetable Oil (Antioxidant (319)), Salt, Mineral Salts (508, 451, 501, 500), Vegetable Gum (412). Flavour Mix Sachet: Iodised Salt, Flavour Enhancers (621, 635), Mineral Salt (508), Maltodextrin, Flavours (Contains  Wheat ,  Soy  and  Celery), Sugar, Onion Powder, Vegetable Fat (Antioxidant (320)), Parsley Flakes, Colours (Turmeric, Caramel Iii), Spices (Coriander, Cumin, Cardamom, Chilli Powder, Ginger).</div><br>Ingredient: Caramel Iii<br>IngredientResearch: Caramel III",
          "Product: Maggi 2 Minute Chicken Flavour Instant Noodles<br>Recipe: <div>Our Chosen Ingredients: Noodle Cake: Wheat  Flour, Vegetable Oil (Antioxidant (319)), Salt, Mineral Salts (508, 451, 501, 500), Vegetable Gum (412). Flavour Mix Sachet: Iodised Salt, Flavour Enhancers (621, 635), Mineral Salt (508), Maltodextrin, Flavours (Contains  Wheat ,  Soy  and  Celery), Sugar, Onion Powder, Vegetable Fat (Antioxidant (320)), Parsley Flakes, Colours (Turmeric, Caramel Iii), Spices (Coriander, Cumin, Cardamom, Chilli Powder, Ginger).</div><br>Ingredient: Coriander<br>IngredientResearch: Coriander",
          "Product: Maggi 2 Minute Chicken Flavour Instant Noodles<br>Recipe: Ingredients:        Noodle Cake : Australian  Whea T Flour (70%), Vegetable Oil Antioxidant (319), Salt, Mineral Salts (508, 451, 501, 500), Vegetable Gum (412).   Flavour Sachet : Salt, Flavour Enhancers (621, 635), Mineral Salt (Potassium Chloride), Flavours Flavour Enhancer (621), Celery,  Soy ,  Wheat , Sugar, Onion, Vegetable Fat Antioxidant (320), Potato Starch, Parsley, Spices (Turmeric, Coriander, Cumin, Chilli, Cardamom, Ginger), Burnt Sugar.       Contains Gluten, Wheat, Soy.        May Contain Crustacean, Fish, Milk, Mustard.<br>Ingredient: Coriander<br>IngredientResearch: Coriander",
          "Product: Maggi 2 Minute Chicken Flavour Instant Noodles<br>Recipe: <div>Our Chosen Ingredients: Noodle Cake: Wheat  Flour, Vegetable Oil (Antioxidant (319)), Salt, Mineral Salts (508, 451, 501, 500), Vegetable Gum (412). Flavour Mix Sachet: Iodised Salt, Flavour Enhancers (621, 635), Mineral Salt (508), Maltodextrin, Flavours (Contains  Wheat ,  Soy  and  Celery), Sugar, Onion Powder, Vegetable Fat (Antioxidant (320)), Parsley Flakes, Colours (Turmeric, Caramel Iii), Spices (Coriander, Cumin, Cardamom, Chilli Powder, Ginger).</div><br>Ingredient: Cumin<br>IngredientResearch: Cumin",
          "Product: Maggi 2 Minute Chicken Flavour Instant Noodles<br>Recipe: Ingredients:        Noodle Cake : Australian  Whea T Flour (70%), Vegetable Oil Antioxidant (319), Salt, Mineral Salts (508, 451, 501, 500), Vegetable Gum (412).   Flavour Sachet : Salt, Flavour Enhancers (621, 635), Mineral Salt (Potassium Chloride), Flavours Flavour Enhancer (621), Celery,  Soy ,  Wheat , Sugar, Onion, Vegetable Fat Antioxidant (320), Potato Starch, Parsley, Spices (Turmeric, Coriander, Cumin, Chilli, Cardamom, Ginger), Burnt Sugar.       Contains Gluten, Wheat, Soy.        May Contain Crustacean, Fish, Milk, Mustard.<br>Ingredient: Cumin<br>IngredientResearch: Cumin",
          "Product: Maggi 2 Minute Chicken Flavour Instant Noodles<br>Recipe: <div>Our Chosen Ingredients: Noodle Cake: Wheat  Flour, Vegetable Oil (Antioxidant (319)), Salt, Mineral Salts (508, 451, 501, 500), Vegetable Gum (412). Flavour Mix Sachet: Iodised Salt, Flavour Enhancers (621, 635), Mineral Salt (508), Maltodextrin, Flavours (Contains  Wheat ,  Soy  and  Celery), Sugar, Onion Powder, Vegetable Fat (Antioxidant (320)), Parsley Flakes, Colours (Turmeric, Caramel Iii), Spices (Coriander, Cumin, Cardamom, Chilli Powder, Ginger).</div><br>Ingredient: Cardamom<br>IngredientResearch: Spice Cardamom",
          "Product: Maggi 2 Minute Chicken Flavour Instant Noodles<br>Recipe: Ingredients:        Noodle Cake : Australian  Whea T Flour (70%), Vegetable Oil Antioxidant (319), Salt, Mineral Salts (508, 451, 501, 500), Vegetable Gum (412).   Flavour Sachet : Salt, Flavour Enhancers (621, 635), Mineral Salt (Potassium Chloride), Flavours Flavour Enhancer (621), Celery,  Soy ,  Wheat , Sugar, Onion, Vegetable Fat Antioxidant (320), Potato Starch, Parsley, Spices (Turmeric, Coriander, Cumin, Chilli, Cardamom, Ginger), Burnt Sugar.       Contains Gluten, Wheat, Soy.        May Contain Crustacean, Fish, Milk, Mustard.<br>Ingredient: Cardamom<br>IngredientResearch: Spice Cardamom",
          "Product: Maggi 2 Minute Chicken Flavour Instant Noodles<br>Recipe: <div>Our Chosen Ingredients: Noodle Cake: Wheat  Flour, Vegetable Oil (Antioxidant (319)), Salt, Mineral Salts (508, 451, 501, 500), Vegetable Gum (412). Flavour Mix Sachet: Iodised Salt, Flavour Enhancers (621, 635), Mineral Salt (508), Maltodextrin, Flavours (Contains  Wheat ,  Soy  and  Celery), Sugar, Onion Powder, Vegetable Fat (Antioxidant (320)), Parsley Flakes, Colours (Turmeric, Caramel Iii), Spices (Coriander, Cumin, Cardamom, Chilli Powder, Ginger).</div><br>Ingredient: Chilli Powder<br>IngredientResearch: Spice Chilli Powder",
          "Product: Maggi 2 Minute Chicken Flavour Instant Noodles<br>Recipe: Ingredients:        Noodle Cake : Australian  Whea T Flour (70%), Vegetable Oil Antioxidant (319), Salt, Mineral Salts (508, 451, 501, 500), Vegetable Gum (412).   Flavour Sachet : Salt, Flavour Enhancers (621, 635), Mineral Salt (Potassium Chloride), Flavours Flavour Enhancer (621), Celery,  Soy ,  Wheat , Sugar, Onion, Vegetable Fat Antioxidant (320), Potato Starch, Parsley, Spices (Turmeric, Coriander, Cumin, Chilli, Cardamom, Ginger), Burnt Sugar.       Contains Gluten, Wheat, Soy.        May Contain Crustacean, Fish, Milk, Mustard.<br>Ingredient: Chilli Powder<br>IngredientResearch: Spice Chilli Powder",
          "Product: Maggi 2 Minute Chicken Flavour Instant Noodles<br>Recipe: <div>Our Chosen Ingredients: Noodle Cake: Wheat  Flour, Vegetable Oil (Antioxidant (319)), Salt, Mineral Salts (508, 451, 501, 500), Vegetable Gum (412). Flavour Mix Sachet: Iodised Salt, Flavour Enhancers (621, 635), Mineral Salt (508), Maltodextrin, Flavours (Contains  Wheat ,  Soy  and  Celery), Sugar, Onion Powder, Vegetable Fat (Antioxidant (320)), Parsley Flakes, Colours (Turmeric, Caramel Iii), Spices (Coriander, Cumin, Cardamom, Chilli Powder, Ginger).</div><br>Ingredient: Ginger<br>IngredientResearch: Spice Ginger",
          "Product: Maggi 2 Minute Chicken Flavour Instant Noodles<br>Recipe: Ingredients:        Noodle Cake : Australian  Whea T Flour (70%), Vegetable Oil Antioxidant (319), Salt, Mineral Salts (508, 451, 501, 500), Vegetable Gum (412).   Flavour Sachet : Salt, Flavour Enhancers (621, 635), Mineral Salt (Potassium Chloride), Flavours Flavour Enhancer (621), Celery,  Soy ,  Wheat , Sugar, Onion, Vegetable Fat Antioxidant (320), Potato Starch, Parsley, Spices (Turmeric, Coriander, Cumin, Chilli, Cardamom, Ginger), Burnt Sugar.       Contains Gluten, Wheat, Soy.        May Contain Crustacean, Fish, Milk, Mustard.<br>Ingredient: Ginger<br>IngredientResearch: Spice Ginger",
          "Product: Maggi 2 Minute Chicken Flavour Instant Noodles<br>Recipe: Ingredients:        Noodle Cake : Australian  Whea T Flour (70%), Vegetable Oil Antioxidant (319), Salt, Mineral Salts (508, 451, 501, 500), Vegetable Gum (412).   Flavour Sachet : Salt, Flavour Enhancers (621, 635), Mineral Salt (Potassium Chloride), Flavours Flavour Enhancer (621), Celery,  Soy ,  Wheat , Sugar, Onion, Vegetable Fat Antioxidant (320), Potato Starch, Parsley, Spices (Turmeric, Coriander, Cumin, Chilli, Cardamom, Ginger), Burnt Sugar.       Contains Gluten, Wheat, Soy.        May Contain Crustacean, Fish, Milk, Mustard.<br>Ingredient: Potassium Chloride<br>IngredientResearch: Potassium Chloride",
          "Product: Maggi 2 Minute Beef Flavour Instant Noodles<br>Recipe: Ingredients       Noodle Cake :  Australian  Wheat  Flour (70%), Vegetable Oil Antioxidant (319), Salt, Mineral Salts (508, 451, 501, 500), Vegetable Gum (412).      Flavour Sachet: Mineral Salt (Potassium Chloride), Salt, Flavour Enhancers (621, 635), Sugar, Yeast Extract, Flavour, Burnt Sugar, Vegetable Fat Antioxidant (320), Onion,  Soy  Sauce Powder ( Wheat, Soy ), Food Acid (Citric), White Pepper, Rosemary.       Contains Gluten, Wheat, Soy .       May Contain Celery, Crustacean, Fish, Milk, Mustard.<br>Ingredient: Potassium Chloride<br>IngredientResearch: Potassium Chloride",
          "Product: Smith's Crinkle Cut Potato Chips Cheese & Onion<br>Recipe: Potatoes (61%), Canola Oil, Sunflower Oil, Whey Po,wder (Milk), Cheese Powder (Milk), Salt, Onion Pow,der, Dextrose, Maltodextrin, Mineral Salt (Potassi,um Chloride), Flavour Enhancer (621), Natural Flav,ours (Milk), Yeast Extract, Food Acids (Citric Aci,<br>Ingredient: Potassium Chloride<br>IngredientResearch: Potassium Chloride",
          "Product: Smith's Crinkle Cut Potato Chips Barbecue<br>Recipe: Potatoes, Canola Oil, Sunflower Oil, Sugar, Maltod,extrin, Salt, Tomato Powder, Flavour Enhancers (62,1, 635), Food Acids (Sodium Diacetate, Citric Acid,), Flavours, Mineral Salt (Potassium Chloride), On,ion Powder, Garlic Powder, Natural Colour (Paprika,<br>Ingredient: Potassium Chloride<br>IngredientResearch: Potassium Chloride",
          "Product: Smith's Crinkle Cut Potato Chips Chicken<br>Recipe: Potatoes (61%), Canola Oil, Sunflower Oil, Maltode,xtrin, Sugar, Salt, Flavour Enhancers (621, 635, 6,20), Flavours (Milk), Mineral Salt (Potassium Chlo,ride), Onion Powder, Yeast Extract, Herb (Parsley),, Spice (Turmeric), Antioxidants (Tocopherols, ASCORBIC ACID, ROSEMARY EXTRACT, CITRIC ACID)<br>Ingredient: Potassium Chloride<br>IngredientResearch: Potassium Chloride",
          "Product: Smith's Crinkle Cut Potato Chips Salt & Vinegar<br>Recipe: Potatoes (61%), Canola Oil, Sunflower Oil, Food Acids (Sodium Diacetate, Citric Acid), Lactose (Milk), Salt, Mineral Salt (Potassium Chloride), Sugar, Flavour Enhancer (621), Dextrose, Natural Flavours, Antioxidants (Tocopherols, Ascorbic Acid, Rosemary Extract).<br>Ingredient: Potassium Chloride<br>IngredientResearch: Potassium Chloride",
          "Product: Maggi 2 Minute Chicken Flavour Instant Noodles<br>Recipe: <div>Our Chosen Ingredients: Noodle Cake: Wheat  Flour, Vegetable Oil (Antioxidant (319)), Salt, Mineral Salts (508, 451, 501, 500), Vegetable Gum (412). Flavour Mix Sachet: Iodised Salt, Flavour Enhancers (621, 635), Mineral Salt (508), Maltodextrin, Flavours (Contains  Wheat ,  Soy  and  Celery), Sugar, Onion Powder, Vegetable Fat (Antioxidant (320)), Parsley Flakes, Colours (Turmeric, Caramel Iii), Spices (Coriander, Cumin, Cardamom, Chilli Powder, Ginger).</div><br>Ingredient: Celery<br>IngredientResearch: Flavour Celery",
          "Product: Maggi 2 Minute Chicken Flavour Instant Noodles<br>Recipe: Ingredients:        Noodle Cake : Australian  Whea T Flour (70%), Vegetable Oil Antioxidant (319), Salt, Mineral Salts (508, 451, 501, 500), Vegetable Gum (412).   Flavour Sachet : Salt, Flavour Enhancers (621, 635), Mineral Salt (Potassium Chloride), Flavours Flavour Enhancer (621), Celery,  Soy ,  Wheat , Sugar, Onion, Vegetable Fat Antioxidant (320), Potato Starch, Parsley, Spices (Turmeric, Coriander, Cumin, Chilli, Cardamom, Ginger), Burnt Sugar.       Contains Gluten, Wheat, Soy.        May Contain Crustacean, Fish, Milk, Mustard.<br>Ingredient: Celery<br>IngredientResearch: Flavour Celery",
          "Product: Maggi 2 Minute Chicken Flavour Instant Noodles<br>Recipe: Ingredients:        Noodle Cake : Australian  Whea T Flour (70%), Vegetable Oil Antioxidant (319), Salt, Mineral Salts (508, 451, 501, 500), Vegetable Gum (412).   Flavour Sachet : Salt, Flavour Enhancers (621, 635), Mineral Salt (Potassium Chloride), Flavours Flavour Enhancer (621), Celery,  Soy ,  Wheat , Sugar, Onion, Vegetable Fat Antioxidant (320), Potato Starch, Parsley, Spices (Turmeric, Coriander, Cumin, Chilli, Cardamom, Ginger), Burnt Sugar.       Contains Gluten, Wheat, Soy.        May Contain Crustacean, Fish, Milk, Mustard.<br>Ingredient: Potato Starch<br>IngredientResearch: Potato Starch",
          "Product: Maggi 2 Minute Chicken Flavour Instant Noodles<br>Recipe: Ingredients:        Noodle Cake : Australian  Whea T Flour (70%), Vegetable Oil Antioxidant (319), Salt, Mineral Salts (508, 451, 501, 500), Vegetable Gum (412).   Flavour Sachet : Salt, Flavour Enhancers (621, 635), Mineral Salt (Potassium Chloride), Flavours Flavour Enhancer (621), Celery,  Soy ,  Wheat , Sugar, Onion, Vegetable Fat Antioxidant (320), Potato Starch, Parsley, Spices (Turmeric, Coriander, Cumin, Chilli, Cardamom, Ginger), Burnt Sugar.       Contains Gluten, Wheat, Soy.        May Contain Crustacean, Fish, Milk, Mustard.<br>Ingredient: Parsley<br>IngredientResearch: Parsley",
          "Product: Smith's Crinkle Cut Potato Chips Chicken<br>Recipe: Potatoes (61%), Canola Oil, Sunflower Oil, Maltode,xtrin, Sugar, Salt, Flavour Enhancers (621, 635, 6,20), Flavours (Milk), Mineral Salt (Potassium Chlo,ride), Onion Powder, Yeast Extract, Herb (Parsley),, Spice (Turmeric), Antioxidants (Tocopherols, ASCORBIC ACID, ROSEMARY EXTRACT, CITRIC ACID)<br>Ingredient: Parsley<br>IngredientResearch: Parsley",
          "Product: Maggi 2 Minute Chicken Flavour Instant Noodles<br>Recipe: Ingredients:        Noodle Cake : Australian  Whea T Flour (70%), Vegetable Oil Antioxidant (319), Salt, Mineral Salts (508, 451, 501, 500), Vegetable Gum (412).   Flavour Sachet : Salt, Flavour Enhancers (621, 635), Mineral Salt (Potassium Chloride), Flavours Flavour Enhancer (621), Celery,  Soy ,  Wheat , Sugar, Onion, Vegetable Fat Antioxidant (320), Potato Starch, Parsley, Spices (Turmeric, Coriander, Cumin, Chilli, Cardamom, Ginger), Burnt Sugar.       Contains Gluten, Wheat, Soy.        May Contain Crustacean, Fish, Milk, Mustard.<br>Ingredient: Burnt Sugar<br>IngredientResearch: Burnt Sugar",
          "Product: Maggi 2 Minute Beef Flavour Instant Noodles<br>Recipe: Ingredients       Noodle Cake :  Australian  Wheat  Flour (70%), Vegetable Oil Antioxidant (319), Salt, Mineral Salts (508, 451, 501, 500), Vegetable Gum (412).      Flavour Sachet: Mineral Salt (Potassium Chloride), Salt, Flavour Enhancers (621, 635), Sugar, Yeast Extract, Flavour, Burnt Sugar, Vegetable Fat Antioxidant (320), Onion,  Soy  Sauce Powder ( Wheat, Soy ), Food Acid (Citric), White Pepper, Rosemary.       Contains Gluten, Wheat, Soy .       May Contain Celery, Crustacean, Fish, Milk, Mustard.<br>Ingredient: Burnt Sugar<br>IngredientResearch: Burnt Sugar",
          "Product: Supreme Noodles Cup Chicken Flavour<br>Recipe: Noodles: Wheat Flour (Gluten), Vegetable Oil (Antioxidant (320)), Salt. Flavour Sachet: Salt, Flavour Enhancers (621, 635), Flavours (Flavour Enhancers (621, 635), Wheat (Gluten), Soy), Sugar, Maltodextrin, Onion Powder, Herbs, Yeast Extract, Colour (Curcumin).<br>Ingredient: Wheat<br>IngredientResearch: Gluten Wheat",
          "Product: Supreme Noodles Cup Chicken Flavour<br>Recipe: Noodles: Wheat Flour (Gluten), Vegetable Oil (Antioxidant (320)), Salt. Flavour Sachet: Salt, Flavour Enhancers (621, 635), Flavours (Flavour Enhancers (621, 635), Wheat (Gluten), Soy), Sugar, Maltodextrin, Onion Powder, Herbs, Yeast Extract, Colour (Curcumin).<br>Ingredient: Soy<br>IngredientResearch: Soy",
          "Product: Maggi 2 Minute Beef Flavour Instant Noodles<br>Recipe: Ingredients       Noodle Cake :  Australian  Wheat  Flour (70%), Vegetable Oil Antioxidant (319), Salt, Mineral Salts (508, 451, 501, 500), Vegetable Gum (412).      Flavour Sachet: Mineral Salt (Potassium Chloride), Salt, Flavour Enhancers (621, 635), Sugar, Yeast Extract, Flavour, Burnt Sugar, Vegetable Fat Antioxidant (320), Onion,  Soy  Sauce Powder ( Wheat, Soy ), Food Acid (Citric), White Pepper, Rosemary.       Contains Gluten, Wheat, Soy .       May Contain Celery, Crustacean, Fish, Milk, Mustard.<br>Ingredient: Soy<br>IngredientResearch: Soy",
          "Product: Supreme Noodles Cup Beef Flavour<br>Recipe: Noodles: Wheat Flour (Gluten), Vegetable Oil (Antioxidant (320)), Salt. Flavour Sachet: Salt, Flavour Enhancers (621, 635), Flavours (Flavour Enhancers (621, 635), Wheat (Gluten), Soy), Colour (150c)), Herbs and Spices, Colours (Caramel, Curcumin, Sugar, Garlic Powder.<br>Ingredient: Soy<br>IngredientResearch: Soy",
          "Product: Supreme Noodles Cup Chicken Flavour<br>Recipe: Noodles: Wheat Flour (Gluten), Vegetable Oil (Antioxidant (320)), Salt. Flavour Sachet: Salt, Flavour Enhancers (621, 635), Flavours (Flavour Enhancers (621, 635), Wheat (Gluten), Soy), Sugar, Maltodextrin, Onion Powder, Herbs, Yeast Extract, Colour (Curcumin).<br>Ingredient: Curcumin<br>IngredientResearch: Curcumin",
          "Product: Supreme Noodles Cup Beef Flavour<br>Recipe: Noodles: Wheat Flour (Gluten), Vegetable Oil (Antioxidant (320)), Salt. Flavour Sachet: Salt, Flavour Enhancers (621, 635), Flavours (Flavour Enhancers (621, 635), Wheat (Gluten), Soy), Colour (150c)), Herbs and Spices, Colours (Caramel, Curcumin, Sugar, Garlic Powder.<br>Ingredient: Curcumin<br>IngredientResearch: Curcumin",
          "Product: Maggi 2 Minute Chicken Flavour Instant Noodles<br>Recipe: <div>Our Chosen Ingredients: Noodle Cake: Wheat  Flour, Vegetable Oil (Antioxidant (319)), Salt, Mineral Salts (508, 451, 501, 500), Vegetable Gum (412). Flavour Mix Sachet: Iodised Salt, Flavour Enhancers (621, 635), Mineral Salt (508), Maltodextrin, Flavours (Contains  Wheat ,  Soy  and  Celery), Sugar, Onion Powder, Vegetable Fat (Antioxidant (320)), Parsley Flakes, Colours (Turmeric, Caramel Iii), Spices (Coriander, Cumin, Cardamom, Chilli Powder, Ginger).</div><br>Ingredient: 501<br>IngredientResearch: Mineral Salt 501",
          "Product: Maggi 2 Minute Chicken Flavour Instant Noodles<br>Recipe: Ingredients:        Noodle Cake : Australian  Whea T Flour (70%), Vegetable Oil Antioxidant (319), Salt, Mineral Salts (508, 451, 501, 500), Vegetable Gum (412).   Flavour Sachet : Salt, Flavour Enhancers (621, 635), Mineral Salt (Potassium Chloride), Flavours Flavour Enhancer (621), Celery,  Soy ,  Wheat , Sugar, Onion, Vegetable Fat Antioxidant (320), Potato Starch, Parsley, Spices (Turmeric, Coriander, Cumin, Chilli, Cardamom, Ginger), Burnt Sugar.       Contains Gluten, Wheat, Soy.        May Contain Crustacean, Fish, Milk, Mustard.<br>Ingredient: 501<br>IngredientResearch: Mineral Salt 501",
          "Product: Maggi 2 Minute Beef Flavour Instant Noodles<br>Recipe: Ingredients       Noodle Cake :  Australian  Wheat  Flour (70%), Vegetable Oil Antioxidant (319), Salt, Mineral Salts (508, 451, 501, 500), Vegetable Gum (412).      Flavour Sachet: Mineral Salt (Potassium Chloride), Salt, Flavour Enhancers (621, 635), Sugar, Yeast Extract, Flavour, Burnt Sugar, Vegetable Fat Antioxidant (320), Onion,  Soy  Sauce Powder ( Wheat, Soy ), Food Acid (Citric), White Pepper, Rosemary.       Contains Gluten, Wheat, Soy .       May Contain Celery, Crustacean, Fish, Milk, Mustard.<br>Ingredient: 501<br>IngredientResearch: Mineral Salt 501",
          "Product: Maggi 2 Minute Chicken Flavour Instant Noodles<br>Recipe: <div>Our Chosen Ingredients: Noodle Cake: Wheat  Flour, Vegetable Oil (Antioxidant (319)), Salt, Mineral Salts (508, 451, 501, 500), Vegetable Gum (412). Flavour Mix Sachet: Iodised Salt, Flavour Enhancers (621, 635), Mineral Salt (508), Maltodextrin, Flavours (Contains  Wheat ,  Soy  and  Celery), Sugar, Onion Powder, Vegetable Fat (Antioxidant (320)), Parsley Flakes, Colours (Turmeric, Caramel Iii), Spices (Coriander, Cumin, Cardamom, Chilli Powder, Ginger).</div><br>Ingredient: 500<br>IngredientResearch: Mineral Salt 500",
          "Product: Maggi 2 Minute Chicken Flavour Instant Noodles<br>Recipe: Ingredients:        Noodle Cake : Australian  Whea T Flour (70%), Vegetable Oil Antioxidant (319), Salt, Mineral Salts (508, 451, 501, 500), Vegetable Gum (412).   Flavour Sachet : Salt, Flavour Enhancers (621, 635), Mineral Salt (Potassium Chloride), Flavours Flavour Enhancer (621), Celery,  Soy ,  Wheat , Sugar, Onion, Vegetable Fat Antioxidant (320), Potato Starch, Parsley, Spices (Turmeric, Coriander, Cumin, Chilli, Cardamom, Ginger), Burnt Sugar.       Contains Gluten, Wheat, Soy.        May Contain Crustacean, Fish, Milk, Mustard.<br>Ingredient: 500<br>IngredientResearch: Mineral Salt 500",
          "Product: Maggi 2 Minute Beef Flavour Instant Noodles<br>Recipe: Ingredients       Noodle Cake :  Australian  Wheat  Flour (70%), Vegetable Oil Antioxidant (319), Salt, Mineral Salts (508, 451, 501, 500), Vegetable Gum (412).      Flavour Sachet: Mineral Salt (Potassium Chloride), Salt, Flavour Enhancers (621, 635), Sugar, Yeast Extract, Flavour, Burnt Sugar, Vegetable Fat Antioxidant (320), Onion,  Soy  Sauce Powder ( Wheat, Soy ), Food Acid (Citric), White Pepper, Rosemary.       Contains Gluten, Wheat, Soy .       May Contain Celery, Crustacean, Fish, Milk, Mustard.<br>Ingredient: 500<br>IngredientResearch: Mineral Salt 500",
          "Product: Supreme Noodles Cup Beef Flavour<br>Recipe: Noodles: Wheat Flour (Gluten), Vegetable Oil (Antioxidant (320)), Salt. Flavour Sachet: Salt, Flavour Enhancers (621, 635), Flavours (Flavour Enhancers (621, 635), Wheat (Gluten), Soy), Colour (150c)), Herbs and Spices, Colours (Caramel, Curcumin, Sugar, Garlic Powder.<br>Ingredient: Herbs and Spices<br>IngredientResearch: Basil",
          "Product: Woolworths Chocolate Chip Cookies<br>Recipe: Wheat Flour, Sugar, Dark Compound Chocolate Chips (20%) (Sugar, Palm Oil, Cocoa Solids, Emulsifier (Soy Lecithin), Natural Flavour), Vegetable Oil (Palm Oil, Antioxidant (307b)), Wheaten Corn Flour (Wheat), Whole Egg Powder, Whey Powder (Milk), Raising Agents (Sodium Carbonates, Ammonium Carbonates), Natural Flavour, Salt, Natural Colour (Annatto Extracts)<br>Ingredient: 307b<br>IngredientResearch: Antioxidant 307b",
          "Product: Woolworths The King Of Chunky Chocolate Chip Cookies<br>Recipe: <p>Dark Chocolate Chips (40%) (Sugar, Cocoa Mass, Cocoa Butter, Emulsifier (Lecithin (Soy), Natural Vanilla Flavour), Wheat Flour, Sugar, Vegetable Oil (Palm Oil, Antioxidant (307b)), Butter (Milk), Whey Powder (Milk), Natural Flavours (Vanilla, Butter (Milk), Salt, Raising Agents (Sodium Carbonate, Ammonium Carbonate), Dark Chocolate contains minimum 40% Cocoa Solids.</p><br>Ingredient: 307b<br>IngredientResearch: Antioxidant 307b",
          "Product: Smith's Crinkle Cut Potato Chips Barbecue<br>Recipe: Potatoes, Canola Oil, Sunflower Oil, Sugar, Maltod,extrin, Salt, Tomato Powder, Flavour Enhancers (62,1, 635), Food Acids (Sodium Diacetate, Citric Acid,), Flavours, Mineral Salt (Potassium Chloride), On,ion Powder, Garlic Powder, Natural Colour (Paprika,<br>Ingredient: Flavours<br>IngredientResearch: Flavours",
          "Product: Maggi 2 Minute Beef Flavour Instant Noodles<br>Recipe: Ingredients       Noodle Cake :  Australian  Wheat  Flour (70%), Vegetable Oil Antioxidant (319), Salt, Mineral Salts (508, 451, 501, 500), Vegetable Gum (412).      Flavour Sachet: Mineral Salt (Potassium Chloride), Salt, Flavour Enhancers (621, 635), Sugar, Yeast Extract, Flavour, Burnt Sugar, Vegetable Fat Antioxidant (320), Onion,  Soy  Sauce Powder ( Wheat, Soy ), Food Acid (Citric), White Pepper, Rosemary.       Contains Gluten, Wheat, Soy .       May Contain Celery, Crustacean, Fish, Milk, Mustard.<br>Ingredient: Soy Sauce Powder<br>IngredientResearch: Soy Sauce Powder",
          "Product: Maggi 2 Minute Beef Flavour Instant Noodles<br>Recipe: Ingredients       Noodle Cake :  Australian  Wheat  Flour (70%), Vegetable Oil Antioxidant (319), Salt, Mineral Salts (508, 451, 501, 500), Vegetable Gum (412).      Flavour Sachet: Mineral Salt (Potassium Chloride), Salt, Flavour Enhancers (621, 635), Sugar, Yeast Extract, Flavour, Burnt Sugar, Vegetable Fat Antioxidant (320), Onion,  Soy  Sauce Powder ( Wheat, Soy ), Food Acid (Citric), White Pepper, Rosemary.       Contains Gluten, Wheat, Soy .       May Contain Celery, Crustacean, Fish, Milk, Mustard.<br>Ingredient: White Pepper<br>IngredientResearch: White Pepper",
          "Product: Maggi 2 Minute Beef Flavour Instant Noodles<br>Recipe: Ingredients       Noodle Cake :  Australian  Wheat  Flour (70%), Vegetable Oil Antioxidant (319), Salt, Mineral Salts (508, 451, 501, 500), Vegetable Gum (412).      Flavour Sachet: Mineral Salt (Potassium Chloride), Salt, Flavour Enhancers (621, 635), Sugar, Yeast Extract, Flavour, Burnt Sugar, Vegetable Fat Antioxidant (320), Onion,  Soy  Sauce Powder ( Wheat, Soy ), Food Acid (Citric), White Pepper, Rosemary.       Contains Gluten, Wheat, Soy .       May Contain Celery, Crustacean, Fish, Milk, Mustard.<br>Ingredient: Rosemary<br>IngredientResearch: Rosemary",
          "Product: Supreme Noodles Cup Beef Flavour<br>Recipe: Noodles: Wheat Flour (Gluten), Vegetable Oil (Antioxidant (320)), Salt. Flavour Sachet: Salt, Flavour Enhancers (621, 635), Flavours (Flavour Enhancers (621, 635), Wheat (Gluten), Soy), Colour (150c)), Herbs and Spices, Colours (Caramel, Curcumin, Sugar, Garlic Powder.<br>Ingredient: 150c<br>IngredientResearch: Colouring Agent 150c",
          "Product: Supreme Noodles Cup Beef Flavour<br>Recipe: Noodles: Wheat Flour (Gluten), Vegetable Oil (Antioxidant (320)), Salt. Flavour Sachet: Salt, Flavour Enhancers (621, 635), Flavours (Flavour Enhancers (621, 635), Wheat (Gluten), Soy), Colour (150c)), Herbs and Spices, Colours (Caramel, Curcumin, Sugar, Garlic Powder.<br>Ingredient: Caramel<br>IngredientResearch: Caramel Color",
          "Product: Schweppes Zero Sugar Lime Infused Mineral Water Bottle<br>Recipe: Carbonated Mineral Water, Food Acid (Citric Acid), Natural Flavours.<br>Ingredient: Carbonated Mineral Water<br>IngredientResearch: Carbonated Mineral Water",
          "Product: Maggi 2 Minute Beef Flavour Instant Noodles<br>Recipe: Ingredients       Noodle Cake :  Australian  Wheat  Flour (70%), Vegetable Oil Antioxidant (319), Salt, Mineral Salts (508, 451, 501, 500), Vegetable Gum (412).      Flavour Sachet: Mineral Salt (Potassium Chloride), Salt, Flavour Enhancers (621, 635), Sugar, Yeast Extract, Flavour, Burnt Sugar, Vegetable Fat Antioxidant (320), Onion,  Soy  Sauce Powder ( Wheat, Soy ), Food Acid (Citric), White Pepper, Rosemary.       Contains Gluten, Wheat, Soy .       May Contain Celery, Crustacean, Fish, Milk, Mustard.<br>Ingredient: Citric Acid<br>IngredientResearch: Citric Acid",
          "Product: Schweppes Zero Sugar Lime Infused Mineral Water Bottle<br>Recipe: Carbonated Mineral Water, Food Acid (Citric Acid), Natural Flavours.<br>Ingredient: Citric Acid<br>IngredientResearch: Citric Acid",
          "Product: Schweppes Lemon Lime Natural Mineral Water Bottle<br>Recipe: Carbonated Water (Mineral Water 80%, Purified Wate,r 11%), Reconstituted Juices (Lemon 4.5%, Lime 0.5,%), Sugar, Natural Flavours, Food Acids (Citric Ac,id, Sodium Citrate), Preservatives (211, 202, 223),, Natural Colour (Safflower Extract).<br>Ingredient: Citric Acid<br>IngredientResearch: Citric Acid",
          "Product: Golden Circle Golden Pash Fruit Drink<br>Recipe: Water, Reconstituted Fruit Juice Pear or Apple (15%), Pineapple (9%), Passionfruit (1%), Sugar, Food Acids (Citric Acid, Potassium Citrate), Vitamin C, Natural Flavours.<br>Ingredient: Citric Acid<br>IngredientResearch: Citric Acid",
          "Product: Masterfoods Tomato Sauce<br>Recipe: Tomatoes (from Paste, Food Acid (Citric))77% , Sugar, Salt, Food Acid (Acetic), Onion, Spice Extract.<br>Ingredient: Citric Acid<br>IngredientResearch: Citric Acid",
          "Product: Masterfoods Barbecue Sauce<br>Recipe: Tomatoes (from Paste, Food Acid (Citric)) 45%, Sugar, Water, Cornflour (from Wheat), Food Acids (Acetic, Citric), Salt, Glucose Syrup, Colour (Caramel (150c)), Thickener (Pectin), Tamarind Paste, Yeast Extract, Clove, Nutmeg, Onion 0.5%, Pepper.<br>Ingredient: Citric Acid<br>IngredientResearch: Citric Acid",
          "Product: Smith's Crinkle Cut Potato Chips Cheese & Onion<br>Recipe: Potatoes (61%), Canola Oil, Sunflower Oil, Whey Po,wder (Milk), Cheese Powder (Milk), Salt, Onion Pow,der, Dextrose, Maltodextrin, Mineral Salt (Potassi,um Chloride), Flavour Enhancer (621), Natural Flav,ours (Milk), Yeast Extract, Food Acids (Citric Aci,<br>Ingredient: Citric Acid<br>IngredientResearch: Citric Acid",
          "Product: Smith's Crinkle Cut Potato Chips Barbecue<br>Recipe: Potatoes, Canola Oil, Sunflower Oil, Sugar, Maltod,extrin, Salt, Tomato Powder, Flavour Enhancers (62,1, 635), Food Acids (Sodium Diacetate, Citric Acid,), Flavours, Mineral Salt (Potassium Chloride), On,ion Powder, Garlic Powder, Natural Colour (Paprika,<br>Ingredient: Citric Acid<br>IngredientResearch: Citric Acid",
          "Product: Smith's Crinkle Cut Potato Chips Salt & Vinegar<br>Recipe: Potatoes (61%), Canola Oil, Sunflower Oil, Food Acids (Sodium Diacetate, Citric Acid), Lactose (Milk), Salt, Mineral Salt (Potassium Chloride), Sugar, Flavour Enhancer (621), Dextrose, Natural Flavours, Antioxidants (Tocopherols, Ascorbic Acid, Rosemary Extract).<br>Ingredient: Citric Acid<br>IngredientResearch: Citric Acid",
          "Product: Schweppes Zero Sugar Lime Infused Mineral Water Bottle<br>Recipe: Carbonated Mineral Water, Food Acid (Citric Acid), Natural Flavours.<br>Ingredient: Natural Flavours<br>IngredientResearch: Natural Flavours",
          "Product: Schweppes Lemon Lime Natural Mineral Water Bottle<br>Recipe: Carbonated Water (Mineral Water 80%, Purified Wate,r 11%), Reconstituted Juices (Lemon 4.5%, Lime 0.5,%), Sugar, Natural Flavours, Food Acids (Citric Ac,id, Sodium Citrate), Preservatives (211, 202, 223),, Natural Colour (Safflower Extract).<br>Ingredient: Natural Flavours<br>IngredientResearch: Natural Flavours",
          "Product: Woolworths Breakfast Juice<br>Recipe: Reconstituted Fruit Juices [Apple (83.2%), Orange (15%), Mango (0.5%), Pineapple (0.5%), Passionfruit (0.5%)], Natural Flavours, Acidity Regulator (Citric Acid), Vitamin C, Thickener (466)<br>Ingredient: Natural Flavours<br>IngredientResearch: Natural Flavours",
          "Product: Woolworths Multivitamin Juice<br>Recipe: Reconstituted Fruit Juices [Apple (77.3%), Orange (10%), Grape (4%), Apricot (4%), Peach (2%), Pear (0.5%), Lemon (0.5%), Mango (0.5%), Passionfruit (0.5%)], Reconstituted Guava Puree (0.5%), Vitamins (C, A & Folate), Natural Flavours, Acidity Regulator (Citric Acid).<br>Ingredient: Natural Flavours<br>IngredientResearch: Natural Flavours",
          "Product: Golden Circle Golden Pash Fruit Drink<br>Recipe: Water, Reconstituted Fruit Juice Pear or Apple (15%), Pineapple (9%), Passionfruit (1%), Sugar, Food Acids (Citric Acid, Potassium Citrate), Vitamin C, Natural Flavours.<br>Ingredient: Natural Flavours<br>IngredientResearch: Natural Flavours",
          "Product: Smith's Crinkle Cut Potato Chips Salt & Vinegar<br>Recipe: Potatoes (61%), Canola Oil, Sunflower Oil, Food Acids (Sodium Diacetate, Citric Acid), Lactose (Milk), Salt, Mineral Salt (Potassium Chloride), Sugar, Flavour Enhancer (621), Dextrose, Natural Flavours, Antioxidants (Tocopherols, Ascorbic Acid, Rosemary Extract).<br>Ingredient: Natural Flavours<br>IngredientResearch: Natural Flavours",
          "Product: Schweppes Natural Mineral Water Bottle Natural<br>Recipe: Natural Mineral Water.<br>Ingredient: Natural Mineral Water<br>IngredientResearch: Natural Mineral Water",
          "Product: Schweppes Soda Water Bottle Classic Mixers<br>Recipe: Carbonated Water, Mineral Salt (Potassium Bicarbon ate).<br>Ingredient: Potassium Bicarbonate<br>IngredientResearch: Potassium Bicarbonate",
          "Product: Schweppes Indian Tonic Water Classic Mixers Bottle<br>Recipe: Carbonated Water, Sugar, Food Acid (330), Natural Flavours (With Orange Peel Extract, Citrus Oils, Botanical Extracts, Lemon Peel Extract), Quinine.CONTAINS QUININE.<br>Ingredient: 330<br>IngredientResearch: Citric Acid",
          "Product: Schweppes Zero Sugar Classic Mixers Indian Tonic Water Bottle<br>Recipe: Carbonated Water, Food Acids (330, 331), Natural Flavours (With Orange Peel Extract, Citrus Oils, Botanical Extracts, Lemon Peel Extract), Sweeteners (951, 950), Quinine.CONTAINS QUININE. CONTAINS PHENYLALANINE.<br>Ingredient: 330<br>IngredientResearch: Citric Acid",
          "Product: Schweppes Indian Tonic Water Classic Mixers Bottle<br>Recipe: Carbonated Water, Sugar, Food Acid (330), Natural Flavours (With Orange Peel Extract, Citrus Oils, Botanical Extracts, Lemon Peel Extract), Quinine.CONTAINS QUININE.<br>Ingredient: Orange Peel Extract<br>IngredientResearch: Natural Flavour Orange Peel Extract",
          "Product: Schweppes Zero Sugar Classic Mixers Indian Tonic Water Bottle<br>Recipe: Carbonated Water, Food Acids (330, 331), Natural Flavours (With Orange Peel Extract, Citrus Oils, Botanical Extracts, Lemon Peel Extract), Sweeteners (951, 950), Quinine.CONTAINS QUININE. CONTAINS PHENYLALANINE.<br>Ingredient: Orange Peel Extract<br>IngredientResearch: Natural Flavour Orange Peel Extract",
          "Product: Schweppes Indian Tonic Water Classic Mixers Bottle<br>Recipe: Carbonated Water, Sugar, Food Acid (330), Natural Flavours (With Orange Peel Extract, Citrus Oils, Botanical Extracts, Lemon Peel Extract), Quinine.CONTAINS QUININE.<br>Ingredient: Citrus Oils<br>IngredientResearch: Natural Flavour Citrus Oils",
          "Product: Schweppes Zero Sugar Classic Mixers Indian Tonic Water Bottle<br>Recipe: Carbonated Water, Food Acids (330, 331), Natural Flavours (With Orange Peel Extract, Citrus Oils, Botanical Extracts, Lemon Peel Extract), Sweeteners (951, 950), Quinine.CONTAINS QUININE. CONTAINS PHENYLALANINE.<br>Ingredient: Citrus Oils<br>IngredientResearch: Natural Flavour Citrus Oils",
          "Product: Schweppes Indian Tonic Water Classic Mixers Bottle<br>Recipe: Carbonated Water, Sugar, Food Acid (330), Natural Flavours (With Orange Peel Extract, Citrus Oils, Botanical Extracts, Lemon Peel Extract), Quinine.CONTAINS QUININE.<br>Ingredient: Botanical Extracts<br>IngredientResearch: Natural Flavour Botanical Extracts",
          "Product: Schweppes Zero Sugar Classic Mixers Indian Tonic Water Bottle<br>Recipe: Carbonated Water, Food Acids (330, 331), Natural Flavours (With Orange Peel Extract, Citrus Oils, Botanical Extracts, Lemon Peel Extract), Sweeteners (951, 950), Quinine.CONTAINS QUININE. CONTAINS PHENYLALANINE.<br>Ingredient: Botanical Extracts<br>IngredientResearch: Natural Flavour Botanical Extracts",
          "Product: Schweppes Indian Tonic Water Classic Mixers Bottle<br>Recipe: Carbonated Water, Sugar, Food Acid (330), Natural Flavours (With Orange Peel Extract, Citrus Oils, Botanical Extracts, Lemon Peel Extract), Quinine.CONTAINS QUININE.<br>Ingredient: Lemon Peel Extract<br>IngredientResearch: Natural Flavour Lemon Peel Extract",
          "Product: Schweppes Zero Sugar Classic Mixers Indian Tonic Water Bottle<br>Recipe: Carbonated Water, Food Acids (330, 331), Natural Flavours (With Orange Peel Extract, Citrus Oils, Botanical Extracts, Lemon Peel Extract), Sweeteners (951, 950), Quinine.CONTAINS QUININE. CONTAINS PHENYLALANINE.<br>Ingredient: Lemon Peel Extract<br>IngredientResearch: Natural Flavour Lemon Peel Extract",
          "Product: Schweppes Indian Tonic Water Classic Mixers Bottle<br>Recipe: Carbonated Water, Sugar, Food Acid (330), Natural Flavours (With Orange Peel Extract, Citrus Oils, Botanical Extracts, Lemon Peel Extract), Quinine.CONTAINS QUININE.<br>Ingredient: Quinine<br>IngredientResearch: Quinine",
          "Product: Schweppes Zero Sugar Classic Mixers Indian Tonic Water Bottle<br>Recipe: Carbonated Water, Food Acids (330, 331), Natural Flavours (With Orange Peel Extract, Citrus Oils, Botanical Extracts, Lemon Peel Extract), Sweeteners (951, 950), Quinine.CONTAINS QUININE. CONTAINS PHENYLALANINE.<br>Ingredient: Quinine<br>IngredientResearch: Quinine",
          "Product: Schweppes Lime Soda Water With Lime Juice Bottle<br>Recipe: Carbonated Water, Reconstituted Lime Juice (5%), S ugar, Natural Flavour (With Lime Oils), Preservati ves (211, 223 (SULPHITES)), Plant Extracts (Garden ia, Carthamus).CONTAINS SULPHITES.<br>Ingredient: Lime Oils<br>IngredientResearch: Natural Flavour Lime Oils",
          "Product: Schweppes Lime Soda Water With Lime Juice Bottle<br>Recipe: Carbonated Water, Reconstituted Lime Juice (5%), S ugar, Natural Flavour (With Lime Oils), Preservati ves (211, 223 (SULPHITES)), Plant Extracts (Garden ia, Carthamus).CONTAINS SULPHITES.<br>Ingredient: 211<br>IngredientResearch: Sodium Benzoate",
          "Product: Schweppes Lemon Lime Natural Mineral Water Bottle<br>Recipe: Carbonated Water (Mineral Water 80%, Purified Wate,r 11%), Reconstituted Juices (Lemon 4.5%, Lime 0.5,%), Sugar, Natural Flavours, Food Acids (Citric Ac,id, Sodium Citrate), Preservatives (211, 202, 223),, Natural Colour (Safflower Extract).<br>Ingredient: 211<br>IngredientResearch: Sodium Benzoate",
          "Product: Schweppes Lime Soda Water With Lime Juice Bottle<br>Recipe: Carbonated Water, Reconstituted Lime Juice (5%), S ugar, Natural Flavour (With Lime Oils), Preservati ves (211, 223 (SULPHITES)), Plant Extracts (Garden ia, Carthamus).CONTAINS SULPHITES.<br>Ingredient: Gardenia<br>IngredientResearch: Plant Extract Gardenia",
          "Product: Schweppes Lime Soda Water With Lime Juice Bottle<br>Recipe: Carbonated Water, Reconstituted Lime Juice (5%), S ugar, Natural Flavour (With Lime Oils), Preservati ves (211, 223 (SULPHITES)), Plant Extracts (Garden ia, Carthamus).CONTAINS SULPHITES.<br>Ingredient: Carthamus<br>IngredientResearch: Plant Extract Carthamus",
          "Product: Schweppes Lime Soda Water With Lime Juice Bottle<br>Recipe: Carbonated Water, Reconstituted Lime Juice (5%), S ugar, Natural Flavour (With Lime Oils), Preservati ves (211, 223 (SULPHITES)), Plant Extracts (Garden ia, Carthamus).CONTAINS SULPHITES.<br>Ingredient: Sulphites<br>IngredientResearch: Sulphites",
          "Product: Schweppes Lemon Lime Natural Mineral Water Bottle<br>Recipe: Carbonated Water (Mineral Water 80%, Purified Wate,r 11%), Reconstituted Juices (Lemon 4.5%, Lime 0.5,%), Sugar, Natural Flavours, Food Acids (Citric Ac,id, Sodium Citrate), Preservatives (211, 202, 223),, Natural Colour (Safflower Extract).<br>Ingredient: Purified Water<br>IngredientResearch: ",
          "Product: Schweppes Lime Soda Water With Lime Juice Bottle<br>Recipe: Carbonated Water, Reconstituted Lime Juice (5%), S ugar, Natural Flavour (With Lime Oils), Preservati ves (211, 223 (SULPHITES)), Plant Extracts (Garden ia, Carthamus).CONTAINS SULPHITES.<br>Ingredient: Lime<br>IngredientResearch: Reconstituted Lime Juice",
          "Product: Schweppes Lemon Lime Natural Mineral Water Bottle<br>Recipe: Carbonated Water (Mineral Water 80%, Purified Wate,r 11%), Reconstituted Juices (Lemon 4.5%, Lime 0.5,%), Sugar, Natural Flavours, Food Acids (Citric Ac,id, Sodium Citrate), Preservatives (211, 202, 223),, Natural Colour (Safflower Extract).<br>Ingredient: Lime<br>IngredientResearch: Reconstituted Lime Juice",
          "Product: Schweppes Lemon Lime Natural Mineral Water Bottle<br>Recipe: Carbonated Water (Mineral Water 80%, Purified Wate,r 11%), Reconstituted Juices (Lemon 4.5%, Lime 0.5,%), Sugar, Natural Flavours, Food Acids (Citric Ac,id, Sodium Citrate), Preservatives (211, 202, 223),, Natural Colour (Safflower Extract).<br>Ingredient: Sodium Citrate<br>IngredientResearch: Sodium Citrate",
          "Product: Schweppes Lemon Lime Natural Mineral Water Bottle<br>Recipe: Carbonated Water (Mineral Water 80%, Purified Wate,r 11%), Reconstituted Juices (Lemon 4.5%, Lime 0.5,%), Sugar, Natural Flavours, Food Acids (Citric Ac,id, Sodium Citrate), Preservatives (211, 202, 223),, Natural Colour (Safflower Extract).<br>Ingredient: 202<br>IngredientResearch: Potassium Sorbate",
          "Product: Schweppes Lemon Lime Natural Mineral Water Bottle<br>Recipe: Carbonated Water (Mineral Water 80%, Purified Wate,r 11%), Reconstituted Juices (Lemon 4.5%, Lime 0.5,%), Sugar, Natural Flavours, Food Acids (Citric Ac,id, Sodium Citrate), Preservatives (211, 202, 223),, Natural Colour (Safflower Extract).<br>Ingredient: Safflower Extract<br>IngredientResearch: Safflower Extract",
          "Product: Kitkat 4 Finger Milk Chocolate Bar<br>Recipe: Ingredients:           Sugar,  Milk  Solids,  Wheat  Flour, Cocoa Butter^, Vegetable Fat Emulsifier ( Soy  Lecithin), Cocoa Mass^, Choc Paste ( Milk, Wheat, Soy ), Emulsifiers ( Soy  Lecithin, 476),  Cocoa^,  Raising Agent (Sodium Bicarbonate), Salt, Yeast,    Flavour,   Processing Aid (  Wheat  ).          Contains Milk, Wheat, Gluten, Soy.            May Contain Tree Nuts, Other Gluten Containing Ingredients.           Product Contains 67% Milk Chocolate and 33% Wafer Fingers.          Milk Chocolate Contains Minimum 22% Cocoa Solids, 25% Milk Solids.          ^ Rainforest Alliance Certified   Cocoa. Find Out More at Ra.Org.<br>Ingredient: Milk Solids<br>IngredientResearch: Milk Solids",
          "Product: Arnott's Premier Chocolate Chip Cookies<br>Recipe: Chocolate Chips (40%) (Sugar, Cocoa Mass, Milk Solids, Vegetable Oil, Emulsifiers (Soy Lecithin, E476), Cocoa Butter, Flavour, Salt), Wheat Flour, Sugar, Vegetable Oil, Desiccated Coconut, Wheat Starch, Salt, Baking Powder, Flavour, Food Colour (Caramel IV), Emulsifier (Soy Lecithin), Antioxidant (E307B from Soy).<br>Ingredient: Milk Solids<br>IngredientResearch: Milk Solids",
          "Product: Kitkat 4 Finger Milk Chocolate Bar<br>Recipe: Ingredients:           Sugar,  Milk  Solids,  Wheat  Flour, Cocoa Butter^, Vegetable Fat Emulsifier ( Soy  Lecithin), Cocoa Mass^, Choc Paste ( Milk, Wheat, Soy ), Emulsifiers ( Soy  Lecithin, 476),  Cocoa^,  Raising Agent (Sodium Bicarbonate), Salt, Yeast,    Flavour,   Processing Aid (  Wheat  ).          Contains Milk, Wheat, Gluten, Soy.            May Contain Tree Nuts, Other Gluten Containing Ingredients.           Product Contains 67% Milk Chocolate and 33% Wafer Fingers.          Milk Chocolate Contains Minimum 22% Cocoa Solids, 25% Milk Solids.          ^ Rainforest Alliance Certified   Cocoa. Find Out More at Ra.Org.<br>Ingredient: Cocoa Butter<br>IngredientResearch: Cocoa Butter",
          "Product: Arnott's Premier Chocolate Chip Cookies<br>Recipe: Chocolate Chips (40%) (Sugar, Cocoa Mass, Milk Solids, Vegetable Oil, Emulsifiers (Soy Lecithin, E476), Cocoa Butter, Flavour, Salt), Wheat Flour, Sugar, Vegetable Oil, Desiccated Coconut, Wheat Starch, Salt, Baking Powder, Flavour, Food Colour (Caramel IV), Emulsifier (Soy Lecithin), Antioxidant (E307B from Soy).<br>Ingredient: Cocoa Butter<br>IngredientResearch: Cocoa Butter",
          "Product: Woolworths The King Of Chunky Chocolate Chip Cookies<br>Recipe: <p>Dark Chocolate Chips (40%) (Sugar, Cocoa Mass, Cocoa Butter, Emulsifier (Lecithin (Soy), Natural Vanilla Flavour), Wheat Flour, Sugar, Vegetable Oil (Palm Oil, Antioxidant (307b)), Butter (Milk), Whey Powder (Milk), Natural Flavours (Vanilla, Butter (Milk), Salt, Raising Agents (Sodium Carbonate, Ammonium Carbonate), Dark Chocolate contains minimum 40% Cocoa Solids.</p><br>Ingredient: Cocoa Butter<br>IngredientResearch: Cocoa Butter",
          "Product: Arnott's Mini Choc Chip Cookie Multipack Biscuits<br>Recipe: Wheat Flour, Chocolate Chips (24%) (Sugar, Cocoa Mass, Cocoa Butter, Natural Flavour, Emulsifier (Soy Lecithin)), Sugar, Vegetable Oil, Butter (Contains Milk), Desiccated Coconut, Skim Milk Powder, Baking Powder, Salt, Emulsifier (Soy Lecithin), Natural Flavour, Antioxidant (E307b From Soy).<br>Ingredient: Cocoa Butter<br>IngredientResearch: Cocoa Butter",
          "Product: Kitkat 4 Finger Milk Chocolate Bar<br>Recipe: Ingredients:           Sugar,  Milk  Solids,  Wheat  Flour, Cocoa Butter^, Vegetable Fat Emulsifier ( Soy  Lecithin), Cocoa Mass^, Choc Paste ( Milk, Wheat, Soy ), Emulsifiers ( Soy  Lecithin, 476),  Cocoa^,  Raising Agent (Sodium Bicarbonate), Salt, Yeast,    Flavour,   Processing Aid (  Wheat  ).          Contains Milk, Wheat, Gluten, Soy.            May Contain Tree Nuts, Other Gluten Containing Ingredients.           Product Contains 67% Milk Chocolate and 33% Wafer Fingers.          Milk Chocolate Contains Minimum 22% Cocoa Solids, 25% Milk Solids.          ^ Rainforest Alliance Certified   Cocoa. Find Out More at Ra.Org.<br>Ingredient: Soy Lecithin<br>IngredientResearch: Emulsifier Soy Lecithin",
          "Product: Arnott's Premier Chocolate Chip Cookies<br>Recipe: Chocolate Chips (40%) (Sugar, Cocoa Mass, Milk Solids, Vegetable Oil, Emulsifiers (Soy Lecithin, E476), Cocoa Butter, Flavour, Salt), Wheat Flour, Sugar, Vegetable Oil, Desiccated Coconut, Wheat Starch, Salt, Baking Powder, Flavour, Food Colour (Caramel IV), Emulsifier (Soy Lecithin), Antioxidant (E307B from Soy).<br>Ingredient: Soy Lecithin<br>IngredientResearch: Emulsifier Soy Lecithin",
          "Product: Woolworths Chocolate Chip Cookies<br>Recipe: Wheat Flour, Sugar, Dark Compound Chocolate Chips (20%) (Sugar, Palm Oil, Cocoa Solids, Emulsifier (Soy Lecithin), Natural Flavour), Vegetable Oil (Palm Oil, Antioxidant (307b)), Wheaten Corn Flour (Wheat), Whole Egg Powder, Whey Powder (Milk), Raising Agents (Sodium Carbonates, Ammonium Carbonates), Natural Flavour, Salt, Natural Colour (Annatto Extracts)<br>Ingredient: Soy Lecithin<br>IngredientResearch: Emulsifier Soy Lecithin",
          "Product: Woolworths The King Of Chunky Chocolate Chip Cookies<br>Recipe: <p>Dark Chocolate Chips (40%) (Sugar, Cocoa Mass, Cocoa Butter, Emulsifier (Lecithin (Soy), Natural Vanilla Flavour), Wheat Flour, Sugar, Vegetable Oil (Palm Oil, Antioxidant (307b)), Butter (Milk), Whey Powder (Milk), Natural Flavours (Vanilla, Butter (Milk), Salt, Raising Agents (Sodium Carbonate, Ammonium Carbonate), Dark Chocolate contains minimum 40% Cocoa Solids.</p><br>Ingredient: Soy Lecithin<br>IngredientResearch: Emulsifier Soy Lecithin",
          "Product: Arnott's Mini Choc Chip Cookie Multipack Biscuits<br>Recipe: Wheat Flour, Chocolate Chips (24%) (Sugar, Cocoa Mass, Cocoa Butter, Natural Flavour, Emulsifier (Soy Lecithin)), Sugar, Vegetable Oil, Butter (Contains Milk), Desiccated Coconut, Skim Milk Powder, Baking Powder, Salt, Emulsifier (Soy Lecithin), Natural Flavour, Antioxidant (E307b From Soy).<br>Ingredient: Soy Lecithin<br>IngredientResearch: Emulsifier Soy Lecithin",
          "Product: Kitkat 4 Finger Milk Chocolate Bar<br>Recipe: Ingredients:           Sugar,  Milk  Solids,  Wheat  Flour, Cocoa Butter^, Vegetable Fat Emulsifier ( Soy  Lecithin), Cocoa Mass^, Choc Paste ( Milk, Wheat, Soy ), Emulsifiers ( Soy  Lecithin, 476),  Cocoa^,  Raising Agent (Sodium Bicarbonate), Salt, Yeast,    Flavour,   Processing Aid (  Wheat  ).          Contains Milk, Wheat, Gluten, Soy.            May Contain Tree Nuts, Other Gluten Containing Ingredients.           Product Contains 67% Milk Chocolate and 33% Wafer Fingers.          Milk Chocolate Contains Minimum 22% Cocoa Solids, 25% Milk Solids.          ^ Rainforest Alliance Certified   Cocoa. Find Out More at Ra.Org.<br>Ingredient: Cocoa Mass<br>IngredientResearch: Cocoa Mass",
          "Product: Arnott's Premier Chocolate Chip Cookies<br>Recipe: Chocolate Chips (40%) (Sugar, Cocoa Mass, Milk Solids, Vegetable Oil, Emulsifiers (Soy Lecithin, E476), Cocoa Butter, Flavour, Salt), Wheat Flour, Sugar, Vegetable Oil, Desiccated Coconut, Wheat Starch, Salt, Baking Powder, Flavour, Food Colour (Caramel IV), Emulsifier (Soy Lecithin), Antioxidant (E307B from Soy).<br>Ingredient: Cocoa Mass<br>IngredientResearch: Cocoa Mass",
          "Product: Woolworths The King Of Chunky Chocolate Chip Cookies<br>Recipe: <p>Dark Chocolate Chips (40%) (Sugar, Cocoa Mass, Cocoa Butter, Emulsifier (Lecithin (Soy), Natural Vanilla Flavour), Wheat Flour, Sugar, Vegetable Oil (Palm Oil, Antioxidant (307b)), Butter (Milk), Whey Powder (Milk), Natural Flavours (Vanilla, Butter (Milk), Salt, Raising Agents (Sodium Carbonate, Ammonium Carbonate), Dark Chocolate contains minimum 40% Cocoa Solids.</p><br>Ingredient: Cocoa Mass<br>IngredientResearch: Cocoa Mass",
          "Product: Arnott's Mini Choc Chip Cookie Multipack Biscuits<br>Recipe: Wheat Flour, Chocolate Chips (24%) (Sugar, Cocoa Mass, Cocoa Butter, Natural Flavour, Emulsifier (Soy Lecithin)), Sugar, Vegetable Oil, Butter (Contains Milk), Desiccated Coconut, Skim Milk Powder, Baking Powder, Salt, Emulsifier (Soy Lecithin), Natural Flavour, Antioxidant (E307b From Soy).<br>Ingredient: Cocoa Mass<br>IngredientResearch: Cocoa Mass",
          "Product: Kitkat 4 Finger Milk Chocolate Bar<br>Recipe: Ingredients:           Sugar,  Milk  Solids,  Wheat  Flour, Cocoa Butter^, Vegetable Fat Emulsifier ( Soy  Lecithin), Cocoa Mass^, Choc Paste ( Milk, Wheat, Soy ), Emulsifiers ( Soy  Lecithin, 476),  Cocoa^,  Raising Agent (Sodium Bicarbonate), Salt, Yeast,    Flavour,   Processing Aid (  Wheat  ).          Contains Milk, Wheat, Gluten, Soy.            May Contain Tree Nuts, Other Gluten Containing Ingredients.           Product Contains 67% Milk Chocolate and 33% Wafer Fingers.          Milk Chocolate Contains Minimum 22% Cocoa Solids, 25% Milk Solids.          ^ Rainforest Alliance Certified   Cocoa. Find Out More at Ra.Org.<br>Ingredient: Milk<br>IngredientResearch: Milk",
          "Product: Woolworths Chocolate Chip Cookies<br>Recipe: Wheat Flour, Sugar, Dark Compound Chocolate Chips (20%) (Sugar, Palm Oil, Cocoa Solids, Emulsifier (Soy Lecithin), Natural Flavour), Vegetable Oil (Palm Oil, Antioxidant (307b)), Wheaten Corn Flour (Wheat), Whole Egg Powder, Whey Powder (Milk), Raising Agents (Sodium Carbonates, Ammonium Carbonates), Natural Flavour, Salt, Natural Colour (Annatto Extracts)<br>Ingredient: Milk<br>IngredientResearch: Milk",
          "Product: Dairy Farmers Full Cream Milk Full Cream Milk<br>Recipe: Milk.<br>Ingredient: Milk<br>IngredientResearch: Milk",
          "Product: Woolworths Creamed Rice<br>Recipe: Rice (44%), Milk, Skim Milk, Sugar, Salt, Acidity Regulator (339), Natural Vanilla Flavour<br>Ingredient: Milk<br>IngredientResearch: Milk",
          "Product: Kitkat 4 Finger Milk Chocolate Bar<br>Recipe: Ingredients:           Sugar,  Milk  Solids,  Wheat  Flour, Cocoa Butter^, Vegetable Fat Emulsifier ( Soy  Lecithin), Cocoa Mass^, Choc Paste ( Milk, Wheat, Soy ), Emulsifiers ( Soy  Lecithin, 476),  Cocoa^,  Raising Agent (Sodium Bicarbonate), Salt, Yeast,    Flavour,   Processing Aid (  Wheat  ).          Contains Milk, Wheat, Gluten, Soy.            May Contain Tree Nuts, Other Gluten Containing Ingredients.           Product Contains 67% Milk Chocolate and 33% Wafer Fingers.          Milk Chocolate Contains Minimum 22% Cocoa Solids, 25% Milk Solids.          ^ Rainforest Alliance Certified   Cocoa. Find Out More at Ra.Org.<br>Ingredient: 476<br>IngredientResearch: Polyglycerol Polyricinoleate",
          "Product: Kitkat 4 Finger Milk Chocolate Bar<br>Recipe: Ingredients:           Sugar,  Milk  Solids,  Wheat  Flour, Cocoa Butter^, Vegetable Fat Emulsifier ( Soy  Lecithin), Cocoa Mass^, Choc Paste ( Milk, Wheat, Soy ), Emulsifiers ( Soy  Lecithin, 476),  Cocoa^,  Raising Agent (Sodium Bicarbonate), Salt, Yeast,    Flavour,   Processing Aid (  Wheat  ).          Contains Milk, Wheat, Gluten, Soy.            May Contain Tree Nuts, Other Gluten Containing Ingredients.           Product Contains 67% Milk Chocolate and 33% Wafer Fingers.          Milk Chocolate Contains Minimum 22% Cocoa Solids, 25% Milk Solids.          ^ Rainforest Alliance Certified   Cocoa. Find Out More at Ra.Org.<br>Ingredient: Cocoa<br>IngredientResearch: Cocoa",
          "Product: Kitkat 4 Finger Milk Chocolate Bar<br>Recipe: Ingredients:           Sugar,  Milk  Solids,  Wheat  Flour, Cocoa Butter^, Vegetable Fat Emulsifier ( Soy  Lecithin), Cocoa Mass^, Choc Paste ( Milk, Wheat, Soy ), Emulsifiers ( Soy  Lecithin, 476),  Cocoa^,  Raising Agent (Sodium Bicarbonate), Salt, Yeast,    Flavour,   Processing Aid (  Wheat  ).          Contains Milk, Wheat, Gluten, Soy.            May Contain Tree Nuts, Other Gluten Containing Ingredients.           Product Contains 67% Milk Chocolate and 33% Wafer Fingers.          Milk Chocolate Contains Minimum 22% Cocoa Solids, 25% Milk Solids.          ^ Rainforest Alliance Certified   Cocoa. Find Out More at Ra.Org.<br>Ingredient: Sodium Bicarbonate<br>IngredientResearch: Sodium Bicarbonate",
          "Product: Kitkat 4 Finger Milk Chocolate Bar<br>Recipe: Ingredients:           Sugar,  Milk  Solids,  Wheat  Flour, Cocoa Butter^, Vegetable Fat Emulsifier ( Soy  Lecithin), Cocoa Mass^, Choc Paste ( Milk, Wheat, Soy ), Emulsifiers ( Soy  Lecithin, 476),  Cocoa^,  Raising Agent (Sodium Bicarbonate), Salt, Yeast,    Flavour,   Processing Aid (  Wheat  ).          Contains Milk, Wheat, Gluten, Soy.            May Contain Tree Nuts, Other Gluten Containing Ingredients.           Product Contains 67% Milk Chocolate and 33% Wafer Fingers.          Milk Chocolate Contains Minimum 22% Cocoa Solids, 25% Milk Solids.          ^ Rainforest Alliance Certified   Cocoa. Find Out More at Ra.Org.<br>Ingredient: Yeast<br>IngredientResearch: Yeast",
          "Product: Kitkat 4 Finger Milk Chocolate Bar<br>Recipe: Ingredients:           Sugar,  Milk  Solids,  Wheat  Flour, Cocoa Butter^, Vegetable Fat Emulsifier ( Soy  Lecithin), Cocoa Mass^, Choc Paste ( Milk, Wheat, Soy ), Emulsifiers ( Soy  Lecithin, 476),  Cocoa^,  Raising Agent (Sodium Bicarbonate), Salt, Yeast,    Flavour,   Processing Aid (  Wheat  ).          Contains Milk, Wheat, Gluten, Soy.            May Contain Tree Nuts, Other Gluten Containing Ingredients.           Product Contains 67% Milk Chocolate and 33% Wafer Fingers.          Milk Chocolate Contains Minimum 22% Cocoa Solids, 25% Milk Solids.          ^ Rainforest Alliance Certified   Cocoa. Find Out More at Ra.Org.<br>Ingredient: Wheat<br>IngredientResearch: Processing Aid Wheat",
          "Product: Woolworths Full Cream Milk<br>Recipe: Pasteurised and Homogenised Full Cream Milk<br>Ingredient: Full Cream Milk<br>IngredientResearch: Full Cream Milk",
          "Product: Masterfoods Barbecue Sauce<br>Recipe: Tomatoes (from Paste, Food Acid (Citric)) 45%, Sugar, Water, Cornflour (from Wheat), Food Acids (Acetic, Citric), Salt, Glucose Syrup, Colour (Caramel (150c)), Thickener (Pectin), Tamarind Paste, Yeast Extract, Clove, Nutmeg, Onion 0.5%, Pepper.<br>Ingredient: Glucose Syrup<br>IngredientResearch: Glucose Syrup",
          "Product: Arnott's Premier Chocolate Chip Cookies<br>Recipe: Chocolate Chips (40%) (Sugar, Cocoa Mass, Milk Solids, Vegetable Oil, Emulsifiers (Soy Lecithin, E476), Cocoa Butter, Flavour, Salt), Wheat Flour, Sugar, Vegetable Oil, Desiccated Coconut, Wheat Starch, Salt, Baking Powder, Flavour, Food Colour (Caramel IV), Emulsifier (Soy Lecithin), Antioxidant (E307B from Soy).<br>Ingredient: E476<br>IngredientResearch: Polyglycerol polyricinoleate",
          "Product: Arnott's Premier Chocolate Chip Cookies<br>Recipe: Chocolate Chips (40%) (Sugar, Cocoa Mass, Milk Solids, Vegetable Oil, Emulsifiers (Soy Lecithin, E476), Cocoa Butter, Flavour, Salt), Wheat Flour, Sugar, Vegetable Oil, Desiccated Coconut, Wheat Starch, Salt, Baking Powder, Flavour, Food Colour (Caramel IV), Emulsifier (Soy Lecithin), Antioxidant (E307B from Soy).<br>Ingredient: Desiccated Coconut<br>IngredientResearch: Desiccated Coconut",
          "Product: Arnott's Mini Choc Chip Cookie Multipack Biscuits<br>Recipe: Wheat Flour, Chocolate Chips (24%) (Sugar, Cocoa Mass, Cocoa Butter, Natural Flavour, Emulsifier (Soy Lecithin)), Sugar, Vegetable Oil, Butter (Contains Milk), Desiccated Coconut, Skim Milk Powder, Baking Powder, Salt, Emulsifier (Soy Lecithin), Natural Flavour, Antioxidant (E307b From Soy).<br>Ingredient: Desiccated Coconut<br>IngredientResearch: Desiccated Coconut",
          "Product: Arnott's Premier Chocolate Chip Cookies<br>Recipe: Chocolate Chips (40%) (Sugar, Cocoa Mass, Milk Solids, Vegetable Oil, Emulsifiers (Soy Lecithin, E476), Cocoa Butter, Flavour, Salt), Wheat Flour, Sugar, Vegetable Oil, Desiccated Coconut, Wheat Starch, Salt, Baking Powder, Flavour, Food Colour (Caramel IV), Emulsifier (Soy Lecithin), Antioxidant (E307B from Soy).<br>Ingredient: Wheat Starch<br>IngredientResearch: Wheat Starch",
          "Product: Arnott's Premier Chocolate Chip Cookies<br>Recipe: Chocolate Chips (40%) (Sugar, Cocoa Mass, Milk Solids, Vegetable Oil, Emulsifiers (Soy Lecithin, E476), Cocoa Butter, Flavour, Salt), Wheat Flour, Sugar, Vegetable Oil, Desiccated Coconut, Wheat Starch, Salt, Baking Powder, Flavour, Food Colour (Caramel IV), Emulsifier (Soy Lecithin), Antioxidant (E307B from Soy).<br>Ingredient: Baking Powder<br>IngredientResearch: Baking Powder",
          "Product: Arnott's Mini Choc Chip Cookie Multipack Biscuits<br>Recipe: Wheat Flour, Chocolate Chips (24%) (Sugar, Cocoa Mass, Cocoa Butter, Natural Flavour, Emulsifier (Soy Lecithin)), Sugar, Vegetable Oil, Butter (Contains Milk), Desiccated Coconut, Skim Milk Powder, Baking Powder, Salt, Emulsifier (Soy Lecithin), Natural Flavour, Antioxidant (E307b From Soy).<br>Ingredient: Baking Powder<br>IngredientResearch: Baking Powder",
          "Product: Arnott's Premier Chocolate Chip Cookies<br>Recipe: Chocolate Chips (40%) (Sugar, Cocoa Mass, Milk Solids, Vegetable Oil, Emulsifiers (Soy Lecithin, E476), Cocoa Butter, Flavour, Salt), Wheat Flour, Sugar, Vegetable Oil, Desiccated Coconut, Wheat Starch, Salt, Baking Powder, Flavour, Food Colour (Caramel IV), Emulsifier (Soy Lecithin), Antioxidant (E307B from Soy).<br>Ingredient: Caramel IV<br>IngredientResearch: Colouring Agent Caramel IV",
          "Product: Arnott's Premier Chocolate Chip Cookies<br>Recipe: Chocolate Chips (40%) (Sugar, Cocoa Mass, Milk Solids, Vegetable Oil, Emulsifiers (Soy Lecithin, E476), Cocoa Butter, Flavour, Salt), Wheat Flour, Sugar, Vegetable Oil, Desiccated Coconut, Wheat Starch, Salt, Baking Powder, Flavour, Food Colour (Caramel IV), Emulsifier (Soy Lecithin), Antioxidant (E307B from Soy).<br>Ingredient: E307B<br>IngredientResearch: Antioxidant E307B",
          "Product: Arnott's Mini Choc Chip Cookie Multipack Biscuits<br>Recipe: Wheat Flour, Chocolate Chips (24%) (Sugar, Cocoa Mass, Cocoa Butter, Natural Flavour, Emulsifier (Soy Lecithin)), Sugar, Vegetable Oil, Butter (Contains Milk), Desiccated Coconut, Skim Milk Powder, Baking Powder, Salt, Emulsifier (Soy Lecithin), Natural Flavour, Antioxidant (E307b From Soy).<br>Ingredient: E307B<br>IngredientResearch: Antioxidant E307B",
          "Product: Woolworths Chocolate Chip Cookies<br>Recipe: Wheat Flour, Sugar, Dark Compound Chocolate Chips (20%) (Sugar, Palm Oil, Cocoa Solids, Emulsifier (Soy Lecithin), Natural Flavour), Vegetable Oil (Palm Oil, Antioxidant (307b)), Wheaten Corn Flour (Wheat), Whole Egg Powder, Whey Powder (Milk), Raising Agents (Sodium Carbonates, Ammonium Carbonates), Natural Flavour, Salt, Natural Colour (Annatto Extracts)<br>Ingredient: Dark Compound Chocolate Chips<br>IngredientResearch: Dark Compound Chocolate Chips",
          "Product: Woolworths Chocolate Chip Cookies<br>Recipe: Wheat Flour, Sugar, Dark Compound Chocolate Chips (20%) (Sugar, Palm Oil, Cocoa Solids, Emulsifier (Soy Lecithin), Natural Flavour), Vegetable Oil (Palm Oil, Antioxidant (307b)), Wheaten Corn Flour (Wheat), Whole Egg Powder, Whey Powder (Milk), Raising Agents (Sodium Carbonates, Ammonium Carbonates), Natural Flavour, Salt, Natural Colour (Annatto Extracts)<br>Ingredient: Palm Oil<br>IngredientResearch: Palm Oil",
          "Product: Woolworths The King Of Chunky Chocolate Chip Cookies<br>Recipe: <p>Dark Chocolate Chips (40%) (Sugar, Cocoa Mass, Cocoa Butter, Emulsifier (Lecithin (Soy), Natural Vanilla Flavour), Wheat Flour, Sugar, Vegetable Oil (Palm Oil, Antioxidant (307b)), Butter (Milk), Whey Powder (Milk), Natural Flavours (Vanilla, Butter (Milk), Salt, Raising Agents (Sodium Carbonate, Ammonium Carbonate), Dark Chocolate contains minimum 40% Cocoa Solids.</p><br>Ingredient: Palm Oil<br>IngredientResearch: Palm Oil",
          "Product: Woolworths Chocolate Chip Cookies<br>Recipe: Wheat Flour, Sugar, Dark Compound Chocolate Chips (20%) (Sugar, Palm Oil, Cocoa Solids, Emulsifier (Soy Lecithin), Natural Flavour), Vegetable Oil (Palm Oil, Antioxidant (307b)), Wheaten Corn Flour (Wheat), Whole Egg Powder, Whey Powder (Milk), Raising Agents (Sodium Carbonates, Ammonium Carbonates), Natural Flavour, Salt, Natural Colour (Annatto Extracts)<br>Ingredient: Cocoa Solids<br>IngredientResearch: Cocoa Solids",
          "Product: Woolworths Chocolate Chip Cookies<br>Recipe: Wheat Flour, Sugar, Dark Compound Chocolate Chips (20%) (Sugar, Palm Oil, Cocoa Solids, Emulsifier (Soy Lecithin), Natural Flavour), Vegetable Oil (Palm Oil, Antioxidant (307b)), Wheaten Corn Flour (Wheat), Whole Egg Powder, Whey Powder (Milk), Raising Agents (Sodium Carbonates, Ammonium Carbonates), Natural Flavour, Salt, Natural Colour (Annatto Extracts)<br>Ingredient: Natural Flavour<br>IngredientResearch: Natural Flavour",
          "Product: Arnott's Mini Choc Chip Cookie Multipack Biscuits<br>Recipe: Wheat Flour, Chocolate Chips (24%) (Sugar, Cocoa Mass, Cocoa Butter, Natural Flavour, Emulsifier (Soy Lecithin)), Sugar, Vegetable Oil, Butter (Contains Milk), Desiccated Coconut, Skim Milk Powder, Baking Powder, Salt, Emulsifier (Soy Lecithin), Natural Flavour, Antioxidant (E307b From Soy).<br>Ingredient: Natural Flavour<br>IngredientResearch: Natural Flavour",
          "Product: Woolworths Apple Juice<br>Recipe: Reconstituted Apple Juice (99.7%), Acidity Regulator (Citric Acid), Natural Flavour, Vitamin C.<br>Ingredient: Natural Flavour<br>IngredientResearch: Natural Flavour",
          "Product: Woolworths Apple & Mango Juice<br>Recipe: Reconstituted Fruit Juices (Apple (95.8%), Mango (4.0%)), Acidity Regulator (Citric Acid), Vitamin C, Natural Flavour.<br>Ingredient: Natural Flavour<br>IngredientResearch: Natural Flavour",
          "Product: Woolworths Orange Juice<br>Recipe: Reconstituted Orange Juice (99.8%), Natural Flavour, Vitamin C, Acidity Regulator (Citric Acid).<br>Ingredient: Natural Flavour<br>IngredientResearch: Natural Flavour",
          "Product: Woolworths Apple & Blackcurrant Juice<br>Recipe: Reconstituted Fruit Juices [Apple (94.8%), Blackcurrant (4.9%)], Acidity Regulator (Citric Acid), Natural Flavour, Vitamin C, Natural Colour (163).<br>Ingredient: Natural Flavour<br>IngredientResearch: Natural Flavour",
          "Product: Woolworths Tomato Sauce Squeeze<br>Recipe: Reconstituted Tomato Puree (78%), Sugar, Thickener (Modified Corn Starch), Salt, Acidity Regulators (Acetic Acid, Citric Acid), Natural Flavour, Spice Extract<br>Ingredient: Natural Flavour<br>IngredientResearch: Natural Flavour",
          "Product: Woolworths Tomato Sauce<br>Recipe: Reconstituted Tomato Puree (78%), Sugar, Thickener (Modified Corn Starch), Salt, Acidity Regulators (Acetic Acid, Citric Acid), Natural Flavour, Spice Extract<br>Ingredient: Natural Flavour<br>IngredientResearch: Natural Flavour",
          "Product: Woolworths Barbecue Sauce<br>Recipe: Reconstituted Fruit Puree (51%) (Apple Pulp, Tomato Paste), Sugar, Thickener (Modified Corn Starch), Salt, Acidity Regulators (Acetic Acid, Citric Acid), Molasses, Natural Colour (Caramel I), Smoke Flavour, Spices, Natural Flavour, Vegetable Gum (Xanthan Gum)<br>Ingredient: Natural Flavour<br>IngredientResearch: Natural Flavour",
          "Product: Woolworths Chocolate Chip Cookies<br>Recipe: Wheat Flour, Sugar, Dark Compound Chocolate Chips (20%) (Sugar, Palm Oil, Cocoa Solids, Emulsifier (Soy Lecithin), Natural Flavour), Vegetable Oil (Palm Oil, Antioxidant (307b)), Wheaten Corn Flour (Wheat), Whole Egg Powder, Whey Powder (Milk), Raising Agents (Sodium Carbonates, Ammonium Carbonates), Natural Flavour, Salt, Natural Colour (Annatto Extracts)<br>Ingredient: Wheaten Corn Flour<br>IngredientResearch: Wheaten Corn Flour",
          "Product: Woolworths Chocolate Chip Cookies<br>Recipe: Wheat Flour, Sugar, Dark Compound Chocolate Chips (20%) (Sugar, Palm Oil, Cocoa Solids, Emulsifier (Soy Lecithin), Natural Flavour), Vegetable Oil (Palm Oil, Antioxidant (307b)), Wheaten Corn Flour (Wheat), Whole Egg Powder, Whey Powder (Milk), Raising Agents (Sodium Carbonates, Ammonium Carbonates), Natural Flavour, Salt, Natural Colour (Annatto Extracts)<br>Ingredient: Whole Egg Powder<br>IngredientResearch: Whole Egg Powder",
          "Product: Woolworths Chocolate Chip Cookies<br>Recipe: Wheat Flour, Sugar, Dark Compound Chocolate Chips (20%) (Sugar, Palm Oil, Cocoa Solids, Emulsifier (Soy Lecithin), Natural Flavour), Vegetable Oil (Palm Oil, Antioxidant (307b)), Wheaten Corn Flour (Wheat), Whole Egg Powder, Whey Powder (Milk), Raising Agents (Sodium Carbonates, Ammonium Carbonates), Natural Flavour, Salt, Natural Colour (Annatto Extracts)<br>Ingredient: Whey Powder<br>IngredientResearch: Milk Whey Powder",
          "Product: Woolworths The King Of Chunky Chocolate Chip Cookies<br>Recipe: <p>Dark Chocolate Chips (40%) (Sugar, Cocoa Mass, Cocoa Butter, Emulsifier (Lecithin (Soy), Natural Vanilla Flavour), Wheat Flour, Sugar, Vegetable Oil (Palm Oil, Antioxidant (307b)), Butter (Milk), Whey Powder (Milk), Natural Flavours (Vanilla, Butter (Milk), Salt, Raising Agents (Sodium Carbonate, Ammonium Carbonate), Dark Chocolate contains minimum 40% Cocoa Solids.</p><br>Ingredient: Whey Powder<br>IngredientResearch: Milk Whey Powder",
          "Product: Smith's Crinkle Cut Potato Chips Cheese & Onion<br>Recipe: Potatoes (61%), Canola Oil, Sunflower Oil, Whey Po,wder (Milk), Cheese Powder (Milk), Salt, Onion Pow,der, Dextrose, Maltodextrin, Mineral Salt (Potassi,um Chloride), Flavour Enhancer (621), Natural Flav,ours (Milk), Yeast Extract, Food Acids (Citric Aci,<br>Ingredient: Whey Powder<br>IngredientResearch: Milk Whey Powder",
          "Product: Woolworths Chocolate Chip Cookies<br>Recipe: Wheat Flour, Sugar, Dark Compound Chocolate Chips (20%) (Sugar, Palm Oil, Cocoa Solids, Emulsifier (Soy Lecithin), Natural Flavour), Vegetable Oil (Palm Oil, Antioxidant (307b)), Wheaten Corn Flour (Wheat), Whole Egg Powder, Whey Powder (Milk), Raising Agents (Sodium Carbonates, Ammonium Carbonates), Natural Flavour, Salt, Natural Colour (Annatto Extracts)<br>Ingredient: Annatto Extracts<br>IngredientResearch: Annatto Extracts",
          "Product: Woolworths The King Of Chunky Chocolate Chip Cookies<br>Recipe: <p>Dark Chocolate Chips (40%) (Sugar, Cocoa Mass, Cocoa Butter, Emulsifier (Lecithin (Soy), Natural Vanilla Flavour), Wheat Flour, Sugar, Vegetable Oil (Palm Oil, Antioxidant (307b)), Butter (Milk), Whey Powder (Milk), Natural Flavours (Vanilla, Butter (Milk), Salt, Raising Agents (Sodium Carbonate, Ammonium Carbonate), Dark Chocolate contains minimum 40% Cocoa Solids.</p><br>Ingredient: Dark Chocolate Chips<br>IngredientResearch: Dark Chocolate Chips",
          "Product: Woolworths The King Of Chunky Chocolate Chip Cookies<br>Recipe: <p>Dark Chocolate Chips (40%) (Sugar, Cocoa Mass, Cocoa Butter, Emulsifier (Lecithin (Soy), Natural Vanilla Flavour), Wheat Flour, Sugar, Vegetable Oil (Palm Oil, Antioxidant (307b)), Butter (Milk), Whey Powder (Milk), Natural Flavours (Vanilla, Butter (Milk), Salt, Raising Agents (Sodium Carbonate, Ammonium Carbonate), Dark Chocolate contains minimum 40% Cocoa Solids.</p><br>Ingredient: Natural Vanilla Flavour<br>IngredientResearch: Natural Vanilla Flavour",
          "Product: Woolworths Creamed Rice<br>Recipe: Rice (44%), Milk, Skim Milk, Sugar, Salt, Acidity Regulator (339), Natural Vanilla Flavour<br>Ingredient: Natural Vanilla Flavour<br>IngredientResearch: Natural Vanilla Flavour",
          "Product: Woolworths The King Of Chunky Chocolate Chip Cookies<br>Recipe: <p>Dark Chocolate Chips (40%) (Sugar, Cocoa Mass, Cocoa Butter, Emulsifier (Lecithin (Soy), Natural Vanilla Flavour), Wheat Flour, Sugar, Vegetable Oil (Palm Oil, Antioxidant (307b)), Butter (Milk), Whey Powder (Milk), Natural Flavours (Vanilla, Butter (Milk), Salt, Raising Agents (Sodium Carbonate, Ammonium Carbonate), Dark Chocolate contains minimum 40% Cocoa Solids.</p><br>Ingredient: Butter<br>IngredientResearch: Milk Butter",
          "Product: Arnott's Mini Choc Chip Cookie Multipack Biscuits<br>Recipe: Wheat Flour, Chocolate Chips (24%) (Sugar, Cocoa Mass, Cocoa Butter, Natural Flavour, Emulsifier (Soy Lecithin)), Sugar, Vegetable Oil, Butter (Contains Milk), Desiccated Coconut, Skim Milk Powder, Baking Powder, Salt, Emulsifier (Soy Lecithin), Natural Flavour, Antioxidant (E307b From Soy).<br>Ingredient: Butter<br>IngredientResearch: Milk Butter",
          "Product: Woolworths The King Of Chunky Chocolate Chip Cookies<br>Recipe: <p>Dark Chocolate Chips (40%) (Sugar, Cocoa Mass, Cocoa Butter, Emulsifier (Lecithin (Soy), Natural Vanilla Flavour), Wheat Flour, Sugar, Vegetable Oil (Palm Oil, Antioxidant (307b)), Butter (Milk), Whey Powder (Milk), Natural Flavours (Vanilla, Butter (Milk), Salt, Raising Agents (Sodium Carbonate, Ammonium Carbonate), Dark Chocolate contains minimum 40% Cocoa Solids.</p><br>Ingredient: Vanilla<br>IngredientResearch: Natural Flavour Vanilla",
          "Product: Woolworths The King Of Chunky Chocolate Chip Cookies<br>Recipe: <p>Dark Chocolate Chips (40%) (Sugar, Cocoa Mass, Cocoa Butter, Emulsifier (Lecithin (Soy), Natural Vanilla Flavour), Wheat Flour, Sugar, Vegetable Oil (Palm Oil, Antioxidant (307b)), Butter (Milk), Whey Powder (Milk), Natural Flavours (Vanilla, Butter (Milk), Salt, Raising Agents (Sodium Carbonate, Ammonium Carbonate), Dark Chocolate contains minimum 40% Cocoa Solids.</p><br>Ingredient: Butter<br>IngredientResearch: Natural Flavour Butter",
          "Product: Woolworths Chocolate Chip Cookies<br>Recipe: Wheat Flour, Sugar, Dark Compound Chocolate Chips (20%) (Sugar, Palm Oil, Cocoa Solids, Emulsifier (Soy Lecithin), Natural Flavour), Vegetable Oil (Palm Oil, Antioxidant (307b)), Wheaten Corn Flour (Wheat), Whole Egg Powder, Whey Powder (Milk), Raising Agents (Sodium Carbonates, Ammonium Carbonates), Natural Flavour, Salt, Natural Colour (Annatto Extracts)<br>Ingredient: Sodium Carbonate<br>IngredientResearch: Sodium Carbonate",
          "Product: Woolworths The King Of Chunky Chocolate Chip Cookies<br>Recipe: <p>Dark Chocolate Chips (40%) (Sugar, Cocoa Mass, Cocoa Butter, Emulsifier (Lecithin (Soy), Natural Vanilla Flavour), Wheat Flour, Sugar, Vegetable Oil (Palm Oil, Antioxidant (307b)), Butter (Milk), Whey Powder (Milk), Natural Flavours (Vanilla, Butter (Milk), Salt, Raising Agents (Sodium Carbonate, Ammonium Carbonate), Dark Chocolate contains minimum 40% Cocoa Solids.</p><br>Ingredient: Sodium Carbonate<br>IngredientResearch: Sodium Carbonate",
          "Product: Woolworths Chocolate Chip Cookies<br>Recipe: Wheat Flour, Sugar, Dark Compound Chocolate Chips (20%) (Sugar, Palm Oil, Cocoa Solids, Emulsifier (Soy Lecithin), Natural Flavour), Vegetable Oil (Palm Oil, Antioxidant (307b)), Wheaten Corn Flour (Wheat), Whole Egg Powder, Whey Powder (Milk), Raising Agents (Sodium Carbonates, Ammonium Carbonates), Natural Flavour, Salt, Natural Colour (Annatto Extracts)<br>Ingredient: Ammonium Carbonate<br>IngredientResearch: Ammonium Carbonate",
          "Product: Woolworths The King Of Chunky Chocolate Chip Cookies<br>Recipe: <p>Dark Chocolate Chips (40%) (Sugar, Cocoa Mass, Cocoa Butter, Emulsifier (Lecithin (Soy), Natural Vanilla Flavour), Wheat Flour, Sugar, Vegetable Oil (Palm Oil, Antioxidant (307b)), Butter (Milk), Whey Powder (Milk), Natural Flavours (Vanilla, Butter (Milk), Salt, Raising Agents (Sodium Carbonate, Ammonium Carbonate), Dark Chocolate contains minimum 40% Cocoa Solids.</p><br>Ingredient: Ammonium Carbonate<br>IngredientResearch: Ammonium Carbonate",
          "Product: Arnott's Mini Choc Chip Cookie Multipack Biscuits<br>Recipe: Wheat Flour, Chocolate Chips (24%) (Sugar, Cocoa Mass, Cocoa Butter, Natural Flavour, Emulsifier (Soy Lecithin)), Sugar, Vegetable Oil, Butter (Contains Milk), Desiccated Coconut, Skim Milk Powder, Baking Powder, Salt, Emulsifier (Soy Lecithin), Natural Flavour, Antioxidant (E307b From Soy).<br>Ingredient: Chocolate Chips<br>IngredientResearch: Chocolate Chips",
          "Product: Arnott's Mini Choc Chip Cookie Multipack Biscuits<br>Recipe: Wheat Flour, Chocolate Chips (24%) (Sugar, Cocoa Mass, Cocoa Butter, Natural Flavour, Emulsifier (Soy Lecithin)), Sugar, Vegetable Oil, Butter (Contains Milk), Desiccated Coconut, Skim Milk Powder, Baking Powder, Salt, Emulsifier (Soy Lecithin), Natural Flavour, Antioxidant (E307b From Soy).<br>Ingredient: Skim Milk Powder<br>IngredientResearch: Skim Milk Powder",
          "Product: Woolworths Multivitamin Juice<br>Recipe: Reconstituted Fruit Juices [Apple (77.3%), Orange (10%), Grape (4%), Apricot (4%), Peach (2%), Pear (0.5%), Lemon (0.5%), Mango (0.5%), Passionfruit (0.5%)], Reconstituted Guava Puree (0.5%), Vitamins (C, A & Folate), Natural Flavours, Acidity Regulator (Citric Acid).<br>Ingredient: Folate<br>IngredientResearch: Folate",
          "Product: Smith's Crinkle Cut Potato Chips Cheese & Onion<br>Recipe: Potatoes (61%), Canola Oil, Sunflower Oil, Whey Po,wder (Milk), Cheese Powder (Milk), Salt, Onion Pow,der, Dextrose, Maltodextrin, Mineral Salt (Potassi,um Chloride), Flavour Enhancer (621), Natural Flav,ours (Milk), Yeast Extract, Food Acids (Citric Aci,<br>Ingredient: Dextrose<br>IngredientResearch: Dextrose",
          "Product: Smith's Crinkle Cut Potato Chips Salt & Vinegar<br>Recipe: Potatoes (61%), Canola Oil, Sunflower Oil, Food Acids (Sodium Diacetate, Citric Acid), Lactose (Milk), Salt, Mineral Salt (Potassium Chloride), Sugar, Flavour Enhancer (621), Dextrose, Natural Flavours, Antioxidants (Tocopherols, Ascorbic Acid, Rosemary Extract).<br>Ingredient: Dextrose<br>IngredientResearch: Dextrose",
          "Product: Woolworths Secret Burger Sauce<br>Recipe: Canola Oil, Water, Sugar, Vinegar, Thickener (1422, Xanthan Gum), Free Range Egg Yolk,  Gherkin, Salt, Onion Powder, Natural Colour (Carotene, Paprika Oleoresins), Preservative (Potassium Sorbate), Dill, Acidity Regulator (Citric Acid), Herb Extract, Mustard Oil.<br>Ingredient: 1422<br>IngredientResearch: Thickener 1422",
          "Product: Woolworths Apple Juice<br>Recipe: Reconstituted Apple Juice (99.7%), Acidity Regulator (Citric Acid), Natural Flavour, Vitamin C.<br>Ingredient: Apple Juice<br>IngredientResearch: Reconstituted Apple Juice",
          "Product: Woolworths Apple Juice<br>Recipe: Reconstituted Apple Juice (99.7%), Acidity Regulator (Citric Acid), Natural Flavour, Vitamin C.<br>Ingredient: Citric Acid<br>IngredientResearch: Citric Acid",
          "Product: Woolworths Apple & Mango Juice<br>Recipe: Reconstituted Fruit Juices (Apple (95.8%), Mango (4.0%)), Acidity Regulator (Citric Acid), Vitamin C, Natural Flavour.<br>Ingredient: Citric Acid<br>IngredientResearch: Citric Acid",
          "Product: Woolworths Orange Juice<br>Recipe: Reconstituted Orange Juice (99.8%), Natural Flavour, Vitamin C, Acidity Regulator (Citric Acid).<br>Ingredient: Citric Acid<br>IngredientResearch: Citric Acid",
          "Product: Woolworths Breakfast Juice<br>Recipe: Reconstituted Fruit Juices [Apple (83.2%), Orange (15%), Mango (0.5%), Pineapple (0.5%), Passionfruit (0.5%)], Natural Flavours, Acidity Regulator (Citric Acid), Vitamin C, Thickener (466)<br>Ingredient: Citric Acid<br>IngredientResearch: Citric Acid",
          "Product: Woolworths Apple & Blackcurrant Juice<br>Recipe: Reconstituted Fruit Juices [Apple (94.8%), Blackcurrant (4.9%)], Acidity Regulator (Citric Acid), Natural Flavour, Vitamin C, Natural Colour (163).<br>Ingredient: Citric Acid<br>IngredientResearch: Citric Acid",
          "Product: Woolworths Multivitamin Juice<br>Recipe: Reconstituted Fruit Juices [Apple (77.3%), Orange (10%), Grape (4%), Apricot (4%), Peach (2%), Pear (0.5%), Lemon (0.5%), Mango (0.5%), Passionfruit (0.5%)], Reconstituted Guava Puree (0.5%), Vitamins (C, A & Folate), Natural Flavours, Acidity Regulator (Citric Acid).<br>Ingredient: Citric Acid<br>IngredientResearch: Citric Acid",
          "Product: Woolworths Diced Italian Tomatoes<br>Recipe: Tomato (60%), Tomato Juice, Acidity Regulator (Citric Acid)<br>Ingredient: Citric Acid<br>IngredientResearch: Citric Acid",
          "Product: Woolworths Tomato Sauce Squeeze<br>Recipe: Reconstituted Tomato Puree (78%), Sugar, Thickener (Modified Corn Starch), Salt, Acidity Regulators (Acetic Acid, Citric Acid), Natural Flavour, Spice Extract<br>Ingredient: Citric Acid<br>IngredientResearch: Citric Acid",
          "Product: Woolworths Tomato Sauce<br>Recipe: Reconstituted Tomato Puree (78%), Sugar, Thickener (Modified Corn Starch), Salt, Acidity Regulators (Acetic Acid, Citric Acid), Natural Flavour, Spice Extract<br>Ingredient: Citric Acid<br>IngredientResearch: Citric Acid",
          "Product: Woolworths Barbecue Sauce Squeeze<br>Recipe: Reconstituted Fruit Puree, Apple Pulp, Tomato Paste, Sugar, Thickener (Modified Corn Starch), Salt, Acidity Regulators (Acetic Acid, Citric Acid), Molasses, Natural Colour (Caramel I), Smoke Flavour, Spices, Natural Flavour, Vegetable Gum (Xanthan Gum)<br>Ingredient: Citric Acid<br>IngredientResearch: Citric Acid",
          "Product: Woolworths Secret Burger Sauce<br>Recipe: Canola Oil, Water, Sugar, Vinegar, Thickener (1422, Xanthan Gum), Free Range Egg Yolk,  Gherkin, Salt, Onion Powder, Natural Colour (Carotene, Paprika Oleoresins), Preservative (Potassium Sorbate), Dill, Acidity Regulator (Citric Acid), Herb Extract, Mustard Oil.<br>Ingredient: Citric Acid<br>IngredientResearch: Citric Acid",
          "Product: Woolworths Barbecue Sauce<br>Recipe: Reconstituted Fruit Puree (51%) (Apple Pulp, Tomato Paste), Sugar, Thickener (Modified Corn Starch), Salt, Acidity Regulators (Acetic Acid, Citric Acid), Molasses, Natural Colour (Caramel I), Smoke Flavour, Spices, Natural Flavour, Vegetable Gum (Xanthan Gum)<br>Ingredient: Citric Acid<br>IngredientResearch: Citric Acid",
          "Product: Woolworths Peach In Strawberry Jelly<br>Recipe: Jelly (70%) (Water, Sugar, Gelling Agents (Carrageenan, Locust Bean Gum, Xanthan Gum), Acidity Regulators (Sodium Citrate, Potassium Citrate, Calcium Lactate, Malic Acid, Citric Acid), Natural Strawberry Flavour, Natural Colour (Cochineal), Antioxidant (Ascorbic Acid)), Peach (30%)<br>Ingredient: Citric Acid<br>IngredientResearch: Citric Acid",
          "Product: Woolworths Two Fruits In Juice Cups<br>Recipe: Fruits (55%) (Peach, Pear), Reconstituted Refined Juice (Water, Concentrated Pear Juice, Antioxidant (Ascorbic Acid), Acidity Regulator (Citric Acid))<br>Ingredient: Citric Acid<br>IngredientResearch: Citric Acid",
          "Product: Woolworths Two Fruits In Juice<br>Recipe: Fruits (55%) (Peach, Pear), Reconstituted Refined Juice (Water, Concentrated Pear Juice, Antioxidant (Ascorbic Acid), Acidity Regulator (Citric Acid))<br>Ingredient: Citric Acid<br>IngredientResearch: Citric Acid",
          "Product: Woolworths Two Fruits In Juice<br>Recipe: Two Fruits (59% min.) (Pear, Peach), Refined Fruit Juice (Apple, Grape, Peach, Pear), Antioxidant (Ascorbic Acid), Acidity Regulator (Citric Acid)<br>Ingredient: Citric Acid<br>IngredientResearch: Citric Acid",
          "Product: Woolworths Two Fruits In Tropical Jelly<br>Recipe: Jelly (70%) (Water, Sugar, Gelling Agents (Carrageenan, Locust Bean Gum, Xanthan Gum), Acidity Regulators (Sodium Citrates, Potassium Citrates, Calcium Lactate, Malic Acid, Citric Acid), Natural Flavours (Pineapple, Mango), Natural Colours (Carotene, Paprika Oleoresins), Antioxidant (Ascorbic Acid)), Peach (15%), Pear (15%)<br>Ingredient: Citric Acid<br>IngredientResearch: Citric Acid",
          "Product: Woolworths Apple In Pineapple Jelly<br>Recipe: Jelly (70%) (Water, Sugar, Gelling Agents (Carrageenan, Locust Bean Gum, Xanthan Gum), Acidity Regulators (Sodium Citrate, Potassium Citrate, Calcium Lactate, Malic Acid, Citric Acid), Natural Pineapple Flavour, Natural Colour (Carotene), Antioxidant (Ascorbic Acid)), Apple (30%)<br>Ingredient: Citric Acid<br>IngredientResearch: Citric Acid",
          "Product: Woolworths Apple Juice<br>Recipe: Reconstituted Apple Juice (99.7%), Acidity Regulator (Citric Acid), Natural Flavour, Vitamin C.<br>Ingredient: Vitamin C<br>IngredientResearch: Vitamin C",
          "Product: Woolworths Apple & Mango Juice<br>Recipe: Reconstituted Fruit Juices (Apple (95.8%), Mango (4.0%)), Acidity Regulator (Citric Acid), Vitamin C, Natural Flavour.<br>Ingredient: Vitamin C<br>IngredientResearch: Vitamin C",
          "Product: Woolworths Orange Juice<br>Recipe: Reconstituted Orange Juice (99.8%), Natural Flavour, Vitamin C, Acidity Regulator (Citric Acid).<br>Ingredient: Vitamin C<br>IngredientResearch: Vitamin C",
          "Product: Woolworths Breakfast Juice<br>Recipe: Reconstituted Fruit Juices [Apple (83.2%), Orange (15%), Mango (0.5%), Pineapple (0.5%), Passionfruit (0.5%)], Natural Flavours, Acidity Regulator (Citric Acid), Vitamin C, Thickener (466)<br>Ingredient: Vitamin C<br>IngredientResearch: Vitamin C",
          "Product: Woolworths Apple & Blackcurrant Juice<br>Recipe: Reconstituted Fruit Juices [Apple (94.8%), Blackcurrant (4.9%)], Acidity Regulator (Citric Acid), Natural Flavour, Vitamin C, Natural Colour (163).<br>Ingredient: Vitamin C<br>IngredientResearch: Vitamin C",
          "Product: Woolworths Multivitamin Juice<br>Recipe: Reconstituted Fruit Juices [Apple (77.3%), Orange (10%), Grape (4%), Apricot (4%), Peach (2%), Pear (0.5%), Lemon (0.5%), Mango (0.5%), Passionfruit (0.5%)], Reconstituted Guava Puree (0.5%), Vitamins (C, A & Folate), Natural Flavours, Acidity Regulator (Citric Acid).<br>Ingredient: Vitamin C<br>IngredientResearch: Vitamin C",
          "Product: Golden Circle Golden Pash Fruit Drink<br>Recipe: Water, Reconstituted Fruit Juice Pear or Apple (15%), Pineapple (9%), Passionfruit (1%), Sugar, Food Acids (Citric Acid, Potassium Citrate), Vitamin C, Natural Flavours.<br>Ingredient: Vitamin C<br>IngredientResearch: Vitamin C",
          "Product: Woolworths Apple & Mango Juice<br>Recipe: Reconstituted Fruit Juices (Apple (95.8%), Mango (4.0%)), Acidity Regulator (Citric Acid), Vitamin C, Natural Flavour.<br>Ingredient: Apple<br>IngredientResearch: Reconstituted Apple Juice",
          "Product: Woolworths Breakfast Juice<br>Recipe: Reconstituted Fruit Juices [Apple (83.2%), Orange (15%), Mango (0.5%), Pineapple (0.5%), Passionfruit (0.5%)], Natural Flavours, Acidity Regulator (Citric Acid), Vitamin C, Thickener (466)<br>Ingredient: Apple<br>IngredientResearch: Reconstituted Apple Juice",
          "Product: Woolworths Apple & Blackcurrant Juice<br>Recipe: Reconstituted Fruit Juices [Apple (94.8%), Blackcurrant (4.9%)], Acidity Regulator (Citric Acid), Natural Flavour, Vitamin C, Natural Colour (163).<br>Ingredient: Apple<br>IngredientResearch: Reconstituted Apple Juice",
          "Product: Woolworths Multivitamin Juice<br>Recipe: Reconstituted Fruit Juices [Apple (77.3%), Orange (10%), Grape (4%), Apricot (4%), Peach (2%), Pear (0.5%), Lemon (0.5%), Mango (0.5%), Passionfruit (0.5%)], Reconstituted Guava Puree (0.5%), Vitamins (C, A & Folate), Natural Flavours, Acidity Regulator (Citric Acid).<br>Ingredient: Apple<br>IngredientResearch: Reconstituted Apple Juice",
          "Product: Golden Circle Golden Pash Fruit Drink<br>Recipe: Water, Reconstituted Fruit Juice Pear or Apple (15%), Pineapple (9%), Passionfruit (1%), Sugar, Food Acids (Citric Acid, Potassium Citrate), Vitamin C, Natural Flavours.<br>Ingredient: Apple<br>IngredientResearch: Reconstituted Apple Juice",
          "Product: Woolworths Apple & Mango Juice<br>Recipe: Reconstituted Fruit Juices (Apple (95.8%), Mango (4.0%)), Acidity Regulator (Citric Acid), Vitamin C, Natural Flavour.<br>Ingredient: Mango<br>IngredientResearch: Reconstituted Mango Juice",
          "Product: Woolworths Breakfast Juice<br>Recipe: Reconstituted Fruit Juices [Apple (83.2%), Orange (15%), Mango (0.5%), Pineapple (0.5%), Passionfruit (0.5%)], Natural Flavours, Acidity Regulator (Citric Acid), Vitamin C, Thickener (466)<br>Ingredient: Mango<br>IngredientResearch: Reconstituted Mango Juice",
          "Product: Woolworths Multivitamin Juice<br>Recipe: Reconstituted Fruit Juices [Apple (77.3%), Orange (10%), Grape (4%), Apricot (4%), Peach (2%), Pear (0.5%), Lemon (0.5%), Mango (0.5%), Passionfruit (0.5%)], Reconstituted Guava Puree (0.5%), Vitamins (C, A & Folate), Natural Flavours, Acidity Regulator (Citric Acid).<br>Ingredient: Mango<br>IngredientResearch: Reconstituted Mango Juice",
          "Product: Woolworths Orange Juice<br>Recipe: Reconstituted Orange Juice (99.8%), Natural Flavour, Vitamin C, Acidity Regulator (Citric Acid).<br>Ingredient: Orange<br>IngredientResearch: Reconstituted Fruit Juice Orange",
          "Product: Woolworths Breakfast Juice<br>Recipe: Reconstituted Fruit Juices [Apple (83.2%), Orange (15%), Mango (0.5%), Pineapple (0.5%), Passionfruit (0.5%)], Natural Flavours, Acidity Regulator (Citric Acid), Vitamin C, Thickener (466)<br>Ingredient: Orange<br>IngredientResearch: Reconstituted Fruit Juice Orange",
          "Product: Woolworths Multivitamin Juice<br>Recipe: Reconstituted Fruit Juices [Apple (77.3%), Orange (10%), Grape (4%), Apricot (4%), Peach (2%), Pear (0.5%), Lemon (0.5%), Mango (0.5%), Passionfruit (0.5%)], Reconstituted Guava Puree (0.5%), Vitamins (C, A & Folate), Natural Flavours, Acidity Regulator (Citric Acid).<br>Ingredient: Orange<br>IngredientResearch: Reconstituted Fruit Juice Orange",
          "Product: Woolworths Breakfast Juice<br>Recipe: Reconstituted Fruit Juices [Apple (83.2%), Orange (15%), Mango (0.5%), Pineapple (0.5%), Passionfruit (0.5%)], Natural Flavours, Acidity Regulator (Citric Acid), Vitamin C, Thickener (466)<br>Ingredient: Pineapple<br>IngredientResearch: Reconstituted Fruit Juice Pineapple",
          "Product: Golden Circle Golden Pash Fruit Drink<br>Recipe: Water, Reconstituted Fruit Juice Pear or Apple (15%), Pineapple (9%), Passionfruit (1%), Sugar, Food Acids (Citric Acid, Potassium Citrate), Vitamin C, Natural Flavours.<br>Ingredient: Pineapple<br>IngredientResearch: Reconstituted Fruit Juice Pineapple",
          "Product: Woolworths Breakfast Juice<br>Recipe: Reconstituted Fruit Juices [Apple (83.2%), Orange (15%), Mango (0.5%), Pineapple (0.5%), Passionfruit (0.5%)], Natural Flavours, Acidity Regulator (Citric Acid), Vitamin C, Thickener (466)<br>Ingredient: Passionfruit<br>IngredientResearch: Reconstituted Fruit Juice Passionfruit",
          "Product: Woolworths Multivitamin Juice<br>Recipe: Reconstituted Fruit Juices [Apple (77.3%), Orange (10%), Grape (4%), Apricot (4%), Peach (2%), Pear (0.5%), Lemon (0.5%), Mango (0.5%), Passionfruit (0.5%)], Reconstituted Guava Puree (0.5%), Vitamins (C, A & Folate), Natural Flavours, Acidity Regulator (Citric Acid).<br>Ingredient: Passionfruit<br>IngredientResearch: Reconstituted Fruit Juice Passionfruit",
          "Product: Golden Circle Golden Pash Fruit Drink<br>Recipe: Water, Reconstituted Fruit Juice Pear or Apple (15%), Pineapple (9%), Passionfruit (1%), Sugar, Food Acids (Citric Acid, Potassium Citrate), Vitamin C, Natural Flavours.<br>Ingredient: Passionfruit<br>IngredientResearch: Reconstituted Fruit Juice Passionfruit",
          "Product: Woolworths Breakfast Juice<br>Recipe: Reconstituted Fruit Juices [Apple (83.2%), Orange (15%), Mango (0.5%), Pineapple (0.5%), Passionfruit (0.5%)], Natural Flavours, Acidity Regulator (Citric Acid), Vitamin C, Thickener (466)<br>Ingredient: 466<br>IngredientResearch: Carboxymethyl Cellulose",
          "Product: Woolworths Apple & Blackcurrant Juice<br>Recipe: Reconstituted Fruit Juices [Apple (94.8%), Blackcurrant (4.9%)], Acidity Regulator (Citric Acid), Natural Flavour, Vitamin C, Natural Colour (163).<br>Ingredient: Blackcurrant<br>IngredientResearch: Reconstituted Fruit Juice Blackcurrant",
          "Product: Woolworths Apple & Blackcurrant Juice<br>Recipe: Reconstituted Fruit Juices [Apple (94.8%), Blackcurrant (4.9%)], Acidity Regulator (Citric Acid), Natural Flavour, Vitamin C, Natural Colour (163).<br>Ingredient: 163<br>IngredientResearch: Anthocyanins",
          "Product: Woolworths Multivitamin Juice<br>Recipe: Reconstituted Fruit Juices [Apple (77.3%), Orange (10%), Grape (4%), Apricot (4%), Peach (2%), Pear (0.5%), Lemon (0.5%), Mango (0.5%), Passionfruit (0.5%)], Reconstituted Guava Puree (0.5%), Vitamins (C, A & Folate), Natural Flavours, Acidity Regulator (Citric Acid).<br>Ingredient: Grape<br>IngredientResearch: Reconstituted Fruit Juice Grape",
          "Product: Woolworths Multivitamin Juice<br>Recipe: Reconstituted Fruit Juices [Apple (77.3%), Orange (10%), Grape (4%), Apricot (4%), Peach (2%), Pear (0.5%), Lemon (0.5%), Mango (0.5%), Passionfruit (0.5%)], Reconstituted Guava Puree (0.5%), Vitamins (C, A & Folate), Natural Flavours, Acidity Regulator (Citric Acid).<br>Ingredient: Apricot<br>IngredientResearch: Reconstituted Fruit Juice Apricot",
          "Product: Woolworths Multivitamin Juice<br>Recipe: Reconstituted Fruit Juices [Apple (77.3%), Orange (10%), Grape (4%), Apricot (4%), Peach (2%), Pear (0.5%), Lemon (0.5%), Mango (0.5%), Passionfruit (0.5%)], Reconstituted Guava Puree (0.5%), Vitamins (C, A & Folate), Natural Flavours, Acidity Regulator (Citric Acid).<br>Ingredient: Peach<br>IngredientResearch: Reconstituted Fruit Juice Peach",
          "Product: Woolworths Multivitamin Juice<br>Recipe: Reconstituted Fruit Juices [Apple (77.3%), Orange (10%), Grape (4%), Apricot (4%), Peach (2%), Pear (0.5%), Lemon (0.5%), Mango (0.5%), Passionfruit (0.5%)], Reconstituted Guava Puree (0.5%), Vitamins (C, A & Folate), Natural Flavours, Acidity Regulator (Citric Acid).<br>Ingredient: Pear<br>IngredientResearch: Reconstituted Fruit Juice Pear",
          "Product: Golden Circle Golden Pash Fruit Drink<br>Recipe: Water, Reconstituted Fruit Juice Pear or Apple (15%), Pineapple (9%), Passionfruit (1%), Sugar, Food Acids (Citric Acid, Potassium Citrate), Vitamin C, Natural Flavours.<br>Ingredient: Pear<br>IngredientResearch: Reconstituted Fruit Juice Pear",
          "Product: Schweppes Lemon Lime Natural Mineral Water Bottle<br>Recipe: Carbonated Water (Mineral Water 80%, Purified Wate,r 11%), Reconstituted Juices (Lemon 4.5%, Lime 0.5,%), Sugar, Natural Flavours, Food Acids (Citric Ac,id, Sodium Citrate), Preservatives (211, 202, 223),, Natural Colour (Safflower Extract).<br>Ingredient: Lemon<br>IngredientResearch: Reconstituted Lemon Juice",
          "Product: Woolworths Multivitamin Juice<br>Recipe: Reconstituted Fruit Juices [Apple (77.3%), Orange (10%), Grape (4%), Apricot (4%), Peach (2%), Pear (0.5%), Lemon (0.5%), Mango (0.5%), Passionfruit (0.5%)], Reconstituted Guava Puree (0.5%), Vitamins (C, A & Folate), Natural Flavours, Acidity Regulator (Citric Acid).<br>Ingredient: Lemon<br>IngredientResearch: Reconstituted Lemon Juice",
          "Product: Woolworths Multivitamin Juice<br>Recipe: Reconstituted Fruit Juices [Apple (77.3%), Orange (10%), Grape (4%), Apricot (4%), Peach (2%), Pear (0.5%), Lemon (0.5%), Mango (0.5%), Passionfruit (0.5%)], Reconstituted Guava Puree (0.5%), Vitamins (C, A & Folate), Natural Flavours, Acidity Regulator (Citric Acid).<br>Ingredient: Guava Puree<br>IngredientResearch: Guava Puree",
          "Product: Woolworths Multivitamin Juice<br>Recipe: Reconstituted Fruit Juices [Apple (77.3%), Orange (10%), Grape (4%), Apricot (4%), Peach (2%), Pear (0.5%), Lemon (0.5%), Mango (0.5%), Passionfruit (0.5%)], Reconstituted Guava Puree (0.5%), Vitamins (C, A & Folate), Natural Flavours, Acidity Regulator (Citric Acid).<br>Ingredient: Vitamin A<br>IngredientResearch: Vitamin A",
          "Product: Golden Circle Golden Pash Fruit Drink<br>Recipe: Water, Reconstituted Fruit Juice Pear or Apple (15%), Pineapple (9%), Passionfruit (1%), Sugar, Food Acids (Citric Acid, Potassium Citrate), Vitamin C, Natural Flavours.<br>Ingredient: Potassium Citrate<br>IngredientResearch: Potassium Citrate",
          "Product: Woolworths Diced Italian Tomatoes<br>Recipe: Tomato (60%), Tomato Juice, Acidity Regulator (Citric Acid)<br>Ingredient: Tomato Juice<br>IngredientResearch: Tomato Juice",
          "Product: Woolworths Lasagne Sheets<br>Recipe: Durum Wheat Semolina.<br>Ingredient: Durum Wheat Semolina<br>IngredientResearch: Durum Wheat Semolina",
          "Product: Essentials Coconut Cream<br>Recipe: Coconut Extract (76%), Water, Thickener (Guar Gum)<br>Ingredient: Coconut Extract<br>IngredientResearch: Coconut Extract",
          "Product: Essentials Coconut Milk<br>Recipe: Coconut Extract (50%), Water, Thickener (Guar Gum)<br>Ingredient: Coconut Extract<br>IngredientResearch: Coconut Extract",
          "Product: Essentials Coconut Cream<br>Recipe: Coconut Extract (76%), Water, Thickener (Guar Gum)<br>Ingredient: Guar Gum<br>IngredientResearch: Guar Gum",
          "Product: Woolworths Uht Full Cream Milk<br>Recipe: Ultra Heat Treated Homogenised Full Cream Milk.<br>Ingredient: Homogenised Full Cream Milk<br>IngredientResearch: Homogenised Full Cream Milk",
          "Product: Deep Cove Sardines In Oil<br>Recipe: Sardines (Fish) (67%), Vegetable Oil (14%), Water, Salt<br>Ingredient: Sardines<br>IngredientResearch: Sardines",
          "Product: Woolworths Creamed Rice<br>Recipe: Rice (44%), Milk, Skim Milk, Sugar, Salt, Acidity Regulator (339), Natural Vanilla Flavour<br>Ingredient: Rice<br>IngredientResearch: Rice",
          "Product: Woolworths Creamed Rice<br>Recipe: Rice (44%), Milk, Skim Milk, Sugar, Salt, Acidity Regulator (339), Natural Vanilla Flavour<br>Ingredient: Skim Milk<br>IngredientResearch: Skim Milk",
          "Product: Woolworths Creamed Rice<br>Recipe: Rice (44%), Milk, Skim Milk, Sugar, Salt, Acidity Regulator (339), Natural Vanilla Flavour<br>Ingredient: 339<br>IngredientResearch: Acidity Regulator 339",
          "Product: Essentials Coconut Milk<br>Recipe: Coconut Extract (50%), Water, Thickener (Guar Gum)<br>Ingredient: Guar Gum<br>IngredientResearch: Guar Gum",
          "Product: Woolworths Tomato Sauce Squeeze<br>Recipe: Reconstituted Tomato Puree (78%), Sugar, Thickener (Modified Corn Starch), Salt, Acidity Regulators (Acetic Acid, Citric Acid), Natural Flavour, Spice Extract<br>Ingredient: Tomato Puree<br>IngredientResearch: Reconstituted Tomato Puree",
          "Product: Woolworths Tomato Sauce<br>Recipe: Reconstituted Tomato Puree (78%), Sugar, Thickener (Modified Corn Starch), Salt, Acidity Regulators (Acetic Acid, Citric Acid), Natural Flavour, Spice Extract<br>Ingredient: Tomato Puree<br>IngredientResearch: Reconstituted Tomato Puree",
          "Product: Woolworths Tomato Sauce Squeeze<br>Recipe: Reconstituted Tomato Puree (78%), Sugar, Thickener (Modified Corn Starch), Salt, Acidity Regulators (Acetic Acid, Citric Acid), Natural Flavour, Spice Extract<br>Ingredient: Modified Corn Starch<br>IngredientResearch: Thickener Modified Corn Starch",
          "Product: Woolworths Tomato Sauce<br>Recipe: Reconstituted Tomato Puree (78%), Sugar, Thickener (Modified Corn Starch), Salt, Acidity Regulators (Acetic Acid, Citric Acid), Natural Flavour, Spice Extract<br>Ingredient: Modified Corn Starch<br>IngredientResearch: Thickener Modified Corn Starch",
          "Product: Woolworths Barbecue Sauce Squeeze<br>Recipe: Reconstituted Fruit Puree, Apple Pulp, Tomato Paste, Sugar, Thickener (Modified Corn Starch), Salt, Acidity Regulators (Acetic Acid, Citric Acid), Molasses, Natural Colour (Caramel I), Smoke Flavour, Spices, Natural Flavour, Vegetable Gum (Xanthan Gum)<br>Ingredient: Modified Corn Starch<br>IngredientResearch: Thickener Modified Corn Starch",
          "Product: Woolworths Barbecue Sauce<br>Recipe: Reconstituted Fruit Puree (51%) (Apple Pulp, Tomato Paste), Sugar, Thickener (Modified Corn Starch), Salt, Acidity Regulators (Acetic Acid, Citric Acid), Molasses, Natural Colour (Caramel I), Smoke Flavour, Spices, Natural Flavour, Vegetable Gum (Xanthan Gum)<br>Ingredient: Modified Corn Starch<br>IngredientResearch: Thickener Modified Corn Starch",
          "Product: Woolworths Tomato Sauce Squeeze<br>Recipe: Reconstituted Tomato Puree (78%), Sugar, Thickener (Modified Corn Starch), Salt, Acidity Regulators (Acetic Acid, Citric Acid), Natural Flavour, Spice Extract<br>Ingredient: Acetic Acid<br>IngredientResearch: Acetic Acid",
          "Product: Woolworths Tomato Sauce<br>Recipe: Reconstituted Tomato Puree (78%), Sugar, Thickener (Modified Corn Starch), Salt, Acidity Regulators (Acetic Acid, Citric Acid), Natural Flavour, Spice Extract<br>Ingredient: Acetic Acid<br>IngredientResearch: Acetic Acid",
          "Product: Woolworths Barbecue Sauce Squeeze<br>Recipe: Reconstituted Fruit Puree, Apple Pulp, Tomato Paste, Sugar, Thickener (Modified Corn Starch), Salt, Acidity Regulators (Acetic Acid, Citric Acid), Molasses, Natural Colour (Caramel I), Smoke Flavour, Spices, Natural Flavour, Vegetable Gum (Xanthan Gum)<br>Ingredient: Acetic Acid<br>IngredientResearch: Acetic Acid",
          "Product: Woolworths Barbecue Sauce<br>Recipe: Reconstituted Fruit Puree (51%) (Apple Pulp, Tomato Paste), Sugar, Thickener (Modified Corn Starch), Salt, Acidity Regulators (Acetic Acid, Citric Acid), Molasses, Natural Colour (Caramel I), Smoke Flavour, Spices, Natural Flavour, Vegetable Gum (Xanthan Gum)<br>Ingredient: Acetic Acid<br>IngredientResearch: Acetic Acid",
          "Product: Woolworths Tomato Sauce Squeeze<br>Recipe: Reconstituted Tomato Puree (78%), Sugar, Thickener (Modified Corn Starch), Salt, Acidity Regulators (Acetic Acid, Citric Acid), Natural Flavour, Spice Extract<br>Ingredient: Spice Extract<br>IngredientResearch: Spice Extract",
          "Product: Woolworths Tomato Sauce<br>Recipe: Reconstituted Tomato Puree (78%), Sugar, Thickener (Modified Corn Starch), Salt, Acidity Regulators (Acetic Acid, Citric Acid), Natural Flavour, Spice Extract<br>Ingredient: Spice Extract<br>IngredientResearch: Spice Extract",
          "Product: Masterfoods Tomato Sauce<br>Recipe: Tomatoes (from Paste, Food Acid (Citric))77% , Sugar, Salt, Food Acid (Acetic), Onion, Spice Extract.<br>Ingredient: Spice Extract<br>IngredientResearch: Spice Extract",
          "Product: Woolworths Barbecue Sauce Squeeze<br>Recipe: Reconstituted Fruit Puree, Apple Pulp, Tomato Paste, Sugar, Thickener (Modified Corn Starch), Salt, Acidity Regulators (Acetic Acid, Citric Acid), Molasses, Natural Colour (Caramel I), Smoke Flavour, Spices, Natural Flavour, Vegetable Gum (Xanthan Gum)<br>Ingredient: Reconstituted Fruit Puree<br>IngredientResearch: Reconstituted Fruit Puree",
          "Product: Woolworths Barbecue Sauce Squeeze<br>Recipe: Reconstituted Fruit Puree, Apple Pulp, Tomato Paste, Sugar, Thickener (Modified Corn Starch), Salt, Acidity Regulators (Acetic Acid, Citric Acid), Molasses, Natural Colour (Caramel I), Smoke Flavour, Spices, Natural Flavour, Vegetable Gum (Xanthan Gum)<br>Ingredient: Apple Pulp<br>IngredientResearch: Apple Pulp",
          "Product: Woolworths Barbecue Sauce Squeeze<br>Recipe: Reconstituted Fruit Puree, Apple Pulp, Tomato Paste, Sugar, Thickener (Modified Corn Starch), Salt, Acidity Regulators (Acetic Acid, Citric Acid), Molasses, Natural Colour (Caramel I), Smoke Flavour, Spices, Natural Flavour, Vegetable Gum (Xanthan Gum)<br>Ingredient: Tomato Paste<br>IngredientResearch: Tomato Paste",
          "Product: Masterfoods Tomato Sauce<br>Recipe: Tomatoes (from Paste, Food Acid (Citric))77% , Sugar, Salt, Food Acid (Acetic), Onion, Spice Extract.<br>Ingredient: Tomato Paste<br>IngredientResearch: Tomato Paste",
          "Product: Woolworths Barbecue Sauce Squeeze<br>Recipe: Reconstituted Fruit Puree, Apple Pulp, Tomato Paste, Sugar, Thickener (Modified Corn Starch), Salt, Acidity Regulators (Acetic Acid, Citric Acid), Molasses, Natural Colour (Caramel I), Smoke Flavour, Spices, Natural Flavour, Vegetable Gum (Xanthan Gum)<br>Ingredient: Molasses<br>IngredientResearch: Molasses",
          "Product: Woolworths Barbecue Sauce<br>Recipe: Reconstituted Fruit Puree (51%) (Apple Pulp, Tomato Paste), Sugar, Thickener (Modified Corn Starch), Salt, Acidity Regulators (Acetic Acid, Citric Acid), Molasses, Natural Colour (Caramel I), Smoke Flavour, Spices, Natural Flavour, Vegetable Gum (Xanthan Gum)<br>Ingredient: Molasses<br>IngredientResearch: Molasses",
          "Product: Woolworths Barbecue Sauce Squeeze<br>Recipe: Reconstituted Fruit Puree, Apple Pulp, Tomato Paste, Sugar, Thickener (Modified Corn Starch), Salt, Acidity Regulators (Acetic Acid, Citric Acid), Molasses, Natural Colour (Caramel I), Smoke Flavour, Spices, Natural Flavour, Vegetable Gum (Xanthan Gum)<br>Ingredient: Caramel I<br>IngredientResearch: Caramel I",
          "Product: Woolworths Barbecue Sauce<br>Recipe: Reconstituted Fruit Puree (51%) (Apple Pulp, Tomato Paste), Sugar, Thickener (Modified Corn Starch), Salt, Acidity Regulators (Acetic Acid, Citric Acid), Molasses, Natural Colour (Caramel I), Smoke Flavour, Spices, Natural Flavour, Vegetable Gum (Xanthan Gum)<br>Ingredient: Caramel I<br>IngredientResearch: Caramel I",
          "Product: Woolworths Barbecue Sauce Squeeze<br>Recipe: Reconstituted Fruit Puree, Apple Pulp, Tomato Paste, Sugar, Thickener (Modified Corn Starch), Salt, Acidity Regulators (Acetic Acid, Citric Acid), Molasses, Natural Colour (Caramel I), Smoke Flavour, Spices, Natural Flavour, Vegetable Gum (Xanthan Gum)<br>Ingredient: Smoke Flavour<br>IngredientResearch: Smoke Flavour",
          "Product: Woolworths Barbecue Sauce<br>Recipe: Reconstituted Fruit Puree (51%) (Apple Pulp, Tomato Paste), Sugar, Thickener (Modified Corn Starch), Salt, Acidity Regulators (Acetic Acid, Citric Acid), Molasses, Natural Colour (Caramel I), Smoke Flavour, Spices, Natural Flavour, Vegetable Gum (Xanthan Gum)<br>Ingredient: Smoke Flavour<br>IngredientResearch: Smoke Flavour",
          "Product: Woolworths Barbecue Sauce Squeeze<br>Recipe: Reconstituted Fruit Puree, Apple Pulp, Tomato Paste, Sugar, Thickener (Modified Corn Starch), Salt, Acidity Regulators (Acetic Acid, Citric Acid), Molasses, Natural Colour (Caramel I), Smoke Flavour, Spices, Natural Flavour, Vegetable Gum (Xanthan Gum)<br>Ingredient: Xanthan Gum<br>IngredientResearch: Xanthan Gum",
          "Product: Woolworths Barbecue Sauce<br>Recipe: Reconstituted Fruit Puree (51%) (Apple Pulp, Tomato Paste), Sugar, Thickener (Modified Corn Starch), Salt, Acidity Regulators (Acetic Acid, Citric Acid), Molasses, Natural Colour (Caramel I), Smoke Flavour, Spices, Natural Flavour, Vegetable Gum (Xanthan Gum)<br>Ingredient: Xanthan Gum<br>IngredientResearch: Xanthan Gum",
          "Product: Masterfoods Tomato Sauce<br>Recipe: Tomatoes (from Paste, Food Acid (Citric))77% , Sugar, Salt, Food Acid (Acetic), Onion, Spice Extract.<br>Ingredient: Acetic Acid<br>IngredientResearch: Acetic Acid",
          "Product: Masterfoods Barbecue Sauce<br>Recipe: Tomatoes (from Paste, Food Acid (Citric)) 45%, Sugar, Water, Cornflour (from Wheat), Food Acids (Acetic, Citric), Salt, Glucose Syrup, Colour (Caramel (150c)), Thickener (Pectin), Tamarind Paste, Yeast Extract, Clove, Nutmeg, Onion 0.5%, Pepper.<br>Ingredient: Acetic Acid<br>IngredientResearch: Acetic Acid",
          "Product: Woolworths Diced Italian Tomatoes<br>Recipe: Tomato (60%), Tomato Juice, Acidity Regulator (Citric Acid)<br>Ingredient: Tomatoes<br>IngredientResearch: Tomatoes",
          "Product: Masterfoods Barbecue Sauce<br>Recipe: Tomatoes (from Paste, Food Acid (Citric)) 45%, Sugar, Water, Cornflour (from Wheat), Food Acids (Acetic, Citric), Salt, Glucose Syrup, Colour (Caramel (150c)), Thickener (Pectin), Tamarind Paste, Yeast Extract, Clove, Nutmeg, Onion 0.5%, Pepper.<br>Ingredient: Tomatoes<br>IngredientResearch: Tomatoes",
          "Product: Masterfoods Barbecue Sauce<br>Recipe: Tomatoes (from Paste, Food Acid (Citric)) 45%, Sugar, Water, Cornflour (from Wheat), Food Acids (Acetic, Citric), Salt, Glucose Syrup, Colour (Caramel (150c)), Thickener (Pectin), Tamarind Paste, Yeast Extract, Clove, Nutmeg, Onion 0.5%, Pepper.<br>Ingredient: Cornflour<br>IngredientResearch: Wheat Cornflour",
          "Product: Masterfoods Barbecue Sauce<br>Recipe: Tomatoes (from Paste, Food Acid (Citric)) 45%, Sugar, Water, Cornflour (from Wheat), Food Acids (Acetic, Citric), Salt, Glucose Syrup, Colour (Caramel (150c)), Thickener (Pectin), Tamarind Paste, Yeast Extract, Clove, Nutmeg, Onion 0.5%, Pepper.<br>Ingredient: Caramel 150c<br>IngredientResearch: Caramel Color 150c",
          "Product: Masterfoods Barbecue Sauce<br>Recipe: Tomatoes (from Paste, Food Acid (Citric)) 45%, Sugar, Water, Cornflour (from Wheat), Food Acids (Acetic, Citric), Salt, Glucose Syrup, Colour (Caramel (150c)), Thickener (Pectin), Tamarind Paste, Yeast Extract, Clove, Nutmeg, Onion 0.5%, Pepper.<br>Ingredient: Pectin<br>IngredientResearch: Pectin",
          "Product: Masterfoods Barbecue Sauce<br>Recipe: Tomatoes (from Paste, Food Acid (Citric)) 45%, Sugar, Water, Cornflour (from Wheat), Food Acids (Acetic, Citric), Salt, Glucose Syrup, Colour (Caramel (150c)), Thickener (Pectin), Tamarind Paste, Yeast Extract, Clove, Nutmeg, Onion 0.5%, Pepper.<br>Ingredient: Tamarind Paste<br>IngredientResearch: Tamarind Paste",
          "Product: Masterfoods Barbecue Sauce<br>Recipe: Tomatoes (from Paste, Food Acid (Citric)) 45%, Sugar, Water, Cornflour (from Wheat), Food Acids (Acetic, Citric), Salt, Glucose Syrup, Colour (Caramel (150c)), Thickener (Pectin), Tamarind Paste, Yeast Extract, Clove, Nutmeg, Onion 0.5%, Pepper.<br>Ingredient: Clove<br>IngredientResearch: Clove",
          "Product: Masterfoods Barbecue Sauce<br>Recipe: Tomatoes (from Paste, Food Acid (Citric)) 45%, Sugar, Water, Cornflour (from Wheat), Food Acids (Acetic, Citric), Salt, Glucose Syrup, Colour (Caramel (150c)), Thickener (Pectin), Tamarind Paste, Yeast Extract, Clove, Nutmeg, Onion 0.5%, Pepper.<br>Ingredient: Nutmeg<br>IngredientResearch: Nutmeg",
          "Product: Woolworths Secret Burger Sauce<br>Recipe: Canola Oil, Water, Sugar, Vinegar, Thickener (1422, Xanthan Gum), Free Range Egg Yolk,  Gherkin, Salt, Onion Powder, Natural Colour (Carotene, Paprika Oleoresins), Preservative (Potassium Sorbate), Dill, Acidity Regulator (Citric Acid), Herb Extract, Mustard Oil.<br>Ingredient: Canola Oil<br>IngredientResearch: Canola Oil",
          "Product: Smith's Crinkle Cut Potato Chips Original<br>Recipe: Potatoes (64%), Canola Oil, Sunflower Oil, Salt, A,ntioxidants (Tocopherols, Ascorbic Acid, Rosemary,Extract, Citric Acid).<br>Ingredient: Canola Oil<br>IngredientResearch: Canola Oil",
          "Product: Smith's Crinkle Cut Potato Chips Cheese & Onion<br>Recipe: Potatoes (61%), Canola Oil, Sunflower Oil, Whey Po,wder (Milk), Cheese Powder (Milk), Salt, Onion Pow,der, Dextrose, Maltodextrin, Mineral Salt (Potassi,um Chloride), Flavour Enhancer (621), Natural Flav,ours (Milk), Yeast Extract, Food Acids (Citric Aci,<br>Ingredient: Canola Oil<br>IngredientResearch: Canola Oil",
          "Product: Smith's Crinkle Cut Potato Chips Barbecue<br>Recipe: Potatoes, Canola Oil, Sunflower Oil, Sugar, Maltod,extrin, Salt, Tomato Powder, Flavour Enhancers (62,1, 635), Food Acids (Sodium Diacetate, Citric Acid,), Flavours, Mineral Salt (Potassium Chloride), On,ion Powder, Garlic Powder, Natural Colour (Paprika,<br>Ingredient: Canola Oil<br>IngredientResearch: Canola Oil",
          "Product: Smith's Crinkle Cut Potato Chips Chicken<br>Recipe: Potatoes (61%), Canola Oil, Sunflower Oil, Maltode,xtrin, Sugar, Salt, Flavour Enhancers (621, 635, 6,20), Flavours (Milk), Mineral Salt (Potassium Chlo,ride), Onion Powder, Yeast Extract, Herb (Parsley),, Spice (Turmeric), Antioxidants (Tocopherols, ASCORBIC ACID, ROSEMARY EXTRACT, CITRIC ACID)<br>Ingredient: Canola Oil<br>IngredientResearch: Canola Oil",
          "Product: Smith's Thinly Cut Potato Chips Original Share Pack<br>Recipe: Potatoes (64%), Canola Oil, Sunflower Oil, Salt, Antioxidants (Tocopherols, Ascorbic Acid, Rosemary Extract, Citric Acid).<br>Ingredient: Canola Oil<br>IngredientResearch: Canola Oil",
          "Product: Smith's Crinkle Cut Potato Chips Salt & Vinegar<br>Recipe: Potatoes (61%), Canola Oil, Sunflower Oil, Food Acids (Sodium Diacetate, Citric Acid), Lactose (Milk), Salt, Mineral Salt (Potassium Chloride), Sugar, Flavour Enhancer (621), Dextrose, Natural Flavours, Antioxidants (Tocopherols, Ascorbic Acid, Rosemary Extract).<br>Ingredient: Canola Oil<br>IngredientResearch: Canola Oil",
          "Product: Woolworths Secret Burger Sauce<br>Recipe: Canola Oil, Water, Sugar, Vinegar, Thickener (1422, Xanthan Gum), Free Range Egg Yolk,  Gherkin, Salt, Onion Powder, Natural Colour (Carotene, Paprika Oleoresins), Preservative (Potassium Sorbate), Dill, Acidity Regulator (Citric Acid), Herb Extract, Mustard Oil.<br>Ingredient: Vinegar<br>IngredientResearch: Vinegar",
          "Product: Woolworths Secret Burger Sauce<br>Recipe: Canola Oil, Water, Sugar, Vinegar, Thickener (1422, Xanthan Gum), Free Range Egg Yolk,  Gherkin, Salt, Onion Powder, Natural Colour (Carotene, Paprika Oleoresins), Preservative (Potassium Sorbate), Dill, Acidity Regulator (Citric Acid), Herb Extract, Mustard Oil.<br>Ingredient: Xanthan Gum<br>IngredientResearch: Xanthan Gum",
          "Product: Woolworths Secret Burger Sauce<br>Recipe: Canola Oil, Water, Sugar, Vinegar, Thickener (1422, Xanthan Gum), Free Range Egg Yolk,  Gherkin, Salt, Onion Powder, Natural Colour (Carotene, Paprika Oleoresins), Preservative (Potassium Sorbate), Dill, Acidity Regulator (Citric Acid), Herb Extract, Mustard Oil.<br>Ingredient: Free Range Egg Yolk<br>IngredientResearch: Free Range Egg Yolk",
          "Product: Woolworths Secret Burger Sauce<br>Recipe: Canola Oil, Water, Sugar, Vinegar, Thickener (1422, Xanthan Gum), Free Range Egg Yolk,  Gherkin, Salt, Onion Powder, Natural Colour (Carotene, Paprika Oleoresins), Preservative (Potassium Sorbate), Dill, Acidity Regulator (Citric Acid), Herb Extract, Mustard Oil.<br>Ingredient: Gherkin<br>IngredientResearch: Gherkin",
          "Product: Woolworths Secret Burger Sauce<br>Recipe: Canola Oil, Water, Sugar, Vinegar, Thickener (1422, Xanthan Gum), Free Range Egg Yolk,  Gherkin, Salt, Onion Powder, Natural Colour (Carotene, Paprika Oleoresins), Preservative (Potassium Sorbate), Dill, Acidity Regulator (Citric Acid), Herb Extract, Mustard Oil.<br>Ingredient: Carotene<br>IngredientResearch: Carotene",
          "Product: Woolworths Two Fruits In Tropical Jelly<br>Recipe: Jelly (70%) (Water, Sugar, Gelling Agents (Carrageenan, Locust Bean Gum, Xanthan Gum), Acidity Regulators (Sodium Citrates, Potassium Citrates, Calcium Lactate, Malic Acid, Citric Acid), Natural Flavours (Pineapple, Mango), Natural Colours (Carotene, Paprika Oleoresins), Antioxidant (Ascorbic Acid)), Peach (15%), Pear (15%)<br>Ingredient: Carotene<br>IngredientResearch: Carotene",
          "Product: Woolworths Apple In Pineapple Jelly<br>Recipe: Jelly (70%) (Water, Sugar, Gelling Agents (Carrageenan, Locust Bean Gum, Xanthan Gum), Acidity Regulators (Sodium Citrate, Potassium Citrate, Calcium Lactate, Malic Acid, Citric Acid), Natural Pineapple Flavour, Natural Colour (Carotene), Antioxidant (Ascorbic Acid)), Apple (30%)<br>Ingredient: Carotene<br>IngredientResearch: Carotene",
          "Product: Woolworths Secret Burger Sauce<br>Recipe: Canola Oil, Water, Sugar, Vinegar, Thickener (1422, Xanthan Gum), Free Range Egg Yolk,  Gherkin, Salt, Onion Powder, Natural Colour (Carotene, Paprika Oleoresins), Preservative (Potassium Sorbate), Dill, Acidity Regulator (Citric Acid), Herb Extract, Mustard Oil.<br>Ingredient: Paprika Oleoresins<br>IngredientResearch: Paprika Oleoresins",
          "Product: Woolworths Two Fruits In Tropical Jelly<br>Recipe: Jelly (70%) (Water, Sugar, Gelling Agents (Carrageenan, Locust Bean Gum, Xanthan Gum), Acidity Regulators (Sodium Citrates, Potassium Citrates, Calcium Lactate, Malic Acid, Citric Acid), Natural Flavours (Pineapple, Mango), Natural Colours (Carotene, Paprika Oleoresins), Antioxidant (Ascorbic Acid)), Peach (15%), Pear (15%)<br>Ingredient: Paprika Oleoresins<br>IngredientResearch: Paprika Oleoresins",
          "Product: Woolworths Secret Burger Sauce<br>Recipe: Canola Oil, Water, Sugar, Vinegar, Thickener (1422, Xanthan Gum), Free Range Egg Yolk,  Gherkin, Salt, Onion Powder, Natural Colour (Carotene, Paprika Oleoresins), Preservative (Potassium Sorbate), Dill, Acidity Regulator (Citric Acid), Herb Extract, Mustard Oil.<br>Ingredient: Potassium Sorbate<br>IngredientResearch: Potassium Sorbate",
          "Product: Woolworths Secret Burger Sauce<br>Recipe: Canola Oil, Water, Sugar, Vinegar, Thickener (1422, Xanthan Gum), Free Range Egg Yolk,  Gherkin, Salt, Onion Powder, Natural Colour (Carotene, Paprika Oleoresins), Preservative (Potassium Sorbate), Dill, Acidity Regulator (Citric Acid), Herb Extract, Mustard Oil.<br>Ingredient: Dill<br>IngredientResearch: Dill",
          "Product: Woolworths Secret Burger Sauce<br>Recipe: Canola Oil, Water, Sugar, Vinegar, Thickener (1422, Xanthan Gum), Free Range Egg Yolk,  Gherkin, Salt, Onion Powder, Natural Colour (Carotene, Paprika Oleoresins), Preservative (Potassium Sorbate), Dill, Acidity Regulator (Citric Acid), Herb Extract, Mustard Oil.<br>Ingredient: Herb Extract<br>IngredientResearch: Herb Extract",
          "Product: Woolworths Secret Burger Sauce<br>Recipe: Canola Oil, Water, Sugar, Vinegar, Thickener (1422, Xanthan Gum), Free Range Egg Yolk,  Gherkin, Salt, Onion Powder, Natural Colour (Carotene, Paprika Oleoresins), Preservative (Potassium Sorbate), Dill, Acidity Regulator (Citric Acid), Herb Extract, Mustard Oil.<br>Ingredient: Mustard Oil<br>IngredientResearch: Mustard Oil",
          "Product: Woolworths Barbecue Sauce<br>Recipe: Reconstituted Fruit Puree (51%) (Apple Pulp, Tomato Paste), Sugar, Thickener (Modified Corn Starch), Salt, Acidity Regulators (Acetic Acid, Citric Acid), Molasses, Natural Colour (Caramel I), Smoke Flavour, Spices, Natural Flavour, Vegetable Gum (Xanthan Gum)<br>Ingredient: Apple<br>IngredientResearch: Reconstituted Fruit Puree Apple",
          "Product: Woolworths Barbecue Sauce<br>Recipe: Reconstituted Fruit Puree (51%) (Apple Pulp, Tomato Paste), Sugar, Thickener (Modified Corn Starch), Salt, Acidity Regulators (Acetic Acid, Citric Acid), Molasses, Natural Colour (Caramel I), Smoke Flavour, Spices, Natural Flavour, Vegetable Gum (Xanthan Gum)<br>Ingredient: Tomato Paste<br>IngredientResearch: Reconstituted Fruit Puree Tomato Paste",
          "Product: Woolworths Spring Water Bottles<br>Recipe: 100% Natural Spring Water<br>Ingredient: Natural Spring Water<br>IngredientResearch: Natural Spring Water",
          "Product: Woolworths Spring Water<br>Recipe: 100% Natural Spring Water<br>Ingredient: Natural Spring Water<br>IngredientResearch: Natural Spring Water",
          "Product: Smith's Crinkle Cut Potato Chips Original<br>Recipe: Potatoes (64%), Canola Oil, Sunflower Oil, Salt, A,ntioxidants (Tocopherols, Ascorbic Acid, Rosemary,Extract, Citric Acid).<br>Ingredient: Potatoes<br>IngredientResearch: Potatoes",
          "Product: Smith's Crinkle Cut Potato Chips Cheese & Onion<br>Recipe: Potatoes (61%), Canola Oil, Sunflower Oil, Whey Po,wder (Milk), Cheese Powder (Milk), Salt, Onion Pow,der, Dextrose, Maltodextrin, Mineral Salt (Potassi,um Chloride), Flavour Enhancer (621), Natural Flav,ours (Milk), Yeast Extract, Food Acids (Citric Aci,<br>Ingredient: Potatoes<br>IngredientResearch: Potatoes",
          "Product: Smith's Crinkle Cut Potato Chips Barbecue<br>Recipe: Potatoes, Canola Oil, Sunflower Oil, Sugar, Maltod,extrin, Salt, Tomato Powder, Flavour Enhancers (62,1, 635), Food Acids (Sodium Diacetate, Citric Acid,), Flavours, Mineral Salt (Potassium Chloride), On,ion Powder, Garlic Powder, Natural Colour (Paprika,<br>Ingredient: Potatoes<br>IngredientResearch: Potatoes",
          "Product: Smith's Crinkle Cut Potato Chips Chicken<br>Recipe: Potatoes (61%), Canola Oil, Sunflower Oil, Maltode,xtrin, Sugar, Salt, Flavour Enhancers (621, 635, 6,20), Flavours (Milk), Mineral Salt (Potassium Chlo,ride), Onion Powder, Yeast Extract, Herb (Parsley),, Spice (Turmeric), Antioxidants (Tocopherols, ASCORBIC ACID, ROSEMARY EXTRACT, CITRIC ACID)<br>Ingredient: Potatoes<br>IngredientResearch: Potatoes",
          "Product: Smith's Thinly Cut Potato Chips Original Share Pack<br>Recipe: Potatoes (64%), Canola Oil, Sunflower Oil, Salt, Antioxidants (Tocopherols, Ascorbic Acid, Rosemary Extract, Citric Acid).<br>Ingredient: Potatoes<br>IngredientResearch: Potatoes",
          "Product: Smith's Crinkle Cut Potato Chips Salt & Vinegar<br>Recipe: Potatoes (61%), Canola Oil, Sunflower Oil, Food Acids (Sodium Diacetate, Citric Acid), Lactose (Milk), Salt, Mineral Salt (Potassium Chloride), Sugar, Flavour Enhancer (621), Dextrose, Natural Flavours, Antioxidants (Tocopherols, Ascorbic Acid, Rosemary Extract).<br>Ingredient: Potatoes<br>IngredientResearch: Potatoes",
          "Product: Smith's Crinkle Cut Potato Chips Original<br>Recipe: Potatoes (64%), Canola Oil, Sunflower Oil, Salt, A,ntioxidants (Tocopherols, Ascorbic Acid, Rosemary,Extract, Citric Acid).<br>Ingredient: Sunflower Oil<br>IngredientResearch: Sunflower Oil",
          "Product: Smith's Crinkle Cut Potato Chips Cheese & Onion<br>Recipe: Potatoes (61%), Canola Oil, Sunflower Oil, Whey Po,wder (Milk), Cheese Powder (Milk), Salt, Onion Pow,der, Dextrose, Maltodextrin, Mineral Salt (Potassi,um Chloride), Flavour Enhancer (621), Natural Flav,ours (Milk), Yeast Extract, Food Acids (Citric Aci,<br>Ingredient: Sunflower Oil<br>IngredientResearch: Sunflower Oil",
          "Product: Smith's Crinkle Cut Potato Chips Barbecue<br>Recipe: Potatoes, Canola Oil, Sunflower Oil, Sugar, Maltod,extrin, Salt, Tomato Powder, Flavour Enhancers (62,1, 635), Food Acids (Sodium Diacetate, Citric Acid,), Flavours, Mineral Salt (Potassium Chloride), On,ion Powder, Garlic Powder, Natural Colour (Paprika,<br>Ingredient: Sunflower Oil<br>IngredientResearch: Sunflower Oil",
          "Product: Smith's Crinkle Cut Potato Chips Chicken<br>Recipe: Potatoes (61%), Canola Oil, Sunflower Oil, Maltode,xtrin, Sugar, Salt, Flavour Enhancers (621, 635, 6,20), Flavours (Milk), Mineral Salt (Potassium Chlo,ride), Onion Powder, Yeast Extract, Herb (Parsley),, Spice (Turmeric), Antioxidants (Tocopherols, ASCORBIC ACID, ROSEMARY EXTRACT, CITRIC ACID)<br>Ingredient: Sunflower Oil<br>IngredientResearch: Sunflower Oil",
          "Product: Smith's Thinly Cut Potato Chips Original Share Pack<br>Recipe: Potatoes (64%), Canola Oil, Sunflower Oil, Salt, Antioxidants (Tocopherols, Ascorbic Acid, Rosemary Extract, Citric Acid).<br>Ingredient: Sunflower Oil<br>IngredientResearch: Sunflower Oil",
          "Product: Smith's Crinkle Cut Potato Chips Salt & Vinegar<br>Recipe: Potatoes (61%), Canola Oil, Sunflower Oil, Food Acids (Sodium Diacetate, Citric Acid), Lactose (Milk), Salt, Mineral Salt (Potassium Chloride), Sugar, Flavour Enhancer (621), Dextrose, Natural Flavours, Antioxidants (Tocopherols, Ascorbic Acid, Rosemary Extract).<br>Ingredient: Sunflower Oil<br>IngredientResearch: Sunflower Oil",
          "Product: Smith's Crinkle Cut Potato Chips Original<br>Recipe: Potatoes (64%), Canola Oil, Sunflower Oil, Salt, A,ntioxidants (Tocopherols, Ascorbic Acid, Rosemary,Extract, Citric Acid).<br>Ingredient: Tocopherols<br>IngredientResearch: Antioxidant Tocopherols",
          "Product: Smith's Crinkle Cut Potato Chips Chicken<br>Recipe: Potatoes (61%), Canola Oil, Sunflower Oil, Maltode,xtrin, Sugar, Salt, Flavour Enhancers (621, 635, 6,20), Flavours (Milk), Mineral Salt (Potassium Chlo,ride), Onion Powder, Yeast Extract, Herb (Parsley),, Spice (Turmeric), Antioxidants (Tocopherols, ASCORBIC ACID, ROSEMARY EXTRACT, CITRIC ACID)<br>Ingredient: Tocopherols<br>IngredientResearch: Antioxidant Tocopherols",
          "Product: Smith's Thinly Cut Potato Chips Original Share Pack<br>Recipe: Potatoes (64%), Canola Oil, Sunflower Oil, Salt, Antioxidants (Tocopherols, Ascorbic Acid, Rosemary Extract, Citric Acid).<br>Ingredient: Tocopherols<br>IngredientResearch: Antioxidant Tocopherols",
          "Product: Smith's Crinkle Cut Potato Chips Salt & Vinegar<br>Recipe: Potatoes (61%), Canola Oil, Sunflower Oil, Food Acids (Sodium Diacetate, Citric Acid), Lactose (Milk), Salt, Mineral Salt (Potassium Chloride), Sugar, Flavour Enhancer (621), Dextrose, Natural Flavours, Antioxidants (Tocopherols, Ascorbic Acid, Rosemary Extract).<br>Ingredient: Tocopherols<br>IngredientResearch: Antioxidant Tocopherols",
          "Product: Smith's Crinkle Cut Potato Chips Original<br>Recipe: Potatoes (64%), Canola Oil, Sunflower Oil, Salt, A,ntioxidants (Tocopherols, Ascorbic Acid, Rosemary,Extract, Citric Acid).<br>Ingredient: Ascorbic Acid<br>IngredientResearch: Ascorbic Acid",
          "Product: Smith's Crinkle Cut Potato Chips Chicken<br>Recipe: Potatoes (61%), Canola Oil, Sunflower Oil, Maltode,xtrin, Sugar, Salt, Flavour Enhancers (621, 635, 6,20), Flavours (Milk), Mineral Salt (Potassium Chlo,ride), Onion Powder, Yeast Extract, Herb (Parsley),, Spice (Turmeric), Antioxidants (Tocopherols, ASCORBIC ACID, ROSEMARY EXTRACT, CITRIC ACID)<br>Ingredient: Ascorbic Acid<br>IngredientResearch: Ascorbic Acid",
          "Product: Smith's Thinly Cut Potato Chips Original Share Pack<br>Recipe: Potatoes (64%), Canola Oil, Sunflower Oil, Salt, Antioxidants (Tocopherols, Ascorbic Acid, Rosemary Extract, Citric Acid).<br>Ingredient: Ascorbic Acid<br>IngredientResearch: Ascorbic Acid",
          "Product: Smith's Crinkle Cut Potato Chips Salt & Vinegar<br>Recipe: Potatoes (61%), Canola Oil, Sunflower Oil, Food Acids (Sodium Diacetate, Citric Acid), Lactose (Milk), Salt, Mineral Salt (Potassium Chloride), Sugar, Flavour Enhancer (621), Dextrose, Natural Flavours, Antioxidants (Tocopherols, Ascorbic Acid, Rosemary Extract).<br>Ingredient: Ascorbic Acid<br>IngredientResearch: Ascorbic Acid",
          "Product: Woolworths Peach In Strawberry Jelly<br>Recipe: Jelly (70%) (Water, Sugar, Gelling Agents (Carrageenan, Locust Bean Gum, Xanthan Gum), Acidity Regulators (Sodium Citrate, Potassium Citrate, Calcium Lactate, Malic Acid, Citric Acid), Natural Strawberry Flavour, Natural Colour (Cochineal), Antioxidant (Ascorbic Acid)), Peach (30%)<br>Ingredient: Ascorbic Acid<br>IngredientResearch: Ascorbic Acid",
          "Product: Woolworths Two Fruits In Juice Cups<br>Recipe: Fruits (55%) (Peach, Pear), Reconstituted Refined Juice (Water, Concentrated Pear Juice, Antioxidant (Ascorbic Acid), Acidity Regulator (Citric Acid))<br>Ingredient: Ascorbic Acid<br>IngredientResearch: Ascorbic Acid",
          "Product: Woolworths Two Fruits In Juice<br>Recipe: Fruits (55%) (Peach, Pear), Reconstituted Refined Juice (Water, Concentrated Pear Juice, Antioxidant (Ascorbic Acid), Acidity Regulator (Citric Acid))<br>Ingredient: Ascorbic Acid<br>IngredientResearch: Ascorbic Acid",
          "Product: Woolworths Two Fruits In Juice<br>Recipe: Two Fruits (59% min.) (Pear, Peach), Refined Fruit Juice (Apple, Grape, Peach, Pear), Antioxidant (Ascorbic Acid), Acidity Regulator (Citric Acid)<br>Ingredient: Ascorbic Acid<br>IngredientResearch: Ascorbic Acid",
          "Product: Woolworths Two Fruits In Tropical Jelly<br>Recipe: Jelly (70%) (Water, Sugar, Gelling Agents (Carrageenan, Locust Bean Gum, Xanthan Gum), Acidity Regulators (Sodium Citrates, Potassium Citrates, Calcium Lactate, Malic Acid, Citric Acid), Natural Flavours (Pineapple, Mango), Natural Colours (Carotene, Paprika Oleoresins), Antioxidant (Ascorbic Acid)), Peach (15%), Pear (15%)<br>Ingredient: Ascorbic Acid<br>IngredientResearch: Ascorbic Acid",
          "Product: Woolworths Apple In Pineapple Jelly<br>Recipe: Jelly (70%) (Water, Sugar, Gelling Agents (Carrageenan, Locust Bean Gum, Xanthan Gum), Acidity Regulators (Sodium Citrate, Potassium Citrate, Calcium Lactate, Malic Acid, Citric Acid), Natural Pineapple Flavour, Natural Colour (Carotene), Antioxidant (Ascorbic Acid)), Apple (30%)<br>Ingredient: Ascorbic Acid<br>IngredientResearch: Ascorbic Acid",
          "Product: Goulburn Valley Two Fruits In Juice<br>Recipe: Australian Grown Two Fruits (62%)Diced Pears & Peaches, Refined Fruit Juice, Antioxidant (Ascorbic Acid).<br>Ingredient: Ascorbic Acid<br>IngredientResearch: Ascorbic Acid",
          "Product: Goulburn Valley Two Fruits In Juice Fruit Cups In Juice<br>Recipe: Two Fruits (62%)Australian Grown Diced Pears and Peaches, Refined Fruit Juice, Antioxidant (Ascorbic Acid).<br>Ingredient: Ascorbic Acid<br>IngredientResearch: Ascorbic Acid",
          "Product: Smith's Crinkle Cut Potato Chips Original<br>Recipe: Potatoes (64%), Canola Oil, Sunflower Oil, Salt, A,ntioxidants (Tocopherols, Ascorbic Acid, Rosemary,Extract, Citric Acid).<br>Ingredient: Rosemary Extract<br>IngredientResearch: Antioxidant Rosemary Extract",
          "Product: Smith's Crinkle Cut Potato Chips Chicken<br>Recipe: Potatoes (61%), Canola Oil, Sunflower Oil, Maltode,xtrin, Sugar, Salt, Flavour Enhancers (621, 635, 6,20), Flavours (Milk), Mineral Salt (Potassium Chlo,ride), Onion Powder, Yeast Extract, Herb (Parsley),, Spice (Turmeric), Antioxidants (Tocopherols, ASCORBIC ACID, ROSEMARY EXTRACT, CITRIC ACID)<br>Ingredient: Rosemary Extract<br>IngredientResearch: Antioxidant Rosemary Extract",
          "Product: Smith's Thinly Cut Potato Chips Original Share Pack<br>Recipe: Potatoes (64%), Canola Oil, Sunflower Oil, Salt, Antioxidants (Tocopherols, Ascorbic Acid, Rosemary Extract, Citric Acid).<br>Ingredient: Rosemary Extract<br>IngredientResearch: Antioxidant Rosemary Extract",
          "Product: Smith's Crinkle Cut Potato Chips Salt & Vinegar<br>Recipe: Potatoes (61%), Canola Oil, Sunflower Oil, Food Acids (Sodium Diacetate, Citric Acid), Lactose (Milk), Salt, Mineral Salt (Potassium Chloride), Sugar, Flavour Enhancer (621), Dextrose, Natural Flavours, Antioxidants (Tocopherols, Ascorbic Acid, Rosemary Extract).<br>Ingredient: Rosemary Extract<br>IngredientResearch: Antioxidant Rosemary Extract",
          "Product: Smith's Crinkle Cut Potato Chips Original<br>Recipe: Potatoes (64%), Canola Oil, Sunflower Oil, Salt, A,ntioxidants (Tocopherols, Ascorbic Acid, Rosemary,Extract, Citric Acid).<br>Ingredient: Citric Acid<br>IngredientResearch: Citric Acid",
          "Product: Smith's Crinkle Cut Potato Chips Chicken<br>Recipe: Potatoes (61%), Canola Oil, Sunflower Oil, Maltode,xtrin, Sugar, Salt, Flavour Enhancers (621, 635, 6,20), Flavours (Milk), Mineral Salt (Potassium Chlo,ride), Onion Powder, Yeast Extract, Herb (Parsley),, Spice (Turmeric), Antioxidants (Tocopherols, ASCORBIC ACID, ROSEMARY EXTRACT, CITRIC ACID)<br>Ingredient: Citric Acid<br>IngredientResearch: Citric Acid",
          "Product: Smith's Thinly Cut Potato Chips Original Share Pack<br>Recipe: Potatoes (64%), Canola Oil, Sunflower Oil, Salt, Antioxidants (Tocopherols, Ascorbic Acid, Rosemary Extract, Citric Acid).<br>Ingredient: Citric Acid<br>IngredientResearch: Citric Acid",
          "Product: Smith's Crinkle Cut Potato Chips Cheese & Onion<br>Recipe: Potatoes (61%), Canola Oil, Sunflower Oil, Whey Po,wder (Milk), Cheese Powder (Milk), Salt, Onion Pow,der, Dextrose, Maltodextrin, Mineral Salt (Potassi,um Chloride), Flavour Enhancer (621), Natural Flav,ours (Milk), Yeast Extract, Food Acids (Citric Aci,<br>Ingredient: Cheese Powder<br>IngredientResearch: Cheese Powder",
          "Product: Smith's Crinkle Cut Potato Chips Cheese & Onion<br>Recipe: Potatoes (61%), Canola Oil, Sunflower Oil, Whey Po,wder (Milk), Cheese Powder (Milk), Salt, Onion Pow,der, Dextrose, Maltodextrin, Mineral Salt (Potassi,um Chloride), Flavour Enhancer (621), Natural Flav,ours (Milk), Yeast Extract, Food Acids (Citric Aci,<br>Ingredient: Milk<br>IngredientResearch: Flavoured Milk",
          "Product: Smith's Crinkle Cut Potato Chips Chicken<br>Recipe: Potatoes (61%), Canola Oil, Sunflower Oil, Maltode,xtrin, Sugar, Salt, Flavour Enhancers (621, 635, 6,20), Flavours (Milk), Mineral Salt (Potassium Chlo,ride), Onion Powder, Yeast Extract, Herb (Parsley),, Spice (Turmeric), Antioxidants (Tocopherols, ASCORBIC ACID, ROSEMARY EXTRACT, CITRIC ACID)<br>Ingredient: Milk<br>IngredientResearch: Flavoured Milk",
          "Product: Smith's Crinkle Cut Potato Chips Barbecue<br>Recipe: Potatoes, Canola Oil, Sunflower Oil, Sugar, Maltod,extrin, Salt, Tomato Powder, Flavour Enhancers (62,1, 635), Food Acids (Sodium Diacetate, Citric Acid,), Flavours, Mineral Salt (Potassium Chloride), On,ion Powder, Garlic Powder, Natural Colour (Paprika,<br>Ingredient: Tomato Powder<br>IngredientResearch: Tomato Powder",
          "Product: Smith's Crinkle Cut Potato Chips Barbecue<br>Recipe: Potatoes, Canola Oil, Sunflower Oil, Sugar, Maltod,extrin, Salt, Tomato Powder, Flavour Enhancers (62,1, 635), Food Acids (Sodium Diacetate, Citric Acid,), Flavours, Mineral Salt (Potassium Chloride), On,ion Powder, Garlic Powder, Natural Colour (Paprika,<br>Ingredient: Paprika<br>IngredientResearch: Paprika",
          "Product: Smith's Crinkle Cut Potato Chips Chicken<br>Recipe: Potatoes (61%), Canola Oil, Sunflower Oil, Maltode,xtrin, Sugar, Salt, Flavour Enhancers (621, 635, 6,20), Flavours (Milk), Mineral Salt (Potassium Chlo,ride), Onion Powder, Yeast Extract, Herb (Parsley),, Spice (Turmeric), Antioxidants (Tocopherols, ASCORBIC ACID, ROSEMARY EXTRACT, CITRIC ACID)<br>Ingredient: 620<br>IngredientResearch: Flavour Enhancer 620",
          "Product: Smith's Crinkle Cut Potato Chips Chicken<br>Recipe: Potatoes (61%), Canola Oil, Sunflower Oil, Maltode,xtrin, Sugar, Salt, Flavour Enhancers (621, 635, 6,20), Flavours (Milk), Mineral Salt (Potassium Chlo,ride), Onion Powder, Yeast Extract, Herb (Parsley),, Spice (Turmeric), Antioxidants (Tocopherols, ASCORBIC ACID, ROSEMARY EXTRACT, CITRIC ACID)<br>Ingredient: Turmeric<br>IngredientResearch: Turmeric",
          "Product: Smith's Crinkle Cut Potato Chips Salt & Vinegar<br>Recipe: Potatoes (61%), Canola Oil, Sunflower Oil, Food Acids (Sodium Diacetate, Citric Acid), Lactose (Milk), Salt, Mineral Salt (Potassium Chloride), Sugar, Flavour Enhancer (621), Dextrose, Natural Flavours, Antioxidants (Tocopherols, Ascorbic Acid, Rosemary Extract).<br>Ingredient: Lactose<br>IngredientResearch: Milk Lactose",
          "Product: Woolworths Peach In Strawberry Jelly<br>Recipe: Jelly (70%) (Water, Sugar, Gelling Agents (Carrageenan, Locust Bean Gum, Xanthan Gum), Acidity Regulators (Sodium Citrate, Potassium Citrate, Calcium Lactate, Malic Acid, Citric Acid), Natural Strawberry Flavour, Natural Colour (Cochineal), Antioxidant (Ascorbic Acid)), Peach (30%)<br>Ingredient: Carrageenan<br>IngredientResearch: Carrageenan",
          "Product: Woolworths Two Fruits In Tropical Jelly<br>Recipe: Jelly (70%) (Water, Sugar, Gelling Agents (Carrageenan, Locust Bean Gum, Xanthan Gum), Acidity Regulators (Sodium Citrates, Potassium Citrates, Calcium Lactate, Malic Acid, Citric Acid), Natural Flavours (Pineapple, Mango), Natural Colours (Carotene, Paprika Oleoresins), Antioxidant (Ascorbic Acid)), Peach (15%), Pear (15%)<br>Ingredient: Carrageenan<br>IngredientResearch: Carrageenan",
          "Product: Woolworths Apple In Pineapple Jelly<br>Recipe: Jelly (70%) (Water, Sugar, Gelling Agents (Carrageenan, Locust Bean Gum, Xanthan Gum), Acidity Regulators (Sodium Citrate, Potassium Citrate, Calcium Lactate, Malic Acid, Citric Acid), Natural Pineapple Flavour, Natural Colour (Carotene), Antioxidant (Ascorbic Acid)), Apple (30%)<br>Ingredient: Carrageenan<br>IngredientResearch: Carrageenan",
          "Product: Woolworths Peach In Strawberry Jelly<br>Recipe: Jelly (70%) (Water, Sugar, Gelling Agents (Carrageenan, Locust Bean Gum, Xanthan Gum), Acidity Regulators (Sodium Citrate, Potassium Citrate, Calcium Lactate, Malic Acid, Citric Acid), Natural Strawberry Flavour, Natural Colour (Cochineal), Antioxidant (Ascorbic Acid)), Peach (30%)<br>Ingredient: Locust Bean Gum<br>IngredientResearch: Locust Bean Gum",
          "Product: Woolworths Two Fruits In Tropical Jelly<br>Recipe: Jelly (70%) (Water, Sugar, Gelling Agents (Carrageenan, Locust Bean Gum, Xanthan Gum), Acidity Regulators (Sodium Citrates, Potassium Citrates, Calcium Lactate, Malic Acid, Citric Acid), Natural Flavours (Pineapple, Mango), Natural Colours (Carotene, Paprika Oleoresins), Antioxidant (Ascorbic Acid)), Peach (15%), Pear (15%)<br>Ingredient: Locust Bean Gum<br>IngredientResearch: Locust Bean Gum",
          "Product: Woolworths Apple In Pineapple Jelly<br>Recipe: Jelly (70%) (Water, Sugar, Gelling Agents (Carrageenan, Locust Bean Gum, Xanthan Gum), Acidity Regulators (Sodium Citrate, Potassium Citrate, Calcium Lactate, Malic Acid, Citric Acid), Natural Pineapple Flavour, Natural Colour (Carotene), Antioxidant (Ascorbic Acid)), Apple (30%)<br>Ingredient: Locust Bean Gum<br>IngredientResearch: Locust Bean Gum",
          "Product: Woolworths Peach In Strawberry Jelly<br>Recipe: Jelly (70%) (Water, Sugar, Gelling Agents (Carrageenan, Locust Bean Gum, Xanthan Gum), Acidity Regulators (Sodium Citrate, Potassium Citrate, Calcium Lactate, Malic Acid, Citric Acid), Natural Strawberry Flavour, Natural Colour (Cochineal), Antioxidant (Ascorbic Acid)), Peach (30%)<br>Ingredient: Xanthan Gum<br>IngredientResearch: Xanthan Gum",
          "Product: Woolworths Two Fruits In Tropical Jelly<br>Recipe: Jelly (70%) (Water, Sugar, Gelling Agents (Carrageenan, Locust Bean Gum, Xanthan Gum), Acidity Regulators (Sodium Citrates, Potassium Citrates, Calcium Lactate, Malic Acid, Citric Acid), Natural Flavours (Pineapple, Mango), Natural Colours (Carotene, Paprika Oleoresins), Antioxidant (Ascorbic Acid)), Peach (15%), Pear (15%)<br>Ingredient: Xanthan Gum<br>IngredientResearch: Xanthan Gum",
          "Product: Woolworths Apple In Pineapple Jelly<br>Recipe: Jelly (70%) (Water, Sugar, Gelling Agents (Carrageenan, Locust Bean Gum, Xanthan Gum), Acidity Regulators (Sodium Citrate, Potassium Citrate, Calcium Lactate, Malic Acid, Citric Acid), Natural Pineapple Flavour, Natural Colour (Carotene), Antioxidant (Ascorbic Acid)), Apple (30%)<br>Ingredient: Xanthan Gum<br>IngredientResearch: Xanthan Gum",
          "Product: Woolworths Peach In Strawberry Jelly<br>Recipe: Jelly (70%) (Water, Sugar, Gelling Agents (Carrageenan, Locust Bean Gum, Xanthan Gum), Acidity Regulators (Sodium Citrate, Potassium Citrate, Calcium Lactate, Malic Acid, Citric Acid), Natural Strawberry Flavour, Natural Colour (Cochineal), Antioxidant (Ascorbic Acid)), Peach (30%)<br>Ingredient: Sodium Citrate<br>IngredientResearch: Sodium Citrate",
          "Product: Woolworths Two Fruits In Tropical Jelly<br>Recipe: Jelly (70%) (Water, Sugar, Gelling Agents (Carrageenan, Locust Bean Gum, Xanthan Gum), Acidity Regulators (Sodium Citrates, Potassium Citrates, Calcium Lactate, Malic Acid, Citric Acid), Natural Flavours (Pineapple, Mango), Natural Colours (Carotene, Paprika Oleoresins), Antioxidant (Ascorbic Acid)), Peach (15%), Pear (15%)<br>Ingredient: Sodium Citrate<br>IngredientResearch: Sodium Citrate",
          "Product: Woolworths Apple In Pineapple Jelly<br>Recipe: Jelly (70%) (Water, Sugar, Gelling Agents (Carrageenan, Locust Bean Gum, Xanthan Gum), Acidity Regulators (Sodium Citrate, Potassium Citrate, Calcium Lactate, Malic Acid, Citric Acid), Natural Pineapple Flavour, Natural Colour (Carotene), Antioxidant (Ascorbic Acid)), Apple (30%)<br>Ingredient: Sodium Citrate<br>IngredientResearch: Sodium Citrate",
          "Product: Woolworths Peach In Strawberry Jelly<br>Recipe: Jelly (70%) (Water, Sugar, Gelling Agents (Carrageenan, Locust Bean Gum, Xanthan Gum), Acidity Regulators (Sodium Citrate, Potassium Citrate, Calcium Lactate, Malic Acid, Citric Acid), Natural Strawberry Flavour, Natural Colour (Cochineal), Antioxidant (Ascorbic Acid)), Peach (30%)<br>Ingredient: Calcium Lactate<br>IngredientResearch: Calcium Lactate",
          "Product: Woolworths Two Fruits In Tropical Jelly<br>Recipe: Jelly (70%) (Water, Sugar, Gelling Agents (Carrageenan, Locust Bean Gum, Xanthan Gum), Acidity Regulators (Sodium Citrates, Potassium Citrates, Calcium Lactate, Malic Acid, Citric Acid), Natural Flavours (Pineapple, Mango), Natural Colours (Carotene, Paprika Oleoresins), Antioxidant (Ascorbic Acid)), Peach (15%), Pear (15%)<br>Ingredient: Calcium Lactate<br>IngredientResearch: Calcium Lactate",
          "Product: Woolworths Apple In Pineapple Jelly<br>Recipe: Jelly (70%) (Water, Sugar, Gelling Agents (Carrageenan, Locust Bean Gum, Xanthan Gum), Acidity Regulators (Sodium Citrate, Potassium Citrate, Calcium Lactate, Malic Acid, Citric Acid), Natural Pineapple Flavour, Natural Colour (Carotene), Antioxidant (Ascorbic Acid)), Apple (30%)<br>Ingredient: Calcium Lactate<br>IngredientResearch: Calcium Lactate",
          "Product: Woolworths Peach In Strawberry Jelly<br>Recipe: Jelly (70%) (Water, Sugar, Gelling Agents (Carrageenan, Locust Bean Gum, Xanthan Gum), Acidity Regulators (Sodium Citrate, Potassium Citrate, Calcium Lactate, Malic Acid, Citric Acid), Natural Strawberry Flavour, Natural Colour (Cochineal), Antioxidant (Ascorbic Acid)), Peach (30%)<br>Ingredient: Malic Acid<br>IngredientResearch: Malic Acid",
          "Product: Woolworths Two Fruits In Tropical Jelly<br>Recipe: Jelly (70%) (Water, Sugar, Gelling Agents (Carrageenan, Locust Bean Gum, Xanthan Gum), Acidity Regulators (Sodium Citrates, Potassium Citrates, Calcium Lactate, Malic Acid, Citric Acid), Natural Flavours (Pineapple, Mango), Natural Colours (Carotene, Paprika Oleoresins), Antioxidant (Ascorbic Acid)), Peach (15%), Pear (15%)<br>Ingredient: Malic Acid<br>IngredientResearch: Malic Acid",
          "Product: Woolworths Apple In Pineapple Jelly<br>Recipe: Jelly (70%) (Water, Sugar, Gelling Agents (Carrageenan, Locust Bean Gum, Xanthan Gum), Acidity Regulators (Sodium Citrate, Potassium Citrate, Calcium Lactate, Malic Acid, Citric Acid), Natural Pineapple Flavour, Natural Colour (Carotene), Antioxidant (Ascorbic Acid)), Apple (30%)<br>Ingredient: Malic Acid<br>IngredientResearch: Malic Acid",
          "Product: Woolworths Peach In Strawberry Jelly<br>Recipe: Jelly (70%) (Water, Sugar, Gelling Agents (Carrageenan, Locust Bean Gum, Xanthan Gum), Acidity Regulators (Sodium Citrate, Potassium Citrate, Calcium Lactate, Malic Acid, Citric Acid), Natural Strawberry Flavour, Natural Colour (Cochineal), Antioxidant (Ascorbic Acid)), Peach (30%)<br>Ingredient: Natural Strawberry Flavour<br>IngredientResearch: Natural Strawberry Flavour",
          "Product: Woolworths Peach In Strawberry Jelly<br>Recipe: Jelly (70%) (Water, Sugar, Gelling Agents (Carrageenan, Locust Bean Gum, Xanthan Gum), Acidity Regulators (Sodium Citrate, Potassium Citrate, Calcium Lactate, Malic Acid, Citric Acid), Natural Strawberry Flavour, Natural Colour (Cochineal), Antioxidant (Ascorbic Acid)), Peach (30%)<br>Ingredient: Cochineal<br>IngredientResearch: Cochineal",
          "Product: Woolworths Peach In Strawberry Jelly<br>Recipe: Jelly (70%) (Water, Sugar, Gelling Agents (Carrageenan, Locust Bean Gum, Xanthan Gum), Acidity Regulators (Sodium Citrate, Potassium Citrate, Calcium Lactate, Malic Acid, Citric Acid), Natural Strawberry Flavour, Natural Colour (Cochineal), Antioxidant (Ascorbic Acid)), Peach (30%)<br>Ingredient: Peach<br>IngredientResearch: Fruit Peach",
          "Product: Woolworths Two Fruits In Juice Cups<br>Recipe: Fruits (55%) (Peach, Pear), Reconstituted Refined Juice (Water, Concentrated Pear Juice, Antioxidant (Ascorbic Acid), Acidity Regulator (Citric Acid))<br>Ingredient: Peach<br>IngredientResearch: Fruit Peach",
          "Product: Woolworths Two Fruits In Juice<br>Recipe: Fruits (55%) (Peach, Pear), Reconstituted Refined Juice (Water, Concentrated Pear Juice, Antioxidant (Ascorbic Acid), Acidity Regulator (Citric Acid))<br>Ingredient: Peach<br>IngredientResearch: Fruit Peach",
          "Product: Woolworths Two Fruits In Juice<br>Recipe: Two Fruits (59% min.) (Pear, Peach), Refined Fruit Juice (Apple, Grape, Peach, Pear), Antioxidant (Ascorbic Acid), Acidity Regulator (Citric Acid)<br>Ingredient: Peach<br>IngredientResearch: Fruit Peach",
          "Product: Woolworths Two Fruits In Tropical Jelly<br>Recipe: Jelly (70%) (Water, Sugar, Gelling Agents (Carrageenan, Locust Bean Gum, Xanthan Gum), Acidity Regulators (Sodium Citrates, Potassium Citrates, Calcium Lactate, Malic Acid, Citric Acid), Natural Flavours (Pineapple, Mango), Natural Colours (Carotene, Paprika Oleoresins), Antioxidant (Ascorbic Acid)), Peach (15%), Pear (15%)<br>Ingredient: Peach<br>IngredientResearch: Fruit Peach",
          "Product: Woolworths Two Fruits In Juice Cups<br>Recipe: Fruits (55%) (Peach, Pear), Reconstituted Refined Juice (Water, Concentrated Pear Juice, Antioxidant (Ascorbic Acid), Acidity Regulator (Citric Acid))<br>Ingredient: Pear<br>IngredientResearch: Pear",
          "Product: Woolworths Two Fruits In Juice<br>Recipe: Fruits (55%) (Peach, Pear), Reconstituted Refined Juice (Water, Concentrated Pear Juice, Antioxidant (Ascorbic Acid), Acidity Regulator (Citric Acid))<br>Ingredient: Pear<br>IngredientResearch: Pear",
          "Product: Woolworths Two Fruits In Juice<br>Recipe: Two Fruits (59% min.) (Pear, Peach), Refined Fruit Juice (Apple, Grape, Peach, Pear), Antioxidant (Ascorbic Acid), Acidity Regulator (Citric Acid)<br>Ingredient: Pear<br>IngredientResearch: Pear",
          "Product: Woolworths Two Fruits In Tropical Jelly<br>Recipe: Jelly (70%) (Water, Sugar, Gelling Agents (Carrageenan, Locust Bean Gum, Xanthan Gum), Acidity Regulators (Sodium Citrates, Potassium Citrates, Calcium Lactate, Malic Acid, Citric Acid), Natural Flavours (Pineapple, Mango), Natural Colours (Carotene, Paprika Oleoresins), Antioxidant (Ascorbic Acid)), Peach (15%), Pear (15%)<br>Ingredient: Pear<br>IngredientResearch: Pear",
          "Product: Woolworths Two Fruits In Juice Cups<br>Recipe: Fruits (55%) (Peach, Pear), Reconstituted Refined Juice (Water, Concentrated Pear Juice, Antioxidant (Ascorbic Acid), Acidity Regulator (Citric Acid))<br>Ingredient: Concentrated Pear Juice<br>IngredientResearch: Reconstituted Refined Juice Concentrated Pear Juice",
          "Product: Woolworths Two Fruits In Juice<br>Recipe: Fruits (55%) (Peach, Pear), Reconstituted Refined Juice (Water, Concentrated Pear Juice, Antioxidant (Ascorbic Acid), Acidity Regulator (Citric Acid))<br>Ingredient: Concentrated Pear Juice<br>IngredientResearch: Reconstituted Refined Juice Concentrated Pear Juice",
          "Product: Woolworths Two Fruits In Juice<br>Recipe: Two Fruits (59% min.) (Pear, Peach), Refined Fruit Juice (Apple, Grape, Peach, Pear), Antioxidant (Ascorbic Acid), Acidity Regulator (Citric Acid)<br>Ingredient: Apple<br>IngredientResearch: Refined Fruit Juice Apple",
          "Product: Woolworths Two Fruits In Juice<br>Recipe: Two Fruits (59% min.) (Pear, Peach), Refined Fruit Juice (Apple, Grape, Peach, Pear), Antioxidant (Ascorbic Acid), Acidity Regulator (Citric Acid)<br>Ingredient: Grape<br>IngredientResearch: Refined Fruit Juice Grape",
          "Product: Woolworths Two Fruits In Juice<br>Recipe: Two Fruits (59% min.) (Pear, Peach), Refined Fruit Juice (Apple, Grape, Peach, Pear), Antioxidant (Ascorbic Acid), Acidity Regulator (Citric Acid)<br>Ingredient: Peach<br>IngredientResearch: Refined Fruit Juice Peach",
          "Product: Woolworths Two Fruits In Juice<br>Recipe: Two Fruits (59% min.) (Pear, Peach), Refined Fruit Juice (Apple, Grape, Peach, Pear), Antioxidant (Ascorbic Acid), Acidity Regulator (Citric Acid)<br>Ingredient: Pear<br>IngredientResearch: Refined Fruit Juice Pear",
          "Product: Woolworths Two Fruits In Tropical Jelly<br>Recipe: Jelly (70%) (Water, Sugar, Gelling Agents (Carrageenan, Locust Bean Gum, Xanthan Gum), Acidity Regulators (Sodium Citrates, Potassium Citrates, Calcium Lactate, Malic Acid, Citric Acid), Natural Flavours (Pineapple, Mango), Natural Colours (Carotene, Paprika Oleoresins), Antioxidant (Ascorbic Acid)), Peach (15%), Pear (15%)<br>Ingredient: Pineapple<br>IngredientResearch: Natural Flavour Pineapple",
          "Product: Woolworths Two Fruits In Tropical Jelly<br>Recipe: Jelly (70%) (Water, Sugar, Gelling Agents (Carrageenan, Locust Bean Gum, Xanthan Gum), Acidity Regulators (Sodium Citrates, Potassium Citrates, Calcium Lactate, Malic Acid, Citric Acid), Natural Flavours (Pineapple, Mango), Natural Colours (Carotene, Paprika Oleoresins), Antioxidant (Ascorbic Acid)), Peach (15%), Pear (15%)<br>Ingredient: Mango<br>IngredientResearch: Natural Flavour Mango",
          "Product: Woolworths Apple In Pineapple Jelly<br>Recipe: Jelly (70%) (Water, Sugar, Gelling Agents (Carrageenan, Locust Bean Gum, Xanthan Gum), Acidity Regulators (Sodium Citrate, Potassium Citrate, Calcium Lactate, Malic Acid, Citric Acid), Natural Pineapple Flavour, Natural Colour (Carotene), Antioxidant (Ascorbic Acid)), Apple (30%)<br>Ingredient: Natural Pineapple Flavour<br>IngredientResearch: Jelly Natural Pineapple Flavour",
          "Product: Woolworths Apple In Pineapple Jelly<br>Recipe: Jelly (70%) (Water, Sugar, Gelling Agents (Carrageenan, Locust Bean Gum, Xanthan Gum), Acidity Regulators (Sodium Citrate, Potassium Citrate, Calcium Lactate, Malic Acid, Citric Acid), Natural Pineapple Flavour, Natural Colour (Carotene), Antioxidant (Ascorbic Acid)), Apple (30%)<br>Ingredient: Apple<br>IngredientResearch: Apple",
          "Product: Goulburn Valley Two Fruits In Juice<br>Recipe: Australian Grown Two Fruits (62%)Diced Pears & Peaches, Refined Fruit Juice, Antioxidant (Ascorbic Acid).<br>Ingredient: Diced Pears<br>IngredientResearch: Diced Pears",
          "Product: Goulburn Valley Two Fruits In Juice Fruit Cups In Juice<br>Recipe: Two Fruits (62%)Australian Grown Diced Pears and Peaches, Refined Fruit Juice, Antioxidant (Ascorbic Acid).<br>Ingredient: Diced Pears<br>IngredientResearch: Diced Pears",
          "Product: Goulburn Valley Two Fruits In Juice<br>Recipe: Australian Grown Two Fruits (62%)Diced Pears & Peaches, Refined Fruit Juice, Antioxidant (Ascorbic Acid).<br>Ingredient: Diced Peaches<br>IngredientResearch: Diced Peaches",
          "Product: Goulburn Valley Two Fruits In Juice Fruit Cups In Juice<br>Recipe: Two Fruits (62%)Australian Grown Diced Pears and Peaches, Refined Fruit Juice, Antioxidant (Ascorbic Acid).<br>Ingredient: Diced Peaches<br>IngredientResearch: Diced Peaches",
          "Product: Goulburn Valley Two Fruits In Juice<br>Recipe: Australian Grown Two Fruits (62%)Diced Pears & Peaches, Refined Fruit Juice, Antioxidant (Ascorbic Acid).<br>Ingredient: Refined Fruit Juice<br>IngredientResearch: Refined Fruit Juice",
          "Product: Goulburn Valley Two Fruits In Juice Fruit Cups In Juice<br>Recipe: Two Fruits (62%)Australian Grown Diced Pears and Peaches, Refined Fruit Juice, Antioxidant (Ascorbic Acid).<br>Ingredient: Refined Fruit Juice<br>IngredientResearch: Refined Fruit Juice"
         ],
         "type": "scatter",
         "x": [
          12,
          4,
          4,
          8,
          4,
          4,
          4,
          4,
          4,
          4,
          12,
          4,
          4,
          8,
          4,
          4,
          12,
          4,
          4,
          8,
          4,
          4,
          12,
          4,
          4,
          8,
          4,
          4,
          4,
          4,
          4,
          12,
          4,
          4,
          8,
          4,
          8,
          4,
          4,
          4,
          8,
          4,
          4,
          4,
          8,
          4,
          4,
          4,
          4,
          15,
          15,
          15,
          15,
          15,
          15,
          15,
          15,
          15,
          15,
          6,
          6,
          6,
          6,
          6,
          6,
          6,
          6,
          6,
          6,
          6,
          6,
          6,
          6,
          6,
          6,
          6,
          6,
          6,
          6,
          6,
          6,
          6,
          6,
          6,
          4,
          4,
          4,
          4,
          4,
          4,
          4,
          4,
          4,
          6,
          6,
          5,
          5,
          5,
          5,
          5,
          5,
          5,
          5,
          5,
          5,
          5,
          4,
          6,
          6,
          6,
          6,
          3,
          3,
          3,
          3,
          3,
          3,
          3,
          3,
          3,
          3,
          3,
          6,
          6,
          6,
          6,
          4,
          4,
          4,
          4,
          4,
          4,
          4,
          4,
          4,
          4,
          4,
          4,
          4,
          4,
          4,
          4,
          4,
          4,
          4,
          4,
          4,
          4,
          6,
          6,
          6,
          1,
          1,
          1,
          4,
          4,
          4,
          4,
          4,
          4,
          4,
          5,
          5,
          5,
          4,
          5,
          5,
          5,
          5,
          5,
          4,
          4,
          4,
          4,
          5,
          5,
          5,
          5,
          5,
          5,
          5,
          4,
          6,
          6,
          6,
          6,
          5,
          5,
          5,
          5,
          6,
          6,
          6,
          6,
          6,
          6,
          6,
          6,
          4,
          4,
          5,
          6,
          6,
          4,
          4,
          4,
          5,
          5,
          5,
          4,
          4,
          3,
          3,
          3,
          4,
          4,
          4,
          4,
          4,
          4,
          4,
          4,
          5,
          6,
          4,
          4,
          7,
          4,
          4,
          4,
          4,
          4,
          4,
          4,
          4,
          4,
          4,
          4,
          4,
          4,
          4,
          4,
          6,
          5,
          3,
          3,
          4,
          4,
          4,
          4,
          4,
          4,
          4,
          4,
          4,
          4,
          4,
          4,
          4,
          4,
          4,
          4,
          4,
          4,
          4,
          5,
          4,
          4,
          5,
          5,
          5,
          5,
          5,
          5,
          1,
          1,
          1,
          1,
          1,
          5,
          5,
          5,
          5,
          5,
          5,
          10,
          5,
          4,
          6,
          5,
          4,
          1,
          10,
          4,
          4,
          5,
          5,
          4,
          4,
          4,
          4,
          1,
          1,
          4,
          7,
          7,
          6,
          4,
          4,
          4,
          4,
          4,
          4,
          4,
          4,
          4,
          4,
          4,
          5,
          5,
          5,
          4,
          6,
          4,
          4,
          4,
          4,
          4,
          4,
          3,
          3,
          4,
          4,
          4,
          4,
          1,
          3,
          3,
          4,
          4,
          4,
          4,
          4,
          4,
          4,
          4,
          8,
          4,
          4,
          4,
          4,
          4,
          4,
          4,
          4,
          4,
          4,
          4,
          5,
          5,
          5,
          5,
          5,
          5,
          5,
          5,
          5,
          5,
          5,
          5,
          5,
          5,
          5,
          4,
          4,
          4,
          4,
          4,
          4,
          4,
          4,
          4,
          6,
          4,
          4,
          4,
          5,
          4,
          4,
          4,
          4,
          6,
          1,
          5,
          16,
          5,
          4,
          4,
          5,
          5,
          6,
          5,
          5,
          4,
          5,
          5,
          5,
          7,
          7,
          7,
          7,
          4,
          4,
          4,
          4,
          4,
          4,
          4,
          4,
          5,
          6,
          6,
          5,
          5,
          4,
          4,
          4,
          4,
          5,
          5,
          4,
          4,
          12,
          6,
          4,
          4,
          4,
          5,
          8,
          5,
          7,
          7,
          7,
          7,
          7,
          7,
          7,
          4,
          5,
          8,
          5,
          5,
          5,
          5,
          4,
          4,
          4,
          6,
          4,
          7,
          4,
          4,
          5,
          15,
          9,
          9,
          9,
          9,
          9,
          9,
          8,
          8,
          8,
          8,
          8,
          8,
          1,
          1,
          1,
          1,
          5,
          5,
          5,
          5,
          5,
          5,
          5,
          5,
          5,
          5,
          5,
          5,
          4,
          4,
          4,
          4,
          4,
          4,
          4,
          4,
          4,
          4,
          6,
          6,
          4,
          5,
          5,
          4,
          4,
          4,
          5,
          5,
          5,
          5,
          5,
          5,
          5,
          5,
          5,
          5,
          5,
          5,
          4,
          4,
          4,
          4,
          4,
          7,
          7,
          7,
          7,
          7,
          5,
          5,
          5,
          5,
          4,
          4,
          6,
          4,
          4,
          6,
          4,
          4,
          4,
          9,
          4,
          4,
          6,
          6,
          4,
          4
         ],
         "y": [
          0.5,
          0.5,
          0.5,
          3.5,
          3.5,
          3.5,
          4.5,
          0.5,
          2,
          3.5,
          0.5,
          0.5,
          0.5,
          3.5,
          3.5,
          3.5,
          0.5,
          0.5,
          0.5,
          3.5,
          3.5,
          3.5,
          0.5,
          0.5,
          0.5,
          3.5,
          3.5,
          3.5,
          3,
          0.5,
          0.5,
          0.5,
          0.5,
          0.5,
          3.5,
          3.5,
          3.5,
          3.5,
          3.5,
          3.5,
          3.5,
          3.5,
          3.5,
          3.5,
          3.5,
          3.5,
          3.5,
          3.5,
          3.5,
          3,
          3.5,
          3,
          3,
          3,
          0.5,
          0.5,
          0.5,
          1,
          0.5,
          3,
          3.5,
          3,
          3,
          3,
          0.5,
          0.5,
          0.5,
          1,
          0.5,
          4,
          3.5,
          2.5,
          2.5,
          2,
          2.5,
          1,
          1.5,
          2,
          2.5,
          3,
          2.5,
          2.5,
          2.5,
          2,
          3,
          3.5,
          3,
          3,
          3,
          3,
          2.5,
          2.5,
          2,
          3,
          2.5,
          3,
          3,
          1.5,
          3,
          2.5,
          2.5,
          3,
          3,
          1,
          3,
          2.5,
          1,
          3.5,
          3,
          2.5,
          1,
          0.5,
          2,
          4,
          3,
          1,
          1.5,
          3,
          3.5,
          3.5,
          3,
          3,
          3,
          3,
          0.5,
          0.5,
          2,
          2,
          3,
          2,
          2,
          3,
          3.5,
          3,
          3,
          3.5,
          3,
          3,
          3,
          0.5,
          0.5,
          1,
          0.5,
          4,
          3,
          3.5,
          3,
          3,
          3,
          3.5,
          3,
          3,
          3.5,
          3,
          3,
          3.5,
          3,
          3,
          3,
          2.5,
          2.5,
          3,
          3.5,
          3,
          3,
          3,
          3,
          3,
          2.5,
          2.5,
          3,
          3.5,
          3,
          3.5,
          3,
          3.5,
          3,
          0.5,
          3,
          3,
          3.5,
          3,
          3,
          3.5,
          3,
          3.5,
          3,
          3.5,
          3,
          3.5,
          3,
          3.5,
          3.5,
          3,
          3,
          2.5,
          2.5,
          2,
          3,
          3.5,
          3.5,
          3.5,
          2.5,
          3.5,
          3,
          3,
          3,
          3,
          3,
          3,
          3,
          3,
          3.5,
          3,
          3,
          3.5,
          3,
          3,
          0.5,
          1,
          2.5,
          3,
          3,
          3,
          3,
          3,
          4.5,
          3,
          4.5,
          2,
          0.5,
          2.5,
          1,
          3,
          2.5,
          2,
          4.5,
          2,
          2.5,
          3,
          0.5,
          2,
          5,
          4.5,
          0.5,
          3.5,
          0.5,
          3.5,
          0.5,
          3.5,
          0.5,
          3.5,
          0.5,
          3.5,
          0.5,
          3.5,
          2,
          2,
          2,
          2,
          2,
          2,
          2,
          2,
          2,
          2,
          2,
          2,
          0.5,
          0.5,
          0.5,
          0.5,
          1,
          0.5,
          0.5,
          0.5,
          0.5,
          1,
          0.5,
          0.5,
          0.5,
          1,
          0.5,
          0.5,
          0.5,
          4,
          3.5,
          0.5,
          0.5,
          0.5,
          0.5,
          0.5,
          4,
          1,
          0.5,
          0.5,
          0.5,
          0.5,
          0.5,
          0.5,
          0.5,
          0.5,
          0.5,
          0.5,
          0.5,
          1,
          0.5,
          0.5,
          0.5,
          2.5,
          2.5,
          3,
          3,
          2.5,
          2.5,
          2,
          0.5,
          0.5,
          0.5,
          1,
          3,
          0.5,
          1,
          1,
          3.5,
          1,
          0.5,
          1,
          1,
          0.5,
          1,
          0.5,
          1,
          0.5,
          0.5,
          3,
          3,
          2,
          1.5,
          2.5,
          2.5,
          2.5,
          3,
          2.5,
          3,
          3,
          4.5,
          2.5,
          2.5,
          2,
          1.5,
          2,
          3,
          3.5,
          3.5,
          3.5,
          3,
          3,
          2.5,
          2.5,
          3,
          2.5,
          3,
          3,
          0.5,
          2.5,
          2.5,
          3,
          3,
          0.5,
          2.5,
          2.5,
          3,
          3,
          2.5,
          3,
          2.5,
          0.5,
          2.5,
          3,
          0.5,
          2.5,
          3,
          3,
          3,
          3,
          3,
          3,
          0.5,
          2,
          3,
          3,
          3,
          0.5,
          4.5,
          4.5,
          2,
          3,
          2,
          4,
          4,
          3.5,
          3.5,
          3.5,
          3,
          2.5,
          2.5,
          2.5,
          2.5,
          2,
          2,
          2.5,
          2.5,
          2,
          2,
          2.5,
          2.5,
          2.5,
          2,
          2,
          2,
          2.5,
          2,
          2,
          2,
          2,
          2,
          2,
          2,
          2,
          2.5,
          1,
          4.5,
          1,
          1,
          1,
          1,
          1,
          1,
          1,
          1.5,
          2.5,
          3,
          2.5,
          2.5,
          2.5,
          2,
          1.5,
          1.5,
          1.5,
          1.5,
          1.5,
          3,
          3,
          1.5,
          3,
          1.5,
          1.5,
          1.5,
          1.5,
          2,
          2,
          5,
          5,
          2.5,
          3,
          2.5,
          2.5,
          2.5,
          2,
          2.5,
          3,
          2.5,
          2.5,
          2.5,
          2,
          2.5,
          2.5,
          2.5,
          2,
          2.5,
          2.5,
          2.5,
          2,
          3,
          3.5,
          3.5,
          3.5,
          3,
          3,
          3.5,
          3.5,
          2.5,
          2.5,
          2.5,
          2,
          2.5,
          2.5,
          2.5,
          3,
          3,
          2.5,
          2.5,
          2.5,
          2.5,
          2.5,
          2,
          3,
          3,
          3,
          3,
          3,
          3,
          3,
          3,
          3,
          3,
          3,
          3,
          3,
          3,
          3,
          3,
          3,
          3,
          3,
          3,
          3,
          3.5,
          3.5,
          3.5,
          3,
          3.5,
          3.5,
          3.5,
          3,
          3.5,
          3.5,
          3.5,
          3.5,
          3.5,
          3.5,
          3,
          3,
          3,
          3,
          3.5,
          3.5,
          3.5,
          3.5,
          3.5,
          3.5
         ]
        }
       ],
       "layout": {
        "hovermode": "closest",
        "template": {
         "data": {
          "bar": [
           {
            "error_x": {
             "color": "#2a3f5f"
            },
            "error_y": {
             "color": "#2a3f5f"
            },
            "marker": {
             "line": {
              "color": "#E5ECF6",
              "width": 0.5
             },
             "pattern": {
              "fillmode": "overlay",
              "size": 10,
              "solidity": 0.2
             }
            },
            "type": "bar"
           }
          ],
          "barpolar": [
           {
            "marker": {
             "line": {
              "color": "#E5ECF6",
              "width": 0.5
             },
             "pattern": {
              "fillmode": "overlay",
              "size": 10,
              "solidity": 0.2
             }
            },
            "type": "barpolar"
           }
          ],
          "carpet": [
           {
            "aaxis": {
             "endlinecolor": "#2a3f5f",
             "gridcolor": "white",
             "linecolor": "white",
             "minorgridcolor": "white",
             "startlinecolor": "#2a3f5f"
            },
            "baxis": {
             "endlinecolor": "#2a3f5f",
             "gridcolor": "white",
             "linecolor": "white",
             "minorgridcolor": "white",
             "startlinecolor": "#2a3f5f"
            },
            "type": "carpet"
           }
          ],
          "choropleth": [
           {
            "colorbar": {
             "outlinewidth": 0,
             "ticks": ""
            },
            "type": "choropleth"
           }
          ],
          "contour": [
           {
            "colorbar": {
             "outlinewidth": 0,
             "ticks": ""
            },
            "colorscale": [
             [
              0,
              "#0d0887"
             ],
             [
              0.1111111111111111,
              "#46039f"
             ],
             [
              0.2222222222222222,
              "#7201a8"
             ],
             [
              0.3333333333333333,
              "#9c179e"
             ],
             [
              0.4444444444444444,
              "#bd3786"
             ],
             [
              0.5555555555555556,
              "#d8576b"
             ],
             [
              0.6666666666666666,
              "#ed7953"
             ],
             [
              0.7777777777777778,
              "#fb9f3a"
             ],
             [
              0.8888888888888888,
              "#fdca26"
             ],
             [
              1,
              "#f0f921"
             ]
            ],
            "type": "contour"
           }
          ],
          "contourcarpet": [
           {
            "colorbar": {
             "outlinewidth": 0,
             "ticks": ""
            },
            "type": "contourcarpet"
           }
          ],
          "heatmap": [
           {
            "colorbar": {
             "outlinewidth": 0,
             "ticks": ""
            },
            "colorscale": [
             [
              0,
              "#0d0887"
             ],
             [
              0.1111111111111111,
              "#46039f"
             ],
             [
              0.2222222222222222,
              "#7201a8"
             ],
             [
              0.3333333333333333,
              "#9c179e"
             ],
             [
              0.4444444444444444,
              "#bd3786"
             ],
             [
              0.5555555555555556,
              "#d8576b"
             ],
             [
              0.6666666666666666,
              "#ed7953"
             ],
             [
              0.7777777777777778,
              "#fb9f3a"
             ],
             [
              0.8888888888888888,
              "#fdca26"
             ],
             [
              1,
              "#f0f921"
             ]
            ],
            "type": "heatmap"
           }
          ],
          "heatmapgl": [
           {
            "colorbar": {
             "outlinewidth": 0,
             "ticks": ""
            },
            "colorscale": [
             [
              0,
              "#0d0887"
             ],
             [
              0.1111111111111111,
              "#46039f"
             ],
             [
              0.2222222222222222,
              "#7201a8"
             ],
             [
              0.3333333333333333,
              "#9c179e"
             ],
             [
              0.4444444444444444,
              "#bd3786"
             ],
             [
              0.5555555555555556,
              "#d8576b"
             ],
             [
              0.6666666666666666,
              "#ed7953"
             ],
             [
              0.7777777777777778,
              "#fb9f3a"
             ],
             [
              0.8888888888888888,
              "#fdca26"
             ],
             [
              1,
              "#f0f921"
             ]
            ],
            "type": "heatmapgl"
           }
          ],
          "histogram": [
           {
            "marker": {
             "pattern": {
              "fillmode": "overlay",
              "size": 10,
              "solidity": 0.2
             }
            },
            "type": "histogram"
           }
          ],
          "histogram2d": [
           {
            "colorbar": {
             "outlinewidth": 0,
             "ticks": ""
            },
            "colorscale": [
             [
              0,
              "#0d0887"
             ],
             [
              0.1111111111111111,
              "#46039f"
             ],
             [
              0.2222222222222222,
              "#7201a8"
             ],
             [
              0.3333333333333333,
              "#9c179e"
             ],
             [
              0.4444444444444444,
              "#bd3786"
             ],
             [
              0.5555555555555556,
              "#d8576b"
             ],
             [
              0.6666666666666666,
              "#ed7953"
             ],
             [
              0.7777777777777778,
              "#fb9f3a"
             ],
             [
              0.8888888888888888,
              "#fdca26"
             ],
             [
              1,
              "#f0f921"
             ]
            ],
            "type": "histogram2d"
           }
          ],
          "histogram2dcontour": [
           {
            "colorbar": {
             "outlinewidth": 0,
             "ticks": ""
            },
            "colorscale": [
             [
              0,
              "#0d0887"
             ],
             [
              0.1111111111111111,
              "#46039f"
             ],
             [
              0.2222222222222222,
              "#7201a8"
             ],
             [
              0.3333333333333333,
              "#9c179e"
             ],
             [
              0.4444444444444444,
              "#bd3786"
             ],
             [
              0.5555555555555556,
              "#d8576b"
             ],
             [
              0.6666666666666666,
              "#ed7953"
             ],
             [
              0.7777777777777778,
              "#fb9f3a"
             ],
             [
              0.8888888888888888,
              "#fdca26"
             ],
             [
              1,
              "#f0f921"
             ]
            ],
            "type": "histogram2dcontour"
           }
          ],
          "mesh3d": [
           {
            "colorbar": {
             "outlinewidth": 0,
             "ticks": ""
            },
            "type": "mesh3d"
           }
          ],
          "parcoords": [
           {
            "line": {
             "colorbar": {
              "outlinewidth": 0,
              "ticks": ""
             }
            },
            "type": "parcoords"
           }
          ],
          "pie": [
           {
            "automargin": true,
            "type": "pie"
           }
          ],
          "scatter": [
           {
            "fillpattern": {
             "fillmode": "overlay",
             "size": 10,
             "solidity": 0.2
            },
            "type": "scatter"
           }
          ],
          "scatter3d": [
           {
            "line": {
             "colorbar": {
              "outlinewidth": 0,
              "ticks": ""
             }
            },
            "marker": {
             "colorbar": {
              "outlinewidth": 0,
              "ticks": ""
             }
            },
            "type": "scatter3d"
           }
          ],
          "scattercarpet": [
           {
            "marker": {
             "colorbar": {
              "outlinewidth": 0,
              "ticks": ""
             }
            },
            "type": "scattercarpet"
           }
          ],
          "scattergeo": [
           {
            "marker": {
             "colorbar": {
              "outlinewidth": 0,
              "ticks": ""
             }
            },
            "type": "scattergeo"
           }
          ],
          "scattergl": [
           {
            "marker": {
             "colorbar": {
              "outlinewidth": 0,
              "ticks": ""
             }
            },
            "type": "scattergl"
           }
          ],
          "scattermapbox": [
           {
            "marker": {
             "colorbar": {
              "outlinewidth": 0,
              "ticks": ""
             }
            },
            "type": "scattermapbox"
           }
          ],
          "scatterpolar": [
           {
            "marker": {
             "colorbar": {
              "outlinewidth": 0,
              "ticks": ""
             }
            },
            "type": "scatterpolar"
           }
          ],
          "scatterpolargl": [
           {
            "marker": {
             "colorbar": {
              "outlinewidth": 0,
              "ticks": ""
             }
            },
            "type": "scatterpolargl"
           }
          ],
          "scatterternary": [
           {
            "marker": {
             "colorbar": {
              "outlinewidth": 0,
              "ticks": ""
             }
            },
            "type": "scatterternary"
           }
          ],
          "surface": [
           {
            "colorbar": {
             "outlinewidth": 0,
             "ticks": ""
            },
            "colorscale": [
             [
              0,
              "#0d0887"
             ],
             [
              0.1111111111111111,
              "#46039f"
             ],
             [
              0.2222222222222222,
              "#7201a8"
             ],
             [
              0.3333333333333333,
              "#9c179e"
             ],
             [
              0.4444444444444444,
              "#bd3786"
             ],
             [
              0.5555555555555556,
              "#d8576b"
             ],
             [
              0.6666666666666666,
              "#ed7953"
             ],
             [
              0.7777777777777778,
              "#fb9f3a"
             ],
             [
              0.8888888888888888,
              "#fdca26"
             ],
             [
              1,
              "#f0f921"
             ]
            ],
            "type": "surface"
           }
          ],
          "table": [
           {
            "cells": {
             "fill": {
              "color": "#EBF0F8"
             },
             "line": {
              "color": "white"
             }
            },
            "header": {
             "fill": {
              "color": "#C8D4E3"
             },
             "line": {
              "color": "white"
             }
            },
            "type": "table"
           }
          ]
         },
         "layout": {
          "annotationdefaults": {
           "arrowcolor": "#2a3f5f",
           "arrowhead": 0,
           "arrowwidth": 1
          },
          "autotypenumbers": "strict",
          "coloraxis": {
           "colorbar": {
            "outlinewidth": 0,
            "ticks": ""
           }
          },
          "colorscale": {
           "diverging": [
            [
             0,
             "#8e0152"
            ],
            [
             0.1,
             "#c51b7d"
            ],
            [
             0.2,
             "#de77ae"
            ],
            [
             0.3,
             "#f1b6da"
            ],
            [
             0.4,
             "#fde0ef"
            ],
            [
             0.5,
             "#f7f7f7"
            ],
            [
             0.6,
             "#e6f5d0"
            ],
            [
             0.7,
             "#b8e186"
            ],
            [
             0.8,
             "#7fbc41"
            ],
            [
             0.9,
             "#4d9221"
            ],
            [
             1,
             "#276419"
            ]
           ],
           "sequential": [
            [
             0,
             "#0d0887"
            ],
            [
             0.1111111111111111,
             "#46039f"
            ],
            [
             0.2222222222222222,
             "#7201a8"
            ],
            [
             0.3333333333333333,
             "#9c179e"
            ],
            [
             0.4444444444444444,
             "#bd3786"
            ],
            [
             0.5555555555555556,
             "#d8576b"
            ],
            [
             0.6666666666666666,
             "#ed7953"
            ],
            [
             0.7777777777777778,
             "#fb9f3a"
            ],
            [
             0.8888888888888888,
             "#fdca26"
            ],
            [
             1,
             "#f0f921"
            ]
           ],
           "sequentialminus": [
            [
             0,
             "#0d0887"
            ],
            [
             0.1111111111111111,
             "#46039f"
            ],
            [
             0.2222222222222222,
             "#7201a8"
            ],
            [
             0.3333333333333333,
             "#9c179e"
            ],
            [
             0.4444444444444444,
             "#bd3786"
            ],
            [
             0.5555555555555556,
             "#d8576b"
            ],
            [
             0.6666666666666666,
             "#ed7953"
            ],
            [
             0.7777777777777778,
             "#fb9f3a"
            ],
            [
             0.8888888888888888,
             "#fdca26"
            ],
            [
             1,
             "#f0f921"
            ]
           ]
          },
          "colorway": [
           "#636efa",
           "#EF553B",
           "#00cc96",
           "#ab63fa",
           "#FFA15A",
           "#19d3f3",
           "#FF6692",
           "#B6E880",
           "#FF97FF",
           "#FECB52"
          ],
          "font": {
           "color": "#2a3f5f"
          },
          "geo": {
           "bgcolor": "white",
           "lakecolor": "white",
           "landcolor": "#E5ECF6",
           "showlakes": true,
           "showland": true,
           "subunitcolor": "white"
          },
          "hoverlabel": {
           "align": "left"
          },
          "hovermode": "closest",
          "mapbox": {
           "style": "light"
          },
          "paper_bgcolor": "white",
          "plot_bgcolor": "#E5ECF6",
          "polar": {
           "angularaxis": {
            "gridcolor": "white",
            "linecolor": "white",
            "ticks": ""
           },
           "bgcolor": "#E5ECF6",
           "radialaxis": {
            "gridcolor": "white",
            "linecolor": "white",
            "ticks": ""
           }
          },
          "scene": {
           "xaxis": {
            "backgroundcolor": "#E5ECF6",
            "gridcolor": "white",
            "gridwidth": 2,
            "linecolor": "white",
            "showbackground": true,
            "ticks": "",
            "zerolinecolor": "white"
           },
           "yaxis": {
            "backgroundcolor": "#E5ECF6",
            "gridcolor": "white",
            "gridwidth": 2,
            "linecolor": "white",
            "showbackground": true,
            "ticks": "",
            "zerolinecolor": "white"
           },
           "zaxis": {
            "backgroundcolor": "#E5ECF6",
            "gridcolor": "white",
            "gridwidth": 2,
            "linecolor": "white",
            "showbackground": true,
            "ticks": "",
            "zerolinecolor": "white"
           }
          },
          "shapedefaults": {
           "line": {
            "color": "#2a3f5f"
           }
          },
          "ternary": {
           "aaxis": {
            "gridcolor": "white",
            "linecolor": "white",
            "ticks": ""
           },
           "baxis": {
            "gridcolor": "white",
            "linecolor": "white",
            "ticks": ""
           },
           "bgcolor": "#E5ECF6",
           "caxis": {
            "gridcolor": "white",
            "linecolor": "white",
            "ticks": ""
           }
          },
          "title": {
           "x": 0.05
          },
          "xaxis": {
           "automargin": true,
           "gridcolor": "white",
           "linecolor": "white",
           "ticks": "",
           "title": {
            "standoff": 15
           },
           "zerolinecolor": "white",
           "zerolinewidth": 2
          },
          "yaxis": {
           "automargin": true,
           "gridcolor": "white",
           "linecolor": "white",
           "ticks": "",
           "title": {
            "standoff": 15
           },
           "zerolinecolor": "white",
           "zerolinewidth": 2
          }
         }
        },
        "title": {
         "text": "Relationship between Health Star Rating and Nutritionalinformation Count"
        },
        "xaxis": {
         "title": {
          "text": "NutritionalinformationCount"
         }
        },
        "yaxis": {
         "title": {
          "text": "Health Star Rating"
         }
        }
       }
      }
     },
     "metadata": {},
     "output_type": "display_data"
    }
   ],
   "source": [
    "import plotly.graph_objs as go\n",
    "import pandas as pd\n",
    "from scipy.stats import pearsonr\n",
    "\n",
    "\n",
    "df = df.dropna(subset=['NutritionalinformationCount', 'HealthStarRating'])\n",
    "\n",
    "# change \"HealthStarRating\" column to the float format\n",
    "df['HealthStarRating'] = df['HealthStarRating'].astype(float)\n",
    "\n",
    "\n",
    "correlation = df['HealthStarRating'].corr(df['NutritionalinformationCount'])\n",
    "print(f'Correlation between Health Star Rating and Nutritionalinformation Count: {correlation}')\n",
    "\n",
    "c#orrelation = df['HealthStarRating'].corr(df['NutritionalinformationCount'])\n",
    "\n",
    "\n",
    "#print(f'Correlation between Health Star Rating and Nutritionalinformation Count: {correlation:.2f}')\n",
    "\n",
    "trace = go.Scatter(\n",
    "    x=df['NutritionalinformationCount'],\n",
    "    y=df['HealthStarRating'],\n",
    "    mode='markers',\n",
    "    text=[f\"Product: {product}<br>Recipe: {recipe}<br>Ingredient: {ingredient}<br>IngredientResearch: {research}\"\n",
    "          for product, recipe, ingredient, research in zip(df['Product'], df['Recipe'], df['Ingredient'], df['IngredientResearch'])],\n",
    "    marker=dict(\n",
    "        color='rgba(152, 0, 0, 0.8)',\n",
    "        line=dict(\n",
    "            color='rgba(0, 0, 0, 0.5)',\n",
    "            width=1\n",
    "        )\n",
    "    )\n",
    ")\n",
    "\n",
    "layout = go.Layout(\n",
    "    title='Relationship between Health Star Rating and Nutritionalinformation Count',\n",
    "    xaxis=dict(title='NutritionalinformationCount'),\n",
    "    yaxis=dict(title='Health Star Rating'),\n",
    "    hovermode='closest'\n",
    ")\n",
    "\n",
    "fig = go.Figure(data=[trace], layout=layout)\n",
    "fig.show()"
   ]
  },
  {
   "cell_type": "code",
   "execution_count": null,
   "metadata": {},
   "outputs": [],
   "source": [
    "import plotly.graph_objs as go\n",
    "import pandas as pd\n",
    "from scipy.stats import pearsonr\n",
    "\n",
    "\n",
    "df = df.dropna(subset=['NutritionalinformationCount', 'HealthStarRating'])\n",
    "\n",
    "\n",
    "df['HealthStarRating'] = df['HealthStarRating'].astype(float)\n",
    "\n",
    "\n",
    "correlation = df['HealthStarRating'].corr(df['NutritionalinformationCount'])\n",
    "print(f'Correlation between Health Star Rating and Nutritionalinformation Count: {correlation}')\n",
    "\n",
    "c#orrelation = df['HealthStarRating'].corr(df['NutritionalinformationCount'])\n",
    "\n",
    "\n",
    "#print(f'Correlation between Health Star Rating and Nutritionalinformation Count: {correlation:.2f}')\n",
    "\n",
    "trace = go.Scatter(\n",
    "    x=df['NutritionalinformationCount'],\n",
    "    y=df['HealthStarRating'],\n",
    "    mode='markers',\n",
    "    text=[f\"Product: {product}<br>Recipe: {recipe}<br>Ingredient: {ingredient}<br>IngredientResearch: {research}\"\n",
    "          for product, recipe, ingredient, research in zip(df['Product'], df['Recipe'], df['Ingredient'], df['IngredientResearch'])],\n",
    "    marker=dict(\n",
    "        color='rgba(152, 0, 0, 0.8)',\n",
    "        line=dict(\n",
    "            color='rgba(0, 0, 0, 0.5)',\n",
    "            width=1\n",
    "        )\n",
    "    )\n",
    ")\n",
    "\n",
    "layout = go.Layout(\n",
    "    title='Relationship between Health Star Rating and Nutritionalinformation Count',\n",
    "    xaxis=dict(title='NutritionalinformationCount'),\n",
    "    yaxis=dict(title='Health Star Rating'),\n",
    "    hovermode='closest'\n",
    ")\n",
    "\n",
    "fig = go.Figure(data=[trace], layout=layout)\n",
    "fig.show()"
   ]
  }
 ],
 "metadata": {
  "kernelspec": {
   "display_name": "base",
   "language": "python",
   "name": "python3"
  },
  "language_info": {
   "codemirror_mode": {
    "name": "ipython",
    "version": 3
   },
   "file_extension": ".py",
   "mimetype": "text/x-python",
   "name": "python",
   "nbconvert_exporter": "python",
   "pygments_lexer": "ipython3",
   "version": "3.10.9"
  }
 },
 "nbformat": 4,
 "nbformat_minor": 2
}
